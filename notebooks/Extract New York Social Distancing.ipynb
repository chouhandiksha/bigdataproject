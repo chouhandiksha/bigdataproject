{
 "cells": [
  {
   "cell_type": "code",
   "execution_count": 6,
   "id": "supposed-holocaust",
   "metadata": {},
   "outputs": [],
   "source": [
    "import pandas as pd\n",
    "import geopandas\n",
    "import matplotlib.pyplot as plt"
   ]
  },
  {
   "cell_type": "code",
   "execution_count": 7,
   "id": "silent-payroll",
   "metadata": {},
   "outputs": [],
   "source": [
    "# New York Counties\n",
    "fips = ['36061','36047','36005','36085','36081']"
   ]
  },
  {
   "cell_type": "code",
   "execution_count": 8,
   "id": "incredible-sigma",
   "metadata": {},
   "outputs": [],
   "source": [
    "def filter_fips(df, fips=fips):\n",
    "    return df[df['cbg'].astype(str).str[:5].isin(fips)]"
   ]
  },
  {
   "cell_type": "code",
   "execution_count": 9,
   "id": "compressed-catering",
   "metadata": {},
   "outputs": [],
   "source": [
    "def get_fips(fname, filepath, fips, dirout):\n",
    "    df = pd.read_csv(filepath, compression='gzip', dtype={'origin_census_block_group': object})\n",
    "    df = df.rename(columns={'origin_census_block_group':'cbg'})\n",
    "    df = filter_fips(df)\n",
    "    df.to_csv(dirout)"
   ]
  },
  {
   "cell_type": "code",
   "execution_count": 10,
   "id": "sharing-alignment",
   "metadata": {},
   "outputs": [
    {
     "data": {
      "application/vnd.jupyter.widget-view+json": {
       "model_id": "654f38305e1040ae83895f37fba78975",
       "version_major": 2,
       "version_minor": 0
      },
      "text/plain": [
       "months:   0%|          | 0/12 [00:00<?, ?it/s]"
      ]
     },
     "metadata": {},
     "output_type": "display_data"
    },
    {
     "data": {
      "application/vnd.jupyter.widget-view+json": {
       "model_id": "2523a993df914aa59740f99b79f3c0ed",
       "version_major": 2,
       "version_minor": 0
      },
      "text/plain": [
       "days:   0%|          | 0/31 [00:00<?, ?it/s]"
      ]
     },
     "metadata": {},
     "output_type": "display_data"
    },
    {
     "data": {
      "application/vnd.jupyter.widget-view+json": {
       "model_id": "f063a14fc2af43f29cd7c5dfa6b6037b",
       "version_major": 2,
       "version_minor": 0
      },
      "text/plain": [
       "days:   0%|          | 0/30 [00:00<?, ?it/s]"
      ]
     },
     "metadata": {},
     "output_type": "display_data"
    },
    {
     "data": {
      "application/vnd.jupyter.widget-view+json": {
       "model_id": "190595716da644fc9e56a5dbd2273b42",
       "version_major": 2,
       "version_minor": 0
      },
      "text/plain": [
       "days:   0%|          | 0/31 [00:00<?, ?it/s]"
      ]
     },
     "metadata": {},
     "output_type": "display_data"
    },
    {
     "data": {
      "application/vnd.jupyter.widget-view+json": {
       "model_id": "206ba6ab03a54584bf215f232c72089f",
       "version_major": 2,
       "version_minor": 0
      },
      "text/plain": [
       "days:   0%|          | 0/29 [00:00<?, ?it/s]"
      ]
     },
     "metadata": {},
     "output_type": "display_data"
    },
    {
     "data": {
      "application/vnd.jupyter.widget-view+json": {
       "model_id": "2906ca56bb3c411fb95a7c5f72d43dc2",
       "version_major": 2,
       "version_minor": 0
      },
      "text/plain": [
       "days:   0%|          | 0/30 [00:00<?, ?it/s]"
      ]
     },
     "metadata": {},
     "output_type": "display_data"
    },
    {
     "data": {
      "application/vnd.jupyter.widget-view+json": {
       "model_id": "a3bd5d81fd994886af4416ed01a04d54",
       "version_major": 2,
       "version_minor": 0
      },
      "text/plain": [
       "days:   0%|          | 0/31 [00:00<?, ?it/s]"
      ]
     },
     "metadata": {},
     "output_type": "display_data"
    },
    {
     "data": {
      "application/vnd.jupyter.widget-view+json": {
       "model_id": "6955dd632e3346ab8c62ffd38bdd1856",
       "version_major": 2,
       "version_minor": 0
      },
      "text/plain": [
       "days:   0%|          | 0/31 [00:00<?, ?it/s]"
      ]
     },
     "metadata": {},
     "output_type": "display_data"
    },
    {
     "data": {
      "application/vnd.jupyter.widget-view+json": {
       "model_id": "be08f23bf4a443df8d3f348cde4c160a",
       "version_major": 2,
       "version_minor": 0
      },
      "text/plain": [
       "days:   0%|          | 0/30 [00:00<?, ?it/s]"
      ]
     },
     "metadata": {},
     "output_type": "display_data"
    },
    {
     "data": {
      "application/vnd.jupyter.widget-view+json": {
       "model_id": "2b6b9cdc7d81463ab1760cc35a8b9de5",
       "version_major": 2,
       "version_minor": 0
      },
      "text/plain": [
       "days:   0%|          | 0/31 [00:00<?, ?it/s]"
      ]
     },
     "metadata": {},
     "output_type": "display_data"
    },
    {
     "data": {
      "application/vnd.jupyter.widget-view+json": {
       "model_id": "2fc3da504ddb48878d48b79b722312e6",
       "version_major": 2,
       "version_minor": 0
      },
      "text/plain": [
       "days:   0%|          | 0/31 [00:00<?, ?it/s]"
      ]
     },
     "metadata": {},
     "output_type": "display_data"
    },
    {
     "data": {
      "application/vnd.jupyter.widget-view+json": {
       "model_id": "63b0c5c31cee44409853e1efb539e1ed",
       "version_major": 2,
       "version_minor": 0
      },
      "text/plain": [
       "days:   0%|          | 0/30 [00:00<?, ?it/s]"
      ]
     },
     "metadata": {},
     "output_type": "display_data"
    },
    {
     "data": {
      "application/vnd.jupyter.widget-view+json": {
       "model_id": "cd2169e382c44bedb0cab2ca84d23e05",
       "version_major": 2,
       "version_minor": 0
      },
      "text/plain": [
       "days:   0%|          | 0/31 [00:00<?, ?it/s]"
      ]
     },
     "metadata": {},
     "output_type": "display_data"
    }
   ],
   "source": [
    "import os\n",
    "from tqdm.notebook import tqdm, trange\n",
    "\n",
    "path = '/Users/justinsnider/nyu-big-data/project/data/social-distancing/2020/'\n",
    "target = '/Users/justinsnider/nyu-big-data/project/clean-data/ny/social/2020/'\n",
    "\n",
    "months = os.listdir(path)\n",
    "# print(months)\n",
    "for month in tqdm(months, desc='months'):\n",
    "    days = os.listdir(path+month)\n",
    "    days = [day for day in days if day!='.DS_Store']\n",
    "    for day in tqdm(days, desc='days'):\n",
    "        sub_path = path + month + '/' + day +'/'\n",
    "        f_list = os.listdir(sub_path)\n",
    "        csv_files = [file for file in f_list if file.endswith('.gz')]\n",
    "        csv_files = [file for file in csv_files if file!= []]\n",
    "        for file in csv_files:\n",
    "            f_path = os.path.join(sub_path, file)\n",
    "            # Do something with file\n",
    "            target_dir = os.path.join(target, file)[:-3]  # remove .gz extension\n",
    "            get_fips(file, f_path, fips, target_dir)"
   ]
  },
  {
   "cell_type": "code",
   "execution_count": 11,
   "id": "standard-creation",
   "metadata": {},
   "outputs": [
    {
     "data": {
      "application/vnd.jupyter.widget-view+json": {
       "model_id": "424ec4869939442da171da9ca43a4f9a",
       "version_major": 2,
       "version_minor": 0
      },
      "text/plain": [
       "months:   0%|          | 0/12 [00:00<?, ?it/s]"
      ]
     },
     "metadata": {},
     "output_type": "display_data"
    },
    {
     "data": {
      "application/vnd.jupyter.widget-view+json": {
       "model_id": "d6cf8c3c1a6c400db2aee0ab72290605",
       "version_major": 2,
       "version_minor": 0
      },
      "text/plain": [
       "days:   0%|          | 0/31 [00:00<?, ?it/s]"
      ]
     },
     "metadata": {},
     "output_type": "display_data"
    },
    {
     "data": {
      "application/vnd.jupyter.widget-view+json": {
       "model_id": "13b27ccb54944bf28d1cb4a01a068f17",
       "version_major": 2,
       "version_minor": 0
      },
      "text/plain": [
       "days:   0%|          | 0/28 [00:00<?, ?it/s]"
      ]
     },
     "metadata": {},
     "output_type": "display_data"
    },
    {
     "data": {
      "application/vnd.jupyter.widget-view+json": {
       "model_id": "33095c3b3cae40cc83ac80d8e25a5a84",
       "version_major": 2,
       "version_minor": 0
      },
      "text/plain": [
       "days:   0%|          | 0/31 [00:00<?, ?it/s]"
      ]
     },
     "metadata": {},
     "output_type": "display_data"
    },
    {
     "data": {
      "application/vnd.jupyter.widget-view+json": {
       "model_id": "c36e24dacbe14b5b811dd0dcdaf9f250",
       "version_major": 2,
       "version_minor": 0
      },
      "text/plain": [
       "days:   0%|          | 0/30 [00:00<?, ?it/s]"
      ]
     },
     "metadata": {},
     "output_type": "display_data"
    },
    {
     "data": {
      "application/vnd.jupyter.widget-view+json": {
       "model_id": "06b3ace37f0d48c98ba2ecb103d15852",
       "version_major": 2,
       "version_minor": 0
      },
      "text/plain": [
       "days:   0%|          | 0/31 [00:00<?, ?it/s]"
      ]
     },
     "metadata": {},
     "output_type": "display_data"
    },
    {
     "data": {
      "application/vnd.jupyter.widget-view+json": {
       "model_id": "049f8a2e08c24b6380e09c0b317fbcc1",
       "version_major": 2,
       "version_minor": 0
      },
      "text/plain": [
       "days:   0%|          | 0/30 [00:00<?, ?it/s]"
      ]
     },
     "metadata": {},
     "output_type": "display_data"
    },
    {
     "data": {
      "application/vnd.jupyter.widget-view+json": {
       "model_id": "a407ae163f324030b91272b6d4c19669",
       "version_major": 2,
       "version_minor": 0
      },
      "text/plain": [
       "days:   0%|          | 0/31 [00:00<?, ?it/s]"
      ]
     },
     "metadata": {},
     "output_type": "display_data"
    },
    {
     "data": {
      "application/vnd.jupyter.widget-view+json": {
       "model_id": "2818990e0b5341feaf2176ee6e60c4ad",
       "version_major": 2,
       "version_minor": 0
      },
      "text/plain": [
       "days:   0%|          | 0/31 [00:00<?, ?it/s]"
      ]
     },
     "metadata": {},
     "output_type": "display_data"
    },
    {
     "data": {
      "application/vnd.jupyter.widget-view+json": {
       "model_id": "4e79e13e60b94a15985d563ed7606096",
       "version_major": 2,
       "version_minor": 0
      },
      "text/plain": [
       "days:   0%|          | 0/30 [00:00<?, ?it/s]"
      ]
     },
     "metadata": {},
     "output_type": "display_data"
    },
    {
     "data": {
      "application/vnd.jupyter.widget-view+json": {
       "model_id": "20607d6dc4c843eda92a5c67b5cf9c56",
       "version_major": 2,
       "version_minor": 0
      },
      "text/plain": [
       "days:   0%|          | 0/31 [00:00<?, ?it/s]"
      ]
     },
     "metadata": {},
     "output_type": "display_data"
    },
    {
     "data": {
      "application/vnd.jupyter.widget-view+json": {
       "model_id": "eab08bbe1c5245be80adf686126bf084",
       "version_major": 2,
       "version_minor": 0
      },
      "text/plain": [
       "days:   0%|          | 0/30 [00:00<?, ?it/s]"
      ]
     },
     "metadata": {},
     "output_type": "display_data"
    },
    {
     "data": {
      "application/vnd.jupyter.widget-view+json": {
       "model_id": "21458c0dbc6a496590ff14fe90701bdd",
       "version_major": 2,
       "version_minor": 0
      },
      "text/plain": [
       "days:   0%|          | 0/31 [00:00<?, ?it/s]"
      ]
     },
     "metadata": {},
     "output_type": "display_data"
    }
   ],
   "source": [
    "path = '/Volumes/Data_01/social-distancing/2019/'\n",
    "target = '/Users/justinsnider/nyu-big-data/project/clean-data/ny/social/2019/'\n",
    "\n",
    "months = os.listdir(path)\n",
    "# print(months)\n",
    "for month in tqdm(months, desc='months'):\n",
    "    days = os.listdir(path+month)\n",
    "    days = [day for day in days if day!='.DS_Store']\n",
    "    for day in tqdm(days, desc='days'):\n",
    "        sub_path = path + month + '/' + day +'/'\n",
    "        f_list = os.listdir(sub_path)\n",
    "        csv_files = [file for file in f_list if file.endswith('.gz')]\n",
    "        csv_files = [file for file in csv_files if file!= []]\n",
    "        for file in csv_files:\n",
    "            f_path = os.path.join(sub_path, file)\n",
    "            # Do something with file\n",
    "            target_dir = os.path.join(target, file)[:-3]  # remove .gz extension\n",
    "            get_fips(file, f_path, fips, target_dir)"
   ]
  },
  {
   "cell_type": "code",
   "execution_count": null,
   "id": "comic-october",
   "metadata": {},
   "outputs": [],
   "source": []
  }
 ],
 "metadata": {
  "kernelspec": {
   "display_name": "Python 3",
   "language": "python",
   "name": "python3"
  },
  "language_info": {
   "codemirror_mode": {
    "name": "ipython",
    "version": 3
   },
   "file_extension": ".py",
   "mimetype": "text/x-python",
   "name": "python",
   "nbconvert_exporter": "python",
   "pygments_lexer": "ipython3",
   "version": "3.7.7"
  }
 },
 "nbformat": 4,
 "nbformat_minor": 5
}
