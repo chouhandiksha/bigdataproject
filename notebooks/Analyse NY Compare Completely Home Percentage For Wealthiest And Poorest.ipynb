{
  "nbformat": 4,
  "nbformat_minor": 0,
  "metadata": {
    "colab": {
      "name": "Analyse NY Compare Completely Home Percentage For Wealthiest And Poorest.ipynb",
      "provenance": [],
      "collapsed_sections": [],
      "include_colab_link": true
    },
    "kernelspec": {
      "name": "python3",
      "display_name": "Python 3"
    },
    "language_info": {
      "name": "python"
    }
  },
  "cells": [
    {
      "cell_type": "markdown",
      "metadata": {
        "id": "view-in-github",
        "colab_type": "text"
      },
      "source": [
        "<a href=\"https://colab.research.google.com/github/chouhandiksha/bigdataproject/blob/main/notebooks/Analyse%20NY%20Compare%20Completely%20Home%20Percentage%20For%20Wealthiest%20And%20Poorest.ipynb\" target=\"_parent\"><img src=\"https://colab.research.google.com/assets/colab-badge.svg\" alt=\"Open In Colab\"/></a>"
      ]
    },
    {
      "cell_type": "markdown",
      "metadata": {
        "id": "YQUthrGO6Qyp"
      },
      "source": [
        "# Analyse NY Compare Completely Home Percentage For Wealthiest And Poorest\n",
        "\n",
        "\n",
        "**Instructions:**\n",
        "\n",
        "1. Execute the first code cell.\n",
        "2. There will be a link to follow in order to authorize the google account for drive. Go to that link.\n",
        "3. A code to authorize the google account will be generated. Copy the code generated.\n",
        "4. Go back to the cell where the process of mounting the drive is running. Paste the generated code from step 3 to the text box in the cell and press enter."
      ]
    },
    {
      "cell_type": "markdown",
      "metadata": {
        "id": "6Vnc5foT5YFx"
      },
      "source": [
        "**Spark SQL Documentation:** \n",
        "https://spark.apache.org/docs/2.2.0/sql-programming-guide.html"
      ]
    },
    {
      "cell_type": "code",
      "metadata": {
        "id": "XXJ-cpgT3moz",
        "colab": {
          "base_uri": "https://localhost:8080/"
        },
        "outputId": "c10b4eeb-0966-446d-e524-79456dc7ef0d"
      },
      "source": [
        "# add time information at the end of every cell\n",
        "!pip install ipython-autotime\n",
        "%load_ext autotime"
      ],
      "execution_count": 1,
      "outputs": [
        {
          "output_type": "stream",
          "text": [
            "Collecting ipython-autotime\n",
            "  Downloading https://files.pythonhosted.org/packages/b4/c9/b413a24f759641bc27ef98c144b590023c8038dfb8a3f09e713e9dff12c1/ipython_autotime-0.3.1-py2.py3-none-any.whl\n",
            "Requirement already satisfied: ipython in /usr/local/lib/python3.7/dist-packages (from ipython-autotime) (5.5.0)\n",
            "Requirement already satisfied: pygments in /usr/local/lib/python3.7/dist-packages (from ipython->ipython-autotime) (2.6.1)\n",
            "Requirement already satisfied: decorator in /usr/local/lib/python3.7/dist-packages (from ipython->ipython-autotime) (4.4.2)\n",
            "Requirement already satisfied: prompt-toolkit<2.0.0,>=1.0.4 in /usr/local/lib/python3.7/dist-packages (from ipython->ipython-autotime) (1.0.18)\n",
            "Requirement already satisfied: setuptools>=18.5 in /usr/local/lib/python3.7/dist-packages (from ipython->ipython-autotime) (56.0.0)\n",
            "Requirement already satisfied: simplegeneric>0.8 in /usr/local/lib/python3.7/dist-packages (from ipython->ipython-autotime) (0.8.1)\n",
            "Requirement already satisfied: pickleshare in /usr/local/lib/python3.7/dist-packages (from ipython->ipython-autotime) (0.7.5)\n",
            "Requirement already satisfied: pexpect; sys_platform != \"win32\" in /usr/local/lib/python3.7/dist-packages (from ipython->ipython-autotime) (4.8.0)\n",
            "Requirement already satisfied: traitlets>=4.2 in /usr/local/lib/python3.7/dist-packages (from ipython->ipython-autotime) (5.0.5)\n",
            "Requirement already satisfied: six>=1.9.0 in /usr/local/lib/python3.7/dist-packages (from prompt-toolkit<2.0.0,>=1.0.4->ipython->ipython-autotime) (1.15.0)\n",
            "Requirement already satisfied: wcwidth in /usr/local/lib/python3.7/dist-packages (from prompt-toolkit<2.0.0,>=1.0.4->ipython->ipython-autotime) (0.2.5)\n",
            "Requirement already satisfied: ptyprocess>=0.5 in /usr/local/lib/python3.7/dist-packages (from pexpect; sys_platform != \"win32\"->ipython->ipython-autotime) (0.7.0)\n",
            "Requirement already satisfied: ipython-genutils in /usr/local/lib/python3.7/dist-packages (from traitlets>=4.2->ipython->ipython-autotime) (0.2.0)\n",
            "Installing collected packages: ipython-autotime\n",
            "Successfully installed ipython-autotime-0.3.1\n",
            "time: 1.99 ms (started: 2021-05-03 19:45:53 +00:00)\n"
          ],
          "name": "stdout"
        }
      ]
    },
    {
      "cell_type": "markdown",
      "metadata": {
        "id": "Q8GQywM66OgL"
      },
      "source": [
        ""
      ]
    },
    {
      "cell_type": "markdown",
      "metadata": {
        "id": "e-p-dupk6O5E"
      },
      "source": [
        ""
      ]
    },
    {
      "cell_type": "code",
      "metadata": {
        "colab": {
          "base_uri": "https://localhost:8080/"
        },
        "id": "DggpqrsrscGi",
        "outputId": "2c04c691-4282-4a89-94ba-ea96b2d33ac9"
      },
      "source": [
        "# Install required dependancies\n",
        "!pip install pyspark\n",
        "!apt update\n",
        "!apt install openjdk-8-jdk-headless -qq\n",
        "import os\n",
        "os.environ[\"JAVA_HOME\"] = \"/usr/lib/jvm/java-8-openjdk-amd64\""
      ],
      "execution_count": 2,
      "outputs": [
        {
          "output_type": "stream",
          "text": [
            "Collecting pyspark\n",
            "\u001b[?25l  Downloading https://files.pythonhosted.org/packages/45/b0/9d6860891ab14a39d4bddf80ba26ce51c2f9dc4805e5c6978ac0472c120a/pyspark-3.1.1.tar.gz (212.3MB)\n",
            "\u001b[K     |████████████████████████████████| 212.3MB 70kB/s \n",
            "\u001b[?25hCollecting py4j==0.10.9\n",
            "\u001b[?25l  Downloading https://files.pythonhosted.org/packages/9e/b6/6a4fb90cd235dc8e265a6a2067f2a2c99f0d91787f06aca4bcf7c23f3f80/py4j-0.10.9-py2.py3-none-any.whl (198kB)\n",
            "\u001b[K     |████████████████████████████████| 204kB 46.1MB/s \n",
            "\u001b[?25hBuilding wheels for collected packages: pyspark\n",
            "  Building wheel for pyspark (setup.py) ... \u001b[?25l\u001b[?25hdone\n",
            "  Created wheel for pyspark: filename=pyspark-3.1.1-py2.py3-none-any.whl size=212767604 sha256=ab2aa793493df22412aa924eeb01dc44373f745ee738231631202c8f72b3f491\n",
            "  Stored in directory: /root/.cache/pip/wheels/0b/90/c0/01de724414ef122bd05f056541fb6a0ecf47c7ca655f8b3c0f\n",
            "Successfully built pyspark\n",
            "Installing collected packages: py4j, pyspark\n",
            "Successfully installed py4j-0.10.9 pyspark-3.1.1\n",
            "Get:1 https://cloud.r-project.org/bin/linux/ubuntu bionic-cran40/ InRelease [3,626 B]\n",
            "Ign:2 https://developer.download.nvidia.com/compute/cuda/repos/ubuntu1804/x86_64  InRelease\n",
            "Get:3 http://security.ubuntu.com/ubuntu bionic-security InRelease [88.7 kB]\n",
            "Ign:4 https://developer.download.nvidia.com/compute/machine-learning/repos/ubuntu1804/x86_64  InRelease\n",
            "Get:5 https://developer.download.nvidia.com/compute/cuda/repos/ubuntu1804/x86_64  Release [697 B]\n",
            "Hit:6 https://developer.download.nvidia.com/compute/machine-learning/repos/ubuntu1804/x86_64  Release\n",
            "Get:7 https://developer.download.nvidia.com/compute/cuda/repos/ubuntu1804/x86_64  Release.gpg [836 B]\n",
            "Hit:8 http://archive.ubuntu.com/ubuntu bionic InRelease\n",
            "Get:9 http://ppa.launchpad.net/c2d4u.team/c2d4u4.0+/ubuntu bionic InRelease [15.9 kB]\n",
            "Get:10 https://cloud.r-project.org/bin/linux/ubuntu bionic-cran40/ Packages [53.9 kB]\n",
            "Get:11 http://archive.ubuntu.com/ubuntu bionic-updates InRelease [88.7 kB]\n",
            "Hit:13 http://ppa.launchpad.net/cran/libgit2/ubuntu bionic InRelease\n",
            "Ign:14 https://developer.download.nvidia.com/compute/cuda/repos/ubuntu1804/x86_64  Packages\n",
            "Get:14 https://developer.download.nvidia.com/compute/cuda/repos/ubuntu1804/x86_64  Packages [742 kB]\n",
            "Get:15 http://archive.ubuntu.com/ubuntu bionic-backports InRelease [74.6 kB]\n",
            "Get:16 http://ppa.launchpad.net/deadsnakes/ppa/ubuntu bionic InRelease [15.9 kB]\n",
            "Get:17 http://security.ubuntu.com/ubuntu bionic-security/main amd64 Packages [2,116 kB]\n",
            "Get:18 http://ppa.launchpad.net/graphics-drivers/ppa/ubuntu bionic InRelease [15.9 kB]\n",
            "Get:19 http://security.ubuntu.com/ubuntu bionic-security/universe amd64 Packages [1,410 kB]\n",
            "Get:20 http://security.ubuntu.com/ubuntu bionic-security/multiverse amd64 Packages [24.7 kB]\n",
            "Get:21 http://security.ubuntu.com/ubuntu bionic-security/restricted amd64 Packages [396 kB]\n",
            "Get:22 http://ppa.launchpad.net/c2d4u.team/c2d4u4.0+/ubuntu bionic/main Sources [1,759 kB]\n",
            "Get:23 http://archive.ubuntu.com/ubuntu bionic-updates/main amd64 Packages [2,550 kB]\n",
            "Get:24 http://ppa.launchpad.net/c2d4u.team/c2d4u4.0+/ubuntu bionic/main amd64 Packages [900 kB]\n",
            "Get:25 http://archive.ubuntu.com/ubuntu bionic-updates/restricted amd64 Packages [429 kB]\n",
            "Get:26 http://archive.ubuntu.com/ubuntu bionic-updates/multiverse amd64 Packages [31.6 kB]\n",
            "Get:27 http://archive.ubuntu.com/ubuntu bionic-updates/universe amd64 Packages [2,181 kB]\n",
            "Get:28 http://ppa.launchpad.net/deadsnakes/ppa/ubuntu bionic/main amd64 Packages [40.3 kB]\n",
            "Get:29 http://ppa.launchpad.net/graphics-drivers/ppa/ubuntu bionic/main amd64 Packages [53.2 kB]\n",
            "Fetched 13.0 MB in 5s (2,518 kB/s)\n",
            "Reading package lists... Done\n",
            "Building dependency tree       \n",
            "Reading state information... Done\n",
            "76 packages can be upgraded. Run 'apt list --upgradable' to see them.\n",
            "The following package was automatically installed and is no longer required:\n",
            "  libnvidia-common-460\n",
            "Use 'apt autoremove' to remove it.\n",
            "The following additional packages will be installed:\n",
            "  openjdk-8-jre-headless\n",
            "Suggested packages:\n",
            "  openjdk-8-demo openjdk-8-source libnss-mdns fonts-dejavu-extra\n",
            "  fonts-ipafont-gothic fonts-ipafont-mincho fonts-wqy-microhei\n",
            "  fonts-wqy-zenhei fonts-indic\n",
            "The following NEW packages will be installed:\n",
            "  openjdk-8-jdk-headless openjdk-8-jre-headless\n",
            "0 upgraded, 2 newly installed, 0 to remove and 76 not upgraded.\n",
            "Need to get 36.5 MB of archives.\n",
            "After this operation, 143 MB of additional disk space will be used.\n",
            "Selecting previously unselected package openjdk-8-jre-headless:amd64.\n",
            "(Reading database ... 160690 files and directories currently installed.)\n",
            "Preparing to unpack .../openjdk-8-jre-headless_8u292-b10-0ubuntu1~18.04_amd64.deb ...\n",
            "Unpacking openjdk-8-jre-headless:amd64 (8u292-b10-0ubuntu1~18.04) ...\n",
            "Selecting previously unselected package openjdk-8-jdk-headless:amd64.\n",
            "Preparing to unpack .../openjdk-8-jdk-headless_8u292-b10-0ubuntu1~18.04_amd64.deb ...\n",
            "Unpacking openjdk-8-jdk-headless:amd64 (8u292-b10-0ubuntu1~18.04) ...\n",
            "Setting up openjdk-8-jre-headless:amd64 (8u292-b10-0ubuntu1~18.04) ...\n",
            "update-alternatives: using /usr/lib/jvm/java-8-openjdk-amd64/jre/bin/orbd to provide /usr/bin/orbd (orbd) in auto mode\n",
            "update-alternatives: using /usr/lib/jvm/java-8-openjdk-amd64/jre/bin/servertool to provide /usr/bin/servertool (servertool) in auto mode\n",
            "update-alternatives: using /usr/lib/jvm/java-8-openjdk-amd64/jre/bin/tnameserv to provide /usr/bin/tnameserv (tnameserv) in auto mode\n",
            "Setting up openjdk-8-jdk-headless:amd64 (8u292-b10-0ubuntu1~18.04) ...\n",
            "update-alternatives: using /usr/lib/jvm/java-8-openjdk-amd64/bin/idlj to provide /usr/bin/idlj (idlj) in auto mode\n",
            "update-alternatives: using /usr/lib/jvm/java-8-openjdk-amd64/bin/wsimport to provide /usr/bin/wsimport (wsimport) in auto mode\n",
            "update-alternatives: using /usr/lib/jvm/java-8-openjdk-amd64/bin/jsadebugd to provide /usr/bin/jsadebugd (jsadebugd) in auto mode\n",
            "update-alternatives: using /usr/lib/jvm/java-8-openjdk-amd64/bin/native2ascii to provide /usr/bin/native2ascii (native2ascii) in auto mode\n",
            "update-alternatives: using /usr/lib/jvm/java-8-openjdk-amd64/bin/javah to provide /usr/bin/javah (javah) in auto mode\n",
            "update-alternatives: using /usr/lib/jvm/java-8-openjdk-amd64/bin/hsdb to provide /usr/bin/hsdb (hsdb) in auto mode\n",
            "update-alternatives: using /usr/lib/jvm/java-8-openjdk-amd64/bin/clhsdb to provide /usr/bin/clhsdb (clhsdb) in auto mode\n",
            "update-alternatives: using /usr/lib/jvm/java-8-openjdk-amd64/bin/extcheck to provide /usr/bin/extcheck (extcheck) in auto mode\n",
            "update-alternatives: using /usr/lib/jvm/java-8-openjdk-amd64/bin/schemagen to provide /usr/bin/schemagen (schemagen) in auto mode\n",
            "update-alternatives: using /usr/lib/jvm/java-8-openjdk-amd64/bin/xjc to provide /usr/bin/xjc (xjc) in auto mode\n",
            "update-alternatives: using /usr/lib/jvm/java-8-openjdk-amd64/bin/jhat to provide /usr/bin/jhat (jhat) in auto mode\n",
            "update-alternatives: using /usr/lib/jvm/java-8-openjdk-amd64/bin/wsgen to provide /usr/bin/wsgen (wsgen) in auto mode\n",
            "time: 1min 2s (started: 2021-05-03 19:45:53 +00:00)\n"
          ],
          "name": "stdout"
        }
      ]
    },
    {
      "cell_type": "code",
      "metadata": {
        "id": "ppkG73kRsei0",
        "colab": {
          "base_uri": "https://localhost:8080/"
        },
        "outputId": "aa356b3b-7d0f-4d38-9747-5f2f70976a5d"
      },
      "source": [
        "# Import modules\n",
        "import numpy as np\n",
        "import pandas as pd\n",
        "import datetime\n",
        "import matplotlib.pyplot as plt\n",
        "from pathlib import Path\n",
        "%matplotlib inline\n",
        "\n",
        "import pyspark\n",
        "from pyspark.sql import *\n",
        "from pyspark.sql.types import *\n",
        "from pyspark.sql.functions import *\n",
        "from pyspark import SparkContext, SparkConf"
      ],
      "execution_count": 3,
      "outputs": [
        {
          "output_type": "stream",
          "text": [
            "time: 111 ms (started: 2021-05-03 19:46:56 +00:00)\n"
          ],
          "name": "stdout"
        }
      ]
    },
    {
      "cell_type": "code",
      "metadata": {
        "colab": {
          "base_uri": "https://localhost:8080/"
        },
        "id": "pYm9-j_fflal",
        "outputId": "0eaa5267-1e24-4eab-fdd0-c7739b78da68"
      },
      "source": [
        "import altair as alt\n",
        "alt.data_transformers.disable_max_rows()"
      ],
      "execution_count": 4,
      "outputs": [
        {
          "output_type": "execute_result",
          "data": {
            "text/plain": [
              "DataTransformerRegistry.enable('default')"
            ]
          },
          "metadata": {
            "tags": []
          },
          "execution_count": 4
        },
        {
          "output_type": "stream",
          "text": [
            "time: 282 ms (started: 2021-05-03 19:46:56 +00:00)\n"
          ],
          "name": "stdout"
        }
      ]
    },
    {
      "cell_type": "code",
      "metadata": {
        "id": "1oe1ksN5skMG",
        "colab": {
          "base_uri": "https://localhost:8080/"
        },
        "outputId": "7b484093-7472-42db-fccf-1bf8c607ba64"
      },
      "source": [
        "# create the session\n",
        "conf = SparkConf().set(\"spark.ui.port\", \"4050\")\n",
        "\n",
        "# create the context\n",
        "sc = pyspark.SparkContext(conf=conf)\n",
        "spark = SparkSession.builder.getOrCreate()"
      ],
      "execution_count": 5,
      "outputs": [
        {
          "output_type": "stream",
          "text": [
            "time: 5.01 s (started: 2021-05-03 19:46:56 +00:00)\n"
          ],
          "name": "stdout"
        }
      ]
    },
    {
      "cell_type": "code",
      "metadata": {
        "id": "zdPF-0xIrDm9",
        "colab": {
          "base_uri": "https://localhost:8080/"
        },
        "outputId": "9b958f0e-9f80-4020-d9df-525f055e9f57"
      },
      "source": [
        "#sc.stop()"
      ],
      "execution_count": 6,
      "outputs": [
        {
          "output_type": "stream",
          "text": [
            "time: 1.43 ms (started: 2021-05-03 19:47:01 +00:00)\n"
          ],
          "name": "stdout"
        }
      ]
    },
    {
      "cell_type": "code",
      "metadata": {
        "colab": {
          "base_uri": "https://localhost:8080/"
        },
        "id": "WGXwI2d1szaO",
        "outputId": "e8afee21-8439-4825-b540-2ac7553a1fb1"
      },
      "source": [
        "# Mount drive with data\n",
        "from google.colab import drive\n",
        "drive.mount('/content/drive')"
      ],
      "execution_count": 7,
      "outputs": [
        {
          "output_type": "stream",
          "text": [
            "Mounted at /content/drive\n",
            "time: 22.2 s (started: 2021-05-03 19:47:01 +00:00)\n"
          ],
          "name": "stdout"
        }
      ]
    },
    {
      "cell_type": "code",
      "metadata": {
        "id": "grN2uNcFvloa",
        "colab": {
          "base_uri": "https://localhost:8080/"
        },
        "outputId": "92a48324-239b-4c3f-a239-8fc868dbcd8e"
      },
      "source": [
        "# Set path to data folder\n",
        "path = Path('drive/MyDrive/big-data-project/data/clean-data')\n",
        "city = 'ny'"
      ],
      "execution_count": 8,
      "outputs": [
        {
          "output_type": "stream",
          "text": [
            "time: 2.7 ms (started: 2021-05-03 19:47:23 +00:00)\n"
          ],
          "name": "stdout"
        }
      ]
    },
    {
      "cell_type": "code",
      "metadata": {
        "colab": {
          "base_uri": "https://localhost:8080/"
        },
        "id": "BvCrFmU2tGXY",
        "outputId": "e79341b1-3b4b-41ec-d5b5-4b3c01d2cb78"
      },
      "source": [
        "# Read data into dataframe\n",
        "df_soc = spark.read.format('csv').option('header','true').option('quote',\"\\\"\").option('escape',\"\\\"\").load(str(path/city/'social/2020/*.csv'))\n",
        "df_soc.show()"
      ],
      "execution_count": 9,
      "outputs": [
        {
          "output_type": "stream",
          "text": [
            "+---+------------+--------------------+--------------------+------------+---------------------------+--------------------------+------------------------------------------+----------------------------+----------------------+------------------------+--------------------+-------------------------------+-------------------------------+--------------------+-------------------------+--------------------------+----------------------+----------------------------+---------------------------+-----------------------------+\n",
            "|_c0|         cbg|    date_range_start|      date_range_end|device_count|distance_traveled_from_home|bucketed_distance_traveled|median_dwell_at_bucketed_distance_traveled|completely_home_device_count|median_home_dwell_time|bucketed_home_dwell_time|at_home_by_each_hour|part_time_work_behavior_devices|full_time_work_behavior_devices|    destination_cbgs|delivery_behavior_devices|median_non_home_dwell_time|candidate_device_count|bucketed_away_from_home_time|median_percentage_time_home|bucketed_percentage_time_home|\n",
            "+---+------------+--------------------+--------------------+------------+---------------------------+--------------------------+------------------------------------------+----------------------------+----------------------+------------------------+--------------------+-------------------------------+-------------------------------+--------------------+-------------------------+--------------------------+----------------------+----------------------------+---------------------------+-----------------------------+\n",
            "|  0|360470064002|2020-02-03T00:00:...|2020-02-04T00:00:...|          64|                       1883|      {\"16001-50000\":1,...|                      {\"16001-50000\":20...|                          18|                   722|    {\"721-1080\":17,\"3...|[38,42,36,38,35,3...|                              7|                              5|{\"360610089003\":1...|                        2|                       107|                   117|        {\"21-45\":4,\"541-6...|                         84|         {\"26-50\":3,\"51-75...|\n",
            "|  1|360810384001|2020-02-03T00:00:...|2020-02-04T00:00:...|          84|                       5483|      {\"16001-50000\":12...|                      {\"16001-50000\":21...|                          21|                   587|    {\"721-1080\":13,\"3...|[50,53,55,54,50,4...|                             12|                              8|{\"360810208001\":1...|                        4|                       138|                   155|        {\"21-45\":7,\"481-5...|                         73|         {\"26-50\":9,\"51-75...|\n",
            "|  2|360850170103|2020-02-03T00:00:...|2020-02-04T00:00:...|         250|                       4995|      {\"16001-50000\":48...|                      {\"16001-50000\":10...|                          68|                   781|    {\"721-1080\":68,\"3...|[180,186,184,188,...|                             41|                             26|{\"360850187021\":1...|                        8|                       141|                   377|        {\"21-45\":8,\"481-5...|                         84|         {\"26-50\":16,\"51-7...|\n",
            "|  3|360050213021|2020-02-03T00:00:...|2020-02-04T00:00:...|          92|                       2739|      {\"16001-50000\":4,...|                      {\"16001-50000\":50...|                          26|                   578|    {\"721-1080\":18,\"3...|[55,53,55,52,51,4...|                             11|                              6|{\"360050237021\":2...|                        3|                       130|                   194|        {\"21-45\":5,\"481-5...|                         79|         {\"26-50\":8,\"51-75...|\n",
            "|  4|360050253004|2020-02-03T00:00:...|2020-02-04T00:00:...|          52|                       3801|      {\"16001-50000\":2,...|                      {\"16001-50000\":31...|                          13|                   533|    {\"721-1080\":8,\"36...|[26,26,25,27,26,2...|                              7|                              4|{\"360050326002\":2...|                        2|                       193|                   106|        {\"21-45\":3,\"481-5...|                         76|         {\"26-50\":5,\"51-75...|\n",
            "|  5|360470385003|2020-02-03T00:00:...|2020-02-04T00:00:...|          37|                       5459|      {\"0\":10,\"2001-800...|                      {\"1001-2000\":77,\"...|                           9|                   661|    {\"721-1080\":13,\"3...|[24,25,26,25,24,2...|                              4|                              5|{\"360470379002\":1...|                        1|                       120|                    78|        {\"21-45\":2,\"481-5...|                         70|         {\"0-25\":5,\"76-100...|\n",
            "|  6|360470406002|2020-02-03T00:00:...|2020-02-04T00:00:...|          46|                      10480|      {\"16001-50000\":7,...|                      {\"16001-50000\":12...|                          12|                   390|    {\"721-1080\":7,\"36...|[23,18,18,18,18,1...|                              7|                              4|{\"360470804003\":1...|                        3|                        38|                    79|        {\"21-45\":4,\"1201-...|                         69|         {\"0-25\":17,\"76-10...|\n",
            "|  7|360470428003|2020-02-03T00:00:...|2020-02-04T00:00:...|          84|                       3798|      {\"16001-50000\":5,...|                      {\"16001-50000\":32...|                          20|                   693|    {\"721-1080\":26,\"3...|[55,57,56,54,55,5...|                              2|                             13|{\"360470478001\":2...|                        7|                       181|                   139|        {\"21-45\":1,\"481-5...|                         67|         {\"0-25\":13,\"76-10...|\n",
            "|  8|360471130002|2020-02-03T00:00:...|2020-02-04T00:00:...|          84|                       5276|      {\"16001-50000\":1,...|                      {\"16001-50000\":64...|                          20|                   759|    {\"721-1080\":25,\"3...|[54,57,58,59,54,5...|                             13|                              9|{\"360470804003\":1...|                        5|                       200|                   155|        {\"21-45\":1,\"481-5...|                         69|         {\"26-50\":5,\"51-75...|\n",
            "|  9|360811029001|2020-02-03T00:00:...|2020-02-04T00:00:...|         256|                       5062|      {\"16001-50000\":25...|                      {\"16001-50000\":82...|                          95|                   411|    {\"721-1080\":49,\"3...|[124,121,125,125,...|                             24|                             18|{\"360811033001\":1...|                        6|                        31|                   766|        {\"21-45\":18,\"481-...|                         86|         {\"26-50\":12,\"51-7...|\n",
            "| 10|360050177022|2020-02-03T00:00:...|2020-02-04T00:00:...|          53|                       5200|      {\"16001-50000\":2,...|                      {\"16001-50000\":58...|                          19|                   709|    {\"721-1080\":11,\"3...|[31,31,29,29,30,2...|                              2|                              1|{\"360610265002\":1...|                        5|                        33|                   108|        {\"21-45\":5,\"481-5...|                         90|         {\"26-50\":1,\"51-75...|\n",
            "| 11|360050248002|2020-02-03T00:00:...|2020-02-04T00:00:...|          63|                       3274|      {\"16001-50000\":2,...|                      {\"16001-50000\":29...|                          24|                   634|    {\"721-1080\":10,\"3...|[33,39,33,35,32,3...|                              6|                              2|{\"360050248001\":3...|                        6|                        22|                   112|        {\"21-45\":1,\"481-5...|                         94|         {\"0-25\":13,\"76-10...|\n",
            "| 12|360050363003|2020-02-03T00:00:...|2020-02-04T00:00:...|          81|                       3828|      {\"16001-50000\":7,...|                      {\"16001-50000\":20...|                          17|                   643|    {\"721-1080\":22,\"3...|[48,46,47,45,48,4...|                              7|                              8|{\"360050237021\":1...|                        4|                       203|                   227|        {\"21-45\":6,\"481-5...|                         74|         {\"0-25\":21,\"76-10...|\n",
            "| 13|360470084003|2020-02-03T00:00:...|2020-02-04T00:00:...|          42|                       4795|      {\"0\":10,\">50000\":...|                      {\">50000\":57,\"<10...|                          12|                   512|    {\"721-1080\":6,\"36...|[26,24,24,24,25,2...|                              7|                              5|{\"360470485001\":1...|                        1|                       305|                    99|        {\"481-540\":1,\"541...|                         58|         {\"26-50\":4,\"51-75...|\n",
            "| 14|360470393002|2020-02-03T00:00:...|2020-02-04T00:00:...|          42|                       4291|      {\"0\":12,\"2001-800...|                      {\"1001-2000\":20,\"...|                          12|                   685|    {\"721-1080\":10,\"3...|[28,27,28,28,29,2...|                              4|                              5|{\"360470551003\":1...|                        3|                       142|                   130|        {\"21-45\":4,\"481-5...|                         82|         {\"0-25\":2,\"76-100...|\n",
            "| 15|360470888003|2020-02-03T00:00:...|2020-02-04T00:00:...|          73|                       3905|      {\"16001-50000\":1,...|                      {\"16001-50000\":31...|                          24|                   593|    {\"721-1080\":15,\"3...|[46,48,49,48,44,4...|                              4|                             10|{\"360470816002\":1...|                        7|                        92|                   146|        {\"21-45\":6,\"481-5...|                         74|         {\"0-25\":16,\"76-10...|\n",
            "| 16|360610072004|2020-02-03T00:00:...|2020-02-04T00:00:...|          58|                       1559|      {\"16001-50000\":1,...|                      {\"16001-50000\":72...|                          17|                   453|    {\"721-1080\":15,\"3...|[27,28,28,29,26,2...|                              8|                              6|{\"361090004001\":1...|                        1|                       342|                   132|        {\"481-540\":2,\"541...|                         60|         {\"0-25\":9,\"76-100...|\n",
            "| 17|360050414002|2020-02-03T00:00:...|2020-02-04T00:00:...|          60|                       5550|      {\"16001-50000\":7,...|                      {\"16001-50000\":29...|                          19|                   720|    {\"721-1080\":16,\"3...|[41,42,41,43,36,3...|                              5|                              6|{\"360050418001\":2...|                        5|                        65|                   116|        {\"21-45\":7,\"481-5...|                         91|         {\">100\":1,\"0-25\":...|\n",
            "| 18|360050424001|2020-02-03T00:00:...|2020-02-04T00:00:...|          44|                       7992|      {\"16001-50000\":7,...|                      {\"16001-50000\":25...|                          12|                   319|    {\"721-1080\":5,\"36...|[16,15,18,16,16,2...|                              4|                              3|{\"360811257001\":1...|                        1|                        50|                    85|        {\"21-45\":4,\"541-6...|                         78|         {\"26-50\":1,\"51-75...|\n",
            "| 19|360470076002|2020-02-03T00:00:...|2020-02-04T00:00:...|          49|                       4238|      {\"0\":13,\">50000\":...|                      {\">50000\":28,\"<10...|                          11|                   718|    {\"721-1080\":15,\"3...|[37,33,34,33,33,3...|                              9|                              7|{\"360470060002\":1...|                        1|                       231|                    87|        {\"21-45\":5,\"481-5...|                         74|         {\"0-25\":4,\"76-100...|\n",
            "+---+------------+--------------------+--------------------+------------+---------------------------+--------------------------+------------------------------------------+----------------------------+----------------------+------------------------+--------------------+-------------------------------+-------------------------------+--------------------+-------------------------+--------------------------+----------------------+----------------------------+---------------------------+-----------------------------+\n",
            "only showing top 20 rows\n",
            "\n",
            "time: 31.2 s (started: 2021-05-03 19:47:24 +00:00)\n"
          ],
          "name": "stdout"
        }
      ]
    },
    {
      "cell_type": "code",
      "metadata": {
        "colab": {
          "base_uri": "https://localhost:8080/"
        },
        "id": "wh747sqcHi4-",
        "outputId": "e8a0c1e4-baaf-4833-eb86-581946f3f488"
      },
      "source": [
        "df_soc.createOrReplaceTempView('clean_ny')\n",
        "df_soc = spark.sql('SELECT cbg, date_range_start as date, device_count, completely_home_device_count FROM clean_ny WHERE device_count > 5')\n",
        "df_soc.show()"
      ],
      "execution_count": 10,
      "outputs": [
        {
          "output_type": "stream",
          "text": [
            "+------------+--------------------+------------+----------------------------+\n",
            "|         cbg|                date|device_count|completely_home_device_count|\n",
            "+------------+--------------------+------------+----------------------------+\n",
            "|360470064002|2020-02-03T00:00:...|          64|                          18|\n",
            "|360810384001|2020-02-03T00:00:...|          84|                          21|\n",
            "|360850170103|2020-02-03T00:00:...|         250|                          68|\n",
            "|360050213021|2020-02-03T00:00:...|          92|                          26|\n",
            "|360050253004|2020-02-03T00:00:...|          52|                          13|\n",
            "|360470385003|2020-02-03T00:00:...|          37|                           9|\n",
            "|360470406002|2020-02-03T00:00:...|          46|                          12|\n",
            "|360470428003|2020-02-03T00:00:...|          84|                          20|\n",
            "|360471130002|2020-02-03T00:00:...|          84|                          20|\n",
            "|360811029001|2020-02-03T00:00:...|         256|                          95|\n",
            "|360050177022|2020-02-03T00:00:...|          53|                          19|\n",
            "|360050248002|2020-02-03T00:00:...|          63|                          24|\n",
            "|360050363003|2020-02-03T00:00:...|          81|                          17|\n",
            "|360470084003|2020-02-03T00:00:...|          42|                          12|\n",
            "|360470393002|2020-02-03T00:00:...|          42|                          12|\n",
            "|360470888003|2020-02-03T00:00:...|          73|                          24|\n",
            "|360610072004|2020-02-03T00:00:...|          58|                          17|\n",
            "|360050414002|2020-02-03T00:00:...|          60|                          19|\n",
            "|360050424001|2020-02-03T00:00:...|          44|                          12|\n",
            "|360470076002|2020-02-03T00:00:...|          49|                          11|\n",
            "+------------+--------------------+------------+----------------------------+\n",
            "only showing top 20 rows\n",
            "\n",
            "time: 993 ms (started: 2021-05-03 19:47:55 +00:00)\n"
          ],
          "name": "stdout"
        }
      ]
    },
    {
      "cell_type": "code",
      "metadata": {
        "id": "nlVhrn2-Rp_O",
        "colab": {
          "base_uri": "https://localhost:8080/"
        },
        "outputId": "58c7c794-b290-40ea-a07d-c51b9f209933"
      },
      "source": [
        "df_soc = df_soc.withColumn(\"date\",\n",
        "    df_soc['date'].substr(0, 10))"
      ],
      "execution_count": 11,
      "outputs": [
        {
          "output_type": "stream",
          "text": [
            "time: 68.8 ms (started: 2021-05-03 19:47:56 +00:00)\n"
          ],
          "name": "stdout"
        }
      ]
    },
    {
      "cell_type": "code",
      "metadata": {
        "colab": {
          "base_uri": "https://localhost:8080/"
        },
        "id": "2ryRoACoJMPZ",
        "outputId": "fbbca9bf-8e92-491a-e76c-f8cf92b83255"
      },
      "source": [
        "df_soc.show()"
      ],
      "execution_count": 12,
      "outputs": [
        {
          "output_type": "stream",
          "text": [
            "+------------+----------+------------+----------------------------+\n",
            "|         cbg|      date|device_count|completely_home_device_count|\n",
            "+------------+----------+------------+----------------------------+\n",
            "|360470064002|2020-02-03|          64|                          18|\n",
            "|360810384001|2020-02-03|          84|                          21|\n",
            "|360850170103|2020-02-03|         250|                          68|\n",
            "|360050213021|2020-02-03|          92|                          26|\n",
            "|360050253004|2020-02-03|          52|                          13|\n",
            "|360470385003|2020-02-03|          37|                           9|\n",
            "|360470406002|2020-02-03|          46|                          12|\n",
            "|360470428003|2020-02-03|          84|                          20|\n",
            "|360471130002|2020-02-03|          84|                          20|\n",
            "|360811029001|2020-02-03|         256|                          95|\n",
            "|360050177022|2020-02-03|          53|                          19|\n",
            "|360050248002|2020-02-03|          63|                          24|\n",
            "|360050363003|2020-02-03|          81|                          17|\n",
            "|360470084003|2020-02-03|          42|                          12|\n",
            "|360470393002|2020-02-03|          42|                          12|\n",
            "|360470888003|2020-02-03|          73|                          24|\n",
            "|360610072004|2020-02-03|          58|                          17|\n",
            "|360050414002|2020-02-03|          60|                          19|\n",
            "|360050424001|2020-02-03|          44|                          12|\n",
            "|360470076002|2020-02-03|          49|                          11|\n",
            "+------------+----------+------------+----------------------------+\n",
            "only showing top 20 rows\n",
            "\n",
            "time: 321 ms (started: 2021-05-03 19:47:56 +00:00)\n"
          ],
          "name": "stdout"
        }
      ]
    },
    {
      "cell_type": "code",
      "metadata": {
        "colab": {
          "base_uri": "https://localhost:8080/"
        },
        "id": "UL4qIhZu7JKC",
        "outputId": "cd88962f-adf7-4d39-aeba-6c5f2b3a357d"
      },
      "source": [
        "# Add completely home percentage column\n",
        "df_soc = df_soc.withColumn('completely_home_percentage', (df_soc['completely_home_device_count']/df_soc['device_count']) * 100)\n"
      ],
      "execution_count": 13,
      "outputs": [
        {
          "output_type": "stream",
          "text": [
            "time: 58.9 ms (started: 2021-05-03 19:47:56 +00:00)\n"
          ],
          "name": "stdout"
        }
      ]
    },
    {
      "cell_type": "code",
      "metadata": {
        "colab": {
          "base_uri": "https://localhost:8080/"
        },
        "id": "OAUIODseCoSg",
        "outputId": "357f667c-5312-49e3-e627-753531918b17"
      },
      "source": [
        "#Create temp view\n",
        "df_soc.createOrReplaceTempView('mobility')"
      ],
      "execution_count": 14,
      "outputs": [
        {
          "output_type": "stream",
          "text": [
            "time: 24.1 ms (started: 2021-05-03 19:47:56 +00:00)\n"
          ],
          "name": "stdout"
        }
      ]
    },
    {
      "cell_type": "markdown",
      "metadata": {
        "id": "Sj4xc1gTpm2X"
      },
      "source": [
        "\n",
        "\n",
        "---\n",
        "\n",
        "\n",
        "**Demographic data**\n",
        "\n",
        "\n",
        "\n",
        "\n",
        "\n",
        "---\n",
        "\n"
      ]
    },
    {
      "cell_type": "code",
      "metadata": {
        "colab": {
          "base_uri": "https://localhost:8080/"
        },
        "id": "1SVVsXtuzqRf",
        "outputId": "d9074d90-b8cd-4682-8b7a-121e372246c7"
      },
      "source": [
        "# Read poverty data\n",
        "# Read data into RDD\n",
        "df_demographic = spark.read.format('csv').option('header','true').option('quote',\"\\\"\").option('escape',\"\\\"\").load(str(path/city/'ny.csv'))\n",
        "df_demographic.createOrReplaceTempView('demographic')\n",
        "df_demographic.show()"
      ],
      "execution_count": 15,
      "outputs": [
        {
          "output_type": "stream",
          "text": [
            "+------------+---------+------------------+------------------+\n",
            "|         cbg|pop_total|poverty_percentage|    perc_whiteonly|\n",
            "+------------+---------+------------------+------------------+\n",
            "|360050175002|     1110| 55.22522522522523|14.774774774774773|\n",
            "|360050141001|     1445| 36.74740484429066| 19.16955017301038|\n",
            "|360050145001|     2003| 39.47667804323095|  8.53719420868697|\n",
            "|360050075002|     2731|22.812156719150494|4.5404613694617355|\n",
            "|360050418001|      936|18.859649122807017| 9.081196581196581|\n",
            "|360050125001|     2935| 43.24693042291951|12.742759795570699|\n",
            "|360050127012|     1061| 43.73232799245994|18.378887841658813|\n",
            "|360050054003|     1031| 57.12900096993211| 28.12803103782735|\n",
            "|360050027011|     1364|  65.9090909090909|14.589442815249267|\n",
            "|360050458001|     1168| 37.15753424657534| 2.910958904109589|\n",
            "|360050224011|     1291|19.907048799380327|27.420604182804027|\n",
            "|360050389001|     1143| 53.94265232974911|30.708661417322837|\n",
            "|360050071002|     1661|           37.4375|11.499096929560505|\n",
            "|360050211003|     1056|  52.1865889212828| 5.776515151515151|\n",
            "|360050197001|     2205| 37.46031746031746| 6.984126984126984|\n",
            "|360470400002|      760| 19.19463087248322|              47.5|\n",
            "|360470400003|     1250|              25.6|             36.32|\n",
            "|360470402002|     1453|27.529249827942188|51.066758430832756|\n",
            "|360470403001|      919| 42.20283533260633| 22.41566920565832|\n",
            "|360470404001|     1232| 6.087662337662338| 66.72077922077922|\n",
            "+------------+---------+------------------+------------------+\n",
            "only showing top 20 rows\n",
            "\n",
            "time: 870 ms (started: 2021-05-03 19:47:56 +00:00)\n"
          ],
          "name": "stdout"
        }
      ]
    },
    {
      "cell_type": "code",
      "metadata": {
        "colab": {
          "base_uri": "https://localhost:8080/"
        },
        "id": "Ff9bk8_6qBQ2",
        "outputId": "a6f316ee-cd0f-4e70-bf6f-069b8e95b5b9"
      },
      "source": [
        "df_mob_demo = spark.sql('SELECT mobility.*, demographic.poverty_percentage from mobility INNER JOIN demographic ON mobility.cbg = demographic.cbg')\n",
        "df_mob_demo.createOrReplaceTempView('demographic_mobility')\n",
        "df_mob_demo.show()\n"
      ],
      "execution_count": 16,
      "outputs": [
        {
          "output_type": "stream",
          "text": [
            "+------------+----------+------------+----------------------------+--------------------------+------------------+\n",
            "|         cbg|      date|device_count|completely_home_device_count|completely_home_percentage|poverty_percentage|\n",
            "+------------+----------+------------+----------------------------+--------------------------+------------------+\n",
            "|360470064002|2020-02-03|          64|                          18|                    28.125| 19.22705314009662|\n",
            "|360810384001|2020-02-03|          84|                          21|                      25.0|12.291350531107739|\n",
            "|360850170103|2020-02-03|         250|                          68|        27.200000000000003|13.652802893309223|\n",
            "|360050213021|2020-02-03|          92|                          26|         28.26086956521739| 43.07328605200946|\n",
            "|360050253004|2020-02-03|          52|                          13|                      25.0|24.824120603015075|\n",
            "|360470385003|2020-02-03|          37|                           9|        24.324324324324326| 10.77170418006431|\n",
            "|360470406002|2020-02-03|          46|                          12|         26.08695652173913|13.953488372093023|\n",
            "|360470428003|2020-02-03|          84|                          20|        23.809523809523807|15.798922800718133|\n",
            "|360471130002|2020-02-03|          84|                          20|        23.809523809523807| 49.52229299363057|\n",
            "|360811029001|2020-02-03|         256|                          95|                 37.109375| 4.940374787052811|\n",
            "|360050177022|2020-02-03|          53|                          19|         35.84905660377358|16.293393057110862|\n",
            "|360050248002|2020-02-03|          63|                          24|        38.095238095238095|11.859838274932615|\n",
            "|360050363003|2020-02-03|          81|                          17|         20.98765432098765|33.054159687325516|\n",
            "|360470084003|2020-02-03|          42|                          12|         28.57142857142857|36.858638743455494|\n",
            "|360470393002|2020-02-03|          42|                          12|         28.57142857142857|17.216770740410347|\n",
            "|360470888003|2020-02-03|          73|                          24|         32.87671232876712| 9.655172413793103|\n",
            "|360610072004|2020-02-03|          58|                          17|        29.310344827586203| 21.65775401069519|\n",
            "|360050414002|2020-02-03|          60|                          19|        31.666666666666664|13.106796116504855|\n",
            "|360050424001|2020-02-03|          44|                          12|         27.27272727272727| 6.275303643724696|\n",
            "|360470076002|2020-02-03|          49|                          11|        22.448979591836736|18.527131782945734|\n",
            "+------------+----------+------------+----------------------------+--------------------------+------------------+\n",
            "only showing top 20 rows\n",
            "\n",
            "time: 1.22 s (started: 2021-05-03 19:47:57 +00:00)\n"
          ],
          "name": "stdout"
        }
      ]
    },
    {
      "cell_type": "code",
      "metadata": {
        "id": "6vFzCEtNukZy",
        "colab": {
          "base_uri": "https://localhost:8080/"
        },
        "outputId": "8aebecc2-82c8-4006-9bf8-83e719ce0a8a"
      },
      "source": [
        "# DIVIDING THE PEOPLE TOP 20 PERCENT AND BOTTOM 20 PERCENT\n",
        "\n",
        "df_mob_demo_high_class =  spark.sql('SELECT * FROM demographic_mobility WHERE poverty_percentage < 20')\n",
        "grouped_df_mob_demo_high_class = df_mob_demo_high_class.groupBy(\"date\").mean(\"completely_home_percentage\").withColumnRenamed('avg(completely_home_percentage)','completely_home_percentage')\n",
        "grouped_df_mob_demo_high_class.createOrReplaceTempView('mob_demo_high_class')\n",
        "\n",
        "\n",
        "df_mob_demo_low_class =  spark.sql('SELECT * FROM demographic_mobility WHERE poverty_percentage > 80')\n",
        "grouped_df_mob_demo_low_class = df_mob_demo_low_class.groupBy(\"date\").mean(\"completely_home_percentage\").withColumnRenamed('avg(completely_home_percentage)','completely_home_percentage')\n",
        "grouped_df_mob_demo_low_class.createOrReplaceTempView('mob_demo_low_class')\n",
        "\n",
        "grouped_df_mob_demo_combined = spark.sql(\"\"\"\n",
        "\n",
        "SELECT h.date,h.completely_home_percentage as top20_perc,\n",
        "l.completely_home_percentage as bottom20_perc  \n",
        "FROM mob_demo_high_class h INNER JOIN mob_demo_low_class l ON h.date = l.date\n",
        "\n",
        "\"\"\")\n"
      ],
      "execution_count": 17,
      "outputs": [
        {
          "output_type": "stream",
          "text": [
            "time: 377 ms (started: 2021-05-03 19:47:58 +00:00)\n"
          ],
          "name": "stdout"
        }
      ]
    },
    {
      "cell_type": "markdown",
      "metadata": {
        "id": "ow6mFwCFoc4r"
      },
      "source": [
        "**Load 2019 stats**"
      ]
    },
    {
      "cell_type": "code",
      "metadata": {
        "colab": {
          "base_uri": "https://localhost:8080/"
        },
        "id": "iBe00iTKobbO",
        "outputId": "5335c5ac-528b-4528-f764-721a313bd84b"
      },
      "source": [
        "filename = '{}_social_summary_2019.csv'.format(city)\n",
        "stat_2019 = spark.read.format('csv').option('header','true').option('quote',\"\\\"\").option('escape',\"\\\"\").load(str(path/city/filename))\n",
        "stat_2019.show()\n",
        "mean_2019 = stat_2019.collect()[1][5]\n"
      ],
      "execution_count": 18,
      "outputs": [
        {
          "output_type": "stream",
          "text": [
            "+-----+------------------+------------------+-----------------+------------------+--------------------------+-------------------------+-------------------------+--------------------+--------------------+--------------------+-----------------+\n",
            "|  _c0|             total|   completely_home|   part_time_work|    full_time_work|percentage_completely_home|percentage_part_time_work|percentage_full_time_work|norm_completely_home| norm_part_time_work| norm_full_time_work|            month|\n",
            "+-----+------------------+------------------+-----------------+------------------+--------------------------+-------------------------+-------------------------+--------------------+--------------------+--------------------+-----------------+\n",
            "|count|         2290248.0|         2290248.0|        2290248.0|         2290248.0|                 2290248.0|                2290248.0|                2290248.0|           2290248.0|           2290248.0|           2290248.0|        2290248.0|\n",
            "| mean| 80.34526610218632|28.434720606676656|6.304287570603708| 4.110137417432522|        34.191774982169704|        8.187627170719718|         5.60654841629037|3.141520436194587...|4.354980010730152...|-2.23046824278488...|6.524348018205889|\n",
            "|  std|100.01782144483444| 46.63537873190937|6.281789685352023|4.2383835406180195|        10.449758498798655|        5.100597591243777|        4.491605719641751|  0.9999999999984743|  1.0000000000003462|  1.0000000000018414|3.448153832282255|\n",
            "|  min|               5.0|               1.0|              1.0|               1.0|        0.3574620196604111|      0.16891891891891891|       0.0999000999000999|  -3.237808124120669|  -1.572111523866646| -1.2259865758719086|              1.0|\n",
            "|  25%|              48.0|              14.0|              2.0|               1.0|         27.27272727272727|        4.166666666666666|        2.127659574468085| -0.6621251304743431| -0.7883312557249873| -0.7745312164442965|              4.0|\n",
            "|  50%|              67.0|              23.0|              5.0|               3.0|        34.285714285714285|       7.4074074074074066|         4.25531914893617|0.008989614789220246| -0.1529663435225157| -0.3008343455983429|              7.0|\n",
            "|  75%|              94.0|              35.0|              8.0|               6.0|        41.228070175438596|        11.11111111111111|        7.865168539325842|  0.6733452446846319|  0.5731649847088806|  0.5028536038144548|             10.0|\n",
            "|  max|           17185.0|           10466.0|            653.0|             438.0|         91.82509505703422|        66.66666666666666|                    56.25|  5.5152777053642215|   11.46513490817982|  11.275132935699647|             12.0|\n",
            "+-----+------------------+------------------+-----------------+------------------+--------------------------+-------------------------+-------------------------+--------------------+--------------------+--------------------+-----------------+\n",
            "\n",
            "time: 914 ms (started: 2021-05-03 19:47:59 +00:00)\n"
          ],
          "name": "stdout"
        }
      ]
    },
    {
      "cell_type": "code",
      "metadata": {
        "colab": {
          "base_uri": "https://localhost:8080/"
        },
        "id": "jbZKBBrlsymR",
        "outputId": "368538c9-c5f7-4ab6-84df-7cbca292e99f"
      },
      "source": [
        "# calculate deviation form mean\n",
        "grouped_df_mob_demo_combined= grouped_df_mob_demo_combined.withColumn(\"top20_deviation\",\n",
        "    grouped_df_mob_demo_combined['top20_perc'] - mean_2019)\n"
      ],
      "execution_count": 19,
      "outputs": [
        {
          "output_type": "stream",
          "text": [
            "time: 36.3 ms (started: 2021-05-03 19:48:00 +00:00)\n"
          ],
          "name": "stdout"
        }
      ]
    },
    {
      "cell_type": "code",
      "metadata": {
        "colab": {
          "base_uri": "https://localhost:8080/"
        },
        "id": "m1v1M4wSwmbV",
        "outputId": "919ef682-ddd5-4fc8-dff4-4342252919a5"
      },
      "source": [
        "grouped_df_mob_demo_combined = grouped_df_mob_demo_combined.withColumn(\"bottom20_deviation\",\n",
        "    grouped_df_mob_demo_combined['bottom20_perc'] - mean_2019)"
      ],
      "execution_count": 20,
      "outputs": [
        {
          "output_type": "stream",
          "text": [
            "time: 32.4 ms (started: 2021-05-03 19:48:00 +00:00)\n"
          ],
          "name": "stdout"
        }
      ]
    },
    {
      "cell_type": "markdown",
      "metadata": {
        "id": "JxSLoJSmYuj8"
      },
      "source": [
        "\n",
        "**Visualizations** \n",
        "\n"
      ]
    },
    {
      "cell_type": "code",
      "metadata": {
        "colab": {
          "base_uri": "https://localhost:8080/"
        },
        "id": "S4CaYZVO43kY",
        "outputId": "360f3eb4-3693-4ea6-eb81-bfbbff15b0a7"
      },
      "source": [
        "# create altair library theme \n",
        "\n",
        "def my_theme():\n",
        "  return {\n",
        "    'config': {\n",
        "      'view': {'continuousHeight': 300, 'continuousWidth': 400},  # from the default theme\n",
        "      'range': {'category': {'scheme': ['#FF4500','#a0aab4','#4E79A7']}}\n",
        "    }\n",
        "  }\n",
        "alt.themes.register('my_theme', my_theme)\n",
        "alt.themes.enable('my_theme')\n",
        "# "
      ],
      "execution_count": 21,
      "outputs": [
        {
          "output_type": "execute_result",
          "data": {
            "text/plain": [
              "ThemeRegistry.enable('my_theme')"
            ]
          },
          "metadata": {
            "tags": []
          },
          "execution_count": 21
        },
        {
          "output_type": "stream",
          "text": [
            "time: 37.1 ms (started: 2021-05-03 19:48:00 +00:00)\n"
          ],
          "name": "stdout"
        }
      ]
    },
    {
      "cell_type": "code",
      "metadata": {
        "colab": {
          "base_uri": "https://localhost:8080/"
        },
        "id": "0KpTm73-BpiA",
        "outputId": "00a256ee-0540-4134-b845-7bc208926d4a"
      },
      "source": [
        "def create_chart(df,mon) :\n",
        "  chart = alt.Chart(df).transform_fold(\n",
        "    fold=['Bottom 20 % Deviation', 'Top 20 % Deviation'],\n",
        "    as_ = ['Poverty %','completely_home_value']\n",
        "    \n",
        "    ).mark_line().encode(\n",
        "      x= alt.X('date:T', title = mon),\n",
        "      y= alt.Y('completely_home_value:Q', title = 'Completely Home %'),\n",
        "      color='Poverty %:N'\n",
        "    ).properties(width = 1000).interactive()\n",
        "\n",
        "  rule = alt.Chart(pd.DataFrame({'Mean 2019':[0]})).mark_rule(color='#757575',strokeDash=[5,3], size=2).encode(\n",
        "    y='Mean 2019',\n",
        "    size=alt.value(2),\n",
        "    )\n",
        "  \n",
        "  text = alt.Chart({'values':[{ 'y': 1}]}).mark_text(\n",
        "    text='Mean 2019', angle=0\n",
        "    ).encode(\n",
        "      y=alt.Y('y:Q'),opacity=alt.value(0.4)\n",
        "    )\n",
        "\n",
        "  return  chart + rule + text\n"
      ],
      "execution_count": 22,
      "outputs": [
        {
          "output_type": "stream",
          "text": [
            "time: 27.1 ms (started: 2021-05-03 19:48:00 +00:00)\n"
          ],
          "name": "stdout"
        }
      ]
    },
    {
      "cell_type": "code",
      "metadata": {
        "colab": {
          "base_uri": "https://localhost:8080/"
        },
        "id": "P9AleyUlCeuI",
        "outputId": "1ea5e8ff-6677-4fc0-a89d-d43e54df3f02"
      },
      "source": [
        "def apply_date_filter(df,start_date,end_date) :\n",
        "  mask = (df['date'] > start_date) & (df['date'] <= end_date)\n",
        "  dfX = df.loc[mask]\n",
        "  return dfX"
      ],
      "execution_count": 23,
      "outputs": [
        {
          "output_type": "stream",
          "text": [
            "time: 2.69 ms (started: 2021-05-03 19:48:00 +00:00)\n"
          ],
          "name": "stdout"
        }
      ]
    },
    {
      "cell_type": "code",
      "metadata": {
        "colab": {
          "base_uri": "https://localhost:8080/",
          "height": 418
        },
        "id": "V4EHlNdfSVal",
        "outputId": "56a5c8bb-a527-4487-e2db-266b09004df2"
      },
      "source": [
        "# create pandas dataframe for visualizations\n",
        "df = grouped_df_mob_demo_combined.toPandas()\n",
        "df"
      ],
      "execution_count": 24,
      "outputs": [
        {
          "output_type": "execute_result",
          "data": {
            "text/html": [
              "<div>\n",
              "<style scoped>\n",
              "    .dataframe tbody tr th:only-of-type {\n",
              "        vertical-align: middle;\n",
              "    }\n",
              "\n",
              "    .dataframe tbody tr th {\n",
              "        vertical-align: top;\n",
              "    }\n",
              "\n",
              "    .dataframe thead th {\n",
              "        text-align: right;\n",
              "    }\n",
              "</style>\n",
              "<table border=\"1\" class=\"dataframe\">\n",
              "  <thead>\n",
              "    <tr style=\"text-align: right;\">\n",
              "      <th></th>\n",
              "      <th>date</th>\n",
              "      <th>top20_perc</th>\n",
              "      <th>bottom20_perc</th>\n",
              "      <th>top20_deviation</th>\n",
              "      <th>bottom20_deviation</th>\n",
              "    </tr>\n",
              "  </thead>\n",
              "  <tbody>\n",
              "    <tr>\n",
              "      <th>0</th>\n",
              "      <td>2020-02-26</td>\n",
              "      <td>20.948572</td>\n",
              "      <td>20.489095</td>\n",
              "      <td>-13.243203</td>\n",
              "      <td>-13.702680</td>\n",
              "    </tr>\n",
              "    <tr>\n",
              "      <th>1</th>\n",
              "      <td>2020-04-13</td>\n",
              "      <td>57.527185</td>\n",
              "      <td>47.815293</td>\n",
              "      <td>23.335410</td>\n",
              "      <td>13.623518</td>\n",
              "    </tr>\n",
              "    <tr>\n",
              "      <th>2</th>\n",
              "      <td>2020-06-24</td>\n",
              "      <td>39.998245</td>\n",
              "      <td>40.032680</td>\n",
              "      <td>5.806470</td>\n",
              "      <td>5.840905</td>\n",
              "    </tr>\n",
              "    <tr>\n",
              "      <th>3</th>\n",
              "      <td>2020-06-08</td>\n",
              "      <td>42.439567</td>\n",
              "      <td>31.688312</td>\n",
              "      <td>8.247792</td>\n",
              "      <td>-2.503463</td>\n",
              "    </tr>\n",
              "    <tr>\n",
              "      <th>4</th>\n",
              "      <td>2020-09-12</td>\n",
              "      <td>33.992552</td>\n",
              "      <td>15.840081</td>\n",
              "      <td>-0.199223</td>\n",
              "      <td>-18.351694</td>\n",
              "    </tr>\n",
              "    <tr>\n",
              "      <th>...</th>\n",
              "      <td>...</td>\n",
              "      <td>...</td>\n",
              "      <td>...</td>\n",
              "      <td>...</td>\n",
              "      <td>...</td>\n",
              "    </tr>\n",
              "    <tr>\n",
              "      <th>361</th>\n",
              "      <td>2020-04-05</td>\n",
              "      <td>54.866796</td>\n",
              "      <td>40.241935</td>\n",
              "      <td>20.675021</td>\n",
              "      <td>6.050161</td>\n",
              "    </tr>\n",
              "    <tr>\n",
              "      <th>362</th>\n",
              "      <td>2020-05-01</td>\n",
              "      <td>53.816496</td>\n",
              "      <td>52.280702</td>\n",
              "      <td>19.624721</td>\n",
              "      <td>18.088927</td>\n",
              "    </tr>\n",
              "    <tr>\n",
              "      <th>363</th>\n",
              "      <td>2020-10-25</td>\n",
              "      <td>36.063622</td>\n",
              "      <td>28.735632</td>\n",
              "      <td>1.871847</td>\n",
              "      <td>-5.456143</td>\n",
              "    </tr>\n",
              "    <tr>\n",
              "      <th>364</th>\n",
              "      <td>2020-12-28</td>\n",
              "      <td>34.252238</td>\n",
              "      <td>34.923077</td>\n",
              "      <td>0.060463</td>\n",
              "      <td>0.731302</td>\n",
              "    </tr>\n",
              "    <tr>\n",
              "      <th>365</th>\n",
              "      <td>2020-12-19</td>\n",
              "      <td>36.251640</td>\n",
              "      <td>21.263482</td>\n",
              "      <td>2.059865</td>\n",
              "      <td>-12.928293</td>\n",
              "    </tr>\n",
              "  </tbody>\n",
              "</table>\n",
              "<p>366 rows × 5 columns</p>\n",
              "</div>"
            ],
            "text/plain": [
              "           date  top20_perc  bottom20_perc  top20_deviation  bottom20_deviation\n",
              "0    2020-02-26   20.948572      20.489095       -13.243203          -13.702680\n",
              "1    2020-04-13   57.527185      47.815293        23.335410           13.623518\n",
              "2    2020-06-24   39.998245      40.032680         5.806470            5.840905\n",
              "3    2020-06-08   42.439567      31.688312         8.247792           -2.503463\n",
              "4    2020-09-12   33.992552      15.840081        -0.199223          -18.351694\n",
              "..          ...         ...            ...              ...                 ...\n",
              "361  2020-04-05   54.866796      40.241935        20.675021            6.050161\n",
              "362  2020-05-01   53.816496      52.280702        19.624721           18.088927\n",
              "363  2020-10-25   36.063622      28.735632         1.871847           -5.456143\n",
              "364  2020-12-28   34.252238      34.923077         0.060463            0.731302\n",
              "365  2020-12-19   36.251640      21.263482         2.059865          -12.928293\n",
              "\n",
              "[366 rows x 5 columns]"
            ]
          },
          "metadata": {
            "tags": []
          },
          "execution_count": 24
        },
        {
          "output_type": "stream",
          "text": [
            "time: 3min 32s (started: 2021-05-03 19:48:00 +00:00)\n"
          ],
          "name": "stdout"
        }
      ]
    },
    {
      "cell_type": "code",
      "metadata": {
        "colab": {
          "base_uri": "https://localhost:8080/"
        },
        "id": "MtFPRkkEZtzL",
        "outputId": "4f2d206e-1f14-45ed-eab5-1ca974fa3f00"
      },
      "source": [
        "df = df.rename(columns={'top20_perc': 'Top 20 %', 'bottom20_perc': 'Bottom 20 %','top20_deviation': 'Top 20 % Deviation', 'bottom20_deviation': 'Bottom 20 % Deviation'})"
      ],
      "execution_count": 25,
      "outputs": [
        {
          "output_type": "stream",
          "text": [
            "time: 6.28 ms (started: 2021-05-03 19:51:32 +00:00)\n"
          ],
          "name": "stdout"
        }
      ]
    },
    {
      "cell_type": "code",
      "metadata": {
        "colab": {
          "base_uri": "https://localhost:8080/",
          "height": 385
        },
        "id": "pTTAkF1Iwesw",
        "outputId": "fab4b1dc-fd9a-4343-a19d-e1635fa6d6de"
      },
      "source": [
        "# analysis for the entire year on monthly basis\n",
        "df_str = df.copy(deep=True) #make a deep copy\n",
        "\n",
        "df_str['date'] = pd.to_datetime(df_str['date'],utc= True) # extract the months\n",
        "\n",
        "df_str = df_str.groupby([df_str['date']]).mean().rolling(10).mean()[0:] #find the mean for the days and roll up for every 10 days\n",
        "\n",
        "chart = alt.Chart(df_str.reset_index()).transform_fold(\n",
        "    fold=['Bottom 20 %', 'Top 20 %'],\n",
        "    as_ = ['Poverty %','completely home %']\n",
        "    \n",
        "    ).mark_line().encode(\n",
        "      x='date:T',\n",
        "      y= alt.Y('completely home %:Q', title = 'Completely Home %'), color='Poverty %:N'\n",
        "    ).properties(width = 1000)\n",
        "chart"
      ],
      "execution_count": 26,
      "outputs": [
        {
          "output_type": "execute_result",
          "data": {
            "text/plain": [
              "alt.Chart(...)"
            ],
            "text/html": [
              "\n",
              "<div id=\"altair-viz-1a434c885582447dad7384c9d83152cd\"></div>\n",
              "<script type=\"text/javascript\">\n",
              "  (function(spec, embedOpt){\n",
              "    let outputDiv = document.currentScript.previousElementSibling;\n",
              "    if (outputDiv.id !== \"altair-viz-1a434c885582447dad7384c9d83152cd\") {\n",
              "      outputDiv = document.getElementById(\"altair-viz-1a434c885582447dad7384c9d83152cd\");\n",
              "    }\n",
              "    const paths = {\n",
              "      \"vega\": \"https://cdn.jsdelivr.net/npm//vega@5?noext\",\n",
              "      \"vega-lib\": \"https://cdn.jsdelivr.net/npm//vega-lib?noext\",\n",
              "      \"vega-lite\": \"https://cdn.jsdelivr.net/npm//vega-lite@4.8.1?noext\",\n",
              "      \"vega-embed\": \"https://cdn.jsdelivr.net/npm//vega-embed@6?noext\",\n",
              "    };\n",
              "\n",
              "    function loadScript(lib) {\n",
              "      return new Promise(function(resolve, reject) {\n",
              "        var s = document.createElement('script');\n",
              "        s.src = paths[lib];\n",
              "        s.async = true;\n",
              "        s.onload = () => resolve(paths[lib]);\n",
              "        s.onerror = () => reject(`Error loading script: ${paths[lib]}`);\n",
              "        document.getElementsByTagName(\"head\")[0].appendChild(s);\n",
              "      });\n",
              "    }\n",
              "\n",
              "    function showError(err) {\n",
              "      outputDiv.innerHTML = `<div class=\"error\" style=\"color:red;\">${err}</div>`;\n",
              "      throw err;\n",
              "    }\n",
              "\n",
              "    function displayChart(vegaEmbed) {\n",
              "      vegaEmbed(outputDiv, spec, embedOpt)\n",
              "        .catch(err => showError(`Javascript Error: ${err.message}<br>This usually means there's a typo in your chart specification. See the javascript console for the full traceback.`));\n",
              "    }\n",
              "\n",
              "    if(typeof define === \"function\" && define.amd) {\n",
              "      requirejs.config({paths});\n",
              "      require([\"vega-embed\"], displayChart, err => showError(`Error loading script: ${err.message}`));\n",
              "    } else if (typeof vegaEmbed === \"function\") {\n",
              "      displayChart(vegaEmbed);\n",
              "    } else {\n",
              "      loadScript(\"vega\")\n",
              "        .then(() => loadScript(\"vega-lite\"))\n",
              "        .then(() => loadScript(\"vega-embed\"))\n",
              "        .catch(showError)\n",
              "        .then(() => displayChart(vegaEmbed));\n",
              "    }\n",
              "  })({\"config\": {\"view\": {\"continuousHeight\": 300, \"continuousWidth\": 400}, \"range\": {\"category\": {\"scheme\": [\"#FF4500\", \"#a0aab4\", \"#4E79A7\"]}}}, \"data\": {\"name\": \"data-5bbe186752e69917180ef804af863863\"}, \"mark\": \"line\", \"encoding\": {\"color\": {\"type\": \"nominal\", \"field\": \"Poverty %\"}, \"x\": {\"type\": \"temporal\", \"field\": \"date\"}, \"y\": {\"type\": \"quantitative\", \"field\": \"completely home %\", \"title\": \"Completely Home %\"}}, \"transform\": [{\"fold\": [\"Bottom 20 %\", \"Top 20 %\"], \"as\": [\"Poverty %\", \"completely home %\"]}], \"width\": 1000, \"$schema\": \"https://vega.github.io/schema/vega-lite/v4.8.1.json\", \"datasets\": {\"data-5bbe186752e69917180ef804af863863\": [{\"date\": \"2020-01-01T00:00:00+00:00\", \"Top 20 %\": null, \"Bottom 20 %\": null, \"Top 20 % Deviation\": null, \"Bottom 20 % Deviation\": null}, {\"date\": \"2020-01-02T00:00:00+00:00\", \"Top 20 %\": null, \"Bottom 20 %\": null, \"Top 20 % Deviation\": null, \"Bottom 20 % Deviation\": null}, {\"date\": \"2020-01-03T00:00:00+00:00\", \"Top 20 %\": null, \"Bottom 20 %\": null, \"Top 20 % Deviation\": null, \"Bottom 20 % Deviation\": null}, {\"date\": \"2020-01-04T00:00:00+00:00\", \"Top 20 %\": null, \"Bottom 20 %\": null, \"Top 20 % Deviation\": null, \"Bottom 20 % Deviation\": null}, {\"date\": \"2020-01-05T00:00:00+00:00\", \"Top 20 %\": null, \"Bottom 20 %\": null, \"Top 20 % Deviation\": null, \"Bottom 20 % Deviation\": null}, {\"date\": \"2020-01-06T00:00:00+00:00\", \"Top 20 %\": null, \"Bottom 20 %\": null, \"Top 20 % Deviation\": null, \"Bottom 20 % Deviation\": null}, {\"date\": \"2020-01-07T00:00:00+00:00\", \"Top 20 %\": null, \"Bottom 20 %\": null, \"Top 20 % Deviation\": null, \"Bottom 20 % Deviation\": null}, {\"date\": \"2020-01-08T00:00:00+00:00\", \"Top 20 %\": null, \"Bottom 20 %\": null, \"Top 20 % Deviation\": null, \"Bottom 20 % Deviation\": null}, {\"date\": \"2020-01-09T00:00:00+00:00\", \"Top 20 %\": null, \"Bottom 20 %\": null, \"Top 20 % Deviation\": null, \"Bottom 20 % Deviation\": null}, {\"date\": \"2020-01-10T00:00:00+00:00\", \"Top 20 %\": 27.21185863393394, \"Bottom 20 %\": 19.691413142346615, \"Top 20 % Deviation\": -6.979916348235767, \"Bottom 20 % Deviation\": -14.500361839823086}, {\"date\": \"2020-01-11T00:00:00+00:00\", \"Top 20 %\": 26.78125616099995, \"Bottom 20 %\": 18.724888136187467, \"Top 20 % Deviation\": -7.4105188211697595, \"Bottom 20 % Deviation\": -15.466886845982236}, {\"date\": \"2020-01-12T00:00:00+00:00\", \"Top 20 %\": 27.280230032815446, \"Bottom 20 %\": 17.129974716274045, \"Top 20 % Deviation\": -6.91154494935426, \"Bottom 20 % Deviation\": -17.061800265895656}, {\"date\": \"2020-01-13T00:00:00+00:00\", \"Top 20 %\": 27.082142117022595, \"Bottom 20 %\": 16.67707616554941, \"Top 20 % Deviation\": -7.109632865147111, \"Bottom 20 % Deviation\": -17.514698816620292}, {\"date\": \"2020-01-14T00:00:00+00:00\", \"Top 20 %\": 26.035702021840734, \"Bottom 20 %\": 16.862501850975097, \"Top 20 % Deviation\": -8.156072960328974, \"Bottom 20 % Deviation\": -17.329273131194604}, {\"date\": \"2020-01-15T00:00:00+00:00\", \"Top 20 %\": 24.677662005947838, \"Bottom 20 %\": 17.0389781524514, \"Top 20 % Deviation\": -9.514112976221872, \"Bottom 20 % Deviation\": -17.152796829718305}, {\"date\": \"2020-01-16T00:00:00+00:00\", \"Top 20 %\": 24.31210388991747, \"Bottom 20 %\": 16.392000130473377, \"Top 20 % Deviation\": -9.879671092252241, \"Bottom 20 % Deviation\": -17.799774851696323}, {\"date\": \"2020-01-17T00:00:00+00:00\", \"Top 20 %\": 24.087516215946827, \"Bottom 20 %\": 16.891239095465767, \"Top 20 % Deviation\": -10.10425876622288, \"Bottom 20 % Deviation\": -17.300535886703933}, {\"date\": \"2020-01-18T00:00:00+00:00\", \"Top 20 %\": 24.849876301566876, \"Bottom 20 %\": 17.778351911606716, \"Top 20 % Deviation\": -9.341898680602835, \"Bottom 20 % Deviation\": -16.41342307056298}, {\"date\": \"2020-01-19T00:00:00+00:00\", \"Top 20 %\": 25.689243255728826, \"Bottom 20 %\": 18.94742054788847, \"Top 20 % Deviation\": -8.502531726440886, \"Bottom 20 % Deviation\": -15.24435443428123}, {\"date\": \"2020-01-20T00:00:00+00:00\", \"Top 20 %\": 26.496660163881863, \"Bottom 20 %\": 18.891954879498083, \"Top 20 % Deviation\": -7.695114818287846, \"Bottom 20 % Deviation\": -15.299820102671614}, {\"date\": \"2020-01-21T00:00:00+00:00\", \"Top 20 %\": 25.948364038155084, \"Bottom 20 %\": 21.328034424952627, \"Top 20 % Deviation\": -8.243410944014624, \"Bottom 20 % Deviation\": -12.86374055721707}, {\"date\": \"2020-01-22T00:00:00+00:00\", \"Top 20 %\": 24.910423020614424, \"Bottom 20 %\": 22.579957501875704, \"Top 20 % Deviation\": -9.281351961555284, \"Bottom 20 % Deviation\": -11.611817480293993}, {\"date\": \"2020-01-23T00:00:00+00:00\", \"Top 20 %\": 24.693086671761577, \"Bottom 20 %\": 22.784256612824432, \"Top 20 % Deviation\": -9.498688310408133, \"Bottom 20 % Deviation\": -11.407518369345265}, {\"date\": \"2020-01-24T00:00:00+00:00\", \"Top 20 %\": 24.586353091982204, \"Bottom 20 %\": 22.23346296203078, \"Top 20 % Deviation\": -9.605421890187504, \"Bottom 20 % Deviation\": -11.958312020138916}, {\"date\": \"2020-01-25T00:00:00+00:00\", \"Top 20 %\": 25.416030157224977, \"Bottom 20 %\": 22.709042937610757, \"Top 20 % Deviation\": -8.775744824944729, \"Bottom 20 % Deviation\": -11.48273204455894}, {\"date\": \"2020-01-26T00:00:00+00:00\", \"Top 20 %\": 26.255341222321505, \"Bottom 20 %\": 22.864823776490187, \"Top 20 % Deviation\": -7.9364337598481995, \"Bottom 20 % Deviation\": -11.32695120567951}, {\"date\": \"2020-01-27T00:00:00+00:00\", \"Top 20 %\": 26.337505395826543, \"Bottom 20 %\": 22.192605013517998, \"Top 20 % Deviation\": -7.854269586343162, \"Bottom 20 % Deviation\": -11.999169968651698}, {\"date\": \"2020-01-28T00:00:00+00:00\", \"Top 20 %\": 25.25167668247279, \"Bottom 20 %\": 21.16426501684967, \"Top 20 % Deviation\": -8.940098299696913, \"Bottom 20 % Deviation\": -13.02750996532003}, {\"date\": \"2020-01-29T00:00:00+00:00\", \"Top 20 %\": 24.237342485833864, \"Bottom 20 %\": 19.689142785040637, \"Top 20 % Deviation\": -9.954432496335842, \"Bottom 20 % Deviation\": -14.502632197129063}, {\"date\": \"2020-01-30T00:00:00+00:00\", \"Top 20 %\": 23.18945095292029, \"Bottom 20 %\": 19.042494112076174, \"Top 20 % Deviation\": -11.002324029249413, \"Bottom 20 % Deviation\": -15.149280870093525}, {\"date\": \"2020-01-31T00:00:00+00:00\", \"Top 20 %\": 22.764612429246593, \"Bottom 20 %\": 16.5998977859113, \"Top 20 % Deviation\": -11.427162552923111, \"Bottom 20 % Deviation\": -17.5918771962584}, {\"date\": \"2020-02-01T00:00:00+00:00\", \"Top 20 %\": 23.774272856716728, \"Bottom 20 %\": 15.814641375654887, \"Top 20 % Deviation\": -10.417502125452973, \"Bottom 20 % Deviation\": -18.37713360651481}, {\"date\": \"2020-02-02T00:00:00+00:00\", \"Top 20 %\": 24.926325597210784, \"Bottom 20 %\": 19.68719039526273, \"Top 20 % Deviation\": -9.265449384958917, \"Bottom 20 % Deviation\": -14.504584586906969}, {\"date\": \"2020-02-03T00:00:00+00:00\", \"Top 20 %\": 25.327757415700297, \"Bottom 20 %\": 20.753857061929395, \"Top 20 % Deviation\": -8.864017566469403, \"Bottom 20 % Deviation\": -13.437917920240304}, {\"date\": \"2020-02-04T00:00:00+00:00\", \"Top 20 %\": 24.62966091659991, \"Bottom 20 %\": 22.47388990265189, \"Top 20 % Deviation\": -9.562114065569792, \"Bottom 20 % Deviation\": -11.717885079517808}, {\"date\": \"2020-02-05T00:00:00+00:00\", \"Top 20 %\": 24.020801137722103, \"Bottom 20 %\": 22.647306747808855, \"Top 20 % Deviation\": -10.170973844447596, \"Bottom 20 % Deviation\": -11.544468234360844}, {\"date\": \"2020-02-06T00:00:00+00:00\", \"Top 20 %\": 24.10569945333447, \"Bottom 20 %\": 23.037840233930577, \"Top 20 % Deviation\": -10.086075528835227, \"Bottom 20 % Deviation\": -11.153934748239122}, {\"date\": \"2020-02-07T00:00:00+00:00\", \"Top 20 %\": 24.141163471063635, \"Bottom 20 %\": 23.829666542998265, \"Top 20 % Deviation\": -10.05061151110606, \"Bottom 20 % Deviation\": -10.362108439171433}, {\"date\": \"2020-02-08T00:00:00+00:00\", \"Top 20 %\": 24.862699171874457, \"Bottom 20 %\": 23.917873170678583, \"Top 20 % Deviation\": -9.329075810295242, \"Bottom 20 % Deviation\": -10.273901811491122}, {\"date\": \"2020-02-09T00:00:00+00:00\", \"Top 20 %\": 25.955568714269855, \"Bottom 20 %\": 26.03685232236801, \"Top 20 % Deviation\": -8.236206267899842, \"Bottom 20 % Deviation\": -8.15492265980169}, {\"date\": \"2020-02-10T00:00:00+00:00\", \"Top 20 %\": 26.453569915215887, \"Bottom 20 %\": 27.619930168275765, \"Top 20 % Deviation\": -7.73820506695381, \"Bottom 20 % Deviation\": -6.571844813893932}, {\"date\": \"2020-02-11T00:00:00+00:00\", \"Top 20 %\": 25.71420683641323, \"Bottom 20 %\": 27.407808956154554, \"Top 20 % Deviation\": -8.477568145756472, \"Bottom 20 % Deviation\": -6.783966026015145}, {\"date\": \"2020-02-12T00:00:00+00:00\", \"Top 20 %\": 24.60565805707663, \"Bottom 20 %\": 24.426834388109512, \"Top 20 % Deviation\": -9.586116925093066, \"Bottom 20 % Deviation\": -9.764940594060183}, {\"date\": \"2020-02-13T00:00:00+00:00\", \"Top 20 %\": 24.435216728543647, \"Bottom 20 %\": 24.52443198570711, \"Top 20 % Deviation\": -9.75655825362605, \"Bottom 20 % Deviation\": -9.667342996462585}, {\"date\": \"2020-02-14T00:00:00+00:00\", \"Top 20 %\": 24.233885674141625, \"Bottom 20 %\": 23.94908778967326, \"Top 20 % Deviation\": -9.957889308028076, \"Bottom 20 % Deviation\": -10.242687192496437}, {\"date\": \"2020-02-15T00:00:00+00:00\", \"Top 20 %\": 24.71611774625534, \"Bottom 20 %\": 24.325684311431072, \"Top 20 % Deviation\": -9.475657235914364, \"Bottom 20 % Deviation\": -9.866090670738624}, {\"date\": \"2020-02-16T00:00:00+00:00\", \"Top 20 %\": 25.15172841668765, \"Bottom 20 %\": 25.302575067733596, \"Top 20 % Deviation\": -9.040046565482053, \"Bottom 20 % Deviation\": -8.889199914436102}, {\"date\": \"2020-02-17T00:00:00+00:00\", \"Top 20 %\": 25.595576656318194, \"Bottom 20 %\": 25.011883059936324, \"Top 20 % Deviation\": -8.596198325851509, \"Bottom 20 % Deviation\": -9.179891922233372}, {\"date\": \"2020-02-18T00:00:00+00:00\", \"Top 20 %\": 25.13904056691141, \"Bottom 20 %\": 24.45002817226176, \"Top 20 % Deviation\": -9.052734415258293, \"Bottom 20 % Deviation\": -9.741746809907932}, {\"date\": \"2020-02-19T00:00:00+00:00\", \"Top 20 %\": 24.54478254399648, \"Bottom 20 %\": 24.171708361231673, \"Top 20 % Deviation\": -9.646992438173228, \"Bottom 20 % Deviation\": -10.020066620938024}, {\"date\": \"2020-02-20T00:00:00+00:00\", \"Top 20 %\": 24.53812748298094, \"Bottom 20 %\": 23.335863279397284, \"Top 20 % Deviation\": -9.653647499188764, \"Bottom 20 % Deviation\": -10.855911702772412}, {\"date\": \"2020-02-21T00:00:00+00:00\", \"Top 20 %\": 24.49784306264555, \"Bottom 20 %\": 22.970603539137546, \"Top 20 % Deviation\": -9.693931919524157, \"Bottom 20 % Deviation\": -11.221171443032151}, {\"date\": \"2020-02-22T00:00:00+00:00\", \"Top 20 %\": 24.914921700275393, \"Bottom 20 %\": 23.200364945861715, \"Top 20 % Deviation\": -9.276853281894317, \"Bottom 20 % Deviation\": -10.991410036307979}, {\"date\": \"2020-02-23T00:00:00+00:00\", \"Top 20 %\": 25.483746330996972, \"Bottom 20 %\": 21.934926972677264, \"Top 20 % Deviation\": -8.708028651172741, \"Bottom 20 % Deviation\": -12.256848009492433}, {\"date\": \"2020-02-24T00:00:00+00:00\", \"Top 20 %\": 25.48967121022356, \"Bottom 20 %\": 21.394404994655282, \"Top 20 % Deviation\": -8.702103771946152, \"Bottom 20 % Deviation\": -12.797369987514411}, {\"date\": \"2020-02-25T00:00:00+00:00\", \"Top 20 %\": 27.042258531014134, \"Bottom 20 %\": 22.23148096216603, \"Top 20 % Deviation\": -7.149516451155573, \"Bottom 20 % Deviation\": -11.960294020003662}, {\"date\": \"2020-02-26T00:00:00+00:00\", \"Top 20 %\": 26.31425283732647, \"Bottom 20 %\": 21.53039041358705, \"Top 20 % Deviation\": -7.877522144843233, \"Bottom 20 % Deviation\": -12.661384568582644}, {\"date\": \"2020-02-27T00:00:00+00:00\", \"Top 20 %\": 25.750114529837106, \"Bottom 20 %\": 21.495067664189786, \"Top 20 % Deviation\": -8.441660452332595, \"Bottom 20 % Deviation\": -12.696707317979905}, {\"date\": \"2020-02-28T00:00:00+00:00\", \"Top 20 %\": 25.385788304477668, \"Bottom 20 %\": 21.889805646375347, \"Top 20 % Deviation\": -8.805986677692035, \"Bottom 20 % Deviation\": -12.301969335794345}, {\"date\": \"2020-02-29T00:00:00+00:00\", \"Top 20 %\": 25.50678045261673, \"Bottom 20 %\": 20.857449114018813, \"Top 20 % Deviation\": -8.68499452955297, \"Bottom 20 % Deviation\": -13.334325868150879}, {\"date\": \"2020-03-01T00:00:00+00:00\", \"Top 20 %\": 26.54631560228868, \"Bottom 20 %\": 21.063831667040024, \"Top 20 % Deviation\": -7.645459379881023, \"Bottom 20 % Deviation\": -13.12794331512967}, {\"date\": \"2020-03-02T00:00:00+00:00\", \"Top 20 %\": 26.62606471163708, \"Bottom 20 %\": 21.679354280579823, \"Top 20 % Deviation\": -7.565710270532622, \"Bottom 20 % Deviation\": -12.512420701589871}, {\"date\": \"2020-03-03T00:00:00+00:00\", \"Top 20 %\": 26.285213188856453, \"Bottom 20 %\": 20.764951195402087, \"Top 20 % Deviation\": -7.90656179331325, \"Bottom 20 % Deviation\": -13.426823786767605}, {\"date\": \"2020-03-04T00:00:00+00:00\", \"Top 20 %\": 25.75713528019317, \"Bottom 20 %\": 20.63418956137776, \"Top 20 % Deviation\": -8.434639701976533, \"Bottom 20 % Deviation\": -13.557585420791934}, {\"date\": \"2020-03-05T00:00:00+00:00\", \"Top 20 %\": 25.80481111618846, \"Bottom 20 %\": 19.035086458598187, \"Top 20 % Deviation\": -8.386963865981244, \"Bottom 20 % Deviation\": -15.156688523571507}, {\"date\": \"2020-03-06T00:00:00+00:00\", \"Top 20 %\": 23.62646518232898, \"Bottom 20 %\": 17.292000613114944, \"Top 20 % Deviation\": -10.565309799840719, \"Bottom 20 % Deviation\": -16.89977436905475}, {\"date\": \"2020-03-07T00:00:00+00:00\", \"Top 20 %\": 24.411743895034853, \"Bottom 20 %\": 16.45737687597964, \"Top 20 % Deviation\": -9.780031087134853, \"Bottom 20 % Deviation\": -17.734398106190053}, {\"date\": \"2020-03-08T00:00:00+00:00\", \"Top 20 %\": 25.312526216737638, \"Bottom 20 %\": 16.72819220297474, \"Top 20 % Deviation\": -8.87924876543207, \"Bottom 20 % Deviation\": -17.463582779194954}, {\"date\": \"2020-03-09T00:00:00+00:00\", \"Top 20 %\": 25.566872786463126, \"Bottom 20 %\": 17.402310011806104, \"Top 20 % Deviation\": -8.624902195706587, \"Bottom 20 % Deviation\": -16.78946497036359}, {\"date\": \"2020-03-10T00:00:00+00:00\", \"Top 20 %\": 25.35983409254324, \"Bottom 20 %\": 17.78751852859357, \"Top 20 % Deviation\": -8.831940889626472, \"Bottom 20 % Deviation\": -16.404256453576124}, {\"date\": \"2020-03-11T00:00:00+00:00\", \"Top 20 %\": 24.47399701321522, \"Bottom 20 %\": 16.596886538092452, \"Top 20 % Deviation\": -9.717777968954493, \"Bottom 20 % Deviation\": -17.59488844407724}, {\"date\": \"2020-03-12T00:00:00+00:00\", \"Top 20 %\": 24.807477804198804, \"Bottom 20 %\": 15.96750464949935, \"Top 20 % Deviation\": -9.384297177970916, \"Bottom 20 % Deviation\": -18.224270332670343}, {\"date\": \"2020-03-13T00:00:00+00:00\", \"Top 20 %\": 25.117717026662195, \"Bottom 20 %\": 15.52702845902316, \"Top 20 % Deviation\": -9.074057955507524, \"Bottom 20 % Deviation\": -18.664746523146533}, {\"date\": \"2020-03-14T00:00:00+00:00\", \"Top 20 %\": 26.22418403483178, \"Bottom 20 %\": 16.088915492788935, \"Top 20 % Deviation\": -7.967590947337939, \"Bottom 20 % Deviation\": -18.10285948938076}, {\"date\": \"2020-03-15T00:00:00+00:00\", \"Top 20 %\": 27.78193950817745, \"Bottom 20 %\": 16.592978160039458, \"Top 20 % Deviation\": -6.409835473992267, \"Bottom 20 % Deviation\": -17.598796822130236}, {\"date\": \"2020-03-16T00:00:00+00:00\", \"Top 20 %\": 29.412457652137512, \"Bottom 20 %\": 18.36477502879894, \"Top 20 % Deviation\": -4.779317330032212, \"Bottom 20 % Deviation\": -15.82699995337075}, {\"date\": \"2020-03-17T00:00:00+00:00\", \"Top 20 %\": 30.41094060799283, \"Bottom 20 %\": 19.822284186308103, \"Top 20 % Deviation\": -3.780834374176892, \"Bottom 20 % Deviation\": -14.36949079586159}, {\"date\": \"2020-03-18T00:00:00+00:00\", \"Top 20 %\": 31.349927476541097, \"Bottom 20 %\": 19.63873469316559, \"Top 20 % Deviation\": -2.8418475056286225, \"Bottom 20 % Deviation\": -14.553040289004105}, {\"date\": \"2020-03-19T00:00:00+00:00\", \"Top 20 %\": 33.31196420369813, \"Bottom 20 %\": 19.630074389171245, \"Top 20 % Deviation\": -0.8798107784715924, \"Bottom 20 % Deviation\": -14.561700592998449}, {\"date\": \"2020-03-20T00:00:00+00:00\", \"Top 20 %\": 35.03443960622009, \"Bottom 20 %\": 18.588373279182328, \"Top 20 % Deviation\": 0.8426646240503661, \"Bottom 20 % Deviation\": -15.603401702987366}, {\"date\": \"2020-03-21T00:00:00+00:00\", \"Top 20 %\": 37.10986708393276, \"Bottom 20 %\": 19.674583500975963, \"Top 20 % Deviation\": 2.918092101763041, \"Bottom 20 % Deviation\": -14.51719148119373}, {\"date\": \"2020-03-22T00:00:00+00:00\", \"Top 20 %\": 39.29309468956424, \"Bottom 20 %\": 20.596812184398676, \"Top 20 % Deviation\": 5.101319707394522, \"Bottom 20 % Deviation\": -13.594962797771018}, {\"date\": \"2020-03-23T00:00:00+00:00\", \"Top 20 %\": 41.85494625932904, \"Bottom 20 %\": 23.082923295509786, \"Top 20 % Deviation\": 7.6631712771593214, \"Bottom 20 % Deviation\": -11.108851686659905}, {\"date\": \"2020-03-24T00:00:00+00:00\", \"Top 20 %\": 43.160883706011504, \"Bottom 20 %\": 24.819638271355196, \"Top 20 % Deviation\": 8.969108723841785, \"Bottom 20 % Deviation\": -9.372136710814495}, {\"date\": \"2020-03-25T00:00:00+00:00\", \"Top 20 %\": 44.221064592137736, \"Bottom 20 %\": 25.92360727831282, \"Top 20 % Deviation\": 10.029289609968018, \"Bottom 20 % Deviation\": -8.268167703856871}, {\"date\": \"2020-03-26T00:00:00+00:00\", \"Top 20 %\": 45.242910811669645, \"Bottom 20 %\": 26.267063022192286, \"Top 20 % Deviation\": 11.051135829499929, \"Bottom 20 % Deviation\": -7.924711959977401}, {\"date\": \"2020-03-27T00:00:00+00:00\", \"Top 20 %\": 46.08194260662797, \"Bottom 20 %\": 26.433729688858953, \"Top 20 % Deviation\": 11.890167624458249, \"Bottom 20 % Deviation\": -7.758045293310734}, {\"date\": \"2020-03-28T00:00:00+00:00\", \"Top 20 %\": 47.45123776563526, \"Bottom 20 %\": 25.994568559290848, \"Top 20 % Deviation\": 13.259462783465542, \"Bottom 20 % Deviation\": -8.197206422878839}, {\"date\": \"2020-03-29T00:00:00+00:00\", \"Top 20 %\": 48.701885234226054, \"Bottom 20 %\": 26.90199063050813, \"Top 20 % Deviation\": 14.510110252056341, \"Bottom 20 % Deviation\": -7.289784351661561}, {\"date\": \"2020-03-30T00:00:00+00:00\", \"Top 20 %\": 49.647805443690785, \"Bottom 20 %\": 27.861558620534982, \"Top 20 % Deviation\": 15.456030461521072, \"Bottom 20 % Deviation\": -6.33021636163471}, {\"date\": \"2020-03-31T00:00:00+00:00\", \"Top 20 %\": 50.201257621532235, \"Bottom 20 %\": 28.14106681725629, \"Top 20 % Deviation\": 16.009482639362528, \"Bottom 20 % Deviation\": -6.050708164913398}, {\"date\": \"2020-04-01T00:00:00+00:00\", \"Top 20 %\": 50.76012809607059, \"Bottom 20 %\": 29.884105559997238, \"Top 20 % Deviation\": 16.568353113900876, \"Bottom 20 % Deviation\": -4.3076694221724505}, {\"date\": \"2020-04-02T00:00:00+00:00\", \"Top 20 %\": 51.09158821170413, \"Bottom 20 %\": 30.950939311041516, \"Top 20 % Deviation\": 16.899813229534423, \"Bottom 20 % Deviation\": -3.240835671128174}, {\"date\": \"2020-04-03T00:00:00+00:00\", \"Top 20 %\": 51.9821437729124, \"Bottom 20 %\": 32.1413417878217, \"Top 20 % Deviation\": 17.79036879074269, \"Bottom 20 % Deviation\": -2.0504331943479883}, {\"date\": \"2020-04-04T00:00:00+00:00\", \"Top 20 %\": 52.60919616701856, \"Bottom 20 %\": 33.6241849250766, \"Top 20 % Deviation\": 18.41742118484884, \"Bottom 20 % Deviation\": -0.5675900570930864}, {\"date\": \"2020-04-05T00:00:00+00:00\", \"Top 20 %\": 53.28258345697232, \"Bottom 20 %\": 34.541033840695334, \"Top 20 % Deviation\": 19.090808474802603, \"Bottom 20 % Deviation\": 0.3492588585256492}, {\"date\": \"2020-04-06T00:00:00+00:00\", \"Top 20 %\": 53.91684878289932, \"Bottom 20 %\": 37.14318532905372, \"Top 20 % Deviation\": 19.725073800729614, \"Bottom 20 % Deviation\": 2.951410346884034}, {\"date\": \"2020-04-07T00:00:00+00:00\", \"Top 20 %\": 54.02760328383814, \"Bottom 20 %\": 40.524958728068505, \"Top 20 % Deviation\": 19.835828301668435, \"Bottom 20 % Deviation\": 6.333183745898812}, {\"date\": \"2020-04-08T00:00:00+00:00\", \"Top 20 %\": 53.94566209621106, \"Bottom 20 %\": 41.66458160698711, \"Top 20 % Deviation\": 19.753887114041365, \"Bottom 20 % Deviation\": 7.47280662481742}, {\"date\": \"2020-04-09T00:00:00+00:00\", \"Top 20 %\": 54.39680980889777, \"Bottom 20 %\": 43.46951995521617, \"Top 20 % Deviation\": 20.20503482672808, \"Bottom 20 % Deviation\": 9.277744973046483}, {\"date\": \"2020-04-10T00:00:00+00:00\", \"Top 20 %\": 54.5916458308914, \"Bottom 20 %\": 46.624627143110246, \"Top 20 % Deviation\": 20.399870848721708, \"Bottom 20 % Deviation\": 12.432852160940556}, {\"date\": \"2020-04-11T00:00:00+00:00\", \"Top 20 %\": 54.544898715318446, \"Bottom 20 %\": 47.110376401653056, \"Top 20 % Deviation\": 20.35312373314876, \"Bottom 20 % Deviation\": 12.918601419483366}, {\"date\": \"2020-04-12T00:00:00+00:00\", \"Top 20 %\": 54.652428513176325, \"Bottom 20 %\": 46.640966648456505, \"Top 20 % Deviation\": 20.460653531006646, \"Bottom 20 % Deviation\": 12.449191666286815}, {\"date\": \"2020-04-13T00:00:00+00:00\", \"Top 20 %\": 54.765034300312095, \"Bottom 20 %\": 46.73209346661177, \"Top 20 % Deviation\": 20.573259318142412, \"Bottom 20 % Deviation\": 12.54031848444208}, {\"date\": \"2020-04-14T00:00:00+00:00\", \"Top 20 %\": 54.59435221208918, \"Bottom 20 %\": 46.51121092973211, \"Top 20 % Deviation\": 20.402577229919505, \"Bottom 20 % Deviation\": 12.319435947562413}, {\"date\": \"2020-04-15T00:00:00+00:00\", \"Top 20 %\": 54.39883723969801, \"Bottom 20 %\": 45.88414656794788, \"Top 20 % Deviation\": 20.207062257528335, \"Bottom 20 % Deviation\": 11.692371585778186}, {\"date\": \"2020-04-16T00:00:00+00:00\", \"Top 20 %\": 54.42577273566142, \"Bottom 20 %\": 45.35195844955287, \"Top 20 % Deviation\": 20.23399775349173, \"Bottom 20 % Deviation\": 11.160183467383172}, {\"date\": \"2020-04-17T00:00:00+00:00\", \"Top 20 %\": 54.17425124434352, \"Bottom 20 %\": 43.47368909366477, \"Top 20 % Deviation\": 19.98247626217383, \"Bottom 20 % Deviation\": 9.281914111495079}, {\"date\": \"2020-04-18T00:00:00+00:00\", \"Top 20 %\": 54.10341841039136, \"Bottom 20 %\": 42.454132004219844, \"Top 20 % Deviation\": 19.91164342822167, \"Bottom 20 % Deviation\": 8.262357022050153}, {\"date\": \"2020-04-19T00:00:00+00:00\", \"Top 20 %\": 53.87281554055344, \"Bottom 20 %\": 43.16482797322393, \"Top 20 % Deviation\": 19.68104055838375, \"Bottom 20 % Deviation\": 8.973052991054246}, {\"date\": \"2020-04-20T00:00:00+00:00\", \"Top 20 %\": 53.77161854979315, \"Bottom 20 %\": 40.091616097380474, \"Top 20 % Deviation\": 19.579843567623456, \"Bottom 20 % Deviation\": 5.8998411152107915}, {\"date\": \"2020-04-21T00:00:00+00:00\", \"Top 20 %\": 53.7753528087052, \"Bottom 20 %\": 38.90075136004738, \"Top 20 % Deviation\": 19.583577826535507, \"Bottom 20 % Deviation\": 4.708976377877695}, {\"date\": \"2020-04-22T00:00:00+00:00\", \"Top 20 %\": 53.134245470125904, \"Bottom 20 %\": 37.84658655184042, \"Top 20 % Deviation\": 18.942470487956207, \"Bottom 20 % Deviation\": 3.6548115696707377}, {\"date\": \"2020-04-23T00:00:00+00:00\", \"Top 20 %\": 52.520039710671995, \"Bottom 20 %\": 36.95304426989198, \"Top 20 % Deviation\": 18.32826472850229, \"Bottom 20 % Deviation\": 2.7612692877222984}, {\"date\": \"2020-04-24T00:00:00+00:00\", \"Top 20 %\": 52.492030751068754, \"Bottom 20 %\": 37.05937868867384, \"Top 20 % Deviation\": 18.300255768899035, \"Bottom 20 % Deviation\": 2.867603706504152}, {\"date\": \"2020-04-25T00:00:00+00:00\", \"Top 20 %\": 52.01758693144827, \"Bottom 20 %\": 37.19450756658709, \"Top 20 % Deviation\": 17.825811949278563, \"Bottom 20 % Deviation\": 3.00273258441741}, {\"date\": \"2020-04-26T00:00:00+00:00\", \"Top 20 %\": 52.21816659297995, \"Bottom 20 %\": 36.63793451001404, \"Top 20 % Deviation\": 18.02639161081023, \"Bottom 20 % Deviation\": 2.4461595278443538}, {\"date\": \"2020-04-27T00:00:00+00:00\", \"Top 20 %\": 52.16211951714024, \"Bottom 20 %\": 37.99354286184534, \"Top 20 % Deviation\": 17.970344534970526, \"Bottom 20 % Deviation\": 3.801767879675652}, {\"date\": \"2020-04-28T00:00:00+00:00\", \"Top 20 %\": 51.50461459520849, \"Bottom 20 %\": 38.4232728107546, \"Top 20 % Deviation\": 17.31283961303877, \"Bottom 20 % Deviation\": 4.231497828584905}, {\"date\": \"2020-04-29T00:00:00+00:00\", \"Top 20 %\": 51.26320301134972, \"Bottom 20 %\": 38.5077987499317, \"Top 20 % Deviation\": 17.07142802917999, \"Bottom 20 % Deviation\": 4.316023767762008}, {\"date\": \"2020-04-30T00:00:00+00:00\", \"Top 20 %\": 50.96100226841171, \"Bottom 20 %\": 38.29639524115977, \"Top 20 % Deviation\": 16.769227286241993, \"Bottom 20 % Deviation\": 4.104620258990079}, {\"date\": \"2020-05-01T00:00:00+00:00\", \"Top 20 %\": 50.95910517448702, \"Bottom 20 %\": 39.86388702999259, \"Top 20 % Deviation\": 16.76733019231731, \"Bottom 20 % Deviation\": 5.672112047822891}, {\"date\": \"2020-05-02T00:00:00+00:00\", \"Top 20 %\": 50.69714463932594, \"Bottom 20 %\": 40.124303696659254, \"Top 20 % Deviation\": 16.505369657156223, \"Bottom 20 % Deviation\": 5.932528714489557}, {\"date\": \"2020-05-03T00:00:00+00:00\", \"Top 20 %\": 50.757499774857976, \"Bottom 20 %\": 40.459319317561615, \"Top 20 % Deviation\": 16.565724792688258, \"Bottom 20 % Deviation\": 6.2675443353919205}, {\"date\": \"2020-05-04T00:00:00+00:00\", \"Top 20 %\": 50.88831461446384, \"Bottom 20 %\": 39.629678916878426, \"Top 20 % Deviation\": 16.69653963229411, \"Bottom 20 % Deviation\": 5.437903934708728}, {\"date\": \"2020-05-05T00:00:00+00:00\", \"Top 20 %\": 51.38233519145571, \"Bottom 20 %\": 39.68606112774956, \"Top 20 % Deviation\": 17.190560209285977, \"Bottom 20 % Deviation\": 5.494286145579862}, {\"date\": \"2020-05-06T00:00:00+00:00\", \"Top 20 %\": 51.294877853745184, \"Bottom 20 %\": 39.667542609231035, \"Top 20 % Deviation\": 17.103102871575466, \"Bottom 20 % Deviation\": 5.475767627061343}, {\"date\": \"2020-05-07T00:00:00+00:00\", \"Top 20 %\": 51.30100281347326, \"Bottom 20 %\": 39.25916913052921, \"Top 20 % Deviation\": 17.109227831303542, \"Bottom 20 % Deviation\": 5.067394148359517}, {\"date\": \"2020-05-08T00:00:00+00:00\", \"Top 20 %\": 51.978611348381676, \"Bottom 20 %\": 39.62119128916154, \"Top 20 % Deviation\": 17.786836366211965, \"Bottom 20 % Deviation\": 5.429416306991845}, {\"date\": \"2020-05-09T00:00:00+00:00\", \"Top 20 %\": 52.15806942371894, \"Bottom 20 %\": 39.58627226082146, \"Top 20 % Deviation\": 17.96629444154923, \"Bottom 20 % Deviation\": 5.394497278651764}, {\"date\": \"2020-05-10T00:00:00+00:00\", \"Top 20 %\": 52.21702350811921, \"Bottom 20 %\": 40.35880190509023, \"Top 20 % Deviation\": 18.025248525949497, \"Bottom 20 % Deviation\": 6.167026922920539}, {\"date\": \"2020-05-11T00:00:00+00:00\", \"Top 20 %\": 52.37742756300859, \"Bottom 20 %\": 40.18050548530775, \"Top 20 % Deviation\": 18.185652580838866, \"Bottom 20 % Deviation\": 5.988730503138051}, {\"date\": \"2020-05-12T00:00:00+00:00\", \"Top 20 %\": 52.77572689391066, \"Bottom 20 %\": 40.44366338004459, \"Top 20 % Deviation\": 18.58395191174094, \"Bottom 20 % Deviation\": 6.251888397874893}, {\"date\": \"2020-05-13T00:00:00+00:00\", \"Top 20 %\": 52.66576055684216, \"Bottom 20 %\": 40.22249224798672, \"Top 20 % Deviation\": 18.47398557467244, \"Bottom 20 % Deviation\": 6.030717265817019}, {\"date\": \"2020-05-14T00:00:00+00:00\", \"Top 20 %\": 52.31030652699036, \"Bottom 20 %\": 41.94433898452637, \"Top 20 % Deviation\": 18.11853154482065, \"Bottom 20 % Deviation\": 7.752564002356673}, {\"date\": \"2020-05-15T00:00:00+00:00\", \"Top 20 %\": 51.73638657594387, \"Bottom 20 %\": 42.19898229122866, \"Top 20 % Deviation\": 17.544611593774167, \"Bottom 20 % Deviation\": 8.00720730905896}, {\"date\": \"2020-05-16T00:00:00+00:00\", \"Top 20 %\": 50.81339033806602, \"Bottom 20 %\": 41.53543987354061, \"Top 20 % Deviation\": 16.62161535589632, \"Bottom 20 % Deviation\": 7.343664891370905}, {\"date\": \"2020-05-17T00:00:00+00:00\", \"Top 20 %\": 50.7187948235395, \"Bottom 20 %\": 42.32718216029197, \"Top 20 % Deviation\": 16.5270198413698, \"Bottom 20 % Deviation\": 8.135407178122266}, {\"date\": \"2020-05-18T00:00:00+00:00\", \"Top 20 %\": 50.37227819451916, \"Bottom 20 %\": 41.96964057906618, \"Top 20 % Deviation\": 16.180503212349468, \"Bottom 20 % Deviation\": 7.777865596896474}, {\"date\": \"2020-05-19T00:00:00+00:00\", \"Top 20 %\": 50.24104844425449, \"Bottom 20 %\": 40.970723190658454, \"Top 20 % Deviation\": 16.04927346208479, \"Bottom 20 % Deviation\": 6.778948208488745}, {\"date\": \"2020-05-20T00:00:00+00:00\", \"Top 20 %\": 50.17395470234742, \"Bottom 20 %\": 42.26457962944242, \"Top 20 % Deviation\": 15.98217972017773, \"Bottom 20 % Deviation\": 8.07280464727272}, {\"date\": \"2020-05-21T00:00:00+00:00\", \"Top 20 %\": 49.46978036986855, \"Bottom 20 %\": 40.18399354885634, \"Top 20 % Deviation\": 15.278005387698858, \"Bottom 20 % Deviation\": 5.992218566686639}, {\"date\": \"2020-05-22T00:00:00+00:00\", \"Top 20 %\": 48.89438561474536, \"Bottom 20 %\": 39.655484776926514, \"Top 20 % Deviation\": 14.702610632575665, \"Bottom 20 % Deviation\": 5.463709794756815}, {\"date\": \"2020-05-23T00:00:00+00:00\", \"Top 20 %\": 48.936202949216394, \"Bottom 20 %\": 39.43654801193712, \"Top 20 % Deviation\": 14.744427967046708, \"Bottom 20 % Deviation\": 5.244773029767417}, {\"date\": \"2020-05-24T00:00:00+00:00\", \"Top 20 %\": 48.50228536384038, \"Bottom 20 %\": 38.352416519937265, \"Top 20 % Deviation\": 14.31051038167069, \"Bottom 20 % Deviation\": 4.1606415377675665}, {\"date\": \"2020-05-25T00:00:00+00:00\", \"Top 20 %\": 48.36477255172145, \"Bottom 20 %\": 38.27579960451438, \"Top 20 % Deviation\": 14.172997569551768, \"Bottom 20 % Deviation\": 4.084024622344682}, {\"date\": \"2020-05-26T00:00:00+00:00\", \"Top 20 %\": 48.39664990562049, \"Bottom 20 %\": 38.147472103503254, \"Top 20 % Deviation\": 14.204874923450808, \"Bottom 20 % Deviation\": 3.955697121333551}, {\"date\": \"2020-05-27T00:00:00+00:00\", \"Top 20 %\": 47.87128506397204, \"Bottom 20 %\": 35.70016376416175, \"Top 20 % Deviation\": 13.679510081802354, \"Bottom 20 % Deviation\": 1.5083887819920463}, {\"date\": \"2020-05-28T00:00:00+00:00\", \"Top 20 %\": 47.5790485176111, \"Bottom 20 %\": 35.00710008644894, \"Top 20 % Deviation\": 13.387273535441409, \"Bottom 20 % Deviation\": 0.8153251042792455}, {\"date\": \"2020-05-29T00:00:00+00:00\", \"Top 20 %\": 46.71185757659201, \"Bottom 20 %\": 35.38208722239625, \"Top 20 % Deviation\": 12.520082594422325, \"Bottom 20 % Deviation\": 1.1903122402265545}, {\"date\": \"2020-05-30T00:00:00+00:00\", \"Top 20 %\": 45.85039925281963, \"Bottom 20 %\": 34.14625669489906, \"Top 20 % Deviation\": 11.658624270649941, \"Bottom 20 % Deviation\": -0.04551828727063949}, {\"date\": \"2020-05-31T00:00:00+00:00\", \"Top 20 %\": 45.506390652358995, \"Bottom 20 %\": 34.74213140842083, \"Top 20 % Deviation\": 11.314615670189301, \"Bottom 20 % Deviation\": 0.5503564262511329}, {\"date\": \"2020-06-01T00:00:00+00:00\", \"Top 20 %\": 45.42311330335411, \"Bottom 20 %\": 35.134700188325134, \"Top 20 % Deviation\": 11.231338321184415, \"Bottom 20 % Deviation\": 0.942925206155439}, {\"date\": \"2020-06-02T00:00:00+00:00\", \"Top 20 %\": 45.10392525492424, \"Bottom 20 %\": 34.85040489125894, \"Top 20 % Deviation\": 10.912150272754548, \"Bottom 20 % Deviation\": 0.6586299090892436}, {\"date\": \"2020-06-03T00:00:00+00:00\", \"Top 20 %\": 45.26965591499159, \"Bottom 20 %\": 34.0343291458923, \"Top 20 % Deviation\": 11.077880932821891, \"Bottom 20 % Deviation\": -0.15744583627739636}, {\"date\": \"2020-06-04T00:00:00+00:00\", \"Top 20 %\": 45.03127481628212, \"Bottom 20 %\": 32.957552473987285, \"Top 20 % Deviation\": 10.839499834112427, \"Bottom 20 % Deviation\": -1.2342225081824083}, {\"date\": \"2020-06-05T00:00:00+00:00\", \"Top 20 %\": 44.948434401194405, \"Bottom 20 %\": 32.96760421086829, \"Top 20 % Deviation\": 10.75665941902471, \"Bottom 20 % Deviation\": -1.224170771301403}, {\"date\": \"2020-06-06T00:00:00+00:00\", \"Top 20 %\": 44.69067393325812, \"Bottom 20 %\": 34.25513811411956, \"Top 20 % Deviation\": 10.498898951088425, \"Bottom 20 % Deviation\": 0.06336313194987611}, {\"date\": \"2020-06-07T00:00:00+00:00\", \"Top 20 %\": 44.25211235674962, \"Bottom 20 %\": 33.57458255856401, \"Top 20 % Deviation\": 10.060337374579927, \"Bottom 20 % Deviation\": -0.6171924236056793}, {\"date\": \"2020-06-08T00:00:00+00:00\", \"Top 20 %\": 44.24148689101442, \"Bottom 20 %\": 32.729186085118755, \"Top 20 % Deviation\": 10.04971190884472, \"Bottom 20 % Deviation\": -1.4625888970509333}, {\"date\": \"2020-06-09T00:00:00+00:00\", \"Top 20 %\": 44.44114775846235, \"Bottom 20 %\": 32.39441749299722, \"Top 20 % Deviation\": 10.249372776292658, \"Bottom 20 % Deviation\": -1.7973574891724666}, {\"date\": \"2020-06-10T00:00:00+00:00\", \"Top 20 %\": 44.336358231803516, \"Bottom 20 %\": 32.94046621551654, \"Top 20 % Deviation\": 10.14458324963382, \"Bottom 20 % Deviation\": -1.2513087666531555}, {\"date\": \"2020-06-11T00:00:00+00:00\", \"Top 20 %\": 44.55238306502005, \"Bottom 20 %\": 32.44409626602159, \"Top 20 % Deviation\": 10.360608082850359, \"Bottom 20 % Deviation\": -1.7476787161481042}, {\"date\": \"2020-06-12T00:00:00+00:00\", \"Top 20 %\": 43.84477376303816, \"Bottom 20 %\": 32.693142777281466, \"Top 20 % Deviation\": 9.652998780868474, \"Bottom 20 % Deviation\": -1.4986322048882328}, {\"date\": \"2020-06-13T00:00:00+00:00\", \"Top 20 %\": 43.07376023056893, \"Bottom 20 %\": 33.20027290205864, \"Top 20 % Deviation\": 8.881985248399237, \"Bottom 20 % Deviation\": -0.9915020801110493}, {\"date\": \"2020-06-14T00:00:00+00:00\", \"Top 20 %\": 42.92363627202281, \"Bottom 20 %\": 34.399271796185886, \"Top 20 % Deviation\": 8.73186128985312, \"Bottom 20 % Deviation\": 0.20749681401618397}, {\"date\": \"2020-06-15T00:00:00+00:00\", \"Top 20 %\": 42.831246026630296, \"Bottom 20 %\": 36.611645533559624, \"Top 20 % Deviation\": 8.639471044460612, \"Bottom 20 % Deviation\": 2.4198705513899217}, {\"date\": \"2020-06-16T00:00:00+00:00\", \"Top 20 %\": 42.865481464975325, \"Bottom 20 %\": 37.659190867482664, \"Top 20 % Deviation\": 8.673706482805636, \"Bottom 20 % Deviation\": 3.4674158853129646}, {\"date\": \"2020-06-17T00:00:00+00:00\", \"Top 20 %\": 42.94755335814697, \"Bottom 20 %\": 38.71821679931561, \"Top 20 % Deviation\": 8.75577837597728, \"Bottom 20 % Deviation\": 4.526441817145914}, {\"date\": \"2020-06-18T00:00:00+00:00\", \"Top 20 %\": 42.7664928497717, \"Bottom 20 %\": 39.27795705905588, \"Top 20 % Deviation\": 8.574717867602011, \"Bottom 20 % Deviation\": 5.086182076886174}, {\"date\": \"2020-06-19T00:00:00+00:00\", \"Top 20 %\": 42.48673935689915, \"Bottom 20 %\": 40.41550342895518, \"Top 20 % Deviation\": 8.294964374729457, \"Bottom 20 % Deviation\": 6.2237284467854845}, {\"date\": \"2020-06-20T00:00:00+00:00\", \"Top 20 %\": 42.00715522518273, \"Bottom 20 %\": 38.72080569170426, \"Top 20 % Deviation\": 7.81538024301304, \"Bottom 20 % Deviation\": 4.529030709534555}, {\"date\": \"2020-06-21T00:00:00+00:00\", \"Top 20 %\": 41.255669297391165, \"Bottom 20 %\": 40.334367783207526, \"Top 20 % Deviation\": 7.063894315221475, \"Bottom 20 % Deviation\": 6.142592801037823}, {\"date\": \"2020-06-22T00:00:00+00:00\", \"Top 20 %\": 41.14153310487354, \"Bottom 20 %\": 40.154979323847655, \"Top 20 % Deviation\": 6.949758122703846, \"Bottom 20 % Deviation\": 5.963204341677957}, {\"date\": \"2020-06-23T00:00:00+00:00\", \"Top 20 %\": 41.074424223842215, \"Bottom 20 %\": 41.45724227109571, \"Top 20 % Deviation\": 6.8826492416725245, \"Bottom 20 % Deviation\": 7.265467288926009}, {\"date\": \"2020-06-24T00:00:00+00:00\", \"Top 20 %\": 40.86344511092531, \"Bottom 20 %\": 41.571621356063034, \"Top 20 % Deviation\": 6.671670128755626, \"Bottom 20 % Deviation\": 7.379846373893329}, {\"date\": \"2020-06-25T00:00:00+00:00\", \"Top 20 %\": 40.39028402810085, \"Bottom 20 %\": 40.686151920061675, \"Top 20 % Deviation\": 6.198509045931162, \"Bottom 20 % Deviation\": 6.4943769378919765}, {\"date\": \"2020-06-26T00:00:00+00:00\", \"Top 20 %\": 39.89106398032389, \"Bottom 20 %\": 39.04712788939678, \"Top 20 % Deviation\": 5.699288998154203, \"Bottom 20 % Deviation\": 4.855352907227079}, {\"date\": \"2020-06-27T00:00:00+00:00\", \"Top 20 %\": 39.57089460256371, \"Bottom 20 %\": 37.58047998621637, \"Top 20 % Deviation\": 5.379119620394027, \"Bottom 20 % Deviation\": 3.388705004046668}, {\"date\": \"2020-06-28T00:00:00+00:00\", \"Top 20 %\": 39.52558226604206, \"Bottom 20 %\": 38.203760409496795, \"Top 20 % Deviation\": 5.333807283872373, \"Bottom 20 % Deviation\": 4.011985427327092}, {\"date\": \"2020-06-29T00:00:00+00:00\", \"Top 20 %\": 39.281607312006614, \"Bottom 20 %\": 38.37925060557522, \"Top 20 % Deviation\": 5.089832329836929, \"Bottom 20 % Deviation\": 4.187475623405523}, {\"date\": \"2020-06-30T00:00:00+00:00\", \"Top 20 %\": 39.12616679883366, \"Bottom 20 %\": 39.11098537986319, \"Top 20 % Deviation\": 4.934391816663968, \"Bottom 20 % Deviation\": 4.9192103976934884}, {\"date\": \"2020-07-01T00:00:00+00:00\", \"Top 20 %\": 39.0727979667436, \"Bottom 20 %\": 36.57106060492176, \"Top 20 % Deviation\": 4.881022984573908, \"Bottom 20 % Deviation\": 2.3792856227520653}, {\"date\": \"2020-07-02T00:00:00+00:00\", \"Top 20 %\": 38.73002636844027, \"Bottom 20 %\": 37.09437288068771, \"Top 20 % Deviation\": 4.538251386270579, \"Bottom 20 % Deviation\": 2.902597898518011}, {\"date\": \"2020-07-03T00:00:00+00:00\", \"Top 20 %\": 38.5150888060935, \"Bottom 20 %\": 34.90455012482722, \"Top 20 % Deviation\": 4.32331382392381, \"Bottom 20 % Deviation\": 0.7127751426575191}, {\"date\": \"2020-07-04T00:00:00+00:00\", \"Top 20 %\": 38.21898518177172, \"Bottom 20 %\": 34.5823483274416, \"Top 20 % Deviation\": 4.027210199602036, \"Bottom 20 % Deviation\": 0.390573345271898}, {\"date\": \"2020-07-05T00:00:00+00:00\", \"Top 20 %\": 38.255790155002494, \"Bottom 20 %\": 32.037262207887395, \"Top 20 % Deviation\": 4.064015172832807, \"Bottom 20 % Deviation\": -2.154512774282306}, {\"date\": \"2020-07-06T00:00:00+00:00\", \"Top 20 %\": 38.47210363341592, \"Bottom 20 %\": 32.62499566582602, \"Top 20 % Deviation\": 4.280328651246229, \"Bottom 20 % Deviation\": -1.5667793163436738}, {\"date\": \"2020-07-07T00:00:00+00:00\", \"Top 20 %\": 38.42102160925447, \"Bottom 20 %\": 34.08505481694745, \"Top 20 % Deviation\": 4.229246627084778, \"Bottom 20 % Deviation\": -0.10672016522224866}, {\"date\": \"2020-07-08T00:00:00+00:00\", \"Top 20 %\": 38.155917554537, \"Bottom 20 %\": 32.522318611354095, \"Top 20 % Deviation\": 3.9641425723673045, \"Bottom 20 % Deviation\": -1.6694563708155976}, {\"date\": \"2020-07-09T00:00:00+00:00\", \"Top 20 %\": 38.06313680531904, \"Bottom 20 %\": 31.07778079622805, \"Top 20 % Deviation\": 3.8713618231493507, \"Bottom 20 % Deviation\": -3.113994185941648}, {\"date\": \"2020-07-10T00:00:00+00:00\", \"Top 20 %\": 38.488160112134466, \"Bottom 20 %\": 31.347814466261724, \"Top 20 % Deviation\": 4.29638512996478, \"Bottom 20 % Deviation\": -2.843960515907977}, {\"date\": \"2020-07-11T00:00:00+00:00\", \"Top 20 %\": 38.37713602356687, \"Bottom 20 %\": 32.075848524464476, \"Top 20 % Deviation\": 4.185361041397182, \"Bottom 20 % Deviation\": -2.115926457705226}, {\"date\": \"2020-07-12T00:00:00+00:00\", \"Top 20 %\": 38.48968568254148, \"Bottom 20 %\": 31.912850185594046, \"Top 20 % Deviation\": 4.297910700371788, \"Bottom 20 % Deviation\": -2.2789247965756587}, {\"date\": \"2020-07-13T00:00:00+00:00\", \"Top 20 %\": 38.55450886206265, \"Bottom 20 %\": 33.25798575178224, \"Top 20 % Deviation\": 4.362733879892957, \"Bottom 20 % Deviation\": -0.9337892303874608}, {\"date\": \"2020-07-14T00:00:00+00:00\", \"Top 20 %\": 38.506305491153554, \"Bottom 20 %\": 33.362007294609896, \"Top 20 % Deviation\": 4.314530508983863, \"Bottom 20 % Deviation\": -0.8297676875598039}, {\"date\": \"2020-07-15T00:00:00+00:00\", \"Top 20 %\": 38.08157445060879, \"Bottom 20 %\": 33.21537472853999, \"Top 20 % Deviation\": 3.889799468439098, \"Bottom 20 % Deviation\": -0.9764002536297103}, {\"date\": \"2020-07-16T00:00:00+00:00\", \"Top 20 %\": 37.75013135619582, \"Bottom 20 %\": 31.658272806337255, \"Top 20 % Deviation\": 3.558356374026127, \"Bottom 20 % Deviation\": -2.5335021758324503}, {\"date\": \"2020-07-17T00:00:00+00:00\", \"Top 20 %\": 37.5321968240021, \"Bottom 20 %\": 33.44124635780736, \"Top 20 % Deviation\": 3.3404218418324083, \"Bottom 20 % Deviation\": -0.7505286243623498}, {\"date\": \"2020-07-18T00:00:00+00:00\", \"Top 20 %\": 37.442422476813064, \"Bottom 20 %\": 35.42588636765745, \"Top 20 % Deviation\": 3.250647494643368, \"Bottom 20 % Deviation\": 1.2341113854877446}, {\"date\": \"2020-07-19T00:00:00+00:00\", \"Top 20 %\": 37.75623635661451, \"Bottom 20 %\": 35.131509120190955, \"Top 20 % Deviation\": 3.564461374444813, \"Bottom 20 % Deviation\": 0.9397341380212524}, {\"date\": \"2020-07-20T00:00:00+00:00\", \"Top 20 %\": 37.404289000190474, \"Bottom 20 %\": 34.61808920677104, \"Top 20 % Deviation\": 3.2125140180207827, \"Bottom 20 % Deviation\": 0.4263142246013384}, {\"date\": \"2020-07-21T00:00:00+00:00\", \"Top 20 %\": 37.28611976793766, \"Bottom 20 %\": 34.33030672089534, \"Top 20 % Deviation\": 3.0943447857679702, \"Bottom 20 % Deviation\": 0.13853173872563182}, {\"date\": \"2020-07-22T00:00:00+00:00\", \"Top 20 %\": 37.350458540575985, \"Bottom 20 %\": 35.339377015679915, \"Top 20 % Deviation\": 3.158683558406294, \"Bottom 20 % Deviation\": 1.1476020335102124}, {\"date\": \"2020-07-23T00:00:00+00:00\", \"Top 20 %\": 37.45108431311375, \"Bottom 20 %\": 34.31547764461073, \"Top 20 % Deviation\": 3.2593093309440695, \"Bottom 20 % Deviation\": 0.12370266244102979}, {\"date\": \"2020-07-24T00:00:00+00:00\", \"Top 20 %\": 37.538720342896994, \"Bottom 20 %\": 33.92875653148308, \"Top 20 % Deviation\": 3.3469453607273083, \"Bottom 20 % Deviation\": -0.2630184506866165}, {\"date\": \"2020-07-25T00:00:00+00:00\", \"Top 20 %\": 37.55137900933106, \"Bottom 20 %\": 34.2817383039022, \"Top 20 % Deviation\": 3.359604027161376, \"Bottom 20 % Deviation\": 0.08996332173249577}, {\"date\": \"2020-07-26T00:00:00+00:00\", \"Top 20 %\": 37.65046838725795, \"Bottom 20 %\": 35.85645645953027, \"Top 20 % Deviation\": 3.4586934050882676, \"Bottom 20 % Deviation\": 1.6646814773605638}, {\"date\": \"2020-07-27T00:00:00+00:00\", \"Top 20 %\": 37.77908498614974, \"Bottom 20 %\": 33.405423695997506, \"Top 20 % Deviation\": 3.587310003980055, \"Bottom 20 % Deviation\": -0.7863512861721993}, {\"date\": \"2020-07-28T00:00:00+00:00\", \"Top 20 %\": 37.718914614568796, \"Bottom 20 %\": 30.434786948270975, \"Top 20 % Deviation\": 3.527139632399109, \"Bottom 20 % Deviation\": -3.7569880338987303}, {\"date\": \"2020-07-29T00:00:00+00:00\", \"Top 20 %\": 37.25100212902781, \"Bottom 20 %\": 31.363935085225343, \"Top 20 % Deviation\": 3.059227146858118, \"Bottom 20 % Deviation\": -2.8278398969443677}, {\"date\": \"2020-07-30T00:00:00+00:00\", \"Top 20 %\": 36.87336699059442, \"Bottom 20 %\": 31.66750651379677, \"Top 20 % Deviation\": 2.6815920084247247, \"Bottom 20 % Deviation\": -2.524268468372939}, {\"date\": \"2020-07-31T00:00:00+00:00\", \"Top 20 %\": 36.58695658309712, \"Bottom 20 %\": 31.35148396951335, \"Top 20 % Deviation\": 2.395181600927426, \"Bottom 20 % Deviation\": -2.8402910126563534}, {\"date\": \"2020-08-01T00:00:00+00:00\", \"Top 20 %\": 36.126904058584, \"Bottom 20 %\": 29.319105404052074, \"Top 20 % Deviation\": 1.9351290764143072, \"Bottom 20 % Deviation\": -4.872669578117626}, {\"date\": \"2020-08-02T00:00:00+00:00\", \"Top 20 %\": 36.06147000286496, \"Bottom 20 %\": 29.89890100153635, \"Top 20 % Deviation\": 1.869695020695262, \"Bottom 20 % Deviation\": -4.29287398063335}, {\"date\": \"2020-08-03T00:00:00+00:00\", \"Top 20 %\": 35.91843637502692, \"Bottom 20 %\": 29.290008079576275, \"Top 20 % Deviation\": 1.7266613928572299, \"Bottom 20 % Deviation\": -4.9017669025934225}, {\"date\": \"2020-08-04T00:00:00+00:00\", \"Top 20 %\": 36.529141040022544, \"Bottom 20 %\": 30.045780085348277, \"Top 20 % Deviation\": 2.337366057852852, \"Bottom 20 % Deviation\": -4.145994896821416}, {\"date\": \"2020-08-05T00:00:00+00:00\", \"Top 20 %\": 36.26089491639285, \"Bottom 20 %\": 29.773572071708042, \"Top 20 % Deviation\": 2.069119934223155, \"Bottom 20 % Deviation\": -4.4182029104616545}, {\"date\": \"2020-08-06T00:00:00+00:00\", \"Top 20 %\": 35.91270373969897, \"Bottom 20 %\": 30.353038901174877, \"Top 20 % Deviation\": 1.7209287575292755, \"Bottom 20 % Deviation\": -3.838736080994825}, {\"date\": \"2020-08-07T00:00:00+00:00\", \"Top 20 %\": 35.61965063706408, \"Bottom 20 %\": 31.227785605441028, \"Top 20 % Deviation\": 1.4278756548943874, \"Bottom 20 % Deviation\": -2.9639893767286702}, {\"date\": \"2020-08-08T00:00:00+00:00\", \"Top 20 %\": 35.39541441598131, \"Bottom 20 %\": 31.384681382619824, \"Top 20 % Deviation\": 1.2036394338116103, \"Bottom 20 % Deviation\": -2.807093599549874}, {\"date\": \"2020-08-09T00:00:00+00:00\", \"Top 20 %\": 35.67225364866157, \"Bottom 20 %\": 29.788960661899104, \"Top 20 % Deviation\": 1.4804786664918788, \"Bottom 20 % Deviation\": -4.402814320270594}, {\"date\": \"2020-08-10T00:00:00+00:00\", \"Top 20 %\": 35.82776993239922, \"Bottom 20 %\": 30.134052973624375, \"Top 20 % Deviation\": 1.6359949502295286, \"Bottom 20 % Deviation\": -4.057722008545319}, {\"date\": \"2020-08-11T00:00:00+00:00\", \"Top 20 %\": 35.939644956218046, \"Bottom 20 %\": 29.176464234334293, \"Top 20 % Deviation\": 1.747869974048352, \"Bottom 20 % Deviation\": -5.015310747835405}, {\"date\": \"2020-08-12T00:00:00+00:00\", \"Top 20 %\": 35.82724378252829, \"Bottom 20 %\": 27.92892921193258, \"Top 20 % Deviation\": 1.6354688003585942, \"Bottom 20 % Deviation\": -6.262845770237121}, {\"date\": \"2020-08-13T00:00:00+00:00\", \"Top 20 %\": 35.92904458452059, \"Bottom 20 %\": 28.35374124200777, \"Top 20 % Deviation\": 1.7372696023508951, \"Bottom 20 % Deviation\": -5.838033740161933}, {\"date\": \"2020-08-14T00:00:00+00:00\", \"Top 20 %\": 34.831738616928575, \"Bottom 20 %\": 27.18071232584385, \"Top 20 % Deviation\": 0.6399636347588817, \"Bottom 20 % Deviation\": -7.01106265632586}, {\"date\": \"2020-08-15T00:00:00+00:00\", \"Top 20 %\": 34.43926625099689, \"Bottom 20 %\": 26.985463457065567, \"Top 20 % Deviation\": 0.2474912688271928, \"Bottom 20 % Deviation\": -7.206311525104141}, {\"date\": \"2020-08-16T00:00:00+00:00\", \"Top 20 %\": 34.78140249799733, \"Bottom 20 %\": 27.089630123732228, \"Top 20 % Deviation\": 0.5896275158276303, \"Bottom 20 % Deviation\": -7.102144858437474}, {\"date\": \"2020-08-17T00:00:00+00:00\", \"Top 20 %\": 35.06163352183866, \"Bottom 20 %\": 26.16037304540683, \"Top 20 % Deviation\": 0.8698585396689573, \"Bottom 20 % Deviation\": -8.031401936762876}, {\"date\": \"2020-08-18T00:00:00+00:00\", \"Top 20 %\": 35.14881109397837, \"Bottom 20 %\": 25.63201500407709, \"Top 20 % Deviation\": 0.9570361118086673, \"Bottom 20 % Deviation\": -8.559759978092616}, {\"date\": \"2020-08-19T00:00:00+00:00\", \"Top 20 %\": 34.972764885351936, \"Bottom 20 %\": 26.91212269797789, \"Top 20 % Deviation\": 0.780989903182234, \"Bottom 20 % Deviation\": -7.279652284191819}, {\"date\": \"2020-08-20T00:00:00+00:00\", \"Top 20 %\": 34.67620535568694, \"Bottom 20 %\": 26.75805293053603, \"Top 20 % Deviation\": 0.4844303735172417, \"Bottom 20 % Deviation\": -7.433722051633678}, {\"date\": \"2020-08-21T00:00:00+00:00\", \"Top 20 %\": 34.35696106254491, \"Bottom 20 %\": 27.197896654166506, \"Top 20 % Deviation\": 0.16518608037521573, \"Bottom 20 % Deviation\": -6.9938783280032055}, {\"date\": \"2020-08-22T00:00:00+00:00\", \"Top 20 %\": 33.718860560582335, \"Bottom 20 %\": 26.196888391329594, \"Top 20 % Deviation\": -0.4729144215873603, \"Bottom 20 % Deviation\": -7.994886590840113}, {\"date\": \"2020-08-23T00:00:00+00:00\", \"Top 20 %\": 33.67186201320178, \"Bottom 20 %\": 25.640165702253967, \"Top 20 % Deviation\": -0.5199129689679104, \"Bottom 20 % Deviation\": -8.551609279915743}, {\"date\": \"2020-08-24T00:00:00+00:00\", \"Top 20 %\": 34.00204622235886, \"Bottom 20 %\": 26.73386357210571, \"Top 20 % Deviation\": -0.18972875981083348, \"Bottom 20 % Deviation\": -7.4579114100639945}, {\"date\": \"2020-08-25T00:00:00+00:00\", \"Top 20 %\": 34.44919728295254, \"Bottom 20 %\": 24.747599835841978, \"Top 20 % Deviation\": 0.25742230078285644, \"Bottom 20 % Deviation\": -9.44417514632773}, {\"date\": \"2020-08-26T00:00:00+00:00\", \"Top 20 %\": 33.870613921278164, \"Bottom 20 %\": 22.313924442607764, \"Top 20 % Deviation\": -0.3211610608915244, \"Bottom 20 % Deviation\": -11.877850539561948}, {\"date\": \"2020-08-27T00:00:00+00:00\", \"Top 20 %\": 33.63105276316887, \"Bottom 20 %\": 22.601515003307565, \"Top 20 % Deviation\": -0.5607222190008223, \"Bottom 20 % Deviation\": -11.590259978862143}, {\"date\": \"2020-08-28T00:00:00+00:00\", \"Top 20 %\": 33.545463341345666, \"Bottom 20 %\": 22.409634949399212, \"Top 20 % Deviation\": -0.6463116408240218, \"Bottom 20 % Deviation\": -11.7821400327705}, {\"date\": \"2020-08-29T00:00:00+00:00\", \"Top 20 %\": 33.411061369188985, \"Bottom 20 %\": 21.2705378312916, \"Top 20 % Deviation\": -0.7807136129807042, \"Bottom 20 % Deviation\": -12.921237150878113}, {\"date\": \"2020-08-30T00:00:00+00:00\", \"Top 20 %\": 33.65975527550614, \"Bottom 20 %\": 20.548101933855698, \"Top 20 % Deviation\": -0.5320197066635494, \"Bottom 20 % Deviation\": -13.64367304831401}, {\"date\": \"2020-08-31T00:00:00+00:00\", \"Top 20 %\": 33.804659652229056, \"Bottom 20 %\": 20.0380541473518, \"Top 20 % Deviation\": -0.38711532994064013, \"Bottom 20 % Deviation\": -14.153720834817909}, {\"date\": \"2020-09-01T00:00:00+00:00\", \"Top 20 %\": 34.163903505694286, \"Bottom 20 %\": 21.838154622324403, \"Top 20 % Deviation\": -0.02787147647540351, \"Bottom 20 % Deviation\": -12.35362035984531}, {\"date\": \"2020-09-02T00:00:00+00:00\", \"Top 20 %\": 33.85560412979039, \"Bottom 20 %\": 21.094877311400033, \"Top 20 % Deviation\": -0.3361708523792963, \"Bottom 20 % Deviation\": -13.096897670769678}, {\"date\": \"2020-09-03T00:00:00+00:00\", \"Top 20 %\": 33.79739948636142, \"Bottom 20 %\": 19.87630283186551, \"Top 20 % Deviation\": -0.39437549580826997, \"Bottom 20 % Deviation\": -14.315472150304203}, {\"date\": \"2020-09-04T00:00:00+00:00\", \"Top 20 %\": 33.313837897558734, \"Bottom 20 %\": 20.89093090531711, \"Top 20 % Deviation\": -0.8779370846109611, \"Bottom 20 % Deviation\": -13.300844076852602}, {\"date\": \"2020-09-05T00:00:00+00:00\", \"Top 20 %\": 33.029705102358946, \"Bottom 20 %\": 21.54186820331323, \"Top 20 % Deviation\": -1.1620698798107512, \"Bottom 20 % Deviation\": -12.64990677885648}, {\"date\": \"2020-09-06T00:00:00+00:00\", \"Top 20 %\": 32.980859528596234, \"Bottom 20 %\": 21.150596644522487, \"Top 20 % Deviation\": -1.210915453573461, \"Bottom 20 % Deviation\": -13.04117833764722}, {\"date\": \"2020-09-07T00:00:00+00:00\", \"Top 20 %\": 33.388409937325164, \"Bottom 20 %\": 20.498581992507834, \"Top 20 % Deviation\": -0.8033650448445293, \"Bottom 20 % Deviation\": -13.693192989661876}, {\"date\": \"2020-09-08T00:00:00+00:00\", \"Top 20 %\": 33.45687536542681, \"Bottom 20 %\": 21.33812650596539, \"Top 20 % Deviation\": -0.7348996167428872, \"Bottom 20 % Deviation\": -12.853648476204318}, {\"date\": \"2020-09-09T00:00:00+00:00\", \"Top 20 %\": 33.442086645641986, \"Bottom 20 %\": 20.893895736734624, \"Top 20 % Deviation\": -0.7496883365277128, \"Bottom 20 % Deviation\": -13.297879245435087}, {\"date\": \"2020-09-10T00:00:00+00:00\", \"Top 20 %\": 33.70759409394444, \"Bottom 20 %\": 21.412258714336733, \"Top 20 % Deviation\": -0.4841808882252593, \"Bottom 20 % Deviation\": -12.779516267832978}, {\"date\": \"2020-09-11T00:00:00+00:00\", \"Top 20 %\": 33.48751424979698, \"Bottom 20 %\": 21.023038380894427, \"Top 20 % Deviation\": -0.7042607323727108, \"Bottom 20 % Deviation\": -13.168736601275281}, {\"date\": \"2020-09-12T00:00:00+00:00\", \"Top 20 %\": 33.54014670479711, \"Bottom 20 %\": 20.692760763774707, \"Top 20 % Deviation\": -0.651628277372583, \"Bottom 20 % Deviation\": -13.499014218395004}, {\"date\": \"2020-09-13T00:00:00+00:00\", \"Top 20 %\": 33.96553510106929, \"Bottom 20 %\": 21.403545077500198, \"Top 20 % Deviation\": -0.22623988110040294, \"Bottom 20 % Deviation\": -12.788229904669512}, {\"date\": \"2020-09-14T00:00:00+00:00\", \"Top 20 %\": 34.454253387269986, \"Bottom 20 %\": 21.10180215811022, \"Top 20 % Deviation\": 0.262478405100299, \"Bottom 20 % Deviation\": -13.08997282405949}, {\"date\": \"2020-09-15T00:00:00+00:00\", \"Top 20 %\": 34.880941405451736, \"Bottom 20 %\": 21.327687383995446, \"Top 20 % Deviation\": 0.6891664232820492, \"Bottom 20 % Deviation\": -12.864087598174262}, {\"date\": \"2020-09-16T00:00:00+00:00\", \"Top 20 %\": 35.23887882588362, \"Bottom 20 %\": 23.908766039714028, \"Top 20 % Deviation\": 1.0471038437139317, \"Bottom 20 % Deviation\": -10.283008942455684}, {\"date\": \"2020-09-17T00:00:00+00:00\", \"Top 20 %\": 35.13994036371886, \"Bottom 20 %\": 24.313078101920826, \"Top 20 % Deviation\": 0.9481653815491701, \"Bottom 20 % Deviation\": -9.878696880248885}, {\"date\": \"2020-09-18T00:00:00+00:00\", \"Top 20 %\": 34.91677989498638, \"Bottom 20 %\": 23.7579133806834, \"Top 20 % Deviation\": 0.7250049128166897, \"Bottom 20 % Deviation\": -10.433861601486308}, {\"date\": \"2020-09-19T00:00:00+00:00\", \"Top 20 %\": 34.59987218236285, \"Bottom 20 %\": 24.1329133806834, \"Top 20 % Deviation\": 0.4080972001931631, \"Bottom 20 % Deviation\": -10.058861601486308}, {\"date\": \"2020-09-20T00:00:00+00:00\", \"Top 20 %\": 34.52071567245496, \"Bottom 20 %\": 23.55759286786289, \"Top 20 % Deviation\": 0.32894069028527717, \"Bottom 20 % Deviation\": -10.634182114306821}, {\"date\": \"2020-09-21T00:00:00+00:00\", \"Top 20 %\": 35.058973420281376, \"Bottom 20 %\": 22.92397516977151, \"Top 20 % Deviation\": 0.8671984381116878, \"Bottom 20 % Deviation\": -11.267799812398204}, {\"date\": \"2020-09-22T00:00:00+00:00\", \"Top 20 %\": 35.188982238548206, \"Bottom 20 %\": 24.553529825641952, \"Top 20 % Deviation\": 0.9972072563785226, \"Bottom 20 % Deviation\": -9.638245156527757}, {\"date\": \"2020-09-23T00:00:00+00:00\", \"Top 20 %\": 34.89538375989845, \"Bottom 20 %\": 25.248705264238446, \"Top 20 % Deviation\": 0.7036087777287662, \"Bottom 20 % Deviation\": -8.943069717931266}, {\"date\": \"2020-09-24T00:00:00+00:00\", \"Top 20 %\": 34.75896741758406, \"Bottom 20 %\": 26.604742415941235, \"Top 20 % Deviation\": 0.5671924354143734, \"Bottom 20 % Deviation\": -7.58703256622848}, {\"date\": \"2020-09-25T00:00:00+00:00\", \"Top 20 %\": 34.45820039416758, \"Bottom 20 %\": 27.486969665815543, \"Top 20 % Deviation\": 0.2664254119978871, \"Bottom 20 % Deviation\": -6.704805316354171}, {\"date\": \"2020-09-26T00:00:00+00:00\", \"Top 20 %\": 33.99195018442729, \"Bottom 20 %\": 26.10373076946256, \"Top 20 % Deviation\": -0.19982479774239756, \"Bottom 20 % Deviation\": -8.088044212707151}, {\"date\": \"2020-09-27T00:00:00+00:00\", \"Top 20 %\": 33.94101917292843, \"Bottom 20 %\": 27.188268093163977, \"Top 20 % Deviation\": -0.25075580924125196, \"Bottom 20 % Deviation\": -7.003506889005742}, {\"date\": \"2020-09-28T00:00:00+00:00\", \"Top 20 %\": 34.22777174721615, \"Bottom 20 %\": 27.274205790504148, \"Top 20 % Deviation\": 0.03599676504646716, \"Bottom 20 % Deviation\": -6.917569191665571}, {\"date\": \"2020-09-29T00:00:00+00:00\", \"Top 20 %\": 34.795618909756755, \"Bottom 20 %\": 28.88857529197042, \"Top 20 % Deviation\": 0.603843927587074, \"Bottom 20 % Deviation\": -5.303199690199295}, {\"date\": \"2020-09-30T00:00:00+00:00\", \"Top 20 %\": 34.63175429254771, \"Bottom 20 %\": 28.98564488904002, \"Top 20 % Deviation\": 0.4399793103780237, \"Bottom 20 % Deviation\": -5.2061300931296985}, {\"date\": \"2020-10-01T00:00:00+00:00\", \"Top 20 %\": 34.04999629424338, \"Bottom 20 %\": 28.69082542279198, \"Top 20 % Deviation\": -0.14177868792630618, \"Bottom 20 % Deviation\": -5.500949559377736}, {\"date\": \"2020-10-02T00:00:00+00:00\", \"Top 20 %\": 33.678523140402845, \"Bottom 20 %\": 26.8344055268984, \"Top 20 % Deviation\": -0.5132518417668432, \"Bottom 20 % Deviation\": -7.357369455271318}, {\"date\": \"2020-10-03T00:00:00+00:00\", \"Top 20 %\": 33.29821154804331, \"Bottom 20 %\": 24.61679419086601, \"Top 20 % Deviation\": -0.8935634341263693, \"Bottom 20 % Deviation\": -9.574980791303707}, {\"date\": \"2020-10-04T00:00:00+00:00\", \"Top 20 %\": 33.38780814060204, \"Bottom 20 %\": 24.746883565245355, \"Top 20 % Deviation\": -0.8039668415676445, \"Bottom 20 % Deviation\": -9.444891416924362}, {\"date\": \"2020-10-05T00:00:00+00:00\", \"Top 20 %\": 33.60667597184944, \"Bottom 20 %\": 23.270476936381538, \"Top 20 % Deviation\": -0.5850990103202406, \"Bottom 20 % Deviation\": -10.921298045788177}, {\"date\": \"2020-10-06T00:00:00+00:00\", \"Top 20 %\": 33.89715758510405, \"Bottom 20 %\": 24.52998236805678, \"Top 20 % Deviation\": -0.2946173970656286, \"Bottom 20 % Deviation\": -9.661792614112933}, {\"date\": \"2020-10-07T00:00:00+00:00\", \"Top 20 %\": 33.76470308215869, \"Bottom 20 %\": 23.07932649595184, \"Top 20 % Deviation\": -0.4270719000109839, \"Bottom 20 % Deviation\": -11.112448486217872}, {\"date\": \"2020-10-08T00:00:00+00:00\", \"Top 20 %\": 33.573923815449376, \"Bottom 20 %\": 23.686867299467217, \"Top 20 % Deviation\": -0.6178511667202994, \"Bottom 20 % Deviation\": -10.504907682702491}, {\"date\": \"2020-10-09T00:00:00+00:00\", \"Top 20 %\": 32.94345684601582, \"Bottom 20 %\": 22.17438135964478, \"Top 20 % Deviation\": -1.248318136153851, \"Bottom 20 % Deviation\": -12.017393622524931}, {\"date\": \"2020-10-10T00:00:00+00:00\", \"Top 20 %\": 32.75426984725763, \"Bottom 20 %\": 22.82624338650681, \"Top 20 % Deviation\": -1.4375051349120418, \"Bottom 20 % Deviation\": -11.365531595662906}, {\"date\": \"2020-10-11T00:00:00+00:00\", \"Top 20 %\": 33.13031360570476, \"Bottom 20 %\": 24.656960288652286, \"Top 20 % Deviation\": -1.0614613764649197, \"Bottom 20 % Deviation\": -9.534814693517433}, {\"date\": \"2020-10-12T00:00:00+00:00\", \"Top 20 %\": 34.15800205444208, \"Bottom 20 %\": 27.60750973920174, \"Top 20 % Deviation\": -0.03377292772759759, \"Bottom 20 % Deviation\": -6.584265242967982}, {\"date\": \"2020-10-13T00:00:00+00:00\", \"Top 20 %\": 34.879321446379166, \"Bottom 20 %\": 28.750043675853316, \"Top 20 % Deviation\": 0.6875464642094865, \"Bottom 20 % Deviation\": -5.441731306316398}, {\"date\": \"2020-10-14T00:00:00+00:00\", \"Top 20 %\": 34.6852916591531, \"Bottom 20 %\": 27.710885855711684, \"Top 20 % Deviation\": 0.4935166769834229, \"Bottom 20 % Deviation\": -6.4808891264580355}, {\"date\": \"2020-10-15T00:00:00+00:00\", \"Top 20 %\": 34.61533573867648, \"Bottom 20 %\": 28.67089076719339, \"Top 20 % Deviation\": 0.4235607565068026, \"Bottom 20 % Deviation\": -5.520884214976331}, {\"date\": \"2020-10-16T00:00:00+00:00\", \"Top 20 %\": 34.699701274533155, \"Bottom 20 %\": 27.285284706587333, \"Top 20 % Deviation\": 0.5079262923634754, \"Bottom 20 % Deviation\": -6.9064902755823905}, {\"date\": \"2020-10-17T00:00:00+00:00\", \"Top 20 %\": 34.44847446783104, \"Bottom 20 %\": 27.098838544531418, \"Top 20 % Deviation\": 0.25669948566135614, \"Bottom 20 % Deviation\": -7.0929364376383095}, {\"date\": \"2020-10-18T00:00:00+00:00\", \"Top 20 %\": 34.816243642667764, \"Bottom 20 %\": 26.525476721169593, \"Top 20 % Deviation\": 0.6244686604980799, \"Bottom 20 % Deviation\": -7.666298261000132}, {\"date\": \"2020-10-19T00:00:00+00:00\", \"Top 20 %\": 35.37607689242696, \"Bottom 20 %\": 26.87624467467727, \"Top 20 % Deviation\": 1.1843019102572747, \"Bottom 20 % Deviation\": -7.315530307492452}, {\"date\": \"2020-10-20T00:00:00+00:00\", \"Top 20 %\": 35.89245567932714, \"Bottom 20 %\": 26.971135894568487, \"Top 20 % Deviation\": 1.7006806971574537, \"Bottom 20 % Deviation\": -7.220639087601232}, {\"date\": \"2020-10-21T00:00:00+00:00\", \"Top 20 %\": 35.73804723728146, \"Bottom 20 %\": 25.808168679362474, \"Top 20 % Deviation\": 1.5462722551117725, \"Bottom 20 % Deviation\": -8.383606302807253}, {\"date\": \"2020-10-22T00:00:00+00:00\", \"Top 20 %\": 34.95647247131966, \"Bottom 20 %\": 25.84571446690826, \"Top 20 % Deviation\": 0.764697489149972, \"Bottom 20 % Deviation\": -8.346060515261467}, {\"date\": \"2020-10-23T00:00:00+00:00\", \"Top 20 %\": 34.39509041608326, \"Bottom 20 %\": 26.195854522930667, \"Top 20 % Deviation\": 0.20331543391357662, \"Bottom 20 % Deviation\": -7.9959204592390565}, {\"date\": \"2020-10-24T00:00:00+00:00\", \"Top 20 %\": 34.24915833538275, \"Bottom 20 %\": 26.85223997916786, \"Top 20 % Deviation\": 0.05738335321307666, \"Bottom 20 % Deviation\": -7.339535003001858}, {\"date\": \"2020-10-25T00:00:00+00:00\", \"Top 20 %\": 34.54840231870277, \"Bottom 20 %\": 27.419806724895523, \"Top 20 % Deviation\": 0.356627336533089, \"Bottom 20 % Deviation\": -6.771968257274193}, {\"date\": \"2020-10-26T00:00:00+00:00\", \"Top 20 %\": 34.85127887127004, \"Bottom 20 %\": 27.024568629657427, \"Top 20 % Deviation\": 0.6595038891003636, \"Bottom 20 % Deviation\": -7.167206352512286}, {\"date\": \"2020-10-27T00:00:00+00:00\", \"Top 20 %\": 35.17236371596581, \"Bottom 20 %\": 26.44537164421044, \"Top 20 % Deviation\": 0.9805887337961344, \"Bottom 20 % Deviation\": -7.746403337959272}, {\"date\": \"2020-10-28T00:00:00+00:00\", \"Top 20 %\": 35.000917180971555, \"Bottom 20 %\": 27.382490081328875, \"Top 20 % Deviation\": 0.8091421988018815, \"Bottom 20 % Deviation\": -6.809284900840835}, {\"date\": \"2020-10-29T00:00:00+00:00\", \"Top 20 %\": 35.20644345492245, \"Bottom 20 %\": 27.992690348541338, \"Top 20 % Deviation\": 1.0146684727527764, \"Bottom 20 % Deviation\": -6.199084633628374}, {\"date\": \"2020-10-30T00:00:00+00:00\", \"Top 20 %\": 35.0486965927778, \"Bottom 20 %\": 29.12253347838447, \"Top 20 % Deviation\": 0.8569216106081349, \"Bottom 20 % Deviation\": -5.0692415037852445}, {\"date\": \"2020-10-31T00:00:00+00:00\", \"Top 20 %\": 34.80325618893069, \"Bottom 20 %\": 29.589987873077668, \"Top 20 % Deviation\": 0.6114812067610224, \"Bottom 20 % Deviation\": -4.601787109092044}, {\"date\": \"2020-11-01T00:00:00+00:00\", \"Top 20 %\": 35.21585117544038, \"Bottom 20 %\": 28.058957428112798, \"Top 20 % Deviation\": 1.0240761932707094, \"Bottom 20 % Deviation\": -6.132817554056915}, {\"date\": \"2020-11-02T00:00:00+00:00\", \"Top 20 %\": 35.53742304928673, \"Bottom 20 %\": 29.171677290832662, \"Top 20 % Deviation\": 1.3456480671170645, \"Bottom 20 % Deviation\": -5.020097691337051}, {\"date\": \"2020-11-03T00:00:00+00:00\", \"Top 20 %\": 35.9026432325432, \"Bottom 20 %\": 28.684803053958426, \"Top 20 % Deviation\": 1.710868250373536, \"Bottom 20 % Deviation\": -5.506971928211288}, {\"date\": \"2020-11-04T00:00:00+00:00\", \"Top 20 %\": 35.72621005348565, \"Bottom 20 %\": 28.686741843599755, \"Top 20 % Deviation\": 1.534435071315989, \"Bottom 20 % Deviation\": -5.5050331385699645}, {\"date\": \"2020-11-05T00:00:00+00:00\", \"Top 20 %\": 35.19084382733794, \"Bottom 20 %\": 30.011146605504514, \"Top 20 % Deviation\": 0.99906884516828, \"Bottom 20 % Deviation\": -4.180628376665203}, {\"date\": \"2020-11-06T00:00:00+00:00\", \"Top 20 %\": 34.77035376895482, \"Bottom 20 %\": 31.771563272171182, \"Top 20 % Deviation\": 0.5785787867851606, \"Bottom 20 % Deviation\": -2.4202117099985356}, {\"date\": \"2020-11-07T00:00:00+00:00\", \"Top 20 %\": 34.156781735567115, \"Bottom 20 %\": 32.825885294235135, \"Top 20 % Deviation\": -0.034993246602547504, \"Bottom 20 % Deviation\": -1.3658896879345783}, {\"date\": \"2020-11-08T00:00:00+00:00\", \"Top 20 %\": 33.7854146377272, \"Bottom 20 %\": 32.797516270491855, \"Top 20 % Deviation\": -0.4063603444424597, \"Bottom 20 % Deviation\": -1.3942587116778662}, {\"date\": \"2020-11-09T00:00:00+00:00\", \"Top 20 %\": 33.80355781900143, \"Bottom 20 %\": 33.253337476313064, \"Top 20 % Deviation\": -0.3882171631682244, \"Bottom 20 % Deviation\": -0.9384375058566604}, {\"date\": \"2020-11-10T00:00:00+00:00\", \"Top 20 %\": 34.0542351040707, \"Bottom 20 %\": 33.09235262782821, \"Top 20 % Deviation\": -0.13753987809896023, \"Bottom 20 % Deviation\": -1.099422354341509}, {\"date\": \"2020-11-11T00:00:00+00:00\", \"Top 20 %\": 33.81663533906688, \"Bottom 20 %\": 33.412941215799506, \"Top 20 % Deviation\": -0.37513964310278747, \"Bottom 20 % Deviation\": -0.7788337663702187}, {\"date\": \"2020-11-12T00:00:00+00:00\", \"Top 20 %\": 33.791160180620594, \"Bottom 20 %\": 32.06861962147791, \"Top 20 % Deviation\": -0.40061480154907125, \"Bottom 20 % Deviation\": -2.1231553606918134}, {\"date\": \"2020-11-13T00:00:00+00:00\", \"Top 20 %\": 33.65231645868962, \"Bottom 20 %\": 32.61425454211283, \"Top 20 % Deviation\": -0.539458523480042, \"Bottom 20 % Deviation\": -1.5775204400568925}, {\"date\": \"2020-11-14T00:00:00+00:00\", \"Top 20 %\": 33.5559271925206, \"Bottom 20 %\": 32.5512525340807, \"Top 20 % Deviation\": -0.6358477896490609, \"Bottom 20 % Deviation\": -1.6405224480890208}, {\"date\": \"2020-11-15T00:00:00+00:00\", \"Top 20 %\": 33.9614916089998, \"Bottom 20 %\": 31.72360101892919, \"Top 20 % Deviation\": -0.23028337316986375, \"Bottom 20 % Deviation\": -2.4681739632405355}, {\"date\": \"2020-11-16T00:00:00+00:00\", \"Top 20 %\": 34.51441291934346, \"Bottom 20 %\": 30.20851806266976, \"Top 20 % Deviation\": 0.3226379371737934, \"Bottom 20 % Deviation\": -3.9832569194999627}, {\"date\": \"2020-11-17T00:00:00+00:00\", \"Top 20 %\": 35.063387948425, \"Bottom 20 %\": 28.55486629233988, \"Top 20 % Deviation\": 0.8716129662553349, \"Bottom 20 % Deviation\": -5.636908689829839}, {\"date\": \"2020-11-18T00:00:00+00:00\", \"Top 20 %\": 35.212961684651766, \"Bottom 20 %\": 28.152518840273096, \"Top 20 % Deviation\": 1.0211867024820953, \"Bottom 20 % Deviation\": -6.039256141896616}, {\"date\": \"2020-11-19T00:00:00+00:00\", \"Top 20 %\": 35.14048142100719, \"Bottom 20 %\": 25.37474106249532, \"Top 20 % Deviation\": 0.9487064388375182, \"Bottom 20 % Deviation\": -8.817033919674394}, {\"date\": \"2020-11-20T00:00:00+00:00\", \"Top 20 %\": 35.01553349314042, \"Bottom 20 %\": 25.398147294627968, \"Top 20 % Deviation\": 0.8237585109707446, \"Bottom 20 % Deviation\": -8.793627687541747}, {\"date\": \"2020-11-21T00:00:00+00:00\", \"Top 20 %\": 34.490713522486686, \"Bottom 20 %\": 23.80671840332223, \"Top 20 % Deviation\": 0.29893854031701605, \"Bottom 20 % Deviation\": -10.385056578847486}, {\"date\": \"2020-11-22T00:00:00+00:00\", \"Top 20 %\": 34.535713212394306, \"Bottom 20 %\": 25.412380285299903, \"Top 20 % Deviation\": 0.34393823022463865, \"Bottom 20 % Deviation\": -8.779394696869813}, {\"date\": \"2020-11-23T00:00:00+00:00\", \"Top 20 %\": 34.94964654619283, \"Bottom 20 %\": 25.816361549936904, \"Top 20 % Deviation\": 0.7578715640231642, \"Bottom 20 % Deviation\": -8.375413432232813}, {\"date\": \"2020-11-24T00:00:00+00:00\", \"Top 20 %\": 35.00370903771399, \"Bottom 20 %\": 25.26347693455229, \"Top 20 % Deviation\": 0.8119340555443209, \"Bottom 20 % Deviation\": -8.928298047617428}, {\"date\": \"2020-11-25T00:00:00+00:00\", \"Top 20 %\": 34.77991630752071, \"Bottom 20 %\": 26.850229804324027, \"Top 20 % Deviation\": 0.5881413253510367, \"Bottom 20 % Deviation\": -7.341545177845691}, {\"date\": \"2020-11-26T00:00:00+00:00\", \"Top 20 %\": 34.88760408311189, \"Bottom 20 %\": 28.304236156028594, \"Top 20 % Deviation\": 0.6958291009422183, \"Bottom 20 % Deviation\": -5.88753882614113}, {\"date\": \"2020-11-27T00:00:00+00:00\", \"Top 20 %\": 34.463958668741476, \"Bottom 20 %\": 27.173676208303124, \"Top 20 % Deviation\": 0.27218368657180675, \"Bottom 20 % Deviation\": -7.018098773866603}, {\"date\": \"2020-11-28T00:00:00+00:00\", \"Top 20 %\": 33.953953998991416, \"Bottom 20 %\": 28.163989881341045, \"Top 20 % Deviation\": -0.23782098317825487, \"Bottom 20 % Deviation\": -6.027785100828678}, {\"date\": \"2020-11-29T00:00:00+00:00\", \"Top 20 %\": 34.12900357899996, \"Bottom 20 %\": 30.42659492335785, \"Top 20 % Deviation\": -0.06277140316970531, \"Bottom 20 % Deviation\": -3.7651800588118705}, {\"date\": \"2020-11-30T00:00:00+00:00\", \"Top 20 %\": 34.95941599349377, \"Bottom 20 %\": 30.378567479103992, \"Top 20 % Deviation\": 0.7676410113240998, \"Bottom 20 % Deviation\": -3.8132075030657298}, {\"date\": \"2020-12-01T00:00:00+00:00\", \"Top 20 %\": 35.457582047600674, \"Bottom 20 %\": 30.39902991939926, \"Top 20 % Deviation\": 1.265807065431003, \"Bottom 20 % Deviation\": -3.792745062770463}, {\"date\": \"2020-12-02T00:00:00+00:00\", \"Top 20 %\": 35.55010304509521, \"Bottom 20 %\": 28.79769704175059, \"Top 20 % Deviation\": 1.3583280629255376, \"Bottom 20 % Deviation\": -5.39407794041913}, {\"date\": \"2020-12-03T00:00:00+00:00\", \"Top 20 %\": 35.257938242289434, \"Bottom 20 %\": 28.967695368950324, \"Top 20 % Deviation\": 1.0661632601197624, \"Bottom 20 % Deviation\": -5.2240796132193985}, {\"date\": \"2020-12-04T00:00:00+00:00\", \"Top 20 %\": 35.40940252810531, \"Bottom 20 %\": 29.84910562536058, \"Top 20 % Deviation\": 1.217627545935636, \"Bottom 20 % Deviation\": -4.342669356809142}, {\"date\": \"2020-12-05T00:00:00+00:00\", \"Top 20 %\": 35.61266428473682, \"Bottom 20 %\": 28.049212954213743, \"Top 20 % Deviation\": 1.4208893025671423, \"Bottom 20 % Deviation\": -6.142562027955975}, {\"date\": \"2020-12-06T00:00:00+00:00\", \"Top 20 %\": 35.72145016412792, \"Bottom 20 %\": 28.178917009749, \"Top 20 % Deviation\": 1.5296751819582433, \"Bottom 20 % Deviation\": -6.012857972420718}, {\"date\": \"2020-12-07T00:00:00+00:00\", \"Top 20 %\": 36.32835664276764, \"Bottom 20 %\": 29.964715709017817, \"Top 20 % Deviation\": 2.1365816605979537, \"Bottom 20 % Deviation\": -4.2270592731519026}, {\"date\": \"2020-12-08T00:00:00+00:00\", \"Top 20 %\": 36.77826226328786, \"Bottom 20 %\": 29.226882114041366, \"Top 20 % Deviation\": 2.5864872811181763, \"Bottom 20 % Deviation\": -4.964892868128354}, {\"date\": \"2020-12-09T00:00:00+00:00\", \"Top 20 %\": 36.8175405396454, \"Bottom 20 %\": 29.619038976786463, \"Top 20 % Deviation\": 2.625765557475718, \"Bottom 20 % Deviation\": -4.572736005383257}, {\"date\": \"2020-12-10T00:00:00+00:00\", \"Top 20 %\": 36.43358423972653, \"Bottom 20 %\": 29.04328140102889, \"Top 20 % Deviation\": 2.241809257556853, \"Bottom 20 % Deviation\": -5.1484935811408326}, {\"date\": \"2020-12-11T00:00:00+00:00\", \"Top 20 %\": 36.07069189183083, \"Bottom 20 %\": 31.133297767641, \"Top 20 % Deviation\": 1.8789169096611569, \"Bottom 20 % Deviation\": -3.058477214528721}, {\"date\": \"2020-12-12T00:00:00+00:00\", \"Top 20 %\": 35.73453267330932, \"Bottom 20 %\": 31.10908239967563, \"Top 20 % Deviation\": 1.5427576911396361, \"Bottom 20 % Deviation\": -3.0826925824940887}, {\"date\": \"2020-12-13T00:00:00+00:00\", \"Top 20 %\": 35.80226947938972, \"Bottom 20 %\": 31.14636654410263, \"Top 20 % Deviation\": 1.6104944972200403, \"Bottom 20 % Deviation\": -3.0454084380670863}, {\"date\": \"2020-12-14T00:00:00+00:00\", \"Top 20 %\": 36.25864980723872, \"Bottom 20 %\": 30.900077745182255, \"Top 20 % Deviation\": 2.06687482506904, \"Bottom 20 % Deviation\": -3.2916972369874644}, {\"date\": \"2020-12-15T00:00:00+00:00\", \"Top 20 %\": 36.10197473141766, \"Bottom 20 %\": 31.398484004237606, \"Top 20 % Deviation\": 1.9101997492479879, \"Bottom 20 % Deviation\": -2.793290977932118}, {\"date\": \"2020-12-16T00:00:00+00:00\", \"Top 20 %\": 36.33987077694253, \"Bottom 20 %\": 32.64235655325721, \"Top 20 % Deviation\": 2.1480957947728587, \"Bottom 20 % Deviation\": -1.5494184289125108}, {\"date\": \"2020-12-17T00:00:00+00:00\", \"Top 20 %\": 37.45940989652292, \"Bottom 20 %\": 33.64986330089553, \"Top 20 % Deviation\": 3.267634914353246, \"Bottom 20 % Deviation\": -0.5419116812741848}, {\"date\": \"2020-12-18T00:00:00+00:00\", \"Top 20 %\": 37.378796281216495, \"Bottom 20 %\": 33.465916812601215, \"Top 20 % Deviation\": 3.1870212990468247, \"Bottom 20 % Deviation\": -0.7258581695684996}, {\"date\": \"2020-12-19T00:00:00+00:00\", \"Top 20 %\": 37.35065351892263, \"Bottom 20 %\": 31.465280913660234, \"Top 20 % Deviation\": 3.1588785367529626, \"Bottom 20 % Deviation\": -2.7264940685094827}, {\"date\": \"2020-12-20T00:00:00+00:00\", \"Top 20 %\": 37.635981093530475, \"Bottom 20 %\": 32.374371822751144, \"Top 20 % Deviation\": 3.4442061113608147, \"Bottom 20 % Deviation\": -1.8174031594185736}, {\"date\": \"2020-12-21T00:00:00+00:00\", \"Top 20 %\": 38.07559835718691, \"Bottom 20 %\": 30.834496257140284, \"Top 20 % Deviation\": 3.8838233750172506, \"Bottom 20 % Deviation\": -3.3572787250294334}, {\"date\": \"2020-12-22T00:00:00+00:00\", \"Top 20 %\": 38.12671179121791, \"Bottom 20 %\": 31.332314109577702, \"Top 20 % Deviation\": 3.9349368090482435, \"Bottom 20 % Deviation\": -2.859460872592016}, {\"date\": \"2020-12-23T00:00:00+00:00\", \"Top 20 %\": 37.609452057508015, \"Bottom 20 %\": 31.36390751617111, \"Top 20 % Deviation\": 3.417677075338351, \"Bottom 20 % Deviation\": -2.8278674659986094}, {\"date\": \"2020-12-24T00:00:00+00:00\", \"Top 20 %\": 36.77875466607582, \"Bottom 20 %\": 32.116229497595256, \"Top 20 % Deviation\": 2.5869796839061596, \"Bottom 20 % Deviation\": -2.075545484574461}, {\"date\": \"2020-12-25T00:00:00+00:00\", \"Top 20 %\": 37.35993348703647, \"Bottom 20 %\": 33.526951262219015, \"Top 20 % Deviation\": 3.168158504866811, \"Bottom 20 % Deviation\": -0.6648237199507001}, {\"date\": \"2020-12-26T00:00:00+00:00\", \"Top 20 %\": 36.79821061464936, \"Bottom 20 %\": 31.814451262219016, \"Top 20 % Deviation\": 2.606435632479702, \"Bottom 20 % Deviation\": -2.3773237199506996}, {\"date\": \"2020-12-27T00:00:00+00:00\", \"Top 20 %\": 35.64447398905662, \"Bottom 20 %\": 30.204817023908312, \"Top 20 % Deviation\": 1.452699006886958, \"Bottom 20 % Deviation\": -3.986957958261408}, {\"date\": \"2020-12-28T00:00:00+00:00\", \"Top 20 %\": 35.57070042168416, \"Bottom 20 %\": 30.99645581989493, \"Top 20 % Deviation\": 1.3789254395144979, \"Bottom 20 % Deviation\": -3.195319162274786}, {\"date\": \"2020-12-29T00:00:00+00:00\", \"Top 20 %\": 35.27022774556796, \"Bottom 20 %\": 31.872244343988534, \"Top 20 % Deviation\": 1.0784527633982997, \"Bottom 20 % Deviation\": -2.3195306381811776}, {\"date\": \"2020-12-30T00:00:00+00:00\", \"Top 20 %\": 34.50188204182074, \"Bottom 20 %\": 30.628502578507636, \"Top 20 % Deviation\": 0.31010705965108654, \"Bottom 20 % Deviation\": -3.5632724036620735}, {\"date\": \"2020-12-31T00:00:00+00:00\", \"Top 20 %\": 34.16545540113797, \"Bottom 20 %\": 31.536510012250364, \"Top 20 % Deviation\": -0.02631958103168728, \"Bottom 20 % Deviation\": -2.655264969919346}]}}, {\"mode\": \"vega-lite\"});\n",
              "</script>"
            ]
          },
          "metadata": {
            "tags": []
          },
          "execution_count": 26
        },
        {
          "output_type": "stream",
          "text": [
            "time: 151 ms (started: 2021-05-03 19:51:32 +00:00)\n"
          ],
          "name": "stdout"
        }
      ]
    },
    {
      "cell_type": "code",
      "metadata": {
        "colab": {
          "base_uri": "https://localhost:8080/"
        },
        "id": "owhSJQqe7rVM",
        "outputId": "050990d6-db87-4dc0-a734-8e5a8b0fc01d"
      },
      "source": [
        "#Conversion of datetime format\n",
        "df['date'] = pd.to_datetime(df['date'],utc= True)\n",
        "#df['date'] = [datetime.datetime.date(d) for d in df['date']] "
      ],
      "execution_count": 27,
      "outputs": [
        {
          "output_type": "stream",
          "text": [
            "time: 4.06 ms (started: 2021-05-03 19:51:33 +00:00)\n"
          ],
          "name": "stdout"
        }
      ]
    },
    {
      "cell_type": "markdown",
      "metadata": {
        "id": "yCVL0_NiBLU0"
      },
      "source": [
        "Filtering based on important dates\n",
        "\n",
        "**March 8, 2020:**\n",
        "NYC issues guidelines to avoid densely packed buses, subways, or trains.\n",
        "\n",
        "**March 12, 2020:**\n",
        "Broadway shuts down.\n",
        "\n",
        "**March 14, 2020:**\n",
        "First two COVID-19 deaths in NYS.\n",
        "\n",
        "**March 22, 2020:**\n",
        "NYS on Pause Program begins, all non-essential workers must stay home.\n",
        "\n",
        "**March 28, 2020:**\n",
        "Governor Cuomo halts all nonessential construction sites in NYS.\n",
        "\n",
        "\n",
        "\n",
        "\n",
        "\n",
        "\n",
        "\n",
        "\n",
        "\n"
      ]
    },
    {
      "cell_type": "code",
      "metadata": {
        "colab": {
          "base_uri": "https://localhost:8080/",
          "height": 385
        },
        "id": "gelkUE5NBJps",
        "outputId": "ad1c4419-2d93-4cf3-e56b-a283ed9c23e0"
      },
      "source": [
        "start_date = '2020-3-5'\n",
        "end_date = '2020-3-31'\n",
        "df1 = apply_date_filter(df,start_date,end_date)\n",
        "chart = create_chart(df1,'March')\n",
        "chart"
      ],
      "execution_count": 28,
      "outputs": [
        {
          "output_type": "execute_result",
          "data": {
            "text/plain": [
              "alt.LayerChart(...)"
            ],
            "text/html": [
              "\n",
              "<div id=\"altair-viz-aa7447f73cf646b08b43f027345ea681\"></div>\n",
              "<script type=\"text/javascript\">\n",
              "  (function(spec, embedOpt){\n",
              "    let outputDiv = document.currentScript.previousElementSibling;\n",
              "    if (outputDiv.id !== \"altair-viz-aa7447f73cf646b08b43f027345ea681\") {\n",
              "      outputDiv = document.getElementById(\"altair-viz-aa7447f73cf646b08b43f027345ea681\");\n",
              "    }\n",
              "    const paths = {\n",
              "      \"vega\": \"https://cdn.jsdelivr.net/npm//vega@5?noext\",\n",
              "      \"vega-lib\": \"https://cdn.jsdelivr.net/npm//vega-lib?noext\",\n",
              "      \"vega-lite\": \"https://cdn.jsdelivr.net/npm//vega-lite@4.8.1?noext\",\n",
              "      \"vega-embed\": \"https://cdn.jsdelivr.net/npm//vega-embed@6?noext\",\n",
              "    };\n",
              "\n",
              "    function loadScript(lib) {\n",
              "      return new Promise(function(resolve, reject) {\n",
              "        var s = document.createElement('script');\n",
              "        s.src = paths[lib];\n",
              "        s.async = true;\n",
              "        s.onload = () => resolve(paths[lib]);\n",
              "        s.onerror = () => reject(`Error loading script: ${paths[lib]}`);\n",
              "        document.getElementsByTagName(\"head\")[0].appendChild(s);\n",
              "      });\n",
              "    }\n",
              "\n",
              "    function showError(err) {\n",
              "      outputDiv.innerHTML = `<div class=\"error\" style=\"color:red;\">${err}</div>`;\n",
              "      throw err;\n",
              "    }\n",
              "\n",
              "    function displayChart(vegaEmbed) {\n",
              "      vegaEmbed(outputDiv, spec, embedOpt)\n",
              "        .catch(err => showError(`Javascript Error: ${err.message}<br>This usually means there's a typo in your chart specification. See the javascript console for the full traceback.`));\n",
              "    }\n",
              "\n",
              "    if(typeof define === \"function\" && define.amd) {\n",
              "      requirejs.config({paths});\n",
              "      require([\"vega-embed\"], displayChart, err => showError(`Error loading script: ${err.message}`));\n",
              "    } else if (typeof vegaEmbed === \"function\") {\n",
              "      displayChart(vegaEmbed);\n",
              "    } else {\n",
              "      loadScript(\"vega\")\n",
              "        .then(() => loadScript(\"vega-lite\"))\n",
              "        .then(() => loadScript(\"vega-embed\"))\n",
              "        .catch(showError)\n",
              "        .then(() => displayChart(vegaEmbed));\n",
              "    }\n",
              "  })({\"config\": {\"view\": {\"continuousHeight\": 300, \"continuousWidth\": 400}, \"range\": {\"category\": {\"scheme\": [\"#FF4500\", \"#a0aab4\", \"#4E79A7\"]}}}, \"layer\": [{\"data\": {\"name\": \"data-ea3fc1855c4f58d385c7ca8a343ee6ff\"}, \"mark\": \"line\", \"encoding\": {\"color\": {\"type\": \"nominal\", \"field\": \"Poverty %\"}, \"x\": {\"type\": \"temporal\", \"field\": \"date\", \"title\": \"March\"}, \"y\": {\"type\": \"quantitative\", \"field\": \"completely_home_value\", \"title\": \"Completely Home %\"}}, \"selection\": {\"selector001\": {\"type\": \"interval\", \"bind\": \"scales\", \"encodings\": [\"x\", \"y\"]}}, \"transform\": [{\"fold\": [\"Bottom 20 % Deviation\", \"Top 20 % Deviation\"], \"as\": [\"Poverty %\", \"completely_home_value\"]}], \"width\": 1000}, {\"data\": {\"name\": \"data-7f3a6b86ed460c4e648f2393735a11f6\"}, \"mark\": {\"type\": \"rule\", \"color\": \"#757575\", \"size\": 2, \"strokeDash\": [5, 3]}, \"encoding\": {\"size\": {\"value\": 2}, \"y\": {\"type\": \"quantitative\", \"field\": \"Mean 2019\"}}}, {\"data\": {\"name\": \"data-d764767e7dd3b10b2c76c1355ce10ef3\"}, \"mark\": {\"type\": \"text\", \"angle\": 0, \"text\": \"Mean 2019\"}, \"encoding\": {\"opacity\": {\"value\": 0.4}, \"y\": {\"type\": \"quantitative\", \"field\": \"y\"}}}], \"$schema\": \"https://vega.github.io/schema/vega-lite/v4.8.1.json\", \"datasets\": {\"data-ea3fc1855c4f58d385c7ca8a343ee6ff\": [{\"date\": \"2020-03-16T00:00:00+00:00\", \"Top 20 %\": 37.914461263981295, \"Bottom 20 %\": 27.638888888888893, \"Top 20 % Deviation\": 3.7226862818115904, \"Bottom 20 % Deviation\": -6.5528860932808115}, {\"date\": \"2020-03-06T00:00:00+00:00\", \"Top 20 %\": 21.609279824380746, \"Bottom 20 %\": 9.920920201294033, \"Top 20 % Deviation\": -12.582495157788959, \"Bottom 20 % Deviation\": -24.270854780875673}, {\"date\": \"2020-03-26T00:00:00+00:00\", \"Top 20 %\": 48.13292345930039, \"Bottom 20 %\": 31.073446327683612, \"Top 20 % Deviation\": 13.941148477130689, \"Bottom 20 % Deviation\": -3.118328654486092}, {\"date\": \"2020-03-25T00:00:00+00:00\", \"Top 20 %\": 47.86272855378586, \"Bottom 20 %\": 28.75, \"Top 20 % Deviation\": 13.670953571616153, \"Bottom 20 % Deviation\": -5.441774982169704}, {\"date\": \"2020-03-20T00:00:00+00:00\", \"Top 20 %\": 41.484913501038704, \"Bottom 20 %\": 11.133486766398159, \"Top 20 % Deviation\": 7.293138518869, \"Bottom 20 % Deviation\": -23.058288215771547}, {\"date\": \"2020-03-24T00:00:00+00:00\", \"Top 20 %\": 47.49557180076317, \"Bottom 20 %\": 35.0, \"Top 20 % Deviation\": 13.303796818593469, \"Bottom 20 % Deviation\": 0.8082250178302957}, {\"date\": \"2020-03-10T00:00:00+00:00\", \"Top 20 %\": 24.26015947581912, \"Bottom 20 %\": 21.55049786628734, \"Top 20 % Deviation\": -9.931615506350585, \"Bottom 20 % Deviation\": -12.641277115882364}, {\"date\": \"2020-03-12T00:00:00+00:00\", \"Top 20 %\": 26.844614465162724, \"Bottom 20 %\": 17.004264392324096, \"Top 20 % Deviation\": -7.34716051700698, \"Bottom 20 % Deviation\": -17.18751058984561}, {\"date\": \"2020-03-11T00:00:00+00:00\", \"Top 20 %\": 25.138340535358438, \"Bottom 20 %\": 11.137897782063645, \"Top 20 % Deviation\": -9.053434446811266, \"Bottom 20 % Deviation\": -23.053877200106058}, {\"date\": \"2020-03-13T00:00:00+00:00\", \"Top 20 %\": 26.498422433285345, \"Bottom 20 %\": 14.821428571428571, \"Top 20 % Deviation\": -7.693352548884359, \"Bottom 20 % Deviation\": -19.370346410741135}, {\"date\": \"2020-03-27T00:00:00+00:00\", \"Top 20 %\": 47.17650670347217, \"Bottom 20 %\": 28.384615384615387, \"Top 20 % Deviation\": 12.984731721302467, \"Bottom 20 % Deviation\": -5.8071595975543175}, {\"date\": \"2020-03-22T00:00:00+00:00\", \"Top 20 %\": 48.67689052147754, \"Bottom 20 %\": 26.226551226551226, \"Top 20 % Deviation\": 14.485115539307834, \"Bottom 20 % Deviation\": -7.965223755618478}, {\"date\": \"2020-03-28T00:00:00+00:00\", \"Top 20 %\": 53.2843744929993, \"Bottom 20 %\": 14.285714285714285, \"Top 20 % Deviation\": 19.092599510829594, \"Bottom 20 % Deviation\": -19.90606069645542}, {\"date\": \"2020-03-19T00:00:00+00:00\", \"Top 20 %\": 42.38891518009683, \"Bottom 20 %\": 23.40933191940615, \"Top 20 % Deviation\": 8.197140197927126, \"Bottom 20 % Deviation\": -10.782443062763555}, {\"date\": \"2020-03-09T00:00:00+00:00\", \"Top 20 %\": 22.76854790852653, \"Bottom 20 %\": 23.495934959349594, \"Top 20 % Deviation\": -11.423227073643176, \"Bottom 20 % Deviation\": -10.69584002282011}, {\"date\": \"2020-03-29T00:00:00+00:00\", \"Top 20 %\": 54.89538986600481, \"Bottom 20 %\": 32.483552631578945, \"Top 20 % Deviation\": 20.703614883835108, \"Bottom 20 % Deviation\": -1.7082223505907592}, {\"date\": \"2020-03-08T00:00:00+00:00\", \"Top 20 %\": 30.201554217443658, \"Bottom 20 %\": 20.51282051282051, \"Top 20 % Deviation\": -3.990220764726047, \"Bottom 20 % Deviation\": -13.678954469349193}, {\"date\": \"2020-03-15T00:00:00+00:00\", \"Top 20 %\": 37.26091969252352, \"Bottom 20 %\": 17.710309930423783, \"Top 20 % Deviation\": 3.069144710353818, \"Bottom 20 % Deviation\": -16.48146505174592}, {\"date\": \"2020-03-07T00:00:00+00:00\", \"Top 20 %\": 28.801359195335767, \"Bottom 20 %\": 12.142857142857142, \"Top 20 % Deviation\": -5.3904157868339375, \"Bottom 20 % Deviation\": -22.048917839312562}, {\"date\": \"2020-03-17T00:00:00+00:00\", \"Top 20 %\": 38.78618875388897, \"Bottom 20 %\": 26.717948717948715, \"Top 20 % Deviation\": 4.5944137717192675, \"Bottom 20 % Deviation\": -7.473826264220989}, {\"date\": \"2020-03-18T00:00:00+00:00\", \"Top 20 %\": 39.591422902926354, \"Bottom 20 %\": 18.67732558139535, \"Top 20 % Deviation\": 5.3996479207566495, \"Bottom 20 % Deviation\": -15.514449400774353}, {\"date\": \"2020-03-31T00:00:00+00:00\", \"Top 20 %\": 51.42713709089974, \"Bottom 20 %\": 24.795081967213115, \"Top 20 % Deviation\": 17.235362108730037, \"Bottom 20 % Deviation\": -9.39669301495659}, {\"date\": \"2020-03-14T00:00:00+00:00\", \"Top 20 %\": 34.43619733393854, \"Bottom 20 %\": 17.632850241545892, \"Top 20 % Deviation\": 0.24442235176883287, \"Bottom 20 % Deviation\": -16.558924740623812}, {\"date\": \"2020-03-23T00:00:00+00:00\", \"Top 20 %\": 52.116938130933335, \"Bottom 20 %\": 39.682539682539684, \"Top 20 % Deviation\": 17.92516314876363, \"Bottom 20 % Deviation\": 5.490764700369979}, {\"date\": \"2020-03-30T00:00:00+00:00\", \"Top 20 %\": 50.94411559568603, \"Bottom 20 %\": 20.729166666666668, \"Top 20 % Deviation\": 16.752340613516324, \"Bottom 20 % Deviation\": -13.462608315503036}, {\"date\": \"2020-03-21T00:00:00+00:00\", \"Top 20 %\": 45.892615312485184, \"Bottom 20 %\": 22.0, \"Top 20 % Deviation\": 11.70084033031548, \"Bottom 20 % Deviation\": -12.191774982169704}], \"data-7f3a6b86ed460c4e648f2393735a11f6\": [{\"Mean 2019\": 0}], \"data-d764767e7dd3b10b2c76c1355ce10ef3\": [{\"y\": 1}]}}, {\"mode\": \"vega-lite\"});\n",
              "</script>"
            ]
          },
          "metadata": {
            "tags": []
          },
          "execution_count": 28
        },
        {
          "output_type": "stream",
          "text": [
            "time: 104 ms (started: 2021-05-03 19:51:33 +00:00)\n"
          ],
          "name": "stdout"
        }
      ]
    },
    {
      "cell_type": "markdown",
      "metadata": {
        "id": "eY48F9-7gp2q"
      },
      "source": [
        "\n",
        "\n",
        "**April 10, 2020:**\n",
        "NYS records more COVID19 cases than any other country \n",
        "\n",
        "\n",
        "\n",
        "\n",
        "\n",
        "\n",
        "\n"
      ]
    },
    {
      "cell_type": "code",
      "metadata": {
        "colab": {
          "base_uri": "https://localhost:8080/",
          "height": 385
        },
        "id": "_DhDPv1GfRhR",
        "outputId": "63c44d5b-84f3-49a0-ef04-64422190f4bd"
      },
      "source": [
        "start_date = '2020-4-2'\n",
        "end_date = '2020-4-24'\n",
        "df2 = apply_date_filter(df,start_date,end_date)\n",
        "chart = create_chart(df2,'April')\n",
        "chart\n",
        "#df2"
      ],
      "execution_count": 29,
      "outputs": [
        {
          "output_type": "execute_result",
          "data": {
            "text/plain": [
              "alt.LayerChart(...)"
            ],
            "text/html": [
              "\n",
              "<div id=\"altair-viz-b39529c088a5404c99acff8ec49a0f31\"></div>\n",
              "<script type=\"text/javascript\">\n",
              "  (function(spec, embedOpt){\n",
              "    let outputDiv = document.currentScript.previousElementSibling;\n",
              "    if (outputDiv.id !== \"altair-viz-b39529c088a5404c99acff8ec49a0f31\") {\n",
              "      outputDiv = document.getElementById(\"altair-viz-b39529c088a5404c99acff8ec49a0f31\");\n",
              "    }\n",
              "    const paths = {\n",
              "      \"vega\": \"https://cdn.jsdelivr.net/npm//vega@5?noext\",\n",
              "      \"vega-lib\": \"https://cdn.jsdelivr.net/npm//vega-lib?noext\",\n",
              "      \"vega-lite\": \"https://cdn.jsdelivr.net/npm//vega-lite@4.8.1?noext\",\n",
              "      \"vega-embed\": \"https://cdn.jsdelivr.net/npm//vega-embed@6?noext\",\n",
              "    };\n",
              "\n",
              "    function loadScript(lib) {\n",
              "      return new Promise(function(resolve, reject) {\n",
              "        var s = document.createElement('script');\n",
              "        s.src = paths[lib];\n",
              "        s.async = true;\n",
              "        s.onload = () => resolve(paths[lib]);\n",
              "        s.onerror = () => reject(`Error loading script: ${paths[lib]}`);\n",
              "        document.getElementsByTagName(\"head\")[0].appendChild(s);\n",
              "      });\n",
              "    }\n",
              "\n",
              "    function showError(err) {\n",
              "      outputDiv.innerHTML = `<div class=\"error\" style=\"color:red;\">${err}</div>`;\n",
              "      throw err;\n",
              "    }\n",
              "\n",
              "    function displayChart(vegaEmbed) {\n",
              "      vegaEmbed(outputDiv, spec, embedOpt)\n",
              "        .catch(err => showError(`Javascript Error: ${err.message}<br>This usually means there's a typo in your chart specification. See the javascript console for the full traceback.`));\n",
              "    }\n",
              "\n",
              "    if(typeof define === \"function\" && define.amd) {\n",
              "      requirejs.config({paths});\n",
              "      require([\"vega-embed\"], displayChart, err => showError(`Error loading script: ${err.message}`));\n",
              "    } else if (typeof vegaEmbed === \"function\") {\n",
              "      displayChart(vegaEmbed);\n",
              "    } else {\n",
              "      loadScript(\"vega\")\n",
              "        .then(() => loadScript(\"vega-lite\"))\n",
              "        .then(() => loadScript(\"vega-embed\"))\n",
              "        .catch(showError)\n",
              "        .then(() => displayChart(vegaEmbed));\n",
              "    }\n",
              "  })({\"config\": {\"view\": {\"continuousHeight\": 300, \"continuousWidth\": 400}, \"range\": {\"category\": {\"scheme\": [\"#FF4500\", \"#a0aab4\", \"#4E79A7\"]}}}, \"layer\": [{\"data\": {\"name\": \"data-64c04014a9f78e35b054dffa88fc01ab\"}, \"mark\": \"line\", \"encoding\": {\"color\": {\"type\": \"nominal\", \"field\": \"Poverty %\"}, \"x\": {\"type\": \"temporal\", \"field\": \"date\", \"title\": \"April\"}, \"y\": {\"type\": \"quantitative\", \"field\": \"completely_home_value\", \"title\": \"Completely Home %\"}}, \"selection\": {\"selector002\": {\"type\": \"interval\", \"bind\": \"scales\", \"encodings\": [\"x\", \"y\"]}}, \"transform\": [{\"fold\": [\"Bottom 20 % Deviation\", \"Top 20 % Deviation\"], \"as\": [\"Poverty %\", \"completely_home_value\"]}], \"width\": 1000}, {\"data\": {\"name\": \"data-7f3a6b86ed460c4e648f2393735a11f6\"}, \"mark\": {\"type\": \"rule\", \"color\": \"#757575\", \"size\": 2, \"strokeDash\": [5, 3]}, \"encoding\": {\"size\": {\"value\": 2}, \"y\": {\"type\": \"quantitative\", \"field\": \"Mean 2019\"}}}, {\"data\": {\"name\": \"data-d764767e7dd3b10b2c76c1355ce10ef3\"}, \"mark\": {\"type\": \"text\", \"angle\": 0, \"text\": \"Mean 2019\"}, \"encoding\": {\"opacity\": {\"value\": 0.4}, \"y\": {\"type\": \"quantitative\", \"field\": \"y\"}}}], \"$schema\": \"https://vega.github.io/schema/vega-lite/v4.8.1.json\", \"datasets\": {\"data-64c04014a9f78e35b054dffa88fc01ab\": [{\"date\": \"2020-04-13T00:00:00+00:00\", \"Top 20 %\": 57.52718528420354, \"Bottom 20 %\": 47.81529294935452, \"Top 20 % Deviation\": 23.335410302033836, \"Bottom 20 % Deviation\": 13.623517967184817}, {\"date\": \"2020-04-12T00:00:00+00:00\", \"Top 20 %\": 56.506837265847636, \"Bottom 20 %\": 45.65677966101695, \"Top 20 % Deviation\": 22.315062283677932, \"Bottom 20 % Deviation\": 11.465004678847244}, {\"date\": \"2020-04-20T00:00:00+00:00\", \"Top 20 %\": 52.36352740323307, \"Bottom 20 %\": 25.614035087719298, \"Top 20 % Deviation\": 18.171752421063367, \"Bottom 20 % Deviation\": -8.577739894450406}, {\"date\": \"2020-04-22T00:00:00+00:00\", \"Top 20 %\": 50.09576388005461, \"Bottom 20 %\": 35.11513157894737, \"Top 20 % Deviation\": 15.903988897884908, \"Bottom 20 % Deviation\": 0.9233565967776656}, {\"date\": \"2020-04-19T00:00:00+00:00\", \"Top 20 %\": 53.14956402417401, \"Bottom 20 %\": 45.88550983899821, \"Top 20 % Deviation\": 18.957789042004308, \"Bottom 20 % Deviation\": 11.693734856828506}, {\"date\": \"2020-04-10T00:00:00+00:00\", \"Top 20 %\": 53.37549731083601, \"Bottom 20 %\": 56.34615384615385, \"Top 20 % Deviation\": 19.183722328666306, \"Bottom 20 % Deviation\": 22.154378863984142}, {\"date\": \"2020-04-23T00:00:00+00:00\", \"Top 20 %\": 51.3851276896644, \"Bottom 20 %\": 38.87987012987013, \"Top 20 % Deviation\": 17.193352707494697, \"Bottom 20 % Deviation\": 4.688095147700423}, {\"date\": \"2020-04-21T00:00:00+00:00\", \"Top 20 %\": 53.83546670025204, \"Bottom 20 %\": 36.605783866057834, \"Top 20 % Deviation\": 19.643691718082337, \"Bottom 20 % Deviation\": 2.4140088838881297}, {\"date\": \"2020-04-09T00:00:00+00:00\", \"Top 20 %\": 55.45559272255319, \"Bottom 20 %\": 38.778550148957294, \"Top 20 % Deviation\": 21.263817740383487, \"Bottom 20 % Deviation\": 4.586775166787589}, {\"date\": \"2020-04-17T00:00:00+00:00\", \"Top 20 %\": 51.876704589208494, \"Bottom 20 %\": 29.320754716981135, \"Top 20 % Deviation\": 17.68492960703879, \"Bottom 20 % Deviation\": -4.8710202651885695}, {\"date\": \"2020-04-08T00:00:00+00:00\", \"Top 20 %\": 54.075977989734085, \"Bottom 20 %\": 43.87978142076503, \"Top 20 % Deviation\": 19.88420300756438, \"Bottom 20 % Deviation\": 9.688006438595323}, {\"date\": \"2020-04-15T00:00:00+00:00\", \"Top 20 %\": 52.91164663492633, \"Bottom 20 %\": 33.97129186602871, \"Top 20 % Deviation\": 18.719871652756623, \"Bottom 20 % Deviation\": -0.22048311614099703}, {\"date\": \"2020-04-03T00:00:00+00:00\", \"Top 20 %\": 56.40112741284585, \"Bottom 20 %\": 46.90402476780186, \"Top 20 % Deviation\": 22.209352430676148, \"Bottom 20 % Deviation\": 12.712249785632153}, {\"date\": \"2020-04-11T00:00:00+00:00\", \"Top 20 %\": 53.798124111131564, \"Bottom 20 %\": 48.51443123938879, \"Top 20 % Deviation\": 19.60634912896186, \"Bottom 20 % Deviation\": 14.322656257219087}, {\"date\": \"2020-04-06T00:00:00+00:00\", \"Top 20 %\": 53.519159962742286, \"Bottom 20 %\": 54.406130268199234, \"Top 20 % Deviation\": 19.32738498057258, \"Bottom 20 % Deviation\": 20.21435528602953}, {\"date\": \"2020-04-04T00:00:00+00:00\", \"Top 20 %\": 54.13325249484737, \"Bottom 20 %\": 43.57843137254902, \"Top 20 % Deviation\": 19.941477512677665, \"Bottom 20 % Deviation\": 9.386656390379315}, {\"date\": \"2020-04-14T00:00:00+00:00\", \"Top 20 %\": 52.426431612618266, \"Bottom 20 %\": 41.369606003752345, \"Top 20 % Deviation\": 18.234656630448562, \"Bottom 20 % Deviation\": 7.177831021582641}, {\"date\": \"2020-04-18T00:00:00+00:00\", \"Top 20 %\": 53.36764965021245, \"Bottom 20 %\": 33.68421052631579, \"Top 20 % Deviation\": 19.175874668042745, \"Bottom 20 % Deviation\": -0.5075644558539167}, {\"date\": \"2020-04-24T00:00:00+00:00\", \"Top 20 %\": 52.146342016585734, \"Bottom 20 %\": 42.43295019157088, \"Top 20 % Deviation\": 17.95456703441603, \"Bottom 20 % Deviation\": 8.241175209401177}, {\"date\": \"2020-04-16T00:00:00+00:00\", \"Top 20 %\": 53.78851492237628, \"Bottom 20 %\": 49.08424908424908, \"Top 20 % Deviation\": 19.596739940206575, \"Bottom 20 % Deviation\": 14.892474102079376}, {\"date\": \"2020-04-07T00:00:00+00:00\", \"Top 20 %\": 54.39191950238751, \"Bottom 20 %\": 48.103448275862064, \"Top 20 % Deviation\": 20.200144520217805, \"Bottom 20 % Deviation\": 13.91167329369236}, {\"date\": \"2020-04-05T00:00:00+00:00\", \"Top 20 %\": 54.86679635883801, \"Bottom 20 %\": 40.24193548387097, \"Top 20 % Deviation\": 20.675021376668305, \"Bottom 20 % Deviation\": 6.050160501701264}], \"data-7f3a6b86ed460c4e648f2393735a11f6\": [{\"Mean 2019\": 0}], \"data-d764767e7dd3b10b2c76c1355ce10ef3\": [{\"y\": 1}]}}, {\"mode\": \"vega-lite\"});\n",
              "</script>"
            ]
          },
          "metadata": {
            "tags": []
          },
          "execution_count": 29
        },
        {
          "output_type": "stream",
          "text": [
            "time: 59.1 ms (started: 2021-05-03 19:51:33 +00:00)\n"
          ],
          "name": "stdout"
        }
      ]
    },
    {
      "cell_type": "markdown",
      "metadata": {
        "id": "mxC6dH7YiWxd"
      },
      "source": [
        "\n",
        "**July 6, 2020:** \n",
        "NYC begins Phase 3 of reopening, without indoor dining\n",
        "\n",
        "\n",
        "\n"
      ]
    },
    {
      "cell_type": "code",
      "metadata": {
        "colab": {
          "base_uri": "https://localhost:8080/",
          "height": 385
        },
        "id": "KTaOPmN5fRmL",
        "outputId": "efdabc18-76d7-4df6-df25-aa2d175afb69"
      },
      "source": [
        "start_date = '2020-7-1'\n",
        "end_date = '2020-7-16'\n",
        "df3 = apply_date_filter(df,start_date,end_date)\n",
        "chart = create_chart(df3,'July')\n",
        "chart"
      ],
      "execution_count": 32,
      "outputs": [
        {
          "output_type": "execute_result",
          "data": {
            "text/plain": [
              "alt.LayerChart(...)"
            ],
            "text/html": [
              "\n",
              "<div id=\"altair-viz-085cf3be9e624814bc4706900c02bb36\"></div>\n",
              "<script type=\"text/javascript\">\n",
              "  (function(spec, embedOpt){\n",
              "    let outputDiv = document.currentScript.previousElementSibling;\n",
              "    if (outputDiv.id !== \"altair-viz-085cf3be9e624814bc4706900c02bb36\") {\n",
              "      outputDiv = document.getElementById(\"altair-viz-085cf3be9e624814bc4706900c02bb36\");\n",
              "    }\n",
              "    const paths = {\n",
              "      \"vega\": \"https://cdn.jsdelivr.net/npm//vega@5?noext\",\n",
              "      \"vega-lib\": \"https://cdn.jsdelivr.net/npm//vega-lib?noext\",\n",
              "      \"vega-lite\": \"https://cdn.jsdelivr.net/npm//vega-lite@4.8.1?noext\",\n",
              "      \"vega-embed\": \"https://cdn.jsdelivr.net/npm//vega-embed@6?noext\",\n",
              "    };\n",
              "\n",
              "    function loadScript(lib) {\n",
              "      return new Promise(function(resolve, reject) {\n",
              "        var s = document.createElement('script');\n",
              "        s.src = paths[lib];\n",
              "        s.async = true;\n",
              "        s.onload = () => resolve(paths[lib]);\n",
              "        s.onerror = () => reject(`Error loading script: ${paths[lib]}`);\n",
              "        document.getElementsByTagName(\"head\")[0].appendChild(s);\n",
              "      });\n",
              "    }\n",
              "\n",
              "    function showError(err) {\n",
              "      outputDiv.innerHTML = `<div class=\"error\" style=\"color:red;\">${err}</div>`;\n",
              "      throw err;\n",
              "    }\n",
              "\n",
              "    function displayChart(vegaEmbed) {\n",
              "      vegaEmbed(outputDiv, spec, embedOpt)\n",
              "        .catch(err => showError(`Javascript Error: ${err.message}<br>This usually means there's a typo in your chart specification. See the javascript console for the full traceback.`));\n",
              "    }\n",
              "\n",
              "    if(typeof define === \"function\" && define.amd) {\n",
              "      requirejs.config({paths});\n",
              "      require([\"vega-embed\"], displayChart, err => showError(`Error loading script: ${err.message}`));\n",
              "    } else if (typeof vegaEmbed === \"function\") {\n",
              "      displayChart(vegaEmbed);\n",
              "    } else {\n",
              "      loadScript(\"vega\")\n",
              "        .then(() => loadScript(\"vega-lite\"))\n",
              "        .then(() => loadScript(\"vega-embed\"))\n",
              "        .catch(showError)\n",
              "        .then(() => displayChart(vegaEmbed));\n",
              "    }\n",
              "  })({\"config\": {\"view\": {\"continuousHeight\": 300, \"continuousWidth\": 400}, \"range\": {\"category\": {\"scheme\": [\"#FF4500\", \"#a0aab4\", \"#4E79A7\"]}}}, \"layer\": [{\"data\": {\"name\": \"data-3d5fc169b2ad921c7c67337ef71cc1fa\"}, \"mark\": \"line\", \"encoding\": {\"color\": {\"type\": \"nominal\", \"field\": \"Poverty %\"}, \"x\": {\"type\": \"temporal\", \"field\": \"date\", \"title\": \"July\"}, \"y\": {\"type\": \"quantitative\", \"field\": \"completely_home_value\", \"title\": \"Completely Home %\"}}, \"selection\": {\"selector005\": {\"type\": \"interval\", \"bind\": \"scales\", \"encodings\": [\"x\", \"y\"]}}, \"transform\": [{\"fold\": [\"Bottom 20 % Deviation\", \"Top 20 % Deviation\"], \"as\": [\"Poverty %\", \"completely_home_value\"]}], \"width\": 1000}, {\"data\": {\"name\": \"data-7f3a6b86ed460c4e648f2393735a11f6\"}, \"mark\": {\"type\": \"rule\", \"color\": \"#757575\", \"size\": 2, \"strokeDash\": [5, 3]}, \"encoding\": {\"size\": {\"value\": 2}, \"y\": {\"type\": \"quantitative\", \"field\": \"Mean 2019\"}}}, {\"data\": {\"name\": \"data-d764767e7dd3b10b2c76c1355ce10ef3\"}, \"mark\": {\"type\": \"text\", \"angle\": 0, \"text\": \"Mean 2019\"}, \"encoding\": {\"opacity\": {\"value\": 0.4}, \"y\": {\"type\": \"quantitative\", \"field\": \"y\"}}}], \"$schema\": \"https://vega.github.io/schema/vega-lite/v4.8.1.json\", \"datasets\": {\"data-3d5fc169b2ad921c7c67337ef71cc1fa\": [{\"date\": \"2020-07-12T00:00:00+00:00\", \"Top 20 %\": 37.59563419642914, \"Bottom 20 %\": 39.285714285714285, \"Top 20 % Deviation\": 3.403859214259434, \"Bottom 20 % Deviation\": 5.09393930354458}, {\"date\": \"2020-07-03T00:00:00+00:00\", \"Top 20 %\": 36.68748110256638, \"Bottom 20 %\": 28.54864433811802, \"Top 20 % Deviation\": 2.495706120396676, \"Bottom 20 % Deviation\": -5.643130644051684}, {\"date\": \"2020-07-14T00:00:00+00:00\", \"Top 20 %\": 36.55517492295272, \"Bottom 20 %\": 37.85087719298245, \"Top 20 % Deviation\": 2.363399940783019, \"Bottom 20 % Deviation\": 3.6591022108127476}, {\"date\": \"2020-07-07T00:00:00+00:00\", \"Top 20 %\": 39.90374317358157, \"Bottom 20 %\": 34.81449525452976, \"Top 20 % Deviation\": 5.711968191411863, \"Bottom 20 % Deviation\": 0.6227202723600556}, {\"date\": \"2020-07-08T00:00:00+00:00\", \"Top 20 %\": 37.52479837262536, \"Bottom 20 %\": 27.89115646258503, \"Top 20 % Deviation\": 3.333023390455658, \"Bottom 20 % Deviation\": -6.300618519584674}, {\"date\": \"2020-07-16T00:00:00+00:00\", \"Top 20 %\": 36.79913293266479, \"Bottom 20 %\": 19.504310344827587, \"Top 20 % Deviation\": 2.6073579504950857, \"Bottom 20 % Deviation\": -14.687464637342117}, {\"date\": \"2020-07-13T00:00:00+00:00\", \"Top 20 %\": 37.33571289777807, \"Bottom 20 %\": 42.0, \"Top 20 % Deviation\": 3.143937915608369, \"Bottom 20 % Deviation\": 7.808225017830296}, {\"date\": \"2020-07-11T00:00:00+00:00\", \"Top 20 %\": 37.8738906438569, \"Bottom 20 %\": 32.04449152542373, \"Top 20 % Deviation\": 3.682115661687199, \"Bottom 20 % Deviation\": -2.147283456745974}, {\"date\": \"2020-07-04T00:00:00+00:00\", \"Top 20 %\": 37.03720863204367, \"Bottom 20 %\": 36.810661764705884, \"Top 20 % Deviation\": 2.845433649873968, \"Bottom 20 % Deviation\": 2.6188867825361797}, {\"date\": \"2020-07-10T00:00:00+00:00\", \"Top 20 %\": 41.79079833317589, \"Bottom 20 %\": 34.18181818181819, \"Top 20 % Deviation\": 7.599023351006188, \"Bottom 20 % Deviation\": -0.009956800351517359}, {\"date\": \"2020-07-09T00:00:00+00:00\", \"Top 20 %\": 36.47705687428106, \"Bottom 20 %\": 27.142857142857142, \"Top 20 % Deviation\": 2.2852818921113567, \"Bottom 20 % Deviation\": -7.048917839312562}, {\"date\": \"2020-07-06T00:00:00+00:00\", \"Top 20 %\": 40.1135638767945, \"Bottom 20 %\": 35.07532956685499, \"Top 20 % Deviation\": 5.921788894624797, \"Bottom 20 % Deviation\": 0.8835545846852852}, {\"date\": \"2020-07-02T00:00:00+00:00\", \"Top 20 %\": 36.47013760668308, \"Bottom 20 %\": 40.91569767441861, \"Top 20 % Deviation\": 2.2783626245133775, \"Bottom 20 % Deviation\": 6.723922692248905}, {\"date\": \"2020-07-15T00:00:00+00:00\", \"Top 20 %\": 35.64537121461297, \"Bottom 20 %\": 21.867007672634273, \"Top 20 % Deviation\": 1.4535962324432674, \"Bottom 20 % Deviation\": -12.324767309535432}, {\"date\": \"2020-07-05T00:00:00+00:00\", \"Top 20 %\": 39.892681620060614, \"Bottom 20 %\": 23.333333333333336, \"Top 20 % Deviation\": 5.70090663789091, \"Bottom 20 % Deviation\": -10.858441648836369}], \"data-7f3a6b86ed460c4e648f2393735a11f6\": [{\"Mean 2019\": 0}], \"data-d764767e7dd3b10b2c76c1355ce10ef3\": [{\"y\": 1}]}}, {\"mode\": \"vega-lite\"});\n",
              "</script>"
            ]
          },
          "metadata": {
            "tags": []
          },
          "execution_count": 32
        },
        {
          "output_type": "stream",
          "text": [
            "time: 90.4 ms (started: 2021-05-03 19:58:37 +00:00)\n"
          ],
          "name": "stdout"
        }
      ]
    },
    {
      "cell_type": "markdown",
      "metadata": {
        "id": "I1uLmyxVi6Zo"
      },
      "source": [
        "**October 28, 2020:** New York tops a half-million confirmed COVID-19 cases\n"
      ]
    },
    {
      "cell_type": "code",
      "metadata": {
        "colab": {
          "base_uri": "https://localhost:8080/",
          "height": 385
        },
        "id": "YZ29_JeZfRqz",
        "outputId": "7c4378e3-57f5-427c-e8b6-60f5a5b61932"
      },
      "source": [
        "start_date = '2020-10-20'\n",
        "end_date = '2020-11-8'\n",
        "df4 = apply_date_filter(df,start_date,end_date)\n",
        "chart = create_chart(df4,'October-November')\n",
        "chart"
      ],
      "execution_count": 31,
      "outputs": [
        {
          "output_type": "execute_result",
          "data": {
            "text/plain": [
              "alt.LayerChart(...)"
            ],
            "text/html": [
              "\n",
              "<div id=\"altair-viz-26aa66b272544657a3d3359d5e3dec02\"></div>\n",
              "<script type=\"text/javascript\">\n",
              "  (function(spec, embedOpt){\n",
              "    let outputDiv = document.currentScript.previousElementSibling;\n",
              "    if (outputDiv.id !== \"altair-viz-26aa66b272544657a3d3359d5e3dec02\") {\n",
              "      outputDiv = document.getElementById(\"altair-viz-26aa66b272544657a3d3359d5e3dec02\");\n",
              "    }\n",
              "    const paths = {\n",
              "      \"vega\": \"https://cdn.jsdelivr.net/npm//vega@5?noext\",\n",
              "      \"vega-lib\": \"https://cdn.jsdelivr.net/npm//vega-lib?noext\",\n",
              "      \"vega-lite\": \"https://cdn.jsdelivr.net/npm//vega-lite@4.8.1?noext\",\n",
              "      \"vega-embed\": \"https://cdn.jsdelivr.net/npm//vega-embed@6?noext\",\n",
              "    };\n",
              "\n",
              "    function loadScript(lib) {\n",
              "      return new Promise(function(resolve, reject) {\n",
              "        var s = document.createElement('script');\n",
              "        s.src = paths[lib];\n",
              "        s.async = true;\n",
              "        s.onload = () => resolve(paths[lib]);\n",
              "        s.onerror = () => reject(`Error loading script: ${paths[lib]}`);\n",
              "        document.getElementsByTagName(\"head\")[0].appendChild(s);\n",
              "      });\n",
              "    }\n",
              "\n",
              "    function showError(err) {\n",
              "      outputDiv.innerHTML = `<div class=\"error\" style=\"color:red;\">${err}</div>`;\n",
              "      throw err;\n",
              "    }\n",
              "\n",
              "    function displayChart(vegaEmbed) {\n",
              "      vegaEmbed(outputDiv, spec, embedOpt)\n",
              "        .catch(err => showError(`Javascript Error: ${err.message}<br>This usually means there's a typo in your chart specification. See the javascript console for the full traceback.`));\n",
              "    }\n",
              "\n",
              "    if(typeof define === \"function\" && define.amd) {\n",
              "      requirejs.config({paths});\n",
              "      require([\"vega-embed\"], displayChart, err => showError(`Error loading script: ${err.message}`));\n",
              "    } else if (typeof vegaEmbed === \"function\") {\n",
              "      displayChart(vegaEmbed);\n",
              "    } else {\n",
              "      loadScript(\"vega\")\n",
              "        .then(() => loadScript(\"vega-lite\"))\n",
              "        .then(() => loadScript(\"vega-embed\"))\n",
              "        .catch(showError)\n",
              "        .then(() => displayChart(vegaEmbed));\n",
              "    }\n",
              "  })({\"config\": {\"view\": {\"continuousHeight\": 300, \"continuousWidth\": 400}, \"range\": {\"category\": {\"scheme\": [\"#FF4500\", \"#a0aab4\", \"#4E79A7\"]}}}, \"layer\": [{\"data\": {\"name\": \"data-eb16e6b8f6cc189201fa9a82ea5a2ed4\"}, \"mark\": \"line\", \"encoding\": {\"color\": {\"type\": \"nominal\", \"field\": \"Poverty %\"}, \"x\": {\"type\": \"temporal\", \"field\": \"date\", \"title\": \"October-November\"}, \"y\": {\"type\": \"quantitative\", \"field\": \"completely_home_value\", \"title\": \"Completely Home %\"}}, \"selection\": {\"selector004\": {\"type\": \"interval\", \"bind\": \"scales\", \"encodings\": [\"x\", \"y\"]}}, \"transform\": [{\"fold\": [\"Bottom 20 % Deviation\", \"Top 20 % Deviation\"], \"as\": [\"Poverty %\", \"completely_home_value\"]}], \"width\": 1000}, {\"data\": {\"name\": \"data-7f3a6b86ed460c4e648f2393735a11f6\"}, \"mark\": {\"type\": \"rule\", \"color\": \"#757575\", \"size\": 2, \"strokeDash\": [5, 3]}, \"encoding\": {\"size\": {\"value\": 2}, \"y\": {\"type\": \"quantitative\", \"field\": \"Mean 2019\"}}}, {\"data\": {\"name\": \"data-d764767e7dd3b10b2c76c1355ce10ef3\"}, \"mark\": {\"type\": \"text\", \"angle\": 0, \"text\": \"Mean 2019\"}, \"encoding\": {\"opacity\": {\"value\": 0.4}, \"y\": {\"type\": \"quantitative\", \"field\": \"y\"}}}], \"$schema\": \"https://vega.github.io/schema/vega-lite/v4.8.1.json\", \"datasets\": {\"data-eb16e6b8f6cc189201fa9a82ea5a2ed4\": [{\"date\": \"2020-10-24T00:00:00+00:00\", \"Top 20 %\": 31.838103219414535, \"Bottom 20 %\": 28.876678876678877, \"Top 20 % Deviation\": -2.3536717627551695, \"Bottom 20 % Deviation\": -5.315096105490827}, {\"date\": \"2020-10-21T00:00:00+00:00\", \"Top 20 %\": 33.35560406185511, \"Bottom 20 %\": 26.575456053067995, \"Top 20 % Deviation\": -0.8361709203145935, \"Bottom 20 % Deviation\": -7.616318929101709}, {\"date\": \"2020-10-29T00:00:00+00:00\", \"Top 20 %\": 38.61503369434184, \"Bottom 20 %\": 30.628517823639775, \"Top 20 % Deviation\": 4.423258712172135, \"Bottom 20 % Deviation\": -3.563257158529929}, {\"date\": \"2020-11-08T00:00:00+00:00\", \"Top 20 %\": 34.90136271594272, \"Bottom 20 %\": 30.344827586206897, \"Top 20 % Deviation\": 0.709587733773013, \"Bottom 20 % Deviation\": -3.8469473959628075}, {\"date\": \"2020-11-02T00:00:00+00:00\", \"Top 20 %\": 35.95561586837019, \"Bottom 20 %\": 37.912912912912915, \"Top 20 % Deviation\": 1.7638408862004837, \"Bottom 20 % Deviation\": 3.721137930743211}, {\"date\": \"2020-11-05T00:00:00+00:00\", \"Top 20 %\": 33.35350994049429, \"Bottom 20 %\": 36.45833333333333, \"Top 20 % Deviation\": -0.8382650416754132, \"Bottom 20 % Deviation\": 2.2665583511636243}, {\"date\": \"2020-11-03T00:00:00+00:00\", \"Top 20 %\": 35.49030505197925, \"Bottom 20 %\": 24.007936507936506, \"Top 20 % Deviation\": 1.2985300698095443, \"Bottom 20 % Deviation\": -10.183838474233198}, {\"date\": \"2020-10-26T00:00:00+00:00\", \"Top 20 %\": 38.70717220197138, \"Bottom 20 %\": 23.214285714285715, \"Top 20 % Deviation\": 4.515397219801677, \"Bottom 20 % Deviation\": -10.977489267883989}, {\"date\": \"2020-10-27T00:00:00+00:00\", \"Top 20 %\": 34.66043481035906, \"Bottom 20 %\": 14.0625, \"Top 20 % Deviation\": 0.46865982818935237, \"Bottom 20 % Deviation\": -20.129274982169704}, {\"date\": \"2020-10-28T00:00:00+00:00\", \"Top 20 %\": 35.534892971473546, \"Bottom 20 %\": 30.95238095238095, \"Top 20 % Deviation\": 1.3431179893038419, \"Bottom 20 % Deviation\": -3.2393940297887553}, {\"date\": \"2020-11-06T00:00:00+00:00\", \"Top 20 %\": 30.455534226527863, \"Bottom 20 %\": 31.66666666666667, \"Top 20 % Deviation\": -3.736240755641841, \"Bottom 20 % Deviation\": -2.525108315503033}, {\"date\": \"2020-11-07T00:00:00+00:00\", \"Top 20 %\": 29.399172637596465, \"Bottom 20 %\": 41.495601173020525, \"Top 20 % Deviation\": -4.79260234457324, \"Bottom 20 % Deviation\": 7.30382619085082}, {\"date\": \"2020-10-30T00:00:00+00:00\", \"Top 20 %\": 34.933160223506896, \"Bottom 20 %\": 37.94178794178794, \"Top 20 % Deviation\": 0.7413852413371913, \"Bottom 20 % Deviation\": 3.750012959618239}, {\"date\": \"2020-11-04T00:00:00+00:00\", \"Top 20 %\": 34.29929007287126, \"Bottom 20 %\": 28.755020080321284, \"Top 20 % Deviation\": 0.10751509070155407, \"Bottom 20 % Deviation\": -5.4367549018484205}, {\"date\": \"2020-10-31T00:00:00+00:00\", \"Top 20 %\": 30.901200023383986, \"Bottom 20 %\": 31.25, \"Top 20 % Deviation\": -3.2905749587857187, \"Bottom 20 % Deviation\": -2.9417749821697043}, {\"date\": \"2020-10-22T00:00:00+00:00\", \"Top 20 %\": 34.03904575150283, \"Bottom 20 %\": 43.45238095238095, \"Top 20 % Deviation\": -0.15272923066687127, \"Bottom 20 % Deviation\": 9.260605970211245}, {\"date\": \"2020-11-01T00:00:00+00:00\", \"Top 20 %\": 38.164995616599704, \"Bottom 20 %\": 28.142076502732237, \"Top 20 % Deviation\": 3.9732206344299996, \"Bottom 20 % Deviation\": -6.049698479437467}, {\"date\": \"2020-10-23T00:00:00+00:00\", \"Top 20 %\": 32.73989712990664, \"Bottom 20 %\": 26.785714285714285, \"Top 20 % Deviation\": -1.4518778522630669, \"Bottom 20 % Deviation\": -7.40606069645542}, {\"date\": \"2020-10-25T00:00:00+00:00\", \"Top 20 %\": 36.06362186344673, \"Bottom 20 %\": 28.735632183908045, \"Top 20 % Deviation\": 1.8718468812770226, \"Bottom 20 % Deviation\": -5.456142798261659}], \"data-7f3a6b86ed460c4e648f2393735a11f6\": [{\"Mean 2019\": 0}], \"data-d764767e7dd3b10b2c76c1355ce10ef3\": [{\"y\": 1}]}}, {\"mode\": \"vega-lite\"});\n",
              "</script>"
            ]
          },
          "metadata": {
            "tags": []
          },
          "execution_count": 31
        },
        {
          "output_type": "stream",
          "text": [
            "time: 63.4 ms (started: 2021-05-03 19:51:33 +00:00)\n"
          ],
          "name": "stdout"
        }
      ]
    },
    {
      "cell_type": "code",
      "metadata": {
        "id": "WuiHxms2fRtH"
      },
      "source": [
        ""
      ],
      "execution_count": 31,
      "outputs": []
    }
  ]
}