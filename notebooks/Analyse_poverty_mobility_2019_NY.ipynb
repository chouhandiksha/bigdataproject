{
  "nbformat": 4,
  "nbformat_minor": 0,
  "metadata": {
    "colab": {
      "name": "Analyse_poverty_mobility_2019_NY",
      "provenance": [],
      "authorship_tag": "ABX9TyPDCm9pnFUfiiaOEVDUur9P",
      "include_colab_link": true
    },
    "kernelspec": {
      "name": "python3",
      "display_name": "Python 3"
    },
    "language_info": {
      "name": "python"
    }
  },
  "cells": [
    {
      "cell_type": "markdown",
      "metadata": {
        "id": "view-in-github",
        "colab_type": "text"
      },
      "source": [
        "<a href=\"https://colab.research.google.com/github/chouhandiksha/bigdataproject/blob/colab/notebooks/Analyse_poverty_mobility_2019_NY.ipynb\" target=\"_parent\"><img src=\"https://colab.research.google.com/assets/colab-badge.svg\" alt=\"Open In Colab\"/></a>"
      ]
    },
    {
      "cell_type": "markdown",
      "metadata": {
        "id": "230qZTS2qUCQ"
      },
      "source": [
        "**Spark SQL Documentation:** \n",
        "https://spark.apache.org/docs/2.2.0/sql-programming-guide.html"
      ]
    },
    {
      "cell_type": "code",
      "metadata": {
        "colab": {
          "base_uri": "https://localhost:8080/"
        },
        "id": "dm89U73MqhvG",
        "outputId": "32710a2a-5cdd-4d3a-fe32-7b31dcd05771"
      },
      "source": [
        "!pip install ipython-autotime\n",
        "\n",
        "%load_ext autotime"
      ],
      "execution_count": 19,
      "outputs": [
        {
          "output_type": "stream",
          "text": [
            "Requirement already satisfied: ipython-autotime in /usr/local/lib/python3.7/dist-packages (0.3.1)\n",
            "Requirement already satisfied: ipython in /usr/local/lib/python3.7/dist-packages (from ipython-autotime) (5.5.0)\n",
            "Requirement already satisfied: prompt-toolkit<2.0.0,>=1.0.4 in /usr/local/lib/python3.7/dist-packages (from ipython->ipython-autotime) (1.0.18)\n",
            "Requirement already satisfied: decorator in /usr/local/lib/python3.7/dist-packages (from ipython->ipython-autotime) (4.4.2)\n",
            "Requirement already satisfied: traitlets>=4.2 in /usr/local/lib/python3.7/dist-packages (from ipython->ipython-autotime) (5.0.5)\n",
            "Requirement already satisfied: simplegeneric>0.8 in /usr/local/lib/python3.7/dist-packages (from ipython->ipython-autotime) (0.8.1)\n",
            "Requirement already satisfied: pexpect; sys_platform != \"win32\" in /usr/local/lib/python3.7/dist-packages (from ipython->ipython-autotime) (4.8.0)\n",
            "Requirement already satisfied: setuptools>=18.5 in /usr/local/lib/python3.7/dist-packages (from ipython->ipython-autotime) (54.2.0)\n",
            "Requirement already satisfied: pygments in /usr/local/lib/python3.7/dist-packages (from ipython->ipython-autotime) (2.6.1)\n",
            "Requirement already satisfied: pickleshare in /usr/local/lib/python3.7/dist-packages (from ipython->ipython-autotime) (0.7.5)\n",
            "Requirement already satisfied: six>=1.9.0 in /usr/local/lib/python3.7/dist-packages (from prompt-toolkit<2.0.0,>=1.0.4->ipython->ipython-autotime) (1.15.0)\n",
            "Requirement already satisfied: wcwidth in /usr/local/lib/python3.7/dist-packages (from prompt-toolkit<2.0.0,>=1.0.4->ipython->ipython-autotime) (0.2.5)\n",
            "Requirement already satisfied: ipython-genutils in /usr/local/lib/python3.7/dist-packages (from traitlets>=4.2->ipython->ipython-autotime) (0.2.0)\n",
            "Requirement already satisfied: ptyprocess>=0.5 in /usr/local/lib/python3.7/dist-packages (from pexpect; sys_platform != \"win32\"->ipython->ipython-autotime) (0.7.0)\n",
            "The autotime extension is already loaded. To reload it, use:\n",
            "  %reload_ext autotime\n",
            "time: 2.73 s (started: 2021-04-06 20:16:53 +00:00)\n"
          ],
          "name": "stdout"
        }
      ]
    },
    {
      "cell_type": "code",
      "metadata": {
        "colab": {
          "base_uri": "https://localhost:8080/"
        },
        "id": "y9S1uKjLqiNJ",
        "outputId": "0e2b8db1-c4ae-49cc-b05f-119ca6d113fb"
      },
      "source": [
        "# Install required dependancies\n",
        "!pip install pyspark\n",
        "!pip install -U -q PyDrive\n",
        "!apt install openjdk-8-jdk-headless -qq\n",
        "import os\n",
        "os.environ[\"JAVA_HOME\"] = \"/usr/lib/jvm/java-8-openjdk-amd64\""
      ],
      "execution_count": 20,
      "outputs": [
        {
          "output_type": "stream",
          "text": [
            "Requirement already satisfied: pyspark in /usr/local/lib/python3.7/dist-packages (3.1.1)\n",
            "Requirement already satisfied: py4j==0.10.9 in /usr/local/lib/python3.7/dist-packages (from pyspark) (0.10.9)\n",
            "openjdk-8-jdk-headless is already the newest version (8u282-b08-0ubuntu1~18.04).\n",
            "0 upgraded, 0 newly installed, 0 to remove and 30 not upgraded.\n",
            "time: 7.28 s (started: 2021-04-06 20:17:01 +00:00)\n"
          ],
          "name": "stdout"
        }
      ]
    },
    {
      "cell_type": "code",
      "metadata": {
        "colab": {
          "base_uri": "https://localhost:8080/"
        },
        "id": "HvVg6WwQqiea",
        "outputId": "7429aa2d-08eb-4428-a9b0-389583816ca7"
      },
      "source": [
        "# Import modules\n",
        "import numpy as np\n",
        "import pandas as pd\n",
        "import matplotlib.pyplot as plt\n",
        "from pathlib import Path\n",
        "%matplotlib inline\n",
        "\n",
        "import pyspark\n",
        "from pyspark.sql import *\n",
        "from pyspark.sql.types import *\n",
        "from pyspark.sql.functions import *\n",
        "from pyspark import SparkContext, SparkConf"
      ],
      "execution_count": null,
      "outputs": [
        {
          "output_type": "stream",
          "text": [
            "time: 121 ms (started: 2021-04-06 19:38:40 +00:00)\n"
          ],
          "name": "stdout"
        }
      ]
    },
    {
      "cell_type": "code",
      "metadata": {
        "colab": {
          "base_uri": "https://localhost:8080/"
        },
        "id": "6v9PVIx_qxP2",
        "outputId": "d81e9968-8a8a-4647-c8bf-b92515105166"
      },
      "source": [
        "import altair as alt\n",
        "alt.data_transformers.disable_max_rows()"
      ],
      "execution_count": 21,
      "outputs": [
        {
          "output_type": "execute_result",
          "data": {
            "text/plain": [
              "DataTransformerRegistry.enable('default')"
            ]
          },
          "metadata": {
            "tags": []
          },
          "execution_count": 21
        },
        {
          "output_type": "stream",
          "text": [
            "time: 9.61 ms (started: 2021-04-06 20:17:29 +00:00)\n"
          ],
          "name": "stdout"
        }
      ]
    },
    {
      "cell_type": "code",
      "metadata": {
        "colab": {
          "base_uri": "https://localhost:8080/"
        },
        "id": "QfjdnT8Dq0-F",
        "outputId": "f6166228-5db7-433e-863a-71b7e4bcc2d5"
      },
      "source": [
        "# create the session\n",
        "conf = SparkConf().set(\"spark.ui.port\", \"4050\")\n",
        "\n",
        "# create the context\n",
        "sc = pyspark.SparkContext(conf=conf)\n",
        "spark = SparkSession.builder.getOrCreate()"
      ],
      "execution_count": 23,
      "outputs": [
        {
          "output_type": "stream",
          "text": [
            "time: 688 ms (started: 2021-04-06 20:17:51 +00:00)\n"
          ],
          "name": "stdout"
        }
      ]
    },
    {
      "cell_type": "code",
      "metadata": {
        "colab": {
          "base_uri": "https://localhost:8080/"
        },
        "id": "esJPRMWDq6sa",
        "outputId": "5e243aa2-cecf-4916-e051-b489075783f1"
      },
      "source": [
        "# Mount drive with data\n",
        "from google.colab import drive\n",
        "drive.mount('/content/drive')"
      ],
      "execution_count": 24,
      "outputs": [
        {
          "output_type": "stream",
          "text": [
            "Drive already mounted at /content/drive; to attempt to forcibly remount, call drive.mount(\"/content/drive\", force_remount=True).\n",
            "time: 2.76 ms (started: 2021-04-06 20:18:01 +00:00)\n"
          ],
          "name": "stdout"
        }
      ]
    },
    {
      "cell_type": "code",
      "metadata": {
        "colab": {
          "base_uri": "https://localhost:8080/"
        },
        "id": "zRiCl2LJq9wi",
        "outputId": "ae6393cf-a9b7-46d8-ad4d-cd5ed3251e8f"
      },
      "source": [
        "# Demographic Data NY\n",
        "# !ls drive/MyDrive/big-data-project/data/clean-data/ny/ny.csv\n",
        "\n",
        "# !ls drive/MyDrive/big-data-project/data/clean-data/ny/social/2019/\n"
      ],
      "execution_count": null,
      "outputs": [
        {
          "output_type": "stream",
          "text": [
            "time: 1.38 ms (started: 2021-04-06 19:39:38 +00:00)\n"
          ],
          "name": "stdout"
        }
      ]
    },
    {
      "cell_type": "code",
      "metadata": {
        "colab": {
          "base_uri": "https://localhost:8080/"
        },
        "id": "1DreiGNArICE",
        "outputId": "886b9ff3-44f2-45c5-85c3-069fce59e8e7"
      },
      "source": [
        "# Set path to data folder\n",
        "path = Path('drive/MyDrive/big-data-project/data/clean-data')\n",
        "city = 'ny'"
      ],
      "execution_count": 25,
      "outputs": [
        {
          "output_type": "stream",
          "text": [
            "time: 2.85 ms (started: 2021-04-06 20:18:10 +00:00)\n"
          ],
          "name": "stdout"
        }
      ]
    },
    {
      "cell_type": "code",
      "metadata": {
        "colab": {
          "base_uri": "https://localhost:8080/"
        },
        "id": "gjOrrv8erP9t",
        "outputId": "c6e2e4ed-6cbf-45fe-bca5-84b6223ae1f1"
      },
      "source": [
        "# Read data into RDD\n",
        "rdd_soc = spark.read.format('csv').option('header','true').option('quote',\"\\\"\").option('escape',\"\\\"\").load(str(path/city/'social/2019/*.csv'))\n",
        "rdd_soc.show()"
      ],
      "execution_count": 26,
      "outputs": [
        {
          "output_type": "stream",
          "text": [
            "+---+---+----------------+--------------+------------+---------------------------+--------------------------+------------------------------------------+----------------------------+----------------------+------------------------+--------------------+-------------------------------+-------------------------------+----------------+-------------------------+--------------------------+----------------------+----------------------------+---------------------------+-----------------------------+--------------------+------------------------+--------------------------------+\n",
            "|_c0|cbg|date_range_start|date_range_end|device_count|distance_traveled_from_home|bucketed_distance_traveled|median_dwell_at_bucketed_distance_traveled|completely_home_device_count|median_home_dwell_time|bucketed_home_dwell_time|at_home_by_each_hour|part_time_work_behavior_devices|full_time_work_behavior_devices|destination_cbgs|delivery_behavior_devices|median_non_home_dwell_time|candidate_device_count|bucketed_away_from_home_time|median_percentage_time_home|bucketed_percentage_time_home|mean_home_dwell_time|mean_non_home_dwell_time|mean_distance_traveled_from_home|\n",
            "+---+---+----------------+--------------+------------+---------------------------+--------------------------+------------------------------------------+----------------------------+----------------------+------------------------+--------------------+-------------------------------+-------------------------------+----------------+-------------------------+--------------------------+----------------------+----------------------------+---------------------------+-----------------------------+--------------------+------------------------+--------------------------------+\n",
            "+---+---+----------------+--------------+------------+---------------------------+--------------------------+------------------------------------------+----------------------------+----------------------+------------------------+--------------------+-------------------------------+-------------------------------+----------------+-------------------------+--------------------------+----------------------+----------------------------+---------------------------+-----------------------------+--------------------+------------------------+--------------------------------+\n",
            "\n",
            "time: 9.71 s (started: 2021-04-06 20:18:17 +00:00)\n"
          ],
          "name": "stdout"
        }
      ]
    },
    {
      "cell_type": "code",
      "metadata": {
        "colab": {
          "base_uri": "https://localhost:8080/"
        },
        "id": "_cGtTfE5sxYJ",
        "outputId": "84a02139-9297-437d-c54d-5f2bcb2e2a8e"
      },
      "source": [
        "# View schema\n",
        "rdd_soc.printSchema()"
      ],
      "execution_count": 27,
      "outputs": [
        {
          "output_type": "stream",
          "text": [
            "root\n",
            " |-- _c0: string (nullable = true)\n",
            " |-- cbg: string (nullable = true)\n",
            " |-- date_range_start: string (nullable = true)\n",
            " |-- date_range_end: string (nullable = true)\n",
            " |-- device_count: string (nullable = true)\n",
            " |-- distance_traveled_from_home: string (nullable = true)\n",
            " |-- bucketed_distance_traveled: string (nullable = true)\n",
            " |-- median_dwell_at_bucketed_distance_traveled: string (nullable = true)\n",
            " |-- completely_home_device_count: string (nullable = true)\n",
            " |-- median_home_dwell_time: string (nullable = true)\n",
            " |-- bucketed_home_dwell_time: string (nullable = true)\n",
            " |-- at_home_by_each_hour: string (nullable = true)\n",
            " |-- part_time_work_behavior_devices: string (nullable = true)\n",
            " |-- full_time_work_behavior_devices: string (nullable = true)\n",
            " |-- destination_cbgs: string (nullable = true)\n",
            " |-- delivery_behavior_devices: string (nullable = true)\n",
            " |-- median_non_home_dwell_time: string (nullable = true)\n",
            " |-- candidate_device_count: string (nullable = true)\n",
            " |-- bucketed_away_from_home_time: string (nullable = true)\n",
            " |-- median_percentage_time_home: string (nullable = true)\n",
            " |-- bucketed_percentage_time_home: string (nullable = true)\n",
            " |-- mean_home_dwell_time: string (nullable = true)\n",
            " |-- mean_non_home_dwell_time: string (nullable = true)\n",
            " |-- mean_distance_traveled_from_home: string (nullable = true)\n",
            "\n",
            "time: 9.33 ms (started: 2021-04-06 20:21:34 +00:00)\n"
          ],
          "name": "stdout"
        }
      ]
    },
    {
      "cell_type": "code",
      "metadata": {
        "colab": {
          "base_uri": "https://localhost:8080/"
        },
        "id": "4Fg4q9h4s8Nj",
        "outputId": "289392da-39ba-4a39-88eb-cfe078c247ab"
      },
      "source": [
        "# # Take small sample of data to experiment with\n",
        "# rdd_soc = rdd_soc.limit(100)\n",
        "# rdd_soc.show()"
      ],
      "execution_count": null,
      "outputs": [
        {
          "output_type": "stream",
          "text": [
            "time: 1.33 ms (started: 2021-04-06 19:41:23 +00:00)\n"
          ],
          "name": "stdout"
        }
      ]
    },
    {
      "cell_type": "code",
      "metadata": {
        "colab": {
          "base_uri": "https://localhost:8080/"
        },
        "id": "zRtc3y5JtCkK",
        "outputId": "094dfcdd-30b4-4ef6-deb7-80abbcac0834"
      },
      "source": [
        "rdd_soc.createOrReplaceTempView('clean_ny')\n",
        "rdd_soc = spark.sql('SELECT cbg, date_range_start, device_count, completely_home_device_count, part_time_work_behavior_devices, full_time_work_behavior_devices FROM clean_ny')\n",
        "rdd_soc.show()"
      ],
      "execution_count": 28,
      "outputs": [
        {
          "output_type": "stream",
          "text": [
            "+---+----------------+------------+----------------------------+-------------------------------+-------------------------------+\n",
            "|cbg|date_range_start|device_count|completely_home_device_count|part_time_work_behavior_devices|full_time_work_behavior_devices|\n",
            "+---+----------------+------------+----------------------------+-------------------------------+-------------------------------+\n",
            "+---+----------------+------------+----------------------------+-------------------------------+-------------------------------+\n",
            "\n",
            "time: 2.89 s (started: 2021-04-06 20:21:41 +00:00)\n"
          ],
          "name": "stdout"
        }
      ]
    },
    {
      "cell_type": "code",
      "metadata": {
        "colab": {
          "base_uri": "https://localhost:8080/"
        },
        "id": "Ki-FocbgtL9b",
        "outputId": "326e53c9-da57-47cd-85bf-51cd5f065871"
      },
      "source": [
        "# View schema\n",
        "rdd_soc.printSchema()"
      ],
      "execution_count": 29,
      "outputs": [
        {
          "output_type": "stream",
          "text": [
            "root\n",
            " |-- cbg: string (nullable = true)\n",
            " |-- date_range_start: string (nullable = true)\n",
            " |-- device_count: string (nullable = true)\n",
            " |-- completely_home_device_count: string (nullable = true)\n",
            " |-- part_time_work_behavior_devices: string (nullable = true)\n",
            " |-- full_time_work_behavior_devices: string (nullable = true)\n",
            "\n",
            "time: 1.76 ms (started: 2021-04-06 20:21:50 +00:00)\n"
          ],
          "name": "stdout"
        }
      ]
    },
    {
      "cell_type": "code",
      "metadata": {
        "colab": {
          "base_uri": "https://localhost:8080/"
        },
        "id": "pwVzm52otqcK",
        "outputId": "3fea8674-3e56-47f7-ef94-ac7a292a4172"
      },
      "source": [
        "# Add completely home percentage column\n",
        "rdd_soc = rdd_soc.withColumn('completely_home_percentage', (rdd_soc['completely_home_device_count']/rdd_soc['device_count']) * 100)\n",
        "rdd_soc = rdd_soc.withColumn('part_time_work_percentage', (rdd_soc['part_time_work_behavior_devices']/rdd_soc['device_count']) * 100)\n",
        "rdd_soc = rdd_soc.withColumn('full_time_work_percentage', (rdd_soc['full_time_work_behavior_devices']/rdd_soc['device_count']) * 100)\n",
        "\n",
        "rdd_soc.show()"
      ],
      "execution_count": 30,
      "outputs": [
        {
          "output_type": "stream",
          "text": [
            "+---+----------------+------------+----------------------------+-------------------------------+-------------------------------+--------------------------+-------------------------+-------------------------+\n",
            "|cbg|date_range_start|device_count|completely_home_device_count|part_time_work_behavior_devices|full_time_work_behavior_devices|completely_home_percentage|part_time_work_percentage|full_time_work_percentage|\n",
            "+---+----------------+------------+----------------------------+-------------------------------+-------------------------------+--------------------------+-------------------------+-------------------------+\n",
            "+---+----------------+------------+----------------------------+-------------------------------+-------------------------------+--------------------------+-------------------------+-------------------------+\n",
            "\n",
            "time: 3.03 s (started: 2021-04-06 20:21:55 +00:00)\n"
          ],
          "name": "stdout"
        }
      ]
    },
    {
      "cell_type": "code",
      "metadata": {
        "colab": {
          "base_uri": "https://localhost:8080/"
        },
        "id": "LnGD-6rbtwTf",
        "outputId": "ba233d5c-5fb6-40a1-eaa9-32ff3d55dbbe"
      },
      "source": [
        "rdd_soc.printSchema()"
      ],
      "execution_count": 31,
      "outputs": [
        {
          "output_type": "stream",
          "text": [
            "root\n",
            " |-- cbg: string (nullable = true)\n",
            " |-- date_range_start: string (nullable = true)\n",
            " |-- device_count: string (nullable = true)\n",
            " |-- completely_home_device_count: string (nullable = true)\n",
            " |-- part_time_work_behavior_devices: string (nullable = true)\n",
            " |-- full_time_work_behavior_devices: string (nullable = true)\n",
            " |-- completely_home_percentage: double (nullable = true)\n",
            " |-- part_time_work_percentage: double (nullable = true)\n",
            " |-- full_time_work_percentage: double (nullable = true)\n",
            "\n",
            "time: 9.59 ms (started: 2021-04-06 20:22:00 +00:00)\n"
          ],
          "name": "stdout"
        }
      ]
    },
    {
      "cell_type": "code",
      "metadata": {
        "colab": {
          "base_uri": "https://localhost:8080/"
        },
        "id": "DqpYx0QZuKXl",
        "outputId": "b6265c65-f826-4d71-80ad-8bfa3bc2e37c"
      },
      "source": [
        "# create temp view\n",
        "rdd_soc.createOrReplaceTempView('new_clean_ny')"
      ],
      "execution_count": 32,
      "outputs": [
        {
          "output_type": "stream",
          "text": [
            "time: 21.6 ms (started: 2021-04-06 20:22:03 +00:00)\n"
          ],
          "name": "stdout"
        }
      ]
    },
    {
      "cell_type": "code",
      "metadata": {
        "colab": {
          "base_uri": "https://localhost:8080/"
        },
        "id": "bwp9-5ENuOqT",
        "outputId": "2a8be722-31e0-4938-c14a-651aa574169e"
      },
      "source": [
        "# get mean percentage for each cbg\n",
        "rdd_soc_ny = spark.sql('SELECT cbg, AVG(completely_home_percentage) AS mean_completely_home_percentage FROM new_clean_ny GROUP BY cbg')\n",
        "rdd_soc_ny.createOrReplaceTempView('mean_completely_home')\n",
        "rdd_soc_ny.show()"
      ],
      "execution_count": 33,
      "outputs": [
        {
          "output_type": "stream",
          "text": [
            "+---+-------------------------------+\n",
            "|cbg|mean_completely_home_percentage|\n",
            "+---+-------------------------------+\n",
            "+---+-------------------------------+\n",
            "\n",
            "time: 3.77 s (started: 2021-04-06 20:22:07 +00:00)\n"
          ],
          "name": "stdout"
        }
      ]
    },
    {
      "cell_type": "code",
      "metadata": {
        "colab": {
          "base_uri": "https://localhost:8080/"
        },
        "id": "up0iCkCaudaU",
        "outputId": "c7af66c9-e58c-415f-eaaa-fa1d96cea633"
      },
      "source": [
        "# get mean percentage for full time work for each cbg\n",
        "rdd_soc_ft = spark.sql('SELECT cbg, AVG(full_time_work_percentage) AS mean_full_time_work_percentage FROM new_clean_ny GROUP BY cbg')\n",
        "rdd_soc_ft.createOrReplaceTempView('mean_fulltime_work')\n",
        "rdd_soc_ft.show()"
      ],
      "execution_count": null,
      "outputs": [
        {
          "output_type": "stream",
          "text": [
            "+---+------------------------------+\n",
            "|cbg|mean_full_time_work_percentage|\n",
            "+---+------------------------------+\n",
            "+---+------------------------------+\n",
            "\n",
            "time: 4.75 s (started: 2021-04-06 19:48:19 +00:00)\n"
          ],
          "name": "stdout"
        }
      ]
    },
    {
      "cell_type": "code",
      "metadata": {
        "id": "fkdtq9ieuoI9",
        "colab": {
          "base_uri": "https://localhost:8080/"
        },
        "outputId": "e57595ff-aff9-4169-87d9-aaab62412925"
      },
      "source": [
        "# get mean percentage for full time work for each cbg\n",
        "rdd_soc_pt = spark.sql('SELECT cbg, AVG(part_time_work_percentage) AS mean_part_time_work_percentage FROM new_clean_ny GROUP BY cbg')\n",
        "rdd_soc_pt.createOrReplaceTempView('mean_parttime_work')\n",
        "rdd_soc_pt.show()"
      ],
      "execution_count": 34,
      "outputs": [
        {
          "output_type": "stream",
          "text": [
            "+---+------------------------------+\n",
            "|cbg|mean_part_time_work_percentage|\n",
            "+---+------------------------------+\n",
            "+---+------------------------------+\n",
            "\n",
            "time: 3.63 s (started: 2021-04-06 20:26:05 +00:00)\n"
          ],
          "name": "stdout"
        }
      ]
    },
    {
      "cell_type": "code",
      "metadata": {
        "id": "i-l4Sr9D5PLu"
      },
      "source": [
        "rdd_mobility = spark.sql('SELECT mean_completely_home.cbg, mean_completely_home.mean_completely_home_percentage, mean_fulltime_work.mean_full_time_work_percentage , mean_parttime_work.mean_part_time_work_percentage  FROM mean_completely_home INNER JOIN mean_fulltime_work ON mean_completely_home.cbg = mean_fulltime_work.cbg INNER JOIN mean_parttime_work ON mean_completely_home.cbg = mean_parttime_work.cbg')"
      ],
      "execution_count": null,
      "outputs": []
    },
    {
      "cell_type": "code",
      "metadata": {
        "id": "HmVz5g5K3hDz"
      },
      "source": [
        "#rdd_mobility.show()\n",
        "rdd_mobility.createOrReplaceTempView('mobility')"
      ],
      "execution_count": null,
      "outputs": []
    },
    {
      "cell_type": "code",
      "metadata": {
        "id": "yW_6IDrG3uYS"
      },
      "source": [
        "# Read poverty data\n",
        "# Read data into RDD\n",
        "rdd_demographic = spark.read.format('csv').option('header','true').option('quote',\"\\\"\").option('escape',\"\\\"\").load(str(path/city/'ny.csv'))\n",
        "rdd_demographic.createOrReplaceTempView('demographic')\n",
        "rdd_demographic.show()"
      ],
      "execution_count": null,
      "outputs": []
    },
    {
      "cell_type": "code",
      "metadata": {
        "id": "XfOLuH7731_1"
      },
      "source": [
        "# join mobility and poverty\n",
        "result = spark.sql('SELECT demographic.*, mobility.mean_completely_home_percentage, mobility.mean_full_time_work_percentage, mobility.mean_part_time_work_percentage FROM mobility INNER JOIN demographic ON mobility.cbg = demographic.cbg')\n",
        "result.createOrReplaceTempView('demographic_mobility')\n",
        "result.show()"
      ],
      "execution_count": null,
      "outputs": []
    },
    {
      "cell_type": "code",
      "metadata": {
        "id": "IxCc6QaU37de"
      },
      "source": [
        "# Count number of rows\n",
        "spark.sql('SELECT COUNT(cbg) FROM demographic_mobility').show()"
      ],
      "execution_count": null,
      "outputs": []
    },
    {
      "cell_type": "code",
      "metadata": {
        "id": "3XF0NUFt4AdB"
      },
      "source": [
        "# sort by poverty\n",
        "result = spark.sql('SELECT * FROM demographic_mobility ORDER BY CAST(poverty_percentage AS float) DESC')\n",
        "result.createOrReplaceTempView('demographic_mobility')\n",
        "result.show()"
      ],
      "execution_count": null,
      "outputs": []
    },
    {
      "cell_type": "code",
      "metadata": {
        "id": "cVJUiHVB4Ked"
      },
      "source": [
        "result_df = result.toPandas()\n",
        "result_df"
      ],
      "execution_count": null,
      "outputs": []
    },
    {
      "cell_type": "code",
      "metadata": {
        "id": "RsifSHE84Okb"
      },
      "source": [
        "# plot bar graph\n",
        "alt.Chart(result_df).mark_point().encode(\n",
        "    alt.X('poverty_percentage:Q'),\n",
        "    alt.Y('mean_completely_home_percentage:Q'),\n",
        "    tooltip=['cbg','poverty_percentage','mean_completely_home_percentage']\n",
        ").properties(width=400, height=400).interactive()"
      ],
      "execution_count": null,
      "outputs": []
    },
    {
      "cell_type": "code",
      "metadata": {
        "id": "y-dh7lQ84YPW"
      },
      "source": [
        "result_mean_df = result_df.groupby(pd.cut(result_df['poverty_percentage'].astype(float), np.arange(0,110, 10))).mean().reset_index()"
      ],
      "execution_count": null,
      "outputs": []
    },
    {
      "cell_type": "code",
      "metadata": {
        "id": "LsgGhn-T4bHH"
      },
      "source": [
        "result_mean_df['poverty_percentage'] = result_mean_df['poverty_percentage'].astype(str)"
      ],
      "execution_count": null,
      "outputs": []
    },
    {
      "cell_type": "code",
      "metadata": {
        "id": "qbO_6sQE4beB"
      },
      "source": [
        "result_mean_df['color'] = ['#45a0d1' if x>30 else '#ff4833' for x in result_mean_df['mean_completely_home_percentage']]\n",
        "result_mean_df"
      ],
      "execution_count": null,
      "outputs": []
    },
    {
      "cell_type": "code",
      "metadata": {
        "id": "hBcMDgMe4cBY"
      },
      "source": [
        "count = result_mean_df.shape[0]\n",
        "print(\"{}\".format(count))"
      ],
      "execution_count": null,
      "outputs": []
    },
    {
      "cell_type": "code",
      "metadata": {
        "id": "NbC7p7FH4ceV"
      },
      "source": [
        "viz_df = []\n",
        "for col in ['mean_completely_home_percentage','mean_full_time_work_percentage','mean_part_time_work_percentage']:\n",
        "        for c in range(0,count):\n",
        "            viz_df.append({'poverty': c, 'column': col, 'value': result_mean_df[col][c]})\n",
        "viz_df = alt.Data(values=viz_df)"
      ],
      "execution_count": null,
      "outputs": []
    },
    {
      "cell_type": "code",
      "metadata": {
        "id": "AObnsEZd4c2P"
      },
      "source": [
        "#Visualizing data by mobility type\n",
        "\n",
        "title = '{} {}'.format(city,'2020')\n",
        "alt.Chart(viz_df, title=title).mark_line().encode(\n",
        "    x=alt.X('poverty:O', title='poverty_percentage'),\n",
        "    y=alt.Y('value:Q', type='quantitative', title='Percentage'),\n",
        "    color='column:N'\n",
        ").properties(\n",
        "    width=300,\n",
        "    height=250\n",
        ").interactive()"
      ],
      "execution_count": null,
      "outputs": []
    },
    {
      "cell_type": "code",
      "metadata": {
        "id": "MkloH7mt4ohO"
      },
      "source": [
        "#\n",
        "alt.Chart(result_mean_df).mark_point().encode(\n",
        "    alt.X('poverty_percentage:N'),\n",
        "    alt.Y('mean_completely_home_percentage'),\n",
        "    color = alt.Color('color',scale=None),\n",
        "    tooltip=[alt.Tooltip('poverty_percentage'),\n",
        "             alt.Tooltip('mean_completely_home_percentage')]\n",
        ").properties(width=400, height=400).interactive()"
      ],
      "execution_count": null,
      "outputs": []
    },
    {
      "cell_type": "code",
      "metadata": {
        "id": "sBOee5Gw4q1Y"
      },
      "source": [
        "result_df['poverty_percentage'].astype(float).dtype"
      ],
      "execution_count": null,
      "outputs": []
    }
  ]
}