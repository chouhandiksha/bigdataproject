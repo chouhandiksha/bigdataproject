{
  "nbformat": 4,
  "nbformat_minor": 0,
  "metadata": {
    "colab": {
      "name": "Analyse NY Compare Part Time Work Percentage For Wealthiest And Poorest.ipynb",
      "provenance": [],
      "collapsed_sections": [],
      "include_colab_link": true
    },
    "kernelspec": {
      "name": "python3",
      "display_name": "Python 3"
    },
    "language_info": {
      "name": "python"
    }
  },
  "cells": [
    {
      "cell_type": "markdown",
      "metadata": {
        "id": "view-in-github",
        "colab_type": "text"
      },
      "source": [
        "<a href=\"https://colab.research.google.com/github/chouhandiksha/bigdataproject/blob/main/notebooks/Analyse%20NY%20Compare%20Part%20Time%20Work%20Percentage%20For%20Wealthiest%20And%20Poorest.ipynb\" target=\"_parent\"><img src=\"https://colab.research.google.com/assets/colab-badge.svg\" alt=\"Open In Colab\"/></a>"
      ]
    },
    {
      "cell_type": "markdown",
      "metadata": {
        "id": "Rymp_tpSHGY3"
      },
      "source": [
        "# Analyse NY Compare Part Time Work Percentage For Wealthiest And Poorest\n",
        "\n",
        "*Instructions:*\n",
        "\n",
        "1. Execute the first code cell.\n",
        "2. There will be a link to follow in order to authorize the google account for drive. Go to that link.\n",
        "3. A code to authorize the google account will be generated. Copy the code generated.\n",
        "4. Go back to the cell where the process of mounting the drive is running. Paste the generated code from step 3 to the text box in the cell and press enter."
      ]
    },
    {
      "cell_type": "markdown",
      "metadata": {
        "id": "6Vnc5foT5YFx"
      },
      "source": [
        "**Spark SQL Documentation:** \n",
        "https://spark.apache.org/docs/2.2.0/sql-programming-guide.html"
      ]
    },
    {
      "cell_type": "code",
      "metadata": {
        "id": "XXJ-cpgT3moz",
        "colab": {
          "base_uri": "https://localhost:8080/"
        },
        "outputId": "a6da7c58-0efa-4fe8-f8e4-414817f236e9"
      },
      "source": [
        "# add time information at the end of every cell\n",
        "!pip install ipython-autotime\n",
        "%load_ext autotime"
      ],
      "execution_count": null,
      "outputs": [
        {
          "output_type": "stream",
          "text": [
            "Collecting ipython-autotime\n",
            "  Downloading https://files.pythonhosted.org/packages/b4/c9/b413a24f759641bc27ef98c144b590023c8038dfb8a3f09e713e9dff12c1/ipython_autotime-0.3.1-py2.py3-none-any.whl\n",
            "Requirement already satisfied: ipython in /usr/local/lib/python3.7/dist-packages (from ipython-autotime) (5.5.0)\n",
            "Requirement already satisfied: decorator in /usr/local/lib/python3.7/dist-packages (from ipython->ipython-autotime) (4.4.2)\n",
            "Requirement already satisfied: traitlets>=4.2 in /usr/local/lib/python3.7/dist-packages (from ipython->ipython-autotime) (5.0.5)\n",
            "Requirement already satisfied: pexpect; sys_platform != \"win32\" in /usr/local/lib/python3.7/dist-packages (from ipython->ipython-autotime) (4.8.0)\n",
            "Requirement already satisfied: pygments in /usr/local/lib/python3.7/dist-packages (from ipython->ipython-autotime) (2.6.1)\n",
            "Requirement already satisfied: pickleshare in /usr/local/lib/python3.7/dist-packages (from ipython->ipython-autotime) (0.7.5)\n",
            "Requirement already satisfied: prompt-toolkit<2.0.0,>=1.0.4 in /usr/local/lib/python3.7/dist-packages (from ipython->ipython-autotime) (1.0.18)\n",
            "Requirement already satisfied: simplegeneric>0.8 in /usr/local/lib/python3.7/dist-packages (from ipython->ipython-autotime) (0.8.1)\n",
            "Requirement already satisfied: setuptools>=18.5 in /usr/local/lib/python3.7/dist-packages (from ipython->ipython-autotime) (56.0.0)\n",
            "Requirement already satisfied: ipython-genutils in /usr/local/lib/python3.7/dist-packages (from traitlets>=4.2->ipython->ipython-autotime) (0.2.0)\n",
            "Requirement already satisfied: ptyprocess>=0.5 in /usr/local/lib/python3.7/dist-packages (from pexpect; sys_platform != \"win32\"->ipython->ipython-autotime) (0.7.0)\n",
            "Requirement already satisfied: wcwidth in /usr/local/lib/python3.7/dist-packages (from prompt-toolkit<2.0.0,>=1.0.4->ipython->ipython-autotime) (0.2.5)\n",
            "Requirement already satisfied: six>=1.9.0 in /usr/local/lib/python3.7/dist-packages (from prompt-toolkit<2.0.0,>=1.0.4->ipython->ipython-autotime) (1.15.0)\n",
            "Installing collected packages: ipython-autotime\n",
            "Successfully installed ipython-autotime-0.3.1\n",
            "time: 3.1 ms (started: 2021-04-22 19:26:31 +00:00)\n"
          ],
          "name": "stdout"
        }
      ]
    },
    {
      "cell_type": "code",
      "metadata": {
        "colab": {
          "base_uri": "https://localhost:8080/"
        },
        "id": "DggpqrsrscGi",
        "outputId": "aa89257b-6c92-49c9-8b8b-71a8a54a6376"
      },
      "source": [
        "# Install required dependancies\n",
        "!pip install pyspark\n",
        "!apt install openjdk-8-jdk-headless -qq\n",
        "import os\n",
        "os.environ[\"JAVA_HOME\"] = \"/usr/lib/jvm/java-8-openjdk-amd64\""
      ],
      "execution_count": null,
      "outputs": [
        {
          "output_type": "stream",
          "text": [
            "Collecting pyspark\n",
            "\u001b[?25l  Downloading https://files.pythonhosted.org/packages/45/b0/9d6860891ab14a39d4bddf80ba26ce51c2f9dc4805e5c6978ac0472c120a/pyspark-3.1.1.tar.gz (212.3MB)\n",
            "\u001b[K     |████████████████████████████████| 212.3MB 71kB/s \n",
            "\u001b[?25hCollecting py4j==0.10.9\n",
            "\u001b[?25l  Downloading https://files.pythonhosted.org/packages/9e/b6/6a4fb90cd235dc8e265a6a2067f2a2c99f0d91787f06aca4bcf7c23f3f80/py4j-0.10.9-py2.py3-none-any.whl (198kB)\n",
            "\u001b[K     |████████████████████████████████| 204kB 40.3MB/s \n",
            "\u001b[?25hBuilding wheels for collected packages: pyspark\n",
            "  Building wheel for pyspark (setup.py) ... \u001b[?25l\u001b[?25hdone\n",
            "  Created wheel for pyspark: filename=pyspark-3.1.1-py2.py3-none-any.whl size=212767604 sha256=c5331bf142dc76af2c04c1f78d00476dc9a43fc9f35376367c428e193f05ec9e\n",
            "  Stored in directory: /root/.cache/pip/wheels/0b/90/c0/01de724414ef122bd05f056541fb6a0ecf47c7ca655f8b3c0f\n",
            "Successfully built pyspark\n",
            "Installing collected packages: py4j, pyspark\n",
            "Successfully installed py4j-0.10.9 pyspark-3.1.1\n",
            "The following package was automatically installed and is no longer required:\n",
            "  libnvidia-common-460\n",
            "Use 'apt autoremove' to remove it.\n",
            "The following additional packages will be installed:\n",
            "  openjdk-8-jre-headless\n",
            "Suggested packages:\n",
            "  openjdk-8-demo openjdk-8-source libnss-mdns fonts-dejavu-extra\n",
            "  fonts-ipafont-gothic fonts-ipafont-mincho fonts-wqy-microhei\n",
            "  fonts-wqy-zenhei fonts-indic\n",
            "The following NEW packages will be installed:\n",
            "  openjdk-8-jdk-headless openjdk-8-jre-headless\n",
            "0 upgraded, 2 newly installed, 0 to remove and 34 not upgraded.\n",
            "Need to get 36.5 MB of archives.\n",
            "After this operation, 143 MB of additional disk space will be used.\n",
            "Selecting previously unselected package openjdk-8-jre-headless:amd64.\n",
            "(Reading database ... 160690 files and directories currently installed.)\n",
            "Preparing to unpack .../openjdk-8-jre-headless_8u282-b08-0ubuntu1~18.04_amd64.deb ...\n",
            "Unpacking openjdk-8-jre-headless:amd64 (8u282-b08-0ubuntu1~18.04) ...\n",
            "Selecting previously unselected package openjdk-8-jdk-headless:amd64.\n",
            "Preparing to unpack .../openjdk-8-jdk-headless_8u282-b08-0ubuntu1~18.04_amd64.deb ...\n",
            "Unpacking openjdk-8-jdk-headless:amd64 (8u282-b08-0ubuntu1~18.04) ...\n",
            "Setting up openjdk-8-jre-headless:amd64 (8u282-b08-0ubuntu1~18.04) ...\n",
            "update-alternatives: using /usr/lib/jvm/java-8-openjdk-amd64/jre/bin/orbd to provide /usr/bin/orbd (orbd) in auto mode\n",
            "update-alternatives: using /usr/lib/jvm/java-8-openjdk-amd64/jre/bin/servertool to provide /usr/bin/servertool (servertool) in auto mode\n",
            "update-alternatives: using /usr/lib/jvm/java-8-openjdk-amd64/jre/bin/tnameserv to provide /usr/bin/tnameserv (tnameserv) in auto mode\n",
            "Setting up openjdk-8-jdk-headless:amd64 (8u282-b08-0ubuntu1~18.04) ...\n",
            "update-alternatives: using /usr/lib/jvm/java-8-openjdk-amd64/bin/idlj to provide /usr/bin/idlj (idlj) in auto mode\n",
            "update-alternatives: using /usr/lib/jvm/java-8-openjdk-amd64/bin/wsimport to provide /usr/bin/wsimport (wsimport) in auto mode\n",
            "update-alternatives: using /usr/lib/jvm/java-8-openjdk-amd64/bin/jsadebugd to provide /usr/bin/jsadebugd (jsadebugd) in auto mode\n",
            "update-alternatives: using /usr/lib/jvm/java-8-openjdk-amd64/bin/native2ascii to provide /usr/bin/native2ascii (native2ascii) in auto mode\n",
            "update-alternatives: using /usr/lib/jvm/java-8-openjdk-amd64/bin/javah to provide /usr/bin/javah (javah) in auto mode\n",
            "update-alternatives: using /usr/lib/jvm/java-8-openjdk-amd64/bin/hsdb to provide /usr/bin/hsdb (hsdb) in auto mode\n",
            "update-alternatives: using /usr/lib/jvm/java-8-openjdk-amd64/bin/clhsdb to provide /usr/bin/clhsdb (clhsdb) in auto mode\n",
            "update-alternatives: using /usr/lib/jvm/java-8-openjdk-amd64/bin/xjc to provide /usr/bin/xjc (xjc) in auto mode\n",
            "update-alternatives: using /usr/lib/jvm/java-8-openjdk-amd64/bin/schemagen to provide /usr/bin/schemagen (schemagen) in auto mode\n",
            "update-alternatives: using /usr/lib/jvm/java-8-openjdk-amd64/bin/extcheck to provide /usr/bin/extcheck (extcheck) in auto mode\n",
            "update-alternatives: using /usr/lib/jvm/java-8-openjdk-amd64/bin/jhat to provide /usr/bin/jhat (jhat) in auto mode\n",
            "update-alternatives: using /usr/lib/jvm/java-8-openjdk-amd64/bin/wsgen to provide /usr/bin/wsgen (wsgen) in auto mode\n",
            "time: 51.5 s (started: 2021-04-22 19:26:31 +00:00)\n"
          ],
          "name": "stdout"
        }
      ]
    },
    {
      "cell_type": "code",
      "metadata": {
        "id": "ppkG73kRsei0",
        "colab": {
          "base_uri": "https://localhost:8080/"
        },
        "outputId": "0e361e43-3905-48c5-8f8a-a26545dc7545"
      },
      "source": [
        "# Import modules\n",
        "import numpy as np\n",
        "import pandas as pd\n",
        "import datetime\n",
        "import matplotlib.pyplot as plt\n",
        "from pathlib import Path\n",
        "%matplotlib inline\n",
        "\n",
        "import pyspark\n",
        "from pyspark.sql import *\n",
        "from pyspark.sql.types import *\n",
        "from pyspark.sql.functions import *\n",
        "from pyspark import SparkContext, SparkConf"
      ],
      "execution_count": null,
      "outputs": [
        {
          "output_type": "stream",
          "text": [
            "time: 105 ms (started: 2021-04-22 19:27:23 +00:00)\n"
          ],
          "name": "stdout"
        }
      ]
    },
    {
      "cell_type": "code",
      "metadata": {
        "colab": {
          "base_uri": "https://localhost:8080/"
        },
        "id": "pYm9-j_fflal",
        "outputId": "587f9383-c4f2-44ec-9b69-b7e44c213b96"
      },
      "source": [
        "import altair as alt\n",
        "alt.data_transformers.disable_max_rows()"
      ],
      "execution_count": null,
      "outputs": [
        {
          "output_type": "execute_result",
          "data": {
            "text/plain": [
              "DataTransformerRegistry.enable('default')"
            ]
          },
          "metadata": {
            "tags": []
          },
          "execution_count": 4
        },
        {
          "output_type": "stream",
          "text": [
            "time: 290 ms (started: 2021-04-22 19:27:23 +00:00)\n"
          ],
          "name": "stdout"
        }
      ]
    },
    {
      "cell_type": "code",
      "metadata": {
        "id": "1oe1ksN5skMG",
        "colab": {
          "base_uri": "https://localhost:8080/"
        },
        "outputId": "150929af-726f-4c08-ddc0-31d471336a8b"
      },
      "source": [
        "# create the session\n",
        "conf = SparkConf().set(\"spark.ui.port\", \"4050\")\n",
        "\n",
        "# create the context\n",
        "sc = pyspark.SparkContext(conf=conf)\n",
        "spark = SparkSession.builder.getOrCreate()"
      ],
      "execution_count": null,
      "outputs": [
        {
          "output_type": "stream",
          "text": [
            "time: 4.89 s (started: 2021-04-22 19:27:23 +00:00)\n"
          ],
          "name": "stdout"
        }
      ]
    },
    {
      "cell_type": "code",
      "metadata": {
        "id": "zdPF-0xIrDm9",
        "colab": {
          "base_uri": "https://localhost:8080/"
        },
        "outputId": "0fb0299f-6904-4d7b-b417-608eabe22ee5"
      },
      "source": [
        "#sc.stop()"
      ],
      "execution_count": null,
      "outputs": [
        {
          "output_type": "stream",
          "text": [
            "time: 1.49 ms (started: 2021-04-22 19:27:28 +00:00)\n"
          ],
          "name": "stdout"
        }
      ]
    },
    {
      "cell_type": "code",
      "metadata": {
        "colab": {
          "base_uri": "https://localhost:8080/"
        },
        "id": "WGXwI2d1szaO",
        "outputId": "7e76c012-6d83-4e34-f9b1-aa6191e6f991"
      },
      "source": [
        "# Mount drive with data\n",
        "from google.colab import drive\n",
        "drive.mount('/content/drive')"
      ],
      "execution_count": null,
      "outputs": [
        {
          "output_type": "stream",
          "text": [
            "Mounted at /content/drive\n",
            "time: 27.7 s (started: 2021-04-22 19:27:28 +00:00)\n"
          ],
          "name": "stdout"
        }
      ]
    },
    {
      "cell_type": "code",
      "metadata": {
        "id": "grN2uNcFvloa",
        "colab": {
          "base_uri": "https://localhost:8080/"
        },
        "outputId": "621f3fbb-2a46-4f26-9223-98b78628451b"
      },
      "source": [
        "# Set path to data folder\n",
        "path = Path('drive/MyDrive/big-data-project/data/clean-data')\n",
        "city = 'ny'"
      ],
      "execution_count": null,
      "outputs": [
        {
          "output_type": "stream",
          "text": [
            "time: 1.77 ms (started: 2021-04-22 19:27:56 +00:00)\n"
          ],
          "name": "stdout"
        }
      ]
    },
    {
      "cell_type": "code",
      "metadata": {
        "colab": {
          "base_uri": "https://localhost:8080/"
        },
        "id": "BvCrFmU2tGXY",
        "outputId": "0ad8e22e-d22d-4fac-a5a6-1c1f37480e19"
      },
      "source": [
        "# Read data into dataframe\n",
        "df_soc = spark.read.format('csv').option('header','true').option('quote',\"\\\"\").option('escape',\"\\\"\").load(str(path/city/'social/2020/*.csv'))\n",
        "df_soc.show()"
      ],
      "execution_count": null,
      "outputs": [
        {
          "output_type": "stream",
          "text": [
            "+---+------------+--------------------+--------------------+------------+---------------------------+--------------------------+------------------------------------------+----------------------------+----------------------+------------------------+--------------------+-------------------------------+-------------------------------+--------------------+-------------------------+--------------------------+----------------------+----------------------------+---------------------------+-----------------------------+\n",
            "|_c0|         cbg|    date_range_start|      date_range_end|device_count|distance_traveled_from_home|bucketed_distance_traveled|median_dwell_at_bucketed_distance_traveled|completely_home_device_count|median_home_dwell_time|bucketed_home_dwell_time|at_home_by_each_hour|part_time_work_behavior_devices|full_time_work_behavior_devices|    destination_cbgs|delivery_behavior_devices|median_non_home_dwell_time|candidate_device_count|bucketed_away_from_home_time|median_percentage_time_home|bucketed_percentage_time_home|\n",
            "+---+------------+--------------------+--------------------+------------+---------------------------+--------------------------+------------------------------------------+----------------------------+----------------------+------------------------+--------------------+-------------------------------+-------------------------------+--------------------+-------------------------+--------------------------+----------------------+----------------------------+---------------------------+-----------------------------+\n",
            "|  0|360470064002|2020-02-03T00:00:...|2020-02-04T00:00:...|          64|                       1883|      {\"16001-50000\":1,...|                      {\"16001-50000\":20...|                          18|                   722|    {\"721-1080\":17,\"3...|[38,42,36,38,35,3...|                              7|                              5|{\"360610089003\":1...|                        2|                       107|                   117|        {\"21-45\":4,\"541-6...|                         84|         {\"26-50\":3,\"51-75...|\n",
            "|  1|360810384001|2020-02-03T00:00:...|2020-02-04T00:00:...|          84|                       5483|      {\"16001-50000\":12...|                      {\"16001-50000\":21...|                          21|                   587|    {\"721-1080\":13,\"3...|[50,53,55,54,50,4...|                             12|                              8|{\"360810208001\":1...|                        4|                       138|                   155|        {\"21-45\":7,\"481-5...|                         73|         {\"26-50\":9,\"51-75...|\n",
            "|  2|360850170103|2020-02-03T00:00:...|2020-02-04T00:00:...|         250|                       4995|      {\"16001-50000\":48...|                      {\"16001-50000\":10...|                          68|                   781|    {\"721-1080\":68,\"3...|[180,186,184,188,...|                             41|                             26|{\"360850187021\":1...|                        8|                       141|                   377|        {\"21-45\":8,\"481-5...|                         84|         {\"26-50\":16,\"51-7...|\n",
            "|  3|360050213021|2020-02-03T00:00:...|2020-02-04T00:00:...|          92|                       2739|      {\"16001-50000\":4,...|                      {\"16001-50000\":50...|                          26|                   578|    {\"721-1080\":18,\"3...|[55,53,55,52,51,4...|                             11|                              6|{\"360050237021\":2...|                        3|                       130|                   194|        {\"21-45\":5,\"481-5...|                         79|         {\"26-50\":8,\"51-75...|\n",
            "|  4|360050253004|2020-02-03T00:00:...|2020-02-04T00:00:...|          52|                       3801|      {\"16001-50000\":2,...|                      {\"16001-50000\":31...|                          13|                   533|    {\"721-1080\":8,\"36...|[26,26,25,27,26,2...|                              7|                              4|{\"360050326002\":2...|                        2|                       193|                   106|        {\"21-45\":3,\"481-5...|                         76|         {\"26-50\":5,\"51-75...|\n",
            "|  5|360470385003|2020-02-03T00:00:...|2020-02-04T00:00:...|          37|                       5459|      {\"0\":10,\"2001-800...|                      {\"1001-2000\":77,\"...|                           9|                   661|    {\"721-1080\":13,\"3...|[24,25,26,25,24,2...|                              4|                              5|{\"360470379002\":1...|                        1|                       120|                    78|        {\"21-45\":2,\"481-5...|                         70|         {\"0-25\":5,\"76-100...|\n",
            "|  6|360470406002|2020-02-03T00:00:...|2020-02-04T00:00:...|          46|                      10480|      {\"16001-50000\":7,...|                      {\"16001-50000\":12...|                          12|                   390|    {\"721-1080\":7,\"36...|[23,18,18,18,18,1...|                              7|                              4|{\"360470804003\":1...|                        3|                        38|                    79|        {\"21-45\":4,\"1201-...|                         69|         {\"0-25\":17,\"76-10...|\n",
            "|  7|360470428003|2020-02-03T00:00:...|2020-02-04T00:00:...|          84|                       3798|      {\"16001-50000\":5,...|                      {\"16001-50000\":32...|                          20|                   693|    {\"721-1080\":26,\"3...|[55,57,56,54,55,5...|                              2|                             13|{\"360470478001\":2...|                        7|                       181|                   139|        {\"21-45\":1,\"481-5...|                         67|         {\"0-25\":13,\"76-10...|\n",
            "|  8|360471130002|2020-02-03T00:00:...|2020-02-04T00:00:...|          84|                       5276|      {\"16001-50000\":1,...|                      {\"16001-50000\":64...|                          20|                   759|    {\"721-1080\":25,\"3...|[54,57,58,59,54,5...|                             13|                              9|{\"360470804003\":1...|                        5|                       200|                   155|        {\"21-45\":1,\"481-5...|                         69|         {\"26-50\":5,\"51-75...|\n",
            "|  9|360811029001|2020-02-03T00:00:...|2020-02-04T00:00:...|         256|                       5062|      {\"16001-50000\":25...|                      {\"16001-50000\":82...|                          95|                   411|    {\"721-1080\":49,\"3...|[124,121,125,125,...|                             24|                             18|{\"360811033001\":1...|                        6|                        31|                   766|        {\"21-45\":18,\"481-...|                         86|         {\"26-50\":12,\"51-7...|\n",
            "| 10|360050177022|2020-02-03T00:00:...|2020-02-04T00:00:...|          53|                       5200|      {\"16001-50000\":2,...|                      {\"16001-50000\":58...|                          19|                   709|    {\"721-1080\":11,\"3...|[31,31,29,29,30,2...|                              2|                              1|{\"360610265002\":1...|                        5|                        33|                   108|        {\"21-45\":5,\"481-5...|                         90|         {\"26-50\":1,\"51-75...|\n",
            "| 11|360050248002|2020-02-03T00:00:...|2020-02-04T00:00:...|          63|                       3274|      {\"16001-50000\":2,...|                      {\"16001-50000\":29...|                          24|                   634|    {\"721-1080\":10,\"3...|[33,39,33,35,32,3...|                              6|                              2|{\"360050248001\":3...|                        6|                        22|                   112|        {\"21-45\":1,\"481-5...|                         94|         {\"0-25\":13,\"76-10...|\n",
            "| 12|360050363003|2020-02-03T00:00:...|2020-02-04T00:00:...|          81|                       3828|      {\"16001-50000\":7,...|                      {\"16001-50000\":20...|                          17|                   643|    {\"721-1080\":22,\"3...|[48,46,47,45,48,4...|                              7|                              8|{\"360050237021\":1...|                        4|                       203|                   227|        {\"21-45\":6,\"481-5...|                         74|         {\"0-25\":21,\"76-10...|\n",
            "| 13|360470084003|2020-02-03T00:00:...|2020-02-04T00:00:...|          42|                       4795|      {\"0\":10,\">50000\":...|                      {\">50000\":57,\"<10...|                          12|                   512|    {\"721-1080\":6,\"36...|[26,24,24,24,25,2...|                              7|                              5|{\"360470485001\":1...|                        1|                       305|                    99|        {\"481-540\":1,\"541...|                         58|         {\"26-50\":4,\"51-75...|\n",
            "| 14|360470393002|2020-02-03T00:00:...|2020-02-04T00:00:...|          42|                       4291|      {\"0\":12,\"2001-800...|                      {\"1001-2000\":20,\"...|                          12|                   685|    {\"721-1080\":10,\"3...|[28,27,28,28,29,2...|                              4|                              5|{\"360470551003\":1...|                        3|                       142|                   130|        {\"21-45\":4,\"481-5...|                         82|         {\"0-25\":2,\"76-100...|\n",
            "| 15|360470888003|2020-02-03T00:00:...|2020-02-04T00:00:...|          73|                       3905|      {\"16001-50000\":1,...|                      {\"16001-50000\":31...|                          24|                   593|    {\"721-1080\":15,\"3...|[46,48,49,48,44,4...|                              4|                             10|{\"360470816002\":1...|                        7|                        92|                   146|        {\"21-45\":6,\"481-5...|                         74|         {\"0-25\":16,\"76-10...|\n",
            "| 16|360610072004|2020-02-03T00:00:...|2020-02-04T00:00:...|          58|                       1559|      {\"16001-50000\":1,...|                      {\"16001-50000\":72...|                          17|                   453|    {\"721-1080\":15,\"3...|[27,28,28,29,26,2...|                              8|                              6|{\"361090004001\":1...|                        1|                       342|                   132|        {\"481-540\":2,\"541...|                         60|         {\"0-25\":9,\"76-100...|\n",
            "| 17|360050414002|2020-02-03T00:00:...|2020-02-04T00:00:...|          60|                       5550|      {\"16001-50000\":7,...|                      {\"16001-50000\":29...|                          19|                   720|    {\"721-1080\":16,\"3...|[41,42,41,43,36,3...|                              5|                              6|{\"360050418001\":2...|                        5|                        65|                   116|        {\"21-45\":7,\"481-5...|                         91|         {\">100\":1,\"0-25\":...|\n",
            "| 18|360050424001|2020-02-03T00:00:...|2020-02-04T00:00:...|          44|                       7992|      {\"16001-50000\":7,...|                      {\"16001-50000\":25...|                          12|                   319|    {\"721-1080\":5,\"36...|[16,15,18,16,16,2...|                              4|                              3|{\"360811257001\":1...|                        1|                        50|                    85|        {\"21-45\":4,\"541-6...|                         78|         {\"26-50\":1,\"51-75...|\n",
            "| 19|360470076002|2020-02-03T00:00:...|2020-02-04T00:00:...|          49|                       4238|      {\"0\":13,\">50000\":...|                      {\">50000\":28,\"<10...|                          11|                   718|    {\"721-1080\":15,\"3...|[37,33,34,33,33,3...|                              9|                              7|{\"360470060002\":1...|                        1|                       231|                    87|        {\"21-45\":5,\"481-5...|                         74|         {\"0-25\":4,\"76-100...|\n",
            "+---+------------+--------------------+--------------------+------------+---------------------------+--------------------------+------------------------------------------+----------------------------+----------------------+------------------------+--------------------+-------------------------------+-------------------------------+--------------------+-------------------------+--------------------------+----------------------+----------------------------+---------------------------+-----------------------------+\n",
            "only showing top 20 rows\n",
            "\n",
            "time: 30.7 s (started: 2021-04-22 19:27:56 +00:00)\n"
          ],
          "name": "stdout"
        }
      ]
    },
    {
      "cell_type": "code",
      "metadata": {
        "colab": {
          "base_uri": "https://localhost:8080/"
        },
        "id": "wh747sqcHi4-",
        "outputId": "5a01da00-720f-44a3-e7e7-c25347af9a01"
      },
      "source": [
        "df_soc.createOrReplaceTempView('clean_ny')\n",
        "df_soc = spark.sql('SELECT cbg, date_range_start as date, device_count, part_time_work_behavior_devices FROM clean_ny WHERE device_count > 5')\n",
        "df_soc.show()"
      ],
      "execution_count": null,
      "outputs": [
        {
          "output_type": "stream",
          "text": [
            "+------------+--------------------+------------+-------------------------------+\n",
            "|         cbg|                date|device_count|part_time_work_behavior_devices|\n",
            "+------------+--------------------+------------+-------------------------------+\n",
            "|360470064002|2020-02-03T00:00:...|          64|                              7|\n",
            "|360810384001|2020-02-03T00:00:...|          84|                             12|\n",
            "|360850170103|2020-02-03T00:00:...|         250|                             41|\n",
            "|360050213021|2020-02-03T00:00:...|          92|                             11|\n",
            "|360050253004|2020-02-03T00:00:...|          52|                              7|\n",
            "|360470385003|2020-02-03T00:00:...|          37|                              4|\n",
            "|360470406002|2020-02-03T00:00:...|          46|                              7|\n",
            "|360470428003|2020-02-03T00:00:...|          84|                              2|\n",
            "|360471130002|2020-02-03T00:00:...|          84|                             13|\n",
            "|360811029001|2020-02-03T00:00:...|         256|                             24|\n",
            "|360050177022|2020-02-03T00:00:...|          53|                              2|\n",
            "|360050248002|2020-02-03T00:00:...|          63|                              6|\n",
            "|360050363003|2020-02-03T00:00:...|          81|                              7|\n",
            "|360470084003|2020-02-03T00:00:...|          42|                              7|\n",
            "|360470393002|2020-02-03T00:00:...|          42|                              4|\n",
            "|360470888003|2020-02-03T00:00:...|          73|                              4|\n",
            "|360610072004|2020-02-03T00:00:...|          58|                              8|\n",
            "|360050414002|2020-02-03T00:00:...|          60|                              5|\n",
            "|360050424001|2020-02-03T00:00:...|          44|                              4|\n",
            "|360470076002|2020-02-03T00:00:...|          49|                              9|\n",
            "+------------+--------------------+------------+-------------------------------+\n",
            "only showing top 20 rows\n",
            "\n",
            "time: 984 ms (started: 2021-04-22 19:28:27 +00:00)\n"
          ],
          "name": "stdout"
        }
      ]
    },
    {
      "cell_type": "code",
      "metadata": {
        "id": "nlVhrn2-Rp_O",
        "colab": {
          "base_uri": "https://localhost:8080/"
        },
        "outputId": "b20c0973-def2-423a-b66c-39a6465cc378"
      },
      "source": [
        "df_soc = df_soc.withColumn(\"date\",\n",
        "    df_soc['date'].substr(0, 10))"
      ],
      "execution_count": null,
      "outputs": [
        {
          "output_type": "stream",
          "text": [
            "time: 46 ms (started: 2021-04-22 19:28:28 +00:00)\n"
          ],
          "name": "stdout"
        }
      ]
    },
    {
      "cell_type": "code",
      "metadata": {
        "colab": {
          "base_uri": "https://localhost:8080/"
        },
        "id": "2ryRoACoJMPZ",
        "outputId": "3224455c-68d2-495c-eb2f-5f14dacb65ab"
      },
      "source": [
        "df_soc.show()"
      ],
      "execution_count": null,
      "outputs": [
        {
          "output_type": "stream",
          "text": [
            "+------------+----------+------------+-------------------------------+\n",
            "|         cbg|      date|device_count|part_time_work_behavior_devices|\n",
            "+------------+----------+------------+-------------------------------+\n",
            "|360470064002|2020-02-03|          64|                              7|\n",
            "|360810384001|2020-02-03|          84|                             12|\n",
            "|360850170103|2020-02-03|         250|                             41|\n",
            "|360050213021|2020-02-03|          92|                             11|\n",
            "|360050253004|2020-02-03|          52|                              7|\n",
            "|360470385003|2020-02-03|          37|                              4|\n",
            "|360470406002|2020-02-03|          46|                              7|\n",
            "|360470428003|2020-02-03|          84|                              2|\n",
            "|360471130002|2020-02-03|          84|                             13|\n",
            "|360811029001|2020-02-03|         256|                             24|\n",
            "|360050177022|2020-02-03|          53|                              2|\n",
            "|360050248002|2020-02-03|          63|                              6|\n",
            "|360050363003|2020-02-03|          81|                              7|\n",
            "|360470084003|2020-02-03|          42|                              7|\n",
            "|360470393002|2020-02-03|          42|                              4|\n",
            "|360470888003|2020-02-03|          73|                              4|\n",
            "|360610072004|2020-02-03|          58|                              8|\n",
            "|360050414002|2020-02-03|          60|                              5|\n",
            "|360050424001|2020-02-03|          44|                              4|\n",
            "|360470076002|2020-02-03|          49|                              9|\n",
            "+------------+----------+------------+-------------------------------+\n",
            "only showing top 20 rows\n",
            "\n",
            "time: 332 ms (started: 2021-04-22 19:28:28 +00:00)\n"
          ],
          "name": "stdout"
        }
      ]
    },
    {
      "cell_type": "code",
      "metadata": {
        "colab": {
          "base_uri": "https://localhost:8080/"
        },
        "id": "UL4qIhZu7JKC",
        "outputId": "08dc8e79-9f11-43b9-e2f7-9b88d1243a63"
      },
      "source": [
        "# Add completely home percentage column\n",
        "# df_soc = df_soc.withColumn('completely_home_percentage', (df_soc['completely_home_device_count']/df_soc['device_count']) * 100)\n",
        "df_soc = df_soc.withColumn('part_time_work_percentage', (df_soc['part_time_work_behavior_devices']/df_soc['device_count']) * 100)\n",
        "# df_soc = df_soc.withColumn('full_time_work_percentage', (df_soc['full_time_work_behavior_devices']/df_soc['device_count']) * 100)\n",
        "\n",
        "#df_soc.show()"
      ],
      "execution_count": null,
      "outputs": [
        {
          "output_type": "stream",
          "text": [
            "time: 69.3 ms (started: 2021-04-22 19:28:28 +00:00)\n"
          ],
          "name": "stdout"
        }
      ]
    },
    {
      "cell_type": "code",
      "metadata": {
        "colab": {
          "base_uri": "https://localhost:8080/"
        },
        "id": "OAUIODseCoSg",
        "outputId": "c2aef21f-9b73-4eab-8048-3031e15c2f05"
      },
      "source": [
        "#Create temp view\n",
        "df_soc.createOrReplaceTempView('mobility')"
      ],
      "execution_count": null,
      "outputs": [
        {
          "output_type": "stream",
          "text": [
            "time: 28 ms (started: 2021-04-22 19:28:28 +00:00)\n"
          ],
          "name": "stdout"
        }
      ]
    },
    {
      "cell_type": "markdown",
      "metadata": {
        "id": "Sj4xc1gTpm2X"
      },
      "source": [
        "\n",
        "\n",
        "---\n",
        "\n",
        "\n",
        "**Demographic data**\n",
        "\n",
        "\n",
        "\n",
        "\n",
        "\n",
        "---\n",
        "\n"
      ]
    },
    {
      "cell_type": "code",
      "metadata": {
        "colab": {
          "base_uri": "https://localhost:8080/"
        },
        "id": "1SVVsXtuzqRf",
        "outputId": "4e1293a0-5a22-4bb8-8bd0-bfc432a6200d"
      },
      "source": [
        "# Read poverty data\n",
        "# Read data into RDD\n",
        "df_demographic = spark.read.format('csv').option('header','true').option('quote',\"\\\"\").option('escape',\"\\\"\").load(str(path/city/'ny.csv'))\n",
        "df_demographic.createOrReplaceTempView('demographic')\n",
        "df_demographic.show()"
      ],
      "execution_count": null,
      "outputs": [
        {
          "output_type": "stream",
          "text": [
            "+------------+---------+------------------+------------------+\n",
            "|         cbg|pop_total|poverty_percentage|    perc_whiteonly|\n",
            "+------------+---------+------------------+------------------+\n",
            "|360050175002|     1110| 55.22522522522523|14.774774774774773|\n",
            "|360050141001|     1445| 36.74740484429066| 19.16955017301038|\n",
            "|360050145001|     2003| 39.47667804323095|  8.53719420868697|\n",
            "|360050075002|     2731|22.812156719150494|4.5404613694617355|\n",
            "|360050418001|      936|18.859649122807017| 9.081196581196581|\n",
            "|360050125001|     2935| 43.24693042291951|12.742759795570699|\n",
            "|360050127012|     1061| 43.73232799245994|18.378887841658813|\n",
            "|360050054003|     1031| 57.12900096993211| 28.12803103782735|\n",
            "|360050027011|     1364|  65.9090909090909|14.589442815249267|\n",
            "|360050458001|     1168| 37.15753424657534| 2.910958904109589|\n",
            "|360050224011|     1291|19.907048799380327|27.420604182804027|\n",
            "|360050389001|     1143| 53.94265232974911|30.708661417322837|\n",
            "|360050071002|     1661|           37.4375|11.499096929560505|\n",
            "|360050211003|     1056|  52.1865889212828| 5.776515151515151|\n",
            "|360050197001|     2205| 37.46031746031746| 6.984126984126984|\n",
            "|360470400002|      760| 19.19463087248322|              47.5|\n",
            "|360470400003|     1250|              25.6|             36.32|\n",
            "|360470402002|     1453|27.529249827942188|51.066758430832756|\n",
            "|360470403001|      919| 42.20283533260633| 22.41566920565832|\n",
            "|360470404001|     1232| 6.087662337662338| 66.72077922077922|\n",
            "+------------+---------+------------------+------------------+\n",
            "only showing top 20 rows\n",
            "\n",
            "time: 780 ms (started: 2021-04-22 19:28:28 +00:00)\n"
          ],
          "name": "stdout"
        }
      ]
    },
    {
      "cell_type": "code",
      "metadata": {
        "colab": {
          "base_uri": "https://localhost:8080/"
        },
        "id": "Ff9bk8_6qBQ2",
        "outputId": "c3644dc8-0d50-4f53-aa60-fbd275093ec9"
      },
      "source": [
        "df_mob_demo = spark.sql('SELECT mobility.*, demographic.poverty_percentage from mobility INNER JOIN demographic ON mobility.cbg = demographic.cbg')\n",
        "df_mob_demo.createOrReplaceTempView('demographic_mobility')\n",
        "df_mob_demo.show()\n"
      ],
      "execution_count": null,
      "outputs": [
        {
          "output_type": "stream",
          "text": [
            "+------------+----------+------------+-------------------------------+-------------------------+------------------+\n",
            "|         cbg|      date|device_count|part_time_work_behavior_devices|part_time_work_percentage|poverty_percentage|\n",
            "+------------+----------+------------+-------------------------------+-------------------------+------------------+\n",
            "|360470064002|2020-02-03|          64|                              7|                  10.9375| 19.22705314009662|\n",
            "|360810384001|2020-02-03|          84|                             12|       14.285714285714285|12.291350531107739|\n",
            "|360850170103|2020-02-03|         250|                             41|       16.400000000000002|13.652802893309223|\n",
            "|360050213021|2020-02-03|          92|                             11|       11.956521739130435| 43.07328605200946|\n",
            "|360050253004|2020-02-03|          52|                              7|       13.461538461538462|24.824120603015075|\n",
            "|360470385003|2020-02-03|          37|                              4|        10.81081081081081| 10.77170418006431|\n",
            "|360470406002|2020-02-03|          46|                              7|       15.217391304347828|13.953488372093023|\n",
            "|360470428003|2020-02-03|          84|                              2|        2.380952380952381|15.798922800718133|\n",
            "|360471130002|2020-02-03|          84|                             13|       15.476190476190476| 49.52229299363057|\n",
            "|360811029001|2020-02-03|         256|                             24|                    9.375| 4.940374787052811|\n",
            "|360050177022|2020-02-03|          53|                              2|       3.7735849056603774|16.293393057110862|\n",
            "|360050248002|2020-02-03|          63|                              6|        9.523809523809524|11.859838274932615|\n",
            "|360050363003|2020-02-03|          81|                              7|        8.641975308641975|33.054159687325516|\n",
            "|360470084003|2020-02-03|          42|                              7|       16.666666666666664|36.858638743455494|\n",
            "|360470393002|2020-02-03|          42|                              4|        9.523809523809524|17.216770740410347|\n",
            "|360470888003|2020-02-03|          73|                              4|         5.47945205479452| 9.655172413793103|\n",
            "|360610072004|2020-02-03|          58|                              8|       13.793103448275861| 21.65775401069519|\n",
            "|360050414002|2020-02-03|          60|                              5|        8.333333333333332|13.106796116504855|\n",
            "|360050424001|2020-02-03|          44|                              4|        9.090909090909092| 6.275303643724696|\n",
            "|360470076002|2020-02-03|          49|                              9|       18.367346938775512|18.527131782945734|\n",
            "+------------+----------+------------+-------------------------------+-------------------------+------------------+\n",
            "only showing top 20 rows\n",
            "\n",
            "time: 1.25 s (started: 2021-04-22 19:28:29 +00:00)\n"
          ],
          "name": "stdout"
        }
      ]
    },
    {
      "cell_type": "code",
      "metadata": {
        "id": "6vFzCEtNukZy",
        "colab": {
          "base_uri": "https://localhost:8080/"
        },
        "outputId": "1d3cae0a-ac00-486f-dacb-7693c2ba6f5f"
      },
      "source": [
        "# DIVIDING THE PEOPLE TOP 20 PERCENT AND BOTTOM 20 PERCENT\n",
        "\n",
        "df_mob_demo_high_class =  spark.sql('SELECT * FROM demographic_mobility WHERE poverty_percentage < 20')\n",
        "grouped_df_mob_demo_high_class = df_mob_demo_high_class.groupBy(\"date\").mean(\"part_time_work_percentage\").withColumnRenamed('avg(part_time_work_percentage)','part_time_work_percentage')\n",
        "grouped_df_mob_demo_high_class.createOrReplaceTempView('mob_demo_high_class')\n",
        "\n",
        "\n",
        "df_mob_demo_low_class =  spark.sql('SELECT * FROM demographic_mobility WHERE poverty_percentage > 80')\n",
        "grouped_df_mob_demo_low_class = df_mob_demo_low_class.groupBy(\"date\").mean(\"part_time_work_percentage\").withColumnRenamed('avg(part_time_work_percentage)','part_time_work_percentage')\n",
        "grouped_df_mob_demo_low_class.createOrReplaceTempView('mob_demo_low_class')\n",
        "\n",
        "grouped_df_mob_demo_combined = spark.sql(\"\"\"\n",
        "\n",
        "SELECT h.date,h.part_time_work_percentage as top20_perc,\n",
        "l.part_time_work_percentage as bottom20_perc  \n",
        "FROM mob_demo_high_class h INNER JOIN mob_demo_low_class l ON h.date = l.date\n",
        "\n",
        "\"\"\")\n"
      ],
      "execution_count": null,
      "outputs": [
        {
          "output_type": "stream",
          "text": [
            "time: 359 ms (started: 2021-04-22 19:28:30 +00:00)\n"
          ],
          "name": "stdout"
        }
      ]
    },
    {
      "cell_type": "markdown",
      "metadata": {
        "id": "ow6mFwCFoc4r"
      },
      "source": [
        "**Load 2019 stats**"
      ]
    },
    {
      "cell_type": "code",
      "metadata": {
        "colab": {
          "base_uri": "https://localhost:8080/"
        },
        "id": "iBe00iTKobbO",
        "outputId": "b002507c-b54e-4ba4-9adc-c6e7b29650ba"
      },
      "source": [
        "filename = '{}_social_summary_2019.csv'.format(city)\n",
        "stat_2019 = spark.read.format('csv').option('header','true').option('quote',\"\\\"\").option('escape',\"\\\"\").load(str(path/city/filename))\n",
        "stat_2019.show()\n",
        "mean_2019 = stat_2019.collect()[1][6]\n"
      ],
      "execution_count": null,
      "outputs": [
        {
          "output_type": "stream",
          "text": [
            "+-----+------------------+------------------+-----------------+------------------+--------------------------+-------------------------+-------------------------+--------------------+--------------------+--------------------+-----------------+\n",
            "|  _c0|             total|   completely_home|   part_time_work|    full_time_work|percentage_completely_home|percentage_part_time_work|percentage_full_time_work|norm_completely_home| norm_part_time_work| norm_full_time_work|            month|\n",
            "+-----+------------------+------------------+-----------------+------------------+--------------------------+-------------------------+-------------------------+--------------------+--------------------+--------------------+-----------------+\n",
            "|count|         2290248.0|         2290248.0|        2290248.0|         2290248.0|                 2290248.0|                2290248.0|                2290248.0|           2290248.0|           2290248.0|           2290248.0|        2290248.0|\n",
            "| mean| 80.34526610218632|28.434720606676656|6.304287570603708| 4.110137417432522|        34.191774982169704|        8.187627170719718|         5.60654841629037|3.141520436194587...|4.354980010730152...|-2.23046824278488...|6.524348018205889|\n",
            "|  std|100.01782144483444| 46.63537873190937|6.281789685352023|4.2383835406180195|        10.449758498798655|        5.100597591243777|        4.491605719641751|  0.9999999999984743|  1.0000000000003462|  1.0000000000018414|3.448153832282255|\n",
            "|  min|               5.0|               1.0|              1.0|               1.0|        0.3574620196604111|      0.16891891891891891|       0.0999000999000999|  -3.237808124120669|  -1.572111523866646| -1.2259865758719086|              1.0|\n",
            "|  25%|              48.0|              14.0|              2.0|               1.0|         27.27272727272727|        4.166666666666666|        2.127659574468085| -0.6621251304743431| -0.7883312557249873| -0.7745312164442965|              4.0|\n",
            "|  50%|              67.0|              23.0|              5.0|               3.0|        34.285714285714285|       7.4074074074074066|         4.25531914893617|0.008989614789220246| -0.1529663435225157| -0.3008343455983429|              7.0|\n",
            "|  75%|              94.0|              35.0|              8.0|               6.0|        41.228070175438596|        11.11111111111111|        7.865168539325842|  0.6733452446846319|  0.5731649847088806|  0.5028536038144548|             10.0|\n",
            "|  max|           17185.0|           10466.0|            653.0|             438.0|         91.82509505703422|        66.66666666666666|                    56.25|  5.5152777053642215|   11.46513490817982|  11.275132935699647|             12.0|\n",
            "+-----+------------------+------------------+-----------------+------------------+--------------------------+-------------------------+-------------------------+--------------------+--------------------+--------------------+-----------------+\n",
            "\n",
            "time: 807 ms (started: 2021-04-22 19:28:31 +00:00)\n"
          ],
          "name": "stdout"
        }
      ]
    },
    {
      "cell_type": "code",
      "metadata": {
        "colab": {
          "base_uri": "https://localhost:8080/"
        },
        "id": "jbZKBBrlsymR",
        "outputId": "0ec01c3e-4e1f-4cc9-dec5-cc9be9db6fcf"
      },
      "source": [
        "# calculate deviation form mean\n",
        "grouped_df_mob_demo_combined= grouped_df_mob_demo_combined.withColumn(\"top20_deviation\",\n",
        "    grouped_df_mob_demo_combined['top20_perc'] - mean_2019)\n"
      ],
      "execution_count": null,
      "outputs": [
        {
          "output_type": "stream",
          "text": [
            "time: 35.8 ms (started: 2021-04-22 19:28:32 +00:00)\n"
          ],
          "name": "stdout"
        }
      ]
    },
    {
      "cell_type": "code",
      "metadata": {
        "colab": {
          "base_uri": "https://localhost:8080/"
        },
        "id": "m1v1M4wSwmbV",
        "outputId": "66f73652-4949-4f2e-ef01-659d4e8ae8e1"
      },
      "source": [
        "grouped_df_mob_demo_combined = grouped_df_mob_demo_combined.withColumn(\"bottom20_deviation\",\n",
        "    grouped_df_mob_demo_combined['bottom20_perc'] - mean_2019)"
      ],
      "execution_count": null,
      "outputs": [
        {
          "output_type": "stream",
          "text": [
            "time: 23.5 ms (started: 2021-04-22 19:28:32 +00:00)\n"
          ],
          "name": "stdout"
        }
      ]
    },
    {
      "cell_type": "markdown",
      "metadata": {
        "id": "JxSLoJSmYuj8"
      },
      "source": [
        "\n",
        "**Visualizations** \n",
        "\n"
      ]
    },
    {
      "cell_type": "code",
      "metadata": {
        "colab": {
          "base_uri": "https://localhost:8080/"
        },
        "id": "S4CaYZVO43kY",
        "outputId": "17637258-d0fb-4b5d-bcd4-9a73a5919ccb"
      },
      "source": [
        "# create altair library theme \n",
        "\n",
        "def my_theme():\n",
        "  return {\n",
        "    'config': {\n",
        "      'view': {'continuousHeight': 300, 'continuousWidth': 400},  # from the default theme\n",
        "      'range': {'category': {'scheme': 'redblue'}}##['#FF4500','#a0aab4','#4E79A7']}}\n",
        "    }\n",
        "  }\n",
        "alt.themes.register('my_theme', my_theme)\n",
        "alt.themes.enable('my_theme')\n",
        "# "
      ],
      "execution_count": null,
      "outputs": [
        {
          "output_type": "execute_result",
          "data": {
            "text/plain": [
              "ThemeRegistry.enable('my_theme')"
            ]
          },
          "metadata": {
            "tags": []
          },
          "execution_count": 21
        },
        {
          "output_type": "stream",
          "text": [
            "time: 14.6 ms (started: 2021-04-22 19:28:32 +00:00)\n"
          ],
          "name": "stdout"
        }
      ]
    },
    {
      "cell_type": "code",
      "metadata": {
        "colab": {
          "base_uri": "https://localhost:8080/"
        },
        "id": "0KpTm73-BpiA",
        "outputId": "31f0e599-092c-40e2-fdb1-13bc240c8ae0"
      },
      "source": [
        "def create_chart(df) :\n",
        "  chart = alt.Chart(df).transform_fold(\n",
        "    fold=['Bottom 20 % Deviation', 'Top 20 % Deviation'],\n",
        "    as_ = ['Poverty %','part_time_value']\n",
        "    \n",
        "    ).mark_line().encode(\n",
        "      x= alt.X('date:T', title = 'Date'),\n",
        "      y= alt.Y('part_time_value:Q', title = 'Part Time Work %'),\n",
        "      color='Poverty %:N'\n",
        "    ).properties(width = 1000).interactive()\n",
        "\n",
        "  rule = alt.Chart(pd.DataFrame({'Mean 2019':[0]})).mark_rule(color='#757575',strokeDash=[5,3], size=2).encode(\n",
        "    y='Mean 2019',\n",
        "    size=alt.value(2),\n",
        "    )\n",
        "  \n",
        "  text = alt.Chart({'values':[{ 'y': 1}]}).mark_text(\n",
        "    text='Mean 2019', angle=0\n",
        "    ).encode(\n",
        "      y=alt.Y('y:Q'),opacity=alt.value(0.4)\n",
        "    )\n",
        "\n",
        "  return  chart + rule + text\n"
      ],
      "execution_count": null,
      "outputs": [
        {
          "output_type": "stream",
          "text": [
            "time: 36.3 ms (started: 2021-04-22 19:28:32 +00:00)\n"
          ],
          "name": "stdout"
        }
      ]
    },
    {
      "cell_type": "code",
      "metadata": {
        "colab": {
          "base_uri": "https://localhost:8080/"
        },
        "id": "P9AleyUlCeuI",
        "outputId": "2771b539-9fcb-48d3-de74-2e65e09a0825"
      },
      "source": [
        "def apply_date_filter(df,start_date,end_date) :\n",
        "  mask = (df['date'] > start_date) & (df['date'] <= end_date)\n",
        "  dfX = df.loc[mask]\n",
        "  return dfX"
      ],
      "execution_count": null,
      "outputs": [
        {
          "output_type": "stream",
          "text": [
            "time: 2.74 ms (started: 2021-04-22 19:28:32 +00:00)\n"
          ],
          "name": "stdout"
        }
      ]
    },
    {
      "cell_type": "code",
      "metadata": {
        "colab": {
          "base_uri": "https://localhost:8080/",
          "height": 418
        },
        "id": "V4EHlNdfSVal",
        "outputId": "011e9717-46ae-4cf6-ccb8-bf754ce12539"
      },
      "source": [
        "# create pandas dataframe for visualizations\n",
        "df = grouped_df_mob_demo_combined.toPandas()\n",
        "df"
      ],
      "execution_count": null,
      "outputs": [
        {
          "output_type": "execute_result",
          "data": {
            "text/html": [
              "<div>\n",
              "<style scoped>\n",
              "    .dataframe tbody tr th:only-of-type {\n",
              "        vertical-align: middle;\n",
              "    }\n",
              "\n",
              "    .dataframe tbody tr th {\n",
              "        vertical-align: top;\n",
              "    }\n",
              "\n",
              "    .dataframe thead th {\n",
              "        text-align: right;\n",
              "    }\n",
              "</style>\n",
              "<table border=\"1\" class=\"dataframe\">\n",
              "  <thead>\n",
              "    <tr style=\"text-align: right;\">\n",
              "      <th></th>\n",
              "      <th>date</th>\n",
              "      <th>top20_perc</th>\n",
              "      <th>bottom20_perc</th>\n",
              "      <th>top20_deviation</th>\n",
              "      <th>bottom20_deviation</th>\n",
              "    </tr>\n",
              "  </thead>\n",
              "  <tbody>\n",
              "    <tr>\n",
              "      <th>0</th>\n",
              "      <td>2020-02-26</td>\n",
              "      <td>12.808218</td>\n",
              "      <td>6.311963</td>\n",
              "      <td>4.620591</td>\n",
              "      <td>-1.875664</td>\n",
              "    </tr>\n",
              "    <tr>\n",
              "      <th>1</th>\n",
              "      <td>2020-04-13</td>\n",
              "      <td>4.067297</td>\n",
              "      <td>4.518371</td>\n",
              "      <td>-4.120330</td>\n",
              "      <td>-3.669256</td>\n",
              "    </tr>\n",
              "    <tr>\n",
              "      <th>2</th>\n",
              "      <td>2020-06-24</td>\n",
              "      <td>6.134412</td>\n",
              "      <td>7.679739</td>\n",
              "      <td>-2.053215</td>\n",
              "      <td>-0.507889</td>\n",
              "    </tr>\n",
              "    <tr>\n",
              "      <th>3</th>\n",
              "      <td>2020-06-08</td>\n",
              "      <td>5.045353</td>\n",
              "      <td>5.097403</td>\n",
              "      <td>-3.142274</td>\n",
              "      <td>-3.090225</td>\n",
              "    </tr>\n",
              "    <tr>\n",
              "      <th>4</th>\n",
              "      <td>2020-09-12</td>\n",
              "      <td>6.224557</td>\n",
              "      <td>5.516194</td>\n",
              "      <td>-1.963070</td>\n",
              "      <td>-2.671433</td>\n",
              "    </tr>\n",
              "    <tr>\n",
              "      <th>...</th>\n",
              "      <td>...</td>\n",
              "      <td>...</td>\n",
              "      <td>...</td>\n",
              "      <td>...</td>\n",
              "      <td>...</td>\n",
              "    </tr>\n",
              "    <tr>\n",
              "      <th>361</th>\n",
              "      <td>2020-04-05</td>\n",
              "      <td>3.771187</td>\n",
              "      <td>3.306452</td>\n",
              "      <td>-4.416440</td>\n",
              "      <td>-4.881176</td>\n",
              "    </tr>\n",
              "    <tr>\n",
              "      <th>362</th>\n",
              "      <td>2020-05-01</td>\n",
              "      <td>4.023622</td>\n",
              "      <td>7.117794</td>\n",
              "      <td>-4.164006</td>\n",
              "      <td>-1.069833</td>\n",
              "    </tr>\n",
              "    <tr>\n",
              "      <th>363</th>\n",
              "      <td>2020-10-25</td>\n",
              "      <td>4.873666</td>\n",
              "      <td>4.195402</td>\n",
              "      <td>-3.313961</td>\n",
              "      <td>-3.992225</td>\n",
              "    </tr>\n",
              "    <tr>\n",
              "      <th>364</th>\n",
              "      <td>2020-12-28</td>\n",
              "      <td>6.751881</td>\n",
              "      <td>4.846154</td>\n",
              "      <td>-1.435746</td>\n",
              "      <td>-3.341473</td>\n",
              "    </tr>\n",
              "    <tr>\n",
              "      <th>365</th>\n",
              "      <td>2020-12-19</td>\n",
              "      <td>5.600877</td>\n",
              "      <td>7.357473</td>\n",
              "      <td>-2.586750</td>\n",
              "      <td>-0.830154</td>\n",
              "    </tr>\n",
              "  </tbody>\n",
              "</table>\n",
              "<p>366 rows × 5 columns</p>\n",
              "</div>"
            ],
            "text/plain": [
              "           date  top20_perc  bottom20_perc  top20_deviation  bottom20_deviation\n",
              "0    2020-02-26   12.808218       6.311963         4.620591           -1.875664\n",
              "1    2020-04-13    4.067297       4.518371        -4.120330           -3.669256\n",
              "2    2020-06-24    6.134412       7.679739        -2.053215           -0.507889\n",
              "3    2020-06-08    5.045353       5.097403        -3.142274           -3.090225\n",
              "4    2020-09-12    6.224557       5.516194        -1.963070           -2.671433\n",
              "..          ...         ...            ...              ...                 ...\n",
              "361  2020-04-05    3.771187       3.306452        -4.416440           -4.881176\n",
              "362  2020-05-01    4.023622       7.117794        -4.164006           -1.069833\n",
              "363  2020-10-25    4.873666       4.195402        -3.313961           -3.992225\n",
              "364  2020-12-28    6.751881       4.846154        -1.435746           -3.341473\n",
              "365  2020-12-19    5.600877       7.357473        -2.586750           -0.830154\n",
              "\n",
              "[366 rows x 5 columns]"
            ]
          },
          "metadata": {
            "tags": []
          },
          "execution_count": 24
        },
        {
          "output_type": "stream",
          "text": [
            "time: 3min 23s (started: 2021-04-22 19:28:32 +00:00)\n"
          ],
          "name": "stdout"
        }
      ]
    },
    {
      "cell_type": "code",
      "metadata": {
        "colab": {
          "base_uri": "https://localhost:8080/"
        },
        "id": "MtFPRkkEZtzL",
        "outputId": "c01d01ff-9f7e-4543-9ded-7484e295d4bf"
      },
      "source": [
        "df = df.rename(columns={'top20_perc': 'Top 20 %', 'bottom20_perc': 'Bottom 20 %','top20_deviation': 'Top 20 % Deviation', 'bottom20_deviation': 'Bottom 20 % Deviation'})"
      ],
      "execution_count": null,
      "outputs": [
        {
          "output_type": "stream",
          "text": [
            "time: 3.26 ms (started: 2021-04-22 19:31:55 +00:00)\n"
          ],
          "name": "stdout"
        }
      ]
    },
    {
      "cell_type": "code",
      "metadata": {
        "colab": {
          "base_uri": "https://localhost:8080/",
          "height": 385
        },
        "id": "pTTAkF1Iwesw",
        "outputId": "dece9e71-394e-4171-a98c-f95b8e2007d4"
      },
      "source": [
        "# analysis for the entire year on monthly basis\n",
        "df_str = df.copy(deep=True) #make a deep copy\n",
        "\n",
        "df_str['date'] = pd.to_datetime(df_str['date'],utc= True) # extract the months\n",
        "\n",
        "df_str = df_str.groupby([df_str['date']]).mean().rolling(10).mean()[0:] #find the mean for the days and roll up for every 10 days\n",
        "\n",
        "chart = alt.Chart(df_str.reset_index()).transform_fold(\n",
        "    fold=['Bottom 20 %', 'Top 20 %'],\n",
        "    as_ = ['Poverty %','part_time_value']\n",
        "    \n",
        "    ).mark_line().encode(\n",
        "      x='date:T',\n",
        "      y= alt.Y('part_time_value:Q', title = 'Part Time %'), color='Poverty %:N'\n",
        "    ).properties(width = 1000)\n",
        "chart"
      ],
      "execution_count": null,
      "outputs": [
        {
          "output_type": "execute_result",
          "data": {
            "text/plain": [
              "alt.Chart(...)"
            ],
            "text/html": [
              "\n",
              "<div id=\"altair-viz-ac0cd8b7e68b463d9205d84c96190c98\"></div>\n",
              "<script type=\"text/javascript\">\n",
              "  (function(spec, embedOpt){\n",
              "    let outputDiv = document.currentScript.previousElementSibling;\n",
              "    if (outputDiv.id !== \"altair-viz-ac0cd8b7e68b463d9205d84c96190c98\") {\n",
              "      outputDiv = document.getElementById(\"altair-viz-ac0cd8b7e68b463d9205d84c96190c98\");\n",
              "    }\n",
              "    const paths = {\n",
              "      \"vega\": \"https://cdn.jsdelivr.net/npm//vega@5?noext\",\n",
              "      \"vega-lib\": \"https://cdn.jsdelivr.net/npm//vega-lib?noext\",\n",
              "      \"vega-lite\": \"https://cdn.jsdelivr.net/npm//vega-lite@4.8.1?noext\",\n",
              "      \"vega-embed\": \"https://cdn.jsdelivr.net/npm//vega-embed@6?noext\",\n",
              "    };\n",
              "\n",
              "    function loadScript(lib) {\n",
              "      return new Promise(function(resolve, reject) {\n",
              "        var s = document.createElement('script');\n",
              "        s.src = paths[lib];\n",
              "        s.async = true;\n",
              "        s.onload = () => resolve(paths[lib]);\n",
              "        s.onerror = () => reject(`Error loading script: ${paths[lib]}`);\n",
              "        document.getElementsByTagName(\"head\")[0].appendChild(s);\n",
              "      });\n",
              "    }\n",
              "\n",
              "    function showError(err) {\n",
              "      outputDiv.innerHTML = `<div class=\"error\" style=\"color:red;\">${err}</div>`;\n",
              "      throw err;\n",
              "    }\n",
              "\n",
              "    function displayChart(vegaEmbed) {\n",
              "      vegaEmbed(outputDiv, spec, embedOpt)\n",
              "        .catch(err => showError(`Javascript Error: ${err.message}<br>This usually means there's a typo in your chart specification. See the javascript console for the full traceback.`));\n",
              "    }\n",
              "\n",
              "    if(typeof define === \"function\" && define.amd) {\n",
              "      requirejs.config({paths});\n",
              "      require([\"vega-embed\"], displayChart, err => showError(`Error loading script: ${err.message}`));\n",
              "    } else if (typeof vegaEmbed === \"function\") {\n",
              "      displayChart(vegaEmbed);\n",
              "    } else {\n",
              "      loadScript(\"vega\")\n",
              "        .then(() => loadScript(\"vega-lite\"))\n",
              "        .then(() => loadScript(\"vega-embed\"))\n",
              "        .catch(showError)\n",
              "        .then(() => displayChart(vegaEmbed));\n",
              "    }\n",
              "  })({\"config\": {\"view\": {\"continuousHeight\": 300, \"continuousWidth\": 400}, \"range\": {\"category\": {\"scheme\": \"redblue\"}}}, \"data\": {\"name\": \"data-5db292537904feac72a0552ce7c870c2\"}, \"mark\": \"line\", \"encoding\": {\"color\": {\"type\": \"nominal\", \"field\": \"Poverty %\"}, \"x\": {\"type\": \"temporal\", \"field\": \"date\"}, \"y\": {\"type\": \"quantitative\", \"field\": \"part_time_value\", \"title\": \"Part Time %\"}}, \"transform\": [{\"fold\": [\"Bottom 20 %\", \"Top 20 %\"], \"as\": [\"Poverty %\", \"part_time_value\"]}], \"width\": 1000, \"$schema\": \"https://vega.github.io/schema/vega-lite/v4.8.1.json\", \"datasets\": {\"data-5db292537904feac72a0552ce7c870c2\": [{\"date\": \"2020-01-01T00:00:00+00:00\", \"Top 20 %\": null, \"Bottom 20 %\": null, \"Top 20 % Deviation\": null, \"Bottom 20 % Deviation\": null}, {\"date\": \"2020-01-02T00:00:00+00:00\", \"Top 20 %\": null, \"Bottom 20 %\": null, \"Top 20 % Deviation\": null, \"Bottom 20 % Deviation\": null}, {\"date\": \"2020-01-03T00:00:00+00:00\", \"Top 20 %\": null, \"Bottom 20 %\": null, \"Top 20 % Deviation\": null, \"Bottom 20 % Deviation\": null}, {\"date\": \"2020-01-04T00:00:00+00:00\", \"Top 20 %\": null, \"Bottom 20 %\": null, \"Top 20 % Deviation\": null, \"Bottom 20 % Deviation\": null}, {\"date\": \"2020-01-05T00:00:00+00:00\", \"Top 20 %\": null, \"Bottom 20 %\": null, \"Top 20 % Deviation\": null, \"Bottom 20 % Deviation\": null}, {\"date\": \"2020-01-06T00:00:00+00:00\", \"Top 20 %\": null, \"Bottom 20 %\": null, \"Top 20 % Deviation\": null, \"Bottom 20 % Deviation\": null}, {\"date\": \"2020-01-07T00:00:00+00:00\", \"Top 20 %\": null, \"Bottom 20 %\": null, \"Top 20 % Deviation\": null, \"Bottom 20 % Deviation\": null}, {\"date\": \"2020-01-08T00:00:00+00:00\", \"Top 20 %\": null, \"Bottom 20 %\": null, \"Top 20 % Deviation\": null, \"Bottom 20 % Deviation\": null}, {\"date\": \"2020-01-09T00:00:00+00:00\", \"Top 20 %\": null, \"Bottom 20 %\": null, \"Top 20 % Deviation\": null, \"Bottom 20 % Deviation\": null}, {\"date\": \"2020-01-10T00:00:00+00:00\", \"Top 20 %\": 9.374826065788287, \"Bottom 20 %\": 9.738158505870489, \"Top 20 % Deviation\": 1.1871988950685686, \"Bottom 20 % Deviation\": 1.5505313351507712}, {\"date\": \"2020-01-11T00:00:00+00:00\", \"Top 20 %\": 9.590557257494059, \"Bottom 20 %\": 9.853950572882066, \"Top 20 % Deviation\": 1.4029300867743386, \"Bottom 20 % Deviation\": 1.6663234021623505}, {\"date\": \"2020-01-12T00:00:00+00:00\", \"Top 20 %\": 9.139897741754517, \"Bottom 20 %\": 9.147348841280337, \"Top 20 % Deviation\": 0.9522705710347982, \"Bottom 20 % Deviation\": 0.9597216705606193}, {\"date\": \"2020-01-13T00:00:00+00:00\", \"Top 20 %\": 9.363287303991282, \"Bottom 20 %\": 8.85477637751222, \"Top 20 % Deviation\": 1.1756601332715646, \"Bottom 20 % Deviation\": 0.6671492067925033}, {\"date\": \"2020-01-14T00:00:00+00:00\", \"Top 20 %\": 10.025042835853863, \"Bottom 20 %\": 8.845396868132712, \"Top 20 % Deviation\": 1.8374156651341458, \"Bottom 20 % Deviation\": 0.6577696974129938}, {\"date\": \"2020-01-15T00:00:00+00:00\", \"Top 20 %\": 10.884936021991894, \"Bottom 20 %\": 8.780614428350273, \"Top 20 % Deviation\": 2.697308851272177, \"Bottom 20 % Deviation\": 0.5929872576305539}, {\"date\": \"2020-01-16T00:00:00+00:00\", \"Top 20 %\": 11.018202565590075, \"Bottom 20 %\": 8.638444098679944, \"Top 20 % Deviation\": 2.830575394870356, \"Bottom 20 % Deviation\": 0.45081692796022443}, {\"date\": \"2020-01-17T00:00:00+00:00\", \"Top 20 %\": 11.115237442258387, \"Bottom 20 %\": 8.01987484449425, \"Top 20 % Deviation\": 2.9276102715386676, \"Bottom 20 % Deviation\": -0.1677523262254681}, {\"date\": \"2020-01-18T00:00:00+00:00\", \"Top 20 %\": 10.492238401132187, \"Bottom 20 %\": 8.919775384420365, \"Top 20 % Deviation\": 2.3046112304124664, \"Bottom 20 % Deviation\": 0.7321482137006472}, {\"date\": \"2020-01-19T00:00:00+00:00\", \"Top 20 %\": 9.971030565687524, \"Bottom 20 %\": 9.03104662683915, \"Top 20 % Deviation\": 1.7834033949678045, \"Bottom 20 % Deviation\": 0.8434194561194308}, {\"date\": \"2020-01-20T00:00:00+00:00\", \"Top 20 %\": 9.356883588469259, \"Bottom 20 %\": 8.755727527402795, \"Top 20 % Deviation\": 1.1692564177495393, \"Bottom 20 % Deviation\": 0.5681003566830762}, {\"date\": \"2020-01-21T00:00:00+00:00\", \"Top 20 %\": 9.866189292314615, \"Bottom 20 %\": 8.813334850635119, \"Top 20 % Deviation\": 1.6785621215948967, \"Bottom 20 % Deviation\": 0.6257076799153994}, {\"date\": \"2020-01-22T00:00:00+00:00\", \"Top 20 %\": 10.342892415058333, \"Bottom 20 %\": 8.813975876276146, \"Top 20 % Deviation\": 2.155265244338615, \"Bottom 20 % Deviation\": 0.626348705556425}, {\"date\": \"2020-01-23T00:00:00+00:00\", \"Top 20 %\": 10.216820734454522, \"Bottom 20 %\": 9.082213606150706, \"Top 20 % Deviation\": 2.029193563734803, \"Bottom 20 % Deviation\": 0.8945864354309835}, {\"date\": \"2020-01-24T00:00:00+00:00\", \"Top 20 %\": 10.07595120986564, \"Bottom 20 %\": 8.768649392586493, \"Top 20 % Deviation\": 1.8883240391459197, \"Bottom 20 % Deviation\": 0.5810222218667701}, {\"date\": \"2020-01-25T00:00:00+00:00\", \"Top 20 %\": 9.325790479497956, \"Bottom 20 %\": 8.771202395139493, \"Top 20 % Deviation\": 1.1381633087782363, \"Bottom 20 % Deviation\": 0.5835752244197727}, {\"date\": \"2020-01-26T00:00:00+00:00\", \"Top 20 %\": 8.6389695839355, \"Bottom 20 %\": 8.812140330443626, \"Top 20 % Deviation\": 0.45134241321578034, \"Bottom 20 % Deviation\": 0.6245131597239051}, {\"date\": \"2020-01-27T00:00:00+00:00\", \"Top 20 %\": 8.506782561354573, \"Bottom 20 %\": 9.375911604831337, \"Top 20 % Deviation\": 0.31915539063485115, \"Bottom 20 % Deviation\": 1.1882844341116179}, {\"date\": \"2020-01-28T00:00:00+00:00\", \"Top 20 %\": 9.164335102146264, \"Bottom 20 %\": 8.872309239347413, \"Top 20 % Deviation\": 0.9767079314265444, \"Bottom 20 % Deviation\": 0.6846820686276931}, {\"date\": \"2020-01-29T00:00:00+00:00\", \"Top 20 %\": 9.920348188475, \"Bottom 20 %\": 9.36928939465371, \"Top 20 % Deviation\": 1.7327210177552785, \"Bottom 20 % Deviation\": 1.1816622239339916}, {\"date\": \"2020-01-30T00:00:00+00:00\", \"Top 20 %\": 10.552415757557027, \"Bottom 20 %\": 9.12749902128439, \"Top 20 % Deviation\": 2.3647885868373044, \"Bottom 20 % Deviation\": 0.9398718505646707}, {\"date\": \"2020-01-31T00:00:00+00:00\", \"Top 20 %\": 10.704744118429371, \"Bottom 20 %\": 9.204503949599802, \"Top 20 % Deviation\": 2.5171169477096482, \"Bottom 20 % Deviation\": 1.016876778880083}, {\"date\": \"2020-02-01T00:00:00+00:00\", \"Top 20 %\": 10.297275689945767, \"Bottom 20 %\": 9.184815304911158, \"Top 20 % Deviation\": 2.109648519226043, \"Bottom 20 % Deviation\": 0.9971881341914385}, {\"date\": \"2020-02-02T00:00:00+00:00\", \"Top 20 %\": 9.685880313656188, \"Bottom 20 %\": 9.086776089224884, \"Top 20 % Deviation\": 1.4982531429364632, \"Bottom 20 % Deviation\": 0.899148918505164}, {\"date\": \"2020-02-03T00:00:00+00:00\", \"Top 20 %\": 9.793540232665446, \"Bottom 20 %\": 9.515479792928586, \"Top 20 % Deviation\": 1.6059130619457225, \"Bottom 20 % Deviation\": 1.3278526222088676}, {\"date\": \"2020-02-04T00:00:00+00:00\", \"Top 20 %\": 10.333342678406485, \"Bottom 20 %\": 9.478907170149068, \"Top 20 % Deviation\": 2.145715507686759, \"Bottom 20 % Deviation\": 1.2912799994293482}, {\"date\": \"2020-02-05T00:00:00+00:00\", \"Top 20 %\": 10.971770208816697, \"Bottom 20 %\": 9.537224817971486, \"Top 20 % Deviation\": 2.784143038096971, \"Bottom 20 % Deviation\": 1.3495976472517668}, {\"date\": \"2020-02-06T00:00:00+00:00\", \"Top 20 %\": 11.0697140672805, \"Bottom 20 %\": 9.962517662381979, \"Top 20 % Deviation\": 2.882086896560776, \"Bottom 20 % Deviation\": 1.774890491662258}, {\"date\": \"2020-02-07T00:00:00+00:00\", \"Top 20 %\": 10.818578830277342, \"Bottom 20 %\": 9.75657896506397, \"Top 20 % Deviation\": 2.6309516595576183, \"Bottom 20 % Deviation\": 1.5689517943442506}, {\"date\": \"2020-02-08T00:00:00+00:00\", \"Top 20 %\": 10.077551863013003, \"Bottom 20 %\": 8.862816781828103, \"Top 20 % Deviation\": 1.889924692293278, \"Bottom 20 % Deviation\": 0.6751896111083833}, {\"date\": \"2020-02-09T00:00:00+00:00\", \"Top 20 %\": 9.365052167185917, \"Bottom 20 %\": 8.763967033445644, \"Top 20 % Deviation\": 1.1774249964661923, \"Bottom 20 % Deviation\": 0.5763398627259246}, {\"date\": \"2020-02-10T00:00:00+00:00\", \"Top 20 %\": 9.231769069835517, \"Bottom 20 %\": 8.640833202467238, \"Top 20 % Deviation\": 1.0441418991157918, \"Bottom 20 % Deviation\": 0.4532060317475189}, {\"date\": \"2020-02-11T00:00:00+00:00\", \"Top 20 %\": 9.778239283532688, \"Bottom 20 %\": 8.532608094242129, \"Top 20 % Deviation\": 1.5906121128129636, \"Bottom 20 % Deviation\": 0.3449809235224105}, {\"date\": \"2020-02-12T00:00:00+00:00\", \"Top 20 %\": 10.489628246469781, \"Bottom 20 %\": 9.46689269917321, \"Top 20 % Deviation\": 2.302001075750057, \"Bottom 20 % Deviation\": 1.2792655284534917}, {\"date\": \"2020-02-13T00:00:00+00:00\", \"Top 20 %\": 10.449020392522318, \"Bottom 20 %\": 9.627678484958995, \"Top 20 % Deviation\": 2.261393221802593, \"Bottom 20 % Deviation\": 1.4400513142392775}, {\"date\": \"2020-02-14T00:00:00+00:00\", \"Top 20 %\": 10.545505101896351, \"Bottom 20 %\": 10.007241450728857, \"Top 20 % Deviation\": 2.3578779311766276, \"Bottom 20 % Deviation\": 1.8196142800091397}, {\"date\": \"2020-02-15T00:00:00+00:00\", \"Top 20 %\": 9.934907311877144, \"Bottom 20 %\": 9.587806047422486, \"Top 20 % Deviation\": 1.7472801411574204, \"Bottom 20 % Deviation\": 1.4001788767027687}, {\"date\": \"2020-02-16T00:00:00+00:00\", \"Top 20 %\": 9.30569495726634, \"Bottom 20 %\": 9.189028354527144, \"Top 20 % Deviation\": 1.1180677865466164, \"Bottom 20 % Deviation\": 1.0014011838074288}, {\"date\": \"2020-02-17T00:00:00+00:00\", \"Top 20 %\": 8.79353940488799, \"Bottom 20 %\": 8.990928939322467, \"Top 20 % Deviation\": 0.6059122341682673, \"Bottom 20 % Deviation\": 0.8033017686027506}, {\"date\": \"2020-02-18T00:00:00+00:00\", \"Top 20 %\": 9.024420183964855, \"Bottom 20 %\": 9.012710967252037, \"Top 20 % Deviation\": 0.8367930132451317, \"Bottom 20 % Deviation\": 0.8250837965323197}, {\"date\": \"2020-02-19T00:00:00+00:00\", \"Top 20 %\": 9.484389615159307, \"Bottom 20 %\": 8.939857418931197, \"Top 20 % Deviation\": 1.2967624444395844, \"Bottom 20 % Deviation\": 0.7522302482114815}, {\"date\": \"2020-02-20T00:00:00+00:00\", \"Top 20 %\": 9.308134022518422, \"Bottom 20 %\": 9.117624393489617, \"Top 20 % Deviation\": 1.1205068517986994, \"Bottom 20 % Deviation\": 0.9299972227698998}, {\"date\": \"2020-02-21T00:00:00+00:00\", \"Top 20 %\": 8.988547499456587, \"Bottom 20 %\": 9.134182835048057, \"Top 20 % Deviation\": 0.8009203287368638, \"Bottom 20 % Deviation\": 0.9465556643283414}, {\"date\": \"2020-02-22T00:00:00+00:00\", \"Top 20 %\": 8.394280564517494, \"Bottom 20 %\": 8.025617250119343, \"Top 20 % Deviation\": 0.20665339379777148, \"Bottom 20 % Deviation\": -0.1620099206003726}, {\"date\": \"2020-02-23T00:00:00+00:00\", \"Top 20 %\": 7.827242321225445, \"Bottom 20 %\": 7.356550295841122, \"Top 20 % Deviation\": -0.36038484949427796, \"Bottom 20 % Deviation\": -0.8310768748785945}, {\"date\": \"2020-02-24T00:00:00+00:00\", \"Top 20 %\": 7.728914230679925, \"Bottom 20 %\": 6.87990194419277, \"Top 20 % Deviation\": -0.45871294003979857, \"Bottom 20 % Deviation\": -1.3077252265269461}, {\"date\": \"2020-02-25T00:00:00+00:00\", \"Top 20 %\": 7.848997968506927, \"Bottom 20 %\": 7.074359660389616, \"Top 20 % Deviation\": -0.33862920221279713, \"Bottom 20 % Deviation\": -1.1132675103300995}, {\"date\": \"2020-02-26T00:00:00+00:00\", \"Top 20 %\": 8.534722082016975, \"Bottom 20 %\": 6.978283231861107, \"Top 20 % Deviation\": 0.34709491129725023, \"Bottom 20 % Deviation\": -1.2093439388586102}, {\"date\": \"2020-02-27T00:00:00+00:00\", \"Top 20 %\": 9.33178305329255, \"Bottom 20 %\": 7.021828243915877, \"Top 20 % Deviation\": 1.1441558825728262, \"Bottom 20 % Deviation\": -1.1657989268038407}, {\"date\": \"2020-02-28T00:00:00+00:00\", \"Top 20 %\": 9.711955982898985, \"Bottom 20 %\": 6.88568555511402, \"Top 20 % Deviation\": 1.5243288121792606, \"Bottom 20 % Deviation\": -1.3019416156056984}, {\"date\": \"2020-02-29T00:00:00+00:00\", \"Top 20 %\": 9.343002460677956, \"Bottom 20 %\": 7.536021330449796, \"Top 20 % Deviation\": 1.1553752899582317, \"Bottom 20 % Deviation\": -0.6516058402699231}, {\"date\": \"2020-03-01T00:00:00+00:00\", \"Top 20 %\": 8.96162543070692, \"Bottom 20 %\": 7.235201002318543, \"Top 20 % Deviation\": 0.7739982599871947, \"Bottom 20 % Deviation\": -0.9524261684011754}, {\"date\": \"2020-03-02T00:00:00+00:00\", \"Top 20 %\": 9.241741718847504, \"Bottom 20 %\": 6.895931811496146, \"Top 20 % Deviation\": 1.0541145481277792, \"Bottom 20 % Deviation\": -1.2916953592235718}, {\"date\": \"2020-03-03T00:00:00+00:00\", \"Top 20 %\": 9.836928427839911, \"Bottom 20 %\": 6.481277217264086, \"Top 20 % Deviation\": 1.649301257120186, \"Bottom 20 % Deviation\": -1.7063499534556308}, {\"date\": \"2020-03-04T00:00:00+00:00\", \"Top 20 %\": 10.462173519320505, \"Bottom 20 %\": 6.278154813114417, \"Top 20 % Deviation\": 2.27454634860078, \"Bottom 20 % Deviation\": -1.9094723576052992}, {\"date\": \"2020-03-05T00:00:00+00:00\", \"Top 20 %\": 10.48462081413677, \"Bottom 20 %\": 6.140711374200391, \"Top 20 % Deviation\": 2.296993643417044, \"Bottom 20 % Deviation\": -2.0469157965193263}, {\"date\": \"2020-03-06T00:00:00+00:00\", \"Top 20 %\": 10.88386790827688, \"Bottom 20 %\": 6.093536281921684, \"Top 20 % Deviation\": 2.6962407375571558, \"Bottom 20 % Deviation\": -2.0940908887980347}, {\"date\": \"2020-03-07T00:00:00+00:00\", \"Top 20 %\": 10.277005623779647, \"Bottom 20 %\": 6.0575780784155615, \"Top 20 % Deviation\": 2.0893784530599233, \"Bottom 20 % Deviation\": -2.1300490923041564}, {\"date\": \"2020-03-08T00:00:00+00:00\", \"Top 20 %\": 9.440843472334706, \"Bottom 20 %\": 6.132004276437265, \"Top 20 % Deviation\": 1.2532163016149807, \"Bottom 20 % Deviation\": -2.055622894282453}, {\"date\": \"2020-03-09T00:00:00+00:00\", \"Top 20 %\": 9.360351179216758, \"Bottom 20 %\": 6.057114711473963, \"Top 20 % Deviation\": 1.1727240084970323, \"Bottom 20 % Deviation\": -2.1305124592457556}, {\"date\": \"2020-03-10T00:00:00+00:00\", \"Top 20 %\": 9.903648571951633, \"Bottom 20 %\": 5.872825158763357, \"Top 20 % Deviation\": 1.7160214012319082, \"Bottom 20 % Deviation\": -2.314802011956361}, {\"date\": \"2020-03-11T00:00:00+00:00\", \"Top 20 %\": 10.534183335720233, \"Bottom 20 %\": 5.874063358961469, \"Top 20 % Deviation\": 2.3465561650005076, \"Bottom 20 % Deviation\": -2.313563811758249}, {\"date\": \"2020-03-12T00:00:00+00:00\", \"Top 20 %\": 10.469016960616255, \"Bottom 20 %\": 6.10395088667086, \"Top 20 % Deviation\": 2.2813897898965294, \"Bottom 20 % Deviation\": -2.0836762840488587}, {\"date\": \"2020-03-13T00:00:00+00:00\", \"Top 20 %\": 10.209106420753676, \"Bottom 20 %\": 6.083117553337527, \"Top 20 % Deviation\": 2.021479250033951, \"Bottom 20 % Deviation\": -2.104509617382192}, {\"date\": \"2020-03-14T00:00:00+00:00\", \"Top 20 %\": 9.556308470476228, \"Bottom 20 %\": 6.155430948845975, \"Top 20 % Deviation\": 1.3686812997565037, \"Bottom 20 % Deviation\": -2.0321962218737424}, {\"date\": \"2020-03-15T00:00:00+00:00\", \"Top 20 %\": 8.831614919683748, \"Bottom 20 %\": 5.908612618536184, \"Top 20 % Deviation\": 0.6439877489640222, \"Bottom 20 % Deviation\": -2.2790145521835337}, {\"date\": \"2020-03-16T00:00:00+00:00\", \"Top 20 %\": 8.37157759082309, \"Bottom 20 %\": 5.53717220796026, \"Top 20 % Deviation\": 0.18395042010336599, \"Bottom 20 % Deviation\": -2.6504549627594587}, {\"date\": \"2020-03-17T00:00:00+00:00\", \"Top 20 %\": 8.298281693286944, \"Bottom 20 %\": 5.393216164004215, \"Top 20 % Deviation\": 0.11065452256721882, \"Bottom 20 % Deviation\": -2.794411006715502}, {\"date\": \"2020-03-18T00:00:00+00:00\", \"Top 20 %\": 8.341086166339535, \"Bottom 20 %\": 5.080095015127253, \"Top 20 % Deviation\": 0.1534589956198098, \"Bottom 20 % Deviation\": -3.107532155592465}, {\"date\": \"2020-03-19T00:00:00+00:00\", \"Top 20 %\": 7.703900856153126, \"Bottom 20 %\": 5.106429408905973, \"Top 20 % Deviation\": -0.48372631456659854, \"Bottom 20 % Deviation\": -3.081197761813745}, {\"date\": \"2020-03-20T00:00:00+00:00\", \"Top 20 %\": 6.991311136758979, \"Bottom 20 %\": 4.65230955105527, \"Top 20 % Deviation\": -1.196316033960745, \"Bottom 20 % Deviation\": -3.535317619664449}, {\"date\": \"2020-03-21T00:00:00+00:00\", \"Top 20 %\": 6.196145406112215, \"Bottom 20 %\": 4.630323051537429, \"Top 20 % Deviation\": -1.9914817646075087, \"Bottom 20 % Deviation\": -3.5573041191822887}, {\"date\": \"2020-03-22T00:00:00+00:00\", \"Top 20 %\": 5.572996452083783, \"Bottom 20 %\": 4.168131843077565, \"Top 20 % Deviation\": -2.6146307186359423, \"Bottom 20 % Deviation\": -4.019495327642154}, {\"date\": \"2020-03-23T00:00:00+00:00\", \"Top 20 %\": 5.088925820095836, \"Bottom 20 %\": 4.167360238139294, \"Top 20 % Deviation\": -3.0987013506238883, \"Bottom 20 % Deviation\": -4.020266932580426}, {\"date\": \"2020-03-24T00:00:00+00:00\", \"Top 20 %\": 4.991972259405157, \"Bottom 20 %\": 4.230722902045435, \"Top 20 % Deviation\": -3.195654911314567, \"Bottom 20 % Deviation\": -3.9569042686742835}, {\"date\": \"2020-03-25T00:00:00+00:00\", \"Top 20 %\": 4.96939501397229, \"Bottom 20 %\": 4.3828418141263965, \"Top 20 % Deviation\": -3.2182321567474355, \"Bottom 20 % Deviation\": -3.8047853565933223}, {\"date\": \"2020-03-26T00:00:00+00:00\", \"Top 20 %\": 4.784271467677252, \"Bottom 20 %\": 4.967705279286472, \"Top 20 % Deviation\": -3.403355703042474, \"Bottom 20 % Deviation\": -3.219921891433247}, {\"date\": \"2020-03-27T00:00:00+00:00\", \"Top 20 %\": 4.6539150320436, \"Bottom 20 %\": 5.1010386126198055, \"Top 20 % Deviation\": -3.533712138676127, \"Bottom 20 % Deviation\": -3.086588558099914}, {\"date\": \"2020-03-28T00:00:00+00:00\", \"Top 20 %\": 4.512568354707807, \"Bottom 20 %\": 5.3553990777360845, \"Top 20 % Deviation\": -3.67505881601192, \"Bottom 20 % Deviation\": -2.8322280929836348}, {\"date\": \"2020-03-29T00:00:00+00:00\", \"Top 20 %\": 4.3877028285864395, \"Bottom 20 %\": 5.565037619344612, \"Top 20 % Deviation\": -3.799924342133288, \"Bottom 20 % Deviation\": -2.622589551375106}, {\"date\": \"2020-03-30T00:00:00+00:00\", \"Top 20 %\": 4.404610403193544, \"Bottom 20 %\": 5.6374748076837, \"Top 20 % Deviation\": -3.7830167675261825, \"Bottom 20 % Deviation\": -2.550152363036019}, {\"date\": \"2020-03-31T00:00:00+00:00\", \"Top 20 %\": 4.45482774280542, \"Bottom 20 %\": 5.595876447027962, \"Top 20 % Deviation\": -3.732799427914307, \"Bottom 20 % Deviation\": -2.591750723691757}, {\"date\": \"2020-04-01T00:00:00+00:00\", \"Top 20 %\": 4.378641188571402, \"Bottom 20 %\": 5.881513812772534, \"Top 20 % Deviation\": -3.808985982148326, \"Bottom 20 % Deviation\": -2.306113357947184}, {\"date\": \"2020-04-02T00:00:00+00:00\", \"Top 20 %\": 4.345251899126586, \"Bottom 20 %\": 6.5942215079363695, \"Top 20 % Deviation\": -3.8423752715931414, \"Bottom 20 % Deviation\": -1.5934056627833488}, {\"date\": \"2020-04-03T00:00:00+00:00\", \"Top 20 %\": 4.3808370205286655, \"Bottom 20 %\": 6.666064718904967, \"Top 20 % Deviation\": -3.8067901501910617, \"Bottom 20 % Deviation\": -1.5215624518147508}, {\"date\": \"2020-04-04T00:00:00+00:00\", \"Top 20 %\": 4.277120467592033, \"Bottom 20 %\": 6.572927464003006, \"Top 20 % Deviation\": -3.9105067031276945, \"Bottom 20 % Deviation\": -1.6146997067167117}, {\"date\": \"2020-04-05T00:00:00+00:00\", \"Top 20 %\": 4.203803978055377, \"Bottom 20 %\": 5.978431382355476, \"Top 20 % Deviation\": -3.983823192664351, \"Bottom 20 % Deviation\": -2.209195788364242}, {\"date\": \"2020-04-06T00:00:00+00:00\", \"Top 20 %\": 4.116892989288821, \"Bottom 20 %\": 5.844007568621317, \"Top 20 % Deviation\": -4.070734181430906, \"Bottom 20 % Deviation\": -2.343619602098401}, {\"date\": \"2020-04-07T00:00:00+00:00\", \"Top 20 %\": 4.0927430977447665, \"Bottom 20 %\": 5.810961591609822, \"Top 20 % Deviation\": -4.094884072974962, \"Bottom 20 % Deviation\": -2.376665579109895}, {\"date\": \"2020-04-08T00:00:00+00:00\", \"Top 20 %\": 4.09518507069086, \"Bottom 20 %\": 5.658288669550575, \"Top 20 % Deviation\": -4.092442100028867, \"Bottom 20 % Deviation\": -2.529338501169142}, {\"date\": \"2020-04-09T00:00:00+00:00\", \"Top 20 %\": 4.028633308869865, \"Bottom 20 %\": 5.526202853595593, \"Top 20 % Deviation\": -4.158993861849862, \"Bottom 20 % Deviation\": -2.6614243171241236}, {\"date\": \"2020-04-10T00:00:00+00:00\", \"Top 20 %\": 3.952208337093566, \"Bottom 20 %\": 5.39728839373851, \"Top 20 % Deviation\": -4.235418833626161, \"Bottom 20 % Deviation\": -2.7903387769812062}, {\"date\": \"2020-04-11T00:00:00+00:00\", \"Top 20 %\": 4.027681735868054, \"Bottom 20 %\": 5.274031563888904, \"Top 20 % Deviation\": -4.1599454348516725, \"Bottom 20 % Deviation\": -2.9135956068308118}, {\"date\": \"2020-04-12T00:00:00+00:00\", \"Top 20 %\": 3.9191805948999052, \"Bottom 20 %\": 4.6244441419442115, \"Top 20 % Deviation\": -4.268446575819821, \"Bottom 20 % Deviation\": -3.5631830287755037}, {\"date\": \"2020-04-13T00:00:00+00:00\", \"Top 20 %\": 3.8611160520019623, \"Bottom 20 %\": 4.584795213852618, \"Top 20 % Deviation\": -4.326511118717764, \"Bottom 20 % Deviation\": -3.602831956867098}, {\"date\": \"2020-04-14T00:00:00+00:00\", \"Top 20 %\": 3.943810182204877, \"Bottom 20 %\": 4.736093819598857, \"Top 20 % Deviation\": -4.2438169885148485, \"Bottom 20 % Deviation\": -3.4515333511208595}, {\"date\": \"2020-04-15T00:00:00+00:00\", \"Top 20 %\": 4.039172240080183, \"Bottom 20 %\": 4.78224291668174, \"Top 20 % Deviation\": -4.148454930639542, \"Bottom 20 % Deviation\": -3.405384254037977}, {\"date\": \"2020-04-16T00:00:00+00:00\", \"Top 20 %\": 4.124536568897697, \"Bottom 20 %\": 4.826556840306009, \"Top 20 % Deviation\": -4.0630906018220285, \"Bottom 20 % Deviation\": -3.361070330413708}, {\"date\": \"2020-04-17T00:00:00+00:00\", \"Top 20 %\": 4.154432781279243, \"Bottom 20 %\": 4.528942439959012, \"Top 20 % Deviation\": -4.033194389440482, \"Bottom 20 % Deviation\": -3.6586847307607044}, {\"date\": \"2020-04-18T00:00:00+00:00\", \"Top 20 %\": 4.087693365779395, \"Bottom 20 %\": 4.355722504875402, \"Top 20 % Deviation\": -4.0999338049403296, \"Bottom 20 % Deviation\": -3.831904665844315}, {\"date\": \"2020-04-19T00:00:00+00:00\", \"Top 20 %\": 4.117156174594067, \"Bottom 20 %\": 4.883734826495262, \"Top 20 % Deviation\": -4.070470996125659, \"Bottom 20 % Deviation\": -3.303892344224456}, {\"date\": \"2020-04-20T00:00:00+00:00\", \"Top 20 %\": 4.204482734386423, \"Bottom 20 %\": 4.963019576832644, \"Top 20 % Deviation\": -3.983144436333302, \"Bottom 20 % Deviation\": -3.224607593887074}, {\"date\": \"2020-04-21T00:00:00+00:00\", \"Top 20 %\": 4.219813043831767, \"Bottom 20 %\": 4.872690277372475, \"Top 20 % Deviation\": -3.9678141268879585, \"Bottom 20 % Deviation\": -3.314936893347243}, {\"date\": \"2020-04-22T00:00:00+00:00\", \"Top 20 %\": 4.349382961307221, \"Bottom 20 %\": 4.731981646685588, \"Top 20 % Deviation\": -3.8382442094125055, \"Bottom 20 % Deviation\": -3.45564552403413}, {\"date\": \"2020-04-23T00:00:00+00:00\", \"Top 20 %\": 4.355895485886139, \"Bottom 20 %\": 4.596702948224168, \"Top 20 % Deviation\": -3.831731684833587, \"Bottom 20 % Deviation\": -3.5909242224955493}, {\"date\": \"2020-04-24T00:00:00+00:00\", \"Top 20 %\": 4.368278846203398, \"Bottom 20 %\": 4.488733168261116, \"Top 20 % Deviation\": -3.8193483245163287, \"Bottom 20 % Deviation\": -3.6988940024586006}, {\"date\": \"2020-04-25T00:00:00+00:00\", \"Top 20 %\": 4.33378238142857, \"Bottom 20 %\": 4.442584071178233, \"Top 20 % Deviation\": -3.853844789291158, \"Bottom 20 % Deviation\": -3.7450430995414834}, {\"date\": \"2020-04-26T00:00:00+00:00\", \"Top 20 %\": 4.25402799910332, \"Bottom 20 %\": 4.568448947043109, \"Top 20 % Deviation\": -3.9335991716164074, \"Bottom 20 % Deviation\": -3.6191782236766072}, {\"date\": \"2020-04-27T00:00:00+00:00\", \"Top 20 %\": 4.26877175679953, \"Bottom 20 %\": 4.6463519714604224, \"Top 20 % Deviation\": -3.9188554139201983, \"Bottom 20 % Deviation\": -3.5412751992592932}, {\"date\": \"2020-04-28T00:00:00+00:00\", \"Top 20 %\": 4.352802688836492, \"Bottom 20 %\": 5.060830000122215, \"Top 20 % Deviation\": -3.8348244818832358, \"Bottom 20 % Deviation\": -3.1267971705974995}, {\"date\": \"2020-04-29T00:00:00+00:00\", \"Top 20 %\": 4.397552950721336, \"Bottom 20 %\": 4.713781699585543, \"Top 20 % Deviation\": -3.790074219998391, \"Bottom 20 % Deviation\": -3.4738454711341715}, {\"date\": \"2020-04-30T00:00:00+00:00\", \"Top 20 %\": 4.375053891606112, \"Bottom 20 %\": 4.905009769760982, \"Top 20 % Deviation\": -3.8125732791136158, \"Bottom 20 % Deviation\": -3.2826174009587334}, {\"date\": \"2020-05-01T00:00:00+00:00\", \"Top 20 %\": 4.332629517413833, \"Bottom 20 %\": 5.202025139234895, \"Top 20 % Deviation\": -3.8549976533058947, \"Bottom 20 % Deviation\": -2.98560203148482}, {\"date\": \"2020-05-02T00:00:00+00:00\", \"Top 20 %\": 4.244100284914905, \"Bottom 20 %\": 5.401677917012672, \"Top 20 % Deviation\": -3.943526885804823, \"Bottom 20 % Deviation\": -2.7859492537070425}, {\"date\": \"2020-05-03T00:00:00+00:00\", \"Top 20 %\": 4.241821865952093, \"Bottom 20 %\": 5.752371450871263, \"Top 20 % Deviation\": -3.945805304767635, \"Bottom 20 % Deviation\": -2.4352557198484517}, {\"date\": \"2020-05-04T00:00:00+00:00\", \"Top 20 %\": 4.256454139352931, \"Bottom 20 %\": 5.760680549334079, \"Top 20 % Deviation\": -3.931173031366798, \"Bottom 20 % Deviation\": -2.4269466213856346}, {\"date\": \"2020-05-05T00:00:00+00:00\", \"Top 20 %\": 4.251665707365769, \"Bottom 20 %\": 5.907660172897457, \"Top 20 % Deviation\": -3.93596146335396, \"Bottom 20 % Deviation\": -2.2799669978222568}, {\"date\": \"2020-05-06T00:00:00+00:00\", \"Top 20 %\": 4.320890394809069, \"Bottom 20 %\": 5.676178691415976, \"Top 20 % Deviation\": -3.866736775910659, \"Bottom 20 % Deviation\": -2.511448479303738}, {\"date\": \"2020-05-07T00:00:00+00:00\", \"Top 20 %\": 4.337518408245093, \"Bottom 20 %\": 5.846321101828417, \"Top 20 % Deviation\": -3.8501087624746355, \"Bottom 20 % Deviation\": -2.341306068891297}, {\"date\": \"2020-05-08T00:00:00+00:00\", \"Top 20 %\": 4.3887570612921865, \"Bottom 20 %\": 5.683836693581297, \"Top 20 % Deviation\": -3.798870109427542, \"Bottom 20 % Deviation\": -2.503790477138417}, {\"date\": \"2020-05-09T00:00:00+00:00\", \"Top 20 %\": 4.316944167258187, \"Bottom 20 %\": 5.65524357617239, \"Top 20 % Deviation\": -3.8706830034615423, \"Bottom 20 % Deviation\": -2.532383594547324}, {\"date\": \"2020-05-10T00:00:00+00:00\", \"Top 20 %\": 4.251078279800945, \"Bottom 20 %\": 5.562245270130606, \"Top 20 % Deviation\": -3.9365488909187833, \"Bottom 20 % Deviation\": -2.6253819005891086}, {\"date\": \"2020-05-11T00:00:00+00:00\", \"Top 20 %\": 4.357330672621046, \"Bottom 20 %\": 5.470375323771496, \"Top 20 % Deviation\": -3.830296498098682, \"Bottom 20 % Deviation\": -2.717251846948219}, {\"date\": \"2020-05-12T00:00:00+00:00\", \"Top 20 %\": 4.451506860213372, \"Bottom 20 %\": 5.470375323771496, \"Top 20 % Deviation\": -3.736120310506356, \"Bottom 20 % Deviation\": -2.717251846948219}, {\"date\": \"2020-05-13T00:00:00+00:00\", \"Top 20 %\": 4.530872855657695, \"Bottom 20 %\": 6.373636168867283, \"Top 20 % Deviation\": -3.656754315062032, \"Bottom 20 % Deviation\": -1.8139910018524312}, {\"date\": \"2020-05-14T00:00:00+00:00\", \"Top 20 %\": 4.583735684579379, \"Bottom 20 %\": 6.5926422745909905, \"Top 20 % Deviation\": -3.603891486140347, \"Bottom 20 % Deviation\": -1.5949848961287232}, {\"date\": \"2020-05-15T00:00:00+00:00\", \"Top 20 %\": 4.63029736732534, \"Bottom 20 %\": 7.113151818095498, \"Top 20 % Deviation\": -3.5573298033943863, \"Bottom 20 % Deviation\": -1.074475352624215}, {\"date\": \"2020-05-16T00:00:00+00:00\", \"Top 20 %\": 4.616183555070379, \"Bottom 20 %\": 7.124407125313314, \"Top 20 % Deviation\": -3.571443615649347, \"Bottom 20 % Deviation\": -1.0632200454063987}, {\"date\": \"2020-05-17T00:00:00+00:00\", \"Top 20 %\": 4.521867154504274, \"Bottom 20 %\": 7.46548071445859, \"Top 20 % Deviation\": -3.665760016215452, \"Bottom 20 % Deviation\": -0.722146456261122}, {\"date\": \"2020-05-18T00:00:00+00:00\", \"Top 20 %\": 4.463149962061555, \"Bottom 20 %\": 7.583787845923615, \"Top 20 % Deviation\": -3.7244772086581706, \"Bottom 20 % Deviation\": -0.6038393247960957}, {\"date\": \"2020-05-19T00:00:00+00:00\", \"Top 20 %\": 4.5318543316169, \"Bottom 20 %\": 7.4910655698652295, \"Top 20 % Deviation\": -3.655772839102826, \"Bottom 20 % Deviation\": -0.696561600854481}, {\"date\": \"2020-05-20T00:00:00+00:00\", \"Top 20 %\": 4.600510949541444, \"Bottom 20 %\": 7.234793393303197, \"Top 20 % Deviation\": -3.587116221178283, \"Bottom 20 % Deviation\": -0.9528337774165128}, {\"date\": \"2020-05-21T00:00:00+00:00\", \"Top 20 %\": 4.619119367699662, \"Bottom 20 %\": 7.20592030560658, \"Top 20 % Deviation\": -3.568507803020064, \"Bottom 20 % Deviation\": -0.9817068651131298}, {\"date\": \"2020-05-22T00:00:00+00:00\", \"Top 20 %\": 4.59455896318317, \"Bottom 20 %\": 7.178142527828802, \"Top 20 % Deviation\": -3.5930682075365574, \"Bottom 20 % Deviation\": -1.0094846428909074}, {\"date\": \"2020-05-23T00:00:00+00:00\", \"Top 20 %\": 4.544392124235096, \"Bottom 20 %\": 5.940232046497269, \"Top 20 % Deviation\": -3.6432350464846315, \"Bottom 20 % Deviation\": -2.2473951242224413}, {\"date\": \"2020-05-24T00:00:00+00:00\", \"Top 20 %\": 4.471622787799208, \"Bottom 20 %\": 5.7182047234843125, \"Top 20 % Deviation\": -3.716004382920519, \"Bottom 20 % Deviation\": -2.469422447235398}, {\"date\": \"2020-05-25T00:00:00+00:00\", \"Top 20 %\": 4.441931627899909, \"Bottom 20 %\": 5.280676455732165, \"Top 20 % Deviation\": -3.745695542819818, \"Bottom 20 % Deviation\": -2.9069507149875458}, {\"date\": \"2020-05-26T00:00:00+00:00\", \"Top 20 %\": 4.518560848649939, \"Bottom 20 %\": 5.141507869381557, \"Top 20 % Deviation\": -3.6690663220697877, \"Bottom 20 % Deviation\": -3.0461193013381536}, {\"date\": \"2020-05-27T00:00:00+00:00\", \"Top 20 %\": 4.583459642143516, \"Bottom 20 %\": 4.630195341486476, \"Top 20 % Deviation\": -3.604167528576211, \"Bottom 20 % Deviation\": -3.5574318292332334}, {\"date\": \"2020-05-28T00:00:00+00:00\", \"Top 20 %\": 4.6278586242627195, \"Bottom 20 %\": 4.380499922383162, \"Top 20 % Deviation\": -3.5597685464570077, \"Bottom 20 % Deviation\": -3.807127248336547}, {\"date\": \"2020-05-29T00:00:00+00:00\", \"Top 20 %\": 4.6306798102759466, \"Bottom 20 %\": 4.293638330234445, \"Top 20 % Deviation\": -3.5569473604437816, \"Bottom 20 % Deviation\": -3.893988840485265}, {\"date\": \"2020-05-30T00:00:00+00:00\", \"Top 20 %\": 4.604061108294053, \"Bottom 20 %\": 4.331797701727149, \"Top 20 % Deviation\": -3.583566062425676, \"Bottom 20 % Deviation\": -3.8558294689925603}, {\"date\": \"2020-05-31T00:00:00+00:00\", \"Top 20 %\": 4.478510255908825, \"Bottom 20 %\": 4.186394085735297, \"Top 20 % Deviation\": -3.7091169148109038, \"Bottom 20 % Deviation\": -4.0012330849844115}, {\"date\": \"2020-06-01T00:00:00+00:00\", \"Top 20 %\": 4.461576921213283, \"Bottom 20 %\": 4.213008918271183, \"Top 20 % Deviation\": -3.7260502495064465, \"Bottom 20 % Deviation\": -3.9746182524485265}, {\"date\": \"2020-06-02T00:00:00+00:00\", \"Top 20 %\": 4.53006528611276, \"Bottom 20 %\": 4.177325346596899, \"Top 20 % Deviation\": -3.65756188460697, \"Bottom 20 % Deviation\": -4.01030182412281}, {\"date\": \"2020-06-03T00:00:00+00:00\", \"Top 20 %\": 4.6041835865513585, \"Bottom 20 %\": 4.251257659247988, \"Top 20 % Deviation\": -3.5834435841683714, \"Bottom 20 % Deviation\": -3.9363695114717223}, {\"date\": \"2020-06-04T00:00:00+00:00\", \"Top 20 %\": 4.64213416165567, \"Bottom 20 %\": 4.028524830700595, \"Top 20 % Deviation\": -3.54549300906406, \"Bottom 20 % Deviation\": -4.159102340019113}, {\"date\": \"2020-06-05T00:00:00+00:00\", \"Top 20 %\": 4.582647840997522, \"Bottom 20 %\": 4.2887613421566195, \"Top 20 % Deviation\": -3.6049793297222075, \"Bottom 20 % Deviation\": -3.898865828563089}, {\"date\": \"2020-06-06T00:00:00+00:00\", \"Top 20 %\": 4.653610537904102, \"Bottom 20 %\": 4.207342040477765, \"Top 20 % Deviation\": -3.5340166328156277, \"Bottom 20 % Deviation\": -3.980285130241944}, {\"date\": \"2020-06-07T00:00:00+00:00\", \"Top 20 %\": 4.669073954772672, \"Bottom 20 %\": 4.11590685529258, \"Top 20 % Deviation\": -3.5185532159470583, \"Bottom 20 % Deviation\": -4.07172031542713}, {\"date\": \"2020-06-08T00:00:00+00:00\", \"Top 20 %\": 4.71150413833467, \"Bottom 20 %\": 4.295362562187311, \"Top 20 % Deviation\": -3.47612303238506, \"Bottom 20 % Deviation\": -3.892264608532398}, {\"date\": \"2020-06-09T00:00:00+00:00\", \"Top 20 %\": 4.840108952183607, \"Bottom 20 %\": 4.268158887924813, \"Top 20 % Deviation\": -3.347518218536122, \"Bottom 20 % Deviation\": -3.919468282794896}, {\"date\": \"2020-06-10T00:00:00+00:00\", \"Top 20 %\": 4.9571591981589656, \"Bottom 20 %\": 4.366970533795283, \"Top 20 % Deviation\": -3.2304679725607635, \"Bottom 20 % Deviation\": -3.8206566369244266}, {\"date\": \"2020-06-11T00:00:00+00:00\", \"Top 20 %\": 5.051299394158064, \"Bottom 20 %\": 4.243864473189221, \"Top 20 % Deviation\": -3.1363277765616644, \"Bottom 20 % Deviation\": -3.9437626975304867}, {\"date\": \"2020-06-12T00:00:00+00:00\", \"Top 20 %\": 5.073451469700229, \"Bottom 20 %\": 4.587247023949639, \"Top 20 % Deviation\": -3.114175701019499, \"Bottom 20 % Deviation\": -3.60038014677007}, {\"date\": \"2020-06-13T00:00:00+00:00\", \"Top 20 %\": 5.060383299438731, \"Bottom 20 %\": 4.333592835001332, \"Top 20 % Deviation\": -3.1272438712809967, \"Bottom 20 % Deviation\": -3.8540343357183757}, {\"date\": \"2020-06-14T00:00:00+00:00\", \"Top 20 %\": 5.009729355333383, \"Bottom 20 %\": 4.349254956478017, \"Top 20 % Deviation\": -3.1778978153863444, \"Bottom 20 % Deviation\": -3.838372214241692}, {\"date\": \"2020-06-15T00:00:00+00:00\", \"Top 20 %\": 5.104456967694235, \"Bottom 20 %\": 4.472884105107165, \"Top 20 % Deviation\": -3.0831702030254924, \"Bottom 20 % Deviation\": -3.7147430656125437}, {\"date\": \"2020-06-16T00:00:00+00:00\", \"Top 20 %\": 5.087511221505567, \"Bottom 20 %\": 4.70354766239611, \"Top 20 % Deviation\": -3.1001159492141617, \"Bottom 20 % Deviation\": -3.4840795083235987}, {\"date\": \"2020-06-17T00:00:00+00:00\", \"Top 20 %\": 5.181488788252501, \"Bottom 20 %\": 4.622429462856857, \"Top 20 % Deviation\": -3.0061383824672268, \"Bottom 20 % Deviation\": -3.5651977078628514}, {\"date\": \"2020-06-18T00:00:00+00:00\", \"Top 20 %\": 5.187723399869284, \"Bottom 20 %\": 4.669832060259454, \"Top 20 % Deviation\": -2.9999037708504432, \"Bottom 20 % Deviation\": -3.5177951104602534}, {\"date\": \"2020-06-19T00:00:00+00:00\", \"Top 20 %\": 5.238806495044388, \"Bottom 20 %\": 5.6581468456330635, \"Top 20 % Deviation\": -2.94882067567534, \"Bottom 20 % Deviation\": -2.529480325086644}, {\"date\": \"2020-06-20T00:00:00+00:00\", \"Top 20 %\": 5.289457823890379, \"Bottom 20 %\": 5.5772282370548805, \"Top 20 % Deviation\": -2.89816934682935, \"Bottom 20 % Deviation\": -2.6103989336648277}, {\"date\": \"2020-06-21T00:00:00+00:00\", \"Top 20 %\": 5.2080902995088625, \"Bottom 20 %\": 6.467751112871873, \"Top 20 % Deviation\": -2.979536871210866, \"Bottom 20 % Deviation\": -1.7198760578478343}, {\"date\": \"2020-06-22T00:00:00+00:00\", \"Top 20 %\": 5.2171729102093085, \"Bottom 20 %\": 6.687605177512333, \"Top 20 % Deviation\": -2.9704542605104196, \"Bottom 20 % Deviation\": -1.5000219932073742}, {\"date\": \"2020-06-23T00:00:00+00:00\", \"Top 20 %\": 5.279143151988253, \"Bottom 20 %\": 6.769345119133109, \"Top 20 % Deviation\": -2.908484018731476, \"Bottom 20 % Deviation\": -1.4182820515865984}, {\"date\": \"2020-06-24T00:00:00+00:00\", \"Top 20 %\": 5.455221346451157, \"Bottom 20 %\": 7.1837836218069056, \"Top 20 % Deviation\": -2.732405824268572, \"Bottom 20 % Deviation\": -1.0038435489128017}, {\"date\": \"2020-06-25T00:00:00+00:00\", \"Top 20 %\": 5.552002371886281, \"Bottom 20 %\": 7.716753902117612, \"Top 20 % Deviation\": -2.6356247988334482, \"Bottom 20 % Deviation\": -0.47087326860209566}, {\"date\": \"2020-06-26T00:00:00+00:00\", \"Top 20 %\": 5.642441844403719, \"Bottom 20 %\": 7.640225683174532, \"Top 20 % Deviation\": -2.545185326316009, \"Bottom 20 % Deviation\": -0.5474014875451754}, {\"date\": \"2020-06-27T00:00:00+00:00\", \"Top 20 %\": 5.598560902111176, \"Bottom 20 %\": 7.762094526405605, \"Top 20 % Deviation\": -2.589066268608552, \"Bottom 20 % Deviation\": -0.425532644314103}, {\"date\": \"2020-06-28T00:00:00+00:00\", \"Top 20 %\": 5.588470982043615, \"Bottom 20 %\": 7.575322039633119, \"Top 20 % Deviation\": -2.5991561886761128, \"Bottom 20 % Deviation\": -0.6123051310865899}, {\"date\": \"2020-06-29T00:00:00+00:00\", \"Top 20 %\": 5.549124614184228, \"Bottom 20 %\": 6.619439686691942, \"Top 20 % Deviation\": -2.6385025565355003, \"Bottom 20 % Deviation\": -1.5681874840277663}, {\"date\": \"2020-06-30T00:00:00+00:00\", \"Top 20 %\": 5.540227677367138, \"Bottom 20 %\": 6.952210147121977, \"Top 20 % Deviation\": -2.64739949335259, \"Bottom 20 % Deviation\": -1.2354170235977313}, {\"date\": \"2020-07-01T00:00:00+00:00\", \"Top 20 %\": 5.61578970211886, \"Bottom 20 %\": 6.344706139229513, \"Top 20 % Deviation\": -2.571837468600868, \"Bottom 20 % Deviation\": -1.8429210314901965}, {\"date\": \"2020-07-02T00:00:00+00:00\", \"Top 20 %\": 5.674250928764538, \"Bottom 20 %\": 6.654608895856517, \"Top 20 % Deviation\": -2.5133762419551915, \"Bottom 20 % Deviation\": -1.5330182748631929}, {\"date\": \"2020-07-03T00:00:00+00:00\", \"Top 20 %\": 5.6924092527352705, \"Bottom 20 %\": 7.102534026006076, \"Top 20 % Deviation\": -2.4952179179844585, \"Bottom 20 % Deviation\": -1.0850931447136336}, {\"date\": \"2020-07-04T00:00:00+00:00\", \"Top 20 %\": 5.613148742110032, \"Bottom 20 %\": 6.784927816855749, \"Top 20 % Deviation\": -2.574478428609697, \"Bottom 20 % Deviation\": -1.4026993538639605}, {\"date\": \"2020-07-05T00:00:00+00:00\", \"Top 20 %\": 5.483594854898134, \"Bottom 20 %\": 6.190449600037106, \"Top 20 % Deviation\": -2.7040323158215953, \"Bottom 20 % Deviation\": -1.9971775706826027}, {\"date\": \"2020-07-06T00:00:00+00:00\", \"Top 20 %\": 5.461596923367666, \"Bottom 20 %\": 6.108110985138277, \"Top 20 % Deviation\": -2.726030247352063, \"Bottom 20 % Deviation\": -2.0795161855814315}, {\"date\": \"2020-07-07T00:00:00+00:00\", \"Top 20 %\": 5.619695489317042, \"Bottom 20 %\": 6.141234690342376, \"Top 20 % Deviation\": -2.5679316814026865, \"Bottom 20 % Deviation\": -2.046392480377332}, {\"date\": \"2020-07-08T00:00:00+00:00\", \"Top 20 %\": 5.679276047897866, \"Bottom 20 %\": 6.3082792859584, \"Top 20 % Deviation\": -2.508351122821863, \"Bottom 20 % Deviation\": -1.8793478847613077}, {\"date\": \"2020-07-09T00:00:00+00:00\", \"Top 20 %\": 5.702140055970565, \"Bottom 20 %\": 6.485590210328148, \"Top 20 % Deviation\": -2.485487114749163, \"Bottom 20 % Deviation\": -1.7020369603915597}, {\"date\": \"2020-07-10T00:00:00+00:00\", \"Top 20 %\": 5.670870826302766, \"Bottom 20 %\": 6.3438393685773065, \"Top 20 % Deviation\": -2.516756344416962, \"Bottom 20 % Deviation\": -1.8437878021424012}, {\"date\": \"2020-07-11T00:00:00+00:00\", \"Top 20 %\": 5.672373254551021, \"Bottom 20 %\": 6.210891122121704, \"Top 20 % Deviation\": -2.5152539161687075, \"Bottom 20 % Deviation\": -1.9767360485980028}, {\"date\": \"2020-07-12T00:00:00+00:00\", \"Top 20 %\": 5.5829388337909425, \"Bottom 20 %\": 5.698429354468907, \"Top 20 % Deviation\": -2.6046883369287857, \"Bottom 20 % Deviation\": -2.4891978162508}, {\"date\": \"2020-07-13T00:00:00+00:00\", \"Top 20 %\": 5.561523967534616, \"Bottom 20 %\": 5.305506706940996, \"Top 20 % Deviation\": -2.6261032031851115, \"Bottom 20 % Deviation\": -2.882120463778711}, {\"date\": \"2020-07-14T00:00:00+00:00\", \"Top 20 %\": 5.607861622776015, \"Bottom 20 %\": 5.6314548493558565, \"Top 20 % Deviation\": -2.579765547943712, \"Bottom 20 % Deviation\": -2.5561723213638503}, {\"date\": \"2020-07-15T00:00:00+00:00\", \"Top 20 %\": 5.663328549210707, \"Bottom 20 %\": 5.559630467429172, \"Top 20 % Deviation\": -2.524298621509021, \"Bottom 20 % Deviation\": -2.627996703290534}, {\"date\": \"2020-07-16T00:00:00+00:00\", \"Top 20 %\": 5.6834190081043685, \"Bottom 20 %\": 5.595813823491254, \"Top 20 % Deviation\": -2.5042081626153596, \"Bottom 20 % Deviation\": -2.591813347228452}, {\"date\": \"2020-07-17T00:00:00+00:00\", \"Top 20 %\": 5.659481737286472, \"Bottom 20 %\": 6.096369674025535, \"Top 20 % Deviation\": -2.5281454334332563, \"Bottom 20 % Deviation\": -2.0912574966941717}, {\"date\": \"2020-07-18T00:00:00+00:00\", \"Top 20 %\": 5.6699536747613895, \"Bottom 20 %\": 6.7297691876771495, \"Top 20 % Deviation\": -2.517673495958339, \"Bottom 20 % Deviation\": -1.457857983042557}, {\"date\": \"2020-07-19T00:00:00+00:00\", \"Top 20 %\": 5.613991429343256, \"Bottom 20 %\": 6.638889815333246, \"Top 20 % Deviation\": -2.573635741376473, \"Bottom 20 % Deviation\": -1.5487373553864603}, {\"date\": \"2020-07-20T00:00:00+00:00\", \"Top 20 %\": 5.649566271662282, \"Bottom 20 %\": 6.3224395988830295, \"Top 20 % Deviation\": -2.538060899057446, \"Bottom 20 % Deviation\": -1.865187571836677}, {\"date\": \"2020-07-21T00:00:00+00:00\", \"Top 20 %\": 5.736264472874412, \"Bottom 20 %\": 6.345980088525214, \"Top 20 % Deviation\": -2.4513626978453167, \"Bottom 20 % Deviation\": -1.8416470821944926}, {\"date\": \"2020-07-22T00:00:00+00:00\", \"Top 20 %\": 5.852930059678239, \"Bottom 20 %\": 6.345980088525214, \"Top 20 % Deviation\": -2.334697111041489, \"Bottom 20 % Deviation\": -1.8416470821944926}, {\"date\": \"2020-07-23T00:00:00+00:00\", \"Top 20 %\": 5.913627840910612, \"Bottom 20 %\": 6.424832289783074, \"Top 20 % Deviation\": -2.273999329809116, \"Bottom 20 % Deviation\": -1.7627948809366312}, {\"date\": \"2020-07-24T00:00:00+00:00\", \"Top 20 %\": 5.964312103660464, \"Bottom 20 %\": 5.997881291597957, \"Top 20 % Deviation\": -2.223315067059264, \"Bottom 20 % Deviation\": -2.189745879121749}, {\"date\": \"2020-07-25T00:00:00+00:00\", \"Top 20 %\": 5.976348357466263, \"Bottom 20 %\": 5.817060170879138, \"Top 20 % Deviation\": -2.211278813253466, \"Bottom 20 % Deviation\": -2.3705669998405683}, {\"date\": \"2020-07-26T00:00:00+00:00\", \"Top 20 %\": 5.908974763417697, \"Bottom 20 %\": 5.733783794361515, \"Top 20 % Deviation\": -2.2786524073020322, \"Bottom 20 % Deviation\": -2.4538433763581917}, {\"date\": \"2020-07-27T00:00:00+00:00\", \"Top 20 %\": 5.9545434353904465, \"Bottom 20 %\": 5.005507441085162, \"Top 20 % Deviation\": -2.233083735329281, \"Bottom 20 % Deviation\": -3.182119729634545}, {\"date\": \"2020-07-28T00:00:00+00:00\", \"Top 20 %\": 5.985154786532197, \"Bottom 20 %\": 4.1075974448779515, \"Top 20 % Deviation\": -2.2024723841875313, \"Bottom 20 % Deviation\": -4.080029725841755}, {\"date\": \"2020-07-29T00:00:00+00:00\", \"Top 20 %\": 6.101128407003939, \"Bottom 20 %\": 4.09350526885408, \"Top 20 % Deviation\": -2.086498763715789, \"Bottom 20 % Deviation\": -4.094121901865626}, {\"date\": \"2020-07-30T00:00:00+00:00\", \"Top 20 %\": 6.1068890770332604, \"Bottom 20 %\": 4.624457649806461, \"Top 20 % Deviation\": -2.0807380936864677, \"Bottom 20 % Deviation\": -3.5631695209132452}, {\"date\": \"2020-07-31T00:00:00+00:00\", \"Top 20 %\": 6.0776471200656506, \"Bottom 20 %\": 4.62194154674688, \"Top 20 % Deviation\": -2.1099800506540776, \"Bottom 20 % Deviation\": -3.5656856239728265}, {\"date\": \"2020-08-01T00:00:00+00:00\", \"Top 20 %\": 6.023121658399681, \"Bottom 20 %\": 4.327503069601636, \"Top 20 % Deviation\": -2.1645055123200465, \"Bottom 20 % Deviation\": -3.8601241011180703}, {\"date\": \"2020-08-02T00:00:00+00:00\", \"Top 20 %\": 5.957233086392521, \"Bottom 20 %\": 5.369169736268303, \"Top 20 % Deviation\": -2.2303940843272065, \"Bottom 20 % Deviation\": -2.8184574344514033}, {\"date\": \"2020-08-03T00:00:00+00:00\", \"Top 20 %\": 5.944157938954378, \"Bottom 20 %\": 5.528576874804298, \"Top 20 % Deviation\": -2.2434692317653484, \"Bottom 20 % Deviation\": -2.6590502959154083}, {\"date\": \"2020-08-04T00:00:00+00:00\", \"Top 20 %\": 5.919375735469101, \"Bottom 20 %\": 6.849986946214369, \"Top 20 % Deviation\": -2.268251435250625, \"Bottom 20 % Deviation\": -1.337640224505337}, {\"date\": \"2020-08-05T00:00:00+00:00\", \"Top 20 %\": 6.061607746603451, \"Bottom 20 %\": 6.928674073239092, \"Top 20 % Deviation\": -2.1260194241162758, \"Bottom 20 % Deviation\": -1.2589530974806142}, {\"date\": \"2020-08-06T00:00:00+00:00\", \"Top 20 %\": 5.998036908003752, \"Bottom 20 %\": 7.197930279995299, \"Top 20 % Deviation\": -2.1895902627159742, \"Bottom 20 % Deviation\": -0.9896968907244073}, {\"date\": \"2020-08-07T00:00:00+00:00\", \"Top 20 %\": 5.916426276642199, \"Bottom 20 %\": 7.369689828185052, \"Top 20 % Deviation\": -2.271200894077527, \"Bottom 20 % Deviation\": -0.8179373425346531}, {\"date\": \"2020-08-08T00:00:00+00:00\", \"Top 20 %\": 5.7692601336758065, \"Bottom 20 %\": 7.266328043219493, \"Top 20 % Deviation\": -2.4183670370439194, \"Bottom 20 % Deviation\": -0.9212991275002116}, {\"date\": \"2020-08-09T00:00:00+00:00\", \"Top 20 %\": 5.78522173502287, \"Bottom 20 %\": 6.865748892640343, \"Top 20 % Deviation\": -2.4024054356968563, \"Bottom 20 % Deviation\": -1.321878278079362}, {\"date\": \"2020-08-10T00:00:00+00:00\", \"Top 20 %\": 5.78825692542515, \"Bottom 20 %\": 6.843878690790365, \"Top 20 % Deviation\": -2.399370245294576, \"Bottom 20 % Deviation\": -1.3437484799293415}, {\"date\": \"2020-08-11T00:00:00+00:00\", \"Top 20 %\": 5.805972789935237, \"Bottom 20 %\": 6.8469998658209645, \"Top 20 % Deviation\": -2.381654380784489, \"Bottom 20 % Deviation\": -1.3406273048987416}, {\"date\": \"2020-08-12T00:00:00+00:00\", \"Top 20 %\": 5.894471789394705, \"Bottom 20 %\": 6.158462603247607, \"Top 20 % Deviation\": -2.2931553813250205, \"Bottom 20 % Deviation\": -2.0291645674720997}, {\"date\": \"2020-08-13T00:00:00+00:00\", \"Top 20 %\": 5.998447609611537, \"Bottom 20 %\": 6.4354049591373315, \"Top 20 % Deviation\": -2.1891795611081877, \"Bottom 20 % Deviation\": -1.7522222115823751}, {\"date\": \"2020-08-14T00:00:00+00:00\", \"Top 20 %\": 6.037167515948303, \"Bottom 20 %\": 5.6814763934238695, \"Top 20 % Deviation\": -2.1504596547714216, \"Bottom 20 % Deviation\": -2.506150777295838}, {\"date\": \"2020-08-15T00:00:00+00:00\", \"Top 20 %\": 5.944488680925131, \"Bottom 20 %\": 5.921974130980431, \"Top 20 % Deviation\": -2.2431384897945943, \"Bottom 20 % Deviation\": -2.2656530397392767}, {\"date\": \"2020-08-16T00:00:00+00:00\", \"Top 20 %\": 5.755483586601902, \"Bottom 20 %\": 6.145188416694717, \"Top 20 % Deviation\": -2.4321435841178234, \"Bottom 20 % Deviation\": -2.042438754024991}, {\"date\": \"2020-08-17T00:00:00+00:00\", \"Top 20 %\": 5.902435553523937, \"Bottom 20 %\": 6.029837928673421, \"Top 20 % Deviation\": -2.285191617195789, \"Bottom 20 % Deviation\": -2.1577892420462867}, {\"date\": \"2020-08-18T00:00:00+00:00\", \"Top 20 %\": 6.094138562289386, \"Bottom 20 %\": 6.386082313219693, \"Top 20 % Deviation\": -2.0934886084303397, \"Bottom 20 % Deviation\": -1.8015448575000157}, {\"date\": \"2020-08-19T00:00:00+00:00\", \"Top 20 %\": 6.127360883341141, \"Bottom 20 %\": 6.454012312184174, \"Top 20 % Deviation\": -2.060266287378584, \"Bottom 20 % Deviation\": -1.733614858535534}, {\"date\": \"2020-08-20T00:00:00+00:00\", \"Top 20 %\": 6.190692438002726, \"Bottom 20 %\": 6.404787505982624, \"Top 20 % Deviation\": -1.9969347327169982, \"Bottom 20 % Deviation\": -1.782839664737084}, {\"date\": \"2020-08-21T00:00:00+00:00\", \"Top 20 %\": 6.246875074798444, \"Bottom 20 %\": 6.7061426887550954, \"Top 20 % Deviation\": -1.9407520959212796, \"Bottom 20 % Deviation\": -1.4814844819646131}, {\"date\": \"2020-08-22T00:00:00+00:00\", \"Top 20 %\": 6.121873949731152, \"Bottom 20 %\": 6.259945397129416, \"Top 20 % Deviation\": -2.0657532209885714, \"Bottom 20 % Deviation\": -1.9276817735902934}, {\"date\": \"2020-08-23T00:00:00+00:00\", \"Top 20 %\": 6.018088184506002, \"Bottom 20 %\": 6.445869766877314, \"Top 20 % Deviation\": -2.1695389862137224, \"Bottom 20 % Deviation\": -1.7417574038423944}, {\"date\": \"2020-08-24T00:00:00+00:00\", \"Top 20 %\": 6.035499884289669, \"Bottom 20 %\": 6.379604375604367, \"Top 20 % Deviation\": -2.1521272864300554, \"Bottom 20 % Deviation\": -1.8080227951153414}, {\"date\": \"2020-08-25T00:00:00+00:00\", \"Top 20 %\": 6.17594616062878, \"Bottom 20 %\": 6.697369943369935, \"Top 20 % Deviation\": -2.011681010090945, \"Bottom 20 % Deviation\": -1.4902572273497738}, {\"date\": \"2020-08-26T00:00:00+00:00\", \"Top 20 %\": 6.3671988593908395, \"Bottom 20 %\": 6.4099857589269265, \"Top 20 % Deviation\": -1.8204283113288853, \"Bottom 20 % Deviation\": -1.7776414117927817}, {\"date\": \"2020-08-27T00:00:00+00:00\", \"Top 20 %\": 6.298965839080543, \"Bottom 20 %\": 6.85744446268815, \"Top 20 % Deviation\": -1.8886613316391816, \"Bottom 20 % Deviation\": -1.330182708031557}, {\"date\": \"2020-08-28T00:00:00+00:00\", \"Top 20 %\": 6.258442079982915, \"Bottom 20 %\": 6.677065879007681, \"Top 20 % Deviation\": -1.9291850907368104, \"Bottom 20 % Deviation\": -1.5105612917120275}, {\"date\": \"2020-08-29T00:00:00+00:00\", \"Top 20 %\": 6.228331836774894, \"Bottom 20 %\": 6.800087701429803, \"Top 20 % Deviation\": -1.9592953339448314, \"Bottom 20 % Deviation\": -1.387539469289905}, {\"date\": \"2020-08-30T00:00:00+00:00\", \"Top 20 %\": 6.270133496516922, \"Bottom 20 %\": 6.76803641937852, \"Top 20 % Deviation\": -1.917493674202802, \"Bottom 20 % Deviation\": -1.419590751341187}, {\"date\": \"2020-08-31T00:00:00+00:00\", \"Top 20 %\": 6.245412716504889, \"Bottom 20 %\": 6.4363705462852465, \"Top 20 % Deviation\": -1.9422144542148359, \"Bottom 20 % Deviation\": -1.7512566244344594}, {\"date\": \"2020-09-01T00:00:00+00:00\", \"Top 20 %\": 6.36588299555424, \"Bottom 20 %\": 6.969763251193297, \"Top 20 % Deviation\": -1.8217441751654846, \"Bottom 20 % Deviation\": -1.2178639195264092}, {\"date\": \"2020-09-02T00:00:00+00:00\", \"Top 20 %\": 6.353137583475041, \"Bottom 20 %\": 6.555267452873968, \"Top 20 % Deviation\": -1.8344895872446834, \"Bottom 20 % Deviation\": -1.632359717845737}, {\"date\": \"2020-09-03T00:00:00+00:00\", \"Top 20 %\": 6.419708542209267, \"Bottom 20 %\": 6.127775272468359, \"Top 20 % Deviation\": -1.7679186285104578, \"Bottom 20 % Deviation\": -2.0598518982513467}, {\"date\": \"2020-09-04T00:00:00+00:00\", \"Top 20 %\": 6.388701510842699, \"Bottom 20 %\": 6.210252707886971, \"Top 20 % Deviation\": -1.7989256598770254, \"Bottom 20 % Deviation\": -1.977374462832735}, {\"date\": \"2020-09-05T00:00:00+00:00\", \"Top 20 %\": 6.28252968672697, \"Bottom 20 %\": 6.525414670107757, \"Top 20 % Deviation\": -1.9050974839927548, \"Bottom 20 % Deviation\": -1.6622125006119493}, {\"date\": \"2020-09-06T00:00:00+00:00\", \"Top 20 %\": 6.276241478703286, \"Bottom 20 %\": 6.299367060428434, \"Top 20 % Deviation\": -1.9113856920164394, \"Bottom 20 % Deviation\": -1.8882601102912726}, {\"date\": \"2020-09-07T00:00:00+00:00\", \"Top 20 %\": 6.277522707059239, \"Bottom 20 %\": 6.264069025130398, \"Top 20 % Deviation\": -1.9101044636604858, \"Bottom 20 % Deviation\": -1.923558145589308}, {\"date\": \"2020-09-08T00:00:00+00:00\", \"Top 20 %\": 6.356149591646054, \"Bottom 20 %\": 7.1108599153995495, \"Top 20 % Deviation\": -1.8314775790736708, \"Bottom 20 % Deviation\": -1.0767672553201568}, {\"date\": \"2020-09-09T00:00:00+00:00\", \"Top 20 %\": 6.362647138582662, \"Bottom 20 %\": 7.138744530784166, \"Top 20 % Deviation\": -1.8249800321370635, \"Bottom 20 % Deviation\": -1.0488826399355415}, {\"date\": \"2020-09-10T00:00:00+00:00\", \"Top 20 %\": 6.377964107045303, \"Bottom 20 %\": 7.740276151337525, \"Top 20 % Deviation\": -1.8096630636744226, \"Bottom 20 % Deviation\": -0.4473510193821819}, {\"date\": \"2020-09-11T00:00:00+00:00\", \"Top 20 %\": 6.4286363286089045, \"Bottom 20 %\": 7.250328456012255, \"Top 20 % Deviation\": -1.7589908421108227, \"Bottom 20 % Deviation\": -0.9372987147074519}, {\"date\": \"2020-09-12T00:00:00+00:00\", \"Top 20 %\": 6.445519883415081, \"Bottom 20 %\": 7.244805032067779, \"Top 20 % Deviation\": -1.7421072873046466, \"Bottom 20 % Deviation\": -0.9428221386519284}, {\"date\": \"2020-09-13T00:00:00+00:00\", \"Top 20 %\": 6.334112573460817, \"Bottom 20 %\": 7.1448804468490765, \"Top 20 % Deviation\": -1.8535145972589095, \"Bottom 20 % Deviation\": -1.0427467238706314}, {\"date\": \"2020-09-14T00:00:00+00:00\", \"Top 20 %\": 6.348535657801365, \"Bottom 20 %\": 6.835512255127943, \"Top 20 % Deviation\": -1.8390915129183611, \"Bottom 20 % Deviation\": -1.3521149155917642}, {\"date\": \"2020-09-15T00:00:00+00:00\", \"Top 20 %\": 6.445021224917662, \"Bottom 20 %\": 6.529651449267138, \"Top 20 % Deviation\": -1.7426059458020642, \"Bottom 20 % Deviation\": -1.6579757214525699}, {\"date\": \"2020-09-16T00:00:00+00:00\", \"Top 20 %\": 6.595019235675134, \"Bottom 20 %\": 6.623921651627258, \"Top 20 % Deviation\": -1.5926079350445908, \"Bottom 20 % Deviation\": -1.5637055190924496}, {\"date\": \"2020-09-17T00:00:00+00:00\", \"Top 20 %\": 6.700640669227582, \"Bottom 20 %\": 6.494527653812208, \"Top 20 % Deviation\": -1.486986501492144, \"Bottom 20 % Deviation\": -1.6930995169075}, {\"date\": \"2020-09-18T00:00:00+00:00\", \"Top 20 %\": 6.756167948132498, \"Bottom 20 %\": 5.770730780692455, \"Top 20 % Deviation\": -1.4314592225872265, \"Bottom 20 % Deviation\": -2.4168963900272527}, {\"date\": \"2020-09-19T00:00:00+00:00\", \"Top 20 %\": 6.621984801205613, \"Bottom 20 %\": 5.841564114025788, \"Top 20 % Deviation\": -1.5656423695141122, \"Bottom 20 % Deviation\": -2.346063056693919}, {\"date\": \"2020-09-20T00:00:00+00:00\", \"Top 20 %\": 6.474737269970456, \"Bottom 20 %\": 5.372012831974507, \"Top 20 % Deviation\": -1.7128899007492702, \"Bottom 20 % Deviation\": -2.8156143387452013}, {\"date\": \"2020-09-21T00:00:00+00:00\", \"Top 20 %\": 6.538031628220326, \"Bottom 20 %\": 6.114898893281621, \"Top 20 % Deviation\": -1.6495955424993998, \"Bottom 20 % Deviation\": -2.0727282774380873}, {\"date\": \"2020-09-22T00:00:00+00:00\", \"Top 20 %\": 6.593216750684414, \"Bottom 20 %\": 5.922591200973928, \"Top 20 % Deviation\": -1.5944104200353109, \"Bottom 20 % Deviation\": -2.265035969745779}, {\"date\": \"2020-09-23T00:00:00+00:00\", \"Top 20 %\": 6.774375902942063, \"Bottom 20 %\": 6.7189812144692045, \"Top 20 % Deviation\": -1.4132512677776616, \"Bottom 20 % Deviation\": -1.4686459562505025}, {\"date\": \"2020-09-24T00:00:00+00:00\", \"Top 20 %\": 6.801723447587186, \"Bottom 20 %\": 6.502262948215335, \"Top 20 % Deviation\": -1.38590372313254, \"Bottom 20 % Deviation\": -1.6853642225043726}, {\"date\": \"2020-09-25T00:00:00+00:00\", \"Top 20 %\": 6.880719171826281, \"Bottom 20 %\": 6.87757717647074, \"Top 20 % Deviation\": -1.306907998893445, \"Bottom 20 % Deviation\": -1.3100499942489676}, {\"date\": \"2020-09-26T00:00:00+00:00\", \"Top 20 %\": 6.717816901778666, \"Bottom 20 %\": 7.131953405611851, \"Top 20 % Deviation\": -1.469810268941061, \"Bottom 20 % Deviation\": -1.0556737651078574}, {\"date\": \"2020-09-27T00:00:00+00:00\", \"Top 20 %\": 6.537431735291582, \"Bottom 20 %\": 7.978272635058016, \"Top 20 % Deviation\": -1.6501954354281434, \"Bottom 20 % Deviation\": -0.20935453566169288}, {\"date\": \"2020-09-28T00:00:00+00:00\", \"Top 20 %\": 6.387104320133032, \"Bottom 20 %\": 7.762595616189138, \"Top 20 % Deviation\": -1.8005228505866941, \"Bottom 20 % Deviation\": -0.4250315545305706}, {\"date\": \"2020-09-29T00:00:00+00:00\", \"Top 20 %\": 6.538953249616975, \"Bottom 20 %\": 8.198323866433517, \"Top 20 % Deviation\": -1.6486739211027506, \"Bottom 20 % Deviation\": 0.01069669571380869}, {\"date\": \"2020-09-30T00:00:00+00:00\", \"Top 20 %\": 6.7542584548767906, \"Bottom 20 %\": 8.164441082550734, \"Top 20 % Deviation\": -1.433368715842934, \"Bottom 20 % Deviation\": -0.02318608816897525}, {\"date\": \"2020-10-01T00:00:00+00:00\", \"Top 20 %\": 6.830417553913771, \"Bottom 20 %\": 7.439009371404737, \"Top 20 % Deviation\": -1.3572096168059542, \"Bottom 20 % Deviation\": -0.7486177993149722}, {\"date\": \"2020-10-02T00:00:00+00:00\", \"Top 20 %\": 6.886016736285714, \"Bottom 20 %\": 7.636840487656906, \"Top 20 % Deviation\": -1.3016104344340103, \"Bottom 20 % Deviation\": -0.5507866830628034}, {\"date\": \"2020-10-03T00:00:00+00:00\", \"Top 20 %\": 6.662911318329293, \"Bottom 20 %\": 7.003912012623168, \"Top 20 % Deviation\": -1.5247158523904318, \"Bottom 20 % Deviation\": -1.1837151580965415}, {\"date\": \"2020-10-04T00:00:00+00:00\", \"Top 20 %\": 6.437544599823591, \"Bottom 20 %\": 7.111492284056467, \"Top 20 % Deviation\": -1.750082570896134, \"Bottom 20 % Deviation\": -1.076134886663241}, {\"date\": \"2020-10-05T00:00:00+00:00\", \"Top 20 %\": 6.3416018304498625, \"Bottom 20 %\": 6.637076032648406, \"Top 20 % Deviation\": -1.8460253402698612, \"Bottom 20 % Deviation\": -1.5505511380713017}, {\"date\": \"2020-10-06T00:00:00+00:00\", \"Top 20 %\": 6.4188315720822615, \"Bottom 20 %\": 6.8342958725569245, \"Top 20 % Deviation\": -1.7687955986374626, \"Bottom 20 % Deviation\": -1.3533312981627825}, {\"date\": \"2020-10-07T00:00:00+00:00\", \"Top 20 %\": 6.487255981496472, \"Bottom 20 %\": 6.1566809241385325, \"Top 20 % Deviation\": -1.700371189223252, \"Bottom 20 % Deviation\": -2.0309462465811743}, {\"date\": \"2020-10-08T00:00:00+00:00\", \"Top 20 %\": 6.584267583849696, \"Bottom 20 %\": 6.213400426126396, \"Top 20 % Deviation\": -1.603359586870028, \"Bottom 20 % Deviation\": -1.9742267445933108}, {\"date\": \"2020-10-09T00:00:00+00:00\", \"Top 20 %\": 6.536052118740699, \"Bottom 20 %\": 5.643825143918548, \"Top 20 % Deviation\": -1.6515750519790253, \"Bottom 20 % Deviation\": -2.5438020268011607}, {\"date\": \"2020-10-10T00:00:00+00:00\", \"Top 20 %\": 6.420847055928617, \"Bottom 20 %\": 5.591703654297058, \"Top 20 % Deviation\": -1.7667801147911077, \"Bottom 20 % Deviation\": -2.59592351642265}, {\"date\": \"2020-10-11T00:00:00+00:00\", \"Top 20 %\": 6.101935712710186, \"Bottom 20 %\": 5.542776391084081, \"Top 20 % Deviation\": -2.085691458009539, \"Bottom 20 % Deviation\": -2.6448507796356275}, {\"date\": \"2020-10-12T00:00:00+00:00\", \"Top 20 %\": 5.940924554608401, \"Bottom 20 %\": 6.0625566108643, \"Top 20 % Deviation\": -2.246702616111325, \"Bottom 20 % Deviation\": -2.125070559855408}, {\"date\": \"2020-10-13T00:00:00+00:00\", \"Top 20 %\": 6.170111936337387, \"Bottom 20 %\": 5.945915082458066, \"Top 20 % Deviation\": -2.017515234382339, \"Bottom 20 % Deviation\": -2.241712088261642}, {\"date\": \"2020-10-14T00:00:00+00:00\", \"Top 20 %\": 6.38845078127175, \"Bottom 20 %\": 6.2784138819414945, \"Top 20 % Deviation\": -1.7991763894479746, \"Bottom 20 % Deviation\": -1.9092132887782138}, {\"date\": \"2020-10-15T00:00:00+00:00\", \"Top 20 %\": 6.477760296413251, \"Bottom 20 %\": 6.485845846757425, \"Top 20 % Deviation\": -1.7098668743064742, \"Bottom 20 % Deviation\": -1.7017813239622825}, {\"date\": \"2020-10-16T00:00:00+00:00\", \"Top 20 %\": 6.470280464690644, \"Bottom 20 %\": 6.005921604333183, \"Top 20 % Deviation\": -1.717346706029081, \"Bottom 20 % Deviation\": -2.181705566386525}, {\"date\": \"2020-10-17T00:00:00+00:00\", \"Top 20 %\": 6.41657584297854, \"Bottom 20 %\": 6.117833972343112, \"Top 20 % Deviation\": -1.7710513277411866, \"Bottom 20 % Deviation\": -2.069793198376596}, {\"date\": \"2020-10-18T00:00:00+00:00\", \"Top 20 %\": 6.35544068518537, \"Bottom 20 %\": 5.948437011279485, \"Top 20 % Deviation\": -1.8321864855343564, \"Bottom 20 % Deviation\": -2.2391901594402235}, {\"date\": \"2020-10-19T00:00:00+00:00\", \"Top 20 %\": 6.37920190353119, \"Bottom 20 %\": 6.341753740212651, \"Top 20 % Deviation\": -1.8084252671885355, \"Bottom 20 % Deviation\": -1.8458734305070563}, {\"date\": \"2020-10-20T00:00:00+00:00\", \"Top 20 %\": 6.546115277180876, \"Bottom 20 %\": 6.72204705800597, \"Top 20 % Deviation\": -1.6415118935388495, \"Bottom 20 % Deviation\": -1.4655801127137384}, {\"date\": \"2020-10-21T00:00:00+00:00\", \"Top 20 %\": 6.706955798033013, \"Bottom 20 %\": 6.813449022542263, \"Top 20 % Deviation\": -1.4806713726867122, \"Bottom 20 % Deviation\": -1.3741781481774455}, {\"date\": \"2020-10-22T00:00:00+00:00\", \"Top 20 %\": 6.847692434913969, \"Bottom 20 %\": 6.438906898000137, \"Top 20 % Deviation\": -1.3399347358057565, \"Bottom 20 % Deviation\": -1.74872027271957}, {\"date\": \"2020-10-23T00:00:00+00:00\", \"Top 20 %\": 6.848205564605186, \"Bottom 20 %\": 7.141171137029081, \"Top 20 % Deviation\": -1.339421606114539, \"Bottom 20 % Deviation\": -1.0464560336906252}, {\"date\": \"2020-10-24T00:00:00+00:00\", \"Top 20 %\": 6.700825302949482, \"Bottom 20 %\": 6.735665679633335, \"Top 20 % Deviation\": -1.4868018677702426, \"Bottom 20 % Deviation\": -1.4519614910863718}, {\"date\": \"2020-10-25T00:00:00+00:00\", \"Top 20 %\": 6.480557450814582, \"Bottom 20 %\": 6.551149472128623, \"Top 20 % Deviation\": -1.7070697199051423, \"Bottom 20 % Deviation\": -1.6364776985910852}, {\"date\": \"2020-10-26T00:00:00+00:00\", \"Top 20 %\": 6.556569648288783, \"Bottom 20 %\": 6.3697506626048135, \"Top 20 % Deviation\": -1.6310575224309418, \"Bottom 20 % Deviation\": -1.8178765081148947}, {\"date\": \"2020-10-27T00:00:00+00:00\", \"Top 20 %\": 6.7048171551612725, \"Bottom 20 %\": 6.105490007719157, \"Top 20 % Deviation\": -1.4828100155584527, \"Bottom 20 % Deviation\": -2.0821371630005494}, {\"date\": \"2020-10-28T00:00:00+00:00\", \"Top 20 %\": 6.808771776552064, \"Bottom 20 %\": 6.341906369135518, \"Top 20 % Deviation\": -1.3788553941676607, \"Bottom 20 % Deviation\": -1.845720801584188}, {\"date\": \"2020-10-29T00:00:00+00:00\", \"Top 20 %\": 6.819602412596642, \"Bottom 20 %\": 6.18859677222836, \"Top 20 % Deviation\": -1.368024758123083, \"Bottom 20 % Deviation\": -1.9990303984913453}, {\"date\": \"2020-10-30T00:00:00+00:00\", \"Top 20 %\": 6.810989089014757, \"Bottom 20 %\": 6.330724914356502, \"Top 20 % Deviation\": -1.3766380817049668, \"Bottom 20 % Deviation\": -1.8569022563632032}, {\"date\": \"2020-10-31T00:00:00+00:00\", \"Top 20 %\": 6.656595053184408, \"Bottom 20 %\": 6.320137968135228, \"Top 20 % Deviation\": -1.5310321175353159, \"Bottom 20 % Deviation\": -1.8674892025844776}, {\"date\": \"2020-11-01T00:00:00+00:00\", \"Top 20 %\": 7.002665605590662, \"Bottom 20 %\": 6.606828054005642, \"Top 20 % Deviation\": -1.1849615651290608, \"Bottom 20 % Deviation\": -1.5807991167140636}, {\"date\": \"2020-11-02T00:00:00+00:00\", \"Top 20 %\": 6.918108285453249, \"Bottom 20 %\": 6.37908245126004, \"Top 20 % Deviation\": -1.2695188852664743, \"Bottom 20 % Deviation\": -1.808544719459666}, {\"date\": \"2020-11-03T00:00:00+00:00\", \"Top 20 %\": 7.009661346724007, \"Bottom 20 %\": 6.74843532061291, \"Top 20 % Deviation\": -1.1779658239957165, \"Bottom 20 % Deviation\": -1.4391918501067968}, {\"date\": \"2020-11-04T00:00:00+00:00\", \"Top 20 %\": 7.281356912423144, \"Bottom 20 %\": 8.023674207193716, \"Top 20 % Deviation\": -0.906270258296581, \"Bottom 20 % Deviation\": -0.16395296352599073}, {\"date\": \"2020-11-05T00:00:00+00:00\", \"Top 20 %\": 7.32942015374311, \"Bottom 20 %\": 8.387017461161971, \"Top 20 % Deviation\": -0.8582070169766147, \"Bottom 20 % Deviation\": 0.1993902904422633}, {\"date\": \"2020-11-06T00:00:00+00:00\", \"Top 20 %\": 7.301483392578345, \"Bottom 20 %\": 8.496392461161971, \"Top 20 % Deviation\": -0.8861437781413783, \"Bottom 20 % Deviation\": 0.3087652904422632}, {\"date\": \"2020-11-07T00:00:00+00:00\", \"Top 20 %\": 7.189598186116688, \"Bottom 20 %\": 8.421752047811879, \"Top 20 % Deviation\": -0.9980289846030356, \"Bottom 20 % Deviation\": 0.2341248770921724}, {\"date\": \"2020-11-08T00:00:00+00:00\", \"Top 20 %\": 7.082073895819991, \"Bottom 20 %\": 8.404672407519453, \"Top 20 % Deviation\": -1.1055532748997332, \"Bottom 20 % Deviation\": 0.21704523679974813}, {\"date\": \"2020-11-09T00:00:00+00:00\", \"Top 20 %\": 7.100505186365234, \"Bottom 20 %\": 8.113942866789913, \"Top 20 % Deviation\": -1.0871219843544906, \"Bottom 20 % Deviation\": -0.07368430392979261}, {\"date\": \"2020-11-10T00:00:00+00:00\", \"Top 20 %\": 7.355645159824216, \"Bottom 20 %\": 8.389916892763939, \"Top 20 % Deviation\": -0.8319820108955085, \"Bottom 20 % Deviation\": 0.2022897220442334}, {\"date\": \"2020-11-11T00:00:00+00:00\", \"Top 20 %\": 6.923589051187127, \"Bottom 20 %\": 8.85068911470066, \"Top 20 % Deviation\": -1.2640381195325976, \"Bottom 20 % Deviation\": 0.6630619439809549}, {\"date\": \"2020-11-12T00:00:00+00:00\", \"Top 20 %\": 6.950555283984227, \"Bottom 20 %\": 8.979408743420288, \"Top 20 % Deviation\": -1.2370718867354988, \"Bottom 20 % Deviation\": 0.7917815727005836}, {\"date\": \"2020-11-13T00:00:00+00:00\", \"Top 20 %\": 7.065089788088896, \"Bottom 20 %\": 8.736353187864733, \"Top 20 % Deviation\": -1.122537382630829, \"Bottom 20 % Deviation\": 0.5487260171450281}, {\"date\": \"2020-11-14T00:00:00+00:00\", \"Top 20 %\": 6.915486742910247, \"Bottom 20 %\": 7.520740738065536, \"Top 20 % Deviation\": -1.2721404278094777, \"Bottom 20 % Deviation\": -0.6668864326541688}, {\"date\": \"2020-11-15T00:00:00+00:00\", \"Top 20 %\": 6.665459446760647, \"Bottom 20 %\": 7.313038717863515, \"Top 20 % Deviation\": -1.5221677239590767, \"Bottom 20 % Deviation\": -0.8745884528561891}, {\"date\": \"2020-11-16T00:00:00+00:00\", \"Top 20 %\": 6.688477677667761, \"Bottom 20 %\": 7.883928612282821, \"Top 20 % Deviation\": -1.4991494930519633, \"Bottom 20 % Deviation\": -0.30369855843688276}, {\"date\": \"2020-11-17T00:00:00+00:00\", \"Top 20 %\": 6.772182187190964, \"Bottom 20 %\": 8.291006092112532, \"Top 20 % Deviation\": -1.4154449835287608, \"Bottom 20 % Deviation\": 0.10337892139282774}, {\"date\": \"2020-11-18T00:00:00+00:00\", \"Top 20 %\": 6.898671853565486, \"Bottom 20 %\": 8.305695893089423, \"Top 20 % Deviation\": -1.2889553171542378, \"Bottom 20 % Deviation\": 0.1180687223697178}, {\"date\": \"2020-11-19T00:00:00+00:00\", \"Top 20 %\": 6.795696871874634, \"Bottom 20 %\": 8.11567064056417, \"Top 20 % Deviation\": -1.391930298845089, \"Bottom 20 % Deviation\": -0.0719565301555348}, {\"date\": \"2020-11-20T00:00:00+00:00\", \"Top 20 %\": 6.79211851334959, \"Bottom 20 %\": 8.14265034325142, \"Top 20 % Deviation\": -1.3955086573701327, \"Bottom 20 % Deviation\": -0.04497682746828504}, {\"date\": \"2020-11-21T00:00:00+00:00\", \"Top 20 %\": 6.725616478201976, \"Bottom 20 %\": 7.209388715716393, \"Top 20 % Deviation\": -1.4620106925177452, \"Bottom 20 % Deviation\": -0.9782384550033114}, {\"date\": \"2020-11-22T00:00:00+00:00\", \"Top 20 %\": 6.522759793165342, \"Bottom 20 %\": 6.7636151909955, \"Top 20 % Deviation\": -1.6648673775543794, \"Bottom 20 % Deviation\": -1.4240119797242048}, {\"date\": \"2020-11-23T00:00:00+00:00\", \"Top 20 %\": 6.5115821353962104, \"Bottom 20 %\": 7.062210038770677, \"Top 20 % Deviation\": -1.6760450353235115, \"Bottom 20 % Deviation\": -1.1254171319490291}, {\"date\": \"2020-11-24T00:00:00+00:00\", \"Top 20 %\": 6.561748099441816, \"Bottom 20 %\": 7.0237485003091376, \"Top 20 % Deviation\": -1.6258790712779068, \"Bottom 20 % Deviation\": -1.1638786704105677}, {\"date\": \"2020-11-25T00:00:00+00:00\", \"Top 20 %\": 6.6740900278777655, \"Bottom 20 %\": 7.289152907222979, \"Top 20 % Deviation\": -1.5135371428419577, \"Bottom 20 % Deviation\": -0.8984742634967269}, {\"date\": \"2020-11-26T00:00:00+00:00\", \"Top 20 %\": 6.525839548876857, \"Bottom 20 %\": 7.72669247154369, \"Top 20 % Deviation\": -1.6617876218428662, \"Bottom 20 % Deviation\": -0.46093469917601554}, {\"date\": \"2020-11-27T00:00:00+00:00\", \"Top 20 %\": 6.380057148534766, \"Bottom 20 %\": 7.344080532855299, \"Top 20 % Deviation\": -1.8075700221849575, \"Bottom 20 % Deviation\": -0.8435466378644059}, {\"date\": \"2020-11-28T00:00:00+00:00\", \"Top 20 %\": 6.162457427475458, \"Bottom 20 %\": 7.3797660544212205, \"Top 20 % Deviation\": -2.025169743244264, \"Bottom 20 % Deviation\": -0.8078611162984857}, {\"date\": \"2020-11-29T00:00:00+00:00\", \"Top 20 %\": 6.035222227687995, \"Bottom 20 %\": 7.48836782846417, \"Top 20 % Deviation\": -2.1524049430317276, \"Bottom 20 % Deviation\": -0.6992593422555352}, {\"date\": \"2020-11-30T00:00:00+00:00\", \"Top 20 %\": 5.91295382547027, \"Bottom 20 %\": 7.340807317696113, \"Top 20 % Deviation\": -2.274673345249453, \"Bottom 20 % Deviation\": -0.8468198530235931}, {\"date\": \"2020-12-01T00:00:00+00:00\", \"Top 20 %\": 6.0081620686115915, \"Bottom 20 %\": 8.281672493553689, \"Top 20 % Deviation\": -2.1794651021081317, \"Bottom 20 % Deviation\": 0.0940453228339841}, {\"date\": \"2020-12-02T00:00:00+00:00\", \"Top 20 %\": 6.256374996572302, \"Bottom 20 %\": 9.055368096196661, \"Top 20 % Deviation\": -1.9312521741474207, \"Bottom 20 % Deviation\": 0.867740925476955}, {\"date\": \"2020-12-03T00:00:00+00:00\", \"Top 20 %\": 6.197364633608197, \"Bottom 20 %\": 9.014001139577946, \"Top 20 % Deviation\": -1.9902625371115252, \"Bottom 20 % Deviation\": 0.8263739688582419}, {\"date\": \"2020-12-04T00:00:00+00:00\", \"Top 20 %\": 6.251724141467024, \"Bottom 20 %\": 9.478744729321537, \"Top 20 % Deviation\": -1.935903029252699, \"Bottom 20 % Deviation\": 1.2911175586018317}, {\"date\": \"2020-12-05T00:00:00+00:00\", \"Top 20 %\": 6.20643180083318, \"Bottom 20 %\": 9.077613304327738, \"Top 20 % Deviation\": -1.9811953698865428, \"Bottom 20 % Deviation\": 0.8899861336080315}, {\"date\": \"2020-12-06T00:00:00+00:00\", \"Top 20 %\": 6.182831868583707, \"Bottom 20 %\": 8.476046590685758, \"Top 20 % Deviation\": -2.0047953021360145, \"Bottom 20 % Deviation\": 0.2884194199660531}, {\"date\": \"2020-12-07T00:00:00+00:00\", \"Top 20 %\": 6.305956758090277, \"Bottom 20 %\": 8.39579925352495, \"Top 20 % Deviation\": -1.8816704126294455, \"Bottom 20 % Deviation\": 0.20817208280524585}, {\"date\": \"2020-12-08T00:00:00+00:00\", \"Top 20 %\": 6.42269960137118, \"Bottom 20 %\": 8.346087060955615, \"Top 20 % Deviation\": -1.7649275693485424, \"Bottom 20 % Deviation\": 0.15845989023591045}, {\"date\": \"2020-12-09T00:00:00+00:00\", \"Top 20 %\": 6.551499939847956, \"Bottom 20 %\": 8.468636080563458, \"Top 20 % Deviation\": -1.6361272308717663, \"Bottom 20 % Deviation\": 0.2810089098437536}, {\"date\": \"2020-12-10T00:00:00+00:00\", \"Top 20 %\": 6.647388564124694, \"Bottom 20 %\": 8.676716888644266, \"Top 20 % Deviation\": -1.5402386065950289, \"Bottom 20 % Deviation\": 0.4890897179245618}, {\"date\": \"2020-12-11T00:00:00+00:00\", \"Top 20 %\": 6.617812410875873, \"Bottom 20 %\": 8.301000849364396, \"Top 20 % Deviation\": -1.5698147598438497, \"Bottom 20 % Deviation\": 0.11337367864469279}, {\"date\": \"2020-12-12T00:00:00+00:00\", \"Top 20 %\": 6.3903445776290475, \"Bottom 20 %\": 7.586241650230197, \"Top 20 % Deviation\": -1.7972825930906748, \"Bottom 20 % Deviation\": -0.6013855204895062}, {\"date\": \"2020-12-13T00:00:00+00:00\", \"Top 20 %\": 6.221106644318577, \"Bottom 20 %\": 7.112667605227581, \"Top 20 % Deviation\": -1.9665205264011454, \"Bottom 20 % Deviation\": -1.0749595654921227}, {\"date\": \"2020-12-14T00:00:00+00:00\", \"Top 20 %\": 6.168260947639091, \"Bottom 20 %\": 7.0624820451736, \"Top 20 % Deviation\": -2.019366223080633, \"Bottom 20 % Deviation\": -1.125145125546104}, {\"date\": \"2020-12-15T00:00:00+00:00\", \"Top 20 %\": 6.259993037603046, \"Bottom 20 %\": 8.023556129979935, \"Top 20 % Deviation\": -1.9276341331166786, \"Bottom 20 % Deviation\": -0.1640710407397677}, {\"date\": \"2020-12-16T00:00:00+00:00\", \"Top 20 %\": 6.471494055481857, \"Bottom 20 %\": 8.589907670596183, \"Top 20 % Deviation\": -1.716133115237867, \"Bottom 20 % Deviation\": 0.4022804998764789}, {\"date\": \"2020-12-17T00:00:00+00:00\", \"Top 20 %\": 6.335114799295517, \"Bottom 20 %\": 8.534661381797262, \"Top 20 % Deviation\": -1.852512371424207, \"Bottom 20 % Deviation\": 0.34703421107755855}, {\"date\": \"2020-12-18T00:00:00+00:00\", \"Top 20 %\": 6.330899471100031, \"Bottom 20 %\": 8.752052686145088, \"Top 20 % Deviation\": -1.8567276996196935, \"Bottom 20 % Deviation\": 0.5644255154253847}, {\"date\": \"2020-12-19T00:00:00+00:00\", \"Top 20 %\": 6.22726543262927, \"Bottom 20 %\": 8.833038084927098, \"Top 20 % Deviation\": -1.9603617380904539, \"Bottom 20 % Deviation\": 0.6454109142073937}, {\"date\": \"2020-12-20T00:00:00+00:00\", \"Top 20 %\": 6.0791022143469275, \"Bottom 20 %\": 8.95576535765437, \"Top 20 % Deviation\": -2.108524956372797, \"Bottom 20 % Deviation\": 0.7681381869346664}, {\"date\": \"2020-12-21T00:00:00+00:00\", \"Top 20 %\": 6.1353540857151385, \"Bottom 20 %\": 8.480652235482424, \"Top 20 % Deviation\": -2.052273085004587, \"Bottom 20 % Deviation\": 0.2930250647627206}, {\"date\": \"2020-12-22T00:00:00+00:00\", \"Top 20 %\": 6.305592435545245, \"Bottom 20 %\": 8.693576313216285, \"Top 20 % Deviation\": -1.882034735174481, \"Bottom 20 % Deviation\": 0.505949142496581}, {\"date\": \"2020-12-23T00:00:00+00:00\", \"Top 20 %\": 6.427744717598915, \"Bottom 20 %\": 9.079565324205294, \"Top 20 % Deviation\": -1.7598824531208108, \"Bottom 20 % Deviation\": 0.8919381534855919}, {\"date\": \"2020-12-24T00:00:00+00:00\", \"Top 20 %\": 6.40633208972195, \"Bottom 20 %\": 9.187537460428207, \"Top 20 % Deviation\": -1.7812950809977752, \"Bottom 20 % Deviation\": 0.9999102897085024}, {\"date\": \"2020-12-25T00:00:00+00:00\", \"Top 20 %\": 6.31247698156374, \"Bottom 20 %\": 8.419054582144964, \"Top 20 % Deviation\": -1.8751501891559847, \"Bottom 20 % Deviation\": 0.2314274114252612}, {\"date\": \"2020-12-26T00:00:00+00:00\", \"Top 20 %\": 6.0231787206219405, \"Bottom 20 %\": 7.462506963097345, \"Top 20 % Deviation\": -2.1644484500977845, \"Bottom 20 % Deviation\": -0.725120207622358}, {\"date\": \"2020-12-27T00:00:00+00:00\", \"Top 20 %\": 5.994921208287257, \"Bottom 20 %\": 7.447895349221026, \"Top 20 % Deviation\": -2.1927059624324667, \"Bottom 20 % Deviation\": -0.7397318214986779}, {\"date\": \"2020-12-28T00:00:00+00:00\", \"Top 20 %\": 6.048325581219576, \"Bottom 20 %\": 7.042042506411663, \"Top 20 % Deviation\": -2.139301589500149, \"Bottom 20 % Deviation\": -1.1455846643080423}, {\"date\": \"2020-12-29T00:00:00+00:00\", \"Top 20 %\": 6.073542789952727, \"Bottom 20 %\": 6.680226826799372, \"Top 20 % Deviation\": -2.114084380766999, \"Bottom 20 % Deviation\": -1.5074003439203323}, {\"date\": \"2020-12-30T00:00:00+00:00\", \"Top 20 %\": 6.090845615319427, \"Bottom 20 %\": 6.337012070541137, \"Top 20 % Deviation\": -2.0967815554002973, \"Bottom 20 % Deviation\": -1.8506151001785671}, {\"date\": \"2020-12-31T00:00:00+00:00\", \"Top 20 %\": 6.0287873816328394, \"Bottom 20 %\": 6.217050624424229, \"Top 20 % Deviation\": -2.1588397890868847, \"Bottom 20 % Deviation\": -1.9705765462954754}]}}, {\"mode\": \"vega-lite\"});\n",
              "</script>"
            ]
          },
          "metadata": {
            "tags": []
          },
          "execution_count": 26
        },
        {
          "output_type": "stream",
          "text": [
            "time: 117 ms (started: 2021-04-22 19:31:55 +00:00)\n"
          ],
          "name": "stdout"
        }
      ]
    },
    {
      "cell_type": "code",
      "metadata": {
        "colab": {
          "base_uri": "https://localhost:8080/"
        },
        "id": "owhSJQqe7rVM",
        "outputId": "091b5739-b028-46d7-fd34-73f031d82365"
      },
      "source": [
        "#Conversion of datetime format\n",
        "df['date'] = pd.to_datetime(df['date'],utc= True)\n",
        "#df['date'] = [datetime.datetime.date(d) for d in df['date']] "
      ],
      "execution_count": null,
      "outputs": [
        {
          "output_type": "stream",
          "text": [
            "time: 6.74 ms (started: 2021-04-22 19:31:55 +00:00)\n"
          ],
          "name": "stdout"
        }
      ]
    },
    {
      "cell_type": "markdown",
      "metadata": {
        "id": "yCVL0_NiBLU0"
      },
      "source": [
        "Filtering based on important dates\n",
        "\n",
        "**March 8, 2020:**\n",
        "NYC issues guidelines to avoid densely packed buses, subways, or trains.\n",
        "\n",
        "**March 12, 2020:**\n",
        "Broadway shuts down.\n",
        "\n",
        "**March 14, 2020:**\n",
        "First two COVID-19 deaths in NYS.\n",
        "\n",
        "**March 22, 2020:**\n",
        "NYS on Pause Program begins, all non-essential workers must stay home.\n",
        "\n",
        "**March 28, 2020:**\n",
        "Governor Cuomo halts all nonessential construction sites in NYS.\n",
        "\n",
        "\n",
        "\n",
        "\n",
        "\n",
        "\n",
        "\n",
        "\n",
        "\n"
      ]
    },
    {
      "cell_type": "code",
      "metadata": {
        "colab": {
          "base_uri": "https://localhost:8080/",
          "height": 385
        },
        "id": "gelkUE5NBJps",
        "outputId": "8603eef7-ccc1-4e87-cb3e-f7eefb3d736d"
      },
      "source": [
        "start_date = '2020-3-5'\n",
        "end_date = '2020-3-31'\n",
        "df1 = apply_date_filter(df,start_date,end_date)\n",
        "chart = create_chart(df1)\n",
        "chart"
      ],
      "execution_count": null,
      "outputs": [
        {
          "output_type": "execute_result",
          "data": {
            "text/plain": [
              "alt.LayerChart(...)"
            ],
            "text/html": [
              "\n",
              "<div id=\"altair-viz-a95551ecf070482b9be5cfb77d38cacb\"></div>\n",
              "<script type=\"text/javascript\">\n",
              "  (function(spec, embedOpt){\n",
              "    let outputDiv = document.currentScript.previousElementSibling;\n",
              "    if (outputDiv.id !== \"altair-viz-a95551ecf070482b9be5cfb77d38cacb\") {\n",
              "      outputDiv = document.getElementById(\"altair-viz-a95551ecf070482b9be5cfb77d38cacb\");\n",
              "    }\n",
              "    const paths = {\n",
              "      \"vega\": \"https://cdn.jsdelivr.net/npm//vega@5?noext\",\n",
              "      \"vega-lib\": \"https://cdn.jsdelivr.net/npm//vega-lib?noext\",\n",
              "      \"vega-lite\": \"https://cdn.jsdelivr.net/npm//vega-lite@4.8.1?noext\",\n",
              "      \"vega-embed\": \"https://cdn.jsdelivr.net/npm//vega-embed@6?noext\",\n",
              "    };\n",
              "\n",
              "    function loadScript(lib) {\n",
              "      return new Promise(function(resolve, reject) {\n",
              "        var s = document.createElement('script');\n",
              "        s.src = paths[lib];\n",
              "        s.async = true;\n",
              "        s.onload = () => resolve(paths[lib]);\n",
              "        s.onerror = () => reject(`Error loading script: ${paths[lib]}`);\n",
              "        document.getElementsByTagName(\"head\")[0].appendChild(s);\n",
              "      });\n",
              "    }\n",
              "\n",
              "    function showError(err) {\n",
              "      outputDiv.innerHTML = `<div class=\"error\" style=\"color:red;\">${err}</div>`;\n",
              "      throw err;\n",
              "    }\n",
              "\n",
              "    function displayChart(vegaEmbed) {\n",
              "      vegaEmbed(outputDiv, spec, embedOpt)\n",
              "        .catch(err => showError(`Javascript Error: ${err.message}<br>This usually means there's a typo in your chart specification. See the javascript console for the full traceback.`));\n",
              "    }\n",
              "\n",
              "    if(typeof define === \"function\" && define.amd) {\n",
              "      requirejs.config({paths});\n",
              "      require([\"vega-embed\"], displayChart, err => showError(`Error loading script: ${err.message}`));\n",
              "    } else if (typeof vegaEmbed === \"function\") {\n",
              "      displayChart(vegaEmbed);\n",
              "    } else {\n",
              "      loadScript(\"vega\")\n",
              "        .then(() => loadScript(\"vega-lite\"))\n",
              "        .then(() => loadScript(\"vega-embed\"))\n",
              "        .catch(showError)\n",
              "        .then(() => displayChart(vegaEmbed));\n",
              "    }\n",
              "  })({\"config\": {\"view\": {\"continuousHeight\": 300, \"continuousWidth\": 400}, \"range\": {\"category\": {\"scheme\": \"redblue\"}}}, \"layer\": [{\"data\": {\"name\": \"data-958beae709c4ccdf9a5ab7516dd37f0f\"}, \"mark\": \"line\", \"encoding\": {\"color\": {\"type\": \"nominal\", \"field\": \"Poverty %\"}, \"x\": {\"type\": \"temporal\", \"field\": \"date\", \"title\": \"Date\"}, \"y\": {\"type\": \"quantitative\", \"field\": \"part_time_value\", \"title\": \"Part Time Work %\"}}, \"selection\": {\"selector001\": {\"type\": \"interval\", \"bind\": \"scales\", \"encodings\": [\"x\", \"y\"]}}, \"transform\": [{\"fold\": [\"Bottom 20 % Deviation\", \"Top 20 % Deviation\"], \"as\": [\"Poverty %\", \"part_time_value\"]}], \"width\": 1000}, {\"data\": {\"name\": \"data-7f3a6b86ed460c4e648f2393735a11f6\"}, \"mark\": {\"type\": \"rule\", \"color\": \"#757575\", \"size\": 2, \"strokeDash\": [5, 3]}, \"encoding\": {\"size\": {\"value\": 2}, \"y\": {\"type\": \"quantitative\", \"field\": \"Mean 2019\"}}}, {\"data\": {\"name\": \"data-d764767e7dd3b10b2c76c1355ce10ef3\"}, \"mark\": {\"type\": \"text\", \"angle\": 0, \"text\": \"Mean 2019\"}, \"encoding\": {\"opacity\": {\"value\": 0.4}, \"y\": {\"type\": \"quantitative\", \"field\": \"y\"}}}], \"$schema\": \"https://vega.github.io/schema/vega-lite/v4.8.1.json\", \"datasets\": {\"data-958beae709c4ccdf9a5ab7516dd37f0f\": [{\"date\": \"2020-03-16T00:00:00+00:00\", \"Top 20 %\": 6.355587604629876, \"Bottom 20 %\": 3.4027777777777777, \"Top 20 % Deviation\": -1.8320395660898425, \"Bottom 20 % Deviation\": -4.784849392941941}, {\"date\": \"2020-03-06T00:00:00+00:00\", \"Top 20 %\": 10.955960893236439, \"Bottom 20 %\": 7.1171818835370235, \"Top 20 % Deviation\": 2.7683337225167204, \"Bottom 20 % Deviation\": -1.0704452871826948}, {\"date\": \"2020-03-26T00:00:00+00:00\", \"Top 20 %\": 4.5043521416794965, \"Bottom 20 %\": 9.251412429378531, \"Top 20 % Deviation\": -3.683275029040222, \"Bottom 20 % Deviation\": 1.0637852586588128}, {\"date\": \"2020-03-25T00:00:00+00:00\", \"Top 20 %\": 4.36592963363411, \"Bottom 20 %\": 5.0, \"Top 20 % Deviation\": -3.8216975370856083, \"Bottom 20 % Deviation\": -3.1876271707197184}, {\"date\": \"2020-03-20T00:00:00+00:00\", \"Top 20 %\": 4.378235511094462, \"Bottom 20 %\": 4.171461449942463, \"Top 20 % Deviation\": -3.8093916596252564, \"Bottom 20 % Deviation\": -4.016165720777256}, {\"date\": \"2020-03-24T00:00:00+00:00\", \"Top 20 %\": 4.292091038861107, \"Bottom 20 %\": 4.196428571428571, \"Top 20 % Deviation\": -3.895536131858611, \"Bottom 20 % Deviation\": -3.991198599291147}, {\"date\": \"2020-03-10T00:00:00+00:00\", \"Top 20 %\": 11.504132705035927, \"Bottom 20 %\": 8.712660028449502, \"Top 20 % Deviation\": 3.3165055343162084, \"Bottom 20 % Deviation\": 0.5250328577297836}, {\"date\": \"2020-03-12T00:00:00+00:00\", \"Top 20 %\": 10.533183298358809, \"Bottom 20 %\": 8.049040511727078, \"Top 20 % Deviation\": 2.3455561276390906, \"Bottom 20 % Deviation\": -0.1385866589926401}, {\"date\": \"2020-03-11T00:00:00+00:00\", \"Top 20 %\": 11.942036801877407, \"Bottom 20 %\": 6.2198649951783995, \"Top 20 % Deviation\": 3.7544096311576887, \"Bottom 20 % Deviation\": -1.9677621755413188}, {\"date\": \"2020-03-13T00:00:00+00:00\", \"Top 20 %\": 9.741269636693675, \"Bottom 20 %\": 4.196428571428571, \"Top 20 % Deviation\": 1.5536424659739563, \"Bottom 20 % Deviation\": -3.991198599291147}, {\"date\": \"2020-03-27T00:00:00+00:00\", \"Top 20 %\": 4.7030718784023025, \"Bottom 20 %\": 5.846153846153847, \"Top 20 % Deviation\": -3.484555292317416, \"Bottom 20 % Deviation\": -2.3414733245658716}, {\"date\": \"2020-03-22T00:00:00+00:00\", \"Top 20 %\": 4.301693758074474, \"Bottom 20 %\": 3.427128427128427, \"Top 20 % Deviation\": -3.8859334126452447, \"Bottom 20 % Deviation\": -4.760498743591292}, {\"date\": \"2020-03-28T00:00:00+00:00\", \"Top 20 %\": 4.397336310651954, \"Bottom 20 %\": 6.25, \"Top 20 % Deviation\": -3.7902908600677643, \"Bottom 20 % Deviation\": -1.9376271707197184}, {\"date\": \"2020-03-19T00:00:00+00:00\", \"Top 20 %\": 5.292030462456118, \"Bottom 20 %\": 5.222693531283139, \"Top 20 % Deviation\": -2.8955967082636, \"Bottom 20 % Deviation\": -2.9649336394365795}, {\"date\": \"2020-03-09T00:00:00+00:00\", \"Top 20 %\": 11.663883564320201, \"Bottom 20 %\": 4.9593495934959355, \"Top 20 % Deviation\": 3.476256393600483, \"Bottom 20 % Deviation\": -3.228277577223783}, {\"date\": \"2020-03-29T00:00:00+00:00\", \"Top 20 %\": 4.043375201242437, \"Bottom 20 %\": 7.319078947368421, \"Top 20 % Deviation\": -4.144251969477281, \"Bottom 20 % Deviation\": -0.8685482233512971}, {\"date\": \"2020-03-08T00:00:00+00:00\", \"Top 20 %\": 5.382758353483975, \"Bottom 20 %\": 6.837606837606837, \"Top 20 % Deviation\": -2.804868817235743, \"Bottom 20 % Deviation\": -1.350020333112881}, {\"date\": \"2020-03-15T00:00:00+00:00\", \"Top 20 %\": 4.591702087962789, \"Bottom 20 %\": 3.4788108791903856, \"Top 20 % Deviation\": -3.5959250827569296, \"Bottom 20 % Deviation\": -4.708816291529333}, {\"date\": \"2020-03-07T00:00:00+00:00\", \"Top 20 %\": 6.739595210100302, \"Bottom 20 %\": 5.9523809523809526, \"Top 20 % Deviation\": -1.4480319606194163, \"Bottom 20 % Deviation\": -2.235246218338766}, {\"date\": \"2020-03-17T00:00:00+00:00\", \"Top 20 %\": 6.0066362347388305, \"Bottom 20 %\": 4.512820512820513, \"Top 20 % Deviation\": -2.180990935980888, \"Bottom 20 % Deviation\": -3.6748066578992056}, {\"date\": \"2020-03-18T00:00:00+00:00\", \"Top 20 %\": 5.810803084009885, \"Bottom 20 %\": 3.7063953488372094, \"Top 20 % Deviation\": -2.376824086709833, \"Bottom 20 % Deviation\": -4.481231821882509}, {\"date\": \"2020-03-31T00:00:00+00:00\", \"Top 20 %\": 4.492552891528527, \"Bottom 20 %\": 5.584016393442623, \"Top 20 % Deviation\": -3.695074279191191, \"Bottom 20 % Deviation\": -2.603610777277096}, {\"date\": \"2020-03-14T00:00:00+00:00\", \"Top 20 %\": 5.2616266457678975, \"Bottom 20 %\": 3.5628019323671496, \"Top 20 % Deviation\": -2.926000524951821, \"Bottom 20 % Deviation\": -4.624825238352569}, {\"date\": \"2020-03-23T00:00:00+00:00\", \"Top 20 %\": 4.9005633168142175, \"Bottom 20 %\": 4.188712522045855, \"Top 20 % Deviation\": -3.287063853905501, \"Bottom 20 % Deviation\": -3.998914648673863}, {\"date\": \"2020-03-30T00:00:00+00:00\", \"Top 20 %\": 4.547311257165511, \"Bottom 20 %\": 4.895833333333334, \"Top 20 % Deviation\": -3.6403159135542076, \"Bottom 20 % Deviation\": -3.2917938373863844}, {\"date\": \"2020-03-21T00:00:00+00:00\", \"Top 20 %\": 3.9903794954097704, \"Bottom 20 %\": 6.0, \"Top 20 % Deviation\": -4.1972476753099475, \"Bottom 20 % Deviation\": -2.1876271707197184}], \"data-7f3a6b86ed460c4e648f2393735a11f6\": [{\"Mean 2019\": 0}], \"data-d764767e7dd3b10b2c76c1355ce10ef3\": [{\"y\": 1}]}}, {\"mode\": \"vega-lite\"});\n",
              "</script>"
            ]
          },
          "metadata": {
            "tags": []
          },
          "execution_count": 28
        },
        {
          "output_type": "stream",
          "text": [
            "time: 79.6 ms (started: 2021-04-22 19:31:55 +00:00)\n"
          ],
          "name": "stdout"
        }
      ]
    },
    {
      "cell_type": "markdown",
      "metadata": {
        "id": "eY48F9-7gp2q"
      },
      "source": [
        "\n",
        "\n",
        "**April 10, 2020:**\n",
        "NYS records more COVID19 cases than any other country \n",
        "\n",
        "\n",
        "\n",
        "\n",
        "\n",
        "\n",
        "\n"
      ]
    },
    {
      "cell_type": "code",
      "metadata": {
        "colab": {
          "base_uri": "https://localhost:8080/",
          "height": 385
        },
        "id": "_DhDPv1GfRhR",
        "outputId": "9e27a3fb-ce6c-4c59-fb2e-6ac74061c9b2"
      },
      "source": [
        "start_date = '2020-4-2'\n",
        "end_date = '2020-4-24'\n",
        "df2 = apply_date_filter(df,start_date,end_date)\n",
        "chart = create_chart(df2)\n",
        "chart\n",
        "#df2"
      ],
      "execution_count": null,
      "outputs": [
        {
          "output_type": "execute_result",
          "data": {
            "text/plain": [
              "alt.LayerChart(...)"
            ],
            "text/html": [
              "\n",
              "<div id=\"altair-viz-fab53c9ca19f40c3bab6bdaba7d7b54c\"></div>\n",
              "<script type=\"text/javascript\">\n",
              "  (function(spec, embedOpt){\n",
              "    let outputDiv = document.currentScript.previousElementSibling;\n",
              "    if (outputDiv.id !== \"altair-viz-fab53c9ca19f40c3bab6bdaba7d7b54c\") {\n",
              "      outputDiv = document.getElementById(\"altair-viz-fab53c9ca19f40c3bab6bdaba7d7b54c\");\n",
              "    }\n",
              "    const paths = {\n",
              "      \"vega\": \"https://cdn.jsdelivr.net/npm//vega@5?noext\",\n",
              "      \"vega-lib\": \"https://cdn.jsdelivr.net/npm//vega-lib?noext\",\n",
              "      \"vega-lite\": \"https://cdn.jsdelivr.net/npm//vega-lite@4.8.1?noext\",\n",
              "      \"vega-embed\": \"https://cdn.jsdelivr.net/npm//vega-embed@6?noext\",\n",
              "    };\n",
              "\n",
              "    function loadScript(lib) {\n",
              "      return new Promise(function(resolve, reject) {\n",
              "        var s = document.createElement('script');\n",
              "        s.src = paths[lib];\n",
              "        s.async = true;\n",
              "        s.onload = () => resolve(paths[lib]);\n",
              "        s.onerror = () => reject(`Error loading script: ${paths[lib]}`);\n",
              "        document.getElementsByTagName(\"head\")[0].appendChild(s);\n",
              "      });\n",
              "    }\n",
              "\n",
              "    function showError(err) {\n",
              "      outputDiv.innerHTML = `<div class=\"error\" style=\"color:red;\">${err}</div>`;\n",
              "      throw err;\n",
              "    }\n",
              "\n",
              "    function displayChart(vegaEmbed) {\n",
              "      vegaEmbed(outputDiv, spec, embedOpt)\n",
              "        .catch(err => showError(`Javascript Error: ${err.message}<br>This usually means there's a typo in your chart specification. See the javascript console for the full traceback.`));\n",
              "    }\n",
              "\n",
              "    if(typeof define === \"function\" && define.amd) {\n",
              "      requirejs.config({paths});\n",
              "      require([\"vega-embed\"], displayChart, err => showError(`Error loading script: ${err.message}`));\n",
              "    } else if (typeof vegaEmbed === \"function\") {\n",
              "      displayChart(vegaEmbed);\n",
              "    } else {\n",
              "      loadScript(\"vega\")\n",
              "        .then(() => loadScript(\"vega-lite\"))\n",
              "        .then(() => loadScript(\"vega-embed\"))\n",
              "        .catch(showError)\n",
              "        .then(() => displayChart(vegaEmbed));\n",
              "    }\n",
              "  })({\"config\": {\"view\": {\"continuousHeight\": 300, \"continuousWidth\": 400}, \"range\": {\"category\": {\"scheme\": \"redblue\"}}}, \"layer\": [{\"data\": {\"name\": \"data-934295692526dfc950e0b9f512837ef1\"}, \"mark\": \"line\", \"encoding\": {\"color\": {\"type\": \"nominal\", \"field\": \"Poverty %\"}, \"x\": {\"type\": \"temporal\", \"field\": \"date\", \"title\": \"Date\"}, \"y\": {\"type\": \"quantitative\", \"field\": \"part_time_value\", \"title\": \"Part Time Work %\"}}, \"selection\": {\"selector002\": {\"type\": \"interval\", \"bind\": \"scales\", \"encodings\": [\"x\", \"y\"]}}, \"transform\": [{\"fold\": [\"Bottom 20 % Deviation\", \"Top 20 % Deviation\"], \"as\": [\"Poverty %\", \"part_time_value\"]}], \"width\": 1000}, {\"data\": {\"name\": \"data-7f3a6b86ed460c4e648f2393735a11f6\"}, \"mark\": {\"type\": \"rule\", \"color\": \"#757575\", \"size\": 2, \"strokeDash\": [5, 3]}, \"encoding\": {\"size\": {\"value\": 2}, \"y\": {\"type\": \"quantitative\", \"field\": \"Mean 2019\"}}}, {\"data\": {\"name\": \"data-d764767e7dd3b10b2c76c1355ce10ef3\"}, \"mark\": {\"type\": \"text\", \"angle\": 0, \"text\": \"Mean 2019\"}, \"encoding\": {\"opacity\": {\"value\": 0.4}, \"y\": {\"type\": \"quantitative\", \"field\": \"y\"}}}], \"$schema\": \"https://vega.github.io/schema/vega-lite/v4.8.1.json\", \"datasets\": {\"data-934295692526dfc950e0b9f512837ef1\": [{\"date\": \"2020-04-13T00:00:00+00:00\", \"Top 20 %\": 4.067296823902472, \"Bottom 20 %\": 4.5183714001986095, \"Top 20 % Deviation\": -4.120330346817246, \"Bottom 20 % Deviation\": -3.669255770521109}, {\"date\": \"2020-04-12T00:00:00+00:00\", \"Top 20 %\": 3.4816590126845806, \"Bottom 20 %\": 4.819915254237288, \"Top 20 % Deviation\": -4.705968158035137, \"Bottom 20 % Deviation\": -3.3677119164824303}, {\"date\": \"2020-04-20T00:00:00+00:00\", \"Top 20 %\": 4.601568771689103, \"Bottom 20 %\": 5.087719298245614, \"Top 20 % Deviation\": -3.586058399030615, \"Bottom 20 % Deviation\": -3.0999078724741045}, {\"date\": \"2020-04-22T00:00:00+00:00\", \"Top 20 %\": 4.77735818743912, \"Bottom 20 %\": 3.412828947368421, \"Top 20 % Deviation\": -3.4102689832805986, \"Bottom 20 % Deviation\": -4.774798223351297}, {\"date\": \"2020-04-19T00:00:00+00:00\", \"Top 20 %\": 4.176421727102279, \"Bottom 20 %\": 8.85509838998211, \"Top 20 % Deviation\": -4.011205443617439, \"Bottom 20 % Deviation\": 0.6674712192623922}, {\"date\": \"2020-04-10T00:00:00+00:00\", \"Top 20 %\": 3.72830317376554, \"Bottom 20 %\": 4.294871794871795, \"Top 20 % Deviation\": -4.459323996954178, \"Bottom 20 % Deviation\": -3.8927553758479236}, {\"date\": \"2020-04-23T00:00:00+00:00\", \"Top 20 %\": 4.132422069691656, \"Bottom 20 %\": 3.1655844155844157, \"Top 20 % Deviation\": -4.055205101028062, \"Bottom 20 % Deviation\": -5.022042755135303}, {\"date\": \"2020-04-21T00:00:00+00:00\", \"Top 20 %\": 4.447865297932603, \"Bottom 20 %\": 4.147640791476408, \"Top 20 % Deviation\": -3.739761872787115, \"Bottom 20 % Deviation\": -4.03998637924331}, {\"date\": \"2020-04-09T00:00:00+00:00\", \"Top 20 %\": 3.8817936389555587, \"Bottom 20 %\": 3.574975173783515, \"Top 20 % Deviation\": -4.30583353176416, \"Bottom 20 % Deviation\": -4.612651996936203}, {\"date\": \"2020-04-17T00:00:00+00:00\", \"Top 20 %\": 4.454799519026871, \"Bottom 20 %\": 2.9433962264150946, \"Top 20 % Deviation\": -3.7328276516928476, \"Bottom 20 % Deviation\": -5.244230944304624}, {\"date\": \"2020-04-08T00:00:00+00:00\", \"Top 20 %\": 4.067794930703373, \"Bottom 20 %\": 5.7923497267759565, \"Top 20 % Deviation\": -4.119832240016345, \"Bottom 20 % Deviation\": -2.395277443943762}, {\"date\": \"2020-04-15T00:00:00+00:00\", \"Top 20 %\": 4.724807825065994, \"Bottom 20 %\": 3.767942583732057, \"Top 20 % Deviation\": -3.462819345653724, \"Bottom 20 % Deviation\": -4.419684586987661}, {\"date\": \"2020-04-03T00:00:00+00:00\", \"Top 20 %\": 4.6479422528819025, \"Bottom 20 %\": 4.9148606811145505, \"Top 20 % Deviation\": -3.539684917837816, \"Bottom 20 % Deviation\": -3.272766489605168}, {\"date\": \"2020-04-11T00:00:00+00:00\", \"Top 20 %\": 4.294562203479168, \"Bottom 20 %\": 5.050933786078098, \"Top 20 % Deviation\": -3.8930649672405506, \"Bottom 20 % Deviation\": -3.13669338464162}, {\"date\": \"2020-04-06T00:00:00+00:00\", \"Top 20 %\": 3.833961990736748, \"Bottom 20 %\": 4.501915708812261, \"Top 20 % Deviation\": -4.35366517998297, \"Bottom 20 % Deviation\": -3.6857114619074576}, {\"date\": \"2020-04-04T00:00:00+00:00\", \"Top 20 %\": 3.328764104267784, \"Bottom 20 %\": 4.068627450980392, \"Top 20 % Deviation\": -4.858863066451935, \"Bottom 20 % Deviation\": -4.118999719739326}, {\"date\": \"2020-04-14T00:00:00+00:00\", \"Top 20 %\": 4.155705406296933, \"Bottom 20 %\": 5.581613508442777, \"Top 20 % Deviation\": -4.031921764422785, \"Bottom 20 % Deviation\": -2.6060136622769416}, {\"date\": \"2020-04-18T00:00:00+00:00\", \"Top 20 %\": 3.4004007757048886, \"Bottom 20 %\": 4.060150375939849, \"Top 20 % Deviation\": -4.78722639501483, \"Bottom 20 % Deviation\": -4.127476794779869}, {\"date\": \"2020-04-24T00:00:00+00:00\", \"Top 20 %\": 4.279539009469524, \"Bottom 20 %\": 4.501915708812261, \"Top 20 % Deviation\": -3.9080881612501948, \"Bottom 20 % Deviation\": -3.6857114619074576}, {\"date\": \"2020-04-16T00:00:00+00:00\", \"Top 20 %\": 4.687605278911885, \"Bottom 20 %\": 4.945054945054945, \"Top 20 % Deviation\": -3.500021891807833, \"Bottom 20 % Deviation\": -3.242572225664773}, {\"date\": \"2020-04-07T00:00:00+00:00\", \"Top 20 %\": 4.155837395211407, \"Bottom 20 %\": 5.919540229885058, \"Top 20 % Deviation\": -4.031789775508312, \"Bottom 20 % Deviation\": -2.2680869408346602}, {\"date\": \"2020-04-05T00:00:00+00:00\", \"Top 20 %\": 3.7711872463129312, \"Bottom 20 %\": 3.306451612903226, \"Top 20 % Deviation\": -4.416439924406787, \"Bottom 20 % Deviation\": -4.881175557816492}], \"data-7f3a6b86ed460c4e648f2393735a11f6\": [{\"Mean 2019\": 0}], \"data-d764767e7dd3b10b2c76c1355ce10ef3\": [{\"y\": 1}]}}, {\"mode\": \"vega-lite\"});\n",
              "</script>"
            ]
          },
          "metadata": {
            "tags": []
          },
          "execution_count": 29
        },
        {
          "output_type": "stream",
          "text": [
            "time: 59.4 ms (started: 2021-04-22 19:31:55 +00:00)\n"
          ],
          "name": "stdout"
        }
      ]
    },
    {
      "cell_type": "markdown",
      "metadata": {
        "id": "mxC6dH7YiWxd"
      },
      "source": [
        "\n",
        "**July 6, 2020:** \n",
        "NYC begins Phase 3 of reopening, without indoor dining\n",
        "\n",
        "\n",
        "\n"
      ]
    },
    {
      "cell_type": "code",
      "metadata": {
        "colab": {
          "base_uri": "https://localhost:8080/",
          "height": 385
        },
        "id": "KTaOPmN5fRmL",
        "outputId": "887f47fe-02ec-4b2e-fe09-0fd099b2a1ac"
      },
      "source": [
        "start_date = '2020-7-1'\n",
        "end_date = '2020-7-16'\n",
        "df3 = apply_date_filter(df,start_date,end_date)\n",
        "chart = create_chart(df3)\n",
        "chart"
      ],
      "execution_count": null,
      "outputs": [
        {
          "output_type": "execute_result",
          "data": {
            "text/plain": [
              "alt.LayerChart(...)"
            ],
            "text/html": [
              "\n",
              "<div id=\"altair-viz-8c5b616ab28c433bb33c1f963471952d\"></div>\n",
              "<script type=\"text/javascript\">\n",
              "  (function(spec, embedOpt){\n",
              "    let outputDiv = document.currentScript.previousElementSibling;\n",
              "    if (outputDiv.id !== \"altair-viz-8c5b616ab28c433bb33c1f963471952d\") {\n",
              "      outputDiv = document.getElementById(\"altair-viz-8c5b616ab28c433bb33c1f963471952d\");\n",
              "    }\n",
              "    const paths = {\n",
              "      \"vega\": \"https://cdn.jsdelivr.net/npm//vega@5?noext\",\n",
              "      \"vega-lib\": \"https://cdn.jsdelivr.net/npm//vega-lib?noext\",\n",
              "      \"vega-lite\": \"https://cdn.jsdelivr.net/npm//vega-lite@4.8.1?noext\",\n",
              "      \"vega-embed\": \"https://cdn.jsdelivr.net/npm//vega-embed@6?noext\",\n",
              "    };\n",
              "\n",
              "    function loadScript(lib) {\n",
              "      return new Promise(function(resolve, reject) {\n",
              "        var s = document.createElement('script');\n",
              "        s.src = paths[lib];\n",
              "        s.async = true;\n",
              "        s.onload = () => resolve(paths[lib]);\n",
              "        s.onerror = () => reject(`Error loading script: ${paths[lib]}`);\n",
              "        document.getElementsByTagName(\"head\")[0].appendChild(s);\n",
              "      });\n",
              "    }\n",
              "\n",
              "    function showError(err) {\n",
              "      outputDiv.innerHTML = `<div class=\"error\" style=\"color:red;\">${err}</div>`;\n",
              "      throw err;\n",
              "    }\n",
              "\n",
              "    function displayChart(vegaEmbed) {\n",
              "      vegaEmbed(outputDiv, spec, embedOpt)\n",
              "        .catch(err => showError(`Javascript Error: ${err.message}<br>This usually means there's a typo in your chart specification. See the javascript console for the full traceback.`));\n",
              "    }\n",
              "\n",
              "    if(typeof define === \"function\" && define.amd) {\n",
              "      requirejs.config({paths});\n",
              "      require([\"vega-embed\"], displayChart, err => showError(`Error loading script: ${err.message}`));\n",
              "    } else if (typeof vegaEmbed === \"function\") {\n",
              "      displayChart(vegaEmbed);\n",
              "    } else {\n",
              "      loadScript(\"vega\")\n",
              "        .then(() => loadScript(\"vega-lite\"))\n",
              "        .then(() => loadScript(\"vega-embed\"))\n",
              "        .catch(showError)\n",
              "        .then(() => displayChart(vegaEmbed));\n",
              "    }\n",
              "  })({\"config\": {\"view\": {\"continuousHeight\": 300, \"continuousWidth\": 400}, \"range\": {\"category\": {\"scheme\": \"redblue\"}}}, \"layer\": [{\"data\": {\"name\": \"data-554dcb4d61ef856aa9fcc8094cefc3cb\"}, \"mark\": \"line\", \"encoding\": {\"color\": {\"type\": \"nominal\", \"field\": \"Poverty %\"}, \"x\": {\"type\": \"temporal\", \"field\": \"date\", \"title\": \"Date\"}, \"y\": {\"type\": \"quantitative\", \"field\": \"part_time_value\", \"title\": \"Part Time Work %\"}}, \"selection\": {\"selector003\": {\"type\": \"interval\", \"bind\": \"scales\", \"encodings\": [\"x\", \"y\"]}}, \"transform\": [{\"fold\": [\"Bottom 20 % Deviation\", \"Top 20 % Deviation\"], \"as\": [\"Poverty %\", \"part_time_value\"]}], \"width\": 1000}, {\"data\": {\"name\": \"data-7f3a6b86ed460c4e648f2393735a11f6\"}, \"mark\": {\"type\": \"rule\", \"color\": \"#757575\", \"size\": 2, \"strokeDash\": [5, 3]}, \"encoding\": {\"size\": {\"value\": 2}, \"y\": {\"type\": \"quantitative\", \"field\": \"Mean 2019\"}}}, {\"data\": {\"name\": \"data-d764767e7dd3b10b2c76c1355ce10ef3\"}, \"mark\": {\"type\": \"text\", \"angle\": 0, \"text\": \"Mean 2019\"}, \"encoding\": {\"opacity\": {\"value\": 0.4}, \"y\": {\"type\": \"quantitative\", \"field\": \"y\"}}}], \"$schema\": \"https://vega.github.io/schema/vega-lite/v4.8.1.json\", \"datasets\": {\"data-554dcb4d61ef856aa9fcc8094cefc3cb\": [{\"date\": \"2020-07-12T00:00:00+00:00\", \"Top 20 %\": 5.089128015302889, \"Bottom 20 %\": 6.575963718820861, \"Top 20 % Deviation\": -3.098499155416829, \"Bottom 20 % Deviation\": -1.611663451898857}, {\"date\": \"2020-07-03T00:00:00+00:00\", \"Top 20 %\": 5.638583627603641, \"Bottom 20 %\": 8.054226475279107, \"Top 20 % Deviation\": -2.5490435431160776, \"Bottom 20 % Deviation\": -0.13340069544061173}, {\"date\": \"2020-07-14T00:00:00+00:00\", \"Top 20 %\": 5.805183786692989, \"Bottom 20 %\": 7.763157894736842, \"Top 20 % Deviation\": -2.382443384026729, \"Bottom 20 % Deviation\": -0.42446927598287676}, {\"date\": \"2020-07-07T00:00:00+00:00\", \"Top 20 %\": 6.846500596033681, \"Bottom 20 %\": 5.090595340811044, \"Top 20 % Deviation\": -1.3411265746860375, \"Bottom 20 % Deviation\": -3.0970318299086745}, {\"date\": \"2020-07-08T00:00:00+00:00\", \"Top 20 %\": 5.602605298216885, \"Bottom 20 %\": 5.374149659863946, \"Top 20 % Deviation\": -2.5850218725028338, \"Bottom 20 % Deviation\": -2.8134775108557726}, {\"date\": \"2020-07-16T00:00:00+00:00\", \"Top 20 %\": 5.899830665609351, \"Bottom 20 %\": 3.987068965517241, \"Top 20 % Deviation\": -2.287796505110367, \"Bottom 20 % Deviation\": -4.200558205202477}, {\"date\": \"2020-07-13T00:00:00+00:00\", \"Top 20 %\": 5.424434965040383, \"Bottom 20 %\": 4.125, \"Top 20 % Deviation\": -2.763192205679335, \"Bottom 20 % Deviation\": -4.062627170719718}, {\"date\": \"2020-07-11T00:00:00+00:00\", \"Top 20 %\": 5.317261592428334, \"Bottom 20 %\": 5.6673728813559325, \"Top 20 % Deviation\": -2.870365578291384, \"Bottom 20 % Deviation\": -2.520254289363786}, {\"date\": \"2020-07-04T00:00:00+00:00\", \"Top 20 %\": 5.341807234278993, \"Bottom 20 %\": 4.5036764705882355, \"Top 20 % Deviation\": -2.8458199364407255, \"Bottom 20 % Deviation\": -3.683950700131483}, {\"date\": \"2020-07-10T00:00:00+00:00\", \"Top 20 %\": 5.292075225305342, \"Bottom 20 %\": 6.545454545454546, \"Top 20 % Deviation\": -2.8955519454143763, \"Bottom 20 % Deviation\": -1.6421726252651725}, {\"date\": \"2020-07-09T00:00:00+00:00\", \"Top 20 %\": 5.7703539577644705, \"Bottom 20 %\": 5.714285714285714, \"Top 20 % Deviation\": -2.417273212955248, \"Bottom 20 % Deviation\": -2.473341456434004}, {\"date\": \"2020-07-06T00:00:00+00:00\", \"Top 20 %\": 5.698926076672736, \"Bottom 20 %\": 3.6252354048964217, \"Top 20 % Deviation\": -2.4887010940469825, \"Bottom 20 % Deviation\": -4.562391765823296}, {\"date\": \"2020-07-02T00:00:00+00:00\", \"Top 20 %\": 5.983472222903676, \"Bottom 20 %\": 11.700581395348838, \"Top 20 % Deviation\": -2.2041549478160425, \"Bottom 20 % Deviation\": 3.5129542246291194}, {\"date\": \"2020-07-15T00:00:00+00:00\", \"Top 20 %\": 5.786815978649305, \"Bottom 20 %\": 5.115089514066495, \"Top 20 % Deviation\": -2.400811192070413, \"Bottom 20 % Deviation\": -3.072537656653223}, {\"date\": \"2020-07-05T00:00:00+00:00\", \"Top 20 %\": 5.232146714302395, \"Bottom 20 %\": 5.833333333333334, \"Top 20 % Deviation\": -2.955480456417323, \"Bottom 20 % Deviation\": -2.3542938373863844}], \"data-7f3a6b86ed460c4e648f2393735a11f6\": [{\"Mean 2019\": 0}], \"data-d764767e7dd3b10b2c76c1355ce10ef3\": [{\"y\": 1}]}}, {\"mode\": \"vega-lite\"});\n",
              "</script>"
            ]
          },
          "metadata": {
            "tags": []
          },
          "execution_count": 30
        },
        {
          "output_type": "stream",
          "text": [
            "time: 60.4 ms (started: 2021-04-22 19:31:55 +00:00)\n"
          ],
          "name": "stdout"
        }
      ]
    },
    {
      "cell_type": "markdown",
      "metadata": {
        "id": "I1uLmyxVi6Zo"
      },
      "source": [
        "**October 28, 2020:** New York tops a half-million confirmed COVID-19 cases\n"
      ]
    },
    {
      "cell_type": "code",
      "metadata": {
        "colab": {
          "base_uri": "https://localhost:8080/",
          "height": 380
        },
        "id": "YZ29_JeZfRqz",
        "outputId": "e479c5b9-8d24-42e3-b5d1-132c31351ff0"
      },
      "source": [
        "start_date = '2020-10-20'\n",
        "end_date = '2020-11-8'\n",
        "df4 = apply_date_filter(df,start_date,end_date)\n",
        "chart = create_chart(df4)\n",
        "chart"
      ],
      "execution_count": null,
      "outputs": [
        {
          "output_type": "execute_result",
          "data": {
            "text/plain": [
              "alt.LayerChart(...)"
            ],
            "text/html": [
              "\n",
              "<div id=\"altair-viz-4c49d5539d18464a977a6d5490e0e902\"></div>\n",
              "<script type=\"text/javascript\">\n",
              "  (function(spec, embedOpt){\n",
              "    let outputDiv = document.currentScript.previousElementSibling;\n",
              "    if (outputDiv.id !== \"altair-viz-4c49d5539d18464a977a6d5490e0e902\") {\n",
              "      outputDiv = document.getElementById(\"altair-viz-4c49d5539d18464a977a6d5490e0e902\");\n",
              "    }\n",
              "    const paths = {\n",
              "      \"vega\": \"https://cdn.jsdelivr.net/npm//vega@5?noext\",\n",
              "      \"vega-lib\": \"https://cdn.jsdelivr.net/npm//vega-lib?noext\",\n",
              "      \"vega-lite\": \"https://cdn.jsdelivr.net/npm//vega-lite@4.8.1?noext\",\n",
              "      \"vega-embed\": \"https://cdn.jsdelivr.net/npm//vega-embed@6?noext\",\n",
              "    };\n",
              "\n",
              "    function loadScript(lib) {\n",
              "      return new Promise(function(resolve, reject) {\n",
              "        var s = document.createElement('script');\n",
              "        s.src = paths[lib];\n",
              "        s.async = true;\n",
              "        s.onload = () => resolve(paths[lib]);\n",
              "        s.onerror = () => reject(`Error loading script: ${paths[lib]}`);\n",
              "        document.getElementsByTagName(\"head\")[0].appendChild(s);\n",
              "      });\n",
              "    }\n",
              "\n",
              "    function showError(err) {\n",
              "      outputDiv.innerHTML = `<div class=\"error\" style=\"color:red;\">${err}</div>`;\n",
              "      throw err;\n",
              "    }\n",
              "\n",
              "    function displayChart(vegaEmbed) {\n",
              "      vegaEmbed(outputDiv, spec, embedOpt)\n",
              "        .catch(err => showError(`Javascript Error: ${err.message}<br>This usually means there's a typo in your chart specification. See the javascript console for the full traceback.`));\n",
              "    }\n",
              "\n",
              "    if(typeof define === \"function\" && define.amd) {\n",
              "      requirejs.config({paths});\n",
              "      require([\"vega-embed\"], displayChart, err => showError(`Error loading script: ${err.message}`));\n",
              "    } else if (typeof vegaEmbed === \"function\") {\n",
              "      displayChart(vegaEmbed);\n",
              "    } else {\n",
              "      loadScript(\"vega\")\n",
              "        .then(() => loadScript(\"vega-lite\"))\n",
              "        .then(() => loadScript(\"vega-embed\"))\n",
              "        .catch(showError)\n",
              "        .then(() => displayChart(vegaEmbed));\n",
              "    }\n",
              "  })({\"config\": {\"view\": {\"continuousHeight\": 300, \"continuousWidth\": 400}, \"range\": {\"category\": {\"scheme\": \"redblue\"}}}, \"layer\": [{\"data\": {\"name\": \"data-51093945c753167c8b7c65f696abdcd2\"}, \"mark\": \"line\", \"encoding\": {\"color\": {\"type\": \"nominal\", \"field\": \"Poverty %\"}, \"x\": {\"type\": \"temporal\", \"field\": \"date\", \"title\": \"Date\"}, \"y\": {\"type\": \"quantitative\", \"field\": \"part_time_value\", \"title\": \"Part Time Work %\"}}, \"selection\": {\"selector004\": {\"type\": \"interval\", \"bind\": \"scales\", \"encodings\": [\"x\", \"y\"]}}, \"transform\": [{\"fold\": [\"Bottom 20 % Deviation\", \"Top 20 % Deviation\"], \"as\": [\"Poverty %\", \"part_time_value\"]}], \"width\": 1000}, {\"data\": {\"name\": \"data-7f3a6b86ed460c4e648f2393735a11f6\"}, \"mark\": {\"type\": \"rule\", \"color\": \"#757575\", \"size\": 2, \"strokeDash\": [5, 3]}, \"encoding\": {\"size\": {\"value\": 2}, \"y\": {\"type\": \"quantitative\", \"field\": \"Mean 2019\"}}}, {\"data\": {\"name\": \"data-d764767e7dd3b10b2c76c1355ce10ef3\"}, \"mark\": {\"type\": \"text\", \"angle\": 0, \"text\": \"Mean 2019\"}, \"encoding\": {\"opacity\": {\"value\": 0.4}, \"y\": {\"type\": \"quantitative\", \"field\": \"y\"}}}], \"$schema\": \"https://vega.github.io/schema/vega-lite/v4.8.1.json\", \"datasets\": {\"data-51093945c753167c8b7c65f696abdcd2\": [{\"date\": \"2020-10-24T00:00:00+00:00\", \"Top 20 %\": 5.689643873547184, \"Bottom 20 %\": 5.433455433455434, \"Top 20 % Deviation\": -2.497983297172534, \"Bottom 20 % Deviation\": -2.7541717372642847}, {\"date\": \"2020-10-21T00:00:00+00:00\", \"Top 20 %\": 6.532757156549361, \"Bottom 20 %\": 5.016583747927031, \"Top 20 % Deviation\": -1.6548700141703572, \"Bottom 20 % Deviation\": -3.171043422792687}, {\"date\": \"2020-10-29T00:00:00+00:00\", \"Top 20 %\": 7.078905270683148, \"Bottom 20 %\": 6.894934333958725, \"Top 20 % Deviation\": -1.1087219000365707, \"Bottom 20 % Deviation\": -1.2926928367609936}, {\"date\": \"2020-11-08T00:00:00+00:00\", \"Top 20 %\": 6.003662367716171, \"Bottom 20 %\": 6.724137931034482, \"Top 20 % Deviation\": -2.1839648030035477, \"Bottom 20 % Deviation\": -1.4634892396852361}, {\"date\": \"2020-11-02T00:00:00+00:00\", \"Top 20 %\": 6.8042782866986515, \"Bottom 20 %\": 8.258258258258259, \"Top 20 % Deviation\": -1.3833488840210668, \"Bottom 20 % Deviation\": 0.07063108753854053}, {\"date\": \"2020-11-05T00:00:00+00:00\", \"Top 20 %\": 7.730850150786722, \"Bottom 20 %\": 7.986111111111112, \"Top 20 % Deviation\": -0.45677701993299635, \"Bottom 20 % Deviation\": -0.20151605960860675}, {\"date\": \"2020-11-03T00:00:00+00:00\", \"Top 20 %\": 6.605174486254762, \"Bottom 20 %\": 9.126984126984127, \"Top 20 % Deviation\": -1.5824526844649567, \"Bottom 20 % Deviation\": 0.9393569562644082}, {\"date\": \"2020-10-26T00:00:00+00:00\", \"Top 20 %\": 7.250217737587059, \"Bottom 20 %\": 4.352678571428571, \"Top 20 % Deviation\": -0.9374094331326592, \"Bottom 20 % Deviation\": -3.834948599291147}, {\"date\": \"2020-10-27T00:00:00+00:00\", \"Top 20 %\": 7.305446675273963, \"Bottom 20 %\": 3.90625, \"Top 20 % Deviation\": -0.8821804954457555, \"Bottom 20 % Deviation\": -4.281377170719718}, {\"date\": \"2020-10-28T00:00:00+00:00\", \"Top 20 %\": 7.132745283537083, \"Bottom 20 %\": 6.904761904761905, \"Top 20 % Deviation\": -1.0548818871826358, \"Bottom 20 % Deviation\": -1.2828652659578132}, {\"date\": \"2020-11-06T00:00:00+00:00\", \"Top 20 %\": 7.0260790636263275, \"Bottom 20 %\": 4.999999999999999, \"Top 20 % Deviation\": -1.1615481070933908, \"Bottom 20 % Deviation\": -3.1876271707197192}, {\"date\": \"2020-11-07T00:00:00+00:00\", \"Top 20 %\": 6.0138932189205105, \"Bottom 20 %\": 6.158357771260997, \"Top 20 % Deviation\": -2.173733951799208, \"Bottom 20 % Deviation\": -2.0292693994587214}, {\"date\": \"2020-10-30T00:00:00+00:00\", \"Top 20 %\": 7.467002777049376, \"Bottom 20 %\": 9.043659043659044, \"Top 20 % Deviation\": -0.7206243936703425, \"Bottom 20 % Deviation\": 0.8560318729393259}, {\"date\": \"2020-11-04T00:00:00+00:00\", \"Top 20 %\": 7.590621531690256, \"Bottom 20 %\": 16.947791164658636, \"Top 20 % Deviation\": -0.5970056390294625, \"Bottom 20 % Deviation\": 8.760163993938917}, {\"date\": \"2020-10-31T00:00:00+00:00\", \"Top 20 %\": 4.988816798245873, \"Bottom 20 %\": 4.910714285714286, \"Top 20 % Deviation\": -3.1988103724738455, \"Bottom 20 % Deviation\": -3.2769128850054328}, {\"date\": \"2020-10-22T00:00:00+00:00\", \"Top 20 %\": 7.129654753148708, \"Bottom 20 %\": 7.023809523809524, \"Top 20 % Deviation\": -1.0579724175710101, \"Bottom 20 % Deviation\": -1.1638176469101946}, {\"date\": \"2020-11-01T00:00:00+00:00\", \"Top 20 %\": 10.59036027721126, \"Bottom 20 %\": 9.890710382513662, \"Top 20 % Deviation\": 2.4027331064915423, \"Bottom 20 % Deviation\": 1.7030832117939436}, {\"date\": \"2020-10-23T00:00:00+00:00\", \"Top 20 %\": 7.649851488072787, \"Bottom 20 %\": 10.535714285714285, \"Top 20 % Deviation\": -0.5377756826469318, \"Bottom 20 % Deviation\": 2.3480871149945663}, {\"date\": \"2020-10-25T00:00:00+00:00\", \"Top 20 %\": 4.8736658746989026, \"Bottom 20 %\": 4.195402298850575, \"Top 20 % Deviation\": -3.313961296020816, \"Bottom 20 % Deviation\": -3.9922248718691433}], \"data-7f3a6b86ed460c4e648f2393735a11f6\": [{\"Mean 2019\": 0}], \"data-d764767e7dd3b10b2c76c1355ce10ef3\": [{\"y\": 1}]}}, {\"mode\": \"vega-lite\"});\n",
              "</script>"
            ]
          },
          "metadata": {
            "tags": []
          },
          "execution_count": 31
        },
        {
          "output_type": "stream",
          "text": [
            "time: 61.2 ms (started: 2021-04-22 19:31:55 +00:00)\n"
          ],
          "name": "stdout"
        }
      ]
    },
    {
      "cell_type": "code",
      "metadata": {
        "id": "WuiHxms2fRtH"
      },
      "source": [
        ""
      ],
      "execution_count": null,
      "outputs": []
    }
  ]
}