{
  "nbformat": 4,
  "nbformat_minor": 0,
  "metadata": {
    "colab": {
      "name": "Analyse CH Compare Completely Home Percentage For Wealthiest And Poorest.ipynb",
      "provenance": [],
      "collapsed_sections": [],
      "include_colab_link": true
    },
    "kernelspec": {
      "name": "python3",
      "display_name": "Python 3"
    },
    "language_info": {
      "name": "python"
    }
  },
  "cells": [
    {
      "cell_type": "markdown",
      "metadata": {
        "id": "view-in-github",
        "colab_type": "text"
      },
      "source": [
        "<a href=\"https://colab.research.google.com/github/chouhandiksha/bigdataproject/blob/main/notebooks/Analyse%20CH%20Compare%20Completely%20Home%20Percentage%20For%20Wealthiest%20And%20Poorest.ipynb\" target=\"_parent\"><img src=\"https://colab.research.google.com/assets/colab-badge.svg\" alt=\"Open In Colab\"/></a>"
      ]
    },
    {
      "cell_type": "markdown",
      "metadata": {
        "id": "6Vnc5foT5YFx"
      },
      "source": [
        "**Spark SQL Documentation:** \n",
        "https://spark.apache.org/docs/2.2.0/sql-programming-guide.html"
      ]
    },
    {
      "cell_type": "markdown",
      "metadata": {
        "id": "_y7VSJ1QMK_3"
      },
      "source": [
        "# Analyse CH Compare Completely Home Percentage For Wealthiest And Poorest\n",
        "\n",
        "*Instructions:*\n",
        "\n",
        "1. Execute the first code cell.\n",
        "2. There will be a link to follow in order to authorize the google account for drive. Go to that link.\n",
        "3. A code to authorize the google account will be generated. Copy the code generated.\n",
        "4. Go back to the cell where the process of mounting the drive is running. Paste the generated code from step 3 to the text box in the cell and press enter.\n",
        "\n",
        "---\n",
        "\n"
      ]
    },
    {
      "cell_type": "code",
      "metadata": {
        "id": "XXJ-cpgT3moz",
        "colab": {
          "base_uri": "https://localhost:8080/"
        },
        "outputId": "29f48cf4-7c10-4181-e61c-f944460397c8"
      },
      "source": [
        "# add time information at the end of every cell\n",
        "!pip install ipython-autotime\n",
        "%load_ext autotime"
      ],
      "execution_count": null,
      "outputs": [
        {
          "output_type": "stream",
          "text": [
            "Collecting ipython-autotime\n",
            "  Downloading https://files.pythonhosted.org/packages/b4/c9/b413a24f759641bc27ef98c144b590023c8038dfb8a3f09e713e9dff12c1/ipython_autotime-0.3.1-py2.py3-none-any.whl\n",
            "Requirement already satisfied: ipython in /usr/local/lib/python3.7/dist-packages (from ipython-autotime) (5.5.0)\n",
            "Requirement already satisfied: pickleshare in /usr/local/lib/python3.7/dist-packages (from ipython->ipython-autotime) (0.7.5)\n",
            "Requirement already satisfied: setuptools>=18.5 in /usr/local/lib/python3.7/dist-packages (from ipython->ipython-autotime) (54.2.0)\n",
            "Requirement already satisfied: traitlets>=4.2 in /usr/local/lib/python3.7/dist-packages (from ipython->ipython-autotime) (5.0.5)\n",
            "Requirement already satisfied: decorator in /usr/local/lib/python3.7/dist-packages (from ipython->ipython-autotime) (4.4.2)\n",
            "Requirement already satisfied: pexpect; sys_platform != \"win32\" in /usr/local/lib/python3.7/dist-packages (from ipython->ipython-autotime) (4.8.0)\n",
            "Requirement already satisfied: simplegeneric>0.8 in /usr/local/lib/python3.7/dist-packages (from ipython->ipython-autotime) (0.8.1)\n",
            "Requirement already satisfied: pygments in /usr/local/lib/python3.7/dist-packages (from ipython->ipython-autotime) (2.6.1)\n",
            "Requirement already satisfied: prompt-toolkit<2.0.0,>=1.0.4 in /usr/local/lib/python3.7/dist-packages (from ipython->ipython-autotime) (1.0.18)\n",
            "Requirement already satisfied: ipython-genutils in /usr/local/lib/python3.7/dist-packages (from traitlets>=4.2->ipython->ipython-autotime) (0.2.0)\n",
            "Requirement already satisfied: ptyprocess>=0.5 in /usr/local/lib/python3.7/dist-packages (from pexpect; sys_platform != \"win32\"->ipython->ipython-autotime) (0.7.0)\n",
            "Requirement already satisfied: wcwidth in /usr/local/lib/python3.7/dist-packages (from prompt-toolkit<2.0.0,>=1.0.4->ipython->ipython-autotime) (0.2.5)\n",
            "Requirement already satisfied: six>=1.9.0 in /usr/local/lib/python3.7/dist-packages (from prompt-toolkit<2.0.0,>=1.0.4->ipython->ipython-autotime) (1.15.0)\n",
            "Installing collected packages: ipython-autotime\n",
            "Successfully installed ipython-autotime-0.3.1\n",
            "time: 2.46 ms (started: 2021-04-22 00:48:40 +00:00)\n"
          ],
          "name": "stdout"
        }
      ]
    },
    {
      "cell_type": "code",
      "metadata": {
        "colab": {
          "base_uri": "https://localhost:8080/"
        },
        "id": "DggpqrsrscGi",
        "outputId": "b2368ce6-d24f-46da-b76d-aece3b140f53"
      },
      "source": [
        "# Install required dependencies\n",
        "!pip install pyspark\n",
        "!apt install openjdk-8-jdk-headless -qq\n",
        "import os\n",
        "os.environ[\"JAVA_HOME\"] = \"/usr/lib/jvm/java-8-openjdk-amd64\""
      ],
      "execution_count": null,
      "outputs": [
        {
          "output_type": "stream",
          "text": [
            "Collecting pyspark\n",
            "\u001b[?25l  Downloading https://files.pythonhosted.org/packages/45/b0/9d6860891ab14a39d4bddf80ba26ce51c2f9dc4805e5c6978ac0472c120a/pyspark-3.1.1.tar.gz (212.3MB)\n",
            "\u001b[K     |████████████████████████████████| 212.3MB 64kB/s \n",
            "\u001b[?25hCollecting py4j==0.10.9\n",
            "\u001b[33m  WARNING: Retrying (Retry(total=4, connect=None, read=None, redirect=None, status=None)) after connection broken by 'ProtocolError('Connection aborted.', ConnectionResetError(104, 'Connection reset by peer'))': /packages/9e/b6/6a4fb90cd235dc8e265a6a2067f2a2c99f0d91787f06aca4bcf7c23f3f80/py4j-0.10.9-py2.py3-none-any.whl\u001b[0m\n",
            "\u001b[?25l  Downloading https://files.pythonhosted.org/packages/9e/b6/6a4fb90cd235dc8e265a6a2067f2a2c99f0d91787f06aca4bcf7c23f3f80/py4j-0.10.9-py2.py3-none-any.whl (198kB)\n",
            "\u001b[K     |████████████████████████████████| 204kB 8.0MB/s \n",
            "\u001b[?25hBuilding wheels for collected packages: pyspark\n",
            "  Building wheel for pyspark (setup.py) ... \u001b[?25l\u001b[?25hdone\n",
            "  Created wheel for pyspark: filename=pyspark-3.1.1-py2.py3-none-any.whl size=212767604 sha256=a84d2c4911cd88669443d6c48a1389a36091aa32961549505606a93798a6046d\n",
            "  Stored in directory: /root/.cache/pip/wheels/0b/90/c0/01de724414ef122bd05f056541fb6a0ecf47c7ca655f8b3c0f\n",
            "Successfully built pyspark\n",
            "Installing collected packages: py4j, pyspark\n",
            "Successfully installed py4j-0.10.9 pyspark-3.1.1\n",
            "The following additional packages will be installed:\n",
            "  openjdk-8-jre-headless\n",
            "Suggested packages:\n",
            "  openjdk-8-demo openjdk-8-source libnss-mdns fonts-dejavu-extra\n",
            "  fonts-ipafont-gothic fonts-ipafont-mincho fonts-wqy-microhei\n",
            "  fonts-wqy-zenhei fonts-indic\n",
            "The following NEW packages will be installed:\n",
            "  openjdk-8-jdk-headless openjdk-8-jre-headless\n",
            "0 upgraded, 2 newly installed, 0 to remove and 31 not upgraded.\n",
            "Need to get 36.5 MB of archives.\n",
            "After this operation, 143 MB of additional disk space will be used.\n",
            "Selecting previously unselected package openjdk-8-jre-headless:amd64.\n",
            "(Reading database ... 160983 files and directories currently installed.)\n",
            "Preparing to unpack .../openjdk-8-jre-headless_8u282-b08-0ubuntu1~18.04_amd64.deb ...\n",
            "Unpacking openjdk-8-jre-headless:amd64 (8u282-b08-0ubuntu1~18.04) ...\n",
            "Selecting previously unselected package openjdk-8-jdk-headless:amd64.\n",
            "Preparing to unpack .../openjdk-8-jdk-headless_8u282-b08-0ubuntu1~18.04_amd64.deb ...\n",
            "Unpacking openjdk-8-jdk-headless:amd64 (8u282-b08-0ubuntu1~18.04) ...\n",
            "Setting up openjdk-8-jre-headless:amd64 (8u282-b08-0ubuntu1~18.04) ...\n",
            "update-alternatives: using /usr/lib/jvm/java-8-openjdk-amd64/jre/bin/orbd to provide /usr/bin/orbd (orbd) in auto mode\n",
            "update-alternatives: using /usr/lib/jvm/java-8-openjdk-amd64/jre/bin/servertool to provide /usr/bin/servertool (servertool) in auto mode\n",
            "update-alternatives: using /usr/lib/jvm/java-8-openjdk-amd64/jre/bin/tnameserv to provide /usr/bin/tnameserv (tnameserv) in auto mode\n",
            "Setting up openjdk-8-jdk-headless:amd64 (8u282-b08-0ubuntu1~18.04) ...\n",
            "update-alternatives: using /usr/lib/jvm/java-8-openjdk-amd64/bin/idlj to provide /usr/bin/idlj (idlj) in auto mode\n",
            "update-alternatives: using /usr/lib/jvm/java-8-openjdk-amd64/bin/wsimport to provide /usr/bin/wsimport (wsimport) in auto mode\n",
            "update-alternatives: using /usr/lib/jvm/java-8-openjdk-amd64/bin/jsadebugd to provide /usr/bin/jsadebugd (jsadebugd) in auto mode\n",
            "update-alternatives: using /usr/lib/jvm/java-8-openjdk-amd64/bin/native2ascii to provide /usr/bin/native2ascii (native2ascii) in auto mode\n",
            "update-alternatives: using /usr/lib/jvm/java-8-openjdk-amd64/bin/javah to provide /usr/bin/javah (javah) in auto mode\n",
            "update-alternatives: using /usr/lib/jvm/java-8-openjdk-amd64/bin/hsdb to provide /usr/bin/hsdb (hsdb) in auto mode\n",
            "update-alternatives: using /usr/lib/jvm/java-8-openjdk-amd64/bin/clhsdb to provide /usr/bin/clhsdb (clhsdb) in auto mode\n",
            "update-alternatives: using /usr/lib/jvm/java-8-openjdk-amd64/bin/xjc to provide /usr/bin/xjc (xjc) in auto mode\n",
            "update-alternatives: using /usr/lib/jvm/java-8-openjdk-amd64/bin/schemagen to provide /usr/bin/schemagen (schemagen) in auto mode\n",
            "update-alternatives: using /usr/lib/jvm/java-8-openjdk-amd64/bin/extcheck to provide /usr/bin/extcheck (extcheck) in auto mode\n",
            "update-alternatives: using /usr/lib/jvm/java-8-openjdk-amd64/bin/jhat to provide /usr/bin/jhat (jhat) in auto mode\n",
            "update-alternatives: using /usr/lib/jvm/java-8-openjdk-amd64/bin/wsgen to provide /usr/bin/wsgen (wsgen) in auto mode\n",
            "time: 57.6 s (started: 2021-04-22 00:48:40 +00:00)\n"
          ],
          "name": "stdout"
        }
      ]
    },
    {
      "cell_type": "code",
      "metadata": {
        "id": "ppkG73kRsei0",
        "colab": {
          "base_uri": "https://localhost:8080/"
        },
        "outputId": "3c86b248-f5f2-4c88-ab83-c6f0a93416d3"
      },
      "source": [
        "# Import modules\n",
        "import numpy as np\n",
        "import pandas as pd\n",
        "import datetime\n",
        "import matplotlib.pyplot as plt\n",
        "from pathlib import Path\n",
        "%matplotlib inline\n",
        "\n",
        "import pyspark\n",
        "from pyspark.sql import *\n",
        "from pyspark.sql.types import *\n",
        "from pyspark.sql.functions import *\n",
        "from pyspark import SparkContext, SparkConf"
      ],
      "execution_count": null,
      "outputs": [
        {
          "output_type": "stream",
          "text": [
            "time: 94.5 ms (started: 2021-04-22 00:49:38 +00:00)\n"
          ],
          "name": "stdout"
        }
      ]
    },
    {
      "cell_type": "code",
      "metadata": {
        "colab": {
          "base_uri": "https://localhost:8080/"
        },
        "id": "pYm9-j_fflal",
        "outputId": "bb3998b4-090e-4bad-8a0c-37a03eeb3c7c"
      },
      "source": [
        "import altair as alt\n",
        "alt.data_transformers.disable_max_rows()"
      ],
      "execution_count": null,
      "outputs": [
        {
          "output_type": "execute_result",
          "data": {
            "text/plain": [
              "DataTransformerRegistry.enable('default')"
            ]
          },
          "metadata": {
            "tags": []
          },
          "execution_count": 4
        },
        {
          "output_type": "stream",
          "text": [
            "time: 284 ms (started: 2021-04-22 00:49:38 +00:00)\n"
          ],
          "name": "stdout"
        }
      ]
    },
    {
      "cell_type": "code",
      "metadata": {
        "id": "1oe1ksN5skMG",
        "colab": {
          "base_uri": "https://localhost:8080/"
        },
        "outputId": "49e3542a-1952-4f87-f2da-01e228406e2d"
      },
      "source": [
        "# create the session\n",
        "conf = SparkConf().set(\"spark.ui.port\", \"4050\")\n",
        "\n",
        "# create the context\n",
        "sc = pyspark.SparkContext(conf=conf)\n",
        "spark = SparkSession.builder.getOrCreate()"
      ],
      "execution_count": null,
      "outputs": [
        {
          "output_type": "stream",
          "text": [
            "time: 5.25 s (started: 2021-04-22 00:49:38 +00:00)\n"
          ],
          "name": "stdout"
        }
      ]
    },
    {
      "cell_type": "code",
      "metadata": {
        "colab": {
          "base_uri": "https://localhost:8080/"
        },
        "id": "WGXwI2d1szaO",
        "outputId": "c466d86f-59ac-4312-e9c6-f114111f71b1"
      },
      "source": [
        "# Mount drive with data\n",
        "from google.colab import drive\n",
        "drive.mount('/content/drive')"
      ],
      "execution_count": null,
      "outputs": [
        {
          "output_type": "stream",
          "text": [
            "Drive already mounted at /content/drive; to attempt to forcibly remount, call drive.mount(\"/content/drive\", force_remount=True).\n",
            "time: 7.71 ms (started: 2021-04-22 01:22:44 +00:00)\n"
          ],
          "name": "stdout"
        }
      ]
    },
    {
      "cell_type": "code",
      "metadata": {
        "id": "grN2uNcFvloa",
        "colab": {
          "base_uri": "https://localhost:8080/"
        },
        "outputId": "298614b7-56a9-4949-f997-4ab2af0a671b"
      },
      "source": [
        "# Set path to data folder\n",
        "path = Path('drive/MyDrive/big-data-project/data/clean-data')\n",
        "city = 'ch'"
      ],
      "execution_count": null,
      "outputs": [
        {
          "output_type": "stream",
          "text": [
            "time: 1.96 ms (started: 2021-04-22 01:22:45 +00:00)\n"
          ],
          "name": "stdout"
        }
      ]
    },
    {
      "cell_type": "code",
      "metadata": {
        "colab": {
          "base_uri": "https://localhost:8080/"
        },
        "id": "BvCrFmU2tGXY",
        "outputId": "de02e8d1-f1cd-4642-a4cb-a9bf2d76ab29"
      },
      "source": [
        "# Read data into dataframe\n",
        "df_soc = spark.read.format('csv').option('header','true').option('quote',\"\\\"\").option('escape',\"\\\"\").load(str(path/city/'social/2020/*.csv'))\n",
        "df_soc.show()"
      ],
      "execution_count": null,
      "outputs": [
        {
          "output_type": "stream",
          "text": [
            "+---+------------+--------------------+--------------------+------------+---------------------------+--------------------------+------------------------------------------+----------------------------+----------------------+------------------------+--------------------+-------------------------------+-------------------------------+--------------------+-------------------------+--------------------------+----------------------+----------------------------+---------------------------+-----------------------------+\n",
            "|_c0|         cbg|    date_range_start|      date_range_end|device_count|distance_traveled_from_home|bucketed_distance_traveled|median_dwell_at_bucketed_distance_traveled|completely_home_device_count|median_home_dwell_time|bucketed_home_dwell_time|at_home_by_each_hour|part_time_work_behavior_devices|full_time_work_behavior_devices|    destination_cbgs|delivery_behavior_devices|median_non_home_dwell_time|candidate_device_count|bucketed_away_from_home_time|median_percentage_time_home|bucketed_percentage_time_home|\n",
            "+---+------------+--------------------+--------------------+------------+---------------------------+--------------------------+------------------------------------------+----------------------------+----------------------+------------------------+--------------------+-------------------------------+-------------------------------+--------------------+-------------------------+--------------------------+----------------------+----------------------------+---------------------------+-----------------------------+\n",
            "|  0|170312304002|2020-02-07T00:00:...|2020-02-08T00:00:...|          76|                       5066|      {\"16001-50000\":2,...|                      {\"16001-50000\":96...|                          22|                   786|    {\"721-1080\":17,\"3...|[54,56,57,49,55,5...|                              9|                              7|{\"170318382002\":1...|                        2|                        92|                   150|        {\"21-45\":5,\"481-5...|                         81|         {\"26-50\":7,\"51-75...|\n",
            "|  1|170313005002|2020-02-07T00:00:...|2020-02-08T00:00:...|          72|                       4043|      {\"16001-50000\":8,...|                      {\"16001-50000\":72...|                          27|                   686|    {\"721-1080\":16,\"3...|[45,47,46,50,47,4...|                             12|                              9|{\"170312924002\":1...|                        2|                       147|                   165|        {\"21-45\":3,\"481-5...|                         83|         {\"26-50\":4,\"51-75...|\n",
            "|  2|170314208001|2020-02-07T00:00:...|2020-02-08T00:00:...|         127|                       7799|      {\"16001-50000\":15...|                      {\"16001-50000\":75...|                          33|                   492|    {\"721-1080\":33,\"3...|[60,61,65,62,63,5...|                             11|                             15|{\"170314111002\":1...|                        3|                       142|                   333|        {\"21-45\":6,\"481-5...|                         64|         {\"26-50\":8,\"51-75...|\n",
            "|  3|170317608034|2020-02-07T00:00:...|2020-02-08T00:00:...|         114|                      10827|      {\"16001-50000\":15...|                      {\"16001-50000\":63...|                          37|                   445|    {\"721-1080\":16,\"3...|[50,50,54,55,52,5...|                             11|                             10|{\"171079531004\":1...|                        2|                        72|                   205|        {\"21-45\":4,\"481-5...|                         83|         {\"0-25\":26,\"76-10...|\n",
            "|  4|170318033003|2020-02-07T00:00:...|2020-02-08T00:00:...|          91|                       4207|      {\"16001-50000\":10...|                      {\"16001-50000\":75...|                          29|                   482|    {\"721-1080\":18,\"3...|[51,54,48,50,50,5...|                              8|                             13|{\"170318030171\":2...|                        1|                       136|                   171|        {\"21-45\":1,\"481-5...|                         75|         {\"0-25\":15,\"76-10...|\n",
            "|  5|170318146005|2020-02-07T00:00:...|2020-02-08T00:00:...|          51|                       2147|      {\"16001-50000\":2,...|                      {\"16001-50000\":11...|                          11|                   700|    {\"721-1080\":4,\"36...|[29,30,26,28,29,3...|                              1|                              4|{\"170310815003\":1...|                        1|                       102|                    89|        {\"21-45\":3,\"481-5...|                         78|         {\"26-50\":5,\"51-75...|\n",
            "|  6|170318182002|2020-02-07T00:00:...|2020-02-08T00:00:...|          51|                       9323|      {\"16001-50000\":4,...|                      {\"16001-50000\":12...|                          19|                   646|    {\"721-1080\":3,\"36...|[23,24,25,26,27,2...|                              3|                              1|{\"170438443013\":1...|                        1|                         5|                    87|        {\"481-540\":1,\"541...|                        100|         {\"0-25\":3,\"76-100...|\n",
            "|  7|170318240053|2020-02-07T00:00:...|2020-02-08T00:00:...|         123|                       7420|      {\"16001-50000\":32...|                      {\"16001-50000\":62...|                          21|                   703|    {\"721-1080\":35,\"3...|[85,85,84,85,86,8...|                             26|                             13|{\"171978801122\":1...|                        4|                       235|                   222|        {\"21-45\":7,\"481-5...|                         72|         {\"26-50\":15,\"51-7...|\n",
            "|  8|170318348001|2020-02-07T00:00:...|2020-02-08T00:00:...|          32|                       7063|      {\"16001-50000\":2,...|                      {\"16001-50000\":12...|                          12|                   382|    {\"721-1080\":3,\"36...|[15,15,14,14,14,1...|                              4|                              6|{\"170318382002\":2...|                        1|                       130|                    71|        {\"21-45\":1,\"481-5...|                         67|         {\"0-25\":13,\"76-10...|\n",
            "|  9|170438411042|2020-02-07T00:00:...|2020-02-08T00:00:...|          57|                       5586|      {\"16001-50000\":7,...|                      {\"16001-50000\":69...|                          14|                   659|    {\"721-1080\":10,\"3...|[26,29,31,28,29,2...|                              7|                              5|{\"180731011002\":1...|                        1|                        79|                   104|        {\"21-45\":2,\"481-5...|                         76|         {\"0-25\":14,\"76-10...|\n",
            "| 10|170438427041|2020-02-07T00:00:...|2020-02-08T00:00:...|          84|                       8582|      {\"16001-50000\":9,...|                      {\"16001-50000\":20...|                          23|                   672|    {\"721-1080\":18,\"3...|[49,53,54,55,54,5...|                             17|                              6|{\"170438413222\":1...|                        2|                        97|                   171|        {\"21-45\":4,\"481-5...|                         82|         {\"26-50\":7,\"51-75...|\n",
            "| 11|180890307002|2020-02-07T00:00:...|2020-02-08T00:00:...|          58|                       5723|      {\"16001-50000\":6,...|                      {\"16001-50000\":25...|                          17|                   450|    {\"721-1080\":11,\"3...|[21,25,25,29,26,2...|                              2|                              3|{\"180890402001\":1...|                        1|                        36|                   109|        {\"21-45\":10,\"481-...|                         88|         {\"0-25\":11,\"76-10...|\n",
            "| 12|170438445011|2020-02-07T00:00:...|2020-02-08T00:00:...|          48|                       2959|      {\"16001-50000\":6,...|                      {\"16001-50000\":80...|                          15|                   662|    {\"721-1080\":15,\"3...|[31,28,29,29,29,2...|                              9|                              9|{\"170318202013\":1...|                        1|                       295|                    98|        {\"481-540\":2,\"541...|                         64|         {\"26-50\":4,\"51-75...|\n",
            "| 13|171118712022|2020-02-07T00:00:...|2020-02-08T00:00:...|          86|                       3552|      {\"16001-50000\":9,...|                      {\"16001-50000\":15...|                          24|                   787|    {\"721-1080\":28,\"3...|[55,59,62,57,60,5...|                             12|                             12|{\"171118709031\":1...|                        6|                       104|                   173|        {\"21-45\":3,\"481-5...|                         73|         {\"26-50\":2,\"51-75...|\n",
            "| 14|180890408013|2020-02-07T00:00:...|2020-02-08T00:00:...|          72|                       7487|      {\"16001-50000\":12...|                      {\"16001-50000\":85...|                          18|                   505|    {\"721-1080\":19,\"3...|[33,37,35,35,37,3...|                              6|                              7|{\"181410112011\":1...|                        4|                       140|                   169|        {\"21-45\":2,\"481-5...|                         72|         {\"26-50\":4,\"51-75...|\n",
            "| 15|170312004021|2020-02-07T00:00:...|2020-02-08T00:00:...|          98|                       3123|      {\"16001-50000\":3,...|                      {\"16001-50000\":21...|                          26|                   734|    {\"721-1080\":28,\"3...|[61,66,65,65,63,6...|                             18|                             11|{\"170311906022\":1...|                        2|                       257|                   201|        {\"21-45\":6,\"481-5...|                         69|         {\"0-25\":14,\"76-10...|\n",
            "| 16|170312309002|2020-02-07T00:00:...|2020-02-08T00:00:...|          80|                       5832|      {\"16001-50000\":7,...|                      {\"16001-50000\":60...|                          21|                   656|    {\"721-1080\":19,\"3...|[45,49,48,45,46,4...|                              5|                              1|{\"170312307002\":2...|                        1|                        84|                   208|        {\"21-45\":3,\"481-5...|                         80|         {\"26-50\":1,\"51-75...|\n",
            "| 17|170312838002|2020-02-07T00:00:...|2020-02-08T00:00:...|         126|                       4159|      {\"16001-50000\":9,...|                      {\"16001-50000\":59...|                          38|                   581|    {\"721-1080\":24,\"3...|[67,69,68,70,66,7...|                             14|                             11|{\"170318066002\":1...|                        3|                        82|                   258|        {\"21-45\":4,\"481-5...|                         84|         {\"26-50\":7,\"51-75...|\n",
            "| 18|170318114023|2020-02-07T00:00:...|2020-02-08T00:00:...|          82|                       1917|      {\"16001-50000\":1,...|                      {\"16001-50000\":12...|                          31|                   559|    {\"721-1080\":11,\"3...|[41,44,44,44,43,4...|                             11|                              7|{\"170318114014\":2...|                        5|                        49|                   166|        {\"21-45\":4,\"481-5...|                         93|         {\"26-50\":1,\"51-75...|\n",
            "| 19|170318117021|2020-02-07T00:00:...|2020-02-08T00:00:...|          74|                       6079|      {\"16001-50000\":8,...|                      {\"16001-50000\":10...|                          16|                   335|    {\"721-1080\":16,\"3...|[34,34,36,38,37,3...|                             11|                             10|{\"551091208001\":1...|                        3|                       113|                   149|        {\"21-45\":5,\"481-5...|                         66|         {\"0-25\":20,\"76-10...|\n",
            "+---+------------+--------------------+--------------------+------------+---------------------------+--------------------------+------------------------------------------+----------------------------+----------------------+------------------------+--------------------+-------------------------------+-------------------------------+--------------------+-------------------------+--------------------------+----------------------+----------------------------+---------------------------+-----------------------------+\n",
            "only showing top 20 rows\n",
            "\n",
            "time: 14 s (started: 2021-04-22 01:22:45 +00:00)\n"
          ],
          "name": "stdout"
        }
      ]
    },
    {
      "cell_type": "code",
      "metadata": {
        "colab": {
          "base_uri": "https://localhost:8080/"
        },
        "id": "wh747sqcHi4-",
        "outputId": "8318e9a3-f6a3-4f79-9d08-1282d0b6a0e9"
      },
      "source": [
        "#Create view for sparksql\n",
        "df_soc.createOrReplaceTempView('clean_ch')\n",
        "df_soc = spark.sql('SELECT cbg, date_range_start as date, device_count, completely_home_device_count FROM clean_ch WHERE device_count > 5')\n",
        "df_soc.show()"
      ],
      "execution_count": null,
      "outputs": [
        {
          "output_type": "stream",
          "text": [
            "+------------+--------------------+------------+----------------------------+\n",
            "|         cbg|                date|device_count|completely_home_device_count|\n",
            "+------------+--------------------+------------+----------------------------+\n",
            "|170312304002|2020-02-07T00:00:...|          76|                          22|\n",
            "|170313005002|2020-02-07T00:00:...|          72|                          27|\n",
            "|170314208001|2020-02-07T00:00:...|         127|                          33|\n",
            "|170317608034|2020-02-07T00:00:...|         114|                          37|\n",
            "|170318033003|2020-02-07T00:00:...|          91|                          29|\n",
            "|170318146005|2020-02-07T00:00:...|          51|                          11|\n",
            "|170318182002|2020-02-07T00:00:...|          51|                          19|\n",
            "|170318240053|2020-02-07T00:00:...|         123|                          21|\n",
            "|170318348001|2020-02-07T00:00:...|          32|                          12|\n",
            "|170438411042|2020-02-07T00:00:...|          57|                          14|\n",
            "|170438427041|2020-02-07T00:00:...|          84|                          23|\n",
            "|180890307002|2020-02-07T00:00:...|          58|                          17|\n",
            "|170438445011|2020-02-07T00:00:...|          48|                          15|\n",
            "|171118712022|2020-02-07T00:00:...|          86|                          24|\n",
            "|180890408013|2020-02-07T00:00:...|          72|                          18|\n",
            "|170312004021|2020-02-07T00:00:...|          98|                          26|\n",
            "|170312309002|2020-02-07T00:00:...|          80|                          21|\n",
            "|170312838002|2020-02-07T00:00:...|         126|                          38|\n",
            "|170318114023|2020-02-07T00:00:...|          82|                          31|\n",
            "|170318117021|2020-02-07T00:00:...|          74|                          16|\n",
            "+------------+--------------------+------------+----------------------------+\n",
            "only showing top 20 rows\n",
            "\n",
            "time: 173 ms (started: 2021-04-22 01:22:59 +00:00)\n"
          ],
          "name": "stdout"
        }
      ]
    },
    {
      "cell_type": "code",
      "metadata": {
        "id": "nlVhrn2-Rp_O",
        "colab": {
          "base_uri": "https://localhost:8080/"
        },
        "outputId": "5a22d07c-9a2b-4aa4-edce-acdf3e7996fe"
      },
      "source": [
        "# Taking substring of date for \"yyyy-mm-dd\"\n",
        "df_soc = df_soc.withColumn(\"date\",\n",
        "    df_soc['date'].substr(0, 10))"
      ],
      "execution_count": null,
      "outputs": [
        {
          "output_type": "stream",
          "text": [
            "time: 36.4 ms (started: 2021-04-22 01:22:59 +00:00)\n"
          ],
          "name": "stdout"
        }
      ]
    },
    {
      "cell_type": "code",
      "metadata": {
        "colab": {
          "base_uri": "https://localhost:8080/"
        },
        "id": "2ryRoACoJMPZ",
        "outputId": "87338c7b-b73f-4f3f-abc1-56cd3d322430"
      },
      "source": [
        "df_soc.show()"
      ],
      "execution_count": null,
      "outputs": [
        {
          "output_type": "stream",
          "text": [
            "+------------+----------+------------+----------------------------+\n",
            "|         cbg|      date|device_count|completely_home_device_count|\n",
            "+------------+----------+------------+----------------------------+\n",
            "|170312304002|2020-02-07|          76|                          22|\n",
            "|170313005002|2020-02-07|          72|                          27|\n",
            "|170314208001|2020-02-07|         127|                          33|\n",
            "|170317608034|2020-02-07|         114|                          37|\n",
            "|170318033003|2020-02-07|          91|                          29|\n",
            "|170318146005|2020-02-07|          51|                          11|\n",
            "|170318182002|2020-02-07|          51|                          19|\n",
            "|170318240053|2020-02-07|         123|                          21|\n",
            "|170318348001|2020-02-07|          32|                          12|\n",
            "|170438411042|2020-02-07|          57|                          14|\n",
            "|170438427041|2020-02-07|          84|                          23|\n",
            "|180890307002|2020-02-07|          58|                          17|\n",
            "|170438445011|2020-02-07|          48|                          15|\n",
            "|171118712022|2020-02-07|          86|                          24|\n",
            "|180890408013|2020-02-07|          72|                          18|\n",
            "|170312004021|2020-02-07|          98|                          26|\n",
            "|170312309002|2020-02-07|          80|                          21|\n",
            "|170312838002|2020-02-07|         126|                          38|\n",
            "|170318114023|2020-02-07|          82|                          31|\n",
            "|170318117021|2020-02-07|          74|                          16|\n",
            "+------------+----------+------------+----------------------------+\n",
            "only showing top 20 rows\n",
            "\n",
            "time: 188 ms (started: 2021-04-22 01:22:59 +00:00)\n"
          ],
          "name": "stdout"
        }
      ]
    },
    {
      "cell_type": "code",
      "metadata": {
        "colab": {
          "base_uri": "https://localhost:8080/"
        },
        "id": "UL4qIhZu7JKC",
        "outputId": "56ec8570-5567-4e81-c527-59135ce16412"
      },
      "source": [
        "# Add completely home percentage column\n",
        "df_soc = df_soc.withColumn('completely_home_percentage', (df_soc['completely_home_device_count']/df_soc['device_count']) * 100)\n"
      ],
      "execution_count": null,
      "outputs": [
        {
          "output_type": "stream",
          "text": [
            "time: 38.9 ms (started: 2021-04-22 01:22:59 +00:00)\n"
          ],
          "name": "stdout"
        }
      ]
    },
    {
      "cell_type": "code",
      "metadata": {
        "colab": {
          "base_uri": "https://localhost:8080/"
        },
        "id": "OAUIODseCoSg",
        "outputId": "78c11bd8-fdec-4a98-898e-8907488d47f1"
      },
      "source": [
        "#Create temp view\n",
        "df_soc.createOrReplaceTempView('mobility')"
      ],
      "execution_count": null,
      "outputs": [
        {
          "output_type": "stream",
          "text": [
            "time: 107 ms (started: 2021-04-22 01:22:59 +00:00)\n"
          ],
          "name": "stdout"
        }
      ]
    },
    {
      "cell_type": "markdown",
      "metadata": {
        "id": "Sj4xc1gTpm2X"
      },
      "source": [
        "\n",
        "\n",
        "---\n",
        "\n",
        "\n",
        "**Demographic data**\n",
        "\n",
        "\n",
        "\n",
        "\n",
        "\n",
        "---\n",
        "\n"
      ]
    },
    {
      "cell_type": "code",
      "metadata": {
        "colab": {
          "base_uri": "https://localhost:8080/"
        },
        "id": "1SVVsXtuzqRf",
        "outputId": "11535711-695b-4e3f-c563-444b2c4f7e24"
      },
      "source": [
        "# Read poverty data\n",
        "# Read data into RDD\n",
        "df_demographic = spark.read.format('csv').option('header','true').option('quote',\"\\\"\").option('escape',\"\\\"\").load(str(path/city/'ch.csv'))\n",
        "df_demographic.createOrReplaceTempView('demographic')\n",
        "df_demographic.show()"
      ],
      "execution_count": null,
      "outputs": [
        {
          "output_type": "stream",
          "text": [
            "+------------+---------+------------------+-------------------+\n",
            "|         cbg|pop_total|poverty_percentage|     perc_whiteonly|\n",
            "+------------+---------+------------------+-------------------+\n",
            "|170312909001|      935|  55.8288770053476|                0.0|\n",
            "|170312909002|     1129|45.261293179805136|                0.0|\n",
            "|170312909003|      765|  39.7078353253652|                0.0|\n",
            "|170312909004|     1075|30.325581395348838|                0.0|\n",
            "|170318387002|     1016|31.003937007874015| 13.484251968503939|\n",
            "|170313102001|      835|16.766467065868262|  78.20359281437126|\n",
            "|170313102002|      686| 16.61807580174927| 50.583090379008745|\n",
            "|170314005002|      807|40.644361833952914|                0.0|\n",
            "|170314804006|      710| 1.971830985915493|  1.267605633802817|\n",
            "|170314804007|      650|               0.0|                0.0|\n",
            "|170314805001|     1141|  9.55302366345311|  4.206836108676599|\n",
            "|170312608002|     1100| 55.45454545454545| 2.8181818181818183|\n",
            "|170312609001|      836| 44.85645933014354|  8.971291866028707|\n",
            "|170312609002|      614| 35.82342954159593| 0.9771986970684038|\n",
            "|170312610002|     1265| 35.08771929824561|0.31620553359683795|\n",
            "|171978805071|     6606| 9.564953766863727| 37.753557372085986|\n",
            "|171978803033|     1165|               0.0|  81.80257510729614|\n",
            "|170318036032|     1431|0.9084556254367574|              100.0|\n",
            "|170310814022|     1708| 8.021077283372366|  74.35597189695551|\n",
            "|170310609004|     3562| 7.130825379000562|   91.4093206064009|\n",
            "+------------+---------+------------------+-------------------+\n",
            "only showing top 20 rows\n",
            "\n",
            "time: 856 ms (started: 2021-04-22 01:22:59 +00:00)\n"
          ],
          "name": "stdout"
        }
      ]
    },
    {
      "cell_type": "code",
      "metadata": {
        "colab": {
          "base_uri": "https://localhost:8080/"
        },
        "id": "Ff9bk8_6qBQ2",
        "outputId": "6c81a258-5df0-4122-c194-d7cd17aedd9a"
      },
      "source": [
        "# Performing inner join on mobility and demographic table using cbg\n",
        "df_mob_demo = spark.sql('SELECT mobility.*, demographic.poverty_percentage from mobility INNER JOIN demographic ON mobility.cbg = demographic.cbg')\n",
        "df_mob_demo.createOrReplaceTempView('demographic_mobility')\n",
        "df_mob_demo.show()\n"
      ],
      "execution_count": null,
      "outputs": [
        {
          "output_type": "stream",
          "text": [
            "+------------+----------+------------+----------------------------+--------------------------+------------------+\n",
            "|         cbg|      date|device_count|completely_home_device_count|completely_home_percentage|poverty_percentage|\n",
            "+------------+----------+------------+----------------------------+--------------------------+------------------+\n",
            "|170312304002|2020-02-07|          76|                          22|        28.947368421052634|19.847972972972975|\n",
            "|170313005002|2020-02-07|          72|                          27|                      37.5|22.696011004126547|\n",
            "|170314208001|2020-02-07|         127|                          33|        25.984251968503933| 34.01677539608574|\n",
            "|170317608034|2020-02-07|         114|                          37|         32.45614035087719|13.651647612642906|\n",
            "|170318033003|2020-02-07|          91|                          29|        31.868131868131865| 4.035608308605341|\n",
            "|170318146005|2020-02-07|          51|                          11|        21.568627450980394|17.548500881834215|\n",
            "|170318182002|2020-02-07|          51|                          19|        37.254901960784316| 9.483667017913593|\n",
            "|170318240053|2020-02-07|         123|                          21|        17.073170731707318| 6.836544437538844|\n",
            "|170318348001|2020-02-07|          32|                          12|                      37.5| 33.17307692307692|\n",
            "|170438411042|2020-02-07|          57|                          14|        24.561403508771928|               0.0|\n",
            "|170438427041|2020-02-07|          84|                          23|        27.380952380952383| 19.55128205128205|\n",
            "|180890307002|2020-02-07|          58|                          17|        29.310344827586203| 8.002832861189802|\n",
            "|170438445011|2020-02-07|          48|                          15|                     31.25| 1.008249312557287|\n",
            "|171118712022|2020-02-07|          86|                          24|        27.906976744186046|11.479944674965422|\n",
            "|180890408013|2020-02-07|          72|                          18|                      25.0|12.694877505567929|\n",
            "|170312004021|2020-02-07|          98|                          26|         26.53061224489796| 16.45185746777862|\n",
            "|170312309002|2020-02-07|          80|                          21|                     26.25| 50.25380710659898|\n",
            "|170312838002|2020-02-07|         126|                          38|        30.158730158730158|24.961383997528575|\n",
            "|170318114023|2020-02-07|          82|                          31|         37.80487804878049| 6.048387096774194|\n",
            "|170318117021|2020-02-07|          74|                          16|         21.62162162162162|26.733576642335766|\n",
            "+------------+----------+------------+----------------------------+--------------------------+------------------+\n",
            "only showing top 20 rows\n",
            "\n",
            "time: 654 ms (started: 2021-04-22 01:23:00 +00:00)\n"
          ],
          "name": "stdout"
        }
      ]
    },
    {
      "cell_type": "code",
      "metadata": {
        "id": "6vFzCEtNukZy",
        "colab": {
          "base_uri": "https://localhost:8080/"
        },
        "outputId": "a109b049-7714-4782-f9a9-9046555fe6ff"
      },
      "source": [
        "# DIVIDING THE PEOPLE TOP 20 PERCENT AND BOTTOM 20 PERCENT\n",
        "\n",
        "df_mob_demo_high_class =  spark.sql('SELECT * FROM demographic_mobility WHERE poverty_percentage < 20')\n",
        "grouped_df_mob_demo_high_class = df_mob_demo_high_class.groupBy(\"date\").mean(\"completely_home_percentage\").withColumnRenamed('avg(completely_home_percentage)','completely_home_percentage')\n",
        "grouped_df_mob_demo_high_class.createOrReplaceTempView('mob_demo_high_class')\n",
        "\n",
        "\n",
        "df_mob_demo_low_class =  spark.sql('SELECT * FROM demographic_mobility WHERE poverty_percentage > 80')\n",
        "grouped_df_mob_demo_low_class = df_mob_demo_low_class.groupBy(\"date\").mean(\"completely_home_percentage\").withColumnRenamed('avg(completely_home_percentage)','completely_home_percentage')\n",
        "grouped_df_mob_demo_low_class.createOrReplaceTempView('mob_demo_low_class')\n",
        "\n",
        "grouped_df_mob_demo_combined = spark.sql(\"\"\"\n",
        "\n",
        "SELECT h.date,h.completely_home_percentage as top20_perc,\n",
        "l.completely_home_percentage as bottom20_perc  \n",
        "FROM mob_demo_high_class h INNER JOIN mob_demo_low_class l ON h.date = l.date\n",
        "\n",
        "\"\"\")\n"
      ],
      "execution_count": null,
      "outputs": [
        {
          "output_type": "stream",
          "text": [
            "time: 196 ms (started: 2021-04-22 01:23:01 +00:00)\n"
          ],
          "name": "stdout"
        }
      ]
    },
    {
      "cell_type": "markdown",
      "metadata": {
        "id": "ow6mFwCFoc4r"
      },
      "source": [
        "**Load 2019 stats**"
      ]
    },
    {
      "cell_type": "code",
      "metadata": {
        "colab": {
          "base_uri": "https://localhost:8080/"
        },
        "id": "iBe00iTKobbO",
        "outputId": "3db1235d-d772-4035-cd82-fd76761c161a"
      },
      "source": [
        "# Getting mean of 2019 value for part time device count\n",
        "filename = '{}_social_summary_2019.csv'.format(city)\n",
        "stat_2019 = spark.read.format('csv').option('header','true').option('quote',\"\\\"\").option('escape',\"\\\"\").load(str(path/city/filename))\n",
        "stat_2019.show()\n",
        "mean_2019 = stat_2019.collect()[1][5]\n"
      ],
      "execution_count": null,
      "outputs": [
        {
          "output_type": "stream",
          "text": [
            "+-----+------------------+------------------+------------------+-----------------+--------------------------+-------------------------+-------------------------+--------------------+--------------------+--------------------+\n",
            "|  _c0|             total|   completely_home|    part_time_work|   full_time_work|percentage_completely_home|percentage_part_time_work|percentage_full_time_work|norm_completely_home| norm_part_time_work| norm_full_time_work|\n",
            "+-----+------------------+------------------+------------------+-----------------+--------------------------+-------------------------+-------------------------+--------------------+--------------------+--------------------+\n",
            "|count|         2430227.0|         2430227.0|         2430227.0|        2430227.0|                 2430227.0|                2430227.0|                2430227.0|           2430227.0|           2430227.0|           2430227.0|\n",
            "| mean| 95.04381072220825|29.833984232748627|  8.54960421392734|5.511380212630343|        30.966265289442493|        8.979337405961639|        5.998589423116906|-3.66844051893425...|1.189521637447286...|-6.91747531652694...|\n",
            "|  std|111.97921542441331| 42.51986606975598|10.180834940819576|7.564772291957502|          9.89787776066493|        5.194712198874483|        4.761510062763089|  0.9999999999987093|  1.0000000000003801|    1.00000000000042|\n",
            "|  min|               5.0|               1.0|               1.0|              1.0|        0.6944444444444444|       0.1718213058419244|      0.06067961165048543| -3.0584153064913604| -1.6954772012255084| -1.2470644256122123|\n",
            "|  25%|              52.0|              15.0|               3.0|              1.0|        24.137931034482758|        4.918032786885246|       2.1505376344086025| -0.6898786204549988| -0.7818151350052345| -0.8081578612637208|\n",
            "|  50%|              72.0|              22.0|               6.0|              3.0|        30.434782608695656|        8.333333333333332|        4.597701149425287|-0.05369663008559247| -0.1243580102028123|-0.29421092368304014|\n",
            "|  75%|             103.0|              33.0|              11.0|              7.0|        37.234042553191486|        12.23404255319149|        8.661417322834646|  0.6332445616430739|  0.6265419570183377|  0.5592402125834235|\n",
            "|  max|            9089.0|            3637.0|             504.0|            244.0|         94.87179487179486|        66.66666666666666|        57.14285714285714|   6.456488060129292|  11.105009681422562|  10.741186523936774|\n",
            "+-----+------------------+------------------+------------------+-----------------+--------------------------+-------------------------+-------------------------+--------------------+--------------------+--------------------+\n",
            "\n",
            "time: 843 ms (started: 2021-04-22 01:23:01 +00:00)\n"
          ],
          "name": "stdout"
        }
      ]
    },
    {
      "cell_type": "code",
      "metadata": {
        "colab": {
          "base_uri": "https://localhost:8080/"
        },
        "id": "jbZKBBrlsymR",
        "outputId": "7c529c6c-a357-404b-ce48-5dcb54de2104"
      },
      "source": [
        "# calculate deviation form mean\n",
        "grouped_df_mob_demo_combined= grouped_df_mob_demo_combined.withColumn(\"top20_deviation\",\n",
        "    grouped_df_mob_demo_combined['top20_perc'] - mean_2019)\n"
      ],
      "execution_count": null,
      "outputs": [
        {
          "output_type": "stream",
          "text": [
            "time: 36.3 ms (started: 2021-04-22 01:23:02 +00:00)\n"
          ],
          "name": "stdout"
        }
      ]
    },
    {
      "cell_type": "code",
      "metadata": {
        "colab": {
          "base_uri": "https://localhost:8080/"
        },
        "id": "m1v1M4wSwmbV",
        "outputId": "16cd3807-f2d2-472e-db14-943e3c8993cd"
      },
      "source": [
        "# Taking bottom and top 20 percent to get the wealthiest and poorest population data\n",
        "grouped_df_mob_demo_combined = grouped_df_mob_demo_combined.withColumn(\"bottom20_deviation\",\n",
        "    grouped_df_mob_demo_combined['bottom20_perc'] - mean_2019)"
      ],
      "execution_count": null,
      "outputs": [
        {
          "output_type": "stream",
          "text": [
            "time: 29.9 ms (started: 2021-04-22 01:23:02 +00:00)\n"
          ],
          "name": "stdout"
        }
      ]
    },
    {
      "cell_type": "markdown",
      "metadata": {
        "id": "JxSLoJSmYuj8"
      },
      "source": [
        "\n",
        "**Visualizations** \n",
        "\n"
      ]
    },
    {
      "cell_type": "code",
      "metadata": {
        "colab": {
          "base_uri": "https://localhost:8080/"
        },
        "id": "S4CaYZVO43kY",
        "outputId": "fecb4910-08b7-4f84-f38c-9bcb891e99ce"
      },
      "source": [
        "# create altair library theme \n",
        "\n",
        "def my_theme():\n",
        "  return {\n",
        "    'config': {\n",
        "      'view': {'continuousHeight': 300, 'continuousWidth': 400},  # from the default theme\n",
        "      'range': {'category': {'scheme': ['#FF4500','#a0aab4','#4E79A7']}}\n",
        "    }\n",
        "  }\n",
        "alt.themes.register('my_theme', my_theme)\n",
        "alt.themes.enable('my_theme')\n",
        "# "
      ],
      "execution_count": null,
      "outputs": [
        {
          "output_type": "execute_result",
          "data": {
            "text/plain": [
              "ThemeRegistry.enable('my_theme')"
            ]
          },
          "metadata": {
            "tags": []
          },
          "execution_count": 46
        },
        {
          "output_type": "stream",
          "text": [
            "time: 17.4 ms (started: 2021-04-22 01:23:02 +00:00)\n"
          ],
          "name": "stdout"
        }
      ]
    },
    {
      "cell_type": "code",
      "metadata": {
        "colab": {
          "base_uri": "https://localhost:8080/"
        },
        "id": "0KpTm73-BpiA",
        "outputId": "428b71be-1142-4cbe-fa09-c4bae1b331a2"
      },
      "source": [
        "# Define characteristics for visualisation creation\n",
        "def create_chart(df) :\n",
        "  chart = alt.Chart(df).transform_fold(\n",
        "    fold=['Bottom 20 % Deviation', 'Top 20 % Deviation'],\n",
        "    as_ = ['Poverty %','completely_home_value']\n",
        "    \n",
        "    ).mark_line().encode(\n",
        "      x= alt.X('date:T', title = 'Date'),\n",
        "      y= alt.Y('completely_home_value:Q', title = 'Completely Home %'),\n",
        "      color='Poverty %:N'\n",
        "    ).properties(width = 1000).interactive()\n",
        "\n",
        "  rule = alt.Chart(pd.DataFrame({'Mean 2019':[0]})).mark_rule(color='#757575',strokeDash=[5,3], size=2).encode(\n",
        "    y='Mean 2019',\n",
        "    size=alt.value(2),\n",
        "    )\n",
        "  \n",
        "  text = alt.Chart({'values':[{ 'y': 1}]}).mark_text(\n",
        "    text='Mean 2019', angle=0\n",
        "    ).encode(\n",
        "      y=alt.Y('y:Q'),opacity=alt.value(0.4)\n",
        "    )\n",
        "\n",
        "  return  chart + rule + text\n"
      ],
      "execution_count": null,
      "outputs": [
        {
          "output_type": "stream",
          "text": [
            "time: 17.1 ms (started: 2021-04-22 01:31:42 +00:00)\n"
          ],
          "name": "stdout"
        }
      ]
    },
    {
      "cell_type": "code",
      "metadata": {
        "colab": {
          "base_uri": "https://localhost:8080/"
        },
        "id": "P9AleyUlCeuI",
        "outputId": "a3edc1b6-637a-4f36-98b4-a6108eecb26d"
      },
      "source": [
        "# Function to filter date from dataset\n",
        "def apply_date_filter(df,start_date,end_date) :\n",
        "  mask = (df['date'] > start_date) & (df['date'] <= end_date)\n",
        "  dfX = df.loc[mask]\n",
        "  return dfX"
      ],
      "execution_count": null,
      "outputs": [
        {
          "output_type": "stream",
          "text": [
            "time: 3.22 ms (started: 2021-04-22 01:23:02 +00:00)\n"
          ],
          "name": "stdout"
        }
      ]
    },
    {
      "cell_type": "code",
      "metadata": {
        "colab": {
          "base_uri": "https://localhost:8080/",
          "height": 418
        },
        "id": "V4EHlNdfSVal",
        "outputId": "ff610e3d-2be3-43f0-8db8-4e839901410a"
      },
      "source": [
        "# create pandas dataframe for visualizations\n",
        "df = grouped_df_mob_demo_combined.toPandas()\n",
        "df"
      ],
      "execution_count": null,
      "outputs": [
        {
          "output_type": "execute_result",
          "data": {
            "text/html": [
              "<div>\n",
              "<style scoped>\n",
              "    .dataframe tbody tr th:only-of-type {\n",
              "        vertical-align: middle;\n",
              "    }\n",
              "\n",
              "    .dataframe tbody tr th {\n",
              "        vertical-align: top;\n",
              "    }\n",
              "\n",
              "    .dataframe thead th {\n",
              "        text-align: right;\n",
              "    }\n",
              "</style>\n",
              "<table border=\"1\" class=\"dataframe\">\n",
              "  <thead>\n",
              "    <tr style=\"text-align: right;\">\n",
              "      <th></th>\n",
              "      <th>date</th>\n",
              "      <th>top20_perc</th>\n",
              "      <th>bottom20_perc</th>\n",
              "      <th>top20_deviation</th>\n",
              "      <th>bottom20_deviation</th>\n",
              "    </tr>\n",
              "  </thead>\n",
              "  <tbody>\n",
              "    <tr>\n",
              "      <th>0</th>\n",
              "      <td>2020-02-26</td>\n",
              "      <td>21.605879</td>\n",
              "      <td>24.156731</td>\n",
              "      <td>-9.360386</td>\n",
              "      <td>-6.809534</td>\n",
              "    </tr>\n",
              "    <tr>\n",
              "      <th>1</th>\n",
              "      <td>2020-04-13</td>\n",
              "      <td>50.157393</td>\n",
              "      <td>41.223461</td>\n",
              "      <td>19.191128</td>\n",
              "      <td>10.257196</td>\n",
              "    </tr>\n",
              "    <tr>\n",
              "      <th>2</th>\n",
              "      <td>2020-06-24</td>\n",
              "      <td>31.917758</td>\n",
              "      <td>31.333956</td>\n",
              "      <td>0.951492</td>\n",
              "      <td>0.367690</td>\n",
              "    </tr>\n",
              "    <tr>\n",
              "      <th>3</th>\n",
              "      <td>2020-06-08</td>\n",
              "      <td>32.730204</td>\n",
              "      <td>29.635589</td>\n",
              "      <td>1.763938</td>\n",
              "      <td>-1.330676</td>\n",
              "    </tr>\n",
              "    <tr>\n",
              "      <th>4</th>\n",
              "      <td>2020-09-12</td>\n",
              "      <td>29.251072</td>\n",
              "      <td>31.504418</td>\n",
              "      <td>-1.715193</td>\n",
              "      <td>0.538152</td>\n",
              "    </tr>\n",
              "    <tr>\n",
              "      <th>...</th>\n",
              "      <td>...</td>\n",
              "      <td>...</td>\n",
              "      <td>...</td>\n",
              "      <td>...</td>\n",
              "      <td>...</td>\n",
              "    </tr>\n",
              "    <tr>\n",
              "      <th>361</th>\n",
              "      <td>2020-04-05</td>\n",
              "      <td>50.825575</td>\n",
              "      <td>42.008423</td>\n",
              "      <td>19.859310</td>\n",
              "      <td>11.042158</td>\n",
              "    </tr>\n",
              "    <tr>\n",
              "      <th>362</th>\n",
              "      <td>2020-05-01</td>\n",
              "      <td>42.927216</td>\n",
              "      <td>42.628368</td>\n",
              "      <td>11.960951</td>\n",
              "      <td>11.662102</td>\n",
              "    </tr>\n",
              "    <tr>\n",
              "      <th>363</th>\n",
              "      <td>2020-10-25</td>\n",
              "      <td>35.282616</td>\n",
              "      <td>36.207415</td>\n",
              "      <td>4.316350</td>\n",
              "      <td>5.241150</td>\n",
              "    </tr>\n",
              "    <tr>\n",
              "      <th>364</th>\n",
              "      <td>2020-12-28</td>\n",
              "      <td>32.507189</td>\n",
              "      <td>28.370827</td>\n",
              "      <td>1.540923</td>\n",
              "      <td>-2.595438</td>\n",
              "    </tr>\n",
              "    <tr>\n",
              "      <th>365</th>\n",
              "      <td>2020-12-19</td>\n",
              "      <td>29.990995</td>\n",
              "      <td>31.528425</td>\n",
              "      <td>-0.975270</td>\n",
              "      <td>0.562160</td>\n",
              "    </tr>\n",
              "  </tbody>\n",
              "</table>\n",
              "<p>366 rows × 5 columns</p>\n",
              "</div>"
            ],
            "text/plain": [
              "           date  top20_perc  bottom20_perc  top20_deviation  bottom20_deviation\n",
              "0    2020-02-26   21.605879      24.156731        -9.360386           -6.809534\n",
              "1    2020-04-13   50.157393      41.223461        19.191128           10.257196\n",
              "2    2020-06-24   31.917758      31.333956         0.951492            0.367690\n",
              "3    2020-06-08   32.730204      29.635589         1.763938           -1.330676\n",
              "4    2020-09-12   29.251072      31.504418        -1.715193            0.538152\n",
              "..          ...         ...            ...              ...                 ...\n",
              "361  2020-04-05   50.825575      42.008423        19.859310           11.042158\n",
              "362  2020-05-01   42.927216      42.628368        11.960951           11.662102\n",
              "363  2020-10-25   35.282616      36.207415         4.316350            5.241150\n",
              "364  2020-12-28   32.507189      28.370827         1.540923           -2.595438\n",
              "365  2020-12-19   29.990995      31.528425        -0.975270            0.562160\n",
              "\n",
              "[366 rows x 5 columns]"
            ]
          },
          "metadata": {
            "tags": []
          },
          "execution_count": 49
        },
        {
          "output_type": "stream",
          "text": [
            "time: 5min 36s (started: 2021-04-22 01:23:02 +00:00)\n"
          ],
          "name": "stdout"
        }
      ]
    },
    {
      "cell_type": "code",
      "metadata": {
        "colab": {
          "base_uri": "https://localhost:8080/"
        },
        "id": "MtFPRkkEZtzL",
        "outputId": "98721de8-4972-4c1c-8fb6-749585189d67"
      },
      "source": [
        "df = df.rename(columns={'top20_perc': 'Top 20 %', 'bottom20_perc': 'Bottom 20 %','top20_deviation': 'Top 20 % Deviation', 'bottom20_deviation': 'Bottom 20 % Deviation'})"
      ],
      "execution_count": null,
      "outputs": [
        {
          "output_type": "stream",
          "text": [
            "time: 4.08 ms (started: 2021-04-22 01:28:38 +00:00)\n"
          ],
          "name": "stdout"
        }
      ]
    },
    {
      "cell_type": "code",
      "metadata": {
        "colab": {
          "base_uri": "https://localhost:8080/",
          "height": 385
        },
        "id": "pTTAkF1Iwesw",
        "outputId": "9c688720-2d96-42d5-8328-97e43bcdc09c"
      },
      "source": [
        "# analysis for the entire year on monthly basis\n",
        "df_str = df.copy(deep=True) #make a deep copy\n",
        "\n",
        "df_str['date'] = pd.to_datetime(df_str['date'],utc= True) # extract the months\n",
        "\n",
        "df_str = df_str.groupby([df_str['date']]).mean().rolling(10).mean()[0:] #find the mean for the days and roll up for every 10 days\n",
        "\n",
        "chart = alt.Chart(df_str.reset_index()).transform_fold(\n",
        "    fold=['Bottom 20 %', 'Top 20 %'],\n",
        "    as_ = ['Poverty %','completely home %']\n",
        "    \n",
        "    ).mark_line().encode(\n",
        "      x='date:T',\n",
        "      y= alt.Y('completely home %:Q', title = 'Completely Home %'), color='Poverty %:N'\n",
        "    ).properties(width = 1000)\n",
        "chart"
      ],
      "execution_count": null,
      "outputs": [
        {
          "output_type": "execute_result",
          "data": {
            "text/plain": [
              "alt.Chart(...)"
            ],
            "text/html": [
              "\n",
              "<div id=\"altair-viz-beb3af476595428b98c4869e83d03f90\"></div>\n",
              "<script type=\"text/javascript\">\n",
              "  (function(spec, embedOpt){\n",
              "    let outputDiv = document.currentScript.previousElementSibling;\n",
              "    if (outputDiv.id !== \"altair-viz-beb3af476595428b98c4869e83d03f90\") {\n",
              "      outputDiv = document.getElementById(\"altair-viz-beb3af476595428b98c4869e83d03f90\");\n",
              "    }\n",
              "    const paths = {\n",
              "      \"vega\": \"https://cdn.jsdelivr.net/npm//vega@5?noext\",\n",
              "      \"vega-lib\": \"https://cdn.jsdelivr.net/npm//vega-lib?noext\",\n",
              "      \"vega-lite\": \"https://cdn.jsdelivr.net/npm//vega-lite@4.8.1?noext\",\n",
              "      \"vega-embed\": \"https://cdn.jsdelivr.net/npm//vega-embed@6?noext\",\n",
              "    };\n",
              "\n",
              "    function loadScript(lib) {\n",
              "      return new Promise(function(resolve, reject) {\n",
              "        var s = document.createElement('script');\n",
              "        s.src = paths[lib];\n",
              "        s.async = true;\n",
              "        s.onload = () => resolve(paths[lib]);\n",
              "        s.onerror = () => reject(`Error loading script: ${paths[lib]}`);\n",
              "        document.getElementsByTagName(\"head\")[0].appendChild(s);\n",
              "      });\n",
              "    }\n",
              "\n",
              "    function showError(err) {\n",
              "      outputDiv.innerHTML = `<div class=\"error\" style=\"color:red;\">${err}</div>`;\n",
              "      throw err;\n",
              "    }\n",
              "\n",
              "    function displayChart(vegaEmbed) {\n",
              "      vegaEmbed(outputDiv, spec, embedOpt)\n",
              "        .catch(err => showError(`Javascript Error: ${err.message}<br>This usually means there's a typo in your chart specification. See the javascript console for the full traceback.`));\n",
              "    }\n",
              "\n",
              "    if(typeof define === \"function\" && define.amd) {\n",
              "      requirejs.config({paths});\n",
              "      require([\"vega-embed\"], displayChart, err => showError(`Error loading script: ${err.message}`));\n",
              "    } else if (typeof vegaEmbed === \"function\") {\n",
              "      displayChart(vegaEmbed);\n",
              "    } else {\n",
              "      loadScript(\"vega\")\n",
              "        .then(() => loadScript(\"vega-lite\"))\n",
              "        .then(() => loadScript(\"vega-embed\"))\n",
              "        .catch(showError)\n",
              "        .then(() => displayChart(vegaEmbed));\n",
              "    }\n",
              "  })({\"config\": {\"view\": {\"continuousHeight\": 300, \"continuousWidth\": 400}, \"range\": {\"category\": {\"scheme\": [\"#FF4500\", \"#a0aab4\", \"#4E79A7\"]}}}, \"data\": {\"name\": \"data-7820cd2fd5e6a694860febd6bacc5210\"}, \"mark\": \"line\", \"encoding\": {\"color\": {\"type\": \"nominal\", \"field\": \"Poverty %\"}, \"x\": {\"type\": \"temporal\", \"field\": \"date\"}, \"y\": {\"type\": \"quantitative\", \"field\": \"completely home %\", \"title\": \"Completely Home %\"}}, \"transform\": [{\"fold\": [\"Bottom 20 %\", \"Top 20 %\"], \"as\": [\"Poverty %\", \"completely home %\"]}], \"width\": 1000, \"$schema\": \"https://vega.github.io/schema/vega-lite/v4.8.1.json\", \"datasets\": {\"data-7820cd2fd5e6a694860febd6bacc5210\": [{\"date\": \"2020-01-01T00:00:00+00:00\", \"Top 20 %\": null, \"Bottom 20 %\": null, \"Top 20 % Deviation\": null, \"Bottom 20 % Deviation\": null}, {\"date\": \"2020-01-02T00:00:00+00:00\", \"Top 20 %\": null, \"Bottom 20 %\": null, \"Top 20 % Deviation\": null, \"Bottom 20 % Deviation\": null}, {\"date\": \"2020-01-03T00:00:00+00:00\", \"Top 20 %\": null, \"Bottom 20 %\": null, \"Top 20 % Deviation\": null, \"Bottom 20 % Deviation\": null}, {\"date\": \"2020-01-04T00:00:00+00:00\", \"Top 20 %\": null, \"Bottom 20 %\": null, \"Top 20 % Deviation\": null, \"Bottom 20 % Deviation\": null}, {\"date\": \"2020-01-05T00:00:00+00:00\", \"Top 20 %\": null, \"Bottom 20 %\": null, \"Top 20 % Deviation\": null, \"Bottom 20 % Deviation\": null}, {\"date\": \"2020-01-06T00:00:00+00:00\", \"Top 20 %\": null, \"Bottom 20 %\": null, \"Top 20 % Deviation\": null, \"Bottom 20 % Deviation\": null}, {\"date\": \"2020-01-07T00:00:00+00:00\", \"Top 20 %\": null, \"Bottom 20 %\": null, \"Top 20 % Deviation\": null, \"Bottom 20 % Deviation\": null}, {\"date\": \"2020-01-08T00:00:00+00:00\", \"Top 20 %\": null, \"Bottom 20 %\": null, \"Top 20 % Deviation\": null, \"Bottom 20 % Deviation\": null}, {\"date\": \"2020-01-09T00:00:00+00:00\", \"Top 20 %\": null, \"Bottom 20 %\": null, \"Top 20 % Deviation\": null, \"Bottom 20 % Deviation\": null}, {\"date\": \"2020-01-10T00:00:00+00:00\", \"Top 20 %\": 25.403245428378092, \"Bottom 20 %\": 29.905625852730072, \"Top 20 % Deviation\": -5.563019861064403, \"Bottom 20 % Deviation\": -1.0606394367124268}, {\"date\": \"2020-01-11T00:00:00+00:00\", \"Top 20 %\": 25.39111881787939, \"Bottom 20 %\": 30.112060357256404, \"Top 20 % Deviation\": -5.575146471563104, \"Bottom 20 % Deviation\": -0.8542049321860936}, {\"date\": \"2020-01-12T00:00:00+00:00\", \"Top 20 %\": 25.92497193539061, \"Bottom 20 %\": 30.85561281915808, \"Top 20 % Deviation\": -5.0412933540518905, \"Bottom 20 % Deviation\": -0.11065247028441724}, {\"date\": \"2020-01-13T00:00:00+00:00\", \"Top 20 %\": 25.598227437843565, \"Bottom 20 %\": 30.600842810354095, \"Top 20 % Deviation\": -5.368037851598932, \"Bottom 20 % Deviation\": -0.36542247908839903}, {\"date\": \"2020-01-14T00:00:00+00:00\", \"Top 20 %\": 24.903500121461214, \"Bottom 20 %\": 29.98664612771173, \"Top 20 % Deviation\": -6.062765167981281, \"Bottom 20 % Deviation\": -0.979619161730761}, {\"date\": \"2020-01-15T00:00:00+00:00\", \"Top 20 %\": 23.563161182443462, \"Bottom 20 %\": 28.85437659082782, \"Top 20 % Deviation\": -7.403104106999029, \"Bottom 20 % Deviation\": -2.1118886986146697}, {\"date\": \"2020-01-16T00:00:00+00:00\", \"Top 20 %\": 23.147163504619648, \"Bottom 20 %\": 28.60647351438457, \"Top 20 % Deviation\": -7.819101784822847, \"Bottom 20 % Deviation\": -2.3597917750579205}, {\"date\": \"2020-01-17T00:00:00+00:00\", \"Top 20 %\": 23.03642338181933, \"Bottom 20 %\": 28.531660005124998, \"Top 20 % Deviation\": -7.929841907623164, \"Bottom 20 % Deviation\": -2.434605284317495}, {\"date\": \"2020-01-18T00:00:00+00:00\", \"Top 20 %\": 23.52466855695176, \"Bottom 20 %\": 28.99379757042012, \"Top 20 % Deviation\": -7.441596732490732, \"Bottom 20 % Deviation\": -1.9724677190223665}, {\"date\": \"2020-01-19T00:00:00+00:00\", \"Top 20 %\": 24.42419079324352, \"Bottom 20 %\": 30.603971984023836, \"Top 20 % Deviation\": -6.542074496198973, \"Bottom 20 % Deviation\": -0.36229330541865357}, {\"date\": \"2020-01-20T00:00:00+00:00\", \"Top 20 %\": 24.825357631866666, \"Bottom 20 %\": 31.342006832472652, \"Top 20 % Deviation\": -6.140907657575826, \"Bottom 20 % Deviation\": 0.3757415430301602}, {\"date\": \"2020-01-21T00:00:00+00:00\", \"Top 20 %\": 23.818964736104544, \"Bottom 20 %\": 30.866604541015136, \"Top 20 % Deviation\": -7.1473005533379474, \"Bottom 20 % Deviation\": -0.0996607484273568}, {\"date\": \"2020-01-22T00:00:00+00:00\", \"Top 20 %\": 22.54288178042126, \"Bottom 20 %\": 29.88814990582266, \"Top 20 % Deviation\": -8.423383509021232, \"Bottom 20 % Deviation\": -1.0781153836198336}, {\"date\": \"2020-01-23T00:00:00+00:00\", \"Top 20 %\": 22.50828006205981, \"Bottom 20 %\": 29.940749692951158, \"Top 20 % Deviation\": -8.457985227382684, \"Bottom 20 % Deviation\": -1.025515596491341}, {\"date\": \"2020-01-24T00:00:00+00:00\", \"Top 20 %\": 22.33572117099137, \"Bottom 20 %\": 29.729181790070136, \"Top 20 % Deviation\": -8.630544118451128, \"Bottom 20 % Deviation\": -1.2370834993723636}, {\"date\": \"2020-01-25T00:00:00+00:00\", \"Top 20 %\": 22.96679561609531, \"Bottom 20 %\": 30.01503611900157, \"Top 20 % Deviation\": -7.999469673347184, \"Bottom 20 % Deviation\": -0.9512291704409297}, {\"date\": \"2020-01-26T00:00:00+00:00\", \"Top 20 %\": 23.766855500928774, \"Bottom 20 %\": 31.048343579308618, \"Top 20 % Deviation\": -7.199409788513722, \"Bottom 20 % Deviation\": 0.08207828986611823}, {\"date\": \"2020-01-27T00:00:00+00:00\", \"Top 20 %\": 23.63743318746749, \"Bottom 20 %\": 30.76713107804319, \"Top 20 % Deviation\": -7.328832101975001, \"Bottom 20 % Deviation\": -0.19913421139931167}, {\"date\": \"2020-01-28T00:00:00+00:00\", \"Top 20 %\": 22.980322430145332, \"Bottom 20 %\": 30.02534667339021, \"Top 20 % Deviation\": -7.985942859297157, \"Bottom 20 % Deviation\": -0.9409186160522932}, {\"date\": \"2020-01-29T00:00:00+00:00\", \"Top 20 %\": 21.86006877839255, \"Bottom 20 %\": 28.327916551661566, \"Top 20 % Deviation\": -9.10619651104994, \"Bottom 20 % Deviation\": -2.6383487377809343}, {\"date\": \"2020-01-30T00:00:00+00:00\", \"Top 20 %\": 21.238041431783536, \"Bottom 20 %\": 27.341070422413736, \"Top 20 % Deviation\": -9.72822385765895, \"Bottom 20 % Deviation\": -3.6251948670287604}, {\"date\": \"2020-01-31T00:00:00+00:00\", \"Top 20 %\": 21.032540776965316, \"Bottom 20 %\": 26.922457863245263, \"Top 20 % Deviation\": -9.933724512477172, \"Bottom 20 % Deviation\": -4.043807426197233}, {\"date\": \"2020-02-01T00:00:00+00:00\", \"Top 20 %\": 21.828868126761495, \"Bottom 20 %\": 27.726874173101198, \"Top 20 % Deviation\": -9.137397162680992, \"Bottom 20 % Deviation\": -3.2393911163412965}, {\"date\": \"2020-02-02T00:00:00+00:00\", \"Top 20 %\": 22.875820527237664, \"Bottom 20 %\": 28.966849116398755, \"Top 20 % Deviation\": -8.090444762204822, \"Bottom 20 % Deviation\": -1.9994161730437359}, {\"date\": \"2020-02-03T00:00:00+00:00\", \"Top 20 %\": 23.353018085838254, \"Bottom 20 %\": 29.336598252585294, \"Top 20 % Deviation\": -7.613247203604232, \"Bottom 20 % Deviation\": -1.6296670368572006}, {\"date\": \"2020-02-04T00:00:00+00:00\", \"Top 20 %\": 23.195744175447537, \"Bottom 20 %\": 29.570400956856663, \"Top 20 % Deviation\": -7.77052111399495, \"Bottom 20 % Deviation\": -1.395864332585829}, {\"date\": \"2020-02-05T00:00:00+00:00\", \"Top 20 %\": 22.692480174395296, \"Bottom 20 %\": 29.65027559708697, \"Top 20 % Deviation\": -8.273785115047186, \"Bottom 20 % Deviation\": -1.3159896923555174}, {\"date\": \"2020-02-06T00:00:00+00:00\", \"Top 20 %\": 23.045614262039628, \"Bottom 20 %\": 30.596906226818174, \"Top 20 % Deviation\": -7.920651027402853, \"Bottom 20 % Deviation\": -0.369359062624315}, {\"date\": \"2020-02-07T00:00:00+00:00\", \"Top 20 %\": 23.295140064385183, \"Bottom 20 %\": 31.403526093621746, \"Top 20 % Deviation\": -7.671125225057298, \"Bottom 20 % Deviation\": 0.4372608041792539}, {\"date\": \"2020-02-08T00:00:00+00:00\", \"Top 20 %\": 23.960712906208748, \"Bottom 20 %\": 32.625254667593836, \"Top 20 % Deviation\": -7.005552383233734, \"Bottom 20 % Deviation\": 1.658989378151341}, {\"date\": \"2020-02-09T00:00:00+00:00\", \"Top 20 %\": 25.158828983065533, \"Bottom 20 %\": 33.75502597451494, \"Top 20 % Deviation\": -5.807436306376948, \"Bottom 20 % Deviation\": 2.7887606850724507}, {\"date\": \"2020-02-10T00:00:00+00:00\", \"Top 20 %\": 25.59022003804434, \"Bottom 20 %\": 34.16102540226242, \"Top 20 % Deviation\": -5.376045251398142, \"Bottom 20 % Deviation\": 3.194760112819924}, {\"date\": \"2020-02-11T00:00:00+00:00\", \"Top 20 %\": 25.073754316271057, \"Bottom 20 %\": 33.886121967974915, \"Top 20 % Deviation\": -5.892510973171424, \"Bottom 20 % Deviation\": 2.9198566785324256}, {\"date\": \"2020-02-12T00:00:00+00:00\", \"Top 20 %\": 24.121251237917598, \"Bottom 20 %\": 32.67574262821687, \"Top 20 % Deviation\": -6.845014051524882, \"Bottom 20 % Deviation\": 1.7094773387743731}, {\"date\": \"2020-02-13T00:00:00+00:00\", \"Top 20 %\": 24.37173008883603, \"Bottom 20 %\": 32.9506509879426, \"Top 20 % Deviation\": -6.594535200606446, \"Bottom 20 % Deviation\": 1.9843856985001085}, {\"date\": \"2020-02-14T00:00:00+00:00\", \"Top 20 %\": 24.216350598759025, \"Bottom 20 %\": 32.673558796083924, \"Top 20 % Deviation\": -6.749914690683454, \"Bottom 20 % Deviation\": 1.707293506641427}, {\"date\": \"2020-02-15T00:00:00+00:00\", \"Top 20 %\": 24.49273765333876, \"Bottom 20 %\": 32.844053941244155, \"Top 20 % Deviation\": -6.47352763610372, \"Bottom 20 % Deviation\": 1.8777886518016618}, {\"date\": \"2020-02-16T00:00:00+00:00\", \"Top 20 %\": 24.774816400312027, \"Bottom 20 %\": 32.593571163196216, \"Top 20 % Deviation\": -6.191448889130456, \"Bottom 20 % Deviation\": 1.6273058737537167}, {\"date\": \"2020-02-17T00:00:00+00:00\", \"Top 20 %\": 25.095971911070478, \"Bottom 20 %\": 32.31113010055293, \"Top 20 % Deviation\": -5.8702933783720015, \"Bottom 20 % Deviation\": 1.3448648111104358}, {\"date\": \"2020-02-18T00:00:00+00:00\", \"Top 20 %\": 24.59692981269693, \"Bottom 20 %\": 30.762089587116968, \"Top 20 % Deviation\": -6.369335476745547, \"Bottom 20 % Deviation\": -0.20417570232552756}, {\"date\": \"2020-02-19T00:00:00+00:00\", \"Top 20 %\": 23.685236603211166, \"Bottom 20 %\": 29.40118305712491, \"Top 20 % Deviation\": -7.281028686231309, \"Bottom 20 % Deviation\": -1.5650822323175848}, {\"date\": \"2020-02-20T00:00:00+00:00\", \"Top 20 %\": 23.437302555884994, \"Bottom 20 %\": 28.996883671166206, \"Top 20 % Deviation\": -7.528962733557478, \"Bottom 20 % Deviation\": -1.9693816182762913}, {\"date\": \"2020-02-21T00:00:00+00:00\", \"Top 20 %\": 23.277493967393962, \"Bottom 20 %\": 28.31219690101118, \"Top 20 % Deviation\": -7.68877132204851, \"Bottom 20 % Deviation\": -2.6540683884313214}, {\"date\": \"2020-02-22T00:00:00+00:00\", \"Top 20 %\": 23.446932415166515, \"Bottom 20 %\": 28.29832745799145, \"Top 20 % Deviation\": -7.519332874275958, \"Bottom 20 % Deviation\": -2.667937831451047}, {\"date\": \"2020-02-23T00:00:00+00:00\", \"Top 20 %\": 23.526361062992397, \"Bottom 20 %\": 28.05218663664375, \"Top 20 % Deviation\": -7.439904226450077, \"Bottom 20 % Deviation\": -2.9140786527987417}, {\"date\": \"2020-02-24T00:00:00+00:00\", \"Top 20 %\": 23.666959320215852, \"Bottom 20 %\": 28.419700524447244, \"Top 20 % Deviation\": -7.2993059692266185, \"Bottom 20 % Deviation\": -2.5465647649952468}, {\"date\": \"2020-02-25T00:00:00+00:00\", \"Top 20 %\": 24.622683941276023, \"Bottom 20 %\": 28.830960089046833, \"Top 20 % Deviation\": -6.343581348166447, \"Bottom 20 % Deviation\": -2.135305200395657}, {\"date\": \"2020-02-26T00:00:00+00:00\", \"Top 20 %\": 24.132380548641574, \"Bottom 20 %\": 28.158265525802456, \"Top 20 % Deviation\": -6.833884740800897, \"Bottom 20 % Deviation\": -2.8079997636400336}, {\"date\": \"2020-02-27T00:00:00+00:00\", \"Top 20 %\": 23.513793312276768, \"Bottom 20 %\": 27.76849278455004, \"Top 20 % Deviation\": -7.452471977165703, \"Bottom 20 % Deviation\": -3.1977725048924523}, {\"date\": \"2020-02-28T00:00:00+00:00\", \"Top 20 %\": 23.489007792022228, \"Bottom 20 %\": 28.12606605489173, \"Top 20 % Deviation\": -7.47725749742024, \"Bottom 20 % Deviation\": -2.84019923455076}, {\"date\": \"2020-02-29T00:00:00+00:00\", \"Top 20 %\": 23.6006158083902, \"Bottom 20 %\": 28.363175696093883, \"Top 20 % Deviation\": -7.365649481052273, \"Bottom 20 % Deviation\": -2.6030895933486073}, {\"date\": \"2020-03-01T00:00:00+00:00\", \"Top 20 %\": 24.544130856813947, \"Bottom 20 %\": 29.130176257932174, \"Top 20 % Deviation\": -6.422134432628525, \"Bottom 20 % Deviation\": -1.8360890315103142}, {\"date\": \"2020-03-02T00:00:00+00:00\", \"Top 20 %\": 24.940289346849084, \"Bottom 20 %\": 29.357955949614677, \"Top 20 % Deviation\": -6.025975942593388, \"Bottom 20 % Deviation\": -1.6083093398278088}, {\"date\": \"2020-03-03T00:00:00+00:00\", \"Top 20 %\": 24.67601103885782, \"Bottom 20 %\": 29.201168348844817, \"Top 20 % Deviation\": -6.290254250584653, \"Bottom 20 % Deviation\": -1.765096940597673}, {\"date\": \"2020-03-04T00:00:00+00:00\", \"Top 20 %\": 24.169090090314107, \"Bottom 20 %\": 29.12203549101443, \"Top 20 % Deviation\": -6.797175199128366, \"Bottom 20 % Deviation\": -1.8442297984280631}, {\"date\": \"2020-03-05T00:00:00+00:00\", \"Top 20 %\": 23.879097310187568, \"Bottom 20 %\": 28.347487051413538, \"Top 20 % Deviation\": -7.087167979254906, \"Bottom 20 % Deviation\": -2.6187782380289564}, {\"date\": \"2020-03-06T00:00:00+00:00\", \"Top 20 %\": 22.28240678883713, \"Bottom 20 %\": 26.757827485200142, \"Top 20 % Deviation\": -8.683858500605345, \"Bottom 20 % Deviation\": -4.208437804242349}, {\"date\": \"2020-03-07T00:00:00+00:00\", \"Top 20 %\": 22.4640623137261, \"Bottom 20 %\": 26.86508132064036, \"Top 20 % Deviation\": -8.502202975716376, \"Bottom 20 % Deviation\": -4.101183968802131}, {\"date\": \"2020-03-08T00:00:00+00:00\", \"Top 20 %\": 23.046709485801607, \"Bottom 20 %\": 26.655116957426024, \"Top 20 % Deviation\": -7.919555803640867, \"Bottom 20 % Deviation\": -4.311148332016461}, {\"date\": \"2020-03-09T00:00:00+00:00\", \"Top 20 %\": 23.24761820012777, \"Bottom 20 %\": 26.46516722835248, \"Top 20 % Deviation\": -7.718647089314703, \"Bottom 20 % Deviation\": -4.501098061090002}, {\"date\": \"2020-03-10T00:00:00+00:00\", \"Top 20 %\": 23.11045474901127, \"Bottom 20 %\": 26.609882189882075, \"Top 20 % Deviation\": -7.855810540431203, \"Bottom 20 % Deviation\": -4.356383099560408}, {\"date\": \"2020-03-11T00:00:00+00:00\", \"Top 20 %\": 22.29658149475007, \"Bottom 20 %\": 26.17907450191766, \"Top 20 % Deviation\": -8.669683794692405, \"Bottom 20 % Deviation\": -4.787190787524823}, {\"date\": \"2020-03-12T00:00:00+00:00\", \"Top 20 %\": 22.21724653769096, \"Bottom 20 %\": 25.683660520747804, \"Top 20 % Deviation\": -8.749018751751516, \"Bottom 20 % Deviation\": -5.282604768694675}, {\"date\": \"2020-03-13T00:00:00+00:00\", \"Top 20 %\": 22.264707282990393, \"Bottom 20 %\": 25.739839940098932, \"Top 20 % Deviation\": -8.701558006452082, \"Bottom 20 % Deviation\": -5.226425349343543}, {\"date\": \"2020-03-14T00:00:00+00:00\", \"Top 20 %\": 23.116013997825526, \"Bottom 20 %\": 25.534606445637166, \"Top 20 % Deviation\": -7.850251291616948, \"Bottom 20 % Deviation\": -5.431658843805311}, {\"date\": \"2020-03-15T00:00:00+00:00\", \"Top 20 %\": 24.547176526708455, \"Bottom 20 %\": 26.801263506498252, \"Top 20 % Deviation\": -6.4190887627340185, \"Bottom 20 % Deviation\": -4.165001782944225}, {\"date\": \"2020-03-16T00:00:00+00:00\", \"Top 20 %\": 25.908572558069643, \"Bottom 20 %\": 27.891658819829843, \"Top 20 % Deviation\": -5.057692731372834, \"Bottom 20 % Deviation\": -3.074606469612639}, {\"date\": \"2020-03-17T00:00:00+00:00\", \"Top 20 %\": 27.13694180177461, \"Bottom 20 %\": 28.995746689880587, \"Top 20 % Deviation\": -3.8293234876678626, \"Bottom 20 % Deviation\": -1.9705185995618977}, {\"date\": \"2020-03-18T00:00:00+00:00\", \"Top 20 %\": 28.50649097997921, \"Bottom 20 %\": 30.028493309013307, \"Top 20 % Deviation\": -2.4597743094632674, \"Bottom 20 % Deviation\": -0.9377719804291808}, {\"date\": \"2020-03-19T00:00:00+00:00\", \"Top 20 %\": 30.217554495231035, \"Bottom 20 %\": 31.224546996406854, \"Top 20 % Deviation\": -0.7487107942114409, \"Bottom 20 % Deviation\": 0.2582817069643678}, {\"date\": \"2020-03-20T00:00:00+00:00\", \"Top 20 %\": 32.03861316663624, \"Bottom 20 %\": 32.329409489484114, \"Top 20 % Deviation\": 1.0723478771937605, \"Bottom 20 % Deviation\": 1.3631442000416218}, {\"date\": \"2020-03-21T00:00:00+00:00\", \"Top 20 %\": 34.64209492868825, \"Bottom 20 %\": 33.41490368901191, \"Top 20 % Deviation\": 3.6758296392457765, \"Bottom 20 % Deviation\": 2.4486383995694165}, {\"date\": \"2020-03-22T00:00:00+00:00\", \"Top 20 %\": 37.620241524647085, \"Bottom 20 %\": 35.79895903770029, \"Top 20 % Deviation\": 6.653976235204605, \"Bottom 20 % Deviation\": 4.832693748257795}, {\"date\": \"2020-03-23T00:00:00+00:00\", \"Top 20 %\": 40.00351465699829, \"Bottom 20 %\": 37.16320025537364, \"Top 20 % Deviation\": 9.03724936755582, \"Bottom 20 % Deviation\": 6.19693496593114}, {\"date\": \"2020-03-24T00:00:00+00:00\", \"Top 20 %\": 41.4047096135994, \"Bottom 20 %\": 37.830319179147224, \"Top 20 % Deviation\": 10.438444324156924, \"Bottom 20 % Deviation\": 6.86405388970473}, {\"date\": \"2020-03-25T00:00:00+00:00\", \"Top 20 %\": 41.89844690622272, \"Bottom 20 %\": 37.321526109162754, \"Top 20 % Deviation\": 10.932181616780245, \"Bottom 20 % Deviation\": 6.355260819720263}, {\"date\": \"2020-03-26T00:00:00+00:00\", \"Top 20 %\": 43.179902283002995, \"Bottom 20 %\": 37.558944363457435, \"Top 20 % Deviation\": 12.213636993560517, \"Bottom 20 % Deviation\": 6.5926790740149475}, {\"date\": \"2020-03-27T00:00:00+00:00\", \"Top 20 %\": 44.19022683918318, \"Bottom 20 %\": 37.45266203359118, \"Top 20 % Deviation\": 13.223961549740702, \"Bottom 20 % Deviation\": 6.486396744148695}, {\"date\": \"2020-03-28T00:00:00+00:00\", \"Top 20 %\": 45.157486981613374, \"Bottom 20 %\": 37.86926390649913, \"Top 20 % Deviation\": 14.191221692170895, \"Bottom 20 % Deviation\": 6.902998617056636}, {\"date\": \"2020-03-29T00:00:00+00:00\", \"Top 20 %\": 46.38126457427619, \"Bottom 20 %\": 38.61637485710397, \"Top 20 % Deviation\": 15.414999284833709, \"Bottom 20 % Deviation\": 7.650109567661476}, {\"date\": \"2020-03-30T00:00:00+00:00\", \"Top 20 %\": 47.00380789790079, \"Bottom 20 %\": 38.50739105076921, \"Top 20 % Deviation\": 16.037542608458317, \"Bottom 20 % Deviation\": 7.541125761326708}, {\"date\": \"2020-03-31T00:00:00+00:00\", \"Top 20 %\": 46.91732041753892, \"Bottom 20 %\": 38.41558224077849, \"Top 20 % Deviation\": 15.951055128096446, \"Bottom 20 % Deviation\": 7.449316951335993}, {\"date\": \"2020-04-01T00:00:00+00:00\", \"Top 20 %\": 46.319020780121825, \"Bottom 20 %\": 37.83905473842873, \"Top 20 % Deviation\": 15.352755490679346, \"Bottom 20 % Deviation\": 6.8727894489862305}, {\"date\": \"2020-04-02T00:00:00+00:00\", \"Top 20 %\": 46.43563525223075, \"Bottom 20 %\": 38.08473265524644, \"Top 20 % Deviation\": 15.469369962788274, \"Bottom 20 % Deviation\": 7.118467365803937}, {\"date\": \"2020-04-03T00:00:00+00:00\", \"Top 20 %\": 46.386388775526896, \"Bottom 20 %\": 38.61595021809976, \"Top 20 % Deviation\": 15.420123486084421, \"Bottom 20 % Deviation\": 7.649684928657258}, {\"date\": \"2020-04-04T00:00:00+00:00\", \"Top 20 %\": 47.428979811037614, \"Bottom 20 %\": 40.12901812824964, \"Top 20 % Deviation\": 16.462714521595135, \"Bottom 20 % Deviation\": 9.162752838807142}, {\"date\": \"2020-04-05T00:00:00+00:00\", \"Top 20 %\": 47.90224215090584, \"Bottom 20 %\": 40.69451579356347, \"Top 20 % Deviation\": 16.935976861463367, \"Bottom 20 % Deviation\": 9.728250504120973}, {\"date\": \"2020-04-06T00:00:00+00:00\", \"Top 20 %\": 48.218180658284965, \"Bottom 20 %\": 41.291527881993936, \"Top 20 % Deviation\": 17.25191536884249, \"Bottom 20 % Deviation\": 10.325262592551443}, {\"date\": \"2020-04-07T00:00:00+00:00\", \"Top 20 %\": 48.012124211928445, \"Bottom 20 %\": 41.927838634966776, \"Top 20 % Deviation\": 17.04585892248597, \"Bottom 20 % Deviation\": 10.961573345524283}, {\"date\": \"2020-04-08T00:00:00+00:00\", \"Top 20 %\": 47.521853208603886, \"Bottom 20 %\": 41.8002549419568, \"Top 20 % Deviation\": 16.555587919161418, \"Bottom 20 % Deviation\": 10.833989652514312}, {\"date\": \"2020-04-09T00:00:00+00:00\", \"Top 20 %\": 47.6840934517775, \"Bottom 20 %\": 42.13807927764236, \"Top 20 % Deviation\": 16.717828162335028, \"Bottom 20 % Deviation\": 11.171813988199874}, {\"date\": \"2020-04-10T00:00:00+00:00\", \"Top 20 %\": 47.50170948664263, \"Bottom 20 %\": 42.251439710014594, \"Top 20 % Deviation\": 16.53544419720016, \"Bottom 20 % Deviation\": 11.285174420572103}, {\"date\": \"2020-04-11T00:00:00+00:00\", \"Top 20 %\": 47.39828472093885, \"Bottom 20 %\": 42.087409826186544, \"Top 20 % Deviation\": 16.43201943149638, \"Bottom 20 % Deviation\": 11.121144536744055}, {\"date\": \"2020-04-12T00:00:00+00:00\", \"Top 20 %\": 48.09524948035089, \"Bottom 20 %\": 41.6921121322501, \"Top 20 % Deviation\": 17.12898419090842, \"Bottom 20 % Deviation\": 10.725846842807616}, {\"date\": \"2020-04-13T00:00:00+00:00\", \"Top 20 %\": 48.65198241506509, \"Bottom 20 %\": 41.72605114125589, \"Top 20 % Deviation\": 17.685717125622624, \"Bottom 20 % Deviation\": 10.759785851813394}, {\"date\": \"2020-04-14T00:00:00+00:00\", \"Top 20 %\": 48.45778733369031, \"Bottom 20 %\": 41.0958344523471, \"Top 20 % Deviation\": 17.49152204424784, \"Bottom 20 % Deviation\": 10.129569162904607}, {\"date\": \"2020-04-15T00:00:00+00:00\", \"Top 20 %\": 48.273791894523534, \"Bottom 20 %\": 41.858754641045245, \"Top 20 % Deviation\": 17.307526605081065, \"Bottom 20 % Deviation\": 10.892489351602752}, {\"date\": \"2020-04-16T00:00:00+00:00\", \"Top 20 %\": 48.10288550232006, \"Bottom 20 %\": 42.415844443278594, \"Top 20 % Deviation\": 17.1366202128776, \"Bottom 20 % Deviation\": 11.449579153836096}, {\"date\": \"2020-04-17T00:00:00+00:00\", \"Top 20 %\": 48.15759148643482, \"Bottom 20 %\": 42.173059491477915, \"Top 20 % Deviation\": 17.191326196992357, \"Bottom 20 % Deviation\": 11.206794202035416}, {\"date\": \"2020-04-18T00:00:00+00:00\", \"Top 20 %\": 47.961276445790816, \"Bottom 20 %\": 42.03627256134958, \"Top 20 % Deviation\": 16.99501115634835, \"Bottom 20 % Deviation\": 11.07000727190708}, {\"date\": \"2020-04-19T00:00:00+00:00\", \"Top 20 %\": 47.87146286205421, \"Bottom 20 %\": 42.48458408743538, \"Top 20 % Deviation\": 16.90519757261174, \"Bottom 20 % Deviation\": 11.518318797992883}, {\"date\": \"2020-04-20T00:00:00+00:00\", \"Top 20 %\": 47.900082646699936, \"Bottom 20 %\": 42.589196028540115, \"Top 20 % Deviation\": 16.933817357257475, \"Bottom 20 % Deviation\": 11.622930739097615}, {\"date\": \"2020-04-21T00:00:00+00:00\", \"Top 20 %\": 47.72671117971038, \"Bottom 20 %\": 43.252225881150146, \"Top 20 % Deviation\": 16.760445890267917, \"Bottom 20 % Deviation\": 12.285960591707644}, {\"date\": \"2020-04-22T00:00:00+00:00\", \"Top 20 %\": 46.852079025840524, \"Bottom 20 %\": 43.717387181232546, \"Top 20 % Deviation\": 15.88581373639806, \"Bottom 20 % Deviation\": 12.751121891790044}, {\"date\": \"2020-04-23T00:00:00+00:00\", \"Top 20 %\": 46.2691923862143, \"Bottom 20 %\": 44.20071545583029, \"Top 20 % Deviation\": 15.302927096771839, \"Bottom 20 % Deviation\": 13.234450166387784}, {\"date\": \"2020-04-24T00:00:00+00:00\", \"Top 20 %\": 45.773631410306095, \"Bottom 20 %\": 44.62335623096674, \"Top 20 % Deviation\": 14.80736612086364, \"Bottom 20 % Deviation\": 13.65709094152424}, {\"date\": \"2020-04-25T00:00:00+00:00\", \"Top 20 %\": 45.67560119001256, \"Bottom 20 %\": 43.91393031111302, \"Top 20 % Deviation\": 14.709335900570101, \"Bottom 20 % Deviation\": 12.947665021670511}, {\"date\": \"2020-04-26T00:00:00+00:00\", \"Top 20 %\": 45.4677542996274, \"Bottom 20 %\": 43.321922534507806, \"Top 20 % Deviation\": 14.501489010184937, \"Bottom 20 % Deviation\": 12.3556572450653}, {\"date\": \"2020-04-27T00:00:00+00:00\", \"Top 20 %\": 45.1781559190153, \"Bottom 20 %\": 42.664715337848705, \"Top 20 % Deviation\": 14.211890629572839, \"Bottom 20 % Deviation\": 11.698450048406206}, {\"date\": \"2020-04-28T00:00:00+00:00\", \"Top 20 %\": 45.05751034773077, \"Bottom 20 %\": 42.38205076063415, \"Top 20 % Deviation\": 14.091245058288303, \"Bottom 20 % Deviation\": 11.415785471191647}, {\"date\": \"2020-04-29T00:00:00+00:00\", \"Top 20 %\": 45.00285985447364, \"Bottom 20 %\": 41.6399537194466, \"Top 20 % Deviation\": 14.036594565031177, \"Bottom 20 % Deviation\": 10.6736884300041}, {\"date\": \"2020-04-30T00:00:00+00:00\", \"Top 20 %\": 44.66606389346932, \"Bottom 20 %\": 40.77156796806996, \"Top 20 % Deviation\": 13.699798604026853, \"Bottom 20 % Deviation\": 9.805302678627456}, {\"date\": \"2020-05-01T00:00:00+00:00\", \"Top 20 %\": 44.51522498699433, \"Bottom 20 %\": 40.41793505689509, \"Top 20 % Deviation\": 13.54895969755186, \"Bottom 20 % Deviation\": 9.451669767452588}, {\"date\": \"2020-05-02T00:00:00+00:00\", \"Top 20 %\": 44.00790161340367, \"Bottom 20 %\": 39.45996792430482, \"Top 20 % Deviation\": 13.041636323961194, \"Bottom 20 % Deviation\": 8.493702634862318}, {\"date\": \"2020-05-03T00:00:00+00:00\", \"Top 20 %\": 44.02396605285857, \"Bottom 20 %\": 38.31962210056286, \"Top 20 % Deviation\": 13.05770076341609, \"Bottom 20 % Deviation\": 7.353356811120362}, {\"date\": \"2020-05-04T00:00:00+00:00\", \"Top 20 %\": 44.277040558594095, \"Bottom 20 %\": 38.05714886977688, \"Top 20 % Deviation\": 13.310775269151616, \"Bottom 20 % Deviation\": 7.090883580334382}, {\"date\": \"2020-05-05T00:00:00+00:00\", \"Top 20 %\": 44.09454132838515, \"Bottom 20 %\": 37.26526316661982, \"Top 20 % Deviation\": 13.12827603894267, \"Bottom 20 % Deviation\": 6.298997877177321}, {\"date\": \"2020-05-06T00:00:00+00:00\", \"Top 20 %\": 43.817477753000766, \"Bottom 20 %\": 36.67329325266358, \"Top 20 % Deviation\": 12.851212463558289, \"Bottom 20 % Deviation\": 5.707027963221087}, {\"date\": \"2020-05-07T00:00:00+00:00\", \"Top 20 %\": 43.641877756995555, \"Bottom 20 %\": 36.80557390264621, \"Top 20 % Deviation\": 12.675612467553078, \"Bottom 20 % Deviation\": 5.839308613203707}, {\"date\": \"2020-05-08T00:00:00+00:00\", \"Top 20 %\": 43.46072563487818, \"Bottom 20 %\": 36.40070300630989, \"Top 20 % Deviation\": 12.49446034543571, \"Bottom 20 % Deviation\": 5.434437716867383}, {\"date\": \"2020-05-09T00:00:00+00:00\", \"Top 20 %\": 42.72284555604592, \"Bottom 20 %\": 36.46973682375936, \"Top 20 % Deviation\": 11.75658026660345, \"Bottom 20 % Deviation\": 5.503471534316856}, {\"date\": \"2020-05-10T00:00:00+00:00\", \"Top 20 %\": 43.23395785444908, \"Bottom 20 %\": 37.18417064030851, \"Top 20 % Deviation\": 12.267692565006609, \"Bottom 20 % Deviation\": 6.217905350866002}, {\"date\": \"2020-05-11T00:00:00+00:00\", \"Top 20 %\": 43.33932089592135, \"Bottom 20 %\": 36.635858527265086, \"Top 20 % Deviation\": 12.373055606478875, \"Bottom 20 % Deviation\": 5.669593237822582}, {\"date\": \"2020-05-12T00:00:00+00:00\", \"Top 20 %\": 43.55304254532119, \"Bottom 20 %\": 37.46850594435479, \"Top 20 % Deviation\": 12.58677725587872, \"Bottom 20 % Deviation\": 6.502240654912282}, {\"date\": \"2020-05-13T00:00:00+00:00\", \"Top 20 %\": 43.26477964491107, \"Bottom 20 %\": 37.501674404607385, \"Top 20 % Deviation\": 12.298514355468605, \"Bottom 20 % Deviation\": 6.535409115164887}, {\"date\": \"2020-05-14T00:00:00+00:00\", \"Top 20 %\": 43.07102656299293, \"Bottom 20 %\": 37.05867405425319, \"Top 20 % Deviation\": 12.104761273550459, \"Bottom 20 % Deviation\": 6.09240876481069}, {\"date\": \"2020-05-15T00:00:00+00:00\", \"Top 20 %\": 42.364816252168474, \"Bottom 20 %\": 37.26777392481852, \"Top 20 % Deviation\": 11.39855096272601, \"Bottom 20 % Deviation\": 6.3015086353760195}, {\"date\": \"2020-05-16T00:00:00+00:00\", \"Top 20 %\": 41.89403824347301, \"Bottom 20 %\": 37.182228203833034, \"Top 20 % Deviation\": 10.927772954030546, \"Bottom 20 % Deviation\": 6.215962914390533}, {\"date\": \"2020-05-17T00:00:00+00:00\", \"Top 20 %\": 42.6907305567289, \"Bottom 20 %\": 37.66278792819651, \"Top 20 % Deviation\": 11.724465267286437, \"Bottom 20 % Deviation\": 6.6965226387540095}, {\"date\": \"2020-05-18T00:00:00+00:00\", \"Top 20 %\": 42.798143540855314, \"Bottom 20 %\": 37.890343038595354, \"Top 20 % Deviation\": 11.831878251412846, \"Bottom 20 % Deviation\": 6.924077749152856}, {\"date\": \"2020-05-19T00:00:00+00:00\", \"Top 20 %\": 43.3071304947414, \"Bottom 20 %\": 38.25509661768297, \"Top 20 % Deviation\": 12.340865205298932, \"Bottom 20 % Deviation\": 7.288831328240477}, {\"date\": \"2020-05-20T00:00:00+00:00\", \"Top 20 %\": 42.552305112011304, \"Bottom 20 %\": 37.97818900213146, \"Top 20 % Deviation\": 11.58603982256884, \"Bottom 20 % Deviation\": 7.011923712688967}, {\"date\": \"2020-05-21T00:00:00+00:00\", \"Top 20 %\": 41.93175815608396, \"Bottom 20 %\": 37.59212165284278, \"Top 20 % Deviation\": 10.965492866641494, \"Bottom 20 % Deviation\": 6.6258563634002865}, {\"date\": \"2020-05-22T00:00:00+00:00\", \"Top 20 %\": 41.301011384517714, \"Bottom 20 %\": 36.54721301082249, \"Top 20 % Deviation\": 10.33474609507525, \"Bottom 20 % Deviation\": 5.5809477213799905}, {\"date\": \"2020-05-23T00:00:00+00:00\", \"Top 20 %\": 41.03044573582133, \"Bottom 20 %\": 36.058726621011445, \"Top 20 % Deviation\": 10.064180446378867, \"Bottom 20 % Deviation\": 5.092461331568946}, {\"date\": \"2020-05-24T00:00:00+00:00\", \"Top 20 %\": 40.40383916009671, \"Bottom 20 %\": 36.11520140002782, \"Top 20 % Deviation\": 9.43757387065425, \"Bottom 20 % Deviation\": 5.14893611058532}, {\"date\": \"2020-05-25T00:00:00+00:00\", \"Top 20 %\": 40.547850311785865, \"Bottom 20 %\": 35.49891097341224, \"Top 20 % Deviation\": 9.581585022343408, \"Bottom 20 % Deviation\": 4.53264568396974}, {\"date\": \"2020-05-26T00:00:00+00:00\", \"Top 20 %\": 40.61170092167343, \"Bottom 20 %\": 35.406482414090554, \"Top 20 % Deviation\": 9.645435632230974, \"Bottom 20 % Deviation\": 4.440217124648056}, {\"date\": \"2020-05-27T00:00:00+00:00\", \"Top 20 %\": 39.235970879424706, \"Bottom 20 %\": 34.65759975845601, \"Top 20 % Deviation\": 8.269705589982246, \"Bottom 20 % Deviation\": 3.6913344690135093}, {\"date\": \"2020-05-28T00:00:00+00:00\", \"Top 20 %\": 38.790824856873016, \"Bottom 20 %\": 34.67993501341373, \"Top 20 % Deviation\": 7.824559567430555, \"Bottom 20 % Deviation\": 3.713669723971236}, {\"date\": \"2020-05-29T00:00:00+00:00\", \"Top 20 %\": 37.596364839706055, \"Bottom 20 %\": 34.04321104985212, \"Top 20 % Deviation\": 6.630099550263585, \"Bottom 20 % Deviation\": 3.07694576040962}, {\"date\": \"2020-05-30T00:00:00+00:00\", \"Top 20 %\": 36.913790040421276, \"Bottom 20 %\": 33.36522371775736, \"Top 20 % Deviation\": 5.947524750978808, \"Bottom 20 % Deviation\": 2.3989584283148613}, {\"date\": \"2020-05-31T00:00:00+00:00\", \"Top 20 %\": 36.964012325802784, \"Bottom 20 %\": 33.97642066782548, \"Top 20 % Deviation\": 5.997747036360312, \"Bottom 20 % Deviation\": 3.010155378382982}, {\"date\": \"2020-06-01T00:00:00+00:00\", \"Top 20 %\": 37.37837794233045, \"Bottom 20 %\": 34.555215884496434, \"Top 20 % Deviation\": 6.412112652887979, \"Bottom 20 % Deviation\": 3.58895059505393}, {\"date\": \"2020-06-02T00:00:00+00:00\", \"Top 20 %\": 37.180281164707644, \"Bottom 20 %\": 34.677542486513154, \"Top 20 % Deviation\": 6.214015875265169, \"Bottom 20 % Deviation\": 3.7112771970706504}, {\"date\": \"2020-06-03T00:00:00+00:00\", \"Top 20 %\": 36.93174684330429, \"Bottom 20 %\": 34.15067608420652, \"Top 20 % Deviation\": 5.9654815538618156, \"Bottom 20 % Deviation\": 3.184410794764023}, {\"date\": \"2020-06-04T00:00:00+00:00\", \"Top 20 %\": 36.27329452839606, \"Bottom 20 %\": 34.41059758282093, \"Top 20 % Deviation\": 5.307029238953584, \"Bottom 20 % Deviation\": 3.44433229337843}, {\"date\": \"2020-06-05T00:00:00+00:00\", \"Top 20 %\": 35.72803108988903, \"Bottom 20 %\": 33.968194859767145, \"Top 20 % Deviation\": 4.761765800446554, \"Bottom 20 % Deviation\": 3.0019295703246467}, {\"date\": \"2020-06-06T00:00:00+00:00\", \"Top 20 %\": 35.1334189128143, \"Bottom 20 %\": 33.8359789968824, \"Top 20 % Deviation\": 4.16715362337183, \"Bottom 20 % Deviation\": 2.8697137074399026}, {\"date\": \"2020-06-07T00:00:00+00:00\", \"Top 20 %\": 34.80764698005209, \"Bottom 20 %\": 33.57940536852147, \"Top 20 % Deviation\": 3.841381690609623, \"Bottom 20 % Deviation\": 2.613140079078968}, {\"date\": \"2020-06-08T00:00:00+00:00\", \"Top 20 %\": 34.84659907388656, \"Bottom 20 %\": 32.962673210262345, \"Top 20 % Deviation\": 3.880333784444093, \"Bottom 20 % Deviation\": 1.996407920819842}, {\"date\": \"2020-06-09T00:00:00+00:00\", \"Top 20 %\": 35.27666809958822, \"Bottom 20 %\": 33.7733787560107, \"Top 20 % Deviation\": 4.31040281014576, \"Bottom 20 % Deviation\": 2.8071134665682003}, {\"date\": \"2020-06-10T00:00:00+00:00\", \"Top 20 %\": 35.07958070432221, \"Bottom 20 %\": 32.95981618031955, \"Top 20 % Deviation\": 4.113315414879752, \"Bottom 20 % Deviation\": 1.9935508908770418}, {\"date\": \"2020-06-11T00:00:00+00:00\", \"Top 20 %\": 34.452236526600224, \"Bottom 20 %\": 32.5426553215146, \"Top 20 % Deviation\": 3.4859712371577616, \"Bottom 20 % Deviation\": 1.5763900320720967}, {\"date\": \"2020-06-12T00:00:00+00:00\", \"Top 20 %\": 34.113716382798884, \"Bottom 20 %\": 32.77563620050829, \"Top 20 % Deviation\": 3.1474510933564277, \"Bottom 20 % Deviation\": 1.809370911065781}, {\"date\": \"2020-06-13T00:00:00+00:00\", \"Top 20 %\": 33.637805970367374, \"Bottom 20 %\": 32.47399408212729, \"Top 20 % Deviation\": 2.671540680924918, \"Bottom 20 % Deviation\": 1.5077287926847824}, {\"date\": \"2020-06-14T00:00:00+00:00\", \"Top 20 %\": 33.71815767891957, \"Bottom 20 %\": 32.44017383596211, \"Top 20 % Deviation\": 2.7518923894771112, \"Bottom 20 % Deviation\": 1.473908546519605}, {\"date\": \"2020-06-15T00:00:00+00:00\", \"Top 20 %\": 33.90703070254828, \"Bottom 20 %\": 32.61818127759921, \"Top 20 % Deviation\": 2.9407654131058294, \"Bottom 20 % Deviation\": 1.6519159881566992}, {\"date\": \"2020-06-16T00:00:00+00:00\", \"Top 20 %\": 34.32943059161005, \"Bottom 20 %\": 32.55949835203532, \"Top 20 % Deviation\": 3.3631653021675887, \"Bottom 20 % Deviation\": 1.5932330625928088}, {\"date\": \"2020-06-17T00:00:00+00:00\", \"Top 20 %\": 34.02462368733631, \"Bottom 20 %\": 32.171754835362165, \"Top 20 % Deviation\": 3.058358397893846, \"Bottom 20 % Deviation\": 1.2054895459196566}, {\"date\": \"2020-06-18T00:00:00+00:00\", \"Top 20 %\": 33.98121479373377, \"Bottom 20 %\": 32.1409879794751, \"Top 20 % Deviation\": 3.0149495042913013, \"Bottom 20 % Deviation\": 1.1747226900325916}, {\"date\": \"2020-06-19T00:00:00+00:00\", \"Top 20 %\": 33.476004571083955, \"Bottom 20 %\": 31.97754903527683, \"Top 20 % Deviation\": 2.5097392816414903, \"Bottom 20 % Deviation\": 1.011283745834317}, {\"date\": \"2020-06-20T00:00:00+00:00\", \"Top 20 %\": 33.09332179762766, \"Bottom 20 %\": 31.787437265908956, \"Top 20 % Deviation\": 2.127056508185189, \"Bottom 20 % Deviation\": 0.8211719764664422}, {\"date\": \"2020-06-21T00:00:00+00:00\", \"Top 20 %\": 33.25950214522603, \"Bottom 20 %\": 31.01573909769063, \"Top 20 % Deviation\": 2.293236855783565, \"Bottom 20 % Deviation\": 0.049473808248120574}, {\"date\": \"2020-06-22T00:00:00+00:00\", \"Top 20 %\": 33.434031240261085, \"Bottom 20 %\": 30.35260482293952, \"Top 20 % Deviation\": 2.4677659508186167, \"Bottom 20 % Deviation\": -0.6136604665029928}, {\"date\": \"2020-06-23T00:00:00+00:00\", \"Top 20 %\": 33.6346989771128, \"Bottom 20 %\": 30.1438255981193, \"Top 20 % Deviation\": 2.668433687670335, \"Bottom 20 % Deviation\": -0.8224396913232159}, {\"date\": \"2020-06-24T00:00:00+00:00\", \"Top 20 %\": 33.348741864129074, \"Bottom 20 %\": 29.99585960502467, \"Top 20 % Deviation\": 2.3824765746866072, \"Bottom 20 % Deviation\": -0.9704056844178446}, {\"date\": \"2020-06-25T00:00:00+00:00\", \"Top 20 %\": 32.869361421826106, \"Bottom 20 %\": 29.451410602635452, \"Top 20 % Deviation\": 1.9030961323836373, \"Bottom 20 % Deviation\": -1.5148546868070614}, {\"date\": \"2020-06-26T00:00:00+00:00\", \"Top 20 %\": 32.67562397219953, \"Bottom 20 %\": 29.640440301309276, \"Top 20 % Deviation\": 1.709358682757061, \"Bottom 20 % Deviation\": -1.32582498813324}, {\"date\": \"2020-06-27T00:00:00+00:00\", \"Top 20 %\": 32.508466430840244, \"Bottom 20 %\": 29.442923234732575, \"Top 20 % Deviation\": 1.5422011413977796, \"Bottom 20 % Deviation\": -1.523342054709941}, {\"date\": \"2020-06-28T00:00:00+00:00\", \"Top 20 %\": 32.45710232084323, \"Bottom 20 %\": 29.47372608093974, \"Top 20 % Deviation\": 1.4908370314007637, \"Bottom 20 % Deviation\": -1.492539208502773}, {\"date\": \"2020-06-29T00:00:00+00:00\", \"Top 20 %\": 32.57984524209833, \"Bottom 20 %\": 28.83489780778374, \"Top 20 % Deviation\": 1.613579952655862, \"Bottom 20 % Deviation\": -2.1313674816587787}, {\"date\": \"2020-06-30T00:00:00+00:00\", \"Top 20 %\": 32.46192136339995, \"Bottom 20 %\": 29.688470783902044, \"Top 20 % Deviation\": 1.4956560739574918, \"Bottom 20 % Deviation\": -1.277794505540476}, {\"date\": \"2020-07-01T00:00:00+00:00\", \"Top 20 %\": 32.08128670492305, \"Bottom 20 %\": 30.393543045788693, \"Top 20 % Deviation\": 1.1150214154805904, \"Bottom 20 % Deviation\": -0.5727222436538273}, {\"date\": \"2020-07-02T00:00:00+00:00\", \"Top 20 %\": 31.407638294349187, \"Bottom 20 %\": 30.539104163251984, \"Top 20 % Deviation\": 0.44137300490672116, \"Bottom 20 % Deviation\": -0.42716112619053775}, {\"date\": \"2020-07-03T00:00:00+00:00\", \"Top 20 %\": 31.056532272170195, \"Bottom 20 %\": 30.61402747352954, \"Top 20 % Deviation\": 0.09026698272772685, \"Bottom 20 % Deviation\": -0.3522378159129772}, {\"date\": \"2020-07-04T00:00:00+00:00\", \"Top 20 %\": 30.84928717944688, \"Bottom 20 %\": 29.927822354197417, \"Top 20 % Deviation\": -0.1169781099955884, \"Bottom 20 % Deviation\": -1.0384429352450997}, {\"date\": \"2020-07-05T00:00:00+00:00\", \"Top 20 %\": 31.31846202333378, \"Bottom 20 %\": 30.286812418522295, \"Top 20 % Deviation\": 0.35219673389131606, \"Bottom 20 % Deviation\": -0.6794528709202243}, {\"date\": \"2020-07-06T00:00:00+00:00\", \"Top 20 %\": 31.193250424304665, \"Bottom 20 %\": 29.703973613194144, \"Top 20 % Deviation\": 0.22698513486220015, \"Bottom 20 % Deviation\": -1.262291676248373}, {\"date\": \"2020-07-07T00:00:00+00:00\", \"Top 20 %\": 31.537135182958917, \"Bottom 20 %\": 29.190724777881833, \"Top 20 % Deviation\": 0.570869893516452, \"Bottom 20 % Deviation\": -1.7755405115606788}, {\"date\": \"2020-07-08T00:00:00+00:00\", \"Top 20 %\": 31.60128143122975, \"Bottom 20 %\": 28.370430788820688, \"Top 20 % Deviation\": 0.635016141787284, \"Bottom 20 % Deviation\": -2.5958345006218257}, {\"date\": \"2020-07-09T00:00:00+00:00\", \"Top 20 %\": 31.49832558631395, \"Bottom 20 %\": 27.976682891612803, \"Top 20 % Deviation\": 0.5320602968714805, \"Bottom 20 % Deviation\": -2.989582397829713}, {\"date\": \"2020-07-10T00:00:00+00:00\", \"Top 20 %\": 31.394716853574437, \"Bottom 20 %\": 27.200609096324644, \"Top 20 % Deviation\": 0.4284515641319661, \"Bottom 20 % Deviation\": -3.7656561931178714}, {\"date\": \"2020-07-11T00:00:00+00:00\", \"Top 20 %\": 31.234534479315396, \"Bottom 20 %\": 26.559318632868052, \"Top 20 % Deviation\": 0.26826918987292425, \"Bottom 20 % Deviation\": -4.406946656574465}, {\"date\": \"2020-07-12T00:00:00+00:00\", \"Top 20 %\": 31.727012453225075, \"Bottom 20 %\": 26.34952213799527, \"Top 20 % Deviation\": 0.7607471637826052, \"Bottom 20 % Deviation\": -4.616743151447248}, {\"date\": \"2020-07-13T00:00:00+00:00\", \"Top 20 %\": 31.986479795323042, \"Bottom 20 %\": 26.31694948201537, \"Top 20 % Deviation\": 1.0202145058805745, \"Bottom 20 % Deviation\": -4.649315807427146}, {\"date\": \"2020-07-14T00:00:00+00:00\", \"Top 20 %\": 32.14195065586548, \"Bottom 20 %\": 26.497685357157803, \"Top 20 % Deviation\": 1.1756853664230076, \"Bottom 20 % Deviation\": -4.468579932284714}, {\"date\": \"2020-07-15T00:00:00+00:00\", \"Top 20 %\": 32.053737157082146, \"Bottom 20 %\": 26.673576662212195, \"Top 20 % Deviation\": 1.0874718676396715, \"Bottom 20 % Deviation\": -4.292688627230325}, {\"date\": \"2020-07-16T00:00:00+00:00\", \"Top 20 %\": 31.920768059004775, \"Bottom 20 %\": 26.62589067348963, \"Top 20 % Deviation\": 0.9545027695623031, \"Bottom 20 % Deviation\": -4.340374615952894}, {\"date\": \"2020-07-17T00:00:00+00:00\", \"Top 20 %\": 31.362365078729447, \"Bottom 20 %\": 26.839870699797167, \"Top 20 % Deviation\": 0.3960997892869759, \"Bottom 20 % Deviation\": -4.126394589645363}, {\"date\": \"2020-07-18T00:00:00+00:00\", \"Top 20 %\": 31.24583946251596, \"Bottom 20 %\": 27.59115133160919, \"Top 20 % Deviation\": 0.27957417307348853, \"Bottom 20 % Deviation\": -3.3751139578333422}, {\"date\": \"2020-07-19T00:00:00+00:00\", \"Top 20 %\": 31.705823491004413, \"Bottom 20 %\": 28.466867492663074, \"Top 20 % Deviation\": 0.7395582015619404, \"Bottom 20 % Deviation\": -2.4993977967794585}, {\"date\": \"2020-07-20T00:00:00+00:00\", \"Top 20 %\": 31.884146403698004, \"Bottom 20 %\": 28.5912342437137, \"Top 20 % Deviation\": 0.9178811142555319, \"Bottom 20 % Deviation\": -2.375031045728832}, {\"date\": \"2020-07-21T00:00:00+00:00\", \"Top 20 %\": 32.07060784197249, \"Bottom 20 %\": 29.06744733211018, \"Top 20 % Deviation\": 1.1043425525300197, \"Bottom 20 % Deviation\": -1.8988179573323491}, {\"date\": \"2020-07-22T00:00:00+00:00\", \"Top 20 %\": 31.71657506145574, \"Bottom 20 %\": 29.40378638594863, \"Top 20 % Deviation\": 0.7503097720132665, \"Bottom 20 % Deviation\": -1.562478903493897}, {\"date\": \"2020-07-23T00:00:00+00:00\", \"Top 20 %\": 31.585731639725132, \"Bottom 20 %\": 29.604338705083165, \"Top 20 % Deviation\": 0.6194663502826575, \"Bottom 20 % Deviation\": -1.3619265843593618}, {\"date\": \"2020-07-24T00:00:00+00:00\", \"Top 20 %\": 31.23595141122781, \"Bottom 20 %\": 29.761455626749495, \"Top 20 % Deviation\": 0.26968612178533213, \"Bottom 20 % Deviation\": -1.2048096626930362}, {\"date\": \"2020-07-25T00:00:00+00:00\", \"Top 20 %\": 30.704449782079415, \"Bottom 20 %\": 29.187032732381056, \"Top 20 % Deviation\": -0.2618155073630618, \"Bottom 20 % Deviation\": -1.7792325570614718}, {\"date\": \"2020-07-26T00:00:00+00:00\", \"Top 20 %\": 31.06054235758678, \"Bottom 20 %\": 29.365107308234524, \"Top 20 % Deviation\": 0.09427706814430223, \"Bottom 20 % Deviation\": -1.6011579812080008}, {\"date\": \"2020-07-27T00:00:00+00:00\", \"Top 20 %\": 31.401548571574182, \"Bottom 20 %\": 29.35815454679452, \"Top 20 % Deviation\": 0.43528328213170403, \"Bottom 20 % Deviation\": -1.6081107426480057}, {\"date\": \"2020-07-28T00:00:00+00:00\", \"Top 20 %\": 31.2873695243748, \"Bottom 20 %\": 29.741261012246554, \"Top 20 % Deviation\": 0.3211042349323197, \"Bottom 20 % Deviation\": -1.2250042771959702}, {\"date\": \"2020-07-29T00:00:00+00:00\", \"Top 20 %\": 30.553594858253483, \"Bottom 20 %\": 29.56840563742499, \"Top 20 % Deviation\": -0.4126704311889949, \"Bottom 20 % Deviation\": -1.3978596520175384}, {\"date\": \"2020-07-30T00:00:00+00:00\", \"Top 20 %\": 30.16338640497806, \"Bottom 20 %\": 29.99364558529482, \"Top 20 % Deviation\": -0.8028788844644229, \"Bottom 20 % Deviation\": -0.9726197041477039}, {\"date\": \"2020-07-31T00:00:00+00:00\", \"Top 20 %\": 29.740956018356332, \"Bottom 20 %\": 29.253550769933035, \"Top 20 % Deviation\": -1.2253092710861502, \"Bottom 20 % Deviation\": -1.712714519509491}, {\"date\": \"2020-08-01T00:00:00+00:00\", \"Top 20 %\": 29.595218249093996, \"Bottom 20 %\": 29.28333424598726, \"Top 20 % Deviation\": -1.3710470403484858, \"Bottom 20 % Deviation\": -1.6829310434552682}, {\"date\": \"2020-08-02T00:00:00+00:00\", \"Top 20 %\": 29.7877037787137, \"Bottom 20 %\": 29.505128518454022, \"Top 20 % Deviation\": -1.178561510728779, \"Bottom 20 % Deviation\": -1.4611367709885044}, {\"date\": \"2020-08-03T00:00:00+00:00\", \"Top 20 %\": 30.12074407107618, \"Bottom 20 %\": 29.371097808119792, \"Top 20 % Deviation\": -0.8455212183662943, \"Bottom 20 % Deviation\": -1.5951674813227306}, {\"date\": \"2020-08-04T00:00:00+00:00\", \"Top 20 %\": 30.252464672778228, \"Bottom 20 %\": 29.911943668128572, \"Top 20 % Deviation\": -0.7138006166642473, \"Bottom 20 % Deviation\": -1.0543216213139526}, {\"date\": \"2020-08-05T00:00:00+00:00\", \"Top 20 %\": 29.742097356662953, \"Bottom 20 %\": 29.958273762836534, \"Top 20 % Deviation\": -1.224167932779523, \"Bottom 20 % Deviation\": -1.007991526605989}, {\"date\": \"2020-08-06T00:00:00+00:00\", \"Top 20 %\": 29.42429007650217, \"Bottom 20 %\": 30.389723025144168, \"Top 20 % Deviation\": -1.5419752129403057, \"Bottom 20 % Deviation\": -0.576542264298357}, {\"date\": \"2020-08-07T00:00:00+00:00\", \"Top 20 %\": 29.24882702091022, \"Bottom 20 %\": 29.613615047417063, \"Top 20 % Deviation\": -1.7174382685322567, \"Bottom 20 % Deviation\": -1.3526502420254622}, {\"date\": \"2020-08-08T00:00:00+00:00\", \"Top 20 %\": 29.093273146132436, \"Bottom 20 %\": 28.992870866024123, \"Top 20 % Deviation\": -1.8729921433100418, \"Bottom 20 % Deviation\": -1.9733944234184015}, {\"date\": \"2020-08-09T00:00:00+00:00\", \"Top 20 %\": 29.659439158903364, \"Bottom 20 %\": 28.257600352613498, \"Top 20 % Deviation\": -1.3068261305391122, \"Bottom 20 % Deviation\": -2.708664936829024}, {\"date\": \"2020-08-10T00:00:00+00:00\", \"Top 20 %\": 30.23141080036124, \"Bottom 20 %\": 28.965629077556507, \"Top 20 % Deviation\": -0.734854489081237, \"Bottom 20 % Deviation\": -2.000636211886011}, {\"date\": \"2020-08-11T00:00:00+00:00\", \"Top 20 %\": 30.217339424009026, \"Bottom 20 %\": 28.175371516537503, \"Top 20 % Deviation\": -0.7489258654334495, \"Bottom 20 % Deviation\": -2.790893772905016}, {\"date\": \"2020-08-12T00:00:00+00:00\", \"Top 20 %\": 29.803737920163492, \"Bottom 20 %\": 27.77565829238868, \"Top 20 % Deviation\": -1.1625273692789828, \"Bottom 20 % Deviation\": -3.19060699705384}, {\"date\": \"2020-08-13T00:00:00+00:00\", \"Top 20 %\": 29.477485898603923, \"Bottom 20 %\": 27.77614586883579, \"Top 20 % Deviation\": -1.4887793908385518, \"Bottom 20 % Deviation\": -3.1901194206067354}, {\"date\": \"2020-08-14T00:00:00+00:00\", \"Top 20 %\": 29.14569711702459, \"Bottom 20 %\": 27.366095264994886, \"Top 20 % Deviation\": -1.8205681724178882, \"Bottom 20 % Deviation\": -3.600170024447644}, {\"date\": \"2020-08-15T00:00:00+00:00\", \"Top 20 %\": 28.934983798183985, \"Bottom 20 %\": 26.83914561329462, \"Top 20 % Deviation\": -2.0312814912584907, \"Bottom 20 % Deviation\": -4.127119676147911}, {\"date\": \"2020-08-16T00:00:00+00:00\", \"Top 20 %\": 29.170644171238507, \"Bottom 20 %\": 26.430011286686273, \"Top 20 % Deviation\": -1.7956211182039705, \"Bottom 20 % Deviation\": -4.536254002756257}, {\"date\": \"2020-08-17T00:00:00+00:00\", \"Top 20 %\": 29.417740868298274, \"Bottom 20 %\": 26.742939647133017, \"Top 20 % Deviation\": -1.548524421144205, \"Bottom 20 % Deviation\": -4.223325642309515}, {\"date\": \"2020-08-18T00:00:00+00:00\", \"Top 20 %\": 29.558581484530738, \"Bottom 20 %\": 26.710388622939625, \"Top 20 % Deviation\": -1.40768380491174, \"Bottom 20 % Deviation\": -4.255876666502904}, {\"date\": \"2020-08-19T00:00:00+00:00\", \"Top 20 %\": 29.051890134460983, \"Bottom 20 %\": 26.535879346060376, \"Top 20 % Deviation\": -1.9143751549814927, \"Bottom 20 % Deviation\": -4.4303859433821575}, {\"date\": \"2020-08-20T00:00:00+00:00\", \"Top 20 %\": 28.609520157937123, \"Bottom 20 %\": 26.342249752614606, \"Top 20 % Deviation\": -2.3567451315053525, \"Bottom 20 % Deviation\": -4.624015536827926}, {\"date\": \"2020-08-21T00:00:00+00:00\", \"Top 20 %\": 28.474160595889828, \"Bottom 20 %\": 26.987385389629917, \"Top 20 % Deviation\": -2.4921046935526503, \"Bottom 20 % Deviation\": -3.9788798998126182}, {\"date\": \"2020-08-22T00:00:00+00:00\", \"Top 20 %\": 28.31331248994578, \"Bottom 20 %\": 27.071561468096753, \"Top 20 % Deviation\": -2.6529527994966915, \"Bottom 20 % Deviation\": -3.89470382134578}, {\"date\": \"2020-08-23T00:00:00+00:00\", \"Top 20 %\": 28.844869984565605, \"Bottom 20 %\": 27.53000884548452, \"Top 20 % Deviation\": -2.121395304876866, \"Bottom 20 % Deviation\": -3.4362564439580128}, {\"date\": \"2020-08-24T00:00:00+00:00\", \"Top 20 %\": 29.222098800416365, \"Bottom 20 %\": 27.95747670860551, \"Top 20 % Deviation\": -1.744166489026107, \"Bottom 20 % Deviation\": -3.0087885808370247}, {\"date\": \"2020-08-25T00:00:00+00:00\", \"Top 20 %\": 29.617115520162105, \"Bottom 20 %\": 28.507780952942813, \"Top 20 % Deviation\": -1.3491497692803645, \"Bottom 20 % Deviation\": -2.4584843364997204}, {\"date\": \"2020-08-26T00:00:00+00:00\", \"Top 20 %\": 29.52183953930586, \"Bottom 20 %\": 28.989986386526375, \"Top 20 % Deviation\": -1.4444257501366107, \"Bottom 20 % Deviation\": -1.9762789029161578}, {\"date\": \"2020-08-27T00:00:00+00:00\", \"Top 20 %\": 29.38825980863722, \"Bottom 20 %\": 29.012985991270476, \"Top 20 % Deviation\": -1.578005480805248, \"Bottom 20 % Deviation\": -1.9532792981720504}, {\"date\": \"2020-08-28T00:00:00+00:00\", \"Top 20 %\": 29.30175064329929, \"Bottom 20 %\": 29.14196209680271, \"Top 20 % Deviation\": -1.6645146461431763, \"Bottom 20 % Deviation\": -1.8243031926398126}, {\"date\": \"2020-08-29T00:00:00+00:00\", \"Top 20 %\": 29.127599349060507, \"Bottom 20 %\": 29.43540569490209, \"Top 20 % Deviation\": -1.8386659403819583, \"Bottom 20 % Deviation\": -1.530859594540432}, {\"date\": \"2020-08-30T00:00:00+00:00\", \"Top 20 %\": 29.246003050987817, \"Bottom 20 %\": 29.925880796222778, \"Top 20 % Deviation\": -1.7202622384546509, \"Bottom 20 % Deviation\": -1.040384493219743}, {\"date\": \"2020-08-31T00:00:00+00:00\", \"Top 20 %\": 29.44343681265554, \"Bottom 20 %\": 30.05677935419456, \"Top 20 % Deviation\": -1.5228284767869233, \"Bottom 20 % Deviation\": -0.9094859352479571}, {\"date\": \"2020-09-01T00:00:00+00:00\", \"Top 20 %\": 29.938219710891804, \"Bottom 20 %\": 29.970759904148405, \"Top 20 % Deviation\": -1.028045578550661, \"Bottom 20 % Deviation\": -0.9955053852941113}, {\"date\": \"2020-09-02T00:00:00+00:00\", \"Top 20 %\": 29.451114690879383, \"Bottom 20 %\": 30.329481176365675, \"Top 20 % Deviation\": -1.5151505985630842, \"Bottom 20 % Deviation\": -0.6367841130768432}, {\"date\": \"2020-09-03T00:00:00+00:00\", \"Top 20 %\": 29.184661184427608, \"Bottom 20 %\": 30.373072634790912, \"Top 20 % Deviation\": -1.7816041050148592, \"Bottom 20 % Deviation\": -0.5931926546516074}, {\"date\": \"2020-09-04T00:00:00+00:00\", \"Top 20 %\": 28.476887781264907, \"Bottom 20 %\": 29.448697528371277, \"Top 20 % Deviation\": -2.4893775081775624, \"Bottom 20 % Deviation\": -1.5175677610712472}, {\"date\": \"2020-09-05T00:00:00+00:00\", \"Top 20 %\": 28.103237381376836, \"Bottom 20 %\": 29.163633601954608, \"Top 20 % Deviation\": -2.8630279080656327, \"Bottom 20 % Deviation\": -1.8026316874879131}, {\"date\": \"2020-09-06T00:00:00+00:00\", \"Top 20 %\": 28.228548656999426, \"Bottom 20 %\": 29.539694123549708, \"Top 20 % Deviation\": -2.737716632443045, \"Bottom 20 % Deviation\": -1.4265711658928137}, {\"date\": \"2020-09-07T00:00:00+00:00\", \"Top 20 %\": 28.728133040759797, \"Bottom 20 %\": 29.590709347256922, \"Top 20 % Deviation\": -2.2381322486826756, \"Bottom 20 % Deviation\": -1.3755559421856034}, {\"date\": \"2020-09-08T00:00:00+00:00\", \"Top 20 %\": 29.465277170808434, \"Bottom 20 %\": 29.959455059936165, \"Top 20 % Deviation\": -1.500988118634039, \"Bottom 20 % Deviation\": -1.006810229506361}, {\"date\": \"2020-09-09T00:00:00+00:00\", \"Top 20 %\": 29.559963944669068, \"Bottom 20 %\": 29.040802104511393, \"Top 20 % Deviation\": -1.4063013447734085, \"Bottom 20 % Deviation\": -1.925463184931137}, {\"date\": \"2020-09-10T00:00:00+00:00\", \"Top 20 %\": 29.7186368282838, \"Bottom 20 %\": 29.775999656820876, \"Top 20 % Deviation\": -1.2476284611586828, \"Bottom 20 % Deviation\": -1.1902656326216552}, {\"date\": \"2020-09-11T00:00:00+00:00\", \"Top 20 %\": 29.422762519296345, \"Bottom 20 %\": 30.38582159054501, \"Top 20 % Deviation\": -1.5435027701461383, \"Bottom 20 % Deviation\": -0.580443698897524}, {\"date\": \"2020-09-12T00:00:00+00:00\", \"Top 20 %\": 29.50640767047461, \"Bottom 20 %\": 30.067594580707784, \"Top 20 % Deviation\": -1.4598576189678714, \"Bottom 20 % Deviation\": -0.8986707087347512}, {\"date\": \"2020-09-13T00:00:00+00:00\", \"Top 20 %\": 29.90160257203569, \"Bottom 20 %\": 29.946277741928288, \"Top 20 % Deviation\": -1.0646627174067895, \"Bottom 20 % Deviation\": -1.0199875475142481}, {\"date\": \"2020-09-14T00:00:00+00:00\", \"Top 20 %\": 30.579793387079057, \"Bottom 20 %\": 30.644302071004052, \"Top 20 % Deviation\": -0.38647190236341655, \"Bottom 20 % Deviation\": -0.321963218438481}, {\"date\": \"2020-09-15T00:00:00+00:00\", \"Top 20 %\": 31.110814984766325, \"Bottom 20 %\": 31.64975357297717, \"Top 20 % Deviation\": 0.1445496953238507, \"Bottom 20 % Deviation\": 0.683488283534641}, {\"date\": \"2020-09-16T00:00:00+00:00\", \"Top 20 %\": 31.052469261795522, \"Bottom 20 %\": 32.03319738314124, \"Top 20 % Deviation\": 0.08620397235305113, \"Bottom 20 % Deviation\": 1.0669320936987094}, {\"date\": \"2020-09-17T00:00:00+00:00\", \"Top 20 %\": 30.8088837252247, \"Bottom 20 %\": 32.87608441104917, \"Top 20 % Deviation\": -0.15738156421777524, \"Bottom 20 % Deviation\": 1.9098191216066376}, {\"date\": \"2020-09-18T00:00:00+00:00\", \"Top 20 %\": 30.10979129664837, \"Bottom 20 %\": 32.457884649225015, \"Top 20 % Deviation\": -0.8564739927941041, \"Bottom 20 % Deviation\": 1.4916193597824816}, {\"date\": \"2020-09-19T00:00:00+00:00\", \"Top 20 %\": 29.711241993180455, \"Bottom 20 %\": 32.615944839623076, \"Top 20 % Deviation\": -1.255023296262019, \"Bottom 20 % Deviation\": 1.6496795501805424}, {\"date\": \"2020-09-20T00:00:00+00:00\", \"Top 20 %\": 29.861386715899407, \"Bottom 20 %\": 31.641744880943225, \"Top 20 % Deviation\": -1.104878573543063, \"Bottom 20 % Deviation\": 0.6754795915006955}, {\"date\": \"2020-09-21T00:00:00+00:00\", \"Top 20 %\": 30.328613879483225, \"Bottom 20 %\": 31.91243140240663, \"Top 20 % Deviation\": -0.6376514099592449, \"Bottom 20 % Deviation\": 0.9461661129640998}, {\"date\": \"2020-09-22T00:00:00+00:00\", \"Top 20 %\": 30.51062092465974, \"Bottom 20 %\": 31.882044868782163, \"Top 20 % Deviation\": -0.455644364782729, \"Bottom 20 % Deviation\": 0.9157795793396307}, {\"date\": \"2020-09-23T00:00:00+00:00\", \"Top 20 %\": 30.140877723865408, \"Bottom 20 %\": 32.282460596749, \"Top 20 % Deviation\": -0.8253875655770617, \"Bottom 20 % Deviation\": 1.3161953073064634}, {\"date\": \"2020-09-24T00:00:00+00:00\", \"Top 20 %\": 29.918029702957085, \"Bottom 20 %\": 32.598403953384, \"Top 20 % Deviation\": -1.048235586485384, \"Bottom 20 % Deviation\": 1.6321386639414723}, {\"date\": \"2020-09-25T00:00:00+00:00\", \"Top 20 %\": 29.437817096131177, \"Bottom 20 %\": 31.90662821537827, \"Top 20 % Deviation\": -1.5284481933112974, \"Bottom 20 % Deviation\": 0.940362925935737}, {\"date\": \"2020-09-26T00:00:00+00:00\", \"Top 20 %\": 28.948694099289348, \"Bottom 20 %\": 30.718363921605896, \"Top 20 % Deviation\": -2.0175711901531237, \"Bottom 20 % Deviation\": -0.2479013678366325}, {\"date\": \"2020-09-27T00:00:00+00:00\", \"Top 20 %\": 28.99008521615166, \"Bottom 20 %\": 30.195267592363308, \"Top 20 % Deviation\": -1.976180073290816, \"Bottom 20 % Deviation\": -0.7709976970792226}, {\"date\": \"2020-09-28T00:00:00+00:00\", \"Top 20 %\": 29.42098070311472, \"Bottom 20 %\": 30.804011415950242, \"Top 20 % Deviation\": -1.5452845863277545, \"Bottom 20 % Deviation\": -0.16225387349228698}, {\"date\": \"2020-09-29T00:00:00+00:00\", \"Top 20 %\": 29.73325838940798, \"Bottom 20 %\": 31.125750911537615, \"Top 20 % Deviation\": -1.2330069000344968, \"Bottom 20 % Deviation\": 0.1594856220950888}, {\"date\": \"2020-09-30T00:00:00+00:00\", \"Top 20 %\": 29.251725231157604, \"Bottom 20 %\": 30.91030695547452, \"Top 20 % Deviation\": -1.7145400582848684, \"Bottom 20 % Deviation\": -0.05595833396800707}, {\"date\": \"2020-10-01T00:00:00+00:00\", \"Top 20 %\": 28.67574754091762, \"Bottom 20 %\": 29.952535237113374, \"Top 20 % Deviation\": -2.2905177485248522, \"Bottom 20 % Deviation\": -1.0137300523291528}, {\"date\": \"2020-10-02T00:00:00+00:00\", \"Top 20 %\": 28.33945746575061, \"Bottom 20 %\": 29.363874740212232, \"Top 20 % Deviation\": -2.6268078236918653, \"Bottom 20 % Deviation\": -1.6023905492302972}, {\"date\": \"2020-10-03T00:00:00+00:00\", \"Top 20 %\": 28.410902246686646, \"Bottom 20 %\": 28.652864392044897, \"Top 20 % Deviation\": -2.5553630427558303, \"Bottom 20 % Deviation\": -2.3134008973976266}, {\"date\": \"2020-10-04T00:00:00+00:00\", \"Top 20 %\": 28.759746618323863, \"Bottom 20 %\": 27.722434344321734, \"Top 20 % Deviation\": -2.2065186711186127, \"Bottom 20 % Deviation\": -3.2438309451207936}, {\"date\": \"2020-10-05T00:00:00+00:00\", \"Top 20 %\": 29.274604780315105, \"Bottom 20 %\": 27.103444146108366, \"Top 20 % Deviation\": -1.6916605091273706, \"Bottom 20 % Deviation\": -3.862821143334159}, {\"date\": \"2020-10-06T00:00:00+00:00\", \"Top 20 %\": 29.87946523353741, \"Bottom 20 %\": 27.288957130649614, \"Top 20 % Deviation\": -1.0868000559050646, \"Bottom 20 % Deviation\": -3.6773081587929126}, {\"date\": \"2020-10-07T00:00:00+00:00\", \"Top 20 %\": 29.687327519166104, \"Bottom 20 %\": 26.590152609383445, \"Top 20 % Deviation\": -1.2789377702763693, \"Bottom 20 % Deviation\": -4.3761126800590775}, {\"date\": \"2020-10-08T00:00:00+00:00\", \"Top 20 %\": 29.476074520578084, \"Bottom 20 %\": 25.97390746493224, \"Top 20 % Deviation\": -1.4901907688643903, \"Bottom 20 % Deviation\": -4.992357824510284}, {\"date\": \"2020-10-09T00:00:00+00:00\", \"Top 20 %\": 29.12430370426629, \"Bottom 20 %\": 25.06253134280091, \"Top 20 % Deviation\": -1.841961585176182, \"Bottom 20 % Deviation\": -5.903733946641614}, {\"date\": \"2020-10-10T00:00:00+00:00\", \"Top 20 %\": 29.08843124973945, \"Bottom 20 %\": 24.919949393775912, \"Top 20 % Deviation\": -1.8778340397030202, \"Bottom 20 % Deviation\": -6.046315895666612}, {\"date\": \"2020-10-11T00:00:00+00:00\", \"Top 20 %\": 29.438153383447958, \"Bottom 20 %\": 25.236752773051744, \"Top 20 % Deviation\": -1.5281119059945087, \"Bottom 20 % Deviation\": -5.729512516390779}, {\"date\": \"2020-10-12T00:00:00+00:00\", \"Top 20 %\": 29.945332519828746, \"Bottom 20 %\": 25.519506160848344, \"Top 20 % Deviation\": -1.020932769613721, \"Bottom 20 % Deviation\": -5.446759128594185}, {\"date\": \"2020-10-13T00:00:00+00:00\", \"Top 20 %\": 30.281197792090552, \"Bottom 20 %\": 26.345917077584545, \"Top 20 % Deviation\": -0.6850674973519173, \"Bottom 20 % Deviation\": -4.620348211857985}, {\"date\": \"2020-10-14T00:00:00+00:00\", \"Top 20 %\": 30.168886756023806, \"Bottom 20 %\": 26.81003149159677, \"Top 20 % Deviation\": -0.7973785334186626, \"Bottom 20 % Deviation\": -4.156233797845758}, {\"date\": \"2020-10-15T00:00:00+00:00\", \"Top 20 %\": 29.92014770850314, \"Bottom 20 %\": 26.573312149566476, \"Top 20 % Deviation\": -1.046117580939328, \"Bottom 20 % Deviation\": -4.392953139876051}, {\"date\": \"2020-10-16T00:00:00+00:00\", \"Top 20 %\": 29.66445767946994, \"Bottom 20 %\": 26.63248737842548, \"Top 20 % Deviation\": -1.3018076099725306, \"Bottom 20 % Deviation\": -4.333777911017046}, {\"date\": \"2020-10-17T00:00:00+00:00\", \"Top 20 %\": 29.598429523581206, \"Bottom 20 %\": 27.02876069941159, \"Top 20 % Deviation\": -1.3678357658612637, \"Bottom 20 % Deviation\": -3.937504590030941}, {\"date\": \"2020-10-18T00:00:00+00:00\", \"Top 20 %\": 30.28313796096806, \"Bottom 20 %\": 27.292601413552536, \"Top 20 % Deviation\": -0.6831273284744089, \"Bottom 20 % Deviation\": -3.673663875889993}, {\"date\": \"2020-10-19T00:00:00+00:00\", \"Top 20 %\": 31.035729708934053, \"Bottom 20 %\": 27.66861252024904, \"Top 20 % Deviation\": 0.069464419491581, \"Bottom 20 % Deviation\": -3.2976527691934843}, {\"date\": \"2020-10-20T00:00:00+00:00\", \"Top 20 %\": 31.565287424076143, \"Bottom 20 %\": 28.587075510185525, \"Top 20 % Deviation\": 0.5990221346336714, \"Bottom 20 % Deviation\": -2.379189779257003}, {\"date\": \"2020-10-21T00:00:00+00:00\", \"Top 20 %\": 31.684054318186913, \"Bottom 20 %\": 28.853389074841214, \"Top 20 % Deviation\": 0.7177890287444402, \"Bottom 20 % Deviation\": -2.1128762146013136}, {\"date\": \"2020-10-22T00:00:00+00:00\", \"Top 20 %\": 31.47118520072987, \"Bottom 20 %\": 28.796410522269092, \"Top 20 % Deviation\": 0.5049199112873953, \"Bottom 20 % Deviation\": -2.1698547671734407}, {\"date\": \"2020-10-23T00:00:00+00:00\", \"Top 20 %\": 31.294598165454424, \"Bottom 20 %\": 28.385003050763498, \"Top 20 % Deviation\": 0.3283328760119524, \"Bottom 20 % Deviation\": -2.581262238679037}, {\"date\": \"2020-10-24T00:00:00+00:00\", \"Top 20 %\": 31.185574529308894, \"Bottom 20 %\": 28.092507907975538, \"Top 20 % Deviation\": 0.21930923986641737, \"Bottom 20 % Deviation\": -2.873757381466997}, {\"date\": \"2020-10-25T00:00:00+00:00\", \"Top 20 %\": 31.751725767165027, \"Bottom 20 %\": 29.42918925935852, \"Top 20 % Deviation\": 0.7854604777225507, \"Bottom 20 % Deviation\": -1.5370760300840183}, {\"date\": \"2020-10-26T00:00:00+00:00\", \"Top 20 %\": 32.33946896569033, \"Bottom 20 %\": 29.619678984042984, \"Top 20 % Deviation\": 1.373203676247853, \"Bottom 20 % Deviation\": -1.3465863053995544}, {\"date\": \"2020-10-27T00:00:00+00:00\", \"Top 20 %\": 32.6816184907513, \"Bottom 20 %\": 29.928004773977655, \"Top 20 % Deviation\": 1.7153532013088264, \"Bottom 20 % Deviation\": -1.0382605154648865}, {\"date\": \"2020-10-28T00:00:00+00:00\", \"Top 20 %\": 32.115250659324445, \"Bottom 20 %\": 29.970070919289263, \"Top 20 % Deviation\": 1.1489853698819683, \"Bottom 20 % Deviation\": -0.9961943701532767}, {\"date\": \"2020-10-29T00:00:00+00:00\", \"Top 20 %\": 31.91099587676632, \"Bottom 20 %\": 31.1313325882657, \"Top 20 % Deviation\": 0.9447305873238481, \"Bottom 20 % Deviation\": 0.16506729882316087}, {\"date\": \"2020-10-30T00:00:00+00:00\", \"Top 20 %\": 31.474644799926363, \"Bottom 20 %\": 30.388013992812507, \"Top 20 % Deviation\": 0.5083795104838942, \"Bottom 20 % Deviation\": -0.5782512966300359}, {\"date\": \"2020-10-31T00:00:00+00:00\", \"Top 20 %\": 31.043486838957865, \"Bottom 20 %\": 29.879011837877037, \"Top 20 % Deviation\": 0.07722154951539473, \"Bottom 20 % Deviation\": -1.0872534515655026}, {\"date\": \"2020-11-01T00:00:00+00:00\", \"Top 20 %\": 31.7276449245815, \"Bottom 20 %\": 31.03801167476441, \"Top 20 % Deviation\": 0.7613796351390316, \"Bottom 20 % Deviation\": 0.07174638532186783}, {\"date\": \"2020-11-02T00:00:00+00:00\", \"Top 20 %\": 32.08661650373573, \"Bottom 20 %\": 31.578913545834517, \"Top 20 % Deviation\": 1.120351214293264, \"Bottom 20 % Deviation\": 0.6126482563919818}, {\"date\": \"2020-11-03T00:00:00+00:00\", \"Top 20 %\": 32.164085245660736, \"Bottom 20 %\": 31.689621024024696, \"Top 20 % Deviation\": 1.1978199562182688, \"Bottom 20 % Deviation\": 0.7233557345821598}, {\"date\": \"2020-11-04T00:00:00+00:00\", \"Top 20 %\": 31.663213294847942, \"Bottom 20 %\": 31.126285504540398, \"Top 20 % Deviation\": 0.6969480054054727, \"Bottom 20 % Deviation\": 0.1600202150978621}, {\"date\": \"2020-11-05T00:00:00+00:00\", \"Top 20 %\": 31.245148093408893, \"Bottom 20 %\": 31.906329122248472, \"Top 20 % Deviation\": 0.2788828039664228, \"Bottom 20 % Deviation\": 0.9400638328059422}, {\"date\": \"2020-11-06T00:00:00+00:00\", \"Top 20 %\": 30.94499428699775, \"Bottom 20 %\": 32.434305323199716, \"Top 20 % Deviation\": -0.021271002444716202, \"Bottom 20 % Deviation\": 1.4680400337571844}, {\"date\": \"2020-11-07T00:00:00+00:00\", \"Top 20 %\": 30.550120268932755, \"Bottom 20 %\": 32.16526631430476, \"Top 20 % Deviation\": -0.4161450205097143, \"Bottom 20 % Deviation\": 1.199001024862233}, {\"date\": \"2020-11-08T00:00:00+00:00\", \"Top 20 %\": 30.690313673452994, \"Bottom 20 %\": 31.76506613444635, \"Top 20 % Deviation\": -0.27595161598947476, \"Bottom 20 % Deviation\": 0.7988008450038169}, {\"date\": \"2020-11-09T00:00:00+00:00\", \"Top 20 %\": 31.02957474096649, \"Bottom 20 %\": 32.0713026539359, \"Top 20 % Deviation\": 0.06330945152401987, \"Bottom 20 % Deviation\": 1.1050373644933713}, {\"date\": \"2020-11-10T00:00:00+00:00\", \"Top 20 %\": 31.804719328560974, \"Bottom 20 %\": 32.82067077312128, \"Top 20 % Deviation\": 0.8384540391185059, \"Bottom 20 % Deviation\": 1.8544054836787454}, {\"date\": \"2020-11-11T00:00:00+00:00\", \"Top 20 %\": 31.218456917829695, \"Bottom 20 %\": 33.03102686978345, \"Top 20 % Deviation\": 0.25219162838722725, \"Bottom 20 % Deviation\": 2.0647615803409267}, {\"date\": \"2020-11-12T00:00:00+00:00\", \"Top 20 %\": 30.974714382629013, \"Bottom 20 %\": 32.817596240830255, \"Top 20 % Deviation\": 0.008449093186544233, \"Bottom 20 % Deviation\": 1.851330951387728}, {\"date\": \"2020-11-13T00:00:00+00:00\", \"Top 20 %\": 30.93624534699932, \"Bottom 20 %\": 33.69966687024947, \"Top 20 % Deviation\": -0.03001994244314652, \"Bottom 20 % Deviation\": 2.7334015808069436}, {\"date\": \"2020-11-14T00:00:00+00:00\", \"Top 20 %\": 31.090486519525605, \"Bottom 20 %\": 34.20965786613259, \"Top 20 % Deviation\": 0.12422123008313476, \"Bottom 20 % Deviation\": 3.24339257669006}, {\"date\": \"2020-11-15T00:00:00+00:00\", \"Top 20 %\": 31.90670580931042, \"Bottom 20 %\": 34.45223413044799, \"Top 20 % Deviation\": 0.9404405198679552, \"Bottom 20 % Deviation\": 3.4859688410054543}, {\"date\": \"2020-11-16T00:00:00+00:00\", \"Top 20 %\": 32.440006754342335, \"Bottom 20 %\": 34.39060301713056, \"Top 20 % Deviation\": 1.4737414648998672, \"Bottom 20 % Deviation\": 3.424337727688021}, {\"date\": \"2020-11-17T00:00:00+00:00\", \"Top 20 %\": 32.99050238610202, \"Bottom 20 %\": 34.47848034743183, \"Top 20 % Deviation\": 2.024237096659555, \"Bottom 20 % Deviation\": 3.5122150579892875}, {\"date\": \"2020-11-18T00:00:00+00:00\", \"Top 20 %\": 33.011306002283334, \"Bottom 20 %\": 35.09248451958588, \"Top 20 % Deviation\": 2.0450407128408696, \"Bottom 20 % Deviation\": 4.126219230143337}, {\"date\": \"2020-11-19T00:00:00+00:00\", \"Top 20 %\": 32.95649643989394, \"Bottom 20 %\": 35.53314572362703, \"Top 20 % Deviation\": 1.9902311504514738, \"Bottom 20 % Deviation\": 4.566880434184485}, {\"date\": \"2020-11-20T00:00:00+00:00\", \"Top 20 %\": 32.488199078288986, \"Bottom 20 %\": 35.42870065034807, \"Top 20 % Deviation\": 1.5219337888465219, \"Bottom 20 % Deviation\": 4.462435360905525}, {\"date\": \"2020-11-21T00:00:00+00:00\", \"Top 20 %\": 32.39398685854107, \"Bottom 20 %\": 33.79311894322974, \"Top 20 % Deviation\": 1.4277215690986071, \"Bottom 20 % Deviation\": 2.826853653787196}, {\"date\": \"2020-11-22T00:00:00+00:00\", \"Top 20 %\": 32.877912076183776, \"Bottom 20 %\": 33.39623734303817, \"Top 20 % Deviation\": 1.9116467867413185, \"Bottom 20 % Deviation\": 2.429972053595624}, {\"date\": \"2020-11-23T00:00:00+00:00\", \"Top 20 %\": 33.304194079329974, \"Bottom 20 %\": 33.49943202378445, \"Top 20 % Deviation\": 2.3379287898875103, \"Bottom 20 % Deviation\": 2.5331667343419015}, {\"date\": \"2020-11-24T00:00:00+00:00\", \"Top 20 %\": 33.3788635193812, \"Bottom 20 %\": 33.02735108063665, \"Top 20 % Deviation\": 2.412598229938741, \"Bottom 20 % Deviation\": 2.061085791194105}, {\"date\": \"2020-11-25T00:00:00+00:00\", \"Top 20 %\": 32.879590664792524, \"Bottom 20 %\": 32.04690847459336, \"Top 20 % Deviation\": 1.913325375350059, \"Bottom 20 % Deviation\": 1.0806431851508127}, {\"date\": \"2020-11-26T00:00:00+00:00\", \"Top 20 %\": 33.49197086052299, \"Bottom 20 %\": 32.068813307434006, \"Top 20 % Deviation\": 2.5257055710805263, \"Bottom 20 % Deviation\": 1.1025480179914626}, {\"date\": \"2020-11-27T00:00:00+00:00\", \"Top 20 %\": 33.369795458552346, \"Bottom 20 %\": 31.852792023893763, \"Top 20 % Deviation\": 2.4035301691098825, \"Bottom 20 % Deviation\": 0.886526734451218}, {\"date\": \"2020-11-28T00:00:00+00:00\", \"Top 20 %\": 33.27448859548066, \"Bottom 20 %\": 31.245324645100244, \"Top 20 % Deviation\": 2.3082233060381983, \"Bottom 20 % Deviation\": 0.27905935565769724}, {\"date\": \"2020-11-29T00:00:00+00:00\", \"Top 20 %\": 33.813353701355794, \"Bottom 20 %\": 30.77094473264607, \"Top 20 % Deviation\": 2.8470884119133295, \"Bottom 20 % Deviation\": -0.1953205567964801}, {\"date\": \"2020-11-30T00:00:00+00:00\", \"Top 20 %\": 34.42009504401132, \"Bottom 20 %\": 30.936180503112052, \"Top 20 % Deviation\": 3.45382975456886, \"Bottom 20 % Deviation\": -0.030084786330498048}, {\"date\": \"2020-12-01T00:00:00+00:00\", \"Top 20 %\": 34.84137099979485, \"Bottom 20 %\": 32.16264364204145, \"Top 20 % Deviation\": 3.8751057103523907, \"Bottom 20 % Deviation\": 1.1963783525989018}, {\"date\": \"2020-12-02T00:00:00+00:00\", \"Top 20 %\": 34.70503280530571, \"Bottom 20 %\": 32.76825894282148, \"Top 20 % Deviation\": 3.738767515863253, \"Bottom 20 % Deviation\": 1.8019936533789358}, {\"date\": \"2020-12-03T00:00:00+00:00\", \"Top 20 %\": 34.54651983028631, \"Bottom 20 %\": 32.674399399582306, \"Top 20 % Deviation\": 3.5802545408438546, \"Bottom 20 % Deviation\": 1.7081341101397594}, {\"date\": \"2020-12-04T00:00:00+00:00\", \"Top 20 %\": 34.39666665504971, \"Bottom 20 %\": 33.00159503028344, \"Top 20 % Deviation\": 3.4304013656072514, \"Bottom 20 % Deviation\": 2.0353297408408992}, {\"date\": \"2020-12-05T00:00:00+00:00\", \"Top 20 %\": 34.232082000273344, \"Bottom 20 %\": 32.882180964166494, \"Top 20 % Deviation\": 3.26581671083089, \"Bottom 20 % Deviation\": 1.9159156747239525}, {\"date\": \"2020-12-06T00:00:00+00:00\", \"Top 20 %\": 33.92592509734307, \"Bottom 20 %\": 32.60994458861994, \"Top 20 % Deviation\": 2.9596598079006187, \"Bottom 20 % Deviation\": 1.6436792991773903}, {\"date\": \"2020-12-07T00:00:00+00:00\", \"Top 20 %\": 34.317575698255965, \"Bottom 20 %\": 33.09506685859931, \"Top 20 % Deviation\": 3.351310408813511, \"Bottom 20 % Deviation\": 2.128801569156763}, {\"date\": \"2020-12-08T00:00:00+00:00\", \"Top 20 %\": 34.48972883124192, \"Bottom 20 %\": 33.465674112797295, \"Top 20 % Deviation\": 3.5234635417994724, \"Bottom 20 % Deviation\": 2.4994088233547513}, {\"date\": \"2020-12-09T00:00:00+00:00\", \"Top 20 %\": 34.19286975345018, \"Bottom 20 %\": 32.89457579510794, \"Top 20 % Deviation\": 3.226604464007731, \"Bottom 20 % Deviation\": 1.9283105056654009}, {\"date\": \"2020-12-10T00:00:00+00:00\", \"Top 20 %\": 33.68094512494112, \"Bottom 20 %\": 31.462252609711847, \"Top 20 % Deviation\": 2.714679835498667, \"Bottom 20 % Deviation\": 0.4959873202693039}, {\"date\": \"2020-12-11T00:00:00+00:00\", \"Top 20 %\": 33.37204145209982, \"Bottom 20 %\": 30.944773895293185, \"Top 20 % Deviation\": 2.4057761626573755, \"Bottom 20 % Deviation\": -0.021491394149359168}, {\"date\": \"2020-12-12T00:00:00+00:00\", \"Top 20 %\": 33.178841670661186, \"Bottom 20 %\": 30.450028093311225, \"Top 20 % Deviation\": 2.212576381218739, \"Bottom 20 % Deviation\": -0.5162371961313191}, {\"date\": \"2020-12-13T00:00:00+00:00\", \"Top 20 %\": 33.52331157181153, \"Bottom 20 %\": 31.165389373798558, \"Top 20 % Deviation\": 2.5570462823690763, \"Bottom 20 % Deviation\": 0.19912408435601137}, {\"date\": \"2020-12-14T00:00:00+00:00\", \"Top 20 %\": 33.96701962986996, \"Bottom 20 %\": 31.17552440601505, \"Top 20 % Deviation\": 3.0007543404275085, \"Bottom 20 % Deviation\": 0.20925911657250537}, {\"date\": \"2020-12-15T00:00:00+00:00\", \"Top 20 %\": 34.147612927616436, \"Bottom 20 %\": 31.701926815047113, \"Top 20 % Deviation\": 3.1813476381739836, \"Bottom 20 % Deviation\": 0.7356615256045685}, {\"date\": \"2020-12-16T00:00:00+00:00\", \"Top 20 %\": 33.70458458449543, \"Bottom 20 %\": 30.83368135683453, \"Top 20 % Deviation\": 2.7383192950529778, \"Bottom 20 % Deviation\": -0.13258393260801427}, {\"date\": \"2020-12-17T00:00:00+00:00\", \"Top 20 %\": 33.44263080358396, \"Bottom 20 %\": 31.162222487485632, \"Top 20 % Deviation\": 2.476365514141516, \"Bottom 20 % Deviation\": 0.19595719804309156}, {\"date\": \"2020-12-18T00:00:00+00:00\", \"Top 20 %\": 32.96436111002998, \"Bottom 20 %\": 30.42658648070929, \"Top 20 % Deviation\": 1.9980958205875325, \"Bottom 20 % Deviation\": -0.5396788087332517}, {\"date\": \"2020-12-19T00:00:00+00:00\", \"Top 20 %\": 32.657321917847604, \"Bottom 20 %\": 31.310045852160442, \"Top 20 % Deviation\": 1.6910566284051605, \"Bottom 20 % Deviation\": 0.34378056271790103}, {\"date\": \"2020-12-20T00:00:00+00:00\", \"Top 20 %\": 32.83585890773316, \"Bottom 20 %\": 32.03220955908669, \"Top 20 % Deviation\": 1.8695936182907118, \"Bottom 20 % Deviation\": 1.065944269644144}, {\"date\": \"2020-12-21T00:00:00+00:00\", \"Top 20 %\": 32.67204207877284, \"Bottom 20 %\": 31.84860384098119, \"Top 20 % Deviation\": 1.7057767893303926, \"Bottom 20 % Deviation\": 0.8823385515386487}, {\"date\": \"2020-12-22T00:00:00+00:00\", \"Top 20 %\": 32.2830852675217, \"Bottom 20 %\": 31.814114374411805, \"Top 20 % Deviation\": 1.3168199780792496, \"Bottom 20 % Deviation\": 0.8478490849692634}, {\"date\": \"2020-12-23T00:00:00+00:00\", \"Top 20 %\": 31.40531958851725, \"Bottom 20 %\": 30.698956898625926, \"Top 20 % Deviation\": 0.43905429907480453, \"Bottom 20 % Deviation\": -0.26730839081661484}, {\"date\": \"2020-12-24T00:00:00+00:00\", \"Top 20 %\": 30.861817659041435, \"Bottom 20 %\": 29.76069574398219, \"Top 20 % Deviation\": -0.10444763040101215, \"Bottom 20 % Deviation\": -1.2055695454603483}, {\"date\": \"2020-12-25T00:00:00+00:00\", \"Top 20 %\": 31.63252329535307, \"Bottom 20 %\": 30.30087822744965, \"Top 20 % Deviation\": 0.6662580059106208, \"Bottom 20 % Deviation\": -0.6653870619928849}, {\"date\": \"2020-12-26T00:00:00+00:00\", \"Top 20 %\": 31.720622992735834, \"Bottom 20 %\": 31.673814170961332, \"Top 20 % Deviation\": 0.7543577032933779, \"Bottom 20 % Deviation\": 0.7075488815187949}, {\"date\": \"2020-12-27T00:00:00+00:00\", \"Top 20 %\": 32.16845331398777, \"Bottom 20 %\": 32.19548650253766, \"Top 20 % Deviation\": 1.2021880245453136, \"Bottom 20 % Deviation\": 1.2292212130951259}, {\"date\": \"2020-12-28T00:00:00+00:00\", \"Top 20 %\": 32.5005466070072, \"Bottom 20 %\": 32.23127983295542, \"Top 20 % Deviation\": 1.5342813175647485, \"Bottom 20 % Deviation\": 1.2650145435128834}, {\"date\": \"2020-12-29T00:00:00+00:00\", \"Top 20 %\": 32.789484559460575, \"Bottom 20 %\": 31.5226508096101, \"Top 20 % Deviation\": 1.8232192700181251, \"Bottom 20 % Deviation\": 0.5563855201675626}, {\"date\": \"2020-12-30T00:00:00+00:00\", \"Top 20 %\": 32.6876373031148, \"Bottom 20 %\": 31.70212337277486, \"Top 20 % Deviation\": 1.7213720136723487, \"Bottom 20 % Deviation\": 0.7358580833323274}, {\"date\": \"2020-12-31T00:00:00+00:00\", \"Top 20 %\": 32.68019982533231, \"Bottom 20 %\": 31.400343329804873, \"Top 20 % Deviation\": 1.7139345358898557, \"Bottom 20 % Deviation\": 0.43407804036233627}]}}, {\"mode\": \"vega-lite\"});\n",
              "</script>"
            ]
          },
          "metadata": {
            "tags": []
          },
          "execution_count": 58
        },
        {
          "output_type": "stream",
          "text": [
            "time: 62.6 ms (started: 2021-04-22 01:31:47 +00:00)\n"
          ],
          "name": "stdout"
        }
      ]
    },
    {
      "cell_type": "code",
      "metadata": {
        "colab": {
          "base_uri": "https://localhost:8080/"
        },
        "id": "owhSJQqe7rVM",
        "outputId": "958c51ed-44f6-4d91-abfe-2360b279cafd"
      },
      "source": [
        "#Conversion of datetime format\n",
        "df['date'] = pd.to_datetime(df['date'],utc= True)\n"
      ],
      "execution_count": null,
      "outputs": [
        {
          "output_type": "stream",
          "text": [
            "time: 4.5 ms (started: 2021-04-22 01:28:38 +00:00)\n"
          ],
          "name": "stdout"
        }
      ]
    },
    {
      "cell_type": "markdown",
      "metadata": {
        "id": "yCVL0_NiBLU0"
      },
      "source": [
        "Filtering based on important dates\n",
        "\n",
        "**March 17, 2020:**\n",
        "Governor Pritzker announced statewide school closures beginning March 17 until March 30.\n",
        "\n",
        "\n",
        "\n",
        "\n",
        "\n",
        "\n",
        "\n",
        "\n",
        "\n",
        "\n"
      ]
    },
    {
      "cell_type": "code",
      "metadata": {
        "colab": {
          "base_uri": "https://localhost:8080/",
          "height": 385
        },
        "id": "gelkUE5NBJps",
        "outputId": "0417a6bd-bb24-4bd1-82c3-b692c1bfe405"
      },
      "source": [
        "start_date = '2020-3-12'\n",
        "end_date = '2020-4-3'\n",
        "df1 = apply_date_filter(df,start_date,end_date)\n",
        "chart = create_chart(df1)\n",
        "chart"
      ],
      "execution_count": null,
      "outputs": [
        {
          "output_type": "execute_result",
          "data": {
            "text/plain": [
              "alt.LayerChart(...)"
            ],
            "text/html": [
              "\n",
              "<div id=\"altair-viz-b2cabccb549b4be78c8d1cfe88c0a426\"></div>\n",
              "<script type=\"text/javascript\">\n",
              "  (function(spec, embedOpt){\n",
              "    let outputDiv = document.currentScript.previousElementSibling;\n",
              "    if (outputDiv.id !== \"altair-viz-b2cabccb549b4be78c8d1cfe88c0a426\") {\n",
              "      outputDiv = document.getElementById(\"altair-viz-b2cabccb549b4be78c8d1cfe88c0a426\");\n",
              "    }\n",
              "    const paths = {\n",
              "      \"vega\": \"https://cdn.jsdelivr.net/npm//vega@5?noext\",\n",
              "      \"vega-lib\": \"https://cdn.jsdelivr.net/npm//vega-lib?noext\",\n",
              "      \"vega-lite\": \"https://cdn.jsdelivr.net/npm//vega-lite@4.8.1?noext\",\n",
              "      \"vega-embed\": \"https://cdn.jsdelivr.net/npm//vega-embed@6?noext\",\n",
              "    };\n",
              "\n",
              "    function loadScript(lib) {\n",
              "      return new Promise(function(resolve, reject) {\n",
              "        var s = document.createElement('script');\n",
              "        s.src = paths[lib];\n",
              "        s.async = true;\n",
              "        s.onload = () => resolve(paths[lib]);\n",
              "        s.onerror = () => reject(`Error loading script: ${paths[lib]}`);\n",
              "        document.getElementsByTagName(\"head\")[0].appendChild(s);\n",
              "      });\n",
              "    }\n",
              "\n",
              "    function showError(err) {\n",
              "      outputDiv.innerHTML = `<div class=\"error\" style=\"color:red;\">${err}</div>`;\n",
              "      throw err;\n",
              "    }\n",
              "\n",
              "    function displayChart(vegaEmbed) {\n",
              "      vegaEmbed(outputDiv, spec, embedOpt)\n",
              "        .catch(err => showError(`Javascript Error: ${err.message}<br>This usually means there's a typo in your chart specification. See the javascript console for the full traceback.`));\n",
              "    }\n",
              "\n",
              "    if(typeof define === \"function\" && define.amd) {\n",
              "      requirejs.config({paths});\n",
              "      require([\"vega-embed\"], displayChart, err => showError(`Error loading script: ${err.message}`));\n",
              "    } else if (typeof vegaEmbed === \"function\") {\n",
              "      displayChart(vegaEmbed);\n",
              "    } else {\n",
              "      loadScript(\"vega\")\n",
              "        .then(() => loadScript(\"vega-lite\"))\n",
              "        .then(() => loadScript(\"vega-embed\"))\n",
              "        .catch(showError)\n",
              "        .then(() => displayChart(vegaEmbed));\n",
              "    }\n",
              "  })({\"config\": {\"view\": {\"continuousHeight\": 300, \"continuousWidth\": 400}, \"range\": {\"category\": {\"scheme\": [\"#FF4500\", \"#a0aab4\", \"#4E79A7\"]}}}, \"layer\": [{\"data\": {\"name\": \"data-5042ae2b3ff26373a808a58671c32eb0\"}, \"mark\": \"line\", \"encoding\": {\"color\": {\"type\": \"nominal\", \"field\": \"Poverty %\"}, \"x\": {\"type\": \"temporal\", \"field\": \"date\", \"title\": \"Date\"}, \"y\": {\"type\": \"quantitative\", \"field\": \"completely_home_value\", \"title\": \"Completely Home %\"}}, \"selection\": {\"selector001\": {\"type\": \"interval\", \"bind\": \"scales\", \"encodings\": [\"x\", \"y\"]}}, \"transform\": [{\"fold\": [\"Bottom 20 % Deviation\", \"Top 20 % Deviation\"], \"as\": [\"Poverty %\", \"completely_home_value\"]}], \"width\": 1000}, {\"data\": {\"name\": \"data-7f3a6b86ed460c4e648f2393735a11f6\"}, \"mark\": {\"type\": \"rule\", \"color\": \"#757575\", \"size\": 2, \"strokeDash\": [5, 3]}, \"encoding\": {\"size\": {\"value\": 2}, \"y\": {\"type\": \"quantitative\", \"field\": \"Mean 2019\"}}}, {\"data\": {\"name\": \"data-d764767e7dd3b10b2c76c1355ce10ef3\"}, \"mark\": {\"type\": \"text\", \"angle\": 0, \"text\": \"Mean 2019\"}, \"encoding\": {\"opacity\": {\"value\": 0.4}, \"y\": {\"type\": \"quantitative\", \"field\": \"y\"}}}], \"$schema\": \"https://vega.github.io/schema/vega-lite/v4.8.1.json\", \"datasets\": {\"data-5042ae2b3ff26373a808a58671c32eb0\": [{\"date\": \"2020-03-16T00:00:00+00:00\", \"Top 20 %\": 33.27839805015219, \"Bottom 20 %\": 33.97926378189536, \"Top 20 % Deviation\": 2.312132760709698, \"Bottom 20 % Deviation\": 3.012998492452869}, {\"date\": \"2020-03-26T00:00:00+00:00\", \"Top 20 %\": 46.092951817954926, \"Bottom 20 %\": 36.3534463248422, \"Top 20 % Deviation\": 15.126686528512433, \"Bottom 20 % Deviation\": 5.38718103539971}, {\"date\": \"2020-03-25T00:00:00+00:00\", \"Top 20 %\": 39.76869237667136, \"Bottom 20 %\": 30.915241818886244, \"Top 20 % Deviation\": 8.802427087228867, \"Bottom 20 % Deviation\": -0.051023470556248895}, {\"date\": \"2020-03-20T00:00:00+00:00\", \"Top 20 %\": 40.17101925298364, \"Bottom 20 %\": 38.48172660672661, \"Top 20 % Deviation\": 9.204753963541147, \"Bottom 20 % Deviation\": 7.515461317284117}, {\"date\": \"2020-03-24T00:00:00+00:00\", \"Top 20 %\": 45.082528420634716, \"Bottom 20 %\": 35.57189515469567, \"Top 20 % Deviation\": 14.116263131192223, \"Bottom 20 % Deviation\": 4.605629865253174}, {\"date\": \"2020-03-13T00:00:00+00:00\", \"Top 20 %\": 21.317777889600542, \"Bottom 20 %\": 26.68673247362201, \"Top 20 % Deviation\": -9.648487399841951, \"Bottom 20 % Deviation\": -4.279532815820485}, {\"date\": \"2020-03-27T00:00:00+00:00\", \"Top 20 %\": 45.809372415370035, \"Bottom 20 %\": 35.207325139600684, \"Top 20 % Deviation\": 14.843107125927542, \"Bottom 20 % Deviation\": 4.241059850158191}, {\"date\": \"2020-03-22T00:00:00+00:00\", \"Top 20 %\": 53.18656407538955, \"Bottom 20 %\": 46.93997196445353, \"Top 20 % Deviation\": 22.220298785947055, \"Bottom 20 % Deviation\": 15.973706675011034}, {\"date\": \"2020-03-28T00:00:00+00:00\", \"Top 20 %\": 49.075844835652155, \"Bottom 20 %\": 39.14515297235885, \"Top 20 % Deviation\": 18.109579546209662, \"Bottom 20 % Deviation\": 8.178887682916358}, {\"date\": \"2020-03-19T00:00:00+00:00\", \"Top 20 %\": 39.698430899056724, \"Bottom 20 %\": 37.095980710111135, \"Top 20 % Deviation\": 8.732165609614231, \"Bottom 20 % Deviation\": 6.129715420668642}, {\"date\": \"2020-04-01T00:00:00+00:00\", \"Top 20 %\": 47.20356770121856, \"Bottom 20 %\": 41.1746969409559, \"Top 20 % Deviation\": 16.237302411776067, \"Bottom 20 % Deviation\": 10.208431651513404}, {\"date\": \"2020-04-03T00:00:00+00:00\", \"Top 20 %\": 44.59006365359619, \"Bottom 20 %\": 40.88407078322888, \"Top 20 % Deviation\": 13.623798364153696, \"Bottom 20 % Deviation\": 9.917805493786386}, {\"date\": \"2020-03-29T00:00:00+00:00\", \"Top 20 %\": 51.93620682568488, \"Bottom 20 %\": 44.567090216159535, \"Top 20 % Deviation\": 20.969941536242384, \"Bottom 20 % Deviation\": 13.600824926717042}, {\"date\": \"2020-03-15T00:00:00+00:00\", \"Top 20 %\": 34.831319450438166, \"Bottom 20 %\": 36.003172518730906, \"Top 20 % Deviation\": 3.8650541609956726, \"Bottom 20 % Deviation\": 5.036907229288413}, {\"date\": \"2020-03-17T00:00:00+00:00\", \"Top 20 %\": 35.70612685356819, \"Bottom 20 %\": 36.27014843826321, \"Top 20 % Deviation\": 4.7398615641257, \"Bottom 20 % Deviation\": 5.30388314882072}, {\"date\": \"2020-04-02T00:00:00+00:00\", \"Top 20 %\": 46.31665393420197, \"Bottom 20 %\": 42.78592381853252, \"Top 20 % Deviation\": 15.35038864475948, \"Bottom 20 % Deviation\": 11.819658529090024}, {\"date\": \"2020-03-18T00:00:00+00:00\", \"Top 20 %\": 39.403243411350196, \"Bottom 20 %\": 34.97913424327943, \"Top 20 % Deviation\": 8.436978121907703, \"Bottom 20 % Deviation\": 4.012868953836939}, {\"date\": \"2020-03-31T00:00:00+00:00\", \"Top 20 %\": 46.67408170568932, \"Bottom 20 %\": 37.73466562305374, \"Top 20 % Deviation\": 15.707816416246825, \"Bottom 20 % Deviation\": 6.76840033361125}, {\"date\": \"2020-03-14T00:00:00+00:00\", \"Top 20 %\": 31.070578854623673, \"Bottom 20 %\": 28.900705916959787, \"Top 20 % Deviation\": 0.10431356518117951, \"Bottom 20 % Deviation\": -2.0655593724827064}, {\"date\": \"2020-03-23T00:00:00+00:00\", \"Top 20 %\": 45.15050921311267, \"Bottom 20 %\": 40.32914465035545, \"Top 20 % Deviation\": 14.184243923670177, \"Bottom 20 % Deviation\": 9.36287936091296}, {\"date\": \"2020-03-30T00:00:00+00:00\", \"Top 20 %\": 46.396452489229716, \"Bottom 20 %\": 37.39188854337895, \"Top 20 % Deviation\": 15.430187199787223, \"Bottom 20 % Deviation\": 6.425623253936454}, {\"date\": \"2020-03-21T00:00:00+00:00\", \"Top 20 %\": 47.538956509308036, \"Bottom 20 %\": 38.652753722960895, \"Top 20 % Deviation\": 16.572691219865543, \"Bottom 20 % Deviation\": 7.686488433518402}], \"data-7f3a6b86ed460c4e648f2393735a11f6\": [{\"Mean 2019\": 0}], \"data-d764767e7dd3b10b2c76c1355ce10ef3\": [{\"y\": 1}]}}, {\"mode\": \"vega-lite\"});\n",
              "</script>"
            ]
          },
          "metadata": {
            "tags": []
          },
          "execution_count": 59
        },
        {
          "output_type": "stream",
          "text": [
            "time: 56.7 ms (started: 2021-04-22 01:32:02 +00:00)\n"
          ],
          "name": "stdout"
        }
      ]
    },
    {
      "cell_type": "markdown",
      "metadata": {
        "id": "eY48F9-7gp2q"
      },
      "source": [
        "\n",
        "\n",
        "**April 20, 2020:**\n",
        "Illinois state topped 3,000 new cases in a day for the first time. \n",
        "\n",
        "\n",
        "\n",
        "\n",
        "\n",
        "\n",
        "\n"
      ]
    },
    {
      "cell_type": "code",
      "metadata": {
        "colab": {
          "base_uri": "https://localhost:8080/",
          "height": 385
        },
        "id": "_DhDPv1GfRhR",
        "outputId": "002f4eff-2b51-47b0-c386-6746bf2c5d74"
      },
      "source": [
        "start_date = '2020-4-14'\n",
        "end_date = '2020-5-1'\n",
        "df2 = apply_date_filter(df,start_date,end_date)\n",
        "chart = create_chart(df2)\n",
        "chart\n",
        "#df2"
      ],
      "execution_count": null,
      "outputs": [
        {
          "output_type": "execute_result",
          "data": {
            "text/plain": [
              "alt.LayerChart(...)"
            ],
            "text/html": [
              "\n",
              "<div id=\"altair-viz-d4f906bb1e6743b7bfa8a5d8f27b057b\"></div>\n",
              "<script type=\"text/javascript\">\n",
              "  (function(spec, embedOpt){\n",
              "    let outputDiv = document.currentScript.previousElementSibling;\n",
              "    if (outputDiv.id !== \"altair-viz-d4f906bb1e6743b7bfa8a5d8f27b057b\") {\n",
              "      outputDiv = document.getElementById(\"altair-viz-d4f906bb1e6743b7bfa8a5d8f27b057b\");\n",
              "    }\n",
              "    const paths = {\n",
              "      \"vega\": \"https://cdn.jsdelivr.net/npm//vega@5?noext\",\n",
              "      \"vega-lib\": \"https://cdn.jsdelivr.net/npm//vega-lib?noext\",\n",
              "      \"vega-lite\": \"https://cdn.jsdelivr.net/npm//vega-lite@4.8.1?noext\",\n",
              "      \"vega-embed\": \"https://cdn.jsdelivr.net/npm//vega-embed@6?noext\",\n",
              "    };\n",
              "\n",
              "    function loadScript(lib) {\n",
              "      return new Promise(function(resolve, reject) {\n",
              "        var s = document.createElement('script');\n",
              "        s.src = paths[lib];\n",
              "        s.async = true;\n",
              "        s.onload = () => resolve(paths[lib]);\n",
              "        s.onerror = () => reject(`Error loading script: ${paths[lib]}`);\n",
              "        document.getElementsByTagName(\"head\")[0].appendChild(s);\n",
              "      });\n",
              "    }\n",
              "\n",
              "    function showError(err) {\n",
              "      outputDiv.innerHTML = `<div class=\"error\" style=\"color:red;\">${err}</div>`;\n",
              "      throw err;\n",
              "    }\n",
              "\n",
              "    function displayChart(vegaEmbed) {\n",
              "      vegaEmbed(outputDiv, spec, embedOpt)\n",
              "        .catch(err => showError(`Javascript Error: ${err.message}<br>This usually means there's a typo in your chart specification. See the javascript console for the full traceback.`));\n",
              "    }\n",
              "\n",
              "    if(typeof define === \"function\" && define.amd) {\n",
              "      requirejs.config({paths});\n",
              "      require([\"vega-embed\"], displayChart, err => showError(`Error loading script: ${err.message}`));\n",
              "    } else if (typeof vegaEmbed === \"function\") {\n",
              "      displayChart(vegaEmbed);\n",
              "    } else {\n",
              "      loadScript(\"vega\")\n",
              "        .then(() => loadScript(\"vega-lite\"))\n",
              "        .then(() => loadScript(\"vega-embed\"))\n",
              "        .catch(showError)\n",
              "        .then(() => displayChart(vegaEmbed));\n",
              "    }\n",
              "  })({\"config\": {\"view\": {\"continuousHeight\": 300, \"continuousWidth\": 400}, \"range\": {\"category\": {\"scheme\": [\"#FF4500\", \"#a0aab4\", \"#4E79A7\"]}}}, \"layer\": [{\"data\": {\"name\": \"data-e57bd3e61053d1ef8d6ab9a8e7358737\"}, \"mark\": \"line\", \"encoding\": {\"color\": {\"type\": \"nominal\", \"field\": \"Poverty %\"}, \"x\": {\"type\": \"temporal\", \"field\": \"date\", \"title\": \"Date\"}, \"y\": {\"type\": \"quantitative\", \"field\": \"completely_home_value\", \"title\": \"Completely Home %\"}}, \"selection\": {\"selector002\": {\"type\": \"interval\", \"bind\": \"scales\", \"encodings\": [\"x\", \"y\"]}}, \"transform\": [{\"fold\": [\"Bottom 20 % Deviation\", \"Top 20 % Deviation\"], \"as\": [\"Poverty %\", \"completely_home_value\"]}], \"width\": 1000}, {\"data\": {\"name\": \"data-7f3a6b86ed460c4e648f2393735a11f6\"}, \"mark\": {\"type\": \"rule\", \"color\": \"#757575\", \"size\": 2, \"strokeDash\": [5, 3]}, \"encoding\": {\"size\": {\"value\": 2}, \"y\": {\"type\": \"quantitative\", \"field\": \"Mean 2019\"}}}, {\"data\": {\"name\": \"data-d764767e7dd3b10b2c76c1355ce10ef3\"}, \"mark\": {\"type\": \"text\", \"angle\": 0, \"text\": \"Mean 2019\"}, \"encoding\": {\"opacity\": {\"value\": 0.4}, \"y\": {\"type\": \"quantitative\", \"field\": \"y\"}}}], \"$schema\": \"https://vega.github.io/schema/vega-lite/v4.8.1.json\", \"datasets\": {\"data-e57bd3e61053d1ef8d6ab9a8e7358737\": [{\"date\": \"2020-04-20T00:00:00+00:00\", \"Top 20 %\": 45.136439900797996, \"Bottom 20 %\": 39.91438935782337, \"Top 20 % Deviation\": 14.170174611355502, \"Bottom 20 % Deviation\": 8.948124068380874}, {\"date\": \"2020-04-22T00:00:00+00:00\", \"Top 20 %\": 44.53997998962379, \"Bottom 20 %\": 43.48455987999213, \"Top 20 % Deviation\": 13.573714700181295, \"Bottom 20 % Deviation\": 12.51829459054964}, {\"date\": \"2020-04-19T00:00:00+00:00\", \"Top 20 %\": 47.120719083599695, \"Bottom 20 %\": 45.253247161092595, \"Top 20 % Deviation\": 16.154453794157202, \"Bottom 20 % Deviation\": 14.286981871650102}, {\"date\": \"2020-04-25T00:00:00+00:00\", \"Top 20 %\": 48.00531862203409, \"Bottom 20 %\": 42.54336566642467, \"Top 20 % Deviation\": 17.039053332591596, \"Bottom 20 % Deviation\": 11.577100376982177}, {\"date\": \"2020-04-23T00:00:00+00:00\", \"Top 20 %\": 44.32852660447604, \"Bottom 20 %\": 46.056743619264054, \"Top 20 % Deviation\": 13.362261315033546, \"Bottom 20 % Deviation\": 15.090478329821561}, {\"date\": \"2020-04-21T00:00:00+00:00\", \"Top 20 %\": 44.435605374285174, \"Bottom 20 %\": 46.1646966287757, \"Top 20 % Deviation\": 13.469340084842681, \"Bottom 20 % Deviation\": 15.198431339333208}, {\"date\": \"2020-04-30T00:00:00+00:00\", \"Top 20 %\": 41.76848029075475, \"Bottom 20 %\": 31.230531844056934, \"Top 20 % Deviation\": 10.802215001312259, \"Bottom 20 % Deviation\": 0.2642665546144407}, {\"date\": \"2020-04-17T00:00:00+00:00\", \"Top 20 %\": 47.56234021323451, \"Bottom 20 %\": 43.080410984080444, \"Top 20 % Deviation\": 16.59607492379202, \"Bottom 20 % Deviation\": 12.114145694637951}, {\"date\": \"2020-04-26T00:00:00+00:00\", \"Top 20 %\": 45.18122466327496, \"Bottom 20 %\": 40.82826628018672, \"Top 20 % Deviation\": 14.214959373832468, \"Bottom 20 % Deviation\": 9.862000990744225}, {\"date\": \"2020-04-27T00:00:00+00:00\", \"Top 20 %\": 44.66635640711352, \"Bottom 20 %\": 36.50833901748952, \"Top 20 % Deviation\": 13.700091117671025, \"Bottom 20 % Deviation\": 5.542073728047026}, {\"date\": \"2020-04-15T00:00:00+00:00\", \"Top 20 %\": 48.98562082496948, \"Bottom 20 %\": 49.63762486496194, \"Top 20 % Deviation\": 18.019355535526987, \"Bottom 20 % Deviation\": 18.67135957551945}, {\"date\": \"2020-04-18T00:00:00+00:00\", \"Top 20 %\": 45.070346385999294, \"Bottom 20 %\": 41.92338398477647, \"Top 20 % Deviation\": 14.1040810965568, \"Bottom 20 % Deviation\": 10.957118695333978}, {\"date\": \"2020-04-24T00:00:00+00:00\", \"Top 20 %\": 43.297042158948656, \"Bottom 20 %\": 43.97016178266178, \"Top 20 % Deviation\": 12.330776869506163, \"Bottom 20 % Deviation\": 13.00389649321929}, {\"date\": \"2020-04-29T00:00:00+00:00\", \"Top 20 %\": 46.57421415102845, \"Bottom 20 %\": 37.83227674921712, \"Top 20 % Deviation\": 15.607948861585957, \"Bottom 20 % Deviation\": 6.866011459774629}, {\"date\": \"2020-04-16T00:00:00+00:00\", \"Top 20 %\": 47.259693567126604, \"Bottom 20 %\": 46.748344046238834, \"Top 20 % Deviation\": 16.29342827768411, \"Bottom 20 % Deviation\": 15.782078756796341}, {\"date\": \"2020-04-28T00:00:00+00:00\", \"Top 20 %\": 43.863890673153925, \"Bottom 20 %\": 39.09673821263087, \"Top 20 % Deviation\": 12.897625383711432, \"Bottom 20 % Deviation\": 8.130472923188375}, {\"date\": \"2020-05-01T00:00:00+00:00\", \"Top 20 %\": 42.92721630953523, \"Bottom 20 %\": 42.628367517027016, \"Top 20 % Deviation\": 11.96095102009274, \"Bottom 20 % Deviation\": 11.662102227584523}], \"data-7f3a6b86ed460c4e648f2393735a11f6\": [{\"Mean 2019\": 0}], \"data-d764767e7dd3b10b2c76c1355ce10ef3\": [{\"y\": 1}]}}, {\"mode\": \"vega-lite\"});\n",
              "</script>"
            ]
          },
          "metadata": {
            "tags": []
          },
          "execution_count": 60
        },
        {
          "output_type": "stream",
          "text": [
            "time: 62.2 ms (started: 2021-04-22 01:32:14 +00:00)\n"
          ],
          "name": "stdout"
        }
      ]
    },
    {
      "cell_type": "markdown",
      "metadata": {
        "id": "mxC6dH7YiWxd"
      },
      "source": [
        "\n",
        "**June 3, 2020:** \n",
        "Chicago began gradually allowing businesses to open doors for outside dining and other services, though some shops remained closed following lootings in the aftermath of George Floyd's death, during phase three of its reopening.\n",
        "\n",
        "\n"
      ]
    },
    {
      "cell_type": "code",
      "metadata": {
        "colab": {
          "base_uri": "https://localhost:8080/",
          "height": 385
        },
        "id": "KTaOPmN5fRmL",
        "outputId": "c043806f-91e5-4d5c-ebac-a004634c564e"
      },
      "source": [
        "start_date = '2020-6-1'\n",
        "end_date = '2020-6-16'\n",
        "df3 = apply_date_filter(df,start_date,end_date)\n",
        "chart = create_chart(df3)\n",
        "chart"
      ],
      "execution_count": null,
      "outputs": [
        {
          "output_type": "execute_result",
          "data": {
            "text/plain": [
              "alt.LayerChart(...)"
            ],
            "text/html": [
              "\n",
              "<div id=\"altair-viz-d69248a2afc54bef9abc2d951736e5c4\"></div>\n",
              "<script type=\"text/javascript\">\n",
              "  (function(spec, embedOpt){\n",
              "    let outputDiv = document.currentScript.previousElementSibling;\n",
              "    if (outputDiv.id !== \"altair-viz-d69248a2afc54bef9abc2d951736e5c4\") {\n",
              "      outputDiv = document.getElementById(\"altair-viz-d69248a2afc54bef9abc2d951736e5c4\");\n",
              "    }\n",
              "    const paths = {\n",
              "      \"vega\": \"https://cdn.jsdelivr.net/npm//vega@5?noext\",\n",
              "      \"vega-lib\": \"https://cdn.jsdelivr.net/npm//vega-lib?noext\",\n",
              "      \"vega-lite\": \"https://cdn.jsdelivr.net/npm//vega-lite@4.8.1?noext\",\n",
              "      \"vega-embed\": \"https://cdn.jsdelivr.net/npm//vega-embed@6?noext\",\n",
              "    };\n",
              "\n",
              "    function loadScript(lib) {\n",
              "      return new Promise(function(resolve, reject) {\n",
              "        var s = document.createElement('script');\n",
              "        s.src = paths[lib];\n",
              "        s.async = true;\n",
              "        s.onload = () => resolve(paths[lib]);\n",
              "        s.onerror = () => reject(`Error loading script: ${paths[lib]}`);\n",
              "        document.getElementsByTagName(\"head\")[0].appendChild(s);\n",
              "      });\n",
              "    }\n",
              "\n",
              "    function showError(err) {\n",
              "      outputDiv.innerHTML = `<div class=\"error\" style=\"color:red;\">${err}</div>`;\n",
              "      throw err;\n",
              "    }\n",
              "\n",
              "    function displayChart(vegaEmbed) {\n",
              "      vegaEmbed(outputDiv, spec, embedOpt)\n",
              "        .catch(err => showError(`Javascript Error: ${err.message}<br>This usually means there's a typo in your chart specification. See the javascript console for the full traceback.`));\n",
              "    }\n",
              "\n",
              "    if(typeof define === \"function\" && define.amd) {\n",
              "      requirejs.config({paths});\n",
              "      require([\"vega-embed\"], displayChart, err => showError(`Error loading script: ${err.message}`));\n",
              "    } else if (typeof vegaEmbed === \"function\") {\n",
              "      displayChart(vegaEmbed);\n",
              "    } else {\n",
              "      loadScript(\"vega\")\n",
              "        .then(() => loadScript(\"vega-lite\"))\n",
              "        .then(() => loadScript(\"vega-embed\"))\n",
              "        .catch(showError)\n",
              "        .then(() => displayChart(vegaEmbed));\n",
              "    }\n",
              "  })({\"config\": {\"view\": {\"continuousHeight\": 300, \"continuousWidth\": 400}, \"range\": {\"category\": {\"scheme\": [\"#FF4500\", \"#a0aab4\", \"#4E79A7\"]}}}, \"layer\": [{\"data\": {\"name\": \"data-bdcf8e118a996d608311b9ea20777d86\"}, \"mark\": \"line\", \"encoding\": {\"color\": {\"type\": \"nominal\", \"field\": \"Poverty %\"}, \"x\": {\"type\": \"temporal\", \"field\": \"date\", \"title\": \"Date\"}, \"y\": {\"type\": \"quantitative\", \"field\": \"completely_home_value\", \"title\": \"Completely Home %\"}}, \"selection\": {\"selector003\": {\"type\": \"interval\", \"bind\": \"scales\", \"encodings\": [\"x\", \"y\"]}}, \"transform\": [{\"fold\": [\"Bottom 20 % Deviation\", \"Top 20 % Deviation\"], \"as\": [\"Poverty %\", \"completely_home_value\"]}], \"width\": 1000}, {\"data\": {\"name\": \"data-7f3a6b86ed460c4e648f2393735a11f6\"}, \"mark\": {\"type\": \"rule\", \"color\": \"#757575\", \"size\": 2, \"strokeDash\": [5, 3]}, \"encoding\": {\"size\": {\"value\": 2}, \"y\": {\"type\": \"quantitative\", \"field\": \"Mean 2019\"}}}, {\"data\": {\"name\": \"data-d764767e7dd3b10b2c76c1355ce10ef3\"}, \"mark\": {\"type\": \"text\", \"angle\": 0, \"text\": \"Mean 2019\"}, \"encoding\": {\"opacity\": {\"value\": 0.4}, \"y\": {\"type\": \"quantitative\", \"field\": \"y\"}}}], \"$schema\": \"https://vega.github.io/schema/vega-lite/v4.8.1.json\", \"datasets\": {\"data-bdcf8e118a996d608311b9ea20777d86\": [{\"date\": \"2020-06-08T00:00:00+00:00\", \"Top 20 %\": 32.7302036682417, \"Bottom 20 %\": 29.63558949638063, \"Top 20 % Deviation\": 1.7639383787992067, \"Bottom 20 % Deviation\": -1.3306757930618645}, {\"date\": \"2020-06-09T00:00:00+00:00\", \"Top 20 %\": 36.80629171165432, \"Bottom 20 %\": 36.93297599056929, \"Top 20 % Deviation\": 5.8400264222118246, \"Bottom 20 % Deviation\": 5.966710701126797}, {\"date\": \"2020-06-12T00:00:00+00:00\", \"Top 20 %\": 33.53471629371861, \"Bottom 20 %\": 33.65318089636415, \"Top 20 % Deviation\": 2.568451004276117, \"Bottom 20 % Deviation\": 2.686915606921655}, {\"date\": \"2020-06-16T00:00:00+00:00\", \"Top 20 %\": 35.39785627700342, \"Bottom 20 %\": 33.23892832011867, \"Top 20 % Deviation\": 4.431590987560927, \"Bottom 20 % Deviation\": 2.272663030676174}, {\"date\": \"2020-06-07T00:00:00+00:00\", \"Top 20 %\": 35.417319740105334, \"Bottom 20 %\": 34.98119661922402, \"Top 20 % Deviation\": 4.451054450662841, \"Bottom 20 % Deviation\": 4.014931329781529}, {\"date\": \"2020-06-13T00:00:00+00:00\", \"Top 20 %\": 30.379743301527643, \"Bottom 20 %\": 29.1950885545475, \"Top 20 % Deviation\": -0.5865219879148498, \"Bottom 20 % Deviation\": -1.7711767348949934}, {\"date\": \"2020-06-11T00:00:00+00:00\", \"Top 20 %\": 33.16670942010988, \"Bottom 20 %\": 33.39861988344351, \"Top 20 % Deviation\": 2.200444130667389, \"Bottom 20 % Deviation\": 2.4323545940010156}, {\"date\": \"2020-06-15T00:00:00+00:00\", \"Top 20 %\": 34.77741077256908, \"Bottom 20 %\": 30.48487152338579, \"Top 20 % Deviation\": 3.811145483126584, \"Bottom 20 % Deviation\": -0.48139376605670137}, {\"date\": \"2020-06-14T00:00:00+00:00\", \"Top 20 %\": 34.777328665031334, \"Bottom 20 %\": 32.81361559884384, \"Top 20 % Deviation\": 3.811063375588841, \"Bottom 20 % Deviation\": 1.847350309401346}, {\"date\": \"2020-06-06T00:00:00+00:00\", \"Top 20 %\": 31.173857386385826, \"Bottom 20 %\": 33.82575757575757, \"Top 20 % Deviation\": 0.20759209694333336, \"Bottom 20 % Deviation\": 2.859492286315078}, {\"date\": \"2020-06-03T00:00:00+00:00\", \"Top 20 %\": 35.13884742584274, \"Bottom 20 %\": 32.211509738357485, \"Top 20 % Deviation\": 4.172582136400248, \"Bottom 20 % Deviation\": 1.2452444489149919}, {\"date\": \"2020-06-02T00:00:00+00:00\", \"Top 20 %\": 36.91991773173194, \"Bottom 20 %\": 31.323372106427307, \"Top 20 % Deviation\": 5.9536524422894495, \"Bottom 20 % Deviation\": 0.35710681698481395}, {\"date\": \"2020-06-05T00:00:00+00:00\", \"Top 20 %\": 32.888680536281896, \"Bottom 20 %\": 28.704797107014848, \"Top 20 % Deviation\": 1.9224152468394031, \"Bottom 20 % Deviation\": -2.2614681824276452}, {\"date\": \"2020-06-04T00:00:00+00:00\", \"Top 20 %\": 33.9738115795094, \"Bottom 20 %\": 33.151818060495614, \"Top 20 % Deviation\": 3.0075462900669088, \"Bottom 20 % Deviation\": 2.1855527710531213}, {\"date\": \"2020-06-10T00:00:00+00:00\", \"Top 20 %\": 36.30672606613941, \"Bottom 20 %\": 31.260916637475642, \"Top 20 % Deviation\": 5.3404607766969185, \"Bottom 20 % Deviation\": 0.29465134803314896}], \"data-7f3a6b86ed460c4e648f2393735a11f6\": [{\"Mean 2019\": 0}], \"data-d764767e7dd3b10b2c76c1355ce10ef3\": [{\"y\": 1}]}}, {\"mode\": \"vega-lite\"});\n",
              "</script>"
            ]
          },
          "metadata": {
            "tags": []
          },
          "execution_count": 61
        },
        {
          "output_type": "stream",
          "text": [
            "time: 65.2 ms (started: 2021-04-22 01:32:21 +00:00)\n"
          ],
          "name": "stdout"
        }
      ]
    },
    {
      "cell_type": "markdown",
      "metadata": {
        "id": "I1uLmyxVi6Zo"
      },
      "source": [
        "**September 8, 2020:** Chicago Public Schools began its fall quarter with remote learning, with families across the city reporting a range of successes and frustrations.\n"
      ]
    },
    {
      "cell_type": "code",
      "metadata": {
        "colab": {
          "base_uri": "https://localhost:8080/",
          "height": 385
        },
        "id": "YZ29_JeZfRqz",
        "outputId": "5a127aa7-50f2-4b03-fc25-c95e14281059"
      },
      "source": [
        "start_date = '2020-09-1'\n",
        "end_date = '2020-09-14'\n",
        "df4 = apply_date_filter(df,start_date,end_date)\n",
        "chart = create_chart(df4)\n",
        "chart"
      ],
      "execution_count": null,
      "outputs": [
        {
          "output_type": "execute_result",
          "data": {
            "text/plain": [
              "alt.LayerChart(...)"
            ],
            "text/html": [
              "\n",
              "<div id=\"altair-viz-6123bbd2a36a4cca9619f1716020c8b2\"></div>\n",
              "<script type=\"text/javascript\">\n",
              "  (function(spec, embedOpt){\n",
              "    let outputDiv = document.currentScript.previousElementSibling;\n",
              "    if (outputDiv.id !== \"altair-viz-6123bbd2a36a4cca9619f1716020c8b2\") {\n",
              "      outputDiv = document.getElementById(\"altair-viz-6123bbd2a36a4cca9619f1716020c8b2\");\n",
              "    }\n",
              "    const paths = {\n",
              "      \"vega\": \"https://cdn.jsdelivr.net/npm//vega@5?noext\",\n",
              "      \"vega-lib\": \"https://cdn.jsdelivr.net/npm//vega-lib?noext\",\n",
              "      \"vega-lite\": \"https://cdn.jsdelivr.net/npm//vega-lite@4.8.1?noext\",\n",
              "      \"vega-embed\": \"https://cdn.jsdelivr.net/npm//vega-embed@6?noext\",\n",
              "    };\n",
              "\n",
              "    function loadScript(lib) {\n",
              "      return new Promise(function(resolve, reject) {\n",
              "        var s = document.createElement('script');\n",
              "        s.src = paths[lib];\n",
              "        s.async = true;\n",
              "        s.onload = () => resolve(paths[lib]);\n",
              "        s.onerror = () => reject(`Error loading script: ${paths[lib]}`);\n",
              "        document.getElementsByTagName(\"head\")[0].appendChild(s);\n",
              "      });\n",
              "    }\n",
              "\n",
              "    function showError(err) {\n",
              "      outputDiv.innerHTML = `<div class=\"error\" style=\"color:red;\">${err}</div>`;\n",
              "      throw err;\n",
              "    }\n",
              "\n",
              "    function displayChart(vegaEmbed) {\n",
              "      vegaEmbed(outputDiv, spec, embedOpt)\n",
              "        .catch(err => showError(`Javascript Error: ${err.message}<br>This usually means there's a typo in your chart specification. See the javascript console for the full traceback.`));\n",
              "    }\n",
              "\n",
              "    if(typeof define === \"function\" && define.amd) {\n",
              "      requirejs.config({paths});\n",
              "      require([\"vega-embed\"], displayChart, err => showError(`Error loading script: ${err.message}`));\n",
              "    } else if (typeof vegaEmbed === \"function\") {\n",
              "      displayChart(vegaEmbed);\n",
              "    } else {\n",
              "      loadScript(\"vega\")\n",
              "        .then(() => loadScript(\"vega-lite\"))\n",
              "        .then(() => loadScript(\"vega-embed\"))\n",
              "        .catch(showError)\n",
              "        .then(() => displayChart(vegaEmbed));\n",
              "    }\n",
              "  })({\"config\": {\"view\": {\"continuousHeight\": 300, \"continuousWidth\": 400}, \"range\": {\"category\": {\"scheme\": [\"#FF4500\", \"#a0aab4\", \"#4E79A7\"]}}}, \"layer\": [{\"data\": {\"name\": \"data-473268a769dfa3fc8ecf7d0dce027768\"}, \"mark\": \"line\", \"encoding\": {\"color\": {\"type\": \"nominal\", \"field\": \"Poverty %\"}, \"x\": {\"type\": \"temporal\", \"field\": \"date\", \"title\": \"Date\"}, \"y\": {\"type\": \"quantitative\", \"field\": \"completely_home_value\", \"title\": \"Completely Home %\"}}, \"selection\": {\"selector004\": {\"type\": \"interval\", \"bind\": \"scales\", \"encodings\": [\"x\", \"y\"]}}, \"transform\": [{\"fold\": [\"Bottom 20 % Deviation\", \"Top 20 % Deviation\"], \"as\": [\"Poverty %\", \"completely_home_value\"]}], \"width\": 1000}, {\"data\": {\"name\": \"data-7f3a6b86ed460c4e648f2393735a11f6\"}, \"mark\": {\"type\": \"rule\", \"color\": \"#757575\", \"size\": 2, \"strokeDash\": [5, 3]}, \"encoding\": {\"size\": {\"value\": 2}, \"y\": {\"type\": \"quantitative\", \"field\": \"Mean 2019\"}}}, {\"data\": {\"name\": \"data-d764767e7dd3b10b2c76c1355ce10ef3\"}, \"mark\": {\"type\": \"text\", \"angle\": 0, \"text\": \"Mean 2019\"}, \"encoding\": {\"opacity\": {\"value\": 0.4}, \"y\": {\"type\": \"quantitative\", \"field\": \"y\"}}}], \"$schema\": \"https://vega.github.io/schema/vega-lite/v4.8.1.json\", \"datasets\": {\"data-473268a769dfa3fc8ecf7d0dce027768\": [{\"date\": \"2020-09-12T00:00:00+00:00\", \"Top 20 %\": 29.25107189429783, \"Bottom 20 %\": 31.50441750147077, \"Top 20 % Deviation\": -1.715193395144663, \"Bottom 20 % Deviation\": 0.538152212028276}, {\"date\": \"2020-09-11T00:00:00+00:00\", \"Top 20 %\": 28.331044742717875, \"Bottom 20 %\": 33.836922145294785, \"Top 20 % Deviation\": -2.635220546724618, \"Bottom 20 % Deviation\": 2.8706568558522925}, {\"date\": \"2020-09-06T00:00:00+00:00\", \"Top 20 %\": 30.75054134504335, \"Bottom 20 %\": 32.1356855721992, \"Top 20 % Deviation\": -0.21572394439914433, \"Bottom 20 % Deviation\": 1.1694202827567075}, {\"date\": \"2020-09-14T00:00:00+00:00\", \"Top 20 %\": 30.883135531451796, \"Bottom 20 %\": 29.038062224895697, \"Top 20 % Deviation\": -0.08312975799069733, \"Bottom 20 % Deviation\": -1.9282030645467962}, {\"date\": \"2020-09-13T00:00:00+00:00\", \"Top 20 %\": 31.53722381991889, \"Bottom 20 %\": 29.450343638947892, \"Top 20 % Deviation\": 0.5709585304763962, \"Bottom 20 % Deviation\": -1.515921650494601}, {\"date\": \"2020-09-02T00:00:00+00:00\", \"Top 20 %\": 28.41462038251516, \"Bottom 20 %\": 34.68668759984304, \"Top 20 % Deviation\": -2.551644906927333, \"Bottom 20 % Deviation\": 3.720422310400547}, {\"date\": \"2020-09-03T00:00:00+00:00\", \"Top 20 %\": 27.58527480430807, \"Bottom 20 %\": 30.66351202674286, \"Top 20 % Deviation\": -3.380990485134422, \"Bottom 20 % Deviation\": -0.3027532626996319}, {\"date\": \"2020-09-05T00:00:00+00:00\", \"Top 20 %\": 26.45182232893257, \"Bottom 20 %\": 28.260939510939508, \"Top 20 % Deviation\": -4.514442960509925, \"Bottom 20 % Deviation\": -2.705325778502985}, {\"date\": \"2020-09-09T00:00:00+00:00\", \"Top 20 %\": 30.487574492481347, \"Bottom 20 %\": 24.542851689839363, \"Top 20 % Deviation\": -0.47869079696114625, \"Bottom 20 % Deviation\": -6.42341359960313}, {\"date\": \"2020-09-04T00:00:00+00:00\", \"Top 20 %\": 24.101227381018067, \"Bottom 20 %\": 22.057818934138027, \"Top 20 % Deviation\": -6.865037908424426, \"Bottom 20 % Deviation\": -8.908446355304466}, {\"date\": \"2020-09-07T00:00:00+00:00\", \"Top 20 %\": 33.197773470991734, \"Bottom 20 %\": 27.268393943801964, \"Top 20 % Deviation\": 2.2315081815492412, \"Bottom 20 % Deviation\": -3.6978713456405288}, {\"date\": \"2020-09-10T00:00:00+00:00\", \"Top 20 %\": 30.537354448465784, \"Bottom 20 %\": 37.25045153646054, \"Top 20 % Deviation\": -0.42891084097670884, \"Bottom 20 % Deviation\": 6.284186247018045}, {\"date\": \"2020-09-08T00:00:00+00:00\", \"Top 20 %\": 34.37039179648951, \"Bottom 20 %\": 33.15495294619042, \"Top 20 % Deviation\": 3.404126507047014, \"Bottom 20 % Deviation\": 2.188687656747927}], \"data-7f3a6b86ed460c4e648f2393735a11f6\": [{\"Mean 2019\": 0}], \"data-d764767e7dd3b10b2c76c1355ce10ef3\": [{\"y\": 1}]}}, {\"mode\": \"vega-lite\"});\n",
              "</script>"
            ]
          },
          "metadata": {
            "tags": []
          },
          "execution_count": 62
        },
        {
          "output_type": "stream",
          "text": [
            "time: 54.1 ms (started: 2021-04-22 01:32:28 +00:00)\n"
          ],
          "name": "stdout"
        }
      ]
    },
    {
      "cell_type": "code",
      "metadata": {
        "id": "WuiHxms2fRtH"
      },
      "source": [
        ""
      ],
      "execution_count": null,
      "outputs": []
    }
  ]
}