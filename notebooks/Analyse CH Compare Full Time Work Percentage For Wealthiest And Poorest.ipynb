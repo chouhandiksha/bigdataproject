{
  "nbformat": 4,
  "nbformat_minor": 0,
  "metadata": {
    "colab": {
      "name": "Analyse CH Compare Full Time Work Percentage For Wealthiest And Poorest.ipynb",
      "provenance": [],
      "collapsed_sections": [],
      "include_colab_link": true
    },
    "kernelspec": {
      "name": "python3",
      "display_name": "Python 3"
    },
    "language_info": {
      "name": "python"
    }
  },
  "cells": [
    {
      "cell_type": "markdown",
      "metadata": {
        "id": "view-in-github",
        "colab_type": "text"
      },
      "source": [
        "<a href=\"https://colab.research.google.com/github/chouhandiksha/bigdataproject/blob/main/notebooks/Analyse%20CH%20Compare%20Full%20Time%20Work%20Percentage%20For%20Wealthiest%20And%20Poorest.ipynb\" target=\"_parent\"><img src=\"https://colab.research.google.com/assets/colab-badge.svg\" alt=\"Open In Colab\"/></a>"
      ]
    },
    {
      "cell_type": "markdown",
      "metadata": {
        "id": "6Vnc5foT5YFx"
      },
      "source": [
        "**Spark SQL Documentation:** \n",
        "https://spark.apache.org/docs/2.2.0/sql-programming-guide.html"
      ]
    },
    {
      "cell_type": "markdown",
      "metadata": {
        "id": "VaZU5D27MhXm"
      },
      "source": [
        "#Analyse CH Compare Full Time Work Percentage For Wealthiest And Poorest\n",
        "\n",
        "*Instructions:*\n",
        "\n",
        "1. Execute the first code cell.\n",
        "2. There will be a link to follow in order to authorize the google account for drive. Go to that link.\n",
        "3. A code to authorize the google account will be generated. Copy the code generated.\n",
        "4. Go back to the cell where the process of mounting the drive is running. Paste the generated code from step 3 to the text box in the cell and press enter.\n",
        "\n"
      ]
    },
    {
      "cell_type": "code",
      "metadata": {
        "id": "XXJ-cpgT3moz",
        "colab": {
          "base_uri": "https://localhost:8080/"
        },
        "outputId": "7e860ec6-966c-4c77-bdd6-f6bf6416367a"
      },
      "source": [
        "# add time information at the end of every cell\n",
        "!pip install ipython-autotime\n",
        "%load_ext autotime"
      ],
      "execution_count": null,
      "outputs": [
        {
          "output_type": "stream",
          "text": [
            "Collecting ipython-autotime\n",
            "  Downloading https://files.pythonhosted.org/packages/b4/c9/b413a24f759641bc27ef98c144b590023c8038dfb8a3f09e713e9dff12c1/ipython_autotime-0.3.1-py2.py3-none-any.whl\n",
            "Requirement already satisfied: ipython in /usr/local/lib/python3.7/dist-packages (from ipython-autotime) (5.5.0)\n",
            "Requirement already satisfied: pickleshare in /usr/local/lib/python3.7/dist-packages (from ipython->ipython-autotime) (0.7.5)\n",
            "Requirement already satisfied: simplegeneric>0.8 in /usr/local/lib/python3.7/dist-packages (from ipython->ipython-autotime) (0.8.1)\n",
            "Requirement already satisfied: decorator in /usr/local/lib/python3.7/dist-packages (from ipython->ipython-autotime) (4.4.2)\n",
            "Requirement already satisfied: setuptools>=18.5 in /usr/local/lib/python3.7/dist-packages (from ipython->ipython-autotime) (54.2.0)\n",
            "Requirement already satisfied: traitlets>=4.2 in /usr/local/lib/python3.7/dist-packages (from ipython->ipython-autotime) (5.0.5)\n",
            "Requirement already satisfied: prompt-toolkit<2.0.0,>=1.0.4 in /usr/local/lib/python3.7/dist-packages (from ipython->ipython-autotime) (1.0.18)\n",
            "Requirement already satisfied: pexpect; sys_platform != \"win32\" in /usr/local/lib/python3.7/dist-packages (from ipython->ipython-autotime) (4.8.0)\n",
            "Requirement already satisfied: pygments in /usr/local/lib/python3.7/dist-packages (from ipython->ipython-autotime) (2.6.1)\n",
            "Requirement already satisfied: ipython-genutils in /usr/local/lib/python3.7/dist-packages (from traitlets>=4.2->ipython->ipython-autotime) (0.2.0)\n",
            "Requirement already satisfied: six>=1.9.0 in /usr/local/lib/python3.7/dist-packages (from prompt-toolkit<2.0.0,>=1.0.4->ipython->ipython-autotime) (1.15.0)\n",
            "Requirement already satisfied: wcwidth in /usr/local/lib/python3.7/dist-packages (from prompt-toolkit<2.0.0,>=1.0.4->ipython->ipython-autotime) (0.2.5)\n",
            "Requirement already satisfied: ptyprocess>=0.5 in /usr/local/lib/python3.7/dist-packages (from pexpect; sys_platform != \"win32\"->ipython->ipython-autotime) (0.7.0)\n",
            "Installing collected packages: ipython-autotime\n",
            "Successfully installed ipython-autotime-0.3.1\n",
            "time: 3 ms (started: 2021-04-22 02:05:00 +00:00)\n"
          ],
          "name": "stdout"
        }
      ]
    },
    {
      "cell_type": "code",
      "metadata": {
        "colab": {
          "base_uri": "https://localhost:8080/"
        },
        "id": "DggpqrsrscGi",
        "outputId": "4f60c6c2-e401-4b34-d39b-875e4ba110fd"
      },
      "source": [
        "# Install required dependencies\n",
        "!pip install pyspark\n",
        "!apt install openjdk-8-jdk-headless -qq\n",
        "import os\n",
        "os.environ[\"JAVA_HOME\"] = \"/usr/lib/jvm/java-8-openjdk-amd64\""
      ],
      "execution_count": null,
      "outputs": [
        {
          "output_type": "stream",
          "text": [
            "Collecting pyspark\n",
            "\u001b[?25l  Downloading https://files.pythonhosted.org/packages/45/b0/9d6860891ab14a39d4bddf80ba26ce51c2f9dc4805e5c6978ac0472c120a/pyspark-3.1.1.tar.gz (212.3MB)\n",
            "\u001b[K     |████████████████████████████████| 212.3MB 67kB/s \n",
            "\u001b[?25hCollecting py4j==0.10.9\n",
            "\u001b[?25l  Downloading https://files.pythonhosted.org/packages/9e/b6/6a4fb90cd235dc8e265a6a2067f2a2c99f0d91787f06aca4bcf7c23f3f80/py4j-0.10.9-py2.py3-none-any.whl (198kB)\n",
            "\u001b[K     |████████████████████████████████| 204kB 42.0MB/s \n",
            "\u001b[?25hBuilding wheels for collected packages: pyspark\n",
            "  Building wheel for pyspark (setup.py) ... \u001b[?25l\u001b[?25hdone\n",
            "  Created wheel for pyspark: filename=pyspark-3.1.1-py2.py3-none-any.whl size=212767604 sha256=42aac568554992d2bec60def6f48952078955d01bcc5cce3c242aa2efaf8d84a\n",
            "  Stored in directory: /root/.cache/pip/wheels/0b/90/c0/01de724414ef122bd05f056541fb6a0ecf47c7ca655f8b3c0f\n",
            "Successfully built pyspark\n",
            "Installing collected packages: py4j, pyspark\n",
            "Successfully installed py4j-0.10.9 pyspark-3.1.1\n",
            "The following additional packages will be installed:\n",
            "  openjdk-8-jre-headless\n",
            "Suggested packages:\n",
            "  openjdk-8-demo openjdk-8-source libnss-mdns fonts-dejavu-extra\n",
            "  fonts-ipafont-gothic fonts-ipafont-mincho fonts-wqy-microhei\n",
            "  fonts-wqy-zenhei fonts-indic\n",
            "The following NEW packages will be installed:\n",
            "  openjdk-8-jdk-headless openjdk-8-jre-headless\n",
            "0 upgraded, 2 newly installed, 0 to remove and 31 not upgraded.\n",
            "Need to get 36.5 MB of archives.\n",
            "After this operation, 143 MB of additional disk space will be used.\n",
            "Selecting previously unselected package openjdk-8-jre-headless:amd64.\n",
            "(Reading database ... 160983 files and directories currently installed.)\n",
            "Preparing to unpack .../openjdk-8-jre-headless_8u282-b08-0ubuntu1~18.04_amd64.deb ...\n",
            "Unpacking openjdk-8-jre-headless:amd64 (8u282-b08-0ubuntu1~18.04) ...\n",
            "Selecting previously unselected package openjdk-8-jdk-headless:amd64.\n",
            "Preparing to unpack .../openjdk-8-jdk-headless_8u282-b08-0ubuntu1~18.04_amd64.deb ...\n",
            "Unpacking openjdk-8-jdk-headless:amd64 (8u282-b08-0ubuntu1~18.04) ...\n",
            "Setting up openjdk-8-jre-headless:amd64 (8u282-b08-0ubuntu1~18.04) ...\n",
            "update-alternatives: using /usr/lib/jvm/java-8-openjdk-amd64/jre/bin/orbd to provide /usr/bin/orbd (orbd) in auto mode\n",
            "update-alternatives: using /usr/lib/jvm/java-8-openjdk-amd64/jre/bin/servertool to provide /usr/bin/servertool (servertool) in auto mode\n",
            "update-alternatives: using /usr/lib/jvm/java-8-openjdk-amd64/jre/bin/tnameserv to provide /usr/bin/tnameserv (tnameserv) in auto mode\n",
            "Setting up openjdk-8-jdk-headless:amd64 (8u282-b08-0ubuntu1~18.04) ...\n",
            "update-alternatives: using /usr/lib/jvm/java-8-openjdk-amd64/bin/idlj to provide /usr/bin/idlj (idlj) in auto mode\n",
            "update-alternatives: using /usr/lib/jvm/java-8-openjdk-amd64/bin/wsimport to provide /usr/bin/wsimport (wsimport) in auto mode\n",
            "update-alternatives: using /usr/lib/jvm/java-8-openjdk-amd64/bin/jsadebugd to provide /usr/bin/jsadebugd (jsadebugd) in auto mode\n",
            "update-alternatives: using /usr/lib/jvm/java-8-openjdk-amd64/bin/native2ascii to provide /usr/bin/native2ascii (native2ascii) in auto mode\n",
            "update-alternatives: using /usr/lib/jvm/java-8-openjdk-amd64/bin/javah to provide /usr/bin/javah (javah) in auto mode\n",
            "update-alternatives: using /usr/lib/jvm/java-8-openjdk-amd64/bin/hsdb to provide /usr/bin/hsdb (hsdb) in auto mode\n",
            "update-alternatives: using /usr/lib/jvm/java-8-openjdk-amd64/bin/clhsdb to provide /usr/bin/clhsdb (clhsdb) in auto mode\n",
            "update-alternatives: using /usr/lib/jvm/java-8-openjdk-amd64/bin/xjc to provide /usr/bin/xjc (xjc) in auto mode\n",
            "update-alternatives: using /usr/lib/jvm/java-8-openjdk-amd64/bin/schemagen to provide /usr/bin/schemagen (schemagen) in auto mode\n",
            "update-alternatives: using /usr/lib/jvm/java-8-openjdk-amd64/bin/extcheck to provide /usr/bin/extcheck (extcheck) in auto mode\n",
            "update-alternatives: using /usr/lib/jvm/java-8-openjdk-amd64/bin/jhat to provide /usr/bin/jhat (jhat) in auto mode\n",
            "update-alternatives: using /usr/lib/jvm/java-8-openjdk-amd64/bin/wsgen to provide /usr/bin/wsgen (wsgen) in auto mode\n",
            "time: 51.3 s (started: 2021-04-22 02:05:00 +00:00)\n"
          ],
          "name": "stdout"
        }
      ]
    },
    {
      "cell_type": "code",
      "metadata": {
        "id": "ppkG73kRsei0",
        "colab": {
          "base_uri": "https://localhost:8080/"
        },
        "outputId": "cf037a18-0007-40b7-ef71-fc311f39d064"
      },
      "source": [
        "# Import modules\n",
        "import numpy as np\n",
        "import pandas as pd\n",
        "import datetime\n",
        "import matplotlib.pyplot as plt\n",
        "from pathlib import Path\n",
        "%matplotlib inline\n",
        "\n",
        "import pyspark\n",
        "from pyspark.sql import *\n",
        "from pyspark.sql.types import *\n",
        "from pyspark.sql.functions import *\n",
        "from pyspark import SparkContext, SparkConf"
      ],
      "execution_count": null,
      "outputs": [
        {
          "output_type": "stream",
          "text": [
            "time: 100 ms (started: 2021-04-22 02:05:52 +00:00)\n"
          ],
          "name": "stdout"
        }
      ]
    },
    {
      "cell_type": "code",
      "metadata": {
        "colab": {
          "base_uri": "https://localhost:8080/"
        },
        "id": "pYm9-j_fflal",
        "outputId": "ae0b75af-333c-4917-87e9-03deb18de069"
      },
      "source": [
        "import altair as alt\n",
        "alt.data_transformers.disable_max_rows()"
      ],
      "execution_count": null,
      "outputs": [
        {
          "output_type": "execute_result",
          "data": {
            "text/plain": [
              "DataTransformerRegistry.enable('default')"
            ]
          },
          "metadata": {
            "tags": []
          },
          "execution_count": 4
        },
        {
          "output_type": "stream",
          "text": [
            "time: 244 ms (started: 2021-04-22 02:05:52 +00:00)\n"
          ],
          "name": "stdout"
        }
      ]
    },
    {
      "cell_type": "code",
      "metadata": {
        "id": "1oe1ksN5skMG",
        "colab": {
          "base_uri": "https://localhost:8080/"
        },
        "outputId": "2b93b689-1e24-4e68-dd46-ca9c474bc93c"
      },
      "source": [
        "# create the session\n",
        "conf = SparkConf().set(\"spark.ui.port\", \"4050\")\n",
        "\n",
        "# create the context\n",
        "sc = pyspark.SparkContext(conf=conf)\n",
        "spark = SparkSession.builder.getOrCreate()"
      ],
      "execution_count": null,
      "outputs": [
        {
          "output_type": "stream",
          "text": [
            "time: 4.67 s (started: 2021-04-22 02:05:52 +00:00)\n"
          ],
          "name": "stdout"
        }
      ]
    },
    {
      "cell_type": "code",
      "metadata": {
        "colab": {
          "base_uri": "https://localhost:8080/"
        },
        "id": "WGXwI2d1szaO",
        "outputId": "3e0f9b9a-5932-4544-8aeb-bd44502fb9e0"
      },
      "source": [
        "# Mount drive with data\n",
        "from google.colab import drive\n",
        "drive.mount('/content/drive')"
      ],
      "execution_count": null,
      "outputs": [
        {
          "output_type": "stream",
          "text": [
            "Mounted at /content/drive\n",
            "time: 25.2 s (started: 2021-04-22 02:05:57 +00:00)\n"
          ],
          "name": "stdout"
        }
      ]
    },
    {
      "cell_type": "code",
      "metadata": {
        "id": "grN2uNcFvloa",
        "colab": {
          "base_uri": "https://localhost:8080/"
        },
        "outputId": "c035b555-5d27-4abe-e65f-490ec40fb355"
      },
      "source": [
        "# Set path to data folder\n",
        "path = Path('drive/MyDrive/big-data-project/data/clean-data')\n",
        "city = 'ch'"
      ],
      "execution_count": null,
      "outputs": [
        {
          "output_type": "stream",
          "text": [
            "time: 2.59 ms (started: 2021-04-22 02:06:22 +00:00)\n"
          ],
          "name": "stdout"
        }
      ]
    },
    {
      "cell_type": "code",
      "metadata": {
        "colab": {
          "base_uri": "https://localhost:8080/"
        },
        "id": "BvCrFmU2tGXY",
        "outputId": "d581e189-450c-4b58-ca90-755546f19d35"
      },
      "source": [
        "# Read data into dataframe\n",
        "df_soc = spark.read.format('csv').option('header','true').option('quote',\"\\\"\").option('escape',\"\\\"\").load(str(path/city/'social/2020/*.csv'))\n",
        "df_soc.show()"
      ],
      "execution_count": null,
      "outputs": [
        {
          "output_type": "stream",
          "text": [
            "+---+------------+--------------------+--------------------+------------+---------------------------+--------------------------+------------------------------------------+----------------------------+----------------------+------------------------+--------------------+-------------------------------+-------------------------------+--------------------+-------------------------+--------------------------+----------------------+----------------------------+---------------------------+-----------------------------+\n",
            "|_c0|         cbg|    date_range_start|      date_range_end|device_count|distance_traveled_from_home|bucketed_distance_traveled|median_dwell_at_bucketed_distance_traveled|completely_home_device_count|median_home_dwell_time|bucketed_home_dwell_time|at_home_by_each_hour|part_time_work_behavior_devices|full_time_work_behavior_devices|    destination_cbgs|delivery_behavior_devices|median_non_home_dwell_time|candidate_device_count|bucketed_away_from_home_time|median_percentage_time_home|bucketed_percentage_time_home|\n",
            "+---+------------+--------------------+--------------------+------------+---------------------------+--------------------------+------------------------------------------+----------------------------+----------------------+------------------------+--------------------+-------------------------------+-------------------------------+--------------------+-------------------------+--------------------------+----------------------+----------------------------+---------------------------+-----------------------------+\n",
            "|  0|170312304002|2020-02-07T00:00:...|2020-02-08T00:00:...|          76|                       5066|      {\"16001-50000\":2,...|                      {\"16001-50000\":96...|                          22|                   786|    {\"721-1080\":17,\"3...|[54,56,57,49,55,5...|                              9|                              7|{\"170318382002\":1...|                        2|                        92|                   150|        {\"21-45\":5,\"481-5...|                         81|         {\"26-50\":7,\"51-75...|\n",
            "|  1|170313005002|2020-02-07T00:00:...|2020-02-08T00:00:...|          72|                       4043|      {\"16001-50000\":8,...|                      {\"16001-50000\":72...|                          27|                   686|    {\"721-1080\":16,\"3...|[45,47,46,50,47,4...|                             12|                              9|{\"170312924002\":1...|                        2|                       147|                   165|        {\"21-45\":3,\"481-5...|                         83|         {\"26-50\":4,\"51-75...|\n",
            "|  2|170314208001|2020-02-07T00:00:...|2020-02-08T00:00:...|         127|                       7799|      {\"16001-50000\":15...|                      {\"16001-50000\":75...|                          33|                   492|    {\"721-1080\":33,\"3...|[60,61,65,62,63,5...|                             11|                             15|{\"170314111002\":1...|                        3|                       142|                   333|        {\"21-45\":6,\"481-5...|                         64|         {\"26-50\":8,\"51-75...|\n",
            "|  3|170317608034|2020-02-07T00:00:...|2020-02-08T00:00:...|         114|                      10827|      {\"16001-50000\":15...|                      {\"16001-50000\":63...|                          37|                   445|    {\"721-1080\":16,\"3...|[50,50,54,55,52,5...|                             11|                             10|{\"171079531004\":1...|                        2|                        72|                   205|        {\"21-45\":4,\"481-5...|                         83|         {\"0-25\":26,\"76-10...|\n",
            "|  4|170318033003|2020-02-07T00:00:...|2020-02-08T00:00:...|          91|                       4207|      {\"16001-50000\":10...|                      {\"16001-50000\":75...|                          29|                   482|    {\"721-1080\":18,\"3...|[51,54,48,50,50,5...|                              8|                             13|{\"170318030171\":2...|                        1|                       136|                   171|        {\"21-45\":1,\"481-5...|                         75|         {\"0-25\":15,\"76-10...|\n",
            "|  5|170318146005|2020-02-07T00:00:...|2020-02-08T00:00:...|          51|                       2147|      {\"16001-50000\":2,...|                      {\"16001-50000\":11...|                          11|                   700|    {\"721-1080\":4,\"36...|[29,30,26,28,29,3...|                              1|                              4|{\"170310815003\":1...|                        1|                       102|                    89|        {\"21-45\":3,\"481-5...|                         78|         {\"26-50\":5,\"51-75...|\n",
            "|  6|170318182002|2020-02-07T00:00:...|2020-02-08T00:00:...|          51|                       9323|      {\"16001-50000\":4,...|                      {\"16001-50000\":12...|                          19|                   646|    {\"721-1080\":3,\"36...|[23,24,25,26,27,2...|                              3|                              1|{\"170438443013\":1...|                        1|                         5|                    87|        {\"481-540\":1,\"541...|                        100|         {\"0-25\":3,\"76-100...|\n",
            "|  7|170318240053|2020-02-07T00:00:...|2020-02-08T00:00:...|         123|                       7420|      {\"16001-50000\":32...|                      {\"16001-50000\":62...|                          21|                   703|    {\"721-1080\":35,\"3...|[85,85,84,85,86,8...|                             26|                             13|{\"171978801122\":1...|                        4|                       235|                   222|        {\"21-45\":7,\"481-5...|                         72|         {\"26-50\":15,\"51-7...|\n",
            "|  8|170318348001|2020-02-07T00:00:...|2020-02-08T00:00:...|          32|                       7063|      {\"16001-50000\":2,...|                      {\"16001-50000\":12...|                          12|                   382|    {\"721-1080\":3,\"36...|[15,15,14,14,14,1...|                              4|                              6|{\"170318382002\":2...|                        1|                       130|                    71|        {\"21-45\":1,\"481-5...|                         67|         {\"0-25\":13,\"76-10...|\n",
            "|  9|170438411042|2020-02-07T00:00:...|2020-02-08T00:00:...|          57|                       5586|      {\"16001-50000\":7,...|                      {\"16001-50000\":69...|                          14|                   659|    {\"721-1080\":10,\"3...|[26,29,31,28,29,2...|                              7|                              5|{\"180731011002\":1...|                        1|                        79|                   104|        {\"21-45\":2,\"481-5...|                         76|         {\"0-25\":14,\"76-10...|\n",
            "| 10|170438427041|2020-02-07T00:00:...|2020-02-08T00:00:...|          84|                       8582|      {\"16001-50000\":9,...|                      {\"16001-50000\":20...|                          23|                   672|    {\"721-1080\":18,\"3...|[49,53,54,55,54,5...|                             17|                              6|{\"170438413222\":1...|                        2|                        97|                   171|        {\"21-45\":4,\"481-5...|                         82|         {\"26-50\":7,\"51-75...|\n",
            "| 11|180890307002|2020-02-07T00:00:...|2020-02-08T00:00:...|          58|                       5723|      {\"16001-50000\":6,...|                      {\"16001-50000\":25...|                          17|                   450|    {\"721-1080\":11,\"3...|[21,25,25,29,26,2...|                              2|                              3|{\"180890402001\":1...|                        1|                        36|                   109|        {\"21-45\":10,\"481-...|                         88|         {\"0-25\":11,\"76-10...|\n",
            "| 12|170438445011|2020-02-07T00:00:...|2020-02-08T00:00:...|          48|                       2959|      {\"16001-50000\":6,...|                      {\"16001-50000\":80...|                          15|                   662|    {\"721-1080\":15,\"3...|[31,28,29,29,29,2...|                              9|                              9|{\"170318202013\":1...|                        1|                       295|                    98|        {\"481-540\":2,\"541...|                         64|         {\"26-50\":4,\"51-75...|\n",
            "| 13|171118712022|2020-02-07T00:00:...|2020-02-08T00:00:...|          86|                       3552|      {\"16001-50000\":9,...|                      {\"16001-50000\":15...|                          24|                   787|    {\"721-1080\":28,\"3...|[55,59,62,57,60,5...|                             12|                             12|{\"171118709031\":1...|                        6|                       104|                   173|        {\"21-45\":3,\"481-5...|                         73|         {\"26-50\":2,\"51-75...|\n",
            "| 14|180890408013|2020-02-07T00:00:...|2020-02-08T00:00:...|          72|                       7487|      {\"16001-50000\":12...|                      {\"16001-50000\":85...|                          18|                   505|    {\"721-1080\":19,\"3...|[33,37,35,35,37,3...|                              6|                              7|{\"181410112011\":1...|                        4|                       140|                   169|        {\"21-45\":2,\"481-5...|                         72|         {\"26-50\":4,\"51-75...|\n",
            "| 15|170312004021|2020-02-07T00:00:...|2020-02-08T00:00:...|          98|                       3123|      {\"16001-50000\":3,...|                      {\"16001-50000\":21...|                          26|                   734|    {\"721-1080\":28,\"3...|[61,66,65,65,63,6...|                             18|                             11|{\"170311906022\":1...|                        2|                       257|                   201|        {\"21-45\":6,\"481-5...|                         69|         {\"0-25\":14,\"76-10...|\n",
            "| 16|170312309002|2020-02-07T00:00:...|2020-02-08T00:00:...|          80|                       5832|      {\"16001-50000\":7,...|                      {\"16001-50000\":60...|                          21|                   656|    {\"721-1080\":19,\"3...|[45,49,48,45,46,4...|                              5|                              1|{\"170312307002\":2...|                        1|                        84|                   208|        {\"21-45\":3,\"481-5...|                         80|         {\"26-50\":1,\"51-75...|\n",
            "| 17|170312838002|2020-02-07T00:00:...|2020-02-08T00:00:...|         126|                       4159|      {\"16001-50000\":9,...|                      {\"16001-50000\":59...|                          38|                   581|    {\"721-1080\":24,\"3...|[67,69,68,70,66,7...|                             14|                             11|{\"170318066002\":1...|                        3|                        82|                   258|        {\"21-45\":4,\"481-5...|                         84|         {\"26-50\":7,\"51-75...|\n",
            "| 18|170318114023|2020-02-07T00:00:...|2020-02-08T00:00:...|          82|                       1917|      {\"16001-50000\":1,...|                      {\"16001-50000\":12...|                          31|                   559|    {\"721-1080\":11,\"3...|[41,44,44,44,43,4...|                             11|                              7|{\"170318114014\":2...|                        5|                        49|                   166|        {\"21-45\":4,\"481-5...|                         93|         {\"26-50\":1,\"51-75...|\n",
            "| 19|170318117021|2020-02-07T00:00:...|2020-02-08T00:00:...|          74|                       6079|      {\"16001-50000\":8,...|                      {\"16001-50000\":10...|                          16|                   335|    {\"721-1080\":16,\"3...|[34,34,36,38,37,3...|                             11|                             10|{\"551091208001\":1...|                        3|                       113|                   149|        {\"21-45\":5,\"481-5...|                         66|         {\"0-25\":20,\"76-10...|\n",
            "+---+------------+--------------------+--------------------+------------+---------------------------+--------------------------+------------------------------------------+----------------------------+----------------------+------------------------+--------------------+-------------------------------+-------------------------------+--------------------+-------------------------+--------------------------+----------------------+----------------------------+---------------------------+-----------------------------+\n",
            "only showing top 20 rows\n",
            "\n",
            "time: 22.6 s (started: 2021-04-22 02:06:22 +00:00)\n"
          ],
          "name": "stdout"
        }
      ]
    },
    {
      "cell_type": "code",
      "metadata": {
        "colab": {
          "base_uri": "https://localhost:8080/"
        },
        "id": "wh747sqcHi4-",
        "outputId": "9ee6a6f4-36a1-4ead-b85e-904964f3b3e2"
      },
      "source": [
        "#Create view for sparksql\n",
        "df_soc.createOrReplaceTempView('clean_ch')\n",
        "df_soc = spark.sql('SELECT cbg, date_range_start as date, device_count, full_time_work_behavior_devices FROM clean_ch WHERE device_count > 5')\n",
        "df_soc.show()"
      ],
      "execution_count": null,
      "outputs": [
        {
          "output_type": "stream",
          "text": [
            "+------------+--------------------+------------+-------------------------------+\n",
            "|         cbg|                date|device_count|full_time_work_behavior_devices|\n",
            "+------------+--------------------+------------+-------------------------------+\n",
            "|170312304002|2020-02-07T00:00:...|          76|                              7|\n",
            "|170313005002|2020-02-07T00:00:...|          72|                              9|\n",
            "|170314208001|2020-02-07T00:00:...|         127|                             15|\n",
            "|170317608034|2020-02-07T00:00:...|         114|                             10|\n",
            "|170318033003|2020-02-07T00:00:...|          91|                             13|\n",
            "|170318146005|2020-02-07T00:00:...|          51|                              4|\n",
            "|170318182002|2020-02-07T00:00:...|          51|                              1|\n",
            "|170318240053|2020-02-07T00:00:...|         123|                             13|\n",
            "|170318348001|2020-02-07T00:00:...|          32|                              6|\n",
            "|170438411042|2020-02-07T00:00:...|          57|                              5|\n",
            "|170438427041|2020-02-07T00:00:...|          84|                              6|\n",
            "|180890307002|2020-02-07T00:00:...|          58|                              3|\n",
            "|170438445011|2020-02-07T00:00:...|          48|                              9|\n",
            "|171118712022|2020-02-07T00:00:...|          86|                             12|\n",
            "|180890408013|2020-02-07T00:00:...|          72|                              7|\n",
            "|170312004021|2020-02-07T00:00:...|          98|                             11|\n",
            "|170312309002|2020-02-07T00:00:...|          80|                              1|\n",
            "|170312838002|2020-02-07T00:00:...|         126|                             11|\n",
            "|170318114023|2020-02-07T00:00:...|          82|                              7|\n",
            "|170318117021|2020-02-07T00:00:...|          74|                             10|\n",
            "+------------+--------------------+------------+-------------------------------+\n",
            "only showing top 20 rows\n",
            "\n",
            "time: 924 ms (started: 2021-04-22 02:06:45 +00:00)\n"
          ],
          "name": "stdout"
        }
      ]
    },
    {
      "cell_type": "code",
      "metadata": {
        "id": "nlVhrn2-Rp_O",
        "colab": {
          "base_uri": "https://localhost:8080/"
        },
        "outputId": "57664ac1-60ec-4c48-9768-cba4a5bda5cb"
      },
      "source": [
        "# Taking substring of date for \"yyyy-mm-dd\"\n",
        "df_soc = df_soc.withColumn(\"date\",\n",
        "    df_soc['date'].substr(0, 10))"
      ],
      "execution_count": null,
      "outputs": [
        {
          "output_type": "stream",
          "text": [
            "time: 55.6 ms (started: 2021-04-22 02:06:46 +00:00)\n"
          ],
          "name": "stdout"
        }
      ]
    },
    {
      "cell_type": "code",
      "metadata": {
        "colab": {
          "base_uri": "https://localhost:8080/"
        },
        "id": "2ryRoACoJMPZ",
        "outputId": "b60c28d0-020a-485b-a625-b8a3c31645f1"
      },
      "source": [
        "df_soc.show()"
      ],
      "execution_count": null,
      "outputs": [
        {
          "output_type": "stream",
          "text": [
            "+------------+----------+------------+-------------------------------+\n",
            "|         cbg|      date|device_count|full_time_work_behavior_devices|\n",
            "+------------+----------+------------+-------------------------------+\n",
            "|170312304002|2020-02-07|          76|                              7|\n",
            "|170313005002|2020-02-07|          72|                              9|\n",
            "|170314208001|2020-02-07|         127|                             15|\n",
            "|170317608034|2020-02-07|         114|                             10|\n",
            "|170318033003|2020-02-07|          91|                             13|\n",
            "|170318146005|2020-02-07|          51|                              4|\n",
            "|170318182002|2020-02-07|          51|                              1|\n",
            "|170318240053|2020-02-07|         123|                             13|\n",
            "|170318348001|2020-02-07|          32|                              6|\n",
            "|170438411042|2020-02-07|          57|                              5|\n",
            "|170438427041|2020-02-07|          84|                              6|\n",
            "|180890307002|2020-02-07|          58|                              3|\n",
            "|170438445011|2020-02-07|          48|                              9|\n",
            "|171118712022|2020-02-07|          86|                             12|\n",
            "|180890408013|2020-02-07|          72|                              7|\n",
            "|170312004021|2020-02-07|          98|                             11|\n",
            "|170312309002|2020-02-07|          80|                              1|\n",
            "|170312838002|2020-02-07|         126|                             11|\n",
            "|170318114023|2020-02-07|          82|                              7|\n",
            "|170318117021|2020-02-07|          74|                             10|\n",
            "+------------+----------+------------+-------------------------------+\n",
            "only showing top 20 rows\n",
            "\n",
            "time: 284 ms (started: 2021-04-22 02:06:46 +00:00)\n"
          ],
          "name": "stdout"
        }
      ]
    },
    {
      "cell_type": "code",
      "metadata": {
        "colab": {
          "base_uri": "https://localhost:8080/"
        },
        "id": "UL4qIhZu7JKC",
        "outputId": "11876be7-1dfe-4216-eec6-58eadad6ad81"
      },
      "source": [
        "# Add full time work percentage column\n",
        "\n",
        "df_soc = df_soc.withColumn('full_time_work_percentage', (df_soc['full_time_work_behavior_devices']/df_soc['device_count']) * 100)"
      ],
      "execution_count": null,
      "outputs": [
        {
          "output_type": "stream",
          "text": [
            "time: 66.2 ms (started: 2021-04-22 02:06:46 +00:00)\n"
          ],
          "name": "stdout"
        }
      ]
    },
    {
      "cell_type": "code",
      "metadata": {
        "colab": {
          "base_uri": "https://localhost:8080/"
        },
        "id": "OAUIODseCoSg",
        "outputId": "4dd1fbb6-66d8-4c5f-c2f0-6be50f5f48f0"
      },
      "source": [
        "#Create temp view\n",
        "df_soc.createOrReplaceTempView('mobility')"
      ],
      "execution_count": null,
      "outputs": [
        {
          "output_type": "stream",
          "text": [
            "time: 19.1 ms (started: 2021-04-22 02:06:46 +00:00)\n"
          ],
          "name": "stdout"
        }
      ]
    },
    {
      "cell_type": "markdown",
      "metadata": {
        "id": "Sj4xc1gTpm2X"
      },
      "source": [
        "\n",
        "\n",
        "---\n",
        "\n",
        "\n",
        "**Demographic data**\n",
        "\n",
        "\n",
        "\n",
        "\n",
        "\n",
        "---\n",
        "\n"
      ]
    },
    {
      "cell_type": "code",
      "metadata": {
        "colab": {
          "base_uri": "https://localhost:8080/"
        },
        "id": "1SVVsXtuzqRf",
        "outputId": "d258e728-2064-42c8-81f6-c319cb306430"
      },
      "source": [
        "# Read poverty data\n",
        "# Read data into RDD\n",
        "df_demographic = spark.read.format('csv').option('header','true').option('quote',\"\\\"\").option('escape',\"\\\"\").load(str(path/city/'ch.csv'))\n",
        "df_demographic.createOrReplaceTempView('demographic')\n",
        "df_demographic.show()"
      ],
      "execution_count": null,
      "outputs": [
        {
          "output_type": "stream",
          "text": [
            "+------------+---------+------------------+-------------------+\n",
            "|         cbg|pop_total|poverty_percentage|     perc_whiteonly|\n",
            "+------------+---------+------------------+-------------------+\n",
            "|170312909001|      935|  55.8288770053476|                0.0|\n",
            "|170312909002|     1129|45.261293179805136|                0.0|\n",
            "|170312909003|      765|  39.7078353253652|                0.0|\n",
            "|170312909004|     1075|30.325581395348838|                0.0|\n",
            "|170318387002|     1016|31.003937007874015| 13.484251968503939|\n",
            "|170313102001|      835|16.766467065868262|  78.20359281437126|\n",
            "|170313102002|      686| 16.61807580174927| 50.583090379008745|\n",
            "|170314005002|      807|40.644361833952914|                0.0|\n",
            "|170314804006|      710| 1.971830985915493|  1.267605633802817|\n",
            "|170314804007|      650|               0.0|                0.0|\n",
            "|170314805001|     1141|  9.55302366345311|  4.206836108676599|\n",
            "|170312608002|     1100| 55.45454545454545| 2.8181818181818183|\n",
            "|170312609001|      836| 44.85645933014354|  8.971291866028707|\n",
            "|170312609002|      614| 35.82342954159593| 0.9771986970684038|\n",
            "|170312610002|     1265| 35.08771929824561|0.31620553359683795|\n",
            "|171978805071|     6606| 9.564953766863727| 37.753557372085986|\n",
            "|171978803033|     1165|               0.0|  81.80257510729614|\n",
            "|170318036032|     1431|0.9084556254367574|              100.0|\n",
            "|170310814022|     1708| 8.021077283372366|  74.35597189695551|\n",
            "|170310609004|     3562| 7.130825379000562|   91.4093206064009|\n",
            "+------------+---------+------------------+-------------------+\n",
            "only showing top 20 rows\n",
            "\n",
            "time: 740 ms (started: 2021-04-22 02:06:46 +00:00)\n"
          ],
          "name": "stdout"
        }
      ]
    },
    {
      "cell_type": "code",
      "metadata": {
        "colab": {
          "base_uri": "https://localhost:8080/"
        },
        "id": "Ff9bk8_6qBQ2",
        "outputId": "c0e61ff6-95cc-4001-eac3-0748c87fda0d"
      },
      "source": [
        "# Performing inner join on mobility and demographic table using cbg\n",
        "df_mob_demo = spark.sql('SELECT mobility.*, demographic.poverty_percentage from mobility INNER JOIN demographic ON mobility.cbg = demographic.cbg')\n",
        "df_mob_demo.createOrReplaceTempView('demographic_mobility')\n",
        "df_mob_demo.show()\n"
      ],
      "execution_count": null,
      "outputs": [
        {
          "output_type": "stream",
          "text": [
            "+------------+----------+------------+-------------------------------+-------------------------+------------------+\n",
            "|         cbg|      date|device_count|full_time_work_behavior_devices|full_time_work_percentage|poverty_percentage|\n",
            "+------------+----------+------------+-------------------------------+-------------------------+------------------+\n",
            "|170312304002|2020-02-07|          76|                              7|        9.210526315789473|19.847972972972975|\n",
            "|170313005002|2020-02-07|          72|                              9|                     12.5|22.696011004126547|\n",
            "|170314208001|2020-02-07|         127|                             15|       11.811023622047244| 34.01677539608574|\n",
            "|170317608034|2020-02-07|         114|                             10|        8.771929824561402|13.651647612642906|\n",
            "|170318033003|2020-02-07|          91|                             13|       14.285714285714285| 4.035608308605341|\n",
            "|170318146005|2020-02-07|          51|                              4|       7.8431372549019605|17.548500881834215|\n",
            "|170318182002|2020-02-07|          51|                              1|       1.9607843137254901| 9.483667017913593|\n",
            "|170318240053|2020-02-07|         123|                             13|       10.569105691056912| 6.836544437538844|\n",
            "|170318348001|2020-02-07|          32|                              6|                    18.75| 33.17307692307692|\n",
            "|170438411042|2020-02-07|          57|                              5|        8.771929824561402|               0.0|\n",
            "|170438427041|2020-02-07|          84|                              6|        7.142857142857142| 19.55128205128205|\n",
            "|180890307002|2020-02-07|          58|                              3|        5.172413793103448| 8.002832861189802|\n",
            "|170438445011|2020-02-07|          48|                              9|                    18.75| 1.008249312557287|\n",
            "|171118712022|2020-02-07|          86|                             12|       13.953488372093023|11.479944674965422|\n",
            "|180890408013|2020-02-07|          72|                              7|        9.722222222222223|12.694877505567929|\n",
            "|170312004021|2020-02-07|          98|                             11|       11.224489795918368| 16.45185746777862|\n",
            "|170312309002|2020-02-07|          80|                              1|                     1.25| 50.25380710659898|\n",
            "|170312838002|2020-02-07|         126|                             11|         8.73015873015873|24.961383997528575|\n",
            "|170318114023|2020-02-07|          82|                              7|        8.536585365853659| 6.048387096774194|\n",
            "|170318117021|2020-02-07|          74|                             10|       13.513513513513514|26.733576642335766|\n",
            "+------------+----------+------------+-------------------------------+-------------------------+------------------+\n",
            "only showing top 20 rows\n",
            "\n",
            "time: 1.2 s (started: 2021-04-22 02:06:47 +00:00)\n"
          ],
          "name": "stdout"
        }
      ]
    },
    {
      "cell_type": "code",
      "metadata": {
        "id": "6vFzCEtNukZy",
        "colab": {
          "base_uri": "https://localhost:8080/"
        },
        "outputId": "b06ef107-52d5-4a39-e6f2-b1b3e544ae66"
      },
      "source": [
        "# DIVIDING THE PEOPLE TOP 20 PERCENT AND BOTTOM 20 PERCENT\n",
        "\n",
        "df_mob_demo_high_class =  spark.sql('SELECT * FROM demographic_mobility WHERE poverty_percentage < 20')\n",
        "grouped_df_mob_demo_high_class = df_mob_demo_high_class.groupBy(\"date\").mean(\"full_time_work_percentage\").withColumnRenamed('avg(full_time_work_percentage)','full_time_work_percentage')\n",
        "grouped_df_mob_demo_high_class.createOrReplaceTempView('mob_demo_high_class')\n",
        "\n",
        "\n",
        "df_mob_demo_low_class =  spark.sql('SELECT * FROM demographic_mobility WHERE poverty_percentage > 80')\n",
        "grouped_df_mob_demo_low_class = df_mob_demo_low_class.groupBy(\"date\").mean(\"full_time_work_percentage\").withColumnRenamed('avg(full_time_work_percentage)','full_time_work_percentage')\n",
        "grouped_df_mob_demo_low_class.createOrReplaceTempView('mob_demo_low_class')\n",
        "\n",
        "grouped_df_mob_demo_combined = spark.sql(\"\"\"\n",
        "\n",
        "SELECT h.date,h.full_time_work_percentage as top20_perc,\n",
        "l.full_time_work_percentage as bottom20_perc  \n",
        "FROM mob_demo_high_class h INNER JOIN mob_demo_low_class l ON h.date = l.date\n",
        "\n",
        "\"\"\")"
      ],
      "execution_count": null,
      "outputs": [
        {
          "output_type": "stream",
          "text": [
            "time: 305 ms (started: 2021-04-22 02:06:48 +00:00)\n"
          ],
          "name": "stdout"
        }
      ]
    },
    {
      "cell_type": "markdown",
      "metadata": {
        "id": "ow6mFwCFoc4r"
      },
      "source": [
        "**Load 2019 stats**"
      ]
    },
    {
      "cell_type": "code",
      "metadata": {
        "colab": {
          "base_uri": "https://localhost:8080/"
        },
        "id": "iBe00iTKobbO",
        "outputId": "229f05fc-ed51-45b0-cf13-4ba3d3fda8ca"
      },
      "source": [
        "# Getting mean of 2019 value for part time device count\n",
        "filename = '{}_social_summary_2019.csv'.format(city)\n",
        "stat_2019 = spark.read.format('csv').option('header','true').option('quote',\"\\\"\").option('escape',\"\\\"\").load(str(path/city/filename))\n",
        "stat_2019.show()\n",
        "mean_2019 = stat_2019.collect()[1][7]\n"
      ],
      "execution_count": null,
      "outputs": [
        {
          "output_type": "stream",
          "text": [
            "+-----+------------------+------------------+------------------+-----------------+--------------------------+-------------------------+-------------------------+--------------------+--------------------+--------------------+\n",
            "|  _c0|             total|   completely_home|    part_time_work|   full_time_work|percentage_completely_home|percentage_part_time_work|percentage_full_time_work|norm_completely_home| norm_part_time_work| norm_full_time_work|\n",
            "+-----+------------------+------------------+------------------+-----------------+--------------------------+-------------------------+-------------------------+--------------------+--------------------+--------------------+\n",
            "|count|         2430227.0|         2430227.0|         2430227.0|        2430227.0|                 2430227.0|                2430227.0|                2430227.0|           2430227.0|           2430227.0|           2430227.0|\n",
            "| mean| 95.04381072220825|29.833984232748627|  8.54960421392734|5.511380212630343|        30.966265289442493|        8.979337405961639|        5.998589423116906|-3.66844051893425...|1.189521637447286...|-6.91747531652694...|\n",
            "|  std|111.97921542441331| 42.51986606975598|10.180834940819576|7.564772291957502|          9.89787776066493|        5.194712198874483|        4.761510062763089|  0.9999999999987093|  1.0000000000003801|    1.00000000000042|\n",
            "|  min|               5.0|               1.0|               1.0|              1.0|        0.6944444444444444|       0.1718213058419244|      0.06067961165048543| -3.0584153064913604| -1.6954772012255084| -1.2470644256122123|\n",
            "|  25%|              52.0|              15.0|               3.0|              1.0|        24.137931034482758|        4.918032786885246|       2.1505376344086025| -0.6898786204549988| -0.7818151350052345| -0.8081578612637208|\n",
            "|  50%|              72.0|              22.0|               6.0|              3.0|        30.434782608695656|        8.333333333333332|        4.597701149425287|-0.05369663008559247| -0.1243580102028123|-0.29421092368304014|\n",
            "|  75%|             103.0|              33.0|              11.0|              7.0|        37.234042553191486|        12.23404255319149|        8.661417322834646|  0.6332445616430739|  0.6265419570183377|  0.5592402125834235|\n",
            "|  max|            9089.0|            3637.0|             504.0|            244.0|         94.87179487179486|        66.66666666666666|        57.14285714285714|   6.456488060129292|  11.105009681422562|  10.741186523936774|\n",
            "+-----+------------------+------------------+------------------+-----------------+--------------------------+-------------------------+-------------------------+--------------------+--------------------+--------------------+\n",
            "\n",
            "time: 794 ms (started: 2021-04-22 02:06:48 +00:00)\n"
          ],
          "name": "stdout"
        }
      ]
    },
    {
      "cell_type": "code",
      "metadata": {
        "colab": {
          "base_uri": "https://localhost:8080/"
        },
        "id": "jbZKBBrlsymR",
        "outputId": "191d153b-5729-43d4-c08b-289da0007732"
      },
      "source": [
        "# calculate deviation form mean\n",
        "grouped_df_mob_demo_combined= grouped_df_mob_demo_combined.withColumn(\"top20_deviation\",\n",
        "    grouped_df_mob_demo_combined['top20_perc'] - mean_2019)\n"
      ],
      "execution_count": null,
      "outputs": [
        {
          "output_type": "stream",
          "text": [
            "time: 35.4 ms (started: 2021-04-22 02:06:49 +00:00)\n"
          ],
          "name": "stdout"
        }
      ]
    },
    {
      "cell_type": "code",
      "metadata": {
        "colab": {
          "base_uri": "https://localhost:8080/"
        },
        "id": "m1v1M4wSwmbV",
        "outputId": "8d5fe17f-d7d9-48c2-bfec-4a4658dcb4c4"
      },
      "source": [
        "# Taking bottom and top 20 percent to get the wealthiest and poorest population data\n",
        "grouped_df_mob_demo_combined = grouped_df_mob_demo_combined.withColumn(\"bottom20_deviation\",\n",
        "    grouped_df_mob_demo_combined['bottom20_perc'] - mean_2019)"
      ],
      "execution_count": null,
      "outputs": [
        {
          "output_type": "stream",
          "text": [
            "time: 36.7 ms (started: 2021-04-22 02:06:49 +00:00)\n"
          ],
          "name": "stdout"
        }
      ]
    },
    {
      "cell_type": "markdown",
      "metadata": {
        "id": "JxSLoJSmYuj8"
      },
      "source": [
        "\n",
        "**Visualizations** \n",
        "\n"
      ]
    },
    {
      "cell_type": "code",
      "metadata": {
        "colab": {
          "base_uri": "https://localhost:8080/"
        },
        "id": "S4CaYZVO43kY",
        "outputId": "b633995d-f756-47fe-b12d-f6684c9ddd9b"
      },
      "source": [
        "# create altair library theme \n",
        "\n",
        "def my_theme():\n",
        "  return {\n",
        "    'config': {\n",
        "      'view': {'continuousHeight': 300, 'continuousWidth': 400},  # from the default theme\n",
        "      'range': {'category': {'scheme': ['#FF4500','#a0aab4','#4E79A7']}}\n",
        "    }\n",
        "  }\n",
        "alt.themes.register('my_theme', my_theme)\n",
        "alt.themes.enable('my_theme')\n",
        "# "
      ],
      "execution_count": null,
      "outputs": [
        {
          "output_type": "execute_result",
          "data": {
            "text/plain": [
              "ThemeRegistry.enable('my_theme')"
            ]
          },
          "metadata": {
            "tags": []
          },
          "execution_count": 21
        },
        {
          "output_type": "stream",
          "text": [
            "time: 18.1 ms (started: 2021-04-22 02:06:49 +00:00)\n"
          ],
          "name": "stdout"
        }
      ]
    },
    {
      "cell_type": "code",
      "metadata": {
        "colab": {
          "base_uri": "https://localhost:8080/"
        },
        "id": "0KpTm73-BpiA",
        "outputId": "0ba8c280-c1e7-4fb2-f486-9340393223eb"
      },
      "source": [
        "# Define characteristics for visualisation creation\n",
        "def create_chart(df) :\n",
        "  chart = alt.Chart(df).transform_fold(\n",
        "    fold=['Bottom 20 % Deviation', 'Top 20 % Deviation'],\n",
        "    as_ = ['Poverty %','full_time_work']\n",
        "    \n",
        "    ).mark_line().encode(\n",
        "      x= alt.X('date:T', title = 'Date'),\n",
        "      y= alt.Y('full_time_work:Q', title = 'Full Time %'),\n",
        "      color='Poverty %:N'\n",
        "    ).properties(width = 1000).interactive()\n",
        "\n",
        "  rule = alt.Chart(pd.DataFrame({'Mean 2019':[0]})).mark_rule(color='#757575',strokeDash=[5,3], size=2).encode(\n",
        "    y='Mean 2019',\n",
        "    size=alt.value(2),\n",
        "    )\n",
        "  \n",
        "  text = alt.Chart({'values':[{ 'y': 1}]}).mark_text(\n",
        "    text='Mean 2019', angle=0\n",
        "    ).encode(\n",
        "      y=alt.Y('y:Q'),opacity=alt.value(0.4)\n",
        "    )\n",
        "\n",
        "  return  chart + rule + text\n"
      ],
      "execution_count": null,
      "outputs": [
        {
          "output_type": "stream",
          "text": [
            "time: 13.9 ms (started: 2021-04-22 02:06:49 +00:00)\n"
          ],
          "name": "stdout"
        }
      ]
    },
    {
      "cell_type": "code",
      "metadata": {
        "colab": {
          "base_uri": "https://localhost:8080/"
        },
        "id": "P9AleyUlCeuI",
        "outputId": "29c1731e-3aba-459b-b19d-d5d8d8897730"
      },
      "source": [
        "# Function to filter date from dataset\n",
        "def apply_date_filter(df,start_date,end_date) :\n",
        "  mask = (df['date'] > start_date) & (df['date'] <= end_date)\n",
        "  dfX = df.loc[mask]\n",
        "  return dfX"
      ],
      "execution_count": null,
      "outputs": [
        {
          "output_type": "stream",
          "text": [
            "time: 6.17 ms (started: 2021-04-22 02:06:49 +00:00)\n"
          ],
          "name": "stdout"
        }
      ]
    },
    {
      "cell_type": "code",
      "metadata": {
        "colab": {
          "base_uri": "https://localhost:8080/",
          "height": 418
        },
        "id": "V4EHlNdfSVal",
        "outputId": "e35a4f1f-c4f0-4053-968a-22a4e75b9324"
      },
      "source": [
        "# create pandas dataframe for visualizations\n",
        "df = grouped_df_mob_demo_combined.toPandas()\n",
        "df"
      ],
      "execution_count": null,
      "outputs": [
        {
          "output_type": "execute_result",
          "data": {
            "text/html": [
              "<div>\n",
              "<style scoped>\n",
              "    .dataframe tbody tr th:only-of-type {\n",
              "        vertical-align: middle;\n",
              "    }\n",
              "\n",
              "    .dataframe tbody tr th {\n",
              "        vertical-align: top;\n",
              "    }\n",
              "\n",
              "    .dataframe thead th {\n",
              "        text-align: right;\n",
              "    }\n",
              "</style>\n",
              "<table border=\"1\" class=\"dataframe\">\n",
              "  <thead>\n",
              "    <tr style=\"text-align: right;\">\n",
              "      <th></th>\n",
              "      <th>date</th>\n",
              "      <th>top20_perc</th>\n",
              "      <th>bottom20_perc</th>\n",
              "      <th>top20_deviation</th>\n",
              "      <th>bottom20_deviation</th>\n",
              "    </tr>\n",
              "  </thead>\n",
              "  <tbody>\n",
              "    <tr>\n",
              "      <th>0</th>\n",
              "      <td>2020-02-26</td>\n",
              "      <td>9.570720</td>\n",
              "      <td>4.370398</td>\n",
              "      <td>3.572131</td>\n",
              "      <td>-1.628191</td>\n",
              "    </tr>\n",
              "    <tr>\n",
              "      <th>1</th>\n",
              "      <td>2020-04-13</td>\n",
              "      <td>3.230145</td>\n",
              "      <td>4.072505</td>\n",
              "      <td>-2.768444</td>\n",
              "      <td>-1.926084</td>\n",
              "    </tr>\n",
              "    <tr>\n",
              "      <th>2</th>\n",
              "      <td>2020-06-24</td>\n",
              "      <td>3.839379</td>\n",
              "      <td>3.734758</td>\n",
              "      <td>-2.159210</td>\n",
              "      <td>-2.263832</td>\n",
              "    </tr>\n",
              "    <tr>\n",
              "      <th>3</th>\n",
              "      <td>2020-06-08</td>\n",
              "      <td>3.947207</td>\n",
              "      <td>2.657462</td>\n",
              "      <td>-2.051383</td>\n",
              "      <td>-3.341128</td>\n",
              "    </tr>\n",
              "    <tr>\n",
              "      <th>4</th>\n",
              "      <td>2020-09-12</td>\n",
              "      <td>2.379733</td>\n",
              "      <td>3.036618</td>\n",
              "      <td>-3.618856</td>\n",
              "      <td>-2.961972</td>\n",
              "    </tr>\n",
              "    <tr>\n",
              "      <th>...</th>\n",
              "      <td>...</td>\n",
              "      <td>...</td>\n",
              "      <td>...</td>\n",
              "      <td>...</td>\n",
              "      <td>...</td>\n",
              "    </tr>\n",
              "    <tr>\n",
              "      <th>361</th>\n",
              "      <td>2020-04-05</td>\n",
              "      <td>2.053843</td>\n",
              "      <td>2.609683</td>\n",
              "      <td>-3.944746</td>\n",
              "      <td>-3.388906</td>\n",
              "    </tr>\n",
              "    <tr>\n",
              "      <th>362</th>\n",
              "      <td>2020-05-01</td>\n",
              "      <td>4.069700</td>\n",
              "      <td>6.172795</td>\n",
              "      <td>-1.928890</td>\n",
              "      <td>0.174206</td>\n",
              "    </tr>\n",
              "    <tr>\n",
              "      <th>363</th>\n",
              "      <td>2020-10-25</td>\n",
              "      <td>2.340273</td>\n",
              "      <td>3.510834</td>\n",
              "      <td>-3.658316</td>\n",
              "      <td>-2.487756</td>\n",
              "    </tr>\n",
              "    <tr>\n",
              "      <th>364</th>\n",
              "      <td>2020-12-28</td>\n",
              "      <td>5.297158</td>\n",
              "      <td>6.121226</td>\n",
              "      <td>-0.701431</td>\n",
              "      <td>0.122637</td>\n",
              "    </tr>\n",
              "    <tr>\n",
              "      <th>365</th>\n",
              "      <td>2020-12-19</td>\n",
              "      <td>3.538291</td>\n",
              "      <td>4.003067</td>\n",
              "      <td>-2.460298</td>\n",
              "      <td>-1.995522</td>\n",
              "    </tr>\n",
              "  </tbody>\n",
              "</table>\n",
              "<p>366 rows × 5 columns</p>\n",
              "</div>"
            ],
            "text/plain": [
              "           date  top20_perc  bottom20_perc  top20_deviation  bottom20_deviation\n",
              "0    2020-02-26    9.570720       4.370398         3.572131           -1.628191\n",
              "1    2020-04-13    3.230145       4.072505        -2.768444           -1.926084\n",
              "2    2020-06-24    3.839379       3.734758        -2.159210           -2.263832\n",
              "3    2020-06-08    3.947207       2.657462        -2.051383           -3.341128\n",
              "4    2020-09-12    2.379733       3.036618        -3.618856           -2.961972\n",
              "..          ...         ...            ...              ...                 ...\n",
              "361  2020-04-05    2.053843       2.609683        -3.944746           -3.388906\n",
              "362  2020-05-01    4.069700       6.172795        -1.928890            0.174206\n",
              "363  2020-10-25    2.340273       3.510834        -3.658316           -2.487756\n",
              "364  2020-12-28    5.297158       6.121226        -0.701431            0.122637\n",
              "365  2020-12-19    3.538291       4.003067        -2.460298           -1.995522\n",
              "\n",
              "[366 rows x 5 columns]"
            ]
          },
          "metadata": {
            "tags": []
          },
          "execution_count": 24
        },
        {
          "output_type": "stream",
          "text": [
            "time: 4min 3s (started: 2021-04-22 02:06:49 +00:00)\n"
          ],
          "name": "stdout"
        }
      ]
    },
    {
      "cell_type": "code",
      "metadata": {
        "colab": {
          "base_uri": "https://localhost:8080/"
        },
        "id": "MtFPRkkEZtzL",
        "outputId": "8d85f1c8-fbc7-4bca-a1b8-56007d2b1d01"
      },
      "source": [
        "df = df.rename(columns={'top20_perc': 'Top 20 %', 'bottom20_perc': 'Bottom 20 %','top20_deviation': 'Top 20 % Deviation', 'bottom20_deviation': 'Bottom 20 % Deviation'})"
      ],
      "execution_count": null,
      "outputs": [
        {
          "output_type": "stream",
          "text": [
            "time: 2.97 ms (started: 2021-04-22 02:10:53 +00:00)\n"
          ],
          "name": "stdout"
        }
      ]
    },
    {
      "cell_type": "code",
      "metadata": {
        "colab": {
          "base_uri": "https://localhost:8080/",
          "height": 385
        },
        "id": "pTTAkF1Iwesw",
        "outputId": "9405ddfa-0e60-4d28-f5c2-8520d2483ee8"
      },
      "source": [
        "# analysis for the entire year on monthly basis\n",
        "df_str = df.copy(deep=True) #make a deep copy\n",
        "\n",
        "df_str['date'] = pd.to_datetime(df_str['date'],utc= True) # extract the months\n",
        "\n",
        "df_str = df_str.groupby([df_str['date']]).mean().rolling(10).mean()[0:] #find the mean for the days and roll up for every 10 days\n",
        "\n",
        "chart = alt.Chart(df_str.reset_index()).transform_fold(\n",
        "    fold=['Bottom 20 %', 'Top 20 %'],\n",
        "    as_ = ['Poverty %','full_time_percentage']\n",
        "    \n",
        "    ).mark_line().encode(\n",
        "      x='date:T',\n",
        "      y= alt.Y('full_time_percentage:Q', title = 'Full Time %'), color='Poverty %:N'\n",
        "    ).properties(width = 1000)\n",
        "chart"
      ],
      "execution_count": null,
      "outputs": [
        {
          "output_type": "execute_result",
          "data": {
            "text/plain": [
              "alt.Chart(...)"
            ],
            "text/html": [
              "\n",
              "<div id=\"altair-viz-172ddaa70a684555aed2a0b0e6a38736\"></div>\n",
              "<script type=\"text/javascript\">\n",
              "  (function(spec, embedOpt){\n",
              "    let outputDiv = document.currentScript.previousElementSibling;\n",
              "    if (outputDiv.id !== \"altair-viz-172ddaa70a684555aed2a0b0e6a38736\") {\n",
              "      outputDiv = document.getElementById(\"altair-viz-172ddaa70a684555aed2a0b0e6a38736\");\n",
              "    }\n",
              "    const paths = {\n",
              "      \"vega\": \"https://cdn.jsdelivr.net/npm//vega@5?noext\",\n",
              "      \"vega-lib\": \"https://cdn.jsdelivr.net/npm//vega-lib?noext\",\n",
              "      \"vega-lite\": \"https://cdn.jsdelivr.net/npm//vega-lite@4.8.1?noext\",\n",
              "      \"vega-embed\": \"https://cdn.jsdelivr.net/npm//vega-embed@6?noext\",\n",
              "    };\n",
              "\n",
              "    function loadScript(lib) {\n",
              "      return new Promise(function(resolve, reject) {\n",
              "        var s = document.createElement('script');\n",
              "        s.src = paths[lib];\n",
              "        s.async = true;\n",
              "        s.onload = () => resolve(paths[lib]);\n",
              "        s.onerror = () => reject(`Error loading script: ${paths[lib]}`);\n",
              "        document.getElementsByTagName(\"head\")[0].appendChild(s);\n",
              "      });\n",
              "    }\n",
              "\n",
              "    function showError(err) {\n",
              "      outputDiv.innerHTML = `<div class=\"error\" style=\"color:red;\">${err}</div>`;\n",
              "      throw err;\n",
              "    }\n",
              "\n",
              "    function displayChart(vegaEmbed) {\n",
              "      vegaEmbed(outputDiv, spec, embedOpt)\n",
              "        .catch(err => showError(`Javascript Error: ${err.message}<br>This usually means there's a typo in your chart specification. See the javascript console for the full traceback.`));\n",
              "    }\n",
              "\n",
              "    if(typeof define === \"function\" && define.amd) {\n",
              "      requirejs.config({paths});\n",
              "      require([\"vega-embed\"], displayChart, err => showError(`Error loading script: ${err.message}`));\n",
              "    } else if (typeof vegaEmbed === \"function\") {\n",
              "      displayChart(vegaEmbed);\n",
              "    } else {\n",
              "      loadScript(\"vega\")\n",
              "        .then(() => loadScript(\"vega-lite\"))\n",
              "        .then(() => loadScript(\"vega-embed\"))\n",
              "        .catch(showError)\n",
              "        .then(() => displayChart(vegaEmbed));\n",
              "    }\n",
              "  })({\"config\": {\"view\": {\"continuousHeight\": 300, \"continuousWidth\": 400}, \"range\": {\"category\": {\"scheme\": [\"#FF4500\", \"#a0aab4\", \"#4E79A7\"]}}}, \"data\": {\"name\": \"data-5ace878f6975ad52751512e86ca3eb3a\"}, \"mark\": \"line\", \"encoding\": {\"color\": {\"type\": \"nominal\", \"field\": \"Poverty %\"}, \"x\": {\"type\": \"temporal\", \"field\": \"date\"}, \"y\": {\"type\": \"quantitative\", \"field\": \"full_time_percentage\", \"title\": \"Full Time %\"}}, \"transform\": [{\"fold\": [\"Bottom 20 %\", \"Top 20 %\"], \"as\": [\"Poverty %\", \"full_time_percentage\"]}], \"width\": 1000, \"$schema\": \"https://vega.github.io/schema/vega-lite/v4.8.1.json\", \"datasets\": {\"data-5ace878f6975ad52751512e86ca3eb3a\": [{\"date\": \"2020-01-01T00:00:00+00:00\", \"Top 20 %\": null, \"Bottom 20 %\": null, \"Top 20 % Deviation\": null, \"Bottom 20 % Deviation\": null}, {\"date\": \"2020-01-02T00:00:00+00:00\", \"Top 20 %\": null, \"Bottom 20 %\": null, \"Top 20 % Deviation\": null, \"Bottom 20 % Deviation\": null}, {\"date\": \"2020-01-03T00:00:00+00:00\", \"Top 20 %\": null, \"Bottom 20 %\": null, \"Top 20 % Deviation\": null, \"Bottom 20 % Deviation\": null}, {\"date\": \"2020-01-04T00:00:00+00:00\", \"Top 20 %\": null, \"Bottom 20 %\": null, \"Top 20 % Deviation\": null, \"Bottom 20 % Deviation\": null}, {\"date\": \"2020-01-05T00:00:00+00:00\", \"Top 20 %\": null, \"Bottom 20 %\": null, \"Top 20 % Deviation\": null, \"Bottom 20 % Deviation\": null}, {\"date\": \"2020-01-06T00:00:00+00:00\", \"Top 20 %\": null, \"Bottom 20 %\": null, \"Top 20 % Deviation\": null, \"Bottom 20 % Deviation\": null}, {\"date\": \"2020-01-07T00:00:00+00:00\", \"Top 20 %\": null, \"Bottom 20 %\": null, \"Top 20 % Deviation\": null, \"Bottom 20 % Deviation\": null}, {\"date\": \"2020-01-08T00:00:00+00:00\", \"Top 20 %\": null, \"Bottom 20 %\": null, \"Top 20 % Deviation\": null, \"Bottom 20 % Deviation\": null}, {\"date\": \"2020-01-09T00:00:00+00:00\", \"Top 20 %\": null, \"Bottom 20 %\": null, \"Top 20 % Deviation\": null, \"Bottom 20 % Deviation\": null}, {\"date\": \"2020-01-10T00:00:00+00:00\", \"Top 20 %\": 8.591685373815974, \"Bottom 20 %\": 5.894882260010148, \"Top 20 % Deviation\": 2.593095950699069, \"Bottom 20 % Deviation\": -0.10370716310675902}, {\"date\": \"2020-01-11T00:00:00+00:00\", \"Top 20 %\": 8.742907287101994, \"Bottom 20 %\": 6.053527970741368, \"Top 20 % Deviation\": 2.7443178639850894, \"Bottom 20 % Deviation\": 0.05493854762446171}, {\"date\": \"2020-01-12T00:00:00+00:00\", \"Top 20 %\": 8.286439235091423, \"Bottom 20 %\": 6.0038651930692835, \"Top 20 % Deviation\": 2.2878498119745188, \"Bottom 20 % Deviation\": 0.0052757699523777735}, {\"date\": \"2020-01-13T00:00:00+00:00\", \"Top 20 %\": 8.889476257708788, \"Bottom 20 %\": 6.365783789836746, \"Top 20 % Deviation\": 2.8908868345918832, \"Bottom 20 % Deviation\": 0.3671943667198401}, {\"date\": \"2020-01-14T00:00:00+00:00\", \"Top 20 %\": 9.9266965545924, \"Bottom 20 %\": 6.876990152068648, \"Top 20 % Deviation\": 3.928107131475495, \"Bottom 20 % Deviation\": 0.8784007289517417}, {\"date\": \"2020-01-15T00:00:00+00:00\", \"Top 20 %\": 10.884459006301876, \"Bottom 20 %\": 7.53466639176265, \"Top 20 % Deviation\": 4.885869583184972, \"Bottom 20 % Deviation\": 1.536076968645744}, {\"date\": \"2020-01-16T00:00:00+00:00\", \"Top 20 %\": 11.08844579821409, \"Bottom 20 %\": 7.589137660635539, \"Top 20 % Deviation\": 5.089856375097186, \"Bottom 20 % Deviation\": 1.590548237518633}, {\"date\": \"2020-01-17T00:00:00+00:00\", \"Top 20 %\": 10.943878591650137, \"Bottom 20 %\": 7.122622601533758, \"Top 20 % Deviation\": 4.9452891685332325, \"Bottom 20 % Deviation\": 1.1240331784168518}, {\"date\": \"2020-01-18T00:00:00+00:00\", \"Top 20 %\": 9.989976425280286, \"Bottom 20 %\": 6.63672495518127, \"Top 20 % Deviation\": 3.9913870021633833, \"Bottom 20 % Deviation\": 0.6381355320643655}, {\"date\": \"2020-01-19T00:00:00+00:00\", \"Top 20 %\": 9.030036243901034, \"Bottom 20 %\": 6.448907738591702, \"Top 20 % Deviation\": 3.031446820784132, \"Bottom 20 % Deviation\": 0.4503183154747957}, {\"date\": \"2020-01-20T00:00:00+00:00\", \"Top 20 %\": 8.503978519000515, \"Bottom 20 %\": 6.112535907330079, \"Top 20 % Deviation\": 2.5053890958836122, \"Bottom 20 % Deviation\": 0.11394648421317308}, {\"date\": \"2020-01-21T00:00:00+00:00\", \"Top 20 %\": 9.517389247784298, \"Bottom 20 %\": 6.576216328064459, \"Top 20 % Deviation\": 3.518799824667396, \"Bottom 20 % Deviation\": 0.5776269049475538}, {\"date\": \"2020-01-22T00:00:00+00:00\", \"Top 20 %\": 10.542438704618274, \"Bottom 20 %\": 7.161024769741923, \"Top 20 % Deviation\": 4.5438492815013705, \"Bottom 20 % Deviation\": 1.1624353466250166}, {\"date\": \"2020-01-23T00:00:00+00:00\", \"Top 20 %\": 10.636952971389091, \"Bottom 20 %\": 7.454872358861268, \"Top 20 % Deviation\": 4.638363548272189, \"Bottom 20 % Deviation\": 1.4562829357443605}, {\"date\": \"2020-01-24T00:00:00+00:00\", \"Top 20 %\": 10.45802098162309, \"Bottom 20 %\": 7.5237144657941855, \"Top 20 % Deviation\": 4.459431558506189, \"Bottom 20 % Deviation\": 1.525125042677279}, {\"date\": \"2020-01-25T00:00:00+00:00\", \"Top 20 %\": 9.531263200180797, \"Bottom 20 %\": 6.709824379250465, \"Top 20 % Deviation\": 3.532673777063895, \"Bottom 20 % Deviation\": 0.7112349561335586}, {\"date\": \"2020-01-26T00:00:00+00:00\", \"Top 20 %\": 8.435796306089653, \"Bottom 20 %\": 6.318336085778956, \"Top 20 % Deviation\": 2.4372068829727516, \"Bottom 20 % Deviation\": 0.3197466626620497}, {\"date\": \"2020-01-27T00:00:00+00:00\", \"Top 20 %\": 8.647168009143247, \"Bottom 20 %\": 6.599394081961464, \"Top 20 % Deviation\": 2.6485785860263453, \"Bottom 20 % Deviation\": 0.6008046588445575}, {\"date\": \"2020-01-28T00:00:00+00:00\", \"Top 20 %\": 9.72612195309372, \"Bottom 20 %\": 7.40780750112298, \"Top 20 % Deviation\": 3.7275325299768185, \"Bottom 20 % Deviation\": 1.4092180780060735}, {\"date\": \"2020-01-29T00:00:00+00:00\", \"Top 20 %\": 10.71419366278242, \"Bottom 20 %\": 7.814699761645391, \"Top 20 % Deviation\": 4.7156042396655184, \"Bottom 20 % Deviation\": 1.8161103385284847}, {\"date\": \"2020-01-30T00:00:00+00:00\", \"Top 20 %\": 11.414453381068602, \"Bottom 20 %\": 8.230666398091278, \"Top 20 % Deviation\": 5.415863957951699, \"Bottom 20 % Deviation\": 2.2320769749743716}, {\"date\": \"2020-01-31T00:00:00+00:00\", \"Top 20 %\": 11.201988230405641, \"Bottom 20 %\": 8.051048512987947, \"Top 20 % Deviation\": 5.203398807288738, \"Bottom 20 % Deviation\": 2.0524590898710406}, {\"date\": \"2020-02-01T00:00:00+00:00\", \"Top 20 %\": 10.223966170034839, \"Bottom 20 %\": 7.387632521000116, \"Top 20 % Deviation\": 4.225376746917936, \"Bottom 20 % Deviation\": 1.3890430978832098}, {\"date\": \"2020-02-02T00:00:00+00:00\", \"Top 20 %\": 9.11053753927402, \"Bottom 20 %\": 6.58208193936058, \"Top 20 % Deviation\": 3.1119481161571168, \"Bottom 20 % Deviation\": 0.583492516243675}, {\"date\": \"2020-02-03T00:00:00+00:00\", \"Top 20 %\": 9.01089848943316, \"Bottom 20 %\": 6.2093507643043555, \"Top 20 % Deviation\": 3.0123090663162566, \"Bottom 20 % Deviation\": 0.21076134118744988}, {\"date\": \"2020-02-04T00:00:00+00:00\", \"Top 20 %\": 9.963679607584298, \"Bottom 20 %\": 6.66678714555934, \"Top 20 % Deviation\": 3.965090184467395, \"Bottom 20 % Deviation\": 0.6681977224424347}, {\"date\": \"2020-02-05T00:00:00+00:00\", \"Top 20 %\": 10.87607015742725, \"Bottom 20 %\": 6.99744191280502, \"Top 20 % Deviation\": 4.877480734310349, \"Bottom 20 % Deviation\": 0.998852489688115}, {\"date\": \"2020-02-06T00:00:00+00:00\", \"Top 20 %\": 10.825400251644457, \"Bottom 20 %\": 6.74352438354467, \"Top 20 % Deviation\": 4.826810828527556, \"Bottom 20 % Deviation\": 0.7449349604277655}, {\"date\": \"2020-02-07T00:00:00+00:00\", \"Top 20 %\": 10.399999095221826, \"Bottom 20 %\": 6.344478830984469, \"Top 20 % Deviation\": 4.401409672104924, \"Bottom 20 % Deviation\": 0.34588940786756517}, {\"date\": \"2020-02-08T00:00:00+00:00\", \"Top 20 %\": 9.46041415255349, \"Bottom 20 %\": 5.910308945886225, \"Top 20 % Deviation\": 3.461824729436587, \"Bottom 20 % Deviation\": -0.08828047723067974}, {\"date\": \"2020-02-09T00:00:00+00:00\", \"Top 20 %\": 8.34678048183872, \"Bottom 20 %\": 5.117957578756152, \"Top 20 % Deviation\": 2.3481910587218175, \"Bottom 20 % Deviation\": -0.880631844360753}, {\"date\": \"2020-02-10T00:00:00+00:00\", \"Top 20 %\": 8.37142744522746, \"Bottom 20 %\": 5.069800806587816, \"Top 20 % Deviation\": 2.3728380221105576, \"Bottom 20 % Deviation\": -0.9287886165290885}, {\"date\": \"2020-02-11T00:00:00+00:00\", \"Top 20 %\": 9.322033342424723, \"Bottom 20 %\": 5.718590925271232, \"Top 20 % Deviation\": 3.3234439193078193, \"Bottom 20 % Deviation\": -0.27999849784567277}, {\"date\": \"2020-02-12T00:00:00+00:00\", \"Top 20 %\": 10.248283065854727, \"Bottom 20 %\": 6.010957957662841, \"Top 20 % Deviation\": 4.2496936427378245, \"Bottom 20 % Deviation\": 0.012368534545935983}, {\"date\": \"2020-02-13T00:00:00+00:00\", \"Top 20 %\": 10.279563651269113, \"Bottom 20 %\": 6.182235846421541, \"Top 20 % Deviation\": 4.28097422815221, \"Bottom 20 % Deviation\": 0.18364642330463665}, {\"date\": \"2020-02-14T00:00:00+00:00\", \"Top 20 %\": 9.904780873624581, \"Bottom 20 %\": 5.914865425994836, \"Top 20 % Deviation\": 3.906191450507678, \"Bottom 20 % Deviation\": -0.0837239971220689}, {\"date\": \"2020-02-15T00:00:00+00:00\", \"Top 20 %\": 9.055632821246208, \"Bottom 20 %\": 5.7092098019710775, \"Top 20 % Deviation\": 3.057043398129304, \"Bottom 20 % Deviation\": -0.2893796211458272}, {\"date\": \"2020-02-16T00:00:00+00:00\", \"Top 20 %\": 8.03325084082661, \"Bottom 20 %\": 5.326075408618684, \"Top 20 % Deviation\": 2.0346614177097067, \"Bottom 20 % Deviation\": -0.6725140144982205}, {\"date\": \"2020-02-17T00:00:00+00:00\", \"Top 20 %\": 7.679901587947086, \"Bottom 20 %\": 5.036635551116995, \"Top 20 % Deviation\": 1.6813121648301823, \"Bottom 20 % Deviation\": -0.9619538719999096}, {\"date\": \"2020-02-18T00:00:00+00:00\", \"Top 20 %\": 8.63853220451843, \"Bottom 20 %\": 5.201150974762958, \"Top 20 % Deviation\": 2.639942781401528, \"Bottom 20 % Deviation\": -0.797438448353947}, {\"date\": \"2020-02-19T00:00:00+00:00\", \"Top 20 %\": 9.558283570600016, \"Bottom 20 %\": 5.620397706551644, \"Top 20 % Deviation\": 3.559694147483114, \"Bottom 20 % Deviation\": -0.37819171656526}, {\"date\": \"2020-02-20T00:00:00+00:00\", \"Top 20 %\": 9.599792567172575, \"Bottom 20 %\": 5.719036134054919, \"Top 20 % Deviation\": 3.6012031440556713, \"Bottom 20 % Deviation\": -0.27955328906198496}, {\"date\": \"2020-02-21T00:00:00+00:00\", \"Top 20 %\": 9.397526187163301, \"Bottom 20 %\": 5.428468292721087, \"Top 20 % Deviation\": 3.3989367640463994, \"Bottom 20 % Deviation\": -0.5701211303958168}, {\"date\": \"2020-02-22T00:00:00+00:00\", \"Top 20 %\": 8.55821598025241, \"Bottom 20 %\": 5.247766004189115, \"Top 20 % Deviation\": 2.559626557135508, \"Bottom 20 % Deviation\": -0.7508234189277888}, {\"date\": \"2020-02-23T00:00:00+00:00\", \"Top 20 %\": 7.738273000426507, \"Bottom 20 %\": 4.972132112104331, \"Top 20 % Deviation\": 1.7396835773096058, \"Bottom 20 % Deviation\": -1.0264573110125734}, {\"date\": \"2020-02-24T00:00:00+00:00\", \"Top 20 %\": 8.038724243910226, \"Bottom 20 %\": 5.330669919515559, \"Top 20 % Deviation\": 2.040134820793324, \"Bottom 20 % Deviation\": -0.6679195036013456}, {\"date\": \"2020-02-25T00:00:00+00:00\", \"Top 20 %\": 8.315236762826755, \"Bottom 20 %\": 5.210632502913919, \"Top 20 % Deviation\": 2.316647339709855, \"Bottom 20 % Deviation\": -0.7879569202029852}, {\"date\": \"2020-02-26T00:00:00+00:00\", \"Top 20 %\": 9.005232402961685, \"Bottom 20 %\": 5.388197915040491, \"Top 20 % Deviation\": 3.0066429798447842, \"Bottom 20 % Deviation\": -0.6103915080764127}, {\"date\": \"2020-02-27T00:00:00+00:00\", \"Top 20 %\": 9.525973935450597, \"Bottom 20 %\": 5.714009076794462, \"Top 20 % Deviation\": 3.527384512333698, \"Bottom 20 % Deviation\": -0.28458034632244217}, {\"date\": \"2020-02-28T00:00:00+00:00\", \"Top 20 %\": 9.176822796180451, \"Bottom 20 %\": 5.863441356445436, \"Top 20 % Deviation\": 3.178233373063552, \"Bottom 20 % Deviation\": -0.13514806667146892}, {\"date\": \"2020-02-29T00:00:00+00:00\", \"Top 20 %\": 8.356642064254611, \"Bottom 20 %\": 5.60520578846021, \"Top 20 % Deviation\": 2.3580526411377107, \"Bottom 20 % Deviation\": -0.39338363465669457}, {\"date\": \"2020-03-01T00:00:00+00:00\", \"Top 20 %\": 7.396969934864525, \"Bottom 20 %\": 5.211505809179771, \"Top 20 % Deviation\": 1.3983805117476258, \"Bottom 20 % Deviation\": -0.7870836139371342}, {\"date\": \"2020-03-02T00:00:00+00:00\", \"Top 20 %\": 7.334527493340628, \"Bottom 20 %\": 5.26929294492674, \"Top 20 % Deviation\": 1.3359380702237291, \"Bottom 20 % Deviation\": -0.7292964781901649}, {\"date\": \"2020-03-03T00:00:00+00:00\", \"Top 20 %\": 8.198379861140094, \"Bottom 20 %\": 5.869690269022891, \"Top 20 % Deviation\": 2.1997904380231934, \"Bottom 20 % Deviation\": -0.1288991540940137}, {\"date\": \"2020-03-04T00:00:00+00:00\", \"Top 20 %\": 9.07567402724004, \"Bottom 20 %\": 6.382799982031569, \"Top 20 % Deviation\": 3.0770846041231414, \"Bottom 20 % Deviation\": 0.38421055891466416}, {\"date\": \"2020-03-05T00:00:00+00:00\", \"Top 20 %\": 8.977966933853807, \"Bottom 20 %\": 6.114173966382081, \"Top 20 % Deviation\": 2.979377510736908, \"Bottom 20 % Deviation\": 0.11558454326517778}, {\"date\": \"2020-03-06T00:00:00+00:00\", \"Top 20 %\": 9.312832941647747, \"Bottom 20 %\": 6.086819891640042, \"Top 20 % Deviation\": 3.314243518530847, \"Bottom 20 % Deviation\": 0.0882304685231384}, {\"date\": \"2020-03-07T00:00:00+00:00\", \"Top 20 %\": 8.756069463440323, \"Bottom 20 %\": 6.208092160712271, \"Top 20 % Deviation\": 2.757480040323424, \"Bottom 20 % Deviation\": 0.20950273759536797}, {\"date\": \"2020-03-08T00:00:00+00:00\", \"Top 20 %\": 7.853784738697636, \"Bottom 20 %\": 5.846661812826773, \"Top 20 % Deviation\": 1.8551953155807361, \"Bottom 20 % Deviation\": -0.1519276102901304}, {\"date\": \"2020-03-09T00:00:00+00:00\", \"Top 20 %\": 7.913155314970899, \"Bottom 20 %\": 5.810727893693043, \"Top 20 % Deviation\": 1.9145658918540005, \"Bottom 20 % Deviation\": -0.18786152942386175}, {\"date\": \"2020-03-10T00:00:00+00:00\", \"Top 20 %\": 8.6827748714511, \"Bottom 20 %\": 6.287177405970068, \"Top 20 % Deviation\": 2.684185448334202, \"Bottom 20 % Deviation\": 0.28858798285316467}, {\"date\": \"2020-03-11T00:00:00+00:00\", \"Top 20 %\": 9.523207139399975, \"Bottom 20 %\": 6.491457110006296, \"Top 20 % Deviation\": 3.5246177162830774, \"Bottom 20 % Deviation\": 0.49286768688939164}, {\"date\": \"2020-03-12T00:00:00+00:00\", \"Top 20 %\": 9.478652103131394, \"Bottom 20 %\": 6.15418461670537, \"Top 20 % Deviation\": 3.480062680014496, \"Bottom 20 % Deviation\": 0.15559519358846682}, {\"date\": \"2020-03-13T00:00:00+00:00\", \"Top 20 %\": 9.15060373272132, \"Bottom 20 %\": 5.741696721673167, \"Top 20 % Deviation\": 3.1520143096044224, \"Bottom 20 % Deviation\": -0.2568927014437366}, {\"date\": \"2020-03-14T00:00:00+00:00\", \"Top 20 %\": 8.216867832008692, \"Bottom 20 %\": 5.1396862994818004, \"Top 20 % Deviation\": 2.218278408891795, \"Bottom 20 % Deviation\": -0.8589031236351033}, {\"date\": \"2020-03-15T00:00:00+00:00\", \"Top 20 %\": 7.3337266909050385, \"Bottom 20 %\": 4.989334707301094, \"Top 20 % Deviation\": 1.33513726778814, \"Bottom 20 % Deviation\": -1.0092547158158096}, {\"date\": \"2020-03-16T00:00:00+00:00\", \"Top 20 %\": 6.945970497580018, \"Bottom 20 %\": 5.032820089252431, \"Top 20 % Deviation\": 0.9473810744631199, \"Bottom 20 % Deviation\": -0.9657693338644716}, {\"date\": \"2020-03-17T00:00:00+00:00\", \"Top 20 %\": 7.06177783920298, \"Bottom 20 %\": 4.863915617605734, \"Top 20 % Deviation\": 1.0631884160860825, \"Bottom 20 % Deviation\": -1.134673805511169}, {\"date\": \"2020-03-18T00:00:00+00:00\", \"Top 20 %\": 7.216688407253754, \"Bottom 20 %\": 4.740544835232162, \"Top 20 % Deviation\": 1.2180989841368552, \"Bottom 20 % Deviation\": -1.2580445878847406}, {\"date\": \"2020-03-19T00:00:00+00:00\", \"Top 20 %\": 6.596335777189483, \"Bottom 20 %\": 4.2647807849259385, \"Top 20 % Deviation\": 0.5977463540725834, \"Bottom 20 % Deviation\": -1.733808638190964}, {\"date\": \"2020-03-20T00:00:00+00:00\", \"Top 20 %\": 5.796401877803315, \"Bottom 20 %\": 3.784004245583353, \"Top 20 % Deviation\": -0.20218754531358568, \"Bottom 20 % Deviation\": -2.214585177533549}, {\"date\": \"2020-03-21T00:00:00+00:00\", \"Top 20 %\": 4.938243188706645, \"Bottom 20 %\": 3.579813471248818, \"Top 20 % Deviation\": -1.060346234410256, \"Bottom 20 % Deviation\": -2.418775951868085}, {\"date\": \"2020-03-22T00:00:00+00:00\", \"Top 20 %\": 4.23006023258411, \"Bottom 20 %\": 3.8758484478374675, \"Top 20 % Deviation\": -1.76852919053279, \"Bottom 20 % Deviation\": -2.1227409752794353}, {\"date\": \"2020-03-23T00:00:00+00:00\", \"Top 20 %\": 3.7428057445664584, \"Bottom 20 %\": 4.0292716128442, \"Top 20 % Deviation\": -2.2557836785504426, \"Bottom 20 % Deviation\": -1.9693178102727036}, {\"date\": \"2020-03-24T00:00:00+00:00\", \"Top 20 %\": 3.8308532399580484, \"Bottom 20 %\": 4.251792291121037, \"Top 20 % Deviation\": -2.167736183158852, \"Bottom 20 % Deviation\": -1.746797131995867}, {\"date\": \"2020-03-25T00:00:00+00:00\", \"Top 20 %\": 3.9665296075940772, \"Bottom 20 %\": 4.1898162057489445, \"Top 20 % Deviation\": -2.0320598155228238, \"Bottom 20 % Deviation\": -1.8087732173679592}, {\"date\": \"2020-03-26T00:00:00+00:00\", \"Top 20 %\": 3.732753557676965, \"Bottom 20 %\": 4.2430171986310015, \"Top 20 % Deviation\": -2.2658358654399366, \"Bottom 20 % Deviation\": -1.755572224485902}, {\"date\": \"2020-03-27T00:00:00+00:00\", \"Top 20 %\": 3.571334132558164, \"Bottom 20 %\": 4.271282055889398, \"Top 20 % Deviation\": -2.4272552905587377, \"Bottom 20 % Deviation\": -1.727307367227505}, {\"date\": \"2020-03-28T00:00:00+00:00\", \"Top 20 %\": 3.403577697299906, \"Bottom 20 %\": 4.420202724737911, \"Top 20 % Deviation\": -2.595011725816995, \"Bottom 20 % Deviation\": -1.578386698378992}, {\"date\": \"2020-03-29T00:00:00+00:00\", \"Top 20 %\": 3.176991626744967, \"Bottom 20 %\": 4.413599419977654, \"Top 20 % Deviation\": -2.821597796371934, \"Bottom 20 % Deviation\": -1.5849900031392496}, {\"date\": \"2020-03-30T00:00:00+00:00\", \"Top 20 %\": 3.223914195680097, \"Bottom 20 %\": 4.464401170714327, \"Top 20 % Deviation\": -2.7746752274368034, \"Bottom 20 % Deviation\": -1.5341882524025767}, {\"date\": \"2020-03-31T00:00:00+00:00\", \"Top 20 %\": 3.339012173555571, \"Bottom 20 %\": 4.406117115929294, \"Top 20 % Deviation\": -2.6595772495613295, \"Bottom 20 % Deviation\": -1.5924723071876101}, {\"date\": \"2020-04-01T00:00:00+00:00\", \"Top 20 %\": 3.360700566238094, \"Bottom 20 %\": 4.0275103631331435, \"Top 20 % Deviation\": -2.637888856878807, \"Bottom 20 % Deviation\": -1.9710790599837602}, {\"date\": \"2020-04-02T00:00:00+00:00\", \"Top 20 %\": 3.29495980169922, \"Bottom 20 %\": 3.727103451884125, \"Top 20 % Deviation\": -2.7036296214176816, \"Bottom 20 % Deviation\": -2.2714859712327784}, {\"date\": \"2020-04-03T00:00:00+00:00\", \"Top 20 %\": 3.23918845428054, \"Bottom 20 %\": 3.5107353190721478, \"Top 20 % Deviation\": -2.7594009688363617, \"Bottom 20 % Deviation\": -2.487854104044756}, {\"date\": \"2020-04-04T00:00:00+00:00\", \"Top 20 %\": 3.1072065168946517, \"Bottom 20 %\": 3.533389568353548, \"Top 20 % Deviation\": -2.89138290622225, \"Bottom 20 % Deviation\": -2.4651998547633553}, {\"date\": \"2020-04-05T00:00:00+00:00\", \"Top 20 %\": 2.9331496967645827, \"Bottom 20 %\": 3.3389537488802645, \"Top 20 % Deviation\": -3.0654397263523188, \"Bottom 20 % Deviation\": -2.6596356742366387}, {\"date\": \"2020-04-06T00:00:00+00:00\", \"Top 20 %\": 2.9055210312288957, \"Bottom 20 %\": 3.1983930161093284, \"Top 20 % Deviation\": -3.093068391888006, \"Bottom 20 % Deviation\": -2.800196407007575}, {\"date\": \"2020-04-07T00:00:00+00:00\", \"Top 20 %\": 2.973336188917508, \"Bottom 20 %\": 3.104074452216909, \"Top 20 % Deviation\": -3.0252532341993934, \"Bottom 20 % Deviation\": -2.894514970899994}, {\"date\": \"2020-04-08T00:00:00+00:00\", \"Top 20 %\": 3.0786678412910233, \"Bottom 20 %\": 3.241607916502828, \"Top 20 % Deviation\": -2.9199215818258786, \"Bottom 20 % Deviation\": -2.7569815066140753}, {\"date\": \"2020-04-09T00:00:00+00:00\", \"Top 20 %\": 3.030866561738017, \"Bottom 20 %\": 3.201053204552592, \"Top 20 % Deviation\": -2.967722861378885, \"Bottom 20 % Deviation\": -2.7975362185643107}, {\"date\": \"2020-04-10T00:00:00+00:00\", \"Top 20 %\": 2.9317731345997884, \"Bottom 20 %\": 3.273612836143974, \"Top 20 % Deviation\": -3.066816288517114, \"Bottom 20 % Deviation\": -2.7249765869729283}, {\"date\": \"2020-04-11T00:00:00+00:00\", \"Top 20 %\": 2.860985813072655, \"Bottom 20 %\": 3.3000326488465697, \"Top 20 % Deviation\": -3.1376036100442475, \"Bottom 20 % Deviation\": -2.6985567742703327}, {\"date\": \"2020-04-12T00:00:00+00:00\", \"Top 20 %\": 2.754773854843709, \"Bottom 20 %\": 3.235707946240016, \"Top 20 % Deviation\": -3.243815568273193, \"Bottom 20 % Deviation\": -2.7628814768768866}, {\"date\": \"2020-04-13T00:00:00+00:00\", \"Top 20 %\": 2.7856230494060155, \"Bottom 20 %\": 3.339985745389059, \"Top 20 % Deviation\": -3.2129663737108864, \"Bottom 20 % Deviation\": -2.6586036777278435}, {\"date\": \"2020-04-14T00:00:00+00:00\", \"Top 20 %\": 2.880899435338714, \"Bottom 20 %\": 3.311970971056346, \"Top 20 % Deviation\": -3.1176899877781876, \"Bottom 20 % Deviation\": -2.6866184520605563}, {\"date\": \"2020-04-15T00:00:00+00:00\", \"Top 20 %\": 3.0761137841200847, \"Bottom 20 %\": 3.8244878690164823, \"Top 20 % Deviation\": -2.922475638996817, \"Bottom 20 % Deviation\": -2.17410155410042}, {\"date\": \"2020-04-16T00:00:00+00:00\", \"Top 20 %\": 3.097165447079892, \"Bottom 20 %\": 3.888189485158386, \"Top 20 % Deviation\": -2.90142397603701, \"Bottom 20 % Deviation\": -2.1103999379585168}, {\"date\": \"2020-04-17T00:00:00+00:00\", \"Top 20 %\": 3.116537550433663, \"Bottom 20 %\": 4.041852292560787, \"Top 20 % Deviation\": -2.882051872683239, \"Bottom 20 % Deviation\": -1.9567371305561156}, {\"date\": \"2020-04-18T00:00:00+00:00\", \"Top 20 %\": 3.0581432297687625, \"Bottom 20 %\": 3.974656490919956, \"Top 20 % Deviation\": -2.94044619334814, \"Bottom 20 % Deviation\": -2.0239329321969466}, {\"date\": \"2020-04-19T00:00:00+00:00\", \"Top 20 %\": 2.9974010489657963, \"Bottom 20 %\": 4.086310006601719, \"Top 20 % Deviation\": -3.0011883741511065, \"Bottom 20 % Deviation\": -1.9122794165151842}, {\"date\": \"2020-04-20T00:00:00+00:00\", \"Top 20 %\": 3.0103089872960065, \"Bottom 20 %\": 4.064637650499552, \"Top 20 % Deviation\": -2.9882804358208968, \"Bottom 20 % Deviation\": -1.9339517726173512}, {\"date\": \"2020-04-21T00:00:00+00:00\", \"Top 20 %\": 3.128024378001804, \"Bottom 20 %\": 4.417679823740155, \"Top 20 % Deviation\": -2.8705650451150992, \"Bottom 20 % Deviation\": -1.5809095993767488}, {\"date\": \"2020-04-22T00:00:00+00:00\", \"Top 20 %\": 3.2341476943226524, \"Bottom 20 %\": 4.542942556089274, \"Top 20 % Deviation\": -2.764441728794251, \"Bottom 20 % Deviation\": -1.4556468670276288}, {\"date\": \"2020-04-23T00:00:00+00:00\", \"Top 20 %\": 3.2649045129161287, \"Bottom 20 %\": 4.634877550372497, \"Top 20 % Deviation\": -2.7336849102007745, \"Bottom 20 % Deviation\": -1.3637118727444058}, {\"date\": \"2020-04-24T00:00:00+00:00\", \"Top 20 %\": 3.2701250878021177, \"Bottom 20 %\": 4.653379946278258, \"Top 20 % Deviation\": -2.7284643353147855, \"Bottom 20 % Deviation\": -1.345209476838646}, {\"date\": \"2020-04-25T00:00:00+00:00\", \"Top 20 %\": 3.1324020077733956, \"Bottom 20 %\": 4.193807178362277, \"Top 20 % Deviation\": -2.866187415343508, \"Bottom 20 % Deviation\": -1.8047822447546267}, {\"date\": \"2020-04-26T00:00:00+00:00\", \"Top 20 %\": 3.0278986966510617, \"Bottom 20 %\": 4.191727845976507, \"Top 20 % Deviation\": -2.9706907264658424, \"Bottom 20 % Deviation\": -1.8068615771403962}, {\"date\": \"2020-04-27T00:00:00+00:00\", \"Top 20 %\": 3.0171859149479268, \"Bottom 20 %\": 4.1188464835777845, \"Top 20 % Deviation\": -2.981403508168977, \"Bottom 20 % Deviation\": -1.8797429395391192}, {\"date\": \"2020-04-28T00:00:00+00:00\", \"Top 20 %\": 3.1092314867654265, \"Bottom 20 %\": 4.137274313422248, \"Top 20 % Deviation\": -2.889357936351477, \"Bottom 20 % Deviation\": -1.8613151096946559}, {\"date\": \"2020-04-29T00:00:00+00:00\", \"Top 20 %\": 3.1839066642344402, \"Bottom 20 %\": 3.955769858345408, \"Top 20 % Deviation\": -2.814682758882463, \"Bottom 20 % Deviation\": -2.0428195647714946}, {\"date\": \"2020-04-30T00:00:00+00:00\", \"Top 20 %\": 3.212903286465702, \"Bottom 20 %\": 3.934523682666702, \"Top 20 % Deviation\": -2.7856861366512016, \"Bottom 20 % Deviation\": -2.0640657404502014}, {\"date\": \"2020-05-01T00:00:00+00:00\", \"Top 20 %\": 3.263584419469064, \"Bottom 20 %\": 3.923669602017372, \"Top 20 % Deviation\": -2.735005003647839, \"Bottom 20 % Deviation\": -2.0749198210995314}, {\"date\": \"2020-05-02T00:00:00+00:00\", \"Top 20 %\": 3.181756908101228, \"Bottom 20 %\": 3.8034416195172995, \"Top 20 % Deviation\": -2.816832515015675, \"Bottom 20 % Deviation\": -2.195147803599604}, {\"date\": \"2020-05-03T00:00:00+00:00\", \"Top 20 %\": 3.067373586329866, \"Bottom 20 %\": 3.6257656599963966, \"Top 20 % Deviation\": -2.9312158367870373, \"Bottom 20 % Deviation\": -2.3728237631205067}, {\"date\": \"2020-05-04T00:00:00+00:00\", \"Top 20 %\": 3.0833521645754467, \"Bottom 20 %\": 3.649312553411596, \"Top 20 % Deviation\": -2.9152372585414565, \"Bottom 20 % Deviation\": -2.349276869705307}, {\"date\": \"2020-05-05T00:00:00+00:00\", \"Top 20 %\": 3.182611197028133, \"Bottom 20 %\": 3.671758295145824, \"Top 20 % Deviation\": -2.8159782260887694, \"Bottom 20 % Deviation\": -2.326831127971079}, {\"date\": \"2020-05-06T00:00:00+00:00\", \"Top 20 %\": 3.278861740195297, \"Bottom 20 %\": 3.761590685367152, \"Top 20 % Deviation\": -2.7197276829216053, \"Bottom 20 % Deviation\": -2.2369987377497513}, {\"date\": \"2020-05-07T00:00:00+00:00\", \"Top 20 %\": 3.359081923875602, \"Bottom 20 %\": 3.788528003755905, \"Top 20 % Deviation\": -2.639507499241301, \"Bottom 20 % Deviation\": -2.210061419360998}, {\"date\": \"2020-05-08T00:00:00+00:00\", \"Top 20 %\": 3.346008385676144, \"Bottom 20 %\": 3.752072672613129, \"Top 20 % Deviation\": -2.652581037440759, \"Bottom 20 % Deviation\": -2.2465167505037744}, {\"date\": \"2020-05-09T00:00:00+00:00\", \"Top 20 %\": 3.2605648044804796, \"Bottom 20 %\": 3.821087555244599, \"Top 20 % Deviation\": -2.7380246186364228, \"Bottom 20 % Deviation\": -2.1775018678723037}, {\"date\": \"2020-05-10T00:00:00+00:00\", \"Top 20 %\": 3.194908045627123, \"Bottom 20 %\": 3.927205567236976, \"Top 20 % Deviation\": -2.803681377489779, \"Bottom 20 % Deviation\": -2.071383855879927}, {\"date\": \"2020-05-11T00:00:00+00:00\", \"Top 20 %\": 3.1258463574647464, \"Bottom 20 %\": 3.61650956543658, \"Top 20 % Deviation\": -2.8727430656521555, \"Bottom 20 % Deviation\": -2.382079857680323}, {\"date\": \"2020-05-12T00:00:00+00:00\", \"Top 20 %\": 3.2475083472056796, \"Bottom 20 %\": 3.6952612376682183, \"Top 20 % Deviation\": -2.7510810759112223, \"Bottom 20 % Deviation\": -2.3033281854486845}, {\"date\": \"2020-05-13T00:00:00+00:00\", \"Top 20 %\": 3.3823537366663663, \"Bottom 20 %\": 3.770643795613857, \"Top 20 % Deviation\": -2.616235686450535, \"Bottom 20 % Deviation\": -2.2279456275030456}, {\"date\": \"2020-05-14T00:00:00+00:00\", \"Top 20 %\": 3.325831731506219, \"Bottom 20 %\": 3.782281100962016, \"Top 20 % Deviation\": -2.672757691610682, \"Bottom 20 % Deviation\": -2.216308322154887}, {\"date\": \"2020-05-15T00:00:00+00:00\", \"Top 20 %\": 3.310933175186123, \"Bottom 20 %\": 3.7356983643997994, \"Top 20 % Deviation\": -2.6876562479307786, \"Bottom 20 % Deviation\": -2.262891058717104}, {\"date\": \"2020-05-16T00:00:00+00:00\", \"Top 20 %\": 3.196840773708115, \"Bottom 20 %\": 3.7023707789647053, \"Top 20 % Deviation\": -2.801748649408786, \"Bottom 20 % Deviation\": -2.296218644152198}, {\"date\": \"2020-05-17T00:00:00+00:00\", \"Top 20 %\": 3.0294952042766012, \"Bottom 20 %\": 3.7140635870190133, \"Top 20 % Deviation\": -2.9690942188402993, \"Bottom 20 % Deviation\": -2.28452583609789}, {\"date\": \"2020-05-18T00:00:00+00:00\", \"Top 20 %\": 3.057866773236788, \"Bottom 20 %\": 3.6993320339821834, \"Top 20 % Deviation\": -2.9407226498801124, \"Bottom 20 % Deviation\": -2.299257389134719}, {\"date\": \"2020-05-19T00:00:00+00:00\", \"Top 20 %\": 3.134444872339999, \"Bottom 20 %\": 3.6701005907945814, \"Top 20 % Deviation\": -2.8641445507769014, \"Bottom 20 % Deviation\": -2.3284888323223214}, {\"date\": \"2020-05-20T00:00:00+00:00\", \"Top 20 %\": 3.2670468590765, \"Bottom 20 %\": 3.7240682951669584, \"Top 20 % Deviation\": -2.7315425640404007, \"Bottom 20 % Deviation\": -2.2745211279499444}, {\"date\": \"2020-05-21T00:00:00+00:00\", \"Top 20 %\": 3.2706165119117627, \"Bottom 20 %\": 3.8305345242892885, \"Top 20 % Deviation\": -2.727972911205137, \"Bottom 20 % Deviation\": -2.168054898827614}, {\"date\": \"2020-05-22T00:00:00+00:00\", \"Top 20 %\": 3.233206382080425, \"Bottom 20 %\": 3.8766331160069782, \"Top 20 % Deviation\": -2.7653830410364746, \"Bottom 20 % Deviation\": -2.1219563071099246}, {\"date\": \"2020-05-23T00:00:00+00:00\", \"Top 20 %\": 3.1114756994695165, \"Bottom 20 %\": 3.7885308939926032, \"Top 20 % Deviation\": -2.887113723647383, \"Bottom 20 % Deviation\": -2.2100585291243}, {\"date\": \"2020-05-24T00:00:00+00:00\", \"Top 20 %\": 3.0503507870033153, \"Bottom 20 %\": 3.803830061895647, \"Top 20 % Deviation\": -2.9482386361135844, \"Bottom 20 % Deviation\": -2.194759361221256}, {\"date\": \"2020-05-25T00:00:00+00:00\", \"Top 20 %\": 2.9479094278234745, \"Bottom 20 %\": 3.7912553042827555, \"Top 20 % Deviation\": -3.050679995293425, \"Bottom 20 % Deviation\": -2.2073341188341478}, {\"date\": \"2020-05-26T00:00:00+00:00\", \"Top 20 %\": 3.096237332156613, \"Bottom 20 %\": 3.796714770269406, \"Top 20 % Deviation\": -2.9023520909602873, \"Bottom 20 % Deviation\": -2.201874652847496}, {\"date\": \"2020-05-27T00:00:00+00:00\", \"Top 20 %\": 3.2226286885413797, \"Bottom 20 %\": 3.735839461556837, \"Top 20 % Deviation\": -2.7759607345755195, \"Bottom 20 % Deviation\": -2.2627499615600657}, {\"date\": \"2020-05-28T00:00:00+00:00\", \"Top 20 %\": 3.19187651349991, \"Bottom 20 %\": 3.7552780531924035, \"Top 20 % Deviation\": -2.80671290961699, \"Bottom 20 % Deviation\": -2.2433113699244993}, {\"date\": \"2020-05-29T00:00:00+00:00\", \"Top 20 %\": 3.1865154590830733, \"Bottom 20 %\": 3.739552376264469, \"Top 20 % Deviation\": -2.812073964033826, \"Bottom 20 % Deviation\": -2.2590370468524337}, {\"date\": \"2020-05-30T00:00:00+00:00\", \"Top 20 %\": 3.1032349879489565, \"Bottom 20 %\": 3.639254583533836, \"Top 20 % Deviation\": -2.895354435167943, \"Bottom 20 % Deviation\": -2.3593348395830667}, {\"date\": \"2020-05-31T00:00:00+00:00\", \"Top 20 %\": 2.998469474594396, \"Bottom 20 %\": 3.55388618325271, \"Top 20 % Deviation\": -3.000119948522504, \"Bottom 20 % Deviation\": -2.444703239864192}, {\"date\": \"2020-06-01T00:00:00+00:00\", \"Top 20 %\": 3.0682756957700636, \"Bottom 20 %\": 3.5458365727029237, \"Top 20 % Deviation\": -2.9303137273468356, \"Bottom 20 % Deviation\": -2.452752850413979}, {\"date\": \"2020-06-02T00:00:00+00:00\", \"Top 20 %\": 3.2029397966789985, \"Bottom 20 %\": 3.6873314371465455, \"Top 20 % Deviation\": -2.7956496264379007, \"Bottom 20 % Deviation\": -2.3112579859703564}, {\"date\": \"2020-06-03T00:00:00+00:00\", \"Top 20 %\": 3.344114134972176, \"Bottom 20 %\": 3.730867284888151, \"Top 20 % Deviation\": -2.654475288144723, \"Bottom 20 % Deviation\": -2.2677221382287516}, {\"date\": \"2020-06-04T00:00:00+00:00\", \"Top 20 %\": 3.551369616669515, \"Bottom 20 %\": 3.918425639491852, \"Top 20 % Deviation\": -2.4472198064473836, \"Bottom 20 % Deviation\": -2.0801637836250504}, {\"date\": \"2020-06-05T00:00:00+00:00\", \"Top 20 %\": 3.6067069268469387, \"Bottom 20 %\": 3.888795661232301, \"Top 20 % Deviation\": -2.3918824962699596, \"Bottom 20 % Deviation\": -2.1097937618846014}, {\"date\": \"2020-06-06T00:00:00+00:00\", \"Top 20 %\": 3.493529772455415, \"Bottom 20 %\": 3.825236424813719, \"Top 20 % Deviation\": -2.505059650661484, \"Bottom 20 % Deviation\": -2.173352998303183}, {\"date\": \"2020-06-07T00:00:00+00:00\", \"Top 20 %\": 3.398293150879565, \"Bottom 20 %\": 3.7130469820599834, \"Top 20 % Deviation\": -2.600296272237333, \"Bottom 20 % Deviation\": -2.2855424410569185}, {\"date\": \"2020-06-08T00:00:00+00:00\", \"Top 20 %\": 3.467014562359482, \"Bottom 20 %\": 3.6716559515727942, \"Top 20 % Deviation\": -2.5315748607574164, \"Bottom 20 % Deviation\": -2.326933471544108}, {\"date\": \"2020-06-09T00:00:00+00:00\", \"Top 20 %\": 3.6124820520764205, \"Bottom 20 %\": 3.7221055351737, \"Top 20 % Deviation\": -2.3861073710404783, \"Bottom 20 % Deviation\": -2.2764838879432028}, {\"date\": \"2020-06-10T00:00:00+00:00\", \"Top 20 %\": 3.7617375583809576, \"Bottom 20 %\": 3.8506858601486087, \"Top 20 % Deviation\": -2.236851864735941, \"Bottom 20 % Deviation\": -2.1479035629682945}, {\"date\": \"2020-06-11T00:00:00+00:00\", \"Top 20 %\": 3.7688904754092283, \"Bottom 20 %\": 3.981331805825648, \"Top 20 % Deviation\": -2.2296989477076705, \"Bottom 20 % Deviation\": -2.017257617291255}, {\"date\": \"2020-06-12T00:00:00+00:00\", \"Top 20 %\": 3.7104613666848287, \"Bottom 20 %\": 3.8031291154181646, \"Top 20 % Deviation\": -2.2881280564320705, \"Bottom 20 % Deviation\": -2.195460307698739}, {\"date\": \"2020-06-13T00:00:00+00:00\", \"Top 20 %\": 3.544151093546801, \"Bottom 20 %\": 3.601450924746259, \"Top 20 % Deviation\": -2.454438329570098, \"Bottom 20 % Deviation\": -2.397138498370644}, {\"date\": \"2020-06-14T00:00:00+00:00\", \"Top 20 %\": 3.299829550831814, \"Bottom 20 %\": 3.463483905412461, \"Top 20 % Deviation\": -2.6987598722850854, \"Bottom 20 % Deviation\": -2.5351055177044417}, {\"date\": \"2020-06-15T00:00:00+00:00\", \"Top 20 %\": 3.3319145280388556, \"Bottom 20 %\": 3.666072428556788, \"Top 20 % Deviation\": -2.6666748950780437, \"Bottom 20 % Deviation\": -2.3325169945601147}, {\"date\": \"2020-06-16T00:00:00+00:00\", \"Top 20 %\": 3.518011347236329, \"Bottom 20 %\": 3.8331034657661123, \"Top 20 % Deviation\": -2.48057807588057, \"Bottom 20 % Deviation\": -2.16548595735079}, {\"date\": \"2020-06-17T00:00:00+00:00\", \"Top 20 %\": 3.732095109185134, \"Bottom 20 %\": 4.1520698043531965, \"Top 20 % Deviation\": -2.2664943139317653, \"Bottom 20 % Deviation\": -1.8465196187637063}, {\"date\": \"2020-06-18T00:00:00+00:00\", \"Top 20 %\": 3.7815250038395716, \"Bottom 20 %\": 4.445512047957001, \"Top 20 % Deviation\": -2.2170644192773272, \"Bottom 20 % Deviation\": -1.553077375159901}, {\"date\": \"2020-06-19T00:00:00+00:00\", \"Top 20 %\": 3.7352061592936705, \"Bottom 20 %\": 4.7428389263146435, \"Top 20 % Deviation\": -2.2633832638232283, \"Bottom 20 % Deviation\": -1.2557504968022588}, {\"date\": \"2020-06-20T00:00:00+00:00\", \"Top 20 %\": 3.645211961373042, \"Bottom 20 %\": 4.787691090236171, \"Top 20 % Deviation\": -2.353377461743858, \"Bottom 20 % Deviation\": -1.2108983328807312}, {\"date\": \"2020-06-21T00:00:00+00:00\", \"Top 20 %\": 3.472430452847952, \"Bottom 20 %\": 4.536410198920379, \"Top 20 % Deviation\": -2.526158970268947, \"Bottom 20 % Deviation\": -1.462179224196523}, {\"date\": \"2020-06-22T00:00:00+00:00\", \"Top 20 %\": 3.5165617234225772, \"Bottom 20 %\": 4.560396671524356, \"Top 20 % Deviation\": -2.482027699694322, \"Bottom 20 % Deviation\": -1.4381927515925461}, {\"date\": \"2020-06-23T00:00:00+00:00\", \"Top 20 %\": 3.7001729161506276, \"Bottom 20 %\": 4.711791448941023, \"Top 20 % Deviation\": -2.298416506966272, \"Bottom 20 % Deviation\": -1.286797974175879}, {\"date\": \"2020-06-24T00:00:00+00:00\", \"Top 20 %\": 3.8763821690246125, \"Bottom 20 %\": 4.758475158600431, \"Top 20 % Deviation\": -2.122207254092287, \"Bottom 20 % Deviation\": -1.2401142645164707}, {\"date\": \"2020-06-25T00:00:00+00:00\", \"Top 20 %\": 3.786662498822376, \"Bottom 20 %\": 4.495686528717419, \"Top 20 % Deviation\": -2.2119269242945236, \"Bottom 20 % Deviation\": -1.5029028943994829}, {\"date\": \"2020-06-26T00:00:00+00:00\", \"Top 20 %\": 3.7180166766021445, \"Bottom 20 %\": 4.400678254320331, \"Top 20 % Deviation\": -2.2805727465147556, \"Bottom 20 % Deviation\": -1.597911168796571}, {\"date\": \"2020-06-27T00:00:00+00:00\", \"Top 20 %\": 3.5462209059089376, \"Bottom 20 %\": 4.154169687308515, \"Top 20 % Deviation\": -2.4523685172079626, \"Bottom 20 % Deviation\": -1.8444197358083865}, {\"date\": \"2020-06-28T00:00:00+00:00\", \"Top 20 %\": 3.3228339441030927, \"Bottom 20 %\": 3.930005148887537, \"Top 20 % Deviation\": -2.675755479013807, \"Bottom 20 % Deviation\": -2.068584274229366}, {\"date\": \"2020-06-29T00:00:00+00:00\", \"Top 20 %\": 3.3247127026432786, \"Bottom 20 %\": 3.6286156760815835, \"Top 20 % Deviation\": -2.673876720473621, \"Bottom 20 % Deviation\": -2.369973747035319}, {\"date\": \"2020-06-30T00:00:00+00:00\", \"Top 20 %\": 3.5143189030099813, \"Bottom 20 %\": 3.6299139811337717, \"Top 20 % Deviation\": -2.484270520106919, \"Bottom 20 % Deviation\": -2.3686754419831306}, {\"date\": \"2020-07-01T00:00:00+00:00\", \"Top 20 %\": 3.8194062918149214, \"Bottom 20 %\": 3.951982047280464, \"Top 20 % Deviation\": -2.1791831313019787, \"Bottom 20 % Deviation\": -2.0466073758364383}, {\"date\": \"2020-07-02T00:00:00+00:00\", \"Top 20 %\": 3.812761736970632, \"Bottom 20 %\": 3.9763064402908297, \"Top 20 % Deviation\": -2.1858276861462675, \"Bottom 20 % Deviation\": -2.0222829828260718}, {\"date\": \"2020-07-03T00:00:00+00:00\", \"Top 20 %\": 3.721017692860175, \"Bottom 20 %\": 3.925029665362331, \"Top 20 % Deviation\": -2.277571730256725, \"Bottom 20 % Deviation\": -2.0735597577545706}, {\"date\": \"2020-07-04T00:00:00+00:00\", \"Top 20 %\": 3.5863792174379086, \"Bottom 20 %\": 3.8489231130894206, \"Top 20 % Deviation\": -2.4122102056789907, \"Bottom 20 % Deviation\": -2.1496663100274813}, {\"date\": \"2020-07-05T00:00:00+00:00\", \"Top 20 %\": 3.4447285102341985, \"Bottom 20 %\": 3.8589357659503505, \"Top 20 % Deviation\": -2.5538609128827003, \"Bottom 20 % Deviation\": -2.1396536571665505}, {\"date\": \"2020-07-06T00:00:00+00:00\", \"Top 20 %\": 3.4498835570103763, \"Bottom 20 %\": 3.805407894177482, \"Top 20 % Deviation\": -2.5487058661065225, \"Bottom 20 % Deviation\": -2.193181528939419}, {\"date\": \"2020-07-07T00:00:00+00:00\", \"Top 20 %\": 3.6611149775531375, \"Bottom 20 %\": 3.796841989542448, \"Top 20 % Deviation\": -2.3374744455637613, \"Bottom 20 % Deviation\": -2.201747433574453}, {\"date\": \"2020-07-08T00:00:00+00:00\", \"Top 20 %\": 3.8673978170133774, \"Bottom 20 %\": 3.924500137727533, \"Top 20 % Deviation\": -2.1311916061035214, \"Bottom 20 % Deviation\": -2.074089285389368}, {\"date\": \"2020-07-09T00:00:00+00:00\", \"Top 20 %\": 3.8724765310782074, \"Bottom 20 %\": 3.8056798356813113, \"Top 20 % Deviation\": -2.1261128920386905, \"Bottom 20 % Deviation\": -2.19290958743559}, {\"date\": \"2020-07-10T00:00:00+00:00\", \"Top 20 %\": 3.774097790918199, \"Bottom 20 %\": 3.612573781331677, \"Top 20 % Deviation\": -2.2244916321986987, \"Bottom 20 % Deviation\": -2.386015641785225}, {\"date\": \"2020-07-11T00:00:00+00:00\", \"Top 20 %\": 3.492624740525187, \"Bottom 20 %\": 3.430264929079616, \"Top 20 % Deviation\": -2.505964682591711, \"Bottom 20 % Deviation\": -2.5683244940372854}, {\"date\": \"2020-07-12T00:00:00+00:00\", \"Top 20 %\": 3.3766429315770083, \"Bottom 20 %\": 3.5045747052595644, \"Top 20 % Deviation\": -2.62194649153989, \"Bottom 20 % Deviation\": -2.494014717857337}, {\"date\": \"2020-07-13T00:00:00+00:00\", \"Top 20 %\": 3.4615511927481846, \"Bottom 20 %\": 3.5024135476156375, \"Top 20 % Deviation\": -2.537038230368714, \"Bottom 20 % Deviation\": -2.4961758755012644}, {\"date\": \"2020-07-14T00:00:00+00:00\", \"Top 20 %\": 3.651958811641009, \"Bottom 20 %\": 3.577598445960038, \"Top 20 % Deviation\": -2.346630611475889, \"Bottom 20 % Deviation\": -2.420990977156864}, {\"date\": \"2020-07-15T00:00:00+00:00\", \"Top 20 %\": 3.857711100769174, \"Bottom 20 %\": 3.7749970175607537, \"Top 20 % Deviation\": -2.140878322347724, \"Bottom 20 % Deviation\": -2.2235924055561482}, {\"date\": \"2020-07-16T00:00:00+00:00\", \"Top 20 %\": 3.8688580997214523, \"Bottom 20 %\": 3.8968161297998734, \"Top 20 % Deviation\": -2.129731323395446, \"Bottom 20 % Deviation\": -2.101773293317029}, {\"date\": \"2020-07-17T00:00:00+00:00\", \"Top 20 %\": 3.728090474023447, \"Bottom 20 %\": 3.89599180109336, \"Top 20 % Deviation\": -2.2704989490934513, \"Bottom 20 % Deviation\": -2.1025976220235427}, {\"date\": \"2020-07-18T00:00:00+00:00\", \"Top 20 %\": 3.568573241145433, \"Bottom 20 %\": 3.808967960178176, \"Top 20 % Deviation\": -2.4300161819714647, \"Bottom 20 % Deviation\": -2.1896214629387267}, {\"date\": \"2020-07-19T00:00:00+00:00\", \"Top 20 %\": 3.3783395251763855, \"Bottom 20 %\": 3.8298693999485396, \"Top 20 % Deviation\": -2.6202498979405124, \"Bottom 20 % Deviation\": -2.168720023168363}, {\"date\": \"2020-07-20T00:00:00+00:00\", \"Top 20 %\": 3.460611482895941, \"Bottom 20 %\": 3.945838945911665, \"Top 20 % Deviation\": -2.537977940220957, \"Bottom 20 % Deviation\": -2.052750477205237}, {\"date\": \"2020-07-21T00:00:00+00:00\", \"Top 20 %\": 3.6513191580310105, \"Bottom 20 %\": 3.9406247644290078, \"Top 20 % Deviation\": -2.3472702650858874, \"Bottom 20 % Deviation\": -2.0579646586878946}, {\"date\": \"2020-07-22T00:00:00+00:00\", \"Top 20 %\": 3.8534110188206148, \"Bottom 20 %\": 4.018975926594832, \"Top 20 % Deviation\": -2.1451784042962836, \"Bottom 20 % Deviation\": -1.9796134965220709}, {\"date\": \"2020-07-23T00:00:00+00:00\", \"Top 20 %\": 3.929882550001257, \"Bottom 20 %\": 3.9901867592666944, \"Top 20 % Deviation\": -2.0687068731156413, \"Bottom 20 % Deviation\": -2.008402663850208}, {\"date\": \"2020-07-24T00:00:00+00:00\", \"Top 20 %\": 3.8830649631051033, \"Bottom 20 %\": 3.9877104306535953, \"Top 20 % Deviation\": -2.1155244600117946, \"Bottom 20 % Deviation\": -2.010878992463307}, {\"date\": \"2020-07-25T00:00:00+00:00\", \"Top 20 %\": 3.699668000511667, \"Bottom 20 %\": 3.8586873626417364, \"Top 20 % Deviation\": -2.2989214226052304, \"Bottom 20 % Deviation\": -2.1399020604751664}, {\"date\": \"2020-07-26T00:00:00+00:00\", \"Top 20 %\": 3.573730678743362, \"Bottom 20 %\": 3.8437899626024326, \"Top 20 % Deviation\": -2.424858744373536, \"Bottom 20 % Deviation\": -2.15479946051447}, {\"date\": \"2020-07-27T00:00:00+00:00\", \"Top 20 %\": 3.6503150859684093, \"Bottom 20 %\": 3.83769321059766, \"Top 20 % Deviation\": -2.348274337148489, \"Bottom 20 % Deviation\": -2.1608962125192424}, {\"date\": \"2020-07-28T00:00:00+00:00\", \"Top 20 %\": 3.856832885247343, \"Bottom 20 %\": 3.9073006358258078, \"Top 20 % Deviation\": -2.141756537869555, \"Bottom 20 % Deviation\": -2.0912887872910946}, {\"date\": \"2020-07-29T00:00:00+00:00\", \"Top 20 %\": 4.114693967277806, \"Bottom 20 %\": 3.911066479314961, \"Top 20 % Deviation\": -1.8838954558390923, \"Bottom 20 % Deviation\": -2.0875229438019414}, {\"date\": \"2020-07-30T00:00:00+00:00\", \"Top 20 %\": 4.043535521166116, \"Bottom 20 %\": 4.07449506702625, \"Top 20 % Deviation\": -1.9550539019507824, \"Bottom 20 % Deviation\": -1.9240943560906523}, {\"date\": \"2020-07-31T00:00:00+00:00\", \"Top 20 %\": 4.008352602965913, \"Bottom 20 %\": 4.006558687057071, \"Top 20 % Deviation\": -1.9902368201509848, \"Bottom 20 % Deviation\": -1.9920307360598315}, {\"date\": \"2020-08-01T00:00:00+00:00\", \"Top 20 %\": 3.8052557813141092, \"Bottom 20 %\": 3.8885454491890017, \"Top 20 % Deviation\": -2.1933336418027887, \"Bottom 20 % Deviation\": -2.110043973927901}, {\"date\": \"2020-08-02T00:00:00+00:00\", \"Top 20 %\": 3.5561801152722494, \"Bottom 20 %\": 3.876883542609508, \"Top 20 % Deviation\": -2.442409307844648, \"Bottom 20 % Deviation\": -2.1217058805073945}, {\"date\": \"2020-08-03T00:00:00+00:00\", \"Top 20 %\": 3.547140122657717, \"Bottom 20 %\": 3.853820725808132, \"Top 20 % Deviation\": -2.451449300459181, \"Bottom 20 % Deviation\": -2.1447686973087703}, {\"date\": \"2020-08-04T00:00:00+00:00\", \"Top 20 %\": 3.7620451732800566, \"Bottom 20 %\": 3.926242141191094, \"Top 20 % Deviation\": -2.2365442498368417, \"Bottom 20 % Deviation\": -2.0723472819258086}, {\"date\": \"2020-08-05T00:00:00+00:00\", \"Top 20 %\": 3.947255213920016, \"Bottom 20 %\": 4.056174934310386, \"Top 20 % Deviation\": -2.051334209196882, \"Bottom 20 % Deviation\": -1.9424144888065165}, {\"date\": \"2020-08-06T00:00:00+00:00\", \"Top 20 %\": 3.938944677658479, \"Bottom 20 %\": 4.231083406682009, \"Top 20 % Deviation\": -2.059644745458419, \"Bottom 20 % Deviation\": -1.767506016434893}, {\"date\": \"2020-08-07T00:00:00+00:00\", \"Top 20 %\": 3.9182854290187925, \"Bottom 20 %\": 4.220659090632525, \"Top 20 % Deviation\": -2.0803039940981054, \"Bottom 20 % Deviation\": -1.777930332484378}, {\"date\": \"2020-08-08T00:00:00+00:00\", \"Top 20 %\": 3.695967298160599, \"Bottom 20 %\": 4.334265474708435, \"Top 20 % Deviation\": -2.302622124956299, \"Bottom 20 % Deviation\": -1.6643239484084682}, {\"date\": \"2020-08-09T00:00:00+00:00\", \"Top 20 %\": 3.566290486623776, \"Bottom 20 %\": 4.113419322744484, \"Top 20 % Deviation\": -2.4322989364931225, \"Bottom 20 % Deviation\": -1.885170100372418}, {\"date\": \"2020-08-10T00:00:00+00:00\", \"Top 20 %\": 3.5737472575788374, \"Bottom 20 %\": 4.154658943638163, \"Top 20 % Deviation\": -2.4248421655380605, \"Bottom 20 % Deviation\": -1.843930479478739}, {\"date\": \"2020-08-11T00:00:00+00:00\", \"Top 20 %\": 3.733129706546819, \"Bottom 20 %\": 4.144169767463978, \"Top 20 % Deviation\": -2.2654597165700787, \"Bottom 20 % Deviation\": -1.8544196556529229}, {\"date\": \"2020-08-12T00:00:00+00:00\", \"Top 20 %\": 3.930934388256022, \"Bottom 20 %\": 4.198109203101698, \"Top 20 % Deviation\": -2.0676550348608758, \"Bottom 20 % Deviation\": -1.800480220015204}, {\"date\": \"2020-08-13T00:00:00+00:00\", \"Top 20 %\": 3.992956486753326, \"Bottom 20 %\": 4.362192096426358, \"Top 20 % Deviation\": -2.0056329363635714, \"Bottom 20 % Deviation\": -1.636397326690544}, {\"date\": \"2020-08-14T00:00:00+00:00\", \"Top 20 %\": 3.9224176009049287, \"Bottom 20 %\": 4.320616451357979, \"Top 20 % Deviation\": -2.0761718222119683, \"Bottom 20 % Deviation\": -1.6779729717589233}, {\"date\": \"2020-08-15T00:00:00+00:00\", \"Top 20 %\": 3.7382041796407726, \"Bottom 20 %\": 4.125158732630151, \"Top 20 % Deviation\": -2.260385243476125, \"Bottom 20 % Deviation\": -1.8734306904867508}, {\"date\": \"2020-08-16T00:00:00+00:00\", \"Top 20 %\": 3.5752670405630314, \"Bottom 20 %\": 3.9726950357279436, \"Top 20 % Deviation\": -2.4233223825538657, \"Bottom 20 % Deviation\": -2.0258943873889583}, {\"date\": \"2020-08-17T00:00:00+00:00\", \"Top 20 %\": 3.6094128709986975, \"Bottom 20 %\": 4.090121313863941, \"Top 20 % Deviation\": -2.389176552118199, \"Bottom 20 % Deviation\": -1.9084681092529614}, {\"date\": \"2020-08-18T00:00:00+00:00\", \"Top 20 %\": 3.8462755319773967, \"Bottom 20 %\": 4.274833524396339, \"Top 20 % Deviation\": -2.1523138911395003, \"Bottom 20 % Deviation\": -1.7237558987205628}, {\"date\": \"2020-08-19T00:00:00+00:00\", \"Top 20 %\": 4.026623941278887, \"Bottom 20 %\": 4.353345210901432, \"Top 20 % Deviation\": -1.97196548183801, \"Bottom 20 % Deviation\": -1.64524421221547}, {\"date\": \"2020-08-20T00:00:00+00:00\", \"Top 20 %\": 4.106166832469035, \"Bottom 20 %\": 4.28974308250151, \"Top 20 % Deviation\": -1.8924225906478618, \"Bottom 20 % Deviation\": -1.7088463406153924}, {\"date\": \"2020-08-21T00:00:00+00:00\", \"Top 20 %\": 4.162661397062611, \"Bottom 20 %\": 4.418644753180468, \"Top 20 % Deviation\": -1.835928026054286, \"Bottom 20 % Deviation\": -1.5799446699364341}, {\"date\": \"2020-08-22T00:00:00+00:00\", \"Top 20 %\": 3.995394112422718, \"Bottom 20 %\": 4.3474982227647505, \"Top 20 % Deviation\": -2.003195310694179, \"Bottom 20 % Deviation\": -1.6510912003521523}, {\"date\": \"2020-08-23T00:00:00+00:00\", \"Top 20 %\": 3.8769162000684263, \"Bottom 20 %\": 4.376086633435717, \"Top 20 % Deviation\": -2.1216732230484707, \"Bottom 20 % Deviation\": -1.6225027896811848}, {\"date\": \"2020-08-24T00:00:00+00:00\", \"Top 20 %\": 3.9514435013252425, \"Bottom 20 %\": 4.4570268345663075, \"Top 20 % Deviation\": -2.0471459217916546, \"Bottom 20 % Deviation\": -1.541562588550595}, {\"date\": \"2020-08-25T00:00:00+00:00\", \"Top 20 %\": 4.2935594223086015, \"Bottom 20 %\": 4.536981029824301, \"Top 20 % Deviation\": -1.7050300008082953, \"Bottom 20 % Deviation\": -1.4616083932926014}, {\"date\": \"2020-08-26T00:00:00+00:00\", \"Top 20 %\": 4.556469969474041, \"Bottom 20 %\": 4.988568224993843, \"Top 20 % Deviation\": -1.4421194536428554, \"Bottom 20 % Deviation\": -1.01002119812306}, {\"date\": \"2020-08-27T00:00:00+00:00\", \"Top 20 %\": 4.565395009186061, \"Bottom 20 %\": 4.793582689632928, \"Top 20 % Deviation\": -1.4331944139308355, \"Bottom 20 % Deviation\": -1.2050067334839747}, {\"date\": \"2020-08-28T00:00:00+00:00\", \"Top 20 %\": 4.589685475276584, \"Bottom 20 %\": 4.595815314902095, \"Top 20 % Deviation\": -1.4089039478403134, \"Bottom 20 % Deviation\": -1.4027741082148082}, {\"date\": \"2020-08-29T00:00:00+00:00\", \"Top 20 %\": 4.452957419697929, \"Bottom 20 %\": 4.660314272466629, \"Top 20 % Deviation\": -1.5456320034189666, \"Bottom 20 % Deviation\": -1.3382751506502735}, {\"date\": \"2020-08-30T00:00:00+00:00\", \"Top 20 %\": 4.207750757720051, \"Bottom 20 %\": 4.660595206295357, \"Top 20 % Deviation\": -1.790838665396846, \"Bottom 20 % Deviation\": -1.3379942168215457}, {\"date\": \"2020-08-31T00:00:00+00:00\", \"Top 20 %\": 4.280172920702118, \"Bottom 20 %\": 4.6013726393080585, \"Top 20 % Deviation\": -1.7184165024147788, \"Bottom 20 % Deviation\": -1.3972167838088445}, {\"date\": \"2020-09-01T00:00:00+00:00\", \"Top 20 %\": 4.600318900117157, \"Bottom 20 %\": 4.7437770987631325, \"Top 20 % Deviation\": -1.3982705229997394, \"Bottom 20 % Deviation\": -1.2548123243537703}, {\"date\": \"2020-09-02T00:00:00+00:00\", \"Top 20 %\": 4.797358210653176, \"Bottom 20 %\": 4.7196396210494465, \"Top 20 % Deviation\": -1.2012312124637212, \"Bottom 20 % Deviation\": -1.2789498020674568}, {\"date\": \"2020-09-03T00:00:00+00:00\", \"Top 20 %\": 4.873371135224925, \"Bottom 20 %\": 4.672194220063084, \"Top 20 % Deviation\": -1.1252182878919723, \"Bottom 20 % Deviation\": -1.3263952030538184}, {\"date\": \"2020-09-04T00:00:00+00:00\", \"Top 20 %\": 4.663230686637656, \"Bottom 20 %\": 4.525431104100183, \"Top 20 % Deviation\": -1.335358736479242, \"Bottom 20 % Deviation\": -1.47315831901672}, {\"date\": \"2020-09-05T00:00:00+00:00\", \"Top 20 %\": 4.449135956689784, \"Bottom 20 %\": 4.2009522880545855, \"Top 20 % Deviation\": -1.549453466427114, \"Bottom 20 % Deviation\": -1.7976371350623168}, {\"date\": \"2020-09-06T00:00:00+00:00\", \"Top 20 %\": 4.205769038826292, \"Bottom 20 %\": 4.205010254392562, \"Top 20 % Deviation\": -1.7928203842906065, \"Bottom 20 % Deviation\": -1.793579168724341}, {\"date\": \"2020-09-07T00:00:00+00:00\", \"Top 20 %\": 3.950652418439091, \"Bottom 20 %\": 4.102712464430964, \"Top 20 % Deviation\": -2.0479370046778067, \"Bottom 20 % Deviation\": -1.8958769586859385}, {\"date\": \"2020-09-08T00:00:00+00:00\", \"Top 20 %\": 4.214595967565005, \"Bottom 20 %\": 4.026146816248991, \"Top 20 % Deviation\": -1.7839934555518924, \"Bottom 20 % Deviation\": -1.972442606867912}, {\"date\": \"2020-09-09T00:00:00+00:00\", \"Top 20 %\": 4.469515774880993, \"Bottom 20 %\": 4.147847024988959, \"Top 20 % Deviation\": -1.529073648235905, \"Bottom 20 % Deviation\": -1.850742398127944}, {\"date\": \"2020-09-10T00:00:00+00:00\", \"Top 20 %\": 4.453791203508286, \"Bottom 20 %\": 4.379254088534181, \"Top 20 % Deviation\": -1.5447982196086119, \"Bottom 20 % Deviation\": -1.619335334582722}, {\"date\": \"2020-09-11T00:00:00+00:00\", \"Top 20 %\": 4.372865734383449, \"Bottom 20 %\": 4.465452890604242, \"Top 20 % Deviation\": -1.6257236887334479, \"Bottom 20 % Deviation\": -1.5331365325126618}, {\"date\": \"2020-09-12T00:00:00+00:00\", \"Top 20 %\": 4.086406066259838, \"Bottom 20 %\": 4.253565852000579, \"Top 20 % Deviation\": -1.9121833568570588, \"Bottom 20 % Deviation\": -1.7450235711163251}, {\"date\": \"2020-09-13T00:00:00+00:00\", \"Top 20 %\": 3.7817356526194876, \"Bottom 20 %\": 4.150304103391003, \"Top 20 % Deviation\": -2.2168537704974085, \"Bottom 20 % Deviation\": -1.8482853197259004}, {\"date\": \"2020-09-14T00:00:00+00:00\", \"Top 20 %\": 3.927921674257887, \"Bottom 20 %\": 4.158443867127384, \"Top 20 % Deviation\": -2.0706677488590093, \"Bottom 20 % Deviation\": -1.840145555989518}, {\"date\": \"2020-09-15T00:00:00+00:00\", \"Top 20 %\": 4.107749570657653, \"Bottom 20 %\": 4.0578857156642565, \"Top 20 % Deviation\": -1.8908398524592431, \"Bottom 20 % Deviation\": -1.940703707452646}, {\"date\": \"2020-09-16T00:00:00+00:00\", \"Top 20 %\": 4.412550527904122, \"Bottom 20 %\": 4.690790991073068, \"Top 20 % Deviation\": -1.5860388952127746, \"Bottom 20 % Deviation\": -1.3077984320438336}, {\"date\": \"2020-09-17T00:00:00+00:00\", \"Top 20 %\": 4.716729793618296, \"Bottom 20 %\": 4.753567487246077, \"Top 20 % Deviation\": -1.2818596294986002, \"Bottom 20 % Deviation\": -1.2450219358708245}, {\"date\": \"2020-09-18T00:00:00+00:00\", \"Top 20 %\": 4.638530091579337, \"Bottom 20 %\": 4.689890859049281, \"Top 20 % Deviation\": -1.360059331537559, \"Bottom 20 % Deviation\": -1.30869856406762}, {\"date\": \"2020-09-19T00:00:00+00:00\", \"Top 20 %\": 4.394359606644112, \"Bottom 20 %\": 4.58533412735866, \"Top 20 % Deviation\": -1.6042298164727835, \"Bottom 20 % Deviation\": -1.413255295758241}, {\"date\": \"2020-09-20T00:00:00+00:00\", \"Top 20 %\": 4.138998450553722, \"Bottom 20 %\": 4.390621633954005, \"Top 20 % Deviation\": -1.8595909725631743, \"Bottom 20 % Deviation\": -1.6079677891628958}, {\"date\": \"2020-09-21T00:00:00+00:00\", \"Top 20 %\": 4.31102420725881, \"Bottom 20 %\": 4.390835371910623, \"Top 20 % Deviation\": -1.6875652158580867, \"Bottom 20 % Deviation\": -1.6077540512062778}, {\"date\": \"2020-09-22T00:00:00+00:00\", \"Top 20 %\": 4.620398007391677, \"Bottom 20 %\": 4.483998487955041, \"Top 20 % Deviation\": -1.3781914157252193, \"Bottom 20 % Deviation\": -1.5145909351618598}, {\"date\": \"2020-09-23T00:00:00+00:00\", \"Top 20 %\": 4.882064336043395, \"Bottom 20 %\": 4.5854923557541545, \"Top 20 % Deviation\": -1.1165250870735015, \"Bottom 20 % Deviation\": -1.4130970673627468}, {\"date\": \"2020-09-24T00:00:00+00:00\", \"Top 20 %\": 4.872973997964079, \"Bottom 20 %\": 4.643154815852013, \"Top 20 % Deviation\": -1.1256154251528172, \"Bottom 20 % Deviation\": -1.355434607264889}, {\"date\": \"2020-09-25T00:00:00+00:00\", \"Top 20 %\": 4.91921295896092, \"Bottom 20 %\": 4.691322760103221, \"Top 20 % Deviation\": -1.0793764641559762, \"Bottom 20 % Deviation\": -1.3072666630136807}, {\"date\": \"2020-09-26T00:00:00+00:00\", \"Top 20 %\": 4.622928281010013, \"Bottom 20 %\": 4.002149239801559, \"Top 20 % Deviation\": -1.375661142106884, \"Bottom 20 % Deviation\": -1.9964401833153418}, {\"date\": \"2020-09-27T00:00:00+00:00\", \"Top 20 %\": 4.318941493802614, \"Bottom 20 %\": 3.885486134657498, \"Top 20 % Deviation\": -1.679647929314283, \"Bottom 20 % Deviation\": -2.1131032884594037}, {\"date\": \"2020-09-28T00:00:00+00:00\", \"Top 20 %\": 4.35964389472853, \"Bottom 20 %\": 3.90670572879329, \"Top 20 % Deviation\": -1.6389455283883674, \"Bottom 20 % Deviation\": -2.091883694323612}, {\"date\": \"2020-09-29T00:00:00+00:00\", \"Top 20 %\": 4.708115461105383, \"Bottom 20 %\": 4.189867454767059, \"Top 20 % Deviation\": -1.290473962011514, \"Bottom 20 % Deviation\": -1.8087219683498428}, {\"date\": \"2020-09-30T00:00:00+00:00\", \"Top 20 %\": 4.926597904521566, \"Bottom 20 %\": 4.1295961218835044, \"Top 20 % Deviation\": -1.0719915185953302, \"Bottom 20 % Deviation\": -1.868993301233397}, {\"date\": \"2020-10-01T00:00:00+00:00\", \"Top 20 %\": 4.817092683826628, \"Bottom 20 %\": 4.186866384243292, \"Top 20 % Deviation\": -1.1814967392902673, \"Bottom 20 % Deviation\": -1.8117230388736096}, {\"date\": \"2020-10-02T00:00:00+00:00\", \"Top 20 %\": 4.776597371850501, \"Bottom 20 %\": 4.135895193247454, \"Top 20 % Deviation\": -1.221992051266394, \"Bottom 20 % Deviation\": -1.8626942298694469}, {\"date\": \"2020-10-03T00:00:00+00:00\", \"Top 20 %\": 4.5926434530626885, \"Bottom 20 %\": 4.091513224690489, \"Top 20 % Deviation\": -1.4059459700542074, \"Bottom 20 % Deviation\": -1.9070761984264113}, {\"date\": \"2020-10-04T00:00:00+00:00\", \"Top 20 %\": 4.276582693847496, \"Bottom 20 %\": 4.042598766305811, \"Top 20 % Deviation\": -1.7220067292693995, \"Bottom 20 % Deviation\": -1.9559906568110896}, {\"date\": \"2020-10-05T00:00:00+00:00\", \"Top 20 %\": 4.261379014972134, \"Bottom 20 %\": 4.001147460668933, \"Top 20 % Deviation\": -1.7372104081447624, \"Bottom 20 % Deviation\": -1.9974419624479676}, {\"date\": \"2020-10-06T00:00:00+00:00\", \"Top 20 %\": 4.551900477970269, \"Bottom 20 %\": 4.028933831261091, \"Top 20 % Deviation\": -1.4466889451466256, \"Bottom 20 % Deviation\": -1.9696555918558083}, {\"date\": \"2020-10-07T00:00:00+00:00\", \"Top 20 %\": 4.77227406550206, \"Bottom 20 %\": 4.108459187072413, \"Top 20 % Deviation\": -1.2263153576148356, \"Bottom 20 % Deviation\": -1.8901302360444867}, {\"date\": \"2020-10-08T00:00:00+00:00\", \"Top 20 %\": 4.755450041323267, \"Bottom 20 %\": 4.2074273957512505, \"Top 20 % Deviation\": -1.2431393817936278, \"Bottom 20 % Deviation\": -1.79116202736565}, {\"date\": \"2020-10-09T00:00:00+00:00\", \"Top 20 %\": 4.591721889008452, \"Bottom 20 %\": 3.9275177706858324, \"Top 20 % Deviation\": -1.4068675341084425, \"Bottom 20 % Deviation\": -2.071071652431068}, {\"date\": \"2020-10-10T00:00:00+00:00\", \"Top 20 %\": 4.372427258444828, \"Bottom 20 %\": 3.90095378135792, \"Top 20 % Deviation\": -1.626162164672067, \"Bottom 20 % Deviation\": -2.09763564175898}, {\"date\": \"2020-10-11T00:00:00+00:00\", \"Top 20 %\": 4.049180268836164, \"Bottom 20 %\": 3.695417590305702, \"Top 20 % Deviation\": -1.9494091542807321, \"Bottom 20 % Deviation\": -2.3031718328111985}, {\"date\": \"2020-10-12T00:00:00+00:00\", \"Top 20 %\": 3.957992124783204, \"Bottom 20 %\": 3.8002673188502216, \"Top 20 % Deviation\": -2.0405972983336924, \"Bottom 20 % Deviation\": -2.198322104266679}, {\"date\": \"2020-10-13T00:00:00+00:00\", \"Top 20 %\": 4.2466763324839585, \"Bottom 20 %\": 4.076581349639121, \"Top 20 % Deviation\": -1.751913090632938, \"Bottom 20 % Deviation\": -1.9220080734777798}, {\"date\": \"2020-10-14T00:00:00+00:00\", \"Top 20 %\": 4.6215726521369636, \"Bottom 20 %\": 4.221161730556381, \"Top 20 % Deviation\": -1.377016770979933, \"Bottom 20 % Deviation\": -1.77742769256052}, {\"date\": \"2020-10-15T00:00:00+00:00\", \"Top 20 %\": 4.616477000059047, \"Bottom 20 %\": 4.236802807590369, \"Top 20 % Deviation\": -1.3821124230578496, \"Bottom 20 % Deviation\": -1.7617866155265325}, {\"date\": \"2020-10-16T00:00:00+00:00\", \"Top 20 %\": 4.618959758570328, \"Bottom 20 %\": 4.304924185833034, \"Top 20 % Deviation\": -1.3796296645465689, \"Bottom 20 % Deviation\": -1.6936652372838672}, {\"date\": \"2020-10-17T00:00:00+00:00\", \"Top 20 %\": 4.473859144104172, \"Bottom 20 %\": 4.338618594253435, \"Top 20 % Deviation\": -1.524730279012724, \"Bottom 20 % Deviation\": -1.6599708288634658}, {\"date\": \"2020-10-18T00:00:00+00:00\", \"Top 20 %\": 4.198843181589533, \"Bottom 20 %\": 4.247125292487179, \"Top 20 % Deviation\": -1.799746241527363, \"Bottom 20 % Deviation\": -1.751464130629722}, {\"date\": \"2020-10-19T00:00:00+00:00\", \"Top 20 %\": 4.29900791919756, \"Bottom 20 %\": 4.371813649473256, \"Top 20 % Deviation\": -1.6995815039193354, \"Bottom 20 % Deviation\": -1.626775773643645}, {\"date\": \"2020-10-20T00:00:00+00:00\", \"Top 20 %\": 4.587211468721067, \"Bottom 20 %\": 4.490761458896104, \"Top 20 % Deviation\": -1.4113779543958276, \"Bottom 20 % Deviation\": -1.507827964220797}, {\"date\": \"2020-10-21T00:00:00+00:00\", \"Top 20 %\": 4.929854016173577, \"Bottom 20 %\": 4.560646443660721, \"Top 20 % Deviation\": -1.0687354069433184, \"Bottom 20 % Deviation\": -1.4379429794561793}, {\"date\": \"2020-10-22T00:00:00+00:00\", \"Top 20 %\": 5.041187782694868, \"Bottom 20 %\": 4.429869081042303, \"Top 20 % Deviation\": -0.9574016404220268, \"Bottom 20 % Deviation\": -1.5687203420745983}, {\"date\": \"2020-10-23T00:00:00+00:00\", \"Top 20 %\": 4.929699581564526, \"Bottom 20 %\": 4.2480526612897025, \"Top 20 % Deviation\": -1.0688898415523695, \"Bottom 20 % Deviation\": -1.7505367618271985}, {\"date\": \"2020-10-24T00:00:00+00:00\", \"Top 20 %\": 4.618425338896367, \"Bottom 20 %\": 4.2026321484508395, \"Top 20 % Deviation\": -1.380164084220528, \"Bottom 20 % Deviation\": -1.7959572746660615}, {\"date\": \"2020-10-25T00:00:00+00:00\", \"Top 20 %\": 4.338562452646053, \"Bottom 20 %\": 4.175824128750611, \"Top 20 % Deviation\": -1.6600269704708421, \"Bottom 20 % Deviation\": -1.8227652943662904}, {\"date\": \"2020-10-26T00:00:00+00:00\", \"Top 20 %\": 4.371785501627559, \"Bottom 20 %\": 4.290562403660859, \"Top 20 % Deviation\": -1.6268039214893348, \"Bottom 20 % Deviation\": -1.708027019456043}, {\"date\": \"2020-10-27T00:00:00+00:00\", \"Top 20 %\": 4.600064552980241, \"Bottom 20 %\": 4.265605738654541, \"Top 20 % Deviation\": -1.3985248701366537, \"Bottom 20 % Deviation\": -1.73298368446236}, {\"date\": \"2020-10-28T00:00:00+00:00\", \"Top 20 %\": 4.903123933299288, \"Bottom 20 %\": 4.349952438666321, \"Top 20 % Deviation\": -1.095465489817606, \"Bottom 20 % Deviation\": -1.64863698445058}, {\"date\": \"2020-10-29T00:00:00+00:00\", \"Top 20 %\": 4.920246772601567, \"Bottom 20 %\": 4.4500576003897105, \"Top 20 % Deviation\": -1.0783426505153273, \"Bottom 20 % Deviation\": -1.5485318227271896}, {\"date\": \"2020-10-30T00:00:00+00:00\", \"Top 20 %\": 4.829426680461732, \"Bottom 20 %\": 4.32625073949454, \"Top 20 % Deviation\": -1.1691627426551625, \"Bottom 20 % Deviation\": -1.6723386836223604}, {\"date\": \"2020-10-31T00:00:00+00:00\", \"Top 20 %\": 4.531411123144549, \"Bottom 20 %\": 4.440667718786508, \"Top 20 % Deviation\": -1.4671782999723457, \"Bottom 20 % Deviation\": -1.5579217043303928}, {\"date\": \"2020-11-01T00:00:00+00:00\", \"Top 20 %\": 4.296908739769269, \"Bottom 20 %\": 4.799186298348056, \"Top 20 % Deviation\": -1.7016806833476257, \"Bottom 20 % Deviation\": -1.1994031247688435}, {\"date\": \"2020-11-02T00:00:00+00:00\", \"Top 20 %\": 4.470201782261165, \"Bottom 20 %\": 4.91786020056914, \"Top 20 % Deviation\": -1.5283876408557302, \"Bottom 20 % Deviation\": -1.0807292225477596}, {\"date\": \"2020-11-03T00:00:00+00:00\", \"Top 20 %\": 4.753221313521673, \"Bottom 20 %\": 4.8349845457314675, \"Top 20 % Deviation\": -1.2453681095952212, \"Bottom 20 % Deviation\": -1.1636048773854317}, {\"date\": \"2020-11-04T00:00:00+00:00\", \"Top 20 %\": 5.10804184047456, \"Bottom 20 %\": 4.91746975460903, \"Top 20 % Deviation\": -0.8905475826423348, \"Bottom 20 % Deviation\": -1.0811196685078697}, {\"date\": \"2020-11-05T00:00:00+00:00\", \"Top 20 %\": 5.1687870141834935, \"Bottom 20 %\": 4.872625687027193, \"Top 20 % Deviation\": -0.8298024089334021, \"Bottom 20 % Deviation\": -1.125963736089707}, {\"date\": \"2020-11-06T00:00:00+00:00\", \"Top 20 %\": 5.273025358990875, \"Bottom 20 %\": 5.26100415213595, \"Top 20 % Deviation\": -0.725564064126021, \"Bottom 20 % Deviation\": -0.7375852709809501}, {\"date\": \"2020-11-07T00:00:00+00:00\", \"Top 20 %\": 5.057322861402637, \"Bottom 20 %\": 5.211907822821346, \"Top 20 % Deviation\": -0.9412665617142594, \"Bottom 20 % Deviation\": -0.7866816002955542}, {\"date\": \"2020-11-08T00:00:00+00:00\", \"Top 20 %\": 4.816199008301277, \"Bottom 20 %\": 5.0143650071429215, \"Top 20 % Deviation\": -1.1823904148156195, \"Bottom 20 % Deviation\": -0.9842244159739788}, {\"date\": \"2020-11-09T00:00:00+00:00\", \"Top 20 %\": 5.033021889839757, \"Bottom 20 %\": 5.1257554755038, \"Top 20 % Deviation\": -0.9655675332771392, \"Bottom 20 % Deviation\": -0.8728339476131}, {\"date\": \"2020-11-10T00:00:00+00:00\", \"Top 20 %\": 5.490588202473419, \"Bottom 20 %\": 5.35259979082339, \"Top 20 % Deviation\": -0.5080012206434781, \"Bottom 20 % Deviation\": -0.6459896322935099}, {\"date\": \"2020-11-11T00:00:00+00:00\", \"Top 20 %\": 5.7808796412004, \"Bottom 20 %\": 5.363252940486678, \"Top 20 % Deviation\": -0.21770978191649717, \"Bottom 20 % Deviation\": -0.6353364826302226}, {\"date\": \"2020-11-12T00:00:00+00:00\", \"Top 20 %\": 5.7481215287385234, \"Bottom 20 %\": 5.217387822773253, \"Top 20 % Deviation\": -0.25046789437837363, \"Bottom 20 % Deviation\": -0.7812016003436485}, {\"date\": \"2020-11-13T00:00:00+00:00\", \"Top 20 %\": 5.809671616980978, \"Bottom 20 %\": 5.36184022440827, \"Top 20 % Deviation\": -0.18891780613591877, \"Bottom 20 % Deviation\": -0.6367491987086311}, {\"date\": \"2020-11-14T00:00:00+00:00\", \"Top 20 %\": 5.571331504242201, \"Bottom 20 %\": 5.468429971909009, \"Top 20 % Deviation\": -0.42725791887469666, \"Bottom 20 % Deviation\": -0.5301594512078921}, {\"date\": \"2020-11-15T00:00:00+00:00\", \"Top 20 %\": 5.2125397815134615, \"Bottom 20 %\": 5.5267778036264055, \"Top 20 % Deviation\": -0.7860496416034344, \"Bottom 20 % Deviation\": -0.4718116194904952}, {\"date\": \"2020-11-16T00:00:00+00:00\", \"Top 20 %\": 5.255542591714266, \"Bottom 20 %\": 5.448548738685137, \"Top 20 % Deviation\": -0.7430468314026295, \"Bottom 20 % Deviation\": -0.5500406844317639}, {\"date\": \"2020-11-17T00:00:00+00:00\", \"Top 20 %\": 5.514606271484977, \"Bottom 20 %\": 5.519180445991365, \"Top 20 % Deviation\": -0.48398315163191796, \"Bottom 20 % Deviation\": -0.4794089771255357}, {\"date\": \"2020-11-18T00:00:00+00:00\", \"Top 20 %\": 5.779990455027262, \"Bottom 20 %\": 5.615205036302578, \"Top 20 % Deviation\": -0.21859896808963417, \"Bottom 20 % Deviation\": -0.3833843868143226}, {\"date\": \"2020-11-19T00:00:00+00:00\", \"Top 20 %\": 5.681241934401465, \"Bottom 20 %\": 5.654193296783124, \"Top 20 % Deviation\": -0.3173474887154311, \"Bottom 20 % Deviation\": -0.34439612633377664}, {\"date\": \"2020-11-20T00:00:00+00:00\", \"Top 20 %\": 5.537082783317689, \"Bottom 20 %\": 5.317596789030086, \"Top 20 % Deviation\": -0.46150663979920664, \"Bottom 20 % Deviation\": -0.680992634086815}, {\"date\": \"2020-11-21T00:00:00+00:00\", \"Top 20 %\": 5.308151939173561, \"Bottom 20 %\": 4.944264599133126, \"Top 20 % Deviation\": -0.6904374839433347, \"Bottom 20 % Deviation\": -1.054324823983775}, {\"date\": \"2020-11-22T00:00:00+00:00\", \"Top 20 %\": 4.951179207248002, \"Bottom 20 %\": 4.795051423506732, \"Top 20 % Deviation\": -1.0474102158688938, \"Bottom 20 % Deviation\": -1.2035379996101683}, {\"date\": \"2020-11-23T00:00:00+00:00\", \"Top 20 %\": 4.981437545667394, \"Bottom 20 %\": 4.785212702382069, \"Top 20 % Deviation\": -1.017151877449502, \"Bottom 20 % Deviation\": -1.2133767207348307}, {\"date\": \"2020-11-24T00:00:00+00:00\", \"Top 20 %\": 5.204348787435861, \"Bottom 20 %\": 4.919734103541796, \"Top 20 % Deviation\": -0.7942406356810345, \"Bottom 20 % Deviation\": -1.0788553195751043}, {\"date\": \"2020-11-25T00:00:00+00:00\", \"Top 20 %\": 5.355413744964288, \"Bottom 20 %\": 4.98447999262979, \"Top 20 % Deviation\": -0.6431756781526081, \"Bottom 20 % Deviation\": -1.0141094304871099}, {\"date\": \"2020-11-26T00:00:00+00:00\", \"Top 20 %\": 5.000039475671904, \"Bottom 20 %\": 4.794878617948756, \"Top 20 % Deviation\": -0.9985499474449927, \"Bottom 20 % Deviation\": -1.2037108051681442}, {\"date\": \"2020-11-27T00:00:00+00:00\", \"Top 20 %\": 4.73953878085692, \"Bottom 20 %\": 4.719619750937524, \"Top 20 % Deviation\": -1.2590506422599765, \"Bottom 20 % Deviation\": -1.278969672179375}, {\"date\": \"2020-11-28T00:00:00+00:00\", \"Top 20 %\": 4.548419899826344, \"Bottom 20 %\": 4.66727487520791, \"Top 20 % Deviation\": -1.450169523290553, \"Bottom 20 % Deviation\": -1.3313145479089905}, {\"date\": \"2020-11-29T00:00:00+00:00\", \"Top 20 %\": 4.2448635761445, \"Bottom 20 %\": 4.473748257003191, \"Top 20 % Deviation\": -1.7537258469723969, \"Bottom 20 % Deviation\": -1.5248411661137093}, {\"date\": \"2020-11-30T00:00:00+00:00\", \"Top 20 %\": 4.255426961231692, \"Bottom 20 %\": 4.660403156211025, \"Top 20 % Deviation\": -1.7431624618852042, \"Bottom 20 % Deviation\": -1.3381862669058748}, {\"date\": \"2020-12-01T00:00:00+00:00\", \"Top 20 %\": 4.509468217105811, \"Bottom 20 %\": 5.014321063144334, \"Top 20 % Deviation\": -1.4891212060110859, \"Bottom 20 % Deviation\": -0.9842683599725662}, {\"date\": \"2020-12-02T00:00:00+00:00\", \"Top 20 %\": 4.847857238287593, \"Bottom 20 %\": 5.187375461485812, \"Top 20 % Deviation\": -1.1507321848293042, \"Bottom 20 % Deviation\": -0.8112139616310886}, {\"date\": \"2020-12-03T00:00:00+00:00\", \"Top 20 %\": 4.829958729324546, \"Bottom 20 %\": 5.168076503367963, \"Top 20 % Deviation\": -1.1686306937923512, \"Bottom 20 % Deviation\": -0.8305129197489369}, {\"date\": \"2020-12-04T00:00:00+00:00\", \"Top 20 %\": 4.8180988936884495, \"Bottom 20 %\": 5.088028677082631, \"Top 20 % Deviation\": -1.1804905294284473, \"Bottom 20 % Deviation\": -0.910560746034269}, {\"date\": \"2020-12-05T00:00:00+00:00\", \"Top 20 %\": 4.747923838259133, \"Bottom 20 %\": 4.966456106420182, \"Top 20 % Deviation\": -1.2506655848577632, \"Bottom 20 % Deviation\": -1.032133316696719}, {\"date\": \"2020-12-06T00:00:00+00:00\", \"Top 20 %\": 4.690366222295509, \"Bottom 20 %\": 4.925278948027783, \"Top 20 % Deviation\": -1.3082232008213883, \"Bottom 20 % Deviation\": -1.0733104750891185}, {\"date\": \"2020-12-07T00:00:00+00:00\", \"Top 20 %\": 4.940127037445651, \"Bottom 20 %\": 4.973715872661295, \"Top 20 % Deviation\": -1.0584623856712458, \"Bottom 20 % Deviation\": -1.0248735504556066}, {\"date\": \"2020-12-08T00:00:00+00:00\", \"Top 20 %\": 5.140078724907533, \"Bottom 20 %\": 5.136235562344205, \"Top 20 % Deviation\": -0.8585106982093642, \"Bottom 20 % Deviation\": -0.8623538607726967}, {\"date\": \"2020-12-09T00:00:00+00:00\", \"Top 20 %\": 5.489113170844487, \"Bottom 20 %\": 5.404380747581176, \"Top 20 % Deviation\": -0.5094762522724102, \"Bottom 20 % Deviation\": -0.5942086755357254}, {\"date\": \"2020-12-10T00:00:00+00:00\", \"Top 20 %\": 5.472320333551115, \"Bottom 20 %\": 5.178511827320252, \"Top 20 % Deviation\": -0.5262690895657829, \"Bottom 20 % Deviation\": -0.82007759579665}, {\"date\": \"2020-12-11T00:00:00+00:00\", \"Top 20 %\": 5.471419744781493, \"Bottom 20 %\": 5.077458590804531, \"Top 20 % Deviation\": -0.5271696783354043, \"Bottom 20 % Deviation\": -0.9211308323123703}, {\"date\": \"2020-12-12T00:00:00+00:00\", \"Top 20 %\": 5.25110679768139, \"Bottom 20 %\": 5.0955802327754665, \"Top 20 % Deviation\": -0.7474826254355071, \"Bottom 20 % Deviation\": -0.9030091903414352}, {\"date\": \"2020-12-13T00:00:00+00:00\", \"Top 20 %\": 4.928476979080118, \"Bottom 20 %\": 5.159685104522144, \"Top 20 % Deviation\": -1.0701124440367789, \"Bottom 20 % Deviation\": -0.8389043185947568}, {\"date\": \"2020-12-14T00:00:00+00:00\", \"Top 20 %\": 5.031276896631243, \"Bottom 20 %\": 5.4612138114858695, \"Top 20 % Deviation\": -0.9673125264856539, \"Bottom 20 % Deviation\": -0.5373756116310309}, {\"date\": \"2020-12-15T00:00:00+00:00\", \"Top 20 %\": 5.280267553777628, \"Bottom 20 %\": 5.552176344601783, \"Top 20 % Deviation\": -0.7183218693392704, \"Bottom 20 % Deviation\": -0.44641307851511736}, {\"date\": \"2020-12-16T00:00:00+00:00\", \"Top 20 %\": 5.606102969031274, \"Bottom 20 %\": 5.530739247890431, \"Top 20 % Deviation\": -0.39248645408562416, \"Bottom 20 % Deviation\": -0.46785017522646877}, {\"date\": \"2020-12-17T00:00:00+00:00\", \"Top 20 %\": 5.623873229533094, \"Bottom 20 %\": 5.712276025974524, \"Top 20 % Deviation\": -0.37471619358380326, \"Bottom 20 % Deviation\": -0.286313397142376}, {\"date\": \"2020-12-18T00:00:00+00:00\", \"Top 20 %\": 5.565055489026349, \"Bottom 20 %\": 6.007998863784012, \"Top 20 % Deviation\": -0.4335339340905481, \"Bottom 20 % Deviation\": 0.009409440667111735}, {\"date\": \"2020-12-19T00:00:00+00:00\", \"Top 20 %\": 5.292309718923287, \"Bottom 20 %\": 5.8240775294801725, \"Top 20 % Deviation\": -0.7062797041936115, \"Bottom 20 % Deviation\": -0.17451189363672723}, {\"date\": \"2020-12-20T00:00:00+00:00\", \"Top 20 %\": 4.99117948294385, \"Bottom 20 %\": 5.78478413487409, \"Top 20 % Deviation\": -1.0074099401730474, \"Bottom 20 % Deviation\": -0.21380528824280942}, {\"date\": \"2020-12-21T00:00:00+00:00\", \"Top 20 %\": 4.869359900977006, \"Bottom 20 %\": 5.8884568228931755, \"Top 20 % Deviation\": -1.1292295221398914, \"Bottom 20 % Deviation\": -0.11013260022372391}, {\"date\": \"2020-12-22T00:00:00+00:00\", \"Top 20 %\": 5.043213456487299, \"Bottom 20 %\": 5.882785416669634, \"Top 20 % Deviation\": -0.955375966629598, \"Bottom 20 % Deviation\": -0.11580400644726527}, {\"date\": \"2020-12-23T00:00:00+00:00\", \"Top 20 %\": 5.23648576138891, \"Bottom 20 %\": 5.8141347109339545, \"Top 20 % Deviation\": -0.762103661727988, \"Bottom 20 % Deviation\": -0.18445471218294554}, {\"date\": \"2020-12-24T00:00:00+00:00\", \"Top 20 %\": 4.925377543452184, \"Bottom 20 %\": 5.34724337950148, \"Top 20 % Deviation\": -1.073211879664715, \"Bottom 20 % Deviation\": -0.6513460436154197}, {\"date\": \"2020-12-25T00:00:00+00:00\", \"Top 20 %\": 4.648853273183444, \"Bottom 20 %\": 5.346086009300118, \"Top 20 % Deviation\": -1.349736149933455, \"Bottom 20 % Deviation\": -0.6525034138167827}, {\"date\": \"2020-12-26T00:00:00+00:00\", \"Top 20 %\": 4.37159187851803, \"Bottom 20 %\": 5.57035112426021, \"Top 20 % Deviation\": -1.626997544598868, \"Bottom 20 % Deviation\": -0.4282382988566907}, {\"date\": \"2020-12-27T00:00:00+00:00\", \"Top 20 %\": 4.095654133218488, \"Bottom 20 %\": 5.311930683986056, \"Top 20 % Deviation\": -1.9029352898984109, \"Bottom 20 % Deviation\": -0.6866587391308447}, {\"date\": \"2020-12-28T00:00:00+00:00\", \"Top 20 %\": 4.094927068731185, \"Bottom 20 %\": 5.050975281376454, \"Top 20 % Deviation\": -1.9036623543857139, \"Bottom 20 % Deviation\": -0.9476141417404461}, {\"date\": \"2020-12-29T00:00:00+00:00\", \"Top 20 %\": 4.236218512120257, \"Bottom 20 %\": 5.089371023269045, \"Top 20 % Deviation\": -1.762370910996642, \"Bottom 20 % Deviation\": -0.9092183998478557}, {\"date\": \"2020-12-30T00:00:00+00:00\", \"Top 20 %\": 4.419132512416994, \"Bottom 20 %\": 5.19915320108546, \"Top 20 % Deviation\": -1.5794569106999057, \"Bottom 20 % Deviation\": -0.799436222031441}, {\"date\": \"2020-12-31T00:00:00+00:00\", \"Top 20 %\": 4.351813215469711, \"Bottom 20 %\": 4.855812943862485, \"Top 20 % Deviation\": -1.646776207647188, \"Bottom 20 % Deviation\": -1.1427764792544153}]}}, {\"mode\": \"vega-lite\"});\n",
              "</script>"
            ]
          },
          "metadata": {
            "tags": []
          },
          "execution_count": 26
        },
        {
          "output_type": "stream",
          "text": [
            "time: 137 ms (started: 2021-04-22 02:10:53 +00:00)\n"
          ],
          "name": "stdout"
        }
      ]
    },
    {
      "cell_type": "code",
      "metadata": {
        "colab": {
          "base_uri": "https://localhost:8080/"
        },
        "id": "owhSJQqe7rVM",
        "outputId": "f7483afe-075f-44b0-a0e3-97d9132d51e1"
      },
      "source": [
        "#Conversion of datetime format\n",
        "df['date'] = pd.to_datetime(df['date'],utc= True)\n",
        " "
      ],
      "execution_count": null,
      "outputs": [
        {
          "output_type": "stream",
          "text": [
            "time: 7.15 ms (started: 2021-04-22 02:10:53 +00:00)\n"
          ],
          "name": "stdout"
        }
      ]
    },
    {
      "cell_type": "markdown",
      "metadata": {
        "id": "yCVL0_NiBLU0"
      },
      "source": [
        "#Filtering based on important dates\n",
        "\n",
        "**March 17, 2020:**\n",
        "Governor Pritzker announced statewide school closures beginning March 17 until March 30.\n",
        "\n",
        "\n",
        "\n",
        "\n",
        "\n",
        "\n",
        "\n",
        "\n",
        "\n",
        "\n"
      ]
    },
    {
      "cell_type": "code",
      "metadata": {
        "colab": {
          "base_uri": "https://localhost:8080/",
          "height": 385
        },
        "id": "gelkUE5NBJps",
        "outputId": "d73d6b0e-aa33-438c-9079-56961c589ee6"
      },
      "source": [
        "start_date = '2020-3-12'\n",
        "end_date = '2020-4-3'\n",
        "df1 = apply_date_filter(df,start_date,end_date)\n",
        "chart = create_chart(df1)\n",
        "chart"
      ],
      "execution_count": null,
      "outputs": [
        {
          "output_type": "execute_result",
          "data": {
            "text/plain": [
              "alt.LayerChart(...)"
            ],
            "text/html": [
              "\n",
              "<div id=\"altair-viz-65165c99139a4b989f557db9aa60ac14\"></div>\n",
              "<script type=\"text/javascript\">\n",
              "  (function(spec, embedOpt){\n",
              "    let outputDiv = document.currentScript.previousElementSibling;\n",
              "    if (outputDiv.id !== \"altair-viz-65165c99139a4b989f557db9aa60ac14\") {\n",
              "      outputDiv = document.getElementById(\"altair-viz-65165c99139a4b989f557db9aa60ac14\");\n",
              "    }\n",
              "    const paths = {\n",
              "      \"vega\": \"https://cdn.jsdelivr.net/npm//vega@5?noext\",\n",
              "      \"vega-lib\": \"https://cdn.jsdelivr.net/npm//vega-lib?noext\",\n",
              "      \"vega-lite\": \"https://cdn.jsdelivr.net/npm//vega-lite@4.8.1?noext\",\n",
              "      \"vega-embed\": \"https://cdn.jsdelivr.net/npm//vega-embed@6?noext\",\n",
              "    };\n",
              "\n",
              "    function loadScript(lib) {\n",
              "      return new Promise(function(resolve, reject) {\n",
              "        var s = document.createElement('script');\n",
              "        s.src = paths[lib];\n",
              "        s.async = true;\n",
              "        s.onload = () => resolve(paths[lib]);\n",
              "        s.onerror = () => reject(`Error loading script: ${paths[lib]}`);\n",
              "        document.getElementsByTagName(\"head\")[0].appendChild(s);\n",
              "      });\n",
              "    }\n",
              "\n",
              "    function showError(err) {\n",
              "      outputDiv.innerHTML = `<div class=\"error\" style=\"color:red;\">${err}</div>`;\n",
              "      throw err;\n",
              "    }\n",
              "\n",
              "    function displayChart(vegaEmbed) {\n",
              "      vegaEmbed(outputDiv, spec, embedOpt)\n",
              "        .catch(err => showError(`Javascript Error: ${err.message}<br>This usually means there's a typo in your chart specification. See the javascript console for the full traceback.`));\n",
              "    }\n",
              "\n",
              "    if(typeof define === \"function\" && define.amd) {\n",
              "      requirejs.config({paths});\n",
              "      require([\"vega-embed\"], displayChart, err => showError(`Error loading script: ${err.message}`));\n",
              "    } else if (typeof vegaEmbed === \"function\") {\n",
              "      displayChart(vegaEmbed);\n",
              "    } else {\n",
              "      loadScript(\"vega\")\n",
              "        .then(() => loadScript(\"vega-lite\"))\n",
              "        .then(() => loadScript(\"vega-embed\"))\n",
              "        .catch(showError)\n",
              "        .then(() => displayChart(vegaEmbed));\n",
              "    }\n",
              "  })({\"config\": {\"view\": {\"continuousHeight\": 300, \"continuousWidth\": 400}, \"range\": {\"category\": {\"scheme\": [\"#FF4500\", \"#a0aab4\", \"#4E79A7\"]}}}, \"layer\": [{\"data\": {\"name\": \"data-900a78277b176015bf660ee9d7d11288\"}, \"mark\": \"line\", \"encoding\": {\"color\": {\"type\": \"nominal\", \"field\": \"Poverty %\"}, \"x\": {\"type\": \"temporal\", \"field\": \"date\", \"title\": \"Date\"}, \"y\": {\"type\": \"quantitative\", \"field\": \"full_time_work\", \"title\": \"Full Time %\"}}, \"selection\": {\"selector001\": {\"type\": \"interval\", \"bind\": \"scales\", \"encodings\": [\"x\", \"y\"]}}, \"transform\": [{\"fold\": [\"Bottom 20 % Deviation\", \"Top 20 % Deviation\"], \"as\": [\"Poverty %\", \"full_time_work\"]}], \"width\": 1000}, {\"data\": {\"name\": \"data-7f3a6b86ed460c4e648f2393735a11f6\"}, \"mark\": {\"type\": \"rule\", \"color\": \"#757575\", \"size\": 2, \"strokeDash\": [5, 3]}, \"encoding\": {\"size\": {\"value\": 2}, \"y\": {\"type\": \"quantitative\", \"field\": \"Mean 2019\"}}}, {\"data\": {\"name\": \"data-d764767e7dd3b10b2c76c1355ce10ef3\"}, \"mark\": {\"type\": \"text\", \"angle\": 0, \"text\": \"Mean 2019\"}, \"encoding\": {\"opacity\": {\"value\": 0.4}, \"y\": {\"type\": \"quantitative\", \"field\": \"y\"}}}], \"$schema\": \"https://vega.github.io/schema/vega-lite/v4.8.1.json\", \"datasets\": {\"data-900a78277b176015bf660ee9d7d11288\": [{\"date\": \"2020-03-16T00:00:00+00:00\", \"Top 20 %\": 6.132172012376888, \"Bottom 20 %\": 4.022031686505371, \"Top 20 % Deviation\": 0.1335825892599818, \"Bottom 20 % Deviation\": -1.976557736611535}, {\"date\": \"2020-03-26T00:00:00+00:00\", \"Top 20 %\": 3.794411513205759, \"Bottom 20 %\": 4.554041615325941, \"Top 20 % Deviation\": -2.204177909911147, \"Bottom 20 % Deviation\": -1.4445478077909648}, {\"date\": \"2020-03-25T00:00:00+00:00\", \"Top 20 %\": 3.74138348252243, \"Bottom 20 %\": 3.4285629764372088, \"Top 20 % Deviation\": -2.257205940594476, \"Bottom 20 % Deviation\": -2.570026446679697}, {\"date\": \"2020-03-20T00:00:00+00:00\", \"Top 20 %\": 3.2717149970331953, \"Bottom 20 %\": 3.4268335830835825, \"Top 20 % Deviation\": -2.7268744260837106, \"Bottom 20 % Deviation\": -2.5717558400333234}, {\"date\": \"2020-03-24T00:00:00+00:00\", \"Top 20 %\": 3.4793667925064997, \"Bottom 20 %\": 5.193408462270355, \"Top 20 % Deviation\": -2.519222630610406, \"Bottom 20 % Deviation\": -0.8051809608465508}, {\"date\": \"2020-03-13T00:00:00+00:00\", \"Top 20 %\": 8.689370245878758, \"Bottom 20 %\": 4.890904117185172, \"Top 20 % Deviation\": 2.6907808227618517, \"Bottom 20 % Deviation\": -1.1076853059317342}, {\"date\": \"2020-03-27T00:00:00+00:00\", \"Top 20 %\": 3.54696454750703, \"Bottom 20 %\": 4.176724763025073, \"Top 20 % Deviation\": -2.451624875609876, \"Bottom 20 % Deviation\": -1.8218646600918333}, {\"date\": \"2020-03-22T00:00:00+00:00\", \"Top 20 %\": 2.8767239276835004, \"Bottom 20 %\": 6.272783908152572, \"Top 20 % Deviation\": -3.1218654954334055, \"Bottom 20 % Deviation\": 0.27419448503566635}, {\"date\": \"2020-03-28T00:00:00+00:00\", \"Top 20 %\": 2.527093412795455, \"Bottom 20 %\": 4.117212874565816, \"Top 20 % Deviation\": -3.471496010321451, \"Bottom 20 % Deviation\": -1.8813765485510903}, {\"date\": \"2020-03-19T00:00:00+00:00\", \"Top 20 %\": 4.395122848217324, \"Bottom 20 %\": 3.1134344721301246, \"Top 20 % Deviation\": -1.6034665748995822, \"Bottom 20 % Deviation\": -2.8851549509867813}, {\"date\": \"2020-04-01T00:00:00+00:00\", \"Top 20 %\": 3.0936078545087318, \"Bottom 20 %\": 2.486716380191072, \"Top 20 % Deviation\": -2.904981568608174, \"Bottom 20 % Deviation\": -3.511873042925834}, {\"date\": \"2020-04-03T00:00:00+00:00\", \"Top 20 %\": 2.9216533183196973, \"Bottom 20 %\": 3.029727134150582, \"Top 20 % Deviation\": -3.0769361047972086, \"Bottom 20 % Deviation\": -2.968862288966324}, {\"date\": \"2020-03-29T00:00:00+00:00\", \"Top 20 %\": 2.1292621426679346, \"Bottom 20 %\": 3.047401424527548, \"Top 20 % Deviation\": -3.8693272804489713, \"Bottom 20 % Deviation\": -2.951187998589358}, {\"date\": \"2020-03-15T00:00:00+00:00\", \"Top 20 %\": 2.3846198061621457, \"Bottom 20 %\": 4.048323830158127, \"Top 20 % Deviation\": -3.61396961695476, \"Bottom 20 % Deviation\": -1.9502655929587789}, {\"date\": \"2020-03-17T00:00:00+00:00\", \"Top 20 %\": 5.16115879869504, \"Bottom 20 %\": 3.8940761904411025, \"Top 20 % Deviation\": -0.8374306244218657, \"Bottom 20 % Deviation\": -2.1045132326758034}, {\"date\": \"2020-04-02T00:00:00+00:00\", \"Top 20 %\": 3.159417720313483, \"Bottom 20 %\": 3.4210666547623068, \"Top 20 % Deviation\": -2.839171702803423, \"Bottom 20 % Deviation\": -2.577522768354599}, {\"date\": \"2020-03-18T00:00:00+00:00\", \"Top 20 %\": 4.204657765378029, \"Bottom 20 %\": 2.6280061860806834, \"Top 20 % Deviation\": -1.7939316577388773, \"Bottom 20 % Deviation\": -3.3705832370362225}, {\"date\": \"2020-03-31T00:00:00+00:00\", \"Top 20 %\": 3.7371498645804153, \"Bottom 20 %\": 2.9110482772856496, \"Top 20 % Deviation\": -2.2614395585364906, \"Bottom 20 % Deviation\": -3.0875411458312563}, {\"date\": \"2020-03-14T00:00:00+00:00\", \"Top 20 %\": 2.598891838590593, \"Bottom 20 %\": 2.968201679501989, \"Top 20 % Deviation\": -3.399697584526313, \"Bottom 20 % Deviation\": -3.030387743614917}, {\"date\": \"2020-03-23T00:00:00+00:00\", \"Top 20 %\": 3.8168253657022326, \"Bottom 20 %\": 6.425135767252491, \"Top 20 % Deviation\": -2.1817640574146733, \"Bottom 20 % Deviation\": 0.426546344135585}, {\"date\": \"2020-03-30T00:00:00+00:00\", \"Top 20 %\": 3.740940686384498, \"Bottom 20 %\": 3.934851090450315, \"Top 20 % Deviation\": -2.257648736732408, \"Bottom 20 % Deviation\": -2.063738332666591}, {\"date\": \"2020-03-21T00:00:00+00:00\", \"Top 20 %\": 2.586170085825678, \"Bottom 20 %\": 3.4938888251359845, \"Top 20 % Deviation\": -3.4124193372912277, \"Bottom 20 % Deviation\": -2.5047005979809214}], \"data-7f3a6b86ed460c4e648f2393735a11f6\": [{\"Mean 2019\": 0}], \"data-d764767e7dd3b10b2c76c1355ce10ef3\": [{\"y\": 1}]}}, {\"mode\": \"vega-lite\"});\n",
              "</script>"
            ]
          },
          "metadata": {
            "tags": []
          },
          "execution_count": 28
        },
        {
          "output_type": "stream",
          "text": [
            "time: 110 ms (started: 2021-04-22 02:10:53 +00:00)\n"
          ],
          "name": "stdout"
        }
      ]
    },
    {
      "cell_type": "markdown",
      "metadata": {
        "id": "eY48F9-7gp2q"
      },
      "source": [
        "\n",
        "\n",
        "**April 20, 2020:**\n",
        "Illinois state topped 3,000 new cases in a day for the first time. \n",
        "\n",
        "\n",
        "\n",
        "\n",
        "\n",
        "\n",
        "\n"
      ]
    },
    {
      "cell_type": "code",
      "metadata": {
        "colab": {
          "base_uri": "https://localhost:8080/",
          "height": 385
        },
        "id": "_DhDPv1GfRhR",
        "outputId": "f3072f58-43aa-4c1e-967c-8659a7ee2f4b"
      },
      "source": [
        "start_date = '2020-4-14'\n",
        "end_date = '2020-5-1'\n",
        "df2 = apply_date_filter(df,start_date,end_date)\n",
        "chart = create_chart(df2)\n",
        "chart\n",
        "#df2"
      ],
      "execution_count": null,
      "outputs": [
        {
          "output_type": "execute_result",
          "data": {
            "text/plain": [
              "alt.LayerChart(...)"
            ],
            "text/html": [
              "\n",
              "<div id=\"altair-viz-edcb06e6f21a44358b650097d57cbd6e\"></div>\n",
              "<script type=\"text/javascript\">\n",
              "  (function(spec, embedOpt){\n",
              "    let outputDiv = document.currentScript.previousElementSibling;\n",
              "    if (outputDiv.id !== \"altair-viz-edcb06e6f21a44358b650097d57cbd6e\") {\n",
              "      outputDiv = document.getElementById(\"altair-viz-edcb06e6f21a44358b650097d57cbd6e\");\n",
              "    }\n",
              "    const paths = {\n",
              "      \"vega\": \"https://cdn.jsdelivr.net/npm//vega@5?noext\",\n",
              "      \"vega-lib\": \"https://cdn.jsdelivr.net/npm//vega-lib?noext\",\n",
              "      \"vega-lite\": \"https://cdn.jsdelivr.net/npm//vega-lite@4.8.1?noext\",\n",
              "      \"vega-embed\": \"https://cdn.jsdelivr.net/npm//vega-embed@6?noext\",\n",
              "    };\n",
              "\n",
              "    function loadScript(lib) {\n",
              "      return new Promise(function(resolve, reject) {\n",
              "        var s = document.createElement('script');\n",
              "        s.src = paths[lib];\n",
              "        s.async = true;\n",
              "        s.onload = () => resolve(paths[lib]);\n",
              "        s.onerror = () => reject(`Error loading script: ${paths[lib]}`);\n",
              "        document.getElementsByTagName(\"head\")[0].appendChild(s);\n",
              "      });\n",
              "    }\n",
              "\n",
              "    function showError(err) {\n",
              "      outputDiv.innerHTML = `<div class=\"error\" style=\"color:red;\">${err}</div>`;\n",
              "      throw err;\n",
              "    }\n",
              "\n",
              "    function displayChart(vegaEmbed) {\n",
              "      vegaEmbed(outputDiv, spec, embedOpt)\n",
              "        .catch(err => showError(`Javascript Error: ${err.message}<br>This usually means there's a typo in your chart specification. See the javascript console for the full traceback.`));\n",
              "    }\n",
              "\n",
              "    if(typeof define === \"function\" && define.amd) {\n",
              "      requirejs.config({paths});\n",
              "      require([\"vega-embed\"], displayChart, err => showError(`Error loading script: ${err.message}`));\n",
              "    } else if (typeof vegaEmbed === \"function\") {\n",
              "      displayChart(vegaEmbed);\n",
              "    } else {\n",
              "      loadScript(\"vega\")\n",
              "        .then(() => loadScript(\"vega-lite\"))\n",
              "        .then(() => loadScript(\"vega-embed\"))\n",
              "        .catch(showError)\n",
              "        .then(() => displayChart(vegaEmbed));\n",
              "    }\n",
              "  })({\"config\": {\"view\": {\"continuousHeight\": 300, \"continuousWidth\": 400}, \"range\": {\"category\": {\"scheme\": [\"#FF4500\", \"#a0aab4\", \"#4E79A7\"]}}}, \"layer\": [{\"data\": {\"name\": \"data-8e58e5dd4a451f0d601c7654f0d0939c\"}, \"mark\": \"line\", \"encoding\": {\"color\": {\"type\": \"nominal\", \"field\": \"Poverty %\"}, \"x\": {\"type\": \"temporal\", \"field\": \"date\", \"title\": \"Date\"}, \"y\": {\"type\": \"quantitative\", \"field\": \"full_time_work\", \"title\": \"Full Time %\"}}, \"selection\": {\"selector002\": {\"type\": \"interval\", \"bind\": \"scales\", \"encodings\": [\"x\", \"y\"]}}, \"transform\": [{\"fold\": [\"Bottom 20 % Deviation\", \"Top 20 % Deviation\"], \"as\": [\"Poverty %\", \"full_time_work\"]}], \"width\": 1000}, {\"data\": {\"name\": \"data-7f3a6b86ed460c4e648f2393735a11f6\"}, \"mark\": {\"type\": \"rule\", \"color\": \"#757575\", \"size\": 2, \"strokeDash\": [5, 3]}, \"encoding\": {\"size\": {\"value\": 2}, \"y\": {\"type\": \"quantitative\", \"field\": \"Mean 2019\"}}}, {\"data\": {\"name\": \"data-d764767e7dd3b10b2c76c1355ce10ef3\"}, \"mark\": {\"type\": \"text\", \"angle\": 0, \"text\": \"Mean 2019\"}, \"encoding\": {\"opacity\": {\"value\": 0.4}, \"y\": {\"type\": \"quantitative\", \"field\": \"y\"}}}], \"$schema\": \"https://vega.github.io/schema/vega-lite/v4.8.1.json\", \"datasets\": {\"data-8e58e5dd4a451f0d601c7654f0d0939c\": [{\"date\": \"2020-04-20T00:00:00+00:00\", \"Top 20 %\": 2.875294976500229, \"Bottom 20 %\": 3.4199210321778004, \"Top 20 % Deviation\": -3.123294446616677, \"Bottom 20 % Deviation\": -2.5786683909391055}, {\"date\": \"2020-04-22T00:00:00+00:00\", \"Top 20 %\": 3.1585313012325065, \"Bottom 20 %\": 4.030446952187969, \"Top 20 % Deviation\": -2.8400581218843994, \"Bottom 20 % Deviation\": -1.968142470928937}, {\"date\": \"2020-04-19T00:00:00+00:00\", \"Top 20 %\": 2.6555060828247683, \"Bottom 20 %\": 4.645839127765581, \"Top 20 % Deviation\": -3.3430833402921376, \"Bottom 20 % Deviation\": -1.352750295351325}, {\"date\": \"2020-04-25T00:00:00+00:00\", \"Top 20 %\": 2.628755999431561, \"Bottom 20 %\": 3.139124721034659, \"Top 20 % Deviation\": -3.369833423685345, \"Bottom 20 % Deviation\": -2.859464702082247}, {\"date\": \"2020-04-23T00:00:00+00:00\", \"Top 20 %\": 3.537713449877529, \"Bottom 20 %\": 4.991855068473244, \"Top 20 % Deviation\": -2.460875973239377, \"Bottom 20 % Deviation\": -1.0067343546436618}, {\"date\": \"2020-04-21T00:00:00+00:00\", \"Top 20 %\": 3.5628885462953748, \"Bottom 20 %\": 6.281336239623049, \"Top 20 % Deviation\": -2.435700876821531, \"Bottom 20 % Deviation\": 0.2827468165061431}, {\"date\": \"2020-04-30T00:00:00+00:00\", \"Top 20 %\": 3.165261198812846, \"Bottom 20 %\": 3.2074592753907316, \"Top 20 % Deviation\": -2.83332822430406, \"Bottom 20 % Deviation\": -2.7911301477261743}, {\"date\": \"2020-04-17T00:00:00+00:00\", \"Top 20 %\": 3.398966023219294, \"Bottom 20 %\": 4.710655309665633, \"Top 20 % Deviation\": -2.5996233998976117, \"Bottom 20 % Deviation\": -1.2879341134512732}, {\"date\": \"2020-04-26T00:00:00+00:00\", \"Top 20 %\": 2.4361614105248863, \"Bottom 20 %\": 3.38734027287705, \"Top 20 % Deviation\": -3.5624280125920196, \"Bottom 20 % Deviation\": -2.611249150239856}, {\"date\": \"2020-04-27T00:00:00+00:00\", \"Top 20 %\": 3.291838206187948, \"Bottom 20 %\": 3.981841685678401, \"Top 20 % Deviation\": -2.706751216928958, \"Bottom 20 % Deviation\": -2.016747737438505}, {\"date\": \"2020-04-15T00:00:00+00:00\", \"Top 20 %\": 4.005986799718782, \"Bottom 20 %\": 7.734852400194467, \"Top 20 % Deviation\": -1.992602623398124, \"Bottom 20 % Deviation\": 1.736262977077561}, {\"date\": \"2020-04-18T00:00:00+00:00\", \"Top 20 %\": 2.598635459754075, \"Bottom 20 %\": 3.75077805097843, \"Top 20 % Deviation\": -3.399953963362831, \"Bottom 20 % Deviation\": -2.247811372138476}, {\"date\": \"2020-04-24T00:00:00+00:00\", \"Top 20 %\": 3.4265337168504213, \"Bottom 20 %\": 3.5599816849816848, \"Top 20 % Deviation\": -2.5720557062664846, \"Bottom 20 % Deviation\": -2.438607738135221}, {\"date\": \"2020-04-29T00:00:00+00:00\", \"Top 20 %\": 3.4022578575149085, \"Bottom 20 %\": 2.8307945769971923, \"Top 20 % Deviation\": -2.5963315656019974, \"Bottom 20 % Deviation\": -3.1677948461197136}, {\"date\": \"2020-04-16T00:00:00+00:00\", \"Top 20 %\": 3.4811945217482285, \"Bottom 20 %\": 3.408133596734745, \"Top 20 % Deviation\": -2.5173949013686774, \"Bottom 20 % Deviation\": -2.590455826382161}, {\"date\": \"2020-04-28T00:00:00+00:00\", \"Top 20 %\": 3.5190911779290723, \"Bottom 20 %\": 3.935056349423061, \"Top 20 % Deviation\": -2.4794982451878336, \"Bottom 20 % Deviation\": -2.063533073693845}, {\"date\": \"2020-05-01T00:00:00+00:00\", \"Top 20 %\": 4.069699876328998, \"Bottom 20 %\": 6.172795433129753, \"Top 20 % Deviation\": -1.9288895467879081, \"Bottom 20 % Deviation\": 0.1742060100128473}], \"data-7f3a6b86ed460c4e648f2393735a11f6\": [{\"Mean 2019\": 0}], \"data-d764767e7dd3b10b2c76c1355ce10ef3\": [{\"y\": 1}]}}, {\"mode\": \"vega-lite\"});\n",
              "</script>"
            ]
          },
          "metadata": {
            "tags": []
          },
          "execution_count": 29
        },
        {
          "output_type": "stream",
          "text": [
            "time: 79.9 ms (started: 2021-04-22 02:10:53 +00:00)\n"
          ],
          "name": "stdout"
        }
      ]
    },
    {
      "cell_type": "markdown",
      "metadata": {
        "id": "mxC6dH7YiWxd"
      },
      "source": [
        "\n",
        "**June 3, 2020:** \n",
        "Chicago began gradually allowing businesses to open doors for outside dining and other services, though some shops remained closed following lootings in the aftermath of George Floyd's death, during phase three of its reopening.\n",
        "\n",
        "\n"
      ]
    },
    {
      "cell_type": "code",
      "metadata": {
        "colab": {
          "base_uri": "https://localhost:8080/",
          "height": 385
        },
        "id": "KTaOPmN5fRmL",
        "outputId": "540058f9-371a-422d-d848-0c30f37dd721"
      },
      "source": [
        "start_date = '2020-6-1'\n",
        "end_date = '2020-6-16'\n",
        "df3 = apply_date_filter(df,start_date,end_date)\n",
        "chart = create_chart(df3)\n",
        "chart"
      ],
      "execution_count": null,
      "outputs": [
        {
          "output_type": "execute_result",
          "data": {
            "text/plain": [
              "alt.LayerChart(...)"
            ],
            "text/html": [
              "\n",
              "<div id=\"altair-viz-57cfce6d1d824485bea716188e0e04d4\"></div>\n",
              "<script type=\"text/javascript\">\n",
              "  (function(spec, embedOpt){\n",
              "    let outputDiv = document.currentScript.previousElementSibling;\n",
              "    if (outputDiv.id !== \"altair-viz-57cfce6d1d824485bea716188e0e04d4\") {\n",
              "      outputDiv = document.getElementById(\"altair-viz-57cfce6d1d824485bea716188e0e04d4\");\n",
              "    }\n",
              "    const paths = {\n",
              "      \"vega\": \"https://cdn.jsdelivr.net/npm//vega@5?noext\",\n",
              "      \"vega-lib\": \"https://cdn.jsdelivr.net/npm//vega-lib?noext\",\n",
              "      \"vega-lite\": \"https://cdn.jsdelivr.net/npm//vega-lite@4.8.1?noext\",\n",
              "      \"vega-embed\": \"https://cdn.jsdelivr.net/npm//vega-embed@6?noext\",\n",
              "    };\n",
              "\n",
              "    function loadScript(lib) {\n",
              "      return new Promise(function(resolve, reject) {\n",
              "        var s = document.createElement('script');\n",
              "        s.src = paths[lib];\n",
              "        s.async = true;\n",
              "        s.onload = () => resolve(paths[lib]);\n",
              "        s.onerror = () => reject(`Error loading script: ${paths[lib]}`);\n",
              "        document.getElementsByTagName(\"head\")[0].appendChild(s);\n",
              "      });\n",
              "    }\n",
              "\n",
              "    function showError(err) {\n",
              "      outputDiv.innerHTML = `<div class=\"error\" style=\"color:red;\">${err}</div>`;\n",
              "      throw err;\n",
              "    }\n",
              "\n",
              "    function displayChart(vegaEmbed) {\n",
              "      vegaEmbed(outputDiv, spec, embedOpt)\n",
              "        .catch(err => showError(`Javascript Error: ${err.message}<br>This usually means there's a typo in your chart specification. See the javascript console for the full traceback.`));\n",
              "    }\n",
              "\n",
              "    if(typeof define === \"function\" && define.amd) {\n",
              "      requirejs.config({paths});\n",
              "      require([\"vega-embed\"], displayChart, err => showError(`Error loading script: ${err.message}`));\n",
              "    } else if (typeof vegaEmbed === \"function\") {\n",
              "      displayChart(vegaEmbed);\n",
              "    } else {\n",
              "      loadScript(\"vega\")\n",
              "        .then(() => loadScript(\"vega-lite\"))\n",
              "        .then(() => loadScript(\"vega-embed\"))\n",
              "        .catch(showError)\n",
              "        .then(() => displayChart(vegaEmbed));\n",
              "    }\n",
              "  })({\"config\": {\"view\": {\"continuousHeight\": 300, \"continuousWidth\": 400}, \"range\": {\"category\": {\"scheme\": [\"#FF4500\", \"#a0aab4\", \"#4E79A7\"]}}}, \"layer\": [{\"data\": {\"name\": \"data-6564958ea8272f2d2439552887c0ce63\"}, \"mark\": \"line\", \"encoding\": {\"color\": {\"type\": \"nominal\", \"field\": \"Poverty %\"}, \"x\": {\"type\": \"temporal\", \"field\": \"date\", \"title\": \"Date\"}, \"y\": {\"type\": \"quantitative\", \"field\": \"full_time_work\", \"title\": \"Full Time %\"}}, \"selection\": {\"selector003\": {\"type\": \"interval\", \"bind\": \"scales\", \"encodings\": [\"x\", \"y\"]}}, \"transform\": [{\"fold\": [\"Bottom 20 % Deviation\", \"Top 20 % Deviation\"], \"as\": [\"Poverty %\", \"full_time_work\"]}], \"width\": 1000}, {\"data\": {\"name\": \"data-7f3a6b86ed460c4e648f2393735a11f6\"}, \"mark\": {\"type\": \"rule\", \"color\": \"#757575\", \"size\": 2, \"strokeDash\": [5, 3]}, \"encoding\": {\"size\": {\"value\": 2}, \"y\": {\"type\": \"quantitative\", \"field\": \"Mean 2019\"}}}, {\"data\": {\"name\": \"data-d764767e7dd3b10b2c76c1355ce10ef3\"}, \"mark\": {\"type\": \"text\", \"angle\": 0, \"text\": \"Mean 2019\"}, \"encoding\": {\"opacity\": {\"value\": 0.4}, \"y\": {\"type\": \"quantitative\", \"field\": \"y\"}}}], \"$schema\": \"https://vega.github.io/schema/vega-lite/v4.8.1.json\", \"datasets\": {\"data-6564958ea8272f2d2439552887c0ce63\": [{\"date\": \"2020-06-08T00:00:00+00:00\", \"Top 20 %\": 3.9472066072211796, \"Bottom 20 %\": 2.65746189728464, \"Top 20 % Deviation\": -2.0513828158957264, \"Bottom 20 % Deviation\": -3.341127525832266}, {\"date\": \"2020-06-09T00:00:00+00:00\", \"Top 20 %\": 4.456583663472497, \"Bottom 20 %\": 4.309834347740995, \"Top 20 % Deviation\": -1.5420057596444092, \"Bottom 20 % Deviation\": -1.6887550753759113}, {\"date\": \"2020-06-12T00:00:00+00:00\", \"Top 20 %\": 3.287377222507045, \"Bottom 20 %\": 2.7208205729382358, \"Top 20 % Deviation\": -2.711212200609861, \"Bottom 20 % Deviation\": -3.27776885017867}, {\"date\": \"2020-06-16T00:00:00+00:00\", \"Top 20 %\": 4.413694560583032, \"Bottom 20 %\": 4.794107870890745, \"Top 20 % Deviation\": -1.584894862533874, \"Bottom 20 % Deviation\": -1.2044815522261612}, {\"date\": \"2020-06-07T00:00:00+00:00\", \"Top 20 %\": 2.412183519363163, \"Bottom 20 %\": 2.4956789964453145, \"Top 20 % Deviation\": -3.586405903753743, \"Bottom 20 % Deviation\": -3.5029104266715914}, {\"date\": \"2020-06-13T00:00:00+00:00\", \"Top 20 %\": 2.1584909745942458, \"Bottom 20 %\": 2.4833919223427072, \"Top 20 % Deviation\": -3.84009844852266, \"Bottom 20 % Deviation\": -3.5151975007741987}, {\"date\": \"2020-06-11T00:00:00+00:00\", \"Top 20 %\": 3.9523661686894846, \"Bottom 20 %\": 5.302633117953052, \"Top 20 % Deviation\": -2.0462232544274213, \"Bottom 20 % Deviation\": -0.695956305163854}, {\"date\": \"2020-06-15T00:00:00+00:00\", \"Top 20 %\": 4.615244744592487, \"Bottom 20 %\": 5.736568429453655, \"Top 20 % Deviation\": -1.383344678524419, \"Bottom 20 % Deviation\": -0.26202099366325093}, {\"date\": \"2020-06-14T00:00:00+00:00\", \"Top 20 %\": 2.0772865587825704, \"Bottom 20 %\": 3.267920549324892, \"Top 20 % Deviation\": -3.9213028643343355, \"Bottom 20 % Deviation\": -2.730668873792014}, {\"date\": \"2020-06-06T00:00:00+00:00\", \"Top 20 %\": 2.5527263686082975, \"Bottom 20 %\": 3.123797498797499, \"Top 20 % Deviation\": -3.4458630545086084, \"Bottom 20 % Deviation\": -2.874791924319407}, {\"date\": \"2020-06-03T00:00:00+00:00\", \"Top 20 %\": 3.821593705974524, \"Bottom 20 %\": 4.500173829061757, \"Top 20 % Deviation\": -2.1769957171423817, \"Bottom 20 % Deviation\": -1.4984155940551487}, {\"date\": \"2020-06-02T00:00:00+00:00\", \"Top 20 %\": 3.8716683097510445, \"Bottom 20 %\": 4.5028474770130735, \"Top 20 % Deviation\": -2.1269211133658614, \"Bottom 20 % Deviation\": -1.4957419461038324}, {\"date\": \"2020-06-05T00:00:00+00:00\", \"Top 20 %\": 4.2943949725220705, \"Bottom 20 %\": 3.7106831980103863, \"Top 20 % Deviation\": -1.7041944505948354, \"Bottom 20 % Deviation\": -2.2879062251065196}, {\"date\": \"2020-06-04T00:00:00+00:00\", \"Top 20 %\": 4.5205019859324445, \"Bottom 20 %\": 4.647590742662869, \"Top 20 % Deviation\": -1.4780874371844615, \"Bottom 20 % Deviation\": -1.3509986804540368}, {\"date\": \"2020-06-10T00:00:00+00:00\", \"Top 20 %\": 3.859679452557637, \"Bottom 20 %\": 4.562616953286924, \"Top 20 % Deviation\": -2.138909970559269, \"Bottom 20 % Deviation\": -1.4359724698299816}], \"data-7f3a6b86ed460c4e648f2393735a11f6\": [{\"Mean 2019\": 0}], \"data-d764767e7dd3b10b2c76c1355ce10ef3\": [{\"y\": 1}]}}, {\"mode\": \"vega-lite\"});\n",
              "</script>"
            ]
          },
          "metadata": {
            "tags": []
          },
          "execution_count": 30
        },
        {
          "output_type": "stream",
          "text": [
            "time: 53.3 ms (started: 2021-04-22 02:10:53 +00:00)\n"
          ],
          "name": "stdout"
        }
      ]
    },
    {
      "cell_type": "markdown",
      "metadata": {
        "id": "I1uLmyxVi6Zo"
      },
      "source": [
        "**September 8, 2020:** Chicago Public Schools began its fall quarter with remote learning, with families across the city reporting a range of successes and frustrations.\n"
      ]
    },
    {
      "cell_type": "code",
      "metadata": {
        "colab": {
          "base_uri": "https://localhost:8080/",
          "height": 385
        },
        "id": "YZ29_JeZfRqz",
        "outputId": "55fe72cc-eba7-4d62-bbd4-ce51cbedb8ce"
      },
      "source": [
        "start_date = '2020-09-1'\n",
        "end_date = '2020-09-14'\n",
        "df4 = apply_date_filter(df,start_date,end_date)\n",
        "chart = create_chart(df4)\n",
        "chart"
      ],
      "execution_count": null,
      "outputs": [
        {
          "output_type": "execute_result",
          "data": {
            "text/plain": [
              "alt.LayerChart(...)"
            ],
            "text/html": [
              "\n",
              "<div id=\"altair-viz-93c31e959ea045f386818d10c87bc406\"></div>\n",
              "<script type=\"text/javascript\">\n",
              "  (function(spec, embedOpt){\n",
              "    let outputDiv = document.currentScript.previousElementSibling;\n",
              "    if (outputDiv.id !== \"altair-viz-93c31e959ea045f386818d10c87bc406\") {\n",
              "      outputDiv = document.getElementById(\"altair-viz-93c31e959ea045f386818d10c87bc406\");\n",
              "    }\n",
              "    const paths = {\n",
              "      \"vega\": \"https://cdn.jsdelivr.net/npm//vega@5?noext\",\n",
              "      \"vega-lib\": \"https://cdn.jsdelivr.net/npm//vega-lib?noext\",\n",
              "      \"vega-lite\": \"https://cdn.jsdelivr.net/npm//vega-lite@4.8.1?noext\",\n",
              "      \"vega-embed\": \"https://cdn.jsdelivr.net/npm//vega-embed@6?noext\",\n",
              "    };\n",
              "\n",
              "    function loadScript(lib) {\n",
              "      return new Promise(function(resolve, reject) {\n",
              "        var s = document.createElement('script');\n",
              "        s.src = paths[lib];\n",
              "        s.async = true;\n",
              "        s.onload = () => resolve(paths[lib]);\n",
              "        s.onerror = () => reject(`Error loading script: ${paths[lib]}`);\n",
              "        document.getElementsByTagName(\"head\")[0].appendChild(s);\n",
              "      });\n",
              "    }\n",
              "\n",
              "    function showError(err) {\n",
              "      outputDiv.innerHTML = `<div class=\"error\" style=\"color:red;\">${err}</div>`;\n",
              "      throw err;\n",
              "    }\n",
              "\n",
              "    function displayChart(vegaEmbed) {\n",
              "      vegaEmbed(outputDiv, spec, embedOpt)\n",
              "        .catch(err => showError(`Javascript Error: ${err.message}<br>This usually means there's a typo in your chart specification. See the javascript console for the full traceback.`));\n",
              "    }\n",
              "\n",
              "    if(typeof define === \"function\" && define.amd) {\n",
              "      requirejs.config({paths});\n",
              "      require([\"vega-embed\"], displayChart, err => showError(`Error loading script: ${err.message}`));\n",
              "    } else if (typeof vegaEmbed === \"function\") {\n",
              "      displayChart(vegaEmbed);\n",
              "    } else {\n",
              "      loadScript(\"vega\")\n",
              "        .then(() => loadScript(\"vega-lite\"))\n",
              "        .then(() => loadScript(\"vega-embed\"))\n",
              "        .catch(showError)\n",
              "        .then(() => displayChart(vegaEmbed));\n",
              "    }\n",
              "  })({\"config\": {\"view\": {\"continuousHeight\": 300, \"continuousWidth\": 400}, \"range\": {\"category\": {\"scheme\": [\"#FF4500\", \"#a0aab4\", \"#4E79A7\"]}}}, \"layer\": [{\"data\": {\"name\": \"data-8e405d7be209755a1fd8e0fcc153978e\"}, \"mark\": \"line\", \"encoding\": {\"color\": {\"type\": \"nominal\", \"field\": \"Poverty %\"}, \"x\": {\"type\": \"temporal\", \"field\": \"date\", \"title\": \"Date\"}, \"y\": {\"type\": \"quantitative\", \"field\": \"full_time_work\", \"title\": \"Full Time %\"}}, \"selection\": {\"selector004\": {\"type\": \"interval\", \"bind\": \"scales\", \"encodings\": [\"x\", \"y\"]}}, \"transform\": [{\"fold\": [\"Bottom 20 % Deviation\", \"Top 20 % Deviation\"], \"as\": [\"Poverty %\", \"full_time_work\"]}], \"width\": 1000}, {\"data\": {\"name\": \"data-7f3a6b86ed460c4e648f2393735a11f6\"}, \"mark\": {\"type\": \"rule\", \"color\": \"#757575\", \"size\": 2, \"strokeDash\": [5, 3]}, \"encoding\": {\"size\": {\"value\": 2}, \"y\": {\"type\": \"quantitative\", \"field\": \"Mean 2019\"}}}, {\"data\": {\"name\": \"data-d764767e7dd3b10b2c76c1355ce10ef3\"}, \"mark\": {\"type\": \"text\", \"angle\": 0, \"text\": \"Mean 2019\"}, \"encoding\": {\"opacity\": {\"value\": 0.4}, \"y\": {\"type\": \"quantitative\", \"field\": \"y\"}}}], \"$schema\": \"https://vega.github.io/schema/vega-lite/v4.8.1.json\", \"datasets\": {\"data-8e405d7be209755a1fd8e0fcc153978e\": [{\"date\": \"2020-09-12T00:00:00+00:00\", \"Top 20 %\": 2.3797330126753335, \"Bottom 20 %\": 3.0366175292719033, \"Top 20 % Deviation\": -3.6188564104415724, \"Bottom 20 % Deviation\": -2.9619718938450026}, {\"date\": \"2020-09-11T00:00:00+00:00\", \"Top 20 %\": 4.8977827974648935, \"Bottom 20 %\": 5.172411299180167, \"Top 20 % Deviation\": -1.1008066256520124, \"Bottom 20 % Deviation\": -0.8261781239367387}, {\"date\": \"2020-09-06T00:00:00+00:00\", \"Top 20 %\": 2.5309170307637827, \"Bottom 20 %\": 3.6134002047291145, \"Top 20 % Deviation\": -3.467672392353123, \"Bottom 20 % Deviation\": -2.3851892183877914}, {\"date\": \"2020-09-14T00:00:00+00:00\", \"Top 20 %\": 5.422464712085139, \"Bottom 20 %\": 3.1360227054187266, \"Top 20 % Deviation\": -0.5761247110317669, \"Bottom 20 % Deviation\": -2.8625667176981793}, {\"date\": \"2020-09-13T00:00:00+00:00\", \"Top 20 %\": 2.427454005501898, \"Bottom 20 %\": 3.5033519136137588, \"Top 20 % Deviation\": -3.571135417615008, \"Bottom 20 % Deviation\": -2.495237509503147}, {\"date\": \"2020-09-02T00:00:00+00:00\", \"Top 20 %\": 5.2443296939114425, \"Bottom 20 %\": 5.155487915308534, \"Top 20 % Deviation\": -0.7542597292054634, \"Bottom 20 % Deviation\": -0.8431015078083721}, {\"date\": \"2020-09-03T00:00:00+00:00\", \"Top 20 %\": 5.474158141905398, \"Bottom 20 %\": 4.535969399709511, \"Top 20 % Deviation\": -0.5244312812115082, \"Bottom 20 % Deviation\": -1.4626200234073945}, {\"date\": \"2020-09-05T00:00:00+00:00\", \"Top 20 %\": 3.0812268714000703, \"Bottom 20 %\": 4.560918404668405, \"Top 20 % Deviation\": -2.9173625517168356, \"Bottom 20 % Deviation\": -1.4376710184485013}, {\"date\": \"2020-09-09T00:00:00+00:00\", \"Top 20 %\": 4.98307011173972, \"Bottom 20 %\": 4.45209707984761, \"Top 20 % Deviation\": -1.0155193113771857, \"Bottom 20 % Deviation\": -1.5464923432692963}, {\"date\": \"2020-09-04T00:00:00+00:00\", \"Top 20 %\": 3.9606044957011446, \"Bottom 20 %\": 3.0546250680549023, \"Top 20 % Deviation\": -2.0379849274157613, \"Bottom 20 % Deviation\": -2.9439643550620036}, {\"date\": \"2020-09-07T00:00:00+00:00\", \"Top 20 %\": 2.576427362916079, \"Bottom 20 %\": 3.3102125145496033, \"Top 20 % Deviation\": -3.4221620602008267, \"Bottom 20 % Deviation\": -2.6883769085673026}, {\"date\": \"2020-09-10T00:00:00+00:00\", \"Top 20 %\": 5.2181227334157985, \"Bottom 20 %\": 6.456376144485672, \"Top 20 % Deviation\": -0.7804666897011074, \"Bottom 20 % Deviation\": 0.4577867213687661}, {\"date\": \"2020-09-08T00:00:00+00:00\", \"Top 20 %\": 5.762018104616225, \"Bottom 20 %\": 4.343030875508928, \"Top 20 % Deviation\": -0.23657131850068058, \"Bottom 20 % Deviation\": -1.6555585476079777}], \"data-7f3a6b86ed460c4e648f2393735a11f6\": [{\"Mean 2019\": 0}], \"data-d764767e7dd3b10b2c76c1355ce10ef3\": [{\"y\": 1}]}}, {\"mode\": \"vega-lite\"});\n",
              "</script>"
            ]
          },
          "metadata": {
            "tags": []
          },
          "execution_count": 31
        },
        {
          "output_type": "stream",
          "text": [
            "time: 48.9 ms (started: 2021-04-22 02:10:53 +00:00)\n"
          ],
          "name": "stdout"
        }
      ]
    },
    {
      "cell_type": "code",
      "metadata": {
        "id": "WuiHxms2fRtH"
      },
      "source": [
        ""
      ],
      "execution_count": null,
      "outputs": []
    }
  ]
}