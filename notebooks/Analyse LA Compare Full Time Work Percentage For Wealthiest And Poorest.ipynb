{
  "nbformat": 4,
  "nbformat_minor": 0,
  "metadata": {
    "colab": {
      "name": "Analyse LA Compare Full Time Work Percentage For Wealthiest And Poorest.ipynb",
      "provenance": [],
      "collapsed_sections": [],
      "include_colab_link": true
    },
    "kernelspec": {
      "name": "python3",
      "display_name": "Python 3"
    },
    "language_info": {
      "name": "python"
    }
  },
  "cells": [
    {
      "cell_type": "markdown",
      "metadata": {
        "id": "view-in-github",
        "colab_type": "text"
      },
      "source": [
        "<a href=\"https://colab.research.google.com/github/chouhandiksha/bigdataproject/blob/main/notebooks/Analyse%20LA%20Compare%20Full%20Time%20Work%20Percentage%20For%20Wealthiest%20And%20Poorest.ipynb\" target=\"_parent\"><img src=\"https://colab.research.google.com/assets/colab-badge.svg\" alt=\"Open In Colab\"/></a>"
      ]
    },
    {
      "cell_type": "markdown",
      "metadata": {
        "id": "6Vnc5foT5YFx"
      },
      "source": [
        "**Spark SQL Documentation:** \n",
        "https://spark.apache.org/docs/2.2.0/sql-programming-guide.html"
      ]
    },
    {
      "cell_type": "markdown",
      "metadata": {
        "id": "TrvXUinEPVam"
      },
      "source": [
        "# Analyse LA Compare Full Time Work Percentage For Wealthiest And Poorest\n",
        "\n",
        "*Instructions:*\n",
        "\n",
        "1. Execute the first code cell.\n",
        "2. There will be a link to follow in order to authorize the google account for drive. Go to that link.\n",
        "3. A code to authorize the google account will be generated. Copy the code generated.\n",
        "4. Go back to the cell where the process of mounting the drive is running. Paste the generated code from step 3 to the text box in the cell and press enter."
      ]
    },
    {
      "cell_type": "code",
      "metadata": {
        "id": "XXJ-cpgT3moz",
        "colab": {
          "base_uri": "https://localhost:8080/"
        },
        "outputId": "9b6e6dfb-551f-4a54-f92d-8d532c32f66f"
      },
      "source": [
        "# add time information at the end of every cell\n",
        "!pip install ipython-autotime\n",
        "%load_ext autotime"
      ],
      "execution_count": 57,
      "outputs": [
        {
          "output_type": "stream",
          "text": [
            "Requirement already satisfied: ipython-autotime in /usr/local/lib/python3.7/dist-packages (0.3.1)\n",
            "Requirement already satisfied: ipython in /usr/local/lib/python3.7/dist-packages (from ipython-autotime) (5.5.0)\n",
            "Requirement already satisfied: setuptools>=18.5 in /usr/local/lib/python3.7/dist-packages (from ipython->ipython-autotime) (56.0.0)\n",
            "Requirement already satisfied: pickleshare in /usr/local/lib/python3.7/dist-packages (from ipython->ipython-autotime) (0.7.5)\n",
            "Requirement already satisfied: traitlets>=4.2 in /usr/local/lib/python3.7/dist-packages (from ipython->ipython-autotime) (5.0.5)\n",
            "Requirement already satisfied: simplegeneric>0.8 in /usr/local/lib/python3.7/dist-packages (from ipython->ipython-autotime) (0.8.1)\n",
            "Requirement already satisfied: pexpect; sys_platform != \"win32\" in /usr/local/lib/python3.7/dist-packages (from ipython->ipython-autotime) (4.8.0)\n",
            "Requirement already satisfied: pygments in /usr/local/lib/python3.7/dist-packages (from ipython->ipython-autotime) (2.6.1)\n",
            "Requirement already satisfied: decorator in /usr/local/lib/python3.7/dist-packages (from ipython->ipython-autotime) (4.4.2)\n",
            "Requirement already satisfied: prompt-toolkit<2.0.0,>=1.0.4 in /usr/local/lib/python3.7/dist-packages (from ipython->ipython-autotime) (1.0.18)\n",
            "Requirement already satisfied: ipython-genutils in /usr/local/lib/python3.7/dist-packages (from traitlets>=4.2->ipython->ipython-autotime) (0.2.0)\n",
            "Requirement already satisfied: ptyprocess>=0.5 in /usr/local/lib/python3.7/dist-packages (from pexpect; sys_platform != \"win32\"->ipython->ipython-autotime) (0.7.0)\n",
            "Requirement already satisfied: six>=1.9.0 in /usr/local/lib/python3.7/dist-packages (from prompt-toolkit<2.0.0,>=1.0.4->ipython->ipython-autotime) (1.15.0)\n",
            "Requirement already satisfied: wcwidth in /usr/local/lib/python3.7/dist-packages (from prompt-toolkit<2.0.0,>=1.0.4->ipython->ipython-autotime) (0.2.5)\n",
            "The autotime extension is already loaded. To reload it, use:\n",
            "  %reload_ext autotime\n",
            "time: 5.85 s (started: 2021-05-03 17:44:30 +00:00)\n"
          ],
          "name": "stdout"
        }
      ]
    },
    {
      "cell_type": "code",
      "metadata": {
        "colab": {
          "base_uri": "https://localhost:8080/"
        },
        "id": "DggpqrsrscGi",
        "outputId": "33837478-0b7f-4929-ccba-63984720cabc"
      },
      "source": [
        "# Install required dependancies\n",
        "!pip install pyspark\n",
        "!apt update\n",
        "!apt install openjdk-8-jdk-headless -qq\n",
        "import os\n",
        "os.environ[\"JAVA_HOME\"] = \"/usr/lib/jvm/java-8-openjdk-amd64\""
      ],
      "execution_count": 58,
      "outputs": [
        {
          "output_type": "stream",
          "text": [
            "Requirement already satisfied: pyspark in /usr/local/lib/python3.7/dist-packages (3.1.1)\n",
            "Requirement already satisfied: py4j==0.10.9 in /usr/local/lib/python3.7/dist-packages (from pyspark) (0.10.9)\n",
            "Get:1 http://security.ubuntu.com/ubuntu bionic-security InRelease [88.7 kB]\n",
            "Hit:2 https://cloud.r-project.org/bin/linux/ubuntu bionic-cran40/ InRelease\n",
            "Ign:3 https://developer.download.nvidia.com/compute/cuda/repos/ubuntu1804/x86_64  InRelease\n",
            "Hit:4 http://ppa.launchpad.net/c2d4u.team/c2d4u4.0+/ubuntu bionic InRelease\n",
            "Hit:5 http://archive.ubuntu.com/ubuntu bionic InRelease\n",
            "Ign:6 https://developer.download.nvidia.com/compute/machine-learning/repos/ubuntu1804/x86_64  InRelease\n",
            "Hit:7 https://developer.download.nvidia.com/compute/cuda/repos/ubuntu1804/x86_64  Release\n",
            "Hit:8 https://developer.download.nvidia.com/compute/machine-learning/repos/ubuntu1804/x86_64  Release\n",
            "Get:9 http://archive.ubuntu.com/ubuntu bionic-updates InRelease [88.7 kB]\n",
            "Hit:10 http://ppa.launchpad.net/cran/libgit2/ubuntu bionic InRelease\n",
            "Hit:11 http://ppa.launchpad.net/deadsnakes/ppa/ubuntu bionic InRelease\n",
            "Get:12 http://archive.ubuntu.com/ubuntu bionic-backports InRelease [74.6 kB]\n",
            "Hit:13 http://ppa.launchpad.net/graphics-drivers/ppa/ubuntu bionic InRelease\n",
            "Get:16 http://archive.ubuntu.com/ubuntu bionic-updates/restricted amd64 Packages [429 kB]\n",
            "Get:17 http://archive.ubuntu.com/ubuntu bionic-updates/main amd64 Packages [2,550 kB]\n",
            "Fetched 3,231 kB in 3s (1,057 kB/s)\n",
            "Reading package lists... Done\n",
            "Building dependency tree       \n",
            "Reading state information... Done\n",
            "76 packages can be upgraded. Run 'apt list --upgradable' to see them.\n",
            "openjdk-8-jdk-headless is already the newest version (8u292-b10-0ubuntu1~18.04).\n",
            "The following package was automatically installed and is no longer required:\n",
            "  libnvidia-common-460\n",
            "Use 'apt autoremove' to remove it.\n",
            "0 upgraded, 0 newly installed, 0 to remove and 76 not upgraded.\n",
            "time: 11.2 s (started: 2021-05-03 17:44:36 +00:00)\n"
          ],
          "name": "stdout"
        }
      ]
    },
    {
      "cell_type": "code",
      "metadata": {
        "id": "ppkG73kRsei0",
        "colab": {
          "base_uri": "https://localhost:8080/"
        },
        "outputId": "9773affa-758c-4ef8-b8ca-3a3af6ba1eef"
      },
      "source": [
        "# Import modules\n",
        "import numpy as np\n",
        "import pandas as pd\n",
        "import datetime\n",
        "import matplotlib.pyplot as plt\n",
        "from pathlib import Path\n",
        "%matplotlib inline\n",
        "\n",
        "import pyspark\n",
        "from pyspark.sql import *\n",
        "from pyspark.sql.types import *\n",
        "from pyspark.sql.functions import *\n",
        "from pyspark import SparkContext, SparkConf"
      ],
      "execution_count": 59,
      "outputs": [
        {
          "output_type": "stream",
          "text": [
            "time: 12.9 ms (started: 2021-05-03 17:44:47 +00:00)\n"
          ],
          "name": "stdout"
        }
      ]
    },
    {
      "cell_type": "code",
      "metadata": {
        "colab": {
          "base_uri": "https://localhost:8080/"
        },
        "id": "pYm9-j_fflal",
        "outputId": "02ea3a79-e1de-4872-956e-7fb788ca53eb"
      },
      "source": [
        "import altair as alt\n",
        "alt.data_transformers.disable_max_rows()"
      ],
      "execution_count": 60,
      "outputs": [
        {
          "output_type": "execute_result",
          "data": {
            "text/plain": [
              "DataTransformerRegistry.enable('default')"
            ]
          },
          "metadata": {
            "tags": []
          },
          "execution_count": 60
        },
        {
          "output_type": "stream",
          "text": [
            "time: 7.71 ms (started: 2021-05-03 17:44:47 +00:00)\n"
          ],
          "name": "stdout"
        }
      ]
    },
    {
      "cell_type": "code",
      "metadata": {
        "id": "1oe1ksN5skMG",
        "colab": {
          "base_uri": "https://localhost:8080/"
        },
        "outputId": "2661406c-5df5-4174-a5c8-8efb5f72780d"
      },
      "source": [
        "# create the session\n",
        "conf = SparkConf().set(\"spark.ui.port\", \"4050\")\n",
        "\n",
        "# create the context\n",
        "sc = pyspark.SparkContext(conf=conf)\n",
        "spark = SparkSession.builder.getOrCreate()"
      ],
      "execution_count": 63,
      "outputs": [
        {
          "output_type": "stream",
          "text": [
            "time: 216 ms (started: 2021-05-03 17:45:06 +00:00)\n"
          ],
          "name": "stdout"
        }
      ]
    },
    {
      "cell_type": "code",
      "metadata": {
        "id": "zdPF-0xIrDm9",
        "colab": {
          "base_uri": "https://localhost:8080/"
        },
        "outputId": "5c439a03-1733-4333-f3ee-24be617ee1dd"
      },
      "source": [
        "#sc.stop()"
      ],
      "execution_count": 64,
      "outputs": [
        {
          "output_type": "stream",
          "text": [
            "time: 1.36 ms (started: 2021-05-03 17:45:06 +00:00)\n"
          ],
          "name": "stdout"
        }
      ]
    },
    {
      "cell_type": "code",
      "metadata": {
        "colab": {
          "base_uri": "https://localhost:8080/"
        },
        "id": "WGXwI2d1szaO",
        "outputId": "172906e1-370d-4aa5-a6b9-1fff1e568537"
      },
      "source": [
        "# Mount drive with data\n",
        "from google.colab import drive\n",
        "drive.mount('/content/drive')"
      ],
      "execution_count": 65,
      "outputs": [
        {
          "output_type": "stream",
          "text": [
            "Drive already mounted at /content/drive; to attempt to forcibly remount, call drive.mount(\"/content/drive\", force_remount=True).\n",
            "time: 10.7 ms (started: 2021-05-03 17:45:06 +00:00)\n"
          ],
          "name": "stdout"
        }
      ]
    },
    {
      "cell_type": "code",
      "metadata": {
        "id": "grN2uNcFvloa",
        "colab": {
          "base_uri": "https://localhost:8080/"
        },
        "outputId": "b66ee00c-6e21-457f-e12c-557730da95f8"
      },
      "source": [
        "# Set path to data folder\n",
        "path = Path('drive/MyDrive/big-data-project/data/clean-data')\n",
        "city = 'la'"
      ],
      "execution_count": 66,
      "outputs": [
        {
          "output_type": "stream",
          "text": [
            "time: 2.13 ms (started: 2021-05-03 17:45:06 +00:00)\n"
          ],
          "name": "stdout"
        }
      ]
    },
    {
      "cell_type": "code",
      "metadata": {
        "colab": {
          "base_uri": "https://localhost:8080/"
        },
        "id": "BvCrFmU2tGXY",
        "outputId": "f537909a-4f20-4aa1-aa93-563e42b4abb9"
      },
      "source": [
        "# Read data into dataframe\n",
        "df_soc = spark.read.format('csv').option('header','true').option('quote',\"\\\"\").option('escape',\"\\\"\").load(str(path/city/'social/2020/*.csv'))\n",
        "df_soc.show()"
      ],
      "execution_count": 67,
      "outputs": [
        {
          "output_type": "stream",
          "text": [
            "+---+------------+--------------------+--------------------+------------+---------------------------+--------------------------+------------------------------------------+----------------------------+----------------------+------------------------+--------------------+-------------------------------+-------------------------------+--------------------+-------------------------+--------------------------+----------------------+----------------------------+---------------------------+-----------------------------+\n",
            "|_c0|         cbg|    date_range_start|      date_range_end|device_count|distance_traveled_from_home|bucketed_distance_traveled|median_dwell_at_bucketed_distance_traveled|completely_home_device_count|median_home_dwell_time|bucketed_home_dwell_time|at_home_by_each_hour|part_time_work_behavior_devices|full_time_work_behavior_devices|    destination_cbgs|delivery_behavior_devices|median_non_home_dwell_time|candidate_device_count|bucketed_away_from_home_time|median_percentage_time_home|bucketed_percentage_time_home|\n",
            "+---+------------+--------------------+--------------------+------------+---------------------------+--------------------------+------------------------------------------+----------------------------+----------------------+------------------------+--------------------+-------------------------------+-------------------------------+--------------------+-------------------------+--------------------------+----------------------+----------------------------+---------------------------+-----------------------------+\n",
            "| 11|060371831013|2020-02-07T00:00:...|2020-02-08T00:00:...|          45|                     5769.0|      {\"16001-50000\":4,...|                      {\"16001-50000\":29...|                           6|                   558|    {\"721-1080\":9,\"36...|[24,23,24,23,21,2...|                              1|                              1|{\"060374309012\":1...|                        1|                       112|                    89|        {\"481-540\":1,\"541...|                         64|         {\"26-50\":4,\"51-75...|\n",
            "| 12|060374034022|2020-02-07T00:00:...|2020-02-08T00:00:...|         155|                     5438.0|      {\"16001-50000\":32...|                      {\"16001-50000\":99...|                          24|                     0|    {\"721-1080\":16,\"3...|[42,41,38,40,40,4...|                             12|                              4|{\"060374034041\":3...|                        1|                       133|                   536|        {\"21-45\":16,\"481-...|                          0|         {\"26-50\":4,\"51-75...|\n",
            "| 13|060375326041|2020-02-07T00:00:...|2020-02-08T00:00:...|          31|                     6670.0|      {\"16001-50000\":2,...|                      {\"16001-50000\":22...|                           4|                   693|    {\"721-1080\":7,\"36...|[23,20,25,20,20,2...|                              6|                              2|{\"060379800311\":1...|                        5|                       268|                    71|        {\"21-45\":1,\"481-5...|                         66|         {\"0-25\":6,\"76-100...|\n",
            "| 14|060375544031|2020-02-07T00:00:...|2020-02-08T00:00:...|         130|                     7054.0|      {\"16001-50000\":16...|                      {\"16001-50000\":71...|                          27|                   630|    {\"721-1080\":25,\"3...|[79,77,79,74,76,7...|                             16|                             10|{\"060376700012\":1...|                        5|                       187|                   295|        {\"21-45\":2,\"481-5...|                         69|         {\"26-50\":6,\"51-75...|\n",
            "| 15|060375718003|2020-02-07T00:00:...|2020-02-08T00:00:...|          35|                     4900.0|      {\"16001-50000\":3,...|                      {\"16001-50000\":12...|                          10|                   684|    {\"721-1080\":5,\"36...|[20,19,17,18,23,1...|                              4|                              1|{\"060376210011\":1...|                        1|                       217|                    52|        {\"21-45\":1,\"481-5...|                         75|         {\"0-25\":3,\"76-100...|\n",
            "| 16|060590018024|2020-02-07T00:00:...|2020-02-08T00:00:...|          38|                     4466.0|      {\"16001-50000\":3,...|                      {\"16001-50000\":14...|                          13|                   550|    {\"721-1080\":9,\"36...|[27,26,27,28,26,2...|                              7|                              4|{\"060590740051\":1...|                        4|                       258|                    94|        {\"481-540\":2,\"541...|                         61|         {\"0-25\":4,\"76-100...|\n",
            "| 17|060590320463|2020-02-07T00:00:...|2020-02-08T00:00:...|         184|                     8950.0|      {\"16001-50000\":31...|                      {\"16001-50000\":90...|                          24|                   757|    {\"721-1080\":62,\"3...|[130,131,129,130,...|                             38|                             12|{\"060374084023\":1...|                       13|                       281|                   239|        {\"21-45\":6,\"481-5...|                         71|         {\"26-50\":17,\"51-7...|\n",
            "| 18|060590626281|2020-02-07T00:00:...|2020-02-08T00:00:...|         108|                     7471.0|      {\"16001-50000\":3,...|                      {\"16001-50000\":28...|                          32|                   107|    {\"721-1080\":8,\"36...|[45,39,39,41,40,4...|                              9|                              1|{\"040131141001\":1...|                        1|                        49|                   424|        {\"21-45\":10,\"481-...|                         77|         {\"0-25\":40,\"76-10...|\n",
            "|256|060371374011|2020-02-07T00:00:...|2020-02-08T00:00:...|          72|                     3404.0|      {\"16001-50000\":1,...|                      {\"16001-50000\":18...|                          30|                   498|    {\"721-1080\":12,\"3...|[42,39,40,41,39,3...|                              3|                              1|{\"060371374022\":1...|                        1|                        26|                   194|        {\"21-45\":5,\"481-5...|                         90|         {\"26-50\":1,\"51-75...|\n",
            "|257|060372398012|2020-02-07T00:00:...|2020-02-08T00:00:...|          41|                     7322.0|      {\"16001-50000\":4,...|                      {\"16001-50000\":96...|                          15|                   662|    {\"721-1080\":4,\"36...|[24,26,25,27,26,2...|                              1|                              4|{\"060372286001\":2...|                        1|                       102|                   132|        {\"21-45\":1,\"481-5...|                         85|         {\"0-25\":10,\"76-10...|\n",
            "|258|060373009011|2020-02-07T00:00:...|2020-02-08T00:00:...|          82|                     7465.0|      {\"16001-50000\":6,...|                      {\"16001-50000\":39...|                          20|                   820|    {\"721-1080\":28,\"3...|[66,61,62,63,63,6...|                             16|                              6|{\"060374309012\":1...|                        2|                       191|                   134|        {\"21-45\":3,\"481-5...|                         74|         {\"26-50\":1,\"51-75...|\n",
            "|259|060375418021|2020-02-07T00:00:...|2020-02-08T00:00:...|          49|                     6274.0|      {\"16001-50000\":2,...|                      {\"16001-50000\":44...|                          12|                   635|    {\"721-1080\":11,\"3...|[27,27,27,26,27,3...|                              3|                              4|{\"060375514021\":1...|                        3|                       222|                   125|        {\"21-45\":3,\"481-5...|                         75|         {\"26-50\":5,\"51-75...|\n",
            "|260|060375431003|2020-02-07T00:00:...|2020-02-08T00:00:...|          37|                     7095.0|      {\"16001-50000\":2,...|                      {\"16001-50000\":36...|                           5|                   686|    {\"721-1080\":9,\"36...|[21,25,23,23,21,2...|                              1|                              2|{\"060372151011\":1...|                        3|                       211|                    88|        {\"21-45\":2,\"481-5...|                         67|         {\"0-25\":10,\"76-10...|\n",
            "|261|060376012021|2020-02-07T00:00:...|2020-02-08T00:00:...|          56|                     3709.0|      {\"16001-50000\":3,...|                      {\"16001-50000\":82...|                          14|                   749|    {\"721-1080\":15,\"3...|[37,35,38,36,32,3...|                              1|                              4|{\"060371046201\":1...|                        1|                       147|                   129|        {\"21-45\":1,\"481-5...|                         80|         {\"26-50\":6,\"51-75...|\n",
            "|262|060379800211|2020-02-07T00:00:...|2020-02-08T00:00:...|          50|                     9433.0|      {\"16001-50000\":6,...|                      {\"16001-50000\":50...|                           3|                     0|    {\">1080\":1,\"<60\":...|[1,4,3,2,2,1,2,2,...|                              3|                              1|{\"060371012202\":1...|                        1|                       117|                   186|        {\"21-45\":7,\"481-5...|                          0|         {\"0-25\":41,\"76-10...|\n",
            "|264|060590871034|2020-02-07T00:00:...|2020-02-08T00:00:...|          88|                     2583.0|      {\"16001-50000\":5,...|                      {\"16001-50000\":81...|                          30|                   687|    {\"721-1080\":12,\"3...|[55,54,57,56,53,5...|                              7|                              8|{\"060375552121\":1...|                        3|                       123|                   202|        {\"21-45\":1,\"481-5...|                         80|         {\"26-50\":10,\"51-7...|\n",
            "|504|060372713005|2020-02-07T00:00:...|2020-02-08T00:00:...|          30|                     4601.0|      {\"16001-50000\":5,...|                      {\"16001-50000\":32...|                           3|                   734|    {\"721-1080\":7,\"36...|[20,18,23,18,18,1...|                              2|                              2|{\"060070006041\":1...|                        1|                       297|                    61|        {\"21-45\":4,\"481-5...|                         70|         {\"0-25\":9,\"76-100...|\n",
            "|505|060372766041|2020-02-07T00:00:...|2020-02-08T00:00:...|         137|                     4947.0|      {\"16001-50000\":16...|                      {\"16001-50000\":80...|                          24|                   662|    {\"721-1080\":37,\"3...|[83,84,87,81,85,8...|                             20|                              8|{\"060375439031\":2...|                        4|                       223|                   246|        {\"21-45\":6,\"481-5...|                         70|         {\"0-25\":18,\"76-10...|\n",
            "|506|060374334012|2020-02-07T00:00:...|2020-02-08T00:00:...|          35|                     5940.0|      {\"16001-50000\":7,...|                      {\"16001-50000\":10...|                           6|                   722|    {\"721-1080\":9,\"36...|[21,21,19,19,24,1...|                              6|                              2|{\"060374334012\":2...|                        1|                       338|                    77|        {\"21-45\":1,\"481-5...|                         67|         {\"26-50\":3,\"51-75...|\n",
            "|507|060375017003|2020-02-07T00:00:...|2020-02-08T00:00:...|          38|                     3849.0|      {\"16001-50000\":5,...|                      {\"16001-50000\":22...|                           6|                   710|    {\"721-1080\":13,\"3...|[27,26,27,30,28,2...|                              4|                              1|{\"060374086253\":1...|                        1|                       315|                    95|        {\"21-45\":1,\"481-5...|                         73|         {\"0-25\":4,\"76-100...|\n",
            "+---+------------+--------------------+--------------------+------------+---------------------------+--------------------------+------------------------------------------+----------------------------+----------------------+------------------------+--------------------+-------------------------------+-------------------------------+--------------------+-------------------------+--------------------------+----------------------+----------------------------+---------------------------+-----------------------------+\n",
            "only showing top 20 rows\n",
            "\n",
            "time: 6.93 s (started: 2021-05-03 17:45:06 +00:00)\n"
          ],
          "name": "stdout"
        }
      ]
    },
    {
      "cell_type": "code",
      "metadata": {
        "colab": {
          "base_uri": "https://localhost:8080/"
        },
        "id": "wh747sqcHi4-",
        "outputId": "185bdf87-e353-4eea-ef85-074d6b5832d2"
      },
      "source": [
        "df_soc.createOrReplaceTempView('clean_la')\n",
        "df_soc = spark.sql('SELECT cbg, date_range_start as date, device_count, full_time_work_behavior_devices FROM clean_la WHERE device_count > 5')\n",
        "df_soc.show()"
      ],
      "execution_count": 68,
      "outputs": [
        {
          "output_type": "stream",
          "text": [
            "+------------+--------------------+------------+-------------------------------+\n",
            "|         cbg|                date|device_count|full_time_work_behavior_devices|\n",
            "+------------+--------------------+------------+-------------------------------+\n",
            "|060371831013|2020-02-07T00:00:...|          45|                              1|\n",
            "|060374034022|2020-02-07T00:00:...|         155|                              4|\n",
            "|060375326041|2020-02-07T00:00:...|          31|                              2|\n",
            "|060375544031|2020-02-07T00:00:...|         130|                             10|\n",
            "|060375718003|2020-02-07T00:00:...|          35|                              1|\n",
            "|060590018024|2020-02-07T00:00:...|          38|                              4|\n",
            "|060590320463|2020-02-07T00:00:...|         184|                             12|\n",
            "|060590626281|2020-02-07T00:00:...|         108|                              1|\n",
            "|060371374011|2020-02-07T00:00:...|          72|                              1|\n",
            "|060372398012|2020-02-07T00:00:...|          41|                              4|\n",
            "|060373009011|2020-02-07T00:00:...|          82|                              6|\n",
            "|060375418021|2020-02-07T00:00:...|          49|                              4|\n",
            "|060375431003|2020-02-07T00:00:...|          37|                              2|\n",
            "|060376012021|2020-02-07T00:00:...|          56|                              4|\n",
            "|060379800211|2020-02-07T00:00:...|          50|                              1|\n",
            "|060590871034|2020-02-07T00:00:...|          88|                              8|\n",
            "|060372713005|2020-02-07T00:00:...|          30|                              2|\n",
            "|060372766041|2020-02-07T00:00:...|         137|                              8|\n",
            "|060374334012|2020-02-07T00:00:...|          35|                              2|\n",
            "|060375017003|2020-02-07T00:00:...|          38|                              1|\n",
            "+------------+--------------------+------------+-------------------------------+\n",
            "only showing top 20 rows\n",
            "\n",
            "time: 285 ms (started: 2021-05-03 17:45:13 +00:00)\n"
          ],
          "name": "stdout"
        }
      ]
    },
    {
      "cell_type": "code",
      "metadata": {
        "id": "nlVhrn2-Rp_O",
        "colab": {
          "base_uri": "https://localhost:8080/"
        },
        "outputId": "f5192f8c-9f7e-43fd-bd18-82b1f438c357"
      },
      "source": [
        "df_soc = df_soc.withColumn(\"date\",\n",
        "    df_soc['date'].substr(0, 10))"
      ],
      "execution_count": 69,
      "outputs": [
        {
          "output_type": "stream",
          "text": [
            "time: 25.7 ms (started: 2021-05-03 17:45:13 +00:00)\n"
          ],
          "name": "stdout"
        }
      ]
    },
    {
      "cell_type": "code",
      "metadata": {
        "colab": {
          "base_uri": "https://localhost:8080/"
        },
        "id": "2ryRoACoJMPZ",
        "outputId": "7f6e41a1-5540-4596-e72a-7c98750ecf75"
      },
      "source": [
        "df_soc.show()"
      ],
      "execution_count": 70,
      "outputs": [
        {
          "output_type": "stream",
          "text": [
            "+------------+----------+------------+-------------------------------+\n",
            "|         cbg|      date|device_count|full_time_work_behavior_devices|\n",
            "+------------+----------+------------+-------------------------------+\n",
            "|060371831013|2020-02-07|          45|                              1|\n",
            "|060374034022|2020-02-07|         155|                              4|\n",
            "|060375326041|2020-02-07|          31|                              2|\n",
            "|060375544031|2020-02-07|         130|                             10|\n",
            "|060375718003|2020-02-07|          35|                              1|\n",
            "|060590018024|2020-02-07|          38|                              4|\n",
            "|060590320463|2020-02-07|         184|                             12|\n",
            "|060590626281|2020-02-07|         108|                              1|\n",
            "|060371374011|2020-02-07|          72|                              1|\n",
            "|060372398012|2020-02-07|          41|                              4|\n",
            "|060373009011|2020-02-07|          82|                              6|\n",
            "|060375418021|2020-02-07|          49|                              4|\n",
            "|060375431003|2020-02-07|          37|                              2|\n",
            "|060376012021|2020-02-07|          56|                              4|\n",
            "|060379800211|2020-02-07|          50|                              1|\n",
            "|060590871034|2020-02-07|          88|                              8|\n",
            "|060372713005|2020-02-07|          30|                              2|\n",
            "|060372766041|2020-02-07|         137|                              8|\n",
            "|060374334012|2020-02-07|          35|                              2|\n",
            "|060375017003|2020-02-07|          38|                              1|\n",
            "+------------+----------+------------+-------------------------------+\n",
            "only showing top 20 rows\n",
            "\n",
            "time: 158 ms (started: 2021-05-03 17:45:14 +00:00)\n"
          ],
          "name": "stdout"
        }
      ]
    },
    {
      "cell_type": "code",
      "metadata": {
        "colab": {
          "base_uri": "https://localhost:8080/"
        },
        "id": "UL4qIhZu7JKC",
        "outputId": "127ae763-860c-4360-e0aa-6f2f4e318c53"
      },
      "source": [
        "# Add fulltime percentage column\n",
        "\n",
        "df_soc = df_soc.withColumn('full_time_work_percentage', (df_soc['full_time_work_behavior_devices']/df_soc['device_count']) * 100)\n",
        "\n",
        "#df_soc.show()"
      ],
      "execution_count": 71,
      "outputs": [
        {
          "output_type": "stream",
          "text": [
            "time: 48.6 ms (started: 2021-05-03 17:45:14 +00:00)\n"
          ],
          "name": "stdout"
        }
      ]
    },
    {
      "cell_type": "code",
      "metadata": {
        "colab": {
          "base_uri": "https://localhost:8080/"
        },
        "id": "OAUIODseCoSg",
        "outputId": "ff55faaf-a292-4e9b-c09c-84cfd36c48cd"
      },
      "source": [
        "#Create temp view\n",
        "df_soc.createOrReplaceTempView('mobility')"
      ],
      "execution_count": 72,
      "outputs": [
        {
          "output_type": "stream",
          "text": [
            "time: 19.6 ms (started: 2021-05-03 17:45:14 +00:00)\n"
          ],
          "name": "stdout"
        }
      ]
    },
    {
      "cell_type": "markdown",
      "metadata": {
        "id": "Sj4xc1gTpm2X"
      },
      "source": [
        "\n",
        "\n",
        "---\n",
        "\n",
        "\n",
        "**Demographic data**\n",
        "\n",
        "\n",
        "\n",
        "\n",
        "\n",
        "---\n",
        "\n"
      ]
    },
    {
      "cell_type": "code",
      "metadata": {
        "colab": {
          "base_uri": "https://localhost:8080/"
        },
        "id": "1SVVsXtuzqRf",
        "outputId": "05d5574a-0d9a-43b2-da6c-a0722fc06780"
      },
      "source": [
        "# Read poverty data\n",
        "# Read data into RDD\n",
        "df_demographic = spark.read.format('csv').option('header','true').option('quote',\"\\\"\").option('escape',\"\\\"\").load(str(path/city/'la.csv'))\n",
        "df_demographic.createOrReplaceTempView('demographic')\n",
        "df_demographic.show()"
      ],
      "execution_count": 73,
      "outputs": [
        {
          "output_type": "stream",
          "text": [
            "+------------+---------+------------------+------------------+\n",
            "|         cbg|pop_total|poverty_percentage|    perc_whiteonly|\n",
            "+------------+---------+------------------+------------------+\n",
            "|060373104003|     1286|17.884914463452567| 69.51788491446345|\n",
            "|060590865023|     2545|22.789783889980352| 85.34381139489194|\n",
            "|060376510024|     1285|               0.0|42.490272373540854|\n",
            "|060376511011|     2708| 7.745398773006134| 50.70162481536189|\n",
            "|060590994023|      672|12.969283276450511| 38.54166666666667|\n",
            "|060590995094|      342| 17.83625730994152| 77.48538011695906|\n",
            "|060376511012|     2483|2.6178010471204187|50.302053966975436|\n",
            "|060376512011|      859|2.8846153846153846| 82.42142025611176|\n",
            "|060376512012|     1179| 1.441899915182358|  74.1306191687871|\n",
            "|060376512014|      989|2.4266936299292214| 70.57633973710819|\n",
            "|060376512211|     3373|  9.95684340320592| 40.61666172546695|\n",
            "|060590995092|      938| 5.756929637526652|  84.9680170575693|\n",
            "|060590995095|      576|14.583333333333334|           73.4375|\n",
            "|060590995113|      577|10.918544194107453| 97.22703639514731|\n",
            "|060372164011|     2111|15.016579819990525| 82.42539081004263|\n",
            "|060372164012|     2315| 16.54427645788337| 79.87041036717063|\n",
            "|060372164021|     1611| 7.759155803848541| 80.57107386716325|\n",
            "|060375773004|     1501|10.459693537641572|   82.145236508994|\n",
            "|060375768021|     2320|16.786678667866788|61.594827586206904|\n",
            "|060375744006|      708|1.1299435028248588| 88.84180790960453|\n",
            "+------------+---------+------------------+------------------+\n",
            "only showing top 20 rows\n",
            "\n",
            "time: 245 ms (started: 2021-05-03 17:45:14 +00:00)\n"
          ],
          "name": "stdout"
        }
      ]
    },
    {
      "cell_type": "code",
      "metadata": {
        "colab": {
          "base_uri": "https://localhost:8080/"
        },
        "id": "Ff9bk8_6qBQ2",
        "outputId": "3b6e4cec-d0a8-4dc6-a758-ef81e991249a"
      },
      "source": [
        "df_mob_demo = spark.sql('SELECT mobility.*, demographic.poverty_percentage from mobility INNER JOIN demographic ON mobility.cbg = demographic.cbg')\n",
        "df_mob_demo.createOrReplaceTempView('demographic_mobility')\n",
        "df_mob_demo.show()\n"
      ],
      "execution_count": 74,
      "outputs": [
        {
          "output_type": "stream",
          "text": [
            "+------------+----------+------------+-------------------------------+-------------------------+------------------+\n",
            "|         cbg|      date|device_count|full_time_work_behavior_devices|full_time_work_percentage|poverty_percentage|\n",
            "+------------+----------+------------+-------------------------------+-------------------------+------------------+\n",
            "|060371831013|2020-02-07|          45|                              1|       2.2222222222222223|15.450643776824036|\n",
            "|060374034022|2020-02-07|         155|                              4|       2.5806451612903225| 10.67193675889328|\n",
            "|060375326041|2020-02-07|          31|                              2|        6.451612903225806| 27.79187817258883|\n",
            "|060375544031|2020-02-07|         130|                             10|       7.6923076923076925|  25.3447633246366|\n",
            "|060375718003|2020-02-07|          35|                              1|        2.857142857142857|3.1537450722733245|\n",
            "|060590018024|2020-02-07|          38|                              4|       10.526315789473683|29.130434782608695|\n",
            "|060590320463|2020-02-07|         184|                             12|        6.521739130434782|3.0450132391879965|\n",
            "|060590626281|2020-02-07|         108|                              1|       0.9259259259259258|12.167606768734892|\n",
            "|060371374011|2020-02-07|          72|                              1|       1.3888888888888888|  2.89193302891933|\n",
            "|060372398012|2020-02-07|          41|                              4|         9.75609756097561|36.773090079817564|\n",
            "|060373009011|2020-02-07|          82|                              6|        7.317073170731707|6.4561403508771935|\n",
            "|060375418021|2020-02-07|          49|                              4|         8.16326530612245|27.102803738317753|\n",
            "|060375431003|2020-02-07|          37|                              2|        5.405405405405405|3.3410138248847927|\n",
            "|060376012021|2020-02-07|          56|                              4|        7.142857142857142|28.826815642458097|\n",
            "|060379800211|2020-02-07|          50|                              1|                      2.0|               0.0|\n",
            "|060590871034|2020-02-07|          88|                              8|        9.090909090909092|10.621468926553671|\n",
            "|060372713005|2020-02-07|          30|                              2|        6.666666666666667|  8.47255369928401|\n",
            "|060372766041|2020-02-07|         137|                              8|        5.839416058394161| 21.44736842105263|\n",
            "|060374334012|2020-02-07|          35|                              2|        5.714285714285714| 12.63408820023838|\n",
            "|060375017003|2020-02-07|          38|                              1|        2.631578947368421| 7.543103448275862|\n",
            "+------------+----------+------------+-------------------------------+-------------------------+------------------+\n",
            "only showing top 20 rows\n",
            "\n",
            "time: 442 ms (started: 2021-05-03 17:45:14 +00:00)\n"
          ],
          "name": "stdout"
        }
      ]
    },
    {
      "cell_type": "code",
      "metadata": {
        "id": "6vFzCEtNukZy",
        "colab": {
          "base_uri": "https://localhost:8080/"
        },
        "outputId": "ebf6e864-6f5a-4851-8b85-1b32c58ba190"
      },
      "source": [
        "# DIVIDING THE PEOPLE TOP 20 PERCENT AND BOTTOM 20 PERCENT\n",
        "\n",
        "df_mob_demo_high_class =  spark.sql('SELECT * FROM demographic_mobility WHERE poverty_percentage < 20')\n",
        "grouped_df_mob_demo_high_class = df_mob_demo_high_class.groupBy(\"date\").mean(\"full_time_work_percentage\").withColumnRenamed('avg(full_time_work_percentage)','full_time_work_percentage')\n",
        "grouped_df_mob_demo_high_class.createOrReplaceTempView('mob_demo_high_class')\n",
        "\n",
        "\n",
        "df_mob_demo_low_class =  spark.sql('SELECT * FROM demographic_mobility WHERE poverty_percentage > 80')\n",
        "grouped_df_mob_demo_low_class = df_mob_demo_low_class.groupBy(\"date\").mean(\"full_time_work_percentage\").withColumnRenamed('avg(full_time_work_percentage)','full_time_work_percentage')\n",
        "grouped_df_mob_demo_low_class.createOrReplaceTempView('mob_demo_low_class')\n",
        "\n",
        "grouped_df_mob_demo_combined = spark.sql(\"\"\"\n",
        "\n",
        "SELECT h.date,h.full_time_work_percentage as top20_perc,\n",
        "l.full_time_work_percentage as bottom20_perc  \n",
        "FROM mob_demo_high_class h INNER JOIN mob_demo_low_class l ON h.date = l.date\n",
        "\n",
        "\"\"\")\n"
      ],
      "execution_count": 75,
      "outputs": [
        {
          "output_type": "stream",
          "text": [
            "time: 159 ms (started: 2021-05-03 17:45:15 +00:00)\n"
          ],
          "name": "stdout"
        }
      ]
    },
    {
      "cell_type": "markdown",
      "metadata": {
        "id": "ow6mFwCFoc4r"
      },
      "source": [
        "**Load 2019 stats**"
      ]
    },
    {
      "cell_type": "code",
      "metadata": {
        "colab": {
          "base_uri": "https://localhost:8080/"
        },
        "id": "iBe00iTKobbO",
        "outputId": "52a19df7-4102-480c-cbaa-9067add50271"
      },
      "source": [
        "filename = '{}_social_summary_2019.csv'.format(city)\n",
        "stat_2019 = spark.read.format('csv').option('header','true').option('quote',\"\\\"\").option('escape',\"\\\"\").load(str(path/city/filename))\n",
        "stat_2019.show()\n",
        "mean_2019 = stat_2019.collect()[1][7]\n"
      ],
      "execution_count": 76,
      "outputs": [
        {
          "output_type": "stream",
          "text": [
            "+-----+------------------+-----------------+-----------------+-----------------+--------------------------+-------------------------+-------------------------+--------------------+--------------------+--------------------+------------------+\n",
            "|  _c0|             total|  completely_home|   part_time_work|   full_time_work|percentage_completely_home|percentage_part_time_work|percentage_full_time_work|norm_completely_home| norm_part_time_work| norm_full_time_work|             month|\n",
            "+-----+------------------+-----------------+-----------------+-----------------+--------------------------+-------------------------+-------------------------+--------------------+--------------------+--------------------+------------------+\n",
            "|count|         3004769.0|        3004769.0|        3004769.0|        3004769.0|                 3004769.0|                3004769.0|                3004769.0|           3004769.0|           3004769.0|           3004769.0|         3004769.0|\n",
            "| mean| 87.84796368705881|27.76352757899193|8.179268023598487|4.286185726756366|         30.14549191952775|        9.604832050833362|        5.274168748778982|2.506247014895055...|2.150548031308279...|-6.89109456715701...| 6.525355193693758|\n",
            "|  std|105.51592931210622|49.93208821005726| 8.10674129480657|4.523167101803082|         10.15506818892759|        5.545534529758989|        3.942956179094638|  0.9999999999993094|   1.000000000001506|  0.9999999999992397|3.4478032452144913|\n",
            "|  min|               5.0|              1.0|              1.0|              1.0|         0.628930817610063|      0.07530120481927711|      0.06414368184733803|  -2.906584234865166| -1.7184152032370885|  -1.321349979630751|               1.0|\n",
            "|  25%|              50.0|             13.0|              3.0|              1.0|        23.076923076923077|        5.263157894736842|       2.1505376344086025| -0.6960631589172163| -0.7829135555459632| -0.7922053841053878|               4.0|\n",
            "|  50%|              71.0|             21.0|              6.0|              3.0|        29.850746268656714|          8.9171974522293|        4.166666666666666|-0.02902448761421...|-0.12399789324437732|-0.28088115409048636|               7.0|\n",
            "|  75%|             102.0|             32.0|             11.0|              6.0|         36.84210526315789|       13.043478260869565|        7.471264367816093|  0.6594355861570365|  0.6200747992070743|  0.5572203999339391|              10.0|\n",
            "|  max|           13425.0|           8305.0|            601.0|            279.0|         94.46320054017556|        57.14285714285714|                     50.0|   6.333557532462023|   8.572307112492147|  11.343223008248279|              12.0|\n",
            "+-----+------------------+-----------------+-----------------+-----------------+--------------------------+-------------------------+-------------------------+--------------------+--------------------+--------------------+------------------+\n",
            "\n",
            "time: 434 ms (started: 2021-05-03 17:45:15 +00:00)\n"
          ],
          "name": "stdout"
        }
      ]
    },
    {
      "cell_type": "code",
      "metadata": {
        "colab": {
          "base_uri": "https://localhost:8080/"
        },
        "id": "jbZKBBrlsymR",
        "outputId": "ac783901-bef2-4535-8d99-83682d08f17e"
      },
      "source": [
        "# calculate deviation form mean\n",
        "grouped_df_mob_demo_combined= grouped_df_mob_demo_combined.withColumn(\"top20_deviation\",\n",
        "    grouped_df_mob_demo_combined['top20_perc'] - mean_2019)\n"
      ],
      "execution_count": 77,
      "outputs": [
        {
          "output_type": "stream",
          "text": [
            "time: 21.9 ms (started: 2021-05-03 17:45:15 +00:00)\n"
          ],
          "name": "stdout"
        }
      ]
    },
    {
      "cell_type": "code",
      "metadata": {
        "colab": {
          "base_uri": "https://localhost:8080/"
        },
        "id": "m1v1M4wSwmbV",
        "outputId": "0b1b6b3c-51de-426c-d3dc-7d2a20b38459"
      },
      "source": [
        "grouped_df_mob_demo_combined = grouped_df_mob_demo_combined.withColumn(\"bottom20_deviation\",\n",
        "    grouped_df_mob_demo_combined['bottom20_perc'] - mean_2019)"
      ],
      "execution_count": 78,
      "outputs": [
        {
          "output_type": "stream",
          "text": [
            "time: 19.4 ms (started: 2021-05-03 17:45:15 +00:00)\n"
          ],
          "name": "stdout"
        }
      ]
    },
    {
      "cell_type": "markdown",
      "metadata": {
        "id": "JxSLoJSmYuj8"
      },
      "source": [
        "\n",
        "**Visualizations** \n",
        "\n"
      ]
    },
    {
      "cell_type": "code",
      "metadata": {
        "colab": {
          "base_uri": "https://localhost:8080/"
        },
        "id": "S4CaYZVO43kY",
        "outputId": "da297112-8309-4635-c3db-3decb71c2779"
      },
      "source": [
        "# create altair library theme \n",
        "\n",
        "def my_theme():\n",
        "  return {\n",
        "    'config': {\n",
        "      'view': {'continuousHeight': 300, 'continuousWidth': 400},  # from the default theme\n",
        "      'range': {'category': {'scheme': ['#FF4500','#a0aab4','#4E79A7']}}\n",
        "    }\n",
        "  }\n",
        "alt.themes.register('my_theme', my_theme)\n",
        "alt.themes.enable('my_theme')\n",
        "# "
      ],
      "execution_count": 79,
      "outputs": [
        {
          "output_type": "execute_result",
          "data": {
            "text/plain": [
              "ThemeRegistry.enable('my_theme')"
            ]
          },
          "metadata": {
            "tags": []
          },
          "execution_count": 79
        },
        {
          "output_type": "stream",
          "text": [
            "time: 13.5 ms (started: 2021-05-03 17:45:15 +00:00)\n"
          ],
          "name": "stdout"
        }
      ]
    },
    {
      "cell_type": "code",
      "metadata": {
        "colab": {
          "base_uri": "https://localhost:8080/"
        },
        "id": "0KpTm73-BpiA",
        "outputId": "dd8d9f91-ecd9-4c1b-eada-87e461973d8e"
      },
      "source": [
        "def create_chart(df,mon) :\n",
        "  chart = alt.Chart(df).transform_fold(\n",
        "    fold=['Bottom 20 % Deviation', 'Top 20 % Deviation'],\n",
        "    as_ = ['Poverty %','full_time_value']\n",
        "    \n",
        "    ).mark_line().encode(\n",
        "      x= alt.X('date:T', title = mon),\n",
        "      y= alt.Y('full_time_value:Q', title = 'Completely Home %'),\n",
        "      color='Poverty %:N'\n",
        "    ).properties(width = 1000)\n",
        "\n",
        "  rule = alt.Chart(pd.DataFrame({'Mean 2019':[0]})).mark_rule(color='#757575',strokeDash=[5,3], size=2).encode(\n",
        "    y='Mean 2019',\n",
        "    size=alt.value(2),\n",
        "    )\n",
        "  \n",
        "  text = alt.Chart({'values':[{ 'y': 1}]}).mark_text(\n",
        "    text='Mean 2019', angle=0\n",
        "    ).encode(\n",
        "      y=alt.Y('y:Q'),opacity=alt.value(0.4)\n",
        "    )\n",
        "\n",
        "  return  chart + rule + text\n"
      ],
      "execution_count": 80,
      "outputs": [
        {
          "output_type": "stream",
          "text": [
            "time: 22.6 ms (started: 2021-05-03 17:45:15 +00:00)\n"
          ],
          "name": "stdout"
        }
      ]
    },
    {
      "cell_type": "code",
      "metadata": {
        "colab": {
          "base_uri": "https://localhost:8080/"
        },
        "id": "P9AleyUlCeuI",
        "outputId": "3f0dcd58-d5cd-418d-b7ea-9bc4f2ec14e2"
      },
      "source": [
        "def apply_date_filter(df,start_date,end_date) :\n",
        "  mask = (df['date'] > start_date) & (df['date'] <= end_date)\n",
        "  dfX = df.loc[mask]\n",
        "  return dfX"
      ],
      "execution_count": 81,
      "outputs": [
        {
          "output_type": "stream",
          "text": [
            "time: 6.97 ms (started: 2021-05-03 17:45:15 +00:00)\n"
          ],
          "name": "stdout"
        }
      ]
    },
    {
      "cell_type": "code",
      "metadata": {
        "colab": {
          "base_uri": "https://localhost:8080/",
          "height": 418
        },
        "id": "V4EHlNdfSVal",
        "outputId": "3208ef8c-9938-463d-e93f-cecb8f86a097"
      },
      "source": [
        "# create pandas dataframe for visualizations\n",
        "df = grouped_df_mob_demo_combined.toPandas()\n",
        "df"
      ],
      "execution_count": 82,
      "outputs": [
        {
          "output_type": "execute_result",
          "data": {
            "text/html": [
              "<div>\n",
              "<style scoped>\n",
              "    .dataframe tbody tr th:only-of-type {\n",
              "        vertical-align: middle;\n",
              "    }\n",
              "\n",
              "    .dataframe tbody tr th {\n",
              "        vertical-align: top;\n",
              "    }\n",
              "\n",
              "    .dataframe thead th {\n",
              "        text-align: right;\n",
              "    }\n",
              "</style>\n",
              "<table border=\"1\" class=\"dataframe\">\n",
              "  <thead>\n",
              "    <tr style=\"text-align: right;\">\n",
              "      <th></th>\n",
              "      <th>date</th>\n",
              "      <th>top20_perc</th>\n",
              "      <th>bottom20_perc</th>\n",
              "      <th>top20_deviation</th>\n",
              "      <th>bottom20_deviation</th>\n",
              "    </tr>\n",
              "  </thead>\n",
              "  <tbody>\n",
              "    <tr>\n",
              "      <th>0</th>\n",
              "      <td>2020-02-26</td>\n",
              "      <td>7.436867</td>\n",
              "      <td>2.038400</td>\n",
              "      <td>2.162698</td>\n",
              "      <td>-3.235769</td>\n",
              "    </tr>\n",
              "    <tr>\n",
              "      <th>1</th>\n",
              "      <td>2020-04-13</td>\n",
              "      <td>4.278560</td>\n",
              "      <td>2.352525</td>\n",
              "      <td>-0.995609</td>\n",
              "      <td>-2.921644</td>\n",
              "    </tr>\n",
              "    <tr>\n",
              "      <th>2</th>\n",
              "      <td>2020-06-24</td>\n",
              "      <td>4.409102</td>\n",
              "      <td>3.739318</td>\n",
              "      <td>-0.865067</td>\n",
              "      <td>-1.534851</td>\n",
              "    </tr>\n",
              "    <tr>\n",
              "      <th>3</th>\n",
              "      <td>2020-06-08</td>\n",
              "      <td>4.794649</td>\n",
              "      <td>3.525617</td>\n",
              "      <td>-0.479520</td>\n",
              "      <td>-1.748552</td>\n",
              "    </tr>\n",
              "    <tr>\n",
              "      <th>4</th>\n",
              "      <td>2020-09-12</td>\n",
              "      <td>3.810222</td>\n",
              "      <td>3.833597</td>\n",
              "      <td>-1.463947</td>\n",
              "      <td>-1.440572</td>\n",
              "    </tr>\n",
              "    <tr>\n",
              "      <th>...</th>\n",
              "      <td>...</td>\n",
              "      <td>...</td>\n",
              "      <td>...</td>\n",
              "      <td>...</td>\n",
              "      <td>...</td>\n",
              "    </tr>\n",
              "    <tr>\n",
              "      <th>361</th>\n",
              "      <td>2020-04-05</td>\n",
              "      <td>2.545564</td>\n",
              "      <td>1.740760</td>\n",
              "      <td>-2.728605</td>\n",
              "      <td>-3.533408</td>\n",
              "    </tr>\n",
              "    <tr>\n",
              "      <th>362</th>\n",
              "      <td>2020-05-01</td>\n",
              "      <td>3.770745</td>\n",
              "      <td>2.707222</td>\n",
              "      <td>-1.503423</td>\n",
              "      <td>-2.566946</td>\n",
              "    </tr>\n",
              "    <tr>\n",
              "      <th>363</th>\n",
              "      <td>2020-10-25</td>\n",
              "      <td>3.662916</td>\n",
              "      <td>7.176751</td>\n",
              "      <td>-1.611252</td>\n",
              "      <td>1.902582</td>\n",
              "    </tr>\n",
              "    <tr>\n",
              "      <th>364</th>\n",
              "      <td>2020-12-28</td>\n",
              "      <td>5.613756</td>\n",
              "      <td>4.064940</td>\n",
              "      <td>0.339587</td>\n",
              "      <td>-1.209228</td>\n",
              "    </tr>\n",
              "    <tr>\n",
              "      <th>365</th>\n",
              "      <td>2020-12-19</td>\n",
              "      <td>3.302649</td>\n",
              "      <td>4.071752</td>\n",
              "      <td>-1.971520</td>\n",
              "      <td>-1.202417</td>\n",
              "    </tr>\n",
              "  </tbody>\n",
              "</table>\n",
              "<p>366 rows × 5 columns</p>\n",
              "</div>"
            ],
            "text/plain": [
              "           date  top20_perc  bottom20_perc  top20_deviation  bottom20_deviation\n",
              "0    2020-02-26    7.436867       2.038400         2.162698           -3.235769\n",
              "1    2020-04-13    4.278560       2.352525        -0.995609           -2.921644\n",
              "2    2020-06-24    4.409102       3.739318        -0.865067           -1.534851\n",
              "3    2020-06-08    4.794649       3.525617        -0.479520           -1.748552\n",
              "4    2020-09-12    3.810222       3.833597        -1.463947           -1.440572\n",
              "..          ...         ...            ...              ...                 ...\n",
              "361  2020-04-05    2.545564       1.740760        -2.728605           -3.533408\n",
              "362  2020-05-01    3.770745       2.707222        -1.503423           -2.566946\n",
              "363  2020-10-25    3.662916       7.176751        -1.611252            1.902582\n",
              "364  2020-12-28    5.613756       4.064940         0.339587           -1.209228\n",
              "365  2020-12-19    3.302649       4.071752        -1.971520           -1.202417\n",
              "\n",
              "[366 rows x 5 columns]"
            ]
          },
          "metadata": {
            "tags": []
          },
          "execution_count": 82
        },
        {
          "output_type": "stream",
          "text": [
            "time: 3min 14s (started: 2021-05-03 17:45:15 +00:00)\n"
          ],
          "name": "stdout"
        }
      ]
    },
    {
      "cell_type": "code",
      "metadata": {
        "colab": {
          "base_uri": "https://localhost:8080/"
        },
        "id": "MtFPRkkEZtzL",
        "outputId": "f0443194-d779-42db-80c1-70725bd0f455"
      },
      "source": [
        "df = df.rename(columns={'top20_perc': 'Top 20 %', 'bottom20_perc': 'Bottom 20 %','top20_deviation': 'Top 20 % Deviation', 'bottom20_deviation': 'Bottom 20 % Deviation'})"
      ],
      "execution_count": 83,
      "outputs": [
        {
          "output_type": "stream",
          "text": [
            "time: 20.7 ms (started: 2021-05-03 17:48:30 +00:00)\n"
          ],
          "name": "stdout"
        }
      ]
    },
    {
      "cell_type": "code",
      "metadata": {
        "colab": {
          "base_uri": "https://localhost:8080/",
          "height": 385
        },
        "id": "pTTAkF1Iwesw",
        "outputId": "eb015b6d-9308-4f92-b4ab-8060378a1893"
      },
      "source": [
        "# analysis for the entire year on monthly basis\n",
        "df_str = df.copy(deep=True) #make a deep copy\n",
        "\n",
        "df_str['date'] = pd.to_datetime(df_str['date'],utc= True) # extract the months\n",
        "\n",
        "df_str = df_str.groupby([df_str['date']]).mean().rolling(10).mean()[0:] #find the mean for the days and roll up for every 10 days\n",
        "\n",
        "chart = alt.Chart(df_str.reset_index()).transform_fold(\n",
        "    fold=['Bottom 20 %', 'Top 20 %'],\n",
        "    as_ = ['Poverty %','full_time_value']\n",
        "    \n",
        "    ).mark_line().encode(\n",
        "      x='date:T',\n",
        "      y= alt.Y('full_time_value:Q', title = 'Full Time %'), color='Poverty %:N'\n",
        "    ).properties(width = 1000)\n",
        "chart"
      ],
      "execution_count": 84,
      "outputs": [
        {
          "output_type": "execute_result",
          "data": {
            "text/plain": [
              "alt.Chart(...)"
            ],
            "text/html": [
              "\n",
              "<div id=\"altair-viz-72dfe1c6849640549b91829e12d6ffd5\"></div>\n",
              "<script type=\"text/javascript\">\n",
              "  (function(spec, embedOpt){\n",
              "    let outputDiv = document.currentScript.previousElementSibling;\n",
              "    if (outputDiv.id !== \"altair-viz-72dfe1c6849640549b91829e12d6ffd5\") {\n",
              "      outputDiv = document.getElementById(\"altair-viz-72dfe1c6849640549b91829e12d6ffd5\");\n",
              "    }\n",
              "    const paths = {\n",
              "      \"vega\": \"https://cdn.jsdelivr.net/npm//vega@5?noext\",\n",
              "      \"vega-lib\": \"https://cdn.jsdelivr.net/npm//vega-lib?noext\",\n",
              "      \"vega-lite\": \"https://cdn.jsdelivr.net/npm//vega-lite@4.8.1?noext\",\n",
              "      \"vega-embed\": \"https://cdn.jsdelivr.net/npm//vega-embed@6?noext\",\n",
              "    };\n",
              "\n",
              "    function loadScript(lib) {\n",
              "      return new Promise(function(resolve, reject) {\n",
              "        var s = document.createElement('script');\n",
              "        s.src = paths[lib];\n",
              "        s.async = true;\n",
              "        s.onload = () => resolve(paths[lib]);\n",
              "        s.onerror = () => reject(`Error loading script: ${paths[lib]}`);\n",
              "        document.getElementsByTagName(\"head\")[0].appendChild(s);\n",
              "      });\n",
              "    }\n",
              "\n",
              "    function showError(err) {\n",
              "      outputDiv.innerHTML = `<div class=\"error\" style=\"color:red;\">${err}</div>`;\n",
              "      throw err;\n",
              "    }\n",
              "\n",
              "    function displayChart(vegaEmbed) {\n",
              "      vegaEmbed(outputDiv, spec, embedOpt)\n",
              "        .catch(err => showError(`Javascript Error: ${err.message}<br>This usually means there's a typo in your chart specification. See the javascript console for the full traceback.`));\n",
              "    }\n",
              "\n",
              "    if(typeof define === \"function\" && define.amd) {\n",
              "      requirejs.config({paths});\n",
              "      require([\"vega-embed\"], displayChart, err => showError(`Error loading script: ${err.message}`));\n",
              "    } else if (typeof vegaEmbed === \"function\") {\n",
              "      displayChart(vegaEmbed);\n",
              "    } else {\n",
              "      loadScript(\"vega\")\n",
              "        .then(() => loadScript(\"vega-lite\"))\n",
              "        .then(() => loadScript(\"vega-embed\"))\n",
              "        .catch(showError)\n",
              "        .then(() => displayChart(vegaEmbed));\n",
              "    }\n",
              "  })({\"config\": {\"view\": {\"continuousHeight\": 300, \"continuousWidth\": 400}, \"range\": {\"category\": {\"scheme\": [\"#FF4500\", \"#a0aab4\", \"#4E79A7\"]}}}, \"data\": {\"name\": \"data-cb8c58394aaf3d1757b83930e8c0f5ec\"}, \"mark\": \"line\", \"encoding\": {\"color\": {\"type\": \"nominal\", \"field\": \"Poverty %\"}, \"x\": {\"type\": \"temporal\", \"field\": \"date\"}, \"y\": {\"type\": \"quantitative\", \"field\": \"full_time_value\", \"title\": \"Full Time %\"}}, \"transform\": [{\"fold\": [\"Bottom 20 %\", \"Top 20 %\"], \"as\": [\"Poverty %\", \"full_time_value\"]}], \"width\": 1000, \"$schema\": \"https://vega.github.io/schema/vega-lite/v4.8.1.json\", \"datasets\": {\"data-cb8c58394aaf3d1757b83930e8c0f5ec\": [{\"date\": \"2020-01-01T00:00:00+00:00\", \"Top 20 %\": null, \"Bottom 20 %\": null, \"Top 20 % Deviation\": null, \"Bottom 20 % Deviation\": null}, {\"date\": \"2020-01-02T00:00:00+00:00\", \"Top 20 %\": null, \"Bottom 20 %\": null, \"Top 20 % Deviation\": null, \"Bottom 20 % Deviation\": null}, {\"date\": \"2020-01-03T00:00:00+00:00\", \"Top 20 %\": null, \"Bottom 20 %\": null, \"Top 20 % Deviation\": null, \"Bottom 20 % Deviation\": null}, {\"date\": \"2020-01-04T00:00:00+00:00\", \"Top 20 %\": null, \"Bottom 20 %\": null, \"Top 20 % Deviation\": null, \"Bottom 20 % Deviation\": null}, {\"date\": \"2020-01-05T00:00:00+00:00\", \"Top 20 %\": null, \"Bottom 20 %\": null, \"Top 20 % Deviation\": null, \"Bottom 20 % Deviation\": null}, {\"date\": \"2020-01-06T00:00:00+00:00\", \"Top 20 %\": null, \"Bottom 20 %\": null, \"Top 20 % Deviation\": null, \"Bottom 20 % Deviation\": null}, {\"date\": \"2020-01-07T00:00:00+00:00\", \"Top 20 %\": null, \"Bottom 20 %\": null, \"Top 20 % Deviation\": null, \"Bottom 20 % Deviation\": null}, {\"date\": \"2020-01-08T00:00:00+00:00\", \"Top 20 %\": null, \"Bottom 20 %\": null, \"Top 20 % Deviation\": null, \"Bottom 20 % Deviation\": null}, {\"date\": \"2020-01-09T00:00:00+00:00\", \"Top 20 %\": null, \"Bottom 20 %\": null, \"Top 20 % Deviation\": null, \"Bottom 20 % Deviation\": null}, {\"date\": \"2020-01-10T00:00:00+00:00\", \"Top 20 %\": 5.162159402066538, \"Bottom 20 %\": 2.231878073416894, \"Top 20 % Deviation\": -0.11200934671244367, \"Bottom 20 % Deviation\": -3.0422906753620884}, {\"date\": \"2020-01-11T00:00:00+00:00\", \"Top 20 %\": 5.166912677879989, \"Bottom 20 %\": 2.154808697412024, \"Top 20 % Deviation\": -0.10725607089899278, \"Bottom 20 % Deviation\": -3.119360051366958}, {\"date\": \"2020-01-12T00:00:00+00:00\", \"Top 20 %\": 5.002674972288466, \"Bottom 20 %\": 2.013922235982032, \"Top 20 % Deviation\": -0.2714937764905171, \"Bottom 20 % Deviation\": -3.260246512796951}, {\"date\": \"2020-01-13T00:00:00+00:00\", \"Top 20 %\": 5.237172075045427, \"Bottom 20 %\": 2.0699728887429703, \"Top 20 % Deviation\": -0.03699667373355564, \"Bottom 20 % Deviation\": -3.2041958600360125}, {\"date\": \"2020-01-14T00:00:00+00:00\", \"Top 20 %\": 5.775130408495373, \"Bottom 20 %\": 2.2524585403422472, \"Top 20 % Deviation\": 0.5009616597163917, \"Bottom 20 % Deviation\": -3.021710208436736}, {\"date\": \"2020-01-15T00:00:00+00:00\", \"Top 20 %\": 6.31350803123774, \"Bottom 20 %\": 2.426832602085447, \"Top 20 % Deviation\": 1.039339282458758, \"Bottom 20 % Deviation\": -2.8473361466935367}, {\"date\": \"2020-01-16T00:00:00+00:00\", \"Top 20 %\": 6.450057942433153, \"Bottom 20 %\": 2.461095287146415, \"Top 20 % Deviation\": 1.1758891936541722, \"Bottom 20 % Deviation\": -2.8130734616325688}, {\"date\": \"2020-01-17T00:00:00+00:00\", \"Top 20 %\": 6.568646202495609, \"Bottom 20 %\": 2.653186418954052, \"Top 20 % Deviation\": 1.2944774537166281, \"Bottom 20 % Deviation\": -2.620982329824931}, {\"date\": \"2020-01-18T00:00:00+00:00\", \"Top 20 %\": 6.229065168850476, \"Bottom 20 %\": 2.658381814975167, \"Top 20 % Deviation\": 0.9548964200714959, \"Bottom 20 % Deviation\": -2.615786933803817}, {\"date\": \"2020-01-19T00:00:00+00:00\", \"Top 20 %\": 5.7837318395456405, \"Bottom 20 %\": 2.803269320134812, \"Top 20 % Deviation\": 0.509563090766661, \"Bottom 20 % Deviation\": -2.470899428644172}, {\"date\": \"2020-01-20T00:00:00+00:00\", \"Top 20 %\": 5.669500555788882, \"Bottom 20 %\": 2.9012998974246957, \"Top 20 % Deviation\": 0.395331807009902, \"Bottom 20 % Deviation\": -2.372868851354288}, {\"date\": \"2020-01-21T00:00:00+00:00\", \"Top 20 %\": 6.110473489731983, \"Bottom 20 %\": 3.0529814995707527, \"Top 20 % Deviation\": 0.8363047409530029, \"Bottom 20 % Deviation\": -2.221187249208231}, {\"date\": \"2020-01-22T00:00:00+00:00\", \"Top 20 %\": 6.506630359572524, \"Bottom 20 %\": 3.0668584939847636, \"Top 20 % Deviation\": 1.2324616107935444, \"Bottom 20 % Deviation\": -2.2073102547942196}, {\"date\": \"2020-01-23T00:00:00+00:00\", \"Top 20 %\": 6.518790787277965, \"Bottom 20 %\": 3.0865117260489066, \"Top 20 % Deviation\": 1.244622038498985, \"Bottom 20 % Deviation\": -2.1876570227300767}, {\"date\": \"2020-01-24T00:00:00+00:00\", \"Top 20 %\": 6.493646538086097, \"Bottom 20 %\": 3.196132776819557, \"Top 20 % Deviation\": 1.219477789307117, \"Bottom 20 % Deviation\": -2.0780359719594266}, {\"date\": \"2020-01-25T00:00:00+00:00\", \"Top 20 %\": 6.112998542733566, \"Bottom 20 %\": 3.2085425705787394, \"Top 20 % Deviation\": 0.8388297939545861, \"Bottom 20 % Deviation\": -2.0656261782002447}, {\"date\": \"2020-01-26T00:00:00+00:00\", \"Top 20 %\": 5.614633331481255, \"Bottom 20 %\": 3.2264624059959375, \"Top 20 % Deviation\": 0.34046458270227536, \"Bottom 20 % Deviation\": -2.047706342783046}, {\"date\": \"2020-01-27T00:00:00+00:00\", \"Top 20 %\": 5.6880700940496505, \"Bottom 20 %\": 3.2609170854061547, \"Top 20 % Deviation\": 0.4139013452706709, \"Bottom 20 % Deviation\": -2.0132516633728295}, {\"date\": \"2020-01-28T00:00:00+00:00\", \"Top 20 %\": 6.172422986042834, \"Bottom 20 %\": 3.51796281146668, \"Top 20 % Deviation\": 0.8982542372638548, \"Bottom 20 % Deviation\": -1.7562059373123038}, {\"date\": \"2020-01-29T00:00:00+00:00\", \"Top 20 %\": 6.6228619178179455, \"Bottom 20 %\": 3.4100546417466986, \"Top 20 % Deviation\": 1.3486931690389672, \"Bottom 20 % Deviation\": -1.8641141070322849}, {\"date\": \"2020-01-30T00:00:00+00:00\", \"Top 20 %\": 6.980072487496439, \"Bottom 20 %\": 3.475289094521608, \"Top 20 % Deviation\": 1.7059037387174605, \"Bottom 20 % Deviation\": -1.7988796542573753}, {\"date\": \"2020-01-31T00:00:00+00:00\", \"Top 20 %\": 6.952030531091826, \"Bottom 20 %\": 3.428253200685244, \"Top 20 % Deviation\": 1.6778617823128474, \"Bottom 20 % Deviation\": -1.8459155480937397}, {\"date\": \"2020-02-01T00:00:00+00:00\", \"Top 20 %\": 6.50866176126635, \"Bottom 20 %\": 3.3567749317575504, \"Top 20 % Deviation\": 1.2344930124873728, \"Bottom 20 % Deviation\": -1.9173938170214337}, {\"date\": \"2020-02-02T00:00:00+00:00\", \"Top 20 %\": 5.970532976338778, \"Bottom 20 %\": 3.2297547417968566, \"Top 20 % Deviation\": 0.6963642275597999, \"Bottom 20 % Deviation\": -2.0444140069821284}, {\"date\": \"2020-02-03T00:00:00+00:00\", \"Top 20 %\": 5.9260287835183805, \"Bottom 20 %\": 2.943103821747836, \"Top 20 % Deviation\": 0.6518600347394026, \"Bottom 20 % Deviation\": -2.331064927031149}, {\"date\": \"2020-02-04T00:00:00+00:00\", \"Top 20 %\": 6.260822653501988, \"Bottom 20 %\": 2.7685461785801104, \"Top 20 % Deviation\": 0.9866539047230102, \"Bottom 20 % Deviation\": -2.5056225701988746}, {\"date\": \"2020-02-05T00:00:00+00:00\", \"Top 20 %\": 6.757095405115434, \"Bottom 20 %\": 2.793868269078092, \"Top 20 % Deviation\": 1.4829266563364565, \"Bottom 20 % Deviation\": -2.4803004797008934}, {\"date\": \"2020-02-06T00:00:00+00:00\", \"Top 20 %\": 6.768388414515565, \"Bottom 20 %\": 2.743367376652885, \"Top 20 % Deviation\": 1.4942196657365858, \"Bottom 20 % Deviation\": -2.5308013721261005}, {\"date\": \"2020-02-07T00:00:00+00:00\", \"Top 20 %\": 6.6161276377705445, \"Bottom 20 %\": 2.450665746532782, \"Top 20 % Deviation\": 1.341958888991566, \"Bottom 20 % Deviation\": -2.823503002246203}, {\"date\": \"2020-02-08T00:00:00+00:00\", \"Top 20 %\": 6.17300862862831, \"Bottom 20 %\": 2.391355999875544, \"Top 20 % Deviation\": 0.8988398798493314, \"Bottom 20 % Deviation\": -2.882812748903441}, {\"date\": \"2020-02-09T00:00:00+00:00\", \"Top 20 %\": 5.613734529914562, \"Bottom 20 %\": 2.138709695502681, \"Top 20 % Deviation\": 0.3395657811355842, \"Bottom 20 % Deviation\": -3.1354590532763043}, {\"date\": \"2020-02-10T00:00:00+00:00\", \"Top 20 %\": 5.573729666702664, \"Bottom 20 %\": 2.1150837538382534, \"Top 20 % Deviation\": 0.2995609179236866, \"Bottom 20 % Deviation\": -3.1590849949407316}, {\"date\": \"2020-02-11T00:00:00+00:00\", \"Top 20 %\": 6.118245856988961, \"Bottom 20 %\": 2.2940896616483846, \"Top 20 % Deviation\": 0.8440771082099829, \"Bottom 20 % Deviation\": -2.9800790871306004}, {\"date\": \"2020-02-12T00:00:00+00:00\", \"Top 20 %\": 6.634819928561231, \"Bottom 20 %\": 2.4030056172711354, \"Top 20 % Deviation\": 1.3606511797822536, \"Bottom 20 % Deviation\": -2.87116313150785}, {\"date\": \"2020-02-13T00:00:00+00:00\", \"Top 20 %\": 6.560751523967506, \"Bottom 20 %\": 2.4335750431630903, \"Top 20 % Deviation\": 1.2865827751885281, \"Bottom 20 % Deviation\": -2.8405937056158956}, {\"date\": \"2020-02-14T00:00:00+00:00\", \"Top 20 %\": 6.376532120772879, \"Bottom 20 %\": 2.4794688541471284, \"Top 20 % Deviation\": 1.1023633719939023, \"Bottom 20 % Deviation\": -2.794699894631857}, {\"date\": \"2020-02-15T00:00:00+00:00\", \"Top 20 %\": 5.847175675465049, \"Bottom 20 %\": 2.420386575575122, \"Top 20 % Deviation\": 0.5730069266860729, \"Bottom 20 % Deviation\": -2.8537821732038635}, {\"date\": \"2020-02-16T00:00:00+00:00\", \"Top 20 %\": 5.302034352144508, \"Bottom 20 %\": 2.4661475752889532, \"Top 20 % Deviation\": 0.027865603365532277, \"Bottom 20 % Deviation\": -2.808021173490032}, {\"date\": \"2020-02-17T00:00:00+00:00\", \"Top 20 %\": 5.045181651744837, \"Bottom 20 %\": 2.4925287400525535, \"Top 20 % Deviation\": -0.22898709703413864, \"Bottom 20 % Deviation\": -2.7816400087264324}, {\"date\": \"2020-02-18T00:00:00+00:00\", \"Top 20 %\": 5.566566299126594, \"Bottom 20 %\": 2.5488751099411426, \"Top 20 % Deviation\": 0.2923975503476176, \"Bottom 20 % Deviation\": -2.7252936388378433}, {\"date\": \"2020-02-19T00:00:00+00:00\", \"Top 20 %\": 6.04830414355811, \"Bottom 20 %\": 2.6827103658262947, \"Top 20 % Deviation\": 0.7741353947791337, \"Bottom 20 % Deviation\": -2.591458382952691}, {\"date\": \"2020-02-20T00:00:00+00:00\", \"Top 20 %\": 6.176378115948621, \"Bottom 20 %\": 2.7725590932713735, \"Top 20 % Deviation\": 0.9022093671696443, \"Bottom 20 % Deviation\": -2.5016096555076124}, {\"date\": \"2020-02-21T00:00:00+00:00\", \"Top 20 %\": 6.052665748361921, \"Bottom 20 %\": 2.6303679139737164, \"Top 20 % Deviation\": 0.7784969995829437, \"Bottom 20 % Deviation\": -2.64380083480527}, {\"date\": \"2020-02-22T00:00:00+00:00\", \"Top 20 %\": 5.571395615301434, \"Bottom 20 %\": 2.549718650613167, \"Top 20 % Deviation\": 0.2972268665224568, \"Bottom 20 % Deviation\": -2.724450098165819}, {\"date\": \"2020-02-23T00:00:00+00:00\", \"Top 20 %\": 5.136994054126375, \"Bottom 20 %\": 2.497844509258981, \"Top 20 % Deviation\": -0.13717469465260151, \"Bottom 20 % Deviation\": -2.7763242395200054}, {\"date\": \"2020-02-24T00:00:00+00:00\", \"Top 20 %\": 5.306653745323117, \"Bottom 20 %\": 2.5451712896721155, \"Top 20 % Deviation\": 0.03248499654413979, \"Bottom 20 % Deviation\": -2.7289974591068704}, {\"date\": \"2020-02-25T00:00:00+00:00\", \"Top 20 %\": 5.272978339668186, \"Bottom 20 %\": 2.4716706247871936, \"Top 20 % Deviation\": -0.001190409110791224, \"Bottom 20 % Deviation\": -2.802498123991792}, {\"date\": \"2020-02-26T00:00:00+00:00\", \"Top 20 %\": 5.713400335920533, \"Bottom 20 %\": 2.2974182063989064, \"Top 20 % Deviation\": 0.4392315871415562, \"Bottom 20 % Deviation\": -2.9767505423800795}, {\"date\": \"2020-02-27T00:00:00+00:00\", \"Top 20 %\": 6.055897043974026, \"Bottom 20 %\": 2.2621459111210207, \"Top 20 % Deviation\": 0.7817282951950487, \"Bottom 20 % Deviation\": -3.012022837657965}, {\"date\": \"2020-02-28T00:00:00+00:00\", \"Top 20 %\": 5.870721818687106, \"Bottom 20 %\": 2.232237647657196, \"Top 20 % Deviation\": 0.5965530699081284, \"Bottom 20 % Deviation\": -3.04193110112179}, {\"date\": \"2020-02-29T00:00:00+00:00\", \"Top 20 %\": 5.439158383199469, \"Bottom 20 %\": 2.1005264011612264, \"Top 20 % Deviation\": 0.16498963442049136, \"Bottom 20 % Deviation\": -3.173642347617759}, {\"date\": \"2020-03-01T00:00:00+00:00\", \"Top 20 %\": 4.8703680622199625, \"Bottom 20 %\": 1.880701325152139, \"Top 20 % Deviation\": -0.4038006865590159, \"Bottom 20 % Deviation\": -3.3934674236268463}, {\"date\": \"2020-03-02T00:00:00+00:00\", \"Top 20 %\": 5.039265319881327, \"Bottom 20 %\": 1.9310881809101041, \"Top 20 % Deviation\": -0.23490342889765206, \"Bottom 20 % Deviation\": -3.3430805678688813}, {\"date\": \"2020-03-03T00:00:00+00:00\", \"Top 20 %\": 5.478615134526193, \"Bottom 20 %\": 1.9445507795078043, \"Top 20 % Deviation\": 0.20444638574721422, \"Bottom 20 % Deviation\": -3.329617969271181}, {\"date\": \"2020-03-04T00:00:00+00:00\", \"Top 20 %\": 5.920677058429568, \"Bottom 20 %\": 2.0359231390321364, \"Top 20 % Deviation\": 0.6465083096505887, \"Bottom 20 % Deviation\": -3.238245609746849}, {\"date\": \"2020-03-05T00:00:00+00:00\", \"Top 20 %\": 5.843458650350466, \"Bottom 20 %\": 1.933985000772788, \"Top 20 % Deviation\": 0.5692899015714874, \"Bottom 20 % Deviation\": -3.340183748006197}, {\"date\": \"2020-03-06T00:00:00+00:00\", \"Top 20 %\": 6.342215076166429, \"Bottom 20 %\": 2.1012901415399052, \"Top 20 % Deviation\": 1.068046327387451, \"Bottom 20 % Deviation\": -3.17287860723908}, {\"date\": \"2020-03-07T00:00:00+00:00\", \"Top 20 %\": 5.91415652712613, \"Bottom 20 %\": 2.356384212865713, \"Top 20 % Deviation\": 0.6399877783471518, \"Bottom 20 % Deviation\": -2.9177845359132726}, {\"date\": \"2020-03-08T00:00:00+00:00\", \"Top 20 %\": 5.57887653596774, \"Bottom 20 %\": 2.379748635018994, \"Top 20 % Deviation\": 0.30470778718876146, \"Bottom 20 % Deviation\": -2.894420113759991}, {\"date\": \"2020-03-09T00:00:00+00:00\", \"Top 20 %\": 5.806200666729289, \"Bottom 20 %\": 2.3614901014687963, \"Top 20 % Deviation\": 0.5320319179503106, \"Bottom 20 % Deviation\": -2.912678647310189}, {\"date\": \"2020-03-10T00:00:00+00:00\", \"Top 20 %\": 6.3749524842309295, \"Bottom 20 %\": 2.3776102648467736, \"Top 20 % Deviation\": 1.1007837354519512, \"Bottom 20 % Deviation\": -2.896558483932212}, {\"date\": \"2020-03-11T00:00:00+00:00\", \"Top 20 %\": 7.006858920493897, \"Bottom 20 %\": 2.473777569461552, \"Top 20 % Deviation\": 1.7326901717149195, \"Bottom 20 % Deviation\": -2.800391179317434}, {\"date\": \"2020-03-12T00:00:00+00:00\", \"Top 20 %\": 7.05529627439067, \"Bottom 20 %\": 2.4972599549619843, \"Top 20 % Deviation\": 1.7811275256116932, \"Bottom 20 % Deviation\": -2.7769087938170016}, {\"date\": \"2020-03-13T00:00:00+00:00\", \"Top 20 %\": 7.11153605620251, \"Bottom 20 %\": 2.6648022921181704, \"Top 20 % Deviation\": 1.837367307423533, \"Bottom 20 % Deviation\": -2.6093664566608163}, {\"date\": \"2020-03-14T00:00:00+00:00\", \"Top 20 %\": 6.803958920729412, \"Bottom 20 %\": 2.614442755323639, \"Top 20 % Deviation\": 1.529790171950435, \"Bottom 20 % Deviation\": -2.6597259934553477}, {\"date\": \"2020-03-15T00:00:00+00:00\", \"Top 20 %\": 6.415956309501132, \"Bottom 20 %\": 2.670761680098078, \"Top 20 % Deviation\": 1.141787560722154, \"Bottom 20 % Deviation\": -2.6034070686809088}, {\"date\": \"2020-03-16T00:00:00+00:00\", \"Top 20 %\": 6.340501919216559, \"Bottom 20 %\": 2.594235761530646, \"Top 20 % Deviation\": 1.0663331704375796, \"Bottom 20 % Deviation\": -2.6799329872483413}, {\"date\": \"2020-03-17T00:00:00+00:00\", \"Top 20 %\": 6.6463028470557335, \"Bottom 20 %\": 2.355725175378484, \"Top 20 % Deviation\": 1.3721340982767538, \"Bottom 20 % Deviation\": -2.9184435734005034}, {\"date\": \"2020-03-18T00:00:00+00:00\", \"Top 20 %\": 6.809774213802011, \"Bottom 20 %\": 2.3624729295023865, \"Top 20 % Deviation\": 1.5356054650230313, \"Bottom 20 % Deviation\": -2.911695819276601}, {\"date\": \"2020-03-19T00:00:00+00:00\", \"Top 20 %\": 6.358668284429749, \"Bottom 20 %\": 2.372569103110429, \"Top 20 % Deviation\": 1.084499535650768, \"Bottom 20 % Deviation\": -2.9015996456685587}, {\"date\": \"2020-03-20T00:00:00+00:00\", \"Top 20 %\": 5.877273278233238, \"Bottom 20 %\": 2.4159809853066845, \"Top 20 % Deviation\": 0.6031045294542572, \"Bottom 20 % Deviation\": -2.8581877634723023}, {\"date\": \"2020-03-21T00:00:00+00:00\", \"Top 20 %\": 5.303668285429664, \"Bottom 20 %\": 2.358472970246801, \"Top 20 % Deviation\": 0.029499536650683167, \"Bottom 20 % Deviation\": -2.9156957785321858}, {\"date\": \"2020-03-22T00:00:00+00:00\", \"Top 20 %\": 4.758444526288391, \"Bottom 20 %\": 2.4923253430075887, \"Top 20 % Deviation\": -0.51572422249059, \"Bottom 20 % Deviation\": -2.781843405771398}, {\"date\": \"2020-03-23T00:00:00+00:00\", \"Top 20 %\": 4.42009142830134, \"Bottom 20 %\": 2.3616116216305763, \"Top 20 % Deviation\": -0.8540773204776414, \"Bottom 20 % Deviation\": -2.9125571271484105}, {\"date\": \"2020-03-24T00:00:00+00:00\", \"Top 20 %\": 4.5482071065743686, \"Bottom 20 %\": 2.4469109451154605, \"Top 20 % Deviation\": -0.7259616422046128, \"Bottom 20 % Deviation\": -2.8272578036635263}, {\"date\": \"2020-03-25T00:00:00+00:00\", \"Top 20 %\": 4.666669023097194, \"Bottom 20 %\": 2.430449739355776, \"Top 20 % Deviation\": -0.6074997256817875, \"Bottom 20 % Deviation\": -2.8437190094232108}, {\"date\": \"2020-03-26T00:00:00+00:00\", \"Top 20 %\": 4.461150134243466, \"Bottom 20 %\": 2.4293299419627212, \"Top 20 % Deviation\": -0.8130186145355157, \"Bottom 20 % Deviation\": -2.844838806816265}, {\"date\": \"2020-03-27T00:00:00+00:00\", \"Top 20 %\": 4.36125544396071, \"Bottom 20 %\": 2.4632516202827706, \"Top 20 % Deviation\": -0.9129133048182723, \"Bottom 20 % Deviation\": -2.8109171284962153}, {\"date\": \"2020-03-28T00:00:00+00:00\", \"Top 20 %\": 4.089400827513878, \"Bottom 20 %\": 2.4847598009700023, \"Top 20 % Deviation\": -1.184767921265104, \"Bottom 20 % Deviation\": -2.7894089478089836}, {\"date\": \"2020-03-29T00:00:00+00:00\", \"Top 20 %\": 3.9351340479961068, \"Bottom 20 %\": 2.4442498655719205, \"Top 20 % Deviation\": -1.3390347007828753, \"Bottom 20 % Deviation\": -2.8299188832070654}, {\"date\": \"2020-03-30T00:00:00+00:00\", \"Top 20 %\": 4.058039304407583, \"Bottom 20 %\": 2.4818751694778673, \"Top 20 % Deviation\": -1.2161294443713995, \"Bottom 20 % Deviation\": -2.792293579301119}, {\"date\": \"2020-03-31T00:00:00+00:00\", \"Top 20 %\": 4.3322493620347835, \"Bottom 20 %\": 2.7549929281720904, \"Top 20 % Deviation\": -0.9419193867441986, \"Bottom 20 % Deviation\": -2.519175820606896}, {\"date\": \"2020-04-01T00:00:00+00:00\", \"Top 20 %\": 4.444550779160841, \"Bottom 20 %\": 2.5884900077768815, \"Top 20 % Deviation\": -0.8296179696181406, \"Bottom 20 % Deviation\": -2.685678741002105}, {\"date\": \"2020-04-02T00:00:00+00:00\", \"Top 20 %\": 4.524620390066483, \"Bottom 20 %\": 2.964611447937272, \"Top 20 % Deviation\": -0.7495483587124987, \"Bottom 20 % Deviation\": -2.309557300841715}, {\"date\": \"2020-04-03T00:00:00+00:00\", \"Top 20 %\": 4.462894339103603, \"Bottom 20 %\": 3.13331667657883, \"Top 20 % Deviation\": -0.8112744096753788, \"Bottom 20 % Deviation\": -2.1408520722001567}, {\"date\": \"2020-04-04T00:00:00+00:00\", \"Top 20 %\": 4.353373351550202, \"Bottom 20 %\": 3.1569187900303097, \"Top 20 % Deviation\": -0.9207953972287808, \"Bottom 20 % Deviation\": -2.117249958748677}, {\"date\": \"2020-04-05T00:00:00+00:00\", \"Top 20 %\": 4.142157817137869, \"Bottom 20 %\": 3.096345027187855, \"Top 20 % Deviation\": -1.1320109316411135, \"Bottom 20 % Deviation\": -2.1778237215911322}, {\"date\": \"2020-04-06T00:00:00+00:00\", \"Top 20 %\": 4.044777658176644, \"Bottom 20 %\": 3.067510493580242, \"Top 20 % Deviation\": -1.229391090602338, \"Bottom 20 % Deviation\": -2.2066582551987453}, {\"date\": \"2020-04-07T00:00:00+00:00\", \"Top 20 %\": 4.235134319696356, \"Bottom 20 %\": 3.0628508659045344, \"Top 20 % Deviation\": -1.0390344290826257, \"Bottom 20 % Deviation\": -2.211317882874453}, {\"date\": \"2020-04-08T00:00:00+00:00\", \"Top 20 %\": 4.353999358822777, \"Bottom 20 %\": 3.1534738613905313, \"Top 20 % Deviation\": -0.9201693899562052, \"Bottom 20 % Deviation\": -2.120694887388456}, {\"date\": \"2020-04-09T00:00:00+00:00\", \"Top 20 %\": 4.300555448423749, \"Bottom 20 %\": 3.1651276846181973, \"Top 20 % Deviation\": -0.9736133003552327, \"Bottom 20 % Deviation\": -2.1090410641607904}, {\"date\": \"2020-04-10T00:00:00+00:00\", \"Top 20 %\": 4.061137923861418, \"Bottom 20 %\": 2.9289409724923443, \"Top 20 % Deviation\": -1.2130308249175634, \"Bottom 20 % Deviation\": -2.345227776286644}, {\"date\": \"2020-04-11T00:00:00+00:00\", \"Top 20 %\": 3.8839831099372946, \"Bottom 20 %\": 2.923862760799557, \"Top 20 % Deviation\": -1.3901856388416873, \"Bottom 20 % Deviation\": -2.350305987979431}, {\"date\": \"2020-04-12T00:00:00+00:00\", \"Top 20 %\": 3.713190953699425, \"Bottom 20 %\": 2.5633055610675965, \"Top 20 % Deviation\": -1.5609777950795574, \"Bottom 20 % Deviation\": -2.710863187711391}, {\"date\": \"2020-04-13T00:00:00+00:00\", \"Top 20 %\": 3.7103460289868813, \"Bottom 20 %\": 2.3505609989628646, \"Top 20 % Deviation\": -1.5638227197921006, \"Bottom 20 % Deviation\": -2.923607749816123}, {\"date\": \"2020-04-14T00:00:00+00:00\", \"Top 20 %\": 3.838671846812992, \"Bottom 20 %\": 2.4529959114330326, \"Top 20 % Deviation\": -1.4354969019659893, \"Bottom 20 % Deviation\": -2.821172837345955}, {\"date\": \"2020-04-15T00:00:00+00:00\", \"Top 20 %\": 3.991970852462296, \"Bottom 20 %\": 2.558178663890963, \"Top 20 % Deviation\": -1.2821978963166853, \"Bottom 20 % Deviation\": -2.7159900848880243}, {\"date\": \"2020-04-16T00:00:00+00:00\", \"Top 20 %\": 4.082966453148883, \"Bottom 20 %\": 2.743375898015821, \"Top 20 % Deviation\": -1.191202295630098, \"Bottom 20 % Deviation\": -2.5307928507631665}, {\"date\": \"2020-04-17T00:00:00+00:00\", \"Top 20 %\": 4.017427912105057, \"Bottom 20 %\": 2.813680924950415, \"Top 20 % Deviation\": -1.256740836673925, \"Bottom 20 % Deviation\": -2.460487823828573}, {\"date\": \"2020-04-18T00:00:00+00:00\", \"Top 20 %\": 3.9520564389256014, \"Bottom 20 %\": 2.7467859752029566, \"Top 20 % Deviation\": -1.3221123098533805, \"Bottom 20 % Deviation\": -2.5273827735760315}, {\"date\": \"2020-04-19T00:00:00+00:00\", \"Top 20 %\": 3.9665187533616417, \"Bottom 20 %\": 2.917504808803648, \"Top 20 % Deviation\": -1.30764999541734, \"Bottom 20 % Deviation\": -2.35666393997534}, {\"date\": \"2020-04-20T00:00:00+00:00\", \"Top 20 %\": 4.033891374087656, \"Bottom 20 %\": 2.9088900789918446, \"Top 20 % Deviation\": -1.2402773746913263, \"Bottom 20 % Deviation\": -2.3652786697871435}, {\"date\": \"2020-04-21T00:00:00+00:00\", \"Top 20 %\": 4.277454228884088, \"Bottom 20 %\": 3.0079814416780537, \"Top 20 % Deviation\": -0.9967145198948935, \"Bottom 20 % Deviation\": -2.2661873071009344}, {\"date\": \"2020-04-22T00:00:00+00:00\", \"Top 20 %\": 4.380695841981527, \"Bottom 20 %\": 3.0997481418485267, \"Top 20 % Deviation\": -0.8934729067974547, \"Bottom 20 % Deviation\": -2.174420606930461}, {\"date\": \"2020-04-23T00:00:00+00:00\", \"Top 20 %\": 4.347394687779367, \"Bottom 20 %\": 3.171349586578171, \"Top 20 % Deviation\": -0.9267740609996148, \"Bottom 20 % Deviation\": -2.1028191622008165}, {\"date\": \"2020-04-24T00:00:00+00:00\", \"Top 20 %\": 4.386674010870206, \"Bottom 20 %\": 3.069658979733977, \"Top 20 % Deviation\": -0.8874947379087754, \"Bottom 20 % Deviation\": -2.20450976904501}, {\"date\": \"2020-04-25T00:00:00+00:00\", \"Top 20 %\": 4.4376103015614605, \"Bottom 20 %\": 3.2478172761118813, \"Top 20 % Deviation\": -0.8365584472175212, \"Bottom 20 % Deviation\": -2.0263514726671055}, {\"date\": \"2020-04-26T00:00:00+00:00\", \"Top 20 %\": 4.186712796502695, \"Bottom 20 %\": 3.031786532373064, \"Top 20 % Deviation\": -1.0874559522762872, \"Bottom 20 % Deviation\": -2.2423822164059226}, {\"date\": \"2020-04-27T00:00:00+00:00\", \"Top 20 %\": 4.342832674857685, \"Bottom 20 %\": 3.037121471292873, \"Top 20 % Deviation\": -0.9313360739212971, \"Bottom 20 % Deviation\": -2.237047277486114}, {\"date\": \"2020-04-28T00:00:00+00:00\", \"Top 20 %\": 4.499778134713828, \"Bottom 20 %\": 3.097558123242139, \"Top 20 % Deviation\": -0.774390614065154, \"Bottom 20 % Deviation\": -2.1766106255368483}, {\"date\": \"2020-04-29T00:00:00+00:00\", \"Top 20 %\": 4.46822414233889, \"Bottom 20 %\": 2.975179164711432, \"Top 20 % Deviation\": -0.8059446064400919, \"Bottom 20 % Deviation\": -2.2989895840675554}, {\"date\": \"2020-04-30T00:00:00+00:00\", \"Top 20 %\": 4.5190038541101485, \"Bottom 20 %\": 3.0646309018030338, \"Top 20 % Deviation\": -0.7551648946688333, \"Bottom 20 % Deviation\": -2.209537846975954}, {\"date\": \"2020-05-01T00:00:00+00:00\", \"Top 20 %\": 4.37885804730995, \"Bottom 20 %\": 3.011205275437579, \"Top 20 % Deviation\": -0.8953107014690318, \"Bottom 20 % Deviation\": -2.262963473341409}, {\"date\": \"2020-05-02T00:00:00+00:00\", \"Top 20 %\": 4.231808213784779, \"Bottom 20 %\": 3.0213382695971225, \"Top 20 % Deviation\": -1.042360534994202, \"Bottom 20 % Deviation\": -2.252830479181865}, {\"date\": \"2020-05-03T00:00:00+00:00\", \"Top 20 %\": 4.172054230291482, \"Bottom 20 %\": 3.1961323038209266, \"Top 20 % Deviation\": -1.1021145184874996, \"Bottom 20 % Deviation\": -2.078036444958061}, {\"date\": \"2020-05-04T00:00:00+00:00\", \"Top 20 %\": 4.10414893281047, \"Bottom 20 %\": 3.2468939362990348, \"Top 20 % Deviation\": -1.1700198159685118, \"Bottom 20 % Deviation\": -2.027274812479953}, {\"date\": \"2020-05-05T00:00:00+00:00\", \"Top 20 %\": 4.039303960312253, \"Bottom 20 %\": 3.1328427309409905, \"Top 20 % Deviation\": -1.234864788466729, \"Bottom 20 % Deviation\": -2.141326017837998}, {\"date\": \"2020-05-06T00:00:00+00:00\", \"Top 20 %\": 4.263261322940939, \"Bottom 20 %\": 3.2502099180563477, \"Top 20 % Deviation\": -1.0109074258380433, \"Bottom 20 % Deviation\": -2.023958830722641}, {\"date\": \"2020-05-07T00:00:00+00:00\", \"Top 20 %\": 4.207236465075434, \"Bottom 20 %\": 3.334057544738742, \"Top 20 % Deviation\": -1.0669322837035475, \"Bottom 20 % Deviation\": -1.9401112040402464}, {\"date\": \"2020-05-08T00:00:00+00:00\", \"Top 20 %\": 4.175522651561838, \"Bottom 20 %\": 3.462028914610772, \"Top 20 % Deviation\": -1.098646097217144, \"Bottom 20 % Deviation\": -1.812139834168217}, {\"date\": \"2020-05-09T00:00:00+00:00\", \"Top 20 %\": 4.04234435946728, \"Bottom 20 %\": 3.562762687404832, \"Top 20 % Deviation\": -1.231824389311702, \"Bottom 20 % Deviation\": -1.711406061374157}, {\"date\": \"2020-05-10T00:00:00+00:00\", \"Top 20 %\": 3.879860491711205, \"Bottom 20 %\": 3.6690447863815643, \"Top 20 % Deviation\": -1.394308257067777, \"Bottom 20 % Deviation\": -1.6051239623974247}, {\"date\": \"2020-05-11T00:00:00+00:00\", \"Top 20 %\": 4.172195451425903, \"Bottom 20 %\": 4.0579336385169364, \"Top 20 % Deviation\": -1.1019732973530787, \"Bottom 20 % Deviation\": -1.2162351102620523}, {\"date\": \"2020-05-12T00:00:00+00:00\", \"Top 20 %\": 4.365936785953668, \"Bottom 20 %\": 4.209634630135579, \"Top 20 % Deviation\": -0.908231962825314, \"Bottom 20 % Deviation\": -1.0645341186434099}, {\"date\": \"2020-05-13T00:00:00+00:00\", \"Top 20 %\": 4.49184398836965, \"Bottom 20 %\": 4.066457156861629, \"Top 20 % Deviation\": -0.7823247604093322, \"Bottom 20 % Deviation\": -1.2077115919173589}, {\"date\": \"2020-05-14T00:00:00+00:00\", \"Top 20 %\": 4.523074474748896, \"Bottom 20 %\": 4.125635089558164, \"Top 20 % Deviation\": -0.7510942740300863, \"Bottom 20 % Deviation\": -1.1485336592208235}, {\"date\": \"2020-05-15T00:00:00+00:00\", \"Top 20 %\": 4.5625376558152455, \"Bottom 20 %\": 4.114595753796429, \"Top 20 % Deviation\": -0.7116310929637362, \"Bottom 20 % Deviation\": -1.1595729949825584}, {\"date\": \"2020-05-16T00:00:00+00:00\", \"Top 20 %\": 4.385943298002394, \"Bottom 20 %\": 4.142864654803226, \"Top 20 % Deviation\": -0.8882254507765879, \"Bottom 20 % Deviation\": -1.1313040939757617}, {\"date\": \"2020-05-17T00:00:00+00:00\", \"Top 20 %\": 4.205372529681492, \"Bottom 20 %\": 4.233591717692536, \"Top 20 % Deviation\": -1.0687962190974898, \"Bottom 20 % Deviation\": -1.040577031086452}, {\"date\": \"2020-05-18T00:00:00+00:00\", \"Top 20 %\": 4.174696028921458, \"Bottom 20 %\": 4.122647492182827, \"Top 20 % Deviation\": -1.0994727198575236, \"Bottom 20 % Deviation\": -1.151521256596162}, {\"date\": \"2020-05-19T00:00:00+00:00\", \"Top 20 %\": 4.265512935619556, \"Bottom 20 %\": 4.0317817957139885, \"Top 20 % Deviation\": -1.0086558131594254, \"Bottom 20 % Deviation\": -1.2423869530650005}, {\"date\": \"2020-05-20T00:00:00+00:00\", \"Top 20 %\": 4.4676622204453205, \"Bottom 20 %\": 4.187013901812202, \"Top 20 % Deviation\": -0.8065065283336613, \"Bottom 20 % Deviation\": -1.0871548469667875}, {\"date\": \"2020-05-21T00:00:00+00:00\", \"Top 20 %\": 4.2265930223367985, \"Bottom 20 %\": 3.93703686387462, \"Top 20 % Deviation\": -1.047575726442183, \"Bottom 20 % Deviation\": -1.3371318849043696}, {\"date\": \"2020-05-22T00:00:00+00:00\", \"Top 20 %\": 4.23514577817827, \"Bottom 20 %\": 3.8840285264963264, \"Top 20 % Deviation\": -1.0390229706007115, \"Bottom 20 % Deviation\": -1.390140222282663}, {\"date\": \"2020-05-23T00:00:00+00:00\", \"Top 20 %\": 4.105337610405691, \"Bottom 20 %\": 4.304270849012532, \"Top 20 % Deviation\": -1.168831138373291, \"Bottom 20 % Deviation\": -0.9698978997664573}, {\"date\": \"2020-05-24T00:00:00+00:00\", \"Top 20 %\": 3.9649865809419453, \"Bottom 20 %\": 4.256192376761172, \"Top 20 % Deviation\": -1.3091821678370372, \"Bottom 20 % Deviation\": -1.0179763720178177}, {\"date\": \"2020-05-25T00:00:00+00:00\", \"Top 20 %\": 3.8232414410705617, \"Bottom 20 %\": 4.3515829653145435, \"Top 20 % Deviation\": -1.4509273077084213, \"Bottom 20 % Deviation\": -0.9225857834644465}, {\"date\": \"2020-05-26T00:00:00+00:00\", \"Top 20 %\": 3.9306977456480015, \"Bottom 20 %\": 4.373359501146867, \"Top 20 % Deviation\": -1.3434710031309816, \"Bottom 20 % Deviation\": -0.9008092476321223}, {\"date\": \"2020-05-27T00:00:00+00:00\", \"Top 20 %\": 4.051890821456977, \"Bottom 20 %\": 4.1932615012933825, \"Top 20 % Deviation\": -1.2222779273220052, \"Bottom 20 % Deviation\": -1.0809072474856072}, {\"date\": \"2020-05-28T00:00:00+00:00\", \"Top 20 %\": 4.063963510307426, \"Bottom 20 %\": 4.354651183764097, \"Top 20 % Deviation\": -1.2102052384715574, \"Bottom 20 % Deviation\": -0.9195175650148917}, {\"date\": \"2020-05-29T00:00:00+00:00\", \"Top 20 %\": 4.0701278519620905, \"Bottom 20 %\": 4.337183791853322, \"Top 20 % Deviation\": -1.2040408968168925, \"Bottom 20 % Deviation\": -0.9369849569256667}, {\"date\": \"2020-05-30T00:00:00+00:00\", \"Top 20 %\": 3.87607529375652, \"Bottom 20 %\": 4.1139969856881855, \"Top 20 % Deviation\": -1.3980934550224633, \"Bottom 20 % Deviation\": -1.1601717630908026}, {\"date\": \"2020-05-31T00:00:00+00:00\", \"Top 20 %\": 3.7294336038975495, \"Bottom 20 %\": 3.9913714029848855, \"Top 20 % Deviation\": -1.5447351448814342, \"Bottom 20 % Deviation\": -1.2827973457941027}, {\"date\": \"2020-06-01T00:00:00+00:00\", \"Top 20 %\": 3.6967818482234094, \"Bottom 20 %\": 3.896683095660999, \"Top 20 % Deviation\": -1.5773869005555743, \"Bottom 20 % Deviation\": -1.3774856531179895}, {\"date\": \"2020-06-02T00:00:00+00:00\", \"Top 20 %\": 3.9118681153044306, \"Bottom 20 %\": 3.505902380200132, \"Top 20 % Deviation\": -1.3623006334745533, \"Bottom 20 % Deviation\": -1.7682663685788569}, {\"date\": \"2020-06-03T00:00:00+00:00\", \"Top 20 %\": 4.053211846040275, \"Bottom 20 %\": 3.715501908215559, \"Top 20 % Deviation\": -1.2209569027387086, \"Bottom 20 % Deviation\": -1.5586668405634303}, {\"date\": \"2020-06-04T00:00:00+00:00\", \"Top 20 %\": 4.209448909619352, \"Bottom 20 %\": 3.7488370792252077, \"Top 20 % Deviation\": -1.0647198391596313, \"Bottom 20 % Deviation\": -1.5253316695537813}, {\"date\": \"2020-06-05T00:00:00+00:00\", \"Top 20 %\": 4.245719228532049, \"Bottom 20 %\": 3.6787934643182085, \"Top 20 % Deviation\": -1.0284495202469341, \"Bottom 20 % Deviation\": -1.5953752844607807}, {\"date\": \"2020-06-06T00:00:00+00:00\", \"Top 20 %\": 4.086601961052843, \"Bottom 20 %\": 3.708761557313197, \"Top 20 % Deviation\": -1.1875667877261402, \"Bottom 20 % Deviation\": -1.5654071914657919}, {\"date\": \"2020-06-07T00:00:00+00:00\", \"Top 20 %\": 3.95245883257721, \"Bottom 20 %\": 3.620079175196024, \"Top 20 % Deviation\": -1.3217099162017734, \"Bottom 20 % Deviation\": -1.6540895735829644}, {\"date\": \"2020-06-08T00:00:00+00:00\", \"Top 20 %\": 4.02282462958405, \"Bottom 20 %\": 3.679615658075393, \"Top 20 % Deviation\": -1.2513441191949337, \"Bottom 20 % Deviation\": -1.5945530907035956}, {\"date\": \"2020-06-09T00:00:00+00:00\", \"Top 20 %\": 4.20231767529444, \"Bottom 20 %\": 3.847748744902888, \"Top 20 % Deviation\": -1.0718510734845432, \"Bottom 20 % Deviation\": -1.4264200038761015}, {\"date\": \"2020-06-10T00:00:00+00:00\", \"Top 20 %\": 4.429213557264402, \"Bottom 20 %\": 3.8781307262179374, \"Top 20 % Deviation\": -0.8449551915145825, \"Bottom 20 % Deviation\": -1.3960380225610514}, {\"date\": \"2020-06-11T00:00:00+00:00\", \"Top 20 %\": 4.469581708188338, \"Bottom 20 %\": 4.013931347901257, \"Top 20 % Deviation\": -0.8045870405906455, \"Bottom 20 % Deviation\": -1.260237400877732}, {\"date\": \"2020-06-12T00:00:00+00:00\", \"Top 20 %\": 4.416993847684301, \"Bottom 20 %\": 4.1023960734666245, \"Top 20 % Deviation\": -0.8571749010946824, \"Bottom 20 % Deviation\": -1.1717726753123632}, {\"date\": \"2020-06-13T00:00:00+00:00\", \"Top 20 %\": 4.318344474958809, \"Bottom 20 %\": 4.088904875667291, \"Top 20 % Deviation\": -0.9558242738201749, \"Bottom 20 % Deviation\": -1.1852638731116965}, {\"date\": \"2020-06-14T00:00:00+00:00\", \"Top 20 %\": 4.1954527948529625, \"Bottom 20 %\": 4.0291815093341015, \"Top 20 % Deviation\": -1.0787159539260214, \"Bottom 20 % Deviation\": -1.2449872394448867}, {\"date\": \"2020-06-15T00:00:00+00:00\", \"Top 20 %\": 4.222400447017566, \"Bottom 20 %\": 4.204630878036896, \"Top 20 % Deviation\": -1.0517683017614186, \"Bottom 20 % Deviation\": -1.0695378707420917}, {\"date\": \"2020-06-16T00:00:00+00:00\", \"Top 20 %\": 4.49089299035594, \"Bottom 20 %\": 4.130262616777048, \"Top 20 % Deviation\": -0.7832757584230439, \"Bottom 20 % Deviation\": -1.14390613200194}, {\"date\": \"2020-06-17T00:00:00+00:00\", \"Top 20 %\": 4.670035882174, \"Bottom 20 %\": 4.042174122646539, \"Top 20 % Deviation\": -0.6041328666049848, \"Bottom 20 % Deviation\": -1.2319946261324488}, {\"date\": \"2020-06-18T00:00:00+00:00\", \"Top 20 %\": 4.7227747731636995, \"Bottom 20 %\": 4.3037613253369225, \"Top 20 % Deviation\": -0.5513939756152845, \"Bottom 20 % Deviation\": -0.9704074234420655}, {\"date\": \"2020-06-19T00:00:00+00:00\", \"Top 20 %\": 4.788510542455933, \"Bottom 20 %\": 4.156275157280246, \"Top 20 % Deviation\": -0.48565820632305134, \"Bottom 20 % Deviation\": -1.117893591498742}, {\"date\": \"2020-06-20T00:00:00+00:00\", \"Top 20 %\": 4.631858709413995, \"Bottom 20 %\": 4.276633130031863, \"Top 20 % Deviation\": -0.6423100393649885, \"Bottom 20 % Deviation\": -0.9975356187471242}, {\"date\": \"2020-06-21T00:00:00+00:00\", \"Top 20 %\": 4.422598680905446, \"Bottom 20 %\": 4.12424526703938, \"Top 20 % Deviation\": -0.8515700678735385, \"Bottom 20 % Deviation\": -1.149923481739607}, {\"date\": \"2020-06-22T00:00:00+00:00\", \"Top 20 %\": 4.451736673117923, \"Bottom 20 %\": 4.294280469701728, \"Top 20 % Deviation\": -0.8224320756610609, \"Bottom 20 % Deviation\": -0.9798882790772596}, {\"date\": \"2020-06-23T00:00:00+00:00\", \"Top 20 %\": 4.604683970965984, \"Bottom 20 %\": 4.231276463444835, \"Top 20 % Deviation\": -0.6694847778130001, \"Bottom 20 % Deviation\": -1.0428922853341525}, {\"date\": \"2020-06-24T00:00:00+00:00\", \"Top 20 %\": 4.720584028514135, \"Bottom 20 %\": 4.203879349474712, \"Top 20 % Deviation\": -0.5535847202648487, \"Bottom 20 % Deviation\": -1.0702893993042757}, {\"date\": \"2020-06-25T00:00:00+00:00\", \"Top 20 %\": 4.804788854548545, \"Bottom 20 %\": 4.279888166772172, \"Top 20 % Deviation\": -0.46937989423043847, \"Bottom 20 % Deviation\": -0.9942805820068161}, {\"date\": \"2020-06-26T00:00:00+00:00\", \"Top 20 %\": 4.784323270589967, \"Bottom 20 %\": 4.42393195891005, \"Top 20 % Deviation\": -0.4898454781890161, \"Bottom 20 % Deviation\": -0.8502367898689382}, {\"date\": \"2020-06-27T00:00:00+00:00\", \"Top 20 %\": 4.606769525727349, \"Bottom 20 %\": 4.530025662194933, \"Top 20 % Deviation\": -0.6673992230516349, \"Bottom 20 % Deviation\": -0.7441430865840547}, {\"date\": \"2020-06-28T00:00:00+00:00\", \"Top 20 %\": 4.446884415892467, \"Bottom 20 %\": 4.425360577600176, \"Top 20 % Deviation\": -0.8272843328865165, \"Bottom 20 % Deviation\": -0.8488081711788116}, {\"date\": \"2020-06-29T00:00:00+00:00\", \"Top 20 %\": 4.421029387345908, \"Bottom 20 %\": 4.466517765617285, \"Top 20 % Deviation\": -0.8531393614330757, \"Bottom 20 % Deviation\": -0.8076509831617031}, {\"date\": \"2020-06-30T00:00:00+00:00\", \"Top 20 %\": 4.60884357693733, \"Bottom 20 %\": 4.49783914717767, \"Top 20 % Deviation\": -0.6653251718416536, \"Bottom 20 % Deviation\": -0.776329601601317}, {\"date\": \"2020-07-01T00:00:00+00:00\", \"Top 20 %\": 4.835010026929658, \"Bottom 20 %\": 4.61849159239163, \"Top 20 % Deviation\": -0.43915872184932525, \"Bottom 20 % Deviation\": -0.6556771563873575}, {\"date\": \"2020-07-02T00:00:00+00:00\", \"Top 20 %\": 4.853755866254896, \"Bottom 20 %\": 4.605844148043783, \"Top 20 % Deviation\": -0.4204128825240875, \"Bottom 20 % Deviation\": -0.6683246007352043}, {\"date\": \"2020-07-03T00:00:00+00:00\", \"Top 20 %\": 4.6931230408034255, \"Bottom 20 %\": 4.551930884764236, \"Top 20 % Deviation\": -0.5810457079755577, \"Bottom 20 % Deviation\": -0.7222378640147514}, {\"date\": \"2020-07-04T00:00:00+00:00\", \"Top 20 %\": 4.635388148422846, \"Bottom 20 %\": 4.700974790367221, \"Top 20 % Deviation\": -0.6387806003561373, \"Bottom 20 % Deviation\": -0.5731939584117662}, {\"date\": \"2020-07-05T00:00:00+00:00\", \"Top 20 %\": 4.45105336818556, \"Bottom 20 %\": 4.547162524556883, \"Top 20 % Deviation\": -0.823115380593423, \"Bottom 20 % Deviation\": -0.7270062242221038}, {\"date\": \"2020-07-06T00:00:00+00:00\", \"Top 20 %\": 4.425411333738536, \"Bottom 20 %\": 4.532005237082012, \"Top 20 % Deviation\": -0.848757415040447, \"Bottom 20 % Deviation\": -0.7421635116969749}, {\"date\": \"2020-07-07T00:00:00+00:00\", \"Top 20 %\": 4.665429360700463, \"Bottom 20 %\": 4.5987911465986, \"Top 20 % Deviation\": -0.6087393880785203, \"Bottom 20 % Deviation\": -0.6753776021803866}, {\"date\": \"2020-07-08T00:00:00+00:00\", \"Top 20 %\": 4.784306882773777, \"Bottom 20 %\": 4.443697363112856, \"Top 20 % Deviation\": -0.4898618660052071, \"Bottom 20 % Deviation\": -0.8304713856661305}, {\"date\": \"2020-07-09T00:00:00+00:00\", \"Top 20 %\": 4.902943387349664, \"Bottom 20 %\": 4.646515904019699, \"Top 20 % Deviation\": -0.3712253614293194, \"Bottom 20 % Deviation\": -0.627652844759287}, {\"date\": \"2020-07-10T00:00:00+00:00\", \"Top 20 %\": 4.862703578164273, \"Bottom 20 %\": 4.703782656584833, \"Top 20 % Deviation\": -0.4114651706147113, \"Bottom 20 % Deviation\": -0.5703860921941533}, {\"date\": \"2020-07-11T00:00:00+00:00\", \"Top 20 %\": 4.743696899246795, \"Bottom 20 %\": 4.664974381427805, \"Top 20 % Deviation\": -0.5304718495321884, \"Bottom 20 % Deviation\": -0.6091943673511812}, {\"date\": \"2020-07-12T00:00:00+00:00\", \"Top 20 %\": 4.522960282395491, \"Bottom 20 %\": 4.51371805518883, \"Top 20 % Deviation\": -0.7512084663834926, \"Bottom 20 % Deviation\": -0.7604506935901562}, {\"date\": \"2020-07-13T00:00:00+00:00\", \"Top 20 %\": 4.736841683820418, \"Bottom 20 %\": 4.842633861914662, \"Top 20 % Deviation\": -0.5373270649585657, \"Bottom 20 % Deviation\": -0.43153488686432484}, {\"date\": \"2020-07-14T00:00:00+00:00\", \"Top 20 %\": 4.808061408542878, \"Bottom 20 %\": 4.633269891953134, \"Top 20 % Deviation\": -0.466107340236105, \"Bottom 20 % Deviation\": -0.640898856825852}, {\"date\": \"2020-07-15T00:00:00+00:00\", \"Top 20 %\": 4.894510081554846, \"Bottom 20 %\": 4.518042907789584, \"Top 20 % Deviation\": -0.3796586672241378, \"Bottom 20 % Deviation\": -0.7561258409894013}, {\"date\": \"2020-07-16T00:00:00+00:00\", \"Top 20 %\": 5.009430239565686, \"Bottom 20 %\": 4.622061278049221, \"Top 20 % Deviation\": -0.26473850921329833, \"Bottom 20 % Deviation\": -0.6521074707297643}, {\"date\": \"2020-07-17T00:00:00+00:00\", \"Top 20 %\": 4.942052117734822, \"Bottom 20 %\": 4.519190417947319, \"Top 20 % Deviation\": -0.33211663104416195, \"Bottom 20 % Deviation\": -0.7549783308316675}, {\"date\": \"2020-07-18T00:00:00+00:00\", \"Top 20 %\": 4.802573685517608, \"Bottom 20 %\": 4.7004255438715195, \"Top 20 % Deviation\": -0.4715950632613762, \"Bottom 20 % Deviation\": -0.5737432049074662}, {\"date\": \"2020-07-19T00:00:00+00:00\", \"Top 20 %\": 4.507193842033596, \"Bottom 20 %\": 4.4211355154595395, \"Top 20 % Deviation\": -0.7669749067453877, \"Bottom 20 % Deviation\": -0.8530332333194469}, {\"date\": \"2020-07-20T00:00:00+00:00\", \"Top 20 %\": 4.493324817985583, \"Bottom 20 %\": 4.318840127239266, \"Top 20 % Deviation\": -0.7808439307934011, \"Bottom 20 % Deviation\": -0.9553286215397208}, {\"date\": \"2020-07-21T00:00:00+00:00\", \"Top 20 %\": 4.705149601107693, \"Bottom 20 %\": 4.496202917784227, \"Top 20 % Deviation\": -0.5690191476712909, \"Bottom 20 % Deviation\": -0.7779658309947601}, {\"date\": \"2020-07-22T00:00:00+00:00\", \"Top 20 %\": 4.953251093532166, \"Bottom 20 %\": 4.508936850235233, \"Top 20 % Deviation\": -0.3209176552468179, \"Bottom 20 % Deviation\": -0.7652318985437536}, {\"date\": \"2020-07-23T00:00:00+00:00\", \"Top 20 %\": 4.827972860336302, \"Bottom 20 %\": 4.141301074200632, \"Top 20 % Deviation\": -0.44619588844268226, \"Bottom 20 % Deviation\": -1.1328676745783546}, {\"date\": \"2020-07-24T00:00:00+00:00\", \"Top 20 %\": 4.895025560510139, \"Bottom 20 %\": 4.501024741883225, \"Top 20 % Deviation\": -0.37914318826884513, \"Bottom 20 % Deviation\": -0.7731440068957618}, {\"date\": \"2020-07-25T00:00:00+00:00\", \"Top 20 %\": 4.809828886039092, \"Bottom 20 %\": 4.838221086537456, \"Top 20 % Deviation\": -0.46433986273989164, \"Bottom 20 % Deviation\": -0.43594766224153103}, {\"date\": \"2020-07-26T00:00:00+00:00\", \"Top 20 %\": 4.4730008408372655, \"Bottom 20 %\": 4.813243988247008, \"Top 20 % Deviation\": -0.8011679079417187, \"Bottom 20 % Deviation\": -0.46092476053197917}, {\"date\": \"2020-07-27T00:00:00+00:00\", \"Top 20 %\": 4.60039765798296, \"Bottom 20 %\": 4.9656058859022325, \"Top 20 % Deviation\": -0.6737710907960238, \"Bottom 20 % Deviation\": -0.30856286287675483}, {\"date\": \"2020-07-28T00:00:00+00:00\", \"Top 20 %\": 4.783652625045929, \"Bottom 20 %\": 4.941086731247514, \"Top 20 % Deviation\": -0.49051612373305503, \"Bottom 20 % Deviation\": -0.3330820175314723}, {\"date\": \"2020-07-29T00:00:00+00:00\", \"Top 20 %\": 4.893673741943583, \"Bottom 20 %\": 4.931529383469194, \"Top 20 % Deviation\": -0.38049500683540066, \"Bottom 20 % Deviation\": -0.34263936530979305}, {\"date\": \"2020-07-30T00:00:00+00:00\", \"Top 20 %\": 4.8494422098175995, \"Bottom 20 %\": 4.8264232863662695, \"Top 20 % Deviation\": -0.4247265389613844, \"Bottom 20 % Deviation\": -0.44774546241271673}, {\"date\": \"2020-07-31T00:00:00+00:00\", \"Top 20 %\": 4.679030100171657, \"Bottom 20 %\": 4.617410282106474, \"Top 20 % Deviation\": -0.5951386486073265, \"Bottom 20 % Deviation\": -0.6567584666725125}, {\"date\": \"2020-08-01T00:00:00+00:00\", \"Top 20 %\": 4.40667085001382, \"Bottom 20 %\": 4.53381695708286, \"Top 20 % Deviation\": -0.8674978987651627, \"Bottom 20 % Deviation\": -0.7403517916961267}, {\"date\": \"2020-08-02T00:00:00+00:00\", \"Top 20 %\": 4.453234311593342, \"Bottom 20 %\": 4.7465043184740505, \"Top 20 % Deviation\": -0.8209344371856411, \"Bottom 20 % Deviation\": -0.5276644303049354}, {\"date\": \"2020-08-03T00:00:00+00:00\", \"Top 20 %\": 4.480951636138975, \"Bottom 20 %\": 4.405576604663229, \"Top 20 % Deviation\": -0.7932171126400084, \"Bottom 20 % Deviation\": -0.8685921441157578}, {\"date\": \"2020-08-04T00:00:00+00:00\", \"Top 20 %\": 4.638339126267985, \"Bottom 20 %\": 4.260786786672794, \"Top 20 % Deviation\": -0.6358296225109996, \"Bottom 20 % Deviation\": -1.0133819621061924}, {\"date\": \"2020-08-05T00:00:00+00:00\", \"Top 20 %\": 4.814919739563242, \"Bottom 20 %\": 4.132846801095894, \"Top 20 % Deviation\": -0.4592490092157416, \"Bottom 20 % Deviation\": -1.1413219476830914}, {\"date\": \"2020-08-06T00:00:00+00:00\", \"Top 20 %\": 4.701209060473689, \"Bottom 20 %\": 3.9891580568563483, \"Top 20 % Deviation\": -0.5729596883052952, \"Bottom 20 % Deviation\": -1.285010691922637}, {\"date\": \"2020-08-07T00:00:00+00:00\", \"Top 20 %\": 4.620671967020281, \"Bottom 20 %\": 3.885325151389009, \"Top 20 % Deviation\": -0.6534967817587021, \"Bottom 20 % Deviation\": -1.3888435973899766}, {\"date\": \"2020-08-08T00:00:00+00:00\", \"Top 20 %\": 4.533760292767427, \"Bottom 20 %\": 3.9542914100895303, \"Top 20 % Deviation\": -0.7404084560115565, \"Bottom 20 % Deviation\": -1.3198773386894551}, {\"date\": \"2020-08-09T00:00:00+00:00\", \"Top 20 %\": 4.4165010373350695, \"Bottom 20 %\": 3.9467016119400133, \"Top 20 % Deviation\": -0.857667711443915, \"Bottom 20 % Deviation\": -1.3274671368389717}, {\"date\": \"2020-08-10T00:00:00+00:00\", \"Top 20 %\": 4.571454494638169, \"Bottom 20 %\": 4.016321155032982, \"Top 20 % Deviation\": -0.7027142541408165, \"Bottom 20 % Deviation\": -1.257847593746004}, {\"date\": \"2020-08-11T00:00:00+00:00\", \"Top 20 %\": 4.827451232170178, \"Bottom 20 %\": 4.005531485934928, \"Top 20 % Deviation\": -0.4467175166088069, \"Bottom 20 % Deviation\": -1.2686372628440572}, {\"date\": \"2020-08-12T00:00:00+00:00\", \"Top 20 %\": 4.827505775277785, \"Bottom 20 %\": 3.9271884446360223, \"Top 20 % Deviation\": -0.44666297350120016, \"Bottom 20 % Deviation\": -1.3469803041429627}, {\"date\": \"2020-08-13T00:00:00+00:00\", \"Top 20 %\": 4.9320910325460865, \"Bottom 20 %\": 4.220021273257667, \"Top 20 % Deviation\": -0.34207771623289807, \"Bottom 20 % Deviation\": -1.0541474755213183}, {\"date\": \"2020-08-14T00:00:00+00:00\", \"Top 20 %\": 5.037202694820843, \"Bottom 20 %\": 4.402951137248823, \"Top 20 % Deviation\": -0.23696605395814085, \"Bottom 20 % Deviation\": -0.8712176115301631}, {\"date\": \"2020-08-15T00:00:00+00:00\", \"Top 20 %\": 4.979871042337052, \"Bottom 20 %\": 4.682607900749533, \"Top 20 % Deviation\": -0.2942977064419322, \"Bottom 20 % Deviation\": -0.591560848029453}, {\"date\": \"2020-08-16T00:00:00+00:00\", \"Top 20 %\": 4.807430970275894, \"Bottom 20 %\": 4.854128800006407, \"Top 20 % Deviation\": -0.46673777850309006, \"Bottom 20 % Deviation\": -0.4200399487725795}, {\"date\": \"2020-08-17T00:00:00+00:00\", \"Top 20 %\": 4.903565249147118, \"Bottom 20 %\": 4.964778005148797, \"Top 20 % Deviation\": -0.37060349963186623, \"Bottom 20 % Deviation\": -0.3093907436301902}, {\"date\": \"2020-08-18T00:00:00+00:00\", \"Top 20 %\": 5.127835092160216, \"Bottom 20 %\": 4.998462935383751, \"Top 20 % Deviation\": -0.14633365661876865, \"Bottom 20 % Deviation\": -0.27570581339523625}, {\"date\": \"2020-08-19T00:00:00+00:00\", \"Top 20 %\": 5.321443113590876, \"Bottom 20 %\": 5.11335180199828, \"Top 20 % Deviation\": 0.04727436481189233, \"Bottom 20 % Deviation\": -0.16081694678070724}, {\"date\": \"2020-08-20T00:00:00+00:00\", \"Top 20 %\": 5.2395647511064265, \"Bottom 20 %\": 5.09711687896597, \"Top 20 % Deviation\": -0.034603997672556286, \"Bottom 20 % Deviation\": -0.17705186981301785}, {\"date\": \"2020-08-21T00:00:00+00:00\", \"Top 20 %\": 5.168115003672751, \"Bottom 20 %\": 5.309973500637454, \"Top 20 % Deviation\": -0.10605374510623236, \"Bottom 20 % Deviation\": 0.035804751858466724}, {\"date\": \"2020-08-22T00:00:00+00:00\", \"Top 20 %\": 5.052841410622479, \"Bottom 20 %\": 5.247117649338146, \"Top 20 % Deviation\": -0.2213273381565049, \"Bottom 20 % Deviation\": -0.027051099440841365}, {\"date\": \"2020-08-23T00:00:00+00:00\", \"Top 20 %\": 4.755437122442087, \"Bottom 20 %\": 5.0128603593358125, \"Top 20 % Deviation\": -0.5187316263368962, \"Bottom 20 % Deviation\": -0.26130838944317547}, {\"date\": \"2020-08-24T00:00:00+00:00\", \"Top 20 %\": 4.72380047873002, \"Bottom 20 %\": 4.922892352062034, \"Top 20 % Deviation\": -0.5503682700489636, \"Bottom 20 % Deviation\": -0.35127639671695343}, {\"date\": \"2020-08-25T00:00:00+00:00\", \"Top 20 %\": 4.799233121321661, \"Bottom 20 %\": 4.757114754683776, \"Top 20 % Deviation\": -0.47493562745732243, \"Bottom 20 % Deviation\": -0.5170539940952114}, {\"date\": \"2020-08-26T00:00:00+00:00\", \"Top 20 %\": 5.0543173715938225, \"Bottom 20 %\": 4.744617297812608, \"Top 20 % Deviation\": -0.21985137718516135, \"Bottom 20 % Deviation\": -0.5295514509663788}, {\"date\": \"2020-08-27T00:00:00+00:00\", \"Top 20 %\": 5.06211561186119, \"Bottom 20 %\": 4.79191284231875, \"Top 20 % Deviation\": -0.21205313691779373, \"Bottom 20 % Deviation\": -0.48225590646023697}, {\"date\": \"2020-08-28T00:00:00+00:00\", \"Top 20 %\": 4.979755604712959, \"Bottom 20 %\": 5.052110219683445, \"Top 20 % Deviation\": -0.2944131440660247, \"Bottom 20 % Deviation\": -0.22205852909554266}, {\"date\": \"2020-08-29T00:00:00+00:00\", \"Top 20 %\": 4.802188745444328, \"Bottom 20 %\": 4.995139869508778, \"Top 20 % Deviation\": -0.47198000333465623, \"Bottom 20 % Deviation\": -0.279028879270209}, {\"date\": \"2020-08-30T00:00:00+00:00\", \"Top 20 %\": 4.68018220140876, \"Bottom 20 %\": 5.041452768785763, \"Top 20 % Deviation\": -0.5939865473702226, \"Bottom 20 % Deviation\": -0.23271597999322435}, {\"date\": \"2020-08-31T00:00:00+00:00\", \"Top 20 %\": 4.811101680917654, \"Bottom 20 %\": 4.911086414184042, \"Top 20 % Deviation\": -0.463067067861329, \"Bottom 20 % Deviation\": -0.3630823345949452}, {\"date\": \"2020-09-01T00:00:00+00:00\", \"Top 20 %\": 4.966823355956117, \"Bottom 20 %\": 4.8531424821184945, \"Top 20 % Deviation\": -0.30734539282286655, \"Bottom 20 % Deviation\": -0.4210262666604926}, {\"date\": \"2020-09-02T00:00:00+00:00\", \"Top 20 %\": 5.092667748997926, \"Bottom 20 %\": 4.921723985102497, \"Top 20 % Deviation\": -0.1815009997810566, \"Bottom 20 % Deviation\": -0.3524447636764884}, {\"date\": \"2020-09-03T00:00:00+00:00\", \"Top 20 %\": 5.078656624293698, \"Bottom 20 %\": 4.6959110483712925, \"Top 20 % Deviation\": -0.19551212448528504, \"Bottom 20 % Deviation\": -0.5782577004076936}, {\"date\": \"2020-09-04T00:00:00+00:00\", \"Top 20 %\": 5.168930617568364, \"Bottom 20 %\": 4.735192392884659, \"Top 20 % Deviation\": -0.1052381312106189, \"Bottom 20 % Deviation\": -0.5389763558943272}, {\"date\": \"2020-09-05T00:00:00+00:00\", \"Top 20 %\": 4.977793852672998, \"Bottom 20 %\": 4.606238122543473, \"Top 20 % Deviation\": -0.29637489610598433, \"Bottom 20 % Deviation\": -0.667930626235513}, {\"date\": \"2020-09-06T00:00:00+00:00\", \"Top 20 %\": 4.7033412000456805, \"Bottom 20 %\": 4.35230370361491, \"Top 20 % Deviation\": -0.5708275487333022, \"Bottom 20 % Deviation\": -0.9218650451640759}, {\"date\": \"2020-09-07T00:00:00+00:00\", \"Top 20 %\": 4.572395446792738, \"Bottom 20 %\": 4.161294873968431, \"Top 20 % Deviation\": -0.7017733019862444, \"Bottom 20 % Deviation\": -1.1128738748105558}, {\"date\": \"2020-09-08T00:00:00+00:00\", \"Top 20 %\": 4.833018316887723, \"Bottom 20 %\": 4.163458181659482, \"Top 20 % Deviation\": -0.44115043189125946, \"Bottom 20 % Deviation\": -1.1107105671195048}, {\"date\": \"2020-09-09T00:00:00+00:00\", \"Top 20 %\": 5.034797810291466, \"Bottom 20 %\": 4.316250939865319, \"Top 20 % Deviation\": -0.23937093848751725, \"Bottom 20 % Deviation\": -0.9579178089136668}, {\"date\": \"2020-09-10T00:00:00+00:00\", \"Top 20 %\": 5.00642584897586, \"Bottom 20 %\": 4.456267908056284, \"Top 20 % Deviation\": -0.26774289980312277, \"Bottom 20 % Deviation\": -0.8179008407227026}, {\"date\": \"2020-09-11T00:00:00+00:00\", \"Top 20 %\": 4.9986009888256175, \"Bottom 20 %\": 4.44485108379383, \"Top 20 % Deviation\": -0.27556775995336513, \"Bottom 20 % Deviation\": -0.8293176649851552}, {\"date\": \"2020-09-12T00:00:00+00:00\", \"Top 20 %\": 4.89743270219781, \"Bottom 20 %\": 4.368646034991836, \"Top 20 % Deviation\": -0.3767360465811729, \"Bottom 20 % Deviation\": -0.9055227137871498}, {\"date\": \"2020-09-13T00:00:00+00:00\", \"Top 20 %\": 4.6354005466400965, \"Bottom 20 %\": 4.426432524451311, \"Top 20 % Deviation\": -0.6387682021388874, \"Bottom 20 % Deviation\": -0.8477362243276749}, {\"date\": \"2020-09-14T00:00:00+00:00\", \"Top 20 %\": 4.594773771507506, \"Bottom 20 %\": 4.351726812101708, \"Top 20 % Deviation\": -0.6793949772714782, \"Bottom 20 % Deviation\": -0.9224419366772778}, {\"date\": \"2020-09-15T00:00:00+00:00\", \"Top 20 %\": 4.943682256515454, \"Bottom 20 %\": 4.703833290015788, \"Top 20 % Deviation\": -0.3304864922635295, \"Bottom 20 % Deviation\": -0.5703354587631985}, {\"date\": \"2020-09-16T00:00:00+00:00\", \"Top 20 %\": 5.280480060671069, \"Bottom 20 %\": 4.899681039073824, \"Top 20 % Deviation\": 0.006311311892085047, \"Bottom 20 % Deviation\": -0.3744877097051619}, {\"date\": \"2020-09-17T00:00:00+00:00\", \"Top 20 %\": 5.516254866878469, \"Bottom 20 %\": 4.972178123829472, \"Top 20 % Deviation\": 0.2420861180994857, \"Bottom 20 % Deviation\": -0.30199062494951295}, {\"date\": \"2020-09-18T00:00:00+00:00\", \"Top 20 %\": 5.5122897020104595, \"Bottom 20 %\": 4.993176102165924, \"Top 20 % Deviation\": 0.2381209532314755, \"Bottom 20 % Deviation\": -0.28099264661306156}, {\"date\": \"2020-09-19T00:00:00+00:00\", \"Top 20 %\": 5.321368475205347, \"Bottom 20 %\": 5.0046462948112245, \"Top 20 % Deviation\": 0.04719972642636296, \"Bottom 20 % Deviation\": -0.2695224539677611}, {\"date\": \"2020-09-20T00:00:00+00:00\", \"Top 20 %\": 5.078175974173876, \"Bottom 20 %\": 4.885015177335566, \"Top 20 % Deviation\": -0.19599277460510808, \"Bottom 20 % Deviation\": -0.38915357144341917}, {\"date\": \"2020-09-21T00:00:00+00:00\", \"Top 20 %\": 5.160480596402024, \"Bottom 20 %\": 5.050264778412254, \"Top 20 % Deviation\": -0.11368815237695858, \"Bottom 20 % Deviation\": -0.2239039703667308}, {\"date\": \"2020-09-22T00:00:00+00:00\", \"Top 20 %\": 5.3704323905873235, \"Bottom 20 %\": 5.305183929030533, \"Top 20 % Deviation\": 0.0962636418083409, \"Bottom 20 % Deviation\": 0.03101518025154846}, {\"date\": \"2020-09-23T00:00:00+00:00\", \"Top 20 %\": 5.59652714728801, \"Bottom 20 %\": 5.557824678623146, \"Top 20 % Deviation\": 0.32235839850902775, \"Bottom 20 % Deviation\": 0.28365592984416155}, {\"date\": \"2020-09-24T00:00:00+00:00\", \"Top 20 %\": 5.6819521602573255, \"Bottom 20 %\": 5.792207963031326, \"Top 20 % Deviation\": 0.4077834114783429, \"Bottom 20 % Deviation\": 0.5180392142523418}, {\"date\": \"2020-09-25T00:00:00+00:00\", \"Top 20 %\": 5.465366748201559, \"Bottom 20 %\": 5.488621066812137, \"Top 20 % Deviation\": 0.19119799942257662, \"Bottom 20 % Deviation\": 0.21445231803315262}, {\"date\": \"2020-09-26T00:00:00+00:00\", \"Top 20 %\": 5.313593158198864, \"Bottom 20 %\": 6.188434698494355, \"Top 20 % Deviation\": 0.03942440941988057, \"Bottom 20 % Deviation\": 0.9142659497153698}, {\"date\": \"2020-09-27T00:00:00+00:00\", \"Top 20 %\": 5.062704258714519, \"Bottom 20 %\": 6.052586999675567, \"Top 20 % Deviation\": -0.21146449006446405, \"Bottom 20 % Deviation\": 0.7784182508965813}, {\"date\": \"2020-09-28T00:00:00+00:00\", \"Top 20 %\": 5.003969299231746, \"Bottom 20 %\": 6.084784920799382, \"Top 20 % Deviation\": -0.2701994495472376, \"Bottom 20 % Deviation\": 0.8106161720203972}, {\"date\": \"2020-09-29T00:00:00+00:00\", \"Top 20 %\": 5.249004850804476, \"Bottom 20 %\": 6.007141628326961, \"Top 20 % Deviation\": -0.025163897974507556, \"Bottom 20 % Deviation\": 0.7329728795479767}, {\"date\": \"2020-09-30T00:00:00+00:00\", \"Top 20 %\": 5.6558026074478756, \"Bottom 20 %\": 6.065814501234699, \"Top 20 % Deviation\": 0.38163385866889193, \"Bottom 20 % Deviation\": 0.7916457524557138}, {\"date\": \"2020-10-01T00:00:00+00:00\", \"Top 20 %\": 5.657084136792316, \"Bottom 20 %\": 5.93269277883198, \"Top 20 % Deviation\": 0.382915388013333, \"Bottom 20 % Deviation\": 0.6585240300529938}, {\"date\": \"2020-10-02T00:00:00+00:00\", \"Top 20 %\": 5.614672966974735, \"Bottom 20 %\": 5.705347723531812, \"Top 20 % Deviation\": 0.3405042181957515, \"Bottom 20 % Deviation\": 0.4311789747528265}, {\"date\": \"2020-10-03T00:00:00+00:00\", \"Top 20 %\": 5.366613565738975, \"Bottom 20 %\": 5.446425929181887, \"Top 20 % Deviation\": 0.09244481695999167, \"Bottom 20 % Deviation\": 0.17225718040290042}, {\"date\": \"2020-10-04T00:00:00+00:00\", \"Top 20 %\": 5.036088674306475, \"Bottom 20 %\": 5.108349317005559, \"Top 20 % Deviation\": -0.238080074472508, \"Bottom 20 % Deviation\": -0.1658194317734266}, {\"date\": \"2020-10-05T00:00:00+00:00\", \"Top 20 %\": 5.071116088003627, \"Bottom 20 %\": 5.061799189531164, \"Top 20 % Deviation\": -0.20305266077535652, \"Bottom 20 % Deviation\": -0.2123695592478211}, {\"date\": \"2020-10-06T00:00:00+00:00\", \"Top 20 %\": 5.149608979365942, \"Bottom 20 %\": 4.246327086873886, \"Top 20 % Deviation\": -0.12455976941304123, \"Bottom 20 % Deviation\": -1.027841661905099}, {\"date\": \"2020-10-07T00:00:00+00:00\", \"Top 20 %\": 5.322862021426273, \"Bottom 20 %\": 4.141056228805672, \"Top 20 % Deviation\": 0.04869327264729062, \"Bottom 20 % Deviation\": -1.1331125199733125}, {\"date\": \"2020-10-08T00:00:00+00:00\", \"Top 20 %\": 5.3429849365894, \"Bottom 20 %\": 4.049982431138756, \"Top 20 % Deviation\": 0.06881618781041779, \"Bottom 20 % Deviation\": -1.224186317640229}, {\"date\": \"2020-10-09T00:00:00+00:00\", \"Top 20 %\": 5.277181318194215, \"Bottom 20 %\": 3.863478649449494, \"Top 20 % Deviation\": 0.0030125694152323135, \"Bottom 20 % Deviation\": -1.4106900993294906}, {\"date\": \"2020-10-10T00:00:00+00:00\", \"Top 20 %\": 4.854032970991425, \"Bottom 20 %\": 3.6423149827113703, \"Top 20 % Deviation\": -0.4201357777875566, \"Bottom 20 % Deviation\": -1.6318537660676136}, {\"date\": \"2020-10-11T00:00:00+00:00\", \"Top 20 %\": 4.6215074427836695, \"Bottom 20 %\": 3.6157303495512174, \"Top 20 % Deviation\": -0.652661305995312, \"Bottom 20 % Deviation\": -1.658438399227767}, {\"date\": \"2020-10-12T00:00:00+00:00\", \"Top 20 %\": 4.58144166424281, \"Bottom 20 %\": 3.603585329231973, \"Top 20 % Deviation\": -0.6927270845361723, \"Bottom 20 % Deviation\": -1.670583419547011}, {\"date\": \"2020-10-13T00:00:00+00:00\", \"Top 20 %\": 4.850335313704319, \"Bottom 20 %\": 3.5654827852066595, \"Top 20 % Deviation\": -0.42383343507466353, \"Bottom 20 % Deviation\": -1.7086859635723246}, {\"date\": \"2020-10-14T00:00:00+00:00\", \"Top 20 %\": 5.214259302750309, \"Bottom 20 %\": 3.782684503211499, \"Top 20 % Deviation\": -0.05990944602867385, \"Bottom 20 % Deviation\": -1.4914842455674855}, {\"date\": \"2020-10-15T00:00:00+00:00\", \"Top 20 %\": 5.22162196177831, \"Bottom 20 %\": 3.7978432810135607, \"Top 20 % Deviation\": -0.05254678700067261, \"Bottom 20 % Deviation\": -1.4763254677654238}, {\"date\": \"2020-10-16T00:00:00+00:00\", \"Top 20 %\": 5.208275289426078, \"Bottom 20 %\": 3.7593089480935555, \"Top 20 % Deviation\": -0.06589345935290573, \"Bottom 20 % Deviation\": -1.514859800685429}, {\"date\": \"2020-10-17T00:00:00+00:00\", \"Top 20 %\": 5.080653487419578, \"Bottom 20 %\": 3.9284824067171242, \"Top 20 % Deviation\": -0.19351526135940525, \"Bottom 20 % Deviation\": -1.3456863420618597}, {\"date\": \"2020-10-18T00:00:00+00:00\", \"Top 20 %\": 4.837874131268286, \"Bottom 20 %\": 3.9928808185767592, \"Top 20 % Deviation\": -0.4362946175106977, \"Bottom 20 % Deviation\": -1.2812879302022249}, {\"date\": \"2020-10-19T00:00:00+00:00\", \"Top 20 %\": 4.76208006604254, \"Bottom 20 %\": 4.154010311733516, \"Top 20 % Deviation\": -0.5120886827364438, \"Bottom 20 % Deviation\": -1.1201584370454682}, {\"date\": \"2020-10-20T00:00:00+00:00\", \"Top 20 %\": 4.976618840982575, \"Bottom 20 %\": 4.167395576450124, \"Top 20 % Deviation\": -0.29754990779640855, \"Bottom 20 % Deviation\": -1.1067731723288599}, {\"date\": \"2020-10-21T00:00:00+00:00\", \"Top 20 %\": 5.267442410488337, \"Bottom 20 %\": 4.308625197502611, \"Top 20 % Deviation\": -0.006726338290646794, \"Bottom 20 % Deviation\": -0.965543551276373}, {\"date\": \"2020-10-22T00:00:00+00:00\", \"Top 20 %\": 5.507634323844693, \"Bottom 20 %\": 4.443420687042824, \"Top 20 % Deviation\": 0.23346557506571006, \"Bottom 20 % Deviation\": -0.8307480617361602}, {\"date\": \"2020-10-23T00:00:00+00:00\", \"Top 20 %\": 5.422044951142966, \"Bottom 20 %\": 4.492447589861942, \"Top 20 % Deviation\": 0.1478762023639824, \"Bottom 20 % Deviation\": -0.7817211589170421}, {\"date\": \"2020-10-24T00:00:00+00:00\", \"Top 20 %\": 5.102730338466332, \"Bottom 20 %\": 4.28209777448924, \"Top 20 % Deviation\": -0.17143841031265175, \"Bottom 20 % Deviation\": -0.992070974289744}, {\"date\": \"2020-10-25T00:00:00+00:00\", \"Top 20 %\": 4.911335588677821, \"Bottom 20 %\": 4.600189477282831, \"Top 20 % Deviation\": -0.3628331601011616, \"Bottom 20 % Deviation\": -0.6739792714961522}, {\"date\": \"2020-10-26T00:00:00+00:00\", \"Top 20 %\": 4.975210259142045, \"Bottom 20 %\": 4.757456013165081, \"Top 20 % Deviation\": -0.2989584896369376, \"Bottom 20 % Deviation\": -0.5167127356139035}, {\"date\": \"2020-10-27T00:00:00+00:00\", \"Top 20 %\": 5.265083457368773, \"Bottom 20 %\": 5.027676893404726, \"Top 20 % Deviation\": -0.009085291410209839, \"Bottom 20 % Deviation\": -0.2464918553742587}, {\"date\": \"2020-10-28T00:00:00+00:00\", \"Top 20 %\": 5.589856320072922, \"Bottom 20 %\": 4.9629966790388655, \"Top 20 % Deviation\": 0.31568757129393926, \"Bottom 20 % Deviation\": -0.3111720697401186}, {\"date\": \"2020-10-29T00:00:00+00:00\", \"Top 20 %\": 5.610694891408668, \"Bottom 20 %\": 4.827131476009541, \"Top 20 % Deviation\": 0.3365261426296854, \"Bottom 20 % Deviation\": -0.4470372727694435}, {\"date\": \"2020-10-30T00:00:00+00:00\", \"Top 20 %\": 5.552233566819956, \"Bottom 20 %\": 4.826649954326166, \"Top 20 % Deviation\": 0.2780648180409727, \"Bottom 20 % Deviation\": -0.4475187944528175}, {\"date\": \"2020-10-31T00:00:00+00:00\", \"Top 20 %\": 5.273145114100915, \"Bottom 20 %\": 4.730580019783746, \"Top 20 % Deviation\": -0.00102363467806752, \"Bottom 20 % Deviation\": -0.5435887289952378}, {\"date\": \"2020-11-01T00:00:00+00:00\", \"Top 20 %\": 5.143307822530458, \"Bottom 20 %\": 4.984840375711168, \"Top 20 % Deviation\": -0.1308609262485234, \"Bottom 20 % Deviation\": -0.2893283730678153}, {\"date\": \"2020-11-02T00:00:00+00:00\", \"Top 20 %\": 5.199385647232965, \"Bottom 20 %\": 4.987020084557672, \"Top 20 % Deviation\": -0.0747831015460159, \"Bottom 20 % Deviation\": -0.2871486642213118}, {\"date\": \"2020-11-03T00:00:00+00:00\", \"Top 20 %\": 5.345865185689274, \"Bottom 20 %\": 5.057988326638132, \"Top 20 % Deviation\": 0.07169643691029237, \"Bottom 20 % Deviation\": -0.21618042214085245}, {\"date\": \"2020-11-04T00:00:00+00:00\", \"Top 20 %\": 5.529674462412656, \"Bottom 20 %\": 4.665801602565596, \"Top 20 % Deviation\": 0.25550571363367525, \"Bottom 20 % Deviation\": -0.6083671462133892}, {\"date\": \"2020-11-05T00:00:00+00:00\", \"Top 20 %\": 5.480780387239305, \"Bottom 20 %\": 4.538064991071925, \"Top 20 % Deviation\": 0.20661163846032368, \"Bottom 20 % Deviation\": -0.7361037577070595}, {\"date\": \"2020-11-06T00:00:00+00:00\", \"Top 20 %\": 5.264276116363206, \"Bottom 20 %\": 4.124159420593871, \"Top 20 % Deviation\": -0.009892632415775048, \"Bottom 20 % Deviation\": -1.150009328185114}, {\"date\": \"2020-11-07T00:00:00+00:00\", \"Top 20 %\": 5.0133454005033995, \"Bottom 20 %\": 4.244359401155536, \"Top 20 % Deviation\": -0.2608233482755816, \"Bottom 20 % Deviation\": -1.0298093476234491}, {\"date\": \"2020-11-08T00:00:00+00:00\", \"Top 20 %\": 4.768847950595049, \"Bottom 20 %\": 4.121637966719314, \"Top 20 % Deviation\": -0.5053207981839327, \"Bottom 20 % Deviation\": -1.1525307820596709}, {\"date\": \"2020-11-09T00:00:00+00:00\", \"Top 20 %\": 4.953947207917949, \"Bottom 20 %\": 4.171797878294564, \"Top 20 % Deviation\": -0.32022154086103305, \"Bottom 20 % Deviation\": -1.1023708704844206}, {\"date\": \"2020-11-10T00:00:00+00:00\", \"Top 20 %\": 5.245250914255257, \"Bottom 20 %\": 4.215858795395745, \"Top 20 % Deviation\": -0.028917834523725938, \"Bottom 20 % Deviation\": -1.0583099533832403}, {\"date\": \"2020-11-11T00:00:00+00:00\", \"Top 20 %\": 5.09810622757036, \"Bottom 20 %\": 3.755418566348594, \"Top 20 % Deviation\": -0.17606252120862256, \"Bottom 20 % Deviation\": -1.5187501824303908}, {\"date\": \"2020-11-12T00:00:00+00:00\", \"Top 20 %\": 5.140313174036768, \"Bottom 20 %\": 3.8304420927294736, \"Top 20 % Deviation\": -0.13385557474221438, \"Bottom 20 % Deviation\": -1.4437266560495108}, {\"date\": \"2020-11-13T00:00:00+00:00\", \"Top 20 %\": 5.245649065957759, \"Bottom 20 %\": 4.122485895856382, \"Top 20 % Deviation\": -0.028519682821223878, \"Bottom 20 % Deviation\": -1.1516828529226022}, {\"date\": \"2020-11-14T00:00:00+00:00\", \"Top 20 %\": 5.008948627576759, \"Bottom 20 %\": 4.064210571507042, \"Top 20 % Deviation\": -0.26522012120222394, \"Bottom 20 % Deviation\": -1.2099581772719417}, {\"date\": \"2020-11-15T00:00:00+00:00\", \"Top 20 %\": 4.794218305557076, \"Bottom 20 %\": 4.0537874415469215, \"Top 20 % Deviation\": -0.4799504432219067, \"Bottom 20 % Deviation\": -1.2203813072320622}, {\"date\": \"2020-11-16T00:00:00+00:00\", \"Top 20 %\": 5.010971864488511, \"Bottom 20 %\": 4.182607264809151, \"Top 20 % Deviation\": -0.2631968842904732, \"Bottom 20 % Deviation\": -1.091561483969833}, {\"date\": \"2020-11-17T00:00:00+00:00\", \"Top 20 %\": 5.178365327750269, \"Bottom 20 %\": 4.008906799652484, \"Top 20 % Deviation\": -0.09580342102871509, \"Bottom 20 % Deviation\": -1.2652619491264985}, {\"date\": \"2020-11-18T00:00:00+00:00\", \"Top 20 %\": 5.413605554361455, \"Bottom 20 %\": 4.008023897057492, \"Top 20 % Deviation\": 0.13943680558247135, \"Bottom 20 % Deviation\": -1.2661448517214917}, {\"date\": \"2020-11-19T00:00:00+00:00\", \"Top 20 %\": 5.302884562388124, \"Bottom 20 %\": 4.028078114529193, \"Top 20 % Deviation\": 0.02871581360914006, \"Bottom 20 % Deviation\": -1.24609063424979}, {\"date\": \"2020-11-20T00:00:00+00:00\", \"Top 20 %\": 5.249024380125417, \"Bottom 20 %\": 3.986404303620779, \"Top 20 % Deviation\": -0.025144368653566528, \"Bottom 20 % Deviation\": -1.2877644451582042}, {\"date\": \"2020-11-21T00:00:00+00:00\", \"Top 20 %\": 5.2660422660138, \"Bottom 20 %\": 4.127989338323581, \"Top 20 % Deviation\": -0.008126482765183818, \"Bottom 20 % Deviation\": -1.1461794104554028}, {\"date\": \"2020-11-22T00:00:00+00:00\", \"Top 20 %\": 4.958654069411784, \"Bottom 20 %\": 4.020809743809586, \"Top 20 % Deviation\": -0.3155146793671997, \"Bottom 20 % Deviation\": -1.2533590049693974}, {\"date\": \"2020-11-23T00:00:00+00:00\", \"Top 20 %\": 4.843934591548858, \"Bottom 20 %\": 3.6750761182251304, \"Top 20 % Deviation\": -0.43023415723012526, \"Bottom 20 % Deviation\": -1.5990926305538538}, {\"date\": \"2020-11-24T00:00:00+00:00\", \"Top 20 %\": 5.022303848242507, \"Bottom 20 %\": 3.6365648262886365, \"Top 20 % Deviation\": -0.2518649005364754, \"Bottom 20 % Deviation\": -1.6376039224903476}, {\"date\": \"2020-11-25T00:00:00+00:00\", \"Top 20 %\": 5.182629748506515, \"Bottom 20 %\": 3.5785383301603475, \"Top 20 % Deviation\": -0.09153900027246772, \"Bottom 20 % Deviation\": -1.6956304186186362}, {\"date\": \"2020-11-26T00:00:00+00:00\", \"Top 20 %\": 4.849386055064359, \"Bottom 20 %\": 3.5405757559107527, \"Top 20 % Deviation\": -0.4247826937146229, \"Bottom 20 % Deviation\": -1.7335929928682305}, {\"date\": \"2020-11-27T00:00:00+00:00\", \"Top 20 %\": 4.652358570478163, \"Bottom 20 %\": 3.6132434470274197, \"Top 20 % Deviation\": -0.6218101783008193, \"Bottom 20 % Deviation\": -1.660925301751563}, {\"date\": \"2020-11-28T00:00:00+00:00\", \"Top 20 %\": 4.471655412422244, \"Bottom 20 %\": 3.7518789917684074, \"Top 20 % Deviation\": -0.8025133363567383, \"Bottom 20 % Deviation\": -1.522289757010576}, {\"date\": \"2020-11-29T00:00:00+00:00\", \"Top 20 %\": 4.257648816731345, \"Bottom 20 %\": 3.737409690969918, \"Top 20 % Deviation\": -1.0165199320476366, \"Bottom 20 % Deviation\": -1.5367590578090653}, {\"date\": \"2020-11-30T00:00:00+00:00\", \"Top 20 %\": 4.179984598883459, \"Bottom 20 %\": 3.65049674830072, \"Top 20 % Deviation\": -1.0941841498955234, \"Bottom 20 % Deviation\": -1.6236720004782632}, {\"date\": \"2020-12-01T00:00:00+00:00\", \"Top 20 %\": 4.265332029971843, \"Bottom 20 %\": 3.5350887362646986, \"Top 20 % Deviation\": -1.008836718807139, \"Bottom 20 % Deviation\": -1.7390800125142842}, {\"date\": \"2020-12-02T00:00:00+00:00\", \"Top 20 %\": 4.486920418457851, \"Bottom 20 %\": 3.5203265476483323, \"Top 20 % Deviation\": -0.7872483303211315, \"Bottom 20 % Deviation\": -1.7538422011306505}, {\"date\": \"2020-12-03T00:00:00+00:00\", \"Top 20 %\": 4.60234460343365, \"Bottom 20 %\": 3.480597148904714, \"Top 20 % Deviation\": -0.671824145345332, \"Bottom 20 % Deviation\": -1.7935715998742687}, {\"date\": \"2020-12-04T00:00:00+00:00\", \"Top 20 %\": 4.5873796125285695, \"Bottom 20 %\": 3.61644921812132, \"Top 20 % Deviation\": -0.6867891362504126, \"Bottom 20 % Deviation\": -1.6577195306576624}, {\"date\": \"2020-12-05T00:00:00+00:00\", \"Top 20 %\": 4.404259081731124, \"Bottom 20 %\": 3.6248632291003355, \"Top 20 % Deviation\": -0.8699096670478585, \"Bottom 20 % Deviation\": -1.6493055196786475}, {\"date\": \"2020-12-06T00:00:00+00:00\", \"Top 20 %\": 4.336035134459506, \"Bottom 20 %\": 3.483953694639664, \"Top 20 % Deviation\": -0.9381336143194765, \"Bottom 20 % Deviation\": -1.7902150541393187}, {\"date\": \"2020-12-07T00:00:00+00:00\", \"Top 20 %\": 4.5205452492368545, \"Bottom 20 %\": 3.460882350850892, \"Top 20 % Deviation\": -0.7536234995421276, \"Bottom 20 % Deviation\": -1.8132863979280913}, {\"date\": \"2020-12-08T00:00:00+00:00\", \"Top 20 %\": 4.669670921266862, \"Bottom 20 %\": 3.369651804475491, \"Top 20 % Deviation\": -0.6044978275121196, \"Bottom 20 % Deviation\": -1.9045169443034922}, {\"date\": \"2020-12-09T00:00:00+00:00\", \"Top 20 %\": 4.925335306835233, \"Bottom 20 %\": 3.4029484406476627, \"Top 20 % Deviation\": -0.3488334419437487, \"Bottom 20 % Deviation\": -1.871220308131321}, {\"date\": \"2020-12-10T00:00:00+00:00\", \"Top 20 %\": 4.950023840829476, \"Bottom 20 %\": 3.4627924004221753, \"Top 20 % Deviation\": -0.32414490794950573, \"Bottom 20 % Deviation\": -1.8113763483568086}, {\"date\": \"2020-12-11T00:00:00+00:00\", \"Top 20 %\": 4.951969068874054, \"Bottom 20 %\": 3.4068388742483386, \"Top 20 % Deviation\": -0.32219967990492815, \"Bottom 20 % Deviation\": -1.8673298745306455}, {\"date\": \"2020-12-12T00:00:00+00:00\", \"Top 20 %\": 4.871911022227204, \"Bottom 20 %\": 3.6523502133555397, \"Top 20 % Deviation\": -0.40225772655177794, \"Bottom 20 % Deviation\": -1.6218185354234447}, {\"date\": \"2020-12-13T00:00:00+00:00\", \"Top 20 %\": 4.667043812690684, \"Bottom 20 %\": 3.6993781845974034, \"Top 20 % Deviation\": -0.6071249360882984, \"Bottom 20 % Deviation\": -1.5747905641815816}, {\"date\": \"2020-12-14T00:00:00+00:00\", \"Top 20 %\": 4.738431151230719, \"Bottom 20 %\": 3.6366938617749014, \"Top 20 % Deviation\": -0.5357375975482636, \"Bottom 20 % Deviation\": -1.637474887004084}, {\"date\": \"2020-12-15T00:00:00+00:00\", \"Top 20 %\": 4.891376821110596, \"Bottom 20 %\": 3.6142974922234656, \"Top 20 % Deviation\": -0.38279192766838643, \"Bottom 20 % Deviation\": -1.659871256555519}, {\"date\": \"2020-12-16T00:00:00+00:00\", \"Top 20 %\": 5.12694683188674, \"Bottom 20 %\": 3.676739344996998, \"Top 20 % Deviation\": -0.14722191689224168, \"Bottom 20 % Deviation\": -1.5974294037819867}, {\"date\": \"2020-12-17T00:00:00+00:00\", \"Top 20 %\": 5.144804693134721, \"Bottom 20 %\": 3.789206231774821, \"Top 20 % Deviation\": -0.12936405564426107, \"Bottom 20 % Deviation\": -1.484962517004163}, {\"date\": \"2020-12-18T00:00:00+00:00\", \"Top 20 %\": 5.087017630969757, \"Bottom 20 %\": 3.838999363322629, \"Top 20 % Deviation\": -0.18715111780922453, \"Bottom 20 % Deviation\": -1.435169385456355}, {\"date\": \"2020-12-19T00:00:00+00:00\", \"Top 20 %\": 4.821329861825465, \"Bottom 20 %\": 3.822964821232854, \"Top 20 % Deviation\": -0.45283888695351654, \"Bottom 20 % Deviation\": -1.4512039275461297}, {\"date\": \"2020-12-20T00:00:00+00:00\", \"Top 20 %\": 4.576695796828155, \"Bottom 20 %\": 3.9151708902840143, \"Top 20 % Deviation\": -0.6974729519508256, \"Bottom 20 % Deviation\": -1.3589978584949698}, {\"date\": \"2020-12-21T00:00:00+00:00\", \"Top 20 %\": 4.432631793943719, \"Bottom 20 %\": 3.925438290906294, \"Top 20 % Deviation\": -0.8415369548352615, \"Bottom 20 % Deviation\": -1.3487304578726902}, {\"date\": \"2020-12-22T00:00:00+00:00\", \"Top 20 %\": 4.494831129603037, \"Bottom 20 %\": 3.6416811457511544, \"Top 20 % Deviation\": -0.7793376191759436, \"Bottom 20 % Deviation\": -1.6324876030278301}, {\"date\": \"2020-12-23T00:00:00+00:00\", \"Top 20 %\": 4.5713871057038595, \"Bottom 20 %\": 3.623579004362976, \"Top 20 % Deviation\": -0.7027816430751217, \"Bottom 20 % Deviation\": -1.6505897444160074}, {\"date\": \"2020-12-24T00:00:00+00:00\", \"Top 20 %\": 4.381423907542679, \"Bottom 20 %\": 3.620816481087739, \"Top 20 % Deviation\": -0.892744841236302, \"Bottom 20 % Deviation\": -1.6533522676912447}, {\"date\": \"2020-12-25T00:00:00+00:00\", \"Top 20 %\": 4.217671680296485, \"Bottom 20 %\": 3.6424261885507256, \"Top 20 % Deviation\": -1.0564970684824968, \"Bottom 20 % Deviation\": -1.6317425602282587}, {\"date\": \"2020-12-26T00:00:00+00:00\", \"Top 20 %\": 4.156191214614588, \"Bottom 20 %\": 3.581900217506707, \"Top 20 % Deviation\": -1.1179775341643938, \"Bottom 20 % Deviation\": -1.6922685312722774}, {\"date\": \"2020-12-27T00:00:00+00:00\", \"Top 20 %\": 3.897292314640795, \"Bottom 20 %\": 3.5686282186570906, \"Top 20 % Deviation\": -1.3768764341381867, \"Bottom 20 % Deviation\": -1.7055405301218929}, {\"date\": \"2020-12-28T00:00:00+00:00\", \"Top 20 %\": 4.031612947586427, \"Bottom 20 %\": 3.5895847626686206, \"Top 20 % Deviation\": -1.2425558011925548, \"Bottom 20 % Deviation\": -1.6845839861103638}, {\"date\": \"2020-12-29T00:00:00+00:00\", \"Top 20 %\": 4.096541216100403, \"Bottom 20 %\": 3.5811182187403703, \"Top 20 % Deviation\": -1.1776275326785797, \"Bottom 20 % Deviation\": -1.693050530038614}, {\"date\": \"2020-12-30T00:00:00+00:00\", \"Top 20 %\": 4.205553685438479, \"Bottom 20 %\": 3.597948191088045, \"Top 20 % Deviation\": -1.068615063340502, \"Bottom 20 % Deviation\": -1.6762205576909395}, {\"date\": \"2020-12-31T00:00:00+00:00\", \"Top 20 %\": 4.11892524897791, \"Bottom 20 %\": 3.6264355559061974, \"Top 20 % Deviation\": -1.155243499801072, \"Bottom 20 % Deviation\": -1.6477331928727867}]}}, {\"mode\": \"vega-lite\"});\n",
              "</script>"
            ]
          },
          "metadata": {
            "tags": []
          },
          "execution_count": 84
        },
        {
          "output_type": "stream",
          "text": [
            "time: 98.3 ms (started: 2021-05-03 17:48:30 +00:00)\n"
          ],
          "name": "stdout"
        }
      ]
    },
    {
      "cell_type": "code",
      "metadata": {
        "colab": {
          "base_uri": "https://localhost:8080/"
        },
        "id": "owhSJQqe7rVM",
        "outputId": "27864cf4-7d99-43a7-f136-15e4e2d1bfd2"
      },
      "source": [
        "#Conversion of datetime format\n",
        "df['date'] = pd.to_datetime(df['date'],utc= True)\n"
      ],
      "execution_count": 85,
      "outputs": [
        {
          "output_type": "stream",
          "text": [
            "time: 9.44 ms (started: 2021-05-03 17:48:30 +00:00)\n"
          ],
          "name": "stdout"
        }
      ]
    },
    {
      "cell_type": "markdown",
      "metadata": {
        "id": "yCVL0_NiBLU0"
      },
      "source": [
        "Filtering based on important dates\n",
        "\n",
        "\n",
        "\n",
        "*   Thursday, March 19, 2020: Statewide Stay-at-Home Order Issued\n",
        "\n",
        "\n",
        "\n",
        "\n",
        "\n",
        "\n",
        "\n",
        "\n",
        "\n"
      ]
    },
    {
      "cell_type": "code",
      "metadata": {
        "colab": {
          "base_uri": "https://localhost:8080/",
          "height": 386
        },
        "id": "gelkUE5NBJps",
        "outputId": "2b5be33c-33ba-4a9d-947d-605bc4ea56b1"
      },
      "source": [
        "start_date = '2020-3-16'\n",
        "end_date = '2020-4-9'\n",
        "df1 = apply_date_filter(df,start_date,end_date)\n",
        "chart = create_chart(df1,'March-April')\n",
        "chart"
      ],
      "execution_count": 86,
      "outputs": [
        {
          "output_type": "execute_result",
          "data": {
            "text/plain": [
              "alt.LayerChart(...)"
            ],
            "text/html": [
              "\n",
              "<div id=\"altair-viz-a88ff96c666643319d63c47049357ad7\"></div>\n",
              "<script type=\"text/javascript\">\n",
              "  (function(spec, embedOpt){\n",
              "    let outputDiv = document.currentScript.previousElementSibling;\n",
              "    if (outputDiv.id !== \"altair-viz-a88ff96c666643319d63c47049357ad7\") {\n",
              "      outputDiv = document.getElementById(\"altair-viz-a88ff96c666643319d63c47049357ad7\");\n",
              "    }\n",
              "    const paths = {\n",
              "      \"vega\": \"https://cdn.jsdelivr.net/npm//vega@5?noext\",\n",
              "      \"vega-lib\": \"https://cdn.jsdelivr.net/npm//vega-lib?noext\",\n",
              "      \"vega-lite\": \"https://cdn.jsdelivr.net/npm//vega-lite@4.8.1?noext\",\n",
              "      \"vega-embed\": \"https://cdn.jsdelivr.net/npm//vega-embed@6?noext\",\n",
              "    };\n",
              "\n",
              "    function loadScript(lib) {\n",
              "      return new Promise(function(resolve, reject) {\n",
              "        var s = document.createElement('script');\n",
              "        s.src = paths[lib];\n",
              "        s.async = true;\n",
              "        s.onload = () => resolve(paths[lib]);\n",
              "        s.onerror = () => reject(`Error loading script: ${paths[lib]}`);\n",
              "        document.getElementsByTagName(\"head\")[0].appendChild(s);\n",
              "      });\n",
              "    }\n",
              "\n",
              "    function showError(err) {\n",
              "      outputDiv.innerHTML = `<div class=\"error\" style=\"color:red;\">${err}</div>`;\n",
              "      throw err;\n",
              "    }\n",
              "\n",
              "    function displayChart(vegaEmbed) {\n",
              "      vegaEmbed(outputDiv, spec, embedOpt)\n",
              "        .catch(err => showError(`Javascript Error: ${err.message}<br>This usually means there's a typo in your chart specification. See the javascript console for the full traceback.`));\n",
              "    }\n",
              "\n",
              "    if(typeof define === \"function\" && define.amd) {\n",
              "      requirejs.config({paths});\n",
              "      require([\"vega-embed\"], displayChart, err => showError(`Error loading script: ${err.message}`));\n",
              "    } else if (typeof vegaEmbed === \"function\") {\n",
              "      displayChart(vegaEmbed);\n",
              "    } else {\n",
              "      loadScript(\"vega\")\n",
              "        .then(() => loadScript(\"vega-lite\"))\n",
              "        .then(() => loadScript(\"vega-embed\"))\n",
              "        .catch(showError)\n",
              "        .then(() => displayChart(vegaEmbed));\n",
              "    }\n",
              "  })({\"config\": {\"view\": {\"continuousHeight\": 300, \"continuousWidth\": 400}, \"range\": {\"category\": {\"scheme\": [\"#FF4500\", \"#a0aab4\", \"#4E79A7\"]}}}, \"layer\": [{\"data\": {\"name\": \"data-7b2a2ea201e81876539c771d0d86a520\"}, \"mark\": \"line\", \"encoding\": {\"color\": {\"type\": \"nominal\", \"field\": \"Poverty %\"}, \"x\": {\"type\": \"temporal\", \"field\": \"date\", \"title\": \"March-April\"}, \"y\": {\"type\": \"quantitative\", \"field\": \"full_time_value\", \"title\": \"Completely Home %\"}}, \"transform\": [{\"fold\": [\"Bottom 20 % Deviation\", \"Top 20 % Deviation\"], \"as\": [\"Poverty %\", \"full_time_value\"]}], \"width\": 1000}, {\"data\": {\"name\": \"data-7f3a6b86ed460c4e648f2393735a11f6\"}, \"mark\": {\"type\": \"rule\", \"color\": \"#757575\", \"size\": 2, \"strokeDash\": [5, 3]}, \"encoding\": {\"size\": {\"value\": 2}, \"y\": {\"type\": \"quantitative\", \"field\": \"Mean 2019\"}}}, {\"data\": {\"name\": \"data-d764767e7dd3b10b2c76c1355ce10ef3\"}, \"mark\": {\"type\": \"text\", \"angle\": 0, \"text\": \"Mean 2019\"}, \"encoding\": {\"opacity\": {\"value\": 0.4}, \"y\": {\"type\": \"quantitative\", \"field\": \"y\"}}}], \"$schema\": \"https://vega.github.io/schema/vega-lite/v4.8.1.json\", \"datasets\": {\"data-7b2a2ea201e81876539c771d0d86a520\": [{\"date\": \"2020-03-26T00:00:00+00:00\", \"Top 20 %\": 4.65771948808207, \"Bottom 20 %\": 2.3464979288406567, \"Top 20 % Deviation\": -0.6164492606969123, \"Bottom 20 % Deviation\": -2.9276708199383257}, {\"date\": \"2020-03-25T00:00:00+00:00\", \"Top 20 %\": 4.285714858494401, \"Bottom 20 %\": 2.1246911293126867, \"Top 20 % Deviation\": -0.988453890284581, \"Bottom 20 % Deviation\": -3.1494776194662957}, {\"date\": \"2020-03-20T00:00:00+00:00\", \"Top 20 %\": 3.929264644803193, \"Bottom 20 %\": 2.0300548401108904, \"Top 20 % Deviation\": -1.3449041039757894, \"Bottom 20 % Deviation\": -3.244113908668092}, {\"date\": \"2020-04-09T00:00:00+00:00\", \"Top 20 %\": 4.623878104927677, \"Bottom 20 %\": 2.5228461114470146, \"Top 20 % Deviation\": -0.6502906438513056, \"Bottom 20 % Deviation\": -2.7513226373319677}, {\"date\": \"2020-03-24T00:00:00+00:00\", \"Top 20 %\": 4.924269689126667, \"Bottom 20 %\": 2.7929179945399296, \"Top 20 % Deviation\": -0.3498990596523157, \"Bottom 20 % Deviation\": -2.4812507542390527}, {\"date\": \"2020-03-27T00:00:00+00:00\", \"Top 20 %\": 5.215343445460488, \"Bottom 20 %\": 2.543451205119081, \"Top 20 % Deviation\": -0.05882530331849445, \"Bottom 20 % Deviation\": -2.7307175436599014}, {\"date\": \"2020-03-22T00:00:00+00:00\", \"Top 20 %\": 3.3851089459231187, \"Bottom 20 %\": 3.9663763617834897, \"Top 20 % Deviation\": -1.8890598028558636, \"Bottom 20 % Deviation\": -1.3077923869954926}, {\"date\": \"2020-03-28T00:00:00+00:00\", \"Top 20 %\": 2.9351129090276737, \"Bottom 20 %\": 2.5641642492891927, \"Top 20 % Deviation\": -2.3390558397513086, \"Bottom 20 % Deviation\": -2.7100044994897896}, {\"date\": \"2020-04-08T00:00:00+00:00\", \"Top 20 %\": 3.9643740474441413, \"Bottom 20 %\": 2.7851641343094693, \"Top 20 % Deviation\": -1.309794701334841, \"Bottom 20 % Deviation\": -2.489004614469513}, {\"date\": \"2020-03-19T00:00:00+00:00\", \"Top 20 %\": 4.318391451357649, \"Bottom 20 %\": 2.284033533430315, \"Top 20 % Deviation\": -0.9557772974213332, \"Bottom 20 % Deviation\": -2.9901352153486673}, {\"date\": \"2020-04-01T00:00:00+00:00\", \"Top 20 %\": 4.5081231171836995, \"Bottom 20 %\": 2.3013471578314015, \"Top 20 % Deviation\": -0.7660456315952828, \"Bottom 20 % Deviation\": -2.972821590947581}, {\"date\": \"2020-04-03T00:00:00+00:00\", \"Top 20 %\": 4.307009179497865, \"Bottom 20 %\": 4.479970280955516, \"Top 20 % Deviation\": -0.967159569281117, \"Bottom 20 % Deviation\": -0.7941984678234659}, {\"date\": \"2020-04-06T00:00:00+00:00\", \"Top 20 %\": 4.241541855848245, \"Bottom 20 %\": 2.2551058690429517, \"Top 20 % Deviation\": -1.032626892930737, \"Bottom 20 % Deviation\": -3.0190628797360306}, {\"date\": \"2020-03-29T00:00:00+00:00\", \"Top 20 %\": 2.7757236561799377, \"Bottom 20 %\": 1.8789341794494985, \"Top 20 % Deviation\": -2.4984450925990447, \"Bottom 20 % Deviation\": -3.395234569329484}, {\"date\": \"2020-04-04T00:00:00+00:00\", \"Top 20 %\": 3.190504982960382, \"Bottom 20 %\": 2.3607122638274802, \"Top 20 % Deviation\": -2.0836637658186, \"Bottom 20 % Deviation\": -2.913456484951502}, {\"date\": \"2020-03-17T00:00:00+00:00\", \"Top 20 %\": 6.214290348288054, \"Bottom 20 %\": 2.204234421918588, \"Top 20 % Deviation\": 0.9401215995090713, \"Bottom 20 % Deviation\": -3.0699343268603942}, {\"date\": \"2020-04-02T00:00:00+00:00\", \"Top 20 %\": 5.047509603161822, \"Bottom 20 %\": 6.079124683106059, \"Top 20 % Deviation\": -0.22665914561716072, \"Bottom 20 % Deviation\": 0.8049559343270767}, {\"date\": \"2020-03-18T00:00:00+00:00\", \"Top 20 %\": 5.653659073495993, \"Bottom 20 %\": 2.3490824424168744, \"Top 20 % Deviation\": 0.3794903247170103, \"Bottom 20 % Deviation\": -2.925086306362108}, {\"date\": \"2020-03-31T00:00:00+00:00\", \"Top 20 %\": 5.738369925030126, \"Bottom 20 %\": 4.6086780727138335, \"Top 20 % Deviation\": 0.46420117625114354, \"Bottom 20 % Deviation\": -0.6654906760651489}, {\"date\": \"2020-03-23T00:00:00+00:00\", \"Top 20 %\": 4.246813494105402, \"Bottom 20 %\": 2.3179102815021593, \"Top 20 % Deviation\": -1.02735525467358, \"Bottom 20 % Deviation\": -2.956258467276823}, {\"date\": \"2020-03-30T00:00:00+00:00\", \"Top 20 %\": 5.158317208917951, \"Bottom 20 %\": 2.406307879170358, \"Top 20 % Deviation\": -0.11585153986103158, \"Bottom 20 % Deviation\": -2.8678608696086245}, {\"date\": \"2020-03-21T00:00:00+00:00\", \"Top 20 %\": 2.996269348758118, \"Bottom 20 %\": 1.8775004857716036, \"Top 20 % Deviation\": -2.2778994000208646, \"Bottom 20 % Deviation\": -3.3966682630073786}, {\"date\": \"2020-04-07T00:00:00+00:00\", \"Top 20 %\": 4.838679524224797, \"Bottom 20 %\": 2.5175679725321145, \"Top 20 % Deviation\": -0.4354892245541855, \"Bottom 20 % Deviation\": -2.756600776246868}, {\"date\": \"2020-04-05T00:00:00+00:00\", \"Top 20 %\": 2.5455641439587415, \"Bottom 20 %\": 1.7407603004161087, \"Top 20 % Deviation\": -2.728604604820241, \"Bottom 20 % Deviation\": -3.5334084483628736}], \"data-7f3a6b86ed460c4e648f2393735a11f6\": [{\"Mean 2019\": 0}], \"data-d764767e7dd3b10b2c76c1355ce10ef3\": [{\"y\": 1}]}}, {\"mode\": \"vega-lite\"});\n",
              "</script>"
            ]
          },
          "metadata": {
            "tags": []
          },
          "execution_count": 86
        },
        {
          "output_type": "stream",
          "text": [
            "time: 54.2 ms (started: 2021-05-03 17:48:30 +00:00)\n"
          ],
          "name": "stdout"
        }
      ]
    },
    {
      "cell_type": "markdown",
      "metadata": {
        "id": "eY48F9-7gp2q"
      },
      "source": [
        "\n",
        "\n",
        "\n",
        "*   August. 7, 2020: LA County Exceeds 200,000 Coronavirus Cases\n",
        "*   August, 12, 2020: LA County Crosses 'Tragic Milestone' Of 5,000 Coronavirus Deaths \n",
        "\n",
        "\n",
        "\n",
        "\n",
        "\n",
        "\n",
        "\n"
      ]
    },
    {
      "cell_type": "code",
      "metadata": {
        "colab": {
          "base_uri": "https://localhost:8080/",
          "height": 385
        },
        "id": "_DhDPv1GfRhR",
        "outputId": "22cc6d86-e726-4a17-bf9a-945314a1f973"
      },
      "source": [
        "start_date = '2020-8-5'\n",
        "end_date = '2020-8-19'\n",
        "df2 = apply_date_filter(df,start_date,end_date)\n",
        "chart = create_chart(df2,'August')\n",
        "chart\n",
        "#df2"
      ],
      "execution_count": 87,
      "outputs": [
        {
          "output_type": "execute_result",
          "data": {
            "text/plain": [
              "alt.LayerChart(...)"
            ],
            "text/html": [
              "\n",
              "<div id=\"altair-viz-7d4609a3423a44a187f1b588f8460294\"></div>\n",
              "<script type=\"text/javascript\">\n",
              "  (function(spec, embedOpt){\n",
              "    let outputDiv = document.currentScript.previousElementSibling;\n",
              "    if (outputDiv.id !== \"altair-viz-7d4609a3423a44a187f1b588f8460294\") {\n",
              "      outputDiv = document.getElementById(\"altair-viz-7d4609a3423a44a187f1b588f8460294\");\n",
              "    }\n",
              "    const paths = {\n",
              "      \"vega\": \"https://cdn.jsdelivr.net/npm//vega@5?noext\",\n",
              "      \"vega-lib\": \"https://cdn.jsdelivr.net/npm//vega-lib?noext\",\n",
              "      \"vega-lite\": \"https://cdn.jsdelivr.net/npm//vega-lite@4.8.1?noext\",\n",
              "      \"vega-embed\": \"https://cdn.jsdelivr.net/npm//vega-embed@6?noext\",\n",
              "    };\n",
              "\n",
              "    function loadScript(lib) {\n",
              "      return new Promise(function(resolve, reject) {\n",
              "        var s = document.createElement('script');\n",
              "        s.src = paths[lib];\n",
              "        s.async = true;\n",
              "        s.onload = () => resolve(paths[lib]);\n",
              "        s.onerror = () => reject(`Error loading script: ${paths[lib]}`);\n",
              "        document.getElementsByTagName(\"head\")[0].appendChild(s);\n",
              "      });\n",
              "    }\n",
              "\n",
              "    function showError(err) {\n",
              "      outputDiv.innerHTML = `<div class=\"error\" style=\"color:red;\">${err}</div>`;\n",
              "      throw err;\n",
              "    }\n",
              "\n",
              "    function displayChart(vegaEmbed) {\n",
              "      vegaEmbed(outputDiv, spec, embedOpt)\n",
              "        .catch(err => showError(`Javascript Error: ${err.message}<br>This usually means there's a typo in your chart specification. See the javascript console for the full traceback.`));\n",
              "    }\n",
              "\n",
              "    if(typeof define === \"function\" && define.amd) {\n",
              "      requirejs.config({paths});\n",
              "      require([\"vega-embed\"], displayChart, err => showError(`Error loading script: ${err.message}`));\n",
              "    } else if (typeof vegaEmbed === \"function\") {\n",
              "      displayChart(vegaEmbed);\n",
              "    } else {\n",
              "      loadScript(\"vega\")\n",
              "        .then(() => loadScript(\"vega-lite\"))\n",
              "        .then(() => loadScript(\"vega-embed\"))\n",
              "        .catch(showError)\n",
              "        .then(() => displayChart(vegaEmbed));\n",
              "    }\n",
              "  })({\"config\": {\"view\": {\"continuousHeight\": 300, \"continuousWidth\": 400}, \"range\": {\"category\": {\"scheme\": [\"#FF4500\", \"#a0aab4\", \"#4E79A7\"]}}}, \"layer\": [{\"data\": {\"name\": \"data-808ecafd6f15283142f76cb18c9b045b\"}, \"mark\": \"line\", \"encoding\": {\"color\": {\"type\": \"nominal\", \"field\": \"Poverty %\"}, \"x\": {\"type\": \"temporal\", \"field\": \"date\", \"title\": \"August\"}, \"y\": {\"type\": \"quantitative\", \"field\": \"full_time_value\", \"title\": \"Completely Home %\"}}, \"transform\": [{\"fold\": [\"Bottom 20 % Deviation\", \"Top 20 % Deviation\"], \"as\": [\"Poverty %\", \"full_time_value\"]}], \"width\": 1000}, {\"data\": {\"name\": \"data-7f3a6b86ed460c4e648f2393735a11f6\"}, \"mark\": {\"type\": \"rule\", \"color\": \"#757575\", \"size\": 2, \"strokeDash\": [5, 3]}, \"encoding\": {\"size\": {\"value\": 2}, \"y\": {\"type\": \"quantitative\", \"field\": \"Mean 2019\"}}}, {\"data\": {\"name\": \"data-d764767e7dd3b10b2c76c1355ce10ef3\"}, \"mark\": {\"type\": \"text\", \"angle\": 0, \"text\": \"Mean 2019\"}, \"encoding\": {\"opacity\": {\"value\": 0.4}, \"y\": {\"type\": \"quantitative\", \"field\": \"y\"}}}], \"$schema\": \"https://vega.github.io/schema/vega-lite/v4.8.1.json\", \"datasets\": {\"data-808ecafd6f15283142f76cb18c9b045b\": [{\"date\": \"2020-08-06T00:00:00+00:00\", \"Top 20 %\": 4.914658276649308, \"Bottom 20 %\": 3.523859723333546, \"Top 20 % Deviation\": -0.35951047212967424, \"Bottom 20 % Deviation\": -1.7503090254454365}, {\"date\": \"2020-08-13T00:00:00+00:00\", \"Top 20 %\": 6.537503347842162, \"Bottom 20 %\": 6.25240535152246, \"Top 20 % Deviation\": 1.26333459906318, \"Bottom 20 % Deviation\": 0.9782366027434772}, {\"date\": \"2020-08-14T00:00:00+00:00\", \"Top 20 %\": 6.45910758425031, \"Bottom 20 %\": 6.498014130191333, \"Top 20 % Deviation\": 1.1849388354713275, \"Bottom 20 % Deviation\": 1.2238453814123504}, {\"date\": \"2020-08-19T00:00:00+00:00\", \"Top 20 %\": 5.177652566960456, \"Bottom 20 %\": 4.262341432395998, \"Top 20 % Deviation\": -0.09651618181852673, \"Bottom 20 % Deviation\": -1.011827316382984}, {\"date\": \"2020-08-09T00:00:00+00:00\", \"Top 20 %\": 3.241572352653846, \"Bottom 20 %\": 3.1134527662507083, \"Top 20 % Deviation\": -2.0325963961251365, \"Bottom 20 % Deviation\": -2.160715982528274}, {\"date\": \"2020-08-17T00:00:00+00:00\", \"Top 20 %\": 5.505699093106183, \"Bottom 20 %\": 5.179222590629163, \"Top 20 % Deviation\": 0.23153034432720077, \"Bottom 20 % Deviation\": -0.09494615814981966}, {\"date\": \"2020-08-10T00:00:00+00:00\", \"Top 20 %\": 5.944269426151817, \"Bottom 20 %\": 4.564855679510254, \"Top 20 % Deviation\": 0.6701006773728349, \"Bottom 20 % Deviation\": -0.7093130692687284}, {\"date\": \"2020-08-08T00:00:00+00:00\", \"Top 20 %\": 3.6392454949481325, \"Bottom 20 %\": 3.8858703154012804, \"Top 20 % Deviation\": -1.6349232538308498, \"Bottom 20 % Deviation\": -1.388298433377702}, {\"date\": \"2020-08-12T00:00:00+00:00\", \"Top 20 %\": 4.798598019706102, \"Bottom 20 %\": 4.734920363951748, \"Top 20 % Deviation\": -0.47557072907288056, \"Bottom 20 % Deviation\": -0.5392483848272347}, {\"date\": \"2020-08-16T00:00:00+00:00\", \"Top 20 %\": 3.19025755603773, \"Bottom 20 %\": 5.239068715902281, \"Top 20 % Deviation\": -2.0839111927412524, \"Bottom 20 % Deviation\": -0.03510003287670127}, {\"date\": \"2020-08-07T00:00:00+00:00\", \"Top 20 %\": 4.544356304393944, \"Bottom 20 %\": 4.07273053920527, \"Top 20 % Deviation\": -0.729812444385038, \"Bottom 20 % Deviation\": -1.2014382095737126}, {\"date\": \"2020-08-11T00:00:00+00:00\", \"Top 20 %\": 5.522844912472294, \"Bottom 20 %\": 3.808791746958907, \"Top 20 % Deviation\": 0.2486761636933119, \"Bottom 20 % Deviation\": -1.4653770018200754}, {\"date\": \"2020-08-18T00:00:00+00:00\", \"Top 20 %\": 5.881943925079108, \"Bottom 20 %\": 4.22271961775082, \"Top 20 % Deviation\": 0.6077751763001258, \"Bottom 20 % Deviation\": -1.0514491310281624}, {\"date\": \"2020-08-15T00:00:00+00:00\", \"Top 20 %\": 4.196554704302595, \"Bottom 20 %\": 6.371178391169815, \"Top 20 % Deviation\": -1.0776140444763875, \"Bottom 20 % Deviation\": 1.0970096423908329}], \"data-7f3a6b86ed460c4e648f2393735a11f6\": [{\"Mean 2019\": 0}], \"data-d764767e7dd3b10b2c76c1355ce10ef3\": [{\"y\": 1}]}}, {\"mode\": \"vega-lite\"});\n",
              "</script>"
            ]
          },
          "metadata": {
            "tags": []
          },
          "execution_count": 87
        },
        {
          "output_type": "stream",
          "text": [
            "time: 64 ms (started: 2021-05-03 17:48:30 +00:00)\n"
          ],
          "name": "stdout"
        }
      ]
    },
    {
      "cell_type": "markdown",
      "metadata": {
        "id": "mxC6dH7YiWxd"
      },
      "source": [
        "*   Oct. 14, 2020: LA County Sees Rise In Workplace Outbreaks As Infection Rate Creeps Upward\n",
        "\n",
        "\n",
        "\n"
      ]
    },
    {
      "cell_type": "code",
      "metadata": {
        "colab": {
          "base_uri": "https://localhost:8080/",
          "height": 385
        },
        "id": "KTaOPmN5fRmL",
        "outputId": "2f467eff-75b2-40d5-a375-928dce480d41"
      },
      "source": [
        "start_date = '2020-10-12'\n",
        "end_date = '2020-10-24'\n",
        "df3 = apply_date_filter(df,start_date,end_date)\n",
        "chart = create_chart(df3,'October')\n",
        "chart"
      ],
      "execution_count": 88,
      "outputs": [
        {
          "output_type": "execute_result",
          "data": {
            "text/plain": [
              "alt.LayerChart(...)"
            ],
            "text/html": [
              "\n",
              "<div id=\"altair-viz-fed4ca16a99d416282fa831f1976154a\"></div>\n",
              "<script type=\"text/javascript\">\n",
              "  (function(spec, embedOpt){\n",
              "    let outputDiv = document.currentScript.previousElementSibling;\n",
              "    if (outputDiv.id !== \"altair-viz-fed4ca16a99d416282fa831f1976154a\") {\n",
              "      outputDiv = document.getElementById(\"altair-viz-fed4ca16a99d416282fa831f1976154a\");\n",
              "    }\n",
              "    const paths = {\n",
              "      \"vega\": \"https://cdn.jsdelivr.net/npm//vega@5?noext\",\n",
              "      \"vega-lib\": \"https://cdn.jsdelivr.net/npm//vega-lib?noext\",\n",
              "      \"vega-lite\": \"https://cdn.jsdelivr.net/npm//vega-lite@4.8.1?noext\",\n",
              "      \"vega-embed\": \"https://cdn.jsdelivr.net/npm//vega-embed@6?noext\",\n",
              "    };\n",
              "\n",
              "    function loadScript(lib) {\n",
              "      return new Promise(function(resolve, reject) {\n",
              "        var s = document.createElement('script');\n",
              "        s.src = paths[lib];\n",
              "        s.async = true;\n",
              "        s.onload = () => resolve(paths[lib]);\n",
              "        s.onerror = () => reject(`Error loading script: ${paths[lib]}`);\n",
              "        document.getElementsByTagName(\"head\")[0].appendChild(s);\n",
              "      });\n",
              "    }\n",
              "\n",
              "    function showError(err) {\n",
              "      outputDiv.innerHTML = `<div class=\"error\" style=\"color:red;\">${err}</div>`;\n",
              "      throw err;\n",
              "    }\n",
              "\n",
              "    function displayChart(vegaEmbed) {\n",
              "      vegaEmbed(outputDiv, spec, embedOpt)\n",
              "        .catch(err => showError(`Javascript Error: ${err.message}<br>This usually means there's a typo in your chart specification. See the javascript console for the full traceback.`));\n",
              "    }\n",
              "\n",
              "    if(typeof define === \"function\" && define.amd) {\n",
              "      requirejs.config({paths});\n",
              "      require([\"vega-embed\"], displayChart, err => showError(`Error loading script: ${err.message}`));\n",
              "    } else if (typeof vegaEmbed === \"function\") {\n",
              "      displayChart(vegaEmbed);\n",
              "    } else {\n",
              "      loadScript(\"vega\")\n",
              "        .then(() => loadScript(\"vega-lite\"))\n",
              "        .then(() => loadScript(\"vega-embed\"))\n",
              "        .catch(showError)\n",
              "        .then(() => displayChart(vegaEmbed));\n",
              "    }\n",
              "  })({\"config\": {\"view\": {\"continuousHeight\": 300, \"continuousWidth\": 400}, \"range\": {\"category\": {\"scheme\": [\"#FF4500\", \"#a0aab4\", \"#4E79A7\"]}}}, \"layer\": [{\"data\": {\"name\": \"data-6322a6b58a2f93dbd2b5e2253beadc70\"}, \"mark\": \"line\", \"encoding\": {\"color\": {\"type\": \"nominal\", \"field\": \"Poverty %\"}, \"x\": {\"type\": \"temporal\", \"field\": \"date\", \"title\": \"October\"}, \"y\": {\"type\": \"quantitative\", \"field\": \"full_time_value\", \"title\": \"Completely Home %\"}}, \"transform\": [{\"fold\": [\"Bottom 20 % Deviation\", \"Top 20 % Deviation\"], \"as\": [\"Poverty %\", \"full_time_value\"]}], \"width\": 1000}, {\"data\": {\"name\": \"data-7f3a6b86ed460c4e648f2393735a11f6\"}, \"mark\": {\"type\": \"rule\", \"color\": \"#757575\", \"size\": 2, \"strokeDash\": [5, 3]}, \"encoding\": {\"size\": {\"value\": 2}, \"y\": {\"type\": \"quantitative\", \"field\": \"Mean 2019\"}}}, {\"data\": {\"name\": \"data-d764767e7dd3b10b2c76c1355ce10ef3\"}, \"mark\": {\"type\": \"text\", \"angle\": 0, \"text\": \"Mean 2019\"}, \"encoding\": {\"opacity\": {\"value\": 0.4}, \"y\": {\"type\": \"quantitative\", \"field\": \"y\"}}}], \"$schema\": \"https://vega.github.io/schema/vega-lite/v4.8.1.json\", \"datasets\": {\"data-6322a6b58a2f93dbd2b5e2253beadc70\": [{\"date\": \"2020-10-18T00:00:00+00:00\", \"Top 20 %\": 3.1546470218344993, \"Bottom 20 %\": 3.979476144089703, \"Top 20 % Deviation\": -2.119521726944483, \"Bottom 20 % Deviation\": -1.2946926046892795}, {\"date\": \"2020-10-24T00:00:00+00:00\", \"Top 20 %\": 3.4424482907014693, \"Bottom 20 %\": 3.3907444876647777, \"Top 20 % Deviation\": -1.831720458077513, \"Bottom 20 % Deviation\": -1.8834242611142047}, {\"date\": \"2020-10-20T00:00:00+00:00\", \"Top 20 %\": 5.3837794535601615, \"Bottom 20 %\": 3.3464976336718286, \"Top 20 % Deviation\": 0.10961070478117918, \"Bottom 20 % Deviation\": -1.9276711151071537}, {\"date\": \"2020-10-21T00:00:00+00:00\", \"Top 20 %\": 6.5436721667915485, \"Bottom 20 %\": 4.880482953341685, \"Top 20 % Deviation\": 1.2695034180125662, \"Bottom 20 % Deviation\": -0.393685795437297}, {\"date\": \"2020-10-15T00:00:00+00:00\", \"Top 20 %\": 5.576863866579038, \"Bottom 20 %\": 3.9958337640043218, \"Top 20 % Deviation\": 0.30269511780005587, \"Bottom 20 % Deviation\": -1.2783349847746606}, {\"date\": \"2020-10-17T00:00:00+00:00\", \"Top 20 %\": 4.05405778883626, \"Bottom 20 %\": 4.920124959855126, \"Top 20 % Deviation\": -1.2201109599427227, \"Bottom 20 % Deviation\": -0.3540437889238559}, {\"date\": \"2020-10-16T00:00:00+00:00\", \"Top 20 %\": 5.340859301136686, \"Bottom 20 %\": 3.5293832980346607, \"Top 20 % Deviation\": 0.06669055235770394, \"Bottom 20 % Deviation\": -1.7447854507443217}, {\"date\": \"2020-10-19T00:00:00+00:00\", \"Top 20 %\": 5.048381706455949, \"Bottom 20 %\": 5.478089140419123, \"Top 20 % Deviation\": -0.22578704232303348, \"Bottom 20 % Deviation\": 0.20392039164014086}, {\"date\": \"2020-10-13T00:00:00+00:00\", \"Top 20 %\": 5.851598393774565, \"Bottom 20 %\": 3.474233696909988, \"Top 20 % Deviation\": 0.5774296449955827, \"Bottom 20 % Deviation\": -1.7999350518689945}, {\"date\": \"2020-10-14T00:00:00+00:00\", \"Top 20 %\": 6.635594417467811, \"Bottom 20 %\": 5.4942426413917955, \"Top 20 % Deviation\": 1.3614256686888284, \"Bottom 20 % Deviation\": 0.22007389261281318}, {\"date\": \"2020-10-22T00:00:00+00:00\", \"Top 20 %\": 7.486889122010417, \"Bottom 20 %\": 5.335842638710023, \"Top 20 % Deviation\": 2.2127203732314342, \"Bottom 20 % Deviation\": 0.061673889931040726}, {\"date\": \"2020-10-23T00:00:00+00:00\", \"Top 20 %\": 4.995704666757288, \"Bottom 20 %\": 3.9645027251011697, \"Top 20 % Deviation\": -0.2784640820216939, \"Bottom 20 % Deviation\": -1.3096660236778126}], \"data-7f3a6b86ed460c4e648f2393735a11f6\": [{\"Mean 2019\": 0}], \"data-d764767e7dd3b10b2c76c1355ce10ef3\": [{\"y\": 1}]}}, {\"mode\": \"vega-lite\"});\n",
              "</script>"
            ]
          },
          "metadata": {
            "tags": []
          },
          "execution_count": 88
        },
        {
          "output_type": "stream",
          "text": [
            "time: 65.9 ms (started: 2021-05-03 17:48:30 +00:00)\n"
          ],
          "name": "stdout"
        }
      ]
    },
    {
      "cell_type": "markdown",
      "metadata": {
        "id": "I1uLmyxVi6Zo"
      },
      "source": [
        "Dec. 16, 2020:\n",
        "LA County COVID-19 Deaths Hit New Record\n"
      ]
    },
    {
      "cell_type": "code",
      "metadata": {
        "colab": {
          "base_uri": "https://localhost:8080/",
          "height": 386
        },
        "id": "YZ29_JeZfRqz",
        "outputId": "97046b9f-f772-4b8c-f4fc-f0221cf66f04"
      },
      "source": [
        "start_date = '2020-12-15'\n",
        "end_date = '2020-12-26'\n",
        "df4 = apply_date_filter(df,start_date,end_date)\n",
        "chart = create_chart(df4,'December')\n",
        "chart"
      ],
      "execution_count": 89,
      "outputs": [
        {
          "output_type": "execute_result",
          "data": {
            "text/plain": [
              "alt.LayerChart(...)"
            ],
            "text/html": [
              "\n",
              "<div id=\"altair-viz-9cf8dd4f6dba489ca425cfd78d20fa57\"></div>\n",
              "<script type=\"text/javascript\">\n",
              "  (function(spec, embedOpt){\n",
              "    let outputDiv = document.currentScript.previousElementSibling;\n",
              "    if (outputDiv.id !== \"altair-viz-9cf8dd4f6dba489ca425cfd78d20fa57\") {\n",
              "      outputDiv = document.getElementById(\"altair-viz-9cf8dd4f6dba489ca425cfd78d20fa57\");\n",
              "    }\n",
              "    const paths = {\n",
              "      \"vega\": \"https://cdn.jsdelivr.net/npm//vega@5?noext\",\n",
              "      \"vega-lib\": \"https://cdn.jsdelivr.net/npm//vega-lib?noext\",\n",
              "      \"vega-lite\": \"https://cdn.jsdelivr.net/npm//vega-lite@4.8.1?noext\",\n",
              "      \"vega-embed\": \"https://cdn.jsdelivr.net/npm//vega-embed@6?noext\",\n",
              "    };\n",
              "\n",
              "    function loadScript(lib) {\n",
              "      return new Promise(function(resolve, reject) {\n",
              "        var s = document.createElement('script');\n",
              "        s.src = paths[lib];\n",
              "        s.async = true;\n",
              "        s.onload = () => resolve(paths[lib]);\n",
              "        s.onerror = () => reject(`Error loading script: ${paths[lib]}`);\n",
              "        document.getElementsByTagName(\"head\")[0].appendChild(s);\n",
              "      });\n",
              "    }\n",
              "\n",
              "    function showError(err) {\n",
              "      outputDiv.innerHTML = `<div class=\"error\" style=\"color:red;\">${err}</div>`;\n",
              "      throw err;\n",
              "    }\n",
              "\n",
              "    function displayChart(vegaEmbed) {\n",
              "      vegaEmbed(outputDiv, spec, embedOpt)\n",
              "        .catch(err => showError(`Javascript Error: ${err.message}<br>This usually means there's a typo in your chart specification. See the javascript console for the full traceback.`));\n",
              "    }\n",
              "\n",
              "    if(typeof define === \"function\" && define.amd) {\n",
              "      requirejs.config({paths});\n",
              "      require([\"vega-embed\"], displayChart, err => showError(`Error loading script: ${err.message}`));\n",
              "    } else if (typeof vegaEmbed === \"function\") {\n",
              "      displayChart(vegaEmbed);\n",
              "    } else {\n",
              "      loadScript(\"vega\")\n",
              "        .then(() => loadScript(\"vega-lite\"))\n",
              "        .then(() => loadScript(\"vega-embed\"))\n",
              "        .catch(showError)\n",
              "        .then(() => displayChart(vegaEmbed));\n",
              "    }\n",
              "  })({\"config\": {\"view\": {\"continuousHeight\": 300, \"continuousWidth\": 400}, \"range\": {\"category\": {\"scheme\": [\"#FF4500\", \"#a0aab4\", \"#4E79A7\"]}}}, \"layer\": [{\"data\": {\"name\": \"data-3d815896bb25ab0760183399153139ac\"}, \"mark\": \"line\", \"encoding\": {\"color\": {\"type\": \"nominal\", \"field\": \"Poverty %\"}, \"x\": {\"type\": \"temporal\", \"field\": \"date\", \"title\": \"December\"}, \"y\": {\"type\": \"quantitative\", \"field\": \"full_time_value\", \"title\": \"Completely Home %\"}}, \"transform\": [{\"fold\": [\"Bottom 20 % Deviation\", \"Top 20 % Deviation\"], \"as\": [\"Poverty %\", \"full_time_value\"]}], \"width\": 1000}, {\"data\": {\"name\": \"data-7f3a6b86ed460c4e648f2393735a11f6\"}, \"mark\": {\"type\": \"rule\", \"color\": \"#757575\", \"size\": 2, \"strokeDash\": [5, 3]}, \"encoding\": {\"size\": {\"value\": 2}, \"y\": {\"type\": \"quantitative\", \"field\": \"Mean 2019\"}}}, {\"data\": {\"name\": \"data-d764767e7dd3b10b2c76c1355ce10ef3\"}, \"mark\": {\"type\": \"text\", \"angle\": 0, \"text\": \"Mean 2019\"}, \"encoding\": {\"opacity\": {\"value\": 0.4}, \"y\": {\"type\": \"quantitative\", \"field\": \"y\"}}}], \"$schema\": \"https://vega.github.io/schema/vega-lite/v4.8.1.json\", \"datasets\": {\"data-3d815896bb25ab0760183399153139ac\": [{\"date\": \"2020-12-22T00:00:00+00:00\", \"Top 20 %\": 4.941967187411043, \"Bottom 20 %\": 3.1346591855920036, \"Top 20 % Deviation\": -0.3322015613679392, \"Bottom 20 % Deviation\": -2.1395095631869787}, {\"date\": \"2020-12-17T00:00:00+00:00\", \"Top 20 %\": 5.620408037286837, \"Bottom 20 %\": 4.418301495538284, \"Top 20 % Deviation\": 0.3462392885078547, \"Bottom 20 % Deviation\": -0.8558672532406986}, {\"date\": \"2020-12-25T00:00:00+00:00\", \"Top 20 %\": 3.007350154851025, \"Bottom 20 %\": 3.216459769942012, \"Top 20 % Deviation\": -2.2668185939279573, \"Bottom 20 % Deviation\": -2.0577089788369705}, {\"date\": \"2020-12-16T00:00:00+00:00\", \"Top 20 %\": 5.296306352280602, \"Bottom 20 %\": 3.6071737307259872, \"Top 20 % Deviation\": 0.022137603501620085, \"Bottom 20 % Deviation\": -1.666995018052995}, {\"date\": \"2020-12-24T00:00:00+00:00\", \"Top 20 %\": 3.5822888137920037, \"Bottom 20 %\": 2.9910696195452044, \"Top 20 % Deviation\": -1.6918799349869786, \"Bottom 20 % Deviation\": -2.283099129233778}, {\"date\": \"2020-12-23T00:00:00+00:00\", \"Top 20 %\": 4.68453733124621, \"Bottom 20 %\": 3.4554929949945747, \"Top 20 % Deviation\": -0.5896314175327726, \"Bottom 20 % Deviation\": -1.8186757537844076}, {\"date\": \"2020-12-20T00:00:00+00:00\", \"Top 20 %\": 3.1511253918376205, \"Bottom 20 %\": 4.595025531409886, \"Top 20 % Deviation\": -2.123043356941362, \"Bottom 20 % Deviation\": -0.6791432173690968}, {\"date\": \"2020-12-21T00:00:00+00:00\", \"Top 20 %\": 4.319534760825981, \"Bottom 20 %\": 3.0789528786649774, \"Top 20 % Deviation\": -0.9546339879530015, \"Bottom 20 % Deviation\": -2.195215870114005}, {\"date\": \"2020-12-26T00:00:00+00:00\", \"Top 20 %\": 4.681501695461631, \"Bottom 20 %\": 3.0019140202858026, \"Top 20 % Deviation\": -0.592667053317351, \"Bottom 20 % Deviation\": -2.2722547284931798}, {\"date\": \"2020-12-18T00:00:00+00:00\", \"Top 20 %\": 4.2705497049330186, \"Bottom 20 %\": 3.8553750389476735, \"Top 20 % Deviation\": -1.0036190438459638, \"Bottom 20 % Deviation\": -1.4187937098313088}, {\"date\": \"2020-12-19T00:00:00+00:00\", \"Top 20 %\": 3.3026490685005228, \"Bottom 20 %\": 4.071751640146681, \"Top 20 % Deviation\": -1.9715196802784596, \"Bottom 20 % Deviation\": -1.202417108632301}], \"data-7f3a6b86ed460c4e648f2393735a11f6\": [{\"Mean 2019\": 0}], \"data-d764767e7dd3b10b2c76c1355ce10ef3\": [{\"y\": 1}]}}, {\"mode\": \"vega-lite\"});\n",
              "</script>"
            ]
          },
          "metadata": {
            "tags": []
          },
          "execution_count": 89
        },
        {
          "output_type": "stream",
          "text": [
            "time: 62.6 ms (started: 2021-05-03 17:48:30 +00:00)\n"
          ],
          "name": "stdout"
        }
      ]
    },
    {
      "cell_type": "code",
      "metadata": {
        "id": "WuiHxms2fRtH"
      },
      "source": [
        ""
      ],
      "execution_count": 89,
      "outputs": []
    }
  ]
}