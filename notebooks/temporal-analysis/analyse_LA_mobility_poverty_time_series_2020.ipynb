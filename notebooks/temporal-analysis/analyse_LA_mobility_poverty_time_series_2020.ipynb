{
  "nbformat": 4,
  "nbformat_minor": 0,
  "metadata": {
    "colab": {
      "name": "analyse_NY_mobility_poverty_2020.ipynb",
      "provenance": [],
      "collapsed_sections": [],
      "include_colab_link": true
    },
    "kernelspec": {
      "name": "python3",
      "display_name": "Python 3"
    },
    "language_info": {
      "name": "python"
    }
  },
  "cells": [
    {
      "cell_type": "markdown",
      "metadata": {
        "id": "view-in-github",
        "colab_type": "text"
      },
      "source": [
        "<a href=\"https://colab.research.google.com/github/chouhandiksha/bigdataproject/blob/colab/notebooks/analyse_LA_mobility_poverty_time_series_2020.ipynb\" target=\"_parent\"><img src=\"https://colab.research.google.com/assets/colab-badge.svg\" alt=\"Open In Colab\"/></a>"
      ]
    },
    {
      "cell_type": "markdown",
      "metadata": {
        "id": "6Vnc5foT5YFx"
      },
      "source": [
        "**Spark SQL Documentation:** \n",
        "https://spark.apache.org/docs/2.2.0/sql-programming-guide.html"
      ]
    },
    {
      "cell_type": "code",
      "metadata": {
        "id": "XXJ-cpgT3moz",
        "colab": {
          "base_uri": "https://localhost:8080/"
        },
        "outputId": "69bfd460-410a-4632-c16e-98dfe48fa6f0"
      },
      "source": [
        "# add time information at the end of every cell\n",
        "!pip install ipython-autotime\n",
        "%load_ext autotime"
      ],
      "execution_count": 59,
      "outputs": [
        {
          "output_type": "stream",
          "text": [
            "Requirement already satisfied: ipython-autotime in /usr/local/lib/python3.7/dist-packages (0.3.1)\n",
            "Requirement already satisfied: ipython in /usr/local/lib/python3.7/dist-packages (from ipython-autotime) (5.5.0)\n",
            "Requirement already satisfied: pexpect; sys_platform != \"win32\" in /usr/local/lib/python3.7/dist-packages (from ipython->ipython-autotime) (4.8.0)\n",
            "Requirement already satisfied: simplegeneric>0.8 in /usr/local/lib/python3.7/dist-packages (from ipython->ipython-autotime) (0.8.1)\n",
            "Requirement already satisfied: pickleshare in /usr/local/lib/python3.7/dist-packages (from ipython->ipython-autotime) (0.7.5)\n",
            "Requirement already satisfied: prompt-toolkit<2.0.0,>=1.0.4 in /usr/local/lib/python3.7/dist-packages (from ipython->ipython-autotime) (1.0.18)\n",
            "Requirement already satisfied: pygments in /usr/local/lib/python3.7/dist-packages (from ipython->ipython-autotime) (2.6.1)\n",
            "Requirement already satisfied: traitlets>=4.2 in /usr/local/lib/python3.7/dist-packages (from ipython->ipython-autotime) (5.0.5)\n",
            "Requirement already satisfied: setuptools>=18.5 in /usr/local/lib/python3.7/dist-packages (from ipython->ipython-autotime) (54.2.0)\n",
            "Requirement already satisfied: decorator in /usr/local/lib/python3.7/dist-packages (from ipython->ipython-autotime) (4.4.2)\n",
            "Requirement already satisfied: ptyprocess>=0.5 in /usr/local/lib/python3.7/dist-packages (from pexpect; sys_platform != \"win32\"->ipython->ipython-autotime) (0.7.0)\n",
            "Requirement already satisfied: wcwidth in /usr/local/lib/python3.7/dist-packages (from prompt-toolkit<2.0.0,>=1.0.4->ipython->ipython-autotime) (0.2.5)\n",
            "Requirement already satisfied: six>=1.9.0 in /usr/local/lib/python3.7/dist-packages (from prompt-toolkit<2.0.0,>=1.0.4->ipython->ipython-autotime) (1.15.0)\n",
            "Requirement already satisfied: ipython-genutils in /usr/local/lib/python3.7/dist-packages (from traitlets>=4.2->ipython->ipython-autotime) (0.2.0)\n",
            "The autotime extension is already loaded. To reload it, use:\n",
            "  %reload_ext autotime\n",
            "time: 3.54 s (started: 2021-04-15 22:36:29 +00:00)\n"
          ],
          "name": "stdout"
        }
      ]
    },
    {
      "cell_type": "code",
      "metadata": {
        "colab": {
          "base_uri": "https://localhost:8080/"
        },
        "id": "DggpqrsrscGi",
        "outputId": "e49c545c-7d1a-49d9-a389-ab8d85edb709"
      },
      "source": [
        "# Install required dependancies\n",
        "!pip install pyspark\n",
        "!apt install openjdk-8-jdk-headless -qq\n",
        "import os\n",
        "os.environ[\"JAVA_HOME\"] = \"/usr/lib/jvm/java-8-openjdk-amd64\""
      ],
      "execution_count": 60,
      "outputs": [
        {
          "output_type": "stream",
          "text": [
            "Requirement already satisfied: pyspark in /usr/local/lib/python3.7/dist-packages (3.1.1)\n",
            "Requirement already satisfied: py4j==0.10.9 in /usr/local/lib/python3.7/dist-packages (from pyspark) (0.10.9)\n",
            "openjdk-8-jdk-headless is already the newest version (8u282-b08-0ubuntu1~18.04).\n",
            "0 upgraded, 0 newly installed, 0 to remove and 31 not upgraded.\n",
            "time: 5.06 s (started: 2021-04-15 22:36:32 +00:00)\n"
          ],
          "name": "stdout"
        }
      ]
    },
    {
      "cell_type": "code",
      "metadata": {
        "id": "ppkG73kRsei0",
        "colab": {
          "base_uri": "https://localhost:8080/"
        },
        "outputId": "75466cee-834c-4c7c-9a17-caf72d77260b"
      },
      "source": [
        "# Import modules\n",
        "import numpy as np\n",
        "import pandas as pd\n",
        "import matplotlib.pyplot as plt\n",
        "from pathlib import Path\n",
        "%matplotlib inline\n",
        "\n",
        "import pyspark\n",
        "from pyspark.sql import *\n",
        "from pyspark.sql.types import *\n",
        "from pyspark.sql.functions import *\n",
        "from pyspark import SparkContext, SparkConf"
      ],
      "execution_count": 61,
      "outputs": [
        {
          "output_type": "stream",
          "text": [
            "time: 6.39 ms (started: 2021-04-15 22:36:37 +00:00)\n"
          ],
          "name": "stdout"
        }
      ]
    },
    {
      "cell_type": "code",
      "metadata": {
        "colab": {
          "base_uri": "https://localhost:8080/"
        },
        "id": "pYm9-j_fflal",
        "outputId": "e18f6b8c-f75c-4bbf-f44e-b9772e4333f9"
      },
      "source": [
        "import altair as alt\n",
        "alt.data_transformers.disable_max_rows()"
      ],
      "execution_count": 62,
      "outputs": [
        {
          "output_type": "execute_result",
          "data": {
            "text/plain": [
              "DataTransformerRegistry.enable('default')"
            ]
          },
          "metadata": {
            "tags": []
          },
          "execution_count": 62
        },
        {
          "output_type": "stream",
          "text": [
            "time: 9.57 ms (started: 2021-04-15 22:36:37 +00:00)\n"
          ],
          "name": "stdout"
        }
      ]
    },
    {
      "cell_type": "code",
      "metadata": {
        "id": "1oe1ksN5skMG",
        "colab": {
          "base_uri": "https://localhost:8080/"
        },
        "outputId": "16b07c44-4dac-4118-e708-eeb8932e2802"
      },
      "source": [
        "# create the session\n",
        "conf = SparkConf().set(\"spark.ui.port\", \"4050\")\n",
        "\n",
        "# create the context\n",
        "sc = pyspark.SparkContext(conf=conf)\n",
        "spark = SparkSession.builder.getOrCreate()"
      ],
      "execution_count": 63,
      "outputs": [
        {
          "output_type": "stream",
          "text": [
            "time: 231 ms (started: 2021-04-15 22:36:37 +00:00)\n"
          ],
          "name": "stdout"
        }
      ]
    },
    {
      "cell_type": "code",
      "metadata": {
        "id": "zdPF-0xIrDm9",
        "outputId": "722b63d7-e5c8-4559-9320-492b4da83006",
        "colab": {
          "base_uri": "https://localhost:8080/"
        }
      },
      "source": [
        "#sc.stop()"
      ],
      "execution_count": 64,
      "outputs": [
        {
          "output_type": "stream",
          "text": [
            "time: 1.02 ms (started: 2021-04-15 22:36:38 +00:00)\n"
          ],
          "name": "stdout"
        }
      ]
    },
    {
      "cell_type": "code",
      "metadata": {
        "colab": {
          "base_uri": "https://localhost:8080/"
        },
        "id": "WGXwI2d1szaO",
        "outputId": "c84a1f63-e7f1-4bde-994e-c9c34e897938"
      },
      "source": [
        "# Mount drive with data\n",
        "from google.colab import drive\n",
        "drive.mount('/content/drive')"
      ],
      "execution_count": 65,
      "outputs": [
        {
          "output_type": "stream",
          "text": [
            "Drive already mounted at /content/drive; to attempt to forcibly remount, call drive.mount(\"/content/drive\", force_remount=True).\n",
            "time: 2.78 ms (started: 2021-04-15 22:36:38 +00:00)\n"
          ],
          "name": "stdout"
        }
      ]
    },
    {
      "cell_type": "code",
      "metadata": {
        "id": "grN2uNcFvloa",
        "colab": {
          "base_uri": "https://localhost:8080/"
        },
        "outputId": "8054cee3-50f9-41c9-a284-b915e2ef4306"
      },
      "source": [
        "# Set path to data folder\n",
        "path = Path('drive/MyDrive/big-data-project/data/clean-data')\n",
        "city = 'la'"
      ],
      "execution_count": 66,
      "outputs": [
        {
          "output_type": "stream",
          "text": [
            "time: 1.33 ms (started: 2021-04-15 22:36:38 +00:00)\n"
          ],
          "name": "stdout"
        }
      ]
    },
    {
      "cell_type": "code",
      "metadata": {
        "colab": {
          "base_uri": "https://localhost:8080/"
        },
        "id": "BvCrFmU2tGXY",
        "outputId": "4c520fde-bb7e-4d31-8300-1ba5758acea9"
      },
      "source": [
        "# Read data into dataframe\n",
        "df_soc = spark.read.format('csv').option('header','true').option('quote',\"\\\"\").option('escape',\"\\\"\").load(str(path/city/'social/2020/*.csv'))\n",
        "df_soc.show()"
      ],
      "execution_count": 67,
      "outputs": [
        {
          "output_type": "stream",
          "text": [
            "+---+------------+--------------------+--------------------+------------+---------------------------+--------------------------+------------------------------------------+----------------------------+----------------------+------------------------+--------------------+-------------------------------+-------------------------------+--------------------+-------------------------+--------------------------+----------------------+----------------------------+---------------------------+-----------------------------+\n",
            "|_c0|         cbg|    date_range_start|      date_range_end|device_count|distance_traveled_from_home|bucketed_distance_traveled|median_dwell_at_bucketed_distance_traveled|completely_home_device_count|median_home_dwell_time|bucketed_home_dwell_time|at_home_by_each_hour|part_time_work_behavior_devices|full_time_work_behavior_devices|    destination_cbgs|delivery_behavior_devices|median_non_home_dwell_time|candidate_device_count|bucketed_away_from_home_time|median_percentage_time_home|bucketed_percentage_time_home|\n",
            "+---+------------+--------------------+--------------------+------------+---------------------------+--------------------------+------------------------------------------+----------------------------+----------------------+------------------------+--------------------+-------------------------------+-------------------------------+--------------------+-------------------------+--------------------------+----------------------+----------------------------+---------------------------+-----------------------------+\n",
            "|  0|060371831013|2020-02-07T00:00:...|2020-02-08T00:00:...|          45|                       5769|      {\"16001-50000\":4,...|                      {\"16001-50000\":29...|                           6|                   558|    {\"721-1080\":9,\"36...|[24,23,24,23,21,2...|                              1|                              1|{\"060374309012\":1...|                        1|                       112|                    89|        {\"481-540\":1,\"541...|                         64|         {\"26-50\":4,\"51-75...|\n",
            "|  1|060374034022|2020-02-07T00:00:...|2020-02-08T00:00:...|         155|                       5438|      {\"16001-50000\":32...|                      {\"16001-50000\":99...|                          24|                     0|    {\"721-1080\":16,\"3...|[42,41,38,40,40,4...|                             12|                              4|{\"060374034041\":3...|                        1|                       133|                   536|        {\"21-45\":16,\"481-...|                          0|         {\"26-50\":4,\"51-75...|\n",
            "|  2|060375326041|2020-02-07T00:00:...|2020-02-08T00:00:...|          31|                       6670|      {\"16001-50000\":2,...|                      {\"16001-50000\":22...|                           4|                   693|    {\"721-1080\":7,\"36...|[23,20,25,20,20,2...|                              6|                              2|{\"060379800311\":1...|                        5|                       268|                    71|        {\"21-45\":1,\"481-5...|                         66|         {\"0-25\":6,\"76-100...|\n",
            "|  3|060375544031|2020-02-07T00:00:...|2020-02-08T00:00:...|         130|                       7054|      {\"16001-50000\":16...|                      {\"16001-50000\":71...|                          27|                   630|    {\"721-1080\":25,\"3...|[79,77,79,74,76,7...|                             16|                             10|{\"060376700012\":1...|                        5|                       187|                   295|        {\"21-45\":2,\"481-5...|                         69|         {\"26-50\":6,\"51-75...|\n",
            "|  4|060375718003|2020-02-07T00:00:...|2020-02-08T00:00:...|          35|                       4900|      {\"16001-50000\":3,...|                      {\"16001-50000\":12...|                          10|                   684|    {\"721-1080\":5,\"36...|[20,19,17,18,23,1...|                              4|                              1|{\"060376210011\":1...|                        1|                       217|                    52|        {\"21-45\":1,\"481-5...|                         75|         {\"0-25\":3,\"76-100...|\n",
            "|  5|060590018024|2020-02-07T00:00:...|2020-02-08T00:00:...|          38|                       4466|      {\"16001-50000\":3,...|                      {\"16001-50000\":14...|                          13|                   550|    {\"721-1080\":9,\"36...|[27,26,27,28,26,2...|                              7|                              4|{\"060590740051\":1...|                        4|                       258|                    94|        {\"481-540\":2,\"541...|                         61|         {\"0-25\":4,\"76-100...|\n",
            "|  6|060590320463|2020-02-07T00:00:...|2020-02-08T00:00:...|         184|                       8950|      {\"16001-50000\":31...|                      {\"16001-50000\":90...|                          24|                   757|    {\"721-1080\":62,\"3...|[130,131,129,130,...|                             38|                             12|{\"060374084023\":1...|                       13|                       281|                   239|        {\"21-45\":6,\"481-5...|                         71|         {\"26-50\":17,\"51-7...|\n",
            "|  7|060590626281|2020-02-07T00:00:...|2020-02-08T00:00:...|         108|                       7471|      {\"16001-50000\":3,...|                      {\"16001-50000\":28...|                          32|                   107|    {\"721-1080\":8,\"36...|[45,39,39,41,40,4...|                              9|                              1|{\"040131141001\":1...|                        1|                        49|                   424|        {\"21-45\":10,\"481-...|                         77|         {\"0-25\":40,\"76-10...|\n",
            "|  8|060371374011|2020-02-07T00:00:...|2020-02-08T00:00:...|          72|                       3404|      {\"16001-50000\":1,...|                      {\"16001-50000\":18...|                          30|                   498|    {\"721-1080\":12,\"3...|[42,39,40,41,39,3...|                              3|                              1|{\"060371374022\":1...|                        1|                        26|                   194|        {\"21-45\":5,\"481-5...|                         90|         {\"26-50\":1,\"51-75...|\n",
            "|  9|060372398012|2020-02-07T00:00:...|2020-02-08T00:00:...|          41|                       7322|      {\"16001-50000\":4,...|                      {\"16001-50000\":96...|                          15|                   662|    {\"721-1080\":4,\"36...|[24,26,25,27,26,2...|                              1|                              4|{\"060372286001\":2...|                        1|                       102|                   132|        {\"21-45\":1,\"481-5...|                         85|         {\"0-25\":10,\"76-10...|\n",
            "| 10|060373009011|2020-02-07T00:00:...|2020-02-08T00:00:...|          82|                       7465|      {\"16001-50000\":6,...|                      {\"16001-50000\":39...|                          20|                   820|    {\"721-1080\":28,\"3...|[66,61,62,63,63,6...|                             16|                              6|{\"060374309012\":1...|                        2|                       191|                   134|        {\"21-45\":3,\"481-5...|                         74|         {\"26-50\":1,\"51-75...|\n",
            "| 11|060375418021|2020-02-07T00:00:...|2020-02-08T00:00:...|          49|                       6274|      {\"16001-50000\":2,...|                      {\"16001-50000\":44...|                          12|                   635|    {\"721-1080\":11,\"3...|[27,27,27,26,27,3...|                              3|                              4|{\"060375514021\":1...|                        3|                       222|                   125|        {\"21-45\":3,\"481-5...|                         75|         {\"26-50\":5,\"51-75...|\n",
            "| 12|060375431003|2020-02-07T00:00:...|2020-02-08T00:00:...|          37|                       7095|      {\"16001-50000\":2,...|                      {\"16001-50000\":36...|                           5|                   686|    {\"721-1080\":9,\"36...|[21,25,23,23,21,2...|                              1|                              2|{\"060372151011\":1...|                        3|                       211|                    88|        {\"21-45\":2,\"481-5...|                         67|         {\"0-25\":10,\"76-10...|\n",
            "| 13|060376012021|2020-02-07T00:00:...|2020-02-08T00:00:...|          56|                       3709|      {\"16001-50000\":3,...|                      {\"16001-50000\":82...|                          14|                   749|    {\"721-1080\":15,\"3...|[37,35,38,36,32,3...|                              1|                              4|{\"060371046201\":1...|                        1|                       147|                   129|        {\"21-45\":1,\"481-5...|                         80|         {\"26-50\":6,\"51-75...|\n",
            "| 14|060379800211|2020-02-07T00:00:...|2020-02-08T00:00:...|          50|                       9433|      {\"16001-50000\":6,...|                      {\"16001-50000\":50...|                           3|                     0|    {\">1080\":1,\"<60\":...|[1,4,3,2,2,1,2,2,...|                              3|                              1|{\"060371012202\":1...|                        1|                       117|                   186|        {\"21-45\":7,\"481-5...|                          0|         {\"0-25\":41,\"76-10...|\n",
            "| 15|060590871034|2020-02-07T00:00:...|2020-02-08T00:00:...|          88|                       2583|      {\"16001-50000\":5,...|                      {\"16001-50000\":81...|                          30|                   687|    {\"721-1080\":12,\"3...|[55,54,57,56,53,5...|                              7|                              8|{\"060375552121\":1...|                        3|                       123|                   202|        {\"21-45\":1,\"481-5...|                         80|         {\"26-50\":10,\"51-7...|\n",
            "| 16|060372713005|2020-02-07T00:00:...|2020-02-08T00:00:...|          30|                       4601|      {\"16001-50000\":5,...|                      {\"16001-50000\":32...|                           3|                   734|    {\"721-1080\":7,\"36...|[20,18,23,18,18,1...|                              2|                              2|{\"060070006041\":1...|                        1|                       297|                    61|        {\"21-45\":4,\"481-5...|                         70|         {\"0-25\":9,\"76-100...|\n",
            "| 17|060372766041|2020-02-07T00:00:...|2020-02-08T00:00:...|         137|                       4947|      {\"16001-50000\":16...|                      {\"16001-50000\":80...|                          24|                   662|    {\"721-1080\":37,\"3...|[83,84,87,81,85,8...|                             20|                              8|{\"060375439031\":2...|                        4|                       223|                   246|        {\"21-45\":6,\"481-5...|                         70|         {\"0-25\":18,\"76-10...|\n",
            "| 18|060374334012|2020-02-07T00:00:...|2020-02-08T00:00:...|          35|                       5940|      {\"16001-50000\":7,...|                      {\"16001-50000\":10...|                           6|                   722|    {\"721-1080\":9,\"36...|[21,21,19,19,24,1...|                              6|                              2|{\"060374334012\":2...|                        1|                       338|                    77|        {\"21-45\":1,\"481-5...|                         67|         {\"26-50\":3,\"51-75...|\n",
            "| 19|060375017003|2020-02-07T00:00:...|2020-02-08T00:00:...|          38|                       3849|      {\"16001-50000\":5,...|                      {\"16001-50000\":22...|                           6|                   710|    {\"721-1080\":13,\"3...|[27,26,27,30,28,2...|                              4|                              1|{\"060374086253\":1...|                        1|                       315|                    95|        {\"21-45\":1,\"481-5...|                         73|         {\"0-25\":4,\"76-100...|\n",
            "+---+------------+--------------------+--------------------+------------+---------------------------+--------------------------+------------------------------------------+----------------------------+----------------------+------------------------+--------------------+-------------------------------+-------------------------------+--------------------+-------------------------+--------------------------+----------------------+----------------------------+---------------------------+-----------------------------+\n",
            "only showing top 20 rows\n",
            "\n",
            "time: 7.42 s (started: 2021-04-15 22:36:38 +00:00)\n"
          ],
          "name": "stdout"
        }
      ]
    },
    {
      "cell_type": "code",
      "metadata": {
        "colab": {
          "base_uri": "https://localhost:8080/"
        },
        "id": "9fgHRKKEz-cA",
        "outputId": "f348bf85-c244-4391-e55e-6bf80bcf5e44"
      },
      "source": [
        "# View schema\n",
        "df_soc.printSchema()"
      ],
      "execution_count": 68,
      "outputs": [
        {
          "output_type": "stream",
          "text": [
            "root\n",
            " |-- _c0: string (nullable = true)\n",
            " |-- cbg: string (nullable = true)\n",
            " |-- date_range_start: string (nullable = true)\n",
            " |-- date_range_end: string (nullable = true)\n",
            " |-- device_count: string (nullable = true)\n",
            " |-- distance_traveled_from_home: string (nullable = true)\n",
            " |-- bucketed_distance_traveled: string (nullable = true)\n",
            " |-- median_dwell_at_bucketed_distance_traveled: string (nullable = true)\n",
            " |-- completely_home_device_count: string (nullable = true)\n",
            " |-- median_home_dwell_time: string (nullable = true)\n",
            " |-- bucketed_home_dwell_time: string (nullable = true)\n",
            " |-- at_home_by_each_hour: string (nullable = true)\n",
            " |-- part_time_work_behavior_devices: string (nullable = true)\n",
            " |-- full_time_work_behavior_devices: string (nullable = true)\n",
            " |-- destination_cbgs: string (nullable = true)\n",
            " |-- delivery_behavior_devices: string (nullable = true)\n",
            " |-- median_non_home_dwell_time: string (nullable = true)\n",
            " |-- candidate_device_count: string (nullable = true)\n",
            " |-- bucketed_away_from_home_time: string (nullable = true)\n",
            " |-- median_percentage_time_home: string (nullable = true)\n",
            " |-- bucketed_percentage_time_home: string (nullable = true)\n",
            "\n",
            "time: 6.35 ms (started: 2021-04-15 22:36:45 +00:00)\n"
          ],
          "name": "stdout"
        }
      ]
    },
    {
      "cell_type": "code",
      "metadata": {
        "id": "AlbhBqMUxjVa",
        "colab": {
          "base_uri": "https://localhost:8080/"
        },
        "outputId": "41d8d60b-8de8-4c9f-f868-4124954450d7"
      },
      "source": [
        "# # Take small sample of data to experiment with\n",
        "# df_soc = df_soc.limit(100)\n",
        "# df_soc.show()"
      ],
      "execution_count": 69,
      "outputs": [
        {
          "output_type": "stream",
          "text": [
            "time: 1.7 ms (started: 2021-04-15 22:36:45 +00:00)\n"
          ],
          "name": "stdout"
        }
      ]
    },
    {
      "cell_type": "code",
      "metadata": {
        "colab": {
          "base_uri": "https://localhost:8080/"
        },
        "id": "wh747sqcHi4-",
        "outputId": "73c21fe9-b5d4-49f4-a44b-ca1a235703d0"
      },
      "source": [
        "df_soc.createOrReplaceTempView('clean_la')\n",
        "df_soc = spark.sql('SELECT cbg, date_range_start as date, device_count, completely_home_device_count, part_time_work_behavior_devices, full_time_work_behavior_devices FROM clean_la WHERE device_count > 5')\n",
        "df_soc.show()"
      ],
      "execution_count": 70,
      "outputs": [
        {
          "output_type": "stream",
          "text": [
            "+------------+--------------------+------------+----------------------------+-------------------------------+-------------------------------+\n",
            "|         cbg|                date|device_count|completely_home_device_count|part_time_work_behavior_devices|full_time_work_behavior_devices|\n",
            "+------------+--------------------+------------+----------------------------+-------------------------------+-------------------------------+\n",
            "|060371831013|2020-02-07T00:00:...|          45|                           6|                              1|                              1|\n",
            "|060374034022|2020-02-07T00:00:...|         155|                          24|                             12|                              4|\n",
            "|060375326041|2020-02-07T00:00:...|          31|                           4|                              6|                              2|\n",
            "|060375544031|2020-02-07T00:00:...|         130|                          27|                             16|                             10|\n",
            "|060375718003|2020-02-07T00:00:...|          35|                          10|                              4|                              1|\n",
            "|060590018024|2020-02-07T00:00:...|          38|                          13|                              7|                              4|\n",
            "|060590320463|2020-02-07T00:00:...|         184|                          24|                             38|                             12|\n",
            "|060590626281|2020-02-07T00:00:...|         108|                          32|                              9|                              1|\n",
            "|060371374011|2020-02-07T00:00:...|          72|                          30|                              3|                              1|\n",
            "|060372398012|2020-02-07T00:00:...|          41|                          15|                              1|                              4|\n",
            "|060373009011|2020-02-07T00:00:...|          82|                          20|                             16|                              6|\n",
            "|060375418021|2020-02-07T00:00:...|          49|                          12|                              3|                              4|\n",
            "|060375431003|2020-02-07T00:00:...|          37|                           5|                              1|                              2|\n",
            "|060376012021|2020-02-07T00:00:...|          56|                          14|                              1|                              4|\n",
            "|060379800211|2020-02-07T00:00:...|          50|                           3|                              3|                              1|\n",
            "|060590871034|2020-02-07T00:00:...|          88|                          30|                              7|                              8|\n",
            "|060372713005|2020-02-07T00:00:...|          30|                           3|                              2|                              2|\n",
            "|060372766041|2020-02-07T00:00:...|         137|                          24|                             20|                              8|\n",
            "|060374334012|2020-02-07T00:00:...|          35|                           6|                              6|                              2|\n",
            "|060375017003|2020-02-07T00:00:...|          38|                           6|                              4|                              1|\n",
            "+------------+--------------------+------------+----------------------------+-------------------------------+-------------------------------+\n",
            "only showing top 20 rows\n",
            "\n",
            "time: 137 ms (started: 2021-04-15 22:36:45 +00:00)\n"
          ],
          "name": "stdout"
        }
      ]
    },
    {
      "cell_type": "code",
      "metadata": {
        "colab": {
          "base_uri": "https://localhost:8080/"
        },
        "id": "AsEegEtNyYZr",
        "outputId": "96472b1a-36c5-4889-f4e6-bfaff6c10075"
      },
      "source": [
        "# View schema\n",
        "df_soc.printSchema()"
      ],
      "execution_count": 71,
      "outputs": [
        {
          "output_type": "stream",
          "text": [
            "root\n",
            " |-- cbg: string (nullable = true)\n",
            " |-- date: string (nullable = true)\n",
            " |-- device_count: string (nullable = true)\n",
            " |-- completely_home_device_count: string (nullable = true)\n",
            " |-- part_time_work_behavior_devices: string (nullable = true)\n",
            " |-- full_time_work_behavior_devices: string (nullable = true)\n",
            "\n",
            "time: 11.2 ms (started: 2021-04-15 22:36:45 +00:00)\n"
          ],
          "name": "stdout"
        }
      ]
    },
    {
      "cell_type": "code",
      "metadata": {
        "colab": {
          "base_uri": "https://localhost:8080/"
        },
        "id": "UL4qIhZu7JKC",
        "outputId": "670076b2-7942-4858-97a1-88b37ae6e8ba"
      },
      "source": [
        "# Add completely home percentage column\n",
        "df_soc = df_soc.withColumn('completely_home_percentage', (df_soc['completely_home_device_count']/df_soc['device_count']) * 100)\n",
        "df_soc = df_soc.withColumn('part_time_work_percentage', (df_soc['part_time_work_behavior_devices']/df_soc['device_count']) * 100)\n",
        "df_soc = df_soc.withColumn('full_time_work_percentage', (df_soc['full_time_work_behavior_devices']/df_soc['device_count']) * 100)\n",
        "\n",
        "df_soc.show()"
      ],
      "execution_count": 72,
      "outputs": [
        {
          "output_type": "stream",
          "text": [
            "+------------+--------------------+------------+----------------------------+-------------------------------+-------------------------------+--------------------------+-------------------------+-------------------------+\n",
            "|         cbg|                date|device_count|completely_home_device_count|part_time_work_behavior_devices|full_time_work_behavior_devices|completely_home_percentage|part_time_work_percentage|full_time_work_percentage|\n",
            "+------------+--------------------+------------+----------------------------+-------------------------------+-------------------------------+--------------------------+-------------------------+-------------------------+\n",
            "|060371831013|2020-02-07T00:00:...|          45|                           6|                              1|                              1|        13.333333333333334|       2.2222222222222223|       2.2222222222222223|\n",
            "|060374034022|2020-02-07T00:00:...|         155|                          24|                             12|                              4|        15.483870967741936|        7.741935483870968|       2.5806451612903225|\n",
            "|060375326041|2020-02-07T00:00:...|          31|                           4|                              6|                              2|        12.903225806451612|        19.35483870967742|        6.451612903225806|\n",
            "|060375544031|2020-02-07T00:00:...|         130|                          27|                             16|                             10|         20.76923076923077|       12.307692307692308|       7.6923076923076925|\n",
            "|060375718003|2020-02-07T00:00:...|          35|                          10|                              4|                              1|         28.57142857142857|       11.428571428571429|        2.857142857142857|\n",
            "|060590018024|2020-02-07T00:00:...|          38|                          13|                              7|                              4|         34.21052631578947|       18.421052631578945|       10.526315789473683|\n",
            "|060590320463|2020-02-07T00:00:...|         184|                          24|                             38|                             12|        13.043478260869565|       20.652173913043477|        6.521739130434782|\n",
            "|060590626281|2020-02-07T00:00:...|         108|                          32|                              9|                              1|        29.629629629629626|        8.333333333333332|       0.9259259259259258|\n",
            "|060371374011|2020-02-07T00:00:...|          72|                          30|                              3|                              1|         41.66666666666667|        4.166666666666666|       1.3888888888888888|\n",
            "|060372398012|2020-02-07T00:00:...|          41|                          15|                              1|                              4|         36.58536585365854|       2.4390243902439024|         9.75609756097561|\n",
            "|060373009011|2020-02-07T00:00:...|          82|                          20|                             16|                              6|        24.390243902439025|        19.51219512195122|        7.317073170731707|\n",
            "|060375418021|2020-02-07T00:00:...|          49|                          12|                              3|                              4|        24.489795918367346|        6.122448979591836|         8.16326530612245|\n",
            "|060375431003|2020-02-07T00:00:...|          37|                           5|                              1|                              2|        13.513513513513514|       2.7027027027027026|        5.405405405405405|\n",
            "|060376012021|2020-02-07T00:00:...|          56|                          14|                              1|                              4|                      25.0|       1.7857142857142856|        7.142857142857142|\n",
            "|060379800211|2020-02-07T00:00:...|          50|                           3|                              3|                              1|                       6.0|                      6.0|                      2.0|\n",
            "|060590871034|2020-02-07T00:00:...|          88|                          30|                              7|                              8|        34.090909090909086|        7.954545454545454|        9.090909090909092|\n",
            "|060372713005|2020-02-07T00:00:...|          30|                           3|                              2|                              2|                      10.0|        6.666666666666667|        6.666666666666667|\n",
            "|060372766041|2020-02-07T00:00:...|         137|                          24|                             20|                              8|         17.51824817518248|         14.5985401459854|        5.839416058394161|\n",
            "|060374334012|2020-02-07T00:00:...|          35|                           6|                              6|                              2|        17.142857142857142|       17.142857142857142|        5.714285714285714|\n",
            "|060375017003|2020-02-07T00:00:...|          38|                           6|                              4|                              1|        15.789473684210526|       10.526315789473683|        2.631578947368421|\n",
            "+------------+--------------------+------------+----------------------------+-------------------------------+-------------------------------+--------------------------+-------------------------+-------------------------+\n",
            "only showing top 20 rows\n",
            "\n",
            "time: 280 ms (started: 2021-04-15 22:36:45 +00:00)\n"
          ],
          "name": "stdout"
        }
      ]
    },
    {
      "cell_type": "code",
      "metadata": {
        "colab": {
          "base_uri": "https://localhost:8080/"
        },
        "id": "U8Dh3u54x-Rw",
        "outputId": "f1fa3c01-70a9-445e-89ca-e86e5b1aa8fe"
      },
      "source": [
        "df_soc.printSchema()"
      ],
      "execution_count": 73,
      "outputs": [
        {
          "output_type": "stream",
          "text": [
            "root\n",
            " |-- cbg: string (nullable = true)\n",
            " |-- date: string (nullable = true)\n",
            " |-- device_count: string (nullable = true)\n",
            " |-- completely_home_device_count: string (nullable = true)\n",
            " |-- part_time_work_behavior_devices: string (nullable = true)\n",
            " |-- full_time_work_behavior_devices: string (nullable = true)\n",
            " |-- completely_home_percentage: double (nullable = true)\n",
            " |-- part_time_work_percentage: double (nullable = true)\n",
            " |-- full_time_work_percentage: double (nullable = true)\n",
            "\n",
            "time: 3.95 ms (started: 2021-04-15 22:36:46 +00:00)\n"
          ],
          "name": "stdout"
        }
      ]
    },
    {
      "cell_type": "code",
      "metadata": {
        "id": "RPfbxzHZMQpg"
      },
      "source": [
        ""
      ],
      "execution_count": 73,
      "outputs": []
    },
    {
      "cell_type": "code",
      "metadata": {
        "colab": {
          "base_uri": "https://localhost:8080/"
        },
        "id": "OAUIODseCoSg",
        "outputId": "c2b245b8-acfe-43b0-df25-d6bee44a8e09"
      },
      "source": [
        "#Create temp view\n",
        "df_soc.createOrReplaceTempView('mobility')"
      ],
      "execution_count": 74,
      "outputs": [
        {
          "output_type": "stream",
          "text": [
            "time: 12 ms (started: 2021-04-15 22:36:46 +00:00)\n"
          ],
          "name": "stdout"
        }
      ]
    },
    {
      "cell_type": "code",
      "metadata": {
        "id": "J0QElXxFMFP1"
      },
      "source": [
        ""
      ],
      "execution_count": 74,
      "outputs": []
    },
    {
      "cell_type": "markdown",
      "metadata": {
        "id": "Sj4xc1gTpm2X"
      },
      "source": [
        "\n",
        "\n",
        "---\n",
        "\n",
        "\n",
        "demographic data\n",
        "\n",
        "\n",
        "\n",
        "\n",
        "\n",
        "\n",
        "---\n",
        "\n"
      ]
    },
    {
      "cell_type": "code",
      "metadata": {
        "colab": {
          "base_uri": "https://localhost:8080/"
        },
        "id": "1SVVsXtuzqRf",
        "outputId": "07f2a664-2528-49c6-99e0-c3bd529db900"
      },
      "source": [
        "# Read poverty data\n",
        "# Read data into RDD\n",
        "df_demographic = spark.read.format('csv').option('header','true').option('quote',\"\\\"\").option('escape',\"\\\"\").load(str(path/city/'la.csv'))\n",
        "df_demographic.createOrReplaceTempView('demographic')\n",
        "df_demographic.show()"
      ],
      "execution_count": 75,
      "outputs": [
        {
          "output_type": "stream",
          "text": [
            "+------------+---------+------------------+------------------+\n",
            "|         cbg|pop_total|poverty_percentage|    perc_whiteonly|\n",
            "+------------+---------+------------------+------------------+\n",
            "|060373104003|     1286|17.884914463452567| 69.51788491446345|\n",
            "|060590865023|     2545|22.789783889980352| 85.34381139489194|\n",
            "|060376510024|     1285|               0.0|42.490272373540854|\n",
            "|060376511011|     2708| 7.745398773006134| 50.70162481536189|\n",
            "|060590994023|      672|12.969283276450511| 38.54166666666667|\n",
            "|060590995094|      342| 17.83625730994152| 77.48538011695906|\n",
            "|060376511012|     2483|2.6178010471204187|50.302053966975436|\n",
            "|060376512011|      859|2.8846153846153846| 82.42142025611176|\n",
            "|060376512012|     1179| 1.441899915182358|  74.1306191687871|\n",
            "|060376512014|      989|2.4266936299292214| 70.57633973710819|\n",
            "|060376512211|     3373|  9.95684340320592| 40.61666172546695|\n",
            "|060590995092|      938| 5.756929637526652|  84.9680170575693|\n",
            "|060590995095|      576|14.583333333333334|           73.4375|\n",
            "|060590995113|      577|10.918544194107453| 97.22703639514731|\n",
            "|060372164011|     2111|15.016579819990525| 82.42539081004263|\n",
            "|060372164012|     2315| 16.54427645788337| 79.87041036717063|\n",
            "|060372164021|     1611| 7.759155803848541| 80.57107386716325|\n",
            "|060375773004|     1501|10.459693537641572|   82.145236508994|\n",
            "|060375768021|     2320|16.786678667866788|61.594827586206904|\n",
            "|060375744006|      708|1.1299435028248588| 88.84180790960453|\n",
            "+------------+---------+------------------+------------------+\n",
            "only showing top 20 rows\n",
            "\n",
            "time: 377 ms (started: 2021-04-15 22:36:46 +00:00)\n"
          ],
          "name": "stdout"
        }
      ]
    },
    {
      "cell_type": "code",
      "metadata": {
        "colab": {
          "base_uri": "https://localhost:8080/"
        },
        "id": "Ff9bk8_6qBQ2",
        "outputId": "80580c89-519a-48a9-a79a-acd4607c8c6e"
      },
      "source": [
        "df_mob_demo = spark.sql('SELECT mobility.*, demographic.poverty_percentage from mobility INNER JOIN demographic ON mobility.cbg = demographic.cbg')\n",
        "df_mob_demo.createOrReplaceTempView('demographic_mobility')\n",
        "df_mob_demo.show()\n"
      ],
      "execution_count": 76,
      "outputs": [
        {
          "output_type": "stream",
          "text": [
            "+------------+--------------------+------------+----------------------------+-------------------------------+-------------------------------+--------------------------+-------------------------+-------------------------+------------------+\n",
            "|         cbg|                date|device_count|completely_home_device_count|part_time_work_behavior_devices|full_time_work_behavior_devices|completely_home_percentage|part_time_work_percentage|full_time_work_percentage|poverty_percentage|\n",
            "+------------+--------------------+------------+----------------------------+-------------------------------+-------------------------------+--------------------------+-------------------------+-------------------------+------------------+\n",
            "|060371831013|2020-02-07T00:00:...|          45|                           6|                              1|                              1|        13.333333333333334|       2.2222222222222223|       2.2222222222222223|15.450643776824036|\n",
            "|060374034022|2020-02-07T00:00:...|         155|                          24|                             12|                              4|        15.483870967741936|        7.741935483870968|       2.5806451612903225| 10.67193675889328|\n",
            "|060375326041|2020-02-07T00:00:...|          31|                           4|                              6|                              2|        12.903225806451612|        19.35483870967742|        6.451612903225806| 27.79187817258883|\n",
            "|060375544031|2020-02-07T00:00:...|         130|                          27|                             16|                             10|         20.76923076923077|       12.307692307692308|       7.6923076923076925|  25.3447633246366|\n",
            "|060375718003|2020-02-07T00:00:...|          35|                          10|                              4|                              1|         28.57142857142857|       11.428571428571429|        2.857142857142857|3.1537450722733245|\n",
            "|060590018024|2020-02-07T00:00:...|          38|                          13|                              7|                              4|         34.21052631578947|       18.421052631578945|       10.526315789473683|29.130434782608695|\n",
            "|060590320463|2020-02-07T00:00:...|         184|                          24|                             38|                             12|        13.043478260869565|       20.652173913043477|        6.521739130434782|3.0450132391879965|\n",
            "|060590626281|2020-02-07T00:00:...|         108|                          32|                              9|                              1|        29.629629629629626|        8.333333333333332|       0.9259259259259258|12.167606768734892|\n",
            "|060371374011|2020-02-07T00:00:...|          72|                          30|                              3|                              1|         41.66666666666667|        4.166666666666666|       1.3888888888888888|  2.89193302891933|\n",
            "|060372398012|2020-02-07T00:00:...|          41|                          15|                              1|                              4|         36.58536585365854|       2.4390243902439024|         9.75609756097561|36.773090079817564|\n",
            "|060373009011|2020-02-07T00:00:...|          82|                          20|                             16|                              6|        24.390243902439025|        19.51219512195122|        7.317073170731707|6.4561403508771935|\n",
            "|060375418021|2020-02-07T00:00:...|          49|                          12|                              3|                              4|        24.489795918367346|        6.122448979591836|         8.16326530612245|27.102803738317753|\n",
            "|060375431003|2020-02-07T00:00:...|          37|                           5|                              1|                              2|        13.513513513513514|       2.7027027027027026|        5.405405405405405|3.3410138248847927|\n",
            "|060376012021|2020-02-07T00:00:...|          56|                          14|                              1|                              4|                      25.0|       1.7857142857142856|        7.142857142857142|28.826815642458097|\n",
            "|060379800211|2020-02-07T00:00:...|          50|                           3|                              3|                              1|                       6.0|                      6.0|                      2.0|               0.0|\n",
            "|060590871034|2020-02-07T00:00:...|          88|                          30|                              7|                              8|        34.090909090909086|        7.954545454545454|        9.090909090909092|10.621468926553671|\n",
            "|060372713005|2020-02-07T00:00:...|          30|                           3|                              2|                              2|                      10.0|        6.666666666666667|        6.666666666666667|  8.47255369928401|\n",
            "|060372766041|2020-02-07T00:00:...|         137|                          24|                             20|                              8|         17.51824817518248|         14.5985401459854|        5.839416058394161| 21.44736842105263|\n",
            "|060374334012|2020-02-07T00:00:...|          35|                           6|                              6|                              2|        17.142857142857142|       17.142857142857142|        5.714285714285714| 12.63408820023838|\n",
            "|060375017003|2020-02-07T00:00:...|          38|                           6|                              4|                              1|        15.789473684210526|       10.526315789473683|        2.631578947368421| 7.543103448275862|\n",
            "+------------+--------------------+------------+----------------------------+-------------------------------+-------------------------------+--------------------------+-------------------------+-------------------------+------------------+\n",
            "only showing top 20 rows\n",
            "\n",
            "time: 390 ms (started: 2021-04-15 22:36:46 +00:00)\n"
          ],
          "name": "stdout"
        }
      ]
    },
    {
      "cell_type": "code",
      "metadata": {
        "colab": {
          "base_uri": "https://localhost:8080/"
        },
        "id": "SsIF36yhIKXX",
        "outputId": "94c3c525-be9f-4b6e-f91b-25282cac015a"
      },
      "source": [
        "\n",
        "#grouped_df_mob_demo.show()"
      ],
      "execution_count": 77,
      "outputs": [
        {
          "output_type": "stream",
          "text": [
            "time: 695 µs (started: 2021-04-15 22:36:46 +00:00)\n"
          ],
          "name": "stdout"
        }
      ]
    },
    {
      "cell_type": "code",
      "metadata": {
        "colab": {
          "base_uri": "https://localhost:8080/"
        },
        "id": "EM0Wy0Cg37iH",
        "outputId": "6adf2dcf-f492-4b42-b8f4-a0b9c251a3b9"
      },
      "source": [
        "# Count number of rows\n",
        "#spark.sql('SELECT COUNT(cbg) FROM demographic_mobility').show()"
      ],
      "execution_count": 78,
      "outputs": [
        {
          "output_type": "stream",
          "text": [
            "time: 1.33 ms (started: 2021-04-15 22:36:46 +00:00)\n"
          ],
          "name": "stdout"
        }
      ]
    },
    {
      "cell_type": "code",
      "metadata": {
        "id": "Fui4TVwTtQJV",
        "colab": {
          "base_uri": "https://localhost:8080/"
        },
        "outputId": "1e2406e3-367d-4ae7-9063-d11b41d8f06c"
      },
      "source": [
        "# DIVIDING THE POPULATION IN 3 GROUPS \n",
        "\n",
        "# df_mob_demo_high_class =  spark.sql('SELECT * FROM demographic_mobility WHERE poverty_percentage < 30')\n",
        "# grouped_df_mob_demo_high_class = df_mob_demo_high_class.groupBy(\"date\").mean(\"completely_home_percentage\").withColumnRenamed('avg(completely_home_percentage)','completely_home_percentage')\n",
        "# grouped_df_mob_demo_high_class.createOrReplaceTempView('mob_demo_high_class')\n",
        "\n",
        "\n",
        "# #grouped_df_mob_demo_high_class.printSchema()\n",
        "\n",
        "\n",
        "# df_mob_demo_middle_class =  spark.sql('SELECT * FROM demographic_mobility WHERE poverty_percentage >= 30 AND poverty_percentage < 70 ')\n",
        "# grouped_df_mob_demo_middle_class = df_mob_demo_middle_class.groupBy(\"date\").mean(\"completely_home_percentage\").withColumnRenamed('avg(completely_home_percentage)','completely_home_percentage')\n",
        "# grouped_df_mob_demo_middle_class.createOrReplaceTempView('mob_demo_middle_class')\n",
        "\n",
        "\n",
        "# df_mob_demo_low_class =  spark.sql('SELECT * FROM demographic_mobility WHERE poverty_percentage >= 70')\n",
        "# grouped_df_mob_demo_low_class = df_mob_demo_low_class.groupBy(\"date\").mean(\"completely_home_percentage\").withColumnRenamed('avg(completely_home_percentage)','completely_home_percentage')\n",
        "# grouped_df_mob_demo_low_class.createOrReplaceTempView('mob_demo_low_class')\n",
        "\n",
        "# #df_mob_demo_merhed = spark.sql('SELECT h.*, m.')\n",
        "\n",
        "\n",
        "# grouped_df_mob_demo_combined = spark.sql(\"\"\"\n",
        "\n",
        "# SELECT h.date,h.completely_home_percentage as high_comp_home_perc,\n",
        "# m.completely_home_percentage as middle_comp_home_perc,\n",
        "# l.completely_home_percentage as low_comp_home_perc  \n",
        "# FROM mob_demo_high_class h INNER JOIN mob_demo_middle_class m ON h.date = m.date INNER JOIN mob_demo_low_class l ON m.date = l.date\n",
        "\n",
        "# \"\"\")\n",
        "\n"
      ],
      "execution_count": 79,
      "outputs": [
        {
          "output_type": "stream",
          "text": [
            "time: 16.1 ms (started: 2021-04-15 22:36:46 +00:00)\n"
          ],
          "name": "stdout"
        }
      ]
    },
    {
      "cell_type": "code",
      "metadata": {
        "id": "6vFzCEtNukZy",
        "colab": {
          "base_uri": "https://localhost:8080/"
        },
        "outputId": "435d8a02-9dfb-4499-d258-382d5a009893"
      },
      "source": [
        "# DIVIDING THE PEOPLE TOP 20 PERCENT AND BOTTOM 20 PERCENT\n",
        "\n",
        "df_mob_demo_high_class =  spark.sql('SELECT * FROM demographic_mobility WHERE poverty_percentage < 20')\n",
        "grouped_df_mob_demo_high_class = df_mob_demo_high_class.groupBy(\"date\").mean(\"completely_home_percentage\").withColumnRenamed('avg(completely_home_percentage)','completely_home_percentage')\n",
        "grouped_df_mob_demo_high_class.createOrReplaceTempView('mob_demo_high_class')\n",
        "\n",
        "\n",
        "#grouped_df_mob_demo_high_class.printSchema()\n",
        "\n",
        "\n",
        "# df_mob_demo_middle_class =  spark.sql('SELECT * FROM demographic_mobility WHERE poverty_percentage >= 30 AND poverty_percentage < 70 ')\n",
        "# grouped_df_mob_demo_middle_class = df_mob_demo_middle_class.groupBy(\"date\").mean(\"completely_home_percentage\").withColumnRenamed('avg(completely_home_percentage)','completely_home_percentage')\n",
        "# grouped_df_mob_demo_middle_class.createOrReplaceTempView('mob_demo_middle_class')\n",
        "\n",
        "\n",
        "df_mob_demo_low_class =  spark.sql('SELECT * FROM demographic_mobility WHERE poverty_percentage > 80')\n",
        "grouped_df_mob_demo_low_class = df_mob_demo_low_class.groupBy(\"date\").mean(\"completely_home_percentage\").withColumnRenamed('avg(completely_home_percentage)','completely_home_percentage')\n",
        "grouped_df_mob_demo_low_class.createOrReplaceTempView('mob_demo_low_class')\n",
        "\n",
        "#df_mob_demo_merhed = spark.sql('SELECT h.*, m.')\n",
        "\n",
        "\n",
        "grouped_df_mob_demo_combined = spark.sql(\"\"\"\n",
        "\n",
        "SELECT h.date,h.completely_home_percentage as high_comp_home_perc,\n",
        "l.completely_home_percentage as low_comp_home_perc  \n",
        "FROM mob_demo_high_class h INNER JOIN mob_demo_low_class l ON h.date = l.date\n",
        "\n",
        "\"\"\")\n"
      ],
      "execution_count": 80,
      "outputs": [
        {
          "output_type": "stream",
          "text": [
            "time: 138 ms (started: 2021-04-15 22:36:46 +00:00)\n"
          ],
          "name": "stdout"
        }
      ]
    },
    {
      "cell_type": "code",
      "metadata": {
        "colab": {
          "base_uri": "https://localhost:8080/"
        },
        "id": "Sc7a6I2F6lA8",
        "outputId": "a6c8111c-110d-44f5-c411-8550616f750d"
      },
      "source": [
        "#Sort by poverty\n",
        "# df_mob_demo = spark.sql('SELECT * FROM demographic_mobility ORDER BY CAST(poverty_percentage AS float) DESC')\n",
        "# df_mob_demo.createOrReplaceTempView('demographic_mobility')\n",
        "# df_mob_demo.show()"
      ],
      "execution_count": 81,
      "outputs": [
        {
          "output_type": "stream",
          "text": [
            "time: 1.5 ms (started: 2021-04-15 22:36:47 +00:00)\n"
          ],
          "name": "stdout"
        }
      ]
    },
    {
      "cell_type": "code",
      "metadata": {
        "id": "oEvvbPFXJG_g",
        "colab": {
          "base_uri": "https://localhost:8080/"
        },
        "outputId": "831ce09e-9bc4-4c1d-cf1c-40280d28c7b8"
      },
      "source": [
        "#grouped_df_mob_demo_combined.show()\n"
      ],
      "execution_count": 82,
      "outputs": [
        {
          "output_type": "stream",
          "text": [
            "time: 1.26 ms (started: 2021-04-15 22:36:47 +00:00)\n"
          ],
          "name": "stdout"
        }
      ]
    },
    {
      "cell_type": "code",
      "metadata": {
        "colab": {
          "base_uri": "https://localhost:8080/"
        },
        "id": "X4pxaYgQx3I4",
        "outputId": "ec00ae23-fd39-44de-f0e5-e5436bcf131c"
      },
      "source": [
        "#count = grouped_df_mob_demo_combined.count()"
      ],
      "execution_count": 83,
      "outputs": [
        {
          "output_type": "stream",
          "text": [
            "time: 1.25 ms (started: 2021-04-15 22:36:47 +00:00)\n"
          ],
          "name": "stdout"
        }
      ]
    },
    {
      "cell_type": "code",
      "metadata": {
        "colab": {
          "base_uri": "https://localhost:8080/"
        },
        "id": "5aOIrv7K0HVq",
        "outputId": "03c2d844-4276-499b-a204-94c543f903ab"
      },
      "source": [
        "print(\"{}\".format(count))"
      ],
      "execution_count": 84,
      "outputs": [
        {
          "output_type": "stream",
          "text": [
            "<function count at 0x7f1608c97440>\n",
            "time: 2.18 ms (started: 2021-04-15 22:36:47 +00:00)\n"
          ],
          "name": "stdout"
        }
      ]
    },
    {
      "cell_type": "code",
      "metadata": {
        "colab": {
          "base_uri": "https://localhost:8080/",
          "height": 441
        },
        "id": "V4EHlNdfSVal",
        "outputId": "b926b023-5447-45d9-cd65-fee0132e2026"
      },
      "source": [
        "grouped_df_mob_demo_combined_pandas = grouped_df_mob_demo_combined.toPandas()\n",
        "grouped_df_mob_demo_combined_pandas"
      ],
      "execution_count": 85,
      "outputs": [
        {
          "output_type": "execute_result",
          "data": {
            "text/html": [
              "<div>\n",
              "<style scoped>\n",
              "    .dataframe tbody tr th:only-of-type {\n",
              "        vertical-align: middle;\n",
              "    }\n",
              "\n",
              "    .dataframe tbody tr th {\n",
              "        vertical-align: top;\n",
              "    }\n",
              "\n",
              "    .dataframe thead th {\n",
              "        text-align: right;\n",
              "    }\n",
              "</style>\n",
              "<table border=\"1\" class=\"dataframe\">\n",
              "  <thead>\n",
              "    <tr style=\"text-align: right;\">\n",
              "      <th></th>\n",
              "      <th>date</th>\n",
              "      <th>high_comp_home_perc</th>\n",
              "      <th>low_comp_home_perc</th>\n",
              "    </tr>\n",
              "  </thead>\n",
              "  <tbody>\n",
              "    <tr>\n",
              "      <th>0</th>\n",
              "      <td>2020-07-02T00:00:00-07:00</td>\n",
              "      <td>36.119294</td>\n",
              "      <td>38.879257</td>\n",
              "    </tr>\n",
              "    <tr>\n",
              "      <th>1</th>\n",
              "      <td>2020-11-13T00:00:00-08:00</td>\n",
              "      <td>29.819945</td>\n",
              "      <td>34.897599</td>\n",
              "    </tr>\n",
              "    <tr>\n",
              "      <th>2</th>\n",
              "      <td>2020-06-02T00:00:00-07:00</td>\n",
              "      <td>42.603093</td>\n",
              "      <td>45.551986</td>\n",
              "    </tr>\n",
              "    <tr>\n",
              "      <th>3</th>\n",
              "      <td>2020-06-04T00:00:00-07:00</td>\n",
              "      <td>36.198207</td>\n",
              "      <td>41.083774</td>\n",
              "    </tr>\n",
              "    <tr>\n",
              "      <th>4</th>\n",
              "      <td>2020-10-29T00:00:00-07:00</td>\n",
              "      <td>29.936463</td>\n",
              "      <td>30.359378</td>\n",
              "    </tr>\n",
              "    <tr>\n",
              "      <th>...</th>\n",
              "      <td>...</td>\n",
              "      <td>...</td>\n",
              "      <td>...</td>\n",
              "    </tr>\n",
              "    <tr>\n",
              "      <th>361</th>\n",
              "      <td>2020-04-28T00:00:00-07:00</td>\n",
              "      <td>43.718724</td>\n",
              "      <td>25.330862</td>\n",
              "    </tr>\n",
              "    <tr>\n",
              "      <th>362</th>\n",
              "      <td>2020-05-26T00:00:00-07:00</td>\n",
              "      <td>38.940051</td>\n",
              "      <td>39.605983</td>\n",
              "    </tr>\n",
              "    <tr>\n",
              "      <th>363</th>\n",
              "      <td>2020-06-13T00:00:00-07:00</td>\n",
              "      <td>35.180490</td>\n",
              "      <td>35.412627</td>\n",
              "    </tr>\n",
              "    <tr>\n",
              "      <th>364</th>\n",
              "      <td>2020-08-28T00:00:00-07:00</td>\n",
              "      <td>32.588181</td>\n",
              "      <td>32.356150</td>\n",
              "    </tr>\n",
              "    <tr>\n",
              "      <th>365</th>\n",
              "      <td>2020-11-28T00:00:00-08:00</td>\n",
              "      <td>31.527494</td>\n",
              "      <td>17.507186</td>\n",
              "    </tr>\n",
              "  </tbody>\n",
              "</table>\n",
              "<p>366 rows × 3 columns</p>\n",
              "</div>"
            ],
            "text/plain": [
              "                          date  high_comp_home_perc  low_comp_home_perc\n",
              "0    2020-07-02T00:00:00-07:00            36.119294           38.879257\n",
              "1    2020-11-13T00:00:00-08:00            29.819945           34.897599\n",
              "2    2020-06-02T00:00:00-07:00            42.603093           45.551986\n",
              "3    2020-06-04T00:00:00-07:00            36.198207           41.083774\n",
              "4    2020-10-29T00:00:00-07:00            29.936463           30.359378\n",
              "..                         ...                  ...                 ...\n",
              "361  2020-04-28T00:00:00-07:00            43.718724           25.330862\n",
              "362  2020-05-26T00:00:00-07:00            38.940051           39.605983\n",
              "363  2020-06-13T00:00:00-07:00            35.180490           35.412627\n",
              "364  2020-08-28T00:00:00-07:00            32.588181           32.356150\n",
              "365  2020-11-28T00:00:00-08:00            31.527494           17.507186\n",
              "\n",
              "[366 rows x 3 columns]"
            ]
          },
          "metadata": {
            "tags": []
          },
          "execution_count": 85
        },
        {
          "output_type": "stream",
          "text": [
            "time: 3min 54s (started: 2021-04-15 22:36:47 +00:00)\n"
          ],
          "name": "stdout"
        }
      ]
    },
    {
      "cell_type": "code",
      "metadata": {
        "id": "_qgAuW8GErIq"
      },
      "source": [
        ""
      ],
      "execution_count": 85,
      "outputs": []
    },
    {
      "cell_type": "markdown",
      "metadata": {
        "id": "stkLRnaXuzBm"
      },
      "source": [
        "---\n",
        "graphs \n",
        "\n",
        "---"
      ]
    },
    {
      "cell_type": "code",
      "metadata": {
        "colab": {
          "base_uri": "https://localhost:8080/",
          "height": 521
        },
        "id": "pTTAkF1Iwesw",
        "outputId": "dfe1ba36-2e94-4bfc-b462-7b552a464330"
      },
      "source": [
        "base = alt.Chart(grouped_df_mob_demo_combined_pandas.reset_index()).encode(x='date')\n",
        "\n",
        "alt.layer(\n",
        "    base.mark_line(color='blue').encode(y='high_comp_home_perc'),\n",
        "    # base.mark_line(color='red').encode(y='middle_comp_home_perc'),\n",
        "    base.mark_line(color='green').encode(y='low_comp_home_perc')\n",
        "\n",
        ")"
      ],
      "execution_count": 86,
      "outputs": [
        {
          "output_type": "execute_result",
          "data": {
            "text/plain": [
              "alt.LayerChart(...)"
            ],
            "text/html": [
              "\n",
              "<div id=\"altair-viz-47116486262045fea2579f345a165edd\"></div>\n",
              "<script type=\"text/javascript\">\n",
              "  (function(spec, embedOpt){\n",
              "    let outputDiv = document.currentScript.previousElementSibling;\n",
              "    if (outputDiv.id !== \"altair-viz-47116486262045fea2579f345a165edd\") {\n",
              "      outputDiv = document.getElementById(\"altair-viz-47116486262045fea2579f345a165edd\");\n",
              "    }\n",
              "    const paths = {\n",
              "      \"vega\": \"https://cdn.jsdelivr.net/npm//vega@5?noext\",\n",
              "      \"vega-lib\": \"https://cdn.jsdelivr.net/npm//vega-lib?noext\",\n",
              "      \"vega-lite\": \"https://cdn.jsdelivr.net/npm//vega-lite@4.8.1?noext\",\n",
              "      \"vega-embed\": \"https://cdn.jsdelivr.net/npm//vega-embed@6?noext\",\n",
              "    };\n",
              "\n",
              "    function loadScript(lib) {\n",
              "      return new Promise(function(resolve, reject) {\n",
              "        var s = document.createElement('script');\n",
              "        s.src = paths[lib];\n",
              "        s.async = true;\n",
              "        s.onload = () => resolve(paths[lib]);\n",
              "        s.onerror = () => reject(`Error loading script: ${paths[lib]}`);\n",
              "        document.getElementsByTagName(\"head\")[0].appendChild(s);\n",
              "      });\n",
              "    }\n",
              "\n",
              "    function showError(err) {\n",
              "      outputDiv.innerHTML = `<div class=\"error\" style=\"color:red;\">${err}</div>`;\n",
              "      throw err;\n",
              "    }\n",
              "\n",
              "    function displayChart(vegaEmbed) {\n",
              "      vegaEmbed(outputDiv, spec, embedOpt)\n",
              "        .catch(err => showError(`Javascript Error: ${err.message}<br>This usually means there's a typo in your chart specification. See the javascript console for the full traceback.`));\n",
              "    }\n",
              "\n",
              "    if(typeof define === \"function\" && define.amd) {\n",
              "      requirejs.config({paths});\n",
              "      require([\"vega-embed\"], displayChart, err => showError(`Error loading script: ${err.message}`));\n",
              "    } else if (typeof vegaEmbed === \"function\") {\n",
              "      displayChart(vegaEmbed);\n",
              "    } else {\n",
              "      loadScript(\"vega\")\n",
              "        .then(() => loadScript(\"vega-lite\"))\n",
              "        .then(() => loadScript(\"vega-embed\"))\n",
              "        .catch(showError)\n",
              "        .then(() => displayChart(vegaEmbed));\n",
              "    }\n",
              "  })({\"config\": {\"view\": {\"continuousWidth\": 400, \"continuousHeight\": 300}}, \"layer\": [{\"mark\": {\"type\": \"line\", \"color\": \"blue\"}, \"encoding\": {\"x\": {\"type\": \"nominal\", \"field\": \"date\"}, \"y\": {\"type\": \"quantitative\", \"field\": \"high_comp_home_perc\"}}}, {\"mark\": {\"type\": \"line\", \"color\": \"green\"}, \"encoding\": {\"x\": {\"type\": \"nominal\", \"field\": \"date\"}, \"y\": {\"type\": \"quantitative\", \"field\": \"low_comp_home_perc\"}}}], \"data\": {\"name\": \"data-abc553de558d10b168e9442244a50baa\"}, \"$schema\": \"https://vega.github.io/schema/vega-lite/v4.8.1.json\", \"datasets\": {\"data-abc553de558d10b168e9442244a50baa\": [{\"index\": 0, \"date\": \"2020-07-02T00:00:00-07:00\", \"high_comp_home_perc\": 36.11929411635423, \"low_comp_home_perc\": 38.8792566084014}, {\"index\": 1, \"date\": \"2020-11-13T00:00:00-08:00\", \"high_comp_home_perc\": 29.819945443940632, \"low_comp_home_perc\": 34.89759851661602}, {\"index\": 2, \"date\": \"2020-06-02T00:00:00-07:00\", \"high_comp_home_perc\": 42.60309257504403, \"low_comp_home_perc\": 45.55198595090959}, {\"index\": 3, \"date\": \"2020-06-04T00:00:00-07:00\", \"high_comp_home_perc\": 36.19820702434996, \"low_comp_home_perc\": 41.0837742435958}, {\"index\": 4, \"date\": \"2020-10-29T00:00:00-07:00\", \"high_comp_home_perc\": 29.936462578859032, \"low_comp_home_perc\": 30.359378395554106}, {\"index\": 5, \"date\": \"2020-02-02T00:00:00-08:00\", \"high_comp_home_perc\": 29.007247264389164, \"low_comp_home_perc\": 28.683958608135917}, {\"index\": 6, \"date\": \"2020-07-16T00:00:00-07:00\", \"high_comp_home_perc\": 37.76032057099335, \"low_comp_home_perc\": 41.48667043803773}, {\"index\": 7, \"date\": \"2020-03-08T00:00:00-08:00\", \"high_comp_home_perc\": 29.654856132162486, \"low_comp_home_perc\": 29.02072405760184}, {\"index\": 8, \"date\": \"2020-09-12T00:00:00-07:00\", \"high_comp_home_perc\": 33.3886593536932, \"low_comp_home_perc\": 29.334401973290863}, {\"index\": 9, \"date\": \"2020-12-21T00:00:00-08:00\", \"high_comp_home_perc\": 30.217938514155332, \"low_comp_home_perc\": 18.941498485665207}, {\"index\": 10, \"date\": \"2020-03-04T00:00:00-08:00\", \"high_comp_home_perc\": 19.306071289220615, \"low_comp_home_perc\": 20.55015371361365}, {\"index\": 11, \"date\": \"2020-03-13T00:00:00-07:00\", \"high_comp_home_perc\": 23.269924598469245, \"low_comp_home_perc\": 28.291274715136176}, {\"index\": 12, \"date\": \"2020-07-10T00:00:00-07:00\", \"high_comp_home_perc\": 32.26561736001522, \"low_comp_home_perc\": 36.07144719710918}, {\"index\": 13, \"date\": \"2020-10-24T00:00:00-07:00\", \"high_comp_home_perc\": 29.2714320944459, \"low_comp_home_perc\": 19.5323516392357}, {\"index\": 14, \"date\": \"2020-06-24T00:00:00-07:00\", \"high_comp_home_perc\": 33.002194410153606, \"low_comp_home_perc\": 36.51494912019629}, {\"index\": 15, \"date\": \"2020-10-09T00:00:00-07:00\", \"high_comp_home_perc\": 30.735582495873928, \"low_comp_home_perc\": 28.449390456474152}, {\"index\": 16, \"date\": \"2020-07-14T00:00:00-07:00\", \"high_comp_home_perc\": 34.920103173399276, \"low_comp_home_perc\": 33.193276303560324}, {\"index\": 17, \"date\": \"2020-09-26T00:00:00-07:00\", \"high_comp_home_perc\": 30.112114477375414, \"low_comp_home_perc\": 34.52748103513315}, {\"index\": 18, \"date\": \"2020-10-04T00:00:00-07:00\", \"high_comp_home_perc\": 34.317814369765706, \"low_comp_home_perc\": 33.68361883872879}, {\"index\": 19, \"date\": \"2020-04-12T00:00:00-07:00\", \"high_comp_home_perc\": 57.14981032879492, \"low_comp_home_perc\": 34.694287440873666}, {\"index\": 20, \"date\": \"2020-06-19T00:00:00-07:00\", \"high_comp_home_perc\": 33.10039506869797, \"low_comp_home_perc\": 31.620570149507525}, {\"index\": 21, \"date\": \"2020-03-09T00:00:00-07:00\", \"high_comp_home_perc\": 21.642260238110914, \"low_comp_home_perc\": 25.198567767191044}, {\"index\": 22, \"date\": \"2020-12-24T00:00:00-08:00\", \"high_comp_home_perc\": 33.33593401329866, \"low_comp_home_perc\": 18.124699266356494}, {\"index\": 23, \"date\": \"2020-05-29T00:00:00-07:00\", \"high_comp_home_perc\": 35.18255326281027, \"low_comp_home_perc\": 34.67155825082125}, {\"index\": 24, \"date\": \"2020-09-20T00:00:00-07:00\", \"high_comp_home_perc\": 35.01368122953465, \"low_comp_home_perc\": 26.338302075820312}, {\"index\": 25, \"date\": \"2020-10-08T00:00:00-07:00\", \"high_comp_home_perc\": 32.15937525104671, \"low_comp_home_perc\": 30.276683125705866}, {\"index\": 26, \"date\": \"2020-02-05T00:00:00-08:00\", \"high_comp_home_perc\": 21.719613686590343, \"low_comp_home_perc\": 22.89515160273558}, {\"index\": 27, \"date\": \"2020-11-30T00:00:00-08:00\", \"high_comp_home_perc\": 34.83893914394202, \"low_comp_home_perc\": 25.61083027230534}, {\"index\": 28, \"date\": \"2020-01-25T00:00:00-08:00\", \"high_comp_home_perc\": 25.720046273380454, \"low_comp_home_perc\": 23.736637384125792}, {\"index\": 29, \"date\": \"2020-09-22T00:00:00-07:00\", \"high_comp_home_perc\": 33.5640479927327, \"low_comp_home_perc\": 29.816770497229413}, {\"index\": 30, \"date\": \"2020-04-15T00:00:00-07:00\", \"high_comp_home_perc\": 44.27379111018784, \"low_comp_home_perc\": 28.253723369474187}, {\"index\": 31, \"date\": \"2020-10-15T00:00:00-07:00\", \"high_comp_home_perc\": 30.6433314311034, \"low_comp_home_perc\": 30.928330482473385}, {\"index\": 32, \"date\": \"2020-05-19T00:00:00-07:00\", \"high_comp_home_perc\": 42.832420935648656, \"low_comp_home_perc\": 44.17648548193367}, {\"index\": 33, \"date\": \"2020-10-12T00:00:00-07:00\", \"high_comp_home_perc\": 33.01962793343753, \"low_comp_home_perc\": 35.859246734315136}, {\"index\": 34, \"date\": \"2020-11-21T00:00:00-08:00\", \"high_comp_home_perc\": 32.01686955666575, \"low_comp_home_perc\": 23.706585398368603}, {\"index\": 35, \"date\": \"2020-02-29T00:00:00-08:00\", \"high_comp_home_perc\": 20.944919428201214, \"low_comp_home_perc\": 18.32886455556607}, {\"index\": 36, \"date\": \"2020-05-01T00:00:00-07:00\", \"high_comp_home_perc\": 43.08787452824689, \"low_comp_home_perc\": 43.937331986956934}, {\"index\": 37, \"date\": \"2020-06-12T00:00:00-07:00\", \"high_comp_home_perc\": 35.13870639869616, \"low_comp_home_perc\": 37.27955161525331}, {\"index\": 38, \"date\": \"2020-08-26T00:00:00-07:00\", \"high_comp_home_perc\": 34.629289733126335, \"low_comp_home_perc\": 31.076427357050907}, {\"index\": 39, \"date\": \"2020-10-20T00:00:00-07:00\", \"high_comp_home_perc\": 31.903376423745776, \"low_comp_home_perc\": 34.218483684304466}, {\"index\": 40, \"date\": \"2020-10-31T00:00:00-07:00\", \"high_comp_home_perc\": 27.537697177888848, \"low_comp_home_perc\": 20.807369486375574}, {\"index\": 41, \"date\": \"2020-06-14T00:00:00-07:00\", \"high_comp_home_perc\": 37.226774471820775, \"low_comp_home_perc\": 32.90132494040442}, {\"index\": 42, \"date\": \"2020-06-30T00:00:00-07:00\", \"high_comp_home_perc\": 33.80830548113367, \"low_comp_home_perc\": 32.02660435301092}, {\"index\": 43, \"date\": \"2020-08-03T00:00:00-07:00\", \"high_comp_home_perc\": 36.18075849553335, \"low_comp_home_perc\": 37.636706059169974}, {\"index\": 44, \"date\": \"2020-08-11T00:00:00-07:00\", \"high_comp_home_perc\": 34.19762000470555, \"low_comp_home_perc\": 33.78142622212333}, {\"index\": 45, \"date\": \"2020-08-24T00:00:00-07:00\", \"high_comp_home_perc\": 36.18284144655451, \"low_comp_home_perc\": 33.402744723499445}, {\"index\": 46, \"date\": \"2020-09-27T00:00:00-07:00\", \"high_comp_home_perc\": 33.86371899453588, \"low_comp_home_perc\": 24.63130551365845}, {\"index\": 47, \"date\": \"2020-03-24T00:00:00-07:00\", \"high_comp_home_perc\": 44.17594415493544, \"low_comp_home_perc\": 25.278276624916252}, {\"index\": 48, \"date\": \"2020-09-02T00:00:00-07:00\", \"high_comp_home_perc\": 31.827804043085543, \"low_comp_home_perc\": 32.08559087042567}, {\"index\": 49, \"date\": \"2020-12-25T00:00:00-08:00\", \"high_comp_home_perc\": 40.66217358911516, \"low_comp_home_perc\": 20.8583673171631}, {\"index\": 50, \"date\": \"2020-01-29T00:00:00-08:00\", \"high_comp_home_perc\": 17.404308425610584, \"low_comp_home_perc\": 17.8330095078691}, {\"index\": 51, \"date\": \"2020-04-22T00:00:00-07:00\", \"high_comp_home_perc\": 42.94349614411425, \"low_comp_home_perc\": 29.17497246376854}, {\"index\": 52, \"date\": \"2020-03-01T00:00:00-08:00\", \"high_comp_home_perc\": 29.176891807852225, \"low_comp_home_perc\": 31.869007646404903}, {\"index\": 53, \"date\": \"2020-08-04T00:00:00-07:00\", \"high_comp_home_perc\": 34.222647934663335, \"low_comp_home_perc\": 38.69607547557755}, {\"index\": 54, \"date\": \"2020-12-15T00:00:00-08:00\", \"high_comp_home_perc\": 33.86031779458116, \"low_comp_home_perc\": 27.731819244057323}, {\"index\": 55, \"date\": \"2020-01-12T00:00:00-08:00\", \"high_comp_home_perc\": 26.658449244444494, \"low_comp_home_perc\": 27.213628115817222}, {\"index\": 56, \"date\": \"2020-11-25T00:00:00-08:00\", \"high_comp_home_perc\": 30.066260065294433, \"low_comp_home_perc\": 18.538976267978097}, {\"index\": 57, \"date\": \"2020-08-07T00:00:00-07:00\", \"high_comp_home_perc\": 31.401933773272464, \"low_comp_home_perc\": 32.367909971294694}, {\"index\": 58, \"date\": \"2020-12-12T00:00:00-08:00\", \"high_comp_home_perc\": 35.094269249641066, \"low_comp_home_perc\": 31.158861805497086}, {\"index\": 59, \"date\": \"2020-02-12T00:00:00-08:00\", \"high_comp_home_perc\": 20.375961745104252, \"low_comp_home_perc\": 24.708016710252704}, {\"index\": 60, \"date\": \"2020-01-13T00:00:00-08:00\", \"high_comp_home_perc\": 20.61710185185585, \"low_comp_home_perc\": 21.614912766952642}, {\"index\": 61, \"date\": \"2020-02-01T00:00:00-08:00\", \"high_comp_home_perc\": 22.89511361736853, \"low_comp_home_perc\": 25.95195533149864}, {\"index\": 62, \"date\": \"2020-03-19T00:00:00-07:00\", \"high_comp_home_perc\": 37.142907589894925, \"low_comp_home_perc\": 22.29901261033489}, {\"index\": 63, \"date\": \"2020-05-05T00:00:00-07:00\", \"high_comp_home_perc\": 43.603365256304905, \"low_comp_home_perc\": 49.19785113414274}, {\"index\": 64, \"date\": \"2020-05-10T00:00:00-07:00\", \"high_comp_home_perc\": 41.36530114889955, \"low_comp_home_perc\": 41.822806583656444}, {\"index\": 65, \"date\": \"2020-06-16T00:00:00-07:00\", \"high_comp_home_perc\": 38.051748410649736, \"low_comp_home_perc\": 35.26333870326069}, {\"index\": 66, \"date\": \"2020-10-11T00:00:00-07:00\", \"high_comp_home_perc\": 35.46553985444088, \"low_comp_home_perc\": 32.54834417155402}, {\"index\": 67, \"date\": \"2020-10-17T00:00:00-07:00\", \"high_comp_home_perc\": 30.756744527423198, \"low_comp_home_perc\": 30.031493326827572}, {\"index\": 68, \"date\": \"2020-10-19T00:00:00-07:00\", \"high_comp_home_perc\": 32.17902929513112, \"low_comp_home_perc\": 30.45910289927637}, {\"index\": 69, \"date\": \"2020-11-23T00:00:00-08:00\", \"high_comp_home_perc\": 30.718605707597856, \"low_comp_home_perc\": 23.657648758135082}, {\"index\": 70, \"date\": \"2020-02-04T00:00:00-08:00\", \"high_comp_home_perc\": 22.296972445947873, \"low_comp_home_perc\": 23.333375785025243}, {\"index\": 71, \"date\": \"2020-04-06T00:00:00-07:00\", \"high_comp_home_perc\": 52.558307590319444, \"low_comp_home_perc\": 34.178317348872376}, {\"index\": 72, \"date\": \"2020-03-14T00:00:00-07:00\", \"high_comp_home_perc\": 31.444618273377785, \"low_comp_home_perc\": 26.56681333369971}, {\"index\": 73, \"date\": \"2020-05-25T00:00:00-07:00\", \"high_comp_home_perc\": 42.92399377234173, \"low_comp_home_perc\": 42.45261450821306}, {\"index\": 74, \"date\": \"2020-06-23T00:00:00-07:00\", \"high_comp_home_perc\": 33.49435326091007, \"low_comp_home_perc\": 30.299763380219662}, {\"index\": 75, \"date\": \"2020-03-11T00:00:00-07:00\", \"high_comp_home_perc\": 20.16275979381314, \"low_comp_home_perc\": 27.40713792281967}, {\"index\": 76, \"date\": \"2020-03-26T00:00:00-07:00\", \"high_comp_home_perc\": 43.93740970931191, \"low_comp_home_perc\": 24.553417163466715}, {\"index\": 77, \"date\": \"2020-08-12T00:00:00-07:00\", \"high_comp_home_perc\": 32.84371126594666, \"low_comp_home_perc\": 29.473267417334664}, {\"index\": 78, \"date\": \"2020-03-10T00:00:00-07:00\", \"high_comp_home_perc\": 21.528238817136632, \"low_comp_home_perc\": 23.71991520314135}, {\"index\": 79, \"date\": \"2020-07-19T00:00:00-07:00\", \"high_comp_home_perc\": 38.779049331290764, \"low_comp_home_perc\": 36.85426049158656}, {\"index\": 80, \"date\": \"2020-10-02T00:00:00-07:00\", \"high_comp_home_perc\": 29.328651453242568, \"low_comp_home_perc\": 25.28490874316215}, {\"index\": 81, \"date\": \"2020-03-30T00:00:00-07:00\", \"high_comp_home_perc\": 46.36345170224874, \"low_comp_home_perc\": 26.64691706944229}, {\"index\": 82, \"date\": \"2020-11-19T00:00:00-08:00\", \"high_comp_home_perc\": 29.724178040989184, \"low_comp_home_perc\": 31.309140279899495}, {\"index\": 83, \"date\": \"2020-03-29T00:00:00-07:00\", \"high_comp_home_perc\": 47.39459677057467, \"low_comp_home_perc\": 24.725235841202387}, {\"index\": 84, \"date\": \"2020-04-19T00:00:00-07:00\", \"high_comp_home_perc\": 50.9706789031893, \"low_comp_home_perc\": 30.06271327680506}, {\"index\": 85, \"date\": \"2020-12-26T00:00:00-08:00\", \"high_comp_home_perc\": 36.81982323681684, \"low_comp_home_perc\": 16.85643147296472}, {\"index\": 86, \"date\": \"2020-01-06T00:00:00-08:00\", \"high_comp_home_perc\": 23.740241802870408, \"low_comp_home_perc\": 20.545650117224678}, {\"index\": 87, \"date\": \"2020-06-29T00:00:00-07:00\", \"high_comp_home_perc\": 34.88418664686188, \"low_comp_home_perc\": 31.232119868733996}, {\"index\": 88, \"date\": \"2020-08-25T00:00:00-07:00\", \"high_comp_home_perc\": 32.75919515081331, \"low_comp_home_perc\": 29.83219921550092}, {\"index\": 89, \"date\": \"2020-01-04T00:00:00-08:00\", \"high_comp_home_perc\": 25.72561558679358, \"low_comp_home_perc\": 22.38945539752051}, {\"index\": 90, \"date\": \"2020-03-12T00:00:00-07:00\", \"high_comp_home_perc\": 23.797445955277354, \"low_comp_home_perc\": 26.82715530118506}, {\"index\": 91, \"date\": \"2020-04-02T00:00:00-07:00\", \"high_comp_home_perc\": 48.13604928581593, \"low_comp_home_perc\": 32.00730488674766}, {\"index\": 92, \"date\": \"2020-07-18T00:00:00-07:00\", \"high_comp_home_perc\": 34.591951416054485, \"low_comp_home_perc\": 36.59079094841999}, {\"index\": 93, \"date\": \"2020-05-22T00:00:00-07:00\", \"high_comp_home_perc\": 38.58714418283115, \"low_comp_home_perc\": 41.798009569089764}, {\"index\": 94, \"date\": \"2020-01-14T00:00:00-08:00\", \"high_comp_home_perc\": 19.995792157868706, \"low_comp_home_perc\": 22.212440490280837}, {\"index\": 95, \"date\": \"2020-11-07T00:00:00-08:00\", \"high_comp_home_perc\": 32.38494331251226, \"low_comp_home_perc\": 31.96719966561035}, {\"index\": 96, \"date\": \"2020-12-29T00:00:00-08:00\", \"high_comp_home_perc\": 32.23480201806077, \"low_comp_home_perc\": 22.505352652433714}, {\"index\": 97, \"date\": \"2020-11-15T00:00:00-08:00\", \"high_comp_home_perc\": 33.68160672344046, \"low_comp_home_perc\": 31.137833587410682}, {\"index\": 98, \"date\": \"2020-03-07T00:00:00-08:00\", \"high_comp_home_perc\": 23.347406259656744, \"low_comp_home_perc\": 26.042917204327555}, {\"index\": 99, \"date\": \"2020-04-25T00:00:00-07:00\", \"high_comp_home_perc\": 45.10433486307738, \"low_comp_home_perc\": 29.945856187852428}, {\"index\": 100, \"date\": \"2020-04-26T00:00:00-07:00\", \"high_comp_home_perc\": 45.34427474524947, \"low_comp_home_perc\": 25.100532393187873}, {\"index\": 101, \"date\": \"2020-08-29T00:00:00-07:00\", \"high_comp_home_perc\": 29.666570034145877, \"low_comp_home_perc\": 22.26346687558368}, {\"index\": 102, \"date\": \"2020-11-16T00:00:00-08:00\", \"high_comp_home_perc\": 34.78276744602848, \"low_comp_home_perc\": 39.599579772832094}, {\"index\": 103, \"date\": \"2020-10-16T00:00:00-07:00\", \"high_comp_home_perc\": 29.291745581057853, \"low_comp_home_perc\": 25.17868529525631}, {\"index\": 104, \"date\": \"2020-05-11T00:00:00-07:00\", \"high_comp_home_perc\": 46.224941510182, \"low_comp_home_perc\": 47.5162130582415}, {\"index\": 105, \"date\": \"2020-05-12T00:00:00-07:00\", \"high_comp_home_perc\": 43.28052778684765, \"low_comp_home_perc\": 44.87542931625996}, {\"index\": 106, \"date\": \"2020-10-13T00:00:00-07:00\", \"high_comp_home_perc\": 32.92588994682196, \"low_comp_home_perc\": 36.07038151215577}, {\"index\": 107, \"date\": \"2020-12-06T00:00:00-08:00\", \"high_comp_home_perc\": 35.99019344449028, \"low_comp_home_perc\": 26.88548181533255}, {\"index\": 108, \"date\": \"2020-01-21T00:00:00-08:00\", \"high_comp_home_perc\": 18.823515452700356, \"low_comp_home_perc\": 19.807941978020526}, {\"index\": 109, \"date\": \"2020-12-31T00:00:00-08:00\", \"high_comp_home_perc\": 32.55671459753181, \"low_comp_home_perc\": 17.445550495481015}, {\"index\": 110, \"date\": \"2020-01-08T00:00:00-08:00\", \"high_comp_home_perc\": 21.32035114309041, \"low_comp_home_perc\": 25.083520599214783}, {\"index\": 111, \"date\": \"2020-02-18T00:00:00-08:00\", \"high_comp_home_perc\": 19.989701171886917, \"low_comp_home_perc\": 23.78736307703133}, {\"index\": 112, \"date\": \"2020-04-10T00:00:00-07:00\", \"high_comp_home_perc\": 46.62959980834161, \"low_comp_home_perc\": 31.210085771179518}, {\"index\": 113, \"date\": \"2020-07-22T00:00:00-07:00\", \"high_comp_home_perc\": 35.85627785985142, \"low_comp_home_perc\": 36.638473185114464}, {\"index\": 114, \"date\": \"2020-08-13T00:00:00-07:00\", \"high_comp_home_perc\": 33.936742982087196, \"low_comp_home_perc\": 35.979786763228375}, {\"index\": 115, \"date\": \"2020-09-18T00:00:00-07:00\", \"high_comp_home_perc\": 32.2696615792032, \"low_comp_home_perc\": 28.221737131416234}, {\"index\": 116, \"date\": \"2020-09-01T00:00:00-07:00\", \"high_comp_home_perc\": 32.43628966385518, \"low_comp_home_perc\": 32.993290384771115}, {\"index\": 117, \"date\": \"2020-09-24T00:00:00-07:00\", \"high_comp_home_perc\": 33.09299744871362, \"low_comp_home_perc\": 33.84431792040488}, {\"index\": 118, \"date\": \"2020-08-08T00:00:00-07:00\", \"high_comp_home_perc\": 32.98219939976181, \"low_comp_home_perc\": 33.93796860685367}, {\"index\": 119, \"date\": \"2020-11-26T00:00:00-08:00\", \"high_comp_home_perc\": 37.85859113280755, \"low_comp_home_perc\": 21.275605221862502}, {\"index\": 120, \"date\": \"2020-04-23T00:00:00-07:00\", \"high_comp_home_perc\": 42.100941274123976, \"low_comp_home_perc\": 26.22734906567446}, {\"index\": 121, \"date\": \"2020-04-03T00:00:00-07:00\", \"high_comp_home_perc\": 45.533684763120505, \"low_comp_home_perc\": 32.49932949071636}, {\"index\": 122, \"date\": \"2020-07-03T00:00:00-07:00\", \"high_comp_home_perc\": 33.41756541622805, \"low_comp_home_perc\": 28.6040066419629}, {\"index\": 123, \"date\": \"2020-09-11T00:00:00-07:00\", \"high_comp_home_perc\": 32.434088252993284, \"low_comp_home_perc\": 29.13796743575933}, {\"index\": 124, \"date\": \"2020-08-23T00:00:00-07:00\", \"high_comp_home_perc\": 36.03053985023165, \"low_comp_home_perc\": 27.645502645502646}, {\"index\": 125, \"date\": \"2020-12-13T00:00:00-08:00\", \"high_comp_home_perc\": 36.4369021881884, \"low_comp_home_perc\": 17.608658615572452}, {\"index\": 126, \"date\": \"2020-08-09T00:00:00-07:00\", \"high_comp_home_perc\": 36.04381415846866, \"low_comp_home_perc\": 30.174286828426823}, {\"index\": 127, \"date\": \"2020-10-28T00:00:00-07:00\", \"high_comp_home_perc\": 31.909935561438093, \"low_comp_home_perc\": 28.10236507168726}, {\"index\": 128, \"date\": \"2020-06-06T00:00:00-07:00\", \"high_comp_home_perc\": 35.44594017117635, \"low_comp_home_perc\": 34.9596157341779}, {\"index\": 129, \"date\": \"2020-06-28T00:00:00-07:00\", \"high_comp_home_perc\": 38.10054615343462, \"low_comp_home_perc\": 34.51947280895887}, {\"index\": 130, \"date\": \"2020-01-07T00:00:00-08:00\", \"high_comp_home_perc\": 21.969482506787532, \"low_comp_home_perc\": 19.01166507153427}, {\"index\": 131, \"date\": \"2020-03-31T00:00:00-07:00\", \"high_comp_home_perc\": 45.55653878550634, \"low_comp_home_perc\": 28.65448781541401}, {\"index\": 132, \"date\": \"2020-11-06T00:00:00-08:00\", \"high_comp_home_perc\": 28.46351309068493, \"low_comp_home_perc\": 25.262306166087154}, {\"index\": 133, \"date\": \"2020-07-15T00:00:00-07:00\", \"high_comp_home_perc\": 35.10048218917582, \"low_comp_home_perc\": 39.054274852594176}, {\"index\": 134, \"date\": \"2020-07-21T00:00:00-07:00\", \"high_comp_home_perc\": 36.77444341626252, \"low_comp_home_perc\": 37.14564863449511}, {\"index\": 135, \"date\": \"2020-07-28T00:00:00-07:00\", \"high_comp_home_perc\": 34.20344216606117, \"low_comp_home_perc\": 36.7288712274687}, {\"index\": 136, \"date\": \"2020-09-13T00:00:00-07:00\", \"high_comp_home_perc\": 36.675672880846854, \"low_comp_home_perc\": 27.65207631874299}, {\"index\": 137, \"date\": \"2020-12-23T00:00:00-08:00\", \"high_comp_home_perc\": 30.84681930041597, \"low_comp_home_perc\": 16.651681707120403}, {\"index\": 138, \"date\": \"2020-08-22T00:00:00-07:00\", \"high_comp_home_perc\": 32.81685133348271, \"low_comp_home_perc\": 28.86774629567043}, {\"index\": 139, \"date\": \"2020-09-23T00:00:00-07:00\", \"high_comp_home_perc\": 31.978094465909802, \"low_comp_home_perc\": 33.13827041819982}, {\"index\": 140, \"date\": \"2020-10-30T00:00:00-07:00\", \"high_comp_home_perc\": 26.73024962227332, \"low_comp_home_perc\": 24.791344999911104}, {\"index\": 141, \"date\": \"2020-11-09T00:00:00-08:00\", \"high_comp_home_perc\": 34.49778008908065, \"low_comp_home_perc\": 39.255963440370536}, {\"index\": 142, \"date\": \"2020-12-30T00:00:00-08:00\", \"high_comp_home_perc\": 32.85082336721701, \"low_comp_home_perc\": 19.683140646982963}, {\"index\": 143, \"date\": \"2020-01-27T00:00:00-08:00\", \"high_comp_home_perc\": 20.402691406447147, \"low_comp_home_perc\": 21.310485921432065}, {\"index\": 144, \"date\": \"2020-07-26T00:00:00-07:00\", \"high_comp_home_perc\": 36.991949475410514, \"low_comp_home_perc\": 31.36048409580464}, {\"index\": 145, \"date\": \"2020-09-04T00:00:00-07:00\", \"high_comp_home_perc\": 31.367087288201265, \"low_comp_home_perc\": 32.48405861390459}, {\"index\": 146, \"date\": \"2020-12-19T00:00:00-08:00\", \"high_comp_home_perc\": 34.34313675693921, \"low_comp_home_perc\": 22.47350461922657}, {\"index\": 147, \"date\": \"2020-06-18T00:00:00-07:00\", \"high_comp_home_perc\": 35.079862268108386, \"low_comp_home_perc\": 35.61854324612748}, {\"index\": 148, \"date\": \"2020-08-20T00:00:00-07:00\", \"high_comp_home_perc\": 32.63282345666133, \"low_comp_home_perc\": 30.401819087670805}, {\"index\": 149, \"date\": \"2020-10-01T00:00:00-07:00\", \"high_comp_home_perc\": 28.812712258822224, \"low_comp_home_perc\": 28.7374009432833}, {\"index\": 150, \"date\": \"2020-09-16T00:00:00-07:00\", \"high_comp_home_perc\": 34.50699891029577, \"low_comp_home_perc\": 34.90722269719136}, {\"index\": 151, \"date\": \"2020-03-15T00:00:00-07:00\", \"high_comp_home_perc\": 34.808940984990194, \"low_comp_home_perc\": 27.34235413243415}, {\"index\": 152, \"date\": \"2020-03-25T00:00:00-07:00\", \"high_comp_home_perc\": 41.22837841895386, \"low_comp_home_perc\": 23.177210981167157}, {\"index\": 153, \"date\": \"2020-12-20T00:00:00-08:00\", \"high_comp_home_perc\": 34.51477476037319, \"low_comp_home_perc\": 17.36604102337447}, {\"index\": 154, \"date\": \"2020-12-28T00:00:00-08:00\", \"high_comp_home_perc\": 41.48964248776474, \"low_comp_home_perc\": 24.04998038988333}, {\"index\": 155, \"date\": \"2020-04-01T00:00:00-07:00\", \"high_comp_home_perc\": 47.76281675138994, \"low_comp_home_perc\": 33.225870939013475}, {\"index\": 156, \"date\": \"2020-04-27T00:00:00-07:00\", \"high_comp_home_perc\": 46.13004019807234, \"low_comp_home_perc\": 31.266607877396513}, {\"index\": 157, \"date\": \"2020-06-21T00:00:00-07:00\", \"high_comp_home_perc\": 35.55722182710108, \"low_comp_home_perc\": 31.747707816502732}, {\"index\": 158, \"date\": \"2020-11-08T00:00:00-08:00\", \"high_comp_home_perc\": 33.30326956294974, \"low_comp_home_perc\": 31.438165941634864}, {\"index\": 159, \"date\": \"2020-12-09T00:00:00-08:00\", \"high_comp_home_perc\": 35.25984702173974, \"low_comp_home_perc\": 32.43130973394131}, {\"index\": 160, \"date\": \"2020-01-10T00:00:00-08:00\", \"high_comp_home_perc\": 20.0047238526086, \"low_comp_home_perc\": 18.367599002678304}, {\"index\": 161, \"date\": \"2020-04-07T00:00:00-07:00\", \"high_comp_home_perc\": 52.29367575863379, \"low_comp_home_perc\": 33.01819224528247}, {\"index\": 162, \"date\": \"2020-05-18T00:00:00-07:00\", \"high_comp_home_perc\": 44.613371155901376, \"low_comp_home_perc\": 42.2966643189339}, {\"index\": 163, \"date\": \"2020-05-27T00:00:00-07:00\", \"high_comp_home_perc\": 39.82265031575036, \"low_comp_home_perc\": 42.77608414513176}, {\"index\": 164, \"date\": \"2020-10-03T00:00:00-07:00\", \"high_comp_home_perc\": 29.780586164435714, \"low_comp_home_perc\": 22.747179043336548}, {\"index\": 165, \"date\": \"2020-01-15T00:00:00-08:00\", \"high_comp_home_perc\": 19.6077069696485, \"low_comp_home_perc\": 23.540077144914633}, {\"index\": 166, \"date\": \"2020-03-06T00:00:00-08:00\", \"high_comp_home_perc\": 20.606753287560707, \"low_comp_home_perc\": 27.789296511327915}, {\"index\": 167, \"date\": \"2020-07-09T00:00:00-07:00\", \"high_comp_home_perc\": 36.07824139015535, \"low_comp_home_perc\": 39.617064267956195}, {\"index\": 168, \"date\": \"2020-12-01T00:00:00-08:00\", \"high_comp_home_perc\": 34.03202448954425, \"low_comp_home_perc\": 31.11133141347976}, {\"index\": 169, \"date\": \"2020-06-10T00:00:00-07:00\", \"high_comp_home_perc\": 36.947308183299725, \"low_comp_home_perc\": 38.406348607015076}, {\"index\": 170, \"date\": \"2020-07-06T00:00:00-07:00\", \"high_comp_home_perc\": 37.00445420499726, \"low_comp_home_perc\": 34.88867043878707}, {\"index\": 171, \"date\": \"2020-05-23T00:00:00-07:00\", \"high_comp_home_perc\": 37.92331978880472, \"low_comp_home_perc\": 42.72742915639276}, {\"index\": 172, \"date\": \"2020-07-23T00:00:00-07:00\", \"high_comp_home_perc\": 33.43643507836091, \"low_comp_home_perc\": 33.864011478954005}, {\"index\": 173, \"date\": \"2020-02-15T00:00:00-08:00\", \"high_comp_home_perc\": 22.55322066731962, \"low_comp_home_perc\": 23.93298126931215}, {\"index\": 174, \"date\": \"2020-01-01T00:00:00-08:00\", \"high_comp_home_perc\": 30.044708851464605, \"low_comp_home_perc\": 21.378897742474567}, {\"index\": 175, \"date\": \"2020-01-20T00:00:00-08:00\", \"high_comp_home_perc\": 24.0266854953542, \"low_comp_home_perc\": 24.702080593808304}, {\"index\": 176, \"date\": \"2020-05-24T00:00:00-07:00\", \"high_comp_home_perc\": 39.932568196440435, \"low_comp_home_perc\": 33.08606882781918}, {\"index\": 177, \"date\": \"2020-07-31T00:00:00-07:00\", \"high_comp_home_perc\": 30.349947399948835, \"low_comp_home_perc\": 29.782493644615336}, {\"index\": 178, \"date\": \"2020-09-14T00:00:00-07:00\", \"high_comp_home_perc\": 35.83866773308799, \"low_comp_home_perc\": 31.519289710711732}, {\"index\": 179, \"date\": \"2020-07-01T00:00:00-07:00\", \"high_comp_home_perc\": 35.02209857391034, \"low_comp_home_perc\": 36.65207464264617}, {\"index\": 180, \"date\": \"2020-07-04T00:00:00-07:00\", \"high_comp_home_perc\": 38.18802401088889, \"low_comp_home_perc\": 31.933666293634285}, {\"index\": 181, \"date\": \"2020-07-12T00:00:00-07:00\", \"high_comp_home_perc\": 38.54782625961379, \"low_comp_home_perc\": 35.939954466698374}, {\"index\": 182, \"date\": \"2020-12-03T00:00:00-08:00\", \"high_comp_home_perc\": 34.21283292124802, \"low_comp_home_perc\": 32.67532299865253}, {\"index\": 183, \"date\": \"2020-02-28T00:00:00-08:00\", \"high_comp_home_perc\": 18.10781764062321, \"low_comp_home_perc\": 17.835011521113284}, {\"index\": 184, \"date\": \"2020-10-27T00:00:00-07:00\", \"high_comp_home_perc\": 33.19430441118017, \"low_comp_home_perc\": 40.111219205426295}, {\"index\": 185, \"date\": \"2020-04-14T00:00:00-07:00\", \"high_comp_home_perc\": 45.86205935613075, \"low_comp_home_perc\": 29.227164429068548}, {\"index\": 186, \"date\": \"2020-05-06T00:00:00-07:00\", \"high_comp_home_perc\": 45.30947161816803, \"low_comp_home_perc\": 51.91977287980913}, {\"index\": 187, \"date\": \"2020-06-01T00:00:00-07:00\", \"high_comp_home_perc\": 42.3507598699791, \"low_comp_home_perc\": 39.844613725005324}, {\"index\": 188, \"date\": \"2020-09-03T00:00:00-07:00\", \"high_comp_home_perc\": 32.964339227210004, \"low_comp_home_perc\": 32.926385794104085}, {\"index\": 189, \"date\": \"2020-03-16T00:00:00-07:00\", \"high_comp_home_perc\": 35.589281526863914, \"low_comp_home_perc\": 29.650169989730955}, {\"index\": 190, \"date\": \"2020-05-07T00:00:00-07:00\", \"high_comp_home_perc\": 44.45360042832101, \"low_comp_home_perc\": 49.43585380125579}, {\"index\": 191, \"date\": \"2020-07-08T00:00:00-07:00\", \"high_comp_home_perc\": 34.80534872743291, \"low_comp_home_perc\": 35.44986198430655}, {\"index\": 192, \"date\": \"2020-08-05T00:00:00-07:00\", \"high_comp_home_perc\": 33.13278566831061, \"low_comp_home_perc\": 37.64577463300307}, {\"index\": 193, \"date\": \"2020-11-01T00:00:00-07:00\", \"high_comp_home_perc\": 32.85801159910577, \"low_comp_home_perc\": 25.83996609776888}, {\"index\": 194, \"date\": \"2020-09-05T00:00:00-07:00\", \"high_comp_home_perc\": 32.56168770087603, \"low_comp_home_perc\": 25.105917534879737}, {\"index\": 195, \"date\": \"2020-11-14T00:00:00-08:00\", \"high_comp_home_perc\": 28.281342061546212, \"low_comp_home_perc\": 28.37581711924479}, {\"index\": 196, \"date\": \"2020-12-14T00:00:00-08:00\", \"high_comp_home_perc\": 36.55871025643856, \"low_comp_home_perc\": 25.888463082776305}, {\"index\": 197, \"date\": \"2020-06-17T00:00:00-07:00\", \"high_comp_home_perc\": 34.75035735314802, \"low_comp_home_perc\": 34.08797497796728}, {\"index\": 198, \"date\": \"2020-11-29T00:00:00-08:00\", \"high_comp_home_perc\": 36.94738549776854, \"low_comp_home_perc\": 25.077613488726918}, {\"index\": 199, \"date\": \"2020-05-16T00:00:00-07:00\", \"high_comp_home_perc\": 39.84908095700081, \"low_comp_home_perc\": 38.47565211117701}, {\"index\": 200, \"date\": \"2020-01-05T00:00:00-08:00\", \"high_comp_home_perc\": 30.27543734700997, \"low_comp_home_perc\": 23.808292064190432}, {\"index\": 201, \"date\": \"2020-03-28T00:00:00-07:00\", \"high_comp_home_perc\": 44.27071535640918, \"low_comp_home_perc\": 25.430654185788207}, {\"index\": 202, \"date\": \"2020-09-10T00:00:00-07:00\", \"high_comp_home_perc\": 35.08045437557224, \"low_comp_home_perc\": 38.00856046230809}, {\"index\": 203, \"date\": \"2020-04-16T00:00:00-07:00\", \"high_comp_home_perc\": 45.37189886814886, \"low_comp_home_perc\": 31.70789726542589}, {\"index\": 204, \"date\": \"2020-08-18T00:00:00-07:00\", \"high_comp_home_perc\": 34.13406298480455, \"low_comp_home_perc\": 35.017295366995114}, {\"index\": 205, \"date\": \"2020-09-28T00:00:00-07:00\", \"high_comp_home_perc\": 32.28627707461907, \"low_comp_home_perc\": 31.27420328198971}, {\"index\": 206, \"date\": \"2020-01-18T00:00:00-08:00\", \"high_comp_home_perc\": 22.505756448142883, \"low_comp_home_perc\": 21.32640366929884}, {\"index\": 207, \"date\": \"2020-02-10T00:00:00-08:00\", \"high_comp_home_perc\": 23.371709234194473, \"low_comp_home_perc\": 24.350077960916803}, {\"index\": 208, \"date\": \"2020-05-03T00:00:00-07:00\", \"high_comp_home_perc\": 48.17886164532248, \"low_comp_home_perc\": 52.62963926014527}, {\"index\": 209, \"date\": \"2020-10-23T00:00:00-07:00\", \"high_comp_home_perc\": 27.85846601244113, \"low_comp_home_perc\": 22.441772147228}, {\"index\": 210, \"date\": \"2020-11-24T00:00:00-08:00\", \"high_comp_home_perc\": 28.83812767630287, \"low_comp_home_perc\": 22.556410108773502}, {\"index\": 211, \"date\": \"2020-07-27T00:00:00-07:00\", \"high_comp_home_perc\": 36.492319480509195, \"low_comp_home_perc\": 34.026609244478124}, {\"index\": 212, \"date\": \"2020-08-16T00:00:00-07:00\", \"high_comp_home_perc\": 36.45641610354885, \"low_comp_home_perc\": 30.616523406370746}, {\"index\": 213, \"date\": \"2020-01-03T00:00:00-08:00\", \"high_comp_home_perc\": 24.911746023510425, \"low_comp_home_perc\": 23.51271270428168}, {\"index\": 214, \"date\": \"2020-02-13T00:00:00-08:00\", \"high_comp_home_perc\": 21.316931966952787, \"low_comp_home_perc\": 21.96194917049806}, {\"index\": 215, \"date\": \"2020-11-05T00:00:00-08:00\", \"high_comp_home_perc\": 30.32492375521148, \"low_comp_home_perc\": 37.53909667468135}, {\"index\": 216, \"date\": \"2020-04-09T00:00:00-07:00\", \"high_comp_home_perc\": 52.84278169606809, \"low_comp_home_perc\": 34.123041622303454}, {\"index\": 217, \"date\": \"2020-06-20T00:00:00-07:00\", \"high_comp_home_perc\": 33.41730981045547, \"low_comp_home_perc\": 35.60807581338171}, {\"index\": 218, \"date\": \"2020-09-25T00:00:00-07:00\", \"high_comp_home_perc\": 27.606933451570768, \"low_comp_home_perc\": 23.540282399759526}, {\"index\": 219, \"date\": \"2020-02-25T00:00:00-08:00\", \"high_comp_home_perc\": 32.66667084532552, \"low_comp_home_perc\": 34.669230961404146}, {\"index\": 220, \"date\": \"2020-05-08T00:00:00-07:00\", \"high_comp_home_perc\": 42.01840786276678, \"low_comp_home_perc\": 46.221407215531435}, {\"index\": 221, \"date\": \"2020-07-11T00:00:00-07:00\", \"high_comp_home_perc\": 34.03637229270426, \"low_comp_home_perc\": 33.44831093963914}, {\"index\": 222, \"date\": \"2020-01-26T00:00:00-08:00\", \"high_comp_home_perc\": 27.210819570292408, \"low_comp_home_perc\": 22.576378539846335}, {\"index\": 223, \"date\": \"2020-04-05T00:00:00-07:00\", \"high_comp_home_perc\": 51.744279642289065, \"low_comp_home_perc\": 27.82474229919127}, {\"index\": 224, \"date\": \"2020-04-29T00:00:00-07:00\", \"high_comp_home_perc\": 42.784570076930365, \"low_comp_home_perc\": 27.92077452248965}, {\"index\": 225, \"date\": \"2020-12-27T00:00:00-08:00\", \"high_comp_home_perc\": 37.57131575598611, \"low_comp_home_perc\": 20.025897835593746}, {\"index\": 226, \"date\": \"2020-06-22T00:00:00-07:00\", \"high_comp_home_perc\": 35.87421568479573, \"low_comp_home_perc\": 35.10064647205469}, {\"index\": 227, \"date\": \"2020-03-02T00:00:00-08:00\", \"high_comp_home_perc\": 23.72557654422313, \"low_comp_home_perc\": 25.481908557988262}, {\"index\": 228, \"date\": \"2020-03-05T00:00:00-08:00\", \"high_comp_home_perc\": 19.063972313602605, \"low_comp_home_perc\": 22.302658702222967}, {\"index\": 229, \"date\": \"2020-09-30T00:00:00-07:00\", \"high_comp_home_perc\": 33.294537855394196, \"low_comp_home_perc\": 36.064741216960705}, {\"index\": 230, \"date\": \"2020-10-21T00:00:00-07:00\", \"high_comp_home_perc\": 33.81975536124806, \"low_comp_home_perc\": 36.22435491544443}, {\"index\": 231, \"date\": \"2020-11-22T00:00:00-08:00\", \"high_comp_home_perc\": 32.86536579224269, \"low_comp_home_perc\": 23.942633367995665}, {\"index\": 232, \"date\": \"2020-02-21T00:00:00-08:00\", \"high_comp_home_perc\": 18.639820542744157, \"low_comp_home_perc\": 19.282724731823286}, {\"index\": 233, \"date\": \"2020-11-10T00:00:00-08:00\", \"high_comp_home_perc\": 33.26495416892576, \"low_comp_home_perc\": 44.188686082163976}, {\"index\": 234, \"date\": \"2020-09-29T00:00:00-07:00\", \"high_comp_home_perc\": 32.49146993709211, \"low_comp_home_perc\": 36.9507666250768}, {\"index\": 235, \"date\": \"2020-10-10T00:00:00-07:00\", \"high_comp_home_perc\": 27.436519215251536, \"low_comp_home_perc\": 20.852283833946544}, {\"index\": 236, \"date\": \"2020-06-11T00:00:00-07:00\", \"high_comp_home_perc\": 36.069536360412975, \"low_comp_home_perc\": 40.811061159650016}, {\"index\": 237, \"date\": \"2020-08-17T00:00:00-07:00\", \"high_comp_home_perc\": 34.494979416656534, \"low_comp_home_perc\": 32.17230334850533}, {\"index\": 238, \"date\": \"2020-01-11T00:00:00-08:00\", \"high_comp_home_perc\": 24.90178990637959, \"low_comp_home_perc\": 23.477446568645657}, {\"index\": 239, \"date\": \"2020-01-22T00:00:00-08:00\", \"high_comp_home_perc\": 17.53404107087556, \"low_comp_home_perc\": 19.503313954664502}, {\"index\": 240, \"date\": \"2020-04-30T00:00:00-07:00\", \"high_comp_home_perc\": 42.61340017871253, \"low_comp_home_perc\": 27.022216575744423}, {\"index\": 241, \"date\": \"2020-05-13T00:00:00-07:00\", \"high_comp_home_perc\": 42.522859883990506, \"low_comp_home_perc\": 39.68135919508918}, {\"index\": 242, \"date\": \"2020-10-25T00:00:00-07:00\", \"high_comp_home_perc\": 35.36196138614439, \"low_comp_home_perc\": 32.02875410618307}, {\"index\": 243, \"date\": \"2020-03-20T00:00:00-07:00\", \"high_comp_home_perc\": 42.64377343039106, \"low_comp_home_perc\": 23.04313155226927}, {\"index\": 244, \"date\": \"2020-06-15T00:00:00-07:00\", \"high_comp_home_perc\": 36.60910226840142, \"low_comp_home_perc\": 39.80903463159621}, {\"index\": 245, \"date\": \"2020-07-07T00:00:00-07:00\", \"high_comp_home_perc\": 36.14978875876614, \"low_comp_home_perc\": 33.9914641748054}, {\"index\": 246, \"date\": \"2020-07-29T00:00:00-07:00\", \"high_comp_home_perc\": 31.78531156007874, \"low_comp_home_perc\": 32.35567902942816}, {\"index\": 247, \"date\": \"2020-11-04T00:00:00-08:00\", \"high_comp_home_perc\": 31.81661919136322, \"low_comp_home_perc\": 42.563185001004214}, {\"index\": 248, \"date\": \"2020-01-31T00:00:00-08:00\", \"high_comp_home_perc\": 16.88304459436407, \"low_comp_home_perc\": 18.84336054973732}, {\"index\": 249, \"date\": \"2020-11-02T00:00:00-08:00\", \"high_comp_home_perc\": 33.05228393392888, \"low_comp_home_perc\": 37.38388374049553}, {\"index\": 250, \"date\": \"2020-01-16T00:00:00-08:00\", \"high_comp_home_perc\": 19.320413677679653, \"low_comp_home_perc\": 19.704166577606316}, {\"index\": 251, \"date\": \"2020-02-26T00:00:00-08:00\", \"high_comp_home_perc\": 17.29755087547616, \"low_comp_home_perc\": 17.028371850467877}, {\"index\": 252, \"date\": \"2020-02-16T00:00:00-08:00\", \"high_comp_home_perc\": 25.681927168663904, \"low_comp_home_perc\": 28.116126941178532}, {\"index\": 253, \"date\": \"2020-10-06T00:00:00-07:00\", \"high_comp_home_perc\": 33.99370113619945, \"low_comp_home_perc\": 31.072849413771753}, {\"index\": 254, \"date\": \"2020-10-26T00:00:00-07:00\", \"high_comp_home_perc\": 34.175313266030734, \"low_comp_home_perc\": 36.36158854561816}, {\"index\": 255, \"date\": \"2020-12-07T00:00:00-08:00\", \"high_comp_home_perc\": 36.356772510225014, \"low_comp_home_perc\": 32.83373146869611}, {\"index\": 256, \"date\": \"2020-05-20T00:00:00-07:00\", \"high_comp_home_perc\": 41.78556762171724, \"low_comp_home_perc\": 46.53720869971332}, {\"index\": 257, \"date\": \"2020-09-09T00:00:00-07:00\", \"high_comp_home_perc\": 35.668186691601356, \"low_comp_home_perc\": 37.25990248353744}, {\"index\": 258, \"date\": \"2020-02-07T00:00:00-08:00\", \"high_comp_home_perc\": 21.191297567748098, \"low_comp_home_perc\": 21.006696440625632}, {\"index\": 259, \"date\": \"2020-09-08T00:00:00-07:00\", \"high_comp_home_perc\": 35.13271639451072, \"low_comp_home_perc\": 30.210741619714554}, {\"index\": 260, \"date\": \"2020-02-06T00:00:00-08:00\", \"high_comp_home_perc\": 20.988292422136947, \"low_comp_home_perc\": 22.46590649902437}, {\"index\": 261, \"date\": \"2020-06-05T00:00:00-07:00\", \"high_comp_home_perc\": 35.32750889719634, \"low_comp_home_perc\": 37.1128887866039}, {\"index\": 262, \"date\": \"2020-10-18T00:00:00-07:00\", \"high_comp_home_perc\": 32.42718577125307, \"low_comp_home_perc\": 25.068638849557438}, {\"index\": 263, \"date\": \"2020-11-20T00:00:00-08:00\", \"high_comp_home_perc\": 29.951675609349426, \"low_comp_home_perc\": 29.01437341318294}, {\"index\": 264, \"date\": \"2020-04-24T00:00:00-07:00\", \"high_comp_home_perc\": 42.98976434703668, \"low_comp_home_perc\": 26.683957374638787}, {\"index\": 265, \"date\": \"2020-12-22T00:00:00-08:00\", \"high_comp_home_perc\": 31.20361001479153, \"low_comp_home_perc\": 18.479646342917178}, {\"index\": 266, \"date\": \"2020-03-17T00:00:00-07:00\", \"high_comp_home_perc\": 36.26453749040281, \"low_comp_home_perc\": 26.36472670808341}, {\"index\": 267, \"date\": \"2020-07-25T00:00:00-07:00\", \"high_comp_home_perc\": 35.093755260466246, \"low_comp_home_perc\": 33.51191260047568}, {\"index\": 268, \"date\": \"2020-03-18T00:00:00-07:00\", \"high_comp_home_perc\": 37.71211133819127, \"low_comp_home_perc\": 28.983629062206408}, {\"index\": 269, \"date\": \"2020-05-04T00:00:00-07:00\", \"high_comp_home_perc\": 44.873994733398085, \"low_comp_home_perc\": 48.51203428712418}, {\"index\": 270, \"date\": \"2020-08-06T00:00:00-07:00\", \"high_comp_home_perc\": 32.90640343862331, \"low_comp_home_perc\": 35.92337448505835}, {\"index\": 271, \"date\": \"2020-01-09T00:00:00-08:00\", \"high_comp_home_perc\": 22.69068165801619, \"low_comp_home_perc\": 23.37000344643825}, {\"index\": 272, \"date\": \"2020-05-17T00:00:00-07:00\", \"high_comp_home_perc\": 46.45689667683938, \"low_comp_home_perc\": 46.652463637394206}, {\"index\": 273, \"date\": \"2020-05-31T00:00:00-07:00\", \"high_comp_home_perc\": 41.995699061890505, \"low_comp_home_perc\": 38.67085371105081}, {\"index\": 274, \"date\": \"2020-06-27T00:00:00-07:00\", \"high_comp_home_perc\": 33.39496230059665, \"low_comp_home_perc\": 31.88960567900655}, {\"index\": 275, \"date\": \"2020-09-19T00:00:00-07:00\", \"high_comp_home_perc\": 32.18474126120803, \"low_comp_home_perc\": 27.586707372003403}, {\"index\": 276, \"date\": \"2020-02-24T00:00:00-08:00\", \"high_comp_home_perc\": 20.45094826979154, \"low_comp_home_perc\": 20.61105986687831}, {\"index\": 277, \"date\": \"2020-03-23T00:00:00-07:00\", \"high_comp_home_perc\": 42.135432116807614, \"low_comp_home_perc\": 23.501247329082208}, {\"index\": 278, \"date\": \"2020-09-07T00:00:00-07:00\", \"high_comp_home_perc\": 37.08755016946458, \"low_comp_home_perc\": 33.67336882090981}, {\"index\": 279, \"date\": \"2020-11-12T00:00:00-08:00\", \"high_comp_home_perc\": 31.0962459464296, \"low_comp_home_perc\": 37.97083476024438}, {\"index\": 280, \"date\": \"2020-05-09T00:00:00-07:00\", \"high_comp_home_perc\": 39.73982974696051, \"low_comp_home_perc\": 47.04028464488576}, {\"index\": 281, \"date\": \"2020-06-03T00:00:00-07:00\", \"high_comp_home_perc\": 38.00239495104484, \"low_comp_home_perc\": 44.244798730330736}, {\"index\": 282, \"date\": \"2020-12-16T00:00:00-08:00\", \"high_comp_home_perc\": 34.13373048549652, \"low_comp_home_perc\": 26.015977694742357}, {\"index\": 283, \"date\": \"2020-09-06T00:00:00-07:00\", \"high_comp_home_perc\": 34.18688635531225, \"low_comp_home_perc\": 32.49911453316905}, {\"index\": 284, \"date\": \"2020-12-10T00:00:00-08:00\", \"high_comp_home_perc\": 35.14470903497936, \"low_comp_home_perc\": 30.977291013238307}, {\"index\": 285, \"date\": \"2020-02-08T00:00:00-08:00\", \"high_comp_home_perc\": 25.014967683494216, \"low_comp_home_perc\": 24.513840074687536}, {\"index\": 286, \"date\": \"2020-03-22T00:00:00-07:00\", \"high_comp_home_perc\": 46.271426716195606, \"low_comp_home_perc\": 26.00385882753165}, {\"index\": 287, \"date\": \"2020-08-27T00:00:00-07:00\", \"high_comp_home_perc\": 33.92747079864761, \"low_comp_home_perc\": 32.45313660188212}, {\"index\": 288, \"date\": \"2020-12-18T00:00:00-08:00\", \"high_comp_home_perc\": 30.36290939461405, \"low_comp_home_perc\": 21.82779960623965}, {\"index\": 289, \"date\": \"2020-03-03T00:00:00-08:00\", \"high_comp_home_perc\": 18.963779581021946, \"low_comp_home_perc\": 21.73236087890393}, {\"index\": 290, \"date\": \"2020-01-19T00:00:00-08:00\", \"high_comp_home_perc\": 24.89288541447846, \"low_comp_home_perc\": 24.259384876257467}, {\"index\": 291, \"date\": \"2020-04-20T00:00:00-07:00\", \"high_comp_home_perc\": 44.72404515772938, \"low_comp_home_perc\": 24.506903020935958}, {\"index\": 292, \"date\": \"2020-06-08T00:00:00-07:00\", \"high_comp_home_perc\": 36.723945713661166, \"low_comp_home_perc\": 40.88728444516144}, {\"index\": 293, \"date\": \"2020-10-05T00:00:00-07:00\", \"high_comp_home_perc\": 34.79486219352442, \"low_comp_home_perc\": 42.31429623492736}, {\"index\": 294, \"date\": \"2020-01-23T00:00:00-08:00\", \"high_comp_home_perc\": 18.79104919391876, \"low_comp_home_perc\": 18.15059856076818}, {\"index\": 295, \"date\": \"2020-02-27T00:00:00-08:00\", \"high_comp_home_perc\": 18.90418658398247, \"low_comp_home_perc\": 21.201679227845506}, {\"index\": 296, \"date\": \"2020-07-05T00:00:00-07:00\", \"high_comp_home_perc\": 41.058359703000875, \"low_comp_home_perc\": 35.466146532929784}, {\"index\": 297, \"date\": \"2020-12-05T00:00:00-08:00\", \"high_comp_home_perc\": 31.671401558120852, \"low_comp_home_perc\": 25.263584960453713}, {\"index\": 298, \"date\": \"2020-12-11T00:00:00-08:00\", \"high_comp_home_perc\": 33.44037423410512, \"low_comp_home_perc\": 28.943650813265133}, {\"index\": 299, \"date\": \"2020-02-03T00:00:00-08:00\", \"high_comp_home_perc\": 23.35575257361274, \"low_comp_home_perc\": 22.894775256372284}, {\"index\": 300, \"date\": \"2020-03-27T00:00:00-07:00\", \"high_comp_home_perc\": 44.36030281183792, \"low_comp_home_perc\": 27.345665239072243}, {\"index\": 301, \"date\": \"2020-04-04T00:00:00-07:00\", \"high_comp_home_perc\": 48.368525794269694, \"low_comp_home_perc\": 27.841202627476108}, {\"index\": 302, \"date\": \"2020-07-17T00:00:00-07:00\", \"high_comp_home_perc\": 34.08562440122168, \"low_comp_home_perc\": 36.83323667891997}, {\"index\": 303, \"date\": \"2020-09-21T00:00:00-07:00\", \"high_comp_home_perc\": 33.695941911693104, \"low_comp_home_perc\": 30.303289682659802}, {\"index\": 304, \"date\": \"2020-11-17T00:00:00-08:00\", \"high_comp_home_perc\": 31.74046075829366, \"low_comp_home_perc\": 37.5681357300266}, {\"index\": 305, \"date\": \"2020-02-22T00:00:00-08:00\", \"high_comp_home_perc\": 22.4074368509294, \"low_comp_home_perc\": 23.899118401723527}, {\"index\": 306, \"date\": \"2020-12-08T00:00:00-08:00\", \"high_comp_home_perc\": 33.51195643851178, \"low_comp_home_perc\": 30.898560088892516}, {\"index\": 307, \"date\": \"2020-01-28T00:00:00-08:00\", \"high_comp_home_perc\": 18.56735835197437, \"low_comp_home_perc\": 25.912007423019006}, {\"index\": 308, \"date\": \"2020-02-17T00:00:00-08:00\", \"high_comp_home_perc\": 24.04442775041922, \"low_comp_home_perc\": 25.875990599475866}, {\"index\": 309, \"date\": \"2020-04-21T00:00:00-07:00\", \"high_comp_home_perc\": 44.94162162716123, \"low_comp_home_perc\": 26.70408582912538}, {\"index\": 310, \"date\": \"2020-08-02T00:00:00-07:00\", \"high_comp_home_perc\": 38.29535508325358, \"low_comp_home_perc\": 34.60176476311571}, {\"index\": 311, \"date\": \"2020-08-15T00:00:00-07:00\", \"high_comp_home_perc\": 34.775002642645006, \"low_comp_home_perc\": 32.09566304267176}, {\"index\": 312, \"date\": \"2020-08-30T00:00:00-07:00\", \"high_comp_home_perc\": 32.73131541045508, \"low_comp_home_perc\": 23.54303668866149}, {\"index\": 313, \"date\": \"2020-10-14T00:00:00-07:00\", \"high_comp_home_perc\": 33.17219674192539, \"low_comp_home_perc\": 37.51371142237937}, {\"index\": 314, \"date\": \"2020-01-02T00:00:00-08:00\", \"high_comp_home_perc\": 24.81993113310567, \"low_comp_home_perc\": 24.49251641145124}, {\"index\": 315, \"date\": \"2020-01-24T00:00:00-08:00\", \"high_comp_home_perc\": 19.57578653638016, \"low_comp_home_perc\": 21.87021229873652}, {\"index\": 316, \"date\": \"2020-04-08T00:00:00-07:00\", \"high_comp_home_perc\": 49.13792763379577, \"low_comp_home_perc\": 32.282695283892096}, {\"index\": 317, \"date\": \"2020-06-26T00:00:00-07:00\", \"high_comp_home_perc\": 34.37311832006489, \"low_comp_home_perc\": 33.482710645463456}, {\"index\": 318, \"date\": \"2020-08-19T00:00:00-07:00\", \"high_comp_home_perc\": 34.28448597834626, \"low_comp_home_perc\": 33.67345639097154}, {\"index\": 319, \"date\": \"2020-11-18T00:00:00-08:00\", \"high_comp_home_perc\": 30.53507003767692, \"low_comp_home_perc\": 36.061713335274376}, {\"index\": 320, \"date\": \"2020-02-20T00:00:00-08:00\", \"high_comp_home_perc\": 19.94366018602329, \"low_comp_home_perc\": 20.072218849622274}, {\"index\": 321, \"date\": \"2020-11-27T00:00:00-08:00\", \"high_comp_home_perc\": 31.111513868038188, \"low_comp_home_perc\": 20.710292541871883}, {\"index\": 322, \"date\": \"2020-12-17T00:00:00-08:00\", \"high_comp_home_perc\": 35.25629140704036, \"low_comp_home_perc\": 30.28069613443345}, {\"index\": 323, \"date\": \"2020-07-20T00:00:00-07:00\", \"high_comp_home_perc\": 35.3915761732593, \"low_comp_home_perc\": 36.62644654522322}, {\"index\": 324, \"date\": \"2020-12-02T00:00:00-08:00\", \"high_comp_home_perc\": 33.579155023903446, \"low_comp_home_perc\": 30.776059745909752}, {\"index\": 325, \"date\": \"2020-03-21T00:00:00-07:00\", \"high_comp_home_perc\": 48.46204414858775, \"low_comp_home_perc\": 28.37421790869896}, {\"index\": 326, \"date\": \"2020-05-21T00:00:00-07:00\", \"high_comp_home_perc\": 40.25016828268459, \"low_comp_home_perc\": 45.94759178735271}, {\"index\": 327, \"date\": \"2020-11-03T00:00:00-08:00\", \"high_comp_home_perc\": 32.03737124525755, \"low_comp_home_perc\": 34.202531058549276}, {\"index\": 328, \"date\": \"2020-05-02T00:00:00-07:00\", \"high_comp_home_perc\": 43.7215528718017, \"low_comp_home_perc\": 49.89645097959361}, {\"index\": 329, \"date\": \"2020-11-11T00:00:00-08:00\", \"high_comp_home_perc\": 30.263575400690513, \"low_comp_home_perc\": 37.791284420688214}, {\"index\": 330, \"date\": \"2020-02-23T00:00:00-08:00\", \"high_comp_home_perc\": 24.16757041934051, \"low_comp_home_perc\": 22.332645929181226}, {\"index\": 331, \"date\": \"2020-05-28T00:00:00-07:00\", \"high_comp_home_perc\": 38.938349299417496, \"low_comp_home_perc\": 42.04701180673721}, {\"index\": 332, \"date\": \"2020-05-30T00:00:00-07:00\", \"high_comp_home_perc\": 36.46104655661206, \"low_comp_home_perc\": 40.53016398188806}, {\"index\": 333, \"date\": \"2020-01-17T00:00:00-08:00\", \"high_comp_home_perc\": 20.066073390792045, \"low_comp_home_perc\": 22.205352343904824}, {\"index\": 334, \"date\": \"2020-09-15T00:00:00-07:00\", \"high_comp_home_perc\": 38.844832649241, \"low_comp_home_perc\": 41.12906986679469}, {\"index\": 335, \"date\": \"2020-04-13T00:00:00-07:00\", \"high_comp_home_perc\": 49.179506838267706, \"low_comp_home_perc\": 27.580760497373674}, {\"index\": 336, \"date\": \"2020-05-15T00:00:00-07:00\", \"high_comp_home_perc\": 38.6788069663952, \"low_comp_home_perc\": 38.072532802364336}, {\"index\": 337, \"date\": \"2020-06-07T00:00:00-07:00\", \"high_comp_home_perc\": 38.18032646342267, \"low_comp_home_perc\": 39.46852845405975}, {\"index\": 338, \"date\": \"2020-02-09T00:00:00-08:00\", \"high_comp_home_perc\": 29.288434302504935, \"low_comp_home_perc\": 26.326213478748247}, {\"index\": 339, \"date\": \"2020-06-09T00:00:00-07:00\", \"high_comp_home_perc\": 35.966148394689775, \"low_comp_home_perc\": 41.59046115794135}, {\"index\": 340, \"date\": \"2020-02-14T00:00:00-08:00\", \"high_comp_home_perc\": 18.75532524245358, \"low_comp_home_perc\": 21.59052631982633}, {\"index\": 341, \"date\": \"2020-04-18T00:00:00-07:00\", \"high_comp_home_perc\": 47.207006500096895, \"low_comp_home_perc\": 30.619986218665726}, {\"index\": 342, \"date\": \"2020-07-24T00:00:00-07:00\", \"high_comp_home_perc\": 33.805831948784295, \"low_comp_home_perc\": 37.20510181395955}, {\"index\": 343, \"date\": \"2020-07-30T00:00:00-07:00\", \"high_comp_home_perc\": 32.68790642300798, \"low_comp_home_perc\": 30.639097108227425}, {\"index\": 344, \"date\": \"2020-02-19T00:00:00-08:00\", \"high_comp_home_perc\": 20.351298614342824, \"low_comp_home_perc\": 20.334692601729838}, {\"index\": 345, \"date\": \"2020-06-25T00:00:00-07:00\", \"high_comp_home_perc\": 35.06722684106131, \"low_comp_home_perc\": 39.0721979845745}, {\"index\": 346, \"date\": \"2020-08-10T00:00:00-07:00\", \"high_comp_home_perc\": 35.50248757828794, \"low_comp_home_perc\": 44.023545231821934}, {\"index\": 347, \"date\": \"2020-04-17T00:00:00-07:00\", \"high_comp_home_perc\": 43.72707885573219, \"low_comp_home_perc\": 29.816878519686465}, {\"index\": 348, \"date\": \"2020-12-04T00:00:00-08:00\", \"high_comp_home_perc\": 30.069075314668684, \"low_comp_home_perc\": 26.357391992066916}, {\"index\": 349, \"date\": \"2020-10-22T00:00:00-07:00\", \"high_comp_home_perc\": 34.51673001143251, \"low_comp_home_perc\": 36.52768338789844}, {\"index\": 350, \"date\": \"2020-09-17T00:00:00-07:00\", \"high_comp_home_perc\": 34.51124810455784, \"low_comp_home_perc\": 34.959797852862465}, {\"index\": 351, \"date\": \"2020-04-11T00:00:00-07:00\", \"high_comp_home_perc\": 46.51597676402453, \"low_comp_home_perc\": 30.11431138092849}, {\"index\": 352, \"date\": \"2020-01-30T00:00:00-08:00\", \"high_comp_home_perc\": 18.144575653729927, \"low_comp_home_perc\": 22.091526414771128}, {\"index\": 353, \"date\": \"2020-10-07T00:00:00-07:00\", \"high_comp_home_perc\": 33.86419048697, \"low_comp_home_perc\": 35.246112525016024}, {\"index\": 354, \"date\": \"2020-05-14T00:00:00-07:00\", \"high_comp_home_perc\": 42.631957703850254, \"low_comp_home_perc\": 41.77100522628439}, {\"index\": 355, \"date\": \"2020-07-13T00:00:00-07:00\", \"high_comp_home_perc\": 35.63871359990899, \"low_comp_home_perc\": 40.32356489544428}, {\"index\": 356, \"date\": \"2020-08-14T00:00:00-07:00\", \"high_comp_home_perc\": 33.30305181282033, \"low_comp_home_perc\": 31.95134172841655}, {\"index\": 357, \"date\": \"2020-08-21T00:00:00-07:00\", \"high_comp_home_perc\": 30.925659014340763, \"low_comp_home_perc\": 33.633022597934875}, {\"index\": 358, \"date\": \"2020-08-31T00:00:00-07:00\", \"high_comp_home_perc\": 34.0271075564991, \"low_comp_home_perc\": 26.817282396094004}, {\"index\": 359, \"date\": \"2020-08-01T00:00:00-07:00\", \"high_comp_home_perc\": 32.147314099041836, \"low_comp_home_perc\": 28.39917001825582}, {\"index\": 360, \"date\": \"2020-02-11T00:00:00-08:00\", \"high_comp_home_perc\": 20.820395484960383, \"low_comp_home_perc\": 23.585756484185236}, {\"index\": 361, \"date\": \"2020-04-28T00:00:00-07:00\", \"high_comp_home_perc\": 43.71872420293191, \"low_comp_home_perc\": 25.33086244738034}, {\"index\": 362, \"date\": \"2020-05-26T00:00:00-07:00\", \"high_comp_home_perc\": 38.9400508461346, \"low_comp_home_perc\": 39.605983444207524}, {\"index\": 363, \"date\": \"2020-06-13T00:00:00-07:00\", \"high_comp_home_perc\": 35.180489669784215, \"low_comp_home_perc\": 35.412627183974145}, {\"index\": 364, \"date\": \"2020-08-28T00:00:00-07:00\", \"high_comp_home_perc\": 32.5881806863885, \"low_comp_home_perc\": 32.356149507456976}, {\"index\": 365, \"date\": \"2020-11-28T00:00:00-08:00\", \"high_comp_home_perc\": 31.527493547779503, \"low_comp_home_perc\": 17.50718634567426}]}}, {\"mode\": \"vega-lite\"});\n",
              "</script>"
            ]
          },
          "metadata": {
            "tags": []
          },
          "execution_count": 86
        },
        {
          "output_type": "stream",
          "text": [
            "time: 113 ms (started: 2021-04-15 22:40:41 +00:00)\n"
          ],
          "name": "stdout"
        }
      ]
    },
    {
      "cell_type": "code",
      "metadata": {
        "id": "Nx5aIy1QFsKS",
        "colab": {
          "base_uri": "https://localhost:8080/"
        },
        "outputId": "d11f9ce4-7ede-4149-988d-c70a9c9759e9"
      },
      "source": [
        "# alt.Chart(result_mean_df).mark_bar(size=30).encode(\n",
        "#     alt.X('poverty_percentage:N'),\n",
        "#     alt.Y('mean_completely_home_percentage'),\n",
        "#     color = alt.Color('color',scale=None),\n",
        "#     tooltip=[alt.Tooltip('poverty_percentage'),\n",
        "#              alt.Tooltip('mean_completely_home_percentage')]\n",
        "# ).properties(width=400, height=400).interactive()"
      ],
      "execution_count": 87,
      "outputs": [
        {
          "output_type": "stream",
          "text": [
            "time: 3.18 ms (started: 2021-04-15 22:40:42 +00:00)\n"
          ],
          "name": "stdout"
        }
      ]
    },
    {
      "cell_type": "code",
      "metadata": {
        "id": "BLlodBHxPY4n",
        "colab": {
          "base_uri": "https://localhost:8080/"
        },
        "outputId": "63e2d9b9-276e-49a3-bc44-760ed463d71d"
      },
      "source": [
        "# #\n",
        "# alt.Chart(result_mean_df).mark_point().encode(\n",
        "#     alt.X('poverty_percentage:N'),\n",
        "#     alt.Y('mean_completely_home_percentage'),\n",
        "#     color = alt.Color('color',scale=None),\n",
        "#     tooltip=[alt.Tooltip('poverty_percentage'),\n",
        "#              alt.Tooltip('mean_completely_home_percentage')]\n",
        "# ).properties(width=400, height=400).interactive()\n",
        "\n"
      ],
      "execution_count": 88,
      "outputs": [
        {
          "output_type": "stream",
          "text": [
            "time: 2.37 ms (started: 2021-04-15 22:40:42 +00:00)\n"
          ],
          "name": "stdout"
        }
      ]
    },
    {
      "cell_type": "code",
      "metadata": {
        "id": "AES-w9IdUzff",
        "colab": {
          "base_uri": "https://localhost:8080/"
        },
        "outputId": "0bab7daf-3f65-41a4-ccec-e46ab60729de"
      },
      "source": [
        "# result_df['poverty_percentage'].astype(float).dtype"
      ],
      "execution_count": 89,
      "outputs": [
        {
          "output_type": "stream",
          "text": [
            "time: 1.07 ms (started: 2021-04-15 22:40:42 +00:00)\n"
          ],
          "name": "stdout"
        }
      ]
    },
    {
      "cell_type": "code",
      "metadata": {
        "id": "eCgNqN8QjwbK",
        "colab": {
          "base_uri": "https://localhost:8080/"
        },
        "outputId": "e2e557e3-3c25-4269-db12-3f2d0ed245f8"
      },
      "source": [
        "# #\n",
        "# alt.Chart(result_mean_df).mark_point().encode(\n",
        "#     alt.X('poverty_percentage:N'),\n",
        "#     alt.Y('mean_full_time_work_percentage'),\n",
        "#     color = alt.Color('color',scale=None),\n",
        "#     tooltip=[alt.Tooltip('poverty_percentage'),\n",
        "#              alt.Tooltip('mean_full_time_work_percentage')]\n",
        "# ).properties(width=400, height=400).interactive()"
      ],
      "execution_count": 90,
      "outputs": [
        {
          "output_type": "stream",
          "text": [
            "time: 2.53 ms (started: 2021-04-15 22:40:42 +00:00)\n"
          ],
          "name": "stdout"
        }
      ]
    },
    {
      "cell_type": "code",
      "metadata": {
        "id": "Emo5JcdLdlku",
        "colab": {
          "base_uri": "https://localhost:8080/"
        },
        "outputId": "63fd2a1a-8aad-4efb-c828-c1b2a8c04682"
      },
      "source": [
        "# #\n",
        "# alt.Chart(result_mean_df).mark_point().encode(\n",
        "#     alt.X('poverty_percentage:N'),\n",
        "#     alt.Y('mean_part_time_work_percentage'),\n",
        "#     color = alt.Color('color',scale=None),\n",
        "#     tooltip=[alt.Tooltip('poverty_percentage'),\n",
        "#              alt.Tooltip('mean_part_time_work_percentage')]\n",
        "# ).properties(width=400, height=400).interactive()"
      ],
      "execution_count": 91,
      "outputs": [
        {
          "output_type": "stream",
          "text": [
            "time: 2.59 ms (started: 2021-04-15 22:40:42 +00:00)\n"
          ],
          "name": "stdout"
        }
      ]
    },
    {
      "cell_type": "code",
      "metadata": {
        "id": "HkME469pdqJe"
      },
      "source": [
        ""
      ],
      "execution_count": 91,
      "outputs": []
    }
  ]
}