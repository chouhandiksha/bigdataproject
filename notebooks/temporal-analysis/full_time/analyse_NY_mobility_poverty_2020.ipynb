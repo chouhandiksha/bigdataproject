{
  "nbformat": 4,
  "nbformat_minor": 0,
  "metadata": {
    "colab": {
      "name": "analyse_LA_mobility_poverty_time_series_2020.ipynb",
      "provenance": [],
      "collapsed_sections": [],
      "include_colab_link": true
    },
    "kernelspec": {
      "name": "python3",
      "display_name": "Python 3"
    },
    "language_info": {
      "name": "python"
    }
  },
  "cells": [
    {
      "cell_type": "markdown",
      "metadata": {
        "id": "view-in-github",
        "colab_type": "text"
      },
      "source": [
        "<a href=\"https://colab.research.google.com/github/chouhandiksha/bigdataproject/blob/colab/notebooks/temporal-analysis/full_time/analyse_NY_mobility_poverty_2020.ipynb\" target=\"_parent\"><img src=\"https://colab.research.google.com/assets/colab-badge.svg\" alt=\"Open In Colab\"/></a>"
      ]
    },
    {
      "cell_type": "markdown",
      "metadata": {
        "id": "6Vnc5foT5YFx"
      },
      "source": [
        "**Spark SQL Documentation:** \n",
        "https://spark.apache.org/docs/2.2.0/sql-programming-guide.html"
      ]
    },
    {
      "cell_type": "code",
      "metadata": {
        "id": "XXJ-cpgT3moz",
        "colab": {
          "base_uri": "https://localhost:8080/"
        },
        "outputId": "81e1fdc2-4ed7-44c1-8ea2-2f319686f40d"
      },
      "source": [
        "# add time information at the end of every cell\n",
        "!pip install ipython-autotime\n",
        "%load_ext autotime"
      ],
      "execution_count": 1,
      "outputs": [
        {
          "output_type": "stream",
          "text": [
            "Collecting ipython-autotime\n",
            "  Downloading https://files.pythonhosted.org/packages/b4/c9/b413a24f759641bc27ef98c144b590023c8038dfb8a3f09e713e9dff12c1/ipython_autotime-0.3.1-py2.py3-none-any.whl\n",
            "Requirement already satisfied: ipython in /usr/local/lib/python3.7/dist-packages (from ipython-autotime) (5.5.0)\n",
            "Requirement already satisfied: setuptools>=18.5 in /usr/local/lib/python3.7/dist-packages (from ipython->ipython-autotime) (54.2.0)\n",
            "Requirement already satisfied: decorator in /usr/local/lib/python3.7/dist-packages (from ipython->ipython-autotime) (4.4.2)\n",
            "Requirement already satisfied: pexpect; sys_platform != \"win32\" in /usr/local/lib/python3.7/dist-packages (from ipython->ipython-autotime) (4.8.0)\n",
            "Requirement already satisfied: simplegeneric>0.8 in /usr/local/lib/python3.7/dist-packages (from ipython->ipython-autotime) (0.8.1)\n",
            "Requirement already satisfied: traitlets>=4.2 in /usr/local/lib/python3.7/dist-packages (from ipython->ipython-autotime) (5.0.5)\n",
            "Requirement already satisfied: pickleshare in /usr/local/lib/python3.7/dist-packages (from ipython->ipython-autotime) (0.7.5)\n",
            "Requirement already satisfied: pygments in /usr/local/lib/python3.7/dist-packages (from ipython->ipython-autotime) (2.6.1)\n",
            "Requirement already satisfied: prompt-toolkit<2.0.0,>=1.0.4 in /usr/local/lib/python3.7/dist-packages (from ipython->ipython-autotime) (1.0.18)\n",
            "Requirement already satisfied: ptyprocess>=0.5 in /usr/local/lib/python3.7/dist-packages (from pexpect; sys_platform != \"win32\"->ipython->ipython-autotime) (0.7.0)\n",
            "Requirement already satisfied: ipython-genutils in /usr/local/lib/python3.7/dist-packages (from traitlets>=4.2->ipython->ipython-autotime) (0.2.0)\n",
            "Requirement already satisfied: wcwidth in /usr/local/lib/python3.7/dist-packages (from prompt-toolkit<2.0.0,>=1.0.4->ipython->ipython-autotime) (0.2.5)\n",
            "Requirement already satisfied: six>=1.9.0 in /usr/local/lib/python3.7/dist-packages (from prompt-toolkit<2.0.0,>=1.0.4->ipython->ipython-autotime) (1.15.0)\n",
            "Installing collected packages: ipython-autotime\n",
            "Successfully installed ipython-autotime-0.3.1\n",
            "time: 2.07 ms (started: 2021-04-22 01:43:25 +00:00)\n"
          ],
          "name": "stdout"
        }
      ]
    },
    {
      "cell_type": "code",
      "metadata": {
        "colab": {
          "base_uri": "https://localhost:8080/"
        },
        "id": "DggpqrsrscGi",
        "outputId": "dee67cb0-2d8e-4488-8f43-51ee98c0449b"
      },
      "source": [
        "# Install required dependancies\n",
        "!pip install pyspark\n",
        "!apt install openjdk-8-jdk-headless -qq\n",
        "import os\n",
        "os.environ[\"JAVA_HOME\"] = \"/usr/lib/jvm/java-8-openjdk-amd64\""
      ],
      "execution_count": 2,
      "outputs": [
        {
          "output_type": "stream",
          "text": [
            "Collecting pyspark\n",
            "\u001b[?25l  Downloading https://files.pythonhosted.org/packages/45/b0/9d6860891ab14a39d4bddf80ba26ce51c2f9dc4805e5c6978ac0472c120a/pyspark-3.1.1.tar.gz (212.3MB)\n",
            "\u001b[K     |████████████████████████████████| 212.3MB 71kB/s \n",
            "\u001b[?25hCollecting py4j==0.10.9\n",
            "\u001b[?25l  Downloading https://files.pythonhosted.org/packages/9e/b6/6a4fb90cd235dc8e265a6a2067f2a2c99f0d91787f06aca4bcf7c23f3f80/py4j-0.10.9-py2.py3-none-any.whl (198kB)\n",
            "\u001b[K     |████████████████████████████████| 204kB 42.3MB/s \n",
            "\u001b[?25hBuilding wheels for collected packages: pyspark\n",
            "  Building wheel for pyspark (setup.py) ... \u001b[?25l\u001b[?25hdone\n",
            "  Created wheel for pyspark: filename=pyspark-3.1.1-py2.py3-none-any.whl size=212767604 sha256=5937d23cf61f4e117eda1bef6a690e91864c3de9f5ae7fe1f5b95af816dafcc0\n",
            "  Stored in directory: /root/.cache/pip/wheels/0b/90/c0/01de724414ef122bd05f056541fb6a0ecf47c7ca655f8b3c0f\n",
            "Successfully built pyspark\n",
            "Installing collected packages: py4j, pyspark\n",
            "Successfully installed py4j-0.10.9 pyspark-3.1.1\n",
            "The following additional packages will be installed:\n",
            "  openjdk-8-jre-headless\n",
            "Suggested packages:\n",
            "  openjdk-8-demo openjdk-8-source libnss-mdns fonts-dejavu-extra\n",
            "  fonts-ipafont-gothic fonts-ipafont-mincho fonts-wqy-microhei\n",
            "  fonts-wqy-zenhei fonts-indic\n",
            "The following NEW packages will be installed:\n",
            "  openjdk-8-jdk-headless openjdk-8-jre-headless\n",
            "0 upgraded, 2 newly installed, 0 to remove and 31 not upgraded.\n",
            "Need to get 36.5 MB of archives.\n",
            "After this operation, 143 MB of additional disk space will be used.\n",
            "Selecting previously unselected package openjdk-8-jre-headless:amd64.\n",
            "(Reading database ... 160983 files and directories currently installed.)\n",
            "Preparing to unpack .../openjdk-8-jre-headless_8u282-b08-0ubuntu1~18.04_amd64.deb ...\n",
            "Unpacking openjdk-8-jre-headless:amd64 (8u282-b08-0ubuntu1~18.04) ...\n",
            "Selecting previously unselected package openjdk-8-jdk-headless:amd64.\n",
            "Preparing to unpack .../openjdk-8-jdk-headless_8u282-b08-0ubuntu1~18.04_amd64.deb ...\n",
            "Unpacking openjdk-8-jdk-headless:amd64 (8u282-b08-0ubuntu1~18.04) ...\n",
            "Setting up openjdk-8-jre-headless:amd64 (8u282-b08-0ubuntu1~18.04) ...\n",
            "update-alternatives: using /usr/lib/jvm/java-8-openjdk-amd64/jre/bin/orbd to provide /usr/bin/orbd (orbd) in auto mode\n",
            "update-alternatives: using /usr/lib/jvm/java-8-openjdk-amd64/jre/bin/servertool to provide /usr/bin/servertool (servertool) in auto mode\n",
            "update-alternatives: using /usr/lib/jvm/java-8-openjdk-amd64/jre/bin/tnameserv to provide /usr/bin/tnameserv (tnameserv) in auto mode\n",
            "Setting up openjdk-8-jdk-headless:amd64 (8u282-b08-0ubuntu1~18.04) ...\n",
            "update-alternatives: using /usr/lib/jvm/java-8-openjdk-amd64/bin/idlj to provide /usr/bin/idlj (idlj) in auto mode\n",
            "update-alternatives: using /usr/lib/jvm/java-8-openjdk-amd64/bin/wsimport to provide /usr/bin/wsimport (wsimport) in auto mode\n",
            "update-alternatives: using /usr/lib/jvm/java-8-openjdk-amd64/bin/jsadebugd to provide /usr/bin/jsadebugd (jsadebugd) in auto mode\n",
            "update-alternatives: using /usr/lib/jvm/java-8-openjdk-amd64/bin/native2ascii to provide /usr/bin/native2ascii (native2ascii) in auto mode\n",
            "update-alternatives: using /usr/lib/jvm/java-8-openjdk-amd64/bin/javah to provide /usr/bin/javah (javah) in auto mode\n",
            "update-alternatives: using /usr/lib/jvm/java-8-openjdk-amd64/bin/hsdb to provide /usr/bin/hsdb (hsdb) in auto mode\n",
            "update-alternatives: using /usr/lib/jvm/java-8-openjdk-amd64/bin/clhsdb to provide /usr/bin/clhsdb (clhsdb) in auto mode\n",
            "update-alternatives: using /usr/lib/jvm/java-8-openjdk-amd64/bin/xjc to provide /usr/bin/xjc (xjc) in auto mode\n",
            "update-alternatives: using /usr/lib/jvm/java-8-openjdk-amd64/bin/schemagen to provide /usr/bin/schemagen (schemagen) in auto mode\n",
            "update-alternatives: using /usr/lib/jvm/java-8-openjdk-amd64/bin/extcheck to provide /usr/bin/extcheck (extcheck) in auto mode\n",
            "update-alternatives: using /usr/lib/jvm/java-8-openjdk-amd64/bin/jhat to provide /usr/bin/jhat (jhat) in auto mode\n",
            "update-alternatives: using /usr/lib/jvm/java-8-openjdk-amd64/bin/wsgen to provide /usr/bin/wsgen (wsgen) in auto mode\n",
            "time: 52.8 s (started: 2021-04-22 01:43:25 +00:00)\n"
          ],
          "name": "stdout"
        }
      ]
    },
    {
      "cell_type": "code",
      "metadata": {
        "id": "ppkG73kRsei0",
        "colab": {
          "base_uri": "https://localhost:8080/"
        },
        "outputId": "e8aa378b-eac0-448c-de82-4ef79d310d99"
      },
      "source": [
        "# Import modules\n",
        "import numpy as np\n",
        "import pandas as pd\n",
        "import datetime\n",
        "import matplotlib.pyplot as plt\n",
        "from pathlib import Path\n",
        "%matplotlib inline\n",
        "\n",
        "import pyspark\n",
        "from pyspark.sql import *\n",
        "from pyspark.sql.types import *\n",
        "from pyspark.sql.functions import *\n",
        "from pyspark import SparkContext, SparkConf"
      ],
      "execution_count": 3,
      "outputs": [
        {
          "output_type": "stream",
          "text": [
            "time: 106 ms (started: 2021-04-22 01:44:18 +00:00)\n"
          ],
          "name": "stdout"
        }
      ]
    },
    {
      "cell_type": "code",
      "metadata": {
        "colab": {
          "base_uri": "https://localhost:8080/"
        },
        "id": "pYm9-j_fflal",
        "outputId": "aa8e6aa6-4b42-44f2-a4ac-e25e46e53e0b"
      },
      "source": [
        "import altair as alt\n",
        "alt.data_transformers.disable_max_rows()"
      ],
      "execution_count": 4,
      "outputs": [
        {
          "output_type": "execute_result",
          "data": {
            "text/plain": [
              "DataTransformerRegistry.enable('default')"
            ]
          },
          "metadata": {
            "tags": []
          },
          "execution_count": 4
        },
        {
          "output_type": "stream",
          "text": [
            "time: 291 ms (started: 2021-04-22 01:44:18 +00:00)\n"
          ],
          "name": "stdout"
        }
      ]
    },
    {
      "cell_type": "code",
      "metadata": {
        "id": "1oe1ksN5skMG",
        "colab": {
          "base_uri": "https://localhost:8080/"
        },
        "outputId": "21cbc8dc-8114-4eb1-c717-c9dfc0129584"
      },
      "source": [
        "# create the session\n",
        "conf = SparkConf().set(\"spark.ui.port\", \"4050\")\n",
        "\n",
        "# create the context\n",
        "sc = pyspark.SparkContext(conf=conf)\n",
        "spark = SparkSession.builder.getOrCreate()"
      ],
      "execution_count": 5,
      "outputs": [
        {
          "output_type": "stream",
          "text": [
            "time: 5.02 s (started: 2021-04-22 01:44:19 +00:00)\n"
          ],
          "name": "stdout"
        }
      ]
    },
    {
      "cell_type": "code",
      "metadata": {
        "id": "zdPF-0xIrDm9",
        "colab": {
          "base_uri": "https://localhost:8080/"
        },
        "outputId": "7e462c3e-affa-4583-c573-2a7fd140e8a9"
      },
      "source": [
        "#sc.stop()"
      ],
      "execution_count": 6,
      "outputs": [
        {
          "output_type": "stream",
          "text": [
            "time: 1.36 ms (started: 2021-04-22 01:44:24 +00:00)\n"
          ],
          "name": "stdout"
        }
      ]
    },
    {
      "cell_type": "code",
      "metadata": {
        "colab": {
          "base_uri": "https://localhost:8080/"
        },
        "id": "WGXwI2d1szaO",
        "outputId": "3f5ff6fe-f3cb-41d4-eab0-1b87ed03053e"
      },
      "source": [
        "# Mount drive with data\n",
        "from google.colab import drive\n",
        "drive.mount('/content/drive')"
      ],
      "execution_count": 7,
      "outputs": [
        {
          "output_type": "stream",
          "text": [
            "Mounted at /content/drive\n",
            "time: 26.2 s (started: 2021-04-22 01:44:24 +00:00)\n"
          ],
          "name": "stdout"
        }
      ]
    },
    {
      "cell_type": "code",
      "metadata": {
        "id": "grN2uNcFvloa",
        "colab": {
          "base_uri": "https://localhost:8080/"
        },
        "outputId": "643c160f-0f03-4498-c407-b0bdcd97e555"
      },
      "source": [
        "# Set path to data folder\n",
        "path = Path('drive/MyDrive/big-data-project/data/clean-data')\n",
        "city = 'ny'"
      ],
      "execution_count": 8,
      "outputs": [
        {
          "output_type": "stream",
          "text": [
            "time: 1.68 ms (started: 2021-04-22 01:44:50 +00:00)\n"
          ],
          "name": "stdout"
        }
      ]
    },
    {
      "cell_type": "code",
      "metadata": {
        "colab": {
          "base_uri": "https://localhost:8080/"
        },
        "id": "BvCrFmU2tGXY",
        "outputId": "c9a68744-faa1-44e5-f8af-ffd2f33f00e3"
      },
      "source": [
        "# Read data into dataframe\n",
        "df_soc = spark.read.format('csv').option('header','true').option('quote',\"\\\"\").option('escape',\"\\\"\").load(str(path/city/'social/2020/*.csv'))\n",
        "df_soc.show()"
      ],
      "execution_count": 9,
      "outputs": [
        {
          "output_type": "stream",
          "text": [
            "+---+------------+--------------------+--------------------+------------+---------------------------+--------------------------+------------------------------------------+----------------------------+----------------------+------------------------+--------------------+-------------------------------+-------------------------------+--------------------+-------------------------+--------------------------+----------------------+----------------------------+---------------------------+-----------------------------+\n",
            "|_c0|         cbg|    date_range_start|      date_range_end|device_count|distance_traveled_from_home|bucketed_distance_traveled|median_dwell_at_bucketed_distance_traveled|completely_home_device_count|median_home_dwell_time|bucketed_home_dwell_time|at_home_by_each_hour|part_time_work_behavior_devices|full_time_work_behavior_devices|    destination_cbgs|delivery_behavior_devices|median_non_home_dwell_time|candidate_device_count|bucketed_away_from_home_time|median_percentage_time_home|bucketed_percentage_time_home|\n",
            "+---+------------+--------------------+--------------------+------------+---------------------------+--------------------------+------------------------------------------+----------------------------+----------------------+------------------------+--------------------+-------------------------------+-------------------------------+--------------------+-------------------------+--------------------------+----------------------+----------------------------+---------------------------+-----------------------------+\n",
            "|  0|360470064002|2020-02-03T00:00:...|2020-02-04T00:00:...|          64|                       1883|      {\"16001-50000\":1,...|                      {\"16001-50000\":20...|                          18|                   722|    {\"721-1080\":17,\"3...|[38,42,36,38,35,3...|                              7|                              5|{\"360610089003\":1...|                        2|                       107|                   117|        {\"21-45\":4,\"541-6...|                         84|         {\"26-50\":3,\"51-75...|\n",
            "|  1|360810384001|2020-02-03T00:00:...|2020-02-04T00:00:...|          84|                       5483|      {\"16001-50000\":12...|                      {\"16001-50000\":21...|                          21|                   587|    {\"721-1080\":13,\"3...|[50,53,55,54,50,4...|                             12|                              8|{\"360810208001\":1...|                        4|                       138|                   155|        {\"21-45\":7,\"481-5...|                         73|         {\"26-50\":9,\"51-75...|\n",
            "|  2|360850170103|2020-02-03T00:00:...|2020-02-04T00:00:...|         250|                       4995|      {\"16001-50000\":48...|                      {\"16001-50000\":10...|                          68|                   781|    {\"721-1080\":68,\"3...|[180,186,184,188,...|                             41|                             26|{\"360850187021\":1...|                        8|                       141|                   377|        {\"21-45\":8,\"481-5...|                         84|         {\"26-50\":16,\"51-7...|\n",
            "|  3|360050213021|2020-02-03T00:00:...|2020-02-04T00:00:...|          92|                       2739|      {\"16001-50000\":4,...|                      {\"16001-50000\":50...|                          26|                   578|    {\"721-1080\":18,\"3...|[55,53,55,52,51,4...|                             11|                              6|{\"360050237021\":2...|                        3|                       130|                   194|        {\"21-45\":5,\"481-5...|                         79|         {\"26-50\":8,\"51-75...|\n",
            "|  4|360050253004|2020-02-03T00:00:...|2020-02-04T00:00:...|          52|                       3801|      {\"16001-50000\":2,...|                      {\"16001-50000\":31...|                          13|                   533|    {\"721-1080\":8,\"36...|[26,26,25,27,26,2...|                              7|                              4|{\"360050326002\":2...|                        2|                       193|                   106|        {\"21-45\":3,\"481-5...|                         76|         {\"26-50\":5,\"51-75...|\n",
            "|  5|360470385003|2020-02-03T00:00:...|2020-02-04T00:00:...|          37|                       5459|      {\"0\":10,\"2001-800...|                      {\"1001-2000\":77,\"...|                           9|                   661|    {\"721-1080\":13,\"3...|[24,25,26,25,24,2...|                              4|                              5|{\"360470379002\":1...|                        1|                       120|                    78|        {\"21-45\":2,\"481-5...|                         70|         {\"0-25\":5,\"76-100...|\n",
            "|  6|360470406002|2020-02-03T00:00:...|2020-02-04T00:00:...|          46|                      10480|      {\"16001-50000\":7,...|                      {\"16001-50000\":12...|                          12|                   390|    {\"721-1080\":7,\"36...|[23,18,18,18,18,1...|                              7|                              4|{\"360470804003\":1...|                        3|                        38|                    79|        {\"21-45\":4,\"1201-...|                         69|         {\"0-25\":17,\"76-10...|\n",
            "|  7|360470428003|2020-02-03T00:00:...|2020-02-04T00:00:...|          84|                       3798|      {\"16001-50000\":5,...|                      {\"16001-50000\":32...|                          20|                   693|    {\"721-1080\":26,\"3...|[55,57,56,54,55,5...|                              2|                             13|{\"360470478001\":2...|                        7|                       181|                   139|        {\"21-45\":1,\"481-5...|                         67|         {\"0-25\":13,\"76-10...|\n",
            "|  8|360471130002|2020-02-03T00:00:...|2020-02-04T00:00:...|          84|                       5276|      {\"16001-50000\":1,...|                      {\"16001-50000\":64...|                          20|                   759|    {\"721-1080\":25,\"3...|[54,57,58,59,54,5...|                             13|                              9|{\"360470804003\":1...|                        5|                       200|                   155|        {\"21-45\":1,\"481-5...|                         69|         {\"26-50\":5,\"51-75...|\n",
            "|  9|360811029001|2020-02-03T00:00:...|2020-02-04T00:00:...|         256|                       5062|      {\"16001-50000\":25...|                      {\"16001-50000\":82...|                          95|                   411|    {\"721-1080\":49,\"3...|[124,121,125,125,...|                             24|                             18|{\"360811033001\":1...|                        6|                        31|                   766|        {\"21-45\":18,\"481-...|                         86|         {\"26-50\":12,\"51-7...|\n",
            "| 10|360050177022|2020-02-03T00:00:...|2020-02-04T00:00:...|          53|                       5200|      {\"16001-50000\":2,...|                      {\"16001-50000\":58...|                          19|                   709|    {\"721-1080\":11,\"3...|[31,31,29,29,30,2...|                              2|                              1|{\"360610265002\":1...|                        5|                        33|                   108|        {\"21-45\":5,\"481-5...|                         90|         {\"26-50\":1,\"51-75...|\n",
            "| 11|360050248002|2020-02-03T00:00:...|2020-02-04T00:00:...|          63|                       3274|      {\"16001-50000\":2,...|                      {\"16001-50000\":29...|                          24|                   634|    {\"721-1080\":10,\"3...|[33,39,33,35,32,3...|                              6|                              2|{\"360050248001\":3...|                        6|                        22|                   112|        {\"21-45\":1,\"481-5...|                         94|         {\"0-25\":13,\"76-10...|\n",
            "| 12|360050363003|2020-02-03T00:00:...|2020-02-04T00:00:...|          81|                       3828|      {\"16001-50000\":7,...|                      {\"16001-50000\":20...|                          17|                   643|    {\"721-1080\":22,\"3...|[48,46,47,45,48,4...|                              7|                              8|{\"360050237021\":1...|                        4|                       203|                   227|        {\"21-45\":6,\"481-5...|                         74|         {\"0-25\":21,\"76-10...|\n",
            "| 13|360470084003|2020-02-03T00:00:...|2020-02-04T00:00:...|          42|                       4795|      {\"0\":10,\">50000\":...|                      {\">50000\":57,\"<10...|                          12|                   512|    {\"721-1080\":6,\"36...|[26,24,24,24,25,2...|                              7|                              5|{\"360470485001\":1...|                        1|                       305|                    99|        {\"481-540\":1,\"541...|                         58|         {\"26-50\":4,\"51-75...|\n",
            "| 14|360470393002|2020-02-03T00:00:...|2020-02-04T00:00:...|          42|                       4291|      {\"0\":12,\"2001-800...|                      {\"1001-2000\":20,\"...|                          12|                   685|    {\"721-1080\":10,\"3...|[28,27,28,28,29,2...|                              4|                              5|{\"360470551003\":1...|                        3|                       142|                   130|        {\"21-45\":4,\"481-5...|                         82|         {\"0-25\":2,\"76-100...|\n",
            "| 15|360470888003|2020-02-03T00:00:...|2020-02-04T00:00:...|          73|                       3905|      {\"16001-50000\":1,...|                      {\"16001-50000\":31...|                          24|                   593|    {\"721-1080\":15,\"3...|[46,48,49,48,44,4...|                              4|                             10|{\"360470816002\":1...|                        7|                        92|                   146|        {\"21-45\":6,\"481-5...|                         74|         {\"0-25\":16,\"76-10...|\n",
            "| 16|360610072004|2020-02-03T00:00:...|2020-02-04T00:00:...|          58|                       1559|      {\"16001-50000\":1,...|                      {\"16001-50000\":72...|                          17|                   453|    {\"721-1080\":15,\"3...|[27,28,28,29,26,2...|                              8|                              6|{\"361090004001\":1...|                        1|                       342|                   132|        {\"481-540\":2,\"541...|                         60|         {\"0-25\":9,\"76-100...|\n",
            "| 17|360050414002|2020-02-03T00:00:...|2020-02-04T00:00:...|          60|                       5550|      {\"16001-50000\":7,...|                      {\"16001-50000\":29...|                          19|                   720|    {\"721-1080\":16,\"3...|[41,42,41,43,36,3...|                              5|                              6|{\"360050418001\":2...|                        5|                        65|                   116|        {\"21-45\":7,\"481-5...|                         91|         {\">100\":1,\"0-25\":...|\n",
            "| 18|360050424001|2020-02-03T00:00:...|2020-02-04T00:00:...|          44|                       7992|      {\"16001-50000\":7,...|                      {\"16001-50000\":25...|                          12|                   319|    {\"721-1080\":5,\"36...|[16,15,18,16,16,2...|                              4|                              3|{\"360811257001\":1...|                        1|                        50|                    85|        {\"21-45\":4,\"541-6...|                         78|         {\"26-50\":1,\"51-75...|\n",
            "| 19|360470076002|2020-02-03T00:00:...|2020-02-04T00:00:...|          49|                       4238|      {\"0\":13,\">50000\":...|                      {\">50000\":28,\"<10...|                          11|                   718|    {\"721-1080\":15,\"3...|[37,33,34,33,33,3...|                              9|                              7|{\"360470060002\":1...|                        1|                       231|                    87|        {\"21-45\":5,\"481-5...|                         74|         {\"0-25\":4,\"76-100...|\n",
            "+---+------------+--------------------+--------------------+------------+---------------------------+--------------------------+------------------------------------------+----------------------------+----------------------+------------------------+--------------------+-------------------------------+-------------------------------+--------------------+-------------------------+--------------------------+----------------------+----------------------------+---------------------------+-----------------------------+\n",
            "only showing top 20 rows\n",
            "\n",
            "time: 25.9 s (started: 2021-04-22 01:44:50 +00:00)\n"
          ],
          "name": "stdout"
        }
      ]
    },
    {
      "cell_type": "code",
      "metadata": {
        "colab": {
          "base_uri": "https://localhost:8080/"
        },
        "id": "wh747sqcHi4-",
        "outputId": "ad3008ad-04c6-4d98-b228-fbbad5a0b09e"
      },
      "source": [
        "df_soc.createOrReplaceTempView('clean_ny')\n",
        "df_soc = spark.sql('SELECT cbg, date_range_start as date, device_count, full_time_work_behavior_devices FROM clean_ny WHERE device_count > 5')\n",
        "df_soc.show()"
      ],
      "execution_count": 10,
      "outputs": [
        {
          "output_type": "stream",
          "text": [
            "+------------+--------------------+------------+-------------------------------+\n",
            "|         cbg|                date|device_count|full_time_work_behavior_devices|\n",
            "+------------+--------------------+------------+-------------------------------+\n",
            "|360470064002|2020-02-03T00:00:...|          64|                              5|\n",
            "|360810384001|2020-02-03T00:00:...|          84|                              8|\n",
            "|360850170103|2020-02-03T00:00:...|         250|                             26|\n",
            "|360050213021|2020-02-03T00:00:...|          92|                              6|\n",
            "|360050253004|2020-02-03T00:00:...|          52|                              4|\n",
            "|360470385003|2020-02-03T00:00:...|          37|                              5|\n",
            "|360470406002|2020-02-03T00:00:...|          46|                              4|\n",
            "|360470428003|2020-02-03T00:00:...|          84|                             13|\n",
            "|360471130002|2020-02-03T00:00:...|          84|                              9|\n",
            "|360811029001|2020-02-03T00:00:...|         256|                             18|\n",
            "|360050177022|2020-02-03T00:00:...|          53|                              1|\n",
            "|360050248002|2020-02-03T00:00:...|          63|                              2|\n",
            "|360050363003|2020-02-03T00:00:...|          81|                              8|\n",
            "|360470084003|2020-02-03T00:00:...|          42|                              5|\n",
            "|360470393002|2020-02-03T00:00:...|          42|                              5|\n",
            "|360470888003|2020-02-03T00:00:...|          73|                             10|\n",
            "|360610072004|2020-02-03T00:00:...|          58|                              6|\n",
            "|360050414002|2020-02-03T00:00:...|          60|                              6|\n",
            "|360050424001|2020-02-03T00:00:...|          44|                              3|\n",
            "|360470076002|2020-02-03T00:00:...|          49|                              7|\n",
            "+------------+--------------------+------------+-------------------------------+\n",
            "only showing top 20 rows\n",
            "\n",
            "time: 1.03 s (started: 2021-04-22 01:45:16 +00:00)\n"
          ],
          "name": "stdout"
        }
      ]
    },
    {
      "cell_type": "code",
      "metadata": {
        "id": "nlVhrn2-Rp_O",
        "colab": {
          "base_uri": "https://localhost:8080/"
        },
        "outputId": "3c3f6fdf-5245-4830-9b5c-ddcb79f1360f"
      },
      "source": [
        "df_soc = df_soc.withColumn(\"date\",\n",
        "    df_soc['date'].substr(0, 10))"
      ],
      "execution_count": 11,
      "outputs": [
        {
          "output_type": "stream",
          "text": [
            "time: 60.2 ms (started: 2021-04-22 01:45:17 +00:00)\n"
          ],
          "name": "stdout"
        }
      ]
    },
    {
      "cell_type": "code",
      "metadata": {
        "colab": {
          "base_uri": "https://localhost:8080/"
        },
        "id": "2ryRoACoJMPZ",
        "outputId": "e4fe9831-7f8e-432c-f4cf-e813ad4787bc"
      },
      "source": [
        "df_soc.show()"
      ],
      "execution_count": 14,
      "outputs": [
        {
          "output_type": "stream",
          "text": [
            "+------------+----------+------------+-------------------------------+\n",
            "|         cbg|      date|device_count|full_time_work_behavior_devices|\n",
            "+------------+----------+------------+-------------------------------+\n",
            "|360470064002|2020-02-03|          64|                              5|\n",
            "|360810384001|2020-02-03|          84|                              8|\n",
            "|360850170103|2020-02-03|         250|                             26|\n",
            "|360050213021|2020-02-03|          92|                              6|\n",
            "|360050253004|2020-02-03|          52|                              4|\n",
            "|360470385003|2020-02-03|          37|                              5|\n",
            "|360470406002|2020-02-03|          46|                              4|\n",
            "|360470428003|2020-02-03|          84|                             13|\n",
            "|360471130002|2020-02-03|          84|                              9|\n",
            "|360811029001|2020-02-03|         256|                             18|\n",
            "|360050177022|2020-02-03|          53|                              1|\n",
            "|360050248002|2020-02-03|          63|                              2|\n",
            "|360050363003|2020-02-03|          81|                              8|\n",
            "|360470084003|2020-02-03|          42|                              5|\n",
            "|360470393002|2020-02-03|          42|                              5|\n",
            "|360470888003|2020-02-03|          73|                             10|\n",
            "|360610072004|2020-02-03|          58|                              6|\n",
            "|360050414002|2020-02-03|          60|                              6|\n",
            "|360050424001|2020-02-03|          44|                              3|\n",
            "|360470076002|2020-02-03|          49|                              7|\n",
            "+------------+----------+------------+-------------------------------+\n",
            "only showing top 20 rows\n",
            "\n",
            "time: 238 ms (started: 2021-04-22 01:46:44 +00:00)\n"
          ],
          "name": "stdout"
        }
      ]
    },
    {
      "cell_type": "code",
      "metadata": {
        "colab": {
          "base_uri": "https://localhost:8080/"
        },
        "id": "UL4qIhZu7JKC",
        "outputId": "07458e71-67bc-4136-a43d-ebb353928555"
      },
      "source": [
        "# Add completely home percentage column\n",
        "#df_soc = df_soc.withColumn('completely_home_percentage', (df_soc['completely_home_device_count']/df_soc['device_count']) * 100)\n",
        "# df_soc = df_soc.withColumn('part_time_work_percentage', (df_soc['part_time_work_behavior_devices']/df_soc['device_count']) * 100)\n",
        "df_soc = df_soc.withColumn('full_time_work_percentage', (df_soc['full_time_work_behavior_devices']/df_soc['device_count']) * 100)\n",
        "\n",
        "#df_soc.show()"
      ],
      "execution_count": 15,
      "outputs": [
        {
          "output_type": "stream",
          "text": [
            "time: 60.4 ms (started: 2021-04-22 01:46:44 +00:00)\n"
          ],
          "name": "stdout"
        }
      ]
    },
    {
      "cell_type": "code",
      "metadata": {
        "colab": {
          "base_uri": "https://localhost:8080/"
        },
        "id": "OAUIODseCoSg",
        "outputId": "7a81ba8a-5dcd-477f-d6d2-76311199a201"
      },
      "source": [
        "#Create temp view\n",
        "df_soc.createOrReplaceTempView('mobility')"
      ],
      "execution_count": 16,
      "outputs": [
        {
          "output_type": "stream",
          "text": [
            "time: 19.1 ms (started: 2021-04-22 01:46:44 +00:00)\n"
          ],
          "name": "stdout"
        }
      ]
    },
    {
      "cell_type": "markdown",
      "metadata": {
        "id": "Sj4xc1gTpm2X"
      },
      "source": [
        "\n",
        "\n",
        "---\n",
        "\n",
        "\n",
        "**Demographic data**\n",
        "\n",
        "\n",
        "\n",
        "\n",
        "\n",
        "---\n",
        "\n"
      ]
    },
    {
      "cell_type": "code",
      "metadata": {
        "colab": {
          "base_uri": "https://localhost:8080/"
        },
        "id": "1SVVsXtuzqRf",
        "outputId": "26392acf-aab3-44c1-96fc-fee0277d9ccd"
      },
      "source": [
        "# Read poverty data\n",
        "# Read data into RDD\n",
        "df_demographic = spark.read.format('csv').option('header','true').option('quote',\"\\\"\").option('escape',\"\\\"\").load(str(path/city/'ny.csv'))\n",
        "df_demographic.createOrReplaceTempView('demographic')\n",
        "df_demographic.show()"
      ],
      "execution_count": 17,
      "outputs": [
        {
          "output_type": "stream",
          "text": [
            "+------------+---------+------------------+------------------+\n",
            "|         cbg|pop_total|poverty_percentage|    perc_whiteonly|\n",
            "+------------+---------+------------------+------------------+\n",
            "|360050175002|     1110| 55.22522522522523|14.774774774774773|\n",
            "|360050141001|     1445| 36.74740484429066| 19.16955017301038|\n",
            "|360050145001|     2003| 39.47667804323095|  8.53719420868697|\n",
            "|360050075002|     2731|22.812156719150494|4.5404613694617355|\n",
            "|360050418001|      936|18.859649122807017| 9.081196581196581|\n",
            "|360050125001|     2935| 43.24693042291951|12.742759795570699|\n",
            "|360050127012|     1061| 43.73232799245994|18.378887841658813|\n",
            "|360050054003|     1031| 57.12900096993211| 28.12803103782735|\n",
            "|360050027011|     1364|  65.9090909090909|14.589442815249267|\n",
            "|360050458001|     1168| 37.15753424657534| 2.910958904109589|\n",
            "|360050224011|     1291|19.907048799380327|27.420604182804027|\n",
            "|360050389001|     1143| 53.94265232974911|30.708661417322837|\n",
            "|360050071002|     1661|           37.4375|11.499096929560505|\n",
            "|360050211003|     1056|  52.1865889212828| 5.776515151515151|\n",
            "|360050197001|     2205| 37.46031746031746| 6.984126984126984|\n",
            "|360470400002|      760| 19.19463087248322|              47.5|\n",
            "|360470400003|     1250|              25.6|             36.32|\n",
            "|360470402002|     1453|27.529249827942188|51.066758430832756|\n",
            "|360470403001|      919| 42.20283533260633| 22.41566920565832|\n",
            "|360470404001|     1232| 6.087662337662338| 66.72077922077922|\n",
            "+------------+---------+------------------+------------------+\n",
            "only showing top 20 rows\n",
            "\n",
            "time: 761 ms (started: 2021-04-22 01:46:44 +00:00)\n"
          ],
          "name": "stdout"
        }
      ]
    },
    {
      "cell_type": "code",
      "metadata": {
        "colab": {
          "base_uri": "https://localhost:8080/"
        },
        "id": "Ff9bk8_6qBQ2",
        "outputId": "35b1fe7f-e005-4629-c8f8-2607c0668dd6"
      },
      "source": [
        "df_mob_demo = spark.sql('SELECT mobility.*, demographic.poverty_percentage from mobility INNER JOIN demographic ON mobility.cbg = demographic.cbg')\n",
        "df_mob_demo.createOrReplaceTempView('demographic_mobility')\n",
        "df_mob_demo.show()\n"
      ],
      "execution_count": 18,
      "outputs": [
        {
          "output_type": "stream",
          "text": [
            "+------------+----------+------------+-------------------------------+-------------------------+------------------+\n",
            "|         cbg|      date|device_count|full_time_work_behavior_devices|full_time_work_percentage|poverty_percentage|\n",
            "+------------+----------+------------+-------------------------------+-------------------------+------------------+\n",
            "|360470064002|2020-02-03|          64|                              5|                   7.8125| 19.22705314009662|\n",
            "|360810384001|2020-02-03|          84|                              8|        9.523809523809524|12.291350531107739|\n",
            "|360850170103|2020-02-03|         250|                             26|                     10.4|13.652802893309223|\n",
            "|360050213021|2020-02-03|          92|                              6|        6.521739130434782| 43.07328605200946|\n",
            "|360050253004|2020-02-03|          52|                              4|       7.6923076923076925|24.824120603015075|\n",
            "|360470385003|2020-02-03|          37|                              5|       13.513513513513514| 10.77170418006431|\n",
            "|360470406002|2020-02-03|          46|                              4|        8.695652173913043|13.953488372093023|\n",
            "|360470428003|2020-02-03|          84|                             13|       15.476190476190476|15.798922800718133|\n",
            "|360471130002|2020-02-03|          84|                              9|       10.714285714285714| 49.52229299363057|\n",
            "|360811029001|2020-02-03|         256|                             18|                  7.03125| 4.940374787052811|\n",
            "|360050177022|2020-02-03|          53|                              1|       1.8867924528301887|16.293393057110862|\n",
            "|360050248002|2020-02-03|          63|                              2|       3.1746031746031744|11.859838274932615|\n",
            "|360050363003|2020-02-03|          81|                              8|        9.876543209876543|33.054159687325516|\n",
            "|360470084003|2020-02-03|          42|                              5|       11.904761904761903|36.858638743455494|\n",
            "|360470393002|2020-02-03|          42|                              5|       11.904761904761903|17.216770740410347|\n",
            "|360470888003|2020-02-03|          73|                             10|       13.698630136986301| 9.655172413793103|\n",
            "|360610072004|2020-02-03|          58|                              6|       10.344827586206897| 21.65775401069519|\n",
            "|360050414002|2020-02-03|          60|                              6|                     10.0|13.106796116504855|\n",
            "|360050424001|2020-02-03|          44|                              3|       6.8181818181818175| 6.275303643724696|\n",
            "|360470076002|2020-02-03|          49|                              7|       14.285714285714285|18.527131782945734|\n",
            "+------------+----------+------------+-------------------------------+-------------------------+------------------+\n",
            "only showing top 20 rows\n",
            "\n",
            "time: 1.18 s (started: 2021-04-22 01:46:45 +00:00)\n"
          ],
          "name": "stdout"
        }
      ]
    },
    {
      "cell_type": "code",
      "metadata": {
        "id": "6vFzCEtNukZy",
        "colab": {
          "base_uri": "https://localhost:8080/"
        },
        "outputId": "d87860b8-2669-4cc4-d616-c6d30c9e78e6"
      },
      "source": [
        "# DIVIDING THE PEOPLE TOP 20 PERCENT AND BOTTOM 20 PERCENT\n",
        "\n",
        "df_mob_demo_high_class =  spark.sql('SELECT * FROM demographic_mobility WHERE poverty_percentage < 20')\n",
        "grouped_df_mob_demo_high_class = df_mob_demo_high_class.groupBy(\"date\").mean(\"full_time_work_percentage\").withColumnRenamed('avg(full_time_work_percentage)','full_time_work_percentage')\n",
        "grouped_df_mob_demo_high_class.createOrReplaceTempView('mob_demo_high_class')\n",
        "\n",
        "\n",
        "df_mob_demo_low_class =  spark.sql('SELECT * FROM demographic_mobility WHERE poverty_percentage > 80')\n",
        "grouped_df_mob_demo_low_class = df_mob_demo_low_class.groupBy(\"date\").mean(\"full_time_work_percentage\").withColumnRenamed('avg(full_time_work_percentage)','full_time_work_percentage')\n",
        "grouped_df_mob_demo_low_class.createOrReplaceTempView('mob_demo_low_class')\n",
        "\n",
        "grouped_df_mob_demo_combined = spark.sql(\"\"\"\n",
        "\n",
        "SELECT h.date,h.full_time_work_percentage as top20_perc,\n",
        "l.full_time_work_percentage as bottom20_perc  \n",
        "FROM mob_demo_high_class h INNER JOIN mob_demo_low_class l ON h.date = l.date\n",
        "\n",
        "\"\"\")\n"
      ],
      "execution_count": 39,
      "outputs": [
        {
          "output_type": "stream",
          "text": [
            "time: 270 ms (started: 2021-04-22 01:51:43 +00:00)\n"
          ],
          "name": "stdout"
        }
      ]
    },
    {
      "cell_type": "markdown",
      "metadata": {
        "id": "ow6mFwCFoc4r"
      },
      "source": [
        "**Load 2019 stats**"
      ]
    },
    {
      "cell_type": "code",
      "metadata": {
        "colab": {
          "base_uri": "https://localhost:8080/"
        },
        "id": "iBe00iTKobbO",
        "outputId": "483d5993-5e15-4e84-8e59-d0a1f1dfd6ba"
      },
      "source": [
        "filename = '{}_social_summary_2019.csv'.format(city)\n",
        "stat_2019 = spark.read.format('csv').option('header','true').option('quote',\"\\\"\").option('escape',\"\\\"\").load(str(path/city/filename))\n",
        "stat_2019.show()\n",
        "mean_2019 = stat_2019.collect()[1][7]\n"
      ],
      "execution_count": 40,
      "outputs": [
        {
          "output_type": "stream",
          "text": [
            "+-----+------------------+------------------+-----------------+------------------+--------------------------+-------------------------+-------------------------+--------------------+--------------------+--------------------+-----------------+\n",
            "|  _c0|             total|   completely_home|   part_time_work|    full_time_work|percentage_completely_home|percentage_part_time_work|percentage_full_time_work|norm_completely_home| norm_part_time_work| norm_full_time_work|            month|\n",
            "+-----+------------------+------------------+-----------------+------------------+--------------------------+-------------------------+-------------------------+--------------------+--------------------+--------------------+-----------------+\n",
            "|count|         2290248.0|         2290248.0|        2290248.0|         2290248.0|                 2290248.0|                2290248.0|                2290248.0|           2290248.0|           2290248.0|           2290248.0|        2290248.0|\n",
            "| mean| 80.34526610218632|28.434720606676656|6.304287570603708| 4.110137417432522|        34.191774982169704|        8.187627170719718|         5.60654841629037|3.141520436194587...|4.354980010730152...|-2.23046824278488...|6.524348018205889|\n",
            "|  std|100.01782144483444| 46.63537873190937|6.281789685352023|4.2383835406180195|        10.449758498798655|        5.100597591243777|        4.491605719641751|  0.9999999999984743|  1.0000000000003462|  1.0000000000018414|3.448153832282255|\n",
            "|  min|               5.0|               1.0|              1.0|               1.0|        0.3574620196604111|      0.16891891891891891|       0.0999000999000999|  -3.237808124120669|  -1.572111523866646| -1.2259865758719086|              1.0|\n",
            "|  25%|              48.0|              14.0|              2.0|               1.0|         27.27272727272727|        4.166666666666666|        2.127659574468085| -0.6621251304743431| -0.7883312557249873| -0.7745312164442965|              4.0|\n",
            "|  50%|              67.0|              23.0|              5.0|               3.0|        34.285714285714285|       7.4074074074074066|         4.25531914893617|0.008989614789220246| -0.1529663435225157| -0.3008343455983429|              7.0|\n",
            "|  75%|              94.0|              35.0|              8.0|               6.0|        41.228070175438596|        11.11111111111111|        7.865168539325842|  0.6733452446846319|  0.5731649847088806|  0.5028536038144548|             10.0|\n",
            "|  max|           17185.0|           10466.0|            653.0|             438.0|         91.82509505703422|        66.66666666666666|                    56.25|  5.5152777053642215|   11.46513490817982|  11.275132935699647|             12.0|\n",
            "+-----+------------------+------------------+-----------------+------------------+--------------------------+-------------------------+-------------------------+--------------------+--------------------+--------------------+-----------------+\n",
            "\n",
            "time: 509 ms (started: 2021-04-22 01:51:43 +00:00)\n"
          ],
          "name": "stdout"
        }
      ]
    },
    {
      "cell_type": "code",
      "metadata": {
        "colab": {
          "base_uri": "https://localhost:8080/"
        },
        "id": "jbZKBBrlsymR",
        "outputId": "31dca3a6-e742-49a2-9d86-6e4669e4d92a"
      },
      "source": [
        "# calculate deviation form mean\n",
        "grouped_df_mob_demo_combined= grouped_df_mob_demo_combined.withColumn(\"top20_deviation\",\n",
        "    grouped_df_mob_demo_combined['top20_perc'] - mean_2019)\n"
      ],
      "execution_count": 41,
      "outputs": [
        {
          "output_type": "stream",
          "text": [
            "time: 23 ms (started: 2021-04-22 01:51:44 +00:00)\n"
          ],
          "name": "stdout"
        }
      ]
    },
    {
      "cell_type": "code",
      "metadata": {
        "colab": {
          "base_uri": "https://localhost:8080/"
        },
        "id": "m1v1M4wSwmbV",
        "outputId": "e583327f-6aca-45aa-cf51-3f6a2d849622"
      },
      "source": [
        "grouped_df_mob_demo_combined = grouped_df_mob_demo_combined.withColumn(\"bottom20_deviation\",\n",
        "    grouped_df_mob_demo_combined['bottom20_perc'] - mean_2019)"
      ],
      "execution_count": 42,
      "outputs": [
        {
          "output_type": "stream",
          "text": [
            "time: 18.2 ms (started: 2021-04-22 01:51:44 +00:00)\n"
          ],
          "name": "stdout"
        }
      ]
    },
    {
      "cell_type": "markdown",
      "metadata": {
        "id": "JxSLoJSmYuj8"
      },
      "source": [
        "\n",
        "**Visualizations** \n",
        "\n"
      ]
    },
    {
      "cell_type": "code",
      "metadata": {
        "colab": {
          "base_uri": "https://localhost:8080/"
        },
        "id": "S4CaYZVO43kY",
        "outputId": "c36139a3-91e1-4195-9026-af4cb5c40972"
      },
      "source": [
        "# create altair library theme \n",
        "\n",
        "def my_theme():\n",
        "  return {\n",
        "    'config': {\n",
        "      'view': {'continuousHeight': 300, 'continuousWidth': 400},  # from the default theme\n",
        "      'range': {'category': {'scheme': ['#FF4500','#a0aab4','#4E79A7']}}\n",
        "    }\n",
        "  }\n",
        "alt.themes.register('my_theme', my_theme)\n",
        "alt.themes.enable('my_theme')\n",
        "# "
      ],
      "execution_count": 43,
      "outputs": [
        {
          "output_type": "execute_result",
          "data": {
            "text/plain": [
              "ThemeRegistry.enable('my_theme')"
            ]
          },
          "metadata": {
            "tags": []
          },
          "execution_count": 43
        },
        {
          "output_type": "stream",
          "text": [
            "time: 13.5 ms (started: 2021-04-22 01:51:44 +00:00)\n"
          ],
          "name": "stdout"
        }
      ]
    },
    {
      "cell_type": "code",
      "metadata": {
        "colab": {
          "base_uri": "https://localhost:8080/"
        },
        "id": "0KpTm73-BpiA",
        "outputId": "fcef4bfe-7f19-4ffc-bc90-b272fea24d18"
      },
      "source": [
        "def create_chart(df) :\n",
        "  chart = alt.Chart(df).transform_fold(\n",
        "    fold=['Bottom 20 % Deviation', 'Top 20 % Deviation'],\n",
        "    as_ = ['Poverty %','full_time_work']\n",
        "    \n",
        "    ).mark_line().encode(\n",
        "      x= alt.X('date:T', title = 'Date'),\n",
        "      y= alt.Y('full_time_work:Q', title = 'Full Time %'),\n",
        "      color='Poverty %:N'\n",
        "    ).properties(width = 1000).interactive()\n",
        "\n",
        "  rule = alt.Chart(pd.DataFrame({'Mean 2019':[0]})).mark_rule(color='#757575',strokeDash=[5,3], size=2).encode(\n",
        "    y='Mean 2019',\n",
        "    size=alt.value(2),\n",
        "    )\n",
        "  \n",
        "  text = alt.Chart({'values':[{ 'y': 1}]}).mark_text(\n",
        "    text='Mean 2019', angle=0\n",
        "    ).encode(\n",
        "      y=alt.Y('y:Q'),opacity=alt.value(0.4)\n",
        "    )\n",
        "\n",
        "  return  chart + rule + text\n"
      ],
      "execution_count": 54,
      "outputs": [
        {
          "output_type": "stream",
          "text": [
            "time: 15.2 ms (started: 2021-04-22 01:54:52 +00:00)\n"
          ],
          "name": "stdout"
        }
      ]
    },
    {
      "cell_type": "code",
      "metadata": {
        "colab": {
          "base_uri": "https://localhost:8080/"
        },
        "id": "P9AleyUlCeuI",
        "outputId": "e7ee3897-4a27-4e33-f774-137fa6975740"
      },
      "source": [
        "def apply_date_filter(df,start_date,end_date) :\n",
        "  mask = (df['date'] > start_date) & (df['date'] <= end_date)\n",
        "  dfX = df.loc[mask]\n",
        "  return dfX"
      ],
      "execution_count": 45,
      "outputs": [
        {
          "output_type": "stream",
          "text": [
            "time: 4.76 ms (started: 2021-04-22 01:51:44 +00:00)\n"
          ],
          "name": "stdout"
        }
      ]
    },
    {
      "cell_type": "code",
      "metadata": {
        "colab": {
          "base_uri": "https://localhost:8080/",
          "height": 418
        },
        "id": "V4EHlNdfSVal",
        "outputId": "3e1b4b6c-e05d-4297-e5b8-2949db93c81e"
      },
      "source": [
        "# create pandas dataframe for visualizations\n",
        "df = grouped_df_mob_demo_combined.toPandas()\n",
        "df"
      ],
      "execution_count": 46,
      "outputs": [
        {
          "output_type": "execute_result",
          "data": {
            "text/html": [
              "<div>\n",
              "<style scoped>\n",
              "    .dataframe tbody tr th:only-of-type {\n",
              "        vertical-align: middle;\n",
              "    }\n",
              "\n",
              "    .dataframe tbody tr th {\n",
              "        vertical-align: top;\n",
              "    }\n",
              "\n",
              "    .dataframe thead th {\n",
              "        text-align: right;\n",
              "    }\n",
              "</style>\n",
              "<table border=\"1\" class=\"dataframe\">\n",
              "  <thead>\n",
              "    <tr style=\"text-align: right;\">\n",
              "      <th></th>\n",
              "      <th>date</th>\n",
              "      <th>top20_perc</th>\n",
              "      <th>bottom20_perc</th>\n",
              "      <th>top20_deviation</th>\n",
              "      <th>bottom20_deviation</th>\n",
              "    </tr>\n",
              "  </thead>\n",
              "  <tbody>\n",
              "    <tr>\n",
              "      <th>0</th>\n",
              "      <td>2020-02-26</td>\n",
              "      <td>10.014082</td>\n",
              "      <td>4.626570</td>\n",
              "      <td>4.407534</td>\n",
              "      <td>-0.979979</td>\n",
              "    </tr>\n",
              "    <tr>\n",
              "      <th>1</th>\n",
              "      <td>2020-04-13</td>\n",
              "      <td>3.924350</td>\n",
              "      <td>4.518371</td>\n",
              "      <td>-1.682198</td>\n",
              "      <td>-1.088177</td>\n",
              "    </tr>\n",
              "    <tr>\n",
              "      <th>2</th>\n",
              "      <td>2020-06-24</td>\n",
              "      <td>5.279721</td>\n",
              "      <td>10.457516</td>\n",
              "      <td>-0.326828</td>\n",
              "      <td>4.850968</td>\n",
              "    </tr>\n",
              "    <tr>\n",
              "      <th>3</th>\n",
              "      <td>2020-06-08</td>\n",
              "      <td>4.370070</td>\n",
              "      <td>3.149351</td>\n",
              "      <td>-1.236479</td>\n",
              "      <td>-2.457198</td>\n",
              "    </tr>\n",
              "    <tr>\n",
              "      <th>4</th>\n",
              "      <td>2020-09-12</td>\n",
              "      <td>4.606030</td>\n",
              "      <td>7.439271</td>\n",
              "      <td>-1.000519</td>\n",
              "      <td>1.832723</td>\n",
              "    </tr>\n",
              "    <tr>\n",
              "      <th>...</th>\n",
              "      <td>...</td>\n",
              "      <td>...</td>\n",
              "      <td>...</td>\n",
              "      <td>...</td>\n",
              "      <td>...</td>\n",
              "    </tr>\n",
              "    <tr>\n",
              "      <th>361</th>\n",
              "      <td>2020-04-05</td>\n",
              "      <td>3.513350</td>\n",
              "      <td>3.306452</td>\n",
              "      <td>-2.093198</td>\n",
              "      <td>-2.300097</td>\n",
              "    </tr>\n",
              "    <tr>\n",
              "      <th>362</th>\n",
              "      <td>2020-05-01</td>\n",
              "      <td>3.659375</td>\n",
              "      <td>2.907268</td>\n",
              "      <td>-1.947174</td>\n",
              "      <td>-2.699280</td>\n",
              "    </tr>\n",
              "    <tr>\n",
              "      <th>363</th>\n",
              "      <td>2020-10-25</td>\n",
              "      <td>3.706099</td>\n",
              "      <td>7.528736</td>\n",
              "      <td>-1.900449</td>\n",
              "      <td>1.922187</td>\n",
              "    </tr>\n",
              "    <tr>\n",
              "      <th>364</th>\n",
              "      <td>2020-12-28</td>\n",
              "      <td>5.966273</td>\n",
              "      <td>4.846154</td>\n",
              "      <td>0.359724</td>\n",
              "      <td>-0.760395</td>\n",
              "    </tr>\n",
              "    <tr>\n",
              "      <th>365</th>\n",
              "      <td>2020-12-19</td>\n",
              "      <td>4.446731</td>\n",
              "      <td>3.120185</td>\n",
              "      <td>-1.159817</td>\n",
              "      <td>-2.486364</td>\n",
              "    </tr>\n",
              "  </tbody>\n",
              "</table>\n",
              "<p>366 rows × 5 columns</p>\n",
              "</div>"
            ],
            "text/plain": [
              "           date  top20_perc  bottom20_perc  top20_deviation  bottom20_deviation\n",
              "0    2020-02-26   10.014082       4.626570         4.407534           -0.979979\n",
              "1    2020-04-13    3.924350       4.518371        -1.682198           -1.088177\n",
              "2    2020-06-24    5.279721      10.457516        -0.326828            4.850968\n",
              "3    2020-06-08    4.370070       3.149351        -1.236479           -2.457198\n",
              "4    2020-09-12    4.606030       7.439271        -1.000519            1.832723\n",
              "..          ...         ...            ...              ...                 ...\n",
              "361  2020-04-05    3.513350       3.306452        -2.093198           -2.300097\n",
              "362  2020-05-01    3.659375       2.907268        -1.947174           -2.699280\n",
              "363  2020-10-25    3.706099       7.528736        -1.900449            1.922187\n",
              "364  2020-12-28    5.966273       4.846154         0.359724           -0.760395\n",
              "365  2020-12-19    4.446731       3.120185        -1.159817           -2.486364\n",
              "\n",
              "[366 rows x 5 columns]"
            ]
          },
          "metadata": {
            "tags": []
          },
          "execution_count": 46
        },
        {
          "output_type": "stream",
          "text": [
            "time: 1min 18s (started: 2021-04-22 01:51:44 +00:00)\n"
          ],
          "name": "stdout"
        }
      ]
    },
    {
      "cell_type": "code",
      "metadata": {
        "colab": {
          "base_uri": "https://localhost:8080/"
        },
        "id": "MtFPRkkEZtzL",
        "outputId": "1e4b5822-b8e8-4dc1-b638-76139c7a746e"
      },
      "source": [
        "df = df.rename(columns={'top20_perc': 'Top 20 %', 'bottom20_perc': 'Bottom 20 %','top20_deviation': 'Top 20 % Deviation', 'bottom20_deviation': 'Bottom 20 % Deviation'})"
      ],
      "execution_count": 47,
      "outputs": [
        {
          "output_type": "stream",
          "text": [
            "time: 6.15 ms (started: 2021-04-22 01:53:02 +00:00)\n"
          ],
          "name": "stdout"
        }
      ]
    },
    {
      "cell_type": "code",
      "metadata": {
        "colab": {
          "base_uri": "https://localhost:8080/",
          "height": 385
        },
        "id": "pTTAkF1Iwesw",
        "outputId": "0ca0c1ed-3bc1-4ba3-b8bc-86f0bc2e61b3"
      },
      "source": [
        "# analysis for the entire year on monthly basis\n",
        "df_str = df.copy(deep=True) #make a deep copy\n",
        "\n",
        "df_str['date'] = pd.to_datetime(df_str['date'],utc= True) # extract the months\n",
        "\n",
        "df_str = df_str.groupby([df_str['date']]).mean().rolling(10).mean()[0:] #find the mean for the days and roll up for every 10 days\n",
        "\n",
        "chart = alt.Chart(df_str.reset_index()).transform_fold(\n",
        "    fold=['Bottom 20 %', 'Top 20 %'],\n",
        "    as_ = ['Poverty %','full_time_percentage']\n",
        "    \n",
        "    ).mark_line().encode(\n",
        "      x='date:T',\n",
        "      y= alt.Y('full_time_percentage:Q', title = 'Full Time %'), color='Poverty %:N'\n",
        "    ).properties(width = 1000)\n",
        "chart"
      ],
      "execution_count": 48,
      "outputs": [
        {
          "output_type": "execute_result",
          "data": {
            "text/plain": [
              "alt.Chart(...)"
            ],
            "text/html": [
              "\n",
              "<div id=\"altair-viz-efacab81f14641ffa93e1772ddc9dc46\"></div>\n",
              "<script type=\"text/javascript\">\n",
              "  (function(spec, embedOpt){\n",
              "    let outputDiv = document.currentScript.previousElementSibling;\n",
              "    if (outputDiv.id !== \"altair-viz-efacab81f14641ffa93e1772ddc9dc46\") {\n",
              "      outputDiv = document.getElementById(\"altair-viz-efacab81f14641ffa93e1772ddc9dc46\");\n",
              "    }\n",
              "    const paths = {\n",
              "      \"vega\": \"https://cdn.jsdelivr.net/npm//vega@5?noext\",\n",
              "      \"vega-lib\": \"https://cdn.jsdelivr.net/npm//vega-lib?noext\",\n",
              "      \"vega-lite\": \"https://cdn.jsdelivr.net/npm//vega-lite@4.8.1?noext\",\n",
              "      \"vega-embed\": \"https://cdn.jsdelivr.net/npm//vega-embed@6?noext\",\n",
              "    };\n",
              "\n",
              "    function loadScript(lib) {\n",
              "      return new Promise(function(resolve, reject) {\n",
              "        var s = document.createElement('script');\n",
              "        s.src = paths[lib];\n",
              "        s.async = true;\n",
              "        s.onload = () => resolve(paths[lib]);\n",
              "        s.onerror = () => reject(`Error loading script: ${paths[lib]}`);\n",
              "        document.getElementsByTagName(\"head\")[0].appendChild(s);\n",
              "      });\n",
              "    }\n",
              "\n",
              "    function showError(err) {\n",
              "      outputDiv.innerHTML = `<div class=\"error\" style=\"color:red;\">${err}</div>`;\n",
              "      throw err;\n",
              "    }\n",
              "\n",
              "    function displayChart(vegaEmbed) {\n",
              "      vegaEmbed(outputDiv, spec, embedOpt)\n",
              "        .catch(err => showError(`Javascript Error: ${err.message}<br>This usually means there's a typo in your chart specification. See the javascript console for the full traceback.`));\n",
              "    }\n",
              "\n",
              "    if(typeof define === \"function\" && define.amd) {\n",
              "      requirejs.config({paths});\n",
              "      require([\"vega-embed\"], displayChart, err => showError(`Error loading script: ${err.message}`));\n",
              "    } else if (typeof vegaEmbed === \"function\") {\n",
              "      displayChart(vegaEmbed);\n",
              "    } else {\n",
              "      loadScript(\"vega\")\n",
              "        .then(() => loadScript(\"vega-lite\"))\n",
              "        .then(() => loadScript(\"vega-embed\"))\n",
              "        .catch(showError)\n",
              "        .then(() => displayChart(vegaEmbed));\n",
              "    }\n",
              "  })({\"config\": {\"view\": {\"continuousHeight\": 300, \"continuousWidth\": 400}, \"range\": {\"category\": {\"scheme\": [\"#FF4500\", \"#a0aab4\", \"#4E79A7\"]}}}, \"data\": {\"name\": \"data-f13b74af7766c4ba32e1351c8685ecc5\"}, \"mark\": \"line\", \"encoding\": {\"color\": {\"type\": \"nominal\", \"field\": \"Poverty %\"}, \"x\": {\"type\": \"temporal\", \"field\": \"date\"}, \"y\": {\"type\": \"quantitative\", \"field\": \"full_time_percentage\", \"title\": \"Full Time %\"}}, \"transform\": [{\"fold\": [\"Bottom 20 %\", \"Top 20 %\"], \"as\": [\"Poverty %\", \"full_time_percentage\"]}], \"width\": 1000, \"$schema\": \"https://vega.github.io/schema/vega-lite/v4.8.1.json\", \"datasets\": {\"data-f13b74af7766c4ba32e1351c8685ecc5\": [{\"date\": \"2020-01-01T00:00:00+00:00\", \"Top 20 %\": null, \"Bottom 20 %\": null, \"Top 20 % Deviation\": null, \"Bottom 20 % Deviation\": null}, {\"date\": \"2020-01-02T00:00:00+00:00\", \"Top 20 %\": null, \"Bottom 20 %\": null, \"Top 20 % Deviation\": null, \"Bottom 20 % Deviation\": null}, {\"date\": \"2020-01-03T00:00:00+00:00\", \"Top 20 %\": null, \"Bottom 20 %\": null, \"Top 20 % Deviation\": null, \"Bottom 20 % Deviation\": null}, {\"date\": \"2020-01-04T00:00:00+00:00\", \"Top 20 %\": null, \"Bottom 20 %\": null, \"Top 20 % Deviation\": null, \"Bottom 20 % Deviation\": null}, {\"date\": \"2020-01-05T00:00:00+00:00\", \"Top 20 %\": null, \"Bottom 20 %\": null, \"Top 20 % Deviation\": null, \"Bottom 20 % Deviation\": null}, {\"date\": \"2020-01-06T00:00:00+00:00\", \"Top 20 %\": null, \"Bottom 20 %\": null, \"Top 20 % Deviation\": null, \"Bottom 20 % Deviation\": null}, {\"date\": \"2020-01-07T00:00:00+00:00\", \"Top 20 %\": null, \"Bottom 20 %\": null, \"Top 20 % Deviation\": null, \"Bottom 20 % Deviation\": null}, {\"date\": \"2020-01-08T00:00:00+00:00\", \"Top 20 %\": null, \"Bottom 20 %\": null, \"Top 20 % Deviation\": null, \"Bottom 20 % Deviation\": null}, {\"date\": \"2020-01-09T00:00:00+00:00\", \"Top 20 %\": null, \"Bottom 20 %\": null, \"Top 20 % Deviation\": null, \"Bottom 20 % Deviation\": null}, {\"date\": \"2020-01-10T00:00:00+00:00\", \"Top 20 %\": 8.048508352882543, \"Bottom 20 %\": 10.242426693627134, \"Top 20 % Deviation\": 2.4419599365921734, \"Bottom 20 % Deviation\": 4.635878277336767}, {\"date\": \"2020-01-11T00:00:00+00:00\", \"Top 20 %\": 8.124976712140347, \"Bottom 20 %\": 10.219329871749824, \"Top 20 % Deviation\": 2.518428295849976, \"Bottom 20 % Deviation\": 4.612781455459457}, {\"date\": \"2020-01-12T00:00:00+00:00\", \"Top 20 %\": 7.548053518052678, \"Bottom 20 %\": 9.179394806814761, \"Top 20 % Deviation\": 1.9415051017623082, \"Bottom 20 % Deviation\": 3.5728463905243926}, {\"date\": \"2020-01-13T00:00:00+00:00\", \"Top 20 %\": 7.8741606861186195, \"Bottom 20 %\": 9.40674987927853, \"Top 20 % Deviation\": 2.2676122698282493, \"Bottom 20 % Deviation\": 3.8002014629881606}, {\"date\": \"2020-01-14T00:00:00+00:00\", \"Top 20 %\": 8.699479551442597, \"Bottom 20 %\": 8.202565175093827, \"Top 20 % Deviation\": 3.092931135152225, \"Bottom 20 % Deviation\": 2.5960167588034566}, {\"date\": \"2020-01-15T00:00:00+00:00\", \"Top 20 %\": 9.638492709837852, \"Bottom 20 %\": 8.443144040672692, \"Top 20 % Deviation\": 4.03194429354748, \"Bottom 20 % Deviation\": 2.836595624382322}, {\"date\": \"2020-01-16T00:00:00+00:00\", \"Top 20 %\": 9.73765082113093, \"Bottom 20 %\": 8.320204480233132, \"Top 20 % Deviation\": 4.13110240484056, \"Bottom 20 % Deviation\": 2.7136560639427616}, {\"date\": \"2020-01-17T00:00:00+00:00\", \"Top 20 %\": 9.696509682093787, \"Bottom 20 %\": 7.634968559380772, \"Top 20 % Deviation\": 4.0899612658034155, \"Bottom 20 % Deviation\": 2.0284201430904023}, {\"date\": \"2020-01-18T00:00:00+00:00\", \"Top 20 %\": 8.888482192579298, \"Bottom 20 %\": 8.171484615078414, \"Top 20 % Deviation\": 3.2819337762889256, \"Bottom 20 % Deviation\": 2.5649361987880437}, {\"date\": \"2020-01-19T00:00:00+00:00\", \"Top 20 %\": 8.177249322043107, \"Bottom 20 %\": 9.638997976034398, \"Top 20 % Deviation\": 2.5707009057527346, \"Bottom 20 % Deviation\": 4.032449559744028}, {\"date\": \"2020-01-20T00:00:00+00:00\", \"Top 20 %\": 7.648344797891783, \"Bottom 20 %\": 8.96584885851486, \"Top 20 % Deviation\": 2.04179638160141, \"Bottom 20 % Deviation\": 3.35930044222449}, {\"date\": \"2020-01-21T00:00:00+00:00\", \"Top 20 %\": 8.378030134034532, \"Bottom 20 %\": 10.273456181747182, \"Top 20 % Deviation\": 2.77148171774416, \"Bottom 20 % Deviation\": 4.666907765456813}, {\"date\": \"2020-01-22T00:00:00+00:00\", \"Top 20 %\": 8.984269310460821, \"Bottom 20 %\": 9.709994643285643, \"Top 20 % Deviation\": 3.377720894170449, \"Bottom 20 % Deviation\": 4.103446226995274}, {\"date\": \"2020-01-23T00:00:00+00:00\", \"Top 20 %\": 8.822406901079594, \"Bottom 20 %\": 9.612716601634201, \"Top 20 % Deviation\": 3.2158584847892238, \"Bottom 20 % Deviation\": 4.006168185343831}, {\"date\": \"2020-01-24T00:00:00+00:00\", \"Top 20 %\": 8.528725556741383, \"Bottom 20 %\": 9.558892647810247, \"Top 20 % Deviation\": 2.9221771404510126, \"Bottom 20 % Deviation\": 3.952344231519877}, {\"date\": \"2020-01-25T00:00:00+00:00\", \"Top 20 %\": 7.683286953680833, \"Bottom 20 %\": 9.33184192075952, \"Top 20 % Deviation\": 2.0767385373904617, \"Bottom 20 % Deviation\": 3.7252935044691506}, {\"date\": \"2020-01-26T00:00:00+00:00\", \"Top 20 %\": 6.874989823505364, \"Bottom 20 %\": 9.673971622044151, \"Top 20 % Deviation\": 1.2684414072149917, \"Bottom 20 % Deviation\": 4.067423205753782}, {\"date\": \"2020-01-27T00:00:00+00:00\", \"Top 20 %\": 6.872819522135859, \"Bottom 20 %\": 10.465015623704591, \"Top 20 % Deviation\": 1.2662711058454879, \"Bottom 20 % Deviation\": 4.858467207414221}, {\"date\": \"2020-01-28T00:00:00+00:00\", \"Top 20 %\": 7.7145176130519815, \"Bottom 20 %\": 9.992647641029262, \"Top 20 % Deviation\": 2.10796919676161, \"Bottom 20 % Deviation\": 4.386099224738892}, {\"date\": \"2020-01-29T00:00:00+00:00\", \"Top 20 %\": 8.633310459519105, \"Bottom 20 %\": 8.097623194667454, \"Top 20 % Deviation\": 3.0267620432287328, \"Bottom 20 % Deviation\": 2.4910747783770857}, {\"date\": \"2020-01-30T00:00:00+00:00\", \"Top 20 %\": 9.34393974976426, \"Bottom 20 %\": 8.43275589822121, \"Top 20 % Deviation\": 3.7373913334738873, \"Bottom 20 % Deviation\": 2.8262074819308416}, {\"date\": \"2020-01-31T00:00:00+00:00\", \"Top 20 %\": 9.296341404739763, \"Bottom 20 %\": 7.479294876715835, \"Top 20 % Deviation\": 3.6897929884493905, \"Bottom 20 % Deviation\": 1.8727464604254653}, {\"date\": \"2020-02-01T00:00:00+00:00\", \"Top 20 %\": 8.708470430681277, \"Bottom 20 %\": 8.166565938986896, \"Top 20 % Deviation\": 3.101922014390906, \"Bottom 20 % Deviation\": 2.5600175226965276}, {\"date\": \"2020-02-02T00:00:00+00:00\", \"Top 20 %\": 8.00115997859093, \"Bottom 20 %\": 8.191075742908465, \"Top 20 % Deviation\": 2.394611562300557, \"Bottom 20 % Deviation\": 2.5845273266180966}, {\"date\": \"2020-02-03T00:00:00+00:00\", \"Top 20 %\": 8.149268604700733, \"Bottom 20 %\": 8.34200166883439, \"Top 20 % Deviation\": 2.5427201884103616, \"Bottom 20 % Deviation\": 2.735453252544022}, {\"date\": \"2020-02-04T00:00:00+00:00\", \"Top 20 %\": 8.834604121208628, \"Bottom 20 %\": 8.438657886180263, \"Top 20 % Deviation\": 3.228055704918256, \"Bottom 20 % Deviation\": 2.832109469889894}, {\"date\": \"2020-02-05T00:00:00+00:00\", \"Top 20 %\": 9.57720890954068, \"Bottom 20 %\": 7.996445471909693, \"Top 20 % Deviation\": 3.9706604932503082, \"Bottom 20 % Deviation\": 2.3898970556193246}, {\"date\": \"2020-02-06T00:00:00+00:00\", \"Top 20 %\": 9.675381500217622, \"Bottom 20 %\": 7.959171471400398, \"Top 20 % Deviation\": 4.068833083927249, \"Bottom 20 % Deviation\": 2.3526230551100302}, {\"date\": \"2020-02-07T00:00:00+00:00\", \"Top 20 %\": 9.279019298995781, \"Bottom 20 %\": 7.965557167441267, \"Top 20 % Deviation\": 3.672470882705407, \"Bottom 20 % Deviation\": 2.359008751150898}, {\"date\": \"2020-02-08T00:00:00+00:00\", \"Top 20 %\": 8.351073376676792, \"Bottom 20 %\": 8.207272567051403, \"Top 20 % Deviation\": 2.7445249603864195, \"Bottom 20 % Deviation\": 2.6007241507610344}, {\"date\": \"2020-02-09T00:00:00+00:00\", \"Top 20 %\": 7.486300022459358, \"Bottom 20 %\": 7.4847707697832515, \"Top 20 % Deviation\": 1.8797516061689854, \"Bottom 20 % Deviation\": 1.8782223534928821}, {\"date\": \"2020-02-10T00:00:00+00:00\", \"Top 20 %\": 7.568556345455669, \"Bottom 20 %\": 7.033057893217003, \"Top 20 % Deviation\": 1.962007929165296, \"Bottom 20 % Deviation\": 1.426509476926633}, {\"date\": \"2020-02-11T00:00:00+00:00\", \"Top 20 %\": 8.372166521085964, \"Bottom 20 %\": 6.774399884558994, \"Top 20 % Deviation\": 2.7656181047955917, \"Bottom 20 % Deviation\": 1.167851468268624}, {\"date\": \"2020-02-12T00:00:00+00:00\", \"Top 20 %\": 9.174477442743923, \"Bottom 20 %\": 7.608703903196153, \"Top 20 % Deviation\": 3.567929026453551, \"Bottom 20 % Deviation\": 2.002155486905782}, {\"date\": \"2020-02-13T00:00:00+00:00\", \"Top 20 %\": 9.192602918648632, \"Bottom 20 %\": 7.491711911204161, \"Top 20 % Deviation\": 3.5860545023582597, \"Bottom 20 % Deviation\": 1.8851634949137899}, {\"date\": \"2020-02-14T00:00:00+00:00\", \"Top 20 %\": 9.09402759070765, \"Bottom 20 %\": 7.813803612606206, \"Top 20 % Deviation\": 3.4874791744172766, \"Bottom 20 % Deviation\": 2.2072551963158364}, {\"date\": \"2020-02-15T00:00:00+00:00\", \"Top 20 %\": 8.37342299506681, \"Bottom 20 %\": 7.7695306812365015, \"Top 20 % Deviation\": 2.766874578776438, \"Bottom 20 % Deviation\": 2.162982264946131}, {\"date\": \"2020-02-16T00:00:00+00:00\", \"Top 20 %\": 7.56816018856148, \"Bottom 20 %\": 8.162865287806403, \"Top 20 % Deviation\": 1.9616117722711077, \"Bottom 20 % Deviation\": 2.5563168715160316}, {\"date\": \"2020-02-17T00:00:00+00:00\", \"Top 20 %\": 7.109222159435508, \"Bottom 20 %\": 8.011062168898022, \"Top 20 % Deviation\": 1.5026737431451367, \"Bottom 20 % Deviation\": 2.4045137526076497}, {\"date\": \"2020-02-18T00:00:00+00:00\", \"Top 20 %\": 7.4219171908981405, \"Bottom 20 %\": 8.125436789420183, \"Top 20 % Deviation\": 1.8153687746077698, \"Bottom 20 % Deviation\": 2.5188883731298115}, {\"date\": \"2020-02-19T00:00:00+00:00\", \"Top 20 %\": 7.883710476328498, \"Bottom 20 %\": 8.09931221306196, \"Top 20 % Deviation\": 2.277162060038127, \"Bottom 20 % Deviation\": 2.4927637967715905}, {\"date\": \"2020-02-20T00:00:00+00:00\", \"Top 20 %\": 7.5039816671077775, \"Bottom 20 %\": 8.083836601329663, \"Top 20 % Deviation\": 1.8974332508174068, \"Bottom 20 % Deviation\": 2.4772881850392947}, {\"date\": \"2020-02-21T00:00:00+00:00\", \"Top 20 %\": 6.957631628234589, \"Bottom 20 %\": 8.441304133797196, \"Top 20 % Deviation\": 1.3510832119442178, \"Bottom 20 % Deviation\": 2.834755717506827}, {\"date\": \"2020-02-22T00:00:00+00:00\", \"Top 20 %\": 6.220570227643992, \"Bottom 20 %\": 7.6011808860599475, \"Top 20 % Deviation\": 0.6140218113536215, \"Bottom 20 % Deviation\": 1.9946324697695785}, {\"date\": \"2020-02-23T00:00:00+00:00\", \"Top 20 %\": 5.502555599649012, \"Bottom 20 %\": 7.487669487337281, \"Top 20 % Deviation\": -0.10399281664135933, \"Bottom 20 % Deviation\": 1.8811210710469122}, {\"date\": \"2020-02-24T00:00:00+00:00\", \"Top 20 %\": 5.589003169468124, \"Bottom 20 %\": 7.537806849974643, \"Top 20 % Deviation\": -0.017545246822246608, \"Bottom 20 % Deviation\": 1.9312584336842746}, {\"date\": \"2020-02-25T00:00:00+00:00\", \"Top 20 %\": 5.787975368817788, \"Bottom 20 %\": 7.6567748385078485, \"Top 20 % Deviation\": 0.18142695252741783, \"Bottom 20 % Deviation\": 2.0502264222174804}, {\"date\": \"2020-02-26T00:00:00+00:00\", \"Top 20 %\": 6.445253297267174, \"Bottom 20 %\": 6.8353409023184595, \"Top 20 % Deviation\": 0.8387048809768018, \"Bottom 20 % Deviation\": 1.2287924860280917}, {\"date\": \"2020-02-27T00:00:00+00:00\", \"Top 20 %\": 7.093465277598176, \"Bottom 20 %\": 7.207321523707715, \"Top 20 % Deviation\": 1.486916861307805, \"Bottom 20 % Deviation\": 1.600773107417347}, {\"date\": \"2020-02-28T00:00:00+00:00\", \"Top 20 %\": 7.484171869179424, \"Bottom 20 %\": 7.013039300022136, \"Top 20 % Deviation\": 1.8776234528890534, \"Bottom 20 % Deviation\": 1.4064908837317684}, {\"date\": \"2020-02-29T00:00:00+00:00\", \"Top 20 %\": 7.0916791610360095, \"Bottom 20 %\": 7.449089361072199, \"Top 20 % Deviation\": 1.4851307447456379, \"Bottom 20 % Deviation\": 1.8425409447818297}, {\"date\": \"2020-03-01T00:00:00+00:00\", \"Top 20 %\": 6.69185835216819, \"Bottom 20 %\": 7.487404687202651, \"Top 20 % Deviation\": 1.0853099358778184, \"Bottom 20 % Deviation\": 1.8808562709122818}, {\"date\": \"2020-03-02T00:00:00+00:00\", \"Top 20 %\": 7.112068293899048, \"Bottom 20 %\": 6.923416395256659, \"Top 20 % Deviation\": 1.505519877608678, \"Bottom 20 % Deviation\": 1.31686797896629}, {\"date\": \"2020-03-03T00:00:00+00:00\", \"Top 20 %\": 7.860567651043023, \"Bottom 20 %\": 7.11095831343238, \"Top 20 % Deviation\": 2.2540192347526524, \"Bottom 20 % Deviation\": 1.5044098971420108}, {\"date\": \"2020-03-04T00:00:00+00:00\", \"Top 20 %\": 8.539108761209194, \"Bottom 20 %\": 6.907835909282712, \"Top 20 % Deviation\": 2.9325603449188233, \"Bottom 20 % Deviation\": 1.3012874929923424}, {\"date\": \"2020-03-05T00:00:00+00:00\", \"Top 20 %\": 8.467932662312684, \"Bottom 20 %\": 6.075539529192214, \"Top 20 % Deviation\": 2.8613842460223142, \"Bottom 20 % Deviation\": 0.4689911129018447}, {\"date\": \"2020-03-06T00:00:00+00:00\", \"Top 20 %\": 8.815281818639097, \"Bottom 20 %\": 5.878425387746499, \"Top 20 % Deviation\": 3.2087334023487264, \"Bottom 20 % Deviation\": 0.2718769714561307}, {\"date\": \"2020-03-07T00:00:00+00:00\", \"Top 20 %\": 8.188036335576328, \"Bottom 20 %\": 5.915768414844979, \"Top 20 % Deviation\": 2.5814879192859586, \"Bottom 20 % Deviation\": 0.3092199985546106}, {\"date\": \"2020-03-08T00:00:00+00:00\", \"Top 20 %\": 7.437168881247817, \"Bottom 20 %\": 5.298511140284334, \"Top 20 % Deviation\": 1.8306204649574471, \"Bottom 20 % Deviation\": -0.3080372760060347}, {\"date\": \"2020-03-09T00:00:00+00:00\", \"Top 20 %\": 7.387341353677238, \"Bottom 20 %\": 5.241110703700687, \"Top 20 % Deviation\": 1.7807929373868672, \"Bottom 20 % Deviation\": -0.3654377125896818}, {\"date\": \"2020-03-10T00:00:00+00:00\", \"Top 20 %\": 8.081147372955295, \"Bottom 20 %\": 5.000836595005525, \"Top 20 % Deviation\": 2.4745989566649236, \"Bottom 20 % Deviation\": -0.6057118212848431}, {\"date\": \"2020-03-11T00:00:00+00:00\", \"Top 20 %\": 8.857448181846937, \"Bottom 20 %\": 4.858213972185906, \"Top 20 % Deviation\": 3.2508997655565652, \"Bottom 20 % Deviation\": -0.7483344441044627}, {\"date\": \"2020-03-12T00:00:00+00:00\", \"Top 20 %\": 8.813839870304978, \"Bottom 20 %\": 5.163566869675607, \"Top 20 % Deviation\": 3.2072914540146065, \"Bottom 20 % Deviation\": -0.4429815466147609}, {\"date\": \"2020-03-13T00:00:00+00:00\", \"Top 20 %\": 8.403615953375384, \"Bottom 20 %\": 4.470114488723227, \"Top 20 % Deviation\": 2.797067537085013, \"Bottom 20 % Deviation\": -1.1364339275671418}, {\"date\": \"2020-03-14T00:00:00+00:00\", \"Top 20 %\": 7.780744226313837, \"Bottom 20 %\": 4.472983439787232, \"Top 20 % Deviation\": 2.1741958100234653, \"Bottom 20 % Deviation\": -1.1335649765031368}, {\"date\": \"2020-03-15T00:00:00+00:00\", \"Top 20 %\": 7.1130984405543245, \"Bottom 20 %\": 4.447995777228412, \"Top 20 % Deviation\": 1.5065500242639533, \"Bottom 20 % Deviation\": -1.158552639061957}, {\"date\": \"2020-03-16T00:00:00+00:00\", \"Top 20 %\": 6.787432283918204, \"Bottom 20 %\": 4.634706976205966, \"Top 20 % Deviation\": 1.1808838676278335, \"Bottom 20 % Deviation\": -0.9718414400844025}, {\"date\": \"2020-03-17T00:00:00+00:00\", \"Top 20 %\": 6.954016163967802, \"Bottom 20 %\": 4.585989027488017, \"Top 20 % Deviation\": 1.3474677476774317, \"Bottom 20 % Deviation\": -1.0205593888023514}, {\"date\": \"2020-03-18T00:00:00+00:00\", \"Top 20 %\": 7.165387023323078, \"Bottom 20 %\": 4.636115741858918, \"Top 20 % Deviation\": 1.5588386070327083, \"Bottom 20 % Deviation\": -0.9704326744314511}, {\"date\": \"2020-03-19T00:00:00+00:00\", \"Top 20 %\": 6.6357438815203835, \"Bottom 20 %\": 4.52017371287341, \"Top 20 % Deviation\": 1.0291954652300146, \"Bottom 20 % Deviation\": -1.0863747034169582}, {\"date\": \"2020-03-20T00:00:00+00:00\", \"Top 20 %\": 5.938556551580228, \"Bottom 20 %\": 4.209741846811964, \"Top 20 % Deviation\": 0.33200813528985806, \"Bottom 20 % Deviation\": -1.3968065694784042}, {\"date\": \"2020-03-21T00:00:00+00:00\", \"Top 20 %\": 5.1830852031814345, \"Bottom 20 %\": 4.233656986638387, \"Top 20 % Deviation\": -0.4234632131089356, \"Bottom 20 % Deviation\": -1.372891429651982}, {\"date\": \"2020-03-22T00:00:00+00:00\", \"Top 20 %\": 4.577913624324951, \"Bottom 20 %\": 3.9207195095218053, \"Top 20 % Deviation\": -1.028634791965419, \"Bottom 20 % Deviation\": -1.6858289067685637}, {\"date\": \"2020-03-23T00:00:00+00:00\", \"Top 20 %\": 4.321259302782439, \"Bottom 20 %\": 4.277090761726391, \"Top 20 % Deviation\": -1.2852891135079318, \"Bottom 20 % Deviation\": -1.3294576545639782}, {\"date\": \"2020-03-24T00:00:00+00:00\", \"Top 20 %\": 4.343838771596589, \"Bottom 20 %\": 4.767040727219834, \"Top 20 % Deviation\": -1.2627096446937813, \"Bottom 20 % Deviation\": -0.8395076890705344}, {\"date\": \"2020-03-25T00:00:00+00:00\", \"Top 20 %\": 4.400299621708458, \"Bottom 20 %\": 5.052896198440581, \"Top 20 % Deviation\": -1.2062487945819127, \"Bottom 20 % Deviation\": -0.553652217849788}, {\"date\": \"2020-03-26T00:00:00+00:00\", \"Top 20 %\": 4.241080248418996, \"Bottom 20 %\": 5.105744597687286, \"Top 20 % Deviation\": -1.3654681678713747, \"Bottom 20 % Deviation\": -0.5008038186030837}, {\"date\": \"2020-03-27T00:00:00+00:00\", \"Top 20 %\": 4.12341095347594, \"Bottom 20 %\": 5.139077931020619, \"Top 20 % Deviation\": -1.4831374628144303, \"Bottom 20 % Deviation\": -0.4674704852697503}, {\"date\": \"2020-03-28T00:00:00+00:00\", \"Top 20 %\": 4.001640349336993, \"Bottom 20 %\": 5.214866967565469, \"Top 20 % Deviation\": -1.6049080669533766, \"Bottom 20 % Deviation\": -0.3916814487248999}, {\"date\": \"2020-03-29T00:00:00+00:00\", \"Top 20 %\": 3.8958454647415417, \"Bottom 20 %\": 5.3730573384422895, \"Top 20 % Deviation\": -1.710702951548829, \"Bottom 20 % Deviation\": -0.233491077848079}, {\"date\": \"2020-03-30T00:00:00+00:00\", \"Top 20 %\": 3.9503162482883547, \"Bottom 20 %\": 5.493951805262389, \"Top 20 % Deviation\": -1.6562321680020156, \"Bottom 20 % Deviation\": -0.11259661102797924}, {\"date\": \"2020-03-31T00:00:00+00:00\", \"Top 20 %\": 4.0295153332640705, \"Bottom 20 %\": 5.488419018377144, \"Top 20 % Deviation\": -1.5770330830262993, \"Bottom 20 % Deviation\": -0.11812939791322515}, {\"date\": \"2020-04-01T00:00:00+00:00\", \"Top 20 %\": 3.98174948492806, \"Bottom 20 %\": 5.431590630697058, \"Top 20 % Deviation\": -1.6247989313623101, \"Bottom 20 % Deviation\": -0.17495778559331027}, {\"date\": \"2020-04-02T00:00:00+00:00\", \"Top 20 %\": 3.9459736076880043, \"Bottom 20 %\": 6.12048880205137, \"Top 20 % Deviation\": -1.6605748086023664, \"Bottom 20 % Deviation\": 0.5139403857610017}, {\"date\": \"2020-04-03T00:00:00+00:00\", \"Top 20 %\": 3.9789887919655818, \"Bottom 20 %\": 5.70361020850869, \"Top 20 % Deviation\": -1.6275596243247885, \"Bottom 20 % Deviation\": 0.09706179221832145}, {\"date\": \"2020-04-04T00:00:00+00:00\", \"Top 20 %\": 3.8912002192552206, \"Bottom 20 %\": 5.422972953606729, \"Top 20 % Deviation\": -1.71534819703515, \"Bottom 20 % Deviation\": -0.18357546268363936}, {\"date\": \"2020-04-05T00:00:00+00:00\", \"Top 20 %\": 3.835625475906626, \"Bottom 20 %\": 5.082714160094791, \"Top 20 % Deviation\": -1.770922940383744, \"Bottom 20 % Deviation\": -0.5238342561955766}, {\"date\": \"2020-04-06T00:00:00+00:00\", \"Top 20 %\": 3.76830421408154, \"Bottom 20 %\": 5.239861227586686, \"Top 20 % Deviation\": -1.83824420220883, \"Bottom 20 % Deviation\": -0.3666871887036816}, {\"date\": \"2020-04-07T00:00:00+00:00\", \"Top 20 %\": 3.751552327400836, \"Bottom 20 %\": 5.212972886043172, \"Top 20 % Deviation\": -1.8549960888895338, \"Bottom 20 % Deviation\": -0.39357553024719544}, {\"date\": \"2020-04-08T00:00:00+00:00\", \"Top 20 %\": 3.7669648096943695, \"Bottom 20 %\": 5.130740537754417, \"Top 20 % Deviation\": -1.839583606596, \"Bottom 20 % Deviation\": -0.47580787853595014}, {\"date\": \"2020-04-09T00:00:00+00:00\", \"Top 20 %\": 3.718328324244344, \"Bottom 20 %\": 5.076779721799435, \"Top 20 % Deviation\": -1.8882200920460257, \"Bottom 20 % Deviation\": -0.529768694490932}, {\"date\": \"2020-04-10T00:00:00+00:00\", \"Top 20 %\": 3.637580064630284, \"Bottom 20 %\": 5.11179968817186, \"Top 20 % Deviation\": -1.9689683516600849, \"Bottom 20 % Deviation\": -0.4947487281185067}, {\"date\": \"2020-04-11T00:00:00+00:00\", \"Top 20 %\": 3.697609943835041, \"Bottom 20 %\": 5.513521345193432, \"Top 20 % Deviation\": -1.9089384724553273, \"Bottom 20 % Deviation\": -0.09302707109693502}, {\"date\": \"2020-04-12T00:00:00+00:00\", \"Top 20 %\": 3.590024813709028, \"Bottom 20 %\": 4.445854827203542, \"Top 20 % Deviation\": -2.01652360258134, \"Bottom 20 % Deviation\": -1.1606935890868253}, {\"date\": \"2020-04-13T00:00:00+00:00\", \"Top 20 %\": 3.5551177520974155, \"Bottom 20 %\": 4.537784846480369, \"Top 20 % Deviation\": -2.051430664192952, \"Bottom 20 % Deviation\": -1.0687635698099984}, {\"date\": \"2020-04-14T00:00:00+00:00\", \"Top 20 %\": 3.641674559213411, \"Bottom 20 %\": 4.445181013202217, \"Top 20 % Deviation\": -1.9648738570769566, \"Bottom 20 % Deviation\": -1.1613674030881502}, {\"date\": \"2020-04-15T00:00:00+00:00\", \"Top 20 %\": 3.7401675760298887, \"Bottom 20 %\": 4.604966473921463, \"Top 20 % Deviation\": -1.8663808402604793, \"Bottom 20 % Deviation\": -1.0015819423689034}, {\"date\": \"2020-04-16T00:00:00+00:00\", \"Top 20 %\": 3.817653972699285, \"Bottom 20 %\": 4.32950438811455, \"Top 20 % Deviation\": -1.7888944435910834, \"Bottom 20 % Deviation\": -1.2770440281758169}, {\"date\": \"2020-04-17T00:00:00+00:00\", \"Top 20 %\": 3.842786079470504, \"Bottom 20 %\": 4.204303780871003, \"Top 20 % Deviation\": -1.7637623368198643, \"Bottom 20 % Deviation\": -1.4022446354193647}, {\"date\": \"2020-04-18T00:00:00+00:00\", \"Top 20 %\": 3.781186366472114, \"Bottom 20 %\": 4.1950182720169, \"Top 20 % Deviation\": -1.8253620498182541, \"Bottom 20 % Deviation\": -1.4115301442734673}, {\"date\": \"2020-04-19T00:00:00+00:00\", \"Top 20 %\": 3.797370666526625, \"Bottom 20 %\": 4.338415209021375, \"Top 20 % Deviation\": -1.8091777497637431, \"Bottom 20 % Deviation\": -1.2681332072689924}, {\"date\": \"2020-04-20T00:00:00+00:00\", \"Top 20 %\": 3.8923619247864822, \"Bottom 20 %\": 4.329980661113142, \"Top 20 % Deviation\": -1.7141864915038856, \"Bottom 20 % Deviation\": -1.2765677551772243}, {\"date\": \"2020-04-21T00:00:00+00:00\", \"Top 20 %\": 3.920702612809189, \"Bottom 20 %\": 3.9886454775215228, \"Top 20 % Deviation\": -1.6858458034811785, \"Bottom 20 % Deviation\": -1.6179029387688444}, {\"date\": \"2020-04-22T00:00:00+00:00\", \"Top 20 %\": 4.050980938614362, \"Bottom 20 %\": 3.9326826095465, \"Top 20 % Deviation\": -1.5555674776760053, \"Bottom 20 % Deviation\": -1.6738658067438668}, {\"date\": \"2020-04-23T00:00:00+00:00\", \"Top 20 %\": 4.03435098754041, \"Bottom 20 %\": 3.7974039110850804, \"Top 20 % Deviation\": -1.5721974287499574, \"Bottom 20 % Deviation\": -1.8091445052052861}, {\"date\": \"2020-04-24T00:00:00+00:00\", \"Top 20 %\": 4.050582441829224, \"Bottom 20 %\": 4.019543466698143, \"Top 20 % Deviation\": -1.5559659744611436, \"Bottom 20 % Deviation\": -1.5870049495922234}, {\"date\": \"2020-04-25T00:00:00+00:00\", \"Top 20 %\": 3.978063722765755, \"Bottom 20 %\": 3.859758005978896, \"Top 20 % Deviation\": -1.628484693524613, \"Bottom 20 % Deviation\": -1.7467904103114704}, {\"date\": \"2020-04-26T00:00:00+00:00\", \"Top 20 %\": 3.8982229595923785, \"Bottom 20 %\": 3.928642824863715, \"Top 20 % Deviation\": -1.7083254566979895, \"Bottom 20 % Deviation\": -1.6779055914266514}, {\"date\": \"2020-04-27T00:00:00+00:00\", \"Top 20 %\": 3.9248770194307054, \"Bottom 20 %\": 4.006545849281029, \"Top 20 % Deviation\": -1.6816713968596617, \"Bottom 20 % Deviation\": -1.6000025670093372}, {\"date\": \"2020-04-28T00:00:00+00:00\", \"Top 20 %\": 3.9780760189430993, \"Bottom 20 %\": 3.9125493016716355, \"Top 20 % Deviation\": -1.6284723973472683, \"Bottom 20 % Deviation\": -1.6939991146187303}, {\"date\": \"2020-04-29T00:00:00+00:00\", \"Top 20 %\": 4.036410508562449, \"Bottom 20 %\": 3.9501163857503476, \"Top 20 % Deviation\": -1.570137907727918, \"Bottom 20 % Deviation\": -1.6564320305400184}, {\"date\": \"2020-04-30T00:00:00+00:00\", \"Top 20 %\": 4.015652005913784, \"Bottom 20 %\": 3.895730420838067, \"Top 20 % Deviation\": -1.590896410376583, \"Bottom 20 % Deviation\": -1.7108179954522993}, {\"date\": \"2020-05-01T00:00:00+00:00\", \"Top 20 %\": 3.9712359455732966, \"Bottom 20 %\": 3.840186309417964, \"Top 20 % Deviation\": -1.6353124707170719, \"Bottom 20 % Deviation\": -1.766362106872402}, {\"date\": \"2020-05-02T00:00:00+00:00\", \"Top 20 %\": 3.8760552098279497, \"Bottom 20 %\": 3.8176168649735196, \"Top 20 % Deviation\": -1.7304932064624183, \"Bottom 20 % Deviation\": -1.7889315513168467}, {\"date\": \"2020-05-03T00:00:00+00:00\", \"Top 20 %\": 3.8768541115543877, \"Bottom 20 %\": 4.16831039883211, \"Top 20 % Deviation\": -1.72969430473598, \"Bottom 20 % Deviation\": -1.4382380174582559}, {\"date\": \"2020-05-04T00:00:00+00:00\", \"Top 20 %\": 3.8911098603839633, \"Bottom 20 %\": 4.030171636887782, \"Top 20 % Deviation\": -1.7154385559064038, \"Bottom 20 % Deviation\": -1.576376779402585}, {\"date\": \"2020-05-05T00:00:00+00:00\", \"Top 20 %\": 3.921320160256113, \"Bottom 20 %\": 4.116910296595739, \"Top 20 % Deviation\": -1.6852282560342542, \"Bottom 20 % Deviation\": -1.4896381196946287}, {\"date\": \"2020-05-06T00:00:00+00:00\", \"Top 20 %\": 3.9953780566482644, \"Bottom 20 %\": 4.070614000299443, \"Top 20 % Deviation\": -1.6111703596421023, \"Bottom 20 % Deviation\": -1.535934415990925}, {\"date\": \"2020-05-07T00:00:00+00:00\", \"Top 20 %\": 3.9936160111177985, \"Bottom 20 %\": 4.068342617608436, \"Top 20 % Deviation\": -1.6129324051725682, \"Bottom 20 % Deviation\": -1.5382057986819322}, {\"date\": \"2020-05-08T00:00:00+00:00\", \"Top 20 %\": 4.056580928790558, \"Bottom 20 %\": 4.284462655762373, \"Top 20 % Deviation\": -1.5499674874998088, \"Bottom 20 % Deviation\": -1.3220857605279956}, {\"date\": \"2020-05-09T00:00:00+00:00\", \"Top 20 %\": 3.9696910928086195, \"Bottom 20 %\": 4.124290590985044, \"Top 20 % Deviation\": -1.6368573234817465, \"Bottom 20 % Deviation\": -1.4822578253053238}, {\"date\": \"2020-05-10T00:00:00+00:00\", \"Top 20 %\": 3.877122246058429, \"Bottom 20 %\": 4.039950293601269, \"Top 20 % Deviation\": -1.7294261702319371, \"Bottom 20 % Deviation\": -1.5665981226890993}, {\"date\": \"2020-05-11T00:00:00+00:00\", \"Top 20 %\": 3.9921626054415293, \"Bottom 20 %\": 4.192662390585811, \"Top 20 % Deviation\": -1.6143858108488374, \"Bottom 20 % Deviation\": -1.4138860257045565}, {\"date\": \"2020-05-12T00:00:00+00:00\", \"Top 20 %\": 4.086327583184392, \"Bottom 20 %\": 4.455820285322654, \"Top 20 % Deviation\": -1.5202208331059741, \"Bottom 20 % Deviation\": -1.1507281309677144}, {\"date\": \"2020-05-13T00:00:00+00:00\", \"Top 20 %\": 4.1604185902963575, \"Bottom 20 %\": 5.001938273275585, \"Top 20 % Deviation\": -1.4461298259940085, \"Bottom 20 % Deviation\": -0.6046101430147834}, {\"date\": \"2020-05-14T00:00:00+00:00\", \"Top 20 %\": 4.190028132636984, \"Bottom 20 %\": 5.497987510876395, \"Top 20 % Deviation\": -1.416520283653383, \"Bottom 20 % Deviation\": -0.10856090541397379}, {\"date\": \"2020-05-15T00:00:00+00:00\", \"Top 20 %\": 4.195866079046331, \"Bottom 20 %\": 5.780230555549758, \"Top 20 % Deviation\": -1.4106823372440354, \"Bottom 20 % Deviation\": 0.17368213925938916}, {\"date\": \"2020-05-16T00:00:00+00:00\", \"Top 20 %\": 4.1351280391590794, \"Bottom 20 %\": 5.722992712082641, \"Top 20 % Deviation\": -1.4714203771312875, \"Bottom 20 % Deviation\": 0.11644429579227382}, {\"date\": \"2020-05-17T00:00:00+00:00\", \"Top 20 %\": 4.028204360871544, \"Bottom 20 %\": 5.675703151975477, \"Top 20 % Deviation\": -1.578344055418823, \"Bottom 20 % Deviation\": 0.06915473568510935}, {\"date\": \"2020-05-18T00:00:00+00:00\", \"Top 20 %\": 3.967306108482967, \"Bottom 20 %\": 5.52914357120537, \"Top 20 % Deviation\": -1.6392423078074003, \"Bottom 20 % Deviation\": -0.07740484508499774}, {\"date\": \"2020-05-19T00:00:00+00:00\", \"Top 20 %\": 4.04296070165738, \"Bottom 20 %\": 5.441417964034393, \"Top 20 % Deviation\": -1.563587714632988, \"Bottom 20 % Deviation\": -0.1651304522559746}, {\"date\": \"2020-05-20T00:00:00+00:00\", \"Top 20 %\": 4.107873636884454, \"Bottom 20 %\": 5.448092717085958, \"Top 20 % Deviation\": -1.4986747794059128, \"Bottom 20 % Deviation\": -0.15845569920440988}, {\"date\": \"2020-05-21T00:00:00+00:00\", \"Top 20 %\": 4.09668371327224, \"Bottom 20 %\": 5.301572570565812, \"Top 20 % Deviation\": -1.5098647030181271, \"Bottom 20 % Deviation\": -0.3049758457245564}, {\"date\": \"2020-05-22T00:00:00+00:00\", \"Top 20 %\": 4.04569872327153, \"Bottom 20 %\": 5.045359120273413, \"Top 20 % Deviation\": -1.5608496930188382, \"Bottom 20 % Deviation\": -0.561189296016954}, {\"date\": \"2020-05-23T00:00:00+00:00\", \"Top 20 %\": 3.965679120956801, \"Bottom 20 %\": 4.1645914960847366, \"Top 20 % Deviation\": -1.640869295333566, \"Bottom 20 % Deviation\": -1.4419569202056308}, {\"date\": \"2020-05-24T00:00:00+00:00\", \"Top 20 %\": 3.8689404638137637, \"Bottom 20 %\": 3.6572688543651695, \"Top 20 % Deviation\": -1.737607952476603, \"Bottom 20 % Deviation\": -1.9492795619251986}, {\"date\": \"2020-05-25T00:00:00+00:00\", \"Top 20 %\": 3.8264077951604265, \"Bottom 20 %\": 3.3182480492995885, \"Top 20 % Deviation\": -1.780140621129941, \"Bottom 20 % Deviation\": -2.2883003669907795}, {\"date\": \"2020-05-26T00:00:00+00:00\", \"Top 20 %\": 3.912267203710909, \"Bottom 20 %\": 3.2475726136339125, \"Top 20 % Deviation\": -1.6942812125794589, \"Bottom 20 % Deviation\": -2.3589758026564556}, {\"date\": \"2020-05-27T00:00:00+00:00\", \"Top 20 %\": 3.965881007183287, \"Bottom 20 %\": 3.160050726724859, \"Top 20 % Deviation\": -1.6406674091070808, \"Bottom 20 % Deviation\": -2.446497689565509}, {\"date\": \"2020-05-28T00:00:00+00:00\", \"Top 20 %\": 3.998764422115041, \"Bottom 20 %\": 2.996450174418166, \"Top 20 % Deviation\": -1.607783994175326, \"Bottom 20 % Deviation\": -2.610098241872202}, {\"date\": \"2020-05-29T00:00:00+00:00\", \"Top 20 %\": 3.976582433599787, \"Bottom 20 %\": 2.9751952509943633, \"Top 20 % Deviation\": -1.6299659826905804, \"Bottom 20 % Deviation\": -2.6313531652960047}, {\"date\": \"2020-05-30T00:00:00+00:00\", \"Top 20 %\": 3.9178198587263706, \"Bottom 20 %\": 3.005638573104352, \"Top 20 % Deviation\": -1.6887285575639972, \"Bottom 20 % Deviation\": -2.600909843186016}, {\"date\": \"2020-05-31T00:00:00+00:00\", \"Top 20 %\": 3.77859079649557, \"Bottom 20 %\": 3.078595028413748, \"Top 20 % Deviation\": -1.8279576197947982, \"Bottom 20 % Deviation\": -2.5279533878766194}, {\"date\": \"2020-06-01T00:00:00+00:00\", \"Top 20 %\": 3.7787607715926037, \"Bottom 20 %\": 3.058334860949633, \"Top 20 % Deviation\": -1.8277876446977637, \"Bottom 20 % Deviation\": -2.5482135553407343}, {\"date\": \"2020-06-02T00:00:00+00:00\", \"Top 20 %\": 3.8502465787473397, \"Bottom 20 %\": 3.022651289275349, \"Top 20 % Deviation\": -1.7563018375430275, \"Bottom 20 % Deviation\": -2.583897127015018}, {\"date\": \"2020-06-03T00:00:00+00:00\", \"Top 20 %\": 3.9334907741262635, \"Bottom 20 %\": 3.1062532231996043, \"Top 20 % Deviation\": -1.6730576421641044, \"Bottom 20 % Deviation\": -2.5002951930907633}, {\"date\": \"2020-06-04T00:00:00+00:00\", \"Top 20 %\": 3.9846098309237576, \"Bottom 20 %\": 3.023279430796791, \"Top 20 % Deviation\": -1.6219385853666097, \"Bottom 20 % Deviation\": -2.5832689854935764}, {\"date\": \"2020-06-05T00:00:00+00:00\", \"Top 20 %\": 3.9158290524058303, \"Bottom 20 %\": 3.0562432149800878, \"Top 20 % Deviation\": -1.6907193638845368, \"Bottom 20 % Deviation\": -2.5503052013102803}, {\"date\": \"2020-06-06T00:00:00+00:00\", \"Top 20 %\": 3.960352160164182, \"Bottom 20 %\": 3.217073372565833, \"Top 20 % Deviation\": -1.6461962561261854, \"Bottom 20 % Deviation\": -2.389475043724535}, {\"date\": \"2020-06-07T00:00:00+00:00\", \"Top 20 %\": 3.9270670475688574, \"Bottom 20 %\": 3.310823372565833, \"Top 20 % Deviation\": -1.6794813687215089, \"Bottom 20 % Deviation\": -2.295725043724535}, {\"date\": \"2020-06-08T00:00:00+00:00\", \"Top 20 %\": 3.9622795248096003, \"Bottom 20 %\": 3.356449494411467, \"Top 20 % Deviation\": -1.6442688914807662, \"Bottom 20 % Deviation\": -2.2500989218789007}, {\"date\": \"2020-06-09T00:00:00+00:00\", \"Top 20 %\": 4.087042807021092, \"Bottom 20 %\": 3.533825399728549, \"Top 20 % Deviation\": -1.5195056092692742, \"Bottom 20 % Deviation\": -2.0727230165618193}, {\"date\": \"2020-06-10T00:00:00+00:00\", \"Top 20 %\": 4.1955087908308135, \"Bottom 20 %\": 3.5083946213565946, \"Top 20 % Deviation\": -1.4110396254595525, \"Bottom 20 % Deviation\": -2.0981537949337743}, {\"date\": \"2020-06-11T00:00:00+00:00\", \"Top 20 %\": 4.260467800924943, \"Bottom 20 %\": 3.5502191163060894, \"Top 20 % Deviation\": -1.3460806153654237, \"Bottom 20 % Deviation\": -2.0563292999842795}, {\"date\": \"2020-06-12T00:00:00+00:00\", \"Top 20 %\": 4.269480824151741, \"Bottom 20 %\": 3.615823889288728, \"Top 20 % Deviation\": -1.337067592138625, \"Bottom 20 % Deviation\": -1.99072452700164}, {\"date\": \"2020-06-13T00:00:00+00:00\", \"Top 20 %\": 4.2084124425752565, \"Bottom 20 %\": 3.6209932297521865, \"Top 20 % Deviation\": -1.398135973715111, \"Bottom 20 % Deviation\": -1.9855551865381815}, {\"date\": \"2020-06-14T00:00:00+00:00\", \"Top 20 %\": 4.139472988179673, \"Bottom 20 %\": 3.6968963150842926, \"Top 20 % Deviation\": -1.4670754281106948, \"Bottom 20 % Deviation\": -1.9096521012060754}, {\"date\": \"2020-06-15T00:00:00+00:00\", \"Top 20 %\": 4.240395395600737, \"Bottom 20 %\": 3.7700204132083903, \"Top 20 % Deviation\": -1.3661530206896308, \"Bottom 20 % Deviation\": -1.8365280030819773}, {\"date\": \"2020-06-16T00:00:00+00:00\", \"Top 20 %\": 4.2539753479761995, \"Bottom 20 %\": 3.6993423812300485, \"Top 20 % Deviation\": -1.352573068314168, \"Bottom 20 % Deviation\": -1.9072060350603188}, {\"date\": \"2020-06-17T00:00:00+00:00\", \"Top 20 %\": 4.37165616756992, \"Bottom 20 %\": 3.741680971814253, \"Top 20 % Deviation\": -1.2348922487204474, \"Bottom 20 % Deviation\": -1.8648674444761142}, {\"date\": \"2020-06-18T00:00:00+00:00\", \"Top 20 %\": 4.378057212251207, \"Bottom 20 %\": 3.983888764022045, \"Top 20 % Deviation\": -1.2284912040391607, \"Bottom 20 % Deviation\": -1.622659652268322}, {\"date\": \"2020-06-19T00:00:00+00:00\", \"Top 20 %\": 4.41283323320116, \"Bottom 20 %\": 4.003735080927185, \"Top 20 % Deviation\": -1.1937151830892077, \"Bottom 20 % Deviation\": -1.6028133353631815}, {\"date\": \"2020-06-20T00:00:00+00:00\", \"Top 20 %\": 4.403850633198144, \"Bottom 20 %\": 4.122816472349002, \"Top 20 % Deviation\": -1.2026977830922234, \"Bottom 20 % Deviation\": -1.4837319439413643}, {\"date\": \"2020-06-21T00:00:00+00:00\", \"Top 20 %\": 4.297023776273826, \"Bottom 20 %\": 4.805006014832662, \"Top 20 % Deviation\": -1.3095246400165417, \"Bottom 20 % Deviation\": -0.8015424014577043}, {\"date\": \"2020-06-22T00:00:00+00:00\", \"Top 20 %\": 4.3066138000257945, \"Bottom 20 %\": 4.830939744043352, \"Top 20 % Deviation\": -1.2999346162645729, \"Bottom 20 % Deviation\": -0.7756086722470135}, {\"date\": \"2020-06-23T00:00:00+00:00\", \"Top 20 %\": 4.397722142413381, \"Bottom 20 %\": 4.712679685664128, \"Top 20 % Deviation\": -1.2088262738769848, \"Bottom 20 % Deviation\": -0.8938687306262377}, {\"date\": \"2020-06-24T00:00:00+00:00\", \"Top 20 %\": 4.57268970028055, \"Bottom 20 %\": 5.404895966115702, \"Top 20 % Deviation\": -1.033858716009815, \"Bottom 20 % Deviation\": -0.20165245017466313}, {\"date\": \"2020-06-25T00:00:00+00:00\", \"Top 20 %\": 4.621713438373975, \"Bottom 20 %\": 5.858501167061329, \"Top 20 % Deviation\": -0.9848349779163896, \"Bottom 20 % Deviation\": 0.25195275077096324}, {\"date\": \"2020-06-26T00:00:00+00:00\", \"Top 20 %\": 4.642316853594886, \"Bottom 20 %\": 5.978051379490799, \"Top 20 % Deviation\": -0.9642315626954783, \"Bottom 20 % Deviation\": 0.3715029632004326}, {\"date\": \"2020-06-27T00:00:00+00:00\", \"Top 20 %\": 4.558597707555492, \"Bottom 20 %\": 6.00901113181278, \"Top 20 % Deviation\": -1.0479507087348732, \"Bottom 20 % Deviation\": 0.40246271552241397}, {\"date\": \"2020-06-28T00:00:00+00:00\", \"Top 20 %\": 4.499836770933607, \"Bottom 20 %\": 6.10001642281807, \"Top 20 % Deviation\": -1.1067116453567585, \"Bottom 20 % Deviation\": 0.49346800652770495}, {\"date\": \"2020-06-29T00:00:00+00:00\", \"Top 20 %\": 4.47745900981729, \"Bottom 20 %\": 5.977467403210228, \"Top 20 % Deviation\": -1.1290894064730754, \"Bottom 20 % Deviation\": 0.37091898691986186}, {\"date\": \"2020-06-30T00:00:00+00:00\", \"Top 20 %\": 4.520908480490808, \"Bottom 20 %\": 5.939867493269892, \"Top 20 % Deviation\": -1.085639935799556, \"Bottom 20 % Deviation\": 0.33331907697952645}, {\"date\": \"2020-07-01T00:00:00+00:00\", \"Top 20 %\": 4.61994684088719, \"Bottom 20 %\": 5.515801640513695, \"Top 20 % Deviation\": -0.9866015754031746, \"Bottom 20 % Deviation\": -0.09074677577667027}, {\"date\": \"2020-07-02T00:00:00+00:00\", \"Top 20 %\": 4.646123512649554, \"Bottom 20 %\": 6.493623440580803, \"Top 20 % Deviation\": -0.960424903640811, \"Bottom 20 % Deviation\": 0.8870750242904386}, {\"date\": \"2020-07-03T00:00:00+00:00\", \"Top 20 %\": 4.614041639546213, \"Bottom 20 %\": 6.678390675993521, \"Top 20 % Deviation\": -0.9925067767441526, \"Bottom 20 % Deviation\": 1.0718422597031556}, {\"date\": \"2020-07-04T00:00:00+00:00\", \"Top 20 %\": 4.4807791483486925, \"Bottom 20 %\": 6.0048816890654155, \"Top 20 % Deviation\": -1.125769267941673, \"Bottom 20 % Deviation\": 0.39833327277505104}, {\"date\": \"2020-07-05T00:00:00+00:00\", \"Top 20 %\": 4.339101604123155, \"Bottom 20 %\": 5.6008796627229644, \"Top 20 % Deviation\": -1.267446812167211, \"Bottom 20 % Deviation\": -0.005668753567400664}, {\"date\": \"2020-07-06T00:00:00+00:00\", \"Top 20 %\": 4.369782592671715, \"Bottom 20 %\": 5.518541047824135, \"Top 20 % Deviation\": -1.2367658236186516, \"Bottom 20 % Deviation\": -0.08800736846622965}, {\"date\": \"2020-07-07T00:00:00+00:00\", \"Top 20 %\": 4.537334530288099, \"Bottom 20 %\": 5.478639417707816, \"Top 20 % Deviation\": -1.0692138860022677, \"Bottom 20 % Deviation\": -0.1279089985825479}, {\"date\": \"2020-07-08T00:00:00+00:00\", \"Top 20 %\": 4.612341980254747, \"Bottom 20 %\": 5.469947051872594, \"Top 20 % Deviation\": -0.9942064360356195, \"Bottom 20 % Deviation\": -0.13660136441777082}, {\"date\": \"2020-07-09T00:00:00+00:00\", \"Top 20 %\": 4.605348843964665, \"Bottom 20 %\": 5.397257976242342, \"Top 20 % Deviation\": -1.0011995723257026, \"Bottom 20 % Deviation\": -0.20929044004802289}, {\"date\": \"2020-07-10T00:00:00+00:00\", \"Top 20 %\": 4.586760464791111, \"Bottom 20 %\": 6.889513868498236, \"Top 20 % Deviation\": -1.0197879514992556, \"Bottom 20 % Deviation\": 1.2829654522078695}, {\"date\": \"2020-07-11T00:00:00+00:00\", \"Top 20 %\": 4.550128154029548, \"Bottom 20 %\": 6.766159481972279, \"Top 20 % Deviation\": -1.0564202622608196, \"Bottom 20 % Deviation\": 1.1596110656819127}, {\"date\": \"2020-07-12T00:00:00+00:00\", \"Top 20 %\": 4.423433064810397, \"Bottom 20 %\": 6.057476784086924, \"Top 20 % Deviation\": -1.1831153514799706, \"Bottom 20 % Deviation\": 0.45092836779655715}, {\"date\": \"2020-07-13T00:00:00+00:00\", \"Top 20 %\": 4.451001267407078, \"Bottom 20 %\": 5.927712031295856, \"Top 20 % Deviation\": -1.1555471488832907, \"Bottom 20 % Deviation\": 0.3211636150054885}, {\"date\": \"2020-07-14T00:00:00+00:00\", \"Top 20 %\": 4.528985631461572, \"Bottom 20 %\": 5.901960612307208, \"Top 20 % Deviation\": -1.0775627848287952, \"Bottom 20 % Deviation\": 0.29541219601684043}, {\"date\": \"2020-07-15T00:00:00+00:00\", \"Top 20 %\": 4.608835922856551, \"Bottom 20 %\": 5.800724465674643, \"Top 20 % Deviation\": -0.9977124934338157, \"Bottom 20 % Deviation\": 0.19417604938427435}, {\"date\": \"2020-07-16T00:00:00+00:00\", \"Top 20 %\": 4.6220354961760615, \"Bottom 20 %\": 5.836907821736724, \"Top 20 % Deviation\": -0.9845129201143059, \"Bottom 20 % Deviation\": 0.2303594054463563}, {\"date\": \"2020-07-17T00:00:00+00:00\", \"Top 20 %\": 4.594033629905278, \"Bottom 20 %\": 6.525436560038973, \"Top 20 % Deviation\": -1.0125147863850894, \"Bottom 20 % Deviation\": 0.9188881437486064}, {\"date\": \"2020-07-18T00:00:00+00:00\", \"Top 20 %\": 4.562837083431912, \"Bottom 20 %\": 6.570369917997541, \"Top 20 % Deviation\": -1.0437113328584555, \"Bottom 20 % Deviation\": 0.9638215017071744}, {\"date\": \"2020-07-19T00:00:00+00:00\", \"Top 20 %\": 4.495773810812441, \"Bottom 20 %\": 6.620794893479726, \"Top 20 % Deviation\": -1.1107746054779264, \"Bottom 20 % Deviation\": 1.014246477189358}, {\"date\": \"2020-07-20T00:00:00+00:00\", \"Top 20 %\": 4.533579248251287, \"Bottom 20 %\": 5.040708313393145, \"Top 20 % Deviation\": -1.0729691680390805, \"Bottom 20 % Deviation\": -0.5658401028972223}, {\"date\": \"2020-07-21T00:00:00+00:00\", \"Top 20 %\": 4.6263245981570735, \"Bottom 20 %\": 4.940661232413861, \"Top 20 % Deviation\": -0.980223818133293, \"Bottom 20 % Deviation\": -0.6658871838765068}, {\"date\": \"2020-07-22T00:00:00+00:00\", \"Top 20 %\": 4.7769755726213585, \"Bottom 20 %\": 4.662883454636083, \"Top 20 % Deviation\": -0.8295728436690084, \"Bottom 20 % Deviation\": -0.9436649616542846}, {\"date\": \"2020-07-23T00:00:00+00:00\", \"Top 20 %\": 4.8283203735617395, \"Bottom 20 %\": 4.553056410610926, \"Top 20 % Deviation\": -0.7782280427286277, \"Bottom 20 % Deviation\": -1.053492005679442}, {\"date\": \"2020-07-24T00:00:00+00:00\", \"Top 20 %\": 4.879682837202662, \"Bottom 20 %\": 4.555929973829317, \"Top 20 % Deviation\": -0.7268655790877053, \"Bottom 20 % Deviation\": -1.0506184424610512}, {\"date\": \"2020-07-25T00:00:00+00:00\", \"Top 20 %\": 4.8297172989100625, \"Bottom 20 %\": 4.571187284483047, \"Top 20 % Deviation\": -0.7768311173803049, \"Bottom 20 % Deviation\": -1.035361131807321}, {\"date\": \"2020-07-26T00:00:00+00:00\", \"Top 20 %\": 4.706218471045159, \"Bottom 20 %\": 4.487910907965424, \"Top 20 % Deviation\": -0.9003299452452079, \"Bottom 20 % Deviation\": -1.1186375083249447}, {\"date\": \"2020-07-27T00:00:00+00:00\", \"Top 20 %\": 4.7459278918078365, \"Bottom 20 %\": 3.7355960931506096, \"Top 20 % Deviation\": -0.8606205244825306, \"Bottom 20 % Deviation\": -1.8709523231397593}, {\"date\": \"2020-07-28T00:00:00+00:00\", \"Top 20 %\": 4.823141421463189, \"Bottom 20 %\": 3.3241114363099156, \"Top 20 % Deviation\": -0.7834069948271776, \"Bottom 20 % Deviation\": -2.2824369799804534}, {\"date\": \"2020-07-29T00:00:00+00:00\", \"Top 20 %\": 4.953604362658392, \"Bottom 20 %\": 3.5130545351014666, \"Top 20 % Deviation\": -0.6529440536319748, \"Bottom 20 % Deviation\": -2.0934938811889023}, {\"date\": \"2020-07-30T00:00:00+00:00\", \"Top 20 %\": 4.928133290664604, \"Bottom 20 %\": 3.5975783446252763, \"Top 20 % Deviation\": -0.6784151256257628, \"Bottom 20 % Deviation\": -2.0089700716650927}, {\"date\": \"2020-07-31T00:00:00+00:00\", \"Top 20 %\": 4.894752931331246, \"Bottom 20 %\": 3.525617797121251, \"Top 20 % Deviation\": -0.7117954849591207, \"Bottom 20 % Deviation\": -2.0809306191691186}, {\"date\": \"2020-08-01T00:00:00+00:00\", \"Top 20 %\": 4.800485364700971, \"Bottom 20 %\": 3.5089570977537847, \"Top 20 % Deviation\": -0.8060630515893956, \"Bottom 20 % Deviation\": -2.0975913185365846}, {\"date\": \"2020-08-02T00:00:00+00:00\", \"Top 20 %\": 4.711003498426043, \"Bottom 20 %\": 3.6131237644204517, \"Top 20 % Deviation\": -0.8955449178643228, \"Bottom 20 % Deviation\": -1.9934246518699184}, {\"date\": \"2020-08-03T00:00:00+00:00\", \"Top 20 %\": 4.692722717261171, \"Bottom 20 %\": 3.684811604710833, \"Top 20 % Deviation\": -0.9138256990291957, \"Bottom 20 % Deviation\": -1.9217368115795375}, {\"date\": \"2020-08-04T00:00:00+00:00\", \"Top 20 %\": 4.77126515650305, \"Bottom 20 %\": 4.420557340456568, \"Top 20 % Deviation\": -0.8352832597873165, \"Bottom 20 % Deviation\": -1.1859910758338017}, {\"date\": \"2020-08-05T00:00:00+00:00\", \"Top 20 %\": 4.933949034428792, \"Bottom 20 %\": 4.499244467481291, \"Top 20 % Deviation\": -0.672599381861574, \"Bottom 20 % Deviation\": -1.1073039488090788}, {\"date\": \"2020-08-06T00:00:00+00:00\", \"Top 20 %\": 4.872382763933723, \"Bottom 20 %\": 4.560167340904163, \"Top 20 % Deviation\": -0.7341656523566429, \"Bottom 20 % Deviation\": -1.0463810753862055}, {\"date\": \"2020-08-07T00:00:00+00:00\", \"Top 20 %\": 4.78329209264721, \"Bottom 20 %\": 4.623231236920005, \"Top 20 % Deviation\": -0.8232563236431556, \"Bottom 20 % Deviation\": -0.9833171793703643}, {\"date\": \"2020-08-08T00:00:00+00:00\", \"Top 20 %\": 4.638453634292113, \"Bottom 20 %\": 4.4255298293129375, \"Top 20 % Deviation\": -0.9680947819982535, \"Bottom 20 % Deviation\": -1.1810185869774323}, {\"date\": \"2020-08-09T00:00:00+00:00\", \"Top 20 %\": 4.603390471356396, \"Bottom 20 %\": 4.471379250162358, \"Top 20 % Deviation\": -1.003157944933971, \"Bottom 20 % Deviation\": -1.1351691661280114}, {\"date\": \"2020-08-10T00:00:00+00:00\", \"Top 20 %\": 4.606273135972755, \"Bottom 20 %\": 4.6110077563227145, \"Top 20 % Deviation\": -1.0002752803176123, \"Bottom 20 % Deviation\": -0.9955406599676548}, {\"date\": \"2020-08-11T00:00:00+00:00\", \"Top 20 %\": 4.671101283576368, \"Bottom 20 %\": 4.846687070888199, \"Top 20 % Deviation\": -0.9354471327139986, \"Bottom 20 % Deviation\": -0.7598613454021713}, {\"date\": \"2020-08-12T00:00:00+00:00\", \"Top 20 %\": 4.776246304318432, \"Bottom 20 %\": 4.970783903096187, \"Top 20 % Deviation\": -0.8303021119719347, \"Bottom 20 % Deviation\": -0.6357645131941825}, {\"date\": \"2020-08-13T00:00:00+00:00\", \"Top 20 %\": 4.885101888271643, \"Bottom 20 %\": 5.54973127151724, \"Top 20 % Deviation\": -0.7214465280187247, \"Bottom 20 % Deviation\": -0.05681714477312978}, {\"date\": \"2020-08-14T00:00:00+00:00\", \"Top 20 %\": 4.851700969931566, \"Bottom 20 %\": 5.118309146731271, \"Top 20 % Deviation\": -0.7548474463588006, \"Bottom 20 % Deviation\": -0.48823926955909897}, {\"date\": \"2020-08-15T00:00:00+00:00\", \"Top 20 %\": 4.738703185723457, \"Bottom 20 %\": 5.233806884287832, \"Top 20 % Deviation\": -0.8678452305669093, \"Bottom 20 % Deviation\": -0.3727415320025378}, {\"date\": \"2020-08-16T00:00:00+00:00\", \"Top 20 %\": 4.578904243437071, \"Bottom 20 %\": 5.457021170002117, \"Top 20 % Deviation\": -1.0276441728532952, \"Bottom 20 % Deviation\": -0.14952724628825212}, {\"date\": \"2020-08-17T00:00:00+00:00\", \"Top 20 %\": 4.713703722161117, \"Bottom 20 %\": 5.450366334154735, \"Top 20 % Deviation\": -0.8928446941292485, \"Bottom 20 % Deviation\": -0.1561820821356345}, {\"date\": \"2020-08-18T00:00:00+00:00\", \"Top 20 %\": 4.895965561911888, \"Bottom 20 %\": 5.494110718701007, \"Top 20 % Deviation\": -0.7105828543784772, \"Bottom 20 % Deviation\": -0.11243769758936314}, {\"date\": \"2020-08-19T00:00:00+00:00\", \"Top 20 %\": 4.980576535270677, \"Bottom 20 %\": 5.38962692456204, \"Top 20 % Deviation\": -0.625971881019688, \"Bottom 20 % Deviation\": -0.21692149172832975}, {\"date\": \"2020-08-20T00:00:00+00:00\", \"Top 20 %\": 5.024832229002361, \"Bottom 20 %\": 5.456681188127932, \"Top 20 % Deviation\": -0.5817161872880046, \"Bottom 20 % Deviation\": -0.14986722816243833}, {\"date\": \"2020-08-21T00:00:00+00:00\", \"Top 20 %\": 5.049179482363295, \"Bottom 20 %\": 5.3367989860825, \"Top 20 % Deviation\": -0.5573689339270704, \"Bottom 20 % Deviation\": -0.2697494302078699}, {\"date\": \"2020-08-22T00:00:00+00:00\", \"Top 20 %\": 4.899663835573722, \"Bottom 20 %\": 5.204146844958492, \"Top 20 % Deviation\": -0.7068845807166435, \"Bottom 20 % Deviation\": -0.40240157133187804}, {\"date\": \"2020-08-23T00:00:00+00:00\", \"Top 20 %\": 4.7524364427531, \"Bottom 20 %\": 5.469903147479501, \"Top 20 % Deviation\": -0.8541119735372652, \"Bottom 20 % Deviation\": -0.13664526881086977}, {\"date\": \"2020-08-24T00:00:00+00:00\", \"Top 20 %\": 4.795991002964312, \"Bottom 20 %\": 5.478116405660377, \"Top 20 % Deviation\": -0.8105574133260539, \"Bottom 20 % Deviation\": -0.12843201062999351}, {\"date\": \"2020-08-25T00:00:00+00:00\", \"Top 20 %\": 4.959638680325492, \"Bottom 20 %\": 5.563739116283087, \"Top 20 % Deviation\": -0.6469097359648736, \"Bottom 20 % Deviation\": -0.04280930000728293}, {\"date\": \"2020-08-26T00:00:00+00:00\", \"Top 20 %\": 5.092834290508049, \"Bottom 20 %\": 5.3885344190195665, \"Top 20 % Deviation\": -0.5137141257823176, \"Bottom 20 % Deviation\": -0.21801399727080367}, {\"date\": \"2020-08-27T00:00:00+00:00\", \"Top 20 %\": 5.034187124599384, \"Bottom 20 %\": 5.541875475721968, \"Top 20 % Deviation\": -0.5723612916909815, \"Bottom 20 % Deviation\": -0.06467294056840252}, {\"date\": \"2020-08-28T00:00:00+00:00\", \"Top 20 %\": 4.961707531658382, \"Bottom 20 %\": 5.583087801132406, \"Top 20 % Deviation\": -0.6448408846319842, \"Bottom 20 % Deviation\": -0.023460615157963938}, {\"date\": \"2020-08-29T00:00:00+00:00\", \"Top 20 %\": 4.918039571015882, \"Bottom 20 %\": 5.769827764484064, \"Top 20 % Deviation\": -0.6885088452744843, \"Bottom 20 % Deviation\": 0.16327934819369355}, {\"date\": \"2020-08-30T00:00:00+00:00\", \"Top 20 %\": 4.922439092049936, \"Bottom 20 %\": 5.737776482432782, \"Top 20 % Deviation\": -0.6841093242404293, \"Bottom 20 % Deviation\": 0.13122806614241161}, {\"date\": \"2020-08-31T00:00:00+00:00\", \"Top 20 %\": 4.920143569432825, \"Bottom 20 %\": 5.594789854622528, \"Top 20 % Deviation\": -0.6864048468575409, \"Bottom 20 % Deviation\": -0.011758561667842083}, {\"date\": \"2020-09-01T00:00:00+00:00\", \"Top 20 %\": 5.0613017477700115, \"Bottom 20 %\": 5.662344050213808, \"Top 20 % Deviation\": -0.5452466685203541, \"Bottom 20 % Deviation\": 0.05579563392343796}, {\"date\": \"2020-09-02T00:00:00+00:00\", \"Top 20 %\": 5.112228061180415, \"Bottom 20 %\": 4.953730604835657, \"Top 20 % Deviation\": -0.49432035510995015, \"Bottom 20 % Deviation\": -0.6528178114547132}, {\"date\": \"2020-09-03T00:00:00+00:00\", \"Top 20 %\": 5.162146034100881, \"Bottom 20 %\": 4.616878454026791, \"Top 20 % Deviation\": -0.4444023821894835, \"Bottom 20 % Deviation\": -0.9896699622635786}, {\"date\": \"2020-09-04T00:00:00+00:00\", \"Top 20 %\": 5.091532901648756, \"Bottom 20 %\": 4.68612837621789, \"Top 20 % Deviation\": -0.5150155146416098, \"Bottom 20 % Deviation\": -0.9204200400724801}, {\"date\": \"2020-09-05T00:00:00+00:00\", \"Top 20 %\": 4.979974402380863, \"Bottom 20 %\": 5.097444184592521, \"Top 20 % Deviation\": -0.6265740139095023, \"Bottom 20 % Deviation\": -0.5091042316978482}, {\"date\": \"2020-09-06T00:00:00+00:00\", \"Top 20 %\": 4.918579987922545, \"Bottom 20 %\": 5.390151903131442, \"Top 20 % Deviation\": -0.6879684283678199, \"Bottom 20 % Deviation\": -0.21639651315892766}, {\"date\": \"2020-09-07T00:00:00+00:00\", \"Top 20 %\": 4.934070477628405, \"Bottom 20 %\": 5.445762958742497, \"Top 20 % Deviation\": -0.6724779386619613, \"Bottom 20 % Deviation\": -0.16078545754787205}, {\"date\": \"2020-09-08T00:00:00+00:00\", \"Top 20 %\": 5.028262071123142, \"Bottom 20 %\": 5.686963786899847, \"Top 20 % Deviation\": -0.5782863451672241, \"Bottom 20 % Deviation\": 0.08041537060947786}, {\"date\": \"2020-09-09T00:00:00+00:00\", \"Top 20 %\": 5.086567597659892, \"Bottom 20 %\": 5.614848402284463, \"Top 20 % Deviation\": -0.5199808186304745, \"Bottom 20 % Deviation\": 0.008299985994093184}, {\"date\": \"2020-09-10T00:00:00+00:00\", \"Top 20 %\": 5.139986190956893, \"Bottom 20 %\": 5.695546689504488, \"Top 20 % Deviation\": -0.46656222533347264, \"Bottom 20 % Deviation\": 0.08899827321411946}, {\"date\": \"2020-09-11T00:00:00+00:00\", \"Top 20 %\": 5.163299840358406, \"Bottom 20 %\": 5.671437503495989, \"Top 20 % Deviation\": -0.44324857593196015, \"Bottom 20 % Deviation\": 0.06488908720561985}, {\"date\": \"2020-09-12T00:00:00+00:00\", \"Top 20 %\": 5.105572672649977, \"Bottom 20 %\": 5.8582217718592045, \"Top 20 % Deviation\": -0.5009757436403888, \"Bottom 20 % Deviation\": 0.2516733555688357}, {\"date\": \"2020-09-13T00:00:00+00:00\", \"Top 20 %\": 4.9829225313861585, \"Bottom 20 %\": 6.048644094634469, \"Top 20 % Deviation\": -0.6236258849042078, \"Bottom 20 % Deviation\": 0.4420956783440996}, {\"date\": \"2020-09-14T00:00:00+00:00\", \"Top 20 %\": 5.074915076315742, \"Bottom 20 %\": 5.815528626224882, \"Top 20 % Deviation\": -0.5316333399746245, \"Bottom 20 % Deviation\": 0.20898020993451363}, {\"date\": \"2020-09-15T00:00:00+00:00\", \"Top 20 %\": 5.265861688694933, \"Bottom 20 %\": 5.5096678203640765, \"Top 20 % Deviation\": -0.3406867275954327, \"Bottom 20 % Deviation\": -0.09688059592629221}, {\"date\": \"2020-09-16T00:00:00+00:00\", \"Top 20 %\": 5.481752462073802, \"Bottom 20 %\": 5.585698690377986, \"Top 20 % Deviation\": -0.12479595421656375, \"Bottom 20 % Deviation\": -0.020849725912382856}, {\"date\": \"2020-09-17T00:00:00+00:00\", \"Top 20 %\": 5.626854572489434, \"Bottom 20 %\": 5.456304692562935, \"Top 20 % Deviation\": 0.020306156199068948, \"Bottom 20 % Deviation\": -0.1502437237274333}, {\"date\": \"2020-09-18T00:00:00+00:00\", \"Top 20 %\": 5.671443544260681, \"Bottom 20 %\": 4.973619167111908, \"Top 20 % Deviation\": 0.06489512797031516, \"Bottom 20 % Deviation\": -0.6329292491784612}, {\"date\": \"2020-09-19T00:00:00+00:00\", \"Top 20 %\": 5.51310201305664, \"Bottom 20 %\": 5.061119167111907, \"Top 20 % Deviation\": -0.09344640323372584, \"Bottom 20 % Deviation\": -0.5454292491784611}, {\"date\": \"2020-09-20T00:00:00+00:00\", \"Top 20 %\": 5.340147413803242, \"Bottom 20 %\": 5.112401218393959, \"Top 20 % Deviation\": -0.26640100248712384, \"Bottom 20 % Deviation\": -0.4941471978964098}, {\"date\": \"2020-09-21T00:00:00+00:00\", \"Top 20 %\": 5.464610225832682, \"Bottom 20 %\": 5.755287279701074, \"Top 20 % Deviation\": -0.14193819045768397, \"Bottom 20 % Deviation\": 0.14873886341070425}, {\"date\": \"2020-09-22T00:00:00+00:00\", \"Top 20 %\": 5.626361139263482, \"Bottom 20 %\": 5.370671895085689, \"Top 20 % Deviation\": 0.019812722973115447, \"Bottom 20 % Deviation\": -0.23587652120468044}, {\"date\": \"2020-09-23T00:00:00+00:00\", \"Top 20 %\": 5.860569325146352, \"Bottom 20 %\": 5.711596321536431, \"Top 20 % Deviation\": 0.25402090885598605, \"Bottom 20 % Deviation\": 0.10504790524606186}, {\"date\": \"2020-09-24T00:00:00+00:00\", \"Top 20 %\": 5.886319431147227, \"Bottom 20 %\": 5.788995702341386, \"Top 20 % Deviation\": 0.279771014856861, \"Bottom 20 % Deviation\": 0.18244728605101543}, {\"date\": \"2020-09-25T00:00:00+00:00\", \"Top 20 %\": 5.902158135537762, \"Bottom 20 %\": 5.9720022382890985, \"Top 20 % Deviation\": 0.2956097192473962, \"Bottom 20 % Deviation\": 0.36545382199872783}, {\"date\": \"2020-09-26T00:00:00+00:00\", \"Top 20 %\": 5.6863386160777765, \"Bottom 20 %\": 5.831300873333982, \"Top 20 % Deviation\": 0.07979019978740957, \"Bottom 20 % Deviation\": 0.22475245704360977}, {\"date\": \"2020-09-27T00:00:00+00:00\", \"Top 20 %\": 5.454939656530244, \"Bottom 20 %\": 6.863894612584067, \"Top 20 % Deviation\": -0.15160875976012314, \"Bottom 20 % Deviation\": 1.2573461962936956}, {\"date\": \"2020-09-28T00:00:00+00:00\", \"Top 20 %\": 5.336887277810055, \"Bottom 20 %\": 6.951900434908451, \"Top 20 % Deviation\": -0.26966113848031215, \"Bottom 20 % Deviation\": 1.3453520186180787}, {\"date\": \"2020-09-29T00:00:00+00:00\", \"Top 20 %\": 5.579675703660184, \"Bottom 20 %\": 7.148381373324874, \"Top 20 % Deviation\": -0.02687271263018278, \"Bottom 20 % Deviation\": 1.5418329570345009}, {\"date\": \"2020-09-30T00:00:00+00:00\", \"Top 20 %\": 5.824023176128494, \"Bottom 20 %\": 7.11449858944209, \"Top 20 % Deviation\": 0.2174747598381276, \"Bottom 20 % Deviation\": 1.5079501731517169}, {\"date\": \"2020-10-01T00:00:00+00:00\", \"Top 20 %\": 5.854253029241936, \"Bottom 20 %\": 6.897230143602215, \"Top 20 % Deviation\": 0.2477046129515692, \"Bottom 20 % Deviation\": 1.2906817273118425}, {\"date\": \"2020-10-02T00:00:00+00:00\", \"Top 20 %\": 5.853081208189925, \"Bottom 20 %\": 6.995061259854384, \"Top 20 % Deviation\": 0.24653279189955776, \"Bottom 20 % Deviation\": 1.3885128435640113}, {\"date\": \"2020-10-03T00:00:00+00:00\", \"Top 20 %\": 5.594616619321472, \"Bottom 20 %\": 6.625290679557489, \"Top 20 % Deviation\": -0.011931796968895814, \"Bottom 20 % Deviation\": 1.018742263267115}, {\"date\": \"2020-10-04T00:00:00+00:00\", \"Top 20 %\": 5.348886399523672, \"Bottom 20 %\": 7.066204284324122, \"Top 20 % Deviation\": -0.2576620167666952, \"Bottom 20 % Deviation\": 1.4596558680337488}, {\"date\": \"2020-10-05T00:00:00+00:00\", \"Top 20 %\": 5.289867597408733, \"Bottom 20 %\": 6.784095725223753, \"Top 20 % Deviation\": -0.31668081888163413, \"Bottom 20 % Deviation\": 1.1775473089333803}, {\"date\": \"2020-10-06T00:00:00+00:00\", \"Top 20 %\": 5.40654646698468, \"Bottom 20 %\": 7.499540264960745, \"Top 20 % Deviation\": -0.2000019493056874, \"Bottom 20 % Deviation\": 1.8929918486703727}, {\"date\": \"2020-10-07T00:00:00+00:00\", \"Top 20 %\": 5.5189789973640995, \"Bottom 20 %\": 6.391748367714042, \"Top 20 % Deviation\": -0.08756941892626738, \"Bottom 20 % Deviation\": 0.7851999514236692}, {\"date\": \"2020-10-08T00:00:00+00:00\", \"Top 20 %\": 5.578759160170905, \"Bottom 20 %\": 6.306231000063906, \"Top 20 % Deviation\": -0.027789256119462768, \"Bottom 20 % Deviation\": 0.6996825837735331}, {\"date\": \"2020-10-09T00:00:00+00:00\", \"Top 20 %\": 5.439873236414508, \"Bottom 20 %\": 5.990743212332414, \"Top 20 % Deviation\": -0.16667517987585873, \"Bottom 20 % Deviation\": 0.3841947960420423}, {\"date\": \"2020-10-10T00:00:00+00:00\", \"Top 20 %\": 5.256088007905015, \"Bottom 20 %\": 5.938621722710924, \"Top 20 % Deviation\": -0.3504604083853514, \"Bottom 20 % Deviation\": 0.33207330642055277}, {\"date\": \"2020-10-11T00:00:00+00:00\", \"Top 20 %\": 4.933743489346309, \"Bottom 20 %\": 5.481531194191824, \"Top 20 % Deviation\": -0.6728049269440576, \"Bottom 20 % Deviation\": -0.1250172220985471}, {\"date\": \"2020-10-12T00:00:00+00:00\", \"Top 20 %\": 4.824961322613433, \"Bottom 20 %\": 6.101311413972044, \"Top 20 % Deviation\": -0.7815870936769337, \"Bottom 20 % Deviation\": 0.4947629976816728}, {\"date\": \"2020-10-13T00:00:00+00:00\", \"Top 20 %\": 5.094903442710316, \"Bottom 20 %\": 5.98466988556581, \"Top 20 % Deviation\": -0.511644973580051, \"Bottom 20 % Deviation\": 0.3781214692754385}, {\"date\": \"2020-10-14T00:00:00+00:00\", \"Top 20 %\": 5.284565087533242, \"Bottom 20 %\": 5.702145210870834, \"Top 20 % Deviation\": -0.3219833287571253, \"Bottom 20 % Deviation\": 0.09559679458046286}, {\"date\": \"2020-10-15T00:00:00+00:00\", \"Top 20 %\": 5.335945757005506, \"Bottom 20 %\": 5.72439199050158, \"Top 20 % Deviation\": -0.27060265928486105, \"Bottom 20 % Deviation\": 0.11784357421120868}, {\"date\": \"2020-10-16T00:00:00+00:00\", \"Top 20 %\": 5.347845991099893, \"Bottom 20 %\": 5.048255626865217, \"Top 20 % Deviation\": -0.25870242519047415, \"Bottom 20 % Deviation\": -0.5582927894251547}, {\"date\": \"2020-10-17T00:00:00+00:00\", \"Top 20 %\": 5.270522004117153, \"Bottom 20 %\": 5.268935298764402, \"Top 20 % Deviation\": -0.3360264121732138, \"Bottom 20 % Deviation\": -0.3376131175259706}, {\"date\": \"2020-10-18T00:00:00+00:00\", \"Top 20 %\": 5.182802992255253, \"Bottom 20 %\": 5.411266732762502, \"Top 20 % Deviation\": -0.4237454240351145, \"Bottom 20 % Deviation\": -0.19528168352786998}, {\"date\": \"2020-10-19T00:00:00+00:00\", \"Top 20 %\": 5.267732446257612, \"Bottom 20 %\": 5.570046309350298, \"Top 20 % Deviation\": -0.33881597003275604, \"Bottom 20 % Deviation\": -0.036502106940074164}, {\"date\": \"2020-10-20T00:00:00+00:00\", \"Top 20 %\": 5.470803720009514, \"Bottom 20 %\": 5.719570396374385, \"Top 20 % Deviation\": -0.1357446962808539, \"Bottom 20 % Deviation\": 0.11302198008401287}, {\"date\": \"2020-10-21T00:00:00+00:00\", \"Top 20 %\": 5.6698501482821015, \"Bottom 20 %\": 5.661718629567394, \"Top 20 % Deviation\": 0.0633017319917335, \"Bottom 20 % Deviation\": 0.055170213277022116}, {\"date\": \"2020-10-22T00:00:00+00:00\", \"Top 20 %\": 5.771693161082162, \"Bottom 20 %\": 5.144319362168126, \"Top 20 % Deviation\": 0.16514474479179428, \"Bottom 20 % Deviation\": -0.4622290541222454}, {\"date\": \"2020-10-23T00:00:00+00:00\", \"Top 20 %\": 5.698747682569165, \"Bottom 20 %\": 5.176940744054214, \"Top 20 % Deviation\": 0.09219926627879733, \"Bottom 20 % Deviation\": -0.4296076722361576}, {\"date\": \"2020-10-24T00:00:00+00:00\", \"Top 20 %\": 5.538121338141878, \"Bottom 20 %\": 4.973760348138458, \"Top 20 % Deviation\": -0.06842707814848925, \"Bottom 20 % Deviation\": -0.6327880681519129}, {\"date\": \"2020-10-25T00:00:00+00:00\", \"Top 20 %\": 5.323137098359588, \"Bottom 20 %\": 5.307762659152264, \"Top 20 % Deviation\": -0.28341131793078006, \"Bottom 20 % Deviation\": -0.2987857571381077}, {\"date\": \"2020-10-26T00:00:00+00:00\", \"Top 20 %\": 5.436877481691868, \"Bottom 20 %\": 4.9930305162951205, \"Top 20 % Deviation\": -0.16967093459850058, \"Bottom 20 % Deviation\": -0.6135178999952505}, {\"date\": \"2020-10-27T00:00:00+00:00\", \"Top 20 %\": 5.629462845048437, \"Bottom 20 %\": 4.8639049965446, \"Top 20 % Deviation\": 0.022914428758068393, \"Bottom 20 % Deviation\": -0.7426434197457703}, {\"date\": \"2020-10-28T00:00:00+00:00\", \"Top 20 %\": 5.800975199904595, \"Bottom 20 %\": 4.900321357960962, \"Top 20 % Deviation\": 0.19442678361422722, \"Bottom 20 % Deviation\": -0.7062270583294088}, {\"date\": \"2020-10-29T00:00:00+00:00\", \"Top 20 %\": 5.840181625013795, \"Bottom 20 %\": 4.806139625059717, \"Top 20 % Deviation\": 0.23363320872342636, \"Bottom 20 % Deviation\": -0.8004087912306541}, {\"date\": \"2020-10-30T00:00:00+00:00\", \"Top 20 %\": 5.814375969460599, \"Bottom 20 %\": 4.861989180909273, \"Top 20 % Deviation\": 0.2078275531702301, \"Bottom 20 % Deviation\": -0.7445592353810984}, {\"date\": \"2020-10-31T00:00:00+00:00\", \"Top 20 %\": 5.637227861221734, \"Bottom 20 %\": 4.911370251745568, \"Top 20 % Deviation\": 0.03067944493136565, \"Bottom 20 % Deviation\": -0.6951781645448036}, {\"date\": \"2020-11-01T00:00:00+00:00\", \"Top 20 %\": 5.3687730216807195, \"Bottom 20 %\": 4.767146988669846, \"Top 20 % Deviation\": -0.23777539460964903, \"Bottom 20 % Deviation\": -0.8394014276205258}, {\"date\": \"2020-11-02T00:00:00+00:00\", \"Top 20 %\": 5.372514656122594, \"Bottom 20 %\": 5.006341540364398, \"Top 20 % Deviation\": -0.2340337601677745, \"Bottom 20 % Deviation\": -0.6002068759259742}, {\"date\": \"2020-11-03T00:00:00+00:00\", \"Top 20 %\": 5.531830105813997, \"Bottom 20 %\": 5.03839282241568, \"Top 20 % Deviation\": -0.07471831047637148, \"Bottom 20 % Deviation\": -0.5681555938746922}, {\"date\": \"2020-11-04T00:00:00+00:00\", \"Top 20 %\": 5.816671562714353, \"Bottom 20 %\": 5.526483114618976, \"Top 20 % Deviation\": 0.21012314642398439, \"Bottom 20 % Deviation\": -0.08006530167139622}, {\"date\": \"2020-11-05T00:00:00+00:00\", \"Top 20 %\": 5.802007821016186, \"Bottom 20 %\": 5.542604146365008, \"Top 20 % Deviation\": 0.19545940472581846, \"Bottom 20 % Deviation\": -0.06394426992536442}, {\"date\": \"2020-11-06T00:00:00+00:00\", \"Top 20 %\": 5.715590450505801, \"Bottom 20 %\": 5.651979146365008, \"Top 20 % Deviation\": 0.10904203421543346, \"Bottom 20 % Deviation\": 0.045430730074635495}, {\"date\": \"2020-11-07T00:00:00+00:00\", \"Top 20 %\": 5.524253984819639, \"Bottom 20 %\": 5.696693571724595, \"Top 20 % Deviation\": -0.08229443147072843, \"Bottom 20 % Deviation\": 0.09014515543422216}, {\"date\": \"2020-11-08T00:00:00+00:00\", \"Top 20 %\": 5.317619314158994, \"Bottom 20 %\": 5.923516370456561, \"Top 20 % Deviation\": -0.2889291021313741, \"Bottom 20 % Deviation\": 0.31696795416618817}, {\"date\": \"2020-11-09T00:00:00+00:00\", \"Top 20 %\": 5.377946438471302, \"Bottom 20 %\": 5.949834646774837, \"Top 20 % Deviation\": -0.22860197781906594, \"Bottom 20 % Deviation\": 0.34328623048446455}, {\"date\": \"2020-11-10T00:00:00+00:00\", \"Top 20 %\": 5.649501182760851, \"Bottom 20 %\": 6.210927720367911, \"Top 20 % Deviation\": 0.04295276647048292, \"Bottom 20 % Deviation\": 0.6043793040775383}, {\"date\": \"2020-11-11T00:00:00+00:00\", \"Top 20 %\": 5.836530148256712, \"Bottom 20 %\": 6.336379525017002, \"Top 20 % Deviation\": 0.2299817319663437, \"Bottom 20 % Deviation\": 0.7298311087266295}, {\"date\": \"2020-11-12T00:00:00+00:00\", \"Top 20 %\": 5.84920061806431, \"Bottom 20 %\": 6.334468523106, \"Top 20 % Deviation\": 0.24265220177394092, \"Bottom 20 % Deviation\": 0.7279201068156277}, {\"date\": \"2020-11-13T00:00:00+00:00\", \"Top 20 %\": 5.9149233640380485, \"Bottom 20 %\": 6.892008205645682, \"Top 20 % Deviation\": 0.30837494774768065, \"Bottom 20 % Deviation\": 1.2854597893553101}, {\"date\": \"2020-11-14T00:00:00+00:00\", \"Top 20 %\": 5.724536397760308, \"Bottom 20 %\": 6.046877683557328, \"Top 20 % Deviation\": 0.11798798146993912, \"Bottom 20 % Deviation\": 0.44032926726695676}, {\"date\": \"2020-11-15T00:00:00+00:00\", \"Top 20 %\": 5.452024359372971, \"Bottom 20 %\": 6.18639788557753, \"Top 20 % Deviation\": -0.1545240569173977, \"Bottom 20 % Deviation\": 0.5798494692871587}, {\"date\": \"2020-11-16T00:00:00+00:00\", \"Top 20 %\": 5.54964452456498, \"Bottom 20 %\": 6.169052485879189, \"Top 20 % Deviation\": -0.05690389172538905, \"Bottom 20 % Deviation\": 0.5625040695888179}, {\"date\": \"2020-11-17T00:00:00+00:00\", \"Top 20 %\": 5.694448045159298, \"Bottom 20 %\": 6.1248602333822015, \"Top 20 % Deviation\": 0.08789962886892981, \"Bottom 20 % Deviation\": 0.5183118170918296}, {\"date\": \"2020-11-18T00:00:00+00:00\", \"Top 20 %\": 5.8901145527689565, \"Bottom 20 %\": 6.023270964591649, \"Top 20 % Deviation\": 0.2835661364785883, \"Bottom 20 % Deviation\": 0.41672254830127786}, {\"date\": \"2020-11-19T00:00:00+00:00\", \"Top 20 %\": 5.798336943595991, \"Bottom 20 %\": 5.833245712066396, \"Top 20 % Deviation\": 0.19178852730562196, \"Bottom 20 % Deviation\": 0.22669729577602524}, {\"date\": \"2020-11-20T00:00:00+00:00\", \"Top 20 %\": 5.761520139748385, \"Bottom 20 %\": 5.775712836137293, \"Top 20 % Deviation\": 0.15497172345801707, \"Bottom 20 % Deviation\": 0.16916441984692288}, {\"date\": \"2020-11-21T00:00:00+00:00\", \"Top 20 %\": 5.670502411867459, \"Bottom 20 %\": 5.751542117693176, \"Top 20 % Deviation\": 0.06395399557709132, \"Bottom 20 % Deviation\": 0.14499370140280538}, {\"date\": \"2020-11-22T00:00:00+00:00\", \"Top 20 %\": 5.435783206367176, \"Bottom 20 %\": 5.5513826280600025, \"Top 20 % Deviation\": -0.17076520992319186, \"Bottom 20 % Deviation\": -0.05516578823036857}, {\"date\": \"2020-11-23T00:00:00+00:00\", \"Top 20 %\": 5.476577722963375, \"Bottom 20 %\": 5.13818005194759, \"Top 20 % Deviation\": -0.12997069332699235, \"Bottom 20 % Deviation\": -0.4683683643427806}, {\"date\": \"2020-11-24T00:00:00+00:00\", \"Top 20 %\": 5.594254854481764, \"Bottom 20 %\": 5.183051846819385, \"Top 20 % Deviation\": -0.012293561808602815, \"Bottom 20 % Deviation\": -0.42349656947098585}, {\"date\": \"2020-11-25T00:00:00+00:00\", \"Top 20 %\": 5.782709128282716, \"Bottom 20 %\": 5.448456253733227, \"Top 20 % Deviation\": 0.1761607119923488, \"Bottom 20 % Deviation\": -0.15809216255714498}, {\"date\": \"2020-11-26T00:00:00+00:00\", \"Top 20 %\": 5.588078869168259, \"Bottom 20 %\": 6.372190295845054, \"Top 20 % Deviation\": -0.01846954712210853, \"Bottom 20 % Deviation\": 0.7656418795546831}, {\"date\": \"2020-11-27T00:00:00+00:00\", \"Top 20 %\": 5.416748117983668, \"Bottom 20 %\": 6.521493250773685, \"Top 20 % Deviation\": -0.18980029830669837, \"Bottom 20 % Deviation\": 0.9149448344833143}, {\"date\": \"2020-11-28T00:00:00+00:00\", \"Top 20 %\": 5.175722118396044, \"Bottom 20 %\": 6.469376209453985, \"Top 20 % Deviation\": -0.43082629789432314, \"Bottom 20 % Deviation\": 0.862827793163615}, {\"date\": \"2020-11-29T00:00:00+00:00\", \"Top 20 %\": 4.995399971936095, \"Bottom 20 %\": 6.419247824766776, \"Top 20 % Deviation\": -0.6111484443542723, \"Bottom 20 % Deviation\": 0.8126994084764068}, {\"date\": \"2020-11-30T00:00:00+00:00\", \"Top 20 %\": 4.989694462473301, \"Bottom 20 %\": 6.6421847410999195, \"Top 20 % Deviation\": -0.6168539538170662, \"Bottom 20 % Deviation\": 1.0356363248095495}, {\"date\": \"2020-12-01T00:00:00+00:00\", \"Top 20 %\": 5.144990557047995, \"Bottom 20 %\": 6.731986087170261, \"Top 20 % Deviation\": -0.4615578592423713, \"Bottom 20 % Deviation\": 1.1254376708798925}, {\"date\": \"2020-12-02T00:00:00+00:00\", \"Top 20 %\": 5.436136365620837, \"Bottom 20 %\": 6.781712676370534, \"Top 20 % Deviation\": -0.17041205066953, \"Bottom 20 % Deviation\": 1.175164260080166}, {\"date\": \"2020-12-03T00:00:00+00:00\", \"Top 20 %\": 5.394439966219584, \"Bottom 20 %\": 7.076717973571382, \"Top 20 % Deviation\": -0.2121084500707838, \"Bottom 20 % Deviation\": 1.4701695572810134}, {\"date\": \"2020-12-04T00:00:00+00:00\", \"Top 20 %\": 5.409517223347395, \"Bottom 20 %\": 7.1247948966483055, \"Top 20 % Deviation\": -0.19703119294297228, \"Bottom 20 % Deviation\": 1.5182464803579365}, {\"date\": \"2020-12-05T00:00:00+00:00\", \"Top 20 %\": 5.310452360058562, \"Bottom 20 %\": 6.723663471654506, \"Top 20 % Deviation\": -0.29609605623180496, \"Bottom 20 % Deviation\": 1.117115055364136}, {\"date\": \"2020-12-06T00:00:00+00:00\", \"Top 20 %\": 5.288915829603323, \"Bottom 20 %\": 6.224137574339057, \"Top 20 % Deviation\": -0.31763258668704386, \"Bottom 20 % Deviation\": 0.617589158048688}, {\"date\": \"2020-12-07T00:00:00+00:00\", \"Top 20 %\": 5.490830301844978, \"Bottom 20 %\": 6.4407863235480205, \"Top 20 % Deviation\": -0.11571811444538849, \"Bottom 20 % Deviation\": 0.8342379072576513}, {\"date\": \"2020-12-08T00:00:00+00:00\", \"Top 20 %\": 5.676061020795673, \"Bottom 20 %\": 6.499001917477901, \"Top 20 % Deviation\": 0.06951260450530601, \"Bottom 20 % Deviation\": 0.892453501187531}, {\"date\": \"2020-12-09T00:00:00+00:00\", \"Top 20 %\": 5.88475956351422, \"Bottom 20 %\": 6.621550937085743, \"Top 20 % Deviation\": 0.27821114722385304, \"Bottom 20 % Deviation\": 1.0150025207953741}, {\"date\": \"2020-12-10T00:00:00+00:00\", \"Top 20 %\": 5.935105126646549, \"Bottom 20 %\": 6.347813563348369, \"Top 20 % Deviation\": 0.32855671035618184, \"Bottom 20 % Deviation\": 0.7412651470580005}, {\"date\": \"2020-12-11T00:00:00+00:00\", \"Top 20 %\": 5.870609003161098, \"Bottom 20 %\": 6.246238276932658, \"Top 20 % Deviation\": 0.2640605868707301, \"Bottom 20 % Deviation\": 0.6396898606422885}, {\"date\": \"2020-12-12T00:00:00+00:00\", \"Top 20 %\": 5.5942767737739185, \"Bottom 20 %\": 6.18691738948677, \"Top 20 % Deviation\": -0.012271642516449166, \"Bottom 20 % Deviation\": 0.5803689731964011}, {\"date\": \"2020-12-13T00:00:00+00:00\", \"Top 20 %\": 5.371609614849361, \"Bottom 20 %\": 5.70483994312361, \"Top 20 % Deviation\": -0.2349388014410067, \"Bottom 20 % Deviation\": 0.09829152683324054}, {\"date\": \"2020-12-14T00:00:00+00:00\", \"Top 20 %\": 5.394111507832409, \"Bottom 20 %\": 5.72044385675384, \"Top 20 % Deviation\": -0.21243690845795876, \"Bottom 20 % Deviation\": 0.11389544046346992}, {\"date\": \"2020-12-15T00:00:00+00:00\", \"Top 20 %\": 5.54021379881611, \"Bottom 20 %\": 5.708611537619289, \"Top 20 % Deviation\": -0.06633461747425846, \"Bottom 20 % Deviation\": 0.10206312132891951}, {\"date\": \"2020-12-16T00:00:00+00:00\", \"Top 20 %\": 5.779046180219952, \"Bottom 20 %\": 5.620201173473631, \"Top 20 % Deviation\": 0.17249776392958313, \"Bottom 20 % Deviation\": 0.013652757183261154}, {\"date\": \"2020-12-17T00:00:00+00:00\", \"Top 20 %\": 5.62442501712989, \"Bottom 20 %\": 5.171904952151094, \"Top 20 % Deviation\": 0.017876600839521473, \"Bottom 20 % Deviation\": -0.4346434641392759}, {\"date\": \"2020-12-18T00:00:00+00:00\", \"Top 20 %\": 5.58573890474776, \"Bottom 20 %\": 4.90852702572969, \"Top 20 % Deviation\": -0.020809511542608395, \"Bottom 20 % Deviation\": -0.6980213905606806}, {\"date\": \"2020-12-19T00:00:00+00:00\", \"Top 20 %\": 5.411685130122946, \"Bottom 20 %\": 4.7245137696825354, \"Top 20 % Deviation\": -0.19486328616742316, \"Bottom 20 % Deviation\": -0.8820346466078348}, {\"date\": \"2020-12-20T00:00:00+00:00\", \"Top 20 %\": 5.192734470129588, \"Bottom 20 %\": 4.874513769682535, \"Top 20 % Deviation\": -0.4138139461607805, \"Bottom 20 % Deviation\": -0.7320346466078348}, {\"date\": \"2020-12-21T00:00:00+00:00\", \"Top 20 %\": 5.278644872309539, \"Bottom 20 %\": 4.767990391100334, \"Top 20 % Deviation\": -0.3279035439808305, \"Bottom 20 % Deviation\": -0.8385580251900372}, {\"date\": \"2020-12-22T00:00:00+00:00\", \"Top 20 %\": 5.481944257527145, \"Bottom 20 %\": 4.919773164486367, \"Top 20 % Deviation\": -0.12460415876322486, \"Bottom 20 % Deviation\": -0.6867752518040029}, {\"date\": \"2020-12-23T00:00:00+00:00\", \"Top 20 %\": 5.632298401134536, \"Bottom 20 %\": 5.6629050326182355, \"Top 20 % Deviation\": 0.025749984844166462, \"Bottom 20 % Deviation\": 0.05635661632786517}, {\"date\": \"2020-12-24T00:00:00+00:00\", \"Top 20 %\": 5.518275179829912, \"Bottom 20 %\": 6.459989655941248, \"Top 20 % Deviation\": -0.08827323646045766, \"Bottom 20 % Deviation\": 0.8534412396508785}, {\"date\": \"2020-12-25T00:00:00+00:00\", \"Top 20 %\": 5.365230529968745, \"Bottom 20 %\": 6.664413181598894, \"Top 20 % Deviation\": -0.24131788632162446, \"Bottom 20 % Deviation\": 1.057864765308524}, {\"date\": \"2020-12-26T00:00:00+00:00\", \"Top 20 %\": 5.073724513571742, \"Bottom 20 %\": 6.36262746731318, \"Top 20 % Deviation\": -0.5328239027186276, \"Bottom 20 % Deviation\": 0.7560790510228098}, {\"date\": \"2020-12-27T00:00:00+00:00\", \"Top 20 %\": 5.006233493013489, \"Bottom 20 %\": 6.346130483904433, \"Top 20 % Deviation\": -0.6003149232768804, \"Bottom 20 % Deviation\": 0.7395820676140616}, {\"date\": \"2020-12-28T00:00:00+00:00\", \"Top 20 %\": 5.0555230156598165, \"Bottom 20 %\": 6.517200718018145, \"Top 20 % Deviation\": -0.5510254006305523, \"Bottom 20 % Deviation\": 0.9106523017277741}, {\"date\": \"2020-12-29T00:00:00+00:00\", \"Top 20 %\": 5.119095077658711, \"Bottom 20 %\": 6.675267698119024, \"Top 20 % Deviation\": -0.4874533386316574, \"Bottom 20 % Deviation\": 1.0687192818286526}, {\"date\": \"2020-12-30T00:00:00+00:00\", \"Top 20 %\": 5.176465699009135, \"Bottom 20 %\": 6.496084562414149, \"Top 20 % Deviation\": -0.43008271728123243, \"Bottom 20 % Deviation\": 0.8895361461237778}, {\"date\": \"2020-12-31T00:00:00+00:00\", \"Top 20 %\": 5.056656247757827, \"Bottom 20 %\": 6.584456449630574, \"Top 20 % Deviation\": -0.5498921685325413, \"Bottom 20 % Deviation\": 0.9779080333402028}]}}, {\"mode\": \"vega-lite\"});\n",
              "</script>"
            ]
          },
          "metadata": {
            "tags": []
          },
          "execution_count": 48
        },
        {
          "output_type": "stream",
          "text": [
            "time: 110 ms (started: 2021-04-22 01:53:02 +00:00)\n"
          ],
          "name": "stdout"
        }
      ]
    },
    {
      "cell_type": "code",
      "metadata": {
        "colab": {
          "base_uri": "https://localhost:8080/"
        },
        "id": "owhSJQqe7rVM",
        "outputId": "9e15baad-5fdb-4f94-ead4-c90abd334dde"
      },
      "source": [
        "#Conversion of datetime format\n",
        "df['date'] = pd.to_datetime(df['date'],utc= True)\n",
        "#df['date'] = [datetime.datetime.date(d) for d in df['date']] "
      ],
      "execution_count": 49,
      "outputs": [
        {
          "output_type": "stream",
          "text": [
            "time: 3.33 ms (started: 2021-04-22 01:53:03 +00:00)\n"
          ],
          "name": "stdout"
        }
      ]
    },
    {
      "cell_type": "markdown",
      "metadata": {
        "id": "yCVL0_NiBLU0"
      },
      "source": [
        "Filtering based on important dates\n",
        "\n",
        "**March 8, 2020:**\n",
        "NYC issues guidelines to avoid densely packed buses, subways, or trains.\n",
        "\n",
        "**March 12, 2020:**\n",
        "Broadway shuts down.\n",
        "\n",
        "**March 14, 2020:**\n",
        "First two COVID-19 deaths in NYS.\n",
        "\n",
        "**March 22, 2020:**\n",
        "NYS on Pause Program begins, all non-essential workers must stay home.\n",
        "\n",
        "**March 28, 2020:**\n",
        "Governor Cuomo halts all nonessential construction sites in NYS.\n",
        "\n",
        "\n",
        "\n",
        "\n",
        "\n",
        "\n",
        "\n",
        "\n",
        "\n"
      ]
    },
    {
      "cell_type": "code",
      "metadata": {
        "colab": {
          "base_uri": "https://localhost:8080/",
          "height": 385
        },
        "id": "gelkUE5NBJps",
        "outputId": "12dd3b38-c849-4631-87f8-2499e526a63d"
      },
      "source": [
        "start_date = '2020-3-5'\n",
        "end_date = '2020-3-31'\n",
        "df1 = apply_date_filter(df,start_date,end_date)\n",
        "chart = create_chart(df1)\n",
        "chart"
      ],
      "execution_count": 55,
      "outputs": [
        {
          "output_type": "execute_result",
          "data": {
            "text/plain": [
              "alt.LayerChart(...)"
            ],
            "text/html": [
              "\n",
              "<div id=\"altair-viz-67ea650d82164a379849159674a5332c\"></div>\n",
              "<script type=\"text/javascript\">\n",
              "  (function(spec, embedOpt){\n",
              "    let outputDiv = document.currentScript.previousElementSibling;\n",
              "    if (outputDiv.id !== \"altair-viz-67ea650d82164a379849159674a5332c\") {\n",
              "      outputDiv = document.getElementById(\"altair-viz-67ea650d82164a379849159674a5332c\");\n",
              "    }\n",
              "    const paths = {\n",
              "      \"vega\": \"https://cdn.jsdelivr.net/npm//vega@5?noext\",\n",
              "      \"vega-lib\": \"https://cdn.jsdelivr.net/npm//vega-lib?noext\",\n",
              "      \"vega-lite\": \"https://cdn.jsdelivr.net/npm//vega-lite@4.8.1?noext\",\n",
              "      \"vega-embed\": \"https://cdn.jsdelivr.net/npm//vega-embed@6?noext\",\n",
              "    };\n",
              "\n",
              "    function loadScript(lib) {\n",
              "      return new Promise(function(resolve, reject) {\n",
              "        var s = document.createElement('script');\n",
              "        s.src = paths[lib];\n",
              "        s.async = true;\n",
              "        s.onload = () => resolve(paths[lib]);\n",
              "        s.onerror = () => reject(`Error loading script: ${paths[lib]}`);\n",
              "        document.getElementsByTagName(\"head\")[0].appendChild(s);\n",
              "      });\n",
              "    }\n",
              "\n",
              "    function showError(err) {\n",
              "      outputDiv.innerHTML = `<div class=\"error\" style=\"color:red;\">${err}</div>`;\n",
              "      throw err;\n",
              "    }\n",
              "\n",
              "    function displayChart(vegaEmbed) {\n",
              "      vegaEmbed(outputDiv, spec, embedOpt)\n",
              "        .catch(err => showError(`Javascript Error: ${err.message}<br>This usually means there's a typo in your chart specification. See the javascript console for the full traceback.`));\n",
              "    }\n",
              "\n",
              "    if(typeof define === \"function\" && define.amd) {\n",
              "      requirejs.config({paths});\n",
              "      require([\"vega-embed\"], displayChart, err => showError(`Error loading script: ${err.message}`));\n",
              "    } else if (typeof vegaEmbed === \"function\") {\n",
              "      displayChart(vegaEmbed);\n",
              "    } else {\n",
              "      loadScript(\"vega\")\n",
              "        .then(() => loadScript(\"vega-lite\"))\n",
              "        .then(() => loadScript(\"vega-embed\"))\n",
              "        .catch(showError)\n",
              "        .then(() => displayChart(vegaEmbed));\n",
              "    }\n",
              "  })({\"config\": {\"view\": {\"continuousHeight\": 300, \"continuousWidth\": 400}, \"range\": {\"category\": {\"scheme\": [\"#FF4500\", \"#a0aab4\", \"#4E79A7\"]}}}, \"layer\": [{\"data\": {\"name\": \"data-5feab3975f23b2c574aabfce1be7c4a0\"}, \"mark\": \"line\", \"encoding\": {\"color\": {\"type\": \"nominal\", \"field\": \"Poverty %\"}, \"x\": {\"type\": \"temporal\", \"field\": \"date\", \"title\": \"Date\"}, \"y\": {\"type\": \"quantitative\", \"field\": \"full_time_work\", \"title\": \"Full Time %\"}}, \"selection\": {\"selector001\": {\"type\": \"interval\", \"bind\": \"scales\", \"encodings\": [\"x\", \"y\"]}}, \"transform\": [{\"fold\": [\"Bottom 20 % Deviation\", \"Top 20 % Deviation\"], \"as\": [\"Poverty %\", \"full_time_work\"]}], \"width\": 1000}, {\"data\": {\"name\": \"data-7f3a6b86ed460c4e648f2393735a11f6\"}, \"mark\": {\"type\": \"rule\", \"color\": \"#757575\", \"size\": 2, \"strokeDash\": [5, 3]}, \"encoding\": {\"size\": {\"value\": 2}, \"y\": {\"type\": \"quantitative\", \"field\": \"Mean 2019\"}}}, {\"data\": {\"name\": \"data-d764767e7dd3b10b2c76c1355ce10ef3\"}, \"mark\": {\"type\": \"text\", \"angle\": 0, \"text\": \"Mean 2019\"}, \"encoding\": {\"opacity\": {\"value\": 0.4}, \"y\": {\"type\": \"quantitative\", \"field\": \"y\"}}}], \"$schema\": \"https://vega.github.io/schema/vega-lite/v4.8.1.json\", \"datasets\": {\"data-5feab3975f23b2c574aabfce1be7c4a0\": [{\"date\": \"2020-03-16T00:00:00+00:00\", \"Top 20 %\": 5.661291640841997, \"Bottom 20 %\": 6.180555555555555, \"Top 20 % Deviation\": 0.05474322455162639, \"Bottom 20 % Deviation\": 0.5740071392651851}, {\"date\": \"2020-03-06T00:00:00+00:00\", \"Top 20 %\": 8.917953207203194, \"Bottom 20 %\": 4.313443565780014, \"Top 20 % Deviation\": 3.3114047909128237, \"Bottom 20 % Deviation\": -1.293104850510356}, {\"date\": \"2020-03-26T00:00:00+00:00\", \"Top 20 %\": 4.069097907947377, \"Bottom 20 %\": 6.709039548022599, \"Top 20 % Deviation\": -1.5374505083429932, \"Bottom 20 % Deviation\": 1.1024911317322283}, {\"date\": \"2020-03-25T00:00:00+00:00\", \"Top 20 %\": 3.8322564513487443, \"Bottom 20 %\": 6.875, \"Top 20 % Deviation\": -1.774291964941626, \"Bottom 20 % Deviation\": 1.2684515837096297}, {\"date\": \"2020-03-20T00:00:00+00:00\", \"Top 20 %\": 3.548586319448243, \"Bottom 20 %\": 2.9056386651323365, \"Top 20 % Deviation\": -2.057962096842127, \"Bottom 20 % Deviation\": -2.700909751158034}, {\"date\": \"2020-03-24T00:00:00+00:00\", \"Top 20 %\": 3.943269049465778, \"Bottom 20 %\": 7.767857142857142, \"Top 20 % Deviation\": -1.6632793668245922, \"Bottom 20 % Deviation\": 2.161308726566772}, {\"date\": \"2020-03-10T00:00:00+00:00\", \"Top 20 %\": 10.520459618849808, \"Bottom 20 %\": 6.009957325746799, \"Top 20 % Deviation\": 4.913911202559437, \"Bottom 20 % Deviation\": 0.40340890945642904}, {\"date\": \"2020-03-12T00:00:00+00:00\", \"Top 20 %\": 9.749204008890729, \"Bottom 20 %\": 6.5565031982942426, \"Top 20 % Deviation\": 4.1426555926003585, \"Bottom 20 % Deviation\": 0.9499547820038723}, {\"date\": \"2020-03-11T00:00:00+00:00\", \"Top 20 %\": 10.98599135948545, \"Bottom 20 %\": 3.760848601735776, \"Top 20 % Deviation\": 5.379442943195079, \"Bottom 20 % Deviation\": -1.8456998145545942}, {\"date\": \"2020-03-13T00:00:00+00:00\", \"Top 20 %\": 7.149116337189739, \"Bottom 20 %\": 4.196428571428571, \"Top 20 % Deviation\": 1.5425679208993683, \"Bottom 20 % Deviation\": -1.410119844861799}, {\"date\": \"2020-03-27T00:00:00+00:00\", \"Top 20 %\": 4.2307730310339995, \"Bottom 20 %\": 4.846153846153847, \"Top 20 % Deviation\": -1.3757753852563708, \"Bottom 20 % Deviation\": -0.7603945701365236}, {\"date\": \"2020-03-22T00:00:00+00:00\", \"Top 20 %\": 3.697488220325893, \"Bottom 20 %\": 3.427128427128427, \"Top 20 % Deviation\": -1.9090601959644773, \"Bottom 20 % Deviation\": -2.1794199891619432}, {\"date\": \"2020-03-28T00:00:00+00:00\", \"Top 20 %\": 3.9803611244183523, \"Bottom 20 %\": 4.4642857142857135, \"Top 20 % Deviation\": -1.626187291872018, \"Bottom 20 % Deviation\": -1.1422627020046567}, {\"date\": \"2020-03-19T00:00:00+00:00\", \"Top 20 %\": 4.7007203921194085, \"Bottom 20 %\": 3.393425238600212, \"Top 20 % Deviation\": -0.9058280241709618, \"Bottom 20 % Deviation\": -2.213123177690158}, {\"date\": \"2020-03-09T00:00:00+00:00\", \"Top 20 %\": 9.997151810146345, \"Bottom 20 %\": 4.5528455284552845, \"Top 20 % Deviation\": 4.390603393855975, \"Bottom 20 % Deviation\": -1.0537028878350858}, {\"date\": \"2020-03-29T00:00:00+00:00\", \"Top 20 %\": 3.642771546164885, \"Bottom 20 %\": 4.975328947368421, \"Top 20 % Deviation\": -1.9637768701254852, \"Bottom 20 % Deviation\": -0.631219468921949}, {\"date\": \"2020-03-08T00:00:00+00:00\", \"Top 20 %\": 3.0843585722550513, \"Bottom 20 %\": 3.2051282051282053, \"Top 20 % Deviation\": -2.522189844035319, \"Bottom 20 % Deviation\": -2.401420211162165}, {\"date\": \"2020-03-15T00:00:00+00:00\", \"Top 20 %\": 3.2676479502300597, \"Bottom 20 %\": 4.0164452877925365, \"Top 20 % Deviation\": -2.3389004660603105, \"Bottom 20 % Deviation\": -1.5901031284978338}, {\"date\": \"2020-03-07T00:00:00+00:00\", \"Top 20 %\": 3.7416271799685727, \"Bottom 20 %\": 5.0, \"Top 20 % Deviation\": -1.8649212363217975, \"Bottom 20 % Deviation\": -0.6065484162903703}, {\"date\": \"2020-03-17T00:00:00+00:00\", \"Top 20 %\": 5.407465980464554, \"Bottom 20 %\": 4.512820512820513, \"Top 20 % Deviation\": -0.19908243582581608, \"Bottom 20 % Deviation\": -1.0937279034698575}, {\"date\": \"2020-03-18T00:00:00+00:00\", \"Top 20 %\": 5.198067165807816, \"Bottom 20 %\": 3.7063953488372094, \"Top 20 % Deviation\": -0.4084812504825539, \"Bottom 20 % Deviation\": -1.9001530674531608}, {\"date\": \"2020-03-31T00:00:00+00:00\", \"Top 20 %\": 4.223268725254675, \"Bottom 20 %\": 3.944672131147541, \"Top 20 % Deviation\": -1.3832796910356953, \"Bottom 20 % Deviation\": -1.6618762851428293}, {\"date\": \"2020-03-14T00:00:00+00:00\", \"Top 20 %\": 3.717474361324272, \"Bottom 20 %\": 2.8683574879227054, \"Top 20 % Deviation\": -1.8890740549660983, \"Bottom 20 % Deviation\": -2.738190928367665}, {\"date\": \"2020-03-23T00:00:00+00:00\", \"Top 20 %\": 4.582573121764613, \"Bottom 20 %\": 7.760141093474426, \"Top 20 % Deviation\": -1.0239752945257576, \"Bottom 20 % Deviation\": 2.153592677184056}, {\"date\": \"2020-03-30T00:00:00+00:00\", \"Top 20 %\": 4.093294154916375, \"Bottom 20 %\": 4.114583333333334, \"Top 20 % Deviation\": -1.5132542613739952, \"Bottom 20 % Deviation\": -1.4919650829570363}, {\"date\": \"2020-03-21T00:00:00+00:00\", \"Top 20 %\": 3.4312778754975133, \"Bottom 20 %\": 4.0, \"Top 20 % Deviation\": -2.175270540792857, \"Bottom 20 % Deviation\": -1.6065484162903703}], \"data-7f3a6b86ed460c4e648f2393735a11f6\": [{\"Mean 2019\": 0}], \"data-d764767e7dd3b10b2c76c1355ce10ef3\": [{\"y\": 1}]}}, {\"mode\": \"vega-lite\"});\n",
              "</script>"
            ]
          },
          "metadata": {
            "tags": []
          },
          "execution_count": 55
        },
        {
          "output_type": "stream",
          "text": [
            "time: 56.8 ms (started: 2021-04-22 01:54:58 +00:00)\n"
          ],
          "name": "stdout"
        }
      ]
    },
    {
      "cell_type": "markdown",
      "metadata": {
        "id": "eY48F9-7gp2q"
      },
      "source": [
        "\n",
        "\n",
        "**April 10, 2020:**\n",
        "NYS records more COVID19 cases than any other country \n",
        "\n",
        "\n",
        "\n",
        "\n",
        "\n",
        "\n",
        "\n"
      ]
    },
    {
      "cell_type": "code",
      "metadata": {
        "colab": {
          "base_uri": "https://localhost:8080/",
          "height": 385
        },
        "id": "_DhDPv1GfRhR",
        "outputId": "3c66d382-e2c8-4da6-948e-351810b9bada"
      },
      "source": [
        "start_date = '2020-4-2'\n",
        "end_date = '2020-4-24'\n",
        "df2 = apply_date_filter(df,start_date,end_date)\n",
        "chart = create_chart(df2)\n",
        "chart\n",
        "#df2"
      ],
      "execution_count": 56,
      "outputs": [
        {
          "output_type": "execute_result",
          "data": {
            "text/plain": [
              "alt.LayerChart(...)"
            ],
            "text/html": [
              "\n",
              "<div id=\"altair-viz-3594cd8c743446718bcb1d551da8a2e9\"></div>\n",
              "<script type=\"text/javascript\">\n",
              "  (function(spec, embedOpt){\n",
              "    let outputDiv = document.currentScript.previousElementSibling;\n",
              "    if (outputDiv.id !== \"altair-viz-3594cd8c743446718bcb1d551da8a2e9\") {\n",
              "      outputDiv = document.getElementById(\"altair-viz-3594cd8c743446718bcb1d551da8a2e9\");\n",
              "    }\n",
              "    const paths = {\n",
              "      \"vega\": \"https://cdn.jsdelivr.net/npm//vega@5?noext\",\n",
              "      \"vega-lib\": \"https://cdn.jsdelivr.net/npm//vega-lib?noext\",\n",
              "      \"vega-lite\": \"https://cdn.jsdelivr.net/npm//vega-lite@4.8.1?noext\",\n",
              "      \"vega-embed\": \"https://cdn.jsdelivr.net/npm//vega-embed@6?noext\",\n",
              "    };\n",
              "\n",
              "    function loadScript(lib) {\n",
              "      return new Promise(function(resolve, reject) {\n",
              "        var s = document.createElement('script');\n",
              "        s.src = paths[lib];\n",
              "        s.async = true;\n",
              "        s.onload = () => resolve(paths[lib]);\n",
              "        s.onerror = () => reject(`Error loading script: ${paths[lib]}`);\n",
              "        document.getElementsByTagName(\"head\")[0].appendChild(s);\n",
              "      });\n",
              "    }\n",
              "\n",
              "    function showError(err) {\n",
              "      outputDiv.innerHTML = `<div class=\"error\" style=\"color:red;\">${err}</div>`;\n",
              "      throw err;\n",
              "    }\n",
              "\n",
              "    function displayChart(vegaEmbed) {\n",
              "      vegaEmbed(outputDiv, spec, embedOpt)\n",
              "        .catch(err => showError(`Javascript Error: ${err.message}<br>This usually means there's a typo in your chart specification. See the javascript console for the full traceback.`));\n",
              "    }\n",
              "\n",
              "    if(typeof define === \"function\" && define.amd) {\n",
              "      requirejs.config({paths});\n",
              "      require([\"vega-embed\"], displayChart, err => showError(`Error loading script: ${err.message}`));\n",
              "    } else if (typeof vegaEmbed === \"function\") {\n",
              "      displayChart(vegaEmbed);\n",
              "    } else {\n",
              "      loadScript(\"vega\")\n",
              "        .then(() => loadScript(\"vega-lite\"))\n",
              "        .then(() => loadScript(\"vega-embed\"))\n",
              "        .catch(showError)\n",
              "        .then(() => displayChart(vegaEmbed));\n",
              "    }\n",
              "  })({\"config\": {\"view\": {\"continuousHeight\": 300, \"continuousWidth\": 400}, \"range\": {\"category\": {\"scheme\": [\"#FF4500\", \"#a0aab4\", \"#4E79A7\"]}}}, \"layer\": [{\"data\": {\"name\": \"data-2d06fb9030d37f4b1c121412dcc85b03\"}, \"mark\": \"line\", \"encoding\": {\"color\": {\"type\": \"nominal\", \"field\": \"Poverty %\"}, \"x\": {\"type\": \"temporal\", \"field\": \"date\", \"title\": \"Date\"}, \"y\": {\"type\": \"quantitative\", \"field\": \"full_time_work\", \"title\": \"Full Time %\"}}, \"selection\": {\"selector002\": {\"type\": \"interval\", \"bind\": \"scales\", \"encodings\": [\"x\", \"y\"]}}, \"transform\": [{\"fold\": [\"Bottom 20 % Deviation\", \"Top 20 % Deviation\"], \"as\": [\"Poverty %\", \"full_time_work\"]}], \"width\": 1000}, {\"data\": {\"name\": \"data-7f3a6b86ed460c4e648f2393735a11f6\"}, \"mark\": {\"type\": \"rule\", \"color\": \"#757575\", \"size\": 2, \"strokeDash\": [5, 3]}, \"encoding\": {\"size\": {\"value\": 2}, \"y\": {\"type\": \"quantitative\", \"field\": \"Mean 2019\"}}}, {\"data\": {\"name\": \"data-d764767e7dd3b10b2c76c1355ce10ef3\"}, \"mark\": {\"type\": \"text\", \"angle\": 0, \"text\": \"Mean 2019\"}, \"encoding\": {\"opacity\": {\"value\": 0.4}, \"y\": {\"type\": \"quantitative\", \"field\": \"y\"}}}], \"$schema\": \"https://vega.github.io/schema/vega-lite/v4.8.1.json\", \"datasets\": {\"data-2d06fb9030d37f4b1c121412dcc85b03\": [{\"date\": \"2020-04-13T00:00:00+00:00\", \"Top 20 %\": 3.924350276125432, \"Bottom 20 %\": 4.5183714001986095, \"Top 20 % Deviation\": -1.6821981401649384, \"Bottom 20 % Deviation\": -1.0881770160917608}, {\"date\": \"2020-04-12T00:00:00+00:00\", \"Top 20 %\": 3.1489630481039246, \"Bottom 20 %\": 3.972457627118644, \"Top 20 % Deviation\": -2.4575853681864457, \"Bottom 20 % Deviation\": -1.6340907891717262}, {\"date\": \"2020-04-20T00:00:00+00:00\", \"Top 20 %\": 4.365698711712656, \"Bottom 20 %\": 4.2105263157894735, \"Top 20 % Deviation\": -1.2408497045777143, \"Bottom 20 % Deviation\": -1.3960221005008968}, {\"date\": \"2020-04-22T00:00:00+00:00\", \"Top 20 %\": 4.451746306155657, \"Bottom 20 %\": 3.412828947368421, \"Top 20 % Deviation\": -1.154802110134713, \"Bottom 20 % Deviation\": -2.1937194689219495}, {\"date\": \"2020-04-19T00:00:00+00:00\", \"Top 20 %\": 3.768772300961233, \"Bottom 20 %\": 5.008944543828265, \"Top 20 % Deviation\": -1.8377761153291372, \"Bottom 20 % Deviation\": -0.5976038724621056}, {\"date\": \"2020-04-10T00:00:00+00:00\", \"Top 20 %\": 3.415786129114082, \"Bottom 20 %\": 4.294871794871795, \"Top 20 % Deviation\": -2.1907622871762884, \"Bottom 20 % Deviation\": -1.3116766214185756}, {\"date\": \"2020-04-23T00:00:00+00:00\", \"Top 20 %\": 3.758050765385911, \"Bottom 20 %\": 3.1655844155844157, \"Top 20 % Deviation\": -1.8484976509044593, \"Bottom 20 % Deviation\": -2.4409640007059545}, {\"date\": \"2020-04-21T00:00:00+00:00\", \"Top 20 %\": 4.1035354092404255, \"Bottom 20 %\": 3.462709284627093, \"Top 20 % Deviation\": -1.5030130070499448, \"Bottom 20 % Deviation\": -2.1438391316632774}, {\"date\": \"2020-04-09T00:00:00+00:00\", \"Top 20 %\": 3.606929300416122, \"Bottom 20 %\": 3.574975173783515, \"Top 20 % Deviation\": -1.9996191158742485, \"Bottom 20 % Deviation\": -2.0315732425068553}, {\"date\": \"2020-04-17T00:00:00+00:00\", \"Top 20 %\": 4.064163325323502, \"Bottom 20 %\": 2.9433962264150946, \"Top 20 % Deviation\": -1.5423850909668682, \"Bottom 20 % Deviation\": -2.6631521898752757}, {\"date\": \"2020-04-08T00:00:00+00:00\", \"Top 20 %\": 3.796896369100222, \"Bottom 20 %\": 4.1530054644808745, \"Top 20 % Deviation\": -1.809652047190148, \"Bottom 20 % Deviation\": -1.4535429518094958}, {\"date\": \"2020-04-15T00:00:00+00:00\", \"Top 20 %\": 4.498280642626209, \"Bottom 20 %\": 4.904306220095694, \"Top 20 % Deviation\": -1.1082677736641608, \"Bottom 20 % Deviation\": -0.7022421961946765}, {\"date\": \"2020-04-03T00:00:00+00:00\", \"Top 20 %\": 4.273420892241552, \"Bottom 20 %\": 3.5990712074303404, \"Top 20 % Deviation\": -1.3331275240488178, \"Bottom 20 % Deviation\": -2.00747720886003}, {\"date\": \"2020-04-11T00:00:00+00:00\", \"Top 20 %\": 3.8201285290133558, \"Bottom 20 %\": 6.876061120543293, \"Top 20 % Deviation\": -1.7864198872770145, \"Bottom 20 % Deviation\": 1.2695127042529224}, {\"date\": \"2020-04-06T00:00:00+00:00\", \"Top 20 %\": 3.5575604127831393, \"Bottom 20 %\": 6.4176245210727965, \"Top 20 % Deviation\": -2.048988003507231, \"Bottom 20 % Deviation\": 0.8110761047824262}, {\"date\": \"2020-04-04T00:00:00+00:00\", \"Top 20 %\": 2.9543707242451296, \"Bottom 20 %\": 4.068627450980392, \"Top 20 % Deviation\": -2.6521776920452407, \"Bottom 20 % Deviation\": -1.5379209653099783}, {\"date\": \"2020-04-14T00:00:00+00:00\", \"Top 20 %\": 3.819938795405085, \"Bottom 20 %\": 3.1425891181988743, \"Top 20 % Deviation\": -1.7866096208852853, \"Bottom 20 % Deviation\": -2.463959298091496}, {\"date\": \"2020-04-18T00:00:00+00:00\", \"Top 20 %\": 3.1808992391163216, \"Bottom 20 %\": 4.060150375939849, \"Top 20 % Deviation\": -2.4256491771740487, \"Bottom 20 % Deviation\": -1.546398040350521}, {\"date\": \"2020-04-24T00:00:00+00:00\", \"Top 20 %\": 3.982253338293223, \"Bottom 20 %\": 5.363984674329502, \"Top 20 % Deviation\": -1.6242950779971475, \"Bottom 20 % Deviation\": -0.24256374196086838}, {\"date\": \"2020-04-16T00:00:00+00:00\", \"Top 20 %\": 4.3324243794771, \"Bottom 20 %\": 3.663003663003663, \"Top 20 % Deviation\": -1.2741240368132702, \"Bottom 20 % Deviation\": -1.9435447532867074}, {\"date\": \"2020-04-07T00:00:00+00:00\", \"Top 20 %\": 3.8128422576113112, \"Bottom 20 %\": 4.195402298850575, \"Top 20 % Deviation\": -1.793706158679059, \"Bottom 20 % Deviation\": -1.4111461174397952}, {\"date\": \"2020-04-05T00:00:00+00:00\", \"Top 20 %\": 3.5133504744614354, \"Bottom 20 %\": 3.306451612903226, \"Top 20 % Deviation\": -2.093197941828935, \"Bottom 20 % Deviation\": -2.3000968033871443}], \"data-7f3a6b86ed460c4e648f2393735a11f6\": [{\"Mean 2019\": 0}], \"data-d764767e7dd3b10b2c76c1355ce10ef3\": [{\"y\": 1}]}}, {\"mode\": \"vega-lite\"});\n",
              "</script>"
            ]
          },
          "metadata": {
            "tags": []
          },
          "execution_count": 56
        },
        {
          "output_type": "stream",
          "text": [
            "time: 54.6 ms (started: 2021-04-22 01:55:08 +00:00)\n"
          ],
          "name": "stdout"
        }
      ]
    },
    {
      "cell_type": "markdown",
      "metadata": {
        "id": "mxC6dH7YiWxd"
      },
      "source": [
        "\n",
        "**July 6, 2020:** \n",
        "NYC begins Phase 3 of reopening, without indoor dining\n",
        "\n",
        "\n",
        "\n"
      ]
    },
    {
      "cell_type": "code",
      "metadata": {
        "colab": {
          "base_uri": "https://localhost:8080/",
          "height": 385
        },
        "id": "KTaOPmN5fRmL",
        "outputId": "26b84e60-f628-4d30-a6ac-3a1eb2be9a3b"
      },
      "source": [
        "start_date = '2020-7-1'\n",
        "end_date = '2020-7-16'\n",
        "df3 = apply_date_filter(df,start_date,end_date)\n",
        "chart = create_chart(df3)\n",
        "chart"
      ],
      "execution_count": 57,
      "outputs": [
        {
          "output_type": "execute_result",
          "data": {
            "text/plain": [
              "alt.LayerChart(...)"
            ],
            "text/html": [
              "\n",
              "<div id=\"altair-viz-f795738dba914a2b96d3b29cf0139e6a\"></div>\n",
              "<script type=\"text/javascript\">\n",
              "  (function(spec, embedOpt){\n",
              "    let outputDiv = document.currentScript.previousElementSibling;\n",
              "    if (outputDiv.id !== \"altair-viz-f795738dba914a2b96d3b29cf0139e6a\") {\n",
              "      outputDiv = document.getElementById(\"altair-viz-f795738dba914a2b96d3b29cf0139e6a\");\n",
              "    }\n",
              "    const paths = {\n",
              "      \"vega\": \"https://cdn.jsdelivr.net/npm//vega@5?noext\",\n",
              "      \"vega-lib\": \"https://cdn.jsdelivr.net/npm//vega-lib?noext\",\n",
              "      \"vega-lite\": \"https://cdn.jsdelivr.net/npm//vega-lite@4.8.1?noext\",\n",
              "      \"vega-embed\": \"https://cdn.jsdelivr.net/npm//vega-embed@6?noext\",\n",
              "    };\n",
              "\n",
              "    function loadScript(lib) {\n",
              "      return new Promise(function(resolve, reject) {\n",
              "        var s = document.createElement('script');\n",
              "        s.src = paths[lib];\n",
              "        s.async = true;\n",
              "        s.onload = () => resolve(paths[lib]);\n",
              "        s.onerror = () => reject(`Error loading script: ${paths[lib]}`);\n",
              "        document.getElementsByTagName(\"head\")[0].appendChild(s);\n",
              "      });\n",
              "    }\n",
              "\n",
              "    function showError(err) {\n",
              "      outputDiv.innerHTML = `<div class=\"error\" style=\"color:red;\">${err}</div>`;\n",
              "      throw err;\n",
              "    }\n",
              "\n",
              "    function displayChart(vegaEmbed) {\n",
              "      vegaEmbed(outputDiv, spec, embedOpt)\n",
              "        .catch(err => showError(`Javascript Error: ${err.message}<br>This usually means there's a typo in your chart specification. See the javascript console for the full traceback.`));\n",
              "    }\n",
              "\n",
              "    if(typeof define === \"function\" && define.amd) {\n",
              "      requirejs.config({paths});\n",
              "      require([\"vega-embed\"], displayChart, err => showError(`Error loading script: ${err.message}`));\n",
              "    } else if (typeof vegaEmbed === \"function\") {\n",
              "      displayChart(vegaEmbed);\n",
              "    } else {\n",
              "      loadScript(\"vega\")\n",
              "        .then(() => loadScript(\"vega-lite\"))\n",
              "        .then(() => loadScript(\"vega-embed\"))\n",
              "        .catch(showError)\n",
              "        .then(() => displayChart(vegaEmbed));\n",
              "    }\n",
              "  })({\"config\": {\"view\": {\"continuousHeight\": 300, \"continuousWidth\": 400}, \"range\": {\"category\": {\"scheme\": [\"#FF4500\", \"#a0aab4\", \"#4E79A7\"]}}}, \"layer\": [{\"data\": {\"name\": \"data-00a4f96ffb247beefe95e4ae9f7d775e\"}, \"mark\": \"line\", \"encoding\": {\"color\": {\"type\": \"nominal\", \"field\": \"Poverty %\"}, \"x\": {\"type\": \"temporal\", \"field\": \"date\", \"title\": \"Date\"}, \"y\": {\"type\": \"quantitative\", \"field\": \"full_time_work\", \"title\": \"Full Time %\"}}, \"selection\": {\"selector003\": {\"type\": \"interval\", \"bind\": \"scales\", \"encodings\": [\"x\", \"y\"]}}, \"transform\": [{\"fold\": [\"Bottom 20 % Deviation\", \"Top 20 % Deviation\"], \"as\": [\"Poverty %\", \"full_time_work\"]}], \"width\": 1000}, {\"data\": {\"name\": \"data-7f3a6b86ed460c4e648f2393735a11f6\"}, \"mark\": {\"type\": \"rule\", \"color\": \"#757575\", \"size\": 2, \"strokeDash\": [5, 3]}, \"encoding\": {\"size\": {\"value\": 2}, \"y\": {\"type\": \"quantitative\", \"field\": \"Mean 2019\"}}}, {\"data\": {\"name\": \"data-d764767e7dd3b10b2c76c1355ce10ef3\"}, \"mark\": {\"type\": \"text\", \"angle\": 0, \"text\": \"Mean 2019\"}, \"encoding\": {\"opacity\": {\"value\": 0.4}, \"y\": {\"type\": \"quantitative\", \"field\": \"y\"}}}], \"$schema\": \"https://vega.github.io/schema/vega-lite/v4.8.1.json\", \"datasets\": {\"data-00a4f96ffb247beefe95e4ae9f7d775e\": [{\"date\": \"2020-07-12T00:00:00+00:00\", \"Top 20 %\": 3.6024581973898284, \"Bottom 20 %\": 6.575963718820861, \"Top 20 % Deviation\": -2.004090218900542, \"Bottom 20 % Deviation\": 0.969415302530491}, {\"date\": \"2020-07-03T00:00:00+00:00\", \"Top 20 %\": 4.265542509431706, \"Bottom 20 %\": 5.422647527910686, \"Top 20 % Deviation\": -1.3410059068586646, \"Bottom 20 % Deviation\": -0.183900888379684}, {\"date\": \"2020-07-14T00:00:00+00:00\", \"Top 20 %\": 4.726939559533663, \"Bottom 20 %\": 3.4649122807017543, \"Top 20 % Deviation\": -0.8796088567567075, \"Bottom 20 % Deviation\": -2.141636135588616}, {\"date\": \"2020-07-07T00:00:00+00:00\", \"Top 20 %\": 5.744675022153481, \"Bottom 20 %\": 3.451251078515962, \"Top 20 % Deviation\": 0.13812660586311054, \"Bottom 20 % Deviation\": -2.1552973377744085}, {\"date\": \"2020-07-08T00:00:00+00:00\", \"Top 20 %\": 4.596545236594864, \"Bottom 20 %\": 6.394557823129252, \"Top 20 % Deviation\": -1.0100031796955067, \"Bottom 20 % Deviation\": 0.7880094068388814}, {\"date\": \"2020-07-16T00:00:00+00:00\", \"Top 20 %\": 5.0058550924784955, \"Bottom 20 %\": 3.987068965517241, \"Top 20 % Deviation\": -0.6006933238118748, \"Bottom 20 % Deviation\": -1.6194794507731292}, {\"date\": \"2020-07-13T00:00:00+00:00\", \"Top 20 %\": 4.541224535398502, \"Bottom 20 %\": 4.125, \"Top 20 % Deviation\": -1.0653238808918681, \"Bottom 20 % Deviation\": -1.4815484162903703}, {\"date\": \"2020-07-11T00:00:00+00:00\", \"Top 20 %\": 4.138820605140336, \"Bottom 20 %\": 4.819915254237288, \"Top 20 % Deviation\": -1.4677278111500343, \"Bottom 20 % Deviation\": -0.7866331620530822}, {\"date\": \"2020-07-04T00:00:00+00:00\", \"Top 20 %\": 3.9470959189887074, \"Bottom 20 %\": 3.722426470588235, \"Top 20 % Deviation\": -1.6594524973016629, \"Bottom 20 % Deviation\": -1.8841219457021352}, {\"date\": \"2020-07-10T00:00:00+00:00\", \"Top 20 %\": 4.549033294303105, \"Bottom 20 %\": 19.181818181818183, \"Top 20 % Deviation\": -1.0575151219872652, \"Bottom 20 % Deviation\": 13.575269765527814}, {\"date\": \"2020-07-09T00:00:00+00:00\", \"Top 20 %\": 4.595612878811132, \"Bottom 20 %\": 3.2142857142857144, \"Top 20 % Deviation\": -1.010935537479238, \"Bottom 20 % Deviation\": -2.392262702004656}, {\"date\": \"2020-07-06T00:00:00+00:00\", \"Top 20 %\": 4.873859359283398, \"Bottom 20 %\": 3.6252354048964217, \"Top 20 % Deviation\": -0.7326890570069722, \"Bottom 20 % Deviation\": -1.9813130113939486}, {\"date\": \"2020-07-02T00:00:00+00:00\", \"Top 20 %\": 4.869409089581338, \"Bottom 20 %\": 13.662790697674419, \"Top 20 % Deviation\": -0.7371393267090323, \"Bottom 20 % Deviation\": 8.056242281384048}, {\"date\": \"2020-07-15T00:00:00+00:00\", \"Top 20 %\": 4.719190539957191, \"Bottom 20 %\": 3.154305200341006, \"Top 20 % Deviation\": -0.8873578763331791, \"Bottom 20 % Deviation\": -2.4522432159493643}, {\"date\": \"2020-07-05T00:00:00+00:00\", \"Top 20 %\": 3.920687626007397, \"Bottom 20 %\": 4.166666666666667, \"Top 20 % Deviation\": -1.6858607902829732, \"Bottom 20 % Deviation\": -1.4398817496237033}], \"data-7f3a6b86ed460c4e648f2393735a11f6\": [{\"Mean 2019\": 0}], \"data-d764767e7dd3b10b2c76c1355ce10ef3\": [{\"y\": 1}]}}, {\"mode\": \"vega-lite\"});\n",
              "</script>"
            ]
          },
          "metadata": {
            "tags": []
          },
          "execution_count": 57
        },
        {
          "output_type": "stream",
          "text": [
            "time: 59.3 ms (started: 2021-04-22 01:55:56 +00:00)\n"
          ],
          "name": "stdout"
        }
      ]
    },
    {
      "cell_type": "markdown",
      "metadata": {
        "id": "I1uLmyxVi6Zo"
      },
      "source": [
        "**October 28, 2020:** New York tops a half-million confirmed COVID-19 cases\n"
      ]
    },
    {
      "cell_type": "code",
      "metadata": {
        "colab": {
          "base_uri": "https://localhost:8080/",
          "height": 385
        },
        "id": "YZ29_JeZfRqz",
        "outputId": "d94e6c5f-509c-4991-e6db-aa401e008a77"
      },
      "source": [
        "start_date = '2020-10-20'\n",
        "end_date = '2020-11-8'\n",
        "df4 = apply_date_filter(df,start_date,end_date)\n",
        "chart = create_chart(df4)\n",
        "chart"
      ],
      "execution_count": 58,
      "outputs": [
        {
          "output_type": "execute_result",
          "data": {
            "text/plain": [
              "alt.LayerChart(...)"
            ],
            "text/html": [
              "\n",
              "<div id=\"altair-viz-be0b9bf786f8480f8435fddb361ee22a\"></div>\n",
              "<script type=\"text/javascript\">\n",
              "  (function(spec, embedOpt){\n",
              "    let outputDiv = document.currentScript.previousElementSibling;\n",
              "    if (outputDiv.id !== \"altair-viz-be0b9bf786f8480f8435fddb361ee22a\") {\n",
              "      outputDiv = document.getElementById(\"altair-viz-be0b9bf786f8480f8435fddb361ee22a\");\n",
              "    }\n",
              "    const paths = {\n",
              "      \"vega\": \"https://cdn.jsdelivr.net/npm//vega@5?noext\",\n",
              "      \"vega-lib\": \"https://cdn.jsdelivr.net/npm//vega-lib?noext\",\n",
              "      \"vega-lite\": \"https://cdn.jsdelivr.net/npm//vega-lite@4.8.1?noext\",\n",
              "      \"vega-embed\": \"https://cdn.jsdelivr.net/npm//vega-embed@6?noext\",\n",
              "    };\n",
              "\n",
              "    function loadScript(lib) {\n",
              "      return new Promise(function(resolve, reject) {\n",
              "        var s = document.createElement('script');\n",
              "        s.src = paths[lib];\n",
              "        s.async = true;\n",
              "        s.onload = () => resolve(paths[lib]);\n",
              "        s.onerror = () => reject(`Error loading script: ${paths[lib]}`);\n",
              "        document.getElementsByTagName(\"head\")[0].appendChild(s);\n",
              "      });\n",
              "    }\n",
              "\n",
              "    function showError(err) {\n",
              "      outputDiv.innerHTML = `<div class=\"error\" style=\"color:red;\">${err}</div>`;\n",
              "      throw err;\n",
              "    }\n",
              "\n",
              "    function displayChart(vegaEmbed) {\n",
              "      vegaEmbed(outputDiv, spec, embedOpt)\n",
              "        .catch(err => showError(`Javascript Error: ${err.message}<br>This usually means there's a typo in your chart specification. See the javascript console for the full traceback.`));\n",
              "    }\n",
              "\n",
              "    if(typeof define === \"function\" && define.amd) {\n",
              "      requirejs.config({paths});\n",
              "      require([\"vega-embed\"], displayChart, err => showError(`Error loading script: ${err.message}`));\n",
              "    } else if (typeof vegaEmbed === \"function\") {\n",
              "      displayChart(vegaEmbed);\n",
              "    } else {\n",
              "      loadScript(\"vega\")\n",
              "        .then(() => loadScript(\"vega-lite\"))\n",
              "        .then(() => loadScript(\"vega-embed\"))\n",
              "        .catch(showError)\n",
              "        .then(() => displayChart(vegaEmbed));\n",
              "    }\n",
              "  })({\"config\": {\"view\": {\"continuousHeight\": 300, \"continuousWidth\": 400}, \"range\": {\"category\": {\"scheme\": [\"#FF4500\", \"#a0aab4\", \"#4E79A7\"]}}}, \"layer\": [{\"data\": {\"name\": \"data-e33529a4156dc4ac5c592478c543456d\"}, \"mark\": \"line\", \"encoding\": {\"color\": {\"type\": \"nominal\", \"field\": \"Poverty %\"}, \"x\": {\"type\": \"temporal\", \"field\": \"date\", \"title\": \"Date\"}, \"y\": {\"type\": \"quantitative\", \"field\": \"full_time_work\", \"title\": \"Full Time %\"}}, \"selection\": {\"selector004\": {\"type\": \"interval\", \"bind\": \"scales\", \"encodings\": [\"x\", \"y\"]}}, \"transform\": [{\"fold\": [\"Bottom 20 % Deviation\", \"Top 20 % Deviation\"], \"as\": [\"Poverty %\", \"full_time_work\"]}], \"width\": 1000}, {\"data\": {\"name\": \"data-7f3a6b86ed460c4e648f2393735a11f6\"}, \"mark\": {\"type\": \"rule\", \"color\": \"#757575\", \"size\": 2, \"strokeDash\": [5, 3]}, \"encoding\": {\"size\": {\"value\": 2}, \"y\": {\"type\": \"quantitative\", \"field\": \"Mean 2019\"}}}, {\"data\": {\"name\": \"data-d764767e7dd3b10b2c76c1355ce10ef3\"}, \"mark\": {\"type\": \"text\", \"angle\": 0, \"text\": \"Mean 2019\"}, \"encoding\": {\"opacity\": {\"value\": 0.4}, \"y\": {\"type\": \"quantitative\", \"field\": \"y\"}}}], \"$schema\": \"https://vega.github.io/schema/vega-lite/v4.8.1.json\", \"datasets\": {\"data-e33529a4156dc4ac5c592478c543456d\": [{\"date\": \"2020-10-24T00:00:00+00:00\", \"Top 20 %\": 4.208550515379324, \"Bottom 20 %\": 4.63980463980464, \"Top 20 % Deviation\": -1.3979979009110464, \"Bottom 20 % Deviation\": -0.9667437764857301}, {\"date\": \"2020-10-21T00:00:00+00:00\", \"Top 20 %\": 5.6748116475325645, \"Bottom 20 %\": 3.5240464344941955, \"Top 20 % Deviation\": 0.06826323124219424, \"Bottom 20 % Deviation\": -2.0825019817961747}, {\"date\": \"2020-10-29T00:00:00+00:00\", \"Top 20 %\": 6.527873070065599, \"Bottom 20 %\": 4.455909943714822, \"Top 20 % Deviation\": 0.9213246537752289, \"Bottom 20 % Deviation\": -1.1506384725755483}, {\"date\": \"2020-11-08T00:00:00+00:00\", \"Top 20 %\": 4.461526363459142, \"Bottom 20 %\": 6.724137931034482, \"Top 20 % Deviation\": -1.1450220528312283, \"Bottom 20 % Deviation\": 1.117589514744112}, {\"date\": \"2020-11-02T00:00:00+00:00\", \"Top 20 %\": 6.143993015129589, \"Bottom 20 %\": 6.231231231231231, \"Top 20 % Deviation\": 0.5374445988392189, \"Bottom 20 % Deviation\": 0.6246828149408605}, {\"date\": \"2020-11-05T00:00:00+00:00\", \"Top 20 %\": 6.59065733135355, \"Bottom 20 %\": 4.513888888888889, \"Top 20 % Deviation\": 0.9841089150631799, \"Bottom 20 % Deviation\": -1.092659527401481}, {\"date\": \"2020-11-03T00:00:00+00:00\", \"Top 20 %\": 5.801705012293354, \"Bottom 20 %\": 4.9603174603174605, \"Top 20 % Deviation\": 0.19515659600298374, \"Bottom 20 % Deviation\": -0.6462309559729098}, {\"date\": \"2020-10-26T00:00:00+00:00\", \"Top 20 %\": 6.737294748335209, \"Bottom 20 %\": 4.352678571428571, \"Top 20 % Deviation\": 1.130746332044839, \"Bottom 20 % Deviation\": -1.253869844861799}, {\"date\": \"2020-10-27T00:00:00+00:00\", \"Top 20 %\": 6.44792292238724, \"Bottom 20 %\": 3.90625, \"Top 20 % Deviation\": 0.8413745060968694, \"Bottom 20 % Deviation\": -1.7002984162903703}, {\"date\": \"2020-10-28T00:00:00+00:00\", \"Top 20 %\": 6.374192370027972, \"Bottom 20 %\": 4.904761904761905, \"Top 20 % Deviation\": 0.7676439537376014, \"Bottom 20 % Deviation\": -0.7017865115284652}, {\"date\": \"2020-11-06T00:00:00+00:00\", \"Top 20 %\": 5.58374921728339, \"Bottom 20 %\": 4.999999999999999, \"Top 20 % Deviation\": -0.022799199006980686, \"Bottom 20 % Deviation\": -0.6065484162903712}, {\"date\": \"2020-11-07T00:00:00+00:00\", \"Top 20 %\": 4.460827713166353, \"Bottom 20 %\": 5.351906158357772, \"Top 20 % Deviation\": -1.1457207031240175, \"Bottom 20 % Deviation\": -0.2546422579325984}, {\"date\": \"2020-10-30T00:00:00+00:00\", \"Top 20 %\": 6.218009621215559, \"Bottom 20 %\": 5.873180873180873, \"Top 20 % Deviation\": 0.6114612049251891, \"Bottom 20 % Deviation\": 0.26663245689050274}, {\"date\": \"2020-11-04T00:00:00+00:00\", \"Top 20 %\": 6.554513560855678, \"Bottom 20 %\": 12.409638554216867, \"Top 20 % Deviation\": 0.9479651445653081, \"Bottom 20 % Deviation\": 6.803090137926497}, {\"date\": \"2020-10-31T00:00:00+00:00\", \"Top 20 %\": 3.90333056514392, \"Bottom 20 %\": 4.017857142857142, \"Top 20 % Deviation\": -1.7032178511464502, \"Bottom 20 % Deviation\": -1.588691273433228}, {\"date\": \"2020-10-22T00:00:00+00:00\", \"Top 20 %\": 6.142429137099521, \"Bottom 20 %\": 5.595238095238095, \"Top 20 % Deviation\": 0.5358807208091507, \"Bottom 20 % Deviation\": -0.011310321052275363}, {\"date\": \"2020-11-01T00:00:00+00:00\", \"Top 20 %\": 3.457880741689374, \"Bottom 20 %\": 4.1530054644808745, \"Top 20 % Deviation\": -2.148667674600996, \"Bottom 20 % Deviation\": -1.4535429518094958}, {\"date\": \"2020-10-23T00:00:00+00:00\", \"Top 20 %\": 6.106576670710844, \"Bottom 20 %\": 3.8392857142857144, \"Top 20 % Deviation\": 0.5000282544204735, \"Bottom 20 % Deviation\": -1.7672627020046558}, {\"date\": \"2020-10-25T00:00:00+00:00\", \"Top 20 %\": 3.70609899185212, \"Bottom 20 %\": 7.528735632183908, \"Top 20 % Deviation\": -1.9004494244382504, \"Bottom 20 % Deviation\": 1.9221872158935378}], \"data-7f3a6b86ed460c4e648f2393735a11f6\": [{\"Mean 2019\": 0}], \"data-d764767e7dd3b10b2c76c1355ce10ef3\": [{\"y\": 1}]}}, {\"mode\": \"vega-lite\"});\n",
              "</script>"
            ]
          },
          "metadata": {
            "tags": []
          },
          "execution_count": 58
        },
        {
          "output_type": "stream",
          "text": [
            "time: 58.4 ms (started: 2021-04-22 01:56:04 +00:00)\n"
          ],
          "name": "stdout"
        }
      ]
    },
    {
      "cell_type": "code",
      "metadata": {
        "id": "WuiHxms2fRtH"
      },
      "source": [
        ""
      ],
      "execution_count": 53,
      "outputs": []
    }
  ]
}