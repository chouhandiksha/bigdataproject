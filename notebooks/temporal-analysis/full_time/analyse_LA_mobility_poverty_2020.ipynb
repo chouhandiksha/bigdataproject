{
  "nbformat": 4,
  "nbformat_minor": 0,
  "metadata": {
    "colab": {
      "name": "analyse_NY_mobility_poverty_2020.ipynb",
      "provenance": [],
      "collapsed_sections": [],
      "include_colab_link": true
    },
    "kernelspec": {
      "name": "python3",
      "display_name": "Python 3"
    },
    "language_info": {
      "name": "python"
    }
  },
  "cells": [
    {
      "cell_type": "markdown",
      "metadata": {
        "id": "view-in-github",
        "colab_type": "text"
      },
      "source": [
        "<a href=\"https://colab.research.google.com/github/chouhandiksha/bigdataproject/blob/colab/notebooks/temporal-analysis/analyse_LA_mobility_poverty_time_series_full_time_2020.ipynb\" target=\"_parent\"><img src=\"https://colab.research.google.com/assets/colab-badge.svg\" alt=\"Open In Colab\"/></a>"
      ]
    },
    {
      "cell_type": "markdown",
      "metadata": {
        "id": "6Vnc5foT5YFx"
      },
      "source": [
        "**Spark SQL Documentation:** \n",
        "https://spark.apache.org/docs/2.2.0/sql-programming-guide.html"
      ]
    },
    {
      "cell_type": "code",
      "metadata": {
        "id": "XXJ-cpgT3moz",
        "colab": {
          "base_uri": "https://localhost:8080/"
        },
        "outputId": "f5a7f4fa-112c-40f8-8dd8-e3630f0e01dd"
      },
      "source": [
        "# add time information at the end of every cell\n",
        "!pip install ipython-autotime\n",
        "%load_ext autotime"
      ],
      "execution_count": 1,
      "outputs": [
        {
          "output_type": "stream",
          "text": [
            "Collecting ipython-autotime\n",
            "  Downloading https://files.pythonhosted.org/packages/b4/c9/b413a24f759641bc27ef98c144b590023c8038dfb8a3f09e713e9dff12c1/ipython_autotime-0.3.1-py2.py3-none-any.whl\n",
            "Requirement already satisfied: ipython in /usr/local/lib/python3.7/dist-packages (from ipython-autotime) (5.5.0)\n",
            "Requirement already satisfied: pickleshare in /usr/local/lib/python3.7/dist-packages (from ipython->ipython-autotime) (0.7.5)\n",
            "Requirement already satisfied: traitlets>=4.2 in /usr/local/lib/python3.7/dist-packages (from ipython->ipython-autotime) (5.0.5)\n",
            "Requirement already satisfied: prompt-toolkit<2.0.0,>=1.0.4 in /usr/local/lib/python3.7/dist-packages (from ipython->ipython-autotime) (1.0.18)\n",
            "Requirement already satisfied: pygments in /usr/local/lib/python3.7/dist-packages (from ipython->ipython-autotime) (2.6.1)\n",
            "Requirement already satisfied: decorator in /usr/local/lib/python3.7/dist-packages (from ipython->ipython-autotime) (4.4.2)\n",
            "Requirement already satisfied: pexpect; sys_platform != \"win32\" in /usr/local/lib/python3.7/dist-packages (from ipython->ipython-autotime) (4.8.0)\n",
            "Requirement already satisfied: simplegeneric>0.8 in /usr/local/lib/python3.7/dist-packages (from ipython->ipython-autotime) (0.8.1)\n",
            "Requirement already satisfied: setuptools>=18.5 in /usr/local/lib/python3.7/dist-packages (from ipython->ipython-autotime) (54.2.0)\n",
            "Requirement already satisfied: ipython-genutils in /usr/local/lib/python3.7/dist-packages (from traitlets>=4.2->ipython->ipython-autotime) (0.2.0)\n",
            "Requirement already satisfied: six>=1.9.0 in /usr/local/lib/python3.7/dist-packages (from prompt-toolkit<2.0.0,>=1.0.4->ipython->ipython-autotime) (1.15.0)\n",
            "Requirement already satisfied: wcwidth in /usr/local/lib/python3.7/dist-packages (from prompt-toolkit<2.0.0,>=1.0.4->ipython->ipython-autotime) (0.2.5)\n",
            "Requirement already satisfied: ptyprocess>=0.5 in /usr/local/lib/python3.7/dist-packages (from pexpect; sys_platform != \"win32\"->ipython->ipython-autotime) (0.7.0)\n",
            "Installing collected packages: ipython-autotime\n",
            "Successfully installed ipython-autotime-0.3.1\n",
            "time: 3.83 ms (started: 2021-04-16 01:36:51 +00:00)\n"
          ],
          "name": "stdout"
        }
      ]
    },
    {
      "cell_type": "code",
      "metadata": {
        "colab": {
          "base_uri": "https://localhost:8080/"
        },
        "id": "DggpqrsrscGi",
        "outputId": "10d033ef-10ad-4649-a2e5-986f386733ab"
      },
      "source": [
        "# Install required dependancies\n",
        "!pip install pyspark\n",
        "!apt install openjdk-8-jdk-headless -qq\n",
        "import os\n",
        "os.environ[\"JAVA_HOME\"] = \"/usr/lib/jvm/java-8-openjdk-amd64\""
      ],
      "execution_count": 2,
      "outputs": [
        {
          "output_type": "stream",
          "text": [
            "Collecting pyspark\n",
            "\u001b[?25l  Downloading https://files.pythonhosted.org/packages/45/b0/9d6860891ab14a39d4bddf80ba26ce51c2f9dc4805e5c6978ac0472c120a/pyspark-3.1.1.tar.gz (212.3MB)\n",
            "\u001b[K     |████████████████████████████████| 212.3MB 71kB/s \n",
            "\u001b[?25hCollecting py4j==0.10.9\n",
            "\u001b[?25l  Downloading https://files.pythonhosted.org/packages/9e/b6/6a4fb90cd235dc8e265a6a2067f2a2c99f0d91787f06aca4bcf7c23f3f80/py4j-0.10.9-py2.py3-none-any.whl (198kB)\n",
            "\u001b[K     |████████████████████████████████| 204kB 49.2MB/s \n",
            "\u001b[?25hBuilding wheels for collected packages: pyspark\n",
            "  Building wheel for pyspark (setup.py) ... \u001b[?25l\u001b[?25hdone\n",
            "  Created wheel for pyspark: filename=pyspark-3.1.1-py2.py3-none-any.whl size=212767604 sha256=72e526f7f7854b56e838caf092c7a1e8afe39b6d54a053a1069f6cb81aa72289\n",
            "  Stored in directory: /root/.cache/pip/wheels/0b/90/c0/01de724414ef122bd05f056541fb6a0ecf47c7ca655f8b3c0f\n",
            "Successfully built pyspark\n",
            "Installing collected packages: py4j, pyspark\n",
            "Successfully installed py4j-0.10.9 pyspark-3.1.1\n",
            "The following additional packages will be installed:\n",
            "  openjdk-8-jre-headless\n",
            "Suggested packages:\n",
            "  openjdk-8-demo openjdk-8-source libnss-mdns fonts-dejavu-extra\n",
            "  fonts-ipafont-gothic fonts-ipafont-mincho fonts-wqy-microhei\n",
            "  fonts-wqy-zenhei fonts-indic\n",
            "The following NEW packages will be installed:\n",
            "  openjdk-8-jdk-headless openjdk-8-jre-headless\n",
            "0 upgraded, 2 newly installed, 0 to remove and 31 not upgraded.\n",
            "Need to get 36.5 MB of archives.\n",
            "After this operation, 143 MB of additional disk space will be used.\n",
            "Selecting previously unselected package openjdk-8-jre-headless:amd64.\n",
            "(Reading database ... 160983 files and directories currently installed.)\n",
            "Preparing to unpack .../openjdk-8-jre-headless_8u282-b08-0ubuntu1~18.04_amd64.deb ...\n",
            "Unpacking openjdk-8-jre-headless:amd64 (8u282-b08-0ubuntu1~18.04) ...\n",
            "Selecting previously unselected package openjdk-8-jdk-headless:amd64.\n",
            "Preparing to unpack .../openjdk-8-jdk-headless_8u282-b08-0ubuntu1~18.04_amd64.deb ...\n",
            "Unpacking openjdk-8-jdk-headless:amd64 (8u282-b08-0ubuntu1~18.04) ...\n",
            "Setting up openjdk-8-jre-headless:amd64 (8u282-b08-0ubuntu1~18.04) ...\n",
            "update-alternatives: using /usr/lib/jvm/java-8-openjdk-amd64/jre/bin/orbd to provide /usr/bin/orbd (orbd) in auto mode\n",
            "update-alternatives: using /usr/lib/jvm/java-8-openjdk-amd64/jre/bin/servertool to provide /usr/bin/servertool (servertool) in auto mode\n",
            "update-alternatives: using /usr/lib/jvm/java-8-openjdk-amd64/jre/bin/tnameserv to provide /usr/bin/tnameserv (tnameserv) in auto mode\n",
            "Setting up openjdk-8-jdk-headless:amd64 (8u282-b08-0ubuntu1~18.04) ...\n",
            "update-alternatives: using /usr/lib/jvm/java-8-openjdk-amd64/bin/idlj to provide /usr/bin/idlj (idlj) in auto mode\n",
            "update-alternatives: using /usr/lib/jvm/java-8-openjdk-amd64/bin/wsimport to provide /usr/bin/wsimport (wsimport) in auto mode\n",
            "update-alternatives: using /usr/lib/jvm/java-8-openjdk-amd64/bin/jsadebugd to provide /usr/bin/jsadebugd (jsadebugd) in auto mode\n",
            "update-alternatives: using /usr/lib/jvm/java-8-openjdk-amd64/bin/native2ascii to provide /usr/bin/native2ascii (native2ascii) in auto mode\n",
            "update-alternatives: using /usr/lib/jvm/java-8-openjdk-amd64/bin/javah to provide /usr/bin/javah (javah) in auto mode\n",
            "update-alternatives: using /usr/lib/jvm/java-8-openjdk-amd64/bin/hsdb to provide /usr/bin/hsdb (hsdb) in auto mode\n",
            "update-alternatives: using /usr/lib/jvm/java-8-openjdk-amd64/bin/clhsdb to provide /usr/bin/clhsdb (clhsdb) in auto mode\n",
            "update-alternatives: using /usr/lib/jvm/java-8-openjdk-amd64/bin/xjc to provide /usr/bin/xjc (xjc) in auto mode\n",
            "update-alternatives: using /usr/lib/jvm/java-8-openjdk-amd64/bin/schemagen to provide /usr/bin/schemagen (schemagen) in auto mode\n",
            "update-alternatives: using /usr/lib/jvm/java-8-openjdk-amd64/bin/extcheck to provide /usr/bin/extcheck (extcheck) in auto mode\n",
            "update-alternatives: using /usr/lib/jvm/java-8-openjdk-amd64/bin/jhat to provide /usr/bin/jhat (jhat) in auto mode\n",
            "update-alternatives: using /usr/lib/jvm/java-8-openjdk-amd64/bin/wsgen to provide /usr/bin/wsgen (wsgen) in auto mode\n",
            "time: 53.1 s (started: 2021-04-16 01:36:51 +00:00)\n"
          ],
          "name": "stdout"
        }
      ]
    },
    {
      "cell_type": "code",
      "metadata": {
        "id": "ppkG73kRsei0",
        "colab": {
          "base_uri": "https://localhost:8080/"
        },
        "outputId": "cdfbb829-68de-413f-82a5-3fe91a4a32ee"
      },
      "source": [
        "# Import modules\n",
        "import numpy as np\n",
        "import pandas as pd\n",
        "import matplotlib.pyplot as plt\n",
        "from pathlib import Path\n",
        "%matplotlib inline\n",
        "\n",
        "import pyspark\n",
        "from pyspark.sql import *\n",
        "from pyspark.sql.types import *\n",
        "from pyspark.sql.functions import *\n",
        "from pyspark import SparkContext, SparkConf"
      ],
      "execution_count": 3,
      "outputs": [
        {
          "output_type": "stream",
          "text": [
            "time: 89.7 ms (started: 2021-04-16 01:37:44 +00:00)\n"
          ],
          "name": "stdout"
        }
      ]
    },
    {
      "cell_type": "code",
      "metadata": {
        "colab": {
          "base_uri": "https://localhost:8080/"
        },
        "id": "pYm9-j_fflal",
        "outputId": "3cb787e0-08fa-48b6-ca47-2a0f2c216a58"
      },
      "source": [
        "import altair as alt\n",
        "alt.data_transformers.disable_max_rows()"
      ],
      "execution_count": 4,
      "outputs": [
        {
          "output_type": "execute_result",
          "data": {
            "text/plain": [
              "DataTransformerRegistry.enable('default')"
            ]
          },
          "metadata": {
            "tags": []
          },
          "execution_count": 4
        },
        {
          "output_type": "stream",
          "text": [
            "time: 283 ms (started: 2021-04-16 01:37:44 +00:00)\n"
          ],
          "name": "stdout"
        }
      ]
    },
    {
      "cell_type": "code",
      "metadata": {
        "id": "1oe1ksN5skMG",
        "colab": {
          "base_uri": "https://localhost:8080/"
        },
        "outputId": "53c86957-b866-4bcd-cbf0-8e8d66e1295a"
      },
      "source": [
        "# create the session\n",
        "conf = SparkConf().set(\"spark.ui.port\", \"4050\")\n",
        "\n",
        "# create the context\n",
        "sc = pyspark.SparkContext(conf=conf)\n",
        "spark = SparkSession.builder.getOrCreate()"
      ],
      "execution_count": 5,
      "outputs": [
        {
          "output_type": "stream",
          "text": [
            "time: 5.08 s (started: 2021-04-16 01:37:44 +00:00)\n"
          ],
          "name": "stdout"
        }
      ]
    },
    {
      "cell_type": "code",
      "metadata": {
        "id": "zdPF-0xIrDm9",
        "colab": {
          "base_uri": "https://localhost:8080/"
        },
        "outputId": "3b82f28e-3d5e-4e60-f5a3-aaada776cc7d"
      },
      "source": [
        "#sc.stop()"
      ],
      "execution_count": 6,
      "outputs": [
        {
          "output_type": "stream",
          "text": [
            "time: 1.33 ms (started: 2021-04-16 01:37:49 +00:00)\n"
          ],
          "name": "stdout"
        }
      ]
    },
    {
      "cell_type": "code",
      "metadata": {
        "colab": {
          "base_uri": "https://localhost:8080/"
        },
        "id": "WGXwI2d1szaO",
        "outputId": "7479572a-eba3-4634-c13e-85c54fe6a7b3"
      },
      "source": [
        "# Mount drive with data\n",
        "from google.colab import drive\n",
        "drive.mount('/content/drive')"
      ],
      "execution_count": 7,
      "outputs": [
        {
          "output_type": "stream",
          "text": [
            "Mounted at /content/drive\n",
            "time: 2min 6s (started: 2021-04-16 01:37:49 +00:00)\n"
          ],
          "name": "stdout"
        }
      ]
    },
    {
      "cell_type": "code",
      "metadata": {
        "id": "grN2uNcFvloa",
        "colab": {
          "base_uri": "https://localhost:8080/"
        },
        "outputId": "08b6da16-613f-4fdd-e739-19a6d59f740b"
      },
      "source": [
        "# Set path to data folder\n",
        "path = Path('drive/MyDrive/big-data-project/data/clean-data')\n",
        "city = 'la'"
      ],
      "execution_count": 8,
      "outputs": [
        {
          "output_type": "stream",
          "text": [
            "time: 2.06 ms (started: 2021-04-16 01:39:55 +00:00)\n"
          ],
          "name": "stdout"
        }
      ]
    },
    {
      "cell_type": "code",
      "metadata": {
        "colab": {
          "base_uri": "https://localhost:8080/"
        },
        "id": "BvCrFmU2tGXY",
        "outputId": "3ce31264-04da-434a-c061-8833e970b26b"
      },
      "source": [
        "# Read data into dataframe\n",
        "df_soc = spark.read.format('csv').option('header','true').option('quote',\"\\\"\").option('escape',\"\\\"\").load(str(path/city/'social/2020/*.csv'))\n",
        "df_soc.show()"
      ],
      "execution_count": 9,
      "outputs": [
        {
          "output_type": "stream",
          "text": [
            "+---+------------+--------------------+--------------------+------------+---------------------------+--------------------------+------------------------------------------+----------------------------+----------------------+------------------------+--------------------+-------------------------------+-------------------------------+--------------------+-------------------------+--------------------------+----------------------+----------------------------+---------------------------+-----------------------------+\n",
            "|_c0|         cbg|    date_range_start|      date_range_end|device_count|distance_traveled_from_home|bucketed_distance_traveled|median_dwell_at_bucketed_distance_traveled|completely_home_device_count|median_home_dwell_time|bucketed_home_dwell_time|at_home_by_each_hour|part_time_work_behavior_devices|full_time_work_behavior_devices|    destination_cbgs|delivery_behavior_devices|median_non_home_dwell_time|candidate_device_count|bucketed_away_from_home_time|median_percentage_time_home|bucketed_percentage_time_home|\n",
            "+---+------------+--------------------+--------------------+------------+---------------------------+--------------------------+------------------------------------------+----------------------------+----------------------+------------------------+--------------------+-------------------------------+-------------------------------+--------------------+-------------------------+--------------------------+----------------------+----------------------------+---------------------------+-----------------------------+\n",
            "|  0|060371831013|2020-02-07T00:00:...|2020-02-08T00:00:...|          45|                       5769|      {\"16001-50000\":4,...|                      {\"16001-50000\":29...|                           6|                   558|    {\"721-1080\":9,\"36...|[24,23,24,23,21,2...|                              1|                              1|{\"060374309012\":1...|                        1|                       112|                    89|        {\"481-540\":1,\"541...|                         64|         {\"26-50\":4,\"51-75...|\n",
            "|  1|060374034022|2020-02-07T00:00:...|2020-02-08T00:00:...|         155|                       5438|      {\"16001-50000\":32...|                      {\"16001-50000\":99...|                          24|                     0|    {\"721-1080\":16,\"3...|[42,41,38,40,40,4...|                             12|                              4|{\"060374034041\":3...|                        1|                       133|                   536|        {\"21-45\":16,\"481-...|                          0|         {\"26-50\":4,\"51-75...|\n",
            "|  2|060375326041|2020-02-07T00:00:...|2020-02-08T00:00:...|          31|                       6670|      {\"16001-50000\":2,...|                      {\"16001-50000\":22...|                           4|                   693|    {\"721-1080\":7,\"36...|[23,20,25,20,20,2...|                              6|                              2|{\"060379800311\":1...|                        5|                       268|                    71|        {\"21-45\":1,\"481-5...|                         66|         {\"0-25\":6,\"76-100...|\n",
            "|  3|060375544031|2020-02-07T00:00:...|2020-02-08T00:00:...|         130|                       7054|      {\"16001-50000\":16...|                      {\"16001-50000\":71...|                          27|                   630|    {\"721-1080\":25,\"3...|[79,77,79,74,76,7...|                             16|                             10|{\"060376700012\":1...|                        5|                       187|                   295|        {\"21-45\":2,\"481-5...|                         69|         {\"26-50\":6,\"51-75...|\n",
            "|  4|060375718003|2020-02-07T00:00:...|2020-02-08T00:00:...|          35|                       4900|      {\"16001-50000\":3,...|                      {\"16001-50000\":12...|                          10|                   684|    {\"721-1080\":5,\"36...|[20,19,17,18,23,1...|                              4|                              1|{\"060376210011\":1...|                        1|                       217|                    52|        {\"21-45\":1,\"481-5...|                         75|         {\"0-25\":3,\"76-100...|\n",
            "|  5|060590018024|2020-02-07T00:00:...|2020-02-08T00:00:...|          38|                       4466|      {\"16001-50000\":3,...|                      {\"16001-50000\":14...|                          13|                   550|    {\"721-1080\":9,\"36...|[27,26,27,28,26,2...|                              7|                              4|{\"060590740051\":1...|                        4|                       258|                    94|        {\"481-540\":2,\"541...|                         61|         {\"0-25\":4,\"76-100...|\n",
            "|  6|060590320463|2020-02-07T00:00:...|2020-02-08T00:00:...|         184|                       8950|      {\"16001-50000\":31...|                      {\"16001-50000\":90...|                          24|                   757|    {\"721-1080\":62,\"3...|[130,131,129,130,...|                             38|                             12|{\"060374084023\":1...|                       13|                       281|                   239|        {\"21-45\":6,\"481-5...|                         71|         {\"26-50\":17,\"51-7...|\n",
            "|  7|060590626281|2020-02-07T00:00:...|2020-02-08T00:00:...|         108|                       7471|      {\"16001-50000\":3,...|                      {\"16001-50000\":28...|                          32|                   107|    {\"721-1080\":8,\"36...|[45,39,39,41,40,4...|                              9|                              1|{\"040131141001\":1...|                        1|                        49|                   424|        {\"21-45\":10,\"481-...|                         77|         {\"0-25\":40,\"76-10...|\n",
            "|  8|060371374011|2020-02-07T00:00:...|2020-02-08T00:00:...|          72|                       3404|      {\"16001-50000\":1,...|                      {\"16001-50000\":18...|                          30|                   498|    {\"721-1080\":12,\"3...|[42,39,40,41,39,3...|                              3|                              1|{\"060371374022\":1...|                        1|                        26|                   194|        {\"21-45\":5,\"481-5...|                         90|         {\"26-50\":1,\"51-75...|\n",
            "|  9|060372398012|2020-02-07T00:00:...|2020-02-08T00:00:...|          41|                       7322|      {\"16001-50000\":4,...|                      {\"16001-50000\":96...|                          15|                   662|    {\"721-1080\":4,\"36...|[24,26,25,27,26,2...|                              1|                              4|{\"060372286001\":2...|                        1|                       102|                   132|        {\"21-45\":1,\"481-5...|                         85|         {\"0-25\":10,\"76-10...|\n",
            "| 10|060373009011|2020-02-07T00:00:...|2020-02-08T00:00:...|          82|                       7465|      {\"16001-50000\":6,...|                      {\"16001-50000\":39...|                          20|                   820|    {\"721-1080\":28,\"3...|[66,61,62,63,63,6...|                             16|                              6|{\"060374309012\":1...|                        2|                       191|                   134|        {\"21-45\":3,\"481-5...|                         74|         {\"26-50\":1,\"51-75...|\n",
            "| 11|060375418021|2020-02-07T00:00:...|2020-02-08T00:00:...|          49|                       6274|      {\"16001-50000\":2,...|                      {\"16001-50000\":44...|                          12|                   635|    {\"721-1080\":11,\"3...|[27,27,27,26,27,3...|                              3|                              4|{\"060375514021\":1...|                        3|                       222|                   125|        {\"21-45\":3,\"481-5...|                         75|         {\"26-50\":5,\"51-75...|\n",
            "| 12|060375431003|2020-02-07T00:00:...|2020-02-08T00:00:...|          37|                       7095|      {\"16001-50000\":2,...|                      {\"16001-50000\":36...|                           5|                   686|    {\"721-1080\":9,\"36...|[21,25,23,23,21,2...|                              1|                              2|{\"060372151011\":1...|                        3|                       211|                    88|        {\"21-45\":2,\"481-5...|                         67|         {\"0-25\":10,\"76-10...|\n",
            "| 13|060376012021|2020-02-07T00:00:...|2020-02-08T00:00:...|          56|                       3709|      {\"16001-50000\":3,...|                      {\"16001-50000\":82...|                          14|                   749|    {\"721-1080\":15,\"3...|[37,35,38,36,32,3...|                              1|                              4|{\"060371046201\":1...|                        1|                       147|                   129|        {\"21-45\":1,\"481-5...|                         80|         {\"26-50\":6,\"51-75...|\n",
            "| 14|060379800211|2020-02-07T00:00:...|2020-02-08T00:00:...|          50|                       9433|      {\"16001-50000\":6,...|                      {\"16001-50000\":50...|                           3|                     0|    {\">1080\":1,\"<60\":...|[1,4,3,2,2,1,2,2,...|                              3|                              1|{\"060371012202\":1...|                        1|                       117|                   186|        {\"21-45\":7,\"481-5...|                          0|         {\"0-25\":41,\"76-10...|\n",
            "| 15|060590871034|2020-02-07T00:00:...|2020-02-08T00:00:...|          88|                       2583|      {\"16001-50000\":5,...|                      {\"16001-50000\":81...|                          30|                   687|    {\"721-1080\":12,\"3...|[55,54,57,56,53,5...|                              7|                              8|{\"060375552121\":1...|                        3|                       123|                   202|        {\"21-45\":1,\"481-5...|                         80|         {\"26-50\":10,\"51-7...|\n",
            "| 16|060372713005|2020-02-07T00:00:...|2020-02-08T00:00:...|          30|                       4601|      {\"16001-50000\":5,...|                      {\"16001-50000\":32...|                           3|                   734|    {\"721-1080\":7,\"36...|[20,18,23,18,18,1...|                              2|                              2|{\"060070006041\":1...|                        1|                       297|                    61|        {\"21-45\":4,\"481-5...|                         70|         {\"0-25\":9,\"76-100...|\n",
            "| 17|060372766041|2020-02-07T00:00:...|2020-02-08T00:00:...|         137|                       4947|      {\"16001-50000\":16...|                      {\"16001-50000\":80...|                          24|                   662|    {\"721-1080\":37,\"3...|[83,84,87,81,85,8...|                             20|                              8|{\"060375439031\":2...|                        4|                       223|                   246|        {\"21-45\":6,\"481-5...|                         70|         {\"0-25\":18,\"76-10...|\n",
            "| 18|060374334012|2020-02-07T00:00:...|2020-02-08T00:00:...|          35|                       5940|      {\"16001-50000\":7,...|                      {\"16001-50000\":10...|                           6|                   722|    {\"721-1080\":9,\"36...|[21,21,19,19,24,1...|                              6|                              2|{\"060374334012\":2...|                        1|                       338|                    77|        {\"21-45\":1,\"481-5...|                         67|         {\"26-50\":3,\"51-75...|\n",
            "| 19|060375017003|2020-02-07T00:00:...|2020-02-08T00:00:...|          38|                       3849|      {\"16001-50000\":5,...|                      {\"16001-50000\":22...|                           6|                   710|    {\"721-1080\":13,\"3...|[27,26,27,30,28,2...|                              4|                              1|{\"060374086253\":1...|                        1|                       315|                    95|        {\"21-45\":1,\"481-5...|                         73|         {\"0-25\":4,\"76-100...|\n",
            "+---+------------+--------------------+--------------------+------------+---------------------------+--------------------------+------------------------------------------+----------------------------+----------------------+------------------------+--------------------+-------------------------------+-------------------------------+--------------------+-------------------------+--------------------------+----------------------+----------------------------+---------------------------+-----------------------------+\n",
            "only showing top 20 rows\n",
            "\n",
            "time: 29.8 s (started: 2021-04-16 01:39:55 +00:00)\n"
          ],
          "name": "stdout"
        }
      ]
    },
    {
      "cell_type": "code",
      "metadata": {
        "colab": {
          "base_uri": "https://localhost:8080/"
        },
        "id": "9fgHRKKEz-cA",
        "outputId": "54281024-eae5-43ff-b661-ba872aa0f9e3"
      },
      "source": [
        "# View schema\n",
        "df_soc.printSchema()"
      ],
      "execution_count": 10,
      "outputs": [
        {
          "output_type": "stream",
          "text": [
            "root\n",
            " |-- _c0: string (nullable = true)\n",
            " |-- cbg: string (nullable = true)\n",
            " |-- date_range_start: string (nullable = true)\n",
            " |-- date_range_end: string (nullable = true)\n",
            " |-- device_count: string (nullable = true)\n",
            " |-- distance_traveled_from_home: string (nullable = true)\n",
            " |-- bucketed_distance_traveled: string (nullable = true)\n",
            " |-- median_dwell_at_bucketed_distance_traveled: string (nullable = true)\n",
            " |-- completely_home_device_count: string (nullable = true)\n",
            " |-- median_home_dwell_time: string (nullable = true)\n",
            " |-- bucketed_home_dwell_time: string (nullable = true)\n",
            " |-- at_home_by_each_hour: string (nullable = true)\n",
            " |-- part_time_work_behavior_devices: string (nullable = true)\n",
            " |-- full_time_work_behavior_devices: string (nullable = true)\n",
            " |-- destination_cbgs: string (nullable = true)\n",
            " |-- delivery_behavior_devices: string (nullable = true)\n",
            " |-- median_non_home_dwell_time: string (nullable = true)\n",
            " |-- candidate_device_count: string (nullable = true)\n",
            " |-- bucketed_away_from_home_time: string (nullable = true)\n",
            " |-- median_percentage_time_home: string (nullable = true)\n",
            " |-- bucketed_percentage_time_home: string (nullable = true)\n",
            "\n",
            "time: 43 ms (started: 2021-04-16 01:40:25 +00:00)\n"
          ],
          "name": "stdout"
        }
      ]
    },
    {
      "cell_type": "code",
      "metadata": {
        "id": "AlbhBqMUxjVa",
        "colab": {
          "base_uri": "https://localhost:8080/"
        },
        "outputId": "e14bbb00-2499-4aa0-a7e7-98811b56f6f8"
      },
      "source": [
        "# # Take small sample of data to experiment with\n",
        "# df_soc = df_soc.limit(100)\n",
        "# df_soc.show()"
      ],
      "execution_count": 11,
      "outputs": [
        {
          "output_type": "stream",
          "text": [
            "time: 1.08 ms (started: 2021-04-16 01:40:25 +00:00)\n"
          ],
          "name": "stdout"
        }
      ]
    },
    {
      "cell_type": "code",
      "metadata": {
        "colab": {
          "base_uri": "https://localhost:8080/"
        },
        "id": "wh747sqcHi4-",
        "outputId": "0c25e46a-a7c6-4caf-845a-c33153d91fcb"
      },
      "source": [
        "df_soc.createOrReplaceTempView('clean_la')\n",
        "df_soc = spark.sql('SELECT cbg, date_range_start as date, device_count, completely_home_device_count, part_time_work_behavior_devices, full_time_work_behavior_devices FROM clean_la WHERE device_count > 5')\n",
        "df_soc.show()"
      ],
      "execution_count": 12,
      "outputs": [
        {
          "output_type": "stream",
          "text": [
            "+------------+--------------------+------------+----------------------------+-------------------------------+-------------------------------+\n",
            "|         cbg|                date|device_count|completely_home_device_count|part_time_work_behavior_devices|full_time_work_behavior_devices|\n",
            "+------------+--------------------+------------+----------------------------+-------------------------------+-------------------------------+\n",
            "|060371831013|2020-02-07T00:00:...|          45|                           6|                              1|                              1|\n",
            "|060374034022|2020-02-07T00:00:...|         155|                          24|                             12|                              4|\n",
            "|060375326041|2020-02-07T00:00:...|          31|                           4|                              6|                              2|\n",
            "|060375544031|2020-02-07T00:00:...|         130|                          27|                             16|                             10|\n",
            "|060375718003|2020-02-07T00:00:...|          35|                          10|                              4|                              1|\n",
            "|060590018024|2020-02-07T00:00:...|          38|                          13|                              7|                              4|\n",
            "|060590320463|2020-02-07T00:00:...|         184|                          24|                             38|                             12|\n",
            "|060590626281|2020-02-07T00:00:...|         108|                          32|                              9|                              1|\n",
            "|060371374011|2020-02-07T00:00:...|          72|                          30|                              3|                              1|\n",
            "|060372398012|2020-02-07T00:00:...|          41|                          15|                              1|                              4|\n",
            "|060373009011|2020-02-07T00:00:...|          82|                          20|                             16|                              6|\n",
            "|060375418021|2020-02-07T00:00:...|          49|                          12|                              3|                              4|\n",
            "|060375431003|2020-02-07T00:00:...|          37|                           5|                              1|                              2|\n",
            "|060376012021|2020-02-07T00:00:...|          56|                          14|                              1|                              4|\n",
            "|060379800211|2020-02-07T00:00:...|          50|                           3|                              3|                              1|\n",
            "|060590871034|2020-02-07T00:00:...|          88|                          30|                              7|                              8|\n",
            "|060372713005|2020-02-07T00:00:...|          30|                           3|                              2|                              2|\n",
            "|060372766041|2020-02-07T00:00:...|         137|                          24|                             20|                              8|\n",
            "|060374334012|2020-02-07T00:00:...|          35|                           6|                              6|                              2|\n",
            "|060375017003|2020-02-07T00:00:...|          38|                           6|                              4|                              1|\n",
            "+------------+--------------------+------------+----------------------------+-------------------------------+-------------------------------+\n",
            "only showing top 20 rows\n",
            "\n",
            "time: 941 ms (started: 2021-04-16 01:40:25 +00:00)\n"
          ],
          "name": "stdout"
        }
      ]
    },
    {
      "cell_type": "code",
      "metadata": {
        "colab": {
          "base_uri": "https://localhost:8080/"
        },
        "id": "AsEegEtNyYZr",
        "outputId": "05b189f0-aeee-4cb8-97ed-c3a45af11e5c"
      },
      "source": [
        "# View schema\n",
        "df_soc.printSchema()"
      ],
      "execution_count": 13,
      "outputs": [
        {
          "output_type": "stream",
          "text": [
            "root\n",
            " |-- cbg: string (nullable = true)\n",
            " |-- date: string (nullable = true)\n",
            " |-- device_count: string (nullable = true)\n",
            " |-- completely_home_device_count: string (nullable = true)\n",
            " |-- part_time_work_behavior_devices: string (nullable = true)\n",
            " |-- full_time_work_behavior_devices: string (nullable = true)\n",
            "\n",
            "time: 10.9 ms (started: 2021-04-16 01:40:26 +00:00)\n"
          ],
          "name": "stdout"
        }
      ]
    },
    {
      "cell_type": "code",
      "metadata": {
        "colab": {
          "base_uri": "https://localhost:8080/"
        },
        "id": "UL4qIhZu7JKC",
        "outputId": "229bddaf-8848-418c-99bc-a07d79a1a6c4"
      },
      "source": [
        "# Add completely home percentage column\n",
        "df_soc = df_soc.withColumn('completely_home_percentage', (df_soc['completely_home_device_count']/df_soc['device_count']) * 100)\n",
        "df_soc = df_soc.withColumn('part_time_work_percentage', (df_soc['part_time_work_behavior_devices']/df_soc['device_count']) * 100)\n",
        "df_soc = df_soc.withColumn('full_time_work_percentage', (df_soc['full_time_work_behavior_devices']/df_soc['device_count']) * 100)\n",
        "\n",
        "df_soc.show()"
      ],
      "execution_count": 14,
      "outputs": [
        {
          "output_type": "stream",
          "text": [
            "+------------+--------------------+------------+----------------------------+-------------------------------+-------------------------------+--------------------------+-------------------------+-------------------------+\n",
            "|         cbg|                date|device_count|completely_home_device_count|part_time_work_behavior_devices|full_time_work_behavior_devices|completely_home_percentage|part_time_work_percentage|full_time_work_percentage|\n",
            "+------------+--------------------+------------+----------------------------+-------------------------------+-------------------------------+--------------------------+-------------------------+-------------------------+\n",
            "|060371831013|2020-02-07T00:00:...|          45|                           6|                              1|                              1|        13.333333333333334|       2.2222222222222223|       2.2222222222222223|\n",
            "|060374034022|2020-02-07T00:00:...|         155|                          24|                             12|                              4|        15.483870967741936|        7.741935483870968|       2.5806451612903225|\n",
            "|060375326041|2020-02-07T00:00:...|          31|                           4|                              6|                              2|        12.903225806451612|        19.35483870967742|        6.451612903225806|\n",
            "|060375544031|2020-02-07T00:00:...|         130|                          27|                             16|                             10|         20.76923076923077|       12.307692307692308|       7.6923076923076925|\n",
            "|060375718003|2020-02-07T00:00:...|          35|                          10|                              4|                              1|         28.57142857142857|       11.428571428571429|        2.857142857142857|\n",
            "|060590018024|2020-02-07T00:00:...|          38|                          13|                              7|                              4|         34.21052631578947|       18.421052631578945|       10.526315789473683|\n",
            "|060590320463|2020-02-07T00:00:...|         184|                          24|                             38|                             12|        13.043478260869565|       20.652173913043477|        6.521739130434782|\n",
            "|060590626281|2020-02-07T00:00:...|         108|                          32|                              9|                              1|        29.629629629629626|        8.333333333333332|       0.9259259259259258|\n",
            "|060371374011|2020-02-07T00:00:...|          72|                          30|                              3|                              1|         41.66666666666667|        4.166666666666666|       1.3888888888888888|\n",
            "|060372398012|2020-02-07T00:00:...|          41|                          15|                              1|                              4|         36.58536585365854|       2.4390243902439024|         9.75609756097561|\n",
            "|060373009011|2020-02-07T00:00:...|          82|                          20|                             16|                              6|        24.390243902439025|        19.51219512195122|        7.317073170731707|\n",
            "|060375418021|2020-02-07T00:00:...|          49|                          12|                              3|                              4|        24.489795918367346|        6.122448979591836|         8.16326530612245|\n",
            "|060375431003|2020-02-07T00:00:...|          37|                           5|                              1|                              2|        13.513513513513514|       2.7027027027027026|        5.405405405405405|\n",
            "|060376012021|2020-02-07T00:00:...|          56|                          14|                              1|                              4|                      25.0|       1.7857142857142856|        7.142857142857142|\n",
            "|060379800211|2020-02-07T00:00:...|          50|                           3|                              3|                              1|                       6.0|                      6.0|                      2.0|\n",
            "|060590871034|2020-02-07T00:00:...|          88|                          30|                              7|                              8|        34.090909090909086|        7.954545454545454|        9.090909090909092|\n",
            "|060372713005|2020-02-07T00:00:...|          30|                           3|                              2|                              2|                      10.0|        6.666666666666667|        6.666666666666667|\n",
            "|060372766041|2020-02-07T00:00:...|         137|                          24|                             20|                              8|         17.51824817518248|         14.5985401459854|        5.839416058394161|\n",
            "|060374334012|2020-02-07T00:00:...|          35|                           6|                              6|                              2|        17.142857142857142|       17.142857142857142|        5.714285714285714|\n",
            "|060375017003|2020-02-07T00:00:...|          38|                           6|                              4|                              1|        15.789473684210526|       10.526315789473683|        2.631578947368421|\n",
            "+------------+--------------------+------------+----------------------------+-------------------------------+-------------------------------+--------------------------+-------------------------+-------------------------+\n",
            "only showing top 20 rows\n",
            "\n",
            "time: 736 ms (started: 2021-04-16 01:40:26 +00:00)\n"
          ],
          "name": "stdout"
        }
      ]
    },
    {
      "cell_type": "code",
      "metadata": {
        "colab": {
          "base_uri": "https://localhost:8080/"
        },
        "id": "U8Dh3u54x-Rw",
        "outputId": "3a7a7b4a-78c8-40cc-98b4-c464def655e8"
      },
      "source": [
        "df_soc.printSchema()"
      ],
      "execution_count": 15,
      "outputs": [
        {
          "output_type": "stream",
          "text": [
            "root\n",
            " |-- cbg: string (nullable = true)\n",
            " |-- date: string (nullable = true)\n",
            " |-- device_count: string (nullable = true)\n",
            " |-- completely_home_device_count: string (nullable = true)\n",
            " |-- part_time_work_behavior_devices: string (nullable = true)\n",
            " |-- full_time_work_behavior_devices: string (nullable = true)\n",
            " |-- completely_home_percentage: double (nullable = true)\n",
            " |-- part_time_work_percentage: double (nullable = true)\n",
            " |-- full_time_work_percentage: double (nullable = true)\n",
            "\n",
            "time: 13.5 ms (started: 2021-04-16 01:40:27 +00:00)\n"
          ],
          "name": "stdout"
        }
      ]
    },
    {
      "cell_type": "code",
      "metadata": {
        "id": "RPfbxzHZMQpg"
      },
      "source": [
        ""
      ],
      "execution_count": 15,
      "outputs": []
    },
    {
      "cell_type": "code",
      "metadata": {
        "colab": {
          "base_uri": "https://localhost:8080/"
        },
        "id": "OAUIODseCoSg",
        "outputId": "b2d20f18-61b6-4576-d2a8-d5252a08f9ab"
      },
      "source": [
        "#Create temp view\n",
        "df_soc.createOrReplaceTempView('mobility')"
      ],
      "execution_count": 16,
      "outputs": [
        {
          "output_type": "stream",
          "text": [
            "time: 42 ms (started: 2021-04-16 01:40:27 +00:00)\n"
          ],
          "name": "stdout"
        }
      ]
    },
    {
      "cell_type": "code",
      "metadata": {
        "id": "J0QElXxFMFP1"
      },
      "source": [
        ""
      ],
      "execution_count": 16,
      "outputs": []
    },
    {
      "cell_type": "markdown",
      "metadata": {
        "id": "Sj4xc1gTpm2X"
      },
      "source": [
        "\n",
        "\n",
        "---\n",
        "\n",
        "\n",
        "demographic data\n",
        "\n",
        "\n",
        "\n",
        "\n",
        "\n",
        "\n",
        "---\n",
        "\n"
      ]
    },
    {
      "cell_type": "code",
      "metadata": {
        "colab": {
          "base_uri": "https://localhost:8080/"
        },
        "id": "1SVVsXtuzqRf",
        "outputId": "464b4084-3b74-4484-c464-c025cc829565"
      },
      "source": [
        "# Read poverty data\n",
        "# Read data into RDD\n",
        "df_demographic = spark.read.format('csv').option('header','true').option('quote',\"\\\"\").option('escape',\"\\\"\").load(str(path/city/'la.csv'))\n",
        "df_demographic.createOrReplaceTempView('demographic')\n",
        "df_demographic.show()"
      ],
      "execution_count": 17,
      "outputs": [
        {
          "output_type": "stream",
          "text": [
            "+------------+---------+------------------+------------------+\n",
            "|         cbg|pop_total|poverty_percentage|    perc_whiteonly|\n",
            "+------------+---------+------------------+------------------+\n",
            "|060373104003|     1286|17.884914463452567| 69.51788491446345|\n",
            "|060590865023|     2545|22.789783889980352| 85.34381139489194|\n",
            "|060376510024|     1285|               0.0|42.490272373540854|\n",
            "|060376511011|     2708| 7.745398773006134| 50.70162481536189|\n",
            "|060590994023|      672|12.969283276450511| 38.54166666666667|\n",
            "|060590995094|      342| 17.83625730994152| 77.48538011695906|\n",
            "|060376511012|     2483|2.6178010471204187|50.302053966975436|\n",
            "|060376512011|      859|2.8846153846153846| 82.42142025611176|\n",
            "|060376512012|     1179| 1.441899915182358|  74.1306191687871|\n",
            "|060376512014|      989|2.4266936299292214| 70.57633973710819|\n",
            "|060376512211|     3373|  9.95684340320592| 40.61666172546695|\n",
            "|060590995092|      938| 5.756929637526652|  84.9680170575693|\n",
            "|060590995095|      576|14.583333333333334|           73.4375|\n",
            "|060590995113|      577|10.918544194107453| 97.22703639514731|\n",
            "|060372164011|     2111|15.016579819990525| 82.42539081004263|\n",
            "|060372164012|     2315| 16.54427645788337| 79.87041036717063|\n",
            "|060372164021|     1611| 7.759155803848541| 80.57107386716325|\n",
            "|060375773004|     1501|10.459693537641572|   82.145236508994|\n",
            "|060375768021|     2320|16.786678667866788|61.594827586206904|\n",
            "|060375744006|      708|1.1299435028248588| 88.84180790960453|\n",
            "+------------+---------+------------------+------------------+\n",
            "only showing top 20 rows\n",
            "\n",
            "time: 818 ms (started: 2021-04-16 01:40:27 +00:00)\n"
          ],
          "name": "stdout"
        }
      ]
    },
    {
      "cell_type": "code",
      "metadata": {
        "colab": {
          "base_uri": "https://localhost:8080/"
        },
        "id": "Ff9bk8_6qBQ2",
        "outputId": "b315179c-cc5c-4c6e-d677-25887fca6955"
      },
      "source": [
        "df_mob_demo = spark.sql('SELECT mobility.*, demographic.poverty_percentage from mobility INNER JOIN demographic ON mobility.cbg = demographic.cbg')\n",
        "df_mob_demo.createOrReplaceTempView('demographic_mobility')\n",
        "df_mob_demo.show()\n"
      ],
      "execution_count": 18,
      "outputs": [
        {
          "output_type": "stream",
          "text": [
            "+------------+--------------------+------------+----------------------------+-------------------------------+-------------------------------+--------------------------+-------------------------+-------------------------+------------------+\n",
            "|         cbg|                date|device_count|completely_home_device_count|part_time_work_behavior_devices|full_time_work_behavior_devices|completely_home_percentage|part_time_work_percentage|full_time_work_percentage|poverty_percentage|\n",
            "+------------+--------------------+------------+----------------------------+-------------------------------+-------------------------------+--------------------------+-------------------------+-------------------------+------------------+\n",
            "|060371831013|2020-02-07T00:00:...|          45|                           6|                              1|                              1|        13.333333333333334|       2.2222222222222223|       2.2222222222222223|15.450643776824036|\n",
            "|060374034022|2020-02-07T00:00:...|         155|                          24|                             12|                              4|        15.483870967741936|        7.741935483870968|       2.5806451612903225| 10.67193675889328|\n",
            "|060375326041|2020-02-07T00:00:...|          31|                           4|                              6|                              2|        12.903225806451612|        19.35483870967742|        6.451612903225806| 27.79187817258883|\n",
            "|060375544031|2020-02-07T00:00:...|         130|                          27|                             16|                             10|         20.76923076923077|       12.307692307692308|       7.6923076923076925|  25.3447633246366|\n",
            "|060375718003|2020-02-07T00:00:...|          35|                          10|                              4|                              1|         28.57142857142857|       11.428571428571429|        2.857142857142857|3.1537450722733245|\n",
            "|060590018024|2020-02-07T00:00:...|          38|                          13|                              7|                              4|         34.21052631578947|       18.421052631578945|       10.526315789473683|29.130434782608695|\n",
            "|060590320463|2020-02-07T00:00:...|         184|                          24|                             38|                             12|        13.043478260869565|       20.652173913043477|        6.521739130434782|3.0450132391879965|\n",
            "|060590626281|2020-02-07T00:00:...|         108|                          32|                              9|                              1|        29.629629629629626|        8.333333333333332|       0.9259259259259258|12.167606768734892|\n",
            "|060371374011|2020-02-07T00:00:...|          72|                          30|                              3|                              1|         41.66666666666667|        4.166666666666666|       1.3888888888888888|  2.89193302891933|\n",
            "|060372398012|2020-02-07T00:00:...|          41|                          15|                              1|                              4|         36.58536585365854|       2.4390243902439024|         9.75609756097561|36.773090079817564|\n",
            "|060373009011|2020-02-07T00:00:...|          82|                          20|                             16|                              6|        24.390243902439025|        19.51219512195122|        7.317073170731707|6.4561403508771935|\n",
            "|060375418021|2020-02-07T00:00:...|          49|                          12|                              3|                              4|        24.489795918367346|        6.122448979591836|         8.16326530612245|27.102803738317753|\n",
            "|060375431003|2020-02-07T00:00:...|          37|                           5|                              1|                              2|        13.513513513513514|       2.7027027027027026|        5.405405405405405|3.3410138248847927|\n",
            "|060376012021|2020-02-07T00:00:...|          56|                          14|                              1|                              4|                      25.0|       1.7857142857142856|        7.142857142857142|28.826815642458097|\n",
            "|060379800211|2020-02-07T00:00:...|          50|                           3|                              3|                              1|                       6.0|                      6.0|                      2.0|               0.0|\n",
            "|060590871034|2020-02-07T00:00:...|          88|                          30|                              7|                              8|        34.090909090909086|        7.954545454545454|        9.090909090909092|10.621468926553671|\n",
            "|060372713005|2020-02-07T00:00:...|          30|                           3|                              2|                              2|                      10.0|        6.666666666666667|        6.666666666666667|  8.47255369928401|\n",
            "|060372766041|2020-02-07T00:00:...|         137|                          24|                             20|                              8|         17.51824817518248|         14.5985401459854|        5.839416058394161| 21.44736842105263|\n",
            "|060374334012|2020-02-07T00:00:...|          35|                           6|                              6|                              2|        17.142857142857142|       17.142857142857142|        5.714285714285714| 12.63408820023838|\n",
            "|060375017003|2020-02-07T00:00:...|          38|                           6|                              4|                              1|        15.789473684210526|       10.526315789473683|        2.631578947368421| 7.543103448275862|\n",
            "+------------+--------------------+------------+----------------------------+-------------------------------+-------------------------------+--------------------------+-------------------------+-------------------------+------------------+\n",
            "only showing top 20 rows\n",
            "\n",
            "time: 1.28 s (started: 2021-04-16 01:40:28 +00:00)\n"
          ],
          "name": "stdout"
        }
      ]
    },
    {
      "cell_type": "code",
      "metadata": {
        "colab": {
          "base_uri": "https://localhost:8080/"
        },
        "id": "SsIF36yhIKXX",
        "outputId": "b6a35c3b-311f-4e58-d113-7974fb3b503f"
      },
      "source": [
        "\n",
        "#grouped_df_mob_demo.show()"
      ],
      "execution_count": 19,
      "outputs": [
        {
          "output_type": "stream",
          "text": [
            "time: 3.73 ms (started: 2021-04-16 01:40:29 +00:00)\n"
          ],
          "name": "stdout"
        }
      ]
    },
    {
      "cell_type": "code",
      "metadata": {
        "colab": {
          "base_uri": "https://localhost:8080/"
        },
        "id": "EM0Wy0Cg37iH",
        "outputId": "049183f2-e6ff-4d5a-a2d2-d393cbba2680"
      },
      "source": [
        "# Count number of rows\n",
        "#spark.sql('SELECT COUNT(cbg) FROM demographic_mobility').show()"
      ],
      "execution_count": 20,
      "outputs": [
        {
          "output_type": "stream",
          "text": [
            "time: 931 µs (started: 2021-04-16 01:40:29 +00:00)\n"
          ],
          "name": "stdout"
        }
      ]
    },
    {
      "cell_type": "code",
      "metadata": {
        "id": "Fui4TVwTtQJV",
        "colab": {
          "base_uri": "https://localhost:8080/"
        },
        "outputId": "0992e0a0-7161-4cbc-f102-324d08c3300c"
      },
      "source": [
        "# DIVIDING THE POPULATION IN 3 GROUPS \n",
        "\n",
        "# df_mob_demo_high_class =  spark.sql('SELECT * FROM demographic_mobility WHERE poverty_percentage < 30')\n",
        "# grouped_df_mob_demo_high_class = df_mob_demo_high_class.groupBy(\"date\").mean(\"completely_home_percentage\").withColumnRenamed('avg(completely_home_percentage)','completely_home_percentage')\n",
        "# grouped_df_mob_demo_high_class.createOrReplaceTempView('mob_demo_high_class')\n",
        "\n",
        "\n",
        "# #grouped_df_mob_demo_high_class.printSchema()\n",
        "\n",
        "\n",
        "# df_mob_demo_middle_class =  spark.sql('SELECT * FROM demographic_mobility WHERE poverty_percentage >= 30 AND poverty_percentage < 70 ')\n",
        "# grouped_df_mob_demo_middle_class = df_mob_demo_middle_class.groupBy(\"date\").mean(\"completely_home_percentage\").withColumnRenamed('avg(completely_home_percentage)','completely_home_percentage')\n",
        "# grouped_df_mob_demo_middle_class.createOrReplaceTempView('mob_demo_middle_class')\n",
        "\n",
        "\n",
        "# df_mob_demo_low_class =  spark.sql('SELECT * FROM demographic_mobility WHERE poverty_percentage >= 70')\n",
        "# grouped_df_mob_demo_low_class = df_mob_demo_low_class.groupBy(\"date\").mean(\"completely_home_percentage\").withColumnRenamed('avg(completely_home_percentage)','completely_home_percentage')\n",
        "# grouped_df_mob_demo_low_class.createOrReplaceTempView('mob_demo_low_class')\n",
        "\n",
        "# #df_mob_demo_merhed = spark.sql('SELECT h.*, m.')\n",
        "\n",
        "\n",
        "# grouped_df_mob_demo_combined = spark.sql(\"\"\"\n",
        "\n",
        "# SELECT h.date,h.completely_home_percentage as high_comp_home_perc,\n",
        "# m.completely_home_percentage as middle_comp_home_perc,\n",
        "# l.completely_home_percentage as low_comp_home_perc  \n",
        "# FROM mob_demo_high_class h INNER JOIN mob_demo_middle_class m ON h.date = m.date INNER JOIN mob_demo_low_class l ON m.date = l.date\n",
        "\n",
        "# \"\"\")\n",
        "\n"
      ],
      "execution_count": 21,
      "outputs": [
        {
          "output_type": "stream",
          "text": [
            "time: 17.6 ms (started: 2021-04-16 01:40:29 +00:00)\n"
          ],
          "name": "stdout"
        }
      ]
    },
    {
      "cell_type": "code",
      "metadata": {
        "id": "6vFzCEtNukZy",
        "colab": {
          "base_uri": "https://localhost:8080/"
        },
        "outputId": "4ebc593b-a1a5-4f17-9207-1e9338f3ce57"
      },
      "source": [
        "# DIVIDING THE PEOPLE TOP 20 PERCENT AND BOTTOM 20 PERCENT\n",
        "\n",
        "df_mob_demo_high_class =  spark.sql('SELECT * FROM demographic_mobility WHERE poverty_percentage < 20')\n",
        "grouped_df_mob_demo_high_class = df_mob_demo_high_class.groupBy(\"date\").mean(\"full_time_work_percentage\").withColumnRenamed('avg(full_time_work_percentage)','full_time_work_percentage')\n",
        "grouped_df_mob_demo_high_class.createOrReplaceTempView('mob_demo_high_class')\n",
        "\n",
        "\n",
        "#grouped_df_mob_demo_high_class.printSchema()\n",
        "\n",
        "\n",
        "# df_mob_demo_middle_class =  spark.sql('SELECT * FROM demographic_mobility WHERE poverty_percentage >= 30 AND poverty_percentage < 70 ')\n",
        "# grouped_df_mob_demo_middle_class = df_mob_demo_middle_class.groupBy(\"date\").mean(\"completely_home_percentage\").withColumnRenamed('avg(completely_home_percentage)','completely_home_percentage')\n",
        "# grouped_df_mob_demo_middle_class.createOrReplaceTempView('mob_demo_middle_class')\n",
        "\n",
        "\n",
        "df_mob_demo_low_class =  spark.sql('SELECT * FROM demographic_mobility WHERE poverty_percentage > 80')\n",
        "grouped_df_mob_demo_low_class = df_mob_demo_low_class.groupBy(\"date\").mean(\"full_time_work_percentage\").withColumnRenamed('avg(full_time_work_percentage)','full_time_work_percentage')\n",
        "grouped_df_mob_demo_low_class.createOrReplaceTempView('mob_demo_low_class')\n",
        "\n",
        "#df_mob_demo_merhed = spark.sql('SELECT h.*, m.')\n",
        "\n",
        "\n",
        "grouped_df_mob_demo_combined = spark.sql(\"\"\"\n",
        "\n",
        "SELECT h.date,h.full_time_work_percentage as high_full_time_perc,\n",
        "l.full_time_work_percentage as low_full_time_perc  \n",
        "FROM mob_demo_high_class h INNER JOIN mob_demo_low_class l ON h.date = l.date\n",
        "\n",
        "\"\"\")\n"
      ],
      "execution_count": 22,
      "outputs": [
        {
          "output_type": "stream",
          "text": [
            "time: 455 ms (started: 2021-04-16 01:40:29 +00:00)\n"
          ],
          "name": "stdout"
        }
      ]
    },
    {
      "cell_type": "code",
      "metadata": {
        "colab": {
          "base_uri": "https://localhost:8080/"
        },
        "id": "Sc7a6I2F6lA8",
        "outputId": "5e3f3f27-ee31-42e6-cd25-baff06e49423"
      },
      "source": [
        "#Sort by poverty\n",
        "# df_mob_demo = spark.sql('SELECT * FROM demographic_mobility ORDER BY CAST(poverty_percentage AS float) DESC')\n",
        "# df_mob_demo.createOrReplaceTempView('demographic_mobility')\n",
        "# df_mob_demo.show()"
      ],
      "execution_count": 23,
      "outputs": [
        {
          "output_type": "stream",
          "text": [
            "time: 4.61 ms (started: 2021-04-16 01:40:30 +00:00)\n"
          ],
          "name": "stdout"
        }
      ]
    },
    {
      "cell_type": "code",
      "metadata": {
        "id": "oEvvbPFXJG_g",
        "colab": {
          "base_uri": "https://localhost:8080/"
        },
        "outputId": "2cf6f19f-eef9-4ee0-b053-ba00707b8849"
      },
      "source": [
        "#grouped_df_mob_demo_combined.show()\n"
      ],
      "execution_count": 24,
      "outputs": [
        {
          "output_type": "stream",
          "text": [
            "time: 2.99 ms (started: 2021-04-16 01:40:30 +00:00)\n"
          ],
          "name": "stdout"
        }
      ]
    },
    {
      "cell_type": "code",
      "metadata": {
        "colab": {
          "base_uri": "https://localhost:8080/"
        },
        "id": "X4pxaYgQx3I4",
        "outputId": "f491347d-299f-45d4-adae-714890d16e3d"
      },
      "source": [
        "#count = grouped_df_mob_demo_combined.count()"
      ],
      "execution_count": 25,
      "outputs": [
        {
          "output_type": "stream",
          "text": [
            "time: 957 µs (started: 2021-04-16 01:40:30 +00:00)\n"
          ],
          "name": "stdout"
        }
      ]
    },
    {
      "cell_type": "code",
      "metadata": {
        "colab": {
          "base_uri": "https://localhost:8080/"
        },
        "id": "5aOIrv7K0HVq",
        "outputId": "58a4d85b-4b57-494f-a579-495e151e1a34"
      },
      "source": [
        "print(\"{}\".format(count))"
      ],
      "execution_count": 26,
      "outputs": [
        {
          "output_type": "stream",
          "text": [
            "<function count at 0x7f03cfbc39e0>\n",
            "time: 1.3 ms (started: 2021-04-16 01:40:30 +00:00)\n"
          ],
          "name": "stdout"
        }
      ]
    },
    {
      "cell_type": "code",
      "metadata": {
        "colab": {
          "base_uri": "https://localhost:8080/",
          "height": 441
        },
        "id": "V4EHlNdfSVal",
        "outputId": "c5232503-5da8-4531-b2a4-d232dae76165"
      },
      "source": [
        "grouped_df_mob_demo_combined_pandas = grouped_df_mob_demo_combined.toPandas()\n",
        "grouped_df_mob_demo_combined_pandas"
      ],
      "execution_count": 27,
      "outputs": [
        {
          "output_type": "execute_result",
          "data": {
            "text/html": [
              "<div>\n",
              "<style scoped>\n",
              "    .dataframe tbody tr th:only-of-type {\n",
              "        vertical-align: middle;\n",
              "    }\n",
              "\n",
              "    .dataframe tbody tr th {\n",
              "        vertical-align: top;\n",
              "    }\n",
              "\n",
              "    .dataframe thead th {\n",
              "        text-align: right;\n",
              "    }\n",
              "</style>\n",
              "<table border=\"1\" class=\"dataframe\">\n",
              "  <thead>\n",
              "    <tr style=\"text-align: right;\">\n",
              "      <th></th>\n",
              "      <th>date</th>\n",
              "      <th>high_full_time_perc</th>\n",
              "      <th>low_full_time_perc</th>\n",
              "    </tr>\n",
              "  </thead>\n",
              "  <tbody>\n",
              "    <tr>\n",
              "      <th>0</th>\n",
              "      <td>2020-07-02T00:00:00-07:00</td>\n",
              "      <td>5.412821</td>\n",
              "      <td>6.137846</td>\n",
              "    </tr>\n",
              "    <tr>\n",
              "      <th>1</th>\n",
              "      <td>2020-11-13T00:00:00-08:00</td>\n",
              "      <td>5.960603</td>\n",
              "      <td>7.020865</td>\n",
              "    </tr>\n",
              "    <tr>\n",
              "      <th>2</th>\n",
              "      <td>2020-06-02T00:00:00-07:00</td>\n",
              "      <td>5.459862</td>\n",
              "      <td>3.679321</td>\n",
              "    </tr>\n",
              "    <tr>\n",
              "      <th>3</th>\n",
              "      <td>2020-06-04T00:00:00-07:00</td>\n",
              "      <td>4.479018</td>\n",
              "      <td>4.610523</td>\n",
              "    </tr>\n",
              "    <tr>\n",
              "      <th>4</th>\n",
              "      <td>2020-10-29T00:00:00-07:00</td>\n",
              "      <td>5.256767</td>\n",
              "      <td>4.119437</td>\n",
              "    </tr>\n",
              "    <tr>\n",
              "      <th>...</th>\n",
              "      <td>...</td>\n",
              "      <td>...</td>\n",
              "      <td>...</td>\n",
              "    </tr>\n",
              "    <tr>\n",
              "      <th>361</th>\n",
              "      <td>2020-04-28T00:00:00-07:00</td>\n",
              "      <td>4.880114</td>\n",
              "      <td>2.720581</td>\n",
              "    </tr>\n",
              "    <tr>\n",
              "      <th>362</th>\n",
              "      <td>2020-05-26T00:00:00-07:00</td>\n",
              "      <td>4.190716</td>\n",
              "      <td>3.620897</td>\n",
              "    </tr>\n",
              "    <tr>\n",
              "      <th>363</th>\n",
              "      <td>2020-06-13T00:00:00-07:00</td>\n",
              "      <td>3.523242</td>\n",
              "      <td>4.947850</td>\n",
              "    </tr>\n",
              "    <tr>\n",
              "      <th>364</th>\n",
              "      <td>2020-08-28T00:00:00-07:00</td>\n",
              "      <td>5.058344</td>\n",
              "      <td>6.824693</td>\n",
              "    </tr>\n",
              "    <tr>\n",
              "      <th>365</th>\n",
              "      <td>2020-11-28T00:00:00-08:00</td>\n",
              "      <td>3.357164</td>\n",
              "      <td>4.269749</td>\n",
              "    </tr>\n",
              "  </tbody>\n",
              "</table>\n",
              "<p>366 rows × 3 columns</p>\n",
              "</div>"
            ],
            "text/plain": [
              "                          date  high_full_time_perc  low_full_time_perc\n",
              "0    2020-07-02T00:00:00-07:00             5.412821            6.137846\n",
              "1    2020-11-13T00:00:00-08:00             5.960603            7.020865\n",
              "2    2020-06-02T00:00:00-07:00             5.459862            3.679321\n",
              "3    2020-06-04T00:00:00-07:00             4.479018            4.610523\n",
              "4    2020-10-29T00:00:00-07:00             5.256767            4.119437\n",
              "..                         ...                  ...                 ...\n",
              "361  2020-04-28T00:00:00-07:00             4.880114            2.720581\n",
              "362  2020-05-26T00:00:00-07:00             4.190716            3.620897\n",
              "363  2020-06-13T00:00:00-07:00             3.523242            4.947850\n",
              "364  2020-08-28T00:00:00-07:00             5.058344            6.824693\n",
              "365  2020-11-28T00:00:00-08:00             3.357164            4.269749\n",
              "\n",
              "[366 rows x 3 columns]"
            ]
          },
          "metadata": {
            "tags": []
          },
          "execution_count": 27
        },
        {
          "output_type": "stream",
          "text": [
            "time: 4min 34s (started: 2021-04-16 01:40:30 +00:00)\n"
          ],
          "name": "stdout"
        }
      ]
    },
    {
      "cell_type": "code",
      "metadata": {
        "id": "_qgAuW8GErIq"
      },
      "source": [
        ""
      ],
      "execution_count": 27,
      "outputs": []
    },
    {
      "cell_type": "markdown",
      "metadata": {
        "id": "stkLRnaXuzBm"
      },
      "source": [
        "---\n",
        "graphs \n",
        "\n",
        "---"
      ]
    },
    {
      "cell_type": "code",
      "metadata": {
        "colab": {
          "base_uri": "https://localhost:8080/",
          "height": 516
        },
        "id": "pTTAkF1Iwesw",
        "outputId": "290a253b-0af4-4753-d053-54feae2dbc24"
      },
      "source": [
        "base = alt.Chart(grouped_df_mob_demo_combined_pandas.reset_index()).encode(x='date')\n",
        "\n",
        "alt.layer(\n",
        "    base.mark_line(color='blue').encode(y='high_full_time_perc'),\n",
        "    # base.mark_line(color='red').encode(y='middle_comp_home_perc'),\n",
        "    base.mark_line(color='green').encode(y='low_full_time_perc')\n",
        "\n",
        ")"
      ],
      "execution_count": 34,
      "outputs": [
        {
          "output_type": "execute_result",
          "data": {
            "text/plain": [
              "alt.LayerChart(...)"
            ],
            "text/html": [
              "\n",
              "<div id=\"altair-viz-0cce6a9eabe445de84b89793d2f83675\"></div>\n",
              "<script type=\"text/javascript\">\n",
              "  (function(spec, embedOpt){\n",
              "    let outputDiv = document.currentScript.previousElementSibling;\n",
              "    if (outputDiv.id !== \"altair-viz-0cce6a9eabe445de84b89793d2f83675\") {\n",
              "      outputDiv = document.getElementById(\"altair-viz-0cce6a9eabe445de84b89793d2f83675\");\n",
              "    }\n",
              "    const paths = {\n",
              "      \"vega\": \"https://cdn.jsdelivr.net/npm//vega@5?noext\",\n",
              "      \"vega-lib\": \"https://cdn.jsdelivr.net/npm//vega-lib?noext\",\n",
              "      \"vega-lite\": \"https://cdn.jsdelivr.net/npm//vega-lite@4.8.1?noext\",\n",
              "      \"vega-embed\": \"https://cdn.jsdelivr.net/npm//vega-embed@6?noext\",\n",
              "    };\n",
              "\n",
              "    function loadScript(lib) {\n",
              "      return new Promise(function(resolve, reject) {\n",
              "        var s = document.createElement('script');\n",
              "        s.src = paths[lib];\n",
              "        s.async = true;\n",
              "        s.onload = () => resolve(paths[lib]);\n",
              "        s.onerror = () => reject(`Error loading script: ${paths[lib]}`);\n",
              "        document.getElementsByTagName(\"head\")[0].appendChild(s);\n",
              "      });\n",
              "    }\n",
              "\n",
              "    function showError(err) {\n",
              "      outputDiv.innerHTML = `<div class=\"error\" style=\"color:red;\">${err}</div>`;\n",
              "      throw err;\n",
              "    }\n",
              "\n",
              "    function displayChart(vegaEmbed) {\n",
              "      vegaEmbed(outputDiv, spec, embedOpt)\n",
              "        .catch(err => showError(`Javascript Error: ${err.message}<br>This usually means there's a typo in your chart specification. See the javascript console for the full traceback.`));\n",
              "    }\n",
              "\n",
              "    if(typeof define === \"function\" && define.amd) {\n",
              "      requirejs.config({paths});\n",
              "      require([\"vega-embed\"], displayChart, err => showError(`Error loading script: ${err.message}`));\n",
              "    } else if (typeof vegaEmbed === \"function\") {\n",
              "      displayChart(vegaEmbed);\n",
              "    } else {\n",
              "      loadScript(\"vega\")\n",
              "        .then(() => loadScript(\"vega-lite\"))\n",
              "        .then(() => loadScript(\"vega-embed\"))\n",
              "        .catch(showError)\n",
              "        .then(() => displayChart(vegaEmbed));\n",
              "    }\n",
              "  })({\"config\": {\"view\": {\"continuousWidth\": 400, \"continuousHeight\": 300}}, \"layer\": [{\"mark\": {\"type\": \"line\", \"color\": \"blue\"}, \"encoding\": {\"x\": {\"type\": \"nominal\", \"field\": \"date\"}, \"y\": {\"type\": \"quantitative\", \"field\": \"high_full_time_perc\"}}}, {\"mark\": {\"type\": \"line\", \"color\": \"green\"}, \"encoding\": {\"x\": {\"type\": \"nominal\", \"field\": \"date\"}, \"y\": {\"type\": \"quantitative\", \"field\": \"low_full_time_perc\"}}}], \"data\": {\"name\": \"data-151724e00275fd16a9923e7a84146bfc\"}, \"$schema\": \"https://vega.github.io/schema/vega-lite/v4.8.1.json\", \"datasets\": {\"data-151724e00275fd16a9923e7a84146bfc\": [{\"index\": 0, \"date\": \"2020-07-02T00:00:00-07:00\", \"high_full_time_perc\": 5.4128212829988716, \"low_full_time_perc\": 6.137845626055268}, {\"index\": 1, \"date\": \"2020-11-13T00:00:00-08:00\", \"high_full_time_perc\": 5.960602594474457, \"low_full_time_perc\": 7.020864939738459}, {\"index\": 2, \"date\": \"2020-06-02T00:00:00-07:00\", \"high_full_time_perc\": 5.459861572662091, \"low_full_time_perc\": 3.6793207872565756}, {\"index\": 3, \"date\": \"2020-06-04T00:00:00-07:00\", \"high_full_time_perc\": 4.4790184301225855, \"low_full_time_perc\": 4.610522973206863}, {\"index\": 4, \"date\": \"2020-10-29T00:00:00-07:00\", \"high_full_time_perc\": 5.25676741981341, \"low_full_time_perc\": 4.119437110125874}, {\"index\": 5, \"date\": \"2020-02-02T00:00:00-08:00\", \"high_full_time_perc\": 2.321409124291017, \"low_full_time_perc\": 1.53233121511141}, {\"index\": 6, \"date\": \"2020-07-16T00:00:00-07:00\", \"high_full_time_perc\": 6.372345548206199, \"low_full_time_perc\": 5.103781594836185}, {\"index\": 7, \"date\": \"2020-03-08T00:00:00-08:00\", \"high_full_time_perc\": 4.018945406033216, \"low_full_time_perc\": 2.2816049011778463}, {\"index\": 8, \"date\": \"2020-09-12T00:00:00-07:00\", \"high_full_time_perc\": 3.810221530178272, \"low_full_time_perc\": 3.8335969933192158}, {\"index\": 9, \"date\": \"2020-12-21T00:00:00-08:00\", \"high_full_time_perc\": 4.319534760825981, \"low_full_time_perc\": 3.0789528786649774}, {\"index\": 10, \"date\": \"2020-03-04T00:00:00-08:00\", \"high_full_time_perc\": 6.7188842611273625, \"low_full_time_perc\": 2.4435201276364023}, {\"index\": 11, \"date\": \"2020-03-13T00:00:00-07:00\", \"high_full_time_perc\": 7.630344473975916, \"low_full_time_perc\": 3.625047495272285}, {\"index\": 12, \"date\": \"2020-07-10T00:00:00-07:00\", \"high_full_time_perc\": 4.995170468717402, \"low_full_time_perc\": 5.26336560097785}, {\"index\": 13, \"date\": \"2020-10-24T00:00:00-07:00\", \"high_full_time_perc\": 3.4424482907014693, \"low_full_time_perc\": 3.3907444876647777}, {\"index\": 14, \"date\": \"2020-06-24T00:00:00-07:00\", \"high_full_time_perc\": 4.409102204545633, \"low_full_time_perc\": 3.73931817017373}, {\"index\": 15, \"date\": \"2020-10-09T00:00:00-07:00\", \"high_full_time_perc\": 5.80632235871341, \"low_full_time_perc\": 3.866794208851557}, {\"index\": 16, \"date\": \"2020-07-14T00:00:00-07:00\", \"high_full_time_perc\": 4.543950527964443, \"low_full_time_perc\": 3.13611752658831}, {\"index\": 17, \"date\": \"2020-09-26T00:00:00-07:00\", \"high_full_time_perc\": 4.6893971110358645, \"low_full_time_perc\": 12.06944765380749}, {\"index\": 18, \"date\": \"2020-10-04T00:00:00-07:00\", \"high_full_time_perc\": 2.996354527007914, \"low_full_time_perc\": 3.322225461343402}, {\"index\": 19, \"date\": \"2020-04-12T00:00:00-07:00\", \"high_full_time_perc\": 3.3395880407831235, \"low_full_time_perc\": 2.473552685786454}, {\"index\": 20, \"date\": \"2020-06-19T00:00:00-07:00\", \"high_full_time_perc\": 5.434134743046964, \"low_full_time_perc\": 3.644924201059558}, {\"index\": 21, \"date\": \"2020-03-09T00:00:00-07:00\", \"high_full_time_perc\": 8.82945074508028, \"low_full_time_perc\": 2.1830717973498874}, {\"index\": 22, \"date\": \"2020-12-24T00:00:00-08:00\", \"high_full_time_perc\": 3.5822888137920037, \"low_full_time_perc\": 2.9910696195452044}, {\"index\": 23, \"date\": \"2020-05-29T00:00:00-07:00\", \"high_full_time_perc\": 4.090990888120748, \"low_full_time_perc\": 2.930251706291318}, {\"index\": 24, \"date\": \"2020-09-20T00:00:00-07:00\", \"high_full_time_perc\": 3.4018976097537035, \"low_full_time_perc\": 4.837552924809605}, {\"index\": 25, \"date\": \"2020-10-08T00:00:00-07:00\", \"high_full_time_perc\": 5.582440583347424, \"low_full_time_perc\": 3.335492025493355}, {\"index\": 26, \"date\": \"2020-02-05T00:00:00-08:00\", \"high_full_time_perc\": 8.110206530933064, \"low_full_time_perc\": 2.77573311534363}, {\"index\": 27, \"date\": \"2020-11-30T00:00:00-08:00\", \"high_full_time_perc\": 5.350580701868282, \"low_full_time_perc\": 3.0745252431531633}, {\"index\": 28, \"date\": \"2020-01-25T00:00:00-08:00\", \"high_full_time_perc\": 4.550964306482741, \"low_full_time_perc\": 3.558865839464151}, {\"index\": 29, \"date\": \"2020-09-22T00:00:00-07:00\", \"high_full_time_perc\": 5.909739472031267, \"low_full_time_perc\": 6.382788499502008}, {\"index\": 30, \"date\": \"2020-04-15T00:00:00-07:00\", \"high_full_time_perc\": 4.078554200451783, \"low_full_time_perc\": 2.7925878249954157}, {\"index\": 31, \"date\": \"2020-10-15T00:00:00-07:00\", \"high_full_time_perc\": 5.576863866579038, \"low_full_time_perc\": 3.9958337640043218}, {\"index\": 32, \"date\": \"2020-05-19T00:00:00-07:00\", \"high_full_time_perc\": 4.029347471574101, \"low_full_time_perc\": 3.1049256253990687}, {\"index\": 33, \"date\": \"2020-10-12T00:00:00-07:00\", \"high_full_time_perc\": 5.084969988446848, \"low_full_time_perc\": 3.987887743307894}, {\"index\": 34, \"date\": \"2020-11-21T00:00:00-08:00\", \"high_full_time_perc\": 4.8872481983407186, \"low_full_time_perc\": 4.689894254540757}, {\"index\": 35, \"date\": \"2020-02-29T00:00:00-08:00\", \"high_full_time_perc\": 3.055696531751898, \"low_full_time_perc\": 1.4347343843685578}, {\"index\": 36, \"date\": \"2020-05-01T00:00:00-07:00\", \"high_full_time_perc\": 3.770745457904805, \"low_full_time_perc\": 2.707222404111071}, {\"index\": 37, \"date\": \"2020-06-12T00:00:00-07:00\", \"high_full_time_perc\": 4.93398296762172, \"low_full_time_perc\": 4.563968042910264}, {\"index\": 38, \"date\": \"2020-08-26T00:00:00-07:00\", \"high_full_time_perc\": 5.741100058759341, \"low_full_time_perc\": 5.114094147190607}, {\"index\": 39, \"date\": \"2020-10-20T00:00:00-07:00\", \"high_full_time_perc\": 5.3837794535601615, \"low_full_time_perc\": 3.3464976336718286}, {\"index\": 40, \"date\": \"2020-10-31T00:00:00-07:00\", \"high_full_time_perc\": 3.7527876396011464, \"low_full_time_perc\": 3.9197836079174824}, {\"index\": 41, \"date\": \"2020-06-14T00:00:00-07:00\", \"high_full_time_perc\": 3.25010162906412, \"low_full_time_perc\": 4.013289309874963}, {\"index\": 42, \"date\": \"2020-06-30T00:00:00-07:00\", \"high_full_time_perc\": 5.397568560571321, \"low_full_time_perc\": 4.690698075326513}, {\"index\": 43, \"date\": \"2020-08-03T00:00:00-07:00\", \"high_full_time_perc\": 5.491650775159141, \"low_full_time_perc\": 3.3240770653060148}, {\"index\": 44, \"date\": \"2020-08-11T00:00:00-07:00\", \"high_full_time_perc\": 5.522844912472294, \"low_full_time_perc\": 3.808791746958907}, {\"index\": 45, \"date\": \"2020-08-24T00:00:00-07:00\", \"high_full_time_perc\": 6.142741147129636, \"low_full_time_perc\": 5.598334057453553}, {\"index\": 46, \"date\": \"2020-09-27T00:00:00-07:00\", \"high_full_time_perc\": 3.597745388297936, \"low_full_time_perc\": 4.2810989543015685}, {\"index\": 47, \"date\": \"2020-03-24T00:00:00-07:00\", \"high_full_time_perc\": 4.924269689126667, \"low_full_time_perc\": 2.7929179945399296}, {\"index\": 48, \"date\": \"2020-09-02T00:00:00-07:00\", \"high_full_time_perc\": 4.8219043964563495, \"low_full_time_perc\": 4.59564748133916}, {\"index\": 49, \"date\": \"2020-12-25T00:00:00-08:00\", \"high_full_time_perc\": 3.007350154851025, \"low_full_time_perc\": 3.216459769942012}, {\"index\": 50, \"date\": \"2020-01-29T00:00:00-08:00\", \"high_full_time_perc\": 7.625305307938772, \"low_full_time_perc\": 2.694373535176608}, {\"index\": 51, \"date\": \"2020-04-22T00:00:00-07:00\", \"high_full_time_perc\": 4.372004171757509, \"low_full_time_perc\": 3.39121968749119}, {\"index\": 52, \"date\": \"2020-03-01T00:00:00-08:00\", \"high_full_time_perc\": 2.4132549141641744, \"low_full_time_perc\": 1.4909075902226587}, {\"index\": 53, \"date\": \"2020-08-04T00:00:00-07:00\", \"high_full_time_perc\": 5.407990961502738, \"low_full_time_perc\": 4.668715490279784}, {\"index\": 54, \"date\": \"2020-12-15T00:00:00-08:00\", \"high_full_time_perc\": 4.644872427312972, \"low_full_time_perc\": 3.00036269531215}, {\"index\": 55, \"date\": \"2020-01-12T00:00:00-08:00\", \"high_full_time_perc\": 2.928081194607852, \"low_full_time_perc\": 2.0970256816037214}, {\"index\": 56, \"date\": \"2020-11-25T00:00:00-08:00\", \"high_full_time_perc\": 4.94662103648866, \"low_full_time_perc\": 3.140186281036352}, {\"index\": 57, \"date\": \"2020-08-07T00:00:00-07:00\", \"high_full_time_perc\": 4.544356304393944, \"low_full_time_perc\": 4.07273053920527}, {\"index\": 58, \"date\": \"2020-12-12T00:00:00-08:00\", \"high_full_time_perc\": 4.319973830817864, \"low_full_time_perc\": 5.972230637143403}, {\"index\": 59, \"date\": \"2020-02-12T00:00:00-08:00\", \"high_full_time_perc\": 7.487149840013725, \"low_full_time_perc\": 2.6214907713389155}, {\"index\": 60, \"date\": \"2020-01-13T00:00:00-08:00\", \"high_full_time_perc\": 7.581092696512338, \"low_full_time_perc\": 2.6060007940769276}, {\"index\": 61, \"date\": \"2020-02-01T00:00:00-08:00\", \"high_full_time_perc\": 2.455962194758518, \"low_full_time_perc\": 1.5210129364668967}, {\"index\": 62, \"date\": \"2020-03-19T00:00:00-07:00\", \"high_full_time_perc\": 4.318391451357649, \"low_full_time_perc\": 2.284033533430315}, {\"index\": 63, \"date\": \"2020-05-05T00:00:00-07:00\", \"high_full_time_perc\": 3.939467382382153, \"low_full_time_perc\": 3.4336587351940127}, {\"index\": 64, \"date\": \"2020-05-10T00:00:00-07:00\", \"high_full_time_perc\": 2.9008793268187953, \"low_full_time_perc\": 4.118002014020609}, {\"index\": 65, \"date\": \"2020-06-16T00:00:00-07:00\", \"high_full_time_perc\": 5.68422015215382, \"low_full_time_perc\": 2.7747328456097478}, {\"index\": 66, \"date\": \"2020-10-11T00:00:00-07:00\", \"high_full_time_perc\": 3.635436471733931, \"low_full_time_perc\": 3.4681867428168185}, {\"index\": 67, \"date\": \"2020-10-17T00:00:00-07:00\", \"high_full_time_perc\": 4.05405778883626, \"low_full_time_perc\": 4.920124959855126}, {\"index\": 68, \"date\": \"2020-10-19T00:00:00-07:00\", \"high_full_time_perc\": 5.048381706455949, \"low_full_time_perc\": 5.478089140419123}, {\"index\": 69, \"date\": \"2020-11-23T00:00:00-08:00\", \"high_full_time_perc\": 4.813407815845201, \"low_full_time_perc\": 3.5635286838938987}, {\"index\": 70, \"date\": \"2020-02-04T00:00:00-08:00\", \"high_full_time_perc\": 7.898903006318817, \"low_full_time_perc\": 1.8132894077868977}, {\"index\": 71, \"date\": \"2020-04-06T00:00:00-07:00\", \"high_full_time_perc\": 4.241541855848245, \"low_full_time_perc\": 2.2551058690429517}, {\"index\": 72, \"date\": \"2020-03-14T00:00:00-07:00\", \"high_full_time_perc\": 3.6431129063963805, \"low_full_time_perc\": 1.9399247596910882}, {\"index\": 73, \"date\": \"2020-05-25T00:00:00-07:00\", \"high_full_time_perc\": 2.9166477943318134, \"low_full_time_perc\": 4.277171263110375}, {\"index\": 74, \"date\": \"2020-06-23T00:00:00-07:00\", \"high_full_time_perc\": 5.052714545058895, \"low_full_time_perc\": 4.3178094889120535}, {\"index\": 75, \"date\": \"2020-03-11T00:00:00-07:00\", \"high_full_time_perc\": 8.732319276793858, \"low_full_time_perc\": 2.4525806363704366}, {\"index\": 76, \"date\": \"2020-03-26T00:00:00-07:00\", \"high_full_time_perc\": 4.65771948808207, \"low_full_time_perc\": 2.3464979288406567}, {\"index\": 77, \"date\": \"2020-08-12T00:00:00-07:00\", \"high_full_time_perc\": 4.798598019706102, \"low_full_time_perc\": 4.734920363951748}, {\"index\": 78, \"date\": \"2020-03-10T00:00:00-07:00\", \"high_full_time_perc\": 8.743214706768303, \"low_full_time_perc\": 1.5959360181483317}, {\"index\": 79, \"date\": \"2020-07-19T00:00:00-07:00\", \"high_full_time_perc\": 3.408151068500133, \"low_full_time_perc\": 3.2917812061792704}, {\"index\": 80, \"date\": \"2020-10-02T00:00:00-07:00\", \"high_full_time_perc\": 5.485627773855451, \"low_full_time_perc\": 4.109337946500336}, {\"index\": 81, \"date\": \"2020-03-30T00:00:00-07:00\", \"high_full_time_perc\": 5.158317208917951, \"low_full_time_perc\": 2.406307879170358}, {\"index\": 82, \"date\": \"2020-11-19T00:00:00-08:00\", \"high_full_time_perc\": 5.5429488611687185, \"low_full_time_perc\": 4.043823707307605}, {\"index\": 83, \"date\": \"2020-03-29T00:00:00-07:00\", \"high_full_time_perc\": 2.7757236561799377, \"low_full_time_perc\": 1.8789341794494985}, {\"index\": 84, \"date\": \"2020-04-19T00:00:00-07:00\", \"high_full_time_perc\": 4.7685012492880805, \"low_full_time_perc\": 4.230034447453931}, {\"index\": 85, \"date\": \"2020-12-26T00:00:00-08:00\", \"high_full_time_perc\": 4.681501695461631, \"low_full_time_perc\": 3.0019140202858026}, {\"index\": 86, \"date\": \"2020-01-06T00:00:00-08:00\", \"high_full_time_perc\": 6.765632015367567, \"low_full_time_perc\": 2.0006870055821526}, {\"index\": 87, \"date\": \"2020-06-29T00:00:00-07:00\", \"high_full_time_perc\": 5.175584457581371, \"low_full_time_perc\": 4.056496081230642}, {\"index\": 88, \"date\": \"2020-08-25T00:00:00-07:00\", \"high_full_time_perc\": 4.950881130219006, \"low_full_time_perc\": 4.713402417387236}, {\"index\": 89, \"date\": \"2020-01-04T00:00:00-08:00\", \"high_full_time_perc\": 2.699865765404635, \"low_full_time_perc\": 1.6882858638063416}, {\"index\": 90, \"date\": \"2020-03-12T00:00:00-07:00\", \"high_full_time_perc\": 8.83734653733585, \"low_full_time_perc\": 2.627852634175609}, {\"index\": 91, \"date\": \"2020-04-02T00:00:00-07:00\", \"high_full_time_perc\": 5.047509603161822, \"low_full_time_perc\": 6.079124683106059}, {\"index\": 92, \"date\": \"2020-07-18T00:00:00-07:00\", \"high_full_time_perc\": 3.517177568298324, \"low_full_time_perc\": 5.356251140425843}, {\"index\": 93, \"date\": \"2020-05-22T00:00:00-07:00\", \"high_full_time_perc\": 4.924446740198168, \"low_full_time_perc\": 4.479476171490113}, {\"index\": 94, \"date\": \"2020-01-14T00:00:00-08:00\", \"high_full_time_perc\": 8.079449099904108, \"low_full_time_perc\": 3.5131423797991084}, {\"index\": 95, \"date\": \"2020-11-07T00:00:00-08:00\", \"high_full_time_perc\": 3.8930684902779245, \"low_full_time_perc\": 4.534673806047753}, {\"index\": 96, \"date\": \"2020-12-29T00:00:00-08:00\", \"high_full_time_perc\": 3.9519317536402734, \"low_full_time_perc\": 3.9870862008641796}, {\"index\": 97, \"date\": \"2020-11-15T00:00:00-08:00\", \"high_full_time_perc\": 3.3433620338485825, \"low_full_time_perc\": 3.7204512423192395}, {\"index\": 98, \"date\": \"2020-03-07T00:00:00-08:00\", \"high_full_time_perc\": 3.1562810698963117, \"low_full_time_perc\": 4.589340283440213}, {\"index\": 99, \"date\": \"2020-04-25T00:00:00-07:00\", \"high_full_time_perc\": 4.587917107364325, \"low_full_time_perc\": 4.574170788774461}, {\"index\": 100, \"date\": \"2020-04-26T00:00:00-07:00\", \"high_full_time_perc\": 2.6425228121264555, \"low_full_time_perc\": 1.9467707729033599}, {\"index\": 101, \"date\": \"2020-08-29T00:00:00-07:00\", \"high_full_time_perc\": 3.4019839742741405, \"low_full_time_perc\": 3.6926379306493353}, {\"index\": 102, \"date\": \"2020-11-16T00:00:00-08:00\", \"high_full_time_perc\": 6.955282651656885, \"low_full_time_perc\": 4.771476290093322}, {\"index\": 103, \"date\": \"2020-10-16T00:00:00-07:00\", \"high_full_time_perc\": 5.340859301136686, \"low_full_time_perc\": 3.5293832980346607}, {\"index\": 104, \"date\": \"2020-05-11T00:00:00-07:00\", \"high_full_time_perc\": 6.694095055051785, \"low_full_time_perc\": 6.596110925464796}, {\"index\": 105, \"date\": \"2020-05-12T00:00:00-07:00\", \"high_full_time_perc\": 4.838919181783454, \"low_full_time_perc\": 5.009559545273047}, {\"index\": 106, \"date\": \"2020-10-13T00:00:00-07:00\", \"high_full_time_perc\": 5.851598393774565, \"low_full_time_perc\": 3.474233696909988}, {\"index\": 107, \"date\": \"2020-12-06T00:00:00-08:00\", \"high_full_time_perc\": 2.940606244519155, \"low_full_time_perc\": 2.982755202990666}, {\"index\": 108, \"date\": \"2020-01-21T00:00:00-08:00\", \"high_full_time_perc\": 7.500886596219245, \"low_full_time_perc\": 3.497289430870669}, {\"index\": 109, \"date\": \"2020-12-31T00:00:00-08:00\", \"high_full_time_perc\": 3.4532503962202803, \"low_full_time_perc\": 3.363826526846504}, {\"index\": 110, \"date\": \"2020-01-08T00:00:00-08:00\", \"high_full_time_perc\": 6.5901944250485895, \"low_full_time_perc\": 2.4414770651725113}, {\"index\": 111, \"date\": \"2020-02-18T00:00:00-08:00\", \"high_full_time_perc\": 8.407961690333991, \"low_full_time_perc\": 2.6647397674901168}, {\"index\": 112, \"date\": \"2020-04-10T00:00:00-07:00\", \"high_full_time_perc\": 3.3441946794068174, \"low_full_time_perc\": 2.2468109514553003}, {\"index\": 113, \"date\": \"2020-07-22T00:00:00-07:00\", \"high_full_time_perc\": 5.686470038730561, \"low_full_time_perc\": 4.752621688175583}, {\"index\": 114, \"date\": \"2020-08-13T00:00:00-07:00\", \"high_full_time_perc\": 6.537503347842162, \"low_full_time_perc\": 6.25240535152246}, {\"index\": 115, \"date\": \"2020-09-18T00:00:00-07:00\", \"high_full_time_perc\": 5.968561026543888, \"low_full_time_perc\": 3.9242507909243614}, {\"index\": 116, \"date\": \"2020-09-01T00:00:00-07:00\", \"high_full_time_perc\": 5.203078839588001, \"low_full_time_perc\": 3.526922530303193}, {\"index\": 117, \"date\": \"2020-09-24T00:00:00-07:00\", \"high_full_time_perc\": 6.301603441332911, \"low_full_time_perc\": 6.702991583106672}, {\"index\": 118, \"date\": \"2020-08-08T00:00:00-07:00\", \"high_full_time_perc\": 3.6392454949481325, \"low_full_time_perc\": 3.8858703154012804}, {\"index\": 119, \"date\": \"2020-11-26T00:00:00-08:00\", \"high_full_time_perc\": 3.622845717235334, \"low_full_time_perc\": 4.391850547597379}, {\"index\": 120, \"date\": \"2020-04-23T00:00:00-07:00\", \"high_full_time_perc\": 3.945548390350832, \"low_full_time_perc\": 3.068539107204641}, {\"index\": 121, \"date\": \"2020-04-03T00:00:00-07:00\", \"high_full_time_perc\": 4.307009179497865, \"low_full_time_perc\": 4.479970280955516}, {\"index\": 122, \"date\": \"2020-07-03T00:00:00-07:00\", \"high_full_time_perc\": 3.4463862905441927, \"low_full_time_perc\": 3.778676856116583}, {\"index\": 123, \"date\": \"2020-09-11T00:00:00-07:00\", \"high_full_time_perc\": 5.124830238085578, \"low_full_time_perc\": 3.4127542876786676}, {\"index\": 124, \"date\": \"2020-08-23T00:00:00-07:00\", \"high_full_time_perc\": 3.5634604660382503, \"low_full_time_perc\": 3.9098324514991183}, {\"index\": 125, \"date\": \"2020-12-13T00:00:00-08:00\", \"high_full_time_perc\": 3.9189775702379923, \"low_full_time_perc\": 3.6365144088763484}, {\"index\": 126, \"date\": \"2020-08-09T00:00:00-07:00\", \"high_full_time_perc\": 3.241572352653846, \"low_full_time_perc\": 3.1134527662507083}, {\"index\": 127, \"date\": \"2020-10-28T00:00:00-07:00\", \"high_full_time_perc\": 6.40237564887599, \"low_full_time_perc\": 3.3326740004311035}, {\"index\": 128, \"date\": \"2020-06-06T00:00:00-07:00\", \"high_full_time_perc\": 2.999294718770072, \"low_full_time_perc\": 3.5184154582082265}, {\"index\": 129, \"date\": \"2020-06-28T00:00:00-07:00\", \"high_full_time_perc\": 3.723186669737333, \"low_full_time_perc\": 5.094837716041269}, {\"index\": 130, \"date\": \"2020-01-07T00:00:00-08:00\", \"high_full_time_perc\": 6.450879510671426, \"low_full_time_perc\": 1.5628645690002243}, {\"index\": 131, \"date\": \"2020-03-31T00:00:00-07:00\", \"high_full_time_perc\": 5.738369925030126, \"low_full_time_perc\": 4.6086780727138335}, {\"index\": 132, \"date\": \"2020-11-06T00:00:00-08:00\", \"high_full_time_perc\": 4.78774706234255, \"low_full_time_perc\": 3.4832780574710305}, {\"index\": 133, \"date\": \"2020-07-15T00:00:00-07:00\", \"high_full_time_perc\": 4.686082804923115, \"low_full_time_perc\": 2.7446502236418207}, {\"index\": 134, \"date\": \"2020-07-21T00:00:00-07:00\", \"high_full_time_perc\": 6.098855949580253, \"low_full_time_perc\": 5.958790291178535}, {\"index\": 135, \"date\": \"2020-07-28T00:00:00-07:00\", \"high_full_time_perc\": 5.349727238928012, \"low_full_time_perc\": 5.111059593878668}, {\"index\": 136, \"date\": \"2020-09-13T00:00:00-07:00\", \"high_full_time_perc\": 3.3823083445102067, \"low_full_time_perc\": 3.9180695847362514}, {\"index\": 137, \"date\": \"2020-12-23T00:00:00-08:00\", \"high_full_time_perc\": 4.68453733124621, \"low_full_time_perc\": 3.4554929949945747}, {\"index\": 138, \"date\": \"2020-08-22T00:00:00-07:00\", \"high_full_time_perc\": 3.6458620892033764, \"low_full_time_perc\": 4.106361850958667}, {\"index\": 139, \"date\": \"2020-09-23T00:00:00-07:00\", \"high_full_time_perc\": 5.643255911517075, \"low_full_time_perc\": 6.444477080662383}, {\"index\": 140, \"date\": \"2020-10-30T00:00:00-07:00\", \"high_full_time_perc\": 4.799166207673035, \"low_full_time_perc\": 3.341682416838088}, {\"index\": 141, \"date\": \"2020-11-09T00:00:00-08:00\", \"high_full_time_perc\": 6.650158780902031, \"low_full_time_perc\": 3.8432815325905896}, {\"index\": 142, \"date\": \"2020-12-30T00:00:00-08:00\", \"high_full_time_perc\": 4.241250085218396, \"low_full_time_perc\": 4.7633252548866345}, {\"index\": 143, \"date\": \"2020-01-27T00:00:00-08:00\", \"high_full_time_perc\": 8.37112973697994, \"low_full_time_perc\": 3.8283226811787667}, {\"index\": 144, \"date\": \"2020-07-26T00:00:00-07:00\", \"high_full_time_perc\": 3.0040650961879285, \"low_full_time_perc\": 4.854010611931704}, {\"index\": 145, \"date\": \"2020-09-04T00:00:00-07:00\", \"high_full_time_perc\": 5.853621062965668, \"low_full_time_perc\": 5.1062158625209}, {\"index\": 146, \"date\": \"2020-12-19T00:00:00-08:00\", \"high_full_time_perc\": 3.3026490685005228, \"low_full_time_perc\": 4.071751640146681}, {\"index\": 147, \"date\": \"2020-06-18T00:00:00-07:00\", \"high_full_time_perc\": 5.3220377680861475, \"low_full_time_perc\": 6.141488561988838}, {\"index\": 148, \"date\": \"2020-08-20T00:00:00-07:00\", \"high_full_time_perc\": 5.125485801307331, \"low_full_time_perc\": 4.402506449187148}, {\"index\": 149, \"date\": \"2020-10-01T00:00:00-07:00\", \"high_full_time_perc\": 5.960691753811485, \"low_full_time_perc\": 3.734033074418351}, {\"index\": 150, \"date\": \"2020-09-16T00:00:00-07:00\", \"high_full_time_perc\": 6.207133011062825, \"low_full_time_perc\": 5.071311336985318}, {\"index\": 151, \"date\": \"2020-03-15T00:00:00-07:00\", \"high_full_time_perc\": 3.1010956932661475, \"low_full_time_perc\": 2.289303186909531}, {\"index\": 152, \"date\": \"2020-03-25T00:00:00-07:00\", \"high_full_time_perc\": 4.285714858494401, \"low_full_time_perc\": 2.1246911293126867}, {\"index\": 153, \"date\": \"2020-12-20T00:00:00-08:00\", \"high_full_time_perc\": 3.1511253918376205, \"low_full_time_perc\": 4.595025531409886}, {\"index\": 154, \"date\": \"2020-12-28T00:00:00-08:00\", \"high_full_time_perc\": 5.61375603438934, \"low_full_time_perc\": 4.064940479062965}, {\"index\": 155, \"date\": \"2020-04-01T00:00:00-07:00\", \"high_full_time_perc\": 4.5081231171836995, \"low_full_time_perc\": 2.3013471578314015}, {\"index\": 156, \"date\": \"2020-04-27T00:00:00-07:00\", \"high_full_time_perc\": 5.744492897336429, \"low_full_time_perc\": 3.2739676310761396}, {\"index\": 157, \"date\": \"2020-06-21T00:00:00-07:00\", \"high_full_time_perc\": 2.909010407610639, \"low_full_time_perc\": 3.3667206851596125}, {\"index\": 158, \"date\": \"2020-11-08T00:00:00-08:00\", \"high_full_time_perc\": 2.8117929207298995, \"low_full_time_perc\": 2.892222765763658}, {\"index\": 159, \"date\": \"2020-12-09T00:00:00-08:00\", \"high_full_time_perc\": 5.959526759943443, \"low_full_time_perc\": 4.232097061044429}, {\"index\": 160, \"date\": \"2020-01-10T00:00:00-08:00\", \"high_full_time_perc\": 5.716900570233238, \"low_full_time_perc\": 2.30730703355742}, {\"index\": 161, \"date\": \"2020-04-07T00:00:00-07:00\", \"high_full_time_perc\": 4.838679524224797, \"low_full_time_perc\": 2.5175679725321145}, {\"index\": 162, \"date\": \"2020-05-18T00:00:00-07:00\", \"high_full_time_perc\": 4.256210771474714, \"low_full_time_perc\": 2.8908525999507377}, {\"index\": 163, \"date\": \"2020-05-27T00:00:00-07:00\", \"high_full_time_perc\": 4.590467393562136, \"low_full_time_perc\": 3.218734528258338}, {\"index\": 164, \"date\": \"2020-10-03T00:00:00-07:00\", \"high_full_time_perc\": 3.162661899159477, \"low_full_time_perc\": 3.8552591371631215}, {\"index\": 165, \"date\": \"2020-01-15T00:00:00-08:00\", \"high_full_time_perc\": 8.357444260008048, \"low_full_time_perc\": 3.434767901872329}, {\"index\": 166, \"date\": \"2020-03-06T00:00:00-08:00\", \"high_full_time_perc\": 7.467452279465096, \"low_full_time_perc\": 3.122955088445523}, {\"index\": 167, \"date\": \"2020-07-09T00:00:00-07:00\", \"high_full_time_perc\": 6.361949503340248, \"low_full_time_perc\": 6.084681490299078}, {\"index\": 168, \"date\": \"2020-12-01T00:00:00-08:00\", \"high_full_time_perc\": 5.740722509224563, \"low_full_time_perc\": 3.5358141341805456}, {\"index\": 169, \"date\": \"2020-06-10T00:00:00-07:00\", \"high_full_time_perc\": 5.085944995076472, \"low_full_time_perc\": 3.1739045322064734}, {\"index\": 170, \"date\": \"2020-07-06T00:00:00-07:00\", \"high_full_time_perc\": 5.223143968097804, \"low_full_time_perc\": 4.063597892239816}, {\"index\": 171, \"date\": \"2020-05-23T00:00:00-07:00\", \"high_full_time_perc\": 3.30899890185188, \"low_full_time_perc\": 7.587127941865248}, {\"index\": 172, \"date\": \"2020-07-23T00:00:00-07:00\", \"high_full_time_perc\": 4.332417972834818, \"low_full_time_perc\": 3.391477163028887}, {\"index\": 173, \"date\": \"2020-02-15T00:00:00-08:00\", \"high_full_time_perc\": 2.81664207785477, \"low_full_time_perc\": 2.184910329623566}, {\"index\": 174, \"date\": \"2020-01-01T00:00:00-08:00\", \"high_full_time_perc\": 3.043624498653728, \"low_full_time_perc\": 2.7511671694587987}, {\"index\": 175, \"date\": \"2020-01-20T00:00:00-08:00\", \"high_full_time_perc\": 4.574587732665649, \"low_full_time_perc\": 3.2876128064562637}, {\"index\": 176, \"date\": \"2020-05-24T00:00:00-07:00\", \"high_full_time_perc\": 3.0962979864747635, \"low_full_time_perc\": 2.986766249320051}, {\"index\": 177, \"date\": \"2020-07-31T00:00:00-07:00\", \"high_full_time_perc\": 4.394734853120832, \"low_full_time_perc\": 3.868660248580577}, {\"index\": 178, \"date\": \"2020-09-14T00:00:00-07:00\", \"high_full_time_perc\": 5.447353311639759, \"low_full_time_perc\": 4.3591587390248705}, {\"index\": 179, \"date\": \"2020-07-01T00:00:00-07:00\", \"high_full_time_perc\": 5.170674907533923, \"low_full_time_perc\": 4.573245137299208}, {\"index\": 180, \"date\": \"2020-07-04T00:00:00-07:00\", \"high_full_time_perc\": 3.8317532807398367, \"low_full_time_perc\": 5.229757226203582}, {\"index\": 181, \"date\": \"2020-07-12T00:00:00-07:00\", \"high_full_time_perc\": 3.2054551144858308, \"low_full_time_perc\": 4.625282363665518}, {\"index\": 182, \"date\": \"2020-12-03T00:00:00-08:00\", \"high_full_time_perc\": 5.967649665603196, \"low_full_time_perc\": 3.166234696457717}, {\"index\": 183, \"date\": \"2020-02-28T00:00:00-08:00\", \"high_full_time_perc\": 6.556209437464788, \"low_full_time_perc\": 2.365657132851868}, {\"index\": 184, \"date\": \"2020-10-27T00:00:00-07:00\", \"high_full_time_perc\": 6.952789771103538, \"low_full_time_perc\": 7.622333762251575}, {\"index\": 185, \"date\": \"2020-04-14T00:00:00-07:00\", \"high_full_time_perc\": 4.473763161221495, \"low_full_time_perc\": 3.3850613885291594}, {\"index\": 186, \"date\": \"2020-05-06T00:00:00-07:00\", \"high_full_time_perc\": 4.882096438413313, \"low_full_time_perc\": 3.1204426440569315}, {\"index\": 187, \"date\": \"2020-06-01T00:00:00-07:00\", \"high_full_time_perc\": 4.597929183456768, \"low_full_time_perc\": 3.5325930982512452}, {\"index\": 188, \"date\": \"2020-09-03T00:00:00-07:00\", \"high_full_time_perc\": 6.002629900087351, \"low_full_time_perc\": 3.3402046901415017}, {\"index\": 189, \"date\": \"2020-03-16T00:00:00-07:00\", \"high_full_time_perc\": 6.712908376619352, \"low_full_time_perc\": 2.357695902771202}, {\"index\": 190, \"date\": \"2020-05-07T00:00:00-07:00\", \"high_full_time_perc\": 5.1842443186813885, \"low_full_time_perc\": 4.112443897900086}, {\"index\": 191, \"date\": \"2020-07-08T00:00:00-07:00\", \"high_full_time_perc\": 4.911961890470466, \"low_full_time_perc\": 3.5438998811838287}, {\"index\": 192, \"date\": \"2020-08-05T00:00:00-07:00\", \"high_full_time_perc\": 4.7698712291405085, \"low_full_time_perc\": 3.5746107561627145}, {\"index\": 193, \"date\": \"2020-11-01T00:00:00-07:00\", \"high_full_time_perc\": 6.188516206305858, \"low_full_time_perc\": 7.878446197984248}, {\"index\": 194, \"date\": \"2020-09-05T00:00:00-07:00\", \"high_full_time_perc\": 3.8297324098056866, \"low_full_time_perc\": 3.82455144377875}, {\"index\": 195, \"date\": \"2020-11-14T00:00:00-08:00\", \"high_full_time_perc\": 3.1340047521177676, \"low_full_time_perc\": 2.6721303077214764}, {\"index\": 196, \"date\": \"2020-12-14T00:00:00-08:00\", \"high_full_time_perc\": 5.481920795403807, \"low_full_time_perc\": 3.0186948522975787}, {\"index\": 197, \"date\": \"2020-06-17T00:00:00-07:00\", \"high_full_time_perc\": 4.826935293403454, \"low_full_time_perc\": 2.737040662181075}, {\"index\": 198, \"date\": \"2020-11-29T00:00:00-08:00\", \"high_full_time_perc\": 3.402882904259734, \"low_full_time_perc\": 3.899130699322713}, {\"index\": 199, \"date\": \"2020-05-16T00:00:00-07:00\", \"high_full_time_perc\": 3.1161528602847977, \"low_full_time_perc\": 3.4031316541248993}, {\"index\": 200, \"date\": \"2020-01-05T00:00:00-08:00\", \"high_full_time_perc\": 2.9736680325843863, \"low_full_time_perc\": 1.6910272844403305}, {\"index\": 201, \"date\": \"2020-03-28T00:00:00-07:00\", \"high_full_time_perc\": 2.9351129090276737, \"low_full_time_perc\": 2.5641642492891927}, {\"index\": 202, \"date\": \"2020-09-10T00:00:00-07:00\", \"high_full_time_perc\": 5.833822620068414, \"low_full_time_perc\": 6.033864099566186}, {\"index\": 203, \"date\": \"2020-04-16T00:00:00-07:00\", \"high_full_time_perc\": 5.151497862714117, \"low_full_time_perc\": 4.107078210291531}, {\"index\": 204, \"date\": \"2020-08-18T00:00:00-07:00\", \"high_full_time_perc\": 5.881943925079108, \"low_full_time_perc\": 4.22271961775082}, {\"index\": 205, \"date\": \"2020-09-28T00:00:00-07:00\", \"high_full_time_perc\": 5.381211431716152, \"low_full_time_perc\": 4.24623000216252}, {\"index\": 206, \"date\": \"2020-01-18T00:00:00-08:00\", \"high_full_time_perc\": 3.194384088597267, \"low_full_time_perc\": 2.4934310253836562}, {\"index\": 207, \"date\": \"2020-02-10T00:00:00-08:00\", \"high_full_time_perc\": 6.820418400054139, \"low_full_time_perc\": 2.790671075862747}, {\"index\": 208, \"date\": \"2020-05-03T00:00:00-07:00\", \"high_full_time_perc\": 3.3480085554178562, \"low_full_time_perc\": 4.816479449442682}, {\"index\": 209, \"date\": \"2020-10-23T00:00:00-07:00\", \"high_full_time_perc\": 4.995704666757288, \"low_full_time_perc\": 3.9645027251011697}, {\"index\": 210, \"date\": \"2020-11-24T00:00:00-08:00\", \"high_full_time_perc\": 4.917697319054266, \"low_full_time_perc\": 2.2870173883565372}, {\"index\": 211, \"date\": \"2020-07-27T00:00:00-07:00\", \"high_full_time_perc\": 6.051765067544845, \"low_full_time_perc\": 4.960747165729003}, {\"index\": 212, \"date\": \"2020-08-16T00:00:00-07:00\", \"high_full_time_perc\": 3.19025755603773, \"low_full_time_perc\": 5.239068715902281}, {\"index\": 213, \"date\": \"2020-01-03T00:00:00-08:00\", \"high_full_time_perc\": 5.236121668942724, \"low_full_time_perc\": 2.045494266467542}, {\"index\": 214, \"date\": \"2020-02-13T00:00:00-08:00\", \"high_full_time_perc\": 6.642280633844201, \"low_full_time_perc\": 2.0485379459349464}, {\"index\": 215, \"date\": \"2020-11-05T00:00:00-08:00\", \"high_full_time_perc\": 5.49066525404541, \"low_full_time_perc\": 3.824682541920445}, {\"index\": 216, \"date\": \"2020-04-09T00:00:00-07:00\", \"high_full_time_perc\": 4.623878104927677, \"low_full_time_perc\": 2.5228461114470146}, {\"index\": 217, \"date\": \"2020-06-20T00:00:00-07:00\", \"high_full_time_perc\": 3.5194266646571015, \"low_full_time_perc\": 4.377484259722653}, {\"index\": 218, \"date\": \"2020-09-25T00:00:00-07:00\", \"high_full_time_perc\": 5.152963139327511, \"low_full_time_perc\": 4.309747260727653}, {\"index\": 219, \"date\": \"2020-02-25T00:00:00-08:00\", \"high_full_time_perc\": 2.47988802130546, \"low_full_time_perc\": 1.4499036807743493}, {\"index\": 220, \"date\": \"2020-05-08T00:00:00-07:00\", \"high_full_time_perc\": 4.562975779075052, \"low_full_time_perc\": 4.000294855047837}, {\"index\": 221, \"date\": \"2020-07-11T00:00:00-07:00\", \"high_full_time_perc\": 3.9806081183591515, \"low_full_time_perc\": 4.185162385728929}, {\"index\": 222, \"date\": \"2020-01-26T00:00:00-08:00\", \"high_full_time_perc\": 3.147479014798603, \"low_full_time_perc\": 2.5225122103638156}, {\"index\": 223, \"date\": \"2020-04-05T00:00:00-07:00\", \"high_full_time_perc\": 2.5455641439587415, \"low_full_time_perc\": 1.7407603004161087}, {\"index\": 224, \"date\": \"2020-04-29T00:00:00-07:00\", \"high_full_time_perc\": 4.452961325538701, \"low_full_time_perc\": 3.0062448621468554}, {\"index\": 225, \"date\": \"2020-12-27T00:00:00-08:00\", \"high_full_time_perc\": 3.0314190375489085, \"low_full_time_perc\": 4.285581507042126}, {\"index\": 226, \"date\": \"2020-06-22T00:00:00-07:00\", \"high_full_time_perc\": 5.225362889746494, \"low_full_time_perc\": 6.264320069533736}, {\"index\": 227, \"date\": \"2020-03-02T00:00:00-08:00\", \"high_full_time_perc\": 8.352972998368113, \"low_full_time_perc\": 2.3930287791712868}, {\"index\": 228, \"date\": \"2020-03-05T00:00:00-08:00\", \"high_full_time_perc\": 6.981121805548957, \"low_full_time_perc\": 1.7261139391651414}, {\"index\": 229, \"date\": \"2020-09-30T00:00:00-07:00\", \"high_full_time_perc\": 7.469875176187698, \"low_full_time_perc\": 5.424281653886975}, {\"index\": 230, \"date\": \"2020-10-21T00:00:00-07:00\", \"high_full_time_perc\": 6.5436721667915485, \"low_full_time_perc\": 4.880482953341685}, {\"index\": 231, \"date\": \"2020-11-22T00:00:00-08:00\", \"high_full_time_perc\": 2.9046704124262868, \"low_full_time_perc\": 3.664739132235059}, {\"index\": 232, \"date\": \"2020-02-21T00:00:00-08:00\", \"high_full_time_perc\": 6.664000421754475, \"low_full_time_perc\": 1.8891602215916363}, {\"index\": 233, \"date\": \"2020-11-10T00:00:00-08:00\", \"high_full_time_perc\": 6.665824702974217, \"low_full_time_perc\": 4.3603927789292865}, {\"index\": 234, \"date\": \"2020-09-29T00:00:00-07:00\", \"high_full_time_perc\": 6.4643585426652646, \"low_full_time_perc\": 5.731832025744173}, {\"index\": 235, \"date\": \"2020-10-10T00:00:00-07:00\", \"high_full_time_perc\": 3.238391704159809, \"low_full_time_perc\": 3.212644986505745}, {\"index\": 236, \"date\": \"2020-06-11T00:00:00-07:00\", \"high_full_time_perc\": 5.00161069269614, \"low_full_time_perc\": 4.89059931508444}, {\"index\": 237, \"date\": \"2020-08-17T00:00:00-07:00\", \"high_full_time_perc\": 5.505699093106183, \"low_full_time_perc\": 5.179222590629163}, {\"index\": 238, \"date\": \"2020-01-11T00:00:00-08:00\", \"high_full_time_perc\": 3.091157256788237, \"low_full_time_perc\": 1.9804734094101022}, {\"index\": 239, \"date\": \"2020-01-22T00:00:00-08:00\", \"high_full_time_perc\": 6.889649893013267, \"low_full_time_perc\": 2.235795625743835}, {\"index\": 240, \"date\": \"2020-04-30T00:00:00-07:00\", \"high_full_time_perc\": 4.525718004379542, \"low_full_time_perc\": 3.055181024253284}, {\"index\": 241, \"date\": \"2020-05-13T00:00:00-07:00\", \"high_full_time_perc\": 4.6070805795776755, \"low_full_time_perc\": 3.384704716703191}, {\"index\": 242, \"date\": \"2020-10-25T00:00:00-07:00\", \"high_full_time_perc\": 3.6629163686939394, \"low_full_time_perc\": 7.176750791940238}, {\"index\": 243, \"date\": \"2020-03-20T00:00:00-07:00\", \"high_full_time_perc\": 3.929264644803193, \"low_full_time_perc\": 2.0300548401108904}, {\"index\": 244, \"date\": \"2020-06-15T00:00:00-07:00\", \"high_full_time_perc\": 4.822895616832196, \"low_full_time_perc\": 4.674954550406093}, {\"index\": 245, \"date\": \"2020-07-07T00:00:00-07:00\", \"high_full_time_perc\": 5.451578114396533, \"low_full_time_perc\": 4.465836790195793}, {\"index\": 246, \"date\": \"2020-07-29T00:00:00-07:00\", \"high_full_time_perc\": 4.5083622374766765, \"low_full_time_perc\": 3.196207728396063}, {\"index\": 247, \"date\": \"2020-11-04T00:00:00-08:00\", \"high_full_time_perc\": 5.501009135927768, \"low_full_time_perc\": 3.254883551214871}, {\"index\": 248, \"date\": \"2020-01-31T00:00:00-08:00\", \"high_full_time_perc\": 7.220467032173115, \"low_full_time_perc\": 3.026930492507024}, {\"index\": 249, \"date\": \"2020-11-02T00:00:00-08:00\", \"high_full_time_perc\": 5.5564829137823635, \"low_full_time_perc\": 3.9862998135662044}, {\"index\": 250, \"date\": \"2020-01-16T00:00:00-08:00\", \"high_full_time_perc\": 8.13113112732171, \"low_full_time_perc\": 2.343313856191834}, {\"index\": 251, \"date\": \"2020-02-26T00:00:00-08:00\", \"high_full_time_perc\": 7.436866560299304, \"low_full_time_perc\": 2.038399570182135}, {\"index\": 252, \"date\": \"2020-02-16T00:00:00-08:00\", \"high_full_time_perc\": 3.0326465977758303, \"low_full_time_perc\": 3.7809237540650114}, {\"index\": 253, \"date\": \"2020-10-06T00:00:00-07:00\", \"high_full_time_perc\": 5.4743260246590175, \"low_full_time_perc\": 3.914726627234712}, {\"index\": 254, \"date\": \"2020-10-26T00:00:00-07:00\", \"high_full_time_perc\": 5.979606005778926, \"low_full_time_perc\": 5.102048656857148}, {\"index\": 255, \"date\": \"2020-12-07T00:00:00-08:00\", \"high_full_time_perc\": 5.441829424807031, \"low_full_time_perc\": 3.2936326277600463}, {\"index\": 256, \"date\": \"2020-05-20T00:00:00-07:00\", \"high_full_time_perc\": 4.922372175076435, \"low_full_time_perc\": 5.67032307500274}, {\"index\": 257, \"date\": \"2020-09-09T00:00:00-07:00\", \"high_full_time_perc\": 5.923215294989089, \"low_full_time_perc\": 6.393563024015372}, {\"index\": 258, \"date\": \"2020-02-07T00:00:00-08:00\", \"high_full_time_perc\": 6.515305241078904, \"low_full_time_perc\": 2.136871984787886}, {\"index\": 259, \"date\": \"2020-09-08T00:00:00-07:00\", \"high_full_time_perc\": 6.00821267522399, \"low_full_time_perc\": 3.7142710075598466}, {\"index\": 260, \"date\": \"2020-02-06T00:00:00-08:00\", \"high_full_time_perc\": 8.484059830981236, \"low_full_time_perc\": 3.3233137569266966}, {\"index\": 261, \"date\": \"2020-06-05T00:00:00-07:00\", \"high_full_time_perc\": 4.553419095186168, \"low_full_time_perc\": 2.9204608633781453}, {\"index\": 262, \"date\": \"2020-10-18T00:00:00-07:00\", \"high_full_time_perc\": 3.1546470218344993, \"low_full_time_perc\": 3.979476144089703}, {\"index\": 263, \"date\": \"2020-11-20T00:00:00-08:00\", \"high_full_time_perc\": 6.127222880347151, \"low_full_time_perc\": 3.943654669845145}, {\"index\": 264, \"date\": \"2020-04-24T00:00:00-07:00\", \"high_full_time_perc\": 4.866556392129889, \"low_full_time_perc\": 2.36815532008722}, {\"index\": 265, \"date\": \"2020-12-22T00:00:00-08:00\", \"high_full_time_perc\": 4.941967187411043, \"low_full_time_perc\": 3.1346591855920036}, {\"index\": 266, \"date\": \"2020-03-17T00:00:00-07:00\", \"high_full_time_perc\": 6.214290348288054, \"low_full_time_perc\": 2.204234421918588}, {\"index\": 267, \"date\": \"2020-07-25T00:00:00-07:00\", \"high_full_time_perc\": 3.8341160602126494, \"low_full_time_perc\": 6.116613670184128}, {\"index\": 268, \"date\": \"2020-03-18T00:00:00-07:00\", \"high_full_time_perc\": 5.653659073495993, \"low_full_time_perc\": 2.3490824424168744}, {\"index\": 269, \"date\": \"2020-05-04T00:00:00-07:00\", \"high_full_time_perc\": 4.187503417319768, \"low_full_time_perc\": 2.8757716448682995}, {\"index\": 270, \"date\": \"2020-08-06T00:00:00-07:00\", \"high_full_time_perc\": 4.914658276649308, \"low_full_time_perc\": 3.523859723333546}, {\"index\": 271, \"date\": \"2020-01-09T00:00:00-08:00\", \"high_full_time_perc\": 7.574249283235998, \"low_full_time_perc\": 2.3245801807799715}, {\"index\": 272, \"date\": \"2020-05-17T00:00:00-07:00\", \"high_full_time_perc\": 3.3785366354723703, \"low_full_time_perc\": 5.019714526793185}, {\"index\": 273, \"date\": \"2020-05-31T00:00:00-07:00\", \"high_full_time_perc\": 2.8169861753768637, \"low_full_time_perc\": 2.870084719055973}, {\"index\": 274, \"date\": \"2020-06-27T00:00:00-07:00\", \"high_full_time_perc\": 3.051397844777265, \"low_full_time_perc\": 3.797977695029909}, {\"index\": 275, \"date\": \"2020-09-19T00:00:00-07:00\", \"high_full_time_perc\": 4.014003026937964, \"low_full_time_perc\": 6.5082649504683765}, {\"index\": 276, \"date\": \"2020-02-24T00:00:00-08:00\", \"high_full_time_perc\": 7.75330588633997, \"low_full_time_perc\": 2.745495321758624}, {\"index\": 277, \"date\": \"2020-03-23T00:00:00-07:00\", \"high_full_time_perc\": 4.246813494105402, \"low_full_time_perc\": 2.3179102815021593}, {\"index\": 278, \"date\": \"2020-09-07T00:00:00-07:00\", \"high_full_time_perc\": 3.748886321067376, \"low_full_time_perc\": 4.914605094932964}, {\"index\": 279, \"date\": \"2020-11-12T00:00:00-08:00\", \"high_full_time_perc\": 5.978552378446445, \"low_full_time_perc\": 4.736535077375005}, {\"index\": 280, \"date\": \"2020-05-09T00:00:00-07:00\", \"high_full_time_perc\": 3.12117840459312, \"low_full_time_perc\": 4.013582590087455}, {\"index\": 281, \"date\": \"2020-06-03T00:00:00-07:00\", \"high_full_time_perc\": 4.50973529383321, \"low_full_time_perc\": 5.082761529474318}, {\"index\": 282, \"date\": \"2020-12-16T00:00:00-08:00\", \"high_full_time_perc\": 5.296306352280602, \"low_full_time_perc\": 3.6071737307259872}, {\"index\": 283, \"date\": \"2020-09-06T00:00:00-07:00\", \"high_full_time_perc\": 2.8391549695066796, \"low_full_time_perc\": 3.112833846404952}, {\"index\": 284, \"date\": \"2020-12-10T00:00:00-08:00\", \"high_full_time_perc\": 5.597466041810711, \"low_full_time_perc\": 3.6729648408982865}, {\"index\": 285, \"date\": \"2020-02-08T00:00:00-08:00\", \"high_full_time_perc\": 3.194115216516429, \"low_full_time_perc\": 2.101276068604226}, {\"index\": 286, \"date\": \"2020-03-22T00:00:00-07:00\", \"high_full_time_perc\": 3.3851089459231187, \"low_full_time_perc\": 3.9663763617834897}, {\"index\": 287, \"date\": \"2020-08-27T00:00:00-07:00\", \"high_full_time_perc\": 5.583681495779859, \"low_full_time_perc\": 5.65217803569058}, {\"index\": 288, \"date\": \"2020-12-18T00:00:00-08:00\", \"high_full_time_perc\": 4.2705497049330186, \"low_full_time_perc\": 3.8553750389476735}, {\"index\": 289, \"date\": \"2020-03-03T00:00:00-08:00\", \"high_full_time_perc\": 7.067946655857518, \"low_full_time_perc\": 1.949624123710426}, {\"index\": 290, \"date\": \"2020-01-19T00:00:00-08:00\", \"high_full_time_perc\": 3.1209159901876484, \"low_full_time_perc\": 3.7734552323764206}, {\"index\": 291, \"date\": \"2020-04-20T00:00:00-07:00\", \"high_full_time_perc\": 4.017920886666956, \"low_full_time_perc\": 2.1606636533372665}, {\"index\": 292, \"date\": \"2020-06-08T00:00:00-07:00\", \"high_full_time_perc\": 4.794648858189145, \"low_full_time_perc\": 3.525616535085006}, {\"index\": 293, \"date\": \"2020-10-05T00:00:00-07:00\", \"high_full_time_perc\": 5.503237276299026, \"low_full_time_perc\": 3.8442459859837075}, {\"index\": 294, \"date\": \"2020-01-23T00:00:00-08:00\", \"high_full_time_perc\": 7.702696973566745, \"low_full_time_perc\": 2.802533114718354}, {\"index\": 295, \"date\": \"2020-02-27T00:00:00-08:00\", \"high_full_time_perc\": 7.37174531761712, \"low_full_time_perc\": 2.047960679645032}, {\"index\": 296, \"date\": \"2020-07-05T00:00:00-07:00\", \"high_full_time_perc\": 3.8215960748034425, \"low_full_time_perc\": 3.896920065277313}, {\"index\": 297, \"date\": \"2020-12-05T00:00:00-08:00\", \"high_full_time_perc\": 3.115415728514201, \"low_full_time_perc\": 3.224326390826502}, {\"index\": 298, \"date\": \"2020-12-11T00:00:00-08:00\", \"high_full_time_perc\": 5.760174789670339, \"low_full_time_perc\": 2.9762788724421805}, {\"index\": 299, \"date\": \"2020-02-03T00:00:00-08:00\", \"high_full_time_perc\": 7.3829646797814545, \"low_full_time_perc\": 1.7428436870153994}, {\"index\": 300, \"date\": \"2020-03-27T00:00:00-07:00\", \"high_full_time_perc\": 5.215343445460488, \"low_full_time_perc\": 2.543451205119081}, {\"index\": 301, \"date\": \"2020-04-04T00:00:00-07:00\", \"high_full_time_perc\": 3.190504982960382, \"low_full_time_perc\": 2.3607122638274802}, {\"index\": 302, \"date\": \"2020-07-17T00:00:00-07:00\", \"high_full_time_perc\": 4.777796896087897, \"low_full_time_perc\": 3.4371281891767604}, {\"index\": 303, \"date\": \"2020-09-21T00:00:00-07:00\", \"high_full_time_perc\": 5.947876460367073, \"low_full_time_perc\": 5.065250298445551}, {\"index\": 304, \"date\": \"2020-11-17T00:00:00-08:00\", \"high_full_time_perc\": 5.567003122895506, \"low_full_time_perc\": 2.7976691544810968}, {\"index\": 305, \"date\": \"2020-02-22T00:00:00-08:00\", \"high_full_time_perc\": 2.674448509408855, \"low_full_time_perc\": 1.8149981377334226}, {\"index\": 306, \"date\": \"2020-12-08T00:00:00-08:00\", \"high_full_time_perc\": 4.848420326582653, \"low_full_time_perc\": 3.357443723469592}, {\"index\": 307, \"date\": \"2020-01-28T00:00:00-08:00\", \"high_full_time_perc\": 8.037913008529106, \"low_full_time_perc\": 5.063888285988913}, {\"index\": 308, \"date\": \"2020-02-17T00:00:00-08:00\", \"high_full_time_perc\": 3.946778237082195, \"low_full_time_perc\": 2.4006836324238874}, {\"index\": 309, \"date\": \"2020-04-21T00:00:00-07:00\", \"high_full_time_perc\": 5.172203525906788, \"low_full_time_perc\": 3.241478667765618}, {\"index\": 310, \"date\": \"2020-08-02T00:00:00-07:00\", \"high_full_time_perc\": 4.798052588630035, \"low_full_time_perc\": 5.5183507769408005}, {\"index\": 311, \"date\": \"2020-08-15T00:00:00-07:00\", \"high_full_time_perc\": 4.196554704302595, \"low_full_time_perc\": 6.371178391169815}, {\"index\": 312, \"date\": \"2020-08-30T00:00:00-07:00\", \"high_full_time_perc\": 3.9054203609516667, \"low_full_time_perc\": 4.865635441956994}, {\"index\": 313, \"date\": \"2020-10-14T00:00:00-07:00\", \"high_full_time_perc\": 6.635594417467811, \"low_full_time_perc\": 5.4942426413917955}, {\"index\": 314, \"date\": \"2020-01-02T00:00:00-08:00\", \"high_full_time_perc\": 4.570458250523095, \"low_full_time_perc\": 3.505890295903644}, {\"index\": 315, \"date\": \"2020-01-24T00:00:00-08:00\", \"high_full_time_perc\": 7.828006607985427, \"low_full_time_perc\": 4.609352887505612}, {\"index\": 316, \"date\": \"2020-04-08T00:00:00-07:00\", \"high_full_time_perc\": 3.9643740474441413, \"low_full_time_perc\": 2.7851641343094693}, {\"index\": 317, \"date\": \"2020-06-26T00:00:00-07:00\", \"high_full_time_perc\": 5.479564312568044, \"low_full_time_perc\": 4.215170766988527}, {\"index\": 318, \"date\": \"2020-08-19T00:00:00-07:00\", \"high_full_time_perc\": 5.177652566960456, \"low_full_time_perc\": 4.262341432395998}, {\"index\": 319, \"date\": \"2020-11-18T00:00:00-08:00\", \"high_full_time_perc\": 5.164195186841764, \"low_full_time_perc\": 2.883393739813727}, {\"index\": 320, \"date\": \"2020-02-20T00:00:00-08:00\", \"high_full_time_perc\": 8.101158123959246, \"low_full_time_perc\": 3.6891583503135337}, {\"index\": 321, \"date\": \"2020-11-27T00:00:00-08:00\", \"high_full_time_perc\": 3.5967282770335416, \"low_full_time_perc\": 3.5243460656477725}, {\"index\": 322, \"date\": \"2020-12-17T00:00:00-08:00\", \"high_full_time_perc\": 5.620408037286837, \"low_full_time_perc\": 4.418301495538284}, {\"index\": 323, \"date\": \"2020-07-20T00:00:00-07:00\", \"high_full_time_perc\": 4.856480228237267, \"low_full_time_perc\": 4.240411718775111}, {\"index\": 324, \"date\": \"2020-12-02T00:00:00-08:00\", \"high_full_time_perc\": 5.120554297286363, \"low_full_time_perc\": 3.5171172460713946}, {\"index\": 325, \"date\": \"2020-03-21T00:00:00-07:00\", \"high_full_time_perc\": 2.996269348758118, \"low_full_time_perc\": 1.8775004857716036}, {\"index\": 326, \"date\": \"2020-05-21T00:00:00-07:00\", \"high_full_time_perc\": 4.28340307396657, \"low_full_time_perc\": 4.096340546088974}, {\"index\": 327, \"date\": \"2020-11-03T00:00:00-08:00\", \"high_full_time_perc\": 4.907243675264552, \"low_full_time_perc\": 4.100426908469371}, {\"index\": 328, \"date\": \"2020-05-02T00:00:00-07:00\", \"high_full_time_perc\": 2.9015058365058066, \"low_full_time_perc\": 3.492549629086623}, {\"index\": 329, \"date\": \"2020-11-11T00:00:00-08:00\", \"high_full_time_perc\": 4.717069339456891, \"low_full_time_perc\": 3.2740439075127425}, {\"index\": 330, \"date\": \"2020-02-23T00:00:00-08:00\", \"high_full_time_perc\": 2.298265022093618, \"low_full_time_perc\": 1.5297965323930862}, {\"index\": 331, \"date\": \"2020-05-28T00:00:00-07:00\", \"high_full_time_perc\": 4.376937659979192, \"low_full_time_perc\": 4.504749424657891}, {\"index\": 332, \"date\": \"2020-05-30T00:00:00-07:00\", \"high_full_time_perc\": 2.981846593020728, \"low_full_time_perc\": 3.4384550133513816}, {\"index\": 333, \"date\": \"2020-01-17T00:00:00-08:00\", \"high_full_time_perc\": 7.636762111295985, \"low_full_time_perc\": 3.4837758870765976}, {\"index\": 334, \"date\": \"2020-09-15T00:00:00-07:00\", \"high_full_time_perc\": 7.318817259885174, \"low_full_time_perc\": 7.345616222919544}, {\"index\": 335, \"date\": \"2020-04-13T00:00:00-07:00\", \"high_full_time_perc\": 4.278559932372432, \"low_full_time_perc\": 2.3525246599081986}, {\"index\": 336, \"date\": \"2020-05-15T00:00:00-07:00\", \"high_full_time_perc\": 4.334099193045654, \"low_full_time_perc\": 3.3232653775766643}, {\"index\": 337, \"date\": \"2020-06-07T00:00:00-07:00\", \"high_full_time_perc\": 3.0355063752228624, \"low_full_time_perc\": 3.617925603486166}, {\"index\": 338, \"date\": \"2020-02-09T00:00:00-08:00\", \"high_full_time_perc\": 2.5539524423131073, \"low_full_time_perc\": 1.4134942904767305}, {\"index\": 339, \"date\": \"2020-06-09T00:00:00-07:00\", \"high_full_time_perc\": 4.7767770501246325, \"low_full_time_perc\": 5.119785881626324}, {\"index\": 340, \"date\": \"2020-02-14T00:00:00-08:00\", \"high_full_time_perc\": 6.056708974372557, \"low_full_time_perc\": 2.2722275176272793}, {\"index\": 341, \"date\": \"2020-04-18T00:00:00-07:00\", \"high_full_time_perc\": 3.310659315649586, \"low_full_time_perc\": 2.1162146368348833}, {\"index\": 342, \"date\": \"2020-07-24T00:00:00-07:00\", \"high_full_time_perc\": 5.2144775297028145, \"low_full_time_perc\": 6.73335420341424}, {\"index\": 343, \"date\": \"2020-07-30T00:00:00-07:00\", \"high_full_time_perc\": 4.41416490697743, \"low_full_time_perc\": 3.1893507477458747}, {\"index\": 344, \"date\": \"2020-02-19T00:00:00-08:00\", \"high_full_time_perc\": 7.371330886628268, \"low_full_time_perc\": 2.7518468493282513}, {\"index\": 345, \"date\": \"2020-06-25T00:00:00-07:00\", \"high_full_time_perc\": 5.664943877176299, \"low_full_time_perc\": 5.435042723380689}, {\"index\": 346, \"date\": \"2020-08-10T00:00:00-07:00\", \"high_full_time_perc\": 5.944269426151817, \"low_full_time_perc\": 4.564855679510254}, {\"index\": 347, \"date\": \"2020-04-17T00:00:00-07:00\", \"high_full_time_perc\": 4.183294113786527, \"low_full_time_perc\": 3.220618241878054}, {\"index\": 348, \"date\": \"2020-12-04T00:00:00-08:00\", \"high_full_time_perc\": 4.768047410003459, \"low_full_time_perc\": 3.6455380805226008}, {\"index\": 349, \"date\": \"2020-10-22T00:00:00-07:00\", \"high_full_time_perc\": 7.486889122010417, \"low_full_time_perc\": 5.335842638710023}, {\"index\": 350, \"date\": \"2020-09-17T00:00:00-07:00\", \"high_full_time_perc\": 6.106634383141382, \"low_full_time_perc\": 5.6395759424894525}, {\"index\": 351, \"date\": \"2020-04-11T00:00:00-07:00\", \"high_full_time_perc\": 2.73657497794246, \"low_full_time_perc\": 2.2505650409035294}, {\"index\": 352, \"date\": \"2020-01-30T00:00:00-08:00\", \"high_full_time_perc\": 8.146693429450579, \"low_full_time_perc\": 3.939957334205358}, {\"index\": 353, \"date\": \"2020-10-07T00:00:00-07:00\", \"high_full_time_perc\": 5.330275808901255, \"low_full_time_perc\": 3.2283903736194333}, {\"index\": 354, \"date\": \"2020-05-14T00:00:00-07:00\", \"high_full_time_perc\": 4.499808281112226, \"low_full_time_perc\": 3.4675509718336532}, {\"index\": 355, \"date\": \"2020-07-13T00:00:00-07:00\", \"high_full_time_perc\": 5.585200304793461, \"low_full_time_perc\": 7.067834923374896}, {\"index\": 356, \"date\": \"2020-08-14T00:00:00-07:00\", \"high_full_time_perc\": 6.45910758425031, \"low_full_time_perc\": 6.498014130191333}, {\"index\": 357, \"date\": \"2020-08-21T00:00:00-07:00\", \"high_full_time_perc\": 4.808347438135534, \"low_full_time_perc\": 5.937357963673753}, {\"index\": 358, \"date\": \"2020-08-31T00:00:00-07:00\", \"high_full_time_perc\": 6.117542233224469, \"low_full_time_perc\": 4.633694417656544}, {\"index\": 359, \"date\": \"2020-08-01T00:00:00-07:00\", \"high_full_time_perc\": 2.9628775371521976, \"low_full_time_perc\": 3.91668843793944}, {\"index\": 360, \"date\": \"2020-02-11T00:00:00-08:00\", \"high_full_time_perc\": 7.901124097621481, \"low_full_time_perc\": 3.311072014568209}, {\"index\": 361, \"date\": \"2020-04-28T00:00:00-07:00\", \"high_full_time_perc\": 4.880113914211017, \"low_full_time_perc\": 2.720581156327543}, {\"index\": 362, \"date\": \"2020-05-26T00:00:00-07:00\", \"high_full_time_perc\": 4.190715906059195, \"low_full_time_perc\": 3.6208970124481406}, {\"index\": 363, \"date\": \"2020-06-13T00:00:00-07:00\", \"high_full_time_perc\": 3.5232415665782866, \"low_full_time_perc\": 4.947849551480983}, {\"index\": 364, \"date\": \"2020-08-28T00:00:00-07:00\", \"high_full_time_perc\": 5.058343853596798, \"low_full_time_perc\": 6.824693391397763}, {\"index\": 365, \"date\": \"2020-11-28T00:00:00-08:00\", \"high_full_time_perc\": 3.357163606282574, \"low_full_time_perc\": 4.2697491872236}]}}, {\"mode\": \"vega-lite\"});\n",
              "</script>"
            ]
          },
          "metadata": {
            "tags": []
          },
          "execution_count": 34
        },
        {
          "output_type": "stream",
          "text": [
            "time: 68.8 ms (started: 2021-04-16 02:00:22 +00:00)\n"
          ],
          "name": "stdout"
        }
      ]
    },
    {
      "cell_type": "code",
      "metadata": {
        "id": "Nx5aIy1QFsKS",
        "colab": {
          "base_uri": "https://localhost:8080/"
        },
        "outputId": "61ceb8aa-9e05-463e-8265-965289755e47"
      },
      "source": [
        "# alt.Chart(result_mean_df).mark_bar(size=30).encode(\n",
        "#     alt.X('poverty_percentage:N'),\n",
        "#     alt.Y('mean_completely_home_percentage'),\n",
        "#     color = alt.Color('color',scale=None),\n",
        "#     tooltip=[alt.Tooltip('poverty_percentage'),\n",
        "#              alt.Tooltip('mean_completely_home_percentage')]\n",
        "# ).properties(width=400, height=400).interactive()"
      ],
      "execution_count": 29,
      "outputs": [
        {
          "output_type": "stream",
          "text": [
            "time: 3.16 ms (started: 2021-04-16 01:45:05 +00:00)\n"
          ],
          "name": "stdout"
        }
      ]
    },
    {
      "cell_type": "code",
      "metadata": {
        "id": "BLlodBHxPY4n",
        "colab": {
          "base_uri": "https://localhost:8080/"
        },
        "outputId": "91031cd4-18cc-4566-9c31-5cd7a0030a3f"
      },
      "source": [
        "# #\n",
        "# alt.Chart(result_mean_df).mark_point().encode(\n",
        "#     alt.X('poverty_percentage:N'),\n",
        "#     alt.Y('mean_completely_home_percentage'),\n",
        "#     color = alt.Color('color',scale=None),\n",
        "#     tooltip=[alt.Tooltip('poverty_percentage'),\n",
        "#              alt.Tooltip('mean_completely_home_percentage')]\n",
        "# ).properties(width=400, height=400).interactive()\n",
        "\n"
      ],
      "execution_count": 30,
      "outputs": [
        {
          "output_type": "stream",
          "text": [
            "time: 2.63 ms (started: 2021-04-16 01:45:05 +00:00)\n"
          ],
          "name": "stdout"
        }
      ]
    },
    {
      "cell_type": "code",
      "metadata": {
        "id": "AES-w9IdUzff",
        "colab": {
          "base_uri": "https://localhost:8080/"
        },
        "outputId": "db5bfd60-483f-4f0e-c74b-e4b6302c6197"
      },
      "source": [
        "# result_df['poverty_percentage'].astype(float).dtype"
      ],
      "execution_count": 31,
      "outputs": [
        {
          "output_type": "stream",
          "text": [
            "time: 3.18 ms (started: 2021-04-16 01:45:05 +00:00)\n"
          ],
          "name": "stdout"
        }
      ]
    },
    {
      "cell_type": "code",
      "metadata": {
        "id": "eCgNqN8QjwbK",
        "colab": {
          "base_uri": "https://localhost:8080/"
        },
        "outputId": "5d06f1a8-3752-4497-c7af-38ac31e74f5c"
      },
      "source": [
        "# #\n",
        "# alt.Chart(result_mean_df).mark_point().encode(\n",
        "#     alt.X('poverty_percentage:N'),\n",
        "#     alt.Y('mean_full_time_work_percentage'),\n",
        "#     color = alt.Color('color',scale=None),\n",
        "#     tooltip=[alt.Tooltip('poverty_percentage'),\n",
        "#              alt.Tooltip('mean_full_time_work_percentage')]\n",
        "# ).properties(width=400, height=400).interactive()"
      ],
      "execution_count": 32,
      "outputs": [
        {
          "output_type": "stream",
          "text": [
            "time: 3.87 ms (started: 2021-04-16 01:45:05 +00:00)\n"
          ],
          "name": "stdout"
        }
      ]
    },
    {
      "cell_type": "code",
      "metadata": {
        "id": "Emo5JcdLdlku",
        "colab": {
          "base_uri": "https://localhost:8080/"
        },
        "outputId": "223d36f3-87b7-44e5-cd5c-56dfee9c3729"
      },
      "source": [
        "# #\n",
        "# alt.Chart(result_mean_df).mark_point().encode(\n",
        "#     alt.X('poverty_percentage:N'),\n",
        "#     alt.Y('mean_part_time_work_percentage'),\n",
        "#     color = alt.Color('color',scale=None),\n",
        "#     tooltip=[alt.Tooltip('poverty_percentage'),\n",
        "#              alt.Tooltip('mean_part_time_work_percentage')]\n",
        "# ).properties(width=400, height=400).interactive()"
      ],
      "execution_count": 33,
      "outputs": [
        {
          "output_type": "stream",
          "text": [
            "time: 2.64 ms (started: 2021-04-16 01:45:05 +00:00)\n"
          ],
          "name": "stdout"
        }
      ]
    },
    {
      "cell_type": "code",
      "metadata": {
        "id": "HkME469pdqJe"
      },
      "source": [
        ""
      ],
      "execution_count": 33,
      "outputs": []
    }
  ]
}