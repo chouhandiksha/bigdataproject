{
  "nbformat": 4,
  "nbformat_minor": 0,
  "metadata": {
    "colab": {
      "name": "analyse_LA_mobility_poverty_time_series_2020.ipynb",
      "provenance": [],
      "collapsed_sections": [],
      "include_colab_link": true
    },
    "kernelspec": {
      "name": "python3",
      "display_name": "Python 3"
    },
    "language_info": {
      "name": "python"
    }
  },
  "cells": [
    {
      "cell_type": "markdown",
      "metadata": {
        "id": "view-in-github",
        "colab_type": "text"
      },
      "source": [
        "<a href=\"https://colab.research.google.com/github/chouhandiksha/bigdataproject/blob/colab/notebooks/temporal-analysis/completely_home/analyse_LA_mobility_poverty_2020.ipynb\" target=\"_parent\"><img src=\"https://colab.research.google.com/assets/colab-badge.svg\" alt=\"Open In Colab\"/></a>"
      ]
    },
    {
      "cell_type": "markdown",
      "metadata": {
        "id": "6Vnc5foT5YFx"
      },
      "source": [
        "**Spark SQL Documentation:** \n",
        "https://spark.apache.org/docs/2.2.0/sql-programming-guide.html"
      ]
    },
    {
      "cell_type": "code",
      "metadata": {
        "id": "XXJ-cpgT3moz",
        "colab": {
          "base_uri": "https://localhost:8080/"
        },
        "outputId": "887f88be-f08a-4d9f-fa14-3ba9bb9a8f58"
      },
      "source": [
        "# add time information at the end of every cell\n",
        "!pip install ipython-autotime\n",
        "%load_ext autotime"
      ],
      "execution_count": 2,
      "outputs": [
        {
          "output_type": "stream",
          "text": [
            "Collecting ipython-autotime\n",
            "  Downloading https://files.pythonhosted.org/packages/b4/c9/b413a24f759641bc27ef98c144b590023c8038dfb8a3f09e713e9dff12c1/ipython_autotime-0.3.1-py2.py3-none-any.whl\n",
            "Requirement already satisfied: ipython in /usr/local/lib/python3.7/dist-packages (from ipython-autotime) (5.5.0)\n",
            "Requirement already satisfied: pygments in /usr/local/lib/python3.7/dist-packages (from ipython->ipython-autotime) (2.6.1)\n",
            "Requirement already satisfied: pexpect; sys_platform != \"win32\" in /usr/local/lib/python3.7/dist-packages (from ipython->ipython-autotime) (4.8.0)\n",
            "Requirement already satisfied: prompt-toolkit<2.0.0,>=1.0.4 in /usr/local/lib/python3.7/dist-packages (from ipython->ipython-autotime) (1.0.18)\n",
            "Requirement already satisfied: pickleshare in /usr/local/lib/python3.7/dist-packages (from ipython->ipython-autotime) (0.7.5)\n",
            "Requirement already satisfied: decorator in /usr/local/lib/python3.7/dist-packages (from ipython->ipython-autotime) (4.4.2)\n",
            "Requirement already satisfied: simplegeneric>0.8 in /usr/local/lib/python3.7/dist-packages (from ipython->ipython-autotime) (0.8.1)\n",
            "Requirement already satisfied: traitlets>=4.2 in /usr/local/lib/python3.7/dist-packages (from ipython->ipython-autotime) (5.0.5)\n",
            "Requirement already satisfied: setuptools>=18.5 in /usr/local/lib/python3.7/dist-packages (from ipython->ipython-autotime) (54.2.0)\n",
            "Requirement already satisfied: ptyprocess>=0.5 in /usr/local/lib/python3.7/dist-packages (from pexpect; sys_platform != \"win32\"->ipython->ipython-autotime) (0.7.0)\n",
            "Requirement already satisfied: wcwidth in /usr/local/lib/python3.7/dist-packages (from prompt-toolkit<2.0.0,>=1.0.4->ipython->ipython-autotime) (0.2.5)\n",
            "Requirement already satisfied: six>=1.9.0 in /usr/local/lib/python3.7/dist-packages (from prompt-toolkit<2.0.0,>=1.0.4->ipython->ipython-autotime) (1.15.0)\n",
            "Requirement already satisfied: ipython-genutils in /usr/local/lib/python3.7/dist-packages (from traitlets>=4.2->ipython->ipython-autotime) (0.2.0)\n",
            "Installing collected packages: ipython-autotime\n",
            "Successfully installed ipython-autotime-0.3.1\n",
            "time: 168 µs (started: 2021-04-21 16:50:11 +00:00)\n"
          ],
          "name": "stdout"
        }
      ]
    },
    {
      "cell_type": "code",
      "metadata": {
        "colab": {
          "base_uri": "https://localhost:8080/"
        },
        "id": "DggpqrsrscGi",
        "outputId": "56ec93ed-a1a7-4cb9-fb91-d37b0f6bf989"
      },
      "source": [
        "# Install required dependancies\n",
        "!pip install pyspark\n",
        "!apt install openjdk-8-jdk-headless -qq\n",
        "import os\n",
        "os.environ[\"JAVA_HOME\"] = \"/usr/lib/jvm/java-8-openjdk-amd64\""
      ],
      "execution_count": 3,
      "outputs": [
        {
          "output_type": "stream",
          "text": [
            "Collecting pyspark\n",
            "\u001b[?25l  Downloading https://files.pythonhosted.org/packages/45/b0/9d6860891ab14a39d4bddf80ba26ce51c2f9dc4805e5c6978ac0472c120a/pyspark-3.1.1.tar.gz (212.3MB)\n",
            "\u001b[K     |████████████████████████████████| 212.3MB 80kB/s \n",
            "\u001b[?25hCollecting py4j==0.10.9\n",
            "\u001b[?25l  Downloading https://files.pythonhosted.org/packages/9e/b6/6a4fb90cd235dc8e265a6a2067f2a2c99f0d91787f06aca4bcf7c23f3f80/py4j-0.10.9-py2.py3-none-any.whl (198kB)\n",
            "\u001b[K     |████████████████████████████████| 204kB 44.8MB/s \n",
            "\u001b[?25hBuilding wheels for collected packages: pyspark\n",
            "  Building wheel for pyspark (setup.py) ... \u001b[?25l\u001b[?25hdone\n",
            "  Created wheel for pyspark: filename=pyspark-3.1.1-py2.py3-none-any.whl size=212767604 sha256=de75788132bcad10eaa02864bb7c5651a8e0cb66b309439c02266b32a5fbf2e1\n",
            "  Stored in directory: /root/.cache/pip/wheels/0b/90/c0/01de724414ef122bd05f056541fb6a0ecf47c7ca655f8b3c0f\n",
            "Successfully built pyspark\n",
            "Installing collected packages: py4j, pyspark\n",
            "Successfully installed py4j-0.10.9 pyspark-3.1.1\n",
            "The following additional packages will be installed:\n",
            "  openjdk-8-jre-headless\n",
            "Suggested packages:\n",
            "  openjdk-8-demo openjdk-8-source libnss-mdns fonts-dejavu-extra\n",
            "  fonts-ipafont-gothic fonts-ipafont-mincho fonts-wqy-microhei\n",
            "  fonts-wqy-zenhei fonts-indic\n",
            "The following NEW packages will be installed:\n",
            "  openjdk-8-jdk-headless openjdk-8-jre-headless\n",
            "0 upgraded, 2 newly installed, 0 to remove and 31 not upgraded.\n",
            "Need to get 36.5 MB of archives.\n",
            "After this operation, 143 MB of additional disk space will be used.\n",
            "Selecting previously unselected package openjdk-8-jre-headless:amd64.\n",
            "(Reading database ... 160983 files and directories currently installed.)\n",
            "Preparing to unpack .../openjdk-8-jre-headless_8u282-b08-0ubuntu1~18.04_amd64.deb ...\n",
            "Unpacking openjdk-8-jre-headless:amd64 (8u282-b08-0ubuntu1~18.04) ...\n",
            "Selecting previously unselected package openjdk-8-jdk-headless:amd64.\n",
            "Preparing to unpack .../openjdk-8-jdk-headless_8u282-b08-0ubuntu1~18.04_amd64.deb ...\n",
            "Unpacking openjdk-8-jdk-headless:amd64 (8u282-b08-0ubuntu1~18.04) ...\n",
            "Setting up openjdk-8-jre-headless:amd64 (8u282-b08-0ubuntu1~18.04) ...\n",
            "update-alternatives: using /usr/lib/jvm/java-8-openjdk-amd64/jre/bin/orbd to provide /usr/bin/orbd (orbd) in auto mode\n",
            "update-alternatives: using /usr/lib/jvm/java-8-openjdk-amd64/jre/bin/servertool to provide /usr/bin/servertool (servertool) in auto mode\n",
            "update-alternatives: using /usr/lib/jvm/java-8-openjdk-amd64/jre/bin/tnameserv to provide /usr/bin/tnameserv (tnameserv) in auto mode\n",
            "Setting up openjdk-8-jdk-headless:amd64 (8u282-b08-0ubuntu1~18.04) ...\n",
            "update-alternatives: using /usr/lib/jvm/java-8-openjdk-amd64/bin/idlj to provide /usr/bin/idlj (idlj) in auto mode\n",
            "update-alternatives: using /usr/lib/jvm/java-8-openjdk-amd64/bin/wsimport to provide /usr/bin/wsimport (wsimport) in auto mode\n",
            "update-alternatives: using /usr/lib/jvm/java-8-openjdk-amd64/bin/jsadebugd to provide /usr/bin/jsadebugd (jsadebugd) in auto mode\n",
            "update-alternatives: using /usr/lib/jvm/java-8-openjdk-amd64/bin/native2ascii to provide /usr/bin/native2ascii (native2ascii) in auto mode\n",
            "update-alternatives: using /usr/lib/jvm/java-8-openjdk-amd64/bin/javah to provide /usr/bin/javah (javah) in auto mode\n",
            "update-alternatives: using /usr/lib/jvm/java-8-openjdk-amd64/bin/hsdb to provide /usr/bin/hsdb (hsdb) in auto mode\n",
            "update-alternatives: using /usr/lib/jvm/java-8-openjdk-amd64/bin/clhsdb to provide /usr/bin/clhsdb (clhsdb) in auto mode\n",
            "update-alternatives: using /usr/lib/jvm/java-8-openjdk-amd64/bin/xjc to provide /usr/bin/xjc (xjc) in auto mode\n",
            "update-alternatives: using /usr/lib/jvm/java-8-openjdk-amd64/bin/schemagen to provide /usr/bin/schemagen (schemagen) in auto mode\n",
            "update-alternatives: using /usr/lib/jvm/java-8-openjdk-amd64/bin/extcheck to provide /usr/bin/extcheck (extcheck) in auto mode\n",
            "update-alternatives: using /usr/lib/jvm/java-8-openjdk-amd64/bin/jhat to provide /usr/bin/jhat (jhat) in auto mode\n",
            "update-alternatives: using /usr/lib/jvm/java-8-openjdk-amd64/bin/wsgen to provide /usr/bin/wsgen (wsgen) in auto mode\n",
            "time: 55.1 s (started: 2021-04-21 16:50:11 +00:00)\n"
          ],
          "name": "stdout"
        }
      ]
    },
    {
      "cell_type": "code",
      "metadata": {
        "id": "ppkG73kRsei0",
        "colab": {
          "base_uri": "https://localhost:8080/"
        },
        "outputId": "2a3398c8-a1f6-4fa7-bbf7-a7a6a0710d36"
      },
      "source": [
        "# Import modules\n",
        "import numpy as np\n",
        "import pandas as pd\n",
        "import datetime\n",
        "import matplotlib.pyplot as plt\n",
        "from pathlib import Path\n",
        "%matplotlib inline\n",
        "\n",
        "import pyspark\n",
        "from pyspark.sql import *\n",
        "from pyspark.sql.types import *\n",
        "from pyspark.sql.functions import *\n",
        "from pyspark import SparkContext, SparkConf"
      ],
      "execution_count": 4,
      "outputs": [
        {
          "output_type": "stream",
          "text": [
            "time: 137 ms (started: 2021-04-21 16:51:06 +00:00)\n"
          ],
          "name": "stdout"
        }
      ]
    },
    {
      "cell_type": "code",
      "metadata": {
        "colab": {
          "base_uri": "https://localhost:8080/"
        },
        "id": "pYm9-j_fflal",
        "outputId": "a860e997-b62a-42ca-988a-a75ce49f07ac"
      },
      "source": [
        "import altair as alt\n",
        "alt.data_transformers.disable_max_rows()"
      ],
      "execution_count": 5,
      "outputs": [
        {
          "output_type": "execute_result",
          "data": {
            "text/plain": [
              "DataTransformerRegistry.enable('default')"
            ]
          },
          "metadata": {
            "tags": []
          },
          "execution_count": 5
        },
        {
          "output_type": "stream",
          "text": [
            "time: 343 ms (started: 2021-04-21 16:51:06 +00:00)\n"
          ],
          "name": "stdout"
        }
      ]
    },
    {
      "cell_type": "code",
      "metadata": {
        "id": "1oe1ksN5skMG",
        "colab": {
          "base_uri": "https://localhost:8080/"
        },
        "outputId": "4c29dcdd-474a-49fa-a076-59c2d7882e9a"
      },
      "source": [
        "# create the session\n",
        "conf = SparkConf().set(\"spark.ui.port\", \"4050\")\n",
        "\n",
        "# create the context\n",
        "sc = pyspark.SparkContext(conf=conf)\n",
        "spark = SparkSession.builder.getOrCreate()"
      ],
      "execution_count": 6,
      "outputs": [
        {
          "output_type": "stream",
          "text": [
            "time: 4.97 s (started: 2021-04-21 16:51:06 +00:00)\n"
          ],
          "name": "stdout"
        }
      ]
    },
    {
      "cell_type": "code",
      "metadata": {
        "id": "zdPF-0xIrDm9",
        "colab": {
          "base_uri": "https://localhost:8080/"
        },
        "outputId": "45032afc-223d-463c-ad34-bd20f108ef94"
      },
      "source": [
        "#sc.stop()"
      ],
      "execution_count": 7,
      "outputs": [
        {
          "output_type": "stream",
          "text": [
            "time: 2.06 ms (started: 2021-04-21 16:51:11 +00:00)\n"
          ],
          "name": "stdout"
        }
      ]
    },
    {
      "cell_type": "code",
      "metadata": {
        "colab": {
          "base_uri": "https://localhost:8080/"
        },
        "id": "WGXwI2d1szaO",
        "outputId": "3872be95-0f42-4d21-9fac-09e6d719fea0"
      },
      "source": [
        "# Mount drive with data\n",
        "from google.colab import drive\n",
        "drive.mount('/content/drive')"
      ],
      "execution_count": 8,
      "outputs": [
        {
          "output_type": "stream",
          "text": [
            "Mounted at /content/drive\n",
            "time: 28.7 s (started: 2021-04-21 16:51:11 +00:00)\n"
          ],
          "name": "stdout"
        }
      ]
    },
    {
      "cell_type": "code",
      "metadata": {
        "id": "grN2uNcFvloa",
        "colab": {
          "base_uri": "https://localhost:8080/"
        },
        "outputId": "8608ef09-0191-44c5-d5a6-32208915ed1a"
      },
      "source": [
        "# Set path to data folder\n",
        "path = Path('drive/MyDrive/big-data-project/data/clean-data')\n",
        "city = 'la'"
      ],
      "execution_count": 9,
      "outputs": [
        {
          "output_type": "stream",
          "text": [
            "time: 2.98 ms (started: 2021-04-21 16:51:40 +00:00)\n"
          ],
          "name": "stdout"
        }
      ]
    },
    {
      "cell_type": "code",
      "metadata": {
        "colab": {
          "base_uri": "https://localhost:8080/"
        },
        "id": "BvCrFmU2tGXY",
        "outputId": "9a39625d-bcb0-4a53-fe5c-b973d2cdc411"
      },
      "source": [
        "# Read data into dataframe\n",
        "df_soc = spark.read.format('csv').option('header','true').option('quote',\"\\\"\").option('escape',\"\\\"\").load(str(path/city/'social/2020/*.csv'))\n",
        "df_soc.show()"
      ],
      "execution_count": 10,
      "outputs": [
        {
          "output_type": "stream",
          "text": [
            "+---+------------+--------------------+--------------------+------------+---------------------------+--------------------------+------------------------------------------+----------------------------+----------------------+------------------------+--------------------+-------------------------------+-------------------------------+--------------------+-------------------------+--------------------------+----------------------+----------------------------+---------------------------+-----------------------------+\n",
            "|_c0|         cbg|    date_range_start|      date_range_end|device_count|distance_traveled_from_home|bucketed_distance_traveled|median_dwell_at_bucketed_distance_traveled|completely_home_device_count|median_home_dwell_time|bucketed_home_dwell_time|at_home_by_each_hour|part_time_work_behavior_devices|full_time_work_behavior_devices|    destination_cbgs|delivery_behavior_devices|median_non_home_dwell_time|candidate_device_count|bucketed_away_from_home_time|median_percentage_time_home|bucketed_percentage_time_home|\n",
            "+---+------------+--------------------+--------------------+------------+---------------------------+--------------------------+------------------------------------------+----------------------------+----------------------+------------------------+--------------------+-------------------------------+-------------------------------+--------------------+-------------------------+--------------------------+----------------------+----------------------------+---------------------------+-----------------------------+\n",
            "|  0|060371831013|2020-02-07T00:00:...|2020-02-08T00:00:...|          45|                       5769|      {\"16001-50000\":4,...|                      {\"16001-50000\":29...|                           6|                   558|    {\"721-1080\":9,\"36...|[24,23,24,23,21,2...|                              1|                              1|{\"060374309012\":1...|                        1|                       112|                    89|        {\"481-540\":1,\"541...|                         64|         {\"26-50\":4,\"51-75...|\n",
            "|  1|060374034022|2020-02-07T00:00:...|2020-02-08T00:00:...|         155|                       5438|      {\"16001-50000\":32...|                      {\"16001-50000\":99...|                          24|                     0|    {\"721-1080\":16,\"3...|[42,41,38,40,40,4...|                             12|                              4|{\"060374034041\":3...|                        1|                       133|                   536|        {\"21-45\":16,\"481-...|                          0|         {\"26-50\":4,\"51-75...|\n",
            "|  2|060375326041|2020-02-07T00:00:...|2020-02-08T00:00:...|          31|                       6670|      {\"16001-50000\":2,...|                      {\"16001-50000\":22...|                           4|                   693|    {\"721-1080\":7,\"36...|[23,20,25,20,20,2...|                              6|                              2|{\"060379800311\":1...|                        5|                       268|                    71|        {\"21-45\":1,\"481-5...|                         66|         {\"0-25\":6,\"76-100...|\n",
            "|  3|060375544031|2020-02-07T00:00:...|2020-02-08T00:00:...|         130|                       7054|      {\"16001-50000\":16...|                      {\"16001-50000\":71...|                          27|                   630|    {\"721-1080\":25,\"3...|[79,77,79,74,76,7...|                             16|                             10|{\"060376700012\":1...|                        5|                       187|                   295|        {\"21-45\":2,\"481-5...|                         69|         {\"26-50\":6,\"51-75...|\n",
            "|  4|060375718003|2020-02-07T00:00:...|2020-02-08T00:00:...|          35|                       4900|      {\"16001-50000\":3,...|                      {\"16001-50000\":12...|                          10|                   684|    {\"721-1080\":5,\"36...|[20,19,17,18,23,1...|                              4|                              1|{\"060376210011\":1...|                        1|                       217|                    52|        {\"21-45\":1,\"481-5...|                         75|         {\"0-25\":3,\"76-100...|\n",
            "|  5|060590018024|2020-02-07T00:00:...|2020-02-08T00:00:...|          38|                       4466|      {\"16001-50000\":3,...|                      {\"16001-50000\":14...|                          13|                   550|    {\"721-1080\":9,\"36...|[27,26,27,28,26,2...|                              7|                              4|{\"060590740051\":1...|                        4|                       258|                    94|        {\"481-540\":2,\"541...|                         61|         {\"0-25\":4,\"76-100...|\n",
            "|  6|060590320463|2020-02-07T00:00:...|2020-02-08T00:00:...|         184|                       8950|      {\"16001-50000\":31...|                      {\"16001-50000\":90...|                          24|                   757|    {\"721-1080\":62,\"3...|[130,131,129,130,...|                             38|                             12|{\"060374084023\":1...|                       13|                       281|                   239|        {\"21-45\":6,\"481-5...|                         71|         {\"26-50\":17,\"51-7...|\n",
            "|  7|060590626281|2020-02-07T00:00:...|2020-02-08T00:00:...|         108|                       7471|      {\"16001-50000\":3,...|                      {\"16001-50000\":28...|                          32|                   107|    {\"721-1080\":8,\"36...|[45,39,39,41,40,4...|                              9|                              1|{\"040131141001\":1...|                        1|                        49|                   424|        {\"21-45\":10,\"481-...|                         77|         {\"0-25\":40,\"76-10...|\n",
            "|  8|060371374011|2020-02-07T00:00:...|2020-02-08T00:00:...|          72|                       3404|      {\"16001-50000\":1,...|                      {\"16001-50000\":18...|                          30|                   498|    {\"721-1080\":12,\"3...|[42,39,40,41,39,3...|                              3|                              1|{\"060371374022\":1...|                        1|                        26|                   194|        {\"21-45\":5,\"481-5...|                         90|         {\"26-50\":1,\"51-75...|\n",
            "|  9|060372398012|2020-02-07T00:00:...|2020-02-08T00:00:...|          41|                       7322|      {\"16001-50000\":4,...|                      {\"16001-50000\":96...|                          15|                   662|    {\"721-1080\":4,\"36...|[24,26,25,27,26,2...|                              1|                              4|{\"060372286001\":2...|                        1|                       102|                   132|        {\"21-45\":1,\"481-5...|                         85|         {\"0-25\":10,\"76-10...|\n",
            "| 10|060373009011|2020-02-07T00:00:...|2020-02-08T00:00:...|          82|                       7465|      {\"16001-50000\":6,...|                      {\"16001-50000\":39...|                          20|                   820|    {\"721-1080\":28,\"3...|[66,61,62,63,63,6...|                             16|                              6|{\"060374309012\":1...|                        2|                       191|                   134|        {\"21-45\":3,\"481-5...|                         74|         {\"26-50\":1,\"51-75...|\n",
            "| 11|060375418021|2020-02-07T00:00:...|2020-02-08T00:00:...|          49|                       6274|      {\"16001-50000\":2,...|                      {\"16001-50000\":44...|                          12|                   635|    {\"721-1080\":11,\"3...|[27,27,27,26,27,3...|                              3|                              4|{\"060375514021\":1...|                        3|                       222|                   125|        {\"21-45\":3,\"481-5...|                         75|         {\"26-50\":5,\"51-75...|\n",
            "| 12|060375431003|2020-02-07T00:00:...|2020-02-08T00:00:...|          37|                       7095|      {\"16001-50000\":2,...|                      {\"16001-50000\":36...|                           5|                   686|    {\"721-1080\":9,\"36...|[21,25,23,23,21,2...|                              1|                              2|{\"060372151011\":1...|                        3|                       211|                    88|        {\"21-45\":2,\"481-5...|                         67|         {\"0-25\":10,\"76-10...|\n",
            "| 13|060376012021|2020-02-07T00:00:...|2020-02-08T00:00:...|          56|                       3709|      {\"16001-50000\":3,...|                      {\"16001-50000\":82...|                          14|                   749|    {\"721-1080\":15,\"3...|[37,35,38,36,32,3...|                              1|                              4|{\"060371046201\":1...|                        1|                       147|                   129|        {\"21-45\":1,\"481-5...|                         80|         {\"26-50\":6,\"51-75...|\n",
            "| 14|060379800211|2020-02-07T00:00:...|2020-02-08T00:00:...|          50|                       9433|      {\"16001-50000\":6,...|                      {\"16001-50000\":50...|                           3|                     0|    {\">1080\":1,\"<60\":...|[1,4,3,2,2,1,2,2,...|                              3|                              1|{\"060371012202\":1...|                        1|                       117|                   186|        {\"21-45\":7,\"481-5...|                          0|         {\"0-25\":41,\"76-10...|\n",
            "| 15|060590871034|2020-02-07T00:00:...|2020-02-08T00:00:...|          88|                       2583|      {\"16001-50000\":5,...|                      {\"16001-50000\":81...|                          30|                   687|    {\"721-1080\":12,\"3...|[55,54,57,56,53,5...|                              7|                              8|{\"060375552121\":1...|                        3|                       123|                   202|        {\"21-45\":1,\"481-5...|                         80|         {\"26-50\":10,\"51-7...|\n",
            "| 16|060372713005|2020-02-07T00:00:...|2020-02-08T00:00:...|          30|                       4601|      {\"16001-50000\":5,...|                      {\"16001-50000\":32...|                           3|                   734|    {\"721-1080\":7,\"36...|[20,18,23,18,18,1...|                              2|                              2|{\"060070006041\":1...|                        1|                       297|                    61|        {\"21-45\":4,\"481-5...|                         70|         {\"0-25\":9,\"76-100...|\n",
            "| 17|060372766041|2020-02-07T00:00:...|2020-02-08T00:00:...|         137|                       4947|      {\"16001-50000\":16...|                      {\"16001-50000\":80...|                          24|                   662|    {\"721-1080\":37,\"3...|[83,84,87,81,85,8...|                             20|                              8|{\"060375439031\":2...|                        4|                       223|                   246|        {\"21-45\":6,\"481-5...|                         70|         {\"0-25\":18,\"76-10...|\n",
            "| 18|060374334012|2020-02-07T00:00:...|2020-02-08T00:00:...|          35|                       5940|      {\"16001-50000\":7,...|                      {\"16001-50000\":10...|                           6|                   722|    {\"721-1080\":9,\"36...|[21,21,19,19,24,1...|                              6|                              2|{\"060374334012\":2...|                        1|                       338|                    77|        {\"21-45\":1,\"481-5...|                         67|         {\"26-50\":3,\"51-75...|\n",
            "| 19|060375017003|2020-02-07T00:00:...|2020-02-08T00:00:...|          38|                       3849|      {\"16001-50000\":5,...|                      {\"16001-50000\":22...|                           6|                   710|    {\"721-1080\":13,\"3...|[27,26,27,30,28,2...|                              4|                              1|{\"060374086253\":1...|                        1|                       315|                    95|        {\"21-45\":1,\"481-5...|                         73|         {\"0-25\":4,\"76-100...|\n",
            "+---+------------+--------------------+--------------------+------------+---------------------------+--------------------------+------------------------------------------+----------------------------+----------------------+------------------------+--------------------+-------------------------------+-------------------------------+--------------------+-------------------------+--------------------------+----------------------+----------------------------+---------------------------+-----------------------------+\n",
            "only showing top 20 rows\n",
            "\n",
            "time: 37.2 s (started: 2021-04-21 16:51:40 +00:00)\n"
          ],
          "name": "stdout"
        }
      ]
    },
    {
      "cell_type": "code",
      "metadata": {
        "colab": {
          "base_uri": "https://localhost:8080/"
        },
        "id": "wh747sqcHi4-",
        "outputId": "f93c9453-0bdf-403f-be0f-f6cd8f6cb012"
      },
      "source": [
        "df_soc.createOrReplaceTempView('clean_la')\n",
        "df_soc = spark.sql('SELECT cbg, date_range_start as date, device_count, completely_home_device_count FROM clean_la WHERE device_count > 5')\n",
        "df_soc.show()"
      ],
      "execution_count": 11,
      "outputs": [
        {
          "output_type": "stream",
          "text": [
            "+------------+--------------------+------------+----------------------------+\n",
            "|         cbg|                date|device_count|completely_home_device_count|\n",
            "+------------+--------------------+------------+----------------------------+\n",
            "|060371831013|2020-02-07T00:00:...|          45|                           6|\n",
            "|060374034022|2020-02-07T00:00:...|         155|                          24|\n",
            "|060375326041|2020-02-07T00:00:...|          31|                           4|\n",
            "|060375544031|2020-02-07T00:00:...|         130|                          27|\n",
            "|060375718003|2020-02-07T00:00:...|          35|                          10|\n",
            "|060590018024|2020-02-07T00:00:...|          38|                          13|\n",
            "|060590320463|2020-02-07T00:00:...|         184|                          24|\n",
            "|060590626281|2020-02-07T00:00:...|         108|                          32|\n",
            "|060371374011|2020-02-07T00:00:...|          72|                          30|\n",
            "|060372398012|2020-02-07T00:00:...|          41|                          15|\n",
            "|060373009011|2020-02-07T00:00:...|          82|                          20|\n",
            "|060375418021|2020-02-07T00:00:...|          49|                          12|\n",
            "|060375431003|2020-02-07T00:00:...|          37|                           5|\n",
            "|060376012021|2020-02-07T00:00:...|          56|                          14|\n",
            "|060379800211|2020-02-07T00:00:...|          50|                           3|\n",
            "|060590871034|2020-02-07T00:00:...|          88|                          30|\n",
            "|060372713005|2020-02-07T00:00:...|          30|                           3|\n",
            "|060372766041|2020-02-07T00:00:...|         137|                          24|\n",
            "|060374334012|2020-02-07T00:00:...|          35|                           6|\n",
            "|060375017003|2020-02-07T00:00:...|          38|                           6|\n",
            "+------------+--------------------+------------+----------------------------+\n",
            "only showing top 20 rows\n",
            "\n",
            "time: 1.11 s (started: 2021-04-21 16:52:17 +00:00)\n"
          ],
          "name": "stdout"
        }
      ]
    },
    {
      "cell_type": "code",
      "metadata": {
        "id": "nlVhrn2-Rp_O",
        "colab": {
          "base_uri": "https://localhost:8080/"
        },
        "outputId": "a5d25480-5069-4388-e1f2-f9b7c2e3d0b2"
      },
      "source": [
        "df_soc = df_soc.withColumn(\"date\",\n",
        "    df_soc['date'].substr(0, 10))"
      ],
      "execution_count": 12,
      "outputs": [
        {
          "output_type": "stream",
          "text": [
            "time: 71.8 ms (started: 2021-04-21 16:52:19 +00:00)\n"
          ],
          "name": "stdout"
        }
      ]
    },
    {
      "cell_type": "code",
      "metadata": {
        "colab": {
          "base_uri": "https://localhost:8080/"
        },
        "id": "2ryRoACoJMPZ",
        "outputId": "79e3be61-9e66-48a6-db13-9df0f27a29a7"
      },
      "source": [
        "df_soc.show()"
      ],
      "execution_count": 13,
      "outputs": [
        {
          "output_type": "stream",
          "text": [
            "+------------+----------+------------+----------------------------+\n",
            "|         cbg|      date|device_count|completely_home_device_count|\n",
            "+------------+----------+------------+----------------------------+\n",
            "|060371831013|2020-02-07|          45|                           6|\n",
            "|060374034022|2020-02-07|         155|                          24|\n",
            "|060375326041|2020-02-07|          31|                           4|\n",
            "|060375544031|2020-02-07|         130|                          27|\n",
            "|060375718003|2020-02-07|          35|                          10|\n",
            "|060590018024|2020-02-07|          38|                          13|\n",
            "|060590320463|2020-02-07|         184|                          24|\n",
            "|060590626281|2020-02-07|         108|                          32|\n",
            "|060371374011|2020-02-07|          72|                          30|\n",
            "|060372398012|2020-02-07|          41|                          15|\n",
            "|060373009011|2020-02-07|          82|                          20|\n",
            "|060375418021|2020-02-07|          49|                          12|\n",
            "|060375431003|2020-02-07|          37|                           5|\n",
            "|060376012021|2020-02-07|          56|                          14|\n",
            "|060379800211|2020-02-07|          50|                           3|\n",
            "|060590871034|2020-02-07|          88|                          30|\n",
            "|060372713005|2020-02-07|          30|                           3|\n",
            "|060372766041|2020-02-07|         137|                          24|\n",
            "|060374334012|2020-02-07|          35|                           6|\n",
            "|060375017003|2020-02-07|          38|                           6|\n",
            "+------------+----------+------------+----------------------------+\n",
            "only showing top 20 rows\n",
            "\n",
            "time: 283 ms (started: 2021-04-21 16:52:19 +00:00)\n"
          ],
          "name": "stdout"
        }
      ]
    },
    {
      "cell_type": "code",
      "metadata": {
        "colab": {
          "base_uri": "https://localhost:8080/"
        },
        "id": "UL4qIhZu7JKC",
        "outputId": "adf385e1-9798-4505-8c8e-4092d0353039"
      },
      "source": [
        "# Add completely home percentage column\n",
        "df_soc = df_soc.withColumn('completely_home_percentage', (df_soc['completely_home_device_count']/df_soc['device_count']) * 100)\n",
        "# df_soc = df_soc.withColumn('part_time_work_percentage', (df_soc['part_time_work_behavior_devices']/df_soc['device_count']) * 100)\n",
        "# df_soc = df_soc.withColumn('full_time_work_percentage', (df_soc['full_time_work_behavior_devices']/df_soc['device_count']) * 100)\n",
        "\n",
        "#df_soc.show()"
      ],
      "execution_count": 14,
      "outputs": [
        {
          "output_type": "stream",
          "text": [
            "time: 58.3 ms (started: 2021-04-21 16:52:19 +00:00)\n"
          ],
          "name": "stdout"
        }
      ]
    },
    {
      "cell_type": "code",
      "metadata": {
        "colab": {
          "base_uri": "https://localhost:8080/"
        },
        "id": "OAUIODseCoSg",
        "outputId": "01bdc37c-1647-4ae0-c186-1c93b0a74685"
      },
      "source": [
        "#Create temp view\n",
        "df_soc.createOrReplaceTempView('mobility')"
      ],
      "execution_count": 15,
      "outputs": [
        {
          "output_type": "stream",
          "text": [
            "time: 40.7 ms (started: 2021-04-21 16:52:19 +00:00)\n"
          ],
          "name": "stdout"
        }
      ]
    },
    {
      "cell_type": "markdown",
      "metadata": {
        "id": "Sj4xc1gTpm2X"
      },
      "source": [
        "\n",
        "\n",
        "---\n",
        "\n",
        "\n",
        "**Demographic data**\n",
        "\n",
        "\n",
        "\n",
        "\n",
        "\n",
        "---\n",
        "\n"
      ]
    },
    {
      "cell_type": "code",
      "metadata": {
        "colab": {
          "base_uri": "https://localhost:8080/"
        },
        "id": "1SVVsXtuzqRf",
        "outputId": "fc1706c6-e764-46c7-f0f9-7bec60734e94"
      },
      "source": [
        "# Read poverty data\n",
        "# Read data into RDD\n",
        "df_demographic = spark.read.format('csv').option('header','true').option('quote',\"\\\"\").option('escape',\"\\\"\").load(str(path/city/'la.csv'))\n",
        "df_demographic.createOrReplaceTempView('demographic')\n",
        "df_demographic.show()"
      ],
      "execution_count": 16,
      "outputs": [
        {
          "output_type": "stream",
          "text": [
            "+------------+---------+------------------+------------------+\n",
            "|         cbg|pop_total|poverty_percentage|    perc_whiteonly|\n",
            "+------------+---------+------------------+------------------+\n",
            "|060373104003|     1286|17.884914463452567| 69.51788491446345|\n",
            "|060590865023|     2545|22.789783889980352| 85.34381139489194|\n",
            "|060376510024|     1285|               0.0|42.490272373540854|\n",
            "|060376511011|     2708| 7.745398773006134| 50.70162481536189|\n",
            "|060590994023|      672|12.969283276450511| 38.54166666666667|\n",
            "|060590995094|      342| 17.83625730994152| 77.48538011695906|\n",
            "|060376511012|     2483|2.6178010471204187|50.302053966975436|\n",
            "|060376512011|      859|2.8846153846153846| 82.42142025611176|\n",
            "|060376512012|     1179| 1.441899915182358|  74.1306191687871|\n",
            "|060376512014|      989|2.4266936299292214| 70.57633973710819|\n",
            "|060376512211|     3373|  9.95684340320592| 40.61666172546695|\n",
            "|060590995092|      938| 5.756929637526652|  84.9680170575693|\n",
            "|060590995095|      576|14.583333333333334|           73.4375|\n",
            "|060590995113|      577|10.918544194107453| 97.22703639514731|\n",
            "|060372164011|     2111|15.016579819990525| 82.42539081004263|\n",
            "|060372164012|     2315| 16.54427645788337| 79.87041036717063|\n",
            "|060372164021|     1611| 7.759155803848541| 80.57107386716325|\n",
            "|060375773004|     1501|10.459693537641572|   82.145236508994|\n",
            "|060375768021|     2320|16.786678667866788|61.594827586206904|\n",
            "|060375744006|      708|1.1299435028248588| 88.84180790960453|\n",
            "+------------+---------+------------------+------------------+\n",
            "only showing top 20 rows\n",
            "\n",
            "time: 1.06 s (started: 2021-04-21 16:52:19 +00:00)\n"
          ],
          "name": "stdout"
        }
      ]
    },
    {
      "cell_type": "code",
      "metadata": {
        "colab": {
          "base_uri": "https://localhost:8080/"
        },
        "id": "Ff9bk8_6qBQ2",
        "outputId": "21f5bcca-ce46-4a06-d300-b3b47f05cc11"
      },
      "source": [
        "df_mob_demo = spark.sql('SELECT mobility.*, demographic.poverty_percentage from mobility INNER JOIN demographic ON mobility.cbg = demographic.cbg')\n",
        "df_mob_demo.createOrReplaceTempView('demographic_mobility')\n",
        "df_mob_demo.show()\n"
      ],
      "execution_count": 17,
      "outputs": [
        {
          "output_type": "stream",
          "text": [
            "+------------+----------+------------+----------------------------+--------------------------+------------------+\n",
            "|         cbg|      date|device_count|completely_home_device_count|completely_home_percentage|poverty_percentage|\n",
            "+------------+----------+------------+----------------------------+--------------------------+------------------+\n",
            "|060371831013|2020-02-07|          45|                           6|        13.333333333333334|15.450643776824036|\n",
            "|060374034022|2020-02-07|         155|                          24|        15.483870967741936| 10.67193675889328|\n",
            "|060375326041|2020-02-07|          31|                           4|        12.903225806451612| 27.79187817258883|\n",
            "|060375544031|2020-02-07|         130|                          27|         20.76923076923077|  25.3447633246366|\n",
            "|060375718003|2020-02-07|          35|                          10|         28.57142857142857|3.1537450722733245|\n",
            "|060590018024|2020-02-07|          38|                          13|         34.21052631578947|29.130434782608695|\n",
            "|060590320463|2020-02-07|         184|                          24|        13.043478260869565|3.0450132391879965|\n",
            "|060590626281|2020-02-07|         108|                          32|        29.629629629629626|12.167606768734892|\n",
            "|060371374011|2020-02-07|          72|                          30|         41.66666666666667|  2.89193302891933|\n",
            "|060372398012|2020-02-07|          41|                          15|         36.58536585365854|36.773090079817564|\n",
            "|060373009011|2020-02-07|          82|                          20|        24.390243902439025|6.4561403508771935|\n",
            "|060375418021|2020-02-07|          49|                          12|        24.489795918367346|27.102803738317753|\n",
            "|060375431003|2020-02-07|          37|                           5|        13.513513513513514|3.3410138248847927|\n",
            "|060376012021|2020-02-07|          56|                          14|                      25.0|28.826815642458097|\n",
            "|060379800211|2020-02-07|          50|                           3|                       6.0|               0.0|\n",
            "|060590871034|2020-02-07|          88|                          30|        34.090909090909086|10.621468926553671|\n",
            "|060372713005|2020-02-07|          30|                           3|                      10.0|  8.47255369928401|\n",
            "|060372766041|2020-02-07|         137|                          24|         17.51824817518248| 21.44736842105263|\n",
            "|060374334012|2020-02-07|          35|                           6|        17.142857142857142| 12.63408820023838|\n",
            "|060375017003|2020-02-07|          38|                           6|        15.789473684210526| 7.543103448275862|\n",
            "+------------+----------+------------+----------------------------+--------------------------+------------------+\n",
            "only showing top 20 rows\n",
            "\n",
            "time: 3.76 s (started: 2021-04-21 16:52:20 +00:00)\n"
          ],
          "name": "stdout"
        }
      ]
    },
    {
      "cell_type": "code",
      "metadata": {
        "id": "6vFzCEtNukZy",
        "colab": {
          "base_uri": "https://localhost:8080/"
        },
        "outputId": "802e0e6d-c784-42ed-d3d1-9ff9d86c9621"
      },
      "source": [
        "# DIVIDING THE PEOPLE TOP 20 PERCENT AND BOTTOM 20 PERCENT\n",
        "\n",
        "df_mob_demo_high_class =  spark.sql('SELECT * FROM demographic_mobility WHERE poverty_percentage < 20')\n",
        "grouped_df_mob_demo_high_class = df_mob_demo_high_class.groupBy(\"date\").mean(\"completely_home_percentage\").withColumnRenamed('avg(completely_home_percentage)','completely_home_percentage')\n",
        "grouped_df_mob_demo_high_class.createOrReplaceTempView('mob_demo_high_class')\n",
        "\n",
        "\n",
        "df_mob_demo_low_class =  spark.sql('SELECT * FROM demographic_mobility WHERE poverty_percentage > 80')\n",
        "grouped_df_mob_demo_low_class = df_mob_demo_low_class.groupBy(\"date\").mean(\"completely_home_percentage\").withColumnRenamed('avg(completely_home_percentage)','completely_home_percentage')\n",
        "grouped_df_mob_demo_low_class.createOrReplaceTempView('mob_demo_low_class')\n",
        "\n",
        "grouped_df_mob_demo_combined = spark.sql(\"\"\"\n",
        "\n",
        "SELECT h.date,h.completely_home_percentage as top20_perc,\n",
        "l.completely_home_percentage as bottom20_perc  \n",
        "FROM mob_demo_high_class h INNER JOIN mob_demo_low_class l ON h.date = l.date\n",
        "\n",
        "\"\"\")\n"
      ],
      "execution_count": 18,
      "outputs": [
        {
          "output_type": "stream",
          "text": [
            "time: 352 ms (started: 2021-04-21 16:52:24 +00:00)\n"
          ],
          "name": "stdout"
        }
      ]
    },
    {
      "cell_type": "markdown",
      "metadata": {
        "id": "ow6mFwCFoc4r"
      },
      "source": [
        "**Load 2019 stats**"
      ]
    },
    {
      "cell_type": "code",
      "metadata": {
        "colab": {
          "base_uri": "https://localhost:8080/"
        },
        "id": "iBe00iTKobbO",
        "outputId": "91f54b71-8e28-4f4a-a48a-5f7f4004f0ca"
      },
      "source": [
        "# path_str = 'drive/MyDrive/big-data-project/sketch/justin/{}_social_summary_'.format(city)\n",
        "# path = Path(path_str)\n",
        "\n",
        "# stat_2019 = spark.read.format('csv').option('header','true').option('quote',\"\\\"\").option('escape',\"\\\"\").load(str(path/'2019.csv'))\n",
        "# stat_2019\n",
        "\n",
        "mean_2019 = 30.14549191952775"
      ],
      "execution_count": 19,
      "outputs": [
        {
          "output_type": "stream",
          "text": [
            "time: 2.15 ms (started: 2021-04-21 16:52:24 +00:00)\n"
          ],
          "name": "stdout"
        }
      ]
    },
    {
      "cell_type": "code",
      "metadata": {
        "colab": {
          "base_uri": "https://localhost:8080/"
        },
        "id": "jbZKBBrlsymR",
        "outputId": "f24d974d-e5d0-4477-a4e7-66a314992c6a"
      },
      "source": [
        "# calculate deviation form mean\n",
        "grouped_df_mob_demo_combined= grouped_df_mob_demo_combined.withColumn(\"top20_deviation\",\n",
        "    grouped_df_mob_demo_combined['top20_perc'] - mean_2019)\n"
      ],
      "execution_count": 20,
      "outputs": [
        {
          "output_type": "stream",
          "text": [
            "time: 52.3 ms (started: 2021-04-21 16:52:24 +00:00)\n"
          ],
          "name": "stdout"
        }
      ]
    },
    {
      "cell_type": "code",
      "metadata": {
        "colab": {
          "base_uri": "https://localhost:8080/"
        },
        "id": "m1v1M4wSwmbV",
        "outputId": "2a684449-0aef-46b0-d771-799c9a213c59"
      },
      "source": [
        "grouped_df_mob_demo_combined = grouped_df_mob_demo_combined.withColumn(\"bottom20_deviation\",\n",
        "    grouped_df_mob_demo_combined['bottom20_perc'] - mean_2019)"
      ],
      "execution_count": 21,
      "outputs": [
        {
          "output_type": "stream",
          "text": [
            "time: 26.1 ms (started: 2021-04-21 16:52:24 +00:00)\n"
          ],
          "name": "stdout"
        }
      ]
    },
    {
      "cell_type": "markdown",
      "metadata": {
        "id": "JxSLoJSmYuj8"
      },
      "source": [
        "\n",
        "**Visualizations** \n",
        "\n"
      ]
    },
    {
      "cell_type": "code",
      "metadata": {
        "colab": {
          "base_uri": "https://localhost:8080/"
        },
        "id": "S4CaYZVO43kY",
        "outputId": "290861d7-af49-41c0-8fa9-7744e77c64bf"
      },
      "source": [
        "# create altair library theme \n",
        "\n",
        "def my_theme():\n",
        "  return {\n",
        "    'config': {\n",
        "      'view': {'continuousHeight': 300, 'continuousWidth': 400},  # from the default theme\n",
        "      'range': {'category': {'scheme': ['#E15759', '#a0aab4', '#4E79A7']}}\n",
        "    }\n",
        "  }\n",
        "alt.themes.register('my_theme', my_theme)\n",
        "alt.themes.enable('my_theme')"
      ],
      "execution_count": 22,
      "outputs": [
        {
          "output_type": "execute_result",
          "data": {
            "text/plain": [
              "ThemeRegistry.enable('my_theme')"
            ]
          },
          "metadata": {
            "tags": []
          },
          "execution_count": 22
        },
        {
          "output_type": "stream",
          "text": [
            "time: 18.8 ms (started: 2021-04-21 16:52:24 +00:00)\n"
          ],
          "name": "stdout"
        }
      ]
    },
    {
      "cell_type": "code",
      "metadata": {
        "colab": {
          "base_uri": "https://localhost:8080/"
        },
        "id": "0KpTm73-BpiA",
        "outputId": "5a99f98e-90eb-497f-b802-b5805ce5a6b2"
      },
      "source": [
        "def create_chart(df) :\n",
        "  chart = alt.Chart(df1).transform_fold(\n",
        "    #fold=['bottom20_deviation', 'top20_deviation','mean 2019'],\n",
        "    fold=['Bottom 20 % Deviation', 'Top 20 % Deviation'],\n",
        "    as_ = ['Poverty %','completely home %']\n",
        "    \n",
        "    ).mark_line().encode(\n",
        "      x= alt.X('date:T', title = 'Date'),\n",
        "      y= alt.Y('completely home %:Q', title = 'Completely Home %'),\n",
        "      color='Poverty %:N'\n",
        "    ).properties(width = 1000)\n",
        "\n",
        "  rule = alt.Chart(pd.DataFrame({'Mean 2019':[0]})).mark_rule(color='#757575',strokeDash=[5,3], size=2).encode(\n",
        "    y='Mean 2019',\n",
        "    size=alt.value(2),\n",
        "    )\n",
        "  \n",
        "  text = alt.Chart({'values':[{'x': 0, 'y': 1}]}).mark_text(\n",
        "    text='Mean 2019', angle=0\n",
        "    ).encode(\n",
        "      y=alt.Y('y:Q')\n",
        "    )\n",
        "\n",
        "  return  chart + rule + text\n"
      ],
      "execution_count": 94,
      "outputs": [
        {
          "output_type": "stream",
          "text": [
            "time: 14.5 ms (started: 2021-04-21 17:40:41 +00:00)\n"
          ],
          "name": "stdout"
        }
      ]
    },
    {
      "cell_type": "code",
      "metadata": {
        "colab": {
          "base_uri": "https://localhost:8080/"
        },
        "id": "P9AleyUlCeuI",
        "outputId": "83eece24-de47-488b-81ce-74c67fd956dc"
      },
      "source": [
        "def apply_date_filter(df,start_date,end_date) :\n",
        "  mask = (df['date'] > start_date) & (df['date'] <= end_date)\n",
        "  dfX = df.loc[mask]\n",
        "  return dfX"
      ],
      "execution_count": 24,
      "outputs": [
        {
          "output_type": "stream",
          "text": [
            "time: 2.95 ms (started: 2021-04-21 16:52:24 +00:00)\n"
          ],
          "name": "stdout"
        }
      ]
    },
    {
      "cell_type": "code",
      "metadata": {
        "colab": {
          "base_uri": "https://localhost:8080/",
          "height": 441
        },
        "id": "V4EHlNdfSVal",
        "outputId": "44057a7a-88c7-4a81-d177-50f7ffebc2d5"
      },
      "source": [
        "# create pandas dataframe for visualizations\n",
        "df = grouped_df_mob_demo_combined.toPandas()\n",
        "df"
      ],
      "execution_count": 25,
      "outputs": [
        {
          "output_type": "execute_result",
          "data": {
            "text/html": [
              "<div>\n",
              "<style scoped>\n",
              "    .dataframe tbody tr th:only-of-type {\n",
              "        vertical-align: middle;\n",
              "    }\n",
              "\n",
              "    .dataframe tbody tr th {\n",
              "        vertical-align: top;\n",
              "    }\n",
              "\n",
              "    .dataframe thead th {\n",
              "        text-align: right;\n",
              "    }\n",
              "</style>\n",
              "<table border=\"1\" class=\"dataframe\">\n",
              "  <thead>\n",
              "    <tr style=\"text-align: right;\">\n",
              "      <th></th>\n",
              "      <th>date</th>\n",
              "      <th>top20_perc</th>\n",
              "      <th>bottom20_perc</th>\n",
              "      <th>top20_deviation</th>\n",
              "      <th>bottom20_deviation</th>\n",
              "    </tr>\n",
              "  </thead>\n",
              "  <tbody>\n",
              "    <tr>\n",
              "      <th>0</th>\n",
              "      <td>2020-02-26</td>\n",
              "      <td>17.297551</td>\n",
              "      <td>17.028372</td>\n",
              "      <td>-12.847941</td>\n",
              "      <td>-13.117120</td>\n",
              "    </tr>\n",
              "    <tr>\n",
              "      <th>1</th>\n",
              "      <td>2020-04-13</td>\n",
              "      <td>49.179507</td>\n",
              "      <td>27.580760</td>\n",
              "      <td>19.034015</td>\n",
              "      <td>-2.564731</td>\n",
              "    </tr>\n",
              "    <tr>\n",
              "      <th>2</th>\n",
              "      <td>2020-06-24</td>\n",
              "      <td>33.002194</td>\n",
              "      <td>36.514949</td>\n",
              "      <td>2.856702</td>\n",
              "      <td>6.369457</td>\n",
              "    </tr>\n",
              "    <tr>\n",
              "      <th>3</th>\n",
              "      <td>2020-06-08</td>\n",
              "      <td>36.723946</td>\n",
              "      <td>40.887284</td>\n",
              "      <td>6.578454</td>\n",
              "      <td>10.741793</td>\n",
              "    </tr>\n",
              "    <tr>\n",
              "      <th>4</th>\n",
              "      <td>2020-09-12</td>\n",
              "      <td>33.388659</td>\n",
              "      <td>29.334402</td>\n",
              "      <td>3.243167</td>\n",
              "      <td>-0.811090</td>\n",
              "    </tr>\n",
              "    <tr>\n",
              "      <th>...</th>\n",
              "      <td>...</td>\n",
              "      <td>...</td>\n",
              "      <td>...</td>\n",
              "      <td>...</td>\n",
              "      <td>...</td>\n",
              "    </tr>\n",
              "    <tr>\n",
              "      <th>361</th>\n",
              "      <td>2020-04-05</td>\n",
              "      <td>51.744280</td>\n",
              "      <td>27.824742</td>\n",
              "      <td>21.598788</td>\n",
              "      <td>-2.320750</td>\n",
              "    </tr>\n",
              "    <tr>\n",
              "      <th>362</th>\n",
              "      <td>2020-05-01</td>\n",
              "      <td>43.087875</td>\n",
              "      <td>43.937332</td>\n",
              "      <td>12.942383</td>\n",
              "      <td>13.791840</td>\n",
              "    </tr>\n",
              "    <tr>\n",
              "      <th>363</th>\n",
              "      <td>2020-10-25</td>\n",
              "      <td>35.361961</td>\n",
              "      <td>32.028754</td>\n",
              "      <td>5.216469</td>\n",
              "      <td>1.883262</td>\n",
              "    </tr>\n",
              "    <tr>\n",
              "      <th>364</th>\n",
              "      <td>2020-12-28</td>\n",
              "      <td>41.489642</td>\n",
              "      <td>24.049980</td>\n",
              "      <td>11.344151</td>\n",
              "      <td>-6.095512</td>\n",
              "    </tr>\n",
              "    <tr>\n",
              "      <th>365</th>\n",
              "      <td>2020-12-19</td>\n",
              "      <td>34.343137</td>\n",
              "      <td>22.473505</td>\n",
              "      <td>4.197645</td>\n",
              "      <td>-7.671987</td>\n",
              "    </tr>\n",
              "  </tbody>\n",
              "</table>\n",
              "<p>366 rows × 5 columns</p>\n",
              "</div>"
            ],
            "text/plain": [
              "           date  top20_perc  bottom20_perc  top20_deviation  bottom20_deviation\n",
              "0    2020-02-26   17.297551      17.028372       -12.847941          -13.117120\n",
              "1    2020-04-13   49.179507      27.580760        19.034015           -2.564731\n",
              "2    2020-06-24   33.002194      36.514949         2.856702            6.369457\n",
              "3    2020-06-08   36.723946      40.887284         6.578454           10.741793\n",
              "4    2020-09-12   33.388659      29.334402         3.243167           -0.811090\n",
              "..          ...         ...            ...              ...                 ...\n",
              "361  2020-04-05   51.744280      27.824742        21.598788           -2.320750\n",
              "362  2020-05-01   43.087875      43.937332        12.942383           13.791840\n",
              "363  2020-10-25   35.361961      32.028754         5.216469            1.883262\n",
              "364  2020-12-28   41.489642      24.049980        11.344151           -6.095512\n",
              "365  2020-12-19   34.343137      22.473505         4.197645           -7.671987\n",
              "\n",
              "[366 rows x 5 columns]"
            ]
          },
          "metadata": {
            "tags": []
          },
          "execution_count": 25
        },
        {
          "output_type": "stream",
          "text": [
            "time: 8min 40s (started: 2021-04-21 16:52:24 +00:00)\n"
          ],
          "name": "stdout"
        }
      ]
    },
    {
      "cell_type": "code",
      "metadata": {
        "colab": {
          "base_uri": "https://localhost:8080/"
        },
        "id": "Llq4pP1K0wNt",
        "outputId": "27dff67b-d58e-4f5d-8832-89e5349f12f9"
      },
      "source": [
        "# add the mean column 2019\n",
        "df['mean 2019'] = 0"
      ],
      "execution_count": 26,
      "outputs": [
        {
          "output_type": "stream",
          "text": [
            "time: 2.69 ms (started: 2021-04-21 17:01:05 +00:00)\n"
          ],
          "name": "stdout"
        }
      ]
    },
    {
      "cell_type": "code",
      "metadata": {
        "id": "MtFPRkkEZtzL",
        "outputId": "50ed281a-fdd3-40ff-f47b-febcfdb5c1c9",
        "colab": {
          "base_uri": "https://localhost:8080/"
        }
      },
      "source": [
        "df = df.rename(columns={'top20_perc': 'Top 20 %', 'bottom20_perc': 'Bottom 20 %','top20_deviation': 'Top 20 % Deviation', 'bottom20_deviation': 'Bottom 20 % Deviation'})"
      ],
      "execution_count": 35,
      "outputs": [
        {
          "output_type": "stream",
          "text": [
            "time: 5.4 ms (started: 2021-04-21 17:10:14 +00:00)\n"
          ],
          "name": "stdout"
        }
      ]
    },
    {
      "cell_type": "code",
      "metadata": {
        "colab": {
          "base_uri": "https://localhost:8080/",
          "height": 386
        },
        "id": "pTTAkF1Iwesw",
        "outputId": "6a2240cb-b33c-4dde-99ec-767016519d3a"
      },
      "source": [
        "# analysis for the entire year on monthly basis\n",
        "df_str = df.copy(deep=True) #make a deep copy\n",
        "\n",
        "df_str['date'] = pd.to_datetime(df_str['date'],utc= True) # extract the months\n",
        "\n",
        "df_str = df_str.groupby([df_str['date']]).mean().rolling(10).mean()[0:] #find the mean for the days and roll up for every 10 days\n",
        "\n",
        "chart = alt.Chart(df_str.reset_index()).transform_fold(\n",
        "    fold=['Bottom 20 %', 'Top 20 %'],\n",
        "    as_ = ['Poverty %','completely home %']\n",
        "    \n",
        "    ).mark_line().encode(\n",
        "      x='date:T',\n",
        "      y= alt.Y('completely home %:Q', title = 'Completely Home %'), color='Poverty %:N'\n",
        "    ).properties(width = 1000)\n",
        "chart"
      ],
      "execution_count": 37,
      "outputs": [
        {
          "output_type": "execute_result",
          "data": {
            "text/plain": [
              "alt.Chart(...)"
            ],
            "text/html": [
              "\n",
              "<div id=\"altair-viz-85752e55606046d681bfdff4a37e0948\"></div>\n",
              "<script type=\"text/javascript\">\n",
              "  (function(spec, embedOpt){\n",
              "    let outputDiv = document.currentScript.previousElementSibling;\n",
              "    if (outputDiv.id !== \"altair-viz-85752e55606046d681bfdff4a37e0948\") {\n",
              "      outputDiv = document.getElementById(\"altair-viz-85752e55606046d681bfdff4a37e0948\");\n",
              "    }\n",
              "    const paths = {\n",
              "      \"vega\": \"https://cdn.jsdelivr.net/npm//vega@5?noext\",\n",
              "      \"vega-lib\": \"https://cdn.jsdelivr.net/npm//vega-lib?noext\",\n",
              "      \"vega-lite\": \"https://cdn.jsdelivr.net/npm//vega-lite@4.8.1?noext\",\n",
              "      \"vega-embed\": \"https://cdn.jsdelivr.net/npm//vega-embed@6?noext\",\n",
              "    };\n",
              "\n",
              "    function loadScript(lib) {\n",
              "      return new Promise(function(resolve, reject) {\n",
              "        var s = document.createElement('script');\n",
              "        s.src = paths[lib];\n",
              "        s.async = true;\n",
              "        s.onload = () => resolve(paths[lib]);\n",
              "        s.onerror = () => reject(`Error loading script: ${paths[lib]}`);\n",
              "        document.getElementsByTagName(\"head\")[0].appendChild(s);\n",
              "      });\n",
              "    }\n",
              "\n",
              "    function showError(err) {\n",
              "      outputDiv.innerHTML = `<div class=\"error\" style=\"color:red;\">${err}</div>`;\n",
              "      throw err;\n",
              "    }\n",
              "\n",
              "    function displayChart(vegaEmbed) {\n",
              "      vegaEmbed(outputDiv, spec, embedOpt)\n",
              "        .catch(err => showError(`Javascript Error: ${err.message}<br>This usually means there's a typo in your chart specification. See the javascript console for the full traceback.`));\n",
              "    }\n",
              "\n",
              "    if(typeof define === \"function\" && define.amd) {\n",
              "      requirejs.config({paths});\n",
              "      require([\"vega-embed\"], displayChart, err => showError(`Error loading script: ${err.message}`));\n",
              "    } else if (typeof vegaEmbed === \"function\") {\n",
              "      displayChart(vegaEmbed);\n",
              "    } else {\n",
              "      loadScript(\"vega\")\n",
              "        .then(() => loadScript(\"vega-lite\"))\n",
              "        .then(() => loadScript(\"vega-embed\"))\n",
              "        .catch(showError)\n",
              "        .then(() => displayChart(vegaEmbed));\n",
              "    }\n",
              "  })({\"config\": {\"view\": {\"continuousHeight\": 300, \"continuousWidth\": 400}, \"range\": {\"category\": {\"scheme\": [\"#E15759\", \"#a0aab4\", \"#4E79A7\"]}}}, \"data\": {\"name\": \"data-da9a6532c6e8f8a72b3594919194ee4a\"}, \"mark\": \"line\", \"encoding\": {\"color\": {\"type\": \"nominal\", \"field\": \"Poverty %\"}, \"x\": {\"type\": \"temporal\", \"field\": \"date\"}, \"y\": {\"type\": \"quantitative\", \"field\": \"completely home %\", \"title\": \"Completely Home %\"}}, \"transform\": [{\"fold\": [\"Bottom 20 %\", \"Top 20 %\"], \"as\": [\"Poverty %\", \"completely home %\"]}], \"width\": 1000, \"$schema\": \"https://vega.github.io/schema/vega-lite/v4.8.1.json\", \"datasets\": {\"data-da9a6532c6e8f8a72b3594919194ee4a\": [{\"date\": \"2020-01-01T00:00:00+00:00\", \"Top 20 %\": null, \"Bottom 20 %\": null, \"Top 20 % Deviation\": null, \"Bottom 20 % Deviation\": null, \"mean 2019\": null}, {\"date\": \"2020-01-02T00:00:00+00:00\", \"Top 20 %\": null, \"Bottom 20 %\": null, \"Top 20 % Deviation\": null, \"Bottom 20 % Deviation\": null, \"mean 2019\": null}, {\"date\": \"2020-01-03T00:00:00+00:00\", \"Top 20 %\": null, \"Bottom 20 %\": null, \"Top 20 % Deviation\": null, \"Bottom 20 % Deviation\": null, \"mean 2019\": null}, {\"date\": \"2020-01-04T00:00:00+00:00\", \"Top 20 %\": null, \"Bottom 20 %\": null, \"Top 20 % Deviation\": null, \"Bottom 20 % Deviation\": null, \"mean 2019\": null}, {\"date\": \"2020-01-05T00:00:00+00:00\", \"Top 20 %\": null, \"Bottom 20 %\": null, \"Top 20 % Deviation\": null, \"Bottom 20 % Deviation\": null, \"mean 2019\": null}, {\"date\": \"2020-01-06T00:00:00+00:00\", \"Top 20 %\": null, \"Bottom 20 %\": null, \"Top 20 % Deviation\": null, \"Bottom 20 % Deviation\": null, \"mean 2019\": null}, {\"date\": \"2020-01-07T00:00:00+00:00\", \"Top 20 %\": null, \"Bottom 20 %\": null, \"Top 20 % Deviation\": null, \"Bottom 20 % Deviation\": null, \"mean 2019\": null}, {\"date\": \"2020-01-08T00:00:00+00:00\", \"Top 20 %\": null, \"Bottom 20 %\": null, \"Top 20 % Deviation\": null, \"Bottom 20 % Deviation\": null, \"mean 2019\": null}, {\"date\": \"2020-01-09T00:00:00+00:00\", \"Top 20 %\": null, \"Bottom 20 %\": null, \"Top 20 % Deviation\": null, \"Bottom 20 % Deviation\": null, \"mean 2019\": null}, {\"date\": \"2020-01-10T00:00:00+00:00\", \"Top 20 %\": 24.55029199052574, \"Bottom 20 %\": 22.196031255700873, \"Top 20 % Deviation\": -5.595199929002011, \"Bottom 20 % Deviation\": -7.949460663826878, \"mean 2019\": 0.0}, {\"date\": \"2020-01-11T00:00:00+00:00\", \"Top 20 %\": 24.036000096017236, \"Bottom 20 %\": 22.40588613831798, \"Top 20 % Deviation\": -6.1094918235105125, \"Bottom 20 % Deviation\": -7.73960578120977, \"mean 2019\": 0.0}, {\"date\": \"2020-01-12T00:00:00+00:00\", \"Top 20 %\": 24.219851907151117, \"Bottom 20 %\": 22.677997308754577, \"Top 20 % Deviation\": -5.925640012376631, \"Bottom 20 % Deviation\": -7.467494610773171, \"mean 2019\": 0.0}, {\"date\": \"2020-01-13T00:00:00+00:00\", \"Top 20 %\": 23.790387489985658, \"Bottom 20 %\": 22.488217315021675, \"Top 20 % Deviation\": -6.355104429542088, \"Bottom 20 % Deviation\": -7.657274604506074, \"mean 2019\": 0.0}, {\"date\": \"2020-01-14T00:00:00+00:00\", \"Top 20 %\": 23.21740514709317, \"Bottom 20 %\": 22.470515824297706, \"Top 20 % Deviation\": -6.928086772434577, \"Bottom 20 % Deviation\": -7.674976095230042, \"mean 2019\": 0.0}, {\"date\": \"2020-01-15T00:00:00+00:00\", \"Top 20 %\": 22.150632109357026, \"Bottom 20 %\": 22.443694332370125, \"Top 20 % Deviation\": -7.994859810170723, \"Bottom 20 % Deviation\": -7.701797587157621, \"mean 2019\": 0.0}, {\"date\": \"2020-01-16T00:00:00+00:00\", \"Top 20 %\": 21.70864929683795, \"Bottom 20 %\": 22.35954597840829, \"Top 20 % Deviation\": -8.436842622689799, \"Bottom 20 % Deviation\": -7.785945941119456, \"mean 2019\": 0.0}, {\"date\": \"2020-01-17T00:00:00+00:00\", \"Top 20 %\": 21.518308385238402, \"Bottom 20 %\": 22.678914705645344, \"Top 20 % Deviation\": -8.627183534289347, \"Bottom 20 % Deviation\": -7.466577213882401, \"mean 2019\": 0.0}, {\"date\": \"2020-01-18T00:00:00+00:00\", \"Top 20 %\": 21.63684891574365, \"Bottom 20 %\": 22.303203012653746, \"Top 20 % Deviation\": -8.508643003784101, \"Bottom 20 % Deviation\": -7.842288906873996, \"mean 2019\": 0.0}, {\"date\": \"2020-01-19T00:00:00+00:00\", \"Top 20 %\": 21.857069291389873, \"Bottom 20 %\": 22.392141155635667, \"Top 20 % Deviation\": -8.288422628137875, \"Bottom 20 % Deviation\": -7.753350763892075, \"mean 2019\": 0.0}, {\"date\": \"2020-01-20T00:00:00+00:00\", \"Top 20 %\": 22.259265455664433, \"Bottom 20 %\": 23.025589314748665, \"Top 20 % Deviation\": -7.886226463863315, \"Bottom 20 % Deviation\": -7.119902604779074, \"mean 2019\": 0.0}, {\"date\": \"2020-01-21T00:00:00+00:00\", \"Top 20 %\": 21.65143801029651, \"Bottom 20 %\": 22.658638855686153, \"Top 20 % Deviation\": -8.494053909231237, \"Bottom 20 % Deviation\": -7.486853063841586, \"mean 2019\": 0.0}, {\"date\": \"2020-01-22T00:00:00+00:00\", \"Top 20 %\": 20.738997192939618, \"Bottom 20 %\": 21.88760743957088, \"Top 20 % Deviation\": -9.406494726588132, \"Bottom 20 % Deviation\": -8.257884479956859, \"mean 2019\": 0.0}, {\"date\": \"2020-01-23T00:00:00+00:00\", \"Top 20 %\": 20.55639192714591, \"Bottom 20 %\": 21.541176018952434, \"Top 20 % Deviation\": -9.589099992381842, \"Bottom 20 % Deviation\": -8.604315900575305, \"mean 2019\": 0.0}, {\"date\": \"2020-01-24T00:00:00+00:00\", \"Top 20 %\": 20.514391364997056, \"Bottom 20 %\": 21.506953199798, \"Top 20 % Deviation\": -9.631100554530695, \"Bottom 20 % Deviation\": -8.638538719729734, \"mean 2019\": 0.0}, {\"date\": \"2020-01-25T00:00:00+00:00\", \"Top 20 %\": 21.125625295370252, \"Bottom 20 %\": 21.526609223719117, \"Top 20 % Deviation\": -9.0198666241575, \"Bottom 20 % Deviation\": -8.618882695808619, \"mean 2019\": 0.0}, {\"date\": \"2020-01-26T00:00:00+00:00\", \"Top 20 %\": 21.91466588463153, \"Bottom 20 %\": 21.81383041994312, \"Top 20 % Deviation\": -8.230826034896225, \"Bottom 20 % Deviation\": -8.331661499584618, \"mean 2019\": 0.0}, {\"date\": \"2020-01-27T00:00:00+00:00\", \"Top 20 %\": 21.94832768619704, \"Bottom 20 %\": 21.724343777695843, \"Top 20 % Deviation\": -8.197164233330714, \"Bottom 20 % Deviation\": -8.421148141831894, \"mean 2019\": 0.0}, {\"date\": \"2020-01-28T00:00:00+00:00\", \"Top 20 %\": 21.55448787658019, \"Bottom 20 %\": 22.182904153067863, \"Top 20 % Deviation\": -8.591004042947565, \"Bottom 20 % Deviation\": -7.962587766459879, \"mean 2019\": 0.0}, {\"date\": \"2020-01-29T00:00:00+00:00\", \"Top 20 %\": 20.805630177693406, \"Bottom 20 %\": 21.540266616229026, \"Top 20 % Deviation\": -9.339861741834353, \"Bottom 20 % Deviation\": -8.605225303298715, \"mean 2019\": 0.0}, {\"date\": \"2020-01-30T00:00:00+00:00\", \"Top 20 %\": 20.21741919353098, \"Bottom 20 %\": 21.27921119832531, \"Top 20 % Deviation\": -9.928072725996781, \"Bottom 20 % Deviation\": -8.866280721202433, \"mean 2019\": 0.0}, {\"date\": \"2020-01-31T00:00:00+00:00\", \"Top 20 %\": 20.023372107697348, \"Bottom 20 %\": 21.182753055496992, \"Top 20 % Deviation\": -10.12211981183041, \"Bottom 20 % Deviation\": -8.962738864030753, \"mean 2019\": 0.0}, {\"date\": \"2020-02-01T00:00:00+00:00\", \"Top 20 %\": 20.559479362346647, \"Bottom 20 %\": 21.82761719318041, \"Top 20 % Deviation\": -9.586012557181112, \"Bottom 20 % Deviation\": -8.317874726347338, \"mean 2019\": 0.0}, {\"date\": \"2020-02-02T00:00:00+00:00\", \"Top 20 %\": 21.58109916939369, \"Bottom 20 %\": 22.880953197917183, \"Top 20 % Deviation\": -8.564392750134072, \"Bottom 20 % Deviation\": -7.264538721610565, \"mean 2019\": 0.0}, {\"date\": \"2020-02-03T00:00:00+00:00\", \"Top 20 %\": 21.95909577311695, \"Bottom 20 %\": 22.983409493680757, \"Top 20 % Deviation\": -8.186396146410813, \"Bottom 20 % Deviation\": -7.1620824258469895, \"mean 2019\": 0.0}, {\"date\": \"2020-02-04T00:00:00+00:00\", \"Top 20 %\": 21.616788390373692, \"Bottom 20 %\": 22.9430833337707, \"Top 20 % Deviation\": -8.528703529154072, \"Bottom 20 % Deviation\": -7.202408585757044, \"mean 2019\": 0.0}, {\"date\": \"2020-02-05T00:00:00+00:00\", \"Top 20 %\": 21.067667802003484, \"Bottom 20 %\": 22.974960640059628, \"Top 20 % Deviation\": -9.077824117524278, \"Bottom 20 % Deviation\": -7.17053127946812, \"mean 2019\": 0.0}, {\"date\": \"2020-02-06T00:00:00+00:00\", \"Top 20 %\": 21.126227903572463, \"Bottom 20 %\": 23.090502697818856, \"Top 20 % Deviation\": -9.019264015955297, \"Bottom 20 % Deviation\": -7.054989221708891, \"mean 2019\": 0.0}, {\"date\": \"2020-02-07T00:00:00+00:00\", \"Top 20 %\": 21.388621825149837, \"Bottom 20 %\": 22.599971599579522, \"Top 20 % Deviation\": -8.756870094377925, \"Bottom 20 % Deviation\": -7.5455203199482295, \"mean 2019\": 0.0}, {\"date\": \"2020-02-08T00:00:00+00:00\", \"Top 20 %\": 22.1496877509382, \"Bottom 20 %\": 23.268054656261366, \"Top 20 % Deviation\": -7.995804168589562, \"Bottom 20 % Deviation\": -6.877437263266385, \"mean 2019\": 0.0}, {\"date\": \"2020-02-09T00:00:00+00:00\", \"Top 20 %\": 23.264073615815697, \"Bottom 20 %\": 23.69152336265908, \"Top 20 % Deviation\": -6.881418303712062, \"Bottom 20 % Deviation\": -6.4539685568686735, \"mean 2019\": 0.0}, {\"date\": \"2020-02-10T00:00:00+00:00\", \"Top 20 %\": 23.91294007979874, \"Bottom 20 %\": 24.24219510377703, \"Top 20 % Deviation\": -6.232551839729021, \"Bottom 20 % Deviation\": -5.903296815750726, \"mean 2019\": 0.0}, {\"date\": \"2020-02-11T00:00:00+00:00\", \"Top 20 %\": 23.705468266557922, \"Bottom 20 %\": 24.00557521904569, \"Top 20 % Deviation\": -6.4400236529698365, \"Bottom 20 % Deviation\": -6.1399167004820665, \"mean 2019\": 0.0}, {\"date\": \"2020-02-12T00:00:00+00:00\", \"Top 20 %\": 22.842339714629436, \"Bottom 20 %\": 23.607981029257367, \"Top 20 % Deviation\": -7.3031522048983275, \"Bottom 20 % Deviation\": -6.537510890270388, \"mean 2019\": 0.0}, {\"date\": \"2020-02-13T00:00:00+00:00\", \"Top 20 %\": 22.63845765396344, \"Bottom 20 %\": 23.51469842066994, \"Top 20 % Deviation\": -7.507034265564323, \"Bottom 20 % Deviation\": -6.6307934988578126, \"mean 2019\": 0.0}, {\"date\": \"2020-02-14T00:00:00+00:00\", \"Top 20 %\": 22.28429293361401, \"Bottom 20 %\": 23.340413474150047, \"Top 20 % Deviation\": -7.861198985913754, \"Bottom 20 % Deviation\": -6.8050784453777045, \"mean 2019\": 0.0}, {\"date\": \"2020-02-15T00:00:00+00:00\", \"Top 20 %\": 22.36765363168694, \"Bottom 20 %\": 23.444196440807705, \"Top 20 % Deviation\": -7.777838287840825, \"Bottom 20 % Deviation\": -6.701295478720047, \"mean 2019\": 0.0}, {\"date\": \"2020-02-16T00:00:00+00:00\", \"Top 20 %\": 22.837017106339637, \"Bottom 20 %\": 24.00921848502312, \"Top 20 % Deviation\": -7.308474813188129, \"Bottom 20 % Deviation\": -6.1362734345046315, \"mean 2019\": 0.0}, {\"date\": \"2020-02-17T00:00:00+00:00\", \"Top 20 %\": 23.12233012460675, \"Bottom 20 %\": 24.496147900908145, \"Top 20 % Deviation\": -7.023161794921016, \"Bottom 20 % Deviation\": -5.649344018619607, \"mean 2019\": 0.0}, {\"date\": \"2020-02-18T00:00:00+00:00\", \"Top 20 %\": 22.61980347344602, \"Bottom 20 %\": 24.42350020114252, \"Top 20 % Deviation\": -7.525688446081746, \"Bottom 20 % Deviation\": -5.721991718385228, \"mean 2019\": 0.0}, {\"date\": \"2020-02-19T00:00:00+00:00\", \"Top 20 %\": 21.72608990462981, \"Bottom 20 %\": 23.824348113440678, \"Top 20 % Deviation\": -8.419402014897956, \"Bottom 20 % Deviation\": -6.321143806087069, \"mean 2019\": 0.0}, {\"date\": \"2020-02-20T00:00:00+00:00\", \"Top 20 %\": 21.383284999812695, \"Bottom 20 %\": 23.396562202311223, \"Top 20 % Deviation\": -8.762206919715075, \"Bottom 20 % Deviation\": -6.748929717216522, \"mean 2019\": 0.0}, {\"date\": \"2020-02-21T00:00:00+00:00\", \"Top 20 %\": 21.16522750559107, \"Bottom 20 %\": 22.966259027075033, \"Top 20 % Deviation\": -8.980264413936698, \"Bottom 20 % Deviation\": -7.179232892452717, \"mean 2019\": 0.0}, {\"date\": \"2020-02-22T00:00:00+00:00\", \"Top 20 %\": 21.368375016173584, \"Bottom 20 %\": 22.885369196222115, \"Top 20 % Deviation\": -8.777116903354184, \"Bottom 20 % Deviation\": -7.260122723305633, \"mean 2019\": 0.0}, {\"date\": \"2020-02-23T00:00:00+00:00\", \"Top 20 %\": 21.653438861412358, \"Bottom 20 %\": 22.92243887209043, \"Top 20 % Deviation\": -8.492053058115411, \"Bottom 20 % Deviation\": -7.223053047437316, \"mean 2019\": 0.0}, {\"date\": \"2020-02-24T00:00:00+00:00\", \"Top 20 %\": 21.823001164146156, \"Bottom 20 %\": 22.824492226795634, \"Top 20 % Deviation\": -8.322490755381613, \"Bottom 20 % Deviation\": -7.3209996927321175, \"mean 2019\": 0.0}, {\"date\": \"2020-02-25T00:00:00+00:00\", \"Top 20 %\": 22.834346181946746, \"Bottom 20 %\": 23.89811719600483, \"Top 20 % Deviation\": -7.311145737581024, \"Bottom 20 % Deviation\": -6.247374723522918, \"mean 2019\": 0.0}, {\"date\": \"2020-02-26T00:00:00+00:00\", \"Top 20 %\": 21.99590855262797, \"Bottom 20 %\": 22.789341686933763, \"Top 20 % Deviation\": -8.1495833668998, \"Bottom 20 % Deviation\": -7.356150232593983, \"mean 2019\": 0.0}, {\"date\": \"2020-02-27T00:00:00+00:00\", \"Top 20 %\": 21.48188443598429, \"Bottom 20 %\": 22.321910549770728, \"Top 20 % Deviation\": -8.663607483543474, \"Bottom 20 % Deviation\": -7.823581369757018, \"mean 2019\": 0.0}, {\"date\": \"2020-02-28T00:00:00+00:00\", \"Top 20 %\": 21.293696082857924, \"Bottom 20 %\": 21.726675394178923, \"Top 20 % Deviation\": -8.851795836669844, \"Bottom 20 % Deviation\": -8.418816525348822, \"mean 2019\": 0.0}, {\"date\": \"2020-02-29T00:00:00+00:00\", \"Top 20 %\": 21.353058164243762, \"Bottom 20 %\": 21.526092589562545, \"Top 20 % Deviation\": -8.792433755284005, \"Bottom 20 % Deviation\": -8.6193993299652, \"mean 2019\": 0.0}, {\"date\": \"2020-03-01T00:00:00+00:00\", \"Top 20 %\": 22.276381326426655, \"Bottom 20 %\": 22.70577146924081, \"Top 20 % Deviation\": -7.869110593101112, \"Bottom 20 % Deviation\": -7.439720450286936, \"mean 2019\": 0.0}, {\"date\": \"2020-03-02T00:00:00+00:00\", \"Top 20 %\": 22.784956926574555, \"Bottom 20 %\": 23.325689851857305, \"Top 20 % Deviation\": -7.360534992953214, \"Bottom 20 % Deviation\": -6.819802067670437, \"mean 2019\": 0.0}, {\"date\": \"2020-03-03T00:00:00+00:00\", \"Top 20 %\": 22.44059119958381, \"Bottom 20 %\": 23.109014099575347, \"Top 20 % Deviation\": -7.704900719943959, \"Bottom 20 % Deviation\": -7.036477819952398, \"mean 2019\": 0.0}, {\"date\": \"2020-03-04T00:00:00+00:00\", \"Top 20 %\": 21.95444128657182, \"Bottom 20 %\": 22.93076487801859, \"Top 20 % Deviation\": -8.191050632955948, \"Bottom 20 % Deviation\": -7.214727041509155, \"mean 2019\": 0.0}, {\"date\": \"2020-03-05T00:00:00+00:00\", \"Top 20 %\": 21.815743690952928, \"Bottom 20 %\": 23.099924761553055, \"Top 20 % Deviation\": -8.329748228574843, \"Bottom 20 % Deviation\": -7.04556715797469, \"mean 2019\": 0.0}, {\"date\": \"2020-03-06T00:00:00+00:00\", \"Top 20 %\": 20.609751935176448, \"Bottom 20 %\": 22.411931316545434, \"Top 20 % Deviation\": -9.535739984351325, \"Bottom 20 % Deviation\": -7.733560602982314, \"mean 2019\": 0.0}, {\"date\": \"2020-03-07T00:00:00+00:00\", \"Top 20 %\": 21.214737473594504, \"Bottom 20 %\": 23.3133858519314, \"Top 20 % Deviation\": -8.930754445933266, \"Bottom 20 % Deviation\": -6.832106067596345, \"mean 2019\": 0.0}, {\"date\": \"2020-03-08T00:00:00+00:00\", \"Top 20 %\": 22.289804428412506, \"Bottom 20 %\": 24.095290334907034, \"Top 20 % Deviation\": -7.8556874911152645, \"Bottom 20 % Deviation\": -6.050201584620711, \"mean 2019\": 0.0}, {\"date\": \"2020-03-09T00:00:00+00:00\", \"Top 20 %\": 22.643248688161275, \"Bottom 20 %\": 24.831645959514812, \"Top 20 % Deviation\": -7.502243231366495, \"Bottom 20 % Deviation\": -5.3138459600129355, \"mean 2019\": 0.0}, {\"date\": \"2020-03-10T00:00:00+00:00\", \"Top 20 %\": 22.701580627054817, \"Bottom 20 %\": 25.370751024272344, \"Top 20 % Deviation\": -7.4439112924729525, \"Bottom 20 % Deviation\": -4.774740895255407, \"mean 2019\": 0.0}, {\"date\": \"2020-03-11T00:00:00+00:00\", \"Top 20 %\": 21.80016742565091, \"Bottom 20 %\": 24.92456405191382, \"Top 20 % Deviation\": -8.345324493876861, \"Bottom 20 % Deviation\": -5.220927867613931, \"mean 2019\": 0.0}, {\"date\": \"2020-03-12T00:00:00+00:00\", \"Top 20 %\": 21.80735436675633, \"Bottom 20 %\": 25.059088726233494, \"Top 20 % Deviation\": -8.338137552771439, \"Bottom 20 % Deviation\": -5.086403193294251, \"mean 2019\": 0.0}, {\"date\": \"2020-03-13T00:00:00+00:00\", \"Top 20 %\": 22.237968868501056, \"Bottom 20 %\": 25.714980109856718, \"Top 20 % Deviation\": -7.907523051026709, \"Bottom 20 % Deviation\": -4.430511809671026, \"mean 2019\": 0.0}, {\"date\": \"2020-03-14T00:00:00+00:00\", \"Top 20 %\": 23.451823566916772, \"Bottom 20 %\": 26.316646071865325, \"Top 20 % Deviation\": -6.6936683526109935, \"Bottom 20 % Deviation\": -3.82884584766242, \"mean 2019\": 0.0}, {\"date\": \"2020-03-15T00:00:00+00:00\", \"Top 20 %\": 25.02632043405553, \"Bottom 20 %\": 26.820615614886442, \"Top 20 % Deviation\": -5.1191714854722346, \"Bottom 20 % Deviation\": -3.3248763046413017, \"mean 2019\": 0.0}, {\"date\": \"2020-03-16T00:00:00+00:00\", \"Top 20 %\": 26.52457325798585, \"Bottom 20 %\": 27.006702962726745, \"Top 20 % Deviation\": -3.6209186615419133, \"Bottom 20 % Deviation\": -3.138788956800998, \"mean 2019\": 0.0}, {\"date\": \"2020-03-17T00:00:00+00:00\", \"Top 20 %\": 27.816286381060458, \"Bottom 20 %\": 27.03888391310233, \"Top 20 % Deviation\": -2.329205538467307, \"Bottom 20 % Deviation\": -3.106608006425412, \"mean 2019\": 0.0}, {\"date\": \"2020-03-18T00:00:00+00:00\", \"Top 20 %\": 28.622011901663335, \"Bottom 20 %\": 27.03517441356279, \"Top 20 % Deviation\": -1.5234800178644285, \"Bottom 20 % Deviation\": -3.110317505964955, \"mean 2019\": 0.0}, {\"date\": \"2020-03-19T00:00:00+00:00\", \"Top 20 %\": 30.17207663684174, \"Bottom 20 %\": 26.745218897877173, \"Top 20 % Deviation\": 0.02658471731397256, \"Bottom 20 % Deviation\": -3.4002730216505705, \"mean 2019\": 0.0}, {\"date\": \"2020-03-20T00:00:00+00:00\", \"Top 20 %\": 32.28363009816718, \"Bottom 20 %\": 26.677540532789966, \"Top 20 % Deviation\": 2.138138178639415, \"Bottom 20 % Deviation\": -3.467951386737778, \"mean 2019\": 0.0}, {\"date\": \"2020-03-21T00:00:00+00:00\", \"Top 20 %\": 35.11355853364464, \"Bottom 20 %\": 26.77424853137789, \"Top 20 % Deviation\": 4.968066614116876, \"Bottom 20 % Deviation\": -3.3712433881498485, \"mean 2019\": 0.0}, {\"date\": \"2020-03-22T00:00:00+00:00\", \"Top 20 %\": 37.36095660973647, \"Bottom 20 %\": 26.691918884012544, \"Top 20 % Deviation\": 7.2154646902087, \"Bottom 20 % Deviation\": -3.453573035515189, \"mean 2019\": 0.0}, {\"date\": \"2020-03-23T00:00:00+00:00\", \"Top 20 %\": 39.24750736157031, \"Bottom 20 %\": 26.21291614540715, \"Top 20 % Deviation\": 9.102015442042537, \"Bottom 20 % Deviation\": -3.9325757741205862, \"mean 2019\": 0.0}, {\"date\": \"2020-03-24T00:00:00+00:00\", \"Top 20 %\": 40.520639949726075, \"Bottom 20 %\": 26.084062474528803, \"Top 20 % Deviation\": 10.375148030198304, \"Bottom 20 % Deviation\": -4.061429444998931, \"mean 2019\": 0.0}, {\"date\": \"2020-03-25T00:00:00+00:00\", \"Top 20 %\": 41.16258369312244, \"Bottom 20 %\": 25.667548159402106, \"Top 20 % Deviation\": 11.01709177359467, \"Bottom 20 % Deviation\": -4.477943760125631, \"mean 2019\": 0.0}, {\"date\": \"2020-03-26T00:00:00+00:00\", \"Top 20 %\": 41.99739651136724, \"Bottom 20 %\": 25.157872876775677, \"Top 20 % Deviation\": 11.851904591839471, \"Bottom 20 % Deviation\": -4.987619042752055, \"mean 2019\": 0.0}, {\"date\": \"2020-03-27T00:00:00+00:00\", \"Top 20 %\": 42.80697304351075, \"Bottom 20 %\": 25.255966729874558, \"Top 20 % Deviation\": 12.661481123982982, \"Bottom 20 % Deviation\": -4.889525189653171, \"mean 2019\": 0.0}, {\"date\": \"2020-03-28T00:00:00+00:00\", \"Top 20 %\": 43.46283344533255, \"Bottom 20 %\": 24.90066924223274, \"Top 20 % Deviation\": 13.317341525804773, \"Bottom 20 % Deviation\": -5.244822677294991, \"mean 2019\": 0.0}, {\"date\": \"2020-03-29T00:00:00+00:00\", \"Top 20 %\": 44.48800236340052, \"Bottom 20 %\": 25.143291565319487, \"Top 20 % Deviation\": 14.342510443872749, \"Bottom 20 % Deviation\": -5.002200354208242, \"mean 2019\": 0.0}, {\"date\": \"2020-03-30T00:00:00+00:00\", \"Top 20 %\": 44.85997019058629, \"Bottom 20 %\": 25.503670117036787, \"Top 20 % Deviation\": 14.714478271058516, \"Bottom 20 % Deviation\": -4.64182180249094, \"mean 2019\": 0.0}, {\"date\": \"2020-03-31T00:00:00+00:00\", \"Top 20 %\": 44.56941965427815, \"Bottom 20 %\": 25.53169710770829, \"Top 20 % Deviation\": 14.423927734750375, \"Bottom 20 % Deviation\": -4.613794811819434, \"mean 2019\": 0.0}, {\"date\": \"2020-04-01T00:00:00+00:00\", \"Top 20 %\": 44.71855865779758, \"Bottom 20 %\": 26.25389831885648, \"Top 20 % Deviation\": 14.57306673826981, \"Bottom 20 % Deviation\": -3.891593600671252, \"mean 2019\": 0.0}, {\"date\": \"2020-04-02T00:00:00+00:00\", \"Top 20 %\": 45.31862037469841, \"Bottom 20 %\": 27.10450407462302, \"Top 20 % Deviation\": 15.173128455170644, \"Bottom 20 % Deviation\": -3.0409878449047065, \"mean 2019\": 0.0}, {\"date\": \"2020-04-03T00:00:00+00:00\", \"Top 20 %\": 45.45439443551692, \"Bottom 20 %\": 27.826609361203033, \"Top 20 % Deviation\": 15.30890251598915, \"Bottom 20 % Deviation\": -2.3188825583246957, \"mean 2019\": 0.0}, {\"date\": \"2020-04-04T00:00:00+00:00\", \"Top 20 %\": 46.1684091730485, \"Bottom 20 %\": 28.293008525833926, \"Top 20 % Deviation\": 16.02291725352073, \"Bottom 20 % Deviation\": -1.8524833936938006, \"mean 2019\": 0.0}, {\"date\": \"2020-04-05T00:00:00+00:00\", \"Top 20 %\": 46.94909616634622, \"Bottom 20 %\": 28.620141039406384, \"Top 20 % Deviation\": 16.80360424681845, \"Bottom 20 % Deviation\": -1.525350880121345, \"mean 2019\": 0.0}, {\"date\": \"2020-04-06T00:00:00+00:00\", \"Top 20 %\": 47.76889664419437, \"Bottom 20 %\": 29.3034062503864, \"Top 20 % Deviation\": 17.623404724666603, \"Bottom 20 % Deviation\": -0.8420856691413316, \"mean 2019\": 0.0}, {\"date\": \"2020-04-07T00:00:00+00:00\", \"Top 20 %\": 48.57119268441683, \"Bottom 20 %\": 30.062160056335824, \"Top 20 % Deviation\": 18.425700764889065, \"Bottom 20 % Deviation\": -0.08333186319190525, \"mean 2019\": 0.0}, {\"date\": \"2020-04-08T00:00:00+00:00\", \"Top 20 %\": 48.74552577073894, \"Bottom 20 %\": 30.817906000604797, \"Top 20 % Deviation\": 18.600033851211172, \"Bottom 20 % Deviation\": 0.6724140810770656, \"mean 2019\": 0.0}, {\"date\": \"2020-04-09T00:00:00+00:00\", \"Top 20 %\": 49.39345877012088, \"Bottom 20 %\": 31.565518455890913, \"Top 20 % Deviation\": 19.24796685059311, \"Bottom 20 % Deviation\": 1.420026536363182, \"mean 2019\": 0.0}, {\"date\": \"2020-04-10T00:00:00+00:00\", \"Top 20 %\": 49.5007648724044, \"Bottom 20 %\": 31.821078251467462, \"Top 20 % Deviation\": 19.35527295287664, \"Bottom 20 % Deviation\": 1.6755863319397328, \"mean 2019\": 0.0}, {\"date\": \"2020-04-11T00:00:00+00:00\", \"Top 20 %\": 49.37608087366786, \"Bottom 20 %\": 31.509922295658964, \"Top 20 % Deviation\": 19.230588954140096, \"Bottom 20 % Deviation\": 1.3644303761312344, \"mean 2019\": 0.0}, {\"date\": \"2020-04-12T00:00:00+00:00\", \"Top 20 %\": 50.277456977965755, \"Bottom 20 %\": 31.778620551071565, \"Top 20 % Deviation\": 20.131965058437995, \"Bottom 20 % Deviation\": 1.6331286315438347, \"mean 2019\": 0.0}, {\"date\": \"2020-04-13T00:00:00+00:00\", \"Top 20 %\": 50.64203918548047, \"Bottom 20 %\": 31.286763651737296, \"Top 20 % Deviation\": 20.496547265952717, \"Bottom 20 % Deviation\": 1.141271732209566, \"mean 2019\": 0.0}, {\"date\": \"2020-04-14T00:00:00+00:00\", \"Top 20 %\": 50.391392541666576, \"Bottom 20 %\": 31.425359831896536, \"Top 20 % Deviation\": 20.245900622138823, \"Bottom 20 % Deviation\": 1.27986791236881, \"mean 2019\": 0.0}, {\"date\": \"2020-04-15T00:00:00+00:00\", \"Top 20 %\": 49.64434368845645, \"Bottom 20 %\": 31.46825793892483, \"Top 20 % Deviation\": 19.4988517689287, \"Bottom 20 % Deviation\": 1.3227660193971016, \"mean 2019\": 0.0}, {\"date\": \"2020-04-16T00:00:00+00:00\", \"Top 20 %\": 48.925702816239394, \"Bottom 20 %\": 31.221215930580183, \"Top 20 % Deviation\": 18.78021089671164, \"Bottom 20 % Deviation\": 1.0757240110524529, \"mean 2019\": 0.0}, {\"date\": \"2020-04-17T00:00:00+00:00\", \"Top 20 %\": 48.06904312594923, \"Bottom 20 %\": 30.901084558020578, \"Top 20 % Deviation\": 17.92355120642148, \"Bottom 20 % Deviation\": 0.7555926384928522, \"mean 2019\": 0.0}, {\"date\": \"2020-04-18T00:00:00+00:00\", \"Top 20 %\": 47.875951012579335, \"Bottom 20 %\": 30.734813651497937, \"Top 20 % Deviation\": 17.73045909305159, \"Bottom 20 % Deviation\": 0.5893217319702153, \"mean 2019\": 0.0}, {\"date\": \"2020-04-19T00:00:00+00:00\", \"Top 20 %\": 47.68874073329145, \"Bottom 20 %\": 30.328780816948104, \"Top 20 % Deviation\": 17.54324881376371, \"Bottom 20 % Deviation\": 0.18328889742037582, \"mean 2019\": 0.0}, {\"date\": \"2020-04-20T00:00:00+00:00\", \"Top 20 %\": 47.49818526823024, \"Bottom 20 %\": 29.658462541923747, \"Top 20 % Deviation\": 17.352693348702488, \"Bottom 20 % Deviation\": -0.48702937760398013, \"mean 2019\": 0.0}, {\"date\": \"2020-04-21T00:00:00+00:00\", \"Top 20 %\": 47.34074975454391, \"Bottom 20 %\": 29.317439986743437, \"Top 20 % Deviation\": 17.195257835016157, \"Bottom 20 % Deviation\": -0.8280519327842913, \"mean 2019\": 0.0}, {\"date\": \"2020-04-22T00:00:00+00:00\", \"Top 20 %\": 45.920118336075845, \"Bottom 20 %\": 28.765508489032925, \"Top 20 % Deviation\": 15.774626416548088, \"Bottom 20 % Deviation\": -1.379983430494804, \"mean 2019\": 0.0}, {\"date\": \"2020-04-23T00:00:00+00:00\", \"Top 20 %\": 45.21226177966147, \"Bottom 20 %\": 28.630167345863004, \"Top 20 % Deviation\": 15.066769860133714, \"Bottom 20 % Deviation\": -1.5153245736647254, \"mean 2019\": 0.0}, {\"date\": \"2020-04-24T00:00:00+00:00\", \"Top 20 %\": 44.925032278752056, \"Bottom 20 %\": 28.37584664042003, \"Top 20 % Deviation\": 14.779540359224308, \"Bottom 20 % Deviation\": -1.7696452791077015, \"mean 2019\": 0.0}, {\"date\": \"2020-04-25T00:00:00+00:00\", \"Top 20 %\": 45.00808665404101, \"Bottom 20 %\": 28.545059922257856, \"Top 20 % Deviation\": 14.86259473451326, \"Bottom 20 % Deviation\": -1.6004319972698773, \"mean 2019\": 0.0}, {\"date\": \"2020-04-26T00:00:00+00:00\", \"Top 20 %\": 45.005324241751076, \"Bottom 20 %\": 27.884323435034048, \"Top 20 % Deviation\": 14.85983232222332, \"Bottom 20 % Deviation\": -2.261168484493679, \"mean 2019\": 0.0}, {\"date\": \"2020-04-27T00:00:00+00:00\", \"Top 20 %\": 45.24562037598509, \"Bottom 20 %\": 28.029296370805053, \"Top 20 % Deviation\": 15.100128456457336, \"Bottom 20 % Deviation\": -2.1161955487226742, \"mean 2019\": 0.0}, {\"date\": \"2020-04-28T00:00:00+00:00\", \"Top 20 %\": 44.896792146268595, \"Bottom 20 %\": 27.500383993676518, \"Top 20 % Deviation\": 14.751300226740838, \"Bottom 20 % Deviation\": -2.645107925851213, \"mean 2019\": 0.0}, {\"date\": \"2020-04-29T00:00:00+00:00\", \"Top 20 %\": 44.0781812636427, \"Bottom 20 %\": 27.286190118244974, \"Top 20 % Deviation\": 13.932689344114944, \"Bottom 20 % Deviation\": -2.8593018012827534, \"mean 2019\": 0.0}, {\"date\": \"2020-04-30T00:00:00+00:00\", \"Top 20 %\": 43.86711676574102, \"Bottom 20 %\": 27.53772147372582, \"Top 20 % Deviation\": 13.72162484621326, \"Bottom 20 % Deviation\": -2.607770445801907, \"mean 2019\": 0.0}, {\"date\": \"2020-05-01T00:00:00+00:00\", \"Top 20 %\": 43.68174205584958, \"Bottom 20 %\": 29.261046089508973, \"Top 20 % Deviation\": 13.536250136321826, \"Bottom 20 % Deviation\": -0.8844458300187515, \"mean 2019\": 0.0}, {\"date\": \"2020-05-02T00:00:00+00:00\", \"Top 20 %\": 43.75954772861833, \"Bottom 20 %\": 31.33319394109148, \"Top 20 % Deviation\": 13.614055809090573, \"Bottom 20 % Deviation\": 1.1877020215637555, \"mean 2019\": 0.0}, {\"date\": \"2020-05-03T00:00:00+00:00\", \"Top 20 %\": 44.36733976573818, \"Bottom 20 %\": 33.973422960538564, \"Top 20 % Deviation\": 14.221847846210423, \"Bottom 20 % Deviation\": 3.827931041010836, \"mean 2019\": 0.0}, {\"date\": \"2020-05-04T00:00:00+00:00\", \"Top 20 %\": 44.55576280437432, \"Bottom 20 %\": 36.1562306517871, \"Top 20 % Deviation\": 14.410270884846563, \"Bottom 20 % Deviation\": 6.010738732259375, \"mean 2019\": 0.0}, {\"date\": \"2020-05-05T00:00:00+00:00\", \"Top 20 %\": 44.40566584369707, \"Bottom 20 %\": 38.08143014641613, \"Top 20 % Deviation\": 14.260173924169314, \"Bottom 20 % Deviation\": 7.935938226888408, \"mean 2019\": 0.0}, {\"date\": \"2020-05-06T00:00:00+00:00\", \"Top 20 %\": 44.40218553098893, \"Bottom 20 %\": 40.76335419507826, \"Top 20 % Deviation\": 14.256693611461168, \"Bottom 20 % Deviation\": 10.617862275550532, \"mean 2019\": 0.0}, {\"date\": \"2020-05-07T00:00:00+00:00\", \"Top 20 %\": 44.2345415540138, \"Bottom 20 %\": 42.58027878746419, \"Top 20 % Deviation\": 14.089049634486035, \"Bottom 20 % Deviation\": 12.434786867936461, \"mean 2019\": 0.0}, {\"date\": \"2020-05-08T00:00:00+00:00\", \"Top 20 %\": 44.064509919997285, \"Bottom 20 %\": 44.669333264279295, \"Top 20 % Deviation\": 13.91901800046952, \"Bottom 20 % Deviation\": 14.523841344751569, \"mean 2019\": 0.0}, {\"date\": \"2020-05-09T00:00:00+00:00\", \"Top 20 %\": 43.76003588700029, \"Bottom 20 %\": 46.58128427651891, \"Top 20 % Deviation\": 13.614543967472533, \"Bottom 20 % Deviation\": 16.43579235699118, \"mean 2019\": 0.0}, {\"date\": \"2020-05-10T00:00:00+00:00\", \"Top 20 %\": 43.635225984018994, \"Bottom 20 %\": 48.06134327731011, \"Top 20 % Deviation\": 13.489734064491236, \"Bottom 20 % Deviation\": 17.91585135778238, \"mean 2019\": 0.0}, {\"date\": \"2020-05-11T00:00:00+00:00\", \"Top 20 %\": 43.94893268221251, \"Bottom 20 %\": 48.41923138443857, \"Top 20 % Deviation\": 13.80344076268475, \"Bottom 20 % Deviation\": 18.273739464910836, \"mean 2019\": 0.0}, {\"date\": \"2020-05-12T00:00:00+00:00\", \"Top 20 %\": 43.9048301737171, \"Bottom 20 %\": 47.91712921810521, \"Top 20 % Deviation\": 13.759338254189345, \"Bottom 20 % Deviation\": 17.77163729857747, \"mean 2019\": 0.0}, {\"date\": \"2020-05-13T00:00:00+00:00\", \"Top 20 %\": 43.33922999758391, \"Bottom 20 %\": 46.6223012115996, \"Top 20 % Deviation\": 13.193738078056148, \"Bottom 20 % Deviation\": 16.476809292071863, \"mean 2019\": 0.0}, {\"date\": \"2020-05-14T00:00:00+00:00\", \"Top 20 %\": 43.115026294629125, \"Bottom 20 %\": 45.94819830551562, \"Top 20 % Deviation\": 12.969534375101366, \"Bottom 20 % Deviation\": 15.802706385987884, \"mean 2019\": 0.0}, {\"date\": \"2020-05-15T00:00:00+00:00\", \"Top 20 %\": 42.622570465638155, \"Bottom 20 %\": 44.83566647233778, \"Top 20 % Deviation\": 12.477078546110395, \"Bottom 20 % Deviation\": 14.690174552810044, \"mean 2019\": 0.0}, {\"date\": \"2020-05-16T00:00:00+00:00\", \"Top 20 %\": 42.076531399521436, \"Bottom 20 %\": 43.49125439547456, \"Top 20 % Deviation\": 11.931039479993675, \"Bottom 20 % Deviation\": 13.345762475946833, \"mean 2019\": 0.0}, {\"date\": \"2020-05-17T00:00:00+00:00\", \"Top 20 %\": 42.276861024373275, \"Bottom 20 %\": 43.2129153790884, \"Top 20 % Deviation\": 12.131369104845513, \"Bottom 20 % Deviation\": 13.067423459560676, \"mean 2019\": 0.0}, {\"date\": \"2020-05-18T00:00:00+00:00\", \"Top 20 %\": 42.53635735368674, \"Bottom 20 %\": 42.82044108942865, \"Top 20 % Deviation\": 12.390865434158972, \"Bottom 20 % Deviation\": 12.67494916990092, \"mean 2019\": 0.0}, {\"date\": \"2020-05-19T00:00:00+00:00\", \"Top 20 %\": 42.84561647255555, \"Bottom 20 %\": 42.53406117313343, \"Top 20 % Deviation\": 12.700124553027786, \"Bottom 20 % Deviation\": 12.388569253605713, \"mean 2019\": 0.0}, {\"date\": \"2020-05-20T00:00:00+00:00\", \"Top 20 %\": 42.887643119837314, \"Bottom 20 %\": 43.00550138473913, \"Top 20 % Deviation\": 12.742151200309555, \"Bottom 20 % Deviation\": 12.8600094652114, \"mean 2019\": 0.0}, {\"date\": \"2020-05-21T00:00:00+00:00\", \"Top 20 %\": 42.29016579708757, \"Bottom 20 %\": 42.84863925765025, \"Top 20 % Deviation\": 12.144673877559814, \"Bottom 20 % Deviation\": 12.70314733812252, \"mean 2019\": 0.0}, {\"date\": \"2020-05-22T00:00:00+00:00\", \"Top 20 %\": 41.82082743668592, \"Bottom 20 %\": 42.54089728293323, \"Top 20 % Deviation\": 11.675335517158164, \"Bottom 20 % Deviation\": 12.3954053634055, \"mean 2019\": 0.0}, {\"date\": \"2020-05-23T00:00:00+00:00\", \"Top 20 %\": 41.36087342716734, \"Bottom 20 %\": 42.84550427906359, \"Top 20 % Deviation\": 11.215381507639586, \"Bottom 20 % Deviation\": 12.700012359535858, \"mean 2019\": 0.0}, {\"date\": \"2020-05-24T00:00:00+00:00\", \"Top 20 %\": 41.09093447642636, \"Bottom 20 %\": 41.97701063921707, \"Top 20 % Deviation\": 10.945442556898604, \"Bottom 20 % Deviation\": 11.831518719689338, \"mean 2019\": 0.0}, {\"date\": \"2020-05-25T00:00:00+00:00\", \"Top 20 %\": 41.515453157021014, \"Bottom 20 %\": 42.41501880980194, \"Top 20 % Deviation\": 11.369961237493257, \"Bottom 20 % Deviation\": 12.26952689027421, \"mean 2019\": 0.0}, {\"date\": \"2020-05-26T00:00:00+00:00\", \"Top 20 %\": 41.42455014593439, \"Bottom 20 %\": 42.528051943105, \"Top 20 % Deviation\": 11.279058226406637, \"Bottom 20 % Deviation\": 12.38256002357726, \"mean 2019\": 0.0}, {\"date\": \"2020-05-27T00:00:00+00:00\", \"Top 20 %\": 40.76112550982549, \"Bottom 20 %\": 42.14041399387875, \"Top 20 % Deviation\": 10.615633590297733, \"Bottom 20 % Deviation\": 11.994922074351015, \"mean 2019\": 0.0}, {\"date\": \"2020-05-28T00:00:00+00:00\", \"Top 20 %\": 40.193623324177096, \"Bottom 20 %\": 42.11544874265908, \"Top 20 % Deviation\": 10.048131404649345, \"Bottom 20 % Deviation\": 11.969956823131344, \"mean 2019\": 0.0}, {\"date\": \"2020-05-29T00:00:00+00:00\", \"Top 20 %\": 39.42863655689327, \"Bottom 20 %\": 41.164956019547844, \"Top 20 % Deviation\": 9.283144637365506, \"Bottom 20 % Deviation\": 11.019464100020105, \"mean 2019\": 0.0}, {\"date\": \"2020-05-30T00:00:00+00:00\", \"Top 20 %\": 38.89618445038275, \"Bottom 20 %\": 40.56425154776532, \"Top 20 % Deviation\": 8.75069253085499, \"Bottom 20 % Deviation\": 10.418759628237577, \"mean 2019\": 0.0}, {\"date\": \"2020-05-31T00:00:00+00:00\", \"Top 20 %\": 39.07073752830334, \"Bottom 20 %\": 39.836577740135134, \"Top 20 % Deviation\": 8.92524560877558, \"Bottom 20 % Deviation\": 9.69108582060739, \"mean 2019\": 0.0}, {\"date\": \"2020-06-01T00:00:00+00:00\", \"Top 20 %\": 39.44709909701813, \"Bottom 20 %\": 39.6412381557267, \"Top 20 % Deviation\": 9.301607177490373, \"Bottom 20 % Deviation\": 9.495746236198945, \"mean 2019\": 0.0}, {\"date\": \"2020-06-02T00:00:00+00:00\", \"Top 20 %\": 39.91507637564206, \"Bottom 20 %\": 39.923693835178376, \"Top 20 % Deviation\": 9.769584456114305, \"Bottom 20 % Deviation\": 9.77820191565063, \"mean 2019\": 0.0}, {\"date\": \"2020-06-03T00:00:00+00:00\", \"Top 20 %\": 39.7220590511025, \"Bottom 20 %\": 41.03956682542953, \"Top 20 % Deviation\": 9.576567131574745, \"Bottom 20 % Deviation\": 10.894074905901785, \"mean 2019\": 0.0}, {\"date\": \"2020-06-04T00:00:00+00:00\", \"Top 20 %\": 39.04948037630332, \"Bottom 20 %\": 40.9026827989678, \"Top 20 % Deviation\": 8.903988456775568, \"Bottom 20 % Deviation\": 10.75719087944006, \"mean 2019\": 0.0}, {\"date\": \"2020-06-05T00:00:00+00:00\", \"Top 20 %\": 38.6882261814095, \"Bottom 20 %\": 40.65337333320744, \"Top 20 % Deviation\": 8.54273426188174, \"Bottom 20 % Deviation\": 10.507881413679698, \"mean 2019\": 0.0}, {\"date\": \"2020-06-06T00:00:00+00:00\", \"Top 20 %\": 38.2505551669521, \"Bottom 20 %\": 39.87172649211205, \"Top 20 % Deviation\": 8.10506324742434, \"Bottom 20 % Deviation\": 9.726234572584312, \"mean 2019\": 0.0}, {\"date\": \"2020-06-07T00:00:00+00:00\", \"Top 20 %\": 38.17475288335261, \"Bottom 20 %\": 39.61387815684431, \"Top 20 % Deviation\": 8.029260963824857, \"Bottom 20 % Deviation\": 9.468386237316567, \"mean 2019\": 0.0}, {\"date\": \"2020-06-08T00:00:00+00:00\", \"Top 20 %\": 38.3288921284377, \"Bottom 20 %\": 40.235450776278334, \"Top 20 % Deviation\": 8.183400208909948, \"Bottom 20 % Deviation\": 10.089958856750588, \"mean 2019\": 0.0}, {\"date\": \"2020-06-09T00:00:00+00:00\", \"Top 20 %\": 38.279402312245466, \"Bottom 20 %\": 40.341480493883665, \"Top 20 % Deviation\": 8.133910392717718, \"Bottom 20 % Deviation\": 10.195988574355916, \"mean 2019\": 0.0}, {\"date\": \"2020-06-10T00:00:00+00:00\", \"Top 20 %\": 37.7745632243864, \"Bottom 20 %\": 40.315029983480095, \"Top 20 % Deviation\": 7.6290713048586385, \"Bottom 20 % Deviation\": 10.169538063952341, \"mean 2019\": 0.0}, {\"date\": \"2020-06-11T00:00:00+00:00\", \"Top 20 %\": 37.14644087342979, \"Bottom 20 %\": 40.41167472694456, \"Top 20 % Deviation\": 7.000948953902025, \"Bottom 20 % Deviation\": 10.266182807416811, \"mean 2019\": 0.0}, {\"date\": \"2020-06-12T00:00:00+00:00\", \"Top 20 %\": 36.400002255795, \"Bottom 20 %\": 39.584431293378934, \"Top 20 % Deviation\": 6.254510336267239, \"Bottom 20 % Deviation\": 9.438939373851184, \"mean 2019\": 0.0}, {\"date\": \"2020-06-13T00:00:00+00:00\", \"Top 20 %\": 36.11781172766894, \"Bottom 20 %\": 38.70121413874328, \"Top 20 % Deviation\": 5.972319808141175, \"Bottom 20 % Deviation\": 8.555722219215525, \"mean 2019\": 0.0}, {\"date\": \"2020-06-14T00:00:00+00:00\", \"Top 20 %\": 36.22066847241602, \"Bottom 20 %\": 37.88296920842414, \"Top 20 % Deviation\": 6.075176552888256, \"Bottom 20 % Deviation\": 7.737477288896389, \"mean 2019\": 0.0}, {\"date\": \"2020-06-15T00:00:00+00:00\", \"Top 20 %\": 36.34882780953653, \"Bottom 20 %\": 38.15258379292337, \"Top 20 % Deviation\": 6.2033358900087645, \"Bottom 20 % Deviation\": 8.00709187339562, \"mean 2019\": 0.0}, {\"date\": \"2020-06-16T00:00:00+00:00\", \"Top 20 %\": 36.60940863348387, \"Bottom 20 %\": 38.18295608983165, \"Top 20 % Deviation\": 6.4639167139561025, \"Bottom 20 % Deviation\": 8.0374641703039, \"mean 2019\": 0.0}, {\"date\": \"2020-06-17T00:00:00+00:00\", \"Top 20 %\": 36.26641172245641, \"Bottom 20 %\": 37.6449007422224, \"Top 20 % Deviation\": 6.120919802928638, \"Bottom 20 % Deviation\": 7.499408822694653, \"mean 2019\": 0.0}, {\"date\": \"2020-06-18T00:00:00+00:00\", \"Top 20 %\": 36.102003377901134, \"Bottom 20 %\": 37.11802662231901, \"Top 20 % Deviation\": 5.95651145837336, \"Bottom 20 % Deviation\": 6.972534702791256, \"mean 2019\": 0.0}, {\"date\": \"2020-06-19T00:00:00+00:00\", \"Top 20 %\": 35.81542804530196, \"Bottom 20 %\": 36.12103752147563, \"Top 20 % Deviation\": 5.669936125774179, \"Bottom 20 % Deviation\": 5.975545601947873, \"mean 2019\": 0.0}, {\"date\": \"2020-06-20T00:00:00+00:00\", \"Top 20 %\": 35.462428208017535, \"Bottom 20 %\": 35.84121024211229, \"Top 20 % Deviation\": 5.316936288489754, \"Bottom 20 % Deviation\": 5.695718322584536, \"mean 2019\": 0.0}, {\"date\": \"2020-06-21T00:00:00+00:00\", \"Top 20 %\": 35.411196754686344, \"Bottom 20 %\": 34.93487490779756, \"Top 20 % Deviation\": 5.265704835158564, \"Bottom 20 % Deviation\": 4.789382988269808, \"mean 2019\": 0.0}, {\"date\": \"2020-06-22T00:00:00+00:00\", \"Top 20 %\": 35.484747683296305, \"Bottom 20 %\": 34.716984393477695, \"Top 20 % Deviation\": 5.339255763768522, \"Bottom 20 % Deviation\": 4.571492473949946, \"mean 2019\": 0.0}, {\"date\": \"2020-06-23T00:00:00+00:00\", \"Top 20 %\": 35.31613404240889, \"Bottom 20 %\": 34.20569801310224, \"Top 20 % Deviation\": 5.170642122881107, \"Bottom 20 % Deviation\": 4.0602060935744975, \"mean 2019\": 0.0}, {\"date\": \"2020-06-24T00:00:00+00:00\", \"Top 20 %\": 34.89367603624218, \"Bottom 20 %\": 34.56706043108143, \"Top 20 % Deviation\": 4.7481841167143894, \"Bottom 20 % Deviation\": 4.4215685115536845, \"mean 2019\": 0.0}, {\"date\": \"2020-06-25T00:00:00+00:00\", \"Top 20 %\": 34.73948849350816, \"Bottom 20 %\": 34.493376766379264, \"Top 20 % Deviation\": 4.5939965739803785, \"Bottom 20 % Deviation\": 4.347884846851513, \"mean 2019\": 0.0}, {\"date\": \"2020-06-26T00:00:00+00:00\", \"Top 20 %\": 34.37162548444967, \"Bottom 20 %\": 34.31531396059954, \"Top 20 % Deviation\": 4.226133564921894, \"Bottom 20 % Deviation\": 4.169822041071789, \"mean 2019\": 0.0}, {\"date\": \"2020-06-27T00:00:00+00:00\", \"Top 20 %\": 34.236085979194534, \"Bottom 20 %\": 34.095477030703464, \"Top 20 % Deviation\": 4.090594059666758, \"Bottom 20 % Deviation\": 3.9499851111757165, \"mean 2019\": 0.0}, {\"date\": \"2020-06-28T00:00:00+00:00\", \"Top 20 %\": 34.53815436772716, \"Bottom 20 %\": 33.985569986986604, \"Top 20 % Deviation\": 4.392662448199381, \"Bottom 20 % Deviation\": 3.8400780674588555, \"mean 2019\": 0.0}, {\"date\": \"2020-06-29T00:00:00+00:00\", \"Top 20 %\": 34.71653352554354, \"Bottom 20 %\": 33.94672495890926, \"Top 20 % Deviation\": 4.571041606015772, \"Bottom 20 % Deviation\": 3.801233039381502, \"mean 2019\": 0.0}, {\"date\": \"2020-06-30T00:00:00+00:00\", \"Top 20 %\": 34.75563309261136, \"Bottom 20 %\": 33.588577812872174, \"Top 20 % Deviation\": 4.610141173083592, \"Bottom 20 % Deviation\": 3.443085893344423, \"mean 2019\": 0.0}, {\"date\": \"2020-07-01T00:00:00+00:00\", \"Top 20 %\": 34.702120767292286, \"Bottom 20 %\": 34.07901449548651, \"Top 20 % Deviation\": 4.556628847764518, \"Bottom 20 % Deviation\": 3.9335225759587664, \"mean 2019\": 0.0}, {\"date\": \"2020-07-02T00:00:00+00:00\", \"Top 20 %\": 34.72662861044814, \"Bottom 20 %\": 34.45687550912119, \"Top 20 % Deviation\": 4.581136690920369, \"Bottom 20 % Deviation\": 4.311383589593437, \"mean 2019\": 0.0}, {\"date\": \"2020-07-03T00:00:00+00:00\", \"Top 20 %\": 34.718949825979934, \"Bottom 20 %\": 34.287299835295514, \"Top 20 % Deviation\": 4.573457906452167, \"Bottom 20 % Deviation\": 4.141807915767761, \"mean 2019\": 0.0}, {\"date\": \"2020-07-04T00:00:00+00:00\", \"Top 20 %\": 35.237532786053464, \"Bottom 20 %\": 33.82917155263931, \"Top 20 % Deviation\": 5.092040866525695, \"Bottom 20 % Deviation\": 3.68367963311156, \"mean 2019\": 0.0}, {\"date\": \"2020-07-05T00:00:00+00:00\", \"Top 20 %\": 35.83664607224742, \"Bottom 20 %\": 33.46856640747484, \"Top 20 % Deviation\": 5.691154152719651, \"Bottom 20 % Deviation\": 3.323074487947088, \"mean 2019\": 0.0}, {\"date\": \"2020-07-06T00:00:00+00:00\", \"Top 20 %\": 36.09977966074066, \"Bottom 20 %\": 33.6091623868072, \"Top 20 % Deviation\": 5.954287741212888, \"Bottom 20 % Deviation\": 3.4636704672794494, \"mean 2019\": 0.0}, {\"date\": \"2020-07-07T00:00:00+00:00\", \"Top 20 %\": 36.37526230655761, \"Bottom 20 %\": 33.819348236387086, \"Top 20 % Deviation\": 6.229770387029836, \"Bottom 20 % Deviation\": 3.6738563168593346, \"mean 2019\": 0.0}, {\"date\": \"2020-07-08T00:00:00+00:00\", \"Top 20 %\": 36.04574256395743, \"Bottom 20 %\": 33.912387153921856, \"Top 20 % Deviation\": 5.900250644429665, \"Bottom 20 % Deviation\": 3.766895234394103, \"mean 2019\": 0.0}, {\"date\": \"2020-07-09T00:00:00+00:00\", \"Top 20 %\": 36.16514803828678, \"Bottom 20 %\": 34.75088159384408, \"Top 20 % Deviation\": 6.019656118759013, \"Bottom 20 % Deviation\": 4.6053896743163225, \"mean 2019\": 0.0}, {\"date\": \"2020-07-10T00:00:00+00:00\", \"Top 20 %\": 36.010879226174936, \"Bottom 20 %\": 35.1553658782539, \"Top 20 % Deviation\": 5.865387306647167, \"Bottom 20 % Deviation\": 5.009873958726149, \"mean 2019\": 0.0}, {\"date\": \"2020-07-11T00:00:00+00:00\", \"Top 20 %\": 35.91230659805432, \"Bottom 20 %\": 34.83498950795321, \"Top 20 % Deviation\": 5.7668146785265595, \"Bottom 20 % Deviation\": 4.689497588425446, \"mean 2019\": 0.0}, {\"date\": \"2020-07-12T00:00:00+00:00\", \"Top 20 %\": 36.155159812380276, \"Bottom 20 %\": 34.54105929378291, \"Top 20 % Deviation\": 6.009667892852515, \"Bottom 20 % Deviation\": 4.395567374255144, \"mean 2019\": 0.0}, {\"date\": \"2020-07-13T00:00:00+00:00\", \"Top 20 %\": 36.377274630748374, \"Bottom 20 %\": 35.71301511913104, \"Top 20 % Deviation\": 6.231782711220609, \"Bottom 20 % Deviation\": 5.567523199603282, \"mean 2019\": 0.0}, {\"date\": \"2020-07-14T00:00:00+00:00\", \"Top 20 %\": 36.05048254699941, \"Bottom 20 %\": 35.83897612012365, \"Top 20 % Deviation\": 5.904990627471648, \"Bottom 20 % Deviation\": 5.6934842005958854, \"mean 2019\": 0.0}, {\"date\": \"2020-07-15T00:00:00+00:00\", \"Top 20 %\": 35.4546947956169, \"Bottom 20 %\": 36.197788952090086, \"Top 20 % Deviation\": 5.309202876089143, \"Bottom 20 % Deviation\": 6.0522970325623255, \"mean 2019\": 0.0}, {\"date\": \"2020-07-16T00:00:00+00:00\", \"Top 20 %\": 35.53028143221651, \"Bottom 20 %\": 36.85758895201515, \"Top 20 % Deviation\": 5.384789512688752, \"Bottom 20 % Deviation\": 6.712097032487392, \"mean 2019\": 0.0}, {\"date\": \"2020-07-17T00:00:00+00:00\", \"Top 20 %\": 35.32386499646206, \"Bottom 20 %\": 37.14176620242661, \"Top 20 % Deviation\": 5.178373076934306, \"Bottom 20 % Deviation\": 6.99627428289885, \"mean 2019\": 0.0}, {\"date\": \"2020-07-18T00:00:00+00:00\", \"Top 20 %\": 35.30252526532423, \"Bottom 20 %\": 37.25585909883795, \"Top 20 % Deviation\": 5.157033345796464, \"Bottom 20 % Deviation\": 7.1103671793101935, \"mean 2019\": 0.0}, {\"date\": \"2020-07-19T00:00:00+00:00\", \"Top 20 %\": 35.57260605943777, \"Bottom 20 %\": 36.97957872120099, \"Top 20 % Deviation\": 5.427114139910005, \"Bottom 20 % Deviation\": 6.834086801673228, \"mean 2019\": 0.0}, {\"date\": \"2020-07-20T00:00:00+00:00\", \"Top 20 %\": 35.88520194076217, \"Bottom 20 %\": 37.035078656012395, \"Top 20 % Deviation\": 5.739710021234414, \"Bottom 20 % Deviation\": 6.889586736484631, \"mean 2019\": 0.0}, {\"date\": \"2020-07-21T00:00:00+00:00\", \"Top 20 %\": 36.159009053118, \"Bottom 20 %\": 37.40481242549799, \"Top 20 % Deviation\": 6.0135171335902395, \"Bottom 20 % Deviation\": 7.259320505970228, \"mean 2019\": 0.0}, {\"date\": \"2020-07-22T00:00:00+00:00\", \"Top 20 %\": 35.88985421314177, \"Bottom 20 %\": 37.4746642973396, \"Top 20 % Deviation\": 5.744362293614001, \"Bottom 20 % Deviation\": 7.329172377811837, \"mean 2019\": 0.0}, {\"date\": \"2020-07-23T00:00:00+00:00\", \"Top 20 %\": 35.66962636098695, \"Bottom 20 %\": 36.82870895569057, \"Top 20 % Deviation\": 5.524134441459194, \"Bottom 20 % Deviation\": 6.6832170361628105, \"mean 2019\": 0.0}, {\"date\": \"2020-07-24T00:00:00+00:00\", \"Top 20 %\": 35.55819923852546, \"Bottom 20 %\": 37.229891506730496, \"Top 20 % Deviation\": 5.412707318997695, \"Bottom 20 % Deviation\": 7.084399587202734, \"mean 2019\": 0.0}, {\"date\": \"2020-07-25T00:00:00+00:00\", \"Top 20 %\": 35.557526545654504, \"Bottom 20 %\": 36.675655281518644, \"Top 20 % Deviation\": 5.412034626126738, \"Bottom 20 % Deviation\": 6.530163361990884, \"mean 2019\": 0.0}, {\"date\": \"2020-07-26T00:00:00+00:00\", \"Top 20 %\": 35.48068943609622, \"Bottom 20 %\": 35.663036647295336, \"Top 20 % Deviation\": 5.335197516568455, \"Bottom 20 % Deviation\": 5.517544727767576, \"mean 2019\": 0.0}, {\"date\": \"2020-07-27T00:00:00+00:00\", \"Top 20 %\": 35.72135894402497, \"Bottom 20 %\": 35.38237390385115, \"Top 20 % Deviation\": 5.575867024497206, \"Bottom 20 % Deviation\": 5.236881984323391, \"mean 2019\": 0.0}, {\"date\": \"2020-07-28T00:00:00+00:00\", \"Top 20 %\": 35.68250801902564, \"Bottom 20 %\": 35.39618193175602, \"Top 20 % Deviation\": 5.537016099497874, \"Bottom 20 % Deviation\": 5.2506900122282625, \"mean 2019\": 0.0}, {\"date\": \"2020-07-29T00:00:00+00:00\", \"Top 20 %\": 34.98313424190444, \"Bottom 20 %\": 34.94632378554018, \"Top 20 % Deviation\": 4.837642322376672, \"Bottom 20 % Deviation\": 4.800831866012422, \"mean 2019\": 0.0}, {\"date\": \"2020-07-30T00:00:00+00:00\", \"Top 20 %\": 34.71276726687931, \"Bottom 20 %\": 34.347588841840604, \"Top 20 % Deviation\": 4.56727534735154, \"Bottom 20 % Deviation\": 4.202096922312843, \"mean 2019\": 0.0}, {\"date\": \"2020-07-31T00:00:00+00:00\", \"Top 20 %\": 34.07031766524794, \"Bottom 20 %\": 33.61127334285263, \"Top 20 % Deviation\": 3.9248257457201716, \"Bottom 20 % Deviation\": 3.4657814233248656, \"mean 2019\": 0.0}, {\"date\": \"2020-08-01T00:00:00+00:00\", \"Top 20 %\": 33.69942128916699, \"Bottom 20 %\": 32.787343026166766, \"Top 20 % Deviation\": 3.5539293696392136, \"Bottom 20 % Deviation\": 2.6418511066390016, \"mean 2019\": 0.0}, {\"date\": \"2020-08-02T00:00:00+00:00\", \"Top 20 %\": 34.185313289656264, \"Bottom 20 %\": 32.861118354582935, \"Top 20 % Deviation\": 4.039821370128481, \"Bottom 20 % Deviation\": 2.715626435055172, \"mean 2019\": 0.0}, {\"date\": \"2020-08-03T00:00:00+00:00\", \"Top 20 %\": 34.42280594433116, \"Bottom 20 %\": 32.904278779103976, \"Top 20 % Deviation\": 4.2773140248033865, \"Bottom 20 % Deviation\": 2.7587868595762144, \"mean 2019\": 0.0}, {\"date\": \"2020-08-04T00:00:00+00:00\", \"Top 20 %\": 34.33569521175087, \"Bottom 20 %\": 33.42269506661417, \"Top 20 % Deviation\": 4.190203292223095, \"Bottom 20 % Deviation\": 3.2772031470864014, \"mean 2019\": 0.0}, {\"date\": \"2020-08-05T00:00:00+00:00\", \"Top 20 %\": 33.949778831040874, \"Bottom 20 %\": 34.051224120334005, \"Top 20 % Deviation\": 3.804286911513105, \"Bottom 20 % Deviation\": 3.905732200806244, \"mean 2019\": 0.0}, {\"date\": \"2020-08-06T00:00:00+00:00\", \"Top 20 %\": 33.591187226852284, \"Bottom 20 %\": 34.24090064439203, \"Top 20 % Deviation\": 3.445695307324516, \"Bottom 20 % Deviation\": 4.095408724864267, \"mean 2019\": 0.0}, {\"date\": \"2020-08-07T00:00:00+00:00\", \"Top 20 %\": 33.31103638757342, \"Bottom 20 %\": 33.804804518774624, \"Top 20 % Deviation\": 3.1655444680456455, \"Bottom 20 % Deviation\": 3.6593125992468662, \"mean 2019\": 0.0}, {\"date\": \"2020-08-08T00:00:00+00:00\", \"Top 20 %\": 33.430725171541724, \"Bottom 20 %\": 33.96303347651717, \"Top 20 % Deviation\": 3.2852332520139527, \"Bottom 20 % Deviation\": 3.8175415569894176, \"mean 2019\": 0.0}, {\"date\": \"2020-08-09T00:00:00+00:00\", \"Top 20 %\": 33.76631594508779, \"Bottom 20 %\": 33.91655244853711, \"Top 20 % Deviation\": 3.620824025560021, \"Bottom 20 % Deviation\": 3.7710605290093575, \"mean 2019\": 0.0}, {\"date\": \"2020-08-10T00:00:00+00:00\", \"Top 20 %\": 34.281569962921694, \"Bottom 20 %\": 35.34065760725777, \"Top 20 % Deviation\": 4.1360780433939315, \"Bottom 20 % Deviation\": 5.195165687730017, \"mean 2019\": 0.0}, {\"date\": \"2020-08-11T00:00:00+00:00\", \"Top 20 %\": 34.48660055348806, \"Bottom 20 %\": 35.87888322764452, \"Top 20 % Deviation\": 4.341108633960302, \"Bottom 20 % Deviation\": 5.733391308116768, \"mean 2019\": 0.0}, {\"date\": \"2020-08-12T00:00:00+00:00\", \"Top 20 %\": 33.94143617175737, \"Bottom 20 %\": 35.366033493066425, \"Top 20 % Deviation\": 3.79594425222961, \"Bottom 20 % Deviation\": 5.220541573538663, \"mean 2019\": 0.0}, {\"date\": \"2020-08-13T00:00:00+00:00\", \"Top 20 %\": 33.717034620412754, \"Bottom 20 %\": 35.200341563472264, \"Top 20 % Deviation\": 3.571542700884995, \"Bottom 20 % Deviation\": 5.054849643944503, \"mean 2019\": 0.0}, {\"date\": \"2020-08-14T00:00:00+00:00\", \"Top 20 %\": 33.62507500822846, \"Bottom 20 %\": 34.525868188756164, \"Top 20 % Deviation\": 3.479583088700694, \"Bottom 20 % Deviation\": 4.380376269228403, \"mean 2019\": 0.0}, {\"date\": \"2020-08-15T00:00:00+00:00\", \"Top 20 %\": 33.7892967056619, \"Bottom 20 %\": 33.970857029723035, \"Top 20 % Deviation\": 3.643804786134134, \"Bottom 20 % Deviation\": 3.825365110195272, \"mean 2019\": 0.0}, {\"date\": \"2020-08-16T00:00:00+00:00\", \"Top 20 %\": 34.144297972154455, \"Bottom 20 %\": 33.44017192185428, \"Top 20 % Deviation\": 3.998806052626688, \"Bottom 20 % Deviation\": 3.294680002326511, \"mean 2019\": 0.0}, {\"date\": \"2020-08-17T00:00:00+00:00\", \"Top 20 %\": 34.45360253649286, \"Bottom 20 %\": 33.420611259575345, \"Top 20 % Deviation\": 4.308110616965095, \"Bottom 20 % Deviation\": 3.275119340047575, \"mean 2019\": 0.0}, {\"date\": \"2020-08-18T00:00:00+00:00\", \"Top 20 %\": 34.568788894997134, \"Bottom 20 %\": 33.52854393558948, \"Top 20 % Deviation\": 4.423296975469369, \"Bottom 20 % Deviation\": 3.3830520160617192, \"mean 2019\": 0.0}, {\"date\": \"2020-08-19T00:00:00+00:00\", \"Top 20 %\": 34.3928560769849, \"Bottom 20 %\": 33.87846089184395, \"Top 20 % Deviation\": 4.247364157457129, \"Bottom 20 % Deviation\": 3.7329689723161907, \"mean 2019\": 0.0}, {\"date\": \"2020-08-20T00:00:00+00:00\", \"Top 20 %\": 34.105889664822236, \"Bottom 20 %\": 32.51628827742884, \"Top 20 % Deviation\": 3.9603977452944674, \"Bottom 20 % Deviation\": 2.370796357901078, \"mean 2019\": 0.0}, {\"date\": \"2020-08-21T00:00:00+00:00\", \"Top 20 %\": 33.77869356578576, \"Bottom 20 %\": 32.50144791500999, \"Top 20 % Deviation\": 3.6332016462579886, \"Bottom 20 % Deviation\": 2.3559559954822324, \"mean 2019\": 0.0}, {\"date\": \"2020-08-22T00:00:00+00:00\", \"Top 20 %\": 33.77600757253936, \"Bottom 20 %\": 32.44089580284357, \"Top 20 % Deviation\": 3.6305156530115936, \"Bottom 20 % Deviation\": 2.2954038833158092, \"mean 2019\": 0.0}, {\"date\": \"2020-08-23T00:00:00+00:00\", \"Top 20 %\": 33.98538725935381, \"Bottom 20 %\": 31.60746739107099, \"Top 20 % Deviation\": 3.8398953398260387, \"Bottom 20 % Deviation\": 1.461975471543236, \"mean 2019\": 0.0}, {\"date\": \"2020-08-24T00:00:00+00:00\", \"Top 20 %\": 34.273366222727226, \"Bottom 20 %\": 31.752607690579282, \"Top 20 % Deviation\": 4.127874303199457, \"Bottom 20 % Deviation\": 1.6071157710515256, \"mean 2019\": 0.0}, {\"date\": \"2020-08-25T00:00:00+00:00\", \"Top 20 %\": 34.071785473544054, \"Bottom 20 %\": 31.526261307862192, \"Top 20 % Deviation\": 3.9262935540162878, \"Bottom 20 % Deviation\": 1.3807693883344416, \"mean 2019\": 0.0}, {\"date\": \"2020-08-26T00:00:00+00:00\", \"Top 20 %\": 33.889072836501796, \"Bottom 20 %\": 31.572251702930213, \"Top 20 % Deviation\": 3.743580916974037, \"Bottom 20 % Deviation\": 1.4267597834024577, \"mean 2019\": 0.0}, {\"date\": \"2020-08-27T00:00:00+00:00\", \"Top 20 %\": 33.83232197470091, \"Bottom 20 %\": 31.600335028267892, \"Top 20 % Deviation\": 3.6868300551731443, \"Bottom 20 % Deviation\": 1.4548431087401368, \"mean 2019\": 0.0}, {\"date\": \"2020-08-28T00:00:00+00:00\", \"Top 20 %\": 33.67773374485931, \"Bottom 20 %\": 31.334220442314074, \"Top 20 % Deviation\": 3.532241825331539, \"Bottom 20 % Deviation\": 1.1887285227863231, \"mean 2019\": 0.0}, {\"date\": \"2020-08-29T00:00:00+00:00\", \"Top 20 %\": 33.21594215043927, \"Bottom 20 %\": 30.19322149077529, \"Top 20 % Deviation\": 3.0704502309115007, \"Bottom 20 % Deviation\": 0.04772957124753745, \"mean 2019\": 0.0}, {\"date\": \"2020-08-30T00:00:00+00:00\", \"Top 20 %\": 33.22579134581864, \"Bottom 20 %\": 29.507343250874364, \"Top 20 % Deviation\": 3.080299426290876, \"Bottom 20 % Deviation\": -0.6381486686533939, \"mean 2019\": 0.0}, {\"date\": \"2020-08-31T00:00:00+00:00\", \"Top 20 %\": 33.53593620003448, \"Bottom 20 %\": 28.825769230690277, \"Top 20 % Deviation\": 3.390444280506709, \"Bottom 20 % Deviation\": -1.3197226888374811, \"mean 2019\": 0.0}, {\"date\": \"2020-09-01T00:00:00+00:00\", \"Top 20 %\": 33.49788003307172, \"Bottom 20 %\": 29.238323639600345, \"Top 20 % Deviation\": 3.352388113543956, \"Bottom 20 % Deviation\": -0.9071682799274126, \"mean 2019\": 0.0}, {\"date\": \"2020-09-02T00:00:00+00:00\", \"Top 20 %\": 33.07760645235712, \"Bottom 20 %\": 29.68233246209265, \"Top 20 % Deviation\": 2.9321145328293454, \"Bottom 20 % Deviation\": -0.46315945743511017, \"mean 2019\": 0.0}, {\"date\": \"2020-09-03T00:00:00+00:00\", \"Top 20 %\": 32.75575623042267, \"Bottom 20 %\": 29.634696569153114, \"Top 20 % Deviation\": 2.6102643108948946, \"Bottom 20 % Deviation\": -0.5107953503746462, \"mean 2019\": 0.0}, {\"date\": \"2020-09-04T00:00:00+00:00\", \"Top 20 %\": 32.61654544416147, \"Bottom 20 %\": 29.899882508993482, \"Top 20 % Deviation\": 2.4710535246336898, \"Bottom 20 % Deviation\": -0.2456094105342796, \"mean 2019\": 0.0}, {\"date\": \"2020-09-05T00:00:00+00:00\", \"Top 20 %\": 32.409785240936436, \"Bottom 20 %\": 29.302831526776362, \"Top 20 % Deviation\": 2.264293321408659, \"Bottom 20 % Deviation\": -0.8426603927513966, \"mean 2019\": 0.0}, {\"date\": \"2020-09-06T00:00:00+00:00\", \"Top 20 %\": 32.4357267966029, \"Bottom 20 %\": 29.307429319905054, \"Top 20 % Deviation\": 2.2902348770751226, \"Bottom 20 % Deviation\": -0.8380625996227039, \"mean 2019\": 0.0}, {\"date\": \"2020-09-07T00:00:00+00:00\", \"Top 20 %\": 32.8856637449105, \"Bottom 20 %\": 29.439151251250337, \"Top 20 % Deviation\": 2.7401718253827307, \"Bottom 20 % Deviation\": -0.7063406682774207, \"mean 2019\": 0.0}, {\"date\": \"2020-09-08T00:00:00+00:00\", \"Top 20 %\": 33.43227838094699, \"Bottom 20 %\": 30.233878725663423, \"Top 20 % Deviation\": 3.286786461419215, \"Bottom 20 % Deviation\": 0.08838680613566652, \"mean 2019\": 0.0}, {\"date\": \"2020-09-09T00:00:00+00:00\", \"Top 20 %\": 33.72596550906162, \"Bottom 20 %\": 31.605565305151014, \"Top 20 % Deviation\": 3.5804735895338426, \"Bottom 20 % Deviation\": 1.4600733856232613, \"mean 2019\": 0.0}, {\"date\": \"2020-09-10T00:00:00+00:00\", \"Top 20 %\": 33.83130019096893, \"Bottom 20 %\": 32.724693111772424, \"Top 20 % Deviation\": 3.6858082714411564, \"Bottom 20 % Deviation\": 2.57920119224467, \"mean 2019\": 0.0}, {\"date\": \"2020-09-11T00:00:00+00:00\", \"Top 20 %\": 33.83108004988274, \"Bottom 20 %\": 32.33916081687124, \"Top 20 % Deviation\": 3.6855881303549674, \"Bottom 20 % Deviation\": 2.1936688973434912, \"mean 2019\": 0.0}, {\"date\": \"2020-09-12T00:00:00+00:00\", \"Top 20 %\": 33.987165580943504, \"Bottom 20 %\": 32.06404192715776, \"Top 20 % Deviation\": 3.841673661415733, \"Bottom 20 % Deviation\": 1.9185500076300106, \"mean 2019\": 0.0}, {\"date\": \"2020-09-13T00:00:00+00:00\", \"Top 20 %\": 34.35829894630719, \"Bottom 20 %\": 31.536610979621656, \"Top 20 % Deviation\": 4.2128070267794175, \"Bottom 20 % Deviation\": 1.3911190600939007, \"mean 2019\": 0.0}, {\"date\": \"2020-09-14T00:00:00+00:00\", \"Top 20 %\": 34.805456990795854, \"Bottom 20 %\": 31.44013408930237, \"Top 20 % Deviation\": 4.65996507126809, \"Bottom 20 % Deviation\": 1.2946421697746153, \"mean 2019\": 0.0}, {\"date\": \"2020-09-15T00:00:00+00:00\", \"Top 20 %\": 35.433771485632356, \"Bottom 20 %\": 33.042449322493866, \"Top 20 % Deviation\": 5.2882795661045865, \"Bottom 20 % Deviation\": 2.8969574029661103, \"mean 2019\": 0.0}, {\"date\": \"2020-09-16T00:00:00+00:00\", \"Top 20 %\": 35.4657827411307, \"Bottom 20 %\": 33.2832601388961, \"Top 20 % Deviation\": 5.320290821602939, \"Bottom 20 % Deviation\": 3.137768219368341, \"mean 2019\": 0.0}, {\"date\": \"2020-09-17T00:00:00+00:00\", \"Top 20 %\": 35.208152534640035, \"Bottom 20 %\": 33.41190304209137, \"Top 20 % Deviation\": 5.062660615112266, \"Bottom 20 % Deviation\": 3.266411122563607, \"mean 2019\": 0.0}, {\"date\": \"2020-09-18T00:00:00+00:00\", \"Top 20 %\": 34.92184705310928, \"Bottom 20 %\": 33.213002593261535, \"Top 20 % Deviation\": 4.7763551335815135, \"Bottom 20 % Deviation\": 3.067510673733775, \"mean 2019\": 0.0}, {\"date\": \"2020-09-19T00:00:00+00:00\", \"Top 20 %\": 34.57350251006995, \"Bottom 20 %\": 32.24568308210813, \"Top 20 % Deviation\": 4.428010590542181, \"Bottom 20 % Deviation\": 2.1001911625803715, \"mean 2019\": 0.0}, {\"date\": \"2020-09-20T00:00:00+00:00\", \"Top 20 %\": 34.566825195466194, \"Bottom 20 %\": 31.078657243459354, \"Top 20 % Deviation\": 4.421333275938422, \"Bottom 20 % Deviation\": 0.9331653239315937, \"mean 2019\": 0.0}, {\"date\": \"2020-09-21T00:00:00+00:00\", \"Top 20 %\": 34.69301056133618, \"Bottom 20 %\": 31.1951894681494, \"Top 20 % Deviation\": 4.547518641808404, \"Bottom 20 % Deviation\": 1.049697548621641, \"mean 2019\": 0.0}, {\"date\": \"2020-09-22T00:00:00+00:00\", \"Top 20 %\": 34.71054942524013, \"Bottom 20 %\": 31.243426320543257, \"Top 20 % Deviation\": 4.565057505712354, \"Bottom 20 % Deviation\": 1.097934401015496, \"mean 2019\": 0.0}, {\"date\": \"2020-09-23T00:00:00+00:00\", \"Top 20 %\": 34.24079158374643, \"Bottom 20 %\": 31.792045730488933, \"Top 20 % Deviation\": 4.095299664218649, \"Bottom 20 % Deviation\": 1.6465538109611795, \"mean 2019\": 0.0}, {\"date\": \"2020-09-24T00:00:00+00:00\", \"Top 20 %\": 33.96622455530898, \"Bottom 20 %\": 32.024548551458246, \"Top 20 % Deviation\": 3.820732635781212, \"Bottom 20 % Deviation\": 1.8790566319304947, \"mean 2019\": 0.0}, {\"date\": \"2020-09-25T00:00:00+00:00\", \"Top 20 %\": 32.84243463554196, \"Bottom 20 %\": 30.26566980475473, \"Top 20 % Deviation\": 2.6969427160141892, \"Bottom 20 % Deviation\": 0.12017788522697863, \"mean 2019\": 0.0}, {\"date\": \"2020-09-26T00:00:00+00:00\", \"Top 20 %\": 32.40294619224993, \"Bottom 20 %\": 30.22769563854891, \"Top 20 % Deviation\": 2.2574542727221534, \"Bottom 20 % Deviation\": 0.08220371902115779, \"mean 2019\": 0.0}, {\"date\": \"2020-09-27T00:00:00+00:00\", \"Top 20 %\": 32.33819328124773, \"Bottom 20 %\": 29.194846404628503, \"Top 20 % Deviation\": 2.192701361719957, \"Bottom 20 % Deviation\": -0.9506455148992436, \"mean 2019\": 0.0}, {\"date\": \"2020-09-28T00:00:00+00:00\", \"Top 20 %\": 32.33985483078932, \"Bottom 20 %\": 29.500093019685846, \"Top 20 % Deviation\": 2.194362911261544, \"Bottom 20 % Deviation\": -0.645398899841896, \"mean 2019\": 0.0}, {\"date\": \"2020-09-29T00:00:00+00:00\", \"Top 20 %\": 32.37052769837773, \"Bottom 20 %\": 30.43649894499319, \"Top 20 % Deviation\": 2.225035778849952, \"Bottom 20 % Deviation\": 0.2910070254654439, \"mean 2019\": 0.0}, {\"date\": \"2020-09-30T00:00:00+00:00\", \"Top 20 %\": 32.19861336096368, \"Bottom 20 %\": 31.40914285910723, \"Top 20 % Deviation\": 2.053121441435907, \"Bottom 20 % Deviation\": 1.2636509395794833, \"mean 2019\": 0.0}, {\"date\": \"2020-10-01T00:00:00+00:00\", \"Top 20 %\": 31.710290395676587, \"Bottom 20 %\": 31.252553985169584, \"Top 20 % Deviation\": 1.564798476148819, \"Bottom 20 % Deviation\": 1.107062065641833, \"mean 2019\": 0.0}, {\"date\": \"2020-10-02T00:00:00+00:00\", \"Top 20 %\": 31.286750741727577, \"Bottom 20 %\": 30.799367809762856, \"Top 20 % Deviation\": 1.1412588221998061, \"Bottom 20 % Deviation\": 0.6538758902351066, \"mean 2019\": 0.0}, {\"date\": \"2020-10-03T00:00:00+00:00\", \"Top 20 %\": 31.066999911580165, \"Bottom 20 %\": 29.760258672276528, \"Top 20 % Deviation\": 0.9215079920523973, \"Bottom 20 % Deviation\": -0.38523324725122093, \"mean 2019\": 0.0}, {\"date\": \"2020-10-04T00:00:00+00:00\", \"Top 20 %\": 31.189481603685373, \"Bottom 20 %\": 29.74418876410892, \"Top 20 % Deviation\": 1.0439896841576062, \"Bottom 20 % Deviation\": -0.4013031554188302, \"mean 2019\": 0.0}, {\"date\": \"2020-10-05T00:00:00+00:00\", \"Top 20 %\": 31.90827447788074, \"Bottom 20 %\": 31.621590147625703, \"Top 20 % Deviation\": 1.7627825583529717, \"Bottom 20 % Deviation\": 1.4760982280979533, \"mean 2019\": 0.0}, {\"date\": \"2020-10-06T00:00:00+00:00\", \"Top 20 %\": 32.29643314376314, \"Bottom 20 %\": 31.276126985489565, \"Top 20 % Deviation\": 2.150941224235375, \"Bottom 20 % Deviation\": 1.1306350659618136, \"mean 2019\": 0.0}, {\"date\": \"2020-10-07T00:00:00+00:00\", \"Top 20 %\": 32.29648029300655, \"Bottom 20 %\": 32.337607686625326, \"Top 20 % Deviation\": 2.1509883734787874, \"Bottom 20 % Deviation\": 2.192115767097571, \"mean 2019\": 0.0}, {\"date\": \"2020-10-08T00:00:00+00:00\", \"Top 20 %\": 32.28379011064932, \"Bottom 20 %\": 32.23785567099694, \"Top 20 % Deviation\": 2.1382981911215513, \"Bottom 20 % Deviation\": 2.0923637514691866, \"mean 2019\": 0.0}, {\"date\": \"2020-10-09T00:00:00+00:00\", \"Top 20 %\": 32.108201366527496, \"Bottom 20 %\": 31.387718054136673, \"Top 20 % Deviation\": 1.9627094469997328, \"Bottom 20 % Deviation\": 1.2422261346089214, \"mean 2019\": 0.0}, {\"date\": \"2020-10-10T00:00:00+00:00\", \"Top 20 %\": 31.522399502513235, \"Bottom 20 %\": 29.866472315835257, \"Top 20 % Deviation\": 1.3769075829854667, \"Bottom 20 % Deviation\": -0.2790196036924947, \"mean 2019\": 0.0}, {\"date\": \"2020-10-11T00:00:00+00:00\", \"Top 20 %\": 32.1876822620751, \"Bottom 20 %\": 30.247566638662327, \"Top 20 % Deviation\": 2.042190342547332, \"Bottom 20 % Deviation\": 0.1020747191345773, \"mean 2019\": 0.0}, {\"date\": \"2020-10-12T00:00:00+00:00\", \"Top 20 %\": 32.55677991009459, \"Bottom 20 %\": 31.30500043777763, \"Top 20 % Deviation\": 2.4112879905668287, \"Bottom 20 % Deviation\": 1.159508518249876, \"mean 2019\": 0.0}, {\"date\": \"2020-10-13T00:00:00+00:00\", \"Top 20 %\": 32.87131028833322, \"Bottom 20 %\": 32.63732068465956, \"Top 20 % Deviation\": 2.725818368805453, \"Bottom 20 % Deviation\": 2.4918287651317983, \"mean 2019\": 0.0}, {\"date\": \"2020-10-14T00:00:00+00:00\", \"Top 20 %\": 32.756748525549185, \"Bottom 20 %\": 33.02032994302461, \"Top 20 % Deviation\": 2.6112566060214215, \"Bottom 20 % Deviation\": 2.8748380234968565, \"mean 2019\": 0.0}, {\"date\": \"2020-10-15T00:00:00+00:00\", \"Top 20 %\": 32.341595449307086, \"Bottom 20 %\": 31.881733367779212, \"Top 20 % Deviation\": 2.1961035297793194, \"Bottom 20 % Deviation\": 1.7362414482514588, \"mean 2019\": 0.0}, {\"date\": \"2020-10-16T00:00:00+00:00\", \"Top 20 %\": 31.871399893792926, \"Bottom 20 %\": 31.292316955927667, \"Top 20 % Deviation\": 1.72590797426516, \"Bottom 20 % Deviation\": 1.1468250363999146, \"mean 2019\": 0.0}, {\"date\": \"2020-10-17T00:00:00+00:00\", \"Top 20 %\": 31.560655297838245, \"Bottom 20 %\": 30.77085503610882, \"Top 20 % Deviation\": 1.4151633783104796, \"Bottom 20 % Deviation\": 0.6253631165810696, \"mean 2019\": 0.0}, {\"date\": \"2020-10-18T00:00:00+00:00\", \"Top 20 %\": 31.587436349858883, \"Bottom 20 %\": 30.25005060849398, \"Top 20 % Deviation\": 1.4419444303311155, \"Bottom 20 % Deviation\": 0.10455868896622675, \"mean 2019\": 0.0}, {\"date\": \"2020-10-19T00:00:00+00:00\", \"Top 20 %\": 31.7317810297846, \"Bottom 20 %\": 30.451021852774204, \"Top 20 % Deviation\": 1.586289110256835, \"Bottom 20 % Deviation\": 0.3055299332464486, \"mean 2019\": 0.0}, {\"date\": \"2020-10-20T00:00:00+00:00\", \"Top 20 %\": 32.17846675063403, \"Bottom 20 %\": 31.787641837809996, \"Top 20 % Deviation\": 2.032974831106259, \"Bottom 20 % Deviation\": 1.6421499182822408, \"mean 2019\": 0.0}, {\"date\": \"2020-10-21T00:00:00+00:00\", \"Top 20 %\": 32.01388830131474, \"Bottom 20 %\": 32.155242912199036, \"Top 20 % Deviation\": 1.8683963817869778, \"Bottom 20 % Deviation\": 2.0097509926712815, \"mean 2019\": 0.0}, {\"date\": \"2020-10-22T00:00:00+00:00\", \"Top 20 %\": 32.16359850911424, \"Bottom 20 %\": 32.22208657755736, \"Top 20 % Deviation\": 2.018106589586475, \"Bottom 20 % Deviation\": 2.076594658029612, \"mean 2019\": 0.0}, {\"date\": \"2020-10-23T00:00:00+00:00\", \"Top 20 %\": 31.656856115676156, \"Bottom 20 %\": 30.859225641064587, \"Top 20 % Deviation\": 1.5113641961483921, \"Bottom 20 % Deviation\": 0.7137337215368355, \"mean 2019\": 0.0}, {\"date\": \"2020-10-24T00:00:00+00:00\", \"Top 20 %\": 31.266779650928207, \"Bottom 20 %\": 29.061089662750213, \"Top 20 % Deviation\": 1.121287731400443, \"Bottom 20 % Deviation\": -1.084402256777532, \"mean 2019\": 0.0}, {\"date\": \"2020-10-25T00:00:00+00:00\", \"Top 20 %\": 31.73864264643231, \"Bottom 20 %\": 29.17113202512119, \"Top 20 % Deviation\": 1.5931507269045415, \"Bottom 20 % Deviation\": -0.9743598944065631, \"mean 2019\": 0.0}, {\"date\": \"2020-10-26T00:00:00+00:00\", \"Top 20 %\": 32.2269994149296, \"Bottom 20 %\": 30.289422350157373, \"Top 20 % Deviation\": 2.0815074954018296, \"Bottom 20 % Deviation\": 0.14393043062962185, \"mean 2019\": 0.0}, {\"date\": \"2020-10-27T00:00:00+00:00\", \"Top 20 %\": 32.47075540330529, \"Bottom 20 %\": 31.29739493801725, \"Top 20 % Deviation\": 2.325263483777527, \"Bottom 20 % Deviation\": 1.151903018489494, \"mean 2019\": 0.0}, {\"date\": \"2020-10-28T00:00:00+00:00\", \"Top 20 %\": 32.4190303823238, \"Bottom 20 %\": 31.60076756023023, \"Top 20 % Deviation\": 2.273538462796029, \"Bottom 20 % Deviation\": 1.4552756407024763, \"mean 2019\": 0.0}, {\"date\": \"2020-10-29T00:00:00+00:00\", \"Top 20 %\": 32.194773710696595, \"Bottom 20 %\": 31.590795109858004, \"Top 20 % Deviation\": 2.04928179116882, \"Bottom 20 % Deviation\": 1.4453031903302498, \"mean 2019\": 0.0}, {\"date\": \"2020-10-30T00:00:00+00:00\", \"Top 20 %\": 31.677461030549345, \"Bottom 20 %\": 30.648081241418662, \"Top 20 % Deviation\": 1.5319691110215743, \"Bottom 20 % Deviation\": 0.5025893218909137, \"mean 2019\": 0.0}, {\"date\": \"2020-10-31T00:00:00+00:00\", \"Top 20 %\": 31.049255212213428, \"Bottom 20 %\": 29.106382698511776, \"Top 20 % Deviation\": 0.9037632926856528, \"Bottom 20 % Deviation\": -1.039109221015972, \"mean 2019\": 0.0}, {\"date\": \"2020-11-01T00:00:00+00:00\", \"Top 20 %\": 30.883383370980756, \"Bottom 20 %\": 28.03761096949882, \"Top 20 % Deviation\": 0.7378914514529793, \"Bottom 20 % Deviation\": -2.107880950028928, \"mean 2019\": 0.0}, {\"date\": \"2020-11-02T00:00:00+00:00\", \"Top 20 %\": 31.402765163129533, \"Bottom 20 %\": 29.531822128825574, \"Top 20 % Deviation\": 1.257273243601754, \"Bottom 20 % Deviation\": -0.6136697907021755, \"mean 2019\": 0.0}, {\"date\": \"2020-11-03T00:00:00+00:00\", \"Top 20 %\": 31.679359078210695, \"Bottom 20 %\": 30.998840070756934, \"Top 20 % Deviation\": 1.5338671586829193, \"Bottom 20 % Deviation\": 0.8533481512291822, \"mean 2019\": 0.0}, {\"date\": \"2020-11-04T00:00:00+00:00\", \"Top 20 %\": 31.324824858732576, \"Bottom 20 %\": 32.05228316023905, \"Top 20 % Deviation\": 1.1793329392048026, \"Bottom 20 % Deviation\": 1.9067912407112964, \"mean 2019\": 0.0}, {\"date\": \"2020-11-05T00:00:00+00:00\", \"Top 20 %\": 30.939785907650652, \"Bottom 20 %\": 32.17003397314537, \"Top 20 % Deviation\": 0.7942939881228771, \"Bottom 20 % Deviation\": 2.0245420536176155, \"mean 2019\": 0.0}, {\"date\": \"2020-11-06T00:00:00+00:00\", \"Top 20 %\": 30.466706775601132, \"Bottom 20 %\": 30.685142669211462, \"Top 20 % Deviation\": 0.32121485607335315, \"Bottom 20 % Deviation\": 0.5396507496837014, \"mean 2019\": 0.0}, {\"date\": \"2020-11-07T00:00:00+00:00\", \"Top 20 %\": 30.51420755070855, \"Bottom 20 %\": 31.07162612860377, \"Top 20 % Deviation\": 0.3687156311807701, \"Bottom 20 % Deviation\": 0.9261342090760106, \"mean 2019\": 0.0}, {\"date\": \"2020-11-08T00:00:00+00:00\", \"Top 20 %\": 30.850888249117624, \"Bottom 20 %\": 31.17950488321184, \"Top 20 % Deviation\": 0.7053963295898406, \"Bottom 20 % Deviation\": 1.0340129636840865, \"mean 2019\": 0.0}, {\"date\": \"2020-11-09T00:00:00+00:00\", \"Top 20 %\": 31.627641295798355, \"Bottom 20 %\": 32.62596672725779, \"Top 20 % Deviation\": 1.4821493762705735, \"Bottom 20 % Deviation\": 2.4804748077300296, \"mean 2019\": 0.0}, {\"date\": \"2020-11-10T00:00:00+00:00\", \"Top 20 %\": 32.20036699490205, \"Bottom 20 %\": 34.964098386836625, \"Top 20 % Deviation\": 2.054875075374265, \"Bottom 20 % Deviation\": 4.81860646730887, \"mean 2019\": 0.0}, {\"date\": \"2020-11-11T00:00:00+00:00\", \"Top 20 %\": 31.94092337506052, \"Bottom 20 %\": 36.15923021912856, \"Top 20 % Deviation\": 1.7954314555327389, \"Bottom 20 % Deviation\": 6.013738299600803, \"mean 2019\": 0.0}, {\"date\": \"2020-11-12T00:00:00+00:00\", \"Top 20 %\": 31.74531957631059, \"Bottom 20 %\": 36.21792532110344, \"Top 20 % Deviation\": 1.5998276567828114, \"Bottom 20 % Deviation\": 6.0724334015756884, \"mean 2019\": 0.0}, {\"date\": \"2020-11-13T00:00:00+00:00\", \"Top 20 %\": 31.5235769961789, \"Bottom 20 %\": 36.28743206691012, \"Top 20 % Deviation\": 1.3780850766511192, \"Bottom 20 % Deviation\": 6.141940147382362, \"mean 2019\": 0.0}, {\"date\": \"2020-11-14T00:00:00+00:00\", \"Top 20 %\": 31.170049283197205, \"Bottom 20 %\": 34.86869527873418, \"Top 20 % Deviation\": 1.0245573636694185, \"Bottom 20 % Deviation\": 4.723203359206421, \"mean 2019\": 0.0}, {\"date\": \"2020-11-15T00:00:00+00:00\", \"Top 20 %\": 31.505717580020097, \"Bottom 20 %\": 34.22856897000712, \"Top 20 % Deviation\": 1.3602256604923166, \"Bottom 20 % Deviation\": 4.083077050479353, \"mean 2019\": 0.0}, {\"date\": \"2020-11-16T00:00:00+00:00\", \"Top 20 %\": 32.137643015554445, \"Bottom 20 %\": 35.662296330681606, \"Top 20 % Deviation\": 1.9921510960266715, \"Bottom 20 % Deviation\": 5.5168044111538475, \"mean 2019\": 0.0}, {\"date\": \"2020-11-17T00:00:00+00:00\", \"Top 20 %\": 32.07319476013258, \"Bottom 20 %\": 36.22238993712323, \"Top 20 % Deviation\": 1.9277028406048113, \"Bottom 20 % Deviation\": 6.0768980175954725, \"mean 2019\": 0.0}, {\"date\": \"2020-11-18T00:00:00+00:00\", \"Top 20 %\": 31.796374807605297, \"Bottom 20 %\": 36.684744676487185, \"Top 20 % Deviation\": 1.6508828880775297, \"Bottom 20 % Deviation\": 6.5392527569594225, \"mean 2019\": 0.0}, {\"date\": \"2020-11-19T00:00:00+00:00\", \"Top 20 %\": 31.31901460279615, \"Bottom 20 %\": 35.89006236044008, \"Top 20 % Deviation\": 1.1735226832683832, \"Bottom 20 % Deviation\": 5.744570440912319, \"mean 2019\": 0.0}, {\"date\": \"2020-11-20T00:00:00+00:00\", \"Top 20 %\": 30.987686746838513, \"Bottom 20 %\": 34.37263109354198, \"Top 20 % Deviation\": 0.8421948273107496, \"Bottom 20 % Deviation\": 4.227139174014215, \"mean 2019\": 0.0}, {\"date\": \"2020-11-21T00:00:00+00:00\", \"Top 20 %\": 31.163016162436037, \"Bottom 20 %\": 32.96416119131002, \"Top 20 % Deviation\": 1.0175242429082736, \"Bottom 20 % Deviation\": 2.818669271782254, \"mean 2019\": 0.0}, {\"date\": \"2020-11-22T00:00:00+00:00\", \"Top 20 %\": 31.33992814701735, \"Bottom 20 %\": 31.561341052085147, \"Top 20 % Deviation\": 1.1944362274895828, \"Bottom 20 % Deviation\": 1.4158491325573823, \"mean 2019\": 0.0}, {\"date\": \"2020-11-23T00:00:00+00:00\", \"Top 20 %\": 31.429794173383073, \"Bottom 20 %\": 30.43734607623705, \"Top 20 % Deviation\": 1.284302253855305, \"Bottom 20 % Deviation\": 0.2918541567092884, \"mean 2019\": 0.0}, {\"date\": \"2020-11-24T00:00:00+00:00\", \"Top 20 %\": 31.48547273485874, \"Bottom 20 %\": 29.855405375189918, \"Top 20 % Deviation\": 1.339980815330971, \"Bottom 20 % Deviation\": -0.29008654433784037, \"mean 2019\": 0.0}, {\"date\": \"2020-11-25T00:00:00+00:00\", \"Top 20 %\": 31.12393806904414, \"Bottom 20 %\": 28.59551964324666, \"Top 20 % Deviation\": 0.9784461495163683, \"Bottom 20 % Deviation\": -1.549972276281099, \"mean 2019\": 0.0}, {\"date\": \"2020-11-26T00:00:00+00:00\", \"Top 20 %\": 31.43152043772205, \"Bottom 20 %\": 26.7631221881497, \"Top 20 % Deviation\": 1.286028518194275, \"Bottom 20 % Deviation\": -3.3823697313780583, \"mean 2019\": 0.0}, {\"date\": \"2020-11-27T00:00:00+00:00\", \"Top 20 %\": 31.368625748696502, \"Bottom 20 %\": 25.07733786933423, \"Top 20 % Deviation\": 1.2231338291687277, \"Bottom 20 % Deviation\": -5.068154050193529, \"mean 2019\": 0.0}, {\"date\": \"2020-11-28T00:00:00+00:00\", \"Top 20 %\": 31.46786809970676, \"Bottom 20 %\": 23.221885170374218, \"Top 20 % Deviation\": 1.322376180178986, \"Bottom 20 % Deviation\": -6.9236067491535405, \"mean 2019\": 0.0}, {\"date\": \"2020-11-29T00:00:00+00:00\", \"Top 20 %\": 32.1901888453847, \"Bottom 20 %\": 22.59873249125696, \"Top 20 % Deviation\": 2.044696925856922, \"Bottom 20 % Deviation\": -7.546759428270798, \"mean 2019\": 0.0}, {\"date\": \"2020-11-30T00:00:00+00:00\", \"Top 20 %\": 32.67891519884396, \"Bottom 20 %\": 22.2583781771692, \"Top 20 % Deviation\": 2.5334232793161813, \"Bottom 20 % Deviation\": -7.887113742358558, \"mean 2019\": 0.0}, {\"date\": \"2020-12-01T00:00:00+00:00\", \"Top 20 %\": 32.88043069213181, \"Bottom 20 %\": 22.998852778680316, \"Top 20 % Deviation\": 2.734938772604031, \"Bottom 20 % Deviation\": -7.1466391408474434, \"mean 2019\": 0.0}, {\"date\": \"2020-12-02T00:00:00+00:00\", \"Top 20 %\": 32.95180961529788, \"Bottom 20 %\": 23.68219541647173, \"Top 20 % Deviation\": 2.8063176957701064, \"Bottom 20 % Deviation\": -6.463296503056034, \"mean 2019\": 0.0}, {\"date\": \"2020-12-03T00:00:00+00:00\", \"Top 20 %\": 33.3012323366629, \"Bottom 20 %\": 24.583962840523473, \"Top 20 % Deviation\": 3.1557404171351235, \"Bottom 20 % Deviation\": -5.5615290790042895, \"mean 2019\": 0.0}, {\"date\": \"2020-12-04T00:00:00+00:00\", \"Top 20 %\": 33.42432710049948, \"Bottom 20 %\": 24.964061028852814, \"Top 20 % Deviation\": 3.2788351809717042, \"Bottom 20 % Deviation\": -5.181430890674948, \"mean 2019\": 0.0}, {\"date\": \"2020-12-05T00:00:00+00:00\", \"Top 20 %\": 33.58484124978212, \"Bottom 20 %\": 25.636521898100376, \"Top 20 % Deviation\": 3.439349330254346, \"Bottom 20 % Deviation\": -4.508970021427386, \"mean 2019\": 0.0}, {\"date\": \"2020-12-06T00:00:00+00:00\", \"Top 20 %\": 33.3980014809504, \"Bottom 20 %\": 26.197509557447376, \"Top 20 % Deviation\": 3.2525095614226194, \"Bottom 20 % Deviation\": -3.9479823620803813, \"mean 2019\": 0.0}, {\"date\": \"2020-12-07T00:00:00+00:00\", \"Top 20 %\": 33.92252734516909, \"Bottom 20 %\": 27.4098534501298, \"Top 20 % Deviation\": 3.7770354256413023, \"Bottom 20 % Deviation\": -2.735638469397959, \"mean 2019\": 0.0}, {\"date\": \"2020-12-08T00:00:00+00:00\", \"Top 20 %\": 34.12097363424231, \"Bottom 20 %\": 28.748990824451624, \"Top 20 % Deviation\": 3.9754817147145305, \"Bottom 20 % Deviation\": -1.3965010950761332, \"mean 2019\": 0.0}, {\"date\": \"2020-12-09T00:00:00+00:00\", \"Top 20 %\": 33.95221978663943, \"Bottom 20 %\": 29.484360448973064, \"Top 20 % Deviation\": 3.8067278671116496, \"Bottom 20 % Deviation\": -0.6611314705546938, \"mean 2019\": 0.0}, {\"date\": \"2020-12-10T00:00:00+00:00\", \"Top 20 %\": 33.98279677574317, \"Bottom 20 %\": 30.021006523066358, \"Top 20 % Deviation\": 3.8373048562153835, \"Bottom 20 % Deviation\": -0.124485396461397, \"mean 2019\": 0.0}, {\"date\": \"2020-12-11T00:00:00+00:00\", \"Top 20 %\": 33.92363175019925, \"Bottom 20 %\": 29.804238463044896, \"Top 20 % Deviation\": 3.7781398306714706, \"Bottom 20 % Deviation\": -0.3412534564828597, \"mean 2019\": 0.0}, {\"date\": \"2020-12-12T00:00:00+00:00\", \"Top 20 %\": 34.07514317277301, \"Bottom 20 %\": 29.84251866900363, \"Top 20 % Deviation\": 3.9296512532452326, \"Bottom 20 % Deviation\": -0.3029732505241263, \"mean 2019\": 0.0}, {\"date\": \"2020-12-13T00:00:00+00:00\", \"Top 20 %\": 34.297550099467045, \"Bottom 20 %\": 28.33585223069562, \"Top 20 % Deviation\": 4.15205817993927, \"Bottom 20 % Deviation\": -1.8096396888321344, \"mean 2019\": 0.0}, {\"date\": \"2020-12-14T00:00:00+00:00\", \"Top 20 %\": 34.946513593644035, \"Bottom 20 %\": 28.288959339766556, \"Top 20 % Deviation\": 4.801021674116258, \"Bottom 20 % Deviation\": -1.8565325797611956, \"mean 2019\": 0.0}, {\"date\": \"2020-12-15T00:00:00+00:00\", \"Top 20 %\": 35.16540521729006, \"Bottom 20 %\": 28.535782768126914, \"Top 20 % Deviation\": 5.0199132977622885, \"Bottom 20 % Deviation\": -1.6097091514008344, \"mean 2019\": 0.0}, {\"date\": \"2020-12-16T00:00:00+00:00\", \"Top 20 %\": 34.97975892139068, \"Bottom 20 %\": 28.448832356067896, \"Top 20 % Deviation\": 4.834267001862912, \"Bottom 20 % Deviation\": -1.6966595634598538, \"mean 2019\": 0.0}, {\"date\": \"2020-12-17T00:00:00+00:00\", \"Top 20 %\": 34.86971081107222, \"Bottom 20 %\": 28.193528822641632, \"Top 20 % Deviation\": 4.724218891544447, \"Bottom 20 % Deviation\": -1.9519630968861192, \"mean 2019\": 0.0}, {\"date\": \"2020-12-18T00:00:00+00:00\", \"Top 20 %\": 34.55480610668245, \"Bottom 20 %\": 27.286452774376347, \"Top 20 % Deviation\": 4.409314187154673, \"Bottom 20 % Deviation\": -2.8590391451514057, \"mean 2019\": 0.0}, {\"date\": \"2020-12-19T00:00:00+00:00\", \"Top 20 %\": 34.46313508020239, \"Bottom 20 %\": 26.29067226290487, \"Top 20 % Deviation\": 4.317643160674621, \"Bottom 20 % Deviation\": -3.8548196566228796, \"mean 2019\": 0.0}, {\"date\": \"2020-12-20T00:00:00+00:00\", \"Top 20 %\": 34.40014165274177, \"Bottom 20 %\": 24.929547263918487, \"Top 20 % Deviation\": 4.254649733214004, \"Bottom 20 % Deviation\": -5.215944655609263, \"mean 2019\": 0.0}, {\"date\": \"2020-12-21T00:00:00+00:00\", \"Top 20 %\": 34.0778980807468, \"Bottom 20 %\": 23.929332031158495, \"Top 20 % Deviation\": 3.9324061612190255, \"Bottom 20 % Deviation\": -6.216159888369257, \"mean 2019\": 0.0}, {\"date\": \"2020-12-22T00:00:00+00:00\", \"Top 20 %\": 33.68883215726184, \"Bottom 20 %\": 22.661410484900504, \"Top 20 % Deviation\": 3.543340237734072, \"Bottom 20 % Deviation\": -7.484081434627247, \"mean 2019\": 0.0}, {\"date\": \"2020-12-23T00:00:00+00:00\", \"Top 20 %\": 33.1298238684846, \"Bottom 20 %\": 22.565712794055298, \"Top 20 % Deviation\": 2.9843319489568296, \"Bottom 20 % Deviation\": -7.579779125472453, \"mean 2019\": 0.0}, {\"date\": \"2020-12-24T00:00:00+00:00\", \"Top 20 %\": 32.80754624417061, \"Bottom 20 %\": 21.789336412413316, \"Top 20 % Deviation\": 2.6620543246428396, \"Bottom 20 % Deviation\": -8.356155507114433, \"mean 2019\": 0.0}, {\"date\": \"2020-12-25T00:00:00+00:00\", \"Top 20 %\": 33.48773182362402, \"Bottom 20 %\": 21.101991219723892, \"Top 20 % Deviation\": 3.3422399040962403, \"Bottom 20 % Deviation\": -9.043500699803857, \"mean 2019\": 0.0}, {\"date\": \"2020-12-26T00:00:00+00:00\", \"Top 20 %\": 33.756341098756046, \"Bottom 20 %\": 20.186036597546128, \"Top 20 % Deviation\": 3.610849179228272, \"Bottom 20 % Deviation\": -9.95945532198162, \"mean 2019\": 0.0}, {\"date\": \"2020-12-27T00:00:00+00:00\", \"Top 20 %\": 33.987843533650626, \"Bottom 20 %\": 19.16055676766216, \"Top 20 % Deviation\": 3.8423516141228475, \"Bottom 20 % Deviation\": -10.98493515186559, \"mean 2019\": 0.0}, {\"date\": \"2020-12-28T00:00:00+00:00\", \"Top 20 %\": 35.10051684296569, \"Bottom 20 %\": 19.38277484602653, \"Top 20 % Deviation\": 4.955024923437916, \"Bottom 20 % Deviation\": -10.762717073501225, \"mean 2019\": 0.0}, {\"date\": \"2020-12-29T00:00:00+00:00\", \"Top 20 %\": 34.889683369077844, \"Bottom 20 %\": 19.385959649347246, \"Top 20 % Deviation\": 4.7441914495500725, \"Bottom 20 % Deviation\": -10.759532270180511, \"mean 2019\": 0.0}, {\"date\": \"2020-12-30T00:00:00+00:00\", \"Top 20 %\": 34.723288229762225, \"Bottom 20 %\": 19.617669611708095, \"Top 20 % Deviation\": 4.577796310234454, \"Bottom 20 % Deviation\": -10.52782230781966, \"mean 2019\": 0.0}, {\"date\": \"2020-12-31T00:00:00+00:00\", \"Top 20 %\": 34.957165838099876, \"Bottom 20 %\": 19.46807481268968, \"Top 20 % Deviation\": 4.811673918572102, \"Bottom 20 % Deviation\": -10.677417106838082, \"mean 2019\": 0.0}]}}, {\"mode\": \"vega-lite\"});\n",
              "</script>"
            ]
          },
          "metadata": {
            "tags": []
          },
          "execution_count": 37
        },
        {
          "output_type": "stream",
          "text": [
            "time: 59.3 ms (started: 2021-04-21 17:10:29 +00:00)\n"
          ],
          "name": "stdout"
        }
      ]
    },
    {
      "cell_type": "code",
      "metadata": {
        "colab": {
          "base_uri": "https://localhost:8080/"
        },
        "id": "owhSJQqe7rVM",
        "outputId": "f7627f84-d739-4ff9-c20c-ce6425a5d599"
      },
      "source": [
        "#Conversion of datetime format\n",
        "df['date'] = pd.to_datetime(df['date'],utc= True)\n",
        "#df['date'] = [datetime.datetime.date(d) for d in df['date']] "
      ],
      "execution_count": 28,
      "outputs": [
        {
          "output_type": "stream",
          "text": [
            "time: 25.9 ms (started: 2021-04-21 17:01:05 +00:00)\n"
          ],
          "name": "stdout"
        }
      ]
    },
    {
      "cell_type": "markdown",
      "metadata": {
        "id": "yCVL0_NiBLU0"
      },
      "source": [
        "Filtering based on important dates\n",
        "\n",
        "\n",
        "\n",
        "*   Thursday, March 19, 2020: Statewide Stay-at-Home Order Issued\n",
        "\n",
        "\n",
        "\n",
        "\n",
        "\n",
        "\n",
        "\n",
        "\n",
        "\n"
      ]
    },
    {
      "cell_type": "code",
      "metadata": {
        "colab": {
          "base_uri": "https://localhost:8080/",
          "height": 386
        },
        "id": "gelkUE5NBJps",
        "outputId": "d67720ff-d1ec-42f2-a1e4-f559af4b122b"
      },
      "source": [
        "start_date = '2020-3-16'\n",
        "end_date = '2020-4-9'\n",
        "df1 = apply_date_filter(df,start_date,end_date)\n",
        "chart = create_chart(df1)\n",
        "chart"
      ],
      "execution_count": 95,
      "outputs": [
        {
          "output_type": "execute_result",
          "data": {
            "text/plain": [
              "alt.LayerChart(...)"
            ],
            "text/html": [
              "\n",
              "<div id=\"altair-viz-b87338c29a5d44f5aaa6dccb199db33d\"></div>\n",
              "<script type=\"text/javascript\">\n",
              "  (function(spec, embedOpt){\n",
              "    let outputDiv = document.currentScript.previousElementSibling;\n",
              "    if (outputDiv.id !== \"altair-viz-b87338c29a5d44f5aaa6dccb199db33d\") {\n",
              "      outputDiv = document.getElementById(\"altair-viz-b87338c29a5d44f5aaa6dccb199db33d\");\n",
              "    }\n",
              "    const paths = {\n",
              "      \"vega\": \"https://cdn.jsdelivr.net/npm//vega@5?noext\",\n",
              "      \"vega-lib\": \"https://cdn.jsdelivr.net/npm//vega-lib?noext\",\n",
              "      \"vega-lite\": \"https://cdn.jsdelivr.net/npm//vega-lite@4.8.1?noext\",\n",
              "      \"vega-embed\": \"https://cdn.jsdelivr.net/npm//vega-embed@6?noext\",\n",
              "    };\n",
              "\n",
              "    function loadScript(lib) {\n",
              "      return new Promise(function(resolve, reject) {\n",
              "        var s = document.createElement('script');\n",
              "        s.src = paths[lib];\n",
              "        s.async = true;\n",
              "        s.onload = () => resolve(paths[lib]);\n",
              "        s.onerror = () => reject(`Error loading script: ${paths[lib]}`);\n",
              "        document.getElementsByTagName(\"head\")[0].appendChild(s);\n",
              "      });\n",
              "    }\n",
              "\n",
              "    function showError(err) {\n",
              "      outputDiv.innerHTML = `<div class=\"error\" style=\"color:red;\">${err}</div>`;\n",
              "      throw err;\n",
              "    }\n",
              "\n",
              "    function displayChart(vegaEmbed) {\n",
              "      vegaEmbed(outputDiv, spec, embedOpt)\n",
              "        .catch(err => showError(`Javascript Error: ${err.message}<br>This usually means there's a typo in your chart specification. See the javascript console for the full traceback.`));\n",
              "    }\n",
              "\n",
              "    if(typeof define === \"function\" && define.amd) {\n",
              "      requirejs.config({paths});\n",
              "      require([\"vega-embed\"], displayChart, err => showError(`Error loading script: ${err.message}`));\n",
              "    } else if (typeof vegaEmbed === \"function\") {\n",
              "      displayChart(vegaEmbed);\n",
              "    } else {\n",
              "      loadScript(\"vega\")\n",
              "        .then(() => loadScript(\"vega-lite\"))\n",
              "        .then(() => loadScript(\"vega-embed\"))\n",
              "        .catch(showError)\n",
              "        .then(() => displayChart(vegaEmbed));\n",
              "    }\n",
              "  })({\"config\": {\"view\": {\"continuousHeight\": 300, \"continuousWidth\": 400}, \"range\": {\"category\": {\"scheme\": [\"#E15759\", \"#a0aab4\", \"#4E79A7\"]}}}, \"layer\": [{\"data\": {\"name\": \"data-93b63a61d2a6f6e5532ae69bf81f0850\"}, \"mark\": \"line\", \"encoding\": {\"color\": {\"type\": \"nominal\", \"field\": \"Poverty %\"}, \"x\": {\"type\": \"temporal\", \"field\": \"date\", \"title\": \"Date\"}, \"y\": {\"type\": \"quantitative\", \"field\": \"completely home %\", \"title\": \"Completely Home %\"}}, \"transform\": [{\"fold\": [\"Bottom 20 % Deviation\", \"Top 20 % Deviation\"], \"as\": [\"Poverty %\", \"completely home %\"]}], \"width\": 1000}, {\"data\": {\"name\": \"data-7f3a6b86ed460c4e648f2393735a11f6\"}, \"mark\": {\"type\": \"rule\", \"color\": \"#757575\", \"size\": 2, \"strokeDash\": [5, 3]}, \"encoding\": {\"size\": {\"value\": 2}, \"y\": {\"type\": \"quantitative\", \"field\": \"Mean 2019\"}}}, {\"data\": {\"name\": \"data-029429fb407004cc4ab361ab35994ace\"}, \"mark\": {\"type\": \"text\", \"angle\": 0, \"text\": \"Mean 2019\"}, \"encoding\": {\"y\": {\"type\": \"quantitative\", \"field\": \"y\"}}}], \"$schema\": \"https://vega.github.io/schema/vega-lite/v4.8.1.json\", \"datasets\": {\"data-93b63a61d2a6f6e5532ae69bf81f0850\": [{\"date\": \"2020-03-26T00:00:00+00:00\", \"Top 20 %\": 43.93740970931191, \"Bottom 20 %\": 24.553417163466715, \"Top 20 % Deviation\": 13.791917789784158, \"Bottom 20 % Deviation\": -5.592074756061034, \"mean 2019\": 0}, {\"date\": \"2020-03-25T00:00:00+00:00\", \"Top 20 %\": 41.22837841895386, \"Bottom 20 %\": 23.177210981167157, \"Top 20 % Deviation\": 11.08288649942611, \"Bottom 20 % Deviation\": -6.968280938360593, \"mean 2019\": 0}, {\"date\": \"2020-03-20T00:00:00+00:00\", \"Top 20 %\": 42.64377343039106, \"Bottom 20 %\": 23.04313155226927, \"Top 20 % Deviation\": 12.498281510863308, \"Bottom 20 % Deviation\": -7.1023603672584805, \"mean 2019\": 0}, {\"date\": \"2020-04-09T00:00:00+00:00\", \"Top 20 %\": 52.84278169606809, \"Bottom 20 %\": 34.123041622303454, \"Top 20 % Deviation\": 22.697289776540337, \"Bottom 20 % Deviation\": 3.977549702775704, \"mean 2019\": 0}, {\"date\": \"2020-03-24T00:00:00+00:00\", \"Top 20 %\": 44.17594415493544, \"Bottom 20 %\": 25.278276624916252, \"Top 20 % Deviation\": 14.030452235407694, \"Bottom 20 % Deviation\": -4.867215294611498, \"mean 2019\": 0}, {\"date\": \"2020-03-27T00:00:00+00:00\", \"Top 20 %\": 44.36030281183792, \"Bottom 20 %\": 27.345665239072243, \"Top 20 % Deviation\": 14.214810892310169, \"Bottom 20 % Deviation\": -2.7998266804555065, \"mean 2019\": 0}, {\"date\": \"2020-03-22T00:00:00+00:00\", \"Top 20 %\": 46.271426716195606, \"Bottom 20 %\": 26.00385882753165, \"Top 20 % Deviation\": 16.125934796667856, \"Bottom 20 % Deviation\": -4.141633091996098, \"mean 2019\": 0}, {\"date\": \"2020-03-28T00:00:00+00:00\", \"Top 20 %\": 44.27071535640918, \"Bottom 20 %\": 25.430654185788207, \"Top 20 % Deviation\": 14.125223436881427, \"Bottom 20 % Deviation\": -4.714837733739543, \"mean 2019\": 0}, {\"date\": \"2020-04-08T00:00:00+00:00\", \"Top 20 %\": 49.13792763379577, \"Bottom 20 %\": 32.282695283892096, \"Top 20 % Deviation\": 18.99243571426802, \"Bottom 20 % Deviation\": 2.137203364364346, \"mean 2019\": 0}, {\"date\": \"2020-03-19T00:00:00+00:00\", \"Top 20 %\": 37.142907589894925, \"Bottom 20 %\": 22.29901261033489, \"Top 20 % Deviation\": 6.997415670367175, \"Bottom 20 % Deviation\": -7.846479309192858, \"mean 2019\": 0}, {\"date\": \"2020-04-01T00:00:00+00:00\", \"Top 20 %\": 47.76281675138994, \"Bottom 20 %\": 33.225870939013475, \"Top 20 % Deviation\": 17.61732483186219, \"Bottom 20 % Deviation\": 3.0803790194857257, \"mean 2019\": 0}, {\"date\": \"2020-04-03T00:00:00+00:00\", \"Top 20 %\": 45.533684763120505, \"Bottom 20 %\": 32.49932949071636, \"Top 20 % Deviation\": 15.388192843592755, \"Bottom 20 % Deviation\": 2.3538375711886133, \"mean 2019\": 0}, {\"date\": \"2020-04-06T00:00:00+00:00\", \"Top 20 %\": 52.558307590319444, \"Bottom 20 %\": 34.178317348872376, \"Top 20 % Deviation\": 22.412815670791694, \"Bottom 20 % Deviation\": 4.032825429344626, \"mean 2019\": 0}, {\"date\": \"2020-03-29T00:00:00+00:00\", \"Top 20 %\": 47.39459677057467, \"Bottom 20 %\": 24.725235841202387, \"Top 20 % Deviation\": 17.249104851046923, \"Bottom 20 % Deviation\": -5.420256078325362, \"mean 2019\": 0}, {\"date\": \"2020-04-04T00:00:00+00:00\", \"Top 20 %\": 48.368525794269694, \"Bottom 20 %\": 27.841202627476108, \"Top 20 % Deviation\": 18.223033874741944, \"Bottom 20 % Deviation\": -2.3042892920516422, \"mean 2019\": 0}, {\"date\": \"2020-03-17T00:00:00+00:00\", \"Top 20 %\": 36.26453749040281, \"Bottom 20 %\": 26.36472670808341, \"Top 20 % Deviation\": 6.119045570875059, \"Bottom 20 % Deviation\": -3.78076521144434, \"mean 2019\": 0}, {\"date\": \"2020-04-02T00:00:00+00:00\", \"Top 20 %\": 48.13604928581593, \"Bottom 20 %\": 32.00730488674766, \"Top 20 % Deviation\": 17.99055736628818, \"Bottom 20 % Deviation\": 1.8618129672199117, \"mean 2019\": 0}, {\"date\": \"2020-03-18T00:00:00+00:00\", \"Top 20 %\": 37.71211133819127, \"Bottom 20 %\": 28.983629062206408, \"Top 20 % Deviation\": 7.566619418663521, \"Bottom 20 % Deviation\": -1.161862857321342, \"mean 2019\": 0}, {\"date\": \"2020-03-31T00:00:00+00:00\", \"Top 20 %\": 45.55653878550634, \"Bottom 20 %\": 28.65448781541401, \"Top 20 % Deviation\": 15.41104686597859, \"Bottom 20 % Deviation\": -1.4910041041137383, \"mean 2019\": 0}, {\"date\": \"2020-03-23T00:00:00+00:00\", \"Top 20 %\": 42.135432116807614, \"Bottom 20 %\": 23.501247329082208, \"Top 20 % Deviation\": 11.989940197279864, \"Bottom 20 % Deviation\": -6.644244590445542, \"mean 2019\": 0}, {\"date\": \"2020-03-30T00:00:00+00:00\", \"Top 20 %\": 46.36345170224874, \"Bottom 20 %\": 26.64691706944229, \"Top 20 % Deviation\": 16.21795978272099, \"Bottom 20 % Deviation\": -3.498574850085461, \"mean 2019\": 0}, {\"date\": \"2020-03-21T00:00:00+00:00\", \"Top 20 %\": 48.46204414858775, \"Bottom 20 %\": 28.37421790869896, \"Top 20 % Deviation\": 18.31655222906, \"Bottom 20 % Deviation\": -1.7712740108287903, \"mean 2019\": 0}, {\"date\": \"2020-04-07T00:00:00+00:00\", \"Top 20 %\": 52.29367575863379, \"Bottom 20 %\": 33.01819224528247, \"Top 20 % Deviation\": 22.14818383910604, \"Bottom 20 % Deviation\": 2.872700325754721, \"mean 2019\": 0}, {\"date\": \"2020-04-05T00:00:00+00:00\", \"Top 20 %\": 51.744279642289065, \"Bottom 20 %\": 27.82474229919127, \"Top 20 % Deviation\": 21.598787722761315, \"Bottom 20 % Deviation\": -2.3207496203364784, \"mean 2019\": 0}], \"data-7f3a6b86ed460c4e648f2393735a11f6\": [{\"Mean 2019\": 0}], \"data-029429fb407004cc4ab361ab35994ace\": [{\"x\": 0, \"y\": 1}]}}, {\"mode\": \"vega-lite\"});\n",
              "</script>"
            ]
          },
          "metadata": {
            "tags": []
          },
          "execution_count": 95
        },
        {
          "output_type": "stream",
          "text": [
            "time: 56.5 ms (started: 2021-04-21 17:40:46 +00:00)\n"
          ],
          "name": "stdout"
        }
      ]
    },
    {
      "cell_type": "markdown",
      "metadata": {
        "id": "eY48F9-7gp2q"
      },
      "source": [
        "\n",
        "\n",
        "\n",
        "*   August. 7, 2020: LA County Exceeds 200,000 Coronavirus Cases\n",
        "*   August, 12, 2020: LA County Crosses 'Tragic Milestone' Of 5,000 Coronavirus Deaths \n",
        "\n",
        "\n",
        "\n",
        "\n",
        "\n",
        "\n",
        "\n"
      ]
    },
    {
      "cell_type": "code",
      "metadata": {
        "colab": {
          "base_uri": "https://localhost:8080/",
          "height": 386
        },
        "id": "_DhDPv1GfRhR",
        "outputId": "332ff6f9-7bde-4fce-8aec-9ec90e2101f2"
      },
      "source": [
        "start_date = '2020-8-5'\n",
        "end_date = '2020-8-21'\n",
        "df2 = apply_date_filter(df,start_date,end_date)\n",
        "chart = create_chart(df2)\n",
        "chart"
      ],
      "execution_count": 96,
      "outputs": [
        {
          "output_type": "execute_result",
          "data": {
            "text/plain": [
              "alt.LayerChart(...)"
            ],
            "text/html": [
              "\n",
              "<div id=\"altair-viz-9436865b8ec74ec3b236b1dc1edc7d65\"></div>\n",
              "<script type=\"text/javascript\">\n",
              "  (function(spec, embedOpt){\n",
              "    let outputDiv = document.currentScript.previousElementSibling;\n",
              "    if (outputDiv.id !== \"altair-viz-9436865b8ec74ec3b236b1dc1edc7d65\") {\n",
              "      outputDiv = document.getElementById(\"altair-viz-9436865b8ec74ec3b236b1dc1edc7d65\");\n",
              "    }\n",
              "    const paths = {\n",
              "      \"vega\": \"https://cdn.jsdelivr.net/npm//vega@5?noext\",\n",
              "      \"vega-lib\": \"https://cdn.jsdelivr.net/npm//vega-lib?noext\",\n",
              "      \"vega-lite\": \"https://cdn.jsdelivr.net/npm//vega-lite@4.8.1?noext\",\n",
              "      \"vega-embed\": \"https://cdn.jsdelivr.net/npm//vega-embed@6?noext\",\n",
              "    };\n",
              "\n",
              "    function loadScript(lib) {\n",
              "      return new Promise(function(resolve, reject) {\n",
              "        var s = document.createElement('script');\n",
              "        s.src = paths[lib];\n",
              "        s.async = true;\n",
              "        s.onload = () => resolve(paths[lib]);\n",
              "        s.onerror = () => reject(`Error loading script: ${paths[lib]}`);\n",
              "        document.getElementsByTagName(\"head\")[0].appendChild(s);\n",
              "      });\n",
              "    }\n",
              "\n",
              "    function showError(err) {\n",
              "      outputDiv.innerHTML = `<div class=\"error\" style=\"color:red;\">${err}</div>`;\n",
              "      throw err;\n",
              "    }\n",
              "\n",
              "    function displayChart(vegaEmbed) {\n",
              "      vegaEmbed(outputDiv, spec, embedOpt)\n",
              "        .catch(err => showError(`Javascript Error: ${err.message}<br>This usually means there's a typo in your chart specification. See the javascript console for the full traceback.`));\n",
              "    }\n",
              "\n",
              "    if(typeof define === \"function\" && define.amd) {\n",
              "      requirejs.config({paths});\n",
              "      require([\"vega-embed\"], displayChart, err => showError(`Error loading script: ${err.message}`));\n",
              "    } else if (typeof vegaEmbed === \"function\") {\n",
              "      displayChart(vegaEmbed);\n",
              "    } else {\n",
              "      loadScript(\"vega\")\n",
              "        .then(() => loadScript(\"vega-lite\"))\n",
              "        .then(() => loadScript(\"vega-embed\"))\n",
              "        .catch(showError)\n",
              "        .then(() => displayChart(vegaEmbed));\n",
              "    }\n",
              "  })({\"config\": {\"view\": {\"continuousHeight\": 300, \"continuousWidth\": 400}, \"range\": {\"category\": {\"scheme\": [\"#E15759\", \"#a0aab4\", \"#4E79A7\"]}}}, \"layer\": [{\"data\": {\"name\": \"data-93b63a61d2a6f6e5532ae69bf81f0850\"}, \"mark\": \"line\", \"encoding\": {\"color\": {\"type\": \"nominal\", \"field\": \"Poverty %\"}, \"x\": {\"type\": \"temporal\", \"field\": \"date\", \"title\": \"Date\"}, \"y\": {\"type\": \"quantitative\", \"field\": \"completely home %\", \"title\": \"Completely Home %\"}}, \"transform\": [{\"fold\": [\"Bottom 20 % Deviation\", \"Top 20 % Deviation\"], \"as\": [\"Poverty %\", \"completely home %\"]}], \"width\": 1000}, {\"data\": {\"name\": \"data-7f3a6b86ed460c4e648f2393735a11f6\"}, \"mark\": {\"type\": \"rule\", \"color\": \"#757575\", \"size\": 2, \"strokeDash\": [5, 3]}, \"encoding\": {\"size\": {\"value\": 2}, \"y\": {\"type\": \"quantitative\", \"field\": \"Mean 2019\"}}}, {\"data\": {\"name\": \"data-029429fb407004cc4ab361ab35994ace\"}, \"mark\": {\"type\": \"text\", \"angle\": 0, \"text\": \"Mean 2019\"}, \"encoding\": {\"y\": {\"type\": \"quantitative\", \"field\": \"y\"}}}], \"$schema\": \"https://vega.github.io/schema/vega-lite/v4.8.1.json\", \"datasets\": {\"data-93b63a61d2a6f6e5532ae69bf81f0850\": [{\"date\": \"2020-03-26T00:00:00+00:00\", \"Top 20 %\": 43.93740970931191, \"Bottom 20 %\": 24.553417163466715, \"Top 20 % Deviation\": 13.791917789784158, \"Bottom 20 % Deviation\": -5.592074756061034, \"mean 2019\": 0}, {\"date\": \"2020-03-25T00:00:00+00:00\", \"Top 20 %\": 41.22837841895386, \"Bottom 20 %\": 23.177210981167157, \"Top 20 % Deviation\": 11.08288649942611, \"Bottom 20 % Deviation\": -6.968280938360593, \"mean 2019\": 0}, {\"date\": \"2020-03-20T00:00:00+00:00\", \"Top 20 %\": 42.64377343039106, \"Bottom 20 %\": 23.04313155226927, \"Top 20 % Deviation\": 12.498281510863308, \"Bottom 20 % Deviation\": -7.1023603672584805, \"mean 2019\": 0}, {\"date\": \"2020-04-09T00:00:00+00:00\", \"Top 20 %\": 52.84278169606809, \"Bottom 20 %\": 34.123041622303454, \"Top 20 % Deviation\": 22.697289776540337, \"Bottom 20 % Deviation\": 3.977549702775704, \"mean 2019\": 0}, {\"date\": \"2020-03-24T00:00:00+00:00\", \"Top 20 %\": 44.17594415493544, \"Bottom 20 %\": 25.278276624916252, \"Top 20 % Deviation\": 14.030452235407694, \"Bottom 20 % Deviation\": -4.867215294611498, \"mean 2019\": 0}, {\"date\": \"2020-03-27T00:00:00+00:00\", \"Top 20 %\": 44.36030281183792, \"Bottom 20 %\": 27.345665239072243, \"Top 20 % Deviation\": 14.214810892310169, \"Bottom 20 % Deviation\": -2.7998266804555065, \"mean 2019\": 0}, {\"date\": \"2020-03-22T00:00:00+00:00\", \"Top 20 %\": 46.271426716195606, \"Bottom 20 %\": 26.00385882753165, \"Top 20 % Deviation\": 16.125934796667856, \"Bottom 20 % Deviation\": -4.141633091996098, \"mean 2019\": 0}, {\"date\": \"2020-03-28T00:00:00+00:00\", \"Top 20 %\": 44.27071535640918, \"Bottom 20 %\": 25.430654185788207, \"Top 20 % Deviation\": 14.125223436881427, \"Bottom 20 % Deviation\": -4.714837733739543, \"mean 2019\": 0}, {\"date\": \"2020-04-08T00:00:00+00:00\", \"Top 20 %\": 49.13792763379577, \"Bottom 20 %\": 32.282695283892096, \"Top 20 % Deviation\": 18.99243571426802, \"Bottom 20 % Deviation\": 2.137203364364346, \"mean 2019\": 0}, {\"date\": \"2020-03-19T00:00:00+00:00\", \"Top 20 %\": 37.142907589894925, \"Bottom 20 %\": 22.29901261033489, \"Top 20 % Deviation\": 6.997415670367175, \"Bottom 20 % Deviation\": -7.846479309192858, \"mean 2019\": 0}, {\"date\": \"2020-04-01T00:00:00+00:00\", \"Top 20 %\": 47.76281675138994, \"Bottom 20 %\": 33.225870939013475, \"Top 20 % Deviation\": 17.61732483186219, \"Bottom 20 % Deviation\": 3.0803790194857257, \"mean 2019\": 0}, {\"date\": \"2020-04-03T00:00:00+00:00\", \"Top 20 %\": 45.533684763120505, \"Bottom 20 %\": 32.49932949071636, \"Top 20 % Deviation\": 15.388192843592755, \"Bottom 20 % Deviation\": 2.3538375711886133, \"mean 2019\": 0}, {\"date\": \"2020-04-06T00:00:00+00:00\", \"Top 20 %\": 52.558307590319444, \"Bottom 20 %\": 34.178317348872376, \"Top 20 % Deviation\": 22.412815670791694, \"Bottom 20 % Deviation\": 4.032825429344626, \"mean 2019\": 0}, {\"date\": \"2020-03-29T00:00:00+00:00\", \"Top 20 %\": 47.39459677057467, \"Bottom 20 %\": 24.725235841202387, \"Top 20 % Deviation\": 17.249104851046923, \"Bottom 20 % Deviation\": -5.420256078325362, \"mean 2019\": 0}, {\"date\": \"2020-04-04T00:00:00+00:00\", \"Top 20 %\": 48.368525794269694, \"Bottom 20 %\": 27.841202627476108, \"Top 20 % Deviation\": 18.223033874741944, \"Bottom 20 % Deviation\": -2.3042892920516422, \"mean 2019\": 0}, {\"date\": \"2020-03-17T00:00:00+00:00\", \"Top 20 %\": 36.26453749040281, \"Bottom 20 %\": 26.36472670808341, \"Top 20 % Deviation\": 6.119045570875059, \"Bottom 20 % Deviation\": -3.78076521144434, \"mean 2019\": 0}, {\"date\": \"2020-04-02T00:00:00+00:00\", \"Top 20 %\": 48.13604928581593, \"Bottom 20 %\": 32.00730488674766, \"Top 20 % Deviation\": 17.99055736628818, \"Bottom 20 % Deviation\": 1.8618129672199117, \"mean 2019\": 0}, {\"date\": \"2020-03-18T00:00:00+00:00\", \"Top 20 %\": 37.71211133819127, \"Bottom 20 %\": 28.983629062206408, \"Top 20 % Deviation\": 7.566619418663521, \"Bottom 20 % Deviation\": -1.161862857321342, \"mean 2019\": 0}, {\"date\": \"2020-03-31T00:00:00+00:00\", \"Top 20 %\": 45.55653878550634, \"Bottom 20 %\": 28.65448781541401, \"Top 20 % Deviation\": 15.41104686597859, \"Bottom 20 % Deviation\": -1.4910041041137383, \"mean 2019\": 0}, {\"date\": \"2020-03-23T00:00:00+00:00\", \"Top 20 %\": 42.135432116807614, \"Bottom 20 %\": 23.501247329082208, \"Top 20 % Deviation\": 11.989940197279864, \"Bottom 20 % Deviation\": -6.644244590445542, \"mean 2019\": 0}, {\"date\": \"2020-03-30T00:00:00+00:00\", \"Top 20 %\": 46.36345170224874, \"Bottom 20 %\": 26.64691706944229, \"Top 20 % Deviation\": 16.21795978272099, \"Bottom 20 % Deviation\": -3.498574850085461, \"mean 2019\": 0}, {\"date\": \"2020-03-21T00:00:00+00:00\", \"Top 20 %\": 48.46204414858775, \"Bottom 20 %\": 28.37421790869896, \"Top 20 % Deviation\": 18.31655222906, \"Bottom 20 % Deviation\": -1.7712740108287903, \"mean 2019\": 0}, {\"date\": \"2020-04-07T00:00:00+00:00\", \"Top 20 %\": 52.29367575863379, \"Bottom 20 %\": 33.01819224528247, \"Top 20 % Deviation\": 22.14818383910604, \"Bottom 20 % Deviation\": 2.872700325754721, \"mean 2019\": 0}, {\"date\": \"2020-04-05T00:00:00+00:00\", \"Top 20 %\": 51.744279642289065, \"Bottom 20 %\": 27.82474229919127, \"Top 20 % Deviation\": 21.598787722761315, \"Bottom 20 % Deviation\": -2.3207496203364784, \"mean 2019\": 0}], \"data-7f3a6b86ed460c4e648f2393735a11f6\": [{\"Mean 2019\": 0}], \"data-029429fb407004cc4ab361ab35994ace\": [{\"x\": 0, \"y\": 1}]}}, {\"mode\": \"vega-lite\"});\n",
              "</script>"
            ]
          },
          "metadata": {
            "tags": []
          },
          "execution_count": 96
        },
        {
          "output_type": "stream",
          "text": [
            "time: 58.2 ms (started: 2021-04-21 17:40:49 +00:00)\n"
          ],
          "name": "stdout"
        }
      ]
    },
    {
      "cell_type": "markdown",
      "metadata": {
        "id": "mxC6dH7YiWxd"
      },
      "source": [
        "**Oct. 14, 2020: LA County Sees Rise In Workplace Outbreaks As Infection Rate Creeps Upward**\n",
        "\n",
        "--- "
      ]
    },
    {
      "cell_type": "code",
      "metadata": {
        "colab": {
          "base_uri": "https://localhost:8080/",
          "height": 386
        },
        "id": "KTaOPmN5fRmL",
        "outputId": "3f5b9b80-0d7e-41dd-805d-363504e3c9c0"
      },
      "source": [
        "start_date = '2020-10-12'\n",
        "end_date = '2020-10-24'\n",
        "df3 = apply_date_filter(df,start_date,end_date)\n",
        "chart = create_chart(df3)\n",
        "chart"
      ],
      "execution_count": 97,
      "outputs": [
        {
          "output_type": "execute_result",
          "data": {
            "text/plain": [
              "alt.LayerChart(...)"
            ],
            "text/html": [
              "\n",
              "<div id=\"altair-viz-79965e0e21db4b4186135618589aada3\"></div>\n",
              "<script type=\"text/javascript\">\n",
              "  (function(spec, embedOpt){\n",
              "    let outputDiv = document.currentScript.previousElementSibling;\n",
              "    if (outputDiv.id !== \"altair-viz-79965e0e21db4b4186135618589aada3\") {\n",
              "      outputDiv = document.getElementById(\"altair-viz-79965e0e21db4b4186135618589aada3\");\n",
              "    }\n",
              "    const paths = {\n",
              "      \"vega\": \"https://cdn.jsdelivr.net/npm//vega@5?noext\",\n",
              "      \"vega-lib\": \"https://cdn.jsdelivr.net/npm//vega-lib?noext\",\n",
              "      \"vega-lite\": \"https://cdn.jsdelivr.net/npm//vega-lite@4.8.1?noext\",\n",
              "      \"vega-embed\": \"https://cdn.jsdelivr.net/npm//vega-embed@6?noext\",\n",
              "    };\n",
              "\n",
              "    function loadScript(lib) {\n",
              "      return new Promise(function(resolve, reject) {\n",
              "        var s = document.createElement('script');\n",
              "        s.src = paths[lib];\n",
              "        s.async = true;\n",
              "        s.onload = () => resolve(paths[lib]);\n",
              "        s.onerror = () => reject(`Error loading script: ${paths[lib]}`);\n",
              "        document.getElementsByTagName(\"head\")[0].appendChild(s);\n",
              "      });\n",
              "    }\n",
              "\n",
              "    function showError(err) {\n",
              "      outputDiv.innerHTML = `<div class=\"error\" style=\"color:red;\">${err}</div>`;\n",
              "      throw err;\n",
              "    }\n",
              "\n",
              "    function displayChart(vegaEmbed) {\n",
              "      vegaEmbed(outputDiv, spec, embedOpt)\n",
              "        .catch(err => showError(`Javascript Error: ${err.message}<br>This usually means there's a typo in your chart specification. See the javascript console for the full traceback.`));\n",
              "    }\n",
              "\n",
              "    if(typeof define === \"function\" && define.amd) {\n",
              "      requirejs.config({paths});\n",
              "      require([\"vega-embed\"], displayChart, err => showError(`Error loading script: ${err.message}`));\n",
              "    } else if (typeof vegaEmbed === \"function\") {\n",
              "      displayChart(vegaEmbed);\n",
              "    } else {\n",
              "      loadScript(\"vega\")\n",
              "        .then(() => loadScript(\"vega-lite\"))\n",
              "        .then(() => loadScript(\"vega-embed\"))\n",
              "        .catch(showError)\n",
              "        .then(() => displayChart(vegaEmbed));\n",
              "    }\n",
              "  })({\"config\": {\"view\": {\"continuousHeight\": 300, \"continuousWidth\": 400}, \"range\": {\"category\": {\"scheme\": [\"#E15759\", \"#a0aab4\", \"#4E79A7\"]}}}, \"layer\": [{\"data\": {\"name\": \"data-93b63a61d2a6f6e5532ae69bf81f0850\"}, \"mark\": \"line\", \"encoding\": {\"color\": {\"type\": \"nominal\", \"field\": \"Poverty %\"}, \"x\": {\"type\": \"temporal\", \"field\": \"date\", \"title\": \"Date\"}, \"y\": {\"type\": \"quantitative\", \"field\": \"completely home %\", \"title\": \"Completely Home %\"}}, \"transform\": [{\"fold\": [\"Bottom 20 % Deviation\", \"Top 20 % Deviation\"], \"as\": [\"Poverty %\", \"completely home %\"]}], \"width\": 1000}, {\"data\": {\"name\": \"data-7f3a6b86ed460c4e648f2393735a11f6\"}, \"mark\": {\"type\": \"rule\", \"color\": \"#757575\", \"size\": 2, \"strokeDash\": [5, 3]}, \"encoding\": {\"size\": {\"value\": 2}, \"y\": {\"type\": \"quantitative\", \"field\": \"Mean 2019\"}}}, {\"data\": {\"name\": \"data-029429fb407004cc4ab361ab35994ace\"}, \"mark\": {\"type\": \"text\", \"angle\": 0, \"text\": \"Mean 2019\"}, \"encoding\": {\"y\": {\"type\": \"quantitative\", \"field\": \"y\"}}}], \"$schema\": \"https://vega.github.io/schema/vega-lite/v4.8.1.json\", \"datasets\": {\"data-93b63a61d2a6f6e5532ae69bf81f0850\": [{\"date\": \"2020-03-26T00:00:00+00:00\", \"Top 20 %\": 43.93740970931191, \"Bottom 20 %\": 24.553417163466715, \"Top 20 % Deviation\": 13.791917789784158, \"Bottom 20 % Deviation\": -5.592074756061034, \"mean 2019\": 0}, {\"date\": \"2020-03-25T00:00:00+00:00\", \"Top 20 %\": 41.22837841895386, \"Bottom 20 %\": 23.177210981167157, \"Top 20 % Deviation\": 11.08288649942611, \"Bottom 20 % Deviation\": -6.968280938360593, \"mean 2019\": 0}, {\"date\": \"2020-03-20T00:00:00+00:00\", \"Top 20 %\": 42.64377343039106, \"Bottom 20 %\": 23.04313155226927, \"Top 20 % Deviation\": 12.498281510863308, \"Bottom 20 % Deviation\": -7.1023603672584805, \"mean 2019\": 0}, {\"date\": \"2020-04-09T00:00:00+00:00\", \"Top 20 %\": 52.84278169606809, \"Bottom 20 %\": 34.123041622303454, \"Top 20 % Deviation\": 22.697289776540337, \"Bottom 20 % Deviation\": 3.977549702775704, \"mean 2019\": 0}, {\"date\": \"2020-03-24T00:00:00+00:00\", \"Top 20 %\": 44.17594415493544, \"Bottom 20 %\": 25.278276624916252, \"Top 20 % Deviation\": 14.030452235407694, \"Bottom 20 % Deviation\": -4.867215294611498, \"mean 2019\": 0}, {\"date\": \"2020-03-27T00:00:00+00:00\", \"Top 20 %\": 44.36030281183792, \"Bottom 20 %\": 27.345665239072243, \"Top 20 % Deviation\": 14.214810892310169, \"Bottom 20 % Deviation\": -2.7998266804555065, \"mean 2019\": 0}, {\"date\": \"2020-03-22T00:00:00+00:00\", \"Top 20 %\": 46.271426716195606, \"Bottom 20 %\": 26.00385882753165, \"Top 20 % Deviation\": 16.125934796667856, \"Bottom 20 % Deviation\": -4.141633091996098, \"mean 2019\": 0}, {\"date\": \"2020-03-28T00:00:00+00:00\", \"Top 20 %\": 44.27071535640918, \"Bottom 20 %\": 25.430654185788207, \"Top 20 % Deviation\": 14.125223436881427, \"Bottom 20 % Deviation\": -4.714837733739543, \"mean 2019\": 0}, {\"date\": \"2020-04-08T00:00:00+00:00\", \"Top 20 %\": 49.13792763379577, \"Bottom 20 %\": 32.282695283892096, \"Top 20 % Deviation\": 18.99243571426802, \"Bottom 20 % Deviation\": 2.137203364364346, \"mean 2019\": 0}, {\"date\": \"2020-03-19T00:00:00+00:00\", \"Top 20 %\": 37.142907589894925, \"Bottom 20 %\": 22.29901261033489, \"Top 20 % Deviation\": 6.997415670367175, \"Bottom 20 % Deviation\": -7.846479309192858, \"mean 2019\": 0}, {\"date\": \"2020-04-01T00:00:00+00:00\", \"Top 20 %\": 47.76281675138994, \"Bottom 20 %\": 33.225870939013475, \"Top 20 % Deviation\": 17.61732483186219, \"Bottom 20 % Deviation\": 3.0803790194857257, \"mean 2019\": 0}, {\"date\": \"2020-04-03T00:00:00+00:00\", \"Top 20 %\": 45.533684763120505, \"Bottom 20 %\": 32.49932949071636, \"Top 20 % Deviation\": 15.388192843592755, \"Bottom 20 % Deviation\": 2.3538375711886133, \"mean 2019\": 0}, {\"date\": \"2020-04-06T00:00:00+00:00\", \"Top 20 %\": 52.558307590319444, \"Bottom 20 %\": 34.178317348872376, \"Top 20 % Deviation\": 22.412815670791694, \"Bottom 20 % Deviation\": 4.032825429344626, \"mean 2019\": 0}, {\"date\": \"2020-03-29T00:00:00+00:00\", \"Top 20 %\": 47.39459677057467, \"Bottom 20 %\": 24.725235841202387, \"Top 20 % Deviation\": 17.249104851046923, \"Bottom 20 % Deviation\": -5.420256078325362, \"mean 2019\": 0}, {\"date\": \"2020-04-04T00:00:00+00:00\", \"Top 20 %\": 48.368525794269694, \"Bottom 20 %\": 27.841202627476108, \"Top 20 % Deviation\": 18.223033874741944, \"Bottom 20 % Deviation\": -2.3042892920516422, \"mean 2019\": 0}, {\"date\": \"2020-03-17T00:00:00+00:00\", \"Top 20 %\": 36.26453749040281, \"Bottom 20 %\": 26.36472670808341, \"Top 20 % Deviation\": 6.119045570875059, \"Bottom 20 % Deviation\": -3.78076521144434, \"mean 2019\": 0}, {\"date\": \"2020-04-02T00:00:00+00:00\", \"Top 20 %\": 48.13604928581593, \"Bottom 20 %\": 32.00730488674766, \"Top 20 % Deviation\": 17.99055736628818, \"Bottom 20 % Deviation\": 1.8618129672199117, \"mean 2019\": 0}, {\"date\": \"2020-03-18T00:00:00+00:00\", \"Top 20 %\": 37.71211133819127, \"Bottom 20 %\": 28.983629062206408, \"Top 20 % Deviation\": 7.566619418663521, \"Bottom 20 % Deviation\": -1.161862857321342, \"mean 2019\": 0}, {\"date\": \"2020-03-31T00:00:00+00:00\", \"Top 20 %\": 45.55653878550634, \"Bottom 20 %\": 28.65448781541401, \"Top 20 % Deviation\": 15.41104686597859, \"Bottom 20 % Deviation\": -1.4910041041137383, \"mean 2019\": 0}, {\"date\": \"2020-03-23T00:00:00+00:00\", \"Top 20 %\": 42.135432116807614, \"Bottom 20 %\": 23.501247329082208, \"Top 20 % Deviation\": 11.989940197279864, \"Bottom 20 % Deviation\": -6.644244590445542, \"mean 2019\": 0}, {\"date\": \"2020-03-30T00:00:00+00:00\", \"Top 20 %\": 46.36345170224874, \"Bottom 20 %\": 26.64691706944229, \"Top 20 % Deviation\": 16.21795978272099, \"Bottom 20 % Deviation\": -3.498574850085461, \"mean 2019\": 0}, {\"date\": \"2020-03-21T00:00:00+00:00\", \"Top 20 %\": 48.46204414858775, \"Bottom 20 %\": 28.37421790869896, \"Top 20 % Deviation\": 18.31655222906, \"Bottom 20 % Deviation\": -1.7712740108287903, \"mean 2019\": 0}, {\"date\": \"2020-04-07T00:00:00+00:00\", \"Top 20 %\": 52.29367575863379, \"Bottom 20 %\": 33.01819224528247, \"Top 20 % Deviation\": 22.14818383910604, \"Bottom 20 % Deviation\": 2.872700325754721, \"mean 2019\": 0}, {\"date\": \"2020-04-05T00:00:00+00:00\", \"Top 20 %\": 51.744279642289065, \"Bottom 20 %\": 27.82474229919127, \"Top 20 % Deviation\": 21.598787722761315, \"Bottom 20 % Deviation\": -2.3207496203364784, \"mean 2019\": 0}], \"data-7f3a6b86ed460c4e648f2393735a11f6\": [{\"Mean 2019\": 0}], \"data-029429fb407004cc4ab361ab35994ace\": [{\"x\": 0, \"y\": 1}]}}, {\"mode\": \"vega-lite\"});\n",
              "</script>"
            ]
          },
          "metadata": {
            "tags": []
          },
          "execution_count": 97
        },
        {
          "output_type": "stream",
          "text": [
            "time: 53.5 ms (started: 2021-04-21 17:40:52 +00:00)\n"
          ],
          "name": "stdout"
        }
      ]
    },
    {
      "cell_type": "markdown",
      "metadata": {
        "id": "I1uLmyxVi6Zo"
      },
      "source": [
        "Dec. 16, 2020:\n",
        "LA County COVID-19 Deaths Hit New Record\n",
        "\n",
        "---"
      ]
    },
    {
      "cell_type": "code",
      "metadata": {
        "colab": {
          "base_uri": "https://localhost:8080/",
          "height": 386
        },
        "id": "YZ29_JeZfRqz",
        "outputId": "ee435b72-6947-467c-e8b7-1a2bf25ef1d9"
      },
      "source": [
        "start_date = '2020-12-15'\n",
        "end_date = '2020-12-31'\n",
        "df4 = apply_date_filter(df,start_date,end_date)\n",
        "chart = create_chart(df4)\n",
        "chart"
      ],
      "execution_count": 98,
      "outputs": [
        {
          "output_type": "execute_result",
          "data": {
            "text/plain": [
              "alt.LayerChart(...)"
            ],
            "text/html": [
              "\n",
              "<div id=\"altair-viz-f73c82b8681e4264b1c2799606e23ec7\"></div>\n",
              "<script type=\"text/javascript\">\n",
              "  (function(spec, embedOpt){\n",
              "    let outputDiv = document.currentScript.previousElementSibling;\n",
              "    if (outputDiv.id !== \"altair-viz-f73c82b8681e4264b1c2799606e23ec7\") {\n",
              "      outputDiv = document.getElementById(\"altair-viz-f73c82b8681e4264b1c2799606e23ec7\");\n",
              "    }\n",
              "    const paths = {\n",
              "      \"vega\": \"https://cdn.jsdelivr.net/npm//vega@5?noext\",\n",
              "      \"vega-lib\": \"https://cdn.jsdelivr.net/npm//vega-lib?noext\",\n",
              "      \"vega-lite\": \"https://cdn.jsdelivr.net/npm//vega-lite@4.8.1?noext\",\n",
              "      \"vega-embed\": \"https://cdn.jsdelivr.net/npm//vega-embed@6?noext\",\n",
              "    };\n",
              "\n",
              "    function loadScript(lib) {\n",
              "      return new Promise(function(resolve, reject) {\n",
              "        var s = document.createElement('script');\n",
              "        s.src = paths[lib];\n",
              "        s.async = true;\n",
              "        s.onload = () => resolve(paths[lib]);\n",
              "        s.onerror = () => reject(`Error loading script: ${paths[lib]}`);\n",
              "        document.getElementsByTagName(\"head\")[0].appendChild(s);\n",
              "      });\n",
              "    }\n",
              "\n",
              "    function showError(err) {\n",
              "      outputDiv.innerHTML = `<div class=\"error\" style=\"color:red;\">${err}</div>`;\n",
              "      throw err;\n",
              "    }\n",
              "\n",
              "    function displayChart(vegaEmbed) {\n",
              "      vegaEmbed(outputDiv, spec, embedOpt)\n",
              "        .catch(err => showError(`Javascript Error: ${err.message}<br>This usually means there's a typo in your chart specification. See the javascript console for the full traceback.`));\n",
              "    }\n",
              "\n",
              "    if(typeof define === \"function\" && define.amd) {\n",
              "      requirejs.config({paths});\n",
              "      require([\"vega-embed\"], displayChart, err => showError(`Error loading script: ${err.message}`));\n",
              "    } else if (typeof vegaEmbed === \"function\") {\n",
              "      displayChart(vegaEmbed);\n",
              "    } else {\n",
              "      loadScript(\"vega\")\n",
              "        .then(() => loadScript(\"vega-lite\"))\n",
              "        .then(() => loadScript(\"vega-embed\"))\n",
              "        .catch(showError)\n",
              "        .then(() => displayChart(vegaEmbed));\n",
              "    }\n",
              "  })({\"config\": {\"view\": {\"continuousHeight\": 300, \"continuousWidth\": 400}, \"range\": {\"category\": {\"scheme\": [\"#E15759\", \"#a0aab4\", \"#4E79A7\"]}}}, \"layer\": [{\"data\": {\"name\": \"data-93b63a61d2a6f6e5532ae69bf81f0850\"}, \"mark\": \"line\", \"encoding\": {\"color\": {\"type\": \"nominal\", \"field\": \"Poverty %\"}, \"x\": {\"type\": \"temporal\", \"field\": \"date\", \"title\": \"Date\"}, \"y\": {\"type\": \"quantitative\", \"field\": \"completely home %\", \"title\": \"Completely Home %\"}}, \"transform\": [{\"fold\": [\"Bottom 20 % Deviation\", \"Top 20 % Deviation\"], \"as\": [\"Poverty %\", \"completely home %\"]}], \"width\": 1000}, {\"data\": {\"name\": \"data-7f3a6b86ed460c4e648f2393735a11f6\"}, \"mark\": {\"type\": \"rule\", \"color\": \"#757575\", \"size\": 2, \"strokeDash\": [5, 3]}, \"encoding\": {\"size\": {\"value\": 2}, \"y\": {\"type\": \"quantitative\", \"field\": \"Mean 2019\"}}}, {\"data\": {\"name\": \"data-029429fb407004cc4ab361ab35994ace\"}, \"mark\": {\"type\": \"text\", \"angle\": 0, \"text\": \"Mean 2019\"}, \"encoding\": {\"y\": {\"type\": \"quantitative\", \"field\": \"y\"}}}], \"$schema\": \"https://vega.github.io/schema/vega-lite/v4.8.1.json\", \"datasets\": {\"data-93b63a61d2a6f6e5532ae69bf81f0850\": [{\"date\": \"2020-03-26T00:00:00+00:00\", \"Top 20 %\": 43.93740970931191, \"Bottom 20 %\": 24.553417163466715, \"Top 20 % Deviation\": 13.791917789784158, \"Bottom 20 % Deviation\": -5.592074756061034, \"mean 2019\": 0}, {\"date\": \"2020-03-25T00:00:00+00:00\", \"Top 20 %\": 41.22837841895386, \"Bottom 20 %\": 23.177210981167157, \"Top 20 % Deviation\": 11.08288649942611, \"Bottom 20 % Deviation\": -6.968280938360593, \"mean 2019\": 0}, {\"date\": \"2020-03-20T00:00:00+00:00\", \"Top 20 %\": 42.64377343039106, \"Bottom 20 %\": 23.04313155226927, \"Top 20 % Deviation\": 12.498281510863308, \"Bottom 20 % Deviation\": -7.1023603672584805, \"mean 2019\": 0}, {\"date\": \"2020-04-09T00:00:00+00:00\", \"Top 20 %\": 52.84278169606809, \"Bottom 20 %\": 34.123041622303454, \"Top 20 % Deviation\": 22.697289776540337, \"Bottom 20 % Deviation\": 3.977549702775704, \"mean 2019\": 0}, {\"date\": \"2020-03-24T00:00:00+00:00\", \"Top 20 %\": 44.17594415493544, \"Bottom 20 %\": 25.278276624916252, \"Top 20 % Deviation\": 14.030452235407694, \"Bottom 20 % Deviation\": -4.867215294611498, \"mean 2019\": 0}, {\"date\": \"2020-03-27T00:00:00+00:00\", \"Top 20 %\": 44.36030281183792, \"Bottom 20 %\": 27.345665239072243, \"Top 20 % Deviation\": 14.214810892310169, \"Bottom 20 % Deviation\": -2.7998266804555065, \"mean 2019\": 0}, {\"date\": \"2020-03-22T00:00:00+00:00\", \"Top 20 %\": 46.271426716195606, \"Bottom 20 %\": 26.00385882753165, \"Top 20 % Deviation\": 16.125934796667856, \"Bottom 20 % Deviation\": -4.141633091996098, \"mean 2019\": 0}, {\"date\": \"2020-03-28T00:00:00+00:00\", \"Top 20 %\": 44.27071535640918, \"Bottom 20 %\": 25.430654185788207, \"Top 20 % Deviation\": 14.125223436881427, \"Bottom 20 % Deviation\": -4.714837733739543, \"mean 2019\": 0}, {\"date\": \"2020-04-08T00:00:00+00:00\", \"Top 20 %\": 49.13792763379577, \"Bottom 20 %\": 32.282695283892096, \"Top 20 % Deviation\": 18.99243571426802, \"Bottom 20 % Deviation\": 2.137203364364346, \"mean 2019\": 0}, {\"date\": \"2020-03-19T00:00:00+00:00\", \"Top 20 %\": 37.142907589894925, \"Bottom 20 %\": 22.29901261033489, \"Top 20 % Deviation\": 6.997415670367175, \"Bottom 20 % Deviation\": -7.846479309192858, \"mean 2019\": 0}, {\"date\": \"2020-04-01T00:00:00+00:00\", \"Top 20 %\": 47.76281675138994, \"Bottom 20 %\": 33.225870939013475, \"Top 20 % Deviation\": 17.61732483186219, \"Bottom 20 % Deviation\": 3.0803790194857257, \"mean 2019\": 0}, {\"date\": \"2020-04-03T00:00:00+00:00\", \"Top 20 %\": 45.533684763120505, \"Bottom 20 %\": 32.49932949071636, \"Top 20 % Deviation\": 15.388192843592755, \"Bottom 20 % Deviation\": 2.3538375711886133, \"mean 2019\": 0}, {\"date\": \"2020-04-06T00:00:00+00:00\", \"Top 20 %\": 52.558307590319444, \"Bottom 20 %\": 34.178317348872376, \"Top 20 % Deviation\": 22.412815670791694, \"Bottom 20 % Deviation\": 4.032825429344626, \"mean 2019\": 0}, {\"date\": \"2020-03-29T00:00:00+00:00\", \"Top 20 %\": 47.39459677057467, \"Bottom 20 %\": 24.725235841202387, \"Top 20 % Deviation\": 17.249104851046923, \"Bottom 20 % Deviation\": -5.420256078325362, \"mean 2019\": 0}, {\"date\": \"2020-04-04T00:00:00+00:00\", \"Top 20 %\": 48.368525794269694, \"Bottom 20 %\": 27.841202627476108, \"Top 20 % Deviation\": 18.223033874741944, \"Bottom 20 % Deviation\": -2.3042892920516422, \"mean 2019\": 0}, {\"date\": \"2020-03-17T00:00:00+00:00\", \"Top 20 %\": 36.26453749040281, \"Bottom 20 %\": 26.36472670808341, \"Top 20 % Deviation\": 6.119045570875059, \"Bottom 20 % Deviation\": -3.78076521144434, \"mean 2019\": 0}, {\"date\": \"2020-04-02T00:00:00+00:00\", \"Top 20 %\": 48.13604928581593, \"Bottom 20 %\": 32.00730488674766, \"Top 20 % Deviation\": 17.99055736628818, \"Bottom 20 % Deviation\": 1.8618129672199117, \"mean 2019\": 0}, {\"date\": \"2020-03-18T00:00:00+00:00\", \"Top 20 %\": 37.71211133819127, \"Bottom 20 %\": 28.983629062206408, \"Top 20 % Deviation\": 7.566619418663521, \"Bottom 20 % Deviation\": -1.161862857321342, \"mean 2019\": 0}, {\"date\": \"2020-03-31T00:00:00+00:00\", \"Top 20 %\": 45.55653878550634, \"Bottom 20 %\": 28.65448781541401, \"Top 20 % Deviation\": 15.41104686597859, \"Bottom 20 % Deviation\": -1.4910041041137383, \"mean 2019\": 0}, {\"date\": \"2020-03-23T00:00:00+00:00\", \"Top 20 %\": 42.135432116807614, \"Bottom 20 %\": 23.501247329082208, \"Top 20 % Deviation\": 11.989940197279864, \"Bottom 20 % Deviation\": -6.644244590445542, \"mean 2019\": 0}, {\"date\": \"2020-03-30T00:00:00+00:00\", \"Top 20 %\": 46.36345170224874, \"Bottom 20 %\": 26.64691706944229, \"Top 20 % Deviation\": 16.21795978272099, \"Bottom 20 % Deviation\": -3.498574850085461, \"mean 2019\": 0}, {\"date\": \"2020-03-21T00:00:00+00:00\", \"Top 20 %\": 48.46204414858775, \"Bottom 20 %\": 28.37421790869896, \"Top 20 % Deviation\": 18.31655222906, \"Bottom 20 % Deviation\": -1.7712740108287903, \"mean 2019\": 0}, {\"date\": \"2020-04-07T00:00:00+00:00\", \"Top 20 %\": 52.29367575863379, \"Bottom 20 %\": 33.01819224528247, \"Top 20 % Deviation\": 22.14818383910604, \"Bottom 20 % Deviation\": 2.872700325754721, \"mean 2019\": 0}, {\"date\": \"2020-04-05T00:00:00+00:00\", \"Top 20 %\": 51.744279642289065, \"Bottom 20 %\": 27.82474229919127, \"Top 20 % Deviation\": 21.598787722761315, \"Bottom 20 % Deviation\": -2.3207496203364784, \"mean 2019\": 0}], \"data-7f3a6b86ed460c4e648f2393735a11f6\": [{\"Mean 2019\": 0}], \"data-029429fb407004cc4ab361ab35994ace\": [{\"x\": 0, \"y\": 1}]}}, {\"mode\": \"vega-lite\"});\n",
              "</script>"
            ]
          },
          "metadata": {
            "tags": []
          },
          "execution_count": 98
        },
        {
          "output_type": "stream",
          "text": [
            "time: 61.2 ms (started: 2021-04-21 17:40:55 +00:00)\n"
          ],
          "name": "stdout"
        }
      ]
    },
    {
      "cell_type": "code",
      "metadata": {
        "id": "WuiHxms2fRtH"
      },
      "source": [
        ""
      ],
      "execution_count": 32,
      "outputs": []
    }
  ]
}