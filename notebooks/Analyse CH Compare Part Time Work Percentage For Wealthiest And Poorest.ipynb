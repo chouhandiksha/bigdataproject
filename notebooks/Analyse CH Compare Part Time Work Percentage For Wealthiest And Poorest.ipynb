{
  "nbformat": 4,
  "nbformat_minor": 0,
  "metadata": {
    "colab": {
      "name": " Analyse CH Compare Part Time Work Percentage For Wealthiest And Poorest.ipynb",
      "provenance": [],
      "collapsed_sections": [],
      "include_colab_link": true
    },
    "kernelspec": {
      "name": "python3",
      "display_name": "Python 3"
    },
    "language_info": {
      "name": "python"
    }
  },
  "cells": [
    {
      "cell_type": "markdown",
      "metadata": {
        "id": "view-in-github",
        "colab_type": "text"
      },
      "source": [
        "<a href=\"https://colab.research.google.com/github/chouhandiksha/bigdataproject/blob/main/notebooks/Analyse%20CH%20Compare%20Part%20Time%20Work%20Percentage%20For%20Wealthiest%20And%20Poorest.ipynb\" target=\"_parent\"><img src=\"https://colab.research.google.com/assets/colab-badge.svg\" alt=\"Open In Colab\"/></a>"
      ]
    },
    {
      "cell_type": "markdown",
      "metadata": {
        "id": "6Vnc5foT5YFx"
      },
      "source": [
        "**Spark SQL Documentation:** \n",
        "https://spark.apache.org/docs/2.2.0/sql-programming-guide.html"
      ]
    },
    {
      "cell_type": "markdown",
      "metadata": {
        "id": "-Hcp2BfpN8Bn"
      },
      "source": [
        "#  Analyse CH Compare Part Time Work Percentage For Wealthiest And Poorest\n",
        "\n",
        "*Instructions:*\n",
        "\n",
        "1. Execute the first code cell.\n",
        "2. There will be a link to follow in order to authorize the google account for drive. Go to that link.\n",
        "3. A code to authorize the google account will be generated. Copy the code generated.\n",
        "4. Go back to the cell where the process of mounting the drive is running. Paste the generated code from step 3 to the text box in the cell and press enter."
      ]
    },
    {
      "cell_type": "code",
      "metadata": {
        "id": "XXJ-cpgT3moz",
        "colab": {
          "base_uri": "https://localhost:8080/"
        },
        "outputId": "1ef66b61-e232-4bde-d04a-8990a8e1ae14"
      },
      "source": [
        "# add time information at the end of every cell\n",
        "!pip install ipython-autotime\n",
        "%load_ext autotime"
      ],
      "execution_count": null,
      "outputs": [
        {
          "output_type": "stream",
          "text": [
            "Collecting ipython-autotime\n",
            "  Downloading https://files.pythonhosted.org/packages/b4/c9/b413a24f759641bc27ef98c144b590023c8038dfb8a3f09e713e9dff12c1/ipython_autotime-0.3.1-py2.py3-none-any.whl\n",
            "Requirement already satisfied: ipython in /usr/local/lib/python3.7/dist-packages (from ipython-autotime) (5.5.0)\n",
            "Requirement already satisfied: pygments in /usr/local/lib/python3.7/dist-packages (from ipython->ipython-autotime) (2.6.1)\n",
            "Requirement already satisfied: prompt-toolkit<2.0.0,>=1.0.4 in /usr/local/lib/python3.7/dist-packages (from ipython->ipython-autotime) (1.0.18)\n",
            "Requirement already satisfied: pickleshare in /usr/local/lib/python3.7/dist-packages (from ipython->ipython-autotime) (0.7.5)\n",
            "Requirement already satisfied: simplegeneric>0.8 in /usr/local/lib/python3.7/dist-packages (from ipython->ipython-autotime) (0.8.1)\n",
            "Requirement already satisfied: decorator in /usr/local/lib/python3.7/dist-packages (from ipython->ipython-autotime) (4.4.2)\n",
            "Requirement already satisfied: traitlets>=4.2 in /usr/local/lib/python3.7/dist-packages (from ipython->ipython-autotime) (5.0.5)\n",
            "Requirement already satisfied: setuptools>=18.5 in /usr/local/lib/python3.7/dist-packages (from ipython->ipython-autotime) (56.0.0)\n",
            "Requirement already satisfied: pexpect; sys_platform != \"win32\" in /usr/local/lib/python3.7/dist-packages (from ipython->ipython-autotime) (4.8.0)\n",
            "Requirement already satisfied: wcwidth in /usr/local/lib/python3.7/dist-packages (from prompt-toolkit<2.0.0,>=1.0.4->ipython->ipython-autotime) (0.2.5)\n",
            "Requirement already satisfied: six>=1.9.0 in /usr/local/lib/python3.7/dist-packages (from prompt-toolkit<2.0.0,>=1.0.4->ipython->ipython-autotime) (1.15.0)\n",
            "Requirement already satisfied: ipython-genutils in /usr/local/lib/python3.7/dist-packages (from traitlets>=4.2->ipython->ipython-autotime) (0.2.0)\n",
            "Requirement already satisfied: ptyprocess>=0.5 in /usr/local/lib/python3.7/dist-packages (from pexpect; sys_platform != \"win32\"->ipython->ipython-autotime) (0.7.0)\n",
            "Installing collected packages: ipython-autotime\n",
            "Successfully installed ipython-autotime-0.3.1\n",
            "time: 1.98 ms (started: 2021-04-25 03:26:17 +00:00)\n"
          ],
          "name": "stdout"
        }
      ]
    },
    {
      "cell_type": "code",
      "metadata": {
        "colab": {
          "base_uri": "https://localhost:8080/"
        },
        "id": "DggpqrsrscGi",
        "outputId": "0b8d3b19-ed4e-42b9-8a7d-fe5088a92585"
      },
      "source": [
        "# Install required dependancies\n",
        "!pip install pyspark\n",
        "!apt install openjdk-8-jdk-headless -qq\n",
        "import os\n",
        "os.environ[\"JAVA_HOME\"] = \"/usr/lib/jvm/java-8-openjdk-amd64\""
      ],
      "execution_count": null,
      "outputs": [
        {
          "output_type": "stream",
          "text": [
            "Collecting pyspark\n",
            "\u001b[?25l  Downloading https://files.pythonhosted.org/packages/45/b0/9d6860891ab14a39d4bddf80ba26ce51c2f9dc4805e5c6978ac0472c120a/pyspark-3.1.1.tar.gz (212.3MB)\n",
            "\u001b[K     |████████████████████████████████| 212.3MB 67kB/s \n",
            "\u001b[?25hCollecting py4j==0.10.9\n",
            "\u001b[?25l  Downloading https://files.pythonhosted.org/packages/9e/b6/6a4fb90cd235dc8e265a6a2067f2a2c99f0d91787f06aca4bcf7c23f3f80/py4j-0.10.9-py2.py3-none-any.whl (198kB)\n",
            "\u001b[K     |████████████████████████████████| 204kB 47.8MB/s \n",
            "\u001b[?25hBuilding wheels for collected packages: pyspark\n",
            "  Building wheel for pyspark (setup.py) ... \u001b[?25l\u001b[?25hdone\n",
            "  Created wheel for pyspark: filename=pyspark-3.1.1-py2.py3-none-any.whl size=212767604 sha256=86eeb97cf32433f1c88e53d39f1237dbbf5317d0fde4743304e278c6ab8dedba\n",
            "  Stored in directory: /root/.cache/pip/wheels/0b/90/c0/01de724414ef122bd05f056541fb6a0ecf47c7ca655f8b3c0f\n",
            "Successfully built pyspark\n",
            "Installing collected packages: py4j, pyspark\n",
            "Successfully installed py4j-0.10.9 pyspark-3.1.1\n",
            "The following package was automatically installed and is no longer required:\n",
            "  libnvidia-common-460\n",
            "Use 'apt autoremove' to remove it.\n",
            "The following additional packages will be installed:\n",
            "  openjdk-8-jre-headless\n",
            "Suggested packages:\n",
            "  openjdk-8-demo openjdk-8-source libnss-mdns fonts-dejavu-extra\n",
            "  fonts-ipafont-gothic fonts-ipafont-mincho fonts-wqy-microhei\n",
            "  fonts-wqy-zenhei fonts-indic\n",
            "The following NEW packages will be installed:\n",
            "  openjdk-8-jdk-headless openjdk-8-jre-headless\n",
            "0 upgraded, 2 newly installed, 0 to remove and 34 not upgraded.\n",
            "Need to get 36.5 MB of archives.\n",
            "After this operation, 143 MB of additional disk space will be used.\n",
            "Selecting previously unselected package openjdk-8-jre-headless:amd64.\n",
            "(Reading database ... 160690 files and directories currently installed.)\n",
            "Preparing to unpack .../openjdk-8-jre-headless_8u282-b08-0ubuntu1~18.04_amd64.deb ...\n",
            "Unpacking openjdk-8-jre-headless:amd64 (8u282-b08-0ubuntu1~18.04) ...\n",
            "Selecting previously unselected package openjdk-8-jdk-headless:amd64.\n",
            "Preparing to unpack .../openjdk-8-jdk-headless_8u282-b08-0ubuntu1~18.04_amd64.deb ...\n",
            "Unpacking openjdk-8-jdk-headless:amd64 (8u282-b08-0ubuntu1~18.04) ...\n",
            "Setting up openjdk-8-jre-headless:amd64 (8u282-b08-0ubuntu1~18.04) ...\n",
            "update-alternatives: using /usr/lib/jvm/java-8-openjdk-amd64/jre/bin/orbd to provide /usr/bin/orbd (orbd) in auto mode\n",
            "update-alternatives: using /usr/lib/jvm/java-8-openjdk-amd64/jre/bin/servertool to provide /usr/bin/servertool (servertool) in auto mode\n",
            "update-alternatives: using /usr/lib/jvm/java-8-openjdk-amd64/jre/bin/tnameserv to provide /usr/bin/tnameserv (tnameserv) in auto mode\n",
            "Setting up openjdk-8-jdk-headless:amd64 (8u282-b08-0ubuntu1~18.04) ...\n",
            "update-alternatives: using /usr/lib/jvm/java-8-openjdk-amd64/bin/idlj to provide /usr/bin/idlj (idlj) in auto mode\n",
            "update-alternatives: using /usr/lib/jvm/java-8-openjdk-amd64/bin/wsimport to provide /usr/bin/wsimport (wsimport) in auto mode\n",
            "update-alternatives: using /usr/lib/jvm/java-8-openjdk-amd64/bin/jsadebugd to provide /usr/bin/jsadebugd (jsadebugd) in auto mode\n",
            "update-alternatives: using /usr/lib/jvm/java-8-openjdk-amd64/bin/native2ascii to provide /usr/bin/native2ascii (native2ascii) in auto mode\n",
            "update-alternatives: using /usr/lib/jvm/java-8-openjdk-amd64/bin/javah to provide /usr/bin/javah (javah) in auto mode\n",
            "update-alternatives: using /usr/lib/jvm/java-8-openjdk-amd64/bin/hsdb to provide /usr/bin/hsdb (hsdb) in auto mode\n",
            "update-alternatives: using /usr/lib/jvm/java-8-openjdk-amd64/bin/clhsdb to provide /usr/bin/clhsdb (clhsdb) in auto mode\n",
            "update-alternatives: using /usr/lib/jvm/java-8-openjdk-amd64/bin/xjc to provide /usr/bin/xjc (xjc) in auto mode\n",
            "update-alternatives: using /usr/lib/jvm/java-8-openjdk-amd64/bin/schemagen to provide /usr/bin/schemagen (schemagen) in auto mode\n",
            "update-alternatives: using /usr/lib/jvm/java-8-openjdk-amd64/bin/extcheck to provide /usr/bin/extcheck (extcheck) in auto mode\n",
            "update-alternatives: using /usr/lib/jvm/java-8-openjdk-amd64/bin/jhat to provide /usr/bin/jhat (jhat) in auto mode\n",
            "update-alternatives: using /usr/lib/jvm/java-8-openjdk-amd64/bin/wsgen to provide /usr/bin/wsgen (wsgen) in auto mode\n",
            "time: 52 s (started: 2021-04-25 03:26:17 +00:00)\n"
          ],
          "name": "stdout"
        }
      ]
    },
    {
      "cell_type": "code",
      "metadata": {
        "id": "ppkG73kRsei0",
        "colab": {
          "base_uri": "https://localhost:8080/"
        },
        "outputId": "a8c0a651-4a9d-46e8-9b10-d155cd99bacf"
      },
      "source": [
        "# Import modules\n",
        "import numpy as np\n",
        "import pandas as pd\n",
        "import datetime\n",
        "import matplotlib.pyplot as plt\n",
        "from pathlib import Path\n",
        "%matplotlib inline\n",
        "\n",
        "import pyspark\n",
        "from pyspark.sql import *\n",
        "from pyspark.sql.types import *\n",
        "from pyspark.sql.functions import *\n",
        "from pyspark import SparkContext, SparkConf"
      ],
      "execution_count": null,
      "outputs": [
        {
          "output_type": "stream",
          "text": [
            "time: 101 ms (started: 2021-04-25 03:27:09 +00:00)\n"
          ],
          "name": "stdout"
        }
      ]
    },
    {
      "cell_type": "code",
      "metadata": {
        "colab": {
          "base_uri": "https://localhost:8080/"
        },
        "id": "pYm9-j_fflal",
        "outputId": "d96bc2ce-1f23-4243-eeaf-5c030c09cf85"
      },
      "source": [
        "import altair as alt\n",
        "alt.data_transformers.disable_max_rows()"
      ],
      "execution_count": null,
      "outputs": [
        {
          "output_type": "execute_result",
          "data": {
            "text/plain": [
              "DataTransformerRegistry.enable('default')"
            ]
          },
          "metadata": {
            "tags": []
          },
          "execution_count": 4
        },
        {
          "output_type": "stream",
          "text": [
            "time: 273 ms (started: 2021-04-25 03:27:10 +00:00)\n"
          ],
          "name": "stdout"
        }
      ]
    },
    {
      "cell_type": "code",
      "metadata": {
        "id": "1oe1ksN5skMG",
        "colab": {
          "base_uri": "https://localhost:8080/"
        },
        "outputId": "f1ad46aa-ed18-4ce6-f25a-c21008640eb3"
      },
      "source": [
        "# create the session\n",
        "conf = SparkConf().set(\"spark.ui.port\", \"4050\")\n",
        "\n",
        "# create the context\n",
        "sc = pyspark.SparkContext(conf=conf)\n",
        "spark = SparkSession.builder.getOrCreate()"
      ],
      "execution_count": null,
      "outputs": [
        {
          "output_type": "stream",
          "text": [
            "time: 4.73 s (started: 2021-04-25 03:27:10 +00:00)\n"
          ],
          "name": "stdout"
        }
      ]
    },
    {
      "cell_type": "code",
      "metadata": {
        "id": "zdPF-0xIrDm9",
        "colab": {
          "base_uri": "https://localhost:8080/"
        },
        "outputId": "c2e79621-6dab-4ce2-fea5-159dd691636f"
      },
      "source": [
        "#sc.stop()"
      ],
      "execution_count": null,
      "outputs": [
        {
          "output_type": "stream",
          "text": [
            "time: 1.5 ms (started: 2021-04-25 03:27:15 +00:00)\n"
          ],
          "name": "stdout"
        }
      ]
    },
    {
      "cell_type": "code",
      "metadata": {
        "colab": {
          "base_uri": "https://localhost:8080/"
        },
        "id": "WGXwI2d1szaO",
        "outputId": "d627604f-9572-4492-fd60-d16fc2bd91cf"
      },
      "source": [
        "# Mount drive with data\n",
        "from google.colab import drive\n",
        "drive.mount('/content/drive')"
      ],
      "execution_count": null,
      "outputs": [
        {
          "output_type": "stream",
          "text": [
            "Mounted at /content/drive\n",
            "time: 36.2 s (started: 2021-04-25 03:27:15 +00:00)\n"
          ],
          "name": "stdout"
        }
      ]
    },
    {
      "cell_type": "code",
      "metadata": {
        "id": "grN2uNcFvloa",
        "colab": {
          "base_uri": "https://localhost:8080/"
        },
        "outputId": "416baa01-5a9d-456d-a30d-d086bce5e5b5"
      },
      "source": [
        "# Set path to data folder\n",
        "path = Path('drive/MyDrive/big-data-project/data/clean-data')\n",
        "city = 'ch'"
      ],
      "execution_count": null,
      "outputs": [
        {
          "output_type": "stream",
          "text": [
            "time: 2.98 ms (started: 2021-04-25 03:27:51 +00:00)\n"
          ],
          "name": "stdout"
        }
      ]
    },
    {
      "cell_type": "code",
      "metadata": {
        "colab": {
          "base_uri": "https://localhost:8080/"
        },
        "id": "BvCrFmU2tGXY",
        "outputId": "bf052aaf-ad9d-4747-ad62-017d23e9e58c"
      },
      "source": [
        "# Read data into dataframe\n",
        "df_soc = spark.read.format('csv').option('header','true').option('quote',\"\\\"\").option('escape',\"\\\"\").load(str(path/city/'social/2020/*.csv'))\n",
        "df_soc.show()"
      ],
      "execution_count": null,
      "outputs": [
        {
          "output_type": "stream",
          "text": [
            "+---+------------+--------------------+--------------------+------------+---------------------------+--------------------------+------------------------------------------+----------------------------+----------------------+------------------------+--------------------+-------------------------------+-------------------------------+--------------------+-------------------------+--------------------------+----------------------+----------------------------+---------------------------+-----------------------------+\n",
            "|_c0|         cbg|    date_range_start|      date_range_end|device_count|distance_traveled_from_home|bucketed_distance_traveled|median_dwell_at_bucketed_distance_traveled|completely_home_device_count|median_home_dwell_time|bucketed_home_dwell_time|at_home_by_each_hour|part_time_work_behavior_devices|full_time_work_behavior_devices|    destination_cbgs|delivery_behavior_devices|median_non_home_dwell_time|candidate_device_count|bucketed_away_from_home_time|median_percentage_time_home|bucketed_percentage_time_home|\n",
            "+---+------------+--------------------+--------------------+------------+---------------------------+--------------------------+------------------------------------------+----------------------------+----------------------+------------------------+--------------------+-------------------------------+-------------------------------+--------------------+-------------------------+--------------------------+----------------------+----------------------------+---------------------------+-----------------------------+\n",
            "|  0|170312304002|2020-02-07T00:00:...|2020-02-08T00:00:...|          76|                       5066|      {\"16001-50000\":2,...|                      {\"16001-50000\":96...|                          22|                   786|    {\"721-1080\":17,\"3...|[54,56,57,49,55,5...|                              9|                              7|{\"170318382002\":1...|                        2|                        92|                   150|        {\"21-45\":5,\"481-5...|                         81|         {\"26-50\":7,\"51-75...|\n",
            "|  1|170313005002|2020-02-07T00:00:...|2020-02-08T00:00:...|          72|                       4043|      {\"16001-50000\":8,...|                      {\"16001-50000\":72...|                          27|                   686|    {\"721-1080\":16,\"3...|[45,47,46,50,47,4...|                             12|                              9|{\"170312924002\":1...|                        2|                       147|                   165|        {\"21-45\":3,\"481-5...|                         83|         {\"26-50\":4,\"51-75...|\n",
            "|  2|170314208001|2020-02-07T00:00:...|2020-02-08T00:00:...|         127|                       7799|      {\"16001-50000\":15...|                      {\"16001-50000\":75...|                          33|                   492|    {\"721-1080\":33,\"3...|[60,61,65,62,63,5...|                             11|                             15|{\"170314111002\":1...|                        3|                       142|                   333|        {\"21-45\":6,\"481-5...|                         64|         {\"26-50\":8,\"51-75...|\n",
            "|  3|170317608034|2020-02-07T00:00:...|2020-02-08T00:00:...|         114|                      10827|      {\"16001-50000\":15...|                      {\"16001-50000\":63...|                          37|                   445|    {\"721-1080\":16,\"3...|[50,50,54,55,52,5...|                             11|                             10|{\"171079531004\":1...|                        2|                        72|                   205|        {\"21-45\":4,\"481-5...|                         83|         {\"0-25\":26,\"76-10...|\n",
            "|  4|170318033003|2020-02-07T00:00:...|2020-02-08T00:00:...|          91|                       4207|      {\"16001-50000\":10...|                      {\"16001-50000\":75...|                          29|                   482|    {\"721-1080\":18,\"3...|[51,54,48,50,50,5...|                              8|                             13|{\"170318030171\":2...|                        1|                       136|                   171|        {\"21-45\":1,\"481-5...|                         75|         {\"0-25\":15,\"76-10...|\n",
            "|  5|170318146005|2020-02-07T00:00:...|2020-02-08T00:00:...|          51|                       2147|      {\"16001-50000\":2,...|                      {\"16001-50000\":11...|                          11|                   700|    {\"721-1080\":4,\"36...|[29,30,26,28,29,3...|                              1|                              4|{\"170310815003\":1...|                        1|                       102|                    89|        {\"21-45\":3,\"481-5...|                         78|         {\"26-50\":5,\"51-75...|\n",
            "|  6|170318182002|2020-02-07T00:00:...|2020-02-08T00:00:...|          51|                       9323|      {\"16001-50000\":4,...|                      {\"16001-50000\":12...|                          19|                   646|    {\"721-1080\":3,\"36...|[23,24,25,26,27,2...|                              3|                              1|{\"170438443013\":1...|                        1|                         5|                    87|        {\"481-540\":1,\"541...|                        100|         {\"0-25\":3,\"76-100...|\n",
            "|  7|170318240053|2020-02-07T00:00:...|2020-02-08T00:00:...|         123|                       7420|      {\"16001-50000\":32...|                      {\"16001-50000\":62...|                          21|                   703|    {\"721-1080\":35,\"3...|[85,85,84,85,86,8...|                             26|                             13|{\"171978801122\":1...|                        4|                       235|                   222|        {\"21-45\":7,\"481-5...|                         72|         {\"26-50\":15,\"51-7...|\n",
            "|  8|170318348001|2020-02-07T00:00:...|2020-02-08T00:00:...|          32|                       7063|      {\"16001-50000\":2,...|                      {\"16001-50000\":12...|                          12|                   382|    {\"721-1080\":3,\"36...|[15,15,14,14,14,1...|                              4|                              6|{\"170318382002\":2...|                        1|                       130|                    71|        {\"21-45\":1,\"481-5...|                         67|         {\"0-25\":13,\"76-10...|\n",
            "|  9|170438411042|2020-02-07T00:00:...|2020-02-08T00:00:...|          57|                       5586|      {\"16001-50000\":7,...|                      {\"16001-50000\":69...|                          14|                   659|    {\"721-1080\":10,\"3...|[26,29,31,28,29,2...|                              7|                              5|{\"180731011002\":1...|                        1|                        79|                   104|        {\"21-45\":2,\"481-5...|                         76|         {\"0-25\":14,\"76-10...|\n",
            "| 10|170438427041|2020-02-07T00:00:...|2020-02-08T00:00:...|          84|                       8582|      {\"16001-50000\":9,...|                      {\"16001-50000\":20...|                          23|                   672|    {\"721-1080\":18,\"3...|[49,53,54,55,54,5...|                             17|                              6|{\"170438413222\":1...|                        2|                        97|                   171|        {\"21-45\":4,\"481-5...|                         82|         {\"26-50\":7,\"51-75...|\n",
            "| 11|180890307002|2020-02-07T00:00:...|2020-02-08T00:00:...|          58|                       5723|      {\"16001-50000\":6,...|                      {\"16001-50000\":25...|                          17|                   450|    {\"721-1080\":11,\"3...|[21,25,25,29,26,2...|                              2|                              3|{\"180890402001\":1...|                        1|                        36|                   109|        {\"21-45\":10,\"481-...|                         88|         {\"0-25\":11,\"76-10...|\n",
            "| 12|170438445011|2020-02-07T00:00:...|2020-02-08T00:00:...|          48|                       2959|      {\"16001-50000\":6,...|                      {\"16001-50000\":80...|                          15|                   662|    {\"721-1080\":15,\"3...|[31,28,29,29,29,2...|                              9|                              9|{\"170318202013\":1...|                        1|                       295|                    98|        {\"481-540\":2,\"541...|                         64|         {\"26-50\":4,\"51-75...|\n",
            "| 13|171118712022|2020-02-07T00:00:...|2020-02-08T00:00:...|          86|                       3552|      {\"16001-50000\":9,...|                      {\"16001-50000\":15...|                          24|                   787|    {\"721-1080\":28,\"3...|[55,59,62,57,60,5...|                             12|                             12|{\"171118709031\":1...|                        6|                       104|                   173|        {\"21-45\":3,\"481-5...|                         73|         {\"26-50\":2,\"51-75...|\n",
            "| 14|180890408013|2020-02-07T00:00:...|2020-02-08T00:00:...|          72|                       7487|      {\"16001-50000\":12...|                      {\"16001-50000\":85...|                          18|                   505|    {\"721-1080\":19,\"3...|[33,37,35,35,37,3...|                              6|                              7|{\"181410112011\":1...|                        4|                       140|                   169|        {\"21-45\":2,\"481-5...|                         72|         {\"26-50\":4,\"51-75...|\n",
            "| 15|170312004021|2020-02-07T00:00:...|2020-02-08T00:00:...|          98|                       3123|      {\"16001-50000\":3,...|                      {\"16001-50000\":21...|                          26|                   734|    {\"721-1080\":28,\"3...|[61,66,65,65,63,6...|                             18|                             11|{\"170311906022\":1...|                        2|                       257|                   201|        {\"21-45\":6,\"481-5...|                         69|         {\"0-25\":14,\"76-10...|\n",
            "| 16|170312309002|2020-02-07T00:00:...|2020-02-08T00:00:...|          80|                       5832|      {\"16001-50000\":7,...|                      {\"16001-50000\":60...|                          21|                   656|    {\"721-1080\":19,\"3...|[45,49,48,45,46,4...|                              5|                              1|{\"170312307002\":2...|                        1|                        84|                   208|        {\"21-45\":3,\"481-5...|                         80|         {\"26-50\":1,\"51-75...|\n",
            "| 17|170312838002|2020-02-07T00:00:...|2020-02-08T00:00:...|         126|                       4159|      {\"16001-50000\":9,...|                      {\"16001-50000\":59...|                          38|                   581|    {\"721-1080\":24,\"3...|[67,69,68,70,66,7...|                             14|                             11|{\"170318066002\":1...|                        3|                        82|                   258|        {\"21-45\":4,\"481-5...|                         84|         {\"26-50\":7,\"51-75...|\n",
            "| 18|170318114023|2020-02-07T00:00:...|2020-02-08T00:00:...|          82|                       1917|      {\"16001-50000\":1,...|                      {\"16001-50000\":12...|                          31|                   559|    {\"721-1080\":11,\"3...|[41,44,44,44,43,4...|                             11|                              7|{\"170318114014\":2...|                        5|                        49|                   166|        {\"21-45\":4,\"481-5...|                         93|         {\"26-50\":1,\"51-75...|\n",
            "| 19|170318117021|2020-02-07T00:00:...|2020-02-08T00:00:...|          74|                       6079|      {\"16001-50000\":8,...|                      {\"16001-50000\":10...|                          16|                   335|    {\"721-1080\":16,\"3...|[34,34,36,38,37,3...|                             11|                             10|{\"551091208001\":1...|                        3|                       113|                   149|        {\"21-45\":5,\"481-5...|                         66|         {\"0-25\":20,\"76-10...|\n",
            "+---+------------+--------------------+--------------------+------------+---------------------------+--------------------------+------------------------------------------+----------------------------+----------------------+------------------------+--------------------+-------------------------------+-------------------------------+--------------------+-------------------------+--------------------------+----------------------+----------------------------+---------------------------+-----------------------------+\n",
            "only showing top 20 rows\n",
            "\n",
            "time: 27.5 s (started: 2021-04-25 03:27:51 +00:00)\n"
          ],
          "name": "stdout"
        }
      ]
    },
    {
      "cell_type": "code",
      "metadata": {
        "colab": {
          "base_uri": "https://localhost:8080/"
        },
        "id": "wh747sqcHi4-",
        "outputId": "0b8eb9ca-d010-479d-ddc7-05df58bdd785"
      },
      "source": [
        "df_soc.createOrReplaceTempView('clean_ch')\n",
        "df_soc = spark.sql('SELECT cbg, date_range_start as date, device_count, part_time_work_behavior_devices FROM clean_ch WHERE device_count > 5')\n",
        "df_soc.show()"
      ],
      "execution_count": null,
      "outputs": [
        {
          "output_type": "stream",
          "text": [
            "+------------+--------------------+------------+-------------------------------+\n",
            "|         cbg|                date|device_count|part_time_work_behavior_devices|\n",
            "+------------+--------------------+------------+-------------------------------+\n",
            "|170312304002|2020-02-07T00:00:...|          76|                              9|\n",
            "|170313005002|2020-02-07T00:00:...|          72|                             12|\n",
            "|170314208001|2020-02-07T00:00:...|         127|                             11|\n",
            "|170317608034|2020-02-07T00:00:...|         114|                             11|\n",
            "|170318033003|2020-02-07T00:00:...|          91|                              8|\n",
            "|170318146005|2020-02-07T00:00:...|          51|                              1|\n",
            "|170318182002|2020-02-07T00:00:...|          51|                              3|\n",
            "|170318240053|2020-02-07T00:00:...|         123|                             26|\n",
            "|170318348001|2020-02-07T00:00:...|          32|                              4|\n",
            "|170438411042|2020-02-07T00:00:...|          57|                              7|\n",
            "|170438427041|2020-02-07T00:00:...|          84|                             17|\n",
            "|180890307002|2020-02-07T00:00:...|          58|                              2|\n",
            "|170438445011|2020-02-07T00:00:...|          48|                              9|\n",
            "|171118712022|2020-02-07T00:00:...|          86|                             12|\n",
            "|180890408013|2020-02-07T00:00:...|          72|                              6|\n",
            "|170312004021|2020-02-07T00:00:...|          98|                             18|\n",
            "|170312309002|2020-02-07T00:00:...|          80|                              5|\n",
            "|170312838002|2020-02-07T00:00:...|         126|                             14|\n",
            "|170318114023|2020-02-07T00:00:...|          82|                             11|\n",
            "|170318117021|2020-02-07T00:00:...|          74|                             11|\n",
            "+------------+--------------------+------------+-------------------------------+\n",
            "only showing top 20 rows\n",
            "\n",
            "time: 1.01 s (started: 2021-04-25 03:28:18 +00:00)\n"
          ],
          "name": "stdout"
        }
      ]
    },
    {
      "cell_type": "code",
      "metadata": {
        "id": "nlVhrn2-Rp_O",
        "colab": {
          "base_uri": "https://localhost:8080/"
        },
        "outputId": "4caeb878-ba06-4a01-bd84-804eb0e0befa"
      },
      "source": [
        "df_soc = df_soc.withColumn(\"date\",\n",
        "    df_soc['date'].substr(0, 10))"
      ],
      "execution_count": null,
      "outputs": [
        {
          "output_type": "stream",
          "text": [
            "time: 45.9 ms (started: 2021-04-25 03:28:19 +00:00)\n"
          ],
          "name": "stdout"
        }
      ]
    },
    {
      "cell_type": "code",
      "metadata": {
        "colab": {
          "base_uri": "https://localhost:8080/"
        },
        "id": "2ryRoACoJMPZ",
        "outputId": "0557d79e-6e3c-4888-b1ec-61b0791cd27a"
      },
      "source": [
        "df_soc.show()"
      ],
      "execution_count": null,
      "outputs": [
        {
          "output_type": "stream",
          "text": [
            "+------------+----------+------------+-------------------------------+\n",
            "|         cbg|      date|device_count|part_time_work_behavior_devices|\n",
            "+------------+----------+------------+-------------------------------+\n",
            "|170312304002|2020-02-07|          76|                              9|\n",
            "|170313005002|2020-02-07|          72|                             12|\n",
            "|170314208001|2020-02-07|         127|                             11|\n",
            "|170317608034|2020-02-07|         114|                             11|\n",
            "|170318033003|2020-02-07|          91|                              8|\n",
            "|170318146005|2020-02-07|          51|                              1|\n",
            "|170318182002|2020-02-07|          51|                              3|\n",
            "|170318240053|2020-02-07|         123|                             26|\n",
            "|170318348001|2020-02-07|          32|                              4|\n",
            "|170438411042|2020-02-07|          57|                              7|\n",
            "|170438427041|2020-02-07|          84|                             17|\n",
            "|180890307002|2020-02-07|          58|                              2|\n",
            "|170438445011|2020-02-07|          48|                              9|\n",
            "|171118712022|2020-02-07|          86|                             12|\n",
            "|180890408013|2020-02-07|          72|                              6|\n",
            "|170312004021|2020-02-07|          98|                             18|\n",
            "|170312309002|2020-02-07|          80|                              5|\n",
            "|170312838002|2020-02-07|         126|                             14|\n",
            "|170318114023|2020-02-07|          82|                             11|\n",
            "|170318117021|2020-02-07|          74|                             11|\n",
            "+------------+----------+------------+-------------------------------+\n",
            "only showing top 20 rows\n",
            "\n",
            "time: 356 ms (started: 2021-04-25 03:28:19 +00:00)\n"
          ],
          "name": "stdout"
        }
      ]
    },
    {
      "cell_type": "code",
      "metadata": {
        "colab": {
          "base_uri": "https://localhost:8080/"
        },
        "id": "UL4qIhZu7JKC",
        "outputId": "a89d2381-da26-448c-83fc-2392b5bd1c26"
      },
      "source": [
        "# Add full time percentage column\n",
        "df_soc = df_soc.withColumn('part_time_work_percentage', (df_soc['part_time_work_behavior_devices']/df_soc['device_count']) * 100)\n",
        "\n",
        "#df_soc.show()"
      ],
      "execution_count": null,
      "outputs": [
        {
          "output_type": "stream",
          "text": [
            "time: 83.3 ms (started: 2021-04-25 03:28:20 +00:00)\n"
          ],
          "name": "stdout"
        }
      ]
    },
    {
      "cell_type": "code",
      "metadata": {
        "colab": {
          "base_uri": "https://localhost:8080/"
        },
        "id": "OAUIODseCoSg",
        "outputId": "abf02af7-1bc0-4f5c-a410-31c4a216f708"
      },
      "source": [
        "#Create temp view\n",
        "df_soc.createOrReplaceTempView('mobility')"
      ],
      "execution_count": null,
      "outputs": [
        {
          "output_type": "stream",
          "text": [
            "time: 49.6 ms (started: 2021-04-25 03:28:20 +00:00)\n"
          ],
          "name": "stdout"
        }
      ]
    },
    {
      "cell_type": "markdown",
      "metadata": {
        "id": "Sj4xc1gTpm2X"
      },
      "source": [
        "\n",
        "\n",
        "---\n",
        "\n",
        "\n",
        "**Demographic data**\n",
        "\n",
        "\n",
        "\n",
        "\n",
        "\n",
        "---\n",
        "\n"
      ]
    },
    {
      "cell_type": "code",
      "metadata": {
        "colab": {
          "base_uri": "https://localhost:8080/"
        },
        "id": "1SVVsXtuzqRf",
        "outputId": "a0bdbb56-4b6d-4b05-cb85-90bfcb83f7e8"
      },
      "source": [
        "# Read poverty data\n",
        "# Read data into RDD\n",
        "df_demographic = spark.read.format('csv').option('header','true').option('quote',\"\\\"\").option('escape',\"\\\"\").load(str(path/city/'ch.csv'))\n",
        "df_demographic.createOrReplaceTempView('demographic')\n",
        "df_demographic.show()"
      ],
      "execution_count": null,
      "outputs": [
        {
          "output_type": "stream",
          "text": [
            "+------------+---------+------------------+-------------------+\n",
            "|         cbg|pop_total|poverty_percentage|     perc_whiteonly|\n",
            "+------------+---------+------------------+-------------------+\n",
            "|170312909001|      935|  55.8288770053476|                0.0|\n",
            "|170312909002|     1129|45.261293179805136|                0.0|\n",
            "|170312909003|      765|  39.7078353253652|                0.0|\n",
            "|170312909004|     1075|30.325581395348838|                0.0|\n",
            "|170318387002|     1016|31.003937007874015| 13.484251968503939|\n",
            "|170313102001|      835|16.766467065868262|  78.20359281437126|\n",
            "|170313102002|      686| 16.61807580174927| 50.583090379008745|\n",
            "|170314005002|      807|40.644361833952914|                0.0|\n",
            "|170314804006|      710| 1.971830985915493|  1.267605633802817|\n",
            "|170314804007|      650|               0.0|                0.0|\n",
            "|170314805001|     1141|  9.55302366345311|  4.206836108676599|\n",
            "|170312608002|     1100| 55.45454545454545| 2.8181818181818183|\n",
            "|170312609001|      836| 44.85645933014354|  8.971291866028707|\n",
            "|170312609002|      614| 35.82342954159593| 0.9771986970684038|\n",
            "|170312610002|     1265| 35.08771929824561|0.31620553359683795|\n",
            "|171978805071|     6606| 9.564953766863727| 37.753557372085986|\n",
            "|171978803033|     1165|               0.0|  81.80257510729614|\n",
            "|170318036032|     1431|0.9084556254367574|              100.0|\n",
            "|170310814022|     1708| 8.021077283372366|  74.35597189695551|\n",
            "|170310609004|     3562| 7.130825379000562|   91.4093206064009|\n",
            "+------------+---------+------------------+-------------------+\n",
            "only showing top 20 rows\n",
            "\n",
            "time: 777 ms (started: 2021-04-25 03:28:20 +00:00)\n"
          ],
          "name": "stdout"
        }
      ]
    },
    {
      "cell_type": "code",
      "metadata": {
        "colab": {
          "base_uri": "https://localhost:8080/"
        },
        "id": "Ff9bk8_6qBQ2",
        "outputId": "242d014c-653a-45ae-da0d-8eea8a11ee0c"
      },
      "source": [
        "df_mob_demo = spark.sql('SELECT mobility.*, demographic.poverty_percentage from mobility INNER JOIN demographic ON mobility.cbg = demographic.cbg')\n",
        "df_mob_demo.createOrReplaceTempView('demographic_mobility')\n",
        "df_mob_demo.show()\n"
      ],
      "execution_count": null,
      "outputs": [
        {
          "output_type": "stream",
          "text": [
            "+------------+----------+------------+-------------------------------+-------------------------+------------------+\n",
            "|         cbg|      date|device_count|part_time_work_behavior_devices|part_time_work_percentage|poverty_percentage|\n",
            "+------------+----------+------------+-------------------------------+-------------------------+------------------+\n",
            "|170312304002|2020-02-07|          76|                              9|       11.842105263157894|19.847972972972975|\n",
            "|170313005002|2020-02-07|          72|                             12|       16.666666666666664|22.696011004126547|\n",
            "|170314208001|2020-02-07|         127|                             11|        8.661417322834646| 34.01677539608574|\n",
            "|170317608034|2020-02-07|         114|                             11|        9.649122807017543|13.651647612642906|\n",
            "|170318033003|2020-02-07|          91|                              8|        8.791208791208792| 4.035608308605341|\n",
            "|170318146005|2020-02-07|          51|                              1|       1.9607843137254901|17.548500881834215|\n",
            "|170318182002|2020-02-07|          51|                              3|         5.88235294117647| 9.483667017913593|\n",
            "|170318240053|2020-02-07|         123|                             26|       21.138211382113823| 6.836544437538844|\n",
            "|170318348001|2020-02-07|          32|                              4|                     12.5| 33.17307692307692|\n",
            "|170438411042|2020-02-07|          57|                              7|       12.280701754385964|               0.0|\n",
            "|170438427041|2020-02-07|          84|                             17|       20.238095238095237| 19.55128205128205|\n",
            "|180890307002|2020-02-07|          58|                              2|       3.4482758620689653| 8.002832861189802|\n",
            "|170438445011|2020-02-07|          48|                              9|                    18.75| 1.008249312557287|\n",
            "|171118712022|2020-02-07|          86|                             12|       13.953488372093023|11.479944674965422|\n",
            "|180890408013|2020-02-07|          72|                              6|        8.333333333333332|12.694877505567929|\n",
            "|170312004021|2020-02-07|          98|                             18|       18.367346938775512| 16.45185746777862|\n",
            "|170312309002|2020-02-07|          80|                              5|                     6.25| 50.25380710659898|\n",
            "|170312838002|2020-02-07|         126|                             14|        11.11111111111111|24.961383997528575|\n",
            "|170318114023|2020-02-07|          82|                             11|       13.414634146341465| 6.048387096774194|\n",
            "|170318117021|2020-02-07|          74|                             11|       14.864864864864865|26.733576642335766|\n",
            "+------------+----------+------------+-------------------------------+-------------------------+------------------+\n",
            "only showing top 20 rows\n",
            "\n",
            "time: 1.34 s (started: 2021-04-25 03:28:21 +00:00)\n"
          ],
          "name": "stdout"
        }
      ]
    },
    {
      "cell_type": "code",
      "metadata": {
        "id": "6vFzCEtNukZy",
        "colab": {
          "base_uri": "https://localhost:8080/"
        },
        "outputId": "9da81532-e15b-441b-efa4-2690337b3973"
      },
      "source": [
        "# DIVIDING THE PEOPLE TOP 20 PERCENT AND BOTTOM 20 PERCENT\n",
        "\n",
        "df_mob_demo_high_class =  spark.sql('SELECT * FROM demographic_mobility WHERE poverty_percentage < 20')\n",
        "grouped_df_mob_demo_high_class = df_mob_demo_high_class.groupBy(\"date\").mean(\"part_time_work_percentage\").withColumnRenamed('avg(part_time_work_percentage)','part_time_work_percentage')\n",
        "grouped_df_mob_demo_high_class.createOrReplaceTempView('mob_demo_high_class')\n",
        "\n",
        "\n",
        "df_mob_demo_low_class =  spark.sql('SELECT * FROM demographic_mobility WHERE poverty_percentage > 80')\n",
        "grouped_df_mob_demo_low_class = df_mob_demo_low_class.groupBy(\"date\").mean(\"part_time_work_percentage\").withColumnRenamed('avg(part_time_work_percentage)','part_time_work_percentage')\n",
        "grouped_df_mob_demo_low_class.createOrReplaceTempView('mob_demo_low_class')\n",
        "\n",
        "grouped_df_mob_demo_combined = spark.sql(\"\"\"\n",
        "\n",
        "SELECT h.date,h.part_time_work_percentage as top20_perc,\n",
        "l.part_time_work_percentage as bottom20_perc  \n",
        "FROM mob_demo_high_class h INNER JOIN mob_demo_low_class l ON h.date = l.date\n",
        "\n",
        "\"\"\")"
      ],
      "execution_count": null,
      "outputs": [
        {
          "output_type": "stream",
          "text": [
            "time: 314 ms (started: 2021-04-25 03:28:22 +00:00)\n"
          ],
          "name": "stdout"
        }
      ]
    },
    {
      "cell_type": "markdown",
      "metadata": {
        "id": "ow6mFwCFoc4r"
      },
      "source": [
        "**Load 2019 stats**"
      ]
    },
    {
      "cell_type": "code",
      "metadata": {
        "colab": {
          "base_uri": "https://localhost:8080/"
        },
        "id": "iBe00iTKobbO",
        "outputId": "173ebb11-19a0-4812-a91b-8fac64170370"
      },
      "source": [
        "filename = '{}_social_summary_2019.csv'.format(city)\n",
        "stat_2019 = spark.read.format('csv').option('header','true').option('quote',\"\\\"\").option('escape',\"\\\"\").load(str(path/city/filename))\n",
        "stat_2019.show()\n",
        "mean_2019 = stat_2019.collect()[1][6]\n"
      ],
      "execution_count": null,
      "outputs": [
        {
          "output_type": "stream",
          "text": [
            "+-----+------------------+------------------+------------------+-----------------+--------------------------+-------------------------+-------------------------+--------------------+--------------------+--------------------+\n",
            "|  _c0|             total|   completely_home|    part_time_work|   full_time_work|percentage_completely_home|percentage_part_time_work|percentage_full_time_work|norm_completely_home| norm_part_time_work| norm_full_time_work|\n",
            "+-----+------------------+------------------+------------------+-----------------+--------------------------+-------------------------+-------------------------+--------------------+--------------------+--------------------+\n",
            "|count|         2430227.0|         2430227.0|         2430227.0|        2430227.0|                 2430227.0|                2430227.0|                2430227.0|           2430227.0|           2430227.0|           2430227.0|\n",
            "| mean| 95.04381072220825|29.833984232748627|  8.54960421392734|5.511380212630343|        30.966265289442493|        8.979337405961639|        5.998589423116906|-3.66844051893425...|1.189521637447286...|-6.91747531652694...|\n",
            "|  std|111.97921542441331| 42.51986606975598|10.180834940819576|7.564772291957502|          9.89787776066493|        5.194712198874483|        4.761510062763089|  0.9999999999987093|  1.0000000000003801|    1.00000000000042|\n",
            "|  min|               5.0|               1.0|               1.0|              1.0|        0.6944444444444444|       0.1718213058419244|      0.06067961165048543| -3.0584153064913604| -1.6954772012255084| -1.2470644256122123|\n",
            "|  25%|              52.0|              15.0|               3.0|              1.0|        24.137931034482758|        4.918032786885246|       2.1505376344086025| -0.6898786204549988| -0.7818151350052345| -0.8081578612637208|\n",
            "|  50%|              72.0|              22.0|               6.0|              3.0|        30.434782608695656|        8.333333333333332|        4.597701149425287|-0.05369663008559247| -0.1243580102028123|-0.29421092368304014|\n",
            "|  75%|             103.0|              33.0|              11.0|              7.0|        37.234042553191486|        12.23404255319149|        8.661417322834646|  0.6332445616430739|  0.6265419570183377|  0.5592402125834235|\n",
            "|  max|            9089.0|            3637.0|             504.0|            244.0|         94.87179487179486|        66.66666666666666|        57.14285714285714|   6.456488060129292|  11.105009681422562|  10.741186523936774|\n",
            "+-----+------------------+------------------+------------------+-----------------+--------------------------+-------------------------+-------------------------+--------------------+--------------------+--------------------+\n",
            "\n",
            "time: 923 ms (started: 2021-04-25 03:28:22 +00:00)\n"
          ],
          "name": "stdout"
        }
      ]
    },
    {
      "cell_type": "code",
      "metadata": {
        "colab": {
          "base_uri": "https://localhost:8080/"
        },
        "id": "jbZKBBrlsymR",
        "outputId": "ad074692-88c0-4b6b-9660-864b9c873177"
      },
      "source": [
        "# calculate deviation form mean\n",
        "grouped_df_mob_demo_combined= grouped_df_mob_demo_combined.withColumn(\"top20_deviation\",\n",
        "    grouped_df_mob_demo_combined['top20_perc'] - mean_2019)\n"
      ],
      "execution_count": null,
      "outputs": [
        {
          "output_type": "stream",
          "text": [
            "time: 44.2 ms (started: 2021-04-25 03:28:23 +00:00)\n"
          ],
          "name": "stdout"
        }
      ]
    },
    {
      "cell_type": "code",
      "metadata": {
        "colab": {
          "base_uri": "https://localhost:8080/"
        },
        "id": "m1v1M4wSwmbV",
        "outputId": "b873966b-68c3-4bc9-e5a8-ff99f34338e7"
      },
      "source": [
        "grouped_df_mob_demo_combined = grouped_df_mob_demo_combined.withColumn(\"bottom20_deviation\",\n",
        "    grouped_df_mob_demo_combined['bottom20_perc'] - mean_2019)"
      ],
      "execution_count": null,
      "outputs": [
        {
          "output_type": "stream",
          "text": [
            "time: 55.5 ms (started: 2021-04-25 03:28:23 +00:00)\n"
          ],
          "name": "stdout"
        }
      ]
    },
    {
      "cell_type": "markdown",
      "metadata": {
        "id": "JxSLoJSmYuj8"
      },
      "source": [
        "\n",
        "**Visualizations** \n",
        "\n"
      ]
    },
    {
      "cell_type": "code",
      "metadata": {
        "colab": {
          "base_uri": "https://localhost:8080/"
        },
        "id": "S4CaYZVO43kY",
        "outputId": "61098134-9f6a-45a2-8fdf-2af5f68afa32"
      },
      "source": [
        "# create altair library theme \n",
        "\n",
        "def my_theme():\n",
        "  return {\n",
        "    'config': {\n",
        "      'view': {'continuousHeight': 300, 'continuousWidth': 400},  # from the default theme\n",
        "      'range': {'category': {'scheme': 'redblue'}}\n",
        "    }\n",
        "  }\n",
        "alt.themes.register('my_theme', my_theme)\n",
        "alt.themes.enable('my_theme')\n",
        "# "
      ],
      "execution_count": null,
      "outputs": [
        {
          "output_type": "execute_result",
          "data": {
            "text/plain": [
              "ThemeRegistry.enable('my_theme')"
            ]
          },
          "metadata": {
            "tags": []
          },
          "execution_count": 21
        },
        {
          "output_type": "stream",
          "text": [
            "time: 12.6 ms (started: 2021-04-25 03:28:24 +00:00)\n"
          ],
          "name": "stdout"
        }
      ]
    },
    {
      "cell_type": "code",
      "metadata": {
        "colab": {
          "base_uri": "https://localhost:8080/"
        },
        "id": "0KpTm73-BpiA",
        "outputId": "00c627dd-ecb6-42bf-9a2f-2be969028660"
      },
      "source": [
        "def create_chart(df) :\n",
        "  chart = alt.Chart(df).transform_fold(\n",
        "    fold=['Bottom 20 % Deviation', 'Top 20 % Deviation'],\n",
        "    as_ = ['Poverty %','part_time_work']\n",
        "    \n",
        "    ).mark_line().encode(\n",
        "      x= alt.X('date:T', title = 'Date'),\n",
        "      y= alt.Y('part_time_work:Q', title = 'Part Time %'),\n",
        "      color='Poverty %:N'\n",
        "    ).properties(width = 1000).interactive()\n",
        "\n",
        "  rule = alt.Chart(pd.DataFrame({'Mean 2019':[0]})).mark_rule(color='#757575',strokeDash=[5,3], size=2).encode(\n",
        "    y='Mean 2019',\n",
        "    size=alt.value(2),\n",
        "    )\n",
        "  \n",
        "  text = alt.Chart({'values':[{ 'y': 1}]}).mark_text(\n",
        "    text='Mean 2019', angle=0\n",
        "    ).encode(\n",
        "      y=alt.Y('y:Q'),opacity=alt.value(0.4)\n",
        "    )\n",
        "\n",
        "  return  chart + rule + text\n"
      ],
      "execution_count": null,
      "outputs": [
        {
          "output_type": "stream",
          "text": [
            "time: 15.5 ms (started: 2021-04-25 03:28:24 +00:00)\n"
          ],
          "name": "stdout"
        }
      ]
    },
    {
      "cell_type": "code",
      "metadata": {
        "colab": {
          "base_uri": "https://localhost:8080/"
        },
        "id": "P9AleyUlCeuI",
        "outputId": "769fe419-6f41-4066-e85a-7f16f51fb784"
      },
      "source": [
        "def apply_date_filter(df,start_date,end_date) :\n",
        "  mask = (df['date'] > start_date) & (df['date'] <= end_date)\n",
        "  dfX = df.loc[mask]\n",
        "  return dfX"
      ],
      "execution_count": null,
      "outputs": [
        {
          "output_type": "stream",
          "text": [
            "time: 3.48 ms (started: 2021-04-25 03:28:24 +00:00)\n"
          ],
          "name": "stdout"
        }
      ]
    },
    {
      "cell_type": "code",
      "metadata": {
        "colab": {
          "base_uri": "https://localhost:8080/",
          "height": 442
        },
        "id": "V4EHlNdfSVal",
        "outputId": "6a5f7149-1e78-46df-cc24-dca7d21e68a9"
      },
      "source": [
        "# create pandas dataframe for visualizations\n",
        "df = grouped_df_mob_demo_combined.toPandas()\n",
        "df"
      ],
      "execution_count": null,
      "outputs": [
        {
          "output_type": "execute_result",
          "data": {
            "text/html": [
              "<div>\n",
              "<style scoped>\n",
              "    .dataframe tbody tr th:only-of-type {\n",
              "        vertical-align: middle;\n",
              "    }\n",
              "\n",
              "    .dataframe tbody tr th {\n",
              "        vertical-align: top;\n",
              "    }\n",
              "\n",
              "    .dataframe thead th {\n",
              "        text-align: right;\n",
              "    }\n",
              "</style>\n",
              "<table border=\"1\" class=\"dataframe\">\n",
              "  <thead>\n",
              "    <tr style=\"text-align: right;\">\n",
              "      <th></th>\n",
              "      <th>date</th>\n",
              "      <th>top20_perc</th>\n",
              "      <th>bottom20_perc</th>\n",
              "      <th>top20_deviation</th>\n",
              "      <th>bottom20_deviation</th>\n",
              "    </tr>\n",
              "  </thead>\n",
              "  <tbody>\n",
              "    <tr>\n",
              "      <th>0</th>\n",
              "      <td>2020-02-26</td>\n",
              "      <td>14.838739</td>\n",
              "      <td>8.705504</td>\n",
              "      <td>8.840150</td>\n",
              "      <td>2.706914</td>\n",
              "    </tr>\n",
              "    <tr>\n",
              "      <th>1</th>\n",
              "      <td>2020-04-13</td>\n",
              "      <td>4.162511</td>\n",
              "      <td>5.697567</td>\n",
              "      <td>-1.836078</td>\n",
              "      <td>-0.301022</td>\n",
              "    </tr>\n",
              "    <tr>\n",
              "      <th>2</th>\n",
              "      <td>2020-06-24</td>\n",
              "      <td>6.133126</td>\n",
              "      <td>5.802382</td>\n",
              "      <td>0.134537</td>\n",
              "      <td>-0.196208</td>\n",
              "    </tr>\n",
              "    <tr>\n",
              "      <th>3</th>\n",
              "      <td>2020-06-08</td>\n",
              "      <td>6.171660</td>\n",
              "      <td>6.228398</td>\n",
              "      <td>0.173071</td>\n",
              "      <td>0.229809</td>\n",
              "    </tr>\n",
              "    <tr>\n",
              "      <th>4</th>\n",
              "      <td>2020-09-12</td>\n",
              "      <td>4.650525</td>\n",
              "      <td>3.925098</td>\n",
              "      <td>-1.348064</td>\n",
              "      <td>-2.073492</td>\n",
              "    </tr>\n",
              "    <tr>\n",
              "      <th>...</th>\n",
              "      <td>...</td>\n",
              "      <td>...</td>\n",
              "      <td>...</td>\n",
              "      <td>...</td>\n",
              "      <td>...</td>\n",
              "    </tr>\n",
              "    <tr>\n",
              "      <th>361</th>\n",
              "      <td>2020-04-05</td>\n",
              "      <td>2.795588</td>\n",
              "      <td>3.023700</td>\n",
              "      <td>-3.203002</td>\n",
              "      <td>-2.974889</td>\n",
              "    </tr>\n",
              "    <tr>\n",
              "      <th>362</th>\n",
              "      <td>2020-05-01</td>\n",
              "      <td>5.769365</td>\n",
              "      <td>6.391830</td>\n",
              "      <td>-0.229225</td>\n",
              "      <td>0.393240</td>\n",
              "    </tr>\n",
              "    <tr>\n",
              "      <th>363</th>\n",
              "      <td>2020-10-25</td>\n",
              "      <td>4.333854</td>\n",
              "      <td>6.272525</td>\n",
              "      <td>-1.664736</td>\n",
              "      <td>0.273936</td>\n",
              "    </tr>\n",
              "    <tr>\n",
              "      <th>364</th>\n",
              "      <td>2020-12-28</td>\n",
              "      <td>7.782939</td>\n",
              "      <td>4.636885</td>\n",
              "      <td>1.784349</td>\n",
              "      <td>-1.361704</td>\n",
              "    </tr>\n",
              "    <tr>\n",
              "      <th>365</th>\n",
              "      <td>2020-12-19</td>\n",
              "      <td>6.806241</td>\n",
              "      <td>6.097514</td>\n",
              "      <td>0.807651</td>\n",
              "      <td>0.098925</td>\n",
              "    </tr>\n",
              "  </tbody>\n",
              "</table>\n",
              "<p>366 rows × 5 columns</p>\n",
              "</div>"
            ],
            "text/plain": [
              "           date  top20_perc  bottom20_perc  top20_deviation  bottom20_deviation\n",
              "0    2020-02-26   14.838739       8.705504         8.840150            2.706914\n",
              "1    2020-04-13    4.162511       5.697567        -1.836078           -0.301022\n",
              "2    2020-06-24    6.133126       5.802382         0.134537           -0.196208\n",
              "3    2020-06-08    6.171660       6.228398         0.173071            0.229809\n",
              "4    2020-09-12    4.650525       3.925098        -1.348064           -2.073492\n",
              "..          ...         ...            ...              ...                 ...\n",
              "361  2020-04-05    2.795588       3.023700        -3.203002           -2.974889\n",
              "362  2020-05-01    5.769365       6.391830        -0.229225            0.393240\n",
              "363  2020-10-25    4.333854       6.272525        -1.664736            0.273936\n",
              "364  2020-12-28    7.782939       4.636885         1.784349           -1.361704\n",
              "365  2020-12-19    6.806241       6.097514         0.807651            0.098925\n",
              "\n",
              "[366 rows x 5 columns]"
            ]
          },
          "metadata": {
            "tags": []
          },
          "execution_count": 24
        },
        {
          "output_type": "stream",
          "text": [
            "time: 4min 14s (started: 2021-04-25 03:28:24 +00:00)\n"
          ],
          "name": "stdout"
        }
      ]
    },
    {
      "cell_type": "code",
      "metadata": {
        "colab": {
          "base_uri": "https://localhost:8080/"
        },
        "id": "MtFPRkkEZtzL",
        "outputId": "e57205a8-6def-4c14-9d01-b91afdd4c040"
      },
      "source": [
        "df = df.rename(columns={'top20_perc': 'Top 20 %', 'bottom20_perc': 'Bottom 20 %','top20_deviation': 'Top 20 % Deviation', 'bottom20_deviation': 'Bottom 20 % Deviation'})"
      ],
      "execution_count": null,
      "outputs": [
        {
          "output_type": "stream",
          "text": [
            "time: 5.92 ms (started: 2021-04-25 03:32:38 +00:00)\n"
          ],
          "name": "stdout"
        }
      ]
    },
    {
      "cell_type": "code",
      "metadata": {
        "colab": {
          "base_uri": "https://localhost:8080/",
          "height": 387
        },
        "id": "pTTAkF1Iwesw",
        "outputId": "e9ccc13b-e61d-4095-e178-ecca4cd11466"
      },
      "source": [
        "# analysis for the entire year on monthly basis\n",
        "df_str = df.copy(deep=True) #make a deep copy\n",
        "\n",
        "df_str['date'] = pd.to_datetime(df_str['date'],utc= True) # extract the months\n",
        "\n",
        "df_str = df_str.groupby([df_str['date']]).mean().rolling(10).mean()[0:] #find the mean for the days and roll up for every 10 days\n",
        "\n",
        "chart = alt.Chart(df_str.reset_index()).transform_fold(\n",
        "    fold=['Bottom 20 %', 'Top 20 %'],\n",
        "    as_ = ['Poverty %','part_time_percentage']\n",
        "    \n",
        "    ).mark_line().encode(\n",
        "      x='date:T',\n",
        "      y= alt.Y('part_time_percentage:Q', title = 'Part Time %'), color='Poverty %:N'\n",
        "    ).properties(width = 1000)\n",
        "chart"
      ],
      "execution_count": null,
      "outputs": [
        {
          "output_type": "execute_result",
          "data": {
            "text/plain": [
              "alt.Chart(...)"
            ],
            "text/html": [
              "\n",
              "<div id=\"altair-viz-758cae4ddd3a4c90aa023c7771460df3\"></div>\n",
              "<script type=\"text/javascript\">\n",
              "  (function(spec, embedOpt){\n",
              "    let outputDiv = document.currentScript.previousElementSibling;\n",
              "    if (outputDiv.id !== \"altair-viz-758cae4ddd3a4c90aa023c7771460df3\") {\n",
              "      outputDiv = document.getElementById(\"altair-viz-758cae4ddd3a4c90aa023c7771460df3\");\n",
              "    }\n",
              "    const paths = {\n",
              "      \"vega\": \"https://cdn.jsdelivr.net/npm//vega@5?noext\",\n",
              "      \"vega-lib\": \"https://cdn.jsdelivr.net/npm//vega-lib?noext\",\n",
              "      \"vega-lite\": \"https://cdn.jsdelivr.net/npm//vega-lite@4.8.1?noext\",\n",
              "      \"vega-embed\": \"https://cdn.jsdelivr.net/npm//vega-embed@6?noext\",\n",
              "    };\n",
              "\n",
              "    function loadScript(lib) {\n",
              "      return new Promise(function(resolve, reject) {\n",
              "        var s = document.createElement('script');\n",
              "        s.src = paths[lib];\n",
              "        s.async = true;\n",
              "        s.onload = () => resolve(paths[lib]);\n",
              "        s.onerror = () => reject(`Error loading script: ${paths[lib]}`);\n",
              "        document.getElementsByTagName(\"head\")[0].appendChild(s);\n",
              "      });\n",
              "    }\n",
              "\n",
              "    function showError(err) {\n",
              "      outputDiv.innerHTML = `<div class=\"error\" style=\"color:red;\">${err}</div>`;\n",
              "      throw err;\n",
              "    }\n",
              "\n",
              "    function displayChart(vegaEmbed) {\n",
              "      vegaEmbed(outputDiv, spec, embedOpt)\n",
              "        .catch(err => showError(`Javascript Error: ${err.message}<br>This usually means there's a typo in your chart specification. See the javascript console for the full traceback.`));\n",
              "    }\n",
              "\n",
              "    if(typeof define === \"function\" && define.amd) {\n",
              "      requirejs.config({paths});\n",
              "      require([\"vega-embed\"], displayChart, err => showError(`Error loading script: ${err.message}`));\n",
              "    } else if (typeof vegaEmbed === \"function\") {\n",
              "      displayChart(vegaEmbed);\n",
              "    } else {\n",
              "      loadScript(\"vega\")\n",
              "        .then(() => loadScript(\"vega-lite\"))\n",
              "        .then(() => loadScript(\"vega-embed\"))\n",
              "        .catch(showError)\n",
              "        .then(() => displayChart(vegaEmbed));\n",
              "    }\n",
              "  })({\"config\": {\"view\": {\"continuousHeight\": 300, \"continuousWidth\": 400}, \"range\": {\"category\": {\"scheme\": \"redblue\"}}}, \"data\": {\"name\": \"data-29b96df503377180a07c7927fada482a\"}, \"mark\": \"line\", \"encoding\": {\"color\": {\"type\": \"nominal\", \"field\": \"Poverty %\"}, \"x\": {\"type\": \"temporal\", \"field\": \"date\"}, \"y\": {\"type\": \"quantitative\", \"field\": \"part_time_percentage\", \"title\": \"Part Time %\"}}, \"transform\": [{\"fold\": [\"Bottom 20 %\", \"Top 20 %\"], \"as\": [\"Poverty %\", \"part_time_percentage\"]}], \"width\": 1000, \"$schema\": \"https://vega.github.io/schema/vega-lite/v4.8.1.json\", \"datasets\": {\"data-29b96df503377180a07c7927fada482a\": [{\"date\": \"2020-01-01T00:00:00+00:00\", \"Top 20 %\": null, \"Bottom 20 %\": null, \"Top 20 % Deviation\": null, \"Bottom 20 % Deviation\": null}, {\"date\": \"2020-01-02T00:00:00+00:00\", \"Top 20 %\": null, \"Bottom 20 %\": null, \"Top 20 % Deviation\": null, \"Bottom 20 % Deviation\": null}, {\"date\": \"2020-01-03T00:00:00+00:00\", \"Top 20 %\": null, \"Bottom 20 %\": null, \"Top 20 % Deviation\": null, \"Bottom 20 % Deviation\": null}, {\"date\": \"2020-01-04T00:00:00+00:00\", \"Top 20 %\": null, \"Bottom 20 %\": null, \"Top 20 % Deviation\": null, \"Bottom 20 % Deviation\": null}, {\"date\": \"2020-01-05T00:00:00+00:00\", \"Top 20 %\": null, \"Bottom 20 %\": null, \"Top 20 % Deviation\": null, \"Bottom 20 % Deviation\": null}, {\"date\": \"2020-01-06T00:00:00+00:00\", \"Top 20 %\": null, \"Bottom 20 %\": null, \"Top 20 % Deviation\": null, \"Bottom 20 % Deviation\": null}, {\"date\": \"2020-01-07T00:00:00+00:00\", \"Top 20 %\": null, \"Bottom 20 %\": null, \"Top 20 % Deviation\": null, \"Bottom 20 % Deviation\": null}, {\"date\": \"2020-01-08T00:00:00+00:00\", \"Top 20 %\": null, \"Bottom 20 %\": null, \"Top 20 % Deviation\": null, \"Bottom 20 % Deviation\": null}, {\"date\": \"2020-01-09T00:00:00+00:00\", \"Top 20 %\": null, \"Bottom 20 %\": null, \"Top 20 % Deviation\": null, \"Bottom 20 % Deviation\": null}, {\"date\": \"2020-01-10T00:00:00+00:00\", \"Top 20 %\": 10.788893742001369, \"Bottom 20 %\": 8.226868925562846, \"Top 20 % Deviation\": 4.790304318884463, \"Bottom 20 % Deviation\": 2.228279502445941}, {\"date\": \"2020-01-11T00:00:00+00:00\", \"Top 20 %\": 11.082219592076626, \"Bottom 20 %\": 8.664202758943517, \"Top 20 % Deviation\": 5.083630168959719, \"Bottom 20 % Deviation\": 2.6656133358266128}, {\"date\": \"2020-01-12T00:00:00+00:00\", \"Top 20 %\": 10.842741091762012, \"Bottom 20 %\": 8.71307171591468, \"Top 20 % Deviation\": 4.844151668645106, \"Bottom 20 % Deviation\": 2.714482292797775}, {\"date\": \"2020-01-13T00:00:00+00:00\", \"Top 20 %\": 11.198690098309852, \"Bottom 20 %\": 8.993484289925224, \"Top 20 % Deviation\": 5.200100675192947, \"Bottom 20 % Deviation\": 2.994894866808319}, {\"date\": \"2020-01-14T00:00:00+00:00\", \"Top 20 %\": 11.899236608057992, \"Bottom 20 %\": 9.510542072743627, \"Top 20 % Deviation\": 5.900647184941087, \"Bottom 20 % Deviation\": 3.511952649626722}, {\"date\": \"2020-01-15T00:00:00+00:00\", \"Top 20 %\": 12.596028388824369, \"Bottom 20 %\": 9.922350872212473, \"Top 20 % Deviation\": 6.5974389657074655, \"Bottom 20 % Deviation\": 3.9237614490955663}, {\"date\": \"2020-01-16T00:00:00+00:00\", \"Top 20 %\": 12.86800213099929, \"Bottom 20 %\": 9.77839672675089, \"Top 20 % Deviation\": 6.869412707882384, \"Bottom 20 % Deviation\": 3.7798073036339837}, {\"date\": \"2020-01-17T00:00:00+00:00\", \"Top 20 %\": 12.96615044599351, \"Bottom 20 %\": 9.681522352424924, \"Top 20 % Deviation\": 6.9675610228766, \"Bottom 20 % Deviation\": 3.682932929308019}, {\"date\": \"2020-01-18T00:00:00+00:00\", \"Top 20 %\": 12.421217726492026, \"Bottom 20 %\": 9.161308510086904, \"Top 20 % Deviation\": 6.422628303375116, \"Bottom 20 % Deviation\": 3.162719086969999}, {\"date\": \"2020-01-19T00:00:00+00:00\", \"Top 20 %\": 11.916702967061406, \"Bottom 20 %\": 9.226031683449786, \"Top 20 % Deviation\": 5.9181135439444965, \"Bottom 20 % Deviation\": 3.2274422603328823}, {\"date\": \"2020-01-20T00:00:00+00:00\", \"Top 20 %\": 11.452724409964421, \"Bottom 20 %\": 8.748181586691604, \"Top 20 % Deviation\": 5.454134986847509, \"Bottom 20 % Deviation\": 2.7495921635747003}, {\"date\": \"2020-01-21T00:00:00+00:00\", \"Top 20 %\": 12.092369338157173, \"Bottom 20 %\": 8.767120801883049, \"Top 20 % Deviation\": 6.093779915040261, \"Bottom 20 % Deviation\": 2.768531378766144}, {\"date\": \"2020-01-22T00:00:00+00:00\", \"Top 20 %\": 12.787120218833119, \"Bottom 20 %\": 9.373766423649233, \"Top 20 % Deviation\": 6.788530795716207, \"Bottom 20 % Deviation\": 3.375177000532328}, {\"date\": \"2020-01-23T00:00:00+00:00\", \"Top 20 %\": 12.893638979673895, \"Bottom 20 %\": 10.011081664632929, \"Top 20 % Deviation\": 6.895049556556982, \"Bottom 20 % Deviation\": 4.012492241516024}, {\"date\": \"2020-01-24T00:00:00+00:00\", \"Top 20 %\": 12.807631306631553, \"Bottom 20 %\": 10.111350298078056, \"Top 20 % Deviation\": 6.80904188351464, \"Bottom 20 % Deviation\": 4.112760874961152}, {\"date\": \"2020-01-25T00:00:00+00:00\", \"Top 20 %\": 12.192663134913577, \"Bottom 20 %\": 9.354823322620149, \"Top 20 % Deviation\": 6.1940737117966655, \"Bottom 20 % Deviation\": 3.356233899503245}, {\"date\": \"2020-01-26T00:00:00+00:00\", \"Top 20 %\": 11.41508526932822, \"Bottom 20 %\": 9.378081483676059, \"Top 20 % Deviation\": 5.416495846211307, \"Bottom 20 % Deviation\": 3.3794920605591536}, {\"date\": \"2020-01-27T00:00:00+00:00\", \"Top 20 %\": 11.380191328672284, \"Bottom 20 %\": 9.299908723103437, \"Top 20 % Deviation\": 5.381601905555369, \"Bottom 20 % Deviation\": 3.301319299986531}, {\"date\": \"2020-01-28T00:00:00+00:00\", \"Top 20 %\": 12.009390279704373, \"Bottom 20 %\": 10.327164720622449, \"Top 20 % Deviation\": 6.010800856587459, \"Bottom 20 % Deviation\": 4.328575297505544}, {\"date\": \"2020-01-29T00:00:00+00:00\", \"Top 20 %\": 12.629497098839806, \"Bottom 20 %\": 10.437861925085295, \"Top 20 % Deviation\": 6.630907675722892, \"Bottom 20 % Deviation\": 4.439272501968389}, {\"date\": \"2020-01-30T00:00:00+00:00\", \"Top 20 %\": 13.172650989477196, \"Bottom 20 %\": 10.705736808405442, \"Top 20 % Deviation\": 7.174061566360282, \"Bottom 20 % Deviation\": 4.707147385288536}, {\"date\": \"2020-01-31T00:00:00+00:00\", \"Top 20 %\": 13.187759944605181, \"Bottom 20 %\": 10.7069446153831, \"Top 20 % Deviation\": 7.189170521488269, \"Bottom 20 % Deviation\": 4.708355192266194}, {\"date\": \"2020-02-01T00:00:00+00:00\", \"Top 20 %\": 12.580692938387177, \"Bottom 20 %\": 10.25411998956168, \"Top 20 % Deviation\": 6.582103515270264, \"Bottom 20 % Deviation\": 4.255530566444774}, {\"date\": \"2020-02-02T00:00:00+00:00\", \"Top 20 %\": 11.830500310051155, \"Bottom 20 %\": 9.278656947035259, \"Top 20 % Deviation\": 5.831910886934244, \"Bottom 20 % Deviation\": 3.2800675239183534}, {\"date\": \"2020-02-03T00:00:00+00:00\", \"Top 20 %\": 11.700435226249857, \"Bottom 20 %\": 8.914357167861349, \"Top 20 % Deviation\": 5.7018458031329455, \"Bottom 20 % Deviation\": 2.915767744744442}, {\"date\": \"2020-02-04T00:00:00+00:00\", \"Top 20 %\": 12.29350570264838, \"Bottom 20 %\": 9.289069310838874, \"Top 20 % Deviation\": 6.29491627953147, \"Bottom 20 % Deviation\": 3.2904798877219696}, {\"date\": \"2020-02-05T00:00:00+00:00\", \"Top 20 %\": 12.895779451185618, \"Bottom 20 %\": 9.282727517733392, \"Top 20 % Deviation\": 6.897190028068708, \"Bottom 20 % Deviation\": 3.2841380946164884}, {\"date\": \"2020-02-06T00:00:00+00:00\", \"Top 20 %\": 12.884796885476344, \"Bottom 20 %\": 9.179894494475173, \"Top 20 % Deviation\": 6.886207462359437, \"Bottom 20 % Deviation\": 3.1813050713582696}, {\"date\": \"2020-02-07T00:00:00+00:00\", \"Top 20 %\": 12.63706831861604, \"Bottom 20 %\": 8.450237551444493, \"Top 20 % Deviation\": 6.638478895499132, \"Bottom 20 % Deviation\": 2.4516481283275895}, {\"date\": \"2020-02-08T00:00:00+00:00\", \"Top 20 %\": 12.014075658414157, \"Bottom 20 %\": 8.092561308396068, \"Top 20 % Deviation\": 6.01548623529725, \"Bottom 20 % Deviation\": 2.0939718852791644}, {\"date\": \"2020-02-09T00:00:00+00:00\", \"Top 20 %\": 11.177345634181517, \"Bottom 20 %\": 7.674731204390795, \"Top 20 % Deviation\": 5.17875621106461, \"Bottom 20 % Deviation\": 1.6761417812738912}, {\"date\": \"2020-02-10T00:00:00+00:00\", \"Top 20 %\": 11.006587957579203, \"Bottom 20 %\": 7.815490227290049, \"Top 20 % Deviation\": 5.007998534462294, \"Bottom 20 % Deviation\": 1.8169008041731434}, {\"date\": \"2020-02-11T00:00:00+00:00\", \"Top 20 %\": 11.55336285346927, \"Bottom 20 %\": 8.341429584496318, \"Top 20 % Deviation\": 5.554773430352363, \"Bottom 20 % Deviation\": 2.3428401613794114}, {\"date\": \"2020-02-12T00:00:00+00:00\", \"Top 20 %\": 12.226814401366363, \"Bottom 20 %\": 8.518271599278922, \"Top 20 % Deviation\": 6.228224978249455, \"Bottom 20 % Deviation\": 2.5196821761620156}, {\"date\": \"2020-02-13T00:00:00+00:00\", \"Top 20 %\": 12.2304667877527, \"Bottom 20 %\": 8.578051951801006, \"Top 20 % Deviation\": 6.231877364635793, \"Bottom 20 % Deviation\": 2.5794625286841018}, {\"date\": \"2020-02-14T00:00:00+00:00\", \"Top 20 %\": 12.072964097681878, \"Bottom 20 %\": 8.578335689622088, \"Top 20 % Deviation\": 6.074374674564969, \"Bottom 20 % Deviation\": 2.5797462665051847}, {\"date\": \"2020-02-15T00:00:00+00:00\", \"Top 20 %\": 11.527349813507179, \"Bottom 20 %\": 8.304746032270078, \"Top 20 % Deviation\": 5.528760390390271, \"Bottom 20 % Deviation\": 2.3061566091531738}, {\"date\": \"2020-02-16T00:00:00+00:00\", \"Top 20 %\": 10.85487749555511, \"Bottom 20 %\": 8.170198319664452, \"Top 20 % Deviation\": 4.8562880724382005, \"Bottom 20 % Deviation\": 2.1716088965475486}, {\"date\": \"2020-02-17T00:00:00+00:00\", \"Top 20 %\": 10.577782738976685, \"Bottom 20 %\": 7.968293444259011, \"Top 20 % Deviation\": 4.5791933158597775, \"Bottom 20 % Deviation\": 1.9697040211421082}, {\"date\": \"2020-02-18T00:00:00+00:00\", \"Top 20 %\": 11.127666629145752, \"Bottom 20 %\": 8.178350300122371, \"Top 20 % Deviation\": 5.129077206028843, \"Bottom 20 % Deviation\": 2.1797608770054686}, {\"date\": \"2020-02-19T00:00:00+00:00\", \"Top 20 %\": 11.721314459833978, \"Bottom 20 %\": 8.303993925301956, \"Top 20 % Deviation\": 5.722725036717071, \"Bottom 20 % Deviation\": 2.3054045021850538}, {\"date\": \"2020-02-20T00:00:00+00:00\", \"Top 20 %\": 11.809123893741495, \"Bottom 20 %\": 8.465281353681117, \"Top 20 % Deviation\": 5.810534470624586, \"Bottom 20 % Deviation\": 2.466691930564216}, {\"date\": \"2020-02-21T00:00:00+00:00\", \"Top 20 %\": 11.741987001863176, \"Bottom 20 %\": 8.096711647924431, \"Top 20 % Deviation\": 5.743397578746269, \"Bottom 20 % Deviation\": 2.09812222480753}, {\"date\": \"2020-02-22T00:00:00+00:00\", \"Top 20 %\": 11.220940400802462, \"Bottom 20 %\": 8.166174848872098, \"Top 20 % Deviation\": 5.2223509776855535, \"Bottom 20 % Deviation\": 2.1675854257551963}, {\"date\": \"2020-02-23T00:00:00+00:00\", \"Top 20 %\": 10.747630026920055, \"Bottom 20 %\": 8.05360847762282, \"Top 20 % Deviation\": 4.749040603803148, \"Bottom 20 % Deviation\": 2.0550190545059186}, {\"date\": \"2020-02-24T00:00:00+00:00\", \"Top 20 %\": 10.812356111712694, \"Bottom 20 %\": 7.946179823399232, \"Top 20 % Deviation\": 4.813766688595787, \"Bottom 20 % Deviation\": 1.9475904002823305}, {\"date\": \"2020-02-25T00:00:00+00:00\", \"Top 20 %\": 10.88037594739054, \"Bottom 20 %\": 7.713994495086064, \"Top 20 % Deviation\": 4.8817865242736325, \"Bottom 20 % Deviation\": 1.7154050719691618}, {\"date\": \"2020-02-26T00:00:00+00:00\", \"Top 20 %\": 11.638656540042916, \"Bottom 20 %\": 7.878930362485105, \"Top 20 % Deviation\": 5.6400671169260095, \"Bottom 20 % Deviation\": 1.8803409393682018}, {\"date\": \"2020-02-27T00:00:00+00:00\", \"Top 20 %\": 12.077870426408662, \"Bottom 20 %\": 8.030204258889857, \"Top 20 % Deviation\": 6.0792810032917535, \"Bottom 20 % Deviation\": 2.0316148357729538}, {\"date\": \"2020-02-28T00:00:00+00:00\", \"Top 20 %\": 11.939897230581318, \"Bottom 20 %\": 7.984282834942325, \"Top 20 % Deviation\": 5.94130780746441, \"Bottom 20 % Deviation\": 1.9856934118254224}, {\"date\": \"2020-02-29T00:00:00+00:00\", \"Top 20 %\": 11.517753079435526, \"Bottom 20 %\": 7.758897356139606, \"Top 20 % Deviation\": 5.519163656318618, \"Bottom 20 % Deviation\": 1.7603079330227025}, {\"date\": \"2020-03-01T00:00:00+00:00\", \"Top 20 %\": 10.847578588089242, \"Bottom 20 %\": 7.340711790169817, \"Top 20 % Deviation\": 4.848989164972335, \"Bottom 20 % Deviation\": 1.3421223670529137}, {\"date\": \"2020-03-02T00:00:00+00:00\", \"Top 20 %\": 10.673724027044614, \"Bottom 20 %\": 7.340320363791427, \"Top 20 % Deviation\": 4.675134603927708, \"Bottom 20 % Deviation\": 1.3417309406745241}, {\"date\": \"2020-03-03T00:00:00+00:00\", \"Top 20 %\": 11.156997190559522, \"Bottom 20 %\": 7.829460570023558, \"Top 20 % Deviation\": 5.1584077674426165, \"Bottom 20 % Deviation\": 1.8308711469066552}, {\"date\": \"2020-03-04T00:00:00+00:00\", \"Top 20 %\": 11.712498520463221, \"Bottom 20 %\": 8.553266536344058, \"Top 20 % Deviation\": 5.713909097346315, \"Bottom 20 % Deviation\": 2.5546771132271564}, {\"date\": \"2020-03-05T00:00:00+00:00\", \"Top 20 %\": 11.669066885053834, \"Bottom 20 %\": 8.873507794946983, \"Top 20 % Deviation\": 5.67047746193693, \"Bottom 20 % Deviation\": 2.8749183718300806}, {\"date\": \"2020-03-06T00:00:00+00:00\", \"Top 20 %\": 11.998457488290683, \"Bottom 20 %\": 9.256508248743135, \"Top 20 % Deviation\": 5.9998680651737795, \"Bottom 20 % Deviation\": 3.2579188256262333}, {\"date\": \"2020-03-07T00:00:00+00:00\", \"Top 20 %\": 11.385745401961197, \"Bottom 20 %\": 9.006782361281044, \"Top 20 % Deviation\": 5.387155978844292, \"Bottom 20 % Deviation\": 3.0081929381641412}, {\"date\": \"2020-03-08T00:00:00+00:00\", \"Top 20 %\": 10.697044458615087, \"Bottom 20 %\": 8.972364492652083, \"Top 20 % Deviation\": 4.698455035498184, \"Bottom 20 % Deviation\": 2.9737750695351814}, {\"date\": \"2020-03-09T00:00:00+00:00\", \"Top 20 %\": 10.559026858212963, \"Bottom 20 %\": 8.901589158675403, \"Top 20 % Deviation\": 4.560437435096059, \"Bottom 20 % Deviation\": 2.902999735558501}, {\"date\": \"2020-03-10T00:00:00+00:00\", \"Top 20 %\": 10.975330870258807, \"Bottom 20 %\": 9.399357262240688, \"Top 20 % Deviation\": 4.976741447141903, \"Bottom 20 % Deviation\": 3.400767839123786}, {\"date\": \"2020-03-11T00:00:00+00:00\", \"Top 20 %\": 11.533821673936696, \"Bottom 20 %\": 9.51479712783495, \"Top 20 % Deviation\": 5.535232250819792, \"Bottom 20 % Deviation\": 3.5162077047180467}, {\"date\": \"2020-03-12T00:00:00+00:00\", \"Top 20 %\": 11.506768720398247, \"Bottom 20 %\": 9.263826767692786, \"Top 20 % Deviation\": 5.508179297281342, \"Bottom 20 % Deviation\": 3.2652373445758833}, {\"date\": \"2020-03-13T00:00:00+00:00\", \"Top 20 %\": 11.337868298455726, \"Bottom 20 %\": 8.767939363417767, \"Top 20 % Deviation\": 5.339278875338819, \"Bottom 20 % Deviation\": 2.769349940300864}, {\"date\": \"2020-03-14T00:00:00+00:00\", \"Top 20 %\": 10.484197066390845, \"Bottom 20 %\": 7.674154245640729, \"Top 20 % Deviation\": 4.485607643273939, \"Bottom 20 % Deviation\": 1.675564822523826}, {\"date\": \"2020-03-15T00:00:00+00:00\", \"Top 20 %\": 9.661534831111997, \"Bottom 20 %\": 7.232992793994209, \"Top 20 % Deviation\": 3.6629454079950903, \"Bottom 20 % Deviation\": 1.2344033708773066}, {\"date\": \"2020-03-16T00:00:00+00:00\", \"Top 20 %\": 9.178113628654735, \"Bottom 20 %\": 7.057576969224302, \"Top 20 % Deviation\": 3.1795242055378288, \"Bottom 20 % Deviation\": 1.058987546107399}, {\"date\": \"2020-03-17T00:00:00+00:00\", \"Top 20 %\": 8.984201167917538, \"Bottom 20 %\": 6.94176933754827, \"Top 20 % Deviation\": 2.985611744800632, \"Bottom 20 % Deviation\": 0.943179914431368}, {\"date\": \"2020-03-18T00:00:00+00:00\", \"Top 20 %\": 8.823838359473706, \"Bottom 20 %\": 6.7734697374945965, \"Top 20 % Deviation\": 2.825248936356798, \"Bottom 20 % Deviation\": 0.7748803143776952}, {\"date\": \"2020-03-19T00:00:00+00:00\", \"Top 20 %\": 8.252407401510428, \"Bottom 20 %\": 6.444045999162443, \"Top 20 % Deviation\": 2.2538179783935224, \"Bottom 20 % Deviation\": 0.44545657604554156}, {\"date\": \"2020-03-20T00:00:00+00:00\", \"Top 20 %\": 7.480438349851167, \"Bottom 20 %\": 5.885333803122011, \"Top 20 % Deviation\": 1.4818489267342607, \"Bottom 20 % Deviation\": -0.11325561999489038}, {\"date\": \"2020-03-21T00:00:00+00:00\", \"Top 20 %\": 6.598428885191872, \"Bottom 20 %\": 5.358761411333069, \"Top 20 % Deviation\": 0.5998394620749661, \"Bottom 20 % Deviation\": -0.6398280117838316}, {\"date\": \"2020-03-22T00:00:00+00:00\", \"Top 20 %\": 5.867461784858481, \"Bottom 20 %\": 5.58669688704911, \"Top 20 % Deviation\": -0.13112763825842505, \"Bottom 20 % Deviation\": -0.411892536067792}, {\"date\": \"2020-03-23T00:00:00+00:00\", \"Top 20 %\": 5.20901615544931, \"Bottom 20 %\": 5.509840192412707, \"Top 20 % Deviation\": -0.7895732676675952, \"Bottom 20 % Deviation\": -0.4887492307041942}, {\"date\": \"2020-03-24T00:00:00+00:00\", \"Top 20 %\": 5.168742588330366, \"Bottom 20 %\": 5.855740744069417, \"Top 20 % Deviation\": -0.8298468347865395, \"Bottom 20 % Deviation\": -0.14284867904748433}, {\"date\": \"2020-03-25T00:00:00+00:00\", \"Top 20 %\": 5.248157867304615, \"Bottom 20 %\": 5.961202509748157, \"Top 20 % Deviation\": -0.7504315558122903, \"Bottom 20 % Deviation\": -0.03738691336874593}, {\"date\": \"2020-03-26T00:00:00+00:00\", \"Top 20 %\": 4.991723527924064, \"Bottom 20 %\": 5.87754594883187, \"Top 20 % Deviation\": -1.0068658951928413, \"Bottom 20 % Deviation\": -0.12104347428503229}, {\"date\": \"2020-03-27T00:00:00+00:00\", \"Top 20 %\": 4.768914928096374, \"Bottom 20 %\": 5.921302562210127, \"Top 20 % Deviation\": -1.2296744950205316, \"Bottom 20 % Deviation\": -0.0772868609067757}, {\"date\": \"2020-03-28T00:00:00+00:00\", \"Top 20 %\": 4.587684511250685, \"Bottom 20 %\": 5.810037364414437, \"Top 20 % Deviation\": -1.410904911866221, \"Bottom 20 % Deviation\": -0.1885520587024664}, {\"date\": \"2020-03-29T00:00:00+00:00\", \"Top 20 %\": 4.290022881633903, \"Bottom 20 %\": 5.75208749908279, \"Top 20 % Deviation\": -1.7085665414830022, \"Bottom 20 % Deviation\": -0.24650192403411292}, {\"date\": \"2020-03-30T00:00:00+00:00\", \"Top 20 %\": 4.310244331011478, \"Bottom 20 %\": 5.9389306115077725, \"Top 20 % Deviation\": -1.6883450921054277, \"Bottom 20 % Deviation\": -0.059658811609130336}, {\"date\": \"2020-03-31T00:00:00+00:00\", \"Top 20 %\": 4.405169320795274, \"Bottom 20 %\": 6.008553389940868, \"Top 20 % Deviation\": -1.5934201023216317, \"Bottom 20 % Deviation\": 0.009963966823965942}, {\"date\": \"2020-04-01T00:00:00+00:00\", \"Top 20 %\": 4.43043112935119, \"Bottom 20 %\": 5.58752862936341, \"Top 20 % Deviation\": -1.5681582937657161, \"Bottom 20 % Deviation\": -0.41106079375349225}, {\"date\": \"2020-04-02T00:00:00+00:00\", \"Top 20 %\": 4.383847670010637, \"Bottom 20 %\": 5.375005350967537, \"Top 20 % Deviation\": -1.6147417531062689, \"Bottom 20 % Deviation\": -0.6235840721493656}, {\"date\": \"2020-04-03T00:00:00+00:00\", \"Top 20 %\": 4.375055126275137, \"Bottom 20 %\": 5.036363277634349, \"Top 20 % Deviation\": -1.623534296841769, \"Bottom 20 % Deviation\": -0.9622261454825527}, {\"date\": \"2020-04-04T00:00:00+00:00\", \"Top 20 %\": 4.19754550423433, \"Bottom 20 %\": 4.873343894801591, \"Top 20 % Deviation\": -1.801043918882576, \"Bottom 20 % Deviation\": -1.12524552831531}, {\"date\": \"2020-04-05T00:00:00+00:00\", \"Top 20 %\": 3.9824082661155416, \"Bottom 20 %\": 4.553405129730549, \"Top 20 % Deviation\": -2.016181157001364, \"Bottom 20 % Deviation\": -1.4451842933863528}, {\"date\": \"2020-04-06T00:00:00+00:00\", \"Top 20 %\": 3.9583233343269932, \"Bottom 20 %\": 4.549353677220409, \"Top 20 % Deviation\": -2.0402660887899122, \"Bottom 20 % Deviation\": -1.449235745896493}, {\"date\": \"2020-04-07T00:00:00+00:00\", \"Top 20 %\": 4.043231048037705, \"Bottom 20 %\": 4.534987627793372, \"Top 20 % Deviation\": -1.9553583750792007, \"Bottom 20 % Deviation\": -1.4636017953235305}, {\"date\": \"2020-04-08T00:00:00+00:00\", \"Top 20 %\": 4.185066861807502, \"Bottom 20 %\": 4.724970673362359, \"Top 20 % Deviation\": -1.8135225613094044, \"Bottom 20 % Deviation\": -1.273618749754544}, {\"date\": \"2020-04-09T00:00:00+00:00\", \"Top 20 %\": 4.121494113599672, \"Bottom 20 %\": 4.457098622484823, \"Top 20 % Deviation\": -1.877095309517235, \"Bottom 20 % Deviation\": -1.5414908006320795}, {\"date\": \"2020-04-10T00:00:00+00:00\", \"Top 20 %\": 4.0241988738831065, \"Bottom 20 %\": 4.588350249987392, \"Top 20 % Deviation\": -1.9743905492337999, \"Bottom 20 % Deviation\": -1.41023917312951}, {\"date\": \"2020-04-11T00:00:00+00:00\", \"Top 20 %\": 3.962111295761251, \"Bottom 20 %\": 4.631550290106625, \"Top 20 % Deviation\": -2.036478127355656, \"Bottom 20 % Deviation\": -1.3670391330102774}, {\"date\": \"2020-04-12T00:00:00+00:00\", \"Top 20 %\": 3.8058209065350845, \"Bottom 20 %\": 4.489298884573367, \"Top 20 % Deviation\": -2.1927685165818227, \"Bottom 20 % Deviation\": -1.509290538543534}, {\"date\": \"2020-04-13T00:00:00+00:00\", \"Top 20 %\": 3.790462608464831, \"Bottom 20 %\": 4.630942223829993, \"Top 20 % Deviation\": -2.2081268146520756, \"Bottom 20 % Deviation\": -1.3676471992869081}, {\"date\": \"2020-04-14T00:00:00+00:00\", \"Top 20 %\": 3.847169254407677, \"Bottom 20 %\": 4.515040519572517, \"Top 20 % Deviation\": -2.151420168709229, \"Bottom 20 % Deviation\": -1.4835489035443836}, {\"date\": \"2020-04-15T00:00:00+00:00\", \"Top 20 %\": 4.039234827094078, \"Bottom 20 %\": 5.099514126698642, \"Top 20 % Deviation\": -1.9593545960228287, \"Bottom 20 % Deviation\": -0.8990752964182583}, {\"date\": \"2020-04-16T00:00:00+00:00\", \"Top 20 %\": 4.049265168582641, \"Bottom 20 %\": 4.989544866865522, \"Top 20 % Deviation\": -1.949324254534265, \"Bottom 20 % Deviation\": -1.0090445562513781}, {\"date\": \"2020-04-17T00:00:00+00:00\", \"Top 20 %\": 4.03279000716963, \"Bottom 20 %\": 5.118232835102225, \"Top 20 % Deviation\": -1.9657994159472767, \"Bottom 20 % Deviation\": -0.880356588014676}, {\"date\": \"2020-04-18T00:00:00+00:00\", \"Top 20 %\": 3.9750303210462277, \"Bottom 20 %\": 4.868766957431844, \"Top 20 % Deviation\": -2.0235591020706787, \"Bottom 20 % Deviation\": -1.1298224656850562}, {\"date\": \"2020-04-19T00:00:00+00:00\", \"Top 20 %\": 3.8809209977358607, \"Bottom 20 %\": 5.038552510958658, \"Top 20 % Deviation\": -2.1176684253810456, \"Bottom 20 % Deviation\": -0.9600369121582428}, {\"date\": \"2020-04-20T00:00:00+00:00\", \"Top 20 %\": 3.8720699111977894, \"Bottom 20 %\": 4.998343445811116, \"Top 20 % Deviation\": -2.126519511919117, \"Bottom 20 % Deviation\": -1.000245977305784}, {\"date\": \"2020-04-21T00:00:00+00:00\", \"Top 20 %\": 3.983689259111633, \"Bottom 20 %\": 5.24527763891123, \"Top 20 % Deviation\": -2.0149001640052733, \"Bottom 20 % Deviation\": -0.7533117842056699}, {\"date\": \"2020-04-22T00:00:00+00:00\", \"Top 20 %\": 4.138653234954007, \"Bottom 20 %\": 5.471910406453914, \"Top 20 % Deviation\": -1.8599361881628993, \"Bottom 20 % Deviation\": -0.5266790166629854}, {\"date\": \"2020-04-23T00:00:00+00:00\", \"Top 20 %\": 4.206170422501037, \"Bottom 20 %\": 5.509348620984715, \"Top 20 % Deviation\": -1.79241900061587, \"Bottom 20 % Deviation\": -0.4892408021321851}, {\"date\": \"2020-04-24T00:00:00+00:00\", \"Top 20 %\": 4.270871618835924, \"Bottom 20 %\": 5.575310879099438, \"Top 20 % Deviation\": -1.7277178042809829, \"Bottom 20 % Deviation\": -0.42327854401746273}, {\"date\": \"2020-04-25T00:00:00+00:00\", \"Top 20 %\": 4.168368850718672, \"Bottom 20 %\": 5.111223243618972, \"Top 20 % Deviation\": -1.8302205723982357, \"Bottom 20 % Deviation\": -0.8873661794979275}, {\"date\": \"2020-04-26T00:00:00+00:00\", \"Top 20 %\": 4.070226702369448, \"Bottom 20 %\": 5.0152045172938085, \"Top 20 % Deviation\": -1.9283627207474587, \"Bottom 20 % Deviation\": -0.9833849058230909}, {\"date\": \"2020-04-27T00:00:00+00:00\", \"Top 20 %\": 4.09845411149639, \"Bottom 20 %\": 4.8947571749409855, \"Top 20 % Deviation\": -1.9001353116205166, \"Bottom 20 % Deviation\": -1.1038322481759149}, {\"date\": \"2020-04-28T00:00:00+00:00\", \"Top 20 %\": 4.228506875994206, \"Bottom 20 %\": 5.113392504874591, \"Top 20 % Deviation\": -1.7700825471227006, \"Bottom 20 % Deviation\": -0.8851969182423083}, {\"date\": \"2020-04-29T00:00:00+00:00\", \"Top 20 %\": 4.317326398121832, \"Bottom 20 %\": 4.98867078743645, \"Top 20 % Deviation\": -1.681263024995075, \"Bottom 20 % Deviation\": -1.00991863568045}, {\"date\": \"2020-04-30T00:00:00+00:00\", \"Top 20 %\": 4.36908260419511, \"Bottom 20 %\": 4.946645763957074, \"Top 20 % Deviation\": -1.6295068189217972, \"Bottom 20 % Deviation\": -1.0519436591598275}, {\"date\": \"2020-05-01T00:00:00+00:00\", \"Top 20 %\": 4.4843327757948535, \"Bottom 20 %\": 4.949521248183192, \"Top 20 % Deviation\": -1.5142566473220533, \"Bottom 20 % Deviation\": -1.049068174933709}, {\"date\": \"2020-05-02T00:00:00+00:00\", \"Top 20 %\": 4.434298560037454, \"Bottom 20 %\": 4.877563712342973, \"Top 20 % Deviation\": -1.564290863079453, \"Bottom 20 % Deviation\": -1.1210257107739283}, {\"date\": \"2020-05-03T00:00:00+00:00\", \"Top 20 %\": 4.281969778478131, \"Bottom 20 %\": 4.591878310573497, \"Top 20 % Deviation\": -1.7166196446387751, \"Bottom 20 % Deviation\": -1.4067111125434038}, {\"date\": \"2020-05-04T00:00:00+00:00\", \"Top 20 %\": 4.281858231394533, \"Bottom 20 %\": 4.667886122862039, \"Top 20 % Deviation\": -1.7167311917223735, \"Bottom 20 % Deviation\": -1.3307033002548618}, {\"date\": \"2020-05-05T00:00:00+00:00\", \"Top 20 %\": 4.367456475487717, \"Bottom 20 %\": 4.64843688250195, \"Top 20 % Deviation\": -1.631132947629189, \"Bottom 20 % Deviation\": -1.3501525406149513}, {\"date\": \"2020-05-06T00:00:00+00:00\", \"Top 20 %\": 4.492312592401039, \"Bottom 20 %\": 4.700712945844701, \"Top 20 % Deviation\": -1.5062768307158672, \"Bottom 20 % Deviation\": -1.2978764772722013}, {\"date\": \"2020-05-07T00:00:00+00:00\", \"Top 20 %\": 4.6116043329469445, \"Bottom 20 %\": 4.765704007070768, \"Top 20 % Deviation\": -1.3869850901699619, \"Bottom 20 % Deviation\": -1.2328854160461329}, {\"date\": \"2020-05-08T00:00:00+00:00\", \"Top 20 %\": 4.601705919614021, \"Bottom 20 %\": 4.580565379789039, \"Top 20 % Deviation\": -1.3968835035028853, \"Bottom 20 % Deviation\": -1.418024043327862}, {\"date\": \"2020-05-09T00:00:00+00:00\", \"Top 20 %\": 4.597245380647652, \"Bottom 20 %\": 4.722785953840831, \"Top 20 % Deviation\": -1.4013440424692543, \"Bottom 20 % Deviation\": -1.2758034692760702}, {\"date\": \"2020-05-10T00:00:00+00:00\", \"Top 20 %\": 4.541418770616369, \"Bottom 20 %\": 4.726541050970292, \"Top 20 % Deviation\": -1.4571706525005372, \"Bottom 20 % Deviation\": -1.2720483721466085}, {\"date\": \"2020-05-11T00:00:00+00:00\", \"Top 20 %\": 4.414052465032876, \"Bottom 20 %\": 4.509443160351128, \"Top 20 % Deviation\": -1.5845369580840303, \"Bottom 20 % Deviation\": -1.489146262765773}, {\"date\": \"2020-05-12T00:00:00+00:00\", \"Top 20 %\": 4.536482095741403, \"Bottom 20 %\": 4.492191002164203, \"Top 20 % Deviation\": -1.4621073273755043, \"Bottom 20 % Deviation\": -1.5063984209526977}, {\"date\": \"2020-05-13T00:00:00+00:00\", \"Top 20 %\": 4.7405943353323305, \"Bottom 20 %\": 4.634044985636575, \"Top 20 % Deviation\": -1.2579950877845765, \"Bottom 20 % Deviation\": -1.3645444374803264}, {\"date\": \"2020-05-14T00:00:00+00:00\", \"Top 20 %\": 4.675702618262919, \"Bottom 20 %\": 4.533783414235934, \"Top 20 % Deviation\": -1.3228868048539866, \"Bottom 20 % Deviation\": -1.4648060088809678}, {\"date\": \"2020-05-15T00:00:00+00:00\", \"Top 20 %\": 4.732753271553405, \"Bottom 20 %\": 4.56631439341534, \"Top 20 % Deviation\": -1.2658361515635004, \"Bottom 20 % Deviation\": -1.432275029701562}, {\"date\": \"2020-05-16T00:00:00+00:00\", \"Top 20 %\": 4.639515039377677, \"Bottom 20 %\": 4.584706336522025, \"Top 20 % Deviation\": -1.3590743837392287, \"Bottom 20 % Deviation\": -1.4138830865948768}, {\"date\": \"2020-05-17T00:00:00+00:00\", \"Top 20 %\": 4.394852810694739, \"Bottom 20 %\": 4.656785643127725, \"Top 20 % Deviation\": -1.6037366124221666, \"Bottom 20 % Deviation\": -1.3418037799891769}, {\"date\": \"2020-05-18T00:00:00+00:00\", \"Top 20 %\": 4.421405873818735, \"Bottom 20 %\": 4.713704430016319, \"Top 20 % Deviation\": -1.5771835492981716, \"Bottom 20 % Deviation\": -1.284884993100583}, {\"date\": \"2020-05-19T00:00:00+00:00\", \"Top 20 %\": 4.44970662319875, \"Bottom 20 %\": 4.727868500718858, \"Top 20 % Deviation\": -1.548882799918156, \"Bottom 20 % Deviation\": -1.2707209223980431}, {\"date\": \"2020-05-20T00:00:00+00:00\", \"Top 20 %\": 4.628061981079993, \"Bottom 20 %\": 4.880478881858912, \"Top 20 % Deviation\": -1.3705274420369133, \"Bottom 20 % Deviation\": -1.1181105412579893}, {\"date\": \"2020-05-21T00:00:00+00:00\", \"Top 20 %\": 4.69579443173099, \"Bottom 20 %\": 4.848904855450374, \"Top 20 % Deviation\": -1.3027949913859167, \"Bottom 20 % Deviation\": -1.1496845676665275}, {\"date\": \"2020-05-22T00:00:00+00:00\", \"Top 20 %\": 4.708180628162483, \"Bottom 20 %\": 4.919141099117269, \"Top 20 % Deviation\": -1.2904087949544236, \"Bottom 20 % Deviation\": -1.079448323999633}, {\"date\": \"2020-05-23T00:00:00+00:00\", \"Top 20 %\": 4.610108945739477, \"Bottom 20 %\": 4.807970229353939, \"Top 20 % Deviation\": -1.3884804773774302, \"Bottom 20 % Deviation\": -1.1906191937629629}, {\"date\": \"2020-05-24T00:00:00+00:00\", \"Top 20 %\": 4.628535098622928, \"Bottom 20 %\": 5.123042049373384, \"Top 20 % Deviation\": -1.3700543244939805, \"Bottom 20 % Deviation\": -0.8755473737435168}, {\"date\": \"2020-05-25T00:00:00+00:00\", \"Top 20 %\": 4.523696419762082, \"Bottom 20 %\": 5.089683336371655, \"Top 20 % Deviation\": -1.4748930033548262, \"Bottom 20 % Deviation\": -0.9089060867452463}, {\"date\": \"2020-05-26T00:00:00+00:00\", \"Top 20 %\": 4.712916638425356, \"Bottom 20 %\": 5.063534743964534, \"Top 20 % Deviation\": -1.2856727846915528, \"Bottom 20 % Deviation\": -0.9350546791523678}, {\"date\": \"2020-05-27T00:00:00+00:00\", \"Top 20 %\": 4.934760016321291, \"Bottom 20 %\": 5.047521281098156, \"Top 20 % Deviation\": -1.0638294067956173, \"Bottom 20 % Deviation\": -0.9510681420187461}, {\"date\": \"2020-05-28T00:00:00+00:00\", \"Top 20 %\": 4.920166505144959, \"Bottom 20 %\": 5.025653329881419, \"Top 20 % Deviation\": -1.0784229179719496, \"Bottom 20 % Deviation\": -0.9729360932354829}, {\"date\": \"2020-05-29T00:00:00+00:00\", \"Top 20 %\": 5.00641383032307, \"Bottom 20 %\": 5.1231825454236475, \"Top 20 % Deviation\": -0.9921755927938382, \"Bottom 20 % Deviation\": -0.8754068776932545}, {\"date\": \"2020-05-30T00:00:00+00:00\", \"Top 20 %\": 4.971414677832336, \"Bottom 20 %\": 4.984767331026065, \"Top 20 % Deviation\": -1.0271747452845716, \"Bottom 20 % Deviation\": -1.0138220920908374}, {\"date\": \"2020-05-31T00:00:00+00:00\", \"Top 20 %\": 4.831242549882171, \"Bottom 20 %\": 4.9859257617570645, \"Top 20 % Deviation\": -1.1673468732347358, \"Bottom 20 % Deviation\": -1.0126636613598379}, {\"date\": \"2020-06-01T00:00:00+00:00\", \"Top 20 %\": 4.883504318442171, \"Bottom 20 %\": 4.947303052811309, \"Top 20 % Deviation\": -1.1150851046747365, \"Bottom 20 % Deviation\": -1.051286370305594}, {\"date\": \"2020-06-02T00:00:00+00:00\", \"Top 20 %\": 5.0642010221127025, \"Bottom 20 %\": 4.933579141147997, \"Top 20 % Deviation\": -0.9343884010042054, \"Bottom 20 % Deviation\": -1.0650102819689056}, {\"date\": \"2020-06-03T00:00:00+00:00\", \"Top 20 %\": 5.205832669003965, \"Bottom 20 %\": 4.8056279452198645, \"Top 20 % Deviation\": -0.7927567541129423, \"Bottom 20 % Deviation\": -1.1929614778970385}, {\"date\": \"2020-06-04T00:00:00+00:00\", \"Top 20 %\": 5.475554938914217, \"Bottom 20 %\": 5.020232856193109, \"Top 20 % Deviation\": -0.5230344842026897, \"Bottom 20 % Deviation\": -0.9783565669237937}, {\"date\": \"2020-06-05T00:00:00+00:00\", \"Top 20 %\": 5.5952036548275625, \"Bottom 20 %\": 5.36664668499695, \"Top 20 % Deviation\": -0.40338576828934414, \"Bottom 20 % Deviation\": -0.6319427381199525}, {\"date\": \"2020-06-06T00:00:00+00:00\", \"Top 20 %\": 5.545720183619599, \"Bottom 20 %\": 5.218467906724481, \"Top 20 % Deviation\": -0.45286923949730856, \"Bottom 20 % Deviation\": -0.7801215163924216}, {\"date\": \"2020-06-07T00:00:00+00:00\", \"Top 20 %\": 5.483881820519125, \"Bottom 20 %\": 5.418165669548893, \"Top 20 % Deviation\": -0.514707602597782, \"Bottom 20 % Deviation\": -0.5804237535680097}, {\"date\": \"2020-06-08T00:00:00+00:00\", \"Top 20 %\": 5.561838092110364, \"Bottom 20 %\": 5.363896119390439, \"Top 20 % Deviation\": -0.4367513310065436, \"Bottom 20 % Deviation\": -0.6346933037264624}, {\"date\": \"2020-06-09T00:00:00+00:00\", \"Top 20 %\": 5.723078065048128, \"Bottom 20 %\": 5.339300245870416, \"Top 20 % Deviation\": -0.2755113580687798, \"Bottom 20 % Deviation\": -0.6592891772464857}, {\"date\": \"2020-06-10T00:00:00+00:00\", \"Top 20 %\": 5.921013317456459, \"Bottom 20 %\": 5.491057562772316, \"Top 20 % Deviation\": -0.07757610566044866, \"Bottom 20 % Deviation\": -0.5075318603445854}, {\"date\": \"2020-06-11T00:00:00+00:00\", \"Top 20 %\": 5.990367229542786, \"Bottom 20 %\": 5.613999232109138, \"Top 20 % Deviation\": -0.008222193574122284, \"Bottom 20 % Deviation\": -0.3845901910077642}, {\"date\": \"2020-06-12T00:00:00+00:00\", \"Top 20 %\": 5.9073973311947725, \"Bottom 20 %\": 5.715152691129023, \"Top 20 % Deviation\": -0.09119209192213526, \"Bottom 20 % Deviation\": -0.28343673198787805}, {\"date\": \"2020-06-13T00:00:00+00:00\", \"Top 20 %\": 5.779998143532883, \"Bottom 20 %\": 5.3512057803231565, \"Top 20 % Deviation\": -0.21859127958402452, \"Bottom 20 % Deviation\": -0.6473836427937453}, {\"date\": \"2020-06-14T00:00:00+00:00\", \"Top 20 %\": 5.4920860136511696, \"Bottom 20 %\": 5.06994694456377, \"Top 20 % Deviation\": -0.5065034094657381, \"Bottom 20 % Deviation\": -0.9286424785531316}, {\"date\": \"2020-06-15T00:00:00+00:00\", \"Top 20 %\": 5.487020373516668, \"Bottom 20 %\": 5.108275742964501, \"Top 20 % Deviation\": -0.51156904960024, \"Bottom 20 % Deviation\": -0.8903136801524006}, {\"date\": \"2020-06-16T00:00:00+00:00\", \"Top 20 %\": 5.636795530623639, \"Bottom 20 %\": 5.1767459961510855, \"Top 20 % Deviation\": -0.36179389249326943, \"Bottom 20 % Deviation\": -0.8218434269658165}, {\"date\": \"2020-06-17T00:00:00+00:00\", \"Top 20 %\": 5.903918076885706, \"Bottom 20 %\": 5.300209275393633, \"Top 20 % Deviation\": -0.09467134623120162, \"Bottom 20 % Deviation\": -0.6983801477232695}, {\"date\": \"2020-06-18T00:00:00+00:00\", \"Top 20 %\": 6.0036034739419835, \"Bottom 20 %\": 5.4882682029619945, \"Top 20 % Deviation\": 0.005014050825076133, \"Bottom 20 % Deviation\": -0.5103212201549081}, {\"date\": \"2020-06-19T00:00:00+00:00\", \"Top 20 %\": 5.984330047350881, \"Bottom 20 %\": 5.98502999727241, \"Top 20 % Deviation\": -0.014259375766025428, \"Bottom 20 % Deviation\": -0.01355942584449279}, {\"date\": \"2020-06-20T00:00:00+00:00\", \"Top 20 %\": 5.975887158901199, \"Bottom 20 %\": 5.997371636792348, \"Top 20 % Deviation\": -0.022702264215707313, \"Bottom 20 % Deviation\": -0.0012177863245544708}, {\"date\": \"2020-06-21T00:00:00+00:00\", \"Top 20 %\": 5.7690783465334246, \"Bottom 20 %\": 5.7190100792449465, \"Top 20 % Deviation\": -0.22951107658348208, \"Bottom 20 % Deviation\": -0.2795793438719558}, {\"date\": \"2020-06-22T00:00:00+00:00\", \"Top 20 %\": 5.795677255972185, \"Bottom 20 %\": 5.993906790940231, \"Top 20 % Deviation\": -0.20291216714472132, \"Bottom 20 % Deviation\": -0.004682632176672197}, {\"date\": \"2020-06-23T00:00:00+00:00\", \"Top 20 %\": 5.9741762301272265, \"Bottom 20 %\": 6.224938906096817, \"Top 20 % Deviation\": -0.024413192989679457, \"Bottom 20 % Deviation\": 0.22634948297991492}, {\"date\": \"2020-06-24T00:00:00+00:00\", \"Top 20 %\": 6.198746886755053, \"Bottom 20 %\": 6.469351974109635, \"Top 20 % Deviation\": 0.20015746363814696, \"Bottom 20 % Deviation\": 0.4707625509927321}, {\"date\": \"2020-06-25T00:00:00+00:00\", \"Top 20 %\": 6.150318252685549, \"Bottom 20 %\": 6.217695927575404, \"Top 20 % Deviation\": 0.15172882956864336, \"Bottom 20 % Deviation\": 0.21910650445850016}, {\"date\": \"2020-06-26T00:00:00+00:00\", \"Top 20 %\": 6.0847956784757695, \"Bottom 20 %\": 6.430621812363905, \"Top 20 % Deviation\": 0.08620625535886357, \"Bottom 20 % Deviation\": 0.4320323892470014}, {\"date\": \"2020-06-27T00:00:00+00:00\", \"Top 20 %\": 5.918304123239137, \"Bottom 20 %\": 6.220128790803886, \"Top 20 % Deviation\": -0.08028529987776785, \"Bottom 20 % Deviation\": 0.22153936768698196}, {\"date\": \"2020-06-28T00:00:00+00:00\", \"Top 20 %\": 5.607529160645695, \"Bottom 20 %\": 6.0049194961014205, \"Top 20 % Deviation\": -0.39106026247120984, \"Bottom 20 % Deviation\": 0.006330072984516555}, {\"date\": \"2020-06-29T00:00:00+00:00\", \"Top 20 %\": 5.558167564478179, \"Bottom 20 %\": 5.743412857111279, \"Top 20 % Deviation\": -0.44042185863872696, \"Bottom 20 % Deviation\": -0.25517656600562555}, {\"date\": \"2020-06-30T00:00:00+00:00\", \"Top 20 %\": 5.711823412706095, \"Bottom 20 %\": 6.015457360471461, \"Top 20 % Deviation\": -0.2867660104108111, \"Bottom 20 % Deviation\": 0.016867937354557317}, {\"date\": \"2020-07-01T00:00:00+00:00\", \"Top 20 %\": 6.052811192315003, \"Bottom 20 %\": 6.55147034173641, \"Top 20 % Deviation\": 0.054221769198097645, \"Bottom 20 % Deviation\": 0.5528809186195068}, {\"date\": \"2020-07-02T00:00:00+00:00\", \"Top 20 %\": 6.070894264428135, \"Bottom 20 %\": 6.4368791728725725, \"Top 20 % Deviation\": 0.07230484131122905, \"Bottom 20 % Deviation\": 0.43828974975566865}, {\"date\": \"2020-07-03T00:00:00+00:00\", \"Top 20 %\": 6.033302447839672, \"Bottom 20 %\": 6.547601758622781, \"Top 20 % Deviation\": 0.03471302472276587, \"Bottom 20 % Deviation\": 0.5490123355058779}, {\"date\": \"2020-07-04T00:00:00+00:00\", \"Top 20 %\": 5.901584799202409, \"Bottom 20 %\": 6.499636174021586, \"Top 20 % Deviation\": -0.09700462391449705, \"Bottom 20 % Deviation\": 0.5010467509046828}, {\"date\": \"2020-07-05T00:00:00+00:00\", \"Top 20 %\": 5.727764661500865, \"Bottom 20 %\": 6.315408902002482, \"Top 20 % Deviation\": -0.2708247616160402, \"Bottom 20 % Deviation\": 0.31681947888557854}, {\"date\": \"2020-07-06T00:00:00+00:00\", \"Top 20 %\": 5.7305659870071874, \"Bottom 20 %\": 6.186898371431029, \"Top 20 % Deviation\": -0.26802343610971724, \"Bottom 20 % Deviation\": 0.18830894831412642}, {\"date\": \"2020-07-07T00:00:00+00:00\", \"Top 20 %\": 5.905022632457216, \"Bottom 20 %\": 6.044707269261023, \"Top 20 % Deviation\": -0.0935667906596894, \"Bottom 20 % Deviation\": 0.046117846144120865}, {\"date\": \"2020-07-08T00:00:00+00:00\", \"Top 20 %\": 6.164931686613752, \"Bottom 20 %\": 6.056950967284216, \"Top 20 % Deviation\": 0.16634226349684705, \"Bottom 20 % Deviation\": 0.05836154416731394}, {\"date\": \"2020-07-09T00:00:00+00:00\", \"Top 20 %\": 6.188077551174237, \"Bottom 20 %\": 5.988459827239083, \"Top 20 % Deviation\": 0.18948812805733137, \"Bottom 20 % Deviation\": -0.010129595877818387}, {\"date\": \"2020-07-10T00:00:00+00:00\", \"Top 20 %\": 6.1283637290247945, \"Bottom 20 %\": 5.768737148446339, \"Top 20 % Deviation\": 0.12977430590788944, \"Bottom 20 % Deviation\": -0.22985227467056313}, {\"date\": \"2020-07-11T00:00:00+00:00\", \"Top 20 %\": 5.814733243470693, \"Bottom 20 %\": 5.436158799387886, \"Top 20 % Deviation\": -0.18385617964621223, \"Bottom 20 % Deviation\": -0.5624306237290149}, {\"date\": \"2020-07-12T00:00:00+00:00\", \"Top 20 %\": 5.692257735455949, \"Bottom 20 %\": 5.419725480161899, \"Top 20 % Deviation\": -0.30633168766095586, \"Bottom 20 % Deviation\": -0.5788639429550027}, {\"date\": \"2020-07-13T00:00:00+00:00\", \"Top 20 %\": 5.734866115075145, \"Bottom 20 %\": 5.146153686914461, \"Top 20 % Deviation\": -0.26372330804176014, \"Bottom 20 % Deviation\": -0.8524357362024404}, {\"date\": \"2020-07-14T00:00:00+00:00\", \"Top 20 %\": 5.925399326661009, \"Bottom 20 %\": 4.982577178924991, \"Top 20 % Deviation\": -0.07319009645589691, \"Bottom 20 % Deviation\": -1.0160122441919104}, {\"date\": \"2020-07-15T00:00:00+00:00\", \"Top 20 %\": 6.142975855360385, \"Bottom 20 %\": 5.203416697193198, \"Top 20 % Deviation\": 0.14438643224347975, \"Bottom 20 % Deviation\": -0.7951727259237034}, {\"date\": \"2020-07-16T00:00:00+00:00\", \"Top 20 %\": 6.166358010131569, \"Bottom 20 %\": 5.383181435268525, \"Top 20 % Deviation\": 0.16776858701466332, \"Bottom 20 % Deviation\": -0.6154079878483762}, {\"date\": \"2020-07-17T00:00:00+00:00\", \"Top 20 %\": 6.06765785204569, \"Bottom 20 %\": 5.493607740005698, \"Top 20 % Deviation\": 0.06906842892878381, \"Bottom 20 % Deviation\": -0.5049816831112037}, {\"date\": \"2020-07-18T00:00:00+00:00\", \"Top 20 %\": 5.917732098615017, \"Bottom 20 %\": 5.270482949286529, \"Top 20 % Deviation\": -0.08085732450189029, \"Bottom 20 % Deviation\": -0.7281064738303731}, {\"date\": \"2020-07-19T00:00:00+00:00\", \"Top 20 %\": 5.650805126953311, \"Bottom 20 %\": 5.069761467186209, \"Top 20 % Deviation\": -0.3477842961635952, \"Bottom 20 % Deviation\": -0.9288279559306936}, {\"date\": \"2020-07-20T00:00:00+00:00\", \"Top 20 %\": 5.687923440937131, \"Bottom 20 %\": 4.918564107528427, \"Top 20 % Deviation\": -0.31066598217977537, \"Bottom 20 % Deviation\": -1.080025315588475}, {\"date\": \"2020-07-21T00:00:00+00:00\", \"Top 20 %\": 5.884437524921264, \"Bottom 20 %\": 4.805622442848505, \"Top 20 % Deviation\": -0.11415189819564224, \"Bottom 20 % Deviation\": -1.1929669802683964}, {\"date\": \"2020-07-22T00:00:00+00:00\", \"Top 20 %\": 6.1293352431121315, \"Bottom 20 %\": 4.872971717283167, \"Top 20 % Deviation\": 0.13074581999522444, \"Bottom 20 % Deviation\": -1.1256177058337347}, {\"date\": \"2020-07-23T00:00:00+00:00\", \"Top 20 %\": 6.24991901789833, \"Bottom 20 %\": 5.00652590835102, \"Top 20 % Deviation\": 0.2513295947814228, \"Bottom 20 % Deviation\": -0.9920635147658823}, {\"date\": \"2020-07-24T00:00:00+00:00\", \"Top 20 %\": 6.247440279548217, \"Bottom 20 %\": 5.155761139782815, \"Top 20 % Deviation\": 0.2488508564313096, \"Bottom 20 % Deviation\": -0.8428282833340877}, {\"date\": \"2020-07-25T00:00:00+00:00\", \"Top 20 %\": 6.116373046270983, \"Bottom 20 %\": 5.12369186194557, \"Top 20 % Deviation\": 0.11778362315407556, \"Bottom 20 % Deviation\": -0.8748975611713327}, {\"date\": \"2020-07-26T00:00:00+00:00\", \"Top 20 %\": 6.00618757413339, \"Bottom 20 %\": 4.916394744642419, \"Top 20 % Deviation\": 0.007598151016482824, \"Bottom 20 % Deviation\": -1.0821946784744843}, {\"date\": \"2020-07-27T00:00:00+00:00\", \"Top 20 %\": 6.036413983802739, \"Bottom 20 %\": 4.903616764705146, \"Top 20 % Deviation\": 0.03782456068583171, \"Bottom 20 % Deviation\": -1.094972658411757}, {\"date\": \"2020-07-28T00:00:00+00:00\", \"Top 20 %\": 6.239175242569083, \"Bottom 20 %\": 5.18415973594802, \"Top 20 % Deviation\": 0.24058581945217564, \"Bottom 20 % Deviation\": -0.8144296871688816}, {\"date\": \"2020-07-29T00:00:00+00:00\", \"Top 20 %\": 6.600887304386257, \"Bottom 20 %\": 5.4154204308135805, \"Top 20 % Deviation\": 0.6022978812693481, \"Bottom 20 % Deviation\": -0.5831689923033214}, {\"date\": \"2020-07-30T00:00:00+00:00\", \"Top 20 %\": 6.545131729439343, \"Bottom 20 %\": 5.622663040688375, \"Top 20 % Deviation\": 0.5465423063224362, \"Bottom 20 % Deviation\": -0.37592638242852805}, {\"date\": \"2020-07-31T00:00:00+00:00\", \"Top 20 %\": 6.5748916782384015, \"Bottom 20 %\": 5.694026945852814, \"Top 20 % Deviation\": 0.5763022551214949, \"Bottom 20 % Deviation\": -0.304562477264089}, {\"date\": \"2020-08-01T00:00:00+00:00\", \"Top 20 %\": 6.377894423943053, \"Bottom 20 %\": 5.4100609840186475, \"Top 20 % Deviation\": 0.3793050008261469, \"Bottom 20 % Deviation\": -0.5885284390982548}, {\"date\": \"2020-08-02T00:00:00+00:00\", \"Top 20 %\": 6.051208319047559, \"Bottom 20 %\": 5.285617122551937, \"Top 20 % Deviation\": 0.05261889593065252, \"Bottom 20 % Deviation\": -0.712972300564966}, {\"date\": \"2020-08-03T00:00:00+00:00\", \"Top 20 %\": 5.971377134460397, \"Bottom 20 %\": 5.167129483924877, \"Top 20 % Deviation\": -0.027212288656509286, \"Bottom 20 % Deviation\": -0.8314599391920261}, {\"date\": \"2020-08-04T00:00:00+00:00\", \"Top 20 %\": 6.128298257017811, \"Bottom 20 %\": 5.292579378385443, \"Top 20 % Deviation\": 0.12970883390090462, \"Bottom 20 % Deviation\": -0.7060100447314597}, {\"date\": \"2020-08-05T00:00:00+00:00\", \"Top 20 %\": 6.336471764972367, \"Bottom 20 %\": 5.337385215668397, \"Top 20 % Deviation\": 0.33788234185546084, \"Bottom 20 % Deviation\": -0.6612042074485056}, {\"date\": \"2020-08-06T00:00:00+00:00\", \"Top 20 %\": 6.380978705685797, \"Bottom 20 %\": 5.4055883214887634, \"Top 20 % Deviation\": 0.3823892825688914, \"Bottom 20 % Deviation\": -0.5930011016281392}, {\"date\": \"2020-08-07T00:00:00+00:00\", \"Top 20 %\": 6.414761623351512, \"Bottom 20 %\": 5.388547003447627, \"Top 20 % Deviation\": 0.4161722002346063, \"Bottom 20 % Deviation\": -0.6100424196692757}, {\"date\": \"2020-08-08T00:00:00+00:00\", \"Top 20 %\": 6.196466282301146, \"Bottom 20 %\": 5.5184649775112335, \"Top 20 % Deviation\": 0.19787685918423942, \"Bottom 20 % Deviation\": -0.4801244456056697}, {\"date\": \"2020-08-09T00:00:00+00:00\", \"Top 20 %\": 6.023410484081922, \"Bottom 20 %\": 5.48325677278374, \"Top 20 % Deviation\": 0.02482106096501644, \"Bottom 20 % Deviation\": -0.5153326503331632}, {\"date\": \"2020-08-10T00:00:00+00:00\", \"Top 20 %\": 5.970573244626269, \"Bottom 20 %\": 5.472387466568492, \"Top 20 % Deviation\": -0.028016178490636534, \"Bottom 20 % Deviation\": -0.5262019565484111}, {\"date\": \"2020-08-11T00:00:00+00:00\", \"Top 20 %\": 6.121192767089125, \"Bottom 20 %\": 5.710282285930772, \"Top 20 % Deviation\": 0.12260334397221903, \"Bottom 20 % Deviation\": -0.28830713718613016}, {\"date\": \"2020-08-12T00:00:00+00:00\", \"Top 20 %\": 6.371647780563608, \"Bottom 20 %\": 5.969132013803093, \"Top 20 % Deviation\": 0.37305835744670235, \"Bottom 20 % Deviation\": -0.029457409313808823}, {\"date\": \"2020-08-13T00:00:00+00:00\", \"Top 20 %\": 6.496539363812721, \"Bottom 20 %\": 6.188673603817493, \"Top 20 % Deviation\": 0.497949940695816, \"Bottom 20 % Deviation\": 0.19008418070059116}, {\"date\": \"2020-08-14T00:00:00+00:00\", \"Top 20 %\": 6.4922928699231495, \"Bottom 20 %\": 6.12473277473782, \"Top 20 % Deviation\": 0.49370344680624456, \"Bottom 20 % Deviation\": 0.12614335162091797}, {\"date\": \"2020-08-15T00:00:00+00:00\", \"Top 20 %\": 6.297782067104357, \"Bottom 20 %\": 6.048535738535205, \"Top 20 % Deviation\": 0.2991926439874527, \"Bottom 20 % Deviation\": 0.04994631541830197}, {\"date\": \"2020-08-16T00:00:00+00:00\", \"Top 20 %\": 6.103030729762928, \"Bottom 20 %\": 6.122209190521032, \"Top 20 % Deviation\": 0.10444130664602325, \"Bottom 20 % Deviation\": 0.12361976740412972}, {\"date\": \"2020-08-17T00:00:00+00:00\", \"Top 20 %\": 6.077096281632971, \"Bottom 20 %\": 6.341055884463634, \"Top 20 % Deviation\": 0.07850685851606691, \"Bottom 20 % Deviation\": 0.34246646134673175}, {\"date\": \"2020-08-18T00:00:00+00:00\", \"Top 20 %\": 6.3042371133641755, \"Bottom 20 %\": 6.144383833508378, \"Top 20 % Deviation\": 0.30564769024727123, \"Bottom 20 % Deviation\": 0.14579441039147545}, {\"date\": \"2020-08-19T00:00:00+00:00\", \"Top 20 %\": 6.542026016285789, \"Bottom 20 %\": 6.1332912628101095, \"Top 20 % Deviation\": 0.5434365931688838, \"Bottom 20 % Deviation\": 0.1347018396932059}, {\"date\": \"2020-08-20T00:00:00+00:00\", \"Top 20 %\": 6.6632410766924295, \"Bottom 20 %\": 6.061166407137459, \"Top 20 % Deviation\": 0.6646516535755245, \"Bottom 20 % Deviation\": 0.0625769840205562}, {\"date\": \"2020-08-21T00:00:00+00:00\", \"Top 20 %\": 6.765292375462288, \"Bottom 20 %\": 5.999354805796308, \"Top 20 % Deviation\": 0.7667029523453825, \"Bottom 20 % Deviation\": 0.0007653826794057572}, {\"date\": \"2020-08-22T00:00:00+00:00\", \"Top 20 %\": 6.6155682539574725, \"Bottom 20 %\": 5.709192226426825, \"Top 20 % Deviation\": 0.6169788308405683, \"Bottom 20 % Deviation\": -0.289397196690078}, {\"date\": \"2020-08-23T00:00:00+00:00\", \"Top 20 %\": 6.483295862929799, \"Bottom 20 %\": 5.682159308751546, \"Top 20 % Deviation\": 0.48470643981289524, \"Bottom 20 % Deviation\": -0.31643011436535684}, {\"date\": \"2020-08-24T00:00:00+00:00\", \"Top 20 %\": 6.473353301046761, \"Bottom 20 %\": 5.587675535944735, \"Top 20 % Deviation\": 0.47476387792985664, \"Bottom 20 % Deviation\": -0.4109138871721683}, {\"date\": \"2020-08-25T00:00:00+00:00\", \"Top 20 %\": 6.8048287863962695, \"Bottom 20 %\": 5.774963261417173, \"Top 20 % Deviation\": 0.8062393632793657, \"Bottom 20 % Deviation\": -0.2236261616997301}, {\"date\": \"2020-08-26T00:00:00+00:00\", \"Top 20 %\": 7.094005616491275, \"Bottom 20 %\": 5.947740980026351, \"Top 20 % Deviation\": 1.0954161933743713, \"Bottom 20 % Deviation\": -0.05084844309055177}, {\"date\": \"2020-08-27T00:00:00+00:00\", \"Top 20 %\": 7.103054072527472, \"Bottom 20 %\": 5.607120966422262, \"Top 20 % Deviation\": 1.1044646494105683, \"Bottom 20 % Deviation\": -0.39146845669464037}, {\"date\": \"2020-08-28T00:00:00+00:00\", \"Top 20 %\": 7.177844277747342, \"Bottom 20 %\": 5.490190327700176, \"Top 20 % Deviation\": 1.1792548546304378, \"Bottom 20 % Deviation\": -0.5083990954167275}, {\"date\": \"2020-08-29T00:00:00+00:00\", \"Top 20 %\": 7.097242377187724, \"Bottom 20 %\": 5.58570732103818, \"Top 20 % Deviation\": 1.0986529540708208, \"Bottom 20 % Deviation\": -0.412882102078722}, {\"date\": \"2020-08-30T00:00:00+00:00\", \"Top 20 %\": 6.7758939119744825, \"Bottom 20 %\": 5.631952707081361, \"Top 20 % Deviation\": 0.7773044888575787, \"Bottom 20 % Deviation\": -0.3666367160355418}, {\"date\": \"2020-08-31T00:00:00+00:00\", \"Top 20 %\": 6.7829959237612245, \"Bottom 20 %\": 5.577113855194644, \"Top 20 % Deviation\": 0.7844065006443206, \"Bottom 20 % Deviation\": -0.4214755679222586}, {\"date\": \"2020-09-01T00:00:00+00:00\", \"Top 20 %\": 7.027113221097051, \"Bottom 20 %\": 5.696385911827349, \"Top 20 % Deviation\": 1.028523797980147, \"Bottom 20 % Deviation\": -0.30220351128955314}, {\"date\": \"2020-09-02T00:00:00+00:00\", \"Top 20 %\": 7.193474430839504, \"Bottom 20 %\": 5.904265296189127, \"Top 20 % Deviation\": 1.1948850077226008, \"Bottom 20 % Deviation\": -0.09432412692777521}, {\"date\": \"2020-09-03T00:00:00+00:00\", \"Top 20 %\": 7.312922387490535, \"Bottom 20 %\": 6.0206733318343355, \"Top 20 % Deviation\": 1.3143329643736312, \"Bottom 20 % Deviation\": 0.022083908717432665}, {\"date\": \"2020-09-04T00:00:00+00:00\", \"Top 20 %\": 7.133944256165165, \"Bottom 20 %\": 5.750015080992292, \"Top 20 % Deviation\": 1.1353548330482606, \"Bottom 20 % Deviation\": -0.24857434212461033}, {\"date\": \"2020-09-05T00:00:00+00:00\", \"Top 20 %\": 6.976812535111731, \"Bottom 20 %\": 5.5223814566334966, \"Top 20 % Deviation\": 0.9782231119948268, \"Bottom 20 % Deviation\": -0.4762079664834058}, {\"date\": \"2020-09-06T00:00:00+00:00\", \"Top 20 %\": 6.705311128482405, \"Bottom 20 %\": 5.477474197375812, \"Top 20 % Deviation\": 0.7067217053655013, \"Bottom 20 % Deviation\": -0.5211152257410906}, {\"date\": \"2020-09-07T00:00:00+00:00\", \"Top 20 %\": 6.371296587472398, \"Bottom 20 %\": 5.435918095393754, \"Top 20 % Deviation\": 0.3727071643554942, \"Bottom 20 % Deviation\": -0.5626713277231488}, {\"date\": \"2020-09-08T00:00:00+00:00\", \"Top 20 %\": 6.462723566740299, \"Bottom 20 %\": 5.193647182924339, \"Top 20 % Deviation\": 0.46413414362339556, \"Bottom 20 % Deviation\": -0.8049422401925639}, {\"date\": \"2020-09-09T00:00:00+00:00\", \"Top 20 %\": 6.712710666859657, \"Bottom 20 %\": 5.241026960073196, \"Top 20 % Deviation\": 0.7141212437427535, \"Bottom 20 % Deviation\": -0.7575624630437067}, {\"date\": \"2020-09-10T00:00:00+00:00\", \"Top 20 %\": 6.6679352181938, \"Bottom 20 %\": 5.509592750711739, \"Top 20 % Deviation\": 0.6693457950768968, \"Bottom 20 % Deviation\": -0.4889966724051642}, {\"date\": \"2020-09-11T00:00:00+00:00\", \"Top 20 %\": 6.616722761698838, \"Bottom 20 %\": 5.92349023863912, \"Top 20 % Deviation\": 0.6181333385819339, \"Bottom 20 % Deviation\": -0.07509918447778219}, {\"date\": \"2020-09-12T00:00:00+00:00\", \"Top 20 %\": 6.3329766055002015, \"Bottom 20 %\": 5.516168295304334, \"Top 20 % Deviation\": 0.3343871823832978, \"Bottom 20 % Deviation\": -0.4824211278125684}, {\"date\": \"2020-09-13T00:00:00+00:00\", \"Top 20 %\": 6.023546243913254, \"Bottom 20 %\": 5.6002485531551205, \"Top 20 % Deviation\": 0.024956820796349356, \"Bottom 20 % Deviation\": -0.39834086996178203}, {\"date\": \"2020-09-14T00:00:00+00:00\", \"Top 20 %\": 6.088402815849358, \"Bottom 20 %\": 5.6836780908542215, \"Top 20 % Deviation\": 0.08981339273245395, \"Bottom 20 % Deviation\": -0.31491133226268037}, {\"date\": \"2020-09-15T00:00:00+00:00\", \"Top 20 %\": 6.110780676898361, \"Bottom 20 %\": 5.493276829807667, \"Top 20 % Deviation\": 0.11219125378145618, \"Bottom 20 % Deviation\": -0.5053125933092353}, {\"date\": \"2020-09-16T00:00:00+00:00\", \"Top 20 %\": 6.434207077641176, \"Bottom 20 %\": 6.09643104479958, \"Top 20 % Deviation\": 0.4356176545242717, \"Bottom 20 % Deviation\": 0.09784162168267843}, {\"date\": \"2020-09-17T00:00:00+00:00\", \"Top 20 %\": 6.742979867168108, \"Bottom 20 %\": 6.325060813973357, \"Top 20 % Deviation\": 0.744390444051203, \"Bottom 20 % Deviation\": 0.32647139085645543}, {\"date\": \"2020-09-18T00:00:00+00:00\", \"Top 20 %\": 6.775219440481891, \"Bottom 20 %\": 6.265653381841608, \"Top 20 % Deviation\": 0.7766300173649865, \"Bottom 20 % Deviation\": 0.26706395872470623}, {\"date\": \"2020-09-19T00:00:00+00:00\", \"Top 20 %\": 6.603344339095837, \"Bottom 20 %\": 6.102737261562278, \"Top 20 % Deviation\": 0.6047549159789322, \"Bottom 20 % Deviation\": 0.10414783844537548}, {\"date\": \"2020-09-20T00:00:00+00:00\", \"Top 20 %\": 6.386812059156922, \"Bottom 20 %\": 5.762252259013021, \"Top 20 % Deviation\": 0.3882226360400168, \"Bottom 20 % Deviation\": -0.23633716410388167}, {\"date\": \"2020-09-21T00:00:00+00:00\", \"Top 20 %\": 6.5490072924468326, \"Bottom 20 %\": 5.484357178386067, \"Top 20 % Deviation\": 0.5504178693299271, \"Bottom 20 % Deviation\": -0.5142322447308356}, {\"date\": \"2020-09-22T00:00:00+00:00\", \"Top 20 %\": 6.815202024287697, \"Bottom 20 %\": 5.769242907388711, \"Top 20 % Deviation\": 0.8166126011707909, \"Bottom 20 % Deviation\": -0.2293465157281911}, {\"date\": \"2020-09-23T00:00:00+00:00\", \"Top 20 %\": 7.060724295287618, \"Bottom 20 %\": 5.711514724491349, \"Top 20 % Deviation\": 1.0621348721707116, \"Bottom 20 % Deviation\": -0.28707469862555396}, {\"date\": \"2020-09-24T00:00:00+00:00\", \"Top 20 %\": 7.108208031724786, \"Bottom 20 %\": 5.838325513112535, \"Top 20 % Deviation\": 1.1096186086078794, \"Bottom 20 % Deviation\": -0.16026391000436752}, {\"date\": \"2020-09-25T00:00:00+00:00\", \"Top 20 %\": 7.289449178327393, \"Bottom 20 %\": 5.920731269969591, \"Top 20 % Deviation\": 1.2908597552104861, \"Bottom 20 % Deviation\": -0.0778581531473121}, {\"date\": \"2020-09-26T00:00:00+00:00\", \"Top 20 %\": 7.025248144077321, \"Bottom 20 %\": 5.141019377295395, \"Top 20 % Deviation\": 1.0266587209604134, \"Bottom 20 % Deviation\": -0.8575700458215072}, {\"date\": \"2020-09-27T00:00:00+00:00\", \"Top 20 %\": 6.758694154531237, \"Bottom 20 %\": 4.902979959388395, \"Top 20 % Deviation\": 0.7601047314143297, \"Bottom 20 % Deviation\": -1.0956094637285076}, {\"date\": \"2020-09-28T00:00:00+00:00\", \"Top 20 %\": 6.71171999608126, \"Bottom 20 %\": 5.033152642769037, \"Top 20 % Deviation\": 0.7131305729643515, \"Bottom 20 % Deviation\": -0.9654367803478646}, {\"date\": \"2020-09-29T00:00:00+00:00\", \"Top 20 %\": 7.003355322409457, \"Bottom 20 %\": 5.319640866993818, \"Top 20 % Deviation\": 1.0047658992925492, \"Bottom 20 % Deviation\": -0.6789485561230848}, {\"date\": \"2020-09-30T00:00:00+00:00\", \"Top 20 %\": 7.189267286032558, \"Bottom 20 %\": 5.69479232222673, \"Top 20 % Deviation\": 1.1906778629156498, \"Bottom 20 % Deviation\": -0.30379710089017237}, {\"date\": \"2020-10-01T00:00:00+00:00\", \"Top 20 %\": 7.078200111640837, \"Bottom 20 %\": 5.756415204512505, \"Top 20 % Deviation\": 1.0796106885239294, \"Bottom 20 % Deviation\": -0.24217421860439686}, {\"date\": \"2020-10-02T00:00:00+00:00\", \"Top 20 %\": 7.0856948920269245, \"Bottom 20 %\": 5.647695435909016, \"Top 20 % Deviation\": 1.0871054689100161, \"Bottom 20 % Deviation\": -0.3508939872078865}, {\"date\": \"2020-10-03T00:00:00+00:00\", \"Top 20 %\": 6.926612826541648, \"Bottom 20 %\": 5.577632123718267, \"Top 20 % Deviation\": 0.92802340342474, \"Bottom 20 % Deviation\": -0.42095729939863585}, {\"date\": \"2020-10-04T00:00:00+00:00\", \"Top 20 %\": 6.528503179455716, \"Bottom 20 %\": 5.290291739407662, \"Top 20 % Deviation\": 0.529913756338808, \"Bottom 20 % Deviation\": -0.7082976837092401}, {\"date\": \"2020-10-05T00:00:00+00:00\", \"Top 20 %\": 6.382985904367494, \"Bottom 20 %\": 5.304095421784792, \"Top 20 % Deviation\": 0.3843964812505867, \"Bottom 20 % Deviation\": -0.6944940013321107}, {\"date\": \"2020-10-06T00:00:00+00:00\", \"Top 20 %\": 6.636485089276005, \"Bottom 20 %\": 5.488131792376951, \"Top 20 % Deviation\": 0.6378956661590969, \"Bottom 20 % Deviation\": -0.5104576307399515}, {\"date\": \"2020-10-07T00:00:00+00:00\", \"Top 20 %\": 6.820351397783329, \"Bottom 20 %\": 5.634677432286021, \"Top 20 % Deviation\": 0.821761974666422, \"Bottom 20 % Deviation\": -0.36391199083088094}, {\"date\": \"2020-10-08T00:00:00+00:00\", \"Top 20 %\": 6.900166248095237, \"Bottom 20 %\": 5.846466309367278, \"Top 20 % Deviation\": 0.901576824978331, \"Bottom 20 % Deviation\": -0.15212311374962467}, {\"date\": \"2020-10-09T00:00:00+00:00\", \"Top 20 %\": 6.798653157522759, \"Bottom 20 %\": 5.678451770022432, \"Top 20 % Deviation\": 0.8000637344058521, \"Bottom 20 % Deviation\": -0.3201376530944697}, {\"date\": \"2020-10-10T00:00:00+00:00\", \"Top 20 %\": 6.6570351181191, \"Bottom 20 %\": 5.350145548133609, \"Top 20 % Deviation\": 0.6584456950021935, \"Bottom 20 % Deviation\": -0.6484438749832929}, {\"date\": \"2020-10-11T00:00:00+00:00\", \"Top 20 %\": 6.352275063810528, \"Bottom 20 %\": 5.2900669446278625, \"Top 20 % Deviation\": 0.3536856406936214, \"Bottom 20 % Deviation\": -0.7085224784890388}, {\"date\": \"2020-10-12T00:00:00+00:00\", \"Top 20 %\": 6.209718211020775, \"Bottom 20 %\": 5.136933202031682, \"Top 20 % Deviation\": 0.2111287879038673, \"Bottom 20 % Deviation\": -0.86165622108522}, {\"date\": \"2020-10-13T00:00:00+00:00\", \"Top 20 %\": 6.448708868342363, \"Bottom 20 %\": 5.766134526567856, \"Top 20 % Deviation\": 0.4501194452254553, \"Bottom 20 % Deviation\": -0.23245489654904503}, {\"date\": \"2020-10-14T00:00:00+00:00\", \"Top 20 %\": 6.946816339353693, \"Bottom 20 %\": 6.057206500241953, \"Top 20 % Deviation\": 0.9482269162367839, \"Bottom 20 % Deviation\": 0.05861707712505142}, {\"date\": \"2020-10-15T00:00:00+00:00\", \"Top 20 %\": 6.992065301502278, \"Bottom 20 %\": 6.186931422583343, \"Top 20 % Deviation\": 0.9934758783853702, \"Bottom 20 % Deviation\": 0.18834199946644156}, {\"date\": \"2020-10-16T00:00:00+00:00\", \"Top 20 %\": 7.022762352142074, \"Bottom 20 %\": 6.2540948918226125, \"Top 20 % Deviation\": 1.0241729290251667, \"Bottom 20 % Deviation\": 0.25550546870571217}, {\"date\": \"2020-10-17T00:00:00+00:00\", \"Top 20 %\": 6.927305635683615, \"Bottom 20 %\": 6.212878295754545, \"Top 20 % Deviation\": 0.9287162125667084, \"Bottom 20 % Deviation\": 0.2142888726376441}, {\"date\": \"2020-10-18T00:00:00+00:00\", \"Top 20 %\": 6.603785392130561, \"Bottom 20 %\": 5.875456217477762, \"Top 20 % Deviation\": 0.6051959690136537, \"Bottom 20 % Deviation\": -0.12313320563913983}, {\"date\": \"2020-10-19T00:00:00+00:00\", \"Top 20 %\": 6.60280647939814, \"Bottom 20 %\": 6.015496053050612, \"Top 20 % Deviation\": 0.6042170562812326, \"Bottom 20 % Deviation\": 0.016906629933709994}, {\"date\": \"2020-10-20T00:00:00+00:00\", \"Top 20 %\": 6.806236914554598, \"Bottom 20 %\": 6.0610691924946885, \"Top 20 % Deviation\": 0.8076474914376901, \"Bottom 20 % Deviation\": 0.06247976937778601}, {\"date\": \"2020-10-21T00:00:00+00:00\", \"Top 20 %\": 7.117533986552511, \"Bottom 20 %\": 6.093338518659026, \"Top 20 % Deviation\": 1.1189445634356026, \"Bottom 20 % Deviation\": 0.09474909554212356}, {\"date\": \"2020-10-22T00:00:00+00:00\", \"Top 20 %\": 7.247609879924044, \"Bottom 20 %\": 6.068477269596179, \"Top 20 % Deviation\": 1.2490204568071364, \"Bottom 20 % Deviation\": 0.06988784647927657}, {\"date\": \"2020-10-23T00:00:00+00:00\", \"Top 20 %\": 7.12956773224987, \"Bottom 20 %\": 5.441591175061745, \"Top 20 % Deviation\": 1.1309783091329635, \"Bottom 20 % Deviation\": -0.5569982480551576}, {\"date\": \"2020-10-24T00:00:00+00:00\", \"Top 20 %\": 6.809587832579611, \"Bottom 20 %\": 5.401807550679985, \"Top 20 % Deviation\": 0.8109984094627036, \"Bottom 20 % Deviation\": -0.5967818724369187}, {\"date\": \"2020-10-25T00:00:00+00:00\", \"Top 20 %\": 6.514030177078006, \"Bottom 20 %\": 5.37522448984442, \"Top 20 % Deviation\": 0.5154407539610972, \"Bottom 20 % Deviation\": -0.6233649332724827}, {\"date\": \"2020-10-26T00:00:00+00:00\", \"Top 20 %\": 6.425493892021812, \"Bottom 20 %\": 5.542001451124536, \"Top 20 % Deviation\": 0.4269044689049034, \"Bottom 20 % Deviation\": -0.4565879719923678}, {\"date\": \"2020-10-27T00:00:00+00:00\", \"Top 20 %\": 6.537351899912062, \"Bottom 20 %\": 5.521114425806465, \"Top 20 % Deviation\": 0.5387624767951527, \"Bottom 20 % Deviation\": -0.47747499731043935}, {\"date\": \"2020-10-28T00:00:00+00:00\", \"Top 20 %\": 6.818047149062866, \"Bottom 20 %\": 5.866299623283448, \"Top 20 % Deviation\": 0.8194577259459566, \"Bottom 20 % Deviation\": -0.1322897998334563}, {\"date\": \"2020-10-29T00:00:00+00:00\", \"Top 20 %\": 6.876219928757855, \"Bottom 20 %\": 5.936730653693351, \"Top 20 % Deviation\": 0.8776305056409454, \"Bottom 20 % Deviation\": -0.061858769423552576}, {\"date\": \"2020-10-30T00:00:00+00:00\", \"Top 20 %\": 6.827687190414105, \"Bottom 20 %\": 6.280903920365994, \"Top 20 % Deviation\": 0.8290977672971949, \"Bottom 20 % Deviation\": 0.282314497249091}, {\"date\": \"2020-10-31T00:00:00+00:00\", \"Top 20 %\": 6.5498059101460395, \"Bottom 20 %\": 6.472677819137475, \"Top 20 % Deviation\": 0.5512164870291303, \"Bottom 20 % Deviation\": 0.47408839602057123}, {\"date\": \"2020-11-01T00:00:00+00:00\", \"Top 20 %\": 7.016348332394017, \"Bottom 20 %\": 8.135158235005873, \"Top 20 % Deviation\": 1.017758909277108, \"Bottom 20 % Deviation\": 2.13656881188897}, {\"date\": \"2020-11-02T00:00:00+00:00\", \"Top 20 %\": 7.1606148090448185, \"Bottom 20 %\": 8.548630525685276, \"Top 20 % Deviation\": 1.162025385927909, \"Bottom 20 % Deviation\": 2.550041102568372}, {\"date\": \"2020-11-03T00:00:00+00:00\", \"Top 20 %\": 7.404043870507023, \"Bottom 20 %\": 8.34954838758098, \"Top 20 % Deviation\": 1.4054544473901136, \"Bottom 20 % Deviation\": 2.350958964464076}, {\"date\": \"2020-11-04T00:00:00+00:00\", \"Top 20 %\": 7.806071413876393, \"Bottom 20 %\": 8.559788313361375, \"Top 20 % Deviation\": 1.8074819907594837, \"Bottom 20 % Deviation\": 2.5611988902444707}, {\"date\": \"2020-11-05T00:00:00+00:00\", \"Top 20 %\": 7.967691102054028, \"Bottom 20 %\": 8.605361714530876, \"Top 20 % Deviation\": 1.9691016789371178, \"Bottom 20 % Deviation\": 2.6067722914139715}, {\"date\": \"2020-11-06T00:00:00+00:00\", \"Top 20 %\": 8.202966984199037, \"Bottom 20 %\": 8.925410750860662, \"Top 20 % Deviation\": 2.204377561082128, \"Bottom 20 % Deviation\": 2.9268213277437587}, {\"date\": \"2020-11-07T00:00:00+00:00\", \"Top 20 %\": 8.138707519516343, \"Bottom 20 %\": 8.669822634012672, \"Top 20 % Deviation\": 2.1401180963994353, \"Bottom 20 % Deviation\": 2.6712332108957684}, {\"date\": \"2020-11-08T00:00:00+00:00\", \"Top 20 %\": 8.017272416570346, \"Bottom 20 %\": 8.529922699886509, \"Top 20 % Deviation\": 2.0186829934534383, \"Bottom 20 % Deviation\": 2.5313332767696055}, {\"date\": \"2020-11-09T00:00:00+00:00\", \"Top 20 %\": 8.203139985364839, \"Bottom 20 %\": 8.464835638058815, \"Top 20 % Deviation\": 2.204550562247932, \"Bottom 20 % Deviation\": 2.46624621494191}, {\"date\": \"2020-11-10T00:00:00+00:00\", \"Top 20 %\": 8.614574397834609, \"Bottom 20 %\": 8.565165004091174, \"Top 20 % Deviation\": 2.615984974717701, \"Bottom 20 % Deviation\": 2.5665755809742663}, {\"date\": \"2020-11-11T00:00:00+00:00\", \"Top 20 %\": 8.217625169591003, \"Bottom 20 %\": 7.136087817149326, \"Top 20 % Deviation\": 2.2190357464740935, \"Bottom 20 % Deviation\": 1.137498394032419}, {\"date\": \"2020-11-12T00:00:00+00:00\", \"Top 20 %\": 8.222737936985116, \"Bottom 20 %\": 6.9541627937550485, \"Top 20 % Deviation\": 2.224148513868207, \"Bottom 20 % Deviation\": 0.9555733706381428}, {\"date\": \"2020-11-13T00:00:00+00:00\", \"Top 20 %\": 8.306316061645113, \"Bottom 20 %\": 7.202822366519288, \"Top 20 % Deviation\": 2.307726638528204, \"Bottom 20 % Deviation\": 1.2042329434023833}, {\"date\": \"2020-11-14T00:00:00+00:00\", \"Top 20 %\": 8.139561235763527, \"Bottom 20 %\": 7.319673364153036, \"Top 20 % Deviation\": 2.140971812646619, \"Bottom 20 % Deviation\": 1.3210839410361301}, {\"date\": \"2020-11-15T00:00:00+00:00\", \"Top 20 %\": 7.826235914650239, \"Bottom 20 %\": 7.1690410656946515, \"Top 20 % Deviation\": 1.8276464915333306, \"Bottom 20 % Deviation\": 1.170451642577745}, {\"date\": \"2020-11-16T00:00:00+00:00\", \"Top 20 %\": 7.736389148840812, \"Bottom 20 %\": 7.073145522776912, \"Top 20 % Deviation\": 1.7377997257239024, \"Bottom 20 % Deviation\": 1.0745560996600054}, {\"date\": \"2020-11-17T00:00:00+00:00\", \"Top 20 %\": 7.817359642217246, \"Bottom 20 %\": 6.9849995046287585, \"Top 20 % Deviation\": 1.8187702191003374, \"Bottom 20 % Deviation\": 0.9864100815118524}, {\"date\": \"2020-11-18T00:00:00+00:00\", \"Top 20 %\": 7.935432345337446, \"Bottom 20 %\": 6.837981815289432, \"Top 20 % Deviation\": 1.9368429222205372, \"Bottom 20 % Deviation\": 0.8393923921725255}, {\"date\": \"2020-11-19T00:00:00+00:00\", \"Top 20 %\": 7.837835564169777, \"Bottom 20 %\": 6.588160277136167, \"Top 20 % Deviation\": 1.839246141052867, \"Bottom 20 % Deviation\": 0.5895708540192612}, {\"date\": \"2020-11-20T00:00:00+00:00\", \"Top 20 %\": 7.7611343922769835, \"Bottom 20 %\": 6.0270527355689065, \"Top 20 % Deviation\": 1.762544969160075, \"Bottom 20 % Deviation\": 0.028463312452001465}, {\"date\": \"2020-11-21T00:00:00+00:00\", \"Top 20 %\": 7.622773276939999, \"Bottom 20 %\": 5.764847635971972, \"Top 20 % Deviation\": 1.6241838538230908, \"Bottom 20 % Deviation\": -0.23374178714493338}, {\"date\": \"2020-11-22T00:00:00+00:00\", \"Top 20 %\": 7.325044900715031, \"Bottom 20 %\": 5.437510728296383, \"Top 20 % Deviation\": 1.3264554775981232, \"Bottom 20 % Deviation\": -0.561078694820522}, {\"date\": \"2020-11-23T00:00:00+00:00\", \"Top 20 %\": 7.283555335953421, \"Bottom 20 %\": 5.487852215370015, \"Top 20 % Deviation\": 1.2849659128365138, \"Bottom 20 % Deviation\": -0.5107372077468891}, {\"date\": \"2020-11-24T00:00:00+00:00\", \"Top 20 %\": 7.358701216638414, \"Bottom 20 %\": 5.145752510233519, \"Top 20 % Deviation\": 1.3601117935215055, \"Bottom 20 % Deviation\": -0.852836912883385}, {\"date\": \"2020-11-25T00:00:00+00:00\", \"Top 20 %\": 7.431164609838769, \"Bottom 20 %\": 5.075438879193344, \"Top 20 % Deviation\": 1.4325751867218597, \"Bottom 20 % Deviation\": -0.9231505439235607}, {\"date\": \"2020-11-26T00:00:00+00:00\", \"Top 20 %\": 7.428291503382603, \"Bottom 20 %\": 5.094256954322687, \"Top 20 % Deviation\": 1.4297020802656948, \"Bottom 20 % Deviation\": -0.9043324687942167}, {\"date\": \"2020-11-27T00:00:00+00:00\", \"Top 20 %\": 7.282554517158137, \"Bottom 20 %\": 5.241161234717097, \"Top 20 % Deviation\": 1.2839650940412288, \"Bottom 20 % Deviation\": -0.7574281883998073}, {\"date\": \"2020-11-28T00:00:00+00:00\", \"Top 20 %\": 7.222881573681309, \"Bottom 20 %\": 5.380071598637642, \"Top 20 % Deviation\": 1.2242921505644004, \"Bottom 20 % Deviation\": -0.6185178244792627}, {\"date\": \"2020-11-29T00:00:00+00:00\", \"Top 20 %\": 6.937846432990011, \"Bottom 20 %\": 5.222371082435496, \"Top 20 % Deviation\": 0.9392570098731033, \"Bottom 20 % Deviation\": -0.7762183406814093}, {\"date\": \"2020-11-30T00:00:00+00:00\", \"Top 20 %\": 6.850665728709695, \"Bottom 20 %\": 5.569010924236968, \"Top 20 % Deviation\": 0.8520763055927871, \"Bottom 20 % Deviation\": -0.4295784988799364}, {\"date\": \"2020-12-01T00:00:00+00:00\", \"Top 20 %\": 6.94975981441285, \"Bottom 20 %\": 5.781935115127229, \"Top 20 % Deviation\": 0.9511703912959433, \"Bottom 20 % Deviation\": -0.21665430798967575}, {\"date\": \"2020-12-02T00:00:00+00:00\", \"Top 20 %\": 7.228026301903171, \"Bottom 20 %\": 5.955641880494921, \"Top 20 % Deviation\": 1.2294368787862635, \"Bottom 20 % Deviation\": -0.04294754262198319}, {\"date\": \"2020-12-03T00:00:00+00:00\", \"Top 20 %\": 7.192970322605146, \"Bottom 20 %\": 5.8947282729933965, \"Top 20 % Deviation\": 1.1943808994882388, \"Bottom 20 % Deviation\": -0.10386115012350813}, {\"date\": \"2020-12-04T00:00:00+00:00\", \"Top 20 %\": 7.241191430993597, \"Bottom 20 %\": 5.946400513155953, \"Top 20 % Deviation\": 1.24260200787669, \"Bottom 20 % Deviation\": -0.05218890996095116}, {\"date\": \"2020-12-05T00:00:00+00:00\", \"Top 20 %\": 7.306638564365796, \"Bottom 20 %\": 5.8787379193746805, \"Top 20 % Deviation\": 1.3080491412488908, \"Bottom 20 % Deviation\": -0.11985150374222471}, {\"date\": \"2020-12-06T00:00:00+00:00\", \"Top 20 %\": 7.028746795465947, \"Bottom 20 %\": 5.811583839772878, \"Top 20 % Deviation\": 1.0301573723490418, \"Bottom 20 % Deviation\": -0.18700558334402784}, {\"date\": \"2020-12-07T00:00:00+00:00\", \"Top 20 %\": 7.164395967222397, \"Bottom 20 %\": 5.770914947914335, \"Top 20 % Deviation\": 1.16580654410549, \"Bottom 20 % Deviation\": -0.22767447520257011}, {\"date\": \"2020-12-08T00:00:00+00:00\", \"Top 20 %\": 7.2100610553158715, \"Bottom 20 %\": 5.984611219160419, \"Top 20 % Deviation\": 1.2114716321989645, \"Bottom 20 % Deviation\": -0.013978203956486013}, {\"date\": \"2020-12-09T00:00:00+00:00\", \"Top 20 %\": 7.5276485235691455, \"Bottom 20 %\": 6.374775306588705, \"Top 20 % Deviation\": 1.5290591004522374, \"Bottom 20 % Deviation\": 0.3761858834718012}, {\"date\": \"2020-12-10T00:00:00+00:00\", \"Top 20 %\": 7.5724193566586635, \"Bottom 20 %\": 6.48694786607598, \"Top 20 % Deviation\": 1.5738299335417554, \"Bottom 20 % Deviation\": 0.4883584429590764}, {\"date\": \"2020-12-11T00:00:00+00:00\", \"Top 20 %\": 7.643675222549904, \"Bottom 20 %\": 6.604455072369196, \"Top 20 % Deviation\": 1.6450857994329957, \"Bottom 20 % Deviation\": 0.6058656492522927}, {\"date\": \"2020-12-12T00:00:00+00:00\", \"Top 20 %\": 7.5018725517742855, \"Bottom 20 %\": 6.601465953787108, \"Top 20 % Deviation\": 1.5032831286573773, \"Bottom 20 % Deviation\": 0.6028765306702055}, {\"date\": \"2020-12-13T00:00:00+00:00\", \"Top 20 %\": 7.310131804025699, \"Bottom 20 %\": 6.6148087423399815, \"Top 20 % Deviation\": 1.3115423809087912, \"Bottom 20 % Deviation\": 0.6162193192230782}, {\"date\": \"2020-12-14T00:00:00+00:00\", \"Top 20 %\": 7.341020636373369, \"Bottom 20 %\": 7.330914759035954, \"Top 20 % Deviation\": 1.342431213256462, \"Bottom 20 % Deviation\": 1.3323253359190508}, {\"date\": \"2020-12-15T00:00:00+00:00\", \"Top 20 %\": 7.443910246776767, \"Bottom 20 %\": 7.428868397059931, \"Top 20 % Deviation\": 1.4453208236598587, \"Bottom 20 % Deviation\": 1.4302789739430275}, {\"date\": \"2020-12-16T00:00:00+00:00\", \"Top 20 %\": 7.678697455141713, \"Bottom 20 %\": 7.292511585125633, \"Top 20 % Deviation\": 1.6801080320248052, \"Bottom 20 % Deviation\": 1.293922162008729}, {\"date\": \"2020-12-17T00:00:00+00:00\", \"Top 20 %\": 7.747829936177544, \"Bottom 20 %\": 7.3201583487059, \"Top 20 % Deviation\": 1.7492405130606372, \"Bottom 20 % Deviation\": 1.3215689255889962}, {\"date\": \"2020-12-18T00:00:00+00:00\", \"Top 20 %\": 7.78015187080801, \"Bottom 20 %\": 7.2665418173366305, \"Top 20 % Deviation\": 1.7815624476911025, \"Bottom 20 % Deviation\": 1.2679523942197275}, {\"date\": \"2020-12-19T00:00:00+00:00\", \"Top 20 %\": 7.636982229446337, \"Bottom 20 %\": 7.105943757750069, \"Top 20 % Deviation\": 1.6383928063294317, \"Bottom 20 % Deviation\": 1.107354334633167}, {\"date\": \"2020-12-20T00:00:00+00:00\", \"Top 20 %\": 7.448095839317638, \"Bottom 20 %\": 6.813356391401816, \"Top 20 % Deviation\": 1.449506416200732, \"Bottom 20 % Deviation\": 0.8147669682849127}, {\"date\": \"2020-12-21T00:00:00+00:00\", \"Top 20 %\": 7.317693448142634, \"Bottom 20 %\": 6.877942894872656, \"Top 20 % Deviation\": 1.3191040250257293, \"Bottom 20 % Deviation\": 0.8793534717557538}, {\"date\": \"2020-12-22T00:00:00+00:00\", \"Top 20 %\": 7.453742121563598, \"Bottom 20 %\": 6.990589844244328, \"Top 20 % Deviation\": 1.455152698446693, \"Bottom 20 % Deviation\": 0.992000421127426}, {\"date\": \"2020-12-23T00:00:00+00:00\", \"Top 20 %\": 7.629013411923649, \"Bottom 20 %\": 7.15839567484552, \"Top 20 % Deviation\": 1.6304239888067413, \"Bottom 20 % Deviation\": 1.1598062517286192}, {\"date\": \"2020-12-24T00:00:00+00:00\", \"Top 20 %\": 7.558877294372538, \"Bottom 20 %\": 6.382109173750248, \"Top 20 % Deviation\": 1.5602878712556303, \"Bottom 20 % Deviation\": 0.38351975063334576}, {\"date\": \"2020-12-25T00:00:00+00:00\", \"Top 20 %\": 7.59354676471119, \"Bottom 20 %\": 6.836482147921546, \"Top 20 % Deviation\": 1.594957341594283, \"Bottom 20 % Deviation\": 0.8378927248046445}, {\"date\": \"2020-12-26T00:00:00+00:00\", \"Top 20 %\": 7.453176102933583, \"Bottom 20 %\": 7.165240223426798, \"Top 20 % Deviation\": 1.4545866798166747, \"Bottom 20 % Deviation\": 1.1666508003098959}, {\"date\": \"2020-12-27T00:00:00+00:00\", \"Top 20 %\": 7.3143753982235795, \"Bottom 20 %\": 7.172109829367268, \"Top 20 % Deviation\": 1.3157859751066716, \"Bottom 20 % Deviation\": 1.1735204062503646}, {\"date\": \"2020-12-28T00:00:00+00:00\", \"Top 20 %\": 7.316651038029387, \"Bottom 20 %\": 6.924366466624119, \"Top 20 % Deviation\": 1.318061614912479, \"Bottom 20 % Deviation\": 0.9257770435072151}, {\"date\": \"2020-12-29T00:00:00+00:00\", \"Top 20 %\": 7.395024624242383, \"Bottom 20 %\": 6.892135615024887, \"Top 20 % Deviation\": 1.3964352011254744, \"Bottom 20 % Deviation\": 0.8935461919079831}, {\"date\": \"2020-12-30T00:00:00+00:00\", \"Top 20 %\": 7.50340238416041, \"Bottom 20 %\": 6.899780650159523, \"Top 20 % Deviation\": 1.5048129610435002, \"Bottom 20 % Deviation\": 0.9011912270426201}, {\"date\": \"2020-12-31T00:00:00+00:00\", \"Top 20 %\": 7.5541295770177666, \"Bottom 20 %\": 6.572949484912503, \"Top 20 % Deviation\": 1.555540153900857, \"Bottom 20 % Deviation\": 0.5743600617956}]}}, {\"mode\": \"vega-lite\"});\n",
              "</script>"
            ]
          },
          "metadata": {
            "tags": []
          },
          "execution_count": 26
        },
        {
          "output_type": "stream",
          "text": [
            "time: 149 ms (started: 2021-04-25 03:32:38 +00:00)\n"
          ],
          "name": "stdout"
        }
      ]
    },
    {
      "cell_type": "code",
      "metadata": {
        "colab": {
          "base_uri": "https://localhost:8080/"
        },
        "id": "owhSJQqe7rVM",
        "outputId": "b1376260-1c5c-419e-9a40-50b644c82b18"
      },
      "source": [
        "#Conversion of datetime format\n",
        "df['date'] = pd.to_datetime(df['date'],utc= True)\n",
        "#df['date'] = [datetime.datetime.date(d) for d in df['date']] "
      ],
      "execution_count": null,
      "outputs": [
        {
          "output_type": "stream",
          "text": [
            "time: 6 ms (started: 2021-04-25 03:32:38 +00:00)\n"
          ],
          "name": "stdout"
        }
      ]
    },
    {
      "cell_type": "markdown",
      "metadata": {
        "id": "yCVL0_NiBLU0"
      },
      "source": [
        "Filtering based on important dates\n",
        "\n",
        "**March 17, 2020:**\n",
        "Governor Pritzker announced statewide school closures beginning March 17 until March 30.\n",
        "\n",
        "\n",
        "\n",
        "\n",
        "\n",
        "\n",
        "\n",
        "\n",
        "\n",
        "\n"
      ]
    },
    {
      "cell_type": "code",
      "metadata": {
        "colab": {
          "base_uri": "https://localhost:8080/",
          "height": 387
        },
        "id": "gelkUE5NBJps",
        "outputId": "ae05d5f9-7794-42b1-972d-e3eee72a5433"
      },
      "source": [
        "start_date = '2020-3-12'\n",
        "end_date = '2020-4-3'\n",
        "df1 = apply_date_filter(df,start_date,end_date)\n",
        "chart = create_chart(df1)\n",
        "chart"
      ],
      "execution_count": null,
      "outputs": [
        {
          "output_type": "execute_result",
          "data": {
            "text/plain": [
              "alt.LayerChart(...)"
            ],
            "text/html": [
              "\n",
              "<div id=\"altair-viz-657cc753a3d2444db2edfe84ea9a2c63\"></div>\n",
              "<script type=\"text/javascript\">\n",
              "  (function(spec, embedOpt){\n",
              "    let outputDiv = document.currentScript.previousElementSibling;\n",
              "    if (outputDiv.id !== \"altair-viz-657cc753a3d2444db2edfe84ea9a2c63\") {\n",
              "      outputDiv = document.getElementById(\"altair-viz-657cc753a3d2444db2edfe84ea9a2c63\");\n",
              "    }\n",
              "    const paths = {\n",
              "      \"vega\": \"https://cdn.jsdelivr.net/npm//vega@5?noext\",\n",
              "      \"vega-lib\": \"https://cdn.jsdelivr.net/npm//vega-lib?noext\",\n",
              "      \"vega-lite\": \"https://cdn.jsdelivr.net/npm//vega-lite@4.8.1?noext\",\n",
              "      \"vega-embed\": \"https://cdn.jsdelivr.net/npm//vega-embed@6?noext\",\n",
              "    };\n",
              "\n",
              "    function loadScript(lib) {\n",
              "      return new Promise(function(resolve, reject) {\n",
              "        var s = document.createElement('script');\n",
              "        s.src = paths[lib];\n",
              "        s.async = true;\n",
              "        s.onload = () => resolve(paths[lib]);\n",
              "        s.onerror = () => reject(`Error loading script: ${paths[lib]}`);\n",
              "        document.getElementsByTagName(\"head\")[0].appendChild(s);\n",
              "      });\n",
              "    }\n",
              "\n",
              "    function showError(err) {\n",
              "      outputDiv.innerHTML = `<div class=\"error\" style=\"color:red;\">${err}</div>`;\n",
              "      throw err;\n",
              "    }\n",
              "\n",
              "    function displayChart(vegaEmbed) {\n",
              "      vegaEmbed(outputDiv, spec, embedOpt)\n",
              "        .catch(err => showError(`Javascript Error: ${err.message}<br>This usually means there's a typo in your chart specification. See the javascript console for the full traceback.`));\n",
              "    }\n",
              "\n",
              "    if(typeof define === \"function\" && define.amd) {\n",
              "      requirejs.config({paths});\n",
              "      require([\"vega-embed\"], displayChart, err => showError(`Error loading script: ${err.message}`));\n",
              "    } else if (typeof vegaEmbed === \"function\") {\n",
              "      displayChart(vegaEmbed);\n",
              "    } else {\n",
              "      loadScript(\"vega\")\n",
              "        .then(() => loadScript(\"vega-lite\"))\n",
              "        .then(() => loadScript(\"vega-embed\"))\n",
              "        .catch(showError)\n",
              "        .then(() => displayChart(vegaEmbed));\n",
              "    }\n",
              "  })({\"config\": {\"view\": {\"continuousHeight\": 300, \"continuousWidth\": 400}, \"range\": {\"category\": {\"scheme\": \"redblue\"}}}, \"layer\": [{\"data\": {\"name\": \"data-47381840c49ea1200b6a1dfcbeb8067d\"}, \"mark\": \"line\", \"encoding\": {\"color\": {\"type\": \"nominal\", \"field\": \"Poverty %\"}, \"x\": {\"type\": \"temporal\", \"field\": \"date\", \"title\": \"Date\"}, \"y\": {\"type\": \"quantitative\", \"field\": \"part_time_work\", \"title\": \"Part Time %\"}}, \"selection\": {\"selector001\": {\"type\": \"interval\", \"bind\": \"scales\", \"encodings\": [\"x\", \"y\"]}}, \"transform\": [{\"fold\": [\"Bottom 20 % Deviation\", \"Top 20 % Deviation\"], \"as\": [\"Poverty %\", \"part_time_work\"]}], \"width\": 1000}, {\"data\": {\"name\": \"data-7f3a6b86ed460c4e648f2393735a11f6\"}, \"mark\": {\"type\": \"rule\", \"color\": \"#757575\", \"size\": 2, \"strokeDash\": [5, 3]}, \"encoding\": {\"size\": {\"value\": 2}, \"y\": {\"type\": \"quantitative\", \"field\": \"Mean 2019\"}}}, {\"data\": {\"name\": \"data-d764767e7dd3b10b2c76c1355ce10ef3\"}, \"mark\": {\"type\": \"text\", \"angle\": 0, \"text\": \"Mean 2019\"}, \"encoding\": {\"opacity\": {\"value\": 0.4}, \"y\": {\"type\": \"quantitative\", \"field\": \"y\"}}}], \"$schema\": \"https://vega.github.io/schema/vega-lite/v4.8.1.json\", \"datasets\": {\"data-47381840c49ea1200b6a1dfcbeb8067d\": [{\"date\": \"2020-03-16T00:00:00+00:00\", \"Top 20 %\": 7.511303667690682, \"Bottom 20 %\": 7.059653638601007, \"Top 20 % Deviation\": 1.5127142445737762, \"Bottom 20 % Deviation\": 1.0610642154841008}, {\"date\": \"2020-03-26T00:00:00+00:00\", \"Top 20 %\": 4.946960273885172, \"Bottom 20 %\": 6.223088029438143, \"Top 20 % Deviation\": -1.0516291492317338, \"Bottom 20 % Deviation\": 0.2244986063212373}, {\"date\": \"2020-03-25T00:00:00+00:00\", \"Top 20 %\": 5.29871422477367, \"Bottom 20 %\": 7.083800743967559, \"Top 20 % Deviation\": -0.6998751983432356, \"Bottom 20 % Deviation\": 1.0852113208506529}, {\"date\": \"2020-03-20T00:00:00+00:00\", \"Top 20 %\": 4.777632867769643, \"Bottom 20 %\": 4.59160631035631, \"Top 20 % Deviation\": -1.2209565553472626, \"Bottom 20 % Deviation\": -1.4069831127605958}, {\"date\": \"2020-03-24T00:00:00+00:00\", \"Top 20 %\": 4.404019871442233, \"Bottom 20 %\": 7.667554686416578, \"Top 20 % Deviation\": -1.594569551674673, \"Bottom 20 % Deviation\": 1.6689652632996719}, {\"date\": \"2020-03-13T00:00:00+00:00\", \"Top 20 %\": 11.417447934689404, \"Bottom 20 %\": 7.788577858796536, \"Top 20 % Deviation\": 5.418858511572498, \"Bottom 20 % Deviation\": 1.7899884356796303}, {\"date\": \"2020-03-27T00:00:00+00:00\", \"Top 20 %\": 4.544407804489732, \"Bottom 20 %\": 5.487734659561285, \"Top 20 % Deviation\": -1.4541816186271737, \"Bottom 20 % Deviation\": -0.5108547635556207}, {\"date\": \"2020-03-22T00:00:00+00:00\", \"Top 20 %\": 3.8689273089531055, \"Bottom 20 %\": 7.671979950205756, \"Top 20 % Deviation\": -2.1296621141638004, \"Bottom 20 % Deviation\": 1.6733905270888503}, {\"date\": \"2020-03-28T00:00:00+00:00\", \"Top 20 %\": 3.5550752814414803, \"Bottom 20 %\": 4.221061232090644, \"Top 20 % Deviation\": -2.4435141416754256, \"Bottom 20 % Deviation\": -1.7775281910262617}, {\"date\": \"2020-03-19T00:00:00+00:00\", \"Top 20 %\": 5.804877004231561, \"Bottom 20 %\": 5.120417525308829, \"Top 20 % Deviation\": -0.19371241888534474, \"Bottom 20 % Deviation\": -0.8781718978080768}, {\"date\": \"2020-04-01T00:00:00+00:00\", \"Top 20 %\": 4.12154539451226, \"Bottom 20 %\": 3.461732344431174, \"Top 20 % Deviation\": -1.8770440286046455, \"Bottom 20 % Deviation\": -2.536857078685732}, {\"date\": \"2020-04-03T00:00:00+00:00\", \"Top 20 %\": 4.3160944340872325, \"Bottom 20 %\": 4.281133953084709, \"Top 20 % Deviation\": -1.6824949890296734, \"Bottom 20 % Deviation\": -1.7174554700321973}, {\"date\": \"2020-03-29T00:00:00+00:00\", \"Top 20 %\": 2.8282607080637483, \"Bottom 20 %\": 4.540918871992364, \"Top 20 % Deviation\": -3.1703287150531576, \"Bottom 20 % Deviation\": -1.4576705511245418}, {\"date\": \"2020-03-15T00:00:00+00:00\", \"Top 20 %\": 4.504561435031178, \"Bottom 20 %\": 6.029183087180175, \"Top 20 % Deviation\": -1.494027988085728, \"Bottom 20 % Deviation\": 0.03059366406326891}, {\"date\": \"2020-03-17T00:00:00+00:00\", \"Top 20 %\": 6.772493802766635, \"Bottom 20 %\": 5.050168525778719, \"Top 20 % Deviation\": 0.7739043796497294, \"Bottom 20 % Deviation\": -0.9484208973381865}, {\"date\": \"2020-04-02T00:00:00+00:00\", \"Top 20 %\": 4.367157047192173, \"Bottom 20 %\": 4.894778128473781, \"Top 20 % Deviation\": -1.6314323759247333, \"Bottom 20 % Deviation\": -1.1038112946431253}, {\"date\": \"2020-03-18T00:00:00+00:00\", \"Top 20 %\": 5.367379449898375, \"Bottom 20 %\": 5.333713210047551, \"Top 20 % Deviation\": -0.6312099732185308, \"Bottom 20 % Deviation\": -0.6648762130693546}, {\"date\": \"2020-03-31T00:00:00+00:00\", \"Top 20 %\": 4.792488732760505, \"Bottom 20 %\": 3.7093473786977165, \"Top 20 % Deviation\": -1.2061006903564007, \"Bottom 20 % Deviation\": -2.2892420444191894}, {\"date\": \"2020-03-14T00:00:00+00:00\", \"Top 20 %\": 4.8067555426316755, \"Bottom 20 %\": 4.208549169849479, \"Top 20 % Deviation\": -1.1918338804852304, \"Bottom 20 % Deviation\": -1.7900402532674269}, {\"date\": \"2020-03-23T00:00:00+00:00\", \"Top 20 %\": 4.832991640597703, \"Bottom 20 %\": 7.0200109124325145, \"Top 20 % Deviation\": -1.1655977825192032, \"Bottom 20 % Deviation\": 1.0214214893156086}, {\"date\": \"2020-03-30T00:00:00+00:00\", \"Top 20 %\": 4.979847361545386, \"Bottom 20 %\": 6.460037434606136, \"Top 20 % Deviation\": -1.01874206157152, \"Bottom 20 % Deviation\": 0.46144801148922987}, {\"date\": \"2020-03-21T00:00:00+00:00\", \"Top 20 %\": 3.8432388349225444, \"Bottom 20 %\": 3.0131195943667537, \"Top 20 % Deviation\": -2.1553505881943615, \"Bottom 20 % Deviation\": -2.985469828750152}], \"data-7f3a6b86ed460c4e648f2393735a11f6\": [{\"Mean 2019\": 0}], \"data-d764767e7dd3b10b2c76c1355ce10ef3\": [{\"y\": 1}]}}, {\"mode\": \"vega-lite\"});\n",
              "</script>"
            ]
          },
          "metadata": {
            "tags": []
          },
          "execution_count": 28
        },
        {
          "output_type": "stream",
          "text": [
            "time: 111 ms (started: 2021-04-25 03:32:38 +00:00)\n"
          ],
          "name": "stdout"
        }
      ]
    },
    {
      "cell_type": "markdown",
      "metadata": {
        "id": "eY48F9-7gp2q"
      },
      "source": [
        "\n",
        "\n",
        "**April 20, 2020:**\n",
        "Illinois state topped 3,000 new cases in a day for the first time. \n",
        "\n",
        "\n",
        "\n",
        "\n",
        "\n",
        "\n",
        "\n"
      ]
    },
    {
      "cell_type": "code",
      "metadata": {
        "colab": {
          "base_uri": "https://localhost:8080/",
          "height": 387
        },
        "id": "_DhDPv1GfRhR",
        "outputId": "e28c8b49-12f5-4505-c8cd-bc32b9ee2343"
      },
      "source": [
        "start_date = '2020-4-14'\n",
        "end_date = '2020-5-1'\n",
        "df2 = apply_date_filter(df,start_date,end_date)\n",
        "chart = create_chart(df2)\n",
        "chart\n",
        "#df2"
      ],
      "execution_count": null,
      "outputs": [
        {
          "output_type": "execute_result",
          "data": {
            "text/plain": [
              "alt.LayerChart(...)"
            ],
            "text/html": [
              "\n",
              "<div id=\"altair-viz-0d6f937b46894552add76f0fedf7c364\"></div>\n",
              "<script type=\"text/javascript\">\n",
              "  (function(spec, embedOpt){\n",
              "    let outputDiv = document.currentScript.previousElementSibling;\n",
              "    if (outputDiv.id !== \"altair-viz-0d6f937b46894552add76f0fedf7c364\") {\n",
              "      outputDiv = document.getElementById(\"altair-viz-0d6f937b46894552add76f0fedf7c364\");\n",
              "    }\n",
              "    const paths = {\n",
              "      \"vega\": \"https://cdn.jsdelivr.net/npm//vega@5?noext\",\n",
              "      \"vega-lib\": \"https://cdn.jsdelivr.net/npm//vega-lib?noext\",\n",
              "      \"vega-lite\": \"https://cdn.jsdelivr.net/npm//vega-lite@4.8.1?noext\",\n",
              "      \"vega-embed\": \"https://cdn.jsdelivr.net/npm//vega-embed@6?noext\",\n",
              "    };\n",
              "\n",
              "    function loadScript(lib) {\n",
              "      return new Promise(function(resolve, reject) {\n",
              "        var s = document.createElement('script');\n",
              "        s.src = paths[lib];\n",
              "        s.async = true;\n",
              "        s.onload = () => resolve(paths[lib]);\n",
              "        s.onerror = () => reject(`Error loading script: ${paths[lib]}`);\n",
              "        document.getElementsByTagName(\"head\")[0].appendChild(s);\n",
              "      });\n",
              "    }\n",
              "\n",
              "    function showError(err) {\n",
              "      outputDiv.innerHTML = `<div class=\"error\" style=\"color:red;\">${err}</div>`;\n",
              "      throw err;\n",
              "    }\n",
              "\n",
              "    function displayChart(vegaEmbed) {\n",
              "      vegaEmbed(outputDiv, spec, embedOpt)\n",
              "        .catch(err => showError(`Javascript Error: ${err.message}<br>This usually means there's a typo in your chart specification. See the javascript console for the full traceback.`));\n",
              "    }\n",
              "\n",
              "    if(typeof define === \"function\" && define.amd) {\n",
              "      requirejs.config({paths});\n",
              "      require([\"vega-embed\"], displayChart, err => showError(`Error loading script: ${err.message}`));\n",
              "    } else if (typeof vegaEmbed === \"function\") {\n",
              "      displayChart(vegaEmbed);\n",
              "    } else {\n",
              "      loadScript(\"vega\")\n",
              "        .then(() => loadScript(\"vega-lite\"))\n",
              "        .then(() => loadScript(\"vega-embed\"))\n",
              "        .catch(showError)\n",
              "        .then(() => displayChart(vegaEmbed));\n",
              "    }\n",
              "  })({\"config\": {\"view\": {\"continuousHeight\": 300, \"continuousWidth\": 400}, \"range\": {\"category\": {\"scheme\": \"redblue\"}}}, \"layer\": [{\"data\": {\"name\": \"data-dd66d7669d7c8e0d7ae69001c7b4cd5e\"}, \"mark\": \"line\", \"encoding\": {\"color\": {\"type\": \"nominal\", \"field\": \"Poverty %\"}, \"x\": {\"type\": \"temporal\", \"field\": \"date\", \"title\": \"Date\"}, \"y\": {\"type\": \"quantitative\", \"field\": \"part_time_work\", \"title\": \"Part Time %\"}}, \"selection\": {\"selector002\": {\"type\": \"interval\", \"bind\": \"scales\", \"encodings\": [\"x\", \"y\"]}}, \"transform\": [{\"fold\": [\"Bottom 20 % Deviation\", \"Top 20 % Deviation\"], \"as\": [\"Poverty %\", \"part_time_work\"]}], \"width\": 1000}, {\"data\": {\"name\": \"data-7f3a6b86ed460c4e648f2393735a11f6\"}, \"mark\": {\"type\": \"rule\", \"color\": \"#757575\", \"size\": 2, \"strokeDash\": [5, 3]}, \"encoding\": {\"size\": {\"value\": 2}, \"y\": {\"type\": \"quantitative\", \"field\": \"Mean 2019\"}}}, {\"data\": {\"name\": \"data-d764767e7dd3b10b2c76c1355ce10ef3\"}, \"mark\": {\"type\": \"text\", \"angle\": 0, \"text\": \"Mean 2019\"}, \"encoding\": {\"opacity\": {\"value\": 0.4}, \"y\": {\"type\": \"quantitative\", \"field\": \"y\"}}}], \"$schema\": \"https://vega.github.io/schema/vega-lite/v4.8.1.json\", \"datasets\": {\"data-dd66d7669d7c8e0d7ae69001c7b4cd5e\": [{\"date\": \"2020-04-20T00:00:00+00:00\", \"Top 20 %\": 3.7310254702141443, \"Bottom 20 %\": 4.619773002247999, \"Top 20 % Deviation\": -2.2675639529027616, \"Bottom 20 % Deviation\": -1.3788164208689073}, {\"date\": \"2020-04-22T00:00:00+00:00\", \"Top 20 %\": 4.3538929133542466, \"Bottom 20 %\": 5.738591748568059, \"Top 20 % Deviation\": -1.6446965097626594, \"Bottom 20 % Deviation\": -0.25999767454884726}, {\"date\": \"2020-04-19T00:00:00+00:00\", \"Top 20 %\": 3.4030266463634176, \"Bottom 20 %\": 5.479172461098914, \"Top 20 % Deviation\": -2.5955627767534883, \"Bottom 20 % Deviation\": -0.519416962017992}, {\"date\": \"2020-04-25T00:00:00+00:00\", \"Top 20 %\": 3.691215938388772, \"Bottom 20 %\": 4.2275600951843195, \"Top 20 % Deviation\": -2.3073734847281338, \"Bottom 20 % Deviation\": -1.7710293279325864}, {\"date\": \"2020-04-23T00:00:00+00:00\", \"Top 20 %\": 4.837683328854997, \"Bottom 20 %\": 6.071949490958971, \"Top 20 % Deviation\": -1.1609060942619092, \"Bottom 20 % Deviation\": 0.07336006784206539}, {\"date\": \"2020-04-21T00:00:00+00:00\", \"Top 20 %\": 4.616863092432139, \"Bottom 20 %\": 6.3630746766246435, \"Top 20 % Deviation\": -1.3817263306847671, \"Bottom 20 % Deviation\": 0.36448525350773764}, {\"date\": \"2020-04-30T00:00:00+00:00\", \"Top 20 %\": 4.2485875309469225, \"Bottom 20 %\": 4.199522767454224, \"Top 20 % Deviation\": -1.7500018921699834, \"Bottom 20 % Deviation\": -1.7990666556626822}, {\"date\": \"2020-04-17T00:00:00+00:00\", \"Top 20 %\": 4.239400804418479, \"Bottom 20 %\": 5.364280420187294, \"Top 20 % Deviation\": -1.7591886186984267, \"Bottom 20 % Deviation\": -0.6343090029296121}, {\"date\": \"2020-04-26T00:00:00+00:00\", \"Top 20 %\": 3.4224404179976524, \"Bottom 20 %\": 3.38734027287705, \"Top 20 % Deviation\": -2.5761490051192535, \"Bottom 20 % Deviation\": -2.611249150239856}, {\"date\": \"2020-04-27T00:00:00+00:00\", \"Top 20 %\": 4.521674895687901, \"Bottom 20 %\": 4.1598069966590545, \"Top 20 % Deviation\": -1.4769145274290052, \"Bottom 20 % Deviation\": -1.8387824264578514}, {\"date\": \"2020-04-15T00:00:00+00:00\", \"Top 20 %\": 4.7162436195613, \"Bottom 20 %\": 8.868436449988968, \"Top 20 % Deviation\": -1.2823458035556063, \"Bottom 20 % Deviation\": 2.869847026872062}, {\"date\": \"2020-04-18T00:00:00+00:00\", \"Top 20 %\": 3.669021984527692, \"Bottom 20 %\": 3.94609055097843, \"Top 20 % Deviation\": -2.329567438589214, \"Bottom 20 % Deviation\": -2.052498872138476}, {\"date\": \"2020-04-24T00:00:00+00:00\", \"Top 20 %\": 4.737696427142934, \"Bottom 20 %\": 4.9542124542124535, \"Top 20 % Deviation\": -1.2608929959739719, \"Bottom 20 % Deviation\": -1.0443769689044524}, {\"date\": \"2020-04-29T00:00:00+00:00\", \"Top 20 %\": 4.291221867639671, \"Bottom 20 %\": 4.231955286717497, \"Top 20 % Deviation\": -1.7073675554772345, \"Bottom 20 % Deviation\": -1.766634136399409}, {\"date\": \"2020-04-16T00:00:00+00:00\", \"Top 20 %\": 4.403861901489885, \"Bottom 20 %\": 4.347527536128684, \"Top 20 % Deviation\": -1.5947275216270205, \"Bottom 20 % Deviation\": -1.6510618869882219}, {\"date\": \"2020-04-28T00:00:00+00:00\", \"Top 20 %\": 4.969549629505855, \"Bottom 20 %\": 6.1324438503144965, \"Top 20 % Deviation\": -1.0290397936110507, \"Bottom 20 % Deviation\": 0.13385442719759055}, {\"date\": \"2020-05-01T00:00:00+00:00\", \"Top 20 %\": 5.769364808429576, \"Bottom 20 %\": 6.391829518885828, \"Top 20 % Deviation\": -0.2292246146873298, \"Bottom 20 % Deviation\": 0.39324009576892216}], \"data-7f3a6b86ed460c4e648f2393735a11f6\": [{\"Mean 2019\": 0}], \"data-d764767e7dd3b10b2c76c1355ce10ef3\": [{\"y\": 1}]}}, {\"mode\": \"vega-lite\"});\n",
              "</script>"
            ]
          },
          "metadata": {
            "tags": []
          },
          "execution_count": 29
        },
        {
          "output_type": "stream",
          "text": [
            "time: 91.7 ms (started: 2021-04-25 03:32:38 +00:00)\n"
          ],
          "name": "stdout"
        }
      ]
    },
    {
      "cell_type": "markdown",
      "metadata": {
        "id": "mxC6dH7YiWxd"
      },
      "source": [
        "\n",
        "**June 3, 2020:** \n",
        "Chicago began gradually allowing businesses to open doors for outside dining and other services, though some shops remained closed following lootings in the aftermath of George Floyd's death, during phase three of its reopening.\n",
        "\n",
        "\n"
      ]
    },
    {
      "cell_type": "code",
      "metadata": {
        "colab": {
          "base_uri": "https://localhost:8080/",
          "height": 387
        },
        "id": "KTaOPmN5fRmL",
        "outputId": "fd8ff92d-a93b-4aa3-c563-56b290b4cf05"
      },
      "source": [
        "start_date = '2020-6-1'\n",
        "end_date = '2020-6-16'\n",
        "df3 = apply_date_filter(df,start_date,end_date)\n",
        "chart = create_chart(df3)\n",
        "chart"
      ],
      "execution_count": null,
      "outputs": [
        {
          "output_type": "execute_result",
          "data": {
            "text/plain": [
              "alt.LayerChart(...)"
            ],
            "text/html": [
              "\n",
              "<div id=\"altair-viz-ab5574208afa49f1ac06114d8e2d67e4\"></div>\n",
              "<script type=\"text/javascript\">\n",
              "  (function(spec, embedOpt){\n",
              "    let outputDiv = document.currentScript.previousElementSibling;\n",
              "    if (outputDiv.id !== \"altair-viz-ab5574208afa49f1ac06114d8e2d67e4\") {\n",
              "      outputDiv = document.getElementById(\"altair-viz-ab5574208afa49f1ac06114d8e2d67e4\");\n",
              "    }\n",
              "    const paths = {\n",
              "      \"vega\": \"https://cdn.jsdelivr.net/npm//vega@5?noext\",\n",
              "      \"vega-lib\": \"https://cdn.jsdelivr.net/npm//vega-lib?noext\",\n",
              "      \"vega-lite\": \"https://cdn.jsdelivr.net/npm//vega-lite@4.8.1?noext\",\n",
              "      \"vega-embed\": \"https://cdn.jsdelivr.net/npm//vega-embed@6?noext\",\n",
              "    };\n",
              "\n",
              "    function loadScript(lib) {\n",
              "      return new Promise(function(resolve, reject) {\n",
              "        var s = document.createElement('script');\n",
              "        s.src = paths[lib];\n",
              "        s.async = true;\n",
              "        s.onload = () => resolve(paths[lib]);\n",
              "        s.onerror = () => reject(`Error loading script: ${paths[lib]}`);\n",
              "        document.getElementsByTagName(\"head\")[0].appendChild(s);\n",
              "      });\n",
              "    }\n",
              "\n",
              "    function showError(err) {\n",
              "      outputDiv.innerHTML = `<div class=\"error\" style=\"color:red;\">${err}</div>`;\n",
              "      throw err;\n",
              "    }\n",
              "\n",
              "    function displayChart(vegaEmbed) {\n",
              "      vegaEmbed(outputDiv, spec, embedOpt)\n",
              "        .catch(err => showError(`Javascript Error: ${err.message}<br>This usually means there's a typo in your chart specification. See the javascript console for the full traceback.`));\n",
              "    }\n",
              "\n",
              "    if(typeof define === \"function\" && define.amd) {\n",
              "      requirejs.config({paths});\n",
              "      require([\"vega-embed\"], displayChart, err => showError(`Error loading script: ${err.message}`));\n",
              "    } else if (typeof vegaEmbed === \"function\") {\n",
              "      displayChart(vegaEmbed);\n",
              "    } else {\n",
              "      loadScript(\"vega\")\n",
              "        .then(() => loadScript(\"vega-lite\"))\n",
              "        .then(() => loadScript(\"vega-embed\"))\n",
              "        .catch(showError)\n",
              "        .then(() => displayChart(vegaEmbed));\n",
              "    }\n",
              "  })({\"config\": {\"view\": {\"continuousHeight\": 300, \"continuousWidth\": 400}, \"range\": {\"category\": {\"scheme\": \"redblue\"}}}, \"layer\": [{\"data\": {\"name\": \"data-1c19c6e17671ee541a86a93ab0cf93ee\"}, \"mark\": \"line\", \"encoding\": {\"color\": {\"type\": \"nominal\", \"field\": \"Poverty %\"}, \"x\": {\"type\": \"temporal\", \"field\": \"date\", \"title\": \"Date\"}, \"y\": {\"type\": \"quantitative\", \"field\": \"part_time_work\", \"title\": \"Part Time %\"}}, \"selection\": {\"selector003\": {\"type\": \"interval\", \"bind\": \"scales\", \"encodings\": [\"x\", \"y\"]}}, \"transform\": [{\"fold\": [\"Bottom 20 % Deviation\", \"Top 20 % Deviation\"], \"as\": [\"Poverty %\", \"part_time_work\"]}], \"width\": 1000}, {\"data\": {\"name\": \"data-7f3a6b86ed460c4e648f2393735a11f6\"}, \"mark\": {\"type\": \"rule\", \"color\": \"#757575\", \"size\": 2, \"strokeDash\": [5, 3]}, \"encoding\": {\"size\": {\"value\": 2}, \"y\": {\"type\": \"quantitative\", \"field\": \"Mean 2019\"}}}, {\"data\": {\"name\": \"data-d764767e7dd3b10b2c76c1355ce10ef3\"}, \"mark\": {\"type\": \"text\", \"angle\": 0, \"text\": \"Mean 2019\"}, \"encoding\": {\"opacity\": {\"value\": 0.4}, \"y\": {\"type\": \"quantitative\", \"field\": \"y\"}}}], \"$schema\": \"https://vega.github.io/schema/vega-lite/v4.8.1.json\", \"datasets\": {\"data-1c19c6e17671ee541a86a93ab0cf93ee\": [{\"date\": \"2020-06-08T00:00:00+00:00\", \"Top 20 %\": 6.171659939469635, \"Bottom 20 %\": 6.2283983880985705, \"Top 20 % Deviation\": 0.17307051635272952, \"Bottom 20 % Deviation\": 0.2298089649816646}, {\"date\": \"2020-06-09T00:00:00+00:00\", \"Top 20 %\": 6.736283213916825, \"Bottom 20 %\": 4.133066670973317, \"Top 20 % Deviation\": 0.737693790799919, \"Bottom 20 % Deviation\": -1.8655227521435886}, {\"date\": \"2020-06-12T00:00:00+00:00\", \"Top 20 %\": 5.352069138166169, \"Bottom 20 %\": 4.396222083920374, \"Top 20 % Deviation\": -0.6465202849507365, \"Bottom 20 % Deviation\": -1.6023673391965323}, {\"date\": \"2020-06-16T00:00:00+00:00\", \"Top 20 %\": 6.48932065226699, \"Bottom 20 %\": 4.5732907954541036, \"Top 20 % Deviation\": 0.49073122915008405, \"Bottom 20 % Deviation\": -1.4252986276628024}, {\"date\": \"2020-06-07T00:00:00+00:00\", \"Top 20 %\": 4.371777384648515, \"Bottom 20 %\": 6.628543562459898, \"Top 20 % Deviation\": -1.6268120384683913, \"Bottom 20 % Deviation\": 0.6299541393429919}, {\"date\": \"2020-06-13T00:00:00+00:00\", \"Top 20 %\": 4.414249906741085, \"Bottom 20 %\": 2.943411995945919, \"Top 20 % Deviation\": -1.5843395163758212, \"Bottom 20 % Deviation\": -3.055177427170987}, {\"date\": \"2020-06-11T00:00:00+00:00\", \"Top 20 %\": 6.417865833643695, \"Bottom 20 %\": 6.392046848876217, \"Top 20 % Deviation\": 0.41927641052678943, \"Bottom 20 % Deviation\": 0.3934574257593111}, {\"date\": \"2020-06-15T00:00:00+00:00\", \"Top 20 %\": 6.776652209794759, \"Bottom 20 %\": 7.67996068534591, \"Top 20 % Deviation\": 0.7780627866778529, \"Bottom 20 % Deviation\": 1.6813712622290042}, {\"date\": \"2020-06-14T00:00:00+00:00\", \"Top 20 %\": 3.8874195239024103, \"Bottom 20 %\": 3.3582511054987716, \"Top 20 % Deviation\": -2.1111698992144956, \"Bottom 20 % Deviation\": -2.6403383176181343}, {\"date\": \"2020-06-06T00:00:00+00:00\", \"Top 20 %\": 4.991569081197285, \"Bottom 20 %\": 3.8885882635882636, \"Top 20 % Deviation\": -1.0070203419196213, \"Bottom 20 % Deviation\": -2.1100011595286423}, {\"date\": \"2020-06-03T00:00:00+00:00\", \"Top 20 %\": 5.688241783359977, \"Bottom 20 %\": 6.582881104004591, \"Top 20 % Deviation\": -0.3103476397569285, \"Bottom 20 % Deviation\": 0.5842916808876852}, {\"date\": \"2020-06-02T00:00:00+00:00\", \"Top 20 %\": 6.181768121646299, \"Bottom 20 %\": 3.384687493721512, \"Top 20 % Deviation\": 0.18317869852939328, \"Bottom 20 % Deviation\": -2.613901929395394}, {\"date\": \"2020-06-05T00:00:00+00:00\", \"Top 20 %\": 6.827308611139777, \"Bottom 20 %\": 7.2966727013386, \"Top 20 % Deviation\": 0.8287191880228715, \"Bottom 20 % Deviation\": 1.2980832782216938}, {\"date\": \"2020-06-04T00:00:00+00:00\", \"Top 20 %\": 6.766540822719547, \"Bottom 20 %\": 6.170839463092635, \"Top 20 % Deviation\": 0.7679513996026408, \"Bottom 20 % Deviation\": 0.1722500399757294}, {\"date\": \"2020-06-10T00:00:00+00:00\", \"Top 20 %\": 5.7506575036862815, \"Bottom 20 %\": 5.4342678249377965, \"Top 20 % Deviation\": -0.24793191943062443, \"Bottom 20 % Deviation\": -0.5643215981791094}], \"data-7f3a6b86ed460c4e648f2393735a11f6\": [{\"Mean 2019\": 0}], \"data-d764767e7dd3b10b2c76c1355ce10ef3\": [{\"y\": 1}]}}, {\"mode\": \"vega-lite\"});\n",
              "</script>"
            ]
          },
          "metadata": {
            "tags": []
          },
          "execution_count": 30
        },
        {
          "output_type": "stream",
          "text": [
            "time: 80.6 ms (started: 2021-04-25 03:32:38 +00:00)\n"
          ],
          "name": "stdout"
        }
      ]
    },
    {
      "cell_type": "markdown",
      "metadata": {
        "id": "I1uLmyxVi6Zo"
      },
      "source": [
        "**September 8, 2020:** Chicago Public Schools began its fall quarter with remote learning, with families across the city reporting a range of successes and frustrations.\n"
      ]
    },
    {
      "cell_type": "code",
      "metadata": {
        "colab": {
          "base_uri": "https://localhost:8080/",
          "height": 387
        },
        "id": "YZ29_JeZfRqz",
        "outputId": "386f3a63-de0e-49b0-88c4-aa339c632c1a"
      },
      "source": [
        "start_date = '2020-09-1'\n",
        "end_date = '2020-09-14'\n",
        "df4 = apply_date_filter(df,start_date,end_date)\n",
        "chart = create_chart(df4)\n",
        "chart"
      ],
      "execution_count": null,
      "outputs": [
        {
          "output_type": "execute_result",
          "data": {
            "text/plain": [
              "alt.LayerChart(...)"
            ],
            "text/html": [
              "\n",
              "<div id=\"altair-viz-80ff77627c544245912f5c40d8ba198a\"></div>\n",
              "<script type=\"text/javascript\">\n",
              "  (function(spec, embedOpt){\n",
              "    let outputDiv = document.currentScript.previousElementSibling;\n",
              "    if (outputDiv.id !== \"altair-viz-80ff77627c544245912f5c40d8ba198a\") {\n",
              "      outputDiv = document.getElementById(\"altair-viz-80ff77627c544245912f5c40d8ba198a\");\n",
              "    }\n",
              "    const paths = {\n",
              "      \"vega\": \"https://cdn.jsdelivr.net/npm//vega@5?noext\",\n",
              "      \"vega-lib\": \"https://cdn.jsdelivr.net/npm//vega-lib?noext\",\n",
              "      \"vega-lite\": \"https://cdn.jsdelivr.net/npm//vega-lite@4.8.1?noext\",\n",
              "      \"vega-embed\": \"https://cdn.jsdelivr.net/npm//vega-embed@6?noext\",\n",
              "    };\n",
              "\n",
              "    function loadScript(lib) {\n",
              "      return new Promise(function(resolve, reject) {\n",
              "        var s = document.createElement('script');\n",
              "        s.src = paths[lib];\n",
              "        s.async = true;\n",
              "        s.onload = () => resolve(paths[lib]);\n",
              "        s.onerror = () => reject(`Error loading script: ${paths[lib]}`);\n",
              "        document.getElementsByTagName(\"head\")[0].appendChild(s);\n",
              "      });\n",
              "    }\n",
              "\n",
              "    function showError(err) {\n",
              "      outputDiv.innerHTML = `<div class=\"error\" style=\"color:red;\">${err}</div>`;\n",
              "      throw err;\n",
              "    }\n",
              "\n",
              "    function displayChart(vegaEmbed) {\n",
              "      vegaEmbed(outputDiv, spec, embedOpt)\n",
              "        .catch(err => showError(`Javascript Error: ${err.message}<br>This usually means there's a typo in your chart specification. See the javascript console for the full traceback.`));\n",
              "    }\n",
              "\n",
              "    if(typeof define === \"function\" && define.amd) {\n",
              "      requirejs.config({paths});\n",
              "      require([\"vega-embed\"], displayChart, err => showError(`Error loading script: ${err.message}`));\n",
              "    } else if (typeof vegaEmbed === \"function\") {\n",
              "      displayChart(vegaEmbed);\n",
              "    } else {\n",
              "      loadScript(\"vega\")\n",
              "        .then(() => loadScript(\"vega-lite\"))\n",
              "        .then(() => loadScript(\"vega-embed\"))\n",
              "        .catch(showError)\n",
              "        .then(() => displayChart(vegaEmbed));\n",
              "    }\n",
              "  })({\"config\": {\"view\": {\"continuousHeight\": 300, \"continuousWidth\": 400}, \"range\": {\"category\": {\"scheme\": \"redblue\"}}}, \"layer\": [{\"data\": {\"name\": \"data-5bca6b11251ac2971b257a4a558eb06e\"}, \"mark\": \"line\", \"encoding\": {\"color\": {\"type\": \"nominal\", \"field\": \"Poverty %\"}, \"x\": {\"type\": \"temporal\", \"field\": \"date\", \"title\": \"Date\"}, \"y\": {\"type\": \"quantitative\", \"field\": \"part_time_work\", \"title\": \"Part Time %\"}}, \"selection\": {\"selector004\": {\"type\": \"interval\", \"bind\": \"scales\", \"encodings\": [\"x\", \"y\"]}}, \"transform\": [{\"fold\": [\"Bottom 20 % Deviation\", \"Top 20 % Deviation\"], \"as\": [\"Poverty %\", \"part_time_work\"]}], \"width\": 1000}, {\"data\": {\"name\": \"data-7f3a6b86ed460c4e648f2393735a11f6\"}, \"mark\": {\"type\": \"rule\", \"color\": \"#757575\", \"size\": 2, \"strokeDash\": [5, 3]}, \"encoding\": {\"size\": {\"value\": 2}, \"y\": {\"type\": \"quantitative\", \"field\": \"Mean 2019\"}}}, {\"data\": {\"name\": \"data-d764767e7dd3b10b2c76c1355ce10ef3\"}, \"mark\": {\"type\": \"text\", \"angle\": 0, \"text\": \"Mean 2019\"}, \"encoding\": {\"opacity\": {\"value\": 0.4}, \"y\": {\"type\": \"quantitative\", \"field\": \"y\"}}}], \"$schema\": \"https://vega.github.io/schema/vega-lite/v4.8.1.json\", \"datasets\": {\"data-5bca6b11251ac2971b257a4a558eb06e\": [{\"date\": \"2020-09-12T00:00:00+00:00\", \"Top 20 %\": 4.650524947946511, \"Bottom 20 %\": 3.925097921428766, \"Top 20 % Deviation\": -1.3480644751703945, \"Bottom 20 % Deviation\": -2.07349150168814}, {\"date\": \"2020-09-11T00:00:00+00:00\", \"Top 20 %\": 7.124739305611194, \"Bottom 20 %\": 8.734911299180169, \"Top 20 % Deviation\": 1.1261498824942882, \"Bottom 20 % Deviation\": 2.736321876063263}, {\"date\": \"2020-09-06T00:00:00+00:00\", \"Top 20 %\": 4.6421650684463565, \"Bottom 20 %\": 4.816294532623441, \"Top 20 % Deviation\": -1.3564243546705494, \"Bottom 20 % Deviation\": -1.1822948904934645}, {\"date\": \"2020-09-14T00:00:00+00:00\", \"Top 20 %\": 7.304241302528406, \"Bottom 20 %\": 4.828798679444701, \"Top 20 % Deviation\": 1.3056518794115002, \"Bottom 20 % Deviation\": -1.1697907436722046}, {\"date\": \"2020-09-13T00:00:00+00:00\", \"Top 20 %\": 4.946754064794576, \"Bottom 20 %\": 6.883965764822927, \"Top 20 % Deviation\": -1.0518353583223297, \"Bottom 20 % Deviation\": 0.8853763417060208}, {\"date\": \"2020-09-02T00:00:00+00:00\", \"Top 20 %\": 7.487986509932872, \"Bottom 20 %\": 7.998317354776628, \"Top 20 % Deviation\": 1.4893970868159663, \"Bottom 20 % Deviation\": 1.9997279316597218}, {\"date\": \"2020-09-03T00:00:00+00:00\", \"Top 20 %\": 8.04105768066406, \"Bottom 20 %\": 6.043163186315063, \"Top 20 % Deviation\": 2.0424682575471547, \"Bottom 20 % Deviation\": 0.04457376319815687}, {\"date\": \"2020-09-05T00:00:00+00:00\", \"Top 20 %\": 6.255923389373578, \"Bottom 20 %\": 6.183024886149886, \"Top 20 % Deviation\": 0.25733396625667204, \"Bottom 20 % Deviation\": 0.18443546303298053}, {\"date\": \"2020-09-09T00:00:00+00:00\", \"Top 20 %\": 6.856255536916974, \"Bottom 20 %\": 5.333310013353756, \"Top 20 % Deviation\": 0.8576661138000681, \"Bottom 20 % Deviation\": -0.6652794097631496}, {\"date\": \"2020-09-04T00:00:00+00:00\", \"Top 20 %\": 6.65567558316736, \"Bottom 20 %\": 3.9945033024536847, \"Top 20 % Deviation\": 0.6570861600504543, \"Bottom 20 % Deviation\": -2.0040861206632212}, {\"date\": \"2020-09-07T00:00:00+00:00\", \"Top 20 %\": 4.725454082397157, \"Bottom 20 %\": 3.8536907754191687, \"Top 20 % Deviation\": -1.2731353407197492, \"Bottom 20 % Deviation\": -2.144898647697737}, {\"date\": \"2020-09-10T00:00:00+00:00\", \"Top 20 %\": 7.203112356028828, \"Bottom 20 %\": 7.566879013709472, \"Top 20 % Deviation\": 1.2045229329119218, \"Bottom 20 % Deviation\": 1.568289590592566}, {\"date\": \"2020-09-08T00:00:00+00:00\", \"Top 20 %\": 7.174858104450017, \"Bottom 20 %\": 4.710808022409952, \"Top 20 % Deviation\": 1.1762686813331111, \"Bottom 20 % Deviation\": -1.2877814007069537}], \"data-7f3a6b86ed460c4e648f2393735a11f6\": [{\"Mean 2019\": 0}], \"data-d764767e7dd3b10b2c76c1355ce10ef3\": [{\"y\": 1}]}}, {\"mode\": \"vega-lite\"});\n",
              "</script>"
            ]
          },
          "metadata": {
            "tags": []
          },
          "execution_count": 31
        },
        {
          "output_type": "stream",
          "text": [
            "time: 86.9 ms (started: 2021-04-25 03:32:38 +00:00)\n"
          ],
          "name": "stdout"
        }
      ]
    },
    {
      "cell_type": "code",
      "metadata": {
        "id": "WuiHxms2fRtH"
      },
      "source": [
        ""
      ],
      "execution_count": null,
      "outputs": []
    }
  ]
}