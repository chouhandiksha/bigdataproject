{
  "nbformat": 4,
  "nbformat_minor": 0,
  "metadata": {
    "colab": {
      "name": " Analyse CH Compare Part Time Work Percentage For Wealthiest And Poorest.ipynb",
      "provenance": [],
      "collapsed_sections": [],
      "include_colab_link": true
    },
    "kernelspec": {
      "name": "python3",
      "display_name": "Python 3"
    },
    "language_info": {
      "name": "python"
    }
  },
  "cells": [
    {
      "cell_type": "markdown",
      "metadata": {
        "id": "view-in-github",
        "colab_type": "text"
      },
      "source": [
        "<a href=\"https://colab.research.google.com/github/chouhandiksha/bigdataproject/blob/main/notebooks/Analyse%20CH%20Compare%20Part%20Time%20Work%20Percentage%20For%20Wealthiest%20And%20Poorest.ipynb\" target=\"_parent\"><img src=\"https://colab.research.google.com/assets/colab-badge.svg\" alt=\"Open In Colab\"/></a>"
      ]
    },
    {
      "cell_type": "markdown",
      "metadata": {
        "id": "6Vnc5foT5YFx"
      },
      "source": [
        "**Spark SQL Documentation:** \n",
        "https://spark.apache.org/docs/2.2.0/sql-programming-guide.html"
      ]
    },
    {
      "cell_type": "markdown",
      "metadata": {
        "id": "-Hcp2BfpN8Bn"
      },
      "source": [
        "#  Analyse CH Compare Part Time Work Percentage For Wealthiest And Poorest\n",
        "\n",
        "*Instructions:*\n",
        "\n",
        "1. Execute the first code cell.\n",
        "2. There will be a link to follow in order to authorize the google account for drive. Go to that link.\n",
        "3. A code to authorize the google account will be generated. Copy the code generated.\n",
        "4. Go back to the cell where the process of mounting the drive is running. Paste the generated code from step 3 to the text box in the cell and press enter."
      ]
    },
    {
      "cell_type": "code",
      "metadata": {
        "id": "XXJ-cpgT3moz",
        "colab": {
          "base_uri": "https://localhost:8080/"
        },
        "outputId": "8632d2cf-8813-40e3-9fb1-5878ab728888"
      },
      "source": [
        "# add time information at the end of every cell\n",
        "!pip install ipython-autotime\n",
        "%load_ext autotime"
      ],
      "execution_count": 6,
      "outputs": [
        {
          "output_type": "stream",
          "text": [
            "Requirement already satisfied: ipython-autotime in /usr/local/lib/python3.7/dist-packages (0.3.1)\n",
            "Requirement already satisfied: ipython in /usr/local/lib/python3.7/dist-packages (from ipython-autotime) (5.5.0)\n",
            "Requirement already satisfied: pygments in /usr/local/lib/python3.7/dist-packages (from ipython->ipython-autotime) (2.6.1)\n",
            "Requirement already satisfied: pickleshare in /usr/local/lib/python3.7/dist-packages (from ipython->ipython-autotime) (0.7.5)\n",
            "Requirement already satisfied: prompt-toolkit<2.0.0,>=1.0.4 in /usr/local/lib/python3.7/dist-packages (from ipython->ipython-autotime) (1.0.18)\n",
            "Requirement already satisfied: decorator in /usr/local/lib/python3.7/dist-packages (from ipython->ipython-autotime) (4.4.2)\n",
            "Requirement already satisfied: setuptools>=18.5 in /usr/local/lib/python3.7/dist-packages (from ipython->ipython-autotime) (56.0.0)\n",
            "Requirement already satisfied: simplegeneric>0.8 in /usr/local/lib/python3.7/dist-packages (from ipython->ipython-autotime) (0.8.1)\n",
            "Requirement already satisfied: traitlets>=4.2 in /usr/local/lib/python3.7/dist-packages (from ipython->ipython-autotime) (5.0.5)\n",
            "Requirement already satisfied: pexpect; sys_platform != \"win32\" in /usr/local/lib/python3.7/dist-packages (from ipython->ipython-autotime) (4.8.0)\n",
            "Requirement already satisfied: six>=1.9.0 in /usr/local/lib/python3.7/dist-packages (from prompt-toolkit<2.0.0,>=1.0.4->ipython->ipython-autotime) (1.15.0)\n",
            "Requirement already satisfied: wcwidth in /usr/local/lib/python3.7/dist-packages (from prompt-toolkit<2.0.0,>=1.0.4->ipython->ipython-autotime) (0.2.5)\n",
            "Requirement already satisfied: ipython-genutils in /usr/local/lib/python3.7/dist-packages (from traitlets>=4.2->ipython->ipython-autotime) (0.2.0)\n",
            "Requirement already satisfied: ptyprocess>=0.5 in /usr/local/lib/python3.7/dist-packages (from pexpect; sys_platform != \"win32\"->ipython->ipython-autotime) (0.7.0)\n",
            "The autotime extension is already loaded. To reload it, use:\n",
            "  %reload_ext autotime\n",
            "time: 3.14 s (started: 2021-05-03 22:13:40 +00:00)\n"
          ],
          "name": "stdout"
        }
      ]
    },
    {
      "cell_type": "code",
      "metadata": {
        "colab": {
          "base_uri": "https://localhost:8080/"
        },
        "id": "DggpqrsrscGi",
        "outputId": "c8e45e5f-6a6c-437b-f7d0-4a4bfaa186dd"
      },
      "source": [
        "# Install required dependancies\n",
        "!pip install pyspark\n",
        "!apt update\n",
        "!apt install openjdk-8-jdk-headless -qq\n",
        "import os\n",
        "os.environ[\"JAVA_HOME\"] = \"/usr/lib/jvm/java-8-openjdk-amd64\""
      ],
      "execution_count": 7,
      "outputs": [
        {
          "output_type": "stream",
          "text": [
            "Requirement already satisfied: pyspark in /usr/local/lib/python3.7/dist-packages (3.1.1)\n",
            "Requirement already satisfied: py4j==0.10.9 in /usr/local/lib/python3.7/dist-packages (from pyspark) (0.10.9)\n",
            "Get:1 https://cloud.r-project.org/bin/linux/ubuntu bionic-cran40/ InRelease [3,626 B]\n",
            "Get:2 http://security.ubuntu.com/ubuntu bionic-security InRelease [88.7 kB]\n",
            "Ign:3 https://developer.download.nvidia.com/compute/cuda/repos/ubuntu1804/x86_64  InRelease\n",
            "Ign:4 https://developer.download.nvidia.com/compute/machine-learning/repos/ubuntu1804/x86_64  InRelease\n",
            "Get:5 https://developer.download.nvidia.com/compute/cuda/repos/ubuntu1804/x86_64  Release [697 B]\n",
            "Hit:6 https://developer.download.nvidia.com/compute/machine-learning/repos/ubuntu1804/x86_64  Release\n",
            "Get:7 https://developer.download.nvidia.com/compute/cuda/repos/ubuntu1804/x86_64  Release.gpg [836 B]\n",
            "Get:8 http://ppa.launchpad.net/c2d4u.team/c2d4u4.0+/ubuntu bionic InRelease [15.9 kB]\n",
            "Hit:9 http://archive.ubuntu.com/ubuntu bionic InRelease\n",
            "Get:10 http://archive.ubuntu.com/ubuntu bionic-updates InRelease [88.7 kB]\n",
            "Get:11 https://cloud.r-project.org/bin/linux/ubuntu bionic-cran40/ Packages [53.9 kB]\n",
            "Hit:13 http://ppa.launchpad.net/cran/libgit2/ubuntu bionic InRelease\n",
            "Ign:14 https://developer.download.nvidia.com/compute/cuda/repos/ubuntu1804/x86_64  Packages\n",
            "Get:14 https://developer.download.nvidia.com/compute/cuda/repos/ubuntu1804/x86_64  Packages [742 kB]\n",
            "Get:15 http://archive.ubuntu.com/ubuntu bionic-backports InRelease [74.6 kB]\n",
            "Get:16 http://ppa.launchpad.net/deadsnakes/ppa/ubuntu bionic InRelease [15.9 kB]\n",
            "Get:17 http://security.ubuntu.com/ubuntu bionic-security/multiverse amd64 Packages [24.7 kB]\n",
            "Get:18 http://security.ubuntu.com/ubuntu bionic-security/universe amd64 Packages [1,410 kB]\n",
            "Get:19 http://ppa.launchpad.net/graphics-drivers/ppa/ubuntu bionic InRelease [15.9 kB]\n",
            "Get:20 http://security.ubuntu.com/ubuntu bionic-security/restricted amd64 Packages [396 kB]\n",
            "Get:21 http://security.ubuntu.com/ubuntu bionic-security/main amd64 Packages [2,116 kB]\n",
            "Get:22 http://ppa.launchpad.net/c2d4u.team/c2d4u4.0+/ubuntu bionic/main Sources [1,759 kB]\n",
            "Get:23 http://archive.ubuntu.com/ubuntu bionic-updates/multiverse amd64 Packages [31.6 kB]\n",
            "Get:24 http://archive.ubuntu.com/ubuntu bionic-updates/main amd64 Packages [2,550 kB]\n",
            "Get:25 http://ppa.launchpad.net/c2d4u.team/c2d4u4.0+/ubuntu bionic/main amd64 Packages [900 kB]\n",
            "Get:26 http://archive.ubuntu.com/ubuntu bionic-updates/universe amd64 Packages [2,181 kB]\n",
            "Get:27 http://archive.ubuntu.com/ubuntu bionic-updates/restricted amd64 Packages [429 kB]\n",
            "Get:28 http://ppa.launchpad.net/deadsnakes/ppa/ubuntu bionic/main amd64 Packages [40.3 kB]\n",
            "Get:29 http://ppa.launchpad.net/graphics-drivers/ppa/ubuntu bionic/main amd64 Packages [53.2 kB]\n",
            "Fetched 13.0 MB in 5s (2,400 kB/s)\n",
            "Reading package lists... Done\n",
            "Building dependency tree       \n",
            "Reading state information... Done\n",
            "76 packages can be upgraded. Run 'apt list --upgradable' to see them.\n",
            "The following package was automatically installed and is no longer required:\n",
            "  libnvidia-common-460\n",
            "Use 'apt autoremove' to remove it.\n",
            "The following additional packages will be installed:\n",
            "  openjdk-8-jre-headless\n",
            "Suggested packages:\n",
            "  openjdk-8-demo openjdk-8-source libnss-mdns fonts-dejavu-extra\n",
            "  fonts-ipafont-gothic fonts-ipafont-mincho fonts-wqy-microhei\n",
            "  fonts-wqy-zenhei fonts-indic\n",
            "The following NEW packages will be installed:\n",
            "  openjdk-8-jdk-headless openjdk-8-jre-headless\n",
            "0 upgraded, 2 newly installed, 0 to remove and 76 not upgraded.\n",
            "Need to get 36.5 MB of archives.\n",
            "After this operation, 143 MB of additional disk space will be used.\n",
            "Selecting previously unselected package openjdk-8-jre-headless:amd64.\n",
            "(Reading database ... 160690 files and directories currently installed.)\n",
            "Preparing to unpack .../openjdk-8-jre-headless_8u292-b10-0ubuntu1~18.04_amd64.deb ...\n",
            "Unpacking openjdk-8-jre-headless:amd64 (8u292-b10-0ubuntu1~18.04) ...\n",
            "Selecting previously unselected package openjdk-8-jdk-headless:amd64.\n",
            "Preparing to unpack .../openjdk-8-jdk-headless_8u292-b10-0ubuntu1~18.04_amd64.deb ...\n",
            "Unpacking openjdk-8-jdk-headless:amd64 (8u292-b10-0ubuntu1~18.04) ...\n",
            "Setting up openjdk-8-jre-headless:amd64 (8u292-b10-0ubuntu1~18.04) ...\n",
            "update-alternatives: using /usr/lib/jvm/java-8-openjdk-amd64/jre/bin/orbd to provide /usr/bin/orbd (orbd) in auto mode\n",
            "update-alternatives: using /usr/lib/jvm/java-8-openjdk-amd64/jre/bin/servertool to provide /usr/bin/servertool (servertool) in auto mode\n",
            "update-alternatives: using /usr/lib/jvm/java-8-openjdk-amd64/jre/bin/tnameserv to provide /usr/bin/tnameserv (tnameserv) in auto mode\n",
            "Setting up openjdk-8-jdk-headless:amd64 (8u292-b10-0ubuntu1~18.04) ...\n",
            "update-alternatives: using /usr/lib/jvm/java-8-openjdk-amd64/bin/idlj to provide /usr/bin/idlj (idlj) in auto mode\n",
            "update-alternatives: using /usr/lib/jvm/java-8-openjdk-amd64/bin/wsimport to provide /usr/bin/wsimport (wsimport) in auto mode\n",
            "update-alternatives: using /usr/lib/jvm/java-8-openjdk-amd64/bin/jsadebugd to provide /usr/bin/jsadebugd (jsadebugd) in auto mode\n",
            "update-alternatives: using /usr/lib/jvm/java-8-openjdk-amd64/bin/native2ascii to provide /usr/bin/native2ascii (native2ascii) in auto mode\n",
            "update-alternatives: using /usr/lib/jvm/java-8-openjdk-amd64/bin/javah to provide /usr/bin/javah (javah) in auto mode\n",
            "update-alternatives: using /usr/lib/jvm/java-8-openjdk-amd64/bin/hsdb to provide /usr/bin/hsdb (hsdb) in auto mode\n",
            "update-alternatives: using /usr/lib/jvm/java-8-openjdk-amd64/bin/clhsdb to provide /usr/bin/clhsdb (clhsdb) in auto mode\n",
            "update-alternatives: using /usr/lib/jvm/java-8-openjdk-amd64/bin/extcheck to provide /usr/bin/extcheck (extcheck) in auto mode\n",
            "update-alternatives: using /usr/lib/jvm/java-8-openjdk-amd64/bin/schemagen to provide /usr/bin/schemagen (schemagen) in auto mode\n",
            "update-alternatives: using /usr/lib/jvm/java-8-openjdk-amd64/bin/xjc to provide /usr/bin/xjc (xjc) in auto mode\n",
            "update-alternatives: using /usr/lib/jvm/java-8-openjdk-amd64/bin/jhat to provide /usr/bin/jhat (jhat) in auto mode\n",
            "update-alternatives: using /usr/lib/jvm/java-8-openjdk-amd64/bin/wsgen to provide /usr/bin/wsgen (wsgen) in auto mode\n",
            "time: 26.1 s (started: 2021-05-03 22:13:43 +00:00)\n"
          ],
          "name": "stdout"
        }
      ]
    },
    {
      "cell_type": "code",
      "metadata": {
        "id": "ppkG73kRsei0",
        "colab": {
          "base_uri": "https://localhost:8080/"
        },
        "outputId": "54396ab5-5474-47da-8b79-6e40563c9f57"
      },
      "source": [
        "# Import modules\n",
        "import numpy as np\n",
        "import pandas as pd\n",
        "import datetime\n",
        "import matplotlib.pyplot as plt\n",
        "from pathlib import Path\n",
        "%matplotlib inline\n",
        "\n",
        "import pyspark\n",
        "from pyspark.sql import *\n",
        "from pyspark.sql.types import *\n",
        "from pyspark.sql.functions import *\n",
        "from pyspark import SparkContext, SparkConf"
      ],
      "execution_count": 8,
      "outputs": [
        {
          "output_type": "stream",
          "text": [
            "time: 13.2 ms (started: 2021-05-03 22:14:10 +00:00)\n"
          ],
          "name": "stdout"
        }
      ]
    },
    {
      "cell_type": "code",
      "metadata": {
        "colab": {
          "base_uri": "https://localhost:8080/"
        },
        "id": "pYm9-j_fflal",
        "outputId": "a5af6219-40b1-41c9-ec4f-d4417b185661"
      },
      "source": [
        "import altair as alt\n",
        "alt.data_transformers.disable_max_rows()"
      ],
      "execution_count": 9,
      "outputs": [
        {
          "output_type": "execute_result",
          "data": {
            "text/plain": [
              "DataTransformerRegistry.enable('default')"
            ]
          },
          "metadata": {
            "tags": []
          },
          "execution_count": 9
        },
        {
          "output_type": "stream",
          "text": [
            "time: 7.06 ms (started: 2021-05-03 22:14:10 +00:00)\n"
          ],
          "name": "stdout"
        }
      ]
    },
    {
      "cell_type": "code",
      "metadata": {
        "id": "1oe1ksN5skMG",
        "colab": {
          "base_uri": "https://localhost:8080/"
        },
        "outputId": "ed6a88c4-0179-467f-e61c-806da8affe71"
      },
      "source": [
        "# create the session\n",
        "conf = SparkConf().set(\"spark.ui.port\", \"4050\")\n",
        "\n",
        "# create the context\n",
        "sc = pyspark.SparkContext(conf=conf)\n",
        "spark = SparkSession.builder.getOrCreate()"
      ],
      "execution_count": 10,
      "outputs": [
        {
          "output_type": "stream",
          "text": [
            "time: 5.29 s (started: 2021-05-03 22:14:10 +00:00)\n"
          ],
          "name": "stdout"
        }
      ]
    },
    {
      "cell_type": "code",
      "metadata": {
        "colab": {
          "base_uri": "https://localhost:8080/"
        },
        "id": "WGXwI2d1szaO",
        "outputId": "9efd9066-f62d-40f3-dd80-27be3cff8271"
      },
      "source": [
        "# Mount drive with data\n",
        "from google.colab import drive\n",
        "drive.mount('/content/drive')"
      ],
      "execution_count": 11,
      "outputs": [
        {
          "output_type": "stream",
          "text": [
            "Mounted at /content/drive\n",
            "time: 21.2 s (started: 2021-05-03 22:14:15 +00:00)\n"
          ],
          "name": "stdout"
        }
      ]
    },
    {
      "cell_type": "code",
      "metadata": {
        "id": "grN2uNcFvloa",
        "colab": {
          "base_uri": "https://localhost:8080/"
        },
        "outputId": "3579813f-3112-4be4-dee0-a986860947bb"
      },
      "source": [
        "# Set path to data folder\n",
        "path = Path('drive/MyDrive/big-data-project/data/clean-data')\n",
        "city = 'ch'"
      ],
      "execution_count": 12,
      "outputs": [
        {
          "output_type": "stream",
          "text": [
            "time: 1.58 ms (started: 2021-05-03 22:14:36 +00:00)\n"
          ],
          "name": "stdout"
        }
      ]
    },
    {
      "cell_type": "code",
      "metadata": {
        "colab": {
          "base_uri": "https://localhost:8080/"
        },
        "id": "BvCrFmU2tGXY",
        "outputId": "1272c18e-d77a-4b71-812a-a8fdad3e953d"
      },
      "source": [
        "# Read data into dataframe\n",
        "df_soc = spark.read.format('csv').option('header','true').option('quote',\"\\\"\").option('escape',\"\\\"\").load(str(path/city/'social/2020/*.csv'))\n",
        "df_soc.show()"
      ],
      "execution_count": 13,
      "outputs": [
        {
          "output_type": "stream",
          "text": [
            "+---+------------+--------------------+--------------------+------------+---------------------------+--------------------------+------------------------------------------+----------------------------+----------------------+------------------------+--------------------+-------------------------------+-------------------------------+--------------------+-------------------------+--------------------------+----------------------+----------------------------+---------------------------+-----------------------------+\n",
            "|_c0|         cbg|    date_range_start|      date_range_end|device_count|distance_traveled_from_home|bucketed_distance_traveled|median_dwell_at_bucketed_distance_traveled|completely_home_device_count|median_home_dwell_time|bucketed_home_dwell_time|at_home_by_each_hour|part_time_work_behavior_devices|full_time_work_behavior_devices|    destination_cbgs|delivery_behavior_devices|median_non_home_dwell_time|candidate_device_count|bucketed_away_from_home_time|median_percentage_time_home|bucketed_percentage_time_home|\n",
            "+---+------------+--------------------+--------------------+------------+---------------------------+--------------------------+------------------------------------------+----------------------------+----------------------+------------------------+--------------------+-------------------------------+-------------------------------+--------------------+-------------------------+--------------------------+----------------------+----------------------------+---------------------------+-----------------------------+\n",
            "|  0|170312304002|2020-02-07T00:00:...|2020-02-08T00:00:...|          76|                       5066|      {\"16001-50000\":2,...|                      {\"16001-50000\":96...|                          22|                   786|    {\"721-1080\":17,\"3...|[54,56,57,49,55,5...|                              9|                              7|{\"170318382002\":1...|                        2|                        92|                   150|        {\"21-45\":5,\"481-5...|                         81|         {\"26-50\":7,\"51-75...|\n",
            "|  1|170313005002|2020-02-07T00:00:...|2020-02-08T00:00:...|          72|                       4043|      {\"16001-50000\":8,...|                      {\"16001-50000\":72...|                          27|                   686|    {\"721-1080\":16,\"3...|[45,47,46,50,47,4...|                             12|                              9|{\"170312924002\":1...|                        2|                       147|                   165|        {\"21-45\":3,\"481-5...|                         83|         {\"26-50\":4,\"51-75...|\n",
            "|  2|170314208001|2020-02-07T00:00:...|2020-02-08T00:00:...|         127|                       7799|      {\"16001-50000\":15...|                      {\"16001-50000\":75...|                          33|                   492|    {\"721-1080\":33,\"3...|[60,61,65,62,63,5...|                             11|                             15|{\"170314111002\":1...|                        3|                       142|                   333|        {\"21-45\":6,\"481-5...|                         64|         {\"26-50\":8,\"51-75...|\n",
            "|  3|170317608034|2020-02-07T00:00:...|2020-02-08T00:00:...|         114|                      10827|      {\"16001-50000\":15...|                      {\"16001-50000\":63...|                          37|                   445|    {\"721-1080\":16,\"3...|[50,50,54,55,52,5...|                             11|                             10|{\"171079531004\":1...|                        2|                        72|                   205|        {\"21-45\":4,\"481-5...|                         83|         {\"0-25\":26,\"76-10...|\n",
            "|  4|170318033003|2020-02-07T00:00:...|2020-02-08T00:00:...|          91|                       4207|      {\"16001-50000\":10...|                      {\"16001-50000\":75...|                          29|                   482|    {\"721-1080\":18,\"3...|[51,54,48,50,50,5...|                              8|                             13|{\"170318030171\":2...|                        1|                       136|                   171|        {\"21-45\":1,\"481-5...|                         75|         {\"0-25\":15,\"76-10...|\n",
            "|  5|170318146005|2020-02-07T00:00:...|2020-02-08T00:00:...|          51|                       2147|      {\"16001-50000\":2,...|                      {\"16001-50000\":11...|                          11|                   700|    {\"721-1080\":4,\"36...|[29,30,26,28,29,3...|                              1|                              4|{\"170310815003\":1...|                        1|                       102|                    89|        {\"21-45\":3,\"481-5...|                         78|         {\"26-50\":5,\"51-75...|\n",
            "|  6|170318182002|2020-02-07T00:00:...|2020-02-08T00:00:...|          51|                       9323|      {\"16001-50000\":4,...|                      {\"16001-50000\":12...|                          19|                   646|    {\"721-1080\":3,\"36...|[23,24,25,26,27,2...|                              3|                              1|{\"170438443013\":1...|                        1|                         5|                    87|        {\"481-540\":1,\"541...|                        100|         {\"0-25\":3,\"76-100...|\n",
            "|  7|170318240053|2020-02-07T00:00:...|2020-02-08T00:00:...|         123|                       7420|      {\"16001-50000\":32...|                      {\"16001-50000\":62...|                          21|                   703|    {\"721-1080\":35,\"3...|[85,85,84,85,86,8...|                             26|                             13|{\"171978801122\":1...|                        4|                       235|                   222|        {\"21-45\":7,\"481-5...|                         72|         {\"26-50\":15,\"51-7...|\n",
            "|  8|170318348001|2020-02-07T00:00:...|2020-02-08T00:00:...|          32|                       7063|      {\"16001-50000\":2,...|                      {\"16001-50000\":12...|                          12|                   382|    {\"721-1080\":3,\"36...|[15,15,14,14,14,1...|                              4|                              6|{\"170318382002\":2...|                        1|                       130|                    71|        {\"21-45\":1,\"481-5...|                         67|         {\"0-25\":13,\"76-10...|\n",
            "|  9|170438411042|2020-02-07T00:00:...|2020-02-08T00:00:...|          57|                       5586|      {\"16001-50000\":7,...|                      {\"16001-50000\":69...|                          14|                   659|    {\"721-1080\":10,\"3...|[26,29,31,28,29,2...|                              7|                              5|{\"180731011002\":1...|                        1|                        79|                   104|        {\"21-45\":2,\"481-5...|                         76|         {\"0-25\":14,\"76-10...|\n",
            "| 10|170438427041|2020-02-07T00:00:...|2020-02-08T00:00:...|          84|                       8582|      {\"16001-50000\":9,...|                      {\"16001-50000\":20...|                          23|                   672|    {\"721-1080\":18,\"3...|[49,53,54,55,54,5...|                             17|                              6|{\"170438413222\":1...|                        2|                        97|                   171|        {\"21-45\":4,\"481-5...|                         82|         {\"26-50\":7,\"51-75...|\n",
            "| 11|180890307002|2020-02-07T00:00:...|2020-02-08T00:00:...|          58|                       5723|      {\"16001-50000\":6,...|                      {\"16001-50000\":25...|                          17|                   450|    {\"721-1080\":11,\"3...|[21,25,25,29,26,2...|                              2|                              3|{\"180890402001\":1...|                        1|                        36|                   109|        {\"21-45\":10,\"481-...|                         88|         {\"0-25\":11,\"76-10...|\n",
            "| 12|170438445011|2020-02-07T00:00:...|2020-02-08T00:00:...|          48|                       2959|      {\"16001-50000\":6,...|                      {\"16001-50000\":80...|                          15|                   662|    {\"721-1080\":15,\"3...|[31,28,29,29,29,2...|                              9|                              9|{\"170318202013\":1...|                        1|                       295|                    98|        {\"481-540\":2,\"541...|                         64|         {\"26-50\":4,\"51-75...|\n",
            "| 13|171118712022|2020-02-07T00:00:...|2020-02-08T00:00:...|          86|                       3552|      {\"16001-50000\":9,...|                      {\"16001-50000\":15...|                          24|                   787|    {\"721-1080\":28,\"3...|[55,59,62,57,60,5...|                             12|                             12|{\"171118709031\":1...|                        6|                       104|                   173|        {\"21-45\":3,\"481-5...|                         73|         {\"26-50\":2,\"51-75...|\n",
            "| 14|180890408013|2020-02-07T00:00:...|2020-02-08T00:00:...|          72|                       7487|      {\"16001-50000\":12...|                      {\"16001-50000\":85...|                          18|                   505|    {\"721-1080\":19,\"3...|[33,37,35,35,37,3...|                              6|                              7|{\"181410112011\":1...|                        4|                       140|                   169|        {\"21-45\":2,\"481-5...|                         72|         {\"26-50\":4,\"51-75...|\n",
            "| 15|170312004021|2020-02-07T00:00:...|2020-02-08T00:00:...|          98|                       3123|      {\"16001-50000\":3,...|                      {\"16001-50000\":21...|                          26|                   734|    {\"721-1080\":28,\"3...|[61,66,65,65,63,6...|                             18|                             11|{\"170311906022\":1...|                        2|                       257|                   201|        {\"21-45\":6,\"481-5...|                         69|         {\"0-25\":14,\"76-10...|\n",
            "| 16|170312309002|2020-02-07T00:00:...|2020-02-08T00:00:...|          80|                       5832|      {\"16001-50000\":7,...|                      {\"16001-50000\":60...|                          21|                   656|    {\"721-1080\":19,\"3...|[45,49,48,45,46,4...|                              5|                              1|{\"170312307002\":2...|                        1|                        84|                   208|        {\"21-45\":3,\"481-5...|                         80|         {\"26-50\":1,\"51-75...|\n",
            "| 17|170312838002|2020-02-07T00:00:...|2020-02-08T00:00:...|         126|                       4159|      {\"16001-50000\":9,...|                      {\"16001-50000\":59...|                          38|                   581|    {\"721-1080\":24,\"3...|[67,69,68,70,66,7...|                             14|                             11|{\"170318066002\":1...|                        3|                        82|                   258|        {\"21-45\":4,\"481-5...|                         84|         {\"26-50\":7,\"51-75...|\n",
            "| 18|170318114023|2020-02-07T00:00:...|2020-02-08T00:00:...|          82|                       1917|      {\"16001-50000\":1,...|                      {\"16001-50000\":12...|                          31|                   559|    {\"721-1080\":11,\"3...|[41,44,44,44,43,4...|                             11|                              7|{\"170318114014\":2...|                        5|                        49|                   166|        {\"21-45\":4,\"481-5...|                         93|         {\"26-50\":1,\"51-75...|\n",
            "| 19|170318117021|2020-02-07T00:00:...|2020-02-08T00:00:...|          74|                       6079|      {\"16001-50000\":8,...|                      {\"16001-50000\":10...|                          16|                   335|    {\"721-1080\":16,\"3...|[34,34,36,38,37,3...|                             11|                             10|{\"551091208001\":1...|                        3|                       113|                   149|        {\"21-45\":5,\"481-5...|                         66|         {\"0-25\":20,\"76-10...|\n",
            "+---+------------+--------------------+--------------------+------------+---------------------------+--------------------------+------------------------------------------+----------------------------+----------------------+------------------------+--------------------+-------------------------------+-------------------------------+--------------------+-------------------------+--------------------------+----------------------+----------------------------+---------------------------+-----------------------------+\n",
            "only showing top 20 rows\n",
            "\n",
            "time: 33.4 s (started: 2021-05-03 22:14:36 +00:00)\n"
          ],
          "name": "stdout"
        }
      ]
    },
    {
      "cell_type": "code",
      "metadata": {
        "colab": {
          "base_uri": "https://localhost:8080/"
        },
        "id": "wh747sqcHi4-",
        "outputId": "eaa176cb-8142-4552-e575-2df9932d4d13"
      },
      "source": [
        "# Create tempview for sparksql query\n",
        "df_soc.createOrReplaceTempView('clean_ch')\n",
        "df_soc = spark.sql('SELECT cbg, date_range_start as date, device_count, part_time_work_behavior_devices FROM clean_ch WHERE device_count > 5')\n",
        "df_soc.show()"
      ],
      "execution_count": 14,
      "outputs": [
        {
          "output_type": "stream",
          "text": [
            "+------------+--------------------+------------+-------------------------------+\n",
            "|         cbg|                date|device_count|part_time_work_behavior_devices|\n",
            "+------------+--------------------+------------+-------------------------------+\n",
            "|170312304002|2020-02-07T00:00:...|          76|                              9|\n",
            "|170313005002|2020-02-07T00:00:...|          72|                             12|\n",
            "|170314208001|2020-02-07T00:00:...|         127|                             11|\n",
            "|170317608034|2020-02-07T00:00:...|         114|                             11|\n",
            "|170318033003|2020-02-07T00:00:...|          91|                              8|\n",
            "|170318146005|2020-02-07T00:00:...|          51|                              1|\n",
            "|170318182002|2020-02-07T00:00:...|          51|                              3|\n",
            "|170318240053|2020-02-07T00:00:...|         123|                             26|\n",
            "|170318348001|2020-02-07T00:00:...|          32|                              4|\n",
            "|170438411042|2020-02-07T00:00:...|          57|                              7|\n",
            "|170438427041|2020-02-07T00:00:...|          84|                             17|\n",
            "|180890307002|2020-02-07T00:00:...|          58|                              2|\n",
            "|170438445011|2020-02-07T00:00:...|          48|                              9|\n",
            "|171118712022|2020-02-07T00:00:...|          86|                             12|\n",
            "|180890408013|2020-02-07T00:00:...|          72|                              6|\n",
            "|170312004021|2020-02-07T00:00:...|          98|                             18|\n",
            "|170312309002|2020-02-07T00:00:...|          80|                              5|\n",
            "|170312838002|2020-02-07T00:00:...|         126|                             14|\n",
            "|170318114023|2020-02-07T00:00:...|          82|                             11|\n",
            "|170318117021|2020-02-07T00:00:...|          74|                             11|\n",
            "+------------+--------------------+------------+-------------------------------+\n",
            "only showing top 20 rows\n",
            "\n",
            "time: 965 ms (started: 2021-05-03 22:15:10 +00:00)\n"
          ],
          "name": "stdout"
        }
      ]
    },
    {
      "cell_type": "code",
      "metadata": {
        "id": "nlVhrn2-Rp_O",
        "colab": {
          "base_uri": "https://localhost:8080/"
        },
        "outputId": "3981bc90-ec6b-4715-9364-ad23768c88ea"
      },
      "source": [
        "# Taking substring of date for \"yyyy-mm-dd\"\n",
        "df_soc = df_soc.withColumn(\"date\",\n",
        "    df_soc['date'].substr(0, 10))"
      ],
      "execution_count": 15,
      "outputs": [
        {
          "output_type": "stream",
          "text": [
            "time: 80.9 ms (started: 2021-05-03 22:15:10 +00:00)\n"
          ],
          "name": "stdout"
        }
      ]
    },
    {
      "cell_type": "code",
      "metadata": {
        "colab": {
          "base_uri": "https://localhost:8080/"
        },
        "id": "2ryRoACoJMPZ",
        "outputId": "22cac540-4010-4064-d713-b3fdf5c36a20"
      },
      "source": [
        "df_soc.show()"
      ],
      "execution_count": 16,
      "outputs": [
        {
          "output_type": "stream",
          "text": [
            "+------------+----------+------------+-------------------------------+\n",
            "|         cbg|      date|device_count|part_time_work_behavior_devices|\n",
            "+------------+----------+------------+-------------------------------+\n",
            "|170312304002|2020-02-07|          76|                              9|\n",
            "|170313005002|2020-02-07|          72|                             12|\n",
            "|170314208001|2020-02-07|         127|                             11|\n",
            "|170317608034|2020-02-07|         114|                             11|\n",
            "|170318033003|2020-02-07|          91|                              8|\n",
            "|170318146005|2020-02-07|          51|                              1|\n",
            "|170318182002|2020-02-07|          51|                              3|\n",
            "|170318240053|2020-02-07|         123|                             26|\n",
            "|170318348001|2020-02-07|          32|                              4|\n",
            "|170438411042|2020-02-07|          57|                              7|\n",
            "|170438427041|2020-02-07|          84|                             17|\n",
            "|180890307002|2020-02-07|          58|                              2|\n",
            "|170438445011|2020-02-07|          48|                              9|\n",
            "|171118712022|2020-02-07|          86|                             12|\n",
            "|180890408013|2020-02-07|          72|                              6|\n",
            "|170312004021|2020-02-07|          98|                             18|\n",
            "|170312309002|2020-02-07|          80|                              5|\n",
            "|170312838002|2020-02-07|         126|                             14|\n",
            "|170318114023|2020-02-07|          82|                             11|\n",
            "|170318117021|2020-02-07|          74|                             11|\n",
            "+------------+----------+------------+-------------------------------+\n",
            "only showing top 20 rows\n",
            "\n",
            "time: 398 ms (started: 2021-05-03 22:15:11 +00:00)\n"
          ],
          "name": "stdout"
        }
      ]
    },
    {
      "cell_type": "code",
      "metadata": {
        "colab": {
          "base_uri": "https://localhost:8080/"
        },
        "id": "UL4qIhZu7JKC",
        "outputId": "43da1a9e-61f8-4a80-9a73-afaae2a1c23a"
      },
      "source": [
        "# Add part time percentage column\n",
        "df_soc = df_soc.withColumn('part_time_work_percentage', (df_soc['part_time_work_behavior_devices']/df_soc['device_count']) * 100)\n",
        "\n",
        "#df_soc.show()"
      ],
      "execution_count": 17,
      "outputs": [
        {
          "output_type": "stream",
          "text": [
            "time: 57.1 ms (started: 2021-05-03 22:15:11 +00:00)\n"
          ],
          "name": "stdout"
        }
      ]
    },
    {
      "cell_type": "code",
      "metadata": {
        "colab": {
          "base_uri": "https://localhost:8080/"
        },
        "id": "OAUIODseCoSg",
        "outputId": "a6c6af9b-2eab-4b06-c808-b11101235c37"
      },
      "source": [
        "#Create temp view\n",
        "df_soc.createOrReplaceTempView('mobility')"
      ],
      "execution_count": 18,
      "outputs": [
        {
          "output_type": "stream",
          "text": [
            "time: 43 ms (started: 2021-05-03 22:15:11 +00:00)\n"
          ],
          "name": "stdout"
        }
      ]
    },
    {
      "cell_type": "markdown",
      "metadata": {
        "id": "Sj4xc1gTpm2X"
      },
      "source": [
        "\n",
        "\n",
        "---\n",
        "\n",
        "\n",
        "**Demographic data**\n",
        "\n",
        "\n",
        "\n",
        "\n",
        "\n",
        "---\n",
        "\n"
      ]
    },
    {
      "cell_type": "code",
      "metadata": {
        "colab": {
          "base_uri": "https://localhost:8080/"
        },
        "id": "1SVVsXtuzqRf",
        "outputId": "1dcaf496-d6bc-470b-89dc-d39d7317e571"
      },
      "source": [
        "# Read poverty data\n",
        "# Read data into RDD\n",
        "df_demographic = spark.read.format('csv').option('header','true').option('quote',\"\\\"\").option('escape',\"\\\"\").load(str(path/city/'ch.csv'))\n",
        "df_demographic.createOrReplaceTempView('demographic')\n",
        "df_demographic.show()"
      ],
      "execution_count": 19,
      "outputs": [
        {
          "output_type": "stream",
          "text": [
            "+------------+---------+------------------+-------------------+\n",
            "|         cbg|pop_total|poverty_percentage|     perc_whiteonly|\n",
            "+------------+---------+------------------+-------------------+\n",
            "|170312909001|      935|  55.8288770053476|                0.0|\n",
            "|170312909002|     1129|45.261293179805136|                0.0|\n",
            "|170312909003|      765|  39.7078353253652|                0.0|\n",
            "|170312909004|     1075|30.325581395348838|                0.0|\n",
            "|170318387002|     1016|31.003937007874015| 13.484251968503939|\n",
            "|170313102001|      835|16.766467065868262|  78.20359281437126|\n",
            "|170313102002|      686| 16.61807580174927| 50.583090379008745|\n",
            "|170314005002|      807|40.644361833952914|                0.0|\n",
            "|170314804006|      710| 1.971830985915493|  1.267605633802817|\n",
            "|170314804007|      650|               0.0|                0.0|\n",
            "|170314805001|     1141|  9.55302366345311|  4.206836108676599|\n",
            "|170312608002|     1100| 55.45454545454545| 2.8181818181818183|\n",
            "|170312609001|      836| 44.85645933014354|  8.971291866028707|\n",
            "|170312609002|      614| 35.82342954159593| 0.9771986970684038|\n",
            "|170312610002|     1265| 35.08771929824561|0.31620553359683795|\n",
            "|171978805071|     6606| 9.564953766863727| 37.753557372085986|\n",
            "|171978803033|     1165|               0.0|  81.80257510729614|\n",
            "|170318036032|     1431|0.9084556254367574|              100.0|\n",
            "|170310814022|     1708| 8.021077283372366|  74.35597189695551|\n",
            "|170310609004|     3562| 7.130825379000562|   91.4093206064009|\n",
            "+------------+---------+------------------+-------------------+\n",
            "only showing top 20 rows\n",
            "\n",
            "time: 921 ms (started: 2021-05-03 22:15:11 +00:00)\n"
          ],
          "name": "stdout"
        }
      ]
    },
    {
      "cell_type": "code",
      "metadata": {
        "colab": {
          "base_uri": "https://localhost:8080/"
        },
        "id": "Ff9bk8_6qBQ2",
        "outputId": "a16a0f91-582d-415e-e86b-7c7965b61bd0"
      },
      "source": [
        "# Performing inner join on mobility and demographic table using cbg\n",
        "df_mob_demo = spark.sql('SELECT mobility.*, demographic.poverty_percentage from mobility INNER JOIN demographic ON mobility.cbg = demographic.cbg')\n",
        "df_mob_demo.createOrReplaceTempView('demographic_mobility')\n",
        "df_mob_demo.show()\n"
      ],
      "execution_count": 20,
      "outputs": [
        {
          "output_type": "stream",
          "text": [
            "+------------+----------+------------+-------------------------------+-------------------------+------------------+\n",
            "|         cbg|      date|device_count|part_time_work_behavior_devices|part_time_work_percentage|poverty_percentage|\n",
            "+------------+----------+------------+-------------------------------+-------------------------+------------------+\n",
            "|170312304002|2020-02-07|          76|                              9|       11.842105263157894|19.847972972972975|\n",
            "|170313005002|2020-02-07|          72|                             12|       16.666666666666664|22.696011004126547|\n",
            "|170314208001|2020-02-07|         127|                             11|        8.661417322834646| 34.01677539608574|\n",
            "|170317608034|2020-02-07|         114|                             11|        9.649122807017543|13.651647612642906|\n",
            "|170318033003|2020-02-07|          91|                              8|        8.791208791208792| 4.035608308605341|\n",
            "|170318146005|2020-02-07|          51|                              1|       1.9607843137254901|17.548500881834215|\n",
            "|170318182002|2020-02-07|          51|                              3|         5.88235294117647| 9.483667017913593|\n",
            "|170318240053|2020-02-07|         123|                             26|       21.138211382113823| 6.836544437538844|\n",
            "|170318348001|2020-02-07|          32|                              4|                     12.5| 33.17307692307692|\n",
            "|170438411042|2020-02-07|          57|                              7|       12.280701754385964|               0.0|\n",
            "|170438427041|2020-02-07|          84|                             17|       20.238095238095237| 19.55128205128205|\n",
            "|180890307002|2020-02-07|          58|                              2|       3.4482758620689653| 8.002832861189802|\n",
            "|170438445011|2020-02-07|          48|                              9|                    18.75| 1.008249312557287|\n",
            "|171118712022|2020-02-07|          86|                             12|       13.953488372093023|11.479944674965422|\n",
            "|180890408013|2020-02-07|          72|                              6|        8.333333333333332|12.694877505567929|\n",
            "|170312004021|2020-02-07|          98|                             18|       18.367346938775512| 16.45185746777862|\n",
            "|170312309002|2020-02-07|          80|                              5|                     6.25| 50.25380710659898|\n",
            "|170312838002|2020-02-07|         126|                             14|        11.11111111111111|24.961383997528575|\n",
            "|170318114023|2020-02-07|          82|                             11|       13.414634146341465| 6.048387096774194|\n",
            "|170318117021|2020-02-07|          74|                             11|       14.864864864864865|26.733576642335766|\n",
            "+------------+----------+------------+-------------------------------+-------------------------+------------------+\n",
            "only showing top 20 rows\n",
            "\n",
            "time: 1.25 s (started: 2021-05-03 22:15:12 +00:00)\n"
          ],
          "name": "stdout"
        }
      ]
    },
    {
      "cell_type": "code",
      "metadata": {
        "id": "6vFzCEtNukZy",
        "colab": {
          "base_uri": "https://localhost:8080/"
        },
        "outputId": "ffd0814b-6af6-4cbc-cb77-d1c7b2bc9187"
      },
      "source": [
        "# DIVIDING THE PEOPLE TOP 20 PERCENT AND BOTTOM 20 PERCENT\n",
        "\n",
        "df_mob_demo_high_class =  spark.sql('SELECT * FROM demographic_mobility WHERE poverty_percentage < 20')\n",
        "grouped_df_mob_demo_high_class = df_mob_demo_high_class.groupBy(\"date\").mean(\"part_time_work_percentage\").withColumnRenamed('avg(part_time_work_percentage)','part_time_work_percentage')\n",
        "grouped_df_mob_demo_high_class.createOrReplaceTempView('mob_demo_high_class')\n",
        "\n",
        "\n",
        "df_mob_demo_low_class =  spark.sql('SELECT * FROM demographic_mobility WHERE poverty_percentage > 80')\n",
        "grouped_df_mob_demo_low_class = df_mob_demo_low_class.groupBy(\"date\").mean(\"part_time_work_percentage\").withColumnRenamed('avg(part_time_work_percentage)','part_time_work_percentage')\n",
        "grouped_df_mob_demo_low_class.createOrReplaceTempView('mob_demo_low_class')\n",
        "\n",
        "grouped_df_mob_demo_combined = spark.sql(\"\"\"\n",
        "\n",
        "SELECT h.date,h.part_time_work_percentage as top20_perc,\n",
        "l.part_time_work_percentage as bottom20_perc  \n",
        "FROM mob_demo_high_class h INNER JOIN mob_demo_low_class l ON h.date = l.date\n",
        "\n",
        "\"\"\")"
      ],
      "execution_count": 21,
      "outputs": [
        {
          "output_type": "stream",
          "text": [
            "time: 373 ms (started: 2021-05-03 22:15:13 +00:00)\n"
          ],
          "name": "stdout"
        }
      ]
    },
    {
      "cell_type": "markdown",
      "metadata": {
        "id": "ow6mFwCFoc4r"
      },
      "source": [
        "**Load 2019 stats**"
      ]
    },
    {
      "cell_type": "code",
      "metadata": {
        "colab": {
          "base_uri": "https://localhost:8080/"
        },
        "id": "iBe00iTKobbO",
        "outputId": "ecffee8c-3f45-4cb2-bf9c-99e26121d8ad"
      },
      "source": [
        "# Getting mean of 2019 value for part time device count\n",
        "filename = '{}_social_summary_2019.csv'.format(city)\n",
        "stat_2019 = spark.read.format('csv').option('header','true').option('quote',\"\\\"\").option('escape',\"\\\"\").load(str(path/city/filename))\n",
        "stat_2019.show()\n",
        "mean_2019 = stat_2019.collect()[1][6]\n"
      ],
      "execution_count": 22,
      "outputs": [
        {
          "output_type": "stream",
          "text": [
            "+-----+------------------+------------------+------------------+-----------------+--------------------------+-------------------------+-------------------------+--------------------+--------------------+--------------------+\n",
            "|  _c0|             total|   completely_home|    part_time_work|   full_time_work|percentage_completely_home|percentage_part_time_work|percentage_full_time_work|norm_completely_home| norm_part_time_work| norm_full_time_work|\n",
            "+-----+------------------+------------------+------------------+-----------------+--------------------------+-------------------------+-------------------------+--------------------+--------------------+--------------------+\n",
            "|count|         2430227.0|         2430227.0|         2430227.0|        2430227.0|                 2430227.0|                2430227.0|                2430227.0|           2430227.0|           2430227.0|           2430227.0|\n",
            "| mean| 95.04381072220825|29.833984232748627|  8.54960421392734|5.511380212630343|        30.966265289442493|        8.979337405961639|        5.998589423116906|-3.66844051893425...|1.189521637447286...|-6.91747531652694...|\n",
            "|  std|111.97921542441331| 42.51986606975598|10.180834940819576|7.564772291957502|          9.89787776066493|        5.194712198874483|        4.761510062763089|  0.9999999999987093|  1.0000000000003801|    1.00000000000042|\n",
            "|  min|               5.0|               1.0|               1.0|              1.0|        0.6944444444444444|       0.1718213058419244|      0.06067961165048543| -3.0584153064913604| -1.6954772012255084| -1.2470644256122123|\n",
            "|  25%|              52.0|              15.0|               3.0|              1.0|        24.137931034482758|        4.918032786885246|       2.1505376344086025| -0.6898786204549988| -0.7818151350052345| -0.8081578612637208|\n",
            "|  50%|              72.0|              22.0|               6.0|              3.0|        30.434782608695656|        8.333333333333332|        4.597701149425287|-0.05369663008559247| -0.1243580102028123|-0.29421092368304014|\n",
            "|  75%|             103.0|              33.0|              11.0|              7.0|        37.234042553191486|        12.23404255319149|        8.661417322834646|  0.6332445616430739|  0.6265419570183377|  0.5592402125834235|\n",
            "|  max|            9089.0|            3637.0|             504.0|            244.0|         94.87179487179486|        66.66666666666666|        57.14285714285714|   6.456488060129292|  11.105009681422562|  10.741186523936774|\n",
            "+-----+------------------+------------------+------------------+-----------------+--------------------------+-------------------------+-------------------------+--------------------+--------------------+--------------------+\n",
            "\n",
            "time: 1.11 s (started: 2021-05-03 22:15:14 +00:00)\n"
          ],
          "name": "stdout"
        }
      ]
    },
    {
      "cell_type": "code",
      "metadata": {
        "colab": {
          "base_uri": "https://localhost:8080/"
        },
        "id": "jbZKBBrlsymR",
        "outputId": "a01772bb-1458-41b6-ef77-06db83101c26"
      },
      "source": [
        "# Calculate deviation form mean\n",
        "grouped_df_mob_demo_combined= grouped_df_mob_demo_combined.withColumn(\"top20_deviation\",\n",
        "    grouped_df_mob_demo_combined['top20_perc'] - mean_2019)\n"
      ],
      "execution_count": 23,
      "outputs": [
        {
          "output_type": "stream",
          "text": [
            "time: 41.4 ms (started: 2021-05-03 22:15:15 +00:00)\n"
          ],
          "name": "stdout"
        }
      ]
    },
    {
      "cell_type": "code",
      "metadata": {
        "colab": {
          "base_uri": "https://localhost:8080/"
        },
        "id": "m1v1M4wSwmbV",
        "outputId": "b2a6c778-d5a3-4786-bd36-18c76d407f84"
      },
      "source": [
        "# Taking bottom and top 20 percent to get the wealthiest and poorest population data\n",
        "grouped_df_mob_demo_combined = grouped_df_mob_demo_combined.withColumn(\"bottom20_deviation\",\n",
        "    grouped_df_mob_demo_combined['bottom20_perc'] - mean_2019)"
      ],
      "execution_count": 24,
      "outputs": [
        {
          "output_type": "stream",
          "text": [
            "time: 49.1 ms (started: 2021-05-03 22:15:15 +00:00)\n"
          ],
          "name": "stdout"
        }
      ]
    },
    {
      "cell_type": "markdown",
      "metadata": {
        "id": "JxSLoJSmYuj8"
      },
      "source": [
        "\n",
        "**Visualizations** \n",
        "\n"
      ]
    },
    {
      "cell_type": "code",
      "metadata": {
        "colab": {
          "base_uri": "https://localhost:8080/"
        },
        "id": "S4CaYZVO43kY",
        "outputId": "0bc8f29a-7d48-4015-dfc3-9432920cadbd"
      },
      "source": [
        "# Create altair library theme \n",
        "\n",
        "def my_theme():\n",
        "  return {\n",
        "    'config': {\n",
        "      'view': {'continuousHeight': 300, 'continuousWidth': 400},  # from the default theme\n",
        "      'range': {'category': {'scheme': ['#FF4500','#a0aab4','#4E79A7']}}\n",
        "    }\n",
        "  }\n",
        "alt.themes.register('my_theme', my_theme)\n",
        "alt.themes.enable('my_theme')\n",
        "# "
      ],
      "execution_count": 25,
      "outputs": [
        {
          "output_type": "execute_result",
          "data": {
            "text/plain": [
              "ThemeRegistry.enable('my_theme')"
            ]
          },
          "metadata": {
            "tags": []
          },
          "execution_count": 25
        },
        {
          "output_type": "stream",
          "text": [
            "time: 39.2 ms (started: 2021-05-03 22:15:15 +00:00)\n"
          ],
          "name": "stdout"
        }
      ]
    },
    {
      "cell_type": "code",
      "metadata": {
        "colab": {
          "base_uri": "https://localhost:8080/"
        },
        "id": "0KpTm73-BpiA",
        "outputId": "21104558-2657-461b-b96e-b7ded4aade48"
      },
      "source": [
        "# Define characteristics for visualisation creation\n",
        "def create_chart(df) :\n",
        "  chart = alt.Chart(df).transform_fold(\n",
        "    fold=['Bottom 20 % Deviation', 'Top 20 % Deviation'],\n",
        "    as_ = ['Poverty %','part_time_work']\n",
        "    \n",
        "    ).mark_line().encode(\n",
        "      x= alt.X('date:T', title = 'Date'),\n",
        "      y= alt.Y('part_time_work:Q', title = 'Part Time %'),\n",
        "      color='Poverty %:N'\n",
        "    ).properties(width = 1000).interactive()\n",
        "\n",
        "  rule = alt.Chart(pd.DataFrame({'Mean 2019':[0]})).mark_rule(color='#757575',strokeDash=[5,3], size=2).encode(\n",
        "    y='Mean 2019',\n",
        "    size=alt.value(2),\n",
        "    )\n",
        "  \n",
        "  text = alt.Chart({'values':[{ 'y': 1}]}).mark_text(\n",
        "    text='Mean 2019', angle=0\n",
        "    ).encode(\n",
        "      y=alt.Y('y:Q'),opacity=alt.value(0.4)\n",
        "    )\n",
        "\n",
        "  return  chart + rule + text\n"
      ],
      "execution_count": 26,
      "outputs": [
        {
          "output_type": "stream",
          "text": [
            "time: 28.1 ms (started: 2021-05-03 22:15:15 +00:00)\n"
          ],
          "name": "stdout"
        }
      ]
    },
    {
      "cell_type": "code",
      "metadata": {
        "colab": {
          "base_uri": "https://localhost:8080/"
        },
        "id": "P9AleyUlCeuI",
        "outputId": "ad93299b-1cd4-45ab-9c09-d0a10579cdf7"
      },
      "source": [
        "# Function to filter date from dataset\n",
        "def apply_date_filter(df,start_date,end_date) :\n",
        "  mask = (df['date'] > start_date) & (df['date'] <= end_date)\n",
        "  dfX = df.loc[mask]\n",
        "  return dfX"
      ],
      "execution_count": 27,
      "outputs": [
        {
          "output_type": "stream",
          "text": [
            "time: 7.38 ms (started: 2021-05-03 22:15:15 +00:00)\n"
          ],
          "name": "stdout"
        }
      ]
    },
    {
      "cell_type": "code",
      "metadata": {
        "colab": {
          "base_uri": "https://localhost:8080/",
          "height": 442
        },
        "id": "V4EHlNdfSVal",
        "outputId": "4ba7601e-ca37-4a35-8013-87c06aab308e"
      },
      "source": [
        "# create pandas dataframe for visualizations\n",
        "df = grouped_df_mob_demo_combined.toPandas()\n",
        "df"
      ],
      "execution_count": 28,
      "outputs": [
        {
          "output_type": "execute_result",
          "data": {
            "text/html": [
              "<div>\n",
              "<style scoped>\n",
              "    .dataframe tbody tr th:only-of-type {\n",
              "        vertical-align: middle;\n",
              "    }\n",
              "\n",
              "    .dataframe tbody tr th {\n",
              "        vertical-align: top;\n",
              "    }\n",
              "\n",
              "    .dataframe thead th {\n",
              "        text-align: right;\n",
              "    }\n",
              "</style>\n",
              "<table border=\"1\" class=\"dataframe\">\n",
              "  <thead>\n",
              "    <tr style=\"text-align: right;\">\n",
              "      <th></th>\n",
              "      <th>date</th>\n",
              "      <th>top20_perc</th>\n",
              "      <th>bottom20_perc</th>\n",
              "      <th>top20_deviation</th>\n",
              "      <th>bottom20_deviation</th>\n",
              "    </tr>\n",
              "  </thead>\n",
              "  <tbody>\n",
              "    <tr>\n",
              "      <th>0</th>\n",
              "      <td>2020-02-26</td>\n",
              "      <td>14.838739</td>\n",
              "      <td>8.705504</td>\n",
              "      <td>5.859402</td>\n",
              "      <td>-0.273834</td>\n",
              "    </tr>\n",
              "    <tr>\n",
              "      <th>1</th>\n",
              "      <td>2020-04-13</td>\n",
              "      <td>4.162511</td>\n",
              "      <td>5.697567</td>\n",
              "      <td>-4.816826</td>\n",
              "      <td>-3.281770</td>\n",
              "    </tr>\n",
              "    <tr>\n",
              "      <th>2</th>\n",
              "      <td>2020-06-24</td>\n",
              "      <td>6.133126</td>\n",
              "      <td>5.802382</td>\n",
              "      <td>-2.846211</td>\n",
              "      <td>-3.176956</td>\n",
              "    </tr>\n",
              "    <tr>\n",
              "      <th>3</th>\n",
              "      <td>2020-06-08</td>\n",
              "      <td>6.171660</td>\n",
              "      <td>6.228398</td>\n",
              "      <td>-2.807677</td>\n",
              "      <td>-2.750939</td>\n",
              "    </tr>\n",
              "    <tr>\n",
              "      <th>4</th>\n",
              "      <td>2020-09-12</td>\n",
              "      <td>4.650525</td>\n",
              "      <td>3.925098</td>\n",
              "      <td>-4.328812</td>\n",
              "      <td>-5.054239</td>\n",
              "    </tr>\n",
              "    <tr>\n",
              "      <th>...</th>\n",
              "      <td>...</td>\n",
              "      <td>...</td>\n",
              "      <td>...</td>\n",
              "      <td>...</td>\n",
              "      <td>...</td>\n",
              "    </tr>\n",
              "    <tr>\n",
              "      <th>361</th>\n",
              "      <td>2020-04-05</td>\n",
              "      <td>2.795588</td>\n",
              "      <td>3.023700</td>\n",
              "      <td>-6.183750</td>\n",
              "      <td>-5.955637</td>\n",
              "    </tr>\n",
              "    <tr>\n",
              "      <th>362</th>\n",
              "      <td>2020-05-01</td>\n",
              "      <td>5.769365</td>\n",
              "      <td>6.391830</td>\n",
              "      <td>-3.209973</td>\n",
              "      <td>-2.587508</td>\n",
              "    </tr>\n",
              "    <tr>\n",
              "      <th>363</th>\n",
              "      <td>2020-10-25</td>\n",
              "      <td>4.333854</td>\n",
              "      <td>6.272525</td>\n",
              "      <td>-4.645484</td>\n",
              "      <td>-2.706812</td>\n",
              "    </tr>\n",
              "    <tr>\n",
              "      <th>364</th>\n",
              "      <td>2020-12-28</td>\n",
              "      <td>7.782939</td>\n",
              "      <td>4.636885</td>\n",
              "      <td>-1.196399</td>\n",
              "      <td>-4.342452</td>\n",
              "    </tr>\n",
              "    <tr>\n",
              "      <th>365</th>\n",
              "      <td>2020-12-19</td>\n",
              "      <td>6.806241</td>\n",
              "      <td>6.097514</td>\n",
              "      <td>-2.173097</td>\n",
              "      <td>-2.881823</td>\n",
              "    </tr>\n",
              "  </tbody>\n",
              "</table>\n",
              "<p>366 rows × 5 columns</p>\n",
              "</div>"
            ],
            "text/plain": [
              "           date  top20_perc  bottom20_perc  top20_deviation  bottom20_deviation\n",
              "0    2020-02-26   14.838739       8.705504         5.859402           -0.273834\n",
              "1    2020-04-13    4.162511       5.697567        -4.816826           -3.281770\n",
              "2    2020-06-24    6.133126       5.802382        -2.846211           -3.176956\n",
              "3    2020-06-08    6.171660       6.228398        -2.807677           -2.750939\n",
              "4    2020-09-12    4.650525       3.925098        -4.328812           -5.054239\n",
              "..          ...         ...            ...              ...                 ...\n",
              "361  2020-04-05    2.795588       3.023700        -6.183750           -5.955637\n",
              "362  2020-05-01    5.769365       6.391830        -3.209973           -2.587508\n",
              "363  2020-10-25    4.333854       6.272525        -4.645484           -2.706812\n",
              "364  2020-12-28    7.782939       4.636885        -1.196399           -4.342452\n",
              "365  2020-12-19    6.806241       6.097514        -2.173097           -2.881823\n",
              "\n",
              "[366 rows x 5 columns]"
            ]
          },
          "metadata": {
            "tags": []
          },
          "execution_count": 28
        },
        {
          "output_type": "stream",
          "text": [
            "time: 5min 6s (started: 2021-05-03 22:15:15 +00:00)\n"
          ],
          "name": "stdout"
        }
      ]
    },
    {
      "cell_type": "code",
      "metadata": {
        "colab": {
          "base_uri": "https://localhost:8080/"
        },
        "id": "MtFPRkkEZtzL",
        "outputId": "f61efa04-41b8-4392-a980-b6427e8e8956"
      },
      "source": [
        "df = df.rename(columns={'top20_perc': 'Top 20 %', 'bottom20_perc': 'Bottom 20 %','top20_deviation': 'Top 20 % Deviation', 'bottom20_deviation': 'Bottom 20 % Deviation'})"
      ],
      "execution_count": 29,
      "outputs": [
        {
          "output_type": "stream",
          "text": [
            "time: 2.85 ms (started: 2021-05-03 22:20:22 +00:00)\n"
          ],
          "name": "stdout"
        }
      ]
    },
    {
      "cell_type": "code",
      "metadata": {
        "colab": {
          "base_uri": "https://localhost:8080/",
          "height": 387
        },
        "id": "pTTAkF1Iwesw",
        "outputId": "74969874-7d44-4d51-ce95-f89e70f1fa02"
      },
      "source": [
        "# analysis for the entire year on monthly basis\n",
        "df_str = df.copy(deep=True) #make a deep copy\n",
        "\n",
        "df_str['date'] = pd.to_datetime(df_str['date'],utc= True) # extract the months\n",
        "\n",
        "df_str = df_str.groupby([df_str['date']]).mean().rolling(10).mean()[0:] #find the mean for the days and roll up for every 10 days\n",
        "\n",
        "chart = alt.Chart(df_str.reset_index()).transform_fold(\n",
        "    fold=['Bottom 20 %', 'Top 20 %'],\n",
        "    as_ = ['Poverty %','part_time_percentage']\n",
        "    \n",
        "    ).mark_line().encode(\n",
        "      x='date:T',\n",
        "      y= alt.Y('part_time_percentage:Q', title = 'Part Time %'), color='Poverty %:N'\n",
        "    ).properties(width = 1000)\n",
        "chart"
      ],
      "execution_count": 30,
      "outputs": [
        {
          "output_type": "execute_result",
          "data": {
            "text/plain": [
              "alt.Chart(...)"
            ],
            "text/html": [
              "\n",
              "<div id=\"altair-viz-2522dd027d8445aa8481bdc36722ab29\"></div>\n",
              "<script type=\"text/javascript\">\n",
              "  (function(spec, embedOpt){\n",
              "    let outputDiv = document.currentScript.previousElementSibling;\n",
              "    if (outputDiv.id !== \"altair-viz-2522dd027d8445aa8481bdc36722ab29\") {\n",
              "      outputDiv = document.getElementById(\"altair-viz-2522dd027d8445aa8481bdc36722ab29\");\n",
              "    }\n",
              "    const paths = {\n",
              "      \"vega\": \"https://cdn.jsdelivr.net/npm//vega@5?noext\",\n",
              "      \"vega-lib\": \"https://cdn.jsdelivr.net/npm//vega-lib?noext\",\n",
              "      \"vega-lite\": \"https://cdn.jsdelivr.net/npm//vega-lite@4.8.1?noext\",\n",
              "      \"vega-embed\": \"https://cdn.jsdelivr.net/npm//vega-embed@6?noext\",\n",
              "    };\n",
              "\n",
              "    function loadScript(lib) {\n",
              "      return new Promise(function(resolve, reject) {\n",
              "        var s = document.createElement('script');\n",
              "        s.src = paths[lib];\n",
              "        s.async = true;\n",
              "        s.onload = () => resolve(paths[lib]);\n",
              "        s.onerror = () => reject(`Error loading script: ${paths[lib]}`);\n",
              "        document.getElementsByTagName(\"head\")[0].appendChild(s);\n",
              "      });\n",
              "    }\n",
              "\n",
              "    function showError(err) {\n",
              "      outputDiv.innerHTML = `<div class=\"error\" style=\"color:red;\">${err}</div>`;\n",
              "      throw err;\n",
              "    }\n",
              "\n",
              "    function displayChart(vegaEmbed) {\n",
              "      vegaEmbed(outputDiv, spec, embedOpt)\n",
              "        .catch(err => showError(`Javascript Error: ${err.message}<br>This usually means there's a typo in your chart specification. See the javascript console for the full traceback.`));\n",
              "    }\n",
              "\n",
              "    if(typeof define === \"function\" && define.amd) {\n",
              "      requirejs.config({paths});\n",
              "      require([\"vega-embed\"], displayChart, err => showError(`Error loading script: ${err.message}`));\n",
              "    } else if (typeof vegaEmbed === \"function\") {\n",
              "      displayChart(vegaEmbed);\n",
              "    } else {\n",
              "      loadScript(\"vega\")\n",
              "        .then(() => loadScript(\"vega-lite\"))\n",
              "        .then(() => loadScript(\"vega-embed\"))\n",
              "        .catch(showError)\n",
              "        .then(() => displayChart(vegaEmbed));\n",
              "    }\n",
              "  })({\"config\": {\"view\": {\"continuousHeight\": 300, \"continuousWidth\": 400}, \"range\": {\"category\": {\"scheme\": [\"#FF4500\", \"#a0aab4\", \"#4E79A7\"]}}}, \"data\": {\"name\": \"data-2410d37f1997f8004500e414fc153e34\"}, \"mark\": \"line\", \"encoding\": {\"color\": {\"type\": \"nominal\", \"field\": \"Poverty %\"}, \"x\": {\"type\": \"temporal\", \"field\": \"date\"}, \"y\": {\"type\": \"quantitative\", \"field\": \"part_time_percentage\", \"title\": \"Part Time %\"}}, \"transform\": [{\"fold\": [\"Bottom 20 %\", \"Top 20 %\"], \"as\": [\"Poverty %\", \"part_time_percentage\"]}], \"width\": 1000, \"$schema\": \"https://vega.github.io/schema/vega-lite/v4.8.1.json\", \"datasets\": {\"data-2410d37f1997f8004500e414fc153e34\": [{\"date\": \"2020-01-01T00:00:00+00:00\", \"Top 20 %\": null, \"Bottom 20 %\": null, \"Top 20 % Deviation\": null, \"Bottom 20 % Deviation\": null}, {\"date\": \"2020-01-02T00:00:00+00:00\", \"Top 20 %\": null, \"Bottom 20 %\": null, \"Top 20 % Deviation\": null, \"Bottom 20 % Deviation\": null}, {\"date\": \"2020-01-03T00:00:00+00:00\", \"Top 20 %\": null, \"Bottom 20 %\": null, \"Top 20 % Deviation\": null, \"Bottom 20 % Deviation\": null}, {\"date\": \"2020-01-04T00:00:00+00:00\", \"Top 20 %\": null, \"Bottom 20 %\": null, \"Top 20 % Deviation\": null, \"Bottom 20 % Deviation\": null}, {\"date\": \"2020-01-05T00:00:00+00:00\", \"Top 20 %\": null, \"Bottom 20 %\": null, \"Top 20 % Deviation\": null, \"Bottom 20 % Deviation\": null}, {\"date\": \"2020-01-06T00:00:00+00:00\", \"Top 20 %\": null, \"Bottom 20 %\": null, \"Top 20 % Deviation\": null, \"Bottom 20 % Deviation\": null}, {\"date\": \"2020-01-07T00:00:00+00:00\", \"Top 20 %\": null, \"Bottom 20 %\": null, \"Top 20 % Deviation\": null, \"Bottom 20 % Deviation\": null}, {\"date\": \"2020-01-08T00:00:00+00:00\", \"Top 20 %\": null, \"Bottom 20 %\": null, \"Top 20 % Deviation\": null, \"Bottom 20 % Deviation\": null}, {\"date\": \"2020-01-09T00:00:00+00:00\", \"Top 20 %\": null, \"Bottom 20 %\": null, \"Top 20 % Deviation\": null, \"Bottom 20 % Deviation\": null}, {\"date\": \"2020-01-10T00:00:00+00:00\", \"Top 20 %\": 10.788893742001369, \"Bottom 20 %\": 8.226868925562846, \"Top 20 % Deviation\": 1.8095563360397293, \"Bottom 20 % Deviation\": -0.752468480398792}, {\"date\": \"2020-01-11T00:00:00+00:00\", \"Top 20 %\": 11.082219592076626, \"Bottom 20 %\": 8.664202758943517, \"Top 20 % Deviation\": 2.1028821861149853, \"Bottom 20 % Deviation\": -0.3151346470181203}, {\"date\": \"2020-01-12T00:00:00+00:00\", \"Top 20 %\": 10.842741091762012, \"Bottom 20 %\": 8.71307171591468, \"Top 20 % Deviation\": 1.8634036858003717, \"Bottom 20 % Deviation\": -0.26626569004695766}, {\"date\": \"2020-01-13T00:00:00+00:00\", \"Top 20 %\": 11.198690098309852, \"Bottom 20 %\": 8.993484289925224, \"Top 20 % Deviation\": 2.2193526923482123, \"Bottom 20 % Deviation\": 0.014146883963585655}, {\"date\": \"2020-01-14T00:00:00+00:00\", \"Top 20 %\": 11.899236608057992, \"Bottom 20 %\": 9.510542072743627, \"Top 20 % Deviation\": 2.919899202096352, \"Bottom 20 % Deviation\": 0.5312046667819892}, {\"date\": \"2020-01-15T00:00:00+00:00\", \"Top 20 %\": 12.596028388824369, \"Bottom 20 %\": 9.922350872212473, \"Top 20 % Deviation\": 3.616690982862731, \"Bottom 20 % Deviation\": 0.9430134662508343}, {\"date\": \"2020-01-16T00:00:00+00:00\", \"Top 20 %\": 12.86800213099929, \"Bottom 20 %\": 9.77839672675089, \"Top 20 % Deviation\": 3.888664725037651, \"Bottom 20 % Deviation\": 0.7990593207892518}, {\"date\": \"2020-01-17T00:00:00+00:00\", \"Top 20 %\": 12.96615044599351, \"Bottom 20 %\": 9.681522352424924, \"Top 20 % Deviation\": 3.986813040031868, \"Bottom 20 % Deviation\": 0.7021849464632874}, {\"date\": \"2020-01-18T00:00:00+00:00\", \"Top 20 %\": 12.421217726492026, \"Bottom 20 %\": 9.161308510086904, \"Top 20 % Deviation\": 3.441880320530384, \"Bottom 20 % Deviation\": 0.18197110412526643}, {\"date\": \"2020-01-19T00:00:00+00:00\", \"Top 20 %\": 11.916702967061406, \"Bottom 20 %\": 9.226031683449786, \"Top 20 % Deviation\": 2.9373655610997638, \"Bottom 20 % Deviation\": 0.24669427748814982}, {\"date\": \"2020-01-20T00:00:00+00:00\", \"Top 20 %\": 11.452724409964421, \"Bottom 20 %\": 8.748181586691604, \"Top 20 % Deviation\": 2.4733870040027774, \"Bottom 20 % Deviation\": -0.23115581927003256}, {\"date\": \"2020-01-21T00:00:00+00:00\", \"Top 20 %\": 12.092369338157173, \"Bottom 20 %\": 8.767120801883049, \"Top 20 % Deviation\": 3.113031932195529, \"Bottom 20 % Deviation\": -0.21221660407858894}, {\"date\": \"2020-01-22T00:00:00+00:00\", \"Top 20 %\": 12.787120218833119, \"Bottom 20 %\": 9.373766423649233, \"Top 20 % Deviation\": 3.807782812871474, \"Bottom 20 % Deviation\": 0.3944290176875954}, {\"date\": \"2020-01-23T00:00:00+00:00\", \"Top 20 %\": 12.893638979673895, \"Bottom 20 %\": 10.011081664632929, \"Top 20 % Deviation\": 3.9143015737122497, \"Bottom 20 % Deviation\": 1.0317442586712917}, {\"date\": \"2020-01-24T00:00:00+00:00\", \"Top 20 %\": 12.807631306631553, \"Bottom 20 %\": 10.111350298078056, \"Top 20 % Deviation\": 3.8282939006699066, \"Bottom 20 % Deviation\": 1.1320128921164199}, {\"date\": \"2020-01-25T00:00:00+00:00\", \"Top 20 %\": 12.192663134913577, \"Bottom 20 %\": 9.354823322620149, \"Top 20 % Deviation\": 3.213325728951932, \"Bottom 20 % Deviation\": 0.3754859166585117}, {\"date\": \"2020-01-26T00:00:00+00:00\", \"Top 20 %\": 11.41508526932822, \"Bottom 20 %\": 9.378081483676059, \"Top 20 % Deviation\": 2.4357478633665735, \"Bottom 20 % Deviation\": 0.39874407771442044}, {\"date\": \"2020-01-27T00:00:00+00:00\", \"Top 20 %\": 11.380191328672284, \"Bottom 20 %\": 9.299908723103437, \"Top 20 % Deviation\": 2.400853922710637, \"Bottom 20 % Deviation\": 0.32057131714179815}, {\"date\": \"2020-01-28T00:00:00+00:00\", \"Top 20 %\": 12.009390279704373, \"Bottom 20 %\": 10.327164720622449, \"Top 20 % Deviation\": 3.0300528737427266, \"Bottom 20 % Deviation\": 1.347827314660811}, {\"date\": \"2020-01-29T00:00:00+00:00\", \"Top 20 %\": 12.629497098839806, \"Bottom 20 %\": 10.437861925085295, \"Top 20 % Deviation\": 3.650159692878161, \"Bottom 20 % Deviation\": 1.458524519123657}, {\"date\": \"2020-01-30T00:00:00+00:00\", \"Top 20 %\": 13.172650989477196, \"Bottom 20 %\": 10.705736808405442, \"Top 20 % Deviation\": 4.193313583515551, \"Bottom 20 % Deviation\": 1.726399402443804}, {\"date\": \"2020-01-31T00:00:00+00:00\", \"Top 20 %\": 13.187759944605181, \"Bottom 20 %\": 10.7069446153831, \"Top 20 % Deviation\": 4.208422538643537, \"Bottom 20 % Deviation\": 1.7276072094214618}, {\"date\": \"2020-02-01T00:00:00+00:00\", \"Top 20 %\": 12.580692938387177, \"Bottom 20 %\": 10.25411998956168, \"Top 20 % Deviation\": 3.6013555324255306, \"Bottom 20 % Deviation\": 1.2747825836000417}, {\"date\": \"2020-02-02T00:00:00+00:00\", \"Top 20 %\": 11.830500310051155, \"Bottom 20 %\": 9.278656947035259, \"Top 20 % Deviation\": 2.8511629040895117, \"Bottom 20 % Deviation\": 0.29931954107362024}, {\"date\": \"2020-02-03T00:00:00+00:00\", \"Top 20 %\": 11.700435226249857, \"Bottom 20 %\": 8.914357167861349, \"Top 20 % Deviation\": 2.7210978202882132, \"Bottom 20 % Deviation\": -0.06498023810029138}, {\"date\": \"2020-02-04T00:00:00+00:00\", \"Top 20 %\": 12.29350570264838, \"Bottom 20 %\": 9.289069310838874, \"Top 20 % Deviation\": 3.314168296686737, \"Bottom 20 % Deviation\": 0.3097319048772363}, {\"date\": \"2020-02-05T00:00:00+00:00\", \"Top 20 %\": 12.895779451185618, \"Bottom 20 %\": 9.282727517733392, \"Top 20 % Deviation\": 3.9164420452239748, \"Bottom 20 % Deviation\": 0.30339011177175446}, {\"date\": \"2020-02-06T00:00:00+00:00\", \"Top 20 %\": 12.884796885476344, \"Bottom 20 %\": 9.179894494475173, \"Top 20 % Deviation\": 3.905459479514704, \"Bottom 20 % Deviation\": 0.20055708851353593}, {\"date\": \"2020-02-07T00:00:00+00:00\", \"Top 20 %\": 12.63706831861604, \"Bottom 20 %\": 8.450237551444493, \"Top 20 % Deviation\": 3.6577309126543995, \"Bottom 20 % Deviation\": -0.5290998545171439}, {\"date\": \"2020-02-08T00:00:00+00:00\", \"Top 20 %\": 12.014075658414157, \"Bottom 20 %\": 8.092561308396068, \"Top 20 % Deviation\": 3.0347382524525166, \"Bottom 20 % Deviation\": -0.886776097565569}, {\"date\": \"2020-02-09T00:00:00+00:00\", \"Top 20 %\": 11.177345634181517, \"Bottom 20 %\": 7.674731204390795, \"Top 20 % Deviation\": 2.1980082282198765, \"Bottom 20 % Deviation\": -1.304606201570842}, {\"date\": \"2020-02-10T00:00:00+00:00\", \"Top 20 %\": 11.006587957579203, \"Bottom 20 %\": 7.815490227290049, \"Top 20 % Deviation\": 2.0272505516175605, \"Bottom 20 % Deviation\": -1.1638471786715896}, {\"date\": \"2020-02-11T00:00:00+00:00\", \"Top 20 %\": 11.55336285346927, \"Bottom 20 %\": 8.341429584496318, \"Top 20 % Deviation\": 2.574025447507629, \"Bottom 20 % Deviation\": -0.6379078214653211}, {\"date\": \"2020-02-12T00:00:00+00:00\", \"Top 20 %\": 12.226814401366363, \"Bottom 20 %\": 8.518271599278922, \"Top 20 % Deviation\": 3.247476995404721, \"Bottom 20 % Deviation\": -0.4610658066827166}, {\"date\": \"2020-02-13T00:00:00+00:00\", \"Top 20 %\": 12.2304667877527, \"Bottom 20 %\": 8.578051951801006, \"Top 20 % Deviation\": 3.25112938179106, \"Bottom 20 % Deviation\": -0.4012854541606303}, {\"date\": \"2020-02-14T00:00:00+00:00\", \"Top 20 %\": 12.072964097681878, \"Bottom 20 %\": 8.578335689622088, \"Top 20 % Deviation\": 3.093626691720236, \"Bottom 20 % Deviation\": -0.40100171633954773}, {\"date\": \"2020-02-15T00:00:00+00:00\", \"Top 20 %\": 11.527349813507179, \"Bottom 20 %\": 8.304746032270078, \"Top 20 % Deviation\": 2.5480124075455386, \"Bottom 20 % Deviation\": -0.6745913736915582}, {\"date\": \"2020-02-16T00:00:00+00:00\", \"Top 20 %\": 10.85487749555511, \"Bottom 20 %\": 8.170198319664452, \"Top 20 % Deviation\": 1.8755400895934677, \"Bottom 20 % Deviation\": -0.8091390862971833}, {\"date\": \"2020-02-17T00:00:00+00:00\", \"Top 20 %\": 10.577782738976685, \"Bottom 20 %\": 7.968293444259011, \"Top 20 % Deviation\": 1.598445333015044, \"Bottom 20 % Deviation\": -1.0110439617026237}, {\"date\": \"2020-02-18T00:00:00+00:00\", \"Top 20 %\": 11.127666629145752, \"Bottom 20 %\": 8.178350300122371, \"Top 20 % Deviation\": 2.14832922318411, \"Bottom 20 % Deviation\": -0.8009871058392635}, {\"date\": \"2020-02-19T00:00:00+00:00\", \"Top 20 %\": 11.721314459833978, \"Bottom 20 %\": 8.303993925301956, \"Top 20 % Deviation\": 2.741977053872337, \"Bottom 20 % Deviation\": -0.6753434806596785}, {\"date\": \"2020-02-20T00:00:00+00:00\", \"Top 20 %\": 11.809123893741495, \"Bottom 20 %\": 8.465281353681117, \"Top 20 % Deviation\": 2.8297864877798524, \"Bottom 20 % Deviation\": -0.5140560522805164}, {\"date\": \"2020-02-21T00:00:00+00:00\", \"Top 20 %\": 11.741987001863176, \"Bottom 20 %\": 8.096711647924431, \"Top 20 % Deviation\": 2.7626495959015367, \"Bottom 20 % Deviation\": -0.8826257580372026}, {\"date\": \"2020-02-22T00:00:00+00:00\", \"Top 20 %\": 11.220940400802462, \"Bottom 20 %\": 8.166174848872098, \"Top 20 % Deviation\": 2.2416029948408216, \"Bottom 20 % Deviation\": -0.8131625570895364}, {\"date\": \"2020-02-23T00:00:00+00:00\", \"Top 20 %\": 10.747630026920055, \"Bottom 20 %\": 8.05360847762282, \"Top 20 % Deviation\": 1.7682926209584153, \"Bottom 20 % Deviation\": -0.9257289283388138}, {\"date\": \"2020-02-24T00:00:00+00:00\", \"Top 20 %\": 10.812356111712694, \"Bottom 20 %\": 7.946179823399232, \"Top 20 % Deviation\": 1.8330187057510543, \"Bottom 20 % Deviation\": -1.0331575825624018}, {\"date\": \"2020-02-25T00:00:00+00:00\", \"Top 20 %\": 10.88037594739054, \"Bottom 20 %\": 7.713994495086064, \"Top 20 % Deviation\": 1.9010385414288997, \"Bottom 20 % Deviation\": -1.2653429108755705}, {\"date\": \"2020-02-26T00:00:00+00:00\", \"Top 20 %\": 11.638656540042916, \"Bottom 20 %\": 7.878930362485105, \"Top 20 % Deviation\": 2.6593191340812767, \"Bottom 20 % Deviation\": -1.1004070434765303}, {\"date\": \"2020-02-27T00:00:00+00:00\", \"Top 20 %\": 12.077870426408662, \"Bottom 20 %\": 8.030204258889857, \"Top 20 % Deviation\": 3.0985330204470207, \"Bottom 20 % Deviation\": -0.9491331470717782}, {\"date\": \"2020-02-28T00:00:00+00:00\", \"Top 20 %\": 11.939897230581318, \"Bottom 20 %\": 7.984282834942325, \"Top 20 % Deviation\": 2.960559824619678, \"Bottom 20 % Deviation\": -0.9950545710193099}, {\"date\": \"2020-02-29T00:00:00+00:00\", \"Top 20 %\": 11.517753079435526, \"Bottom 20 %\": 7.758897356139606, \"Top 20 % Deviation\": 2.5384156734738865, \"Bottom 20 % Deviation\": -1.2204400498220296}, {\"date\": \"2020-03-01T00:00:00+00:00\", \"Top 20 %\": 10.847578588089242, \"Bottom 20 %\": 7.340711790169817, \"Top 20 % Deviation\": 1.8682411821276035, \"Bottom 20 % Deviation\": -1.6386256157918186}, {\"date\": \"2020-03-02T00:00:00+00:00\", \"Top 20 %\": 10.673724027044614, \"Bottom 20 %\": 7.340320363791427, \"Top 20 % Deviation\": 1.694386621082976, \"Bottom 20 % Deviation\": -1.6390170421702082}, {\"date\": \"2020-03-03T00:00:00+00:00\", \"Top 20 %\": 11.156997190559522, \"Bottom 20 %\": 7.829460570023558, \"Top 20 % Deviation\": 2.1776597845978847, \"Bottom 20 % Deviation\": -1.1498768359380773}, {\"date\": \"2020-03-04T00:00:00+00:00\", \"Top 20 %\": 11.712498520463221, \"Bottom 20 %\": 8.553266536344058, \"Top 20 % Deviation\": 2.7331611145015833, \"Bottom 20 % Deviation\": -0.426070869617576}, {\"date\": \"2020-03-05T00:00:00+00:00\", \"Top 20 %\": 11.669066885053834, \"Bottom 20 %\": 8.873507794946983, \"Top 20 % Deviation\": 2.6897294790921977, \"Bottom 20 % Deviation\": -0.10582961101465208}, {\"date\": \"2020-03-06T00:00:00+00:00\", \"Top 20 %\": 11.998457488290683, \"Bottom 20 %\": 9.256508248743135, \"Top 20 % Deviation\": 3.019120082329047, \"Bottom 20 % Deviation\": 0.27717084278150067}, {\"date\": \"2020-03-07T00:00:00+00:00\", \"Top 20 %\": 11.385745401961197, \"Bottom 20 %\": 9.006782361281044, \"Top 20 % Deviation\": 2.40640799599956, \"Bottom 20 % Deviation\": 0.027444955319408226}, {\"date\": \"2020-03-08T00:00:00+00:00\", \"Top 20 %\": 10.697044458615087, \"Bottom 20 %\": 8.972364492652083, \"Top 20 % Deviation\": 1.7177070526534521, \"Bottom 20 % Deviation\": -0.006972913309551654}, {\"date\": \"2020-03-09T00:00:00+00:00\", \"Top 20 %\": 10.559026858212963, \"Bottom 20 %\": 8.901589158675403, \"Top 20 % Deviation\": 1.579689452251327, \"Bottom 20 % Deviation\": -0.07774824728623217}, {\"date\": \"2020-03-10T00:00:00+00:00\", \"Top 20 %\": 10.975330870258807, \"Bottom 20 %\": 9.399357262240688, \"Top 20 % Deviation\": 1.9959934642971713, \"Bottom 20 % Deviation\": 0.4200198562790523}, {\"date\": \"2020-03-11T00:00:00+00:00\", \"Top 20 %\": 11.533821673936696, \"Bottom 20 %\": 9.51479712783495, \"Top 20 % Deviation\": 2.554484267975061, \"Bottom 20 % Deviation\": 0.5354597218733126}, {\"date\": \"2020-03-12T00:00:00+00:00\", \"Top 20 %\": 11.506768720398247, \"Bottom 20 %\": 9.263826767692786, \"Top 20 % Deviation\": 2.52743131443661, \"Bottom 20 % Deviation\": 0.28448936173114864}, {\"date\": \"2020-03-13T00:00:00+00:00\", \"Top 20 %\": 11.337868298455726, \"Bottom 20 %\": 8.767939363417767, \"Top 20 % Deviation\": 2.3585308924940884, \"Bottom 20 % Deviation\": -0.2113980425438708}, {\"date\": \"2020-03-14T00:00:00+00:00\", \"Top 20 %\": 10.484197066390845, \"Bottom 20 %\": 7.674154245640729, \"Top 20 % Deviation\": 1.5048596604292073, \"Bottom 20 % Deviation\": -1.3051831603209088}, {\"date\": \"2020-03-15T00:00:00+00:00\", \"Top 20 %\": 9.661534831111997, \"Bottom 20 %\": 7.232992793994209, \"Top 20 % Deviation\": 0.6821974251503586, \"Bottom 20 % Deviation\": -1.7463446119674284}, {\"date\": \"2020-03-16T00:00:00+00:00\", \"Top 20 %\": 9.178113628654735, \"Bottom 20 %\": 7.057576969224302, \"Top 20 % Deviation\": 0.19877622269309692, \"Bottom 20 % Deviation\": -1.9217604367373362}, {\"date\": \"2020-03-17T00:00:00+00:00\", \"Top 20 %\": 8.984201167917538, \"Bottom 20 %\": 6.94176933754827, \"Top 20 % Deviation\": 0.004863761955900081, \"Bottom 20 % Deviation\": -2.0375680684133672}, {\"date\": \"2020-03-18T00:00:00+00:00\", \"Top 20 %\": 8.823838359473706, \"Bottom 20 %\": 6.7734697374945965, \"Top 20 % Deviation\": -0.1554990464879337, \"Bottom 20 % Deviation\": -2.20586766846704}, {\"date\": \"2020-03-19T00:00:00+00:00\", \"Top 20 %\": 8.252407401510428, \"Bottom 20 %\": 6.444045999162443, \"Top 20 % Deviation\": -0.7269300044512096, \"Bottom 20 % Deviation\": -2.5352914067991934}, {\"date\": \"2020-03-20T00:00:00+00:00\", \"Top 20 %\": 7.480438349851167, \"Bottom 20 %\": 5.885333803122011, \"Top 20 % Deviation\": -1.4988990561104711, \"Bottom 20 % Deviation\": -3.0940036028396256}, {\"date\": \"2020-03-21T00:00:00+00:00\", \"Top 20 %\": 6.598428885191872, \"Bottom 20 %\": 5.358761411333069, \"Top 20 % Deviation\": -2.380908520769766, \"Bottom 20 % Deviation\": -3.6205759946285676}, {\"date\": \"2020-03-22T00:00:00+00:00\", \"Top 20 %\": 5.867461784858481, \"Bottom 20 %\": 5.58669688704911, \"Top 20 % Deviation\": -3.111875621103157, \"Bottom 20 % Deviation\": -3.3926405189125277}, {\"date\": \"2020-03-23T00:00:00+00:00\", \"Top 20 %\": 5.20901615544931, \"Bottom 20 %\": 5.509840192412707, \"Top 20 % Deviation\": -3.7703212505123274, \"Bottom 20 % Deviation\": -3.46949721354893}, {\"date\": \"2020-03-24T00:00:00+00:00\", \"Top 20 %\": 5.168742588330366, \"Bottom 20 %\": 5.855740744069417, \"Top 20 % Deviation\": -3.810594817631272, \"Bottom 20 % Deviation\": -3.1235966618922197}, {\"date\": \"2020-03-25T00:00:00+00:00\", \"Top 20 %\": 5.248157867304615, \"Bottom 20 %\": 5.961202509748157, \"Top 20 % Deviation\": -3.731179538657023, \"Bottom 20 % Deviation\": -3.018134896213481}, {\"date\": \"2020-03-26T00:00:00+00:00\", \"Top 20 %\": 4.991723527924064, \"Bottom 20 %\": 5.87754594883187, \"Top 20 % Deviation\": -3.9876138780375747, \"Bottom 20 % Deviation\": -3.1017914571297673}, {\"date\": \"2020-03-27T00:00:00+00:00\", \"Top 20 %\": 4.768914928096374, \"Bottom 20 %\": 5.921302562210127, \"Top 20 % Deviation\": -4.210422477865265, \"Bottom 20 % Deviation\": -3.0580348437515106}, {\"date\": \"2020-03-28T00:00:00+00:00\", \"Top 20 %\": 4.587684511250685, \"Bottom 20 %\": 5.810037364414437, \"Top 20 % Deviation\": -4.391652894710954, \"Bottom 20 % Deviation\": -3.1693000415472015}, {\"date\": \"2020-03-29T00:00:00+00:00\", \"Top 20 %\": 4.290022881633903, \"Bottom 20 %\": 5.75208749908279, \"Top 20 % Deviation\": -4.689314524327735, \"Bottom 20 % Deviation\": -3.2272499068788476}, {\"date\": \"2020-03-30T00:00:00+00:00\", \"Top 20 %\": 4.310244331011478, \"Bottom 20 %\": 5.9389306115077725, \"Top 20 % Deviation\": -4.669093074950161, \"Bottom 20 % Deviation\": -3.040406794453865}, {\"date\": \"2020-03-31T00:00:00+00:00\", \"Top 20 %\": 4.405169320795274, \"Bottom 20 %\": 6.008553389940868, \"Top 20 % Deviation\": -4.574168085166365, \"Bottom 20 % Deviation\": -2.9707840160207684}, {\"date\": \"2020-04-01T00:00:00+00:00\", \"Top 20 %\": 4.43043112935119, \"Bottom 20 %\": 5.58752862936341, \"Top 20 % Deviation\": -4.54890627661045, \"Bottom 20 % Deviation\": -3.3918087765982263}, {\"date\": \"2020-04-02T00:00:00+00:00\", \"Top 20 %\": 4.383847670010637, \"Bottom 20 %\": 5.375005350967537, \"Top 20 % Deviation\": -4.595489735951003, \"Bottom 20 % Deviation\": -3.6043320549940994}, {\"date\": \"2020-04-03T00:00:00+00:00\", \"Top 20 %\": 4.375055126275137, \"Bottom 20 %\": 5.036363277634349, \"Top 20 % Deviation\": -4.604282279686503, \"Bottom 20 % Deviation\": -3.942974128327286}, {\"date\": \"2020-04-04T00:00:00+00:00\", \"Top 20 %\": 4.19754550423433, \"Bottom 20 %\": 4.873343894801591, \"Top 20 % Deviation\": -4.78179190172731, \"Bottom 20 % Deviation\": -4.105993511160044}, {\"date\": \"2020-04-05T00:00:00+00:00\", \"Top 20 %\": 3.9824082661155416, \"Bottom 20 %\": 4.553405129730549, \"Top 20 % Deviation\": -4.996929139846097, \"Bottom 20 % Deviation\": -4.425932276231087}, {\"date\": \"2020-04-06T00:00:00+00:00\", \"Top 20 %\": 3.9583233343269932, \"Bottom 20 %\": 4.549353677220409, \"Top 20 % Deviation\": -5.021014071634646, \"Bottom 20 % Deviation\": -4.429983728741227}, {\"date\": \"2020-04-07T00:00:00+00:00\", \"Top 20 %\": 4.043231048037705, \"Bottom 20 %\": 4.534987627793372, \"Top 20 % Deviation\": -4.936106357923935, \"Bottom 20 % Deviation\": -4.444349778168265}, {\"date\": \"2020-04-08T00:00:00+00:00\", \"Top 20 %\": 4.185066861807502, \"Bottom 20 %\": 4.724970673362359, \"Top 20 % Deviation\": -4.794270544154138, \"Bottom 20 % Deviation\": -4.254366732599278}, {\"date\": \"2020-04-09T00:00:00+00:00\", \"Top 20 %\": 4.121494113599672, \"Bottom 20 %\": 4.457098622484823, \"Top 20 % Deviation\": -4.857843292361968, \"Bottom 20 % Deviation\": -4.522238783476814}, {\"date\": \"2020-04-10T00:00:00+00:00\", \"Top 20 %\": 4.0241988738831065, \"Bottom 20 %\": 4.588350249987392, \"Top 20 % Deviation\": -4.955138532078533, \"Bottom 20 % Deviation\": -4.390987155974244}, {\"date\": \"2020-04-11T00:00:00+00:00\", \"Top 20 %\": 3.962111295761251, \"Bottom 20 %\": 4.631550290106625, \"Top 20 % Deviation\": -5.017226110200389, \"Bottom 20 % Deviation\": -4.347787115855011}, {\"date\": \"2020-04-12T00:00:00+00:00\", \"Top 20 %\": 3.8058209065350845, \"Bottom 20 %\": 4.489298884573367, \"Top 20 % Deviation\": -5.173516499426556, \"Bottom 20 % Deviation\": -4.490038521388268}, {\"date\": \"2020-04-13T00:00:00+00:00\", \"Top 20 %\": 3.790462608464831, \"Bottom 20 %\": 4.630942223829993, \"Top 20 % Deviation\": -5.188874797496809, \"Bottom 20 % Deviation\": -4.348395182131641}, {\"date\": \"2020-04-14T00:00:00+00:00\", \"Top 20 %\": 3.847169254407677, \"Bottom 20 %\": 4.515040519572517, \"Top 20 % Deviation\": -5.132168151553962, \"Bottom 20 % Deviation\": -4.464296886389117}, {\"date\": \"2020-04-15T00:00:00+00:00\", \"Top 20 %\": 4.039234827094078, \"Bottom 20 %\": 5.099514126698642, \"Top 20 % Deviation\": -4.940102578867561, \"Bottom 20 % Deviation\": -3.879823279262991}, {\"date\": \"2020-04-16T00:00:00+00:00\", \"Top 20 %\": 4.049265168582641, \"Bottom 20 %\": 4.989544866865522, \"Top 20 % Deviation\": -4.930072237378998, \"Bottom 20 % Deviation\": -3.9897925390961113}, {\"date\": \"2020-04-17T00:00:00+00:00\", \"Top 20 %\": 4.03279000716963, \"Bottom 20 %\": 5.118232835102225, \"Top 20 % Deviation\": -4.946547398792009, \"Bottom 20 % Deviation\": -3.861104570859409}, {\"date\": \"2020-04-18T00:00:00+00:00\", \"Top 20 %\": 3.9750303210462277, \"Bottom 20 %\": 4.868766957431844, \"Top 20 % Deviation\": -5.004307084915412, \"Bottom 20 % Deviation\": -4.110570448529789}, {\"date\": \"2020-04-19T00:00:00+00:00\", \"Top 20 %\": 3.8809209977358607, \"Bottom 20 %\": 5.038552510958658, \"Top 20 % Deviation\": -5.098416408225779, \"Bottom 20 % Deviation\": -3.940784895002976}, {\"date\": \"2020-04-20T00:00:00+00:00\", \"Top 20 %\": 3.8720699111977894, \"Bottom 20 %\": 4.998343445811116, \"Top 20 % Deviation\": -5.10726749476385, \"Bottom 20 % Deviation\": -3.980993960150517}, {\"date\": \"2020-04-21T00:00:00+00:00\", \"Top 20 %\": 3.983689259111633, \"Bottom 20 %\": 5.24527763891123, \"Top 20 % Deviation\": -4.995648146850005, \"Bottom 20 % Deviation\": -3.734059767050403}, {\"date\": \"2020-04-22T00:00:00+00:00\", \"Top 20 %\": 4.138653234954007, \"Bottom 20 %\": 5.471910406453914, \"Top 20 % Deviation\": -4.840684171007632, \"Bottom 20 % Deviation\": -3.507426999507719}, {\"date\": \"2020-04-23T00:00:00+00:00\", \"Top 20 %\": 4.206170422501037, \"Bottom 20 %\": 5.509348620984715, \"Top 20 % Deviation\": -4.7731669834606025, \"Bottom 20 % Deviation\": -3.4699887849769184}, {\"date\": \"2020-04-24T00:00:00+00:00\", \"Top 20 %\": 4.270871618835924, \"Bottom 20 %\": 5.575310879099438, \"Top 20 % Deviation\": -4.708465787125716, \"Bottom 20 % Deviation\": -3.4040265268621956}, {\"date\": \"2020-04-25T00:00:00+00:00\", \"Top 20 %\": 4.168368850718672, \"Bottom 20 %\": 5.111223243618972, \"Top 20 % Deviation\": -4.810968555242968, \"Bottom 20 % Deviation\": -3.8681141623426614}, {\"date\": \"2020-04-26T00:00:00+00:00\", \"Top 20 %\": 4.070226702369448, \"Bottom 20 %\": 5.0152045172938085, \"Top 20 % Deviation\": -4.909110703592192, \"Bottom 20 % Deviation\": -3.9641328886678244}, {\"date\": \"2020-04-27T00:00:00+00:00\", \"Top 20 %\": 4.09845411149639, \"Bottom 20 %\": 4.8947571749409855, \"Top 20 % Deviation\": -4.880883294465249, \"Bottom 20 % Deviation\": -4.084580231020649}, {\"date\": \"2020-04-28T00:00:00+00:00\", \"Top 20 %\": 4.228506875994206, \"Bottom 20 %\": 5.113392504874591, \"Top 20 % Deviation\": -4.750830529967432, \"Bottom 20 % Deviation\": -3.8659449010870417}, {\"date\": \"2020-04-29T00:00:00+00:00\", \"Top 20 %\": 4.317326398121832, \"Bottom 20 %\": 4.98867078743645, \"Top 20 % Deviation\": -4.662011007839807, \"Bottom 20 % Deviation\": -3.9906666185251836}, {\"date\": \"2020-04-30T00:00:00+00:00\", \"Top 20 %\": 4.36908260419511, \"Bottom 20 %\": 4.946645763957074, \"Top 20 % Deviation\": -4.610254801766529, \"Bottom 20 % Deviation\": -4.032691642004561}, {\"date\": \"2020-05-01T00:00:00+00:00\", \"Top 20 %\": 4.4843327757948535, \"Bottom 20 %\": 4.949521248183192, \"Top 20 % Deviation\": -4.495004630166785, \"Bottom 20 % Deviation\": -4.029816157778443}, {\"date\": \"2020-05-02T00:00:00+00:00\", \"Top 20 %\": 4.434298560037454, \"Bottom 20 %\": 4.877563712342973, \"Top 20 % Deviation\": -4.545038845924185, \"Bottom 20 % Deviation\": -4.101773693618662}, {\"date\": \"2020-05-03T00:00:00+00:00\", \"Top 20 %\": 4.281969778478131, \"Bottom 20 %\": 4.591878310573497, \"Top 20 % Deviation\": -4.697367627483507, \"Bottom 20 % Deviation\": -4.387459095388137}, {\"date\": \"2020-05-04T00:00:00+00:00\", \"Top 20 %\": 4.281858231394533, \"Bottom 20 %\": 4.667886122862039, \"Top 20 % Deviation\": -4.697479174567105, \"Bottom 20 % Deviation\": -4.311451283099595}, {\"date\": \"2020-05-05T00:00:00+00:00\", \"Top 20 %\": 4.367456475487717, \"Bottom 20 %\": 4.64843688250195, \"Top 20 % Deviation\": -4.611880930473921, \"Bottom 20 % Deviation\": -4.330900523459685}, {\"date\": \"2020-05-06T00:00:00+00:00\", \"Top 20 %\": 4.492312592401039, \"Bottom 20 %\": 4.700712945844701, \"Top 20 % Deviation\": -4.4870248135606, \"Bottom 20 % Deviation\": -4.278624460116935}, {\"date\": \"2020-05-07T00:00:00+00:00\", \"Top 20 %\": 4.6116043329469445, \"Bottom 20 %\": 4.765704007070768, \"Top 20 % Deviation\": -4.367733073014695, \"Bottom 20 % Deviation\": -4.213633398890867}, {\"date\": \"2020-05-08T00:00:00+00:00\", \"Top 20 %\": 4.601705919614021, \"Bottom 20 %\": 4.580565379789039, \"Top 20 % Deviation\": -4.377631486347619, \"Bottom 20 % Deviation\": -4.398772026172596}, {\"date\": \"2020-05-09T00:00:00+00:00\", \"Top 20 %\": 4.597245380647652, \"Bottom 20 %\": 4.722785953840831, \"Top 20 % Deviation\": -4.3820920253139874, \"Bottom 20 % Deviation\": -4.256551452120804}, {\"date\": \"2020-05-10T00:00:00+00:00\", \"Top 20 %\": 4.541418770616369, \"Bottom 20 %\": 4.726541050970292, \"Top 20 % Deviation\": -4.43791863534527, \"Bottom 20 % Deviation\": -4.252796354991341}, {\"date\": \"2020-05-11T00:00:00+00:00\", \"Top 20 %\": 4.414052465032876, \"Bottom 20 %\": 4.509443160351128, \"Top 20 % Deviation\": -4.565284940928763, \"Bottom 20 % Deviation\": -4.469894245610506}, {\"date\": \"2020-05-12T00:00:00+00:00\", \"Top 20 %\": 4.536482095741403, \"Bottom 20 %\": 4.492191002164203, \"Top 20 % Deviation\": -4.442855310220237, \"Bottom 20 % Deviation\": -4.487146403797431}, {\"date\": \"2020-05-13T00:00:00+00:00\", \"Top 20 %\": 4.7405943353323305, \"Bottom 20 %\": 4.634044985636575, \"Top 20 % Deviation\": -4.23874307062931, \"Bottom 20 % Deviation\": -4.34529242032506}, {\"date\": \"2020-05-14T00:00:00+00:00\", \"Top 20 %\": 4.675702618262919, \"Bottom 20 %\": 4.533783414235934, \"Top 20 % Deviation\": -4.303634787698719, \"Bottom 20 % Deviation\": -4.445553991725701}, {\"date\": \"2020-05-15T00:00:00+00:00\", \"Top 20 %\": 4.732753271553405, \"Bottom 20 %\": 4.56631439341534, \"Top 20 % Deviation\": -4.246584134408233, \"Bottom 20 % Deviation\": -4.413023012546295}, {\"date\": \"2020-05-16T00:00:00+00:00\", \"Top 20 %\": 4.639515039377677, \"Bottom 20 %\": 4.584706336522025, \"Top 20 % Deviation\": -4.339822366583961, \"Bottom 20 % Deviation\": -4.39463106943961}, {\"date\": \"2020-05-17T00:00:00+00:00\", \"Top 20 %\": 4.394852810694739, \"Bottom 20 %\": 4.656785643127725, \"Top 20 % Deviation\": -4.5844845952668996, \"Bottom 20 % Deviation\": -4.322551762833909}, {\"date\": \"2020-05-18T00:00:00+00:00\", \"Top 20 %\": 4.421405873818735, \"Bottom 20 %\": 4.713704430016319, \"Top 20 % Deviation\": -4.557931532142905, \"Bottom 20 % Deviation\": -4.265632975945316}, {\"date\": \"2020-05-19T00:00:00+00:00\", \"Top 20 %\": 4.44970662319875, \"Bottom 20 %\": 4.727868500718858, \"Top 20 % Deviation\": -4.529630782762889, \"Bottom 20 % Deviation\": -4.251468905242776}, {\"date\": \"2020-05-20T00:00:00+00:00\", \"Top 20 %\": 4.628061981079993, \"Bottom 20 %\": 4.880478881858912, \"Top 20 % Deviation\": -4.3512754248816465, \"Bottom 20 % Deviation\": -4.098858524102722}, {\"date\": \"2020-05-21T00:00:00+00:00\", \"Top 20 %\": 4.69579443173099, \"Bottom 20 %\": 4.848904855450374, \"Top 20 % Deviation\": -4.283542974230651, \"Bottom 20 % Deviation\": -4.13043255051126}, {\"date\": \"2020-05-22T00:00:00+00:00\", \"Top 20 %\": 4.708180628162483, \"Bottom 20 %\": 4.919141099117269, \"Top 20 % Deviation\": -4.271156777799157, \"Bottom 20 % Deviation\": -4.060196306844365}, {\"date\": \"2020-05-23T00:00:00+00:00\", \"Top 20 %\": 4.610108945739477, \"Bottom 20 %\": 4.807970229353939, \"Top 20 % Deviation\": -4.369228460222163, \"Bottom 20 % Deviation\": -4.171367176607696}, {\"date\": \"2020-05-24T00:00:00+00:00\", \"Top 20 %\": 4.628535098622928, \"Bottom 20 %\": 5.123042049373384, \"Top 20 % Deviation\": -4.350802307338713, \"Bottom 20 % Deviation\": -3.8562953565882494}, {\"date\": \"2020-05-25T00:00:00+00:00\", \"Top 20 %\": 4.523696419762082, \"Bottom 20 %\": 5.089683336371655, \"Top 20 % Deviation\": -4.45564098619956, \"Bottom 20 % Deviation\": -3.889654069589979}, {\"date\": \"2020-05-26T00:00:00+00:00\", \"Top 20 %\": 4.712916638425356, \"Bottom 20 %\": 5.063534743964534, \"Top 20 % Deviation\": -4.266420767536287, \"Bottom 20 % Deviation\": -3.9158026619970996}, {\"date\": \"2020-05-27T00:00:00+00:00\", \"Top 20 %\": 4.934760016321291, \"Bottom 20 %\": 5.047521281098156, \"Top 20 % Deviation\": -4.0445773896403505, \"Bottom 20 % Deviation\": -3.931816124863478}, {\"date\": \"2020-05-28T00:00:00+00:00\", \"Top 20 %\": 4.920166505144959, \"Bottom 20 %\": 5.025653329881419, \"Top 20 % Deviation\": -4.059170900816683, \"Bottom 20 % Deviation\": -3.953684076080214}, {\"date\": \"2020-05-29T00:00:00+00:00\", \"Top 20 %\": 5.00641383032307, \"Bottom 20 %\": 5.1231825454236475, \"Top 20 % Deviation\": -3.972923575638572, \"Bottom 20 % Deviation\": -3.8561548605379863}, {\"date\": \"2020-05-30T00:00:00+00:00\", \"Top 20 %\": 4.971414677832336, \"Bottom 20 %\": 4.984767331026065, \"Top 20 % Deviation\": -4.007922728129306, \"Bottom 20 % Deviation\": -3.9945700749355693}, {\"date\": \"2020-05-31T00:00:00+00:00\", \"Top 20 %\": 4.831242549882171, \"Bottom 20 %\": 4.9859257617570645, \"Top 20 % Deviation\": -4.14809485607947, \"Bottom 20 % Deviation\": -3.9934116442045706}, {\"date\": \"2020-06-01T00:00:00+00:00\", \"Top 20 %\": 4.883504318442171, \"Bottom 20 %\": 4.947303052811309, \"Top 20 % Deviation\": -4.095833087519471, \"Bottom 20 % Deviation\": -4.032034353150327}, {\"date\": \"2020-06-02T00:00:00+00:00\", \"Top 20 %\": 5.0642010221127025, \"Bottom 20 %\": 4.933579141147997, \"Top 20 % Deviation\": -3.915136383848939, \"Bottom 20 % Deviation\": -4.045758264813639}, {\"date\": \"2020-06-03T00:00:00+00:00\", \"Top 20 %\": 5.205832669003965, \"Bottom 20 %\": 4.8056279452198645, \"Top 20 % Deviation\": -3.7735047369576753, \"Bottom 20 % Deviation\": -4.1737094607417715}, {\"date\": \"2020-06-04T00:00:00+00:00\", \"Top 20 %\": 5.475554938914217, \"Bottom 20 %\": 5.020232856193109, \"Top 20 % Deviation\": -3.5037824670474222, \"Bottom 20 % Deviation\": -3.959104549768527}, {\"date\": \"2020-06-05T00:00:00+00:00\", \"Top 20 %\": 5.5952036548275625, \"Bottom 20 %\": 5.36664668499695, \"Top 20 % Deviation\": -3.384133751134077, \"Bottom 20 % Deviation\": -3.612690720964686}, {\"date\": \"2020-06-06T00:00:00+00:00\", \"Top 20 %\": 5.545720183619599, \"Bottom 20 %\": 5.218467906724481, \"Top 20 % Deviation\": -3.433617222342041, \"Bottom 20 % Deviation\": -3.760869499237155}, {\"date\": \"2020-06-07T00:00:00+00:00\", \"Top 20 %\": 5.483881820519125, \"Bottom 20 %\": 5.418165669548893, \"Top 20 % Deviation\": -3.495455585442515, \"Bottom 20 % Deviation\": -3.5611717364127435}, {\"date\": \"2020-06-08T00:00:00+00:00\", \"Top 20 %\": 5.561838092110364, \"Bottom 20 %\": 5.363896119390439, \"Top 20 % Deviation\": -3.417499313851277, \"Bottom 20 % Deviation\": -3.6154412865711962}, {\"date\": \"2020-06-09T00:00:00+00:00\", \"Top 20 %\": 5.723078065048128, \"Bottom 20 %\": 5.339300245870416, \"Top 20 % Deviation\": -3.2562593409135134, \"Bottom 20 % Deviation\": -3.6400371600912194}, {\"date\": \"2020-06-10T00:00:00+00:00\", \"Top 20 %\": 5.921013317456459, \"Bottom 20 %\": 5.491057562772316, \"Top 20 % Deviation\": -3.058324088505182, \"Bottom 20 % Deviation\": -3.4882798431893187}, {\"date\": \"2020-06-11T00:00:00+00:00\", \"Top 20 %\": 5.990367229542786, \"Bottom 20 %\": 5.613999232109138, \"Top 20 % Deviation\": -2.9889701764188557, \"Bottom 20 % Deviation\": -3.3653381738524977}, {\"date\": \"2020-06-12T00:00:00+00:00\", \"Top 20 %\": 5.9073973311947725, \"Bottom 20 %\": 5.715152691129023, \"Top 20 % Deviation\": -3.071940074766869, \"Bottom 20 % Deviation\": -3.2641847148326115}, {\"date\": \"2020-06-13T00:00:00+00:00\", \"Top 20 %\": 5.779998143532883, \"Bottom 20 %\": 5.3512057803231565, \"Top 20 % Deviation\": -3.199339262428759, \"Bottom 20 % Deviation\": -3.628131625638479}, {\"date\": \"2020-06-14T00:00:00+00:00\", \"Top 20 %\": 5.4920860136511696, \"Bottom 20 %\": 5.06994694456377, \"Top 20 % Deviation\": -3.4872513923104718, \"Bottom 20 % Deviation\": -3.909390461397866}, {\"date\": \"2020-06-15T00:00:00+00:00\", \"Top 20 %\": 5.487020373516668, \"Bottom 20 %\": 5.108275742964501, \"Top 20 % Deviation\": -3.492317032444974, \"Bottom 20 % Deviation\": -3.8710616629971346}, {\"date\": \"2020-06-16T00:00:00+00:00\", \"Top 20 %\": 5.636795530623639, \"Bottom 20 %\": 5.1767459961510855, \"Top 20 % Deviation\": -3.3425418753380036, \"Bottom 20 % Deviation\": -3.802591409810551}, {\"date\": \"2020-06-17T00:00:00+00:00\", \"Top 20 %\": 5.903918076885706, \"Bottom 20 %\": 5.300209275393633, \"Top 20 % Deviation\": -3.0754193290759355, \"Bottom 20 % Deviation\": -3.679128130568004}, {\"date\": \"2020-06-18T00:00:00+00:00\", \"Top 20 %\": 6.0036034739419835, \"Bottom 20 %\": 5.4882682029619945, \"Top 20 % Deviation\": -2.975733932019658, \"Bottom 20 % Deviation\": -3.4910692029996424}, {\"date\": \"2020-06-19T00:00:00+00:00\", \"Top 20 %\": 5.984330047350881, \"Bottom 20 %\": 5.98502999727241, \"Top 20 % Deviation\": -2.9950073586107595, \"Bottom 20 % Deviation\": -2.9943074086892265}, {\"date\": \"2020-06-20T00:00:00+00:00\", \"Top 20 %\": 5.975887158901199, \"Bottom 20 %\": 5.997371636792348, \"Top 20 % Deviation\": -3.0034502470604414, \"Bottom 20 % Deviation\": -2.9819657691692885}, {\"date\": \"2020-06-21T00:00:00+00:00\", \"Top 20 %\": 5.7690783465334246, \"Bottom 20 %\": 5.7190100792449465, \"Top 20 % Deviation\": -3.2102590594282163, \"Bottom 20 % Deviation\": -3.26032732671669}, {\"date\": \"2020-06-22T00:00:00+00:00\", \"Top 20 %\": 5.795677255972185, \"Bottom 20 %\": 5.993906790940231, \"Top 20 % Deviation\": -3.183660149989456, \"Bottom 20 % Deviation\": -2.985430615021406}, {\"date\": \"2020-06-23T00:00:00+00:00\", \"Top 20 %\": 5.9741762301272265, \"Bottom 20 %\": 6.224938906096817, \"Top 20 % Deviation\": -3.0051611758344143, \"Bottom 20 % Deviation\": -2.7543984998648186}, {\"date\": \"2020-06-24T00:00:00+00:00\", \"Top 20 %\": 6.198746886755053, \"Bottom 20 %\": 6.469351974109635, \"Top 20 % Deviation\": -2.780590519206588, \"Bottom 20 % Deviation\": -2.509985431852001}, {\"date\": \"2020-06-25T00:00:00+00:00\", \"Top 20 %\": 6.150318252685549, \"Bottom 20 %\": 6.217695927575404, \"Top 20 % Deviation\": -2.8290191532760915, \"Bottom 20 % Deviation\": -2.7616414783862333}, {\"date\": \"2020-06-26T00:00:00+00:00\", \"Top 20 %\": 6.0847956784757695, \"Bottom 20 %\": 6.430621812363905, \"Top 20 % Deviation\": -2.8945417274858714, \"Bottom 20 % Deviation\": -2.548715593597732}, {\"date\": \"2020-06-27T00:00:00+00:00\", \"Top 20 %\": 5.918304123239137, \"Bottom 20 %\": 6.220128790803886, \"Top 20 % Deviation\": -3.061033282722503, \"Bottom 20 % Deviation\": -2.7592086151577515}, {\"date\": \"2020-06-28T00:00:00+00:00\", \"Top 20 %\": 5.607529160645695, \"Bottom 20 %\": 6.0049194961014205, \"Top 20 % Deviation\": -3.3718082453159446, \"Bottom 20 % Deviation\": -2.974417909860217}, {\"date\": \"2020-06-29T00:00:00+00:00\", \"Top 20 %\": 5.558167564478179, \"Bottom 20 %\": 5.743412857111279, \"Top 20 % Deviation\": -3.4211698414834615, \"Bottom 20 % Deviation\": -3.2359245488503587}, {\"date\": \"2020-06-30T00:00:00+00:00\", \"Top 20 %\": 5.711823412706095, \"Bottom 20 %\": 6.015457360471461, \"Top 20 % Deviation\": -3.2675139932555455, \"Bottom 20 % Deviation\": -2.963880045490176}, {\"date\": \"2020-07-01T00:00:00+00:00\", \"Top 20 %\": 6.052811192315003, \"Bottom 20 %\": 6.55147034173641, \"Top 20 % Deviation\": -2.9265262136466363, \"Bottom 20 % Deviation\": -2.4278670642252265}, {\"date\": \"2020-07-02T00:00:00+00:00\", \"Top 20 %\": 6.070894264428135, \"Bottom 20 %\": 6.4368791728725725, \"Top 20 % Deviation\": -2.908443141533505, \"Bottom 20 % Deviation\": -2.542458233089065}, {\"date\": \"2020-07-03T00:00:00+00:00\", \"Top 20 %\": 6.033302447839672, \"Bottom 20 %\": 6.547601758622781, \"Top 20 % Deviation\": -2.946034958121968, \"Bottom 20 % Deviation\": -2.431735647338855}, {\"date\": \"2020-07-04T00:00:00+00:00\", \"Top 20 %\": 5.901584799202409, \"Bottom 20 %\": 6.499636174021586, \"Top 20 % Deviation\": -3.077752606759231, \"Bottom 20 % Deviation\": -2.4797012319400507}, {\"date\": \"2020-07-05T00:00:00+00:00\", \"Top 20 %\": 5.727764661500865, \"Bottom 20 %\": 6.315408902002482, \"Top 20 % Deviation\": -3.2515727444607743, \"Bottom 20 % Deviation\": -2.6639285039591547}, {\"date\": \"2020-07-06T00:00:00+00:00\", \"Top 20 %\": 5.7305659870071874, \"Bottom 20 %\": 6.186898371431029, \"Top 20 % Deviation\": -3.248771418954451, \"Bottom 20 % Deviation\": -2.7924390345306067}, {\"date\": \"2020-07-07T00:00:00+00:00\", \"Top 20 %\": 5.905022632457216, \"Bottom 20 %\": 6.044707269261023, \"Top 20 % Deviation\": -3.0743147735044234, \"Bottom 20 % Deviation\": -2.934630136700612}, {\"date\": \"2020-07-08T00:00:00+00:00\", \"Top 20 %\": 6.164931686613752, \"Bottom 20 %\": 6.056950967284216, \"Top 20 % Deviation\": -2.8144057193478873, \"Bottom 20 % Deviation\": -2.922386438677419}, {\"date\": \"2020-07-09T00:00:00+00:00\", \"Top 20 %\": 6.188077551174237, \"Bottom 20 %\": 5.988459827239083, \"Top 20 % Deviation\": -2.791259854787403, \"Bottom 20 % Deviation\": -2.990877578722551}, {\"date\": \"2020-07-10T00:00:00+00:00\", \"Top 20 %\": 6.1283637290247945, \"Bottom 20 %\": 5.768737148446339, \"Top 20 % Deviation\": -2.8509736769368446, \"Bottom 20 % Deviation\": -3.2106002575152957}, {\"date\": \"2020-07-11T00:00:00+00:00\", \"Top 20 %\": 5.814733243470693, \"Bottom 20 %\": 5.436158799387886, \"Top 20 % Deviation\": -3.164604162490946, \"Bottom 20 % Deviation\": -3.543178606573747}, {\"date\": \"2020-07-12T00:00:00+00:00\", \"Top 20 %\": 5.692257735455949, \"Bottom 20 %\": 5.419725480161899, \"Top 20 % Deviation\": -3.287079670505689, \"Bottom 20 % Deviation\": -3.5596119257997345}, {\"date\": \"2020-07-13T00:00:00+00:00\", \"Top 20 %\": 5.734866115075145, \"Bottom 20 %\": 5.146153686914461, \"Top 20 % Deviation\": -3.244471290886493, \"Bottom 20 % Deviation\": -3.8331837190471725}, {\"date\": \"2020-07-14T00:00:00+00:00\", \"Top 20 %\": 5.925399326661009, \"Bottom 20 %\": 4.982577178924991, \"Top 20 % Deviation\": -3.0539380793006297, \"Bottom 20 % Deviation\": -3.996760227036642}, {\"date\": \"2020-07-15T00:00:00+00:00\", \"Top 20 %\": 6.142975855360385, \"Bottom 20 %\": 5.203416697193198, \"Top 20 % Deviation\": -2.8363615506012527, \"Bottom 20 % Deviation\": -3.775920708768435}, {\"date\": \"2020-07-16T00:00:00+00:00\", \"Top 20 %\": 6.166358010131569, \"Bottom 20 %\": 5.383181435268525, \"Top 20 % Deviation\": -2.8129793958300695, \"Bottom 20 % Deviation\": -3.5961559706931086}, {\"date\": \"2020-07-17T00:00:00+00:00\", \"Top 20 %\": 6.06765785204569, \"Bottom 20 %\": 5.493607740005698, \"Top 20 % Deviation\": -2.911679553915949, \"Bottom 20 % Deviation\": -3.485729665955936}, {\"date\": \"2020-07-18T00:00:00+00:00\", \"Top 20 %\": 5.917732098615017, \"Bottom 20 %\": 5.270482949286529, \"Top 20 % Deviation\": -3.061605307346623, \"Bottom 20 % Deviation\": -3.7088544566751045}, {\"date\": \"2020-07-19T00:00:00+00:00\", \"Top 20 %\": 5.650805126953311, \"Bottom 20 %\": 5.069761467186209, \"Top 20 % Deviation\": -3.3285322790083276, \"Bottom 20 % Deviation\": -3.9095759387754248}, {\"date\": \"2020-07-20T00:00:00+00:00\", \"Top 20 %\": 5.687923440937131, \"Bottom 20 %\": 4.918564107528427, \"Top 20 % Deviation\": -3.291413965024508, \"Bottom 20 % Deviation\": -4.060773298433206}, {\"date\": \"2020-07-21T00:00:00+00:00\", \"Top 20 %\": 5.884437524921264, \"Bottom 20 %\": 4.805622442848505, \"Top 20 % Deviation\": -3.0948998810403747, \"Bottom 20 % Deviation\": -4.173714963113128}, {\"date\": \"2020-07-22T00:00:00+00:00\", \"Top 20 %\": 6.1293352431121315, \"Bottom 20 %\": 4.872971717283167, \"Top 20 % Deviation\": -2.8500021628495085, \"Bottom 20 % Deviation\": -4.1063656886784665}, {\"date\": \"2020-07-23T00:00:00+00:00\", \"Top 20 %\": 6.24991901789833, \"Bottom 20 %\": 5.00652590835102, \"Top 20 % Deviation\": -2.72941838806331, \"Bottom 20 % Deviation\": -3.9728114976106133}, {\"date\": \"2020-07-24T00:00:00+00:00\", \"Top 20 %\": 6.247440279548217, \"Bottom 20 %\": 5.155761139782815, \"Top 20 % Deviation\": -2.7318971264134233, \"Bottom 20 % Deviation\": -3.8235762661788195}, {\"date\": \"2020-07-25T00:00:00+00:00\", \"Top 20 %\": 6.116373046270983, \"Bottom 20 %\": 5.12369186194557, \"Top 20 % Deviation\": -2.8629643596906575, \"Bottom 20 % Deviation\": -3.8556455440160646}, {\"date\": \"2020-07-26T00:00:00+00:00\", \"Top 20 %\": 6.00618757413339, \"Bottom 20 %\": 4.916394744642419, \"Top 20 % Deviation\": -2.9731498318282505, \"Bottom 20 % Deviation\": -4.062942661319216}, {\"date\": \"2020-07-27T00:00:00+00:00\", \"Top 20 %\": 6.036413983802739, \"Bottom 20 %\": 4.903616764705146, \"Top 20 % Deviation\": -2.942923422158901, \"Bottom 20 % Deviation\": -4.075720641256488}, {\"date\": \"2020-07-28T00:00:00+00:00\", \"Top 20 %\": 6.239175242569083, \"Bottom 20 %\": 5.18415973594802, \"Top 20 % Deviation\": -2.740162163392557, \"Bottom 20 % Deviation\": -3.7951776700136137}, {\"date\": \"2020-07-29T00:00:00+00:00\", \"Top 20 %\": 6.600887304386257, \"Bottom 20 %\": 5.4154204308135805, \"Top 20 % Deviation\": -2.3784501015753845, \"Bottom 20 % Deviation\": -3.5639169751480537}, {\"date\": \"2020-07-30T00:00:00+00:00\", \"Top 20 %\": 6.545131729439343, \"Bottom 20 %\": 5.622663040688375, \"Top 20 % Deviation\": -2.434205676522297, \"Bottom 20 % Deviation\": -3.3566743652732605}, {\"date\": \"2020-07-31T00:00:00+00:00\", \"Top 20 %\": 6.5748916782384015, \"Bottom 20 %\": 5.694026945852814, \"Top 20 % Deviation\": -2.404445727723238, \"Bottom 20 % Deviation\": -3.285310460108821}, {\"date\": \"2020-08-01T00:00:00+00:00\", \"Top 20 %\": 6.377894423943053, \"Bottom 20 %\": 5.4100609840186475, \"Top 20 % Deviation\": -2.601442982018586, \"Bottom 20 % Deviation\": -3.5692764219429867}, {\"date\": \"2020-08-02T00:00:00+00:00\", \"Top 20 %\": 6.051208319047559, \"Bottom 20 %\": 5.285617122551937, \"Top 20 % Deviation\": -2.9281290869140806, \"Bottom 20 % Deviation\": -3.693720283409698}, {\"date\": \"2020-08-03T00:00:00+00:00\", \"Top 20 %\": 5.971377134460397, \"Bottom 20 %\": 5.167129483924877, \"Top 20 % Deviation\": -3.007960271501242, \"Bottom 20 % Deviation\": -3.812207922036758}, {\"date\": \"2020-08-04T00:00:00+00:00\", \"Top 20 %\": 6.128298257017811, \"Bottom 20 %\": 5.292579378385443, \"Top 20 % Deviation\": -2.8510391489438276, \"Bottom 20 % Deviation\": -3.6867580275761918}, {\"date\": \"2020-08-05T00:00:00+00:00\", \"Top 20 %\": 6.336471764972367, \"Bottom 20 %\": 5.337385215668397, \"Top 20 % Deviation\": -2.6428656409892715, \"Bottom 20 % Deviation\": -3.6419521902932375}, {\"date\": \"2020-08-06T00:00:00+00:00\", \"Top 20 %\": 6.380978705685797, \"Bottom 20 %\": 5.4055883214887634, \"Top 20 % Deviation\": -2.598358700275841, \"Bottom 20 % Deviation\": -3.573749084472871}, {\"date\": \"2020-08-07T00:00:00+00:00\", \"Top 20 %\": 6.414761623351512, \"Bottom 20 %\": 5.388547003447627, \"Top 20 % Deviation\": -2.564575782610126, \"Bottom 20 % Deviation\": -3.5907904025140076}, {\"date\": \"2020-08-08T00:00:00+00:00\", \"Top 20 %\": 6.196466282301146, \"Bottom 20 %\": 5.5184649775112335, \"Top 20 % Deviation\": -2.782871123660493, \"Bottom 20 % Deviation\": -3.4608724284504016}, {\"date\": \"2020-08-09T00:00:00+00:00\", \"Top 20 %\": 6.023410484081922, \"Bottom 20 %\": 5.48325677278374, \"Top 20 % Deviation\": -2.9559269218797164, \"Bottom 20 % Deviation\": -3.4960806331778946}, {\"date\": \"2020-08-10T00:00:00+00:00\", \"Top 20 %\": 5.970573244626269, \"Bottom 20 %\": 5.472387466568492, \"Top 20 % Deviation\": -3.0087641613353693, \"Bottom 20 % Deviation\": -3.5069499393931425}, {\"date\": \"2020-08-11T00:00:00+00:00\", \"Top 20 %\": 6.121192767089125, \"Bottom 20 %\": 5.710282285930772, \"Top 20 % Deviation\": -2.858144638872514, \"Bottom 20 % Deviation\": -3.269055120030862}, {\"date\": \"2020-08-12T00:00:00+00:00\", \"Top 20 %\": 6.371647780563608, \"Bottom 20 %\": 5.969132013803093, \"Top 20 % Deviation\": -2.6076896253980304, \"Bottom 20 % Deviation\": -3.0102053921585403}, {\"date\": \"2020-08-13T00:00:00+00:00\", \"Top 20 %\": 6.496539363812721, \"Bottom 20 %\": 6.188673603817493, \"Top 20 % Deviation\": -2.482798042148917, \"Bottom 20 % Deviation\": -2.790663802144141}, {\"date\": \"2020-08-14T00:00:00+00:00\", \"Top 20 %\": 6.4922928699231495, \"Bottom 20 %\": 6.12473277473782, \"Top 20 % Deviation\": -2.4870445360384883, \"Bottom 20 % Deviation\": -2.854604631223814}, {\"date\": \"2020-08-15T00:00:00+00:00\", \"Top 20 %\": 6.297782067104357, \"Bottom 20 %\": 6.048535738535205, \"Top 20 % Deviation\": -2.6815553388572804, \"Bottom 20 % Deviation\": -2.93080166742643}, {\"date\": \"2020-08-16T00:00:00+00:00\", \"Top 20 %\": 6.103030729762928, \"Bottom 20 %\": 6.122209190521032, \"Top 20 % Deviation\": -2.87630667619871, \"Bottom 20 % Deviation\": -2.857128215440602}, {\"date\": \"2020-08-17T00:00:00+00:00\", \"Top 20 %\": 6.077096281632971, \"Bottom 20 %\": 6.341055884463634, \"Top 20 % Deviation\": -2.902241124328666, \"Bottom 20 % Deviation\": -2.6382815214980004}, {\"date\": \"2020-08-18T00:00:00+00:00\", \"Top 20 %\": 6.3042371133641755, \"Bottom 20 %\": 6.144383833508378, \"Top 20 % Deviation\": -2.675100292597462, \"Bottom 20 % Deviation\": -2.8349535724532564}, {\"date\": \"2020-08-19T00:00:00+00:00\", \"Top 20 %\": 6.542026016285789, \"Bottom 20 %\": 6.1332912628101095, \"Top 20 % Deviation\": -2.437311389675849, \"Bottom 20 % Deviation\": -2.846046143151526}, {\"date\": \"2020-08-20T00:00:00+00:00\", \"Top 20 %\": 6.6632410766924295, \"Bottom 20 %\": 6.061166407137459, \"Top 20 % Deviation\": -2.3160963292692087, \"Bottom 20 % Deviation\": -2.9181709988241757}, {\"date\": \"2020-08-21T00:00:00+00:00\", \"Top 20 %\": 6.765292375462288, \"Bottom 20 %\": 5.999354805796308, \"Top 20 % Deviation\": -2.2140450304993506, \"Bottom 20 % Deviation\": -2.979982600165326}, {\"date\": \"2020-08-22T00:00:00+00:00\", \"Top 20 %\": 6.6155682539574725, \"Bottom 20 %\": 5.709192226426825, \"Top 20 % Deviation\": -2.363769152004165, \"Bottom 20 % Deviation\": -3.27014517953481}, {\"date\": \"2020-08-23T00:00:00+00:00\", \"Top 20 %\": 6.483295862929799, \"Bottom 20 %\": 5.682159308751546, \"Top 20 % Deviation\": -2.4960415430318377, \"Bottom 20 % Deviation\": -3.2971780972100886}, {\"date\": \"2020-08-24T00:00:00+00:00\", \"Top 20 %\": 6.473353301046761, \"Bottom 20 %\": 5.587675535944735, \"Top 20 % Deviation\": -2.5059841049148766, \"Bottom 20 % Deviation\": -3.3916618700169003}, {\"date\": \"2020-08-25T00:00:00+00:00\", \"Top 20 %\": 6.8048287863962695, \"Bottom 20 %\": 5.774963261417173, \"Top 20 % Deviation\": -2.1745086195653673, \"Bottom 20 % Deviation\": -3.2043741445444622}, {\"date\": \"2020-08-26T00:00:00+00:00\", \"Top 20 %\": 7.094005616491275, \"Bottom 20 %\": 5.947740980026351, \"Top 20 % Deviation\": -1.8853317894703618, \"Bottom 20 % Deviation\": -3.0315964259352848}, {\"date\": \"2020-08-27T00:00:00+00:00\", \"Top 20 %\": 7.103054072527472, \"Bottom 20 %\": 5.607120966422262, \"Top 20 % Deviation\": -1.876283333434165, \"Bottom 20 % Deviation\": -3.3722164395393732}, {\"date\": \"2020-08-28T00:00:00+00:00\", \"Top 20 %\": 7.177844277747342, \"Bottom 20 %\": 5.490190327700176, \"Top 20 % Deviation\": -1.8014931282142954, \"Bottom 20 % Deviation\": -3.4891470782614604}, {\"date\": \"2020-08-29T00:00:00+00:00\", \"Top 20 %\": 7.097242377187724, \"Bottom 20 %\": 5.58570732103818, \"Top 20 % Deviation\": -1.8820950287739122, \"Bottom 20 % Deviation\": -3.393630084923455}, {\"date\": \"2020-08-30T00:00:00+00:00\", \"Top 20 %\": 6.7758939119744825, \"Bottom 20 %\": 5.631952707081361, \"Top 20 % Deviation\": -2.2034434939871543, \"Bottom 20 % Deviation\": -3.347384698880275}, {\"date\": \"2020-08-31T00:00:00+00:00\", \"Top 20 %\": 6.7829959237612245, \"Bottom 20 %\": 5.577113855194644, \"Top 20 % Deviation\": -2.196341482200413, \"Bottom 20 % Deviation\": -3.402223550766992}, {\"date\": \"2020-09-01T00:00:00+00:00\", \"Top 20 %\": 7.027113221097051, \"Bottom 20 %\": 5.696385911827349, \"Top 20 % Deviation\": -1.9522241848645865, \"Bottom 20 % Deviation\": -3.2829514941342866}, {\"date\": \"2020-09-02T00:00:00+00:00\", \"Top 20 %\": 7.193474430839504, \"Bottom 20 %\": 5.904265296189127, \"Top 20 % Deviation\": -1.7858629751221329, \"Bottom 20 % Deviation\": -3.075072109772509}, {\"date\": \"2020-09-03T00:00:00+00:00\", \"Top 20 %\": 7.312922387490535, \"Bottom 20 %\": 6.0206733318343355, \"Top 20 % Deviation\": -1.6664150184711022, \"Bottom 20 % Deviation\": -2.958664074127301}, {\"date\": \"2020-09-04T00:00:00+00:00\", \"Top 20 %\": 7.133944256165165, \"Bottom 20 %\": 5.750015080992292, \"Top 20 % Deviation\": -1.8453931497964728, \"Bottom 20 % Deviation\": -3.229322324969344}, {\"date\": \"2020-09-05T00:00:00+00:00\", \"Top 20 %\": 6.976812535111731, \"Bottom 20 %\": 5.5223814566334966, \"Top 20 % Deviation\": -2.002524870849907, \"Bottom 20 % Deviation\": -3.456955949328139}, {\"date\": \"2020-09-06T00:00:00+00:00\", \"Top 20 %\": 6.705311128482405, \"Bottom 20 %\": 5.477474197375812, \"Top 20 % Deviation\": -2.2740262774792326, \"Bottom 20 % Deviation\": -3.5018632085858235}, {\"date\": \"2020-09-07T00:00:00+00:00\", \"Top 20 %\": 6.371296587472398, \"Bottom 20 %\": 5.435918095393754, \"Top 20 % Deviation\": -2.60804081848924, \"Bottom 20 % Deviation\": -3.5434193105678817}, {\"date\": \"2020-09-08T00:00:00+00:00\", \"Top 20 %\": 6.462723566740299, \"Bottom 20 %\": 5.193647182924339, \"Top 20 % Deviation\": -2.516613839221338, \"Bottom 20 % Deviation\": -3.785690223037297}, {\"date\": \"2020-09-09T00:00:00+00:00\", \"Top 20 %\": 6.712710666859657, \"Bottom 20 %\": 5.241026960073196, \"Top 20 % Deviation\": -2.2666267391019805, \"Bottom 20 % Deviation\": -3.7383104458884397}, {\"date\": \"2020-09-10T00:00:00+00:00\", \"Top 20 %\": 6.6679352181938, \"Bottom 20 %\": 5.509592750711739, \"Top 20 % Deviation\": -2.3114021877678375, \"Bottom 20 % Deviation\": -3.4697446552498974}, {\"date\": \"2020-09-11T00:00:00+00:00\", \"Top 20 %\": 6.616722761698838, \"Bottom 20 %\": 5.92349023863912, \"Top 20 % Deviation\": -2.3626146442628007, \"Bottom 20 % Deviation\": -3.0558471673225154}, {\"date\": \"2020-09-12T00:00:00+00:00\", \"Top 20 %\": 6.3329766055002015, \"Bottom 20 %\": 5.516168295304334, \"Top 20 % Deviation\": -2.6463608004614367, \"Bottom 20 % Deviation\": -3.4631691106573017}, {\"date\": \"2020-09-13T00:00:00+00:00\", \"Top 20 %\": 6.023546243913254, \"Bottom 20 %\": 5.6002485531551205, \"Top 20 % Deviation\": -2.955791162048385, \"Bottom 20 % Deviation\": -3.3790888528065155}, {\"date\": \"2020-09-14T00:00:00+00:00\", \"Top 20 %\": 6.088402815849358, \"Bottom 20 %\": 5.6836780908542215, \"Top 20 % Deviation\": -2.8909345901122805, \"Bottom 20 % Deviation\": -3.295659315107413}, {\"date\": \"2020-09-15T00:00:00+00:00\", \"Top 20 %\": 6.110780676898361, \"Bottom 20 %\": 5.493276829807667, \"Top 20 % Deviation\": -2.868556729063278, \"Bottom 20 % Deviation\": -3.4860605761539682}, {\"date\": \"2020-09-16T00:00:00+00:00\", \"Top 20 %\": 6.434207077641176, \"Bottom 20 %\": 6.09643104479958, \"Top 20 % Deviation\": -2.5451303283204623, \"Bottom 20 % Deviation\": -2.8829063611620542}, {\"date\": \"2020-09-17T00:00:00+00:00\", \"Top 20 %\": 6.742979867168108, \"Bottom 20 %\": 6.325060813973357, \"Top 20 % Deviation\": -2.2363575387935315, \"Bottom 20 % Deviation\": -2.6542765919882774}, {\"date\": \"2020-09-18T00:00:00+00:00\", \"Top 20 %\": 6.775219440481891, \"Bottom 20 %\": 6.265653381841608, \"Top 20 % Deviation\": -2.2041179654797483, \"Bottom 20 % Deviation\": -2.713684024120026}, {\"date\": \"2020-09-19T00:00:00+00:00\", \"Top 20 %\": 6.603344339095837, \"Bottom 20 %\": 6.102737261562278, \"Top 20 % Deviation\": -2.3759930668658025, \"Bottom 20 % Deviation\": -2.8766001443993567}, {\"date\": \"2020-09-20T00:00:00+00:00\", \"Top 20 %\": 6.386812059156922, \"Bottom 20 %\": 5.762252259013021, \"Top 20 % Deviation\": -2.5925253468047176, \"Bottom 20 % Deviation\": -3.2170851469486137}, {\"date\": \"2020-09-21T00:00:00+00:00\", \"Top 20 %\": 6.5490072924468326, \"Bottom 20 %\": 5.484357178386067, \"Top 20 % Deviation\": -2.4303301135148074, \"Bottom 20 % Deviation\": -3.494980227575568}, {\"date\": \"2020-09-22T00:00:00+00:00\", \"Top 20 %\": 6.815202024287697, \"Bottom 20 %\": 5.769242907388711, \"Top 20 % Deviation\": -2.164135381673943, \"Bottom 20 % Deviation\": -3.2100944985729236}, {\"date\": \"2020-09-23T00:00:00+00:00\", \"Top 20 %\": 7.060724295287618, \"Bottom 20 %\": 5.711514724491349, \"Top 20 % Deviation\": -1.9186131106740227, \"Bottom 20 % Deviation\": -3.2678226814702866}, {\"date\": \"2020-09-24T00:00:00+00:00\", \"Top 20 %\": 7.108208031724786, \"Bottom 20 %\": 5.838325513112535, \"Top 20 % Deviation\": -1.8711293742368547, \"Bottom 20 % Deviation\": -3.1410118928491007}, {\"date\": \"2020-09-25T00:00:00+00:00\", \"Top 20 %\": 7.289449178327393, \"Bottom 20 %\": 5.920731269969591, \"Top 20 % Deviation\": -1.6898882276342484, \"Bottom 20 % Deviation\": -3.058606135992045}, {\"date\": \"2020-09-26T00:00:00+00:00\", \"Top 20 %\": 7.025248144077321, \"Bottom 20 %\": 5.141019377295395, \"Top 20 % Deviation\": -1.9540892618843209, \"Bottom 20 % Deviation\": -3.83831802866624}, {\"date\": \"2020-09-27T00:00:00+00:00\", \"Top 20 %\": 6.758694154531237, \"Bottom 20 %\": 4.902979959388395, \"Top 20 % Deviation\": -2.2206432514304044, \"Bottom 20 % Deviation\": -4.076357446573241}, {\"date\": \"2020-09-28T00:00:00+00:00\", \"Top 20 %\": 6.71171999608126, \"Bottom 20 %\": 5.033152642769037, \"Top 20 % Deviation\": -2.2676174098803825, \"Bottom 20 % Deviation\": -3.9461847631925977}, {\"date\": \"2020-09-29T00:00:00+00:00\", \"Top 20 %\": 7.003355322409457, \"Bottom 20 %\": 5.319640866993818, \"Top 20 % Deviation\": -1.975982083552185, \"Bottom 20 % Deviation\": -3.6596965389678173}, {\"date\": \"2020-09-30T00:00:00+00:00\", \"Top 20 %\": 7.189267286032558, \"Bottom 20 %\": 5.69479232222673, \"Top 20 % Deviation\": -1.7900701199290847, \"Bottom 20 % Deviation\": -3.284545083734905}, {\"date\": \"2020-10-01T00:00:00+00:00\", \"Top 20 %\": 7.078200111640837, \"Bottom 20 %\": 5.756415204512505, \"Top 20 % Deviation\": -1.9011372943208051, \"Bottom 20 % Deviation\": -3.222922201449129}, {\"date\": \"2020-10-02T00:00:00+00:00\", \"Top 20 %\": 7.0856948920269245, \"Bottom 20 %\": 5.647695435909016, \"Top 20 % Deviation\": -1.8936425139347186, \"Bottom 20 % Deviation\": -3.331641970052619}, {\"date\": \"2020-10-03T00:00:00+00:00\", \"Top 20 %\": 6.926612826541648, \"Bottom 20 %\": 5.577632123718267, \"Top 20 % Deviation\": -2.052724579419995, \"Bottom 20 % Deviation\": -3.4017052822433684}, {\"date\": \"2020-10-04T00:00:00+00:00\", \"Top 20 %\": 6.528503179455716, \"Bottom 20 %\": 5.290291739407662, \"Top 20 % Deviation\": -2.450834226505927, \"Bottom 20 % Deviation\": -3.689045666553973}, {\"date\": \"2020-10-05T00:00:00+00:00\", \"Top 20 %\": 6.382985904367494, \"Bottom 20 %\": 5.304095421784792, \"Top 20 % Deviation\": -2.5963515015941483, \"Bottom 20 % Deviation\": -3.675241984176844}, {\"date\": \"2020-10-06T00:00:00+00:00\", \"Top 20 %\": 6.636485089276005, \"Bottom 20 %\": 5.488131792376951, \"Top 20 % Deviation\": -2.342852316685638, \"Bottom 20 % Deviation\": -3.4912056135846847}, {\"date\": \"2020-10-07T00:00:00+00:00\", \"Top 20 %\": 6.820351397783329, \"Bottom 20 %\": 5.634677432286021, \"Top 20 % Deviation\": -2.1589860081783128, \"Bottom 20 % Deviation\": -3.344659973675614}, {\"date\": \"2020-10-08T00:00:00+00:00\", \"Top 20 %\": 6.900166248095237, \"Bottom 20 %\": 5.846466309367278, \"Top 20 % Deviation\": -2.079171157866404, \"Bottom 20 % Deviation\": -3.132871096594358}, {\"date\": \"2020-10-09T00:00:00+00:00\", \"Top 20 %\": 6.798653157522759, \"Bottom 20 %\": 5.678451770022432, \"Top 20 % Deviation\": -2.180684248438882, \"Bottom 20 % Deviation\": -3.3008856359392027}, {\"date\": \"2020-10-10T00:00:00+00:00\", \"Top 20 %\": 6.6570351181191, \"Bottom 20 %\": 5.350145548133609, \"Top 20 % Deviation\": -2.3223022878425406, \"Bottom 20 % Deviation\": -3.629191857828026}, {\"date\": \"2020-10-11T00:00:00+00:00\", \"Top 20 %\": 6.352275063810528, \"Bottom 20 %\": 5.2900669446278625, \"Top 20 % Deviation\": -2.627062342151113, \"Bottom 20 % Deviation\": -3.689270461333772}, {\"date\": \"2020-10-12T00:00:00+00:00\", \"Top 20 %\": 6.209718211020775, \"Bottom 20 %\": 5.136933202031682, \"Top 20 % Deviation\": -2.7696191949408666, \"Bottom 20 % Deviation\": -3.842404203929953}, {\"date\": \"2020-10-13T00:00:00+00:00\", \"Top 20 %\": 6.448708868342363, \"Bottom 20 %\": 5.766134526567856, \"Top 20 % Deviation\": -2.530628537619279, \"Bottom 20 % Deviation\": -3.2132028793937777}, {\"date\": \"2020-10-14T00:00:00+00:00\", \"Top 20 %\": 6.946816339353693, \"Bottom 20 %\": 6.057206500241953, \"Top 20 % Deviation\": -2.03252106660795, \"Bottom 20 % Deviation\": -2.922130905719681}, {\"date\": \"2020-10-15T00:00:00+00:00\", \"Top 20 %\": 6.992065301502278, \"Bottom 20 %\": 6.186931422583343, \"Top 20 % Deviation\": -1.9872721044593635, \"Bottom 20 % Deviation\": -2.792405983378291}, {\"date\": \"2020-10-16T00:00:00+00:00\", \"Top 20 %\": 7.022762352142074, \"Bottom 20 %\": 6.2540948918226125, \"Top 20 % Deviation\": -1.956575053819567, \"Bottom 20 % Deviation\": -2.7252425141390204}, {\"date\": \"2020-10-17T00:00:00+00:00\", \"Top 20 %\": 6.927305635683615, \"Bottom 20 %\": 6.212878295754545, \"Top 20 % Deviation\": -2.052031770278025, \"Bottom 20 % Deviation\": -2.766459110207088}, {\"date\": \"2020-10-18T00:00:00+00:00\", \"Top 20 %\": 6.603785392130561, \"Bottom 20 %\": 5.875456217477762, \"Top 20 % Deviation\": -2.3755520138310797, \"Bottom 20 % Deviation\": -3.1038811884838724}, {\"date\": \"2020-10-19T00:00:00+00:00\", \"Top 20 %\": 6.60280647939814, \"Bottom 20 %\": 6.015496053050612, \"Top 20 % Deviation\": -2.3765309265635004, \"Bottom 20 % Deviation\": -2.9638413529110226}, {\"date\": \"2020-10-20T00:00:00+00:00\", \"Top 20 %\": 6.806236914554598, \"Bottom 20 %\": 6.0610691924946885, \"Top 20 % Deviation\": -2.1731004914070433, \"Bottom 20 % Deviation\": -2.918268213466946}, {\"date\": \"2020-10-21T00:00:00+00:00\", \"Top 20 %\": 7.117533986552511, \"Bottom 20 %\": 6.093338518659026, \"Top 20 % Deviation\": -1.8618034194091309, \"Bottom 20 % Deviation\": -2.885998887302609}, {\"date\": \"2020-10-22T00:00:00+00:00\", \"Top 20 %\": 7.247609879924044, \"Bottom 20 %\": 6.068477269596179, \"Top 20 % Deviation\": -1.7317275260375973, \"Bottom 20 % Deviation\": -2.9108601363654563}, {\"date\": \"2020-10-23T00:00:00+00:00\", \"Top 20 %\": 7.12956773224987, \"Bottom 20 %\": 5.441591175061745, \"Top 20 % Deviation\": -1.84976967371177, \"Bottom 20 % Deviation\": -3.5377462308998906}, {\"date\": \"2020-10-24T00:00:00+00:00\", \"Top 20 %\": 6.809587832579611, \"Bottom 20 %\": 5.401807550679985, \"Top 20 % Deviation\": -2.16974957338203, \"Bottom 20 % Deviation\": -3.5775298552816523}, {\"date\": \"2020-10-25T00:00:00+00:00\", \"Top 20 %\": 6.514030177078006, \"Bottom 20 %\": 5.37522448984442, \"Top 20 % Deviation\": -2.4653072288836357, \"Bottom 20 % Deviation\": -3.6041129161172156}, {\"date\": \"2020-10-26T00:00:00+00:00\", \"Top 20 %\": 6.425493892021812, \"Bottom 20 %\": 5.542001451124536, \"Top 20 % Deviation\": -2.5538435139398294, \"Bottom 20 % Deviation\": -3.4373359548371014}, {\"date\": \"2020-10-27T00:00:00+00:00\", \"Top 20 %\": 6.537351899912062, \"Bottom 20 %\": 5.521114425806465, \"Top 20 % Deviation\": -2.4419855060495808, \"Bottom 20 % Deviation\": -3.458222980155173}, {\"date\": \"2020-10-28T00:00:00+00:00\", \"Top 20 %\": 6.818047149062866, \"Bottom 20 %\": 5.866299623283448, \"Top 20 % Deviation\": -2.161290256898776, \"Bottom 20 % Deviation\": -3.11303778267819}, {\"date\": \"2020-10-29T00:00:00+00:00\", \"Top 20 %\": 6.876219928757855, \"Bottom 20 %\": 5.936730653693351, \"Top 20 % Deviation\": -2.1031174772037873, \"Bottom 20 % Deviation\": -3.0426067522682865}, {\"date\": \"2020-10-30T00:00:00+00:00\", \"Top 20 %\": 6.827687190414105, \"Bottom 20 %\": 6.280903920365994, \"Top 20 % Deviation\": -2.151650215547538, \"Bottom 20 % Deviation\": -2.6984334855956424}, {\"date\": \"2020-10-31T00:00:00+00:00\", \"Top 20 %\": 6.5498059101460395, \"Bottom 20 %\": 6.472677819137475, \"Top 20 % Deviation\": -2.4295314958156027, \"Bottom 20 % Deviation\": -2.506659586824162}, {\"date\": \"2020-11-01T00:00:00+00:00\", \"Top 20 %\": 7.016348332394017, \"Bottom 20 %\": 8.135158235005873, \"Top 20 % Deviation\": -1.9629890735676248, \"Bottom 20 % Deviation\": -0.8441791709557631}, {\"date\": \"2020-11-02T00:00:00+00:00\", \"Top 20 %\": 7.1606148090448185, \"Bottom 20 %\": 8.548630525685276, \"Top 20 % Deviation\": -1.818722596916824, \"Bottom 20 % Deviation\": -0.4307068802763613}, {\"date\": \"2020-11-03T00:00:00+00:00\", \"Top 20 %\": 7.404043870507023, \"Bottom 20 %\": 8.34954838758098, \"Top 20 % Deviation\": -1.5752935354546191, \"Bottom 20 % Deviation\": -0.6297890183806574}, {\"date\": \"2020-11-04T00:00:00+00:00\", \"Top 20 %\": 7.806071413876393, \"Bottom 20 %\": 8.559788313361375, \"Top 20 % Deviation\": -1.1732659920852488, \"Bottom 20 % Deviation\": -0.41954909260026224}, {\"date\": \"2020-11-05T00:00:00+00:00\", \"Top 20 %\": 7.967691102054028, \"Bottom 20 %\": 8.605361714530876, \"Top 20 % Deviation\": -1.0116463039076147, \"Bottom 20 % Deviation\": -0.37397569143076126}, {\"date\": \"2020-11-06T00:00:00+00:00\", \"Top 20 %\": 8.202966984199037, \"Bottom 20 %\": 8.925410750860662, \"Top 20 % Deviation\": -0.7763704217626048, \"Bottom 20 % Deviation\": -0.053926655100974316}, {\"date\": \"2020-11-07T00:00:00+00:00\", \"Top 20 %\": 8.138707519516343, \"Bottom 20 %\": 8.669822634012672, \"Top 20 % Deviation\": -0.8406298864452971, \"Bottom 20 % Deviation\": -0.309514771948965}, {\"date\": \"2020-11-08T00:00:00+00:00\", \"Top 20 %\": 8.017272416570346, \"Bottom 20 %\": 8.529922699886509, \"Top 20 % Deviation\": -0.962064989391294, \"Bottom 20 % Deviation\": -0.44941470607512785}, {\"date\": \"2020-11-09T00:00:00+00:00\", \"Top 20 %\": 8.203139985364839, \"Bottom 20 %\": 8.464835638058815, \"Top 20 % Deviation\": -0.7761974205968007, \"Bottom 20 % Deviation\": -0.5145017679028231}, {\"date\": \"2020-11-10T00:00:00+00:00\", \"Top 20 %\": 8.614574397834609, \"Bottom 20 %\": 8.565165004091174, \"Top 20 % Deviation\": -0.36476300812703144, \"Bottom 20 % Deviation\": -0.41417240187046633}, {\"date\": \"2020-11-11T00:00:00+00:00\", \"Top 20 %\": 8.217625169591003, \"Bottom 20 %\": 7.136087817149326, \"Top 20 % Deviation\": -0.7617122363706388, \"Bottom 20 % Deviation\": -1.8432495888123135}, {\"date\": \"2020-11-12T00:00:00+00:00\", \"Top 20 %\": 8.222737936985116, \"Bottom 20 %\": 6.9541627937550485, \"Top 20 % Deviation\": -0.7565994689765247, \"Bottom 20 % Deviation\": -2.02517461220659}, {\"date\": \"2020-11-13T00:00:00+00:00\", \"Top 20 %\": 8.306316061645113, \"Bottom 20 %\": 7.202822366519288, \"Top 20 % Deviation\": -0.6730213443165279, \"Bottom 20 % Deviation\": -1.7765150394423492}, {\"date\": \"2020-11-14T00:00:00+00:00\", \"Top 20 %\": 8.139561235763527, \"Bottom 20 %\": 7.319673364153036, \"Top 20 % Deviation\": -0.839776170198113, \"Bottom 20 % Deviation\": -1.6596640418086026}, {\"date\": \"2020-11-15T00:00:00+00:00\", \"Top 20 %\": 7.826235914650239, \"Bottom 20 %\": 7.1690410656946515, \"Top 20 % Deviation\": -1.153101491311401, \"Bottom 20 % Deviation\": -1.8102963402669876}, {\"date\": \"2020-11-16T00:00:00+00:00\", \"Top 20 %\": 7.736389148840812, \"Bottom 20 %\": 7.073145522776912, \"Top 20 % Deviation\": -1.2429482571208292, \"Bottom 20 % Deviation\": -1.9061918831847273}, {\"date\": \"2020-11-17T00:00:00+00:00\", \"Top 20 %\": 7.817359642217246, \"Bottom 20 %\": 6.9849995046287585, \"Top 20 % Deviation\": -1.1619777637443942, \"Bottom 20 % Deviation\": -1.9943379013328801}, {\"date\": \"2020-11-18T00:00:00+00:00\", \"Top 20 %\": 7.935432345337446, \"Bottom 20 %\": 6.837981815289432, \"Top 20 % Deviation\": -1.0439050606241946, \"Bottom 20 % Deviation\": -2.141355590672207}, {\"date\": \"2020-11-19T00:00:00+00:00\", \"Top 20 %\": 7.837835564169777, \"Bottom 20 %\": 6.588160277136167, \"Top 20 % Deviation\": -1.1415018417918643, \"Bottom 20 % Deviation\": -2.391177128825471}, {\"date\": \"2020-11-20T00:00:00+00:00\", \"Top 20 %\": 7.7611343922769835, \"Bottom 20 %\": 6.0270527355689065, \"Top 20 % Deviation\": -1.2182030136846564, \"Bottom 20 % Deviation\": -2.952284670392731}, {\"date\": \"2020-11-21T00:00:00+00:00\", \"Top 20 %\": 7.622773276939999, \"Bottom 20 %\": 5.764847635971972, \"Top 20 % Deviation\": -1.3565641290216406, \"Bottom 20 % Deviation\": -3.214489769989666}, {\"date\": \"2020-11-22T00:00:00+00:00\", \"Top 20 %\": 7.325044900715031, \"Bottom 20 %\": 5.437510728296383, \"Top 20 % Deviation\": -1.6542925052466084, \"Bottom 20 % Deviation\": -3.5418266776652545}, {\"date\": \"2020-11-23T00:00:00+00:00\", \"Top 20 %\": 7.283555335953421, \"Bottom 20 %\": 5.487852215370015, \"Top 20 % Deviation\": -1.695782070008218, \"Bottom 20 % Deviation\": -3.4914851905916215}, {\"date\": \"2020-11-24T00:00:00+00:00\", \"Top 20 %\": 7.358701216638414, \"Bottom 20 %\": 5.145752510233519, \"Top 20 % Deviation\": -1.6206361893232262, \"Bottom 20 % Deviation\": -3.833584895728117}, {\"date\": \"2020-11-25T00:00:00+00:00\", \"Top 20 %\": 7.431164609838769, \"Bottom 20 %\": 5.075438879193344, \"Top 20 % Deviation\": -1.5481727961228722, \"Bottom 20 % Deviation\": -3.9038985267682933}, {\"date\": \"2020-11-26T00:00:00+00:00\", \"Top 20 %\": 7.428291503382603, \"Bottom 20 %\": 5.094256954322687, \"Top 20 % Deviation\": -1.5510459025790369, \"Bottom 20 % Deviation\": -3.8850804516389488}, {\"date\": \"2020-11-27T00:00:00+00:00\", \"Top 20 %\": 7.282554517158137, \"Bottom 20 %\": 5.241161234717097, \"Top 20 % Deviation\": -1.696782888803503, \"Bottom 20 % Deviation\": -3.7381761712445396}, {\"date\": \"2020-11-28T00:00:00+00:00\", \"Top 20 %\": 7.222881573681309, \"Bottom 20 %\": 5.380071598637642, \"Top 20 % Deviation\": -1.7564558322803314, \"Bottom 20 % Deviation\": -3.599265807323995}, {\"date\": \"2020-11-29T00:00:00+00:00\", \"Top 20 %\": 6.937846432990011, \"Bottom 20 %\": 5.222371082435496, \"Top 20 % Deviation\": -2.0414909729716286, \"Bottom 20 % Deviation\": -3.7569663235261417}, {\"date\": \"2020-11-30T00:00:00+00:00\", \"Top 20 %\": 6.850665728709695, \"Bottom 20 %\": 5.569010924236968, \"Top 20 % Deviation\": -2.128671677251945, \"Bottom 20 % Deviation\": -3.410326481724669}, {\"date\": \"2020-12-01T00:00:00+00:00\", \"Top 20 %\": 6.94975981441285, \"Bottom 20 %\": 5.781935115127229, \"Top 20 % Deviation\": -2.0295775915487884, \"Bottom 20 % Deviation\": -3.1974022908344084}, {\"date\": \"2020-12-02T00:00:00+00:00\", \"Top 20 %\": 7.228026301903171, \"Bottom 20 %\": 5.955641880494921, \"Top 20 % Deviation\": -1.7513111040584683, \"Bottom 20 % Deviation\": -3.023695525466716}, {\"date\": \"2020-12-03T00:00:00+00:00\", \"Top 20 %\": 7.192970322605146, \"Bottom 20 %\": 5.8947282729933965, \"Top 20 % Deviation\": -1.786367083356493, \"Bottom 20 % Deviation\": -3.084609132968241}, {\"date\": \"2020-12-04T00:00:00+00:00\", \"Top 20 %\": 7.241191430993597, \"Bottom 20 %\": 5.946400513155953, \"Top 20 % Deviation\": -1.7381459749680417, \"Bottom 20 % Deviation\": -3.032936892805684}, {\"date\": \"2020-12-05T00:00:00+00:00\", \"Top 20 %\": 7.306638564365796, \"Bottom 20 %\": 5.8787379193746805, \"Top 20 % Deviation\": -1.672698841595841, \"Bottom 20 % Deviation\": -3.1005994865869573}, {\"date\": \"2020-12-06T00:00:00+00:00\", \"Top 20 %\": 7.028746795465947, \"Bottom 20 %\": 5.811583839772878, \"Top 20 % Deviation\": -1.9505906104956903, \"Bottom 20 % Deviation\": -3.16775356618876}, {\"date\": \"2020-12-07T00:00:00+00:00\", \"Top 20 %\": 7.164395967222397, \"Bottom 20 %\": 5.770914947914335, \"Top 20 % Deviation\": -1.8149414387392422, \"Bottom 20 % Deviation\": -3.208422458047302}, {\"date\": \"2020-12-08T00:00:00+00:00\", \"Top 20 %\": 7.2100610553158715, \"Bottom 20 %\": 5.984611219160419, \"Top 20 % Deviation\": -1.7692763506457674, \"Bottom 20 % Deviation\": -2.994726186801218}, {\"date\": \"2020-12-09T00:00:00+00:00\", \"Top 20 %\": 7.5276485235691455, \"Bottom 20 %\": 6.374775306588705, \"Top 20 % Deviation\": -1.4516888823924947, \"Bottom 20 % Deviation\": -2.604562099372931}, {\"date\": \"2020-12-10T00:00:00+00:00\", \"Top 20 %\": 7.5724193566586635, \"Bottom 20 %\": 6.48694786607598, \"Top 20 % Deviation\": -1.4069180493029765, \"Bottom 20 % Deviation\": -2.492389539885656}, {\"date\": \"2020-12-11T00:00:00+00:00\", \"Top 20 %\": 7.643675222549904, \"Bottom 20 %\": 6.604455072369196, \"Top 20 % Deviation\": -1.335662183411736, \"Bottom 20 % Deviation\": -2.3748823335924394}, {\"date\": \"2020-12-12T00:00:00+00:00\", \"Top 20 %\": 7.5018725517742855, \"Bottom 20 %\": 6.601465953787108, \"Top 20 % Deviation\": -1.477464854187354, \"Bottom 20 % Deviation\": -2.377871452174527}, {\"date\": \"2020-12-13T00:00:00+00:00\", \"Top 20 %\": 7.310131804025699, \"Bottom 20 %\": 6.6148087423399815, \"Top 20 % Deviation\": -1.6692056019359405, \"Bottom 20 % Deviation\": -2.364528663621654}, {\"date\": \"2020-12-14T00:00:00+00:00\", \"Top 20 %\": 7.341020636373369, \"Bottom 20 %\": 7.330914759035954, \"Top 20 % Deviation\": -1.6383167695882697, \"Bottom 20 % Deviation\": -1.648422646925681}, {\"date\": \"2020-12-15T00:00:00+00:00\", \"Top 20 %\": 7.443910246776767, \"Bottom 20 %\": 7.428868397059931, \"Top 20 % Deviation\": -1.5354271591848732, \"Bottom 20 % Deviation\": -1.5504690089017044}, {\"date\": \"2020-12-16T00:00:00+00:00\", \"Top 20 %\": 7.678697455141713, \"Bottom 20 %\": 7.292511585125633, \"Top 20 % Deviation\": -1.300639950819927, \"Bottom 20 % Deviation\": -1.686825820836003}, {\"date\": \"2020-12-17T00:00:00+00:00\", \"Top 20 %\": 7.747829936177544, \"Bottom 20 %\": 7.3201583487059, \"Top 20 % Deviation\": -1.231507469784095, \"Bottom 20 % Deviation\": -1.6591790572557354}, {\"date\": \"2020-12-18T00:00:00+00:00\", \"Top 20 %\": 7.78015187080801, \"Bottom 20 %\": 7.2665418173366305, \"Top 20 % Deviation\": -1.1991855351536294, \"Bottom 20 % Deviation\": -1.7127955886250046}, {\"date\": \"2020-12-19T00:00:00+00:00\", \"Top 20 %\": 7.636982229446337, \"Bottom 20 %\": 7.105943757750069, \"Top 20 % Deviation\": -1.3423551765153001, \"Bottom 20 % Deviation\": -1.8733936482115652}, {\"date\": \"2020-12-20T00:00:00+00:00\", \"Top 20 %\": 7.448095839317638, \"Bottom 20 %\": 6.813356391401816, \"Top 20 % Deviation\": -1.5312415666439996, \"Bottom 20 % Deviation\": -2.1659810145598195}, {\"date\": \"2020-12-21T00:00:00+00:00\", \"Top 20 %\": 7.317693448142634, \"Bottom 20 %\": 6.877942894872656, \"Top 20 % Deviation\": -1.6616439578190025, \"Bottom 20 % Deviation\": -2.1013945110889782}, {\"date\": \"2020-12-22T00:00:00+00:00\", \"Top 20 %\": 7.453742121563598, \"Bottom 20 %\": 6.990589844244328, \"Top 20 % Deviation\": -1.525595284398039, \"Bottom 20 % Deviation\": -1.988747561717306}, {\"date\": \"2020-12-23T00:00:00+00:00\", \"Top 20 %\": 7.629013411923649, \"Bottom 20 %\": 7.15839567484552, \"Top 20 % Deviation\": -1.3503239940379907, \"Bottom 20 % Deviation\": -1.820941731116113}, {\"date\": \"2020-12-24T00:00:00+00:00\", \"Top 20 %\": 7.558877294372538, \"Bottom 20 %\": 6.382109173750248, \"Top 20 % Deviation\": -1.4204601115891018, \"Bottom 20 % Deviation\": -2.5972282322113864}, {\"date\": \"2020-12-25T00:00:00+00:00\", \"Top 20 %\": 7.59354676471119, \"Bottom 20 %\": 6.836482147921546, \"Top 20 % Deviation\": -1.3857906412504488, \"Bottom 20 % Deviation\": -2.1428552580400875}, {\"date\": \"2020-12-26T00:00:00+00:00\", \"Top 20 %\": 7.453176102933583, \"Bottom 20 %\": 7.165240223426798, \"Top 20 % Deviation\": -1.5261613030280574, \"Bottom 20 % Deviation\": -1.8140971825348362}, {\"date\": \"2020-12-27T00:00:00+00:00\", \"Top 20 %\": 7.3143753982235795, \"Bottom 20 %\": 7.172109829367268, \"Top 20 % Deviation\": -1.6649620077380605, \"Bottom 20 % Deviation\": -1.8072275765943675}, {\"date\": \"2020-12-28T00:00:00+00:00\", \"Top 20 %\": 7.316651038029387, \"Bottom 20 %\": 6.924366466624119, \"Top 20 % Deviation\": -1.662686367932253, \"Bottom 20 % Deviation\": -2.0549709393375175}, {\"date\": \"2020-12-29T00:00:00+00:00\", \"Top 20 %\": 7.395024624242383, \"Bottom 20 %\": 6.892135615024887, \"Top 20 % Deviation\": -1.5843127817192577, \"Bottom 20 % Deviation\": -2.0872017909367493}, {\"date\": \"2020-12-30T00:00:00+00:00\", \"Top 20 %\": 7.50340238416041, \"Bottom 20 %\": 6.899780650159523, \"Top 20 % Deviation\": -1.475935021801232, \"Bottom 20 % Deviation\": -2.079556755802112}, {\"date\": \"2020-12-31T00:00:00+00:00\", \"Top 20 %\": 7.5541295770177666, \"Bottom 20 %\": 6.572949484912503, \"Top 20 % Deviation\": -1.425207828943875, \"Bottom 20 % Deviation\": -2.406387921049132}]}}, {\"mode\": \"vega-lite\"});\n",
              "</script>"
            ]
          },
          "metadata": {
            "tags": []
          },
          "execution_count": 30
        },
        {
          "output_type": "stream",
          "text": [
            "time: 140 ms (started: 2021-05-03 22:20:22 +00:00)\n"
          ],
          "name": "stdout"
        }
      ]
    },
    {
      "cell_type": "code",
      "metadata": {
        "colab": {
          "base_uri": "https://localhost:8080/"
        },
        "id": "owhSJQqe7rVM",
        "outputId": "8fb9a8b0-7e2b-4afa-c46d-46629ffd05de"
      },
      "source": [
        "#Conversion of datetime format\n",
        "df['date'] = pd.to_datetime(df['date'],utc= True)\n",
        "#df['date'] = [datetime.datetime.date(d) for d in df['date']] "
      ],
      "execution_count": 31,
      "outputs": [
        {
          "output_type": "stream",
          "text": [
            "time: 3.85 ms (started: 2021-05-03 22:20:22 +00:00)\n"
          ],
          "name": "stdout"
        }
      ]
    },
    {
      "cell_type": "markdown",
      "metadata": {
        "id": "yCVL0_NiBLU0"
      },
      "source": [
        "#Filtering based on important dates\n",
        "\n",
        "**March 17, 2020:**\n",
        "Governor Pritzker announced statewide school closures beginning March 17 until March 30.\n",
        "\n",
        "\n",
        "\n",
        "\n",
        "\n",
        "\n",
        "\n",
        "\n",
        "\n",
        "\n"
      ]
    },
    {
      "cell_type": "code",
      "metadata": {
        "colab": {
          "base_uri": "https://localhost:8080/",
          "height": 387
        },
        "id": "gelkUE5NBJps",
        "outputId": "9c3c0f30-4301-4e3e-9921-9f008744671c"
      },
      "source": [
        "start_date = '2020-3-12'\n",
        "end_date = '2020-4-3'\n",
        "df1 = apply_date_filter(df,start_date,end_date)\n",
        "chart = create_chart(df1)\n",
        "chart"
      ],
      "execution_count": 32,
      "outputs": [
        {
          "output_type": "execute_result",
          "data": {
            "text/plain": [
              "alt.LayerChart(...)"
            ],
            "text/html": [
              "\n",
              "<div id=\"altair-viz-854245824aa94857a899f355994256af\"></div>\n",
              "<script type=\"text/javascript\">\n",
              "  (function(spec, embedOpt){\n",
              "    let outputDiv = document.currentScript.previousElementSibling;\n",
              "    if (outputDiv.id !== \"altair-viz-854245824aa94857a899f355994256af\") {\n",
              "      outputDiv = document.getElementById(\"altair-viz-854245824aa94857a899f355994256af\");\n",
              "    }\n",
              "    const paths = {\n",
              "      \"vega\": \"https://cdn.jsdelivr.net/npm//vega@5?noext\",\n",
              "      \"vega-lib\": \"https://cdn.jsdelivr.net/npm//vega-lib?noext\",\n",
              "      \"vega-lite\": \"https://cdn.jsdelivr.net/npm//vega-lite@4.8.1?noext\",\n",
              "      \"vega-embed\": \"https://cdn.jsdelivr.net/npm//vega-embed@6?noext\",\n",
              "    };\n",
              "\n",
              "    function loadScript(lib) {\n",
              "      return new Promise(function(resolve, reject) {\n",
              "        var s = document.createElement('script');\n",
              "        s.src = paths[lib];\n",
              "        s.async = true;\n",
              "        s.onload = () => resolve(paths[lib]);\n",
              "        s.onerror = () => reject(`Error loading script: ${paths[lib]}`);\n",
              "        document.getElementsByTagName(\"head\")[0].appendChild(s);\n",
              "      });\n",
              "    }\n",
              "\n",
              "    function showError(err) {\n",
              "      outputDiv.innerHTML = `<div class=\"error\" style=\"color:red;\">${err}</div>`;\n",
              "      throw err;\n",
              "    }\n",
              "\n",
              "    function displayChart(vegaEmbed) {\n",
              "      vegaEmbed(outputDiv, spec, embedOpt)\n",
              "        .catch(err => showError(`Javascript Error: ${err.message}<br>This usually means there's a typo in your chart specification. See the javascript console for the full traceback.`));\n",
              "    }\n",
              "\n",
              "    if(typeof define === \"function\" && define.amd) {\n",
              "      requirejs.config({paths});\n",
              "      require([\"vega-embed\"], displayChart, err => showError(`Error loading script: ${err.message}`));\n",
              "    } else if (typeof vegaEmbed === \"function\") {\n",
              "      displayChart(vegaEmbed);\n",
              "    } else {\n",
              "      loadScript(\"vega\")\n",
              "        .then(() => loadScript(\"vega-lite\"))\n",
              "        .then(() => loadScript(\"vega-embed\"))\n",
              "        .catch(showError)\n",
              "        .then(() => displayChart(vegaEmbed));\n",
              "    }\n",
              "  })({\"config\": {\"view\": {\"continuousHeight\": 300, \"continuousWidth\": 400}, \"range\": {\"category\": {\"scheme\": [\"#FF4500\", \"#a0aab4\", \"#4E79A7\"]}}}, \"layer\": [{\"data\": {\"name\": \"data-1e4d2b6c4ffe64f272dd5819da56ba3f\"}, \"mark\": \"line\", \"encoding\": {\"color\": {\"type\": \"nominal\", \"field\": \"Poverty %\"}, \"x\": {\"type\": \"temporal\", \"field\": \"date\", \"title\": \"Date\"}, \"y\": {\"type\": \"quantitative\", \"field\": \"part_time_work\", \"title\": \"Part Time %\"}}, \"selection\": {\"selector001\": {\"type\": \"interval\", \"bind\": \"scales\", \"encodings\": [\"x\", \"y\"]}}, \"transform\": [{\"fold\": [\"Bottom 20 % Deviation\", \"Top 20 % Deviation\"], \"as\": [\"Poverty %\", \"part_time_work\"]}], \"width\": 1000}, {\"data\": {\"name\": \"data-7f3a6b86ed460c4e648f2393735a11f6\"}, \"mark\": {\"type\": \"rule\", \"color\": \"#757575\", \"size\": 2, \"strokeDash\": [5, 3]}, \"encoding\": {\"size\": {\"value\": 2}, \"y\": {\"type\": \"quantitative\", \"field\": \"Mean 2019\"}}}, {\"data\": {\"name\": \"data-d764767e7dd3b10b2c76c1355ce10ef3\"}, \"mark\": {\"type\": \"text\", \"angle\": 0, \"text\": \"Mean 2019\"}, \"encoding\": {\"opacity\": {\"value\": 0.4}, \"y\": {\"type\": \"quantitative\", \"field\": \"y\"}}}], \"$schema\": \"https://vega.github.io/schema/vega-lite/v4.8.1.json\", \"datasets\": {\"data-1e4d2b6c4ffe64f272dd5819da56ba3f\": [{\"date\": \"2020-03-16T00:00:00+00:00\", \"Top 20 %\": 7.511303667690682, \"Bottom 20 %\": 7.059653638601007, \"Top 20 % Deviation\": -1.4680337382709565, \"Bottom 20 % Deviation\": -1.919683767360632}, {\"date\": \"2020-03-26T00:00:00+00:00\", \"Top 20 %\": 4.946960273885172, \"Bottom 20 %\": 6.223088029438143, \"Top 20 % Deviation\": -4.0323771320764665, \"Bottom 20 % Deviation\": -2.7562493765234954}, {\"date\": \"2020-03-25T00:00:00+00:00\", \"Top 20 %\": 5.29871422477367, \"Bottom 20 %\": 7.083800743967559, \"Top 20 % Deviation\": -3.6806231811879684, \"Bottom 20 % Deviation\": -1.8955366619940799}, {\"date\": \"2020-03-20T00:00:00+00:00\", \"Top 20 %\": 4.777632867769643, \"Bottom 20 %\": 4.59160631035631, \"Top 20 % Deviation\": -4.201704538191995, \"Bottom 20 % Deviation\": -4.387731095605329}, {\"date\": \"2020-03-24T00:00:00+00:00\", \"Top 20 %\": 4.404019871442233, \"Bottom 20 %\": 7.667554686416578, \"Top 20 % Deviation\": -4.575317534519406, \"Bottom 20 % Deviation\": -1.3117827195450609}, {\"date\": \"2020-03-13T00:00:00+00:00\", \"Top 20 %\": 11.417447934689404, \"Bottom 20 %\": 7.788577858796536, \"Top 20 % Deviation\": 2.4381105287277656, \"Bottom 20 % Deviation\": -1.1907595471651025}, {\"date\": \"2020-03-27T00:00:00+00:00\", \"Top 20 %\": 4.544407804489732, \"Bottom 20 %\": 5.487734659561285, \"Top 20 % Deviation\": -4.434929601471906, \"Bottom 20 % Deviation\": -3.4916027464003534}, {\"date\": \"2020-03-22T00:00:00+00:00\", \"Top 20 %\": 3.8689273089531055, \"Bottom 20 %\": 7.671979950205756, \"Top 20 % Deviation\": -5.110410097008533, \"Bottom 20 % Deviation\": -1.3073574557558825}, {\"date\": \"2020-03-28T00:00:00+00:00\", \"Top 20 %\": 3.5550752814414803, \"Bottom 20 %\": 4.221061232090644, \"Top 20 % Deviation\": -5.424262124520158, \"Bottom 20 % Deviation\": -4.758276173870994}, {\"date\": \"2020-03-19T00:00:00+00:00\", \"Top 20 %\": 5.804877004231561, \"Bottom 20 %\": 5.120417525308829, \"Top 20 % Deviation\": -3.1744604017300775, \"Bottom 20 % Deviation\": -3.8589198806528096}, {\"date\": \"2020-04-01T00:00:00+00:00\", \"Top 20 %\": 4.12154539451226, \"Bottom 20 %\": 3.461732344431174, \"Top 20 % Deviation\": -4.857792011449378, \"Bottom 20 % Deviation\": -5.517605061530465}, {\"date\": \"2020-04-03T00:00:00+00:00\", \"Top 20 %\": 4.3160944340872325, \"Bottom 20 %\": 4.281133953084709, \"Top 20 % Deviation\": -4.663242971874406, \"Bottom 20 % Deviation\": -4.69820345287693}, {\"date\": \"2020-03-29T00:00:00+00:00\", \"Top 20 %\": 2.8282607080637483, \"Bottom 20 %\": 4.540918871992364, \"Top 20 % Deviation\": -6.15107669789789, \"Bottom 20 % Deviation\": -4.4384185339692745}, {\"date\": \"2020-03-15T00:00:00+00:00\", \"Top 20 %\": 4.504561435031178, \"Bottom 20 %\": 6.029183087180175, \"Top 20 % Deviation\": -4.474775970930461, \"Bottom 20 % Deviation\": -2.950154318781464}, {\"date\": \"2020-03-17T00:00:00+00:00\", \"Top 20 %\": 6.772493802766635, \"Bottom 20 %\": 5.050168525778719, \"Top 20 % Deviation\": -2.2068436031950034, \"Bottom 20 % Deviation\": -3.929168880182919}, {\"date\": \"2020-04-02T00:00:00+00:00\", \"Top 20 %\": 4.367157047192173, \"Bottom 20 %\": 4.894778128473781, \"Top 20 % Deviation\": -4.612180358769466, \"Bottom 20 % Deviation\": -4.084559277487858}, {\"date\": \"2020-03-18T00:00:00+00:00\", \"Top 20 %\": 5.367379449898375, \"Bottom 20 %\": 5.333713210047551, \"Top 20 % Deviation\": -3.6119579560632635, \"Bottom 20 % Deviation\": -3.6456241959140874}, {\"date\": \"2020-03-31T00:00:00+00:00\", \"Top 20 %\": 4.792488732760505, \"Bottom 20 %\": 3.7093473786977165, \"Top 20 % Deviation\": -4.186848673201133, \"Bottom 20 % Deviation\": -5.269990027263923}, {\"date\": \"2020-03-14T00:00:00+00:00\", \"Top 20 %\": 4.8067555426316755, \"Bottom 20 %\": 4.208549169849479, \"Top 20 % Deviation\": -4.172581863329963, \"Bottom 20 % Deviation\": -4.77078823611216}, {\"date\": \"2020-03-23T00:00:00+00:00\", \"Top 20 %\": 4.832991640597703, \"Bottom 20 %\": 7.0200109124325145, \"Top 20 % Deviation\": -4.146345765363936, \"Bottom 20 % Deviation\": -1.9593264935291241}, {\"date\": \"2020-03-30T00:00:00+00:00\", \"Top 20 %\": 4.979847361545386, \"Bottom 20 %\": 6.460037434606136, \"Top 20 % Deviation\": -3.9994900444162527, \"Bottom 20 % Deviation\": -2.519299971355503}, {\"date\": \"2020-03-21T00:00:00+00:00\", \"Top 20 %\": 3.8432388349225444, \"Bottom 20 %\": 3.0131195943667537, \"Top 20 % Deviation\": -5.136098571039094, \"Bottom 20 % Deviation\": -5.966217811594885}], \"data-7f3a6b86ed460c4e648f2393735a11f6\": [{\"Mean 2019\": 0}], \"data-d764767e7dd3b10b2c76c1355ce10ef3\": [{\"y\": 1}]}}, {\"mode\": \"vega-lite\"});\n",
              "</script>"
            ]
          },
          "metadata": {
            "tags": []
          },
          "execution_count": 32
        },
        {
          "output_type": "stream",
          "text": [
            "time: 79.4 ms (started: 2021-05-03 22:20:22 +00:00)\n"
          ],
          "name": "stdout"
        }
      ]
    },
    {
      "cell_type": "markdown",
      "metadata": {
        "id": "eY48F9-7gp2q"
      },
      "source": [
        "\n",
        "\n",
        "**April 20, 2020:**\n",
        "Illinois state topped 3,000 new cases in a day for the first time. \n",
        "\n",
        "\n",
        "\n",
        "\n",
        "\n",
        "\n",
        "\n"
      ]
    },
    {
      "cell_type": "code",
      "metadata": {
        "colab": {
          "base_uri": "https://localhost:8080/",
          "height": 387
        },
        "id": "_DhDPv1GfRhR",
        "outputId": "f322e49b-ec45-40fb-8b6a-c53b656a872d"
      },
      "source": [
        "start_date = '2020-4-14'\n",
        "end_date = '2020-5-1'\n",
        "df2 = apply_date_filter(df,start_date,end_date)\n",
        "chart = create_chart(df2)\n",
        "chart\n",
        "#df2"
      ],
      "execution_count": 33,
      "outputs": [
        {
          "output_type": "execute_result",
          "data": {
            "text/plain": [
              "alt.LayerChart(...)"
            ],
            "text/html": [
              "\n",
              "<div id=\"altair-viz-83f3051794b743e78032d8b33b47c19a\"></div>\n",
              "<script type=\"text/javascript\">\n",
              "  (function(spec, embedOpt){\n",
              "    let outputDiv = document.currentScript.previousElementSibling;\n",
              "    if (outputDiv.id !== \"altair-viz-83f3051794b743e78032d8b33b47c19a\") {\n",
              "      outputDiv = document.getElementById(\"altair-viz-83f3051794b743e78032d8b33b47c19a\");\n",
              "    }\n",
              "    const paths = {\n",
              "      \"vega\": \"https://cdn.jsdelivr.net/npm//vega@5?noext\",\n",
              "      \"vega-lib\": \"https://cdn.jsdelivr.net/npm//vega-lib?noext\",\n",
              "      \"vega-lite\": \"https://cdn.jsdelivr.net/npm//vega-lite@4.8.1?noext\",\n",
              "      \"vega-embed\": \"https://cdn.jsdelivr.net/npm//vega-embed@6?noext\",\n",
              "    };\n",
              "\n",
              "    function loadScript(lib) {\n",
              "      return new Promise(function(resolve, reject) {\n",
              "        var s = document.createElement('script');\n",
              "        s.src = paths[lib];\n",
              "        s.async = true;\n",
              "        s.onload = () => resolve(paths[lib]);\n",
              "        s.onerror = () => reject(`Error loading script: ${paths[lib]}`);\n",
              "        document.getElementsByTagName(\"head\")[0].appendChild(s);\n",
              "      });\n",
              "    }\n",
              "\n",
              "    function showError(err) {\n",
              "      outputDiv.innerHTML = `<div class=\"error\" style=\"color:red;\">${err}</div>`;\n",
              "      throw err;\n",
              "    }\n",
              "\n",
              "    function displayChart(vegaEmbed) {\n",
              "      vegaEmbed(outputDiv, spec, embedOpt)\n",
              "        .catch(err => showError(`Javascript Error: ${err.message}<br>This usually means there's a typo in your chart specification. See the javascript console for the full traceback.`));\n",
              "    }\n",
              "\n",
              "    if(typeof define === \"function\" && define.amd) {\n",
              "      requirejs.config({paths});\n",
              "      require([\"vega-embed\"], displayChart, err => showError(`Error loading script: ${err.message}`));\n",
              "    } else if (typeof vegaEmbed === \"function\") {\n",
              "      displayChart(vegaEmbed);\n",
              "    } else {\n",
              "      loadScript(\"vega\")\n",
              "        .then(() => loadScript(\"vega-lite\"))\n",
              "        .then(() => loadScript(\"vega-embed\"))\n",
              "        .catch(showError)\n",
              "        .then(() => displayChart(vegaEmbed));\n",
              "    }\n",
              "  })({\"config\": {\"view\": {\"continuousHeight\": 300, \"continuousWidth\": 400}, \"range\": {\"category\": {\"scheme\": [\"#FF4500\", \"#a0aab4\", \"#4E79A7\"]}}}, \"layer\": [{\"data\": {\"name\": \"data-831798ea9d3753eec46f448f6a960308\"}, \"mark\": \"line\", \"encoding\": {\"color\": {\"type\": \"nominal\", \"field\": \"Poverty %\"}, \"x\": {\"type\": \"temporal\", \"field\": \"date\", \"title\": \"Date\"}, \"y\": {\"type\": \"quantitative\", \"field\": \"part_time_work\", \"title\": \"Part Time %\"}}, \"selection\": {\"selector002\": {\"type\": \"interval\", \"bind\": \"scales\", \"encodings\": [\"x\", \"y\"]}}, \"transform\": [{\"fold\": [\"Bottom 20 % Deviation\", \"Top 20 % Deviation\"], \"as\": [\"Poverty %\", \"part_time_work\"]}], \"width\": 1000}, {\"data\": {\"name\": \"data-7f3a6b86ed460c4e648f2393735a11f6\"}, \"mark\": {\"type\": \"rule\", \"color\": \"#757575\", \"size\": 2, \"strokeDash\": [5, 3]}, \"encoding\": {\"size\": {\"value\": 2}, \"y\": {\"type\": \"quantitative\", \"field\": \"Mean 2019\"}}}, {\"data\": {\"name\": \"data-d764767e7dd3b10b2c76c1355ce10ef3\"}, \"mark\": {\"type\": \"text\", \"angle\": 0, \"text\": \"Mean 2019\"}, \"encoding\": {\"opacity\": {\"value\": 0.4}, \"y\": {\"type\": \"quantitative\", \"field\": \"y\"}}}], \"$schema\": \"https://vega.github.io/schema/vega-lite/v4.8.1.json\", \"datasets\": {\"data-831798ea9d3753eec46f448f6a960308\": [{\"date\": \"2020-04-20T00:00:00+00:00\", \"Top 20 %\": 3.7310254702141443, \"Bottom 20 %\": 4.619773002247999, \"Top 20 % Deviation\": -5.248311935747495, \"Bottom 20 % Deviation\": -4.35956440371364}, {\"date\": \"2020-04-22T00:00:00+00:00\", \"Top 20 %\": 4.3538929133542466, \"Bottom 20 %\": 5.738591748568059, \"Top 20 % Deviation\": -4.625444492607392, \"Bottom 20 % Deviation\": -3.24074565739358}, {\"date\": \"2020-04-19T00:00:00+00:00\", \"Top 20 %\": 3.4030266463634176, \"Bottom 20 %\": 5.479172461098914, \"Top 20 % Deviation\": -5.576310759598221, \"Bottom 20 % Deviation\": -3.500164944862725}, {\"date\": \"2020-04-25T00:00:00+00:00\", \"Top 20 %\": 3.691215938388772, \"Bottom 20 %\": 4.2275600951843195, \"Top 20 % Deviation\": -5.288121467572866, \"Bottom 20 % Deviation\": -4.751777310777319}, {\"date\": \"2020-04-23T00:00:00+00:00\", \"Top 20 %\": 4.837683328854997, \"Bottom 20 %\": 6.071949490958971, \"Top 20 % Deviation\": -4.141654077106642, \"Bottom 20 % Deviation\": -2.9073879150026674}, {\"date\": \"2020-04-21T00:00:00+00:00\", \"Top 20 %\": 4.616863092432139, \"Bottom 20 %\": 6.3630746766246435, \"Top 20 % Deviation\": -4.3624743135295, \"Bottom 20 % Deviation\": -2.616262729336995}, {\"date\": \"2020-04-30T00:00:00+00:00\", \"Top 20 %\": 4.2485875309469225, \"Bottom 20 %\": 4.199522767454224, \"Top 20 % Deviation\": -4.730749875014716, \"Bottom 20 % Deviation\": -4.779814638507415}, {\"date\": \"2020-04-17T00:00:00+00:00\", \"Top 20 %\": 4.239400804418479, \"Bottom 20 %\": 5.364280420187294, \"Top 20 % Deviation\": -4.739936601543159, \"Bottom 20 % Deviation\": -3.615056985774345}, {\"date\": \"2020-04-26T00:00:00+00:00\", \"Top 20 %\": 3.4224404179976524, \"Bottom 20 %\": 3.38734027287705, \"Top 20 % Deviation\": -5.556896987963986, \"Bottom 20 % Deviation\": -5.591997133084589}, {\"date\": \"2020-04-27T00:00:00+00:00\", \"Top 20 %\": 4.521674895687901, \"Bottom 20 %\": 4.1598069966590545, \"Top 20 % Deviation\": -4.457662510273738, \"Bottom 20 % Deviation\": -4.819530409302584}, {\"date\": \"2020-04-15T00:00:00+00:00\", \"Top 20 %\": 4.7162436195613, \"Bottom 20 %\": 8.868436449988968, \"Top 20 % Deviation\": -4.263093786400339, \"Bottom 20 % Deviation\": -0.1109009559726708}, {\"date\": \"2020-04-18T00:00:00+00:00\", \"Top 20 %\": 3.669021984527692, \"Bottom 20 %\": 3.94609055097843, \"Top 20 % Deviation\": -5.3103154214339465, \"Bottom 20 % Deviation\": -5.033246854983209}, {\"date\": \"2020-04-24T00:00:00+00:00\", \"Top 20 %\": 4.737696427142934, \"Bottom 20 %\": 4.9542124542124535, \"Top 20 % Deviation\": -4.241640978818705, \"Bottom 20 % Deviation\": -4.025124951749185}, {\"date\": \"2020-04-29T00:00:00+00:00\", \"Top 20 %\": 4.291221867639671, \"Bottom 20 %\": 4.231955286717497, \"Top 20 % Deviation\": -4.688115538321967, \"Bottom 20 % Deviation\": -4.747382119244142}, {\"date\": \"2020-04-16T00:00:00+00:00\", \"Top 20 %\": 4.403861901489885, \"Bottom 20 %\": 4.347527536128684, \"Top 20 % Deviation\": -4.575475504471753, \"Bottom 20 % Deviation\": -4.631809869832955}, {\"date\": \"2020-04-28T00:00:00+00:00\", \"Top 20 %\": 4.969549629505855, \"Bottom 20 %\": 6.1324438503144965, \"Top 20 % Deviation\": -4.009787776455783, \"Bottom 20 % Deviation\": -2.846893555647142}, {\"date\": \"2020-05-01T00:00:00+00:00\", \"Top 20 %\": 5.769364808429576, \"Bottom 20 %\": 6.391829518885828, \"Top 20 % Deviation\": -3.2099725975320625, \"Bottom 20 % Deviation\": -2.5875078870758106}], \"data-7f3a6b86ed460c4e648f2393735a11f6\": [{\"Mean 2019\": 0}], \"data-d764767e7dd3b10b2c76c1355ce10ef3\": [{\"y\": 1}]}}, {\"mode\": \"vega-lite\"});\n",
              "</script>"
            ]
          },
          "metadata": {
            "tags": []
          },
          "execution_count": 33
        },
        {
          "output_type": "stream",
          "text": [
            "time: 71.7 ms (started: 2021-05-03 22:20:22 +00:00)\n"
          ],
          "name": "stdout"
        }
      ]
    },
    {
      "cell_type": "markdown",
      "metadata": {
        "id": "mxC6dH7YiWxd"
      },
      "source": [
        "\n",
        "**June 3, 2020:** \n",
        "Chicago began gradually allowing businesses to open doors for outside dining and other services, though some shops remained closed following lootings in the aftermath of George Floyd's death, during phase three of its reopening.\n",
        "\n",
        "\n"
      ]
    },
    {
      "cell_type": "code",
      "metadata": {
        "colab": {
          "base_uri": "https://localhost:8080/",
          "height": 387
        },
        "id": "KTaOPmN5fRmL",
        "outputId": "d2693d1b-8936-401c-837e-ad98e2e4dc5a"
      },
      "source": [
        "start_date = '2020-6-1'\n",
        "end_date = '2020-6-16'\n",
        "df3 = apply_date_filter(df,start_date,end_date)\n",
        "chart = create_chart(df3)\n",
        "chart"
      ],
      "execution_count": 34,
      "outputs": [
        {
          "output_type": "execute_result",
          "data": {
            "text/plain": [
              "alt.LayerChart(...)"
            ],
            "text/html": [
              "\n",
              "<div id=\"altair-viz-d3162e8d56734655a87b4d449e278bce\"></div>\n",
              "<script type=\"text/javascript\">\n",
              "  (function(spec, embedOpt){\n",
              "    let outputDiv = document.currentScript.previousElementSibling;\n",
              "    if (outputDiv.id !== \"altair-viz-d3162e8d56734655a87b4d449e278bce\") {\n",
              "      outputDiv = document.getElementById(\"altair-viz-d3162e8d56734655a87b4d449e278bce\");\n",
              "    }\n",
              "    const paths = {\n",
              "      \"vega\": \"https://cdn.jsdelivr.net/npm//vega@5?noext\",\n",
              "      \"vega-lib\": \"https://cdn.jsdelivr.net/npm//vega-lib?noext\",\n",
              "      \"vega-lite\": \"https://cdn.jsdelivr.net/npm//vega-lite@4.8.1?noext\",\n",
              "      \"vega-embed\": \"https://cdn.jsdelivr.net/npm//vega-embed@6?noext\",\n",
              "    };\n",
              "\n",
              "    function loadScript(lib) {\n",
              "      return new Promise(function(resolve, reject) {\n",
              "        var s = document.createElement('script');\n",
              "        s.src = paths[lib];\n",
              "        s.async = true;\n",
              "        s.onload = () => resolve(paths[lib]);\n",
              "        s.onerror = () => reject(`Error loading script: ${paths[lib]}`);\n",
              "        document.getElementsByTagName(\"head\")[0].appendChild(s);\n",
              "      });\n",
              "    }\n",
              "\n",
              "    function showError(err) {\n",
              "      outputDiv.innerHTML = `<div class=\"error\" style=\"color:red;\">${err}</div>`;\n",
              "      throw err;\n",
              "    }\n",
              "\n",
              "    function displayChart(vegaEmbed) {\n",
              "      vegaEmbed(outputDiv, spec, embedOpt)\n",
              "        .catch(err => showError(`Javascript Error: ${err.message}<br>This usually means there's a typo in your chart specification. See the javascript console for the full traceback.`));\n",
              "    }\n",
              "\n",
              "    if(typeof define === \"function\" && define.amd) {\n",
              "      requirejs.config({paths});\n",
              "      require([\"vega-embed\"], displayChart, err => showError(`Error loading script: ${err.message}`));\n",
              "    } else if (typeof vegaEmbed === \"function\") {\n",
              "      displayChart(vegaEmbed);\n",
              "    } else {\n",
              "      loadScript(\"vega\")\n",
              "        .then(() => loadScript(\"vega-lite\"))\n",
              "        .then(() => loadScript(\"vega-embed\"))\n",
              "        .catch(showError)\n",
              "        .then(() => displayChart(vegaEmbed));\n",
              "    }\n",
              "  })({\"config\": {\"view\": {\"continuousHeight\": 300, \"continuousWidth\": 400}, \"range\": {\"category\": {\"scheme\": [\"#FF4500\", \"#a0aab4\", \"#4E79A7\"]}}}, \"layer\": [{\"data\": {\"name\": \"data-80c50165dad22a4088ed6ff535bce6e6\"}, \"mark\": \"line\", \"encoding\": {\"color\": {\"type\": \"nominal\", \"field\": \"Poverty %\"}, \"x\": {\"type\": \"temporal\", \"field\": \"date\", \"title\": \"Date\"}, \"y\": {\"type\": \"quantitative\", \"field\": \"part_time_work\", \"title\": \"Part Time %\"}}, \"selection\": {\"selector003\": {\"type\": \"interval\", \"bind\": \"scales\", \"encodings\": [\"x\", \"y\"]}}, \"transform\": [{\"fold\": [\"Bottom 20 % Deviation\", \"Top 20 % Deviation\"], \"as\": [\"Poverty %\", \"part_time_work\"]}], \"width\": 1000}, {\"data\": {\"name\": \"data-7f3a6b86ed460c4e648f2393735a11f6\"}, \"mark\": {\"type\": \"rule\", \"color\": \"#757575\", \"size\": 2, \"strokeDash\": [5, 3]}, \"encoding\": {\"size\": {\"value\": 2}, \"y\": {\"type\": \"quantitative\", \"field\": \"Mean 2019\"}}}, {\"data\": {\"name\": \"data-d764767e7dd3b10b2c76c1355ce10ef3\"}, \"mark\": {\"type\": \"text\", \"angle\": 0, \"text\": \"Mean 2019\"}, \"encoding\": {\"opacity\": {\"value\": 0.4}, \"y\": {\"type\": \"quantitative\", \"field\": \"y\"}}}], \"$schema\": \"https://vega.github.io/schema/vega-lite/v4.8.1.json\", \"datasets\": {\"data-80c50165dad22a4088ed6ff535bce6e6\": [{\"date\": \"2020-06-08T00:00:00+00:00\", \"Top 20 %\": 6.171659939469635, \"Bottom 20 %\": 6.2283983880985705, \"Top 20 % Deviation\": -2.8076774664920032, \"Bottom 20 % Deviation\": -2.750939017863068}, {\"date\": \"2020-06-09T00:00:00+00:00\", \"Top 20 %\": 6.736283213916825, \"Bottom 20 %\": 4.133066670973317, \"Top 20 % Deviation\": -2.2430541920448137, \"Bottom 20 % Deviation\": -4.846270734988321}, {\"date\": \"2020-06-12T00:00:00+00:00\", \"Top 20 %\": 5.352069138166169, \"Bottom 20 %\": 4.396222083920374, \"Top 20 % Deviation\": -3.6272682677954693, \"Bottom 20 % Deviation\": -4.583115322041265}, {\"date\": \"2020-06-16T00:00:00+00:00\", \"Top 20 %\": 6.48932065226699, \"Bottom 20 %\": 4.5732907954541036, \"Top 20 % Deviation\": -2.4900167536946487, \"Bottom 20 % Deviation\": -4.406046610507535}, {\"date\": \"2020-06-07T00:00:00+00:00\", \"Top 20 %\": 4.371777384648515, \"Bottom 20 %\": 6.628543562459898, \"Top 20 % Deviation\": -4.607560021313124, \"Bottom 20 % Deviation\": -2.350793843501741}, {\"date\": \"2020-06-13T00:00:00+00:00\", \"Top 20 %\": 4.414249906741085, \"Bottom 20 %\": 2.943411995945919, \"Top 20 % Deviation\": -4.565087499220554, \"Bottom 20 % Deviation\": -6.03592541001572}, {\"date\": \"2020-06-11T00:00:00+00:00\", \"Top 20 %\": 6.417865833643695, \"Bottom 20 %\": 6.392046848876217, \"Top 20 % Deviation\": -2.5614715723179433, \"Bottom 20 % Deviation\": -2.5872905570854217}, {\"date\": \"2020-06-15T00:00:00+00:00\", \"Top 20 %\": 6.776652209794759, \"Bottom 20 %\": 7.67996068534591, \"Top 20 % Deviation\": -2.20268519616688, \"Bottom 20 % Deviation\": -1.2993767206157285}, {\"date\": \"2020-06-14T00:00:00+00:00\", \"Top 20 %\": 3.8874195239024103, \"Bottom 20 %\": 3.3582511054987716, \"Top 20 % Deviation\": -5.091917882059228, \"Bottom 20 % Deviation\": -5.621086300462867}, {\"date\": \"2020-06-06T00:00:00+00:00\", \"Top 20 %\": 4.991569081197285, \"Bottom 20 %\": 3.8885882635882636, \"Top 20 % Deviation\": -3.987768324764354, \"Bottom 20 % Deviation\": -5.090749142373375}, {\"date\": \"2020-06-03T00:00:00+00:00\", \"Top 20 %\": 5.688241783359977, \"Bottom 20 %\": 6.582881104004591, \"Top 20 % Deviation\": -3.291095622601661, \"Bottom 20 % Deviation\": -2.3964563019570475}, {\"date\": \"2020-06-02T00:00:00+00:00\", \"Top 20 %\": 6.181768121646299, \"Bottom 20 %\": 3.384687493721512, \"Top 20 % Deviation\": -2.7975692843153395, \"Bottom 20 % Deviation\": -5.5946499122401265}, {\"date\": \"2020-06-05T00:00:00+00:00\", \"Top 20 %\": 6.827308611139777, \"Bottom 20 %\": 7.2966727013386, \"Top 20 % Deviation\": -2.1520287948218613, \"Bottom 20 % Deviation\": -1.682664704623039}, {\"date\": \"2020-06-04T00:00:00+00:00\", \"Top 20 %\": 6.766540822719547, \"Bottom 20 %\": 6.170839463092635, \"Top 20 % Deviation\": -2.212796583242092, \"Bottom 20 % Deviation\": -2.8084979428690033}, {\"date\": \"2020-06-10T00:00:00+00:00\", \"Top 20 %\": 5.7506575036862815, \"Bottom 20 %\": 5.4342678249377965, \"Top 20 % Deviation\": -3.228679902275357, \"Bottom 20 % Deviation\": -3.545069581023842}], \"data-7f3a6b86ed460c4e648f2393735a11f6\": [{\"Mean 2019\": 0}], \"data-d764767e7dd3b10b2c76c1355ce10ef3\": [{\"y\": 1}]}}, {\"mode\": \"vega-lite\"});\n",
              "</script>"
            ]
          },
          "metadata": {
            "tags": []
          },
          "execution_count": 34
        },
        {
          "output_type": "stream",
          "text": [
            "time: 64.4 ms (started: 2021-05-03 22:20:22 +00:00)\n"
          ],
          "name": "stdout"
        }
      ]
    },
    {
      "cell_type": "markdown",
      "metadata": {
        "id": "I1uLmyxVi6Zo"
      },
      "source": [
        "**September 8, 2020:** Chicago Public Schools began its fall quarter with remote learning, with families across the city reporting a range of successes and frustrations.\n"
      ]
    },
    {
      "cell_type": "code",
      "metadata": {
        "colab": {
          "base_uri": "https://localhost:8080/",
          "height": 387
        },
        "id": "YZ29_JeZfRqz",
        "outputId": "2a55600e-c4ae-4e61-a071-15613571fc7a"
      },
      "source": [
        "start_date = '2020-09-1'\n",
        "end_date = '2020-09-14'\n",
        "df4 = apply_date_filter(df,start_date,end_date)\n",
        "chart = create_chart(df4)\n",
        "chart"
      ],
      "execution_count": 35,
      "outputs": [
        {
          "output_type": "execute_result",
          "data": {
            "text/plain": [
              "alt.LayerChart(...)"
            ],
            "text/html": [
              "\n",
              "<div id=\"altair-viz-0568cc6373c7421085be5f875d3c46a2\"></div>\n",
              "<script type=\"text/javascript\">\n",
              "  (function(spec, embedOpt){\n",
              "    let outputDiv = document.currentScript.previousElementSibling;\n",
              "    if (outputDiv.id !== \"altair-viz-0568cc6373c7421085be5f875d3c46a2\") {\n",
              "      outputDiv = document.getElementById(\"altair-viz-0568cc6373c7421085be5f875d3c46a2\");\n",
              "    }\n",
              "    const paths = {\n",
              "      \"vega\": \"https://cdn.jsdelivr.net/npm//vega@5?noext\",\n",
              "      \"vega-lib\": \"https://cdn.jsdelivr.net/npm//vega-lib?noext\",\n",
              "      \"vega-lite\": \"https://cdn.jsdelivr.net/npm//vega-lite@4.8.1?noext\",\n",
              "      \"vega-embed\": \"https://cdn.jsdelivr.net/npm//vega-embed@6?noext\",\n",
              "    };\n",
              "\n",
              "    function loadScript(lib) {\n",
              "      return new Promise(function(resolve, reject) {\n",
              "        var s = document.createElement('script');\n",
              "        s.src = paths[lib];\n",
              "        s.async = true;\n",
              "        s.onload = () => resolve(paths[lib]);\n",
              "        s.onerror = () => reject(`Error loading script: ${paths[lib]}`);\n",
              "        document.getElementsByTagName(\"head\")[0].appendChild(s);\n",
              "      });\n",
              "    }\n",
              "\n",
              "    function showError(err) {\n",
              "      outputDiv.innerHTML = `<div class=\"error\" style=\"color:red;\">${err}</div>`;\n",
              "      throw err;\n",
              "    }\n",
              "\n",
              "    function displayChart(vegaEmbed) {\n",
              "      vegaEmbed(outputDiv, spec, embedOpt)\n",
              "        .catch(err => showError(`Javascript Error: ${err.message}<br>This usually means there's a typo in your chart specification. See the javascript console for the full traceback.`));\n",
              "    }\n",
              "\n",
              "    if(typeof define === \"function\" && define.amd) {\n",
              "      requirejs.config({paths});\n",
              "      require([\"vega-embed\"], displayChart, err => showError(`Error loading script: ${err.message}`));\n",
              "    } else if (typeof vegaEmbed === \"function\") {\n",
              "      displayChart(vegaEmbed);\n",
              "    } else {\n",
              "      loadScript(\"vega\")\n",
              "        .then(() => loadScript(\"vega-lite\"))\n",
              "        .then(() => loadScript(\"vega-embed\"))\n",
              "        .catch(showError)\n",
              "        .then(() => displayChart(vegaEmbed));\n",
              "    }\n",
              "  })({\"config\": {\"view\": {\"continuousHeight\": 300, \"continuousWidth\": 400}, \"range\": {\"category\": {\"scheme\": [\"#FF4500\", \"#a0aab4\", \"#4E79A7\"]}}}, \"layer\": [{\"data\": {\"name\": \"data-fe597ba2cd2d9f013a98b523e94b1e14\"}, \"mark\": \"line\", \"encoding\": {\"color\": {\"type\": \"nominal\", \"field\": \"Poverty %\"}, \"x\": {\"type\": \"temporal\", \"field\": \"date\", \"title\": \"Date\"}, \"y\": {\"type\": \"quantitative\", \"field\": \"part_time_work\", \"title\": \"Part Time %\"}}, \"selection\": {\"selector004\": {\"type\": \"interval\", \"bind\": \"scales\", \"encodings\": [\"x\", \"y\"]}}, \"transform\": [{\"fold\": [\"Bottom 20 % Deviation\", \"Top 20 % Deviation\"], \"as\": [\"Poverty %\", \"part_time_work\"]}], \"width\": 1000}, {\"data\": {\"name\": \"data-7f3a6b86ed460c4e648f2393735a11f6\"}, \"mark\": {\"type\": \"rule\", \"color\": \"#757575\", \"size\": 2, \"strokeDash\": [5, 3]}, \"encoding\": {\"size\": {\"value\": 2}, \"y\": {\"type\": \"quantitative\", \"field\": \"Mean 2019\"}}}, {\"data\": {\"name\": \"data-d764767e7dd3b10b2c76c1355ce10ef3\"}, \"mark\": {\"type\": \"text\", \"angle\": 0, \"text\": \"Mean 2019\"}, \"encoding\": {\"opacity\": {\"value\": 0.4}, \"y\": {\"type\": \"quantitative\", \"field\": \"y\"}}}], \"$schema\": \"https://vega.github.io/schema/vega-lite/v4.8.1.json\", \"datasets\": {\"data-fe597ba2cd2d9f013a98b523e94b1e14\": [{\"date\": \"2020-09-12T00:00:00+00:00\", \"Top 20 %\": 4.650524947946511, \"Bottom 20 %\": 3.925097921428766, \"Top 20 % Deviation\": -4.328812458015127, \"Bottom 20 % Deviation\": -5.054239484532873}, {\"date\": \"2020-09-11T00:00:00+00:00\", \"Top 20 %\": 7.124739305611194, \"Bottom 20 %\": 8.734911299180169, \"Top 20 % Deviation\": -1.8545981003504446, \"Bottom 20 % Deviation\": -0.2444261067814697}, {\"date\": \"2020-09-06T00:00:00+00:00\", \"Top 20 %\": 4.6421650684463565, \"Bottom 20 %\": 4.816294532623441, \"Top 20 % Deviation\": -4.337172337515282, \"Bottom 20 % Deviation\": -4.163042873338197}, {\"date\": \"2020-09-14T00:00:00+00:00\", \"Top 20 %\": 7.304241302528406, \"Bottom 20 %\": 4.828798679444701, \"Top 20 % Deviation\": -1.6750961034332326, \"Bottom 20 % Deviation\": -4.150538726516937}, {\"date\": \"2020-09-13T00:00:00+00:00\", \"Top 20 %\": 4.946754064794576, \"Bottom 20 %\": 6.883965764822927, \"Top 20 % Deviation\": -4.032583341167062, \"Bottom 20 % Deviation\": -2.095371641138712}, {\"date\": \"2020-09-02T00:00:00+00:00\", \"Top 20 %\": 7.487986509932872, \"Bottom 20 %\": 7.998317354776628, \"Top 20 % Deviation\": -1.4913508960287665, \"Bottom 20 % Deviation\": -0.9810200511850109}, {\"date\": \"2020-09-03T00:00:00+00:00\", \"Top 20 %\": 8.04105768066406, \"Bottom 20 %\": 6.043163186315063, \"Top 20 % Deviation\": -0.9382797252975781, \"Bottom 20 % Deviation\": -2.936174219646576}, {\"date\": \"2020-09-05T00:00:00+00:00\", \"Top 20 %\": 6.255923389373578, \"Bottom 20 %\": 6.183024886149886, \"Top 20 % Deviation\": -2.7234140165880607, \"Bottom 20 % Deviation\": -2.796312519811752}, {\"date\": \"2020-09-09T00:00:00+00:00\", \"Top 20 %\": 6.856255536916974, \"Bottom 20 %\": 5.333310013353756, \"Top 20 % Deviation\": -2.1230818690446647, \"Bottom 20 % Deviation\": -3.6460273926078823}, {\"date\": \"2020-09-04T00:00:00+00:00\", \"Top 20 %\": 6.65567558316736, \"Bottom 20 %\": 3.9945033024536847, \"Top 20 % Deviation\": -2.3236618227942785, \"Bottom 20 % Deviation\": -4.9848341035079535}, {\"date\": \"2020-09-07T00:00:00+00:00\", \"Top 20 %\": 4.725454082397157, \"Bottom 20 %\": 3.8536907754191687, \"Top 20 % Deviation\": -4.253883323564482, \"Bottom 20 % Deviation\": -5.1256466305424695}, {\"date\": \"2020-09-10T00:00:00+00:00\", \"Top 20 %\": 7.203112356028828, \"Bottom 20 %\": 7.566879013709472, \"Top 20 % Deviation\": -1.776225049932811, \"Bottom 20 % Deviation\": -1.4124583922521667}, {\"date\": \"2020-09-08T00:00:00+00:00\", \"Top 20 %\": 7.174858104450017, \"Bottom 20 %\": 4.710808022409952, \"Top 20 % Deviation\": -1.8044793015116216, \"Bottom 20 % Deviation\": -4.268529383551686}], \"data-7f3a6b86ed460c4e648f2393735a11f6\": [{\"Mean 2019\": 0}], \"data-d764767e7dd3b10b2c76c1355ce10ef3\": [{\"y\": 1}]}}, {\"mode\": \"vega-lite\"});\n",
              "</script>"
            ]
          },
          "metadata": {
            "tags": []
          },
          "execution_count": 35
        },
        {
          "output_type": "stream",
          "text": [
            "time: 61.1 ms (started: 2021-05-03 22:20:22 +00:00)\n"
          ],
          "name": "stdout"
        }
      ]
    },
    {
      "cell_type": "code",
      "metadata": {
        "id": "WuiHxms2fRtH"
      },
      "source": [
        ""
      ],
      "execution_count": 35,
      "outputs": []
    }
  ]
}