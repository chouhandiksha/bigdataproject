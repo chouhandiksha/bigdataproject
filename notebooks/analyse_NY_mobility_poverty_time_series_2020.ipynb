{
  "nbformat": 4,
  "nbformat_minor": 0,
  "metadata": {
    "colab": {
      "name": "analyse_NY_mobility_poverty_2020.ipynb",
      "provenance": [],
      "collapsed_sections": [],
      "include_colab_link": true
    },
    "kernelspec": {
      "name": "python3",
      "display_name": "Python 3"
    },
    "language_info": {
      "name": "python"
    }
  },
  "cells": [
    {
      "cell_type": "markdown",
      "metadata": {
        "id": "view-in-github",
        "colab_type": "text"
      },
      "source": [
        "<a href=\"https://colab.research.google.com/github/chouhandiksha/bigdataproject/blob/colab/notebooks/analyse_NY_mobility_poverty_time_series_2020.ipynb\" target=\"_parent\"><img src=\"https://colab.research.google.com/assets/colab-badge.svg\" alt=\"Open In Colab\"/></a>"
      ]
    },
    {
      "cell_type": "markdown",
      "metadata": {
        "id": "6Vnc5foT5YFx"
      },
      "source": [
        "**Spark SQL Documentation:** \n",
        "https://spark.apache.org/docs/2.2.0/sql-programming-guide.html"
      ]
    },
    {
      "cell_type": "code",
      "metadata": {
        "id": "XXJ-cpgT3moz",
        "colab": {
          "base_uri": "https://localhost:8080/"
        },
        "outputId": "62ebe59e-134e-45d3-ef59-153976668b66"
      },
      "source": [
        "# add time information at the end of every cell\n",
        "!pip install ipython-autotime\n",
        "%load_ext autotime"
      ],
      "execution_count": 3,
      "outputs": [
        {
          "output_type": "stream",
          "text": [
            "Collecting ipython-autotime\n",
            "  Downloading https://files.pythonhosted.org/packages/b4/c9/b413a24f759641bc27ef98c144b590023c8038dfb8a3f09e713e9dff12c1/ipython_autotime-0.3.1-py2.py3-none-any.whl\n",
            "Requirement already satisfied: ipython in /usr/local/lib/python3.7/dist-packages (from ipython-autotime) (5.5.0)\n",
            "Requirement already satisfied: decorator in /usr/local/lib/python3.7/dist-packages (from ipython->ipython-autotime) (4.4.2)\n",
            "Requirement already satisfied: pexpect; sys_platform != \"win32\" in /usr/local/lib/python3.7/dist-packages (from ipython->ipython-autotime) (4.8.0)\n",
            "Requirement already satisfied: traitlets>=4.2 in /usr/local/lib/python3.7/dist-packages (from ipython->ipython-autotime) (5.0.5)\n",
            "Requirement already satisfied: setuptools>=18.5 in /usr/local/lib/python3.7/dist-packages (from ipython->ipython-autotime) (54.2.0)\n",
            "Requirement already satisfied: prompt-toolkit<2.0.0,>=1.0.4 in /usr/local/lib/python3.7/dist-packages (from ipython->ipython-autotime) (1.0.18)\n",
            "Requirement already satisfied: pickleshare in /usr/local/lib/python3.7/dist-packages (from ipython->ipython-autotime) (0.7.5)\n",
            "Requirement already satisfied: simplegeneric>0.8 in /usr/local/lib/python3.7/dist-packages (from ipython->ipython-autotime) (0.8.1)\n",
            "Requirement already satisfied: pygments in /usr/local/lib/python3.7/dist-packages (from ipython->ipython-autotime) (2.6.1)\n",
            "Requirement already satisfied: ptyprocess>=0.5 in /usr/local/lib/python3.7/dist-packages (from pexpect; sys_platform != \"win32\"->ipython->ipython-autotime) (0.7.0)\n",
            "Requirement already satisfied: ipython-genutils in /usr/local/lib/python3.7/dist-packages (from traitlets>=4.2->ipython->ipython-autotime) (0.2.0)\n",
            "Requirement already satisfied: wcwidth in /usr/local/lib/python3.7/dist-packages (from prompt-toolkit<2.0.0,>=1.0.4->ipython->ipython-autotime) (0.2.5)\n",
            "Requirement already satisfied: six>=1.9.0 in /usr/local/lib/python3.7/dist-packages (from prompt-toolkit<2.0.0,>=1.0.4->ipython->ipython-autotime) (1.15.0)\n",
            "Installing collected packages: ipython-autotime\n",
            "Successfully installed ipython-autotime-0.3.1\n",
            "time: 163 µs (started: 2021-04-15 04:02:54 +00:00)\n"
          ],
          "name": "stdout"
        }
      ]
    },
    {
      "cell_type": "code",
      "metadata": {
        "colab": {
          "base_uri": "https://localhost:8080/"
        },
        "id": "DggpqrsrscGi",
        "outputId": "65f482d9-10a7-4f28-be40-b79cc3f1bb9e"
      },
      "source": [
        "# Install required dependancies\n",
        "!pip install pyspark\n",
        "!apt install openjdk-8-jdk-headless -qq\n",
        "import os\n",
        "os.environ[\"JAVA_HOME\"] = \"/usr/lib/jvm/java-8-openjdk-amd64\""
      ],
      "execution_count": 4,
      "outputs": [
        {
          "output_type": "stream",
          "text": [
            "Collecting pyspark\n",
            "\u001b[?25l  Downloading https://files.pythonhosted.org/packages/45/b0/9d6860891ab14a39d4bddf80ba26ce51c2f9dc4805e5c6978ac0472c120a/pyspark-3.1.1.tar.gz (212.3MB)\n",
            "\u001b[K     |████████████████████████████████| 212.3MB 71kB/s \n",
            "\u001b[?25hCollecting py4j==0.10.9\n",
            "\u001b[?25l  Downloading https://files.pythonhosted.org/packages/9e/b6/6a4fb90cd235dc8e265a6a2067f2a2c99f0d91787f06aca4bcf7c23f3f80/py4j-0.10.9-py2.py3-none-any.whl (198kB)\n",
            "\u001b[K     |████████████████████████████████| 204kB 36.8MB/s \n",
            "\u001b[?25hBuilding wheels for collected packages: pyspark\n",
            "  Building wheel for pyspark (setup.py) ... \u001b[?25l\u001b[?25hdone\n",
            "  Created wheel for pyspark: filename=pyspark-3.1.1-py2.py3-none-any.whl size=212767604 sha256=1732bdf4175f446749e08cca72c158bf56b62605456babe615ae68c27bb165c2\n",
            "  Stored in directory: /root/.cache/pip/wheels/0b/90/c0/01de724414ef122bd05f056541fb6a0ecf47c7ca655f8b3c0f\n",
            "Successfully built pyspark\n",
            "Installing collected packages: py4j, pyspark\n",
            "Successfully installed py4j-0.10.9 pyspark-3.1.1\n",
            "The following additional packages will be installed:\n",
            "  openjdk-8-jre-headless\n",
            "Suggested packages:\n",
            "  openjdk-8-demo openjdk-8-source libnss-mdns fonts-dejavu-extra\n",
            "  fonts-ipafont-gothic fonts-ipafont-mincho fonts-wqy-microhei\n",
            "  fonts-wqy-zenhei fonts-indic\n",
            "The following NEW packages will be installed:\n",
            "  openjdk-8-jdk-headless openjdk-8-jre-headless\n",
            "0 upgraded, 2 newly installed, 0 to remove and 31 not upgraded.\n",
            "Need to get 36.5 MB of archives.\n",
            "After this operation, 143 MB of additional disk space will be used.\n",
            "Selecting previously unselected package openjdk-8-jre-headless:amd64.\n",
            "(Reading database ... 160983 files and directories currently installed.)\n",
            "Preparing to unpack .../openjdk-8-jre-headless_8u282-b08-0ubuntu1~18.04_amd64.deb ...\n",
            "Unpacking openjdk-8-jre-headless:amd64 (8u282-b08-0ubuntu1~18.04) ...\n",
            "Selecting previously unselected package openjdk-8-jdk-headless:amd64.\n",
            "Preparing to unpack .../openjdk-8-jdk-headless_8u282-b08-0ubuntu1~18.04_amd64.deb ...\n",
            "Unpacking openjdk-8-jdk-headless:amd64 (8u282-b08-0ubuntu1~18.04) ...\n",
            "Setting up openjdk-8-jre-headless:amd64 (8u282-b08-0ubuntu1~18.04) ...\n",
            "update-alternatives: using /usr/lib/jvm/java-8-openjdk-amd64/jre/bin/orbd to provide /usr/bin/orbd (orbd) in auto mode\n",
            "update-alternatives: using /usr/lib/jvm/java-8-openjdk-amd64/jre/bin/servertool to provide /usr/bin/servertool (servertool) in auto mode\n",
            "update-alternatives: using /usr/lib/jvm/java-8-openjdk-amd64/jre/bin/tnameserv to provide /usr/bin/tnameserv (tnameserv) in auto mode\n",
            "Setting up openjdk-8-jdk-headless:amd64 (8u282-b08-0ubuntu1~18.04) ...\n",
            "update-alternatives: using /usr/lib/jvm/java-8-openjdk-amd64/bin/idlj to provide /usr/bin/idlj (idlj) in auto mode\n",
            "update-alternatives: using /usr/lib/jvm/java-8-openjdk-amd64/bin/wsimport to provide /usr/bin/wsimport (wsimport) in auto mode\n",
            "update-alternatives: using /usr/lib/jvm/java-8-openjdk-amd64/bin/jsadebugd to provide /usr/bin/jsadebugd (jsadebugd) in auto mode\n",
            "update-alternatives: using /usr/lib/jvm/java-8-openjdk-amd64/bin/native2ascii to provide /usr/bin/native2ascii (native2ascii) in auto mode\n",
            "update-alternatives: using /usr/lib/jvm/java-8-openjdk-amd64/bin/javah to provide /usr/bin/javah (javah) in auto mode\n",
            "update-alternatives: using /usr/lib/jvm/java-8-openjdk-amd64/bin/hsdb to provide /usr/bin/hsdb (hsdb) in auto mode\n",
            "update-alternatives: using /usr/lib/jvm/java-8-openjdk-amd64/bin/clhsdb to provide /usr/bin/clhsdb (clhsdb) in auto mode\n",
            "update-alternatives: using /usr/lib/jvm/java-8-openjdk-amd64/bin/xjc to provide /usr/bin/xjc (xjc) in auto mode\n",
            "update-alternatives: using /usr/lib/jvm/java-8-openjdk-amd64/bin/schemagen to provide /usr/bin/schemagen (schemagen) in auto mode\n",
            "update-alternatives: using /usr/lib/jvm/java-8-openjdk-amd64/bin/extcheck to provide /usr/bin/extcheck (extcheck) in auto mode\n",
            "update-alternatives: using /usr/lib/jvm/java-8-openjdk-amd64/bin/jhat to provide /usr/bin/jhat (jhat) in auto mode\n",
            "update-alternatives: using /usr/lib/jvm/java-8-openjdk-amd64/bin/wsgen to provide /usr/bin/wsgen (wsgen) in auto mode\n",
            "time: 56.6 s (started: 2021-04-15 04:02:54 +00:00)\n"
          ],
          "name": "stdout"
        }
      ]
    },
    {
      "cell_type": "code",
      "metadata": {
        "id": "ppkG73kRsei0",
        "colab": {
          "base_uri": "https://localhost:8080/"
        },
        "outputId": "be1a328c-3579-44b9-b056-9e0eb58e9822"
      },
      "source": [
        "# Import modules\n",
        "import numpy as np\n",
        "import pandas as pd\n",
        "import matplotlib.pyplot as plt\n",
        "from pathlib import Path\n",
        "%matplotlib inline\n",
        "\n",
        "import pyspark\n",
        "from pyspark.sql import *\n",
        "from pyspark.sql.types import *\n",
        "from pyspark.sql.functions import *\n",
        "from pyspark import SparkContext, SparkConf"
      ],
      "execution_count": 5,
      "outputs": [
        {
          "output_type": "stream",
          "text": [
            "time: 142 ms (started: 2021-04-15 04:03:51 +00:00)\n"
          ],
          "name": "stdout"
        }
      ]
    },
    {
      "cell_type": "code",
      "metadata": {
        "colab": {
          "base_uri": "https://localhost:8080/"
        },
        "id": "pYm9-j_fflal",
        "outputId": "f36503dc-40c4-4f04-e36b-01b0a98070be"
      },
      "source": [
        "import altair as alt\n",
        "alt.data_transformers.disable_max_rows()"
      ],
      "execution_count": 6,
      "outputs": [
        {
          "output_type": "execute_result",
          "data": {
            "text/plain": [
              "DataTransformerRegistry.enable('default')"
            ]
          },
          "metadata": {
            "tags": []
          },
          "execution_count": 6
        },
        {
          "output_type": "stream",
          "text": [
            "time: 302 ms (started: 2021-04-15 04:03:51 +00:00)\n"
          ],
          "name": "stdout"
        }
      ]
    },
    {
      "cell_type": "code",
      "metadata": {
        "id": "1oe1ksN5skMG",
        "colab": {
          "base_uri": "https://localhost:8080/"
        },
        "outputId": "4fa9d462-4df2-4751-ec07-adb1f31161c3"
      },
      "source": [
        "# create the session\n",
        "conf = SparkConf().set(\"spark.ui.port\", \"4050\")\n",
        "\n",
        "# create the context\n",
        "sc = pyspark.SparkContext(conf=conf)\n",
        "spark = SparkSession.builder.getOrCreate()"
      ],
      "execution_count": 7,
      "outputs": [
        {
          "output_type": "stream",
          "text": [
            "time: 4.85 s (started: 2021-04-15 04:03:51 +00:00)\n"
          ],
          "name": "stdout"
        }
      ]
    },
    {
      "cell_type": "code",
      "metadata": {
        "colab": {
          "base_uri": "https://localhost:8080/"
        },
        "id": "WGXwI2d1szaO",
        "outputId": "ba8c43b2-6494-4576-aee0-143b0b9df586"
      },
      "source": [
        "# Mount drive with data\n",
        "from google.colab import drive\n",
        "drive.mount('/content/drive')"
      ],
      "execution_count": 8,
      "outputs": [
        {
          "output_type": "stream",
          "text": [
            "Mounted at /content/drive\n",
            "time: 2min 45s (started: 2021-04-15 04:03:56 +00:00)\n"
          ],
          "name": "stdout"
        }
      ]
    },
    {
      "cell_type": "code",
      "metadata": {
        "id": "grN2uNcFvloa",
        "colab": {
          "base_uri": "https://localhost:8080/"
        },
        "outputId": "5069deef-d4cb-4b5b-ed7e-074c2324c2a9"
      },
      "source": [
        "# Set path to data folder\n",
        "path = Path('drive/MyDrive/big-data-project/data/clean-data')\n",
        "city = 'ny'"
      ],
      "execution_count": 9,
      "outputs": [
        {
          "output_type": "stream",
          "text": [
            "time: 4.61 ms (started: 2021-04-15 04:06:42 +00:00)\n"
          ],
          "name": "stdout"
        }
      ]
    },
    {
      "cell_type": "code",
      "metadata": {
        "colab": {
          "base_uri": "https://localhost:8080/"
        },
        "id": "BvCrFmU2tGXY",
        "outputId": "7f304fd0-a1d0-4cd6-f0d0-a3e71686c3e3"
      },
      "source": [
        "# Read data into dataframe\n",
        "df_soc = spark.read.format('csv').option('header','true').option('quote',\"\\\"\").option('escape',\"\\\"\").load(str(path/city/'social/2020/*.csv'))\n",
        "df_soc.show()"
      ],
      "execution_count": 10,
      "outputs": [
        {
          "output_type": "stream",
          "text": [
            "+---+------------+--------------------+--------------------+------------+---------------------------+--------------------------+------------------------------------------+----------------------------+----------------------+------------------------+--------------------+-------------------------------+-------------------------------+--------------------+-------------------------+--------------------------+----------------------+----------------------------+---------------------------+-----------------------------+\n",
            "|_c0|         cbg|    date_range_start|      date_range_end|device_count|distance_traveled_from_home|bucketed_distance_traveled|median_dwell_at_bucketed_distance_traveled|completely_home_device_count|median_home_dwell_time|bucketed_home_dwell_time|at_home_by_each_hour|part_time_work_behavior_devices|full_time_work_behavior_devices|    destination_cbgs|delivery_behavior_devices|median_non_home_dwell_time|candidate_device_count|bucketed_away_from_home_time|median_percentage_time_home|bucketed_percentage_time_home|\n",
            "+---+------------+--------------------+--------------------+------------+---------------------------+--------------------------+------------------------------------------+----------------------------+----------------------+------------------------+--------------------+-------------------------------+-------------------------------+--------------------+-------------------------+--------------------------+----------------------+----------------------------+---------------------------+-----------------------------+\n",
            "|  0|360470064002|2020-02-03T00:00:...|2020-02-04T00:00:...|          64|                       1883|      {\"16001-50000\":1,...|                      {\"16001-50000\":20...|                          18|                   722|    {\"721-1080\":17,\"3...|[38,42,36,38,35,3...|                              7|                              5|{\"360610089003\":1...|                        2|                       107|                   117|        {\"21-45\":4,\"541-6...|                         84|         {\"26-50\":3,\"51-75...|\n",
            "|  1|360810384001|2020-02-03T00:00:...|2020-02-04T00:00:...|          84|                       5483|      {\"16001-50000\":12...|                      {\"16001-50000\":21...|                          21|                   587|    {\"721-1080\":13,\"3...|[50,53,55,54,50,4...|                             12|                              8|{\"360810208001\":1...|                        4|                       138|                   155|        {\"21-45\":7,\"481-5...|                         73|         {\"26-50\":9,\"51-75...|\n",
            "|  2|360850170103|2020-02-03T00:00:...|2020-02-04T00:00:...|         250|                       4995|      {\"16001-50000\":48...|                      {\"16001-50000\":10...|                          68|                   781|    {\"721-1080\":68,\"3...|[180,186,184,188,...|                             41|                             26|{\"360850187021\":1...|                        8|                       141|                   377|        {\"21-45\":8,\"481-5...|                         84|         {\"26-50\":16,\"51-7...|\n",
            "|  3|360050213021|2020-02-03T00:00:...|2020-02-04T00:00:...|          92|                       2739|      {\"16001-50000\":4,...|                      {\"16001-50000\":50...|                          26|                   578|    {\"721-1080\":18,\"3...|[55,53,55,52,51,4...|                             11|                              6|{\"360050237021\":2...|                        3|                       130|                   194|        {\"21-45\":5,\"481-5...|                         79|         {\"26-50\":8,\"51-75...|\n",
            "|  4|360050253004|2020-02-03T00:00:...|2020-02-04T00:00:...|          52|                       3801|      {\"16001-50000\":2,...|                      {\"16001-50000\":31...|                          13|                   533|    {\"721-1080\":8,\"36...|[26,26,25,27,26,2...|                              7|                              4|{\"360050326002\":2...|                        2|                       193|                   106|        {\"21-45\":3,\"481-5...|                         76|         {\"26-50\":5,\"51-75...|\n",
            "|  5|360470385003|2020-02-03T00:00:...|2020-02-04T00:00:...|          37|                       5459|      {\"0\":10,\"2001-800...|                      {\"1001-2000\":77,\"...|                           9|                   661|    {\"721-1080\":13,\"3...|[24,25,26,25,24,2...|                              4|                              5|{\"360470379002\":1...|                        1|                       120|                    78|        {\"21-45\":2,\"481-5...|                         70|         {\"0-25\":5,\"76-100...|\n",
            "|  6|360470406002|2020-02-03T00:00:...|2020-02-04T00:00:...|          46|                      10480|      {\"16001-50000\":7,...|                      {\"16001-50000\":12...|                          12|                   390|    {\"721-1080\":7,\"36...|[23,18,18,18,18,1...|                              7|                              4|{\"360470804003\":1...|                        3|                        38|                    79|        {\"21-45\":4,\"1201-...|                         69|         {\"0-25\":17,\"76-10...|\n",
            "|  7|360470428003|2020-02-03T00:00:...|2020-02-04T00:00:...|          84|                       3798|      {\"16001-50000\":5,...|                      {\"16001-50000\":32...|                          20|                   693|    {\"721-1080\":26,\"3...|[55,57,56,54,55,5...|                              2|                             13|{\"360470478001\":2...|                        7|                       181|                   139|        {\"21-45\":1,\"481-5...|                         67|         {\"0-25\":13,\"76-10...|\n",
            "|  8|360471130002|2020-02-03T00:00:...|2020-02-04T00:00:...|          84|                       5276|      {\"16001-50000\":1,...|                      {\"16001-50000\":64...|                          20|                   759|    {\"721-1080\":25,\"3...|[54,57,58,59,54,5...|                             13|                              9|{\"360470804003\":1...|                        5|                       200|                   155|        {\"21-45\":1,\"481-5...|                         69|         {\"26-50\":5,\"51-75...|\n",
            "|  9|360811029001|2020-02-03T00:00:...|2020-02-04T00:00:...|         256|                       5062|      {\"16001-50000\":25...|                      {\"16001-50000\":82...|                          95|                   411|    {\"721-1080\":49,\"3...|[124,121,125,125,...|                             24|                             18|{\"360811033001\":1...|                        6|                        31|                   766|        {\"21-45\":18,\"481-...|                         86|         {\"26-50\":12,\"51-7...|\n",
            "| 10|360050177022|2020-02-03T00:00:...|2020-02-04T00:00:...|          53|                       5200|      {\"16001-50000\":2,...|                      {\"16001-50000\":58...|                          19|                   709|    {\"721-1080\":11,\"3...|[31,31,29,29,30,2...|                              2|                              1|{\"360610265002\":1...|                        5|                        33|                   108|        {\"21-45\":5,\"481-5...|                         90|         {\"26-50\":1,\"51-75...|\n",
            "| 11|360050248002|2020-02-03T00:00:...|2020-02-04T00:00:...|          63|                       3274|      {\"16001-50000\":2,...|                      {\"16001-50000\":29...|                          24|                   634|    {\"721-1080\":10,\"3...|[33,39,33,35,32,3...|                              6|                              2|{\"360050248001\":3...|                        6|                        22|                   112|        {\"21-45\":1,\"481-5...|                         94|         {\"0-25\":13,\"76-10...|\n",
            "| 12|360050363003|2020-02-03T00:00:...|2020-02-04T00:00:...|          81|                       3828|      {\"16001-50000\":7,...|                      {\"16001-50000\":20...|                          17|                   643|    {\"721-1080\":22,\"3...|[48,46,47,45,48,4...|                              7|                              8|{\"360050237021\":1...|                        4|                       203|                   227|        {\"21-45\":6,\"481-5...|                         74|         {\"0-25\":21,\"76-10...|\n",
            "| 13|360470084003|2020-02-03T00:00:...|2020-02-04T00:00:...|          42|                       4795|      {\"0\":10,\">50000\":...|                      {\">50000\":57,\"<10...|                          12|                   512|    {\"721-1080\":6,\"36...|[26,24,24,24,25,2...|                              7|                              5|{\"360470485001\":1...|                        1|                       305|                    99|        {\"481-540\":1,\"541...|                         58|         {\"26-50\":4,\"51-75...|\n",
            "| 14|360470393002|2020-02-03T00:00:...|2020-02-04T00:00:...|          42|                       4291|      {\"0\":12,\"2001-800...|                      {\"1001-2000\":20,\"...|                          12|                   685|    {\"721-1080\":10,\"3...|[28,27,28,28,29,2...|                              4|                              5|{\"360470551003\":1...|                        3|                       142|                   130|        {\"21-45\":4,\"481-5...|                         82|         {\"0-25\":2,\"76-100...|\n",
            "| 15|360470888003|2020-02-03T00:00:...|2020-02-04T00:00:...|          73|                       3905|      {\"16001-50000\":1,...|                      {\"16001-50000\":31...|                          24|                   593|    {\"721-1080\":15,\"3...|[46,48,49,48,44,4...|                              4|                             10|{\"360470816002\":1...|                        7|                        92|                   146|        {\"21-45\":6,\"481-5...|                         74|         {\"0-25\":16,\"76-10...|\n",
            "| 16|360610072004|2020-02-03T00:00:...|2020-02-04T00:00:...|          58|                       1559|      {\"16001-50000\":1,...|                      {\"16001-50000\":72...|                          17|                   453|    {\"721-1080\":15,\"3...|[27,28,28,29,26,2...|                              8|                              6|{\"361090004001\":1...|                        1|                       342|                   132|        {\"481-540\":2,\"541...|                         60|         {\"0-25\":9,\"76-100...|\n",
            "| 17|360050414002|2020-02-03T00:00:...|2020-02-04T00:00:...|          60|                       5550|      {\"16001-50000\":7,...|                      {\"16001-50000\":29...|                          19|                   720|    {\"721-1080\":16,\"3...|[41,42,41,43,36,3...|                              5|                              6|{\"360050418001\":2...|                        5|                        65|                   116|        {\"21-45\":7,\"481-5...|                         91|         {\">100\":1,\"0-25\":...|\n",
            "| 18|360050424001|2020-02-03T00:00:...|2020-02-04T00:00:...|          44|                       7992|      {\"16001-50000\":7,...|                      {\"16001-50000\":25...|                          12|                   319|    {\"721-1080\":5,\"36...|[16,15,18,16,16,2...|                              4|                              3|{\"360811257001\":1...|                        1|                        50|                    85|        {\"21-45\":4,\"541-6...|                         78|         {\"26-50\":1,\"51-75...|\n",
            "| 19|360470076002|2020-02-03T00:00:...|2020-02-04T00:00:...|          49|                       4238|      {\"0\":13,\">50000\":...|                      {\">50000\":28,\"<10...|                          11|                   718|    {\"721-1080\":15,\"3...|[37,33,34,33,33,3...|                              9|                              7|{\"360470060002\":1...|                        1|                       231|                    87|        {\"21-45\":5,\"481-5...|                         74|         {\"0-25\":4,\"76-100...|\n",
            "+---+------------+--------------------+--------------------+------------+---------------------------+--------------------------+------------------------------------------+----------------------------+----------------------+------------------------+--------------------+-------------------------------+-------------------------------+--------------------+-------------------------+--------------------------+----------------------+----------------------------+---------------------------+-----------------------------+\n",
            "only showing top 20 rows\n",
            "\n",
            "time: 29.1 s (started: 2021-04-15 04:06:42 +00:00)\n"
          ],
          "name": "stdout"
        }
      ]
    },
    {
      "cell_type": "code",
      "metadata": {
        "colab": {
          "base_uri": "https://localhost:8080/"
        },
        "id": "9fgHRKKEz-cA",
        "outputId": "c8f89953-dd81-44a8-d8ad-da8c223590ea"
      },
      "source": [
        "# View schema\n",
        "df_soc.printSchema()"
      ],
      "execution_count": 11,
      "outputs": [
        {
          "output_type": "stream",
          "text": [
            "root\n",
            " |-- _c0: string (nullable = true)\n",
            " |-- cbg: string (nullable = true)\n",
            " |-- date_range_start: string (nullable = true)\n",
            " |-- date_range_end: string (nullable = true)\n",
            " |-- device_count: string (nullable = true)\n",
            " |-- distance_traveled_from_home: string (nullable = true)\n",
            " |-- bucketed_distance_traveled: string (nullable = true)\n",
            " |-- median_dwell_at_bucketed_distance_traveled: string (nullable = true)\n",
            " |-- completely_home_device_count: string (nullable = true)\n",
            " |-- median_home_dwell_time: string (nullable = true)\n",
            " |-- bucketed_home_dwell_time: string (nullable = true)\n",
            " |-- at_home_by_each_hour: string (nullable = true)\n",
            " |-- part_time_work_behavior_devices: string (nullable = true)\n",
            " |-- full_time_work_behavior_devices: string (nullable = true)\n",
            " |-- destination_cbgs: string (nullable = true)\n",
            " |-- delivery_behavior_devices: string (nullable = true)\n",
            " |-- median_non_home_dwell_time: string (nullable = true)\n",
            " |-- candidate_device_count: string (nullable = true)\n",
            " |-- bucketed_away_from_home_time: string (nullable = true)\n",
            " |-- median_percentage_time_home: string (nullable = true)\n",
            " |-- bucketed_percentage_time_home: string (nullable = true)\n",
            "\n",
            "time: 31.1 ms (started: 2021-04-15 04:07:11 +00:00)\n"
          ],
          "name": "stdout"
        }
      ]
    },
    {
      "cell_type": "code",
      "metadata": {
        "id": "AlbhBqMUxjVa",
        "colab": {
          "base_uri": "https://localhost:8080/"
        },
        "outputId": "94806445-4ad0-4d6c-e113-1f90cfca8e6b"
      },
      "source": [
        "# # Take small sample of data to experiment with\n",
        "# df_soc = df_soc.limit(100)\n",
        "# df_soc.show()"
      ],
      "execution_count": 12,
      "outputs": [
        {
          "output_type": "stream",
          "text": [
            "time: 2.89 ms (started: 2021-04-15 04:07:11 +00:00)\n"
          ],
          "name": "stdout"
        }
      ]
    },
    {
      "cell_type": "code",
      "metadata": {
        "colab": {
          "base_uri": "https://localhost:8080/"
        },
        "id": "wh747sqcHi4-",
        "outputId": "6a737c9c-5e5d-4925-8295-002f023de04b"
      },
      "source": [
        "df_soc.createOrReplaceTempView('clean_ny')\n",
        "df_soc = spark.sql('SELECT cbg, date_range_start as date, device_count, completely_home_device_count, part_time_work_behavior_devices, full_time_work_behavior_devices FROM clean_ny WHERE device_count > 5')\n",
        "df_soc.show()"
      ],
      "execution_count": 13,
      "outputs": [
        {
          "output_type": "stream",
          "text": [
            "+------------+--------------------+------------+----------------------------+-------------------------------+-------------------------------+\n",
            "|         cbg|                date|device_count|completely_home_device_count|part_time_work_behavior_devices|full_time_work_behavior_devices|\n",
            "+------------+--------------------+------------+----------------------------+-------------------------------+-------------------------------+\n",
            "|360470064002|2020-02-03T00:00:...|          64|                          18|                              7|                              5|\n",
            "|360810384001|2020-02-03T00:00:...|          84|                          21|                             12|                              8|\n",
            "|360850170103|2020-02-03T00:00:...|         250|                          68|                             41|                             26|\n",
            "|360050213021|2020-02-03T00:00:...|          92|                          26|                             11|                              6|\n",
            "|360050253004|2020-02-03T00:00:...|          52|                          13|                              7|                              4|\n",
            "|360470385003|2020-02-03T00:00:...|          37|                           9|                              4|                              5|\n",
            "|360470406002|2020-02-03T00:00:...|          46|                          12|                              7|                              4|\n",
            "|360470428003|2020-02-03T00:00:...|          84|                          20|                              2|                             13|\n",
            "|360471130002|2020-02-03T00:00:...|          84|                          20|                             13|                              9|\n",
            "|360811029001|2020-02-03T00:00:...|         256|                          95|                             24|                             18|\n",
            "|360050177022|2020-02-03T00:00:...|          53|                          19|                              2|                              1|\n",
            "|360050248002|2020-02-03T00:00:...|          63|                          24|                              6|                              2|\n",
            "|360050363003|2020-02-03T00:00:...|          81|                          17|                              7|                              8|\n",
            "|360470084003|2020-02-03T00:00:...|          42|                          12|                              7|                              5|\n",
            "|360470393002|2020-02-03T00:00:...|          42|                          12|                              4|                              5|\n",
            "|360470888003|2020-02-03T00:00:...|          73|                          24|                              4|                             10|\n",
            "|360610072004|2020-02-03T00:00:...|          58|                          17|                              8|                              6|\n",
            "|360050414002|2020-02-03T00:00:...|          60|                          19|                              5|                              6|\n",
            "|360050424001|2020-02-03T00:00:...|          44|                          12|                              4|                              3|\n",
            "|360470076002|2020-02-03T00:00:...|          49|                          11|                              9|                              7|\n",
            "+------------+--------------------+------------+----------------------------+-------------------------------+-------------------------------+\n",
            "only showing top 20 rows\n",
            "\n",
            "time: 1.1 s (started: 2021-04-15 04:07:11 +00:00)\n"
          ],
          "name": "stdout"
        }
      ]
    },
    {
      "cell_type": "code",
      "metadata": {
        "colab": {
          "base_uri": "https://localhost:8080/"
        },
        "id": "AsEegEtNyYZr",
        "outputId": "ac5ab993-f3f6-467f-a52a-22f1569a15e6"
      },
      "source": [
        "# View schema\n",
        "df_soc.printSchema()"
      ],
      "execution_count": 14,
      "outputs": [
        {
          "output_type": "stream",
          "text": [
            "root\n",
            " |-- cbg: string (nullable = true)\n",
            " |-- date: string (nullable = true)\n",
            " |-- device_count: string (nullable = true)\n",
            " |-- completely_home_device_count: string (nullable = true)\n",
            " |-- part_time_work_behavior_devices: string (nullable = true)\n",
            " |-- full_time_work_behavior_devices: string (nullable = true)\n",
            "\n",
            "time: 13.6 ms (started: 2021-04-15 04:07:12 +00:00)\n"
          ],
          "name": "stdout"
        }
      ]
    },
    {
      "cell_type": "code",
      "metadata": {
        "colab": {
          "base_uri": "https://localhost:8080/"
        },
        "id": "UL4qIhZu7JKC",
        "outputId": "2b75dd43-d4f6-4347-b492-48f6b39caffd"
      },
      "source": [
        "# Add completely home percentage column\n",
        "df_soc = df_soc.withColumn('completely_home_percentage', (df_soc['completely_home_device_count']/df_soc['device_count']) * 100)\n",
        "df_soc = df_soc.withColumn('part_time_work_percentage', (df_soc['part_time_work_behavior_devices']/df_soc['device_count']) * 100)\n",
        "df_soc = df_soc.withColumn('full_time_work_percentage', (df_soc['full_time_work_behavior_devices']/df_soc['device_count']) * 100)\n",
        "\n",
        "df_soc.show()"
      ],
      "execution_count": 15,
      "outputs": [
        {
          "output_type": "stream",
          "text": [
            "+------------+--------------------+------------+----------------------------+-------------------------------+-------------------------------+--------------------------+-------------------------+-------------------------+\n",
            "|         cbg|                date|device_count|completely_home_device_count|part_time_work_behavior_devices|full_time_work_behavior_devices|completely_home_percentage|part_time_work_percentage|full_time_work_percentage|\n",
            "+------------+--------------------+------------+----------------------------+-------------------------------+-------------------------------+--------------------------+-------------------------+-------------------------+\n",
            "|360470064002|2020-02-03T00:00:...|          64|                          18|                              7|                              5|                    28.125|                  10.9375|                   7.8125|\n",
            "|360810384001|2020-02-03T00:00:...|          84|                          21|                             12|                              8|                      25.0|       14.285714285714285|        9.523809523809524|\n",
            "|360850170103|2020-02-03T00:00:...|         250|                          68|                             41|                             26|        27.200000000000003|       16.400000000000002|                     10.4|\n",
            "|360050213021|2020-02-03T00:00:...|          92|                          26|                             11|                              6|         28.26086956521739|       11.956521739130435|        6.521739130434782|\n",
            "|360050253004|2020-02-03T00:00:...|          52|                          13|                              7|                              4|                      25.0|       13.461538461538462|       7.6923076923076925|\n",
            "|360470385003|2020-02-03T00:00:...|          37|                           9|                              4|                              5|        24.324324324324326|        10.81081081081081|       13.513513513513514|\n",
            "|360470406002|2020-02-03T00:00:...|          46|                          12|                              7|                              4|         26.08695652173913|       15.217391304347828|        8.695652173913043|\n",
            "|360470428003|2020-02-03T00:00:...|          84|                          20|                              2|                             13|        23.809523809523807|        2.380952380952381|       15.476190476190476|\n",
            "|360471130002|2020-02-03T00:00:...|          84|                          20|                             13|                              9|        23.809523809523807|       15.476190476190476|       10.714285714285714|\n",
            "|360811029001|2020-02-03T00:00:...|         256|                          95|                             24|                             18|                 37.109375|                    9.375|                  7.03125|\n",
            "|360050177022|2020-02-03T00:00:...|          53|                          19|                              2|                              1|         35.84905660377358|       3.7735849056603774|       1.8867924528301887|\n",
            "|360050248002|2020-02-03T00:00:...|          63|                          24|                              6|                              2|        38.095238095238095|        9.523809523809524|       3.1746031746031744|\n",
            "|360050363003|2020-02-03T00:00:...|          81|                          17|                              7|                              8|         20.98765432098765|        8.641975308641975|        9.876543209876543|\n",
            "|360470084003|2020-02-03T00:00:...|          42|                          12|                              7|                              5|         28.57142857142857|       16.666666666666664|       11.904761904761903|\n",
            "|360470393002|2020-02-03T00:00:...|          42|                          12|                              4|                              5|         28.57142857142857|        9.523809523809524|       11.904761904761903|\n",
            "|360470888003|2020-02-03T00:00:...|          73|                          24|                              4|                             10|         32.87671232876712|         5.47945205479452|       13.698630136986301|\n",
            "|360610072004|2020-02-03T00:00:...|          58|                          17|                              8|                              6|        29.310344827586203|       13.793103448275861|       10.344827586206897|\n",
            "|360050414002|2020-02-03T00:00:...|          60|                          19|                              5|                              6|        31.666666666666664|        8.333333333333332|                     10.0|\n",
            "|360050424001|2020-02-03T00:00:...|          44|                          12|                              4|                              3|         27.27272727272727|        9.090909090909092|       6.8181818181818175|\n",
            "|360470076002|2020-02-03T00:00:...|          49|                          11|                              9|                              7|        22.448979591836736|       18.367346938775512|       14.285714285714285|\n",
            "+------------+--------------------+------------+----------------------------+-------------------------------+-------------------------------+--------------------------+-------------------------+-------------------------+\n",
            "only showing top 20 rows\n",
            "\n",
            "time: 622 ms (started: 2021-04-15 04:07:12 +00:00)\n"
          ],
          "name": "stdout"
        }
      ]
    },
    {
      "cell_type": "code",
      "metadata": {
        "colab": {
          "base_uri": "https://localhost:8080/"
        },
        "id": "U8Dh3u54x-Rw",
        "outputId": "3003ca53-acec-49ee-fdbd-779d29fcfbd5"
      },
      "source": [
        "df_soc.printSchema()"
      ],
      "execution_count": 16,
      "outputs": [
        {
          "output_type": "stream",
          "text": [
            "root\n",
            " |-- cbg: string (nullable = true)\n",
            " |-- date: string (nullable = true)\n",
            " |-- device_count: string (nullable = true)\n",
            " |-- completely_home_device_count: string (nullable = true)\n",
            " |-- part_time_work_behavior_devices: string (nullable = true)\n",
            " |-- full_time_work_behavior_devices: string (nullable = true)\n",
            " |-- completely_home_percentage: double (nullable = true)\n",
            " |-- part_time_work_percentage: double (nullable = true)\n",
            " |-- full_time_work_percentage: double (nullable = true)\n",
            "\n",
            "time: 4.71 ms (started: 2021-04-15 04:07:13 +00:00)\n"
          ],
          "name": "stdout"
        }
      ]
    },
    {
      "cell_type": "code",
      "metadata": {
        "id": "RPfbxzHZMQpg"
      },
      "source": [
        ""
      ],
      "execution_count": 16,
      "outputs": []
    },
    {
      "cell_type": "code",
      "metadata": {
        "colab": {
          "base_uri": "https://localhost:8080/"
        },
        "id": "OAUIODseCoSg",
        "outputId": "d8ca8955-13f2-4c23-8bbd-da5b3dcfe60c"
      },
      "source": [
        "#Create temp view\n",
        "df_soc.createOrReplaceTempView('mobility')"
      ],
      "execution_count": 17,
      "outputs": [
        {
          "output_type": "stream",
          "text": [
            "time: 29.2 ms (started: 2021-04-15 04:07:13 +00:00)\n"
          ],
          "name": "stdout"
        }
      ]
    },
    {
      "cell_type": "code",
      "metadata": {
        "id": "J0QElXxFMFP1"
      },
      "source": [
        ""
      ],
      "execution_count": 17,
      "outputs": []
    },
    {
      "cell_type": "markdown",
      "metadata": {
        "id": "Sj4xc1gTpm2X"
      },
      "source": [
        "\n",
        "\n",
        "---\n",
        "\n",
        "\n",
        "demographic data\n",
        "\n",
        "\n",
        "\n",
        "\n",
        "\n",
        "\n",
        "---\n",
        "\n"
      ]
    },
    {
      "cell_type": "code",
      "metadata": {
        "colab": {
          "base_uri": "https://localhost:8080/"
        },
        "id": "1SVVsXtuzqRf",
        "outputId": "81c3a345-1e90-4656-f527-1c4acc3d4f6b"
      },
      "source": [
        "# Read poverty data\n",
        "# Read data into RDD\n",
        "df_demographic = spark.read.format('csv').option('header','true').option('quote',\"\\\"\").option('escape',\"\\\"\").load(str(path/city/'ny.csv'))\n",
        "df_demographic.createOrReplaceTempView('demographic')\n",
        "df_demographic.show()"
      ],
      "execution_count": 18,
      "outputs": [
        {
          "output_type": "stream",
          "text": [
            "+------------+---------+------------------+------------------+\n",
            "|         cbg|pop_total|poverty_percentage|    perc_whiteonly|\n",
            "+------------+---------+------------------+------------------+\n",
            "|360050175002|     1110| 55.22522522522523|14.774774774774773|\n",
            "|360050141001|     1445| 36.74740484429066| 19.16955017301038|\n",
            "|360050145001|     2003| 39.47667804323095|  8.53719420868697|\n",
            "|360050075002|     2731|22.812156719150494|4.5404613694617355|\n",
            "|360050418001|      936|18.859649122807017| 9.081196581196581|\n",
            "|360050125001|     2935| 43.24693042291951|12.742759795570699|\n",
            "|360050127012|     1061| 43.73232799245994|18.378887841658813|\n",
            "|360050054003|     1031| 57.12900096993211| 28.12803103782735|\n",
            "|360050027011|     1364|  65.9090909090909|14.589442815249267|\n",
            "|360050458001|     1168| 37.15753424657534| 2.910958904109589|\n",
            "|360050224011|     1291|19.907048799380327|27.420604182804027|\n",
            "|360050389001|     1143| 53.94265232974911|30.708661417322837|\n",
            "|360050071002|     1661|           37.4375|11.499096929560505|\n",
            "|360050211003|     1056|  52.1865889212828| 5.776515151515151|\n",
            "|360050197001|     2205| 37.46031746031746| 6.984126984126984|\n",
            "|360470400002|      760| 19.19463087248322|              47.5|\n",
            "|360470400003|     1250|              25.6|             36.32|\n",
            "|360470402002|     1453|27.529249827942188|51.066758430832756|\n",
            "|360470403001|      919| 42.20283533260633| 22.41566920565832|\n",
            "|360470404001|     1232| 6.087662337662338| 66.72077922077922|\n",
            "+------------+---------+------------------+------------------+\n",
            "only showing top 20 rows\n",
            "\n",
            "time: 766 ms (started: 2021-04-15 04:07:13 +00:00)\n"
          ],
          "name": "stdout"
        }
      ]
    },
    {
      "cell_type": "code",
      "metadata": {
        "colab": {
          "base_uri": "https://localhost:8080/"
        },
        "id": "Ff9bk8_6qBQ2",
        "outputId": "bc2cfc4d-3d1b-47bf-cc9a-1d6606410dbe"
      },
      "source": [
        "df_mob_demo = spark.sql('SELECT mobility.*, demographic.poverty_percentage from mobility INNER JOIN demographic ON mobility.cbg = demographic.cbg')\n",
        "df_mob_demo.createOrReplaceTempView('demographic_mobility')\n",
        "df_mob_demo.show()\n"
      ],
      "execution_count": 19,
      "outputs": [
        {
          "output_type": "stream",
          "text": [
            "+------------+--------------------+------------+----------------------------+-------------------------------+-------------------------------+--------------------------+-------------------------+-------------------------+------------------+\n",
            "|         cbg|                date|device_count|completely_home_device_count|part_time_work_behavior_devices|full_time_work_behavior_devices|completely_home_percentage|part_time_work_percentage|full_time_work_percentage|poverty_percentage|\n",
            "+------------+--------------------+------------+----------------------------+-------------------------------+-------------------------------+--------------------------+-------------------------+-------------------------+------------------+\n",
            "|360470064002|2020-02-03T00:00:...|          64|                          18|                              7|                              5|                    28.125|                  10.9375|                   7.8125| 19.22705314009662|\n",
            "|360810384001|2020-02-03T00:00:...|          84|                          21|                             12|                              8|                      25.0|       14.285714285714285|        9.523809523809524|12.291350531107739|\n",
            "|360850170103|2020-02-03T00:00:...|         250|                          68|                             41|                             26|        27.200000000000003|       16.400000000000002|                     10.4|13.652802893309223|\n",
            "|360050213021|2020-02-03T00:00:...|          92|                          26|                             11|                              6|         28.26086956521739|       11.956521739130435|        6.521739130434782| 43.07328605200946|\n",
            "|360050253004|2020-02-03T00:00:...|          52|                          13|                              7|                              4|                      25.0|       13.461538461538462|       7.6923076923076925|24.824120603015075|\n",
            "|360470385003|2020-02-03T00:00:...|          37|                           9|                              4|                              5|        24.324324324324326|        10.81081081081081|       13.513513513513514| 10.77170418006431|\n",
            "|360470406002|2020-02-03T00:00:...|          46|                          12|                              7|                              4|         26.08695652173913|       15.217391304347828|        8.695652173913043|13.953488372093023|\n",
            "|360470428003|2020-02-03T00:00:...|          84|                          20|                              2|                             13|        23.809523809523807|        2.380952380952381|       15.476190476190476|15.798922800718133|\n",
            "|360471130002|2020-02-03T00:00:...|          84|                          20|                             13|                              9|        23.809523809523807|       15.476190476190476|       10.714285714285714| 49.52229299363057|\n",
            "|360811029001|2020-02-03T00:00:...|         256|                          95|                             24|                             18|                 37.109375|                    9.375|                  7.03125| 4.940374787052811|\n",
            "|360050177022|2020-02-03T00:00:...|          53|                          19|                              2|                              1|         35.84905660377358|       3.7735849056603774|       1.8867924528301887|16.293393057110862|\n",
            "|360050248002|2020-02-03T00:00:...|          63|                          24|                              6|                              2|        38.095238095238095|        9.523809523809524|       3.1746031746031744|11.859838274932615|\n",
            "|360050363003|2020-02-03T00:00:...|          81|                          17|                              7|                              8|         20.98765432098765|        8.641975308641975|        9.876543209876543|33.054159687325516|\n",
            "|360470084003|2020-02-03T00:00:...|          42|                          12|                              7|                              5|         28.57142857142857|       16.666666666666664|       11.904761904761903|36.858638743455494|\n",
            "|360470393002|2020-02-03T00:00:...|          42|                          12|                              4|                              5|         28.57142857142857|        9.523809523809524|       11.904761904761903|17.216770740410347|\n",
            "|360470888003|2020-02-03T00:00:...|          73|                          24|                              4|                             10|         32.87671232876712|         5.47945205479452|       13.698630136986301| 9.655172413793103|\n",
            "|360610072004|2020-02-03T00:00:...|          58|                          17|                              8|                              6|        29.310344827586203|       13.793103448275861|       10.344827586206897| 21.65775401069519|\n",
            "|360050414002|2020-02-03T00:00:...|          60|                          19|                              5|                              6|        31.666666666666664|        8.333333333333332|                     10.0|13.106796116504855|\n",
            "|360050424001|2020-02-03T00:00:...|          44|                          12|                              4|                              3|         27.27272727272727|        9.090909090909092|       6.8181818181818175| 6.275303643724696|\n",
            "|360470076002|2020-02-03T00:00:...|          49|                          11|                              9|                              7|        22.448979591836736|       18.367346938775512|       14.285714285714285|18.527131782945734|\n",
            "+------------+--------------------+------------+----------------------------+-------------------------------+-------------------------------+--------------------------+-------------------------+-------------------------+------------------+\n",
            "only showing top 20 rows\n",
            "\n",
            "time: 1.19 s (started: 2021-04-15 04:07:14 +00:00)\n"
          ],
          "name": "stdout"
        }
      ]
    },
    {
      "cell_type": "code",
      "metadata": {
        "colab": {
          "base_uri": "https://localhost:8080/"
        },
        "id": "SsIF36yhIKXX",
        "outputId": "7187652b-1190-4e80-ddd1-5892ab972784"
      },
      "source": [
        "\n",
        "#grouped_df_mob_demo.show()"
      ],
      "execution_count": 20,
      "outputs": [
        {
          "output_type": "stream",
          "text": [
            "time: 1.04 ms (started: 2021-04-15 04:07:15 +00:00)\n"
          ],
          "name": "stdout"
        }
      ]
    },
    {
      "cell_type": "code",
      "metadata": {
        "colab": {
          "base_uri": "https://localhost:8080/"
        },
        "id": "EM0Wy0Cg37iH",
        "outputId": "1b3bd13c-c1aa-41c3-a45a-8016c9fe8042"
      },
      "source": [
        "# Count number of rows\n",
        "#spark.sql('SELECT COUNT(cbg) FROM demographic_mobility').show()"
      ],
      "execution_count": 21,
      "outputs": [
        {
          "output_type": "stream",
          "text": [
            "time: 1 ms (started: 2021-04-15 04:07:15 +00:00)\n"
          ],
          "name": "stdout"
        }
      ]
    },
    {
      "cell_type": "code",
      "metadata": {
        "id": "Fui4TVwTtQJV",
        "colab": {
          "base_uri": "https://localhost:8080/"
        },
        "outputId": "39daef99-b1d8-4235-bfcc-7fd96d2de5f8"
      },
      "source": [
        "df_mob_demo_high_class =  spark.sql('SELECT * FROM demographic_mobility WHERE poverty_percentage < 30')\n",
        "grouped_df_mob_demo_high_class = df_mob_demo_high_class.groupBy(\"date\").mean(\"completely_home_percentage\").withColumnRenamed('avg(completely_home_percentage)','completely_home_percentage')\n",
        "grouped_df_mob_demo_high_class.createOrReplaceTempView('mob_demo_high_class')\n",
        "\n",
        "\n",
        "#grouped_df_mob_demo_high_class.printSchema()\n",
        "\n",
        "\n",
        "df_mob_demo_middle_class =  spark.sql('SELECT * FROM demographic_mobility WHERE poverty_percentage >= 30 AND poverty_percentage < 70 ')\n",
        "grouped_df_mob_demo_middle_class = df_mob_demo_middle_class.groupBy(\"date\").mean(\"completely_home_percentage\").withColumnRenamed('avg(completely_home_percentage)','completely_home_percentage')\n",
        "grouped_df_mob_demo_middle_class.createOrReplaceTempView('mob_demo_middle_class')\n",
        "\n",
        "\n",
        "df_mob_demo_low_class =  spark.sql('SELECT * FROM demographic_mobility WHERE poverty_percentage >= 70')\n",
        "grouped_df_mob_demo_low_class = df_mob_demo_low_class.groupBy(\"date\").mean(\"completely_home_percentage\").withColumnRenamed('avg(completely_home_percentage)','completely_home_percentage')\n",
        "grouped_df_mob_demo_low_class.createOrReplaceTempView('mob_demo_low_class')\n",
        "\n",
        "#df_mob_demo_merhed = spark.sql('SELECT h.*, m.')\n",
        "\n",
        "\n",
        "grouped_df_mob_demo_combined = spark.sql(\"\"\"\n",
        "\n",
        "SELECT h.date,h.completely_home_percentage as high_comp_home_perc,\n",
        "m.completely_home_percentage as middle_comp_home_perc,\n",
        "l.completely_home_percentage as low_comp_home_perc  \n",
        "FROM mob_demo_high_class h INNER JOIN mob_demo_middle_class m ON h.date = m.date INNER JOIN mob_demo_low_class l ON m.date = l.date\n",
        "\n",
        "\"\"\")\n",
        "\n"
      ],
      "execution_count": 27,
      "outputs": [
        {
          "output_type": "stream",
          "text": [
            "time: 586 ms (started: 2021-04-15 04:08:06 +00:00)\n"
          ],
          "name": "stdout"
        }
      ]
    },
    {
      "cell_type": "code",
      "metadata": {
        "id": "6vFzCEtNukZy"
      },
      "source": [
        ""
      ],
      "execution_count": null,
      "outputs": []
    },
    {
      "cell_type": "code",
      "metadata": {
        "colab": {
          "base_uri": "https://localhost:8080/"
        },
        "id": "Sc7a6I2F6lA8",
        "outputId": "a4f695f4-bedf-484e-a55c-344e5bc29d18"
      },
      "source": [
        "#Sort by poverty\n",
        "# df_mob_demo = spark.sql('SELECT * FROM demographic_mobility ORDER BY CAST(poverty_percentage AS float) DESC')\n",
        "# df_mob_demo.createOrReplaceTempView('demographic_mobility')\n",
        "# df_mob_demo.show()"
      ],
      "execution_count": 23,
      "outputs": [
        {
          "output_type": "stream",
          "text": [
            "time: 4.73 ms (started: 2021-04-15 04:07:15 +00:00)\n"
          ],
          "name": "stdout"
        }
      ]
    },
    {
      "cell_type": "code",
      "metadata": {
        "id": "oEvvbPFXJG_g",
        "colab": {
          "base_uri": "https://localhost:8080/"
        },
        "outputId": "1b778c88-d209-4aaa-bf01-3efbe4269b03"
      },
      "source": [
        "grouped_df_mob_demo_combined.show()\n"
      ],
      "execution_count": 29,
      "outputs": [
        {
          "output_type": "stream",
          "text": [
            "+--------------------+-------------------+---------------------+------------------+\n",
            "|                date|high_comp_home_perc|middle_comp_home_perc|low_comp_home_perc|\n",
            "+--------------------+-------------------+---------------------+------------------+\n",
            "|2020-02-26T00:00:...|  21.44108061674032|   25.201892355848827|22.889355039585393|\n",
            "|2020-07-03T00:00:...| 37.182673621044614|   39.437899501922836| 35.58971321673658|\n",
            "|2020-10-18T00:00:...|  37.91325824809544|    41.38024430431875| 36.92008749914052|\n",
            "|2020-07-14T00:00:...|  37.06030552656261|   38.806733019017855|34.110554258248364|\n",
            "|2020-03-01T00:00:...|  34.68441769282517|    39.01398352324866| 39.45405865775192|\n",
            "|2020-04-09T00:00:...|  56.00597441488781|    57.68649004676348| 52.24652971742401|\n",
            "|2020-10-09T00:00:...| 31.536565476466453|   34.296374770547665| 32.22105165455139|\n",
            "|2020-11-22T00:00:...| 36.743866536295286|    39.83151681506591|37.653575463957594|\n",
            "|2020-12-27T00:00:...|  37.17458663545729|    40.64745707020377| 34.59179776422094|\n",
            "|2020-03-30T00:00:...|  51.34832816800872|    52.47251050919677| 47.91005577460919|\n",
            "|2020-05-10T00:00:...| 50.649216480010224|    52.85216614877907|52.497344159160924|\n",
            "|2020-11-27T00:00:...|  31.18529204591903|    34.26204623612713|  27.7102044413585|\n",
            "|2020-07-22T00:00:...|  38.61887791321782|    40.19761901465671|38.586484129584726|\n",
            "|2020-07-31T00:00:...|  34.31531400991866|   36.185959588245446|36.688370363184944|\n",
            "|2020-10-23T00:00:...|  33.07391099916121|    35.13281843249894|32.071672837123096|\n",
            "|2020-09-04T00:00:...| 31.465527568615737|    34.10047411501727|31.934470962233693|\n",
            "|2020-06-05T00:00:...| 45.457332353643544|    45.84219402547515|41.609506216741416|\n",
            "|2020-06-10T00:00:...|  44.17443889282228|    44.80960823468321| 41.15894442647728|\n",
            "|2020-08-21T00:00:...|  32.26482883550927|   34.597940636732915| 32.06867970950368|\n",
            "|2020-02-18T00:00:...| 24.474477832913696|   29.078112368622417|26.676568591048227|\n",
            "+--------------------+-------------------+---------------------+------------------+\n",
            "only showing top 20 rows\n",
            "\n",
            "time: 7min 42s (started: 2021-04-15 04:11:55 +00:00)\n"
          ],
          "name": "stdout"
        }
      ]
    },
    {
      "cell_type": "code",
      "metadata": {
        "colab": {
          "base_uri": "https://localhost:8080/"
        },
        "id": "X4pxaYgQx3I4",
        "outputId": "2e8ae940-64b3-4d64-c778-e197db253cd1"
      },
      "source": [
        "count = grouped_df_mob_demo_combined.count()"
      ],
      "execution_count": 30,
      "outputs": [
        {
          "output_type": "stream",
          "text": [
            "time: 4min 48s (started: 2021-04-15 04:28:02 +00:00)\n"
          ],
          "name": "stdout"
        }
      ]
    },
    {
      "cell_type": "code",
      "metadata": {
        "colab": {
          "base_uri": "https://localhost:8080/"
        },
        "id": "5aOIrv7K0HVq",
        "outputId": "fbcfeae2-f8f6-4ce2-8cc2-45c4814b7b18"
      },
      "source": [
        "print(\"{}\".format(count))"
      ],
      "execution_count": 31,
      "outputs": [
        {
          "output_type": "stream",
          "text": [
            "366\n",
            "time: 1.72 ms (started: 2021-04-15 04:36:15 +00:00)\n"
          ],
          "name": "stdout"
        }
      ]
    },
    {
      "cell_type": "code",
      "metadata": {
        "colab": {
          "base_uri": "https://localhost:8080/",
          "height": 441
        },
        "id": "V4EHlNdfSVal",
        "outputId": "cfff6310-bb5d-4938-ebec-fe423fe156bc"
      },
      "source": [
        "grouped_df_mob_demo_combined_pandas = grouped_df_mob_demo_combined.toPandas()\n",
        "grouped_df_mob_demo_combined_pandas"
      ],
      "execution_count": 34,
      "outputs": [
        {
          "output_type": "execute_result",
          "data": {
            "text/html": [
              "<div>\n",
              "<style scoped>\n",
              "    .dataframe tbody tr th:only-of-type {\n",
              "        vertical-align: middle;\n",
              "    }\n",
              "\n",
              "    .dataframe tbody tr th {\n",
              "        vertical-align: top;\n",
              "    }\n",
              "\n",
              "    .dataframe thead th {\n",
              "        text-align: right;\n",
              "    }\n",
              "</style>\n",
              "<table border=\"1\" class=\"dataframe\">\n",
              "  <thead>\n",
              "    <tr style=\"text-align: right;\">\n",
              "      <th></th>\n",
              "      <th>date</th>\n",
              "      <th>high_comp_home_perc</th>\n",
              "      <th>middle_comp_home_perc</th>\n",
              "      <th>low_comp_home_perc</th>\n",
              "    </tr>\n",
              "  </thead>\n",
              "  <tbody>\n",
              "    <tr>\n",
              "      <th>0</th>\n",
              "      <td>2020-02-26T00:00:00-05:00</td>\n",
              "      <td>21.441081</td>\n",
              "      <td>25.201892</td>\n",
              "      <td>22.889355</td>\n",
              "    </tr>\n",
              "    <tr>\n",
              "      <th>1</th>\n",
              "      <td>2020-07-03T00:00:00-04:00</td>\n",
              "      <td>37.182674</td>\n",
              "      <td>39.437900</td>\n",
              "      <td>35.589713</td>\n",
              "    </tr>\n",
              "    <tr>\n",
              "      <th>2</th>\n",
              "      <td>2020-10-18T00:00:00-04:00</td>\n",
              "      <td>37.913258</td>\n",
              "      <td>41.380244</td>\n",
              "      <td>36.920087</td>\n",
              "    </tr>\n",
              "    <tr>\n",
              "      <th>3</th>\n",
              "      <td>2020-07-14T00:00:00-04:00</td>\n",
              "      <td>37.060306</td>\n",
              "      <td>38.806733</td>\n",
              "      <td>34.110554</td>\n",
              "    </tr>\n",
              "    <tr>\n",
              "      <th>4</th>\n",
              "      <td>2020-03-01T00:00:00-05:00</td>\n",
              "      <td>34.684418</td>\n",
              "      <td>39.013984</td>\n",
              "      <td>39.454059</td>\n",
              "    </tr>\n",
              "    <tr>\n",
              "      <th>...</th>\n",
              "      <td>...</td>\n",
              "      <td>...</td>\n",
              "      <td>...</td>\n",
              "      <td>...</td>\n",
              "    </tr>\n",
              "    <tr>\n",
              "      <th>361</th>\n",
              "      <td>2020-04-16T00:00:00-04:00</td>\n",
              "      <td>54.274207</td>\n",
              "      <td>55.907929</td>\n",
              "      <td>51.203304</td>\n",
              "    </tr>\n",
              "    <tr>\n",
              "      <th>362</th>\n",
              "      <td>2020-04-30T00:00:00-04:00</td>\n",
              "      <td>49.950118</td>\n",
              "      <td>51.735755</td>\n",
              "      <td>46.371618</td>\n",
              "    </tr>\n",
              "    <tr>\n",
              "      <th>363</th>\n",
              "      <td>2020-06-14T00:00:00-04:00</td>\n",
              "      <td>42.583273</td>\n",
              "      <td>45.026089</td>\n",
              "      <td>42.473243</td>\n",
              "    </tr>\n",
              "    <tr>\n",
              "      <th>364</th>\n",
              "      <td>2020-12-14T00:00:00-05:00</td>\n",
              "      <td>40.202016</td>\n",
              "      <td>41.640019</td>\n",
              "      <td>37.635765</td>\n",
              "    </tr>\n",
              "    <tr>\n",
              "      <th>365</th>\n",
              "      <td>2020-12-22T00:00:00-05:00</td>\n",
              "      <td>34.649609</td>\n",
              "      <td>36.930902</td>\n",
              "      <td>33.134461</td>\n",
              "    </tr>\n",
              "  </tbody>\n",
              "</table>\n",
              "<p>366 rows × 4 columns</p>\n",
              "</div>"
            ],
            "text/plain": [
              "                          date  ...  low_comp_home_perc\n",
              "0    2020-02-26T00:00:00-05:00  ...           22.889355\n",
              "1    2020-07-03T00:00:00-04:00  ...           35.589713\n",
              "2    2020-10-18T00:00:00-04:00  ...           36.920087\n",
              "3    2020-07-14T00:00:00-04:00  ...           34.110554\n",
              "4    2020-03-01T00:00:00-05:00  ...           39.454059\n",
              "..                         ...  ...                 ...\n",
              "361  2020-04-16T00:00:00-04:00  ...           51.203304\n",
              "362  2020-04-30T00:00:00-04:00  ...           46.371618\n",
              "363  2020-06-14T00:00:00-04:00  ...           42.473243\n",
              "364  2020-12-14T00:00:00-05:00  ...           37.635765\n",
              "365  2020-12-22T00:00:00-05:00  ...           33.134461\n",
              "\n",
              "[366 rows x 4 columns]"
            ]
          },
          "metadata": {
            "tags": []
          },
          "execution_count": 34
        },
        {
          "output_type": "stream",
          "text": [
            "time: 9.65 s (started: 2021-04-15 04:45:58 +00:00)\n"
          ],
          "name": "stdout"
        }
      ]
    },
    {
      "cell_type": "code",
      "metadata": {
        "id": "_qgAuW8GErIq"
      },
      "source": [
        ""
      ],
      "execution_count": null,
      "outputs": []
    },
    {
      "cell_type": "markdown",
      "metadata": {
        "id": "stkLRnaXuzBm"
      },
      "source": [
        "---\n",
        "graphs \n",
        "\n",
        "---"
      ]
    },
    {
      "cell_type": "code",
      "metadata": {
        "colab": {
          "base_uri": "https://localhost:8080/",
          "height": 562
        },
        "id": "pTTAkF1Iwesw",
        "outputId": "93e69000-1de8-4a44-a275-5806e6f316c0"
      },
      "source": [
        "base = alt.Chart(grouped_df_mob_demo_combined_pandas.reset_index()).encode(x='date')\n",
        "\n",
        "alt.layer(\n",
        "    base.mark_line(color='blue').encode(y='high_comp_home_perc'),\n",
        "    base.mark_line(color='red').encode(y='middle_comp_home_perc'),\n",
        "    base.mark_line(color='green').encode(y='low_comp_home_perc')\n",
        "\n",
        ")"
      ],
      "execution_count": 39,
      "outputs": [
        {
          "output_type": "execute_result",
          "data": {
            "text/plain": [
              "alt.LayerChart(...)"
            ],
            "text/html": [
              "\n",
              "<div id=\"altair-viz-0edeec431e234a718f8e5dd3abf299a5\"></div>\n",
              "<script type=\"text/javascript\">\n",
              "  (function(spec, embedOpt){\n",
              "    let outputDiv = document.currentScript.previousElementSibling;\n",
              "    if (outputDiv.id !== \"altair-viz-0edeec431e234a718f8e5dd3abf299a5\") {\n",
              "      outputDiv = document.getElementById(\"altair-viz-0edeec431e234a718f8e5dd3abf299a5\");\n",
              "    }\n",
              "    const paths = {\n",
              "      \"vega\": \"https://cdn.jsdelivr.net/npm//vega@5?noext\",\n",
              "      \"vega-lib\": \"https://cdn.jsdelivr.net/npm//vega-lib?noext\",\n",
              "      \"vega-lite\": \"https://cdn.jsdelivr.net/npm//vega-lite@4.8.1?noext\",\n",
              "      \"vega-embed\": \"https://cdn.jsdelivr.net/npm//vega-embed@6?noext\",\n",
              "    };\n",
              "\n",
              "    function loadScript(lib) {\n",
              "      return new Promise(function(resolve, reject) {\n",
              "        var s = document.createElement('script');\n",
              "        s.src = paths[lib];\n",
              "        s.async = true;\n",
              "        s.onload = () => resolve(paths[lib]);\n",
              "        s.onerror = () => reject(`Error loading script: ${paths[lib]}`);\n",
              "        document.getElementsByTagName(\"head\")[0].appendChild(s);\n",
              "      });\n",
              "    }\n",
              "\n",
              "    function showError(err) {\n",
              "      outputDiv.innerHTML = `<div class=\"error\" style=\"color:red;\">${err}</div>`;\n",
              "      throw err;\n",
              "    }\n",
              "\n",
              "    function displayChart(vegaEmbed) {\n",
              "      vegaEmbed(outputDiv, spec, embedOpt)\n",
              "        .catch(err => showError(`Javascript Error: ${err.message}<br>This usually means there's a typo in your chart specification. See the javascript console for the full traceback.`));\n",
              "    }\n",
              "\n",
              "    if(typeof define === \"function\" && define.amd) {\n",
              "      requirejs.config({paths});\n",
              "      require([\"vega-embed\"], displayChart, err => showError(`Error loading script: ${err.message}`));\n",
              "    } else if (typeof vegaEmbed === \"function\") {\n",
              "      displayChart(vegaEmbed);\n",
              "    } else {\n",
              "      loadScript(\"vega\")\n",
              "        .then(() => loadScript(\"vega-lite\"))\n",
              "        .then(() => loadScript(\"vega-embed\"))\n",
              "        .catch(showError)\n",
              "        .then(() => displayChart(vegaEmbed));\n",
              "    }\n",
              "  })({\"config\": {\"view\": {\"continuousWidth\": 400, \"continuousHeight\": 300}}, \"layer\": [{\"mark\": {\"type\": \"line\", \"color\": \"blue\"}, \"encoding\": {\"x\": {\"type\": \"nominal\", \"field\": \"date\"}, \"y\": {\"type\": \"quantitative\", \"field\": \"high_comp_home_perc\"}}}, {\"mark\": {\"type\": \"line\", \"color\": \"red\"}, \"encoding\": {\"x\": {\"type\": \"nominal\", \"field\": \"date\"}, \"y\": {\"type\": \"quantitative\", \"field\": \"middle_comp_home_perc\"}}}, {\"mark\": {\"type\": \"line\", \"color\": \"green\"}, \"encoding\": {\"x\": {\"type\": \"nominal\", \"field\": \"date\"}, \"y\": {\"type\": \"quantitative\", \"field\": \"low_comp_home_perc\"}}}], \"data\": {\"name\": \"data-7dffef7c929942ffbf5e4970082f0c68\"}, \"$schema\": \"https://vega.github.io/schema/vega-lite/v4.8.1.json\", \"datasets\": {\"data-7dffef7c929942ffbf5e4970082f0c68\": [{\"index\": 0, \"date\": \"2020-02-26T00:00:00-05:00\", \"high_comp_home_perc\": 21.44108061674032, \"middle_comp_home_perc\": 25.201892355848827, \"low_comp_home_perc\": 22.889355039585393}, {\"index\": 1, \"date\": \"2020-07-03T00:00:00-04:00\", \"high_comp_home_perc\": 37.182673621044614, \"middle_comp_home_perc\": 39.437899501922836, \"low_comp_home_perc\": 35.58971321673658}, {\"index\": 2, \"date\": \"2020-10-18T00:00:00-04:00\", \"high_comp_home_perc\": 37.91325824809544, \"middle_comp_home_perc\": 41.38024430431875, \"low_comp_home_perc\": 36.92008749914052}, {\"index\": 3, \"date\": \"2020-07-14T00:00:00-04:00\", \"high_comp_home_perc\": 37.06030552656261, \"middle_comp_home_perc\": 38.806733019017855, \"low_comp_home_perc\": 34.110554258248364}, {\"index\": 4, \"date\": \"2020-03-01T00:00:00-05:00\", \"high_comp_home_perc\": 34.68441769282517, \"middle_comp_home_perc\": 39.01398352324866, \"low_comp_home_perc\": 39.45405865775192}, {\"index\": 5, \"date\": \"2020-04-09T00:00:00-04:00\", \"high_comp_home_perc\": 56.00597441488781, \"middle_comp_home_perc\": 57.68649004676348, \"low_comp_home_perc\": 52.24652971742401}, {\"index\": 6, \"date\": \"2020-10-09T00:00:00-04:00\", \"high_comp_home_perc\": 31.536565476466453, \"middle_comp_home_perc\": 34.296374770547665, \"low_comp_home_perc\": 32.22105165455139}, {\"index\": 7, \"date\": \"2020-11-22T00:00:00-05:00\", \"high_comp_home_perc\": 36.743866536295286, \"middle_comp_home_perc\": 39.83151681506591, \"low_comp_home_perc\": 37.653575463957594}, {\"index\": 8, \"date\": \"2020-12-27T00:00:00-05:00\", \"high_comp_home_perc\": 37.17458663545729, \"middle_comp_home_perc\": 40.64745707020377, \"low_comp_home_perc\": 34.59179776422094}, {\"index\": 9, \"date\": \"2020-03-30T00:00:00-04:00\", \"high_comp_home_perc\": 51.34832816800872, \"middle_comp_home_perc\": 52.47251050919677, \"low_comp_home_perc\": 47.91005577460919}, {\"index\": 10, \"date\": \"2020-05-10T00:00:00-04:00\", \"high_comp_home_perc\": 50.649216480010224, \"middle_comp_home_perc\": 52.85216614877907, \"low_comp_home_perc\": 52.497344159160924}, {\"index\": 11, \"date\": \"2020-11-27T00:00:00-05:00\", \"high_comp_home_perc\": 31.18529204591903, \"middle_comp_home_perc\": 34.26204623612713, \"low_comp_home_perc\": 27.7102044413585}, {\"index\": 12, \"date\": \"2020-07-22T00:00:00-04:00\", \"high_comp_home_perc\": 38.61887791321782, \"middle_comp_home_perc\": 40.19761901465671, \"low_comp_home_perc\": 38.586484129584726}, {\"index\": 13, \"date\": \"2020-07-31T00:00:00-04:00\", \"high_comp_home_perc\": 34.31531400991866, \"middle_comp_home_perc\": 36.185959588245446, \"low_comp_home_perc\": 36.688370363184944}, {\"index\": 14, \"date\": \"2020-10-23T00:00:00-04:00\", \"high_comp_home_perc\": 33.07391099916121, \"middle_comp_home_perc\": 35.13281843249894, \"low_comp_home_perc\": 32.071672837123096}, {\"index\": 15, \"date\": \"2020-09-04T00:00:00-04:00\", \"high_comp_home_perc\": 31.465527568615737, \"middle_comp_home_perc\": 34.10047411501727, \"low_comp_home_perc\": 31.934470962233693}, {\"index\": 16, \"date\": \"2020-06-05T00:00:00-04:00\", \"high_comp_home_perc\": 45.457332353643544, \"middle_comp_home_perc\": 45.84219402547515, \"low_comp_home_perc\": 41.609506216741416}, {\"index\": 17, \"date\": \"2020-06-10T00:00:00-04:00\", \"high_comp_home_perc\": 44.17443889282228, \"middle_comp_home_perc\": 44.80960823468321, \"low_comp_home_perc\": 41.15894442647728}, {\"index\": 18, \"date\": \"2020-08-21T00:00:00-04:00\", \"high_comp_home_perc\": 32.26482883550927, \"middle_comp_home_perc\": 34.597940636732915, \"low_comp_home_perc\": 32.06867970950368}, {\"index\": 19, \"date\": \"2020-02-18T00:00:00-05:00\", \"high_comp_home_perc\": 24.474477832913696, \"middle_comp_home_perc\": 29.078112368622417, \"low_comp_home_perc\": 26.676568591048227}, {\"index\": 20, \"date\": \"2020-06-04T00:00:00-04:00\", \"high_comp_home_perc\": 44.00934728748184, \"middle_comp_home_perc\": 44.53674793983606, \"low_comp_home_perc\": 38.58646128747882}, {\"index\": 21, \"date\": \"2020-10-22T00:00:00-04:00\", \"high_comp_home_perc\": 34.46764831314999, \"middle_comp_home_perc\": 36.61087596513063, \"low_comp_home_perc\": 33.21555937587779}, {\"index\": 22, \"date\": \"2020-03-09T00:00:00-04:00\", \"high_comp_home_perc\": 23.22293412849315, \"middle_comp_home_perc\": 26.936539795215204, \"low_comp_home_perc\": 25.659754168967748}, {\"index\": 23, \"date\": \"2020-03-10T00:00:00-04:00\", \"high_comp_home_perc\": 24.758406193078358, \"middle_comp_home_perc\": 28.412345261308424, \"low_comp_home_perc\": 25.73252854869608}, {\"index\": 24, \"date\": \"2020-03-04T00:00:00-05:00\", \"high_comp_home_perc\": 23.929898051007346, \"middle_comp_home_perc\": 27.840098157362775, \"low_comp_home_perc\": 27.312845988815646}, {\"index\": 25, \"date\": \"2020-05-18T00:00:00-04:00\", \"high_comp_home_perc\": 50.30584232640905, \"middle_comp_home_perc\": 50.24238781667832, \"low_comp_home_perc\": 45.151666452776105}, {\"index\": 26, \"date\": \"2020-05-30T00:00:00-04:00\", \"high_comp_home_perc\": 41.190161826285006, \"middle_comp_home_perc\": 43.16758941577032, \"low_comp_home_perc\": 38.13354216671792}, {\"index\": 27, \"date\": \"2020-06-28T00:00:00-04:00\", \"high_comp_home_perc\": 40.72835686318908, \"middle_comp_home_perc\": 43.33827362494878, \"low_comp_home_perc\": 41.66496293763094}, {\"index\": 28, \"date\": \"2020-08-20T00:00:00-04:00\", \"high_comp_home_perc\": 32.92086928330855, \"middle_comp_home_perc\": 35.04167087763385, \"low_comp_home_perc\": 29.64693441709168}, {\"index\": 29, \"date\": \"2020-09-19T00:00:00-04:00\", \"high_comp_home_perc\": 32.18451101963004, \"middle_comp_home_perc\": 35.30357871625993, \"low_comp_home_perc\": 31.15552550688436}, {\"index\": 30, \"date\": \"2020-05-13T00:00:00-04:00\", \"high_comp_home_perc\": 51.19078517422221, \"middle_comp_home_perc\": 51.440693940281996, \"low_comp_home_perc\": 45.80599929591984}, {\"index\": 31, \"date\": \"2020-07-09T00:00:00-04:00\", \"high_comp_home_perc\": 37.01472073318658, \"middle_comp_home_perc\": 38.63668432056508, \"low_comp_home_perc\": 32.18243536270238}, {\"index\": 32, \"date\": \"2020-08-30T00:00:00-04:00\", \"high_comp_home_perc\": 35.714798228193324, \"middle_comp_home_perc\": 38.65119561575773, \"low_comp_home_perc\": 38.183432681920934}, {\"index\": 33, \"date\": \"2020-09-25T00:00:00-04:00\", \"high_comp_home_perc\": 32.04363957280714, \"middle_comp_home_perc\": 34.2109136232387, \"low_comp_home_perc\": 35.27653563362441}, {\"index\": 34, \"date\": \"2020-01-23T00:00:00-05:00\", \"high_comp_home_perc\": 22.89384336959321, \"middle_comp_home_perc\": 27.51786920878457, \"low_comp_home_perc\": 24.984896836513354}, {\"index\": 35, \"date\": \"2020-05-24T00:00:00-04:00\", \"high_comp_home_perc\": 46.318163382387624, \"middle_comp_home_perc\": 48.793120565230076, \"low_comp_home_perc\": 46.56599260950857}, {\"index\": 36, \"date\": \"2020-07-18T00:00:00-04:00\", \"high_comp_home_perc\": 37.18594372569908, \"middle_comp_home_perc\": 39.47507522533292, \"low_comp_home_perc\": 37.64985559921777}, {\"index\": 37, \"date\": \"2020-09-21T00:00:00-04:00\", \"high_comp_home_perc\": 37.195901619484964, \"middle_comp_home_perc\": 39.08864125024529, \"low_comp_home_perc\": 39.23587637703943}, {\"index\": 38, \"date\": \"2020-02-02T00:00:00-05:00\", \"high_comp_home_perc\": 34.54297025608587, \"middle_comp_home_perc\": 40.1645311908736, \"low_comp_home_perc\": 39.533272459090306}, {\"index\": 39, \"date\": \"2020-03-22T00:00:00-04:00\", \"high_comp_home_perc\": 49.39639329729503, \"middle_comp_home_perc\": 51.80671987433546, \"low_comp_home_perc\": 49.13944866666222}, {\"index\": 40, \"date\": \"2020-04-14T00:00:00-04:00\", \"high_comp_home_perc\": 53.120465699059956, \"middle_comp_home_perc\": 54.96800131374385, \"low_comp_home_perc\": 50.284077171782556}, {\"index\": 41, \"date\": \"2020-06-08T00:00:00-04:00\", \"high_comp_home_perc\": 42.813704406020584, \"middle_comp_home_perc\": 43.04450058172766, \"low_comp_home_perc\": 39.73668592532728}, {\"index\": 42, \"date\": \"2020-01-30T00:00:00-05:00\", \"high_comp_home_perc\": 20.76275608918573, \"middle_comp_home_perc\": 24.943831619643554, \"low_comp_home_perc\": 24.732768631629497}, {\"index\": 43, \"date\": \"2020-12-23T00:00:00-05:00\", \"high_comp_home_perc\": 31.174476624633954, \"middle_comp_home_perc\": 33.77063243127005, \"low_comp_home_perc\": 30.127662772403763}, {\"index\": 44, \"date\": \"2020-06-12T00:00:00-04:00\", \"high_comp_home_perc\": 41.45813934378415, \"middle_comp_home_perc\": 42.876005995079616, \"low_comp_home_perc\": 42.46400269630749}, {\"index\": 45, \"date\": \"2020-02-27T00:00:00-05:00\", \"high_comp_home_perc\": 21.694954027052603, \"middle_comp_home_perc\": 25.991654677764192, \"low_comp_home_perc\": 24.47736211908067}, {\"index\": 46, \"date\": \"2020-06-15T00:00:00-04:00\", \"high_comp_home_perc\": 44.554843357674685, \"middle_comp_home_perc\": 45.237228828237846, \"low_comp_home_perc\": 43.63677135047501}, {\"index\": 47, \"date\": \"2020-09-13T00:00:00-04:00\", \"high_comp_home_perc\": 38.45645252242755, \"middle_comp_home_perc\": 41.450051768678925, \"low_comp_home_perc\": 37.81329968158542}, {\"index\": 48, \"date\": \"2020-05-19T00:00:00-04:00\", \"high_comp_home_perc\": 51.4423292590267, \"middle_comp_home_perc\": 51.48397339066739, \"low_comp_home_perc\": 43.694023760576044}, {\"index\": 49, \"date\": \"2020-11-12T00:00:00-05:00\", \"high_comp_home_perc\": 36.20608750445657, \"middle_comp_home_perc\": 38.59546098073916, \"low_comp_home_perc\": 35.14231415674994}, {\"index\": 50, \"date\": \"2020-04-03T00:00:00-04:00\", \"high_comp_home_perc\": 56.90101907702193, \"middle_comp_home_perc\": 57.636274379383984, \"low_comp_home_perc\": 55.32399209435592}, {\"index\": 51, \"date\": \"2020-07-26T00:00:00-04:00\", \"high_comp_home_perc\": 38.38699985521384, \"middle_comp_home_perc\": 41.36218967888282, \"low_comp_home_perc\": 41.520363552246764}, {\"index\": 52, \"date\": \"2020-09-22T00:00:00-04:00\", \"high_comp_home_perc\": 35.75575128978421, \"middle_comp_home_perc\": 37.832239177156964, \"low_comp_home_perc\": 36.30037918149365}, {\"index\": 53, \"date\": \"2020-10-16T00:00:00-04:00\", \"high_comp_home_perc\": 36.15875948432517, \"middle_comp_home_perc\": 38.473905681792154, \"low_comp_home_perc\": 37.76022738671149}, {\"index\": 54, \"date\": \"2020-10-17T00:00:00-04:00\", \"high_comp_home_perc\": 32.13748988684669, \"middle_comp_home_perc\": 35.71892143565423, \"low_comp_home_perc\": 36.161115086408905}, {\"index\": 55, \"date\": \"2020-06-13T00:00:00-04:00\", \"high_comp_home_perc\": 40.1733151498108, \"middle_comp_home_perc\": 42.16385655475476, \"low_comp_home_perc\": 41.993123340430586}, {\"index\": 56, \"date\": \"2020-06-27T00:00:00-04:00\", \"high_comp_home_perc\": 41.010731349876345, \"middle_comp_home_perc\": 43.46669436499113, \"low_comp_home_perc\": 37.25702013532362}, {\"index\": 57, \"date\": \"2020-11-25T00:00:00-05:00\", \"high_comp_home_perc\": 35.53768860807544, \"middle_comp_home_perc\": 37.857278863726165, \"low_comp_home_perc\": 35.19110255897759}, {\"index\": 58, \"date\": \"2020-05-09T00:00:00-04:00\", \"high_comp_home_perc\": 52.95915695099816, \"middle_comp_home_perc\": 53.56594751478569, \"low_comp_home_perc\": 47.242550939370055}, {\"index\": 59, \"date\": \"2020-09-02T00:00:00-04:00\", \"high_comp_home_perc\": 34.12975810101359, \"middle_comp_home_perc\": 37.19616786081707, \"low_comp_home_perc\": 34.10854299872376}, {\"index\": 60, \"date\": \"2020-11-04T00:00:00-05:00\", \"high_comp_home_perc\": 34.74737504486937, \"middle_comp_home_perc\": 36.876997198749585, \"low_comp_home_perc\": 34.43837905931975}, {\"index\": 61, \"date\": \"2020-12-29T00:00:00-05:00\", \"high_comp_home_perc\": 33.96709629668852, \"middle_comp_home_perc\": 37.16892673392616, \"low_comp_home_perc\": 33.236795643968996}, {\"index\": 62, \"date\": \"2020-04-06T00:00:00-04:00\", \"high_comp_home_perc\": 54.161540883347435, \"middle_comp_home_perc\": 55.864126353184595, \"low_comp_home_perc\": 53.13579590846063}, {\"index\": 63, \"date\": \"2020-07-08T00:00:00-04:00\", \"high_comp_home_perc\": 38.02097237147757, \"middle_comp_home_perc\": 39.62247107976846, \"low_comp_home_perc\": 33.46983967801936}, {\"index\": 64, \"date\": \"2020-09-26T00:00:00-04:00\", \"high_comp_home_perc\": 32.664018858447044, \"middle_comp_home_perc\": 36.21109017330882, \"low_comp_home_perc\": 35.99879206681362}, {\"index\": 65, \"date\": \"2020-01-21T00:00:00-05:00\", \"high_comp_home_perc\": 23.677734729676796, \"middle_comp_home_perc\": 28.80872043345436, \"low_comp_home_perc\": 25.65581595022436}, {\"index\": 66, \"date\": \"2020-07-16T00:00:00-04:00\", \"high_comp_home_perc\": 37.29052410452459, \"middle_comp_home_perc\": 38.696557934203774, \"low_comp_home_perc\": 33.86416691626281}, {\"index\": 67, \"date\": \"2020-02-04T00:00:00-05:00\", \"high_comp_home_perc\": 23.870976566314727, \"middle_comp_home_perc\": 28.61614990517607, \"low_comp_home_perc\": 28.8467525442193}, {\"index\": 68, \"date\": \"2020-07-02T00:00:00-04:00\", \"high_comp_home_perc\": 37.051287139218765, \"middle_comp_home_perc\": 39.025826592832004, \"low_comp_home_perc\": 36.09005105659201}, {\"index\": 69, \"date\": \"2020-07-17T00:00:00-04:00\", \"high_comp_home_perc\": 38.23385602967157, \"middle_comp_home_perc\": 40.05522699940186, \"low_comp_home_perc\": 35.91864986252331}, {\"index\": 70, \"date\": \"2020-05-15T00:00:00-04:00\", \"high_comp_home_perc\": 47.67656903446165, \"middle_comp_home_perc\": 48.26225893526541, \"low_comp_home_perc\": 42.505522849473316}, {\"index\": 71, \"date\": \"2020-03-19T00:00:00-04:00\", \"high_comp_home_perc\": 42.68260890685276, \"middle_comp_home_perc\": 44.14174364527633, \"low_comp_home_perc\": 36.97212291262521}, {\"index\": 72, \"date\": \"2020-02-09T00:00:00-05:00\", \"high_comp_home_perc\": 31.816142417749052, \"middle_comp_home_perc\": 37.614444933353354, \"low_comp_home_perc\": 35.91968709402908}, {\"index\": 73, \"date\": \"2020-11-02T00:00:00-05:00\", \"high_comp_home_perc\": 36.31185858625757, \"middle_comp_home_perc\": 38.49419853071408, \"low_comp_home_perc\": 35.619889756693496}, {\"index\": 74, \"date\": \"2020-05-16T00:00:00-04:00\", \"high_comp_home_perc\": 46.334196395025884, \"middle_comp_home_perc\": 48.200205832626324, \"low_comp_home_perc\": 43.00543423299122}, {\"index\": 75, \"date\": \"2020-09-17T00:00:00-04:00\", \"high_comp_home_perc\": 36.14264597363214, \"middle_comp_home_perc\": 38.11633288802753, \"low_comp_home_perc\": 37.448340770991145}, {\"index\": 76, \"date\": \"2020-11-18T00:00:00-05:00\", \"high_comp_home_perc\": 36.80056772745854, \"middle_comp_home_perc\": 39.421692666882976, \"low_comp_home_perc\": 35.49140702531225}, {\"index\": 77, \"date\": \"2020-04-02T00:00:00-04:00\", \"high_comp_home_perc\": 56.03050440627793, \"middle_comp_home_perc\": 57.128782144481285, \"low_comp_home_perc\": 50.053734967955236}, {\"index\": 78, \"date\": \"2020-07-05T00:00:00-04:00\", \"high_comp_home_perc\": 40.45117607741707, \"middle_comp_home_perc\": 42.03431069242601, \"low_comp_home_perc\": 36.386219068869146}, {\"index\": 79, \"date\": \"2020-11-26T00:00:00-05:00\", \"high_comp_home_perc\": 37.48995184518282, \"middle_comp_home_perc\": 38.74130912972352, \"low_comp_home_perc\": 33.97025818009074}, {\"index\": 80, \"date\": \"2020-05-03T00:00:00-04:00\", \"high_comp_home_perc\": 52.63840259074461, \"middle_comp_home_perc\": 54.97903576773491, \"low_comp_home_perc\": 49.37638918790879}, {\"index\": 81, \"date\": \"2020-08-02T00:00:00-04:00\", \"high_comp_home_perc\": 38.223617065385845, \"middle_comp_home_perc\": 40.312697324404276, \"low_comp_home_perc\": 37.27142747263397}, {\"index\": 82, \"date\": \"2020-08-26T00:00:00-04:00\", \"high_comp_home_perc\": 33.71097144339937, \"middle_comp_home_perc\": 35.94068501873999, \"low_comp_home_perc\": 33.1037558726466}, {\"index\": 83, \"date\": \"2020-01-20T00:00:00-05:00\", \"high_comp_home_perc\": 31.424866526655077, \"middle_comp_home_perc\": 37.31742390336169, \"low_comp_home_perc\": 32.967310660711526}, {\"index\": 84, \"date\": \"2020-03-12T00:00:00-04:00\", \"high_comp_home_perc\": 27.34760234251814, \"middle_comp_home_perc\": 30.627581239254894, \"low_comp_home_perc\": 29.723147826075806}, {\"index\": 85, \"date\": \"2020-05-20T00:00:00-04:00\", \"high_comp_home_perc\": 49.56170568172942, \"middle_comp_home_perc\": 49.765582496459665, \"low_comp_home_perc\": 46.71618295761278}, {\"index\": 86, \"date\": \"2020-01-13T00:00:00-05:00\", \"high_comp_home_perc\": 25.033902997678204, \"middle_comp_home_perc\": 29.48670707162556, \"low_comp_home_perc\": 27.98730361501279}, {\"index\": 87, \"date\": \"2020-05-29T00:00:00-04:00\", \"high_comp_home_perc\": 42.96234047043626, \"middle_comp_home_perc\": 43.961769618292635, \"low_comp_home_perc\": 39.14714182323802}, {\"index\": 88, \"date\": \"2020-04-18T00:00:00-04:00\", \"high_comp_home_perc\": 54.05066462815161, \"middle_comp_home_perc\": 56.20305397293627, \"low_comp_home_perc\": 50.57089697395005}, {\"index\": 89, \"date\": \"2020-03-24T00:00:00-04:00\", \"high_comp_home_perc\": 47.9238208952125, \"middle_comp_home_perc\": 50.07722838783082, \"low_comp_home_perc\": 45.80148671651197}, {\"index\": 90, \"date\": \"2020-08-31T00:00:00-04:00\", \"high_comp_home_perc\": 33.5798650523431, \"middle_comp_home_perc\": 35.88968787051588, \"low_comp_home_perc\": 34.076450562634584}, {\"index\": 91, \"date\": \"2020-10-20T00:00:00-04:00\", \"high_comp_home_perc\": 36.845182512587954, \"middle_comp_home_perc\": 38.548685056836284, \"low_comp_home_perc\": 31.936111497668346}, {\"index\": 92, \"date\": \"2020-11-21T00:00:00-05:00\", \"high_comp_home_perc\": 31.192994428905475, \"middle_comp_home_perc\": 34.50017253660005, \"low_comp_home_perc\": 29.71716258107934}, {\"index\": 93, \"date\": \"2020-10-02T00:00:00-04:00\", \"high_comp_home_perc\": 32.08099438615122, \"middle_comp_home_perc\": 34.36927686203701, \"low_comp_home_perc\": 34.51662553654927}, {\"index\": 94, \"date\": \"2020-04-11T00:00:00-04:00\", \"high_comp_home_perc\": 54.518969777901674, \"middle_comp_home_perc\": 56.930552157097374, \"low_comp_home_perc\": 50.707211218465105}, {\"index\": 95, \"date\": \"2020-06-20T00:00:00-04:00\", \"high_comp_home_perc\": 39.76253956735813, \"middle_comp_home_perc\": 41.618644813024645, \"low_comp_home_perc\": 35.81422205486764}, {\"index\": 96, \"date\": \"2020-09-12T00:00:00-04:00\", \"high_comp_home_perc\": 34.4711598791055, \"middle_comp_home_perc\": 37.22537450817486, \"low_comp_home_perc\": 34.256016845094045}, {\"index\": 97, \"date\": \"2020-12-08T00:00:00-05:00\", \"high_comp_home_perc\": 36.04516679783971, \"middle_comp_home_perc\": 37.559056254439916, \"low_comp_home_perc\": 32.022119575963096}, {\"index\": 98, \"date\": \"2020-01-18T00:00:00-05:00\", \"high_comp_home_perc\": 33.77281183418864, \"middle_comp_home_perc\": 39.17389192957682, \"low_comp_home_perc\": 36.67903718656038}, {\"index\": 99, \"date\": \"2020-05-25T00:00:00-04:00\", \"high_comp_home_perc\": 46.624093065340965, \"middle_comp_home_perc\": 48.32661279452536, \"low_comp_home_perc\": 44.17187350128802}, {\"index\": 100, \"date\": \"2020-08-07T00:00:00-04:00\", \"high_comp_home_perc\": 33.67272764129958, \"middle_comp_home_perc\": 35.894879642663525, \"low_comp_home_perc\": 31.923540521171354}, {\"index\": 101, \"date\": \"2020-08-12T00:00:00-04:00\", \"high_comp_home_perc\": 37.02041514432904, \"middle_comp_home_perc\": 39.045058917466804, \"low_comp_home_perc\": 37.557587722937456}, {\"index\": 102, \"date\": \"2020-10-05T00:00:00-04:00\", \"high_comp_home_perc\": 34.261724906685224, \"middle_comp_home_perc\": 36.11345476910558, \"low_comp_home_perc\": 31.795244724514323}, {\"index\": 103, \"date\": \"2020-10-21T00:00:00-04:00\", \"high_comp_home_perc\": 33.70476089275083, \"middle_comp_home_perc\": 35.65567837363242, \"low_comp_home_perc\": 30.825488567246097}, {\"index\": 104, \"date\": \"2020-12-20T00:00:00-05:00\", \"high_comp_home_perc\": 39.86290339068707, \"middle_comp_home_perc\": 42.10494988600037, \"low_comp_home_perc\": 35.705695880247625}, {\"index\": 105, \"date\": \"2020-02-28T00:00:00-05:00\", \"high_comp_home_perc\": 20.88482920615606, \"middle_comp_home_perc\": 24.65564895704572, \"low_comp_home_perc\": 23.598749269135656}, {\"index\": 106, \"date\": \"2020-10-06T00:00:00-04:00\", \"high_comp_home_perc\": 35.182254391346156, \"middle_comp_home_perc\": 37.142813333676095, \"low_comp_home_perc\": 35.6267145120435}, {\"index\": 107, \"date\": \"2020-01-05T00:00:00-05:00\", \"high_comp_home_perc\": 36.06870299338826, \"middle_comp_home_perc\": 40.57264351898555, \"low_comp_home_perc\": 37.71909809467301}, {\"index\": 108, \"date\": \"2020-01-24T00:00:00-05:00\", \"high_comp_home_perc\": 21.299640709505404, \"middle_comp_home_perc\": 25.698625152659304, \"low_comp_home_perc\": 25.43518558634228}, {\"index\": 109, \"date\": \"2020-03-27T00:00:00-04:00\", \"high_comp_home_perc\": 47.83224897615803, \"middle_comp_home_perc\": 50.00355396843667, \"low_comp_home_perc\": 45.86720118926709}, {\"index\": 110, \"date\": \"2020-04-25T00:00:00-04:00\", \"high_comp_home_perc\": 49.07098443291595, \"middle_comp_home_perc\": 52.40229740058452, \"low_comp_home_perc\": 46.34984494583613}, {\"index\": 111, \"date\": \"2020-05-14T00:00:00-04:00\", \"high_comp_home_perc\": 50.224410720014546, \"middle_comp_home_perc\": 50.886587414523255, \"low_comp_home_perc\": 46.51832701138474}, {\"index\": 112, \"date\": \"2020-08-10T00:00:00-04:00\", \"high_comp_home_perc\": 35.82790225358391, \"middle_comp_home_perc\": 37.71771678630293, \"low_comp_home_perc\": 32.76536662474305}, {\"index\": 113, \"date\": \"2020-08-27T00:00:00-04:00\", \"high_comp_home_perc\": 34.06270921116497, \"middle_comp_home_perc\": 36.74473946761545, \"low_comp_home_perc\": 35.10784587722465}, {\"index\": 114, \"date\": \"2020-10-27T00:00:00-04:00\", \"high_comp_home_perc\": 35.00014727199911, \"middle_comp_home_perc\": 37.93408332684143, \"low_comp_home_perc\": 35.505556754953595}, {\"index\": 115, \"date\": \"2020-01-12T00:00:00-05:00\", \"high_comp_home_perc\": 31.430599076392337, \"middle_comp_home_perc\": 35.65771648479467, \"low_comp_home_perc\": 31.74570693754481}, {\"index\": 116, \"date\": \"2020-04-01T00:00:00-04:00\", \"high_comp_home_perc\": 54.892953719799664, \"middle_comp_home_perc\": 56.05671547752318, \"low_comp_home_perc\": 50.17904499381171}, {\"index\": 117, \"date\": \"2020-08-28T00:00:00-04:00\", \"high_comp_home_perc\": 33.35747430654623, \"middle_comp_home_perc\": 36.04453775783374, \"low_comp_home_perc\": 31.673712967080032}, {\"index\": 118, \"date\": \"2020-09-08T00:00:00-04:00\", \"high_comp_home_perc\": 35.28219404979286, \"middle_comp_home_perc\": 37.34033266570293, \"low_comp_home_perc\": 36.06765065559509}, {\"index\": 119, \"date\": \"2020-12-10T00:00:00-05:00\", \"high_comp_home_perc\": 36.97630860696716, \"middle_comp_home_perc\": 38.85557285758354, \"low_comp_home_perc\": 34.3256286748984}, {\"index\": 120, \"date\": \"2020-08-03T00:00:00-04:00\", \"high_comp_home_perc\": 36.40197607049325, \"middle_comp_home_perc\": 38.52836847810023, \"low_comp_home_perc\": 34.88515707475224}, {\"index\": 121, \"date\": \"2020-11-19T00:00:00-05:00\", \"high_comp_home_perc\": 34.73654211749717, \"middle_comp_home_perc\": 37.48066365450039, \"low_comp_home_perc\": 32.57332927566927}, {\"index\": 122, \"date\": \"2020-12-16T00:00:00-05:00\", \"high_comp_home_perc\": 40.7820554873537, \"middle_comp_home_perc\": 42.06409019451157, \"low_comp_home_perc\": 39.83073008728949}, {\"index\": 123, \"date\": \"2020-09-06T00:00:00-04:00\", \"high_comp_home_perc\": 33.78606171538735, \"middle_comp_home_perc\": 37.24428559133463, \"low_comp_home_perc\": 34.26333855891874}, {\"index\": 124, \"date\": \"2020-12-21T00:00:00-05:00\", \"high_comp_home_perc\": 36.68393240163356, \"middle_comp_home_perc\": 38.597579958922644, \"low_comp_home_perc\": 33.548454310511566}, {\"index\": 125, \"date\": \"2020-05-04T00:00:00-04:00\", \"high_comp_home_perc\": 53.62445592568929, \"middle_comp_home_perc\": 53.188936201864365, \"low_comp_home_perc\": 46.8254363461369}, {\"index\": 126, \"date\": \"2020-02-25T00:00:00-05:00\", \"high_comp_home_perc\": 43.19273727520321, \"middle_comp_home_perc\": 43.31903370079494, \"low_comp_home_perc\": 39.625960628551944}, {\"index\": 127, \"date\": \"2020-11-24T00:00:00-05:00\", \"high_comp_home_perc\": 34.31431010626909, \"middle_comp_home_perc\": 36.876284323558686, \"low_comp_home_perc\": 30.782359519379213}, {\"index\": 128, \"date\": \"2020-11-30T00:00:00-05:00\", \"high_comp_home_perc\": 40.787073998844534, \"middle_comp_home_perc\": 42.40114420958457, \"low_comp_home_perc\": 36.62601103074071}, {\"index\": 129, \"date\": \"2020-12-02T00:00:00-05:00\", \"high_comp_home_perc\": 37.29703289295782, \"middle_comp_home_perc\": 38.678104328295966, \"low_comp_home_perc\": 33.84770559892197}, {\"index\": 130, \"date\": \"2020-01-27T00:00:00-05:00\", \"high_comp_home_perc\": 23.74516392996022, \"middle_comp_home_perc\": 28.204256526791106, \"low_comp_home_perc\": 26.401624550910874}, {\"index\": 131, \"date\": \"2020-02-05T00:00:00-05:00\", \"high_comp_home_perc\": 23.72461526370025, \"middle_comp_home_perc\": 28.768656748413502, \"low_comp_home_perc\": 27.89896871525907}, {\"index\": 132, \"date\": \"2020-06-03T00:00:00-04:00\", \"high_comp_home_perc\": 47.439038118389426, \"middle_comp_home_perc\": 47.59761579544198, \"low_comp_home_perc\": 41.4123001963334}, {\"index\": 133, \"date\": \"2020-01-17T00:00:00-05:00\", \"high_comp_home_perc\": 22.955703288441214, \"middle_comp_home_perc\": 28.04556141859008, \"low_comp_home_perc\": 27.627459806603923}, {\"index\": 134, \"date\": \"2020-04-28T00:00:00-04:00\", \"high_comp_home_perc\": 47.39205113708642, \"middle_comp_home_perc\": 49.46550801446437, \"low_comp_home_perc\": 42.39959296049597}, {\"index\": 135, \"date\": \"2020-01-04T00:00:00-05:00\", \"high_comp_home_perc\": 32.938840644094746, \"middle_comp_home_perc\": 37.464517879122845, \"low_comp_home_perc\": 35.157803759550674}, {\"index\": 136, \"date\": \"2020-06-22T00:00:00-04:00\", \"high_comp_home_perc\": 40.30391033108293, \"middle_comp_home_perc\": 41.32328622001916, \"low_comp_home_perc\": 38.84482173774445}, {\"index\": 137, \"date\": \"2020-12-01T00:00:00-05:00\", \"high_comp_home_perc\": 35.86348521132897, \"middle_comp_home_perc\": 37.13121023433963, \"low_comp_home_perc\": 28.711814669745326}, {\"index\": 138, \"date\": \"2020-07-20T00:00:00-04:00\", \"high_comp_home_perc\": 38.77271806636616, \"middle_comp_home_perc\": 40.10634259139001, \"low_comp_home_perc\": 39.054895648052685}, {\"index\": 139, \"date\": \"2020-04-07T00:00:00-04:00\", \"high_comp_home_perc\": 55.05938839334211, \"middle_comp_home_perc\": 56.2946692915357, \"low_comp_home_perc\": 53.25093355562463}, {\"index\": 140, \"date\": \"2020-11-03T00:00:00-05:00\", \"high_comp_home_perc\": 35.918864012243986, \"middle_comp_home_perc\": 37.48110340445598, \"low_comp_home_perc\": 32.31665341989895}, {\"index\": 141, \"date\": \"2020-01-10T00:00:00-05:00\", \"high_comp_home_perc\": 23.17219921041486, \"middle_comp_home_perc\": 26.971250312232723, \"low_comp_home_perc\": 24.747566810627706}, {\"index\": 142, \"date\": \"2020-07-27T00:00:00-04:00\", \"high_comp_home_perc\": 39.417058588283766, \"middle_comp_home_perc\": 40.93769080170558, \"low_comp_home_perc\": 36.84561144256311}, {\"index\": 143, \"date\": \"2020-08-19T00:00:00-04:00\", \"high_comp_home_perc\": 35.92796583552227, \"middle_comp_home_perc\": 38.07935822271879, \"low_comp_home_perc\": 36.52571468219488}, {\"index\": 144, \"date\": \"2020-01-06T00:00:00-05:00\", \"high_comp_home_perc\": 25.042549777965817, \"middle_comp_home_perc\": 29.35118300594647, \"low_comp_home_perc\": 26.540665449261276}, {\"index\": 145, \"date\": \"2020-07-10T00:00:00-04:00\", \"high_comp_home_perc\": 42.28292317425476, \"middle_comp_home_perc\": 43.44003735537659, \"low_comp_home_perc\": 38.80905706583211}, {\"index\": 146, \"date\": \"2020-12-05T00:00:00-05:00\", \"high_comp_home_perc\": 37.70827014308999, \"middle_comp_home_perc\": 39.83382267665069, \"low_comp_home_perc\": 36.47085212800553}, {\"index\": 147, \"date\": \"2020-02-03T00:00:00-05:00\", \"high_comp_home_perc\": 25.29709012200175, \"middle_comp_home_perc\": 29.896616184376942, \"low_comp_home_perc\": 29.635874929358646}, {\"index\": 148, \"date\": \"2020-03-21T00:00:00-04:00\", \"high_comp_home_perc\": 46.44006573166752, \"middle_comp_home_perc\": 48.171511327201, \"low_comp_home_perc\": 44.7502624776607}, {\"index\": 149, \"date\": \"2020-06-29T00:00:00-04:00\", \"high_comp_home_perc\": 37.919634726540664, \"middle_comp_home_perc\": 39.697154928843865, \"low_comp_home_perc\": 36.94246675639014}, {\"index\": 150, \"date\": \"2020-09-15T00:00:00-04:00\", \"high_comp_home_perc\": 35.09964289252137, \"middle_comp_home_perc\": 37.53919447993473, \"low_comp_home_perc\": 33.15346781886348}, {\"index\": 151, \"date\": \"2020-02-15T00:00:00-05:00\", \"high_comp_home_perc\": 28.6343600310459, \"middle_comp_home_perc\": 33.26658011830056, \"low_comp_home_perc\": 30.164032996720472}, {\"index\": 152, \"date\": \"2020-09-18T00:00:00-04:00\", \"high_comp_home_perc\": 33.05844423832206, \"middle_comp_home_perc\": 35.21871748123122, \"low_comp_home_perc\": 33.9801095136331}, {\"index\": 153, \"date\": \"2020-03-13T00:00:00-04:00\", \"high_comp_home_perc\": 26.89106871481944, \"middle_comp_home_perc\": 29.421723425531486, \"low_comp_home_perc\": 28.146726781417563}, {\"index\": 154, \"date\": \"2020-05-17T00:00:00-04:00\", \"high_comp_home_perc\": 50.9218674815914, \"middle_comp_home_perc\": 52.8938549859646, \"low_comp_home_perc\": 49.328867251212756}, {\"index\": 155, \"date\": \"2020-06-09T00:00:00-04:00\", \"high_comp_home_perc\": 42.95684359641109, \"middle_comp_home_perc\": 43.544406028130716, \"low_comp_home_perc\": 39.056107427498226}, {\"index\": 156, \"date\": \"2020-08-08T00:00:00-04:00\", \"high_comp_home_perc\": 33.348164399250166, \"middle_comp_home_perc\": 36.1182335243883, \"low_comp_home_perc\": 31.761593346414195}, {\"index\": 157, \"date\": \"2020-08-13T00:00:00-04:00\", \"high_comp_home_perc\": 37.485674091929184, \"middle_comp_home_perc\": 39.25585827258119, \"low_comp_home_perc\": 38.76087066577576}, {\"index\": 158, \"date\": \"2020-11-13T00:00:00-05:00\", \"high_comp_home_perc\": 34.5157281565526, \"middle_comp_home_perc\": 36.91516654443724, \"low_comp_home_perc\": 33.34771321910072}, {\"index\": 159, \"date\": \"2020-08-01T00:00:00-04:00\", \"high_comp_home_perc\": 34.24080280902303, \"middle_comp_home_perc\": 36.804304029629016, \"low_comp_home_perc\": 37.148427683460994}, {\"index\": 160, \"date\": \"2020-08-24T00:00:00-04:00\", \"high_comp_home_perc\": 34.80742048746283, \"middle_comp_home_perc\": 37.322273813419336, \"low_comp_home_perc\": 32.83998508311474}, {\"index\": 161, \"date\": \"2020-02-16T00:00:00-05:00\", \"high_comp_home_perc\": 29.08837428912761, \"middle_comp_home_perc\": 34.821590360497815, \"low_comp_home_perc\": 34.297049509277116}, {\"index\": 162, \"date\": \"2020-03-06T00:00:00-05:00\", \"high_comp_home_perc\": 22.20059318530752, \"middle_comp_home_perc\": 26.018269696477525, \"low_comp_home_perc\": 26.038429724632724}, {\"index\": 163, \"date\": \"2020-05-02T00:00:00-04:00\", \"high_comp_home_perc\": 48.132699826356166, \"middle_comp_home_perc\": 50.667892648795046, \"low_comp_home_perc\": 44.40222416859232}, {\"index\": 164, \"date\": \"2020-07-30T00:00:00-04:00\", \"high_comp_home_perc\": 34.98891631062426, \"middle_comp_home_perc\": 36.60687064495834, \"low_comp_home_perc\": 29.72479960310972}, {\"index\": 165, \"date\": \"2020-08-06T00:00:00-04:00\", \"high_comp_home_perc\": 36.03222008994929, \"middle_comp_home_perc\": 38.403152966320114, \"low_comp_home_perc\": 36.22065718271769}, {\"index\": 166, \"date\": \"2020-09-11T00:00:00-04:00\", \"high_comp_home_perc\": 32.13417286525408, \"middle_comp_home_perc\": 34.88521680863801, \"low_comp_home_perc\": 31.815104220004123}, {\"index\": 167, \"date\": \"2020-03-16T00:00:00-04:00\", \"high_comp_home_perc\": 38.1258436972405, \"middle_comp_home_perc\": 39.92429761904085, \"low_comp_home_perc\": 35.65313969317073}, {\"index\": 168, \"date\": \"2020-05-05T00:00:00-04:00\", \"high_comp_home_perc\": 53.35452674098836, \"middle_comp_home_perc\": 53.21924304323523, \"low_comp_home_perc\": 48.43845396369894}, {\"index\": 169, \"date\": \"2020-08-09T00:00:00-04:00\", \"high_comp_home_perc\": 37.877686734166566, \"middle_comp_home_perc\": 41.011436959365554, \"low_comp_home_perc\": 38.431017730739285}, {\"index\": 170, \"date\": \"2020-12-31T00:00:00-05:00\", \"high_comp_home_perc\": 33.39832473475774, \"middle_comp_home_perc\": 35.415880835796074, \"low_comp_home_perc\": 30.889443731544265}, {\"index\": 171, \"date\": \"2020-02-21T00:00:00-05:00\", \"high_comp_home_perc\": 23.471512596135387, \"middle_comp_home_perc\": 27.90877244462688, \"low_comp_home_perc\": 25.67212963707232}, {\"index\": 172, \"date\": \"2020-02-29T00:00:00-05:00\", \"high_comp_home_perc\": 26.99827922272329, \"middle_comp_home_perc\": 30.819279434872584, \"low_comp_home_perc\": 26.728552225196363}, {\"index\": 173, \"date\": \"2020-12-30T00:00:00-05:00\", \"high_comp_home_perc\": 32.40512280161024, \"middle_comp_home_perc\": 35.555293959804125, \"low_comp_home_perc\": 27.565105633615172}, {\"index\": 174, \"date\": \"2020-07-01T00:00:00-04:00\", \"high_comp_home_perc\": 39.50020670995819, \"middle_comp_home_perc\": 40.68851256349084, \"low_comp_home_perc\": 35.084498757066555}, {\"index\": 175, \"date\": \"2020-01-19T00:00:00-05:00\", \"high_comp_home_perc\": 32.292823989075195, \"middle_comp_home_perc\": 38.84510682695051, \"low_comp_home_perc\": 35.59928918099358}, {\"index\": 176, \"date\": \"2020-10-31T00:00:00-04:00\", \"high_comp_home_perc\": 31.683969175681042, \"middle_comp_home_perc\": 34.94543728252896, \"low_comp_home_perc\": 30.595137044116875}, {\"index\": 177, \"date\": \"2020-12-12T00:00:00-05:00\", \"high_comp_home_perc\": 34.25798761788596, \"middle_comp_home_perc\": 36.99767128090781, \"low_comp_home_perc\": 35.05746353255021}, {\"index\": 178, \"date\": \"2020-04-27T00:00:00-04:00\", \"high_comp_home_perc\": 51.75188859479936, \"middle_comp_home_perc\": 52.04509074843696, \"low_comp_home_perc\": 45.09689876846148}, {\"index\": 179, \"date\": \"2020-09-10T00:00:00-04:00\", \"high_comp_home_perc\": 36.15754345840245, \"middle_comp_home_perc\": 38.05197544854294, \"low_comp_home_perc\": 35.87399610127806}, {\"index\": 180, \"date\": \"2020-07-13T00:00:00-04:00\", \"high_comp_home_perc\": 37.88888206211296, \"middle_comp_home_perc\": 39.64553822533961, \"low_comp_home_perc\": 35.74190137181877}, {\"index\": 181, \"date\": \"2020-05-12T00:00:00-04:00\", \"high_comp_home_perc\": 51.73180853298033, \"middle_comp_home_perc\": 51.65273150745396, \"low_comp_home_perc\": 45.19854034986851}, {\"index\": 182, \"date\": \"2020-06-18T00:00:00-04:00\", \"high_comp_home_perc\": 41.10869325102003, \"middle_comp_home_perc\": 42.38759029330124, \"low_comp_home_perc\": 38.169849018103484}, {\"index\": 183, \"date\": \"2020-06-24T00:00:00-04:00\", \"high_comp_home_perc\": 40.41659266556227, \"middle_comp_home_perc\": 41.57354600181915, \"low_comp_home_perc\": 38.500451283531994}, {\"index\": 184, \"date\": \"2020-09-14T00:00:00-04:00\", \"high_comp_home_perc\": 36.06692982699055, \"middle_comp_home_perc\": 37.991078669287916, \"low_comp_home_perc\": 38.70948441888152}, {\"index\": 185, \"date\": \"2020-09-16T00:00:00-04:00\", \"high_comp_home_perc\": 36.90819786630589, \"middle_comp_home_perc\": 39.121115303222595, \"low_comp_home_perc\": 40.128173446061666}, {\"index\": 186, \"date\": \"2020-10-11T00:00:00-04:00\", \"high_comp_home_perc\": 35.60350526355501, \"middle_comp_home_perc\": 39.04659347815839, \"low_comp_home_perc\": 36.0466260567469}, {\"index\": 187, \"date\": \"2020-11-08T00:00:00-05:00\", \"high_comp_home_perc\": 35.66322479022387, \"middle_comp_home_perc\": 39.57187745364226, \"low_comp_home_perc\": 40.54012839487231}, {\"index\": 188, \"date\": \"2020-09-05T00:00:00-04:00\", \"high_comp_home_perc\": 31.109428061885247, \"middle_comp_home_perc\": 34.22201387350606, \"low_comp_home_perc\": 32.50352172650248}, {\"index\": 189, \"date\": \"2020-10-28T00:00:00-04:00\", \"high_comp_home_perc\": 35.9207824950492, \"middle_comp_home_perc\": 38.70210968852615, \"low_comp_home_perc\": 36.68627097646459}, {\"index\": 190, \"date\": \"2020-12-09T00:00:00-05:00\", \"high_comp_home_perc\": 36.77652704996819, \"middle_comp_home_perc\": 38.37398066148173, \"low_comp_home_perc\": 38.2607360054924}, {\"index\": 191, \"date\": \"2020-02-01T00:00:00-05:00\", \"high_comp_home_perc\": 31.383984271904488, \"middle_comp_home_perc\": 36.21789354400516, \"low_comp_home_perc\": 36.46777075261822}, {\"index\": 192, \"date\": \"2020-09-29T00:00:00-04:00\", \"high_comp_home_perc\": 37.622492459821046, \"middle_comp_home_perc\": 39.17761520597927, \"low_comp_home_perc\": 36.268872499147136}, {\"index\": 193, \"date\": \"2020-01-25T00:00:00-05:00\", \"high_comp_home_perc\": 31.02720937878289, \"middle_comp_home_perc\": 35.868262397197924, \"low_comp_home_perc\": 35.19289235160203}, {\"index\": 194, \"date\": \"2020-07-11T00:00:00-04:00\", \"high_comp_home_perc\": 38.38572854168902, \"middle_comp_home_perc\": 40.75285528142493, \"low_comp_home_perc\": 39.18022958648708}, {\"index\": 195, \"date\": \"2020-09-27T00:00:00-04:00\", \"high_comp_home_perc\": 36.001551186728605, \"middle_comp_home_perc\": 39.15759639190308, \"low_comp_home_perc\": 38.84457091044588}, {\"index\": 196, \"date\": \"2020-02-17T00:00:00-05:00\", \"high_comp_home_perc\": 27.506019336914086, \"middle_comp_home_perc\": 32.74257789540773, \"low_comp_home_perc\": 30.571984347132627}, {\"index\": 197, \"date\": \"2020-06-07T00:00:00-04:00\", \"high_comp_home_perc\": 43.55799533166498, \"middle_comp_home_perc\": 46.161096292075314, \"low_comp_home_perc\": 46.23849052299239}, {\"index\": 198, \"date\": \"2020-06-16T00:00:00-04:00\", \"high_comp_home_perc\": 43.35542814247485, \"middle_comp_home_perc\": 44.74131550143689, \"low_comp_home_perc\": 44.20171647602402}, {\"index\": 199, \"date\": \"2020-07-24T00:00:00-04:00\", \"high_comp_home_perc\": 37.9786727363351, \"middle_comp_home_perc\": 39.411283237682206, \"low_comp_home_perc\": 35.4164240046181}, {\"index\": 200, \"date\": \"2020-02-10T00:00:00-05:00\", \"high_comp_home_perc\": 24.284029523398605, \"middle_comp_home_perc\": 29.28642797604899, \"low_comp_home_perc\": 27.472798425934585}, {\"index\": 201, \"date\": \"2020-05-31T00:00:00-04:00\", \"high_comp_home_perc\": 45.49506662359486, \"middle_comp_home_perc\": 47.04042414045014, \"low_comp_home_perc\": 43.89646004876091}, {\"index\": 202, \"date\": \"2020-09-07T00:00:00-04:00\", \"high_comp_home_perc\": 37.3970272712273, \"middle_comp_home_perc\": 40.42456551958396, \"low_comp_home_perc\": 38.77240710921395}, {\"index\": 203, \"date\": \"2020-02-14T00:00:00-05:00\", \"high_comp_home_perc\": 21.755310552821882, \"middle_comp_home_perc\": 25.829597351846857, \"low_comp_home_perc\": 25.726278543986982}, {\"index\": 204, \"date\": \"2020-04-12T00:00:00-04:00\", \"high_comp_home_perc\": 57.25756182319538, \"middle_comp_home_perc\": 59.62097714744629, \"low_comp_home_perc\": 51.546795309824475}, {\"index\": 205, \"date\": \"2020-05-28T00:00:00-04:00\", \"high_comp_home_perc\": 47.504681396788435, \"middle_comp_home_perc\": 47.655048819556946, \"low_comp_home_perc\": 46.67659939183427}, {\"index\": 206, \"date\": \"2020-08-29T00:00:00-04:00\", \"high_comp_home_perc\": 34.916342392762516, \"middle_comp_home_perc\": 38.30256068000672, \"low_comp_home_perc\": 33.93294053108145}, {\"index\": 207, \"date\": \"2020-03-07T00:00:00-05:00\", \"high_comp_home_perc\": 29.328530492166152, \"middle_comp_home_perc\": 33.332548690337006, \"low_comp_home_perc\": 29.376300622653314}, {\"index\": 208, \"date\": \"2020-05-07T00:00:00-04:00\", \"high_comp_home_perc\": 51.71316708858843, \"middle_comp_home_perc\": 52.1894593444785, \"low_comp_home_perc\": 47.97372302213894}, {\"index\": 209, \"date\": \"2020-08-05T00:00:00-04:00\", \"high_comp_home_perc\": 35.720665738522214, \"middle_comp_home_perc\": 38.05948797302974, \"low_comp_home_perc\": 40.05237651450492}, {\"index\": 210, \"date\": \"2020-02-24T00:00:00-05:00\", \"high_comp_home_perc\": 21.797092332422576, \"middle_comp_home_perc\": 26.03537510436123, \"low_comp_home_perc\": 25.253903517402986}, {\"index\": 211, \"date\": \"2020-04-29T00:00:00-04:00\", \"high_comp_home_perc\": 51.260190667373436, \"middle_comp_home_perc\": 52.000660463555334, \"low_comp_home_perc\": 47.81334653227617}, {\"index\": 212, \"date\": \"2020-07-07T00:00:00-04:00\", \"high_comp_home_perc\": 40.35319484335844, \"middle_comp_home_perc\": 41.661163573502456, \"low_comp_home_perc\": 40.700668197908904}, {\"index\": 213, \"date\": \"2020-09-30T00:00:00-04:00\", \"high_comp_home_perc\": 33.71103462219824, \"middle_comp_home_perc\": 36.56308420127359, \"low_comp_home_perc\": 32.30489430251773}, {\"index\": 214, \"date\": \"2020-01-28T00:00:00-05:00\", \"high_comp_home_perc\": 22.722134451574647, \"middle_comp_home_perc\": 27.394230396114576, \"low_comp_home_perc\": 25.782171682288787}, {\"index\": 215, \"date\": \"2020-02-06T00:00:00-05:00\", \"high_comp_home_perc\": 24.632625134431663, \"middle_comp_home_perc\": 30.035186190696106, \"low_comp_home_perc\": 28.403074408118272}, {\"index\": 216, \"date\": \"2020-02-07T00:00:00-05:00\", \"high_comp_home_perc\": 23.105714023747232, \"middle_comp_home_perc\": 28.265552054601937, \"low_comp_home_perc\": 26.701979462000455}, {\"index\": 217, \"date\": \"2020-03-25T00:00:00-04:00\", \"high_comp_home_perc\": 48.246186547322644, \"middle_comp_home_perc\": 49.3983700951613, \"low_comp_home_perc\": 47.48845821735566}, {\"index\": 218, \"date\": \"2020-10-12T00:00:00-04:00\", \"high_comp_home_perc\": 42.28920289497905, \"middle_comp_home_perc\": 44.705542897017196, \"low_comp_home_perc\": 44.452304604291974}, {\"index\": 219, \"date\": \"2020-12-03T00:00:00-05:00\", \"high_comp_home_perc\": 35.61571597913674, \"middle_comp_home_perc\": 37.50904619059598, \"low_comp_home_perc\": 32.802424735825085}, {\"index\": 220, \"date\": \"2020-04-05T00:00:00-04:00\", \"high_comp_home_perc\": 55.59124618693556, \"middle_comp_home_perc\": 57.775930246073955, \"low_comp_home_perc\": 55.41364003026397}, {\"index\": 221, \"date\": \"2020-05-23T00:00:00-04:00\", \"high_comp_home_perc\": 51.808082590160836, \"middle_comp_home_perc\": 52.51526839836602, \"low_comp_home_perc\": 51.315283445831774}, {\"index\": 222, \"date\": \"2020-09-28T00:00:00-04:00\", \"high_comp_home_perc\": 35.83853683829087, \"middle_comp_home_perc\": 37.24654446875865, \"low_comp_home_perc\": 35.852918834771394}, {\"index\": 223, \"date\": \"2020-10-04T00:00:00-04:00\", \"high_comp_home_perc\": 35.916313954109455, \"middle_comp_home_perc\": 39.0681949815988, \"low_comp_home_perc\": 37.159174602881734}, {\"index\": 224, \"date\": \"2020-11-06T00:00:00-05:00\", \"high_comp_home_perc\": 31.074175797607833, \"middle_comp_home_perc\": 34.29076547774873, \"low_comp_home_perc\": 31.684340521641985}, {\"index\": 225, \"date\": \"2020-12-18T00:00:00-05:00\", \"high_comp_home_perc\": 35.38850907386434, \"middle_comp_home_perc\": 37.20514182835513, \"low_comp_home_perc\": 31.195934812282648}, {\"index\": 226, \"date\": \"2020-06-25T00:00:00-04:00\", \"high_comp_home_perc\": 39.93429732201628, \"middle_comp_home_perc\": 41.20394394357083, \"low_comp_home_perc\": 37.88626065002532}, {\"index\": 227, \"date\": \"2020-10-10T00:00:00-04:00\", \"high_comp_home_perc\": 32.10893172492847, \"middle_comp_home_perc\": 35.41540271983869, \"low_comp_home_perc\": 36.113378565036136}, {\"index\": 228, \"date\": \"2020-10-13T00:00:00-04:00\", \"high_comp_home_perc\": 38.739981008501175, \"middle_comp_home_perc\": 40.6730185461171, \"low_comp_home_perc\": 40.17589183286823}, {\"index\": 229, \"date\": \"2020-12-11T00:00:00-05:00\", \"high_comp_home_perc\": 32.27127801126729, \"middle_comp_home_perc\": 34.21032388470134, \"low_comp_home_perc\": 35.028761645535084}, {\"index\": 230, \"date\": \"2020-03-02T00:00:00-05:00\", \"high_comp_home_perc\": 24.02632870153498, \"middle_comp_home_perc\": 28.247857710205565, \"low_comp_home_perc\": 26.691001083782922}, {\"index\": 231, \"date\": \"2020-06-11T00:00:00-04:00\", \"high_comp_home_perc\": 47.29032473150973, \"middle_comp_home_perc\": 47.4090614027304, \"low_comp_home_perc\": 41.501097548348426}, {\"index\": 232, \"date\": \"2020-10-01T00:00:00-04:00\", \"high_comp_home_perc\": 31.634083667519494, \"middle_comp_home_perc\": 33.965916428608516, \"low_comp_home_perc\": 28.86493624150985}, {\"index\": 233, \"date\": \"2020-05-06T00:00:00-04:00\", \"high_comp_home_perc\": 55.06915179601011, \"middle_comp_home_perc\": 54.11037187512298, \"low_comp_home_perc\": 51.250619621129786}, {\"index\": 234, \"date\": \"2020-07-29T00:00:00-04:00\", \"high_comp_home_perc\": 35.387398282001136, \"middle_comp_home_perc\": 37.10123066095966, \"low_comp_home_perc\": 31.044721871128505}, {\"index\": 235, \"date\": \"2020-11-09T00:00:00-05:00\", \"high_comp_home_perc\": 35.56495094491643, \"middle_comp_home_perc\": 38.35578934165558, \"low_comp_home_perc\": 36.37721996626654}, {\"index\": 236, \"date\": \"2020-12-06T00:00:00-05:00\", \"high_comp_home_perc\": 38.61991609217294, \"middle_comp_home_perc\": 41.58941050197262, \"low_comp_home_perc\": 37.17964274764849}, {\"index\": 237, \"date\": \"2020-03-03T00:00:00-05:00\", \"high_comp_home_perc\": 24.02584327090193, \"middle_comp_home_perc\": 28.392000892495282, \"low_comp_home_perc\": 26.794432100321632}, {\"index\": 238, \"date\": \"2020-03-28T00:00:00-04:00\", \"high_comp_home_perc\": 53.893064249010465, \"middle_comp_home_perc\": 55.22195590745411, \"low_comp_home_perc\": 50.43010027298464}, {\"index\": 239, \"date\": \"2020-04-19T00:00:00-04:00\", \"high_comp_home_perc\": 53.972443531806036, \"middle_comp_home_perc\": 57.16515500483227, \"low_comp_home_perc\": 51.249550928329946}, {\"index\": 240, \"date\": \"2020-10-25T00:00:00-04:00\", \"high_comp_home_perc\": 36.73004496259457, \"middle_comp_home_perc\": 39.72163056501409, \"low_comp_home_perc\": 34.27264247571}, {\"index\": 241, \"date\": \"2020-06-06T00:00:00-04:00\", \"high_comp_home_perc\": 43.188686422169134, \"middle_comp_home_perc\": 45.575172855522815, \"low_comp_home_perc\": 41.24601282792584}, {\"index\": 242, \"date\": \"2020-10-15T00:00:00-04:00\", \"high_comp_home_perc\": 33.51086823852605, \"middle_comp_home_perc\": 36.10109255187184, \"low_comp_home_perc\": 34.488786699683594}, {\"index\": 243, \"date\": \"2020-08-04T00:00:00-04:00\", \"high_comp_home_perc\": 42.26131996662785, \"middle_comp_home_perc\": 43.63461745599346, \"low_comp_home_perc\": 37.106889006981895}, {\"index\": 244, \"date\": \"2020-11-28T00:00:00-05:00\", \"high_comp_home_perc\": 32.012965003051875, \"middle_comp_home_perc\": 36.30147481165071, \"low_comp_home_perc\": 34.57479618631595}, {\"index\": 245, \"date\": \"2020-12-04T00:00:00-05:00\", \"high_comp_home_perc\": 35.69366343717913, \"middle_comp_home_perc\": 37.1396018435753, \"low_comp_home_perc\": 32.5312450937943}, {\"index\": 246, \"date\": \"2020-02-11T00:00:00-05:00\", \"high_comp_home_perc\": 23.733695232661113, \"middle_comp_home_perc\": 28.65246200566087, \"low_comp_home_perc\": 27.541923448439395}, {\"index\": 247, \"date\": \"2020-04-26T00:00:00-04:00\", \"high_comp_home_perc\": 56.427531620791825, \"middle_comp_home_perc\": 57.8531402514762, \"low_comp_home_perc\": 53.72245414642016}, {\"index\": 248, \"date\": \"2020-07-06T00:00:00-04:00\", \"high_comp_home_perc\": 40.60625420999971, \"middle_comp_home_perc\": 42.3229635582633, \"low_comp_home_perc\": 38.85150907472407}, {\"index\": 249, \"date\": \"2020-07-15T00:00:00-04:00\", \"high_comp_home_perc\": 36.137981601982005, \"middle_comp_home_perc\": 37.71570784353808, \"low_comp_home_perc\": 32.1390075682478}, {\"index\": 250, \"date\": \"2020-02-22T00:00:00-05:00\", \"high_comp_home_perc\": 27.463413027460646, \"middle_comp_home_perc\": 31.71513843174601, \"low_comp_home_perc\": 29.32862312953493}, {\"index\": 251, \"date\": \"2020-05-27T00:00:00-04:00\", \"high_comp_home_perc\": 45.51190071318652, \"middle_comp_home_perc\": 46.13446095262117, \"low_comp_home_perc\": 40.75326957790354}, {\"index\": 252, \"date\": \"2020-12-19T00:00:00-05:00\", \"high_comp_home_perc\": 36.92877601607039, \"middle_comp_home_perc\": 39.938862787694866, \"low_comp_home_perc\": 30.65477559812372}, {\"index\": 253, \"date\": \"2020-03-20T00:00:00-04:00\", \"high_comp_home_perc\": 41.80503409844588, \"middle_comp_home_perc\": 42.603749689368826, \"low_comp_home_perc\": 39.34574644915982}, {\"index\": 254, \"date\": \"2020-01-22T00:00:00-05:00\", \"high_comp_home_perc\": 20.99112183755512, \"middle_comp_home_perc\": 25.380966944675226, \"low_comp_home_perc\": 24.64098296909119}, {\"index\": 255, \"date\": \"2020-11-29T00:00:00-05:00\", \"high_comp_home_perc\": 36.66593233930122, \"middle_comp_home_perc\": 39.97573706264125, \"low_comp_home_perc\": 36.96909661868804}, {\"index\": 256, \"date\": \"2020-08-25T00:00:00-04:00\", \"high_comp_home_perc\": 36.20982303809317, \"middle_comp_home_perc\": 38.736255157462374, \"low_comp_home_perc\": 37.348041460693885}, {\"index\": 257, \"date\": \"2020-10-29T00:00:00-04:00\", \"high_comp_home_perc\": 39.04623383873435, \"middle_comp_home_perc\": 41.37992875866418, \"low_comp_home_perc\": 40.38108190489696}, {\"index\": 258, \"date\": \"2020-11-16T00:00:00-05:00\", \"high_comp_home_perc\": 36.361413942606966, \"middle_comp_home_perc\": 38.64080804477831, \"low_comp_home_perc\": 34.35968189259951}, {\"index\": 259, \"date\": \"2020-04-15T00:00:00-04:00\", \"high_comp_home_perc\": 53.46590978107108, \"middle_comp_home_perc\": 54.959109536168945, \"low_comp_home_perc\": 48.347827784599495}, {\"index\": 260, \"date\": \"2020-08-16T00:00:00-04:00\", \"high_comp_home_perc\": 39.4738580978379, \"middle_comp_home_perc\": 41.575462730147784, \"low_comp_home_perc\": 40.30817057607644}, {\"index\": 261, \"date\": \"2020-10-26T00:00:00-04:00\", \"high_comp_home_perc\": 38.972067194372016, \"middle_comp_home_perc\": 40.857378092407195, \"low_comp_home_perc\": 36.98118967906494}, {\"index\": 262, \"date\": \"2020-03-29T00:00:00-04:00\", \"high_comp_home_perc\": 55.35951804321421, \"middle_comp_home_perc\": 56.91388521193929, \"low_comp_home_perc\": 54.60679386296311}, {\"index\": 263, \"date\": \"2020-07-12T00:00:00-04:00\", \"high_comp_home_perc\": 38.046179886366694, \"middle_comp_home_perc\": 40.534132040385835, \"low_comp_home_perc\": 36.73466314264245}, {\"index\": 264, \"date\": \"2020-03-31T00:00:00-04:00\", \"high_comp_home_perc\": 52.00405235716339, \"middle_comp_home_perc\": 53.4305958267832, \"low_comp_home_perc\": 49.6209753948427}, {\"index\": 265, \"date\": \"2020-01-14T00:00:00-05:00\", \"high_comp_home_perc\": 22.448075094555136, \"middle_comp_home_perc\": 27.64321166941295, \"low_comp_home_perc\": 27.024485845963834}, {\"index\": 266, \"date\": \"2020-08-15T00:00:00-04:00\", \"high_comp_home_perc\": 32.00976408400564, \"middle_comp_home_perc\": 35.10630673682983, \"low_comp_home_perc\": 34.38475183608214}, {\"index\": 267, \"date\": \"2020-02-12T00:00:00-05:00\", \"high_comp_home_perc\": 23.204966877764747, \"middle_comp_home_perc\": 28.149667374045357, \"low_comp_home_perc\": 27.466526549878964}, {\"index\": 268, \"date\": \"2020-02-13T00:00:00-05:00\", \"high_comp_home_perc\": 23.748322314597477, \"middle_comp_home_perc\": 29.722124850227342, \"low_comp_home_perc\": 28.73612396754734}, {\"index\": 269, \"date\": \"2020-03-23T00:00:00-04:00\", \"high_comp_home_perc\": 52.510577283055824, \"middle_comp_home_perc\": 53.39300234741165, \"low_comp_home_perc\": 45.70716964434986}, {\"index\": 270, \"date\": \"2020-01-02T00:00:00-05:00\", \"high_comp_home_perc\": 26.515259150722926, \"middle_comp_home_perc\": 30.859446205514388, \"low_comp_home_perc\": 29.998421546186073}, {\"index\": 271, \"date\": \"2020-05-21T00:00:00-04:00\", \"high_comp_home_perc\": 48.76932340496285, \"middle_comp_home_perc\": 49.22992227582526, \"low_comp_home_perc\": 47.045812915442085}, {\"index\": 272, \"date\": \"2020-05-26T00:00:00-04:00\", \"high_comp_home_perc\": 46.324815191245875, \"middle_comp_home_perc\": 46.24646898933404, \"low_comp_home_perc\": 38.687404936052324}, {\"index\": 273, \"date\": \"2020-10-24T00:00:00-04:00\", \"high_comp_home_perc\": 32.57430719239745, \"middle_comp_home_perc\": 35.929056226130726, \"low_comp_home_perc\": 33.2546189021402}, {\"index\": 274, \"date\": \"2020-09-24T00:00:00-04:00\", \"high_comp_home_perc\": 34.760474418562715, \"middle_comp_home_perc\": 36.76042895602602, \"low_comp_home_perc\": 32.516498156397454}, {\"index\": 275, \"date\": \"2020-02-19T00:00:00-05:00\", \"high_comp_home_perc\": 25.719794121167507, \"middle_comp_home_perc\": 30.39908056089047, \"low_comp_home_perc\": 34.07802277522307}, {\"index\": 276, \"date\": \"2020-03-08T00:00:00-05:00\", \"high_comp_home_perc\": 30.84251322242924, \"middle_comp_home_perc\": 34.929979076125406, \"low_comp_home_perc\": 33.99538762096391}, {\"index\": 277, \"date\": \"2020-05-11T00:00:00-04:00\", \"high_comp_home_perc\": 55.53308701780225, \"middle_comp_home_perc\": 54.458170301183124, \"low_comp_home_perc\": 52.65077919614537}, {\"index\": 278, \"date\": \"2020-06-17T00:00:00-04:00\", \"high_comp_home_perc\": 43.94067614485925, \"middle_comp_home_perc\": 44.610926366952356, \"low_comp_home_perc\": 41.68048920564569}, {\"index\": 279, \"date\": \"2020-08-14T00:00:00-04:00\", \"high_comp_home_perc\": 31.553221685982027, \"middle_comp_home_perc\": 33.55913166946461, \"low_comp_home_perc\": 34.45869336743781}, {\"index\": 280, \"date\": \"2020-08-17T00:00:00-04:00\", \"high_comp_home_perc\": 36.40620367130071, \"middle_comp_home_perc\": 38.60082360234843, \"low_comp_home_perc\": 35.635699809838634}, {\"index\": 281, \"date\": \"2020-07-21T00:00:00-04:00\", \"high_comp_home_perc\": 37.18681703612961, \"middle_comp_home_perc\": 38.813120321401094, \"low_comp_home_perc\": 34.80477604966707}, {\"index\": 282, \"date\": \"2020-12-17T00:00:00-05:00\", \"high_comp_home_perc\": 48.23270080714972, \"middle_comp_home_perc\": 48.982223217072146, \"low_comp_home_perc\": 45.54908635560285}, {\"index\": 283, \"date\": \"2020-01-01T00:00:00-05:00\", \"high_comp_home_perc\": 33.509091280388375, \"middle_comp_home_perc\": 37.33156032046472, \"low_comp_home_perc\": 32.647695603531076}, {\"index\": 284, \"date\": \"2020-01-03T00:00:00-05:00\", \"high_comp_home_perc\": 26.964706581773562, \"middle_comp_home_perc\": 31.481758607228496, \"low_comp_home_perc\": 30.848556944084528}, {\"index\": 285, \"date\": \"2020-04-08T00:00:00-04:00\", \"high_comp_home_perc\": 54.65758539144398, \"middle_comp_home_perc\": 56.32793689789484, \"low_comp_home_perc\": 49.87623385212594}, {\"index\": 286, \"date\": \"2020-01-09T00:00:00-05:00\", \"high_comp_home_perc\": 23.688118985441342, \"middle_comp_home_perc\": 27.800410871016116, \"low_comp_home_perc\": 28.120588072826585}, {\"index\": 287, \"date\": \"2020-04-20T00:00:00-04:00\", \"high_comp_home_perc\": 52.84949793436636, \"middle_comp_home_perc\": 53.63161404106512, \"low_comp_home_perc\": 48.54772569502505}, {\"index\": 288, \"date\": \"2020-04-21T00:00:00-04:00\", \"high_comp_home_perc\": 54.32222695748971, \"middle_comp_home_perc\": 55.363632066270135, \"low_comp_home_perc\": 48.61744403608792}, {\"index\": 289, \"date\": \"2020-04-23T00:00:00-04:00\", \"high_comp_home_perc\": 51.86877407685072, \"middle_comp_home_perc\": 53.119094138059715, \"low_comp_home_perc\": 49.29022400020727}, {\"index\": 290, \"date\": \"2020-07-19T00:00:00-04:00\", \"high_comp_home_perc\": 40.260650704210036, \"middle_comp_home_perc\": 42.19527697723926, \"low_comp_home_perc\": 37.0552525732052}, {\"index\": 291, \"date\": \"2020-01-15T00:00:00-05:00\", \"high_comp_home_perc\": 22.529346127784294, \"middle_comp_home_perc\": 27.593695979088462, \"low_comp_home_perc\": 27.17255272173372}, {\"index\": 292, \"date\": \"2020-04-22T00:00:00-04:00\", \"high_comp_home_perc\": 50.559325499071015, \"middle_comp_home_perc\": 52.44445597123882, \"low_comp_home_perc\": 45.45353712311156}, {\"index\": 293, \"date\": \"2020-06-19T00:00:00-04:00\", \"high_comp_home_perc\": 40.30961325607861, \"middle_comp_home_perc\": 42.037946360481314, \"low_comp_home_perc\": 40.65184903004079}, {\"index\": 294, \"date\": \"2020-11-11T00:00:00-05:00\", \"high_comp_home_perc\": 36.301940705135785, \"middle_comp_home_perc\": 39.50439904788542, \"low_comp_home_perc\": 38.54274470071427}, {\"index\": 295, \"date\": \"2020-03-18T00:00:00-04:00\", \"high_comp_home_perc\": 39.92272529074844, \"middle_comp_home_perc\": 42.06835156711415, \"low_comp_home_perc\": 36.8952340072726}, {\"index\": 296, \"date\": \"2020-05-08T00:00:00-04:00\", \"high_comp_home_perc\": 53.84049438755049, \"middle_comp_home_perc\": 53.54206826221006, \"low_comp_home_perc\": 50.77391944376174}, {\"index\": 297, \"date\": \"2020-10-19T00:00:00-04:00\", \"high_comp_home_perc\": 36.87536049107504, \"middle_comp_home_perc\": 38.659971035704615, \"low_comp_home_perc\": 32.76795706451921}, {\"index\": 298, \"date\": \"2020-11-15T00:00:00-05:00\", \"high_comp_home_perc\": 37.94549211274737, \"middle_comp_home_perc\": 40.79933105548522, \"low_comp_home_perc\": 37.34975314093691}, {\"index\": 299, \"date\": \"2020-10-03T00:00:00-04:00\", \"high_comp_home_perc\": 31.83327965060116, \"middle_comp_home_perc\": 34.94532590272603, \"low_comp_home_perc\": 32.96616635903155}, {\"index\": 300, \"date\": \"2020-03-05T00:00:00-05:00\", \"high_comp_home_perc\": 22.22488920168659, \"middle_comp_home_perc\": 26.382486535764983, \"low_comp_home_perc\": 24.27228367815784}, {\"index\": 301, \"date\": \"2020-01-11T00:00:00-05:00\", \"high_comp_home_perc\": 29.102820934324434, \"middle_comp_home_perc\": 32.78775395454197, \"low_comp_home_perc\": 30.464977915553302}, {\"index\": 302, \"date\": \"2020-11-20T00:00:00-05:00\", \"high_comp_home_perc\": 32.63272774245273, \"middle_comp_home_perc\": 35.345865506334164, \"low_comp_home_perc\": 33.66086196364419}, {\"index\": 303, \"date\": \"2020-09-01T00:00:00-04:00\", \"high_comp_home_perc\": 34.31826265829775, \"middle_comp_home_perc\": 36.98482052685179, \"low_comp_home_perc\": 35.71857938348236}, {\"index\": 304, \"date\": \"2020-12-24T00:00:00-05:00\", \"high_comp_home_perc\": 32.18968144678828, \"middle_comp_home_perc\": 34.751903607541884, \"low_comp_home_perc\": 32.4181276750431}, {\"index\": 305, \"date\": \"2020-03-17T00:00:00-04:00\", \"high_comp_home_perc\": 39.10063498843301, \"middle_comp_home_perc\": 41.244870827548965, \"low_comp_home_perc\": 35.95536384169931}, {\"index\": 306, \"date\": \"2020-03-14T00:00:00-04:00\", \"high_comp_home_perc\": 34.92833720180572, \"middle_comp_home_perc\": 37.72585807638536, \"low_comp_home_perc\": 34.74755434921871}, {\"index\": 307, \"date\": \"2020-02-08T00:00:00-05:00\", \"high_comp_home_perc\": 29.25586334887336, \"middle_comp_home_perc\": 34.282847067188634, \"low_comp_home_perc\": 29.89322515427659}, {\"index\": 308, \"date\": \"2020-09-23T00:00:00-04:00\", \"high_comp_home_perc\": 35.335868956970394, \"middle_comp_home_perc\": 37.73509692583762, \"low_comp_home_perc\": 39.00002373642355}, {\"index\": 309, \"date\": \"2020-01-16T00:00:00-05:00\", \"high_comp_home_perc\": 21.48968390346595, \"middle_comp_home_perc\": 26.677897060432496, \"low_comp_home_perc\": 24.800507856705813}, {\"index\": 310, \"date\": \"2020-08-11T00:00:00-04:00\", \"high_comp_home_perc\": 35.232405691591964, \"middle_comp_home_perc\": 37.06265547616845, \"low_comp_home_perc\": 34.696325646433415}, {\"index\": 311, \"date\": \"2020-01-07T00:00:00-05:00\", \"high_comp_home_perc\": 25.13606893549465, \"middle_comp_home_perc\": 29.564762925306084, \"low_comp_home_perc\": 28.824160726618537}, {\"index\": 312, \"date\": \"2020-12-28T00:00:00-05:00\", \"high_comp_home_perc\": 34.85671285119203, \"middle_comp_home_perc\": 38.036697900390074, \"low_comp_home_perc\": 34.08485126281617}, {\"index\": 313, \"date\": \"2020-01-08T00:00:00-05:00\", \"high_comp_home_perc\": 25.917235873897237, \"middle_comp_home_perc\": 30.341958875828688, \"low_comp_home_perc\": 27.426346292690944}, {\"index\": 314, \"date\": \"2020-10-07T00:00:00-04:00\", \"high_comp_home_perc\": 34.41282179035667, \"middle_comp_home_perc\": 36.37640546502291, \"low_comp_home_perc\": 34.999366653127076}, {\"index\": 315, \"date\": \"2020-06-02T00:00:00-04:00\", \"high_comp_home_perc\": 48.395685854893784, \"middle_comp_home_perc\": 48.387972908866956, \"low_comp_home_perc\": 42.625527039507006}, {\"index\": 316, \"date\": \"2020-08-18T00:00:00-04:00\", \"high_comp_home_perc\": 34.114207047928936, \"middle_comp_home_perc\": 36.544961424343505, \"low_comp_home_perc\": 35.918324360472454}, {\"index\": 317, \"date\": \"2020-09-20T00:00:00-04:00\", \"high_comp_home_perc\": 35.36268662154715, \"middle_comp_home_perc\": 38.483599575736335, \"low_comp_home_perc\": 39.17072324937482}, {\"index\": 318, \"date\": \"2020-09-09T00:00:00-04:00\", \"high_comp_home_perc\": 35.17148469766687, \"middle_comp_home_perc\": 36.76686424583121, \"low_comp_home_perc\": 34.96970555667077}, {\"index\": 319, \"date\": \"2020-02-20T00:00:00-05:00\", \"high_comp_home_perc\": 24.2417396262409, \"middle_comp_home_perc\": 29.175036699792972, \"low_comp_home_perc\": 26.811604576783065}, {\"index\": 320, \"date\": \"2020-11-07T00:00:00-05:00\", \"high_comp_home_perc\": 30.256307124565076, \"middle_comp_home_perc\": 34.58788243612247, \"low_comp_home_perc\": 34.51568443428886}, {\"index\": 321, \"date\": \"2020-12-26T00:00:00-05:00\", \"high_comp_home_perc\": 35.3989105345032, \"middle_comp_home_perc\": 38.00944094544812, \"low_comp_home_perc\": 34.78142939068005}, {\"index\": 322, \"date\": \"2020-11-05T00:00:00-05:00\", \"high_comp_home_perc\": 33.99612340725295, \"middle_comp_home_perc\": 37.052522432575294, \"low_comp_home_perc\": 33.45493708303302}, {\"index\": 323, \"date\": \"2020-07-28T00:00:00-04:00\", \"high_comp_home_perc\": 36.46629194909971, \"middle_comp_home_perc\": 38.22962705884199, \"low_comp_home_perc\": 34.17271793340793}, {\"index\": 324, \"date\": \"2020-01-26T00:00:00-05:00\", \"high_comp_home_perc\": 29.968903534709693, \"middle_comp_home_perc\": 35.07150928423422, \"low_comp_home_perc\": 31.03769435361893}, {\"index\": 325, \"date\": \"2020-01-29T00:00:00-05:00\", \"high_comp_home_perc\": 21.849000285209566, \"middle_comp_home_perc\": 26.30923680649619, \"low_comp_home_perc\": 29.899380498461365}, {\"index\": 326, \"date\": \"2020-06-21T00:00:00-04:00\", \"high_comp_home_perc\": 40.25852587008269, \"middle_comp_home_perc\": 43.01895300557968, \"low_comp_home_perc\": 38.16368636208775}, {\"index\": 327, \"date\": \"2020-12-25T00:00:00-05:00\", \"high_comp_home_perc\": 41.915446139677655, \"middle_comp_home_perc\": 43.15216265041937, \"low_comp_home_perc\": 37.42646781112689}, {\"index\": 328, \"date\": \"2020-10-14T00:00:00-04:00\", \"high_comp_home_perc\": 33.712881347438724, \"middle_comp_home_perc\": 36.074164209829064, \"low_comp_home_perc\": 36.86789420226172}, {\"index\": 329, \"date\": \"2020-04-04T00:00:00-04:00\", \"high_comp_home_perc\": 54.91685626553767, \"middle_comp_home_perc\": 56.93817397120475, \"low_comp_home_perc\": 50.722686546226804}, {\"index\": 330, \"date\": \"2020-04-24T00:00:00-04:00\", \"high_comp_home_perc\": 52.614166273106335, \"middle_comp_home_perc\": 53.740943277238465, \"low_comp_home_perc\": 48.89877131246438}, {\"index\": 331, \"date\": \"2020-05-22T00:00:00-04:00\", \"high_comp_home_perc\": 46.129532425605554, \"middle_comp_home_perc\": 47.05684518655467, \"low_comp_home_perc\": 41.01003764589246}, {\"index\": 332, \"date\": \"2020-08-23T00:00:00-04:00\", \"high_comp_home_perc\": 37.09711010001038, \"middle_comp_home_perc\": 40.88439527544941, \"low_comp_home_perc\": 36.255289217357365}, {\"index\": 333, \"date\": \"2020-10-30T00:00:00-04:00\", \"high_comp_home_perc\": 35.45399204582624, \"middle_comp_home_perc\": 38.192004181256266, \"low_comp_home_perc\": 38.292936167461356}, {\"index\": 334, \"date\": \"2020-06-30T00:00:00-04:00\", \"high_comp_home_perc\": 38.0086196943788, \"middle_comp_home_perc\": 39.67747168589009, \"low_comp_home_perc\": 36.003309290781786}, {\"index\": 335, \"date\": \"2020-07-04T00:00:00-04:00\", \"high_comp_home_perc\": 37.671800090840705, \"middle_comp_home_perc\": 39.04383074068362, \"low_comp_home_perc\": 37.95952117711007}, {\"index\": 336, \"date\": \"2020-07-23T00:00:00-04:00\", \"high_comp_home_perc\": 38.81813062195841, \"middle_comp_home_perc\": 40.63071287243872, \"low_comp_home_perc\": 36.75270722897268}, {\"index\": 337, \"date\": \"2020-05-01T00:00:00-04:00\", \"high_comp_home_perc\": 54.113710517687046, \"middle_comp_home_perc\": 54.38852003047911, \"low_comp_home_perc\": 52.54547208536653}, {\"index\": 338, \"date\": \"2020-06-23T00:00:00-04:00\", \"high_comp_home_perc\": 39.24925653209859, \"middle_comp_home_perc\": 40.740595341702374, \"low_comp_home_perc\": 38.203518136548475}, {\"index\": 339, \"date\": \"2020-04-13T00:00:00-04:00\", \"high_comp_home_perc\": 58.03159210282539, \"middle_comp_home_perc\": 59.22197409711262, \"low_comp_home_perc\": 56.00440936107976}, {\"index\": 340, \"date\": \"2020-12-13T00:00:00-05:00\", \"high_comp_home_perc\": 36.504426254105475, \"middle_comp_home_perc\": 39.58763183026198, \"low_comp_home_perc\": 35.26786718042702}, {\"index\": 341, \"date\": \"2020-04-10T00:00:00-04:00\", \"high_comp_home_perc\": 54.05067038503309, \"middle_comp_home_perc\": 55.401978653707594, \"low_comp_home_perc\": 49.71792833817212}, {\"index\": 342, \"date\": \"2020-03-11T00:00:00-04:00\", \"high_comp_home_perc\": 25.5507035600351, \"middle_comp_home_perc\": 28.785900484012085, \"low_comp_home_perc\": 26.605572398633942}, {\"index\": 343, \"date\": \"2020-10-08T00:00:00-04:00\", \"high_comp_home_perc\": 34.01044389961351, \"middle_comp_home_perc\": 35.54010937710842, \"low_comp_home_perc\": 32.41878937108833}, {\"index\": 344, \"date\": \"2020-11-10T00:00:00-05:00\", \"high_comp_home_perc\": 33.9403003558476, \"middle_comp_home_perc\": 37.00547028748854, \"low_comp_home_perc\": 33.96934923050946}, {\"index\": 345, \"date\": \"2020-06-26T00:00:00-04:00\", \"high_comp_home_perc\": 38.40901156077296, \"middle_comp_home_perc\": 39.85954524160229, \"low_comp_home_perc\": 37.49649485087799}, {\"index\": 346, \"date\": \"2020-07-25T00:00:00-04:00\", \"high_comp_home_perc\": 36.33522222862871, \"middle_comp_home_perc\": 38.764507466765416, \"low_comp_home_perc\": 34.83935698992499}, {\"index\": 347, \"date\": \"2020-11-01T00:00:00-04:00\", \"high_comp_home_perc\": 38.70949329844086, \"middle_comp_home_perc\": 41.52599483173837, \"low_comp_home_perc\": 39.645517356053155}, {\"index\": 348, \"date\": \"2020-11-17T00:00:00-05:00\", \"high_comp_home_perc\": 35.31094667975848, \"middle_comp_home_perc\": 37.610690267380676, \"low_comp_home_perc\": 36.06737961066583}, {\"index\": 349, \"date\": \"2020-12-07T00:00:00-05:00\", \"high_comp_home_perc\": 36.99303671736846, \"middle_comp_home_perc\": 38.13171427159683, \"low_comp_home_perc\": 31.424416823715863}, {\"index\": 350, \"date\": \"2020-11-23T00:00:00-05:00\", \"high_comp_home_perc\": 38.51472938823479, \"middle_comp_home_perc\": 40.24968027788016, \"low_comp_home_perc\": 36.671263222491774}, {\"index\": 351, \"date\": \"2020-11-14T00:00:00-05:00\", \"high_comp_home_perc\": 33.899279878069095, \"middle_comp_home_perc\": 37.00078200078317, \"low_comp_home_perc\": 33.769472088758725}, {\"index\": 352, \"date\": \"2020-08-22T00:00:00-04:00\", \"high_comp_home_perc\": 30.860307845084204, \"middle_comp_home_perc\": 34.15069324794042, \"low_comp_home_perc\": 32.07944483224914}, {\"index\": 353, \"date\": \"2020-04-17T00:00:00-04:00\", \"high_comp_home_perc\": 52.49293873067728, \"middle_comp_home_perc\": 53.96487564509726, \"low_comp_home_perc\": 47.81003741001664}, {\"index\": 354, \"date\": \"2020-01-31T00:00:00-05:00\", \"high_comp_home_perc\": 19.3311058735944, \"middle_comp_home_perc\": 23.096151288217577, \"low_comp_home_perc\": 22.15103008474559}, {\"index\": 355, \"date\": \"2020-09-03T00:00:00-04:00\", \"high_comp_home_perc\": 34.15516201301076, \"middle_comp_home_perc\": 36.506917423189314, \"low_comp_home_perc\": 32.63014617289263}, {\"index\": 356, \"date\": \"2020-02-23T00:00:00-05:00\", \"high_comp_home_perc\": 29.205794157044576, \"middle_comp_home_perc\": 33.4664226587934, \"low_comp_home_perc\": 31.945411552864886}, {\"index\": 357, \"date\": \"2020-03-26T00:00:00-04:00\", \"high_comp_home_perc\": 48.726633585894376, \"middle_comp_home_perc\": 50.77967044325016, \"low_comp_home_perc\": 45.53734286473109}, {\"index\": 358, \"date\": \"2020-06-01T00:00:00-04:00\", \"high_comp_home_perc\": 45.084430583359826, \"middle_comp_home_perc\": 44.876682416762975, \"low_comp_home_perc\": 45.17824983019191}, {\"index\": 359, \"date\": \"2020-03-15T00:00:00-04:00\", \"high_comp_home_perc\": 37.65342839081467, \"middle_comp_home_perc\": 40.69632534826386, \"low_comp_home_perc\": 40.325348391840194}, {\"index\": 360, \"date\": \"2020-12-15T00:00:00-05:00\", \"high_comp_home_perc\": 35.9008459747855, \"middle_comp_home_perc\": 37.88544931196305, \"low_comp_home_perc\": 35.07361467106661}, {\"index\": 361, \"date\": \"2020-04-16T00:00:00-04:00\", \"high_comp_home_perc\": 54.27420721638462, \"middle_comp_home_perc\": 55.90792888798766, \"low_comp_home_perc\": 51.20330390131923}, {\"index\": 362, \"date\": \"2020-04-30T00:00:00-04:00\", \"high_comp_home_perc\": 49.950117673185204, \"middle_comp_home_perc\": 51.73575485694254, \"low_comp_home_perc\": 46.37161758393076}, {\"index\": 363, \"date\": \"2020-06-14T00:00:00-04:00\", \"high_comp_home_perc\": 42.5832730467559, \"middle_comp_home_perc\": 45.026089026396065, \"low_comp_home_perc\": 42.47324268980873}, {\"index\": 364, \"date\": \"2020-12-14T00:00:00-05:00\", \"high_comp_home_perc\": 40.20201581386641, \"middle_comp_home_perc\": 41.64001941455661, \"low_comp_home_perc\": 37.63576520628302}, {\"index\": 365, \"date\": \"2020-12-22T00:00:00-05:00\", \"high_comp_home_perc\": 34.64960864523265, \"middle_comp_home_perc\": 36.93090160739022, \"low_comp_home_perc\": 33.13446128503482}]}}, {\"mode\": \"vega-lite\"});\n",
              "</script>"
            ]
          },
          "metadata": {
            "tags": []
          },
          "execution_count": 39
        },
        {
          "output_type": "stream",
          "text": [
            "time: 141 ms (started: 2021-04-15 04:57:36 +00:00)\n"
          ],
          "name": "stdout"
        }
      ]
    },
    {
      "cell_type": "code",
      "metadata": {
        "id": "Nx5aIy1QFsKS"
      },
      "source": [
        "# alt.Chart(result_mean_df).mark_bar(size=30).encode(\n",
        "#     alt.X('poverty_percentage:N'),\n",
        "#     alt.Y('mean_completely_home_percentage'),\n",
        "#     color = alt.Color('color',scale=None),\n",
        "#     tooltip=[alt.Tooltip('poverty_percentage'),\n",
        "#              alt.Tooltip('mean_completely_home_percentage')]\n",
        "# ).properties(width=400, height=400).interactive()"
      ],
      "execution_count": null,
      "outputs": []
    },
    {
      "cell_type": "code",
      "metadata": {
        "id": "BLlodBHxPY4n"
      },
      "source": [
        "# #\n",
        "# alt.Chart(result_mean_df).mark_point().encode(\n",
        "#     alt.X('poverty_percentage:N'),\n",
        "#     alt.Y('mean_completely_home_percentage'),\n",
        "#     color = alt.Color('color',scale=None),\n",
        "#     tooltip=[alt.Tooltip('poverty_percentage'),\n",
        "#              alt.Tooltip('mean_completely_home_percentage')]\n",
        "# ).properties(width=400, height=400).interactive()\n",
        "\n"
      ],
      "execution_count": null,
      "outputs": []
    },
    {
      "cell_type": "code",
      "metadata": {
        "id": "AES-w9IdUzff"
      },
      "source": [
        "# result_df['poverty_percentage'].astype(float).dtype"
      ],
      "execution_count": null,
      "outputs": []
    },
    {
      "cell_type": "code",
      "metadata": {
        "id": "eCgNqN8QjwbK"
      },
      "source": [
        "# #\n",
        "# alt.Chart(result_mean_df).mark_point().encode(\n",
        "#     alt.X('poverty_percentage:N'),\n",
        "#     alt.Y('mean_full_time_work_percentage'),\n",
        "#     color = alt.Color('color',scale=None),\n",
        "#     tooltip=[alt.Tooltip('poverty_percentage'),\n",
        "#              alt.Tooltip('mean_full_time_work_percentage')]\n",
        "# ).properties(width=400, height=400).interactive()"
      ],
      "execution_count": null,
      "outputs": []
    },
    {
      "cell_type": "code",
      "metadata": {
        "id": "Emo5JcdLdlku"
      },
      "source": [
        "# #\n",
        "# alt.Chart(result_mean_df).mark_point().encode(\n",
        "#     alt.X('poverty_percentage:N'),\n",
        "#     alt.Y('mean_part_time_work_percentage'),\n",
        "#     color = alt.Color('color',scale=None),\n",
        "#     tooltip=[alt.Tooltip('poverty_percentage'),\n",
        "#              alt.Tooltip('mean_part_time_work_percentage')]\n",
        "# ).properties(width=400, height=400).interactive()"
      ],
      "execution_count": null,
      "outputs": []
    },
    {
      "cell_type": "code",
      "metadata": {
        "id": "HkME469pdqJe"
      },
      "source": [
        ""
      ],
      "execution_count": null,
      "outputs": []
    }
  ]
}