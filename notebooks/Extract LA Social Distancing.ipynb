{
 "cells": [
  {
   "cell_type": "code",
   "execution_count": 6,
   "id": "external-abuse",
   "metadata": {},
   "outputs": [],
   "source": [
    "import pandas as pd\n",
    "import geopandas\n",
    "import matplotlib.pyplot as plt"
   ]
  },
  {
   "cell_type": "code",
   "execution_count": 7,
   "id": "necessary-productivity",
   "metadata": {},
   "outputs": [],
   "source": [
    "# LA Counties\n",
    "fips = ['06037','06059']"
   ]
  },
  {
   "cell_type": "code",
   "execution_count": 8,
   "id": "baking-christianity",
   "metadata": {},
   "outputs": [],
   "source": [
    "def filter_fips(df, fips=fips):\n",
    "    return df[df['cbg'].astype(str).str[:5].isin(fips)]"
   ]
  },
  {
   "cell_type": "code",
   "execution_count": 9,
   "id": "random-constitution",
   "metadata": {},
   "outputs": [],
   "source": [
    "def get_fips(fname, filepath, fips, dirout):\n",
    "    df = pd.read_csv(filepath, compression='gzip', dtype={'origin_census_block_group': object})\n",
    "    df = df.rename(columns={'origin_census_block_group':'cbg'})\n",
    "    df = filter_fips(df)\n",
    "    df.to_csv(dirout)"
   ]
  },
  {
   "cell_type": "code",
   "execution_count": 10,
   "id": "cathedral-client",
   "metadata": {},
   "outputs": [
    {
     "data": {
      "application/vnd.jupyter.widget-view+json": {
       "model_id": "58c04f449a354ad992de3267354849f5",
       "version_major": 2,
       "version_minor": 0
      },
      "text/plain": [
       "months:   0%|          | 0/12 [00:00<?, ?it/s]"
      ]
     },
     "metadata": {},
     "output_type": "display_data"
    },
    {
     "data": {
      "application/vnd.jupyter.widget-view+json": {
       "model_id": "ffd6ca076268471f94806d368de42d52",
       "version_major": 2,
       "version_minor": 0
      },
      "text/plain": [
       "days:   0%|          | 0/31 [00:00<?, ?it/s]"
      ]
     },
     "metadata": {},
     "output_type": "display_data"
    },
    {
     "data": {
      "application/vnd.jupyter.widget-view+json": {
       "model_id": "6105d1604778437f86a1bce9d1d537e5",
       "version_major": 2,
       "version_minor": 0
      },
      "text/plain": [
       "days:   0%|          | 0/30 [00:00<?, ?it/s]"
      ]
     },
     "metadata": {},
     "output_type": "display_data"
    },
    {
     "data": {
      "application/vnd.jupyter.widget-view+json": {
       "model_id": "5c3ce6b0456540e5a48a2d479f5e1bf6",
       "version_major": 2,
       "version_minor": 0
      },
      "text/plain": [
       "days:   0%|          | 0/31 [00:00<?, ?it/s]"
      ]
     },
     "metadata": {},
     "output_type": "display_data"
    },
    {
     "data": {
      "application/vnd.jupyter.widget-view+json": {
       "model_id": "8d2becebe091481c98ef7b128c5c2b43",
       "version_major": 2,
       "version_minor": 0
      },
      "text/plain": [
       "days:   0%|          | 0/29 [00:00<?, ?it/s]"
      ]
     },
     "metadata": {},
     "output_type": "display_data"
    },
    {
     "data": {
      "application/vnd.jupyter.widget-view+json": {
       "model_id": "53819e81f6d745aa840a4bcf28cb81a3",
       "version_major": 2,
       "version_minor": 0
      },
      "text/plain": [
       "days:   0%|          | 0/30 [00:00<?, ?it/s]"
      ]
     },
     "metadata": {},
     "output_type": "display_data"
    },
    {
     "data": {
      "application/vnd.jupyter.widget-view+json": {
       "model_id": "d29321232fc540d1b92c8e2915664247",
       "version_major": 2,
       "version_minor": 0
      },
      "text/plain": [
       "days:   0%|          | 0/31 [00:00<?, ?it/s]"
      ]
     },
     "metadata": {},
     "output_type": "display_data"
    },
    {
     "data": {
      "application/vnd.jupyter.widget-view+json": {
       "model_id": "9d778763774643bfa1bfcf6d622fb8cd",
       "version_major": 2,
       "version_minor": 0
      },
      "text/plain": [
       "days:   0%|          | 0/31 [00:00<?, ?it/s]"
      ]
     },
     "metadata": {},
     "output_type": "display_data"
    },
    {
     "data": {
      "application/vnd.jupyter.widget-view+json": {
       "model_id": "a9cc36317b114cb7be088b888313d6d5",
       "version_major": 2,
       "version_minor": 0
      },
      "text/plain": [
       "days:   0%|          | 0/30 [00:00<?, ?it/s]"
      ]
     },
     "metadata": {},
     "output_type": "display_data"
    },
    {
     "data": {
      "application/vnd.jupyter.widget-view+json": {
       "model_id": "37c87d7853a9410c9f8419998c8c5374",
       "version_major": 2,
       "version_minor": 0
      },
      "text/plain": [
       "days:   0%|          | 0/31 [00:00<?, ?it/s]"
      ]
     },
     "metadata": {},
     "output_type": "display_data"
    },
    {
     "data": {
      "application/vnd.jupyter.widget-view+json": {
       "model_id": "caccb5443933401ca299eb5f8d05ed5d",
       "version_major": 2,
       "version_minor": 0
      },
      "text/plain": [
       "days:   0%|          | 0/31 [00:00<?, ?it/s]"
      ]
     },
     "metadata": {},
     "output_type": "display_data"
    },
    {
     "data": {
      "application/vnd.jupyter.widget-view+json": {
       "model_id": "d6eed6cb76d64f909d50f00736520602",
       "version_major": 2,
       "version_minor": 0
      },
      "text/plain": [
       "days:   0%|          | 0/30 [00:00<?, ?it/s]"
      ]
     },
     "metadata": {},
     "output_type": "display_data"
    },
    {
     "data": {
      "application/vnd.jupyter.widget-view+json": {
       "model_id": "57b391e34628435aa015d656dcdb16a4",
       "version_major": 2,
       "version_minor": 0
      },
      "text/plain": [
       "days:   0%|          | 0/31 [00:00<?, ?it/s]"
      ]
     },
     "metadata": {},
     "output_type": "display_data"
    }
   ],
   "source": [
    "import os\n",
    "from tqdm.notebook import tqdm, trange\n",
    "\n",
    "path = '/Users/justinsnider/nyu-big-data/project/data/social-distancing/2020/'\n",
    "target = '/Users/justinsnider/nyu-big-data/project/clean-data/la/social/2020/'\n",
    "\n",
    "months = os.listdir(path)\n",
    "# print(months)\n",
    "for month in tqdm(months, desc='months'):\n",
    "    days = os.listdir(path+month)\n",
    "    days = [day for day in days if day!='.DS_Store']\n",
    "    for day in tqdm(days, desc='days'):\n",
    "        sub_path = path + month + '/' + day +'/'\n",
    "        f_list = os.listdir(sub_path)\n",
    "        csv_files = [file for file in f_list if file.endswith('.gz')]\n",
    "        csv_files = [file for file in csv_files if file!= []]\n",
    "        for file in csv_files:\n",
    "            f_path = os.path.join(sub_path, file)\n",
    "            # Do something with file\n",
    "            target_dir = os.path.join(target, file)[:-3]  # remove .gz extension\n",
    "            get_fips(file, f_path, fips, target_dir)"
   ]
  },
  {
   "cell_type": "code",
   "execution_count": 11,
   "id": "waiting-round",
   "metadata": {},
   "outputs": [
    {
     "data": {
      "application/vnd.jupyter.widget-view+json": {
       "model_id": "eb81aff5551247869717763efa93e215",
       "version_major": 2,
       "version_minor": 0
      },
      "text/plain": [
       "months:   0%|          | 0/12 [00:00<?, ?it/s]"
      ]
     },
     "metadata": {},
     "output_type": "display_data"
    },
    {
     "data": {
      "application/vnd.jupyter.widget-view+json": {
       "model_id": "0d6251638c21470798c6a61191437cc8",
       "version_major": 2,
       "version_minor": 0
      },
      "text/plain": [
       "days:   0%|          | 0/31 [00:00<?, ?it/s]"
      ]
     },
     "metadata": {},
     "output_type": "display_data"
    },
    {
     "data": {
      "application/vnd.jupyter.widget-view+json": {
       "model_id": "f1127d410f0c478e8528e8446f95d259",
       "version_major": 2,
       "version_minor": 0
      },
      "text/plain": [
       "days:   0%|          | 0/28 [00:00<?, ?it/s]"
      ]
     },
     "metadata": {},
     "output_type": "display_data"
    },
    {
     "data": {
      "application/vnd.jupyter.widget-view+json": {
       "model_id": "a2c86308e3ea44eeb581a0eb8bb8bdfe",
       "version_major": 2,
       "version_minor": 0
      },
      "text/plain": [
       "days:   0%|          | 0/31 [00:00<?, ?it/s]"
      ]
     },
     "metadata": {},
     "output_type": "display_data"
    },
    {
     "data": {
      "application/vnd.jupyter.widget-view+json": {
       "model_id": "2d39105b2af644eb92cf244a8b7ec55e",
       "version_major": 2,
       "version_minor": 0
      },
      "text/plain": [
       "days:   0%|          | 0/30 [00:00<?, ?it/s]"
      ]
     },
     "metadata": {},
     "output_type": "display_data"
    },
    {
     "data": {
      "application/vnd.jupyter.widget-view+json": {
       "model_id": "d67721a16fef40cab3899eb53f8685fb",
       "version_major": 2,
       "version_minor": 0
      },
      "text/plain": [
       "days:   0%|          | 0/31 [00:00<?, ?it/s]"
      ]
     },
     "metadata": {},
     "output_type": "display_data"
    },
    {
     "data": {
      "application/vnd.jupyter.widget-view+json": {
       "model_id": "12150cbb0659436ea2e4b9d3c5036e50",
       "version_major": 2,
       "version_minor": 0
      },
      "text/plain": [
       "days:   0%|          | 0/30 [00:00<?, ?it/s]"
      ]
     },
     "metadata": {},
     "output_type": "display_data"
    },
    {
     "data": {
      "application/vnd.jupyter.widget-view+json": {
       "model_id": "b735321e4c5448488a340cdb8eed436b",
       "version_major": 2,
       "version_minor": 0
      },
      "text/plain": [
       "days:   0%|          | 0/31 [00:00<?, ?it/s]"
      ]
     },
     "metadata": {},
     "output_type": "display_data"
    },
    {
     "data": {
      "application/vnd.jupyter.widget-view+json": {
       "model_id": "4c657fe7eaba4032a37ef8b8634ed7ec",
       "version_major": 2,
       "version_minor": 0
      },
      "text/plain": [
       "days:   0%|          | 0/31 [00:00<?, ?it/s]"
      ]
     },
     "metadata": {},
     "output_type": "display_data"
    },
    {
     "data": {
      "application/vnd.jupyter.widget-view+json": {
       "model_id": "81b1db0770904f349fa416ecf6032387",
       "version_major": 2,
       "version_minor": 0
      },
      "text/plain": [
       "days:   0%|          | 0/30 [00:00<?, ?it/s]"
      ]
     },
     "metadata": {},
     "output_type": "display_data"
    },
    {
     "data": {
      "application/vnd.jupyter.widget-view+json": {
       "model_id": "522b6768d19c490399987c9f9964c6ff",
       "version_major": 2,
       "version_minor": 0
      },
      "text/plain": [
       "days:   0%|          | 0/31 [00:00<?, ?it/s]"
      ]
     },
     "metadata": {},
     "output_type": "display_data"
    },
    {
     "data": {
      "application/vnd.jupyter.widget-view+json": {
       "model_id": "10fcee9f6752479caba53a7f04af3118",
       "version_major": 2,
       "version_minor": 0
      },
      "text/plain": [
       "days:   0%|          | 0/30 [00:00<?, ?it/s]"
      ]
     },
     "metadata": {},
     "output_type": "display_data"
    },
    {
     "data": {
      "application/vnd.jupyter.widget-view+json": {
       "model_id": "9418a19c152149ce9b2880d0e0496795",
       "version_major": 2,
       "version_minor": 0
      },
      "text/plain": [
       "days:   0%|          | 0/31 [00:00<?, ?it/s]"
      ]
     },
     "metadata": {},
     "output_type": "display_data"
    }
   ],
   "source": [
    "path = '/Volumes/Data_01/social-distancing/2019/'\n",
    "target = '/Users/justinsnider/nyu-big-data/project/clean-data/la/social/2019/'\n",
    "\n",
    "months = os.listdir(path)\n",
    "# print(months)\n",
    "for month in tqdm(months, desc='months'):\n",
    "    days = os.listdir(path+month)\n",
    "    days = [day for day in days if day!='.DS_Store']\n",
    "    for day in tqdm(days, desc='days'):\n",
    "        sub_path = path + month + '/' + day +'/'\n",
    "        f_list = os.listdir(sub_path)\n",
    "        csv_files = [file for file in f_list if file.endswith('.gz')]\n",
    "        csv_files = [file for file in csv_files if file!= []]\n",
    "        for file in csv_files:\n",
    "            f_path = os.path.join(sub_path, file)\n",
    "            # Do something with file\n",
    "            target_dir = os.path.join(target, file)[:-3]  # remove .gz extension\n",
    "            get_fips(file, f_path, fips, target_dir)"
   ]
  },
  {
   "cell_type": "code",
   "execution_count": null,
   "id": "helpful-generation",
   "metadata": {},
   "outputs": [],
   "source": []
  }
 ],
 "metadata": {
  "kernelspec": {
   "display_name": "Python 3",
   "language": "python",
   "name": "python3"
  },
  "language_info": {
   "codemirror_mode": {
    "name": "ipython",
    "version": 3
   },
   "file_extension": ".py",
   "mimetype": "text/x-python",
   "name": "python",
   "nbconvert_exporter": "python",
   "pygments_lexer": "ipython3",
   "version": "3.7.7"
  }
 },
 "nbformat": 4,
 "nbformat_minor": 5
}
