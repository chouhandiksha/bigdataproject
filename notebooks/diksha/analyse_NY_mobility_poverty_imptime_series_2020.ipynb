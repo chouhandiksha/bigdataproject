{
  "nbformat": 4,
  "nbformat_minor": 0,
  "metadata": {
    "colab": {
      "name": "analyse_LA_mobility_poverty_time_series_2020.ipynb",
      "provenance": [],
      "collapsed_sections": [],
      "include_colab_link": true
    },
    "kernelspec": {
      "name": "python3",
      "display_name": "Python 3"
    },
    "language_info": {
      "name": "python"
    }
  },
  "cells": [
    {
      "cell_type": "markdown",
      "metadata": {
        "id": "view-in-github",
        "colab_type": "text"
      },
      "source": [
        "<a href=\"https://colab.research.google.com/github/chouhandiksha/bigdataproject/blob/colab/notebooks/diksha/analyse_NY_mobility_poverty_imptime_series_2020.ipynb\" target=\"_parent\"><img src=\"https://colab.research.google.com/assets/colab-badge.svg\" alt=\"Open In Colab\"/></a>"
      ]
    },
    {
      "cell_type": "markdown",
      "metadata": {
        "id": "6Vnc5foT5YFx"
      },
      "source": [
        "**Spark SQL Documentation:** \n",
        "https://spark.apache.org/docs/2.2.0/sql-programming-guide.html"
      ]
    },
    {
      "cell_type": "code",
      "metadata": {
        "id": "XXJ-cpgT3moz",
        "colab": {
          "base_uri": "https://localhost:8080/"
        },
        "outputId": "71b13fa4-d0fb-4c1a-c942-813a077ecd18"
      },
      "source": [
        "# add time information at the end of every cell\n",
        "!pip install ipython-autotime\n",
        "%load_ext autotime"
      ],
      "execution_count": 1,
      "outputs": [
        {
          "output_type": "stream",
          "text": [
            "Collecting ipython-autotime\n",
            "  Downloading https://files.pythonhosted.org/packages/b4/c9/b413a24f759641bc27ef98c144b590023c8038dfb8a3f09e713e9dff12c1/ipython_autotime-0.3.1-py2.py3-none-any.whl\n",
            "Requirement already satisfied: ipython in /usr/local/lib/python3.7/dist-packages (from ipython-autotime) (5.5.0)\n",
            "Requirement already satisfied: decorator in /usr/local/lib/python3.7/dist-packages (from ipython->ipython-autotime) (4.4.2)\n",
            "Requirement already satisfied: simplegeneric>0.8 in /usr/local/lib/python3.7/dist-packages (from ipython->ipython-autotime) (0.8.1)\n",
            "Requirement already satisfied: pexpect; sys_platform != \"win32\" in /usr/local/lib/python3.7/dist-packages (from ipython->ipython-autotime) (4.8.0)\n",
            "Requirement already satisfied: traitlets>=4.2 in /usr/local/lib/python3.7/dist-packages (from ipython->ipython-autotime) (5.0.5)\n",
            "Requirement already satisfied: setuptools>=18.5 in /usr/local/lib/python3.7/dist-packages (from ipython->ipython-autotime) (54.2.0)\n",
            "Requirement already satisfied: prompt-toolkit<2.0.0,>=1.0.4 in /usr/local/lib/python3.7/dist-packages (from ipython->ipython-autotime) (1.0.18)\n",
            "Requirement already satisfied: pygments in /usr/local/lib/python3.7/dist-packages (from ipython->ipython-autotime) (2.6.1)\n",
            "Requirement already satisfied: pickleshare in /usr/local/lib/python3.7/dist-packages (from ipython->ipython-autotime) (0.7.5)\n",
            "Requirement already satisfied: ptyprocess>=0.5 in /usr/local/lib/python3.7/dist-packages (from pexpect; sys_platform != \"win32\"->ipython->ipython-autotime) (0.7.0)\n",
            "Requirement already satisfied: ipython-genutils in /usr/local/lib/python3.7/dist-packages (from traitlets>=4.2->ipython->ipython-autotime) (0.2.0)\n",
            "Requirement already satisfied: six>=1.9.0 in /usr/local/lib/python3.7/dist-packages (from prompt-toolkit<2.0.0,>=1.0.4->ipython->ipython-autotime) (1.15.0)\n",
            "Requirement already satisfied: wcwidth in /usr/local/lib/python3.7/dist-packages (from prompt-toolkit<2.0.0,>=1.0.4->ipython->ipython-autotime) (0.2.5)\n",
            "Installing collected packages: ipython-autotime\n",
            "Successfully installed ipython-autotime-0.3.1\n",
            "time: 1.71 ms (started: 2021-04-20 04:42:18 +00:00)\n"
          ],
          "name": "stdout"
        }
      ]
    },
    {
      "cell_type": "code",
      "metadata": {
        "colab": {
          "base_uri": "https://localhost:8080/"
        },
        "id": "DggpqrsrscGi",
        "outputId": "aefde565-4bcc-4fd0-e804-ad00e310229d"
      },
      "source": [
        "# Install required dependancies\n",
        "!pip install pyspark\n",
        "!apt install openjdk-8-jdk-headless -qq\n",
        "import os\n",
        "os.environ[\"JAVA_HOME\"] = \"/usr/lib/jvm/java-8-openjdk-amd64\""
      ],
      "execution_count": 2,
      "outputs": [
        {
          "output_type": "stream",
          "text": [
            "Collecting pyspark\n",
            "\u001b[?25l  Downloading https://files.pythonhosted.org/packages/45/b0/9d6860891ab14a39d4bddf80ba26ce51c2f9dc4805e5c6978ac0472c120a/pyspark-3.1.1.tar.gz (212.3MB)\n",
            "\u001b[K     |████████████████████████████████| 212.3MB 71kB/s \n",
            "\u001b[?25hCollecting py4j==0.10.9\n",
            "\u001b[?25l  Downloading https://files.pythonhosted.org/packages/9e/b6/6a4fb90cd235dc8e265a6a2067f2a2c99f0d91787f06aca4bcf7c23f3f80/py4j-0.10.9-py2.py3-none-any.whl (198kB)\n",
            "\u001b[K     |████████████████████████████████| 204kB 42.5MB/s \n",
            "\u001b[?25hBuilding wheels for collected packages: pyspark\n",
            "  Building wheel for pyspark (setup.py) ... \u001b[?25l\u001b[?25hdone\n",
            "  Created wheel for pyspark: filename=pyspark-3.1.1-py2.py3-none-any.whl size=212767604 sha256=f27e9956e9df5f9b67f11ac22da61c6ca8a6843015beb5f17e7d924a6b2dc8aa\n",
            "  Stored in directory: /root/.cache/pip/wheels/0b/90/c0/01de724414ef122bd05f056541fb6a0ecf47c7ca655f8b3c0f\n",
            "Successfully built pyspark\n",
            "Installing collected packages: py4j, pyspark\n",
            "Successfully installed py4j-0.10.9 pyspark-3.1.1\n",
            "The following additional packages will be installed:\n",
            "  openjdk-8-jre-headless\n",
            "Suggested packages:\n",
            "  openjdk-8-demo openjdk-8-source libnss-mdns fonts-dejavu-extra\n",
            "  fonts-ipafont-gothic fonts-ipafont-mincho fonts-wqy-microhei\n",
            "  fonts-wqy-zenhei fonts-indic\n",
            "The following NEW packages will be installed:\n",
            "  openjdk-8-jdk-headless openjdk-8-jre-headless\n",
            "0 upgraded, 2 newly installed, 0 to remove and 31 not upgraded.\n",
            "Need to get 36.5 MB of archives.\n",
            "After this operation, 143 MB of additional disk space will be used.\n",
            "Selecting previously unselected package openjdk-8-jre-headless:amd64.\n",
            "(Reading database ... 160983 files and directories currently installed.)\n",
            "Preparing to unpack .../openjdk-8-jre-headless_8u282-b08-0ubuntu1~18.04_amd64.deb ...\n",
            "Unpacking openjdk-8-jre-headless:amd64 (8u282-b08-0ubuntu1~18.04) ...\n",
            "Selecting previously unselected package openjdk-8-jdk-headless:amd64.\n",
            "Preparing to unpack .../openjdk-8-jdk-headless_8u282-b08-0ubuntu1~18.04_amd64.deb ...\n",
            "Unpacking openjdk-8-jdk-headless:amd64 (8u282-b08-0ubuntu1~18.04) ...\n",
            "Setting up openjdk-8-jre-headless:amd64 (8u282-b08-0ubuntu1~18.04) ...\n",
            "update-alternatives: using /usr/lib/jvm/java-8-openjdk-amd64/jre/bin/orbd to provide /usr/bin/orbd (orbd) in auto mode\n",
            "update-alternatives: using /usr/lib/jvm/java-8-openjdk-amd64/jre/bin/servertool to provide /usr/bin/servertool (servertool) in auto mode\n",
            "update-alternatives: using /usr/lib/jvm/java-8-openjdk-amd64/jre/bin/tnameserv to provide /usr/bin/tnameserv (tnameserv) in auto mode\n",
            "Setting up openjdk-8-jdk-headless:amd64 (8u282-b08-0ubuntu1~18.04) ...\n",
            "update-alternatives: using /usr/lib/jvm/java-8-openjdk-amd64/bin/idlj to provide /usr/bin/idlj (idlj) in auto mode\n",
            "update-alternatives: using /usr/lib/jvm/java-8-openjdk-amd64/bin/wsimport to provide /usr/bin/wsimport (wsimport) in auto mode\n",
            "update-alternatives: using /usr/lib/jvm/java-8-openjdk-amd64/bin/jsadebugd to provide /usr/bin/jsadebugd (jsadebugd) in auto mode\n",
            "update-alternatives: using /usr/lib/jvm/java-8-openjdk-amd64/bin/native2ascii to provide /usr/bin/native2ascii (native2ascii) in auto mode\n",
            "update-alternatives: using /usr/lib/jvm/java-8-openjdk-amd64/bin/javah to provide /usr/bin/javah (javah) in auto mode\n",
            "update-alternatives: using /usr/lib/jvm/java-8-openjdk-amd64/bin/hsdb to provide /usr/bin/hsdb (hsdb) in auto mode\n",
            "update-alternatives: using /usr/lib/jvm/java-8-openjdk-amd64/bin/clhsdb to provide /usr/bin/clhsdb (clhsdb) in auto mode\n",
            "update-alternatives: using /usr/lib/jvm/java-8-openjdk-amd64/bin/xjc to provide /usr/bin/xjc (xjc) in auto mode\n",
            "update-alternatives: using /usr/lib/jvm/java-8-openjdk-amd64/bin/schemagen to provide /usr/bin/schemagen (schemagen) in auto mode\n",
            "update-alternatives: using /usr/lib/jvm/java-8-openjdk-amd64/bin/extcheck to provide /usr/bin/extcheck (extcheck) in auto mode\n",
            "update-alternatives: using /usr/lib/jvm/java-8-openjdk-amd64/bin/jhat to provide /usr/bin/jhat (jhat) in auto mode\n",
            "update-alternatives: using /usr/lib/jvm/java-8-openjdk-amd64/bin/wsgen to provide /usr/bin/wsgen (wsgen) in auto mode\n",
            "time: 50.3 s (started: 2021-04-20 04:42:18 +00:00)\n"
          ],
          "name": "stdout"
        }
      ]
    },
    {
      "cell_type": "code",
      "metadata": {
        "id": "ppkG73kRsei0",
        "colab": {
          "base_uri": "https://localhost:8080/"
        },
        "outputId": "d160da96-8e29-42e7-abfb-96336830e06d"
      },
      "source": [
        "# Import modules\n",
        "import numpy as np\n",
        "import pandas as pd\n",
        "import datetime\n",
        "import matplotlib.pyplot as plt\n",
        "from pathlib import Path\n",
        "%matplotlib inline\n",
        "\n",
        "import pyspark\n",
        "from pyspark.sql import *\n",
        "from pyspark.sql.types import *\n",
        "from pyspark.sql.functions import *\n",
        "from pyspark import SparkContext, SparkConf"
      ],
      "execution_count": 3,
      "outputs": [
        {
          "output_type": "stream",
          "text": [
            "time: 76.1 ms (started: 2021-04-20 04:43:08 +00:00)\n"
          ],
          "name": "stdout"
        }
      ]
    },
    {
      "cell_type": "code",
      "metadata": {
        "colab": {
          "base_uri": "https://localhost:8080/"
        },
        "id": "pYm9-j_fflal",
        "outputId": "d7f71e82-1477-4f23-99c0-75a9eae91a06"
      },
      "source": [
        "import altair as alt\n",
        "alt.data_transformers.disable_max_rows()"
      ],
      "execution_count": 4,
      "outputs": [
        {
          "output_type": "execute_result",
          "data": {
            "text/plain": [
              "DataTransformerRegistry.enable('default')"
            ]
          },
          "metadata": {
            "tags": []
          },
          "execution_count": 4
        },
        {
          "output_type": "stream",
          "text": [
            "time: 196 ms (started: 2021-04-20 04:43:08 +00:00)\n"
          ],
          "name": "stdout"
        }
      ]
    },
    {
      "cell_type": "code",
      "metadata": {
        "id": "1oe1ksN5skMG",
        "colab": {
          "base_uri": "https://localhost:8080/"
        },
        "outputId": "d27c60cb-040e-4fde-9748-c448b4b77576"
      },
      "source": [
        "# create the session\n",
        "conf = SparkConf().set(\"spark.ui.port\", \"4050\")\n",
        "\n",
        "# create the context\n",
        "sc = pyspark.SparkContext(conf=conf)\n",
        "spark = SparkSession.builder.getOrCreate()"
      ],
      "execution_count": 5,
      "outputs": [
        {
          "output_type": "stream",
          "text": [
            "time: 4.13 s (started: 2021-04-20 04:43:08 +00:00)\n"
          ],
          "name": "stdout"
        }
      ]
    },
    {
      "cell_type": "code",
      "metadata": {
        "id": "zdPF-0xIrDm9",
        "colab": {
          "base_uri": "https://localhost:8080/"
        },
        "outputId": "696eeaa3-e5fa-4cb1-fb58-cc2ba42bb258"
      },
      "source": [
        "#sc.stop()"
      ],
      "execution_count": 6,
      "outputs": [
        {
          "output_type": "stream",
          "text": [
            "time: 4.26 ms (started: 2021-04-20 04:43:12 +00:00)\n"
          ],
          "name": "stdout"
        }
      ]
    },
    {
      "cell_type": "code",
      "metadata": {
        "colab": {
          "base_uri": "https://localhost:8080/"
        },
        "id": "WGXwI2d1szaO",
        "outputId": "13091e13-ed49-4b57-ed88-f0aab3f922eb"
      },
      "source": [
        "# Mount drive with data\n",
        "from google.colab import drive\n",
        "drive.mount('/content/drive')"
      ],
      "execution_count": 7,
      "outputs": [
        {
          "output_type": "stream",
          "text": [
            "Mounted at /content/drive\n",
            "time: 31.1 s (started: 2021-04-20 04:43:12 +00:00)\n"
          ],
          "name": "stdout"
        }
      ]
    },
    {
      "cell_type": "code",
      "metadata": {
        "id": "grN2uNcFvloa",
        "colab": {
          "base_uri": "https://localhost:8080/"
        },
        "outputId": "b4cec44f-0492-49ce-fb66-6b1acd29e383"
      },
      "source": [
        "# Set path to data folder\n",
        "path = Path('drive/MyDrive/big-data-project/data/clean-data')\n",
        "city = 'ny'"
      ],
      "execution_count": 8,
      "outputs": [
        {
          "output_type": "stream",
          "text": [
            "time: 4.44 ms (started: 2021-04-20 04:43:44 +00:00)\n"
          ],
          "name": "stdout"
        }
      ]
    },
    {
      "cell_type": "code",
      "metadata": {
        "colab": {
          "base_uri": "https://localhost:8080/"
        },
        "id": "BvCrFmU2tGXY",
        "outputId": "3c8c30c2-8ab5-4735-f27f-b65cfb7ecc68"
      },
      "source": [
        "# Read data into dataframe\n",
        "df_soc = spark.read.format('csv').option('header','true').option('quote',\"\\\"\").option('escape',\"\\\"\").load(str(path/city/'social/2020/*.csv'))\n",
        "df_soc.show()"
      ],
      "execution_count": 9,
      "outputs": [
        {
          "output_type": "stream",
          "text": [
            "+---+------------+--------------------+--------------------+------------+---------------------------+--------------------------+------------------------------------------+----------------------------+----------------------+------------------------+--------------------+-------------------------------+-------------------------------+--------------------+-------------------------+--------------------------+----------------------+----------------------------+---------------------------+-----------------------------+\n",
            "|_c0|         cbg|    date_range_start|      date_range_end|device_count|distance_traveled_from_home|bucketed_distance_traveled|median_dwell_at_bucketed_distance_traveled|completely_home_device_count|median_home_dwell_time|bucketed_home_dwell_time|at_home_by_each_hour|part_time_work_behavior_devices|full_time_work_behavior_devices|    destination_cbgs|delivery_behavior_devices|median_non_home_dwell_time|candidate_device_count|bucketed_away_from_home_time|median_percentage_time_home|bucketed_percentage_time_home|\n",
            "+---+------------+--------------------+--------------------+------------+---------------------------+--------------------------+------------------------------------------+----------------------------+----------------------+------------------------+--------------------+-------------------------------+-------------------------------+--------------------+-------------------------+--------------------------+----------------------+----------------------------+---------------------------+-----------------------------+\n",
            "|146|360470064002|2020-02-03T00:00:...|2020-02-04T00:00:...|          64|                     1883.0|      {\"16001-50000\":1,...|                      {\"16001-50000\":20...|                          18|                   722|    {\"721-1080\":17,\"3...|[38,42,36,38,35,3...|                              7|                              5|{\"360610089003\":1...|                        2|                       107|                   117|        {\"21-45\":4,\"541-6...|                         84|         {\"26-50\":3,\"51-75...|\n",
            "|154|360810384001|2020-02-03T00:00:...|2020-02-04T00:00:...|          84|                     5483.0|      {\"16001-50000\":12...|                      {\"16001-50000\":21...|                          21|                   587|    {\"721-1080\":13,\"3...|[50,53,55,54,50,4...|                             12|                              8|{\"360810208001\":1...|                        4|                       138|                   155|        {\"21-45\":7,\"481-5...|                         73|         {\"26-50\":9,\"51-75...|\n",
            "|155|360850170103|2020-02-03T00:00:...|2020-02-04T00:00:...|         250|                     4995.0|      {\"16001-50000\":48...|                      {\"16001-50000\":10...|                          68|                   781|    {\"721-1080\":68,\"3...|[180,186,184,188,...|                             41|                             26|{\"360850187021\":1...|                        8|                       141|                   377|        {\"21-45\":8,\"481-5...|                         84|         {\"26-50\":16,\"51-7...|\n",
            "|393|360050213021|2020-02-03T00:00:...|2020-02-04T00:00:...|          92|                     2739.0|      {\"16001-50000\":4,...|                      {\"16001-50000\":50...|                          26|                   578|    {\"721-1080\":18,\"3...|[55,53,55,52,51,4...|                             11|                              6|{\"360050237021\":2...|                        3|                       130|                   194|        {\"21-45\":5,\"481-5...|                         79|         {\"26-50\":8,\"51-75...|\n",
            "|394|360050253004|2020-02-03T00:00:...|2020-02-04T00:00:...|          52|                     3801.0|      {\"16001-50000\":2,...|                      {\"16001-50000\":31...|                          13|                   533|    {\"721-1080\":8,\"36...|[26,26,25,27,26,2...|                              7|                              4|{\"360050326002\":2...|                        2|                       193|                   106|        {\"21-45\":3,\"481-5...|                         76|         {\"26-50\":5,\"51-75...|\n",
            "|398|360470385003|2020-02-03T00:00:...|2020-02-04T00:00:...|          37|                     5459.0|      {\"0\":10,\"2001-800...|                      {\"1001-2000\":77,\"...|                           9|                   661|    {\"721-1080\":13,\"3...|[24,25,26,25,24,2...|                              4|                              5|{\"360470379002\":1...|                        1|                       120|                    78|        {\"21-45\":2,\"481-5...|                         70|         {\"0-25\":5,\"76-100...|\n",
            "|399|360470406002|2020-02-03T00:00:...|2020-02-04T00:00:...|          46|                    10480.0|      {\"16001-50000\":7,...|                      {\"16001-50000\":12...|                          12|                   390|    {\"721-1080\":7,\"36...|[23,18,18,18,18,1...|                              7|                              4|{\"360470804003\":1...|                        3|                        38|                    79|        {\"21-45\":4,\"1201-...|                         69|         {\"0-25\":17,\"76-10...|\n",
            "|400|360470428003|2020-02-03T00:00:...|2020-02-04T00:00:...|          84|                     3798.0|      {\"16001-50000\":5,...|                      {\"16001-50000\":32...|                          20|                   693|    {\"721-1080\":26,\"3...|[55,57,56,54,55,5...|                              2|                             13|{\"360470478001\":2...|                        7|                       181|                   139|        {\"21-45\":1,\"481-5...|                         67|         {\"0-25\":13,\"76-10...|\n",
            "|401|360471130002|2020-02-03T00:00:...|2020-02-04T00:00:...|          84|                     5276.0|      {\"16001-50000\":1,...|                      {\"16001-50000\":64...|                          20|                   759|    {\"721-1080\":25,\"3...|[54,57,58,59,54,5...|                             13|                              9|{\"360470804003\":1...|                        5|                       200|                   155|        {\"21-45\":1,\"481-5...|                         69|         {\"26-50\":5,\"51-75...|\n",
            "|404|360811029001|2020-02-03T00:00:...|2020-02-04T00:00:...|         256|                     5062.0|      {\"16001-50000\":25...|                      {\"16001-50000\":82...|                          95|                   411|    {\"721-1080\":49,\"3...|[124,121,125,125,...|                             24|                             18|{\"360811033001\":1...|                        6|                        31|                   766|        {\"21-45\":18,\"481-...|                         86|         {\"26-50\":12,\"51-7...|\n",
            "|637|360050177022|2020-02-03T00:00:...|2020-02-04T00:00:...|          53|                     5200.0|      {\"16001-50000\":2,...|                      {\"16001-50000\":58...|                          19|                   709|    {\"721-1080\":11,\"3...|[31,31,29,29,30,2...|                              2|                              1|{\"360610265002\":1...|                        5|                        33|                   108|        {\"21-45\":5,\"481-5...|                         90|         {\"26-50\":1,\"51-75...|\n",
            "|638|360050248002|2020-02-03T00:00:...|2020-02-04T00:00:...|          63|                     3274.0|      {\"16001-50000\":2,...|                      {\"16001-50000\":29...|                          24|                   634|    {\"721-1080\":10,\"3...|[33,39,33,35,32,3...|                              6|                              2|{\"360050248001\":3...|                        6|                        22|                   112|        {\"21-45\":1,\"481-5...|                         94|         {\"0-25\":13,\"76-10...|\n",
            "|639|360050363003|2020-02-03T00:00:...|2020-02-04T00:00:...|          81|                     3828.0|      {\"16001-50000\":7,...|                      {\"16001-50000\":20...|                          17|                   643|    {\"721-1080\":22,\"3...|[48,46,47,45,48,4...|                              7|                              8|{\"360050237021\":1...|                        4|                       203|                   227|        {\"21-45\":6,\"481-5...|                         74|         {\"0-25\":21,\"76-10...|\n",
            "|644|360470084003|2020-02-03T00:00:...|2020-02-04T00:00:...|          42|                     4795.0|      {\"0\":10,\">50000\":...|                      {\">50000\":57,\"<10...|                          12|                   512|    {\"721-1080\":6,\"36...|[26,24,24,24,25,2...|                              7|                              5|{\"360470485001\":1...|                        1|                       305|                    99|        {\"481-540\":1,\"541...|                         58|         {\"26-50\":4,\"51-75...|\n",
            "|645|360470393002|2020-02-03T00:00:...|2020-02-04T00:00:...|          42|                     4291.0|      {\"0\":12,\"2001-800...|                      {\"1001-2000\":20,\"...|                          12|                   685|    {\"721-1080\":10,\"3...|[28,27,28,28,29,2...|                              4|                              5|{\"360470551003\":1...|                        3|                       142|                   130|        {\"21-45\":4,\"481-5...|                         82|         {\"0-25\":2,\"76-100...|\n",
            "|646|360470888003|2020-02-03T00:00:...|2020-02-04T00:00:...|          73|                     3905.0|      {\"16001-50000\":1,...|                      {\"16001-50000\":31...|                          24|                   593|    {\"721-1080\":15,\"3...|[46,48,49,48,44,4...|                              4|                             10|{\"360470816002\":1...|                        7|                        92|                   146|        {\"21-45\":6,\"481-5...|                         74|         {\"0-25\":16,\"76-10...|\n",
            "|650|360610072004|2020-02-03T00:00:...|2020-02-04T00:00:...|          58|                     1559.0|      {\"16001-50000\":1,...|                      {\"16001-50000\":72...|                          17|                   453|    {\"721-1080\":15,\"3...|[27,28,28,29,26,2...|                              8|                              6|{\"361090004001\":1...|                        1|                       342|                   132|        {\"481-540\":2,\"541...|                         60|         {\"0-25\":9,\"76-100...|\n",
            "|885|360050414002|2020-02-03T00:00:...|2020-02-04T00:00:...|          60|                     5550.0|      {\"16001-50000\":7,...|                      {\"16001-50000\":29...|                          19|                   720|    {\"721-1080\":16,\"3...|[41,42,41,43,36,3...|                              5|                              6|{\"360050418001\":2...|                        5|                        65|                   116|        {\"21-45\":7,\"481-5...|                         91|         {\">100\":1,\"0-25\":...|\n",
            "|886|360050424001|2020-02-03T00:00:...|2020-02-04T00:00:...|          44|                     7992.0|      {\"16001-50000\":7,...|                      {\"16001-50000\":25...|                          12|                   319|    {\"721-1080\":5,\"36...|[16,15,18,16,16,2...|                              4|                              3|{\"360811257001\":1...|                        1|                        50|                    85|        {\"21-45\":4,\"541-6...|                         78|         {\"26-50\":1,\"51-75...|\n",
            "|889|360470076002|2020-02-03T00:00:...|2020-02-04T00:00:...|          49|                     4238.0|      {\"0\":13,\">50000\":...|                      {\">50000\":28,\"<10...|                          11|                   718|    {\"721-1080\":15,\"3...|[37,33,34,33,33,3...|                              9|                              7|{\"360470060002\":1...|                        1|                       231|                    87|        {\"21-45\":5,\"481-5...|                         74|         {\"0-25\":4,\"76-100...|\n",
            "+---+------------+--------------------+--------------------+------------+---------------------------+--------------------------+------------------------------------------+----------------------------+----------------------+------------------------+--------------------+-------------------------------+-------------------------------+--------------------+-------------------------+--------------------------+----------------------+----------------------------+---------------------------+-----------------------------+\n",
            "only showing top 20 rows\n",
            "\n",
            "time: 19.8 s (started: 2021-04-20 04:43:44 +00:00)\n"
          ],
          "name": "stdout"
        }
      ]
    },
    {
      "cell_type": "code",
      "metadata": {
        "colab": {
          "base_uri": "https://localhost:8080/"
        },
        "id": "wh747sqcHi4-",
        "outputId": "a5d13867-a7cf-48d4-87d7-80f81bf4925d"
      },
      "source": [
        "df_soc.createOrReplaceTempView('clean_ny')\n",
        "df_soc = spark.sql('SELECT cbg, date_range_start as date, device_count, completely_home_device_count, part_time_work_behavior_devices, full_time_work_behavior_devices FROM clean_ny WHERE device_count > 5')\n",
        "df_soc.show()"
      ],
      "execution_count": 10,
      "outputs": [
        {
          "output_type": "stream",
          "text": [
            "+------------+--------------------+------------+----------------------------+-------------------------------+-------------------------------+\n",
            "|         cbg|                date|device_count|completely_home_device_count|part_time_work_behavior_devices|full_time_work_behavior_devices|\n",
            "+------------+--------------------+------------+----------------------------+-------------------------------+-------------------------------+\n",
            "|360470064002|2020-02-03T00:00:...|          64|                          18|                              7|                              5|\n",
            "|360810384001|2020-02-03T00:00:...|          84|                          21|                             12|                              8|\n",
            "|360850170103|2020-02-03T00:00:...|         250|                          68|                             41|                             26|\n",
            "|360050213021|2020-02-03T00:00:...|          92|                          26|                             11|                              6|\n",
            "|360050253004|2020-02-03T00:00:...|          52|                          13|                              7|                              4|\n",
            "|360470385003|2020-02-03T00:00:...|          37|                           9|                              4|                              5|\n",
            "|360470406002|2020-02-03T00:00:...|          46|                          12|                              7|                              4|\n",
            "|360470428003|2020-02-03T00:00:...|          84|                          20|                              2|                             13|\n",
            "|360471130002|2020-02-03T00:00:...|          84|                          20|                             13|                              9|\n",
            "|360811029001|2020-02-03T00:00:...|         256|                          95|                             24|                             18|\n",
            "|360050177022|2020-02-03T00:00:...|          53|                          19|                              2|                              1|\n",
            "|360050248002|2020-02-03T00:00:...|          63|                          24|                              6|                              2|\n",
            "|360050363003|2020-02-03T00:00:...|          81|                          17|                              7|                              8|\n",
            "|360470084003|2020-02-03T00:00:...|          42|                          12|                              7|                              5|\n",
            "|360470393002|2020-02-03T00:00:...|          42|                          12|                              4|                              5|\n",
            "|360470888003|2020-02-03T00:00:...|          73|                          24|                              4|                             10|\n",
            "|360610072004|2020-02-03T00:00:...|          58|                          17|                              8|                              6|\n",
            "|360050414002|2020-02-03T00:00:...|          60|                          19|                              5|                              6|\n",
            "|360050424001|2020-02-03T00:00:...|          44|                          12|                              4|                              3|\n",
            "|360470076002|2020-02-03T00:00:...|          49|                          11|                              9|                              7|\n",
            "+------------+--------------------+------------+----------------------------+-------------------------------+-------------------------------+\n",
            "only showing top 20 rows\n",
            "\n",
            "time: 844 ms (started: 2021-04-20 04:44:03 +00:00)\n"
          ],
          "name": "stdout"
        }
      ]
    },
    {
      "cell_type": "code",
      "metadata": {
        "id": "nlVhrn2-Rp_O",
        "colab": {
          "base_uri": "https://localhost:8080/"
        },
        "outputId": "07716ca1-1de4-4e05-e1a1-a128910ca5c1"
      },
      "source": [
        "df_soc = df_soc.withColumn(\"date\", df_soc['date'].substr(0, 10))"
      ],
      "execution_count": 11,
      "outputs": [
        {
          "output_type": "stream",
          "text": [
            "time: 46.4 ms (started: 2021-04-20 04:44:04 +00:00)\n"
          ],
          "name": "stdout"
        }
      ]
    },
    {
      "cell_type": "code",
      "metadata": {
        "colab": {
          "base_uri": "https://localhost:8080/"
        },
        "id": "2ryRoACoJMPZ",
        "outputId": "adedf274-71de-4632-f7a9-e40e53bc70b4"
      },
      "source": [
        "df_soc.show()"
      ],
      "execution_count": 12,
      "outputs": [
        {
          "output_type": "stream",
          "text": [
            "+------------+----------+------------+----------------------------+-------------------------------+-------------------------------+\n",
            "|         cbg|      date|device_count|completely_home_device_count|part_time_work_behavior_devices|full_time_work_behavior_devices|\n",
            "+------------+----------+------------+----------------------------+-------------------------------+-------------------------------+\n",
            "|360470064002|2020-02-03|          64|                          18|                              7|                              5|\n",
            "|360810384001|2020-02-03|          84|                          21|                             12|                              8|\n",
            "|360850170103|2020-02-03|         250|                          68|                             41|                             26|\n",
            "|360050213021|2020-02-03|          92|                          26|                             11|                              6|\n",
            "|360050253004|2020-02-03|          52|                          13|                              7|                              4|\n",
            "|360470385003|2020-02-03|          37|                           9|                              4|                              5|\n",
            "|360470406002|2020-02-03|          46|                          12|                              7|                              4|\n",
            "|360470428003|2020-02-03|          84|                          20|                              2|                             13|\n",
            "|360471130002|2020-02-03|          84|                          20|                             13|                              9|\n",
            "|360811029001|2020-02-03|         256|                          95|                             24|                             18|\n",
            "|360050177022|2020-02-03|          53|                          19|                              2|                              1|\n",
            "|360050248002|2020-02-03|          63|                          24|                              6|                              2|\n",
            "|360050363003|2020-02-03|          81|                          17|                              7|                              8|\n",
            "|360470084003|2020-02-03|          42|                          12|                              7|                              5|\n",
            "|360470393002|2020-02-03|          42|                          12|                              4|                              5|\n",
            "|360470888003|2020-02-03|          73|                          24|                              4|                             10|\n",
            "|360610072004|2020-02-03|          58|                          17|                              8|                              6|\n",
            "|360050414002|2020-02-03|          60|                          19|                              5|                              6|\n",
            "|360050424001|2020-02-03|          44|                          12|                              4|                              3|\n",
            "|360470076002|2020-02-03|          49|                          11|                              9|                              7|\n",
            "+------------+----------+------------+----------------------------+-------------------------------+-------------------------------+\n",
            "only showing top 20 rows\n",
            "\n",
            "time: 277 ms (started: 2021-04-20 04:44:04 +00:00)\n"
          ],
          "name": "stdout"
        }
      ]
    },
    {
      "cell_type": "code",
      "metadata": {
        "colab": {
          "base_uri": "https://localhost:8080/"
        },
        "id": "UL4qIhZu7JKC",
        "outputId": "0bb8c3f7-4aa2-4851-c94e-6a71fc92d738"
      },
      "source": [
        "# Add completely home percentage column\n",
        "df_soc = df_soc.withColumn('completely_home_percentage', (df_soc['completely_home_device_count']/df_soc['device_count']) * 100)\n",
        "df_soc = df_soc.withColumn('part_time_work_percentage', (df_soc['part_time_work_behavior_devices']/df_soc['device_count']) * 100)\n",
        "df_soc = df_soc.withColumn('full_time_work_percentage', (df_soc['full_time_work_behavior_devices']/df_soc['device_count']) * 100)\n",
        "\n",
        "#df_soc.show()"
      ],
      "execution_count": 13,
      "outputs": [
        {
          "output_type": "stream",
          "text": [
            "time: 123 ms (started: 2021-04-20 04:44:05 +00:00)\n"
          ],
          "name": "stdout"
        }
      ]
    },
    {
      "cell_type": "code",
      "metadata": {
        "colab": {
          "base_uri": "https://localhost:8080/"
        },
        "id": "U8Dh3u54x-Rw",
        "outputId": "8e984138-c462-420c-cbca-2bb70bb12dbd"
      },
      "source": [
        "df_soc.printSchema()"
      ],
      "execution_count": 14,
      "outputs": [
        {
          "output_type": "stream",
          "text": [
            "root\n",
            " |-- cbg: string (nullable = true)\n",
            " |-- date: string (nullable = true)\n",
            " |-- device_count: string (nullable = true)\n",
            " |-- completely_home_device_count: string (nullable = true)\n",
            " |-- part_time_work_behavior_devices: string (nullable = true)\n",
            " |-- full_time_work_behavior_devices: string (nullable = true)\n",
            " |-- completely_home_percentage: double (nullable = true)\n",
            " |-- part_time_work_percentage: double (nullable = true)\n",
            " |-- full_time_work_percentage: double (nullable = true)\n",
            "\n",
            "time: 56.2 ms (started: 2021-04-20 04:44:05 +00:00)\n"
          ],
          "name": "stdout"
        }
      ]
    },
    {
      "cell_type": "code",
      "metadata": {
        "colab": {
          "base_uri": "https://localhost:8080/"
        },
        "id": "OAUIODseCoSg",
        "outputId": "5812985c-56ed-4992-d3ce-e79c0fcb94cc"
      },
      "source": [
        "#Create temp view\n",
        "df_soc.createOrReplaceTempView('mobility')"
      ],
      "execution_count": 15,
      "outputs": [
        {
          "output_type": "stream",
          "text": [
            "time: 36.9 ms (started: 2021-04-20 04:44:05 +00:00)\n"
          ],
          "name": "stdout"
        }
      ]
    },
    {
      "cell_type": "markdown",
      "metadata": {
        "id": "Sj4xc1gTpm2X"
      },
      "source": [
        "\n",
        "\n",
        "---\n",
        "\n",
        "\n",
        "demographic data\n",
        "\n",
        "\n",
        "\n",
        "\n",
        "\n",
        "\n",
        "---\n",
        "\n"
      ]
    },
    {
      "cell_type": "code",
      "metadata": {
        "colab": {
          "base_uri": "https://localhost:8080/"
        },
        "id": "1SVVsXtuzqRf",
        "outputId": "b1f627f2-8eba-4128-b227-1fb0d44794c5"
      },
      "source": [
        "# Read poverty data\n",
        "# Read data into RDD\n",
        "df_demographic = spark.read.format('csv').option('header','true').option('quote',\"\\\"\").option('escape',\"\\\"\").load(str(path/city/'ny.csv'))\n",
        "df_demographic.createOrReplaceTempView('demographic')\n",
        "df_demographic.show()"
      ],
      "execution_count": 16,
      "outputs": [
        {
          "output_type": "stream",
          "text": [
            "+------------+---------+------------------+------------------+\n",
            "|         cbg|pop_total|poverty_percentage|    perc_whiteonly|\n",
            "+------------+---------+------------------+------------------+\n",
            "|360050001000|        0|               0.0|               0.0|\n",
            "|360050001001|     7503|               0.0|12.435025989604158|\n",
            "|360050002000|        0|               0.0|               0.0|\n",
            "|360050002001|     2114|16.130558183538316|35.856196783349105|\n",
            "|360050002002|     2168|18.911439114391143| 48.06273062730627|\n",
            "|360050002003|      969| 8.152734778121776|49.742002063983485|\n",
            "|360050004000|        0|               0.0|               0.0|\n",
            "|360050004001|      646|32.972136222910216| 44.27244582043344|\n",
            "|360050004002|     1400|25.571428571428573| 75.35714285714286|\n",
            "|360050004003|     3393| 1.569905213270142| 33.65753020925435|\n",
            "|360050004004|      541|15.196998123827393| 20.33271719038817|\n",
            "|360050016001|     3427|  25.1531952144733|38.400933761307265|\n",
            "|360050016002|      662| 62.99093655589124| 73.56495468277946|\n",
            "|360050016003|      466|28.665207877461707|23.819742489270386|\n",
            "|360050016004|     1501| 20.91346153846154| 47.23517654896735|\n",
            "|360050019000|        0|               0.0|               0.0|\n",
            "|360050019001|     1737|25.503742084052966| 15.60161197466897|\n",
            "|360050019002|       76|27.631578947368425|               0.0|\n",
            "|360050019003|      869| 58.12743823146944|20.828538550057537|\n",
            "|360050019004|        0|               0.0|               0.0|\n",
            "+------------+---------+------------------+------------------+\n",
            "only showing top 20 rows\n",
            "\n",
            "time: 819 ms (started: 2021-04-20 04:44:05 +00:00)\n"
          ],
          "name": "stdout"
        }
      ]
    },
    {
      "cell_type": "code",
      "metadata": {
        "colab": {
          "base_uri": "https://localhost:8080/"
        },
        "id": "Ff9bk8_6qBQ2",
        "outputId": "194b380f-b701-49d8-de7f-38191c08b164"
      },
      "source": [
        "df_mob_demo = spark.sql('SELECT mobility.*, demographic.poverty_percentage from mobility INNER JOIN demographic ON mobility.cbg = demographic.cbg')\n",
        "df_mob_demo.createOrReplaceTempView('demographic_mobility')\n",
        "df_mob_demo.show()\n"
      ],
      "execution_count": 17,
      "outputs": [
        {
          "output_type": "stream",
          "text": [
            "+------------+----------+------------+----------------------------+-------------------------------+-------------------------------+--------------------------+-------------------------+-------------------------+------------------+\n",
            "|         cbg|      date|device_count|completely_home_device_count|part_time_work_behavior_devices|full_time_work_behavior_devices|completely_home_percentage|part_time_work_percentage|full_time_work_percentage|poverty_percentage|\n",
            "+------------+----------+------------+----------------------------+-------------------------------+-------------------------------+--------------------------+-------------------------+-------------------------+------------------+\n",
            "|360470064002|2020-02-03|          64|                          18|                              7|                              5|                    28.125|                  10.9375|                   7.8125| 19.22705314009662|\n",
            "|360810384001|2020-02-03|          84|                          21|                             12|                              8|                      25.0|       14.285714285714285|        9.523809523809524|12.291350531107739|\n",
            "|360850170103|2020-02-03|         250|                          68|                             41|                             26|        27.200000000000003|       16.400000000000002|                     10.4|13.652802893309223|\n",
            "|360050213021|2020-02-03|          92|                          26|                             11|                              6|         28.26086956521739|       11.956521739130435|        6.521739130434782| 43.07328605200946|\n",
            "|360050253004|2020-02-03|          52|                          13|                              7|                              4|                      25.0|       13.461538461538462|       7.6923076923076925|24.824120603015075|\n",
            "|360470385003|2020-02-03|          37|                           9|                              4|                              5|        24.324324324324326|        10.81081081081081|       13.513513513513514| 10.77170418006431|\n",
            "|360470406002|2020-02-03|          46|                          12|                              7|                              4|         26.08695652173913|       15.217391304347828|        8.695652173913043|13.953488372093023|\n",
            "|360470428003|2020-02-03|          84|                          20|                              2|                             13|        23.809523809523807|        2.380952380952381|       15.476190476190476|15.798922800718133|\n",
            "|360471130002|2020-02-03|          84|                          20|                             13|                              9|        23.809523809523807|       15.476190476190476|       10.714285714285714| 49.52229299363057|\n",
            "|360811029001|2020-02-03|         256|                          95|                             24|                             18|                 37.109375|                    9.375|                  7.03125| 4.940374787052811|\n",
            "|360050177022|2020-02-03|          53|                          19|                              2|                              1|         35.84905660377358|       3.7735849056603774|       1.8867924528301887|16.293393057110862|\n",
            "|360050248002|2020-02-03|          63|                          24|                              6|                              2|        38.095238095238095|        9.523809523809524|       3.1746031746031744|11.859838274932615|\n",
            "|360050363003|2020-02-03|          81|                          17|                              7|                              8|         20.98765432098765|        8.641975308641975|        9.876543209876543|33.054159687325516|\n",
            "|360470084003|2020-02-03|          42|                          12|                              7|                              5|         28.57142857142857|       16.666666666666664|       11.904761904761903|36.858638743455494|\n",
            "|360470393002|2020-02-03|          42|                          12|                              4|                              5|         28.57142857142857|        9.523809523809524|       11.904761904761903|17.216770740410347|\n",
            "|360470888003|2020-02-03|          73|                          24|                              4|                             10|         32.87671232876712|         5.47945205479452|       13.698630136986301| 9.655172413793103|\n",
            "|360610072004|2020-02-03|          58|                          17|                              8|                              6|        29.310344827586203|       13.793103448275861|       10.344827586206897| 21.65775401069519|\n",
            "|360050414002|2020-02-03|          60|                          19|                              5|                              6|        31.666666666666664|        8.333333333333332|                     10.0|13.106796116504855|\n",
            "|360050424001|2020-02-03|          44|                          12|                              4|                              3|         27.27272727272727|        9.090909090909092|       6.8181818181818175| 6.275303643724696|\n",
            "|360470076002|2020-02-03|          49|                          11|                              9|                              7|        22.448979591836736|       18.367346938775512|       14.285714285714285|18.527131782945734|\n",
            "+------------+----------+------------+----------------------------+-------------------------------+-------------------------------+--------------------------+-------------------------+-------------------------+------------------+\n",
            "only showing top 20 rows\n",
            "\n",
            "time: 1.39 s (started: 2021-04-20 04:44:06 +00:00)\n"
          ],
          "name": "stdout"
        }
      ]
    },
    {
      "cell_type": "code",
      "metadata": {
        "id": "6vFzCEtNukZy",
        "colab": {
          "base_uri": "https://localhost:8080/"
        },
        "outputId": "4a056415-1912-4665-8fd0-8edf7aae0dff"
      },
      "source": [
        "# DIVIDING THE PEOPLE TOP 20 PERCENT AND BOTTOM 20 PERCENT\n",
        "\n",
        "df_mob_demo_high_class =  spark.sql('SELECT * FROM demographic_mobility WHERE poverty_percentage < 20')\n",
        "grouped_df_mob_demo_high_class = df_mob_demo_high_class.groupBy(\"date\").mean(\"completely_home_percentage\").withColumnRenamed('avg(completely_home_percentage)','completely_home_percentage')\n",
        "grouped_df_mob_demo_high_class.createOrReplaceTempView('mob_demo_high_class')\n",
        "\n",
        "\n",
        "df_mob_demo_low_class =  spark.sql('SELECT * FROM demographic_mobility WHERE poverty_percentage > 80')\n",
        "grouped_df_mob_demo_low_class = df_mob_demo_low_class.groupBy(\"date\").mean(\"completely_home_percentage\").withColumnRenamed('avg(completely_home_percentage)','completely_home_percentage')\n",
        "grouped_df_mob_demo_low_class.createOrReplaceTempView('mob_demo_low_class')\n",
        "\n",
        "grouped_df_mob_demo_combined = spark.sql(\"\"\"\n",
        "\n",
        "SELECT h.date,h.completely_home_percentage as high_comp_home_perc,\n",
        "l.completely_home_percentage as low_comp_home_perc  \n",
        "FROM mob_demo_high_class h INNER JOIN mob_demo_low_class l ON h.date = l.date\n",
        "\n",
        "\"\"\")\n"
      ],
      "execution_count": 18,
      "outputs": [
        {
          "output_type": "stream",
          "text": [
            "time: 272 ms (started: 2021-04-20 04:44:07 +00:00)\n"
          ],
          "name": "stdout"
        }
      ]
    },
    {
      "cell_type": "markdown",
      "metadata": {
        "id": "JxSLoJSmYuj8"
      },
      "source": [
        "---\n",
        "Visualization \n",
        "\n",
        "---"
      ]
    },
    {
      "cell_type": "code",
      "metadata": {
        "colab": {
          "base_uri": "https://localhost:8080/",
          "height": 418
        },
        "id": "V4EHlNdfSVal",
        "outputId": "a1d4997c-269e-4a6f-92be-7d0859f41df9"
      },
      "source": [
        "df = grouped_df_mob_demo_combined.toPandas()\n",
        "df"
      ],
      "execution_count": 19,
      "outputs": [
        {
          "output_type": "execute_result",
          "data": {
            "text/html": [
              "<div>\n",
              "<style scoped>\n",
              "    .dataframe tbody tr th:only-of-type {\n",
              "        vertical-align: middle;\n",
              "    }\n",
              "\n",
              "    .dataframe tbody tr th {\n",
              "        vertical-align: top;\n",
              "    }\n",
              "\n",
              "    .dataframe thead th {\n",
              "        text-align: right;\n",
              "    }\n",
              "</style>\n",
              "<table border=\"1\" class=\"dataframe\">\n",
              "  <thead>\n",
              "    <tr style=\"text-align: right;\">\n",
              "      <th></th>\n",
              "      <th>date</th>\n",
              "      <th>high_comp_home_perc</th>\n",
              "      <th>low_comp_home_perc</th>\n",
              "    </tr>\n",
              "  </thead>\n",
              "  <tbody>\n",
              "    <tr>\n",
              "      <th>0</th>\n",
              "      <td>2020-02-26</td>\n",
              "      <td>20.948572</td>\n",
              "      <td>20.489095</td>\n",
              "    </tr>\n",
              "    <tr>\n",
              "      <th>1</th>\n",
              "      <td>2020-04-13</td>\n",
              "      <td>57.527185</td>\n",
              "      <td>47.815293</td>\n",
              "    </tr>\n",
              "    <tr>\n",
              "      <th>2</th>\n",
              "      <td>2020-06-24</td>\n",
              "      <td>39.998245</td>\n",
              "      <td>40.032680</td>\n",
              "    </tr>\n",
              "    <tr>\n",
              "      <th>3</th>\n",
              "      <td>2020-06-08</td>\n",
              "      <td>42.439567</td>\n",
              "      <td>31.688312</td>\n",
              "    </tr>\n",
              "    <tr>\n",
              "      <th>4</th>\n",
              "      <td>2020-09-12</td>\n",
              "      <td>33.992552</td>\n",
              "      <td>15.840081</td>\n",
              "    </tr>\n",
              "    <tr>\n",
              "      <th>...</th>\n",
              "      <td>...</td>\n",
              "      <td>...</td>\n",
              "      <td>...</td>\n",
              "    </tr>\n",
              "    <tr>\n",
              "      <th>361</th>\n",
              "      <td>2020-04-05</td>\n",
              "      <td>54.866796</td>\n",
              "      <td>40.241935</td>\n",
              "    </tr>\n",
              "    <tr>\n",
              "      <th>362</th>\n",
              "      <td>2020-05-01</td>\n",
              "      <td>53.816496</td>\n",
              "      <td>52.280702</td>\n",
              "    </tr>\n",
              "    <tr>\n",
              "      <th>363</th>\n",
              "      <td>2020-10-25</td>\n",
              "      <td>36.063622</td>\n",
              "      <td>28.735632</td>\n",
              "    </tr>\n",
              "    <tr>\n",
              "      <th>364</th>\n",
              "      <td>2020-12-28</td>\n",
              "      <td>34.252238</td>\n",
              "      <td>34.923077</td>\n",
              "    </tr>\n",
              "    <tr>\n",
              "      <th>365</th>\n",
              "      <td>2020-12-19</td>\n",
              "      <td>36.251640</td>\n",
              "      <td>21.263482</td>\n",
              "    </tr>\n",
              "  </tbody>\n",
              "</table>\n",
              "<p>366 rows × 3 columns</p>\n",
              "</div>"
            ],
            "text/plain": [
              "           date  high_comp_home_perc  low_comp_home_perc\n",
              "0    2020-02-26            20.948572           20.489095\n",
              "1    2020-04-13            57.527185           47.815293\n",
              "2    2020-06-24            39.998245           40.032680\n",
              "3    2020-06-08            42.439567           31.688312\n",
              "4    2020-09-12            33.992552           15.840081\n",
              "..          ...                  ...                 ...\n",
              "361  2020-04-05            54.866796           40.241935\n",
              "362  2020-05-01            53.816496           52.280702\n",
              "363  2020-10-25            36.063622           28.735632\n",
              "364  2020-12-28            34.252238           34.923077\n",
              "365  2020-12-19            36.251640           21.263482\n",
              "\n",
              "[366 rows x 3 columns]"
            ]
          },
          "metadata": {
            "tags": []
          },
          "execution_count": 19
        },
        {
          "output_type": "stream",
          "text": [
            "time: 4min (started: 2021-04-20 04:44:07 +00:00)\n"
          ],
          "name": "stdout"
        }
      ]
    },
    {
      "cell_type": "code",
      "metadata": {
        "colab": {
          "base_uri": "https://localhost:8080/"
        },
        "id": "te-sduzXYZnP",
        "outputId": "8bb1c011-3909-43ad-b0cd-0ce6bc408bb3"
      },
      "source": [
        "df_str = df"
      ],
      "execution_count": 20,
      "outputs": [
        {
          "output_type": "stream",
          "text": [
            "time: 1.1 ms (started: 2021-04-20 04:48:08 +00:00)\n"
          ],
          "name": "stdout"
        }
      ]
    },
    {
      "cell_type": "code",
      "metadata": {
        "id": "lJXzexYhZgtu"
      },
      "source": [
        "\n"
      ],
      "execution_count": 20,
      "outputs": []
    },
    {
      "cell_type": "code",
      "metadata": {
        "colab": {
          "base_uri": "https://localhost:8080/",
          "height": 447
        },
        "id": "pTTAkF1Iwesw",
        "outputId": "335ef8e8-428e-4c00-d83a-55c01dec61b7"
      },
      "source": [
        "base = alt.Chart(df_str.reset_index()).encode(x='date'\n",
        ")\n",
        "\n",
        "alt.layer(\n",
        "    base.mark_line(color='green').encode(y='high_comp_home_perc'),\n",
        "    base.mark_line(color='red').encode(y='low_comp_home_perc')\n",
        "\n",
        ")"
      ],
      "execution_count": 21,
      "outputs": [
        {
          "output_type": "execute_result",
          "data": {
            "text/plain": [
              "alt.LayerChart(...)"
            ],
            "text/html": [
              "\n",
              "<div id=\"altair-viz-676d2f927ec54bc88b2fe5ba9667e5de\"></div>\n",
              "<script type=\"text/javascript\">\n",
              "  (function(spec, embedOpt){\n",
              "    let outputDiv = document.currentScript.previousElementSibling;\n",
              "    if (outputDiv.id !== \"altair-viz-676d2f927ec54bc88b2fe5ba9667e5de\") {\n",
              "      outputDiv = document.getElementById(\"altair-viz-676d2f927ec54bc88b2fe5ba9667e5de\");\n",
              "    }\n",
              "    const paths = {\n",
              "      \"vega\": \"https://cdn.jsdelivr.net/npm//vega@5?noext\",\n",
              "      \"vega-lib\": \"https://cdn.jsdelivr.net/npm//vega-lib?noext\",\n",
              "      \"vega-lite\": \"https://cdn.jsdelivr.net/npm//vega-lite@4.8.1?noext\",\n",
              "      \"vega-embed\": \"https://cdn.jsdelivr.net/npm//vega-embed@6?noext\",\n",
              "    };\n",
              "\n",
              "    function loadScript(lib) {\n",
              "      return new Promise(function(resolve, reject) {\n",
              "        var s = document.createElement('script');\n",
              "        s.src = paths[lib];\n",
              "        s.async = true;\n",
              "        s.onload = () => resolve(paths[lib]);\n",
              "        s.onerror = () => reject(`Error loading script: ${paths[lib]}`);\n",
              "        document.getElementsByTagName(\"head\")[0].appendChild(s);\n",
              "      });\n",
              "    }\n",
              "\n",
              "    function showError(err) {\n",
              "      outputDiv.innerHTML = `<div class=\"error\" style=\"color:red;\">${err}</div>`;\n",
              "      throw err;\n",
              "    }\n",
              "\n",
              "    function displayChart(vegaEmbed) {\n",
              "      vegaEmbed(outputDiv, spec, embedOpt)\n",
              "        .catch(err => showError(`Javascript Error: ${err.message}<br>This usually means there's a typo in your chart specification. See the javascript console for the full traceback.`));\n",
              "    }\n",
              "\n",
              "    if(typeof define === \"function\" && define.amd) {\n",
              "      requirejs.config({paths});\n",
              "      require([\"vega-embed\"], displayChart, err => showError(`Error loading script: ${err.message}`));\n",
              "    } else if (typeof vegaEmbed === \"function\") {\n",
              "      displayChart(vegaEmbed);\n",
              "    } else {\n",
              "      loadScript(\"vega\")\n",
              "        .then(() => loadScript(\"vega-lite\"))\n",
              "        .then(() => loadScript(\"vega-embed\"))\n",
              "        .catch(showError)\n",
              "        .then(() => displayChart(vegaEmbed));\n",
              "    }\n",
              "  })({\"config\": {\"view\": {\"continuousWidth\": 400, \"continuousHeight\": 300}}, \"layer\": [{\"mark\": {\"type\": \"line\", \"color\": \"green\"}, \"encoding\": {\"x\": {\"type\": \"nominal\", \"field\": \"date\"}, \"y\": {\"type\": \"quantitative\", \"field\": \"high_comp_home_perc\"}}}, {\"mark\": {\"type\": \"line\", \"color\": \"red\"}, \"encoding\": {\"x\": {\"type\": \"nominal\", \"field\": \"date\"}, \"y\": {\"type\": \"quantitative\", \"field\": \"low_comp_home_perc\"}}}], \"data\": {\"name\": \"data-83b3b7c11a6ab42faac650f6324081b8\"}, \"$schema\": \"https://vega.github.io/schema/vega-lite/v4.8.1.json\", \"datasets\": {\"data-83b3b7c11a6ab42faac650f6324081b8\": [{\"index\": 0, \"date\": \"2020-02-26\", \"high_comp_home_perc\": 20.9485720682771, \"low_comp_home_perc\": 20.489094514210176}, {\"index\": 1, \"date\": \"2020-04-13\", \"high_comp_home_perc\": 57.52718528420354, \"low_comp_home_perc\": 47.81529294935452}, {\"index\": 2, \"date\": \"2020-06-24\", \"high_comp_home_perc\": 39.998244875261406, \"low_comp_home_perc\": 40.032679738562095}, {\"index\": 3, \"date\": \"2020-06-08\", \"high_comp_home_perc\": 42.43956736876932, \"low_comp_home_perc\": 31.688311688311686}, {\"index\": 4, \"date\": \"2020-09-12\", \"high_comp_home_perc\": 33.99255227948464, \"low_comp_home_perc\": 15.84008097165992}, {\"index\": 5, \"date\": \"2020-11-12\", \"high_comp_home_perc\": 35.70086428390735, \"low_comp_home_perc\": 24.46969696969697}, {\"index\": 6, \"date\": \"2020-01-05\", \"high_comp_home_perc\": 35.425262848373386, \"low_comp_home_perc\": 16.098484848484848}, {\"index\": 7, \"date\": \"2020-04-12\", \"high_comp_home_perc\": 56.506837265847636, \"low_comp_home_perc\": 45.65677966101695}, {\"index\": 8, \"date\": \"2020-06-20\", \"high_comp_home_perc\": 39.0949703967512, \"low_comp_home_perc\": 24.164133738601823}, {\"index\": 9, \"date\": \"2020-06-22\", \"high_comp_home_perc\": 39.89785358971638, \"low_comp_home_perc\": 35.68257491675915}, {\"index\": 10, \"date\": \"2020-01-03\", \"high_comp_home_perc\": 26.352962095041697, \"low_comp_home_perc\": 19.642857142857142}, {\"index\": 11, \"date\": \"2020-02-13\", \"high_comp_home_perc\": 22.964060031659738, \"low_comp_home_perc\": 25.975975975975977}, {\"index\": 12, \"date\": \"2020-04-20\", \"high_comp_home_perc\": 52.36352740323307, \"low_comp_home_perc\": 25.614035087719298}, {\"index\": 13, \"date\": \"2020-12-22\", \"high_comp_home_perc\": 34.22561331302364, \"low_comp_home_perc\": 29.249011857707508}, {\"index\": 14, \"date\": \"2020-07-25\", \"high_comp_home_perc\": 35.77195787895365, \"low_comp_home_perc\": 25.396825396825395}, {\"index\": 15, \"date\": \"2020-12-17\", \"high_comp_home_perc\": 47.91692476690875, \"low_comp_home_perc\": 41.58653846153846}, {\"index\": 16, \"date\": \"2020-12-25\", \"high_comp_home_perc\": 41.44888182106447, \"low_comp_home_perc\": 45.1417004048583}, {\"index\": 17, \"date\": \"2020-09-11\", \"high_comp_home_perc\": 31.57425340261989, \"low_comp_home_perc\": 29.182330827067666}, {\"index\": 18, \"date\": \"2020-01-12\", \"high_comp_home_perc\": 30.791596353928725, \"low_comp_home_perc\": 18.25}, {\"index\": 19, \"date\": \"2020-06-09\", \"high_comp_home_perc\": 42.64214883554059, \"low_comp_home_perc\": 28.457869634340224}, {\"index\": 20, \"date\": \"2020-11-10\", \"high_comp_home_perc\": 33.40797287407663, \"low_comp_home_perc\": 29.640151515151516}, {\"index\": 21, \"date\": \"2020-01-22\", \"high_comp_home_perc\": 20.412186178522102, \"low_comp_home_perc\": 30.76923076923077}, {\"index\": 22, \"date\": \"2020-08-06\", \"high_comp_home_perc\": 35.52865207362346, \"low_comp_home_perc\": 33.92857142857143}, {\"index\": 23, \"date\": \"2020-09-20\", \"high_comp_home_perc\": 34.87735713562393, \"low_comp_home_perc\": 18.205128205128204}, {\"index\": 24, \"date\": \"2020-11-29\", \"high_comp_home_perc\": 36.14028519988897, \"low_comp_home_perc\": 37.34827264239029}, {\"index\": 25, \"date\": \"2020-01-01\", \"high_comp_home_perc\": 32.725269655958904, \"low_comp_home_perc\": 23.238482384823847}, {\"index\": 26, \"date\": \"2020-01-06\", \"high_comp_home_perc\": 24.395613532049044, \"low_comp_home_perc\": 18.392857142857142}, {\"index\": 27, \"date\": \"2020-12-15\", \"high_comp_home_perc\": 35.637093611457956, \"low_comp_home_perc\": 31.03448275862069}, {\"index\": 28, \"date\": \"2020-05-14\", \"high_comp_home_perc\": 49.8999501141264, \"low_comp_home_perc\": 51.355013550135496}, {\"index\": 29, \"date\": \"2020-06-12\", \"high_comp_home_perc\": 41.03921551489267, \"low_comp_home_perc\": 37.47645951035781}, {\"index\": 30, \"date\": \"2020-11-19\", \"high_comp_home_perc\": 34.389789399803476, \"low_comp_home_perc\": 14.722222222222221}, {\"index\": 31, \"date\": \"2020-12-16\", \"high_comp_home_perc\": 40.52844433503597, \"low_comp_home_perc\": 44.79166666666666}, {\"index\": 32, \"date\": \"2020-04-22\", \"high_comp_home_perc\": 50.09576388005461, \"low_comp_home_perc\": 35.11513157894737}, {\"index\": 33, \"date\": \"2020-09-06\", \"high_comp_home_perc\": 33.01306307826981, \"low_comp_home_perc\": 16.44927536231884}, {\"index\": 34, \"date\": \"2020-10-18\", \"high_comp_home_perc\": 37.249358321416075, \"low_comp_home_perc\": 21.581196581196583}, {\"index\": 35, \"date\": \"2020-01-16\", \"high_comp_home_perc\": 20.74003237174535, \"low_comp_home_perc\": 11.923076923076923}, {\"index\": 36, \"date\": \"2020-08-29\", \"high_comp_home_perc\": 34.158883903573184, \"low_comp_home_perc\": 17.536231884057973}, {\"index\": 37, \"date\": \"2020-09-14\", \"high_comp_home_perc\": 35.70591939623685, \"low_comp_home_perc\": 17.84313725490196}, {\"index\": 38, \"date\": \"2020-10-24\", \"high_comp_home_perc\": 31.838103219414535, \"low_comp_home_perc\": 28.876678876678877}, {\"index\": 39, \"date\": \"2020-05-30\", \"high_comp_home_perc\": 40.64554016106122, \"low_comp_home_perc\": 31.805555555555557}, {\"index\": 40, \"date\": \"2020-03-16\", \"high_comp_home_perc\": 37.914461263981295, \"low_comp_home_perc\": 27.638888888888893}, {\"index\": 41, \"date\": \"2020-05-13\", \"high_comp_home_perc\": 50.88901567429977, \"low_comp_home_perc\": 40.01831501831502}, {\"index\": 42, \"date\": \"2020-04-19\", \"high_comp_home_perc\": 53.14956402417401, \"low_comp_home_perc\": 45.88550983899821}, {\"index\": 43, \"date\": \"2020-06-28\", \"high_comp_home_perc\": 40.17583891980009, \"low_comp_home_perc\": 43.51851851851852}, {\"index\": 44, \"date\": \"2020-10-20\", \"high_comp_home_perc\": 36.51062884495331, \"low_comp_home_perc\": 26.643356643356647}, {\"index\": 45, \"date\": \"2020-03-03\", \"high_comp_home_perc\": 23.396030208651432, \"low_comp_home_perc\": 19.226190476190474}, {\"index\": 46, \"date\": \"2020-08-05\", \"high_comp_home_perc\": 35.10756547563673, \"low_comp_home_perc\": 32.529411764705884}, {\"index\": 47, \"date\": \"2020-09-16\", \"high_comp_home_perc\": 36.592437282588634, \"low_comp_home_perc\": 42.26006191950464}, {\"index\": 48, \"date\": \"2020-10-21\", \"high_comp_home_perc\": 33.35560406185511, \"low_comp_home_perc\": 26.575456053067995}, {\"index\": 49, \"date\": \"2020-10-29\", \"high_comp_home_perc\": 38.61503369434184, \"low_comp_home_perc\": 30.628517823639775}, {\"index\": 50, \"date\": \"2020-11-15\", \"high_comp_home_perc\": 37.40915410528626, \"low_comp_home_perc\": 28.18181818181818}, {\"index\": 51, \"date\": \"2020-08-25\", \"high_comp_home_perc\": 35.65435242225674, \"low_comp_home_perc\": 10.714285714285714}, {\"index\": 52, \"date\": \"2020-06-16\", \"high_comp_home_perc\": 42.942629570429865, \"low_comp_home_perc\": 45.588235294117645}, {\"index\": 53, \"date\": \"2020-12-12\", \"high_comp_home_perc\": 33.714478972713714, \"low_comp_home_perc\": 24.270833333333336}, {\"index\": 54, \"date\": \"2020-03-06\", \"high_comp_home_perc\": 21.609279824380746, \"low_comp_home_perc\": 9.920920201294033}, {\"index\": 55, \"date\": \"2020-03-26\", \"high_comp_home_perc\": 48.13292345930039, \"low_comp_home_perc\": 31.073446327683612}, {\"index\": 56, \"date\": \"2020-05-16\", \"high_comp_home_perc\": 45.68977578180944, \"low_comp_home_perc\": 36.69790915645277}, {\"index\": 57, \"date\": \"2020-01-18\", \"high_comp_home_perc\": 32.90027863524987, \"low_comp_home_perc\": 23.429951690821255}, {\"index\": 58, \"date\": \"2020-07-12\", \"high_comp_home_perc\": 37.59563419642914, \"low_comp_home_perc\": 39.285714285714285}, {\"index\": 59, \"date\": \"2020-10-04\", \"high_comp_home_perc\": 35.23772189868017, \"low_comp_home_perc\": 32.70440251572327}, {\"index\": 60, \"date\": \"2020-02-04\", \"high_comp_home_perc\": 23.160668350868256, \"low_comp_home_perc\": 39.81937602627258}, {\"index\": 61, \"date\": \"2020-02-05\", \"high_comp_home_perc\": 23.044545233932592, \"low_comp_home_perc\": 15.21505376344086}, {\"index\": 62, \"date\": \"2020-06-27\", \"high_comp_home_perc\": 40.414563415196085, \"low_comp_home_perc\": 20.21390374331551}, {\"index\": 63, \"date\": \"2020-03-05\", \"high_comp_home_perc\": 21.683364959066793, \"low_comp_home_perc\": 12.669683257918553}, {\"index\": 64, \"date\": \"2020-03-02\", \"high_comp_home_perc\": 23.509806555326954, \"low_comp_home_perc\": 23.298083278255124}, {\"index\": 65, \"date\": \"2020-04-25\", \"high_comp_home_perc\": 48.16720843872161, \"low_comp_home_perc\": 35.32258064516129}, {\"index\": 66, \"date\": \"2020-06-26\", \"high_comp_home_perc\": 37.95042909266028, \"low_comp_home_perc\": 29.197994987468668}, {\"index\": 67, \"date\": \"2020-02-25\", \"high_comp_home_perc\": 43.39273916297551, \"low_comp_home_perc\": 27.351778656126484}, {\"index\": 68, \"date\": \"2020-12-01\", \"high_comp_home_perc\": 35.52245880109318, \"low_comp_home_perc\": 15.638297872340425}, {\"index\": 69, \"date\": \"2020-05-15\", \"high_comp_home_perc\": 47.36821469817543, \"low_comp_home_perc\": 38.43283582089552}, {\"index\": 70, \"date\": \"2020-08-13\", \"high_comp_home_perc\": 37.01920696232779, \"low_comp_home_perc\": 32.14285714285714}, {\"index\": 71, \"date\": \"2020-05-20\", \"high_comp_home_perc\": 49.26012339878504, \"low_comp_home_perc\": 44.1638608305275}, {\"index\": 72, \"date\": \"2020-04-10\", \"high_comp_home_perc\": 53.37549731083601, \"low_comp_home_perc\": 56.34615384615385}, {\"index\": 73, \"date\": \"2020-04-23\", \"high_comp_home_perc\": 51.3851276896644, \"low_comp_home_perc\": 38.87987012987013}, {\"index\": 74, \"date\": \"2020-06-17\", \"high_comp_home_perc\": 43.61625719279784, \"low_comp_home_perc\": 34.88038277511962}, {\"index\": 75, \"date\": \"2020-07-17\", \"high_comp_home_perc\": 37.72439785164438, \"low_comp_home_perc\": 52.64423076923077}, {\"index\": 76, \"date\": \"2020-09-29\", \"high_comp_home_perc\": 37.26610815157646, \"low_comp_home_perc\": 36.143695014662754}, {\"index\": 77, \"date\": \"2020-02-22\", \"high_comp_home_perc\": 26.804545436457722, \"low_comp_home_perc\": 28.370221327967805}, {\"index\": 78, \"date\": \"2020-03-25\", \"high_comp_home_perc\": 47.86272855378586, \"low_comp_home_perc\": 28.75}, {\"index\": 79, \"date\": \"2020-05-11\", \"high_comp_home_perc\": 55.42053630989888, \"low_comp_home_perc\": 50.497737556561084}, {\"index\": 80, \"date\": \"2020-08-14\", \"high_comp_home_perc\": 30.90594485298974, \"low_comp_home_perc\": 21.224256292906176}, {\"index\": 81, \"date\": \"2020-10-15\", \"high_comp_home_perc\": 33.071182030246604, \"low_comp_home_perc\": 23.059964726631392}, {\"index\": 82, \"date\": \"2020-11-23\", \"high_comp_home_perc\": 38.2412011706548, \"low_comp_home_perc\": 33.50409836065574}, {\"index\": 83, \"date\": \"2020-12-08\", \"high_comp_home_perc\": 35.79610958591193, \"low_comp_home_perc\": 28.84615384615385}, {\"index\": 84, \"date\": \"2020-11-08\", \"high_comp_home_perc\": 34.90136271594272, \"low_comp_home_perc\": 30.344827586206897}, {\"index\": 85, \"date\": \"2020-05-10\", \"high_comp_home_perc\": 49.93106081785569, \"low_comp_home_perc\": 31.22529644268775}, {\"index\": 86, \"date\": \"2020-11-24\", \"high_comp_home_perc\": 33.876022326392636, \"low_comp_home_perc\": 22.596153846153847}, {\"index\": 87, \"date\": \"2020-04-21\", \"high_comp_home_perc\": 53.83546670025204, \"low_comp_home_perc\": 36.605783866057834}, {\"index\": 88, \"date\": \"2020-05-26\", \"high_comp_home_perc\": 46.00854932079984, \"low_comp_home_perc\": 35.41463414634146}, {\"index\": 89, \"date\": \"2020-12-27\", \"high_comp_home_perc\": 36.37955851098131, \"low_comp_home_perc\": 25.490196078431374}, {\"index\": 90, \"date\": \"2020-01-10\", \"high_comp_home_perc\": 22.53925598642797, \"low_comp_home_perc\": 16.636528028933093}, {\"index\": 91, \"date\": \"2020-02-19\", \"high_comp_home_perc\": 25.12062493362731, \"low_comp_home_perc\": 28.021978021978022}, {\"index\": 92, \"date\": \"2020-11-02\", \"high_comp_home_perc\": 35.95561586837019, \"low_comp_home_perc\": 37.912912912912915}, {\"index\": 93, \"date\": \"2020-12-02\", \"high_comp_home_perc\": 37.07607115792892, \"low_comp_home_perc\": 24.51298701298701}, {\"index\": 94, \"date\": \"2020-05-23\", \"high_comp_home_perc\": 51.30718901901021, \"low_comp_home_perc\": 37.828947368421055}, {\"index\": 95, \"date\": \"2020-08-19\", \"high_comp_home_perc\": 35.50290362514001, \"low_comp_home_perc\": 28.9272030651341}, {\"index\": 96, \"date\": \"2020-11-17\", \"high_comp_home_perc\": 34.88892292841188, \"low_comp_home_perc\": 24.95908346972177}, {\"index\": 97, \"date\": \"2020-04-30\", \"high_comp_home_perc\": 49.34151997385304, \"low_comp_home_perc\": 23.5}, {\"index\": 98, \"date\": \"2020-06-07\", \"high_comp_home_perc\": 42.7955382610814, \"low_comp_home_perc\": 24.290123456790123}, {\"index\": 99, \"date\": \"2020-06-13\", \"high_comp_home_perc\": 39.50794553634729, \"low_comp_home_perc\": 37.42424242424242}, {\"index\": 100, \"date\": \"2020-03-20\", \"high_comp_home_perc\": 41.484913501038704, \"low_comp_home_perc\": 11.133486766398159}, {\"index\": 101, \"date\": \"2020-05-09\", \"high_comp_home_perc\": 52.530028938958935, \"low_comp_home_perc\": 46.381578947368425}, {\"index\": 102, \"date\": \"2020-09-25\", \"high_comp_home_perc\": 31.582062922538768, \"low_comp_home_perc\": 28.22398190045249}, {\"index\": 103, \"date\": \"2020-11-05\", \"high_comp_home_perc\": 33.35350994049429, \"low_comp_home_perc\": 36.45833333333333}, {\"index\": 104, \"date\": \"2020-01-23\", \"high_comp_home_perc\": 22.1987194485847, \"low_comp_home_perc\": 17.15686274509804}, {\"index\": 105, \"date\": \"2020-02-08\", \"high_comp_home_perc\": 28.43370535893391, \"low_comp_home_perc\": 18.425925925925927}, {\"index\": 106, \"date\": \"2020-10-05\", \"high_comp_home_perc\": 33.77074123501281, \"low_comp_home_perc\": 13.459915611814347}, {\"index\": 107, \"date\": \"2020-06-01\", \"high_comp_home_perc\": 44.872430796183714, \"low_comp_home_perc\": 38.991477272727266}, {\"index\": 108, \"date\": \"2020-08-04\", \"high_comp_home_perc\": 41.879004528909874, \"low_comp_home_perc\": 32.95454545454545}, {\"index\": 109, \"date\": \"2020-11-27\", \"high_comp_home_perc\": 30.652468784707764, \"low_comp_home_perc\": 13.653483992467043}, {\"index\": 110, \"date\": \"2020-02-02\", \"high_comp_home_perc\": 33.71924685352527, \"low_comp_home_perc\": 55.882352941176464}, {\"index\": 111, \"date\": \"2020-04-09\", \"high_comp_home_perc\": 55.45559272255319, \"low_comp_home_perc\": 38.778550148957294}, {\"index\": 112, \"date\": \"2020-04-17\", \"high_comp_home_perc\": 51.876704589208494, \"low_comp_home_perc\": 29.320754716981135}, {\"index\": 113, \"date\": \"2020-03-24\", \"high_comp_home_perc\": 47.49557180076317, \"low_comp_home_perc\": 35.0}, {\"index\": 114, \"date\": \"2020-05-18\", \"high_comp_home_perc\": 50.10351948977579, \"low_comp_home_perc\": 38.026315789473685}, {\"index\": 115, \"date\": \"2020-11-03\", \"high_comp_home_perc\": 35.49030505197925, \"low_comp_home_perc\": 24.007936507936506}, {\"index\": 116, \"date\": \"2020-12-14\", \"high_comp_home_perc\": 39.95446846304137, \"low_comp_home_perc\": 28.94736842105263}, {\"index\": 117, \"date\": \"2020-01-28\", \"high_comp_home_perc\": 22.041991501712356, \"low_comp_home_perc\": 13.14655172413793}, {\"index\": 118, \"date\": \"2020-07-03\", \"high_comp_home_perc\": 36.68748110256638, \"low_comp_home_perc\": 28.54864433811802}, {\"index\": 119, \"date\": \"2020-11-16\", \"high_comp_home_perc\": 35.984747329964435, \"low_comp_home_perc\": 16.5158371040724}, {\"index\": 120, \"date\": \"2020-12-24\", \"high_comp_home_perc\": 31.64749454871946, \"low_comp_home_perc\": 36.470588235294116}, {\"index\": 121, \"date\": \"2020-08-23\", \"high_comp_home_perc\": 36.54922148852229, \"low_comp_home_perc\": 26.575630252100844}, {\"index\": 122, \"date\": \"2020-05-07\", \"high_comp_home_perc\": 51.37748342809223, \"low_comp_home_perc\": 38.79310344827586}, {\"index\": 123, \"date\": \"2020-09-13\", \"high_comp_home_perc\": 37.879624472992575, \"low_comp_home_perc\": 27.083333333333336}, {\"index\": 124, \"date\": \"2020-06-23\", \"high_comp_home_perc\": 38.83685672603407, \"low_comp_home_perc\": 50.44687189672294}, {\"index\": 125, \"date\": \"2020-07-26\", \"high_comp_home_perc\": 37.790026711933706, \"low_comp_home_perc\": 35.25149190110827}, {\"index\": 126, \"date\": \"2020-12-07\", \"high_comp_home_perc\": 36.72153357110487, \"low_comp_home_perc\": 31.5114709851552}, {\"index\": 127, \"date\": \"2020-09-01\", \"high_comp_home_perc\": 33.775051844094406, \"low_comp_home_perc\": 33.07453416149069}, {\"index\": 128, \"date\": \"2020-03-04\", \"high_comp_home_perc\": 23.37152725224268, \"low_comp_home_perc\": 12.013979903888162}, {\"index\": 129, \"date\": \"2020-01-30\", \"high_comp_home_perc\": 20.134509738822654, \"low_comp_home_perc\": 9.615384615384617}, {\"index\": 130, \"date\": \"2020-03-10\", \"high_comp_home_perc\": 24.26015947581912, \"low_comp_home_perc\": 21.55049786628734}, {\"index\": 131, \"date\": \"2020-01-20\", \"high_comp_home_perc\": 30.613425067958378, \"low_comp_home_perc\": 16.08187134502924}, {\"index\": 132, \"date\": \"2020-07-14\", \"high_comp_home_perc\": 36.55517492295272, \"low_comp_home_perc\": 37.85087719298245}, {\"index\": 133, \"date\": \"2020-04-26\", \"high_comp_home_perc\": 55.79431153769299, \"low_comp_home_perc\": 43.51851851851852}, {\"index\": 134, \"date\": \"2020-02-03\", \"high_comp_home_perc\": 24.668473316989573, \"low_comp_home_perc\": 25.0}, {\"index\": 135, \"date\": \"2020-03-12\", \"high_comp_home_perc\": 26.844614465162724, \"low_comp_home_perc\": 17.004264392324096}, {\"index\": 136, \"date\": \"2020-06-21\", \"high_comp_home_perc\": 39.51781985043348, \"low_comp_home_perc\": 50.16339869281046}, {\"index\": 137, \"date\": \"2020-09-02\", \"high_comp_home_perc\": 33.466227729483364, \"low_comp_home_perc\": 19.142857142857142}, {\"index\": 138, \"date\": \"2020-01-29\", \"high_comp_home_perc\": 21.218348350825718, \"low_comp_home_perc\": 17.543859649122805}, {\"index\": 139, \"date\": \"2020-01-31\", \"high_comp_home_perc\": 18.68789843261425, \"low_comp_home_perc\": 13.508064516129032}, {\"index\": 140, \"date\": \"2020-05-03\", \"high_comp_home_perc\": 51.988679044984764, \"low_comp_home_perc\": 42.230026338893765}, {\"index\": 141, \"date\": \"2020-06-11\", \"high_comp_home_perc\": 47.03267912834912, \"low_comp_home_perc\": 34.02777777777778}, {\"index\": 142, \"date\": \"2020-07-07\", \"high_comp_home_perc\": 39.90374317358157, \"low_comp_home_perc\": 34.81449525452976}, {\"index\": 143, \"date\": \"2020-06-15\", \"high_comp_home_perc\": 44.25624271599755, \"low_comp_home_perc\": 57.63888888888889}, {\"index\": 144, \"date\": \"2020-08-09\", \"high_comp_home_perc\": 37.26336571140434, \"low_comp_home_perc\": 16.126126126126128}, {\"index\": 145, \"date\": \"2020-12-23\", \"high_comp_home_perc\": 30.824323866302155, \"low_comp_home_perc\": 35.892857142857146}, {\"index\": 146, \"date\": \"2020-03-11\", \"high_comp_home_perc\": 25.138340535358438, \"low_comp_home_perc\": 11.137897782063645}, {\"index\": 147, \"date\": \"2020-08-17\", \"high_comp_home_perc\": 35.89713039698989, \"low_comp_home_perc\": 17.4860853432282}, {\"index\": 148, \"date\": \"2020-11-11\", \"high_comp_home_perc\": 35.78899796656143, \"low_comp_home_perc\": 31.34796238244514}, {\"index\": 149, \"date\": \"2020-01-27\", \"high_comp_home_perc\": 23.023539144706916, \"low_comp_home_perc\": 13.825757575757576}, {\"index\": 150, \"date\": \"2020-04-27\", \"high_comp_home_perc\": 51.31623383081144, \"low_comp_home_perc\": 42.876838235294116}, {\"index\": 151, \"date\": \"2020-05-28\", \"high_comp_home_perc\": 47.18115402616637, \"low_comp_home_perc\": 31.095679012345677}, {\"index\": 152, \"date\": \"2020-05-08\", \"high_comp_home_perc\": 53.56868577997912, \"low_comp_home_perc\": 41.6017316017316}, {\"index\": 153, \"date\": \"2020-10-08\", \"high_comp_home_perc\": 33.57166657304884, \"low_comp_home_perc\": 27.314814814814813}, {\"index\": 154, \"date\": \"2020-10-26\", \"high_comp_home_perc\": 38.70717220197138, \"low_comp_home_perc\": 23.214285714285715}, {\"index\": 155, \"date\": \"2020-02-20\", \"high_comp_home_perc\": 23.601359831919194, \"low_comp_home_perc\": 20.980392156862745}, {\"index\": 156, \"date\": \"2020-10-27\", \"high_comp_home_perc\": 34.66043481035906, \"low_comp_home_perc\": 14.0625}, {\"index\": 157, \"date\": \"2020-09-03\", \"high_comp_home_perc\": 33.625740510270774, \"low_comp_home_perc\": 19.975490196078432}, {\"index\": 158, \"date\": \"2020-01-11\", \"high_comp_home_perc\": 28.419244926618987, \"low_comp_home_perc\": 13.573232323232322}, {\"index\": 159, \"date\": \"2020-08-26\", \"high_comp_home_perc\": 33.16418092688403, \"low_comp_home_perc\": 10.633484162895927}, {\"index\": 160, \"date\": \"2020-10-28\", \"high_comp_home_perc\": 35.534892971473546, \"low_comp_home_perc\": 30.95238095238095}, {\"index\": 161, \"date\": \"2020-03-13\", \"high_comp_home_perc\": 26.498422433285345, \"low_comp_home_perc\": 14.821428571428571}, {\"index\": 162, \"date\": \"2020-03-27\", \"high_comp_home_perc\": 47.17650670347217, \"low_comp_home_perc\": 28.384615384615387}, {\"index\": 163, \"date\": \"2020-03-22\", \"high_comp_home_perc\": 48.67689052147754, \"low_comp_home_perc\": 26.226551226551226}, {\"index\": 164, \"date\": \"2020-07-24\", \"high_comp_home_perc\": 37.43153522078511, \"low_comp_home_perc\": 33.98366606170599}, {\"index\": 165, \"date\": \"2020-08-20\", \"high_comp_home_perc\": 32.417661787082366, \"low_comp_home_perc\": 27.916666666666664}, {\"index\": 166, \"date\": \"2020-11-25\", \"high_comp_home_perc\": 35.17122680335342, \"low_comp_home_perc\": 44.049346879535555}, {\"index\": 167, \"date\": \"2020-07-31\", \"high_comp_home_perc\": 33.82809424635579, \"low_comp_home_perc\": 26.006441223832525}, {\"index\": 168, \"date\": \"2020-07-01\", \"high_comp_home_perc\": 38.98413152953288, \"low_comp_home_perc\": 24.764150943396224}, {\"index\": 169, \"date\": \"2020-07-28\", \"high_comp_home_perc\": 36.0253511849255, \"low_comp_home_perc\": 18.031189083820664}, {\"index\": 170, \"date\": \"2020-11-20\", \"high_comp_home_perc\": 32.15849359540889, \"low_comp_home_perc\": 29.874213836477985}, {\"index\": 171, \"date\": \"2020-12-20\", \"high_comp_home_perc\": 39.476330487236815, \"low_comp_home_perc\": 32.72727272727273}, {\"index\": 172, \"date\": \"2020-03-28\", \"high_comp_home_perc\": 53.2843744929993, \"low_comp_home_perc\": 14.285714285714285}, {\"index\": 173, \"date\": \"2020-04-08\", \"high_comp_home_perc\": 54.075977989734085, \"low_comp_home_perc\": 43.87978142076503}, {\"index\": 174, \"date\": \"2020-05-22\", \"high_comp_home_perc\": 45.705204286232565, \"low_comp_home_perc\": 35.065789473684205}, {\"index\": 175, \"date\": \"2020-02-11\", \"high_comp_home_perc\": 23.115159665196853, \"low_comp_home_perc\": 20.795454545454547}, {\"index\": 176, \"date\": \"2020-08-22\", \"high_comp_home_perc\": 30.18261330944204, \"low_comp_home_perc\": 15.073529411764707}, {\"index\": 177, \"date\": \"2020-08-24\", \"high_comp_home_perc\": 34.20778694456051, \"low_comp_home_perc\": 32.16123499142367}, {\"index\": 178, \"date\": \"2020-03-01\", \"high_comp_home_perc\": 33.99671132863865, \"low_comp_home_perc\": 23.044217687074827}, {\"index\": 179, \"date\": \"2020-10-07\", \"high_comp_home_perc\": 33.96185443042254, \"low_comp_home_perc\": 21.718931475029038}, {\"index\": 180, \"date\": \"2020-11-26\", \"high_comp_home_perc\": 37.06162508587625, \"low_comp_home_perc\": 31.055900621118013}, {\"index\": 181, \"date\": \"2020-05-25\", \"high_comp_home_perc\": 45.9930865769862, \"low_comp_home_perc\": 37.66666666666667}, {\"index\": 182, \"date\": \"2020-10-06\", \"high_comp_home_perc\": 34.83475131773191, \"low_comp_home_perc\": 41.02272727272727}, {\"index\": 183, \"date\": \"2020-10-12\", \"high_comp_home_perc\": 41.85479341112084, \"low_comp_home_perc\": 43.07692307692308}, {\"index\": 184, \"date\": \"2020-11-28\", \"high_comp_home_perc\": 31.297053380709706, \"low_comp_home_perc\": 36.224489795918366}, {\"index\": 185, \"date\": \"2020-11-30\", \"high_comp_home_perc\": 40.46261774034694, \"low_comp_home_perc\": 29.39393939393939}, {\"index\": 186, \"date\": \"2020-05-19\", \"high_comp_home_perc\": 51.2177314363122, \"low_comp_home_perc\": 36.392405063291136}, {\"index\": 187, \"date\": \"2020-11-06\", \"high_comp_home_perc\": 30.455534226527863, \"low_comp_home_perc\": 31.66666666666667}, {\"index\": 188, \"date\": \"2020-12-09\", \"high_comp_home_perc\": 36.53306796346439, \"low_comp_home_perc\": 41.269841269841265}, {\"index\": 189, \"date\": \"2020-09-27\", \"high_comp_home_perc\": 35.286399459876094, \"low_comp_home_perc\": 36.22549019607843}, {\"index\": 190, \"date\": \"2020-10-17\", \"high_comp_home_perc\": 31.449586363401348, \"low_comp_home_perc\": 19.854469854469855}, {\"index\": 191, \"date\": \"2020-02-10\", \"high_comp_home_perc\": 23.667910442074557, \"low_comp_home_perc\": 29.33884297520661}, {\"index\": 192, \"date\": \"2020-10-01\", \"high_comp_home_perc\": 31.1392508978407, \"low_comp_home_perc\": 19.89795918367347}, {\"index\": 193, \"date\": \"2020-09-21\", \"high_comp_home_perc\": 36.956830880884, \"low_comp_home_perc\": 22.846153846153847}, {\"index\": 194, \"date\": \"2020-12-13\", \"high_comp_home_perc\": 35.99692120340109, \"low_comp_home_perc\": 35.57692307692308}, {\"index\": 195, \"date\": \"2020-04-15\", \"high_comp_home_perc\": 52.91164663492633, \"low_comp_home_perc\": 33.97129186602871}, {\"index\": 196, \"date\": \"2020-07-30\", \"high_comp_home_perc\": 34.49497338460166, \"low_comp_home_perc\": 32.083333333333336}, {\"index\": 197, \"date\": \"2020-02-07\", \"high_comp_home_perc\": 22.396631679004027, \"low_comp_home_perc\": 21.064814814814813}, {\"index\": 198, \"date\": \"2020-06-14\", \"high_comp_home_perc\": 42.10803600443039, \"low_comp_home_perc\": 38.888888888888886}, {\"index\": 199, \"date\": \"2020-08-02\", \"high_comp_home_perc\": 37.68763006596538, \"low_comp_home_perc\": 37.55896226415094}, {\"index\": 200, \"date\": \"2020-01-19\", \"high_comp_home_perc\": 31.361690317215007, \"low_comp_home_perc\": 32.295081967213115}, {\"index\": 201, \"date\": \"2020-03-19\", \"high_comp_home_perc\": 42.38891518009683, \"low_comp_home_perc\": 23.40933191940615}, {\"index\": 202, \"date\": \"2020-08-10\", \"high_comp_home_perc\": 35.38325708373229, \"low_comp_home_perc\": 29.45736434108527}, {\"index\": 203, \"date\": \"2020-08-21\", \"high_comp_home_perc\": 31.564803984449163, \"low_comp_home_perc\": 23.875181422351233}, {\"index\": 204, \"date\": \"2020-09-19\", \"high_comp_home_perc\": 31.587636526170392, \"low_comp_home_perc\": 20.0}, {\"index\": 205, \"date\": \"2020-02-27\", \"high_comp_home_perc\": 21.193731000415834, \"low_comp_home_perc\": 17.80466724286949}, {\"index\": 206, \"date\": \"2020-12-04\", \"high_comp_home_perc\": 35.390665184551374, \"low_comp_home_perc\": 31.41025641025641}, {\"index\": 207, \"date\": \"2020-02-16\", \"high_comp_home_perc\": 28.22862900515371, \"low_comp_home_perc\": 27.5}, {\"index\": 208, \"date\": \"2020-02-21\", \"high_comp_home_perc\": 22.712315461842934, \"low_comp_home_perc\": 17.142857142857142}, {\"index\": 209, \"date\": \"2020-07-22\", \"high_comp_home_perc\": 38.23902192281238, \"low_comp_home_perc\": 49.37641723356009}, {\"index\": 210, \"date\": \"2020-12-29\", \"high_comp_home_perc\": 33.246913579363785, \"low_comp_home_perc\": 30.021367521367523}, {\"index\": 211, \"date\": \"2020-05-29\", \"high_comp_home_perc\": 42.54582202612137, \"low_comp_home_perc\": 40.142276422764226}, {\"index\": 212, \"date\": \"2020-06-19\", \"high_comp_home_perc\": 39.84461390681505, \"low_comp_home_perc\": 39.833333333333336}, {\"index\": 213, \"date\": \"2020-09-23\", \"high_comp_home_perc\": 34.94363968649501, \"low_comp_home_perc\": 34.03508771929825}, {\"index\": 214, \"date\": \"2020-10-16\", \"high_comp_home_perc\": 35.678406676298636, \"low_comp_home_perc\": 27.166666666666664}, {\"index\": 215, \"date\": \"2020-09-30\", \"high_comp_home_perc\": 33.23871096353343, \"low_comp_home_perc\": 19.175824175824175}, {\"index\": 216, \"date\": \"2020-07-23\", \"high_comp_home_perc\": 38.34197062315583, \"low_comp_home_perc\": 31.761006289308174}, {\"index\": 217, \"date\": \"2020-04-01\", \"high_comp_home_perc\": 54.26559526686101, \"low_comp_home_perc\": 43.656938653960694}, {\"index\": 218, \"date\": \"2020-02-29\", \"high_comp_home_perc\": 26.330546415017967, \"low_comp_home_perc\": 17.698412698412696}, {\"index\": 219, \"date\": \"2020-07-08\", \"high_comp_home_perc\": 37.52479837262536, \"low_comp_home_perc\": 27.89115646258503}, {\"index\": 220, \"date\": \"2020-01-24\", \"high_comp_home_perc\": 20.65415513209444, \"low_comp_home_perc\": 14.333333333333334}, {\"index\": 221, \"date\": \"2020-04-03\", \"high_comp_home_perc\": 56.40112741284585, \"low_comp_home_perc\": 46.90402476780186}, {\"index\": 222, \"date\": \"2020-05-12\", \"high_comp_home_perc\": 51.45915183746449, \"low_comp_home_perc\": 40.35087719298245}, {\"index\": 223, \"date\": \"2020-08-28\", \"high_comp_home_perc\": 32.70959010922294, \"low_comp_home_perc\": 27.857142857142858}, {\"index\": 224, \"date\": \"2020-11-13\", \"high_comp_home_perc\": 34.10186783266954, \"low_comp_home_perc\": 29.464285714285715}, {\"index\": 225, \"date\": \"2020-01-17\", \"high_comp_home_perc\": 22.201897409656546, \"low_comp_home_perc\": 20.54794520547945}, {\"index\": 226, \"date\": \"2020-08-08\", \"high_comp_home_perc\": 32.69370860605783, \"low_comp_home_perc\": 35.05952380952381}, {\"index\": 227, \"date\": \"2020-08-27\", \"high_comp_home_perc\": 33.50151881589691, \"low_comp_home_perc\": 20.361990950226243}, {\"index\": 228, \"date\": \"2020-12-10\", \"high_comp_home_perc\": 36.62305474115829, \"low_comp_home_perc\": 23.636363636363633}, {\"index\": 229, \"date\": \"2020-05-21\", \"high_comp_home_perc\": 48.37879298511014, \"low_comp_home_perc\": 29.691876750700278}, {\"index\": 230, \"date\": \"2020-04-11\", \"high_comp_home_perc\": 53.798124111131564, \"low_comp_home_perc\": 48.51443123938879}, {\"index\": 231, \"date\": \"2020-04-06\", \"high_comp_home_perc\": 53.519159962742286, \"low_comp_home_perc\": 54.406130268199234}, {\"index\": 232, \"date\": \"2020-05-05\", \"high_comp_home_perc\": 53.10741420864028, \"low_comp_home_perc\": 35.88640275387263}, {\"index\": 233, \"date\": \"2020-10-03\", \"high_comp_home_perc\": 31.14052376289975, \"low_comp_home_perc\": 11.858974358974358}, {\"index\": 234, \"date\": \"2020-03-09\", \"high_comp_home_perc\": 22.76854790852653, \"low_comp_home_perc\": 23.495934959349594}, {\"index\": 235, \"date\": \"2020-05-04\", \"high_comp_home_perc\": 53.45449041264427, \"low_comp_home_perc\": 34.136546184738954}, {\"index\": 236, \"date\": \"2020-09-22\", \"high_comp_home_perc\": 35.29264046215299, \"low_comp_home_perc\": 32.135627530364374}, {\"index\": 237, \"date\": \"2020-05-31\", \"high_comp_home_perc\": 44.938706980503746, \"low_comp_home_perc\": 35.650623885918}, {\"index\": 238, \"date\": \"2020-06-06\", \"high_comp_home_perc\": 42.60027518697961, \"low_comp_home_perc\": 35.11278195488722}, {\"index\": 239, \"date\": \"2020-01-04\", \"high_comp_home_perc\": 32.18589188170678, \"low_comp_home_perc\": 17.987012987012985}, {\"index\": 240, \"date\": \"2020-03-29\", \"high_comp_home_perc\": 54.89538986600481, \"low_comp_home_perc\": 32.483552631578945}, {\"index\": 241, \"date\": \"2020-02-23\", \"high_comp_home_perc\": 28.6523063388755, \"low_comp_home_perc\": 13.321596244131456}, {\"index\": 242, \"date\": \"2020-11-07\", \"high_comp_home_perc\": 29.399172637596465, \"low_comp_home_perc\": 41.495601173020525}, {\"index\": 243, \"date\": \"2020-12-21\", \"high_comp_home_perc\": 36.28970795870058, \"low_comp_home_perc\": 21.139705882352942}, {\"index\": 244, \"date\": \"2020-05-02\", \"high_comp_home_perc\": 47.476158528443754, \"low_comp_home_perc\": 37.71929824561403}, {\"index\": 245, \"date\": \"2020-09-15\", \"high_comp_home_perc\": 34.58973315670363, \"low_comp_home_perc\": 19.4017094017094}, {\"index\": 246, \"date\": \"2020-11-18\", \"high_comp_home_perc\": 36.39710007821032, \"low_comp_home_perc\": 26.321353065539114}, {\"index\": 247, \"date\": \"2020-12-31\", \"high_comp_home_perc\": 32.925441551872844, \"low_comp_home_perc\": 30.21978021978022}, {\"index\": 248, \"date\": \"2020-04-04\", \"high_comp_home_perc\": 54.13325249484737, \"low_comp_home_perc\": 43.57843137254902}, {\"index\": 249, \"date\": \"2020-10-11\", \"high_comp_home_perc\": 34.89968848231192, \"low_comp_home_perc\": 38.205128205128204}, {\"index\": 250, \"date\": \"2020-04-14\", \"high_comp_home_perc\": 52.426431612618266, \"low_comp_home_perc\": 41.369606003752345}, {\"index\": 251, \"date\": \"2020-09-28\", \"high_comp_home_perc\": 35.47945924014199, \"low_comp_home_perc\": 21.239406779661017}, {\"index\": 252, \"date\": \"2020-04-18\", \"high_comp_home_perc\": 53.36764965021245, \"low_comp_home_perc\": 33.68421052631579}, {\"index\": 253, \"date\": \"2020-01-26\", \"high_comp_home_perc\": 29.133143022710634, \"low_comp_home_perc\": 13.480885311871226}, {\"index\": 254, \"date\": \"2020-08-12\", \"high_comp_home_perc\": 36.5636183290678, \"low_comp_home_perc\": 25.08361204013378}, {\"index\": 255, \"date\": \"2020-09-26\", \"high_comp_home_perc\": 31.929935185185787, \"low_comp_home_perc\": 28.427672955974842}, {\"index\": 256, \"date\": \"2020-10-02\", \"high_comp_home_perc\": 31.577908923747618, \"low_comp_home_perc\": 13.571428571428571}, {\"index\": 257, \"date\": \"2020-01-02\", \"high_comp_home_perc\": 25.80185763577373, \"low_comp_home_perc\": 34.19913419913419}, {\"index\": 258, \"date\": \"2020-06-25\", \"high_comp_home_perc\": 39.5246318877529, \"low_comp_home_perc\": 48.784194528875375}, {\"index\": 259, \"date\": \"2020-07-16\", \"high_comp_home_perc\": 36.79913293266479, \"low_comp_home_perc\": 19.504310344827587}, {\"index\": 260, \"date\": \"2020-06-03\", \"high_comp_home_perc\": 47.21808086103965, \"low_comp_home_perc\": 32.35294117647059}, {\"index\": 261, \"date\": \"2020-10-10\", \"high_comp_home_perc\": 31.34684097595152, \"low_comp_home_perc\": 25.694444444444443}, {\"index\": 262, \"date\": \"2020-12-30\", \"high_comp_home_perc\": 31.792873449764684, \"low_comp_home_perc\": 20.289855072463766}, {\"index\": 263, \"date\": \"2020-01-07\", \"high_comp_home_perc\": 24.447774149362942, \"low_comp_home_perc\": 15.555555555555555}, {\"index\": 264, \"date\": \"2020-01-09\", \"high_comp_home_perc\": 22.968020775595523, \"low_comp_home_perc\": 20.604395604395606}, {\"index\": 265, \"date\": \"2020-05-06\", \"high_comp_home_perc\": 54.91973816058788, \"low_comp_home_perc\": 43.33333333333333}, {\"index\": 266, \"date\": \"2020-11-22\", \"high_comp_home_perc\": 36.150861182983576, \"low_comp_home_perc\": 40.526315789473685}, {\"index\": 267, \"date\": \"2020-05-24\", \"high_comp_home_perc\": 45.560774260366216, \"low_comp_home_perc\": 40.513698630136986}, {\"index\": 268, \"date\": \"2020-09-18\", \"high_comp_home_perc\": 32.6119334972648, \"low_comp_home_perc\": 20.380029806259316}, {\"index\": 269, \"date\": \"2020-02-24\", \"high_comp_home_perc\": 21.206606599113904, \"low_comp_home_perc\": 28.660714285714285}, {\"index\": 270, \"date\": \"2020-03-08\", \"high_comp_home_perc\": 30.201554217443658, \"low_comp_home_perc\": 20.51282051282051}, {\"index\": 271, \"date\": \"2020-09-05\", \"high_comp_home_perc\": 30.32285297488613, \"low_comp_home_perc\": 17.142857142857142}, {\"index\": 272, \"date\": \"2020-05-27\", \"high_comp_home_perc\": 45.17787986634246, \"low_comp_home_perc\": 22.237442922374427}, {\"index\": 273, \"date\": \"2020-08-16\", \"high_comp_home_perc\": 38.95001454362784, \"low_comp_home_perc\": 34.970238095238095}, {\"index\": 274, \"date\": \"2020-09-09\", \"high_comp_home_perc\": 34.75671365240566, \"low_comp_home_perc\": 16.25}, {\"index\": 275, \"date\": \"2020-10-30\", \"high_comp_home_perc\": 34.933160223506896, \"low_comp_home_perc\": 37.94178794178794}, {\"index\": 276, \"date\": \"2020-12-06\", \"high_comp_home_perc\": 38.14948387978726, \"low_comp_home_perc\": 32.35294117647059}, {\"index\": 277, \"date\": \"2020-08-30\", \"high_comp_home_perc\": 34.904600850253914, \"low_comp_home_perc\": 20.692307692307693}, {\"index\": 278, \"date\": \"2020-02-09\", \"high_comp_home_perc\": 31.063205162776672, \"low_comp_home_perc\": 30.805176132278937}, {\"index\": 279, \"date\": \"2020-09-24\", \"high_comp_home_perc\": 34.34175597309292, \"low_comp_home_perc\": 31.403508771929822}, {\"index\": 280, \"date\": \"2020-04-24\", \"high_comp_home_perc\": 52.146342016585734, \"low_comp_home_perc\": 42.43295019157088}, {\"index\": 281, \"date\": \"2020-01-14\", \"high_comp_home_perc\": 21.721490929888144, \"low_comp_home_perc\": 19.841269841269842}, {\"index\": 282, \"date\": \"2020-07-19\", \"high_comp_home_perc\": 39.61519567229551, \"low_comp_home_perc\": 24.19908466819222}, {\"index\": 283, \"date\": \"2020-11-04\", \"high_comp_home_perc\": 34.29929007287126, \"low_comp_home_perc\": 28.755020080321284}, {\"index\": 284, \"date\": \"2020-06-30\", \"high_comp_home_perc\": 37.5405652650216, \"low_comp_home_perc\": 31.481481481481477}, {\"index\": 285, \"date\": \"2020-07-18\", \"high_comp_home_perc\": 36.627054900734954, \"low_comp_home_perc\": 47.737556561085974}, {\"index\": 286, \"date\": \"2020-02-14\", \"high_comp_home_perc\": 21.147357806848003, \"low_comp_home_perc\": 34.065934065934066}, {\"index\": 287, \"date\": \"2020-09-17\", \"high_comp_home_perc\": 35.79570957486464, \"low_comp_home_perc\": 25.380116959064324}, {\"index\": 288, \"date\": \"2020-01-25\", \"high_comp_home_perc\": 30.141633341872133, \"low_comp_home_perc\": 22.619047619047617}, {\"index\": 289, \"date\": \"2020-05-17\", \"high_comp_home_perc\": 50.431528282826996, \"low_comp_home_perc\": 46.71052631578947}, {\"index\": 290, \"date\": \"2020-07-27\", \"high_comp_home_perc\": 39.010563840562256, \"low_comp_home_perc\": 28.133903133903136}, {\"index\": 291, \"date\": \"2020-07-29\", \"high_comp_home_perc\": 34.936070816885604, \"low_comp_home_perc\": 33.490566037735846}, {\"index\": 292, \"date\": \"2020-02-06\", \"high_comp_home_perc\": 23.872522300830596, \"low_comp_home_perc\": 17.73109243697479}, {\"index\": 293, \"date\": \"2020-03-15\", \"high_comp_home_perc\": 37.26091969252352, \"low_comp_home_perc\": 17.710309930423783}, {\"index\": 294, \"date\": \"2020-07-13\", \"high_comp_home_perc\": 37.33571289777807, \"low_comp_home_perc\": 42.0}, {\"index\": 295, \"date\": \"2020-12-26\", \"high_comp_home_perc\": 34.91121561116488, \"low_comp_home_perc\": 27.666666666666664}, {\"index\": 296, \"date\": \"2020-03-07\", \"high_comp_home_perc\": 28.801359195335767, \"low_comp_home_perc\": 12.142857142857142}, {\"index\": 297, \"date\": \"2020-04-29\", \"high_comp_home_perc\": 50.73544818558626, \"low_comp_home_perc\": 46.73076923076924}, {\"index\": 298, \"date\": \"2020-03-17\", \"high_comp_home_perc\": 38.78618875388897, \"low_comp_home_perc\": 26.717948717948715}, {\"index\": 299, \"date\": \"2020-07-11\", \"high_comp_home_perc\": 37.8738906438569, \"low_comp_home_perc\": 32.04449152542373}, {\"index\": 300, \"date\": \"2020-10-19\", \"high_comp_home_perc\": 36.55977095483289, \"low_comp_home_perc\": 24.526515151515152}, {\"index\": 301, \"date\": \"2020-10-31\", \"high_comp_home_perc\": 30.901200023383986, \"low_comp_home_perc\": 31.25}, {\"index\": 302, \"date\": \"2020-07-21\", \"high_comp_home_perc\": 36.692198321328775, \"low_comp_home_perc\": 29.166666666666664}, {\"index\": 303, \"date\": \"2020-04-02\", \"high_comp_home_perc\": 55.4315392872688, \"low_comp_home_perc\": 50.35087719298245}, {\"index\": 304, \"date\": \"2020-07-04\", \"high_comp_home_perc\": 37.03720863204367, \"low_comp_home_perc\": 36.810661764705884}, {\"index\": 305, \"date\": \"2020-03-18\", \"high_comp_home_perc\": 39.591422902926354, \"low_comp_home_perc\": 18.67732558139535}, {\"index\": 306, \"date\": \"2020-08-07\", \"high_comp_home_perc\": 33.09482015857662, \"low_comp_home_perc\": 26.77865612648221}, {\"index\": 307, \"date\": \"2020-09-04\", \"high_comp_home_perc\": 30.81873653422983, \"low_comp_home_perc\": 20.86056644880174}, {\"index\": 308, \"date\": \"2020-10-09\", \"high_comp_home_perc\": 30.961438457240945, \"low_comp_home_perc\": 21.018835616438356}, {\"index\": 309, \"date\": \"2020-02-17\", \"high_comp_home_perc\": 26.835114075309466, \"low_comp_home_perc\": 18.157894736842103}, {\"index\": 310, \"date\": \"2020-01-21\", \"high_comp_home_perc\": 22.936283669351205, \"low_comp_home_perc\": 37.93402777777778}, {\"index\": 311, \"date\": \"2020-02-01\", \"high_comp_home_perc\": 30.508790453223465, \"low_comp_home_perc\": 22.916666666666664}, {\"index\": 312, \"date\": \"2020-06-02\", \"high_comp_home_perc\": 48.11530853471153, \"low_comp_home_perc\": 34.9859943977591}, {\"index\": 313, \"date\": \"2020-06-05\", \"high_comp_home_perc\": 45.180145169922646, \"low_comp_home_perc\": 35.515151515151516}, {\"index\": 314, \"date\": \"2020-09-07\", \"high_comp_home_perc\": 36.785094196512254, \"low_comp_home_perc\": 21.336996336996336}, {\"index\": 315, \"date\": \"2020-10-13\", \"high_comp_home_perc\": 38.35371768227059, \"low_comp_home_perc\": 23.284313725490193}, {\"index\": 316, \"date\": \"2020-07-10\", \"high_comp_home_perc\": 41.79079833317589, \"low_comp_home_perc\": 34.18181818181819}, {\"index\": 317, \"date\": \"2020-12-11\", \"high_comp_home_perc\": 31.89353532213622, \"low_comp_home_perc\": 36.53846153846154}, {\"index\": 318, \"date\": \"2020-06-04\", \"high_comp_home_perc\": 43.60927558989157, \"low_comp_home_perc\": 26.898899947616552}, {\"index\": 319, \"date\": \"2020-07-09\", \"high_comp_home_perc\": 36.47705687428106, \"low_comp_home_perc\": 27.142857142857142}, {\"index\": 320, \"date\": \"2020-11-09\", \"high_comp_home_perc\": 35.11459203624925, \"low_comp_home_perc\": 42.5}, {\"index\": 321, \"date\": \"2020-02-18\", \"high_comp_home_perc\": 23.868344464866066, \"low_comp_home_perc\": 12.807377049180328}, {\"index\": 322, \"date\": \"2020-01-13\", \"high_comp_home_perc\": 24.372082937113174, \"low_comp_home_perc\": 15.113871635610764}, {\"index\": 323, \"date\": \"2020-03-31\", \"high_comp_home_perc\": 51.42713709089974, \"low_comp_home_perc\": 24.795081967213115}, {\"index\": 324, \"date\": \"2020-08-11\", \"high_comp_home_perc\": 34.75724691586942, \"low_comp_home_perc\": 19.47674418604651}, {\"index\": 325, \"date\": \"2020-03-14\", \"high_comp_home_perc\": 34.43619733393854, \"low_comp_home_perc\": 17.632850241545892}, {\"index\": 326, \"date\": \"2020-10-14\", \"high_comp_home_perc\": 33.297424026419534, \"low_comp_home_perc\": 22.312824314306894}, {\"index\": 327, \"date\": \"2020-10-22\", \"high_comp_home_perc\": 34.03904575150283, \"low_comp_home_perc\": 43.45238095238095}, {\"index\": 328, \"date\": \"2020-07-06\", \"high_comp_home_perc\": 40.1135638767945, \"low_comp_home_perc\": 35.07532956685499}, {\"index\": 329, \"date\": \"2020-07-20\", \"high_comp_home_perc\": 38.27132476893559, \"low_comp_home_perc\": 29.047619047619047}, {\"index\": 330, \"date\": \"2020-01-08\", \"high_comp_home_perc\": 25.276677779049397, \"low_comp_home_perc\": 14.558823529411764}, {\"index\": 331, \"date\": \"2020-03-23\", \"high_comp_home_perc\": 52.116938130933335, \"low_comp_home_perc\": 39.682539682539684}, {\"index\": 332, \"date\": \"2020-06-29\", \"high_comp_home_perc\": 37.4048643664606, \"low_comp_home_perc\": 41.588235294117645}, {\"index\": 333, \"date\": \"2020-08-01\", \"high_comp_home_perc\": 33.63849667768119, \"low_comp_home_perc\": 29.052631578947366}, {\"index\": 334, \"date\": \"2020-03-30\", \"high_comp_home_perc\": 50.94411559568603, \"low_comp_home_perc\": 20.729166666666668}, {\"index\": 335, \"date\": \"2020-06-10\", \"high_comp_home_perc\": 43.89081171391537, \"low_comp_home_perc\": 41.111111111111114}, {\"index\": 336, \"date\": \"2020-11-21\", \"high_comp_home_perc\": 30.540798260024147, \"low_comp_home_perc\": 15.433673469387756}, {\"index\": 337, \"date\": \"2020-09-10\", \"high_comp_home_perc\": 35.66892223470279, \"low_comp_home_perc\": 23.958333333333336}, {\"index\": 338, \"date\": \"2020-06-18\", \"high_comp_home_perc\": 40.628962285016634, \"low_comp_home_perc\": 37.285714285714285}, {\"index\": 339, \"date\": \"2020-08-18\", \"high_comp_home_perc\": 33.56548432745493, \"low_comp_home_perc\": 29.775943396226417}, {\"index\": 340, \"date\": \"2020-11-01\", \"high_comp_home_perc\": 38.164995616599704, \"low_comp_home_perc\": 28.142076502732237}, {\"index\": 341, \"date\": \"2020-04-16\", \"high_comp_home_perc\": 53.78851492237628, \"low_comp_home_perc\": 49.08424908424908}, {\"index\": 342, \"date\": \"2020-07-02\", \"high_comp_home_perc\": 36.47013760668308, \"low_comp_home_perc\": 40.91569767441861}, {\"index\": 343, \"date\": \"2020-12-05\", \"high_comp_home_perc\": 37.20384436966848, \"low_comp_home_perc\": 26.050420168067227}, {\"index\": 344, \"date\": \"2020-02-12\", \"high_comp_home_perc\": 22.633759060159335, \"low_comp_home_perc\": 26.07260726072607}, {\"index\": 345, \"date\": \"2020-09-08\", \"high_comp_home_perc\": 34.843538184589605, \"low_comp_home_perc\": 25.931677018633543}, {\"index\": 346, \"date\": \"2020-12-18\", \"high_comp_home_perc\": 34.98997343284771, \"low_comp_home_perc\": 27.006688963210703}, {\"index\": 347, \"date\": \"2020-08-15\", \"high_comp_home_perc\": 31.182841816319844, \"low_comp_home_perc\": 30.576923076923077}, {\"index\": 348, \"date\": \"2020-01-15\", \"high_comp_home_perc\": 21.844862689444398, \"low_comp_home_perc\": 17.863247863247864}, {\"index\": 349, \"date\": \"2020-07-15\", \"high_comp_home_perc\": 35.64537121461297, \"low_comp_home_perc\": 21.867007672634273}, {\"index\": 350, \"date\": \"2020-02-28\", \"high_comp_home_perc\": 20.22508221127169, \"low_comp_home_perc\": 16.75475687103594}, {\"index\": 351, \"date\": \"2020-07-05\", \"high_comp_home_perc\": 39.892681620060614, \"low_comp_home_perc\": 23.333333333333336}, {\"index\": 352, \"date\": \"2020-10-23\", \"high_comp_home_perc\": 32.73989712990664, \"low_comp_home_perc\": 26.785714285714285}, {\"index\": 353, \"date\": \"2020-03-21\", \"high_comp_home_perc\": 45.892615312485184, \"low_comp_home_perc\": 22.0}, {\"index\": 354, \"date\": \"2020-11-14\", \"high_comp_home_perc\": 33.33539741118107, \"low_comp_home_perc\": 28.125}, {\"index\": 355, \"date\": \"2020-04-28\", \"high_comp_home_perc\": 46.7926004308949, \"low_comp_home_perc\": 37.98151001540832}, {\"index\": 356, \"date\": \"2020-04-07\", \"high_comp_home_perc\": 54.39191950238751, \"low_comp_home_perc\": 48.103448275862064}, {\"index\": 357, \"date\": \"2020-12-03\", \"high_comp_home_perc\": 35.319553142597044, \"low_comp_home_perc\": 35.20408163265306}, {\"index\": 358, \"date\": \"2020-08-31\", \"high_comp_home_perc\": 33.013847751678256, \"low_comp_home_perc\": 18.774703557312254}, {\"index\": 359, \"date\": \"2020-02-15\", \"high_comp_home_perc\": 27.86686595506971, \"low_comp_home_perc\": 18.981018981018984}, {\"index\": 360, \"date\": \"2020-08-03\", \"high_comp_home_perc\": 36.001198942404784, \"low_comp_home_perc\": 27.894736842105264}, {\"index\": 361, \"date\": \"2020-04-05\", \"high_comp_home_perc\": 54.86679635883801, \"low_comp_home_perc\": 40.24193548387097}, {\"index\": 362, \"date\": \"2020-05-01\", \"high_comp_home_perc\": 53.816495761005186, \"low_comp_home_perc\": 52.28070175438596}, {\"index\": 363, \"date\": \"2020-10-25\", \"high_comp_home_perc\": 36.06362186344673, \"low_comp_home_perc\": 28.735632183908045}, {\"index\": 364, \"date\": \"2020-12-28\", \"high_comp_home_perc\": 34.25223775912311, \"low_comp_home_perc\": 34.92307692307692}, {\"index\": 365, \"date\": \"2020-12-19\", \"high_comp_home_perc\": 36.25164034052577, \"low_comp_home_perc\": 21.263482280431433}]}}, {\"mode\": \"vega-lite\"});\n",
              "</script>"
            ]
          },
          "metadata": {
            "tags": []
          },
          "execution_count": 21
        },
        {
          "output_type": "stream",
          "text": [
            "time: 61.1 ms (started: 2021-04-20 04:48:08 +00:00)\n"
          ],
          "name": "stdout"
        }
      ]
    },
    {
      "cell_type": "markdown",
      "metadata": {
        "id": "yCVL0_NiBLU0"
      },
      "source": [
        "Filtering based on important dates\n",
        "\n",
        "March 8, 2020: \n",
        "NYC issues guidelines to avoid densely packed buses, subways, or trains.\n",
        "\n",
        "March 12, 2020:\n",
        "Broadway shuts down.\n",
        "\n",
        "March 14, 2020:\n",
        "First two COVID-19 deaths in NYS.\n",
        "\n",
        "March 22, 2020:\n",
        "NYS on Pause Program begins, all non-essential workers must stay home.\n",
        "\n",
        "March 28, 2020:\n",
        "Governor Cuomo halts all nonessential construction sites in NYS.\n",
        "\n",
        "\n",
        "\n",
        "\n",
        "\n",
        "\n",
        "\n",
        "\n",
        "\n"
      ]
    },
    {
      "cell_type": "code",
      "metadata": {
        "colab": {
          "base_uri": "https://localhost:8080/"
        },
        "id": "g9idGDilemBU",
        "outputId": "e5db3a9d-66cb-40b1-c827-7c695fb30274"
      },
      "source": [
        "#Conversion of datetime format\n",
        "df['date'] = pd.to_datetime(df['date'],utc= True)\n",
        "df['date'] = [datetime.datetime.date(d) for d in df['date']] "
      ],
      "execution_count": 22,
      "outputs": [
        {
          "output_type": "stream",
          "text": [
            "time: 10.2 ms (started: 2021-04-20 04:48:08 +00:00)\n"
          ],
          "name": "stdout"
        }
      ]
    },
    {
      "cell_type": "code",
      "metadata": {
        "colab": {
          "base_uri": "https://localhost:8080/"
        },
        "id": "gelkUE5NBJps",
        "outputId": "7d0b9b6d-ac38-4c71-c282-2a8aa971ca41"
      },
      "source": [
        "df1 = df[(df['date']>datetime.date(2020,3,5)) & (df['date']<datetime.date(2020,3,31))]  \n",
        "df1['date'] = df1['date'].astype(str)"
      ],
      "execution_count": 23,
      "outputs": [
        {
          "output_type": "stream",
          "text": [
            "time: 18 ms (started: 2021-04-20 04:48:08 +00:00)\n"
          ],
          "name": "stdout"
        },
        {
          "output_type": "stream",
          "text": [
            "/usr/local/lib/python3.7/dist-packages/ipykernel_launcher.py:2: SettingWithCopyWarning: \n",
            "A value is trying to be set on a copy of a slice from a DataFrame.\n",
            "Try using .loc[row_indexer,col_indexer] = value instead\n",
            "\n",
            "See the caveats in the documentation: https://pandas.pydata.org/pandas-docs/stable/user_guide/indexing.html#returning-a-view-versus-a-copy\n",
            "  \n"
          ],
          "name": "stderr"
        }
      ]
    },
    {
      "cell_type": "code",
      "metadata": {
        "colab": {
          "base_uri": "https://localhost:8080/",
          "height": 427
        },
        "id": "xXfO-aRneuey",
        "outputId": "49275216-ac43-4fd0-f6b7-467b7fae7b91"
      },
      "source": [
        "base = alt.Chart(df1.reset_index()).encode(x='date'\n",
        ").properties(width = 1000)\n",
        "alt.layer(\n",
        "    base.mark_line(color='green').encode(y='high_comp_home_perc'),\n",
        "    base.mark_line(color='red').encode(y='low_comp_home_perc')\n",
        ").interactive()"
      ],
      "execution_count": 24,
      "outputs": [
        {
          "output_type": "execute_result",
          "data": {
            "text/plain": [
              "alt.LayerChart(...)"
            ],
            "text/html": [
              "\n",
              "<div id=\"altair-viz-4599a8d98a2b47e1b1b7bd6a324837d6\"></div>\n",
              "<script type=\"text/javascript\">\n",
              "  (function(spec, embedOpt){\n",
              "    let outputDiv = document.currentScript.previousElementSibling;\n",
              "    if (outputDiv.id !== \"altair-viz-4599a8d98a2b47e1b1b7bd6a324837d6\") {\n",
              "      outputDiv = document.getElementById(\"altair-viz-4599a8d98a2b47e1b1b7bd6a324837d6\");\n",
              "    }\n",
              "    const paths = {\n",
              "      \"vega\": \"https://cdn.jsdelivr.net/npm//vega@5?noext\",\n",
              "      \"vega-lib\": \"https://cdn.jsdelivr.net/npm//vega-lib?noext\",\n",
              "      \"vega-lite\": \"https://cdn.jsdelivr.net/npm//vega-lite@4.8.1?noext\",\n",
              "      \"vega-embed\": \"https://cdn.jsdelivr.net/npm//vega-embed@6?noext\",\n",
              "    };\n",
              "\n",
              "    function loadScript(lib) {\n",
              "      return new Promise(function(resolve, reject) {\n",
              "        var s = document.createElement('script');\n",
              "        s.src = paths[lib];\n",
              "        s.async = true;\n",
              "        s.onload = () => resolve(paths[lib]);\n",
              "        s.onerror = () => reject(`Error loading script: ${paths[lib]}`);\n",
              "        document.getElementsByTagName(\"head\")[0].appendChild(s);\n",
              "      });\n",
              "    }\n",
              "\n",
              "    function showError(err) {\n",
              "      outputDiv.innerHTML = `<div class=\"error\" style=\"color:red;\">${err}</div>`;\n",
              "      throw err;\n",
              "    }\n",
              "\n",
              "    function displayChart(vegaEmbed) {\n",
              "      vegaEmbed(outputDiv, spec, embedOpt)\n",
              "        .catch(err => showError(`Javascript Error: ${err.message}<br>This usually means there's a typo in your chart specification. See the javascript console for the full traceback.`));\n",
              "    }\n",
              "\n",
              "    if(typeof define === \"function\" && define.amd) {\n",
              "      requirejs.config({paths});\n",
              "      require([\"vega-embed\"], displayChart, err => showError(`Error loading script: ${err.message}`));\n",
              "    } else if (typeof vegaEmbed === \"function\") {\n",
              "      displayChart(vegaEmbed);\n",
              "    } else {\n",
              "      loadScript(\"vega\")\n",
              "        .then(() => loadScript(\"vega-lite\"))\n",
              "        .then(() => loadScript(\"vega-embed\"))\n",
              "        .catch(showError)\n",
              "        .then(() => displayChart(vegaEmbed));\n",
              "    }\n",
              "  })({\"config\": {\"view\": {\"continuousWidth\": 400, \"continuousHeight\": 300}}, \"layer\": [{\"mark\": {\"type\": \"line\", \"color\": \"green\"}, \"encoding\": {\"x\": {\"type\": \"nominal\", \"field\": \"date\"}, \"y\": {\"type\": \"quantitative\", \"field\": \"high_comp_home_perc\"}}, \"selection\": {\"selector001\": {\"type\": \"interval\", \"bind\": \"scales\", \"encodings\": [\"x\", \"y\"]}}, \"width\": 1000}, {\"mark\": {\"type\": \"line\", \"color\": \"red\"}, \"encoding\": {\"x\": {\"type\": \"nominal\", \"field\": \"date\"}, \"y\": {\"type\": \"quantitative\", \"field\": \"low_comp_home_perc\"}}, \"width\": 1000}], \"data\": {\"name\": \"data-806198746990bc9226a94b3867023325\"}, \"$schema\": \"https://vega.github.io/schema/vega-lite/v4.8.1.json\", \"datasets\": {\"data-806198746990bc9226a94b3867023325\": [{\"index\": 40, \"date\": \"2020-03-16\", \"high_comp_home_perc\": 37.914461263981295, \"low_comp_home_perc\": 27.638888888888893}, {\"index\": 54, \"date\": \"2020-03-06\", \"high_comp_home_perc\": 21.609279824380746, \"low_comp_home_perc\": 9.920920201294033}, {\"index\": 55, \"date\": \"2020-03-26\", \"high_comp_home_perc\": 48.13292345930039, \"low_comp_home_perc\": 31.073446327683612}, {\"index\": 78, \"date\": \"2020-03-25\", \"high_comp_home_perc\": 47.86272855378586, \"low_comp_home_perc\": 28.75}, {\"index\": 100, \"date\": \"2020-03-20\", \"high_comp_home_perc\": 41.484913501038704, \"low_comp_home_perc\": 11.133486766398159}, {\"index\": 113, \"date\": \"2020-03-24\", \"high_comp_home_perc\": 47.49557180076317, \"low_comp_home_perc\": 35.0}, {\"index\": 130, \"date\": \"2020-03-10\", \"high_comp_home_perc\": 24.26015947581912, \"low_comp_home_perc\": 21.55049786628734}, {\"index\": 135, \"date\": \"2020-03-12\", \"high_comp_home_perc\": 26.844614465162724, \"low_comp_home_perc\": 17.004264392324096}, {\"index\": 146, \"date\": \"2020-03-11\", \"high_comp_home_perc\": 25.138340535358438, \"low_comp_home_perc\": 11.137897782063645}, {\"index\": 161, \"date\": \"2020-03-13\", \"high_comp_home_perc\": 26.498422433285345, \"low_comp_home_perc\": 14.821428571428571}, {\"index\": 162, \"date\": \"2020-03-27\", \"high_comp_home_perc\": 47.17650670347217, \"low_comp_home_perc\": 28.384615384615387}, {\"index\": 163, \"date\": \"2020-03-22\", \"high_comp_home_perc\": 48.67689052147754, \"low_comp_home_perc\": 26.226551226551226}, {\"index\": 172, \"date\": \"2020-03-28\", \"high_comp_home_perc\": 53.2843744929993, \"low_comp_home_perc\": 14.285714285714285}, {\"index\": 201, \"date\": \"2020-03-19\", \"high_comp_home_perc\": 42.38891518009683, \"low_comp_home_perc\": 23.40933191940615}, {\"index\": 234, \"date\": \"2020-03-09\", \"high_comp_home_perc\": 22.76854790852653, \"low_comp_home_perc\": 23.495934959349594}, {\"index\": 240, \"date\": \"2020-03-29\", \"high_comp_home_perc\": 54.89538986600481, \"low_comp_home_perc\": 32.483552631578945}, {\"index\": 270, \"date\": \"2020-03-08\", \"high_comp_home_perc\": 30.201554217443658, \"low_comp_home_perc\": 20.51282051282051}, {\"index\": 293, \"date\": \"2020-03-15\", \"high_comp_home_perc\": 37.26091969252352, \"low_comp_home_perc\": 17.710309930423783}, {\"index\": 296, \"date\": \"2020-03-07\", \"high_comp_home_perc\": 28.801359195335767, \"low_comp_home_perc\": 12.142857142857142}, {\"index\": 298, \"date\": \"2020-03-17\", \"high_comp_home_perc\": 38.78618875388897, \"low_comp_home_perc\": 26.717948717948715}, {\"index\": 305, \"date\": \"2020-03-18\", \"high_comp_home_perc\": 39.591422902926354, \"low_comp_home_perc\": 18.67732558139535}, {\"index\": 325, \"date\": \"2020-03-14\", \"high_comp_home_perc\": 34.43619733393854, \"low_comp_home_perc\": 17.632850241545892}, {\"index\": 331, \"date\": \"2020-03-23\", \"high_comp_home_perc\": 52.116938130933335, \"low_comp_home_perc\": 39.682539682539684}, {\"index\": 334, \"date\": \"2020-03-30\", \"high_comp_home_perc\": 50.94411559568603, \"low_comp_home_perc\": 20.729166666666668}, {\"index\": 353, \"date\": \"2020-03-21\", \"high_comp_home_perc\": 45.892615312485184, \"low_comp_home_perc\": 22.0}]}}, {\"mode\": \"vega-lite\"});\n",
              "</script>"
            ]
          },
          "metadata": {
            "tags": []
          },
          "execution_count": 24
        },
        {
          "output_type": "stream",
          "text": [
            "time: 29.4 ms (started: 2021-04-20 04:48:08 +00:00)\n"
          ],
          "name": "stdout"
        }
      ]
    },
    {
      "cell_type": "markdown",
      "metadata": {
        "id": "eY48F9-7gp2q"
      },
      "source": [
        "April 10, 2020:\n",
        "NYS records more COVID19 cases than any other country \n",
        "\n",
        "\n",
        "\n"
      ]
    },
    {
      "cell_type": "code",
      "metadata": {
        "colab": {
          "base_uri": "https://localhost:8080/"
        },
        "id": "_DhDPv1GfRhR",
        "outputId": "6b1c200f-6a71-4b68-c415-aae0b35108bf"
      },
      "source": [
        "df2 = df[(df['date']>datetime.date(2020,4,2)) & (df['date']<datetime.date(2020,4,24))]  \n",
        "df2['date'] = df2['date'].astype(str)"
      ],
      "execution_count": 25,
      "outputs": [
        {
          "output_type": "stream",
          "text": [
            "time: 4.69 ms (started: 2021-04-20 04:48:08 +00:00)\n"
          ],
          "name": "stdout"
        },
        {
          "output_type": "stream",
          "text": [
            "/usr/local/lib/python3.7/dist-packages/ipykernel_launcher.py:2: SettingWithCopyWarning: \n",
            "A value is trying to be set on a copy of a slice from a DataFrame.\n",
            "Try using .loc[row_indexer,col_indexer] = value instead\n",
            "\n",
            "See the caveats in the documentation: https://pandas.pydata.org/pandas-docs/stable/user_guide/indexing.html#returning-a-view-versus-a-copy\n",
            "  \n"
          ],
          "name": "stderr"
        }
      ]
    },
    {
      "cell_type": "code",
      "metadata": {
        "colab": {
          "base_uri": "https://localhost:8080/",
          "height": 427
        },
        "id": "FGilWi5tfRjq",
        "outputId": "e4e1ff08-855e-4f57-87fa-8824d6982676"
      },
      "source": [
        "base = alt.Chart(df2.reset_index()).encode(x='date'\n",
        ").properties(width = 1000)\n",
        "alt.layer(\n",
        "    base.mark_line(color='green').encode(y='high_comp_home_perc'),\n",
        "    base.mark_line(color='red').encode(y='low_comp_home_perc')\n",
        ").interactive()"
      ],
      "execution_count": 26,
      "outputs": [
        {
          "output_type": "execute_result",
          "data": {
            "text/plain": [
              "alt.LayerChart(...)"
            ],
            "text/html": [
              "\n",
              "<div id=\"altair-viz-1d44b9ce00f44125b74d4d7dc07294be\"></div>\n",
              "<script type=\"text/javascript\">\n",
              "  (function(spec, embedOpt){\n",
              "    let outputDiv = document.currentScript.previousElementSibling;\n",
              "    if (outputDiv.id !== \"altair-viz-1d44b9ce00f44125b74d4d7dc07294be\") {\n",
              "      outputDiv = document.getElementById(\"altair-viz-1d44b9ce00f44125b74d4d7dc07294be\");\n",
              "    }\n",
              "    const paths = {\n",
              "      \"vega\": \"https://cdn.jsdelivr.net/npm//vega@5?noext\",\n",
              "      \"vega-lib\": \"https://cdn.jsdelivr.net/npm//vega-lib?noext\",\n",
              "      \"vega-lite\": \"https://cdn.jsdelivr.net/npm//vega-lite@4.8.1?noext\",\n",
              "      \"vega-embed\": \"https://cdn.jsdelivr.net/npm//vega-embed@6?noext\",\n",
              "    };\n",
              "\n",
              "    function loadScript(lib) {\n",
              "      return new Promise(function(resolve, reject) {\n",
              "        var s = document.createElement('script');\n",
              "        s.src = paths[lib];\n",
              "        s.async = true;\n",
              "        s.onload = () => resolve(paths[lib]);\n",
              "        s.onerror = () => reject(`Error loading script: ${paths[lib]}`);\n",
              "        document.getElementsByTagName(\"head\")[0].appendChild(s);\n",
              "      });\n",
              "    }\n",
              "\n",
              "    function showError(err) {\n",
              "      outputDiv.innerHTML = `<div class=\"error\" style=\"color:red;\">${err}</div>`;\n",
              "      throw err;\n",
              "    }\n",
              "\n",
              "    function displayChart(vegaEmbed) {\n",
              "      vegaEmbed(outputDiv, spec, embedOpt)\n",
              "        .catch(err => showError(`Javascript Error: ${err.message}<br>This usually means there's a typo in your chart specification. See the javascript console for the full traceback.`));\n",
              "    }\n",
              "\n",
              "    if(typeof define === \"function\" && define.amd) {\n",
              "      requirejs.config({paths});\n",
              "      require([\"vega-embed\"], displayChart, err => showError(`Error loading script: ${err.message}`));\n",
              "    } else if (typeof vegaEmbed === \"function\") {\n",
              "      displayChart(vegaEmbed);\n",
              "    } else {\n",
              "      loadScript(\"vega\")\n",
              "        .then(() => loadScript(\"vega-lite\"))\n",
              "        .then(() => loadScript(\"vega-embed\"))\n",
              "        .catch(showError)\n",
              "        .then(() => displayChart(vegaEmbed));\n",
              "    }\n",
              "  })({\"config\": {\"view\": {\"continuousWidth\": 400, \"continuousHeight\": 300}}, \"layer\": [{\"mark\": {\"type\": \"line\", \"color\": \"green\"}, \"encoding\": {\"x\": {\"type\": \"nominal\", \"field\": \"date\"}, \"y\": {\"type\": \"quantitative\", \"field\": \"high_comp_home_perc\"}}, \"selection\": {\"selector002\": {\"type\": \"interval\", \"bind\": \"scales\", \"encodings\": [\"x\", \"y\"]}}, \"width\": 1000}, {\"mark\": {\"type\": \"line\", \"color\": \"red\"}, \"encoding\": {\"x\": {\"type\": \"nominal\", \"field\": \"date\"}, \"y\": {\"type\": \"quantitative\", \"field\": \"low_comp_home_perc\"}}, \"width\": 1000}], \"data\": {\"name\": \"data-2851e2a0d55fbea9f436abd69177c29e\"}, \"$schema\": \"https://vega.github.io/schema/vega-lite/v4.8.1.json\", \"datasets\": {\"data-2851e2a0d55fbea9f436abd69177c29e\": [{\"index\": 1, \"date\": \"2020-04-13\", \"high_comp_home_perc\": 57.52718528420354, \"low_comp_home_perc\": 47.81529294935452}, {\"index\": 7, \"date\": \"2020-04-12\", \"high_comp_home_perc\": 56.506837265847636, \"low_comp_home_perc\": 45.65677966101695}, {\"index\": 12, \"date\": \"2020-04-20\", \"high_comp_home_perc\": 52.36352740323307, \"low_comp_home_perc\": 25.614035087719298}, {\"index\": 32, \"date\": \"2020-04-22\", \"high_comp_home_perc\": 50.09576388005461, \"low_comp_home_perc\": 35.11513157894737}, {\"index\": 42, \"date\": \"2020-04-19\", \"high_comp_home_perc\": 53.14956402417401, \"low_comp_home_perc\": 45.88550983899821}, {\"index\": 72, \"date\": \"2020-04-10\", \"high_comp_home_perc\": 53.37549731083601, \"low_comp_home_perc\": 56.34615384615385}, {\"index\": 73, \"date\": \"2020-04-23\", \"high_comp_home_perc\": 51.3851276896644, \"low_comp_home_perc\": 38.87987012987013}, {\"index\": 87, \"date\": \"2020-04-21\", \"high_comp_home_perc\": 53.83546670025204, \"low_comp_home_perc\": 36.605783866057834}, {\"index\": 111, \"date\": \"2020-04-09\", \"high_comp_home_perc\": 55.45559272255319, \"low_comp_home_perc\": 38.778550148957294}, {\"index\": 112, \"date\": \"2020-04-17\", \"high_comp_home_perc\": 51.876704589208494, \"low_comp_home_perc\": 29.320754716981135}, {\"index\": 173, \"date\": \"2020-04-08\", \"high_comp_home_perc\": 54.075977989734085, \"low_comp_home_perc\": 43.87978142076503}, {\"index\": 195, \"date\": \"2020-04-15\", \"high_comp_home_perc\": 52.91164663492633, \"low_comp_home_perc\": 33.97129186602871}, {\"index\": 221, \"date\": \"2020-04-03\", \"high_comp_home_perc\": 56.40112741284585, \"low_comp_home_perc\": 46.90402476780186}, {\"index\": 230, \"date\": \"2020-04-11\", \"high_comp_home_perc\": 53.798124111131564, \"low_comp_home_perc\": 48.51443123938879}, {\"index\": 231, \"date\": \"2020-04-06\", \"high_comp_home_perc\": 53.519159962742286, \"low_comp_home_perc\": 54.406130268199234}, {\"index\": 248, \"date\": \"2020-04-04\", \"high_comp_home_perc\": 54.13325249484737, \"low_comp_home_perc\": 43.57843137254902}, {\"index\": 250, \"date\": \"2020-04-14\", \"high_comp_home_perc\": 52.426431612618266, \"low_comp_home_perc\": 41.369606003752345}, {\"index\": 252, \"date\": \"2020-04-18\", \"high_comp_home_perc\": 53.36764965021245, \"low_comp_home_perc\": 33.68421052631579}, {\"index\": 341, \"date\": \"2020-04-16\", \"high_comp_home_perc\": 53.78851492237628, \"low_comp_home_perc\": 49.08424908424908}, {\"index\": 356, \"date\": \"2020-04-07\", \"high_comp_home_perc\": 54.39191950238751, \"low_comp_home_perc\": 48.103448275862064}, {\"index\": 361, \"date\": \"2020-04-05\", \"high_comp_home_perc\": 54.86679635883801, \"low_comp_home_perc\": 40.24193548387097}]}}, {\"mode\": \"vega-lite\"});\n",
              "</script>"
            ]
          },
          "metadata": {
            "tags": []
          },
          "execution_count": 26
        },
        {
          "output_type": "stream",
          "text": [
            "time: 34.4 ms (started: 2021-04-20 04:48:08 +00:00)\n"
          ],
          "name": "stdout"
        }
      ]
    },
    {
      "cell_type": "markdown",
      "metadata": {
        "id": "mxC6dH7YiWxd"
      },
      "source": [
        "**July 6, 2020: NYC begins Phase 3 of reopening, without indoor dining**\n",
        "\n",
        "--- "
      ]
    },
    {
      "cell_type": "code",
      "metadata": {
        "colab": {
          "base_uri": "https://localhost:8080/"
        },
        "id": "KTaOPmN5fRmL",
        "outputId": "1e9fb3fc-bcd3-409b-b910-f575be27b450"
      },
      "source": [
        "df3 = df[(df['date']>datetime.date(2020,7,1)) & (df['date']<datetime.date(2020,7,16))]  \n",
        "df3['date'] = df3['date'].astype(str)"
      ],
      "execution_count": 27,
      "outputs": [
        {
          "output_type": "stream",
          "text": [
            "time: 4.99 ms (started: 2021-04-20 04:48:08 +00:00)\n"
          ],
          "name": "stdout"
        },
        {
          "output_type": "stream",
          "text": [
            "/usr/local/lib/python3.7/dist-packages/ipykernel_launcher.py:2: SettingWithCopyWarning: \n",
            "A value is trying to be set on a copy of a slice from a DataFrame.\n",
            "Try using .loc[row_indexer,col_indexer] = value instead\n",
            "\n",
            "See the caveats in the documentation: https://pandas.pydata.org/pandas-docs/stable/user_guide/indexing.html#returning-a-view-versus-a-copy\n",
            "  \n"
          ],
          "name": "stderr"
        }
      ]
    },
    {
      "cell_type": "code",
      "metadata": {
        "colab": {
          "base_uri": "https://localhost:8080/",
          "height": 427
        },
        "id": "EIfm9nvIfRoM",
        "outputId": "dad21d81-30b8-4beb-fe68-4d4f5e460281"
      },
      "source": [
        "base = alt.Chart(df3.reset_index()).encode(x='date'\n",
        ").properties(width = 1000)\n",
        "alt.layer(\n",
        "    base.mark_line(color='green').encode(y='high_comp_home_perc'),\n",
        "    base.mark_line(color='red').encode(y='low_comp_home_perc')\n",
        ").interactive()"
      ],
      "execution_count": 28,
      "outputs": [
        {
          "output_type": "execute_result",
          "data": {
            "text/plain": [
              "alt.LayerChart(...)"
            ],
            "text/html": [
              "\n",
              "<div id=\"altair-viz-730f5fcd46b5491286f2af94c0d00de8\"></div>\n",
              "<script type=\"text/javascript\">\n",
              "  (function(spec, embedOpt){\n",
              "    let outputDiv = document.currentScript.previousElementSibling;\n",
              "    if (outputDiv.id !== \"altair-viz-730f5fcd46b5491286f2af94c0d00de8\") {\n",
              "      outputDiv = document.getElementById(\"altair-viz-730f5fcd46b5491286f2af94c0d00de8\");\n",
              "    }\n",
              "    const paths = {\n",
              "      \"vega\": \"https://cdn.jsdelivr.net/npm//vega@5?noext\",\n",
              "      \"vega-lib\": \"https://cdn.jsdelivr.net/npm//vega-lib?noext\",\n",
              "      \"vega-lite\": \"https://cdn.jsdelivr.net/npm//vega-lite@4.8.1?noext\",\n",
              "      \"vega-embed\": \"https://cdn.jsdelivr.net/npm//vega-embed@6?noext\",\n",
              "    };\n",
              "\n",
              "    function loadScript(lib) {\n",
              "      return new Promise(function(resolve, reject) {\n",
              "        var s = document.createElement('script');\n",
              "        s.src = paths[lib];\n",
              "        s.async = true;\n",
              "        s.onload = () => resolve(paths[lib]);\n",
              "        s.onerror = () => reject(`Error loading script: ${paths[lib]}`);\n",
              "        document.getElementsByTagName(\"head\")[0].appendChild(s);\n",
              "      });\n",
              "    }\n",
              "\n",
              "    function showError(err) {\n",
              "      outputDiv.innerHTML = `<div class=\"error\" style=\"color:red;\">${err}</div>`;\n",
              "      throw err;\n",
              "    }\n",
              "\n",
              "    function displayChart(vegaEmbed) {\n",
              "      vegaEmbed(outputDiv, spec, embedOpt)\n",
              "        .catch(err => showError(`Javascript Error: ${err.message}<br>This usually means there's a typo in your chart specification. See the javascript console for the full traceback.`));\n",
              "    }\n",
              "\n",
              "    if(typeof define === \"function\" && define.amd) {\n",
              "      requirejs.config({paths});\n",
              "      require([\"vega-embed\"], displayChart, err => showError(`Error loading script: ${err.message}`));\n",
              "    } else if (typeof vegaEmbed === \"function\") {\n",
              "      displayChart(vegaEmbed);\n",
              "    } else {\n",
              "      loadScript(\"vega\")\n",
              "        .then(() => loadScript(\"vega-lite\"))\n",
              "        .then(() => loadScript(\"vega-embed\"))\n",
              "        .catch(showError)\n",
              "        .then(() => displayChart(vegaEmbed));\n",
              "    }\n",
              "  })({\"config\": {\"view\": {\"continuousWidth\": 400, \"continuousHeight\": 300}}, \"layer\": [{\"mark\": {\"type\": \"line\", \"color\": \"green\"}, \"encoding\": {\"x\": {\"type\": \"nominal\", \"field\": \"date\"}, \"y\": {\"type\": \"quantitative\", \"field\": \"high_comp_home_perc\"}}, \"selection\": {\"selector003\": {\"type\": \"interval\", \"bind\": \"scales\", \"encodings\": [\"x\", \"y\"]}}, \"width\": 1000}, {\"mark\": {\"type\": \"line\", \"color\": \"red\"}, \"encoding\": {\"x\": {\"type\": \"nominal\", \"field\": \"date\"}, \"y\": {\"type\": \"quantitative\", \"field\": \"low_comp_home_perc\"}}, \"width\": 1000}], \"data\": {\"name\": \"data-e705e1c68f17576c57ae2032041d3a16\"}, \"$schema\": \"https://vega.github.io/schema/vega-lite/v4.8.1.json\", \"datasets\": {\"data-e705e1c68f17576c57ae2032041d3a16\": [{\"index\": 58, \"date\": \"2020-07-12\", \"high_comp_home_perc\": 37.59563419642914, \"low_comp_home_perc\": 39.285714285714285}, {\"index\": 118, \"date\": \"2020-07-03\", \"high_comp_home_perc\": 36.68748110256638, \"low_comp_home_perc\": 28.54864433811802}, {\"index\": 132, \"date\": \"2020-07-14\", \"high_comp_home_perc\": 36.55517492295272, \"low_comp_home_perc\": 37.85087719298245}, {\"index\": 142, \"date\": \"2020-07-07\", \"high_comp_home_perc\": 39.90374317358157, \"low_comp_home_perc\": 34.81449525452976}, {\"index\": 219, \"date\": \"2020-07-08\", \"high_comp_home_perc\": 37.52479837262536, \"low_comp_home_perc\": 27.89115646258503}, {\"index\": 294, \"date\": \"2020-07-13\", \"high_comp_home_perc\": 37.33571289777807, \"low_comp_home_perc\": 42.0}, {\"index\": 299, \"date\": \"2020-07-11\", \"high_comp_home_perc\": 37.8738906438569, \"low_comp_home_perc\": 32.04449152542373}, {\"index\": 304, \"date\": \"2020-07-04\", \"high_comp_home_perc\": 37.03720863204367, \"low_comp_home_perc\": 36.810661764705884}, {\"index\": 316, \"date\": \"2020-07-10\", \"high_comp_home_perc\": 41.79079833317589, \"low_comp_home_perc\": 34.18181818181819}, {\"index\": 319, \"date\": \"2020-07-09\", \"high_comp_home_perc\": 36.47705687428106, \"low_comp_home_perc\": 27.142857142857142}, {\"index\": 328, \"date\": \"2020-07-06\", \"high_comp_home_perc\": 40.1135638767945, \"low_comp_home_perc\": 35.07532956685499}, {\"index\": 342, \"date\": \"2020-07-02\", \"high_comp_home_perc\": 36.47013760668308, \"low_comp_home_perc\": 40.91569767441861}, {\"index\": 349, \"date\": \"2020-07-15\", \"high_comp_home_perc\": 35.64537121461297, \"low_comp_home_perc\": 21.867007672634273}, {\"index\": 351, \"date\": \"2020-07-05\", \"high_comp_home_perc\": 39.892681620060614, \"low_comp_home_perc\": 23.333333333333336}]}}, {\"mode\": \"vega-lite\"});\n",
              "</script>"
            ]
          },
          "metadata": {
            "tags": []
          },
          "execution_count": 28
        },
        {
          "output_type": "stream",
          "text": [
            "time: 33.1 ms (started: 2021-04-20 04:48:08 +00:00)\n"
          ],
          "name": "stdout"
        }
      ]
    },
    {
      "cell_type": "markdown",
      "metadata": {
        "id": "I1uLmyxVi6Zo"
      },
      "source": [
        "October 28, 2020:\n",
        "New York tops a half-million confirmed COVID-19 cases\n",
        "\n",
        "---"
      ]
    },
    {
      "cell_type": "code",
      "metadata": {
        "colab": {
          "base_uri": "https://localhost:8080/"
        },
        "id": "YZ29_JeZfRqz",
        "outputId": "fe5116a3-66ae-48e0-d4ee-001d00a60aef"
      },
      "source": [
        "df4 = df[(df['date']>datetime.date(2020,10,20)) & (df['date']<datetime.date(2020,11,8))]  \n",
        "df4['date'] = df4['date'].astype(str)"
      ],
      "execution_count": 29,
      "outputs": [
        {
          "output_type": "stream",
          "text": [
            "time: 5.67 ms (started: 2021-04-20 04:48:08 +00:00)\n"
          ],
          "name": "stdout"
        },
        {
          "output_type": "stream",
          "text": [
            "/usr/local/lib/python3.7/dist-packages/ipykernel_launcher.py:2: SettingWithCopyWarning: \n",
            "A value is trying to be set on a copy of a slice from a DataFrame.\n",
            "Try using .loc[row_indexer,col_indexer] = value instead\n",
            "\n",
            "See the caveats in the documentation: https://pandas.pydata.org/pandas-docs/stable/user_guide/indexing.html#returning-a-view-versus-a-copy\n",
            "  \n"
          ],
          "name": "stderr"
        }
      ]
    },
    {
      "cell_type": "code",
      "metadata": {
        "colab": {
          "base_uri": "https://localhost:8080/",
          "height": 427
        },
        "id": "WuiHxms2fRtH",
        "outputId": "fbd6ede3-5b47-40c6-b996-6296d71607e3"
      },
      "source": [
        "base = alt.Chart(df4.reset_index()).encode(x='date'\n",
        ").properties(width = 1000)\n",
        "alt.layer(\n",
        "    base.mark_line(color='green').encode(y='high_comp_home_perc'),\n",
        "    base.mark_line(color='red').encode(y='low_comp_home_perc')\n",
        ").interactive()"
      ],
      "execution_count": 30,
      "outputs": [
        {
          "output_type": "execute_result",
          "data": {
            "text/plain": [
              "alt.LayerChart(...)"
            ],
            "text/html": [
              "\n",
              "<div id=\"altair-viz-17344f77527c424981187cce31d86309\"></div>\n",
              "<script type=\"text/javascript\">\n",
              "  (function(spec, embedOpt){\n",
              "    let outputDiv = document.currentScript.previousElementSibling;\n",
              "    if (outputDiv.id !== \"altair-viz-17344f77527c424981187cce31d86309\") {\n",
              "      outputDiv = document.getElementById(\"altair-viz-17344f77527c424981187cce31d86309\");\n",
              "    }\n",
              "    const paths = {\n",
              "      \"vega\": \"https://cdn.jsdelivr.net/npm//vega@5?noext\",\n",
              "      \"vega-lib\": \"https://cdn.jsdelivr.net/npm//vega-lib?noext\",\n",
              "      \"vega-lite\": \"https://cdn.jsdelivr.net/npm//vega-lite@4.8.1?noext\",\n",
              "      \"vega-embed\": \"https://cdn.jsdelivr.net/npm//vega-embed@6?noext\",\n",
              "    };\n",
              "\n",
              "    function loadScript(lib) {\n",
              "      return new Promise(function(resolve, reject) {\n",
              "        var s = document.createElement('script');\n",
              "        s.src = paths[lib];\n",
              "        s.async = true;\n",
              "        s.onload = () => resolve(paths[lib]);\n",
              "        s.onerror = () => reject(`Error loading script: ${paths[lib]}`);\n",
              "        document.getElementsByTagName(\"head\")[0].appendChild(s);\n",
              "      });\n",
              "    }\n",
              "\n",
              "    function showError(err) {\n",
              "      outputDiv.innerHTML = `<div class=\"error\" style=\"color:red;\">${err}</div>`;\n",
              "      throw err;\n",
              "    }\n",
              "\n",
              "    function displayChart(vegaEmbed) {\n",
              "      vegaEmbed(outputDiv, spec, embedOpt)\n",
              "        .catch(err => showError(`Javascript Error: ${err.message}<br>This usually means there's a typo in your chart specification. See the javascript console for the full traceback.`));\n",
              "    }\n",
              "\n",
              "    if(typeof define === \"function\" && define.amd) {\n",
              "      requirejs.config({paths});\n",
              "      require([\"vega-embed\"], displayChart, err => showError(`Error loading script: ${err.message}`));\n",
              "    } else if (typeof vegaEmbed === \"function\") {\n",
              "      displayChart(vegaEmbed);\n",
              "    } else {\n",
              "      loadScript(\"vega\")\n",
              "        .then(() => loadScript(\"vega-lite\"))\n",
              "        .then(() => loadScript(\"vega-embed\"))\n",
              "        .catch(showError)\n",
              "        .then(() => displayChart(vegaEmbed));\n",
              "    }\n",
              "  })({\"config\": {\"view\": {\"continuousWidth\": 400, \"continuousHeight\": 300}}, \"layer\": [{\"mark\": {\"type\": \"line\", \"color\": \"green\"}, \"encoding\": {\"x\": {\"type\": \"nominal\", \"field\": \"date\"}, \"y\": {\"type\": \"quantitative\", \"field\": \"high_comp_home_perc\"}}, \"selection\": {\"selector004\": {\"type\": \"interval\", \"bind\": \"scales\", \"encodings\": [\"x\", \"y\"]}}, \"width\": 1000}, {\"mark\": {\"type\": \"line\", \"color\": \"red\"}, \"encoding\": {\"x\": {\"type\": \"nominal\", \"field\": \"date\"}, \"y\": {\"type\": \"quantitative\", \"field\": \"low_comp_home_perc\"}}, \"width\": 1000}], \"data\": {\"name\": \"data-2d789245ba4af8cf6492979271e40949\"}, \"$schema\": \"https://vega.github.io/schema/vega-lite/v4.8.1.json\", \"datasets\": {\"data-2d789245ba4af8cf6492979271e40949\": [{\"index\": 38, \"date\": \"2020-10-24\", \"high_comp_home_perc\": 31.838103219414535, \"low_comp_home_perc\": 28.876678876678877}, {\"index\": 48, \"date\": \"2020-10-21\", \"high_comp_home_perc\": 33.35560406185511, \"low_comp_home_perc\": 26.575456053067995}, {\"index\": 49, \"date\": \"2020-10-29\", \"high_comp_home_perc\": 38.61503369434184, \"low_comp_home_perc\": 30.628517823639775}, {\"index\": 92, \"date\": \"2020-11-02\", \"high_comp_home_perc\": 35.95561586837019, \"low_comp_home_perc\": 37.912912912912915}, {\"index\": 103, \"date\": \"2020-11-05\", \"high_comp_home_perc\": 33.35350994049429, \"low_comp_home_perc\": 36.45833333333333}, {\"index\": 115, \"date\": \"2020-11-03\", \"high_comp_home_perc\": 35.49030505197925, \"low_comp_home_perc\": 24.007936507936506}, {\"index\": 154, \"date\": \"2020-10-26\", \"high_comp_home_perc\": 38.70717220197138, \"low_comp_home_perc\": 23.214285714285715}, {\"index\": 156, \"date\": \"2020-10-27\", \"high_comp_home_perc\": 34.66043481035906, \"low_comp_home_perc\": 14.0625}, {\"index\": 160, \"date\": \"2020-10-28\", \"high_comp_home_perc\": 35.534892971473546, \"low_comp_home_perc\": 30.95238095238095}, {\"index\": 187, \"date\": \"2020-11-06\", \"high_comp_home_perc\": 30.455534226527863, \"low_comp_home_perc\": 31.66666666666667}, {\"index\": 242, \"date\": \"2020-11-07\", \"high_comp_home_perc\": 29.399172637596465, \"low_comp_home_perc\": 41.495601173020525}, {\"index\": 275, \"date\": \"2020-10-30\", \"high_comp_home_perc\": 34.933160223506896, \"low_comp_home_perc\": 37.94178794178794}, {\"index\": 283, \"date\": \"2020-11-04\", \"high_comp_home_perc\": 34.29929007287126, \"low_comp_home_perc\": 28.755020080321284}, {\"index\": 301, \"date\": \"2020-10-31\", \"high_comp_home_perc\": 30.901200023383986, \"low_comp_home_perc\": 31.25}, {\"index\": 327, \"date\": \"2020-10-22\", \"high_comp_home_perc\": 34.03904575150283, \"low_comp_home_perc\": 43.45238095238095}, {\"index\": 340, \"date\": \"2020-11-01\", \"high_comp_home_perc\": 38.164995616599704, \"low_comp_home_perc\": 28.142076502732237}, {\"index\": 352, \"date\": \"2020-10-23\", \"high_comp_home_perc\": 32.73989712990664, \"low_comp_home_perc\": 26.785714285714285}, {\"index\": 363, \"date\": \"2020-10-25\", \"high_comp_home_perc\": 36.06362186344673, \"low_comp_home_perc\": 28.735632183908045}]}}, {\"mode\": \"vega-lite\"});\n",
              "</script>"
            ]
          },
          "metadata": {
            "tags": []
          },
          "execution_count": 30
        },
        {
          "output_type": "stream",
          "text": [
            "time: 34.9 ms (started: 2021-04-20 04:48:08 +00:00)\n"
          ],
          "name": "stdout"
        }
      ]
    }
  ]
}