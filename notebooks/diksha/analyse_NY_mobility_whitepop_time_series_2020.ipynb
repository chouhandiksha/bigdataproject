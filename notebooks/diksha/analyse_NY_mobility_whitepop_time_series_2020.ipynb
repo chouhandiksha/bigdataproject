{
  "nbformat": 4,
  "nbformat_minor": 0,
  "metadata": {
    "colab": {
      "name": "analyse_NY_mobility_poverty_2020.ipynb",
      "provenance": [],
      "collapsed_sections": [],
      "include_colab_link": true
    },
    "kernelspec": {
      "name": "python3",
      "display_name": "Python 3"
    },
    "language_info": {
      "name": "python"
    }
  },
  "cells": [
    {
      "cell_type": "markdown",
      "metadata": {
        "id": "view-in-github",
        "colab_type": "text"
      },
      "source": [
        "<a href=\"https://colab.research.google.com/github/chouhandiksha/bigdataproject/blob/colab/notebooks/diksha/analyse_NY_mobility_whitepop_time_series_2020.ipynb\" target=\"_parent\"><img src=\"https://colab.research.google.com/assets/colab-badge.svg\" alt=\"Open In Colab\"/></a>"
      ]
    },
    {
      "cell_type": "markdown",
      "metadata": {
        "id": "6Vnc5foT5YFx"
      },
      "source": [
        "**Spark SQL Documentation:** \n",
        "https://spark.apache.org/docs/2.2.0/sql-programming-guide.html"
      ]
    },
    {
      "cell_type": "code",
      "metadata": {
        "id": "XXJ-cpgT3moz",
        "colab": {
          "base_uri": "https://localhost:8080/"
        },
        "outputId": "c206da61-baec-4781-abe4-571e002bdeb9"
      },
      "source": [
        "# add time information at the end of every cell\n",
        "!pip install ipython-autotime\n",
        "%load_ext autotime"
      ],
      "execution_count": 1,
      "outputs": [
        {
          "output_type": "stream",
          "text": [
            "Collecting ipython-autotime\n",
            "  Downloading https://files.pythonhosted.org/packages/b4/c9/b413a24f759641bc27ef98c144b590023c8038dfb8a3f09e713e9dff12c1/ipython_autotime-0.3.1-py2.py3-none-any.whl\n",
            "Requirement already satisfied: ipython in /usr/local/lib/python3.7/dist-packages (from ipython-autotime) (5.5.0)\n",
            "Requirement already satisfied: decorator in /usr/local/lib/python3.7/dist-packages (from ipython->ipython-autotime) (4.4.2)\n",
            "Requirement already satisfied: traitlets>=4.2 in /usr/local/lib/python3.7/dist-packages (from ipython->ipython-autotime) (5.0.5)\n",
            "Requirement already satisfied: pygments in /usr/local/lib/python3.7/dist-packages (from ipython->ipython-autotime) (2.6.1)\n",
            "Requirement already satisfied: prompt-toolkit<2.0.0,>=1.0.4 in /usr/local/lib/python3.7/dist-packages (from ipython->ipython-autotime) (1.0.18)\n",
            "Requirement already satisfied: simplegeneric>0.8 in /usr/local/lib/python3.7/dist-packages (from ipython->ipython-autotime) (0.8.1)\n",
            "Requirement already satisfied: pickleshare in /usr/local/lib/python3.7/dist-packages (from ipython->ipython-autotime) (0.7.5)\n",
            "Requirement already satisfied: setuptools>=18.5 in /usr/local/lib/python3.7/dist-packages (from ipython->ipython-autotime) (54.2.0)\n",
            "Requirement already satisfied: pexpect; sys_platform != \"win32\" in /usr/local/lib/python3.7/dist-packages (from ipython->ipython-autotime) (4.8.0)\n",
            "Requirement already satisfied: ipython-genutils in /usr/local/lib/python3.7/dist-packages (from traitlets>=4.2->ipython->ipython-autotime) (0.2.0)\n",
            "Requirement already satisfied: wcwidth in /usr/local/lib/python3.7/dist-packages (from prompt-toolkit<2.0.0,>=1.0.4->ipython->ipython-autotime) (0.2.5)\n",
            "Requirement already satisfied: six>=1.9.0 in /usr/local/lib/python3.7/dist-packages (from prompt-toolkit<2.0.0,>=1.0.4->ipython->ipython-autotime) (1.15.0)\n",
            "Requirement already satisfied: ptyprocess>=0.5 in /usr/local/lib/python3.7/dist-packages (from pexpect; sys_platform != \"win32\"->ipython->ipython-autotime) (0.7.0)\n",
            "Installing collected packages: ipython-autotime\n",
            "Successfully installed ipython-autotime-0.3.1\n",
            "time: 1.94 ms (started: 2021-04-16 04:45:08 +00:00)\n"
          ],
          "name": "stdout"
        }
      ]
    },
    {
      "cell_type": "code",
      "metadata": {
        "colab": {
          "base_uri": "https://localhost:8080/"
        },
        "id": "DggpqrsrscGi",
        "outputId": "fbdfdee0-3555-443f-b9ee-564791001b61"
      },
      "source": [
        "# Install required dependancies\n",
        "!pip install pyspark\n",
        "!apt install openjdk-8-jdk-headless -qq\n",
        "import os\n",
        "os.environ[\"JAVA_HOME\"] = \"/usr/lib/jvm/java-8-openjdk-amd64\""
      ],
      "execution_count": 2,
      "outputs": [
        {
          "output_type": "stream",
          "text": [
            "Collecting pyspark\n",
            "\u001b[?25l  Downloading https://files.pythonhosted.org/packages/45/b0/9d6860891ab14a39d4bddf80ba26ce51c2f9dc4805e5c6978ac0472c120a/pyspark-3.1.1.tar.gz (212.3MB)\n",
            "\u001b[K     |████████████████████████████████| 212.3MB 69kB/s \n",
            "\u001b[?25hCollecting py4j==0.10.9\n",
            "\u001b[?25l  Downloading https://files.pythonhosted.org/packages/9e/b6/6a4fb90cd235dc8e265a6a2067f2a2c99f0d91787f06aca4bcf7c23f3f80/py4j-0.10.9-py2.py3-none-any.whl (198kB)\n",
            "\u001b[K     |████████████████████████████████| 204kB 38.9MB/s \n",
            "\u001b[?25hBuilding wheels for collected packages: pyspark\n",
            "  Building wheel for pyspark (setup.py) ... \u001b[?25l\u001b[?25hdone\n",
            "  Created wheel for pyspark: filename=pyspark-3.1.1-py2.py3-none-any.whl size=212767604 sha256=7dcbb6badba801a7cc3d6df697cb628362529f58cb04fb0246f74a8354685c71\n",
            "  Stored in directory: /root/.cache/pip/wheels/0b/90/c0/01de724414ef122bd05f056541fb6a0ecf47c7ca655f8b3c0f\n",
            "Successfully built pyspark\n",
            "Installing collected packages: py4j, pyspark\n",
            "Successfully installed py4j-0.10.9 pyspark-3.1.1\n",
            "The following additional packages will be installed:\n",
            "  openjdk-8-jre-headless\n",
            "Suggested packages:\n",
            "  openjdk-8-demo openjdk-8-source libnss-mdns fonts-dejavu-extra\n",
            "  fonts-ipafont-gothic fonts-ipafont-mincho fonts-wqy-microhei\n",
            "  fonts-wqy-zenhei fonts-indic\n",
            "The following NEW packages will be installed:\n",
            "  openjdk-8-jdk-headless openjdk-8-jre-headless\n",
            "0 upgraded, 2 newly installed, 0 to remove and 31 not upgraded.\n",
            "Need to get 36.5 MB of archives.\n",
            "After this operation, 143 MB of additional disk space will be used.\n",
            "Selecting previously unselected package openjdk-8-jre-headless:amd64.\n",
            "(Reading database ... 160983 files and directories currently installed.)\n",
            "Preparing to unpack .../openjdk-8-jre-headless_8u282-b08-0ubuntu1~18.04_amd64.deb ...\n",
            "Unpacking openjdk-8-jre-headless:amd64 (8u282-b08-0ubuntu1~18.04) ...\n",
            "Selecting previously unselected package openjdk-8-jdk-headless:amd64.\n",
            "Preparing to unpack .../openjdk-8-jdk-headless_8u282-b08-0ubuntu1~18.04_amd64.deb ...\n",
            "Unpacking openjdk-8-jdk-headless:amd64 (8u282-b08-0ubuntu1~18.04) ...\n",
            "Setting up openjdk-8-jre-headless:amd64 (8u282-b08-0ubuntu1~18.04) ...\n",
            "update-alternatives: using /usr/lib/jvm/java-8-openjdk-amd64/jre/bin/orbd to provide /usr/bin/orbd (orbd) in auto mode\n",
            "update-alternatives: using /usr/lib/jvm/java-8-openjdk-amd64/jre/bin/servertool to provide /usr/bin/servertool (servertool) in auto mode\n",
            "update-alternatives: using /usr/lib/jvm/java-8-openjdk-amd64/jre/bin/tnameserv to provide /usr/bin/tnameserv (tnameserv) in auto mode\n",
            "Setting up openjdk-8-jdk-headless:amd64 (8u282-b08-0ubuntu1~18.04) ...\n",
            "update-alternatives: using /usr/lib/jvm/java-8-openjdk-amd64/bin/idlj to provide /usr/bin/idlj (idlj) in auto mode\n",
            "update-alternatives: using /usr/lib/jvm/java-8-openjdk-amd64/bin/wsimport to provide /usr/bin/wsimport (wsimport) in auto mode\n",
            "update-alternatives: using /usr/lib/jvm/java-8-openjdk-amd64/bin/jsadebugd to provide /usr/bin/jsadebugd (jsadebugd) in auto mode\n",
            "update-alternatives: using /usr/lib/jvm/java-8-openjdk-amd64/bin/native2ascii to provide /usr/bin/native2ascii (native2ascii) in auto mode\n",
            "update-alternatives: using /usr/lib/jvm/java-8-openjdk-amd64/bin/javah to provide /usr/bin/javah (javah) in auto mode\n",
            "update-alternatives: using /usr/lib/jvm/java-8-openjdk-amd64/bin/hsdb to provide /usr/bin/hsdb (hsdb) in auto mode\n",
            "update-alternatives: using /usr/lib/jvm/java-8-openjdk-amd64/bin/clhsdb to provide /usr/bin/clhsdb (clhsdb) in auto mode\n",
            "update-alternatives: using /usr/lib/jvm/java-8-openjdk-amd64/bin/xjc to provide /usr/bin/xjc (xjc) in auto mode\n",
            "update-alternatives: using /usr/lib/jvm/java-8-openjdk-amd64/bin/schemagen to provide /usr/bin/schemagen (schemagen) in auto mode\n",
            "update-alternatives: using /usr/lib/jvm/java-8-openjdk-amd64/bin/extcheck to provide /usr/bin/extcheck (extcheck) in auto mode\n",
            "update-alternatives: using /usr/lib/jvm/java-8-openjdk-amd64/bin/jhat to provide /usr/bin/jhat (jhat) in auto mode\n",
            "update-alternatives: using /usr/lib/jvm/java-8-openjdk-amd64/bin/wsgen to provide /usr/bin/wsgen (wsgen) in auto mode\n",
            "time: 52.8 s (started: 2021-04-16 04:45:08 +00:00)\n"
          ],
          "name": "stdout"
        }
      ]
    },
    {
      "cell_type": "code",
      "metadata": {
        "id": "ppkG73kRsei0",
        "colab": {
          "base_uri": "https://localhost:8080/"
        },
        "outputId": "6eaab56c-a43b-43da-9581-d60f8c6ba9d5"
      },
      "source": [
        "# Import modules\n",
        "import numpy as np\n",
        "import pandas as pd\n",
        "import matplotlib.pyplot as plt\n",
        "from pathlib import Path\n",
        "%matplotlib inline\n",
        "\n",
        "import pyspark\n",
        "from pyspark.sql import *\n",
        "from pyspark.sql.types import *\n",
        "from pyspark.sql.functions import *\n",
        "from pyspark import SparkContext, SparkConf"
      ],
      "execution_count": 3,
      "outputs": [
        {
          "output_type": "stream",
          "text": [
            "time: 92.9 ms (started: 2021-04-16 04:46:00 +00:00)\n"
          ],
          "name": "stdout"
        }
      ]
    },
    {
      "cell_type": "code",
      "metadata": {
        "colab": {
          "base_uri": "https://localhost:8080/"
        },
        "id": "pYm9-j_fflal",
        "outputId": "05ddf62e-a4b5-4528-f894-a82e0a07eb39"
      },
      "source": [
        "import altair as alt\n",
        "alt.data_transformers.disable_max_rows()"
      ],
      "execution_count": 4,
      "outputs": [
        {
          "output_type": "execute_result",
          "data": {
            "text/plain": [
              "DataTransformerRegistry.enable('default')"
            ]
          },
          "metadata": {
            "tags": []
          },
          "execution_count": 4
        },
        {
          "output_type": "stream",
          "text": [
            "time: 283 ms (started: 2021-04-16 04:46:01 +00:00)\n"
          ],
          "name": "stdout"
        }
      ]
    },
    {
      "cell_type": "code",
      "metadata": {
        "id": "1oe1ksN5skMG",
        "colab": {
          "base_uri": "https://localhost:8080/"
        },
        "outputId": "3b2bbe13-db83-491f-b545-5b2e5ad7d1c4"
      },
      "source": [
        "# create the session\n",
        "conf = SparkConf().set(\"spark.ui.port\", \"4050\")\n",
        "\n",
        "# create the context\n",
        "sc = pyspark.SparkContext(conf=conf)\n",
        "spark = SparkSession.builder.getOrCreate()"
      ],
      "execution_count": 5,
      "outputs": [
        {
          "output_type": "stream",
          "text": [
            "time: 4.93 s (started: 2021-04-16 04:46:01 +00:00)\n"
          ],
          "name": "stdout"
        }
      ]
    },
    {
      "cell_type": "code",
      "metadata": {
        "id": "zdPF-0xIrDm9",
        "colab": {
          "base_uri": "https://localhost:8080/"
        },
        "outputId": "afb392fb-9b95-4c12-87f8-10002bb7b8a5"
      },
      "source": [
        "#sc.stop()"
      ],
      "execution_count": 6,
      "outputs": [
        {
          "output_type": "stream",
          "text": [
            "time: 1.45 ms (started: 2021-04-16 04:46:06 +00:00)\n"
          ],
          "name": "stdout"
        }
      ]
    },
    {
      "cell_type": "code",
      "metadata": {
        "colab": {
          "base_uri": "https://localhost:8080/"
        },
        "id": "WGXwI2d1szaO",
        "outputId": "41419c15-6c49-405a-fa93-81aadf93a5c9"
      },
      "source": [
        "# Mount drive with data\n",
        "from google.colab import drive\n",
        "drive.mount('/content/drive')"
      ],
      "execution_count": 7,
      "outputs": [
        {
          "output_type": "stream",
          "text": [
            "Mounted at /content/drive\n",
            "time: 24.7 s (started: 2021-04-16 04:46:06 +00:00)\n"
          ],
          "name": "stdout"
        }
      ]
    },
    {
      "cell_type": "code",
      "metadata": {
        "id": "grN2uNcFvloa",
        "colab": {
          "base_uri": "https://localhost:8080/"
        },
        "outputId": "08b17497-705c-4af0-f95f-42dcb0557ac5"
      },
      "source": [
        "# Set path to data folder\n",
        "path = Path('drive/MyDrive/big-data-project/data/clean-data')\n",
        "city = 'ny'"
      ],
      "execution_count": 8,
      "outputs": [
        {
          "output_type": "stream",
          "text": [
            "time: 3.26 ms (started: 2021-04-16 04:46:31 +00:00)\n"
          ],
          "name": "stdout"
        }
      ]
    },
    {
      "cell_type": "code",
      "metadata": {
        "colab": {
          "base_uri": "https://localhost:8080/"
        },
        "id": "BvCrFmU2tGXY",
        "outputId": "113d5108-c699-4e08-f213-1be6dd039982"
      },
      "source": [
        "# Read data into dataframe\n",
        "df_soc = spark.read.format('csv').option('header','true').option('quote',\"\\\"\").option('escape',\"\\\"\").load(str(path/city/'social/2020/*.csv'))\n",
        "df_soc.show()"
      ],
      "execution_count": 9,
      "outputs": [
        {
          "output_type": "stream",
          "text": [
            "+---+------------+--------------------+--------------------+------------+---------------------------+--------------------------+------------------------------------------+----------------------------+----------------------+------------------------+--------------------+-------------------------------+-------------------------------+--------------------+-------------------------+--------------------------+----------------------+----------------------------+---------------------------+-----------------------------+\n",
            "|_c0|         cbg|    date_range_start|      date_range_end|device_count|distance_traveled_from_home|bucketed_distance_traveled|median_dwell_at_bucketed_distance_traveled|completely_home_device_count|median_home_dwell_time|bucketed_home_dwell_time|at_home_by_each_hour|part_time_work_behavior_devices|full_time_work_behavior_devices|    destination_cbgs|delivery_behavior_devices|median_non_home_dwell_time|candidate_device_count|bucketed_away_from_home_time|median_percentage_time_home|bucketed_percentage_time_home|\n",
            "+---+------------+--------------------+--------------------+------------+---------------------------+--------------------------+------------------------------------------+----------------------------+----------------------+------------------------+--------------------+-------------------------------+-------------------------------+--------------------+-------------------------+--------------------------+----------------------+----------------------------+---------------------------+-----------------------------+\n",
            "|146|360470064002|2020-02-03T00:00:...|2020-02-04T00:00:...|          64|                     1883.0|      {\"16001-50000\":1,...|                      {\"16001-50000\":20...|                          18|                   722|    {\"721-1080\":17,\"3...|[38,42,36,38,35,3...|                              7|                              5|{\"360610089003\":1...|                        2|                       107|                   117|        {\"21-45\":4,\"541-6...|                         84|         {\"26-50\":3,\"51-75...|\n",
            "|154|360810384001|2020-02-03T00:00:...|2020-02-04T00:00:...|          84|                     5483.0|      {\"16001-50000\":12...|                      {\"16001-50000\":21...|                          21|                   587|    {\"721-1080\":13,\"3...|[50,53,55,54,50,4...|                             12|                              8|{\"360810208001\":1...|                        4|                       138|                   155|        {\"21-45\":7,\"481-5...|                         73|         {\"26-50\":9,\"51-75...|\n",
            "|155|360850170103|2020-02-03T00:00:...|2020-02-04T00:00:...|         250|                     4995.0|      {\"16001-50000\":48...|                      {\"16001-50000\":10...|                          68|                   781|    {\"721-1080\":68,\"3...|[180,186,184,188,...|                             41|                             26|{\"360850187021\":1...|                        8|                       141|                   377|        {\"21-45\":8,\"481-5...|                         84|         {\"26-50\":16,\"51-7...|\n",
            "|393|360050213021|2020-02-03T00:00:...|2020-02-04T00:00:...|          92|                     2739.0|      {\"16001-50000\":4,...|                      {\"16001-50000\":50...|                          26|                   578|    {\"721-1080\":18,\"3...|[55,53,55,52,51,4...|                             11|                              6|{\"360050237021\":2...|                        3|                       130|                   194|        {\"21-45\":5,\"481-5...|                         79|         {\"26-50\":8,\"51-75...|\n",
            "|394|360050253004|2020-02-03T00:00:...|2020-02-04T00:00:...|          52|                     3801.0|      {\"16001-50000\":2,...|                      {\"16001-50000\":31...|                          13|                   533|    {\"721-1080\":8,\"36...|[26,26,25,27,26,2...|                              7|                              4|{\"360050326002\":2...|                        2|                       193|                   106|        {\"21-45\":3,\"481-5...|                         76|         {\"26-50\":5,\"51-75...|\n",
            "|398|360470385003|2020-02-03T00:00:...|2020-02-04T00:00:...|          37|                     5459.0|      {\"0\":10,\"2001-800...|                      {\"1001-2000\":77,\"...|                           9|                   661|    {\"721-1080\":13,\"3...|[24,25,26,25,24,2...|                              4|                              5|{\"360470379002\":1...|                        1|                       120|                    78|        {\"21-45\":2,\"481-5...|                         70|         {\"0-25\":5,\"76-100...|\n",
            "|399|360470406002|2020-02-03T00:00:...|2020-02-04T00:00:...|          46|                    10480.0|      {\"16001-50000\":7,...|                      {\"16001-50000\":12...|                          12|                   390|    {\"721-1080\":7,\"36...|[23,18,18,18,18,1...|                              7|                              4|{\"360470804003\":1...|                        3|                        38|                    79|        {\"21-45\":4,\"1201-...|                         69|         {\"0-25\":17,\"76-10...|\n",
            "|400|360470428003|2020-02-03T00:00:...|2020-02-04T00:00:...|          84|                     3798.0|      {\"16001-50000\":5,...|                      {\"16001-50000\":32...|                          20|                   693|    {\"721-1080\":26,\"3...|[55,57,56,54,55,5...|                              2|                             13|{\"360470478001\":2...|                        7|                       181|                   139|        {\"21-45\":1,\"481-5...|                         67|         {\"0-25\":13,\"76-10...|\n",
            "|401|360471130002|2020-02-03T00:00:...|2020-02-04T00:00:...|          84|                     5276.0|      {\"16001-50000\":1,...|                      {\"16001-50000\":64...|                          20|                   759|    {\"721-1080\":25,\"3...|[54,57,58,59,54,5...|                             13|                              9|{\"360470804003\":1...|                        5|                       200|                   155|        {\"21-45\":1,\"481-5...|                         69|         {\"26-50\":5,\"51-75...|\n",
            "|404|360811029001|2020-02-03T00:00:...|2020-02-04T00:00:...|         256|                     5062.0|      {\"16001-50000\":25...|                      {\"16001-50000\":82...|                          95|                   411|    {\"721-1080\":49,\"3...|[124,121,125,125,...|                             24|                             18|{\"360811033001\":1...|                        6|                        31|                   766|        {\"21-45\":18,\"481-...|                         86|         {\"26-50\":12,\"51-7...|\n",
            "|637|360050177022|2020-02-03T00:00:...|2020-02-04T00:00:...|          53|                     5200.0|      {\"16001-50000\":2,...|                      {\"16001-50000\":58...|                          19|                   709|    {\"721-1080\":11,\"3...|[31,31,29,29,30,2...|                              2|                              1|{\"360610265002\":1...|                        5|                        33|                   108|        {\"21-45\":5,\"481-5...|                         90|         {\"26-50\":1,\"51-75...|\n",
            "|638|360050248002|2020-02-03T00:00:...|2020-02-04T00:00:...|          63|                     3274.0|      {\"16001-50000\":2,...|                      {\"16001-50000\":29...|                          24|                   634|    {\"721-1080\":10,\"3...|[33,39,33,35,32,3...|                              6|                              2|{\"360050248001\":3...|                        6|                        22|                   112|        {\"21-45\":1,\"481-5...|                         94|         {\"0-25\":13,\"76-10...|\n",
            "|639|360050363003|2020-02-03T00:00:...|2020-02-04T00:00:...|          81|                     3828.0|      {\"16001-50000\":7,...|                      {\"16001-50000\":20...|                          17|                   643|    {\"721-1080\":22,\"3...|[48,46,47,45,48,4...|                              7|                              8|{\"360050237021\":1...|                        4|                       203|                   227|        {\"21-45\":6,\"481-5...|                         74|         {\"0-25\":21,\"76-10...|\n",
            "|644|360470084003|2020-02-03T00:00:...|2020-02-04T00:00:...|          42|                     4795.0|      {\"0\":10,\">50000\":...|                      {\">50000\":57,\"<10...|                          12|                   512|    {\"721-1080\":6,\"36...|[26,24,24,24,25,2...|                              7|                              5|{\"360470485001\":1...|                        1|                       305|                    99|        {\"481-540\":1,\"541...|                         58|         {\"26-50\":4,\"51-75...|\n",
            "|645|360470393002|2020-02-03T00:00:...|2020-02-04T00:00:...|          42|                     4291.0|      {\"0\":12,\"2001-800...|                      {\"1001-2000\":20,\"...|                          12|                   685|    {\"721-1080\":10,\"3...|[28,27,28,28,29,2...|                              4|                              5|{\"360470551003\":1...|                        3|                       142|                   130|        {\"21-45\":4,\"481-5...|                         82|         {\"0-25\":2,\"76-100...|\n",
            "|646|360470888003|2020-02-03T00:00:...|2020-02-04T00:00:...|          73|                     3905.0|      {\"16001-50000\":1,...|                      {\"16001-50000\":31...|                          24|                   593|    {\"721-1080\":15,\"3...|[46,48,49,48,44,4...|                              4|                             10|{\"360470816002\":1...|                        7|                        92|                   146|        {\"21-45\":6,\"481-5...|                         74|         {\"0-25\":16,\"76-10...|\n",
            "|650|360610072004|2020-02-03T00:00:...|2020-02-04T00:00:...|          58|                     1559.0|      {\"16001-50000\":1,...|                      {\"16001-50000\":72...|                          17|                   453|    {\"721-1080\":15,\"3...|[27,28,28,29,26,2...|                              8|                              6|{\"361090004001\":1...|                        1|                       342|                   132|        {\"481-540\":2,\"541...|                         60|         {\"0-25\":9,\"76-100...|\n",
            "|885|360050414002|2020-02-03T00:00:...|2020-02-04T00:00:...|          60|                     5550.0|      {\"16001-50000\":7,...|                      {\"16001-50000\":29...|                          19|                   720|    {\"721-1080\":16,\"3...|[41,42,41,43,36,3...|                              5|                              6|{\"360050418001\":2...|                        5|                        65|                   116|        {\"21-45\":7,\"481-5...|                         91|         {\">100\":1,\"0-25\":...|\n",
            "|886|360050424001|2020-02-03T00:00:...|2020-02-04T00:00:...|          44|                     7992.0|      {\"16001-50000\":7,...|                      {\"16001-50000\":25...|                          12|                   319|    {\"721-1080\":5,\"36...|[16,15,18,16,16,2...|                              4|                              3|{\"360811257001\":1...|                        1|                        50|                    85|        {\"21-45\":4,\"541-6...|                         78|         {\"26-50\":1,\"51-75...|\n",
            "|889|360470076002|2020-02-03T00:00:...|2020-02-04T00:00:...|          49|                     4238.0|      {\"0\":13,\">50000\":...|                      {\">50000\":28,\"<10...|                          11|                   718|    {\"721-1080\":15,\"3...|[37,33,34,33,33,3...|                              9|                              7|{\"360470060002\":1...|                        1|                       231|                    87|        {\"21-45\":5,\"481-5...|                         74|         {\"0-25\":4,\"76-100...|\n",
            "+---+------------+--------------------+--------------------+------------+---------------------------+--------------------------+------------------------------------------+----------------------------+----------------------+------------------------+--------------------+-------------------------------+-------------------------------+--------------------+-------------------------+--------------------------+----------------------+----------------------------+---------------------------+-----------------------------+\n",
            "only showing top 20 rows\n",
            "\n",
            "time: 19.7 s (started: 2021-04-16 04:46:31 +00:00)\n"
          ],
          "name": "stdout"
        }
      ]
    },
    {
      "cell_type": "code",
      "metadata": {
        "colab": {
          "base_uri": "https://localhost:8080/"
        },
        "id": "9fgHRKKEz-cA",
        "outputId": "82ec15e3-d266-4ba6-a1b5-c16ced819eef"
      },
      "source": [
        "# View schema\n",
        "df_soc.printSchema()"
      ],
      "execution_count": 10,
      "outputs": [
        {
          "output_type": "stream",
          "text": [
            "root\n",
            " |-- _c0: string (nullable = true)\n",
            " |-- cbg: string (nullable = true)\n",
            " |-- date_range_start: string (nullable = true)\n",
            " |-- date_range_end: string (nullable = true)\n",
            " |-- device_count: string (nullable = true)\n",
            " |-- distance_traveled_from_home: string (nullable = true)\n",
            " |-- bucketed_distance_traveled: string (nullable = true)\n",
            " |-- median_dwell_at_bucketed_distance_traveled: string (nullable = true)\n",
            " |-- completely_home_device_count: string (nullable = true)\n",
            " |-- median_home_dwell_time: string (nullable = true)\n",
            " |-- bucketed_home_dwell_time: string (nullable = true)\n",
            " |-- at_home_by_each_hour: string (nullable = true)\n",
            " |-- part_time_work_behavior_devices: string (nullable = true)\n",
            " |-- full_time_work_behavior_devices: string (nullable = true)\n",
            " |-- destination_cbgs: string (nullable = true)\n",
            " |-- delivery_behavior_devices: string (nullable = true)\n",
            " |-- median_non_home_dwell_time: string (nullable = true)\n",
            " |-- candidate_device_count: string (nullable = true)\n",
            " |-- bucketed_away_from_home_time: string (nullable = true)\n",
            " |-- median_percentage_time_home: string (nullable = true)\n",
            " |-- bucketed_percentage_time_home: string (nullable = true)\n",
            "\n",
            "time: 28.1 ms (started: 2021-04-16 04:46:50 +00:00)\n"
          ],
          "name": "stdout"
        }
      ]
    },
    {
      "cell_type": "code",
      "metadata": {
        "id": "AlbhBqMUxjVa",
        "colab": {
          "base_uri": "https://localhost:8080/"
        },
        "outputId": "a90b0d7f-4a00-4bd3-d102-a7ff8abafcb9"
      },
      "source": [
        "# # Take small sample of data to experiment with\n",
        "# df_soc = df_soc.limit(100)\n",
        "# df_soc.show()"
      ],
      "execution_count": 11,
      "outputs": [
        {
          "output_type": "stream",
          "text": [
            "time: 1.19 ms (started: 2021-04-16 04:46:50 +00:00)\n"
          ],
          "name": "stdout"
        }
      ]
    },
    {
      "cell_type": "code",
      "metadata": {
        "colab": {
          "base_uri": "https://localhost:8080/"
        },
        "id": "wh747sqcHi4-",
        "outputId": "13035f62-b2c8-4cf4-c796-e828987fa472"
      },
      "source": [
        "df_soc.createOrReplaceTempView('clean_ny')\n",
        "df_soc = spark.sql('SELECT cbg, date_range_start as date, device_count, completely_home_device_count, part_time_work_behavior_devices, full_time_work_behavior_devices FROM clean_ny WHERE device_count > 5')\n",
        "df_soc.show()"
      ],
      "execution_count": 12,
      "outputs": [
        {
          "output_type": "stream",
          "text": [
            "+------------+--------------------+------------+----------------------------+-------------------------------+-------------------------------+\n",
            "|         cbg|                date|device_count|completely_home_device_count|part_time_work_behavior_devices|full_time_work_behavior_devices|\n",
            "+------------+--------------------+------------+----------------------------+-------------------------------+-------------------------------+\n",
            "|360470064002|2020-02-03T00:00:...|          64|                          18|                              7|                              5|\n",
            "|360810384001|2020-02-03T00:00:...|          84|                          21|                             12|                              8|\n",
            "|360850170103|2020-02-03T00:00:...|         250|                          68|                             41|                             26|\n",
            "|360050213021|2020-02-03T00:00:...|          92|                          26|                             11|                              6|\n",
            "|360050253004|2020-02-03T00:00:...|          52|                          13|                              7|                              4|\n",
            "|360470385003|2020-02-03T00:00:...|          37|                           9|                              4|                              5|\n",
            "|360470406002|2020-02-03T00:00:...|          46|                          12|                              7|                              4|\n",
            "|360470428003|2020-02-03T00:00:...|          84|                          20|                              2|                             13|\n",
            "|360471130002|2020-02-03T00:00:...|          84|                          20|                             13|                              9|\n",
            "|360811029001|2020-02-03T00:00:...|         256|                          95|                             24|                             18|\n",
            "|360050177022|2020-02-03T00:00:...|          53|                          19|                              2|                              1|\n",
            "|360050248002|2020-02-03T00:00:...|          63|                          24|                              6|                              2|\n",
            "|360050363003|2020-02-03T00:00:...|          81|                          17|                              7|                              8|\n",
            "|360470084003|2020-02-03T00:00:...|          42|                          12|                              7|                              5|\n",
            "|360470393002|2020-02-03T00:00:...|          42|                          12|                              4|                              5|\n",
            "|360470888003|2020-02-03T00:00:...|          73|                          24|                              4|                             10|\n",
            "|360610072004|2020-02-03T00:00:...|          58|                          17|                              8|                              6|\n",
            "|360050414002|2020-02-03T00:00:...|          60|                          19|                              5|                              6|\n",
            "|360050424001|2020-02-03T00:00:...|          44|                          12|                              4|                              3|\n",
            "|360470076002|2020-02-03T00:00:...|          49|                          11|                              9|                              7|\n",
            "+------------+--------------------+------------+----------------------------+-------------------------------+-------------------------------+\n",
            "only showing top 20 rows\n",
            "\n",
            "time: 931 ms (started: 2021-04-16 04:46:50 +00:00)\n"
          ],
          "name": "stdout"
        }
      ]
    },
    {
      "cell_type": "code",
      "metadata": {
        "colab": {
          "base_uri": "https://localhost:8080/"
        },
        "id": "AsEegEtNyYZr",
        "outputId": "5b7bc191-a58c-45fd-f995-98c3c5460115"
      },
      "source": [
        "# View schema\n",
        "df_soc.printSchema()"
      ],
      "execution_count": 13,
      "outputs": [
        {
          "output_type": "stream",
          "text": [
            "root\n",
            " |-- cbg: string (nullable = true)\n",
            " |-- date: string (nullable = true)\n",
            " |-- device_count: string (nullable = true)\n",
            " |-- completely_home_device_count: string (nullable = true)\n",
            " |-- part_time_work_behavior_devices: string (nullable = true)\n",
            " |-- full_time_work_behavior_devices: string (nullable = true)\n",
            "\n",
            "time: 10.9 ms (started: 2021-04-16 04:46:51 +00:00)\n"
          ],
          "name": "stdout"
        }
      ]
    },
    {
      "cell_type": "code",
      "metadata": {
        "colab": {
          "base_uri": "https://localhost:8080/"
        },
        "id": "UL4qIhZu7JKC",
        "outputId": "79e0a584-b4a8-4e91-ca87-2a67efa5dbf4"
      },
      "source": [
        "# Add completely home percentage column\n",
        "df_soc = df_soc.withColumn('completely_home_percentage', (df_soc['completely_home_device_count']/df_soc['device_count']) * 100)\n",
        "df_soc = df_soc.withColumn('part_time_work_percentage', (df_soc['part_time_work_behavior_devices']/df_soc['device_count']) * 100)\n",
        "df_soc = df_soc.withColumn('full_time_work_percentage', (df_soc['full_time_work_behavior_devices']/df_soc['device_count']) * 100)\n",
        "\n",
        "df_soc.show()"
      ],
      "execution_count": 14,
      "outputs": [
        {
          "output_type": "stream",
          "text": [
            "+------------+--------------------+------------+----------------------------+-------------------------------+-------------------------------+--------------------------+-------------------------+-------------------------+\n",
            "|         cbg|                date|device_count|completely_home_device_count|part_time_work_behavior_devices|full_time_work_behavior_devices|completely_home_percentage|part_time_work_percentage|full_time_work_percentage|\n",
            "+------------+--------------------+------------+----------------------------+-------------------------------+-------------------------------+--------------------------+-------------------------+-------------------------+\n",
            "|360470064002|2020-02-03T00:00:...|          64|                          18|                              7|                              5|                    28.125|                  10.9375|                   7.8125|\n",
            "|360810384001|2020-02-03T00:00:...|          84|                          21|                             12|                              8|                      25.0|       14.285714285714285|        9.523809523809524|\n",
            "|360850170103|2020-02-03T00:00:...|         250|                          68|                             41|                             26|        27.200000000000003|       16.400000000000002|                     10.4|\n",
            "|360050213021|2020-02-03T00:00:...|          92|                          26|                             11|                              6|         28.26086956521739|       11.956521739130435|        6.521739130434782|\n",
            "|360050253004|2020-02-03T00:00:...|          52|                          13|                              7|                              4|                      25.0|       13.461538461538462|       7.6923076923076925|\n",
            "|360470385003|2020-02-03T00:00:...|          37|                           9|                              4|                              5|        24.324324324324326|        10.81081081081081|       13.513513513513514|\n",
            "|360470406002|2020-02-03T00:00:...|          46|                          12|                              7|                              4|         26.08695652173913|       15.217391304347828|        8.695652173913043|\n",
            "|360470428003|2020-02-03T00:00:...|          84|                          20|                              2|                             13|        23.809523809523807|        2.380952380952381|       15.476190476190476|\n",
            "|360471130002|2020-02-03T00:00:...|          84|                          20|                             13|                              9|        23.809523809523807|       15.476190476190476|       10.714285714285714|\n",
            "|360811029001|2020-02-03T00:00:...|         256|                          95|                             24|                             18|                 37.109375|                    9.375|                  7.03125|\n",
            "|360050177022|2020-02-03T00:00:...|          53|                          19|                              2|                              1|         35.84905660377358|       3.7735849056603774|       1.8867924528301887|\n",
            "|360050248002|2020-02-03T00:00:...|          63|                          24|                              6|                              2|        38.095238095238095|        9.523809523809524|       3.1746031746031744|\n",
            "|360050363003|2020-02-03T00:00:...|          81|                          17|                              7|                              8|         20.98765432098765|        8.641975308641975|        9.876543209876543|\n",
            "|360470084003|2020-02-03T00:00:...|          42|                          12|                              7|                              5|         28.57142857142857|       16.666666666666664|       11.904761904761903|\n",
            "|360470393002|2020-02-03T00:00:...|          42|                          12|                              4|                              5|         28.57142857142857|        9.523809523809524|       11.904761904761903|\n",
            "|360470888003|2020-02-03T00:00:...|          73|                          24|                              4|                             10|         32.87671232876712|         5.47945205479452|       13.698630136986301|\n",
            "|360610072004|2020-02-03T00:00:...|          58|                          17|                              8|                              6|        29.310344827586203|       13.793103448275861|       10.344827586206897|\n",
            "|360050414002|2020-02-03T00:00:...|          60|                          19|                              5|                              6|        31.666666666666664|        8.333333333333332|                     10.0|\n",
            "|360050424001|2020-02-03T00:00:...|          44|                          12|                              4|                              3|         27.27272727272727|        9.090909090909092|       6.8181818181818175|\n",
            "|360470076002|2020-02-03T00:00:...|          49|                          11|                              9|                              7|        22.448979591836736|       18.367346938775512|       14.285714285714285|\n",
            "+------------+--------------------+------------+----------------------------+-------------------------------+-------------------------------+--------------------------+-------------------------+-------------------------+\n",
            "only showing top 20 rows\n",
            "\n",
            "time: 565 ms (started: 2021-04-16 04:46:51 +00:00)\n"
          ],
          "name": "stdout"
        }
      ]
    },
    {
      "cell_type": "code",
      "metadata": {
        "colab": {
          "base_uri": "https://localhost:8080/"
        },
        "id": "U8Dh3u54x-Rw",
        "outputId": "cac6c8fd-fbb9-40b1-c70f-03d7ed81c11a"
      },
      "source": [
        "df_soc.printSchema()"
      ],
      "execution_count": 15,
      "outputs": [
        {
          "output_type": "stream",
          "text": [
            "root\n",
            " |-- cbg: string (nullable = true)\n",
            " |-- date: string (nullable = true)\n",
            " |-- device_count: string (nullable = true)\n",
            " |-- completely_home_device_count: string (nullable = true)\n",
            " |-- part_time_work_behavior_devices: string (nullable = true)\n",
            " |-- full_time_work_behavior_devices: string (nullable = true)\n",
            " |-- completely_home_percentage: double (nullable = true)\n",
            " |-- part_time_work_percentage: double (nullable = true)\n",
            " |-- full_time_work_percentage: double (nullable = true)\n",
            "\n",
            "time: 11.5 ms (started: 2021-04-16 04:46:52 +00:00)\n"
          ],
          "name": "stdout"
        }
      ]
    },
    {
      "cell_type": "code",
      "metadata": {
        "colab": {
          "base_uri": "https://localhost:8080/"
        },
        "id": "OAUIODseCoSg",
        "outputId": "6337bb34-e60a-4acf-9e67-7e38164dc8d9"
      },
      "source": [
        "#Create temp view\n",
        "df_soc.createOrReplaceTempView('mobility')"
      ],
      "execution_count": 16,
      "outputs": [
        {
          "output_type": "stream",
          "text": [
            "time: 39.4 ms (started: 2021-04-16 04:46:52 +00:00)\n"
          ],
          "name": "stdout"
        }
      ]
    },
    {
      "cell_type": "markdown",
      "metadata": {
        "id": "Sj4xc1gTpm2X"
      },
      "source": [
        "\n",
        "\n",
        "---\n",
        "\n",
        "\n",
        "**Demographic Data**\n",
        "\n",
        "\n",
        "\n",
        "\n",
        "\n",
        "\n",
        "---\n",
        "\n"
      ]
    },
    {
      "cell_type": "code",
      "metadata": {
        "colab": {
          "base_uri": "https://localhost:8080/"
        },
        "id": "1SVVsXtuzqRf",
        "outputId": "61b7cf08-b5cf-4a3b-ba86-4fad60bc10c2"
      },
      "source": [
        "# Read poverty data\n",
        "# Read data into RDD\n",
        "df_demographic = spark.read.format('csv').option('header','true').option('quote',\"\\\"\").option('escape',\"\\\"\").load(str(path/city/'ny.csv'))\n",
        "df_demographic.createOrReplaceTempView('demographic')\n",
        "df_demographic.show()"
      ],
      "execution_count": 17,
      "outputs": [
        {
          "output_type": "stream",
          "text": [
            "+------------+---------+------------------+------------------+\n",
            "|         cbg|pop_total|poverty_percentage|    perc_whiteonly|\n",
            "+------------+---------+------------------+------------------+\n",
            "|360050001000|        0|               0.0|               0.0|\n",
            "|360050001001|     7503|               0.0|12.435025989604158|\n",
            "|360050002000|        0|               0.0|               0.0|\n",
            "|360050002001|     2114|16.130558183538316|35.856196783349105|\n",
            "|360050002002|     2168|18.911439114391143| 48.06273062730627|\n",
            "|360050002003|      969| 8.152734778121776|49.742002063983485|\n",
            "|360050004000|        0|               0.0|               0.0|\n",
            "|360050004001|      646|32.972136222910216| 44.27244582043344|\n",
            "|360050004002|     1400|25.571428571428573| 75.35714285714286|\n",
            "|360050004003|     3393| 1.569905213270142| 33.65753020925435|\n",
            "|360050004004|      541|15.196998123827393| 20.33271719038817|\n",
            "|360050016001|     3427|  25.1531952144733|38.400933761307265|\n",
            "|360050016002|      662| 62.99093655589124| 73.56495468277946|\n",
            "|360050016003|      466|28.665207877461707|23.819742489270386|\n",
            "|360050016004|     1501| 20.91346153846154| 47.23517654896735|\n",
            "|360050019000|        0|               0.0|               0.0|\n",
            "|360050019001|     1737|25.503742084052966| 15.60161197466897|\n",
            "|360050019002|       76|27.631578947368425|               0.0|\n",
            "|360050019003|      869| 58.12743823146944|20.828538550057537|\n",
            "|360050019004|        0|               0.0|               0.0|\n",
            "+------------+---------+------------------+------------------+\n",
            "only showing top 20 rows\n",
            "\n",
            "time: 747 ms (started: 2021-04-16 04:46:52 +00:00)\n"
          ],
          "name": "stdout"
        }
      ]
    },
    {
      "cell_type": "code",
      "metadata": {
        "colab": {
          "base_uri": "https://localhost:8080/"
        },
        "id": "Ff9bk8_6qBQ2",
        "outputId": "74cddecf-cdd1-4959-c9a6-1a590f1ec108"
      },
      "source": [
        "df_mob_demo = spark.sql('SELECT mobility.*, demographic.perc_whiteonly from mobility INNER JOIN demographic ON mobility.cbg = demographic.cbg')\n",
        "df_mob_demo.createOrReplaceTempView('demographic_mobility')\n",
        "df_mob_demo.show()\n"
      ],
      "execution_count": 18,
      "outputs": [
        {
          "output_type": "stream",
          "text": [
            "+------------+--------------------+------------+----------------------------+-------------------------------+-------------------------------+--------------------------+-------------------------+-------------------------+------------------+\n",
            "|         cbg|                date|device_count|completely_home_device_count|part_time_work_behavior_devices|full_time_work_behavior_devices|completely_home_percentage|part_time_work_percentage|full_time_work_percentage|    perc_whiteonly|\n",
            "+------------+--------------------+------------+----------------------------+-------------------------------+-------------------------------+--------------------------+-------------------------+-------------------------+------------------+\n",
            "|360470064002|2020-02-03T00:00:...|          64|                          18|                              7|                              5|                    28.125|                  10.9375|                   7.8125| 92.27053140096618|\n",
            "|360810384001|2020-02-03T00:00:...|          84|                          21|                             12|                              8|                      25.0|       14.285714285714285|        9.523809523809524|1.5174506828528074|\n",
            "|360850170103|2020-02-03T00:00:...|         250|                          68|                             41|                             26|        27.200000000000003|       16.400000000000002|                     10.4| 89.24050632911393|\n",
            "|360050213021|2020-02-03T00:00:...|          92|                          26|                             11|                              6|         28.26086956521739|       11.956521739130435|        6.521739130434782| 5.862884160756502|\n",
            "|360050253004|2020-02-03T00:00:...|          52|                          13|                              7|                              4|                      25.0|       13.461538461538462|       7.6923076923076925|         15.234375|\n",
            "|360470385003|2020-02-03T00:00:...|          37|                           9|                              4|                              5|        24.324324324324326|        10.81081081081081|       13.513513513513514|25.643086816720256|\n",
            "|360470406002|2020-02-03T00:00:...|          46|                          12|                              7|                              4|         26.08695652173913|       15.217391304347828|        8.695652173913043| 24.96940024479804|\n",
            "|360470428003|2020-02-03T00:00:...|          84|                          20|                              2|                             13|        23.809523809523807|        2.380952380952381|       15.476190476190476| 83.48294434470377|\n",
            "|360471130002|2020-02-03T00:00:...|          84|                          20|                             13|                              9|        23.809523809523807|       15.476190476190476|       10.714285714285714|               0.0|\n",
            "|360811029001|2020-02-03T00:00:...|         256|                          95|                             24|                             18|                 37.109375|                    9.375|                  7.03125| 72.08510638297872|\n",
            "|360050177022|2020-02-03T00:00:...|          53|                          19|                              2|                              1|         35.84905660377358|       3.7735849056603774|       1.8867924528301887| 8.678611422172452|\n",
            "|360050248002|2020-02-03T00:00:...|          63|                          24|                              6|                              2|        38.095238095238095|        9.523809523809524|       3.1746031746031744| 65.49865229110512|\n",
            "|360050363003|2020-02-03T00:00:...|          81|                          17|                              7|                              8|         20.98765432098765|        8.641975308641975|        9.876543209876543|24.120603015075375|\n",
            "|360470084003|2020-02-03T00:00:...|          42|                          12|                              7|                              5|         28.57142857142857|       16.666666666666664|       11.904761904761903| 29.52879581151833|\n",
            "|360470393002|2020-02-03T00:00:...|          42|                          12|                              4|                              5|         28.57142857142857|        9.523809523809524|       11.904761904761903| 60.65857885615251|\n",
            "|360470888003|2020-02-03T00:00:...|          73|                          24|                              4|                             10|         32.87671232876712|         5.47945205479452|       13.698630136986301|0.5517241379310345|\n",
            "|360610072004|2020-02-03T00:00:...|          58|                          17|                              8|                              6|        29.310344827586203|       13.793103448275861|       10.344827586206897| 60.60606060606061|\n",
            "|360050414002|2020-02-03T00:00:...|          60|                          19|                              5|                              6|        31.666666666666664|        8.333333333333332|                     10.0|20.552884615384613|\n",
            "|360050424001|2020-02-03T00:00:...|          44|                          12|                              4|                              3|         27.27272727272727|        9.090909090909092|       6.8181818181818175| 8.061889250814332|\n",
            "|360470076002|2020-02-03T00:00:...|          49|                          11|                              9|                              7|        22.448979591836736|       18.367346938775512|       14.285714285714285| 54.34108527131784|\n",
            "+------------+--------------------+------------+----------------------------+-------------------------------+-------------------------------+--------------------------+-------------------------+-------------------------+------------------+\n",
            "only showing top 20 rows\n",
            "\n",
            "time: 1.05 s (started: 2021-04-16 04:46:53 +00:00)\n"
          ],
          "name": "stdout"
        }
      ]
    },
    {
      "cell_type": "code",
      "metadata": {
        "id": "6vFzCEtNukZy",
        "colab": {
          "base_uri": "https://localhost:8080/"
        },
        "outputId": "49e878d7-501b-4870-bdd0-31ba587191e5"
      },
      "source": [
        "# DIVIDING THE PEOPLE TOP 20 PERCENT AND BOTTOM 20 PERCENT\n",
        "\n",
        "df_mob_demo_high_class =  spark.sql('SELECT * FROM demographic_mobility WHERE perc_whiteonly > 80')\n",
        "grouped_df_mob_demo_high_class = df_mob_demo_high_class.groupBy(\"date\").mean(\"completely_home_percentage\").withColumnRenamed('avg(completely_home_percentage)','completely_home_percentage')\n",
        "grouped_df_mob_demo_high_class.createOrReplaceTempView('mob_demo_white_majority')\n",
        "\n",
        "\n",
        "df_mob_demo_low_class =  spark.sql('SELECT * FROM demographic_mobility WHERE perc_whiteonly < 20')\n",
        "grouped_df_mob_demo_low_class = df_mob_demo_low_class.groupBy(\"date\").mean(\"completely_home_percentage\").withColumnRenamed('avg(completely_home_percentage)','completely_home_percentage')\n",
        "grouped_df_mob_demo_low_class.createOrReplaceTempView('mob_demo_white_minority')\n",
        "\n",
        "\n",
        "\n",
        "grouped_df_mob_demo_combined = spark.sql(\"\"\"\n",
        "\n",
        "SELECT wh.date,wh.completely_home_percentage as high_comp_home_perc,\n",
        "wl.completely_home_percentage as low_comp_home_perc  \n",
        "FROM mob_demo_white_majority wh INNER JOIN mob_demo_white_minority wl ON wh.date = wl.date\n",
        "\n",
        "\"\"\")\n"
      ],
      "execution_count": 19,
      "outputs": [
        {
          "output_type": "stream",
          "text": [
            "time: 324 ms (started: 2021-04-16 04:46:54 +00:00)\n"
          ],
          "name": "stdout"
        }
      ]
    },
    {
      "cell_type": "code",
      "metadata": {
        "id": "oEvvbPFXJG_g",
        "colab": {
          "base_uri": "https://localhost:8080/"
        },
        "outputId": "879dcd05-2093-4e0e-bb63-deae4bbe4535"
      },
      "source": [
        "#grouped_df_mob_demo_combined.show()\n"
      ],
      "execution_count": 20,
      "outputs": [
        {
          "output_type": "stream",
          "text": [
            "time: 2.92 ms (started: 2021-04-16 04:46:54 +00:00)\n"
          ],
          "name": "stdout"
        }
      ]
    },
    {
      "cell_type": "code",
      "metadata": {
        "colab": {
          "base_uri": "https://localhost:8080/",
          "height": 418
        },
        "id": "V4EHlNdfSVal",
        "outputId": "eb51449b-4b93-44af-bf8d-cd684c90659a"
      },
      "source": [
        "grouped_df_mob_demo_combined_pandas = grouped_df_mob_demo_combined.toPandas()\n",
        "grouped_df_mob_demo_combined_pandas"
      ],
      "execution_count": 21,
      "outputs": [
        {
          "output_type": "execute_result",
          "data": {
            "text/html": [
              "<div>\n",
              "<style scoped>\n",
              "    .dataframe tbody tr th:only-of-type {\n",
              "        vertical-align: middle;\n",
              "    }\n",
              "\n",
              "    .dataframe tbody tr th {\n",
              "        vertical-align: top;\n",
              "    }\n",
              "\n",
              "    .dataframe thead th {\n",
              "        text-align: right;\n",
              "    }\n",
              "</style>\n",
              "<table border=\"1\" class=\"dataframe\">\n",
              "  <thead>\n",
              "    <tr style=\"text-align: right;\">\n",
              "      <th></th>\n",
              "      <th>date</th>\n",
              "      <th>high_comp_home_perc</th>\n",
              "      <th>low_comp_home_perc</th>\n",
              "    </tr>\n",
              "  </thead>\n",
              "  <tbody>\n",
              "    <tr>\n",
              "      <th>0</th>\n",
              "      <td>2020-02-26T00:00:00-05:00</td>\n",
              "      <td>18.919700</td>\n",
              "      <td>24.121034</td>\n",
              "    </tr>\n",
              "    <tr>\n",
              "      <th>1</th>\n",
              "      <td>2020-07-03T00:00:00-04:00</td>\n",
              "      <td>31.722549</td>\n",
              "      <td>39.530227</td>\n",
              "    </tr>\n",
              "    <tr>\n",
              "      <th>2</th>\n",
              "      <td>2020-10-18T00:00:00-04:00</td>\n",
              "      <td>33.102480</td>\n",
              "      <td>41.845833</td>\n",
              "    </tr>\n",
              "    <tr>\n",
              "      <th>3</th>\n",
              "      <td>2020-07-14T00:00:00-04:00</td>\n",
              "      <td>31.602094</td>\n",
              "      <td>39.190459</td>\n",
              "    </tr>\n",
              "    <tr>\n",
              "      <th>4</th>\n",
              "      <td>2020-03-01T00:00:00-05:00</td>\n",
              "      <td>30.464927</td>\n",
              "      <td>38.615294</td>\n",
              "    </tr>\n",
              "    <tr>\n",
              "      <th>...</th>\n",
              "      <td>...</td>\n",
              "      <td>...</td>\n",
              "      <td>...</td>\n",
              "    </tr>\n",
              "    <tr>\n",
              "      <th>361</th>\n",
              "      <td>2020-04-16T00:00:00-04:00</td>\n",
              "      <td>50.336986</td>\n",
              "      <td>55.051239</td>\n",
              "    </tr>\n",
              "    <tr>\n",
              "      <th>362</th>\n",
              "      <td>2020-04-30T00:00:00-04:00</td>\n",
              "      <td>45.399188</td>\n",
              "      <td>51.142434</td>\n",
              "    </tr>\n",
              "    <tr>\n",
              "      <th>363</th>\n",
              "      <td>2020-06-14T00:00:00-04:00</td>\n",
              "      <td>36.314660</td>\n",
              "      <td>45.949476</td>\n",
              "    </tr>\n",
              "    <tr>\n",
              "      <th>364</th>\n",
              "      <td>2020-12-14T00:00:00-05:00</td>\n",
              "      <td>37.765826</td>\n",
              "      <td>41.079958</td>\n",
              "    </tr>\n",
              "    <tr>\n",
              "      <th>365</th>\n",
              "      <td>2020-12-22T00:00:00-05:00</td>\n",
              "      <td>30.686283</td>\n",
              "      <td>36.297068</td>\n",
              "    </tr>\n",
              "  </tbody>\n",
              "</table>\n",
              "<p>366 rows × 3 columns</p>\n",
              "</div>"
            ],
            "text/plain": [
              "                          date  high_comp_home_perc  low_comp_home_perc\n",
              "0    2020-02-26T00:00:00-05:00            18.919700           24.121034\n",
              "1    2020-07-03T00:00:00-04:00            31.722549           39.530227\n",
              "2    2020-10-18T00:00:00-04:00            33.102480           41.845833\n",
              "3    2020-07-14T00:00:00-04:00            31.602094           39.190459\n",
              "4    2020-03-01T00:00:00-05:00            30.464927           38.615294\n",
              "..                         ...                  ...                 ...\n",
              "361  2020-04-16T00:00:00-04:00            50.336986           55.051239\n",
              "362  2020-04-30T00:00:00-04:00            45.399188           51.142434\n",
              "363  2020-06-14T00:00:00-04:00            36.314660           45.949476\n",
              "364  2020-12-14T00:00:00-05:00            37.765826           41.079958\n",
              "365  2020-12-22T00:00:00-05:00            30.686283           36.297068\n",
              "\n",
              "[366 rows x 3 columns]"
            ]
          },
          "metadata": {
            "tags": []
          },
          "execution_count": 21
        },
        {
          "output_type": "stream",
          "text": [
            "time: 2min 44s (started: 2021-04-16 04:46:54 +00:00)\n"
          ],
          "name": "stdout"
        }
      ]
    },
    {
      "cell_type": "code",
      "metadata": {
        "id": "_qgAuW8GErIq"
      },
      "source": [
        ""
      ],
      "execution_count": 21,
      "outputs": []
    },
    {
      "cell_type": "markdown",
      "metadata": {
        "id": "stkLRnaXuzBm"
      },
      "source": [
        "---\n",
        "**Graph** \n",
        "\n",
        "---"
      ]
    },
    {
      "cell_type": "code",
      "metadata": {
        "colab": {
          "base_uri": "https://localhost:8080/",
          "height": 515
        },
        "id": "pTTAkF1Iwesw",
        "outputId": "e45f278b-7251-4251-ba9d-35721cfa5517"
      },
      "source": [
        "base = alt.Chart(grouped_df_mob_demo_combined_pandas.reset_index()).encode(x='date')\n",
        "\n",
        "alt.layer(\n",
        "    base.mark_line(color='blue').encode(y='high_comp_home_perc'),\n",
        "    \n",
        "    base.mark_line(color='red').encode(y='low_comp_home_perc')\n",
        "\n",
        ")"
      ],
      "execution_count": 22,
      "outputs": [
        {
          "output_type": "execute_result",
          "data": {
            "text/plain": [
              "alt.LayerChart(...)"
            ],
            "text/html": [
              "\n",
              "<div id=\"altair-viz-ee00109209b04d769a2fe500c82aac04\"></div>\n",
              "<script type=\"text/javascript\">\n",
              "  (function(spec, embedOpt){\n",
              "    let outputDiv = document.currentScript.previousElementSibling;\n",
              "    if (outputDiv.id !== \"altair-viz-ee00109209b04d769a2fe500c82aac04\") {\n",
              "      outputDiv = document.getElementById(\"altair-viz-ee00109209b04d769a2fe500c82aac04\");\n",
              "    }\n",
              "    const paths = {\n",
              "      \"vega\": \"https://cdn.jsdelivr.net/npm//vega@5?noext\",\n",
              "      \"vega-lib\": \"https://cdn.jsdelivr.net/npm//vega-lib?noext\",\n",
              "      \"vega-lite\": \"https://cdn.jsdelivr.net/npm//vega-lite@4.8.1?noext\",\n",
              "      \"vega-embed\": \"https://cdn.jsdelivr.net/npm//vega-embed@6?noext\",\n",
              "    };\n",
              "\n",
              "    function loadScript(lib) {\n",
              "      return new Promise(function(resolve, reject) {\n",
              "        var s = document.createElement('script');\n",
              "        s.src = paths[lib];\n",
              "        s.async = true;\n",
              "        s.onload = () => resolve(paths[lib]);\n",
              "        s.onerror = () => reject(`Error loading script: ${paths[lib]}`);\n",
              "        document.getElementsByTagName(\"head\")[0].appendChild(s);\n",
              "      });\n",
              "    }\n",
              "\n",
              "    function showError(err) {\n",
              "      outputDiv.innerHTML = `<div class=\"error\" style=\"color:red;\">${err}</div>`;\n",
              "      throw err;\n",
              "    }\n",
              "\n",
              "    function displayChart(vegaEmbed) {\n",
              "      vegaEmbed(outputDiv, spec, embedOpt)\n",
              "        .catch(err => showError(`Javascript Error: ${err.message}<br>This usually means there's a typo in your chart specification. See the javascript console for the full traceback.`));\n",
              "    }\n",
              "\n",
              "    if(typeof define === \"function\" && define.amd) {\n",
              "      requirejs.config({paths});\n",
              "      require([\"vega-embed\"], displayChart, err => showError(`Error loading script: ${err.message}`));\n",
              "    } else if (typeof vegaEmbed === \"function\") {\n",
              "      displayChart(vegaEmbed);\n",
              "    } else {\n",
              "      loadScript(\"vega\")\n",
              "        .then(() => loadScript(\"vega-lite\"))\n",
              "        .then(() => loadScript(\"vega-embed\"))\n",
              "        .catch(showError)\n",
              "        .then(() => displayChart(vegaEmbed));\n",
              "    }\n",
              "  })({\"config\": {\"view\": {\"continuousWidth\": 400, \"continuousHeight\": 300}}, \"layer\": [{\"mark\": {\"type\": \"line\", \"color\": \"blue\"}, \"encoding\": {\"x\": {\"type\": \"nominal\", \"field\": \"date\"}, \"y\": {\"type\": \"quantitative\", \"field\": \"high_comp_home_perc\"}}}, {\"mark\": {\"type\": \"line\", \"color\": \"red\"}, \"encoding\": {\"x\": {\"type\": \"nominal\", \"field\": \"date\"}, \"y\": {\"type\": \"quantitative\", \"field\": \"low_comp_home_perc\"}}}], \"data\": {\"name\": \"data-0e6b11530b862bf77c2cd6ade3db402a\"}, \"$schema\": \"https://vega.github.io/schema/vega-lite/v4.8.1.json\", \"datasets\": {\"data-0e6b11530b862bf77c2cd6ade3db402a\": [{\"index\": 0, \"date\": \"2020-02-26T00:00:00-05:00\", \"high_comp_home_perc\": 18.919700409956477, \"low_comp_home_perc\": 24.121034161062752}, {\"index\": 1, \"date\": \"2020-07-03T00:00:00-04:00\", \"high_comp_home_perc\": 31.722549293611188, \"low_comp_home_perc\": 39.530227397552714}, {\"index\": 2, \"date\": \"2020-10-18T00:00:00-04:00\", \"high_comp_home_perc\": 33.10248035906234, \"low_comp_home_perc\": 41.845833222220854}, {\"index\": 3, \"date\": \"2020-07-14T00:00:00-04:00\", \"high_comp_home_perc\": 31.60209353359898, \"low_comp_home_perc\": 39.19045875236312}, {\"index\": 4, \"date\": \"2020-03-01T00:00:00-05:00\", \"high_comp_home_perc\": 30.464926527230528, \"low_comp_home_perc\": 38.61529447539569}, {\"index\": 5, \"date\": \"2020-04-09T00:00:00-04:00\", \"high_comp_home_perc\": 51.64962332832286, \"low_comp_home_perc\": 57.23232555097154}, {\"index\": 6, \"date\": \"2020-10-09T00:00:00-04:00\", \"high_comp_home_perc\": 27.364298656760074, \"low_comp_home_perc\": 34.22171988063077}, {\"index\": 7, \"date\": \"2020-11-22T00:00:00-05:00\", \"high_comp_home_perc\": 32.4823513538988, \"low_comp_home_perc\": 39.779032846080504}, {\"index\": 8, \"date\": \"2020-12-27T00:00:00-05:00\", \"high_comp_home_perc\": 31.601925324196657, \"low_comp_home_perc\": 41.211153554079154}, {\"index\": 9, \"date\": \"2020-03-30T00:00:00-04:00\", \"high_comp_home_perc\": 47.81025449185445, \"low_comp_home_perc\": 52.265767876869624}, {\"index\": 10, \"date\": \"2020-05-10T00:00:00-04:00\", \"high_comp_home_perc\": 45.154214212190475, \"low_comp_home_perc\": 52.775756627184364}, {\"index\": 11, \"date\": \"2020-11-27T00:00:00-05:00\", \"high_comp_home_perc\": 26.41488699433966, \"low_comp_home_perc\": 34.43262867350324}, {\"index\": 12, \"date\": \"2020-07-22T00:00:00-04:00\", \"high_comp_home_perc\": 33.551168738252585, \"low_comp_home_perc\": 40.2314145457291}, {\"index\": 13, \"date\": \"2020-07-31T00:00:00-04:00\", \"high_comp_home_perc\": 29.07567874299487, \"low_comp_home_perc\": 36.38308358577609}, {\"index\": 14, \"date\": \"2020-10-23T00:00:00-04:00\", \"high_comp_home_perc\": 29.608667357121934, \"low_comp_home_perc\": 35.085854815031254}, {\"index\": 15, \"date\": \"2020-09-04T00:00:00-04:00\", \"high_comp_home_perc\": 26.745060447379263, \"low_comp_home_perc\": 34.251915448744256}, {\"index\": 16, \"date\": \"2020-06-05T00:00:00-04:00\", \"high_comp_home_perc\": 41.90913457453878, \"low_comp_home_perc\": 45.51302858629748}, {\"index\": 17, \"date\": \"2020-06-10T00:00:00-04:00\", \"high_comp_home_perc\": 39.95084010383998, \"low_comp_home_perc\": 44.837432612922626}, {\"index\": 18, \"date\": \"2020-08-21T00:00:00-04:00\", \"high_comp_home_perc\": 26.992741369823765, \"low_comp_home_perc\": 35.09470717051642}, {\"index\": 19, \"date\": \"2020-02-18T00:00:00-05:00\", \"high_comp_home_perc\": 19.607147028889695, \"low_comp_home_perc\": 28.44539413869438}, {\"index\": 20, \"date\": \"2020-06-04T00:00:00-04:00\", \"high_comp_home_perc\": 39.43905229909828, \"low_comp_home_perc\": 44.76243998475085}, {\"index\": 21, \"date\": \"2020-10-22T00:00:00-04:00\", \"high_comp_home_perc\": 30.826964182022316, \"low_comp_home_perc\": 36.78861909871718}, {\"index\": 22, \"date\": \"2020-03-09T00:00:00-04:00\", \"high_comp_home_perc\": 20.407275326032106, \"low_comp_home_perc\": 25.748054478259736}, {\"index\": 23, \"date\": \"2020-03-10T00:00:00-04:00\", \"high_comp_home_perc\": 21.73484102823375, \"low_comp_home_perc\": 27.37250761556472}, {\"index\": 24, \"date\": \"2020-03-04T00:00:00-05:00\", \"high_comp_home_perc\": 20.632604142124066, \"low_comp_home_perc\": 26.93885496116748}, {\"index\": 25, \"date\": \"2020-05-18T00:00:00-04:00\", \"high_comp_home_perc\": 47.28835161766961, \"low_comp_home_perc\": 49.53106321262291}, {\"index\": 26, \"date\": \"2020-05-30T00:00:00-04:00\", \"high_comp_home_perc\": 35.553641040995174, \"low_comp_home_perc\": 43.18372148506592}, {\"index\": 27, \"date\": \"2020-06-28T00:00:00-04:00\", \"high_comp_home_perc\": 33.974106609930026, \"low_comp_home_perc\": 43.98468364773955}, {\"index\": 28, \"date\": \"2020-08-20T00:00:00-04:00\", \"high_comp_home_perc\": 27.971726634225533, \"low_comp_home_perc\": 35.38413277908331}, {\"index\": 29, \"date\": \"2020-09-19T00:00:00-04:00\", \"high_comp_home_perc\": 28.33086310908443, \"low_comp_home_perc\": 35.487309405169526}, {\"index\": 30, \"date\": \"2020-05-13T00:00:00-04:00\", \"high_comp_home_perc\": 48.57966933418035, \"low_comp_home_perc\": 50.53025364440118}, {\"index\": 31, \"date\": \"2020-07-09T00:00:00-04:00\", \"high_comp_home_perc\": 31.268781489473497, \"low_comp_home_perc\": 38.80849675204904}, {\"index\": 32, \"date\": \"2020-08-30T00:00:00-04:00\", \"high_comp_home_perc\": 30.23280476159394, \"low_comp_home_perc\": 39.563221603146495}, {\"index\": 33, \"date\": \"2020-09-25T00:00:00-04:00\", \"high_comp_home_perc\": 27.588658412157397, \"low_comp_home_perc\": 34.50981710325685}, {\"index\": 34, \"date\": \"2020-01-23T00:00:00-05:00\", \"high_comp_home_perc\": 19.06104920217093, \"low_comp_home_perc\": 26.834522033556535}, {\"index\": 35, \"date\": \"2020-05-24T00:00:00-04:00\", \"high_comp_home_perc\": 39.9153614713287, \"low_comp_home_perc\": 48.86632841862004}, {\"index\": 36, \"date\": \"2020-07-18T00:00:00-04:00\", \"high_comp_home_perc\": 32.256208352050365, \"low_comp_home_perc\": 39.83239648849413}, {\"index\": 37, \"date\": \"2020-09-21T00:00:00-04:00\", \"high_comp_home_perc\": 33.689546016009395, \"low_comp_home_perc\": 39.31123904980535}, {\"index\": 38, \"date\": \"2020-02-02T00:00:00-05:00\", \"high_comp_home_perc\": 28.811892071949757, \"low_comp_home_perc\": 39.901371818861456}, {\"index\": 39, \"date\": \"2020-03-22T00:00:00-04:00\", \"high_comp_home_perc\": 45.18285104363639, \"low_comp_home_perc\": 51.48659096983727}, {\"index\": 40, \"date\": \"2020-04-14T00:00:00-04:00\", \"high_comp_home_perc\": 48.03035917176647, \"low_comp_home_perc\": 54.91696256280754}, {\"index\": 41, \"date\": \"2020-06-08T00:00:00-04:00\", \"high_comp_home_perc\": 38.43494375914907, \"low_comp_home_perc\": 43.351542397714375}, {\"index\": 42, \"date\": \"2020-01-30T00:00:00-05:00\", \"high_comp_home_perc\": 17.500215294920142, \"low_comp_home_perc\": 24.274303075987437}, {\"index\": 43, \"date\": \"2020-12-23T00:00:00-05:00\", \"high_comp_home_perc\": 27.505946250565945, \"low_comp_home_perc\": 33.19444249326226}, {\"index\": 44, \"date\": \"2020-06-12T00:00:00-04:00\", \"high_comp_home_perc\": 36.08661380491285, \"low_comp_home_perc\": 43.03290953087575}, {\"index\": 45, \"date\": \"2020-02-27T00:00:00-05:00\", \"high_comp_home_perc\": 19.16587436410237, \"low_comp_home_perc\": 24.68772148938882}, {\"index\": 46, \"date\": \"2020-06-15T00:00:00-04:00\", \"high_comp_home_perc\": 40.44535841594145, \"low_comp_home_perc\": 45.80375575359585}, {\"index\": 47, \"date\": \"2020-09-13T00:00:00-04:00\", \"high_comp_home_perc\": 33.55987602617772, \"low_comp_home_perc\": 41.93058989645953}, {\"index\": 48, \"date\": \"2020-05-19T00:00:00-04:00\", \"high_comp_home_perc\": 48.702678015367454, \"low_comp_home_perc\": 50.68053803298564}, {\"index\": 49, \"date\": \"2020-11-12T00:00:00-05:00\", \"high_comp_home_perc\": 32.409662631743466, \"low_comp_home_perc\": 38.07222636260481}, {\"index\": 50, \"date\": \"2020-04-03T00:00:00-04:00\", \"high_comp_home_perc\": 53.4440596041503, \"low_comp_home_perc\": 57.34649049074892}, {\"index\": 51, \"date\": \"2020-07-26T00:00:00-04:00\", \"high_comp_home_perc\": 32.59016374764958, \"low_comp_home_perc\": 41.732007062762605}, {\"index\": 52, \"date\": \"2020-09-22T00:00:00-04:00\", \"high_comp_home_perc\": 31.509478930752465, \"low_comp_home_perc\": 38.449137513132406}, {\"index\": 53, \"date\": \"2020-10-16T00:00:00-04:00\", \"high_comp_home_perc\": 32.84332241623409, \"low_comp_home_perc\": 37.56780002467206}, {\"index\": 54, \"date\": \"2020-10-17T00:00:00-04:00\", \"high_comp_home_perc\": 27.913492539860073, \"low_comp_home_perc\": 35.63733416972638}, {\"index\": 55, \"date\": \"2020-06-13T00:00:00-04:00\", \"high_comp_home_perc\": 34.746426674965285, \"low_comp_home_perc\": 42.25385625235181}, {\"index\": 56, \"date\": \"2020-06-27T00:00:00-04:00\", \"high_comp_home_perc\": 36.09138788760766, \"low_comp_home_perc\": 43.242010413748154}, {\"index\": 57, \"date\": \"2020-11-25T00:00:00-05:00\", \"high_comp_home_perc\": 32.27176607351156, \"low_comp_home_perc\": 37.332834907516556}, {\"index\": 58, \"date\": \"2020-05-09T00:00:00-04:00\", \"high_comp_home_perc\": 50.12147004152191, \"low_comp_home_perc\": 52.053460111653976}, {\"index\": 59, \"date\": \"2020-09-02T00:00:00-04:00\", \"high_comp_home_perc\": 29.073951694001092, \"low_comp_home_perc\": 36.792953443217996}, {\"index\": 60, \"date\": \"2020-11-04T00:00:00-05:00\", \"high_comp_home_perc\": 30.594116256800188, \"low_comp_home_perc\": 36.7508821705751}, {\"index\": 61, \"date\": \"2020-12-29T00:00:00-05:00\", \"high_comp_home_perc\": 29.09125533004421, \"low_comp_home_perc\": 36.98704815135064}, {\"index\": 62, \"date\": \"2020-04-06T00:00:00-04:00\", \"high_comp_home_perc\": 49.05516893058949, \"low_comp_home_perc\": 55.99068540885733}, {\"index\": 63, \"date\": \"2020-07-08T00:00:00-04:00\", \"high_comp_home_perc\": 32.97250134973871, \"low_comp_home_perc\": 39.93601161902336}, {\"index\": 64, \"date\": \"2020-09-26T00:00:00-04:00\", \"high_comp_home_perc\": 28.504330877146632, \"low_comp_home_perc\": 35.97187044705811}, {\"index\": 65, \"date\": \"2020-01-21T00:00:00-05:00\", \"high_comp_home_perc\": 20.25068547530869, \"low_comp_home_perc\": 27.866700505790924}, {\"index\": 66, \"date\": \"2020-07-16T00:00:00-04:00\", \"high_comp_home_perc\": 31.832775339906206, \"low_comp_home_perc\": 39.20725346980909}, {\"index\": 67, \"date\": \"2020-02-04T00:00:00-05:00\", \"high_comp_home_perc\": 19.832247257440972, \"low_comp_home_perc\": 27.730100841511803}, {\"index\": 68, \"date\": \"2020-07-02T00:00:00-04:00\", \"high_comp_home_perc\": 31.23419745782229, \"low_comp_home_perc\": 39.276512136027286}, {\"index\": 69, \"date\": \"2020-07-17T00:00:00-04:00\", \"high_comp_home_perc\": 33.673910025683384, \"low_comp_home_perc\": 40.06615955736282}, {\"index\": 70, \"date\": \"2020-05-15T00:00:00-04:00\", \"high_comp_home_perc\": 44.62665233035795, \"low_comp_home_perc\": 47.352146769734965}, {\"index\": 71, \"date\": \"2020-03-19T00:00:00-04:00\", \"high_comp_home_perc\": 40.58841586676021, \"low_comp_home_perc\": 43.247485683228064}, {\"index\": 72, \"date\": \"2020-02-09T00:00:00-05:00\", \"high_comp_home_perc\": 26.310836621897217, \"low_comp_home_perc\": 37.312524246898434}, {\"index\": 73, \"date\": \"2020-11-02T00:00:00-05:00\", \"high_comp_home_perc\": 33.078143678946695, \"low_comp_home_perc\": 38.0735093301257}, {\"index\": 74, \"date\": \"2020-05-16T00:00:00-04:00\", \"high_comp_home_perc\": 41.67760628925633, \"low_comp_home_perc\": 47.335556370417855}, {\"index\": 75, \"date\": \"2020-09-17T00:00:00-04:00\", \"high_comp_home_perc\": 32.300274748152454, \"low_comp_home_perc\": 38.378379524223526}, {\"index\": 76, \"date\": \"2020-11-18T00:00:00-05:00\", \"high_comp_home_perc\": 33.27872128621488, \"low_comp_home_perc\": 38.80794564228676}, {\"index\": 77, \"date\": \"2020-04-02T00:00:00-04:00\", \"high_comp_home_perc\": 51.225352406510105, \"low_comp_home_perc\": 57.165096810380945}, {\"index\": 78, \"date\": \"2020-07-05T00:00:00-04:00\", \"high_comp_home_perc\": 33.67636769262801, \"low_comp_home_perc\": 43.67712062738998}, {\"index\": 79, \"date\": \"2020-11-26T00:00:00-05:00\", \"high_comp_home_perc\": 32.96129338505178, \"low_comp_home_perc\": 40.24057730305446}, {\"index\": 80, \"date\": \"2020-05-03T00:00:00-04:00\", \"high_comp_home_perc\": 46.65999823364954, \"low_comp_home_perc\": 54.91714747106856}, {\"index\": 81, \"date\": \"2020-08-02T00:00:00-04:00\", \"high_comp_home_perc\": 32.62620085607508, \"low_comp_home_perc\": 40.94903363812104}, {\"index\": 82, \"date\": \"2020-08-26T00:00:00-04:00\", \"high_comp_home_perc\": 28.655798152446106, \"low_comp_home_perc\": 36.374766823850365}, {\"index\": 83, \"date\": \"2020-01-20T00:00:00-05:00\", \"high_comp_home_perc\": 26.511190299775297, \"low_comp_home_perc\": 36.91340664586165}, {\"index\": 84, \"date\": \"2020-03-12T00:00:00-04:00\", \"high_comp_home_perc\": 25.13337971205354, \"low_comp_home_perc\": 29.25850505736785}, {\"index\": 85, \"date\": \"2020-05-20T00:00:00-04:00\", \"high_comp_home_perc\": 46.3697713665051, \"low_comp_home_perc\": 49.0481625955152}, {\"index\": 86, \"date\": \"2020-01-13T00:00:00-05:00\", \"high_comp_home_perc\": 22.139442196129853, \"low_comp_home_perc\": 28.07946302449478}, {\"index\": 87, \"date\": \"2020-05-29T00:00:00-04:00\", \"high_comp_home_perc\": 39.26528357681371, \"low_comp_home_perc\": 43.38865235700736}, {\"index\": 88, \"date\": \"2020-04-18T00:00:00-04:00\", \"high_comp_home_perc\": 49.57260926079067, \"low_comp_home_perc\": 55.572210113515105}, {\"index\": 89, \"date\": \"2020-03-24T00:00:00-04:00\", \"high_comp_home_perc\": 44.558055560692395, \"low_comp_home_perc\": 49.25081494387031}, {\"index\": 90, \"date\": \"2020-08-31T00:00:00-04:00\", \"high_comp_home_perc\": 29.325697942287665, \"low_comp_home_perc\": 36.055237750121314}, {\"index\": 91, \"date\": \"2020-10-20T00:00:00-04:00\", \"high_comp_home_perc\": 33.37066906046829, \"low_comp_home_perc\": 38.804015969212024}, {\"index\": 92, \"date\": \"2020-11-21T00:00:00-05:00\", \"high_comp_home_perc\": 26.856027404830307, \"low_comp_home_perc\": 34.22597190884018}, {\"index\": 93, \"date\": \"2020-10-02T00:00:00-04:00\", \"high_comp_home_perc\": 27.795669506696388, \"low_comp_home_perc\": 34.80962712291343}, {\"index\": 94, \"date\": \"2020-04-11T00:00:00-04:00\", \"high_comp_home_perc\": 48.9732655814148, \"low_comp_home_perc\": 56.68760538395405}, {\"index\": 95, \"date\": \"2020-06-20T00:00:00-04:00\", \"high_comp_home_perc\": 34.445046273054196, \"low_comp_home_perc\": 41.62361495589716}, {\"index\": 96, \"date\": \"2020-09-12T00:00:00-04:00\", \"high_comp_home_perc\": 30.44743975243731, \"low_comp_home_perc\": 37.19313190940755}, {\"index\": 97, \"date\": \"2020-12-08T00:00:00-05:00\", \"high_comp_home_perc\": 32.89430173932081, \"low_comp_home_perc\": 37.34612686228281}, {\"index\": 98, \"date\": \"2020-01-18T00:00:00-05:00\", \"high_comp_home_perc\": 29.353013580700644, \"low_comp_home_perc\": 38.537974587759365}, {\"index\": 99, \"date\": \"2020-05-25T00:00:00-04:00\", \"high_comp_home_perc\": 41.27142947594248, \"low_comp_home_perc\": 48.492199575865634}, {\"index\": 100, \"date\": \"2020-08-07T00:00:00-04:00\", \"high_comp_home_perc\": 28.638632675645283, \"low_comp_home_perc\": 36.10466481472635}, {\"index\": 101, \"date\": \"2020-08-12T00:00:00-04:00\", \"high_comp_home_perc\": 33.00228581817861, \"low_comp_home_perc\": 39.075397014430486}, {\"index\": 102, \"date\": \"2020-10-05T00:00:00-04:00\", \"high_comp_home_perc\": 30.211370967985115, \"low_comp_home_perc\": 36.46910296457979}, {\"index\": 103, \"date\": \"2020-10-21T00:00:00-04:00\", \"high_comp_home_perc\": 30.136047763828266, \"low_comp_home_perc\": 35.79698799697102}, {\"index\": 104, \"date\": \"2020-12-20T00:00:00-05:00\", \"high_comp_home_perc\": 35.354138054548905, \"low_comp_home_perc\": 42.06400087182548}, {\"index\": 105, \"date\": \"2020-02-28T00:00:00-05:00\", \"high_comp_home_perc\": 18.054134294980507, \"low_comp_home_perc\": 23.633678401807895}, {\"index\": 106, \"date\": \"2020-10-06T00:00:00-04:00\", \"high_comp_home_perc\": 31.571206694543328, \"low_comp_home_perc\": 37.317779020735216}, {\"index\": 107, \"date\": \"2020-01-05T00:00:00-05:00\", \"high_comp_home_perc\": 31.73247534610605, \"low_comp_home_perc\": 40.059422996350456}, {\"index\": 108, \"date\": \"2020-01-24T00:00:00-05:00\", \"high_comp_home_perc\": 18.04841155584349, \"low_comp_home_perc\": 24.879772008979042}, {\"index\": 109, \"date\": \"2020-03-27T00:00:00-04:00\", \"high_comp_home_perc\": 43.53038190991924, \"low_comp_home_perc\": 49.55369390836529}, {\"index\": 110, \"date\": \"2020-04-25T00:00:00-04:00\", \"high_comp_home_perc\": 42.85974017041155, \"low_comp_home_perc\": 51.83471469424248}, {\"index\": 111, \"date\": \"2020-05-14T00:00:00-04:00\", \"high_comp_home_perc\": 46.808996313742, \"low_comp_home_perc\": 50.14305133902765}, {\"index\": 112, \"date\": \"2020-08-10T00:00:00-04:00\", \"high_comp_home_perc\": 31.477215526554808, \"low_comp_home_perc\": 37.91364004852194}, {\"index\": 113, \"date\": \"2020-08-27T00:00:00-04:00\", \"high_comp_home_perc\": 28.87070066064594, \"low_comp_home_perc\": 36.90389398852444}, {\"index\": 114, \"date\": \"2020-10-27T00:00:00-04:00\", \"high_comp_home_perc\": 31.921935721813597, \"low_comp_home_perc\": 37.33032140816084}, {\"index\": 115, \"date\": \"2020-01-12T00:00:00-05:00\", \"high_comp_home_perc\": 27.666872543811483, \"low_comp_home_perc\": 35.26268517136676}, {\"index\": 116, \"date\": \"2020-04-01T00:00:00-04:00\", \"high_comp_home_perc\": 50.62169955320925, \"low_comp_home_perc\": 56.11960915026356}, {\"index\": 117, \"date\": \"2020-08-28T00:00:00-04:00\", \"high_comp_home_perc\": 29.161777014824, \"low_comp_home_perc\": 35.91881782429859}, {\"index\": 118, \"date\": \"2020-09-08T00:00:00-04:00\", \"high_comp_home_perc\": 30.91371562120995, \"low_comp_home_perc\": 37.412545192112965}, {\"index\": 119, \"date\": \"2020-12-10T00:00:00-05:00\", \"high_comp_home_perc\": 33.88625709850385, \"low_comp_home_perc\": 38.440551905706315}, {\"index\": 120, \"date\": \"2020-08-03T00:00:00-04:00\", \"high_comp_home_perc\": 31.598243537693037, \"low_comp_home_perc\": 38.420369516111805}, {\"index\": 121, \"date\": \"2020-11-19T00:00:00-05:00\", \"high_comp_home_perc\": 31.067091448084856, \"low_comp_home_perc\": 36.625751259295306}, {\"index\": 122, \"date\": \"2020-12-16T00:00:00-05:00\", \"high_comp_home_perc\": 38.26797497988665, \"low_comp_home_perc\": 41.35680817075893}, {\"index\": 123, \"date\": \"2020-09-06T00:00:00-04:00\", \"high_comp_home_perc\": 27.277442464418684, \"low_comp_home_perc\": 38.03775099864512}, {\"index\": 124, \"date\": \"2020-12-21T00:00:00-05:00\", \"high_comp_home_perc\": 32.9722589787, \"low_comp_home_perc\": 38.274164744002185}, {\"index\": 125, \"date\": \"2020-05-04T00:00:00-04:00\", \"high_comp_home_perc\": 51.534376879564135, \"low_comp_home_perc\": 52.39159115709499}, {\"index\": 126, \"date\": \"2020-02-25T00:00:00-05:00\", \"high_comp_home_perc\": 46.03520651101593, \"low_comp_home_perc\": 41.35077529262251}, {\"index\": 127, \"date\": \"2020-11-24T00:00:00-05:00\", \"high_comp_home_perc\": 31.013204882534666, \"low_comp_home_perc\": 36.41573603286258}, {\"index\": 128, \"date\": \"2020-11-30T00:00:00-05:00\", \"high_comp_home_perc\": 37.91618615108774, \"low_comp_home_perc\": 41.97717474828308}, {\"index\": 129, \"date\": \"2020-12-02T00:00:00-05:00\", \"high_comp_home_perc\": 34.72478928900021, \"low_comp_home_perc\": 38.506307140332716}, {\"index\": 130, \"date\": \"2020-01-27T00:00:00-05:00\", \"high_comp_home_perc\": 20.03358360408477, \"low_comp_home_perc\": 27.563726156852}, {\"index\": 131, \"date\": \"2020-02-05T00:00:00-05:00\", \"high_comp_home_perc\": 20.110429599769326, \"low_comp_home_perc\": 27.648355908863454}, {\"index\": 132, \"date\": \"2020-06-03T00:00:00-04:00\", \"high_comp_home_perc\": 44.01635966951189, \"low_comp_home_perc\": 47.17502580753017}, {\"index\": 133, \"date\": \"2020-01-17T00:00:00-05:00\", \"high_comp_home_perc\": 19.641851683251517, \"low_comp_home_perc\": 26.50071302557613}, {\"index\": 134, \"date\": \"2020-04-28T00:00:00-04:00\", \"high_comp_home_perc\": 42.362183101975866, \"low_comp_home_perc\": 49.19675647448049}, {\"index\": 135, \"date\": \"2020-01-04T00:00:00-05:00\", \"high_comp_home_perc\": 29.14881078526249, \"low_comp_home_perc\": 36.812177472187166}, {\"index\": 136, \"date\": \"2020-06-22T00:00:00-04:00\", \"high_comp_home_perc\": 35.560019015872854, \"low_comp_home_perc\": 41.40529936936772}, {\"index\": 137, \"date\": \"2020-12-01T00:00:00-05:00\", \"high_comp_home_perc\": 32.92114383706753, \"low_comp_home_perc\": 37.13861357253283}, {\"index\": 138, \"date\": \"2020-07-20T00:00:00-04:00\", \"high_comp_home_perc\": 33.75175191878388, \"low_comp_home_perc\": 40.39993956193263}, {\"index\": 139, \"date\": \"2020-04-07T00:00:00-04:00\", \"high_comp_home_perc\": 49.57821592880179, \"low_comp_home_perc\": 56.508343267243305}, {\"index\": 140, \"date\": \"2020-11-03T00:00:00-05:00\", \"high_comp_home_perc\": 32.42634864992527, \"low_comp_home_perc\": 37.30175156053242}, {\"index\": 141, \"date\": \"2020-01-10T00:00:00-05:00\", \"high_comp_home_perc\": 20.08077181899752, \"low_comp_home_perc\": 25.972755655778553}, {\"index\": 142, \"date\": \"2020-07-27T00:00:00-04:00\", \"high_comp_home_perc\": 34.393099538912836, \"low_comp_home_perc\": 41.1531796551882}, {\"index\": 143, \"date\": \"2020-08-19T00:00:00-04:00\", \"high_comp_home_perc\": 30.92555460921882, \"low_comp_home_perc\": 38.462281634467395}, {\"index\": 144, \"date\": \"2020-01-06T00:00:00-05:00\", \"high_comp_home_perc\": 21.240854533688374, \"low_comp_home_perc\": 28.322630396681}, {\"index\": 145, \"date\": \"2020-07-10T00:00:00-04:00\", \"high_comp_home_perc\": 37.943700487165046, \"low_comp_home_perc\": 43.565944839770076}, {\"index\": 146, \"date\": \"2020-12-05T00:00:00-05:00\", \"high_comp_home_perc\": 34.85634753262799, \"low_comp_home_perc\": 39.8622903332855}, {\"index\": 147, \"date\": \"2020-02-03T00:00:00-05:00\", \"high_comp_home_perc\": 21.715443273710868, \"low_comp_home_perc\": 28.952920228958313}, {\"index\": 148, \"date\": \"2020-03-21T00:00:00-04:00\", \"high_comp_home_perc\": 44.34497154521956, \"low_comp_home_perc\": 47.12995140164644}, {\"index\": 149, \"date\": \"2020-06-29T00:00:00-04:00\", \"high_comp_home_perc\": 32.21632564912992, \"low_comp_home_perc\": 40.13605645473184}, {\"index\": 150, \"date\": \"2020-09-15T00:00:00-04:00\", \"high_comp_home_perc\": 30.425746858341757, \"low_comp_home_perc\": 37.44174233803317}, {\"index\": 151, \"date\": \"2020-02-15T00:00:00-05:00\", \"high_comp_home_perc\": 24.50116385273168, \"low_comp_home_perc\": 32.70038620197299}, {\"index\": 152, \"date\": \"2020-09-18T00:00:00-04:00\", \"high_comp_home_perc\": 28.932106269125676, \"low_comp_home_perc\": 35.34843308486224}, {\"index\": 153, \"date\": \"2020-03-13T00:00:00-04:00\", \"high_comp_home_perc\": 25.78471538292961, \"low_comp_home_perc\": 27.91751215641537}, {\"index\": 154, \"date\": \"2020-05-17T00:00:00-04:00\", \"high_comp_home_perc\": 45.204351189172804, \"low_comp_home_perc\": 52.972415496652566}, {\"index\": 155, \"date\": \"2020-06-09T00:00:00-04:00\", \"high_comp_home_perc\": 38.41192663751912, \"low_comp_home_perc\": 43.4064428749248}, {\"index\": 156, \"date\": \"2020-08-08T00:00:00-04:00\", \"high_comp_home_perc\": 28.687758331162296, \"low_comp_home_perc\": 36.17772138604197}, {\"index\": 157, \"date\": \"2020-08-13T00:00:00-04:00\", \"high_comp_home_perc\": 33.066538586308155, \"low_comp_home_perc\": 39.38532231995914}, {\"index\": 158, \"date\": \"2020-11-13T00:00:00-05:00\", \"high_comp_home_perc\": 30.782116057599207, \"low_comp_home_perc\": 36.46554099394777}, {\"index\": 159, \"date\": \"2020-08-01T00:00:00-04:00\", \"high_comp_home_perc\": 29.449953475548746, \"low_comp_home_perc\": 37.07398333117047}, {\"index\": 160, \"date\": \"2020-08-24T00:00:00-04:00\", \"high_comp_home_perc\": 29.771336562168877, \"low_comp_home_perc\": 37.496205533224206}, {\"index\": 161, \"date\": \"2020-02-16T00:00:00-05:00\", \"high_comp_home_perc\": 23.961358625653112, \"low_comp_home_perc\": 34.09759921901126}, {\"index\": 162, \"date\": \"2020-03-06T00:00:00-05:00\", \"high_comp_home_perc\": 19.129914496544664, \"low_comp_home_perc\": 24.89824897620517}, {\"index\": 163, \"date\": \"2020-05-02T00:00:00-04:00\", \"high_comp_home_perc\": 43.35028992253246, \"low_comp_home_perc\": 49.64174329313398}, {\"index\": 164, \"date\": \"2020-07-30T00:00:00-04:00\", \"high_comp_home_perc\": 30.013517697129004, \"low_comp_home_perc\": 36.574316555991004}, {\"index\": 165, \"date\": \"2020-08-06T00:00:00-04:00\", \"high_comp_home_perc\": 30.97452454390702, \"low_comp_home_perc\": 38.36576885100534}, {\"index\": 166, \"date\": \"2020-09-11T00:00:00-04:00\", \"high_comp_home_perc\": 27.757576598281627, \"low_comp_home_perc\": 34.5417234286095}, {\"index\": 167, \"date\": \"2020-03-16T00:00:00-04:00\", \"high_comp_home_perc\": 36.53765348473623, \"low_comp_home_perc\": 39.207240046880734}, {\"index\": 168, \"date\": \"2020-05-05T00:00:00-04:00\", \"high_comp_home_perc\": 50.91987913913796, \"low_comp_home_perc\": 52.16793775849861}, {\"index\": 169, \"date\": \"2020-08-09T00:00:00-04:00\", \"high_comp_home_perc\": 32.89247336287707, \"low_comp_home_perc\": 41.558731533656704}, {\"index\": 170, \"date\": \"2020-12-31T00:00:00-05:00\", \"high_comp_home_perc\": 29.505731216615008, \"low_comp_home_perc\": 35.41211307825031}, {\"index\": 171, \"date\": \"2020-02-21T00:00:00-05:00\", \"high_comp_home_perc\": 18.93879733182875, \"low_comp_home_perc\": 27.298454695728577}, {\"index\": 172, \"date\": \"2020-02-29T00:00:00-05:00\", \"high_comp_home_perc\": 23.584735884668685, \"low_comp_home_perc\": 30.25154898142098}, {\"index\": 173, \"date\": \"2020-12-30T00:00:00-05:00\", \"high_comp_home_perc\": 27.560710012952562, \"low_comp_home_perc\": 35.110869575581404}, {\"index\": 174, \"date\": \"2020-07-01T00:00:00-04:00\", \"high_comp_home_perc\": 34.15762720562591, \"low_comp_home_perc\": 41.270489111210246}, {\"index\": 175, \"date\": \"2020-01-19T00:00:00-05:00\", \"high_comp_home_perc\": 26.946286440333793, \"low_comp_home_perc\": 38.39234281497928}, {\"index\": 176, \"date\": \"2020-10-31T00:00:00-04:00\", \"high_comp_home_perc\": 26.938088717141554, \"low_comp_home_perc\": 34.76909673937709}, {\"index\": 177, \"date\": \"2020-12-12T00:00:00-05:00\", \"high_comp_home_perc\": 31.18070221455095, \"low_comp_home_perc\": 36.58066336914988}, {\"index\": 178, \"date\": \"2020-04-27T00:00:00-04:00\", \"high_comp_home_perc\": 47.87602523066585, \"low_comp_home_perc\": 52.227094605226995}, {\"index\": 179, \"date\": \"2020-09-10T00:00:00-04:00\", \"high_comp_home_perc\": 31.74929390432541, \"low_comp_home_perc\": 38.25170545322158}, {\"index\": 180, \"date\": \"2020-07-13T00:00:00-04:00\", \"high_comp_home_perc\": 33.03817212969462, \"low_comp_home_perc\": 39.955566052479945}, {\"index\": 181, \"date\": \"2020-05-12T00:00:00-04:00\", \"high_comp_home_perc\": 48.99103868028523, \"low_comp_home_perc\": 50.92483029744995}, {\"index\": 182, \"date\": \"2020-06-18T00:00:00-04:00\", \"high_comp_home_perc\": 36.10170462554982, \"low_comp_home_perc\": 42.68951289795988}, {\"index\": 183, \"date\": \"2020-06-24T00:00:00-04:00\", \"high_comp_home_perc\": 35.40265931235388, \"low_comp_home_perc\": 41.713125458573664}, {\"index\": 184, \"date\": \"2020-09-14T00:00:00-04:00\", \"high_comp_home_perc\": 32.2205820828512, \"low_comp_home_perc\": 38.30442503119482}, {\"index\": 185, \"date\": \"2020-09-16T00:00:00-04:00\", \"high_comp_home_perc\": 33.268764344082875, \"low_comp_home_perc\": 39.12741637732551}, {\"index\": 186, \"date\": \"2020-10-11T00:00:00-04:00\", \"high_comp_home_perc\": 30.676481150387797, \"low_comp_home_perc\": 39.26999744257871}, {\"index\": 187, \"date\": \"2020-11-08T00:00:00-05:00\", \"high_comp_home_perc\": 30.036497248601016, \"low_comp_home_perc\": 40.156155042822455}, {\"index\": 188, \"date\": \"2020-09-05T00:00:00-04:00\", \"high_comp_home_perc\": 26.730919148930862, \"low_comp_home_perc\": 34.333880291533255}, {\"index\": 189, \"date\": \"2020-10-28T00:00:00-04:00\", \"high_comp_home_perc\": 32.0272924520407, \"low_comp_home_perc\": 38.17719763847904}, {\"index\": 190, \"date\": \"2020-12-09T00:00:00-05:00\", \"high_comp_home_perc\": 34.37085322030481, \"low_comp_home_perc\": 37.98208678456232}, {\"index\": 191, \"date\": \"2020-02-01T00:00:00-05:00\", \"high_comp_home_perc\": 26.93243979963848, \"low_comp_home_perc\": 35.71081119906874}, {\"index\": 192, \"date\": \"2020-09-29T00:00:00-04:00\", \"high_comp_home_perc\": 34.452537664206524, \"low_comp_home_perc\": 39.299356398871716}, {\"index\": 193, \"date\": \"2020-01-25T00:00:00-05:00\", \"high_comp_home_perc\": 26.613597858487942, \"low_comp_home_perc\": 34.97120698179674}, {\"index\": 194, \"date\": \"2020-07-11T00:00:00-04:00\", \"high_comp_home_perc\": 33.22071602852665, \"low_comp_home_perc\": 41.19999339483498}, {\"index\": 195, \"date\": \"2020-09-27T00:00:00-04:00\", \"high_comp_home_perc\": 30.84304260892014, \"low_comp_home_perc\": 39.72613805803376}, {\"index\": 196, \"date\": \"2020-02-17T00:00:00-05:00\", \"high_comp_home_perc\": 22.015452927711575, \"low_comp_home_perc\": 32.61604497159347}, {\"index\": 197, \"date\": \"2020-06-07T00:00:00-04:00\", \"high_comp_home_perc\": 36.758205070842045, \"low_comp_home_perc\": 46.941003190411}, {\"index\": 198, \"date\": \"2020-06-16T00:00:00-04:00\", \"high_comp_home_perc\": 38.94412965188541, \"low_comp_home_perc\": 44.53051173960972}, {\"index\": 199, \"date\": \"2020-07-24T00:00:00-04:00\", \"high_comp_home_perc\": 33.2366741835514, \"low_comp_home_perc\": 39.739276204894}, {\"index\": 200, \"date\": \"2020-02-10T00:00:00-05:00\", \"high_comp_home_perc\": 20.44484510697005, \"low_comp_home_perc\": 28.111357559595902}, {\"index\": 201, \"date\": \"2020-05-31T00:00:00-04:00\", \"high_comp_home_perc\": 39.23944221489129, \"low_comp_home_perc\": 48.075451260043096}, {\"index\": 202, \"date\": \"2020-09-07T00:00:00-04:00\", \"high_comp_home_perc\": 32.167619587469616, \"low_comp_home_perc\": 41.02077754822103}, {\"index\": 203, \"date\": \"2020-02-14T00:00:00-05:00\", \"high_comp_home_perc\": 18.76151944922679, \"low_comp_home_perc\": 24.69932620716249}, {\"index\": 204, \"date\": \"2020-04-12T00:00:00-04:00\", \"high_comp_home_perc\": 50.35138119511382, \"low_comp_home_perc\": 60.5678662191511}, {\"index\": 205, \"date\": \"2020-05-28T00:00:00-04:00\", \"high_comp_home_perc\": 43.83167635090324, \"low_comp_home_perc\": 47.54122401451666}, {\"index\": 206, \"date\": \"2020-08-29T00:00:00-04:00\", \"high_comp_home_perc\": 29.790464540088152, \"low_comp_home_perc\": 38.254523915178275}, {\"index\": 207, \"date\": \"2020-03-07T00:00:00-05:00\", \"high_comp_home_perc\": 26.334143223443824, \"low_comp_home_perc\": 32.05344354773904}, {\"index\": 208, \"date\": \"2020-05-07T00:00:00-04:00\", \"high_comp_home_perc\": 48.45548861637691, \"low_comp_home_perc\": 51.27271405831665}, {\"index\": 209, \"date\": \"2020-08-05T00:00:00-04:00\", \"high_comp_home_perc\": 30.358481878278077, \"low_comp_home_perc\": 37.74719178585764}, {\"index\": 210, \"date\": \"2020-02-24T00:00:00-05:00\", \"high_comp_home_perc\": 18.778883985805688, \"low_comp_home_perc\": 25.03178442261323}, {\"index\": 211, \"date\": \"2020-04-29T00:00:00-04:00\", \"high_comp_home_perc\": 47.199556704299596, \"low_comp_home_perc\": 52.02844277955669}, {\"index\": 212, \"date\": \"2020-07-07T00:00:00-04:00\", \"high_comp_home_perc\": 35.60196708170543, \"low_comp_home_perc\": 41.93891434427961}, {\"index\": 213, \"date\": \"2020-09-30T00:00:00-04:00\", \"high_comp_home_perc\": 29.57934504641787, \"low_comp_home_perc\": 36.37345336677538}, {\"index\": 214, \"date\": \"2020-01-28T00:00:00-05:00\", \"high_comp_home_perc\": 19.445343190231874, \"low_comp_home_perc\": 26.438907621976984}, {\"index\": 215, \"date\": \"2020-02-06T00:00:00-05:00\", \"high_comp_home_perc\": 20.533062341149208, \"low_comp_home_perc\": 28.839530259739362}, {\"index\": 216, \"date\": \"2020-02-07T00:00:00-05:00\", \"high_comp_home_perc\": 19.209411301008203, \"low_comp_home_perc\": 27.004609075096553}, {\"index\": 217, \"date\": \"2020-03-25T00:00:00-04:00\", \"high_comp_home_perc\": 45.474592498615586, \"low_comp_home_perc\": 48.70015358505886}, {\"index\": 218, \"date\": \"2020-10-12T00:00:00-04:00\", \"high_comp_home_perc\": 39.340098808492236, \"low_comp_home_perc\": 44.256651586234696}, {\"index\": 219, \"date\": \"2020-12-03T00:00:00-05:00\", \"high_comp_home_perc\": 32.64454767731305, \"low_comp_home_perc\": 37.36723902779893}, {\"index\": 220, \"date\": \"2020-04-05T00:00:00-04:00\", \"high_comp_home_perc\": 49.36589490684432, \"low_comp_home_perc\": 58.53397094367529}, {\"index\": 221, \"date\": \"2020-05-23T00:00:00-04:00\", \"high_comp_home_perc\": 48.61471706426764, \"low_comp_home_perc\": 51.572646640531175}, {\"index\": 222, \"date\": \"2020-09-28T00:00:00-04:00\", \"high_comp_home_perc\": 33.6580251809262, \"low_comp_home_perc\": 37.277345550207365}, {\"index\": 223, \"date\": \"2020-10-04T00:00:00-04:00\", \"high_comp_home_perc\": 31.399317067682084, \"low_comp_home_perc\": 39.368447082486504}, {\"index\": 224, \"date\": \"2020-11-06T00:00:00-05:00\", \"high_comp_home_perc\": 26.41414365968197, \"low_comp_home_perc\": 34.11125696770755}, {\"index\": 225, \"date\": \"2020-12-18T00:00:00-05:00\", \"high_comp_home_perc\": 31.903222436382258, \"low_comp_home_perc\": 36.6674729937459}, {\"index\": 226, \"date\": \"2020-06-25T00:00:00-04:00\", \"high_comp_home_perc\": 34.966792150733994, \"low_comp_home_perc\": 41.472801876047896}, {\"index\": 227, \"date\": \"2020-10-10T00:00:00-04:00\", \"high_comp_home_perc\": 27.331827355129445, \"low_comp_home_perc\": 35.841401442197096}, {\"index\": 228, \"date\": \"2020-10-13T00:00:00-04:00\", \"high_comp_home_perc\": 35.70750376845678, \"low_comp_home_perc\": 40.176975345276055}, {\"index\": 229, \"date\": \"2020-12-11T00:00:00-05:00\", \"high_comp_home_perc\": 28.426865837592263, \"low_comp_home_perc\": 34.11737938199265}, {\"index\": 230, \"date\": \"2020-03-02T00:00:00-05:00\", \"high_comp_home_perc\": 20.666485791444995, \"low_comp_home_perc\": 27.459696231108328}, {\"index\": 231, \"date\": \"2020-06-11T00:00:00-04:00\", \"high_comp_home_perc\": 43.97470580466054, \"low_comp_home_perc\": 47.67320036925952}, {\"index\": 232, \"date\": \"2020-10-01T00:00:00-04:00\", \"high_comp_home_perc\": 27.52347620975507, \"low_comp_home_perc\": 34.15535181231714}, {\"index\": 233, \"date\": \"2020-05-06T00:00:00-04:00\", \"high_comp_home_perc\": 53.53581840330937, \"low_comp_home_perc\": 53.098242607247585}, {\"index\": 234, \"date\": \"2020-07-29T00:00:00-04:00\", \"high_comp_home_perc\": 30.388420576846695, \"low_comp_home_perc\": 37.039691562638914}, {\"index\": 235, \"date\": \"2020-11-09T00:00:00-05:00\", \"high_comp_home_perc\": 31.969014347887217, \"low_comp_home_perc\": 37.7936066875636}, {\"index\": 236, \"date\": \"2020-12-06T00:00:00-05:00\", \"high_comp_home_perc\": 34.586818752480546, \"low_comp_home_perc\": 41.66424316555062}, {\"index\": 237, \"date\": \"2020-03-03T00:00:00-05:00\", \"high_comp_home_perc\": 20.96168424015787, \"low_comp_home_perc\": 27.401620389766666}, {\"index\": 238, \"date\": \"2020-03-28T00:00:00-04:00\", \"high_comp_home_perc\": 50.503208447680095, \"low_comp_home_perc\": 54.898854781956686}, {\"index\": 239, \"date\": \"2020-04-19T00:00:00-04:00\", \"high_comp_home_perc\": 47.37566546746448, \"low_comp_home_perc\": 57.54286386670749}, {\"index\": 240, \"date\": \"2020-10-25T00:00:00-04:00\", \"high_comp_home_perc\": 31.626255049005763, \"low_comp_home_perc\": 40.32865630040996}, {\"index\": 241, \"date\": \"2020-06-06T00:00:00-04:00\", \"high_comp_home_perc\": 38.21745848017441, \"low_comp_home_perc\": 45.35065323712106}, {\"index\": 242, \"date\": \"2020-10-15T00:00:00-04:00\", \"high_comp_home_perc\": 29.73060957386772, \"low_comp_home_perc\": 36.03495656824531}, {\"index\": 243, \"date\": \"2020-08-04T00:00:00-04:00\", \"high_comp_home_perc\": 37.872585603924726, \"low_comp_home_perc\": 43.68833206922229}, {\"index\": 244, \"date\": \"2020-11-28T00:00:00-05:00\", \"high_comp_home_perc\": 26.91279316964546, \"low_comp_home_perc\": 35.9933959848231}, {\"index\": 245, \"date\": \"2020-12-04T00:00:00-05:00\", \"high_comp_home_perc\": 33.5883719195963, \"low_comp_home_perc\": 36.55581002829215}, {\"index\": 246, \"date\": \"2020-02-11T00:00:00-05:00\", \"high_comp_home_perc\": 19.977389409505005, \"low_comp_home_perc\": 27.398381639095433}, {\"index\": 247, \"date\": \"2020-04-26T00:00:00-04:00\", \"high_comp_home_perc\": 51.45236166918669, \"low_comp_home_perc\": 58.11766934806875}, {\"index\": 248, \"date\": \"2020-07-06T00:00:00-04:00\", \"high_comp_home_perc\": 35.47698094831365, \"low_comp_home_perc\": 42.61169369671675}, {\"index\": 249, \"date\": \"2020-07-15T00:00:00-04:00\", \"high_comp_home_perc\": 30.93136583061387, \"low_comp_home_perc\": 38.439915557969655}, {\"index\": 250, \"date\": \"2020-02-22T00:00:00-05:00\", \"high_comp_home_perc\": 23.884075901354286, \"low_comp_home_perc\": 30.76037553693756}, {\"index\": 251, \"date\": \"2020-05-27T00:00:00-04:00\", \"high_comp_home_perc\": 41.62487467427819, \"low_comp_home_perc\": 45.76012934762738}, {\"index\": 252, \"date\": \"2020-12-19T00:00:00-05:00\", \"high_comp_home_perc\": 32.8819421888082, \"low_comp_home_perc\": 39.167849225604975}, {\"index\": 253, \"date\": \"2020-03-20T00:00:00-04:00\", \"high_comp_home_perc\": 40.035992552900225, \"low_comp_home_perc\": 41.61546957957199}, {\"index\": 254, \"date\": \"2020-01-22T00:00:00-05:00\", \"high_comp_home_perc\": 17.585900546964066, \"low_comp_home_perc\": 24.58615513720592}, {\"index\": 255, \"date\": \"2020-11-29T00:00:00-05:00\", \"high_comp_home_perc\": 31.54959936476818, \"low_comp_home_perc\": 40.20999663549503}, {\"index\": 256, \"date\": \"2020-08-25T00:00:00-04:00\", \"high_comp_home_perc\": 30.943912127428884, \"low_comp_home_perc\": 39.121226382002924}, {\"index\": 257, \"date\": \"2020-10-29T00:00:00-04:00\", \"high_comp_home_perc\": 35.55018751403362, \"low_comp_home_perc\": 40.885835616700106}, {\"index\": 258, \"date\": \"2020-11-16T00:00:00-05:00\", \"high_comp_home_perc\": 33.0519571038859, \"low_comp_home_perc\": 38.22731434217821}, {\"index\": 259, \"date\": \"2020-04-15T00:00:00-04:00\", \"high_comp_home_perc\": 48.97532990036831, \"low_comp_home_perc\": 54.582731056302976}, {\"index\": 260, \"date\": \"2020-08-16T00:00:00-04:00\", \"high_comp_home_perc\": 33.84719568755828, \"low_comp_home_perc\": 42.428375930943155}, {\"index\": 261, \"date\": \"2020-10-26T00:00:00-04:00\", \"high_comp_home_perc\": 36.220720633334054, \"low_comp_home_perc\": 40.829230171362795}, {\"index\": 262, \"date\": \"2020-03-29T00:00:00-04:00\", \"high_comp_home_perc\": 51.00576096957091, \"low_comp_home_perc\": 57.18366924634768}, {\"index\": 263, \"date\": \"2020-07-12T00:00:00-04:00\", \"high_comp_home_perc\": 31.706123758116227, \"low_comp_home_perc\": 41.74321978108985}, {\"index\": 264, \"date\": \"2020-03-31T00:00:00-04:00\", \"high_comp_home_perc\": 48.352655746960046, \"low_comp_home_perc\": 53.31975634298493}, {\"index\": 265, \"date\": \"2020-01-14T00:00:00-05:00\", \"high_comp_home_perc\": 18.988548718813437, \"low_comp_home_perc\": 26.467415491662358}, {\"index\": 266, \"date\": \"2020-08-15T00:00:00-04:00\", \"high_comp_home_perc\": 27.08699270513951, \"low_comp_home_perc\": 35.402369155757086}, {\"index\": 267, \"date\": \"2020-02-12T00:00:00-05:00\", \"high_comp_home_perc\": 20.248409834015693, \"low_comp_home_perc\": 26.824494427850354}, {\"index\": 268, \"date\": \"2020-02-13T00:00:00-05:00\", \"high_comp_home_perc\": 20.036566337471395, \"low_comp_home_perc\": 28.218663546172593}, {\"index\": 269, \"date\": \"2020-03-23T00:00:00-04:00\", \"high_comp_home_perc\": 50.0179891556489, \"low_comp_home_perc\": 52.58878670358856}, {\"index\": 270, \"date\": \"2020-01-02T00:00:00-05:00\", \"high_comp_home_perc\": 22.765415102613712, \"low_comp_home_perc\": 30.588175265406345}, {\"index\": 271, \"date\": \"2020-05-21T00:00:00-04:00\", \"high_comp_home_perc\": 44.737982198455676, \"low_comp_home_perc\": 48.793342835687355}, {\"index\": 272, \"date\": \"2020-05-26T00:00:00-04:00\", \"high_comp_home_perc\": 42.58436728813981, \"low_comp_home_perc\": 45.96427520219824}, {\"index\": 273, \"date\": \"2020-10-24T00:00:00-04:00\", \"high_comp_home_perc\": 28.76757979478627, \"low_comp_home_perc\": 35.45593877272156}, {\"index\": 274, \"date\": \"2020-09-24T00:00:00-04:00\", \"high_comp_home_perc\": 30.96534886405057, \"low_comp_home_perc\": 36.99908546039862}, {\"index\": 275, \"date\": \"2020-02-19T00:00:00-05:00\", \"high_comp_home_perc\": 21.513168358329946, \"low_comp_home_perc\": 29.88581783107919}, {\"index\": 276, \"date\": \"2020-03-08T00:00:00-05:00\", \"high_comp_home_perc\": 26.675593891672182, \"low_comp_home_perc\": 34.65704651582488}, {\"index\": 277, \"date\": \"2020-05-11T00:00:00-04:00\", \"high_comp_home_perc\": 54.253057113420205, \"low_comp_home_perc\": 53.74308319140055}, {\"index\": 278, \"date\": \"2020-06-17T00:00:00-04:00\", \"high_comp_home_perc\": 39.59522394129201, \"low_comp_home_perc\": 45.020193786575554}, {\"index\": 279, \"date\": \"2020-08-14T00:00:00-04:00\", \"high_comp_home_perc\": 26.887645024873915, \"low_comp_home_perc\": 34.05059356464414}, {\"index\": 280, \"date\": \"2020-08-17T00:00:00-04:00\", \"high_comp_home_perc\": 32.08823201659892, \"low_comp_home_perc\": 38.587765307596385}, {\"index\": 281, \"date\": \"2020-07-21T00:00:00-04:00\", \"high_comp_home_perc\": 31.663825063813235, \"low_comp_home_perc\": 39.118614336895256}, {\"index\": 282, \"date\": \"2020-12-17T00:00:00-05:00\", \"high_comp_home_perc\": 44.55907576926554, \"low_comp_home_perc\": 49.456560108628544}, {\"index\": 283, \"date\": \"2020-01-01T00:00:00-05:00\", \"high_comp_home_perc\": 28.30910170768988, \"low_comp_home_perc\": 37.831327027060034}, {\"index\": 284, \"date\": \"2020-01-03T00:00:00-05:00\", \"high_comp_home_perc\": 23.602827563958318, \"low_comp_home_perc\": 30.58140757068388}, {\"index\": 285, \"date\": \"2020-04-08T00:00:00-04:00\", \"high_comp_home_perc\": 50.141694449053695, \"low_comp_home_perc\": 55.980526076162135}, {\"index\": 286, \"date\": \"2020-01-09T00:00:00-05:00\", \"high_comp_home_perc\": 20.371021291631845, \"low_comp_home_perc\": 26.997819171457447}, {\"index\": 287, \"date\": \"2020-04-20T00:00:00-04:00\", \"high_comp_home_perc\": 48.91697594166832, \"low_comp_home_perc\": 53.652465152027}, {\"index\": 288, \"date\": \"2020-04-21T00:00:00-04:00\", \"high_comp_home_perc\": 50.15311876565475, \"low_comp_home_perc\": 55.09135911849435}, {\"index\": 289, \"date\": \"2020-04-23T00:00:00-04:00\", \"high_comp_home_perc\": 47.26987678185122, \"low_comp_home_perc\": 52.998767392265364}, {\"index\": 290, \"date\": \"2020-07-19T00:00:00-04:00\", \"high_comp_home_perc\": 34.777011880387505, \"low_comp_home_perc\": 43.15904341051009}, {\"index\": 291, \"date\": \"2020-01-15T00:00:00-05:00\", \"high_comp_home_perc\": 19.24860296025954, \"low_comp_home_perc\": 26.42543395793759}, {\"index\": 292, \"date\": \"2020-04-22T00:00:00-04:00\", \"high_comp_home_perc\": 46.480272398912696, \"low_comp_home_perc\": 52.06518424714868}, {\"index\": 293, \"date\": \"2020-06-19T00:00:00-04:00\", \"high_comp_home_perc\": 35.213307503534445, \"low_comp_home_perc\": 41.976634600251636}, {\"index\": 294, \"date\": \"2020-11-11T00:00:00-05:00\", \"high_comp_home_perc\": 32.28568087223757, \"low_comp_home_perc\": 38.82322418261613}, {\"index\": 295, \"date\": \"2020-03-18T00:00:00-04:00\", \"high_comp_home_perc\": 37.32461714053964, \"low_comp_home_perc\": 40.897598590846584}, {\"index\": 296, \"date\": \"2020-05-08T00:00:00-04:00\", \"high_comp_home_perc\": 51.67958713747998, \"low_comp_home_perc\": 52.273253271317714}, {\"index\": 297, \"date\": \"2020-10-19T00:00:00-04:00\", \"high_comp_home_perc\": 33.9951989312802, \"low_comp_home_perc\": 38.813521224852714}, {\"index\": 298, \"date\": \"2020-11-15T00:00:00-05:00\", \"high_comp_home_perc\": 33.43343249659579, \"low_comp_home_perc\": 40.8754229838658}, {\"index\": 299, \"date\": \"2020-10-03T00:00:00-04:00\", \"high_comp_home_perc\": 27.150141865640776, \"low_comp_home_perc\": 35.392264135754985}, {\"index\": 300, \"date\": \"2020-03-05T00:00:00-05:00\", \"high_comp_home_perc\": 19.199929928617976, \"low_comp_home_perc\": 25.283591416330147}, {\"index\": 301, \"date\": \"2020-01-11T00:00:00-05:00\", \"high_comp_home_perc\": 25.89033797092719, \"low_comp_home_perc\": 32.307959932764376}, {\"index\": 302, \"date\": \"2020-11-20T00:00:00-05:00\", \"high_comp_home_perc\": 28.877276625082683, \"low_comp_home_perc\": 34.91070802217597}, {\"index\": 303, \"date\": \"2020-09-01T00:00:00-04:00\", \"high_comp_home_perc\": 30.055605451370617, \"low_comp_home_perc\": 36.62583343991397}, {\"index\": 304, \"date\": \"2020-12-24T00:00:00-05:00\", \"high_comp_home_perc\": 28.316193081673212, \"low_comp_home_perc\": 34.445582195835925}, {\"index\": 305, \"date\": \"2020-03-17T00:00:00-04:00\", \"high_comp_home_perc\": 36.37018715911739, \"low_comp_home_perc\": 40.57534860757593}, {\"index\": 306, \"date\": \"2020-03-14T00:00:00-04:00\", \"high_comp_home_perc\": 32.43492337317932, \"low_comp_home_perc\": 37.19949124421312}, {\"index\": 307, \"date\": \"2020-02-08T00:00:00-05:00\", \"high_comp_home_perc\": 25.405706094876518, \"low_comp_home_perc\": 33.3371409175276}, {\"index\": 308, \"date\": \"2020-09-23T00:00:00-04:00\", \"high_comp_home_perc\": 31.777751283648445, \"low_comp_home_perc\": 37.97051065830973}, {\"index\": 309, \"date\": \"2020-01-16T00:00:00-05:00\", \"high_comp_home_perc\": 18.032127394966324, \"low_comp_home_perc\": 25.65947566027134}, {\"index\": 310, \"date\": \"2020-08-11T00:00:00-04:00\", \"high_comp_home_perc\": 30.303893082073508, \"low_comp_home_perc\": 37.38499423789566}, {\"index\": 311, \"date\": \"2020-01-07T00:00:00-05:00\", \"high_comp_home_perc\": 21.849085785723876, \"low_comp_home_perc\": 28.342459250012023}, {\"index\": 312, \"date\": \"2020-12-28T00:00:00-05:00\", \"high_comp_home_perc\": 29.71866877552656, \"low_comp_home_perc\": 38.002244583560035}, {\"index\": 313, \"date\": \"2020-01-08T00:00:00-05:00\", \"high_comp_home_perc\": 22.810949360234044, \"low_comp_home_perc\": 29.198403611841396}, {\"index\": 314, \"date\": \"2020-10-07T00:00:00-04:00\", \"high_comp_home_perc\": 30.28253154485646, \"low_comp_home_perc\": 36.62217954414523}, {\"index\": 315, \"date\": \"2020-06-02T00:00:00-04:00\", \"high_comp_home_perc\": 44.948846650994554, \"low_comp_home_perc\": 48.16183676029355}, {\"index\": 316, \"date\": \"2020-08-18T00:00:00-04:00\", \"high_comp_home_perc\": 29.166571401929335, \"low_comp_home_perc\": 36.90128147789092}, {\"index\": 317, \"date\": \"2020-09-20T00:00:00-04:00\", \"high_comp_home_perc\": 31.416687854824435, \"low_comp_home_perc\": 38.75970619463305}, {\"index\": 318, \"date\": \"2020-09-09T00:00:00-04:00\", \"high_comp_home_perc\": 31.409371891025774, \"low_comp_home_perc\": 37.360347972683144}, {\"index\": 319, \"date\": \"2020-02-20T00:00:00-05:00\", \"high_comp_home_perc\": 20.216287676521933, \"low_comp_home_perc\": 28.344614962367846}, {\"index\": 320, \"date\": \"2020-11-07T00:00:00-05:00\", \"high_comp_home_perc\": 25.191828313224526, \"low_comp_home_perc\": 34.383941380170526}, {\"index\": 321, \"date\": \"2020-12-26T00:00:00-05:00\", \"high_comp_home_perc\": 31.273279636896735, \"low_comp_home_perc\": 38.109156615699746}, {\"index\": 322, \"date\": \"2020-11-05T00:00:00-05:00\", \"high_comp_home_perc\": 29.587575434347766, \"low_comp_home_perc\": 36.71921639836005}, {\"index\": 323, \"date\": \"2020-07-28T00:00:00-04:00\", \"high_comp_home_perc\": 31.63046589573075, \"low_comp_home_perc\": 38.18518611390165}, {\"index\": 324, \"date\": \"2020-01-26T00:00:00-05:00\", \"high_comp_home_perc\": 25.512289639023745, \"low_comp_home_perc\": 34.94071363648564}, {\"index\": 325, \"date\": \"2020-01-29T00:00:00-05:00\", \"high_comp_home_perc\": 18.98558008968563, \"low_comp_home_perc\": 25.385474083585557}, {\"index\": 326, \"date\": \"2020-06-21T00:00:00-04:00\", \"high_comp_home_perc\": 33.95862156979807, \"low_comp_home_perc\": 43.76803981051709}, {\"index\": 327, \"date\": \"2020-12-25T00:00:00-05:00\", \"high_comp_home_perc\": 37.5171522049175, \"low_comp_home_perc\": 44.161636333643386}, {\"index\": 328, \"date\": \"2020-10-14T00:00:00-04:00\", \"high_comp_home_perc\": 29.92162700213881, \"low_comp_home_perc\": 35.930310082206454}, {\"index\": 329, \"date\": \"2020-04-04T00:00:00-04:00\", \"high_comp_home_perc\": 50.062661348129666, \"low_comp_home_perc\": 56.87189001295185}, {\"index\": 330, \"date\": \"2020-04-24T00:00:00-04:00\", \"high_comp_home_perc\": 48.18871208742367, \"low_comp_home_perc\": 53.35335868637123}, {\"index\": 331, \"date\": \"2020-05-22T00:00:00-04:00\", \"high_comp_home_perc\": 42.4440120755173, \"low_comp_home_perc\": 46.19000554771438}, {\"index\": 332, \"date\": \"2020-08-23T00:00:00-04:00\", \"high_comp_home_perc\": 31.430662155743935, \"low_comp_home_perc\": 41.180201498529726}, {\"index\": 333, \"date\": \"2020-10-30T00:00:00-04:00\", \"high_comp_home_perc\": 31.564037582038452, \"low_comp_home_perc\": 37.533531822449504}, {\"index\": 334, \"date\": \"2020-06-30T00:00:00-04:00\", \"high_comp_home_perc\": 33.479940880558594, \"low_comp_home_perc\": 39.92390445851519}, {\"index\": 335, \"date\": \"2020-07-04T00:00:00-04:00\", \"high_comp_home_perc\": 32.4805319804671, \"low_comp_home_perc\": 39.89759241483795}, {\"index\": 336, \"date\": \"2020-07-23T00:00:00-04:00\", \"high_comp_home_perc\": 33.67964389894788, \"low_comp_home_perc\": 40.68715172440748}, {\"index\": 337, \"date\": \"2020-05-01T00:00:00-04:00\", \"high_comp_home_perc\": 51.12795938281491, \"low_comp_home_perc\": 53.21369779152305}, {\"index\": 338, \"date\": \"2020-06-23T00:00:00-04:00\", \"high_comp_home_perc\": 34.66227399066203, \"low_comp_home_perc\": 40.56896980405682}, {\"index\": 339, \"date\": \"2020-04-13T00:00:00-04:00\", \"high_comp_home_perc\": 53.48661675706547, \"low_comp_home_perc\": 59.61089811389794}, {\"index\": 340, \"date\": \"2020-12-13T00:00:00-05:00\", \"high_comp_home_perc\": 32.097451831104195, \"low_comp_home_perc\": 39.546698540169714}, {\"index\": 341, \"date\": \"2020-04-10T00:00:00-04:00\", \"high_comp_home_perc\": 49.34586966916059, \"low_comp_home_perc\": 55.000114999939136}, {\"index\": 342, \"date\": \"2020-03-11T00:00:00-04:00\", \"high_comp_home_perc\": 22.703331504332265, \"low_comp_home_perc\": 27.791613545899978}, {\"index\": 343, \"date\": \"2020-10-08T00:00:00-04:00\", \"high_comp_home_perc\": 29.941336092889077, \"low_comp_home_perc\": 35.792326389612064}, {\"index\": 344, \"date\": \"2020-11-10T00:00:00-05:00\", \"high_comp_home_perc\": 29.13296146724111, \"low_comp_home_perc\": 36.78446288894578}, {\"index\": 345, \"date\": \"2020-06-26T00:00:00-04:00\", \"high_comp_home_perc\": 33.228842142592185, \"low_comp_home_perc\": 40.13768516072518}, {\"index\": 346, \"date\": \"2020-07-25T00:00:00-04:00\", \"high_comp_home_perc\": 31.302542283719628, \"low_comp_home_perc\": 38.93725489300836}, {\"index\": 347, \"date\": \"2020-11-01T00:00:00-04:00\", \"high_comp_home_perc\": 34.366436277852024, \"low_comp_home_perc\": 41.37873397277822}, {\"index\": 348, \"date\": \"2020-11-17T00:00:00-05:00\", \"high_comp_home_perc\": 31.724365140241446, \"low_comp_home_perc\": 37.047449452221855}, {\"index\": 349, \"date\": \"2020-12-07T00:00:00-05:00\", \"high_comp_home_perc\": 34.00144060165221, \"low_comp_home_perc\": 37.80103335164367}, {\"index\": 350, \"date\": \"2020-11-23T00:00:00-05:00\", \"high_comp_home_perc\": 36.019901229110445, \"low_comp_home_perc\": 39.65346628536091}, {\"index\": 351, \"date\": \"2020-11-14T00:00:00-05:00\", \"high_comp_home_perc\": 29.54957462532431, \"low_comp_home_perc\": 36.96536687893806}, {\"index\": 352, \"date\": \"2020-08-22T00:00:00-04:00\", \"high_comp_home_perc\": 25.37693535370006, \"low_comp_home_perc\": 34.494846274149815}, {\"index\": 353, \"date\": \"2020-04-17T00:00:00-04:00\", \"high_comp_home_perc\": 47.97888398774008, \"low_comp_home_perc\": 53.40415640931208}, {\"index\": 354, \"date\": \"2020-01-31T00:00:00-05:00\", \"high_comp_home_perc\": 16.483178314938257, \"low_comp_home_perc\": 22.214686063537798}, {\"index\": 355, \"date\": \"2020-09-03T00:00:00-04:00\", \"high_comp_home_perc\": 30.320268206146114, \"low_comp_home_perc\": 36.650317382838125}, {\"index\": 356, \"date\": \"2020-02-23T00:00:00-05:00\", \"high_comp_home_perc\": 24.96714436921549, \"low_comp_home_perc\": 33.12696823825628}, {\"index\": 357, \"date\": \"2020-03-26T00:00:00-04:00\", \"high_comp_home_perc\": 44.232897771169156, \"low_comp_home_perc\": 50.1687290983927}, {\"index\": 358, \"date\": \"2020-06-01T00:00:00-04:00\", \"high_comp_home_perc\": 41.59675670347851, \"low_comp_home_perc\": 45.104939552833976}, {\"index\": 359, \"date\": \"2020-03-15T00:00:00-04:00\", \"high_comp_home_perc\": 34.22024039154134, \"low_comp_home_perc\": 40.34183306464047}, {\"index\": 360, \"date\": \"2020-12-15T00:00:00-05:00\", \"high_comp_home_perc\": 32.98816721427276, \"low_comp_home_perc\": 37.30494952427878}, {\"index\": 361, \"date\": \"2020-04-16T00:00:00-04:00\", \"high_comp_home_perc\": 50.33698559005894, \"low_comp_home_perc\": 55.05123917884805}, {\"index\": 362, \"date\": \"2020-04-30T00:00:00-04:00\", \"high_comp_home_perc\": 45.39918766163148, \"low_comp_home_perc\": 51.14243440608481}, {\"index\": 363, \"date\": \"2020-06-14T00:00:00-04:00\", \"high_comp_home_perc\": 36.31466043364416, \"low_comp_home_perc\": 45.949475685288704}, {\"index\": 364, \"date\": \"2020-12-14T00:00:00-05:00\", \"high_comp_home_perc\": 37.76582613652478, \"low_comp_home_perc\": 41.07995830756508}, {\"index\": 365, \"date\": \"2020-12-22T00:00:00-05:00\", \"high_comp_home_perc\": 30.686282891557585, \"low_comp_home_perc\": 36.29706839127429}]}}, {\"mode\": \"vega-lite\"});\n",
              "</script>"
            ]
          },
          "metadata": {
            "tags": []
          },
          "execution_count": 22
        },
        {
          "output_type": "stream",
          "text": [
            "time: 79.1 ms (started: 2021-04-16 04:49:38 +00:00)\n"
          ],
          "name": "stdout"
        }
      ]
    }
  ]
}