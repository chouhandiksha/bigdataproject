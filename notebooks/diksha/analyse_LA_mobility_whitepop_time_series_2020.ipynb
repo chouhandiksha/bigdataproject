{
  "nbformat": 4,
  "nbformat_minor": 0,
  "metadata": {
    "colab": {
      "name": "analyse_NY_mobility_poverty_2020.ipynb",
      "provenance": [],
      "collapsed_sections": [],
      "include_colab_link": true
    },
    "kernelspec": {
      "name": "python3",
      "display_name": "Python 3"
    },
    "language_info": {
      "name": "python"
    }
  },
  "cells": [
    {
      "cell_type": "markdown",
      "metadata": {
        "id": "view-in-github",
        "colab_type": "text"
      },
      "source": [
        "<a href=\"https://colab.research.google.com/github/chouhandiksha/bigdataproject/blob/colab/notebooks/diksha/analyse_LA_mobility_whitepop_time_series_2020.ipynb\" target=\"_parent\"><img src=\"https://colab.research.google.com/assets/colab-badge.svg\" alt=\"Open In Colab\"/></a>"
      ]
    },
    {
      "cell_type": "markdown",
      "metadata": {
        "id": "6Vnc5foT5YFx"
      },
      "source": [
        "**Spark SQL Documentation:** \n",
        "https://spark.apache.org/docs/2.2.0/sql-programming-guide.html"
      ]
    },
    {
      "cell_type": "code",
      "metadata": {
        "id": "XXJ-cpgT3moz",
        "colab": {
          "base_uri": "https://localhost:8080/"
        },
        "outputId": "e7200f2c-971d-4470-b672-40c31a8a5286"
      },
      "source": [
        "# add time information at the end of every cell\n",
        "!pip install ipython-autotime\n",
        "%load_ext autotime"
      ],
      "execution_count": 2,
      "outputs": [
        {
          "output_type": "stream",
          "text": [
            "Collecting ipython-autotime\n",
            "  Using cached https://files.pythonhosted.org/packages/b4/c9/b413a24f759641bc27ef98c144b590023c8038dfb8a3f09e713e9dff12c1/ipython_autotime-0.3.1-py2.py3-none-any.whl\n",
            "Requirement already satisfied: ipython in /usr/local/lib/python3.7/dist-packages (from ipython-autotime) (5.5.0)\n",
            "Requirement already satisfied: setuptools>=18.5 in /usr/local/lib/python3.7/dist-packages (from ipython->ipython-autotime) (54.2.0)\n",
            "Requirement already satisfied: pickleshare in /usr/local/lib/python3.7/dist-packages (from ipython->ipython-autotime) (0.7.5)\n",
            "Requirement already satisfied: pygments in /usr/local/lib/python3.7/dist-packages (from ipython->ipython-autotime) (2.6.1)\n",
            "Requirement already satisfied: simplegeneric>0.8 in /usr/local/lib/python3.7/dist-packages (from ipython->ipython-autotime) (0.8.1)\n",
            "Requirement already satisfied: pexpect; sys_platform != \"win32\" in /usr/local/lib/python3.7/dist-packages (from ipython->ipython-autotime) (4.8.0)\n",
            "Requirement already satisfied: prompt-toolkit<2.0.0,>=1.0.4 in /usr/local/lib/python3.7/dist-packages (from ipython->ipython-autotime) (1.0.18)\n",
            "Requirement already satisfied: traitlets>=4.2 in /usr/local/lib/python3.7/dist-packages (from ipython->ipython-autotime) (5.0.5)\n",
            "Requirement already satisfied: decorator in /usr/local/lib/python3.7/dist-packages (from ipython->ipython-autotime) (4.4.2)\n",
            "Requirement already satisfied: ptyprocess>=0.5 in /usr/local/lib/python3.7/dist-packages (from pexpect; sys_platform != \"win32\"->ipython->ipython-autotime) (0.7.0)\n",
            "Requirement already satisfied: six>=1.9.0 in /usr/local/lib/python3.7/dist-packages (from prompt-toolkit<2.0.0,>=1.0.4->ipython->ipython-autotime) (1.15.0)\n",
            "Requirement already satisfied: wcwidth in /usr/local/lib/python3.7/dist-packages (from prompt-toolkit<2.0.0,>=1.0.4->ipython->ipython-autotime) (0.2.5)\n",
            "Requirement already satisfied: ipython-genutils in /usr/local/lib/python3.7/dist-packages (from traitlets>=4.2->ipython->ipython-autotime) (0.2.0)\n",
            "Installing collected packages: ipython-autotime\n",
            "Successfully installed ipython-autotime-0.3.1\n",
            "time: 2.03 ms (started: 2021-04-16 04:32:03 +00:00)\n"
          ],
          "name": "stdout"
        }
      ]
    },
    {
      "cell_type": "code",
      "metadata": {
        "colab": {
          "base_uri": "https://localhost:8080/"
        },
        "id": "DggpqrsrscGi",
        "outputId": "a9c54587-3d9f-4828-c97a-7df661ac6728"
      },
      "source": [
        "# Install required dependancies\n",
        "!pip install pyspark\n",
        "!apt install openjdk-8-jdk-headless -qq\n",
        "import os\n",
        "os.environ[\"JAVA_HOME\"] = \"/usr/lib/jvm/java-8-openjdk-amd64\""
      ],
      "execution_count": 3,
      "outputs": [
        {
          "output_type": "stream",
          "text": [
            "Collecting pyspark\n",
            "\u001b[?25l  Downloading https://files.pythonhosted.org/packages/45/b0/9d6860891ab14a39d4bddf80ba26ce51c2f9dc4805e5c6978ac0472c120a/pyspark-3.1.1.tar.gz (212.3MB)\n",
            "\u001b[K     |████████████████████████████████| 212.3MB 67kB/s \n",
            "\u001b[?25hCollecting py4j==0.10.9\n",
            "\u001b[?25l  Downloading https://files.pythonhosted.org/packages/9e/b6/6a4fb90cd235dc8e265a6a2067f2a2c99f0d91787f06aca4bcf7c23f3f80/py4j-0.10.9-py2.py3-none-any.whl (198kB)\n",
            "\u001b[K     |████████████████████████████████| 204kB 31.7MB/s \n",
            "\u001b[?25hBuilding wheels for collected packages: pyspark\n",
            "  Building wheel for pyspark (setup.py) ... \u001b[?25l\u001b[?25hdone\n",
            "  Created wheel for pyspark: filename=pyspark-3.1.1-py2.py3-none-any.whl size=212767604 sha256=bd21c4e7c5ec59b8179087df00ba1e207e83488e4f8cd2430b5b0e088bfa50ea\n",
            "  Stored in directory: /root/.cache/pip/wheels/0b/90/c0/01de724414ef122bd05f056541fb6a0ecf47c7ca655f8b3c0f\n",
            "Successfully built pyspark\n",
            "Installing collected packages: py4j, pyspark\n",
            "Successfully installed py4j-0.10.9 pyspark-3.1.1\n",
            "The following additional packages will be installed:\n",
            "  openjdk-8-jre-headless\n",
            "Suggested packages:\n",
            "  openjdk-8-demo openjdk-8-source libnss-mdns fonts-dejavu-extra\n",
            "  fonts-ipafont-gothic fonts-ipafont-mincho fonts-wqy-microhei\n",
            "  fonts-wqy-zenhei fonts-indic\n",
            "The following NEW packages will be installed:\n",
            "  openjdk-8-jdk-headless openjdk-8-jre-headless\n",
            "0 upgraded, 2 newly installed, 0 to remove and 31 not upgraded.\n",
            "Need to get 36.5 MB of archives.\n",
            "After this operation, 143 MB of additional disk space will be used.\n",
            "Selecting previously unselected package openjdk-8-jre-headless:amd64.\n",
            "(Reading database ... 160983 files and directories currently installed.)\n",
            "Preparing to unpack .../openjdk-8-jre-headless_8u282-b08-0ubuntu1~18.04_amd64.deb ...\n",
            "Unpacking openjdk-8-jre-headless:amd64 (8u282-b08-0ubuntu1~18.04) ...\n",
            "Selecting previously unselected package openjdk-8-jdk-headless:amd64.\n",
            "Preparing to unpack .../openjdk-8-jdk-headless_8u282-b08-0ubuntu1~18.04_amd64.deb ...\n",
            "Unpacking openjdk-8-jdk-headless:amd64 (8u282-b08-0ubuntu1~18.04) ...\n",
            "Setting up openjdk-8-jre-headless:amd64 (8u282-b08-0ubuntu1~18.04) ...\n",
            "update-alternatives: using /usr/lib/jvm/java-8-openjdk-amd64/jre/bin/orbd to provide /usr/bin/orbd (orbd) in auto mode\n",
            "update-alternatives: using /usr/lib/jvm/java-8-openjdk-amd64/jre/bin/servertool to provide /usr/bin/servertool (servertool) in auto mode\n",
            "update-alternatives: using /usr/lib/jvm/java-8-openjdk-amd64/jre/bin/tnameserv to provide /usr/bin/tnameserv (tnameserv) in auto mode\n",
            "Setting up openjdk-8-jdk-headless:amd64 (8u282-b08-0ubuntu1~18.04) ...\n",
            "update-alternatives: using /usr/lib/jvm/java-8-openjdk-amd64/bin/idlj to provide /usr/bin/idlj (idlj) in auto mode\n",
            "update-alternatives: using /usr/lib/jvm/java-8-openjdk-amd64/bin/wsimport to provide /usr/bin/wsimport (wsimport) in auto mode\n",
            "update-alternatives: using /usr/lib/jvm/java-8-openjdk-amd64/bin/jsadebugd to provide /usr/bin/jsadebugd (jsadebugd) in auto mode\n",
            "update-alternatives: using /usr/lib/jvm/java-8-openjdk-amd64/bin/native2ascii to provide /usr/bin/native2ascii (native2ascii) in auto mode\n",
            "update-alternatives: using /usr/lib/jvm/java-8-openjdk-amd64/bin/javah to provide /usr/bin/javah (javah) in auto mode\n",
            "update-alternatives: using /usr/lib/jvm/java-8-openjdk-amd64/bin/hsdb to provide /usr/bin/hsdb (hsdb) in auto mode\n",
            "update-alternatives: using /usr/lib/jvm/java-8-openjdk-amd64/bin/clhsdb to provide /usr/bin/clhsdb (clhsdb) in auto mode\n",
            "update-alternatives: using /usr/lib/jvm/java-8-openjdk-amd64/bin/xjc to provide /usr/bin/xjc (xjc) in auto mode\n",
            "update-alternatives: using /usr/lib/jvm/java-8-openjdk-amd64/bin/schemagen to provide /usr/bin/schemagen (schemagen) in auto mode\n",
            "update-alternatives: using /usr/lib/jvm/java-8-openjdk-amd64/bin/extcheck to provide /usr/bin/extcheck (extcheck) in auto mode\n",
            "update-alternatives: using /usr/lib/jvm/java-8-openjdk-amd64/bin/jhat to provide /usr/bin/jhat (jhat) in auto mode\n",
            "update-alternatives: using /usr/lib/jvm/java-8-openjdk-amd64/bin/wsgen to provide /usr/bin/wsgen (wsgen) in auto mode\n",
            "time: 59.4 s (started: 2021-04-16 04:32:03 +00:00)\n"
          ],
          "name": "stdout"
        }
      ]
    },
    {
      "cell_type": "code",
      "metadata": {
        "id": "ppkG73kRsei0",
        "colab": {
          "base_uri": "https://localhost:8080/"
        },
        "outputId": "3b8f4388-07ce-481a-fb74-fbff217d4442"
      },
      "source": [
        "# Import modules\n",
        "import numpy as np\n",
        "import pandas as pd\n",
        "import matplotlib.pyplot as plt\n",
        "from pathlib import Path\n",
        "%matplotlib inline\n",
        "\n",
        "import pyspark\n",
        "from pyspark.sql import *\n",
        "from pyspark.sql.types import *\n",
        "from pyspark.sql.functions import *\n",
        "from pyspark import SparkContext, SparkConf"
      ],
      "execution_count": 4,
      "outputs": [
        {
          "output_type": "stream",
          "text": [
            "time: 104 ms (started: 2021-04-16 04:33:03 +00:00)\n"
          ],
          "name": "stdout"
        }
      ]
    },
    {
      "cell_type": "code",
      "metadata": {
        "colab": {
          "base_uri": "https://localhost:8080/"
        },
        "id": "pYm9-j_fflal",
        "outputId": "ad7eedd8-ab6e-4c3f-d418-ad980efe8888"
      },
      "source": [
        "import altair as alt\n",
        "alt.data_transformers.disable_max_rows()"
      ],
      "execution_count": 5,
      "outputs": [
        {
          "output_type": "execute_result",
          "data": {
            "text/plain": [
              "DataTransformerRegistry.enable('default')"
            ]
          },
          "metadata": {
            "tags": []
          },
          "execution_count": 5
        },
        {
          "output_type": "stream",
          "text": [
            "time: 311 ms (started: 2021-04-16 04:33:03 +00:00)\n"
          ],
          "name": "stdout"
        }
      ]
    },
    {
      "cell_type": "code",
      "metadata": {
        "id": "1oe1ksN5skMG",
        "colab": {
          "base_uri": "https://localhost:8080/"
        },
        "outputId": "9f023119-3f3c-4f28-b4ca-f251dda48ffd"
      },
      "source": [
        "# create the session\n",
        "conf = SparkConf().set(\"spark.ui.port\", \"4050\")\n",
        "\n",
        "# create the context\n",
        "sc = pyspark.SparkContext(conf=conf)\n",
        "spark = SparkSession.builder.getOrCreate()"
      ],
      "execution_count": 6,
      "outputs": [
        {
          "output_type": "stream",
          "text": [
            "time: 5.6 s (started: 2021-04-16 04:33:03 +00:00)\n"
          ],
          "name": "stdout"
        }
      ]
    },
    {
      "cell_type": "code",
      "metadata": {
        "id": "zdPF-0xIrDm9",
        "colab": {
          "base_uri": "https://localhost:8080/"
        },
        "outputId": "a63142a5-1839-403c-b49d-33bd09c28c81"
      },
      "source": [
        "#sc.stop()"
      ],
      "execution_count": 7,
      "outputs": [
        {
          "output_type": "stream",
          "text": [
            "time: 1.51 ms (started: 2021-04-16 04:33:09 +00:00)\n"
          ],
          "name": "stdout"
        }
      ]
    },
    {
      "cell_type": "code",
      "metadata": {
        "colab": {
          "base_uri": "https://localhost:8080/"
        },
        "id": "WGXwI2d1szaO",
        "outputId": "aa3cd128-8650-4824-e68a-63eaf5263301"
      },
      "source": [
        "# Mount drive with data\n",
        "from google.colab import drive\n",
        "drive.mount('/content/drive')"
      ],
      "execution_count": 8,
      "outputs": [
        {
          "output_type": "stream",
          "text": [
            "Mounted at /content/drive\n",
            "time: 31.7 s (started: 2021-04-16 04:33:09 +00:00)\n"
          ],
          "name": "stdout"
        }
      ]
    },
    {
      "cell_type": "code",
      "metadata": {
        "id": "grN2uNcFvloa",
        "colab": {
          "base_uri": "https://localhost:8080/"
        },
        "outputId": "69dedc14-a281-4660-909a-179ef6398ad6"
      },
      "source": [
        "# Set path to data folder\n",
        "path = Path('drive/MyDrive/big-data-project/data/clean-data')\n",
        "city = 'la'"
      ],
      "execution_count": 9,
      "outputs": [
        {
          "output_type": "stream",
          "text": [
            "time: 1.79 ms (started: 2021-04-16 04:33:40 +00:00)\n"
          ],
          "name": "stdout"
        }
      ]
    },
    {
      "cell_type": "code",
      "metadata": {
        "colab": {
          "base_uri": "https://localhost:8080/"
        },
        "id": "BvCrFmU2tGXY",
        "outputId": "54469377-4c36-4347-855b-3d7acb0db07c"
      },
      "source": [
        "# Read data into dataframe\n",
        "df_soc = spark.read.format('csv').option('header','true').option('quote',\"\\\"\").option('escape',\"\\\"\").load(str(path/city/'social/2020/*.csv'))\n",
        "df_soc.show()"
      ],
      "execution_count": 10,
      "outputs": [
        {
          "output_type": "stream",
          "text": [
            "+---+------------+--------------------+--------------------+------------+---------------------------+--------------------------+------------------------------------------+----------------------------+----------------------+------------------------+--------------------+-------------------------------+-------------------------------+--------------------+-------------------------+--------------------------+----------------------+----------------------------+---------------------------+-----------------------------+\n",
            "|_c0|         cbg|    date_range_start|      date_range_end|device_count|distance_traveled_from_home|bucketed_distance_traveled|median_dwell_at_bucketed_distance_traveled|completely_home_device_count|median_home_dwell_time|bucketed_home_dwell_time|at_home_by_each_hour|part_time_work_behavior_devices|full_time_work_behavior_devices|    destination_cbgs|delivery_behavior_devices|median_non_home_dwell_time|candidate_device_count|bucketed_away_from_home_time|median_percentage_time_home|bucketed_percentage_time_home|\n",
            "+---+------------+--------------------+--------------------+------------+---------------------------+--------------------------+------------------------------------------+----------------------------+----------------------+------------------------+--------------------+-------------------------------+-------------------------------+--------------------+-------------------------+--------------------------+----------------------+----------------------------+---------------------------+-----------------------------+\n",
            "| 11|060371831013|2020-02-07T00:00:...|2020-02-08T00:00:...|          45|                     5769.0|      {\"16001-50000\":4,...|                      {\"16001-50000\":29...|                           6|                   558|    {\"721-1080\":9,\"36...|[24,23,24,23,21,2...|                              1|                              1|{\"060374309012\":1...|                        1|                       112|                    89|        {\"481-540\":1,\"541...|                         64|         {\"26-50\":4,\"51-75...|\n",
            "| 12|060374034022|2020-02-07T00:00:...|2020-02-08T00:00:...|         155|                     5438.0|      {\"16001-50000\":32...|                      {\"16001-50000\":99...|                          24|                     0|    {\"721-1080\":16,\"3...|[42,41,38,40,40,4...|                             12|                              4|{\"060374034041\":3...|                        1|                       133|                   536|        {\"21-45\":16,\"481-...|                          0|         {\"26-50\":4,\"51-75...|\n",
            "| 13|060375326041|2020-02-07T00:00:...|2020-02-08T00:00:...|          31|                     6670.0|      {\"16001-50000\":2,...|                      {\"16001-50000\":22...|                           4|                   693|    {\"721-1080\":7,\"36...|[23,20,25,20,20,2...|                              6|                              2|{\"060379800311\":1...|                        5|                       268|                    71|        {\"21-45\":1,\"481-5...|                         66|         {\"0-25\":6,\"76-100...|\n",
            "| 14|060375544031|2020-02-07T00:00:...|2020-02-08T00:00:...|         130|                     7054.0|      {\"16001-50000\":16...|                      {\"16001-50000\":71...|                          27|                   630|    {\"721-1080\":25,\"3...|[79,77,79,74,76,7...|                             16|                             10|{\"060376700012\":1...|                        5|                       187|                   295|        {\"21-45\":2,\"481-5...|                         69|         {\"26-50\":6,\"51-75...|\n",
            "| 15|060375718003|2020-02-07T00:00:...|2020-02-08T00:00:...|          35|                     4900.0|      {\"16001-50000\":3,...|                      {\"16001-50000\":12...|                          10|                   684|    {\"721-1080\":5,\"36...|[20,19,17,18,23,1...|                              4|                              1|{\"060376210011\":1...|                        1|                       217|                    52|        {\"21-45\":1,\"481-5...|                         75|         {\"0-25\":3,\"76-100...|\n",
            "| 16|060590018024|2020-02-07T00:00:...|2020-02-08T00:00:...|          38|                     4466.0|      {\"16001-50000\":3,...|                      {\"16001-50000\":14...|                          13|                   550|    {\"721-1080\":9,\"36...|[27,26,27,28,26,2...|                              7|                              4|{\"060590740051\":1...|                        4|                       258|                    94|        {\"481-540\":2,\"541...|                         61|         {\"0-25\":4,\"76-100...|\n",
            "| 17|060590320463|2020-02-07T00:00:...|2020-02-08T00:00:...|         184|                     8950.0|      {\"16001-50000\":31...|                      {\"16001-50000\":90...|                          24|                   757|    {\"721-1080\":62,\"3...|[130,131,129,130,...|                             38|                             12|{\"060374084023\":1...|                       13|                       281|                   239|        {\"21-45\":6,\"481-5...|                         71|         {\"26-50\":17,\"51-7...|\n",
            "| 18|060590626281|2020-02-07T00:00:...|2020-02-08T00:00:...|         108|                     7471.0|      {\"16001-50000\":3,...|                      {\"16001-50000\":28...|                          32|                   107|    {\"721-1080\":8,\"36...|[45,39,39,41,40,4...|                              9|                              1|{\"040131141001\":1...|                        1|                        49|                   424|        {\"21-45\":10,\"481-...|                         77|         {\"0-25\":40,\"76-10...|\n",
            "|256|060371374011|2020-02-07T00:00:...|2020-02-08T00:00:...|          72|                     3404.0|      {\"16001-50000\":1,...|                      {\"16001-50000\":18...|                          30|                   498|    {\"721-1080\":12,\"3...|[42,39,40,41,39,3...|                              3|                              1|{\"060371374022\":1...|                        1|                        26|                   194|        {\"21-45\":5,\"481-5...|                         90|         {\"26-50\":1,\"51-75...|\n",
            "|257|060372398012|2020-02-07T00:00:...|2020-02-08T00:00:...|          41|                     7322.0|      {\"16001-50000\":4,...|                      {\"16001-50000\":96...|                          15|                   662|    {\"721-1080\":4,\"36...|[24,26,25,27,26,2...|                              1|                              4|{\"060372286001\":2...|                        1|                       102|                   132|        {\"21-45\":1,\"481-5...|                         85|         {\"0-25\":10,\"76-10...|\n",
            "|258|060373009011|2020-02-07T00:00:...|2020-02-08T00:00:...|          82|                     7465.0|      {\"16001-50000\":6,...|                      {\"16001-50000\":39...|                          20|                   820|    {\"721-1080\":28,\"3...|[66,61,62,63,63,6...|                             16|                              6|{\"060374309012\":1...|                        2|                       191|                   134|        {\"21-45\":3,\"481-5...|                         74|         {\"26-50\":1,\"51-75...|\n",
            "|259|060375418021|2020-02-07T00:00:...|2020-02-08T00:00:...|          49|                     6274.0|      {\"16001-50000\":2,...|                      {\"16001-50000\":44...|                          12|                   635|    {\"721-1080\":11,\"3...|[27,27,27,26,27,3...|                              3|                              4|{\"060375514021\":1...|                        3|                       222|                   125|        {\"21-45\":3,\"481-5...|                         75|         {\"26-50\":5,\"51-75...|\n",
            "|260|060375431003|2020-02-07T00:00:...|2020-02-08T00:00:...|          37|                     7095.0|      {\"16001-50000\":2,...|                      {\"16001-50000\":36...|                           5|                   686|    {\"721-1080\":9,\"36...|[21,25,23,23,21,2...|                              1|                              2|{\"060372151011\":1...|                        3|                       211|                    88|        {\"21-45\":2,\"481-5...|                         67|         {\"0-25\":10,\"76-10...|\n",
            "|261|060376012021|2020-02-07T00:00:...|2020-02-08T00:00:...|          56|                     3709.0|      {\"16001-50000\":3,...|                      {\"16001-50000\":82...|                          14|                   749|    {\"721-1080\":15,\"3...|[37,35,38,36,32,3...|                              1|                              4|{\"060371046201\":1...|                        1|                       147|                   129|        {\"21-45\":1,\"481-5...|                         80|         {\"26-50\":6,\"51-75...|\n",
            "|262|060379800211|2020-02-07T00:00:...|2020-02-08T00:00:...|          50|                     9433.0|      {\"16001-50000\":6,...|                      {\"16001-50000\":50...|                           3|                     0|    {\">1080\":1,\"<60\":...|[1,4,3,2,2,1,2,2,...|                              3|                              1|{\"060371012202\":1...|                        1|                       117|                   186|        {\"21-45\":7,\"481-5...|                          0|         {\"0-25\":41,\"76-10...|\n",
            "|264|060590871034|2020-02-07T00:00:...|2020-02-08T00:00:...|          88|                     2583.0|      {\"16001-50000\":5,...|                      {\"16001-50000\":81...|                          30|                   687|    {\"721-1080\":12,\"3...|[55,54,57,56,53,5...|                              7|                              8|{\"060375552121\":1...|                        3|                       123|                   202|        {\"21-45\":1,\"481-5...|                         80|         {\"26-50\":10,\"51-7...|\n",
            "|504|060372713005|2020-02-07T00:00:...|2020-02-08T00:00:...|          30|                     4601.0|      {\"16001-50000\":5,...|                      {\"16001-50000\":32...|                           3|                   734|    {\"721-1080\":7,\"36...|[20,18,23,18,18,1...|                              2|                              2|{\"060070006041\":1...|                        1|                       297|                    61|        {\"21-45\":4,\"481-5...|                         70|         {\"0-25\":9,\"76-100...|\n",
            "|505|060372766041|2020-02-07T00:00:...|2020-02-08T00:00:...|         137|                     4947.0|      {\"16001-50000\":16...|                      {\"16001-50000\":80...|                          24|                   662|    {\"721-1080\":37,\"3...|[83,84,87,81,85,8...|                             20|                              8|{\"060375439031\":2...|                        4|                       223|                   246|        {\"21-45\":6,\"481-5...|                         70|         {\"0-25\":18,\"76-10...|\n",
            "|506|060374334012|2020-02-07T00:00:...|2020-02-08T00:00:...|          35|                     5940.0|      {\"16001-50000\":7,...|                      {\"16001-50000\":10...|                           6|                   722|    {\"721-1080\":9,\"36...|[21,21,19,19,24,1...|                              6|                              2|{\"060374334012\":2...|                        1|                       338|                    77|        {\"21-45\":1,\"481-5...|                         67|         {\"26-50\":3,\"51-75...|\n",
            "|507|060375017003|2020-02-07T00:00:...|2020-02-08T00:00:...|          38|                     3849.0|      {\"16001-50000\":5,...|                      {\"16001-50000\":22...|                           6|                   710|    {\"721-1080\":13,\"3...|[27,26,27,30,28,2...|                              4|                              1|{\"060374086253\":1...|                        1|                       315|                    95|        {\"21-45\":1,\"481-5...|                         73|         {\"0-25\":4,\"76-100...|\n",
            "+---+------------+--------------------+--------------------+------------+---------------------------+--------------------------+------------------------------------------+----------------------------+----------------------+------------------------+--------------------+-------------------------------+-------------------------------+--------------------+-------------------------+--------------------------+----------------------+----------------------------+---------------------------+-----------------------------+\n",
            "only showing top 20 rows\n",
            "\n",
            "time: 23.1 s (started: 2021-04-16 04:33:40 +00:00)\n"
          ],
          "name": "stdout"
        }
      ]
    },
    {
      "cell_type": "code",
      "metadata": {
        "colab": {
          "base_uri": "https://localhost:8080/"
        },
        "id": "9fgHRKKEz-cA",
        "outputId": "e6891af4-0d59-4d1d-8bda-494e714cac9d"
      },
      "source": [
        "# View schema\n",
        "df_soc.printSchema()"
      ],
      "execution_count": 11,
      "outputs": [
        {
          "output_type": "stream",
          "text": [
            "root\n",
            " |-- _c0: string (nullable = true)\n",
            " |-- cbg: string (nullable = true)\n",
            " |-- date_range_start: string (nullable = true)\n",
            " |-- date_range_end: string (nullable = true)\n",
            " |-- device_count: string (nullable = true)\n",
            " |-- distance_traveled_from_home: string (nullable = true)\n",
            " |-- bucketed_distance_traveled: string (nullable = true)\n",
            " |-- median_dwell_at_bucketed_distance_traveled: string (nullable = true)\n",
            " |-- completely_home_device_count: string (nullable = true)\n",
            " |-- median_home_dwell_time: string (nullable = true)\n",
            " |-- bucketed_home_dwell_time: string (nullable = true)\n",
            " |-- at_home_by_each_hour: string (nullable = true)\n",
            " |-- part_time_work_behavior_devices: string (nullable = true)\n",
            " |-- full_time_work_behavior_devices: string (nullable = true)\n",
            " |-- destination_cbgs: string (nullable = true)\n",
            " |-- delivery_behavior_devices: string (nullable = true)\n",
            " |-- median_non_home_dwell_time: string (nullable = true)\n",
            " |-- candidate_device_count: string (nullable = true)\n",
            " |-- bucketed_away_from_home_time: string (nullable = true)\n",
            " |-- median_percentage_time_home: string (nullable = true)\n",
            " |-- bucketed_percentage_time_home: string (nullable = true)\n",
            "\n",
            "time: 33 ms (started: 2021-04-16 04:34:03 +00:00)\n"
          ],
          "name": "stdout"
        }
      ]
    },
    {
      "cell_type": "code",
      "metadata": {
        "id": "AlbhBqMUxjVa",
        "colab": {
          "base_uri": "https://localhost:8080/"
        },
        "outputId": "c58ffe31-25c2-4d85-a602-7fec716958b6"
      },
      "source": [
        "# # Take small sample of data to experiment with\n",
        "# df_soc = df_soc.limit(100)\n",
        "# df_soc.show()"
      ],
      "execution_count": 12,
      "outputs": [
        {
          "output_type": "stream",
          "text": [
            "time: 1.12 ms (started: 2021-04-16 04:34:04 +00:00)\n"
          ],
          "name": "stdout"
        }
      ]
    },
    {
      "cell_type": "code",
      "metadata": {
        "colab": {
          "base_uri": "https://localhost:8080/"
        },
        "id": "wh747sqcHi4-",
        "outputId": "7b9d9afd-446c-4469-d301-60ede3826ff7"
      },
      "source": [
        "df_soc.createOrReplaceTempView('clean_la')\n",
        "df_soc = spark.sql('SELECT cbg, date_range_start as date, device_count, completely_home_device_count, part_time_work_behavior_devices, full_time_work_behavior_devices FROM clean_la WHERE device_count > 5')\n",
        "df_soc.show()"
      ],
      "execution_count": 13,
      "outputs": [
        {
          "output_type": "stream",
          "text": [
            "+------------+--------------------+------------+----------------------------+-------------------------------+-------------------------------+\n",
            "|         cbg|                date|device_count|completely_home_device_count|part_time_work_behavior_devices|full_time_work_behavior_devices|\n",
            "+------------+--------------------+------------+----------------------------+-------------------------------+-------------------------------+\n",
            "|060371831013|2020-02-07T00:00:...|          45|                           6|                              1|                              1|\n",
            "|060374034022|2020-02-07T00:00:...|         155|                          24|                             12|                              4|\n",
            "|060375326041|2020-02-07T00:00:...|          31|                           4|                              6|                              2|\n",
            "|060375544031|2020-02-07T00:00:...|         130|                          27|                             16|                             10|\n",
            "|060375718003|2020-02-07T00:00:...|          35|                          10|                              4|                              1|\n",
            "|060590018024|2020-02-07T00:00:...|          38|                          13|                              7|                              4|\n",
            "|060590320463|2020-02-07T00:00:...|         184|                          24|                             38|                             12|\n",
            "|060590626281|2020-02-07T00:00:...|         108|                          32|                              9|                              1|\n",
            "|060371374011|2020-02-07T00:00:...|          72|                          30|                              3|                              1|\n",
            "|060372398012|2020-02-07T00:00:...|          41|                          15|                              1|                              4|\n",
            "|060373009011|2020-02-07T00:00:...|          82|                          20|                             16|                              6|\n",
            "|060375418021|2020-02-07T00:00:...|          49|                          12|                              3|                              4|\n",
            "|060375431003|2020-02-07T00:00:...|          37|                           5|                              1|                              2|\n",
            "|060376012021|2020-02-07T00:00:...|          56|                          14|                              1|                              4|\n",
            "|060379800211|2020-02-07T00:00:...|          50|                           3|                              3|                              1|\n",
            "|060590871034|2020-02-07T00:00:...|          88|                          30|                              7|                              8|\n",
            "|060372713005|2020-02-07T00:00:...|          30|                           3|                              2|                              2|\n",
            "|060372766041|2020-02-07T00:00:...|         137|                          24|                             20|                              8|\n",
            "|060374334012|2020-02-07T00:00:...|          35|                           6|                              6|                              2|\n",
            "|060375017003|2020-02-07T00:00:...|          38|                           6|                              4|                              1|\n",
            "+------------+--------------------+------------+----------------------------+-------------------------------+-------------------------------+\n",
            "only showing top 20 rows\n",
            "\n",
            "time: 1.05 s (started: 2021-04-16 04:34:04 +00:00)\n"
          ],
          "name": "stdout"
        }
      ]
    },
    {
      "cell_type": "code",
      "metadata": {
        "colab": {
          "base_uri": "https://localhost:8080/"
        },
        "id": "AsEegEtNyYZr",
        "outputId": "34295469-5b4a-40ff-98a7-f1b4edcd05d2"
      },
      "source": [
        "# View schema\n",
        "df_soc.printSchema()"
      ],
      "execution_count": 14,
      "outputs": [
        {
          "output_type": "stream",
          "text": [
            "root\n",
            " |-- cbg: string (nullable = true)\n",
            " |-- date: string (nullable = true)\n",
            " |-- device_count: string (nullable = true)\n",
            " |-- completely_home_device_count: string (nullable = true)\n",
            " |-- part_time_work_behavior_devices: string (nullable = true)\n",
            " |-- full_time_work_behavior_devices: string (nullable = true)\n",
            "\n",
            "time: 4.36 ms (started: 2021-04-16 04:34:05 +00:00)\n"
          ],
          "name": "stdout"
        }
      ]
    },
    {
      "cell_type": "code",
      "metadata": {
        "colab": {
          "base_uri": "https://localhost:8080/"
        },
        "id": "UL4qIhZu7JKC",
        "outputId": "3172b323-2928-4326-ac0f-c34eb5e3cabf"
      },
      "source": [
        "# Add completely home percentage column\n",
        "df_soc = df_soc.withColumn('completely_home_percentage', (df_soc['completely_home_device_count']/df_soc['device_count']) * 100)\n",
        "df_soc = df_soc.withColumn('part_time_work_percentage', (df_soc['part_time_work_behavior_devices']/df_soc['device_count']) * 100)\n",
        "df_soc = df_soc.withColumn('full_time_work_percentage', (df_soc['full_time_work_behavior_devices']/df_soc['device_count']) * 100)\n",
        "\n",
        "df_soc.show()"
      ],
      "execution_count": 15,
      "outputs": [
        {
          "output_type": "stream",
          "text": [
            "+------------+--------------------+------------+----------------------------+-------------------------------+-------------------------------+--------------------------+-------------------------+-------------------------+\n",
            "|         cbg|                date|device_count|completely_home_device_count|part_time_work_behavior_devices|full_time_work_behavior_devices|completely_home_percentage|part_time_work_percentage|full_time_work_percentage|\n",
            "+------------+--------------------+------------+----------------------------+-------------------------------+-------------------------------+--------------------------+-------------------------+-------------------------+\n",
            "|060371831013|2020-02-07T00:00:...|          45|                           6|                              1|                              1|        13.333333333333334|       2.2222222222222223|       2.2222222222222223|\n",
            "|060374034022|2020-02-07T00:00:...|         155|                          24|                             12|                              4|        15.483870967741936|        7.741935483870968|       2.5806451612903225|\n",
            "|060375326041|2020-02-07T00:00:...|          31|                           4|                              6|                              2|        12.903225806451612|        19.35483870967742|        6.451612903225806|\n",
            "|060375544031|2020-02-07T00:00:...|         130|                          27|                             16|                             10|         20.76923076923077|       12.307692307692308|       7.6923076923076925|\n",
            "|060375718003|2020-02-07T00:00:...|          35|                          10|                              4|                              1|         28.57142857142857|       11.428571428571429|        2.857142857142857|\n",
            "|060590018024|2020-02-07T00:00:...|          38|                          13|                              7|                              4|         34.21052631578947|       18.421052631578945|       10.526315789473683|\n",
            "|060590320463|2020-02-07T00:00:...|         184|                          24|                             38|                             12|        13.043478260869565|       20.652173913043477|        6.521739130434782|\n",
            "|060590626281|2020-02-07T00:00:...|         108|                          32|                              9|                              1|        29.629629629629626|        8.333333333333332|       0.9259259259259258|\n",
            "|060371374011|2020-02-07T00:00:...|          72|                          30|                              3|                              1|         41.66666666666667|        4.166666666666666|       1.3888888888888888|\n",
            "|060372398012|2020-02-07T00:00:...|          41|                          15|                              1|                              4|         36.58536585365854|       2.4390243902439024|         9.75609756097561|\n",
            "|060373009011|2020-02-07T00:00:...|          82|                          20|                             16|                              6|        24.390243902439025|        19.51219512195122|        7.317073170731707|\n",
            "|060375418021|2020-02-07T00:00:...|          49|                          12|                              3|                              4|        24.489795918367346|        6.122448979591836|         8.16326530612245|\n",
            "|060375431003|2020-02-07T00:00:...|          37|                           5|                              1|                              2|        13.513513513513514|       2.7027027027027026|        5.405405405405405|\n",
            "|060376012021|2020-02-07T00:00:...|          56|                          14|                              1|                              4|                      25.0|       1.7857142857142856|        7.142857142857142|\n",
            "|060379800211|2020-02-07T00:00:...|          50|                           3|                              3|                              1|                       6.0|                      6.0|                      2.0|\n",
            "|060590871034|2020-02-07T00:00:...|          88|                          30|                              7|                              8|        34.090909090909086|        7.954545454545454|        9.090909090909092|\n",
            "|060372713005|2020-02-07T00:00:...|          30|                           3|                              2|                              2|                      10.0|        6.666666666666667|        6.666666666666667|\n",
            "|060372766041|2020-02-07T00:00:...|         137|                          24|                             20|                              8|         17.51824817518248|         14.5985401459854|        5.839416058394161|\n",
            "|060374334012|2020-02-07T00:00:...|          35|                           6|                              6|                              2|        17.142857142857142|       17.142857142857142|        5.714285714285714|\n",
            "|060375017003|2020-02-07T00:00:...|          38|                           6|                              4|                              1|        15.789473684210526|       10.526315789473683|        2.631578947368421|\n",
            "+------------+--------------------+------------+----------------------------+-------------------------------+-------------------------------+--------------------------+-------------------------+-------------------------+\n",
            "only showing top 20 rows\n",
            "\n",
            "time: 615 ms (started: 2021-04-16 04:34:05 +00:00)\n"
          ],
          "name": "stdout"
        }
      ]
    },
    {
      "cell_type": "code",
      "metadata": {
        "colab": {
          "base_uri": "https://localhost:8080/"
        },
        "id": "U8Dh3u54x-Rw",
        "outputId": "69f764a6-40e9-4ec4-846b-2fd4e99d2047"
      },
      "source": [
        "df_soc.printSchema()"
      ],
      "execution_count": 16,
      "outputs": [
        {
          "output_type": "stream",
          "text": [
            "root\n",
            " |-- cbg: string (nullable = true)\n",
            " |-- date: string (nullable = true)\n",
            " |-- device_count: string (nullable = true)\n",
            " |-- completely_home_device_count: string (nullable = true)\n",
            " |-- part_time_work_behavior_devices: string (nullable = true)\n",
            " |-- full_time_work_behavior_devices: string (nullable = true)\n",
            " |-- completely_home_percentage: double (nullable = true)\n",
            " |-- part_time_work_percentage: double (nullable = true)\n",
            " |-- full_time_work_percentage: double (nullable = true)\n",
            "\n",
            "time: 20.6 ms (started: 2021-04-16 04:34:05 +00:00)\n"
          ],
          "name": "stdout"
        }
      ]
    },
    {
      "cell_type": "code",
      "metadata": {
        "colab": {
          "base_uri": "https://localhost:8080/"
        },
        "id": "OAUIODseCoSg",
        "outputId": "c21ffbd5-e0ba-4a5c-9825-b01b61544ee3"
      },
      "source": [
        "#Create temp view\n",
        "df_soc.createOrReplaceTempView('mobility')"
      ],
      "execution_count": 17,
      "outputs": [
        {
          "output_type": "stream",
          "text": [
            "time: 56.8 ms (started: 2021-04-16 04:34:05 +00:00)\n"
          ],
          "name": "stdout"
        }
      ]
    },
    {
      "cell_type": "markdown",
      "metadata": {
        "id": "Sj4xc1gTpm2X"
      },
      "source": [
        "\n",
        "\n",
        "---\n",
        "\n",
        "\n",
        "**Demographic Data**\n",
        "\n",
        "\n",
        "\n",
        "\n",
        "\n",
        "\n",
        "---\n",
        "\n"
      ]
    },
    {
      "cell_type": "code",
      "metadata": {
        "colab": {
          "base_uri": "https://localhost:8080/"
        },
        "id": "1SVVsXtuzqRf",
        "outputId": "9c51d354-c6c6-4055-c4ed-6d5be4aedbff"
      },
      "source": [
        "# Read poverty data\n",
        "# Read data into RDD\n",
        "df_demographic = spark.read.format('csv').option('header','true').option('quote',\"\\\"\").option('escape',\"\\\"\").load(str(path/city/'la.csv'))\n",
        "df_demographic.createOrReplaceTempView('demographic')\n",
        "df_demographic.show()"
      ],
      "execution_count": 18,
      "outputs": [
        {
          "output_type": "stream",
          "text": [
            "+------------+---------+------------------+------------------+\n",
            "|         cbg|pop_total|poverty_percentage|    perc_whiteonly|\n",
            "+------------+---------+------------------+------------------+\n",
            "|060373104003|     1286|17.884914463452567| 69.51788491446345|\n",
            "|060590865023|     2545|22.789783889980352| 85.34381139489194|\n",
            "|060376510024|     1285|               0.0|42.490272373540854|\n",
            "|060376511011|     2708| 7.745398773006134| 50.70162481536189|\n",
            "|060590994023|      672|12.969283276450511| 38.54166666666667|\n",
            "|060590995094|      342| 17.83625730994152| 77.48538011695906|\n",
            "|060376511012|     2483|2.6178010471204187|50.302053966975436|\n",
            "|060376512011|      859|2.8846153846153846| 82.42142025611176|\n",
            "|060376512012|     1179| 1.441899915182358|  74.1306191687871|\n",
            "|060376512014|      989|2.4266936299292214| 70.57633973710819|\n",
            "|060376512211|     3373|  9.95684340320592| 40.61666172546695|\n",
            "|060590995092|      938| 5.756929637526652|  84.9680170575693|\n",
            "|060590995095|      576|14.583333333333334|           73.4375|\n",
            "|060590995113|      577|10.918544194107453| 97.22703639514731|\n",
            "|060372164011|     2111|15.016579819990525| 82.42539081004263|\n",
            "|060372164012|     2315| 16.54427645788337| 79.87041036717063|\n",
            "|060372164021|     1611| 7.759155803848541| 80.57107386716325|\n",
            "|060375773004|     1501|10.459693537641572|   82.145236508994|\n",
            "|060375768021|     2320|16.786678667866788|61.594827586206904|\n",
            "|060375744006|      708|1.1299435028248588| 88.84180790960453|\n",
            "+------------+---------+------------------+------------------+\n",
            "only showing top 20 rows\n",
            "\n",
            "time: 892 ms (started: 2021-04-16 04:34:05 +00:00)\n"
          ],
          "name": "stdout"
        }
      ]
    },
    {
      "cell_type": "code",
      "metadata": {
        "colab": {
          "base_uri": "https://localhost:8080/"
        },
        "id": "Ff9bk8_6qBQ2",
        "outputId": "2f7e62f8-8d4f-4435-da0f-ea5d93dd798e"
      },
      "source": [
        "df_mob_demo = spark.sql('SELECT mobility.*, demographic.perc_whiteonly from mobility INNER JOIN demographic ON mobility.cbg = demographic.cbg')\n",
        "df_mob_demo.createOrReplaceTempView('demographic_mobility')\n",
        "df_mob_demo.show()\n"
      ],
      "execution_count": 19,
      "outputs": [
        {
          "output_type": "stream",
          "text": [
            "+------------+--------------------+------------+----------------------------+-------------------------------+-------------------------------+--------------------------+-------------------------+-------------------------+------------------+\n",
            "|         cbg|                date|device_count|completely_home_device_count|part_time_work_behavior_devices|full_time_work_behavior_devices|completely_home_percentage|part_time_work_percentage|full_time_work_percentage|    perc_whiteonly|\n",
            "+------------+--------------------+------------+----------------------------+-------------------------------+-------------------------------+--------------------------+-------------------------+-------------------------+------------------+\n",
            "|060371831013|2020-02-07T00:00:...|          45|                           6|                              1|                              1|        13.333333333333334|       2.2222222222222223|       2.2222222222222223| 71.91906805640711|\n",
            "|060374034022|2020-02-07T00:00:...|         155|                          24|                             12|                              4|        15.483870967741936|        7.741935483870968|       2.5806451612903225|28.503937007874015|\n",
            "|060375326041|2020-02-07T00:00:...|          31|                           4|                              6|                              2|        12.903225806451612|        19.35483870967742|        6.451612903225806|  60.0253807106599|\n",
            "|060375544031|2020-02-07T00:00:...|         130|                          27|                             16|                             10|         20.76923076923077|       12.307692307692308|       7.6923076923076925|18.263138278046963|\n",
            "|060375718003|2020-02-07T00:00:...|          35|                          10|                              4|                              1|         28.57142857142857|       11.428571428571429|        2.857142857142857|31.780167264038234|\n",
            "|060590018024|2020-02-07T00:00:...|          38|                          13|                              7|                              4|         34.21052631578947|       18.421052631578945|       10.526315789473683| 43.68295589988081|\n",
            "|060590320463|2020-02-07T00:00:...|         184|                          24|                             38|                             12|        13.043478260869565|       20.652173913043477|        6.521739130434782| 80.67078552515446|\n",
            "|060590626281|2020-02-07T00:00:...|         108|                          32|                              9|                              1|        29.629629629629626|        8.333333333333332|       0.9259259259259258|43.593875906526996|\n",
            "|060371374011|2020-02-07T00:00:...|          72|                          30|                              3|                              1|         41.66666666666667|        4.166666666666666|       1.3888888888888888| 78.08219178082192|\n",
            "|060372398012|2020-02-07T00:00:...|          41|                          15|                              1|                              4|         36.58536585365854|       2.4390243902439024|         9.75609756097561|33.691959229898075|\n",
            "|060373009011|2020-02-07T00:00:...|          82|                          20|                             16|                              6|        24.390243902439025|        19.51219512195122|        7.317073170731707|  76.7719298245614|\n",
            "|060375418021|2020-02-07T00:00:...|          49|                          12|                              3|                              4|        24.489795918367346|        6.122448979591836|         8.16326530612245| 76.82242990654206|\n",
            "|060375431003|2020-02-07T00:00:...|          37|                           5|                              1|                              2|        13.513513513513514|       2.7027027027027026|        5.405405405405405|35.853379152348225|\n",
            "|060376012021|2020-02-07T00:00:...|          56|                          14|                              1|                              4|                      25.0|       1.7857142857142856|        7.142857142857142| 53.85474860335195|\n",
            "|060379800211|2020-02-07T00:00:...|          50|                           3|                              3|                              1|                       6.0|                      6.0|                      2.0|               0.0|\n",
            "|060590871034|2020-02-07T00:00:...|          88|                          30|                              7|                              8|        34.090909090909086|        7.954545454545454|        9.090909090909092| 79.18978912319645|\n",
            "|060372713005|2020-02-07T00:00:...|          30|                           3|                              2|                              2|                      10.0|        6.666666666666667|        6.666666666666667| 51.24434389140271|\n",
            "|060372766041|2020-02-07T00:00:...|         137|                          24|                             20|                              8|         17.51824817518248|         14.5985401459854|        5.839416058394161| 53.90350877192982|\n",
            "|060374334012|2020-02-07T00:00:...|          35|                           6|                              6|                              2|        17.142857142857142|       17.142857142857142|        5.714285714285714| 55.18474374255066|\n",
            "|060375017003|2020-02-07T00:00:...|          38|                           6|                              4|                              1|        15.789473684210526|       10.526315789473683|        2.631578947368421| 74.67672413793103|\n",
            "+------------+--------------------+------------+----------------------------+-------------------------------+-------------------------------+--------------------------+-------------------------+-------------------------+------------------+\n",
            "only showing top 20 rows\n",
            "\n",
            "time: 1.54 s (started: 2021-04-16 04:34:06 +00:00)\n"
          ],
          "name": "stdout"
        }
      ]
    },
    {
      "cell_type": "code",
      "metadata": {
        "id": "6vFzCEtNukZy",
        "colab": {
          "base_uri": "https://localhost:8080/"
        },
        "outputId": "b8878e38-7304-4f88-911b-cee621f53946"
      },
      "source": [
        "# DIVIDING THE PEOPLE TOP 20 PERCENT AND BOTTOM 20 PERCENT\n",
        "\n",
        "df_mob_demo_high_class =  spark.sql('SELECT * FROM demographic_mobility WHERE perc_whiteonly > 80')\n",
        "grouped_df_mob_demo_high_class = df_mob_demo_high_class.groupBy(\"date\").mean(\"completely_home_percentage\").withColumnRenamed('avg(completely_home_percentage)','completely_home_percentage')\n",
        "grouped_df_mob_demo_high_class.createOrReplaceTempView('mob_demo_white_majority')\n",
        "\n",
        "\n",
        "df_mob_demo_low_class =  spark.sql('SELECT * FROM demographic_mobility WHERE perc_whiteonly < 20')\n",
        "grouped_df_mob_demo_low_class = df_mob_demo_low_class.groupBy(\"date\").mean(\"completely_home_percentage\").withColumnRenamed('avg(completely_home_percentage)','completely_home_percentage')\n",
        "grouped_df_mob_demo_low_class.createOrReplaceTempView('mob_demo_white_minority')\n",
        "\n",
        "\n",
        "\n",
        "grouped_df_mob_demo_combined = spark.sql(\"\"\"\n",
        "\n",
        "SELECT wh.date,wh.completely_home_percentage as high_comp_home_perc,\n",
        "wl.completely_home_percentage as low_comp_home_perc  \n",
        "FROM mob_demo_white_majority wh INNER JOIN mob_demo_white_minority wl ON wh.date = wl.date\n",
        "\n",
        "\"\"\")\n"
      ],
      "execution_count": 20,
      "outputs": [
        {
          "output_type": "stream",
          "text": [
            "time: 426 ms (started: 2021-04-16 04:34:08 +00:00)\n"
          ],
          "name": "stdout"
        }
      ]
    },
    {
      "cell_type": "code",
      "metadata": {
        "id": "oEvvbPFXJG_g",
        "colab": {
          "base_uri": "https://localhost:8080/"
        },
        "outputId": "7b06c804-c55b-4097-dc4e-1761b45753d6"
      },
      "source": [
        "#grouped_df_mob_demo_combined.show()\n"
      ],
      "execution_count": 21,
      "outputs": [
        {
          "output_type": "stream",
          "text": [
            "time: 927 µs (started: 2021-04-16 04:34:08 +00:00)\n"
          ],
          "name": "stdout"
        }
      ]
    },
    {
      "cell_type": "code",
      "metadata": {
        "colab": {
          "base_uri": "https://localhost:8080/",
          "height": 418
        },
        "id": "V4EHlNdfSVal",
        "outputId": "94722cc0-090f-4963-bc82-a051d314b68b"
      },
      "source": [
        "grouped_df_mob_demo_combined_pandas = grouped_df_mob_demo_combined.toPandas()\n",
        "grouped_df_mob_demo_combined_pandas"
      ],
      "execution_count": 22,
      "outputs": [
        {
          "output_type": "execute_result",
          "data": {
            "text/html": [
              "<div>\n",
              "<style scoped>\n",
              "    .dataframe tbody tr th:only-of-type {\n",
              "        vertical-align: middle;\n",
              "    }\n",
              "\n",
              "    .dataframe tbody tr th {\n",
              "        vertical-align: top;\n",
              "    }\n",
              "\n",
              "    .dataframe thead th {\n",
              "        text-align: right;\n",
              "    }\n",
              "</style>\n",
              "<table border=\"1\" class=\"dataframe\">\n",
              "  <thead>\n",
              "    <tr style=\"text-align: right;\">\n",
              "      <th></th>\n",
              "      <th>date</th>\n",
              "      <th>high_comp_home_perc</th>\n",
              "      <th>low_comp_home_perc</th>\n",
              "    </tr>\n",
              "  </thead>\n",
              "  <tbody>\n",
              "    <tr>\n",
              "      <th>0</th>\n",
              "      <td>2020-07-02T00:00:00-07:00</td>\n",
              "      <td>33.024489</td>\n",
              "      <td>41.119156</td>\n",
              "    </tr>\n",
              "    <tr>\n",
              "      <th>1</th>\n",
              "      <td>2020-11-13T00:00:00-08:00</td>\n",
              "      <td>27.363667</td>\n",
              "      <td>33.195375</td>\n",
              "    </tr>\n",
              "    <tr>\n",
              "      <th>2</th>\n",
              "      <td>2020-06-02T00:00:00-07:00</td>\n",
              "      <td>40.422056</td>\n",
              "      <td>46.124976</td>\n",
              "    </tr>\n",
              "    <tr>\n",
              "      <th>3</th>\n",
              "      <td>2020-06-04T00:00:00-07:00</td>\n",
              "      <td>34.011674</td>\n",
              "      <td>39.214923</td>\n",
              "    </tr>\n",
              "    <tr>\n",
              "      <th>4</th>\n",
              "      <td>2020-10-29T00:00:00-07:00</td>\n",
              "      <td>27.431963</td>\n",
              "      <td>32.490376</td>\n",
              "    </tr>\n",
              "    <tr>\n",
              "      <th>...</th>\n",
              "      <td>...</td>\n",
              "      <td>...</td>\n",
              "      <td>...</td>\n",
              "    </tr>\n",
              "    <tr>\n",
              "      <th>361</th>\n",
              "      <td>2020-04-28T00:00:00-07:00</td>\n",
              "      <td>42.465187</td>\n",
              "      <td>44.830043</td>\n",
              "    </tr>\n",
              "    <tr>\n",
              "      <th>362</th>\n",
              "      <td>2020-05-26T00:00:00-07:00</td>\n",
              "      <td>37.081699</td>\n",
              "      <td>41.830156</td>\n",
              "    </tr>\n",
              "    <tr>\n",
              "      <th>363</th>\n",
              "      <td>2020-06-13T00:00:00-07:00</td>\n",
              "      <td>32.776078</td>\n",
              "      <td>38.444930</td>\n",
              "    </tr>\n",
              "    <tr>\n",
              "      <th>364</th>\n",
              "      <td>2020-08-28T00:00:00-07:00</td>\n",
              "      <td>29.625158</td>\n",
              "      <td>36.695802</td>\n",
              "    </tr>\n",
              "    <tr>\n",
              "      <th>365</th>\n",
              "      <td>2020-11-28T00:00:00-08:00</td>\n",
              "      <td>29.282297</td>\n",
              "      <td>34.693595</td>\n",
              "    </tr>\n",
              "  </tbody>\n",
              "</table>\n",
              "<p>366 rows × 3 columns</p>\n",
              "</div>"
            ],
            "text/plain": [
              "                          date  high_comp_home_perc  low_comp_home_perc\n",
              "0    2020-07-02T00:00:00-07:00            33.024489           41.119156\n",
              "1    2020-11-13T00:00:00-08:00            27.363667           33.195375\n",
              "2    2020-06-02T00:00:00-07:00            40.422056           46.124976\n",
              "3    2020-06-04T00:00:00-07:00            34.011674           39.214923\n",
              "4    2020-10-29T00:00:00-07:00            27.431963           32.490376\n",
              "..                         ...                  ...                 ...\n",
              "361  2020-04-28T00:00:00-07:00            42.465187           44.830043\n",
              "362  2020-05-26T00:00:00-07:00            37.081699           41.830156\n",
              "363  2020-06-13T00:00:00-07:00            32.776078           38.444930\n",
              "364  2020-08-28T00:00:00-07:00            29.625158           36.695802\n",
              "365  2020-11-28T00:00:00-08:00            29.282297           34.693595\n",
              "\n",
              "[366 rows x 3 columns]"
            ]
          },
          "metadata": {
            "tags": []
          },
          "execution_count": 22
        },
        {
          "output_type": "stream",
          "text": [
            "time: 5min 51s (started: 2021-04-16 04:34:08 +00:00)\n"
          ],
          "name": "stdout"
        }
      ]
    },
    {
      "cell_type": "code",
      "metadata": {
        "id": "_qgAuW8GErIq"
      },
      "source": [
        ""
      ],
      "execution_count": 22,
      "outputs": []
    },
    {
      "cell_type": "markdown",
      "metadata": {
        "id": "stkLRnaXuzBm"
      },
      "source": [
        "---\n",
        "**Graph** \n",
        "\n",
        "---"
      ]
    },
    {
      "cell_type": "code",
      "metadata": {
        "colab": {
          "base_uri": "https://localhost:8080/",
          "height": 520
        },
        "id": "pTTAkF1Iwesw",
        "outputId": "6985d286-aa7b-41d8-effc-a2f4fa5e78c8"
      },
      "source": [
        "base = alt.Chart(grouped_df_mob_demo_combined_pandas.reset_index()).encode(x='date')\n",
        "\n",
        "alt.layer(\n",
        "    base.mark_line(color='blue').encode(y='high_comp_home_perc'),\n",
        "    \n",
        "    base.mark_line(color='red').encode(y='low_comp_home_perc')\n",
        "\n",
        ")"
      ],
      "execution_count": 23,
      "outputs": [
        {
          "output_type": "execute_result",
          "data": {
            "text/plain": [
              "alt.LayerChart(...)"
            ],
            "text/html": [
              "\n",
              "<div id=\"altair-viz-80e801aa8fc342cea9acc9ec979812e5\"></div>\n",
              "<script type=\"text/javascript\">\n",
              "  (function(spec, embedOpt){\n",
              "    let outputDiv = document.currentScript.previousElementSibling;\n",
              "    if (outputDiv.id !== \"altair-viz-80e801aa8fc342cea9acc9ec979812e5\") {\n",
              "      outputDiv = document.getElementById(\"altair-viz-80e801aa8fc342cea9acc9ec979812e5\");\n",
              "    }\n",
              "    const paths = {\n",
              "      \"vega\": \"https://cdn.jsdelivr.net/npm//vega@5?noext\",\n",
              "      \"vega-lib\": \"https://cdn.jsdelivr.net/npm//vega-lib?noext\",\n",
              "      \"vega-lite\": \"https://cdn.jsdelivr.net/npm//vega-lite@4.8.1?noext\",\n",
              "      \"vega-embed\": \"https://cdn.jsdelivr.net/npm//vega-embed@6?noext\",\n",
              "    };\n",
              "\n",
              "    function loadScript(lib) {\n",
              "      return new Promise(function(resolve, reject) {\n",
              "        var s = document.createElement('script');\n",
              "        s.src = paths[lib];\n",
              "        s.async = true;\n",
              "        s.onload = () => resolve(paths[lib]);\n",
              "        s.onerror = () => reject(`Error loading script: ${paths[lib]}`);\n",
              "        document.getElementsByTagName(\"head\")[0].appendChild(s);\n",
              "      });\n",
              "    }\n",
              "\n",
              "    function showError(err) {\n",
              "      outputDiv.innerHTML = `<div class=\"error\" style=\"color:red;\">${err}</div>`;\n",
              "      throw err;\n",
              "    }\n",
              "\n",
              "    function displayChart(vegaEmbed) {\n",
              "      vegaEmbed(outputDiv, spec, embedOpt)\n",
              "        .catch(err => showError(`Javascript Error: ${err.message}<br>This usually means there's a typo in your chart specification. See the javascript console for the full traceback.`));\n",
              "    }\n",
              "\n",
              "    if(typeof define === \"function\" && define.amd) {\n",
              "      requirejs.config({paths});\n",
              "      require([\"vega-embed\"], displayChart, err => showError(`Error loading script: ${err.message}`));\n",
              "    } else if (typeof vegaEmbed === \"function\") {\n",
              "      displayChart(vegaEmbed);\n",
              "    } else {\n",
              "      loadScript(\"vega\")\n",
              "        .then(() => loadScript(\"vega-lite\"))\n",
              "        .then(() => loadScript(\"vega-embed\"))\n",
              "        .catch(showError)\n",
              "        .then(() => displayChart(vegaEmbed));\n",
              "    }\n",
              "  })({\"config\": {\"view\": {\"continuousWidth\": 400, \"continuousHeight\": 300}}, \"layer\": [{\"mark\": {\"type\": \"line\", \"color\": \"blue\"}, \"encoding\": {\"x\": {\"type\": \"nominal\", \"field\": \"date\"}, \"y\": {\"type\": \"quantitative\", \"field\": \"high_comp_home_perc\"}}}, {\"mark\": {\"type\": \"line\", \"color\": \"red\"}, \"encoding\": {\"x\": {\"type\": \"nominal\", \"field\": \"date\"}, \"y\": {\"type\": \"quantitative\", \"field\": \"low_comp_home_perc\"}}}], \"data\": {\"name\": \"data-ff7cd6ac299c6bafe2cc375923c4ea1b\"}, \"$schema\": \"https://vega.github.io/schema/vega-lite/v4.8.1.json\", \"datasets\": {\"data-ff7cd6ac299c6bafe2cc375923c4ea1b\": [{\"index\": 0, \"date\": \"2020-07-02T00:00:00-07:00\", \"high_comp_home_perc\": 33.024489067995084, \"low_comp_home_perc\": 41.11915613425733}, {\"index\": 1, \"date\": \"2020-11-13T00:00:00-08:00\", \"high_comp_home_perc\": 27.363666686925395, \"low_comp_home_perc\": 33.19537478466356}, {\"index\": 2, \"date\": \"2020-06-02T00:00:00-07:00\", \"high_comp_home_perc\": 40.42205621628242, \"low_comp_home_perc\": 46.12497649971862}, {\"index\": 3, \"date\": \"2020-06-04T00:00:00-07:00\", \"high_comp_home_perc\": 34.01167436068817, \"low_comp_home_perc\": 39.21492315975107}, {\"index\": 4, \"date\": \"2020-10-29T00:00:00-07:00\", \"high_comp_home_perc\": 27.43196309271223, \"low_comp_home_perc\": 32.490375577957415}, {\"index\": 5, \"date\": \"2020-02-02T00:00:00-08:00\", \"high_comp_home_perc\": 26.924300447303043, \"low_comp_home_perc\": 31.903829498823843}, {\"index\": 6, \"date\": \"2020-07-16T00:00:00-07:00\", \"high_comp_home_perc\": 34.79819639384695, \"low_comp_home_perc\": 42.62923288959852}, {\"index\": 7, \"date\": \"2020-03-08T00:00:00-08:00\", \"high_comp_home_perc\": 27.240639464170904, \"low_comp_home_perc\": 32.78014387373509}, {\"index\": 8, \"date\": \"2020-09-12T00:00:00-07:00\", \"high_comp_home_perc\": 30.9656959947464, \"low_comp_home_perc\": 37.43879511607342}, {\"index\": 9, \"date\": \"2020-12-21T00:00:00-08:00\", \"high_comp_home_perc\": 27.746319424412512, \"low_comp_home_perc\": 33.32413484290229}, {\"index\": 10, \"date\": \"2020-03-04T00:00:00-08:00\", \"high_comp_home_perc\": 17.91947347883555, \"low_comp_home_perc\": 22.464249204124194}, {\"index\": 11, \"date\": \"2020-03-13T00:00:00-07:00\", \"high_comp_home_perc\": 22.647825730119205, \"low_comp_home_perc\": 25.89462251990287}, {\"index\": 12, \"date\": \"2020-07-10T00:00:00-07:00\", \"high_comp_home_perc\": 29.48371138872162, \"low_comp_home_perc\": 35.59045987186809}, {\"index\": 13, \"date\": \"2020-10-24T00:00:00-07:00\", \"high_comp_home_perc\": 27.822320829151785, \"low_comp_home_perc\": 32.46670413136684}, {\"index\": 14, \"date\": \"2020-06-24T00:00:00-07:00\", \"high_comp_home_perc\": 29.540246529656013, \"low_comp_home_perc\": 36.713600707559344}, {\"index\": 15, \"date\": \"2020-10-09T00:00:00-07:00\", \"high_comp_home_perc\": 28.27480775076941, \"low_comp_home_perc\": 34.16572869795578}, {\"index\": 16, \"date\": \"2020-07-14T00:00:00-07:00\", \"high_comp_home_perc\": 31.73835333453418, \"low_comp_home_perc\": 38.29197286075349}, {\"index\": 17, \"date\": \"2020-09-26T00:00:00-07:00\", \"high_comp_home_perc\": 27.70829414085046, \"low_comp_home_perc\": 34.7286073523473}, {\"index\": 18, \"date\": \"2020-10-04T00:00:00-07:00\", \"high_comp_home_perc\": 32.48248827301047, \"low_comp_home_perc\": 37.31108189715762}, {\"index\": 19, \"date\": \"2020-04-12T00:00:00-07:00\", \"high_comp_home_perc\": 56.406111692467455, \"low_comp_home_perc\": 56.94806384190138}, {\"index\": 20, \"date\": \"2020-06-19T00:00:00-07:00\", \"high_comp_home_perc\": 30.351481673312858, \"low_comp_home_perc\": 36.66985251548445}, {\"index\": 21, \"date\": \"2020-03-09T00:00:00-07:00\", \"high_comp_home_perc\": 20.22621028149049, \"low_comp_home_perc\": 24.840725815296334}, {\"index\": 22, \"date\": \"2020-12-24T00:00:00-08:00\", \"high_comp_home_perc\": 31.495841887433656, \"low_comp_home_perc\": 36.40503803757557}, {\"index\": 23, \"date\": \"2020-05-29T00:00:00-07:00\", \"high_comp_home_perc\": 33.42965304254028, \"low_comp_home_perc\": 37.69276611510855}, {\"index\": 24, \"date\": \"2020-09-20T00:00:00-07:00\", \"high_comp_home_perc\": 32.11278334990053, \"low_comp_home_perc\": 38.18639966281777}, {\"index\": 25, \"date\": \"2020-10-08T00:00:00-07:00\", \"high_comp_home_perc\": 29.890401859836533, \"low_comp_home_perc\": 34.583441849046196}, {\"index\": 26, \"date\": \"2020-02-05T00:00:00-08:00\", \"high_comp_home_perc\": 19.818194252568915, \"low_comp_home_perc\": 25.696459844999723}, {\"index\": 27, \"date\": \"2020-11-30T00:00:00-08:00\", \"high_comp_home_perc\": 32.63816048978246, \"low_comp_home_perc\": 37.4064080818546}, {\"index\": 28, \"date\": \"2020-01-25T00:00:00-08:00\", \"high_comp_home_perc\": 23.636173196107084, \"low_comp_home_perc\": 29.77822422678641}, {\"index\": 29, \"date\": \"2020-09-22T00:00:00-07:00\", \"high_comp_home_perc\": 30.79827475902416, \"low_comp_home_perc\": 37.28807102366078}, {\"index\": 30, \"date\": \"2020-04-15T00:00:00-07:00\", \"high_comp_home_perc\": 43.514350926113195, \"low_comp_home_perc\": 44.7111195841324}, {\"index\": 31, \"date\": \"2020-10-15T00:00:00-07:00\", \"high_comp_home_perc\": 28.36873945721389, \"low_comp_home_perc\": 33.68646881839322}, {\"index\": 32, \"date\": \"2020-05-19T00:00:00-07:00\", \"high_comp_home_perc\": 41.03036255208706, \"low_comp_home_perc\": 45.258758095933906}, {\"index\": 33, \"date\": \"2020-10-12T00:00:00-07:00\", \"high_comp_home_perc\": 30.91150076080022, \"low_comp_home_perc\": 34.9884299976076}, {\"index\": 34, \"date\": \"2020-11-21T00:00:00-08:00\", \"high_comp_home_perc\": 29.899810909689307, \"low_comp_home_perc\": 36.182064454293226}, {\"index\": 35, \"date\": \"2020-02-29T00:00:00-08:00\", \"high_comp_home_perc\": 19.541795460413727, \"low_comp_home_perc\": 23.013942992548547}, {\"index\": 36, \"date\": \"2020-05-01T00:00:00-07:00\", \"high_comp_home_perc\": 41.48193808901726, \"low_comp_home_perc\": 45.14546210488893}, {\"index\": 37, \"date\": \"2020-06-12T00:00:00-07:00\", \"high_comp_home_perc\": 32.03927863843243, \"low_comp_home_perc\": 39.51025861844918}, {\"index\": 38, \"date\": \"2020-08-26T00:00:00-07:00\", \"high_comp_home_perc\": 31.87110366810743, \"low_comp_home_perc\": 37.731286395725085}, {\"index\": 39, \"date\": \"2020-10-20T00:00:00-07:00\", \"high_comp_home_perc\": 29.669817991356307, \"low_comp_home_perc\": 34.987511477177314}, {\"index\": 40, \"date\": \"2020-10-31T00:00:00-07:00\", \"high_comp_home_perc\": 25.58587240296222, \"low_comp_home_perc\": 30.714250437104393}, {\"index\": 41, \"date\": \"2020-06-14T00:00:00-07:00\", \"high_comp_home_perc\": 33.90913931918698, \"low_comp_home_perc\": 41.635906616880725}, {\"index\": 42, \"date\": \"2020-06-30T00:00:00-07:00\", \"high_comp_home_perc\": 30.962367007937154, \"low_comp_home_perc\": 36.81558244855954}, {\"index\": 43, \"date\": \"2020-08-03T00:00:00-07:00\", \"high_comp_home_perc\": 33.30790374808658, \"low_comp_home_perc\": 39.850237424293205}, {\"index\": 44, \"date\": \"2020-08-11T00:00:00-07:00\", \"high_comp_home_perc\": 30.904937299741672, \"low_comp_home_perc\": 38.268370253307175}, {\"index\": 45, \"date\": \"2020-08-24T00:00:00-07:00\", \"high_comp_home_perc\": 33.28679573968427, \"low_comp_home_perc\": 39.84666008253335}, {\"index\": 46, \"date\": \"2020-09-27T00:00:00-07:00\", \"high_comp_home_perc\": 31.344645933466133, \"low_comp_home_perc\": 37.14877407071672}, {\"index\": 47, \"date\": \"2020-03-24T00:00:00-07:00\", \"high_comp_home_perc\": 44.431886834966924, \"low_comp_home_perc\": 43.95605430759778}, {\"index\": 48, \"date\": \"2020-09-02T00:00:00-07:00\", \"high_comp_home_perc\": 29.037494280857153, \"low_comp_home_perc\": 34.62424019180143}, {\"index\": 49, \"date\": \"2020-12-25T00:00:00-08:00\", \"high_comp_home_perc\": 39.12264279225238, \"low_comp_home_perc\": 40.98145264750274}, {\"index\": 50, \"date\": \"2020-01-29T00:00:00-08:00\", \"high_comp_home_perc\": 16.00837680892309, \"low_comp_home_perc\": 20.759886361278127}, {\"index\": 51, \"date\": \"2020-04-22T00:00:00-07:00\", \"high_comp_home_perc\": 42.074309976424495, \"low_comp_home_perc\": 43.98855652373225}, {\"index\": 52, \"date\": \"2020-03-01T00:00:00-08:00\", \"high_comp_home_perc\": 27.696358226306856, \"low_comp_home_perc\": 31.485068075192366}, {\"index\": 53, \"date\": \"2020-08-04T00:00:00-07:00\", \"high_comp_home_perc\": 31.063527444027862, \"low_comp_home_perc\": 38.029591561897654}, {\"index\": 54, \"date\": \"2020-12-15T00:00:00-08:00\", \"high_comp_home_perc\": 31.865040227128404, \"low_comp_home_perc\": 36.74917343761686}, {\"index\": 55, \"date\": \"2020-01-12T00:00:00-08:00\", \"high_comp_home_perc\": 24.552649725119387, \"low_comp_home_perc\": 29.525619231123407}, {\"index\": 56, \"date\": \"2020-11-25T00:00:00-08:00\", \"high_comp_home_perc\": 27.876141421998135, \"low_comp_home_perc\": 32.47313066108469}, {\"index\": 57, \"date\": \"2020-08-07T00:00:00-07:00\", \"high_comp_home_perc\": 28.11469731013183, \"low_comp_home_perc\": 35.72475379550026}, {\"index\": 58, \"date\": \"2020-12-12T00:00:00-08:00\", \"high_comp_home_perc\": 33.26559854590522, \"low_comp_home_perc\": 39.16216298308179}, {\"index\": 59, \"date\": \"2020-02-12T00:00:00-08:00\", \"high_comp_home_perc\": 18.397672838166162, \"low_comp_home_perc\": 24.431412900560737}, {\"index\": 60, \"date\": \"2020-01-13T00:00:00-08:00\", \"high_comp_home_perc\": 18.883320806998327, \"low_comp_home_perc\": 24.569905388147475}, {\"index\": 61, \"date\": \"2020-02-01T00:00:00-08:00\", \"high_comp_home_perc\": 20.660396125677536, \"low_comp_home_perc\": 26.868702363260567}, {\"index\": 62, \"date\": \"2020-03-19T00:00:00-07:00\", \"high_comp_home_perc\": 37.367640266361896, \"low_comp_home_perc\": 35.80372484915833}, {\"index\": 63, \"date\": \"2020-05-05T00:00:00-07:00\", \"high_comp_home_perc\": 41.65970167754354, \"low_comp_home_perc\": 46.11042578294587}, {\"index\": 64, \"date\": \"2020-05-10T00:00:00-07:00\", \"high_comp_home_perc\": 39.16897006109069, \"low_comp_home_perc\": 44.45227574683743}, {\"index\": 65, \"date\": \"2020-06-16T00:00:00-07:00\", \"high_comp_home_perc\": 35.00329226981809, \"low_comp_home_perc\": 41.89425462804235}, {\"index\": 66, \"date\": \"2020-10-11T00:00:00-07:00\", \"high_comp_home_perc\": 33.3354681771873, \"low_comp_home_perc\": 39.03962899423558}, {\"index\": 67, \"date\": \"2020-10-17T00:00:00-07:00\", \"high_comp_home_perc\": 28.433271261916847, \"low_comp_home_perc\": 34.13537024469997}, {\"index\": 68, \"date\": \"2020-10-19T00:00:00-07:00\", \"high_comp_home_perc\": 30.256634576362693, \"low_comp_home_perc\": 34.068132235600764}, {\"index\": 69, \"date\": \"2020-11-23T00:00:00-08:00\", \"high_comp_home_perc\": 28.678558214214238, \"low_comp_home_perc\": 34.03392379089933}, {\"index\": 70, \"date\": \"2020-02-04T00:00:00-08:00\", \"high_comp_home_perc\": 20.43923363085595, \"low_comp_home_perc\": 25.877868476226414}, {\"index\": 71, \"date\": \"2020-04-06T00:00:00-07:00\", \"high_comp_home_perc\": 52.57006674184503, \"low_comp_home_perc\": 51.721532363183606}, {\"index\": 72, \"date\": \"2020-03-14T00:00:00-07:00\", \"high_comp_home_perc\": 30.28519938442016, \"low_comp_home_perc\": 33.26769312045217}, {\"index\": 73, \"date\": \"2020-05-25T00:00:00-07:00\", \"high_comp_home_perc\": 40.13858788281338, \"low_comp_home_perc\": 46.42422957809603}, {\"index\": 74, \"date\": \"2020-06-23T00:00:00-07:00\", \"high_comp_home_perc\": 30.4590848805636, \"low_comp_home_perc\": 36.576384541400266}, {\"index\": 75, \"date\": \"2020-03-11T00:00:00-07:00\", \"high_comp_home_perc\": 18.656097262762625, \"low_comp_home_perc\": 23.260542950816575}, {\"index\": 76, \"date\": \"2020-03-26T00:00:00-07:00\", \"high_comp_home_perc\": 43.9305331592961, \"low_comp_home_perc\": 43.53122783661038}, {\"index\": 77, \"date\": \"2020-08-12T00:00:00-07:00\", \"high_comp_home_perc\": 29.661839811309147, \"low_comp_home_perc\": 35.8931483724362}, {\"index\": 78, \"date\": \"2020-03-10T00:00:00-07:00\", \"high_comp_home_perc\": 19.71866457295295, \"low_comp_home_perc\": 24.874403365670243}, {\"index\": 79, \"date\": \"2020-07-19T00:00:00-07:00\", \"high_comp_home_perc\": 35.11712020995872, \"low_comp_home_perc\": 43.66073683721702}, {\"index\": 80, \"date\": \"2020-10-02T00:00:00-07:00\", \"high_comp_home_perc\": 26.929745101042023, \"low_comp_home_perc\": 33.088329984236616}, {\"index\": 81, \"date\": \"2020-03-30T00:00:00-07:00\", \"high_comp_home_perc\": 46.273194535453364, \"low_comp_home_perc\": 45.64611658352046}, {\"index\": 82, \"date\": \"2020-11-19T00:00:00-08:00\", \"high_comp_home_perc\": 27.427458714197314, \"low_comp_home_perc\": 32.15279003822257}, {\"index\": 83, \"date\": \"2020-03-29T00:00:00-07:00\", \"high_comp_home_perc\": 45.84455426789107, \"low_comp_home_perc\": 46.94582580667213}, {\"index\": 84, \"date\": \"2020-04-19T00:00:00-07:00\", \"high_comp_home_perc\": 48.93041859877737, \"low_comp_home_perc\": 52.98938881787712}, {\"index\": 85, \"date\": \"2020-12-26T00:00:00-08:00\", \"high_comp_home_perc\": 34.290316023369996, \"low_comp_home_perc\": 39.12843967973257}, {\"index\": 86, \"date\": \"2020-01-06T00:00:00-08:00\", \"high_comp_home_perc\": 21.98750711682521, \"low_comp_home_perc\": 27.28637819675315}, {\"index\": 87, \"date\": \"2020-06-29T00:00:00-07:00\", \"high_comp_home_perc\": 32.51570094546671, \"low_comp_home_perc\": 37.7312116059451}, {\"index\": 88, \"date\": \"2020-08-25T00:00:00-07:00\", \"high_comp_home_perc\": 29.760975081598286, \"low_comp_home_perc\": 35.66244657681179}, {\"index\": 89, \"date\": \"2020-01-04T00:00:00-08:00\", \"high_comp_home_perc\": 23.824387544246004, \"low_comp_home_perc\": 28.893030925806404}, {\"index\": 90, \"date\": \"2020-03-12T00:00:00-07:00\", \"high_comp_home_perc\": 22.53085306065057, \"low_comp_home_perc\": 26.84982665554238}, {\"index\": 91, \"date\": \"2020-04-02T00:00:00-07:00\", \"high_comp_home_perc\": 47.74721698483479, \"low_comp_home_perc\": 48.61462054292191}, {\"index\": 92, \"date\": \"2020-07-18T00:00:00-07:00\", \"high_comp_home_perc\": 31.657017459456615, \"low_comp_home_perc\": 38.76553506576487}, {\"index\": 93, \"date\": \"2020-05-22T00:00:00-07:00\", \"high_comp_home_perc\": 36.59162435348239, \"low_comp_home_perc\": 41.646982353635615}, {\"index\": 94, \"date\": \"2020-01-14T00:00:00-08:00\", \"high_comp_home_perc\": 18.252969292946442, \"low_comp_home_perc\": 24.043309699237483}, {\"index\": 95, \"date\": \"2020-11-07T00:00:00-08:00\", \"high_comp_home_perc\": 30.322833484007266, \"low_comp_home_perc\": 36.26648005853745}, {\"index\": 96, \"date\": \"2020-12-29T00:00:00-08:00\", \"high_comp_home_perc\": 29.892409733726478, \"low_comp_home_perc\": 35.37273346072061}, {\"index\": 97, \"date\": \"2020-11-15T00:00:00-08:00\", \"high_comp_home_perc\": 31.196936193163328, \"low_comp_home_perc\": 36.241619016983904}, {\"index\": 98, \"date\": \"2020-03-07T00:00:00-08:00\", \"high_comp_home_perc\": 21.158259906218593, \"low_comp_home_perc\": 26.6627445753821}, {\"index\": 99, \"date\": \"2020-04-25T00:00:00-07:00\", \"high_comp_home_perc\": 43.38653983446805, \"low_comp_home_perc\": 47.50238722372638}, {\"index\": 100, \"date\": \"2020-04-26T00:00:00-07:00\", \"high_comp_home_perc\": 43.27906831120686, \"low_comp_home_perc\": 46.470103382704735}, {\"index\": 101, \"date\": \"2020-08-29T00:00:00-07:00\", \"high_comp_home_perc\": 26.924120185598266, \"low_comp_home_perc\": 33.09980006911376}, {\"index\": 102, \"date\": \"2020-11-16T00:00:00-08:00\", \"high_comp_home_perc\": 32.72469811942767, \"low_comp_home_perc\": 37.61389855083733}, {\"index\": 103, \"date\": \"2020-10-16T00:00:00-07:00\", \"high_comp_home_perc\": 27.039320124256303, \"low_comp_home_perc\": 32.0236342395924}, {\"index\": 104, \"date\": \"2020-05-11T00:00:00-07:00\", \"high_comp_home_perc\": 44.838031511467314, \"low_comp_home_perc\": 48.246179140877985}, {\"index\": 105, \"date\": \"2020-05-12T00:00:00-07:00\", \"high_comp_home_perc\": 41.55291225475238, \"low_comp_home_perc\": 45.00153978159392}, {\"index\": 106, \"date\": \"2020-10-13T00:00:00-07:00\", \"high_comp_home_perc\": 30.271910536714245, \"low_comp_home_perc\": 35.861149224836694}, {\"index\": 107, \"date\": \"2020-12-06T00:00:00-08:00\", \"high_comp_home_perc\": 33.61607522279051, \"low_comp_home_perc\": 38.31684667756156}, {\"index\": 108, \"date\": \"2020-01-21T00:00:00-08:00\", \"high_comp_home_perc\": 17.106946322529613, \"low_comp_home_perc\": 21.84959344833059}, {\"index\": 109, \"date\": \"2020-12-31T00:00:00-08:00\", \"high_comp_home_perc\": 29.83125823425768, \"low_comp_home_perc\": 35.18999808570443}, {\"index\": 110, \"date\": \"2020-01-08T00:00:00-08:00\", \"high_comp_home_perc\": 19.781478486637614, \"low_comp_home_perc\": 25.43941104671689}, {\"index\": 111, \"date\": \"2020-02-18T00:00:00-08:00\", \"high_comp_home_perc\": 18.36594166030054, \"low_comp_home_perc\": 23.735195522876268}, {\"index\": 112, \"date\": \"2020-04-10T00:00:00-07:00\", \"high_comp_home_perc\": 46.14024078994196, \"low_comp_home_perc\": 46.64981894071058}, {\"index\": 113, \"date\": \"2020-07-22T00:00:00-07:00\", \"high_comp_home_perc\": 32.632154140520655, \"low_comp_home_perc\": 39.506598462897266}, {\"index\": 114, \"date\": \"2020-08-13T00:00:00-07:00\", \"high_comp_home_perc\": 30.649639961926805, \"low_comp_home_perc\": 37.63929954905642}, {\"index\": 115, \"date\": \"2020-09-18T00:00:00-07:00\", \"high_comp_home_perc\": 29.5565827778938, \"low_comp_home_perc\": 35.57283068790696}, {\"index\": 116, \"date\": \"2020-09-01T00:00:00-07:00\", \"high_comp_home_perc\": 29.833727327044368, \"low_comp_home_perc\": 35.33375104430601}, {\"index\": 117, \"date\": \"2020-09-24T00:00:00-07:00\", \"high_comp_home_perc\": 30.862713625348135, \"low_comp_home_perc\": 36.68225640483778}, {\"index\": 118, \"date\": \"2020-08-08T00:00:00-07:00\", \"high_comp_home_perc\": 30.282311794623215, \"low_comp_home_perc\": 36.91318946499532}, {\"index\": 119, \"date\": \"2020-11-26T00:00:00-08:00\", \"high_comp_home_perc\": 36.199723484922025, \"low_comp_home_perc\": 39.30644923067046}, {\"index\": 120, \"date\": \"2020-04-23T00:00:00-07:00\", \"high_comp_home_perc\": 41.42372207712449, \"low_comp_home_perc\": 42.55521456364802}, {\"index\": 121, \"date\": \"2020-04-03T00:00:00-07:00\", \"high_comp_home_perc\": 45.22808986225946, \"low_comp_home_perc\": 46.57295525451168}, {\"index\": 122, \"date\": \"2020-07-03T00:00:00-07:00\", \"high_comp_home_perc\": 31.2744261215848, \"low_comp_home_perc\": 37.16149277555325}, {\"index\": 123, \"date\": \"2020-09-11T00:00:00-07:00\", \"high_comp_home_perc\": 30.03110944628025, \"low_comp_home_perc\": 36.14852757600224}, {\"index\": 124, \"date\": \"2020-08-23T00:00:00-07:00\", \"high_comp_home_perc\": 32.92347092165068, \"low_comp_home_perc\": 38.43380645140901}, {\"index\": 125, \"date\": \"2020-12-13T00:00:00-08:00\", \"high_comp_home_perc\": 34.43307973551255, \"low_comp_home_perc\": 38.10286142435896}, {\"index\": 126, \"date\": \"2020-08-09T00:00:00-07:00\", \"high_comp_home_perc\": 32.90752523666353, \"low_comp_home_perc\": 39.670030064855204}, {\"index\": 127, \"date\": \"2020-10-28T00:00:00-07:00\", \"high_comp_home_perc\": 29.765425308971306, \"low_comp_home_perc\": 35.00199289848416}, {\"index\": 128, \"date\": \"2020-06-06T00:00:00-07:00\", \"high_comp_home_perc\": 32.8376342524568, \"low_comp_home_perc\": 38.6443807424651}, {\"index\": 129, \"date\": \"2020-06-28T00:00:00-07:00\", \"high_comp_home_perc\": 35.45446282935728, \"low_comp_home_perc\": 41.873908497469216}, {\"index\": 130, \"date\": \"2020-01-07T00:00:00-08:00\", \"high_comp_home_perc\": 20.29506743615615, \"low_comp_home_perc\": 25.44250008968327}, {\"index\": 131, \"date\": \"2020-03-31T00:00:00-07:00\", \"high_comp_home_perc\": 44.9087311541548, \"low_comp_home_perc\": 45.828455486021895}, {\"index\": 132, \"date\": \"2020-11-06T00:00:00-08:00\", \"high_comp_home_perc\": 26.173271793085924, \"low_comp_home_perc\": 31.94291784552298}, {\"index\": 133, \"date\": \"2020-07-15T00:00:00-07:00\", \"high_comp_home_perc\": 31.84812176670716, \"low_comp_home_perc\": 38.476044633046335}, {\"index\": 134, \"date\": \"2020-07-21T00:00:00-07:00\", \"high_comp_home_perc\": 33.79835475745741, \"low_comp_home_perc\": 41.44600239711744}, {\"index\": 135, \"date\": \"2020-07-28T00:00:00-07:00\", \"high_comp_home_perc\": 30.624396563953184, \"low_comp_home_perc\": 38.568476828872356}, {\"index\": 136, \"date\": \"2020-09-13T00:00:00-07:00\", \"high_comp_home_perc\": 34.04420915562123, \"low_comp_home_perc\": 39.505127091677586}, {\"index\": 137, \"date\": \"2020-12-23T00:00:00-08:00\", \"high_comp_home_perc\": 28.48796972966899, \"low_comp_home_perc\": 34.41238662525077}, {\"index\": 138, \"date\": \"2020-08-22T00:00:00-07:00\", \"high_comp_home_perc\": 30.1373595756061, \"low_comp_home_perc\": 35.28991556628219}, {\"index\": 139, \"date\": \"2020-09-23T00:00:00-07:00\", \"high_comp_home_perc\": 29.12077843287106, \"low_comp_home_perc\": 35.97663968104063}, {\"index\": 140, \"date\": \"2020-10-30T00:00:00-07:00\", \"high_comp_home_perc\": 24.54605782807736, \"low_comp_home_perc\": 29.791128831509862}, {\"index\": 141, \"date\": \"2020-11-09T00:00:00-08:00\", \"high_comp_home_perc\": 31.959255632593344, \"low_comp_home_perc\": 37.88561964771409}, {\"index\": 142, \"date\": \"2020-12-30T00:00:00-08:00\", \"high_comp_home_perc\": 30.240007692713284, \"low_comp_home_perc\": 35.80402932842411}, {\"index\": 143, \"date\": \"2020-01-27T00:00:00-08:00\", \"high_comp_home_perc\": 19.040193772309046, \"low_comp_home_perc\": 22.82837935994147}, {\"index\": 144, \"date\": \"2020-07-26T00:00:00-07:00\", \"high_comp_home_perc\": 33.554958837126435, \"low_comp_home_perc\": 41.03576893034609}, {\"index\": 145, \"date\": \"2020-09-04T00:00:00-07:00\", \"high_comp_home_perc\": 28.424785134539107, \"low_comp_home_perc\": 35.27998555239178}, {\"index\": 146, \"date\": \"2020-12-19T00:00:00-08:00\", \"high_comp_home_perc\": 31.994005200109534, \"low_comp_home_perc\": 37.702322532909946}, {\"index\": 147, \"date\": \"2020-06-18T00:00:00-07:00\", \"high_comp_home_perc\": 32.2405640372514, \"low_comp_home_perc\": 39.242889933596565}, {\"index\": 148, \"date\": \"2020-08-20T00:00:00-07:00\", \"high_comp_home_perc\": 29.61018475429599, \"low_comp_home_perc\": 35.60105504830081}, {\"index\": 149, \"date\": \"2020-10-01T00:00:00-07:00\", \"high_comp_home_perc\": 26.314410868359513, \"low_comp_home_perc\": 31.247020924953144}, {\"index\": 150, \"date\": \"2020-09-16T00:00:00-07:00\", \"high_comp_home_perc\": 32.26854840754162, \"low_comp_home_perc\": 37.510170003465895}, {\"index\": 151, \"date\": \"2020-03-15T00:00:00-07:00\", \"high_comp_home_perc\": 33.264311785407074, \"low_comp_home_perc\": 35.80448384936849}, {\"index\": 152, \"date\": \"2020-03-25T00:00:00-07:00\", \"high_comp_home_perc\": 41.618952065105645, \"low_comp_home_perc\": 40.15382835908204}, {\"index\": 153, \"date\": \"2020-12-20T00:00:00-08:00\", \"high_comp_home_perc\": 31.843678377425086, \"low_comp_home_perc\": 37.455188347499245}, {\"index\": 154, \"date\": \"2020-12-28T00:00:00-08:00\", \"high_comp_home_perc\": 38.81700485630929, \"low_comp_home_perc\": 45.24762358176225}, {\"index\": 155, \"date\": \"2020-04-01T00:00:00-07:00\", \"high_comp_home_perc\": 47.72000307566669, \"low_comp_home_perc\": 47.78784599715216}, {\"index\": 156, \"date\": \"2020-04-27T00:00:00-07:00\", \"high_comp_home_perc\": 45.25219161041773, \"low_comp_home_perc\": 47.21724332938934}, {\"index\": 157, \"date\": \"2020-06-21T00:00:00-07:00\", \"high_comp_home_perc\": 32.91798823703338, \"low_comp_home_perc\": 39.52990830474246}, {\"index\": 158, \"date\": \"2020-11-08T00:00:00-08:00\", \"high_comp_home_perc\": 31.12226958781227, \"low_comp_home_perc\": 34.929025469371496}, {\"index\": 159, \"date\": \"2020-12-09T00:00:00-08:00\", \"high_comp_home_perc\": 32.79662425115418, \"low_comp_home_perc\": 37.85067855215615}, {\"index\": 160, \"date\": \"2020-01-10T00:00:00-08:00\", \"high_comp_home_perc\": 18.341282453842254, \"low_comp_home_perc\": 23.84993315425781}, {\"index\": 161, \"date\": \"2020-04-07T00:00:00-07:00\", \"high_comp_home_perc\": 52.469108240014, \"low_comp_home_perc\": 52.216354097982254}, {\"index\": 162, \"date\": \"2020-05-18T00:00:00-07:00\", \"high_comp_home_perc\": 43.10980202417621, \"low_comp_home_perc\": 46.099168040925846}, {\"index\": 163, \"date\": \"2020-05-27T00:00:00-07:00\", \"high_comp_home_perc\": 37.66710031173096, \"low_comp_home_perc\": 42.48636832157009}, {\"index\": 164, \"date\": \"2020-10-03T00:00:00-07:00\", \"high_comp_home_perc\": 27.919494564760893, \"low_comp_home_perc\": 32.80405749145182}, {\"index\": 165, \"date\": \"2020-01-15T00:00:00-08:00\", \"high_comp_home_perc\": 17.902125447436212, \"low_comp_home_perc\": 23.78653905145227}, {\"index\": 166, \"date\": \"2020-03-06T00:00:00-08:00\", \"high_comp_home_perc\": 19.212059096393798, \"low_comp_home_perc\": 23.803593615066767}, {\"index\": 167, \"date\": \"2020-07-09T00:00:00-07:00\", \"high_comp_home_perc\": 32.8446189216324, \"low_comp_home_perc\": 40.27403723302553}, {\"index\": 168, \"date\": \"2020-12-01T00:00:00-08:00\", \"high_comp_home_perc\": 31.730212589909936, \"low_comp_home_perc\": 36.522550657588525}, {\"index\": 169, \"date\": \"2020-06-10T00:00:00-07:00\", \"high_comp_home_perc\": 33.994841157594756, \"low_comp_home_perc\": 41.03033722443189}, {\"index\": 170, \"date\": \"2020-07-06T00:00:00-07:00\", \"high_comp_home_perc\": 34.489032236937334, \"low_comp_home_perc\": 40.295641676796826}, {\"index\": 171, \"date\": \"2020-05-23T00:00:00-07:00\", \"high_comp_home_perc\": 34.97559149745496, \"low_comp_home_perc\": 41.47359286811131}, {\"index\": 172, \"date\": \"2020-07-23T00:00:00-07:00\", \"high_comp_home_perc\": 30.39150128366026, \"low_comp_home_perc\": 36.7757099204648}, {\"index\": 173, \"date\": \"2020-02-15T00:00:00-08:00\", \"high_comp_home_perc\": 20.83520299485195, \"low_comp_home_perc\": 25.178847355045765}, {\"index\": 174, \"date\": \"2020-01-01T00:00:00-08:00\", \"high_comp_home_perc\": 28.581771089174318, \"low_comp_home_perc\": 32.935645275592826}, {\"index\": 175, \"date\": \"2020-01-20T00:00:00-08:00\", \"high_comp_home_perc\": 21.786118662252587, \"low_comp_home_perc\": 28.079058284491783}, {\"index\": 176, \"date\": \"2020-05-24T00:00:00-07:00\", \"high_comp_home_perc\": 36.69072969780753, \"low_comp_home_perc\": 43.388919953585116}, {\"index\": 177, \"date\": \"2020-07-31T00:00:00-07:00\", \"high_comp_home_perc\": 27.043580513880546, \"low_comp_home_perc\": 34.42708344012421}, {\"index\": 178, \"date\": \"2020-09-14T00:00:00-07:00\", \"high_comp_home_perc\": 33.30420573496573, \"low_comp_home_perc\": 38.063566275099475}, {\"index\": 179, \"date\": \"2020-07-01T00:00:00-07:00\", \"high_comp_home_perc\": 32.40277462148896, \"low_comp_home_perc\": 38.77903014573973}, {\"index\": 180, \"date\": \"2020-07-04T00:00:00-07:00\", \"high_comp_home_perc\": 35.37537591924567, \"low_comp_home_perc\": 42.52262075709476}, {\"index\": 181, \"date\": \"2020-07-12T00:00:00-07:00\", \"high_comp_home_perc\": 35.70244318529623, \"low_comp_home_perc\": 42.03238216501808}, {\"index\": 182, \"date\": \"2020-12-03T00:00:00-08:00\", \"high_comp_home_perc\": 31.738905831322942, \"low_comp_home_perc\": 36.673248314624004}, {\"index\": 183, \"date\": \"2020-02-28T00:00:00-08:00\", \"high_comp_home_perc\": 17.129006912108363, \"low_comp_home_perc\": 20.913032719341928}, {\"index\": 184, \"date\": \"2020-10-27T00:00:00-07:00\", \"high_comp_home_perc\": 31.550667281379518, \"low_comp_home_perc\": 35.351934144874676}, {\"index\": 185, \"date\": \"2020-04-14T00:00:00-07:00\", \"high_comp_home_perc\": 45.21153824719263, \"low_comp_home_perc\": 47.08930815023418}, {\"index\": 186, \"date\": \"2020-05-06T00:00:00-07:00\", \"high_comp_home_perc\": 44.138166239598796, \"low_comp_home_perc\": 46.67245182268124}, {\"index\": 187, \"date\": \"2020-06-01T00:00:00-07:00\", \"high_comp_home_perc\": 40.47750145843805, \"low_comp_home_perc\": 44.51926647564045}, {\"index\": 188, \"date\": \"2020-09-03T00:00:00-07:00\", \"high_comp_home_perc\": 30.535544610124106, \"low_comp_home_perc\": 35.657522350540866}, {\"index\": 189, \"date\": \"2020-03-16T00:00:00-07:00\", \"high_comp_home_perc\": 35.21711751749161, \"low_comp_home_perc\": 36.57120639217626}, {\"index\": 190, \"date\": \"2020-05-07T00:00:00-07:00\", \"high_comp_home_perc\": 42.56150050745113, \"low_comp_home_perc\": 46.716560064047975}, {\"index\": 191, \"date\": \"2020-07-08T00:00:00-07:00\", \"high_comp_home_perc\": 31.712317220567055, \"low_comp_home_perc\": 38.060073686037015}, {\"index\": 192, \"date\": \"2020-08-05T00:00:00-07:00\", \"high_comp_home_perc\": 29.98706756901217, \"low_comp_home_perc\": 37.06763885906309}, {\"index\": 193, \"date\": \"2020-11-01T00:00:00-07:00\", \"high_comp_home_perc\": 30.676015765071956, \"low_comp_home_perc\": 34.8154414761501}, {\"index\": 194, \"date\": \"2020-09-05T00:00:00-07:00\", \"high_comp_home_perc\": 30.655953642886395, \"low_comp_home_perc\": 35.559808766855596}, {\"index\": 195, \"date\": \"2020-11-14T00:00:00-08:00\", \"high_comp_home_perc\": 26.101365172743243, \"low_comp_home_perc\": 30.946422401725442}, {\"index\": 196, \"date\": \"2020-12-14T00:00:00-08:00\", \"high_comp_home_perc\": 35.16395350190932, \"low_comp_home_perc\": 38.48163838367434}, {\"index\": 197, \"date\": \"2020-06-17T00:00:00-07:00\", \"high_comp_home_perc\": 32.120908098396285, \"low_comp_home_perc\": 38.859211547683294}, {\"index\": 198, \"date\": \"2020-11-29T00:00:00-08:00\", \"high_comp_home_perc\": 34.723414226033206, \"low_comp_home_perc\": 39.97364812748097}, {\"index\": 199, \"date\": \"2020-05-16T00:00:00-07:00\", \"high_comp_home_perc\": 37.41635703025649, \"low_comp_home_perc\": 42.736104817842694}, {\"index\": 200, \"date\": \"2020-01-05T00:00:00-08:00\", \"high_comp_home_perc\": 28.652092469532242, \"low_comp_home_perc\": 32.95569862264488}, {\"index\": 201, \"date\": \"2020-03-28T00:00:00-07:00\", \"high_comp_home_perc\": 42.993152661910976, \"low_comp_home_perc\": 44.37947389137107}, {\"index\": 202, \"date\": \"2020-09-10T00:00:00-07:00\", \"high_comp_home_perc\": 32.95697200762789, \"low_comp_home_perc\": 38.43455772045757}, {\"index\": 203, \"date\": \"2020-04-16T00:00:00-07:00\", \"high_comp_home_perc\": 44.60734173467594, \"low_comp_home_perc\": 46.451450985022845}, {\"index\": 204, \"date\": \"2020-08-18T00:00:00-07:00\", \"high_comp_home_perc\": 30.92009107581143, \"low_comp_home_perc\": 36.91517353353451}, {\"index\": 205, \"date\": \"2020-09-28T00:00:00-07:00\", \"high_comp_home_perc\": 30.200656049090515, \"low_comp_home_perc\": 35.234190389657044}, {\"index\": 206, \"date\": \"2020-01-18T00:00:00-08:00\", \"high_comp_home_perc\": 20.542942123123172, \"low_comp_home_perc\": 26.084300833704532}, {\"index\": 207, \"date\": \"2020-02-10T00:00:00-08:00\", \"high_comp_home_perc\": 20.98897340569244, \"low_comp_home_perc\": 26.681084775912442}, {\"index\": 208, \"date\": \"2020-05-03T00:00:00-07:00\", \"high_comp_home_perc\": 45.71878445490608, \"low_comp_home_perc\": 51.156564562840856}, {\"index\": 209, \"date\": \"2020-10-23T00:00:00-07:00\", \"high_comp_home_perc\": 25.798847524196432, \"low_comp_home_perc\": 30.914719271369403}, {\"index\": 210, \"date\": \"2020-11-24T00:00:00-08:00\", \"high_comp_home_perc\": 26.52213509552594, \"low_comp_home_perc\": 32.82566284067684}, {\"index\": 211, \"date\": \"2020-07-27T00:00:00-07:00\", \"high_comp_home_perc\": 33.10324664233414, \"low_comp_home_perc\": 39.61412599730645}, {\"index\": 212, \"date\": \"2020-08-16T00:00:00-07:00\", \"high_comp_home_perc\": 33.21615042827075, \"low_comp_home_perc\": 39.188355690030605}, {\"index\": 213, \"date\": \"2020-01-03T00:00:00-08:00\", \"high_comp_home_perc\": 22.672842911871577, \"low_comp_home_perc\": 28.43844713596734}, {\"index\": 214, \"date\": \"2020-02-13T00:00:00-08:00\", \"high_comp_home_perc\": 19.166021096095633, \"low_comp_home_perc\": 25.50172430644457}, {\"index\": 215, \"date\": \"2020-11-05T00:00:00-08:00\", \"high_comp_home_perc\": 27.49448933065896, \"low_comp_home_perc\": 33.620559980438685}, {\"index\": 216, \"date\": \"2020-04-09T00:00:00-07:00\", \"high_comp_home_perc\": 52.73342205880669, \"low_comp_home_perc\": 53.313069286719916}, {\"index\": 217, \"date\": \"2020-06-20T00:00:00-07:00\", \"high_comp_home_perc\": 30.745440366429055, \"low_comp_home_perc\": 37.9095650668738}, {\"index\": 218, \"date\": \"2020-09-25T00:00:00-07:00\", \"high_comp_home_perc\": 24.806401673123833, \"low_comp_home_perc\": 31.204127694632437}, {\"index\": 219, \"date\": \"2020-02-25T00:00:00-08:00\", \"high_comp_home_perc\": 33.25310723771028, \"low_comp_home_perc\": 32.346385319700005}, {\"index\": 220, \"date\": \"2020-05-08T00:00:00-07:00\", \"high_comp_home_perc\": 40.3039596753517, \"low_comp_home_perc\": 44.53319104332262}, {\"index\": 221, \"date\": \"2020-07-11T00:00:00-07:00\", \"high_comp_home_perc\": 31.417927048694917, \"low_comp_home_perc\": 37.767727822079785}, {\"index\": 222, \"date\": \"2020-01-26T00:00:00-08:00\", \"high_comp_home_perc\": 25.258492943604686, \"low_comp_home_perc\": 30.09932054730264}, {\"index\": 223, \"date\": \"2020-04-05T00:00:00-07:00\", \"high_comp_home_perc\": 50.469802621391835, \"low_comp_home_perc\": 51.35702456246991}, {\"index\": 224, \"date\": \"2020-04-29T00:00:00-07:00\", \"high_comp_home_perc\": 42.12970584189788, \"low_comp_home_perc\": 43.63272994006582}, {\"index\": 225, \"date\": \"2020-12-27T00:00:00-08:00\", \"high_comp_home_perc\": 34.962886291545175, \"low_comp_home_perc\": 40.713429589784816}, {\"index\": 226, \"date\": \"2020-06-22T00:00:00-07:00\", \"high_comp_home_perc\": 33.46291210125156, \"low_comp_home_perc\": 39.447406392760854}, {\"index\": 227, \"date\": \"2020-03-02T00:00:00-08:00\", \"high_comp_home_perc\": 22.339704439674243, \"low_comp_home_perc\": 27.430864962476203}, {\"index\": 228, \"date\": \"2020-03-05T00:00:00-08:00\", \"high_comp_home_perc\": 17.591460801664347, \"low_comp_home_perc\": 22.11810221211589}, {\"index\": 229, \"date\": \"2020-09-30T00:00:00-07:00\", \"high_comp_home_perc\": 30.989785852800175, \"low_comp_home_perc\": 36.481528732364566}, {\"index\": 230, \"date\": \"2020-10-21T00:00:00-07:00\", \"high_comp_home_perc\": 31.42865275954931, \"low_comp_home_perc\": 37.140314828800214}, {\"index\": 231, \"date\": \"2020-11-22T00:00:00-08:00\", \"high_comp_home_perc\": 30.307038204087664, \"low_comp_home_perc\": 36.314964125232926}, {\"index\": 232, \"date\": \"2020-02-21T00:00:00-08:00\", \"high_comp_home_perc\": 17.245442787191532, \"low_comp_home_perc\": 21.52772779141613}, {\"index\": 233, \"date\": \"2020-11-10T00:00:00-08:00\", \"high_comp_home_perc\": 30.525789872822866, \"low_comp_home_perc\": 36.63765414437988}, {\"index\": 234, \"date\": \"2020-09-29T00:00:00-07:00\", \"high_comp_home_perc\": 30.140278760257846, \"low_comp_home_perc\": 34.94296908871403}, {\"index\": 235, \"date\": \"2020-10-10T00:00:00-07:00\", \"high_comp_home_perc\": 25.301809026155016, \"low_comp_home_perc\": 30.529509304702877}, {\"index\": 236, \"date\": \"2020-06-11T00:00:00-07:00\", \"high_comp_home_perc\": 33.22980523992491, \"low_comp_home_perc\": 40.0185947494002}, {\"index\": 237, \"date\": \"2020-08-17T00:00:00-07:00\", \"high_comp_home_perc\": 31.705645949511506, \"low_comp_home_perc\": 37.16379510275946}, {\"index\": 238, \"date\": \"2020-01-11T00:00:00-08:00\", \"high_comp_home_perc\": 23.585520489547516, \"low_comp_home_perc\": 27.83072959155438}, {\"index\": 239, \"date\": \"2020-01-22T00:00:00-08:00\", \"high_comp_home_perc\": 16.102098512958413, \"low_comp_home_perc\": 20.493313056638183}, {\"index\": 240, \"date\": \"2020-04-30T00:00:00-07:00\", \"high_comp_home_perc\": 41.6798761559683, \"low_comp_home_perc\": 43.871602188090904}, {\"index\": 241, \"date\": \"2020-05-13T00:00:00-07:00\", \"high_comp_home_perc\": 41.06571393745272, \"low_comp_home_perc\": 44.46214118963852}, {\"index\": 242, \"date\": \"2020-10-25T00:00:00-07:00\", \"high_comp_home_perc\": 33.32444973812284, \"low_comp_home_perc\": 38.00463192226974}, {\"index\": 243, \"date\": \"2020-03-20T00:00:00-07:00\", \"high_comp_home_perc\": 43.92983023536658, \"low_comp_home_perc\": 40.93697868638583}, {\"index\": 244, \"date\": \"2020-06-15T00:00:00-07:00\", \"high_comp_home_perc\": 33.91596645765205, \"low_comp_home_perc\": 40.29654824582567}, {\"index\": 245, \"date\": \"2020-07-07T00:00:00-07:00\", \"high_comp_home_perc\": 33.182068140566315, \"low_comp_home_perc\": 40.433530329008775}, {\"index\": 246, \"date\": \"2020-07-29T00:00:00-07:00\", \"high_comp_home_perc\": 28.88024863745077, \"low_comp_home_perc\": 34.78489093011273}, {\"index\": 247, \"date\": \"2020-11-04T00:00:00-08:00\", \"high_comp_home_perc\": 29.719128227512897, \"low_comp_home_perc\": 34.5693994104183}, {\"index\": 248, \"date\": \"2020-01-31T00:00:00-08:00\", \"high_comp_home_perc\": 15.462875483294342, \"low_comp_home_perc\": 20.307792362927565}, {\"index\": 249, \"date\": \"2020-11-02T00:00:00-08:00\", \"high_comp_home_perc\": 30.55957902752655, \"low_comp_home_perc\": 35.59641958077894}, {\"index\": 250, \"date\": \"2020-01-16T00:00:00-08:00\", \"high_comp_home_perc\": 17.764260445346814, \"low_comp_home_perc\": 23.1359651321095}, {\"index\": 251, \"date\": \"2020-02-26T00:00:00-08:00\", \"high_comp_home_perc\": 16.33931222618455, \"low_comp_home_perc\": 19.42976965236546}, {\"index\": 252, \"date\": \"2020-02-16T00:00:00-08:00\", \"high_comp_home_perc\": 23.521749212407208, \"low_comp_home_perc\": 29.224577328498796}, {\"index\": 253, \"date\": \"2020-10-06T00:00:00-07:00\", \"high_comp_home_perc\": 31.903903622846503, \"low_comp_home_perc\": 36.73837985819329}, {\"index\": 254, \"date\": \"2020-10-26T00:00:00-07:00\", \"high_comp_home_perc\": 32.49340005292218, \"low_comp_home_perc\": 35.81822794180679}, {\"index\": 255, \"date\": \"2020-12-07T00:00:00-08:00\", \"high_comp_home_perc\": 34.45534436688305, \"low_comp_home_perc\": 38.38682364071869}, {\"index\": 256, \"date\": \"2020-05-20T00:00:00-07:00\", \"high_comp_home_perc\": 40.001998694857335, \"low_comp_home_perc\": 44.01186363710334}, {\"index\": 257, \"date\": \"2020-09-09T00:00:00-07:00\", \"high_comp_home_perc\": 33.2863167442552, \"low_comp_home_perc\": 39.665960154255835}, {\"index\": 258, \"date\": \"2020-02-07T00:00:00-08:00\", \"high_comp_home_perc\": 19.446054641491042, \"low_comp_home_perc\": 24.228521830627166}, {\"index\": 259, \"date\": \"2020-09-08T00:00:00-07:00\", \"high_comp_home_perc\": 32.67154850762845, \"low_comp_home_perc\": 37.76880207886736}, {\"index\": 260, \"date\": \"2020-02-06T00:00:00-08:00\", \"high_comp_home_perc\": 19.187437951719232, \"low_comp_home_perc\": 25.065084439054733}, {\"index\": 261, \"date\": \"2020-06-05T00:00:00-07:00\", \"high_comp_home_perc\": 32.98257830688922, \"low_comp_home_perc\": 38.28936690869403}, {\"index\": 262, \"date\": \"2020-10-18T00:00:00-07:00\", \"high_comp_home_perc\": 30.037296863630534, \"low_comp_home_perc\": 34.599089054786276}, {\"index\": 263, \"date\": \"2020-11-20T00:00:00-08:00\", \"high_comp_home_perc\": 27.82881268533287, \"low_comp_home_perc\": 33.729710228607914}, {\"index\": 264, \"date\": \"2020-04-24T00:00:00-07:00\", \"high_comp_home_perc\": 41.87659335480693, \"low_comp_home_perc\": 44.24774794191066}, {\"index\": 265, \"date\": \"2020-12-22T00:00:00-08:00\", \"high_comp_home_perc\": 28.59675375074807, \"low_comp_home_perc\": 34.65124617951839}, {\"index\": 266, \"date\": \"2020-03-17T00:00:00-07:00\", \"high_comp_home_perc\": 36.057604652951106, \"low_comp_home_perc\": 37.21964117068744}, {\"index\": 267, \"date\": \"2020-07-25T00:00:00-07:00\", \"high_comp_home_perc\": 32.43062061385412, \"low_comp_home_perc\": 39.514618501763145}, {\"index\": 268, \"date\": \"2020-03-18T00:00:00-07:00\", \"high_comp_home_perc\": 38.16245219136995, \"low_comp_home_perc\": 37.531039733826624}, {\"index\": 269, \"date\": \"2020-05-04T00:00:00-07:00\", \"high_comp_home_perc\": 43.73593200390368, \"low_comp_home_perc\": 45.74477804034194}, {\"index\": 270, \"date\": \"2020-08-06T00:00:00-07:00\", \"high_comp_home_perc\": 29.70993581192647, \"low_comp_home_perc\": 36.362388949081755}, {\"index\": 271, \"date\": \"2020-01-09T00:00:00-08:00\", \"high_comp_home_perc\": 20.958533652944162, \"low_comp_home_perc\": 26.588924201083692}, {\"index\": 272, \"date\": \"2020-05-17T00:00:00-07:00\", \"high_comp_home_perc\": 44.06418688361175, \"low_comp_home_perc\": 48.99874641854521}, {\"index\": 273, \"date\": \"2020-05-31T00:00:00-07:00\", \"high_comp_home_perc\": 38.83383480012185, \"low_comp_home_perc\": 45.31928447813657}, {\"index\": 274, \"date\": \"2020-06-27T00:00:00-07:00\", \"high_comp_home_perc\": 30.970167251575564, \"low_comp_home_perc\": 36.868309062711596}, {\"index\": 275, \"date\": \"2020-09-19T00:00:00-07:00\", \"high_comp_home_perc\": 29.617974164893106, \"low_comp_home_perc\": 35.76803200293601}, {\"index\": 276, \"date\": \"2020-02-24T00:00:00-08:00\", \"high_comp_home_perc\": 19.22599013619245, \"low_comp_home_perc\": 22.93009798518911}, {\"index\": 277, \"date\": \"2020-03-23T00:00:00-07:00\", \"high_comp_home_perc\": 42.3115182788352, \"low_comp_home_perc\": 41.149035179877096}, {\"index\": 278, \"date\": \"2020-09-07T00:00:00-07:00\", \"high_comp_home_perc\": 34.04755295168355, \"low_comp_home_perc\": 40.13378527920655}, {\"index\": 279, \"date\": \"2020-11-12T00:00:00-08:00\", \"high_comp_home_perc\": 28.525007289133722, \"low_comp_home_perc\": 33.93563502380408}, {\"index\": 280, \"date\": \"2020-05-09T00:00:00-07:00\", \"high_comp_home_perc\": 37.430838936470415, \"low_comp_home_perc\": 42.74683398008276}, {\"index\": 281, \"date\": \"2020-06-03T00:00:00-07:00\", \"high_comp_home_perc\": 35.33480650708178, \"low_comp_home_perc\": 41.54775427592059}, {\"index\": 282, \"date\": \"2020-12-16T00:00:00-08:00\", \"high_comp_home_perc\": 31.897041435716893, \"low_comp_home_perc\": 37.14449828296566}, {\"index\": 283, \"date\": \"2020-09-06T00:00:00-07:00\", \"high_comp_home_perc\": 31.41679787438596, \"low_comp_home_perc\": 37.047255993414595}, {\"index\": 284, \"date\": \"2020-12-10T00:00:00-08:00\", \"high_comp_home_perc\": 32.83620217821805, \"low_comp_home_perc\": 37.673445794876315}, {\"index\": 285, \"date\": \"2020-02-08T00:00:00-08:00\", \"high_comp_home_perc\": 23.055155718277145, \"low_comp_home_perc\": 28.43448844867944}, {\"index\": 286, \"date\": \"2020-03-22T00:00:00-07:00\", \"high_comp_home_perc\": 44.63305049244856, \"low_comp_home_perc\": 46.58960814684266}, {\"index\": 287, \"date\": \"2020-08-27T00:00:00-07:00\", \"high_comp_home_perc\": 31.0447757322105, \"low_comp_home_perc\": 37.11519923303557}, {\"index\": 288, \"date\": \"2020-12-18T00:00:00-08:00\", \"high_comp_home_perc\": 28.106808683007532, \"low_comp_home_perc\": 33.67897823572669}, {\"index\": 289, \"date\": \"2020-03-03T00:00:00-08:00\", \"high_comp_home_perc\": 17.323070826824317, \"low_comp_home_perc\": 22.552585270228196}, {\"index\": 290, \"date\": \"2020-01-19T00:00:00-08:00\", \"high_comp_home_perc\": 23.138368522090133, \"low_comp_home_perc\": 28.54927607741529}, {\"index\": 291, \"date\": \"2020-04-20T00:00:00-07:00\", \"high_comp_home_perc\": 44.624493689569235, \"low_comp_home_perc\": 44.52315332006658}, {\"index\": 292, \"date\": \"2020-06-08T00:00:00-07:00\", \"high_comp_home_perc\": 34.45525806555352, \"low_comp_home_perc\": 39.83054960217616}, {\"index\": 293, \"date\": \"2020-10-05T00:00:00-07:00\", \"high_comp_home_perc\": 32.94912905457301, \"low_comp_home_perc\": 37.33699314498201}, {\"index\": 294, \"date\": \"2020-01-23T00:00:00-08:00\", \"high_comp_home_perc\": 17.29366887320867, \"low_comp_home_perc\": 22.392252197547613}, {\"index\": 295, \"date\": \"2020-02-27T00:00:00-08:00\", \"high_comp_home_perc\": 17.935502044616822, \"low_comp_home_perc\": 21.044281990253626}, {\"index\": 296, \"date\": \"2020-07-05T00:00:00-07:00\", \"high_comp_home_perc\": 37.71964597120209, \"low_comp_home_perc\": 44.632794603638345}, {\"index\": 297, \"date\": \"2020-12-05T00:00:00-08:00\", \"high_comp_home_perc\": 29.818507849188634, \"low_comp_home_perc\": 34.74593558615773}, {\"index\": 298, \"date\": \"2020-12-11T00:00:00-08:00\", \"high_comp_home_perc\": 31.42779818402718, \"low_comp_home_perc\": 36.450805756644854}, {\"index\": 299, \"date\": \"2020-02-03T00:00:00-08:00\", \"high_comp_home_perc\": 21.53631651226843, \"low_comp_home_perc\": 27.221221899062293}, {\"index\": 300, \"date\": \"2020-03-27T00:00:00-07:00\", \"high_comp_home_perc\": 43.95432981303031, \"low_comp_home_perc\": 44.67806113957647}, {\"index\": 301, \"date\": \"2020-04-04T00:00:00-07:00\", \"high_comp_home_perc\": 47.701697790403436, \"low_comp_home_perc\": 48.48038269915179}, {\"index\": 302, \"date\": \"2020-07-17T00:00:00-07:00\", \"high_comp_home_perc\": 31.085029923610943, \"low_comp_home_perc\": 38.37388842285023}, {\"index\": 303, \"date\": \"2020-09-21T00:00:00-07:00\", \"high_comp_home_perc\": 31.34425071810111, \"low_comp_home_perc\": 36.7353354692257}, {\"index\": 304, \"date\": \"2020-11-17T00:00:00-08:00\", \"high_comp_home_perc\": 29.112298939823766, \"low_comp_home_perc\": 34.66458547554938}, {\"index\": 305, \"date\": \"2020-02-22T00:00:00-08:00\", \"high_comp_home_perc\": 20.81914794151607, \"low_comp_home_perc\": 24.458722962951704}, {\"index\": 306, \"date\": \"2020-12-08T00:00:00-08:00\", \"high_comp_home_perc\": 31.11713695646374, \"low_comp_home_perc\": 35.668764866959144}, {\"index\": 307, \"date\": \"2020-01-28T00:00:00-08:00\", \"high_comp_home_perc\": 16.97779609481991, \"low_comp_home_perc\": 21.70534450658406}, {\"index\": 308, \"date\": \"2020-02-17T00:00:00-08:00\", \"high_comp_home_perc\": 21.589278172964306, \"low_comp_home_perc\": 27.330750834288455}, {\"index\": 309, \"date\": \"2020-04-21T00:00:00-07:00\", \"high_comp_home_perc\": 44.2775310918646, \"low_comp_home_perc\": 45.55426155291147}, {\"index\": 310, \"date\": \"2020-08-02T00:00:00-07:00\", \"high_comp_home_perc\": 35.26398665108698, \"low_comp_home_perc\": 42.68479384285157}, {\"index\": 311, \"date\": \"2020-08-15T00:00:00-07:00\", \"high_comp_home_perc\": 31.909121867319104, \"low_comp_home_perc\": 39.26629293127478}, {\"index\": 312, \"date\": \"2020-08-30T00:00:00-07:00\", \"high_comp_home_perc\": 29.472318180538377, \"low_comp_home_perc\": 35.971016093036184}, {\"index\": 313, \"date\": \"2020-10-14T00:00:00-07:00\", \"high_comp_home_perc\": 30.999633794755525, \"low_comp_home_perc\": 36.162598129925044}, {\"index\": 314, \"date\": \"2020-01-02T00:00:00-08:00\", \"high_comp_home_perc\": 22.517915818038094, \"low_comp_home_perc\": 28.43264956303914}, {\"index\": 315, \"date\": \"2020-01-24T00:00:00-08:00\", \"high_comp_home_perc\": 18.128643124440455, \"low_comp_home_perc\": 23.759780724507362}, {\"index\": 316, \"date\": \"2020-04-08T00:00:00-07:00\", \"high_comp_home_perc\": 48.52017992038459, \"low_comp_home_perc\": 49.42871053788161}, {\"index\": 317, \"date\": \"2020-06-26T00:00:00-07:00\", \"high_comp_home_perc\": 31.491626181321454, \"low_comp_home_perc\": 39.22997027208359}, {\"index\": 318, \"date\": \"2020-08-19T00:00:00-07:00\", \"high_comp_home_perc\": 31.607581673972767, \"low_comp_home_perc\": 36.50694990281504}, {\"index\": 319, \"date\": \"2020-11-18T00:00:00-08:00\", \"high_comp_home_perc\": 28.237172359786012, \"low_comp_home_perc\": 32.717085502874106}, {\"index\": 320, \"date\": \"2020-02-20T00:00:00-08:00\", \"high_comp_home_perc\": 18.689585753959324, \"low_comp_home_perc\": 23.01555355741016}, {\"index\": 321, \"date\": \"2020-11-27T00:00:00-08:00\", \"high_comp_home_perc\": 28.804944157077404, \"low_comp_home_perc\": 33.98488910591071}, {\"index\": 322, \"date\": \"2020-12-17T00:00:00-08:00\", \"high_comp_home_perc\": 33.154932057929784, \"low_comp_home_perc\": 38.95836535892317}, {\"index\": 323, \"date\": \"2020-07-20T00:00:00-07:00\", \"high_comp_home_perc\": 32.03997788791023, \"low_comp_home_perc\": 39.51077720223645}, {\"index\": 324, \"date\": \"2020-12-02T00:00:00-08:00\", \"high_comp_home_perc\": 31.235118972905298, \"low_comp_home_perc\": 36.24389799920318}, {\"index\": 325, \"date\": \"2020-03-21T00:00:00-07:00\", \"high_comp_home_perc\": 48.85447459802663, \"low_comp_home_perc\": 46.279036199162434}, {\"index\": 326, \"date\": \"2020-05-21T00:00:00-07:00\", \"high_comp_home_perc\": 38.02766874005861, \"low_comp_home_perc\": 43.89118425659847}, {\"index\": 327, \"date\": \"2020-11-03T00:00:00-08:00\", \"high_comp_home_perc\": 29.924588752603366, \"low_comp_home_perc\": 34.8555858149362}, {\"index\": 328, \"date\": \"2020-05-02T00:00:00-07:00\", \"high_comp_home_perc\": 42.071810084898736, \"low_comp_home_perc\": 45.249339866588535}, {\"index\": 329, \"date\": \"2020-11-11T00:00:00-08:00\", \"high_comp_home_perc\": 27.856808430751258, \"low_comp_home_perc\": 33.587648740534675}, {\"index\": 330, \"date\": \"2020-02-23T00:00:00-08:00\", \"high_comp_home_perc\": 22.507463965405574, \"low_comp_home_perc\": 26.21898909498686}, {\"index\": 331, \"date\": \"2020-05-28T00:00:00-07:00\", \"high_comp_home_perc\": 36.54755627878699, \"low_comp_home_perc\": 42.54687070519665}, {\"index\": 332, \"date\": \"2020-05-30T00:00:00-07:00\", \"high_comp_home_perc\": 33.95460292886091, \"low_comp_home_perc\": 40.0074935332901}, {\"index\": 333, \"date\": \"2020-01-17T00:00:00-08:00\", \"high_comp_home_perc\": 18.594449832557498, \"low_comp_home_perc\": 24.173051830956044}, {\"index\": 334, \"date\": \"2020-09-15T00:00:00-07:00\", \"high_comp_home_perc\": 36.2407062793885, \"low_comp_home_perc\": 42.57367013793657}, {\"index\": 335, \"date\": \"2020-04-13T00:00:00-07:00\", \"high_comp_home_perc\": 48.92891342498469, \"low_comp_home_perc\": 49.15396315342423}, {\"index\": 336, \"date\": \"2020-05-15T00:00:00-07:00\", \"high_comp_home_perc\": 36.687650590541246, \"low_comp_home_perc\": 41.61233282614454}, {\"index\": 337, \"date\": \"2020-06-07T00:00:00-07:00\", \"high_comp_home_perc\": 35.07913216373131, \"low_comp_home_perc\": 41.29252541069922}, {\"index\": 338, \"date\": \"2020-02-09T00:00:00-08:00\", \"high_comp_home_perc\": 27.263265742589905, \"low_comp_home_perc\": 31.747032184450696}, {\"index\": 339, \"date\": \"2020-06-09T00:00:00-07:00\", \"high_comp_home_perc\": 33.186329669121456, \"low_comp_home_perc\": 39.65730697028276}, {\"index\": 340, \"date\": \"2020-02-14T00:00:00-08:00\", \"high_comp_home_perc\": 17.322912987260978, \"low_comp_home_perc\": 21.454104501928917}, {\"index\": 341, \"date\": \"2020-04-18T00:00:00-07:00\", \"high_comp_home_perc\": 46.02080685607347, \"low_comp_home_perc\": 48.71203397845272}, {\"index\": 342, \"date\": \"2020-07-24T00:00:00-07:00\", \"high_comp_home_perc\": 30.819353432250512, \"low_comp_home_perc\": 39.16656834920329}, {\"index\": 343, \"date\": \"2020-07-30T00:00:00-07:00\", \"high_comp_home_perc\": 29.614914262470744, \"low_comp_home_perc\": 36.26118602619938}, {\"index\": 344, \"date\": \"2020-02-19T00:00:00-08:00\", \"high_comp_home_perc\": 18.879152452144073, \"low_comp_home_perc\": 23.430484277791045}, {\"index\": 345, \"date\": \"2020-06-25T00:00:00-07:00\", \"high_comp_home_perc\": 32.245455607197336, \"low_comp_home_perc\": 39.14685797080992}, {\"index\": 346, \"date\": \"2020-08-10T00:00:00-07:00\", \"high_comp_home_perc\": 32.88328103850691, \"low_comp_home_perc\": 38.40869107233778}, {\"index\": 347, \"date\": \"2020-04-17T00:00:00-07:00\", \"high_comp_home_perc\": 42.62908851586489, \"low_comp_home_perc\": 45.31623930660334}, {\"index\": 348, \"date\": \"2020-12-04T00:00:00-08:00\", \"high_comp_home_perc\": 27.910362146505157, \"low_comp_home_perc\": 32.394184914546344}, {\"index\": 349, \"date\": \"2020-10-22T00:00:00-07:00\", \"high_comp_home_perc\": 32.03975823021375, \"low_comp_home_perc\": 37.854960030533725}, {\"index\": 350, \"date\": \"2020-09-17T00:00:00-07:00\", \"high_comp_home_perc\": 31.62145862539655, \"low_comp_home_perc\": 37.5840373763858}, {\"index\": 351, \"date\": \"2020-04-11T00:00:00-07:00\", \"high_comp_home_perc\": 45.04049153755427, \"low_comp_home_perc\": 47.988578470551836}, {\"index\": 352, \"date\": \"2020-01-30T00:00:00-08:00\", \"high_comp_home_perc\": 16.320116144242192, \"low_comp_home_perc\": 22.18309801976363}, {\"index\": 353, \"date\": \"2020-10-07T00:00:00-07:00\", \"high_comp_home_perc\": 32.221103452673184, \"low_comp_home_perc\": 37.002312163523094}, {\"index\": 354, \"date\": \"2020-05-14T00:00:00-07:00\", \"high_comp_home_perc\": 40.67719058840411, \"low_comp_home_perc\": 45.17225096204425}, {\"index\": 355, \"date\": \"2020-07-13T00:00:00-07:00\", \"high_comp_home_perc\": 32.987049043617034, \"low_comp_home_perc\": 39.119709088745324}, {\"index\": 356, \"date\": \"2020-08-14T00:00:00-07:00\", \"high_comp_home_perc\": 30.115542374265477, \"low_comp_home_perc\": 38.280344863197826}, {\"index\": 357, \"date\": \"2020-08-21T00:00:00-07:00\", \"high_comp_home_perc\": 28.052565043896937, \"low_comp_home_perc\": 34.341368492706394}, {\"index\": 358, \"date\": \"2020-08-31T00:00:00-07:00\", \"high_comp_home_perc\": 31.513275918724005, \"low_comp_home_perc\": 36.96896487712462}, {\"index\": 359, \"date\": \"2020-08-01T00:00:00-07:00\", \"high_comp_home_perc\": 29.425607529392842, \"low_comp_home_perc\": 35.657037459497595}, {\"index\": 360, \"date\": \"2020-02-11T00:00:00-08:00\", \"high_comp_home_perc\": 18.904377623497865, \"low_comp_home_perc\": 24.35781274370983}, {\"index\": 361, \"date\": \"2020-04-28T00:00:00-07:00\", \"high_comp_home_perc\": 42.465187447712424, \"low_comp_home_perc\": 44.830042518409385}, {\"index\": 362, \"date\": \"2020-05-26T00:00:00-07:00\", \"high_comp_home_perc\": 37.08169926193421, \"low_comp_home_perc\": 41.83015627046291}, {\"index\": 363, \"date\": \"2020-06-13T00:00:00-07:00\", \"high_comp_home_perc\": 32.776078040071255, \"low_comp_home_perc\": 38.4449295673911}, {\"index\": 364, \"date\": \"2020-08-28T00:00:00-07:00\", \"high_comp_home_perc\": 29.625158125838684, \"low_comp_home_perc\": 36.69580158009591}, {\"index\": 365, \"date\": \"2020-11-28T00:00:00-08:00\", \"high_comp_home_perc\": 29.28229668147257, \"low_comp_home_perc\": 34.69359501955468}]}}, {\"mode\": \"vega-lite\"});\n",
              "</script>"
            ]
          },
          "metadata": {
            "tags": []
          },
          "execution_count": 23
        },
        {
          "output_type": "stream",
          "text": [
            "time: 145 ms (started: 2021-04-16 04:40:00 +00:00)\n"
          ],
          "name": "stdout"
        }
      ]
    }
  ]
}