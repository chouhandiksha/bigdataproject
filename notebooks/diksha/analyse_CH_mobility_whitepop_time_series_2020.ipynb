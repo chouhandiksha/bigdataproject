{
  "nbformat": 4,
  "nbformat_minor": 0,
  "metadata": {
    "colab": {
      "name": "analyse_NY_mobility_poverty_2020.ipynb",
      "provenance": [],
      "collapsed_sections": [],
      "include_colab_link": true
    },
    "kernelspec": {
      "name": "python3",
      "display_name": "Python 3"
    },
    "language_info": {
      "name": "python"
    }
  },
  "cells": [
    {
      "cell_type": "markdown",
      "metadata": {
        "id": "view-in-github",
        "colab_type": "text"
      },
      "source": [
        "<a href=\"https://colab.research.google.com/github/chouhandiksha/bigdataproject/blob/colab/notebooks/diksha/analyse_CH_mobility_whitepop_time_series_2020.ipynb\" target=\"_parent\"><img src=\"https://colab.research.google.com/assets/colab-badge.svg\" alt=\"Open In Colab\"/></a>"
      ]
    },
    {
      "cell_type": "markdown",
      "metadata": {
        "id": "6Vnc5foT5YFx"
      },
      "source": [
        "**Spark SQL Documentation:** \n",
        "https://spark.apache.org/docs/2.2.0/sql-programming-guide.html"
      ]
    },
    {
      "cell_type": "code",
      "metadata": {
        "id": "XXJ-cpgT3moz",
        "colab": {
          "base_uri": "https://localhost:8080/"
        },
        "outputId": "c206da61-baec-4781-abe4-571e002bdeb9"
      },
      "source": [
        "# add time information at the end of every cell\n",
        "!pip install ipython-autotime\n",
        "%load_ext autotime"
      ],
      "execution_count": 1,
      "outputs": [
        {
          "output_type": "stream",
          "text": [
            "Collecting ipython-autotime\n",
            "  Downloading https://files.pythonhosted.org/packages/b4/c9/b413a24f759641bc27ef98c144b590023c8038dfb8a3f09e713e9dff12c1/ipython_autotime-0.3.1-py2.py3-none-any.whl\n",
            "Requirement already satisfied: ipython in /usr/local/lib/python3.7/dist-packages (from ipython-autotime) (5.5.0)\n",
            "Requirement already satisfied: decorator in /usr/local/lib/python3.7/dist-packages (from ipython->ipython-autotime) (4.4.2)\n",
            "Requirement already satisfied: traitlets>=4.2 in /usr/local/lib/python3.7/dist-packages (from ipython->ipython-autotime) (5.0.5)\n",
            "Requirement already satisfied: pygments in /usr/local/lib/python3.7/dist-packages (from ipython->ipython-autotime) (2.6.1)\n",
            "Requirement already satisfied: prompt-toolkit<2.0.0,>=1.0.4 in /usr/local/lib/python3.7/dist-packages (from ipython->ipython-autotime) (1.0.18)\n",
            "Requirement already satisfied: simplegeneric>0.8 in /usr/local/lib/python3.7/dist-packages (from ipython->ipython-autotime) (0.8.1)\n",
            "Requirement already satisfied: pickleshare in /usr/local/lib/python3.7/dist-packages (from ipython->ipython-autotime) (0.7.5)\n",
            "Requirement already satisfied: setuptools>=18.5 in /usr/local/lib/python3.7/dist-packages (from ipython->ipython-autotime) (54.2.0)\n",
            "Requirement already satisfied: pexpect; sys_platform != \"win32\" in /usr/local/lib/python3.7/dist-packages (from ipython->ipython-autotime) (4.8.0)\n",
            "Requirement already satisfied: ipython-genutils in /usr/local/lib/python3.7/dist-packages (from traitlets>=4.2->ipython->ipython-autotime) (0.2.0)\n",
            "Requirement already satisfied: wcwidth in /usr/local/lib/python3.7/dist-packages (from prompt-toolkit<2.0.0,>=1.0.4->ipython->ipython-autotime) (0.2.5)\n",
            "Requirement already satisfied: six>=1.9.0 in /usr/local/lib/python3.7/dist-packages (from prompt-toolkit<2.0.0,>=1.0.4->ipython->ipython-autotime) (1.15.0)\n",
            "Requirement already satisfied: ptyprocess>=0.5 in /usr/local/lib/python3.7/dist-packages (from pexpect; sys_platform != \"win32\"->ipython->ipython-autotime) (0.7.0)\n",
            "Installing collected packages: ipython-autotime\n",
            "Successfully installed ipython-autotime-0.3.1\n",
            "time: 1.94 ms (started: 2021-04-16 04:45:08 +00:00)\n"
          ],
          "name": "stdout"
        }
      ]
    },
    {
      "cell_type": "code",
      "metadata": {
        "colab": {
          "base_uri": "https://localhost:8080/"
        },
        "id": "DggpqrsrscGi",
        "outputId": "fbdfdee0-3555-443f-b9ee-564791001b61"
      },
      "source": [
        "# Install required dependancies\n",
        "!pip install pyspark\n",
        "!apt install openjdk-8-jdk-headless -qq\n",
        "import os\n",
        "os.environ[\"JAVA_HOME\"] = \"/usr/lib/jvm/java-8-openjdk-amd64\""
      ],
      "execution_count": 2,
      "outputs": [
        {
          "output_type": "stream",
          "text": [
            "Collecting pyspark\n",
            "\u001b[?25l  Downloading https://files.pythonhosted.org/packages/45/b0/9d6860891ab14a39d4bddf80ba26ce51c2f9dc4805e5c6978ac0472c120a/pyspark-3.1.1.tar.gz (212.3MB)\n",
            "\u001b[K     |████████████████████████████████| 212.3MB 69kB/s \n",
            "\u001b[?25hCollecting py4j==0.10.9\n",
            "\u001b[?25l  Downloading https://files.pythonhosted.org/packages/9e/b6/6a4fb90cd235dc8e265a6a2067f2a2c99f0d91787f06aca4bcf7c23f3f80/py4j-0.10.9-py2.py3-none-any.whl (198kB)\n",
            "\u001b[K     |████████████████████████████████| 204kB 38.9MB/s \n",
            "\u001b[?25hBuilding wheels for collected packages: pyspark\n",
            "  Building wheel for pyspark (setup.py) ... \u001b[?25l\u001b[?25hdone\n",
            "  Created wheel for pyspark: filename=pyspark-3.1.1-py2.py3-none-any.whl size=212767604 sha256=7dcbb6badba801a7cc3d6df697cb628362529f58cb04fb0246f74a8354685c71\n",
            "  Stored in directory: /root/.cache/pip/wheels/0b/90/c0/01de724414ef122bd05f056541fb6a0ecf47c7ca655f8b3c0f\n",
            "Successfully built pyspark\n",
            "Installing collected packages: py4j, pyspark\n",
            "Successfully installed py4j-0.10.9 pyspark-3.1.1\n",
            "The following additional packages will be installed:\n",
            "  openjdk-8-jre-headless\n",
            "Suggested packages:\n",
            "  openjdk-8-demo openjdk-8-source libnss-mdns fonts-dejavu-extra\n",
            "  fonts-ipafont-gothic fonts-ipafont-mincho fonts-wqy-microhei\n",
            "  fonts-wqy-zenhei fonts-indic\n",
            "The following NEW packages will be installed:\n",
            "  openjdk-8-jdk-headless openjdk-8-jre-headless\n",
            "0 upgraded, 2 newly installed, 0 to remove and 31 not upgraded.\n",
            "Need to get 36.5 MB of archives.\n",
            "After this operation, 143 MB of additional disk space will be used.\n",
            "Selecting previously unselected package openjdk-8-jre-headless:amd64.\n",
            "(Reading database ... 160983 files and directories currently installed.)\n",
            "Preparing to unpack .../openjdk-8-jre-headless_8u282-b08-0ubuntu1~18.04_amd64.deb ...\n",
            "Unpacking openjdk-8-jre-headless:amd64 (8u282-b08-0ubuntu1~18.04) ...\n",
            "Selecting previously unselected package openjdk-8-jdk-headless:amd64.\n",
            "Preparing to unpack .../openjdk-8-jdk-headless_8u282-b08-0ubuntu1~18.04_amd64.deb ...\n",
            "Unpacking openjdk-8-jdk-headless:amd64 (8u282-b08-0ubuntu1~18.04) ...\n",
            "Setting up openjdk-8-jre-headless:amd64 (8u282-b08-0ubuntu1~18.04) ...\n",
            "update-alternatives: using /usr/lib/jvm/java-8-openjdk-amd64/jre/bin/orbd to provide /usr/bin/orbd (orbd) in auto mode\n",
            "update-alternatives: using /usr/lib/jvm/java-8-openjdk-amd64/jre/bin/servertool to provide /usr/bin/servertool (servertool) in auto mode\n",
            "update-alternatives: using /usr/lib/jvm/java-8-openjdk-amd64/jre/bin/tnameserv to provide /usr/bin/tnameserv (tnameserv) in auto mode\n",
            "Setting up openjdk-8-jdk-headless:amd64 (8u282-b08-0ubuntu1~18.04) ...\n",
            "update-alternatives: using /usr/lib/jvm/java-8-openjdk-amd64/bin/idlj to provide /usr/bin/idlj (idlj) in auto mode\n",
            "update-alternatives: using /usr/lib/jvm/java-8-openjdk-amd64/bin/wsimport to provide /usr/bin/wsimport (wsimport) in auto mode\n",
            "update-alternatives: using /usr/lib/jvm/java-8-openjdk-amd64/bin/jsadebugd to provide /usr/bin/jsadebugd (jsadebugd) in auto mode\n",
            "update-alternatives: using /usr/lib/jvm/java-8-openjdk-amd64/bin/native2ascii to provide /usr/bin/native2ascii (native2ascii) in auto mode\n",
            "update-alternatives: using /usr/lib/jvm/java-8-openjdk-amd64/bin/javah to provide /usr/bin/javah (javah) in auto mode\n",
            "update-alternatives: using /usr/lib/jvm/java-8-openjdk-amd64/bin/hsdb to provide /usr/bin/hsdb (hsdb) in auto mode\n",
            "update-alternatives: using /usr/lib/jvm/java-8-openjdk-amd64/bin/clhsdb to provide /usr/bin/clhsdb (clhsdb) in auto mode\n",
            "update-alternatives: using /usr/lib/jvm/java-8-openjdk-amd64/bin/xjc to provide /usr/bin/xjc (xjc) in auto mode\n",
            "update-alternatives: using /usr/lib/jvm/java-8-openjdk-amd64/bin/schemagen to provide /usr/bin/schemagen (schemagen) in auto mode\n",
            "update-alternatives: using /usr/lib/jvm/java-8-openjdk-amd64/bin/extcheck to provide /usr/bin/extcheck (extcheck) in auto mode\n",
            "update-alternatives: using /usr/lib/jvm/java-8-openjdk-amd64/bin/jhat to provide /usr/bin/jhat (jhat) in auto mode\n",
            "update-alternatives: using /usr/lib/jvm/java-8-openjdk-amd64/bin/wsgen to provide /usr/bin/wsgen (wsgen) in auto mode\n",
            "time: 52.8 s (started: 2021-04-16 04:45:08 +00:00)\n"
          ],
          "name": "stdout"
        }
      ]
    },
    {
      "cell_type": "code",
      "metadata": {
        "id": "ppkG73kRsei0",
        "colab": {
          "base_uri": "https://localhost:8080/"
        },
        "outputId": "6eaab56c-a43b-43da-9581-d60f8c6ba9d5"
      },
      "source": [
        "# Import modules\n",
        "import numpy as np\n",
        "import pandas as pd\n",
        "import matplotlib.pyplot as plt\n",
        "from pathlib import Path\n",
        "%matplotlib inline\n",
        "\n",
        "import pyspark\n",
        "from pyspark.sql import *\n",
        "from pyspark.sql.types import *\n",
        "from pyspark.sql.functions import *\n",
        "from pyspark import SparkContext, SparkConf"
      ],
      "execution_count": 3,
      "outputs": [
        {
          "output_type": "stream",
          "text": [
            "time: 92.9 ms (started: 2021-04-16 04:46:00 +00:00)\n"
          ],
          "name": "stdout"
        }
      ]
    },
    {
      "cell_type": "code",
      "metadata": {
        "colab": {
          "base_uri": "https://localhost:8080/"
        },
        "id": "pYm9-j_fflal",
        "outputId": "05ddf62e-a4b5-4528-f894-a82e0a07eb39"
      },
      "source": [
        "import altair as alt\n",
        "alt.data_transformers.disable_max_rows()"
      ],
      "execution_count": 4,
      "outputs": [
        {
          "output_type": "execute_result",
          "data": {
            "text/plain": [
              "DataTransformerRegistry.enable('default')"
            ]
          },
          "metadata": {
            "tags": []
          },
          "execution_count": 4
        },
        {
          "output_type": "stream",
          "text": [
            "time: 283 ms (started: 2021-04-16 04:46:01 +00:00)\n"
          ],
          "name": "stdout"
        }
      ]
    },
    {
      "cell_type": "code",
      "metadata": {
        "id": "1oe1ksN5skMG",
        "colab": {
          "base_uri": "https://localhost:8080/"
        },
        "outputId": "3b2bbe13-db83-491f-b545-5b2e5ad7d1c4"
      },
      "source": [
        "# create the session\n",
        "conf = SparkConf().set(\"spark.ui.port\", \"4050\")\n",
        "\n",
        "# create the context\n",
        "sc = pyspark.SparkContext(conf=conf)\n",
        "spark = SparkSession.builder.getOrCreate()"
      ],
      "execution_count": 5,
      "outputs": [
        {
          "output_type": "stream",
          "text": [
            "time: 4.93 s (started: 2021-04-16 04:46:01 +00:00)\n"
          ],
          "name": "stdout"
        }
      ]
    },
    {
      "cell_type": "code",
      "metadata": {
        "id": "zdPF-0xIrDm9",
        "colab": {
          "base_uri": "https://localhost:8080/"
        },
        "outputId": "afb392fb-9b95-4c12-87f8-10002bb7b8a5"
      },
      "source": [
        "#sc.stop()"
      ],
      "execution_count": 6,
      "outputs": [
        {
          "output_type": "stream",
          "text": [
            "time: 1.45 ms (started: 2021-04-16 04:46:06 +00:00)\n"
          ],
          "name": "stdout"
        }
      ]
    },
    {
      "cell_type": "code",
      "metadata": {
        "colab": {
          "base_uri": "https://localhost:8080/"
        },
        "id": "WGXwI2d1szaO",
        "outputId": "62a6523b-74c6-442f-d9dc-6ce87551e715"
      },
      "source": [
        "# Mount drive with data\n",
        "from google.colab import drive\n",
        "drive.mount('/content/drive')"
      ],
      "execution_count": 23,
      "outputs": [
        {
          "output_type": "stream",
          "text": [
            "Drive already mounted at /content/drive; to attempt to forcibly remount, call drive.mount(\"/content/drive\", force_remount=True).\n",
            "time: 4.79 ms (started: 2021-04-16 04:56:25 +00:00)\n"
          ],
          "name": "stdout"
        }
      ]
    },
    {
      "cell_type": "code",
      "metadata": {
        "id": "grN2uNcFvloa",
        "colab": {
          "base_uri": "https://localhost:8080/"
        },
        "outputId": "47535623-6e9b-4d5c-c181-950d2cccc7ba"
      },
      "source": [
        "# Set path to data folder\n",
        "path = Path('drive/MyDrive/big-data-project/data/clean-data')\n",
        "city = 'ch'"
      ],
      "execution_count": 24,
      "outputs": [
        {
          "output_type": "stream",
          "text": [
            "time: 4 ms (started: 2021-04-16 04:56:26 +00:00)\n"
          ],
          "name": "stdout"
        }
      ]
    },
    {
      "cell_type": "code",
      "metadata": {
        "colab": {
          "base_uri": "https://localhost:8080/"
        },
        "id": "BvCrFmU2tGXY",
        "outputId": "8d1fbe76-f259-43cd-d0da-e309a25634d9"
      },
      "source": [
        "# Read data into dataframe\n",
        "df_soc = spark.read.format('csv').option('header','true').option('quote',\"\\\"\").option('escape',\"\\\"\").load(str(path/city/'social/2020/*.csv'))\n",
        "df_soc.show()"
      ],
      "execution_count": 25,
      "outputs": [
        {
          "output_type": "stream",
          "text": [
            "+---+------------+--------------------+--------------------+------------+---------------------------+--------------------------+------------------------------------------+----------------------------+----------------------+------------------------+--------------------+-------------------------------+-------------------------------+--------------------+-------------------------+--------------------------+----------------------+----------------------------+---------------------------+-----------------------------+\n",
            "|_c0|         cbg|    date_range_start|      date_range_end|device_count|distance_traveled_from_home|bucketed_distance_traveled|median_dwell_at_bucketed_distance_traveled|completely_home_device_count|median_home_dwell_time|bucketed_home_dwell_time|at_home_by_each_hour|part_time_work_behavior_devices|full_time_work_behavior_devices|    destination_cbgs|delivery_behavior_devices|median_non_home_dwell_time|candidate_device_count|bucketed_away_from_home_time|median_percentage_time_home|bucketed_percentage_time_home|\n",
            "+---+------------+--------------------+--------------------+------------+---------------------------+--------------------------+------------------------------------------+----------------------------+----------------------+------------------------+--------------------+-------------------------------+-------------------------------+--------------------+-------------------------+--------------------------+----------------------+----------------------------+---------------------------+-----------------------------+\n",
            "| 59|170312304002|2020-02-07T00:00:...|2020-02-08T00:00:...|          76|                     5066.0|      {\"16001-50000\":2,...|                      {\"16001-50000\":96...|                          22|                   786|    {\"721-1080\":17,\"3...|[54,56,57,49,55,5...|                              9|                              7|{\"170318382002\":1...|                        2|                        92|                   150|        {\"21-45\":5,\"481-5...|                         81|         {\"26-50\":7,\"51-75...|\n",
            "| 60|170313005002|2020-02-07T00:00:...|2020-02-08T00:00:...|          72|                     4043.0|      {\"16001-50000\":8,...|                      {\"16001-50000\":72...|                          27|                   686|    {\"721-1080\":16,\"3...|[45,47,46,50,47,4...|                             12|                              9|{\"170312924002\":1...|                        2|                       147|                   165|        {\"21-45\":3,\"481-5...|                         83|         {\"26-50\":4,\"51-75...|\n",
            "| 61|170314208001|2020-02-07T00:00:...|2020-02-08T00:00:...|         127|                     7799.0|      {\"16001-50000\":15...|                      {\"16001-50000\":75...|                          33|                   492|    {\"721-1080\":33,\"3...|[60,61,65,62,63,5...|                             11|                             15|{\"170314111002\":1...|                        3|                       142|                   333|        {\"21-45\":6,\"481-5...|                         64|         {\"26-50\":8,\"51-75...|\n",
            "| 62|170317608034|2020-02-07T00:00:...|2020-02-08T00:00:...|         114|                    10827.0|      {\"16001-50000\":15...|                      {\"16001-50000\":63...|                          37|                   445|    {\"721-1080\":16,\"3...|[50,50,54,55,52,5...|                             11|                             10|{\"171079531004\":1...|                        2|                        72|                   205|        {\"21-45\":4,\"481-5...|                         83|         {\"0-25\":26,\"76-10...|\n",
            "| 63|170318033003|2020-02-07T00:00:...|2020-02-08T00:00:...|          91|                     4207.0|      {\"16001-50000\":10...|                      {\"16001-50000\":75...|                          29|                   482|    {\"721-1080\":18,\"3...|[51,54,48,50,50,5...|                              8|                             13|{\"170318030171\":2...|                        1|                       136|                   171|        {\"21-45\":1,\"481-5...|                         75|         {\"0-25\":15,\"76-10...|\n",
            "| 64|170318146005|2020-02-07T00:00:...|2020-02-08T00:00:...|          51|                     2147.0|      {\"16001-50000\":2,...|                      {\"16001-50000\":11...|                          11|                   700|    {\"721-1080\":4,\"36...|[29,30,26,28,29,3...|                              1|                              4|{\"170310815003\":1...|                        1|                       102|                    89|        {\"21-45\":3,\"481-5...|                         78|         {\"26-50\":5,\"51-75...|\n",
            "| 65|170318182002|2020-02-07T00:00:...|2020-02-08T00:00:...|          51|                     9323.0|      {\"16001-50000\":4,...|                      {\"16001-50000\":12...|                          19|                   646|    {\"721-1080\":3,\"36...|[23,24,25,26,27,2...|                              3|                              1|{\"170438443013\":1...|                        1|                         5|                    87|        {\"481-540\":1,\"541...|                        100|         {\"0-25\":3,\"76-100...|\n",
            "| 66|170318240053|2020-02-07T00:00:...|2020-02-08T00:00:...|         123|                     7420.0|      {\"16001-50000\":32...|                      {\"16001-50000\":62...|                          21|                   703|    {\"721-1080\":35,\"3...|[85,85,84,85,86,8...|                             26|                             13|{\"171978801122\":1...|                        4|                       235|                   222|        {\"21-45\":7,\"481-5...|                         72|         {\"26-50\":15,\"51-7...|\n",
            "| 67|170318348001|2020-02-07T00:00:...|2020-02-08T00:00:...|          32|                     7063.0|      {\"16001-50000\":2,...|                      {\"16001-50000\":12...|                          12|                   382|    {\"721-1080\":3,\"36...|[15,15,14,14,14,1...|                              4|                              6|{\"170318382002\":2...|                        1|                       130|                    71|        {\"21-45\":1,\"481-5...|                         67|         {\"0-25\":13,\"76-10...|\n",
            "| 68|170438411042|2020-02-07T00:00:...|2020-02-08T00:00:...|          57|                     5586.0|      {\"16001-50000\":7,...|                      {\"16001-50000\":69...|                          14|                   659|    {\"721-1080\":10,\"3...|[26,29,31,28,29,2...|                              7|                              5|{\"180731011002\":1...|                        1|                        79|                   104|        {\"21-45\":2,\"481-5...|                         76|         {\"0-25\":14,\"76-10...|\n",
            "| 69|170438427041|2020-02-07T00:00:...|2020-02-08T00:00:...|          84|                     8582.0|      {\"16001-50000\":9,...|                      {\"16001-50000\":20...|                          23|                   672|    {\"721-1080\":18,\"3...|[49,53,54,55,54,5...|                             17|                              6|{\"170438413222\":1...|                        2|                        97|                   171|        {\"21-45\":4,\"481-5...|                         82|         {\"26-50\":7,\"51-75...|\n",
            "| 77|180890307002|2020-02-07T00:00:...|2020-02-08T00:00:...|          58|                     5723.0|      {\"16001-50000\":6,...|                      {\"16001-50000\":25...|                          17|                   450|    {\"721-1080\":11,\"3...|[21,25,25,29,26,2...|                              2|                              3|{\"180890402001\":1...|                        1|                        36|                   109|        {\"21-45\":10,\"481-...|                         88|         {\"0-25\":11,\"76-10...|\n",
            "|320|170438445011|2020-02-07T00:00:...|2020-02-08T00:00:...|          48|                     2959.0|      {\"16001-50000\":6,...|                      {\"16001-50000\":80...|                          15|                   662|    {\"721-1080\":15,\"3...|[31,28,29,29,29,2...|                              9|                              9|{\"170318202013\":1...|                        1|                       295|                    98|        {\"481-540\":2,\"541...|                         64|         {\"26-50\":4,\"51-75...|\n",
            "|321|171118712022|2020-02-07T00:00:...|2020-02-08T00:00:...|          86|                     3552.0|      {\"16001-50000\":9,...|                      {\"16001-50000\":15...|                          24|                   787|    {\"721-1080\":28,\"3...|[55,59,62,57,60,5...|                             12|                             12|{\"171118709031\":1...|                        6|                       104|                   173|        {\"21-45\":3,\"481-5...|                         73|         {\"26-50\":2,\"51-75...|\n",
            "|325|180890408013|2020-02-07T00:00:...|2020-02-08T00:00:...|          72|                     7487.0|      {\"16001-50000\":12...|                      {\"16001-50000\":85...|                          18|                   505|    {\"721-1080\":19,\"3...|[33,37,35,35,37,3...|                              6|                              7|{\"181410112011\":1...|                        4|                       140|                   169|        {\"21-45\":2,\"481-5...|                         72|         {\"26-50\":4,\"51-75...|\n",
            "|554|170312004021|2020-02-07T00:00:...|2020-02-08T00:00:...|          98|                     3123.0|      {\"16001-50000\":3,...|                      {\"16001-50000\":21...|                          26|                   734|    {\"721-1080\":28,\"3...|[61,66,65,65,63,6...|                             18|                             11|{\"170311906022\":1...|                        2|                       257|                   201|        {\"21-45\":6,\"481-5...|                         69|         {\"0-25\":14,\"76-10...|\n",
            "|555|170312309002|2020-02-07T00:00:...|2020-02-08T00:00:...|          80|                     5832.0|      {\"16001-50000\":7,...|                      {\"16001-50000\":60...|                          21|                   656|    {\"721-1080\":19,\"3...|[45,49,48,45,46,4...|                              5|                              1|{\"170312307002\":2...|                        1|                        84|                   208|        {\"21-45\":3,\"481-5...|                         80|         {\"26-50\":1,\"51-75...|\n",
            "|556|170312838002|2020-02-07T00:00:...|2020-02-08T00:00:...|         126|                     4159.0|      {\"16001-50000\":9,...|                      {\"16001-50000\":59...|                          38|                   581|    {\"721-1080\":24,\"3...|[67,69,68,70,66,7...|                             14|                             11|{\"170318066002\":1...|                        3|                        82|                   258|        {\"21-45\":4,\"481-5...|                         84|         {\"26-50\":7,\"51-75...|\n",
            "|557|170318114023|2020-02-07T00:00:...|2020-02-08T00:00:...|          82|                     1917.0|      {\"16001-50000\":1,...|                      {\"16001-50000\":12...|                          31|                   559|    {\"721-1080\":11,\"3...|[41,44,44,44,43,4...|                             11|                              7|{\"170318114014\":2...|                        5|                        49|                   166|        {\"21-45\":4,\"481-5...|                         93|         {\"26-50\":1,\"51-75...|\n",
            "|558|170318117021|2020-02-07T00:00:...|2020-02-08T00:00:...|          74|                     6079.0|      {\"16001-50000\":8,...|                      {\"16001-50000\":10...|                          16|                   335|    {\"721-1080\":16,\"3...|[34,34,36,38,37,3...|                             11|                             10|{\"551091208001\":1...|                        3|                       113|                   149|        {\"21-45\":5,\"481-5...|                         66|         {\"0-25\":20,\"76-10...|\n",
            "+---+------------+--------------------+--------------------+------------+---------------------------+--------------------------+------------------------------------------+----------------------------+----------------------+------------------------+--------------------+-------------------------------+-------------------------------+--------------------+-------------------------+--------------------------+----------------------+----------------------------+---------------------------+-----------------------------+\n",
            "only showing top 20 rows\n",
            "\n",
            "time: 9.14 s (started: 2021-04-16 04:56:26 +00:00)\n"
          ],
          "name": "stdout"
        }
      ]
    },
    {
      "cell_type": "code",
      "metadata": {
        "colab": {
          "base_uri": "https://localhost:8080/"
        },
        "id": "9fgHRKKEz-cA",
        "outputId": "b9e74fbb-2952-40dd-c488-d5c2918a2ef2"
      },
      "source": [
        "# View schema\n",
        "df_soc.printSchema()"
      ],
      "execution_count": 26,
      "outputs": [
        {
          "output_type": "stream",
          "text": [
            "root\n",
            " |-- _c0: string (nullable = true)\n",
            " |-- cbg: string (nullable = true)\n",
            " |-- date_range_start: string (nullable = true)\n",
            " |-- date_range_end: string (nullable = true)\n",
            " |-- device_count: string (nullable = true)\n",
            " |-- distance_traveled_from_home: string (nullable = true)\n",
            " |-- bucketed_distance_traveled: string (nullable = true)\n",
            " |-- median_dwell_at_bucketed_distance_traveled: string (nullable = true)\n",
            " |-- completely_home_device_count: string (nullable = true)\n",
            " |-- median_home_dwell_time: string (nullable = true)\n",
            " |-- bucketed_home_dwell_time: string (nullable = true)\n",
            " |-- at_home_by_each_hour: string (nullable = true)\n",
            " |-- part_time_work_behavior_devices: string (nullable = true)\n",
            " |-- full_time_work_behavior_devices: string (nullable = true)\n",
            " |-- destination_cbgs: string (nullable = true)\n",
            " |-- delivery_behavior_devices: string (nullable = true)\n",
            " |-- median_non_home_dwell_time: string (nullable = true)\n",
            " |-- candidate_device_count: string (nullable = true)\n",
            " |-- bucketed_away_from_home_time: string (nullable = true)\n",
            " |-- median_percentage_time_home: string (nullable = true)\n",
            " |-- bucketed_percentage_time_home: string (nullable = true)\n",
            "\n",
            "time: 4.87 ms (started: 2021-04-16 04:56:35 +00:00)\n"
          ],
          "name": "stdout"
        }
      ]
    },
    {
      "cell_type": "code",
      "metadata": {
        "id": "AlbhBqMUxjVa",
        "colab": {
          "base_uri": "https://localhost:8080/"
        },
        "outputId": "6feeaf85-bd3e-4e21-be71-b879cbf3bb6e"
      },
      "source": [
        "# # Take small sample of data to experiment with\n",
        "# df_soc = df_soc.limit(100)\n",
        "# df_soc.show()"
      ],
      "execution_count": 27,
      "outputs": [
        {
          "output_type": "stream",
          "text": [
            "time: 1.07 ms (started: 2021-04-16 04:56:35 +00:00)\n"
          ],
          "name": "stdout"
        }
      ]
    },
    {
      "cell_type": "code",
      "metadata": {
        "colab": {
          "base_uri": "https://localhost:8080/"
        },
        "id": "wh747sqcHi4-",
        "outputId": "77770f6c-cc9c-4cfa-8061-d5ca87663123"
      },
      "source": [
        "df_soc.createOrReplaceTempView('clean_ch')\n",
        "df_soc = spark.sql('SELECT cbg, date_range_start as date, device_count, completely_home_device_count, part_time_work_behavior_devices, full_time_work_behavior_devices FROM clean_ch WHERE device_count > 5')\n",
        "df_soc.show()"
      ],
      "execution_count": 28,
      "outputs": [
        {
          "output_type": "stream",
          "text": [
            "+------------+--------------------+------------+----------------------------+-------------------------------+-------------------------------+\n",
            "|         cbg|                date|device_count|completely_home_device_count|part_time_work_behavior_devices|full_time_work_behavior_devices|\n",
            "+------------+--------------------+------------+----------------------------+-------------------------------+-------------------------------+\n",
            "|170312304002|2020-02-07T00:00:...|          76|                          22|                              9|                              7|\n",
            "|170313005002|2020-02-07T00:00:...|          72|                          27|                             12|                              9|\n",
            "|170314208001|2020-02-07T00:00:...|         127|                          33|                             11|                             15|\n",
            "|170317608034|2020-02-07T00:00:...|         114|                          37|                             11|                             10|\n",
            "|170318033003|2020-02-07T00:00:...|          91|                          29|                              8|                             13|\n",
            "|170318146005|2020-02-07T00:00:...|          51|                          11|                              1|                              4|\n",
            "|170318182002|2020-02-07T00:00:...|          51|                          19|                              3|                              1|\n",
            "|170318240053|2020-02-07T00:00:...|         123|                          21|                             26|                             13|\n",
            "|170318348001|2020-02-07T00:00:...|          32|                          12|                              4|                              6|\n",
            "|170438411042|2020-02-07T00:00:...|          57|                          14|                              7|                              5|\n",
            "|170438427041|2020-02-07T00:00:...|          84|                          23|                             17|                              6|\n",
            "|180890307002|2020-02-07T00:00:...|          58|                          17|                              2|                              3|\n",
            "|170438445011|2020-02-07T00:00:...|          48|                          15|                              9|                              9|\n",
            "|171118712022|2020-02-07T00:00:...|          86|                          24|                             12|                             12|\n",
            "|180890408013|2020-02-07T00:00:...|          72|                          18|                              6|                              7|\n",
            "|170312004021|2020-02-07T00:00:...|          98|                          26|                             18|                             11|\n",
            "|170312309002|2020-02-07T00:00:...|          80|                          21|                              5|                              1|\n",
            "|170312838002|2020-02-07T00:00:...|         126|                          38|                             14|                             11|\n",
            "|170318114023|2020-02-07T00:00:...|          82|                          31|                             11|                              7|\n",
            "|170318117021|2020-02-07T00:00:...|          74|                          16|                             11|                             10|\n",
            "+------------+--------------------+------------+----------------------------+-------------------------------+-------------------------------+\n",
            "only showing top 20 rows\n",
            "\n",
            "time: 200 ms (started: 2021-04-16 04:56:35 +00:00)\n"
          ],
          "name": "stdout"
        }
      ]
    },
    {
      "cell_type": "code",
      "metadata": {
        "colab": {
          "base_uri": "https://localhost:8080/"
        },
        "id": "AsEegEtNyYZr",
        "outputId": "b22e40a0-0e0b-486b-f70b-cbfeef12839b"
      },
      "source": [
        "# View schema\n",
        "df_soc.printSchema()"
      ],
      "execution_count": 29,
      "outputs": [
        {
          "output_type": "stream",
          "text": [
            "root\n",
            " |-- cbg: string (nullable = true)\n",
            " |-- date: string (nullable = true)\n",
            " |-- device_count: string (nullable = true)\n",
            " |-- completely_home_device_count: string (nullable = true)\n",
            " |-- part_time_work_behavior_devices: string (nullable = true)\n",
            " |-- full_time_work_behavior_devices: string (nullable = true)\n",
            "\n",
            "time: 7.38 ms (started: 2021-04-16 04:56:35 +00:00)\n"
          ],
          "name": "stdout"
        }
      ]
    },
    {
      "cell_type": "code",
      "metadata": {
        "colab": {
          "base_uri": "https://localhost:8080/"
        },
        "id": "UL4qIhZu7JKC",
        "outputId": "18b56c84-ea08-4c1a-d6ba-e9b9849fe0f9"
      },
      "source": [
        "# Add completely home percentage column\n",
        "df_soc = df_soc.withColumn('completely_home_percentage', (df_soc['completely_home_device_count']/df_soc['device_count']) * 100)\n",
        "df_soc = df_soc.withColumn('part_time_work_percentage', (df_soc['part_time_work_behavior_devices']/df_soc['device_count']) * 100)\n",
        "df_soc = df_soc.withColumn('full_time_work_percentage', (df_soc['full_time_work_behavior_devices']/df_soc['device_count']) * 100)\n",
        "\n",
        "df_soc.show()"
      ],
      "execution_count": 30,
      "outputs": [
        {
          "output_type": "stream",
          "text": [
            "+------------+--------------------+------------+----------------------------+-------------------------------+-------------------------------+--------------------------+-------------------------+-------------------------+\n",
            "|         cbg|                date|device_count|completely_home_device_count|part_time_work_behavior_devices|full_time_work_behavior_devices|completely_home_percentage|part_time_work_percentage|full_time_work_percentage|\n",
            "+------------+--------------------+------------+----------------------------+-------------------------------+-------------------------------+--------------------------+-------------------------+-------------------------+\n",
            "|170312304002|2020-02-07T00:00:...|          76|                          22|                              9|                              7|        28.947368421052634|       11.842105263157894|        9.210526315789473|\n",
            "|170313005002|2020-02-07T00:00:...|          72|                          27|                             12|                              9|                      37.5|       16.666666666666664|                     12.5|\n",
            "|170314208001|2020-02-07T00:00:...|         127|                          33|                             11|                             15|        25.984251968503933|        8.661417322834646|       11.811023622047244|\n",
            "|170317608034|2020-02-07T00:00:...|         114|                          37|                             11|                             10|         32.45614035087719|        9.649122807017543|        8.771929824561402|\n",
            "|170318033003|2020-02-07T00:00:...|          91|                          29|                              8|                             13|        31.868131868131865|        8.791208791208792|       14.285714285714285|\n",
            "|170318146005|2020-02-07T00:00:...|          51|                          11|                              1|                              4|        21.568627450980394|       1.9607843137254901|       7.8431372549019605|\n",
            "|170318182002|2020-02-07T00:00:...|          51|                          19|                              3|                              1|        37.254901960784316|         5.88235294117647|       1.9607843137254901|\n",
            "|170318240053|2020-02-07T00:00:...|         123|                          21|                             26|                             13|        17.073170731707318|       21.138211382113823|       10.569105691056912|\n",
            "|170318348001|2020-02-07T00:00:...|          32|                          12|                              4|                              6|                      37.5|                     12.5|                    18.75|\n",
            "|170438411042|2020-02-07T00:00:...|          57|                          14|                              7|                              5|        24.561403508771928|       12.280701754385964|        8.771929824561402|\n",
            "|170438427041|2020-02-07T00:00:...|          84|                          23|                             17|                              6|        27.380952380952383|       20.238095238095237|        7.142857142857142|\n",
            "|180890307002|2020-02-07T00:00:...|          58|                          17|                              2|                              3|        29.310344827586203|       3.4482758620689653|        5.172413793103448|\n",
            "|170438445011|2020-02-07T00:00:...|          48|                          15|                              9|                              9|                     31.25|                    18.75|                    18.75|\n",
            "|171118712022|2020-02-07T00:00:...|          86|                          24|                             12|                             12|        27.906976744186046|       13.953488372093023|       13.953488372093023|\n",
            "|180890408013|2020-02-07T00:00:...|          72|                          18|                              6|                              7|                      25.0|        8.333333333333332|        9.722222222222223|\n",
            "|170312004021|2020-02-07T00:00:...|          98|                          26|                             18|                             11|         26.53061224489796|       18.367346938775512|       11.224489795918368|\n",
            "|170312309002|2020-02-07T00:00:...|          80|                          21|                              5|                              1|                     26.25|                     6.25|                     1.25|\n",
            "|170312838002|2020-02-07T00:00:...|         126|                          38|                             14|                             11|        30.158730158730158|        11.11111111111111|         8.73015873015873|\n",
            "|170318114023|2020-02-07T00:00:...|          82|                          31|                             11|                              7|         37.80487804878049|       13.414634146341465|        8.536585365853659|\n",
            "|170318117021|2020-02-07T00:00:...|          74|                          16|                             11|                             10|         21.62162162162162|       14.864864864864865|       13.513513513513514|\n",
            "+------------+--------------------+------------+----------------------------+-------------------------------+-------------------------------+--------------------------+-------------------------+-------------------------+\n",
            "only showing top 20 rows\n",
            "\n",
            "time: 369 ms (started: 2021-04-16 04:56:35 +00:00)\n"
          ],
          "name": "stdout"
        }
      ]
    },
    {
      "cell_type": "code",
      "metadata": {
        "colab": {
          "base_uri": "https://localhost:8080/"
        },
        "id": "U8Dh3u54x-Rw",
        "outputId": "546e4e3e-9a3e-4a74-be2b-e1e45b268e8b"
      },
      "source": [
        "df_soc.printSchema()"
      ],
      "execution_count": 31,
      "outputs": [
        {
          "output_type": "stream",
          "text": [
            "root\n",
            " |-- cbg: string (nullable = true)\n",
            " |-- date: string (nullable = true)\n",
            " |-- device_count: string (nullable = true)\n",
            " |-- completely_home_device_count: string (nullable = true)\n",
            " |-- part_time_work_behavior_devices: string (nullable = true)\n",
            " |-- full_time_work_behavior_devices: string (nullable = true)\n",
            " |-- completely_home_percentage: double (nullable = true)\n",
            " |-- part_time_work_percentage: double (nullable = true)\n",
            " |-- full_time_work_percentage: double (nullable = true)\n",
            "\n",
            "time: 5.86 ms (started: 2021-04-16 04:56:36 +00:00)\n"
          ],
          "name": "stdout"
        }
      ]
    },
    {
      "cell_type": "code",
      "metadata": {
        "colab": {
          "base_uri": "https://localhost:8080/"
        },
        "id": "OAUIODseCoSg",
        "outputId": "516edaa0-f67d-489b-8d47-4a3bd9cfbb69"
      },
      "source": [
        "#Create temp view\n",
        "df_soc.createOrReplaceTempView('mobility')"
      ],
      "execution_count": 32,
      "outputs": [
        {
          "output_type": "stream",
          "text": [
            "time: 93.9 ms (started: 2021-04-16 04:56:36 +00:00)\n"
          ],
          "name": "stdout"
        }
      ]
    },
    {
      "cell_type": "markdown",
      "metadata": {
        "id": "Sj4xc1gTpm2X"
      },
      "source": [
        "\n",
        "\n",
        "---\n",
        "\n",
        "\n",
        "**Demographic Data**\n",
        "\n",
        "\n",
        "\n",
        "\n",
        "\n",
        "\n",
        "---\n",
        "\n"
      ]
    },
    {
      "cell_type": "code",
      "metadata": {
        "colab": {
          "base_uri": "https://localhost:8080/"
        },
        "id": "1SVVsXtuzqRf",
        "outputId": "f9f629e6-c77c-4262-aaef-d4067eaf62e9"
      },
      "source": [
        "# Read poverty data\n",
        "# Read data into RDD\n",
        "df_demographic = spark.read.format('csv').option('header','true').option('quote',\"\\\"\").option('escape',\"\\\"\").load(str(path/city/'ch.csv'))\n",
        "df_demographic.createOrReplaceTempView('demographic')\n",
        "df_demographic.show()"
      ],
      "execution_count": 33,
      "outputs": [
        {
          "output_type": "stream",
          "text": [
            "+------------+---------+------------------+-------------------+\n",
            "|         cbg|pop_total|poverty_percentage|     perc_whiteonly|\n",
            "+------------+---------+------------------+-------------------+\n",
            "|170312909001|      935|  55.8288770053476|                0.0|\n",
            "|170312909002|     1129|45.261293179805136|                0.0|\n",
            "|170312909003|      765|  39.7078353253652|                0.0|\n",
            "|170312909004|     1075|30.325581395348838|                0.0|\n",
            "|170318387002|     1016|31.003937007874015| 13.484251968503939|\n",
            "|170313102001|      835|16.766467065868262|  78.20359281437126|\n",
            "|170313102002|      686| 16.61807580174927| 50.583090379008745|\n",
            "|170314005002|      807|40.644361833952914|                0.0|\n",
            "|170314804006|      710| 1.971830985915493|  1.267605633802817|\n",
            "|170314804007|      650|               0.0|                0.0|\n",
            "|170314805001|     1141|  9.55302366345311|  4.206836108676599|\n",
            "|170312608002|     1100| 55.45454545454545| 2.8181818181818183|\n",
            "|170312609001|      836| 44.85645933014354|  8.971291866028707|\n",
            "|170312609002|      614| 35.82342954159593| 0.9771986970684038|\n",
            "|170312610002|     1265| 35.08771929824561|0.31620553359683795|\n",
            "|171978805071|     6606| 9.564953766863727| 37.753557372085986|\n",
            "|171978803033|     1165|               0.0|  81.80257510729614|\n",
            "|170318036032|     1431|0.9084556254367574|              100.0|\n",
            "|170310814022|     1708| 8.021077283372366|  74.35597189695551|\n",
            "|170310609004|     3562| 7.130825379000562|   91.4093206064009|\n",
            "+------------+---------+------------------+-------------------+\n",
            "only showing top 20 rows\n",
            "\n",
            "time: 592 ms (started: 2021-04-16 04:56:36 +00:00)\n"
          ],
          "name": "stdout"
        }
      ]
    },
    {
      "cell_type": "code",
      "metadata": {
        "colab": {
          "base_uri": "https://localhost:8080/"
        },
        "id": "Ff9bk8_6qBQ2",
        "outputId": "29f977c9-fd5c-4df8-a5f1-97b8176f4861"
      },
      "source": [
        "df_mob_demo = spark.sql('SELECT mobility.*, demographic.perc_whiteonly from mobility INNER JOIN demographic ON mobility.cbg = demographic.cbg')\n",
        "df_mob_demo.createOrReplaceTempView('demographic_mobility')\n",
        "df_mob_demo.show()\n"
      ],
      "execution_count": 34,
      "outputs": [
        {
          "output_type": "stream",
          "text": [
            "+------------+--------------------+------------+----------------------------+-------------------------------+-------------------------------+--------------------------+-------------------------+-------------------------+------------------+\n",
            "|         cbg|                date|device_count|completely_home_device_count|part_time_work_behavior_devices|full_time_work_behavior_devices|completely_home_percentage|part_time_work_percentage|full_time_work_percentage|    perc_whiteonly|\n",
            "+------------+--------------------+------------+----------------------------+-------------------------------+-------------------------------+--------------------------+-------------------------+-------------------------+------------------+\n",
            "|170312304002|2020-02-07T00:00:...|          76|                          22|                              9|                              7|        28.947368421052634|       11.842105263157894|        9.210526315789473| 51.01351351351351|\n",
            "|170313005002|2020-02-07T00:00:...|          72|                          27|                             12|                              9|                      37.5|       16.666666666666664|                     12.5| 61.57725813846859|\n",
            "|170314208001|2020-02-07T00:00:...|         127|                          33|                             11|                             15|        25.984251968503933|        8.661417322834646|       11.811023622047244|               0.0|\n",
            "|170317608034|2020-02-07T00:00:...|         114|                          37|                             11|                             10|         32.45614035087719|        9.649122807017543|        8.771929824561402| 87.55884330867518|\n",
            "|170318033003|2020-02-07T00:00:...|          91|                          29|                              8|                             13|        31.868131868131865|        8.791208791208792|       14.285714285714285| 85.16320474777447|\n",
            "|170318146005|2020-02-07T00:00:...|          51|                          11|                              1|                              4|        21.568627450980394|       1.9607843137254901|       7.8431372549019605| 47.44268077601411|\n",
            "|170318182002|2020-02-07T00:00:...|          51|                          19|                              3|                              1|        37.254901960784316|         5.88235294117647|       1.9607843137254901| 51.31717597471022|\n",
            "|170318240053|2020-02-07T00:00:...|         123|                          21|                             26|                             13|        17.073170731707318|       21.138211382113823|       10.569105691056912| 93.10130515848353|\n",
            "|170318348001|2020-02-07T00:00:...|          32|                          12|                              4|                              6|                      37.5|                     12.5|                    18.75|               0.0|\n",
            "|170438411042|2020-02-07T00:00:...|          57|                          14|                              7|                              5|        24.561403508771928|       12.280701754385964|        8.771929824561402| 91.74107142857143|\n",
            "|170438427041|2020-02-07T00:00:...|          84|                          23|                             17|                              6|        27.380952380952383|       20.238095238095237|        7.142857142857142| 70.08547008547008|\n",
            "|180890307002|2020-02-07T00:00:...|          58|                          17|                              2|                              3|        29.310344827586203|       3.4482758620689653|        5.172413793103448|25.740479548660083|\n",
            "|170438445011|2020-02-07T00:00:...|          48|                          15|                              9|                              9|                     31.25|                    18.75|                    18.75| 84.01639344262296|\n",
            "|171118712022|2020-02-07T00:00:...|          86|                          24|                             12|                             12|        27.906976744186046|       13.953488372093023|       13.953488372093023| 80.01383125864454|\n",
            "|180890408013|2020-02-07T00:00:...|          72|                          18|                              6|                              7|                      25.0|        8.333333333333332|        9.722222222222223| 97.89356984478935|\n",
            "|170312004021|2020-02-07T00:00:...|          98|                          26|                             18|                             11|         26.53061224489796|       18.367346938775512|       11.224489795918368|20.242608036391204|\n",
            "|170312309002|2020-02-07T00:00:...|          80|                          21|                              5|                              1|                     26.25|                     6.25|                     1.25| 41.00250626566416|\n",
            "|170312838002|2020-02-07T00:00:...|         126|                          38|                             14|                             11|        30.158730158730158|        11.11111111111111|         8.73015873015873| 38.21439604572135|\n",
            "|170318114023|2020-02-07T00:00:...|          82|                          31|                             11|                              7|         37.80487804878049|       13.414634146341465|        8.536585365853659| 83.46774193548387|\n",
            "|170318117021|2020-02-07T00:00:...|          74|                          16|                             11|                             10|         21.62162162162162|       14.864864864864865|       13.513513513513514|42.518248175182485|\n",
            "+------------+--------------------+------------+----------------------------+-------------------------------+-------------------------------+--------------------------+-------------------------+-------------------------+------------------+\n",
            "only showing top 20 rows\n",
            "\n",
            "time: 460 ms (started: 2021-04-16 04:56:36 +00:00)\n"
          ],
          "name": "stdout"
        }
      ]
    },
    {
      "cell_type": "code",
      "metadata": {
        "id": "6vFzCEtNukZy",
        "colab": {
          "base_uri": "https://localhost:8080/"
        },
        "outputId": "7865ca7a-55be-463b-b44e-744e8739447f"
      },
      "source": [
        "# DIVIDING THE PEOPLE TOP 20 PERCENT AND BOTTOM 20 PERCENT\n",
        "\n",
        "df_mob_demo_high_class =  spark.sql('SELECT * FROM demographic_mobility WHERE perc_whiteonly > 80')\n",
        "grouped_df_mob_demo_high_class = df_mob_demo_high_class.groupBy(\"date\").mean(\"completely_home_percentage\").withColumnRenamed('avg(completely_home_percentage)','completely_home_percentage')\n",
        "grouped_df_mob_demo_high_class.createOrReplaceTempView('mob_demo_white_majority')\n",
        "\n",
        "\n",
        "df_mob_demo_low_class =  spark.sql('SELECT * FROM demographic_mobility WHERE perc_whiteonly < 20')\n",
        "grouped_df_mob_demo_low_class = df_mob_demo_low_class.groupBy(\"date\").mean(\"completely_home_percentage\").withColumnRenamed('avg(completely_home_percentage)','completely_home_percentage')\n",
        "grouped_df_mob_demo_low_class.createOrReplaceTempView('mob_demo_white_minority')\n",
        "\n",
        "\n",
        "\n",
        "grouped_df_mob_demo_combined = spark.sql(\"\"\"\n",
        "\n",
        "SELECT wh.date,wh.completely_home_percentage as high_comp_home_perc,\n",
        "wl.completely_home_percentage as low_comp_home_perc  \n",
        "FROM mob_demo_white_majority wh INNER JOIN mob_demo_white_minority wl ON wh.date = wl.date\n",
        "\n",
        "\"\"\")\n"
      ],
      "execution_count": 35,
      "outputs": [
        {
          "output_type": "stream",
          "text": [
            "time: 172 ms (started: 2021-04-16 04:56:37 +00:00)\n"
          ],
          "name": "stdout"
        }
      ]
    },
    {
      "cell_type": "code",
      "metadata": {
        "id": "oEvvbPFXJG_g",
        "colab": {
          "base_uri": "https://localhost:8080/"
        },
        "outputId": "8bbed85a-9cef-4deb-e691-7833e91be96f"
      },
      "source": [
        "#grouped_df_mob_demo_combined.show()\n"
      ],
      "execution_count": 36,
      "outputs": [
        {
          "output_type": "stream",
          "text": [
            "time: 941 µs (started: 2021-04-16 04:56:37 +00:00)\n"
          ],
          "name": "stdout"
        }
      ]
    },
    {
      "cell_type": "code",
      "metadata": {
        "colab": {
          "base_uri": "https://localhost:8080/",
          "height": 418
        },
        "id": "V4EHlNdfSVal",
        "outputId": "5dbf2aed-d391-4f28-fadc-93962b6acabc"
      },
      "source": [
        "grouped_df_mob_demo_combined_pandas = grouped_df_mob_demo_combined.toPandas()\n",
        "grouped_df_mob_demo_combined_pandas"
      ],
      "execution_count": 37,
      "outputs": [
        {
          "output_type": "execute_result",
          "data": {
            "text/html": [
              "<div>\n",
              "<style scoped>\n",
              "    .dataframe tbody tr th:only-of-type {\n",
              "        vertical-align: middle;\n",
              "    }\n",
              "\n",
              "    .dataframe tbody tr th {\n",
              "        vertical-align: top;\n",
              "    }\n",
              "\n",
              "    .dataframe thead th {\n",
              "        text-align: right;\n",
              "    }\n",
              "</style>\n",
              "<table border=\"1\" class=\"dataframe\">\n",
              "  <thead>\n",
              "    <tr style=\"text-align: right;\">\n",
              "      <th></th>\n",
              "      <th>date</th>\n",
              "      <th>high_comp_home_perc</th>\n",
              "      <th>low_comp_home_perc</th>\n",
              "    </tr>\n",
              "  </thead>\n",
              "  <tbody>\n",
              "    <tr>\n",
              "      <th>0</th>\n",
              "      <td>2020-04-10T00:00:00-05:00</td>\n",
              "      <td>44.424543</td>\n",
              "      <td>41.380686</td>\n",
              "    </tr>\n",
              "    <tr>\n",
              "      <th>1</th>\n",
              "      <td>2020-05-12T00:00:00-05:00</td>\n",
              "      <td>40.724944</td>\n",
              "      <td>40.059169</td>\n",
              "    </tr>\n",
              "    <tr>\n",
              "      <th>2</th>\n",
              "      <td>2020-06-14T00:00:00-05:00</td>\n",
              "      <td>33.460101</td>\n",
              "      <td>37.162803</td>\n",
              "    </tr>\n",
              "    <tr>\n",
              "      <th>3</th>\n",
              "      <td>2020-07-03T00:00:00-05:00</td>\n",
              "      <td>27.520350</td>\n",
              "      <td>30.974934</td>\n",
              "    </tr>\n",
              "    <tr>\n",
              "      <th>4</th>\n",
              "      <td>2020-10-21T00:00:00-05:00</td>\n",
              "      <td>30.660111</td>\n",
              "      <td>35.433094</td>\n",
              "    </tr>\n",
              "    <tr>\n",
              "      <th>...</th>\n",
              "      <td>...</td>\n",
              "      <td>...</td>\n",
              "      <td>...</td>\n",
              "    </tr>\n",
              "    <tr>\n",
              "      <th>361</th>\n",
              "      <td>2020-01-25T00:00:00-06:00</td>\n",
              "      <td>23.702325</td>\n",
              "      <td>30.522261</td>\n",
              "    </tr>\n",
              "    <tr>\n",
              "      <th>362</th>\n",
              "      <td>2020-09-15T00:00:00-05:00</td>\n",
              "      <td>30.461303</td>\n",
              "      <td>35.060581</td>\n",
              "    </tr>\n",
              "    <tr>\n",
              "      <th>363</th>\n",
              "      <td>2020-10-25T00:00:00-05:00</td>\n",
              "      <td>34.472705</td>\n",
              "      <td>36.841690</td>\n",
              "    </tr>\n",
              "    <tr>\n",
              "      <th>364</th>\n",
              "      <td>2020-10-08T00:00:00-05:00</td>\n",
              "      <td>28.221108</td>\n",
              "      <td>32.901128</td>\n",
              "    </tr>\n",
              "    <tr>\n",
              "      <th>365</th>\n",
              "      <td>2020-10-29T00:00:00-05:00</td>\n",
              "      <td>30.462678</td>\n",
              "      <td>33.959526</td>\n",
              "    </tr>\n",
              "  </tbody>\n",
              "</table>\n",
              "<p>366 rows × 3 columns</p>\n",
              "</div>"
            ],
            "text/plain": [
              "                          date  high_comp_home_perc  low_comp_home_perc\n",
              "0    2020-04-10T00:00:00-05:00            44.424543           41.380686\n",
              "1    2020-05-12T00:00:00-05:00            40.724944           40.059169\n",
              "2    2020-06-14T00:00:00-05:00            33.460101           37.162803\n",
              "3    2020-07-03T00:00:00-05:00            27.520350           30.974934\n",
              "4    2020-10-21T00:00:00-05:00            30.660111           35.433094\n",
              "..                         ...                  ...                 ...\n",
              "361  2020-01-25T00:00:00-06:00            23.702325           30.522261\n",
              "362  2020-09-15T00:00:00-05:00            30.461303           35.060581\n",
              "363  2020-10-25T00:00:00-05:00            34.472705           36.841690\n",
              "364  2020-10-08T00:00:00-05:00            28.221108           32.901128\n",
              "365  2020-10-29T00:00:00-05:00            30.462678           33.959526\n",
              "\n",
              "[366 rows x 3 columns]"
            ]
          },
          "metadata": {
            "tags": []
          },
          "execution_count": 37
        },
        {
          "output_type": "stream",
          "text": [
            "time: 3min 43s (started: 2021-04-16 04:56:37 +00:00)\n"
          ],
          "name": "stdout"
        }
      ]
    },
    {
      "cell_type": "code",
      "metadata": {
        "id": "_qgAuW8GErIq"
      },
      "source": [
        ""
      ],
      "execution_count": 37,
      "outputs": []
    },
    {
      "cell_type": "markdown",
      "metadata": {
        "id": "stkLRnaXuzBm"
      },
      "source": [
        "---\n",
        "**Graph** \n",
        "\n",
        "---"
      ]
    },
    {
      "cell_type": "code",
      "metadata": {
        "colab": {
          "base_uri": "https://localhost:8080/",
          "height": 520
        },
        "id": "pTTAkF1Iwesw",
        "outputId": "ff8f309c-9540-4eb7-e4d3-93d84d81210c"
      },
      "source": [
        "base = alt.Chart(grouped_df_mob_demo_combined_pandas.reset_index()).encode(x='date')\n",
        "\n",
        "alt.layer(\n",
        "    base.mark_line(color='blue').encode(y='high_comp_home_perc'),\n",
        "    \n",
        "    base.mark_line(color='red').encode(y='low_comp_home_perc')\n",
        "\n",
        ")"
      ],
      "execution_count": 38,
      "outputs": [
        {
          "output_type": "execute_result",
          "data": {
            "text/plain": [
              "alt.LayerChart(...)"
            ],
            "text/html": [
              "\n",
              "<div id=\"altair-viz-b38b96d71ba1476f8a6def984611ca38\"></div>\n",
              "<script type=\"text/javascript\">\n",
              "  (function(spec, embedOpt){\n",
              "    let outputDiv = document.currentScript.previousElementSibling;\n",
              "    if (outputDiv.id !== \"altair-viz-b38b96d71ba1476f8a6def984611ca38\") {\n",
              "      outputDiv = document.getElementById(\"altair-viz-b38b96d71ba1476f8a6def984611ca38\");\n",
              "    }\n",
              "    const paths = {\n",
              "      \"vega\": \"https://cdn.jsdelivr.net/npm//vega@5?noext\",\n",
              "      \"vega-lib\": \"https://cdn.jsdelivr.net/npm//vega-lib?noext\",\n",
              "      \"vega-lite\": \"https://cdn.jsdelivr.net/npm//vega-lite@4.8.1?noext\",\n",
              "      \"vega-embed\": \"https://cdn.jsdelivr.net/npm//vega-embed@6?noext\",\n",
              "    };\n",
              "\n",
              "    function loadScript(lib) {\n",
              "      return new Promise(function(resolve, reject) {\n",
              "        var s = document.createElement('script');\n",
              "        s.src = paths[lib];\n",
              "        s.async = true;\n",
              "        s.onload = () => resolve(paths[lib]);\n",
              "        s.onerror = () => reject(`Error loading script: ${paths[lib]}`);\n",
              "        document.getElementsByTagName(\"head\")[0].appendChild(s);\n",
              "      });\n",
              "    }\n",
              "\n",
              "    function showError(err) {\n",
              "      outputDiv.innerHTML = `<div class=\"error\" style=\"color:red;\">${err}</div>`;\n",
              "      throw err;\n",
              "    }\n",
              "\n",
              "    function displayChart(vegaEmbed) {\n",
              "      vegaEmbed(outputDiv, spec, embedOpt)\n",
              "        .catch(err => showError(`Javascript Error: ${err.message}<br>This usually means there's a typo in your chart specification. See the javascript console for the full traceback.`));\n",
              "    }\n",
              "\n",
              "    if(typeof define === \"function\" && define.amd) {\n",
              "      requirejs.config({paths});\n",
              "      require([\"vega-embed\"], displayChart, err => showError(`Error loading script: ${err.message}`));\n",
              "    } else if (typeof vegaEmbed === \"function\") {\n",
              "      displayChart(vegaEmbed);\n",
              "    } else {\n",
              "      loadScript(\"vega\")\n",
              "        .then(() => loadScript(\"vega-lite\"))\n",
              "        .then(() => loadScript(\"vega-embed\"))\n",
              "        .catch(showError)\n",
              "        .then(() => displayChart(vegaEmbed));\n",
              "    }\n",
              "  })({\"config\": {\"view\": {\"continuousWidth\": 400, \"continuousHeight\": 300}}, \"layer\": [{\"mark\": {\"type\": \"line\", \"color\": \"blue\"}, \"encoding\": {\"x\": {\"type\": \"nominal\", \"field\": \"date\"}, \"y\": {\"type\": \"quantitative\", \"field\": \"high_comp_home_perc\"}}}, {\"mark\": {\"type\": \"line\", \"color\": \"red\"}, \"encoding\": {\"x\": {\"type\": \"nominal\", \"field\": \"date\"}, \"y\": {\"type\": \"quantitative\", \"field\": \"low_comp_home_perc\"}}}], \"data\": {\"name\": \"data-ea74129e4be6a88596b2f13077618477\"}, \"$schema\": \"https://vega.github.io/schema/vega-lite/v4.8.1.json\", \"datasets\": {\"data-ea74129e4be6a88596b2f13077618477\": [{\"index\": 0, \"date\": \"2020-04-10T00:00:00-05:00\", \"high_comp_home_perc\": 44.42454290889971, \"low_comp_home_perc\": 41.38068550574376}, {\"index\": 1, \"date\": \"2020-05-12T00:00:00-05:00\", \"high_comp_home_perc\": 40.72494436693119, \"low_comp_home_perc\": 40.059169354386626}, {\"index\": 2, \"date\": \"2020-06-14T00:00:00-05:00\", \"high_comp_home_perc\": 33.460100574951056, \"low_comp_home_perc\": 37.16280289687732}, {\"index\": 3, \"date\": \"2020-07-03T00:00:00-05:00\", \"high_comp_home_perc\": 27.520349854515032, \"low_comp_home_perc\": 30.97493403050891}, {\"index\": 4, \"date\": \"2020-10-21T00:00:00-05:00\", \"high_comp_home_perc\": 30.66011101630876, \"low_comp_home_perc\": 35.43309412614157}, {\"index\": 5, \"date\": \"2020-11-21T00:00:00-06:00\", \"high_comp_home_perc\": 29.898213253766617, \"low_comp_home_perc\": 31.463686693674905}, {\"index\": 6, \"date\": \"2020-05-04T00:00:00-05:00\", \"high_comp_home_perc\": 45.49546009293235, \"low_comp_home_perc\": 42.23099107792773}, {\"index\": 7, \"date\": \"2020-07-28T00:00:00-05:00\", \"high_comp_home_perc\": 28.682923038961313, \"low_comp_home_perc\": 33.842278032482525}, {\"index\": 8, \"date\": \"2020-09-09T00:00:00-05:00\", \"high_comp_home_perc\": 29.122615256076546, \"low_comp_home_perc\": 32.778373646464686}, {\"index\": 9, \"date\": \"2020-02-26T00:00:00-06:00\", \"high_comp_home_perc\": 21.17351381261308, \"low_comp_home_perc\": 25.604617123314707}, {\"index\": 10, \"date\": \"2020-04-17T00:00:00-05:00\", \"high_comp_home_perc\": 47.43914767057978, \"low_comp_home_perc\": 43.192846500115486}, {\"index\": 11, \"date\": \"2020-08-20T00:00:00-05:00\", \"high_comp_home_perc\": 27.11958766162385, \"low_comp_home_perc\": 30.89417704126526}, {\"index\": 12, \"date\": \"2020-10-06T00:00:00-05:00\", \"high_comp_home_perc\": 30.03709582082458, \"low_comp_home_perc\": 34.642490149301445}, {\"index\": 13, \"date\": \"2020-08-21T00:00:00-05:00\", \"high_comp_home_perc\": 25.842517868591347, \"low_comp_home_perc\": 30.494291562081745}, {\"index\": 14, \"date\": \"2020-03-03T00:00:00-06:00\", \"high_comp_home_perc\": 20.127725942676516, \"low_comp_home_perc\": 25.54259957548567}, {\"index\": 15, \"date\": \"2020-10-11T00:00:00-05:00\", \"high_comp_home_perc\": 29.744309074807557, \"low_comp_home_perc\": 33.76030469565661}, {\"index\": 16, \"date\": \"2020-07-16T00:00:00-05:00\", \"high_comp_home_perc\": 29.645267143947358, \"low_comp_home_perc\": 33.081924381921944}, {\"index\": 17, \"date\": \"2020-09-18T00:00:00-05:00\", \"high_comp_home_perc\": 25.862989236598303, \"low_comp_home_perc\": 30.439304466019113}, {\"index\": 18, \"date\": \"2020-11-13T00:00:00-06:00\", \"high_comp_home_perc\": 29.399175168713658, \"low_comp_home_perc\": 31.46918218296129}, {\"index\": 19, \"date\": \"2020-08-24T00:00:00-05:00\", \"high_comp_home_perc\": 29.1655527117538, \"low_comp_home_perc\": 32.13801003238868}, {\"index\": 20, \"date\": \"2020-09-16T00:00:00-05:00\", \"high_comp_home_perc\": 28.950388550869718, \"low_comp_home_perc\": 33.388825602129366}, {\"index\": 21, \"date\": \"2020-10-09T00:00:00-05:00\", \"high_comp_home_perc\": 24.739640297324847, \"low_comp_home_perc\": 29.286150565817344}, {\"index\": 22, \"date\": \"2020-12-01T00:00:00-06:00\", \"high_comp_home_perc\": 34.0725794109601, \"low_comp_home_perc\": 35.03669422382968}, {\"index\": 23, \"date\": \"2020-04-20T00:00:00-05:00\", \"high_comp_home_perc\": 44.88347017861422, \"low_comp_home_perc\": 40.710477776911546}, {\"index\": 24, \"date\": \"2020-07-21T00:00:00-05:00\", \"high_comp_home_perc\": 29.939834723894652, \"low_comp_home_perc\": 34.04154749718941}, {\"index\": 25, \"date\": \"2020-10-01T00:00:00-05:00\", \"high_comp_home_perc\": 26.044517838691277, \"low_comp_home_perc\": 28.35876449555461}, {\"index\": 26, \"date\": \"2020-11-04T00:00:00-06:00\", \"high_comp_home_perc\": 29.140901340706893, \"low_comp_home_perc\": 31.824321193438827}, {\"index\": 27, \"date\": \"2020-12-16T00:00:00-06:00\", \"high_comp_home_perc\": 32.04036581533206, \"low_comp_home_perc\": 34.60248278219669}, {\"index\": 28, \"date\": \"2020-08-12T00:00:00-05:00\", \"high_comp_home_perc\": 26.95797043296113, \"low_comp_home_perc\": 30.260694242737273}, {\"index\": 29, \"date\": \"2020-08-14T00:00:00-05:00\", \"high_comp_home_perc\": 25.334661210397726, \"low_comp_home_perc\": 28.910837375886427}, {\"index\": 30, \"date\": \"2020-11-02T00:00:00-06:00\", \"high_comp_home_perc\": 32.69502781141049, \"low_comp_home_perc\": 35.15406148779324}, {\"index\": 31, \"date\": \"2020-12-15T00:00:00-06:00\", \"high_comp_home_perc\": 32.798819466048016, \"low_comp_home_perc\": 35.336859174642}, {\"index\": 32, \"date\": \"2020-05-30T00:00:00-05:00\", \"high_comp_home_perc\": 31.12540551304479, \"low_comp_home_perc\": 34.21231668564147}, {\"index\": 33, \"date\": \"2020-06-01T00:00:00-05:00\", \"high_comp_home_perc\": 37.67286384536868, \"low_comp_home_perc\": 40.664692081009264}, {\"index\": 34, \"date\": \"2020-07-13T00:00:00-05:00\", \"high_comp_home_perc\": 30.114651907452153, \"low_comp_home_perc\": 33.162547200149184}, {\"index\": 35, \"date\": \"2020-07-30T00:00:00-05:00\", \"high_comp_home_perc\": 26.90488564478595, \"low_comp_home_perc\": 30.932803753057275}, {\"index\": 36, \"date\": \"2020-08-04T00:00:00-05:00\", \"high_comp_home_perc\": 28.5102688983134, \"low_comp_home_perc\": 33.16412849254928}, {\"index\": 37, \"date\": \"2020-08-08T00:00:00-05:00\", \"high_comp_home_perc\": 26.84753833720899, \"low_comp_home_perc\": 29.543273341049986}, {\"index\": 38, \"date\": \"2020-11-29T00:00:00-06:00\", \"high_comp_home_perc\": 35.6373199705735, \"low_comp_home_perc\": 36.247426723196945}, {\"index\": 39, \"date\": \"2020-12-11T00:00:00-06:00\", \"high_comp_home_perc\": 31.004903623548184, \"low_comp_home_perc\": 33.116283170925996}, {\"index\": 40, \"date\": \"2020-12-17T00:00:00-06:00\", \"high_comp_home_perc\": 31.428040608472063, \"low_comp_home_perc\": 34.82713795118949}, {\"index\": 41, \"date\": \"2020-03-16T00:00:00-05:00\", \"high_comp_home_perc\": 33.16136389263401, \"low_comp_home_perc\": 31.852230044197253}, {\"index\": 42, \"date\": \"2020-04-22T00:00:00-05:00\", \"high_comp_home_perc\": 44.2827596643039, \"low_comp_home_perc\": 40.87513814250347}, {\"index\": 43, \"date\": \"2020-01-13T00:00:00-06:00\", \"high_comp_home_perc\": 20.079156752718472, \"low_comp_home_perc\": 28.055856151091948}, {\"index\": 44, \"date\": \"2020-01-21T00:00:00-06:00\", \"high_comp_home_perc\": 19.059821741616087, \"low_comp_home_perc\": 27.536682069846048}, {\"index\": 45, \"date\": \"2020-10-30T00:00:00-05:00\", \"high_comp_home_perc\": 26.928977533374216, \"low_comp_home_perc\": 29.363299028378258}, {\"index\": 46, \"date\": \"2020-04-03T00:00:00-05:00\", \"high_comp_home_perc\": 44.181067507109546, \"low_comp_home_perc\": 41.925673484674704}, {\"index\": 47, \"date\": \"2020-04-07T00:00:00-05:00\", \"high_comp_home_perc\": 46.47168406009411, \"low_comp_home_perc\": 44.12263665451236}, {\"index\": 48, \"date\": \"2020-07-11T00:00:00-05:00\", \"high_comp_home_perc\": 28.57209767690592, \"low_comp_home_perc\": 29.83122045882286}, {\"index\": 49, \"date\": \"2020-07-19T00:00:00-05:00\", \"high_comp_home_perc\": 35.7024213757832, \"low_comp_home_perc\": 37.99962923669599}, {\"index\": 50, \"date\": \"2020-08-28T00:00:00-05:00\", \"high_comp_home_perc\": 27.20068455132225, \"low_comp_home_perc\": 30.48640247652661}, {\"index\": 51, \"date\": \"2020-09-08T00:00:00-05:00\", \"high_comp_home_perc\": 32.981825190460505, \"low_comp_home_perc\": 37.00488748539988}, {\"index\": 52, \"date\": \"2020-10-02T00:00:00-05:00\", \"high_comp_home_perc\": 26.40165554188962, \"low_comp_home_perc\": 30.095986706446215}, {\"index\": 53, \"date\": \"2020-01-11T00:00:00-06:00\", \"high_comp_home_perc\": 29.669037237527416, \"low_comp_home_perc\": 34.72695947692505}, {\"index\": 54, \"date\": \"2020-02-18T00:00:00-06:00\", \"high_comp_home_perc\": 19.94835512001011, \"low_comp_home_perc\": 26.789029149522683}, {\"index\": 55, \"date\": \"2020-08-29T00:00:00-05:00\", \"high_comp_home_perc\": 25.936680223575394, \"low_comp_home_perc\": 30.405172708574504}, {\"index\": 56, \"date\": \"2020-10-24T00:00:00-05:00\", \"high_comp_home_perc\": 28.8640294390066, \"low_comp_home_perc\": 33.17448517051001}, {\"index\": 57, \"date\": \"2020-04-11T00:00:00-05:00\", \"high_comp_home_perc\": 45.55867949918383, \"low_comp_home_perc\": 42.81592280221783}, {\"index\": 58, \"date\": \"2020-12-10T00:00:00-06:00\", \"high_comp_home_perc\": 30.551177395537234, \"low_comp_home_perc\": 33.28294687084834}, {\"index\": 59, \"date\": \"2020-08-22T00:00:00-05:00\", \"high_comp_home_perc\": 25.12333399396094, \"low_comp_home_perc\": 29.32047506898548}, {\"index\": 60, \"date\": \"2020-11-12T00:00:00-06:00\", \"high_comp_home_perc\": 30.223312795697375, \"low_comp_home_perc\": 32.75183752889756}, {\"index\": 61, \"date\": \"2020-03-04T00:00:00-06:00\", \"high_comp_home_perc\": 21.669045437984217, \"low_comp_home_perc\": 28.430480566568196}, {\"index\": 62, \"date\": \"2020-02-20T00:00:00-06:00\", \"high_comp_home_perc\": 19.392704794408207, \"low_comp_home_perc\": 25.664888289251788}, {\"index\": 63, \"date\": \"2020-08-30T00:00:00-05:00\", \"high_comp_home_perc\": 28.53710140791267, \"low_comp_home_perc\": 32.240994429028156}, {\"index\": 64, \"date\": \"2020-01-01T00:00:00-06:00\", \"high_comp_home_perc\": 29.694855237712616, \"low_comp_home_perc\": 34.34748391397843}, {\"index\": 65, \"date\": \"2020-01-09T00:00:00-06:00\", \"high_comp_home_perc\": 20.25563533611303, \"low_comp_home_perc\": 27.11969021085032}, {\"index\": 66, \"date\": \"2020-09-19T00:00:00-05:00\", \"high_comp_home_perc\": 25.28503009191259, \"low_comp_home_perc\": 29.90661892776977}, {\"index\": 67, \"date\": \"2020-02-19T00:00:00-06:00\", \"high_comp_home_perc\": 21.4655035608461, \"low_comp_home_perc\": 28.12763568897829}, {\"index\": 68, \"date\": \"2020-03-20T00:00:00-05:00\", \"high_comp_home_perc\": 40.2432712793858, \"low_comp_home_perc\": 36.66757000904816}, {\"index\": 69, \"date\": \"2020-10-26T00:00:00-05:00\", \"high_comp_home_perc\": 33.41932300603813, \"low_comp_home_perc\": 36.61419762175932}, {\"index\": 70, \"date\": \"2020-11-06T00:00:00-06:00\", \"high_comp_home_perc\": 27.488773946435558, \"low_comp_home_perc\": 32.295976789601255}, {\"index\": 71, \"date\": \"2020-03-27T00:00:00-05:00\", \"high_comp_home_perc\": 45.579864910885625, \"low_comp_home_perc\": 41.65889036376026}, {\"index\": 72, \"date\": \"2020-08-16T00:00:00-05:00\", \"high_comp_home_perc\": 30.230419837888153, \"low_comp_home_perc\": 33.91472942785763}, {\"index\": 73, \"date\": \"2020-11-14T00:00:00-06:00\", \"high_comp_home_perc\": 31.112848059966446, \"low_comp_home_perc\": 32.69843903512332}, {\"index\": 74, \"date\": \"2020-11-26T00:00:00-06:00\", \"high_comp_home_perc\": 40.37884503347683, \"low_comp_home_perc\": 38.68285147244925}, {\"index\": 75, \"date\": \"2020-12-28T00:00:00-06:00\", \"high_comp_home_perc\": 31.512877947568406, \"low_comp_home_perc\": 35.68859479782432}, {\"index\": 76, \"date\": \"2020-05-28T00:00:00-05:00\", \"high_comp_home_perc\": 37.82441511231423, \"low_comp_home_perc\": 37.782584141077336}, {\"index\": 77, \"date\": \"2020-05-11T00:00:00-05:00\", \"high_comp_home_perc\": 43.66011111827787, \"low_comp_home_perc\": 40.301519275356355}, {\"index\": 78, \"date\": \"2020-11-11T00:00:00-06:00\", \"high_comp_home_perc\": 30.369360550491937, \"low_comp_home_perc\": 33.911492290404034}, {\"index\": 79, \"date\": \"2020-01-17T00:00:00-06:00\", \"high_comp_home_perc\": 20.129575188803937, \"low_comp_home_perc\": 28.13320857828807}, {\"index\": 80, \"date\": \"2020-05-27T00:00:00-05:00\", \"high_comp_home_perc\": 36.01136980879732, \"low_comp_home_perc\": 36.887042044522175}, {\"index\": 81, \"date\": \"2020-03-17T00:00:00-05:00\", \"high_comp_home_perc\": 35.17533360200893, \"low_comp_home_perc\": 35.46873340300123}, {\"index\": 82, \"date\": \"2020-03-08T00:00:00-06:00\", \"high_comp_home_perc\": 24.990631105318112, \"low_comp_home_perc\": 28.724006088859305}, {\"index\": 83, \"date\": \"2020-03-15T00:00:00-05:00\", \"high_comp_home_perc\": 34.28531178037412, \"low_comp_home_perc\": 34.687347076783624}, {\"index\": 84, \"date\": \"2020-04-09T00:00:00-05:00\", \"high_comp_home_perc\": 47.913005709655735, \"low_comp_home_perc\": 44.65936448250015}, {\"index\": 85, \"date\": \"2020-05-26T00:00:00-05:00\", \"high_comp_home_perc\": 37.52793413448488, \"low_comp_home_perc\": 37.40622481616217}, {\"index\": 86, \"date\": \"2020-04-18T00:00:00-05:00\", \"high_comp_home_perc\": 44.49147877297402, \"low_comp_home_perc\": 42.309487014155216}, {\"index\": 87, \"date\": \"2020-12-26T00:00:00-06:00\", \"high_comp_home_perc\": 33.46218049372027, \"low_comp_home_perc\": 35.40663557222535}, {\"index\": 88, \"date\": \"2020-09-05T00:00:00-05:00\", \"high_comp_home_perc\": 25.22835695390779, \"low_comp_home_perc\": 30.779591641529368}, {\"index\": 89, \"date\": \"2020-01-07T00:00:00-06:00\", \"high_comp_home_perc\": 21.553408042526325, \"low_comp_home_perc\": 28.514549680928255}, {\"index\": 90, \"date\": \"2020-05-10T00:00:00-05:00\", \"high_comp_home_perc\": 46.417112480242935, \"low_comp_home_perc\": 43.02181869077904}, {\"index\": 91, \"date\": \"2020-05-03T00:00:00-05:00\", \"high_comp_home_perc\": 43.45468504566206, \"low_comp_home_perc\": 43.00429096357065}, {\"index\": 92, \"date\": \"2020-04-29T00:00:00-05:00\", \"high_comp_home_perc\": 46.462505864778585, \"low_comp_home_perc\": 42.19288088463964}, {\"index\": 93, \"date\": \"2020-09-29T00:00:00-05:00\", \"high_comp_home_perc\": 28.405857854133284, \"low_comp_home_perc\": 32.49275259249101}, {\"index\": 94, \"date\": \"2020-03-19T00:00:00-05:00\", \"high_comp_home_perc\": 39.72749988544775, \"low_comp_home_perc\": 37.58597364858256}, {\"index\": 95, \"date\": \"2020-07-01T00:00:00-05:00\", \"high_comp_home_perc\": 29.390136996025408, \"low_comp_home_perc\": 33.735055756066856}, {\"index\": 96, \"date\": \"2020-08-11T00:00:00-05:00\", \"high_comp_home_perc\": 27.388701435848407, \"low_comp_home_perc\": 29.302312693856226}, {\"index\": 97, \"date\": \"2020-06-06T00:00:00-05:00\", \"high_comp_home_perc\": 29.666106911970264, \"low_comp_home_perc\": 33.91549418415665}, {\"index\": 98, \"date\": \"2020-03-06T00:00:00-06:00\", \"high_comp_home_perc\": 18.894618599548494, \"low_comp_home_perc\": 24.421902008562217}, {\"index\": 99, \"date\": \"2020-09-14T00:00:00-05:00\", \"high_comp_home_perc\": 29.338355134342155, \"low_comp_home_perc\": 33.86637591909231}, {\"index\": 100, \"date\": \"2020-04-12T00:00:00-05:00\", \"high_comp_home_perc\": 53.15067764387615, \"low_comp_home_perc\": 47.94468172741714}, {\"index\": 101, \"date\": \"2020-10-07T00:00:00-05:00\", \"high_comp_home_perc\": 27.96254687252479, \"low_comp_home_perc\": 32.37291586326737}, {\"index\": 102, \"date\": \"2020-11-22T00:00:00-06:00\", \"high_comp_home_perc\": 35.69392695164032, \"low_comp_home_perc\": 36.33946977816527}, {\"index\": 103, \"date\": \"2020-01-16T00:00:00-06:00\", \"high_comp_home_perc\": 19.040136605465374, \"low_comp_home_perc\": 27.83725403261682}, {\"index\": 104, \"date\": \"2020-08-25T00:00:00-05:00\", \"high_comp_home_perc\": 29.991242851862875, \"low_comp_home_perc\": 33.656463295534024}, {\"index\": 105, \"date\": \"2020-09-30T00:00:00-05:00\", \"high_comp_home_perc\": 25.959778253094417, \"low_comp_home_perc\": 29.39063491404383}, {\"index\": 106, \"date\": \"2020-11-01T00:00:00-05:00\", \"high_comp_home_perc\": 37.17994215168578, \"low_comp_home_perc\": 37.20008487291923}, {\"index\": 107, \"date\": \"2020-11-09T00:00:00-06:00\", \"high_comp_home_perc\": 29.715994800508533, \"low_comp_home_perc\": 33.54661083438113}, {\"index\": 108, \"date\": \"2020-02-08T00:00:00-06:00\", \"high_comp_home_perc\": 24.591209153490123, \"low_comp_home_perc\": 32.176292492162226}, {\"index\": 109, \"date\": \"2020-06-03T00:00:00-05:00\", \"high_comp_home_perc\": 33.78533700228038, \"low_comp_home_perc\": 36.45505992361607}, {\"index\": 110, \"date\": \"2020-02-16T00:00:00-06:00\", \"high_comp_home_perc\": 25.575690359643577, \"low_comp_home_perc\": 31.84899789291324}, {\"index\": 111, \"date\": \"2020-01-03T00:00:00-06:00\", \"high_comp_home_perc\": 23.15393614024674, \"low_comp_home_perc\": 30.064171886795062}, {\"index\": 112, \"date\": \"2020-06-15T00:00:00-05:00\", \"high_comp_home_perc\": 33.23808924734763, \"low_comp_home_perc\": 36.677266999903075}, {\"index\": 113, \"date\": \"2020-03-28T00:00:00-05:00\", \"high_comp_home_perc\": 49.11783504061096, \"low_comp_home_perc\": 44.1297488892177}, {\"index\": 114, \"date\": \"2020-01-10T00:00:00-06:00\", \"high_comp_home_perc\": 20.184185225762654, \"low_comp_home_perc\": 27.338435180287448}, {\"index\": 115, \"date\": \"2020-07-26T00:00:00-05:00\", \"high_comp_home_perc\": 33.25789653483467, \"low_comp_home_perc\": 37.88790971029571}, {\"index\": 116, \"date\": \"2020-10-13T00:00:00-05:00\", \"high_comp_home_perc\": 30.484493509279854, \"low_comp_home_perc\": 35.18999788817451}, {\"index\": 117, \"date\": \"2020-05-16T00:00:00-05:00\", \"high_comp_home_perc\": 36.698455011343825, \"low_comp_home_perc\": 36.46299913677806}, {\"index\": 118, \"date\": \"2020-06-22T00:00:00-05:00\", \"high_comp_home_perc\": 34.35918190239047, \"low_comp_home_perc\": 35.25628217918067}, {\"index\": 119, \"date\": \"2020-06-25T00:00:00-05:00\", \"high_comp_home_perc\": 28.77800840610598, \"low_comp_home_perc\": 31.371736938004975}, {\"index\": 120, \"date\": \"2020-01-24T00:00:00-06:00\", \"high_comp_home_perc\": 18.344380523803853, \"low_comp_home_perc\": 25.421805086193128}, {\"index\": 121, \"date\": \"2020-02-04T00:00:00-06:00\", \"high_comp_home_perc\": 22.48838735583887, \"low_comp_home_perc\": 30.74176681668732}, {\"index\": 122, \"date\": \"2020-02-09T00:00:00-06:00\", \"high_comp_home_perc\": 30.49752861086659, \"low_comp_home_perc\": 36.431466831802844}, {\"index\": 123, \"date\": \"2020-03-13T00:00:00-05:00\", \"high_comp_home_perc\": 20.65012106419399, \"low_comp_home_perc\": 24.432832610320613}, {\"index\": 124, \"date\": \"2020-02-12T00:00:00-06:00\", \"high_comp_home_perc\": 20.890039025006597, \"low_comp_home_perc\": 28.782013726269195}, {\"index\": 125, \"date\": \"2020-04-08T00:00:00-05:00\", \"high_comp_home_perc\": 46.79730671927644, \"low_comp_home_perc\": 42.4876094331839}, {\"index\": 126, \"date\": \"2020-02-22T00:00:00-06:00\", \"high_comp_home_perc\": 22.585559124020573, \"low_comp_home_perc\": 28.39727219201309}, {\"index\": 127, \"date\": \"2020-08-18T00:00:00-05:00\", \"high_comp_home_perc\": 27.6322666434237, \"low_comp_home_perc\": 31.57221609442707}, {\"index\": 128, \"date\": \"2020-09-06T00:00:00-05:00\", \"high_comp_home_perc\": 29.639553450882516, \"low_comp_home_perc\": 34.55248320541798}, {\"index\": 129, \"date\": \"2020-10-17T00:00:00-05:00\", \"high_comp_home_perc\": 27.47099398695708, \"low_comp_home_perc\": 32.34181841638913}, {\"index\": 130, \"date\": \"2020-06-30T00:00:00-05:00\", \"high_comp_home_perc\": 29.850015938066946, \"low_comp_home_perc\": 34.1817701424804}, {\"index\": 131, \"date\": \"2020-08-01T00:00:00-05:00\", \"high_comp_home_perc\": 27.348211757534894, \"low_comp_home_perc\": 31.48042751120345}, {\"index\": 132, \"date\": \"2020-08-31T00:00:00-05:00\", \"high_comp_home_perc\": 27.70143111621394, \"low_comp_home_perc\": 30.46082176514645}, {\"index\": 133, \"date\": \"2020-06-09T00:00:00-05:00\", \"high_comp_home_perc\": 35.755192836555274, \"low_comp_home_perc\": 37.13834479911159}, {\"index\": 134, \"date\": \"2020-12-30T00:00:00-06:00\", \"high_comp_home_perc\": 31.41878832752424, \"low_comp_home_perc\": 34.512298684567476}, {\"index\": 135, \"date\": \"2020-03-21T00:00:00-05:00\", \"high_comp_home_perc\": 47.683467204953786, \"low_comp_home_perc\": 41.11399628900579}, {\"index\": 136, \"date\": \"2020-09-23T00:00:00-05:00\", \"high_comp_home_perc\": 26.40694103846042, \"low_comp_home_perc\": 30.901692381229402}, {\"index\": 137, \"date\": \"2020-01-08T00:00:00-06:00\", \"high_comp_home_perc\": 20.934632154405953, \"low_comp_home_perc\": 28.000102979378788}, {\"index\": 138, \"date\": \"2020-05-14T00:00:00-05:00\", \"high_comp_home_perc\": 43.4752750629191, \"low_comp_home_perc\": 40.61079432203082}, {\"index\": 139, \"date\": \"2020-05-22T00:00:00-05:00\", \"high_comp_home_perc\": 33.946945019323266, \"low_comp_home_perc\": 34.99823525742803}, {\"index\": 140, \"date\": \"2020-02-03T00:00:00-06:00\", \"high_comp_home_perc\": 23.431698879709298, \"low_comp_home_perc\": 30.13815474527268}, {\"index\": 141, \"date\": \"2020-10-28T00:00:00-05:00\", \"high_comp_home_perc\": 29.46866524916468, \"low_comp_home_perc\": 33.90753656245097}, {\"index\": 142, \"date\": \"2020-09-12T00:00:00-05:00\", \"high_comp_home_perc\": 28.228451486468806, \"low_comp_home_perc\": 31.768999401736593}, {\"index\": 143, \"date\": \"2020-10-04T00:00:00-05:00\", \"high_comp_home_perc\": 31.323470758558567, \"low_comp_home_perc\": 34.32270135122506}, {\"index\": 144, \"date\": \"2020-03-18T00:00:00-05:00\", \"high_comp_home_perc\": 39.484869068923174, \"low_comp_home_perc\": 37.29146922344015}, {\"index\": 145, \"date\": \"2020-05-09T00:00:00-05:00\", \"high_comp_home_perc\": 38.10944285655398, \"low_comp_home_perc\": 38.19665764880558}, {\"index\": 146, \"date\": \"2020-03-24T00:00:00-05:00\", \"high_comp_home_perc\": 44.76116798457478, \"low_comp_home_perc\": 41.70852998168368}, {\"index\": 147, \"date\": \"2020-09-11T00:00:00-05:00\", \"high_comp_home_perc\": 27.030403389105707, \"low_comp_home_perc\": 31.102581703566756}, {\"index\": 148, \"date\": \"2020-03-29T00:00:00-05:00\", \"high_comp_home_perc\": 51.900970553118704, \"low_comp_home_perc\": 46.735904450136914}, {\"index\": 149, \"date\": \"2020-11-17T00:00:00-06:00\", \"high_comp_home_perc\": 31.173459296520143, \"low_comp_home_perc\": 33.42634606497448}, {\"index\": 150, \"date\": \"2020-02-05T00:00:00-06:00\", \"high_comp_home_perc\": 22.221304773191676, \"low_comp_home_perc\": 31.004800131164266}, {\"index\": 151, \"date\": \"2020-02-29T00:00:00-06:00\", \"high_comp_home_perc\": 22.532396005991217, \"low_comp_home_perc\": 26.858418513827182}, {\"index\": 152, \"date\": \"2020-06-17T00:00:00-05:00\", \"high_comp_home_perc\": 30.85158640075781, \"low_comp_home_perc\": 34.60143455474718}, {\"index\": 153, \"date\": \"2020-09-13T00:00:00-05:00\", \"high_comp_home_perc\": 30.381703065521357, \"low_comp_home_perc\": 34.147176478986}, {\"index\": 154, \"date\": \"2020-04-26T00:00:00-05:00\", \"high_comp_home_perc\": 44.00897585194893, \"low_comp_home_perc\": 44.17773473639612}, {\"index\": 155, \"date\": \"2020-08-17T00:00:00-05:00\", \"high_comp_home_perc\": 29.453187592679498, \"low_comp_home_perc\": 33.296333320094476}, {\"index\": 156, \"date\": \"2020-01-05T00:00:00-06:00\", \"high_comp_home_perc\": 31.257966010070785, \"low_comp_home_perc\": 37.28916796914643}, {\"index\": 157, \"date\": \"2020-05-20T00:00:00-05:00\", \"high_comp_home_perc\": 38.34155803763098, \"low_comp_home_perc\": 38.29054260748218}, {\"index\": 158, \"date\": \"2020-09-21T00:00:00-05:00\", \"high_comp_home_perc\": 31.52895656057337, \"low_comp_home_perc\": 37.74591776426158}, {\"index\": 159, \"date\": \"2020-06-28T00:00:00-05:00\", \"high_comp_home_perc\": 30.838256809678732, \"low_comp_home_perc\": 33.28639892880697}, {\"index\": 160, \"date\": \"2020-12-05T00:00:00-06:00\", \"high_comp_home_perc\": 31.022592208484756, \"low_comp_home_perc\": 34.488032749060906}, {\"index\": 161, \"date\": \"2020-05-25T00:00:00-05:00\", \"high_comp_home_perc\": 39.530432747752116, \"low_comp_home_perc\": 39.072831064468964}, {\"index\": 162, \"date\": \"2020-12-29T00:00:00-06:00\", \"high_comp_home_perc\": 31.62611451637863, \"low_comp_home_perc\": 35.65011042627056}, {\"index\": 163, \"date\": \"2020-07-25T00:00:00-05:00\", \"high_comp_home_perc\": 27.03810783595763, \"low_comp_home_perc\": 31.871776605078068}, {\"index\": 164, \"date\": \"2020-11-24T00:00:00-06:00\", \"high_comp_home_perc\": 31.64876724703128, \"low_comp_home_perc\": 33.12887807874134}, {\"index\": 165, \"date\": \"2020-02-17T00:00:00-06:00\", \"high_comp_home_perc\": 24.941027241189538, \"low_comp_home_perc\": 32.54142617818954}, {\"index\": 166, \"date\": \"2020-01-29T00:00:00-06:00\", \"high_comp_home_perc\": 18.027567465606936, \"low_comp_home_perc\": 25.44079336947233}, {\"index\": 167, \"date\": \"2020-08-09T00:00:00-05:00\", \"high_comp_home_perc\": 33.08385107521835, \"low_comp_home_perc\": 35.95542023493892}, {\"index\": 168, \"date\": \"2020-11-07T00:00:00-06:00\", \"high_comp_home_perc\": 26.052402752389714, \"low_comp_home_perc\": 28.872535501212752}, {\"index\": 169, \"date\": \"2020-03-25T00:00:00-05:00\", \"high_comp_home_perc\": 39.31803001906575, \"low_comp_home_perc\": 36.819991104393935}, {\"index\": 170, \"date\": \"2020-04-30T00:00:00-05:00\", \"high_comp_home_perc\": 41.419535644372026, \"low_comp_home_perc\": 38.125404349305455}, {\"index\": 171, \"date\": \"2020-08-03T00:00:00-05:00\", \"high_comp_home_perc\": 30.25694791256321, \"low_comp_home_perc\": 33.001764017087524}, {\"index\": 172, \"date\": \"2020-08-15T00:00:00-05:00\", \"high_comp_home_perc\": 26.254000575075963, \"low_comp_home_perc\": 29.0591878077781}, {\"index\": 173, \"date\": \"2020-05-21T00:00:00-05:00\", \"high_comp_home_perc\": 36.58294224459201, \"low_comp_home_perc\": 36.728246972860426}, {\"index\": 174, \"date\": \"2020-09-22T00:00:00-05:00\", \"high_comp_home_perc\": 29.504299648119602, \"low_comp_home_perc\": 34.97512173443098}, {\"index\": 175, \"date\": \"2020-10-15T00:00:00-05:00\", \"high_comp_home_perc\": 28.40172741293123, \"low_comp_home_perc\": 32.486971071630435}, {\"index\": 176, \"date\": \"2020-01-18T00:00:00-06:00\", \"high_comp_home_perc\": 25.665697456822087, \"low_comp_home_perc\": 33.72029654591318}, {\"index\": 177, \"date\": \"2020-03-10T00:00:00-05:00\", \"high_comp_home_perc\": 20.99787768641901, \"low_comp_home_perc\": 27.741611810109664}, {\"index\": 178, \"date\": \"2020-11-19T00:00:00-06:00\", \"high_comp_home_perc\": 29.70767157499267, \"low_comp_home_perc\": 31.881298451032986}, {\"index\": 179, \"date\": \"2020-04-27T00:00:00-05:00\", \"high_comp_home_perc\": 44.41980441275111, \"low_comp_home_perc\": 40.21541325245939}, {\"index\": 180, \"date\": \"2020-05-07T00:00:00-05:00\", \"high_comp_home_perc\": 41.84496975937879, \"low_comp_home_perc\": 41.81423945907644}, {\"index\": 181, \"date\": \"2020-06-16T00:00:00-05:00\", \"high_comp_home_perc\": 33.89092874459491, \"low_comp_home_perc\": 37.49613286698063}, {\"index\": 182, \"date\": \"2020-07-22T00:00:00-05:00\", \"high_comp_home_perc\": 28.40691872872628, \"low_comp_home_perc\": 33.118391212307685}, {\"index\": 183, \"date\": \"2020-10-31T00:00:00-05:00\", \"high_comp_home_perc\": 26.831690225003186, \"low_comp_home_perc\": 29.248384562194122}, {\"index\": 184, \"date\": \"2020-12-03T00:00:00-06:00\", \"high_comp_home_perc\": 32.27985161263008, \"low_comp_home_perc\": 33.14428405877787}, {\"index\": 185, \"date\": \"2020-01-22T00:00:00-06:00\", \"high_comp_home_perc\": 18.013759217453906, \"low_comp_home_perc\": 24.946630262825312}, {\"index\": 186, \"date\": \"2020-01-30T00:00:00-06:00\", \"high_comp_home_perc\": 18.179991382532826, \"low_comp_home_perc\": 25.899040098892684}, {\"index\": 187, \"date\": \"2020-07-18T00:00:00-05:00\", \"high_comp_home_perc\": 30.43616182779266, \"low_comp_home_perc\": 33.083476543052996}, {\"index\": 188, \"date\": \"2020-12-31T00:00:00-06:00\", \"high_comp_home_perc\": 29.035791934604156, \"low_comp_home_perc\": 31.78687305431722}, {\"index\": 189, \"date\": \"2020-01-20T00:00:00-06:00\", \"high_comp_home_perc\": 23.892778702249284, \"low_comp_home_perc\": 34.116715535883856}, {\"index\": 190, \"date\": \"2020-06-24T00:00:00-05:00\", \"high_comp_home_perc\": 30.47100936352144, \"low_comp_home_perc\": 33.823578684580426}, {\"index\": 191, \"date\": \"2020-11-18T00:00:00-06:00\", \"high_comp_home_perc\": 32.15033967771455, \"low_comp_home_perc\": 35.18795864416248}, {\"index\": 192, \"date\": \"2020-12-19T00:00:00-06:00\", \"high_comp_home_perc\": 29.50509351892203, \"low_comp_home_perc\": 31.99062940923975}, {\"index\": 193, \"date\": \"2020-01-02T00:00:00-06:00\", \"high_comp_home_perc\": 25.01795035655484, \"low_comp_home_perc\": 32.66377298693538}, {\"index\": 194, \"date\": \"2020-07-27T00:00:00-05:00\", \"high_comp_home_perc\": 30.788111367592244, \"low_comp_home_perc\": 34.78140273803598}, {\"index\": 195, \"date\": \"2020-12-13T00:00:00-06:00\", \"high_comp_home_perc\": 36.06670653402854, \"low_comp_home_perc\": 37.308008330887596}, {\"index\": 196, \"date\": \"2020-02-15T00:00:00-06:00\", \"high_comp_home_perc\": 24.853241122677105, \"low_comp_home_perc\": 31.76417963400071}, {\"index\": 197, \"date\": \"2020-02-27T00:00:00-06:00\", \"high_comp_home_perc\": 19.134753100812855, \"low_comp_home_perc\": 23.967351368625582}, {\"index\": 198, \"date\": \"2020-05-24T00:00:00-05:00\", \"high_comp_home_perc\": 36.45394326516834, \"low_comp_home_perc\": 37.697860658655024}, {\"index\": 199, \"date\": \"2020-07-15T00:00:00-05:00\", \"high_comp_home_perc\": 32.85673938407443, \"low_comp_home_perc\": 34.93252474167691}, {\"index\": 200, \"date\": \"2020-05-05T00:00:00-05:00\", \"high_comp_home_perc\": 45.77651498273058, \"low_comp_home_perc\": 42.74175166570235}, {\"index\": 201, \"date\": \"2020-02-23T00:00:00-06:00\", \"high_comp_home_perc\": 26.897153493507265, \"low_comp_home_perc\": 31.58013309668468}, {\"index\": 202, \"date\": \"2020-07-09T00:00:00-05:00\", \"high_comp_home_perc\": 30.753996736533637, \"low_comp_home_perc\": 32.78048622037155}, {\"index\": 203, \"date\": \"2020-11-10T00:00:00-06:00\", \"high_comp_home_perc\": 34.05517695369906, \"low_comp_home_perc\": 37.213268740219604}, {\"index\": 204, \"date\": \"2020-01-12T00:00:00-06:00\", \"high_comp_home_perc\": 30.62690433852866, \"low_comp_home_perc\": 36.83834425661236}, {\"index\": 205, \"date\": \"2020-02-21T00:00:00-06:00\", \"high_comp_home_perc\": 19.681259520279983, \"low_comp_home_perc\": 25.282820492617375}, {\"index\": 206, \"date\": \"2020-05-01T00:00:00-05:00\", \"high_comp_home_perc\": 41.996970641285195, \"low_comp_home_perc\": 41.726528966638156}, {\"index\": 207, \"date\": \"2020-08-02T00:00:00-05:00\", \"high_comp_home_perc\": 31.078677597766074, \"low_comp_home_perc\": 34.64255943184534}, {\"index\": 208, \"date\": \"2020-11-30T00:00:00-06:00\", \"high_comp_home_perc\": 36.170861199778464, \"low_comp_home_perc\": 37.64590516424002}, {\"index\": 209, \"date\": \"2020-03-14T00:00:00-05:00\", \"high_comp_home_perc\": 30.46128964958351, \"low_comp_home_perc\": 32.262491692976376}, {\"index\": 210, \"date\": \"2020-12-21T00:00:00-06:00\", \"high_comp_home_perc\": 29.513696403400985, \"low_comp_home_perc\": 31.767855413386823}, {\"index\": 211, \"date\": \"2020-04-23T00:00:00-05:00\", \"high_comp_home_perc\": 43.82651136188383, \"low_comp_home_perc\": 40.89454956601625}, {\"index\": 212, \"date\": \"2020-07-17T00:00:00-05:00\", \"high_comp_home_perc\": 27.348706513788063, \"low_comp_home_perc\": 31.138959060841056}, {\"index\": 213, \"date\": \"2020-06-04T00:00:00-05:00\", \"high_comp_home_perc\": 32.16220061426331, \"low_comp_home_perc\": 35.479053127302116}, {\"index\": 214, \"date\": \"2020-10-18T00:00:00-05:00\", \"high_comp_home_perc\": 35.731764056064485, \"low_comp_home_perc\": 37.88261398106539}, {\"index\": 215, \"date\": \"2020-03-07T00:00:00-06:00\", \"high_comp_home_perc\": 22.411725083495988, \"low_comp_home_perc\": 28.376493103864572}, {\"index\": 216, \"date\": \"2020-03-30T00:00:00-05:00\", \"high_comp_home_perc\": 46.053146662492445, \"low_comp_home_perc\": 43.589146506793234}, {\"index\": 217, \"date\": \"2020-07-02T00:00:00-05:00\", \"high_comp_home_perc\": 27.081069302842202, \"low_comp_home_perc\": 31.096332715870993}, {\"index\": 218, \"date\": \"2020-06-21T00:00:00-05:00\", \"high_comp_home_perc\": 33.83752594671389, \"low_comp_home_perc\": 36.17433583896968}, {\"index\": 219, \"date\": \"2020-07-07T00:00:00-05:00\", \"high_comp_home_perc\": 32.903090645478045, \"low_comp_home_perc\": 35.901213415464895}, {\"index\": 220, \"date\": \"2020-05-02T00:00:00-05:00\", \"high_comp_home_perc\": 38.496392051146735, \"low_comp_home_perc\": 37.50106639219802}, {\"index\": 221, \"date\": \"2020-09-20T00:00:00-05:00\", \"high_comp_home_perc\": 30.918620042432497, \"low_comp_home_perc\": 35.301770952293374}, {\"index\": 222, \"date\": \"2020-05-15T00:00:00-05:00\", \"high_comp_home_perc\": 38.07491805030544, \"low_comp_home_perc\": 38.08004674446362}, {\"index\": 223, \"date\": \"2020-08-19T00:00:00-05:00\", \"high_comp_home_perc\": 27.440899108533863, \"low_comp_home_perc\": 31.351373369624618}, {\"index\": 224, \"date\": \"2020-06-23T00:00:00-05:00\", \"high_comp_home_perc\": 31.19664114492312, \"low_comp_home_perc\": 34.220342058074685}, {\"index\": 225, \"date\": \"2020-07-05T00:00:00-05:00\", \"high_comp_home_perc\": 33.25933431831719, \"low_comp_home_perc\": 36.50237624344777}, {\"index\": 226, \"date\": \"2020-07-20T00:00:00-05:00\", \"high_comp_home_perc\": 30.601927148640797, \"low_comp_home_perc\": 35.033135463327156}, {\"index\": 227, \"date\": \"2020-08-06T00:00:00-05:00\", \"high_comp_home_perc\": 27.685573849646353, \"low_comp_home_perc\": 32.03880125964606}, {\"index\": 228, \"date\": \"2020-09-10T00:00:00-05:00\", \"high_comp_home_perc\": 29.321408168529317, \"low_comp_home_perc\": 32.26635967137192}, {\"index\": 229, \"date\": \"2020-06-11T00:00:00-05:00\", \"high_comp_home_perc\": 31.803710795668366, \"low_comp_home_perc\": 34.33345905085439}, {\"index\": 230, \"date\": \"2020-04-28T00:00:00-05:00\", \"high_comp_home_perc\": 43.59093698329867, \"low_comp_home_perc\": 40.031134424853825}, {\"index\": 231, \"date\": \"2020-11-16T00:00:00-06:00\", \"high_comp_home_perc\": 33.309677093740866, \"low_comp_home_perc\": 35.50823058522515}, {\"index\": 232, \"date\": \"2020-02-07T00:00:00-06:00\", \"high_comp_home_perc\": 21.87663409591686, \"low_comp_home_perc\": 29.622122236090863}, {\"index\": 233, \"date\": \"2020-03-26T00:00:00-05:00\", \"high_comp_home_perc\": 45.84198594245656, \"low_comp_home_perc\": 41.83989385112723}, {\"index\": 234, \"date\": \"2020-10-05T00:00:00-05:00\", \"high_comp_home_perc\": 30.87136271388469, \"low_comp_home_perc\": 34.658837669076846}, {\"index\": 235, \"date\": \"2020-10-14T00:00:00-05:00\", \"high_comp_home_perc\": 29.657470527357273, \"low_comp_home_perc\": 34.42407303435613}, {\"index\": 236, \"date\": \"2020-05-23T00:00:00-05:00\", \"high_comp_home_perc\": 37.864444143186326, \"low_comp_home_perc\": 37.01881692756781}, {\"index\": 237, \"date\": \"2020-12-18T00:00:00-06:00\", \"high_comp_home_perc\": 28.11702163214332, \"low_comp_home_perc\": 31.56280805537557}, {\"index\": 238, \"date\": \"2020-08-10T00:00:00-05:00\", \"high_comp_home_perc\": 31.58290014475181, \"low_comp_home_perc\": 34.63304024008772}, {\"index\": 239, \"date\": \"2020-12-04T00:00:00-06:00\", \"high_comp_home_perc\": 30.07739267527682, \"low_comp_home_perc\": 32.580843035129796}, {\"index\": 240, \"date\": \"2020-04-06T00:00:00-05:00\", \"high_comp_home_perc\": 48.63248363202884, \"low_comp_home_perc\": 45.650111614511275}, {\"index\": 241, \"date\": \"2020-06-10T00:00:00-05:00\", \"high_comp_home_perc\": 35.20394445273525, \"low_comp_home_perc\": 36.58881473554364}, {\"index\": 242, \"date\": \"2020-08-26T00:00:00-05:00\", \"high_comp_home_perc\": 29.150620405929704, \"low_comp_home_perc\": 32.52332073607912}, {\"index\": 243, \"date\": \"2020-01-27T00:00:00-06:00\", \"high_comp_home_perc\": 19.062756610917997, \"low_comp_home_perc\": 26.40908045468809}, {\"index\": 244, \"date\": \"2020-08-05T00:00:00-05:00\", \"high_comp_home_perc\": 27.973638381913403, \"low_comp_home_perc\": 32.46992342152385}, {\"index\": 245, \"date\": \"2020-08-23T00:00:00-05:00\", \"high_comp_home_perc\": 32.163825889290855, \"low_comp_home_perc\": 36.38765669778445}, {\"index\": 246, \"date\": \"2020-05-08T00:00:00-05:00\", \"high_comp_home_perc\": 41.41693906607347, \"low_comp_home_perc\": 39.655901632693755}, {\"index\": 247, \"date\": \"2020-09-04T00:00:00-05:00\", \"high_comp_home_perc\": 22.848962054234196, \"low_comp_home_perc\": 27.010937507041454}, {\"index\": 248, \"date\": \"2020-04-15T00:00:00-05:00\", \"high_comp_home_perc\": 48.958956711760216, \"low_comp_home_perc\": 44.832797550130856}, {\"index\": 249, \"date\": \"2020-05-18T00:00:00-05:00\", \"high_comp_home_perc\": 42.3685382859323, \"low_comp_home_perc\": 41.2497875187546}, {\"index\": 250, \"date\": \"2020-04-24T00:00:00-05:00\", \"high_comp_home_perc\": 42.76828611724901, \"low_comp_home_perc\": 40.429832211383044}, {\"index\": 251, \"date\": \"2020-11-28T00:00:00-06:00\", \"high_comp_home_perc\": 31.324244731079144, \"low_comp_home_perc\": 35.229240357019755}, {\"index\": 252, \"date\": \"2020-02-25T00:00:00-06:00\", \"high_comp_home_perc\": 36.00552974827695, \"low_comp_home_perc\": 34.33293213856325}, {\"index\": 253, \"date\": \"2020-09-25T00:00:00-05:00\", \"high_comp_home_perc\": 25.5305642229058, \"low_comp_home_perc\": 31.204384572378643}, {\"index\": 254, \"date\": \"2020-01-06T00:00:00-06:00\", \"high_comp_home_perc\": 23.276753659099526, \"low_comp_home_perc\": 31.09432679965325}, {\"index\": 255, \"date\": \"2020-07-23T00:00:00-05:00\", \"high_comp_home_perc\": 28.58912858999006, \"low_comp_home_perc\": 33.76961536306269}, {\"index\": 256, \"date\": \"2020-12-25T00:00:00-06:00\", \"high_comp_home_perc\": 41.75490601971602, \"low_comp_home_perc\": 38.4803239647828}, {\"index\": 257, \"date\": \"2020-04-05T00:00:00-05:00\", \"high_comp_home_perc\": 50.21753531106352, \"low_comp_home_perc\": 48.21213437453501}, {\"index\": 258, \"date\": \"2020-02-11T00:00:00-06:00\", \"high_comp_home_perc\": 20.63468852785906, \"low_comp_home_perc\": 29.24049674427618}, {\"index\": 259, \"date\": \"2020-09-26T00:00:00-05:00\", \"high_comp_home_perc\": 23.924387250962212, \"low_comp_home_perc\": 29.36139257618512}, {\"index\": 260, \"date\": \"2020-12-23T00:00:00-06:00\", \"high_comp_home_perc\": 26.686685880077423, \"low_comp_home_perc\": 29.757236216630535}, {\"index\": 261, \"date\": \"2020-02-13T00:00:00-06:00\", \"high_comp_home_perc\": 25.805065787412925, \"low_comp_home_perc\": 33.90796765370659}, {\"index\": 262, \"date\": \"2020-05-06T00:00:00-05:00\", \"high_comp_home_perc\": 41.50251406770974, \"low_comp_home_perc\": 40.30173847261255}, {\"index\": 263, \"date\": \"2020-06-05T00:00:00-05:00\", \"high_comp_home_perc\": 31.244142097882587, \"low_comp_home_perc\": 35.08584658015851}, {\"index\": 264, \"date\": \"2020-09-02T00:00:00-05:00\", \"high_comp_home_perc\": 27.09317011272116, \"low_comp_home_perc\": 30.568951899034108}, {\"index\": 265, \"date\": \"2020-10-12T00:00:00-05:00\", \"high_comp_home_perc\": 31.915863914204724, \"low_comp_home_perc\": 35.43856693148709}, {\"index\": 266, \"date\": \"2020-10-22T00:00:00-05:00\", \"high_comp_home_perc\": 29.401165035504683, \"low_comp_home_perc\": 33.41554787298144}, {\"index\": 267, \"date\": \"2020-01-04T00:00:00-06:00\", \"high_comp_home_perc\": 26.929918896798846, \"low_comp_home_perc\": 34.38703112252929}, {\"index\": 268, \"date\": \"2020-02-24T00:00:00-06:00\", \"high_comp_home_perc\": 22.88398523481018, \"low_comp_home_perc\": 27.904896034484402}, {\"index\": 269, \"date\": \"2020-12-09T00:00:00-06:00\", \"high_comp_home_perc\": 32.21985456035185, \"low_comp_home_perc\": 34.14881746763809}, {\"index\": 270, \"date\": \"2020-04-02T00:00:00-05:00\", \"high_comp_home_perc\": 45.79712068969612, \"low_comp_home_perc\": 43.83008354609147}, {\"index\": 271, \"date\": \"2020-07-14T00:00:00-05:00\", \"high_comp_home_perc\": 30.166027680835732, \"low_comp_home_perc\": 33.00588143735839}, {\"index\": 272, \"date\": \"2020-12-07T00:00:00-06:00\", \"high_comp_home_perc\": 34.160913733437056, \"low_comp_home_perc\": 35.52004456489016}, {\"index\": 273, \"date\": \"2020-09-07T00:00:00-05:00\", \"high_comp_home_perc\": 31.91908636591438, \"low_comp_home_perc\": 37.438548718761126}, {\"index\": 274, \"date\": \"2020-10-19T00:00:00-05:00\", \"high_comp_home_perc\": 32.62618043227004, \"low_comp_home_perc\": 35.87987701622284}, {\"index\": 275, \"date\": \"2020-08-07T00:00:00-05:00\", \"high_comp_home_perc\": 26.979367513258268, \"low_comp_home_perc\": 31.780742474881063}, {\"index\": 276, \"date\": \"2020-03-23T00:00:00-05:00\", \"high_comp_home_perc\": 45.073191973021025, \"low_comp_home_perc\": 40.97028863056431}, {\"index\": 277, \"date\": \"2020-05-13T00:00:00-05:00\", \"high_comp_home_perc\": 40.78474002004445, \"low_comp_home_perc\": 39.496215231446115}, {\"index\": 278, \"date\": \"2020-12-24T00:00:00-06:00\", \"high_comp_home_perc\": 29.537371077474305, \"low_comp_home_perc\": 30.21509178188345}, {\"index\": 279, \"date\": \"2020-01-31T00:00:00-06:00\", \"high_comp_home_perc\": 17.02294189880446, \"low_comp_home_perc\": 25.061226792670436}, {\"index\": 280, \"date\": \"2020-03-01T00:00:00-06:00\", \"high_comp_home_perc\": 28.901042939198597, \"low_comp_home_perc\": 33.77960438854727}, {\"index\": 281, \"date\": \"2020-04-14T00:00:00-05:00\", \"high_comp_home_perc\": 48.186877343806515, \"low_comp_home_perc\": 43.546457334188496}, {\"index\": 282, \"date\": \"2020-06-19T00:00:00-05:00\", \"high_comp_home_perc\": 30.395256862595215, \"low_comp_home_perc\": 33.2837274306876}, {\"index\": 283, \"date\": \"2020-03-02T00:00:00-06:00\", \"high_comp_home_perc\": 23.508652136197014, \"low_comp_home_perc\": 28.61314810248075}, {\"index\": 284, \"date\": \"2020-03-31T00:00:00-05:00\", \"high_comp_home_perc\": 46.5229678076329, \"low_comp_home_perc\": 43.093138698026415}, {\"index\": 285, \"date\": \"2020-01-28T00:00:00-06:00\", \"high_comp_home_perc\": 19.194452302412902, \"low_comp_home_perc\": 26.77923760075864}, {\"index\": 286, \"date\": \"2020-07-08T00:00:00-05:00\", \"high_comp_home_perc\": 31.3381573851314, \"low_comp_home_perc\": 33.42757475804621}, {\"index\": 287, \"date\": \"2020-02-01T00:00:00-06:00\", \"high_comp_home_perc\": 25.670303405143404, \"low_comp_home_perc\": 34.03316770381764}, {\"index\": 288, \"date\": \"2020-02-28T00:00:00-06:00\", \"high_comp_home_perc\": 19.721791152733122, \"low_comp_home_perc\": 24.016372074813}, {\"index\": 289, \"date\": \"2020-06-12T00:00:00-05:00\", \"high_comp_home_perc\": 32.080251290493884, \"low_comp_home_perc\": 35.316811443725925}, {\"index\": 290, \"date\": \"2020-12-08T00:00:00-06:00\", \"high_comp_home_perc\": 33.14495417686465, \"low_comp_home_perc\": 34.7102179806218}, {\"index\": 291, \"date\": \"2020-09-24T00:00:00-05:00\", \"high_comp_home_perc\": 27.18893025051502, \"low_comp_home_perc\": 32.70558151392231}, {\"index\": 292, \"date\": \"2020-02-10T00:00:00-06:00\", \"high_comp_home_perc\": 21.667652507528956, \"low_comp_home_perc\": 29.556569447170595}, {\"index\": 293, \"date\": \"2020-12-12T00:00:00-06:00\", \"high_comp_home_perc\": 32.22927093707031, \"low_comp_home_perc\": 34.54793717301709}, {\"index\": 294, \"date\": \"2020-01-19T00:00:00-06:00\", \"high_comp_home_perc\": 28.847779945117182, \"low_comp_home_perc\": 37.32164630619299}, {\"index\": 295, \"date\": \"2020-02-14T00:00:00-06:00\", \"high_comp_home_perc\": 21.163237044224825, \"low_comp_home_perc\": 27.31368155972619}, {\"index\": 296, \"date\": \"2020-07-29T00:00:00-05:00\", \"high_comp_home_perc\": 27.823211522589766, \"low_comp_home_perc\": 32.32275517286081}, {\"index\": 297, \"date\": \"2020-09-27T00:00:00-05:00\", \"high_comp_home_perc\": 29.9460331405143, \"low_comp_home_perc\": 34.7619190719382}, {\"index\": 298, \"date\": \"2020-09-28T00:00:00-05:00\", \"high_comp_home_perc\": 30.635262779627514, \"low_comp_home_perc\": 34.437319029586334}, {\"index\": 299, \"date\": \"2020-10-16T00:00:00-05:00\", \"high_comp_home_perc\": 27.239092778917065, \"low_comp_home_perc\": 31.85816766812168}, {\"index\": 300, \"date\": \"2020-11-27T00:00:00-06:00\", \"high_comp_home_perc\": 30.303615954096774, \"low_comp_home_perc\": 32.571969876308515}, {\"index\": 301, \"date\": \"2020-01-26T00:00:00-06:00\", \"high_comp_home_perc\": 26.797359776431676, \"low_comp_home_perc\": 34.06988715322294}, {\"index\": 302, \"date\": \"2020-06-02T00:00:00-05:00\", \"high_comp_home_perc\": 35.21808477147705, \"low_comp_home_perc\": 38.51913992341387}, {\"index\": 303, \"date\": \"2020-06-13T00:00:00-05:00\", \"high_comp_home_perc\": 29.2741701557786, \"low_comp_home_perc\": 31.188151096532355}, {\"index\": 304, \"date\": \"2020-10-03T00:00:00-05:00\", \"high_comp_home_perc\": 27.4769986814601, \"low_comp_home_perc\": 32.256533022423824}, {\"index\": 305, \"date\": \"2020-04-21T00:00:00-05:00\", \"high_comp_home_perc\": 44.20053524196931, \"low_comp_home_perc\": 40.449072894339366}, {\"index\": 306, \"date\": \"2020-11-08T00:00:00-06:00\", \"high_comp_home_perc\": 32.353106956766254, \"low_comp_home_perc\": 34.32045196353471}, {\"index\": 307, \"date\": \"2020-11-20T00:00:00-06:00\", \"high_comp_home_perc\": 29.519345229185323, \"low_comp_home_perc\": 32.274618898221185}, {\"index\": 308, \"date\": \"2020-06-20T00:00:00-05:00\", \"high_comp_home_perc\": 31.44094375668853, \"low_comp_home_perc\": 33.28434640630926}, {\"index\": 309, \"date\": \"2020-12-06T00:00:00-06:00\", \"high_comp_home_perc\": 36.741035953125426, \"low_comp_home_perc\": 37.72894561633167}, {\"index\": 310, \"date\": \"2020-01-14T00:00:00-06:00\", \"high_comp_home_perc\": 20.101708730403114, \"low_comp_home_perc\": 28.56370872735367}, {\"index\": 311, \"date\": \"2020-04-01T00:00:00-05:00\", \"high_comp_home_perc\": 47.09653276102417, \"low_comp_home_perc\": 43.490725241608295}, {\"index\": 312, \"date\": \"2020-01-15T00:00:00-06:00\", \"high_comp_home_perc\": 17.670897804576693, \"low_comp_home_perc\": 25.772804560044815}, {\"index\": 313, \"date\": \"2020-10-23T00:00:00-05:00\", \"high_comp_home_perc\": 29.028945676782385, \"low_comp_home_perc\": 32.66045892845996}, {\"index\": 314, \"date\": \"2020-11-25T00:00:00-06:00\", \"high_comp_home_perc\": 32.969328574767154, \"low_comp_home_perc\": 35.28183675940227}, {\"index\": 315, \"date\": \"2020-12-27T00:00:00-06:00\", \"high_comp_home_perc\": 36.20793403164721, \"low_comp_home_perc\": 39.11302974037891}, {\"index\": 316, \"date\": \"2020-06-18T00:00:00-05:00\", \"high_comp_home_perc\": 30.684703823927382, \"low_comp_home_perc\": 34.54971740718686}, {\"index\": 317, \"date\": \"2020-11-05T00:00:00-06:00\", \"high_comp_home_perc\": 29.11596503512875, \"low_comp_home_perc\": 32.57775821837877}, {\"index\": 318, \"date\": \"2020-11-15T00:00:00-06:00\", \"high_comp_home_perc\": 38.40007728877268, \"low_comp_home_perc\": 37.86405287280611}, {\"index\": 319, \"date\": \"2020-04-13T00:00:00-05:00\", \"high_comp_home_perc\": 49.963417532076036, \"low_comp_home_perc\": 46.14540943954108}, {\"index\": 320, \"date\": \"2020-09-01T00:00:00-05:00\", \"high_comp_home_perc\": 29.986810429728205, \"low_comp_home_perc\": 33.28062690683991}, {\"index\": 321, \"date\": \"2020-09-17T00:00:00-05:00\", \"high_comp_home_perc\": 29.323006099059086, \"low_comp_home_perc\": 34.001691741043125}, {\"index\": 322, \"date\": \"2020-12-14T00:00:00-06:00\", \"high_comp_home_perc\": 34.63483242741451, \"low_comp_home_perc\": 37.06610076870762}, {\"index\": 323, \"date\": \"2020-05-31T00:00:00-05:00\", \"high_comp_home_perc\": 36.503426918715675, \"low_comp_home_perc\": 41.113993015066285}, {\"index\": 324, \"date\": \"2020-06-08T00:00:00-05:00\", \"high_comp_home_perc\": 31.388044438070516, \"low_comp_home_perc\": 33.64558968064449}, {\"index\": 325, \"date\": \"2020-01-23T00:00:00-06:00\", \"high_comp_home_perc\": 19.602369531704632, \"low_comp_home_perc\": 27.396378889328975}, {\"index\": 326, \"date\": \"2020-04-16T00:00:00-05:00\", \"high_comp_home_perc\": 47.08185404726648, \"low_comp_home_perc\": 42.48537488729008}, {\"index\": 327, \"date\": \"2020-10-20T00:00:00-05:00\", \"high_comp_home_perc\": 30.784153100313297, \"low_comp_home_perc\": 35.17425098878106}, {\"index\": 328, \"date\": \"2020-11-23T00:00:00-06:00\", \"high_comp_home_perc\": 33.66816258007894, \"low_comp_home_perc\": 35.65542833334383}, {\"index\": 329, \"date\": \"2020-02-02T00:00:00-06:00\", \"high_comp_home_perc\": 30.152808712337396, \"low_comp_home_perc\": 37.24472138238845}, {\"index\": 330, \"date\": \"2020-03-05T00:00:00-06:00\", \"high_comp_home_perc\": 19.71982385042267, \"low_comp_home_perc\": 25.301045730048145}, {\"index\": 331, \"date\": \"2020-12-22T00:00:00-06:00\", \"high_comp_home_perc\": 27.891721934172, \"low_comp_home_perc\": 31.715035568735114}, {\"index\": 332, \"date\": \"2020-07-24T00:00:00-05:00\", \"high_comp_home_perc\": 26.34141223658976, \"low_comp_home_perc\": 30.767090246409914}, {\"index\": 333, \"date\": \"2020-02-06T00:00:00-06:00\", \"high_comp_home_perc\": 22.41635020117562, \"low_comp_home_perc\": 31.819498595661507}, {\"index\": 334, \"date\": \"2020-03-09T00:00:00-05:00\", \"high_comp_home_perc\": 21.60690113878059, \"low_comp_home_perc\": 27.800781733842253}, {\"index\": 335, \"date\": \"2020-04-19T00:00:00-05:00\", \"high_comp_home_perc\": 46.450751379775745, \"low_comp_home_perc\": 44.766054522998665}, {\"index\": 336, \"date\": \"2020-06-26T00:00:00-05:00\", \"high_comp_home_perc\": 32.352936832995574, \"low_comp_home_perc\": 33.78572455972669}, {\"index\": 337, \"date\": \"2020-08-13T00:00:00-05:00\", \"high_comp_home_perc\": 26.793637533429642, \"low_comp_home_perc\": 30.4087396587827}, {\"index\": 338, \"date\": \"2020-11-03T00:00:00-06:00\", \"high_comp_home_perc\": 29.66901245040294, \"low_comp_home_perc\": 32.278297774146026}, {\"index\": 339, \"date\": \"2020-04-25T00:00:00-05:00\", \"high_comp_home_perc\": 47.60520857757731, \"low_comp_home_perc\": 44.29396478329789}, {\"index\": 340, \"date\": \"2020-12-20T00:00:00-06:00\", \"high_comp_home_perc\": 32.872217525930246, \"low_comp_home_perc\": 34.355750456432126}, {\"index\": 341, \"date\": \"2020-03-11T00:00:00-05:00\", \"high_comp_home_perc\": 20.506169057812784, \"low_comp_home_perc\": 27.190362503611297}, {\"index\": 342, \"date\": \"2020-05-29T00:00:00-05:00\", \"high_comp_home_perc\": 31.186674731740993, \"low_comp_home_perc\": 32.671826517093244}, {\"index\": 343, \"date\": \"2020-08-27T00:00:00-05:00\", \"high_comp_home_perc\": 28.5270846876817, \"low_comp_home_perc\": 31.52681817431988}, {\"index\": 344, \"date\": \"2020-07-06T00:00:00-05:00\", \"high_comp_home_perc\": 30.887024237148246, \"low_comp_home_perc\": 33.50186326218284}, {\"index\": 345, \"date\": \"2020-10-27T00:00:00-05:00\", \"high_comp_home_perc\": 30.925375772401477, \"low_comp_home_perc\": 34.77060834401228}, {\"index\": 346, \"date\": \"2020-03-12T00:00:00-05:00\", \"high_comp_home_perc\": 22.424624785014252, \"low_comp_home_perc\": 28.599825323029986}, {\"index\": 347, \"date\": \"2020-05-17T00:00:00-05:00\", \"high_comp_home_perc\": 50.46714610685736, \"low_comp_home_perc\": 46.91705388016343}, {\"index\": 348, \"date\": \"2020-06-29T00:00:00-05:00\", \"high_comp_home_perc\": 31.640719228100544, \"low_comp_home_perc\": 34.8296409657486}, {\"index\": 349, \"date\": \"2020-07-04T00:00:00-05:00\", \"high_comp_home_perc\": 28.368850217312062, \"low_comp_home_perc\": 31.618056452548334}, {\"index\": 350, \"date\": \"2020-07-12T00:00:00-05:00\", \"high_comp_home_perc\": 32.34829775648261, \"low_comp_home_perc\": 35.57444952348183}, {\"index\": 351, \"date\": \"2020-07-31T00:00:00-05:00\", \"high_comp_home_perc\": 25.88327710807919, \"low_comp_home_perc\": 30.107289759827417}, {\"index\": 352, \"date\": \"2020-12-02T00:00:00-06:00\", \"high_comp_home_perc\": 33.6729595385631, \"low_comp_home_perc\": 36.07485212921983}, {\"index\": 353, \"date\": \"2020-04-04T00:00:00-05:00\", \"high_comp_home_perc\": 49.665497861187404, \"low_comp_home_perc\": 46.942595936834195}, {\"index\": 354, \"date\": \"2020-06-07T00:00:00-05:00\", \"high_comp_home_perc\": 33.85208429608819, \"low_comp_home_perc\": 37.937188623466255}, {\"index\": 355, \"date\": \"2020-03-22T00:00:00-05:00\", \"high_comp_home_perc\": 52.68823066305183, \"low_comp_home_perc\": 49.01106156650848}, {\"index\": 356, \"date\": \"2020-05-19T00:00:00-05:00\", \"high_comp_home_perc\": 43.638836779973886, \"low_comp_home_perc\": 41.701340026525635}, {\"index\": 357, \"date\": \"2020-06-27T00:00:00-05:00\", \"high_comp_home_perc\": 29.53046090419195, \"low_comp_home_perc\": 33.06059905972837}, {\"index\": 358, \"date\": \"2020-07-10T00:00:00-05:00\", \"high_comp_home_perc\": 29.09923829434222, \"low_comp_home_perc\": 32.27796036913547}, {\"index\": 359, \"date\": \"2020-10-10T00:00:00-05:00\", \"high_comp_home_perc\": 25.57633495423411, \"low_comp_home_perc\": 30.841587208776417}, {\"index\": 360, \"date\": \"2020-09-03T00:00:00-05:00\", \"high_comp_home_perc\": 26.168696418420303, \"low_comp_home_perc\": 30.38234345355672}, {\"index\": 361, \"date\": \"2020-01-25T00:00:00-06:00\", \"high_comp_home_perc\": 23.70232513944942, \"low_comp_home_perc\": 30.52226066131552}, {\"index\": 362, \"date\": \"2020-09-15T00:00:00-05:00\", \"high_comp_home_perc\": 30.461303444958055, \"low_comp_home_perc\": 35.06058076406981}, {\"index\": 363, \"date\": \"2020-10-25T00:00:00-05:00\", \"high_comp_home_perc\": 34.47270467532769, \"low_comp_home_perc\": 36.84168968931033}, {\"index\": 364, \"date\": \"2020-10-08T00:00:00-05:00\", \"high_comp_home_perc\": 28.221107664565043, \"low_comp_home_perc\": 32.90112795920685}, {\"index\": 365, \"date\": \"2020-10-29T00:00:00-05:00\", \"high_comp_home_perc\": 30.46267789955988, \"low_comp_home_perc\": 33.95952575015839}]}}, {\"mode\": \"vega-lite\"});\n",
              "</script>"
            ]
          },
          "metadata": {
            "tags": []
          },
          "execution_count": 38
        },
        {
          "output_type": "stream",
          "text": [
            "time: 67.8 ms (started: 2021-04-16 05:00:21 +00:00)\n"
          ],
          "name": "stdout"
        }
      ]
    }
  ]
}