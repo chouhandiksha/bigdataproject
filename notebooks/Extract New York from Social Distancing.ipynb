{
  "nbformat": 4,
  "nbformat_minor": 5,
  "metadata": {
    "kernelspec": {
      "display_name": "Python 3",
      "language": "python",
      "name": "python3"
    },
    "language_info": {
      "codemirror_mode": {
        "name": "ipython",
        "version": 3
      },
      "file_extension": ".py",
      "mimetype": "text/x-python",
      "name": "python",
      "nbconvert_exporter": "python",
      "pygments_lexer": "ipython3",
      "version": "3.7.7"
    },
    "colab": {
      "name": "Extract New York from Social Distancing.ipynb",
      "provenance": [],
      "toc_visible": true,
      "include_colab_link": true
    }
  },
  "cells": [
    {
      "cell_type": "markdown",
      "metadata": {
        "id": "view-in-github",
        "colab_type": "text"
      },
      "source": [
        "<a href=\"https://colab.research.google.com/github/chouhandiksha/bigdataproject/blob/colab/notebooks/Extract%20New%20York%20from%20Social%20Distancing.ipynb\" target=\"_parent\"><img src=\"https://colab.research.google.com/assets/colab-badge.svg\" alt=\"Open In Colab\"/></a>"
      ]
    },
    {
      "cell_type": "markdown",
      "metadata": {
        "id": "documented-theater"
      },
      "source": [
        "# Extract New York Social Distancing Data\n",
        "**Instructions:**\n",
        "\n",
        "1. Mount the google drive to access the data by following **Steps to Mount the Drive**.\n",
        "2. Provide the drive file path to the 2020 source data, 2019 source data, the 2020 target directory, 2019 target directory, and the 5 digit combined FIPS codes in the fourth code cell. "
      ],
      "id": "documented-theater"
    },
    {
      "cell_type": "markdown",
      "metadata": {
        "id": "L45nw6eQET9d"
      },
      "source": [
        "**Steps to Mount the Drive:**\n",
        "\n",
        "1. Execute the second code cell.\n",
        "2. There will be a link to follow in order to authorize the google account for drive. Go to that link.\n",
        "3. A link to authorize the google account will be generated. Copy the code generated.\n",
        "4. Go back to the cell where the process of mounting the drive is running. Paste the generated code from step 3 to the text box in the cell and press enter."
      ],
      "id": "L45nw6eQET9d"
    },
    {
      "cell_type": "code",
      "metadata": {
        "id": "Uv5TVQLYEUT4"
      },
      "source": [
        "pip install geopandas"
      ],
      "id": "Uv5TVQLYEUT4",
      "execution_count": null,
      "outputs": []
    },
    {
      "cell_type": "code",
      "metadata": {
        "id": "scenic-radical"
      },
      "source": [
        "import pandas as pd\n",
        "import geopandas\n",
        "import matplotlib.pyplot as plt\n",
        "\n",
        "import os\n",
        "from tqdm.notebook import tqdm, trange"
      ],
      "id": "scenic-radical",
      "execution_count": null,
      "outputs": []
    },
    {
      "cell_type": "code",
      "metadata": {
        "id": "IaJJV4d7EK-E",
        "colab": {
          "base_uri": "https://localhost:8080/"
        },
        "outputId": "5a1a26e7-936c-42a7-b665-0c10cc297db6"
      },
      "source": [
        "from google.colab import drive\n",
        "drive.mount('/content/drive')"
      ],
      "id": "IaJJV4d7EK-E",
      "execution_count": null,
      "outputs": [
        {
          "output_type": "stream",
          "text": [
            "Mounted at /content/drive\n"
          ],
          "name": "stdout"
        }
      ]
    },
    {
      "cell_type": "code",
      "metadata": {
        "id": "dedicated-mainstream"
      },
      "source": [
        "# New York Counties\n",
        "fips = ['36061','36047','36005','36085','36081']\n",
        "\n",
        "path_2020 = 'drive/MyDrive/big-data-project/data/unprocessed/social-distancing/2020/'\n",
        "target_2020 = 'drive/MyDrive/big-data-project/data/clean-data/ny/social/2020/'\n",
        "\n",
        "path_2019 = 'drive/MyDrive/big-data-project/data/unprocessed/social-distancing/2019/'\n",
        "target_2019 = 'drive/MyDrive/big-data-project/data/clean-data/ny/social/2019/'\n"
      ],
      "id": "dedicated-mainstream",
      "execution_count": null,
      "outputs": []
    },
    {
      "cell_type": "code",
      "metadata": {
        "id": "deadly-provider"
      },
      "source": [
        "def filter_fips(df, fips=fips):\n",
        "    return df[df['cbg'].astype(str).str[:5].isin(fips)]"
      ],
      "id": "deadly-provider",
      "execution_count": null,
      "outputs": []
    },
    {
      "cell_type": "code",
      "metadata": {
        "id": "egyptian-electric"
      },
      "source": [
        "def get_fips(fname, filepath, fips, dirout):\n",
        "    df = pd.read_csv(filepath, compression='gzip', dtype={'origin_census_block_group': object})\n",
        "    df = df.rename(columns={'origin_census_block_group':'cbg'})\n",
        "    df = filter_fips(df)\n",
        "    df.to_csv(dirout)"
      ],
      "id": "egyptian-electric",
      "execution_count": null,
      "outputs": []
    },
    {
      "cell_type": "code",
      "metadata": {
        "id": "reasonable-folks",
        "colab": {
          "referenced_widgets": [
            "654f38305e1040ae83895f37fba78975",
            "2523a993df914aa59740f99b79f3c0ed",
            "f063a14fc2af43f29cd7c5dfa6b6037b",
            "190595716da644fc9e56a5dbd2273b42",
            "206ba6ab03a54584bf215f232c72089f",
            "2906ca56bb3c411fb95a7c5f72d43dc2",
            "a3bd5d81fd994886af4416ed01a04d54",
            "6955dd632e3346ab8c62ffd38bdd1856",
            "be08f23bf4a443df8d3f348cde4c160a",
            "2b6b9cdc7d81463ab1760cc35a8b9de5",
            "2fc3da504ddb48878d48b79b722312e6",
            "63b0c5c31cee44409853e1efb539e1ed",
            "cd2169e382c44bedb0cab2ca84d23e05"
          ]
        },
        "outputId": "6a3d2465-e5c2-4201-8bb3-c0f4b9b70af6"
      },
      "source": [
        "months = os.listdir(path_2020)\n",
        "# print(months)\n",
        "for month in tqdm(months, desc='months'):\n",
        "    days = os.listdir(path_2020+month)\n",
        "    days = [day for day in days if day!='.DS_Store']\n",
        "    for day in tqdm(days, desc='days'):\n",
        "        sub_path = path_2020 + month + '/' + day +'/'\n",
        "        f_list = os.listdir(sub_path)\n",
        "        csv_files = [file for file in f_list if file.endswith('.gz')]\n",
        "        csv_files = [file for file in csv_files if file!= []]\n",
        "        for file in csv_files:\n",
        "            f_path = os.path.join(sub_path, file)\n",
        "            # Do something with file\n",
        "            target_dir = os.path.join(target_2020, file)[:-3]  # remove .gz extension\n",
        "            get_fips(file, f_path, fips, target_dir)"
      ],
      "id": "reasonable-folks",
      "execution_count": null,
      "outputs": [
        {
          "output_type": "display_data",
          "data": {
            "application/vnd.jupyter.widget-view+json": {
              "model_id": "654f38305e1040ae83895f37fba78975",
              "version_major": 2,
              "version_minor": 0
            },
            "text/plain": [
              "months:   0%|          | 0/12 [00:00<?, ?it/s]"
            ]
          },
          "metadata": {
            "tags": []
          }
        },
        {
          "output_type": "display_data",
          "data": {
            "application/vnd.jupyter.widget-view+json": {
              "model_id": "2523a993df914aa59740f99b79f3c0ed",
              "version_major": 2,
              "version_minor": 0
            },
            "text/plain": [
              "days:   0%|          | 0/31 [00:00<?, ?it/s]"
            ]
          },
          "metadata": {
            "tags": []
          }
        },
        {
          "output_type": "display_data",
          "data": {
            "application/vnd.jupyter.widget-view+json": {
              "model_id": "f063a14fc2af43f29cd7c5dfa6b6037b",
              "version_major": 2,
              "version_minor": 0
            },
            "text/plain": [
              "days:   0%|          | 0/30 [00:00<?, ?it/s]"
            ]
          },
          "metadata": {
            "tags": []
          }
        },
        {
          "output_type": "display_data",
          "data": {
            "application/vnd.jupyter.widget-view+json": {
              "model_id": "190595716da644fc9e56a5dbd2273b42",
              "version_major": 2,
              "version_minor": 0
            },
            "text/plain": [
              "days:   0%|          | 0/31 [00:00<?, ?it/s]"
            ]
          },
          "metadata": {
            "tags": []
          }
        },
        {
          "output_type": "display_data",
          "data": {
            "application/vnd.jupyter.widget-view+json": {
              "model_id": "206ba6ab03a54584bf215f232c72089f",
              "version_major": 2,
              "version_minor": 0
            },
            "text/plain": [
              "days:   0%|          | 0/29 [00:00<?, ?it/s]"
            ]
          },
          "metadata": {
            "tags": []
          }
        },
        {
          "output_type": "display_data",
          "data": {
            "application/vnd.jupyter.widget-view+json": {
              "model_id": "2906ca56bb3c411fb95a7c5f72d43dc2",
              "version_major": 2,
              "version_minor": 0
            },
            "text/plain": [
              "days:   0%|          | 0/30 [00:00<?, ?it/s]"
            ]
          },
          "metadata": {
            "tags": []
          }
        },
        {
          "output_type": "display_data",
          "data": {
            "application/vnd.jupyter.widget-view+json": {
              "model_id": "a3bd5d81fd994886af4416ed01a04d54",
              "version_major": 2,
              "version_minor": 0
            },
            "text/plain": [
              "days:   0%|          | 0/31 [00:00<?, ?it/s]"
            ]
          },
          "metadata": {
            "tags": []
          }
        },
        {
          "output_type": "display_data",
          "data": {
            "application/vnd.jupyter.widget-view+json": {
              "model_id": "6955dd632e3346ab8c62ffd38bdd1856",
              "version_major": 2,
              "version_minor": 0
            },
            "text/plain": [
              "days:   0%|          | 0/31 [00:00<?, ?it/s]"
            ]
          },
          "metadata": {
            "tags": []
          }
        },
        {
          "output_type": "display_data",
          "data": {
            "application/vnd.jupyter.widget-view+json": {
              "model_id": "be08f23bf4a443df8d3f348cde4c160a",
              "version_major": 2,
              "version_minor": 0
            },
            "text/plain": [
              "days:   0%|          | 0/30 [00:00<?, ?it/s]"
            ]
          },
          "metadata": {
            "tags": []
          }
        },
        {
          "output_type": "display_data",
          "data": {
            "application/vnd.jupyter.widget-view+json": {
              "model_id": "2b6b9cdc7d81463ab1760cc35a8b9de5",
              "version_major": 2,
              "version_minor": 0
            },
            "text/plain": [
              "days:   0%|          | 0/31 [00:00<?, ?it/s]"
            ]
          },
          "metadata": {
            "tags": []
          }
        },
        {
          "output_type": "display_data",
          "data": {
            "application/vnd.jupyter.widget-view+json": {
              "model_id": "2fc3da504ddb48878d48b79b722312e6",
              "version_major": 2,
              "version_minor": 0
            },
            "text/plain": [
              "days:   0%|          | 0/31 [00:00<?, ?it/s]"
            ]
          },
          "metadata": {
            "tags": []
          }
        },
        {
          "output_type": "display_data",
          "data": {
            "application/vnd.jupyter.widget-view+json": {
              "model_id": "63b0c5c31cee44409853e1efb539e1ed",
              "version_major": 2,
              "version_minor": 0
            },
            "text/plain": [
              "days:   0%|          | 0/30 [00:00<?, ?it/s]"
            ]
          },
          "metadata": {
            "tags": []
          }
        },
        {
          "output_type": "display_data",
          "data": {
            "application/vnd.jupyter.widget-view+json": {
              "model_id": "cd2169e382c44bedb0cab2ca84d23e05",
              "version_major": 2,
              "version_minor": 0
            },
            "text/plain": [
              "days:   0%|          | 0/31 [00:00<?, ?it/s]"
            ]
          },
          "metadata": {
            "tags": []
          }
        }
      ]
    },
    {
      "cell_type": "code",
      "metadata": {
        "id": "korean-condition",
        "colab": {
          "referenced_widgets": [
            "424ec4869939442da171da9ca43a4f9a",
            "d6cf8c3c1a6c400db2aee0ab72290605",
            "13b27ccb54944bf28d1cb4a01a068f17",
            "33095c3b3cae40cc83ac80d8e25a5a84",
            "c36e24dacbe14b5b811dd0dcdaf9f250",
            "06b3ace37f0d48c98ba2ecb103d15852",
            "049f8a2e08c24b6380e09c0b317fbcc1",
            "a407ae163f324030b91272b6d4c19669",
            "2818990e0b5341feaf2176ee6e60c4ad",
            "4e79e13e60b94a15985d563ed7606096",
            "20607d6dc4c843eda92a5c67b5cf9c56",
            "eab08bbe1c5245be80adf686126bf084",
            "21458c0dbc6a496590ff14fe90701bdd"
          ]
        },
        "outputId": "2d3bbcf4-7259-4dc2-d362-46f06fd55ca7"
      },
      "source": [
        "months = os.listdir(path_2019)\n",
        "# print(months)\n",
        "for month in tqdm(months, desc='months'):\n",
        "    days = os.listdir(path_2019+month)\n",
        "    days = [day for day in days if day!='.DS_Store']\n",
        "    for day in tqdm(days, desc='days'):\n",
        "        sub_path = path_2019 + month + '/' + day +'/'\n",
        "        f_list = os.listdir(sub_path)\n",
        "        csv_files = [file for file in f_list if file.endswith('.gz')]\n",
        "        csv_files = [file for file in csv_files if file!= []]\n",
        "        for file in csv_files:\n",
        "            f_path = os.path.join(sub_path, file)\n",
        "            # Do something with file\n",
        "            target_dir = os.path.join(target_2019, file)[:-3]  # remove .gz extension\n",
        "            get_fips(file, f_path, fips, target_dir)"
      ],
      "id": "korean-condition",
      "execution_count": null,
      "outputs": [
        {
          "output_type": "display_data",
          "data": {
            "application/vnd.jupyter.widget-view+json": {
              "model_id": "424ec4869939442da171da9ca43a4f9a",
              "version_major": 2,
              "version_minor": 0
            },
            "text/plain": [
              "months:   0%|          | 0/12 [00:00<?, ?it/s]"
            ]
          },
          "metadata": {
            "tags": []
          }
        },
        {
          "output_type": "display_data",
          "data": {
            "application/vnd.jupyter.widget-view+json": {
              "model_id": "d6cf8c3c1a6c400db2aee0ab72290605",
              "version_major": 2,
              "version_minor": 0
            },
            "text/plain": [
              "days:   0%|          | 0/31 [00:00<?, ?it/s]"
            ]
          },
          "metadata": {
            "tags": []
          }
        },
        {
          "output_type": "display_data",
          "data": {
            "application/vnd.jupyter.widget-view+json": {
              "model_id": "13b27ccb54944bf28d1cb4a01a068f17",
              "version_major": 2,
              "version_minor": 0
            },
            "text/plain": [
              "days:   0%|          | 0/28 [00:00<?, ?it/s]"
            ]
          },
          "metadata": {
            "tags": []
          }
        },
        {
          "output_type": "display_data",
          "data": {
            "application/vnd.jupyter.widget-view+json": {
              "model_id": "33095c3b3cae40cc83ac80d8e25a5a84",
              "version_major": 2,
              "version_minor": 0
            },
            "text/plain": [
              "days:   0%|          | 0/31 [00:00<?, ?it/s]"
            ]
          },
          "metadata": {
            "tags": []
          }
        },
        {
          "output_type": "display_data",
          "data": {
            "application/vnd.jupyter.widget-view+json": {
              "model_id": "c36e24dacbe14b5b811dd0dcdaf9f250",
              "version_major": 2,
              "version_minor": 0
            },
            "text/plain": [
              "days:   0%|          | 0/30 [00:00<?, ?it/s]"
            ]
          },
          "metadata": {
            "tags": []
          }
        },
        {
          "output_type": "display_data",
          "data": {
            "application/vnd.jupyter.widget-view+json": {
              "model_id": "06b3ace37f0d48c98ba2ecb103d15852",
              "version_major": 2,
              "version_minor": 0
            },
            "text/plain": [
              "days:   0%|          | 0/31 [00:00<?, ?it/s]"
            ]
          },
          "metadata": {
            "tags": []
          }
        },
        {
          "output_type": "display_data",
          "data": {
            "application/vnd.jupyter.widget-view+json": {
              "model_id": "049f8a2e08c24b6380e09c0b317fbcc1",
              "version_major": 2,
              "version_minor": 0
            },
            "text/plain": [
              "days:   0%|          | 0/30 [00:00<?, ?it/s]"
            ]
          },
          "metadata": {
            "tags": []
          }
        },
        {
          "output_type": "display_data",
          "data": {
            "application/vnd.jupyter.widget-view+json": {
              "model_id": "a407ae163f324030b91272b6d4c19669",
              "version_major": 2,
              "version_minor": 0
            },
            "text/plain": [
              "days:   0%|          | 0/31 [00:00<?, ?it/s]"
            ]
          },
          "metadata": {
            "tags": []
          }
        },
        {
          "output_type": "display_data",
          "data": {
            "application/vnd.jupyter.widget-view+json": {
              "model_id": "2818990e0b5341feaf2176ee6e60c4ad",
              "version_major": 2,
              "version_minor": 0
            },
            "text/plain": [
              "days:   0%|          | 0/31 [00:00<?, ?it/s]"
            ]
          },
          "metadata": {
            "tags": []
          }
        },
        {
          "output_type": "display_data",
          "data": {
            "application/vnd.jupyter.widget-view+json": {
              "model_id": "4e79e13e60b94a15985d563ed7606096",
              "version_major": 2,
              "version_minor": 0
            },
            "text/plain": [
              "days:   0%|          | 0/30 [00:00<?, ?it/s]"
            ]
          },
          "metadata": {
            "tags": []
          }
        },
        {
          "output_type": "display_data",
          "data": {
            "application/vnd.jupyter.widget-view+json": {
              "model_id": "20607d6dc4c843eda92a5c67b5cf9c56",
              "version_major": 2,
              "version_minor": 0
            },
            "text/plain": [
              "days:   0%|          | 0/31 [00:00<?, ?it/s]"
            ]
          },
          "metadata": {
            "tags": []
          }
        },
        {
          "output_type": "display_data",
          "data": {
            "application/vnd.jupyter.widget-view+json": {
              "model_id": "eab08bbe1c5245be80adf686126bf084",
              "version_major": 2,
              "version_minor": 0
            },
            "text/plain": [
              "days:   0%|          | 0/30 [00:00<?, ?it/s]"
            ]
          },
          "metadata": {
            "tags": []
          }
        },
        {
          "output_type": "display_data",
          "data": {
            "application/vnd.jupyter.widget-view+json": {
              "model_id": "21458c0dbc6a496590ff14fe90701bdd",
              "version_major": 2,
              "version_minor": 0
            },
            "text/plain": [
              "days:   0%|          | 0/31 [00:00<?, ?it/s]"
            ]
          },
          "metadata": {
            "tags": []
          }
        }
      ]
    },
    {
      "cell_type": "code",
      "metadata": {
        "id": "psychological-beaver"
      },
      "source": [
        ""
      ],
      "id": "psychological-beaver",
      "execution_count": null,
      "outputs": []
    }
  ]
}