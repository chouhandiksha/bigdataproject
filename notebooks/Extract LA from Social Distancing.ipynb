{
  "nbformat": 4,
  "nbformat_minor": 5,
  "metadata": {
    "kernelspec": {
      "display_name": "Python 3",
      "language": "python",
      "name": "python3"
    },
    "language_info": {
      "codemirror_mode": {
        "name": "ipython",
        "version": 3
      },
      "file_extension": ".py",
      "mimetype": "text/x-python",
      "name": "python",
      "nbconvert_exporter": "python",
      "pygments_lexer": "ipython3",
      "version": "3.7.7"
    },
    "colab": {
      "name": "Extract LA from Social Distancing.ipynb",
      "provenance": [],
      "toc_visible": true
    }
  },
  "cells": [
    {
      "cell_type": "markdown",
      "metadata": {
        "id": "turned-expansion"
      },
      "source": [
        "# Extract Los Angeles Social Distancing Data\n",
        "\n",
        "**Instructions:**\n",
        "\n",
        "1. Mount the google drive to access the data by following **Steps to Mount the Drive**.\n",
        "2. Provide the drive file path to the 2020 source data, 2019 source data, the 2020 target directory, 2019 target directory, and the 5 digit combined FIPS codes in the fourth code cell. "
      ],
      "id": "turned-expansion"
    },
    {
      "cell_type": "markdown",
      "metadata": {
        "id": "uGchKYE3GLY0"
      },
      "source": [
        "**Steps to Mount the Drive:**\n",
        "\n",
        "1. Expand the left menu.\n",
        "2. Click on the Files option (fourth icon).\n",
        "3. Click on the \"Mount Drive\" option from the bar that appears.\n",
        "4. You will see a code snippet automatically added in a new cell. \n",
        "5. Execute the cell.\n",
        "6. Click \"Run Anyway\" if asked.\n",
        "7. There will be a link to follow in order to authorize the google account for drive. Go to that link.\n",
        "7. Login to google drive by providing the following credentials. username: bigdatateam.jad password: highhopes21 \n",
        "8. Click on Allow method.\n",
        "9. A link to authorize the google account will be generated. Copy the link generated.\n",
        "10. Go back to the cell where the process of mounting the drive is running. \n",
        "11. Paste the generated link from step 7 to the text box in the cell. "
      ],
      "id": "uGchKYE3GLY0"
    },
    {
      "cell_type": "code",
      "metadata": {
        "id": "Ac1NO8wOGgII"
      },
      "source": [
        "pip install geopandas"
      ],
      "id": "Ac1NO8wOGgII",
      "execution_count": null,
      "outputs": []
    },
    {
      "cell_type": "code",
      "metadata": {
        "id": "aSoe32COG8Ed",
        "outputId": "4c9661ad-2fbd-4d51-89e5-1f18749b23f2",
        "colab": {
          "base_uri": "https://localhost:8080/"
        }
      },
      "source": [
        "from google.colab import drive\n",
        "drive.mount('/content/drive')"
      ],
      "id": "aSoe32COG8Ed",
      "execution_count": 1,
      "outputs": [
        {
          "output_type": "stream",
          "text": [
            "Mounted at /content/drive\n"
          ],
          "name": "stdout"
        }
      ]
    },
    {
      "cell_type": "code",
      "metadata": {
        "id": "digital-bridge"
      },
      "source": [
        "import pandas as pd\n",
        "import geopandas\n",
        "import matplotlib.pyplot as plt\n",
        "\n",
        "import os\n",
        "from tqdm.notebook import tqdm, trange"
      ],
      "id": "digital-bridge",
      "execution_count": null,
      "outputs": []
    },
    {
      "cell_type": "code",
      "metadata": {
        "id": "burning-november"
      },
      "source": [
        "# LA Counties\n",
        "fips = ['06037','06059']\n",
        "\n",
        "path_2020 = '/Users/justinsnider/nyu-big-data/project/data/social-distancing/2020/'\n",
        "target_2020 = '/Users/justinsnider/nyu-big-data/project/clean-data/la/social/2020/'\n",
        "\n",
        "path_2019 = '/Volumes/Data_01/social-distancing/2019/'\n",
        "target_2019 = '/Users/justinsnider/nyu-big-data/project/clean-data/la/social/2019/'\n"
      ],
      "id": "burning-november",
      "execution_count": null,
      "outputs": []
    },
    {
      "cell_type": "code",
      "metadata": {
        "id": "rolled-spell"
      },
      "source": [
        "def filter_fips(df, fips=fips):\n",
        "    return df[df['cbg'].astype(str).str[:5].isin(fips)]"
      ],
      "id": "rolled-spell",
      "execution_count": null,
      "outputs": []
    },
    {
      "cell_type": "code",
      "metadata": {
        "id": "completed-california"
      },
      "source": [
        "def get_fips(fname, filepath, fips, dirout):\n",
        "    df = pd.read_csv(filepath, compression='gzip', dtype={'origin_census_block_group': object})\n",
        "    df = df.rename(columns={'origin_census_block_group':'cbg'})\n",
        "    df = filter_fips(df)\n",
        "    df.to_csv(dirout)"
      ],
      "id": "completed-california",
      "execution_count": null,
      "outputs": []
    },
    {
      "cell_type": "code",
      "metadata": {
        "id": "bizarre-mouse",
        "outputId": "82ddde15-9f40-42b4-86fe-4b7a2d83f4ed",
        "colab": {
          "referenced_widgets": [
            "58c04f449a354ad992de3267354849f5",
            "ffd6ca076268471f94806d368de42d52",
            "6105d1604778437f86a1bce9d1d537e5",
            "5c3ce6b0456540e5a48a2d479f5e1bf6",
            "8d2becebe091481c98ef7b128c5c2b43",
            "53819e81f6d745aa840a4bcf28cb81a3",
            "d29321232fc540d1b92c8e2915664247",
            "9d778763774643bfa1bfcf6d622fb8cd",
            "a9cc36317b114cb7be088b888313d6d5",
            "37c87d7853a9410c9f8419998c8c5374",
            "caccb5443933401ca299eb5f8d05ed5d",
            "d6eed6cb76d64f909d50f00736520602",
            "57b391e34628435aa015d656dcdb16a4"
          ]
        }
      },
      "source": [
        "months = os.listdir(path_2020)\n",
        "# print(months)\n",
        "for month in tqdm(months, desc='months'):\n",
        "    days = os.listdir(path_2020+month)\n",
        "    days = [day for day in days if day!='.DS_Store']\n",
        "    for day in tqdm(days, desc='days'):\n",
        "        sub_path = path_2020 + month + '/' + day +'/'\n",
        "        f_list = os.listdir(sub_path)\n",
        "        csv_files = [file for file in f_list if file.endswith('.gz')]\n",
        "        csv_files = [file for file in csv_files if file!= []]\n",
        "        for file in csv_files:\n",
        "            f_path = os.path.join(sub_path, file)\n",
        "            # Do something with file\n",
        "            target_dir = os.path.join(target_2020, file)[:-3]  # remove .gz extension\n",
        "            get_fips(file, f_path, fips, target_dir)"
      ],
      "id": "bizarre-mouse",
      "execution_count": null,
      "outputs": [
        {
          "output_type": "display_data",
          "data": {
            "application/vnd.jupyter.widget-view+json": {
              "model_id": "58c04f449a354ad992de3267354849f5",
              "version_major": 2,
              "version_minor": 0
            },
            "text/plain": [
              "months:   0%|          | 0/12 [00:00<?, ?it/s]"
            ]
          },
          "metadata": {
            "tags": []
          }
        },
        {
          "output_type": "display_data",
          "data": {
            "application/vnd.jupyter.widget-view+json": {
              "model_id": "ffd6ca076268471f94806d368de42d52",
              "version_major": 2,
              "version_minor": 0
            },
            "text/plain": [
              "days:   0%|          | 0/31 [00:00<?, ?it/s]"
            ]
          },
          "metadata": {
            "tags": []
          }
        },
        {
          "output_type": "display_data",
          "data": {
            "application/vnd.jupyter.widget-view+json": {
              "model_id": "6105d1604778437f86a1bce9d1d537e5",
              "version_major": 2,
              "version_minor": 0
            },
            "text/plain": [
              "days:   0%|          | 0/30 [00:00<?, ?it/s]"
            ]
          },
          "metadata": {
            "tags": []
          }
        },
        {
          "output_type": "display_data",
          "data": {
            "application/vnd.jupyter.widget-view+json": {
              "model_id": "5c3ce6b0456540e5a48a2d479f5e1bf6",
              "version_major": 2,
              "version_minor": 0
            },
            "text/plain": [
              "days:   0%|          | 0/31 [00:00<?, ?it/s]"
            ]
          },
          "metadata": {
            "tags": []
          }
        },
        {
          "output_type": "display_data",
          "data": {
            "application/vnd.jupyter.widget-view+json": {
              "model_id": "8d2becebe091481c98ef7b128c5c2b43",
              "version_major": 2,
              "version_minor": 0
            },
            "text/plain": [
              "days:   0%|          | 0/29 [00:00<?, ?it/s]"
            ]
          },
          "metadata": {
            "tags": []
          }
        },
        {
          "output_type": "display_data",
          "data": {
            "application/vnd.jupyter.widget-view+json": {
              "model_id": "53819e81f6d745aa840a4bcf28cb81a3",
              "version_major": 2,
              "version_minor": 0
            },
            "text/plain": [
              "days:   0%|          | 0/30 [00:00<?, ?it/s]"
            ]
          },
          "metadata": {
            "tags": []
          }
        },
        {
          "output_type": "display_data",
          "data": {
            "application/vnd.jupyter.widget-view+json": {
              "model_id": "d29321232fc540d1b92c8e2915664247",
              "version_major": 2,
              "version_minor": 0
            },
            "text/plain": [
              "days:   0%|          | 0/31 [00:00<?, ?it/s]"
            ]
          },
          "metadata": {
            "tags": []
          }
        },
        {
          "output_type": "display_data",
          "data": {
            "application/vnd.jupyter.widget-view+json": {
              "model_id": "9d778763774643bfa1bfcf6d622fb8cd",
              "version_major": 2,
              "version_minor": 0
            },
            "text/plain": [
              "days:   0%|          | 0/31 [00:00<?, ?it/s]"
            ]
          },
          "metadata": {
            "tags": []
          }
        },
        {
          "output_type": "display_data",
          "data": {
            "application/vnd.jupyter.widget-view+json": {
              "model_id": "a9cc36317b114cb7be088b888313d6d5",
              "version_major": 2,
              "version_minor": 0
            },
            "text/plain": [
              "days:   0%|          | 0/30 [00:00<?, ?it/s]"
            ]
          },
          "metadata": {
            "tags": []
          }
        },
        {
          "output_type": "display_data",
          "data": {
            "application/vnd.jupyter.widget-view+json": {
              "model_id": "37c87d7853a9410c9f8419998c8c5374",
              "version_major": 2,
              "version_minor": 0
            },
            "text/plain": [
              "days:   0%|          | 0/31 [00:00<?, ?it/s]"
            ]
          },
          "metadata": {
            "tags": []
          }
        },
        {
          "output_type": "display_data",
          "data": {
            "application/vnd.jupyter.widget-view+json": {
              "model_id": "caccb5443933401ca299eb5f8d05ed5d",
              "version_major": 2,
              "version_minor": 0
            },
            "text/plain": [
              "days:   0%|          | 0/31 [00:00<?, ?it/s]"
            ]
          },
          "metadata": {
            "tags": []
          }
        },
        {
          "output_type": "display_data",
          "data": {
            "application/vnd.jupyter.widget-view+json": {
              "model_id": "d6eed6cb76d64f909d50f00736520602",
              "version_major": 2,
              "version_minor": 0
            },
            "text/plain": [
              "days:   0%|          | 0/30 [00:00<?, ?it/s]"
            ]
          },
          "metadata": {
            "tags": []
          }
        },
        {
          "output_type": "display_data",
          "data": {
            "application/vnd.jupyter.widget-view+json": {
              "model_id": "57b391e34628435aa015d656dcdb16a4",
              "version_major": 2,
              "version_minor": 0
            },
            "text/plain": [
              "days:   0%|          | 0/31 [00:00<?, ?it/s]"
            ]
          },
          "metadata": {
            "tags": []
          }
        }
      ]
    },
    {
      "cell_type": "code",
      "metadata": {
        "id": "indian-brooks",
        "outputId": "55eed134-822b-4abd-ab31-abc0c673ab1f",
        "colab": {
          "referenced_widgets": [
            "eb81aff5551247869717763efa93e215",
            "0d6251638c21470798c6a61191437cc8",
            "f1127d410f0c478e8528e8446f95d259",
            "a2c86308e3ea44eeb581a0eb8bb8bdfe",
            "2d39105b2af644eb92cf244a8b7ec55e",
            "d67721a16fef40cab3899eb53f8685fb",
            "12150cbb0659436ea2e4b9d3c5036e50",
            "b735321e4c5448488a340cdb8eed436b",
            "4c657fe7eaba4032a37ef8b8634ed7ec",
            "81b1db0770904f349fa416ecf6032387",
            "522b6768d19c490399987c9f9964c6ff",
            "10fcee9f6752479caba53a7f04af3118",
            "9418a19c152149ce9b2880d0e0496795"
          ]
        }
      },
      "source": [
        "months = os.listdir(path_2019)\n",
        "# print(months)\n",
        "for month in tqdm(months, desc='months'):\n",
        "    days = os.listdir(path_2019+month)\n",
        "    days = [day for day in days if day!='.DS_Store']\n",
        "    for day in tqdm(days, desc='days'):\n",
        "        sub_path = path_2019 + month + '/' + day +'/'\n",
        "        f_list = os.listdir(sub_path)\n",
        "        csv_files = [file for file in f_list if file.endswith('.gz')]\n",
        "        csv_files = [file for file in csv_files if file!= []]\n",
        "        for file in csv_files:\n",
        "            f_path = os.path.join(sub_path, file)\n",
        "            # Do something with file\n",
        "            target_dir = os.path.join(target_2019, file)[:-3]  # remove .gz extension\n",
        "            get_fips(file, f_path, fips, target_dir)"
      ],
      "id": "indian-brooks",
      "execution_count": null,
      "outputs": [
        {
          "output_type": "display_data",
          "data": {
            "application/vnd.jupyter.widget-view+json": {
              "model_id": "eb81aff5551247869717763efa93e215",
              "version_major": 2,
              "version_minor": 0
            },
            "text/plain": [
              "months:   0%|          | 0/12 [00:00<?, ?it/s]"
            ]
          },
          "metadata": {
            "tags": []
          }
        },
        {
          "output_type": "display_data",
          "data": {
            "application/vnd.jupyter.widget-view+json": {
              "model_id": "0d6251638c21470798c6a61191437cc8",
              "version_major": 2,
              "version_minor": 0
            },
            "text/plain": [
              "days:   0%|          | 0/31 [00:00<?, ?it/s]"
            ]
          },
          "metadata": {
            "tags": []
          }
        },
        {
          "output_type": "display_data",
          "data": {
            "application/vnd.jupyter.widget-view+json": {
              "model_id": "f1127d410f0c478e8528e8446f95d259",
              "version_major": 2,
              "version_minor": 0
            },
            "text/plain": [
              "days:   0%|          | 0/28 [00:00<?, ?it/s]"
            ]
          },
          "metadata": {
            "tags": []
          }
        },
        {
          "output_type": "display_data",
          "data": {
            "application/vnd.jupyter.widget-view+json": {
              "model_id": "a2c86308e3ea44eeb581a0eb8bb8bdfe",
              "version_major": 2,
              "version_minor": 0
            },
            "text/plain": [
              "days:   0%|          | 0/31 [00:00<?, ?it/s]"
            ]
          },
          "metadata": {
            "tags": []
          }
        },
        {
          "output_type": "display_data",
          "data": {
            "application/vnd.jupyter.widget-view+json": {
              "model_id": "2d39105b2af644eb92cf244a8b7ec55e",
              "version_major": 2,
              "version_minor": 0
            },
            "text/plain": [
              "days:   0%|          | 0/30 [00:00<?, ?it/s]"
            ]
          },
          "metadata": {
            "tags": []
          }
        },
        {
          "output_type": "display_data",
          "data": {
            "application/vnd.jupyter.widget-view+json": {
              "model_id": "d67721a16fef40cab3899eb53f8685fb",
              "version_major": 2,
              "version_minor": 0
            },
            "text/plain": [
              "days:   0%|          | 0/31 [00:00<?, ?it/s]"
            ]
          },
          "metadata": {
            "tags": []
          }
        },
        {
          "output_type": "display_data",
          "data": {
            "application/vnd.jupyter.widget-view+json": {
              "model_id": "12150cbb0659436ea2e4b9d3c5036e50",
              "version_major": 2,
              "version_minor": 0
            },
            "text/plain": [
              "days:   0%|          | 0/30 [00:00<?, ?it/s]"
            ]
          },
          "metadata": {
            "tags": []
          }
        },
        {
          "output_type": "display_data",
          "data": {
            "application/vnd.jupyter.widget-view+json": {
              "model_id": "b735321e4c5448488a340cdb8eed436b",
              "version_major": 2,
              "version_minor": 0
            },
            "text/plain": [
              "days:   0%|          | 0/31 [00:00<?, ?it/s]"
            ]
          },
          "metadata": {
            "tags": []
          }
        },
        {
          "output_type": "display_data",
          "data": {
            "application/vnd.jupyter.widget-view+json": {
              "model_id": "4c657fe7eaba4032a37ef8b8634ed7ec",
              "version_major": 2,
              "version_minor": 0
            },
            "text/plain": [
              "days:   0%|          | 0/31 [00:00<?, ?it/s]"
            ]
          },
          "metadata": {
            "tags": []
          }
        },
        {
          "output_type": "display_data",
          "data": {
            "application/vnd.jupyter.widget-view+json": {
              "model_id": "81b1db0770904f349fa416ecf6032387",
              "version_major": 2,
              "version_minor": 0
            },
            "text/plain": [
              "days:   0%|          | 0/30 [00:00<?, ?it/s]"
            ]
          },
          "metadata": {
            "tags": []
          }
        },
        {
          "output_type": "display_data",
          "data": {
            "application/vnd.jupyter.widget-view+json": {
              "model_id": "522b6768d19c490399987c9f9964c6ff",
              "version_major": 2,
              "version_minor": 0
            },
            "text/plain": [
              "days:   0%|          | 0/31 [00:00<?, ?it/s]"
            ]
          },
          "metadata": {
            "tags": []
          }
        },
        {
          "output_type": "display_data",
          "data": {
            "application/vnd.jupyter.widget-view+json": {
              "model_id": "10fcee9f6752479caba53a7f04af3118",
              "version_major": 2,
              "version_minor": 0
            },
            "text/plain": [
              "days:   0%|          | 0/30 [00:00<?, ?it/s]"
            ]
          },
          "metadata": {
            "tags": []
          }
        },
        {
          "output_type": "display_data",
          "data": {
            "application/vnd.jupyter.widget-view+json": {
              "model_id": "9418a19c152149ce9b2880d0e0496795",
              "version_major": 2,
              "version_minor": 0
            },
            "text/plain": [
              "days:   0%|          | 0/31 [00:00<?, ?it/s]"
            ]
          },
          "metadata": {
            "tags": []
          }
        }
      ]
    },
    {
      "cell_type": "code",
      "metadata": {
        "id": "legal-blood"
      },
      "source": [
        ""
      ],
      "id": "legal-blood",
      "execution_count": null,
      "outputs": []
    }
  ]
}