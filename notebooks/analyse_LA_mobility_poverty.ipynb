{
  "nbformat": 4,
  "nbformat_minor": 0,
  "metadata": {
    "colab": {
      "name": "sketch_spark_chicago.ipynb",
      "provenance": [],
      "include_colab_link": true
    },
    "kernelspec": {
      "name": "python3",
      "display_name": "Python 3"
    },
    "language_info": {
      "name": "python"
    }
  },
  "cells": [
    {
      "cell_type": "markdown",
      "metadata": {
        "id": "view-in-github",
        "colab_type": "text"
      },
      "source": [
        "<a href=\"https://colab.research.google.com/github/chouhandiksha/bigdataproject/blob/colab/notebooks/analyse_LA_mobility_poverty.ipynb\" target=\"_parent\"><img src=\"https://colab.research.google.com/assets/colab-badge.svg\" alt=\"Open In Colab\"/></a>"
      ]
    },
    {
      "cell_type": "markdown",
      "metadata": {
        "id": "6Vnc5foT5YFx"
      },
      "source": [
        "**Spark SQL Documentation:** \n",
        "https://spark.apache.org/docs/2.2.0/sql-programming-guide.html"
      ]
    },
    {
      "cell_type": "code",
      "metadata": {
        "colab": {
          "base_uri": "https://localhost:8080/"
        },
        "id": "DggpqrsrscGi",
        "outputId": "3cd39ec1-41ae-4df5-994d-f97956f38669"
      },
      "source": [
        "# Install required dependancies\n",
        "!pip install pyspark\n",
        "!pip install -U -q PyDrive\n",
        "!apt install openjdk-8-jdk-headless -qq\n",
        "import os\n",
        "os.environ[\"JAVA_HOME\"] = \"/usr/lib/jvm/java-8-openjdk-amd64\""
      ],
      "execution_count": 1,
      "outputs": [
        {
          "output_type": "stream",
          "text": [
            "Collecting pyspark\n",
            "\u001b[?25l  Downloading https://files.pythonhosted.org/packages/45/b0/9d6860891ab14a39d4bddf80ba26ce51c2f9dc4805e5c6978ac0472c120a/pyspark-3.1.1.tar.gz (212.3MB)\n",
            "\u001b[K     |████████████████████████████████| 212.3MB 73kB/s \n",
            "\u001b[?25hCollecting py4j==0.10.9\n",
            "\u001b[?25l  Downloading https://files.pythonhosted.org/packages/9e/b6/6a4fb90cd235dc8e265a6a2067f2a2c99f0d91787f06aca4bcf7c23f3f80/py4j-0.10.9-py2.py3-none-any.whl (198kB)\n",
            "\u001b[K     |████████████████████████████████| 204kB 36.3MB/s \n",
            "\u001b[?25hBuilding wheels for collected packages: pyspark\n",
            "  Building wheel for pyspark (setup.py) ... \u001b[?25l\u001b[?25hdone\n",
            "  Created wheel for pyspark: filename=pyspark-3.1.1-py2.py3-none-any.whl size=212767604 sha256=794cb2baf7f0ec362ad6309f04a3ce07bff92791a215809f5cdf5f1c3f010661\n",
            "  Stored in directory: /root/.cache/pip/wheels/0b/90/c0/01de724414ef122bd05f056541fb6a0ecf47c7ca655f8b3c0f\n",
            "Successfully built pyspark\n",
            "Installing collected packages: py4j, pyspark\n",
            "Successfully installed py4j-0.10.9 pyspark-3.1.1\n",
            "The following additional packages will be installed:\n",
            "  openjdk-8-jre-headless\n",
            "Suggested packages:\n",
            "  openjdk-8-demo openjdk-8-source libnss-mdns fonts-dejavu-extra\n",
            "  fonts-ipafont-gothic fonts-ipafont-mincho fonts-wqy-microhei\n",
            "  fonts-wqy-zenhei fonts-indic\n",
            "The following NEW packages will be installed:\n",
            "  openjdk-8-jdk-headless openjdk-8-jre-headless\n",
            "0 upgraded, 2 newly installed, 0 to remove and 30 not upgraded.\n",
            "Need to get 36.5 MB of archives.\n",
            "After this operation, 143 MB of additional disk space will be used.\n",
            "Selecting previously unselected package openjdk-8-jre-headless:amd64.\n",
            "(Reading database ... 160980 files and directories currently installed.)\n",
            "Preparing to unpack .../openjdk-8-jre-headless_8u282-b08-0ubuntu1~18.04_amd64.deb ...\n",
            "Unpacking openjdk-8-jre-headless:amd64 (8u282-b08-0ubuntu1~18.04) ...\n",
            "Selecting previously unselected package openjdk-8-jdk-headless:amd64.\n",
            "Preparing to unpack .../openjdk-8-jdk-headless_8u282-b08-0ubuntu1~18.04_amd64.deb ...\n",
            "Unpacking openjdk-8-jdk-headless:amd64 (8u282-b08-0ubuntu1~18.04) ...\n",
            "Setting up openjdk-8-jre-headless:amd64 (8u282-b08-0ubuntu1~18.04) ...\n",
            "update-alternatives: using /usr/lib/jvm/java-8-openjdk-amd64/jre/bin/orbd to provide /usr/bin/orbd (orbd) in auto mode\n",
            "update-alternatives: using /usr/lib/jvm/java-8-openjdk-amd64/jre/bin/servertool to provide /usr/bin/servertool (servertool) in auto mode\n",
            "update-alternatives: using /usr/lib/jvm/java-8-openjdk-amd64/jre/bin/tnameserv to provide /usr/bin/tnameserv (tnameserv) in auto mode\n",
            "Setting up openjdk-8-jdk-headless:amd64 (8u282-b08-0ubuntu1~18.04) ...\n",
            "update-alternatives: using /usr/lib/jvm/java-8-openjdk-amd64/bin/idlj to provide /usr/bin/idlj (idlj) in auto mode\n",
            "update-alternatives: using /usr/lib/jvm/java-8-openjdk-amd64/bin/wsimport to provide /usr/bin/wsimport (wsimport) in auto mode\n",
            "update-alternatives: using /usr/lib/jvm/java-8-openjdk-amd64/bin/jsadebugd to provide /usr/bin/jsadebugd (jsadebugd) in auto mode\n",
            "update-alternatives: using /usr/lib/jvm/java-8-openjdk-amd64/bin/native2ascii to provide /usr/bin/native2ascii (native2ascii) in auto mode\n",
            "update-alternatives: using /usr/lib/jvm/java-8-openjdk-amd64/bin/javah to provide /usr/bin/javah (javah) in auto mode\n",
            "update-alternatives: using /usr/lib/jvm/java-8-openjdk-amd64/bin/hsdb to provide /usr/bin/hsdb (hsdb) in auto mode\n",
            "update-alternatives: using /usr/lib/jvm/java-8-openjdk-amd64/bin/clhsdb to provide /usr/bin/clhsdb (clhsdb) in auto mode\n",
            "update-alternatives: using /usr/lib/jvm/java-8-openjdk-amd64/bin/xjc to provide /usr/bin/xjc (xjc) in auto mode\n",
            "update-alternatives: using /usr/lib/jvm/java-8-openjdk-amd64/bin/schemagen to provide /usr/bin/schemagen (schemagen) in auto mode\n",
            "update-alternatives: using /usr/lib/jvm/java-8-openjdk-amd64/bin/extcheck to provide /usr/bin/extcheck (extcheck) in auto mode\n",
            "update-alternatives: using /usr/lib/jvm/java-8-openjdk-amd64/bin/jhat to provide /usr/bin/jhat (jhat) in auto mode\n",
            "update-alternatives: using /usr/lib/jvm/java-8-openjdk-amd64/bin/wsgen to provide /usr/bin/wsgen (wsgen) in auto mode\n"
          ],
          "name": "stdout"
        }
      ]
    },
    {
      "cell_type": "code",
      "metadata": {
        "id": "ppkG73kRsei0"
      },
      "source": [
        "# Import modules\n",
        "import numpy as np\n",
        "import pandas as pd\n",
        "import matplotlib.pyplot as plt\n",
        "from pathlib import Path\n",
        "%matplotlib inline\n",
        "\n",
        "import pyspark\n",
        "from pyspark.sql import *\n",
        "from pyspark.sql.types import *\n",
        "from pyspark.sql.functions import *\n",
        "from pyspark import SparkContext, SparkConf"
      ],
      "execution_count": 2,
      "outputs": []
    },
    {
      "cell_type": "code",
      "metadata": {
        "colab": {
          "base_uri": "https://localhost:8080/"
        },
        "id": "pYm9-j_fflal",
        "outputId": "c00aeca7-b34b-40aa-cdb9-bb0ad81791b1"
      },
      "source": [
        "import altair as alt\n",
        "alt.data_transformers.disable_max_rows()"
      ],
      "execution_count": 3,
      "outputs": [
        {
          "output_type": "execute_result",
          "data": {
            "text/plain": [
              "DataTransformerRegistry.enable('default')"
            ]
          },
          "metadata": {
            "tags": []
          },
          "execution_count": 3
        }
      ]
    },
    {
      "cell_type": "code",
      "metadata": {
        "id": "1oe1ksN5skMG"
      },
      "source": [
        "# create the session\n",
        "conf = SparkConf().set(\"spark.ui.port\", \"4050\")\n",
        "\n",
        "# create the context\n",
        "sc = pyspark.SparkContext(conf=conf)\n",
        "spark = SparkSession.builder.getOrCreate()"
      ],
      "execution_count": 4,
      "outputs": []
    },
    {
      "cell_type": "code",
      "metadata": {
        "colab": {
          "base_uri": "https://localhost:8080/"
        },
        "id": "WGXwI2d1szaO",
        "outputId": "4d683706-1db2-4612-b777-96552d372aae"
      },
      "source": [
        "# Mount drive with data\n",
        "from google.colab import drive\n",
        "drive.mount('/content/drive')"
      ],
      "execution_count": 5,
      "outputs": [
        {
          "output_type": "stream",
          "text": [
            "Mounted at /content/drive\n"
          ],
          "name": "stdout"
        }
      ]
    },
    {
      "cell_type": "code",
      "metadata": {
        "colab": {
          "base_uri": "https://localhost:8080/"
        },
        "id": "N8TQvl5Es0qp",
        "outputId": "054566c1-4042-46a0-ef7e-fbf8f1ffa8e6"
      },
      "source": [
        "# Demographic Data Chicago\n",
        "!ls drive/MyDrive/big-data-project/data/clean-data/la/poverty_and_white_percentage.csv\n",
        "\n",
        "!ls drive/MyDrive/big-data-project/data/clean-data/la/social/2020/\n",
        "\n"
      ],
      "execution_count": 7,
      "outputs": [
        {
          "output_type": "stream",
          "text": [
            "drive/MyDrive/big-data-project/data/clean-data/la/poverty_and_white_percentage.csv\n",
            "2020-01-01-social-distancing.csv  2020-07-02-social-distancing.csv\n",
            "2020-01-02-social-distancing.csv  2020-07-03-social-distancing.csv\n",
            "2020-01-03-social-distancing.csv  2020-07-04-social-distancing.csv\n",
            "2020-01-04-social-distancing.csv  2020-07-05-social-distancing.csv\n",
            "2020-01-05-social-distancing.csv  2020-07-06-social-distancing.csv\n",
            "2020-01-06-social-distancing.csv  2020-07-07-social-distancing.csv\n",
            "2020-01-07-social-distancing.csv  2020-07-08-social-distancing.csv\n",
            "2020-01-08-social-distancing.csv  2020-07-09-social-distancing.csv\n",
            "2020-01-09-social-distancing.csv  2020-07-10-social-distancing.csv\n",
            "2020-01-10-social-distancing.csv  2020-07-11-social-distancing.csv\n",
            "2020-01-11-social-distancing.csv  2020-07-12-social-distancing.csv\n",
            "2020-01-12-social-distancing.csv  2020-07-13-social-distancing.csv\n",
            "2020-01-13-social-distancing.csv  2020-07-14-social-distancing.csv\n",
            "2020-01-14-social-distancing.csv  2020-07-15-social-distancing.csv\n",
            "2020-01-15-social-distancing.csv  2020-07-16-social-distancing.csv\n",
            "2020-01-16-social-distancing.csv  2020-07-17-social-distancing.csv\n",
            "2020-01-17-social-distancing.csv  2020-07-18-social-distancing.csv\n",
            "2020-01-18-social-distancing.csv  2020-07-19-social-distancing.csv\n",
            "2020-01-19-social-distancing.csv  2020-07-20-social-distancing.csv\n",
            "2020-01-20-social-distancing.csv  2020-07-21-social-distancing.csv\n",
            "2020-01-21-social-distancing.csv  2020-07-22-social-distancing.csv\n",
            "2020-01-22-social-distancing.csv  2020-07-23-social-distancing.csv\n",
            "2020-01-23-social-distancing.csv  2020-07-24-social-distancing.csv\n",
            "2020-01-24-social-distancing.csv  2020-07-25-social-distancing.csv\n",
            "2020-01-25-social-distancing.csv  2020-07-26-social-distancing.csv\n",
            "2020-01-26-social-distancing.csv  2020-07-27-social-distancing.csv\n",
            "2020-01-27-social-distancing.csv  2020-07-28-social-distancing.csv\n",
            "2020-01-28-social-distancing.csv  2020-07-29-social-distancing.csv\n",
            "2020-01-29-social-distancing.csv  2020-07-30-social-distancing.csv\n",
            "2020-01-30-social-distancing.csv  2020-07-31-social-distancing.csv\n",
            "2020-01-31-social-distancing.csv  2020-08-01-social-distancing.csv\n",
            "2020-02-01-social-distancing.csv  2020-08-02-social-distancing.csv\n",
            "2020-02-02-social-distancing.csv  2020-08-03-social-distancing.csv\n",
            "2020-02-03-social-distancing.csv  2020-08-04-social-distancing.csv\n",
            "2020-02-04-social-distancing.csv  2020-08-05-social-distancing.csv\n",
            "2020-02-05-social-distancing.csv  2020-08-06-social-distancing.csv\n",
            "2020-02-06-social-distancing.csv  2020-08-07-social-distancing.csv\n",
            "2020-02-07-social-distancing.csv  2020-08-08-social-distancing.csv\n",
            "2020-02-08-social-distancing.csv  2020-08-09-social-distancing.csv\n",
            "2020-02-09-social-distancing.csv  2020-08-10-social-distancing.csv\n",
            "2020-02-10-social-distancing.csv  2020-08-11-social-distancing.csv\n",
            "2020-02-11-social-distancing.csv  2020-08-12-social-distancing.csv\n",
            "2020-02-12-social-distancing.csv  2020-08-13-social-distancing.csv\n",
            "2020-02-13-social-distancing.csv  2020-08-14-social-distancing.csv\n",
            "2020-02-14-social-distancing.csv  2020-08-15-social-distancing.csv\n",
            "2020-02-15-social-distancing.csv  2020-08-16-social-distancing.csv\n",
            "2020-02-16-social-distancing.csv  2020-08-17-social-distancing.csv\n",
            "2020-02-17-social-distancing.csv  2020-08-18-social-distancing.csv\n",
            "2020-02-18-social-distancing.csv  2020-08-19-social-distancing.csv\n",
            "2020-02-19-social-distancing.csv  2020-08-20-social-distancing.csv\n",
            "2020-02-20-social-distancing.csv  2020-08-21-social-distancing.csv\n",
            "2020-02-21-social-distancing.csv  2020-08-22-social-distancing.csv\n",
            "2020-02-22-social-distancing.csv  2020-08-23-social-distancing.csv\n",
            "2020-02-23-social-distancing.csv  2020-08-24-social-distancing.csv\n",
            "2020-02-24-social-distancing.csv  2020-08-25-social-distancing.csv\n",
            "2020-02-25-social-distancing.csv  2020-08-26-social-distancing.csv\n",
            "2020-02-26-social-distancing.csv  2020-08-27-social-distancing.csv\n",
            "2020-02-27-social-distancing.csv  2020-08-28-social-distancing.csv\n",
            "2020-02-28-social-distancing.csv  2020-08-29-social-distancing.csv\n",
            "2020-02-29-social-distancing.csv  2020-08-30-social-distancing.csv\n",
            "2020-03-01-social-distancing.csv  2020-08-31-social-distancing.csv\n",
            "2020-03-02-social-distancing.csv  2020-09-01-social-distancing.csv\n",
            "2020-03-03-social-distancing.csv  2020-09-02-social-distancing.csv\n",
            "2020-03-04-social-distancing.csv  2020-09-03-social-distancing.csv\n",
            "2020-03-05-social-distancing.csv  2020-09-04-social-distancing.csv\n",
            "2020-03-06-social-distancing.csv  2020-09-05-social-distancing.csv\n",
            "2020-03-07-social-distancing.csv  2020-09-06-social-distancing.csv\n",
            "2020-03-08-social-distancing.csv  2020-09-07-social-distancing.csv\n",
            "2020-03-09-social-distancing.csv  2020-09-08-social-distancing.csv\n",
            "2020-03-10-social-distancing.csv  2020-09-09-social-distancing.csv\n",
            "2020-03-11-social-distancing.csv  2020-09-10-social-distancing.csv\n",
            "2020-03-12-social-distancing.csv  2020-09-11-social-distancing.csv\n",
            "2020-03-13-social-distancing.csv  2020-09-12-social-distancing.csv\n",
            "2020-03-14-social-distancing.csv  2020-09-13-social-distancing.csv\n",
            "2020-03-15-social-distancing.csv  2020-09-14-social-distancing.csv\n",
            "2020-03-16-social-distancing.csv  2020-09-15-social-distancing.csv\n",
            "2020-03-17-social-distancing.csv  2020-09-16-social-distancing.csv\n",
            "2020-03-18-social-distancing.csv  2020-09-17-social-distancing.csv\n",
            "2020-03-19-social-distancing.csv  2020-09-18-social-distancing.csv\n",
            "2020-03-20-social-distancing.csv  2020-09-19-social-distancing.csv\n",
            "2020-03-21-social-distancing.csv  2020-09-20-social-distancing.csv\n",
            "2020-03-22-social-distancing.csv  2020-09-21-social-distancing.csv\n",
            "2020-03-23-social-distancing.csv  2020-09-22-social-distancing.csv\n",
            "2020-03-24-social-distancing.csv  2020-09-23-social-distancing.csv\n",
            "2020-03-25-social-distancing.csv  2020-09-24-social-distancing.csv\n",
            "2020-03-26-social-distancing.csv  2020-09-25-social-distancing.csv\n",
            "2020-03-27-social-distancing.csv  2020-09-26-social-distancing.csv\n",
            "2020-03-28-social-distancing.csv  2020-09-27-social-distancing.csv\n",
            "2020-03-29-social-distancing.csv  2020-09-28-social-distancing.csv\n",
            "2020-03-30-social-distancing.csv  2020-09-29-social-distancing.csv\n",
            "2020-03-31-social-distancing.csv  2020-09-30-social-distancing.csv\n",
            "2020-04-01-social-distancing.csv  2020-10-01-social-distancing.csv\n",
            "2020-04-02-social-distancing.csv  2020-10-02-social-distancing.csv\n",
            "2020-04-03-social-distancing.csv  2020-10-03-social-distancing.csv\n",
            "2020-04-04-social-distancing.csv  2020-10-04-social-distancing.csv\n",
            "2020-04-05-social-distancing.csv  2020-10-05-social-distancing.csv\n",
            "2020-04-06-social-distancing.csv  2020-10-06-social-distancing.csv\n",
            "2020-04-07-social-distancing.csv  2020-10-07-social-distancing.csv\n",
            "2020-04-08-social-distancing.csv  2020-10-08-social-distancing.csv\n",
            "2020-04-09-social-distancing.csv  2020-10-09-social-distancing.csv\n",
            "2020-04-10-social-distancing.csv  2020-10-10-social-distancing.csv\n",
            "2020-04-11-social-distancing.csv  2020-10-11-social-distancing.csv\n",
            "2020-04-12-social-distancing.csv  2020-10-12-social-distancing.csv\n",
            "2020-04-13-social-distancing.csv  2020-10-13-social-distancing.csv\n",
            "2020-04-14-social-distancing.csv  2020-10-14-social-distancing.csv\n",
            "2020-04-15-social-distancing.csv  2020-10-15-social-distancing.csv\n",
            "2020-04-16-social-distancing.csv  2020-10-16-social-distancing.csv\n",
            "2020-04-17-social-distancing.csv  2020-10-17-social-distancing.csv\n",
            "2020-04-18-social-distancing.csv  2020-10-18-social-distancing.csv\n",
            "2020-04-19-social-distancing.csv  2020-10-19-social-distancing.csv\n",
            "2020-04-20-social-distancing.csv  2020-10-20-social-distancing.csv\n",
            "2020-04-21-social-distancing.csv  2020-10-21-social-distancing.csv\n",
            "2020-04-22-social-distancing.csv  2020-10-22-social-distancing.csv\n",
            "2020-04-23-social-distancing.csv  2020-10-23-social-distancing.csv\n",
            "2020-04-24-social-distancing.csv  2020-10-24-social-distancing.csv\n",
            "2020-04-25-social-distancing.csv  2020-10-25-social-distancing.csv\n",
            "2020-04-26-social-distancing.csv  2020-10-26-social-distancing.csv\n",
            "2020-04-27-social-distancing.csv  2020-10-27-social-distancing.csv\n",
            "2020-04-28-social-distancing.csv  2020-10-28-social-distancing.csv\n",
            "2020-04-29-social-distancing.csv  2020-10-29-social-distancing.csv\n",
            "2020-04-30-social-distancing.csv  2020-10-30-social-distancing.csv\n",
            "2020-05-01-social-distancing.csv  2020-10-31-social-distancing.csv\n",
            "2020-05-02-social-distancing.csv  2020-11-01-social-distancing.csv\n",
            "2020-05-03-social-distancing.csv  2020-11-02-social-distancing.csv\n",
            "2020-05-04-social-distancing.csv  2020-11-03-social-distancing.csv\n",
            "2020-05-05-social-distancing.csv  2020-11-04-social-distancing.csv\n",
            "2020-05-06-social-distancing.csv  2020-11-05-social-distancing.csv\n",
            "2020-05-07-social-distancing.csv  2020-11-06-social-distancing.csv\n",
            "2020-05-08-social-distancing.csv  2020-11-07-social-distancing.csv\n",
            "2020-05-09-social-distancing.csv  2020-11-08-social-distancing.csv\n",
            "2020-05-10-social-distancing.csv  2020-11-09-social-distancing.csv\n",
            "2020-05-11-social-distancing.csv  2020-11-10-social-distancing.csv\n",
            "2020-05-12-social-distancing.csv  2020-11-11-social-distancing.csv\n",
            "2020-05-13-social-distancing.csv  2020-11-12-social-distancing.csv\n",
            "2020-05-14-social-distancing.csv  2020-11-13-social-distancing.csv\n",
            "2020-05-15-social-distancing.csv  2020-11-14-social-distancing.csv\n",
            "2020-05-16-social-distancing.csv  2020-11-15-social-distancing.csv\n",
            "2020-05-17-social-distancing.csv  2020-11-16-social-distancing.csv\n",
            "2020-05-18-social-distancing.csv  2020-11-17-social-distancing.csv\n",
            "2020-05-19-social-distancing.csv  2020-11-18-social-distancing.csv\n",
            "2020-05-20-social-distancing.csv  2020-11-19-social-distancing.csv\n",
            "2020-05-21-social-distancing.csv  2020-11-20-social-distancing.csv\n",
            "2020-05-22-social-distancing.csv  2020-11-21-social-distancing.csv\n",
            "2020-05-23-social-distancing.csv  2020-11-22-social-distancing.csv\n",
            "2020-05-24-social-distancing.csv  2020-11-23-social-distancing.csv\n",
            "2020-05-25-social-distancing.csv  2020-11-24-social-distancing.csv\n",
            "2020-05-26-social-distancing.csv  2020-11-25-social-distancing.csv\n",
            "2020-05-27-social-distancing.csv  2020-11-26-social-distancing.csv\n",
            "2020-05-28-social-distancing.csv  2020-11-27-social-distancing.csv\n",
            "2020-05-29-social-distancing.csv  2020-11-28-social-distancing.csv\n",
            "2020-05-30-social-distancing.csv  2020-11-29-social-distancing.csv\n",
            "2020-05-31-social-distancing.csv  2020-11-30-social-distancing.csv\n",
            "2020-06-01-social-distancing.csv  2020-12-01-social-distancing.csv\n",
            "2020-06-02-social-distancing.csv  2020-12-02-social-distancing.csv\n",
            "2020-06-03-social-distancing.csv  2020-12-03-social-distancing.csv\n",
            "2020-06-04-social-distancing.csv  2020-12-04-social-distancing.csv\n",
            "2020-06-05-social-distancing.csv  2020-12-05-social-distancing.csv\n",
            "2020-06-06-social-distancing.csv  2020-12-06-social-distancing.csv\n",
            "2020-06-07-social-distancing.csv  2020-12-07-social-distancing.csv\n",
            "2020-06-08-social-distancing.csv  2020-12-08-social-distancing.csv\n",
            "2020-06-09-social-distancing.csv  2020-12-09-social-distancing.csv\n",
            "2020-06-10-social-distancing.csv  2020-12-10-social-distancing.csv\n",
            "2020-06-11-social-distancing.csv  2020-12-11-social-distancing.csv\n",
            "2020-06-12-social-distancing.csv  2020-12-12-social-distancing.csv\n",
            "2020-06-13-social-distancing.csv  2020-12-13-social-distancing.csv\n",
            "2020-06-14-social-distancing.csv  2020-12-14-social-distancing.csv\n",
            "2020-06-15-social-distancing.csv  2020-12-15-social-distancing.csv\n",
            "2020-06-16-social-distancing.csv  2020-12-16-social-distancing.csv\n",
            "2020-06-17-social-distancing.csv  2020-12-17-social-distancing.csv\n",
            "2020-06-18-social-distancing.csv  2020-12-18-social-distancing.csv\n",
            "2020-06-19-social-distancing.csv  2020-12-19-social-distancing.csv\n",
            "2020-06-20-social-distancing.csv  2020-12-20-social-distancing.csv\n",
            "2020-06-21-social-distancing.csv  2020-12-21-social-distancing.csv\n",
            "2020-06-22-social-distancing.csv  2020-12-22-social-distancing.csv\n",
            "2020-06-23-social-distancing.csv  2020-12-23-social-distancing.csv\n",
            "2020-06-24-social-distancing.csv  2020-12-24-social-distancing.csv\n",
            "2020-06-25-social-distancing.csv  2020-12-25-social-distancing.csv\n",
            "2020-06-26-social-distancing.csv  2020-12-26-social-distancing.csv\n",
            "2020-06-27-social-distancing.csv  2020-12-27-social-distancing.csv\n",
            "2020-06-28-social-distancing.csv  2020-12-28-social-distancing.csv\n",
            "2020-06-29-social-distancing.csv  2020-12-29-social-distancing.csv\n",
            "2020-06-30-social-distancing.csv  2020-12-30-social-distancing.csv\n",
            "2020-07-01-social-distancing.csv  2020-12-31-social-distancing.csv\n"
          ],
          "name": "stdout"
        }
      ]
    },
    {
      "cell_type": "code",
      "metadata": {
        "id": "grN2uNcFvloa"
      },
      "source": [
        "# Set path to data folder\n",
        "path = Path('drive/MyDrive/big-data-project/data/clean-data')\n",
        "city = 'la'"
      ],
      "execution_count": 8,
      "outputs": []
    },
    {
      "cell_type": "code",
      "metadata": {
        "colab": {
          "base_uri": "https://localhost:8080/"
        },
        "id": "BvCrFmU2tGXY",
        "outputId": "0a975368-34ce-47ce-ec0e-420dfe99765e"
      },
      "source": [
        "# Read data into dataframe\n",
        "df_soc = spark.read.format('csv').option('header','true').option('quote',\"\\\"\").option('escape',\"\\\"\").load(str(path/city/'social/2020/*.csv'))\n",
        "df_soc.show()"
      ],
      "execution_count": 9,
      "outputs": [
        {
          "output_type": "stream",
          "text": [
            "+---+------------+--------------------+--------------------+------------+---------------------------+--------------------------+------------------------------------------+----------------------------+----------------------+------------------------+--------------------+-------------------------------+-------------------------------+--------------------+-------------------------+--------------------------+----------------------+----------------------------+---------------------------+-----------------------------+\n",
            "|_c0|         cbg|    date_range_start|      date_range_end|device_count|distance_traveled_from_home|bucketed_distance_traveled|median_dwell_at_bucketed_distance_traveled|completely_home_device_count|median_home_dwell_time|bucketed_home_dwell_time|at_home_by_each_hour|part_time_work_behavior_devices|full_time_work_behavior_devices|    destination_cbgs|delivery_behavior_devices|median_non_home_dwell_time|candidate_device_count|bucketed_away_from_home_time|median_percentage_time_home|bucketed_percentage_time_home|\n",
            "+---+------------+--------------------+--------------------+------------+---------------------------+--------------------------+------------------------------------------+----------------------------+----------------------+------------------------+--------------------+-------------------------------+-------------------------------+--------------------+-------------------------+--------------------------+----------------------+----------------------------+---------------------------+-----------------------------+\n",
            "| 11|060371831013|2020-02-07T00:00:...|2020-02-08T00:00:...|          45|                     5769.0|      {\"16001-50000\":4,...|                      {\"16001-50000\":29...|                           6|                   558|    {\"721-1080\":9,\"36...|[24,23,24,23,21,2...|                              1|                              1|{\"060374309012\":1...|                        1|                       112|                    89|        {\"481-540\":1,\"541...|                         64|         {\"26-50\":4,\"51-75...|\n",
            "| 12|060374034022|2020-02-07T00:00:...|2020-02-08T00:00:...|         155|                     5438.0|      {\"16001-50000\":32...|                      {\"16001-50000\":99...|                          24|                     0|    {\"721-1080\":16,\"3...|[42,41,38,40,40,4...|                             12|                              4|{\"060374034041\":3...|                        1|                       133|                   536|        {\"21-45\":16,\"481-...|                          0|         {\"26-50\":4,\"51-75...|\n",
            "| 13|060375326041|2020-02-07T00:00:...|2020-02-08T00:00:...|          31|                     6670.0|      {\"16001-50000\":2,...|                      {\"16001-50000\":22...|                           4|                   693|    {\"721-1080\":7,\"36...|[23,20,25,20,20,2...|                              6|                              2|{\"060379800311\":1...|                        5|                       268|                    71|        {\"21-45\":1,\"481-5...|                         66|         {\"0-25\":6,\"76-100...|\n",
            "| 14|060375544031|2020-02-07T00:00:...|2020-02-08T00:00:...|         130|                     7054.0|      {\"16001-50000\":16...|                      {\"16001-50000\":71...|                          27|                   630|    {\"721-1080\":25,\"3...|[79,77,79,74,76,7...|                             16|                             10|{\"060376700012\":1...|                        5|                       187|                   295|        {\"21-45\":2,\"481-5...|                         69|         {\"26-50\":6,\"51-75...|\n",
            "| 15|060375718003|2020-02-07T00:00:...|2020-02-08T00:00:...|          35|                     4900.0|      {\"16001-50000\":3,...|                      {\"16001-50000\":12...|                          10|                   684|    {\"721-1080\":5,\"36...|[20,19,17,18,23,1...|                              4|                              1|{\"060376210011\":1...|                        1|                       217|                    52|        {\"21-45\":1,\"481-5...|                         75|         {\"0-25\":3,\"76-100...|\n",
            "| 16|060590018024|2020-02-07T00:00:...|2020-02-08T00:00:...|          38|                     4466.0|      {\"16001-50000\":3,...|                      {\"16001-50000\":14...|                          13|                   550|    {\"721-1080\":9,\"36...|[27,26,27,28,26,2...|                              7|                              4|{\"060590740051\":1...|                        4|                       258|                    94|        {\"481-540\":2,\"541...|                         61|         {\"0-25\":4,\"76-100...|\n",
            "| 17|060590320463|2020-02-07T00:00:...|2020-02-08T00:00:...|         184|                     8950.0|      {\"16001-50000\":31...|                      {\"16001-50000\":90...|                          24|                   757|    {\"721-1080\":62,\"3...|[130,131,129,130,...|                             38|                             12|{\"060374084023\":1...|                       13|                       281|                   239|        {\"21-45\":6,\"481-5...|                         71|         {\"26-50\":17,\"51-7...|\n",
            "| 18|060590626281|2020-02-07T00:00:...|2020-02-08T00:00:...|         108|                     7471.0|      {\"16001-50000\":3,...|                      {\"16001-50000\":28...|                          32|                   107|    {\"721-1080\":8,\"36...|[45,39,39,41,40,4...|                              9|                              1|{\"040131141001\":1...|                        1|                        49|                   424|        {\"21-45\":10,\"481-...|                         77|         {\"0-25\":40,\"76-10...|\n",
            "|256|060371374011|2020-02-07T00:00:...|2020-02-08T00:00:...|          72|                     3404.0|      {\"16001-50000\":1,...|                      {\"16001-50000\":18...|                          30|                   498|    {\"721-1080\":12,\"3...|[42,39,40,41,39,3...|                              3|                              1|{\"060371374022\":1...|                        1|                        26|                   194|        {\"21-45\":5,\"481-5...|                         90|         {\"26-50\":1,\"51-75...|\n",
            "|257|060372398012|2020-02-07T00:00:...|2020-02-08T00:00:...|          41|                     7322.0|      {\"16001-50000\":4,...|                      {\"16001-50000\":96...|                          15|                   662|    {\"721-1080\":4,\"36...|[24,26,25,27,26,2...|                              1|                              4|{\"060372286001\":2...|                        1|                       102|                   132|        {\"21-45\":1,\"481-5...|                         85|         {\"0-25\":10,\"76-10...|\n",
            "|258|060373009011|2020-02-07T00:00:...|2020-02-08T00:00:...|          82|                     7465.0|      {\"16001-50000\":6,...|                      {\"16001-50000\":39...|                          20|                   820|    {\"721-1080\":28,\"3...|[66,61,62,63,63,6...|                             16|                              6|{\"060374309012\":1...|                        2|                       191|                   134|        {\"21-45\":3,\"481-5...|                         74|         {\"26-50\":1,\"51-75...|\n",
            "|259|060375418021|2020-02-07T00:00:...|2020-02-08T00:00:...|          49|                     6274.0|      {\"16001-50000\":2,...|                      {\"16001-50000\":44...|                          12|                   635|    {\"721-1080\":11,\"3...|[27,27,27,26,27,3...|                              3|                              4|{\"060375514021\":1...|                        3|                       222|                   125|        {\"21-45\":3,\"481-5...|                         75|         {\"26-50\":5,\"51-75...|\n",
            "|260|060375431003|2020-02-07T00:00:...|2020-02-08T00:00:...|          37|                     7095.0|      {\"16001-50000\":2,...|                      {\"16001-50000\":36...|                           5|                   686|    {\"721-1080\":9,\"36...|[21,25,23,23,21,2...|                              1|                              2|{\"060372151011\":1...|                        3|                       211|                    88|        {\"21-45\":2,\"481-5...|                         67|         {\"0-25\":10,\"76-10...|\n",
            "|261|060376012021|2020-02-07T00:00:...|2020-02-08T00:00:...|          56|                     3709.0|      {\"16001-50000\":3,...|                      {\"16001-50000\":82...|                          14|                   749|    {\"721-1080\":15,\"3...|[37,35,38,36,32,3...|                              1|                              4|{\"060371046201\":1...|                        1|                       147|                   129|        {\"21-45\":1,\"481-5...|                         80|         {\"26-50\":6,\"51-75...|\n",
            "|262|060379800211|2020-02-07T00:00:...|2020-02-08T00:00:...|          50|                     9433.0|      {\"16001-50000\":6,...|                      {\"16001-50000\":50...|                           3|                     0|    {\">1080\":1,\"<60\":...|[1,4,3,2,2,1,2,2,...|                              3|                              1|{\"060371012202\":1...|                        1|                       117|                   186|        {\"21-45\":7,\"481-5...|                          0|         {\"0-25\":41,\"76-10...|\n",
            "|264|060590871034|2020-02-07T00:00:...|2020-02-08T00:00:...|          88|                     2583.0|      {\"16001-50000\":5,...|                      {\"16001-50000\":81...|                          30|                   687|    {\"721-1080\":12,\"3...|[55,54,57,56,53,5...|                              7|                              8|{\"060375552121\":1...|                        3|                       123|                   202|        {\"21-45\":1,\"481-5...|                         80|         {\"26-50\":10,\"51-7...|\n",
            "|504|060372713005|2020-02-07T00:00:...|2020-02-08T00:00:...|          30|                     4601.0|      {\"16001-50000\":5,...|                      {\"16001-50000\":32...|                           3|                   734|    {\"721-1080\":7,\"36...|[20,18,23,18,18,1...|                              2|                              2|{\"060070006041\":1...|                        1|                       297|                    61|        {\"21-45\":4,\"481-5...|                         70|         {\"0-25\":9,\"76-100...|\n",
            "|505|060372766041|2020-02-07T00:00:...|2020-02-08T00:00:...|         137|                     4947.0|      {\"16001-50000\":16...|                      {\"16001-50000\":80...|                          24|                   662|    {\"721-1080\":37,\"3...|[83,84,87,81,85,8...|                             20|                              8|{\"060375439031\":2...|                        4|                       223|                   246|        {\"21-45\":6,\"481-5...|                         70|         {\"0-25\":18,\"76-10...|\n",
            "|506|060374334012|2020-02-07T00:00:...|2020-02-08T00:00:...|          35|                     5940.0|      {\"16001-50000\":7,...|                      {\"16001-50000\":10...|                           6|                   722|    {\"721-1080\":9,\"36...|[21,21,19,19,24,1...|                              6|                              2|{\"060374334012\":2...|                        1|                       338|                    77|        {\"21-45\":1,\"481-5...|                         67|         {\"26-50\":3,\"51-75...|\n",
            "|507|060375017003|2020-02-07T00:00:...|2020-02-08T00:00:...|          38|                     3849.0|      {\"16001-50000\":5,...|                      {\"16001-50000\":22...|                           6|                   710|    {\"721-1080\":13,\"3...|[27,26,27,30,28,2...|                              4|                              1|{\"060374086253\":1...|                        1|                       315|                    95|        {\"21-45\":1,\"481-5...|                         73|         {\"0-25\":4,\"76-100...|\n",
            "+---+------------+--------------------+--------------------+------------+---------------------------+--------------------------+------------------------------------------+----------------------------+----------------------+------------------------+--------------------+-------------------------------+-------------------------------+--------------------+-------------------------+--------------------------+----------------------+----------------------------+---------------------------+-----------------------------+\n",
            "only showing top 20 rows\n",
            "\n"
          ],
          "name": "stdout"
        }
      ]
    },
    {
      "cell_type": "code",
      "metadata": {
        "colab": {
          "base_uri": "https://localhost:8080/"
        },
        "id": "9fgHRKKEz-cA",
        "outputId": "7bc90314-a806-4211-a4cb-566a83949f43"
      },
      "source": [
        "# View schema\n",
        "df_soc.printSchema()"
      ],
      "execution_count": 10,
      "outputs": [
        {
          "output_type": "stream",
          "text": [
            "root\n",
            " |-- _c0: string (nullable = true)\n",
            " |-- cbg: string (nullable = true)\n",
            " |-- date_range_start: string (nullable = true)\n",
            " |-- date_range_end: string (nullable = true)\n",
            " |-- device_count: string (nullable = true)\n",
            " |-- distance_traveled_from_home: string (nullable = true)\n",
            " |-- bucketed_distance_traveled: string (nullable = true)\n",
            " |-- median_dwell_at_bucketed_distance_traveled: string (nullable = true)\n",
            " |-- completely_home_device_count: string (nullable = true)\n",
            " |-- median_home_dwell_time: string (nullable = true)\n",
            " |-- bucketed_home_dwell_time: string (nullable = true)\n",
            " |-- at_home_by_each_hour: string (nullable = true)\n",
            " |-- part_time_work_behavior_devices: string (nullable = true)\n",
            " |-- full_time_work_behavior_devices: string (nullable = true)\n",
            " |-- destination_cbgs: string (nullable = true)\n",
            " |-- delivery_behavior_devices: string (nullable = true)\n",
            " |-- median_non_home_dwell_time: string (nullable = true)\n",
            " |-- candidate_device_count: string (nullable = true)\n",
            " |-- bucketed_away_from_home_time: string (nullable = true)\n",
            " |-- median_percentage_time_home: string (nullable = true)\n",
            " |-- bucketed_percentage_time_home: string (nullable = true)\n",
            "\n"
          ],
          "name": "stdout"
        }
      ]
    },
    {
      "cell_type": "code",
      "metadata": {
        "id": "AlbhBqMUxjVa",
        "colab": {
          "base_uri": "https://localhost:8080/"
        },
        "outputId": "9066129c-dc67-4069-bd92-6f5aa1d5f798"
      },
      "source": [
        "# # Take small sample of data to experiment with\n",
        "df_soc = df_soc.limit(100)\n",
        "df_soc.show()"
      ],
      "execution_count": 49,
      "outputs": [
        {
          "output_type": "stream",
          "text": [
            "+------------+--------------------+------------+----------------------------+--------------------------+--------------------------+--------------------------+--------------------------+--------------------------+--------------------------+--------------------------+\n",
            "|         cbg|    date_range_start|device_count|completely_home_device_count|completely_home_percentage|completely_home_percentage|completely_home_percentage|completely_home_percentage|completely_home_percentage|completely_home_percentage|completely_home_percentage|\n",
            "+------------+--------------------+------------+----------------------------+--------------------------+--------------------------+--------------------------+--------------------------+--------------------------+--------------------------+--------------------------+\n",
            "|060371831013|2020-02-07T00:00:...|          45|                           6|        13.333333333333334|        13.333333333333334|        13.333333333333334|        13.333333333333334|        13.333333333333334|        13.333333333333334|        13.333333333333334|\n",
            "|060374034022|2020-02-07T00:00:...|         155|                          24|        15.483870967741936|        15.483870967741936|        15.483870967741936|        15.483870967741936|        15.483870967741936|        15.483870967741936|        15.483870967741936|\n",
            "|060375326041|2020-02-07T00:00:...|          31|                           4|        12.903225806451612|        12.903225806451612|        12.903225806451612|        12.903225806451612|        12.903225806451612|        12.903225806451612|        12.903225806451612|\n",
            "|060375544031|2020-02-07T00:00:...|         130|                          27|         20.76923076923077|         20.76923076923077|         20.76923076923077|         20.76923076923077|         20.76923076923077|         20.76923076923077|         20.76923076923077|\n",
            "|060375718003|2020-02-07T00:00:...|          35|                          10|         28.57142857142857|         28.57142857142857|         28.57142857142857|         28.57142857142857|         28.57142857142857|         28.57142857142857|         28.57142857142857|\n",
            "|060590018024|2020-02-07T00:00:...|          38|                          13|         34.21052631578947|         34.21052631578947|         34.21052631578947|         34.21052631578947|         34.21052631578947|         34.21052631578947|         34.21052631578947|\n",
            "|060590320463|2020-02-07T00:00:...|         184|                          24|        13.043478260869565|        13.043478260869565|        13.043478260869565|        13.043478260869565|        13.043478260869565|        13.043478260869565|        13.043478260869565|\n",
            "|060590626281|2020-02-07T00:00:...|         108|                          32|        29.629629629629626|        29.629629629629626|        29.629629629629626|        29.629629629629626|        29.629629629629626|        29.629629629629626|        29.629629629629626|\n",
            "|060371374011|2020-02-07T00:00:...|          72|                          30|         41.66666666666667|         41.66666666666667|         41.66666666666667|         41.66666666666667|         41.66666666666667|         41.66666666666667|         41.66666666666667|\n",
            "|060372398012|2020-02-07T00:00:...|          41|                          15|         36.58536585365854|         36.58536585365854|         36.58536585365854|         36.58536585365854|         36.58536585365854|         36.58536585365854|         36.58536585365854|\n",
            "|060373009011|2020-02-07T00:00:...|          82|                          20|        24.390243902439025|        24.390243902439025|        24.390243902439025|        24.390243902439025|        24.390243902439025|        24.390243902439025|        24.390243902439025|\n",
            "|060375418021|2020-02-07T00:00:...|          49|                          12|        24.489795918367346|        24.489795918367346|        24.489795918367346|        24.489795918367346|        24.489795918367346|        24.489795918367346|        24.489795918367346|\n",
            "|060375431003|2020-02-07T00:00:...|          37|                           5|        13.513513513513514|        13.513513513513514|        13.513513513513514|        13.513513513513514|        13.513513513513514|        13.513513513513514|        13.513513513513514|\n",
            "|060376012021|2020-02-07T00:00:...|          56|                          14|                      25.0|                      25.0|                      25.0|                      25.0|                      25.0|                      25.0|                      25.0|\n",
            "|060379800211|2020-02-07T00:00:...|          50|                           3|                       6.0|                       6.0|                       6.0|                       6.0|                       6.0|                       6.0|                       6.0|\n",
            "|060590871034|2020-02-07T00:00:...|          88|                          30|        34.090909090909086|        34.090909090909086|        34.090909090909086|        34.090909090909086|        34.090909090909086|        34.090909090909086|        34.090909090909086|\n",
            "|060372713005|2020-02-07T00:00:...|          30|                           3|                      10.0|                      10.0|                      10.0|                      10.0|                      10.0|                      10.0|                      10.0|\n",
            "|060372766041|2020-02-07T00:00:...|         137|                          24|         17.51824817518248|         17.51824817518248|         17.51824817518248|         17.51824817518248|         17.51824817518248|         17.51824817518248|         17.51824817518248|\n",
            "|060374334012|2020-02-07T00:00:...|          35|                           6|        17.142857142857142|        17.142857142857142|        17.142857142857142|        17.142857142857142|        17.142857142857142|        17.142857142857142|        17.142857142857142|\n",
            "|060375017003|2020-02-07T00:00:...|          38|                           6|        15.789473684210526|        15.789473684210526|        15.789473684210526|        15.789473684210526|        15.789473684210526|        15.789473684210526|        15.789473684210526|\n",
            "+------------+--------------------+------------+----------------------------+--------------------------+--------------------------+--------------------------+--------------------------+--------------------------+--------------------------+--------------------------+\n",
            "only showing top 20 rows\n",
            "\n"
          ],
          "name": "stdout"
        }
      ]
    },
    {
      "cell_type": "code",
      "metadata": {
        "colab": {
          "base_uri": "https://localhost:8080/"
        },
        "id": "wh747sqcHi4-",
        "outputId": "7d11e694-e765-4d2f-fa62-5bbfff83ddae"
      },
      "source": [
        "df_soc.createOrReplaceTempView('T')\n",
        "df_soc = spark.sql('SELECT cbg, date_range_start, device_count, completely_home_device_count FROM T')\n",
        "df_soc.show()"
      ],
      "execution_count": 50,
      "outputs": [
        {
          "output_type": "stream",
          "text": [
            "+------------+--------------------+------------+----------------------------+\n",
            "|         cbg|    date_range_start|device_count|completely_home_device_count|\n",
            "+------------+--------------------+------------+----------------------------+\n",
            "|060371831013|2020-02-07T00:00:...|          45|                           6|\n",
            "|060374034022|2020-02-07T00:00:...|         155|                          24|\n",
            "|060375326041|2020-02-07T00:00:...|          31|                           4|\n",
            "|060375544031|2020-02-07T00:00:...|         130|                          27|\n",
            "|060375718003|2020-02-07T00:00:...|          35|                          10|\n",
            "|060590018024|2020-02-07T00:00:...|          38|                          13|\n",
            "|060590320463|2020-02-07T00:00:...|         184|                          24|\n",
            "|060590626281|2020-02-07T00:00:...|         108|                          32|\n",
            "|060371374011|2020-02-07T00:00:...|          72|                          30|\n",
            "|060372398012|2020-02-07T00:00:...|          41|                          15|\n",
            "|060373009011|2020-02-07T00:00:...|          82|                          20|\n",
            "|060375418021|2020-02-07T00:00:...|          49|                          12|\n",
            "|060375431003|2020-02-07T00:00:...|          37|                           5|\n",
            "|060376012021|2020-02-07T00:00:...|          56|                          14|\n",
            "|060379800211|2020-02-07T00:00:...|          50|                           3|\n",
            "|060590871034|2020-02-07T00:00:...|          88|                          30|\n",
            "|060372713005|2020-02-07T00:00:...|          30|                           3|\n",
            "|060372766041|2020-02-07T00:00:...|         137|                          24|\n",
            "|060374334012|2020-02-07T00:00:...|          35|                           6|\n",
            "|060375017003|2020-02-07T00:00:...|          38|                           6|\n",
            "+------------+--------------------+------------+----------------------------+\n",
            "only showing top 20 rows\n",
            "\n"
          ],
          "name": "stdout"
        }
      ]
    },
    {
      "cell_type": "code",
      "metadata": {
        "colab": {
          "base_uri": "https://localhost:8080/"
        },
        "id": "AsEegEtNyYZr",
        "outputId": "15a3bf35-c980-4ab4-ce77-3d3466be508b"
      },
      "source": [
        "# View schema\n",
        "df_soc.printSchema()"
      ],
      "execution_count": 51,
      "outputs": [
        {
          "output_type": "stream",
          "text": [
            "root\n",
            " |-- cbg: string (nullable = true)\n",
            " |-- date_range_start: string (nullable = true)\n",
            " |-- device_count: string (nullable = true)\n",
            " |-- completely_home_device_count: string (nullable = true)\n",
            "\n"
          ],
          "name": "stdout"
        }
      ]
    },
    {
      "cell_type": "code",
      "metadata": {
        "colab": {
          "base_uri": "https://localhost:8080/"
        },
        "id": "UL4qIhZu7JKC",
        "outputId": "c33bcb46-f9df-4b67-adce-42dc6fa6a50d"
      },
      "source": [
        "# Add completely home percentage column\n",
        "df_soc = df_soc.withColumn('completely_home_percentage', (df_soc['completely_home_device_count']/df_soc['device_count']) * 100)\n",
        "df_soc.show()"
      ],
      "execution_count": 54,
      "outputs": [
        {
          "output_type": "stream",
          "text": [
            "+------------+--------------------+------------+----------------------------+--------------------------+\n",
            "|         cbg|    date_range_start|device_count|completely_home_device_count|completely_home_percentage|\n",
            "+------------+--------------------+------------+----------------------------+--------------------------+\n",
            "|060371831013|2020-02-07T00:00:...|          45|                           6|        13.333333333333334|\n",
            "|060374034022|2020-02-07T00:00:...|         155|                          24|        15.483870967741936|\n",
            "|060375326041|2020-02-07T00:00:...|          31|                           4|        12.903225806451612|\n",
            "|060375544031|2020-02-07T00:00:...|         130|                          27|         20.76923076923077|\n",
            "|060375718003|2020-02-07T00:00:...|          35|                          10|         28.57142857142857|\n",
            "|060590018024|2020-02-07T00:00:...|          38|                          13|         34.21052631578947|\n",
            "|060590320463|2020-02-07T00:00:...|         184|                          24|        13.043478260869565|\n",
            "|060590626281|2020-02-07T00:00:...|         108|                          32|        29.629629629629626|\n",
            "|060371374011|2020-02-07T00:00:...|          72|                          30|         41.66666666666667|\n",
            "|060372398012|2020-02-07T00:00:...|          41|                          15|         36.58536585365854|\n",
            "|060373009011|2020-02-07T00:00:...|          82|                          20|        24.390243902439025|\n",
            "|060375418021|2020-02-07T00:00:...|          49|                          12|        24.489795918367346|\n",
            "|060375431003|2020-02-07T00:00:...|          37|                           5|        13.513513513513514|\n",
            "|060376012021|2020-02-07T00:00:...|          56|                          14|                      25.0|\n",
            "|060379800211|2020-02-07T00:00:...|          50|                           3|                       6.0|\n",
            "|060590871034|2020-02-07T00:00:...|          88|                          30|        34.090909090909086|\n",
            "|060372713005|2020-02-07T00:00:...|          30|                           3|                      10.0|\n",
            "|060372766041|2020-02-07T00:00:...|         137|                          24|         17.51824817518248|\n",
            "|060374334012|2020-02-07T00:00:...|          35|                           6|        17.142857142857142|\n",
            "|060375017003|2020-02-07T00:00:...|          38|                           6|        15.789473684210526|\n",
            "+------------+--------------------+------------+----------------------------+--------------------------+\n",
            "only showing top 20 rows\n",
            "\n"
          ],
          "name": "stdout"
        }
      ]
    },
    {
      "cell_type": "code",
      "metadata": {
        "colab": {
          "base_uri": "https://localhost:8080/"
        },
        "id": "U8Dh3u54x-Rw",
        "outputId": "b7fd4c2b-d2f3-4c50-9c9a-eaab38a1d69f"
      },
      "source": [
        "df_soc.printSchema()"
      ],
      "execution_count": 55,
      "outputs": [
        {
          "output_type": "stream",
          "text": [
            "root\n",
            " |-- cbg: string (nullable = true)\n",
            " |-- date_range_start: string (nullable = true)\n",
            " |-- device_count: string (nullable = true)\n",
            " |-- completely_home_device_count: string (nullable = true)\n",
            " |-- completely_home_percentage: double (nullable = true)\n",
            "\n"
          ],
          "name": "stdout"
        }
      ]
    },
    {
      "cell_type": "code",
      "metadata": {
        "colab": {
          "base_uri": "https://localhost:8080/"
        },
        "id": "BphY2RBRHDaD",
        "outputId": "e529a81e-1b3d-4810-a842-fb8022796ea4"
      },
      "source": [
        "df_soc.createOrReplaceTempView('t')\n",
        "# get mean percentage for each cbg\n",
        "df_soc = spark.sql('SELECT cbg, AVG(completely_home_percentage) AS mean_completely_home_percentage FROM t GROUP BY cbg')\n",
        "df_soc.createOrReplaceTempView('t')\n",
        "df_soc.show()"
      ],
      "execution_count": 56,
      "outputs": [
        {
          "output_type": "stream",
          "text": [
            "+------------+-------------------------------+\n",
            "|         cbg|mean_completely_home_percentage|\n",
            "+------------+-------------------------------+\n",
            "|060371831013|             13.333333333333334|\n",
            "|060374034022|             15.483870967741936|\n",
            "|060375326041|             12.903225806451612|\n",
            "|060375544031|              20.76923076923077|\n",
            "|060375718003|              28.57142857142857|\n",
            "|060590018024|              34.21052631578947|\n",
            "|060590320463|             13.043478260869565|\n",
            "|060590626281|             29.629629629629626|\n",
            "|060371374011|              41.66666666666667|\n",
            "|060372398012|              36.58536585365854|\n",
            "|060373009011|             24.390243902439025|\n",
            "|060375418021|             24.489795918367346|\n",
            "|060375431003|             13.513513513513514|\n",
            "|060376012021|                           25.0|\n",
            "|060379800211|                            6.0|\n",
            "|060590871034|             34.090909090909086|\n",
            "|060372713005|                           10.0|\n",
            "|060372766041|              17.51824817518248|\n",
            "|060374334012|             17.142857142857142|\n",
            "|060375017003|             15.789473684210526|\n",
            "+------------+-------------------------------+\n",
            "only showing top 20 rows\n",
            "\n"
          ],
          "name": "stdout"
        }
      ]
    },
    {
      "cell_type": "code",
      "metadata": {
        "colab": {
          "base_uri": "https://localhost:8080/"
        },
        "id": "1SVVsXtuzqRf",
        "outputId": "01ae2db7-0efe-4866-c91c-afe3ffc65226"
      },
      "source": [
        "# Read poverty data\n",
        "# Read data into dataframe\n",
        "df_pov = spark.read.format('csv').option('header','true').option('quote',\"\\\"\").option('escape',\"\\\"\").load(str(path/city/'poverty_and_white_percentage.csv'))\n",
        "df_pov.createOrReplaceTempView('d')\n",
        "df_pov.show()"
      ],
      "execution_count": 57,
      "outputs": [
        {
          "output_type": "stream",
          "text": [
            "+------------+---------+------------------+------------------+\n",
            "|         cbg|pop_total|poverty_percentage|    perc_whiteonly|\n",
            "+------------+---------+------------------+------------------+\n",
            "|060373104003|     1286|17.884914463452567| 69.51788491446345|\n",
            "|060590865023|     2545|22.789783889980352| 85.34381139489194|\n",
            "|060376510024|     1285|               0.0|42.490272373540854|\n",
            "|060376511011|     2708| 7.745398773006134| 50.70162481536189|\n",
            "|060590994023|      672|12.969283276450511| 38.54166666666667|\n",
            "|060590995094|      342| 17.83625730994152| 77.48538011695906|\n",
            "|060376511012|     2483|2.6178010471204187|50.302053966975436|\n",
            "|060376512011|      859|2.8846153846153846| 82.42142025611176|\n",
            "|060376512012|     1179| 1.441899915182358|  74.1306191687871|\n",
            "|060376512014|      989|2.4266936299292214| 70.57633973710819|\n",
            "|060376512211|     3373|  9.95684340320592| 40.61666172546695|\n",
            "|060590995092|      938| 5.756929637526652|  84.9680170575693|\n",
            "|060590995095|      576|14.583333333333334|           73.4375|\n",
            "|060590995113|      577|10.918544194107453| 97.22703639514731|\n",
            "|060372164011|     2111|15.016579819990525| 82.42539081004263|\n",
            "|060372164012|     2315| 16.54427645788337| 79.87041036717063|\n",
            "|060372164021|     1611| 7.759155803848541| 80.57107386716325|\n",
            "|060375773004|     1501|10.459693537641572|   82.145236508994|\n",
            "|060375768021|     2320|16.786678667866788|61.594827586206904|\n",
            "|060375744006|      708|1.1299435028248588| 88.84180790960453|\n",
            "+------------+---------+------------------+------------------+\n",
            "only showing top 20 rows\n",
            "\n"
          ],
          "name": "stdout"
        }
      ]
    },
    {
      "cell_type": "code",
      "metadata": {
        "colab": {
          "base_uri": "https://localhost:8080/"
        },
        "id": "p58ttSMfLBe-",
        "outputId": "8b4ad5a8-cf90-4dfd-fd13-e06a5a3a13ec"
      },
      "source": [
        "# join mobility and poverty\n",
        "result = spark.sql('SELECT d.*, t.mean_completely_home_percentage FROM t INNER JOIN d ON t.cbg = d.cbg')\n",
        "result.createOrReplaceTempView('t')\n",
        "result.show()"
      ],
      "execution_count": 58,
      "outputs": [
        {
          "output_type": "stream",
          "text": [
            "+------------+---------+------------------+------------------+-------------------------------+\n",
            "|         cbg|pop_total|poverty_percentage|    perc_whiteonly|mean_completely_home_percentage|\n",
            "+------------+---------+------------------+------------------+-------------------------------+\n",
            "|060375024011|     1243|3.2984714400643607| 70.39420756234915|                           18.0|\n",
            "|060375718003|      837|3.1537450722733245|31.780167264038234|              28.57142857142857|\n",
            "|060375322002|     1976|25.202429149797574| 74.08906882591093|              30.88235294117647|\n",
            "|060375017003|      928| 7.543103448275862| 74.67672413793103|             15.789473684210526|\n",
            "|060372766041|     2280| 21.44736842105263| 53.90350877192982|              17.51824817518248|\n",
            "|060371254022|      576|19.444444444444446| 69.96527777777779|                           37.5|\n",
            "|060372972011|     2611|14.132516277288396|61.700497893527384|             14.772727272727273|\n",
            "|060375021001|     1042| 4.838709677419355| 65.93090211132437|             17.647058823529413|\n",
            "|060372755001|     1218| 26.51888341543514| 51.14942528735632|             32.432432432432435|\n",
            "|060590320121|     1790|               0.0|  84.1340782122905|              18.81188118811881|\n",
            "|060371853102|     1194|11.557788944723619| 55.69514237855946|             11.627906976744185|\n",
            "|060371853202|     1280|35.574667709147775|              65.0|             21.951219512195124|\n",
            "|060375529002|     1251|1.9984012789768184|  52.1982414068745|                         15.625|\n",
            "|060375713003|     1820|10.989010989010989| 43.07692307692308|             24.074074074074073|\n",
            "|060375727001|      756| 3.439153439153439| 37.56613756613756|                           25.0|\n",
            "|060375344041|     1616| 39.29455445544555| 64.72772277227723|               32.6530612244898|\n",
            "|060371342012|     1184|2.5337837837837838| 56.75675675675676|                        20.3125|\n",
            "|060375766022|      995| 6.934673366834171| 73.16582914572865|             30.434782608695656|\n",
            "|060590320432|     1452| 1.790633608815427| 92.14876033057851|             15.909090909090908|\n",
            "|060590218252|     1511|  5.42686962276638| 80.41032428855063|             23.076923076923077|\n",
            "+------------+---------+------------------+------------------+-------------------------------+\n",
            "only showing top 20 rows\n",
            "\n"
          ],
          "name": "stdout"
        }
      ]
    },
    {
      "cell_type": "code",
      "metadata": {
        "colab": {
          "base_uri": "https://localhost:8080/"
        },
        "id": "EM0Wy0Cg37iH",
        "outputId": "c3ad480a-c857-4a56-e87f-33da7b84a664"
      },
      "source": [
        "# Count number of rows\n",
        "spark.sql('SELECT COUNT(cbg) FROM t').show()"
      ],
      "execution_count": 59,
      "outputs": [
        {
          "output_type": "stream",
          "text": [
            "+----------+\n",
            "|count(cbg)|\n",
            "+----------+\n",
            "|       100|\n",
            "+----------+\n",
            "\n"
          ],
          "name": "stdout"
        }
      ]
    },
    {
      "cell_type": "code",
      "metadata": {
        "colab": {
          "base_uri": "https://localhost:8080/"
        },
        "id": "Sc7a6I2F6lA8",
        "outputId": "12968f5c-b090-4bc3-fa40-c78feb9cd23f"
      },
      "source": [
        "# sort by poverty\n",
        "result = spark.sql('SELECT * FROM t ORDER BY CAST(poverty_percentage AS float) DESC')\n",
        "result.createOrReplaceTempView('t')\n",
        "result.show()"
      ],
      "execution_count": 60,
      "outputs": [
        {
          "output_type": "stream",
          "text": [
            "+------------+---------+------------------+------------------+-------------------------------+\n",
            "|         cbg|pop_total|poverty_percentage|    perc_whiteonly|mean_completely_home_percentage|\n",
            "+------------+---------+------------------+------------------+-------------------------------+\n",
            "|060375403003|      440|              52.5| 46.13636363636363|                           40.0|\n",
            "|060375762002|     1060|51.886792452830186| 42.16981132075472|                          31.25|\n",
            "|060374081381|     1699| 43.84932313125368|53.325485579752794|             27.586206896551722|\n",
            "|060372406003|     1416|40.324858757062145|14.336158192090394|             19.047619047619047|\n",
            "|060375313013|     1292|39.898132427843805|43.575851393188856|             26.666666666666668|\n",
            "|060375344041|     1616| 39.29455445544555| 64.72772277227723|               32.6530612244898|\n",
            "|060372398012|     1766|36.773090079817564|33.691959229898075|              36.58536585365854|\n",
            "|060372037101|     1629| 36.37484586929716| 71.94597912829957|              25.49019607843137|\n",
            "|060371853202|     1280|35.574667709147775|              65.0|             21.951219512195124|\n",
            "|060376025052|     1308| 34.48012232415903| 34.09785932721712|             27.941176470588236|\n",
            "|060379106034|     1931|34.282755049197306|  39.6685655100984|              25.97402597402597|\n",
            "|060372190102|     1688| 33.81468110709988|27.488151658767773|             35.714285714285715|\n",
            "|060377008013|      923| 32.71939328277356| 94.47453954496208|             30.136986301369863|\n",
            "|060375769012|     2355| 31.07127614169868|62.802547770700635|             22.857142857142858|\n",
            "|060590018024|     1678|29.130434782608695| 43.68295589988081|              34.21052631578947|\n",
            "|060376012021|     1790|28.826815642458097| 53.85474860335195|                           25.0|\n",
            "|060375326041|      788| 27.79187817258883|  60.0253807106599|             12.903225806451612|\n",
            "|060372182203|      916| 27.18232044198895|  60.1528384279476|              4.166666666666666|\n",
            "|060375418021|     1070|27.102803738317753| 76.82242990654206|             24.489795918367346|\n",
            "|060372755001|     1218| 26.51888341543514| 51.14942528735632|             32.432432432432435|\n",
            "+------------+---------+------------------+------------------+-------------------------------+\n",
            "only showing top 20 rows\n",
            "\n"
          ],
          "name": "stdout"
        }
      ]
    },
    {
      "cell_type": "code",
      "metadata": {
        "id": "oEvvbPFXJG_g"
      },
      "source": [
        "# group by poverty range\n"
      ],
      "execution_count": null,
      "outputs": []
    },
    {
      "cell_type": "code",
      "metadata": {
        "colab": {
          "base_uri": "https://localhost:8080/",
          "height": 424
        },
        "id": "V4EHlNdfSVal",
        "outputId": "d66f046f-87ac-4530-ff78-2d66e072331f"
      },
      "source": [
        "result_df = result.toPandas()\n",
        "result_df"
      ],
      "execution_count": 61,
      "outputs": [
        {
          "output_type": "execute_result",
          "data": {
            "text/html": [
              "<div>\n",
              "<style scoped>\n",
              "    .dataframe tbody tr th:only-of-type {\n",
              "        vertical-align: middle;\n",
              "    }\n",
              "\n",
              "    .dataframe tbody tr th {\n",
              "        vertical-align: top;\n",
              "    }\n",
              "\n",
              "    .dataframe thead th {\n",
              "        text-align: right;\n",
              "    }\n",
              "</style>\n",
              "<table border=\"1\" class=\"dataframe\">\n",
              "  <thead>\n",
              "    <tr style=\"text-align: right;\">\n",
              "      <th></th>\n",
              "      <th>cbg</th>\n",
              "      <th>pop_total</th>\n",
              "      <th>poverty_percentage</th>\n",
              "      <th>perc_whiteonly</th>\n",
              "      <th>mean_completely_home_percentage</th>\n",
              "    </tr>\n",
              "  </thead>\n",
              "  <tbody>\n",
              "    <tr>\n",
              "      <th>0</th>\n",
              "      <td>060375403003</td>\n",
              "      <td>440</td>\n",
              "      <td>52.5</td>\n",
              "      <td>46.13636363636363</td>\n",
              "      <td>40.000000</td>\n",
              "    </tr>\n",
              "    <tr>\n",
              "      <th>1</th>\n",
              "      <td>060375762002</td>\n",
              "      <td>1060</td>\n",
              "      <td>51.886792452830186</td>\n",
              "      <td>42.16981132075472</td>\n",
              "      <td>31.250000</td>\n",
              "    </tr>\n",
              "    <tr>\n",
              "      <th>2</th>\n",
              "      <td>060374081381</td>\n",
              "      <td>1699</td>\n",
              "      <td>43.84932313125368</td>\n",
              "      <td>53.325485579752794</td>\n",
              "      <td>27.586207</td>\n",
              "    </tr>\n",
              "    <tr>\n",
              "      <th>3</th>\n",
              "      <td>060372406003</td>\n",
              "      <td>1416</td>\n",
              "      <td>40.324858757062145</td>\n",
              "      <td>14.336158192090394</td>\n",
              "      <td>19.047619</td>\n",
              "    </tr>\n",
              "    <tr>\n",
              "      <th>4</th>\n",
              "      <td>060375313013</td>\n",
              "      <td>1292</td>\n",
              "      <td>39.898132427843805</td>\n",
              "      <td>43.575851393188856</td>\n",
              "      <td>26.666667</td>\n",
              "    </tr>\n",
              "    <tr>\n",
              "      <th>...</th>\n",
              "      <td>...</td>\n",
              "      <td>...</td>\n",
              "      <td>...</td>\n",
              "      <td>...</td>\n",
              "      <td>...</td>\n",
              "    </tr>\n",
              "    <tr>\n",
              "      <th>95</th>\n",
              "      <td>060590320121</td>\n",
              "      <td>1790</td>\n",
              "      <td>0.0</td>\n",
              "      <td>84.1340782122905</td>\n",
              "      <td>18.811881</td>\n",
              "    </tr>\n",
              "    <tr>\n",
              "      <th>96</th>\n",
              "      <td>060379800211</td>\n",
              "      <td>0</td>\n",
              "      <td>0.0</td>\n",
              "      <td>0.0</td>\n",
              "      <td>6.000000</td>\n",
              "    </tr>\n",
              "    <tr>\n",
              "      <th>97</th>\n",
              "      <td>060379200354</td>\n",
              "      <td>895</td>\n",
              "      <td>0.0</td>\n",
              "      <td>80.44692737430168</td>\n",
              "      <td>32.835821</td>\n",
              "    </tr>\n",
              "    <tr>\n",
              "      <th>98</th>\n",
              "      <td>060372690001</td>\n",
              "      <td>606</td>\n",
              "      <td>0.0</td>\n",
              "      <td>86.79867986798679</td>\n",
              "      <td>16.279070</td>\n",
              "    </tr>\n",
              "    <tr>\n",
              "      <th>99</th>\n",
              "      <td>060376500012</td>\n",
              "      <td>677</td>\n",
              "      <td>0.0</td>\n",
              "      <td>39.5864106351551</td>\n",
              "      <td>12.500000</td>\n",
              "    </tr>\n",
              "  </tbody>\n",
              "</table>\n",
              "<p>100 rows × 5 columns</p>\n",
              "</div>"
            ],
            "text/plain": [
              "             cbg pop_total  ...      perc_whiteonly mean_completely_home_percentage\n",
              "0   060375403003       440  ...   46.13636363636363                       40.000000\n",
              "1   060375762002      1060  ...   42.16981132075472                       31.250000\n",
              "2   060374081381      1699  ...  53.325485579752794                       27.586207\n",
              "3   060372406003      1416  ...  14.336158192090394                       19.047619\n",
              "4   060375313013      1292  ...  43.575851393188856                       26.666667\n",
              "..           ...       ...  ...                 ...                             ...\n",
              "95  060590320121      1790  ...    84.1340782122905                       18.811881\n",
              "96  060379800211         0  ...                 0.0                        6.000000\n",
              "97  060379200354       895  ...   80.44692737430168                       32.835821\n",
              "98  060372690001       606  ...   86.79867986798679                       16.279070\n",
              "99  060376500012       677  ...    39.5864106351551                       12.500000\n",
              "\n",
              "[100 rows x 5 columns]"
            ]
          },
          "metadata": {
            "tags": []
          },
          "execution_count": 61
        }
      ]
    },
    {
      "cell_type": "code",
      "metadata": {
        "id": "dCxTfWeKSuMK"
      },
      "source": [
        ""
      ],
      "execution_count": null,
      "outputs": []
    },
    {
      "cell_type": "code",
      "metadata": {
        "colab": {
          "base_uri": "https://localhost:8080/",
          "height": 469
        },
        "id": "-y1YmYUKJILF",
        "outputId": "231c8480-dfaf-4b1d-aa6d-bf1ac5bb599a"
      },
      "source": [
        "# plot bar graph\n",
        "alt.Chart(result_df).mark_point().encode(\n",
        "    alt.X('poverty_percentage:Q'),\n",
        "    alt.Y('mean_completely_home_percentage:Q'),\n",
        "    tooltip=['cbg','poverty_percentage','mean_completely_home_percentage']\n",
        ").properties(width=400, height=400).interactive()"
      ],
      "execution_count": 62,
      "outputs": [
        {
          "output_type": "execute_result",
          "data": {
            "text/plain": [
              "alt.Chart(...)"
            ],
            "text/html": [
              "\n",
              "<div id=\"altair-viz-8a0ecc0600bd498da7af12038270d7f8\"></div>\n",
              "<script type=\"text/javascript\">\n",
              "  (function(spec, embedOpt){\n",
              "    let outputDiv = document.currentScript.previousElementSibling;\n",
              "    if (outputDiv.id !== \"altair-viz-8a0ecc0600bd498da7af12038270d7f8\") {\n",
              "      outputDiv = document.getElementById(\"altair-viz-8a0ecc0600bd498da7af12038270d7f8\");\n",
              "    }\n",
              "    const paths = {\n",
              "      \"vega\": \"https://cdn.jsdelivr.net/npm//vega@5?noext\",\n",
              "      \"vega-lib\": \"https://cdn.jsdelivr.net/npm//vega-lib?noext\",\n",
              "      \"vega-lite\": \"https://cdn.jsdelivr.net/npm//vega-lite@4.8.1?noext\",\n",
              "      \"vega-embed\": \"https://cdn.jsdelivr.net/npm//vega-embed@6?noext\",\n",
              "    };\n",
              "\n",
              "    function loadScript(lib) {\n",
              "      return new Promise(function(resolve, reject) {\n",
              "        var s = document.createElement('script');\n",
              "        s.src = paths[lib];\n",
              "        s.async = true;\n",
              "        s.onload = () => resolve(paths[lib]);\n",
              "        s.onerror = () => reject(`Error loading script: ${paths[lib]}`);\n",
              "        document.getElementsByTagName(\"head\")[0].appendChild(s);\n",
              "      });\n",
              "    }\n",
              "\n",
              "    function showError(err) {\n",
              "      outputDiv.innerHTML = `<div class=\"error\" style=\"color:red;\">${err}</div>`;\n",
              "      throw err;\n",
              "    }\n",
              "\n",
              "    function displayChart(vegaEmbed) {\n",
              "      vegaEmbed(outputDiv, spec, embedOpt)\n",
              "        .catch(err => showError(`Javascript Error: ${err.message}<br>This usually means there's a typo in your chart specification. See the javascript console for the full traceback.`));\n",
              "    }\n",
              "\n",
              "    if(typeof define === \"function\" && define.amd) {\n",
              "      requirejs.config({paths});\n",
              "      require([\"vega-embed\"], displayChart, err => showError(`Error loading script: ${err.message}`));\n",
              "    } else if (typeof vegaEmbed === \"function\") {\n",
              "      displayChart(vegaEmbed);\n",
              "    } else {\n",
              "      loadScript(\"vega\")\n",
              "        .then(() => loadScript(\"vega-lite\"))\n",
              "        .then(() => loadScript(\"vega-embed\"))\n",
              "        .catch(showError)\n",
              "        .then(() => displayChart(vegaEmbed));\n",
              "    }\n",
              "  })({\"config\": {\"view\": {\"continuousWidth\": 400, \"continuousHeight\": 300}}, \"data\": {\"name\": \"data-3f93d989923949ce9503b7b5dfb6127f\"}, \"mark\": \"point\", \"encoding\": {\"tooltip\": [{\"type\": \"nominal\", \"field\": \"cbg\"}, {\"type\": \"nominal\", \"field\": \"poverty_percentage\"}, {\"type\": \"quantitative\", \"field\": \"mean_completely_home_percentage\"}], \"x\": {\"type\": \"quantitative\", \"field\": \"poverty_percentage\"}, \"y\": {\"type\": \"quantitative\", \"field\": \"mean_completely_home_percentage\"}}, \"height\": 400, \"selection\": {\"selector001\": {\"type\": \"interval\", \"bind\": \"scales\", \"encodings\": [\"x\", \"y\"]}}, \"width\": 400, \"$schema\": \"https://vega.github.io/schema/vega-lite/v4.8.1.json\", \"datasets\": {\"data-3f93d989923949ce9503b7b5dfb6127f\": [{\"cbg\": \"060375403003\", \"pop_total\": \"440\", \"poverty_percentage\": \"52.5\", \"perc_whiteonly\": \"46.13636363636363\", \"mean_completely_home_percentage\": 40.0}, {\"cbg\": \"060375762002\", \"pop_total\": \"1060\", \"poverty_percentage\": \"51.886792452830186\", \"perc_whiteonly\": \"42.16981132075472\", \"mean_completely_home_percentage\": 31.25}, {\"cbg\": \"060374081381\", \"pop_total\": \"1699\", \"poverty_percentage\": \"43.84932313125368\", \"perc_whiteonly\": \"53.325485579752794\", \"mean_completely_home_percentage\": 27.586206896551722}, {\"cbg\": \"060372406003\", \"pop_total\": \"1416\", \"poverty_percentage\": \"40.324858757062145\", \"perc_whiteonly\": \"14.336158192090394\", \"mean_completely_home_percentage\": 19.047619047619047}, {\"cbg\": \"060375313013\", \"pop_total\": \"1292\", \"poverty_percentage\": \"39.898132427843805\", \"perc_whiteonly\": \"43.575851393188856\", \"mean_completely_home_percentage\": 26.666666666666668}, {\"cbg\": \"060375344041\", \"pop_total\": \"1616\", \"poverty_percentage\": \"39.29455445544555\", \"perc_whiteonly\": \"64.72772277227723\", \"mean_completely_home_percentage\": 32.6530612244898}, {\"cbg\": \"060372398012\", \"pop_total\": \"1766\", \"poverty_percentage\": \"36.773090079817564\", \"perc_whiteonly\": \"33.691959229898075\", \"mean_completely_home_percentage\": 36.58536585365854}, {\"cbg\": \"060372037101\", \"pop_total\": \"1629\", \"poverty_percentage\": \"36.37484586929716\", \"perc_whiteonly\": \"71.94597912829957\", \"mean_completely_home_percentage\": 25.49019607843137}, {\"cbg\": \"060371853202\", \"pop_total\": \"1280\", \"poverty_percentage\": \"35.574667709147775\", \"perc_whiteonly\": \"65.0\", \"mean_completely_home_percentage\": 21.951219512195124}, {\"cbg\": \"060376025052\", \"pop_total\": \"1308\", \"poverty_percentage\": \"34.48012232415903\", \"perc_whiteonly\": \"34.09785932721712\", \"mean_completely_home_percentage\": 27.941176470588236}, {\"cbg\": \"060379106034\", \"pop_total\": \"1931\", \"poverty_percentage\": \"34.282755049197306\", \"perc_whiteonly\": \"39.6685655100984\", \"mean_completely_home_percentage\": 25.97402597402597}, {\"cbg\": \"060372190102\", \"pop_total\": \"1688\", \"poverty_percentage\": \"33.81468110709988\", \"perc_whiteonly\": \"27.488151658767773\", \"mean_completely_home_percentage\": 35.714285714285715}, {\"cbg\": \"060377008013\", \"pop_total\": \"923\", \"poverty_percentage\": \"32.71939328277356\", \"perc_whiteonly\": \"94.47453954496208\", \"mean_completely_home_percentage\": 30.136986301369863}, {\"cbg\": \"060375769012\", \"pop_total\": \"2355\", \"poverty_percentage\": \"31.07127614169868\", \"perc_whiteonly\": \"62.802547770700635\", \"mean_completely_home_percentage\": 22.857142857142858}, {\"cbg\": \"060590018024\", \"pop_total\": \"1678\", \"poverty_percentage\": \"29.130434782608695\", \"perc_whiteonly\": \"43.68295589988081\", \"mean_completely_home_percentage\": 34.21052631578947}, {\"cbg\": \"060376012021\", \"pop_total\": \"1790\", \"poverty_percentage\": \"28.826815642458097\", \"perc_whiteonly\": \"53.85474860335195\", \"mean_completely_home_percentage\": 25.0}, {\"cbg\": \"060375326041\", \"pop_total\": \"788\", \"poverty_percentage\": \"27.79187817258883\", \"perc_whiteonly\": \"60.0253807106599\", \"mean_completely_home_percentage\": 12.903225806451612}, {\"cbg\": \"060372182203\", \"pop_total\": \"916\", \"poverty_percentage\": \"27.18232044198895\", \"perc_whiteonly\": \"60.1528384279476\", \"mean_completely_home_percentage\": 4.166666666666666}, {\"cbg\": \"060375418021\", \"pop_total\": \"1070\", \"poverty_percentage\": \"27.102803738317753\", \"perc_whiteonly\": \"76.82242990654206\", \"mean_completely_home_percentage\": 24.489795918367346}, {\"cbg\": \"060372755001\", \"pop_total\": \"1218\", \"poverty_percentage\": \"26.51888341543514\", \"perc_whiteonly\": \"51.14942528735632\", \"mean_completely_home_percentage\": 32.432432432432435}, {\"cbg\": \"060375544031\", \"pop_total\": \"2683\", \"poverty_percentage\": \"25.3447633246366\", \"perc_whiteonly\": \"18.263138278046963\", \"mean_completely_home_percentage\": 20.76923076923077}, {\"cbg\": \"060375322002\", \"pop_total\": \"1976\", \"poverty_percentage\": \"25.202429149797574\", \"perc_whiteonly\": \"74.08906882591093\", \"mean_completely_home_percentage\": 30.88235294117647}, {\"cbg\": \"060375540022\", \"pop_total\": \"2807\", \"poverty_percentage\": \"22.381635581061694\", \"perc_whiteonly\": \"26.006412540078376\", \"mean_completely_home_percentage\": 23.25581395348837}, {\"cbg\": \"060372766041\", \"pop_total\": \"2280\", \"poverty_percentage\": \"21.44736842105263\", \"perc_whiteonly\": \"53.90350877192982\", \"mean_completely_home_percentage\": 17.51824817518248}, {\"cbg\": \"060590891062\", \"pop_total\": \"1774\", \"poverty_percentage\": \"20.913190529875987\", \"perc_whiteonly\": \"29.481397970687713\", \"mean_completely_home_percentage\": 33.33333333333333}, {\"cbg\": \"060372941101\", \"pop_total\": \"1804\", \"poverty_percentage\": \"20.8980044345898\", \"perc_whiteonly\": \"60.80931263858093\", \"mean_completely_home_percentage\": 33.33333333333333}, {\"cbg\": \"060379007052\", \"pop_total\": \"2125\", \"poverty_percentage\": \"20.472061657032757\", \"perc_whiteonly\": \"74.30588235294118\", \"mean_completely_home_percentage\": 30.612244897959183}, {\"cbg\": \"060371174043\", \"pop_total\": \"1725\", \"poverty_percentage\": \"19.883720930232556\", \"perc_whiteonly\": \"45.44927536231884\", \"mean_completely_home_percentage\": 30.434782608695656}, {\"cbg\": \"060375308022\", \"pop_total\": \"1505\", \"poverty_percentage\": \"19.73421926910299\", \"perc_whiteonly\": \"43.65448504983389\", \"mean_completely_home_percentage\": 29.166666666666668}, {\"cbg\": \"060590762061\", \"pop_total\": \"1502\", \"poverty_percentage\": \"19.507323568575234\", \"perc_whiteonly\": \"75.56591211717709\", \"mean_completely_home_percentage\": 15.59633027522936}, {\"cbg\": \"060371254022\", \"pop_total\": \"576\", \"poverty_percentage\": \"19.444444444444446\", \"perc_whiteonly\": \"69.96527777777779\", \"mean_completely_home_percentage\": 37.5}, {\"cbg\": \"060371959011\", \"pop_total\": \"2306\", \"poverty_percentage\": \"19.155555555555555\", \"perc_whiteonly\": \"53.122289679098\", \"mean_completely_home_percentage\": 10.256410256410255}, {\"cbg\": \"060590741082\", \"pop_total\": \"1659\", \"poverty_percentage\": \"19.047619047619047\", \"perc_whiteonly\": \"44.24352019288728\", \"mean_completely_home_percentage\": 17.934782608695652}, {\"cbg\": \"060377002005\", \"pop_total\": \"2417\", \"poverty_percentage\": \"17.666528754654532\", \"perc_whiteonly\": \"84.65039304923458\", \"mean_completely_home_percentage\": 29.411764705882355}, {\"cbg\": \"060371043101\", \"pop_total\": \"1448\", \"poverty_percentage\": \"16.910229645093946\", \"perc_whiteonly\": \"66.71270718232044\", \"mean_completely_home_percentage\": 34.146341463414636}, {\"cbg\": \"060371831013\", \"pop_total\": \"1631\", \"poverty_percentage\": \"15.450643776824036\", \"perc_whiteonly\": \"71.91906805640711\", \"mean_completely_home_percentage\": 13.333333333333334}, {\"cbg\": \"060374307242\", \"pop_total\": \"2416\", \"poverty_percentage\": \"15.438741721854305\", \"perc_whiteonly\": \"26.117549668874172\", \"mean_completely_home_percentage\": 18.439716312056735}, {\"cbg\": \"060374619012\", \"pop_total\": \"407\", \"poverty_percentage\": \"14.987714987714988\", \"perc_whiteonly\": \"40.78624078624078\", \"mean_completely_home_percentage\": 43.47826086956522}, {\"cbg\": \"060590117161\", \"pop_total\": \"2102\", \"poverty_percentage\": \"14.605137963843958\", \"perc_whiteonly\": \"55.04281636536632\", \"mean_completely_home_percentage\": 15.686274509803921}, {\"cbg\": \"060372972011\", \"pop_total\": \"2611\", \"poverty_percentage\": \"14.132516277288396\", \"perc_whiteonly\": \"61.700497893527384\", \"mean_completely_home_percentage\": 14.772727272727273}, {\"cbg\": \"060374083012\", \"pop_total\": \"855\", \"poverty_percentage\": \"13.216374269005849\", \"perc_whiteonly\": \"25.146198830409354\", \"mean_completely_home_percentage\": 27.586206896551722}, {\"cbg\": \"060374334012\", \"pop_total\": \"839\", \"poverty_percentage\": \"12.63408820023838\", \"perc_whiteonly\": \"55.18474374255066\", \"mean_completely_home_percentage\": 17.142857142857142}, {\"cbg\": \"060375413002\", \"pop_total\": \"716\", \"poverty_percentage\": \"12.290502793296088\", \"perc_whiteonly\": \"44.6927374301676\", \"mean_completely_home_percentage\": 23.076923076923077}, {\"cbg\": \"060590626281\", \"pop_total\": \"1241\", \"poverty_percentage\": \"12.167606768734892\", \"perc_whiteonly\": \"43.593875906526996\", \"mean_completely_home_percentage\": 29.629629629629626}, {\"cbg\": \"060372753113\", \"pop_total\": \"1052\", \"poverty_percentage\": \"12.167300380228136\", \"perc_whiteonly\": \"46.57794676806083\", \"mean_completely_home_percentage\": 20.0}, {\"cbg\": \"060371012201\", \"pop_total\": \"1035\", \"poverty_percentage\": \"12.077294685990339\", \"perc_whiteonly\": \"64.54106280193237\", \"mean_completely_home_percentage\": 25.806451612903224}, {\"cbg\": \"060376504013\", \"pop_total\": \"1116\", \"poverty_percentage\": \"11.827956989247312\", \"perc_whiteonly\": \"41.75627240143369\", \"mean_completely_home_percentage\": 36.734693877551024}, {\"cbg\": \"060371853102\", \"pop_total\": \"1194\", \"poverty_percentage\": \"11.557788944723619\", \"perc_whiteonly\": \"55.69514237855946\", \"mean_completely_home_percentage\": 11.627906976744185}, {\"cbg\": \"060375713003\", \"pop_total\": \"1820\", \"poverty_percentage\": \"10.989010989010989\", \"perc_whiteonly\": \"43.07692307692308\", \"mean_completely_home_percentage\": 24.074074074074073}, {\"cbg\": \"060374034022\", \"pop_total\": \"1270\", \"poverty_percentage\": \"10.67193675889328\", \"perc_whiteonly\": \"28.503937007874015\", \"mean_completely_home_percentage\": 15.483870967741936}, {\"cbg\": \"060590871034\", \"pop_total\": \"1802\", \"poverty_percentage\": \"10.621468926553671\", \"perc_whiteonly\": \"79.18978912319645\", \"mean_completely_home_percentage\": 34.090909090909086}, {\"cbg\": \"060590992394\", \"pop_total\": \"1019\", \"poverty_percentage\": \"10.40235525024534\", \"perc_whiteonly\": \"91.95289499509323\", \"mean_completely_home_percentage\": 18.461538461538463}, {\"cbg\": \"060590421093\", \"pop_total\": \"953\", \"poverty_percentage\": \"9.863588667366212\", \"perc_whiteonly\": \"66.4218258132214\", \"mean_completely_home_percentage\": 20.833333333333336}, {\"cbg\": \"060371210102\", \"pop_total\": \"1197\", \"poverty_percentage\": \"9.774436090225564\", \"perc_whiteonly\": \"46.950710108604845\", \"mean_completely_home_percentage\": 18.181818181818183}, {\"cbg\": \"060591101082\", \"pop_total\": \"1656\", \"poverty_percentage\": \"9.70285021224985\", \"perc_whiteonly\": \"58.454106280193244\", \"mean_completely_home_percentage\": 15.11627906976744}, {\"cbg\": \"060371154011\", \"pop_total\": \"2793\", \"poverty_percentage\": \"9.631220909416397\", \"perc_whiteonly\": \"54.672395273899035\", \"mean_completely_home_percentage\": 22.93577981651376}, {\"cbg\": \"060372713005\", \"pop_total\": \"884\", \"poverty_percentage\": \"8.47255369928401\", \"perc_whiteonly\": \"51.24434389140271\", \"mean_completely_home_percentage\": 10.0}, {\"cbg\": \"060374301021\", \"pop_total\": \"1882\", \"poverty_percentage\": \"8.289054197662061\", \"perc_whiteonly\": \"47.82146652497343\", \"mean_completely_home_percentage\": 3.7735849056603774}, {\"cbg\": \"060590524261\", \"pop_total\": \"1449\", \"poverty_percentage\": \"8.074534161490684\", \"perc_whiteonly\": \"83.7129054520359\", \"mean_completely_home_percentage\": 21.11111111111111}, {\"cbg\": \"060373202023\", \"pop_total\": \"810\", \"poverty_percentage\": \"8.024691358024691\", \"perc_whiteonly\": \"51.48148148148148\", \"mean_completely_home_percentage\": 21.367521367521366}, {\"cbg\": \"060591101174\", \"pop_total\": \"2020\", \"poverty_percentage\": \"7.97029702970297\", \"perc_whiteonly\": \"57.02970297029702\", \"mean_completely_home_percentage\": 20.74074074074074}, {\"cbg\": \"060371066452\", \"pop_total\": \"1967\", \"poverty_percentage\": \"7.88002033553635\", \"perc_whiteonly\": \"73.76715810879512\", \"mean_completely_home_percentage\": 21.138211382113823}, {\"cbg\": \"060375017003\", \"pop_total\": \"928\", \"poverty_percentage\": \"7.543103448275862\", \"perc_whiteonly\": \"74.67672413793103\", \"mean_completely_home_percentage\": 15.789473684210526}, {\"cbg\": \"060590632024\", \"pop_total\": \"870\", \"poverty_percentage\": \"7.241379310344828\", \"perc_whiteonly\": \"80.0\", \"mean_completely_home_percentage\": 10.344827586206897}, {\"cbg\": \"060375766022\", \"pop_total\": \"995\", \"poverty_percentage\": \"6.934673366834171\", \"perc_whiteonly\": \"73.16582914572865\", \"mean_completely_home_percentage\": 30.434782608695656}, {\"cbg\": \"060590525115\", \"pop_total\": \"882\", \"poverty_percentage\": \"6.91609977324263\", \"perc_whiteonly\": \"56.235827664399096\", \"mean_completely_home_percentage\": 9.803921568627452}, {\"cbg\": \"060590320512\", \"pop_total\": \"1033\", \"poverty_percentage\": \"6.679574056147144\", \"perc_whiteonly\": \"61.955469506292346\", \"mean_completely_home_percentage\": 15.384615384615385}, {\"cbg\": \"060371351112\", \"pop_total\": \"1298\", \"poverty_percentage\": \"6.625097427903351\", \"perc_whiteonly\": \"69.41448382126349\", \"mean_completely_home_percentage\": 27.27272727272727}, {\"cbg\": \"060373009011\", \"pop_total\": \"1425\", \"poverty_percentage\": \"6.4561403508771935\", \"perc_whiteonly\": \"76.7719298245614\", \"mean_completely_home_percentage\": 24.390243902439025}, {\"cbg\": \"060591103031\", \"pop_total\": \"1839\", \"poverty_percentage\": \"6.34226353198469\", \"perc_whiteonly\": \"59.54323001631321\", \"mean_completely_home_percentage\": 24.725274725274726}, {\"cbg\": \"060590633013\", \"pop_total\": \"675\", \"poverty_percentage\": \"6.182380216383308\", \"perc_whiteonly\": \"83.85185185185186\", \"mean_completely_home_percentage\": 30.555555555555557}, {\"cbg\": \"060590423241\", \"pop_total\": \"1062\", \"poverty_percentage\": \"5.4613935969868175\", \"perc_whiteonly\": \"86.81732580037664\", \"mean_completely_home_percentage\": 18.91891891891892}, {\"cbg\": \"060590218252\", \"pop_total\": \"1511\", \"poverty_percentage\": \"5.42686962276638\", \"perc_whiteonly\": \"80.41032428855063\", \"mean_completely_home_percentage\": 23.076923076923077}, {\"cbg\": \"060375021001\", \"pop_total\": \"1042\", \"poverty_percentage\": \"4.838709677419355\", \"perc_whiteonly\": \"65.93090211132437\", \"mean_completely_home_percentage\": 17.647058823529413}, {\"cbg\": \"060375401013\", \"pop_total\": \"1290\", \"poverty_percentage\": \"4.263565891472868\", \"perc_whiteonly\": \"55.348837209302324\", \"mean_completely_home_percentage\": 29.78723404255319}, {\"cbg\": \"060377007003\", \"pop_total\": \"1900\", \"poverty_percentage\": \"4.2105263157894735\", \"perc_whiteonly\": \"90.10526315789474\", \"mean_completely_home_percentage\": 13.88888888888889}, {\"cbg\": \"060590867011\", \"pop_total\": \"1457\", \"poverty_percentage\": \"3.8435140700068633\", \"perc_whiteonly\": \"35.82704186684969\", \"mean_completely_home_percentage\": 31.182795698924732}, {\"cbg\": \"060590015073\", \"pop_total\": \"2065\", \"poverty_percentage\": \"3.497536945812808\", \"perc_whiteonly\": \"80.24213075060533\", \"mean_completely_home_percentage\": 15.037593984962406}, {\"cbg\": \"060375727001\", \"pop_total\": \"756\", \"poverty_percentage\": \"3.439153439153439\", \"perc_whiteonly\": \"37.56613756613756\", \"mean_completely_home_percentage\": 25.0}, {\"cbg\": \"060375431003\", \"pop_total\": \"873\", \"poverty_percentage\": \"3.3410138248847927\", \"perc_whiteonly\": \"35.853379152348225\", \"mean_completely_home_percentage\": 13.513513513513514}, {\"cbg\": \"060375024011\", \"pop_total\": \"1243\", \"poverty_percentage\": \"3.2984714400643607\", \"perc_whiteonly\": \"70.39420756234915\", \"mean_completely_home_percentage\": 18.0}, {\"cbg\": \"060375718003\", \"pop_total\": \"837\", \"poverty_percentage\": \"3.1537450722733245\", \"perc_whiteonly\": \"31.780167264038234\", \"mean_completely_home_percentage\": 28.57142857142857}, {\"cbg\": \"060590320463\", \"pop_total\": \"2266\", \"poverty_percentage\": \"3.0450132391879965\", \"perc_whiteonly\": \"80.67078552515446\", \"mean_completely_home_percentage\": 13.043478260869565}, {\"cbg\": \"060374801012\", \"pop_total\": \"851\", \"poverty_percentage\": \"2.955082742316785\", \"perc_whiteonly\": \"25.96944770857814\", \"mean_completely_home_percentage\": 29.03225806451613}, {\"cbg\": \"060371374011\", \"pop_total\": \"657\", \"poverty_percentage\": \"2.89193302891933\", \"perc_whiteonly\": \"78.08219178082192\", \"mean_completely_home_percentage\": 41.66666666666667}, {\"cbg\": \"060371342012\", \"pop_total\": \"1184\", \"poverty_percentage\": \"2.5337837837837838\", \"perc_whiteonly\": \"56.75675675675676\", \"mean_completely_home_percentage\": 20.3125}, {\"cbg\": \"060375529002\", \"pop_total\": \"1251\", \"poverty_percentage\": \"1.9984012789768184\", \"perc_whiteonly\": \"52.1982414068745\", \"mean_completely_home_percentage\": 15.625}, {\"cbg\": \"060376203012\", \"pop_total\": \"1489\", \"poverty_percentage\": \"1.9476158495634655\", \"perc_whiteonly\": \"74.61383478844861\", \"mean_completely_home_percentage\": 5.084745762711865}, {\"cbg\": \"060590320432\", \"pop_total\": \"1452\", \"poverty_percentage\": \"1.790633608815427\", \"perc_whiteonly\": \"92.14876033057851\", \"mean_completely_home_percentage\": 15.909090909090908}, {\"cbg\": \"060590320392\", \"pop_total\": \"2741\", \"poverty_percentage\": \"1.5322874863188618\", \"perc_whiteonly\": \"69.64611455673112\", \"mean_completely_home_percentage\": 15.646258503401361}, {\"cbg\": \"060371151013\", \"pop_total\": \"1268\", \"poverty_percentage\": \"1.4195583596214512\", \"perc_whiteonly\": \"81.54574132492114\", \"mean_completely_home_percentage\": 21.11111111111111}, {\"cbg\": \"060590320573\", \"pop_total\": \"718\", \"poverty_percentage\": \"1.1142061281337048\", \"perc_whiteonly\": \"63.788300835654596\", \"mean_completely_home_percentage\": 10.0}, {\"cbg\": \"060590423192\", \"pop_total\": \"948\", \"poverty_percentage\": \"1.0548523206751055\", \"perc_whiteonly\": \"78.90295358649789\", \"mean_completely_home_percentage\": 9.375}, {\"cbg\": \"060376210012\", \"pop_total\": \"1302\", \"poverty_percentage\": \"0.6912442396313364\", \"perc_whiteonly\": \"82.25806451612904\", \"mean_completely_home_percentage\": 19.230769230769234}, {\"cbg\": \"060590638022\", \"pop_total\": \"1076\", \"poverty_percentage\": \"0.5576208178438662\", \"perc_whiteonly\": \"92.37918215613384\", \"mean_completely_home_percentage\": 10.16949152542373}, {\"cbg\": \"060590320121\", \"pop_total\": \"1790\", \"poverty_percentage\": \"0.0\", \"perc_whiteonly\": \"84.1340782122905\", \"mean_completely_home_percentage\": 18.81188118811881}, {\"cbg\": \"060379800211\", \"pop_total\": \"0\", \"poverty_percentage\": \"0.0\", \"perc_whiteonly\": \"0.0\", \"mean_completely_home_percentage\": 6.0}, {\"cbg\": \"060379200354\", \"pop_total\": \"895\", \"poverty_percentage\": \"0.0\", \"perc_whiteonly\": \"80.44692737430168\", \"mean_completely_home_percentage\": 32.83582089552239}, {\"cbg\": \"060372690001\", \"pop_total\": \"606\", \"poverty_percentage\": \"0.0\", \"perc_whiteonly\": \"86.79867986798679\", \"mean_completely_home_percentage\": 16.27906976744186}, {\"cbg\": \"060376500012\", \"pop_total\": \"677\", \"poverty_percentage\": \"0.0\", \"perc_whiteonly\": \"39.5864106351551\", \"mean_completely_home_percentage\": 12.5}]}}, {\"mode\": \"vega-lite\"});\n",
              "</script>"
            ]
          },
          "metadata": {
            "tags": []
          },
          "execution_count": 62
        }
      ]
    },
    {
      "cell_type": "code",
      "metadata": {
        "id": "WWKOutt1ll7U"
      },
      "source": [
        "temp = result_df.groupby(pd.cut(result_df['poverty_percentage'].astype(float), np.arange(0,110, 10))).mean().reset_index()"
      ],
      "execution_count": 63,
      "outputs": []
    },
    {
      "cell_type": "code",
      "metadata": {
        "id": "E_GvN8JIlz-y"
      },
      "source": [
        "temp['poverty_percentage'] = temp['poverty_percentage'].astype(str)"
      ],
      "execution_count": 64,
      "outputs": []
    },
    {
      "cell_type": "code",
      "metadata": {
        "colab": {
          "base_uri": "https://localhost:8080/",
          "height": 363
        },
        "id": "WuGBYW1erEkM",
        "outputId": "9d45078f-50cb-42d1-d4e7-79055e0c79e8"
      },
      "source": [
        "temp['color'] = ['#45a0d1' if x>30 else '#ff4833' for x in temp['mean_completely_home_percentage']]\n",
        "temp"
      ],
      "execution_count": 65,
      "outputs": [
        {
          "output_type": "execute_result",
          "data": {
            "text/html": [
              "<div>\n",
              "<style scoped>\n",
              "    .dataframe tbody tr th:only-of-type {\n",
              "        vertical-align: middle;\n",
              "    }\n",
              "\n",
              "    .dataframe tbody tr th {\n",
              "        vertical-align: top;\n",
              "    }\n",
              "\n",
              "    .dataframe thead th {\n",
              "        text-align: right;\n",
              "    }\n",
              "</style>\n",
              "<table border=\"1\" class=\"dataframe\">\n",
              "  <thead>\n",
              "    <tr style=\"text-align: right;\">\n",
              "      <th></th>\n",
              "      <th>poverty_percentage</th>\n",
              "      <th>mean_completely_home_percentage</th>\n",
              "      <th>color</th>\n",
              "    </tr>\n",
              "  </thead>\n",
              "  <tbody>\n",
              "    <tr>\n",
              "      <th>0</th>\n",
              "      <td>(0, 10]</td>\n",
              "      <td>19.179780</td>\n",
              "      <td>#ff4833</td>\n",
              "    </tr>\n",
              "    <tr>\n",
              "      <th>1</th>\n",
              "      <td>(10, 20]</td>\n",
              "      <td>23.754898</td>\n",
              "      <td>#ff4833</td>\n",
              "    </tr>\n",
              "    <tr>\n",
              "      <th>2</th>\n",
              "      <td>(20, 30]</td>\n",
              "      <td>24.839016</td>\n",
              "      <td>#ff4833</td>\n",
              "    </tr>\n",
              "    <tr>\n",
              "      <th>3</th>\n",
              "      <td>(30, 40]</td>\n",
              "      <td>28.597013</td>\n",
              "      <td>#ff4833</td>\n",
              "    </tr>\n",
              "    <tr>\n",
              "      <th>4</th>\n",
              "      <td>(40, 50]</td>\n",
              "      <td>23.316913</td>\n",
              "      <td>#ff4833</td>\n",
              "    </tr>\n",
              "    <tr>\n",
              "      <th>5</th>\n",
              "      <td>(50, 60]</td>\n",
              "      <td>35.625000</td>\n",
              "      <td>#45a0d1</td>\n",
              "    </tr>\n",
              "    <tr>\n",
              "      <th>6</th>\n",
              "      <td>(60, 70]</td>\n",
              "      <td>NaN</td>\n",
              "      <td>#ff4833</td>\n",
              "    </tr>\n",
              "    <tr>\n",
              "      <th>7</th>\n",
              "      <td>(70, 80]</td>\n",
              "      <td>NaN</td>\n",
              "      <td>#ff4833</td>\n",
              "    </tr>\n",
              "    <tr>\n",
              "      <th>8</th>\n",
              "      <td>(80, 90]</td>\n",
              "      <td>NaN</td>\n",
              "      <td>#ff4833</td>\n",
              "    </tr>\n",
              "    <tr>\n",
              "      <th>9</th>\n",
              "      <td>(90, 100]</td>\n",
              "      <td>NaN</td>\n",
              "      <td>#ff4833</td>\n",
              "    </tr>\n",
              "  </tbody>\n",
              "</table>\n",
              "</div>"
            ],
            "text/plain": [
              "  poverty_percentage  mean_completely_home_percentage    color\n",
              "0            (0, 10]                        19.179780  #ff4833\n",
              "1           (10, 20]                        23.754898  #ff4833\n",
              "2           (20, 30]                        24.839016  #ff4833\n",
              "3           (30, 40]                        28.597013  #ff4833\n",
              "4           (40, 50]                        23.316913  #ff4833\n",
              "5           (50, 60]                        35.625000  #45a0d1\n",
              "6           (60, 70]                              NaN  #ff4833\n",
              "7           (70, 80]                              NaN  #ff4833\n",
              "8           (80, 90]                              NaN  #ff4833\n",
              "9          (90, 100]                              NaN  #ff4833"
            ]
          },
          "metadata": {
            "tags": []
          },
          "execution_count": 65
        }
      ]
    },
    {
      "cell_type": "code",
      "metadata": {
        "colab": {
          "base_uri": "https://localhost:8080/",
          "height": 493
        },
        "id": "BLlodBHxPY4n",
        "outputId": "7bcba793-c877-4fa4-d9f1-6061903f8b7d"
      },
      "source": [
        "# \n",
        "alt.Chart(temp).mark_point().encode(\n",
        "    alt.X('poverty_percentage:N'),\n",
        "    alt.Y('mean_completely_home_percentage'),\n",
        "    color = alt.Color('color',scale=None),\n",
        "    tooltip=[alt.Tooltip('poverty_percentage'),\n",
        "             alt.Tooltip('mean_completely_home_percentage')]\n",
        ").properties(width=400, height=400).interactive()"
      ],
      "execution_count": 66,
      "outputs": [
        {
          "output_type": "execute_result",
          "data": {
            "text/plain": [
              "alt.Chart(...)"
            ],
            "text/html": [
              "\n",
              "<div id=\"altair-viz-69f32272cc6343f6991e94e409d2aacd\"></div>\n",
              "<script type=\"text/javascript\">\n",
              "  (function(spec, embedOpt){\n",
              "    let outputDiv = document.currentScript.previousElementSibling;\n",
              "    if (outputDiv.id !== \"altair-viz-69f32272cc6343f6991e94e409d2aacd\") {\n",
              "      outputDiv = document.getElementById(\"altair-viz-69f32272cc6343f6991e94e409d2aacd\");\n",
              "    }\n",
              "    const paths = {\n",
              "      \"vega\": \"https://cdn.jsdelivr.net/npm//vega@5?noext\",\n",
              "      \"vega-lib\": \"https://cdn.jsdelivr.net/npm//vega-lib?noext\",\n",
              "      \"vega-lite\": \"https://cdn.jsdelivr.net/npm//vega-lite@4.8.1?noext\",\n",
              "      \"vega-embed\": \"https://cdn.jsdelivr.net/npm//vega-embed@6?noext\",\n",
              "    };\n",
              "\n",
              "    function loadScript(lib) {\n",
              "      return new Promise(function(resolve, reject) {\n",
              "        var s = document.createElement('script');\n",
              "        s.src = paths[lib];\n",
              "        s.async = true;\n",
              "        s.onload = () => resolve(paths[lib]);\n",
              "        s.onerror = () => reject(`Error loading script: ${paths[lib]}`);\n",
              "        document.getElementsByTagName(\"head\")[0].appendChild(s);\n",
              "      });\n",
              "    }\n",
              "\n",
              "    function showError(err) {\n",
              "      outputDiv.innerHTML = `<div class=\"error\" style=\"color:red;\">${err}</div>`;\n",
              "      throw err;\n",
              "    }\n",
              "\n",
              "    function displayChart(vegaEmbed) {\n",
              "      vegaEmbed(outputDiv, spec, embedOpt)\n",
              "        .catch(err => showError(`Javascript Error: ${err.message}<br>This usually means there's a typo in your chart specification. See the javascript console for the full traceback.`));\n",
              "    }\n",
              "\n",
              "    if(typeof define === \"function\" && define.amd) {\n",
              "      requirejs.config({paths});\n",
              "      require([\"vega-embed\"], displayChart, err => showError(`Error loading script: ${err.message}`));\n",
              "    } else if (typeof vegaEmbed === \"function\") {\n",
              "      displayChart(vegaEmbed);\n",
              "    } else {\n",
              "      loadScript(\"vega\")\n",
              "        .then(() => loadScript(\"vega-lite\"))\n",
              "        .then(() => loadScript(\"vega-embed\"))\n",
              "        .catch(showError)\n",
              "        .then(() => displayChart(vegaEmbed));\n",
              "    }\n",
              "  })({\"config\": {\"view\": {\"continuousWidth\": 400, \"continuousHeight\": 300}}, \"data\": {\"name\": \"data-10a70969cc6976134ad802bb131ee8c1\"}, \"mark\": \"point\", \"encoding\": {\"color\": {\"type\": \"nominal\", \"field\": \"color\", \"scale\": null}, \"tooltip\": [{\"type\": \"nominal\", \"field\": \"poverty_percentage\"}, {\"type\": \"quantitative\", \"field\": \"mean_completely_home_percentage\"}], \"x\": {\"type\": \"nominal\", \"field\": \"poverty_percentage\"}, \"y\": {\"type\": \"quantitative\", \"field\": \"mean_completely_home_percentage\"}}, \"height\": 400, \"selection\": {\"selector002\": {\"type\": \"interval\", \"bind\": \"scales\", \"encodings\": [\"x\", \"y\"]}}, \"width\": 400, \"$schema\": \"https://vega.github.io/schema/vega-lite/v4.8.1.json\", \"datasets\": {\"data-10a70969cc6976134ad802bb131ee8c1\": [{\"poverty_percentage\": \"(0, 10]\", \"mean_completely_home_percentage\": 19.179779715142693, \"color\": \"#ff4833\"}, {\"poverty_percentage\": \"(10, 20]\", \"mean_completely_home_percentage\": 23.754898107596187, \"color\": \"#ff4833\"}, {\"poverty_percentage\": \"(20, 30]\", \"mean_completely_home_percentage\": 24.839015734108575, \"color\": \"#ff4833\"}, {\"poverty_percentage\": \"(30, 40]\", \"mean_completely_home_percentage\": 28.597012665285412, \"color\": \"#ff4833\"}, {\"poverty_percentage\": \"(40, 50]\", \"mean_completely_home_percentage\": 23.316912972085383, \"color\": \"#ff4833\"}, {\"poverty_percentage\": \"(50, 60]\", \"mean_completely_home_percentage\": 35.625, \"color\": \"#45a0d1\"}, {\"poverty_percentage\": \"(60, 70]\", \"mean_completely_home_percentage\": null, \"color\": \"#ff4833\"}, {\"poverty_percentage\": \"(70, 80]\", \"mean_completely_home_percentage\": null, \"color\": \"#ff4833\"}, {\"poverty_percentage\": \"(80, 90]\", \"mean_completely_home_percentage\": null, \"color\": \"#ff4833\"}, {\"poverty_percentage\": \"(90, 100]\", \"mean_completely_home_percentage\": null, \"color\": \"#ff4833\"}]}}, {\"mode\": \"vega-lite\"});\n",
              "</script>"
            ]
          },
          "metadata": {
            "tags": []
          },
          "execution_count": 66
        }
      ]
    },
    {
      "cell_type": "code",
      "metadata": {
        "colab": {
          "base_uri": "https://localhost:8080/"
        },
        "id": "AES-w9IdUzff",
        "outputId": "a18652e5-34b3-4c54-c4e9-292e34a1b8ff"
      },
      "source": [
        "result_df['poverty_percentage'].astype(float).dtype"
      ],
      "execution_count": 67,
      "outputs": [
        {
          "output_type": "execute_result",
          "data": {
            "text/plain": [
              "dtype('float64')"
            ]
          },
          "metadata": {
            "tags": []
          },
          "execution_count": 67
        }
      ]
    },
    {
      "cell_type": "code",
      "metadata": {
        "id": "eCgNqN8QjwbK"
      },
      "source": [
        ""
      ],
      "execution_count": null,
      "outputs": []
    }
  ]
}