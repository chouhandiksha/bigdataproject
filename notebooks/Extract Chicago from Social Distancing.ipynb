{
 "cells": [
  {
   "cell_type": "markdown",
   "id": "wrapped-cooperative",
   "metadata": {},
   "source": [
    "# Extract Chicago Social Distancing Data\n",
    "\n",
    "**Instructions:**\n",
    "\n",
    "1.Provide the file path to the 2020 source data, 2019 source data, the 2020 target directory, 2019 target directory, and the 5 digit combined FIPS codes in the second code cell. "
   ]
  },
  {
   "cell_type": "code",
   "execution_count": 6,
   "id": "commercial-visibility",
   "metadata": {},
   "outputs": [],
   "source": [
    "import pandas as pd\n",
    "import geopandas\n",
    "import matplotlib.pyplot as plt\n",
    "\n",
    "import os\n",
    "from tqdm.notebook import tqdm, trange"
   ]
  },
  {
   "cell_type": "code",
   "execution_count": 7,
   "id": "homeless-atlanta",
   "metadata": {},
   "outputs": [],
   "source": [
    "# Chicago Counties\n",
    "fips = ['17031','17037','17043','17063','17091','17089','17093','17111','17197','17097','18073','18089','18111','18127','55059']\n",
    "\n",
    "\n",
    "path_2020 = '/Users/justinsnider/nyu-big-data/project/data/social-distancing/2020/'\n",
    "target_2020 = '/Users/justinsnider/nyu-big-data/project/clean-data/ch/social/2020/'\n",
    "\n",
    "path_2019 = '/Volumes/Data_01/social-distancing/2019/'\n",
    "target_2019 = '/Users/justinsnider/nyu-big-data/project/clean-data/ch/social/2019/'\n"
   ]
  },
  {
   "cell_type": "code",
   "execution_count": 8,
   "id": "electric-scout",
   "metadata": {},
   "outputs": [],
   "source": [
    "def filter_fips(df, fips=fips):\n",
    "    return df[df['cbg'].astype(str).str[:5].isin(fips)]"
   ]
  },
  {
   "cell_type": "code",
   "execution_count": 9,
   "id": "particular-velvet",
   "metadata": {},
   "outputs": [],
   "source": [
    "def get_fips(fname, filepath, fips, dirout):\n",
    "    df = pd.read_csv(filepath, compression='gzip', dtype={'origin_census_block_group': object})\n",
    "    df = df.rename(columns={'origin_census_block_group':'cbg'})\n",
    "    df = filter_fips(df)\n",
    "    df.to_csv(dirout)"
   ]
  },
  {
   "cell_type": "code",
   "execution_count": 10,
   "id": "buried-punch",
   "metadata": {},
   "outputs": [
    {
     "data": {
      "application/vnd.jupyter.widget-view+json": {
       "model_id": "650e5396a12649c689dfcf9feb441662",
       "version_major": 2,
       "version_minor": 0
      },
      "text/plain": [
       "months:   0%|          | 0/12 [00:00<?, ?it/s]"
      ]
     },
     "metadata": {},
     "output_type": "display_data"
    },
    {
     "data": {
      "application/vnd.jupyter.widget-view+json": {
       "model_id": "48b48f61c9c1456f97b7179e4577b5fc",
       "version_major": 2,
       "version_minor": 0
      },
      "text/plain": [
       "days:   0%|          | 0/31 [00:00<?, ?it/s]"
      ]
     },
     "metadata": {},
     "output_type": "display_data"
    },
    {
     "data": {
      "application/vnd.jupyter.widget-view+json": {
       "model_id": "79036b9d0e8e47f6850d3ad9bea41db8",
       "version_major": 2,
       "version_minor": 0
      },
      "text/plain": [
       "days:   0%|          | 0/30 [00:00<?, ?it/s]"
      ]
     },
     "metadata": {},
     "output_type": "display_data"
    },
    {
     "data": {
      "application/vnd.jupyter.widget-view+json": {
       "model_id": "dcbefbe1d4884c16ba068b16db55c308",
       "version_major": 2,
       "version_minor": 0
      },
      "text/plain": [
       "days:   0%|          | 0/31 [00:00<?, ?it/s]"
      ]
     },
     "metadata": {},
     "output_type": "display_data"
    },
    {
     "data": {
      "application/vnd.jupyter.widget-view+json": {
       "model_id": "ccda6b7b022b4e3ea3408882209e05db",
       "version_major": 2,
       "version_minor": 0
      },
      "text/plain": [
       "days:   0%|          | 0/29 [00:00<?, ?it/s]"
      ]
     },
     "metadata": {},
     "output_type": "display_data"
    },
    {
     "data": {
      "application/vnd.jupyter.widget-view+json": {
       "model_id": "861f9906ec7b4141ab6d06f2007d2d9c",
       "version_major": 2,
       "version_minor": 0
      },
      "text/plain": [
       "days:   0%|          | 0/30 [00:00<?, ?it/s]"
      ]
     },
     "metadata": {},
     "output_type": "display_data"
    },
    {
     "data": {
      "application/vnd.jupyter.widget-view+json": {
       "model_id": "b7c7f1c6e83045b5ab85908f3c71920b",
       "version_major": 2,
       "version_minor": 0
      },
      "text/plain": [
       "days:   0%|          | 0/31 [00:00<?, ?it/s]"
      ]
     },
     "metadata": {},
     "output_type": "display_data"
    },
    {
     "data": {
      "application/vnd.jupyter.widget-view+json": {
       "model_id": "a277d4bdc59343e79f19b63b9afdc7df",
       "version_major": 2,
       "version_minor": 0
      },
      "text/plain": [
       "days:   0%|          | 0/31 [00:00<?, ?it/s]"
      ]
     },
     "metadata": {},
     "output_type": "display_data"
    },
    {
     "data": {
      "application/vnd.jupyter.widget-view+json": {
       "model_id": "70afa2a6535a4f90a3e00f33ff405f52",
       "version_major": 2,
       "version_minor": 0
      },
      "text/plain": [
       "days:   0%|          | 0/30 [00:00<?, ?it/s]"
      ]
     },
     "metadata": {},
     "output_type": "display_data"
    },
    {
     "data": {
      "application/vnd.jupyter.widget-view+json": {
       "model_id": "e2d56bb31bc749b09183b793d471ba8f",
       "version_major": 2,
       "version_minor": 0
      },
      "text/plain": [
       "days:   0%|          | 0/31 [00:00<?, ?it/s]"
      ]
     },
     "metadata": {},
     "output_type": "display_data"
    },
    {
     "data": {
      "application/vnd.jupyter.widget-view+json": {
       "model_id": "be114651979241daafcaa4599747ca8a",
       "version_major": 2,
       "version_minor": 0
      },
      "text/plain": [
       "days:   0%|          | 0/31 [00:00<?, ?it/s]"
      ]
     },
     "metadata": {},
     "output_type": "display_data"
    },
    {
     "data": {
      "application/vnd.jupyter.widget-view+json": {
       "model_id": "f90ab0bf570e4df9a6e437906d62d861",
       "version_major": 2,
       "version_minor": 0
      },
      "text/plain": [
       "days:   0%|          | 0/30 [00:00<?, ?it/s]"
      ]
     },
     "metadata": {},
     "output_type": "display_data"
    },
    {
     "data": {
      "application/vnd.jupyter.widget-view+json": {
       "model_id": "cc8c4a08e157491fbf66566063b0dd6e",
       "version_major": 2,
       "version_minor": 0
      },
      "text/plain": [
       "days:   0%|          | 0/31 [00:00<?, ?it/s]"
      ]
     },
     "metadata": {},
     "output_type": "display_data"
    }
   ],
   "source": [
    "months = os.listdir(path_2020)\n",
    "# print(months)\n",
    "for month in tqdm(months, desc='months'):\n",
    "    days = os.listdir(path_2020+month)\n",
    "    days = [day for day in days if day!='.DS_Store']\n",
    "    for day in tqdm(days, desc='days'):\n",
    "        sub_path = path_2020 + month + '/' + day +'/'\n",
    "        f_list = os.listdir(sub_path)\n",
    "        csv_files = [file for file in f_list if file.endswith('.gz')]\n",
    "        csv_files = [file for file in csv_files if file!= []]\n",
    "        for file in csv_files:\n",
    "            f_path = os.path.join(sub_path, file)\n",
    "            # Do something with file\n",
    "            target_dir = os.path.join(target_2020, file)[:-3]  # remove .gz extension\n",
    "            get_fips(file, f_path, fips, target_dir)"
   ]
  },
  {
   "cell_type": "code",
   "execution_count": 11,
   "id": "through-declaration",
   "metadata": {},
   "outputs": [
    {
     "data": {
      "application/vnd.jupyter.widget-view+json": {
       "model_id": "4c0f8bb2742c441882e6fcb3513de282",
       "version_major": 2,
       "version_minor": 0
      },
      "text/plain": [
       "months:   0%|          | 0/12 [00:00<?, ?it/s]"
      ]
     },
     "metadata": {},
     "output_type": "display_data"
    },
    {
     "data": {
      "application/vnd.jupyter.widget-view+json": {
       "model_id": "02fed21766ac4c94babde94c34421453",
       "version_major": 2,
       "version_minor": 0
      },
      "text/plain": [
       "days:   0%|          | 0/31 [00:00<?, ?it/s]"
      ]
     },
     "metadata": {},
     "output_type": "display_data"
    },
    {
     "data": {
      "application/vnd.jupyter.widget-view+json": {
       "model_id": "a09aa434140c43748edeb7bdcd240638",
       "version_major": 2,
       "version_minor": 0
      },
      "text/plain": [
       "days:   0%|          | 0/28 [00:00<?, ?it/s]"
      ]
     },
     "metadata": {},
     "output_type": "display_data"
    },
    {
     "data": {
      "application/vnd.jupyter.widget-view+json": {
       "model_id": "c84e3f9f44534ebe9a54c0de8a67ad89",
       "version_major": 2,
       "version_minor": 0
      },
      "text/plain": [
       "days:   0%|          | 0/31 [00:00<?, ?it/s]"
      ]
     },
     "metadata": {},
     "output_type": "display_data"
    },
    {
     "data": {
      "application/vnd.jupyter.widget-view+json": {
       "model_id": "459d1d38784e4c22b5c7584aa386b74f",
       "version_major": 2,
       "version_minor": 0
      },
      "text/plain": [
       "days:   0%|          | 0/30 [00:00<?, ?it/s]"
      ]
     },
     "metadata": {},
     "output_type": "display_data"
    },
    {
     "data": {
      "application/vnd.jupyter.widget-view+json": {
       "model_id": "257d2c8b956b493a927335c32c0f03c9",
       "version_major": 2,
       "version_minor": 0
      },
      "text/plain": [
       "days:   0%|          | 0/31 [00:00<?, ?it/s]"
      ]
     },
     "metadata": {},
     "output_type": "display_data"
    },
    {
     "data": {
      "application/vnd.jupyter.widget-view+json": {
       "model_id": "b23c7c53bfd746538ea5ab47f2b56845",
       "version_major": 2,
       "version_minor": 0
      },
      "text/plain": [
       "days:   0%|          | 0/30 [00:00<?, ?it/s]"
      ]
     },
     "metadata": {},
     "output_type": "display_data"
    },
    {
     "data": {
      "application/vnd.jupyter.widget-view+json": {
       "model_id": "342e6bfecac84549bedeea80d0d90d3f",
       "version_major": 2,
       "version_minor": 0
      },
      "text/plain": [
       "days:   0%|          | 0/31 [00:00<?, ?it/s]"
      ]
     },
     "metadata": {},
     "output_type": "display_data"
    },
    {
     "data": {
      "application/vnd.jupyter.widget-view+json": {
       "model_id": "3096f17dbd2f426491461f02a8af7987",
       "version_major": 2,
       "version_minor": 0
      },
      "text/plain": [
       "days:   0%|          | 0/31 [00:00<?, ?it/s]"
      ]
     },
     "metadata": {},
     "output_type": "display_data"
    },
    {
     "data": {
      "application/vnd.jupyter.widget-view+json": {
       "model_id": "43714e729302486fa53e391daa5414e8",
       "version_major": 2,
       "version_minor": 0
      },
      "text/plain": [
       "days:   0%|          | 0/30 [00:00<?, ?it/s]"
      ]
     },
     "metadata": {},
     "output_type": "display_data"
    },
    {
     "data": {
      "application/vnd.jupyter.widget-view+json": {
       "model_id": "99440057961c4924b38649f1464a9c4c",
       "version_major": 2,
       "version_minor": 0
      },
      "text/plain": [
       "days:   0%|          | 0/31 [00:00<?, ?it/s]"
      ]
     },
     "metadata": {},
     "output_type": "display_data"
    },
    {
     "data": {
      "application/vnd.jupyter.widget-view+json": {
       "model_id": "e6cc16f54040405fa6af57587a17b7ab",
       "version_major": 2,
       "version_minor": 0
      },
      "text/plain": [
       "days:   0%|          | 0/30 [00:00<?, ?it/s]"
      ]
     },
     "metadata": {},
     "output_type": "display_data"
    },
    {
     "data": {
      "application/vnd.jupyter.widget-view+json": {
       "model_id": "168c0650883048efb4fee7fe2505df71",
       "version_major": 2,
       "version_minor": 0
      },
      "text/plain": [
       "days:   0%|          | 0/31 [00:00<?, ?it/s]"
      ]
     },
     "metadata": {},
     "output_type": "display_data"
    }
   ],
   "source": [
    "months = os.listdir(path_2019)\n",
    "# print(months)\n",
    "for month in tqdm(months, desc='months'):\n",
    "    days = os.listdir(path_2019+month)\n",
    "    days = [day for day in days if day!='.DS_Store']\n",
    "    for day in tqdm(days, desc='days'):\n",
    "        sub_path = path_2019 + month + '/' + day +'/'\n",
    "        f_list = os.listdir(sub_path)\n",
    "        csv_files = [file for file in f_list if file.endswith('.gz')]\n",
    "        csv_files = [file for file in csv_files if file!= []]\n",
    "        for file in csv_files:\n",
    "            f_path = os.path.join(sub_path, file)\n",
    "            # Do something with file\n",
    "            target_dir = os.path.join(target_2019, file)[:-3]  # remove .gz extension\n",
    "            get_fips(file, f_path, fips, target_dir)"
   ]
  },
  {
   "cell_type": "code",
   "execution_count": null,
   "id": "disciplinary-giving",
   "metadata": {},
   "outputs": [],
   "source": []
  }
 ],
 "metadata": {
  "kernelspec": {
   "display_name": "Python 3",
   "language": "python",
   "name": "python3"
  },
  "language_info": {
   "codemirror_mode": {
    "name": "ipython",
    "version": 3
   },
   "file_extension": ".py",
   "mimetype": "text/x-python",
   "name": "python",
   "nbconvert_exporter": "python",
   "pygments_lexer": "ipython3",
   "version": "3.7.7"
  }
 },
 "nbformat": 4,
 "nbformat_minor": 5
}
