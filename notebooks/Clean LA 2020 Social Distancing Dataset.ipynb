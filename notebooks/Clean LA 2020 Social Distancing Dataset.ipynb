{
  "nbformat": 4,
  "nbformat_minor": 5,
  "metadata": {
    "kernelspec": {
      "display_name": "Python 3",
      "language": "python",
      "name": "python3"
    },
    "language_info": {
      "codemirror_mode": {
        "name": "ipython",
        "version": 3
      },
      "file_extension": ".py",
      "mimetype": "text/x-python",
      "name": "python",
      "nbconvert_exporter": "python",
      "pygments_lexer": "ipython3",
      "version": "3.7.7"
    },
    "colab": {
      "name": "Clean LA 2020 Social Distancing Dataset.ipynb",
      "provenance": [],
      "toc_visible": true
    }
  },
  "cells": [
    {
      "cell_type": "markdown",
      "metadata": {
        "id": "distant-waterproof"
      },
      "source": [
        "# Clean Los Angeles 2020 Social Distancing Dataset\n",
        "\n",
        "**Instructions:**\n",
        "\n",
        "1. Mount the google drive to access the data by following **Steps to Mount the Drive**.\n",
        "2. Provide the drive file path to the data, city name, and year in the fourth code cell. "
      ],
      "id": "distant-waterproof"
    },
    {
      "cell_type": "markdown",
      "metadata": {
        "id": "UJ6WrlouanT3"
      },
      "source": [
        "**Steps to Mount the Drive:**\n",
        "\n",
        "1. Execute the second code cell.\n",
        "2. There will be a link to follow in order to authorize the google account for drive. Go to that link.\n",
        "3. A link to authorize the google account will be generated. Copy the code generated.\n",
        "4. Go back to the cell where the process of mounting the drive is running. Paste the generated code from step 3 to the text box in the cell.\n",
        "\n",
        "\n"
      ],
      "id": "UJ6WrlouanT3"
    },
    {
      "cell_type": "code",
      "metadata": {
        "id": "bH7ynhK7MY5L"
      },
      "source": [
        "pip install geopandas"
      ],
      "id": "bH7ynhK7MY5L",
      "execution_count": null,
      "outputs": []
    },
    {
      "cell_type": "code",
      "metadata": {
        "id": "physical-yellow"
      },
      "source": [
        "import os\n",
        "import geopandas\n",
        "import pandas as pd\n",
        "from pathlib import Path\n",
        "import matplotlib.pyplot as plt\n",
        "from tqdm.notebook import tqdm, trange\n",
        "\n",
        "import altair as alt\n",
        "from vega_datasets import data\n",
        "\n",
        "# # Allow altair to visualize large datasets\n",
        "# alt.data_transformers.disable_max_rows()"
      ],
      "id": "physical-yellow",
      "execution_count": 2,
      "outputs": []
    },
    {
      "cell_type": "code",
      "metadata": {
        "colab": {
          "base_uri": "https://localhost:8080/"
        },
        "id": "9KcnwQ3OWv5j",
        "outputId": "495db2cf-ad5f-4a7f-80fb-d8e6d18434a4"
      },
      "source": [
        "from google.colab import drive\n",
        "drive.mount('/content/drive')"
      ],
      "id": "9KcnwQ3OWv5j",
      "execution_count": 3,
      "outputs": [
        {
          "output_type": "stream",
          "text": [
            "Go to this URL in a browser: https://accounts.google.com/o/oauth2/auth?client_id=947318989803-6bn6qk8qdgf4n4g3pfee6491hc0brc4i.apps.googleusercontent.com&redirect_uri=urn%3aietf%3awg%3aoauth%3a2.0%3aoob&scope=email%20https%3a%2f%2fwww.googleapis.com%2fauth%2fdocs.test%20https%3a%2f%2fwww.googleapis.com%2fauth%2fdrive%20https%3a%2f%2fwww.googleapis.com%2fauth%2fdrive.photos.readonly%20https%3a%2f%2fwww.googleapis.com%2fauth%2fpeopleapi.readonly%20https%3a%2f%2fwww.googleapis.com%2fauth%2fdrive.activity.readonly%20https%3a%2f%2fwww.googleapis.com%2fauth%2fexperimentsandconfigs%20https%3a%2f%2fwww.googleapis.com%2fauth%2fphotos.native&response_type=code\n",
            "\n",
            "Enter your authorization code:\n",
            "4/1AY0e-g5R89CV8GFooLj0t5ygGzJadgWSsQkql7uOAkm1jzjd3g7_JSBNl58\n",
            "Mounted at /content/drive\n"
          ],
          "name": "stdout"
        }
      ]
    },
    {
      "cell_type": "code",
      "metadata": {
        "id": "difficult-reunion"
      },
      "source": [
        "#Provide the drive file path to the data, city name, and year\n",
        "\n",
        "city = 'Los Angeles'\n",
        "city_directory = 'la'\n",
        "year = '2020'\n",
        "\n",
        "# Provide a list of CSV file paths to read\n",
        "path = Path('drive/MyDrive/big-data-project/data/clean-data')\n",
        "path_list = [path/city_directory/'social'/year]"
      ],
      "id": "difficult-reunion",
      "execution_count": 4,
      "outputs": []
    },
    {
      "cell_type": "code",
      "metadata": {
        "id": "interim-background"
      },
      "source": [
        "#Appending into dataframe\n",
        "\n",
        "def get_df(path_list):\n",
        "    df = []\n",
        "    first = True\n",
        "    for directory in tqdm(path_list, desc='Years'):\n",
        "        f_list = os.listdir(directory)\n",
        "        csv_files = [directory/f for f in f_list if f.endswith('.csv')]\n",
        "        for csv in tqdm(csv_files, desc='Days'):\n",
        "            if first:\n",
        "                df = pd.read_csv(csv, dtype={'cbg': object})\n",
        "                first = False\n",
        "            else:\n",
        "                df = df.append(pd.read_csv(csv, dtype={'cbg': object}), ignore_index=True)\n",
        "    return df.sort_values(by=['date_range_start'])"
      ],
      "id": "interim-background",
      "execution_count": 6,
      "outputs": []
    },
    {
      "cell_type": "code",
      "metadata": {
        "id": "coordinated-lithuania"
      },
      "source": [
        "%%time\n",
        "\n",
        "df = get_df(path_list)"
      ],
      "id": "coordinated-lithuania",
      "execution_count": null,
      "outputs": []
    },
    {
      "cell_type": "code",
      "metadata": {
        "id": "innovative-practice"
      },
      "source": [
        "df"
      ],
      "id": "innovative-practice",
      "execution_count": null,
      "outputs": []
    },
    {
      "cell_type": "code",
      "metadata": {
        "id": "rough-immigration"
      },
      "source": [
        "# Selecting the columsn that we need for the analysis\n",
        "# col = ['date_range_start',\n",
        "#        'cbg',\n",
        "#        'device_count',  # Total active devices\n",
        "#        'completely_home_device_count',\n",
        "#        'part_time_work_behavior_devices',\n",
        "#        'full_time_work_behavior_devices',\n",
        "#        'delivery_behavior_devices',\n",
        "#        'median_percentage_time_home',\n",
        "#        'median_home_dwell_time',\n",
        "#        'mean_home_dwell_time',\n",
        "#        'median_non_home_dwell_time',\n",
        "#        'mean_non_home_dwell_time',\n",
        "#        'distance_traveled_from_home', # Median Distance traveled\n",
        "#        'mean_distance_traveled_from_home']\n",
        "col = ['date_range_start',\n",
        "       'cbg',\n",
        "       'device_count',  # Total active devices\n",
        "       'completely_home_device_count',\n",
        "       'part_time_work_behavior_devices',\n",
        "       'full_time_work_behavior_devices']\n",
        "devices_mobility = df[col]"
      ],
      "id": "rough-immigration",
      "execution_count": null,
      "outputs": []
    },
    {
      "cell_type": "code",
      "metadata": {
        "id": "isolated-turkish"
      },
      "source": [
        "#Renaming columns\n",
        "devices_mobility = devices_mobility.rename(columns={'date_range_start':'date','device_count':'total', 'completely_home_device_count':'completely_home','part_time_work_behavior_devices':'part_time_work', 'full_time_work_behavior_devices':'full_time_work'})\n",
        "devices_mobility"
      ],
      "id": "isolated-turkish",
      "execution_count": null,
      "outputs": []
    },
    {
      "cell_type": "code",
      "metadata": {
        "id": "straight-interaction"
      },
      "source": [
        "# devices_mobility"
      ],
      "id": "straight-interaction",
      "execution_count": null,
      "outputs": []
    },
    {
      "cell_type": "code",
      "metadata": {
        "id": "healthy-error"
      },
      "source": [
        "#Listing out the device count columns\n",
        "device_columns = ['completely_home','part_time_work','full_time_work']"
      ],
      "id": "healthy-error",
      "execution_count": null,
      "outputs": []
    },
    {
      "cell_type": "code",
      "metadata": {
        "id": "fiscal-southwest"
      },
      "source": [
        "#Calculating percentage for all the device columns\n",
        "for column in device_columns :\n",
        "    devices_mobility['percentage_'+column]= devices_mobility.apply(lambda row: row[column]/row['total']*100.0 if row['total']!=0.0 else 0.0, axis=1)\n",
        "devices_mobility"
      ],
      "id": "fiscal-southwest",
      "execution_count": null,
      "outputs": []
    },
    {
      "cell_type": "code",
      "metadata": {
        "id": "adverse-bicycle"
      },
      "source": [
        "#Normalising the percentage columns\n",
        "for column in device_columns:\n",
        "        devices_mobility['norm_'+column] = (devices_mobility['percentage_'+ column] - devices_mobility['percentage_'+column].mean()) / devices_mobility['percentage_'+column].std()\n",
        "\n",
        "devices_mobility"
      ],
      "id": "adverse-bicycle",
      "execution_count": null,
      "outputs": []
    },
    {
      "cell_type": "code",
      "metadata": {
        "id": "existing-lounge"
      },
      "source": [
        "#Conversion of datetime format\n",
        "devices_mobility['date'] = pd.to_datetime(devices_mobility['date'],utc= True)\n",
        "devices_mobility"
      ],
      "id": "existing-lounge",
      "execution_count": null,
      "outputs": []
    },
    {
      "cell_type": "code",
      "metadata": {
        "id": "split-florence"
      },
      "source": [
        "# Normalize time\n",
        "devices_mobility['date'] = devices_mobility['date'].dt.normalize()\n",
        "devices_mobility"
      ],
      "id": "split-florence",
      "execution_count": null,
      "outputs": []
    },
    {
      "cell_type": "code",
      "metadata": {
        "id": "supreme-softball"
      },
      "source": [
        "# Check the number of rows for each CBG\n",
        "print('Min: {}\\nMax: {}'.format(min(set(devices_mobility.groupby('cbg').count()['date'])), max(set(devices_mobility.groupby('cbg').count()['date']))))"
      ],
      "id": "supreme-softball",
      "execution_count": null,
      "outputs": []
    },
    {
      "cell_type": "code",
      "metadata": {
        "id": "brave-density"
      },
      "source": [
        "for col in devices_mobility.columns:\n",
        "    print('\\n')\n",
        "    print(col)\n",
        "#     if devices_mobility[col].dtype\n",
        "#     print(devices_mobility[col].dtype)\n",
        "    print('Min: {}\\nMax: {}'.format(devices_mobility[col].min(), devices_mobility[col].max()))"
      ],
      "id": "brave-density",
      "execution_count": null,
      "outputs": []
    },
    {
      "cell_type": "code",
      "metadata": {
        "id": "governing-entry"
      },
      "source": [
        "# Print all Null and NaN values\n",
        "print('We have {} null values.'.format(len(devices_mobility[devices_mobility.isna().any(axis=1)])))"
      ],
      "id": "governing-entry",
      "execution_count": null,
      "outputs": []
    },
    {
      "cell_type": "code",
      "metadata": {
        "id": "light-light"
      },
      "source": [
        "# Grouping based on day\n",
        "grouped_dm = devices_mobility.groupby(devices_mobility['date']).mean()\n",
        "grouped_dm"
      ],
      "id": "light-light",
      "execution_count": null,
      "outputs": []
    },
    {
      "cell_type": "code",
      "metadata": {
        "id": "blessed-scheme"
      },
      "source": [
        "grouped_dm.reset_index()"
      ],
      "id": "blessed-scheme",
      "execution_count": null,
      "outputs": []
    },
    {
      "cell_type": "code",
      "metadata": {
        "id": "rural-relay"
      },
      "source": [
        "#Visualising mobility\n",
        "\n",
        "title = '{} {}'.format(city,year)\n",
        "alt.Chart(grouped_dm.reset_index()).mark_line().encode(\n",
        "    x=alt.X('date', title='Date'),\n",
        "    y=alt.Y(alt.repeat('row'), type='quantitative')\n",
        ").properties(\n",
        "    width=300,\n",
        "    height=250\n",
        ").repeat(\n",
        "    row=['percentage_completely_home','percentage_part_time_work','percentage_full_time_work']\n",
        ").interactive()"
      ],
      "id": "rural-relay",
      "execution_count": null,
      "outputs": []
    },
    {
      "cell_type": "markdown",
      "metadata": {
        "id": "medical-editing"
      },
      "source": [
        "![la-daily-2020](https://github.com/chouhandiksha/bigdataproject/raw/main/media/social-dist/la-daily-2020.png)"
      ],
      "id": "medical-editing"
    },
    {
      "cell_type": "code",
      "metadata": {
        "id": "liable-surrey"
      },
      "source": [
        "#Adding month column for further usage\n",
        "devices_mobility['month'] = devices_mobility['date'].dt.month\n",
        "devices_mobility"
      ],
      "id": "liable-surrey",
      "execution_count": null,
      "outputs": []
    },
    {
      "cell_type": "code",
      "metadata": {
        "id": "seasonal-dairy"
      },
      "source": [
        "#Grouping data on basis of month value\n",
        "grouped_dm = devices_mobility.groupby([devices_mobility['month']]).mean()\n",
        "grouped_dm"
      ],
      "id": "seasonal-dairy",
      "execution_count": null,
      "outputs": []
    },
    {
      "cell_type": "code",
      "metadata": {
        "id": "unauthorized-miracle"
      },
      "source": [
        "d = []\n",
        "for col in ['percentage_completely_home','percentage_part_time_work','percentage_full_time_work']:\n",
        "        for m in range(1,13):\n",
        "            d.append({'month': m, 'column': col, 'value': grouped_dm[col][m]})\n",
        "d = alt.Data(values=d)"
      ],
      "id": "unauthorized-miracle",
      "execution_count": null,
      "outputs": []
    },
    {
      "cell_type": "code",
      "metadata": {
        "id": "electrical-little"
      },
      "source": [
        "#Visualizing data by mobility type\n",
        "\n",
        "title = '{} {}'.format(city,year)\n",
        "alt.Chart(d, title=title).mark_line().encode(\n",
        "    x=alt.X('month:O', title='Month'),\n",
        "    y=alt.Y('value:Q', type='quantitative', title='Percentage'),\n",
        "    color='column:N'\n",
        ").properties(\n",
        "    width=300,\n",
        "    height=250\n",
        ").interactive()"
      ],
      "id": "electrical-little",
      "execution_count": null,
      "outputs": []
    },
    {
      "cell_type": "markdown",
      "metadata": {
        "id": "deluxe-nightlife"
      },
      "source": [
        "![la-monthly-2020](https://github.com/chouhandiksha/bigdataproject/raw/main/media/social-dist/la-monthly-2020.png)"
      ],
      "id": "deluxe-nightlife"
    },
    {
      "cell_type": "code",
      "metadata": {
        "id": "continental-airline"
      },
      "source": [
        ""
      ],
      "id": "continental-airline",
      "execution_count": null,
      "outputs": []
    },
    {
      "cell_type": "code",
      "metadata": {
        "id": "raising-summit"
      },
      "source": [
        ""
      ],
      "id": "raising-summit",
      "execution_count": null,
      "outputs": []
    },
    {
      "cell_type": "code",
      "metadata": {
        "id": "infinite-power"
      },
      "source": [
        ""
      ],
      "id": "infinite-power",
      "execution_count": null,
      "outputs": []
    },
    {
      "cell_type": "code",
      "metadata": {
        "id": "portuguese-visitor"
      },
      "source": [
        ""
      ],
      "id": "portuguese-visitor",
      "execution_count": null,
      "outputs": []
    },
    {
      "cell_type": "code",
      "metadata": {
        "id": "statutory-arizona"
      },
      "source": [
        ""
      ],
      "id": "statutory-arizona",
      "execution_count": null,
      "outputs": []
    },
    {
      "cell_type": "code",
      "metadata": {
        "id": "academic-scope"
      },
      "source": [
        ""
      ],
      "id": "academic-scope",
      "execution_count": null,
      "outputs": []
    }
  ]
}