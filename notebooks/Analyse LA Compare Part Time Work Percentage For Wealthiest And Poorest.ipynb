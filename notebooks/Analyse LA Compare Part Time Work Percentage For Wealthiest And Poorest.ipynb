{
  "nbformat": 4,
  "nbformat_minor": 0,
  "metadata": {
    "colab": {
      "name": "analyse_LA_mobility_poverty_time_series_2020.ipynb",
      "provenance": [],
      "collapsed_sections": [],
      "include_colab_link": true
    },
    "kernelspec": {
      "name": "python3",
      "display_name": "Python 3"
    },
    "language_info": {
      "name": "python"
    }
  },
  "cells": [
    {
      "cell_type": "markdown",
      "metadata": {
        "id": "view-in-github",
        "colab_type": "text"
      },
      "source": [
        "<a href=\"https://colab.research.google.com/github/chouhandiksha/bigdataproject/blob/colab/notebooks/temporal-analysis/part_time_work/analyse_LA_mobility_poverty_2020.ipynb\" target=\"_parent\"><img src=\"https://colab.research.google.com/assets/colab-badge.svg\" alt=\"Open In Colab\"/></a>"
      ]
    },
    {
      "cell_type": "markdown",
      "metadata": {
        "id": "6Vnc5foT5YFx"
      },
      "source": [
        "**Spark SQL Documentation:** \n",
        "https://spark.apache.org/docs/2.2.0/sql-programming-guide.html"
      ]
    },
    {
      "cell_type": "code",
      "metadata": {
        "id": "XXJ-cpgT3moz",
        "colab": {
          "base_uri": "https://localhost:8080/"
        },
        "outputId": "39b9aad7-244d-4567-cbfe-f132f7109e24"
      },
      "source": [
        "# add time information at the end of every cell\n",
        "!pip install ipython-autotime\n",
        "%load_ext autotime"
      ],
      "execution_count": 1,
      "outputs": [
        {
          "output_type": "stream",
          "text": [
            "Collecting ipython-autotime\n",
            "  Downloading https://files.pythonhosted.org/packages/b4/c9/b413a24f759641bc27ef98c144b590023c8038dfb8a3f09e713e9dff12c1/ipython_autotime-0.3.1-py2.py3-none-any.whl\n",
            "Requirement already satisfied: ipython in /usr/local/lib/python3.7/dist-packages (from ipython-autotime) (5.5.0)\n",
            "Requirement already satisfied: traitlets>=4.2 in /usr/local/lib/python3.7/dist-packages (from ipython->ipython-autotime) (5.0.5)\n",
            "Requirement already satisfied: decorator in /usr/local/lib/python3.7/dist-packages (from ipython->ipython-autotime) (4.4.2)\n",
            "Requirement already satisfied: simplegeneric>0.8 in /usr/local/lib/python3.7/dist-packages (from ipython->ipython-autotime) (0.8.1)\n",
            "Requirement already satisfied: pexpect; sys_platform != \"win32\" in /usr/local/lib/python3.7/dist-packages (from ipython->ipython-autotime) (4.8.0)\n",
            "Requirement already satisfied: pickleshare in /usr/local/lib/python3.7/dist-packages (from ipython->ipython-autotime) (0.7.5)\n",
            "Requirement already satisfied: pygments in /usr/local/lib/python3.7/dist-packages (from ipython->ipython-autotime) (2.6.1)\n",
            "Requirement already satisfied: prompt-toolkit<2.0.0,>=1.0.4 in /usr/local/lib/python3.7/dist-packages (from ipython->ipython-autotime) (1.0.18)\n",
            "Requirement already satisfied: setuptools>=18.5 in /usr/local/lib/python3.7/dist-packages (from ipython->ipython-autotime) (56.0.0)\n",
            "Requirement already satisfied: ipython-genutils in /usr/local/lib/python3.7/dist-packages (from traitlets>=4.2->ipython->ipython-autotime) (0.2.0)\n",
            "Requirement already satisfied: ptyprocess>=0.5 in /usr/local/lib/python3.7/dist-packages (from pexpect; sys_platform != \"win32\"->ipython->ipython-autotime) (0.7.0)\n",
            "Requirement already satisfied: six>=1.9.0 in /usr/local/lib/python3.7/dist-packages (from prompt-toolkit<2.0.0,>=1.0.4->ipython->ipython-autotime) (1.15.0)\n",
            "Requirement already satisfied: wcwidth in /usr/local/lib/python3.7/dist-packages (from prompt-toolkit<2.0.0,>=1.0.4->ipython->ipython-autotime) (0.2.5)\n",
            "Installing collected packages: ipython-autotime\n",
            "Successfully installed ipython-autotime-0.3.1\n",
            "time: 2.06 ms (started: 2021-04-22 19:04:24 +00:00)\n"
          ],
          "name": "stdout"
        }
      ]
    },
    {
      "cell_type": "code",
      "metadata": {
        "colab": {
          "base_uri": "https://localhost:8080/"
        },
        "id": "DggpqrsrscGi",
        "outputId": "551a08f0-6542-4da5-adc4-0c567a07bdb5"
      },
      "source": [
        "# Install required dependancies\n",
        "!pip install pyspark\n",
        "!apt install openjdk-8-jdk-headless -qq\n",
        "import os\n",
        "os.environ[\"JAVA_HOME\"] = \"/usr/lib/jvm/java-8-openjdk-amd64\""
      ],
      "execution_count": 2,
      "outputs": [
        {
          "output_type": "stream",
          "text": [
            "Collecting pyspark\n",
            "\u001b[?25l  Downloading https://files.pythonhosted.org/packages/45/b0/9d6860891ab14a39d4bddf80ba26ce51c2f9dc4805e5c6978ac0472c120a/pyspark-3.1.1.tar.gz (212.3MB)\n",
            "\u001b[K     |████████████████████████████████| 212.3MB 67kB/s \n",
            "\u001b[?25hCollecting py4j==0.10.9\n",
            "\u001b[?25l  Downloading https://files.pythonhosted.org/packages/9e/b6/6a4fb90cd235dc8e265a6a2067f2a2c99f0d91787f06aca4bcf7c23f3f80/py4j-0.10.9-py2.py3-none-any.whl (198kB)\n",
            "\u001b[K     |████████████████████████████████| 204kB 40.1MB/s \n",
            "\u001b[?25hBuilding wheels for collected packages: pyspark\n",
            "  Building wheel for pyspark (setup.py) ... \u001b[?25l\u001b[?25hdone\n",
            "  Created wheel for pyspark: filename=pyspark-3.1.1-py2.py3-none-any.whl size=212767604 sha256=fc226ba388632a3c1d558878c47446bac90bf9fe25b2d868a78429352b85f3ee\n",
            "  Stored in directory: /root/.cache/pip/wheels/0b/90/c0/01de724414ef122bd05f056541fb6a0ecf47c7ca655f8b3c0f\n",
            "Successfully built pyspark\n",
            "Installing collected packages: py4j, pyspark\n",
            "Successfully installed py4j-0.10.9 pyspark-3.1.1\n",
            "The following package was automatically installed and is no longer required:\n",
            "  libnvidia-common-460\n",
            "Use 'apt autoremove' to remove it.\n",
            "The following additional packages will be installed:\n",
            "  openjdk-8-jre-headless\n",
            "Suggested packages:\n",
            "  openjdk-8-demo openjdk-8-source libnss-mdns fonts-dejavu-extra\n",
            "  fonts-ipafont-gothic fonts-ipafont-mincho fonts-wqy-microhei\n",
            "  fonts-wqy-zenhei fonts-indic\n",
            "The following NEW packages will be installed:\n",
            "  openjdk-8-jdk-headless openjdk-8-jre-headless\n",
            "0 upgraded, 2 newly installed, 0 to remove and 34 not upgraded.\n",
            "Need to get 36.5 MB of archives.\n",
            "After this operation, 143 MB of additional disk space will be used.\n",
            "Selecting previously unselected package openjdk-8-jre-headless:amd64.\n",
            "(Reading database ... 160690 files and directories currently installed.)\n",
            "Preparing to unpack .../openjdk-8-jre-headless_8u282-b08-0ubuntu1~18.04_amd64.deb ...\n",
            "Unpacking openjdk-8-jre-headless:amd64 (8u282-b08-0ubuntu1~18.04) ...\n",
            "Selecting previously unselected package openjdk-8-jdk-headless:amd64.\n",
            "Preparing to unpack .../openjdk-8-jdk-headless_8u282-b08-0ubuntu1~18.04_amd64.deb ...\n",
            "Unpacking openjdk-8-jdk-headless:amd64 (8u282-b08-0ubuntu1~18.04) ...\n",
            "Setting up openjdk-8-jre-headless:amd64 (8u282-b08-0ubuntu1~18.04) ...\n",
            "update-alternatives: using /usr/lib/jvm/java-8-openjdk-amd64/jre/bin/orbd to provide /usr/bin/orbd (orbd) in auto mode\n",
            "update-alternatives: using /usr/lib/jvm/java-8-openjdk-amd64/jre/bin/servertool to provide /usr/bin/servertool (servertool) in auto mode\n",
            "update-alternatives: using /usr/lib/jvm/java-8-openjdk-amd64/jre/bin/tnameserv to provide /usr/bin/tnameserv (tnameserv) in auto mode\n",
            "Setting up openjdk-8-jdk-headless:amd64 (8u282-b08-0ubuntu1~18.04) ...\n",
            "update-alternatives: using /usr/lib/jvm/java-8-openjdk-amd64/bin/idlj to provide /usr/bin/idlj (idlj) in auto mode\n",
            "update-alternatives: using /usr/lib/jvm/java-8-openjdk-amd64/bin/wsimport to provide /usr/bin/wsimport (wsimport) in auto mode\n",
            "update-alternatives: using /usr/lib/jvm/java-8-openjdk-amd64/bin/jsadebugd to provide /usr/bin/jsadebugd (jsadebugd) in auto mode\n",
            "update-alternatives: using /usr/lib/jvm/java-8-openjdk-amd64/bin/native2ascii to provide /usr/bin/native2ascii (native2ascii) in auto mode\n",
            "update-alternatives: using /usr/lib/jvm/java-8-openjdk-amd64/bin/javah to provide /usr/bin/javah (javah) in auto mode\n",
            "update-alternatives: using /usr/lib/jvm/java-8-openjdk-amd64/bin/hsdb to provide /usr/bin/hsdb (hsdb) in auto mode\n",
            "update-alternatives: using /usr/lib/jvm/java-8-openjdk-amd64/bin/clhsdb to provide /usr/bin/clhsdb (clhsdb) in auto mode\n",
            "update-alternatives: using /usr/lib/jvm/java-8-openjdk-amd64/bin/xjc to provide /usr/bin/xjc (xjc) in auto mode\n",
            "update-alternatives: using /usr/lib/jvm/java-8-openjdk-amd64/bin/schemagen to provide /usr/bin/schemagen (schemagen) in auto mode\n",
            "update-alternatives: using /usr/lib/jvm/java-8-openjdk-amd64/bin/extcheck to provide /usr/bin/extcheck (extcheck) in auto mode\n",
            "update-alternatives: using /usr/lib/jvm/java-8-openjdk-amd64/bin/jhat to provide /usr/bin/jhat (jhat) in auto mode\n",
            "update-alternatives: using /usr/lib/jvm/java-8-openjdk-amd64/bin/wsgen to provide /usr/bin/wsgen (wsgen) in auto mode\n",
            "time: 55.1 s (started: 2021-04-22 19:04:24 +00:00)\n"
          ],
          "name": "stdout"
        }
      ]
    },
    {
      "cell_type": "code",
      "metadata": {
        "id": "ppkG73kRsei0",
        "colab": {
          "base_uri": "https://localhost:8080/"
        },
        "outputId": "0412598e-fa6d-426e-fa00-aac6b29220eb"
      },
      "source": [
        "# Import modules\n",
        "import numpy as np\n",
        "import pandas as pd\n",
        "import datetime\n",
        "import matplotlib.pyplot as plt\n",
        "from pathlib import Path\n",
        "%matplotlib inline\n",
        "\n",
        "import pyspark\n",
        "from pyspark.sql import *\n",
        "from pyspark.sql.types import *\n",
        "from pyspark.sql.functions import *\n",
        "from pyspark import SparkContext, SparkConf"
      ],
      "execution_count": 3,
      "outputs": [
        {
          "output_type": "stream",
          "text": [
            "time: 105 ms (started: 2021-04-22 19:05:20 +00:00)\n"
          ],
          "name": "stdout"
        }
      ]
    },
    {
      "cell_type": "code",
      "metadata": {
        "colab": {
          "base_uri": "https://localhost:8080/"
        },
        "id": "pYm9-j_fflal",
        "outputId": "ea1634d6-98b3-4d8a-d88b-11495dad6b25"
      },
      "source": [
        "import altair as alt\n",
        "alt.data_transformers.disable_max_rows()"
      ],
      "execution_count": 4,
      "outputs": [
        {
          "output_type": "execute_result",
          "data": {
            "text/plain": [
              "DataTransformerRegistry.enable('default')"
            ]
          },
          "metadata": {
            "tags": []
          },
          "execution_count": 4
        },
        {
          "output_type": "stream",
          "text": [
            "time: 321 ms (started: 2021-04-22 19:05:20 +00:00)\n"
          ],
          "name": "stdout"
        }
      ]
    },
    {
      "cell_type": "code",
      "metadata": {
        "id": "1oe1ksN5skMG",
        "colab": {
          "base_uri": "https://localhost:8080/"
        },
        "outputId": "ff1c9edd-a540-4d7c-8c45-03522af83dfa"
      },
      "source": [
        "# create the session\n",
        "conf = SparkConf().set(\"spark.ui.port\", \"4050\")\n",
        "\n",
        "# create the context\n",
        "sc = pyspark.SparkContext(conf=conf)\n",
        "spark = SparkSession.builder.getOrCreate()"
      ],
      "execution_count": 5,
      "outputs": [
        {
          "output_type": "stream",
          "text": [
            "time: 5.07 s (started: 2021-04-22 19:05:20 +00:00)\n"
          ],
          "name": "stdout"
        }
      ]
    },
    {
      "cell_type": "code",
      "metadata": {
        "id": "zdPF-0xIrDm9",
        "colab": {
          "base_uri": "https://localhost:8080/"
        },
        "outputId": "d30ff26b-05f1-4991-9818-691160a9d040"
      },
      "source": [
        "#sc.stop()"
      ],
      "execution_count": 6,
      "outputs": [
        {
          "output_type": "stream",
          "text": [
            "time: 2.84 ms (started: 2021-04-22 19:05:25 +00:00)\n"
          ],
          "name": "stdout"
        }
      ]
    },
    {
      "cell_type": "code",
      "metadata": {
        "colab": {
          "base_uri": "https://localhost:8080/"
        },
        "id": "WGXwI2d1szaO",
        "outputId": "3b489696-fa7f-4856-f3f3-c83a9581e5e9"
      },
      "source": [
        "# Mount drive with data\n",
        "from google.colab import drive\n",
        "drive.mount('/content/drive')"
      ],
      "execution_count": 7,
      "outputs": [
        {
          "output_type": "stream",
          "text": [
            "Mounted at /content/drive\n",
            "time: 22.7 s (started: 2021-04-22 19:05:25 +00:00)\n"
          ],
          "name": "stdout"
        }
      ]
    },
    {
      "cell_type": "code",
      "metadata": {
        "id": "grN2uNcFvloa",
        "colab": {
          "base_uri": "https://localhost:8080/"
        },
        "outputId": "88ed20eb-8f85-43a3-936a-db4479f352f2"
      },
      "source": [
        "# Set path to data folder\n",
        "path = Path('drive/MyDrive/big-data-project/data/clean-data')\n",
        "city = 'la'"
      ],
      "execution_count": 8,
      "outputs": [
        {
          "output_type": "stream",
          "text": [
            "time: 5.86 ms (started: 2021-04-22 19:05:48 +00:00)\n"
          ],
          "name": "stdout"
        }
      ]
    },
    {
      "cell_type": "code",
      "metadata": {
        "colab": {
          "base_uri": "https://localhost:8080/"
        },
        "id": "BvCrFmU2tGXY",
        "outputId": "5040ce4c-eb69-4aa7-b6a2-94a18df3efc4"
      },
      "source": [
        "# Read data into dataframe\n",
        "df_soc = spark.read.format('csv').option('header','true').option('quote',\"\\\"\").option('escape',\"\\\"\").load(str(path/city/'social/2020/*.csv'))\n",
        "df_soc.show()"
      ],
      "execution_count": 9,
      "outputs": [
        {
          "output_type": "stream",
          "text": [
            "+---+------------+--------------------+--------------------+------------+---------------------------+--------------------------+------------------------------------------+----------------------------+----------------------+------------------------+--------------------+-------------------------------+-------------------------------+--------------------+-------------------------+--------------------------+----------------------+----------------------------+---------------------------+-----------------------------+\n",
            "|_c0|         cbg|    date_range_start|      date_range_end|device_count|distance_traveled_from_home|bucketed_distance_traveled|median_dwell_at_bucketed_distance_traveled|completely_home_device_count|median_home_dwell_time|bucketed_home_dwell_time|at_home_by_each_hour|part_time_work_behavior_devices|full_time_work_behavior_devices|    destination_cbgs|delivery_behavior_devices|median_non_home_dwell_time|candidate_device_count|bucketed_away_from_home_time|median_percentage_time_home|bucketed_percentage_time_home|\n",
            "+---+------------+--------------------+--------------------+------------+---------------------------+--------------------------+------------------------------------------+----------------------------+----------------------+------------------------+--------------------+-------------------------------+-------------------------------+--------------------+-------------------------+--------------------------+----------------------+----------------------------+---------------------------+-----------------------------+\n",
            "|  0|060371831013|2020-02-07T00:00:...|2020-02-08T00:00:...|          45|                       5769|      {\"16001-50000\":4,...|                      {\"16001-50000\":29...|                           6|                   558|    {\"721-1080\":9,\"36...|[24,23,24,23,21,2...|                              1|                              1|{\"060374309012\":1...|                        1|                       112|                    89|        {\"481-540\":1,\"541...|                         64|         {\"26-50\":4,\"51-75...|\n",
            "|  1|060374034022|2020-02-07T00:00:...|2020-02-08T00:00:...|         155|                       5438|      {\"16001-50000\":32...|                      {\"16001-50000\":99...|                          24|                     0|    {\"721-1080\":16,\"3...|[42,41,38,40,40,4...|                             12|                              4|{\"060374034041\":3...|                        1|                       133|                   536|        {\"21-45\":16,\"481-...|                          0|         {\"26-50\":4,\"51-75...|\n",
            "|  2|060375326041|2020-02-07T00:00:...|2020-02-08T00:00:...|          31|                       6670|      {\"16001-50000\":2,...|                      {\"16001-50000\":22...|                           4|                   693|    {\"721-1080\":7,\"36...|[23,20,25,20,20,2...|                              6|                              2|{\"060379800311\":1...|                        5|                       268|                    71|        {\"21-45\":1,\"481-5...|                         66|         {\"0-25\":6,\"76-100...|\n",
            "|  3|060375544031|2020-02-07T00:00:...|2020-02-08T00:00:...|         130|                       7054|      {\"16001-50000\":16...|                      {\"16001-50000\":71...|                          27|                   630|    {\"721-1080\":25,\"3...|[79,77,79,74,76,7...|                             16|                             10|{\"060376700012\":1...|                        5|                       187|                   295|        {\"21-45\":2,\"481-5...|                         69|         {\"26-50\":6,\"51-75...|\n",
            "|  4|060375718003|2020-02-07T00:00:...|2020-02-08T00:00:...|          35|                       4900|      {\"16001-50000\":3,...|                      {\"16001-50000\":12...|                          10|                   684|    {\"721-1080\":5,\"36...|[20,19,17,18,23,1...|                              4|                              1|{\"060376210011\":1...|                        1|                       217|                    52|        {\"21-45\":1,\"481-5...|                         75|         {\"0-25\":3,\"76-100...|\n",
            "|  5|060590018024|2020-02-07T00:00:...|2020-02-08T00:00:...|          38|                       4466|      {\"16001-50000\":3,...|                      {\"16001-50000\":14...|                          13|                   550|    {\"721-1080\":9,\"36...|[27,26,27,28,26,2...|                              7|                              4|{\"060590740051\":1...|                        4|                       258|                    94|        {\"481-540\":2,\"541...|                         61|         {\"0-25\":4,\"76-100...|\n",
            "|  6|060590320463|2020-02-07T00:00:...|2020-02-08T00:00:...|         184|                       8950|      {\"16001-50000\":31...|                      {\"16001-50000\":90...|                          24|                   757|    {\"721-1080\":62,\"3...|[130,131,129,130,...|                             38|                             12|{\"060374084023\":1...|                       13|                       281|                   239|        {\"21-45\":6,\"481-5...|                         71|         {\"26-50\":17,\"51-7...|\n",
            "|  7|060590626281|2020-02-07T00:00:...|2020-02-08T00:00:...|         108|                       7471|      {\"16001-50000\":3,...|                      {\"16001-50000\":28...|                          32|                   107|    {\"721-1080\":8,\"36...|[45,39,39,41,40,4...|                              9|                              1|{\"040131141001\":1...|                        1|                        49|                   424|        {\"21-45\":10,\"481-...|                         77|         {\"0-25\":40,\"76-10...|\n",
            "|  8|060371374011|2020-02-07T00:00:...|2020-02-08T00:00:...|          72|                       3404|      {\"16001-50000\":1,...|                      {\"16001-50000\":18...|                          30|                   498|    {\"721-1080\":12,\"3...|[42,39,40,41,39,3...|                              3|                              1|{\"060371374022\":1...|                        1|                        26|                   194|        {\"21-45\":5,\"481-5...|                         90|         {\"26-50\":1,\"51-75...|\n",
            "|  9|060372398012|2020-02-07T00:00:...|2020-02-08T00:00:...|          41|                       7322|      {\"16001-50000\":4,...|                      {\"16001-50000\":96...|                          15|                   662|    {\"721-1080\":4,\"36...|[24,26,25,27,26,2...|                              1|                              4|{\"060372286001\":2...|                        1|                       102|                   132|        {\"21-45\":1,\"481-5...|                         85|         {\"0-25\":10,\"76-10...|\n",
            "| 10|060373009011|2020-02-07T00:00:...|2020-02-08T00:00:...|          82|                       7465|      {\"16001-50000\":6,...|                      {\"16001-50000\":39...|                          20|                   820|    {\"721-1080\":28,\"3...|[66,61,62,63,63,6...|                             16|                              6|{\"060374309012\":1...|                        2|                       191|                   134|        {\"21-45\":3,\"481-5...|                         74|         {\"26-50\":1,\"51-75...|\n",
            "| 11|060375418021|2020-02-07T00:00:...|2020-02-08T00:00:...|          49|                       6274|      {\"16001-50000\":2,...|                      {\"16001-50000\":44...|                          12|                   635|    {\"721-1080\":11,\"3...|[27,27,27,26,27,3...|                              3|                              4|{\"060375514021\":1...|                        3|                       222|                   125|        {\"21-45\":3,\"481-5...|                         75|         {\"26-50\":5,\"51-75...|\n",
            "| 12|060375431003|2020-02-07T00:00:...|2020-02-08T00:00:...|          37|                       7095|      {\"16001-50000\":2,...|                      {\"16001-50000\":36...|                           5|                   686|    {\"721-1080\":9,\"36...|[21,25,23,23,21,2...|                              1|                              2|{\"060372151011\":1...|                        3|                       211|                    88|        {\"21-45\":2,\"481-5...|                         67|         {\"0-25\":10,\"76-10...|\n",
            "| 13|060376012021|2020-02-07T00:00:...|2020-02-08T00:00:...|          56|                       3709|      {\"16001-50000\":3,...|                      {\"16001-50000\":82...|                          14|                   749|    {\"721-1080\":15,\"3...|[37,35,38,36,32,3...|                              1|                              4|{\"060371046201\":1...|                        1|                       147|                   129|        {\"21-45\":1,\"481-5...|                         80|         {\"26-50\":6,\"51-75...|\n",
            "| 14|060379800211|2020-02-07T00:00:...|2020-02-08T00:00:...|          50|                       9433|      {\"16001-50000\":6,...|                      {\"16001-50000\":50...|                           3|                     0|    {\">1080\":1,\"<60\":...|[1,4,3,2,2,1,2,2,...|                              3|                              1|{\"060371012202\":1...|                        1|                       117|                   186|        {\"21-45\":7,\"481-5...|                          0|         {\"0-25\":41,\"76-10...|\n",
            "| 15|060590871034|2020-02-07T00:00:...|2020-02-08T00:00:...|          88|                       2583|      {\"16001-50000\":5,...|                      {\"16001-50000\":81...|                          30|                   687|    {\"721-1080\":12,\"3...|[55,54,57,56,53,5...|                              7|                              8|{\"060375552121\":1...|                        3|                       123|                   202|        {\"21-45\":1,\"481-5...|                         80|         {\"26-50\":10,\"51-7...|\n",
            "| 16|060372713005|2020-02-07T00:00:...|2020-02-08T00:00:...|          30|                       4601|      {\"16001-50000\":5,...|                      {\"16001-50000\":32...|                           3|                   734|    {\"721-1080\":7,\"36...|[20,18,23,18,18,1...|                              2|                              2|{\"060070006041\":1...|                        1|                       297|                    61|        {\"21-45\":4,\"481-5...|                         70|         {\"0-25\":9,\"76-100...|\n",
            "| 17|060372766041|2020-02-07T00:00:...|2020-02-08T00:00:...|         137|                       4947|      {\"16001-50000\":16...|                      {\"16001-50000\":80...|                          24|                   662|    {\"721-1080\":37,\"3...|[83,84,87,81,85,8...|                             20|                              8|{\"060375439031\":2...|                        4|                       223|                   246|        {\"21-45\":6,\"481-5...|                         70|         {\"0-25\":18,\"76-10...|\n",
            "| 18|060374334012|2020-02-07T00:00:...|2020-02-08T00:00:...|          35|                       5940|      {\"16001-50000\":7,...|                      {\"16001-50000\":10...|                           6|                   722|    {\"721-1080\":9,\"36...|[21,21,19,19,24,1...|                              6|                              2|{\"060374334012\":2...|                        1|                       338|                    77|        {\"21-45\":1,\"481-5...|                         67|         {\"26-50\":3,\"51-75...|\n",
            "| 19|060375017003|2020-02-07T00:00:...|2020-02-08T00:00:...|          38|                       3849|      {\"16001-50000\":5,...|                      {\"16001-50000\":22...|                           6|                   710|    {\"721-1080\":13,\"3...|[27,26,27,30,28,2...|                              4|                              1|{\"060374086253\":1...|                        1|                       315|                    95|        {\"21-45\":1,\"481-5...|                         73|         {\"0-25\":4,\"76-100...|\n",
            "+---+------------+--------------------+--------------------+------------+---------------------------+--------------------------+------------------------------------------+----------------------------+----------------------+------------------------+--------------------+-------------------------------+-------------------------------+--------------------+-------------------------+--------------------------+----------------------+----------------------------+---------------------------+-----------------------------+\n",
            "only showing top 20 rows\n",
            "\n",
            "time: 31.9 s (started: 2021-04-22 19:05:48 +00:00)\n"
          ],
          "name": "stdout"
        }
      ]
    },
    {
      "cell_type": "code",
      "metadata": {
        "colab": {
          "base_uri": "https://localhost:8080/"
        },
        "id": "wh747sqcHi4-",
        "outputId": "c4c3e375-9966-4cfa-c239-b4272c2a23f7"
      },
      "source": [
        "df_soc.createOrReplaceTempView('clean_la')\n",
        "df_soc = spark.sql('SELECT cbg, date_range_start as date, device_count, part_time_work_behavior_devices FROM clean_la WHERE device_count > 5')\n",
        "df_soc.show()"
      ],
      "execution_count": 10,
      "outputs": [
        {
          "output_type": "stream",
          "text": [
            "+------------+--------------------+------------+-------------------------------+\n",
            "|         cbg|                date|device_count|part_time_work_behavior_devices|\n",
            "+------------+--------------------+------------+-------------------------------+\n",
            "|060371831013|2020-02-07T00:00:...|          45|                              1|\n",
            "|060374034022|2020-02-07T00:00:...|         155|                             12|\n",
            "|060375326041|2020-02-07T00:00:...|          31|                              6|\n",
            "|060375544031|2020-02-07T00:00:...|         130|                             16|\n",
            "|060375718003|2020-02-07T00:00:...|          35|                              4|\n",
            "|060590018024|2020-02-07T00:00:...|          38|                              7|\n",
            "|060590320463|2020-02-07T00:00:...|         184|                             38|\n",
            "|060590626281|2020-02-07T00:00:...|         108|                              9|\n",
            "|060371374011|2020-02-07T00:00:...|          72|                              3|\n",
            "|060372398012|2020-02-07T00:00:...|          41|                              1|\n",
            "|060373009011|2020-02-07T00:00:...|          82|                             16|\n",
            "|060375418021|2020-02-07T00:00:...|          49|                              3|\n",
            "|060375431003|2020-02-07T00:00:...|          37|                              1|\n",
            "|060376012021|2020-02-07T00:00:...|          56|                              1|\n",
            "|060379800211|2020-02-07T00:00:...|          50|                              3|\n",
            "|060590871034|2020-02-07T00:00:...|          88|                              7|\n",
            "|060372713005|2020-02-07T00:00:...|          30|                              2|\n",
            "|060372766041|2020-02-07T00:00:...|         137|                             20|\n",
            "|060374334012|2020-02-07T00:00:...|          35|                              6|\n",
            "|060375017003|2020-02-07T00:00:...|          38|                              4|\n",
            "+------------+--------------------+------------+-------------------------------+\n",
            "only showing top 20 rows\n",
            "\n",
            "time: 1.12 s (started: 2021-04-22 19:06:20 +00:00)\n"
          ],
          "name": "stdout"
        }
      ]
    },
    {
      "cell_type": "code",
      "metadata": {
        "id": "nlVhrn2-Rp_O",
        "colab": {
          "base_uri": "https://localhost:8080/"
        },
        "outputId": "1daf6cc9-f7c1-4da7-fa5c-d0fe7039380d"
      },
      "source": [
        "df_soc = df_soc.withColumn(\"date\",\n",
        "    df_soc['date'].substr(0, 10))"
      ],
      "execution_count": 11,
      "outputs": [
        {
          "output_type": "stream",
          "text": [
            "time: 67.7 ms (started: 2021-04-22 19:06:21 +00:00)\n"
          ],
          "name": "stdout"
        }
      ]
    },
    {
      "cell_type": "code",
      "metadata": {
        "colab": {
          "base_uri": "https://localhost:8080/"
        },
        "id": "2ryRoACoJMPZ",
        "outputId": "38a29456-367d-4df0-df2e-0fb14d377eb4"
      },
      "source": [
        "df_soc.show()"
      ],
      "execution_count": 12,
      "outputs": [
        {
          "output_type": "stream",
          "text": [
            "+------------+----------+------------+-------------------------------+\n",
            "|         cbg|      date|device_count|part_time_work_behavior_devices|\n",
            "+------------+----------+------------+-------------------------------+\n",
            "|060371831013|2020-02-07|          45|                              1|\n",
            "|060374034022|2020-02-07|         155|                             12|\n",
            "|060375326041|2020-02-07|          31|                              6|\n",
            "|060375544031|2020-02-07|         130|                             16|\n",
            "|060375718003|2020-02-07|          35|                              4|\n",
            "|060590018024|2020-02-07|          38|                              7|\n",
            "|060590320463|2020-02-07|         184|                             38|\n",
            "|060590626281|2020-02-07|         108|                              9|\n",
            "|060371374011|2020-02-07|          72|                              3|\n",
            "|060372398012|2020-02-07|          41|                              1|\n",
            "|060373009011|2020-02-07|          82|                             16|\n",
            "|060375418021|2020-02-07|          49|                              3|\n",
            "|060375431003|2020-02-07|          37|                              1|\n",
            "|060376012021|2020-02-07|          56|                              1|\n",
            "|060379800211|2020-02-07|          50|                              3|\n",
            "|060590871034|2020-02-07|          88|                              7|\n",
            "|060372713005|2020-02-07|          30|                              2|\n",
            "|060372766041|2020-02-07|         137|                             20|\n",
            "|060374334012|2020-02-07|          35|                              6|\n",
            "|060375017003|2020-02-07|          38|                              4|\n",
            "+------------+----------+------------+-------------------------------+\n",
            "only showing top 20 rows\n",
            "\n",
            "time: 336 ms (started: 2021-04-22 19:06:21 +00:00)\n"
          ],
          "name": "stdout"
        }
      ]
    },
    {
      "cell_type": "code",
      "metadata": {
        "colab": {
          "base_uri": "https://localhost:8080/"
        },
        "id": "UL4qIhZu7JKC",
        "outputId": "20d16104-850a-47ea-f8be-f438cf3918e8"
      },
      "source": [
        "# Add completely home percentage column\n",
        "#df_soc = df_soc.withColumn('completely_home_percentage', (df_soc['completely_home_device_count']/df_soc['device_count']) * 100)\n",
        "df_soc = df_soc.withColumn('part_time_work_percentage', (df_soc['part_time_work_behavior_devices']/df_soc['device_count']) * 100)\n",
        "#df_soc = df_soc.withColumn('full_time_work_percentage', (df_soc['full_time_work_behavior_devices']/df_soc['device_count']) * 100)\n",
        "\n",
        "#df_soc.show()"
      ],
      "execution_count": 13,
      "outputs": [
        {
          "output_type": "stream",
          "text": [
            "time: 74.1 ms (started: 2021-04-22 19:06:21 +00:00)\n"
          ],
          "name": "stdout"
        }
      ]
    },
    {
      "cell_type": "code",
      "metadata": {
        "colab": {
          "base_uri": "https://localhost:8080/"
        },
        "id": "OAUIODseCoSg",
        "outputId": "71eb3c87-4cbe-4a63-f5bd-03e3f3007a78"
      },
      "source": [
        "#Create temp view\n",
        "df_soc.createOrReplaceTempView('mobility')"
      ],
      "execution_count": 14,
      "outputs": [
        {
          "output_type": "stream",
          "text": [
            "time: 36.1 ms (started: 2021-04-22 19:06:21 +00:00)\n"
          ],
          "name": "stdout"
        }
      ]
    },
    {
      "cell_type": "markdown",
      "metadata": {
        "id": "Sj4xc1gTpm2X"
      },
      "source": [
        "\n",
        "\n",
        "---\n",
        "\n",
        "\n",
        "**Demographic data**\n",
        "\n",
        "\n",
        "\n",
        "\n",
        "\n",
        "---\n",
        "\n"
      ]
    },
    {
      "cell_type": "code",
      "metadata": {
        "colab": {
          "base_uri": "https://localhost:8080/"
        },
        "id": "1SVVsXtuzqRf",
        "outputId": "411932d0-e551-49a8-82bb-78bb0703900a"
      },
      "source": [
        "# Read poverty data\n",
        "# Read data into RDD\n",
        "df_demographic = spark.read.format('csv').option('header','true').option('quote',\"\\\"\").option('escape',\"\\\"\").load(str(path/city/'la.csv'))\n",
        "df_demographic.createOrReplaceTempView('demographic')\n",
        "df_demographic.show()"
      ],
      "execution_count": 15,
      "outputs": [
        {
          "output_type": "stream",
          "text": [
            "+------------+---------+------------------+------------------+\n",
            "|         cbg|pop_total|poverty_percentage|    perc_whiteonly|\n",
            "+------------+---------+------------------+------------------+\n",
            "|060373104003|     1286|17.884914463452567| 69.51788491446345|\n",
            "|060590865023|     2545|22.789783889980352| 85.34381139489194|\n",
            "|060376510024|     1285|               0.0|42.490272373540854|\n",
            "|060376511011|     2708| 7.745398773006134| 50.70162481536189|\n",
            "|060590994023|      672|12.969283276450511| 38.54166666666667|\n",
            "|060590995094|      342| 17.83625730994152| 77.48538011695906|\n",
            "|060376511012|     2483|2.6178010471204187|50.302053966975436|\n",
            "|060376512011|      859|2.8846153846153846| 82.42142025611176|\n",
            "|060376512012|     1179| 1.441899915182358|  74.1306191687871|\n",
            "|060376512014|      989|2.4266936299292214| 70.57633973710819|\n",
            "|060376512211|     3373|  9.95684340320592| 40.61666172546695|\n",
            "|060590995092|      938| 5.756929637526652|  84.9680170575693|\n",
            "|060590995095|      576|14.583333333333334|           73.4375|\n",
            "|060590995113|      577|10.918544194107453| 97.22703639514731|\n",
            "|060372164011|     2111|15.016579819990525| 82.42539081004263|\n",
            "|060372164012|     2315| 16.54427645788337| 79.87041036717063|\n",
            "|060372164021|     1611| 7.759155803848541| 80.57107386716325|\n",
            "|060375773004|     1501|10.459693537641572|   82.145236508994|\n",
            "|060375768021|     2320|16.786678667866788|61.594827586206904|\n",
            "|060375744006|      708|1.1299435028248588| 88.84180790960453|\n",
            "+------------+---------+------------------+------------------+\n",
            "only showing top 20 rows\n",
            "\n",
            "time: 843 ms (started: 2021-04-22 19:06:21 +00:00)\n"
          ],
          "name": "stdout"
        }
      ]
    },
    {
      "cell_type": "code",
      "metadata": {
        "colab": {
          "base_uri": "https://localhost:8080/"
        },
        "id": "Ff9bk8_6qBQ2",
        "outputId": "ef478527-6629-4977-ddab-e4949ffd8b8e"
      },
      "source": [
        "df_mob_demo = spark.sql('SELECT mobility.*, demographic.poverty_percentage from mobility INNER JOIN demographic ON mobility.cbg = demographic.cbg')\n",
        "df_mob_demo.createOrReplaceTempView('demographic_mobility')\n",
        "df_mob_demo.show()\n"
      ],
      "execution_count": 16,
      "outputs": [
        {
          "output_type": "stream",
          "text": [
            "+------------+----------+------------+-------------------------------+-------------------------+------------------+\n",
            "|         cbg|      date|device_count|part_time_work_behavior_devices|part_time_work_percentage|poverty_percentage|\n",
            "+------------+----------+------------+-------------------------------+-------------------------+------------------+\n",
            "|060371831013|2020-02-07|          45|                              1|       2.2222222222222223|15.450643776824036|\n",
            "|060374034022|2020-02-07|         155|                             12|        7.741935483870968| 10.67193675889328|\n",
            "|060375326041|2020-02-07|          31|                              6|        19.35483870967742| 27.79187817258883|\n",
            "|060375544031|2020-02-07|         130|                             16|       12.307692307692308|  25.3447633246366|\n",
            "|060375718003|2020-02-07|          35|                              4|       11.428571428571429|3.1537450722733245|\n",
            "|060590018024|2020-02-07|          38|                              7|       18.421052631578945|29.130434782608695|\n",
            "|060590320463|2020-02-07|         184|                             38|       20.652173913043477|3.0450132391879965|\n",
            "|060590626281|2020-02-07|         108|                              9|        8.333333333333332|12.167606768734892|\n",
            "|060371374011|2020-02-07|          72|                              3|        4.166666666666666|  2.89193302891933|\n",
            "|060372398012|2020-02-07|          41|                              1|       2.4390243902439024|36.773090079817564|\n",
            "|060373009011|2020-02-07|          82|                             16|        19.51219512195122|6.4561403508771935|\n",
            "|060375418021|2020-02-07|          49|                              3|        6.122448979591836|27.102803738317753|\n",
            "|060375431003|2020-02-07|          37|                              1|       2.7027027027027026|3.3410138248847927|\n",
            "|060376012021|2020-02-07|          56|                              1|       1.7857142857142856|28.826815642458097|\n",
            "|060379800211|2020-02-07|          50|                              3|                      6.0|               0.0|\n",
            "|060590871034|2020-02-07|          88|                              7|        7.954545454545454|10.621468926553671|\n",
            "|060372713005|2020-02-07|          30|                              2|        6.666666666666667|  8.47255369928401|\n",
            "|060372766041|2020-02-07|         137|                             20|         14.5985401459854| 21.44736842105263|\n",
            "|060374334012|2020-02-07|          35|                              6|       17.142857142857142| 12.63408820023838|\n",
            "|060375017003|2020-02-07|          38|                              4|       10.526315789473683| 7.543103448275862|\n",
            "+------------+----------+------------+-------------------------------+-------------------------+------------------+\n",
            "only showing top 20 rows\n",
            "\n",
            "time: 1.31 s (started: 2021-04-22 19:06:22 +00:00)\n"
          ],
          "name": "stdout"
        }
      ]
    },
    {
      "cell_type": "code",
      "metadata": {
        "id": "6vFzCEtNukZy",
        "colab": {
          "base_uri": "https://localhost:8080/"
        },
        "outputId": "9163b387-48cd-45c2-8ca3-5f619b10b0b7"
      },
      "source": [
        "# DIVIDING THE PEOPLE TOP 20 PERCENT AND BOTTOM 20 PERCENT\n",
        "\n",
        "df_mob_demo_high_class =  spark.sql('SELECT * FROM demographic_mobility WHERE poverty_percentage < 20')\n",
        "grouped_df_mob_demo_high_class = df_mob_demo_high_class.groupBy(\"date\").mean(\"part_time_work_percentage\").withColumnRenamed('avg(part_time_work_percentage)','part_time_work_percentage')\n",
        "grouped_df_mob_demo_high_class.createOrReplaceTempView('mob_demo_high_class')\n",
        "\n",
        "\n",
        "df_mob_demo_low_class =  spark.sql('SELECT * FROM demographic_mobility WHERE poverty_percentage > 80')\n",
        "grouped_df_mob_demo_low_class = df_mob_demo_low_class.groupBy(\"date\").mean(\"part_time_work_percentage\").withColumnRenamed('avg(part_time_work_percentage)','part_time_work_percentage')\n",
        "grouped_df_mob_demo_low_class.createOrReplaceTempView('mob_demo_low_class')\n",
        "\n",
        "grouped_df_mob_demo_combined = spark.sql(\"\"\"\n",
        "\n",
        "SELECT h.date,h.part_time_work_percentage as top20_perc,\n",
        "l.part_time_work_percentage as bottom20_perc  \n",
        "FROM mob_demo_high_class h INNER JOIN mob_demo_low_class l ON h.date = l.date\n",
        "\n",
        "\"\"\")\n"
      ],
      "execution_count": 17,
      "outputs": [
        {
          "output_type": "stream",
          "text": [
            "time: 332 ms (started: 2021-04-22 19:06:24 +00:00)\n"
          ],
          "name": "stdout"
        }
      ]
    },
    {
      "cell_type": "markdown",
      "metadata": {
        "id": "ow6mFwCFoc4r"
      },
      "source": [
        "**Load 2019 stats**"
      ]
    },
    {
      "cell_type": "code",
      "metadata": {
        "colab": {
          "base_uri": "https://localhost:8080/"
        },
        "id": "iBe00iTKobbO",
        "outputId": "94800cc6-0d34-4b01-fff1-44d490c91d09"
      },
      "source": [
        "filename = '{}_social_summary_2019.csv'.format(city)\n",
        "stat_2019 = spark.read.format('csv').option('header','true').option('quote',\"\\\"\").option('escape',\"\\\"\").load(str(path/city/filename))\n",
        "stat_2019.show()\n",
        "mean_2019 = stat_2019.collect()[1][6]\n"
      ],
      "execution_count": 18,
      "outputs": [
        {
          "output_type": "stream",
          "text": [
            "+-----+------------------+-----------------+-----------------+-----------------+--------------------------+-------------------------+-------------------------+--------------------+--------------------+--------------------+------------------+\n",
            "|  _c0|             total|  completely_home|   part_time_work|   full_time_work|percentage_completely_home|percentage_part_time_work|percentage_full_time_work|norm_completely_home| norm_part_time_work| norm_full_time_work|             month|\n",
            "+-----+------------------+-----------------+-----------------+-----------------+--------------------------+-------------------------+-------------------------+--------------------+--------------------+--------------------+------------------+\n",
            "|count|         3004769.0|        3004769.0|        3004769.0|        3004769.0|                 3004769.0|                3004769.0|                3004769.0|           3004769.0|           3004769.0|           3004769.0|         3004769.0|\n",
            "| mean| 87.84796368705881|27.76352757899193|8.179268023598487|4.286185726756366|         30.14549191952775|        9.604832050833362|        5.274168748778982|2.506247014895055...|2.150548031308279...|-6.89109456715701...| 6.525355193693758|\n",
            "|  std|105.51592931210622|49.93208821005726| 8.10674129480657|4.523167101803082|         10.15506818892759|        5.545534529758989|        3.942956179094638|  0.9999999999993094|   1.000000000001506|  0.9999999999992397|3.4478032452144913|\n",
            "|  min|               5.0|              1.0|              1.0|              1.0|         0.628930817610063|      0.07530120481927711|      0.06414368184733803|  -2.906584234865166| -1.7184152032370885|  -1.321349979630751|               1.0|\n",
            "|  25%|              50.0|             13.0|              3.0|              1.0|        23.076923076923077|        5.263157894736842|       2.1505376344086025| -0.6960631589172163| -0.7829135555459632| -0.7922053841053878|               4.0|\n",
            "|  50%|              71.0|             21.0|              6.0|              3.0|        29.850746268656714|          8.9171974522293|        4.166666666666666|-0.02902448761421...|-0.12399789324437732|-0.28088115409048636|               7.0|\n",
            "|  75%|             102.0|             32.0|             11.0|              6.0|         36.84210526315789|       13.043478260869565|        7.471264367816093|  0.6594355861570365|  0.6200747992070743|  0.5572203999339391|              10.0|\n",
            "|  max|           13425.0|           8305.0|            601.0|            279.0|         94.46320054017556|        57.14285714285714|                     50.0|   6.333557532462023|   8.572307112492147|  11.343223008248279|              12.0|\n",
            "+-----+------------------+-----------------+-----------------+-----------------+--------------------------+-------------------------+-------------------------+--------------------+--------------------+--------------------+------------------+\n",
            "\n",
            "time: 874 ms (started: 2021-04-22 19:06:24 +00:00)\n"
          ],
          "name": "stdout"
        }
      ]
    },
    {
      "cell_type": "code",
      "metadata": {
        "colab": {
          "base_uri": "https://localhost:8080/"
        },
        "id": "jbZKBBrlsymR",
        "outputId": "68f229c6-08b9-4aab-d31b-1217a14e35dc"
      },
      "source": [
        "# calculate deviation form mean\n",
        "grouped_df_mob_demo_combined= grouped_df_mob_demo_combined.withColumn(\"top20_deviation\",\n",
        "    grouped_df_mob_demo_combined['top20_perc'] - mean_2019)\n"
      ],
      "execution_count": 19,
      "outputs": [
        {
          "output_type": "stream",
          "text": [
            "time: 48.9 ms (started: 2021-04-22 19:06:25 +00:00)\n"
          ],
          "name": "stdout"
        }
      ]
    },
    {
      "cell_type": "code",
      "metadata": {
        "colab": {
          "base_uri": "https://localhost:8080/"
        },
        "id": "m1v1M4wSwmbV",
        "outputId": "92e3e022-32fb-4cac-a34b-d3f522fec066"
      },
      "source": [
        "grouped_df_mob_demo_combined = grouped_df_mob_demo_combined.withColumn(\"bottom20_deviation\",\n",
        "    grouped_df_mob_demo_combined['bottom20_perc'] - mean_2019)"
      ],
      "execution_count": 20,
      "outputs": [
        {
          "output_type": "stream",
          "text": [
            "time: 41.2 ms (started: 2021-04-22 19:06:25 +00:00)\n"
          ],
          "name": "stdout"
        }
      ]
    },
    {
      "cell_type": "markdown",
      "metadata": {
        "id": "JxSLoJSmYuj8"
      },
      "source": [
        "\n",
        "**Visualizations** \n",
        "\n"
      ]
    },
    {
      "cell_type": "code",
      "metadata": {
        "colab": {
          "base_uri": "https://localhost:8080/"
        },
        "id": "S4CaYZVO43kY",
        "outputId": "1229dd2a-c64a-42fa-ac74-34983a61b76b"
      },
      "source": [
        "# create altair library theme \n",
        "\n",
        "def my_theme():\n",
        "  return {\n",
        "    'config': {\n",
        "      'view': {'continuousHeight': 300, 'continuousWidth': 400},  # from the default theme\n",
        "      'range': {'category': {'scheme': 'redblue'}}##['#FF4500','#a0aab4','#4E79A7']}}\n",
        "    }\n",
        "  }\n",
        "alt.themes.register('my_theme', my_theme)\n",
        "alt.themes.enable('my_theme')\n",
        "# "
      ],
      "execution_count": 21,
      "outputs": [
        {
          "output_type": "execute_result",
          "data": {
            "text/plain": [
              "ThemeRegistry.enable('my_theme')"
            ]
          },
          "metadata": {
            "tags": []
          },
          "execution_count": 21
        },
        {
          "output_type": "stream",
          "text": [
            "time: 13 ms (started: 2021-04-22 19:06:25 +00:00)\n"
          ],
          "name": "stdout"
        }
      ]
    },
    {
      "cell_type": "code",
      "metadata": {
        "colab": {
          "base_uri": "https://localhost:8080/"
        },
        "id": "0KpTm73-BpiA",
        "outputId": "4e2d8e03-a226-47a7-a6f5-09110c706c8c"
      },
      "source": [
        "def create_chart(df) :\n",
        "  chart = alt.Chart(df).transform_fold(\n",
        "    fold=['Bottom 20 % Deviation', 'Top 20 % Deviation'],\n",
        "    as_ = ['Poverty %','part_time_value']\n",
        "    \n",
        "    ).mark_line().encode(\n",
        "      x= alt.X('date:T', title = 'Date'),\n",
        "      y= alt.Y('part_time_value:Q', title = 'Part Time Work %'),\n",
        "      color='Poverty %:N'\n",
        "    ).properties(width = 1000)\n",
        "\n",
        "  rule = alt.Chart(pd.DataFrame({'Mean 2019':[0]})).mark_rule(color='#757575',strokeDash=[5,3], size=2).encode(\n",
        "    y='Mean 2019',\n",
        "    size=alt.value(2),\n",
        "    )\n",
        "  \n",
        "  text = alt.Chart({'values':[{ 'y': 1}]}).mark_text(\n",
        "    text='Mean 2019', angle=0\n",
        "    ).encode(\n",
        "      y=alt.Y('y:Q'),opacity=alt.value(0.4)\n",
        "    )\n",
        "\n",
        "  return  chart + rule + text\n"
      ],
      "execution_count": 22,
      "outputs": [
        {
          "output_type": "stream",
          "text": [
            "time: 31.7 ms (started: 2021-04-22 19:06:25 +00:00)\n"
          ],
          "name": "stdout"
        }
      ]
    },
    {
      "cell_type": "code",
      "metadata": {
        "colab": {
          "base_uri": "https://localhost:8080/"
        },
        "id": "P9AleyUlCeuI",
        "outputId": "3b0eb4ca-8791-44b0-8845-2f4eab9c5968"
      },
      "source": [
        "def apply_date_filter(df,start_date,end_date) :\n",
        "  mask = (df['date'] > start_date) & (df['date'] <= end_date)\n",
        "  dfX = df.loc[mask]\n",
        "  return dfX"
      ],
      "execution_count": 23,
      "outputs": [
        {
          "output_type": "stream",
          "text": [
            "time: 10.4 ms (started: 2021-04-22 19:06:25 +00:00)\n"
          ],
          "name": "stdout"
        }
      ]
    },
    {
      "cell_type": "code",
      "metadata": {
        "colab": {
          "base_uri": "https://localhost:8080/",
          "height": 418
        },
        "id": "V4EHlNdfSVal",
        "outputId": "3ca91902-5833-4cc3-a11a-b9e62fd8a49d"
      },
      "source": [
        "# create pandas dataframe for visualizations\n",
        "df = grouped_df_mob_demo_combined.toPandas()\n",
        "df"
      ],
      "execution_count": 24,
      "outputs": [
        {
          "output_type": "execute_result",
          "data": {
            "text/html": [
              "<div>\n",
              "<style scoped>\n",
              "    .dataframe tbody tr th:only-of-type {\n",
              "        vertical-align: middle;\n",
              "    }\n",
              "\n",
              "    .dataframe tbody tr th {\n",
              "        vertical-align: top;\n",
              "    }\n",
              "\n",
              "    .dataframe thead th {\n",
              "        text-align: right;\n",
              "    }\n",
              "</style>\n",
              "<table border=\"1\" class=\"dataframe\">\n",
              "  <thead>\n",
              "    <tr style=\"text-align: right;\">\n",
              "      <th></th>\n",
              "      <th>date</th>\n",
              "      <th>top20_perc</th>\n",
              "      <th>bottom20_perc</th>\n",
              "      <th>top20_deviation</th>\n",
              "      <th>bottom20_deviation</th>\n",
              "    </tr>\n",
              "  </thead>\n",
              "  <tbody>\n",
              "    <tr>\n",
              "      <th>0</th>\n",
              "      <td>2020-02-26</td>\n",
              "      <td>13.151697</td>\n",
              "      <td>7.146811</td>\n",
              "      <td>3.546865</td>\n",
              "      <td>-2.458021</td>\n",
              "    </tr>\n",
              "    <tr>\n",
              "      <th>1</th>\n",
              "      <td>2020-04-13</td>\n",
              "      <td>5.511743</td>\n",
              "      <td>4.146589</td>\n",
              "      <td>-4.093089</td>\n",
              "      <td>-5.458243</td>\n",
              "    </tr>\n",
              "    <tr>\n",
              "      <th>2</th>\n",
              "      <td>2020-06-24</td>\n",
              "      <td>6.510721</td>\n",
              "      <td>4.887808</td>\n",
              "      <td>-3.094111</td>\n",
              "      <td>-4.717024</td>\n",
              "    </tr>\n",
              "    <tr>\n",
              "      <th>3</th>\n",
              "      <td>2020-06-08</td>\n",
              "      <td>7.115684</td>\n",
              "      <td>3.949645</td>\n",
              "      <td>-2.489148</td>\n",
              "      <td>-5.655187</td>\n",
              "    </tr>\n",
              "    <tr>\n",
              "      <th>4</th>\n",
              "      <td>2020-09-12</td>\n",
              "      <td>6.838127</td>\n",
              "      <td>6.162825</td>\n",
              "      <td>-2.766705</td>\n",
              "      <td>-3.442007</td>\n",
              "    </tr>\n",
              "    <tr>\n",
              "      <th>...</th>\n",
              "      <td>...</td>\n",
              "      <td>...</td>\n",
              "      <td>...</td>\n",
              "      <td>...</td>\n",
              "      <td>...</td>\n",
              "    </tr>\n",
              "    <tr>\n",
              "      <th>361</th>\n",
              "      <td>2020-04-05</td>\n",
              "      <td>3.346791</td>\n",
              "      <td>3.603771</td>\n",
              "      <td>-6.258041</td>\n",
              "      <td>-6.001061</td>\n",
              "    </tr>\n",
              "    <tr>\n",
              "      <th>362</th>\n",
              "      <td>2020-05-01</td>\n",
              "      <td>5.550260</td>\n",
              "      <td>3.083870</td>\n",
              "      <td>-4.054572</td>\n",
              "      <td>-6.520962</td>\n",
              "    </tr>\n",
              "    <tr>\n",
              "      <th>363</th>\n",
              "      <td>2020-10-25</td>\n",
              "      <td>6.236403</td>\n",
              "      <td>11.772826</td>\n",
              "      <td>-3.368429</td>\n",
              "      <td>2.167994</td>\n",
              "    </tr>\n",
              "    <tr>\n",
              "      <th>364</th>\n",
              "      <td>2020-12-28</td>\n",
              "      <td>7.855217</td>\n",
              "      <td>7.590284</td>\n",
              "      <td>-1.749615</td>\n",
              "      <td>-2.014548</td>\n",
              "    </tr>\n",
              "    <tr>\n",
              "      <th>365</th>\n",
              "      <td>2020-12-19</td>\n",
              "      <td>5.869430</td>\n",
              "      <td>6.257784</td>\n",
              "      <td>-3.735402</td>\n",
              "      <td>-3.347048</td>\n",
              "    </tr>\n",
              "  </tbody>\n",
              "</table>\n",
              "<p>366 rows × 5 columns</p>\n",
              "</div>"
            ],
            "text/plain": [
              "           date  top20_perc  bottom20_perc  top20_deviation  bottom20_deviation\n",
              "0    2020-02-26   13.151697       7.146811         3.546865           -2.458021\n",
              "1    2020-04-13    5.511743       4.146589        -4.093089           -5.458243\n",
              "2    2020-06-24    6.510721       4.887808        -3.094111           -4.717024\n",
              "3    2020-06-08    7.115684       3.949645        -2.489148           -5.655187\n",
              "4    2020-09-12    6.838127       6.162825        -2.766705           -3.442007\n",
              "..          ...         ...            ...              ...                 ...\n",
              "361  2020-04-05    3.346791       3.603771        -6.258041           -6.001061\n",
              "362  2020-05-01    5.550260       3.083870        -4.054572           -6.520962\n",
              "363  2020-10-25    6.236403      11.772826        -3.368429            2.167994\n",
              "364  2020-12-28    7.855217       7.590284        -1.749615           -2.014548\n",
              "365  2020-12-19    5.869430       6.257784        -3.735402           -3.347048\n",
              "\n",
              "[366 rows x 5 columns]"
            ]
          },
          "metadata": {
            "tags": []
          },
          "execution_count": 24
        },
        {
          "output_type": "stream",
          "text": [
            "time: 4min 34s (started: 2021-04-22 19:06:25 +00:00)\n"
          ],
          "name": "stdout"
        }
      ]
    },
    {
      "cell_type": "code",
      "metadata": {
        "colab": {
          "base_uri": "https://localhost:8080/"
        },
        "id": "MtFPRkkEZtzL",
        "outputId": "8a597e82-46b1-46c8-8698-481ac6a3534a"
      },
      "source": [
        "df = df.rename(columns={'top20_perc': 'Top 20 %', 'bottom20_perc': 'Bottom 20 %','top20_deviation': 'Top 20 % Deviation', 'bottom20_deviation': 'Bottom 20 % Deviation'})"
      ],
      "execution_count": 25,
      "outputs": [
        {
          "output_type": "stream",
          "text": [
            "time: 3.55 ms (started: 2021-04-22 19:11:00 +00:00)\n"
          ],
          "name": "stdout"
        }
      ]
    },
    {
      "cell_type": "code",
      "metadata": {
        "colab": {
          "base_uri": "https://localhost:8080/",
          "height": 380
        },
        "id": "pTTAkF1Iwesw",
        "outputId": "f14330f5-bf59-45a0-93d2-578eab11753d"
      },
      "source": [
        "# analysis for the entire year on monthly basis\n",
        "df_str = df.copy(deep=True) #make a deep copy\n",
        "\n",
        "df_str['date'] = pd.to_datetime(df_str['date'],utc= True) # extract the months\n",
        "\n",
        "df_str = df_str.groupby([df_str['date']]).mean().rolling(10).mean()[0:] #find the mean for the days and roll up for every 10 days\n",
        "\n",
        "chart = alt.Chart(df_str.reset_index()).transform_fold(\n",
        "    fold=['Bottom 20 %', 'Top 20 %'],\n",
        "    as_ = ['Poverty %','part_time_value']\n",
        "    \n",
        "    ).mark_line().encode(\n",
        "      x='date:T',\n",
        "      y= alt.Y('part_time_value:Q', title = 'Part Time %'), color='Poverty %:N'\n",
        "    ).properties(width = 1000)\n",
        "chart"
      ],
      "execution_count": 26,
      "outputs": [
        {
          "output_type": "execute_result",
          "data": {
            "text/plain": [
              "alt.Chart(...)"
            ],
            "text/html": [
              "\n",
              "<div id=\"altair-viz-2fc6c3f15b6a4e6990e1bab3e1b016c0\"></div>\n",
              "<script type=\"text/javascript\">\n",
              "  (function(spec, embedOpt){\n",
              "    let outputDiv = document.currentScript.previousElementSibling;\n",
              "    if (outputDiv.id !== \"altair-viz-2fc6c3f15b6a4e6990e1bab3e1b016c0\") {\n",
              "      outputDiv = document.getElementById(\"altair-viz-2fc6c3f15b6a4e6990e1bab3e1b016c0\");\n",
              "    }\n",
              "    const paths = {\n",
              "      \"vega\": \"https://cdn.jsdelivr.net/npm//vega@5?noext\",\n",
              "      \"vega-lib\": \"https://cdn.jsdelivr.net/npm//vega-lib?noext\",\n",
              "      \"vega-lite\": \"https://cdn.jsdelivr.net/npm//vega-lite@4.8.1?noext\",\n",
              "      \"vega-embed\": \"https://cdn.jsdelivr.net/npm//vega-embed@6?noext\",\n",
              "    };\n",
              "\n",
              "    function loadScript(lib) {\n",
              "      return new Promise(function(resolve, reject) {\n",
              "        var s = document.createElement('script');\n",
              "        s.src = paths[lib];\n",
              "        s.async = true;\n",
              "        s.onload = () => resolve(paths[lib]);\n",
              "        s.onerror = () => reject(`Error loading script: ${paths[lib]}`);\n",
              "        document.getElementsByTagName(\"head\")[0].appendChild(s);\n",
              "      });\n",
              "    }\n",
              "\n",
              "    function showError(err) {\n",
              "      outputDiv.innerHTML = `<div class=\"error\" style=\"color:red;\">${err}</div>`;\n",
              "      throw err;\n",
              "    }\n",
              "\n",
              "    function displayChart(vegaEmbed) {\n",
              "      vegaEmbed(outputDiv, spec, embedOpt)\n",
              "        .catch(err => showError(`Javascript Error: ${err.message}<br>This usually means there's a typo in your chart specification. See the javascript console for the full traceback.`));\n",
              "    }\n",
              "\n",
              "    if(typeof define === \"function\" && define.amd) {\n",
              "      requirejs.config({paths});\n",
              "      require([\"vega-embed\"], displayChart, err => showError(`Error loading script: ${err.message}`));\n",
              "    } else if (typeof vegaEmbed === \"function\") {\n",
              "      displayChart(vegaEmbed);\n",
              "    } else {\n",
              "      loadScript(\"vega\")\n",
              "        .then(() => loadScript(\"vega-lite\"))\n",
              "        .then(() => loadScript(\"vega-embed\"))\n",
              "        .catch(showError)\n",
              "        .then(() => displayChart(vegaEmbed));\n",
              "    }\n",
              "  })({\"config\": {\"view\": {\"continuousHeight\": 300, \"continuousWidth\": 400}, \"range\": {\"category\": {\"scheme\": \"redblue\"}}}, \"data\": {\"name\": \"data-aaaf5c0e1b0aa221ed4a2b162ab3bd40\"}, \"mark\": \"line\", \"encoding\": {\"color\": {\"type\": \"nominal\", \"field\": \"Poverty %\"}, \"x\": {\"type\": \"temporal\", \"field\": \"date\"}, \"y\": {\"type\": \"quantitative\", \"field\": \"part_time_value\", \"title\": \"Part Time %\"}}, \"transform\": [{\"fold\": [\"Bottom 20 %\", \"Top 20 %\"], \"as\": [\"Poverty %\", \"part_time_value\"]}], \"width\": 1000, \"$schema\": \"https://vega.github.io/schema/vega-lite/v4.8.1.json\", \"datasets\": {\"data-aaaf5c0e1b0aa221ed4a2b162ab3bd40\": [{\"date\": \"2020-01-01T00:00:00+00:00\", \"Top 20 %\": null, \"Bottom 20 %\": null, \"Top 20 % Deviation\": null, \"Bottom 20 % Deviation\": null}, {\"date\": \"2020-01-02T00:00:00+00:00\", \"Top 20 %\": null, \"Bottom 20 %\": null, \"Top 20 % Deviation\": null, \"Bottom 20 % Deviation\": null}, {\"date\": \"2020-01-03T00:00:00+00:00\", \"Top 20 %\": null, \"Bottom 20 %\": null, \"Top 20 % Deviation\": null, \"Bottom 20 % Deviation\": null}, {\"date\": \"2020-01-04T00:00:00+00:00\", \"Top 20 %\": null, \"Bottom 20 %\": null, \"Top 20 % Deviation\": null, \"Bottom 20 % Deviation\": null}, {\"date\": \"2020-01-05T00:00:00+00:00\", \"Top 20 %\": null, \"Bottom 20 %\": null, \"Top 20 % Deviation\": null, \"Bottom 20 % Deviation\": null}, {\"date\": \"2020-01-06T00:00:00+00:00\", \"Top 20 %\": null, \"Bottom 20 %\": null, \"Top 20 % Deviation\": null, \"Bottom 20 % Deviation\": null}, {\"date\": \"2020-01-07T00:00:00+00:00\", \"Top 20 %\": null, \"Bottom 20 %\": null, \"Top 20 % Deviation\": null, \"Bottom 20 % Deviation\": null}, {\"date\": \"2020-01-08T00:00:00+00:00\", \"Top 20 %\": null, \"Bottom 20 %\": null, \"Top 20 % Deviation\": null, \"Bottom 20 % Deviation\": null}, {\"date\": \"2020-01-09T00:00:00+00:00\", \"Top 20 %\": null, \"Bottom 20 %\": null, \"Top 20 % Deviation\": null, \"Bottom 20 % Deviation\": null}, {\"date\": \"2020-01-10T00:00:00+00:00\", \"Top 20 %\": 9.411939774232554, \"Bottom 20 %\": 6.398073952675823, \"Top 20 % Deviation\": -0.1928922766008064, \"Bottom 20 % Deviation\": -3.2067580981575405}, {\"date\": \"2020-01-11T00:00:00+00:00\", \"Top 20 %\": 9.56977817644733, \"Bottom 20 %\": 6.458275471759327, \"Top 20 % Deviation\": -0.035053874386030956, \"Bottom 20 % Deviation\": -3.1465565790740357}, {\"date\": \"2020-01-12T00:00:00+00:00\", \"Top 20 %\": 9.348910641459176, \"Bottom 20 %\": 6.191906094450149, \"Top 20 % Deviation\": -0.25592140937418584, \"Bottom 20 % Deviation\": -3.4129259563832144}, {\"date\": \"2020-01-13T00:00:00+00:00\", \"Top 20 %\": 9.708445523208269, \"Bottom 20 %\": 6.109759865461511, \"Top 20 % Deviation\": 0.10361347237490585, \"Bottom 20 % Deviation\": -3.4950721853718525}, {\"date\": \"2020-01-14T00:00:00+00:00\", \"Top 20 %\": 10.565837600109225, \"Bottom 20 %\": 6.580150738967883, \"Top 20 % Deviation\": 0.9610055492758616, \"Bottom 20 % Deviation\": -3.02468131186548}, {\"date\": \"2020-01-15T00:00:00+00:00\", \"Top 20 %\": 11.460884964533928, \"Bottom 20 %\": 6.8471435746111595, \"Top 20 % Deviation\": 1.8560529137005655, \"Bottom 20 % Deviation\": -2.757688476222204}, {\"date\": \"2020-01-16T00:00:00+00:00\", \"Top 20 %\": 11.723183659265072, \"Bottom 20 %\": 7.058523996438531, \"Top 20 % Deviation\": 2.118351608431708, \"Bottom 20 % Deviation\": -2.546308054394833}, {\"date\": \"2020-01-17T00:00:00+00:00\", \"Top 20 %\": 11.9632892930559, \"Bottom 20 %\": 7.3854044577758104, \"Top 20 % Deviation\": 2.3584572422225363, \"Bottom 20 % Deviation\": -2.219427593057554}, {\"date\": \"2020-01-18T00:00:00+00:00\", \"Top 20 %\": 11.473050968821624, \"Bottom 20 %\": 7.214593095886775, \"Top 20 % Deviation\": 1.8682189179882602, \"Bottom 20 % Deviation\": -2.3902389549465886}, {\"date\": \"2020-01-19T00:00:00+00:00\", \"Top 20 %\": 10.816180383344898, \"Bottom 20 %\": 7.394767926475032, \"Top 20 % Deviation\": 1.2113483325115342, \"Bottom 20 % Deviation\": -2.2100641243583317}, {\"date\": \"2020-01-20T00:00:00+00:00\", \"Top 20 %\": 10.442960689751512, \"Bottom 20 %\": 7.351924238678963, \"Top 20 % Deviation\": 0.8381286389181473, \"Bottom 20 % Deviation\": -2.252907812154401}, {\"date\": \"2020-01-21T00:00:00+00:00\", \"Top 20 %\": 11.074446548745659, \"Bottom 20 %\": 7.43198844074242, \"Top 20 % Deviation\": 1.4696144979122956, \"Bottom 20 % Deviation\": -2.1728436100909443}, {\"date\": \"2020-01-22T00:00:00+00:00\", \"Top 20 %\": 11.780675101233452, \"Bottom 20 %\": 7.756618594632021, \"Top 20 % Deviation\": 2.1758430504000894, \"Bottom 20 % Deviation\": -1.8482134562013415}, {\"date\": \"2020-01-23T00:00:00+00:00\", \"Top 20 %\": 11.885543115671965, \"Bottom 20 %\": 7.8028213435541005, \"Top 20 % Deviation\": 2.280711064838602, \"Bottom 20 % Deviation\": -1.802010707279263}, {\"date\": \"2020-01-24T00:00:00+00:00\", \"Top 20 %\": 11.937197700280324, \"Bottom 20 %\": 7.923622555571524, \"Top 20 % Deviation\": 2.332365649446961, \"Bottom 20 % Deviation\": -1.68120949526184}, {\"date\": \"2020-01-25T00:00:00+00:00\", \"Top 20 %\": 11.316792180552367, \"Bottom 20 %\": 8.040693097163338, \"Top 20 % Deviation\": 1.7119601297190037, \"Bottom 20 % Deviation\": -1.564138953670027}, {\"date\": \"2020-01-26T00:00:00+00:00\", \"Top 20 %\": 10.528876620947026, \"Bottom 20 %\": 7.683130036567846, \"Top 20 % Deviation\": 0.9240445701136615, \"Bottom 20 % Deviation\": -1.9217020142655172}, {\"date\": \"2020-01-27T00:00:00+00:00\", \"Top 20 %\": 10.514747984746217, \"Bottom 20 %\": 7.688491242591462, \"Top 20 % Deviation\": 0.9099159339128517, \"Bottom 20 % Deviation\": -1.9163408082419022}, {\"date\": \"2020-01-28T00:00:00+00:00\", \"Top 20 %\": 11.201901044173226, \"Bottom 20 %\": 7.804424422394929, \"Top 20 % Deviation\": 1.597068993339862, \"Bottom 20 % Deviation\": -1.8004076284384343}, {\"date\": \"2020-01-29T00:00:00+00:00\", \"Top 20 %\": 11.896272260514385, \"Bottom 20 %\": 7.774350625711831, \"Top 20 % Deviation\": 2.2914402096810207, \"Bottom 20 % Deviation\": -1.830481425121533}, {\"date\": \"2020-01-30T00:00:00+00:00\", \"Top 20 %\": 12.563397550580849, \"Bottom 20 %\": 7.8924435395638, \"Top 20 % Deviation\": 2.958565499747484, \"Bottom 20 % Deviation\": -1.7123885112695638}, {\"date\": \"2020-01-31T00:00:00+00:00\", \"Top 20 %\": 12.651460101673642, \"Bottom 20 %\": 8.299700724621461, \"Top 20 % Deviation\": 3.0466280508402757, \"Bottom 20 % Deviation\": -1.3051313262119035}, {\"date\": \"2020-02-01T00:00:00+00:00\", \"Top 20 %\": 11.936036454370704, \"Bottom 20 %\": 8.046339094421933, \"Top 20 % Deviation\": 2.3312044035373405, \"Bottom 20 % Deviation\": -1.5584929564114323}, {\"date\": \"2020-02-02T00:00:00+00:00\", \"Top 20 %\": 11.084063020341931, \"Bottom 20 %\": 7.7743264800539436, \"Top 20 % Deviation\": 1.4792309695085675, \"Bottom 20 % Deviation\": -1.8305055707794218}, {\"date\": \"2020-02-03T00:00:00+00:00\", \"Top 20 %\": 10.913631075566588, \"Bottom 20 %\": 7.309140097496251, \"Top 20 % Deviation\": 1.3087990247332266, \"Bottom 20 % Deviation\": -2.2956919533371143}, {\"date\": \"2020-02-04T00:00:00+00:00\", \"Top 20 %\": 11.399771989119888, \"Bottom 20 %\": 7.353876142225404, \"Top 20 % Deviation\": 1.7949399382865239, \"Bottom 20 % Deviation\": -2.2509559086079607}, {\"date\": \"2020-02-05T00:00:00+00:00\", \"Top 20 %\": 12.197835978799835, \"Bottom 20 %\": 7.547147935040809, \"Top 20 % Deviation\": 2.593003927966471, \"Bottom 20 % Deviation\": -2.0576841157925565}, {\"date\": \"2020-02-06T00:00:00+00:00\", \"Top 20 %\": 12.277048777864517, \"Bottom 20 %\": 7.57402066495942, \"Top 20 % Deviation\": 2.6722167270311528, \"Bottom 20 % Deviation\": -2.030811385873944}, {\"date\": \"2020-02-07T00:00:00+00:00\", \"Top 20 %\": 12.129190949256067, \"Bottom 20 %\": 7.347751220050355, \"Top 20 % Deviation\": 2.5243588984227032, \"Bottom 20 % Deviation\": -2.2570808307830093}, {\"date\": \"2020-02-08T00:00:00+00:00\", \"Top 20 %\": 11.493405616591538, \"Bottom 20 %\": 7.296542877263316, \"Top 20 % Deviation\": 1.8885735657581744, \"Bottom 20 % Deviation\": -2.3082891735700484}, {\"date\": \"2020-02-09T00:00:00+00:00\", \"Top 20 %\": 10.620879340576503, \"Bottom 20 %\": 7.119834145315454, \"Top 20 % Deviation\": 1.016047289743139, \"Bottom 20 % Deviation\": -2.4849979055179108}, {\"date\": \"2020-02-10T00:00:00+00:00\", \"Top 20 %\": 10.398248037755094, \"Bottom 20 %\": 6.869139445297672, \"Top 20 % Deviation\": 0.7934159869217303, \"Bottom 20 % Deviation\": -2.7356926055356916}, {\"date\": \"2020-02-11T00:00:00+00:00\", \"Top 20 %\": 11.197353420699374, \"Bottom 20 %\": 6.972690587435127, \"Top 20 % Deviation\": 1.59252136986601, \"Bottom 20 % Deviation\": -2.6321414633982365}, {\"date\": \"2020-02-12T00:00:00+00:00\", \"Top 20 %\": 12.061536528238554, \"Bottom 20 %\": 7.065963284548436, \"Top 20 % Deviation\": 2.45670447740519, \"Bottom 20 % Deviation\": -2.5388687662849274}, {\"date\": \"2020-02-13T00:00:00+00:00\", \"Top 20 %\": 11.9883741614856, \"Bottom 20 %\": 7.085423980123923, \"Top 20 % Deviation\": 2.383542110652236, \"Bottom 20 % Deviation\": -2.5194080707094413}, {\"date\": \"2020-02-14T00:00:00+00:00\", \"Top 20 %\": 11.798372014434664, \"Bottom 20 %\": 6.971594861783968, \"Top 20 % Deviation\": 2.1935399636012995, \"Bottom 20 % Deviation\": -2.633237189049395}, {\"date\": \"2020-02-15T00:00:00+00:00\", \"Top 20 %\": 11.015885733636905, \"Bottom 20 %\": 7.108478549452135, \"Top 20 % Deviation\": 1.4110536828035414, \"Bottom 20 % Deviation\": -2.496353501381229}, {\"date\": \"2020-02-16T00:00:00+00:00\", \"Top 20 %\": 10.256881742772345, \"Bottom 20 %\": 6.907136750677628, \"Top 20 % Deviation\": 0.6520496919389807, \"Bottom 20 % Deviation\": -2.6976953001557358}, {\"date\": \"2020-02-17T00:00:00+00:00\", \"Top 20 %\": 9.73150837894698, \"Bottom 20 %\": 6.9062861306488825, \"Top 20 % Deviation\": 0.1266763281136165, \"Bottom 20 % Deviation\": -2.6985459201844817}, {\"date\": \"2020-02-18T00:00:00+00:00\", \"Top 20 %\": 10.417397485778988, \"Bottom 20 %\": 7.113672909216227, \"Top 20 % Deviation\": 0.8125654349456244, \"Bottom 20 % Deviation\": -2.4911591416171377}, {\"date\": \"2020-02-19T00:00:00+00:00\", \"Top 20 %\": 11.15273184659321, \"Bottom 20 %\": 7.5010464176923675, \"Top 20 % Deviation\": 1.5478997957598466, \"Bottom 20 % Deviation\": -2.1037856331409976}, {\"date\": \"2020-02-20T00:00:00+00:00\", \"Top 20 %\": 11.417085570692663, \"Bottom 20 %\": 7.357888075677226, \"Top 20 % Deviation\": 1.8122535198592993, \"Bottom 20 % Deviation\": -2.246943975156139}, {\"date\": \"2020-02-21T00:00:00+00:00\", \"Top 20 %\": 11.3024637606535, \"Bottom 20 %\": 7.359619109435198, \"Top 20 % Deviation\": 1.697631709820137, \"Bottom 20 % Deviation\": -2.2452129413981674}, {\"date\": \"2020-02-22T00:00:00+00:00\", \"Top 20 %\": 10.514586406192546, \"Bottom 20 %\": 7.3437331561611945, \"Top 20 % Deviation\": 0.9097543553591821, \"Bottom 20 % Deviation\": -2.2610988946721706}, {\"date\": \"2020-02-23T00:00:00+00:00\", \"Top 20 %\": 9.832447644745212, \"Bottom 20 %\": 7.305655818479335, \"Top 20 % Deviation\": 0.22761559391184774, \"Bottom 20 % Deviation\": -2.29917623235403}, {\"date\": \"2020-02-24T00:00:00+00:00\", \"Top 20 %\": 9.913478458530431, \"Bottom 20 %\": 7.288217408023385, \"Top 20 % Deviation\": 0.3086464076970656, \"Bottom 20 % Deviation\": -2.31661464280998}, {\"date\": \"2020-02-25T00:00:00+00:00\", \"Top 20 %\": 9.774857300553547, \"Bottom 20 %\": 6.6664066550137395, \"Top 20 % Deviation\": 0.17002524972018226, \"Bottom 20 % Deviation\": -2.9384253958196256}, {\"date\": \"2020-02-26T00:00:00+00:00\", \"Top 20 %\": 10.390782048423933, \"Bottom 20 %\": 6.618089023134192, \"Top 20 % Deviation\": 0.7859499975905668, \"Bottom 20 % Deviation\": -2.986743027699172}, {\"date\": \"2020-02-27T00:00:00+00:00\", \"Top 20 %\": 11.076626617532968, \"Bottom 20 %\": 6.7609286425064425, \"Top 20 % Deviation\": 1.4717945666996015, \"Bottom 20 % Deviation\": -2.8439034083269212}, {\"date\": \"2020-02-28T00:00:00+00:00\", \"Top 20 %\": 10.942405233286951, \"Bottom 20 %\": 6.632775012868277, \"Top 20 % Deviation\": 1.337573182453585, \"Bottom 20 % Deviation\": -2.9720570379650857}, {\"date\": \"2020-02-29T00:00:00+00:00\", \"Top 20 %\": 10.286354404142855, \"Bottom 20 %\": 6.3495658967320345, \"Top 20 % Deviation\": 0.6815223533094901, \"Bottom 20 % Deviation\": -3.255266154101328}, {\"date\": \"2020-03-01T00:00:00+00:00\", \"Top 20 %\": 9.385939284218034, \"Bottom 20 %\": 6.067785825232035, \"Top 20 % Deviation\": -0.21889276661533205, \"Bottom 20 % Deviation\": -3.537046225601327}, {\"date\": \"2020-03-02T00:00:00+00:00\", \"Top 20 %\": 9.480766706505362, \"Bottom 20 %\": 6.282664889834143, \"Top 20 % Deviation\": -0.12406534432800473, \"Bottom 20 % Deviation\": -3.32216716099922}, {\"date\": \"2020-03-03T00:00:00+00:00\", \"Top 20 %\": 10.158698327700428, \"Bottom 20 %\": 6.614445730391776, \"Top 20 % Deviation\": 0.5538662768670608, \"Bottom 20 % Deviation\": -2.990386320441587}, {\"date\": \"2020-03-04T00:00:00+00:00\", \"Top 20 %\": 10.886725639739778, \"Bottom 20 %\": 6.65519225444767, \"Top 20 % Deviation\": 1.2818935889064107, \"Bottom 20 % Deviation\": -2.9496397963856933}, {\"date\": \"2020-03-05T00:00:00+00:00\", \"Top 20 %\": 10.881374402136831, \"Bottom 20 %\": 6.610827952862226, \"Top 20 % Deviation\": 1.2765423513034644, \"Bottom 20 % Deviation\": -2.994004097971137}, {\"date\": \"2020-03-06T00:00:00+00:00\", \"Top 20 %\": 11.750305567355026, \"Bottom 20 %\": 7.201580459377429, \"Top 20 % Deviation\": 2.145473516521661, \"Bottom 20 % Deviation\": -2.403251591455933}, {\"date\": \"2020-03-07T00:00:00+00:00\", \"Top 20 %\": 11.12493350212798, \"Bottom 20 %\": 7.231004844329131, \"Top 20 % Deviation\": 1.5201014512946143, \"Bottom 20 % Deviation\": -2.373827206504232}, {\"date\": \"2020-03-08T00:00:00+00:00\", \"Top 20 %\": 10.505161515402841, \"Bottom 20 %\": 7.30762279762984, \"Top 20 % Deviation\": 0.9003294645694749, \"Bottom 20 % Deviation\": -2.2972092532035218}, {\"date\": \"2020-03-09T00:00:00+00:00\", \"Top 20 %\": 10.56090502219872, \"Bottom 20 %\": 7.471275955013927, \"Top 20 % Deviation\": 0.9560729713653522, \"Bottom 20 % Deviation\": -2.1335560958194355}, {\"date\": \"2020-03-10T00:00:00+00:00\", \"Top 20 %\": 11.249590231802816, \"Bottom 20 %\": 7.6896722767843055, \"Top 20 % Deviation\": 1.6447581809694505, \"Bottom 20 % Deviation\": -1.915159774049057}, {\"date\": \"2020-03-11T00:00:00+00:00\", \"Top 20 %\": 12.114318935285228, \"Bottom 20 %\": 8.14903538965647, \"Top 20 % Deviation\": 2.5094868844518614, \"Bottom 20 % Deviation\": -1.4557966611768929}, {\"date\": \"2020-03-12T00:00:00+00:00\", \"Top 20 %\": 12.009313314006924, \"Bottom 20 %\": 8.091097835355907, \"Top 20 % Deviation\": 2.4044812631735577, \"Bottom 20 % Deviation\": -1.5137342154774567}, {\"date\": \"2020-03-13T00:00:00+00:00\", \"Top 20 %\": 11.955844505329178, \"Bottom 20 %\": 7.894192311717201, \"Top 20 % Deviation\": 2.3510124544958124, \"Bottom 20 % Deviation\": -1.710639739116162}, {\"date\": \"2020-03-14T00:00:00+00:00\", \"Top 20 %\": 11.33657905068708, \"Bottom 20 %\": 7.929346318942476, \"Top 20 % Deviation\": 1.7317469998537134, \"Bottom 20 % Deviation\": -1.675485731890887}, {\"date\": \"2020-03-15T00:00:00+00:00\", \"Top 20 %\": 10.610380456851047, \"Bottom 20 %\": 7.7461746814212535, \"Top 20 % Deviation\": 1.0055484060176803, \"Bottom 20 % Deviation\": -1.8586573694121096}, {\"date\": \"2020-03-16T00:00:00+00:00\", \"Top 20 %\": 10.137384333351514, \"Bottom 20 %\": 7.662564632328248, \"Top 20 % Deviation\": 0.5325522825181475, \"Bottom 20 % Deviation\": -1.942267418505115}, {\"date\": \"2020-03-17T00:00:00+00:00\", \"Top 20 %\": 10.278457544769026, \"Bottom 20 %\": 7.500402566066879, \"Top 20 % Deviation\": 0.6736254939356594, \"Bottom 20 % Deviation\": -2.1044294847664844}, {\"date\": \"2020-03-18T00:00:00+00:00\", \"Top 20 %\": 10.231067415973474, \"Bottom 20 %\": 7.200702318811925, \"Top 20 % Deviation\": 0.6262353651401072, \"Bottom 20 % Deviation\": -2.404129732021439}, {\"date\": \"2020-03-19T00:00:00+00:00\", \"Top 20 %\": 9.466777373679083, \"Bottom 20 %\": 6.967886600470038, \"Top 20 % Deviation\": -0.1380546771542818, \"Bottom 20 % Deviation\": -2.636945450363325}, {\"date\": \"2020-03-20T00:00:00+00:00\", \"Top 20 %\": 8.677458321500989, \"Bottom 20 %\": 6.577245988066477, \"Top 20 % Deviation\": -0.9273737293323778, \"Bottom 20 % Deviation\": -3.0275860627668862}, {\"date\": \"2020-03-21T00:00:00+00:00\", \"Top 20 %\": 7.657077855423374, \"Bottom 20 %\": 5.9622492355285805, \"Top 20 % Deviation\": -1.947754195409992, \"Bottom 20 % Deviation\": -3.642582815304782}, {\"date\": \"2020-03-22T00:00:00+00:00\", \"Top 20 %\": 6.873039555337482, \"Bottom 20 %\": 5.816865997851588, \"Top 20 % Deviation\": -2.731792495495885, \"Bottom 20 % Deviation\": -3.787966052981774}, {\"date\": \"2020-03-23T00:00:00+00:00\", \"Top 20 %\": 6.216514252368336, \"Bottom 20 %\": 5.700827413884044, \"Top 20 % Deviation\": -3.388317798465031, \"Bottom 20 % Deviation\": -3.9040046369493195}, {\"date\": \"2020-03-24T00:00:00+00:00\", \"Top 20 %\": 6.222683783823173, \"Bottom 20 %\": 5.503954770333154, \"Top 20 % Deviation\": -3.3821482670101934, \"Bottom 20 % Deviation\": -4.100877280500209}, {\"date\": \"2020-03-25T00:00:00+00:00\", \"Top 20 %\": 6.312604145094815, \"Bottom 20 %\": 5.472990451319914, \"Top 20 % Deviation\": -3.292227905738552, \"Bottom 20 % Deviation\": -4.13184159951345}, {\"date\": \"2020-03-26T00:00:00+00:00\", \"Top 20 %\": 6.045894464581003, \"Bottom 20 %\": 5.197830108387144, \"Top 20 % Deviation\": -3.558937586252364, \"Bottom 20 % Deviation\": -4.40700194244622}, {\"date\": \"2020-03-27T00:00:00+00:00\", \"Top 20 %\": 5.911059949566896, \"Bottom 20 %\": 5.213794000738967, \"Top 20 % Deviation\": -3.6937721012664695, \"Bottom 20 % Deviation\": -4.391038050094396}, {\"date\": \"2020-03-28T00:00:00+00:00\", \"Top 20 %\": 5.575764961255399, \"Bottom 20 %\": 5.212015536339134, \"Top 20 % Deviation\": -4.029067089577967, \"Bottom 20 % Deviation\": -4.39281651449423}, {\"date\": \"2020-03-29T00:00:00+00:00\", \"Top 20 %\": 5.352176229478826, \"Bottom 20 %\": 4.951937717703904, \"Top 20 % Deviation\": -4.252655821354541, \"Bottom 20 % Deviation\": -4.65289433312946}, {\"date\": \"2020-03-30T00:00:00+00:00\", \"Top 20 %\": 5.486939585844901, \"Bottom 20 %\": 5.124228266235734, \"Top 20 % Deviation\": -4.117892464988466, \"Bottom 20 % Deviation\": -4.48060378459763}, {\"date\": \"2020-03-31T00:00:00+00:00\", \"Top 20 %\": 5.843519820755431, \"Bottom 20 %\": 5.546115099678991, \"Top 20 % Deviation\": -3.7613122300779347, \"Bottom 20 % Deviation\": -4.0587169511543735}, {\"date\": \"2020-04-01T00:00:00+00:00\", \"Top 20 %\": 5.987160779533871, \"Bottom 20 %\": 5.319547079054293, \"Top 20 % Deviation\": -3.6176712712994954, \"Bottom 20 % Deviation\": -4.285284971779072}, {\"date\": \"2020-04-02T00:00:00+00:00\", \"Top 20 %\": 6.075794386061168, \"Bottom 20 %\": 5.506128808003162, \"Top 20 % Deviation\": -3.5290376647721984, \"Bottom 20 % Deviation\": -4.0987032428302035}, {\"date\": \"2020-04-03T00:00:00+00:00\", \"Top 20 %\": 6.026910565753864, \"Bottom 20 %\": 5.689293801905206, \"Top 20 % Deviation\": -3.5779214850795014, \"Bottom 20 % Deviation\": -3.91553824892816}, {\"date\": \"2020-04-04T00:00:00+00:00\", \"Top 20 %\": 5.845811999722092, \"Bottom 20 %\": 5.648344419925459, \"Top 20 % Deviation\": -3.759020051111274, \"Bottom 20 % Deviation\": -3.956487630907907}, {\"date\": \"2020-04-05T00:00:00+00:00\", \"Top 20 %\": 5.549318918322141, \"Bottom 20 %\": 5.5148074071901085, \"Top 20 % Deviation\": -4.055513132511225, \"Bottom 20 % Deviation\": -4.090024643643257}, {\"date\": \"2020-04-06T00:00:00+00:00\", \"Top 20 %\": 5.372391007941269, \"Bottom 20 %\": 5.432296847977576, \"Top 20 % Deviation\": -4.232441042892097, \"Bottom 20 % Deviation\": -4.172535202855789}, {\"date\": \"2020-04-07T00:00:00+00:00\", \"Top 20 %\": 5.55991352874729, \"Bottom 20 %\": 5.421798708304904, \"Top 20 % Deviation\": -4.044918522086076, \"Bottom 20 % Deviation\": -4.183033342528461}, {\"date\": \"2020-04-08T00:00:00+00:00\", \"Top 20 %\": 5.69575196151421, \"Bottom 20 %\": 5.447163042647892, \"Top 20 % Deviation\": -3.9090800893191555, \"Bottom 20 % Deviation\": -4.157669008185473}, {\"date\": \"2020-04-09T00:00:00+00:00\", \"Top 20 %\": 5.573174639430372, \"Bottom 20 %\": 5.3808476403140135, \"Top 20 % Deviation\": -4.031657411402994, \"Bottom 20 % Deviation\": -4.223984410519352}, {\"date\": \"2020-04-10T00:00:00+00:00\", \"Top 20 %\": 5.284142149867561, \"Bottom 20 %\": 5.032808518843938, \"Top 20 % Deviation\": -4.320689900965806, \"Bottom 20 % Deviation\": -4.572023531989427}, {\"date\": \"2020-04-11T00:00:00+00:00\", \"Top 20 %\": 5.069042558266675, \"Bottom 20 %\": 5.083418075256503, \"Top 20 % Deviation\": -4.535789492566692, \"Bottom 20 % Deviation\": -4.521413975576861}, {\"date\": \"2020-04-12T00:00:00+00:00\", \"Top 20 %\": 4.868143593178499, \"Bottom 20 %\": 4.826743735720283, \"Top 20 % Deviation\": -4.736688457654867, \"Bottom 20 % Deviation\": -4.778088315113079}, {\"date\": \"2020-04-13T00:00:00+00:00\", \"Top 20 %\": 4.834977142633958, \"Bottom 20 %\": 4.557559070840424, \"Top 20 % Deviation\": -4.769854908199408, \"Bottom 20 % Deviation\": -5.04727297999294}, {\"date\": \"2020-04-14T00:00:00+00:00\", \"Top 20 %\": 4.957430028401674, \"Bottom 20 %\": 4.557877373803718, \"Top 20 % Deviation\": -4.64740202243169, \"Bottom 20 % Deviation\": -5.046954677029645}, {\"date\": \"2020-04-15T00:00:00+00:00\", \"Top 20 %\": 5.164131007940322, \"Bottom 20 %\": 4.596129977063606, \"Top 20 % Deviation\": -4.440701042893043, \"Bottom 20 % Deviation\": -5.008702073769757}, {\"date\": \"2020-04-16T00:00:00+00:00\", \"Top 20 %\": 5.296085367764698, \"Bottom 20 %\": 4.684212811215523, \"Top 20 % Deviation\": -4.308746683068667, \"Bottom 20 % Deviation\": -4.920619239617841}, {\"date\": \"2020-04-17T00:00:00+00:00\", \"Top 20 %\": 5.257723484150657, \"Bottom 20 %\": 4.723330541514294, \"Top 20 % Deviation\": -4.347108566682708, \"Bottom 20 % Deviation\": -4.881501509319071}, {\"date\": \"2020-04-18T00:00:00+00:00\", \"Top 20 %\": 5.219847216628709, \"Bottom 20 %\": 4.886886140113437, \"Top 20 % Deviation\": -4.384984834204655, \"Bottom 20 % Deviation\": -4.717945910719928}, {\"date\": \"2020-04-19T00:00:00+00:00\", \"Top 20 %\": 5.295454660512733, \"Bottom 20 %\": 5.084585696329014, \"Top 20 % Deviation\": -4.309377390320631, \"Bottom 20 % Deviation\": -4.52024635450435}, {\"date\": \"2020-04-20T00:00:00+00:00\", \"Top 20 %\": 5.350255073733946, \"Bottom 20 %\": 5.027852410038382, \"Top 20 % Deviation\": -4.2545769770994175, \"Bottom 20 % Deviation\": -4.576979640794982}, {\"date\": \"2020-04-21T00:00:00+00:00\", \"Top 20 %\": 5.615412740244084, \"Bottom 20 %\": 5.117852839045566, \"Top 20 % Deviation\": -3.989419310589278, \"Bottom 20 % Deviation\": -4.486979211787797}, {\"date\": \"2020-04-22T00:00:00+00:00\", \"Top 20 %\": 5.741111245697638, \"Bottom 20 %\": 4.975211342131522, \"Top 20 % Deviation\": -3.8637208051357232, \"Bottom 20 % Deviation\": -4.629620708701841}, {\"date\": \"2020-04-23T00:00:00+00:00\", \"Top 20 %\": 5.734263893167361, \"Bottom 20 %\": 4.972174076834713, \"Top 20 % Deviation\": -3.8705681576660007, \"Bottom 20 % Deviation\": -4.632657973998652}, {\"date\": \"2020-04-24T00:00:00+00:00\", \"Top 20 %\": 5.825991199451714, \"Bottom 20 %\": 4.967878617619859, \"Top 20 % Deviation\": -3.7788408513816476, \"Bottom 20 % Deviation\": -4.636953433213504}, {\"date\": \"2020-04-25T00:00:00+00:00\", \"Top 20 %\": 5.953019502196731, \"Bottom 20 %\": 5.308669768452149, \"Top 20 % Deviation\": -3.65181254863663, \"Bottom 20 % Deviation\": -4.296162282381214}, {\"date\": \"2020-04-26T00:00:00+00:00\", \"Top 20 %\": 5.669505116894505, \"Bottom 20 %\": 5.044104597105323, \"Top 20 % Deviation\": -3.935326933938857, \"Bottom 20 % Deviation\": -4.560727453728039}, {\"date\": \"2020-04-27T00:00:00+00:00\", \"Top 20 %\": 5.8514033737217455, \"Bottom 20 %\": 5.008802408107205, \"Top 20 % Deviation\": -3.7534286771116165, \"Bottom 20 % Deviation\": -4.596029642726157}, {\"date\": \"2020-04-28T00:00:00+00:00\", \"Top 20 %\": 6.032198489266063, \"Bottom 20 %\": 4.916053178659957, \"Top 20 % Deviation\": -3.5726335615672986, \"Bottom 20 % Deviation\": -4.6887788721734065}, {\"date\": \"2020-04-29T00:00:00+00:00\", \"Top 20 %\": 5.99823706031095, \"Bottom 20 %\": 4.787087194459624, \"Top 20 % Deviation\": -3.6065949905224124, \"Bottom 20 % Deviation\": -4.817744856373738}, {\"date\": \"2020-04-30T00:00:00+00:00\", \"Top 20 %\": 6.120961662949788, \"Bottom 20 %\": 5.045064399046585, \"Top 20 % Deviation\": -3.4838703878835737, \"Bottom 20 % Deviation\": -4.559767651786777}, {\"date\": \"2020-05-01T00:00:00+00:00\", \"Top 20 %\": 6.01925092666543, \"Bottom 20 %\": 4.763737981950121, \"Top 20 % Deviation\": -3.585581124167932, \"Bottom 20 % Deviation\": -4.841094068883242}, {\"date\": \"2020-05-02T00:00:00+00:00\", \"Top 20 %\": 5.896881492325953, \"Bottom 20 %\": 4.763501545301721, \"Top 20 % Deviation\": -3.7079505585074095, \"Bottom 20 % Deviation\": -4.8413305055316425}, {\"date\": \"2020-05-03T00:00:00+00:00\", \"Top 20 %\": 5.842248113441534, \"Bottom 20 %\": 4.850111642737247, \"Top 20 % Deviation\": -3.762583937391829, \"Bottom 20 % Deviation\": -4.754720408096118}, {\"date\": \"2020-05-04T00:00:00+00:00\", \"Top 20 %\": 5.729125463544767, \"Bottom 20 %\": 4.811517576529494, \"Top 20 % Deviation\": -3.875706587288596, \"Bottom 20 % Deviation\": -4.7933144743038705}, {\"date\": \"2020-05-05T00:00:00+00:00\", \"Top 20 %\": 5.594357122973831, \"Bottom 20 %\": 4.482306496983638, \"Top 20 % Deviation\": -4.010474927859532, \"Bottom 20 % Deviation\": -5.1225255538497265}, {\"date\": \"2020-05-06T00:00:00+00:00\", \"Top 20 %\": 5.884089968329813, \"Bottom 20 %\": 4.570923430676777, \"Top 20 % Deviation\": -3.7207420825035493, \"Bottom 20 % Deviation\": -5.033908620156587}, {\"date\": \"2020-05-07T00:00:00+00:00\", \"Top 20 %\": 5.828997595229295, \"Bottom 20 %\": 4.608778649815708, \"Top 20 % Deviation\": -3.775834455604067, \"Bottom 20 % Deviation\": -4.996053401017657}, {\"date\": \"2020-05-08T00:00:00+00:00\", \"Top 20 %\": 5.835344681724181, \"Bottom 20 %\": 4.594535432917339, \"Top 20 % Deviation\": -3.769487369109181, \"Bottom 20 % Deviation\": -5.010296617916026}, {\"date\": \"2020-05-09T00:00:00+00:00\", \"Top 20 %\": 5.713277340065221, \"Bottom 20 %\": 4.541205791624552, \"Top 20 % Deviation\": -3.8915547107681396, \"Bottom 20 % Deviation\": -5.063626259208814}, {\"date\": \"2020-05-10T00:00:00+00:00\", \"Top 20 %\": 5.580405917258282, \"Bottom 20 %\": 4.496052287397077, \"Top 20 % Deviation\": -4.024426133575079, \"Bottom 20 % Deviation\": -5.108779763436289}, {\"date\": \"2020-05-11T00:00:00+00:00\", \"Top 20 %\": 5.854001006670724, \"Bottom 20 %\": 5.030719690239396, \"Top 20 % Deviation\": -3.750831044162638, \"Bottom 20 % Deviation\": -4.57411236059397}, {\"date\": \"2020-05-12T00:00:00+00:00\", \"Top 20 %\": 6.027249652156293, \"Bottom 20 %\": 5.137437551729979, \"Top 20 % Deviation\": -3.5775823986770687, \"Bottom 20 % Deviation\": -4.467394499103386}, {\"date\": \"2020-05-13T00:00:00+00:00\", \"Top 20 %\": 6.174723402760501, \"Bottom 20 %\": 5.110798487773963, \"Top 20 % Deviation\": -3.4301086480728613, \"Bottom 20 % Deviation\": -4.494033563059402}, {\"date\": \"2020-05-14T00:00:00+00:00\", \"Top 20 %\": 6.250515734802946, \"Bottom 20 %\": 5.197082985854984, \"Top 20 % Deviation\": -3.354316316030417, \"Bottom 20 % Deviation\": -4.407749064978382}, {\"date\": \"2020-05-15T00:00:00+00:00\", \"Top 20 %\": 6.34560136811096, \"Bottom 20 %\": 5.247616196332663, \"Top 20 % Deviation\": -3.2592306827224036, \"Bottom 20 % Deviation\": -4.357215854500703}, {\"date\": \"2020-05-16T00:00:00+00:00\", \"Top 20 %\": 6.215510072623646, \"Bottom 20 %\": 5.255446073388681, \"Top 20 % Deviation\": -3.3893219782097175, \"Bottom 20 % Deviation\": -4.349385977444685}, {\"date\": \"2020-05-17T00:00:00+00:00\", \"Top 20 %\": 6.058833203781605, \"Bottom 20 %\": 5.309417787271547, \"Top 20 % Deviation\": -3.545998847051758, \"Bottom 20 % Deviation\": -4.295414263561819}, {\"date\": \"2020-05-18T00:00:00+00:00\", \"Top 20 %\": 5.974243187335132, \"Bottom 20 %\": 5.203297686242313, \"Top 20 % Deviation\": -3.630588863498231, \"Bottom 20 % Deviation\": -4.401534364591053}, {\"date\": \"2020-05-19T00:00:00+00:00\", \"Top 20 %\": 6.057250330568136, \"Bottom 20 %\": 5.158390038390307, \"Top 20 % Deviation\": -3.547581720265227, \"Bottom 20 % Deviation\": -4.446442012443059}, {\"date\": \"2020-05-20T00:00:00+00:00\", \"Top 20 %\": 6.245037702616343, \"Bottom 20 %\": 5.437673612952355, \"Top 20 % Deviation\": -3.35979434821702, \"Bottom 20 % Deviation\": -4.167158437881011}, {\"date\": \"2020-05-21T00:00:00+00:00\", \"Top 20 %\": 6.043530826587208, \"Bottom 20 %\": 5.125801900557508, \"Top 20 % Deviation\": -3.5613012242461553, \"Bottom 20 % Deviation\": -4.479030150275858}, {\"date\": \"2020-05-22T00:00:00+00:00\", \"Top 20 %\": 6.124347064357513, \"Bottom 20 %\": 5.31117818297763, \"Top 20 % Deviation\": -3.4804849864758496, \"Bottom 20 % Deviation\": -4.2936538678557366}, {\"date\": \"2020-05-23T00:00:00+00:00\", \"Top 20 %\": 6.019748472281658, \"Bottom 20 %\": 5.814943008457261, \"Top 20 % Deviation\": -3.5850835785517043, \"Bottom 20 % Deviation\": -3.7898890423761067}, {\"date\": \"2020-05-24T00:00:00+00:00\", \"Top 20 %\": 5.917942413851277, \"Bottom 20 %\": 5.682129535526792, \"Top 20 % Deviation\": -3.686889636982085, \"Bottom 20 % Deviation\": -3.922702515306576}, {\"date\": \"2020-05-25T00:00:00+00:00\", \"Top 20 %\": 5.825528219481532, \"Bottom 20 %\": 5.703842262562059, \"Top 20 % Deviation\": -3.779303831351831, \"Bottom 20 % Deviation\": -3.900989788271308}, {\"date\": \"2020-05-26T00:00:00+00:00\", \"Top 20 %\": 5.891035018387635, \"Bottom 20 %\": 5.708714813370948, \"Top 20 % Deviation\": -3.713797032445727, \"Bottom 20 % Deviation\": -3.89611723746242}, {\"date\": \"2020-05-27T00:00:00+00:00\", \"Top 20 %\": 6.037389060211783, \"Bottom 20 %\": 5.478116340624904, \"Top 20 % Deviation\": -3.56744299062158, \"Bottom 20 % Deviation\": -4.1267157102084635}, {\"date\": \"2020-05-28T00:00:00+00:00\", \"Top 20 %\": 6.110653207903603, \"Bottom 20 %\": 5.698542016496743, \"Top 20 % Deviation\": -3.4941788429297604, \"Bottom 20 % Deviation\": -3.9062900343366236}, {\"date\": \"2020-05-29T00:00:00+00:00\", \"Top 20 %\": 6.187368045008183, \"Bottom 20 %\": 5.636577150365127, \"Top 20 % Deviation\": -3.417464005825179, \"Bottom 20 % Deviation\": -3.96825490046824}, {\"date\": \"2020-05-30T00:00:00+00:00\", \"Top 20 %\": 6.054372048497382, \"Bottom 20 %\": 5.388762696731339, \"Top 20 % Deviation\": -3.5504600023359814, \"Bottom 20 % Deviation\": -4.216069354102028}, {\"date\": \"2020-05-31T00:00:00+00:00\", \"Top 20 %\": 5.898926296983558, \"Bottom 20 %\": 5.262417029434597, \"Top 20 % Deviation\": -3.7059057538498053, \"Bottom 20 % Deviation\": -4.34241502139877}, {\"date\": \"2020-06-01T00:00:00+00:00\", \"Top 20 %\": 5.911554326316635, \"Bottom 20 %\": 5.163382043235373, \"Top 20 % Deviation\": -3.6932777245167285, \"Bottom 20 % Deviation\": -4.441450007597995}, {\"date\": \"2020-06-02T00:00:00+00:00\", \"Top 20 %\": 6.176960367000172, \"Bottom 20 %\": 4.698034315861894, \"Top 20 % Deviation\": -3.427871683833191, \"Bottom 20 % Deviation\": -4.906797734971474}, {\"date\": \"2020-06-03T00:00:00+00:00\", \"Top 20 %\": 6.330808430988821, \"Bottom 20 %\": 5.1044233203444795, \"Top 20 % Deviation\": -3.2740236198445425, \"Bottom 20 % Deviation\": -4.500408730488888}, {\"date\": \"2020-06-04T00:00:00+00:00\", \"Top 20 %\": 6.460656182079771, \"Bottom 20 %\": 5.266268414030392, \"Top 20 % Deviation\": -3.144175868753593, \"Bottom 20 % Deviation\": -4.338563636802975}, {\"date\": \"2020-06-05T00:00:00+00:00\", \"Top 20 %\": 6.551848430675449, \"Bottom 20 %\": 5.387792188636114, \"Top 20 % Deviation\": -3.052983620157915, \"Bottom 20 % Deviation\": -4.217039862197254}, {\"date\": \"2020-06-06T00:00:00+00:00\", \"Top 20 %\": 6.436437171684785, \"Bottom 20 %\": 5.3567733370900745, \"Top 20 % Deviation\": -3.168394879148579, \"Bottom 20 % Deviation\": -4.248058713743293}, {\"date\": \"2020-06-07T00:00:00+00:00\", \"Top 20 %\": 6.330479734941768, \"Bottom 20 %\": 5.300590537928032, \"Top 20 % Deviation\": -3.2743523158915955, \"Bottom 20 % Deviation\": -4.304241512905337}, {\"date\": \"2020-06-08T00:00:00+00:00\", \"Top 20 %\": 6.401408231421572, \"Bottom 20 %\": 5.322789945544629, \"Top 20 % Deviation\": -3.2034238194117934, \"Bottom 20 % Deviation\": -4.28204210528874}, {\"date\": \"2020-06-09T00:00:00+00:00\", \"Top 20 %\": 6.568122797505697, \"Bottom 20 %\": 5.373023275442067, \"Top 20 % Deviation\": -3.036709253327667, \"Bottom 20 % Deviation\": -4.231808775391301}, {\"date\": \"2020-06-10T00:00:00+00:00\", \"Top 20 %\": 6.8586650600663175, \"Bottom 20 %\": 5.472491851781831, \"Top 20 % Deviation\": -2.7461669907670476, \"Bottom 20 % Deviation\": -4.132340199051538}, {\"date\": \"2020-06-11T00:00:00+00:00\", \"Top 20 %\": 6.8844232423400245, \"Bottom 20 %\": 5.5139974082498595, \"Top 20 % Deviation\": -2.72040880849334, \"Bottom 20 % Deviation\": -4.090834642583509}, {\"date\": \"2020-06-12T00:00:00+00:00\", \"Top 20 %\": 6.828768819913593, \"Bottom 20 %\": 5.5756747259496695, \"Top 20 % Deviation\": -2.776063230919772, \"Bottom 20 % Deviation\": -4.029157324883699}, {\"date\": \"2020-06-13T00:00:00+00:00\", \"Top 20 %\": 6.788760838107261, \"Bottom 20 %\": 5.452920091373749, \"Top 20 % Deviation\": -2.816071212726104, \"Bottom 20 % Deviation\": -4.151911959459619}, {\"date\": \"2020-06-14T00:00:00+00:00\", \"Top 20 %\": 6.6456280463955535, \"Bottom 20 %\": 5.251703666162699, \"Top 20 % Deviation\": -2.9592040044378103, \"Bottom 20 % Deviation\": -4.353128384670669}, {\"date\": \"2020-06-15T00:00:00+00:00\", \"Top 20 %\": 6.662565866721461, \"Bottom 20 %\": 5.37183446848014, \"Top 20 % Deviation\": -2.9422661841119035, \"Bottom 20 % Deviation\": -4.23299758235323}, {\"date\": \"2020-06-16T00:00:00+00:00\", \"Top 20 %\": 6.865329381048149, \"Bottom 20 %\": 5.370629247270748, \"Top 20 % Deviation\": -2.739502669785216, \"Bottom 20 % Deviation\": -4.23420280356262}, {\"date\": \"2020-06-17T00:00:00+00:00\", \"Top 20 %\": 7.061444347619366, \"Bottom 20 %\": 5.201916336813601, \"Top 20 % Deviation\": -2.5433877032139995, \"Bottom 20 % Deviation\": -4.402915714019768}, {\"date\": \"2020-06-18T00:00:00+00:00\", \"Top 20 %\": 7.120143480821265, \"Bottom 20 %\": 5.6129780196673185, \"Top 20 % Deviation\": -2.4846885700120995, \"Bottom 20 % Deviation\": -3.99185403116605}, {\"date\": \"2020-06-19T00:00:00+00:00\", \"Top 20 %\": 7.1972796521853795, \"Bottom 20 %\": 5.3552124013886635, \"Top 20 % Deviation\": -2.4075523986479856, \"Bottom 20 % Deviation\": -4.249619649444705}, {\"date\": \"2020-06-20T00:00:00+00:00\", \"Top 20 %\": 7.07830451015198, \"Bottom 20 %\": 5.551879783694992, \"Top 20 % Deviation\": -2.526527540681383, \"Bottom 20 % Deviation\": -4.0529522671383775}, {\"date\": \"2020-06-21T00:00:00+00:00\", \"Top 20 %\": 6.888261962922572, \"Bottom 20 %\": 5.36005768697003, \"Top 20 % Deviation\": -2.7165700879107924, \"Bottom 20 % Deviation\": -4.244774363863339}, {\"date\": \"2020-06-22T00:00:00+00:00\", \"Top 20 %\": 6.864025968884759, \"Bottom 20 %\": 5.621475023582138, \"Top 20 % Deviation\": -2.7408060819486044, \"Bottom 20 % Deviation\": -3.9833570272512304}, {\"date\": \"2020-06-23T00:00:00+00:00\", \"Top 20 %\": 6.931385492143312, \"Bottom 20 %\": 5.471175372001581, \"Top 20 % Deviation\": -2.6734465586900518, \"Bottom 20 % Deviation\": -4.1336566788317874}, {\"date\": \"2020-06-24T00:00:00+00:00\", \"Top 20 %\": 7.059431230368011, \"Bottom 20 %\": 5.516871775418663, \"Top 20 % Deviation\": -2.5454008204653538, \"Bottom 20 % Deviation\": -4.087960275414706}, {\"date\": \"2020-06-25T00:00:00+00:00\", \"Top 20 %\": 7.16733147430966, \"Bottom 20 %\": 5.487902698530773, \"Top 20 % Deviation\": -2.4375005765237048, \"Bottom 20 % Deviation\": -4.116929352302596}, {\"date\": \"2020-06-26T00:00:00+00:00\", \"Top 20 %\": 7.220433157059716, \"Bottom 20 %\": 5.671983338741213, \"Top 20 % Deviation\": -2.384398893773649, \"Bottom 20 % Deviation\": -3.932848712092155}, {\"date\": \"2020-06-27T00:00:00+00:00\", \"Top 20 %\": 7.035901541934922, \"Bottom 20 %\": 5.871982322193445, \"Top 20 % Deviation\": -2.568930508898442, \"Bottom 20 % Deviation\": -3.7328497286399234}, {\"date\": \"2020-06-28T00:00:00+00:00\", \"Top 20 %\": 6.857179552659099, \"Bottom 20 %\": 5.610891207144161, \"Top 20 % Deviation\": -2.747652498174266, \"Bottom 20 % Deviation\": -3.993940843689208}, {\"date\": \"2020-06-29T00:00:00+00:00\", \"Top 20 %\": 6.789381042675187, \"Bottom 20 %\": 5.857340329531238, \"Top 20 % Deviation\": -2.8154510081581785, \"Bottom 20 % Deviation\": -3.747491721302132}, {\"date\": \"2020-06-30T00:00:00+00:00\", \"Top 20 %\": 6.913461336886973, \"Bottom 20 %\": 5.74818793697497, \"Top 20 % Deviation\": -2.6913707139463914, \"Bottom 20 % Deviation\": -3.8566441138584}, {\"date\": \"2020-07-01T00:00:00+00:00\", \"Top 20 %\": 7.122418261675901, \"Bottom 20 %\": 6.00624512083614, \"Top 20 % Deviation\": -2.482413789157463, \"Bottom 20 % Deviation\": -3.5985869299972295}, {\"date\": \"2020-07-02T00:00:00+00:00\", \"Top 20 %\": 7.190104472231558, \"Bottom 20 %\": 5.876298230766956, \"Top 20 % Deviation\": -2.414727578601807, \"Bottom 20 % Deviation\": -3.7285338200664127}, {\"date\": \"2020-07-03T00:00:00+00:00\", \"Top 20 %\": 7.087443547867925, \"Bottom 20 %\": 5.920609496571263, \"Top 20 % Deviation\": -2.51738850296544, \"Bottom 20 % Deviation\": -3.6842225542621065}, {\"date\": \"2020-07-04T00:00:00+00:00\", \"Top 20 %\": 7.198311308674204, \"Bottom 20 %\": 6.116736920321228, \"Top 20 % Deviation\": -2.4065207421591595, \"Bottom 20 % Deviation\": -3.4880951305121415}, {\"date\": \"2020-07-05T00:00:00+00:00\", \"Top 20 %\": 6.993057437733621, \"Bottom 20 %\": 6.0563633071750065, \"Top 20 % Deviation\": -2.6117746130997417, \"Bottom 20 % Deviation\": -3.548468743658362}, {\"date\": \"2020-07-06T00:00:00+00:00\", \"Top 20 %\": 6.920649595209237, \"Bottom 20 %\": 6.234187579653519, \"Top 20 % Deviation\": -2.684182455624126, \"Bottom 20 % Deviation\": -3.37064447117985}, {\"date\": \"2020-07-07T00:00:00+00:00\", \"Top 20 %\": 7.13466488441733, \"Bottom 20 %\": 6.336164505982154, \"Top 20 % Deviation\": -2.4701671664160316, \"Bottom 20 % Deviation\": -3.2686675448512155}, {\"date\": \"2020-07-08T00:00:00+00:00\", \"Top 20 %\": 7.245880253791465, \"Bottom 20 %\": 6.2411067091448, \"Top 20 % Deviation\": -2.3589517970418967, \"Bottom 20 % Deviation\": -3.36372534168857}, {\"date\": \"2020-07-09T00:00:00+00:00\", \"Top 20 %\": 7.3969864286812435, \"Bottom 20 %\": 6.390769058560741, \"Top 20 % Deviation\": -2.207845622152118, \"Bottom 20 % Deviation\": -3.214062992272629}, {\"date\": \"2020-07-10T00:00:00+00:00\", \"Top 20 %\": 7.381320462890287, \"Bottom 20 %\": 6.4050403163817675, \"Top 20 % Deviation\": -2.223511587943075, \"Bottom 20 % Deviation\": -3.199791734451602}, {\"date\": \"2020-07-11T00:00:00+00:00\", \"Top 20 %\": 7.272962816308758, \"Bottom 20 %\": 6.220919281278838, \"Top 20 % Deviation\": -2.3318692345246044, \"Bottom 20 % Deviation\": -3.3839127695545317}, {\"date\": \"2020-07-12T00:00:00+00:00\", \"Top 20 %\": 7.036572658868581, \"Bottom 20 %\": 5.993986528831059, \"Top 20 % Deviation\": -2.5682593919647823, \"Bottom 20 % Deviation\": -3.610845522002311}, {\"date\": \"2020-07-13T00:00:00+00:00\", \"Top 20 %\": 7.193211967074319, \"Bottom 20 %\": 6.345669370823636, \"Top 20 % Deviation\": -2.4116200837590425, \"Bottom 20 % Deviation\": -3.2591626800097346}, {\"date\": \"2020-07-14T00:00:00+00:00\", \"Top 20 %\": 7.088232017654766, \"Bottom 20 %\": 6.093469005537413, \"Top 20 % Deviation\": -2.5166000331785963, \"Bottom 20 % Deviation\": -3.5113630452959583}, {\"date\": \"2020-07-15T00:00:00+00:00\", \"Top 20 %\": 7.1950920367303794, \"Bottom 20 %\": 6.014938727224438, \"Top 20 % Deviation\": -2.409740014102983, \"Bottom 20 % Deviation\": -3.5898933236089334}, {\"date\": \"2020-07-16T00:00:00+00:00\", \"Top 20 %\": 7.334016092417228, \"Bottom 20 %\": 6.247020615552725, \"Top 20 % Deviation\": -2.270815958416134, \"Bottom 20 % Deviation\": -3.3578114352806465}, {\"date\": \"2020-07-17T00:00:00+00:00\", \"Top 20 %\": 7.324363353160391, \"Bottom 20 %\": 6.0640761439937405, \"Top 20 % Deviation\": -2.2804686976729722, \"Bottom 20 % Deviation\": -3.5407559068396317}, {\"date\": \"2020-07-18T00:00:00+00:00\", \"Top 20 %\": 7.22225549262483, \"Bottom 20 %\": 6.244714616528782, \"Top 20 % Deviation\": -2.382576558208531, \"Bottom 20 % Deviation\": -3.36011743430459}, {\"date\": \"2020-07-19T00:00:00+00:00\", \"Top 20 %\": 6.898527704604563, \"Bottom 20 %\": 5.963848957639954, \"Top 20 % Deviation\": -2.7063043462288, \"Bottom 20 % Deviation\": -3.6409830931934186}, {\"date\": \"2020-07-20T00:00:00+00:00\", \"Top 20 %\": 6.8348214267691505, \"Bottom 20 %\": 5.9390968651526554, \"Top 20 % Deviation\": -2.770010624064212, \"Bottom 20 % Deviation\": -3.6657351856807168}, {\"date\": \"2020-07-21T00:00:00+00:00\", \"Top 20 %\": 7.019435042979315, \"Bottom 20 %\": 6.19668706638991, \"Top 20 % Deviation\": -2.585397007854047, \"Bottom 20 % Deviation\": -3.408144984443463}, {\"date\": \"2020-07-22T00:00:00+00:00\", \"Top 20 %\": 7.29381779589975, \"Bottom 20 %\": 6.454506303710898, \"Top 20 % Deviation\": -2.3110142549336112, \"Bottom 20 % Deviation\": -3.1503257471224764}, {\"date\": \"2020-07-23T00:00:00+00:00\", \"Top 20 %\": 7.177228891841539, \"Bottom 20 %\": 6.09320091009686, \"Top 20 % Deviation\": -2.427603158991823, \"Bottom 20 % Deviation\": -3.5116311407365144}, {\"date\": \"2020-07-24T00:00:00+00:00\", \"Top 20 %\": 7.317448648309382, \"Bottom 20 %\": 6.533414404784234, \"Top 20 % Deviation\": -2.28738340252398, \"Bottom 20 % Deviation\": -3.0714176460491394}, {\"date\": \"2020-07-25T00:00:00+00:00\", \"Top 20 %\": 7.273315036146893, \"Bottom 20 %\": 6.813762125594036, \"Top 20 % Deviation\": -2.3315170146864697, \"Bottom 20 % Deviation\": -2.791069925239338}, {\"date\": \"2020-07-26T00:00:00+00:00\", \"Top 20 %\": 6.891949265382228, \"Bottom 20 %\": 6.526751980019776, \"Top 20 % Deviation\": -2.712882785451135, \"Bottom 20 % Deviation\": -3.078080070813597}, {\"date\": \"2020-07-27T00:00:00+00:00\", \"Top 20 %\": 6.9721919952462414, \"Bottom 20 %\": 6.589672059742888, \"Top 20 % Deviation\": -2.6326400555871197, \"Bottom 20 % Deviation\": -3.015159991090484}, {\"date\": \"2020-07-28T00:00:00+00:00\", \"Top 20 %\": 7.155748258735518, \"Bottom 20 %\": 6.668244971398176, \"Top 20 % Deviation\": -2.4490837920978437, \"Bottom 20 % Deviation\": -2.936587079435197}, {\"date\": \"2020-07-29T00:00:00+00:00\", \"Top 20 %\": 7.282162643473873, \"Bottom 20 %\": 6.821674330252262, \"Top 20 % Deviation\": -2.3226694073594887, \"Bottom 20 % Deviation\": -2.7831577205811113}, {\"date\": \"2020-07-30T00:00:00+00:00\", \"Top 20 %\": 7.279399573139439, \"Bottom 20 %\": 6.943948680983178, \"Top 20 % Deviation\": -2.325432477693923, \"Bottom 20 % Deviation\": -2.6608833698501946}, {\"date\": \"2020-07-31T00:00:00+00:00\", \"Top 20 %\": 7.132903831352214, \"Bottom 20 %\": 6.853913584997201, \"Top 20 % Deviation\": -2.471928219481147, \"Bottom 20 % Deviation\": -2.750918465836172}, {\"date\": \"2020-08-01T00:00:00+00:00\", \"Top 20 %\": 6.849150874216607, \"Bottom 20 %\": 6.597715876762227, \"Top 20 % Deviation\": -2.7556811766167537, \"Bottom 20 % Deviation\": -3.007116174071146}, {\"date\": \"2020-08-02T00:00:00+00:00\", \"Top 20 %\": 6.925087902252327, \"Bottom 20 %\": 6.827568533147253, \"Top 20 % Deviation\": -2.679744148581034, \"Bottom 20 % Deviation\": -2.7772635176861202}, {\"date\": \"2020-08-03T00:00:00+00:00\", \"Top 20 %\": 6.934421966363094, \"Bottom 20 %\": 6.681389220275849, \"Top 20 % Deviation\": -2.6704100844702667, \"Bottom 20 % Deviation\": -2.923442830557524}, {\"date\": \"2020-08-04T00:00:00+00:00\", \"Top 20 %\": 7.067696064487346, \"Bottom 20 %\": 6.517466847644997, \"Top 20 % Deviation\": -2.537135986346014, \"Bottom 20 % Deviation\": -3.0873652031883774}, {\"date\": \"2020-08-05T00:00:00+00:00\", \"Top 20 %\": 7.286429957135077, \"Bottom 20 %\": 6.444956376998033, \"Top 20 % Deviation\": -2.3184020936982828, \"Bottom 20 % Deviation\": -3.159875673835342}, {\"date\": \"2020-08-06T00:00:00+00:00\", \"Top 20 %\": 7.203731965784195, \"Bottom 20 %\": 6.460873359108102, \"Top 20 % Deviation\": -2.4011000850491664, \"Bottom 20 % Deviation\": -3.143958691725273}, {\"date\": \"2020-08-07T00:00:00+00:00\", \"Top 20 %\": 7.14516975075546, \"Bottom 20 %\": 6.302969361180914, \"Top 20 % Deviation\": -2.459662300077901, \"Bottom 20 % Deviation\": -3.3018626896524617}, {\"date\": \"2020-08-08T00:00:00+00:00\", \"Top 20 %\": 7.092991225060496, \"Bottom 20 %\": 6.19830811142266, \"Top 20 % Deviation\": -2.5118408257728646, \"Bottom 20 % Deviation\": -3.4065239394107154}, {\"date\": \"2020-08-09T00:00:00+00:00\", \"Top 20 %\": 6.946878214754934, \"Bottom 20 %\": 5.990897462840216, \"Top 20 % Deviation\": -2.6579538360784274, \"Bottom 20 % Deviation\": -3.613934587993158}, {\"date\": \"2020-08-10T00:00:00+00:00\", \"Top 20 %\": 7.074038443892315, \"Bottom 20 %\": 6.192769774083869, \"Top 20 % Deviation\": -2.530793606941047, \"Bottom 20 % Deviation\": -3.412062276749505}, {\"date\": \"2020-08-11T00:00:00+00:00\", \"Top 20 %\": 7.3373005482396465, \"Bottom 20 %\": 6.4159996553278065, \"Top 20 % Deviation\": -2.267531502593714, \"Bottom 20 % Deviation\": -3.1888323955055684}, {\"date\": \"2020-08-12T00:00:00+00:00\", \"Top 20 %\": 7.352779258654158, \"Bottom 20 %\": 6.232108181308435, \"Top 20 % Deviation\": -2.252052792179204, \"Bottom 20 % Deviation\": -3.3727238695249397}, {\"date\": \"2020-08-13T00:00:00+00:00\", \"Top 20 %\": 7.453109705131541, \"Bottom 20 %\": 6.206924775296329, \"Top 20 % Deviation\": -2.15172234570182, \"Bottom 20 % Deviation\": -3.397907275537045}, {\"date\": \"2020-08-14T00:00:00+00:00\", \"Top 20 %\": 7.607274481406006, \"Bottom 20 %\": 6.5023333095747535, \"Top 20 % Deviation\": -1.9975575694273544, \"Bottom 20 % Deviation\": -3.1024987412586222}, {\"date\": \"2020-08-15T00:00:00+00:00\", \"Top 20 %\": 7.661575468652079, \"Bottom 20 %\": 6.776995030311258, \"Top 20 % Deviation\": -1.9432565821812822, \"Bottom 20 % Deviation\": -2.8278370205221166}, {\"date\": \"2020-08-16T00:00:00+00:00\", \"Top 20 %\": 7.49691977281388, \"Bottom 20 %\": 6.809292020317082, \"Top 20 % Deviation\": -2.107912278019481, \"Bottom 20 % Deviation\": -2.7955400305162934}, {\"date\": \"2020-08-17T00:00:00+00:00\", \"Top 20 %\": 7.537079508415576, \"Bottom 20 %\": 6.8993288731743, \"Top 20 % Deviation\": -2.0677525424177854, \"Bottom 20 % Deviation\": -2.705503177659076}, {\"date\": \"2020-08-18T00:00:00+00:00\", \"Top 20 %\": 7.73567587346934, \"Bottom 20 %\": 6.9093646455953746, \"Top 20 % Deviation\": -1.8691561773640224, \"Bottom 20 % Deviation\": -2.6954674052380017}, {\"date\": \"2020-08-19T00:00:00+00:00\", \"Top 20 %\": 7.940753542295431, \"Bottom 20 %\": 7.060407409899737, \"Top 20 % Deviation\": -1.664078508537931, \"Bottom 20 % Deviation\": -2.544424640933639}, {\"date\": \"2020-08-20T00:00:00+00:00\", \"Top 20 %\": 7.852521015699163, \"Bottom 20 %\": 6.892403745095564, \"Top 20 % Deviation\": -1.7523110351341977, \"Bottom 20 % Deviation\": -2.712428305737812}, {\"date\": \"2020-08-21T00:00:00+00:00\", \"Top 20 %\": 7.779999139168569, \"Bottom 20 %\": 7.09568263012882, \"Top 20 % Deviation\": -1.8248329116647906, \"Bottom 20 % Deviation\": -2.509149420704556}, {\"date\": \"2020-08-22T00:00:00+00:00\", \"Top 20 %\": 7.73352013308677, \"Bottom 20 %\": 7.207628852325598, \"Top 20 % Deviation\": -1.8713119177465891, \"Bottom 20 % Deviation\": -2.397203198507778}, {\"date\": \"2020-08-23T00:00:00+00:00\", \"Top 20 %\": 7.444592913869618, \"Bottom 20 %\": 7.022861850943988, \"Top 20 % Deviation\": -2.1602391369637415, \"Bottom 20 % Deviation\": -2.5819701998893887}, {\"date\": \"2020-08-24T00:00:00+00:00\", \"Top 20 %\": 7.32062487319062, \"Bottom 20 %\": 6.914008774876334, \"Top 20 % Deviation\": -2.2842071776427404, \"Bottom 20 % Deviation\": -2.690823275957044}, {\"date\": \"2020-08-25T00:00:00+00:00\", \"Top 20 %\": 7.249910588207582, \"Bottom 20 %\": 6.729409279763661, \"Top 20 % Deviation\": -2.3549214626257777, \"Bottom 20 % Deviation\": -2.8754227710697164}, {\"date\": \"2020-08-26T00:00:00+00:00\", \"Top 20 %\": 7.46674098775159, \"Bottom 20 %\": 6.954950083885933, \"Top 20 % Deviation\": -2.13809106308177, \"Bottom 20 % Deviation\": -2.6498819669474445}, {\"date\": \"2020-08-27T00:00:00+00:00\", \"Top 20 %\": 7.4935080101718965, \"Bottom 20 %\": 7.11546610360961, \"Top 20 % Deviation\": -2.111324040661462, \"Bottom 20 % Deviation\": -2.489365947223768}, {\"date\": \"2020-08-28T00:00:00+00:00\", \"Top 20 %\": 7.467064570154699, \"Bottom 20 %\": 7.548249758610119, \"Top 20 % Deviation\": -2.137767480678659, \"Bottom 20 % Deviation\": -2.056582292223259}, {\"date\": \"2020-08-29T00:00:00+00:00\", \"Top 20 %\": 7.392576120899861, \"Bottom 20 %\": 7.479716283337032, \"Top 20 % Deviation\": -2.212255929933497, \"Bottom 20 % Deviation\": -2.1251157674963452}, {\"date\": \"2020-08-30T00:00:00+00:00\", \"Top 20 %\": 7.255858281523568, \"Bottom 20 %\": 7.729289129898534, \"Top 20 % Deviation\": -2.348973769309789, \"Bottom 20 % Deviation\": -1.8755429209348435}, {\"date\": \"2020-08-31T00:00:00+00:00\", \"Top 20 %\": 7.382865903049018, \"Bottom 20 %\": 7.606257837528105, \"Top 20 % Deviation\": -2.221966147784341, \"Bottom 20 % Deviation\": -1.9985742133052724}, {\"date\": \"2020-09-01T00:00:00+00:00\", \"Top 20 %\": 7.429851019501652, \"Bottom 20 %\": 7.429484385676704, \"Top 20 % Deviation\": -2.174981031331707, \"Bottom 20 % Deviation\": -2.1753476651566728}, {\"date\": \"2020-09-02T00:00:00+00:00\", \"Top 20 %\": 7.50504683069811, \"Bottom 20 %\": 7.414583980594372, \"Top 20 % Deviation\": -2.0997852201352485, \"Bottom 20 % Deviation\": -2.190248070239004}, {\"date\": \"2020-09-03T00:00:00+00:00\", \"Top 20 %\": 7.541079319864873, \"Bottom 20 %\": 7.106158989845326, \"Top 20 % Deviation\": -2.0637527309684858, \"Bottom 20 % Deviation\": -2.4986730609880494}, {\"date\": \"2020-09-04T00:00:00+00:00\", \"Top 20 %\": 7.709766094055378, \"Bottom 20 %\": 6.959463979807258, \"Top 20 % Deviation\": -1.8950659567779813, \"Bottom 20 % Deviation\": -2.6453680710261174}, {\"date\": \"2020-09-05T00:00:00+00:00\", \"Top 20 %\": 7.6382317267672875, \"Bottom 20 %\": 6.801343283572192, \"Top 20 % Deviation\": -1.9666003240660714, \"Bottom 20 % Deviation\": -2.8034887672611832}, {\"date\": \"2020-09-06T00:00:00+00:00\", \"Top 20 %\": 7.408408486367153, \"Bottom 20 %\": 6.486718935559824, \"Top 20 % Deviation\": -2.1964235644662056, \"Bottom 20 % Deviation\": -3.1181131152735495}, {\"date\": \"2020-09-07T00:00:00+00:00\", \"Top 20 %\": 7.199364305395706, \"Bottom 20 %\": 6.2540748477367325, \"Top 20 % Deviation\": -2.4054677454376536, \"Bottom 20 % Deviation\": -3.3507572030966415}, {\"date\": \"2020-09-08T00:00:00+00:00\", \"Top 20 %\": 7.330751395587422, \"Bottom 20 %\": 6.262740093775728, \"Top 20 % Deviation\": -2.274080655245938, \"Bottom 20 % Deviation\": -3.342091957057645}, {\"date\": \"2020-09-09T00:00:00+00:00\", \"Top 20 %\": 7.540576561886866, \"Bottom 20 %\": 6.141139977255186, \"Top 20 % Deviation\": -2.0642554889464955, \"Bottom 20 % Deviation\": -3.463692073578187}, {\"date\": \"2020-09-10T00:00:00+00:00\", \"Top 20 %\": 7.508457420672992, \"Bottom 20 %\": 6.17365627129744, \"Top 20 % Deviation\": -2.0963746301603683, \"Bottom 20 % Deviation\": -3.431175779535932}, {\"date\": \"2020-09-11T00:00:00+00:00\", \"Top 20 %\": 7.568348682852177, \"Bottom 20 %\": 6.333702148400539, \"Top 20 % Deviation\": -2.0364833679811833, \"Bottom 20 % Deviation\": -3.2711299024328326}, {\"date\": \"2020-09-12T00:00:00+00:00\", \"Top 20 %\": 7.559048540349335, \"Bottom 20 %\": 6.448093486307137, \"Top 20 % Deviation\": -2.045783510484026, \"Bottom 20 % Deviation\": -3.1567385645262354}, {\"date\": \"2020-09-13T00:00:00+00:00\", \"Top 20 %\": 7.27976002423523, \"Bottom 20 %\": 6.48957839942428, \"Top 20 % Deviation\": -2.32507202659813, \"Bottom 20 % Deviation\": -3.115253651409092}, {\"date\": \"2020-09-14T00:00:00+00:00\", \"Top 20 %\": 7.141133927694904, \"Bottom 20 %\": 6.613863665137098, \"Top 20 % Deviation\": -2.4636981231384567, \"Bottom 20 % Deviation\": -2.990968385696276}, {\"date\": \"2020-09-15T00:00:00+00:00\", \"Top 20 %\": 7.327812667459206, \"Bottom 20 %\": 7.15535741564055, \"Top 20 % Deviation\": -2.2770193833741548, \"Bottom 20 % Deviation\": -2.449474635192824}, {\"date\": \"2020-09-16T00:00:00+00:00\", \"Top 20 %\": 7.599975446903234, \"Bottom 20 %\": 7.292782212001815, \"Top 20 % Deviation\": -2.0048566039301274, \"Bottom 20 % Deviation\": -2.31204983883156}, {\"date\": \"2020-09-17T00:00:00+00:00\", \"Top 20 %\": 7.84026407714768, \"Bottom 20 %\": 7.26098504261995, \"Top 20 % Deviation\": -1.7645679736856805, \"Bottom 20 % Deviation\": -2.3438470082134253}, {\"date\": \"2020-09-18T00:00:00+00:00\", \"Top 20 %\": 7.90402016848761, \"Bottom 20 %\": 7.1363770003108495, \"Top 20 % Deviation\": -1.70081188234575, \"Bottom 20 % Deviation\": -2.4684550505225262}, {\"date\": \"2020-09-19T00:00:00+00:00\", \"Top 20 %\": 7.762286738898771, \"Bottom 20 %\": 7.395735817015226, \"Top 20 % Deviation\": -1.8425453119345883, \"Bottom 20 % Deviation\": -2.2090962338181503}, {\"date\": \"2020-09-20T00:00:00+00:00\", \"Top 20 %\": 7.4793625815082425, \"Bottom 20 %\": 7.313218645773742, \"Top 20 % Deviation\": -2.125469469325116, \"Bottom 20 % Deviation\": -2.291613405059635}, {\"date\": \"2020-09-21T00:00:00+00:00\", \"Top 20 %\": 7.470456007270059, \"Bottom 20 %\": 7.287521466418257, \"Top 20 % Deviation\": -2.134376043563299, \"Bottom 20 % Deviation\": -2.3173105844151207}, {\"date\": \"2020-09-22T00:00:00+00:00\", \"Top 20 %\": 7.568505633469551, \"Bottom 20 %\": 7.450853372572604, \"Top 20 % Deviation\": -2.0363264173638065, \"Bottom 20 % Deviation\": -2.153978678260773}, {\"date\": \"2020-09-23T00:00:00+00:00\", \"Top 20 %\": 7.77007187880308, \"Bottom 20 %\": 7.6305700281389734, \"Top 20 % Deviation\": -1.8347601720302784, \"Bottom 20 % Deviation\": -1.974262022694404}, {\"date\": \"2020-09-24T00:00:00+00:00\", \"Top 20 %\": 7.88224043898237, \"Bottom 20 %\": 7.7427524925634446, \"Top 20 % Deviation\": -1.7225916118509879, \"Bottom 20 % Deviation\": -1.8620795582699319}, {\"date\": \"2020-09-25T00:00:00+00:00\", \"Top 20 %\": 7.704085460201955, \"Bottom 20 %\": 7.018459553415991, \"Top 20 % Deviation\": -1.9007465906314038, \"Bottom 20 % Deviation\": -2.5863724974173863}, {\"date\": \"2020-09-26T00:00:00+00:00\", \"Top 20 %\": 7.622349153369285, \"Bottom 20 %\": 7.788409936880005, \"Top 20 % Deviation\": -1.9824828974640738, \"Bottom 20 % Deviation\": -1.8164221139533718}, {\"date\": \"2020-09-27T00:00:00+00:00\", \"Top 20 %\": 7.397423242543996, \"Bottom 20 %\": 7.731589600265172, \"Top 20 % Deviation\": -2.207408808289363, \"Bottom 20 % Deviation\": -1.8732424505682044}, {\"date\": \"2020-09-28T00:00:00+00:00\", \"Top 20 %\": 7.259091810677266, \"Bottom 20 %\": 7.923187339662228, \"Top 20 % Deviation\": -2.345740240156094, \"Bottom 20 % Deviation\": -1.6816447111711486}, {\"date\": \"2020-09-29T00:00:00+00:00\", \"Top 20 %\": 7.437085928868922, \"Bottom 20 %\": 7.955584885478712, \"Top 20 % Deviation\": -2.1677461219644396, \"Bottom 20 % Deviation\": -1.6492471653546645}, {\"date\": \"2020-09-30T00:00:00+00:00\", \"Top 20 %\": 7.914400730299704, \"Bottom 20 %\": 7.8627043868656035, \"Top 20 % Deviation\": -1.690431320533658, \"Bottom 20 % Deviation\": -1.7421276639677727}, {\"date\": \"2020-10-01T00:00:00+00:00\", \"Top 20 %\": 7.948905515720769, \"Bottom 20 %\": 7.613326918625594, \"Top 20 % Deviation\": -1.6559265351125934, \"Bottom 20 % Deviation\": -1.9915051322077826}, {\"date\": \"2020-10-02T00:00:00+00:00\", \"Top 20 %\": 7.932179270434792, \"Bottom 20 %\": 7.389683621523228, \"Top 20 % Deviation\": -1.6726527803985693, \"Bottom 20 % Deviation\": -2.2151484293101498}, {\"date\": \"2020-10-03T00:00:00+00:00\", \"Top 20 %\": 7.728244916076713, \"Bottom 20 %\": 7.243861943388474, \"Top 20 % Deviation\": -1.8765871347566478, \"Bottom 20 % Deviation\": -2.3609701074449037}, {\"date\": \"2020-10-04T00:00:00+00:00\", \"Top 20 %\": 7.432201210421129, \"Bottom 20 %\": 7.328720673376109, \"Top 20 % Deviation\": -2.172630840412233, \"Bottom 20 % Deviation\": -2.276111377457267}, {\"date\": \"2020-10-05T00:00:00+00:00\", \"Top 20 %\": 7.419906830679653, \"Bottom 20 %\": 7.409553246538593, \"Top 20 % Deviation\": -2.1849252201537066, \"Bottom 20 % Deviation\": -2.1952788042947837}, {\"date\": \"2020-10-06T00:00:00+00:00\", \"Top 20 %\": 7.4336098238632715, \"Bottom 20 %\": 6.5769991605396125, \"Top 20 % Deviation\": -2.1712222269700883, \"Bottom 20 % Deviation\": -3.0278328902937637}, {\"date\": \"2020-10-07T00:00:00+00:00\", \"Top 20 %\": 7.6009240576155905, \"Bottom 20 %\": 6.658146260970772, \"Top 20 % Deviation\": -2.003907993217769, \"Bottom 20 % Deviation\": -2.9466857898626055}, {\"date\": \"2020-10-08T00:00:00+00:00\", \"Top 20 %\": 7.670845306817624, \"Bottom 20 %\": 6.446579645719217, \"Top 20 % Deviation\": -1.9339867440157348, \"Bottom 20 % Deviation\": -3.158252405114161}, {\"date\": \"2020-10-09T00:00:00+00:00\", \"Top 20 %\": 7.672253223621925, \"Bottom 20 %\": 5.984024387409786, \"Top 20 % Deviation\": -1.932578827211433, \"Bottom 20 % Deviation\": -3.620807663423593}, {\"date\": \"2020-10-10T00:00:00+00:00\", \"Top 20 %\": 7.218247332485943, \"Bottom 20 %\": 5.814419217032977, \"Top 20 % Deviation\": -2.3865847183474154, \"Bottom 20 % Deviation\": -3.7904128338004015}, {\"date\": \"2020-10-11T00:00:00+00:00\", \"Top 20 %\": 7.0594367163645115, \"Bottom 20 %\": 6.1569709965363355, \"Top 20 % Deviation\": -2.5453953344688474, \"Bottom 20 % Deviation\": -3.447861054297044}, {\"date\": \"2020-10-12T00:00:00+00:00\", \"Top 20 %\": 7.013406776532415, \"Bottom 20 %\": 6.059035520958068, \"Top 20 % Deviation\": -2.5914252743009447, \"Bottom 20 % Deviation\": -3.545796529875311}, {\"date\": \"2020-10-13T00:00:00+00:00\", \"Top 20 %\": 7.249128209428628, \"Bottom 20 %\": 6.216083042754982, \"Top 20 % Deviation\": -2.355703841404732, \"Bottom 20 % Deviation\": -3.3887490080783977}, {\"date\": \"2020-10-14T00:00:00+00:00\", \"Top 20 %\": 7.6192838548537, \"Bottom 20 %\": 5.966694549972958, \"Top 20 % Deviation\": -1.9855481959796601, \"Bottom 20 % Deviation\": -3.638137500860421}, {\"date\": \"2020-10-15T00:00:00+00:00\", \"Top 20 %\": 7.665651592681836, \"Bottom 20 %\": 5.848572380688372, \"Top 20 % Deviation\": -1.9391804581515242, \"Bottom 20 % Deviation\": -3.7562596701450075}, {\"date\": \"2020-10-16T00:00:00+00:00\", \"Top 20 %\": 7.704778010292072, \"Bottom 20 %\": 5.901455550360727, \"Top 20 % Deviation\": -1.9000540405412873, \"Bottom 20 % Deviation\": -3.703376500472653}, {\"date\": \"2020-10-17T00:00:00+00:00\", \"Top 20 %\": 7.68341343654906, \"Bottom 20 %\": 6.16620561312512, \"Top 20 % Deviation\": -1.9214186142842997, \"Bottom 20 % Deviation\": -3.4386264377082596}, {\"date\": \"2020-10-18T00:00:00+00:00\", \"Top 20 %\": 7.413278055319587, \"Bottom 20 %\": 6.3488606742469305, \"Top 20 % Deviation\": -2.191553995513772, \"Bottom 20 % Deviation\": -3.255971376586449}, {\"date\": \"2020-10-19T00:00:00+00:00\", \"Top 20 %\": 7.247093071752959, \"Bottom 20 %\": 6.443860129562656, \"Top 20 % Deviation\": -2.357738979080401, \"Bottom 20 % Deviation\": -3.160971921270723}, {\"date\": \"2020-10-20T00:00:00+00:00\", \"Top 20 %\": 7.431311965952062, \"Bottom 20 %\": 6.784209734346857, \"Top 20 % Deviation\": -2.1735200848812957, \"Bottom 20 % Deviation\": -2.820622316486522}, {\"date\": \"2020-10-21T00:00:00+00:00\", \"Top 20 %\": 7.652517842675375, \"Bottom 20 %\": 6.5273859266771, \"Top 20 % Deviation\": -1.952314208157982, \"Bottom 20 % Deviation\": -3.077446124156279}, {\"date\": \"2020-10-22T00:00:00+00:00\", \"Top 20 %\": 7.936823560028685, \"Bottom 20 %\": 6.826078412278038, \"Top 20 % Deviation\": -1.6680084908046724, \"Bottom 20 % Deviation\": -2.778753638555341}, {\"date\": \"2020-10-23T00:00:00+00:00\", \"Top 20 %\": 7.860924782143026, \"Bottom 20 %\": 6.68918971501194, \"Top 20 % Deviation\": -1.743907268690331, \"Bottom 20 % Deviation\": -2.915642335821439}, {\"date\": \"2020-10-24T00:00:00+00:00\", \"Top 20 %\": 7.552965019231732, \"Bottom 20 %\": 6.520144291034209, \"Top 20 % Deviation\": -2.051867031601625, \"Bottom 20 % Deviation\": -3.08468775979917}, {\"date\": \"2020-10-25T00:00:00+00:00\", \"Top 20 %\": 7.399615309990895, \"Bottom 20 %\": 7.265881638078708, \"Top 20 % Deviation\": -2.2052167408424617, \"Bottom 20 % Deviation\": -2.338950412754671}, {\"date\": \"2020-10-26T00:00:00+00:00\", \"Top 20 %\": 7.381558750908684, \"Bottom 20 %\": 7.127164876176279, \"Top 20 % Deviation\": -2.2232732999246734, \"Bottom 20 % Deviation\": -2.4776671746571006}, {\"date\": \"2020-10-27T00:00:00+00:00\", \"Top 20 %\": 7.524976586185268, \"Bottom 20 %\": 7.578071090396136, \"Top 20 % Deviation\": -2.0798554646480896, \"Bottom 20 % Deviation\": -2.026760960437244}, {\"date\": \"2020-10-28T00:00:00+00:00\", \"Top 20 %\": 7.892964929400014, \"Bottom 20 %\": 7.6005974179074745, \"Top 20 % Deviation\": -1.7118671214333427, \"Bottom 20 % Deviation\": -2.004234632925907}, {\"date\": \"2020-10-29T00:00:00+00:00\", \"Top 20 %\": 7.9260737783920066, \"Bottom 20 %\": 7.489012570947411, \"Top 20 % Deviation\": -1.6787582724413508, \"Bottom 20 % Deviation\": -2.11581947988597}, {\"date\": \"2020-10-30T00:00:00+00:00\", \"Top 20 %\": 7.884216248472377, \"Bottom 20 %\": 7.376958582781566, \"Top 20 % Deviation\": -1.7206158023609799, \"Bottom 20 % Deviation\": -2.227873468051815}, {\"date\": \"2020-10-31T00:00:00+00:00\", \"Top 20 %\": 7.670472506664534, \"Bottom 20 %\": 7.478573469288594, \"Top 20 % Deviation\": -1.9343595441688237, \"Bottom 20 % Deviation\": -2.1262585815447883}, {\"date\": \"2020-11-01T00:00:00+00:00\", \"Top 20 %\": 7.372257082924013, \"Bottom 20 %\": 7.473813733400225, \"Top 20 % Deviation\": -2.2325749679093456, \"Bottom 20 % Deviation\": -2.1310183174331563}, {\"date\": \"2020-11-02T00:00:00+00:00\", \"Top 20 %\": 7.425959731308417, \"Bottom 20 %\": 7.651213494972661, \"Top 20 % Deviation\": -2.178872319524942, \"Bottom 20 % Deviation\": -1.9536185558607202}, {\"date\": \"2020-11-03T00:00:00+00:00\", \"Top 20 %\": 7.5612668528359475, \"Bottom 20 %\": 7.910860966238634, \"Top 20 % Deviation\": -2.0435651979974105, \"Bottom 20 % Deviation\": -1.6939710845947467}, {\"date\": \"2020-11-04T00:00:00+00:00\", \"Top 20 %\": 7.7631303712312185, \"Bottom 20 %\": 7.437836610533026, \"Top 20 % Deviation\": -1.8417016796021404, \"Bottom 20 % Deviation\": -2.1669954403003553}, {\"date\": \"2020-11-05T00:00:00+00:00\", \"Top 20 %\": 7.774972831650456, \"Bottom 20 %\": 7.457671416828132, \"Top 20 % Deviation\": -1.829859219182903, \"Bottom 20 % Deviation\": -2.1471606340052483}, {\"date\": \"2020-11-06T00:00:00+00:00\", \"Top 20 %\": 7.646840475385078, \"Bottom 20 %\": 6.605695758537803, \"Top 20 % Deviation\": -1.9579915754482815, \"Bottom 20 % Deviation\": -2.9991362922955775}, {\"date\": \"2020-11-07T00:00:00+00:00\", \"Top 20 %\": 7.392166638736302, \"Bottom 20 %\": 6.648615345950283, \"Top 20 % Deviation\": -2.2126654120970572, \"Bottom 20 % Deviation\": -2.956216704883097}, {\"date\": \"2020-11-08T00:00:00+00:00\", \"Top 20 %\": 7.124998638501715, \"Bottom 20 %\": 6.453196435809862, \"Top 20 % Deviation\": -2.4798334123316446, \"Bottom 20 % Deviation\": -3.151635615023518}, {\"date\": \"2020-11-09T00:00:00+00:00\", \"Top 20 %\": 7.364833222207426, \"Bottom 20 %\": 6.303487587545403, \"Top 20 % Deviation\": -2.2399988286259336, \"Bottom 20 % Deviation\": -3.3013444632879767}, {\"date\": \"2020-11-10T00:00:00+00:00\", \"Top 20 %\": 7.633188877437566, \"Bottom 20 %\": 6.198672473882488, \"Top 20 % Deviation\": -1.971643173395794, \"Bottom 20 % Deviation\": -3.4061595769508926}, {\"date\": \"2020-11-11T00:00:00+00:00\", \"Top 20 %\": 7.6756785363086735, \"Bottom 20 %\": 6.092064989523926, \"Top 20 % Deviation\": -1.929153514524686, \"Bottom 20 % Deviation\": -3.5127670613094546}, {\"date\": \"2020-11-12T00:00:00+00:00\", \"Top 20 %\": 7.734971474425073, \"Bottom 20 %\": 6.039562106441058, \"Top 20 % Deviation\": -1.8698605764082856, \"Bottom 20 % Deviation\": -3.565269944392322}, {\"date\": \"2020-11-13T00:00:00+00:00\", \"Top 20 %\": 7.918978944453665, \"Bottom 20 %\": 6.189352313744722, \"Top 20 % Deviation\": -1.6858531063796949, \"Bottom 20 % Deviation\": -3.4154797370886585}, {\"date\": \"2020-11-14T00:00:00+00:00\", \"Top 20 %\": 7.659827161725168, \"Bottom 20 %\": 6.087372864996498, \"Top 20 % Deviation\": -1.9450048891081912, \"Bottom 20 % Deviation\": -3.517459185836883}, {\"date\": \"2020-11-15T00:00:00+00:00\", \"Top 20 %\": 7.422402802529066, \"Bottom 20 %\": 6.308401916149808, \"Top 20 % Deviation\": -2.182429248304293, \"Bottom 20 % Deviation\": -3.296430134683573}, {\"date\": \"2020-11-16T00:00:00+00:00\", \"Top 20 %\": 7.617771151114598, \"Bottom 20 %\": 6.40776279753551, \"Top 20 % Deviation\": -1.9870608997187624, \"Bottom 20 % Deviation\": -3.1970692532978715}, {\"date\": \"2020-11-17T00:00:00+00:00\", \"Top 20 %\": 7.808521460625142, \"Bottom 20 %\": 6.29441542674814, \"Top 20 % Deviation\": -1.7963105902082177, \"Bottom 20 % Deviation\": -3.3104166240852413}, {\"date\": \"2020-11-18T00:00:00+00:00\", \"Top 20 %\": 8.106613840955237, \"Bottom 20 %\": 6.2985644033801345, \"Top 20 % Deviation\": -1.4982182098781216, \"Bottom 20 % Deviation\": -3.3062676474532466}, {\"date\": \"2020-11-19T00:00:00+00:00\", \"Top 20 %\": 7.992081200833498, \"Bottom 20 %\": 6.351859914718762, \"Top 20 % Deviation\": -1.612750849999862, \"Bottom 20 % Deviation\": -3.252972136114618}, {\"date\": \"2020-11-20T00:00:00+00:00\", \"Top 20 %\": 7.976061812899434, \"Bottom 20 %\": 6.369479027904502, \"Top 20 % Deviation\": -1.628770237933925, \"Bottom 20 % Deviation\": -3.2353530229288774}, {\"date\": \"2020-11-21T00:00:00+00:00\", \"Top 20 %\": 8.028873232058652, \"Bottom 20 %\": 6.511861508785375, \"Top 20 % Deviation\": -1.5759588187747062, \"Bottom 20 % Deviation\": -3.092970542048003}, {\"date\": \"2020-11-22T00:00:00+00:00\", \"Top 20 %\": 7.65451407380997, \"Bottom 20 %\": 6.530439582604418, \"Top 20 % Deviation\": -1.9503179770233885, \"Bottom 20 % Deviation\": -3.07439246822896}, {\"date\": \"2020-11-23T00:00:00+00:00\", \"Top 20 %\": 7.447916572547371, \"Bottom 20 %\": 6.214081344512269, \"Top 20 % Deviation\": -2.1569154782859874, \"Bottom 20 % Deviation\": -3.3907507063211093}, {\"date\": \"2020-11-24T00:00:00+00:00\", \"Top 20 %\": 7.63440277389391, \"Bottom 20 %\": 6.2327542790678505, \"Top 20 % Deviation\": -1.9704292769394478, \"Bottom 20 % Deviation\": -3.372077771765528}, {\"date\": \"2020-11-25T00:00:00+00:00\", \"Top 20 %\": 7.827115632119447, \"Bottom 20 %\": 6.136217942131337, \"Top 20 % Deviation\": -1.7777164187139107, \"Bottom 20 % Deviation\": -3.4686141087020417}, {\"date\": \"2020-11-26T00:00:00+00:00\", \"Top 20 %\": 7.535490732115733, \"Bottom 20 %\": 6.410785152173098, \"Top 20 % Deviation\": -2.069341318717625, \"Bottom 20 % Deviation\": -3.194046898660281}, {\"date\": \"2020-11-27T00:00:00+00:00\", \"Top 20 %\": 7.269053890907026, \"Bottom 20 %\": 6.604392666652833, \"Top 20 % Deviation\": -2.335778159926332, \"Bottom 20 % Deviation\": -3.000439384180546}, {\"date\": \"2020-11-28T00:00:00+00:00\", \"Top 20 %\": 7.073471900569361, \"Bottom 20 %\": 6.705594955388459, \"Top 20 % Deviation\": -2.531360150263997, \"Bottom 20 % Deviation\": -2.899237095444921}, {\"date\": \"2020-11-29T00:00:00+00:00\", \"Top 20 %\": 6.79050384060737, \"Bottom 20 %\": 6.870522359412355, \"Top 20 % Deviation\": -2.8143282102259874, \"Bottom 20 % Deviation\": -2.734309691421025}, {\"date\": \"2020-11-30T00:00:00+00:00\", \"Top 20 %\": 6.63931350355313, \"Bottom 20 %\": 6.970564141389568, \"Top 20 % Deviation\": -2.965518547280228, \"Bottom 20 % Deviation\": -2.6342679094438117}, {\"date\": \"2020-12-01T00:00:00+00:00\", \"Top 20 %\": 6.67246425572102, \"Bottom 20 %\": 6.864171392992556, \"Top 20 % Deviation\": -2.9323677951123392, \"Bottom 20 % Deviation\": -2.7406606578408246}, {\"date\": \"2020-12-02T00:00:00+00:00\", \"Top 20 %\": 7.016109818642096, \"Bottom 20 %\": 6.976451128517117, \"Top 20 % Deviation\": -2.5887222321912637, \"Bottom 20 % Deviation\": -2.6283809223162633}, {\"date\": \"2020-12-03T00:00:00+00:00\", \"Top 20 %\": 7.172091177355654, \"Bottom 20 %\": 7.124009516404248, \"Top 20 % Deviation\": -2.4327408734777074, \"Bottom 20 % Deviation\": -2.4808225344291324}, {\"date\": \"2020-12-04T00:00:00+00:00\", \"Top 20 %\": 7.1599358932170505, \"Bottom 20 %\": 7.102433433344362, \"Top 20 % Deviation\": -2.44489615761631, \"Bottom 20 % Deviation\": -2.502398617489018}, {\"date\": \"2020-12-05T00:00:00+00:00\", \"Top 20 %\": 6.945759891069315, \"Bottom 20 %\": 7.125829706226793, \"Top 20 % Deviation\": -2.659072159764047, \"Bottom 20 % Deviation\": -2.479002344606587}, {\"date\": \"2020-12-06T00:00:00+00:00\", \"Top 20 %\": 6.734718978235399, \"Bottom 20 %\": 6.726859166654036, \"Top 20 % Deviation\": -2.8701130725979627, \"Bottom 20 % Deviation\": -2.8779728841793446}, {\"date\": \"2020-12-07T00:00:00+00:00\", \"Top 20 %\": 6.951533828483756, \"Bottom 20 %\": 6.849499594742423, \"Top 20 % Deviation\": -2.653298222349606, \"Bottom 20 % Deviation\": -2.7553324560909562}, {\"date\": \"2020-12-08T00:00:00+00:00\", \"Top 20 %\": 7.10319236266388, \"Bottom 20 %\": 6.963792505112115, \"Top 20 % Deviation\": -2.501639688169482, \"Bottom 20 % Deviation\": -2.641039545721265}, {\"date\": \"2020-12-09T00:00:00+00:00\", \"Top 20 %\": 7.414315843678421, \"Bottom 20 %\": 7.213848926566692, \"Top 20 % Deviation\": -2.1905162071549418, \"Bottom 20 % Deviation\": -2.390983124266687}, {\"date\": \"2020-12-10T00:00:00+00:00\", \"Top 20 %\": 7.472822684455684, \"Bottom 20 %\": 7.293536744603024, \"Top 20 % Deviation\": -2.132009366377679, \"Bottom 20 % Deviation\": -2.311295306230355}, {\"date\": \"2020-12-11T00:00:00+00:00\", \"Top 20 %\": 7.471026045604967, \"Bottom 20 %\": 7.355854497539052, \"Top 20 % Deviation\": -2.1338060052283967, \"Bottom 20 % Deviation\": -2.2489775532943272}, {\"date\": \"2020-12-12T00:00:00+00:00\", \"Top 20 %\": 7.320351303007835, \"Bottom 20 %\": 7.384338411327091, \"Top 20 % Deviation\": -2.284480747825527, \"Bottom 20 % Deviation\": -2.2204936395062873}, {\"date\": \"2020-12-13T00:00:00+00:00\", \"Top 20 %\": 7.024153218593247, \"Bottom 20 %\": 7.208676605065993, \"Top 20 % Deviation\": -2.580678832240115, \"Bottom 20 % Deviation\": -2.3961554457673864}, {\"date\": \"2020-12-14T00:00:00+00:00\", \"Top 20 %\": 7.067912863265084, \"Bottom 20 %\": 7.1871791906954865, \"Top 20 % Deviation\": -2.536919187568278, \"Bottom 20 % Deviation\": -2.4176528601378933}, {\"date\": \"2020-12-15T00:00:00+00:00\", \"Top 20 %\": 7.236220898119598, \"Bottom 20 %\": 7.365236417989995, \"Top 20 % Deviation\": -2.3686111527137643, \"Bottom 20 % Deviation\": -2.2395956328433844}, {\"date\": \"2020-12-16T00:00:00+00:00\", \"Top 20 %\": 7.569928512829374, \"Bottom 20 %\": 7.430496903571431, \"Top 20 % Deviation\": -2.034903538003988, \"Bottom 20 % Deviation\": -2.1743351472619485}, {\"date\": \"2020-12-17T00:00:00+00:00\", \"Top 20 %\": 7.615013227250207, \"Bottom 20 %\": 7.624869567831628, \"Top 20 % Deviation\": -1.989818823583155, \"Bottom 20 % Deviation\": -1.9799624830017528}, {\"date\": \"2020-12-18T00:00:00+00:00\", \"Top 20 %\": 7.587640381154566, \"Bottom 20 %\": 7.952060460039251, \"Top 20 % Deviation\": -2.0171916696787973, \"Bottom 20 % Deviation\": -1.6527715907941314}, {\"date\": \"2020-12-19T00:00:00+00:00\", \"Top 20 %\": 7.312740938378617, \"Bottom 20 %\": 7.562135589485211, \"Top 20 % Deviation\": -2.2920911124547456, \"Bottom 20 % Deviation\": -2.0426964613481697}, {\"date\": \"2020-12-20T00:00:00+00:00\", \"Top 20 %\": 6.990582354475639, \"Bottom 20 %\": 7.58245555659366, \"Top 20 % Deviation\": -2.614249696357724, \"Bottom 20 % Deviation\": -2.0223764942397198}, {\"date\": \"2020-12-21T00:00:00+00:00\", \"Top 20 %\": 6.806720750097538, \"Bottom 20 %\": 7.423974923320612, \"Top 20 % Deviation\": -2.7981113007358247, \"Bottom 20 % Deviation\": -2.180857127512768}, {\"date\": \"2020-12-22T00:00:00+00:00\", \"Top 20 %\": 6.883578481830964, \"Bottom 20 %\": 7.301101360594973, \"Top 20 % Deviation\": -2.7212535690024, \"Bottom 20 % Deviation\": -2.3037306902384076}, {\"date\": \"2020-12-23T00:00:00+00:00\", \"Top 20 %\": 7.04113531866812, \"Bottom 20 %\": 7.446781227644051, \"Top 20 % Deviation\": -2.563696732165244, \"Bottom 20 % Deviation\": -2.158050823189328}, {\"date\": \"2020-12-24T00:00:00+00:00\", \"Top 20 %\": 6.916039130594205, \"Bottom 20 %\": 7.544423626859292, \"Top 20 % Deviation\": -2.6887929202391567, \"Bottom 20 % Deviation\": -2.0604084239740876}, {\"date\": \"2020-12-25T00:00:00+00:00\", \"Top 20 %\": 6.733462352770748, \"Bottom 20 %\": 7.373940008747718, \"Top 20 % Deviation\": -2.871369698062614, \"Bottom 20 % Deviation\": -2.230892042085663}, {\"date\": \"2020-12-26T00:00:00+00:00\", \"Top 20 %\": 6.618277700615235, \"Bottom 20 %\": 7.259906722637043, \"Top 20 % Deviation\": -2.9865543502181273, \"Bottom 20 % Deviation\": -2.3449253281963385}, {\"date\": \"2020-12-27T00:00:00+00:00\", \"Top 20 %\": 6.248546636225522, \"Bottom 20 %\": 6.875605750867541, \"Top 20 % Deviation\": -3.3562854146078385, \"Bottom 20 % Deviation\": -2.7292262999658394}, {\"date\": \"2020-12-28T00:00:00+00:00\", \"Top 20 %\": 6.34969361701457, \"Bottom 20 %\": 6.6611531486186975, \"Top 20 % Deviation\": -3.2551384338187908, \"Bottom 20 % Deviation\": -2.9436789022146836}, {\"date\": \"2020-12-29T00:00:00+00:00\", \"Top 20 %\": 6.357554632292614, \"Bottom 20 %\": 6.9025318814780805, \"Top 20 % Deviation\": -3.2472774185407465, \"Bottom 20 % Deviation\": -2.7023001693553006}, {\"date\": \"2020-12-30T00:00:00+00:00\", \"Top 20 %\": 6.504644542319957, \"Bottom 20 %\": 7.126211273515113, \"Top 20 % Deviation\": -3.1001875085134034, \"Bottom 20 % Deviation\": -2.478620777318268}, {\"date\": \"2020-12-31T00:00:00+00:00\", \"Top 20 %\": 6.45794188663246, \"Bottom 20 %\": 7.107547671088422, \"Top 20 % Deviation\": -3.1468901642009, \"Bottom 20 % Deviation\": -2.497284379744959}]}}, {\"mode\": \"vega-lite\"});\n",
              "</script>"
            ]
          },
          "metadata": {
            "tags": []
          },
          "execution_count": 26
        },
        {
          "output_type": "stream",
          "text": [
            "time: 161 ms (started: 2021-04-22 19:11:00 +00:00)\n"
          ],
          "name": "stdout"
        }
      ]
    },
    {
      "cell_type": "code",
      "metadata": {
        "colab": {
          "base_uri": "https://localhost:8080/"
        },
        "id": "owhSJQqe7rVM",
        "outputId": "b2149fe0-72b4-406d-d28f-aff0715b8519"
      },
      "source": [
        "#Conversion of datetime format\n",
        "df['date'] = pd.to_datetime(df['date'],utc= True)\n",
        "#df['date'] = [datetime.datetime.date(d) for d in df['date']] "
      ],
      "execution_count": 27,
      "outputs": [
        {
          "output_type": "stream",
          "text": [
            "time: 6.54 ms (started: 2021-04-22 19:11:00 +00:00)\n"
          ],
          "name": "stdout"
        }
      ]
    },
    {
      "cell_type": "markdown",
      "metadata": {
        "id": "yCVL0_NiBLU0"
      },
      "source": [
        "Filtering based on important dates\n",
        "\n",
        "\n",
        "\n",
        "*   Thursday, March 19, 2020: Statewide Stay-at-Home Order Issued\n",
        "\n",
        "\n",
        "\n",
        "\n",
        "\n",
        "\n",
        "\n",
        "\n",
        "\n"
      ]
    },
    {
      "cell_type": "code",
      "metadata": {
        "colab": {
          "base_uri": "https://localhost:8080/",
          "height": 386
        },
        "id": "gelkUE5NBJps",
        "outputId": "535647b3-2290-4a2a-9d81-59faf7561a28"
      },
      "source": [
        "start_date = '2020-3-16'\n",
        "end_date = '2020-4-9'\n",
        "df1 = apply_date_filter(df,start_date,end_date)\n",
        "chart = create_chart(df1)\n",
        "chart"
      ],
      "execution_count": 28,
      "outputs": [
        {
          "output_type": "execute_result",
          "data": {
            "text/plain": [
              "alt.LayerChart(...)"
            ],
            "text/html": [
              "\n",
              "<div id=\"altair-viz-e84a8ac02356463491045541d31a7fdc\"></div>\n",
              "<script type=\"text/javascript\">\n",
              "  (function(spec, embedOpt){\n",
              "    let outputDiv = document.currentScript.previousElementSibling;\n",
              "    if (outputDiv.id !== \"altair-viz-e84a8ac02356463491045541d31a7fdc\") {\n",
              "      outputDiv = document.getElementById(\"altair-viz-e84a8ac02356463491045541d31a7fdc\");\n",
              "    }\n",
              "    const paths = {\n",
              "      \"vega\": \"https://cdn.jsdelivr.net/npm//vega@5?noext\",\n",
              "      \"vega-lib\": \"https://cdn.jsdelivr.net/npm//vega-lib?noext\",\n",
              "      \"vega-lite\": \"https://cdn.jsdelivr.net/npm//vega-lite@4.8.1?noext\",\n",
              "      \"vega-embed\": \"https://cdn.jsdelivr.net/npm//vega-embed@6?noext\",\n",
              "    };\n",
              "\n",
              "    function loadScript(lib) {\n",
              "      return new Promise(function(resolve, reject) {\n",
              "        var s = document.createElement('script');\n",
              "        s.src = paths[lib];\n",
              "        s.async = true;\n",
              "        s.onload = () => resolve(paths[lib]);\n",
              "        s.onerror = () => reject(`Error loading script: ${paths[lib]}`);\n",
              "        document.getElementsByTagName(\"head\")[0].appendChild(s);\n",
              "      });\n",
              "    }\n",
              "\n",
              "    function showError(err) {\n",
              "      outputDiv.innerHTML = `<div class=\"error\" style=\"color:red;\">${err}</div>`;\n",
              "      throw err;\n",
              "    }\n",
              "\n",
              "    function displayChart(vegaEmbed) {\n",
              "      vegaEmbed(outputDiv, spec, embedOpt)\n",
              "        .catch(err => showError(`Javascript Error: ${err.message}<br>This usually means there's a typo in your chart specification. See the javascript console for the full traceback.`));\n",
              "    }\n",
              "\n",
              "    if(typeof define === \"function\" && define.amd) {\n",
              "      requirejs.config({paths});\n",
              "      require([\"vega-embed\"], displayChart, err => showError(`Error loading script: ${err.message}`));\n",
              "    } else if (typeof vegaEmbed === \"function\") {\n",
              "      displayChart(vegaEmbed);\n",
              "    } else {\n",
              "      loadScript(\"vega\")\n",
              "        .then(() => loadScript(\"vega-lite\"))\n",
              "        .then(() => loadScript(\"vega-embed\"))\n",
              "        .catch(showError)\n",
              "        .then(() => displayChart(vegaEmbed));\n",
              "    }\n",
              "  })({\"config\": {\"view\": {\"continuousHeight\": 300, \"continuousWidth\": 400}, \"range\": {\"category\": {\"scheme\": \"redblue\"}}}, \"layer\": [{\"data\": {\"name\": \"data-48b51494ca9e263c7cc2123386267be5\"}, \"mark\": \"line\", \"encoding\": {\"color\": {\"type\": \"nominal\", \"field\": \"Poverty %\"}, \"x\": {\"type\": \"temporal\", \"field\": \"date\", \"title\": \"Date\"}, \"y\": {\"type\": \"quantitative\", \"field\": \"part_time_value\", \"title\": \"Part Time Work %\"}}, \"transform\": [{\"fold\": [\"Bottom 20 % Deviation\", \"Top 20 % Deviation\"], \"as\": [\"Poverty %\", \"part_time_value\"]}], \"width\": 1000}, {\"data\": {\"name\": \"data-7f3a6b86ed460c4e648f2393735a11f6\"}, \"mark\": {\"type\": \"rule\", \"color\": \"#757575\", \"size\": 2, \"strokeDash\": [5, 3]}, \"encoding\": {\"size\": {\"value\": 2}, \"y\": {\"type\": \"quantitative\", \"field\": \"Mean 2019\"}}}, {\"data\": {\"name\": \"data-d764767e7dd3b10b2c76c1355ce10ef3\"}, \"mark\": {\"type\": \"text\", \"angle\": 0, \"text\": \"Mean 2019\"}, \"encoding\": {\"opacity\": {\"value\": 0.4}, \"y\": {\"type\": \"quantitative\", \"field\": \"y\"}}}], \"$schema\": \"https://vega.github.io/schema/vega-lite/v4.8.1.json\", \"datasets\": {\"data-48b51494ca9e263c7cc2123386267be5\": [{\"date\": \"2020-03-26T00:00:00+00:00\", \"Top 20 %\": 6.31172142300112, \"Bottom 20 %\": 4.939140890786214, \"Top 20 % Deviation\": -3.2931106278322426, \"Bottom 20 % Deviation\": -4.665691160047149}, {\"date\": \"2020-03-25T00:00:00+00:00\", \"Top 20 %\": 6.337800061764284, \"Bottom 20 %\": 5.211859523474058, \"Top 20 % Deviation\": -3.2670319890690784, \"Bottom 20 % Deviation\": -4.392972527359304}, {\"date\": \"2020-03-20T00:00:00+00:00\", \"Top 20 %\": 5.491532200155726, \"Bottom 20 %\": 3.582585558533472, \"Top 20 % Deviation\": -4.113299850677636, \"Bottom 20 % Deviation\": -6.022246492299891}, {\"date\": \"2020-04-09T00:00:00+00:00\", \"Top 20 %\": 5.613392542978088, \"Bottom 20 %\": 4.64233702051298, \"Top 20 % Deviation\": -3.991439507855274, \"Bottom 20 % Deviation\": -4.962495030320382}, {\"date\": \"2020-03-24T00:00:00+00:00\", \"Top 20 %\": 6.33224584679098, \"Bottom 20 %\": 5.006785317104005, \"Top 20 % Deviation\": -3.2725862040423825, \"Bottom 20 % Deviation\": -4.598046733729357}, {\"date\": \"2020-03-27T00:00:00+00:00\", \"Top 20 %\": 6.9603629386347725, \"Bottom 20 %\": 5.97907314238288, \"Top 20 % Deviation\": -2.64446911219859, \"Bottom 20 % Deviation\": -3.625758908450482}, {\"date\": \"2020-03-22T00:00:00+00:00\", \"Top 20 %\": 4.630377155559541, \"Bottom 20 %\": 6.7567147614001435, \"Top 20 % Deviation\": -4.974454895273821, \"Bottom 20 % Deviation\": -2.848117289433219}, {\"date\": \"2020-03-28T00:00:00+00:00\", \"Top 20 %\": 4.11652921371746, \"Bottom 20 %\": 5.5038959065076645, \"Top 20 % Deviation\": -5.488302837115903, \"Bottom 20 % Deviation\": -4.100936144325698}, {\"date\": \"2020-04-08T00:00:00+00:00\", \"Top 20 %\": 5.0827928947483505, \"Bottom 20 %\": 4.080753815962624, \"Top 20 % Deviation\": -4.522039156085012, \"Bottom 20 % Deviation\": -5.524078234870738}, {\"date\": \"2020-03-19T00:00:00+00:00\", \"Top 20 %\": 5.960295884844884, \"Bottom 20 %\": 6.427888658885045, \"Top 20 % Deviation\": -3.6445361659884785, \"Bottom 20 % Deviation\": -3.176943391948318}, {\"date\": \"2020-04-01T00:00:00+00:00\", \"Top 20 %\": 6.06678674334393, \"Bottom 20 %\": 4.4910345551531545, \"Top 20 % Deviation\": -3.5380453074894325, \"Bottom 20 % Deviation\": -5.113797495680208}, {\"date\": \"2020-04-03T00:00:00+00:00\", \"Top 20 %\": 5.843407643717946, \"Bottom 20 %\": 6.838435256124448, \"Top 20 % Deviation\": -3.761424407115417, \"Bottom 20 % Deviation\": -2.766396794708914}, {\"date\": \"2020-04-06T00:00:00+00:00\", \"Top 20 %\": 5.191083834826057, \"Bottom 20 %\": 5.153967550257557, \"Top 20 % Deviation\": -4.413748216007305, \"Bottom 20 % Deviation\": -4.450864500575806}, {\"date\": \"2020-03-29T00:00:00+00:00\", \"Top 20 %\": 3.724408567079151, \"Bottom 20 %\": 3.8271104725327456, \"Top 20 % Deviation\": -5.880423483754211, \"Bottom 20 % Deviation\": -5.777721578300617}, {\"date\": \"2020-04-04T00:00:00+00:00\", \"Top 20 %\": 4.526814401446554, \"Bottom 20 %\": 4.802365703676588, \"Top 20 % Deviation\": -5.078017649386808, \"Bottom 20 % Deviation\": -4.802466347156774}, {\"date\": \"2020-03-17T00:00:00+00:00\", \"Top 20 %\": 8.308708088775829, \"Bottom 20 %\": 5.819434218864647, \"Top 20 % Deviation\": -1.2961239620575338, \"Bottom 20 % Deviation\": -3.785397831968716}, {\"date\": \"2020-04-02T00:00:00+00:00\", \"Top 20 %\": 6.645633710236906, \"Bottom 20 %\": 7.629261686045201, \"Top 20 % Deviation\": -2.9591983405964566, \"Bottom 20 % Deviation\": -1.9755703647881617}, {\"date\": \"2020-03-18T00:00:00+00:00\", \"Top 20 %\": 7.469479096832432, \"Bottom 20 %\": 5.521680550506001, \"Top 20 % Deviation\": -2.135352954000931, \"Bottom 20 % Deviation\": -4.083151500327362}, {\"date\": \"2020-03-31T00:00:00+00:00\", \"Top 20 %\": 7.42328959222657, \"Bottom 20 %\": 7.167635542193917, \"Top 20 % Deviation\": -2.181542458606793, \"Bottom 20 % Deviation\": -2.4371965086394454}, {\"date\": \"2020-03-23T00:00:00+00:00\", \"Top 20 %\": 5.759297644963932, \"Bottom 20 %\": 5.763444396556512, \"Top 20 % Deviation\": -3.8455344058694303, \"Bottom 20 % Deviation\": -3.8413876542768506}, {\"date\": \"2020-03-30T00:00:00+00:00\", \"Top 20 %\": 6.839165763816475, \"Bottom 20 %\": 5.305491043851772, \"Top 20 % Deviation\": -2.765666287016887, \"Bottom 20 % Deviation\": -4.2993410069815905}, {\"date\": \"2020-03-21T00:00:00+00:00\", \"Top 20 %\": 3.857487243121261, \"Bottom 20 %\": 2.9487672077613514, \"Top 20 % Deviation\": -5.747344807712102, \"Bottom 20 % Deviation\": -6.656064843072011}, {\"date\": \"2020-04-07T00:00:00+00:00\", \"Top 20 %\": 5.991754421777667, \"Bottom 20 %\": 5.398914509780949, \"Top 20 % Deviation\": -3.613077629055695, \"Bottom 20 % Deviation\": -4.205917541052414}, {\"date\": \"2020-04-05T00:00:00+00:00\", \"Top 20 %\": 3.3467906090016104, \"Bottom 20 %\": 3.6037707634327165, \"Top 20 % Deviation\": -6.258041441831752, \"Bottom 20 % Deviation\": -6.0010612874006455}], \"data-7f3a6b86ed460c4e648f2393735a11f6\": [{\"Mean 2019\": 0}], \"data-d764767e7dd3b10b2c76c1355ce10ef3\": [{\"y\": 1}]}}, {\"mode\": \"vega-lite\"});\n",
              "</script>"
            ]
          },
          "metadata": {
            "tags": []
          },
          "execution_count": 28
        },
        {
          "output_type": "stream",
          "text": [
            "time: 109 ms (started: 2021-04-22 19:11:00 +00:00)\n"
          ],
          "name": "stdout"
        }
      ]
    },
    {
      "cell_type": "markdown",
      "metadata": {
        "id": "eY48F9-7gp2q"
      },
      "source": [
        "\n",
        "\n",
        "\n",
        "*   August. 7, 2020: LA County Exceeds 200,000 Coronavirus Cases\n",
        "*   August, 12, 2020: LA County Crosses 'Tragic Milestone' Of 5,000 Coronavirus Deaths \n",
        "\n",
        "\n",
        "\n",
        "\n",
        "\n",
        "\n",
        "\n"
      ]
    },
    {
      "cell_type": "code",
      "metadata": {
        "colab": {
          "base_uri": "https://localhost:8080/",
          "height": 386
        },
        "id": "_DhDPv1GfRhR",
        "outputId": "4432f386-3c95-4a13-e9ae-6e517d1bbc8c"
      },
      "source": [
        "start_date = '2020-8-5'\n",
        "end_date = '2020-8-21'\n",
        "df2 = apply_date_filter(df,start_date,end_date)\n",
        "chart = create_chart(df2)\n",
        "chart\n",
        "#df2"
      ],
      "execution_count": 29,
      "outputs": [
        {
          "output_type": "execute_result",
          "data": {
            "text/plain": [
              "alt.LayerChart(...)"
            ],
            "text/html": [
              "\n",
              "<div id=\"altair-viz-a55e9b29ac4447b4b0fed87d98a89bf4\"></div>\n",
              "<script type=\"text/javascript\">\n",
              "  (function(spec, embedOpt){\n",
              "    let outputDiv = document.currentScript.previousElementSibling;\n",
              "    if (outputDiv.id !== \"altair-viz-a55e9b29ac4447b4b0fed87d98a89bf4\") {\n",
              "      outputDiv = document.getElementById(\"altair-viz-a55e9b29ac4447b4b0fed87d98a89bf4\");\n",
              "    }\n",
              "    const paths = {\n",
              "      \"vega\": \"https://cdn.jsdelivr.net/npm//vega@5?noext\",\n",
              "      \"vega-lib\": \"https://cdn.jsdelivr.net/npm//vega-lib?noext\",\n",
              "      \"vega-lite\": \"https://cdn.jsdelivr.net/npm//vega-lite@4.8.1?noext\",\n",
              "      \"vega-embed\": \"https://cdn.jsdelivr.net/npm//vega-embed@6?noext\",\n",
              "    };\n",
              "\n",
              "    function loadScript(lib) {\n",
              "      return new Promise(function(resolve, reject) {\n",
              "        var s = document.createElement('script');\n",
              "        s.src = paths[lib];\n",
              "        s.async = true;\n",
              "        s.onload = () => resolve(paths[lib]);\n",
              "        s.onerror = () => reject(`Error loading script: ${paths[lib]}`);\n",
              "        document.getElementsByTagName(\"head\")[0].appendChild(s);\n",
              "      });\n",
              "    }\n",
              "\n",
              "    function showError(err) {\n",
              "      outputDiv.innerHTML = `<div class=\"error\" style=\"color:red;\">${err}</div>`;\n",
              "      throw err;\n",
              "    }\n",
              "\n",
              "    function displayChart(vegaEmbed) {\n",
              "      vegaEmbed(outputDiv, spec, embedOpt)\n",
              "        .catch(err => showError(`Javascript Error: ${err.message}<br>This usually means there's a typo in your chart specification. See the javascript console for the full traceback.`));\n",
              "    }\n",
              "\n",
              "    if(typeof define === \"function\" && define.amd) {\n",
              "      requirejs.config({paths});\n",
              "      require([\"vega-embed\"], displayChart, err => showError(`Error loading script: ${err.message}`));\n",
              "    } else if (typeof vegaEmbed === \"function\") {\n",
              "      displayChart(vegaEmbed);\n",
              "    } else {\n",
              "      loadScript(\"vega\")\n",
              "        .then(() => loadScript(\"vega-lite\"))\n",
              "        .then(() => loadScript(\"vega-embed\"))\n",
              "        .catch(showError)\n",
              "        .then(() => displayChart(vegaEmbed));\n",
              "    }\n",
              "  })({\"config\": {\"view\": {\"continuousHeight\": 300, \"continuousWidth\": 400}, \"range\": {\"category\": {\"scheme\": \"redblue\"}}}, \"layer\": [{\"data\": {\"name\": \"data-4fd6eeba1fb82f5c4207d8ed2634413d\"}, \"mark\": \"line\", \"encoding\": {\"color\": {\"type\": \"nominal\", \"field\": \"Poverty %\"}, \"x\": {\"type\": \"temporal\", \"field\": \"date\", \"title\": \"Date\"}, \"y\": {\"type\": \"quantitative\", \"field\": \"part_time_value\", \"title\": \"Part Time Work %\"}}, \"transform\": [{\"fold\": [\"Bottom 20 % Deviation\", \"Top 20 % Deviation\"], \"as\": [\"Poverty %\", \"part_time_value\"]}], \"width\": 1000}, {\"data\": {\"name\": \"data-7f3a6b86ed460c4e648f2393735a11f6\"}, \"mark\": {\"type\": \"rule\", \"color\": \"#757575\", \"size\": 2, \"strokeDash\": [5, 3]}, \"encoding\": {\"size\": {\"value\": 2}, \"y\": {\"type\": \"quantitative\", \"field\": \"Mean 2019\"}}}, {\"data\": {\"name\": \"data-d764767e7dd3b10b2c76c1355ce10ef3\"}, \"mark\": {\"type\": \"text\", \"angle\": 0, \"text\": \"Mean 2019\"}, \"encoding\": {\"opacity\": {\"value\": 0.4}, \"y\": {\"type\": \"quantitative\", \"field\": \"y\"}}}], \"$schema\": \"https://vega.github.io/schema/vega-lite/v4.8.1.json\", \"datasets\": {\"data-4fd6eeba1fb82f5c4207d8ed2634413d\": [{\"date\": \"2020-08-06T00:00:00+00:00\", \"Top 20 %\": 7.537525584052326, \"Bottom 20 %\": 5.519168991282644, \"Top 20 % Deviation\": -2.0673064667810364, \"Bottom 20 % Deviation\": -4.085663059550718}, {\"date\": \"2020-08-13T00:00:00+00:00\", \"Top 20 %\": 9.068442175978205, \"Bottom 20 %\": 7.015585945620927, \"Top 20 % Deviation\": -0.536389874855157, \"Bottom 20 % Deviation\": -2.5892461052124354}, {\"date\": \"2020-08-14T00:00:00+00:00\", \"Top 20 %\": 9.536384300140204, \"Bottom 20 %\": 9.258492704223398, \"Top 20 % Deviation\": -0.06844775069315823, \"Bottom 20 % Deviation\": -0.34633934660996424}, {\"date\": \"2020-08-19T00:00:00+00:00\", \"Top 20 %\": 7.441452341275038, \"Bottom 20 %\": 6.4724624486572075, \"Top 20 % Deviation\": -2.163379709558324, \"Bottom 20 % Deviation\": -3.132369602176155}, {\"date\": \"2020-08-09T00:00:00+00:00\", \"Top 20 %\": 5.390675653014125, \"Bottom 20 %\": 4.962034805613579, \"Top 20 % Deviation\": -4.214156397819237, \"Bottom 20 % Deviation\": -4.642797245219784}, {\"date\": \"2020-08-17T00:00:00+00:00\", \"Top 20 %\": 7.6580684121203655, \"Bottom 20 %\": 6.412215364941661, \"Top 20 % Deviation\": -1.946763638712997, \"Bottom 20 % Deviation\": -3.1926166858917018}, {\"date\": \"2020-08-20T00:00:00+00:00\", \"Top 20 %\": 7.470468798542943, \"Bottom 20 %\": 6.814764134094039, \"Top 20 % Deviation\": -2.1343632522904192, \"Bottom 20 % Deviation\": -2.790067916739323}, {\"date\": \"2020-08-10T00:00:00+00:00\", \"Top 20 %\": 8.352794064505611, \"Bottom 20 %\": 8.49480078213577, \"Top 20 % Deviation\": -1.2520379863277515, \"Bottom 20 % Deviation\": -1.1100312686975933}, {\"date\": \"2020-08-21T00:00:00+00:00\", \"Top 20 %\": 7.307504418772513, \"Bottom 20 %\": 9.043550341795957, \"Top 20 % Deviation\": -2.297327632060849, \"Bottom 20 % Deviation\": -0.5612817090374058}, {\"date\": \"2020-08-08T00:00:00+00:00\", \"Top 20 %\": 6.304079116275932, \"Bottom 20 %\": 5.127656013752365, \"Top 20 % Deviation\": -3.3007529345574307, \"Bottom 20 % Deviation\": -4.477176037080998}, {\"date\": \"2020-08-12T00:00:00+00:00\", \"Top 20 %\": 7.377300795870166, \"Bottom 20 %\": 6.051209879335061, \"Top 20 % Deviation\": -2.2275312549631963, \"Bottom 20 % Deviation\": -3.5536221714983016}, {\"date\": \"2020-08-16T00:00:00+00:00\", \"Top 20 %\": 5.890968625670338, \"Bottom 20 %\": 5.842138891340877, \"Top 20 % Deviation\": -3.7138634251630247, \"Bottom 20 % Deviation\": -3.7626931594924855}, {\"date\": \"2020-08-07T00:00:00+00:00\", \"Top 20 %\": 7.256471056103407, \"Bottom 20 %\": 5.511846836369491, \"Top 20 % Deviation\": -2.3483609947299557, \"Bottom 20 % Deviation\": -4.092985214463871}, {\"date\": \"2020-08-11T00:00:00+00:00\", \"Top 20 %\": 8.032723184078442, \"Bottom 20 %\": 7.010761491463398, \"Top 20 % Deviation\": -1.5721088667549203, \"Bottom 20 % Deviation\": -2.594070559369964}, {\"date\": \"2020-08-18T00:00:00+00:00\", \"Top 20 %\": 8.290042766813563, \"Bottom 20 %\": 5.228013737963107, \"Top 20 % Deviation\": -1.314789284019799, \"Bottom 20 % Deviation\": -4.376818312870255}, {\"date\": \"2020-08-15T00:00:00+00:00\", \"Top 20 %\": 7.759358756502376, \"Bottom 20 %\": 8.8183928533159, \"Top 20 % Deviation\": -1.8454732943309864, \"Bottom 20 % Deviation\": -0.7864391975174616}], \"data-7f3a6b86ed460c4e648f2393735a11f6\": [{\"Mean 2019\": 0}], \"data-d764767e7dd3b10b2c76c1355ce10ef3\": [{\"y\": 1}]}}, {\"mode\": \"vega-lite\"});\n",
              "</script>"
            ]
          },
          "metadata": {
            "tags": []
          },
          "execution_count": 29
        },
        {
          "output_type": "stream",
          "text": [
            "time: 83.9 ms (started: 2021-04-22 19:11:00 +00:00)\n"
          ],
          "name": "stdout"
        }
      ]
    },
    {
      "cell_type": "markdown",
      "metadata": {
        "id": "mxC6dH7YiWxd"
      },
      "source": [
        "*   Oct. 14, 2020: LA County Sees Rise In Workplace Outbreaks As Infection Rate Creeps Upward\n",
        "\n",
        "\n",
        "\n"
      ]
    },
    {
      "cell_type": "code",
      "metadata": {
        "colab": {
          "base_uri": "https://localhost:8080/",
          "height": 386
        },
        "id": "KTaOPmN5fRmL",
        "outputId": "1e827db6-9188-46c7-9092-9ea3756d3c23"
      },
      "source": [
        "start_date = '2020-10-12'\n",
        "end_date = '2020-10-24'\n",
        "df3 = apply_date_filter(df,start_date,end_date)\n",
        "chart = create_chart(df3)\n",
        "chart"
      ],
      "execution_count": 30,
      "outputs": [
        {
          "output_type": "execute_result",
          "data": {
            "text/plain": [
              "alt.LayerChart(...)"
            ],
            "text/html": [
              "\n",
              "<div id=\"altair-viz-457207d711dd45ff8520c3155c0df9c5\"></div>\n",
              "<script type=\"text/javascript\">\n",
              "  (function(spec, embedOpt){\n",
              "    let outputDiv = document.currentScript.previousElementSibling;\n",
              "    if (outputDiv.id !== \"altair-viz-457207d711dd45ff8520c3155c0df9c5\") {\n",
              "      outputDiv = document.getElementById(\"altair-viz-457207d711dd45ff8520c3155c0df9c5\");\n",
              "    }\n",
              "    const paths = {\n",
              "      \"vega\": \"https://cdn.jsdelivr.net/npm//vega@5?noext\",\n",
              "      \"vega-lib\": \"https://cdn.jsdelivr.net/npm//vega-lib?noext\",\n",
              "      \"vega-lite\": \"https://cdn.jsdelivr.net/npm//vega-lite@4.8.1?noext\",\n",
              "      \"vega-embed\": \"https://cdn.jsdelivr.net/npm//vega-embed@6?noext\",\n",
              "    };\n",
              "\n",
              "    function loadScript(lib) {\n",
              "      return new Promise(function(resolve, reject) {\n",
              "        var s = document.createElement('script');\n",
              "        s.src = paths[lib];\n",
              "        s.async = true;\n",
              "        s.onload = () => resolve(paths[lib]);\n",
              "        s.onerror = () => reject(`Error loading script: ${paths[lib]}`);\n",
              "        document.getElementsByTagName(\"head\")[0].appendChild(s);\n",
              "      });\n",
              "    }\n",
              "\n",
              "    function showError(err) {\n",
              "      outputDiv.innerHTML = `<div class=\"error\" style=\"color:red;\">${err}</div>`;\n",
              "      throw err;\n",
              "    }\n",
              "\n",
              "    function displayChart(vegaEmbed) {\n",
              "      vegaEmbed(outputDiv, spec, embedOpt)\n",
              "        .catch(err => showError(`Javascript Error: ${err.message}<br>This usually means there's a typo in your chart specification. See the javascript console for the full traceback.`));\n",
              "    }\n",
              "\n",
              "    if(typeof define === \"function\" && define.amd) {\n",
              "      requirejs.config({paths});\n",
              "      require([\"vega-embed\"], displayChart, err => showError(`Error loading script: ${err.message}`));\n",
              "    } else if (typeof vegaEmbed === \"function\") {\n",
              "      displayChart(vegaEmbed);\n",
              "    } else {\n",
              "      loadScript(\"vega\")\n",
              "        .then(() => loadScript(\"vega-lite\"))\n",
              "        .then(() => loadScript(\"vega-embed\"))\n",
              "        .catch(showError)\n",
              "        .then(() => displayChart(vegaEmbed));\n",
              "    }\n",
              "  })({\"config\": {\"view\": {\"continuousHeight\": 300, \"continuousWidth\": 400}, \"range\": {\"category\": {\"scheme\": \"redblue\"}}}, \"layer\": [{\"data\": {\"name\": \"data-d563e5a20406384b9c20bd5de208916d\"}, \"mark\": \"line\", \"encoding\": {\"color\": {\"type\": \"nominal\", \"field\": \"Poverty %\"}, \"x\": {\"type\": \"temporal\", \"field\": \"date\", \"title\": \"Date\"}, \"y\": {\"type\": \"quantitative\", \"field\": \"part_time_value\", \"title\": \"Part Time Work %\"}}, \"transform\": [{\"fold\": [\"Bottom 20 % Deviation\", \"Top 20 % Deviation\"], \"as\": [\"Poverty %\", \"part_time_value\"]}], \"width\": 1000}, {\"data\": {\"name\": \"data-7f3a6b86ed460c4e648f2393735a11f6\"}, \"mark\": {\"type\": \"rule\", \"color\": \"#757575\", \"size\": 2, \"strokeDash\": [5, 3]}, \"encoding\": {\"size\": {\"value\": 2}, \"y\": {\"type\": \"quantitative\", \"field\": \"Mean 2019\"}}}, {\"data\": {\"name\": \"data-d764767e7dd3b10b2c76c1355ce10ef3\"}, \"mark\": {\"type\": \"text\", \"angle\": 0, \"text\": \"Mean 2019\"}, \"encoding\": {\"opacity\": {\"value\": 0.4}, \"y\": {\"type\": \"quantitative\", \"field\": \"y\"}}}], \"$schema\": \"https://vega.github.io/schema/vega-lite/v4.8.1.json\", \"datasets\": {\"data-d563e5a20406384b9c20bd5de208916d\": [{\"date\": \"2020-10-18T00:00:00+00:00\", \"Top 20 %\": 5.262544025101427, \"Bottom 20 %\": 6.254561585898408, \"Top 20 % Deviation\": -4.342288025731936, \"Bottom 20 % Deviation\": -3.3502704649349546}, {\"date\": \"2020-10-24T00:00:00+00:00\", \"Top 20 %\": 6.136030053548619, \"Bottom 20 %\": 4.534373235460191, \"Top 20 % Deviation\": -3.4688019972847437, \"Bottom 20 % Deviation\": -5.070458815373171}, {\"date\": \"2020-10-20T00:00:00+00:00\", \"Top 20 %\": 7.502425692922021, \"Bottom 20 %\": 8.0918680040422, \"Top 20 % Deviation\": -2.1024063579113417, \"Bottom 20 % Deviation\": -1.5129640467911631}, {\"date\": \"2020-10-21T00:00:00+00:00\", \"Top 20 %\": 8.861209239218018, \"Bottom 20 %\": 5.1099295962008915, \"Top 20 % Deviation\": -0.743622811615344, \"Bottom 20 % Deviation\": -4.494902454632471}, {\"date\": \"2020-10-15T00:00:00+00:00\", \"Top 20 %\": 7.7699001389349895, \"Bottom 20 %\": 4.315452122551888, \"Top 20 % Deviation\": -1.834931911898373, \"Bottom 20 % Deviation\": -5.289379928281474}, {\"date\": \"2020-10-17T00:00:00+00:00\", \"Top 20 %\": 7.548290351211752, \"Bottom 20 %\": 9.802205981725812, \"Top 20 % Deviation\": -2.0565416996216106, \"Bottom 20 % Deviation\": 0.19737393089245003}, {\"date\": \"2020-10-16T00:00:00+00:00\", \"Top 20 %\": 8.060065066374236, \"Bottom 20 %\": 6.148174717041288, \"Top 20 % Deviation\": -1.5447669844591267, \"Bottom 20 % Deviation\": -3.4566573337920747}, {\"date\": \"2020-10-19T00:00:00+00:00\", \"Top 20 %\": 6.916378286179337, \"Bottom 20 %\": 7.336497029775168, \"Top 20 % Deviation\": -2.6884537646540254, \"Bottom 20 % Deviation\": -2.2683350210581947}, {\"date\": \"2020-10-13T00:00:00+00:00\", \"Top 20 %\": 8.197676862593427, \"Bottom 20 %\": 7.4099861595131165, \"Top 20 % Deviation\": -1.4071551882399351, \"Bottom 20 % Deviation\": -2.194845891320246}, {\"date\": \"2020-10-14T00:00:00+00:00\", \"Top 20 %\": 9.215627682661557, \"Bottom 20 %\": 6.224827475237499, \"Top 20 % Deviation\": -0.38920436817180537, \"Bottom 20 % Deviation\": -3.380004575595864}, {\"date\": \"2020-10-22T00:00:00+00:00\", \"Top 20 %\": 10.034118255090123, \"Bottom 20 %\": 7.567281450793995, \"Top 20 % Deviation\": 0.42928620425676023, \"Bottom 20 % Deviation\": -2.037550600039367}, {\"date\": \"2020-10-23T00:00:00+00:00\", \"Top 20 %\": 7.438689083736839, \"Bottom 20 %\": 6.04109918685214, \"Top 20 % Deviation\": -2.1661429670965235, \"Bottom 20 % Deviation\": -3.5637328639812225}], \"data-7f3a6b86ed460c4e648f2393735a11f6\": [{\"Mean 2019\": 0}], \"data-d764767e7dd3b10b2c76c1355ce10ef3\": [{\"y\": 1}]}}, {\"mode\": \"vega-lite\"});\n",
              "</script>"
            ]
          },
          "metadata": {
            "tags": []
          },
          "execution_count": 30
        },
        {
          "output_type": "stream",
          "text": [
            "time: 74.2 ms (started: 2021-04-22 19:11:00 +00:00)\n"
          ],
          "name": "stdout"
        }
      ]
    },
    {
      "cell_type": "markdown",
      "metadata": {
        "id": "I1uLmyxVi6Zo"
      },
      "source": [
        "Dec. 16, 2020:\n",
        "LA County COVID-19 Deaths Hit New Record\n"
      ]
    },
    {
      "cell_type": "code",
      "metadata": {
        "colab": {
          "base_uri": "https://localhost:8080/",
          "height": 380
        },
        "id": "YZ29_JeZfRqz",
        "outputId": "9ed280db-658c-42e4-dd0c-b94772551768"
      },
      "source": [
        "start_date = '2020-12-15'\n",
        "end_date = '2020-12-31'\n",
        "df4 = apply_date_filter(df,start_date,end_date)\n",
        "chart = create_chart(df4)\n",
        "chart"
      ],
      "execution_count": 31,
      "outputs": [
        {
          "output_type": "execute_result",
          "data": {
            "text/plain": [
              "alt.LayerChart(...)"
            ],
            "text/html": [
              "\n",
              "<div id=\"altair-viz-0f6eeee59d904e538e159d72bb257b3b\"></div>\n",
              "<script type=\"text/javascript\">\n",
              "  (function(spec, embedOpt){\n",
              "    let outputDiv = document.currentScript.previousElementSibling;\n",
              "    if (outputDiv.id !== \"altair-viz-0f6eeee59d904e538e159d72bb257b3b\") {\n",
              "      outputDiv = document.getElementById(\"altair-viz-0f6eeee59d904e538e159d72bb257b3b\");\n",
              "    }\n",
              "    const paths = {\n",
              "      \"vega\": \"https://cdn.jsdelivr.net/npm//vega@5?noext\",\n",
              "      \"vega-lib\": \"https://cdn.jsdelivr.net/npm//vega-lib?noext\",\n",
              "      \"vega-lite\": \"https://cdn.jsdelivr.net/npm//vega-lite@4.8.1?noext\",\n",
              "      \"vega-embed\": \"https://cdn.jsdelivr.net/npm//vega-embed@6?noext\",\n",
              "    };\n",
              "\n",
              "    function loadScript(lib) {\n",
              "      return new Promise(function(resolve, reject) {\n",
              "        var s = document.createElement('script');\n",
              "        s.src = paths[lib];\n",
              "        s.async = true;\n",
              "        s.onload = () => resolve(paths[lib]);\n",
              "        s.onerror = () => reject(`Error loading script: ${paths[lib]}`);\n",
              "        document.getElementsByTagName(\"head\")[0].appendChild(s);\n",
              "      });\n",
              "    }\n",
              "\n",
              "    function showError(err) {\n",
              "      outputDiv.innerHTML = `<div class=\"error\" style=\"color:red;\">${err}</div>`;\n",
              "      throw err;\n",
              "    }\n",
              "\n",
              "    function displayChart(vegaEmbed) {\n",
              "      vegaEmbed(outputDiv, spec, embedOpt)\n",
              "        .catch(err => showError(`Javascript Error: ${err.message}<br>This usually means there's a typo in your chart specification. See the javascript console for the full traceback.`));\n",
              "    }\n",
              "\n",
              "    if(typeof define === \"function\" && define.amd) {\n",
              "      requirejs.config({paths});\n",
              "      require([\"vega-embed\"], displayChart, err => showError(`Error loading script: ${err.message}`));\n",
              "    } else if (typeof vegaEmbed === \"function\") {\n",
              "      displayChart(vegaEmbed);\n",
              "    } else {\n",
              "      loadScript(\"vega\")\n",
              "        .then(() => loadScript(\"vega-lite\"))\n",
              "        .then(() => loadScript(\"vega-embed\"))\n",
              "        .catch(showError)\n",
              "        .then(() => displayChart(vegaEmbed));\n",
              "    }\n",
              "  })({\"config\": {\"view\": {\"continuousHeight\": 300, \"continuousWidth\": 400}, \"range\": {\"category\": {\"scheme\": \"redblue\"}}}, \"layer\": [{\"data\": {\"name\": \"data-d0ad06ee008427e6187cd7fcb3fa0f92\"}, \"mark\": \"line\", \"encoding\": {\"color\": {\"type\": \"nominal\", \"field\": \"Poverty %\"}, \"x\": {\"type\": \"temporal\", \"field\": \"date\", \"title\": \"Date\"}, \"y\": {\"type\": \"quantitative\", \"field\": \"part_time_value\", \"title\": \"Part Time Work %\"}}, \"transform\": [{\"fold\": [\"Bottom 20 % Deviation\", \"Top 20 % Deviation\"], \"as\": [\"Poverty %\", \"part_time_value\"]}], \"width\": 1000}, {\"data\": {\"name\": \"data-7f3a6b86ed460c4e648f2393735a11f6\"}, \"mark\": {\"type\": \"rule\", \"color\": \"#757575\", \"size\": 2, \"strokeDash\": [5, 3]}, \"encoding\": {\"size\": {\"value\": 2}, \"y\": {\"type\": \"quantitative\", \"field\": \"Mean 2019\"}}}, {\"data\": {\"name\": \"data-d764767e7dd3b10b2c76c1355ce10ef3\"}, \"mark\": {\"type\": \"text\", \"angle\": 0, \"text\": \"Mean 2019\"}, \"encoding\": {\"opacity\": {\"value\": 0.4}, \"y\": {\"type\": \"quantitative\", \"field\": \"y\"}}}], \"$schema\": \"https://vega.github.io/schema/vega-lite/v4.8.1.json\", \"datasets\": {\"data-d0ad06ee008427e6187cd7fcb3fa0f92\": [{\"date\": \"2020-12-22T00:00:00+00:00\", \"Top 20 %\": 7.52333888683176, \"Bottom 20 %\": 7.654749575807873, \"Top 20 % Deviation\": -2.0814931640016026, \"Bottom 20 % Deviation\": -1.9500824750254893}, {\"date\": \"2020-12-17T00:00:00+00:00\", \"Top 20 %\": 8.257819420471405, \"Bottom 20 %\": 10.881753095546067, \"Top 20 % Deviation\": -1.3470126303619576, \"Bottom 20 % Deviation\": 1.2769210447127044}, {\"date\": \"2020-12-25T00:00:00+00:00\", \"Top 20 %\": 5.266361618872045, \"Bottom 20 %\": 6.51398112378967, \"Top 20 % Deviation\": -4.338470431961317, \"Bottom 20 % Deviation\": -3.090850927043692}, {\"date\": \"2020-12-16T00:00:00+00:00\", \"Top 20 %\": 7.965246645900579, \"Bottom 20 %\": 6.193691915382495, \"Top 20 % Deviation\": -1.6395854049327836, \"Bottom 20 % Deviation\": -3.411140135450867}, {\"date\": \"2020-12-27T00:00:00+00:00\", \"Top 20 %\": 4.560508776574287, \"Bottom 20 %\": 7.038743377851055, \"Top 20 % Deviation\": -5.044323274259075, \"Bottom 20 % Deviation\": -2.566088672982308}, {\"date\": \"2020-12-24T00:00:00+00:00\", \"Top 20 %\": 6.593464141252972, \"Bottom 20 %\": 6.7552059118628405, \"Top 20 % Deviation\": -3.0113679095803905, \"Bottom 20 % Deviation\": -2.849626138970522}, {\"date\": \"2020-12-23T00:00:00+00:00\", \"Top 20 %\": 7.436602067845089, \"Bottom 20 %\": 6.640932126986189, \"Top 20 % Deviation\": -2.168229982988273, \"Bottom 20 % Deviation\": -2.9638999238471735}, {\"date\": \"2020-12-20T00:00:00+00:00\", \"Top 20 %\": 5.098713692300777, \"Bottom 20 %\": 7.254614127719356, \"Top 20 % Deviation\": -4.506118358532586, \"Bottom 20 % Deviation\": -2.3502179231140063}, {\"date\": \"2020-12-29T00:00:00+00:00\", \"Top 20 %\": 5.948039765111891, \"Bottom 20 %\": 8.671571630963646, \"Top 20 % Deviation\": -3.6567922857214716, \"Bottom 20 % Deviation\": -0.9332604198697165}, {\"date\": \"2020-12-21T00:00:00+00:00\", \"Top 20 %\": 6.479899887378879, \"Bottom 20 %\": 5.8518777697931, \"Top 20 % Deviation\": -3.124932163454483, \"Bottom 20 % Deviation\": -3.752954281040262}, {\"date\": \"2020-12-31T00:00:00+00:00\", \"Top 20 %\": 6.012873330503915, \"Bottom 20 %\": 5.66524174552619, \"Top 20 % Deviation\": -3.5919587203294476, \"Bottom 20 % Deviation\": -3.9395903053071724}, {\"date\": \"2020-12-30T00:00:00+00:00\", \"Top 20 %\": 6.569612792574205, \"Bottom 20 %\": 9.491408048089685, \"Top 20 % Deviation\": -3.0352192582591577, \"Bottom 20 % Deviation\": -0.11342400274367748}, {\"date\": \"2020-12-26T00:00:00+00:00\", \"Top 20 %\": 6.813400124345445, \"Bottom 20 %\": 5.05335905427574, \"Top 20 % Deviation\": -2.7914319264879177, \"Bottom 20 % Deviation\": -4.551472996557623}, {\"date\": \"2020-12-18T00:00:00+00:00\", \"Top 20 %\": 6.843747554522522, \"Bottom 20 %\": 9.73481013821965, \"Top 20 % Deviation\": -2.7610844963108407, \"Bottom 20 % Deviation\": 0.1299780873862879}, {\"date\": \"2020-12-28T00:00:00+00:00\", \"Top 20 %\": 7.855217362413, \"Bottom 20 %\": 7.59028411573121, \"Top 20 % Deviation\": -1.7496146884203627, \"Bottom 20 % Deviation\": -2.0145479351021525}, {\"date\": \"2020-12-19T00:00:00+00:00\", \"Top 20 %\": 5.869429612331445, \"Bottom 20 %\": 6.257784302369818, \"Top 20 % Deviation\": -3.735402438501917, \"Bottom 20 % Deviation\": -3.3470477484635444}], \"data-7f3a6b86ed460c4e648f2393735a11f6\": [{\"Mean 2019\": 0}], \"data-d764767e7dd3b10b2c76c1355ce10ef3\": [{\"y\": 1}]}}, {\"mode\": \"vega-lite\"});\n",
              "</script>"
            ]
          },
          "metadata": {
            "tags": []
          },
          "execution_count": 31
        },
        {
          "output_type": "stream",
          "text": [
            "time: 71.2 ms (started: 2021-04-22 19:11:00 +00:00)\n"
          ],
          "name": "stdout"
        }
      ]
    },
    {
      "cell_type": "code",
      "metadata": {
        "id": "WuiHxms2fRtH"
      },
      "source": [
        ""
      ],
      "execution_count": 31,
      "outputs": []
    }
  ]
}