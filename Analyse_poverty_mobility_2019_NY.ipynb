{
  "nbformat": 4,
  "nbformat_minor": 0,
  "metadata": {
    "colab": {
      "name": "Analyse_poverty_mobility_2019_NY",
      "provenance": [],
      "authorship_tag": "ABX9TyPEKrlBWHm4+NZ9cPgni9xr",
      "include_colab_link": true
    },
    "kernelspec": {
      "name": "python3",
      "display_name": "Python 3"
    },
    "language_info": {
      "name": "python"
    }
  },
  "cells": [
    {
      "cell_type": "markdown",
      "metadata": {
        "id": "view-in-github",
        "colab_type": "text"
      },
      "source": [
        "<a href=\"https://colab.research.google.com/github/chouhandiksha/bigdataproject/blob/colab/Analyse_poverty_mobility_2019_NY.ipynb\" target=\"_parent\"><img src=\"https://colab.research.google.com/assets/colab-badge.svg\" alt=\"Open In Colab\"/></a>"
      ]
    },
    {
      "cell_type": "markdown",
      "metadata": {
        "id": "230qZTS2qUCQ"
      },
      "source": [
        "**Spark SQL Documentation:** \n",
        "https://spark.apache.org/docs/2.2.0/sql-programming-guide.html"
      ]
    },
    {
      "cell_type": "code",
      "metadata": {
        "colab": {
          "base_uri": "https://localhost:8080/"
        },
        "id": "dm89U73MqhvG",
        "outputId": "399d2993-ebad-4af4-d2aa-fb18e3289657"
      },
      "source": [
        "!pip install ipython-autotime\n",
        "\n",
        "%load_ext autotime"
      ],
      "execution_count": 1,
      "outputs": [
        {
          "output_type": "stream",
          "text": [
            "Collecting ipython-autotime\n",
            "  Downloading https://files.pythonhosted.org/packages/b4/c9/b413a24f759641bc27ef98c144b590023c8038dfb8a3f09e713e9dff12c1/ipython_autotime-0.3.1-py2.py3-none-any.whl\n",
            "Requirement already satisfied: ipython in /usr/local/lib/python3.7/dist-packages (from ipython-autotime) (5.5.0)\n",
            "Requirement already satisfied: pexpect; sys_platform != \"win32\" in /usr/local/lib/python3.7/dist-packages (from ipython->ipython-autotime) (4.8.0)\n",
            "Requirement already satisfied: pygments in /usr/local/lib/python3.7/dist-packages (from ipython->ipython-autotime) (2.6.1)\n",
            "Requirement already satisfied: simplegeneric>0.8 in /usr/local/lib/python3.7/dist-packages (from ipython->ipython-autotime) (0.8.1)\n",
            "Requirement already satisfied: decorator in /usr/local/lib/python3.7/dist-packages (from ipython->ipython-autotime) (4.4.2)\n",
            "Requirement already satisfied: traitlets>=4.2 in /usr/local/lib/python3.7/dist-packages (from ipython->ipython-autotime) (5.0.5)\n",
            "Requirement already satisfied: setuptools>=18.5 in /usr/local/lib/python3.7/dist-packages (from ipython->ipython-autotime) (54.2.0)\n",
            "Requirement already satisfied: prompt-toolkit<2.0.0,>=1.0.4 in /usr/local/lib/python3.7/dist-packages (from ipython->ipython-autotime) (1.0.18)\n",
            "Requirement already satisfied: pickleshare in /usr/local/lib/python3.7/dist-packages (from ipython->ipython-autotime) (0.7.5)\n",
            "Requirement already satisfied: ptyprocess>=0.5 in /usr/local/lib/python3.7/dist-packages (from pexpect; sys_platform != \"win32\"->ipython->ipython-autotime) (0.7.0)\n",
            "Requirement already satisfied: ipython-genutils in /usr/local/lib/python3.7/dist-packages (from traitlets>=4.2->ipython->ipython-autotime) (0.2.0)\n",
            "Requirement already satisfied: wcwidth in /usr/local/lib/python3.7/dist-packages (from prompt-toolkit<2.0.0,>=1.0.4->ipython->ipython-autotime) (0.2.5)\n",
            "Requirement already satisfied: six>=1.9.0 in /usr/local/lib/python3.7/dist-packages (from prompt-toolkit<2.0.0,>=1.0.4->ipython->ipython-autotime) (1.15.0)\n",
            "Installing collected packages: ipython-autotime\n",
            "Successfully installed ipython-autotime-0.3.1\n",
            "time: 3.64 ms (started: 2021-04-06 19:30:50 +00:00)\n"
          ],
          "name": "stdout"
        }
      ]
    },
    {
      "cell_type": "code",
      "metadata": {
        "colab": {
          "base_uri": "https://localhost:8080/"
        },
        "id": "y9S1uKjLqiNJ",
        "outputId": "c6a1cab8-c083-4e52-a1fc-8238b242ef0a"
      },
      "source": [
        "# Install required dependancies\n",
        "!pip install pyspark\n",
        "!pip install -U -q PyDrive\n",
        "!apt install openjdk-8-jdk-headless -qq\n",
        "import os\n",
        "os.environ[\"JAVA_HOME\"] = \"/usr/lib/jvm/java-8-openjdk-amd64\""
      ],
      "execution_count": 2,
      "outputs": [
        {
          "output_type": "stream",
          "text": [
            "Collecting pyspark\n",
            "\u001b[?25l  Downloading https://files.pythonhosted.org/packages/45/b0/9d6860891ab14a39d4bddf80ba26ce51c2f9dc4805e5c6978ac0472c120a/pyspark-3.1.1.tar.gz (212.3MB)\n",
            "\u001b[K     |████████████████████████████████| 212.3MB 71kB/s \n",
            "\u001b[?25hCollecting py4j==0.10.9\n",
            "\u001b[?25l  Downloading https://files.pythonhosted.org/packages/9e/b6/6a4fb90cd235dc8e265a6a2067f2a2c99f0d91787f06aca4bcf7c23f3f80/py4j-0.10.9-py2.py3-none-any.whl (198kB)\n",
            "\u001b[K     |████████████████████████████████| 204kB 32.6MB/s \n",
            "\u001b[?25hBuilding wheels for collected packages: pyspark\n",
            "  Building wheel for pyspark (setup.py) ... \u001b[?25l\u001b[?25hdone\n",
            "  Created wheel for pyspark: filename=pyspark-3.1.1-py2.py3-none-any.whl size=212767604 sha256=8f45561f4d606dcbead823072fd82d8d53517112c40945d927e984f4cba82062\n",
            "  Stored in directory: /root/.cache/pip/wheels/0b/90/c0/01de724414ef122bd05f056541fb6a0ecf47c7ca655f8b3c0f\n",
            "Successfully built pyspark\n",
            "Installing collected packages: py4j, pyspark\n",
            "Successfully installed py4j-0.10.9 pyspark-3.1.1\n",
            "The following additional packages will be installed:\n",
            "  openjdk-8-jre-headless\n",
            "Suggested packages:\n",
            "  openjdk-8-demo openjdk-8-source libnss-mdns fonts-dejavu-extra\n",
            "  fonts-ipafont-gothic fonts-ipafont-mincho fonts-wqy-microhei\n",
            "  fonts-wqy-zenhei fonts-indic\n",
            "The following NEW packages will be installed:\n",
            "  openjdk-8-jdk-headless openjdk-8-jre-headless\n",
            "0 upgraded, 2 newly installed, 0 to remove and 30 not upgraded.\n",
            "Need to get 36.5 MB of archives.\n",
            "After this operation, 143 MB of additional disk space will be used.\n",
            "Selecting previously unselected package openjdk-8-jre-headless:amd64.\n",
            "(Reading database ... 160980 files and directories currently installed.)\n",
            "Preparing to unpack .../openjdk-8-jre-headless_8u282-b08-0ubuntu1~18.04_amd64.deb ...\n",
            "Unpacking openjdk-8-jre-headless:amd64 (8u282-b08-0ubuntu1~18.04) ...\n",
            "Selecting previously unselected package openjdk-8-jdk-headless:amd64.\n",
            "Preparing to unpack .../openjdk-8-jdk-headless_8u282-b08-0ubuntu1~18.04_amd64.deb ...\n",
            "Unpacking openjdk-8-jdk-headless:amd64 (8u282-b08-0ubuntu1~18.04) ...\n",
            "Setting up openjdk-8-jre-headless:amd64 (8u282-b08-0ubuntu1~18.04) ...\n",
            "update-alternatives: using /usr/lib/jvm/java-8-openjdk-amd64/jre/bin/orbd to provide /usr/bin/orbd (orbd) in auto mode\n",
            "update-alternatives: using /usr/lib/jvm/java-8-openjdk-amd64/jre/bin/servertool to provide /usr/bin/servertool (servertool) in auto mode\n",
            "update-alternatives: using /usr/lib/jvm/java-8-openjdk-amd64/jre/bin/tnameserv to provide /usr/bin/tnameserv (tnameserv) in auto mode\n",
            "Setting up openjdk-8-jdk-headless:amd64 (8u282-b08-0ubuntu1~18.04) ...\n",
            "update-alternatives: using /usr/lib/jvm/java-8-openjdk-amd64/bin/idlj to provide /usr/bin/idlj (idlj) in auto mode\n",
            "update-alternatives: using /usr/lib/jvm/java-8-openjdk-amd64/bin/wsimport to provide /usr/bin/wsimport (wsimport) in auto mode\n",
            "update-alternatives: using /usr/lib/jvm/java-8-openjdk-amd64/bin/jsadebugd to provide /usr/bin/jsadebugd (jsadebugd) in auto mode\n",
            "update-alternatives: using /usr/lib/jvm/java-8-openjdk-amd64/bin/native2ascii to provide /usr/bin/native2ascii (native2ascii) in auto mode\n",
            "update-alternatives: using /usr/lib/jvm/java-8-openjdk-amd64/bin/javah to provide /usr/bin/javah (javah) in auto mode\n",
            "update-alternatives: using /usr/lib/jvm/java-8-openjdk-amd64/bin/hsdb to provide /usr/bin/hsdb (hsdb) in auto mode\n",
            "update-alternatives: using /usr/lib/jvm/java-8-openjdk-amd64/bin/clhsdb to provide /usr/bin/clhsdb (clhsdb) in auto mode\n",
            "update-alternatives: using /usr/lib/jvm/java-8-openjdk-amd64/bin/xjc to provide /usr/bin/xjc (xjc) in auto mode\n",
            "update-alternatives: using /usr/lib/jvm/java-8-openjdk-amd64/bin/schemagen to provide /usr/bin/schemagen (schemagen) in auto mode\n",
            "update-alternatives: using /usr/lib/jvm/java-8-openjdk-amd64/bin/extcheck to provide /usr/bin/extcheck (extcheck) in auto mode\n",
            "update-alternatives: using /usr/lib/jvm/java-8-openjdk-amd64/bin/jhat to provide /usr/bin/jhat (jhat) in auto mode\n",
            "update-alternatives: using /usr/lib/jvm/java-8-openjdk-amd64/bin/wsgen to provide /usr/bin/wsgen (wsgen) in auto mode\n",
            "time: 1min 1s (started: 2021-04-06 19:31:02 +00:00)\n"
          ],
          "name": "stdout"
        }
      ]
    },
    {
      "cell_type": "code",
      "metadata": {
        "colab": {
          "base_uri": "https://localhost:8080/"
        },
        "id": "HvVg6WwQqiea",
        "outputId": "7429aa2d-08eb-4428-a9b0-389583816ca7"
      },
      "source": [
        "# Import modules\n",
        "import numpy as np\n",
        "import pandas as pd\n",
        "import matplotlib.pyplot as plt\n",
        "from pathlib import Path\n",
        "%matplotlib inline\n",
        "\n",
        "import pyspark\n",
        "from pyspark.sql import *\n",
        "from pyspark.sql.types import *\n",
        "from pyspark.sql.functions import *\n",
        "from pyspark import SparkContext, SparkConf"
      ],
      "execution_count": 3,
      "outputs": [
        {
          "output_type": "stream",
          "text": [
            "time: 121 ms (started: 2021-04-06 19:38:40 +00:00)\n"
          ],
          "name": "stdout"
        }
      ]
    },
    {
      "cell_type": "code",
      "metadata": {
        "colab": {
          "base_uri": "https://localhost:8080/"
        },
        "id": "6v9PVIx_qxP2",
        "outputId": "9e7614c4-45e9-4fed-b299-7082e09a1b3b"
      },
      "source": [
        "import altair as alt\n",
        "alt.data_transformers.disable_max_rows()"
      ],
      "execution_count": 4,
      "outputs": [
        {
          "output_type": "execute_result",
          "data": {
            "text/plain": [
              "DataTransformerRegistry.enable('default')"
            ]
          },
          "metadata": {
            "tags": []
          },
          "execution_count": 4
        },
        {
          "output_type": "stream",
          "text": [
            "time: 260 ms (started: 2021-04-06 19:38:47 +00:00)\n"
          ],
          "name": "stdout"
        }
      ]
    },
    {
      "cell_type": "code",
      "metadata": {
        "colab": {
          "base_uri": "https://localhost:8080/"
        },
        "id": "QfjdnT8Dq0-F",
        "outputId": "e0ca6afa-fa4f-44a7-bcf7-e1f752f9c5f9"
      },
      "source": [
        "# create the session\n",
        "conf = SparkConf().set(\"spark.ui.port\", \"4050\")\n",
        "\n",
        "# create the context\n",
        "sc = pyspark.SparkContext(conf=conf)\n",
        "spark = SparkSession.builder.getOrCreate()"
      ],
      "execution_count": 5,
      "outputs": [
        {
          "output_type": "stream",
          "text": [
            "time: 5.19 s (started: 2021-04-06 19:38:52 +00:00)\n"
          ],
          "name": "stdout"
        }
      ]
    },
    {
      "cell_type": "code",
      "metadata": {
        "colab": {
          "base_uri": "https://localhost:8080/"
        },
        "id": "esJPRMWDq6sa",
        "outputId": "75e3b437-098b-416b-cda6-f9363fea0e3a"
      },
      "source": [
        "# Mount drive with data\n",
        "from google.colab import drive\n",
        "drive.mount('/content/drive')"
      ],
      "execution_count": 6,
      "outputs": [
        {
          "output_type": "stream",
          "text": [
            "Mounted at /content/drive\n",
            "time: 28.7 s (started: 2021-04-06 19:39:01 +00:00)\n"
          ],
          "name": "stdout"
        }
      ]
    },
    {
      "cell_type": "code",
      "metadata": {
        "colab": {
          "base_uri": "https://localhost:8080/"
        },
        "id": "zRiCl2LJq9wi",
        "outputId": "ae6393cf-a9b7-46d8-ad4d-cd5ed3251e8f"
      },
      "source": [
        "# Demographic Data NY\n",
        "# !ls drive/MyDrive/big-data-project/data/clean-data/ny/ny.csv\n",
        "\n",
        "# !ls drive/MyDrive/big-data-project/data/clean-data/ny/social/2019/\n"
      ],
      "execution_count": 7,
      "outputs": [
        {
          "output_type": "stream",
          "text": [
            "time: 1.38 ms (started: 2021-04-06 19:39:38 +00:00)\n"
          ],
          "name": "stdout"
        }
      ]
    },
    {
      "cell_type": "code",
      "metadata": {
        "colab": {
          "base_uri": "https://localhost:8080/"
        },
        "id": "1DreiGNArICE",
        "outputId": "a8ccfdff-8f9e-46db-8d08-9a3117cced15"
      },
      "source": [
        "# Set path to data folder\n",
        "path = Path('drive/MyDrive/big-data-project/data/clean-data')\n",
        "city = 'ny'"
      ],
      "execution_count": 8,
      "outputs": [
        {
          "output_type": "stream",
          "text": [
            "time: 1.38 ms (started: 2021-04-06 19:39:53 +00:00)\n"
          ],
          "name": "stdout"
        }
      ]
    },
    {
      "cell_type": "code",
      "metadata": {
        "colab": {
          "base_uri": "https://localhost:8080/"
        },
        "id": "gjOrrv8erP9t",
        "outputId": "1e9bc0c2-50df-40d2-a812-7aa164962176"
      },
      "source": [
        "# Read data into RDD\n",
        "rdd_soc = spark.read.format('csv').option('header','true').option('quote',\"\\\"\").option('escape',\"\\\"\").load(str(path/city/'social/2019/*.csv'))\n",
        "rdd_soc.show()"
      ],
      "execution_count": 9,
      "outputs": [
        {
          "output_type": "stream",
          "text": [
            "+---+------------+--------------------+--------------------+------------+---------------------------+--------------------------+------------------------------------------+----------------------------+----------------------+------------------------+--------------------+-------------------------------+-------------------------------+--------------------+-------------------------+--------------------------+----------------------+----------------------------+---------------------------+-----------------------------+--------------------+------------------------+--------------------------------+\n",
            "|_c0|         cbg|    date_range_start|      date_range_end|device_count|distance_traveled_from_home|bucketed_distance_traveled|median_dwell_at_bucketed_distance_traveled|completely_home_device_count|median_home_dwell_time|bucketed_home_dwell_time|at_home_by_each_hour|part_time_work_behavior_devices|full_time_work_behavior_devices|    destination_cbgs|delivery_behavior_devices|median_non_home_dwell_time|candidate_device_count|bucketed_away_from_home_time|median_percentage_time_home|bucketed_percentage_time_home|mean_home_dwell_time|mean_non_home_dwell_time|mean_distance_traveled_from_home|\n",
            "+---+------------+--------------------+--------------------+------------+---------------------------+--------------------------+------------------------------------------+----------------------------+----------------------+------------------------+--------------------+-------------------------------+-------------------------------+--------------------+-------------------------+--------------------------+----------------------+----------------------------+---------------------------+-----------------------------+--------------------+------------------------+--------------------------------+\n",
            "|146|360470064002|2019-12-20T00:00:...|2019-12-21T00:00:...|          62|                        744|      {\"16001-50000\":1,...|                      {\"16001-50000\":48...|                          18|                   558|    {\"721-1080\":12,\"3...|[34,36,36,35,38,3...|                             10|                              4|{\"360610089003\":1...|                        1|                        97|                   143|        {\"21-45\":3,\"481-5...|                         76|         {\"0-25\":7,\"76-100...|                 599|                     229|                            1044|\n",
            "|154|360810384001|2019-12-20T00:00:...|2019-12-21T00:00:...|          80|                       3558|      {\"16001-50000\":16...|                      {\"16001-50000\":40...|                          25|                   643|    {\"721-1080\":19,\"3...|[44,41,46,48,45,4...|                              6|                             11|{\"360470804003\":1...|                        8|                        40|                   169|        {\"21-45\":3,\"481-5...|                         77|         {\"0-25\":15,\"76-10...|                 630|                     226|                           26007|\n",
            "|155|360850170103|2019-12-20T00:00:...|2019-12-21T00:00:...|         230|                       1584|      {\"16001-50000\":43...|                      {\"16001-50000\":13...|                          37|                   729|    {\"721-1080\":72,\"3...|[160,162,169,163,...|                             36|                             32|{\"360610020001\":1...|                        9|                       232|                   395|        {\"21-45\":15,\"481-...|                         71|         {\"0-25\":26,\"76-10...|                 713|                     293|                            3015|\n",
            "|394|360050213021|2019-12-20T00:00:...|2019-12-21T00:00:...|          68|                        660|      {\"16001-50000\":2,...|                      {\"16001-50000\":11...|                          19|                   531|    {\"721-1080\":15,\"3...|[39,37,37,32,36,3...|                              1|                              5|{\"360610148011\":1...|                        2|                        54|                   197|        {\"21-45\":7,\"481-5...|                         80|         {\"0-25\":13,\"76-10...|                 582|                     237|                            1423|\n",
            "|395|360050253004|2019-12-20T00:00:...|2019-12-21T00:00:...|          48|                        724|      {\"16001-50000\":5,...|                      {\"16001-50000\":36...|                          19|                   583|    {\"721-1080\":10,\"3...|[26,30,25,28,25,2...|                              4|                              1|{\"360050237021\":1...|                        1|                         5|                   128|        {\"21-45\":1,\"481-5...|                         99|         {\"0-25\":5,\"76-100...|                 609|                     185|                            2230|\n",
            "|399|360470385003|2019-12-20T00:00:...|2019-12-21T00:00:...|          40|                        496|      {\"0\":11,\">50000\":...|                      {\">50000\":19,\"<10...|                          11|                   748|    {\"721-1080\":14,\"3...|[27,26,26,25,25,2...|                              2|                              2|{\"360470399003\":1...|                        2|                        61|                   103|        {\"21-45\":4,\"481-5...|                         86|         {\"0-25\":5,\"76-100...|                 710|                     158|                            2677|\n",
            "|400|360470406002|2019-12-20T00:00:...|2019-12-21T00:00:...|          53|                       1162|      {\"16001-50000\":4,...|                      {\"16001-50000\":23...|                          18|                   639|    {\"721-1080\":12,\"3...|[30,29,34,29,27,2...|                              6|                              4|{\"360470298002\":1...|                        2|                        70|                    93|        {\"21-45\":3,\"481-5...|                         86|         {\"0-25\":7,\"76-100...|                 671|                     238|                            1277|\n",
            "|401|360470428003|2019-12-20T00:00:...|2019-12-21T00:00:...|          92|                       1500|      {\"16001-50000\":12...|                      {\"16001-50000\":31...|                          20|                   648|    {\"721-1080\":14,\"3...|[56,58,57,58,57,5...|                              8|                              9|{\"360610079001\":1...|                        8|                       150|                   159|        {\"21-45\":6,\"481-5...|                         75|         {\"0-25\":21,\"76-10...|                 629|                     226|                           19204|\n",
            "|402|360471130002|2019-12-20T00:00:...|2019-12-21T00:00:...|          70|                       1756|      {\"16001-50000\":1,...|                      {\"16001-50000\":40...|                          22|                   762|    {\"721-1080\":16,\"3...|[48,48,46,46,46,4...|                             10|                              5|{\"360610089003\":1...|                        4|                       113|                   178|        {\"21-45\":1,\"481-5...|                         87|         {\"0-25\":6,\"76-100...|                 775|                     210|                            2381|\n",
            "|405|360811029001|2019-12-20T00:00:...|2019-12-21T00:00:...|         244|                       1756|      {\"16001-50000\":17...|                      {\"16001-50000\":29...|                          86|                   512|    {\"721-1080\":52,\"3...|[143,143,137,136,...|                             22|                             27|{\"360811033001\":1...|                        7|                        25|                   599|        {\"21-45\":8,\"481-5...|                         79|         {\"0-25\":46,\"76-10...|                 534|                     191|                            6471|\n",
            "|637|360050177022|2019-12-20T00:00:...|2019-12-21T00:00:...|          40|                       1174|      {\"16001-50000\":3,...|                      {\"16001-50000\":27...|                          11|                   509|    {\"721-1080\":8,\"36...|[14,16,17,17,17,1...|                              3|                              1|{\"360610034003\":1...|                        2|                        74|                   123|        {\"21-45\":3,\"481-5...|                         89|         {\"0-25\":8,\"76-100...|                 584|                     220|                            1646|\n",
            "|638|360050248002|2019-12-20T00:00:...|2019-12-21T00:00:...|          39|                       1646|      {\"16001-50000\":2,...|                      {\"16001-50000\":81...|                          13|                   619|    {\"721-1080\":7,\"36...|[25,25,24,24,27,2...|                              4|                              1|{\"360050248001\":1...|                        1|                       208|                   110|        {\"21-45\":1,\"481-5...|                         73|         {\"0-25\":5,\"76-100...|                 632|                     238|                            7331|\n",
            "|639|360050363003|2019-12-20T00:00:...|2019-12-21T00:00:...|          65|                       3593|      {\"16001-50000\":2,...|                      {\"16001-50000\":14...|                          21|                   698|    {\"721-1080\":16,\"3...|[40,42,42,40,40,3...|                              3|                              2|{\"360594071014\":1...|                        4|                        40|                   200|        {\"21-45\":9,\"481-5...|                         84|         {\"0-25\":9,\"76-100...|                 674|                     195|                            3159|\n",
            "|644|360470084003|2019-12-20T00:00:...|2019-12-21T00:00:...|          37|                        940|      {\"16001-50000\":1,...|                      {\"16001-50000\":7,...|                          10|                   580|    {\"721-1080\":8,\"36...|[22,23,25,24,27,2...|                              8|                              6|{\"360470478001\":1...|                        2|                       207|                   114|        {\"21-45\":1,\"481-5...|                         67|         {\"0-25\":4,\"76-100...|                 592|                     262|                            2534|\n",
            "|645|360470393002|2019-12-20T00:00:...|2019-12-21T00:00:...|          70|                        378|      {\"16001-50000\":3,...|                      {\"16001-50000\":5,...|                          19|                   390|    {\"721-1080\":10,\"3...|[38,34,31,33,29,2...|                              3|                              4|{\"360470405001\":1...|                        3|                        67|                   158|        {\"21-45\":8,\"481-5...|                         73|         {\"0-25\":16,\"76-10...|                 466|                     220|                            4154|\n",
            "|646|360470888003|2019-12-20T00:00:...|2019-12-21T00:00:...|          70|                       2095|      {\"16001-50000\":8,...|                      {\"16001-50000\":10...|                          12|                   677|    {\"721-1080\":12,\"3...|[34,31,38,39,37,3...|                              9|                              6|{\"360470362003\":1...|                        5|                       196|                   176|        {\"21-45\":1,\"481-5...|                         70|         {\"0-25\":6,\"76-100...|                 679|                     269|                            2928|\n",
            "|650|360610072004|2019-12-20T00:00:...|2019-12-21T00:00:...|          64|                        354|      {\"16001-50000\":1,...|                      {\"16001-50000\":41...|                          17|                   381|    {\"721-1080\":9,\"36...|[26,23,28,30,29,2...|                             10|                              4|{\"360050161003\":1...|                        1|                       162|                   170|        {\"21-45\":5,\"481-5...|                         60|         {\"0-25\":22,\"76-10...|                 477|                     360|                           46533|\n",
            "|893|360050025004|2019-12-20T00:00:...|2019-12-21T00:00:...|          57|                        355|      {\"1-1000\":17,\"200...|                      {\"2001-8000\":36,\"...|                          22|                   682|    {\"721-1080\":9,\"36...|[29,30,32,32,33,3...|                              8|                              7|{\"360471144003\":1...|                        6|                        56|                   116|        {\"21-45\":3,\"481-5...|                         94|         {\"0-25\":6,\"76-100...|                 683|                     216|                            1738|\n",
            "|894|360050043002|2019-12-20T00:00:...|2019-12-21T00:00:...|         142|                        610|      {\"16001-50000\":6,...|                      {\"16001-50000\":40...|                          46|                   593|    {\"721-1080\":28,\"3...|[77,74,76,78,75,7...|                             17|                             14|{\"360050121012\":1...|                       11|                        70|                   335|        {\"21-45\":6,\"481-5...|                         81|         {\"0-25\":28,\"76-10...|                 620|                     255|                            2118|\n",
            "|900|360470063002|2019-12-20T00:00:...|2019-12-21T00:00:...|          52|                        969|      {\"0\":12,\">50000\":...|                      {\">50000\":88,\"<10...|                          14|                   507|    {\"721-1080\":12,\"3...|[25,26,25,25,19,2...|                              7|                              7|{\"360610079001\":1...|                        1|                        99|                   154|        {\"21-45\":2,\"481-5...|                         71|         {\"0-25\":14,\"76-10...|                 512|                     210|                            9316|\n",
            "+---+------------+--------------------+--------------------+------------+---------------------------+--------------------------+------------------------------------------+----------------------------+----------------------+------------------------+--------------------+-------------------------------+-------------------------------+--------------------+-------------------------+--------------------------+----------------------+----------------------------+---------------------------+-----------------------------+--------------------+------------------------+--------------------------------+\n",
            "only showing top 20 rows\n",
            "\n",
            "time: 26.8 s (started: 2021-04-06 19:40:13 +00:00)\n"
          ],
          "name": "stdout"
        }
      ]
    },
    {
      "cell_type": "code",
      "metadata": {
        "colab": {
          "base_uri": "https://localhost:8080/"
        },
        "id": "_cGtTfE5sxYJ",
        "outputId": "4c121df7-d5ca-44a2-822d-2c1848161674"
      },
      "source": [
        "# View schema\n",
        "rdd_soc.printSchema()"
      ],
      "execution_count": 11,
      "outputs": [
        {
          "output_type": "stream",
          "text": [
            "root\n",
            " |-- _c0: string (nullable = true)\n",
            " |-- cbg: string (nullable = true)\n",
            " |-- date_range_start: string (nullable = true)\n",
            " |-- date_range_end: string (nullable = true)\n",
            " |-- device_count: string (nullable = true)\n",
            " |-- distance_traveled_from_home: string (nullable = true)\n",
            " |-- bucketed_distance_traveled: string (nullable = true)\n",
            " |-- median_dwell_at_bucketed_distance_traveled: string (nullable = true)\n",
            " |-- completely_home_device_count: string (nullable = true)\n",
            " |-- median_home_dwell_time: string (nullable = true)\n",
            " |-- bucketed_home_dwell_time: string (nullable = true)\n",
            " |-- at_home_by_each_hour: string (nullable = true)\n",
            " |-- part_time_work_behavior_devices: string (nullable = true)\n",
            " |-- full_time_work_behavior_devices: string (nullable = true)\n",
            " |-- destination_cbgs: string (nullable = true)\n",
            " |-- delivery_behavior_devices: string (nullable = true)\n",
            " |-- median_non_home_dwell_time: string (nullable = true)\n",
            " |-- candidate_device_count: string (nullable = true)\n",
            " |-- bucketed_away_from_home_time: string (nullable = true)\n",
            " |-- median_percentage_time_home: string (nullable = true)\n",
            " |-- bucketed_percentage_time_home: string (nullable = true)\n",
            " |-- mean_home_dwell_time: string (nullable = true)\n",
            " |-- mean_non_home_dwell_time: string (nullable = true)\n",
            " |-- mean_distance_traveled_from_home: string (nullable = true)\n",
            "\n",
            "time: 32 ms (started: 2021-04-06 19:41:03 +00:00)\n"
          ],
          "name": "stdout"
        }
      ]
    },
    {
      "cell_type": "code",
      "metadata": {
        "colab": {
          "base_uri": "https://localhost:8080/"
        },
        "id": "4Fg4q9h4s8Nj",
        "outputId": "289392da-39ba-4a39-88eb-cfe078c247ab"
      },
      "source": [
        "# # Take small sample of data to experiment with\n",
        "# rdd_soc = rdd_soc.limit(100)\n",
        "# rdd_soc.show()"
      ],
      "execution_count": 12,
      "outputs": [
        {
          "output_type": "stream",
          "text": [
            "time: 1.33 ms (started: 2021-04-06 19:41:23 +00:00)\n"
          ],
          "name": "stdout"
        }
      ]
    },
    {
      "cell_type": "code",
      "metadata": {
        "colab": {
          "base_uri": "https://localhost:8080/"
        },
        "id": "zRtc3y5JtCkK",
        "outputId": "ac72401f-760c-4513-8f5d-bf487f870f36"
      },
      "source": [
        "rdd_soc.createOrReplaceTempView('clean_ny')\n",
        "rdd_soc = spark.sql('SELECT cbg, date_range_start, device_count, completely_home_device_count, part_time_work_behavior_devices, full_time_work_behavior_devices FROM clean_ny')\n",
        "rdd_soc.show()"
      ],
      "execution_count": 14,
      "outputs": [
        {
          "output_type": "stream",
          "text": [
            "+------------+--------------------+------------+----------------------------+-------------------------------+-------------------------------+\n",
            "|         cbg|    date_range_start|device_count|completely_home_device_count|part_time_work_behavior_devices|full_time_work_behavior_devices|\n",
            "+------------+--------------------+------------+----------------------------+-------------------------------+-------------------------------+\n",
            "|360050177022|2019-12-27T00:00:...|          41|                           6|                              1|                              1|\n",
            "|360050248002|2019-12-27T00:00:...|          51|                          14|                              1|                              1|\n",
            "|360050363003|2019-12-27T00:00:...|          75|                          33|                              4|                              1|\n",
            "|360470084003|2019-12-27T00:00:...|          46|                           9|                              3|                              4|\n",
            "|360470393002|2019-12-27T00:00:...|          55|                          19|                              1|                              3|\n",
            "|360470888003|2019-12-27T00:00:...|          67|                          22|                              1|                              1|\n",
            "|360610072004|2019-12-27T00:00:...|          64|                           9|                              4|                              2|\n",
            "|360050213021|2019-12-27T00:00:...|          70|                          32|                              3|                              2|\n",
            "|360050253004|2019-12-27T00:00:...|          38|                          14|                              1|                              1|\n",
            "|360470385003|2019-12-27T00:00:...|          42|                          17|                              1|                              2|\n",
            "|360470406002|2019-12-27T00:00:...|          45|                          14|                              1|                              1|\n",
            "|360470428003|2019-12-27T00:00:...|          79|                          20|                              7|                              4|\n",
            "|360471130002|2019-12-27T00:00:...|          70|                          23|                              7|                              1|\n",
            "|360811029001|2019-12-27T00:00:...|         328|                         170|                              9|                             11|\n",
            "|360470064002|2019-12-27T00:00:...|          68|                          16|                              1|                              1|\n",
            "|360810384001|2019-12-27T00:00:...|          64|                          16|                              1|                              2|\n",
            "|360850170103|2019-12-27T00:00:...|         222|                          60|                             11|                             15|\n",
            "|360050414002|2019-12-27T00:00:...|          56|                          14|                              1|                              2|\n",
            "|360050424001|2019-12-27T00:00:...|          45|                          20|                              3|                              1|\n",
            "|360470076002|2019-12-27T00:00:...|          55|                           3|                              1|                              1|\n",
            "+------------+--------------------+------------+----------------------------+-------------------------------+-------------------------------+\n",
            "only showing top 20 rows\n",
            "\n",
            "time: 7.55 s (started: 2021-04-06 19:42:59 +00:00)\n"
          ],
          "name": "stdout"
        }
      ]
    },
    {
      "cell_type": "code",
      "metadata": {
        "colab": {
          "base_uri": "https://localhost:8080/"
        },
        "id": "Ki-FocbgtL9b",
        "outputId": "e77d01db-bdab-49d2-f7fe-c3bd1fe9b4f7"
      },
      "source": [
        "# View schema\n",
        "rdd_soc.printSchema()"
      ],
      "execution_count": 15,
      "outputs": [
        {
          "output_type": "stream",
          "text": [
            "root\n",
            " |-- cbg: string (nullable = true)\n",
            " |-- date_range_start: string (nullable = true)\n",
            " |-- device_count: string (nullable = true)\n",
            " |-- completely_home_device_count: string (nullable = true)\n",
            " |-- part_time_work_behavior_devices: string (nullable = true)\n",
            " |-- full_time_work_behavior_devices: string (nullable = true)\n",
            "\n",
            "time: 6.72 ms (started: 2021-04-06 19:44:06 +00:00)\n"
          ],
          "name": "stdout"
        }
      ]
    },
    {
      "cell_type": "code",
      "metadata": {
        "colab": {
          "base_uri": "https://localhost:8080/"
        },
        "id": "pwVzm52otqcK",
        "outputId": "9a0bb9c0-7af7-4c1d-ba59-9ed69f5f1498"
      },
      "source": [
        "# Add completely home percentage column\n",
        "rdd_soc = rdd_soc.withColumn('completely_home_percentage', (rdd_soc['completely_home_device_count']/rdd_soc['device_count']) * 100)\n",
        "rdd_soc = rdd_soc.withColumn('part_time_work_percentage', (rdd_soc['part_time_work_behavior_devices']/rdd_soc['device_count']) * 100)\n",
        "rdd_soc = rdd_soc.withColumn('full_time_work_percentage', (rdd_soc['full_time_work_behavior_devices']/rdd_soc['device_count']) * 100)\n",
        "\n",
        "rdd_soc.show()"
      ],
      "execution_count": 23,
      "outputs": [
        {
          "output_type": "stream",
          "text": [
            "+---+----------------+------------+----------------------------+-------------------------------+-------------------------------+--------------------------+-------------------------+-------------------------+\n",
            "|cbg|date_range_start|device_count|completely_home_device_count|part_time_work_behavior_devices|full_time_work_behavior_devices|completely_home_percentage|part_time_work_percentage|full_time_work_percentage|\n",
            "+---+----------------+------------+----------------------------+-------------------------------+-------------------------------+--------------------------+-------------------------+-------------------------+\n",
            "+---+----------------+------------+----------------------------+-------------------------------+-------------------------------+--------------------------+-------------------------+-------------------------+\n",
            "\n",
            "time: 3.16 s (started: 2021-04-06 19:50:19 +00:00)\n"
          ],
          "name": "stdout"
        }
      ]
    },
    {
      "cell_type": "code",
      "metadata": {
        "colab": {
          "base_uri": "https://localhost:8080/"
        },
        "id": "LnGD-6rbtwTf",
        "outputId": "82c17fb7-e80b-4c27-dbc8-745e6308a83b"
      },
      "source": [
        "rdd_soc.printSchema()"
      ],
      "execution_count": 18,
      "outputs": [
        {
          "output_type": "stream",
          "text": [
            "root\n",
            " |-- cbg: string (nullable = true)\n",
            " |-- date_range_start: string (nullable = true)\n",
            " |-- device_count: string (nullable = true)\n",
            " |-- completely_home_device_count: string (nullable = true)\n",
            " |-- part_time_work_behavior_devices: string (nullable = true)\n",
            " |-- full_time_work_behavior_devices: string (nullable = true)\n",
            " |-- completely_home_percentage: double (nullable = true)\n",
            " |-- part_time_work_percentage: double (nullable = true)\n",
            " |-- full_time_work_percentage: double (nullable = true)\n",
            "\n",
            "time: 2.77 ms (started: 2021-04-06 19:46:17 +00:00)\n"
          ],
          "name": "stdout"
        }
      ]
    },
    {
      "cell_type": "code",
      "metadata": {
        "colab": {
          "base_uri": "https://localhost:8080/"
        },
        "id": "DqpYx0QZuKXl",
        "outputId": "d0b6bf43-2c3d-4bee-da10-dc2c17f97031"
      },
      "source": [
        "# create temp view\n",
        "rdd_soc.createOrReplaceTempView('new_clean_ny')"
      ],
      "execution_count": 20,
      "outputs": [
        {
          "output_type": "stream",
          "text": [
            "time: 30.7 ms (started: 2021-04-06 19:46:40 +00:00)\n"
          ],
          "name": "stdout"
        }
      ]
    },
    {
      "cell_type": "code",
      "metadata": {
        "colab": {
          "base_uri": "https://localhost:8080/"
        },
        "id": "bwp9-5ENuOqT",
        "outputId": "1aee5aad-8c29-423b-d2a4-0abf6da4c945"
      },
      "source": [
        "# get mean percentage for each cbg\n",
        "rdd_soc_ny = spark.sql('SELECT cbg, AVG(completely_home_percentage) AS mean_completely_home_percentage FROM new_clean_ny GROUP BY cbg')\n",
        "rdd_soc_ny.createOrReplaceTempView('mean_completely_home')\n",
        "rdd_soc_ny.show()"
      ],
      "execution_count": 21,
      "outputs": [
        {
          "output_type": "stream",
          "text": [
            "+---+-------------------------------+\n",
            "|cbg|mean_completely_home_percentage|\n",
            "+---+-------------------------------+\n",
            "+---+-------------------------------+\n",
            "\n",
            "time: 7.13 s (started: 2021-04-06 19:47:35 +00:00)\n"
          ],
          "name": "stdout"
        }
      ]
    },
    {
      "cell_type": "code",
      "metadata": {
        "colab": {
          "base_uri": "https://localhost:8080/"
        },
        "id": "up0iCkCaudaU",
        "outputId": "c7af66c9-e58c-415f-eaaa-fa1d96cea633"
      },
      "source": [
        "# get mean percentage for full time work for each cbg\n",
        "rdd_soc_ft = spark.sql('SELECT cbg, AVG(full_time_work_percentage) AS mean_full_time_work_percentage FROM new_clean_ny GROUP BY cbg')\n",
        "rdd_soc_ft.createOrReplaceTempView('mean_fulltime_work')\n",
        "rdd_soc_ft.show()"
      ],
      "execution_count": 22,
      "outputs": [
        {
          "output_type": "stream",
          "text": [
            "+---+------------------------------+\n",
            "|cbg|mean_full_time_work_percentage|\n",
            "+---+------------------------------+\n",
            "+---+------------------------------+\n",
            "\n",
            "time: 4.75 s (started: 2021-04-06 19:48:19 +00:00)\n"
          ],
          "name": "stdout"
        }
      ]
    },
    {
      "cell_type": "code",
      "metadata": {
        "id": "fkdtq9ieuoI9"
      },
      "source": [
        ""
      ],
      "execution_count": null,
      "outputs": []
    }
  ]
}